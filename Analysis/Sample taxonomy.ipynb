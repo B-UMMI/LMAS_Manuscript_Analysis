{
 "cells": [
  {
   "cell_type": "markdown",
   "metadata": {},
   "source": [
    "# ZymoBIOMICS Microbial Community Standards Sample Composition"
   ]
  },
  {
   "cell_type": "markdown",
   "metadata": {},
   "source": [
    "The eight bacterial genomes and four plasmids of the ZymoBIOMICS Microbial Community Standards were used as reference. It contains tripled complete sequences for the following species:\n",
    "\n",
    "- Bacillus subtilis\n",
    "- Enterococcus faecalis\n",
    "- Escherichia coli\n",
    "  - Escherichia coli plasmid\n",
    "- Lactobacillus fermentum\n",
    "- Listeria monocytogenes\n",
    "- Pseudomonas aeruginosa\n",
    "- Salmonella enterica\n",
    "- Staphylococcus aureus\n",
    "  - Staphylococcus aureus plasmid 1\n",
    "  - Staphylococcus aureus plasmid 2\n",
    "  - Staphylococcus aureus plasmid 3\n",
    "\n",
    "It also downloads the raw sequence data of the mock communities, with an even and logarithmic distribution of species:\n",
    "\n",
    "- ERR2984773\n",
    "- ERR2935805 \n",
    "\n",
    "A set of simulated samples were generated from the genomes in the ZymoBIOMICS standard though the InSilicoSeq sequence simulator (version 1.5.2), including both even and logarithmic distribution, with and without Illumina error model. The number of read pairs generated matches the number of read pairs in the real data for each distribution. The following samples are available in Zenodo:\n",
    "\n",
    "- ENN - Envenly distributed sample with no error model\n",
    "- EHS - Envenly distributed sample with Illumina HiSeq error model\n",
    "- LNN - Log distributed sample with no error model\n",
    "- LHS - Log distributed sample with Illumina HiSeq error model\n"
   ]
  },
  {
   "cell_type": "markdown",
   "metadata": {},
   "source": [
    "## Imports"
   ]
  },
  {
   "cell_type": "code",
   "execution_count": 7,
   "metadata": {},
   "outputs": [],
   "source": [
    "import sys\n",
    "from plotly.offline import plot\n",
    "import glob\n",
    "import fnmatch\n",
    "import plotly.graph_objects as go\n",
    "from plotly.subplots import make_subplots\n",
    "import json\n",
    "import pandas as pd\n",
    "from itertools import groupby\n",
    "import csv\n",
    "import numpy as np\n",
    "import os"
   ]
  },
  {
   "cell_type": "code",
   "execution_count": 112,
   "metadata": {},
   "outputs": [],
   "source": [
    "SPECIES = ['Bacillus subtilis', 'Enterococcus faecalis', 'Escherichia coli', 'Lactobacillus fermentum', 'Listeria monocytogenes', \n",
    "           'Pseudomonas aeruginosa', 'Salmonella enterica', 'Staphylococcus aureus']\n",
    "COLOURS = [\"#009392\", \"#39B185\", \"#9CCB86\", \"#E9E29C\", \"#EEB479\", \"#E88471\",\"#CF597E\",'lightgray', 'darkgray', '#004B93']"
   ]
  },
  {
   "cell_type": "markdown",
   "metadata": {},
   "source": [
    "## Load Data"
   ]
  },
  {
   "cell_type": "code",
   "execution_count": 113,
   "metadata": {},
   "outputs": [
    {
     "name": "stdout",
     "output_type": "stream",
     "text": [
      "{'ENN': {'unclassified': 0.0, 'Staphylococcus aureus': 9.31, 'Bacillus subtilis': 0.05, 'Listeria monocytogenes': 7.71, 'Enterococcus faecalis': 8.09, 'Escherichia coli': 6.95, 'Salmonella enterica': 3.14, 'Pseudomonas aeruginosa': 2.81, 'other': 61.94}, 'EHS': {'unclassified': 0.0, 'Staphylococcus aureus': 9.52, 'Bacillus subtilis': 0.06, 'Listeria monocytogenes': 7.71, 'Enterococcus faecalis': 8.09, 'Escherichia coli': 7.02, 'Salmonella enterica': 3.16, 'Pseudomonas aeruginosa': 2.82, 'other': 61.62}, 'LHS': {'unclassified': 0.0, 'Escherichia coli': 23.49, 'Salmonella enterica': 1.49, 'Pseudomonas aeruginosa': 3.17, 'Staphylococcus aureus': 10.24, 'Bacillus subtilis': 0.04, 'Listeria monocytogenes': 1.8, 'Enterococcus faecalis': 8.23, 'other': 51.540000000000006}, 'ERR2984773': {'unclassified': 0.0, 'Bacillus subtilis': 0.09, 'Listeria monocytogenes': 9.9, 'Staphylococcus aureus': 2.77, 'Enterococcus faecalis': 11.03, 'Salmonella enterica': 4.23, 'Escherichia coli': 1.87, 'Pseudomonas aeruginosa': 4.58, 'other': 65.53}, 'ERR2935805': {'unclassified': 0.0, 'Listeria monocytogenes': 75.32, 'Bacillus subtilis': 0.0, 'Staphylococcus aureus': 0.0, 'Enterococcus faecalis': 0.01, 'Pseudomonas aeruginosa': 2.71, 'Salmonella enterica': 0.02, 'Escherichia coli': 0.01, 'other': 21.930000000000007}, 'LNN': {'unclassified': 0.0, 'Staphylococcus aureus': 11.29, 'Listeria monocytogenes': 4.78, 'Bacillus subtilis': 0.01, 'Enterococcus faecalis': 13.26, 'Escherichia coli': 5.33, 'Salmonella enterica': 2.3, 'Pseudomonas aeruginosa': 0.47, 'other': 62.56}}\n"
     ]
    }
   ],
   "source": [
    "kraken_report_files = glob.glob('../Kraken/*.kraken_report')\n",
    "\n",
    "kraken_data = {}\n",
    "for report in kraken_report_files:\n",
    "    sample = os.path.splitext(os.path.basename(report))[0]\n",
    "    kraken_data[sample] = {}\n",
    "    with open(report) as fh:\n",
    "        for line in fh:\n",
    "            line = line.split()\n",
    "            if 'unclassified' in line[5]:\n",
    "                kraken_data[sample]['unclassified'] = float(line[0])\n",
    "            else:\n",
    "                if line[3] == 'S':\n",
    "                    if ' '.join(line[5:]) in SPECIES:\n",
    "                        kraken_data[sample][' '.join(line[5:])] = float(line[0])\n",
    "\n",
    "\n",
    "    other = 100 - sum(kraken_data[sample].values())\n",
    "    kraken_data[sample]['other']  = other\n",
    "\n",
    "print(kraken_data)"
   ]
  },
  {
   "cell_type": "markdown",
   "metadata": {},
   "source": [
    "## Plot Data"
   ]
  },
  {
   "cell_type": "code",
   "execution_count": 114,
   "metadata": {},
   "outputs": [],
   "source": [
    "fig_kraken = make_subplots(rows=3, cols=2, shared_xaxes=True, x_title=\"Species composition\", \n",
    "                            shared_yaxes=True, y_title='PLS',\n",
    "                            subplot_titles=('LNN', 'ENN', 'LHS', 'EHS', 'ERR2935805', 'ERR2984773'))"
   ]
  },
  {
   "cell_type": "code",
   "execution_count": 115,
   "metadata": {},
   "outputs": [
    {
     "data": {
      "application/vnd.plotly.v1+json": {
       "config": {
        "plotlyServerURL": "https://plot.ly"
       },
       "data": [
        {
         "marker": {
          "color": "#009392"
         },
         "name": "Bacillus subtilis",
         "type": "bar",
         "x": [
          "LNN",
          "ENN",
          "LHS",
          "EHS",
          "ERR2935805",
          "ERR2984773"
         ],
         "y": [
          0.01,
          0.05,
          0.04,
          0.06,
          0,
          0.09
         ]
        },
        {
         "marker": {
          "color": "#39B185"
         },
         "name": "Enterococcus faecalis",
         "type": "bar",
         "x": [
          "LNN",
          "ENN",
          "LHS",
          "EHS",
          "ERR2935805",
          "ERR2984773"
         ],
         "y": [
          13.26,
          8.09,
          8.23,
          8.09,
          0.01,
          11.03
         ]
        },
        {
         "marker": {
          "color": "#9CCB86"
         },
         "name": "Escherichia coli",
         "type": "bar",
         "x": [
          "LNN",
          "ENN",
          "LHS",
          "EHS",
          "ERR2935805",
          "ERR2984773"
         ],
         "y": [
          5.33,
          6.95,
          23.49,
          7.02,
          0.01,
          1.87
         ]
        },
        {
         "marker": {
          "color": "#E9E29C"
         },
         "name": "Listeria monocytogenes",
         "type": "bar",
         "x": [
          "LNN",
          "ENN",
          "LHS",
          "EHS",
          "ERR2935805",
          "ERR2984773"
         ],
         "y": [
          4.78,
          7.71,
          1.8,
          7.71,
          75.32,
          9.9
         ]
        },
        {
         "marker": {
          "color": "#EEB479"
         },
         "name": "Pseudomonas aeruginosa",
         "type": "bar",
         "x": [
          "LNN",
          "ENN",
          "LHS",
          "EHS",
          "ERR2935805",
          "ERR2984773"
         ],
         "y": [
          0.47,
          2.81,
          3.17,
          2.82,
          2.71,
          4.58
         ]
        },
        {
         "marker": {
          "color": "#E88471"
         },
         "name": "Salmonella enterica",
         "type": "bar",
         "x": [
          "LNN",
          "ENN",
          "LHS",
          "EHS",
          "ERR2935805",
          "ERR2984773"
         ],
         "y": [
          2.3,
          3.14,
          1.49,
          3.16,
          0.02,
          4.23
         ]
        },
        {
         "marker": {
          "color": "#CF597E"
         },
         "name": "Staphylococcus aureus",
         "type": "bar",
         "x": [
          "LNN",
          "ENN",
          "LHS",
          "EHS",
          "ERR2935805",
          "ERR2984773"
         ],
         "y": [
          11.29,
          9.31,
          10.24,
          9.52,
          0,
          2.77
         ]
        },
        {
         "marker": {
          "color": "lightgray"
         },
         "name": "other",
         "type": "bar",
         "x": [
          "LNN",
          "ENN",
          "LHS",
          "EHS",
          "ERR2935805",
          "ERR2984773"
         ],
         "y": [
          62.56,
          61.94,
          51.540000000000006,
          61.62,
          21.930000000000007,
          65.53
         ]
        },
        {
         "marker": {
          "color": "darkgray"
         },
         "name": "unclassified",
         "type": "bar",
         "x": [
          "LNN",
          "ENN",
          "LHS",
          "EHS",
          "ERR2935805",
          "ERR2984773"
         ],
         "y": [
          0,
          0,
          0,
          0,
          0,
          0
         ]
        }
       ],
       "layout": {
        "barmode": "stack",
        "plot_bgcolor": "rgb(255,255,255)",
        "template": {
         "data": {
          "bar": [
           {
            "error_x": {
             "color": "#2a3f5f"
            },
            "error_y": {
             "color": "#2a3f5f"
            },
            "marker": {
             "line": {
              "color": "#E5ECF6",
              "width": 0.5
             }
            },
            "type": "bar"
           }
          ],
          "barpolar": [
           {
            "marker": {
             "line": {
              "color": "#E5ECF6",
              "width": 0.5
             }
            },
            "type": "barpolar"
           }
          ],
          "carpet": [
           {
            "aaxis": {
             "endlinecolor": "#2a3f5f",
             "gridcolor": "white",
             "linecolor": "white",
             "minorgridcolor": "white",
             "startlinecolor": "#2a3f5f"
            },
            "baxis": {
             "endlinecolor": "#2a3f5f",
             "gridcolor": "white",
             "linecolor": "white",
             "minorgridcolor": "white",
             "startlinecolor": "#2a3f5f"
            },
            "type": "carpet"
           }
          ],
          "choropleth": [
           {
            "colorbar": {
             "outlinewidth": 0,
             "ticks": ""
            },
            "type": "choropleth"
           }
          ],
          "contour": [
           {
            "colorbar": {
             "outlinewidth": 0,
             "ticks": ""
            },
            "colorscale": [
             [
              0,
              "#0d0887"
             ],
             [
              0.1111111111111111,
              "#46039f"
             ],
             [
              0.2222222222222222,
              "#7201a8"
             ],
             [
              0.3333333333333333,
              "#9c179e"
             ],
             [
              0.4444444444444444,
              "#bd3786"
             ],
             [
              0.5555555555555556,
              "#d8576b"
             ],
             [
              0.6666666666666666,
              "#ed7953"
             ],
             [
              0.7777777777777778,
              "#fb9f3a"
             ],
             [
              0.8888888888888888,
              "#fdca26"
             ],
             [
              1,
              "#f0f921"
             ]
            ],
            "type": "contour"
           }
          ],
          "contourcarpet": [
           {
            "colorbar": {
             "outlinewidth": 0,
             "ticks": ""
            },
            "type": "contourcarpet"
           }
          ],
          "heatmap": [
           {
            "colorbar": {
             "outlinewidth": 0,
             "ticks": ""
            },
            "colorscale": [
             [
              0,
              "#0d0887"
             ],
             [
              0.1111111111111111,
              "#46039f"
             ],
             [
              0.2222222222222222,
              "#7201a8"
             ],
             [
              0.3333333333333333,
              "#9c179e"
             ],
             [
              0.4444444444444444,
              "#bd3786"
             ],
             [
              0.5555555555555556,
              "#d8576b"
             ],
             [
              0.6666666666666666,
              "#ed7953"
             ],
             [
              0.7777777777777778,
              "#fb9f3a"
             ],
             [
              0.8888888888888888,
              "#fdca26"
             ],
             [
              1,
              "#f0f921"
             ]
            ],
            "type": "heatmap"
           }
          ],
          "heatmapgl": [
           {
            "colorbar": {
             "outlinewidth": 0,
             "ticks": ""
            },
            "colorscale": [
             [
              0,
              "#0d0887"
             ],
             [
              0.1111111111111111,
              "#46039f"
             ],
             [
              0.2222222222222222,
              "#7201a8"
             ],
             [
              0.3333333333333333,
              "#9c179e"
             ],
             [
              0.4444444444444444,
              "#bd3786"
             ],
             [
              0.5555555555555556,
              "#d8576b"
             ],
             [
              0.6666666666666666,
              "#ed7953"
             ],
             [
              0.7777777777777778,
              "#fb9f3a"
             ],
             [
              0.8888888888888888,
              "#fdca26"
             ],
             [
              1,
              "#f0f921"
             ]
            ],
            "type": "heatmapgl"
           }
          ],
          "histogram": [
           {
            "marker": {
             "colorbar": {
              "outlinewidth": 0,
              "ticks": ""
             }
            },
            "type": "histogram"
           }
          ],
          "histogram2d": [
           {
            "colorbar": {
             "outlinewidth": 0,
             "ticks": ""
            },
            "colorscale": [
             [
              0,
              "#0d0887"
             ],
             [
              0.1111111111111111,
              "#46039f"
             ],
             [
              0.2222222222222222,
              "#7201a8"
             ],
             [
              0.3333333333333333,
              "#9c179e"
             ],
             [
              0.4444444444444444,
              "#bd3786"
             ],
             [
              0.5555555555555556,
              "#d8576b"
             ],
             [
              0.6666666666666666,
              "#ed7953"
             ],
             [
              0.7777777777777778,
              "#fb9f3a"
             ],
             [
              0.8888888888888888,
              "#fdca26"
             ],
             [
              1,
              "#f0f921"
             ]
            ],
            "type": "histogram2d"
           }
          ],
          "histogram2dcontour": [
           {
            "colorbar": {
             "outlinewidth": 0,
             "ticks": ""
            },
            "colorscale": [
             [
              0,
              "#0d0887"
             ],
             [
              0.1111111111111111,
              "#46039f"
             ],
             [
              0.2222222222222222,
              "#7201a8"
             ],
             [
              0.3333333333333333,
              "#9c179e"
             ],
             [
              0.4444444444444444,
              "#bd3786"
             ],
             [
              0.5555555555555556,
              "#d8576b"
             ],
             [
              0.6666666666666666,
              "#ed7953"
             ],
             [
              0.7777777777777778,
              "#fb9f3a"
             ],
             [
              0.8888888888888888,
              "#fdca26"
             ],
             [
              1,
              "#f0f921"
             ]
            ],
            "type": "histogram2dcontour"
           }
          ],
          "mesh3d": [
           {
            "colorbar": {
             "outlinewidth": 0,
             "ticks": ""
            },
            "type": "mesh3d"
           }
          ],
          "parcoords": [
           {
            "line": {
             "colorbar": {
              "outlinewidth": 0,
              "ticks": ""
             }
            },
            "type": "parcoords"
           }
          ],
          "pie": [
           {
            "automargin": true,
            "type": "pie"
           }
          ],
          "scatter": [
           {
            "marker": {
             "colorbar": {
              "outlinewidth": 0,
              "ticks": ""
             }
            },
            "type": "scatter"
           }
          ],
          "scatter3d": [
           {
            "line": {
             "colorbar": {
              "outlinewidth": 0,
              "ticks": ""
             }
            },
            "marker": {
             "colorbar": {
              "outlinewidth": 0,
              "ticks": ""
             }
            },
            "type": "scatter3d"
           }
          ],
          "scattercarpet": [
           {
            "marker": {
             "colorbar": {
              "outlinewidth": 0,
              "ticks": ""
             }
            },
            "type": "scattercarpet"
           }
          ],
          "scattergeo": [
           {
            "marker": {
             "colorbar": {
              "outlinewidth": 0,
              "ticks": ""
             }
            },
            "type": "scattergeo"
           }
          ],
          "scattergl": [
           {
            "marker": {
             "colorbar": {
              "outlinewidth": 0,
              "ticks": ""
             }
            },
            "type": "scattergl"
           }
          ],
          "scattermapbox": [
           {
            "marker": {
             "colorbar": {
              "outlinewidth": 0,
              "ticks": ""
             }
            },
            "type": "scattermapbox"
           }
          ],
          "scatterpolar": [
           {
            "marker": {
             "colorbar": {
              "outlinewidth": 0,
              "ticks": ""
             }
            },
            "type": "scatterpolar"
           }
          ],
          "scatterpolargl": [
           {
            "marker": {
             "colorbar": {
              "outlinewidth": 0,
              "ticks": ""
             }
            },
            "type": "scatterpolargl"
           }
          ],
          "scatterternary": [
           {
            "marker": {
             "colorbar": {
              "outlinewidth": 0,
              "ticks": ""
             }
            },
            "type": "scatterternary"
           }
          ],
          "surface": [
           {
            "colorbar": {
             "outlinewidth": 0,
             "ticks": ""
            },
            "colorscale": [
             [
              0,
              "#0d0887"
             ],
             [
              0.1111111111111111,
              "#46039f"
             ],
             [
              0.2222222222222222,
              "#7201a8"
             ],
             [
              0.3333333333333333,
              "#9c179e"
             ],
             [
              0.4444444444444444,
              "#bd3786"
             ],
             [
              0.5555555555555556,
              "#d8576b"
             ],
             [
              0.6666666666666666,
              "#ed7953"
             ],
             [
              0.7777777777777778,
              "#fb9f3a"
             ],
             [
              0.8888888888888888,
              "#fdca26"
             ],
             [
              1,
              "#f0f921"
             ]
            ],
            "type": "surface"
           }
          ],
          "table": [
           {
            "cells": {
             "fill": {
              "color": "#EBF0F8"
             },
             "line": {
              "color": "white"
             }
            },
            "header": {
             "fill": {
              "color": "#C8D4E3"
             },
             "line": {
              "color": "white"
             }
            },
            "type": "table"
           }
          ]
         },
         "layout": {
          "annotationdefaults": {
           "arrowcolor": "#2a3f5f",
           "arrowhead": 0,
           "arrowwidth": 1
          },
          "coloraxis": {
           "colorbar": {
            "outlinewidth": 0,
            "ticks": ""
           }
          },
          "colorscale": {
           "diverging": [
            [
             0,
             "#8e0152"
            ],
            [
             0.1,
             "#c51b7d"
            ],
            [
             0.2,
             "#de77ae"
            ],
            [
             0.3,
             "#f1b6da"
            ],
            [
             0.4,
             "#fde0ef"
            ],
            [
             0.5,
             "#f7f7f7"
            ],
            [
             0.6,
             "#e6f5d0"
            ],
            [
             0.7,
             "#b8e186"
            ],
            [
             0.8,
             "#7fbc41"
            ],
            [
             0.9,
             "#4d9221"
            ],
            [
             1,
             "#276419"
            ]
           ],
           "sequential": [
            [
             0,
             "#0d0887"
            ],
            [
             0.1111111111111111,
             "#46039f"
            ],
            [
             0.2222222222222222,
             "#7201a8"
            ],
            [
             0.3333333333333333,
             "#9c179e"
            ],
            [
             0.4444444444444444,
             "#bd3786"
            ],
            [
             0.5555555555555556,
             "#d8576b"
            ],
            [
             0.6666666666666666,
             "#ed7953"
            ],
            [
             0.7777777777777778,
             "#fb9f3a"
            ],
            [
             0.8888888888888888,
             "#fdca26"
            ],
            [
             1,
             "#f0f921"
            ]
           ],
           "sequentialminus": [
            [
             0,
             "#0d0887"
            ],
            [
             0.1111111111111111,
             "#46039f"
            ],
            [
             0.2222222222222222,
             "#7201a8"
            ],
            [
             0.3333333333333333,
             "#9c179e"
            ],
            [
             0.4444444444444444,
             "#bd3786"
            ],
            [
             0.5555555555555556,
             "#d8576b"
            ],
            [
             0.6666666666666666,
             "#ed7953"
            ],
            [
             0.7777777777777778,
             "#fb9f3a"
            ],
            [
             0.8888888888888888,
             "#fdca26"
            ],
            [
             1,
             "#f0f921"
            ]
           ]
          },
          "colorway": [
           "#636efa",
           "#EF553B",
           "#00cc96",
           "#ab63fa",
           "#FFA15A",
           "#19d3f3",
           "#FF6692",
           "#B6E880",
           "#FF97FF",
           "#FECB52"
          ],
          "font": {
           "color": "#2a3f5f"
          },
          "geo": {
           "bgcolor": "white",
           "lakecolor": "white",
           "landcolor": "#E5ECF6",
           "showlakes": true,
           "showland": true,
           "subunitcolor": "white"
          },
          "hoverlabel": {
           "align": "left"
          },
          "hovermode": "closest",
          "mapbox": {
           "style": "light"
          },
          "paper_bgcolor": "white",
          "plot_bgcolor": "#E5ECF6",
          "polar": {
           "angularaxis": {
            "gridcolor": "white",
            "linecolor": "white",
            "ticks": ""
           },
           "bgcolor": "#E5ECF6",
           "radialaxis": {
            "gridcolor": "white",
            "linecolor": "white",
            "ticks": ""
           }
          },
          "scene": {
           "xaxis": {
            "backgroundcolor": "#E5ECF6",
            "gridcolor": "white",
            "gridwidth": 2,
            "linecolor": "white",
            "showbackground": true,
            "ticks": "",
            "zerolinecolor": "white"
           },
           "yaxis": {
            "backgroundcolor": "#E5ECF6",
            "gridcolor": "white",
            "gridwidth": 2,
            "linecolor": "white",
            "showbackground": true,
            "ticks": "",
            "zerolinecolor": "white"
           },
           "zaxis": {
            "backgroundcolor": "#E5ECF6",
            "gridcolor": "white",
            "gridwidth": 2,
            "linecolor": "white",
            "showbackground": true,
            "ticks": "",
            "zerolinecolor": "white"
           }
          },
          "shapedefaults": {
           "line": {
            "color": "#2a3f5f"
           }
          },
          "ternary": {
           "aaxis": {
            "gridcolor": "white",
            "linecolor": "white",
            "ticks": ""
           },
           "baxis": {
            "gridcolor": "white",
            "linecolor": "white",
            "ticks": ""
           },
           "bgcolor": "#E5ECF6",
           "caxis": {
            "gridcolor": "white",
            "linecolor": "white",
            "ticks": ""
           }
          },
          "title": {
           "x": 0.05
          },
          "xaxis": {
           "automargin": true,
           "gridcolor": "white",
           "linecolor": "white",
           "ticks": "",
           "title": {
            "standoff": 15
           },
           "zerolinecolor": "white",
           "zerolinewidth": 2
          },
          "yaxis": {
           "automargin": true,
           "gridcolor": "white",
           "linecolor": "white",
           "ticks": "",
           "title": {
            "standoff": 15
           },
           "zerolinecolor": "white",
           "zerolinewidth": 2
          }
         }
        },
        "title": {
         "text": "Taxonomic composition of the ZymoBIOMICS microbial community standards samples"
        },
        "xaxis": {
         "categoryarray": [
          "ENN",
          "EHS",
          "ERR2984773",
          "LNN",
          "LHS",
          "ERR2935805"
         ],
         "categoryorder": "array"
        }
       }
      },
      "text/html": [
       "<div>\n",
       "        \n",
       "        \n",
       "            <div id=\"40b618e6-8f78-46c7-86a6-3001fc5efe1c\" class=\"plotly-graph-div\" style=\"height:525px; width:100%;\"></div>\n",
       "            <script type=\"text/javascript\">\n",
       "                require([\"plotly\"], function(Plotly) {\n",
       "                    window.PLOTLYENV=window.PLOTLYENV || {};\n",
       "                    \n",
       "                if (document.getElementById(\"40b618e6-8f78-46c7-86a6-3001fc5efe1c\")) {\n",
       "                    Plotly.newPlot(\n",
       "                        '40b618e6-8f78-46c7-86a6-3001fc5efe1c',\n",
       "                        [{\"marker\": {\"color\": \"#009392\"}, \"name\": \"Bacillus subtilis\", \"type\": \"bar\", \"x\": [\"LNN\", \"ENN\", \"LHS\", \"EHS\", \"ERR2935805\", \"ERR2984773\"], \"y\": [0.01, 0.05, 0.04, 0.06, 0.0, 0.09]}, {\"marker\": {\"color\": \"#39B185\"}, \"name\": \"Enterococcus faecalis\", \"type\": \"bar\", \"x\": [\"LNN\", \"ENN\", \"LHS\", \"EHS\", \"ERR2935805\", \"ERR2984773\"], \"y\": [13.26, 8.09, 8.23, 8.09, 0.01, 11.03]}, {\"marker\": {\"color\": \"#9CCB86\"}, \"name\": \"Escherichia coli\", \"type\": \"bar\", \"x\": [\"LNN\", \"ENN\", \"LHS\", \"EHS\", \"ERR2935805\", \"ERR2984773\"], \"y\": [5.33, 6.95, 23.49, 7.02, 0.01, 1.87]}, {\"marker\": {\"color\": \"#E9E29C\"}, \"name\": \"Listeria monocytogenes\", \"type\": \"bar\", \"x\": [\"LNN\", \"ENN\", \"LHS\", \"EHS\", \"ERR2935805\", \"ERR2984773\"], \"y\": [4.78, 7.71, 1.8, 7.71, 75.32, 9.9]}, {\"marker\": {\"color\": \"#EEB479\"}, \"name\": \"Pseudomonas aeruginosa\", \"type\": \"bar\", \"x\": [\"LNN\", \"ENN\", \"LHS\", \"EHS\", \"ERR2935805\", \"ERR2984773\"], \"y\": [0.47, 2.81, 3.17, 2.82, 2.71, 4.58]}, {\"marker\": {\"color\": \"#E88471\"}, \"name\": \"Salmonella enterica\", \"type\": \"bar\", \"x\": [\"LNN\", \"ENN\", \"LHS\", \"EHS\", \"ERR2935805\", \"ERR2984773\"], \"y\": [2.3, 3.14, 1.49, 3.16, 0.02, 4.23]}, {\"marker\": {\"color\": \"#CF597E\"}, \"name\": \"Staphylococcus aureus\", \"type\": \"bar\", \"x\": [\"LNN\", \"ENN\", \"LHS\", \"EHS\", \"ERR2935805\", \"ERR2984773\"], \"y\": [11.29, 9.31, 10.24, 9.52, 0.0, 2.77]}, {\"marker\": {\"color\": \"lightgray\"}, \"name\": \"other\", \"type\": \"bar\", \"x\": [\"LNN\", \"ENN\", \"LHS\", \"EHS\", \"ERR2935805\", \"ERR2984773\"], \"y\": [62.56, 61.94, 51.540000000000006, 61.62, 21.930000000000007, 65.53]}, {\"marker\": {\"color\": \"darkgray\"}, \"name\": \"unclassified\", \"type\": \"bar\", \"x\": [\"LNN\", \"ENN\", \"LHS\", \"EHS\", \"ERR2935805\", \"ERR2984773\"], \"y\": [0.0, 0.0, 0.0, 0.0, 0.0, 0.0]}],\n",
       "                        {\"barmode\": \"stack\", \"plot_bgcolor\": \"rgb(255,255,255)\", \"template\": {\"data\": {\"bar\": [{\"error_x\": {\"color\": \"#2a3f5f\"}, \"error_y\": {\"color\": \"#2a3f5f\"}, \"marker\": {\"line\": {\"color\": \"#E5ECF6\", \"width\": 0.5}}, \"type\": \"bar\"}], \"barpolar\": [{\"marker\": {\"line\": {\"color\": \"#E5ECF6\", \"width\": 0.5}}, \"type\": \"barpolar\"}], \"carpet\": [{\"aaxis\": {\"endlinecolor\": \"#2a3f5f\", \"gridcolor\": \"white\", \"linecolor\": \"white\", \"minorgridcolor\": \"white\", \"startlinecolor\": \"#2a3f5f\"}, \"baxis\": {\"endlinecolor\": \"#2a3f5f\", \"gridcolor\": \"white\", \"linecolor\": \"white\", \"minorgridcolor\": \"white\", \"startlinecolor\": \"#2a3f5f\"}, \"type\": \"carpet\"}], \"choropleth\": [{\"colorbar\": {\"outlinewidth\": 0, \"ticks\": \"\"}, \"type\": \"choropleth\"}], \"contour\": [{\"colorbar\": {\"outlinewidth\": 0, \"ticks\": \"\"}, \"colorscale\": [[0.0, \"#0d0887\"], [0.1111111111111111, \"#46039f\"], [0.2222222222222222, \"#7201a8\"], [0.3333333333333333, \"#9c179e\"], [0.4444444444444444, \"#bd3786\"], [0.5555555555555556, \"#d8576b\"], [0.6666666666666666, \"#ed7953\"], [0.7777777777777778, \"#fb9f3a\"], [0.8888888888888888, \"#fdca26\"], [1.0, \"#f0f921\"]], \"type\": \"contour\"}], \"contourcarpet\": [{\"colorbar\": {\"outlinewidth\": 0, \"ticks\": \"\"}, \"type\": \"contourcarpet\"}], \"heatmap\": [{\"colorbar\": {\"outlinewidth\": 0, \"ticks\": \"\"}, \"colorscale\": [[0.0, \"#0d0887\"], [0.1111111111111111, \"#46039f\"], [0.2222222222222222, \"#7201a8\"], [0.3333333333333333, \"#9c179e\"], [0.4444444444444444, \"#bd3786\"], [0.5555555555555556, \"#d8576b\"], [0.6666666666666666, \"#ed7953\"], [0.7777777777777778, \"#fb9f3a\"], [0.8888888888888888, \"#fdca26\"], [1.0, \"#f0f921\"]], \"type\": \"heatmap\"}], \"heatmapgl\": [{\"colorbar\": {\"outlinewidth\": 0, \"ticks\": \"\"}, \"colorscale\": [[0.0, \"#0d0887\"], [0.1111111111111111, \"#46039f\"], [0.2222222222222222, \"#7201a8\"], [0.3333333333333333, \"#9c179e\"], [0.4444444444444444, \"#bd3786\"], [0.5555555555555556, \"#d8576b\"], [0.6666666666666666, \"#ed7953\"], [0.7777777777777778, \"#fb9f3a\"], [0.8888888888888888, \"#fdca26\"], [1.0, \"#f0f921\"]], \"type\": \"heatmapgl\"}], \"histogram\": [{\"marker\": {\"colorbar\": {\"outlinewidth\": 0, \"ticks\": \"\"}}, \"type\": \"histogram\"}], \"histogram2d\": [{\"colorbar\": {\"outlinewidth\": 0, \"ticks\": \"\"}, \"colorscale\": [[0.0, \"#0d0887\"], [0.1111111111111111, \"#46039f\"], [0.2222222222222222, \"#7201a8\"], [0.3333333333333333, \"#9c179e\"], [0.4444444444444444, \"#bd3786\"], [0.5555555555555556, \"#d8576b\"], [0.6666666666666666, \"#ed7953\"], [0.7777777777777778, \"#fb9f3a\"], [0.8888888888888888, \"#fdca26\"], [1.0, \"#f0f921\"]], \"type\": \"histogram2d\"}], \"histogram2dcontour\": [{\"colorbar\": {\"outlinewidth\": 0, \"ticks\": \"\"}, \"colorscale\": [[0.0, \"#0d0887\"], [0.1111111111111111, \"#46039f\"], [0.2222222222222222, \"#7201a8\"], [0.3333333333333333, \"#9c179e\"], [0.4444444444444444, \"#bd3786\"], [0.5555555555555556, \"#d8576b\"], [0.6666666666666666, \"#ed7953\"], [0.7777777777777778, \"#fb9f3a\"], [0.8888888888888888, \"#fdca26\"], [1.0, \"#f0f921\"]], \"type\": \"histogram2dcontour\"}], \"mesh3d\": [{\"colorbar\": {\"outlinewidth\": 0, \"ticks\": \"\"}, \"type\": \"mesh3d\"}], \"parcoords\": [{\"line\": {\"colorbar\": {\"outlinewidth\": 0, \"ticks\": \"\"}}, \"type\": \"parcoords\"}], \"pie\": [{\"automargin\": true, \"type\": \"pie\"}], \"scatter\": [{\"marker\": {\"colorbar\": {\"outlinewidth\": 0, \"ticks\": \"\"}}, \"type\": \"scatter\"}], \"scatter3d\": [{\"line\": {\"colorbar\": {\"outlinewidth\": 0, \"ticks\": \"\"}}, \"marker\": {\"colorbar\": {\"outlinewidth\": 0, \"ticks\": \"\"}}, \"type\": \"scatter3d\"}], \"scattercarpet\": [{\"marker\": {\"colorbar\": {\"outlinewidth\": 0, \"ticks\": \"\"}}, \"type\": \"scattercarpet\"}], \"scattergeo\": [{\"marker\": {\"colorbar\": {\"outlinewidth\": 0, \"ticks\": \"\"}}, \"type\": \"scattergeo\"}], \"scattergl\": [{\"marker\": {\"colorbar\": {\"outlinewidth\": 0, \"ticks\": \"\"}}, \"type\": \"scattergl\"}], \"scattermapbox\": [{\"marker\": {\"colorbar\": {\"outlinewidth\": 0, \"ticks\": \"\"}}, \"type\": \"scattermapbox\"}], \"scatterpolar\": [{\"marker\": {\"colorbar\": {\"outlinewidth\": 0, \"ticks\": \"\"}}, \"type\": \"scatterpolar\"}], \"scatterpolargl\": [{\"marker\": {\"colorbar\": {\"outlinewidth\": 0, \"ticks\": \"\"}}, \"type\": \"scatterpolargl\"}], \"scatterternary\": [{\"marker\": {\"colorbar\": {\"outlinewidth\": 0, \"ticks\": \"\"}}, \"type\": \"scatterternary\"}], \"surface\": [{\"colorbar\": {\"outlinewidth\": 0, \"ticks\": \"\"}, \"colorscale\": [[0.0, \"#0d0887\"], [0.1111111111111111, \"#46039f\"], [0.2222222222222222, \"#7201a8\"], [0.3333333333333333, \"#9c179e\"], [0.4444444444444444, \"#bd3786\"], [0.5555555555555556, \"#d8576b\"], [0.6666666666666666, \"#ed7953\"], [0.7777777777777778, \"#fb9f3a\"], [0.8888888888888888, \"#fdca26\"], [1.0, \"#f0f921\"]], \"type\": \"surface\"}], \"table\": [{\"cells\": {\"fill\": {\"color\": \"#EBF0F8\"}, \"line\": {\"color\": \"white\"}}, \"header\": {\"fill\": {\"color\": \"#C8D4E3\"}, \"line\": {\"color\": \"white\"}}, \"type\": \"table\"}]}, \"layout\": {\"annotationdefaults\": {\"arrowcolor\": \"#2a3f5f\", \"arrowhead\": 0, \"arrowwidth\": 1}, \"coloraxis\": {\"colorbar\": {\"outlinewidth\": 0, \"ticks\": \"\"}}, \"colorscale\": {\"diverging\": [[0, \"#8e0152\"], [0.1, \"#c51b7d\"], [0.2, \"#de77ae\"], [0.3, \"#f1b6da\"], [0.4, \"#fde0ef\"], [0.5, \"#f7f7f7\"], [0.6, \"#e6f5d0\"], [0.7, \"#b8e186\"], [0.8, \"#7fbc41\"], [0.9, \"#4d9221\"], [1, \"#276419\"]], \"sequential\": [[0.0, \"#0d0887\"], [0.1111111111111111, \"#46039f\"], [0.2222222222222222, \"#7201a8\"], [0.3333333333333333, \"#9c179e\"], [0.4444444444444444, \"#bd3786\"], [0.5555555555555556, \"#d8576b\"], [0.6666666666666666, \"#ed7953\"], [0.7777777777777778, \"#fb9f3a\"], [0.8888888888888888, \"#fdca26\"], [1.0, \"#f0f921\"]], \"sequentialminus\": [[0.0, \"#0d0887\"], [0.1111111111111111, \"#46039f\"], [0.2222222222222222, \"#7201a8\"], [0.3333333333333333, \"#9c179e\"], [0.4444444444444444, \"#bd3786\"], [0.5555555555555556, \"#d8576b\"], [0.6666666666666666, \"#ed7953\"], [0.7777777777777778, \"#fb9f3a\"], [0.8888888888888888, \"#fdca26\"], [1.0, \"#f0f921\"]]}, \"colorway\": [\"#636efa\", \"#EF553B\", \"#00cc96\", \"#ab63fa\", \"#FFA15A\", \"#19d3f3\", \"#FF6692\", \"#B6E880\", \"#FF97FF\", \"#FECB52\"], \"font\": {\"color\": \"#2a3f5f\"}, \"geo\": {\"bgcolor\": \"white\", \"lakecolor\": \"white\", \"landcolor\": \"#E5ECF6\", \"showlakes\": true, \"showland\": true, \"subunitcolor\": \"white\"}, \"hoverlabel\": {\"align\": \"left\"}, \"hovermode\": \"closest\", \"mapbox\": {\"style\": \"light\"}, \"paper_bgcolor\": \"white\", \"plot_bgcolor\": \"#E5ECF6\", \"polar\": {\"angularaxis\": {\"gridcolor\": \"white\", \"linecolor\": \"white\", \"ticks\": \"\"}, \"bgcolor\": \"#E5ECF6\", \"radialaxis\": {\"gridcolor\": \"white\", \"linecolor\": \"white\", \"ticks\": \"\"}}, \"scene\": {\"xaxis\": {\"backgroundcolor\": \"#E5ECF6\", \"gridcolor\": \"white\", \"gridwidth\": 2, \"linecolor\": \"white\", \"showbackground\": true, \"ticks\": \"\", \"zerolinecolor\": \"white\"}, \"yaxis\": {\"backgroundcolor\": \"#E5ECF6\", \"gridcolor\": \"white\", \"gridwidth\": 2, \"linecolor\": \"white\", \"showbackground\": true, \"ticks\": \"\", \"zerolinecolor\": \"white\"}, \"zaxis\": {\"backgroundcolor\": \"#E5ECF6\", \"gridcolor\": \"white\", \"gridwidth\": 2, \"linecolor\": \"white\", \"showbackground\": true, \"ticks\": \"\", \"zerolinecolor\": \"white\"}}, \"shapedefaults\": {\"line\": {\"color\": \"#2a3f5f\"}}, \"ternary\": {\"aaxis\": {\"gridcolor\": \"white\", \"linecolor\": \"white\", \"ticks\": \"\"}, \"baxis\": {\"gridcolor\": \"white\", \"linecolor\": \"white\", \"ticks\": \"\"}, \"bgcolor\": \"#E5ECF6\", \"caxis\": {\"gridcolor\": \"white\", \"linecolor\": \"white\", \"ticks\": \"\"}}, \"title\": {\"x\": 0.05}, \"xaxis\": {\"automargin\": true, \"gridcolor\": \"white\", \"linecolor\": \"white\", \"ticks\": \"\", \"title\": {\"standoff\": 15}, \"zerolinecolor\": \"white\", \"zerolinewidth\": 2}, \"yaxis\": {\"automargin\": true, \"gridcolor\": \"white\", \"linecolor\": \"white\", \"ticks\": \"\", \"title\": {\"standoff\": 15}, \"zerolinecolor\": \"white\", \"zerolinewidth\": 2}}}, \"title\": {\"text\": \"Taxonomic composition of the ZymoBIOMICS microbial community standards samples\"}, \"xaxis\": {\"categoryarray\": [\"ENN\", \"EHS\", \"ERR2984773\", \"LNN\", \"LHS\", \"ERR2935805\"], \"categoryorder\": \"array\"}},\n",
       "                        {\"responsive\": true}\n",
       "                    ).then(function(){\n",
       "                            \n",
       "var gd = document.getElementById('40b618e6-8f78-46c7-86a6-3001fc5efe1c');\n",
       "var x = new MutationObserver(function (mutations, observer) {{\n",
       "        var display = window.getComputedStyle(gd).display;\n",
       "        if (!display || display === 'none') {{\n",
       "            console.log([gd, 'removed!']);\n",
       "            Plotly.purge(gd);\n",
       "            observer.disconnect();\n",
       "        }}\n",
       "}});\n",
       "\n",
       "// Listen for the removal of the full notebook cells\n",
       "var notebookContainer = gd.closest('#notebook-container');\n",
       "if (notebookContainer) {{\n",
       "    x.observe(notebookContainer, {childList: true});\n",
       "}}\n",
       "\n",
       "// Listen for the clearing of the current output cell\n",
       "var outputEl = gd.closest('.output');\n",
       "if (outputEl) {{\n",
       "    x.observe(outputEl, {childList: true});\n",
       "}}\n",
       "\n",
       "                        })\n",
       "                };\n",
       "                });\n",
       "            </script>\n",
       "        </div>"
      ]
     },
     "metadata": {},
     "output_type": "display_data"
    },
    {
     "data": {
      "text/plain": [
       "'Plots/Taxonomic composition.html'"
      ]
     },
     "execution_count": 115,
     "metadata": {},
     "output_type": "execute_result"
    }
   ],
   "source": [
    "fig_kraken = go.Figure()\n",
    "x = ['LNN', 'ENN', 'LHS', 'EHS', 'ERR2935805', 'ERR2984773']\n",
    "ydict={}\n",
    "for sample in x:\n",
    "    for reference in kraken_data[sample]:\n",
    "        if reference not in ydict:\n",
    "            ydict[reference] = [kraken_data[sample][reference]]\n",
    "        else:\n",
    "            ydict[reference].append(kraken_data[sample][reference])\n",
    "i=0\n",
    "for reference in sorted(ydict): \n",
    "    fig_kraken.add_trace(go.Bar(x=x, y=ydict[reference], name=reference, marker_color=COLOURS[i]))\n",
    "    i += 1\n",
    "fig_kraken.update_layout(plot_bgcolor='rgb(255,255,255)', title_text=\"Taxonomic composition of the ZymoBIOMICS microbial community standards samples\")\n",
    "fig_kraken.update_layout(barmode='stack', xaxis={'categoryorder':'array', 'categoryarray':['ENN', 'EHS', 'ERR2984773','LNN', 'LHS','ERR2935805']})\n",
    "fig_kraken.show()\n",
    "plot(fig_kraken, filename='Plots/Taxonomic composition.html', auto_open=False)"
   ]
  },
  {
   "cell_type": "code",
   "execution_count": 108,
   "metadata": {},
   "outputs": [
    {
     "data": {
      "text/plain": [
       "{'Lactobacillus fermentum'}"
      ]
     },
     "execution_count": 108,
     "metadata": {},
     "output_type": "execute_result"
    }
   ],
   "source": [
    "SPECIES - ydict.keys()"
   ]
  },
  {
   "cell_type": "code",
   "execution_count": null,
   "metadata": {},
   "outputs": [],
   "source": []
  }
 ],
 "metadata": {
  "kernelspec": {
   "display_name": "Python 3",
   "language": "python",
   "name": "python3"
  },
  "language_info": {
   "codemirror_mode": {
    "name": "ipython",
    "version": 3
   },
   "file_extension": ".py",
   "mimetype": "text/x-python",
   "name": "python",
   "nbconvert_exporter": "python",
   "pygments_lexer": "ipython3",
   "version": "3.7.6"
  }
 },
 "nbformat": 4,
 "nbformat_minor": 4
}
