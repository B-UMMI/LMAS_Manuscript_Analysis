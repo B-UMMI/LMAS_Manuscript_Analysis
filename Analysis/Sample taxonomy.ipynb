{
 "cells": [
  {
   "cell_type": "markdown",
   "metadata": {},
   "source": [
    "# ZymoBIOMICS Microbial Community Standards Sample Composition"
   ]
  },
  {
   "cell_type": "markdown",
   "metadata": {},
   "source": [
    "The eight bacterial genomes and four plasmids of the ZymoBIOMICS Microbial Community Standards were used as reference. It contains tripled complete sequences for the following species:\n",
    "\n",
    "- Bacillus subtilis\n",
    "- Enterococcus faecalis\n",
    "- Escherichia coli\n",
    "  - Escherichia coli plasmid\n",
    "- Lactobacillus fermentum\n",
    "- Listeria monocytogenes\n",
    "- Pseudomonas aeruginosa\n",
    "- Salmonella enterica\n",
    "- Staphylococcus aureus\n",
    "  - Staphylococcus aureus plasmid 1\n",
    "  - Staphylococcus aureus plasmid 2\n",
    "  - Staphylococcus aureus plasmid 3\n",
    "\n",
    "It also downloads the raw sequence data of the mock communities, with an even and logarithmic distribution of species:\n",
    "\n",
    "- ERR2984773\n",
    "- ERR2935805 \n",
    "\n",
    "A set of simulated samples were generated from the genomes in the ZymoBIOMICS standard though the InSilicoSeq sequence simulator (version 1.5.2), including both even and logarithmic distribution, with and without Illumina error model. The number of read pairs generated matches the number of read pairs in the real data for each distribution. The following samples are available in Zenodo:\n",
    "\n",
    "- ENN - Envenly distributed sample with no error model\n",
    "- EHS - Envenly distributed sample with Illumina HiSeq error model\n",
    "- LNN - Log distributed sample with no error model\n",
    "- LHS - Log distributed sample with Illumina HiSeq error model\n"
   ]
  },
  {
   "cell_type": "markdown",
   "metadata": {},
   "source": [
    "## Imports"
   ]
  },
  {
   "cell_type": "code",
   "execution_count": 1,
   "metadata": {},
   "outputs": [],
   "source": [
    "import sys\n",
    "from plotly.offline import plot\n",
    "import glob\n",
    "import fnmatch\n",
    "import plotly.graph_objects as go\n",
    "from plotly.subplots import make_subplots\n",
    "import json\n",
    "import pandas as pd\n",
    "from itertools import groupby\n",
    "import csv\n",
    "import numpy as np\n",
    "import os"
   ]
  },
  {
   "cell_type": "code",
   "execution_count": 21,
   "metadata": {},
   "outputs": [],
   "source": [
    "SPECIES = ['Bacillus subtilis', 'Enterococcus faecalis', 'Escherichia coli', 'Lactobacillus fermentum', 'Listeria monocytogenes', \n",
    "           'Pseudomonas aeruginosa', 'Salmonella enterica', 'Staphylococcus aureus']\n",
    "COLOURS = ['#004B93', \"#009392\", \"#39B185\", \"#9CCB86\", \"#E9E29C\", \"#EEB479\", \"#E88471\",\"#CF597E\",'lightgray', 'darkgray']"
   ]
  },
  {
   "cell_type": "markdown",
   "metadata": {},
   "source": [
    "## Load Data"
   ]
  },
  {
   "cell_type": "code",
   "execution_count": 38,
   "metadata": {},
   "outputs": [
    {
     "name": "stdout",
     "output_type": "stream",
     "text": [
      "['0.01', '3806', '97', 'G', '1578', 'Lactobacillus']\n",
      "['0.01', '765', '22', 'G', '1578', 'Lactobacillus']\n",
      "['0.01', '733', '10', 'G', '1578', 'Lactobacillus']\n",
      "['0.00', '240', '13', 'G', '1578', 'Lactobacillus']\n",
      "['0.01', '1158', '20', 'G', '1578', 'Lactobacillus']\n",
      "['0.00', '2088', '38', 'G', '1578', 'Lactobacillus']\n",
      "{'LHS': {'unclassified': 0.0, 'Escherichia coli': 31.52, 'Salmonella enterica': 3.43, 'Pseudomonas aeruginosa': 7.24, 'Staphylococcus aureus': 17.39, 'Bacillus subtilis': 0.99, 'Listeria monocytogenes': 1.89, 'Enterococcus faecalis': 8.52, 'Lactobacillus fermentum': 0.05, 'other': 28.97}, 'EHS': {'unclassified': 0.0, 'Staphylococcus aureus': 17.49, 'Bacillus subtilis': 1.44, 'Listeria monocytogenes': 8.06, 'Enterococcus faecalis': 8.51, 'Lactobacillus fermentum': 0.05, 'Escherichia coli': 14.0, 'Salmonella enterica': 7.31, 'Pseudomonas aeruginosa': 6.46, 'other': 36.68}, 'ENN': {'unclassified': 0.0, 'Staphylococcus aureus': 17.65, 'Bacillus subtilis': 1.42, 'Listeria monocytogenes': 8.06, 'Enterococcus faecalis': 8.47, 'Lactobacillus fermentum': 0.05, 'Escherichia coli': 14.08, 'Salmonella enterica': 7.36, 'Pseudomonas aeruginosa': 6.52, 'other': 36.39}, 'ERR2935805': {'unclassified': 0.0, 'Listeria monocytogenes': 82.33, 'Bacillus subtilis': 0.1, 'Staphylococcus aureus': 0.0, 'Enterococcus faecalis': 0.09, 'Lactobacillus fermentum': 0.0, 'Pseudomonas aeruginosa': 6.89, 'Salmonella enterica': 0.06, 'Escherichia coli': 0.05, 'other': 10.48}, 'ERR2984773': {'unclassified': 0.0, 'Bacillus subtilis': 2.03, 'Listeria monocytogenes': 10.77, 'Staphylococcus aureus': 8.59, 'Enterococcus faecalis': 11.34, 'Lactobacillus fermentum': 0.07, 'Salmonella enterica': 11.41, 'Escherichia coli': 9.97, 'Pseudomonas aeruginosa': 12.06, 'other': 33.76}, 'LNN': {'unclassified': 0.0, 'Staphylococcus aureus': 20.41, 'Listeria monocytogenes': 5.02, 'Bacillus subtilis': 0.39, 'Enterococcus faecalis': 14.05, 'Lactobacillus fermentum': 0.03, 'Escherichia coli': 20.7, 'Salmonella enterica': 5.46, 'Pseudomonas aeruginosa': 1.1, 'other': 32.84}}\n"
     ]
    }
   ],
   "source": [
    "kraken_report_files = glob.glob('../Kraken/*.kraken_report')\n",
    "\n",
    "kraken_data = {}\n",
    "for report in kraken_report_files:\n",
    "    sample = os.path.splitext(os.path.basename(report))[0]\n",
    "    kraken_data[sample] = {}\n",
    "    with open(report) as fh:\n",
    "        for line in fh:\n",
    "            line = line.split()\n",
    "            if 'unclassified' in line[5]:\n",
    "                kraken_data[sample]['unclassified'] = float(line[0])\n",
    "            else:\n",
    "                if 'Lactobacillus' in line[5]:\n",
    "                    try:\n",
    "                        if'fermentum' in line[6]:\n",
    "                            #print(line)\n",
    "                            kraken_data[sample][' '.join(line[5:7])] = round(float(line[0]),2)\n",
    "                    except:\n",
    "                        print(line)\n",
    "                if line[3] == 'S':\n",
    "                    if ' '.join(line[5:]) in SPECIES:\n",
    "                        kraken_data[sample][' '.join(line[5:])] = round(float(line[0]),2)\n",
    "\n",
    "\n",
    "    other = round(100 - sum(kraken_data[sample].values()),2)\n",
    "    kraken_data[sample]['other']  = other\n",
    "\n",
    "print(kraken_data)"
   ]
  },
  {
   "cell_type": "markdown",
   "metadata": {},
   "source": [
    "## Plot Data"
   ]
  },
  {
   "cell_type": "code",
   "execution_count": 39,
   "metadata": {},
   "outputs": [],
   "source": [
    "fig_kraken = make_subplots(rows=3, cols=2, shared_xaxes=True, x_title=\"Species composition\", \n",
    "                            shared_yaxes=True, y_title='PLS',\n",
    "                            subplot_titles=('LNN', 'ENN', 'LHS', 'EHS', 'ERR2935805', 'ERR2984773'))"
   ]
  },
  {
   "cell_type": "code",
   "execution_count": 40,
   "metadata": {},
   "outputs": [
    {
     "data": {
      "application/vnd.plotly.v1+json": {
       "config": {
        "plotlyServerURL": "https://plot.ly"
       },
       "data": [
        {
         "marker": {
          "color": "#004B93"
         },
         "name": "Bacillus subtilis",
         "text": [
          "0.39",
          "1.42",
          "0.99",
          "1.44",
          "0.1",
          "2.03"
         ],
         "textposition": "auto",
         "type": "bar",
         "x": [
          "LNN",
          "ENN",
          "LHS",
          "EHS",
          "ERR2935805",
          "ERR2984773"
         ],
         "y": [
          0.39,
          1.42,
          0.99,
          1.44,
          0.1,
          2.03
         ]
        },
        {
         "marker": {
          "color": "#009392"
         },
         "name": "Enterococcus faecalis",
         "text": [
          "14.05",
          "8.47",
          "8.52",
          "8.51",
          "0.09",
          "11.34"
         ],
         "textposition": "auto",
         "type": "bar",
         "x": [
          "LNN",
          "ENN",
          "LHS",
          "EHS",
          "ERR2935805",
          "ERR2984773"
         ],
         "y": [
          14.05,
          8.47,
          8.52,
          8.51,
          0.09,
          11.34
         ]
        },
        {
         "marker": {
          "color": "#39B185"
         },
         "name": "Escherichia coli",
         "text": [
          "20.7",
          "14.08",
          "31.52",
          "14.0",
          "0.05",
          "9.97"
         ],
         "textposition": "auto",
         "type": "bar",
         "x": [
          "LNN",
          "ENN",
          "LHS",
          "EHS",
          "ERR2935805",
          "ERR2984773"
         ],
         "y": [
          20.7,
          14.08,
          31.52,
          14,
          0.05,
          9.97
         ]
        },
        {
         "marker": {
          "color": "#9CCB86"
         },
         "name": "Lactobacillus fermentum",
         "text": [
          "0.03",
          "0.05",
          "0.05",
          "0.05",
          "0.0",
          "0.07"
         ],
         "textposition": "auto",
         "type": "bar",
         "x": [
          "LNN",
          "ENN",
          "LHS",
          "EHS",
          "ERR2935805",
          "ERR2984773"
         ],
         "y": [
          0.03,
          0.05,
          0.05,
          0.05,
          0,
          0.07
         ]
        },
        {
         "marker": {
          "color": "#E9E29C"
         },
         "name": "Listeria monocytogenes",
         "text": [
          "5.02",
          "8.06",
          "1.89",
          "8.06",
          "82.33",
          "10.77"
         ],
         "textposition": "auto",
         "type": "bar",
         "x": [
          "LNN",
          "ENN",
          "LHS",
          "EHS",
          "ERR2935805",
          "ERR2984773"
         ],
         "y": [
          5.02,
          8.06,
          1.89,
          8.06,
          82.33,
          10.77
         ]
        },
        {
         "marker": {
          "color": "#EEB479"
         },
         "name": "Pseudomonas aeruginosa",
         "text": [
          "1.1",
          "6.52",
          "7.24",
          "6.46",
          "6.89",
          "12.06"
         ],
         "textposition": "auto",
         "type": "bar",
         "x": [
          "LNN",
          "ENN",
          "LHS",
          "EHS",
          "ERR2935805",
          "ERR2984773"
         ],
         "y": [
          1.1,
          6.52,
          7.24,
          6.46,
          6.89,
          12.06
         ]
        },
        {
         "marker": {
          "color": "#E88471"
         },
         "name": "Salmonella enterica",
         "text": [
          "5.46",
          "7.36",
          "3.43",
          "7.31",
          "0.06",
          "11.41"
         ],
         "textposition": "auto",
         "type": "bar",
         "x": [
          "LNN",
          "ENN",
          "LHS",
          "EHS",
          "ERR2935805",
          "ERR2984773"
         ],
         "y": [
          5.46,
          7.36,
          3.43,
          7.31,
          0.06,
          11.41
         ]
        },
        {
         "marker": {
          "color": "#CF597E"
         },
         "name": "Staphylococcus aureus",
         "text": [
          "20.41",
          "17.65",
          "17.39",
          "17.49",
          "0.0",
          "8.59"
         ],
         "textposition": "auto",
         "type": "bar",
         "x": [
          "LNN",
          "ENN",
          "LHS",
          "EHS",
          "ERR2935805",
          "ERR2984773"
         ],
         "y": [
          20.41,
          17.65,
          17.39,
          17.49,
          0,
          8.59
         ]
        },
        {
         "marker": {
          "color": "lightgray"
         },
         "name": "other",
         "text": [
          "32.84",
          "36.39",
          "28.97",
          "36.68",
          "10.48",
          "33.76"
         ],
         "textposition": "auto",
         "type": "bar",
         "x": [
          "LNN",
          "ENN",
          "LHS",
          "EHS",
          "ERR2935805",
          "ERR2984773"
         ],
         "y": [
          32.84,
          36.39,
          28.97,
          36.68,
          10.48,
          33.76
         ]
        },
        {
         "marker": {
          "color": "darkgray"
         },
         "name": "unclassified",
         "text": [
          "0.0",
          "0.0",
          "0.0",
          "0.0",
          "0.0",
          "0.0"
         ],
         "textposition": "auto",
         "type": "bar",
         "x": [
          "LNN",
          "ENN",
          "LHS",
          "EHS",
          "ERR2935805",
          "ERR2984773"
         ],
         "y": [
          0,
          0,
          0,
          0,
          0,
          0
         ]
        }
       ],
       "layout": {
        "barmode": "stack",
        "plot_bgcolor": "rgb(255,255,255)",
        "template": {
         "data": {
          "bar": [
           {
            "error_x": {
             "color": "#2a3f5f"
            },
            "error_y": {
             "color": "#2a3f5f"
            },
            "marker": {
             "line": {
              "color": "#E5ECF6",
              "width": 0.5
             },
             "pattern": {
              "fillmode": "overlay",
              "size": 10,
              "solidity": 0.2
             }
            },
            "type": "bar"
           }
          ],
          "barpolar": [
           {
            "marker": {
             "line": {
              "color": "#E5ECF6",
              "width": 0.5
             },
             "pattern": {
              "fillmode": "overlay",
              "size": 10,
              "solidity": 0.2
             }
            },
            "type": "barpolar"
           }
          ],
          "carpet": [
           {
            "aaxis": {
             "endlinecolor": "#2a3f5f",
             "gridcolor": "white",
             "linecolor": "white",
             "minorgridcolor": "white",
             "startlinecolor": "#2a3f5f"
            },
            "baxis": {
             "endlinecolor": "#2a3f5f",
             "gridcolor": "white",
             "linecolor": "white",
             "minorgridcolor": "white",
             "startlinecolor": "#2a3f5f"
            },
            "type": "carpet"
           }
          ],
          "choropleth": [
           {
            "colorbar": {
             "outlinewidth": 0,
             "ticks": ""
            },
            "type": "choropleth"
           }
          ],
          "contour": [
           {
            "colorbar": {
             "outlinewidth": 0,
             "ticks": ""
            },
            "colorscale": [
             [
              0,
              "#0d0887"
             ],
             [
              0.1111111111111111,
              "#46039f"
             ],
             [
              0.2222222222222222,
              "#7201a8"
             ],
             [
              0.3333333333333333,
              "#9c179e"
             ],
             [
              0.4444444444444444,
              "#bd3786"
             ],
             [
              0.5555555555555556,
              "#d8576b"
             ],
             [
              0.6666666666666666,
              "#ed7953"
             ],
             [
              0.7777777777777778,
              "#fb9f3a"
             ],
             [
              0.8888888888888888,
              "#fdca26"
             ],
             [
              1,
              "#f0f921"
             ]
            ],
            "type": "contour"
           }
          ],
          "contourcarpet": [
           {
            "colorbar": {
             "outlinewidth": 0,
             "ticks": ""
            },
            "type": "contourcarpet"
           }
          ],
          "heatmap": [
           {
            "colorbar": {
             "outlinewidth": 0,
             "ticks": ""
            },
            "colorscale": [
             [
              0,
              "#0d0887"
             ],
             [
              0.1111111111111111,
              "#46039f"
             ],
             [
              0.2222222222222222,
              "#7201a8"
             ],
             [
              0.3333333333333333,
              "#9c179e"
             ],
             [
              0.4444444444444444,
              "#bd3786"
             ],
             [
              0.5555555555555556,
              "#d8576b"
             ],
             [
              0.6666666666666666,
              "#ed7953"
             ],
             [
              0.7777777777777778,
              "#fb9f3a"
             ],
             [
              0.8888888888888888,
              "#fdca26"
             ],
             [
              1,
              "#f0f921"
             ]
            ],
            "type": "heatmap"
           }
          ],
          "heatmapgl": [
           {
            "colorbar": {
             "outlinewidth": 0,
             "ticks": ""
            },
            "colorscale": [
             [
              0,
              "#0d0887"
             ],
             [
              0.1111111111111111,
              "#46039f"
             ],
             [
              0.2222222222222222,
              "#7201a8"
             ],
             [
              0.3333333333333333,
              "#9c179e"
             ],
             [
              0.4444444444444444,
              "#bd3786"
             ],
             [
              0.5555555555555556,
              "#d8576b"
             ],
             [
              0.6666666666666666,
              "#ed7953"
             ],
             [
              0.7777777777777778,
              "#fb9f3a"
             ],
             [
              0.8888888888888888,
              "#fdca26"
             ],
             [
              1,
              "#f0f921"
             ]
            ],
            "type": "heatmapgl"
           }
          ],
          "histogram": [
           {
            "marker": {
             "pattern": {
              "fillmode": "overlay",
              "size": 10,
              "solidity": 0.2
             }
            },
            "type": "histogram"
           }
          ],
          "histogram2d": [
           {
            "colorbar": {
             "outlinewidth": 0,
             "ticks": ""
            },
            "colorscale": [
             [
              0,
              "#0d0887"
             ],
             [
              0.1111111111111111,
              "#46039f"
             ],
             [
              0.2222222222222222,
              "#7201a8"
             ],
             [
              0.3333333333333333,
              "#9c179e"
             ],
             [
              0.4444444444444444,
              "#bd3786"
             ],
             [
              0.5555555555555556,
              "#d8576b"
             ],
             [
              0.6666666666666666,
              "#ed7953"
             ],
             [
              0.7777777777777778,
              "#fb9f3a"
             ],
             [
              0.8888888888888888,
              "#fdca26"
             ],
             [
              1,
              "#f0f921"
             ]
            ],
            "type": "histogram2d"
           }
          ],
          "histogram2dcontour": [
           {
            "colorbar": {
             "outlinewidth": 0,
             "ticks": ""
            },
            "colorscale": [
             [
              0,
              "#0d0887"
             ],
             [
              0.1111111111111111,
              "#46039f"
             ],
             [
              0.2222222222222222,
              "#7201a8"
             ],
             [
              0.3333333333333333,
              "#9c179e"
             ],
             [
              0.4444444444444444,
              "#bd3786"
             ],
             [
              0.5555555555555556,
              "#d8576b"
             ],
             [
              0.6666666666666666,
              "#ed7953"
             ],
             [
              0.7777777777777778,
              "#fb9f3a"
             ],
             [
              0.8888888888888888,
              "#fdca26"
             ],
             [
              1,
              "#f0f921"
             ]
            ],
            "type": "histogram2dcontour"
           }
          ],
          "mesh3d": [
           {
            "colorbar": {
             "outlinewidth": 0,
             "ticks": ""
            },
            "type": "mesh3d"
           }
          ],
          "parcoords": [
           {
            "line": {
             "colorbar": {
              "outlinewidth": 0,
              "ticks": ""
             }
            },
            "type": "parcoords"
           }
          ],
          "pie": [
           {
            "automargin": true,
            "type": "pie"
           }
          ],
          "scatter": [
           {
            "marker": {
             "colorbar": {
              "outlinewidth": 0,
              "ticks": ""
             }
            },
            "type": "scatter"
           }
          ],
          "scatter3d": [
           {
            "line": {
             "colorbar": {
              "outlinewidth": 0,
              "ticks": ""
             }
            },
            "marker": {
             "colorbar": {
              "outlinewidth": 0,
              "ticks": ""
             }
            },
            "type": "scatter3d"
           }
          ],
          "scattercarpet": [
           {
            "marker": {
             "colorbar": {
              "outlinewidth": 0,
              "ticks": ""
             }
            },
            "type": "scattercarpet"
           }
          ],
          "scattergeo": [
           {
            "marker": {
             "colorbar": {
              "outlinewidth": 0,
              "ticks": ""
             }
            },
            "type": "scattergeo"
           }
          ],
          "scattergl": [
           {
            "marker": {
             "colorbar": {
              "outlinewidth": 0,
              "ticks": ""
             }
            },
            "type": "scattergl"
           }
          ],
          "scattermapbox": [
           {
            "marker": {
             "colorbar": {
              "outlinewidth": 0,
              "ticks": ""
             }
            },
            "type": "scattermapbox"
           }
          ],
          "scatterpolar": [
           {
            "marker": {
             "colorbar": {
              "outlinewidth": 0,
              "ticks": ""
             }
            },
            "type": "scatterpolar"
           }
          ],
          "scatterpolargl": [
           {
            "marker": {
             "colorbar": {
              "outlinewidth": 0,
              "ticks": ""
             }
            },
            "type": "scatterpolargl"
           }
          ],
          "scatterternary": [
           {
            "marker": {
             "colorbar": {
              "outlinewidth": 0,
              "ticks": ""
             }
            },
            "type": "scatterternary"
           }
          ],
          "surface": [
           {
            "colorbar": {
             "outlinewidth": 0,
             "ticks": ""
            },
            "colorscale": [
             [
              0,
              "#0d0887"
             ],
             [
              0.1111111111111111,
              "#46039f"
             ],
             [
              0.2222222222222222,
              "#7201a8"
             ],
             [
              0.3333333333333333,
              "#9c179e"
             ],
             [
              0.4444444444444444,
              "#bd3786"
             ],
             [
              0.5555555555555556,
              "#d8576b"
             ],
             [
              0.6666666666666666,
              "#ed7953"
             ],
             [
              0.7777777777777778,
              "#fb9f3a"
             ],
             [
              0.8888888888888888,
              "#fdca26"
             ],
             [
              1,
              "#f0f921"
             ]
            ],
            "type": "surface"
           }
          ],
          "table": [
           {
            "cells": {
             "fill": {
              "color": "#EBF0F8"
             },
             "line": {
              "color": "white"
             }
            },
            "header": {
             "fill": {
              "color": "#C8D4E3"
             },
             "line": {
              "color": "white"
             }
            },
            "type": "table"
           }
          ]
         },
         "layout": {
          "annotationdefaults": {
           "arrowcolor": "#2a3f5f",
           "arrowhead": 0,
           "arrowwidth": 1
          },
          "autotypenumbers": "strict",
          "coloraxis": {
           "colorbar": {
            "outlinewidth": 0,
            "ticks": ""
           }
          },
          "colorscale": {
           "diverging": [
            [
             0,
             "#8e0152"
            ],
            [
             0.1,
             "#c51b7d"
            ],
            [
             0.2,
             "#de77ae"
            ],
            [
             0.3,
             "#f1b6da"
            ],
            [
             0.4,
             "#fde0ef"
            ],
            [
             0.5,
             "#f7f7f7"
            ],
            [
             0.6,
             "#e6f5d0"
            ],
            [
             0.7,
             "#b8e186"
            ],
            [
             0.8,
             "#7fbc41"
            ],
            [
             0.9,
             "#4d9221"
            ],
            [
             1,
             "#276419"
            ]
           ],
           "sequential": [
            [
             0,
             "#0d0887"
            ],
            [
             0.1111111111111111,
             "#46039f"
            ],
            [
             0.2222222222222222,
             "#7201a8"
            ],
            [
             0.3333333333333333,
             "#9c179e"
            ],
            [
             0.4444444444444444,
             "#bd3786"
            ],
            [
             0.5555555555555556,
             "#d8576b"
            ],
            [
             0.6666666666666666,
             "#ed7953"
            ],
            [
             0.7777777777777778,
             "#fb9f3a"
            ],
            [
             0.8888888888888888,
             "#fdca26"
            ],
            [
             1,
             "#f0f921"
            ]
           ],
           "sequentialminus": [
            [
             0,
             "#0d0887"
            ],
            [
             0.1111111111111111,
             "#46039f"
            ],
            [
             0.2222222222222222,
             "#7201a8"
            ],
            [
             0.3333333333333333,
             "#9c179e"
            ],
            [
             0.4444444444444444,
             "#bd3786"
            ],
            [
             0.5555555555555556,
             "#d8576b"
            ],
            [
             0.6666666666666666,
             "#ed7953"
            ],
            [
             0.7777777777777778,
             "#fb9f3a"
            ],
            [
             0.8888888888888888,
             "#fdca26"
            ],
            [
             1,
             "#f0f921"
            ]
           ]
          },
          "colorway": [
           "#636efa",
           "#EF553B",
           "#00cc96",
           "#ab63fa",
           "#FFA15A",
           "#19d3f3",
           "#FF6692",
           "#B6E880",
           "#FF97FF",
           "#FECB52"
          ],
          "font": {
           "color": "#2a3f5f"
          },
          "geo": {
           "bgcolor": "white",
           "lakecolor": "white",
           "landcolor": "#E5ECF6",
           "showlakes": true,
           "showland": true,
           "subunitcolor": "white"
          },
          "hoverlabel": {
           "align": "left"
          },
          "hovermode": "closest",
          "mapbox": {
           "style": "light"
          },
          "paper_bgcolor": "white",
          "plot_bgcolor": "#E5ECF6",
          "polar": {
           "angularaxis": {
            "gridcolor": "white",
            "linecolor": "white",
            "ticks": ""
           },
           "bgcolor": "#E5ECF6",
           "radialaxis": {
            "gridcolor": "white",
            "linecolor": "white",
            "ticks": ""
           }
          },
          "scene": {
           "xaxis": {
            "backgroundcolor": "#E5ECF6",
            "gridcolor": "white",
            "gridwidth": 2,
            "linecolor": "white",
            "showbackground": true,
            "ticks": "",
            "zerolinecolor": "white"
           },
           "yaxis": {
            "backgroundcolor": "#E5ECF6",
            "gridcolor": "white",
            "gridwidth": 2,
            "linecolor": "white",
            "showbackground": true,
            "ticks": "",
            "zerolinecolor": "white"
           },
           "zaxis": {
            "backgroundcolor": "#E5ECF6",
            "gridcolor": "white",
            "gridwidth": 2,
            "linecolor": "white",
            "showbackground": true,
            "ticks": "",
            "zerolinecolor": "white"
           }
          },
          "shapedefaults": {
           "line": {
            "color": "#2a3f5f"
           }
          },
          "ternary": {
           "aaxis": {
            "gridcolor": "white",
            "linecolor": "white",
            "ticks": ""
           },
           "baxis": {
            "gridcolor": "white",
            "linecolor": "white",
            "ticks": ""
           },
           "bgcolor": "#E5ECF6",
           "caxis": {
            "gridcolor": "white",
            "linecolor": "white",
            "ticks": ""
           }
          },
          "title": {
           "x": 0.05
          },
          "xaxis": {
           "automargin": true,
           "gridcolor": "white",
           "linecolor": "white",
           "ticks": "",
           "title": {
            "standoff": 15
           },
           "zerolinecolor": "white",
           "zerolinewidth": 2
          },
          "yaxis": {
           "automargin": true,
           "gridcolor": "white",
           "linecolor": "white",
           "ticks": "",
           "title": {
            "standoff": 15
           },
           "zerolinecolor": "white",
           "zerolinewidth": 2
          }
         }
        },
        "title": {
         "text": "Taxonomic composition of the ZymoBIOMICS microbial community standards samples"
        },
        "xaxis": {
         "categoryarray": [
          "ENN",
          "EHS",
          "ERR2984773",
          "LNN",
          "LHS",
          "ERR2935805"
         ],
         "categoryorder": "array"
        }
       }
      },
      "text/html": [
       "<div>                            <div id=\"333481f8-0ed2-4391-9f2a-ff7240dcbd7e\" class=\"plotly-graph-div\" style=\"height:525px; width:100%;\"></div>            <script type=\"text/javascript\">                require([\"plotly\"], function(Plotly) {                    window.PLOTLYENV=window.PLOTLYENV || {};                                    if (document.getElementById(\"333481f8-0ed2-4391-9f2a-ff7240dcbd7e\")) {                    Plotly.newPlot(                        \"333481f8-0ed2-4391-9f2a-ff7240dcbd7e\",                        [{\"marker\":{\"color\":\"#004B93\"},\"name\":\"Bacillus subtilis\",\"text\":[\"0.39\",\"1.42\",\"0.99\",\"1.44\",\"0.1\",\"2.03\"],\"textposition\":\"auto\",\"type\":\"bar\",\"x\":[\"LNN\",\"ENN\",\"LHS\",\"EHS\",\"ERR2935805\",\"ERR2984773\"],\"y\":[0.39,1.42,0.99,1.44,0.1,2.03]},{\"marker\":{\"color\":\"#009392\"},\"name\":\"Enterococcus faecalis\",\"text\":[\"14.05\",\"8.47\",\"8.52\",\"8.51\",\"0.09\",\"11.34\"],\"textposition\":\"auto\",\"type\":\"bar\",\"x\":[\"LNN\",\"ENN\",\"LHS\",\"EHS\",\"ERR2935805\",\"ERR2984773\"],\"y\":[14.05,8.47,8.52,8.51,0.09,11.34]},{\"marker\":{\"color\":\"#39B185\"},\"name\":\"Escherichia coli\",\"text\":[\"20.7\",\"14.08\",\"31.52\",\"14.0\",\"0.05\",\"9.97\"],\"textposition\":\"auto\",\"type\":\"bar\",\"x\":[\"LNN\",\"ENN\",\"LHS\",\"EHS\",\"ERR2935805\",\"ERR2984773\"],\"y\":[20.7,14.08,31.52,14.0,0.05,9.97]},{\"marker\":{\"color\":\"#9CCB86\"},\"name\":\"Lactobacillus fermentum\",\"text\":[\"0.03\",\"0.05\",\"0.05\",\"0.05\",\"0.0\",\"0.07\"],\"textposition\":\"auto\",\"type\":\"bar\",\"x\":[\"LNN\",\"ENN\",\"LHS\",\"EHS\",\"ERR2935805\",\"ERR2984773\"],\"y\":[0.03,0.05,0.05,0.05,0.0,0.07]},{\"marker\":{\"color\":\"#E9E29C\"},\"name\":\"Listeria monocytogenes\",\"text\":[\"5.02\",\"8.06\",\"1.89\",\"8.06\",\"82.33\",\"10.77\"],\"textposition\":\"auto\",\"type\":\"bar\",\"x\":[\"LNN\",\"ENN\",\"LHS\",\"EHS\",\"ERR2935805\",\"ERR2984773\"],\"y\":[5.02,8.06,1.89,8.06,82.33,10.77]},{\"marker\":{\"color\":\"#EEB479\"},\"name\":\"Pseudomonas aeruginosa\",\"text\":[\"1.1\",\"6.52\",\"7.24\",\"6.46\",\"6.89\",\"12.06\"],\"textposition\":\"auto\",\"type\":\"bar\",\"x\":[\"LNN\",\"ENN\",\"LHS\",\"EHS\",\"ERR2935805\",\"ERR2984773\"],\"y\":[1.1,6.52,7.24,6.46,6.89,12.06]},{\"marker\":{\"color\":\"#E88471\"},\"name\":\"Salmonella enterica\",\"text\":[\"5.46\",\"7.36\",\"3.43\",\"7.31\",\"0.06\",\"11.41\"],\"textposition\":\"auto\",\"type\":\"bar\",\"x\":[\"LNN\",\"ENN\",\"LHS\",\"EHS\",\"ERR2935805\",\"ERR2984773\"],\"y\":[5.46,7.36,3.43,7.31,0.06,11.41]},{\"marker\":{\"color\":\"#CF597E\"},\"name\":\"Staphylococcus aureus\",\"text\":[\"20.41\",\"17.65\",\"17.39\",\"17.49\",\"0.0\",\"8.59\"],\"textposition\":\"auto\",\"type\":\"bar\",\"x\":[\"LNN\",\"ENN\",\"LHS\",\"EHS\",\"ERR2935805\",\"ERR2984773\"],\"y\":[20.41,17.65,17.39,17.49,0.0,8.59]},{\"marker\":{\"color\":\"lightgray\"},\"name\":\"other\",\"text\":[\"32.84\",\"36.39\",\"28.97\",\"36.68\",\"10.48\",\"33.76\"],\"textposition\":\"auto\",\"type\":\"bar\",\"x\":[\"LNN\",\"ENN\",\"LHS\",\"EHS\",\"ERR2935805\",\"ERR2984773\"],\"y\":[32.84,36.39,28.97,36.68,10.48,33.76]},{\"marker\":{\"color\":\"darkgray\"},\"name\":\"unclassified\",\"text\":[\"0.0\",\"0.0\",\"0.0\",\"0.0\",\"0.0\",\"0.0\"],\"textposition\":\"auto\",\"type\":\"bar\",\"x\":[\"LNN\",\"ENN\",\"LHS\",\"EHS\",\"ERR2935805\",\"ERR2984773\"],\"y\":[0.0,0.0,0.0,0.0,0.0,0.0]}],                        {\"barmode\":\"stack\",\"plot_bgcolor\":\"rgb(255,255,255)\",\"template\":{\"data\":{\"bar\":[{\"error_x\":{\"color\":\"#2a3f5f\"},\"error_y\":{\"color\":\"#2a3f5f\"},\"marker\":{\"line\":{\"color\":\"#E5ECF6\",\"width\":0.5},\"pattern\":{\"fillmode\":\"overlay\",\"size\":10,\"solidity\":0.2}},\"type\":\"bar\"}],\"barpolar\":[{\"marker\":{\"line\":{\"color\":\"#E5ECF6\",\"width\":0.5},\"pattern\":{\"fillmode\":\"overlay\",\"size\":10,\"solidity\":0.2}},\"type\":\"barpolar\"}],\"carpet\":[{\"aaxis\":{\"endlinecolor\":\"#2a3f5f\",\"gridcolor\":\"white\",\"linecolor\":\"white\",\"minorgridcolor\":\"white\",\"startlinecolor\":\"#2a3f5f\"},\"baxis\":{\"endlinecolor\":\"#2a3f5f\",\"gridcolor\":\"white\",\"linecolor\":\"white\",\"minorgridcolor\":\"white\",\"startlinecolor\":\"#2a3f5f\"},\"type\":\"carpet\"}],\"choropleth\":[{\"colorbar\":{\"outlinewidth\":0,\"ticks\":\"\"},\"type\":\"choropleth\"}],\"contour\":[{\"colorbar\":{\"outlinewidth\":0,\"ticks\":\"\"},\"colorscale\":[[0.0,\"#0d0887\"],[0.1111111111111111,\"#46039f\"],[0.2222222222222222,\"#7201a8\"],[0.3333333333333333,\"#9c179e\"],[0.4444444444444444,\"#bd3786\"],[0.5555555555555556,\"#d8576b\"],[0.6666666666666666,\"#ed7953\"],[0.7777777777777778,\"#fb9f3a\"],[0.8888888888888888,\"#fdca26\"],[1.0,\"#f0f921\"]],\"type\":\"contour\"}],\"contourcarpet\":[{\"colorbar\":{\"outlinewidth\":0,\"ticks\":\"\"},\"type\":\"contourcarpet\"}],\"heatmap\":[{\"colorbar\":{\"outlinewidth\":0,\"ticks\":\"\"},\"colorscale\":[[0.0,\"#0d0887\"],[0.1111111111111111,\"#46039f\"],[0.2222222222222222,\"#7201a8\"],[0.3333333333333333,\"#9c179e\"],[0.4444444444444444,\"#bd3786\"],[0.5555555555555556,\"#d8576b\"],[0.6666666666666666,\"#ed7953\"],[0.7777777777777778,\"#fb9f3a\"],[0.8888888888888888,\"#fdca26\"],[1.0,\"#f0f921\"]],\"type\":\"heatmap\"}],\"heatmapgl\":[{\"colorbar\":{\"outlinewidth\":0,\"ticks\":\"\"},\"colorscale\":[[0.0,\"#0d0887\"],[0.1111111111111111,\"#46039f\"],[0.2222222222222222,\"#7201a8\"],[0.3333333333333333,\"#9c179e\"],[0.4444444444444444,\"#bd3786\"],[0.5555555555555556,\"#d8576b\"],[0.6666666666666666,\"#ed7953\"],[0.7777777777777778,\"#fb9f3a\"],[0.8888888888888888,\"#fdca26\"],[1.0,\"#f0f921\"]],\"type\":\"heatmapgl\"}],\"histogram\":[{\"marker\":{\"pattern\":{\"fillmode\":\"overlay\",\"size\":10,\"solidity\":0.2}},\"type\":\"histogram\"}],\"histogram2d\":[{\"colorbar\":{\"outlinewidth\":0,\"ticks\":\"\"},\"colorscale\":[[0.0,\"#0d0887\"],[0.1111111111111111,\"#46039f\"],[0.2222222222222222,\"#7201a8\"],[0.3333333333333333,\"#9c179e\"],[0.4444444444444444,\"#bd3786\"],[0.5555555555555556,\"#d8576b\"],[0.6666666666666666,\"#ed7953\"],[0.7777777777777778,\"#fb9f3a\"],[0.8888888888888888,\"#fdca26\"],[1.0,\"#f0f921\"]],\"type\":\"histogram2d\"}],\"histogram2dcontour\":[{\"colorbar\":{\"outlinewidth\":0,\"ticks\":\"\"},\"colorscale\":[[0.0,\"#0d0887\"],[0.1111111111111111,\"#46039f\"],[0.2222222222222222,\"#7201a8\"],[0.3333333333333333,\"#9c179e\"],[0.4444444444444444,\"#bd3786\"],[0.5555555555555556,\"#d8576b\"],[0.6666666666666666,\"#ed7953\"],[0.7777777777777778,\"#fb9f3a\"],[0.8888888888888888,\"#fdca26\"],[1.0,\"#f0f921\"]],\"type\":\"histogram2dcontour\"}],\"mesh3d\":[{\"colorbar\":{\"outlinewidth\":0,\"ticks\":\"\"},\"type\":\"mesh3d\"}],\"parcoords\":[{\"line\":{\"colorbar\":{\"outlinewidth\":0,\"ticks\":\"\"}},\"type\":\"parcoords\"}],\"pie\":[{\"automargin\":true,\"type\":\"pie\"}],\"scatter\":[{\"marker\":{\"colorbar\":{\"outlinewidth\":0,\"ticks\":\"\"}},\"type\":\"scatter\"}],\"scatter3d\":[{\"line\":{\"colorbar\":{\"outlinewidth\":0,\"ticks\":\"\"}},\"marker\":{\"colorbar\":{\"outlinewidth\":0,\"ticks\":\"\"}},\"type\":\"scatter3d\"}],\"scattercarpet\":[{\"marker\":{\"colorbar\":{\"outlinewidth\":0,\"ticks\":\"\"}},\"type\":\"scattercarpet\"}],\"scattergeo\":[{\"marker\":{\"colorbar\":{\"outlinewidth\":0,\"ticks\":\"\"}},\"type\":\"scattergeo\"}],\"scattergl\":[{\"marker\":{\"colorbar\":{\"outlinewidth\":0,\"ticks\":\"\"}},\"type\":\"scattergl\"}],\"scattermapbox\":[{\"marker\":{\"colorbar\":{\"outlinewidth\":0,\"ticks\":\"\"}},\"type\":\"scattermapbox\"}],\"scatterpolar\":[{\"marker\":{\"colorbar\":{\"outlinewidth\":0,\"ticks\":\"\"}},\"type\":\"scatterpolar\"}],\"scatterpolargl\":[{\"marker\":{\"colorbar\":{\"outlinewidth\":0,\"ticks\":\"\"}},\"type\":\"scatterpolargl\"}],\"scatterternary\":[{\"marker\":{\"colorbar\":{\"outlinewidth\":0,\"ticks\":\"\"}},\"type\":\"scatterternary\"}],\"surface\":[{\"colorbar\":{\"outlinewidth\":0,\"ticks\":\"\"},\"colorscale\":[[0.0,\"#0d0887\"],[0.1111111111111111,\"#46039f\"],[0.2222222222222222,\"#7201a8\"],[0.3333333333333333,\"#9c179e\"],[0.4444444444444444,\"#bd3786\"],[0.5555555555555556,\"#d8576b\"],[0.6666666666666666,\"#ed7953\"],[0.7777777777777778,\"#fb9f3a\"],[0.8888888888888888,\"#fdca26\"],[1.0,\"#f0f921\"]],\"type\":\"surface\"}],\"table\":[{\"cells\":{\"fill\":{\"color\":\"#EBF0F8\"},\"line\":{\"color\":\"white\"}},\"header\":{\"fill\":{\"color\":\"#C8D4E3\"},\"line\":{\"color\":\"white\"}},\"type\":\"table\"}]},\"layout\":{\"annotationdefaults\":{\"arrowcolor\":\"#2a3f5f\",\"arrowhead\":0,\"arrowwidth\":1},\"autotypenumbers\":\"strict\",\"coloraxis\":{\"colorbar\":{\"outlinewidth\":0,\"ticks\":\"\"}},\"colorscale\":{\"diverging\":[[0,\"#8e0152\"],[0.1,\"#c51b7d\"],[0.2,\"#de77ae\"],[0.3,\"#f1b6da\"],[0.4,\"#fde0ef\"],[0.5,\"#f7f7f7\"],[0.6,\"#e6f5d0\"],[0.7,\"#b8e186\"],[0.8,\"#7fbc41\"],[0.9,\"#4d9221\"],[1,\"#276419\"]],\"sequential\":[[0.0,\"#0d0887\"],[0.1111111111111111,\"#46039f\"],[0.2222222222222222,\"#7201a8\"],[0.3333333333333333,\"#9c179e\"],[0.4444444444444444,\"#bd3786\"],[0.5555555555555556,\"#d8576b\"],[0.6666666666666666,\"#ed7953\"],[0.7777777777777778,\"#fb9f3a\"],[0.8888888888888888,\"#fdca26\"],[1.0,\"#f0f921\"]],\"sequentialminus\":[[0.0,\"#0d0887\"],[0.1111111111111111,\"#46039f\"],[0.2222222222222222,\"#7201a8\"],[0.3333333333333333,\"#9c179e\"],[0.4444444444444444,\"#bd3786\"],[0.5555555555555556,\"#d8576b\"],[0.6666666666666666,\"#ed7953\"],[0.7777777777777778,\"#fb9f3a\"],[0.8888888888888888,\"#fdca26\"],[1.0,\"#f0f921\"]]},\"colorway\":[\"#636efa\",\"#EF553B\",\"#00cc96\",\"#ab63fa\",\"#FFA15A\",\"#19d3f3\",\"#FF6692\",\"#B6E880\",\"#FF97FF\",\"#FECB52\"],\"font\":{\"color\":\"#2a3f5f\"},\"geo\":{\"bgcolor\":\"white\",\"lakecolor\":\"white\",\"landcolor\":\"#E5ECF6\",\"showlakes\":true,\"showland\":true,\"subunitcolor\":\"white\"},\"hoverlabel\":{\"align\":\"left\"},\"hovermode\":\"closest\",\"mapbox\":{\"style\":\"light\"},\"paper_bgcolor\":\"white\",\"plot_bgcolor\":\"#E5ECF6\",\"polar\":{\"angularaxis\":{\"gridcolor\":\"white\",\"linecolor\":\"white\",\"ticks\":\"\"},\"bgcolor\":\"#E5ECF6\",\"radialaxis\":{\"gridcolor\":\"white\",\"linecolor\":\"white\",\"ticks\":\"\"}},\"scene\":{\"xaxis\":{\"backgroundcolor\":\"#E5ECF6\",\"gridcolor\":\"white\",\"gridwidth\":2,\"linecolor\":\"white\",\"showbackground\":true,\"ticks\":\"\",\"zerolinecolor\":\"white\"},\"yaxis\":{\"backgroundcolor\":\"#E5ECF6\",\"gridcolor\":\"white\",\"gridwidth\":2,\"linecolor\":\"white\",\"showbackground\":true,\"ticks\":\"\",\"zerolinecolor\":\"white\"},\"zaxis\":{\"backgroundcolor\":\"#E5ECF6\",\"gridcolor\":\"white\",\"gridwidth\":2,\"linecolor\":\"white\",\"showbackground\":true,\"ticks\":\"\",\"zerolinecolor\":\"white\"}},\"shapedefaults\":{\"line\":{\"color\":\"#2a3f5f\"}},\"ternary\":{\"aaxis\":{\"gridcolor\":\"white\",\"linecolor\":\"white\",\"ticks\":\"\"},\"baxis\":{\"gridcolor\":\"white\",\"linecolor\":\"white\",\"ticks\":\"\"},\"bgcolor\":\"#E5ECF6\",\"caxis\":{\"gridcolor\":\"white\",\"linecolor\":\"white\",\"ticks\":\"\"}},\"title\":{\"x\":0.05},\"xaxis\":{\"automargin\":true,\"gridcolor\":\"white\",\"linecolor\":\"white\",\"ticks\":\"\",\"title\":{\"standoff\":15},\"zerolinecolor\":\"white\",\"zerolinewidth\":2},\"yaxis\":{\"automargin\":true,\"gridcolor\":\"white\",\"linecolor\":\"white\",\"ticks\":\"\",\"title\":{\"standoff\":15},\"zerolinecolor\":\"white\",\"zerolinewidth\":2}}},\"title\":{\"text\":\"Taxonomic composition of the ZymoBIOMICS microbial community standards samples\"},\"xaxis\":{\"categoryarray\":[\"ENN\",\"EHS\",\"ERR2984773\",\"LNN\",\"LHS\",\"ERR2935805\"],\"categoryorder\":\"array\"}},                        {\"responsive\": true}                    ).then(function(){\n",
       "                            \n",
       "var gd = document.getElementById('333481f8-0ed2-4391-9f2a-ff7240dcbd7e');\n",
       "var x = new MutationObserver(function (mutations, observer) {{\n",
       "        var display = window.getComputedStyle(gd).display;\n",
       "        if (!display || display === 'none') {{\n",
       "            console.log([gd, 'removed!']);\n",
       "            Plotly.purge(gd);\n",
       "            observer.disconnect();\n",
       "        }}\n",
       "}});\n",
       "\n",
       "// Listen for the removal of the full notebook cells\n",
       "var notebookContainer = gd.closest('#notebook-container');\n",
       "if (notebookContainer) {{\n",
       "    x.observe(notebookContainer, {childList: true});\n",
       "}}\n",
       "\n",
       "// Listen for the clearing of the current output cell\n",
       "var outputEl = gd.closest('.output');\n",
       "if (outputEl) {{\n",
       "    x.observe(outputEl, {childList: true});\n",
       "}}\n",
       "\n",
       "                        })                };                });            </script>        </div>"
      ]
     },
     "metadata": {},
     "output_type": "display_data"
    },
    {
     "data": {
      "text/plain": [
       "'Plots/Taxonomic composition.html'"
      ]
     },
     "execution_count": 40,
     "metadata": {},
     "output_type": "execute_result"
    }
   ],
   "source": [
    "fig_kraken = go.Figure()\n",
    "x = ['LNN', 'ENN', 'LHS', 'EHS', 'ERR2935805', 'ERR2984773']\n",
    "ydict={}\n",
    "for sample in x:\n",
    "    for reference in kraken_data[sample]:\n",
    "        if reference not in ydict:\n",
    "            ydict[reference] = [kraken_data[sample][reference]]\n",
    "        else:\n",
    "            ydict[reference].append(kraken_data[sample][reference])\n",
    "i=0\n",
    "for reference in sorted(ydict): \n",
    "    fig_kraken.add_trace(go.Bar(x=x, y=ydict[reference], name=reference, marker_color=COLOURS[i], text=ydict[reference], textposition='auto'))\n",
    "    i += 1\n",
    "fig_kraken.update_layout(plot_bgcolor='rgb(255,255,255)', title_text=\"Taxonomic composition of the ZymoBIOMICS microbial community standards samples\")\n",
    "fig_kraken.update_layout(barmode='stack', xaxis={'categoryorder':'array', 'categoryarray':['ENN', 'EHS', 'ERR2984773','LNN', 'LHS','ERR2935805']})\n",
    "fig_kraken.show()\n",
    "plot(fig_kraken, filename='Plots/Taxonomic composition.html', auto_open=False)"
   ]
  },
  {
   "cell_type": "code",
   "execution_count": 28,
   "metadata": {},
   "outputs": [
    {
     "data": {
      "text/plain": [
       "set()"
      ]
     },
     "execution_count": 28,
     "metadata": {},
     "output_type": "execute_result"
    }
   ],
   "source": [
    "SPECIES - ydict.keys()"
   ]
  },
  {
   "cell_type": "code",
   "execution_count": 45,
   "metadata": {},
   "outputs": [
    {
     "data": {
      "text/plain": [
       "'Plots/Taxonomic composition.png.html'"
      ]
     },
     "execution_count": 45,
     "metadata": {},
     "output_type": "execute_result"
    }
   ],
   "source": [
    "plot(fig_kraken, filename='Plots/Taxonomic composition.png', auto_open=False)"
   ]
  },
  {
   "cell_type": "code",
   "execution_count": null,
   "metadata": {},
   "outputs": [],
   "source": []
  }
 ],
 "metadata": {
  "kernelspec": {
   "display_name": "Python 3 (ipykernel)",
   "language": "python",
   "name": "python3"
  },
  "language_info": {
   "codemirror_mode": {
    "name": "ipython",
    "version": 3
   },
   "file_extension": ".py",
   "mimetype": "text/x-python",
   "name": "python",
   "nbconvert_exporter": "python",
   "pygments_lexer": "ipython3",
   "version": "3.9.5"
  }
 },
 "nbformat": 4,
 "nbformat_minor": 4
}
