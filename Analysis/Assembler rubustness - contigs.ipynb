{
 "cells": [
  {
   "cell_type": "markdown",
   "metadata": {},
   "source": [
    "# Assembler rubustness - contigs"
   ]
  },
  {
   "cell_type": "markdown",
   "metadata": {},
   "source": [
    "## Imports"
   ]
  },
  {
   "cell_type": "code",
   "execution_count": 1,
   "metadata": {},
   "outputs": [],
   "source": [
    "import sys\n",
    "from plotly.offline import plot\n",
    "import glob\n",
    "import fnmatch\n",
    "import plotly.graph_objects as go\n",
    "from plotly.subplots import make_subplots\n",
    "import json\n",
    "import pandas as pd\n",
    "from itertools import groupby\n",
    "import csv\n",
    "import numpy as np"
   ]
  },
  {
   "cell_type": "markdown",
   "metadata": {},
   "source": [
    "## Global variables"
   ]
  },
  {
   "cell_type": "code",
   "execution_count": 2,
   "metadata": {},
   "outputs": [],
   "source": [
    "METRICS_COLUMNS_GLOBAL = ['run','sample','assembler', 'contigs', 'basepairs', 'max_contig', 'Ns', 'n50', 'misassemblies', 'mapped_reads']\n",
    "ASSEMBLER_PROCESS_LIST = [\"BCALM2\", \"GATBMINIAPIPELINE\", \"MINIA\", \"MEGAHIT\", \"METASPADES\", \"UNICYCLER\", \"SPADES\",\n",
    "                          \"SKESA\", \"VELVETOPTIMIZER\", \"IDBA\"]\n",
    "PROCESS_TO_NAME = {\"BCALM2\": \"BCALM2\", \n",
    "                   \"GATBMINIAPIPELINE\": \"GATBMiniaPipeline\",\n",
    "                   \"MINIA\": \"MINIA\",\n",
    "                   \"MEGAHIT\": \"MEGAHIT\", \n",
    "                   \"METASPADES\": \"metaSPAdes\", \n",
    "                   \"UNICYCLER\": \"Unicycler\", \n",
    "                   \"SPADES\": \"SPAdes\",\n",
    "                    \"SKESA\": \"SKESA\",\n",
    "                   \"VELVETOPTIMIZER\": \"VelvetOptimizer\",\n",
    "                   \"IDBA\": \"IDBA-UD\"}\n",
    "log_distributed = ['LHS', 'LNN', 'ERR2935805']\n",
    "even_distribution = ['EHS', 'LNN', 'ERR2984773']\n"
   ]
  },
  {
   "cell_type": "markdown",
   "metadata": {},
   "source": [
    "## Load Data"
   ]
  },
  {
   "cell_type": "code",
   "execution_count": 7,
   "metadata": {},
   "outputs": [
    {
     "data": {
      "text/html": [
       "<div>\n",
       "<style scoped>\n",
       "    .dataframe tbody tr th:only-of-type {\n",
       "        vertical-align: middle;\n",
       "    }\n",
       "\n",
       "    .dataframe tbody tr th {\n",
       "        vertical-align: top;\n",
       "    }\n",
       "\n",
       "    .dataframe thead th {\n",
       "        text-align: right;\n",
       "    }\n",
       "</style>\n",
       "<table border=\"1\" class=\"dataframe\">\n",
       "  <thead>\n",
       "    <tr style=\"text-align: right;\">\n",
       "      <th></th>\n",
       "      <th>Unnamed: 0</th>\n",
       "      <th>index</th>\n",
       "      <th>Sample</th>\n",
       "      <th>Assembler</th>\n",
       "      <th>Contig</th>\n",
       "      <th>Contig Len</th>\n",
       "      <th>Mapped</th>\n",
       "      <th>#N</th>\n",
       "      <th>run</th>\n",
       "      <th>distribution</th>\n",
       "    </tr>\n",
       "  </thead>\n",
       "  <tbody>\n",
       "    <tr>\n",
       "      <th>0</th>\n",
       "      <td>0</td>\n",
       "      <td>0</td>\n",
       "      <td>LNN</td>\n",
       "      <td>BCALM2</td>\n",
       "      <td>4489</td>\n",
       "      <td>1087</td>\n",
       "      <td>Salmonella_enterica</td>\n",
       "      <td>0</td>\n",
       "      <td>run1</td>\n",
       "      <td>Log</td>\n",
       "    </tr>\n",
       "    <tr>\n",
       "      <th>1</th>\n",
       "      <td>1</td>\n",
       "      <td>1</td>\n",
       "      <td>LNN</td>\n",
       "      <td>BCALM2</td>\n",
       "      <td>4505</td>\n",
       "      <td>1461</td>\n",
       "      <td>Salmonella_enterica</td>\n",
       "      <td>0</td>\n",
       "      <td>run1</td>\n",
       "      <td>Log</td>\n",
       "    </tr>\n",
       "    <tr>\n",
       "      <th>2</th>\n",
       "      <td>2</td>\n",
       "      <td>2</td>\n",
       "      <td>LNN</td>\n",
       "      <td>BCALM2</td>\n",
       "      <td>4508</td>\n",
       "      <td>1467</td>\n",
       "      <td>Escherichia_coli</td>\n",
       "      <td>0</td>\n",
       "      <td>run1</td>\n",
       "      <td>Log</td>\n",
       "    </tr>\n",
       "    <tr>\n",
       "      <th>3</th>\n",
       "      <td>3</td>\n",
       "      <td>3</td>\n",
       "      <td>LNN</td>\n",
       "      <td>BCALM2</td>\n",
       "      <td>4534</td>\n",
       "      <td>1483</td>\n",
       "      <td>Salmonella_enterica</td>\n",
       "      <td>0</td>\n",
       "      <td>run1</td>\n",
       "      <td>Log</td>\n",
       "    </tr>\n",
       "    <tr>\n",
       "      <th>4</th>\n",
       "      <td>4</td>\n",
       "      <td>4</td>\n",
       "      <td>LNN</td>\n",
       "      <td>BCALM2</td>\n",
       "      <td>4549</td>\n",
       "      <td>1024</td>\n",
       "      <td>Pseudomonas_aeruginosa</td>\n",
       "      <td>0</td>\n",
       "      <td>run1</td>\n",
       "      <td>Log</td>\n",
       "    </tr>\n",
       "    <tr>\n",
       "      <th>...</th>\n",
       "      <td>...</td>\n",
       "      <td>...</td>\n",
       "      <td>...</td>\n",
       "      <td>...</td>\n",
       "      <td>...</td>\n",
       "      <td>...</td>\n",
       "      <td>...</td>\n",
       "      <td>...</td>\n",
       "      <td>...</td>\n",
       "      <td>...</td>\n",
       "    </tr>\n",
       "    <tr>\n",
       "      <th>1460</th>\n",
       "      <td>1460</td>\n",
       "      <td>1460</td>\n",
       "      <td>ERR2984773</td>\n",
       "      <td>MEGAHIT</td>\n",
       "      <td>k141_15489</td>\n",
       "      <td>1584</td>\n",
       "      <td>Unmapped</td>\n",
       "      <td>0</td>\n",
       "      <td>run2</td>\n",
       "      <td>Even</td>\n",
       "    </tr>\n",
       "    <tr>\n",
       "      <th>1461</th>\n",
       "      <td>1461</td>\n",
       "      <td>1461</td>\n",
       "      <td>ERR2984773</td>\n",
       "      <td>MEGAHIT</td>\n",
       "      <td>k141_15515</td>\n",
       "      <td>1097</td>\n",
       "      <td>Unmapped</td>\n",
       "      <td>0</td>\n",
       "      <td>run2</td>\n",
       "      <td>Even</td>\n",
       "    </tr>\n",
       "    <tr>\n",
       "      <th>1462</th>\n",
       "      <td>1462</td>\n",
       "      <td>1462</td>\n",
       "      <td>ERR2984773</td>\n",
       "      <td>MEGAHIT</td>\n",
       "      <td>k141_15533</td>\n",
       "      <td>32821</td>\n",
       "      <td>Unmapped</td>\n",
       "      <td>0</td>\n",
       "      <td>run2</td>\n",
       "      <td>Even</td>\n",
       "    </tr>\n",
       "    <tr>\n",
       "      <th>1463</th>\n",
       "      <td>1463</td>\n",
       "      <td>1463</td>\n",
       "      <td>ERR2984773</td>\n",
       "      <td>MEGAHIT</td>\n",
       "      <td>k141_15535</td>\n",
       "      <td>1533</td>\n",
       "      <td>Unmapped</td>\n",
       "      <td>0</td>\n",
       "      <td>run2</td>\n",
       "      <td>Even</td>\n",
       "    </tr>\n",
       "    <tr>\n",
       "      <th>1464</th>\n",
       "      <td>1464</td>\n",
       "      <td>1464</td>\n",
       "      <td>ERR2984773</td>\n",
       "      <td>MEGAHIT</td>\n",
       "      <td>k141_15537</td>\n",
       "      <td>1529</td>\n",
       "      <td>Unmapped</td>\n",
       "      <td>0</td>\n",
       "      <td>run2</td>\n",
       "      <td>Even</td>\n",
       "    </tr>\n",
       "  </tbody>\n",
       "</table>\n",
       "<p>290376 rows × 10 columns</p>\n",
       "</div>"
      ],
      "text/plain": [
       "     Unnamed: 0 index      Sample Assembler      Contig Contig Len  \\\n",
       "0             0     0         LNN    BCALM2        4489       1087   \n",
       "1             1     1         LNN    BCALM2        4505       1461   \n",
       "2             2     2         LNN    BCALM2        4508       1467   \n",
       "3             3     3         LNN    BCALM2        4534       1483   \n",
       "4             4     4         LNN    BCALM2        4549       1024   \n",
       "...         ...   ...         ...       ...         ...        ...   \n",
       "1460       1460  1460  ERR2984773   MEGAHIT  k141_15489       1584   \n",
       "1461       1461  1461  ERR2984773   MEGAHIT  k141_15515       1097   \n",
       "1462       1462  1462  ERR2984773   MEGAHIT  k141_15533      32821   \n",
       "1463       1463  1463  ERR2984773   MEGAHIT  k141_15535       1533   \n",
       "1464       1464  1464  ERR2984773   MEGAHIT  k141_15537       1529   \n",
       "\n",
       "                      Mapped #N   run distribution  \n",
       "0        Salmonella_enterica  0  run1          Log  \n",
       "1        Salmonella_enterica  0  run1          Log  \n",
       "2           Escherichia_coli  0  run1          Log  \n",
       "3        Salmonella_enterica  0  run1          Log  \n",
       "4     Pseudomonas_aeruginosa  0  run1          Log  \n",
       "...                      ... ..   ...          ...  \n",
       "1460                Unmapped  0  run2         Even  \n",
       "1461                Unmapped  0  run2         Even  \n",
       "1462                Unmapped  0  run2         Even  \n",
       "1463                Unmapped  0  run2         Even  \n",
       "1464                Unmapped  0  run2         Even  \n",
       "\n",
       "[290376 rows x 10 columns]"
      ]
     },
     "execution_count": 7,
     "metadata": {},
     "output_type": "execute_result"
    }
   ],
   "source": [
    "contig_size_files = glob.glob('../Results/*/results/*/stats/*_df.csv')\n",
    "\n",
    "df_list = []\n",
    "for f in contig_size_files:\n",
    "    run = f.split('/')[-5]\n",
    "    df = pd.read_csv(f)\n",
    "    df['run'] = run\n",
    "    df_list.append(df)\n",
    "\n",
    "contig_size_df = pd.concat(df_list)\n",
    "contig_size_df['distribution'] = np.where(contig_size_df['Sample'].isin(log_distributed), 'Log', 'Even')\n",
    "\n",
    "contig_size_df"
   ]
  },
  {
   "cell_type": "markdown",
   "metadata": {},
   "source": [
    "## Filter unique contigs"
   ]
  },
  {
   "cell_type": "markdown",
   "metadata": {},
   "source": [
    "### Contigs present in 2 runs"
   ]
  },
  {
   "cell_type": "code",
   "execution_count": 11,
   "metadata": {},
   "outputs": [
    {
     "data": {
      "text/html": [
       "<div>\n",
       "<style scoped>\n",
       "    .dataframe tbody tr th:only-of-type {\n",
       "        vertical-align: middle;\n",
       "    }\n",
       "\n",
       "    .dataframe tbody tr th {\n",
       "        vertical-align: top;\n",
       "    }\n",
       "\n",
       "    .dataframe thead th {\n",
       "        text-align: right;\n",
       "    }\n",
       "</style>\n",
       "<table border=\"1\" class=\"dataframe\">\n",
       "  <thead>\n",
       "    <tr style=\"text-align: right;\">\n",
       "      <th></th>\n",
       "      <th>Unnamed: 0</th>\n",
       "      <th>index</th>\n",
       "      <th>Sample</th>\n",
       "      <th>Assembler</th>\n",
       "      <th>Contig</th>\n",
       "      <th>Contig Len</th>\n",
       "      <th>Mapped</th>\n",
       "      <th>#N</th>\n",
       "      <th>run</th>\n",
       "      <th>distribution</th>\n",
       "    </tr>\n",
       "  </thead>\n",
       "  <tbody>\n",
       "    <tr>\n",
       "      <th>46</th>\n",
       "      <td>46</td>\n",
       "      <td>46</td>\n",
       "      <td>ERR2935805</td>\n",
       "      <td>GATBMiniaPipeline</td>\n",
       "      <td>737</td>\n",
       "      <td>7965</td>\n",
       "      <td>Bacillus_subtilis</td>\n",
       "      <td>0</td>\n",
       "      <td>run1</td>\n",
       "      <td>Log</td>\n",
       "    </tr>\n",
       "    <tr>\n",
       "      <th>289</th>\n",
       "      <td>289</td>\n",
       "      <td>289</td>\n",
       "      <td>ERR2935805</td>\n",
       "      <td>GATBMiniaPipeline</td>\n",
       "      <td>3250</td>\n",
       "      <td>44007</td>\n",
       "      <td>Bacillus_subtilis</td>\n",
       "      <td>0</td>\n",
       "      <td>run1</td>\n",
       "      <td>Log</td>\n",
       "    </tr>\n",
       "    <tr>\n",
       "      <th>340</th>\n",
       "      <td>340</td>\n",
       "      <td>340</td>\n",
       "      <td>ERR2935805</td>\n",
       "      <td>GATBMiniaPipeline</td>\n",
       "      <td>3894</td>\n",
       "      <td>94504</td>\n",
       "      <td>Bacillus_subtilis</td>\n",
       "      <td>0</td>\n",
       "      <td>run1</td>\n",
       "      <td>Log</td>\n",
       "    </tr>\n",
       "    <tr>\n",
       "      <th>406</th>\n",
       "      <td>406</td>\n",
       "      <td>406</td>\n",
       "      <td>ERR2935805</td>\n",
       "      <td>GATBMiniaPipeline</td>\n",
       "      <td>4479</td>\n",
       "      <td>5327</td>\n",
       "      <td>Bacillus_subtilis</td>\n",
       "      <td>0</td>\n",
       "      <td>run1</td>\n",
       "      <td>Log</td>\n",
       "    </tr>\n",
       "    <tr>\n",
       "      <th>479</th>\n",
       "      <td>479</td>\n",
       "      <td>479</td>\n",
       "      <td>ERR2935805</td>\n",
       "      <td>GATBMiniaPipeline</td>\n",
       "      <td>5389</td>\n",
       "      <td>18494</td>\n",
       "      <td>Bacillus_subtilis</td>\n",
       "      <td>0</td>\n",
       "      <td>run1</td>\n",
       "      <td>Log</td>\n",
       "    </tr>\n",
       "    <tr>\n",
       "      <th>...</th>\n",
       "      <td>...</td>\n",
       "      <td>...</td>\n",
       "      <td>...</td>\n",
       "      <td>...</td>\n",
       "      <td>...</td>\n",
       "      <td>...</td>\n",
       "      <td>...</td>\n",
       "      <td>...</td>\n",
       "      <td>...</td>\n",
       "      <td>...</td>\n",
       "    </tr>\n",
       "    <tr>\n",
       "      <th>2567</th>\n",
       "      <td>2567</td>\n",
       "      <td>2567</td>\n",
       "      <td>ERR2984773</td>\n",
       "      <td>MINIA</td>\n",
       "      <td>3798</td>\n",
       "      <td>9618</td>\n",
       "      <td>Enterococcus_faecalis</td>\n",
       "      <td>0</td>\n",
       "      <td>run2</td>\n",
       "      <td>Even</td>\n",
       "    </tr>\n",
       "    <tr>\n",
       "      <th>3342</th>\n",
       "      <td>3342</td>\n",
       "      <td>3342</td>\n",
       "      <td>ERR2984773</td>\n",
       "      <td>MINIA</td>\n",
       "      <td>6045</td>\n",
       "      <td>6483</td>\n",
       "      <td>Enterococcus_faecalis</td>\n",
       "      <td>0</td>\n",
       "      <td>run2</td>\n",
       "      <td>Even</td>\n",
       "    </tr>\n",
       "    <tr>\n",
       "      <th>46</th>\n",
       "      <td>46</td>\n",
       "      <td>46</td>\n",
       "      <td>ERR2984773</td>\n",
       "      <td>IDBA-UD</td>\n",
       "      <td>contig-100_46</td>\n",
       "      <td>74178</td>\n",
       "      <td>Salmonella_enterica</td>\n",
       "      <td>0</td>\n",
       "      <td>run2</td>\n",
       "      <td>Even</td>\n",
       "    </tr>\n",
       "    <tr>\n",
       "      <th>196</th>\n",
       "      <td>196</td>\n",
       "      <td>196</td>\n",
       "      <td>ERR2984773</td>\n",
       "      <td>IDBA-UD</td>\n",
       "      <td>contig-100_194</td>\n",
       "      <td>35618</td>\n",
       "      <td>Bacillus_subtilis</td>\n",
       "      <td>0</td>\n",
       "      <td>run2</td>\n",
       "      <td>Even</td>\n",
       "    </tr>\n",
       "    <tr>\n",
       "      <th>956</th>\n",
       "      <td>956</td>\n",
       "      <td>956</td>\n",
       "      <td>ERR2984773</td>\n",
       "      <td>IDBA-UD</td>\n",
       "      <td>contig-100_953</td>\n",
       "      <td>9012</td>\n",
       "      <td>Escherichia_coli</td>\n",
       "      <td>0</td>\n",
       "      <td>run2</td>\n",
       "      <td>Even</td>\n",
       "    </tr>\n",
       "  </tbody>\n",
       "</table>\n",
       "<p>76 rows × 10 columns</p>\n",
       "</div>"
      ],
      "text/plain": [
       "     Unnamed: 0 index      Sample          Assembler          Contig  \\\n",
       "46           46    46  ERR2935805  GATBMiniaPipeline             737   \n",
       "289         289   289  ERR2935805  GATBMiniaPipeline            3250   \n",
       "340         340   340  ERR2935805  GATBMiniaPipeline            3894   \n",
       "406         406   406  ERR2935805  GATBMiniaPipeline            4479   \n",
       "479         479   479  ERR2935805  GATBMiniaPipeline            5389   \n",
       "...         ...   ...         ...                ...             ...   \n",
       "2567       2567  2567  ERR2984773              MINIA            3798   \n",
       "3342       3342  3342  ERR2984773              MINIA            6045   \n",
       "46           46    46  ERR2984773            IDBA-UD   contig-100_46   \n",
       "196         196   196  ERR2984773            IDBA-UD  contig-100_194   \n",
       "956         956   956  ERR2984773            IDBA-UD  contig-100_953   \n",
       "\n",
       "     Contig Len                 Mapped #N   run distribution  \n",
       "46         7965      Bacillus_subtilis  0  run1          Log  \n",
       "289       44007      Bacillus_subtilis  0  run1          Log  \n",
       "340       94504      Bacillus_subtilis  0  run1          Log  \n",
       "406        5327      Bacillus_subtilis  0  run1          Log  \n",
       "479       18494      Bacillus_subtilis  0  run1          Log  \n",
       "...         ...                    ... ..   ...          ...  \n",
       "2567       9618  Enterococcus_faecalis  0  run2         Even  \n",
       "3342       6483  Enterococcus_faecalis  0  run2         Even  \n",
       "46        74178    Salmonella_enterica  0  run2         Even  \n",
       "196       35618      Bacillus_subtilis  0  run2         Even  \n",
       "956        9012       Escherichia_coli  0  run2         Even  \n",
       "\n",
       "[76 rows x 10 columns]"
      ]
     },
     "execution_count": 11,
     "metadata": {},
     "output_type": "execute_result"
    }
   ],
   "source": [
    "df_2runs = contig_size_df.groupby('Contig Len').filter(lambda x: len(x) == 2)\n",
    "df_2runs"
   ]
  },
  {
   "cell_type": "markdown",
   "metadata": {},
   "source": [
    "### Contigs present in only 1 run"
   ]
  },
  {
   "cell_type": "code",
   "execution_count": 13,
   "metadata": {},
   "outputs": [
    {
     "data": {
      "text/html": [
       "<div>\n",
       "<style scoped>\n",
       "    .dataframe tbody tr th:only-of-type {\n",
       "        vertical-align: middle;\n",
       "    }\n",
       "\n",
       "    .dataframe tbody tr th {\n",
       "        vertical-align: top;\n",
       "    }\n",
       "\n",
       "    .dataframe thead th {\n",
       "        text-align: right;\n",
       "    }\n",
       "</style>\n",
       "<table border=\"1\" class=\"dataframe\">\n",
       "  <thead>\n",
       "    <tr style=\"text-align: right;\">\n",
       "      <th></th>\n",
       "      <th>Unnamed: 0</th>\n",
       "      <th>index</th>\n",
       "      <th>Sample</th>\n",
       "      <th>Assembler</th>\n",
       "      <th>Contig</th>\n",
       "      <th>Contig Len</th>\n",
       "      <th>Mapped</th>\n",
       "      <th>#N</th>\n",
       "      <th>run</th>\n",
       "      <th>distribution</th>\n",
       "    </tr>\n",
       "  </thead>\n",
       "  <tbody>\n",
       "    <tr>\n",
       "      <th>59</th>\n",
       "      <td>59</td>\n",
       "      <td>59</td>\n",
       "      <td>ERR2935805</td>\n",
       "      <td>GATBMiniaPipeline</td>\n",
       "      <td>861</td>\n",
       "      <td>43789</td>\n",
       "      <td>Bacillus_subtilis</td>\n",
       "      <td>0</td>\n",
       "      <td>run1</td>\n",
       "      <td>Log</td>\n",
       "    </tr>\n",
       "    <tr>\n",
       "      <th>92</th>\n",
       "      <td>92</td>\n",
       "      <td>92</td>\n",
       "      <td>ERR2935805</td>\n",
       "      <td>GATBMiniaPipeline</td>\n",
       "      <td>1310</td>\n",
       "      <td>15099</td>\n",
       "      <td>Bacillus_subtilis</td>\n",
       "      <td>0</td>\n",
       "      <td>run1</td>\n",
       "      <td>Log</td>\n",
       "    </tr>\n",
       "    <tr>\n",
       "      <th>99</th>\n",
       "      <td>99</td>\n",
       "      <td>99</td>\n",
       "      <td>ERR2935805</td>\n",
       "      <td>GATBMiniaPipeline</td>\n",
       "      <td>1343</td>\n",
       "      <td>31281</td>\n",
       "      <td>Bacillus_subtilis</td>\n",
       "      <td>0</td>\n",
       "      <td>run1</td>\n",
       "      <td>Log</td>\n",
       "    </tr>\n",
       "    <tr>\n",
       "      <th>255</th>\n",
       "      <td>255</td>\n",
       "      <td>255</td>\n",
       "      <td>ERR2935805</td>\n",
       "      <td>MINIA</td>\n",
       "      <td>300</td>\n",
       "      <td>13924</td>\n",
       "      <td>Pseudomonas_aeruginosa</td>\n",
       "      <td>0</td>\n",
       "      <td>run1</td>\n",
       "      <td>Log</td>\n",
       "    </tr>\n",
       "    <tr>\n",
       "      <th>1238</th>\n",
       "      <td>1238</td>\n",
       "      <td>1238</td>\n",
       "      <td>ERR2935805</td>\n",
       "      <td>MINIA</td>\n",
       "      <td>4603</td>\n",
       "      <td>25278</td>\n",
       "      <td>Bacillus_subtilis</td>\n",
       "      <td>0</td>\n",
       "      <td>run1</td>\n",
       "      <td>Log</td>\n",
       "    </tr>\n",
       "    <tr>\n",
       "      <th>36</th>\n",
       "      <td>36</td>\n",
       "      <td>36</td>\n",
       "      <td>ERR2984773</td>\n",
       "      <td>MINIA</td>\n",
       "      <td>39</td>\n",
       "      <td>67015</td>\n",
       "      <td>Listeria_monocytogenes</td>\n",
       "      <td>0</td>\n",
       "      <td>run1</td>\n",
       "      <td>Even</td>\n",
       "    </tr>\n",
       "    <tr>\n",
       "      <th>90</th>\n",
       "      <td>90</td>\n",
       "      <td>90</td>\n",
       "      <td>ERR2984773</td>\n",
       "      <td>MINIA</td>\n",
       "      <td>101</td>\n",
       "      <td>21653</td>\n",
       "      <td>Enterococcus_faecalis</td>\n",
       "      <td>0</td>\n",
       "      <td>run1</td>\n",
       "      <td>Even</td>\n",
       "    </tr>\n",
       "    <tr>\n",
       "      <th>315</th>\n",
       "      <td>315</td>\n",
       "      <td>315</td>\n",
       "      <td>ERR2984773</td>\n",
       "      <td>MINIA</td>\n",
       "      <td>368</td>\n",
       "      <td>28107</td>\n",
       "      <td>Enterococcus_faecalis</td>\n",
       "      <td>0</td>\n",
       "      <td>run1</td>\n",
       "      <td>Even</td>\n",
       "    </tr>\n",
       "    <tr>\n",
       "      <th>347</th>\n",
       "      <td>347</td>\n",
       "      <td>347</td>\n",
       "      <td>ERR2984773</td>\n",
       "      <td>MINIA</td>\n",
       "      <td>404</td>\n",
       "      <td>14733</td>\n",
       "      <td>Pseudomonas_aeruginosa</td>\n",
       "      <td>0</td>\n",
       "      <td>run1</td>\n",
       "      <td>Even</td>\n",
       "    </tr>\n",
       "    <tr>\n",
       "      <th>846</th>\n",
       "      <td>846</td>\n",
       "      <td>846</td>\n",
       "      <td>ERR2984773</td>\n",
       "      <td>MINIA</td>\n",
       "      <td>993</td>\n",
       "      <td>24800</td>\n",
       "      <td>Pseudomonas_aeruginosa</td>\n",
       "      <td>0</td>\n",
       "      <td>run1</td>\n",
       "      <td>Even</td>\n",
       "    </tr>\n",
       "    <tr>\n",
       "      <th>1438</th>\n",
       "      <td>1438</td>\n",
       "      <td>1438</td>\n",
       "      <td>ERR2984773</td>\n",
       "      <td>MINIA</td>\n",
       "      <td>1842</td>\n",
       "      <td>15900</td>\n",
       "      <td>Enterococcus_faecalis</td>\n",
       "      <td>0</td>\n",
       "      <td>run1</td>\n",
       "      <td>Even</td>\n",
       "    </tr>\n",
       "    <tr>\n",
       "      <th>1551</th>\n",
       "      <td>1551</td>\n",
       "      <td>1551</td>\n",
       "      <td>ERR2984773</td>\n",
       "      <td>MINIA</td>\n",
       "      <td>2012</td>\n",
       "      <td>10979</td>\n",
       "      <td>Enterococcus_faecalis</td>\n",
       "      <td>0</td>\n",
       "      <td>run1</td>\n",
       "      <td>Even</td>\n",
       "    </tr>\n",
       "    <tr>\n",
       "      <th>328</th>\n",
       "      <td>328</td>\n",
       "      <td>328</td>\n",
       "      <td>ERR2984773</td>\n",
       "      <td>GATBMiniaPipeline</td>\n",
       "      <td>2386</td>\n",
       "      <td>6514</td>\n",
       "      <td>Staphylococcus_aureus_plasmid1</td>\n",
       "      <td>0</td>\n",
       "      <td>run1</td>\n",
       "      <td>Even</td>\n",
       "    </tr>\n",
       "    <tr>\n",
       "      <th>111</th>\n",
       "      <td>111</td>\n",
       "      <td>111</td>\n",
       "      <td>ERR2935805</td>\n",
       "      <td>GATBMiniaPipeline</td>\n",
       "      <td>1386</td>\n",
       "      <td>32000</td>\n",
       "      <td>Bacillus_subtilis</td>\n",
       "      <td>0</td>\n",
       "      <td>run3</td>\n",
       "      <td>Log</td>\n",
       "    </tr>\n",
       "    <tr>\n",
       "      <th>141</th>\n",
       "      <td>141</td>\n",
       "      <td>141</td>\n",
       "      <td>ERR2935805</td>\n",
       "      <td>GATBMiniaPipeline</td>\n",
       "      <td>1807</td>\n",
       "      <td>15516</td>\n",
       "      <td>Bacillus_subtilis</td>\n",
       "      <td>0</td>\n",
       "      <td>run3</td>\n",
       "      <td>Log</td>\n",
       "    </tr>\n",
       "    <tr>\n",
       "      <th>238</th>\n",
       "      <td>238</td>\n",
       "      <td>238</td>\n",
       "      <td>ERR2935805</td>\n",
       "      <td>GATBMiniaPipeline</td>\n",
       "      <td>2674</td>\n",
       "      <td>12943</td>\n",
       "      <td>Bacillus_subtilis</td>\n",
       "      <td>0</td>\n",
       "      <td>run3</td>\n",
       "      <td>Log</td>\n",
       "    </tr>\n",
       "    <tr>\n",
       "      <th>316</th>\n",
       "      <td>316</td>\n",
       "      <td>316</td>\n",
       "      <td>ERR2935805</td>\n",
       "      <td>GATBMiniaPipeline</td>\n",
       "      <td>3726</td>\n",
       "      <td>12000</td>\n",
       "      <td>Bacillus_subtilis</td>\n",
       "      <td>0</td>\n",
       "      <td>run3</td>\n",
       "      <td>Log</td>\n",
       "    </tr>\n",
       "    <tr>\n",
       "      <th>602</th>\n",
       "      <td>602</td>\n",
       "      <td>602</td>\n",
       "      <td>ERR2935805</td>\n",
       "      <td>GATBMiniaPipeline</td>\n",
       "      <td>6775</td>\n",
       "      <td>92240</td>\n",
       "      <td>Bacillus_subtilis</td>\n",
       "      <td>0</td>\n",
       "      <td>run3</td>\n",
       "      <td>Log</td>\n",
       "    </tr>\n",
       "    <tr>\n",
       "      <th>11</th>\n",
       "      <td>11</td>\n",
       "      <td>11</td>\n",
       "      <td>ERR2935805</td>\n",
       "      <td>MINIA</td>\n",
       "      <td>14</td>\n",
       "      <td>13472</td>\n",
       "      <td>Pseudomonas_aeruginosa</td>\n",
       "      <td>0</td>\n",
       "      <td>run3</td>\n",
       "      <td>Log</td>\n",
       "    </tr>\n",
       "    <tr>\n",
       "      <th>1146</th>\n",
       "      <td>1146</td>\n",
       "      <td>1146</td>\n",
       "      <td>ERR2935805</td>\n",
       "      <td>MINIA</td>\n",
       "      <td>2289</td>\n",
       "      <td>23529</td>\n",
       "      <td>Bacillus_subtilis</td>\n",
       "      <td>0</td>\n",
       "      <td>run3</td>\n",
       "      <td>Log</td>\n",
       "    </tr>\n",
       "    <tr>\n",
       "      <th>1189</th>\n",
       "      <td>1189</td>\n",
       "      <td>1189</td>\n",
       "      <td>ERR2935805</td>\n",
       "      <td>MINIA</td>\n",
       "      <td>2901</td>\n",
       "      <td>39793</td>\n",
       "      <td>Bacillus_subtilis</td>\n",
       "      <td>0</td>\n",
       "      <td>run3</td>\n",
       "      <td>Log</td>\n",
       "    </tr>\n",
       "    <tr>\n",
       "      <th>712</th>\n",
       "      <td>712</td>\n",
       "      <td>712</td>\n",
       "      <td>ENN</td>\n",
       "      <td>IDBA-UD</td>\n",
       "      <td>contig-100_698</td>\n",
       "      <td>6879</td>\n",
       "      <td>Escherichia_coli</td>\n",
       "      <td>0</td>\n",
       "      <td>run3</td>\n",
       "      <td>Even</td>\n",
       "    </tr>\n",
       "    <tr>\n",
       "      <th>255</th>\n",
       "      <td>255</td>\n",
       "      <td>255</td>\n",
       "      <td>ERR2984773</td>\n",
       "      <td>MINIA</td>\n",
       "      <td>292</td>\n",
       "      <td>49329</td>\n",
       "      <td>Listeria_monocytogenes</td>\n",
       "      <td>0</td>\n",
       "      <td>run3</td>\n",
       "      <td>Even</td>\n",
       "    </tr>\n",
       "    <tr>\n",
       "      <th>428</th>\n",
       "      <td>428</td>\n",
       "      <td>428</td>\n",
       "      <td>ERR2984773</td>\n",
       "      <td>MINIA</td>\n",
       "      <td>497</td>\n",
       "      <td>43716</td>\n",
       "      <td>Enterococcus_faecalis</td>\n",
       "      <td>0</td>\n",
       "      <td>run3</td>\n",
       "      <td>Even</td>\n",
       "    </tr>\n",
       "    <tr>\n",
       "      <th>752</th>\n",
       "      <td>752</td>\n",
       "      <td>752</td>\n",
       "      <td>ERR2984773</td>\n",
       "      <td>MINIA</td>\n",
       "      <td>891</td>\n",
       "      <td>35288</td>\n",
       "      <td>Listeria_monocytogenes</td>\n",
       "      <td>0</td>\n",
       "      <td>run3</td>\n",
       "      <td>Even</td>\n",
       "    </tr>\n",
       "    <tr>\n",
       "      <th>2402</th>\n",
       "      <td>2402</td>\n",
       "      <td>2402</td>\n",
       "      <td>ERR2984773</td>\n",
       "      <td>MINIA</td>\n",
       "      <td>3444</td>\n",
       "      <td>13192</td>\n",
       "      <td>Pseudomonas_aeruginosa</td>\n",
       "      <td>0</td>\n",
       "      <td>run3</td>\n",
       "      <td>Even</td>\n",
       "    </tr>\n",
       "    <tr>\n",
       "      <th>135</th>\n",
       "      <td>135</td>\n",
       "      <td>135</td>\n",
       "      <td>ERR2984773</td>\n",
       "      <td>IDBA-UD</td>\n",
       "      <td>contig-100_134</td>\n",
       "      <td>44837</td>\n",
       "      <td>Salmonella_enterica</td>\n",
       "      <td>0</td>\n",
       "      <td>run3</td>\n",
       "      <td>Even</td>\n",
       "    </tr>\n",
       "    <tr>\n",
       "      <th>280</th>\n",
       "      <td>280</td>\n",
       "      <td>280</td>\n",
       "      <td>ERR2984773</td>\n",
       "      <td>IDBA-UD</td>\n",
       "      <td>contig-100_278</td>\n",
       "      <td>29358</td>\n",
       "      <td>Salmonella_enterica</td>\n",
       "      <td>0</td>\n",
       "      <td>run3</td>\n",
       "      <td>Even</td>\n",
       "    </tr>\n",
       "    <tr>\n",
       "      <th>396</th>\n",
       "      <td>396</td>\n",
       "      <td>396</td>\n",
       "      <td>ERR2984773</td>\n",
       "      <td>IDBA-UD</td>\n",
       "      <td>contig-100_394</td>\n",
       "      <td>23161</td>\n",
       "      <td>Bacillus_subtilis</td>\n",
       "      <td>0</td>\n",
       "      <td>run3</td>\n",
       "      <td>Even</td>\n",
       "    </tr>\n",
       "    <tr>\n",
       "      <th>760</th>\n",
       "      <td>760</td>\n",
       "      <td>760</td>\n",
       "      <td>ERR2984773</td>\n",
       "      <td>IDBA-UD</td>\n",
       "      <td>contig-100_757</td>\n",
       "      <td>12833</td>\n",
       "      <td>Escherichia_coli</td>\n",
       "      <td>0</td>\n",
       "      <td>run3</td>\n",
       "      <td>Even</td>\n",
       "    </tr>\n",
       "    <tr>\n",
       "      <th>775</th>\n",
       "      <td>775</td>\n",
       "      <td>775</td>\n",
       "      <td>ERR2984773</td>\n",
       "      <td>IDBA-UD</td>\n",
       "      <td>contig-100_772</td>\n",
       "      <td>12556</td>\n",
       "      <td>Bacillus_subtilis</td>\n",
       "      <td>0</td>\n",
       "      <td>run3</td>\n",
       "      <td>Even</td>\n",
       "    </tr>\n",
       "    <tr>\n",
       "      <th>481</th>\n",
       "      <td>481</td>\n",
       "      <td>481</td>\n",
       "      <td>ERR2935805</td>\n",
       "      <td>GATBMiniaPipeline</td>\n",
       "      <td>5417</td>\n",
       "      <td>53636</td>\n",
       "      <td>Bacillus_subtilis</td>\n",
       "      <td>0</td>\n",
       "      <td>run2</td>\n",
       "      <td>Log</td>\n",
       "    </tr>\n",
       "    <tr>\n",
       "      <th>566</th>\n",
       "      <td>566</td>\n",
       "      <td>566</td>\n",
       "      <td>ERR2935805</td>\n",
       "      <td>GATBMiniaPipeline</td>\n",
       "      <td>6363</td>\n",
       "      <td>40880</td>\n",
       "      <td>Bacillus_subtilis</td>\n",
       "      <td>0</td>\n",
       "      <td>run2</td>\n",
       "      <td>Log</td>\n",
       "    </tr>\n",
       "    <tr>\n",
       "      <th>6</th>\n",
       "      <td>6</td>\n",
       "      <td>6</td>\n",
       "      <td>ERR2935805</td>\n",
       "      <td>MINIA</td>\n",
       "      <td>8</td>\n",
       "      <td>13108</td>\n",
       "      <td>Pseudomonas_aeruginosa</td>\n",
       "      <td>0</td>\n",
       "      <td>run2</td>\n",
       "      <td>Log</td>\n",
       "    </tr>\n",
       "    <tr>\n",
       "      <th>52</th>\n",
       "      <td>52</td>\n",
       "      <td>52</td>\n",
       "      <td>ERR2935805</td>\n",
       "      <td>MINIA</td>\n",
       "      <td>64</td>\n",
       "      <td>9154</td>\n",
       "      <td>Pseudomonas_aeruginosa</td>\n",
       "      <td>0</td>\n",
       "      <td>run2</td>\n",
       "      <td>Log</td>\n",
       "    </tr>\n",
       "    <tr>\n",
       "      <th>1370</th>\n",
       "      <td>1370</td>\n",
       "      <td>1370</td>\n",
       "      <td>ERR2935805</td>\n",
       "      <td>MINIA</td>\n",
       "      <td>10580</td>\n",
       "      <td>3967</td>\n",
       "      <td>Bacillus_subtilis</td>\n",
       "      <td>0</td>\n",
       "      <td>run2</td>\n",
       "      <td>Log</td>\n",
       "    </tr>\n",
       "    <tr>\n",
       "      <th>9</th>\n",
       "      <td>9</td>\n",
       "      <td>9</td>\n",
       "      <td>ERR2984773</td>\n",
       "      <td>MINIA</td>\n",
       "      <td>10</td>\n",
       "      <td>20821</td>\n",
       "      <td>Enterococcus_faecalis</td>\n",
       "      <td>0</td>\n",
       "      <td>run2</td>\n",
       "      <td>Even</td>\n",
       "    </tr>\n",
       "    <tr>\n",
       "      <th>75</th>\n",
       "      <td>75</td>\n",
       "      <td>75</td>\n",
       "      <td>ERR2984773</td>\n",
       "      <td>MINIA</td>\n",
       "      <td>82</td>\n",
       "      <td>31202</td>\n",
       "      <td>Enterococcus_faecalis</td>\n",
       "      <td>0</td>\n",
       "      <td>run2</td>\n",
       "      <td>Even</td>\n",
       "    </tr>\n",
       "    <tr>\n",
       "      <th>164</th>\n",
       "      <td>164</td>\n",
       "      <td>164</td>\n",
       "      <td>ERR2984773</td>\n",
       "      <td>MINIA</td>\n",
       "      <td>174</td>\n",
       "      <td>62288</td>\n",
       "      <td>Pseudomonas_aeruginosa</td>\n",
       "      <td>0</td>\n",
       "      <td>run2</td>\n",
       "      <td>Even</td>\n",
       "    </tr>\n",
       "    <tr>\n",
       "      <th>853</th>\n",
       "      <td>853</td>\n",
       "      <td>853</td>\n",
       "      <td>ERR2984773</td>\n",
       "      <td>MINIA</td>\n",
       "      <td>986</td>\n",
       "      <td>17783</td>\n",
       "      <td>Enterococcus_faecalis</td>\n",
       "      <td>0</td>\n",
       "      <td>run2</td>\n",
       "      <td>Even</td>\n",
       "    </tr>\n",
       "    <tr>\n",
       "      <th>63</th>\n",
       "      <td>63</td>\n",
       "      <td>63</td>\n",
       "      <td>ERR2984773</td>\n",
       "      <td>GATBMiniaPipeline</td>\n",
       "      <td>648</td>\n",
       "      <td>6520</td>\n",
       "      <td>Staphylococcus_aureus_plasmid1</td>\n",
       "      <td>0</td>\n",
       "      <td>run2</td>\n",
       "      <td>Even</td>\n",
       "    </tr>\n",
       "  </tbody>\n",
       "</table>\n",
       "</div>"
      ],
      "text/plain": [
       "     Unnamed: 0 index      Sample          Assembler          Contig  \\\n",
       "59           59    59  ERR2935805  GATBMiniaPipeline             861   \n",
       "92           92    92  ERR2935805  GATBMiniaPipeline            1310   \n",
       "99           99    99  ERR2935805  GATBMiniaPipeline            1343   \n",
       "255         255   255  ERR2935805              MINIA             300   \n",
       "1238       1238  1238  ERR2935805              MINIA            4603   \n",
       "36           36    36  ERR2984773              MINIA              39   \n",
       "90           90    90  ERR2984773              MINIA             101   \n",
       "315         315   315  ERR2984773              MINIA             368   \n",
       "347         347   347  ERR2984773              MINIA             404   \n",
       "846         846   846  ERR2984773              MINIA             993   \n",
       "1438       1438  1438  ERR2984773              MINIA            1842   \n",
       "1551       1551  1551  ERR2984773              MINIA            2012   \n",
       "328         328   328  ERR2984773  GATBMiniaPipeline            2386   \n",
       "111         111   111  ERR2935805  GATBMiniaPipeline            1386   \n",
       "141         141   141  ERR2935805  GATBMiniaPipeline            1807   \n",
       "238         238   238  ERR2935805  GATBMiniaPipeline            2674   \n",
       "316         316   316  ERR2935805  GATBMiniaPipeline            3726   \n",
       "602         602   602  ERR2935805  GATBMiniaPipeline            6775   \n",
       "11           11    11  ERR2935805              MINIA              14   \n",
       "1146       1146  1146  ERR2935805              MINIA            2289   \n",
       "1189       1189  1189  ERR2935805              MINIA            2901   \n",
       "712         712   712         ENN            IDBA-UD  contig-100_698   \n",
       "255         255   255  ERR2984773              MINIA             292   \n",
       "428         428   428  ERR2984773              MINIA             497   \n",
       "752         752   752  ERR2984773              MINIA             891   \n",
       "2402       2402  2402  ERR2984773              MINIA            3444   \n",
       "135         135   135  ERR2984773            IDBA-UD  contig-100_134   \n",
       "280         280   280  ERR2984773            IDBA-UD  contig-100_278   \n",
       "396         396   396  ERR2984773            IDBA-UD  contig-100_394   \n",
       "760         760   760  ERR2984773            IDBA-UD  contig-100_757   \n",
       "775         775   775  ERR2984773            IDBA-UD  contig-100_772   \n",
       "481         481   481  ERR2935805  GATBMiniaPipeline            5417   \n",
       "566         566   566  ERR2935805  GATBMiniaPipeline            6363   \n",
       "6             6     6  ERR2935805              MINIA               8   \n",
       "52           52    52  ERR2935805              MINIA              64   \n",
       "1370       1370  1370  ERR2935805              MINIA           10580   \n",
       "9             9     9  ERR2984773              MINIA              10   \n",
       "75           75    75  ERR2984773              MINIA              82   \n",
       "164         164   164  ERR2984773              MINIA             174   \n",
       "853         853   853  ERR2984773              MINIA             986   \n",
       "63           63    63  ERR2984773  GATBMiniaPipeline             648   \n",
       "\n",
       "     Contig Len                          Mapped #N   run distribution  \n",
       "59        43789               Bacillus_subtilis  0  run1          Log  \n",
       "92        15099               Bacillus_subtilis  0  run1          Log  \n",
       "99        31281               Bacillus_subtilis  0  run1          Log  \n",
       "255       13924          Pseudomonas_aeruginosa  0  run1          Log  \n",
       "1238      25278               Bacillus_subtilis  0  run1          Log  \n",
       "36        67015          Listeria_monocytogenes  0  run1         Even  \n",
       "90        21653           Enterococcus_faecalis  0  run1         Even  \n",
       "315       28107           Enterococcus_faecalis  0  run1         Even  \n",
       "347       14733          Pseudomonas_aeruginosa  0  run1         Even  \n",
       "846       24800          Pseudomonas_aeruginosa  0  run1         Even  \n",
       "1438      15900           Enterococcus_faecalis  0  run1         Even  \n",
       "1551      10979           Enterococcus_faecalis  0  run1         Even  \n",
       "328        6514  Staphylococcus_aureus_plasmid1  0  run1         Even  \n",
       "111       32000               Bacillus_subtilis  0  run3          Log  \n",
       "141       15516               Bacillus_subtilis  0  run3          Log  \n",
       "238       12943               Bacillus_subtilis  0  run3          Log  \n",
       "316       12000               Bacillus_subtilis  0  run3          Log  \n",
       "602       92240               Bacillus_subtilis  0  run3          Log  \n",
       "11        13472          Pseudomonas_aeruginosa  0  run3          Log  \n",
       "1146      23529               Bacillus_subtilis  0  run3          Log  \n",
       "1189      39793               Bacillus_subtilis  0  run3          Log  \n",
       "712        6879                Escherichia_coli  0  run3         Even  \n",
       "255       49329          Listeria_monocytogenes  0  run3         Even  \n",
       "428       43716           Enterococcus_faecalis  0  run3         Even  \n",
       "752       35288          Listeria_monocytogenes  0  run3         Even  \n",
       "2402      13192          Pseudomonas_aeruginosa  0  run3         Even  \n",
       "135       44837             Salmonella_enterica  0  run3         Even  \n",
       "280       29358             Salmonella_enterica  0  run3         Even  \n",
       "396       23161               Bacillus_subtilis  0  run3         Even  \n",
       "760       12833                Escherichia_coli  0  run3         Even  \n",
       "775       12556               Bacillus_subtilis  0  run3         Even  \n",
       "481       53636               Bacillus_subtilis  0  run2          Log  \n",
       "566       40880               Bacillus_subtilis  0  run2          Log  \n",
       "6         13108          Pseudomonas_aeruginosa  0  run2          Log  \n",
       "52         9154          Pseudomonas_aeruginosa  0  run2          Log  \n",
       "1370       3967               Bacillus_subtilis  0  run2          Log  \n",
       "9         20821           Enterococcus_faecalis  0  run2         Even  \n",
       "75        31202           Enterococcus_faecalis  0  run2         Even  \n",
       "164       62288          Pseudomonas_aeruginosa  0  run2         Even  \n",
       "853       17783           Enterococcus_faecalis  0  run2         Even  \n",
       "63         6520  Staphylococcus_aureus_plasmid1  0  run2         Even  "
      ]
     },
     "execution_count": 13,
     "metadata": {},
     "output_type": "execute_result"
    }
   ],
   "source": [
    "df_1run = contig_size_df.groupby('Contig Len').filter(lambda x: len(x) == 1)\n",
    "df_1run"
   ]
  },
  {
   "cell_type": "markdown",
   "metadata": {},
   "source": [
    "## Plot data"
   ]
  },
  {
   "cell_type": "code",
   "execution_count": 92,
   "metadata": {},
   "outputs": [
    {
     "data": {
      "application/vnd.plotly.v1+json": {
       "config": {
        "plotlyServerURL": "https://plot.ly"
       },
       "data": [
        {
         "marker": {
          "color": "lightseagreen",
          "line": {
           "color": "lightseagreen",
           "width": 5
          },
          "size": 12,
          "symbol": "line-ns"
         },
         "mode": "markers",
         "name": "Present in 1 run",
         "opacity": 0.7,
         "showlegend": true,
         "type": "scattergl",
         "x": [
          13924,
          25278,
          67015,
          21653,
          28107,
          14733,
          24800,
          15900,
          10979,
          13472,
          23529,
          39793,
          49329,
          43716,
          35288,
          13192,
          13108,
          9154,
          3967,
          20821,
          31202,
          62288,
          17783
         ],
         "y": [
          "MINIA",
          "MINIA",
          "MINIA",
          "MINIA",
          "MINIA",
          "MINIA",
          "MINIA",
          "MINIA",
          "MINIA",
          "MINIA",
          "MINIA",
          "MINIA",
          "MINIA",
          "MINIA",
          "MINIA",
          "MINIA",
          "MINIA",
          "MINIA",
          "MINIA",
          "MINIA",
          "MINIA",
          "MINIA",
          "MINIA"
         ]
        },
        {
         "marker": {
          "color": "orange",
          "line": {
           "color": "orange",
           "width": 5
          },
          "size": 12,
          "symbol": "line-ns"
         },
         "mode": "markers",
         "name": "Present in 2 runs",
         "opacity": 0.7,
         "showlegend": true,
         "type": "scattergl",
         "x": [
          63316,
          21528,
          33692,
          9054,
          84611,
          13026,
          19379,
          9516,
          45488,
          23355,
          40316,
          12227,
          50041,
          11589,
          25293,
          14315,
          21528,
          13026,
          19379,
          39074,
          33692,
          40316,
          7832,
          20387,
          9516,
          66997,
          50041,
          12227,
          9054,
          24773,
          9618,
          6483,
          25293,
          8778,
          27084,
          63316,
          14315,
          39074,
          84611,
          23355,
          45488,
          66997,
          8778,
          7832,
          24773,
          27084,
          11589,
          20387,
          9618,
          6483
         ],
         "y": [
          "MINIA",
          "MINIA",
          "MINIA",
          "MINIA",
          "MINIA",
          "MINIA",
          "MINIA",
          "MINIA",
          "MINIA",
          "MINIA",
          "MINIA",
          "MINIA",
          "MINIA",
          "MINIA",
          "MINIA",
          "MINIA",
          "MINIA",
          "MINIA",
          "MINIA",
          "MINIA",
          "MINIA",
          "MINIA",
          "MINIA",
          "MINIA",
          "MINIA",
          "MINIA",
          "MINIA",
          "MINIA",
          "MINIA",
          "MINIA",
          "MINIA",
          "MINIA",
          "MINIA",
          "MINIA",
          "MINIA",
          "MINIA",
          "MINIA",
          "MINIA",
          "MINIA",
          "MINIA",
          "MINIA",
          "MINIA",
          "MINIA",
          "MINIA",
          "MINIA",
          "MINIA",
          "MINIA",
          "MINIA",
          "MINIA",
          "MINIA"
         ]
        },
        {
         "marker": {
          "color": "lightseagreen",
          "line": {
           "color": "lightseagreen",
           "width": 5
          },
          "size": 12,
          "symbol": "line-ns"
         },
         "mode": "markers",
         "name": "Present in 1 run",
         "opacity": 0.7,
         "showlegend": false,
         "type": "scattergl",
         "x": [
          6879,
          44837,
          29358,
          23161,
          12833,
          12556
         ],
         "y": [
          "IDBA-UD",
          "IDBA-UD",
          "IDBA-UD",
          "IDBA-UD",
          "IDBA-UD",
          "IDBA-UD"
         ]
        },
        {
         "marker": {
          "color": "orange",
          "line": {
           "color": "orange",
           "width": 5
          },
          "size": 12,
          "symbol": "line-ns"
         },
         "mode": "markers",
         "name": "Present in 2 runs",
         "opacity": 0.7,
         "showlegend": false,
         "type": "scattergl",
         "x": [
          6519,
          74178,
          35618,
          9012,
          6519,
          74178,
          35618,
          9012
         ],
         "y": [
          "IDBA-UD",
          "IDBA-UD",
          "IDBA-UD",
          "IDBA-UD",
          "IDBA-UD",
          "IDBA-UD",
          "IDBA-UD",
          "IDBA-UD"
         ]
        },
        {
         "marker": {
          "color": "lightseagreen",
          "line": {
           "color": "lightseagreen",
           "width": 5
          },
          "size": 12,
          "symbol": "line-ns"
         },
         "mode": "markers",
         "name": "Present in 1 run",
         "opacity": 0.7,
         "showlegend": false,
         "type": "scattergl",
         "x": [
          43789,
          15099,
          31281,
          6514,
          32000,
          15516,
          12943,
          12000,
          92240,
          53636,
          40880,
          6520
         ],
         "y": [
          "GATBMiniaPipeline",
          "GATBMiniaPipeline",
          "GATBMiniaPipeline",
          "GATBMiniaPipeline",
          "GATBMiniaPipeline",
          "GATBMiniaPipeline",
          "GATBMiniaPipeline",
          "GATBMiniaPipeline",
          "GATBMiniaPipeline",
          "GATBMiniaPipeline",
          "GATBMiniaPipeline",
          "GATBMiniaPipeline"
         ]
        },
        {
         "marker": {
          "color": "orange",
          "line": {
           "color": "orange",
           "width": 5
          },
          "size": 12,
          "symbol": "line-ns"
         },
         "mode": "markers",
         "name": "Present in 2 runs",
         "opacity": 0.7,
         "showlegend": false,
         "type": "scattergl",
         "x": [
          7965,
          44007,
          94504,
          5327,
          18494,
          61185,
          31048,
          26925,
          30855,
          94504,
          44007,
          61185,
          18494,
          31048,
          30855,
          5327,
          26925,
          7965
         ],
         "y": [
          "GATBMiniaPipeline",
          "GATBMiniaPipeline",
          "GATBMiniaPipeline",
          "GATBMiniaPipeline",
          "GATBMiniaPipeline",
          "GATBMiniaPipeline",
          "GATBMiniaPipeline",
          "GATBMiniaPipeline",
          "GATBMiniaPipeline",
          "GATBMiniaPipeline",
          "GATBMiniaPipeline",
          "GATBMiniaPipeline",
          "GATBMiniaPipeline",
          "GATBMiniaPipeline",
          "GATBMiniaPipeline",
          "GATBMiniaPipeline",
          "GATBMiniaPipeline",
          "GATBMiniaPipeline"
         ]
        }
       ],
       "layout": {
        "plot_bgcolor": "rgb(255,255,255)",
        "template": {
         "data": {
          "bar": [
           {
            "error_x": {
             "color": "#2a3f5f"
            },
            "error_y": {
             "color": "#2a3f5f"
            },
            "marker": {
             "line": {
              "color": "#E5ECF6",
              "width": 0.5
             }
            },
            "type": "bar"
           }
          ],
          "barpolar": [
           {
            "marker": {
             "line": {
              "color": "#E5ECF6",
              "width": 0.5
             }
            },
            "type": "barpolar"
           }
          ],
          "carpet": [
           {
            "aaxis": {
             "endlinecolor": "#2a3f5f",
             "gridcolor": "white",
             "linecolor": "white",
             "minorgridcolor": "white",
             "startlinecolor": "#2a3f5f"
            },
            "baxis": {
             "endlinecolor": "#2a3f5f",
             "gridcolor": "white",
             "linecolor": "white",
             "minorgridcolor": "white",
             "startlinecolor": "#2a3f5f"
            },
            "type": "carpet"
           }
          ],
          "choropleth": [
           {
            "colorbar": {
             "outlinewidth": 0,
             "ticks": ""
            },
            "type": "choropleth"
           }
          ],
          "contour": [
           {
            "colorbar": {
             "outlinewidth": 0,
             "ticks": ""
            },
            "colorscale": [
             [
              0,
              "#0d0887"
             ],
             [
              0.1111111111111111,
              "#46039f"
             ],
             [
              0.2222222222222222,
              "#7201a8"
             ],
             [
              0.3333333333333333,
              "#9c179e"
             ],
             [
              0.4444444444444444,
              "#bd3786"
             ],
             [
              0.5555555555555556,
              "#d8576b"
             ],
             [
              0.6666666666666666,
              "#ed7953"
             ],
             [
              0.7777777777777778,
              "#fb9f3a"
             ],
             [
              0.8888888888888888,
              "#fdca26"
             ],
             [
              1,
              "#f0f921"
             ]
            ],
            "type": "contour"
           }
          ],
          "contourcarpet": [
           {
            "colorbar": {
             "outlinewidth": 0,
             "ticks": ""
            },
            "type": "contourcarpet"
           }
          ],
          "heatmap": [
           {
            "colorbar": {
             "outlinewidth": 0,
             "ticks": ""
            },
            "colorscale": [
             [
              0,
              "#0d0887"
             ],
             [
              0.1111111111111111,
              "#46039f"
             ],
             [
              0.2222222222222222,
              "#7201a8"
             ],
             [
              0.3333333333333333,
              "#9c179e"
             ],
             [
              0.4444444444444444,
              "#bd3786"
             ],
             [
              0.5555555555555556,
              "#d8576b"
             ],
             [
              0.6666666666666666,
              "#ed7953"
             ],
             [
              0.7777777777777778,
              "#fb9f3a"
             ],
             [
              0.8888888888888888,
              "#fdca26"
             ],
             [
              1,
              "#f0f921"
             ]
            ],
            "type": "heatmap"
           }
          ],
          "heatmapgl": [
           {
            "colorbar": {
             "outlinewidth": 0,
             "ticks": ""
            },
            "colorscale": [
             [
              0,
              "#0d0887"
             ],
             [
              0.1111111111111111,
              "#46039f"
             ],
             [
              0.2222222222222222,
              "#7201a8"
             ],
             [
              0.3333333333333333,
              "#9c179e"
             ],
             [
              0.4444444444444444,
              "#bd3786"
             ],
             [
              0.5555555555555556,
              "#d8576b"
             ],
             [
              0.6666666666666666,
              "#ed7953"
             ],
             [
              0.7777777777777778,
              "#fb9f3a"
             ],
             [
              0.8888888888888888,
              "#fdca26"
             ],
             [
              1,
              "#f0f921"
             ]
            ],
            "type": "heatmapgl"
           }
          ],
          "histogram": [
           {
            "marker": {
             "colorbar": {
              "outlinewidth": 0,
              "ticks": ""
             }
            },
            "type": "histogram"
           }
          ],
          "histogram2d": [
           {
            "colorbar": {
             "outlinewidth": 0,
             "ticks": ""
            },
            "colorscale": [
             [
              0,
              "#0d0887"
             ],
             [
              0.1111111111111111,
              "#46039f"
             ],
             [
              0.2222222222222222,
              "#7201a8"
             ],
             [
              0.3333333333333333,
              "#9c179e"
             ],
             [
              0.4444444444444444,
              "#bd3786"
             ],
             [
              0.5555555555555556,
              "#d8576b"
             ],
             [
              0.6666666666666666,
              "#ed7953"
             ],
             [
              0.7777777777777778,
              "#fb9f3a"
             ],
             [
              0.8888888888888888,
              "#fdca26"
             ],
             [
              1,
              "#f0f921"
             ]
            ],
            "type": "histogram2d"
           }
          ],
          "histogram2dcontour": [
           {
            "colorbar": {
             "outlinewidth": 0,
             "ticks": ""
            },
            "colorscale": [
             [
              0,
              "#0d0887"
             ],
             [
              0.1111111111111111,
              "#46039f"
             ],
             [
              0.2222222222222222,
              "#7201a8"
             ],
             [
              0.3333333333333333,
              "#9c179e"
             ],
             [
              0.4444444444444444,
              "#bd3786"
             ],
             [
              0.5555555555555556,
              "#d8576b"
             ],
             [
              0.6666666666666666,
              "#ed7953"
             ],
             [
              0.7777777777777778,
              "#fb9f3a"
             ],
             [
              0.8888888888888888,
              "#fdca26"
             ],
             [
              1,
              "#f0f921"
             ]
            ],
            "type": "histogram2dcontour"
           }
          ],
          "mesh3d": [
           {
            "colorbar": {
             "outlinewidth": 0,
             "ticks": ""
            },
            "type": "mesh3d"
           }
          ],
          "parcoords": [
           {
            "line": {
             "colorbar": {
              "outlinewidth": 0,
              "ticks": ""
             }
            },
            "type": "parcoords"
           }
          ],
          "pie": [
           {
            "automargin": true,
            "type": "pie"
           }
          ],
          "scatter": [
           {
            "marker": {
             "colorbar": {
              "outlinewidth": 0,
              "ticks": ""
             }
            },
            "type": "scatter"
           }
          ],
          "scatter3d": [
           {
            "line": {
             "colorbar": {
              "outlinewidth": 0,
              "ticks": ""
             }
            },
            "marker": {
             "colorbar": {
              "outlinewidth": 0,
              "ticks": ""
             }
            },
            "type": "scatter3d"
           }
          ],
          "scattercarpet": [
           {
            "marker": {
             "colorbar": {
              "outlinewidth": 0,
              "ticks": ""
             }
            },
            "type": "scattercarpet"
           }
          ],
          "scattergeo": [
           {
            "marker": {
             "colorbar": {
              "outlinewidth": 0,
              "ticks": ""
             }
            },
            "type": "scattergeo"
           }
          ],
          "scattergl": [
           {
            "marker": {
             "colorbar": {
              "outlinewidth": 0,
              "ticks": ""
             }
            },
            "type": "scattergl"
           }
          ],
          "scattermapbox": [
           {
            "marker": {
             "colorbar": {
              "outlinewidth": 0,
              "ticks": ""
             }
            },
            "type": "scattermapbox"
           }
          ],
          "scatterpolar": [
           {
            "marker": {
             "colorbar": {
              "outlinewidth": 0,
              "ticks": ""
             }
            },
            "type": "scatterpolar"
           }
          ],
          "scatterpolargl": [
           {
            "marker": {
             "colorbar": {
              "outlinewidth": 0,
              "ticks": ""
             }
            },
            "type": "scatterpolargl"
           }
          ],
          "scatterternary": [
           {
            "marker": {
             "colorbar": {
              "outlinewidth": 0,
              "ticks": ""
             }
            },
            "type": "scatterternary"
           }
          ],
          "surface": [
           {
            "colorbar": {
             "outlinewidth": 0,
             "ticks": ""
            },
            "colorscale": [
             [
              0,
              "#0d0887"
             ],
             [
              0.1111111111111111,
              "#46039f"
             ],
             [
              0.2222222222222222,
              "#7201a8"
             ],
             [
              0.3333333333333333,
              "#9c179e"
             ],
             [
              0.4444444444444444,
              "#bd3786"
             ],
             [
              0.5555555555555556,
              "#d8576b"
             ],
             [
              0.6666666666666666,
              "#ed7953"
             ],
             [
              0.7777777777777778,
              "#fb9f3a"
             ],
             [
              0.8888888888888888,
              "#fdca26"
             ],
             [
              1,
              "#f0f921"
             ]
            ],
            "type": "surface"
           }
          ],
          "table": [
           {
            "cells": {
             "fill": {
              "color": "#EBF0F8"
             },
             "line": {
              "color": "white"
             }
            },
            "header": {
             "fill": {
              "color": "#C8D4E3"
             },
             "line": {
              "color": "white"
             }
            },
            "type": "table"
           }
          ]
         },
         "layout": {
          "annotationdefaults": {
           "arrowcolor": "#2a3f5f",
           "arrowhead": 0,
           "arrowwidth": 1
          },
          "coloraxis": {
           "colorbar": {
            "outlinewidth": 0,
            "ticks": ""
           }
          },
          "colorscale": {
           "diverging": [
            [
             0,
             "#8e0152"
            ],
            [
             0.1,
             "#c51b7d"
            ],
            [
             0.2,
             "#de77ae"
            ],
            [
             0.3,
             "#f1b6da"
            ],
            [
             0.4,
             "#fde0ef"
            ],
            [
             0.5,
             "#f7f7f7"
            ],
            [
             0.6,
             "#e6f5d0"
            ],
            [
             0.7,
             "#b8e186"
            ],
            [
             0.8,
             "#7fbc41"
            ],
            [
             0.9,
             "#4d9221"
            ],
            [
             1,
             "#276419"
            ]
           ],
           "sequential": [
            [
             0,
             "#0d0887"
            ],
            [
             0.1111111111111111,
             "#46039f"
            ],
            [
             0.2222222222222222,
             "#7201a8"
            ],
            [
             0.3333333333333333,
             "#9c179e"
            ],
            [
             0.4444444444444444,
             "#bd3786"
            ],
            [
             0.5555555555555556,
             "#d8576b"
            ],
            [
             0.6666666666666666,
             "#ed7953"
            ],
            [
             0.7777777777777778,
             "#fb9f3a"
            ],
            [
             0.8888888888888888,
             "#fdca26"
            ],
            [
             1,
             "#f0f921"
            ]
           ],
           "sequentialminus": [
            [
             0,
             "#0d0887"
            ],
            [
             0.1111111111111111,
             "#46039f"
            ],
            [
             0.2222222222222222,
             "#7201a8"
            ],
            [
             0.3333333333333333,
             "#9c179e"
            ],
            [
             0.4444444444444444,
             "#bd3786"
            ],
            [
             0.5555555555555556,
             "#d8576b"
            ],
            [
             0.6666666666666666,
             "#ed7953"
            ],
            [
             0.7777777777777778,
             "#fb9f3a"
            ],
            [
             0.8888888888888888,
             "#fdca26"
            ],
            [
             1,
             "#f0f921"
            ]
           ]
          },
          "colorway": [
           "#636efa",
           "#EF553B",
           "#00cc96",
           "#ab63fa",
           "#FFA15A",
           "#19d3f3",
           "#FF6692",
           "#B6E880",
           "#FF97FF",
           "#FECB52"
          ],
          "font": {
           "color": "#2a3f5f"
          },
          "geo": {
           "bgcolor": "white",
           "lakecolor": "white",
           "landcolor": "#E5ECF6",
           "showlakes": true,
           "showland": true,
           "subunitcolor": "white"
          },
          "hoverlabel": {
           "align": "left"
          },
          "hovermode": "closest",
          "mapbox": {
           "style": "light"
          },
          "paper_bgcolor": "white",
          "plot_bgcolor": "#E5ECF6",
          "polar": {
           "angularaxis": {
            "gridcolor": "white",
            "linecolor": "white",
            "ticks": ""
           },
           "bgcolor": "#E5ECF6",
           "radialaxis": {
            "gridcolor": "white",
            "linecolor": "white",
            "ticks": ""
           }
          },
          "scene": {
           "xaxis": {
            "backgroundcolor": "#E5ECF6",
            "gridcolor": "white",
            "gridwidth": 2,
            "linecolor": "white",
            "showbackground": true,
            "ticks": "",
            "zerolinecolor": "white"
           },
           "yaxis": {
            "backgroundcolor": "#E5ECF6",
            "gridcolor": "white",
            "gridwidth": 2,
            "linecolor": "white",
            "showbackground": true,
            "ticks": "",
            "zerolinecolor": "white"
           },
           "zaxis": {
            "backgroundcolor": "#E5ECF6",
            "gridcolor": "white",
            "gridwidth": 2,
            "linecolor": "white",
            "showbackground": true,
            "ticks": "",
            "zerolinecolor": "white"
           }
          },
          "shapedefaults": {
           "line": {
            "color": "#2a3f5f"
           }
          },
          "ternary": {
           "aaxis": {
            "gridcolor": "white",
            "linecolor": "white",
            "ticks": ""
           },
           "baxis": {
            "gridcolor": "white",
            "linecolor": "white",
            "ticks": ""
           },
           "bgcolor": "#E5ECF6",
           "caxis": {
            "gridcolor": "white",
            "linecolor": "white",
            "ticks": ""
           }
          },
          "title": {
           "x": 0.05
          },
          "xaxis": {
           "automargin": true,
           "gridcolor": "white",
           "linecolor": "white",
           "ticks": "",
           "title": {
            "standoff": 15
           },
           "zerolinecolor": "white",
           "zerolinewidth": 2
          },
          "yaxis": {
           "automargin": true,
           "gridcolor": "white",
           "linecolor": "white",
           "ticks": "",
           "title": {
            "standoff": 15
           },
           "zerolinecolor": "white",
           "zerolinewidth": 2
          }
         }
        },
        "title": {
         "text": "Inconsistent contigs per assembler over 3 LMAS runs"
        },
        "xaxis": {
         "gridcolor": "#DCDCDC",
         "linecolor": "#DCDCDC",
         "linewidth": 1,
         "showline": true,
         "title": {
          "text": "Contig Size in Basepairs"
         }
        }
       }
      },
      "text/html": [
       "<div>                            <div id=\"9efc2b04-3c0e-4aa3-ac6d-5c87abecad88\" class=\"plotly-graph-div\" style=\"height:525px; width:100%;\"></div>            <script type=\"text/javascript\">                require([\"plotly\"], function(Plotly) {                    window.PLOTLYENV=window.PLOTLYENV || {};                                    if (document.getElementById(\"9efc2b04-3c0e-4aa3-ac6d-5c87abecad88\")) {                    Plotly.newPlot(                        \"9efc2b04-3c0e-4aa3-ac6d-5c87abecad88\",                        [{\"marker\": {\"color\": \"lightseagreen\", \"line\": {\"color\": \"lightseagreen\", \"width\": 5}, \"size\": 12, \"symbol\": \"line-ns\"}, \"mode\": \"markers\", \"name\": \"Present in 1 run\", \"opacity\": 0.7, \"showlegend\": true, \"type\": \"scattergl\", \"x\": [13924, 25278, 67015, 21653, 28107, 14733, 24800, 15900, 10979, 13472, 23529, 39793, 49329, 43716, 35288, 13192, 13108, 9154, 3967, 20821, 31202, 62288, 17783], \"y\": [\"MINIA\", \"MINIA\", \"MINIA\", \"MINIA\", \"MINIA\", \"MINIA\", \"MINIA\", \"MINIA\", \"MINIA\", \"MINIA\", \"MINIA\", \"MINIA\", \"MINIA\", \"MINIA\", \"MINIA\", \"MINIA\", \"MINIA\", \"MINIA\", \"MINIA\", \"MINIA\", \"MINIA\", \"MINIA\", \"MINIA\"]}, {\"marker\": {\"color\": \"orange\", \"line\": {\"color\": \"orange\", \"width\": 5}, \"size\": 12, \"symbol\": \"line-ns\"}, \"mode\": \"markers\", \"name\": \"Present in 2 runs\", \"opacity\": 0.7, \"showlegend\": true, \"type\": \"scattergl\", \"x\": [63316, 21528, 33692, 9054, 84611, 13026, 19379, 9516, 45488, 23355, 40316, 12227, 50041, 11589, 25293, 14315, 21528, 13026, 19379, 39074, 33692, 40316, 7832, 20387, 9516, 66997, 50041, 12227, 9054, 24773, 9618, 6483, 25293, 8778, 27084, 63316, 14315, 39074, 84611, 23355, 45488, 66997, 8778, 7832, 24773, 27084, 11589, 20387, 9618, 6483], \"y\": [\"MINIA\", \"MINIA\", \"MINIA\", \"MINIA\", \"MINIA\", \"MINIA\", \"MINIA\", \"MINIA\", \"MINIA\", \"MINIA\", \"MINIA\", \"MINIA\", \"MINIA\", \"MINIA\", \"MINIA\", \"MINIA\", \"MINIA\", \"MINIA\", \"MINIA\", \"MINIA\", \"MINIA\", \"MINIA\", \"MINIA\", \"MINIA\", \"MINIA\", \"MINIA\", \"MINIA\", \"MINIA\", \"MINIA\", \"MINIA\", \"MINIA\", \"MINIA\", \"MINIA\", \"MINIA\", \"MINIA\", \"MINIA\", \"MINIA\", \"MINIA\", \"MINIA\", \"MINIA\", \"MINIA\", \"MINIA\", \"MINIA\", \"MINIA\", \"MINIA\", \"MINIA\", \"MINIA\", \"MINIA\", \"MINIA\", \"MINIA\"]}, {\"marker\": {\"color\": \"lightseagreen\", \"line\": {\"color\": \"lightseagreen\", \"width\": 5}, \"size\": 12, \"symbol\": \"line-ns\"}, \"mode\": \"markers\", \"name\": \"Present in 1 run\", \"opacity\": 0.7, \"showlegend\": false, \"type\": \"scattergl\", \"x\": [6879, 44837, 29358, 23161, 12833, 12556], \"y\": [\"IDBA-UD\", \"IDBA-UD\", \"IDBA-UD\", \"IDBA-UD\", \"IDBA-UD\", \"IDBA-UD\"]}, {\"marker\": {\"color\": \"orange\", \"line\": {\"color\": \"orange\", \"width\": 5}, \"size\": 12, \"symbol\": \"line-ns\"}, \"mode\": \"markers\", \"name\": \"Present in 2 runs\", \"opacity\": 0.7, \"showlegend\": false, \"type\": \"scattergl\", \"x\": [6519, 74178, 35618, 9012, 6519, 74178, 35618, 9012], \"y\": [\"IDBA-UD\", \"IDBA-UD\", \"IDBA-UD\", \"IDBA-UD\", \"IDBA-UD\", \"IDBA-UD\", \"IDBA-UD\", \"IDBA-UD\"]}, {\"marker\": {\"color\": \"lightseagreen\", \"line\": {\"color\": \"lightseagreen\", \"width\": 5}, \"size\": 12, \"symbol\": \"line-ns\"}, \"mode\": \"markers\", \"name\": \"Present in 1 run\", \"opacity\": 0.7, \"showlegend\": false, \"type\": \"scattergl\", \"x\": [43789, 15099, 31281, 6514, 32000, 15516, 12943, 12000, 92240, 53636, 40880, 6520], \"y\": [\"GATBMiniaPipeline\", \"GATBMiniaPipeline\", \"GATBMiniaPipeline\", \"GATBMiniaPipeline\", \"GATBMiniaPipeline\", \"GATBMiniaPipeline\", \"GATBMiniaPipeline\", \"GATBMiniaPipeline\", \"GATBMiniaPipeline\", \"GATBMiniaPipeline\", \"GATBMiniaPipeline\", \"GATBMiniaPipeline\"]}, {\"marker\": {\"color\": \"orange\", \"line\": {\"color\": \"orange\", \"width\": 5}, \"size\": 12, \"symbol\": \"line-ns\"}, \"mode\": \"markers\", \"name\": \"Present in 2 runs\", \"opacity\": 0.7, \"showlegend\": false, \"type\": \"scattergl\", \"x\": [7965, 44007, 94504, 5327, 18494, 61185, 31048, 26925, 30855, 94504, 44007, 61185, 18494, 31048, 30855, 5327, 26925, 7965], \"y\": [\"GATBMiniaPipeline\", \"GATBMiniaPipeline\", \"GATBMiniaPipeline\", \"GATBMiniaPipeline\", \"GATBMiniaPipeline\", \"GATBMiniaPipeline\", \"GATBMiniaPipeline\", \"GATBMiniaPipeline\", \"GATBMiniaPipeline\", \"GATBMiniaPipeline\", \"GATBMiniaPipeline\", \"GATBMiniaPipeline\", \"GATBMiniaPipeline\", \"GATBMiniaPipeline\", \"GATBMiniaPipeline\", \"GATBMiniaPipeline\", \"GATBMiniaPipeline\", \"GATBMiniaPipeline\"]}],                        {\"plot_bgcolor\": \"rgb(255,255,255)\", \"template\": {\"data\": {\"bar\": [{\"error_x\": {\"color\": \"#2a3f5f\"}, \"error_y\": {\"color\": \"#2a3f5f\"}, \"marker\": {\"line\": {\"color\": \"#E5ECF6\", \"width\": 0.5}}, \"type\": \"bar\"}], \"barpolar\": [{\"marker\": {\"line\": {\"color\": \"#E5ECF6\", \"width\": 0.5}}, \"type\": \"barpolar\"}], \"carpet\": [{\"aaxis\": {\"endlinecolor\": \"#2a3f5f\", \"gridcolor\": \"white\", \"linecolor\": \"white\", \"minorgridcolor\": \"white\", \"startlinecolor\": \"#2a3f5f\"}, \"baxis\": {\"endlinecolor\": \"#2a3f5f\", \"gridcolor\": \"white\", \"linecolor\": \"white\", \"minorgridcolor\": \"white\", \"startlinecolor\": \"#2a3f5f\"}, \"type\": \"carpet\"}], \"choropleth\": [{\"colorbar\": {\"outlinewidth\": 0, \"ticks\": \"\"}, \"type\": \"choropleth\"}], \"contour\": [{\"colorbar\": {\"outlinewidth\": 0, \"ticks\": \"\"}, \"colorscale\": [[0.0, \"#0d0887\"], [0.1111111111111111, \"#46039f\"], [0.2222222222222222, \"#7201a8\"], [0.3333333333333333, \"#9c179e\"], [0.4444444444444444, \"#bd3786\"], [0.5555555555555556, \"#d8576b\"], [0.6666666666666666, \"#ed7953\"], [0.7777777777777778, \"#fb9f3a\"], [0.8888888888888888, \"#fdca26\"], [1.0, \"#f0f921\"]], \"type\": \"contour\"}], \"contourcarpet\": [{\"colorbar\": {\"outlinewidth\": 0, \"ticks\": \"\"}, \"type\": \"contourcarpet\"}], \"heatmap\": [{\"colorbar\": {\"outlinewidth\": 0, \"ticks\": \"\"}, \"colorscale\": [[0.0, \"#0d0887\"], [0.1111111111111111, \"#46039f\"], [0.2222222222222222, \"#7201a8\"], [0.3333333333333333, \"#9c179e\"], [0.4444444444444444, \"#bd3786\"], [0.5555555555555556, \"#d8576b\"], [0.6666666666666666, \"#ed7953\"], [0.7777777777777778, \"#fb9f3a\"], [0.8888888888888888, \"#fdca26\"], [1.0, \"#f0f921\"]], \"type\": \"heatmap\"}], \"heatmapgl\": [{\"colorbar\": {\"outlinewidth\": 0, \"ticks\": \"\"}, \"colorscale\": [[0.0, \"#0d0887\"], [0.1111111111111111, \"#46039f\"], [0.2222222222222222, \"#7201a8\"], [0.3333333333333333, \"#9c179e\"], [0.4444444444444444, \"#bd3786\"], [0.5555555555555556, \"#d8576b\"], [0.6666666666666666, \"#ed7953\"], [0.7777777777777778, \"#fb9f3a\"], [0.8888888888888888, \"#fdca26\"], [1.0, \"#f0f921\"]], \"type\": \"heatmapgl\"}], \"histogram\": [{\"marker\": {\"colorbar\": {\"outlinewidth\": 0, \"ticks\": \"\"}}, \"type\": \"histogram\"}], \"histogram2d\": [{\"colorbar\": {\"outlinewidth\": 0, \"ticks\": \"\"}, \"colorscale\": [[0.0, \"#0d0887\"], [0.1111111111111111, \"#46039f\"], [0.2222222222222222, \"#7201a8\"], [0.3333333333333333, \"#9c179e\"], [0.4444444444444444, \"#bd3786\"], [0.5555555555555556, \"#d8576b\"], [0.6666666666666666, \"#ed7953\"], [0.7777777777777778, \"#fb9f3a\"], [0.8888888888888888, \"#fdca26\"], [1.0, \"#f0f921\"]], \"type\": \"histogram2d\"}], \"histogram2dcontour\": [{\"colorbar\": {\"outlinewidth\": 0, \"ticks\": \"\"}, \"colorscale\": [[0.0, \"#0d0887\"], [0.1111111111111111, \"#46039f\"], [0.2222222222222222, \"#7201a8\"], [0.3333333333333333, \"#9c179e\"], [0.4444444444444444, \"#bd3786\"], [0.5555555555555556, \"#d8576b\"], [0.6666666666666666, \"#ed7953\"], [0.7777777777777778, \"#fb9f3a\"], [0.8888888888888888, \"#fdca26\"], [1.0, \"#f0f921\"]], \"type\": \"histogram2dcontour\"}], \"mesh3d\": [{\"colorbar\": {\"outlinewidth\": 0, \"ticks\": \"\"}, \"type\": \"mesh3d\"}], \"parcoords\": [{\"line\": {\"colorbar\": {\"outlinewidth\": 0, \"ticks\": \"\"}}, \"type\": \"parcoords\"}], \"pie\": [{\"automargin\": true, \"type\": \"pie\"}], \"scatter\": [{\"marker\": {\"colorbar\": {\"outlinewidth\": 0, \"ticks\": \"\"}}, \"type\": \"scatter\"}], \"scatter3d\": [{\"line\": {\"colorbar\": {\"outlinewidth\": 0, \"ticks\": \"\"}}, \"marker\": {\"colorbar\": {\"outlinewidth\": 0, \"ticks\": \"\"}}, \"type\": \"scatter3d\"}], \"scattercarpet\": [{\"marker\": {\"colorbar\": {\"outlinewidth\": 0, \"ticks\": \"\"}}, \"type\": \"scattercarpet\"}], \"scattergeo\": [{\"marker\": {\"colorbar\": {\"outlinewidth\": 0, \"ticks\": \"\"}}, \"type\": \"scattergeo\"}], \"scattergl\": [{\"marker\": {\"colorbar\": {\"outlinewidth\": 0, \"ticks\": \"\"}}, \"type\": \"scattergl\"}], \"scattermapbox\": [{\"marker\": {\"colorbar\": {\"outlinewidth\": 0, \"ticks\": \"\"}}, \"type\": \"scattermapbox\"}], \"scatterpolar\": [{\"marker\": {\"colorbar\": {\"outlinewidth\": 0, \"ticks\": \"\"}}, \"type\": \"scatterpolar\"}], \"scatterpolargl\": [{\"marker\": {\"colorbar\": {\"outlinewidth\": 0, \"ticks\": \"\"}}, \"type\": \"scatterpolargl\"}], \"scatterternary\": [{\"marker\": {\"colorbar\": {\"outlinewidth\": 0, \"ticks\": \"\"}}, \"type\": \"scatterternary\"}], \"surface\": [{\"colorbar\": {\"outlinewidth\": 0, \"ticks\": \"\"}, \"colorscale\": [[0.0, \"#0d0887\"], [0.1111111111111111, \"#46039f\"], [0.2222222222222222, \"#7201a8\"], [0.3333333333333333, \"#9c179e\"], [0.4444444444444444, \"#bd3786\"], [0.5555555555555556, \"#d8576b\"], [0.6666666666666666, \"#ed7953\"], [0.7777777777777778, \"#fb9f3a\"], [0.8888888888888888, \"#fdca26\"], [1.0, \"#f0f921\"]], \"type\": \"surface\"}], \"table\": [{\"cells\": {\"fill\": {\"color\": \"#EBF0F8\"}, \"line\": {\"color\": \"white\"}}, \"header\": {\"fill\": {\"color\": \"#C8D4E3\"}, \"line\": {\"color\": \"white\"}}, \"type\": \"table\"}]}, \"layout\": {\"annotationdefaults\": {\"arrowcolor\": \"#2a3f5f\", \"arrowhead\": 0, \"arrowwidth\": 1}, \"coloraxis\": {\"colorbar\": {\"outlinewidth\": 0, \"ticks\": \"\"}}, \"colorscale\": {\"diverging\": [[0, \"#8e0152\"], [0.1, \"#c51b7d\"], [0.2, \"#de77ae\"], [0.3, \"#f1b6da\"], [0.4, \"#fde0ef\"], [0.5, \"#f7f7f7\"], [0.6, \"#e6f5d0\"], [0.7, \"#b8e186\"], [0.8, \"#7fbc41\"], [0.9, \"#4d9221\"], [1, \"#276419\"]], \"sequential\": [[0.0, \"#0d0887\"], [0.1111111111111111, \"#46039f\"], [0.2222222222222222, \"#7201a8\"], [0.3333333333333333, \"#9c179e\"], [0.4444444444444444, \"#bd3786\"], [0.5555555555555556, \"#d8576b\"], [0.6666666666666666, \"#ed7953\"], [0.7777777777777778, \"#fb9f3a\"], [0.8888888888888888, \"#fdca26\"], [1.0, \"#f0f921\"]], \"sequentialminus\": [[0.0, \"#0d0887\"], [0.1111111111111111, \"#46039f\"], [0.2222222222222222, \"#7201a8\"], [0.3333333333333333, \"#9c179e\"], [0.4444444444444444, \"#bd3786\"], [0.5555555555555556, \"#d8576b\"], [0.6666666666666666, \"#ed7953\"], [0.7777777777777778, \"#fb9f3a\"], [0.8888888888888888, \"#fdca26\"], [1.0, \"#f0f921\"]]}, \"colorway\": [\"#636efa\", \"#EF553B\", \"#00cc96\", \"#ab63fa\", \"#FFA15A\", \"#19d3f3\", \"#FF6692\", \"#B6E880\", \"#FF97FF\", \"#FECB52\"], \"font\": {\"color\": \"#2a3f5f\"}, \"geo\": {\"bgcolor\": \"white\", \"lakecolor\": \"white\", \"landcolor\": \"#E5ECF6\", \"showlakes\": true, \"showland\": true, \"subunitcolor\": \"white\"}, \"hoverlabel\": {\"align\": \"left\"}, \"hovermode\": \"closest\", \"mapbox\": {\"style\": \"light\"}, \"paper_bgcolor\": \"white\", \"plot_bgcolor\": \"#E5ECF6\", \"polar\": {\"angularaxis\": {\"gridcolor\": \"white\", \"linecolor\": \"white\", \"ticks\": \"\"}, \"bgcolor\": \"#E5ECF6\", \"radialaxis\": {\"gridcolor\": \"white\", \"linecolor\": \"white\", \"ticks\": \"\"}}, \"scene\": {\"xaxis\": {\"backgroundcolor\": \"#E5ECF6\", \"gridcolor\": \"white\", \"gridwidth\": 2, \"linecolor\": \"white\", \"showbackground\": true, \"ticks\": \"\", \"zerolinecolor\": \"white\"}, \"yaxis\": {\"backgroundcolor\": \"#E5ECF6\", \"gridcolor\": \"white\", \"gridwidth\": 2, \"linecolor\": \"white\", \"showbackground\": true, \"ticks\": \"\", \"zerolinecolor\": \"white\"}, \"zaxis\": {\"backgroundcolor\": \"#E5ECF6\", \"gridcolor\": \"white\", \"gridwidth\": 2, \"linecolor\": \"white\", \"showbackground\": true, \"ticks\": \"\", \"zerolinecolor\": \"white\"}}, \"shapedefaults\": {\"line\": {\"color\": \"#2a3f5f\"}}, \"ternary\": {\"aaxis\": {\"gridcolor\": \"white\", \"linecolor\": \"white\", \"ticks\": \"\"}, \"baxis\": {\"gridcolor\": \"white\", \"linecolor\": \"white\", \"ticks\": \"\"}, \"bgcolor\": \"#E5ECF6\", \"caxis\": {\"gridcolor\": \"white\", \"linecolor\": \"white\", \"ticks\": \"\"}}, \"title\": {\"x\": 0.05}, \"xaxis\": {\"automargin\": true, \"gridcolor\": \"white\", \"linecolor\": \"white\", \"ticks\": \"\", \"title\": {\"standoff\": 15}, \"zerolinecolor\": \"white\", \"zerolinewidth\": 2}, \"yaxis\": {\"automargin\": true, \"gridcolor\": \"white\", \"linecolor\": \"white\", \"ticks\": \"\", \"title\": {\"standoff\": 15}, \"zerolinecolor\": \"white\", \"zerolinewidth\": 2}}}, \"title\": {\"text\": \"Inconsistent contigs per assembler over 3 LMAS runs\"}, \"xaxis\": {\"gridcolor\": \"#DCDCDC\", \"linecolor\": \"#DCDCDC\", \"linewidth\": 1, \"showline\": true, \"title\": {\"text\": \"Contig Size in Basepairs\"}}},                        {\"responsive\": true}                    ).then(function(){\n",
       "                            \n",
       "var gd = document.getElementById('9efc2b04-3c0e-4aa3-ac6d-5c87abecad88');\n",
       "var x = new MutationObserver(function (mutations, observer) {{\n",
       "        var display = window.getComputedStyle(gd).display;\n",
       "        if (!display || display === 'none') {{\n",
       "            console.log([gd, 'removed!']);\n",
       "            Plotly.purge(gd);\n",
       "            observer.disconnect();\n",
       "        }}\n",
       "}});\n",
       "\n",
       "// Listen for the removal of the full notebook cells\n",
       "var notebookContainer = gd.closest('#notebook-container');\n",
       "if (notebookContainer) {{\n",
       "    x.observe(notebookContainer, {childList: true});\n",
       "}}\n",
       "\n",
       "// Listen for the clearing of the current output cell\n",
       "var outputEl = gd.closest('.output');\n",
       "if (outputEl) {{\n",
       "    x.observe(outputEl, {childList: true});\n",
       "}}\n",
       "\n",
       "                        })                };                });            </script>        </div>"
      ]
     },
     "metadata": {},
     "output_type": "display_data"
    },
    {
     "data": {
      "text/plain": [
       "'Plots/Contig Size/Unique contigs in 3 runs.html'"
      ]
     },
     "execution_count": 92,
     "metadata": {},
     "output_type": "execute_result"
    }
   ],
   "source": [
    "#Just the different contigs\n",
    "fig_contigs = go.Figure()\n",
    "for assembler in sorted(contig_size_df['Assembler'].unique(), key=lambda v: v.upper(), reverse=True):\n",
    "    showlegend = True if assembler == \"MINIA\" else False\n",
    "    #n=1\n",
    "    contigs_df= df_1run[df_1run['Assembler'] == assembler]\n",
    "    if not contigs_df.empty:\n",
    "        coord_list = list(contigs_df['Contig Len'])\n",
    "        fig_contigs.add_trace(go.Scattergl(x=coord_list,\n",
    "                                               y=[assembler]*len(coord_list),\n",
    "                                               mode='markers',\n",
    "                                               opacity=0.7,\n",
    "                                               marker_symbol='line-ns',\n",
    "                                               marker=dict(color='lightseagreen', size=12,\n",
    "                                                           line=dict(width=5,\n",
    "                                                                     color='lightseagreen')),\n",
    "                                               name=\"Present in 1 run\",\n",
    "                                               showlegend=showlegend))\n",
    "    #n=2\n",
    "    contigs_df_2= df_2runs[df_2runs['Assembler'] == assembler]\n",
    "    if not contigs_df_2.empty:\n",
    "        coord_list = list(contigs_df_2['Contig Len'])\n",
    "        fig_contigs.add_trace(go.Scattergl(x=coord_list,\n",
    "                                               y=[assembler]*len(coord_list),\n",
    "                                               mode='markers',\n",
    "                                               opacity=0.7,\n",
    "                                               marker_symbol='line-ns',\n",
    "                                               marker=dict(color='orange', size=12,\n",
    "                                                           line=dict(width=5,\n",
    "                                                                     color='orange')),\n",
    "                                               name=\"Present in 2 runs\",\n",
    "                                               showlegend=showlegend))\n",
    "\n",
    "fig_contigs.update_layout(plot_bgcolor='rgb(255,255,255)', title=\"Inconsistent contigs per assembler over 3 LMAS runs\")\n",
    "fig_contigs.update_xaxes(showline=True, linewidth=1, linecolor='#DCDCDC', gridcolor='#DCDCDC', title=\"Contig Size in Basepairs\")\n",
    "fig_contigs.show()\n",
    "plot(fig_contigs,auto_open=False, filename=\"Plots/Contig Size/Unique contigs in 3 runs\")"
   ]
  },
  {
   "cell_type": "code",
   "execution_count": null,
   "metadata": {},
   "outputs": [],
   "source": []
  }
 ],
 "metadata": {
  "kernelspec": {
   "display_name": "Python 3",
   "language": "python",
   "name": "python3"
  },
  "language_info": {
   "codemirror_mode": {
    "name": "ipython",
    "version": 3
   },
   "file_extension": ".py",
   "mimetype": "text/x-python",
   "name": "python",
   "nbconvert_exporter": "python",
   "pygments_lexer": "ipython3",
   "version": "3.8.6"
  }
 },
 "nbformat": 4,
 "nbformat_minor": 4
}
