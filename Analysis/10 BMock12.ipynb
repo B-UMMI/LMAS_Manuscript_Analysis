{
 "cells": [
  {
   "cell_type": "markdown",
   "id": "34f121d9",
   "metadata": {},
   "source": [
    "# BMock12 Data Analysis"
   ]
  },
  {
   "cell_type": "markdown",
   "id": "14247691",
   "metadata": {},
   "source": [
    "The success of an assembly is evaluated by the computation of metrics in two defined ways: globally through statistics inherent to the complete set of sequences that were assembled, and relative to the replicons present in the sample. \n",
    "\n",
    "The following metrics are computed for the complete and filtered set of assembled sequences, restricted to contigs of length above a specified minimum size: \n",
    "\n",
    "- **Contig sizes**\n",
    "    - **Contigs:** The total number of contigs in the assembly;\n",
    "    - **Basepairs:** The total number of bases in the assembly;\n",
    "    - **Maximum sequence length:** The length of the largest contig in the assembly.\n",
    "    - **Number of ‘N’s:** Number of uncalled bases (N's) \n",
    "- **Contiguity**\n",
    "    - **Nx (where 0  < x  ⩽ 100):** Length for which the collection of all assembled sequences of that length or longer in an assembly covers at least a given percentage of the total length of the assembly\n",
    "- **Misassembly**\n",
    "    - **Misassemblies** - Number of aligned contigs that contain a misassembly event\n"
   ]
  },
  {
   "cell_type": "markdown",
   "id": "30e4fe73",
   "metadata": {},
   "source": [
    "## Imports"
   ]
  },
  {
   "cell_type": "code",
   "execution_count": 1,
   "id": "b3934bb2",
   "metadata": {},
   "outputs": [],
   "source": [
    "import sys\n",
    "from plotly.offline import plot\n",
    "import glob\n",
    "import fnmatch\n",
    "import plotly.graph_objects as go\n",
    "from plotly.subplots import make_subplots\n",
    "import json\n",
    "import pandas as pd\n",
    "from itertools import groupby\n",
    "import csv\n",
    "import numpy as np"
   ]
  },
  {
   "cell_type": "markdown",
   "id": "243915d8",
   "metadata": {},
   "source": [
    "## Global variables"
   ]
  },
  {
   "cell_type": "code",
   "execution_count": 25,
   "id": "79a695f0",
   "metadata": {},
   "outputs": [],
   "source": [
    "ASSEMBLER_PROCESS_LIST = [\"GATBMINIAPIPELINE\", \"MEGAHIT\", \"METASPADES\", \"UNICYCLER\", \"SPADES\",\n",
    "                          \"SKESA\", \"IDBA\"]\n",
    "PROCESS_TO_NAME = {\"GATBMINIAPIPELINE\": \"GATBMiniaPipeline\",\n",
    "                   \"MEGAHIT\": \"MEGAHIT\", \n",
    "                   \"METASPADES\": \"metaSPAdes\", \n",
    "                   \"UNICYCLER\": \"Unicycler\", \n",
    "                   \"SPADES\": \"SPAdes\",\n",
    "                   \"SKESA\": \"SKESA\",\n",
    "                   \"IDBA\": \"IDBA-UD\"}\n",
    "\n",
    "genomic_assemblers = ['SKESA', 'SPAdes', 'Unicycler']\n",
    "metagenomic_assemblers = ['GATBMiniaPipeline', 'MEGAHIT', 'metaSPAdes']\n",
    "\n",
    "best_min = ['Ns', 'contigs', 'filtered_Ns', 'filtered_contigs','misassembled contigs','misassembly events']\n",
    "best_max = ['basepairs','filtered_basepairs','filtered_mapped_reads','filtered_n50','mapped_reads','max_contig','n50']\n",
    "\n",
    "COLOURS = ['#5876c8', '#58AEC8', '#009392', '#39B185', '#9CCB86', '#E9E29C', '#EEB479', '#E88471', '#CF597E', '#a54765', '#a42a2a', '#835221', 'darkgray']\n",
    "\n",
    "PLOT_SUBTITLES = [\"2615840527\", \"2617270709\", \n",
    "                  \"2615840533 A\", \"2623620557\", \n",
    "                  \"2615840533 B\", \"2623620567\", \n",
    "                  \"2615840601\", \"2623620609\", \n",
    "                  \"2615840646\", \"2623620617\", \n",
    "                  \"2615840697\", \"2623620618\", \n",
    "                  \"2616644829\"]"
   ]
  },
  {
   "cell_type": "markdown",
   "id": "0f06076f",
   "metadata": {},
   "source": [
    "## Global metrics"
   ]
  },
  {
   "cell_type": "code",
   "execution_count": 38,
   "id": "602146a7",
   "metadata": {},
   "outputs": [
    {
     "name": "stdout",
     "output_type": "stream",
     "text": [
      "Processing pipeline_report_tables.json data from BMock12...\n"
     ]
    }
   ],
   "source": [
    "report_glob = glob.glob('../Results/BMock12/report/pipeline_report_tables.json')\n",
    "global_pipeline_metrics_df = pd.DataFrame()\n",
    "\n",
    "for pipeline_report_file in report_glob:\n",
    "    report_file_name = pipeline_report_file.split('/')[-1]\n",
    "    stats_run = pipeline_report_file.split('/')[-3]\n",
    "    print('Processing {0} data from {1}...'.format(report_file_name, stats_run))\n",
    "    \n",
    "    with open(pipeline_report_file) as _fh:\n",
    "        json_report = json.load(_fh)\n",
    "        for sample in json_report.keys():\n",
    "            for line in json_report[sample]['GlobalTable']:\n",
    "                assembler = line['assembler']\n",
    "                global_pipeline_metrics_df = global_pipeline_metrics_df.append({'run': stats_run,\n",
    "                                                                                'sample': sample,\n",
    "                                                                                'assembler': line['assembler'],\n",
    "                                                                                'contigs': int(line['original']['contigs']),\n",
    "                                                                                'basepairs': int(line['original']['basepairs']),\n",
    "                                                                                'max_contig': int(line['original']['max_contig_size']),\n",
    "                                                                                'n50': int(line['original']['N50']),\n",
    "                                                                                'mapped_reads': line['original']['mapped_reads'],\n",
    "                                                                                'Ns': int(line['original']['Ns']),\n",
    "                                                                                'misassembled contigs': line['filtered']['misassembled_contigs'],\n",
    "                                                                                'misassembly events': line['filtered']['misassembly_events'],\n",
    "                                                                                'filtered_contigs': line['filtered']['contigs'],\n",
    "                                                                                'filtered_basepairs': line['filtered']['basepairs'],\n",
    "                                                                                'filtered_n50': line['filtered']['N50'],\n",
    "                                                                                'filtered_Ns': line['filtered']['Ns'],\n",
    "                                                                                'filtered_mapped_reads': line['filtered']['mapped_reads'],\n",
    "                                                                               },\n",
    "                                                                               ignore_index=True)\n",
    "global_pipeline_metrics_df['type'] = np.where(global_pipeline_metrics_df['assembler'].isin(genomic_assemblers), 'Genomic', 'Metagenomic')\n",
    "global_pipeline_metrics_df[['contigs','basepairs','max_contig', 'Ns','n50', 'filtered_n50','misassembled contigs', 'misassembly events']] = global_pipeline_metrics_df[['contigs','basepairs','max_contig', 'Ns','n50','filtered_n50','misassembled contigs', 'misassembly events']].apply(pd.to_numeric)"
   ]
  },
  {
   "cell_type": "code",
   "execution_count": 4,
   "id": "f21cf619",
   "metadata": {},
   "outputs": [
    {
     "data": {
      "text/html": [
       "<div>\n",
       "<style scoped>\n",
       "    .dataframe tbody tr th:only-of-type {\n",
       "        vertical-align: middle;\n",
       "    }\n",
       "\n",
       "    .dataframe tbody tr th {\n",
       "        vertical-align: top;\n",
       "    }\n",
       "\n",
       "    .dataframe thead th {\n",
       "        text-align: right;\n",
       "    }\n",
       "</style>\n",
       "<table border=\"1\" class=\"dataframe\">\n",
       "  <thead>\n",
       "    <tr style=\"text-align: right;\">\n",
       "      <th></th>\n",
       "      <th>Ns</th>\n",
       "      <th>assembler</th>\n",
       "      <th>basepairs</th>\n",
       "      <th>contigs</th>\n",
       "      <th>filtered_Ns</th>\n",
       "      <th>filtered_basepairs</th>\n",
       "      <th>filtered_contigs</th>\n",
       "      <th>filtered_mapped_reads</th>\n",
       "      <th>filtered_n50</th>\n",
       "      <th>mapped_reads</th>\n",
       "      <th>max_contig</th>\n",
       "      <th>misassembled contigs</th>\n",
       "      <th>misassembly events</th>\n",
       "      <th>n50</th>\n",
       "      <th>run</th>\n",
       "      <th>sample</th>\n",
       "      <th>type</th>\n",
       "    </tr>\n",
       "  </thead>\n",
       "  <tbody>\n",
       "    <tr>\n",
       "      <th>0</th>\n",
       "      <td>0.0</td>\n",
       "      <td>GATBMiniaPipeline</td>\n",
       "      <td>50006704.0</td>\n",
       "      <td>8370.0</td>\n",
       "      <td>0.0</td>\n",
       "      <td>47507995.0</td>\n",
       "      <td>3982.0</td>\n",
       "      <td>89.057900</td>\n",
       "      <td>54313.0</td>\n",
       "      <td>96.623873</td>\n",
       "      <td>984007.0</td>\n",
       "      <td>4.0</td>\n",
       "      <td>8.0</td>\n",
       "      <td>48639.0</td>\n",
       "      <td>BMock12</td>\n",
       "      <td>SRR8073716</td>\n",
       "      <td>Metagenomic</td>\n",
       "    </tr>\n",
       "    <tr>\n",
       "      <th>1</th>\n",
       "      <td>0.0</td>\n",
       "      <td>IDBA-UD</td>\n",
       "      <td>48875595.0</td>\n",
       "      <td>8700.0</td>\n",
       "      <td>0.0</td>\n",
       "      <td>46615378.0</td>\n",
       "      <td>4070.0</td>\n",
       "      <td>91.045709</td>\n",
       "      <td>44194.0</td>\n",
       "      <td>96.675767</td>\n",
       "      <td>908381.0</td>\n",
       "      <td>17.0</td>\n",
       "      <td>29.0</td>\n",
       "      <td>38560.0</td>\n",
       "      <td>BMock12</td>\n",
       "      <td>SRR8073716</td>\n",
       "      <td>Metagenomic</td>\n",
       "    </tr>\n",
       "    <tr>\n",
       "      <th>2</th>\n",
       "      <td>0.0</td>\n",
       "      <td>MEGAHIT</td>\n",
       "      <td>49074360.0</td>\n",
       "      <td>2806.0</td>\n",
       "      <td>0.0</td>\n",
       "      <td>48470460.0</td>\n",
       "      <td>1513.0</td>\n",
       "      <td>95.973592</td>\n",
       "      <td>115470.0</td>\n",
       "      <td>96.767879</td>\n",
       "      <td>1037953.0</td>\n",
       "      <td>43.0</td>\n",
       "      <td>72.0</td>\n",
       "      <td>114742.0</td>\n",
       "      <td>BMock12</td>\n",
       "      <td>SRR8073716</td>\n",
       "      <td>Metagenomic</td>\n",
       "    </tr>\n",
       "    <tr>\n",
       "      <th>3</th>\n",
       "      <td>0.0</td>\n",
       "      <td>metaSPAdes</td>\n",
       "      <td>49062416.0</td>\n",
       "      <td>4251.0</td>\n",
       "      <td>0.0</td>\n",
       "      <td>48357131.0</td>\n",
       "      <td>1302.0</td>\n",
       "      <td>95.079017</td>\n",
       "      <td>122363.0</td>\n",
       "      <td>96.074584</td>\n",
       "      <td>1237485.0</td>\n",
       "      <td>3.0</td>\n",
       "      <td>5.0</td>\n",
       "      <td>118524.0</td>\n",
       "      <td>BMock12</td>\n",
       "      <td>SRR8073716</td>\n",
       "      <td>Metagenomic</td>\n",
       "    </tr>\n",
       "    <tr>\n",
       "      <th>4</th>\n",
       "      <td>0.0</td>\n",
       "      <td>SKESA</td>\n",
       "      <td>30258631.0</td>\n",
       "      <td>8612.0</td>\n",
       "      <td>0.0</td>\n",
       "      <td>27619442.0</td>\n",
       "      <td>2716.0</td>\n",
       "      <td>74.720173</td>\n",
       "      <td>34960.0</td>\n",
       "      <td>80.488520</td>\n",
       "      <td>451511.0</td>\n",
       "      <td>31.0</td>\n",
       "      <td>52.0</td>\n",
       "      <td>30082.0</td>\n",
       "      <td>BMock12</td>\n",
       "      <td>SRR8073716</td>\n",
       "      <td>Genomic</td>\n",
       "    </tr>\n",
       "    <tr>\n",
       "      <th>5</th>\n",
       "      <td>0.0</td>\n",
       "      <td>SPAdes</td>\n",
       "      <td>49402011.0</td>\n",
       "      <td>7501.0</td>\n",
       "      <td>0.0</td>\n",
       "      <td>47779053.0</td>\n",
       "      <td>2750.0</td>\n",
       "      <td>92.740629</td>\n",
       "      <td>76209.0</td>\n",
       "      <td>96.670037</td>\n",
       "      <td>1239293.0</td>\n",
       "      <td>5.0</td>\n",
       "      <td>9.0</td>\n",
       "      <td>67210.0</td>\n",
       "      <td>BMock12</td>\n",
       "      <td>SRR8073716</td>\n",
       "      <td>Genomic</td>\n",
       "    </tr>\n",
       "    <tr>\n",
       "      <th>6</th>\n",
       "      <td>0.0</td>\n",
       "      <td>Unicycler</td>\n",
       "      <td>37381909.0</td>\n",
       "      <td>3986.0</td>\n",
       "      <td>0.0</td>\n",
       "      <td>36255499.0</td>\n",
       "      <td>1328.0</td>\n",
       "      <td>89.476914</td>\n",
       "      <td>140943.0</td>\n",
       "      <td>93.820615</td>\n",
       "      <td>2778544.0</td>\n",
       "      <td>5.0</td>\n",
       "      <td>7.0</td>\n",
       "      <td>132926.0</td>\n",
       "      <td>BMock12</td>\n",
       "      <td>SRR8073716</td>\n",
       "      <td>Genomic</td>\n",
       "    </tr>\n",
       "  </tbody>\n",
       "</table>\n",
       "</div>"
      ],
      "text/plain": [
       "    Ns          assembler   basepairs  contigs  filtered_Ns  \\\n",
       "0  0.0  GATBMiniaPipeline  50006704.0   8370.0          0.0   \n",
       "1  0.0            IDBA-UD  48875595.0   8700.0          0.0   \n",
       "2  0.0            MEGAHIT  49074360.0   2806.0          0.0   \n",
       "3  0.0         metaSPAdes  49062416.0   4251.0          0.0   \n",
       "4  0.0              SKESA  30258631.0   8612.0          0.0   \n",
       "5  0.0             SPAdes  49402011.0   7501.0          0.0   \n",
       "6  0.0          Unicycler  37381909.0   3986.0          0.0   \n",
       "\n",
       "   filtered_basepairs  filtered_contigs  filtered_mapped_reads  filtered_n50  \\\n",
       "0          47507995.0            3982.0              89.057900       54313.0   \n",
       "1          46615378.0            4070.0              91.045709       44194.0   \n",
       "2          48470460.0            1513.0              95.973592      115470.0   \n",
       "3          48357131.0            1302.0              95.079017      122363.0   \n",
       "4          27619442.0            2716.0              74.720173       34960.0   \n",
       "5          47779053.0            2750.0              92.740629       76209.0   \n",
       "6          36255499.0            1328.0              89.476914      140943.0   \n",
       "\n",
       "   mapped_reads  max_contig  misassembled contigs  misassembly events  \\\n",
       "0     96.623873    984007.0                   4.0                 8.0   \n",
       "1     96.675767    908381.0                  17.0                29.0   \n",
       "2     96.767879   1037953.0                  43.0                72.0   \n",
       "3     96.074584   1237485.0                   3.0                 5.0   \n",
       "4     80.488520    451511.0                  31.0                52.0   \n",
       "5     96.670037   1239293.0                   5.0                 9.0   \n",
       "6     93.820615   2778544.0                   5.0                 7.0   \n",
       "\n",
       "        n50      run      sample         type  \n",
       "0   48639.0  BMock12  SRR8073716  Metagenomic  \n",
       "1   38560.0  BMock12  SRR8073716  Metagenomic  \n",
       "2  114742.0  BMock12  SRR8073716  Metagenomic  \n",
       "3  118524.0  BMock12  SRR8073716  Metagenomic  \n",
       "4   30082.0  BMock12  SRR8073716      Genomic  \n",
       "5   67210.0  BMock12  SRR8073716      Genomic  \n",
       "6  132926.0  BMock12  SRR8073716      Genomic  "
      ]
     },
     "execution_count": 4,
     "metadata": {},
     "output_type": "execute_result"
    }
   ],
   "source": [
    "global_pipeline_metrics_df"
   ]
  },
  {
   "cell_type": "code",
   "execution_count": 5,
   "id": "16f4bbd2",
   "metadata": {},
   "outputs": [],
   "source": [
    "global_pipeline_metrics_df.to_csv(\"Tables/BMock12/Global metrics.csv\")"
   ]
  },
  {
   "cell_type": "markdown",
   "id": "770f9589",
   "metadata": {},
   "source": [
    "## Breadth of coverage"
   ]
  },
  {
   "cell_type": "code",
   "execution_count": 10,
   "id": "9f38cdc4",
   "metadata": {},
   "outputs": [],
   "source": [
    "_files = glob.glob('../Results/BMock12/results/*/stats/*_breadth_of_coverage_contigs.csv')\n",
    "\n",
    "df_list = []\n",
    "for f in _files:\n",
    "    run = f.split('/')[-5]\n",
    "    sample = f.split('/')[-3]\n",
    "    assembler = f.split('/')[-1].split('_')[1]\n",
    "    df = pd.read_csv(f)\n",
    "    df['run'] = run\n",
    "    df['Sample'] = sample\n",
    "    df['Assembler'] = assembler\n",
    "    df_list.append(df)\n",
    "\n",
    "df = pd.concat(df_list)\n",
    "df = df.dropna()"
   ]
  },
  {
   "cell_type": "code",
   "execution_count": 11,
   "id": "48bc5c01",
   "metadata": {},
   "outputs": [
    {
     "data": {
      "text/html": [
       "<div>\n",
       "<style scoped>\n",
       "    .dataframe tbody tr th:only-of-type {\n",
       "        vertical-align: middle;\n",
       "    }\n",
       "\n",
       "    .dataframe tbody tr th {\n",
       "        vertical-align: top;\n",
       "    }\n",
       "\n",
       "    .dataframe thead th {\n",
       "        text-align: right;\n",
       "    }\n",
       "</style>\n",
       "<table border=\"1\" class=\"dataframe\">\n",
       "  <thead>\n",
       "    <tr style=\"text-align: right;\">\n",
       "      <th></th>\n",
       "      <th>Unnamed: 0</th>\n",
       "      <th>Reference</th>\n",
       "      <th>Breadth of Coverage</th>\n",
       "      <th>Contigs</th>\n",
       "      <th>run</th>\n",
       "      <th>Sample</th>\n",
       "      <th>Assembler</th>\n",
       "    </tr>\n",
       "  </thead>\n",
       "  <tbody>\n",
       "    <tr>\n",
       "      <th>0</th>\n",
       "      <td>0</td>\n",
       "      <td>2615840527</td>\n",
       "      <td>0.996179</td>\n",
       "      <td>26</td>\n",
       "      <td>BMock12</td>\n",
       "      <td>SRR8073716</td>\n",
       "      <td>SPAdes</td>\n",
       "    </tr>\n",
       "    <tr>\n",
       "      <th>1</th>\n",
       "      <td>1</td>\n",
       "      <td>2615840533A</td>\n",
       "      <td>0.992550</td>\n",
       "      <td>24</td>\n",
       "      <td>BMock12</td>\n",
       "      <td>SRR8073716</td>\n",
       "      <td>SPAdes</td>\n",
       "    </tr>\n",
       "    <tr>\n",
       "      <th>2</th>\n",
       "      <td>2</td>\n",
       "      <td>2615840533B</td>\n",
       "      <td>0.992892</td>\n",
       "      <td>38</td>\n",
       "      <td>BMock12</td>\n",
       "      <td>SRR8073716</td>\n",
       "      <td>SPAdes</td>\n",
       "    </tr>\n",
       "    <tr>\n",
       "      <th>3</th>\n",
       "      <td>3</td>\n",
       "      <td>2615840601</td>\n",
       "      <td>0.968688</td>\n",
       "      <td>126</td>\n",
       "      <td>BMock12</td>\n",
       "      <td>SRR8073716</td>\n",
       "      <td>SPAdes</td>\n",
       "    </tr>\n",
       "    <tr>\n",
       "      <th>4</th>\n",
       "      <td>4</td>\n",
       "      <td>2615840646</td>\n",
       "      <td>0.984395</td>\n",
       "      <td>15</td>\n",
       "      <td>BMock12</td>\n",
       "      <td>SRR8073716</td>\n",
       "      <td>SPAdes</td>\n",
       "    </tr>\n",
       "    <tr>\n",
       "      <th>...</th>\n",
       "      <td>...</td>\n",
       "      <td>...</td>\n",
       "      <td>...</td>\n",
       "      <td>...</td>\n",
       "      <td>...</td>\n",
       "      <td>...</td>\n",
       "      <td>...</td>\n",
       "    </tr>\n",
       "    <tr>\n",
       "      <th>8</th>\n",
       "      <td>8</td>\n",
       "      <td>2623620557</td>\n",
       "      <td>0.887158</td>\n",
       "      <td>1159</td>\n",
       "      <td>BMock12</td>\n",
       "      <td>SRR8073716</td>\n",
       "      <td>IDBA-UD</td>\n",
       "    </tr>\n",
       "    <tr>\n",
       "      <th>9</th>\n",
       "      <td>9</td>\n",
       "      <td>2623620567</td>\n",
       "      <td>0.951104</td>\n",
       "      <td>951</td>\n",
       "      <td>BMock12</td>\n",
       "      <td>SRR8073716</td>\n",
       "      <td>IDBA-UD</td>\n",
       "    </tr>\n",
       "    <tr>\n",
       "      <th>10</th>\n",
       "      <td>10</td>\n",
       "      <td>2623620609</td>\n",
       "      <td>0.001396</td>\n",
       "      <td>2</td>\n",
       "      <td>BMock12</td>\n",
       "      <td>SRR8073716</td>\n",
       "      <td>IDBA-UD</td>\n",
       "    </tr>\n",
       "    <tr>\n",
       "      <th>11</th>\n",
       "      <td>11</td>\n",
       "      <td>2623620617</td>\n",
       "      <td>0.855941</td>\n",
       "      <td>610</td>\n",
       "      <td>BMock12</td>\n",
       "      <td>SRR8073716</td>\n",
       "      <td>IDBA-UD</td>\n",
       "    </tr>\n",
       "    <tr>\n",
       "      <th>12</th>\n",
       "      <td>12</td>\n",
       "      <td>2623620618</td>\n",
       "      <td>0.873534</td>\n",
       "      <td>619</td>\n",
       "      <td>BMock12</td>\n",
       "      <td>SRR8073716</td>\n",
       "      <td>IDBA-UD</td>\n",
       "    </tr>\n",
       "  </tbody>\n",
       "</table>\n",
       "<p>91 rows × 7 columns</p>\n",
       "</div>"
      ],
      "text/plain": [
       "    Unnamed: 0    Reference  Breadth of Coverage  Contigs      run  \\\n",
       "0            0   2615840527             0.996179       26  BMock12   \n",
       "1            1  2615840533A             0.992550       24  BMock12   \n",
       "2            2  2615840533B             0.992892       38  BMock12   \n",
       "3            3   2615840601             0.968688      126  BMock12   \n",
       "4            4   2615840646             0.984395       15  BMock12   \n",
       "..         ...          ...                  ...      ...      ...   \n",
       "8            8   2623620557             0.887158     1159  BMock12   \n",
       "9            9   2623620567             0.951104      951  BMock12   \n",
       "10          10   2623620609             0.001396        2  BMock12   \n",
       "11          11   2623620617             0.855941      610  BMock12   \n",
       "12          12   2623620618             0.873534      619  BMock12   \n",
       "\n",
       "        Sample Assembler  \n",
       "0   SRR8073716    SPAdes  \n",
       "1   SRR8073716    SPAdes  \n",
       "2   SRR8073716    SPAdes  \n",
       "3   SRR8073716    SPAdes  \n",
       "4   SRR8073716    SPAdes  \n",
       "..         ...       ...  \n",
       "8   SRR8073716   IDBA-UD  \n",
       "9   SRR8073716   IDBA-UD  \n",
       "10  SRR8073716   IDBA-UD  \n",
       "11  SRR8073716   IDBA-UD  \n",
       "12  SRR8073716   IDBA-UD  \n",
       "\n",
       "[91 rows x 7 columns]"
      ]
     },
     "execution_count": 11,
     "metadata": {},
     "output_type": "execute_result"
    }
   ],
   "source": [
    "df"
   ]
  },
  {
   "cell_type": "code",
   "execution_count": 35,
   "id": "0625b014",
   "metadata": {},
   "outputs": [
    {
     "name": "stdout",
     "output_type": "stream",
     "text": [
      "--2615840527\n",
      "1 1\n",
      "---Unicycler\n",
      "20 0.9955483640279542\n",
      "---SPAdes\n",
      "26 0.9961786275281844\n",
      "---SKESA\n",
      "47 0.98794624534085\n",
      "---metaSPAdes\n",
      "17 0.9974071543950792\n",
      "---MEGAHIT\n",
      "26 0.997277762550661\n",
      "---IDBA-UD\n",
      "30 0.995130414457382\n",
      "---GATBMiniaPipeline\n",
      "27 0.9948643959557396\n",
      "--2615840533A\n",
      "2 1\n",
      "---Unicycler\n",
      "23 0.99198226394391\n",
      "---SPAdes\n",
      "24 0.9925504269031996\n",
      "---SKESA\n",
      "37 0.9632714862244888\n",
      "---metaSPAdes\n",
      "22 0.995157923920832\n",
      "---MEGAHIT\n",
      "26 0.994355466957712\n",
      "---IDBA-UD\n",
      "28 0.9763655923635776\n",
      "---GATBMiniaPipeline\n",
      "27 0.9891394966974308\n",
      "--2615840533B\n",
      "3 1\n",
      "---Unicycler\n",
      "35 0.9893313792730468\n",
      "---SPAdes\n",
      "38 0.9928916486774292\n",
      "---SKESA\n",
      "117 0.9731816905363662\n",
      "---metaSPAdes\n",
      "38 0.9935304760787576\n",
      "---MEGAHIT\n",
      "34 0.9868611281651284\n",
      "---IDBA-UD\n",
      "58 0.986183453151557\n",
      "---GATBMiniaPipeline\n",
      "34 0.989016281973743\n",
      "--2615840601\n",
      "4 1\n",
      "---Unicycler\n",
      "119 0.9673770192820992\n",
      "---SPAdes\n",
      "126 0.9686877229840054\n",
      "---SKESA\n",
      "184 0.9437483464547206\n",
      "---metaSPAdes\n",
      "124 0.9702972389511866\n",
      "---MEGAHIT\n",
      "135 0.970121121702498\n",
      "---IDBA-UD\n",
      "153 0.9683601449014448\n",
      "---GATBMiniaPipeline\n",
      "137 0.972912580094211\n",
      "--2615840646\n",
      "5 1\n",
      "---Unicycler\n",
      "3 0.9997530892757998\n",
      "---SPAdes\n",
      "15 0.9843952422305424\n",
      "---SKESA\n",
      "524 0.2457965117520607\n",
      "---metaSPAdes\n",
      "14 0.9992997522884842\n",
      "---MEGAHIT\n",
      "17 0.9998282747035292\n",
      "---IDBA-UD\n",
      "66 0.9980282732798996\n",
      "---GATBMiniaPipeline\n",
      "32 0.999326890223937\n",
      "--2615840697\n",
      "6 1\n",
      "---Unicycler\n",
      "108 0.9661946127842008\n",
      "---SPAdes\n",
      "132 0.9696337668949052\n",
      "---SKESA\n",
      "345 0.8821869909374609\n",
      "---metaSPAdes\n",
      "95 0.985648921972994\n",
      "---MEGAHIT\n",
      "174 0.9782310752485442\n",
      "---IDBA-UD\n",
      "196 0.9664191512630116\n",
      "---GATBMiniaPipeline\n",
      "175 0.9751078442390648\n",
      "--2616644829\n",
      "7 1\n",
      "---Unicycler\n",
      "114 0.960770222569804\n",
      "---SPAdes\n",
      "134 0.9654918090660396\n",
      "---SKESA\n",
      "362 0.8746807566231055\n",
      "---metaSPAdes\n",
      "120 0.946883838358854\n",
      "---MEGAHIT\n",
      "169 0.9752144816306044\n",
      "---IDBA-UD\n",
      "244 0.9396103285772684\n",
      "---GATBMiniaPipeline\n",
      "159 0.965168911732551\n",
      "--2617270709\n",
      "1 2\n",
      "---Unicycler\n",
      "79 0.9853221178175908\n",
      "---SPAdes\n",
      "85 0.9814976298488378\n",
      "---SKESA\n",
      "211 0.9397044355175672\n",
      "---metaSPAdes\n",
      "83 0.9847523744226844\n",
      "---MEGAHIT\n",
      "98 0.9784659363968794\n",
      "---IDBA-UD\n",
      "137 0.9710987255952404\n",
      "---GATBMiniaPipeline\n",
      "101 0.9804212062592246\n",
      "--2623620557\n",
      "2 2\n",
      "---Unicycler\n",
      "15 0.0385711328667678\n",
      "---SPAdes\n",
      "688 0.9763647290699756\n",
      "---SKESA\n",
      "3 0.000622784557775\n",
      "---metaSPAdes\n",
      "149 0.9907380580089248\n",
      "---MEGAHIT\n",
      "162 0.9861946183695344\n",
      "---IDBA-UD\n",
      "1159 0.8871584073208144\n",
      "---GATBMiniaPipeline\n",
      "1186 0.956191701583186\n",
      "--2623620567\n",
      "3 2\n",
      "---Unicycler\n",
      "49 0.3309111125169528\n",
      "---SPAdes\n",
      "630 0.9790618443884614\n",
      "---SKESA\n",
      "12 0.0044730994967959\n",
      "---metaSPAdes\n",
      "132 0.99065894354995\n",
      "---MEGAHIT\n",
      "164 0.9787705209847816\n",
      "---IDBA-UD\n",
      "951 0.951103508776189\n",
      "---GATBMiniaPipeline\n",
      "801 0.9759224062970412\n",
      "--2623620609\n",
      "4 2\n",
      "---Unicycler\n",
      "2 0.0014155737933758\n",
      "---SPAdes\n",
      "5 0.0024882959980607\n",
      "---SKESA\n",
      "1 4.150852926417786e-05\n",
      "---metaSPAdes\n",
      "3 0.0018529643811026\n",
      "---MEGAHIT\n",
      "3 0.0015195666923152\n",
      "---IDBA-UD\n",
      "2 0.0013963705591967\n",
      "---GATBMiniaPipeline\n",
      "5 0.0025459057005982\n",
      "--2623620617\n",
      "5 2\n",
      "---Unicycler\n",
      "572 0.8495510998725517\n",
      "---SPAdes\n",
      "600 0.8871952931428483\n",
      "---SKESA\n",
      "517 0.549214100376022\n",
      "---metaSPAdes\n",
      "366 0.9660464277911812\n",
      "---MEGAHIT\n",
      "352 0.9392596391906538\n",
      "---IDBA-UD\n",
      "610 0.8559409727121005\n",
      "---GATBMiniaPipeline\n",
      "702 0.7930220531300326\n",
      "--2623620618\n",
      "6 2\n",
      "---Unicycler\n",
      "560 0.857521470924192\n",
      "---SPAdes\n",
      "593 0.892272831903547\n",
      "---SKESA\n",
      "511 0.5409587104850303\n",
      "---metaSPAdes\n",
      "370 0.9726112707090604\n",
      "---MEGAHIT\n",
      "306 0.970799446584124\n",
      "---IDBA-UD\n",
      "619 0.8735337591888124\n",
      "---GATBMiniaPipeline\n",
      "689 0.7902890184010296\n"
     ]
    },
    {
     "data": {
      "application/vnd.plotly.v1+json": {
       "config": {
        "plotlyServerURL": "https://plot.ly"
       },
       "data": [
        {
         "marker": {
          "color": "#5876c8",
          "line": {
           "color": "black",
           "width": 1
          },
          "opacity": 0.5,
          "size": 12
         },
         "name": "Unicycler",
         "opacity": 1,
         "showlegend": false,
         "type": "scatter",
         "x": [
          20
         ],
         "xaxis": "x",
         "y": [
          0.9955483640279542
         ],
         "yaxis": "y"
        },
        {
         "marker": {
          "color": "#58AEC8",
          "line": {
           "color": "black",
           "width": 1
          },
          "opacity": 0.5,
          "size": 12
         },
         "name": "SPAdes",
         "opacity": 1,
         "showlegend": false,
         "type": "scatter",
         "x": [
          26
         ],
         "xaxis": "x",
         "y": [
          0.9961786275281844
         ],
         "yaxis": "y"
        },
        {
         "marker": {
          "color": "#009392",
          "line": {
           "color": "black",
           "width": 1
          },
          "opacity": 0.5,
          "size": 12
         },
         "name": "SKESA",
         "opacity": 1,
         "showlegend": false,
         "type": "scatter",
         "x": [
          47
         ],
         "xaxis": "x",
         "y": [
          0.98794624534085
         ],
         "yaxis": "y"
        },
        {
         "marker": {
          "color": "#39B185",
          "line": {
           "color": "black",
           "width": 1
          },
          "opacity": 0.5,
          "size": 12
         },
         "name": "metaSPAdes",
         "opacity": 1,
         "showlegend": false,
         "type": "scatter",
         "x": [
          17
         ],
         "xaxis": "x",
         "y": [
          0.9974071543950792
         ],
         "yaxis": "y"
        },
        {
         "marker": {
          "color": "#9CCB86",
          "line": {
           "color": "black",
           "width": 1
          },
          "opacity": 0.5,
          "size": 12
         },
         "name": "MEGAHIT",
         "opacity": 1,
         "showlegend": false,
         "type": "scatter",
         "x": [
          26
         ],
         "xaxis": "x",
         "y": [
          0.997277762550661
         ],
         "yaxis": "y"
        },
        {
         "marker": {
          "color": "#E9E29C",
          "line": {
           "color": "black",
           "width": 1
          },
          "opacity": 0.5,
          "size": 12
         },
         "name": "IDBA-UD",
         "opacity": 1,
         "showlegend": false,
         "type": "scatter",
         "x": [
          30
         ],
         "xaxis": "x",
         "y": [
          0.995130414457382
         ],
         "yaxis": "y"
        },
        {
         "marker": {
          "color": "#EEB479",
          "line": {
           "color": "black",
           "width": 1
          },
          "opacity": 0.5,
          "size": 12
         },
         "name": "GATBMiniaPipeline",
         "opacity": 1,
         "showlegend": false,
         "type": "scatter",
         "x": [
          27
         ],
         "xaxis": "x",
         "y": [
          0.9948643959557396
         ],
         "yaxis": "y"
        },
        {
         "marker": {
          "color": "#5876c8",
          "line": {
           "color": "black",
           "width": 1
          },
          "opacity": 0.5,
          "size": 12
         },
         "name": "Unicycler",
         "opacity": 1,
         "showlegend": false,
         "type": "scatter",
         "x": [
          23
         ],
         "xaxis": "x3",
         "y": [
          0.99198226394391
         ],
         "yaxis": "y3"
        },
        {
         "marker": {
          "color": "#58AEC8",
          "line": {
           "color": "black",
           "width": 1
          },
          "opacity": 0.5,
          "size": 12
         },
         "name": "SPAdes",
         "opacity": 1,
         "showlegend": false,
         "type": "scatter",
         "x": [
          24
         ],
         "xaxis": "x3",
         "y": [
          0.9925504269031996
         ],
         "yaxis": "y3"
        },
        {
         "marker": {
          "color": "#009392",
          "line": {
           "color": "black",
           "width": 1
          },
          "opacity": 0.5,
          "size": 12
         },
         "name": "SKESA",
         "opacity": 1,
         "showlegend": false,
         "type": "scatter",
         "x": [
          37
         ],
         "xaxis": "x3",
         "y": [
          0.9632714862244888
         ],
         "yaxis": "y3"
        },
        {
         "marker": {
          "color": "#39B185",
          "line": {
           "color": "black",
           "width": 1
          },
          "opacity": 0.5,
          "size": 12
         },
         "name": "metaSPAdes",
         "opacity": 1,
         "showlegend": false,
         "type": "scatter",
         "x": [
          22
         ],
         "xaxis": "x3",
         "y": [
          0.995157923920832
         ],
         "yaxis": "y3"
        },
        {
         "marker": {
          "color": "#9CCB86",
          "line": {
           "color": "black",
           "width": 1
          },
          "opacity": 0.5,
          "size": 12
         },
         "name": "MEGAHIT",
         "opacity": 1,
         "showlegend": false,
         "type": "scatter",
         "x": [
          26
         ],
         "xaxis": "x3",
         "y": [
          0.994355466957712
         ],
         "yaxis": "y3"
        },
        {
         "marker": {
          "color": "#E9E29C",
          "line": {
           "color": "black",
           "width": 1
          },
          "opacity": 0.5,
          "size": 12
         },
         "name": "IDBA-UD",
         "opacity": 1,
         "showlegend": false,
         "type": "scatter",
         "x": [
          28
         ],
         "xaxis": "x3",
         "y": [
          0.9763655923635776
         ],
         "yaxis": "y3"
        },
        {
         "marker": {
          "color": "#EEB479",
          "line": {
           "color": "black",
           "width": 1
          },
          "opacity": 0.5,
          "size": 12
         },
         "name": "GATBMiniaPipeline",
         "opacity": 1,
         "showlegend": false,
         "type": "scatter",
         "x": [
          27
         ],
         "xaxis": "x3",
         "y": [
          0.9891394966974308
         ],
         "yaxis": "y3"
        },
        {
         "marker": {
          "color": "#5876c8",
          "line": {
           "color": "black",
           "width": 1
          },
          "opacity": 0.5,
          "size": 12
         },
         "name": "Unicycler",
         "opacity": 1,
         "showlegend": false,
         "type": "scatter",
         "x": [
          35
         ],
         "xaxis": "x5",
         "y": [
          0.9893313792730468
         ],
         "yaxis": "y5"
        },
        {
         "marker": {
          "color": "#58AEC8",
          "line": {
           "color": "black",
           "width": 1
          },
          "opacity": 0.5,
          "size": 12
         },
         "name": "SPAdes",
         "opacity": 1,
         "showlegend": false,
         "type": "scatter",
         "x": [
          38
         ],
         "xaxis": "x5",
         "y": [
          0.9928916486774292
         ],
         "yaxis": "y5"
        },
        {
         "marker": {
          "color": "#009392",
          "line": {
           "color": "black",
           "width": 1
          },
          "opacity": 0.5,
          "size": 12
         },
         "name": "SKESA",
         "opacity": 1,
         "showlegend": false,
         "type": "scatter",
         "x": [
          117
         ],
         "xaxis": "x5",
         "y": [
          0.9731816905363662
         ],
         "yaxis": "y5"
        },
        {
         "marker": {
          "color": "#39B185",
          "line": {
           "color": "black",
           "width": 1
          },
          "opacity": 0.5,
          "size": 12
         },
         "name": "metaSPAdes",
         "opacity": 1,
         "showlegend": false,
         "type": "scatter",
         "x": [
          38
         ],
         "xaxis": "x5",
         "y": [
          0.9935304760787576
         ],
         "yaxis": "y5"
        },
        {
         "marker": {
          "color": "#9CCB86",
          "line": {
           "color": "black",
           "width": 1
          },
          "opacity": 0.5,
          "size": 12
         },
         "name": "MEGAHIT",
         "opacity": 1,
         "showlegend": false,
         "type": "scatter",
         "x": [
          34
         ],
         "xaxis": "x5",
         "y": [
          0.9868611281651284
         ],
         "yaxis": "y5"
        },
        {
         "marker": {
          "color": "#E9E29C",
          "line": {
           "color": "black",
           "width": 1
          },
          "opacity": 0.5,
          "size": 12
         },
         "name": "IDBA-UD",
         "opacity": 1,
         "showlegend": false,
         "type": "scatter",
         "x": [
          58
         ],
         "xaxis": "x5",
         "y": [
          0.986183453151557
         ],
         "yaxis": "y5"
        },
        {
         "marker": {
          "color": "#EEB479",
          "line": {
           "color": "black",
           "width": 1
          },
          "opacity": 0.5,
          "size": 12
         },
         "name": "GATBMiniaPipeline",
         "opacity": 1,
         "showlegend": false,
         "type": "scatter",
         "x": [
          34
         ],
         "xaxis": "x5",
         "y": [
          0.989016281973743
         ],
         "yaxis": "y5"
        },
        {
         "marker": {
          "color": "#5876c8",
          "line": {
           "color": "black",
           "width": 1
          },
          "opacity": 0.5,
          "size": 12
         },
         "name": "Unicycler",
         "opacity": 1,
         "showlegend": false,
         "type": "scatter",
         "x": [
          119
         ],
         "xaxis": "x7",
         "y": [
          0.9673770192820992
         ],
         "yaxis": "y7"
        },
        {
         "marker": {
          "color": "#58AEC8",
          "line": {
           "color": "black",
           "width": 1
          },
          "opacity": 0.5,
          "size": 12
         },
         "name": "SPAdes",
         "opacity": 1,
         "showlegend": false,
         "type": "scatter",
         "x": [
          126
         ],
         "xaxis": "x7",
         "y": [
          0.9686877229840054
         ],
         "yaxis": "y7"
        },
        {
         "marker": {
          "color": "#009392",
          "line": {
           "color": "black",
           "width": 1
          },
          "opacity": 0.5,
          "size": 12
         },
         "name": "SKESA",
         "opacity": 1,
         "showlegend": false,
         "type": "scatter",
         "x": [
          184
         ],
         "xaxis": "x7",
         "y": [
          0.9437483464547206
         ],
         "yaxis": "y7"
        },
        {
         "marker": {
          "color": "#39B185",
          "line": {
           "color": "black",
           "width": 1
          },
          "opacity": 0.5,
          "size": 12
         },
         "name": "metaSPAdes",
         "opacity": 1,
         "showlegend": false,
         "type": "scatter",
         "x": [
          124
         ],
         "xaxis": "x7",
         "y": [
          0.9702972389511866
         ],
         "yaxis": "y7"
        },
        {
         "marker": {
          "color": "#9CCB86",
          "line": {
           "color": "black",
           "width": 1
          },
          "opacity": 0.5,
          "size": 12
         },
         "name": "MEGAHIT",
         "opacity": 1,
         "showlegend": false,
         "type": "scatter",
         "x": [
          135
         ],
         "xaxis": "x7",
         "y": [
          0.970121121702498
         ],
         "yaxis": "y7"
        },
        {
         "marker": {
          "color": "#E9E29C",
          "line": {
           "color": "black",
           "width": 1
          },
          "opacity": 0.5,
          "size": 12
         },
         "name": "IDBA-UD",
         "opacity": 1,
         "showlegend": false,
         "type": "scatter",
         "x": [
          153
         ],
         "xaxis": "x7",
         "y": [
          0.9683601449014448
         ],
         "yaxis": "y7"
        },
        {
         "marker": {
          "color": "#EEB479",
          "line": {
           "color": "black",
           "width": 1
          },
          "opacity": 0.5,
          "size": 12
         },
         "name": "GATBMiniaPipeline",
         "opacity": 1,
         "showlegend": false,
         "type": "scatter",
         "x": [
          137
         ],
         "xaxis": "x7",
         "y": [
          0.972912580094211
         ],
         "yaxis": "y7"
        },
        {
         "marker": {
          "color": "#5876c8",
          "line": {
           "color": "black",
           "width": 1
          },
          "opacity": 0.5,
          "size": 12
         },
         "name": "Unicycler",
         "opacity": 1,
         "showlegend": false,
         "type": "scatter",
         "x": [
          3
         ],
         "xaxis": "x9",
         "y": [
          0.9997530892757998
         ],
         "yaxis": "y9"
        },
        {
         "marker": {
          "color": "#58AEC8",
          "line": {
           "color": "black",
           "width": 1
          },
          "opacity": 0.5,
          "size": 12
         },
         "name": "SPAdes",
         "opacity": 1,
         "showlegend": false,
         "type": "scatter",
         "x": [
          15
         ],
         "xaxis": "x9",
         "y": [
          0.9843952422305424
         ],
         "yaxis": "y9"
        },
        {
         "marker": {
          "color": "#009392",
          "line": {
           "color": "black",
           "width": 1
          },
          "opacity": 0.5,
          "size": 12
         },
         "name": "SKESA",
         "opacity": 1,
         "showlegend": false,
         "type": "scatter",
         "x": [
          524
         ],
         "xaxis": "x9",
         "y": [
          0.2457965117520607
         ],
         "yaxis": "y9"
        },
        {
         "marker": {
          "color": "#39B185",
          "line": {
           "color": "black",
           "width": 1
          },
          "opacity": 0.5,
          "size": 12
         },
         "name": "metaSPAdes",
         "opacity": 1,
         "showlegend": false,
         "type": "scatter",
         "x": [
          14
         ],
         "xaxis": "x9",
         "y": [
          0.9992997522884842
         ],
         "yaxis": "y9"
        },
        {
         "marker": {
          "color": "#9CCB86",
          "line": {
           "color": "black",
           "width": 1
          },
          "opacity": 0.5,
          "size": 12
         },
         "name": "MEGAHIT",
         "opacity": 1,
         "showlegend": false,
         "type": "scatter",
         "x": [
          17
         ],
         "xaxis": "x9",
         "y": [
          0.9998282747035292
         ],
         "yaxis": "y9"
        },
        {
         "marker": {
          "color": "#E9E29C",
          "line": {
           "color": "black",
           "width": 1
          },
          "opacity": 0.5,
          "size": 12
         },
         "name": "IDBA-UD",
         "opacity": 1,
         "showlegend": false,
         "type": "scatter",
         "x": [
          66
         ],
         "xaxis": "x9",
         "y": [
          0.9980282732798996
         ],
         "yaxis": "y9"
        },
        {
         "marker": {
          "color": "#EEB479",
          "line": {
           "color": "black",
           "width": 1
          },
          "opacity": 0.5,
          "size": 12
         },
         "name": "GATBMiniaPipeline",
         "opacity": 1,
         "showlegend": false,
         "type": "scatter",
         "x": [
          32
         ],
         "xaxis": "x9",
         "y": [
          0.999326890223937
         ],
         "yaxis": "y9"
        },
        {
         "marker": {
          "color": "#5876c8",
          "line": {
           "color": "black",
           "width": 1
          },
          "opacity": 0.5,
          "size": 12
         },
         "name": "Unicycler",
         "opacity": 1,
         "showlegend": false,
         "type": "scatter",
         "x": [
          108
         ],
         "xaxis": "x11",
         "y": [
          0.9661946127842008
         ],
         "yaxis": "y11"
        },
        {
         "marker": {
          "color": "#58AEC8",
          "line": {
           "color": "black",
           "width": 1
          },
          "opacity": 0.5,
          "size": 12
         },
         "name": "SPAdes",
         "opacity": 1,
         "showlegend": false,
         "type": "scatter",
         "x": [
          132
         ],
         "xaxis": "x11",
         "y": [
          0.9696337668949052
         ],
         "yaxis": "y11"
        },
        {
         "marker": {
          "color": "#009392",
          "line": {
           "color": "black",
           "width": 1
          },
          "opacity": 0.5,
          "size": 12
         },
         "name": "SKESA",
         "opacity": 1,
         "showlegend": false,
         "type": "scatter",
         "x": [
          345
         ],
         "xaxis": "x11",
         "y": [
          0.8821869909374609
         ],
         "yaxis": "y11"
        },
        {
         "marker": {
          "color": "#39B185",
          "line": {
           "color": "black",
           "width": 1
          },
          "opacity": 0.5,
          "size": 12
         },
         "name": "metaSPAdes",
         "opacity": 1,
         "showlegend": false,
         "type": "scatter",
         "x": [
          95
         ],
         "xaxis": "x11",
         "y": [
          0.985648921972994
         ],
         "yaxis": "y11"
        },
        {
         "marker": {
          "color": "#9CCB86",
          "line": {
           "color": "black",
           "width": 1
          },
          "opacity": 0.5,
          "size": 12
         },
         "name": "MEGAHIT",
         "opacity": 1,
         "showlegend": false,
         "type": "scatter",
         "x": [
          174
         ],
         "xaxis": "x11",
         "y": [
          0.9782310752485442
         ],
         "yaxis": "y11"
        },
        {
         "marker": {
          "color": "#E9E29C",
          "line": {
           "color": "black",
           "width": 1
          },
          "opacity": 0.5,
          "size": 12
         },
         "name": "IDBA-UD",
         "opacity": 1,
         "showlegend": false,
         "type": "scatter",
         "x": [
          196
         ],
         "xaxis": "x11",
         "y": [
          0.9664191512630116
         ],
         "yaxis": "y11"
        },
        {
         "marker": {
          "color": "#EEB479",
          "line": {
           "color": "black",
           "width": 1
          },
          "opacity": 0.5,
          "size": 12
         },
         "name": "GATBMiniaPipeline",
         "opacity": 1,
         "showlegend": false,
         "type": "scatter",
         "x": [
          175
         ],
         "xaxis": "x11",
         "y": [
          0.9751078442390648
         ],
         "yaxis": "y11"
        },
        {
         "marker": {
          "color": "#5876c8",
          "line": {
           "color": "black",
           "width": 1
          },
          "opacity": 0.5,
          "size": 12
         },
         "name": "Unicycler",
         "opacity": 1,
         "showlegend": false,
         "type": "scatter",
         "x": [
          114
         ],
         "xaxis": "x13",
         "y": [
          0.960770222569804
         ],
         "yaxis": "y13"
        },
        {
         "marker": {
          "color": "#58AEC8",
          "line": {
           "color": "black",
           "width": 1
          },
          "opacity": 0.5,
          "size": 12
         },
         "name": "SPAdes",
         "opacity": 1,
         "showlegend": false,
         "type": "scatter",
         "x": [
          134
         ],
         "xaxis": "x13",
         "y": [
          0.9654918090660396
         ],
         "yaxis": "y13"
        },
        {
         "marker": {
          "color": "#009392",
          "line": {
           "color": "black",
           "width": 1
          },
          "opacity": 0.5,
          "size": 12
         },
         "name": "SKESA",
         "opacity": 1,
         "showlegend": false,
         "type": "scatter",
         "x": [
          362
         ],
         "xaxis": "x13",
         "y": [
          0.8746807566231055
         ],
         "yaxis": "y13"
        },
        {
         "marker": {
          "color": "#39B185",
          "line": {
           "color": "black",
           "width": 1
          },
          "opacity": 0.5,
          "size": 12
         },
         "name": "metaSPAdes",
         "opacity": 1,
         "showlegend": false,
         "type": "scatter",
         "x": [
          120
         ],
         "xaxis": "x13",
         "y": [
          0.946883838358854
         ],
         "yaxis": "y13"
        },
        {
         "marker": {
          "color": "#9CCB86",
          "line": {
           "color": "black",
           "width": 1
          },
          "opacity": 0.5,
          "size": 12
         },
         "name": "MEGAHIT",
         "opacity": 1,
         "showlegend": false,
         "type": "scatter",
         "x": [
          169
         ],
         "xaxis": "x13",
         "y": [
          0.9752144816306044
         ],
         "yaxis": "y13"
        },
        {
         "marker": {
          "color": "#E9E29C",
          "line": {
           "color": "black",
           "width": 1
          },
          "opacity": 0.5,
          "size": 12
         },
         "name": "IDBA-UD",
         "opacity": 1,
         "showlegend": false,
         "type": "scatter",
         "x": [
          244
         ],
         "xaxis": "x13",
         "y": [
          0.9396103285772684
         ],
         "yaxis": "y13"
        },
        {
         "marker": {
          "color": "#EEB479",
          "line": {
           "color": "black",
           "width": 1
          },
          "opacity": 0.5,
          "size": 12
         },
         "name": "GATBMiniaPipeline",
         "opacity": 1,
         "showlegend": false,
         "type": "scatter",
         "x": [
          159
         ],
         "xaxis": "x13",
         "y": [
          0.965168911732551
         ],
         "yaxis": "y13"
        },
        {
         "marker": {
          "color": "#5876c8",
          "line": {
           "color": "black",
           "width": 1
          },
          "opacity": 0.5,
          "size": 12
         },
         "name": "Unicycler",
         "opacity": 1,
         "showlegend": false,
         "type": "scatter",
         "x": [
          79
         ],
         "xaxis": "x2",
         "y": [
          0.9853221178175908
         ],
         "yaxis": "y2"
        },
        {
         "marker": {
          "color": "#58AEC8",
          "line": {
           "color": "black",
           "width": 1
          },
          "opacity": 0.5,
          "size": 12
         },
         "name": "SPAdes",
         "opacity": 1,
         "showlegend": false,
         "type": "scatter",
         "x": [
          85
         ],
         "xaxis": "x2",
         "y": [
          0.9814976298488378
         ],
         "yaxis": "y2"
        },
        {
         "marker": {
          "color": "#009392",
          "line": {
           "color": "black",
           "width": 1
          },
          "opacity": 0.5,
          "size": 12
         },
         "name": "SKESA",
         "opacity": 1,
         "showlegend": false,
         "type": "scatter",
         "x": [
          211
         ],
         "xaxis": "x2",
         "y": [
          0.9397044355175672
         ],
         "yaxis": "y2"
        },
        {
         "marker": {
          "color": "#39B185",
          "line": {
           "color": "black",
           "width": 1
          },
          "opacity": 0.5,
          "size": 12
         },
         "name": "metaSPAdes",
         "opacity": 1,
         "showlegend": false,
         "type": "scatter",
         "x": [
          83
         ],
         "xaxis": "x2",
         "y": [
          0.9847523744226844
         ],
         "yaxis": "y2"
        },
        {
         "marker": {
          "color": "#9CCB86",
          "line": {
           "color": "black",
           "width": 1
          },
          "opacity": 0.5,
          "size": 12
         },
         "name": "MEGAHIT",
         "opacity": 1,
         "showlegend": false,
         "type": "scatter",
         "x": [
          98
         ],
         "xaxis": "x2",
         "y": [
          0.9784659363968794
         ],
         "yaxis": "y2"
        },
        {
         "marker": {
          "color": "#E9E29C",
          "line": {
           "color": "black",
           "width": 1
          },
          "opacity": 0.5,
          "size": 12
         },
         "name": "IDBA-UD",
         "opacity": 1,
         "showlegend": false,
         "type": "scatter",
         "x": [
          137
         ],
         "xaxis": "x2",
         "y": [
          0.9710987255952404
         ],
         "yaxis": "y2"
        },
        {
         "marker": {
          "color": "#EEB479",
          "line": {
           "color": "black",
           "width": 1
          },
          "opacity": 0.5,
          "size": 12
         },
         "name": "GATBMiniaPipeline",
         "opacity": 1,
         "showlegend": false,
         "type": "scatter",
         "x": [
          101
         ],
         "xaxis": "x2",
         "y": [
          0.9804212062592246
         ],
         "yaxis": "y2"
        },
        {
         "marker": {
          "color": "#5876c8",
          "line": {
           "color": "black",
           "width": 1
          },
          "opacity": 0.5,
          "size": 12
         },
         "name": "Unicycler",
         "opacity": 1,
         "showlegend": false,
         "type": "scatter",
         "x": [
          15
         ],
         "xaxis": "x4",
         "y": [
          0.0385711328667678
         ],
         "yaxis": "y4"
        },
        {
         "marker": {
          "color": "#58AEC8",
          "line": {
           "color": "black",
           "width": 1
          },
          "opacity": 0.5,
          "size": 12
         },
         "name": "SPAdes",
         "opacity": 1,
         "showlegend": false,
         "type": "scatter",
         "x": [
          688
         ],
         "xaxis": "x4",
         "y": [
          0.9763647290699756
         ],
         "yaxis": "y4"
        },
        {
         "marker": {
          "color": "#009392",
          "line": {
           "color": "black",
           "width": 1
          },
          "opacity": 0.5,
          "size": 12
         },
         "name": "SKESA",
         "opacity": 1,
         "showlegend": false,
         "type": "scatter",
         "x": [
          3
         ],
         "xaxis": "x4",
         "y": [
          0.000622784557775
         ],
         "yaxis": "y4"
        },
        {
         "marker": {
          "color": "#39B185",
          "line": {
           "color": "black",
           "width": 1
          },
          "opacity": 0.5,
          "size": 12
         },
         "name": "metaSPAdes",
         "opacity": 1,
         "showlegend": false,
         "type": "scatter",
         "x": [
          149
         ],
         "xaxis": "x4",
         "y": [
          0.9907380580089248
         ],
         "yaxis": "y4"
        },
        {
         "marker": {
          "color": "#9CCB86",
          "line": {
           "color": "black",
           "width": 1
          },
          "opacity": 0.5,
          "size": 12
         },
         "name": "MEGAHIT",
         "opacity": 1,
         "showlegend": false,
         "type": "scatter",
         "x": [
          162
         ],
         "xaxis": "x4",
         "y": [
          0.9861946183695344
         ],
         "yaxis": "y4"
        },
        {
         "marker": {
          "color": "#E9E29C",
          "line": {
           "color": "black",
           "width": 1
          },
          "opacity": 0.5,
          "size": 12
         },
         "name": "IDBA-UD",
         "opacity": 1,
         "showlegend": false,
         "type": "scatter",
         "x": [
          1159
         ],
         "xaxis": "x4",
         "y": [
          0.8871584073208144
         ],
         "yaxis": "y4"
        },
        {
         "marker": {
          "color": "#EEB479",
          "line": {
           "color": "black",
           "width": 1
          },
          "opacity": 0.5,
          "size": 12
         },
         "name": "GATBMiniaPipeline",
         "opacity": 1,
         "showlegend": false,
         "type": "scatter",
         "x": [
          1186
         ],
         "xaxis": "x4",
         "y": [
          0.956191701583186
         ],
         "yaxis": "y4"
        },
        {
         "marker": {
          "color": "#5876c8",
          "line": {
           "color": "black",
           "width": 1
          },
          "opacity": 0.5,
          "size": 12
         },
         "name": "Unicycler",
         "opacity": 1,
         "showlegend": false,
         "type": "scatter",
         "x": [
          49
         ],
         "xaxis": "x6",
         "y": [
          0.3309111125169528
         ],
         "yaxis": "y6"
        },
        {
         "marker": {
          "color": "#58AEC8",
          "line": {
           "color": "black",
           "width": 1
          },
          "opacity": 0.5,
          "size": 12
         },
         "name": "SPAdes",
         "opacity": 1,
         "showlegend": false,
         "type": "scatter",
         "x": [
          630
         ],
         "xaxis": "x6",
         "y": [
          0.9790618443884614
         ],
         "yaxis": "y6"
        },
        {
         "marker": {
          "color": "#009392",
          "line": {
           "color": "black",
           "width": 1
          },
          "opacity": 0.5,
          "size": 12
         },
         "name": "SKESA",
         "opacity": 1,
         "showlegend": false,
         "type": "scatter",
         "x": [
          12
         ],
         "xaxis": "x6",
         "y": [
          0.0044730994967959
         ],
         "yaxis": "y6"
        },
        {
         "marker": {
          "color": "#39B185",
          "line": {
           "color": "black",
           "width": 1
          },
          "opacity": 0.5,
          "size": 12
         },
         "name": "metaSPAdes",
         "opacity": 1,
         "showlegend": false,
         "type": "scatter",
         "x": [
          132
         ],
         "xaxis": "x6",
         "y": [
          0.99065894354995
         ],
         "yaxis": "y6"
        },
        {
         "marker": {
          "color": "#9CCB86",
          "line": {
           "color": "black",
           "width": 1
          },
          "opacity": 0.5,
          "size": 12
         },
         "name": "MEGAHIT",
         "opacity": 1,
         "showlegend": false,
         "type": "scatter",
         "x": [
          164
         ],
         "xaxis": "x6",
         "y": [
          0.9787705209847816
         ],
         "yaxis": "y6"
        },
        {
         "marker": {
          "color": "#E9E29C",
          "line": {
           "color": "black",
           "width": 1
          },
          "opacity": 0.5,
          "size": 12
         },
         "name": "IDBA-UD",
         "opacity": 1,
         "showlegend": false,
         "type": "scatter",
         "x": [
          951
         ],
         "xaxis": "x6",
         "y": [
          0.951103508776189
         ],
         "yaxis": "y6"
        },
        {
         "marker": {
          "color": "#EEB479",
          "line": {
           "color": "black",
           "width": 1
          },
          "opacity": 0.5,
          "size": 12
         },
         "name": "GATBMiniaPipeline",
         "opacity": 1,
         "showlegend": false,
         "type": "scatter",
         "x": [
          801
         ],
         "xaxis": "x6",
         "y": [
          0.9759224062970412
         ],
         "yaxis": "y6"
        },
        {
         "marker": {
          "color": "#5876c8",
          "line": {
           "color": "black",
           "width": 1
          },
          "opacity": 0.5,
          "size": 12
         },
         "name": "Unicycler",
         "opacity": 1,
         "showlegend": false,
         "type": "scatter",
         "x": [
          2
         ],
         "xaxis": "x8",
         "y": [
          0.0014155737933758
         ],
         "yaxis": "y8"
        },
        {
         "marker": {
          "color": "#58AEC8",
          "line": {
           "color": "black",
           "width": 1
          },
          "opacity": 0.5,
          "size": 12
         },
         "name": "SPAdes",
         "opacity": 1,
         "showlegend": false,
         "type": "scatter",
         "x": [
          5
         ],
         "xaxis": "x8",
         "y": [
          0.0024882959980607
         ],
         "yaxis": "y8"
        },
        {
         "marker": {
          "color": "#009392",
          "line": {
           "color": "black",
           "width": 1
          },
          "opacity": 0.5,
          "size": 12
         },
         "name": "SKESA",
         "opacity": 1,
         "showlegend": false,
         "type": "scatter",
         "x": [
          1
         ],
         "xaxis": "x8",
         "y": [
          4.150852926417786e-05
         ],
         "yaxis": "y8"
        },
        {
         "marker": {
          "color": "#39B185",
          "line": {
           "color": "black",
           "width": 1
          },
          "opacity": 0.5,
          "size": 12
         },
         "name": "metaSPAdes",
         "opacity": 1,
         "showlegend": false,
         "type": "scatter",
         "x": [
          3
         ],
         "xaxis": "x8",
         "y": [
          0.0018529643811026
         ],
         "yaxis": "y8"
        },
        {
         "marker": {
          "color": "#9CCB86",
          "line": {
           "color": "black",
           "width": 1
          },
          "opacity": 0.5,
          "size": 12
         },
         "name": "MEGAHIT",
         "opacity": 1,
         "showlegend": false,
         "type": "scatter",
         "x": [
          3
         ],
         "xaxis": "x8",
         "y": [
          0.0015195666923152
         ],
         "yaxis": "y8"
        },
        {
         "marker": {
          "color": "#E9E29C",
          "line": {
           "color": "black",
           "width": 1
          },
          "opacity": 0.5,
          "size": 12
         },
         "name": "IDBA-UD",
         "opacity": 1,
         "showlegend": false,
         "type": "scatter",
         "x": [
          2
         ],
         "xaxis": "x8",
         "y": [
          0.0013963705591967
         ],
         "yaxis": "y8"
        },
        {
         "marker": {
          "color": "#EEB479",
          "line": {
           "color": "black",
           "width": 1
          },
          "opacity": 0.5,
          "size": 12
         },
         "name": "GATBMiniaPipeline",
         "opacity": 1,
         "showlegend": false,
         "type": "scatter",
         "x": [
          5
         ],
         "xaxis": "x8",
         "y": [
          0.0025459057005982
         ],
         "yaxis": "y8"
        },
        {
         "marker": {
          "color": "#5876c8",
          "line": {
           "color": "black",
           "width": 1
          },
          "opacity": 0.5,
          "size": 12
         },
         "name": "Unicycler",
         "opacity": 1,
         "showlegend": false,
         "type": "scatter",
         "x": [
          572
         ],
         "xaxis": "x10",
         "y": [
          0.8495510998725517
         ],
         "yaxis": "y10"
        },
        {
         "marker": {
          "color": "#58AEC8",
          "line": {
           "color": "black",
           "width": 1
          },
          "opacity": 0.5,
          "size": 12
         },
         "name": "SPAdes",
         "opacity": 1,
         "showlegend": false,
         "type": "scatter",
         "x": [
          600
         ],
         "xaxis": "x10",
         "y": [
          0.8871952931428483
         ],
         "yaxis": "y10"
        },
        {
         "marker": {
          "color": "#009392",
          "line": {
           "color": "black",
           "width": 1
          },
          "opacity": 0.5,
          "size": 12
         },
         "name": "SKESA",
         "opacity": 1,
         "showlegend": false,
         "type": "scatter",
         "x": [
          517
         ],
         "xaxis": "x10",
         "y": [
          0.549214100376022
         ],
         "yaxis": "y10"
        },
        {
         "marker": {
          "color": "#39B185",
          "line": {
           "color": "black",
           "width": 1
          },
          "opacity": 0.5,
          "size": 12
         },
         "name": "metaSPAdes",
         "opacity": 1,
         "showlegend": false,
         "type": "scatter",
         "x": [
          366
         ],
         "xaxis": "x10",
         "y": [
          0.9660464277911812
         ],
         "yaxis": "y10"
        },
        {
         "marker": {
          "color": "#9CCB86",
          "line": {
           "color": "black",
           "width": 1
          },
          "opacity": 0.5,
          "size": 12
         },
         "name": "MEGAHIT",
         "opacity": 1,
         "showlegend": false,
         "type": "scatter",
         "x": [
          352
         ],
         "xaxis": "x10",
         "y": [
          0.9392596391906538
         ],
         "yaxis": "y10"
        },
        {
         "marker": {
          "color": "#E9E29C",
          "line": {
           "color": "black",
           "width": 1
          },
          "opacity": 0.5,
          "size": 12
         },
         "name": "IDBA-UD",
         "opacity": 1,
         "showlegend": false,
         "type": "scatter",
         "x": [
          610
         ],
         "xaxis": "x10",
         "y": [
          0.8559409727121005
         ],
         "yaxis": "y10"
        },
        {
         "marker": {
          "color": "#EEB479",
          "line": {
           "color": "black",
           "width": 1
          },
          "opacity": 0.5,
          "size": 12
         },
         "name": "GATBMiniaPipeline",
         "opacity": 1,
         "showlegend": false,
         "type": "scatter",
         "x": [
          702
         ],
         "xaxis": "x10",
         "y": [
          0.7930220531300326
         ],
         "yaxis": "y10"
        },
        {
         "marker": {
          "color": "#5876c8",
          "line": {
           "color": "black",
           "width": 1
          },
          "opacity": 0.5,
          "size": 12
         },
         "name": "Unicycler",
         "opacity": 1,
         "showlegend": false,
         "type": "scatter",
         "x": [
          560
         ],
         "xaxis": "x12",
         "y": [
          0.857521470924192
         ],
         "yaxis": "y12"
        },
        {
         "marker": {
          "color": "#58AEC8",
          "line": {
           "color": "black",
           "width": 1
          },
          "opacity": 0.5,
          "size": 12
         },
         "name": "SPAdes",
         "opacity": 1,
         "showlegend": false,
         "type": "scatter",
         "x": [
          593
         ],
         "xaxis": "x12",
         "y": [
          0.892272831903547
         ],
         "yaxis": "y12"
        },
        {
         "marker": {
          "color": "#009392",
          "line": {
           "color": "black",
           "width": 1
          },
          "opacity": 0.5,
          "size": 12
         },
         "name": "SKESA",
         "opacity": 1,
         "showlegend": false,
         "type": "scatter",
         "x": [
          511
         ],
         "xaxis": "x12",
         "y": [
          0.5409587104850303
         ],
         "yaxis": "y12"
        },
        {
         "marker": {
          "color": "#39B185",
          "line": {
           "color": "black",
           "width": 1
          },
          "opacity": 0.5,
          "size": 12
         },
         "name": "metaSPAdes",
         "opacity": 1,
         "showlegend": false,
         "type": "scatter",
         "x": [
          370
         ],
         "xaxis": "x12",
         "y": [
          0.9726112707090604
         ],
         "yaxis": "y12"
        },
        {
         "marker": {
          "color": "#9CCB86",
          "line": {
           "color": "black",
           "width": 1
          },
          "opacity": 0.5,
          "size": 12
         },
         "name": "MEGAHIT",
         "opacity": 1,
         "showlegend": false,
         "type": "scatter",
         "x": [
          306
         ],
         "xaxis": "x12",
         "y": [
          0.970799446584124
         ],
         "yaxis": "y12"
        },
        {
         "marker": {
          "color": "#E9E29C",
          "line": {
           "color": "black",
           "width": 1
          },
          "opacity": 0.5,
          "size": 12
         },
         "name": "IDBA-UD",
         "opacity": 1,
         "showlegend": false,
         "type": "scatter",
         "x": [
          619
         ],
         "xaxis": "x12",
         "y": [
          0.8735337591888124
         ],
         "yaxis": "y12"
        },
        {
         "marker": {
          "color": "#EEB479",
          "line": {
           "color": "black",
           "width": 1
          },
          "opacity": 0.5,
          "size": 12
         },
         "name": "GATBMiniaPipeline",
         "opacity": 1,
         "showlegend": false,
         "type": "scatter",
         "x": [
          689
         ],
         "xaxis": "x12",
         "y": [
          0.7902890184010296
         ],
         "yaxis": "y12"
        },
        {
         "legendgroup": "Assemblers",
         "legendgrouptitle": {
          "text": "Assembler"
         },
         "marker": {
          "color": "#5876c8"
         },
         "name": "Unicycler",
         "showlegend": true,
         "type": "bar",
         "x": [
          -10
         ]
        },
        {
         "legendgroup": "Assemblers",
         "legendgrouptitle": {
          "text": "Assembler"
         },
         "marker": {
          "color": "#58AEC8"
         },
         "name": "SPAdes",
         "showlegend": true,
         "type": "bar",
         "x": [
          -10
         ]
        },
        {
         "legendgroup": "Assemblers",
         "legendgrouptitle": {
          "text": "Assembler"
         },
         "marker": {
          "color": "#009392"
         },
         "name": "SKESA",
         "showlegend": true,
         "type": "bar",
         "x": [
          -10
         ]
        },
        {
         "legendgroup": "Assemblers",
         "legendgrouptitle": {
          "text": "Assembler"
         },
         "marker": {
          "color": "#39B185"
         },
         "name": "metaSPAdes",
         "showlegend": true,
         "type": "bar",
         "x": [
          -10
         ]
        },
        {
         "legendgroup": "Assemblers",
         "legendgrouptitle": {
          "text": "Assembler"
         },
         "marker": {
          "color": "#9CCB86"
         },
         "name": "MEGAHIT",
         "showlegend": true,
         "type": "bar",
         "x": [
          -10
         ]
        },
        {
         "legendgroup": "Assemblers",
         "legendgrouptitle": {
          "text": "Assembler"
         },
         "marker": {
          "color": "#E9E29C"
         },
         "name": "IDBA-UD",
         "showlegend": true,
         "type": "bar",
         "x": [
          -10
         ]
        },
        {
         "legendgroup": "Assemblers",
         "legendgrouptitle": {
          "text": "Assembler"
         },
         "marker": {
          "color": "#EEB479"
         },
         "name": "GATBMiniaPipeline",
         "showlegend": true,
         "type": "bar",
         "x": [
          -10
         ]
        }
       ],
       "layout": {
        "annotations": [
         {
          "font": {
           "size": 18
          },
          "showarrow": false,
          "text": "2615840527",
          "x": 0.225,
          "xanchor": "center",
          "xref": "paper",
          "y": 0.9999999999999999,
          "yanchor": "bottom",
          "yref": "paper"
         },
         {
          "font": {
           "size": 18
          },
          "showarrow": false,
          "text": "2617270709",
          "x": 0.775,
          "xanchor": "center",
          "xref": "paper",
          "y": 0.9999999999999999,
          "yanchor": "bottom",
          "yref": "paper"
         },
         {
          "font": {
           "size": 18
          },
          "showarrow": false,
          "text": "2615840533 A",
          "x": 0.225,
          "xanchor": "center",
          "xref": "paper",
          "y": 0.8469387755102039,
          "yanchor": "bottom",
          "yref": "paper"
         },
         {
          "font": {
           "size": 18
          },
          "showarrow": false,
          "text": "2623620557",
          "x": 0.775,
          "xanchor": "center",
          "xref": "paper",
          "y": 0.8469387755102039,
          "yanchor": "bottom",
          "yref": "paper"
         },
         {
          "font": {
           "size": 18
          },
          "showarrow": false,
          "text": "2615840533 B",
          "x": 0.225,
          "xanchor": "center",
          "xref": "paper",
          "y": 0.6938775510204082,
          "yanchor": "bottom",
          "yref": "paper"
         },
         {
          "font": {
           "size": 18
          },
          "showarrow": false,
          "text": "2623620567",
          "x": 0.775,
          "xanchor": "center",
          "xref": "paper",
          "y": 0.6938775510204082,
          "yanchor": "bottom",
          "yref": "paper"
         },
         {
          "font": {
           "size": 18
          },
          "showarrow": false,
          "text": "2615840601",
          "x": 0.225,
          "xanchor": "center",
          "xref": "paper",
          "y": 0.5408163265306122,
          "yanchor": "bottom",
          "yref": "paper"
         },
         {
          "font": {
           "size": 18
          },
          "showarrow": false,
          "text": "2623620609",
          "x": 0.775,
          "xanchor": "center",
          "xref": "paper",
          "y": 0.5408163265306122,
          "yanchor": "bottom",
          "yref": "paper"
         },
         {
          "font": {
           "size": 18
          },
          "showarrow": false,
          "text": "2615840646",
          "x": 0.225,
          "xanchor": "center",
          "xref": "paper",
          "y": 0.3877551020408163,
          "yanchor": "bottom",
          "yref": "paper"
         },
         {
          "font": {
           "size": 18
          },
          "showarrow": false,
          "text": "2623620617",
          "x": 0.775,
          "xanchor": "center",
          "xref": "paper",
          "y": 0.3877551020408163,
          "yanchor": "bottom",
          "yref": "paper"
         },
         {
          "font": {
           "size": 18
          },
          "showarrow": false,
          "text": "2615840697",
          "x": 0.225,
          "xanchor": "center",
          "xref": "paper",
          "y": 0.2346938775510204,
          "yanchor": "bottom",
          "yref": "paper"
         },
         {
          "font": {
           "size": 18
          },
          "showarrow": false,
          "text": "2623620618",
          "x": 0.775,
          "xanchor": "center",
          "xref": "paper",
          "y": 0.2346938775510204,
          "yanchor": "bottom",
          "yref": "paper"
         },
         {
          "font": {
           "size": 18
          },
          "showarrow": false,
          "text": "2616644829",
          "x": 0.225,
          "xanchor": "center",
          "xref": "paper",
          "y": 0.08163265306122448,
          "yanchor": "bottom",
          "yref": "paper"
         },
         {
          "font": {
           "size": 18
          },
          "showarrow": false,
          "text": "<b>Contigs",
          "x": 0.5,
          "xanchor": "center",
          "xref": "paper",
          "y": 0,
          "yanchor": "top",
          "yref": "paper",
          "yshift": -30
         },
         {
          "font": {
           "size": 18
          },
          "showarrow": false,
          "text": "<b>Breadth of Coverage",
          "textangle": -90,
          "x": 0,
          "xanchor": "right",
          "xref": "paper",
          "xshift": -40,
          "y": 0.5,
          "yanchor": "middle",
          "yref": "paper"
         }
        ],
        "font": {
         "size": 18
        },
        "plot_bgcolor": "rgb(255,255,255)",
        "template": {
         "data": {
          "bar": [
           {
            "error_x": {
             "color": "#2a3f5f"
            },
            "error_y": {
             "color": "#2a3f5f"
            },
            "marker": {
             "line": {
              "color": "#E5ECF6",
              "width": 0.5
             },
             "pattern": {
              "fillmode": "overlay",
              "size": 10,
              "solidity": 0.2
             }
            },
            "type": "bar"
           }
          ],
          "barpolar": [
           {
            "marker": {
             "line": {
              "color": "#E5ECF6",
              "width": 0.5
             },
             "pattern": {
              "fillmode": "overlay",
              "size": 10,
              "solidity": 0.2
             }
            },
            "type": "barpolar"
           }
          ],
          "carpet": [
           {
            "aaxis": {
             "endlinecolor": "#2a3f5f",
             "gridcolor": "white",
             "linecolor": "white",
             "minorgridcolor": "white",
             "startlinecolor": "#2a3f5f"
            },
            "baxis": {
             "endlinecolor": "#2a3f5f",
             "gridcolor": "white",
             "linecolor": "white",
             "minorgridcolor": "white",
             "startlinecolor": "#2a3f5f"
            },
            "type": "carpet"
           }
          ],
          "choropleth": [
           {
            "colorbar": {
             "outlinewidth": 0,
             "ticks": ""
            },
            "type": "choropleth"
           }
          ],
          "contour": [
           {
            "colorbar": {
             "outlinewidth": 0,
             "ticks": ""
            },
            "colorscale": [
             [
              0,
              "#0d0887"
             ],
             [
              0.1111111111111111,
              "#46039f"
             ],
             [
              0.2222222222222222,
              "#7201a8"
             ],
             [
              0.3333333333333333,
              "#9c179e"
             ],
             [
              0.4444444444444444,
              "#bd3786"
             ],
             [
              0.5555555555555556,
              "#d8576b"
             ],
             [
              0.6666666666666666,
              "#ed7953"
             ],
             [
              0.7777777777777778,
              "#fb9f3a"
             ],
             [
              0.8888888888888888,
              "#fdca26"
             ],
             [
              1,
              "#f0f921"
             ]
            ],
            "type": "contour"
           }
          ],
          "contourcarpet": [
           {
            "colorbar": {
             "outlinewidth": 0,
             "ticks": ""
            },
            "type": "contourcarpet"
           }
          ],
          "heatmap": [
           {
            "colorbar": {
             "outlinewidth": 0,
             "ticks": ""
            },
            "colorscale": [
             [
              0,
              "#0d0887"
             ],
             [
              0.1111111111111111,
              "#46039f"
             ],
             [
              0.2222222222222222,
              "#7201a8"
             ],
             [
              0.3333333333333333,
              "#9c179e"
             ],
             [
              0.4444444444444444,
              "#bd3786"
             ],
             [
              0.5555555555555556,
              "#d8576b"
             ],
             [
              0.6666666666666666,
              "#ed7953"
             ],
             [
              0.7777777777777778,
              "#fb9f3a"
             ],
             [
              0.8888888888888888,
              "#fdca26"
             ],
             [
              1,
              "#f0f921"
             ]
            ],
            "type": "heatmap"
           }
          ],
          "heatmapgl": [
           {
            "colorbar": {
             "outlinewidth": 0,
             "ticks": ""
            },
            "colorscale": [
             [
              0,
              "#0d0887"
             ],
             [
              0.1111111111111111,
              "#46039f"
             ],
             [
              0.2222222222222222,
              "#7201a8"
             ],
             [
              0.3333333333333333,
              "#9c179e"
             ],
             [
              0.4444444444444444,
              "#bd3786"
             ],
             [
              0.5555555555555556,
              "#d8576b"
             ],
             [
              0.6666666666666666,
              "#ed7953"
             ],
             [
              0.7777777777777778,
              "#fb9f3a"
             ],
             [
              0.8888888888888888,
              "#fdca26"
             ],
             [
              1,
              "#f0f921"
             ]
            ],
            "type": "heatmapgl"
           }
          ],
          "histogram": [
           {
            "marker": {
             "pattern": {
              "fillmode": "overlay",
              "size": 10,
              "solidity": 0.2
             }
            },
            "type": "histogram"
           }
          ],
          "histogram2d": [
           {
            "colorbar": {
             "outlinewidth": 0,
             "ticks": ""
            },
            "colorscale": [
             [
              0,
              "#0d0887"
             ],
             [
              0.1111111111111111,
              "#46039f"
             ],
             [
              0.2222222222222222,
              "#7201a8"
             ],
             [
              0.3333333333333333,
              "#9c179e"
             ],
             [
              0.4444444444444444,
              "#bd3786"
             ],
             [
              0.5555555555555556,
              "#d8576b"
             ],
             [
              0.6666666666666666,
              "#ed7953"
             ],
             [
              0.7777777777777778,
              "#fb9f3a"
             ],
             [
              0.8888888888888888,
              "#fdca26"
             ],
             [
              1,
              "#f0f921"
             ]
            ],
            "type": "histogram2d"
           }
          ],
          "histogram2dcontour": [
           {
            "colorbar": {
             "outlinewidth": 0,
             "ticks": ""
            },
            "colorscale": [
             [
              0,
              "#0d0887"
             ],
             [
              0.1111111111111111,
              "#46039f"
             ],
             [
              0.2222222222222222,
              "#7201a8"
             ],
             [
              0.3333333333333333,
              "#9c179e"
             ],
             [
              0.4444444444444444,
              "#bd3786"
             ],
             [
              0.5555555555555556,
              "#d8576b"
             ],
             [
              0.6666666666666666,
              "#ed7953"
             ],
             [
              0.7777777777777778,
              "#fb9f3a"
             ],
             [
              0.8888888888888888,
              "#fdca26"
             ],
             [
              1,
              "#f0f921"
             ]
            ],
            "type": "histogram2dcontour"
           }
          ],
          "mesh3d": [
           {
            "colorbar": {
             "outlinewidth": 0,
             "ticks": ""
            },
            "type": "mesh3d"
           }
          ],
          "parcoords": [
           {
            "line": {
             "colorbar": {
              "outlinewidth": 0,
              "ticks": ""
             }
            },
            "type": "parcoords"
           }
          ],
          "pie": [
           {
            "automargin": true,
            "type": "pie"
           }
          ],
          "scatter": [
           {
            "marker": {
             "colorbar": {
              "outlinewidth": 0,
              "ticks": ""
             }
            },
            "type": "scatter"
           }
          ],
          "scatter3d": [
           {
            "line": {
             "colorbar": {
              "outlinewidth": 0,
              "ticks": ""
             }
            },
            "marker": {
             "colorbar": {
              "outlinewidth": 0,
              "ticks": ""
             }
            },
            "type": "scatter3d"
           }
          ],
          "scattercarpet": [
           {
            "marker": {
             "colorbar": {
              "outlinewidth": 0,
              "ticks": ""
             }
            },
            "type": "scattercarpet"
           }
          ],
          "scattergeo": [
           {
            "marker": {
             "colorbar": {
              "outlinewidth": 0,
              "ticks": ""
             }
            },
            "type": "scattergeo"
           }
          ],
          "scattergl": [
           {
            "marker": {
             "colorbar": {
              "outlinewidth": 0,
              "ticks": ""
             }
            },
            "type": "scattergl"
           }
          ],
          "scattermapbox": [
           {
            "marker": {
             "colorbar": {
              "outlinewidth": 0,
              "ticks": ""
             }
            },
            "type": "scattermapbox"
           }
          ],
          "scatterpolar": [
           {
            "marker": {
             "colorbar": {
              "outlinewidth": 0,
              "ticks": ""
             }
            },
            "type": "scatterpolar"
           }
          ],
          "scatterpolargl": [
           {
            "marker": {
             "colorbar": {
              "outlinewidth": 0,
              "ticks": ""
             }
            },
            "type": "scatterpolargl"
           }
          ],
          "scatterternary": [
           {
            "marker": {
             "colorbar": {
              "outlinewidth": 0,
              "ticks": ""
             }
            },
            "type": "scatterternary"
           }
          ],
          "surface": [
           {
            "colorbar": {
             "outlinewidth": 0,
             "ticks": ""
            },
            "colorscale": [
             [
              0,
              "#0d0887"
             ],
             [
              0.1111111111111111,
              "#46039f"
             ],
             [
              0.2222222222222222,
              "#7201a8"
             ],
             [
              0.3333333333333333,
              "#9c179e"
             ],
             [
              0.4444444444444444,
              "#bd3786"
             ],
             [
              0.5555555555555556,
              "#d8576b"
             ],
             [
              0.6666666666666666,
              "#ed7953"
             ],
             [
              0.7777777777777778,
              "#fb9f3a"
             ],
             [
              0.8888888888888888,
              "#fdca26"
             ],
             [
              1,
              "#f0f921"
             ]
            ],
            "type": "surface"
           }
          ],
          "table": [
           {
            "cells": {
             "fill": {
              "color": "#EBF0F8"
             },
             "line": {
              "color": "white"
             }
            },
            "header": {
             "fill": {
              "color": "#C8D4E3"
             },
             "line": {
              "color": "white"
             }
            },
            "type": "table"
           }
          ]
         },
         "layout": {
          "annotationdefaults": {
           "arrowcolor": "#2a3f5f",
           "arrowhead": 0,
           "arrowwidth": 1
          },
          "autotypenumbers": "strict",
          "coloraxis": {
           "colorbar": {
            "outlinewidth": 0,
            "ticks": ""
           }
          },
          "colorscale": {
           "diverging": [
            [
             0,
             "#8e0152"
            ],
            [
             0.1,
             "#c51b7d"
            ],
            [
             0.2,
             "#de77ae"
            ],
            [
             0.3,
             "#f1b6da"
            ],
            [
             0.4,
             "#fde0ef"
            ],
            [
             0.5,
             "#f7f7f7"
            ],
            [
             0.6,
             "#e6f5d0"
            ],
            [
             0.7,
             "#b8e186"
            ],
            [
             0.8,
             "#7fbc41"
            ],
            [
             0.9,
             "#4d9221"
            ],
            [
             1,
             "#276419"
            ]
           ],
           "sequential": [
            [
             0,
             "#0d0887"
            ],
            [
             0.1111111111111111,
             "#46039f"
            ],
            [
             0.2222222222222222,
             "#7201a8"
            ],
            [
             0.3333333333333333,
             "#9c179e"
            ],
            [
             0.4444444444444444,
             "#bd3786"
            ],
            [
             0.5555555555555556,
             "#d8576b"
            ],
            [
             0.6666666666666666,
             "#ed7953"
            ],
            [
             0.7777777777777778,
             "#fb9f3a"
            ],
            [
             0.8888888888888888,
             "#fdca26"
            ],
            [
             1,
             "#f0f921"
            ]
           ],
           "sequentialminus": [
            [
             0,
             "#0d0887"
            ],
            [
             0.1111111111111111,
             "#46039f"
            ],
            [
             0.2222222222222222,
             "#7201a8"
            ],
            [
             0.3333333333333333,
             "#9c179e"
            ],
            [
             0.4444444444444444,
             "#bd3786"
            ],
            [
             0.5555555555555556,
             "#d8576b"
            ],
            [
             0.6666666666666666,
             "#ed7953"
            ],
            [
             0.7777777777777778,
             "#fb9f3a"
            ],
            [
             0.8888888888888888,
             "#fdca26"
            ],
            [
             1,
             "#f0f921"
            ]
           ]
          },
          "colorway": [
           "#636efa",
           "#EF553B",
           "#00cc96",
           "#ab63fa",
           "#FFA15A",
           "#19d3f3",
           "#FF6692",
           "#B6E880",
           "#FF97FF",
           "#FECB52"
          ],
          "font": {
           "color": "#2a3f5f"
          },
          "geo": {
           "bgcolor": "white",
           "lakecolor": "white",
           "landcolor": "#E5ECF6",
           "showlakes": true,
           "showland": true,
           "subunitcolor": "white"
          },
          "hoverlabel": {
           "align": "left"
          },
          "hovermode": "closest",
          "mapbox": {
           "style": "light"
          },
          "paper_bgcolor": "white",
          "plot_bgcolor": "#E5ECF6",
          "polar": {
           "angularaxis": {
            "gridcolor": "white",
            "linecolor": "white",
            "ticks": ""
           },
           "bgcolor": "#E5ECF6",
           "radialaxis": {
            "gridcolor": "white",
            "linecolor": "white",
            "ticks": ""
           }
          },
          "scene": {
           "xaxis": {
            "backgroundcolor": "#E5ECF6",
            "gridcolor": "white",
            "gridwidth": 2,
            "linecolor": "white",
            "showbackground": true,
            "ticks": "",
            "zerolinecolor": "white"
           },
           "yaxis": {
            "backgroundcolor": "#E5ECF6",
            "gridcolor": "white",
            "gridwidth": 2,
            "linecolor": "white",
            "showbackground": true,
            "ticks": "",
            "zerolinecolor": "white"
           },
           "zaxis": {
            "backgroundcolor": "#E5ECF6",
            "gridcolor": "white",
            "gridwidth": 2,
            "linecolor": "white",
            "showbackground": true,
            "ticks": "",
            "zerolinecolor": "white"
           }
          },
          "shapedefaults": {
           "line": {
            "color": "#2a3f5f"
           }
          },
          "ternary": {
           "aaxis": {
            "gridcolor": "white",
            "linecolor": "white",
            "ticks": ""
           },
           "baxis": {
            "gridcolor": "white",
            "linecolor": "white",
            "ticks": ""
           },
           "bgcolor": "#E5ECF6",
           "caxis": {
            "gridcolor": "white",
            "linecolor": "white",
            "ticks": ""
           }
          },
          "title": {
           "x": 0.05
          },
          "xaxis": {
           "automargin": true,
           "gridcolor": "white",
           "linecolor": "white",
           "ticks": "",
           "title": {
            "standoff": 15
           },
           "zerolinecolor": "white",
           "zerolinewidth": 2
          },
          "yaxis": {
           "automargin": true,
           "gridcolor": "white",
           "linecolor": "white",
           "ticks": "",
           "title": {
            "standoff": 15
           },
           "zerolinecolor": "white",
           "zerolinewidth": 2
          }
         }
        },
        "title": {
         "text": "Genome fragmentation variation <br><sup>BMock12 bacterial reference replicons</sup><br>",
         "x": 0.5,
         "xanchor": "center",
         "y": 0.97,
         "yanchor": "top"
        },
        "xaxis": {
         "anchor": "y",
         "domain": [
          0,
          0.45
         ],
         "gridcolor": "#DCDCDC",
         "linecolor": "#DCDCDC",
         "linewidth": 1,
         "matches": "x13",
         "range": [
          0,
          3
         ],
         "rangemode": "tozero",
         "showline": true,
         "showticklabels": true,
         "type": "log"
        },
        "xaxis10": {
         "anchor": "y10",
         "domain": [
          0.55,
          1
         ],
         "gridcolor": "#DCDCDC",
         "linecolor": "#DCDCDC",
         "linewidth": 1,
         "matches": "x14",
         "range": [
          0,
          3
         ],
         "rangemode": "tozero",
         "showline": true,
         "showticklabels": true,
         "type": "log"
        },
        "xaxis11": {
         "anchor": "y11",
         "domain": [
          0,
          0.45
         ],
         "gridcolor": "#DCDCDC",
         "linecolor": "#DCDCDC",
         "linewidth": 1,
         "matches": "x13",
         "range": [
          0,
          3
         ],
         "rangemode": "tozero",
         "showline": true,
         "showticklabels": true,
         "type": "log"
        },
        "xaxis12": {
         "anchor": "y12",
         "domain": [
          0.55,
          1
         ],
         "gridcolor": "#DCDCDC",
         "linecolor": "#DCDCDC",
         "linewidth": 1,
         "matches": "x14",
         "range": [
          0,
          3
         ],
         "rangemode": "tozero",
         "showline": true,
         "showticklabels": true,
         "type": "log"
        },
        "xaxis13": {
         "anchor": "y13",
         "domain": [
          0,
          0.45
         ],
         "gridcolor": "#DCDCDC",
         "linecolor": "#DCDCDC",
         "linewidth": 1,
         "range": [
          0,
          3
         ],
         "rangemode": "tozero",
         "showline": true,
         "type": "log"
        },
        "xaxis14": {
         "anchor": "y14",
         "domain": [
          0.55,
          1
         ],
         "gridcolor": "#DCDCDC",
         "linecolor": "#DCDCDC",
         "linewidth": 1,
         "range": [
          0,
          3
         ],
         "rangemode": "tozero",
         "showline": true,
         "type": "log"
        },
        "xaxis2": {
         "anchor": "y2",
         "domain": [
          0.55,
          1
         ],
         "gridcolor": "#DCDCDC",
         "linecolor": "#DCDCDC",
         "linewidth": 1,
         "matches": "x14",
         "range": [
          0,
          3
         ],
         "rangemode": "tozero",
         "showline": true,
         "showticklabels": true,
         "type": "log"
        },
        "xaxis3": {
         "anchor": "y3",
         "domain": [
          0,
          0.45
         ],
         "gridcolor": "#DCDCDC",
         "linecolor": "#DCDCDC",
         "linewidth": 1,
         "matches": "x13",
         "range": [
          0,
          3
         ],
         "rangemode": "tozero",
         "showline": true,
         "showticklabels": true,
         "type": "log"
        },
        "xaxis4": {
         "anchor": "y4",
         "domain": [
          0.55,
          1
         ],
         "gridcolor": "#DCDCDC",
         "linecolor": "#DCDCDC",
         "linewidth": 1,
         "matches": "x14",
         "range": [
          0,
          3
         ],
         "rangemode": "tozero",
         "showline": true,
         "showticklabels": true,
         "type": "log"
        },
        "xaxis5": {
         "anchor": "y5",
         "domain": [
          0,
          0.45
         ],
         "gridcolor": "#DCDCDC",
         "linecolor": "#DCDCDC",
         "linewidth": 1,
         "matches": "x13",
         "range": [
          0,
          3
         ],
         "rangemode": "tozero",
         "showline": true,
         "showticklabels": true,
         "type": "log"
        },
        "xaxis6": {
         "anchor": "y6",
         "domain": [
          0.55,
          1
         ],
         "gridcolor": "#DCDCDC",
         "linecolor": "#DCDCDC",
         "linewidth": 1,
         "matches": "x14",
         "range": [
          0,
          3
         ],
         "rangemode": "tozero",
         "showline": true,
         "showticklabels": true,
         "type": "log"
        },
        "xaxis7": {
         "anchor": "y7",
         "domain": [
          0,
          0.45
         ],
         "gridcolor": "#DCDCDC",
         "linecolor": "#DCDCDC",
         "linewidth": 1,
         "matches": "x13",
         "range": [
          0,
          3
         ],
         "rangemode": "tozero",
         "showline": true,
         "showticklabels": true,
         "type": "log"
        },
        "xaxis8": {
         "anchor": "y8",
         "domain": [
          0.55,
          1
         ],
         "gridcolor": "#DCDCDC",
         "linecolor": "#DCDCDC",
         "linewidth": 1,
         "matches": "x14",
         "range": [
          0,
          3
         ],
         "rangemode": "tozero",
         "showline": true,
         "showticklabels": true,
         "type": "log"
        },
        "xaxis9": {
         "anchor": "y9",
         "domain": [
          0,
          0.45
         ],
         "gridcolor": "#DCDCDC",
         "linecolor": "#DCDCDC",
         "linewidth": 1,
         "matches": "x13",
         "range": [
          0,
          3
         ],
         "rangemode": "tozero",
         "showline": true,
         "showticklabels": true,
         "type": "log"
        },
        "yaxis": {
         "anchor": "x",
         "domain": [
          0.9183673469387754,
          0.9999999999999999
         ],
         "gridcolor": "#DCDCDC",
         "linecolor": "#DCDCDC",
         "linewidth": 1,
         "range": [
          0,
          1
         ],
         "showline": true,
         "showticklabels": true
        },
        "yaxis10": {
         "anchor": "x10",
         "domain": [
          0.30612244897959184,
          0.3877551020408163
         ],
         "gridcolor": "#DCDCDC",
         "linecolor": "#DCDCDC",
         "linewidth": 1,
         "matches": "y9",
         "range": [
          0,
          1
         ],
         "showline": true,
         "showticklabels": true
        },
        "yaxis11": {
         "anchor": "x11",
         "domain": [
          0.15306122448979592,
          0.2346938775510204
         ],
         "gridcolor": "#DCDCDC",
         "linecolor": "#DCDCDC",
         "linewidth": 1,
         "range": [
          0,
          1
         ],
         "showline": true,
         "showticklabels": true
        },
        "yaxis12": {
         "anchor": "x12",
         "domain": [
          0.15306122448979592,
          0.2346938775510204
         ],
         "gridcolor": "#DCDCDC",
         "linecolor": "#DCDCDC",
         "linewidth": 1,
         "matches": "y11",
         "range": [
          0,
          1
         ],
         "showline": true,
         "showticklabels": true
        },
        "yaxis13": {
         "anchor": "x13",
         "domain": [
          0,
          0.08163265306122448
         ],
         "gridcolor": "#DCDCDC",
         "linecolor": "#DCDCDC",
         "linewidth": 1,
         "range": [
          0,
          1
         ],
         "showline": true
        },
        "yaxis14": {
         "anchor": "x14",
         "domain": [
          0,
          0.08163265306122448
         ],
         "gridcolor": "#DCDCDC",
         "linecolor": "#DCDCDC",
         "linewidth": 1,
         "matches": "y13",
         "range": [
          0,
          1
         ],
         "showline": true,
         "showticklabels": false
        },
        "yaxis2": {
         "anchor": "x2",
         "domain": [
          0.9183673469387754,
          0.9999999999999999
         ],
         "gridcolor": "#DCDCDC",
         "linecolor": "#DCDCDC",
         "linewidth": 1,
         "matches": "y",
         "range": [
          0,
          1
         ],
         "showline": true,
         "showticklabels": true
        },
        "yaxis3": {
         "anchor": "x3",
         "domain": [
          0.7653061224489794,
          0.8469387755102039
         ],
         "gridcolor": "#DCDCDC",
         "linecolor": "#DCDCDC",
         "linewidth": 1,
         "range": [
          0,
          1
         ],
         "showline": true,
         "showticklabels": true
        },
        "yaxis4": {
         "anchor": "x4",
         "domain": [
          0.7653061224489794,
          0.8469387755102039
         ],
         "gridcolor": "#DCDCDC",
         "linecolor": "#DCDCDC",
         "linewidth": 1,
         "matches": "y3",
         "range": [
          0,
          1
         ],
         "showline": true,
         "showticklabels": true
        },
        "yaxis5": {
         "anchor": "x5",
         "domain": [
          0.6122448979591837,
          0.6938775510204082
         ],
         "gridcolor": "#DCDCDC",
         "linecolor": "#DCDCDC",
         "linewidth": 1,
         "range": [
          0,
          1
         ],
         "showline": true,
         "showticklabels": true
        },
        "yaxis6": {
         "anchor": "x6",
         "domain": [
          0.6122448979591837,
          0.6938775510204082
         ],
         "gridcolor": "#DCDCDC",
         "linecolor": "#DCDCDC",
         "linewidth": 1,
         "matches": "y5",
         "range": [
          0,
          1
         ],
         "showline": true,
         "showticklabels": true
        },
        "yaxis7": {
         "anchor": "x7",
         "domain": [
          0.4591836734693877,
          0.5408163265306122
         ],
         "gridcolor": "#DCDCDC",
         "linecolor": "#DCDCDC",
         "linewidth": 1,
         "range": [
          0,
          1
         ],
         "showline": true,
         "showticklabels": true
        },
        "yaxis8": {
         "anchor": "x8",
         "domain": [
          0.4591836734693877,
          0.5408163265306122
         ],
         "gridcolor": "#DCDCDC",
         "linecolor": "#DCDCDC",
         "linewidth": 1,
         "matches": "y7",
         "range": [
          0,
          1
         ],
         "showline": true,
         "showticklabels": true
        },
        "yaxis9": {
         "anchor": "x9",
         "domain": [
          0.30612244897959184,
          0.3877551020408163
         ],
         "gridcolor": "#DCDCDC",
         "linecolor": "#DCDCDC",
         "linewidth": 1,
         "range": [
          0,
          1
         ],
         "showline": true,
         "showticklabels": true
        }
       }
      },
      "text/html": [
       "<div>                            <div id=\"fcb78237-6bf6-4447-995d-08f11c522ace\" class=\"plotly-graph-div\" style=\"height:525px; width:100%;\"></div>            <script type=\"text/javascript\">                require([\"plotly\"], function(Plotly) {                    window.PLOTLYENV=window.PLOTLYENV || {};                                    if (document.getElementById(\"fcb78237-6bf6-4447-995d-08f11c522ace\")) {                    Plotly.newPlot(                        \"fcb78237-6bf6-4447-995d-08f11c522ace\",                        [{\"marker\":{\"color\":\"#5876c8\",\"line\":{\"color\":\"black\",\"width\":1},\"opacity\":0.5,\"size\":12},\"name\":\"Unicycler\",\"opacity\":1,\"showlegend\":false,\"type\":\"scatter\",\"x\":[20],\"xaxis\":\"x\",\"y\":[0.9955483640279542],\"yaxis\":\"y\"},{\"marker\":{\"color\":\"#58AEC8\",\"line\":{\"color\":\"black\",\"width\":1},\"opacity\":0.5,\"size\":12},\"name\":\"SPAdes\",\"opacity\":1,\"showlegend\":false,\"type\":\"scatter\",\"x\":[26],\"xaxis\":\"x\",\"y\":[0.9961786275281844],\"yaxis\":\"y\"},{\"marker\":{\"color\":\"#009392\",\"line\":{\"color\":\"black\",\"width\":1},\"opacity\":0.5,\"size\":12},\"name\":\"SKESA\",\"opacity\":1,\"showlegend\":false,\"type\":\"scatter\",\"x\":[47],\"xaxis\":\"x\",\"y\":[0.98794624534085],\"yaxis\":\"y\"},{\"marker\":{\"color\":\"#39B185\",\"line\":{\"color\":\"black\",\"width\":1},\"opacity\":0.5,\"size\":12},\"name\":\"metaSPAdes\",\"opacity\":1,\"showlegend\":false,\"type\":\"scatter\",\"x\":[17],\"xaxis\":\"x\",\"y\":[0.9974071543950792],\"yaxis\":\"y\"},{\"marker\":{\"color\":\"#9CCB86\",\"line\":{\"color\":\"black\",\"width\":1},\"opacity\":0.5,\"size\":12},\"name\":\"MEGAHIT\",\"opacity\":1,\"showlegend\":false,\"type\":\"scatter\",\"x\":[26],\"xaxis\":\"x\",\"y\":[0.997277762550661],\"yaxis\":\"y\"},{\"marker\":{\"color\":\"#E9E29C\",\"line\":{\"color\":\"black\",\"width\":1},\"opacity\":0.5,\"size\":12},\"name\":\"IDBA-UD\",\"opacity\":1,\"showlegend\":false,\"type\":\"scatter\",\"x\":[30],\"xaxis\":\"x\",\"y\":[0.995130414457382],\"yaxis\":\"y\"},{\"marker\":{\"color\":\"#EEB479\",\"line\":{\"color\":\"black\",\"width\":1},\"opacity\":0.5,\"size\":12},\"name\":\"GATBMiniaPipeline\",\"opacity\":1,\"showlegend\":false,\"type\":\"scatter\",\"x\":[27],\"xaxis\":\"x\",\"y\":[0.9948643959557396],\"yaxis\":\"y\"},{\"marker\":{\"color\":\"#5876c8\",\"line\":{\"color\":\"black\",\"width\":1},\"opacity\":0.5,\"size\":12},\"name\":\"Unicycler\",\"opacity\":1,\"showlegend\":false,\"type\":\"scatter\",\"x\":[23],\"xaxis\":\"x3\",\"y\":[0.99198226394391],\"yaxis\":\"y3\"},{\"marker\":{\"color\":\"#58AEC8\",\"line\":{\"color\":\"black\",\"width\":1},\"opacity\":0.5,\"size\":12},\"name\":\"SPAdes\",\"opacity\":1,\"showlegend\":false,\"type\":\"scatter\",\"x\":[24],\"xaxis\":\"x3\",\"y\":[0.9925504269031996],\"yaxis\":\"y3\"},{\"marker\":{\"color\":\"#009392\",\"line\":{\"color\":\"black\",\"width\":1},\"opacity\":0.5,\"size\":12},\"name\":\"SKESA\",\"opacity\":1,\"showlegend\":false,\"type\":\"scatter\",\"x\":[37],\"xaxis\":\"x3\",\"y\":[0.9632714862244888],\"yaxis\":\"y3\"},{\"marker\":{\"color\":\"#39B185\",\"line\":{\"color\":\"black\",\"width\":1},\"opacity\":0.5,\"size\":12},\"name\":\"metaSPAdes\",\"opacity\":1,\"showlegend\":false,\"type\":\"scatter\",\"x\":[22],\"xaxis\":\"x3\",\"y\":[0.995157923920832],\"yaxis\":\"y3\"},{\"marker\":{\"color\":\"#9CCB86\",\"line\":{\"color\":\"black\",\"width\":1},\"opacity\":0.5,\"size\":12},\"name\":\"MEGAHIT\",\"opacity\":1,\"showlegend\":false,\"type\":\"scatter\",\"x\":[26],\"xaxis\":\"x3\",\"y\":[0.994355466957712],\"yaxis\":\"y3\"},{\"marker\":{\"color\":\"#E9E29C\",\"line\":{\"color\":\"black\",\"width\":1},\"opacity\":0.5,\"size\":12},\"name\":\"IDBA-UD\",\"opacity\":1,\"showlegend\":false,\"type\":\"scatter\",\"x\":[28],\"xaxis\":\"x3\",\"y\":[0.9763655923635776],\"yaxis\":\"y3\"},{\"marker\":{\"color\":\"#EEB479\",\"line\":{\"color\":\"black\",\"width\":1},\"opacity\":0.5,\"size\":12},\"name\":\"GATBMiniaPipeline\",\"opacity\":1,\"showlegend\":false,\"type\":\"scatter\",\"x\":[27],\"xaxis\":\"x3\",\"y\":[0.9891394966974308],\"yaxis\":\"y3\"},{\"marker\":{\"color\":\"#5876c8\",\"line\":{\"color\":\"black\",\"width\":1},\"opacity\":0.5,\"size\":12},\"name\":\"Unicycler\",\"opacity\":1,\"showlegend\":false,\"type\":\"scatter\",\"x\":[35],\"xaxis\":\"x5\",\"y\":[0.9893313792730468],\"yaxis\":\"y5\"},{\"marker\":{\"color\":\"#58AEC8\",\"line\":{\"color\":\"black\",\"width\":1},\"opacity\":0.5,\"size\":12},\"name\":\"SPAdes\",\"opacity\":1,\"showlegend\":false,\"type\":\"scatter\",\"x\":[38],\"xaxis\":\"x5\",\"y\":[0.9928916486774292],\"yaxis\":\"y5\"},{\"marker\":{\"color\":\"#009392\",\"line\":{\"color\":\"black\",\"width\":1},\"opacity\":0.5,\"size\":12},\"name\":\"SKESA\",\"opacity\":1,\"showlegend\":false,\"type\":\"scatter\",\"x\":[117],\"xaxis\":\"x5\",\"y\":[0.9731816905363662],\"yaxis\":\"y5\"},{\"marker\":{\"color\":\"#39B185\",\"line\":{\"color\":\"black\",\"width\":1},\"opacity\":0.5,\"size\":12},\"name\":\"metaSPAdes\",\"opacity\":1,\"showlegend\":false,\"type\":\"scatter\",\"x\":[38],\"xaxis\":\"x5\",\"y\":[0.9935304760787576],\"yaxis\":\"y5\"},{\"marker\":{\"color\":\"#9CCB86\",\"line\":{\"color\":\"black\",\"width\":1},\"opacity\":0.5,\"size\":12},\"name\":\"MEGAHIT\",\"opacity\":1,\"showlegend\":false,\"type\":\"scatter\",\"x\":[34],\"xaxis\":\"x5\",\"y\":[0.9868611281651284],\"yaxis\":\"y5\"},{\"marker\":{\"color\":\"#E9E29C\",\"line\":{\"color\":\"black\",\"width\":1},\"opacity\":0.5,\"size\":12},\"name\":\"IDBA-UD\",\"opacity\":1,\"showlegend\":false,\"type\":\"scatter\",\"x\":[58],\"xaxis\":\"x5\",\"y\":[0.986183453151557],\"yaxis\":\"y5\"},{\"marker\":{\"color\":\"#EEB479\",\"line\":{\"color\":\"black\",\"width\":1},\"opacity\":0.5,\"size\":12},\"name\":\"GATBMiniaPipeline\",\"opacity\":1,\"showlegend\":false,\"type\":\"scatter\",\"x\":[34],\"xaxis\":\"x5\",\"y\":[0.989016281973743],\"yaxis\":\"y5\"},{\"marker\":{\"color\":\"#5876c8\",\"line\":{\"color\":\"black\",\"width\":1},\"opacity\":0.5,\"size\":12},\"name\":\"Unicycler\",\"opacity\":1,\"showlegend\":false,\"type\":\"scatter\",\"x\":[119],\"xaxis\":\"x7\",\"y\":[0.9673770192820992],\"yaxis\":\"y7\"},{\"marker\":{\"color\":\"#58AEC8\",\"line\":{\"color\":\"black\",\"width\":1},\"opacity\":0.5,\"size\":12},\"name\":\"SPAdes\",\"opacity\":1,\"showlegend\":false,\"type\":\"scatter\",\"x\":[126],\"xaxis\":\"x7\",\"y\":[0.9686877229840054],\"yaxis\":\"y7\"},{\"marker\":{\"color\":\"#009392\",\"line\":{\"color\":\"black\",\"width\":1},\"opacity\":0.5,\"size\":12},\"name\":\"SKESA\",\"opacity\":1,\"showlegend\":false,\"type\":\"scatter\",\"x\":[184],\"xaxis\":\"x7\",\"y\":[0.9437483464547206],\"yaxis\":\"y7\"},{\"marker\":{\"color\":\"#39B185\",\"line\":{\"color\":\"black\",\"width\":1},\"opacity\":0.5,\"size\":12},\"name\":\"metaSPAdes\",\"opacity\":1,\"showlegend\":false,\"type\":\"scatter\",\"x\":[124],\"xaxis\":\"x7\",\"y\":[0.9702972389511866],\"yaxis\":\"y7\"},{\"marker\":{\"color\":\"#9CCB86\",\"line\":{\"color\":\"black\",\"width\":1},\"opacity\":0.5,\"size\":12},\"name\":\"MEGAHIT\",\"opacity\":1,\"showlegend\":false,\"type\":\"scatter\",\"x\":[135],\"xaxis\":\"x7\",\"y\":[0.970121121702498],\"yaxis\":\"y7\"},{\"marker\":{\"color\":\"#E9E29C\",\"line\":{\"color\":\"black\",\"width\":1},\"opacity\":0.5,\"size\":12},\"name\":\"IDBA-UD\",\"opacity\":1,\"showlegend\":false,\"type\":\"scatter\",\"x\":[153],\"xaxis\":\"x7\",\"y\":[0.9683601449014448],\"yaxis\":\"y7\"},{\"marker\":{\"color\":\"#EEB479\",\"line\":{\"color\":\"black\",\"width\":1},\"opacity\":0.5,\"size\":12},\"name\":\"GATBMiniaPipeline\",\"opacity\":1,\"showlegend\":false,\"type\":\"scatter\",\"x\":[137],\"xaxis\":\"x7\",\"y\":[0.972912580094211],\"yaxis\":\"y7\"},{\"marker\":{\"color\":\"#5876c8\",\"line\":{\"color\":\"black\",\"width\":1},\"opacity\":0.5,\"size\":12},\"name\":\"Unicycler\",\"opacity\":1,\"showlegend\":false,\"type\":\"scatter\",\"x\":[3],\"xaxis\":\"x9\",\"y\":[0.9997530892757998],\"yaxis\":\"y9\"},{\"marker\":{\"color\":\"#58AEC8\",\"line\":{\"color\":\"black\",\"width\":1},\"opacity\":0.5,\"size\":12},\"name\":\"SPAdes\",\"opacity\":1,\"showlegend\":false,\"type\":\"scatter\",\"x\":[15],\"xaxis\":\"x9\",\"y\":[0.9843952422305424],\"yaxis\":\"y9\"},{\"marker\":{\"color\":\"#009392\",\"line\":{\"color\":\"black\",\"width\":1},\"opacity\":0.5,\"size\":12},\"name\":\"SKESA\",\"opacity\":1,\"showlegend\":false,\"type\":\"scatter\",\"x\":[524],\"xaxis\":\"x9\",\"y\":[0.2457965117520607],\"yaxis\":\"y9\"},{\"marker\":{\"color\":\"#39B185\",\"line\":{\"color\":\"black\",\"width\":1},\"opacity\":0.5,\"size\":12},\"name\":\"metaSPAdes\",\"opacity\":1,\"showlegend\":false,\"type\":\"scatter\",\"x\":[14],\"xaxis\":\"x9\",\"y\":[0.9992997522884842],\"yaxis\":\"y9\"},{\"marker\":{\"color\":\"#9CCB86\",\"line\":{\"color\":\"black\",\"width\":1},\"opacity\":0.5,\"size\":12},\"name\":\"MEGAHIT\",\"opacity\":1,\"showlegend\":false,\"type\":\"scatter\",\"x\":[17],\"xaxis\":\"x9\",\"y\":[0.9998282747035292],\"yaxis\":\"y9\"},{\"marker\":{\"color\":\"#E9E29C\",\"line\":{\"color\":\"black\",\"width\":1},\"opacity\":0.5,\"size\":12},\"name\":\"IDBA-UD\",\"opacity\":1,\"showlegend\":false,\"type\":\"scatter\",\"x\":[66],\"xaxis\":\"x9\",\"y\":[0.9980282732798996],\"yaxis\":\"y9\"},{\"marker\":{\"color\":\"#EEB479\",\"line\":{\"color\":\"black\",\"width\":1},\"opacity\":0.5,\"size\":12},\"name\":\"GATBMiniaPipeline\",\"opacity\":1,\"showlegend\":false,\"type\":\"scatter\",\"x\":[32],\"xaxis\":\"x9\",\"y\":[0.999326890223937],\"yaxis\":\"y9\"},{\"marker\":{\"color\":\"#5876c8\",\"line\":{\"color\":\"black\",\"width\":1},\"opacity\":0.5,\"size\":12},\"name\":\"Unicycler\",\"opacity\":1,\"showlegend\":false,\"type\":\"scatter\",\"x\":[108],\"xaxis\":\"x11\",\"y\":[0.9661946127842008],\"yaxis\":\"y11\"},{\"marker\":{\"color\":\"#58AEC8\",\"line\":{\"color\":\"black\",\"width\":1},\"opacity\":0.5,\"size\":12},\"name\":\"SPAdes\",\"opacity\":1,\"showlegend\":false,\"type\":\"scatter\",\"x\":[132],\"xaxis\":\"x11\",\"y\":[0.9696337668949052],\"yaxis\":\"y11\"},{\"marker\":{\"color\":\"#009392\",\"line\":{\"color\":\"black\",\"width\":1},\"opacity\":0.5,\"size\":12},\"name\":\"SKESA\",\"opacity\":1,\"showlegend\":false,\"type\":\"scatter\",\"x\":[345],\"xaxis\":\"x11\",\"y\":[0.8821869909374609],\"yaxis\":\"y11\"},{\"marker\":{\"color\":\"#39B185\",\"line\":{\"color\":\"black\",\"width\":1},\"opacity\":0.5,\"size\":12},\"name\":\"metaSPAdes\",\"opacity\":1,\"showlegend\":false,\"type\":\"scatter\",\"x\":[95],\"xaxis\":\"x11\",\"y\":[0.985648921972994],\"yaxis\":\"y11\"},{\"marker\":{\"color\":\"#9CCB86\",\"line\":{\"color\":\"black\",\"width\":1},\"opacity\":0.5,\"size\":12},\"name\":\"MEGAHIT\",\"opacity\":1,\"showlegend\":false,\"type\":\"scatter\",\"x\":[174],\"xaxis\":\"x11\",\"y\":[0.9782310752485442],\"yaxis\":\"y11\"},{\"marker\":{\"color\":\"#E9E29C\",\"line\":{\"color\":\"black\",\"width\":1},\"opacity\":0.5,\"size\":12},\"name\":\"IDBA-UD\",\"opacity\":1,\"showlegend\":false,\"type\":\"scatter\",\"x\":[196],\"xaxis\":\"x11\",\"y\":[0.9664191512630116],\"yaxis\":\"y11\"},{\"marker\":{\"color\":\"#EEB479\",\"line\":{\"color\":\"black\",\"width\":1},\"opacity\":0.5,\"size\":12},\"name\":\"GATBMiniaPipeline\",\"opacity\":1,\"showlegend\":false,\"type\":\"scatter\",\"x\":[175],\"xaxis\":\"x11\",\"y\":[0.9751078442390648],\"yaxis\":\"y11\"},{\"marker\":{\"color\":\"#5876c8\",\"line\":{\"color\":\"black\",\"width\":1},\"opacity\":0.5,\"size\":12},\"name\":\"Unicycler\",\"opacity\":1,\"showlegend\":false,\"type\":\"scatter\",\"x\":[114],\"xaxis\":\"x13\",\"y\":[0.960770222569804],\"yaxis\":\"y13\"},{\"marker\":{\"color\":\"#58AEC8\",\"line\":{\"color\":\"black\",\"width\":1},\"opacity\":0.5,\"size\":12},\"name\":\"SPAdes\",\"opacity\":1,\"showlegend\":false,\"type\":\"scatter\",\"x\":[134],\"xaxis\":\"x13\",\"y\":[0.9654918090660396],\"yaxis\":\"y13\"},{\"marker\":{\"color\":\"#009392\",\"line\":{\"color\":\"black\",\"width\":1},\"opacity\":0.5,\"size\":12},\"name\":\"SKESA\",\"opacity\":1,\"showlegend\":false,\"type\":\"scatter\",\"x\":[362],\"xaxis\":\"x13\",\"y\":[0.8746807566231055],\"yaxis\":\"y13\"},{\"marker\":{\"color\":\"#39B185\",\"line\":{\"color\":\"black\",\"width\":1},\"opacity\":0.5,\"size\":12},\"name\":\"metaSPAdes\",\"opacity\":1,\"showlegend\":false,\"type\":\"scatter\",\"x\":[120],\"xaxis\":\"x13\",\"y\":[0.946883838358854],\"yaxis\":\"y13\"},{\"marker\":{\"color\":\"#9CCB86\",\"line\":{\"color\":\"black\",\"width\":1},\"opacity\":0.5,\"size\":12},\"name\":\"MEGAHIT\",\"opacity\":1,\"showlegend\":false,\"type\":\"scatter\",\"x\":[169],\"xaxis\":\"x13\",\"y\":[0.9752144816306044],\"yaxis\":\"y13\"},{\"marker\":{\"color\":\"#E9E29C\",\"line\":{\"color\":\"black\",\"width\":1},\"opacity\":0.5,\"size\":12},\"name\":\"IDBA-UD\",\"opacity\":1,\"showlegend\":false,\"type\":\"scatter\",\"x\":[244],\"xaxis\":\"x13\",\"y\":[0.9396103285772684],\"yaxis\":\"y13\"},{\"marker\":{\"color\":\"#EEB479\",\"line\":{\"color\":\"black\",\"width\":1},\"opacity\":0.5,\"size\":12},\"name\":\"GATBMiniaPipeline\",\"opacity\":1,\"showlegend\":false,\"type\":\"scatter\",\"x\":[159],\"xaxis\":\"x13\",\"y\":[0.965168911732551],\"yaxis\":\"y13\"},{\"marker\":{\"color\":\"#5876c8\",\"line\":{\"color\":\"black\",\"width\":1},\"opacity\":0.5,\"size\":12},\"name\":\"Unicycler\",\"opacity\":1,\"showlegend\":false,\"type\":\"scatter\",\"x\":[79],\"xaxis\":\"x2\",\"y\":[0.9853221178175908],\"yaxis\":\"y2\"},{\"marker\":{\"color\":\"#58AEC8\",\"line\":{\"color\":\"black\",\"width\":1},\"opacity\":0.5,\"size\":12},\"name\":\"SPAdes\",\"opacity\":1,\"showlegend\":false,\"type\":\"scatter\",\"x\":[85],\"xaxis\":\"x2\",\"y\":[0.9814976298488378],\"yaxis\":\"y2\"},{\"marker\":{\"color\":\"#009392\",\"line\":{\"color\":\"black\",\"width\":1},\"opacity\":0.5,\"size\":12},\"name\":\"SKESA\",\"opacity\":1,\"showlegend\":false,\"type\":\"scatter\",\"x\":[211],\"xaxis\":\"x2\",\"y\":[0.9397044355175672],\"yaxis\":\"y2\"},{\"marker\":{\"color\":\"#39B185\",\"line\":{\"color\":\"black\",\"width\":1},\"opacity\":0.5,\"size\":12},\"name\":\"metaSPAdes\",\"opacity\":1,\"showlegend\":false,\"type\":\"scatter\",\"x\":[83],\"xaxis\":\"x2\",\"y\":[0.9847523744226844],\"yaxis\":\"y2\"},{\"marker\":{\"color\":\"#9CCB86\",\"line\":{\"color\":\"black\",\"width\":1},\"opacity\":0.5,\"size\":12},\"name\":\"MEGAHIT\",\"opacity\":1,\"showlegend\":false,\"type\":\"scatter\",\"x\":[98],\"xaxis\":\"x2\",\"y\":[0.9784659363968794],\"yaxis\":\"y2\"},{\"marker\":{\"color\":\"#E9E29C\",\"line\":{\"color\":\"black\",\"width\":1},\"opacity\":0.5,\"size\":12},\"name\":\"IDBA-UD\",\"opacity\":1,\"showlegend\":false,\"type\":\"scatter\",\"x\":[137],\"xaxis\":\"x2\",\"y\":[0.9710987255952404],\"yaxis\":\"y2\"},{\"marker\":{\"color\":\"#EEB479\",\"line\":{\"color\":\"black\",\"width\":1},\"opacity\":0.5,\"size\":12},\"name\":\"GATBMiniaPipeline\",\"opacity\":1,\"showlegend\":false,\"type\":\"scatter\",\"x\":[101],\"xaxis\":\"x2\",\"y\":[0.9804212062592246],\"yaxis\":\"y2\"},{\"marker\":{\"color\":\"#5876c8\",\"line\":{\"color\":\"black\",\"width\":1},\"opacity\":0.5,\"size\":12},\"name\":\"Unicycler\",\"opacity\":1,\"showlegend\":false,\"type\":\"scatter\",\"x\":[15],\"xaxis\":\"x4\",\"y\":[0.0385711328667678],\"yaxis\":\"y4\"},{\"marker\":{\"color\":\"#58AEC8\",\"line\":{\"color\":\"black\",\"width\":1},\"opacity\":0.5,\"size\":12},\"name\":\"SPAdes\",\"opacity\":1,\"showlegend\":false,\"type\":\"scatter\",\"x\":[688],\"xaxis\":\"x4\",\"y\":[0.9763647290699756],\"yaxis\":\"y4\"},{\"marker\":{\"color\":\"#009392\",\"line\":{\"color\":\"black\",\"width\":1},\"opacity\":0.5,\"size\":12},\"name\":\"SKESA\",\"opacity\":1,\"showlegend\":false,\"type\":\"scatter\",\"x\":[3],\"xaxis\":\"x4\",\"y\":[0.000622784557775],\"yaxis\":\"y4\"},{\"marker\":{\"color\":\"#39B185\",\"line\":{\"color\":\"black\",\"width\":1},\"opacity\":0.5,\"size\":12},\"name\":\"metaSPAdes\",\"opacity\":1,\"showlegend\":false,\"type\":\"scatter\",\"x\":[149],\"xaxis\":\"x4\",\"y\":[0.9907380580089248],\"yaxis\":\"y4\"},{\"marker\":{\"color\":\"#9CCB86\",\"line\":{\"color\":\"black\",\"width\":1},\"opacity\":0.5,\"size\":12},\"name\":\"MEGAHIT\",\"opacity\":1,\"showlegend\":false,\"type\":\"scatter\",\"x\":[162],\"xaxis\":\"x4\",\"y\":[0.9861946183695344],\"yaxis\":\"y4\"},{\"marker\":{\"color\":\"#E9E29C\",\"line\":{\"color\":\"black\",\"width\":1},\"opacity\":0.5,\"size\":12},\"name\":\"IDBA-UD\",\"opacity\":1,\"showlegend\":false,\"type\":\"scatter\",\"x\":[1159],\"xaxis\":\"x4\",\"y\":[0.8871584073208144],\"yaxis\":\"y4\"},{\"marker\":{\"color\":\"#EEB479\",\"line\":{\"color\":\"black\",\"width\":1},\"opacity\":0.5,\"size\":12},\"name\":\"GATBMiniaPipeline\",\"opacity\":1,\"showlegend\":false,\"type\":\"scatter\",\"x\":[1186],\"xaxis\":\"x4\",\"y\":[0.956191701583186],\"yaxis\":\"y4\"},{\"marker\":{\"color\":\"#5876c8\",\"line\":{\"color\":\"black\",\"width\":1},\"opacity\":0.5,\"size\":12},\"name\":\"Unicycler\",\"opacity\":1,\"showlegend\":false,\"type\":\"scatter\",\"x\":[49],\"xaxis\":\"x6\",\"y\":[0.3309111125169528],\"yaxis\":\"y6\"},{\"marker\":{\"color\":\"#58AEC8\",\"line\":{\"color\":\"black\",\"width\":1},\"opacity\":0.5,\"size\":12},\"name\":\"SPAdes\",\"opacity\":1,\"showlegend\":false,\"type\":\"scatter\",\"x\":[630],\"xaxis\":\"x6\",\"y\":[0.9790618443884614],\"yaxis\":\"y6\"},{\"marker\":{\"color\":\"#009392\",\"line\":{\"color\":\"black\",\"width\":1},\"opacity\":0.5,\"size\":12},\"name\":\"SKESA\",\"opacity\":1,\"showlegend\":false,\"type\":\"scatter\",\"x\":[12],\"xaxis\":\"x6\",\"y\":[0.0044730994967959],\"yaxis\":\"y6\"},{\"marker\":{\"color\":\"#39B185\",\"line\":{\"color\":\"black\",\"width\":1},\"opacity\":0.5,\"size\":12},\"name\":\"metaSPAdes\",\"opacity\":1,\"showlegend\":false,\"type\":\"scatter\",\"x\":[132],\"xaxis\":\"x6\",\"y\":[0.99065894354995],\"yaxis\":\"y6\"},{\"marker\":{\"color\":\"#9CCB86\",\"line\":{\"color\":\"black\",\"width\":1},\"opacity\":0.5,\"size\":12},\"name\":\"MEGAHIT\",\"opacity\":1,\"showlegend\":false,\"type\":\"scatter\",\"x\":[164],\"xaxis\":\"x6\",\"y\":[0.9787705209847816],\"yaxis\":\"y6\"},{\"marker\":{\"color\":\"#E9E29C\",\"line\":{\"color\":\"black\",\"width\":1},\"opacity\":0.5,\"size\":12},\"name\":\"IDBA-UD\",\"opacity\":1,\"showlegend\":false,\"type\":\"scatter\",\"x\":[951],\"xaxis\":\"x6\",\"y\":[0.951103508776189],\"yaxis\":\"y6\"},{\"marker\":{\"color\":\"#EEB479\",\"line\":{\"color\":\"black\",\"width\":1},\"opacity\":0.5,\"size\":12},\"name\":\"GATBMiniaPipeline\",\"opacity\":1,\"showlegend\":false,\"type\":\"scatter\",\"x\":[801],\"xaxis\":\"x6\",\"y\":[0.9759224062970412],\"yaxis\":\"y6\"},{\"marker\":{\"color\":\"#5876c8\",\"line\":{\"color\":\"black\",\"width\":1},\"opacity\":0.5,\"size\":12},\"name\":\"Unicycler\",\"opacity\":1,\"showlegend\":false,\"type\":\"scatter\",\"x\":[2],\"xaxis\":\"x8\",\"y\":[0.0014155737933758],\"yaxis\":\"y8\"},{\"marker\":{\"color\":\"#58AEC8\",\"line\":{\"color\":\"black\",\"width\":1},\"opacity\":0.5,\"size\":12},\"name\":\"SPAdes\",\"opacity\":1,\"showlegend\":false,\"type\":\"scatter\",\"x\":[5],\"xaxis\":\"x8\",\"y\":[0.0024882959980607],\"yaxis\":\"y8\"},{\"marker\":{\"color\":\"#009392\",\"line\":{\"color\":\"black\",\"width\":1},\"opacity\":0.5,\"size\":12},\"name\":\"SKESA\",\"opacity\":1,\"showlegend\":false,\"type\":\"scatter\",\"x\":[1],\"xaxis\":\"x8\",\"y\":[4.150852926417786e-05],\"yaxis\":\"y8\"},{\"marker\":{\"color\":\"#39B185\",\"line\":{\"color\":\"black\",\"width\":1},\"opacity\":0.5,\"size\":12},\"name\":\"metaSPAdes\",\"opacity\":1,\"showlegend\":false,\"type\":\"scatter\",\"x\":[3],\"xaxis\":\"x8\",\"y\":[0.0018529643811026],\"yaxis\":\"y8\"},{\"marker\":{\"color\":\"#9CCB86\",\"line\":{\"color\":\"black\",\"width\":1},\"opacity\":0.5,\"size\":12},\"name\":\"MEGAHIT\",\"opacity\":1,\"showlegend\":false,\"type\":\"scatter\",\"x\":[3],\"xaxis\":\"x8\",\"y\":[0.0015195666923152],\"yaxis\":\"y8\"},{\"marker\":{\"color\":\"#E9E29C\",\"line\":{\"color\":\"black\",\"width\":1},\"opacity\":0.5,\"size\":12},\"name\":\"IDBA-UD\",\"opacity\":1,\"showlegend\":false,\"type\":\"scatter\",\"x\":[2],\"xaxis\":\"x8\",\"y\":[0.0013963705591967],\"yaxis\":\"y8\"},{\"marker\":{\"color\":\"#EEB479\",\"line\":{\"color\":\"black\",\"width\":1},\"opacity\":0.5,\"size\":12},\"name\":\"GATBMiniaPipeline\",\"opacity\":1,\"showlegend\":false,\"type\":\"scatter\",\"x\":[5],\"xaxis\":\"x8\",\"y\":[0.0025459057005982],\"yaxis\":\"y8\"},{\"marker\":{\"color\":\"#5876c8\",\"line\":{\"color\":\"black\",\"width\":1},\"opacity\":0.5,\"size\":12},\"name\":\"Unicycler\",\"opacity\":1,\"showlegend\":false,\"type\":\"scatter\",\"x\":[572],\"xaxis\":\"x10\",\"y\":[0.8495510998725517],\"yaxis\":\"y10\"},{\"marker\":{\"color\":\"#58AEC8\",\"line\":{\"color\":\"black\",\"width\":1},\"opacity\":0.5,\"size\":12},\"name\":\"SPAdes\",\"opacity\":1,\"showlegend\":false,\"type\":\"scatter\",\"x\":[600],\"xaxis\":\"x10\",\"y\":[0.8871952931428483],\"yaxis\":\"y10\"},{\"marker\":{\"color\":\"#009392\",\"line\":{\"color\":\"black\",\"width\":1},\"opacity\":0.5,\"size\":12},\"name\":\"SKESA\",\"opacity\":1,\"showlegend\":false,\"type\":\"scatter\",\"x\":[517],\"xaxis\":\"x10\",\"y\":[0.549214100376022],\"yaxis\":\"y10\"},{\"marker\":{\"color\":\"#39B185\",\"line\":{\"color\":\"black\",\"width\":1},\"opacity\":0.5,\"size\":12},\"name\":\"metaSPAdes\",\"opacity\":1,\"showlegend\":false,\"type\":\"scatter\",\"x\":[366],\"xaxis\":\"x10\",\"y\":[0.9660464277911812],\"yaxis\":\"y10\"},{\"marker\":{\"color\":\"#9CCB86\",\"line\":{\"color\":\"black\",\"width\":1},\"opacity\":0.5,\"size\":12},\"name\":\"MEGAHIT\",\"opacity\":1,\"showlegend\":false,\"type\":\"scatter\",\"x\":[352],\"xaxis\":\"x10\",\"y\":[0.9392596391906538],\"yaxis\":\"y10\"},{\"marker\":{\"color\":\"#E9E29C\",\"line\":{\"color\":\"black\",\"width\":1},\"opacity\":0.5,\"size\":12},\"name\":\"IDBA-UD\",\"opacity\":1,\"showlegend\":false,\"type\":\"scatter\",\"x\":[610],\"xaxis\":\"x10\",\"y\":[0.8559409727121005],\"yaxis\":\"y10\"},{\"marker\":{\"color\":\"#EEB479\",\"line\":{\"color\":\"black\",\"width\":1},\"opacity\":0.5,\"size\":12},\"name\":\"GATBMiniaPipeline\",\"opacity\":1,\"showlegend\":false,\"type\":\"scatter\",\"x\":[702],\"xaxis\":\"x10\",\"y\":[0.7930220531300326],\"yaxis\":\"y10\"},{\"marker\":{\"color\":\"#5876c8\",\"line\":{\"color\":\"black\",\"width\":1},\"opacity\":0.5,\"size\":12},\"name\":\"Unicycler\",\"opacity\":1,\"showlegend\":false,\"type\":\"scatter\",\"x\":[560],\"xaxis\":\"x12\",\"y\":[0.857521470924192],\"yaxis\":\"y12\"},{\"marker\":{\"color\":\"#58AEC8\",\"line\":{\"color\":\"black\",\"width\":1},\"opacity\":0.5,\"size\":12},\"name\":\"SPAdes\",\"opacity\":1,\"showlegend\":false,\"type\":\"scatter\",\"x\":[593],\"xaxis\":\"x12\",\"y\":[0.892272831903547],\"yaxis\":\"y12\"},{\"marker\":{\"color\":\"#009392\",\"line\":{\"color\":\"black\",\"width\":1},\"opacity\":0.5,\"size\":12},\"name\":\"SKESA\",\"opacity\":1,\"showlegend\":false,\"type\":\"scatter\",\"x\":[511],\"xaxis\":\"x12\",\"y\":[0.5409587104850303],\"yaxis\":\"y12\"},{\"marker\":{\"color\":\"#39B185\",\"line\":{\"color\":\"black\",\"width\":1},\"opacity\":0.5,\"size\":12},\"name\":\"metaSPAdes\",\"opacity\":1,\"showlegend\":false,\"type\":\"scatter\",\"x\":[370],\"xaxis\":\"x12\",\"y\":[0.9726112707090604],\"yaxis\":\"y12\"},{\"marker\":{\"color\":\"#9CCB86\",\"line\":{\"color\":\"black\",\"width\":1},\"opacity\":0.5,\"size\":12},\"name\":\"MEGAHIT\",\"opacity\":1,\"showlegend\":false,\"type\":\"scatter\",\"x\":[306],\"xaxis\":\"x12\",\"y\":[0.970799446584124],\"yaxis\":\"y12\"},{\"marker\":{\"color\":\"#E9E29C\",\"line\":{\"color\":\"black\",\"width\":1},\"opacity\":0.5,\"size\":12},\"name\":\"IDBA-UD\",\"opacity\":1,\"showlegend\":false,\"type\":\"scatter\",\"x\":[619],\"xaxis\":\"x12\",\"y\":[0.8735337591888124],\"yaxis\":\"y12\"},{\"marker\":{\"color\":\"#EEB479\",\"line\":{\"color\":\"black\",\"width\":1},\"opacity\":0.5,\"size\":12},\"name\":\"GATBMiniaPipeline\",\"opacity\":1,\"showlegend\":false,\"type\":\"scatter\",\"x\":[689],\"xaxis\":\"x12\",\"y\":[0.7902890184010296],\"yaxis\":\"y12\"},{\"legendgroup\":\"Assemblers\",\"legendgrouptitle\":{\"text\":\"Assembler\"},\"marker\":{\"color\":\"#5876c8\"},\"name\":\"Unicycler\",\"showlegend\":true,\"type\":\"bar\",\"x\":[-10]},{\"legendgroup\":\"Assemblers\",\"legendgrouptitle\":{\"text\":\"Assembler\"},\"marker\":{\"color\":\"#58AEC8\"},\"name\":\"SPAdes\",\"showlegend\":true,\"type\":\"bar\",\"x\":[-10]},{\"legendgroup\":\"Assemblers\",\"legendgrouptitle\":{\"text\":\"Assembler\"},\"marker\":{\"color\":\"#009392\"},\"name\":\"SKESA\",\"showlegend\":true,\"type\":\"bar\",\"x\":[-10]},{\"legendgroup\":\"Assemblers\",\"legendgrouptitle\":{\"text\":\"Assembler\"},\"marker\":{\"color\":\"#39B185\"},\"name\":\"metaSPAdes\",\"showlegend\":true,\"type\":\"bar\",\"x\":[-10]},{\"legendgroup\":\"Assemblers\",\"legendgrouptitle\":{\"text\":\"Assembler\"},\"marker\":{\"color\":\"#9CCB86\"},\"name\":\"MEGAHIT\",\"showlegend\":true,\"type\":\"bar\",\"x\":[-10]},{\"legendgroup\":\"Assemblers\",\"legendgrouptitle\":{\"text\":\"Assembler\"},\"marker\":{\"color\":\"#E9E29C\"},\"name\":\"IDBA-UD\",\"showlegend\":true,\"type\":\"bar\",\"x\":[-10]},{\"legendgroup\":\"Assemblers\",\"legendgrouptitle\":{\"text\":\"Assembler\"},\"marker\":{\"color\":\"#EEB479\"},\"name\":\"GATBMiniaPipeline\",\"showlegend\":true,\"type\":\"bar\",\"x\":[-10]}],                        {\"annotations\":[{\"font\":{\"size\":18},\"showarrow\":false,\"text\":\"2615840527\",\"x\":0.225,\"xanchor\":\"center\",\"xref\":\"paper\",\"y\":0.9999999999999999,\"yanchor\":\"bottom\",\"yref\":\"paper\"},{\"font\":{\"size\":18},\"showarrow\":false,\"text\":\"2617270709\",\"x\":0.775,\"xanchor\":\"center\",\"xref\":\"paper\",\"y\":0.9999999999999999,\"yanchor\":\"bottom\",\"yref\":\"paper\"},{\"font\":{\"size\":18},\"showarrow\":false,\"text\":\"2615840533 A\",\"x\":0.225,\"xanchor\":\"center\",\"xref\":\"paper\",\"y\":0.8469387755102039,\"yanchor\":\"bottom\",\"yref\":\"paper\"},{\"font\":{\"size\":18},\"showarrow\":false,\"text\":\"2623620557\",\"x\":0.775,\"xanchor\":\"center\",\"xref\":\"paper\",\"y\":0.8469387755102039,\"yanchor\":\"bottom\",\"yref\":\"paper\"},{\"font\":{\"size\":18},\"showarrow\":false,\"text\":\"2615840533 B\",\"x\":0.225,\"xanchor\":\"center\",\"xref\":\"paper\",\"y\":0.6938775510204082,\"yanchor\":\"bottom\",\"yref\":\"paper\"},{\"font\":{\"size\":18},\"showarrow\":false,\"text\":\"2623620567\",\"x\":0.775,\"xanchor\":\"center\",\"xref\":\"paper\",\"y\":0.6938775510204082,\"yanchor\":\"bottom\",\"yref\":\"paper\"},{\"font\":{\"size\":18},\"showarrow\":false,\"text\":\"2615840601\",\"x\":0.225,\"xanchor\":\"center\",\"xref\":\"paper\",\"y\":0.5408163265306122,\"yanchor\":\"bottom\",\"yref\":\"paper\"},{\"font\":{\"size\":18},\"showarrow\":false,\"text\":\"2623620609\",\"x\":0.775,\"xanchor\":\"center\",\"xref\":\"paper\",\"y\":0.5408163265306122,\"yanchor\":\"bottom\",\"yref\":\"paper\"},{\"font\":{\"size\":18},\"showarrow\":false,\"text\":\"2615840646\",\"x\":0.225,\"xanchor\":\"center\",\"xref\":\"paper\",\"y\":0.3877551020408163,\"yanchor\":\"bottom\",\"yref\":\"paper\"},{\"font\":{\"size\":18},\"showarrow\":false,\"text\":\"2623620617\",\"x\":0.775,\"xanchor\":\"center\",\"xref\":\"paper\",\"y\":0.3877551020408163,\"yanchor\":\"bottom\",\"yref\":\"paper\"},{\"font\":{\"size\":18},\"showarrow\":false,\"text\":\"2615840697\",\"x\":0.225,\"xanchor\":\"center\",\"xref\":\"paper\",\"y\":0.2346938775510204,\"yanchor\":\"bottom\",\"yref\":\"paper\"},{\"font\":{\"size\":18},\"showarrow\":false,\"text\":\"2623620618\",\"x\":0.775,\"xanchor\":\"center\",\"xref\":\"paper\",\"y\":0.2346938775510204,\"yanchor\":\"bottom\",\"yref\":\"paper\"},{\"font\":{\"size\":18},\"showarrow\":false,\"text\":\"2616644829\",\"x\":0.225,\"xanchor\":\"center\",\"xref\":\"paper\",\"y\":0.08163265306122448,\"yanchor\":\"bottom\",\"yref\":\"paper\"},{\"font\":{\"size\":18},\"showarrow\":false,\"text\":\"<b>Contigs\",\"x\":0.5,\"xanchor\":\"center\",\"xref\":\"paper\",\"y\":0,\"yanchor\":\"top\",\"yref\":\"paper\",\"yshift\":-30},{\"font\":{\"size\":18},\"showarrow\":false,\"text\":\"<b>Breadth of Coverage\",\"textangle\":-90,\"x\":0,\"xanchor\":\"right\",\"xref\":\"paper\",\"xshift\":-40,\"y\":0.5,\"yanchor\":\"middle\",\"yref\":\"paper\"}],\"font\":{\"size\":18},\"plot_bgcolor\":\"rgb(255,255,255)\",\"template\":{\"data\":{\"bar\":[{\"error_x\":{\"color\":\"#2a3f5f\"},\"error_y\":{\"color\":\"#2a3f5f\"},\"marker\":{\"line\":{\"color\":\"#E5ECF6\",\"width\":0.5},\"pattern\":{\"fillmode\":\"overlay\",\"size\":10,\"solidity\":0.2}},\"type\":\"bar\"}],\"barpolar\":[{\"marker\":{\"line\":{\"color\":\"#E5ECF6\",\"width\":0.5},\"pattern\":{\"fillmode\":\"overlay\",\"size\":10,\"solidity\":0.2}},\"type\":\"barpolar\"}],\"carpet\":[{\"aaxis\":{\"endlinecolor\":\"#2a3f5f\",\"gridcolor\":\"white\",\"linecolor\":\"white\",\"minorgridcolor\":\"white\",\"startlinecolor\":\"#2a3f5f\"},\"baxis\":{\"endlinecolor\":\"#2a3f5f\",\"gridcolor\":\"white\",\"linecolor\":\"white\",\"minorgridcolor\":\"white\",\"startlinecolor\":\"#2a3f5f\"},\"type\":\"carpet\"}],\"choropleth\":[{\"colorbar\":{\"outlinewidth\":0,\"ticks\":\"\"},\"type\":\"choropleth\"}],\"contour\":[{\"colorbar\":{\"outlinewidth\":0,\"ticks\":\"\"},\"colorscale\":[[0.0,\"#0d0887\"],[0.1111111111111111,\"#46039f\"],[0.2222222222222222,\"#7201a8\"],[0.3333333333333333,\"#9c179e\"],[0.4444444444444444,\"#bd3786\"],[0.5555555555555556,\"#d8576b\"],[0.6666666666666666,\"#ed7953\"],[0.7777777777777778,\"#fb9f3a\"],[0.8888888888888888,\"#fdca26\"],[1.0,\"#f0f921\"]],\"type\":\"contour\"}],\"contourcarpet\":[{\"colorbar\":{\"outlinewidth\":0,\"ticks\":\"\"},\"type\":\"contourcarpet\"}],\"heatmap\":[{\"colorbar\":{\"outlinewidth\":0,\"ticks\":\"\"},\"colorscale\":[[0.0,\"#0d0887\"],[0.1111111111111111,\"#46039f\"],[0.2222222222222222,\"#7201a8\"],[0.3333333333333333,\"#9c179e\"],[0.4444444444444444,\"#bd3786\"],[0.5555555555555556,\"#d8576b\"],[0.6666666666666666,\"#ed7953\"],[0.7777777777777778,\"#fb9f3a\"],[0.8888888888888888,\"#fdca26\"],[1.0,\"#f0f921\"]],\"type\":\"heatmap\"}],\"heatmapgl\":[{\"colorbar\":{\"outlinewidth\":0,\"ticks\":\"\"},\"colorscale\":[[0.0,\"#0d0887\"],[0.1111111111111111,\"#46039f\"],[0.2222222222222222,\"#7201a8\"],[0.3333333333333333,\"#9c179e\"],[0.4444444444444444,\"#bd3786\"],[0.5555555555555556,\"#d8576b\"],[0.6666666666666666,\"#ed7953\"],[0.7777777777777778,\"#fb9f3a\"],[0.8888888888888888,\"#fdca26\"],[1.0,\"#f0f921\"]],\"type\":\"heatmapgl\"}],\"histogram\":[{\"marker\":{\"pattern\":{\"fillmode\":\"overlay\",\"size\":10,\"solidity\":0.2}},\"type\":\"histogram\"}],\"histogram2d\":[{\"colorbar\":{\"outlinewidth\":0,\"ticks\":\"\"},\"colorscale\":[[0.0,\"#0d0887\"],[0.1111111111111111,\"#46039f\"],[0.2222222222222222,\"#7201a8\"],[0.3333333333333333,\"#9c179e\"],[0.4444444444444444,\"#bd3786\"],[0.5555555555555556,\"#d8576b\"],[0.6666666666666666,\"#ed7953\"],[0.7777777777777778,\"#fb9f3a\"],[0.8888888888888888,\"#fdca26\"],[1.0,\"#f0f921\"]],\"type\":\"histogram2d\"}],\"histogram2dcontour\":[{\"colorbar\":{\"outlinewidth\":0,\"ticks\":\"\"},\"colorscale\":[[0.0,\"#0d0887\"],[0.1111111111111111,\"#46039f\"],[0.2222222222222222,\"#7201a8\"],[0.3333333333333333,\"#9c179e\"],[0.4444444444444444,\"#bd3786\"],[0.5555555555555556,\"#d8576b\"],[0.6666666666666666,\"#ed7953\"],[0.7777777777777778,\"#fb9f3a\"],[0.8888888888888888,\"#fdca26\"],[1.0,\"#f0f921\"]],\"type\":\"histogram2dcontour\"}],\"mesh3d\":[{\"colorbar\":{\"outlinewidth\":0,\"ticks\":\"\"},\"type\":\"mesh3d\"}],\"parcoords\":[{\"line\":{\"colorbar\":{\"outlinewidth\":0,\"ticks\":\"\"}},\"type\":\"parcoords\"}],\"pie\":[{\"automargin\":true,\"type\":\"pie\"}],\"scatter\":[{\"marker\":{\"colorbar\":{\"outlinewidth\":0,\"ticks\":\"\"}},\"type\":\"scatter\"}],\"scatter3d\":[{\"line\":{\"colorbar\":{\"outlinewidth\":0,\"ticks\":\"\"}},\"marker\":{\"colorbar\":{\"outlinewidth\":0,\"ticks\":\"\"}},\"type\":\"scatter3d\"}],\"scattercarpet\":[{\"marker\":{\"colorbar\":{\"outlinewidth\":0,\"ticks\":\"\"}},\"type\":\"scattercarpet\"}],\"scattergeo\":[{\"marker\":{\"colorbar\":{\"outlinewidth\":0,\"ticks\":\"\"}},\"type\":\"scattergeo\"}],\"scattergl\":[{\"marker\":{\"colorbar\":{\"outlinewidth\":0,\"ticks\":\"\"}},\"type\":\"scattergl\"}],\"scattermapbox\":[{\"marker\":{\"colorbar\":{\"outlinewidth\":0,\"ticks\":\"\"}},\"type\":\"scattermapbox\"}],\"scatterpolar\":[{\"marker\":{\"colorbar\":{\"outlinewidth\":0,\"ticks\":\"\"}},\"type\":\"scatterpolar\"}],\"scatterpolargl\":[{\"marker\":{\"colorbar\":{\"outlinewidth\":0,\"ticks\":\"\"}},\"type\":\"scatterpolargl\"}],\"scatterternary\":[{\"marker\":{\"colorbar\":{\"outlinewidth\":0,\"ticks\":\"\"}},\"type\":\"scatterternary\"}],\"surface\":[{\"colorbar\":{\"outlinewidth\":0,\"ticks\":\"\"},\"colorscale\":[[0.0,\"#0d0887\"],[0.1111111111111111,\"#46039f\"],[0.2222222222222222,\"#7201a8\"],[0.3333333333333333,\"#9c179e\"],[0.4444444444444444,\"#bd3786\"],[0.5555555555555556,\"#d8576b\"],[0.6666666666666666,\"#ed7953\"],[0.7777777777777778,\"#fb9f3a\"],[0.8888888888888888,\"#fdca26\"],[1.0,\"#f0f921\"]],\"type\":\"surface\"}],\"table\":[{\"cells\":{\"fill\":{\"color\":\"#EBF0F8\"},\"line\":{\"color\":\"white\"}},\"header\":{\"fill\":{\"color\":\"#C8D4E3\"},\"line\":{\"color\":\"white\"}},\"type\":\"table\"}]},\"layout\":{\"annotationdefaults\":{\"arrowcolor\":\"#2a3f5f\",\"arrowhead\":0,\"arrowwidth\":1},\"autotypenumbers\":\"strict\",\"coloraxis\":{\"colorbar\":{\"outlinewidth\":0,\"ticks\":\"\"}},\"colorscale\":{\"diverging\":[[0,\"#8e0152\"],[0.1,\"#c51b7d\"],[0.2,\"#de77ae\"],[0.3,\"#f1b6da\"],[0.4,\"#fde0ef\"],[0.5,\"#f7f7f7\"],[0.6,\"#e6f5d0\"],[0.7,\"#b8e186\"],[0.8,\"#7fbc41\"],[0.9,\"#4d9221\"],[1,\"#276419\"]],\"sequential\":[[0.0,\"#0d0887\"],[0.1111111111111111,\"#46039f\"],[0.2222222222222222,\"#7201a8\"],[0.3333333333333333,\"#9c179e\"],[0.4444444444444444,\"#bd3786\"],[0.5555555555555556,\"#d8576b\"],[0.6666666666666666,\"#ed7953\"],[0.7777777777777778,\"#fb9f3a\"],[0.8888888888888888,\"#fdca26\"],[1.0,\"#f0f921\"]],\"sequentialminus\":[[0.0,\"#0d0887\"],[0.1111111111111111,\"#46039f\"],[0.2222222222222222,\"#7201a8\"],[0.3333333333333333,\"#9c179e\"],[0.4444444444444444,\"#bd3786\"],[0.5555555555555556,\"#d8576b\"],[0.6666666666666666,\"#ed7953\"],[0.7777777777777778,\"#fb9f3a\"],[0.8888888888888888,\"#fdca26\"],[1.0,\"#f0f921\"]]},\"colorway\":[\"#636efa\",\"#EF553B\",\"#00cc96\",\"#ab63fa\",\"#FFA15A\",\"#19d3f3\",\"#FF6692\",\"#B6E880\",\"#FF97FF\",\"#FECB52\"],\"font\":{\"color\":\"#2a3f5f\"},\"geo\":{\"bgcolor\":\"white\",\"lakecolor\":\"white\",\"landcolor\":\"#E5ECF6\",\"showlakes\":true,\"showland\":true,\"subunitcolor\":\"white\"},\"hoverlabel\":{\"align\":\"left\"},\"hovermode\":\"closest\",\"mapbox\":{\"style\":\"light\"},\"paper_bgcolor\":\"white\",\"plot_bgcolor\":\"#E5ECF6\",\"polar\":{\"angularaxis\":{\"gridcolor\":\"white\",\"linecolor\":\"white\",\"ticks\":\"\"},\"bgcolor\":\"#E5ECF6\",\"radialaxis\":{\"gridcolor\":\"white\",\"linecolor\":\"white\",\"ticks\":\"\"}},\"scene\":{\"xaxis\":{\"backgroundcolor\":\"#E5ECF6\",\"gridcolor\":\"white\",\"gridwidth\":2,\"linecolor\":\"white\",\"showbackground\":true,\"ticks\":\"\",\"zerolinecolor\":\"white\"},\"yaxis\":{\"backgroundcolor\":\"#E5ECF6\",\"gridcolor\":\"white\",\"gridwidth\":2,\"linecolor\":\"white\",\"showbackground\":true,\"ticks\":\"\",\"zerolinecolor\":\"white\"},\"zaxis\":{\"backgroundcolor\":\"#E5ECF6\",\"gridcolor\":\"white\",\"gridwidth\":2,\"linecolor\":\"white\",\"showbackground\":true,\"ticks\":\"\",\"zerolinecolor\":\"white\"}},\"shapedefaults\":{\"line\":{\"color\":\"#2a3f5f\"}},\"ternary\":{\"aaxis\":{\"gridcolor\":\"white\",\"linecolor\":\"white\",\"ticks\":\"\"},\"baxis\":{\"gridcolor\":\"white\",\"linecolor\":\"white\",\"ticks\":\"\"},\"bgcolor\":\"#E5ECF6\",\"caxis\":{\"gridcolor\":\"white\",\"linecolor\":\"white\",\"ticks\":\"\"}},\"title\":{\"x\":0.05},\"xaxis\":{\"automargin\":true,\"gridcolor\":\"white\",\"linecolor\":\"white\",\"ticks\":\"\",\"title\":{\"standoff\":15},\"zerolinecolor\":\"white\",\"zerolinewidth\":2},\"yaxis\":{\"automargin\":true,\"gridcolor\":\"white\",\"linecolor\":\"white\",\"ticks\":\"\",\"title\":{\"standoff\":15},\"zerolinecolor\":\"white\",\"zerolinewidth\":2}}},\"title\":{\"text\":\"Genome fragmentation variation <br><sup>BMock12 bacterial reference replicons</sup><br>\",\"x\":0.5,\"xanchor\":\"center\",\"y\":0.97,\"yanchor\":\"top\"},\"xaxis\":{\"anchor\":\"y\",\"domain\":[0.0,0.45],\"gridcolor\":\"#DCDCDC\",\"linecolor\":\"#DCDCDC\",\"linewidth\":1,\"matches\":\"x13\",\"range\":[0,3],\"rangemode\":\"tozero\",\"showline\":true,\"showticklabels\":true,\"type\":\"log\"},\"xaxis10\":{\"anchor\":\"y10\",\"domain\":[0.55,1.0],\"gridcolor\":\"#DCDCDC\",\"linecolor\":\"#DCDCDC\",\"linewidth\":1,\"matches\":\"x14\",\"range\":[0,3],\"rangemode\":\"tozero\",\"showline\":true,\"showticklabels\":true,\"type\":\"log\"},\"xaxis11\":{\"anchor\":\"y11\",\"domain\":[0.0,0.45],\"gridcolor\":\"#DCDCDC\",\"linecolor\":\"#DCDCDC\",\"linewidth\":1,\"matches\":\"x13\",\"range\":[0,3],\"rangemode\":\"tozero\",\"showline\":true,\"showticklabels\":true,\"type\":\"log\"},\"xaxis12\":{\"anchor\":\"y12\",\"domain\":[0.55,1.0],\"gridcolor\":\"#DCDCDC\",\"linecolor\":\"#DCDCDC\",\"linewidth\":1,\"matches\":\"x14\",\"range\":[0,3],\"rangemode\":\"tozero\",\"showline\":true,\"showticklabels\":true,\"type\":\"log\"},\"xaxis13\":{\"anchor\":\"y13\",\"domain\":[0.0,0.45],\"gridcolor\":\"#DCDCDC\",\"linecolor\":\"#DCDCDC\",\"linewidth\":1,\"range\":[0,3],\"rangemode\":\"tozero\",\"showline\":true,\"type\":\"log\"},\"xaxis14\":{\"anchor\":\"y14\",\"domain\":[0.55,1.0],\"gridcolor\":\"#DCDCDC\",\"linecolor\":\"#DCDCDC\",\"linewidth\":1,\"range\":[0,3],\"rangemode\":\"tozero\",\"showline\":true,\"type\":\"log\"},\"xaxis2\":{\"anchor\":\"y2\",\"domain\":[0.55,1.0],\"gridcolor\":\"#DCDCDC\",\"linecolor\":\"#DCDCDC\",\"linewidth\":1,\"matches\":\"x14\",\"range\":[0,3],\"rangemode\":\"tozero\",\"showline\":true,\"showticklabels\":true,\"type\":\"log\"},\"xaxis3\":{\"anchor\":\"y3\",\"domain\":[0.0,0.45],\"gridcolor\":\"#DCDCDC\",\"linecolor\":\"#DCDCDC\",\"linewidth\":1,\"matches\":\"x13\",\"range\":[0,3],\"rangemode\":\"tozero\",\"showline\":true,\"showticklabels\":true,\"type\":\"log\"},\"xaxis4\":{\"anchor\":\"y4\",\"domain\":[0.55,1.0],\"gridcolor\":\"#DCDCDC\",\"linecolor\":\"#DCDCDC\",\"linewidth\":1,\"matches\":\"x14\",\"range\":[0,3],\"rangemode\":\"tozero\",\"showline\":true,\"showticklabels\":true,\"type\":\"log\"},\"xaxis5\":{\"anchor\":\"y5\",\"domain\":[0.0,0.45],\"gridcolor\":\"#DCDCDC\",\"linecolor\":\"#DCDCDC\",\"linewidth\":1,\"matches\":\"x13\",\"range\":[0,3],\"rangemode\":\"tozero\",\"showline\":true,\"showticklabels\":true,\"type\":\"log\"},\"xaxis6\":{\"anchor\":\"y6\",\"domain\":[0.55,1.0],\"gridcolor\":\"#DCDCDC\",\"linecolor\":\"#DCDCDC\",\"linewidth\":1,\"matches\":\"x14\",\"range\":[0,3],\"rangemode\":\"tozero\",\"showline\":true,\"showticklabels\":true,\"type\":\"log\"},\"xaxis7\":{\"anchor\":\"y7\",\"domain\":[0.0,0.45],\"gridcolor\":\"#DCDCDC\",\"linecolor\":\"#DCDCDC\",\"linewidth\":1,\"matches\":\"x13\",\"range\":[0,3],\"rangemode\":\"tozero\",\"showline\":true,\"showticklabels\":true,\"type\":\"log\"},\"xaxis8\":{\"anchor\":\"y8\",\"domain\":[0.55,1.0],\"gridcolor\":\"#DCDCDC\",\"linecolor\":\"#DCDCDC\",\"linewidth\":1,\"matches\":\"x14\",\"range\":[0,3],\"rangemode\":\"tozero\",\"showline\":true,\"showticklabels\":true,\"type\":\"log\"},\"xaxis9\":{\"anchor\":\"y9\",\"domain\":[0.0,0.45],\"gridcolor\":\"#DCDCDC\",\"linecolor\":\"#DCDCDC\",\"linewidth\":1,\"matches\":\"x13\",\"range\":[0,3],\"rangemode\":\"tozero\",\"showline\":true,\"showticklabels\":true,\"type\":\"log\"},\"yaxis\":{\"anchor\":\"x\",\"domain\":[0.9183673469387754,0.9999999999999999],\"gridcolor\":\"#DCDCDC\",\"linecolor\":\"#DCDCDC\",\"linewidth\":1,\"range\":[0,1],\"showline\":true,\"showticklabels\":true},\"yaxis10\":{\"anchor\":\"x10\",\"domain\":[0.30612244897959184,0.3877551020408163],\"gridcolor\":\"#DCDCDC\",\"linecolor\":\"#DCDCDC\",\"linewidth\":1,\"matches\":\"y9\",\"range\":[0,1],\"showline\":true,\"showticklabels\":true},\"yaxis11\":{\"anchor\":\"x11\",\"domain\":[0.15306122448979592,0.2346938775510204],\"gridcolor\":\"#DCDCDC\",\"linecolor\":\"#DCDCDC\",\"linewidth\":1,\"range\":[0,1],\"showline\":true,\"showticklabels\":true},\"yaxis12\":{\"anchor\":\"x12\",\"domain\":[0.15306122448979592,0.2346938775510204],\"gridcolor\":\"#DCDCDC\",\"linecolor\":\"#DCDCDC\",\"linewidth\":1,\"matches\":\"y11\",\"range\":[0,1],\"showline\":true,\"showticklabels\":true},\"yaxis13\":{\"anchor\":\"x13\",\"domain\":[0.0,0.08163265306122448],\"gridcolor\":\"#DCDCDC\",\"linecolor\":\"#DCDCDC\",\"linewidth\":1,\"range\":[0,1],\"showline\":true},\"yaxis14\":{\"anchor\":\"x14\",\"domain\":[0.0,0.08163265306122448],\"gridcolor\":\"#DCDCDC\",\"linecolor\":\"#DCDCDC\",\"linewidth\":1,\"matches\":\"y13\",\"range\":[0,1],\"showline\":true,\"showticklabels\":false},\"yaxis2\":{\"anchor\":\"x2\",\"domain\":[0.9183673469387754,0.9999999999999999],\"gridcolor\":\"#DCDCDC\",\"linecolor\":\"#DCDCDC\",\"linewidth\":1,\"matches\":\"y\",\"range\":[0,1],\"showline\":true,\"showticklabels\":true},\"yaxis3\":{\"anchor\":\"x3\",\"domain\":[0.7653061224489794,0.8469387755102039],\"gridcolor\":\"#DCDCDC\",\"linecolor\":\"#DCDCDC\",\"linewidth\":1,\"range\":[0,1],\"showline\":true,\"showticklabels\":true},\"yaxis4\":{\"anchor\":\"x4\",\"domain\":[0.7653061224489794,0.8469387755102039],\"gridcolor\":\"#DCDCDC\",\"linecolor\":\"#DCDCDC\",\"linewidth\":1,\"matches\":\"y3\",\"range\":[0,1],\"showline\":true,\"showticklabels\":true},\"yaxis5\":{\"anchor\":\"x5\",\"domain\":[0.6122448979591837,0.6938775510204082],\"gridcolor\":\"#DCDCDC\",\"linecolor\":\"#DCDCDC\",\"linewidth\":1,\"range\":[0,1],\"showline\":true,\"showticklabels\":true},\"yaxis6\":{\"anchor\":\"x6\",\"domain\":[0.6122448979591837,0.6938775510204082],\"gridcolor\":\"#DCDCDC\",\"linecolor\":\"#DCDCDC\",\"linewidth\":1,\"matches\":\"y5\",\"range\":[0,1],\"showline\":true,\"showticklabels\":true},\"yaxis7\":{\"anchor\":\"x7\",\"domain\":[0.4591836734693877,0.5408163265306122],\"gridcolor\":\"#DCDCDC\",\"linecolor\":\"#DCDCDC\",\"linewidth\":1,\"range\":[0,1],\"showline\":true,\"showticklabels\":true},\"yaxis8\":{\"anchor\":\"x8\",\"domain\":[0.4591836734693877,0.5408163265306122],\"gridcolor\":\"#DCDCDC\",\"linecolor\":\"#DCDCDC\",\"linewidth\":1,\"matches\":\"y7\",\"range\":[0,1],\"showline\":true,\"showticklabels\":true},\"yaxis9\":{\"anchor\":\"x9\",\"domain\":[0.30612244897959184,0.3877551020408163],\"gridcolor\":\"#DCDCDC\",\"linecolor\":\"#DCDCDC\",\"linewidth\":1,\"range\":[0,1],\"showline\":true,\"showticklabels\":true}},                        {\"responsive\": true}                    ).then(function(){\n",
       "                            \n",
       "var gd = document.getElementById('fcb78237-6bf6-4447-995d-08f11c522ace');\n",
       "var x = new MutationObserver(function (mutations, observer) {{\n",
       "        var display = window.getComputedStyle(gd).display;\n",
       "        if (!display || display === 'none') {{\n",
       "            console.log([gd, 'removed!']);\n",
       "            Plotly.purge(gd);\n",
       "            observer.disconnect();\n",
       "        }}\n",
       "}});\n",
       "\n",
       "// Listen for the removal of the full notebook cells\n",
       "var notebookContainer = gd.closest('#notebook-container');\n",
       "if (notebookContainer) {{\n",
       "    x.observe(notebookContainer, {childList: true});\n",
       "}}\n",
       "\n",
       "// Listen for the clearing of the current output cell\n",
       "var outputEl = gd.closest('.output');\n",
       "if (outputEl) {{\n",
       "    x.observe(outputEl, {childList: true});\n",
       "}}\n",
       "\n",
       "                        })                };                });            </script>        </div>"
      ]
     },
     "metadata": {},
     "output_type": "display_data"
    },
    {
     "data": {
      "text/plain": [
       "'Plots/BMock12/Genome fragmentation.html'"
      ]
     },
     "execution_count": 35,
     "metadata": {},
     "output_type": "execute_result"
    }
   ],
   "source": [
    "fig=make_subplots(rows=7, cols=2, subplot_titles=PLOT_SUBTITLES,\n",
    "                 shared_yaxes=True, shared_xaxes=True, x_title=\"<b>Contigs\", y_title=\"<b>Breadth of Coverage\")\n",
    "row=1\n",
    "col=1\n",
    "\n",
    "\n",
    "for reference in sorted(df['Reference'].unique()):\n",
    "    print('--' + reference)\n",
    "    i=0\n",
    "    print(row, col)\n",
    "    for assembler in sorted(df['Assembler'].unique(), key=lambda v: v.upper(), reverse=True):\n",
    "        print('---' + assembler)\n",
    "        showlegend=True if col==1 and row==1 else False\n",
    "        \n",
    "        contigs = list(df['Contigs'][(df['Assembler'] == assembler) & (df['Reference'] == reference)])\n",
    "        boc = list(df['Breadth of Coverage'][(df['Assembler'] == assembler) & (df['Reference'] == reference)])\n",
    "        if contigs: #list not empty\n",
    "            for x, y in zip(contigs, boc):\n",
    "                print(x, y)\n",
    "                fig.add_trace(go.Scatter(x=[x],\n",
    "                                         y=[y],\n",
    "                                         name=assembler, marker=dict(color=COLOURS[i], size=12,opacity=0.5,\n",
    "                                                                     line=dict(color='black',width=1)), \n",
    "                                         showlegend=False, opacity=1),\n",
    "                              col=col, row=row)\n",
    "        i+=1\n",
    "    if row == 7:\n",
    "        row = 1\n",
    "        col += 1\n",
    "    else:\n",
    "        row += 1\n",
    "\n",
    "fig.update_layout(plot_bgcolor='rgb(255,255,255)')\n",
    "fig.update_layout(title=dict(text='Genome fragmentation variation <br><sup>BMock12 bacterial reference replicons</sup><br>',\n",
    "                             x=0.5,\n",
    "                             y=0.97,\n",
    "                             xanchor='center',\n",
    "                             yanchor='top'),\n",
    "                 font=dict(size=18))\n",
    "fig.update_xaxes(showline=True, linewidth=1, linecolor='#DCDCDC', gridcolor='#DCDCDC', rangemode='tozero', type='log', range=[0,3])\n",
    "fig.update_yaxes(showline=True, linewidth=1, linecolor='#DCDCDC', gridcolor='#DCDCDC', range=[0, 1])\n",
    "\n",
    "for i in fig['layout']['annotations']:\n",
    "    i['font']['size'] = 18\n",
    "\n",
    "fig.update_layout(xaxis_showticklabels=True, xaxis2_showticklabels=True, xaxis3_showticklabels=True, xaxis4_showticklabels=True, xaxis5_showticklabels=True,  xaxis6_showticklabels=True,  xaxis7_showticklabels=True,  xaxis8_showticklabels=True,\n",
    "                  xaxis9_showticklabels=True, xaxis10_showticklabels=True, xaxis11_showticklabels=True, xaxis12_showticklabels=True)\n",
    "fig.update_layout(yaxis_showticklabels=True, yaxis2_showticklabels=True, yaxis3_showticklabels=True, yaxis4_showticklabels=True, yaxis5_showticklabels=True,  yaxis6_showticklabels=True,  yaxis7_showticklabels=True,  yaxis8_showticklabels=True,\n",
    "                  yaxis9_showticklabels=True, yaxis10_showticklabels=True, yaxis11_showticklabels=True, yaxis12_showticklabels=True)\n",
    "\n",
    "\n",
    "# just for display purpose, create traces so that legend contains colors.  does not connect graph\n",
    "\n",
    "legend_trace = [go.Bar(name=assembler, x=[-10], marker_color=c, showlegend=True,  legendgroup=\"Assemblers\", legendgrouptitle_text=\"Assembler\")\n",
    "        for assembler,c in zip(sorted(df['Assembler'].unique(), key=lambda v: v.upper(), reverse=True),COLOURS)]\n",
    "    \n",
    "fig.update_traces(showlegend=False).add_traces(legend_trace)\n",
    "\n",
    "fig.show()\n",
    "plot(fig, filename='Plots/BMock12/Genome fragmentation.html', auto_open=False)"
   ]
  },
  {
   "cell_type": "markdown",
   "id": "78162379",
   "metadata": {},
   "source": [
    "## SNP analysis"
   ]
  },
  {
   "cell_type": "markdown",
   "id": "4fe677ee",
   "metadata": {},
   "source": [
    "The success of an assembly is evaluated by the computation of metrics in two defined ways: globally through statistics inherent to the complete set of sequences that were assembled, and relative to the replicons present in the sample. \n",
    "\n",
    "After filtering, the sequences are mapped with the reference replicons and the metrics are computed through custom python code. The metrics are calculated, filtered for a minimum length, for each replicon in the file provided input references. \n",
    "\n",
    "- **Contig sizes**\n",
    "    - **Contigs:** The total number of contigs in the assembly;\n",
    "    - **Basepairs:** The total number of bases in the assembly;\n",
    "    - **Number of ‘N’s:** Number of uncalled bases (N's) \n",
    "- **COMPASS**\n",
    "    - **(Breadth of) Coverage:** Ratio of covered sequence on the reference by aligned contigs;\n",
    "    - **Multiplicity:** Ratio of the length of alignable assembled sequence to covered sequence on the reference;\n",
    "    - **Validity:** Ratio of the length of the alignable assembled sequence to total basepairs in the aligned contigs;\n",
    "    - **Parsimony:** Cost of the assembly (multiplicity over validity);\n",
    "- **Contiguity**\n",
    "    - **Contiguity:** longest single alignment between the assembly and the reference, relative to the reference length;\n",
    "    - **NAx (where 0  < x  ⩽ 100):** Length for which the collection of aligned assembled sequences of that length or longer in an assembly covers at least a given percentage of the total length of the reference replicon;\n",
    "    - **NGx (where 0  < x  ⩽ 100):** Length for which the collection of aligned contigs of that length or longer covers at least a given percentage of the sequence of the reference.\n",
    "    - **Lx (where 0  < x  ⩽ 100):** Minimal number of contigs that cover x % of the sequence of the reference;\n",
    "- **Identity**\n",
    "    - **Identity:** Ratio of identical basepairs in all aligned contigs to the reference;\n",
    "    - **Lowest identity:** Identity of the lowest scoring contig to the reference.\n",
    "    - **PLS**: Phred-like score per contig, per assembler.\n",
    "- **Misassembly**\n",
    "    - **Misassemblies** - Number of aligned contigs that contain a misassembly event\n"
   ]
  },
  {
   "cell_type": "markdown",
   "id": "f909ec93",
   "metadata": {},
   "source": [
    "## Load data"
   ]
  },
  {
   "cell_type": "code",
   "execution_count": 42,
   "id": "3b33762a",
   "metadata": {},
   "outputs": [
    {
     "name": "stdout",
     "output_type": "stream",
     "text": [
      "Processing pipeline_report_tables.json data from BMock12...\n"
     ]
    },
    {
     "data": {
      "text/html": [
       "<div>\n",
       "<style scoped>\n",
       "    .dataframe tbody tr th:only-of-type {\n",
       "        vertical-align: middle;\n",
       "    }\n",
       "\n",
       "    .dataframe tbody tr th {\n",
       "        vertical-align: top;\n",
       "    }\n",
       "\n",
       "    .dataframe thead th {\n",
       "        text-align: right;\n",
       "    }\n",
       "</style>\n",
       "<table border=\"1\" class=\"dataframe\">\n",
       "  <thead>\n",
       "    <tr style=\"text-align: right;\">\n",
       "      <th></th>\n",
       "      <th>L90</th>\n",
       "      <th>LSA</th>\n",
       "      <th>NA50</th>\n",
       "      <th>NG50</th>\n",
       "      <th>Ns</th>\n",
       "      <th>assembler</th>\n",
       "      <th>basepairs</th>\n",
       "      <th>breadth_of_coverage</th>\n",
       "      <th>contigs</th>\n",
       "      <th>identity</th>\n",
       "      <th>...</th>\n",
       "      <th>misassembled contigs</th>\n",
       "      <th>misassembly events</th>\n",
       "      <th>multiplicity</th>\n",
       "      <th>parsimony</th>\n",
       "      <th>reference</th>\n",
       "      <th>run</th>\n",
       "      <th>sample</th>\n",
       "      <th>snps</th>\n",
       "      <th>validity</th>\n",
       "      <th>type</th>\n",
       "    </tr>\n",
       "  </thead>\n",
       "  <tbody>\n",
       "    <tr>\n",
       "      <th>0</th>\n",
       "      <td>8.0</td>\n",
       "      <td>0.273812</td>\n",
       "      <td>914828.0</td>\n",
       "      <td>914828.0</td>\n",
       "      <td>0.0</td>\n",
       "      <td>GATBMiniaPipeline</td>\n",
       "      <td>3575279.0</td>\n",
       "      <td>0.994864</td>\n",
       "      <td>27.0</td>\n",
       "      <td>0.999675</td>\n",
       "      <td>...</td>\n",
       "      <td>0.0</td>\n",
       "      <td>0.0</td>\n",
       "      <td>0.997753</td>\n",
       "      <td>0.997753</td>\n",
       "      <td>2615840527</td>\n",
       "      <td>BMock12</td>\n",
       "      <td>SRR8073716</td>\n",
       "      <td>18.0</td>\n",
       "      <td>1.000000</td>\n",
       "      <td>Metagenomic</td>\n",
       "    </tr>\n",
       "    <tr>\n",
       "      <th>1</th>\n",
       "      <td>9.0</td>\n",
       "      <td>0.252768</td>\n",
       "      <td>472675.0</td>\n",
       "      <td>472675.0</td>\n",
       "      <td>0.0</td>\n",
       "      <td>IDBA-UD</td>\n",
       "      <td>3576235.0</td>\n",
       "      <td>0.995130</td>\n",
       "      <td>30.0</td>\n",
       "      <td>0.999045</td>\n",
       "      <td>...</td>\n",
       "      <td>0.0</td>\n",
       "      <td>0.0</td>\n",
       "      <td>0.997020</td>\n",
       "      <td>0.997020</td>\n",
       "      <td>2615840527</td>\n",
       "      <td>BMock12</td>\n",
       "      <td>SRR8073716</td>\n",
       "      <td>57.0</td>\n",
       "      <td>1.000000</td>\n",
       "      <td>Metagenomic</td>\n",
       "    </tr>\n",
       "    <tr>\n",
       "      <th>2</th>\n",
       "      <td>7.0</td>\n",
       "      <td>0.288938</td>\n",
       "      <td>914947.0</td>\n",
       "      <td>914947.0</td>\n",
       "      <td>0.0</td>\n",
       "      <td>MEGAHIT</td>\n",
       "      <td>3583952.0</td>\n",
       "      <td>0.997278</td>\n",
       "      <td>26.0</td>\n",
       "      <td>0.982529</td>\n",
       "      <td>...</td>\n",
       "      <td>1.0</td>\n",
       "      <td>1.0</td>\n",
       "      <td>0.996371</td>\n",
       "      <td>0.996669</td>\n",
       "      <td>2615840527</td>\n",
       "      <td>BMock12</td>\n",
       "      <td>SRR8073716</td>\n",
       "      <td>369.0</td>\n",
       "      <td>0.999701</td>\n",
       "      <td>Metagenomic</td>\n",
       "    </tr>\n",
       "    <tr>\n",
       "      <th>3</th>\n",
       "      <td>5.0</td>\n",
       "      <td>0.344345</td>\n",
       "      <td>1059355.0</td>\n",
       "      <td>1059355.0</td>\n",
       "      <td>0.0</td>\n",
       "      <td>metaSPAdes</td>\n",
       "      <td>3584417.0</td>\n",
       "      <td>0.997407</td>\n",
       "      <td>17.0</td>\n",
       "      <td>0.998740</td>\n",
       "      <td>...</td>\n",
       "      <td>0.0</td>\n",
       "      <td>0.0</td>\n",
       "      <td>0.997281</td>\n",
       "      <td>0.997281</td>\n",
       "      <td>2615840527</td>\n",
       "      <td>BMock12</td>\n",
       "      <td>SRR8073716</td>\n",
       "      <td>272.0</td>\n",
       "      <td>1.000000</td>\n",
       "      <td>Metagenomic</td>\n",
       "    </tr>\n",
       "    <tr>\n",
       "      <th>4</th>\n",
       "      <td>19.0</td>\n",
       "      <td>0.125638</td>\n",
       "      <td>158894.0</td>\n",
       "      <td>158894.0</td>\n",
       "      <td>0.0</td>\n",
       "      <td>SKESA</td>\n",
       "      <td>3550417.0</td>\n",
       "      <td>0.987946</td>\n",
       "      <td>47.0</td>\n",
       "      <td>1.000000</td>\n",
       "      <td>...</td>\n",
       "      <td>0.0</td>\n",
       "      <td>0.0</td>\n",
       "      <td>0.998398</td>\n",
       "      <td>0.998398</td>\n",
       "      <td>2615840527</td>\n",
       "      <td>BMock12</td>\n",
       "      <td>SRR8073716</td>\n",
       "      <td>0.0</td>\n",
       "      <td>1.000000</td>\n",
       "      <td>Genomic</td>\n",
       "    </tr>\n",
       "    <tr>\n",
       "      <th>...</th>\n",
       "      <td>...</td>\n",
       "      <td>...</td>\n",
       "      <td>...</td>\n",
       "      <td>...</td>\n",
       "      <td>...</td>\n",
       "      <td>...</td>\n",
       "      <td>...</td>\n",
       "      <td>...</td>\n",
       "      <td>...</td>\n",
       "      <td>...</td>\n",
       "      <td>...</td>\n",
       "      <td>...</td>\n",
       "      <td>...</td>\n",
       "      <td>...</td>\n",
       "      <td>...</td>\n",
       "      <td>...</td>\n",
       "      <td>...</td>\n",
       "      <td>...</td>\n",
       "      <td>...</td>\n",
       "      <td>...</td>\n",
       "      <td>...</td>\n",
       "    </tr>\n",
       "    <tr>\n",
       "      <th>86</th>\n",
       "      <td>154.0</td>\n",
       "      <td>0.040115</td>\n",
       "      <td>35730.0</td>\n",
       "      <td>33862.0</td>\n",
       "      <td>0.0</td>\n",
       "      <td>MEGAHIT</td>\n",
       "      <td>4023422.0</td>\n",
       "      <td>0.970799</td>\n",
       "      <td>306.0</td>\n",
       "      <td>0.989338</td>\n",
       "      <td>...</td>\n",
       "      <td>3.0</td>\n",
       "      <td>3.0</td>\n",
       "      <td>1.001127</td>\n",
       "      <td>1.008166</td>\n",
       "      <td>2623620618</td>\n",
       "      <td>BMock12</td>\n",
       "      <td>SRR8073716</td>\n",
       "      <td>2298.0</td>\n",
       "      <td>0.993018</td>\n",
       "      <td>Metagenomic</td>\n",
       "    </tr>\n",
       "    <tr>\n",
       "      <th>87</th>\n",
       "      <td>212.0</td>\n",
       "      <td>0.023310</td>\n",
       "      <td>22076.0</td>\n",
       "      <td>22076.0</td>\n",
       "      <td>0.0</td>\n",
       "      <td>metaSPAdes</td>\n",
       "      <td>4030931.0</td>\n",
       "      <td>0.972611</td>\n",
       "      <td>370.0</td>\n",
       "      <td>0.991704</td>\n",
       "      <td>...</td>\n",
       "      <td>0.0</td>\n",
       "      <td>0.0</td>\n",
       "      <td>1.035639</td>\n",
       "      <td>1.037884</td>\n",
       "      <td>2623620618</td>\n",
       "      <td>BMock12</td>\n",
       "      <td>SRR8073716</td>\n",
       "      <td>9915.0</td>\n",
       "      <td>0.997837</td>\n",
       "      <td>Metagenomic</td>\n",
       "    </tr>\n",
       "    <tr>\n",
       "      <th>88</th>\n",
       "      <td>0.0</td>\n",
       "      <td>0.008835</td>\n",
       "      <td>6643.0</td>\n",
       "      <td>1298.0</td>\n",
       "      <td>0.0</td>\n",
       "      <td>SKESA</td>\n",
       "      <td>2241972.0</td>\n",
       "      <td>0.540959</td>\n",
       "      <td>511.0</td>\n",
       "      <td>0.999993</td>\n",
       "      <td>...</td>\n",
       "      <td>0.0</td>\n",
       "      <td>0.0</td>\n",
       "      <td>0.998582</td>\n",
       "      <td>0.998582</td>\n",
       "      <td>2623620618</td>\n",
       "      <td>BMock12</td>\n",
       "      <td>SRR8073716</td>\n",
       "      <td>18.0</td>\n",
       "      <td>1.000000</td>\n",
       "      <td>Genomic</td>\n",
       "    </tr>\n",
       "    <tr>\n",
       "      <th>89</th>\n",
       "      <td>0.0</td>\n",
       "      <td>0.012836</td>\n",
       "      <td>13464.0</td>\n",
       "      <td>10524.0</td>\n",
       "      <td>0.0</td>\n",
       "      <td>SPAdes</td>\n",
       "      <td>3697973.0</td>\n",
       "      <td>0.892273</td>\n",
       "      <td>593.0</td>\n",
       "      <td>0.998705</td>\n",
       "      <td>...</td>\n",
       "      <td>0.0</td>\n",
       "      <td>0.0</td>\n",
       "      <td>1.004710</td>\n",
       "      <td>1.004796</td>\n",
       "      <td>2623620618</td>\n",
       "      <td>BMock12</td>\n",
       "      <td>SRR8073716</td>\n",
       "      <td>1182.0</td>\n",
       "      <td>0.999914</td>\n",
       "      <td>Genomic</td>\n",
       "    </tr>\n",
       "    <tr>\n",
       "      <th>90</th>\n",
       "      <td>0.0</td>\n",
       "      <td>0.013912</td>\n",
       "      <td>14034.0</td>\n",
       "      <td>9466.0</td>\n",
       "      <td>0.0</td>\n",
       "      <td>Unicycler</td>\n",
       "      <td>3553948.0</td>\n",
       "      <td>0.857521</td>\n",
       "      <td>560.0</td>\n",
       "      <td>0.998971</td>\n",
       "      <td>...</td>\n",
       "      <td>0.0</td>\n",
       "      <td>0.0</td>\n",
       "      <td>0.998088</td>\n",
       "      <td>0.998092</td>\n",
       "      <td>2623620618</td>\n",
       "      <td>BMock12</td>\n",
       "      <td>SRR8073716</td>\n",
       "      <td>762.0</td>\n",
       "      <td>0.999997</td>\n",
       "      <td>Genomic</td>\n",
       "    </tr>\n",
       "  </tbody>\n",
       "</table>\n",
       "<p>91 rows × 21 columns</p>\n",
       "</div>"
      ],
      "text/plain": [
       "      L90       LSA       NA50       NG50   Ns          assembler  basepairs  \\\n",
       "0     8.0  0.273812   914828.0   914828.0  0.0  GATBMiniaPipeline  3575279.0   \n",
       "1     9.0  0.252768   472675.0   472675.0  0.0            IDBA-UD  3576235.0   \n",
       "2     7.0  0.288938   914947.0   914947.0  0.0            MEGAHIT  3583952.0   \n",
       "3     5.0  0.344345  1059355.0  1059355.0  0.0         metaSPAdes  3584417.0   \n",
       "4    19.0  0.125638   158894.0   158894.0  0.0              SKESA  3550417.0   \n",
       "..    ...       ...        ...        ...  ...                ...        ...   \n",
       "86  154.0  0.040115    35730.0    33862.0  0.0            MEGAHIT  4023422.0   \n",
       "87  212.0  0.023310    22076.0    22076.0  0.0         metaSPAdes  4030931.0   \n",
       "88    0.0  0.008835     6643.0     1298.0  0.0              SKESA  2241972.0   \n",
       "89    0.0  0.012836    13464.0    10524.0  0.0             SPAdes  3697973.0   \n",
       "90    0.0  0.013912    14034.0     9466.0  0.0          Unicycler  3553948.0   \n",
       "\n",
       "    breadth_of_coverage  contigs  identity  ...  misassembled contigs  \\\n",
       "0              0.994864     27.0  0.999675  ...                   0.0   \n",
       "1              0.995130     30.0  0.999045  ...                   0.0   \n",
       "2              0.997278     26.0  0.982529  ...                   1.0   \n",
       "3              0.997407     17.0  0.998740  ...                   0.0   \n",
       "4              0.987946     47.0  1.000000  ...                   0.0   \n",
       "..                  ...      ...       ...  ...                   ...   \n",
       "86             0.970799    306.0  0.989338  ...                   3.0   \n",
       "87             0.972611    370.0  0.991704  ...                   0.0   \n",
       "88             0.540959    511.0  0.999993  ...                   0.0   \n",
       "89             0.892273    593.0  0.998705  ...                   0.0   \n",
       "90             0.857521    560.0  0.998971  ...                   0.0   \n",
       "\n",
       "    misassembly events  multiplicity  parsimony   reference      run  \\\n",
       "0                  0.0      0.997753   0.997753  2615840527  BMock12   \n",
       "1                  0.0      0.997020   0.997020  2615840527  BMock12   \n",
       "2                  1.0      0.996371   0.996669  2615840527  BMock12   \n",
       "3                  0.0      0.997281   0.997281  2615840527  BMock12   \n",
       "4                  0.0      0.998398   0.998398  2615840527  BMock12   \n",
       "..                 ...           ...        ...         ...      ...   \n",
       "86                 3.0      1.001127   1.008166  2623620618  BMock12   \n",
       "87                 0.0      1.035639   1.037884  2623620618  BMock12   \n",
       "88                 0.0      0.998582   0.998582  2623620618  BMock12   \n",
       "89                 0.0      1.004710   1.004796  2623620618  BMock12   \n",
       "90                 0.0      0.998088   0.998092  2623620618  BMock12   \n",
       "\n",
       "        sample    snps  validity         type  \n",
       "0   SRR8073716    18.0  1.000000  Metagenomic  \n",
       "1   SRR8073716    57.0  1.000000  Metagenomic  \n",
       "2   SRR8073716   369.0  0.999701  Metagenomic  \n",
       "3   SRR8073716   272.0  1.000000  Metagenomic  \n",
       "4   SRR8073716     0.0  1.000000      Genomic  \n",
       "..         ...     ...       ...          ...  \n",
       "86  SRR8073716  2298.0  0.993018  Metagenomic  \n",
       "87  SRR8073716  9915.0  0.997837  Metagenomic  \n",
       "88  SRR8073716    18.0  1.000000      Genomic  \n",
       "89  SRR8073716  1182.0  0.999914      Genomic  \n",
       "90  SRR8073716   762.0  0.999997      Genomic  \n",
       "\n",
       "[91 rows x 21 columns]"
      ]
     },
     "metadata": {},
     "output_type": "display_data"
    }
   ],
   "source": [
    "report_glob = glob.glob('../Results/BMock12/report/pipeline_report_tables.json')\n",
    "reference_pipeline_metrics_df = pd.DataFrame()\n",
    "\n",
    "for pipeline_report_file in report_glob:\n",
    "    report_file_name = pipeline_report_file.split('/')[-1]\n",
    "    stats_run = pipeline_report_file.split('/')[-3]\n",
    "    print('Processing {0} data from {1}...'.format(report_file_name, stats_run))\n",
    "    \n",
    "    with open(pipeline_report_file) as _fh:\n",
    "        json_report = json.load(_fh)\n",
    "        for sample in json_report.keys():\n",
    "            for reference, data in json_report[sample]['ReferenceTables'].items():\n",
    "                for row in data:\n",
    "                    for item in row:\n",
    "                        reference_pipeline_metrics_df = reference_pipeline_metrics_df.append({'run': stats_run,\n",
    "                                                                                        'sample': sample,\n",
    "                                                                                        'assembler': item['assembler'],\n",
    "                                                                                        'reference': reference,\n",
    "                                                                                        'LSA': item['contiguity'],\n",
    "                                                                                        'breadth_of_coverage': item['breadth_of_coverage'],\n",
    "                                                                                        'multiplicity': item['multiplicity'],\n",
    "                                                                                        'validity': item['validity'],\n",
    "                                                                                        'parsimony': item['parsimony'],\n",
    "                                                                                        'identity': item['identity'],\n",
    "                                                                                        'lowest_identity': item['lowest_identity'],\n",
    "                                                                                        'L90': item['L90'],\n",
    "                                                                                        'contigs': item['aligned_contigs'],\n",
    "                                                                                        'NA50': item['NA50'],\n",
    "                                                                                        'NG50': item['NG50'],\n",
    "                                                                                        'basepairs': item['aligned_basepairs'],\n",
    "                                                                                        'Ns': item['Ns'],\n",
    "                                                                                        'misassembled contigs': item['misassembled_contigs'],\n",
    "                                                                                        'misassembly events': item['misassembly_events'],\n",
    "                                                                                        'snps': item['snps']},\n",
    "                                                                                       ignore_index=True)\n",
    "\n",
    "reference_pipeline_metrics_df['type'] = np.where(reference_pipeline_metrics_df['assembler'].isin(genomic_assemblers), 'Genomic', 'Metagenomic')\n",
    "reference_pipeline_metrics_df[['contigs','basepairs','L90','Ns','NA50','NG50','misassembled contigs', 'misassembly events', 'multiplicity','validity','parsimony','identity','lowest_identity']] = reference_pipeline_metrics_df[['contigs','basepairs','L90','Ns','NA50','NG50','misassembled contigs', 'misassembly events','multiplicity','validity','parsimony','identity','lowest_identity']].apply(pd.to_numeric)\n",
    "display(reference_pipeline_metrics_df)"
   ]
  },
  {
   "cell_type": "code",
   "execution_count": 43,
   "id": "641088d0",
   "metadata": {},
   "outputs": [],
   "source": [
    "reference_pipeline_metrics_df.to_csv(\"Tables/BMock12/Reference metrics.csv\")"
   ]
  },
  {
   "cell_type": "code",
   "execution_count": 54,
   "id": "33a9190b",
   "metadata": {},
   "outputs": [
    {
     "data": {
      "text/html": [
       "<div>\n",
       "<style scoped>\n",
       "    .dataframe tbody tr th:only-of-type {\n",
       "        vertical-align: middle;\n",
       "    }\n",
       "\n",
       "    .dataframe tbody tr th {\n",
       "        vertical-align: top;\n",
       "    }\n",
       "\n",
       "    .dataframe thead th {\n",
       "        text-align: right;\n",
       "    }\n",
       "</style>\n",
       "<table border=\"1\" class=\"dataframe\">\n",
       "  <thead>\n",
       "    <tr style=\"text-align: right;\">\n",
       "      <th></th>\n",
       "      <th>L90</th>\n",
       "      <th>LSA</th>\n",
       "      <th>NA50</th>\n",
       "      <th>NG50</th>\n",
       "      <th>Ns</th>\n",
       "      <th>basepairs</th>\n",
       "      <th>breadth_of_coverage</th>\n",
       "      <th>contigs</th>\n",
       "      <th>identity</th>\n",
       "      <th>lowest_identity</th>\n",
       "      <th>misassembled contigs</th>\n",
       "      <th>misassembly events</th>\n",
       "      <th>multiplicity</th>\n",
       "      <th>parsimony</th>\n",
       "      <th>snps</th>\n",
       "      <th>validity</th>\n",
       "    </tr>\n",
       "  </thead>\n",
       "  <tbody>\n",
       "    <tr>\n",
       "      <th>count</th>\n",
       "      <td>52.000000</td>\n",
       "      <td>52.000000</td>\n",
       "      <td>5.200000e+01</td>\n",
       "      <td>5.200000e+01</td>\n",
       "      <td>52.0</td>\n",
       "      <td>5.200000e+01</td>\n",
       "      <td>52.000000</td>\n",
       "      <td>52.000000</td>\n",
       "      <td>52.000000</td>\n",
       "      <td>52.000000</td>\n",
       "      <td>52.000000</td>\n",
       "      <td>52.000000</td>\n",
       "      <td>52.000000</td>\n",
       "      <td>52.000000</td>\n",
       "      <td>52.000000</td>\n",
       "      <td>52.000000</td>\n",
       "    </tr>\n",
       "    <tr>\n",
       "      <th>mean</th>\n",
       "      <td>89.846154</td>\n",
       "      <td>0.075765</td>\n",
       "      <td>1.570732e+05</td>\n",
       "      <td>1.553890e+05</td>\n",
       "      <td>0.0</td>\n",
       "      <td>3.907009e+06</td>\n",
       "      <td>0.890501</td>\n",
       "      <td>221.673077</td>\n",
       "      <td>0.979834</td>\n",
       "      <td>0.716057</td>\n",
       "      <td>1.788462</td>\n",
       "      <td>2.692308</td>\n",
       "      <td>0.953243</td>\n",
       "      <td>0.960790</td>\n",
       "      <td>7686.000000</td>\n",
       "      <td>0.992894</td>\n",
       "    </tr>\n",
       "    <tr>\n",
       "      <th>std</th>\n",
       "      <td>186.079509</td>\n",
       "      <td>0.077557</td>\n",
       "      <td>2.334567e+05</td>\n",
       "      <td>2.338411e+05</td>\n",
       "      <td>0.0</td>\n",
       "      <td>1.848434e+06</td>\n",
       "      <td>0.263008</td>\n",
       "      <td>294.400735</td>\n",
       "      <td>0.040644</td>\n",
       "      <td>0.311264</td>\n",
       "      <td>3.582838</td>\n",
       "      <td>5.300901</td>\n",
       "      <td>0.160178</td>\n",
       "      <td>0.163806</td>\n",
       "      <td>15624.744925</td>\n",
       "      <td>0.021537</td>\n",
       "    </tr>\n",
       "    <tr>\n",
       "      <th>min</th>\n",
       "      <td>0.000000</td>\n",
       "      <td>0.000248</td>\n",
       "      <td>1.138000e+03</td>\n",
       "      <td>0.000000e+00</td>\n",
       "      <td>0.0</td>\n",
       "      <td>9.453000e+03</td>\n",
       "      <td>0.001396</td>\n",
       "      <td>2.000000</td>\n",
       "      <td>0.822403</td>\n",
       "      <td>0.008278</td>\n",
       "      <td>0.000000</td>\n",
       "      <td>0.000000</td>\n",
       "      <td>0.342315</td>\n",
       "      <td>0.342315</td>\n",
       "      <td>0.000000</td>\n",
       "      <td>0.891972</td>\n",
       "    </tr>\n",
       "    <tr>\n",
       "      <th>25%</th>\n",
       "      <td>8.750000</td>\n",
       "      <td>0.023181</td>\n",
       "      <td>2.220125e+04</td>\n",
       "      <td>2.197075e+04</td>\n",
       "      <td>0.0</td>\n",
       "      <td>3.339794e+06</td>\n",
       "      <td>0.954920</td>\n",
       "      <td>29.500000</td>\n",
       "      <td>0.985606</td>\n",
       "      <td>0.606929</td>\n",
       "      <td>0.000000</td>\n",
       "      <td>0.000000</td>\n",
       "      <td>0.990717</td>\n",
       "      <td>0.990717</td>\n",
       "      <td>304.250000</td>\n",
       "      <td>0.997651</td>\n",
       "    </tr>\n",
       "    <tr>\n",
       "      <th>50%</th>\n",
       "      <td>36.000000</td>\n",
       "      <td>0.051088</td>\n",
       "      <td>8.761100e+04</td>\n",
       "      <td>8.357850e+04</td>\n",
       "      <td>0.0</td>\n",
       "      <td>4.027176e+06</td>\n",
       "      <td>0.975568</td>\n",
       "      <td>128.000000</td>\n",
       "      <td>0.992700</td>\n",
       "      <td>0.835786</td>\n",
       "      <td>0.000000</td>\n",
       "      <td>0.000000</td>\n",
       "      <td>0.997002</td>\n",
       "      <td>0.997634</td>\n",
       "      <td>820.500000</td>\n",
       "      <td>0.999824</td>\n",
       "    </tr>\n",
       "    <tr>\n",
       "      <th>75%</th>\n",
       "      <td>69.750000</td>\n",
       "      <td>0.107893</td>\n",
       "      <td>1.231582e+05</td>\n",
       "      <td>1.262235e+05</td>\n",
       "      <td>0.0</td>\n",
       "      <td>4.493090e+06</td>\n",
       "      <td>0.989519</td>\n",
       "      <td>208.000000</td>\n",
       "      <td>0.998798</td>\n",
       "      <td>0.957370</td>\n",
       "      <td>1.250000</td>\n",
       "      <td>2.250000</td>\n",
       "      <td>1.000370</td>\n",
       "      <td>1.006252</td>\n",
       "      <td>5612.250000</td>\n",
       "      <td>1.000000</td>\n",
       "    </tr>\n",
       "    <tr>\n",
       "      <th>max</th>\n",
       "      <td>1044.000000</td>\n",
       "      <td>0.344345</td>\n",
       "      <td>1.059355e+06</td>\n",
       "      <td>1.059355e+06</td>\n",
       "      <td>0.0</td>\n",
       "      <td>7.136418e+06</td>\n",
       "      <td>0.999828</td>\n",
       "      <td>1186.000000</td>\n",
       "      <td>0.999982</td>\n",
       "      <td>0.999519</td>\n",
       "      <td>14.000000</td>\n",
       "      <td>22.000000</td>\n",
       "      <td>1.035639</td>\n",
       "      <td>1.115585</td>\n",
       "      <td>70196.000000</td>\n",
       "      <td>1.000000</td>\n",
       "    </tr>\n",
       "  </tbody>\n",
       "</table>\n",
       "</div>"
      ],
      "text/plain": [
       "               L90        LSA          NA50          NG50    Ns     basepairs  \\\n",
       "count    52.000000  52.000000  5.200000e+01  5.200000e+01  52.0  5.200000e+01   \n",
       "mean     89.846154   0.075765  1.570732e+05  1.553890e+05   0.0  3.907009e+06   \n",
       "std     186.079509   0.077557  2.334567e+05  2.338411e+05   0.0  1.848434e+06   \n",
       "min       0.000000   0.000248  1.138000e+03  0.000000e+00   0.0  9.453000e+03   \n",
       "25%       8.750000   0.023181  2.220125e+04  2.197075e+04   0.0  3.339794e+06   \n",
       "50%      36.000000   0.051088  8.761100e+04  8.357850e+04   0.0  4.027176e+06   \n",
       "75%      69.750000   0.107893  1.231582e+05  1.262235e+05   0.0  4.493090e+06   \n",
       "max    1044.000000   0.344345  1.059355e+06  1.059355e+06   0.0  7.136418e+06   \n",
       "\n",
       "       breadth_of_coverage      contigs   identity  lowest_identity  \\\n",
       "count            52.000000    52.000000  52.000000        52.000000   \n",
       "mean              0.890501   221.673077   0.979834         0.716057   \n",
       "std               0.263008   294.400735   0.040644         0.311264   \n",
       "min               0.001396     2.000000   0.822403         0.008278   \n",
       "25%               0.954920    29.500000   0.985606         0.606929   \n",
       "50%               0.975568   128.000000   0.992700         0.835786   \n",
       "75%               0.989519   208.000000   0.998798         0.957370   \n",
       "max               0.999828  1186.000000   0.999982         0.999519   \n",
       "\n",
       "       misassembled contigs  misassembly events  multiplicity  parsimony  \\\n",
       "count             52.000000           52.000000     52.000000  52.000000   \n",
       "mean               1.788462            2.692308      0.953243   0.960790   \n",
       "std                3.582838            5.300901      0.160178   0.163806   \n",
       "min                0.000000            0.000000      0.342315   0.342315   \n",
       "25%                0.000000            0.000000      0.990717   0.990717   \n",
       "50%                0.000000            0.000000      0.997002   0.997634   \n",
       "75%                1.250000            2.250000      1.000370   1.006252   \n",
       "max               14.000000           22.000000      1.035639   1.115585   \n",
       "\n",
       "               snps   validity  \n",
       "count     52.000000  52.000000  \n",
       "mean    7686.000000   0.992894  \n",
       "std    15624.744925   0.021537  \n",
       "min        0.000000   0.891972  \n",
       "25%      304.250000   0.997651  \n",
       "50%      820.500000   0.999824  \n",
       "75%     5612.250000   1.000000  \n",
       "max    70196.000000   1.000000  "
      ]
     },
     "execution_count": 54,
     "metadata": {},
     "output_type": "execute_result"
    }
   ],
   "source": [
    "reference_pipeline_metrics_df[reference_pipeline_metrics_df.type==\"Metagenomic\"].describe()"
   ]
  },
  {
   "cell_type": "code",
   "execution_count": null,
   "id": "24e0632d",
   "metadata": {},
   "outputs": [],
   "source": []
  }
 ],
 "metadata": {
  "kernelspec": {
   "display_name": "Python 3",
   "language": "python",
   "name": "python3"
  },
  "language_info": {
   "codemirror_mode": {
    "name": "ipython",
    "version": 3
   },
   "file_extension": ".py",
   "mimetype": "text/x-python",
   "name": "python",
   "nbconvert_exporter": "python",
   "pygments_lexer": "ipython3",
   "version": "3.8.8"
  }
 },
 "nbformat": 4,
 "nbformat_minor": 5
}
