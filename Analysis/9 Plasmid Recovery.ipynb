{
 "cells": [
  {
   "cell_type": "markdown",
   "id": "4faed4e9",
   "metadata": {},
   "source": [
    "# 9 Plasmid Recovery"
   ]
  },
  {
   "cell_type": "markdown",
   "id": "77c2d95a",
   "metadata": {},
   "source": [
    "## Imports"
   ]
  },
  {
   "cell_type": "code",
   "execution_count": 1,
   "id": "8fee8c33",
   "metadata": {},
   "outputs": [],
   "source": [
    "import sys\n",
    "from plotly.offline import plot\n",
    "import glob\n",
    "import fnmatch\n",
    "import plotly.graph_objects as go\n",
    "from plotly.subplots import make_subplots\n",
    "import json\n",
    "import pandas as pd\n",
    "from itertools import groupby\n",
    "import csv\n",
    "import numpy as np"
   ]
  },
  {
   "cell_type": "markdown",
   "id": "c892a81b",
   "metadata": {},
   "source": [
    "## Global Variables"
   ]
  },
  {
   "cell_type": "code",
   "execution_count": 4,
   "id": "bd2d5f94",
   "metadata": {},
   "outputs": [],
   "source": [
    "ASSEMBLER_PROCESS_LIST = [\"ABYSS\", \"BCALM2\", \"GATBMINIAPIPELINE\", \"METAHIPMER2\", \"MINIA\", \"MEGAHIT\", \"METASPADES\", \"UNICYCLER\", \"SPADES\",\n",
    "                          \"SKESA\", \"VELVETOPTIMIZER\", \"IDBA\"]\n",
    "PROCESS_TO_NAME = {\"ABYSS\": \"AbYSS\",\n",
    "                   \"BCALM2\": \"BCALM2\", \n",
    "                   \"GATBMINIAPIPELINE\": \"GATBMiniaPipeline\",\n",
    "                   \"METAHIPMER2\": \"MetaHipMer2\",\n",
    "                   \"MINIA\": \"MINIA\",\n",
    "                   \"MEGAHIT\": \"MEGAHIT\", \n",
    "                   \"METASPADES\": \"metaSPAdes\", \n",
    "                   \"UNICYCLER\": \"Unicycler\", \n",
    "                   \"SPADES\": \"SPAdes\",\n",
    "                    \"SKESA\": \"SKESA\",\n",
    "                   \"VELVETOPTIMIZER\": \"VelvetOptimizer\",\n",
    "                   \"IDBA\": \"IDBA-UD\"}\n",
    "\n",
    "log_distributed = ['LHS', 'LNN', 'ERR2935805']\n",
    "even_distribution = ['EMS', 'LNN', 'ERR2984773']\n",
    "\n",
    "genomic_assemblers = ['ABySS', 'BCALM2', 'MINIA', 'SKESA', 'SPAdes', 'Unicycler', 'VelvetOptimizer']\n",
    "metagenomic_assemblers = ['MetaHipMer2','GATBMiniaPipeline', 'IDBA-UD', 'MEGAHIT', 'metaSPAdes']\n",
    "single_kmer = ['BCALM2', 'MINIA', 'ABySS']\n",
    "multiple_kmer = ['SKESA', 'SPAdes', 'Unicycler', 'VelvetOptimizer', 'GATBMiniaPipeline', \n",
    "                 'IDBA-UD', 'MEGAHIT', 'metaSPAdes', 'MetaHipMer2']\n",
    "\n",
    "skipped_assemblers = ['ABySS', 'BCALM2', 'MINIA', 'VelvetOptimiser', 'MetaHipMer2']\n",
    "\n",
    "REFERENCE_TO_NAME = {\"Bacillus_subtilis\":\"<i>Bacillus subtilis</i>\",\n",
    "                    \"Enterococcus_faecalis\":\"<i>Enterococcus faecalis</i>\",\n",
    "                    \"Escherichia_coli\":\"<i>Escherichia coli</i>\",\n",
    "                    \"Escherichia_coli_plasmid\": \"<i>Escherichia coli</i> pasmid\",\n",
    "                    \"Lactobacillus_fermentum\": \"<i>Lactobacillus fermentum</i>\",\n",
    "                    \"Listeria_monocytogenes\": \"<i>Listeria monocytogenes</i>\",\n",
    "                    \"Pseudomonas_aeruginosa\": \"<i>Pseudomonas aeruginosa</i>\",\n",
    "                    \"Salmonella_enterica\": \"<i>Salmonella enterica</i>\",\n",
    "                    \"Staphylococcus_aureus\": \"<i>Staphylococcus aureus</i>\",\n",
    "                    \"Staphylococcus_aureus_plasmid1\": \"<i>Staphylococcus aureus</i> plasmid 1\",\n",
    "                    \"Staphylococcus_aureus_plasmid2\": \"<i>Staphylococcus aureus</i> plasmid 2\",\n",
    "                    \"Staphylococcus_aureus_plasmid3\": \"<i>Staphylococcus aureus</i> pasmid 3\"}\n",
    "\n",
    "plasmid_reference = [\"<i>Escherichia coli</i> pasmid\",\n",
    "                     \"<i>Staphylococcus aureus</i> plasmid 1\",\n",
    "                    \"<i>Staphylococcus aureus</i> plasmid 2\",\n",
    "                    \"<i>Staphylococcus aureus</i> pasmid 3\"]\n",
    "\n",
    "best_min = ['Ns','misassembled contigs','misassembly events']\n",
    "best_min_exept_0 = ['contigs', 'L90'] \n",
    "best_max = ['LSA', 'NA50','NG50','breadth_of_coverage','identity','lowest_identity']\n",
    "\n",
    "target_compass = {'multiplicity': 1,'parsimony':1, 'validity':1}\n",
    "    \n",
    "target_dict = {\n",
    "    'Bacillus_subtilis': 4045677,\n",
    "    'Enterococcus_faecalis': 2845392,\n",
    "    'Escherichia_coli': 4765434,\n",
    "    'Escherichia_coli_plasmid': 110007,\n",
    "    'Lactobacillus_fermentum': 1905333,\n",
    "    'Listeria_monocytogenes': 2992342,\n",
    "    'Pseudomonas_aeruginosa': 6792330,\n",
    "    'Salmonella_enterica': 4759746,\n",
    "    'Staphylococcus_aureus': 2718780,\n",
    "    'Staphylococcus_aureus_plasmid1': 6337,\n",
    "    'Staphylococcus_aureus_plasmid2': 2216,\n",
    "    'Staphylococcus_aureus_plasmid3': 2993\n",
    "}\n",
    "\n",
    "COLOURS = ['#5876c8', '#58AEC8', '#39B185', '#9CCB86', '#EEB479', '#E88471', '#a54765', '#a42a2a', '#835221']"
   ]
  },
  {
   "cell_type": "markdown",
   "id": "c4fce428",
   "metadata": {},
   "source": [
    "## Load data"
   ]
  },
  {
   "cell_type": "code",
   "execution_count": 5,
   "id": "94a7e312",
   "metadata": {},
   "outputs": [
    {
     "name": "stdout",
     "output_type": "stream",
     "text": [
      "Processing pipeline_report_tables.json data from run3...\n",
      "Processing pipeline_report_tables.json data from run2...\n",
      "Processing pipeline_report_tables.json data from run1...\n",
      "Processing pipeline_report_tables.json data from run3...\n",
      "Processing pipeline_report_tables.json data from run2...\n"
     ]
    },
    {
     "data": {
      "text/html": [
       "<div>\n",
       "<style scoped>\n",
       "    .dataframe tbody tr th:only-of-type {\n",
       "        vertical-align: middle;\n",
       "    }\n",
       "\n",
       "    .dataframe tbody tr th {\n",
       "        vertical-align: top;\n",
       "    }\n",
       "\n",
       "    .dataframe thead th {\n",
       "        text-align: right;\n",
       "    }\n",
       "</style>\n",
       "<table border=\"1\" class=\"dataframe\">\n",
       "  <thead>\n",
       "    <tr style=\"text-align: right;\">\n",
       "      <th></th>\n",
       "      <th>L90</th>\n",
       "      <th>LSA</th>\n",
       "      <th>NA50</th>\n",
       "      <th>NG50</th>\n",
       "      <th>Ns</th>\n",
       "      <th>assembler</th>\n",
       "      <th>basepairs</th>\n",
       "      <th>breadth_of_coverage</th>\n",
       "      <th>contigs</th>\n",
       "      <th>identity</th>\n",
       "      <th>...</th>\n",
       "      <th>multiplicity</th>\n",
       "      <th>parsimony</th>\n",
       "      <th>reference</th>\n",
       "      <th>run</th>\n",
       "      <th>sample</th>\n",
       "      <th>validity</th>\n",
       "      <th>distribution</th>\n",
       "      <th>type</th>\n",
       "      <th>genome</th>\n",
       "      <th>algorythm</th>\n",
       "    </tr>\n",
       "  </thead>\n",
       "  <tbody>\n",
       "    <tr>\n",
       "      <th>864</th>\n",
       "      <td>13.0</td>\n",
       "      <td>0.106260</td>\n",
       "      <td>295233.0</td>\n",
       "      <td>295233.0</td>\n",
       "      <td>0.0</td>\n",
       "      <td>ABySS</td>\n",
       "      <td>3989374.0</td>\n",
       "      <td>0.986083</td>\n",
       "      <td>22.0</td>\n",
       "      <td>0.999910</td>\n",
       "      <td>...</td>\n",
       "      <td>1.000305</td>\n",
       "      <td>1.000305</td>\n",
       "      <td>&lt;i&gt;Bacillus subtilis&lt;/i&gt;</td>\n",
       "      <td>run1</td>\n",
       "      <td>EMS</td>\n",
       "      <td>1.000000</td>\n",
       "      <td>Even</td>\n",
       "      <td>Genomic</td>\n",
       "      <td>Genome</td>\n",
       "      <td>Single k-mer De Bruijn graph</td>\n",
       "    </tr>\n",
       "    <tr>\n",
       "      <th>865</th>\n",
       "      <td>0.0</td>\n",
       "      <td>0.002419</td>\n",
       "      <td>2062.0</td>\n",
       "      <td>1589.0</td>\n",
       "      <td>0.0</td>\n",
       "      <td>BCALM2</td>\n",
       "      <td>2844464.0</td>\n",
       "      <td>0.703087</td>\n",
       "      <td>1467.0</td>\n",
       "      <td>1.000000</td>\n",
       "      <td>...</td>\n",
       "      <td>1.004273</td>\n",
       "      <td>1.004273</td>\n",
       "      <td>&lt;i&gt;Bacillus subtilis&lt;/i&gt;</td>\n",
       "      <td>run1</td>\n",
       "      <td>EMS</td>\n",
       "      <td>1.000000</td>\n",
       "      <td>Even</td>\n",
       "      <td>Genomic</td>\n",
       "      <td>Genome</td>\n",
       "      <td>Single k-mer De Bruijn graph</td>\n",
       "    </tr>\n",
       "    <tr>\n",
       "      <th>866</th>\n",
       "      <td>13.0</td>\n",
       "      <td>0.189977</td>\n",
       "      <td>263445.0</td>\n",
       "      <td>263445.0</td>\n",
       "      <td>0.0</td>\n",
       "      <td>GATBMiniaPipeline</td>\n",
       "      <td>3984103.0</td>\n",
       "      <td>0.984780</td>\n",
       "      <td>27.0</td>\n",
       "      <td>0.999864</td>\n",
       "      <td>...</td>\n",
       "      <td>1.000073</td>\n",
       "      <td>1.000094</td>\n",
       "      <td>&lt;i&gt;Bacillus subtilis&lt;/i&gt;</td>\n",
       "      <td>run1</td>\n",
       "      <td>EMS</td>\n",
       "      <td>0.999979</td>\n",
       "      <td>Even</td>\n",
       "      <td>Metagenomic</td>\n",
       "      <td>Genome</td>\n",
       "      <td>Multiple k-mer De Bruijn graph</td>\n",
       "    </tr>\n",
       "    <tr>\n",
       "      <th>867</th>\n",
       "      <td>18.0</td>\n",
       "      <td>0.084760</td>\n",
       "      <td>212969.0</td>\n",
       "      <td>212969.0</td>\n",
       "      <td>0.0</td>\n",
       "      <td>IDBA-UD</td>\n",
       "      <td>3977845.0</td>\n",
       "      <td>0.983233</td>\n",
       "      <td>34.0</td>\n",
       "      <td>0.997696</td>\n",
       "      <td>...</td>\n",
       "      <td>1.000061</td>\n",
       "      <td>1.000084</td>\n",
       "      <td>&lt;i&gt;Bacillus subtilis&lt;/i&gt;</td>\n",
       "      <td>run1</td>\n",
       "      <td>EMS</td>\n",
       "      <td>0.999977</td>\n",
       "      <td>Even</td>\n",
       "      <td>Metagenomic</td>\n",
       "      <td>Genome</td>\n",
       "      <td>Multiple k-mer De Bruijn graph</td>\n",
       "    </tr>\n",
       "    <tr>\n",
       "      <th>868</th>\n",
       "      <td>13.0</td>\n",
       "      <td>0.189990</td>\n",
       "      <td>263586.0</td>\n",
       "      <td>263586.0</td>\n",
       "      <td>0.0</td>\n",
       "      <td>MEGAHIT</td>\n",
       "      <td>3986471.0</td>\n",
       "      <td>0.985366</td>\n",
       "      <td>27.0</td>\n",
       "      <td>0.999421</td>\n",
       "      <td>...</td>\n",
       "      <td>0.999952</td>\n",
       "      <td>1.000269</td>\n",
       "      <td>&lt;i&gt;Bacillus subtilis&lt;/i&gt;</td>\n",
       "      <td>run1</td>\n",
       "      <td>EMS</td>\n",
       "      <td>0.999683</td>\n",
       "      <td>Even</td>\n",
       "      <td>Metagenomic</td>\n",
       "      <td>Genome</td>\n",
       "      <td>Multiple k-mer De Bruijn graph</td>\n",
       "    </tr>\n",
       "    <tr>\n",
       "      <th>...</th>\n",
       "      <td>...</td>\n",
       "      <td>...</td>\n",
       "      <td>...</td>\n",
       "      <td>...</td>\n",
       "      <td>...</td>\n",
       "      <td>...</td>\n",
       "      <td>...</td>\n",
       "      <td>...</td>\n",
       "      <td>...</td>\n",
       "      <td>...</td>\n",
       "      <td>...</td>\n",
       "      <td>...</td>\n",
       "      <td>...</td>\n",
       "      <td>...</td>\n",
       "      <td>...</td>\n",
       "      <td>...</td>\n",
       "      <td>...</td>\n",
       "      <td>...</td>\n",
       "      <td>...</td>\n",
       "      <td>...</td>\n",
       "      <td>...</td>\n",
       "    </tr>\n",
       "    <tr>\n",
       "      <th>2587</th>\n",
       "      <td>0.0</td>\n",
       "      <td>0.000000</td>\n",
       "      <td>0.0</td>\n",
       "      <td>0.0</td>\n",
       "      <td>0.0</td>\n",
       "      <td>MINIA</td>\n",
       "      <td>0.0</td>\n",
       "      <td>0.000000</td>\n",
       "      <td>0.0</td>\n",
       "      <td>0.000000</td>\n",
       "      <td>...</td>\n",
       "      <td>0.000000</td>\n",
       "      <td>0.000000</td>\n",
       "      <td>&lt;i&gt;Staphylococcus aureus&lt;/i&gt; pasmid 3</td>\n",
       "      <td>run2</td>\n",
       "      <td>EMS</td>\n",
       "      <td>0.000000</td>\n",
       "      <td>Even</td>\n",
       "      <td>Genomic</td>\n",
       "      <td>Plasmid</td>\n",
       "      <td>Single k-mer De Bruijn graph</td>\n",
       "    </tr>\n",
       "    <tr>\n",
       "      <th>2588</th>\n",
       "      <td>0.0</td>\n",
       "      <td>0.908119</td>\n",
       "      <td>2718.0</td>\n",
       "      <td>2718.0</td>\n",
       "      <td>0.0</td>\n",
       "      <td>SKESA</td>\n",
       "      <td>2718.0</td>\n",
       "      <td>0.908119</td>\n",
       "      <td>1.0</td>\n",
       "      <td>1.000000</td>\n",
       "      <td>...</td>\n",
       "      <td>1.000000</td>\n",
       "      <td>1.000000</td>\n",
       "      <td>&lt;i&gt;Staphylococcus aureus&lt;/i&gt; pasmid 3</td>\n",
       "      <td>run2</td>\n",
       "      <td>EMS</td>\n",
       "      <td>1.000000</td>\n",
       "      <td>Even</td>\n",
       "      <td>Genomic</td>\n",
       "      <td>Plasmid</td>\n",
       "      <td>Multiple k-mer De Bruijn graph</td>\n",
       "    </tr>\n",
       "    <tr>\n",
       "      <th>2589</th>\n",
       "      <td>0.0</td>\n",
       "      <td>0.999666</td>\n",
       "      <td>2992.0</td>\n",
       "      <td>2992.0</td>\n",
       "      <td>0.0</td>\n",
       "      <td>SPAdes</td>\n",
       "      <td>2992.0</td>\n",
       "      <td>0.999666</td>\n",
       "      <td>1.0</td>\n",
       "      <td>1.000000</td>\n",
       "      <td>...</td>\n",
       "      <td>1.000000</td>\n",
       "      <td>1.000000</td>\n",
       "      <td>&lt;i&gt;Staphylococcus aureus&lt;/i&gt; pasmid 3</td>\n",
       "      <td>run2</td>\n",
       "      <td>EMS</td>\n",
       "      <td>1.000000</td>\n",
       "      <td>Even</td>\n",
       "      <td>Genomic</td>\n",
       "      <td>Plasmid</td>\n",
       "      <td>Multiple k-mer De Bruijn graph</td>\n",
       "    </tr>\n",
       "    <tr>\n",
       "      <th>2590</th>\n",
       "      <td>0.0</td>\n",
       "      <td>0.964250</td>\n",
       "      <td>2886.0</td>\n",
       "      <td>2886.0</td>\n",
       "      <td>0.0</td>\n",
       "      <td>Unicycler</td>\n",
       "      <td>2886.0</td>\n",
       "      <td>0.964250</td>\n",
       "      <td>1.0</td>\n",
       "      <td>1.000000</td>\n",
       "      <td>...</td>\n",
       "      <td>1.000000</td>\n",
       "      <td>1.000000</td>\n",
       "      <td>&lt;i&gt;Staphylococcus aureus&lt;/i&gt; pasmid 3</td>\n",
       "      <td>run2</td>\n",
       "      <td>EMS</td>\n",
       "      <td>1.000000</td>\n",
       "      <td>Even</td>\n",
       "      <td>Genomic</td>\n",
       "      <td>Plasmid</td>\n",
       "      <td>Multiple k-mer De Bruijn graph</td>\n",
       "    </tr>\n",
       "    <tr>\n",
       "      <th>2591</th>\n",
       "      <td>0.0</td>\n",
       "      <td>0.000000</td>\n",
       "      <td>0.0</td>\n",
       "      <td>0.0</td>\n",
       "      <td>0.0</td>\n",
       "      <td>VelvetOptimiser</td>\n",
       "      <td>0.0</td>\n",
       "      <td>0.000000</td>\n",
       "      <td>0.0</td>\n",
       "      <td>0.000000</td>\n",
       "      <td>...</td>\n",
       "      <td>0.000000</td>\n",
       "      <td>0.000000</td>\n",
       "      <td>&lt;i&gt;Staphylococcus aureus&lt;/i&gt; pasmid 3</td>\n",
       "      <td>run2</td>\n",
       "      <td>EMS</td>\n",
       "      <td>0.000000</td>\n",
       "      <td>Even</td>\n",
       "      <td>Metagenomic</td>\n",
       "      <td>Plasmid</td>\n",
       "      <td>Multiple k-mer De Bruijn graph</td>\n",
       "    </tr>\n",
       "  </tbody>\n",
       "</table>\n",
       "<p>1296 rows × 23 columns</p>\n",
       "</div>"
      ],
      "text/plain": [
       "       L90       LSA      NA50      NG50   Ns          assembler  basepairs  \\\n",
       "864   13.0  0.106260  295233.0  295233.0  0.0              ABySS  3989374.0   \n",
       "865    0.0  0.002419    2062.0    1589.0  0.0             BCALM2  2844464.0   \n",
       "866   13.0  0.189977  263445.0  263445.0  0.0  GATBMiniaPipeline  3984103.0   \n",
       "867   18.0  0.084760  212969.0  212969.0  0.0            IDBA-UD  3977845.0   \n",
       "868   13.0  0.189990  263586.0  263586.0  0.0            MEGAHIT  3986471.0   \n",
       "...    ...       ...       ...       ...  ...                ...        ...   \n",
       "2587   0.0  0.000000       0.0       0.0  0.0              MINIA        0.0   \n",
       "2588   0.0  0.908119    2718.0    2718.0  0.0              SKESA     2718.0   \n",
       "2589   0.0  0.999666    2992.0    2992.0  0.0             SPAdes     2992.0   \n",
       "2590   0.0  0.964250    2886.0    2886.0  0.0          Unicycler     2886.0   \n",
       "2591   0.0  0.000000       0.0       0.0  0.0    VelvetOptimiser        0.0   \n",
       "\n",
       "      breadth_of_coverage  contigs  identity  ...  multiplicity  parsimony  \\\n",
       "864              0.986083     22.0  0.999910  ...      1.000305   1.000305   \n",
       "865              0.703087   1467.0  1.000000  ...      1.004273   1.004273   \n",
       "866              0.984780     27.0  0.999864  ...      1.000073   1.000094   \n",
       "867              0.983233     34.0  0.997696  ...      1.000061   1.000084   \n",
       "868              0.985366     27.0  0.999421  ...      0.999952   1.000269   \n",
       "...                   ...      ...       ...  ...           ...        ...   \n",
       "2587             0.000000      0.0  0.000000  ...      0.000000   0.000000   \n",
       "2588             0.908119      1.0  1.000000  ...      1.000000   1.000000   \n",
       "2589             0.999666      1.0  1.000000  ...      1.000000   1.000000   \n",
       "2590             0.964250      1.0  1.000000  ...      1.000000   1.000000   \n",
       "2591             0.000000      0.0  0.000000  ...      0.000000   0.000000   \n",
       "\n",
       "                                  reference   run  sample  validity  \\\n",
       "864                <i>Bacillus subtilis</i>  run1     EMS  1.000000   \n",
       "865                <i>Bacillus subtilis</i>  run1     EMS  1.000000   \n",
       "866                <i>Bacillus subtilis</i>  run1     EMS  0.999979   \n",
       "867                <i>Bacillus subtilis</i>  run1     EMS  0.999977   \n",
       "868                <i>Bacillus subtilis</i>  run1     EMS  0.999683   \n",
       "...                                     ...   ...     ...       ...   \n",
       "2587  <i>Staphylococcus aureus</i> pasmid 3  run2     EMS  0.000000   \n",
       "2588  <i>Staphylococcus aureus</i> pasmid 3  run2     EMS  1.000000   \n",
       "2589  <i>Staphylococcus aureus</i> pasmid 3  run2     EMS  1.000000   \n",
       "2590  <i>Staphylococcus aureus</i> pasmid 3  run2     EMS  1.000000   \n",
       "2591  <i>Staphylococcus aureus</i> pasmid 3  run2     EMS  0.000000   \n",
       "\n",
       "     distribution         type   genome                       algorythm  \n",
       "864          Even      Genomic   Genome    Single k-mer De Bruijn graph  \n",
       "865          Even      Genomic   Genome    Single k-mer De Bruijn graph  \n",
       "866          Even  Metagenomic   Genome  Multiple k-mer De Bruijn graph  \n",
       "867          Even  Metagenomic   Genome  Multiple k-mer De Bruijn graph  \n",
       "868          Even  Metagenomic   Genome  Multiple k-mer De Bruijn graph  \n",
       "...           ...          ...      ...                             ...  \n",
       "2587         Even      Genomic  Plasmid    Single k-mer De Bruijn graph  \n",
       "2588         Even      Genomic  Plasmid  Multiple k-mer De Bruijn graph  \n",
       "2589         Even      Genomic  Plasmid  Multiple k-mer De Bruijn graph  \n",
       "2590         Even      Genomic  Plasmid  Multiple k-mer De Bruijn graph  \n",
       "2591         Even  Metagenomic  Plasmid  Multiple k-mer De Bruijn graph  \n",
       "\n",
       "[1296 rows x 23 columns]"
      ]
     },
     "metadata": {},
     "output_type": "display_data"
    }
   ],
   "source": [
    "report_glob = glob.glob('../Results/*/*/report/pipeline_report_tables.json')\n",
    "reference_pipeline_metrics_df = pd.DataFrame()\n",
    "\n",
    "for pipeline_report_file in report_glob:\n",
    "    report_file_name = pipeline_report_file.split('/')[-1]\n",
    "    stats_run = pipeline_report_file.split('/')[-3]\n",
    "    print('Processing {0} data from {1}...'.format(report_file_name, stats_run))\n",
    "    \n",
    "    with open(pipeline_report_file) as _fh:\n",
    "        json_report = json.load(_fh)\n",
    "        for sample in json_report.keys():\n",
    "            for reference, data in json_report[sample]['ReferenceTables'].items():\n",
    "                for row in data:\n",
    "                    for item in row:\n",
    "                        reference_pipeline_metrics_df = reference_pipeline_metrics_df.append({'run': stats_run,\n",
    "                                                                                        'sample': sample,\n",
    "                                                                                        'assembler': item['assembler'],\n",
    "                                                                                        'reference': REFERENCE_TO_NAME[reference],\n",
    "                                                                                        'LSA': item['contiguity'],\n",
    "                                                                                        'breadth_of_coverage': item['breadth_of_coverage'],\n",
    "                                                                                        'multiplicity': item['multiplicity'],\n",
    "                                                                                        'validity': item['validity'],\n",
    "                                                                                        'parsimony': item['parsimony'],\n",
    "                                                                                        'identity': item['identity'],\n",
    "                                                                                        'lowest_identity': item['lowest_identity'],\n",
    "                                                                                        'L90': item['L90'],\n",
    "                                                                                        'contigs': item['aligned_contigs'],\n",
    "                                                                                        'NA50': item['NA50'],\n",
    "                                                                                        'NG50': item['NG50'],\n",
    "                                                                                        'basepairs': item['aligned_basepairs'],\n",
    "                                                                                        'Ns': item['Ns'],\n",
    "                                                                                        'misassembled contigs': item['misassembled_contigs'],\n",
    "                                                                                        'misassembly events': item['misassembly_events']},\n",
    "                                                                                       ignore_index=True)\n",
    "\n",
    "reference_pipeline_metrics_df['distribution'] = np.where(reference_pipeline_metrics_df['sample'].isin(log_distributed), 'Log', 'Even')\n",
    "reference_pipeline_metrics_df = reference_pipeline_metrics_df[reference_pipeline_metrics_df.distribution != 'Log']\n",
    "reference_pipeline_metrics_df['type'] = np.where(reference_pipeline_metrics_df['assembler'].isin(genomic_assemblers), 'Genomic', 'Metagenomic')\n",
    "reference_pipeline_metrics_df['genome'] = np.where(reference_pipeline_metrics_df['reference'].isin(plasmid_reference), 'Plasmid', 'Genome')\n",
    "reference_pipeline_metrics_df['algorythm'] = np.where(reference_pipeline_metrics_df['assembler'].isin(single_kmer), 'Single k-mer De Bruijn graph', 'Multiple k-mer De Bruijn graph')\n",
    "reference_pipeline_metrics_df[['contigs','basepairs','L90','Ns','NA50','NG50','misassembled contigs', 'misassembly events', 'multiplicity','validity','parsimony','identity','lowest_identity']] = reference_pipeline_metrics_df[['contigs','basepairs','L90','Ns','NA50','NG50','misassembled contigs', 'misassembly events','multiplicity','validity','parsimony','identity','lowest_identity']].apply(pd.to_numeric)\n",
    "display(reference_pipeline_metrics_df)"
   ]
  },
  {
   "cell_type": "markdown",
   "id": "cdd9ee1c",
   "metadata": {},
   "source": [
    "## Global statistics per genome type"
   ]
  },
  {
   "cell_type": "code",
   "execution_count": 7,
   "id": "20121906",
   "metadata": {},
   "outputs": [
    {
     "name": "stdout",
     "output_type": "stream",
     "text": [
      "['<i>Bacillus subtilis</i>' '<i>Enterococcus faecalis</i>'\n",
      " '<i>Escherichia coli</i>' '<i>Lactobacillus fermentum</i>'\n",
      " '<i>Listeria monocytogenes</i>' '<i>Pseudomonas aeruginosa</i>'\n",
      " '<i>Salmonella enterica</i>' '<i>Staphylococcus aureus</i>']\n",
      "['<i>Escherichia coli</i> pasmid' '<i>Staphylococcus aureus</i> plasmid 1'\n",
      " '<i>Staphylococcus aureus</i> plasmid 2'\n",
      " '<i>Staphylococcus aureus</i> pasmid 3']\n"
     ]
    }
   ],
   "source": [
    "print(reference_pipeline_metrics_df['reference'][reference_pipeline_metrics_df['genome'] == \"Genome\"].unique())\n",
    "print(reference_pipeline_metrics_df['reference'][reference_pipeline_metrics_df['genome'] == \"Plasmid\"].unique())"
   ]
  },
  {
   "cell_type": "code",
   "execution_count": 9,
   "id": "b2cce5cc",
   "metadata": {},
   "outputs": [],
   "source": [
    "for to_skip in skipped_assemblers:\n",
    "    reference_pipeline_metrics_df = reference_pipeline_metrics_df.drop(reference_pipeline_metrics_df.loc[reference_pipeline_metrics_df['assembler']==to_skip].index)"
   ]
  },
  {
   "cell_type": "code",
   "execution_count": 19,
   "id": "2b2785a0",
   "metadata": {},
   "outputs": [
    {
     "name": "stdout",
     "output_type": "stream",
     "text": [
      "EMS\n"
     ]
    },
    {
     "data": {
      "text/html": [
       "<div>\n",
       "<style scoped>\n",
       "    .dataframe tbody tr th:only-of-type {\n",
       "        vertical-align: middle;\n",
       "    }\n",
       "\n",
       "    .dataframe tbody tr th {\n",
       "        vertical-align: top;\n",
       "    }\n",
       "\n",
       "    .dataframe thead th {\n",
       "        text-align: right;\n",
       "    }\n",
       "</style>\n",
       "<table border=\"1\" class=\"dataframe\">\n",
       "  <thead>\n",
       "    <tr style=\"text-align: right;\">\n",
       "      <th></th>\n",
       "      <th>L90</th>\n",
       "      <th>LSA</th>\n",
       "      <th>NA50</th>\n",
       "      <th>NG50</th>\n",
       "      <th>Ns</th>\n",
       "      <th>basepairs</th>\n",
       "      <th>breadth_of_coverage</th>\n",
       "      <th>contigs</th>\n",
       "      <th>identity</th>\n",
       "      <th>lowest_identity</th>\n",
       "      <th>misassembled contigs</th>\n",
       "      <th>misassembly events</th>\n",
       "      <th>multiplicity</th>\n",
       "      <th>parsimony</th>\n",
       "      <th>validity</th>\n",
       "    </tr>\n",
       "    <tr>\n",
       "      <th>Genome Type</th>\n",
       "      <th></th>\n",
       "      <th></th>\n",
       "      <th></th>\n",
       "      <th></th>\n",
       "      <th></th>\n",
       "      <th></th>\n",
       "      <th></th>\n",
       "      <th></th>\n",
       "      <th></th>\n",
       "      <th></th>\n",
       "      <th></th>\n",
       "      <th></th>\n",
       "      <th></th>\n",
       "      <th></th>\n",
       "      <th></th>\n",
       "    </tr>\n",
       "  </thead>\n",
       "  <tbody>\n",
       "    <tr>\n",
       "      <th>Genome</th>\n",
       "      <td>40.88 [5.0;283.0]</td>\n",
       "      <td>0.13 [0.02;0.48]</td>\n",
       "      <td>183948.05 [19013.0;475510.0]</td>\n",
       "      <td>182738.27 [18446.0;475510.0]</td>\n",
       "      <td>0.0 [0.0;0.0]</td>\n",
       "      <td>3769457.38 [1775427.0;6731626.0]</td>\n",
       "      <td>0.98 [0.93;0.99]</td>\n",
       "      <td>78.48 [13.0;439.0]</td>\n",
       "      <td>1.0 [0.98;1.0]</td>\n",
       "      <td>0.92 [0.25;1.0]</td>\n",
       "      <td>0.7 [0.0;9.0]</td>\n",
       "      <td>1.25 [0.0;14.0]</td>\n",
       "      <td>1.0 [1.0;1.01]</td>\n",
       "      <td>1.0 [1.0;1.02]</td>\n",
       "      <td>1.0 [0.98;1.0]</td>\n",
       "    </tr>\n",
       "    <tr>\n",
       "      <th>Plasmid</th>\n",
       "      <td>0.71 [0.0;7.0]</td>\n",
       "      <td>0.76 [0.0;1.0]</td>\n",
       "      <td>7358.0 [0.0;28353.0]</td>\n",
       "      <td>7307.86 [0.0;28353.0]</td>\n",
       "      <td>0.0 [0.0;0.0]</td>\n",
       "      <td>23248.11 [0.0;107718.0]</td>\n",
       "      <td>0.9 [0.0;1.0]</td>\n",
       "      <td>2.71 [0.0;26.0]</td>\n",
       "      <td>0.96 [0.0;1.0]</td>\n",
       "      <td>0.96 [0.0;1.0]</td>\n",
       "      <td>0.0 [0.0;0.0]</td>\n",
       "      <td>0.0 [0.0;0.0]</td>\n",
       "      <td>0.97 [0.0;1.02]</td>\n",
       "      <td>0.97 [0.0;1.02]</td>\n",
       "      <td>0.96 [0.0;1.0]</td>\n",
       "    </tr>\n",
       "  </tbody>\n",
       "</table>\n",
       "</div>"
      ],
      "text/plain": [
       "                           L90               LSA  \\\n",
       "Genome Type                                        \n",
       "Genome       40.88 [5.0;283.0]  0.13 [0.02;0.48]   \n",
       "Plasmid         0.71 [0.0;7.0]    0.76 [0.0;1.0]   \n",
       "\n",
       "                                     NA50                          NG50  \\\n",
       "Genome Type                                                               \n",
       "Genome       183948.05 [19013.0;475510.0]  182738.27 [18446.0;475510.0]   \n",
       "Plasmid              7358.0 [0.0;28353.0]         7307.86 [0.0;28353.0]   \n",
       "\n",
       "                        Ns                         basepairs  \\\n",
       "Genome Type                                                    \n",
       "Genome       0.0 [0.0;0.0]  3769457.38 [1775427.0;6731626.0]   \n",
       "Plasmid      0.0 [0.0;0.0]           23248.11 [0.0;107718.0]   \n",
       "\n",
       "            breadth_of_coverage             contigs        identity  \\\n",
       "Genome Type                                                           \n",
       "Genome         0.98 [0.93;0.99]  78.48 [13.0;439.0]  1.0 [0.98;1.0]   \n",
       "Plasmid           0.9 [0.0;1.0]     2.71 [0.0;26.0]  0.96 [0.0;1.0]   \n",
       "\n",
       "             lowest_identity misassembled contigs misassembly events  \\\n",
       "Genome Type                                                            \n",
       "Genome       0.92 [0.25;1.0]        0.7 [0.0;9.0]    1.25 [0.0;14.0]   \n",
       "Plasmid       0.96 [0.0;1.0]        0.0 [0.0;0.0]      0.0 [0.0;0.0]   \n",
       "\n",
       "                multiplicity        parsimony        validity  \n",
       "Genome Type                                                    \n",
       "Genome        1.0 [1.0;1.01]   1.0 [1.0;1.02]  1.0 [0.98;1.0]  \n",
       "Plasmid      0.97 [0.0;1.02]  0.97 [0.0;1.02]  0.96 [0.0;1.0]  "
      ]
     },
     "metadata": {},
     "output_type": "display_data"
    },
    {
     "name": "stdout",
     "output_type": "stream",
     "text": [
      "ERR2984773\n"
     ]
    },
    {
     "data": {
      "text/html": [
       "<div>\n",
       "<style scoped>\n",
       "    .dataframe tbody tr th:only-of-type {\n",
       "        vertical-align: middle;\n",
       "    }\n",
       "\n",
       "    .dataframe tbody tr th {\n",
       "        vertical-align: top;\n",
       "    }\n",
       "\n",
       "    .dataframe thead th {\n",
       "        text-align: right;\n",
       "    }\n",
       "</style>\n",
       "<table border=\"1\" class=\"dataframe\">\n",
       "  <thead>\n",
       "    <tr style=\"text-align: right;\">\n",
       "      <th></th>\n",
       "      <th>L90</th>\n",
       "      <th>LSA</th>\n",
       "      <th>NA50</th>\n",
       "      <th>NG50</th>\n",
       "      <th>Ns</th>\n",
       "      <th>basepairs</th>\n",
       "      <th>breadth_of_coverage</th>\n",
       "      <th>contigs</th>\n",
       "      <th>identity</th>\n",
       "      <th>lowest_identity</th>\n",
       "      <th>misassembled contigs</th>\n",
       "      <th>misassembly events</th>\n",
       "      <th>multiplicity</th>\n",
       "      <th>parsimony</th>\n",
       "      <th>validity</th>\n",
       "    </tr>\n",
       "    <tr>\n",
       "      <th>Genome Type</th>\n",
       "      <th></th>\n",
       "      <th></th>\n",
       "      <th></th>\n",
       "      <th></th>\n",
       "      <th></th>\n",
       "      <th></th>\n",
       "      <th></th>\n",
       "      <th></th>\n",
       "      <th></th>\n",
       "      <th></th>\n",
       "      <th></th>\n",
       "      <th></th>\n",
       "      <th></th>\n",
       "      <th></th>\n",
       "      <th></th>\n",
       "    </tr>\n",
       "  </thead>\n",
       "  <tbody>\n",
       "    <tr>\n",
       "      <th>Genome</th>\n",
       "      <td>54.16 [6.0;215.0]</td>\n",
       "      <td>0.1 [0.02;0.4]</td>\n",
       "      <td>142136.04 [16131.0;542872.0]</td>\n",
       "      <td>136656.2 [15599.0;542872.0]</td>\n",
       "      <td>0.0 [0.0;0.0]</td>\n",
       "      <td>3767728.38 [1757511.0;6737986.0]</td>\n",
       "      <td>0.97 [0.92;0.99]</td>\n",
       "      <td>98.11 [17.0;358.0]</td>\n",
       "      <td>1.0 [0.98;1.0]</td>\n",
       "      <td>0.92 [0.42;1.0]</td>\n",
       "      <td>0.62 [0.0;4.0]</td>\n",
       "      <td>1.21 [0.0;8.0]</td>\n",
       "      <td>1.0 [1.0;1.04]</td>\n",
       "      <td>1.0 [1.0;1.04]</td>\n",
       "      <td>1.0 [0.99;1.0]</td>\n",
       "    </tr>\n",
       "    <tr>\n",
       "      <th>Plasmid</th>\n",
       "      <td>0.54 [0.0;4.0]</td>\n",
       "      <td>0.74 [0.0;1.29]</td>\n",
       "      <td>12248.83 [0.0;55277.0]</td>\n",
       "      <td>12175.08 [0.0;55277.0]</td>\n",
       "      <td>0.0 [0.0;0.0]</td>\n",
       "      <td>29559.5 [0.0;109516.0]</td>\n",
       "      <td>0.89 [0.0;1.0]</td>\n",
       "      <td>1.68 [0.0;7.0]</td>\n",
       "      <td>0.93 [0.0;1.0]</td>\n",
       "      <td>0.92 [0.0;1.0]</td>\n",
       "      <td>0.0 [0.0;0.0]</td>\n",
       "      <td>0.0 [0.0;0.0]</td>\n",
       "      <td>0.95 [0.0;1.29]</td>\n",
       "      <td>0.96 [0.0;1.29]</td>\n",
       "      <td>0.93 [0.0;1.0]</td>\n",
       "    </tr>\n",
       "  </tbody>\n",
       "</table>\n",
       "</div>"
      ],
      "text/plain": [
       "                           L90              LSA                          NA50  \\\n",
       "Genome Type                                                                     \n",
       "Genome       54.16 [6.0;215.0]   0.1 [0.02;0.4]  142136.04 [16131.0;542872.0]   \n",
       "Plasmid         0.54 [0.0;4.0]  0.74 [0.0;1.29]        12248.83 [0.0;55277.0]   \n",
       "\n",
       "                                    NG50             Ns  \\\n",
       "Genome Type                                               \n",
       "Genome       136656.2 [15599.0;542872.0]  0.0 [0.0;0.0]   \n",
       "Plasmid           12175.08 [0.0;55277.0]  0.0 [0.0;0.0]   \n",
       "\n",
       "                                    basepairs breadth_of_coverage  \\\n",
       "Genome Type                                                         \n",
       "Genome       3767728.38 [1757511.0;6737986.0]    0.97 [0.92;0.99]   \n",
       "Plasmid                29559.5 [0.0;109516.0]      0.89 [0.0;1.0]   \n",
       "\n",
       "                        contigs        identity  lowest_identity  \\\n",
       "Genome Type                                                        \n",
       "Genome       98.11 [17.0;358.0]  1.0 [0.98;1.0]  0.92 [0.42;1.0]   \n",
       "Plasmid          1.68 [0.0;7.0]  0.93 [0.0;1.0]   0.92 [0.0;1.0]   \n",
       "\n",
       "            misassembled contigs misassembly events     multiplicity  \\\n",
       "Genome Type                                                            \n",
       "Genome            0.62 [0.0;4.0]     1.21 [0.0;8.0]   1.0 [1.0;1.04]   \n",
       "Plasmid            0.0 [0.0;0.0]      0.0 [0.0;0.0]  0.95 [0.0;1.29]   \n",
       "\n",
       "                   parsimony        validity  \n",
       "Genome Type                                   \n",
       "Genome        1.0 [1.0;1.04]  1.0 [0.99;1.0]  \n",
       "Plasmid      0.96 [0.0;1.29]  0.93 [0.0;1.0]  "
      ]
     },
     "metadata": {},
     "output_type": "display_data"
    },
    {
     "name": "stdout",
     "output_type": "stream",
     "text": [
      "ENN\n"
     ]
    },
    {
     "data": {
      "text/html": [
       "<div>\n",
       "<style scoped>\n",
       "    .dataframe tbody tr th:only-of-type {\n",
       "        vertical-align: middle;\n",
       "    }\n",
       "\n",
       "    .dataframe tbody tr th {\n",
       "        vertical-align: top;\n",
       "    }\n",
       "\n",
       "    .dataframe thead th {\n",
       "        text-align: right;\n",
       "    }\n",
       "</style>\n",
       "<table border=\"1\" class=\"dataframe\">\n",
       "  <thead>\n",
       "    <tr style=\"text-align: right;\">\n",
       "      <th></th>\n",
       "      <th>L90</th>\n",
       "      <th>LSA</th>\n",
       "      <th>NA50</th>\n",
       "      <th>NG50</th>\n",
       "      <th>Ns</th>\n",
       "      <th>basepairs</th>\n",
       "      <th>breadth_of_coverage</th>\n",
       "      <th>contigs</th>\n",
       "      <th>identity</th>\n",
       "      <th>lowest_identity</th>\n",
       "      <th>misassembled contigs</th>\n",
       "      <th>misassembly events</th>\n",
       "      <th>multiplicity</th>\n",
       "      <th>parsimony</th>\n",
       "      <th>validity</th>\n",
       "    </tr>\n",
       "    <tr>\n",
       "      <th>Genome Type</th>\n",
       "      <th></th>\n",
       "      <th></th>\n",
       "      <th></th>\n",
       "      <th></th>\n",
       "      <th></th>\n",
       "      <th></th>\n",
       "      <th></th>\n",
       "      <th></th>\n",
       "      <th></th>\n",
       "      <th></th>\n",
       "      <th></th>\n",
       "      <th></th>\n",
       "      <th></th>\n",
       "      <th></th>\n",
       "      <th></th>\n",
       "    </tr>\n",
       "  </thead>\n",
       "  <tbody>\n",
       "    <tr>\n",
       "      <th>Genome</th>\n",
       "      <td>53.85 [8.0;670.0]</td>\n",
       "      <td>0.12 [0.01;0.38]</td>\n",
       "      <td>169760.11 [10114.0;447841.0]</td>\n",
       "      <td>167684.43 [9897.0;447841.0]</td>\n",
       "      <td>0.0 [0.0;0.0]</td>\n",
       "      <td>3760224.15 [1774634.0;6730265.0]</td>\n",
       "      <td>0.97 [0.93;0.99]</td>\n",
       "      <td>99.08 [16.0;933.0]</td>\n",
       "      <td>1.0 [0.99;1.0]</td>\n",
       "      <td>0.92 [0.22;1.0]</td>\n",
       "      <td>0.9 [0.0;8.0]</td>\n",
       "      <td>1.71 [0.0;15.0]</td>\n",
       "      <td>1.0 [1.0;1.01]</td>\n",
       "      <td>1.0 [1.0;1.02]</td>\n",
       "      <td>1.0 [0.99;1.0]</td>\n",
       "    </tr>\n",
       "    <tr>\n",
       "      <th>Plasmid</th>\n",
       "      <td>0.96 [0.0;8.0]</td>\n",
       "      <td>0.68 [0.0;1.0]</td>\n",
       "      <td>5003.07 [0.0;15523.0]</td>\n",
       "      <td>4629.75 [0.0;12670.0]</td>\n",
       "      <td>0.0 [0.0;0.0]</td>\n",
       "      <td>21957.96 [0.0;107736.0]</td>\n",
       "      <td>0.84 [0.0;1.0]</td>\n",
       "      <td>3.39 [0.0;24.0]</td>\n",
       "      <td>0.92 [0.0;1.0]</td>\n",
       "      <td>0.92 [0.0;1.0]</td>\n",
       "      <td>0.0 [0.0;0.0]</td>\n",
       "      <td>0.0 [0.0;0.0]</td>\n",
       "      <td>0.93 [0.0;1.02]</td>\n",
       "      <td>0.95 [0.0;1.46]</td>\n",
       "      <td>0.92 [0.0;1.0]</td>\n",
       "    </tr>\n",
       "  </tbody>\n",
       "</table>\n",
       "</div>"
      ],
      "text/plain": [
       "                           L90               LSA  \\\n",
       "Genome Type                                        \n",
       "Genome       53.85 [8.0;670.0]  0.12 [0.01;0.38]   \n",
       "Plasmid         0.96 [0.0;8.0]    0.68 [0.0;1.0]   \n",
       "\n",
       "                                     NA50                         NG50  \\\n",
       "Genome Type                                                              \n",
       "Genome       169760.11 [10114.0;447841.0]  167684.43 [9897.0;447841.0]   \n",
       "Plasmid             5003.07 [0.0;15523.0]        4629.75 [0.0;12670.0]   \n",
       "\n",
       "                        Ns                         basepairs  \\\n",
       "Genome Type                                                    \n",
       "Genome       0.0 [0.0;0.0]  3760224.15 [1774634.0;6730265.0]   \n",
       "Plasmid      0.0 [0.0;0.0]           21957.96 [0.0;107736.0]   \n",
       "\n",
       "            breadth_of_coverage             contigs        identity  \\\n",
       "Genome Type                                                           \n",
       "Genome         0.97 [0.93;0.99]  99.08 [16.0;933.0]  1.0 [0.99;1.0]   \n",
       "Plasmid          0.84 [0.0;1.0]     3.39 [0.0;24.0]  0.92 [0.0;1.0]   \n",
       "\n",
       "             lowest_identity misassembled contigs misassembly events  \\\n",
       "Genome Type                                                            \n",
       "Genome       0.92 [0.22;1.0]        0.9 [0.0;8.0]    1.71 [0.0;15.0]   \n",
       "Plasmid       0.92 [0.0;1.0]        0.0 [0.0;0.0]      0.0 [0.0;0.0]   \n",
       "\n",
       "                multiplicity        parsimony        validity  \n",
       "Genome Type                                                    \n",
       "Genome        1.0 [1.0;1.01]   1.0 [1.0;1.02]  1.0 [0.99;1.0]  \n",
       "Plasmid      0.93 [0.0;1.02]  0.95 [0.0;1.46]  0.92 [0.0;1.0]  "
      ]
     },
     "metadata": {},
     "output_type": "display_data"
    }
   ],
   "source": [
    "for sample in reference_pipeline_metrics_df['sample'].unique():\n",
    "    print(sample)\n",
    "    stats_per_assembler_type = pd.DataFrame()\n",
    "    for assembly_type in reference_pipeline_metrics_df.genome.unique():\n",
    "        row={'Genome Type': assembly_type}\n",
    "        lala=reference_pipeline_metrics_df[(reference_pipeline_metrics_df['sample'] == sample) & (reference_pipeline_metrics_df.genome == assembly_type)].describe()\n",
    "        for column in lala.columns:\n",
    "            mean = lala.loc['mean',column]\n",
    "            minimum = lala.loc['min',column]\n",
    "            maximum = lala.loc['max',column]\n",
    "            row[column] = \"{} [{};{}]\".format(round(mean, 2), round(minimum,2), round(maximum,2))\n",
    "        stats_per_assembler_type=stats_per_assembler_type.append(row, ignore_index=True)\n",
    "    stats_per_assembler_type = stats_per_assembler_type.set_index('Genome Type')\n",
    "    display(stats_per_assembler_type)\n",
    "    stats_per_assembler_type.to_csv(\"Tables/Results/Global metrics per genome type - {}.csv\".format(sample))"
   ]
  },
  {
   "cell_type": "code",
   "execution_count": 34,
   "id": "f2a8fdac",
   "metadata": {},
   "outputs": [
    {
     "name": "stdout",
     "output_type": "stream",
     "text": [
      "EMS\n",
      "ERR2984773\n",
      "ENN\n"
     ]
    }
   ],
   "source": [
    "best_stats_dfs = []\n",
    "\n",
    "all_data = pd.DataFrame()\n",
    "\n",
    "for sample in reference_pipeline_metrics_df['sample'].unique():\n",
    "    print(sample)\n",
    "    best_stats_per_assembler = pd.DataFrame()\n",
    "\n",
    "    for assembly_type in reference_pipeline_metrics_df.genome.unique():\n",
    "        \n",
    "        best_row = {'Genome Type': assembly_type, \"Type\": \"Best\"}\n",
    "        worst_row = {'Genome Type': assembly_type, \"Type\": \"Worst\"}\n",
    "        \n",
    "        describe_df = reference_pipeline_metrics_df[(reference_pipeline_metrics_df['sample'] == sample) & (reference_pipeline_metrics_df.genome == assembly_type)].describe()\n",
    "\n",
    "        for column in describe_df.columns:\n",
    "            mean = describe_df.loc['mean',column]\n",
    "            minimum = describe_df.loc['min',column]\n",
    "            maximum = describe_df.loc['max',column]\n",
    "                        \n",
    "            if \"basepairs\" in column:\n",
    "                    target = target_dict[reference]\n",
    "                    best_row[column] = min(list(reference_pipeline_metrics_df[column][(reference_pipeline_metrics_df['genome'] == assembly_type) & (reference_pipeline_metrics_df['sample'] == sample)]), key=lambda x:abs(x-target))\n",
    "                    worst_row[column] = max(list(reference_pipeline_metrics_df[column][(reference_pipeline_metrics_df['genome'] == assembly_type) & (reference_pipeline_metrics_df['sample'] == sample)]), key=lambda x:abs(x-target))\n",
    "\n",
    "            elif column in target_compass.keys():\n",
    "                    target=1\n",
    "                    best_row[column] = min(list(reference_pipeline_metrics_df[column][(reference_pipeline_metrics_df['genome'] == assembly_type) & (reference_pipeline_metrics_df['sample'] == sample)]), key=lambda x:abs(x-target))\n",
    "                    worst_row[column] = max(list(reference_pipeline_metrics_df[column][(reference_pipeline_metrics_df['genome'] == assembly_type) & (reference_pipeline_metrics_df['sample'] == sample)]), key=lambda x:abs(x-target))\n",
    "\n",
    "            elif column in best_min_exept_0:\n",
    "                temp = [x for x in list(reference_pipeline_metrics_df[column][(reference_pipeline_metrics_df['genome'] == assembly_type) & (reference_pipeline_metrics_df['sample'] == sample)]) if x != 0]\n",
    "                if len(temp) > 0:\n",
    "                    best_row[column] = min(temp)\n",
    "                    worst_row[column] = max(temp)\n",
    "                else:\n",
    "                    best_row[column] = 0\n",
    "                    worst_row[column] = 0\n",
    "            elif column in best_min:\n",
    "                best_row[column] = minimum\n",
    "                worst_row[column] = maximum\n",
    "            elif column in best_max:\n",
    "                best_row[column] = maximum\n",
    "                worst_row[column] = minimum\n",
    "                \n",
    "        best_stats_per_assembler=best_stats_per_assembler.append(best_row, ignore_index=True)\n",
    "        best_stats_per_assembler=best_stats_per_assembler.append(worst_row, ignore_index=True)\n",
    "        \n",
    "    best_stats_per_assembler = best_stats_per_assembler.set_index(['Genome Type', 'Type'])\n",
    "    best_stats_dfs.append([sample, best_stats_per_assembler])\n"
   ]
  },
  {
   "cell_type": "code",
   "execution_count": 44,
   "id": "ad2f8c4b",
   "metadata": {},
   "outputs": [
    {
     "name": "stderr",
     "output_type": "stream",
     "text": [
      "/tmp/ipykernel_47306/2818954819.py:34: RuntimeWarning:\n",
      "\n",
      "invalid value encountered in double_scalars\n",
      "\n"
     ]
    },
    {
     "data": {
      "text/html": [
       "<div>\n",
       "<style scoped>\n",
       "    .dataframe tbody tr th:only-of-type {\n",
       "        vertical-align: middle;\n",
       "    }\n",
       "\n",
       "    .dataframe tbody tr th {\n",
       "        vertical-align: top;\n",
       "    }\n",
       "\n",
       "    .dataframe thead th {\n",
       "        text-align: right;\n",
       "    }\n",
       "</style>\n",
       "<table border=\"1\" class=\"dataframe\">\n",
       "  <thead>\n",
       "    <tr style=\"text-align: right;\">\n",
       "      <th></th>\n",
       "      <th></th>\n",
       "      <th>L90</th>\n",
       "      <th>LSA</th>\n",
       "      <th>NA50</th>\n",
       "      <th>NG50</th>\n",
       "      <th>Ns</th>\n",
       "      <th>basepairs</th>\n",
       "      <th>breadth_of_coverage</th>\n",
       "      <th>contigs</th>\n",
       "      <th>identity</th>\n",
       "      <th>lowest_identity</th>\n",
       "      <th>misassembled contigs</th>\n",
       "      <th>misassembly events</th>\n",
       "      <th>multiplicity</th>\n",
       "      <th>parsimony</th>\n",
       "      <th>validity</th>\n",
       "    </tr>\n",
       "    <tr>\n",
       "      <th>Genome Type</th>\n",
       "      <th>Type</th>\n",
       "      <th></th>\n",
       "      <th></th>\n",
       "      <th></th>\n",
       "      <th></th>\n",
       "      <th></th>\n",
       "      <th></th>\n",
       "      <th></th>\n",
       "      <th></th>\n",
       "      <th></th>\n",
       "      <th></th>\n",
       "      <th></th>\n",
       "      <th></th>\n",
       "      <th></th>\n",
       "      <th></th>\n",
       "      <th></th>\n",
       "    </tr>\n",
       "  </thead>\n",
       "  <tbody>\n",
       "    <tr>\n",
       "      <th rowspan=\"2\" valign=\"top\">Genome</th>\n",
       "      <th>Best</th>\n",
       "      <td>0.982332</td>\n",
       "      <td>0.479754</td>\n",
       "      <td>1.000000</td>\n",
       "      <td>1.000000</td>\n",
       "      <td>0.0</td>\n",
       "      <td>-591.193117</td>\n",
       "      <td>0.992228</td>\n",
       "      <td>0.970387</td>\n",
       "      <td>1.000000</td>\n",
       "      <td>1.000000</td>\n",
       "      <td>1.0</td>\n",
       "      <td>1.0</td>\n",
       "      <td>1.000000</td>\n",
       "      <td>1.000000</td>\n",
       "      <td>1.000000</td>\n",
       "    </tr>\n",
       "    <tr>\n",
       "      <th>Worst</th>\n",
       "      <td>0.000000</td>\n",
       "      <td>0.018884</td>\n",
       "      <td>0.039984</td>\n",
       "      <td>0.038792</td>\n",
       "      <td>0.0</td>\n",
       "      <td>-2247.123288</td>\n",
       "      <td>0.931967</td>\n",
       "      <td>0.000000</td>\n",
       "      <td>0.984162</td>\n",
       "      <td>0.250734</td>\n",
       "      <td>0.0</td>\n",
       "      <td>0.0</td>\n",
       "      <td>0.993701</td>\n",
       "      <td>0.976641</td>\n",
       "      <td>0.977174</td>\n",
       "    </tr>\n",
       "    <tr>\n",
       "      <th rowspan=\"2\" valign=\"top\">Plasmid</th>\n",
       "      <th>Best</th>\n",
       "      <td>0.996466</td>\n",
       "      <td>1.000000</td>\n",
       "      <td>0.059627</td>\n",
       "      <td>0.059627</td>\n",
       "      <td>0.0</td>\n",
       "      <td>0.999666</td>\n",
       "      <td>1.000000</td>\n",
       "      <td>0.997722</td>\n",
       "      <td>1.000000</td>\n",
       "      <td>1.000000</td>\n",
       "      <td>1.0</td>\n",
       "      <td>1.0</td>\n",
       "      <td>1.000000</td>\n",
       "      <td>1.000000</td>\n",
       "      <td>1.000000</td>\n",
       "    </tr>\n",
       "    <tr>\n",
       "      <th>Worst</th>\n",
       "      <td>0.975265</td>\n",
       "      <td>0.000000</td>\n",
       "      <td>0.000000</td>\n",
       "      <td>0.000000</td>\n",
       "      <td>0.0</td>\n",
       "      <td>-33.989977</td>\n",
       "      <td>0.000000</td>\n",
       "      <td>0.940774</td>\n",
       "      <td>0.000000</td>\n",
       "      <td>0.000000</td>\n",
       "      <td>1.0</td>\n",
       "      <td>1.0</td>\n",
       "      <td>0.000000</td>\n",
       "      <td>0.000000</td>\n",
       "      <td>0.000000</td>\n",
       "    </tr>\n",
       "  </tbody>\n",
       "</table>\n",
       "</div>"
      ],
      "text/plain": [
       "                        L90       LSA      NA50      NG50   Ns    basepairs  \\\n",
       "Genome Type Type                                                              \n",
       "Genome      Best   0.982332  0.479754  1.000000  1.000000  0.0  -591.193117   \n",
       "            Worst  0.000000  0.018884  0.039984  0.038792  0.0 -2247.123288   \n",
       "Plasmid     Best   0.996466  1.000000  0.059627  0.059627  0.0     0.999666   \n",
       "            Worst  0.975265  0.000000  0.000000  0.000000  0.0   -33.989977   \n",
       "\n",
       "                   breadth_of_coverage   contigs  identity  lowest_identity  \\\n",
       "Genome Type Type                                                              \n",
       "Genome      Best              0.992228  0.970387  1.000000         1.000000   \n",
       "            Worst             0.931967  0.000000  0.984162         0.250734   \n",
       "Plasmid     Best              1.000000  0.997722  1.000000         1.000000   \n",
       "            Worst             0.000000  0.940774  0.000000         0.000000   \n",
       "\n",
       "                   misassembled contigs  misassembly events  multiplicity  \\\n",
       "Genome Type Type                                                            \n",
       "Genome      Best                    1.0                 1.0      1.000000   \n",
       "            Worst                   0.0                 0.0      0.993701   \n",
       "Plasmid     Best                    1.0                 1.0      1.000000   \n",
       "            Worst                   1.0                 1.0      0.000000   \n",
       "\n",
       "                   parsimony  validity  \n",
       "Genome Type Type                        \n",
       "Genome      Best    1.000000  1.000000  \n",
       "            Worst   0.976641  0.977174  \n",
       "Plasmid     Best    1.000000  1.000000  \n",
       "            Worst   0.000000  0.000000  "
      ]
     },
     "metadata": {},
     "output_type": "display_data"
    },
    {
     "name": "stderr",
     "output_type": "stream",
     "text": [
      "/tmp/ipykernel_47306/2818954819.py:34: RuntimeWarning:\n",
      "\n",
      "invalid value encountered in double_scalars\n",
      "\n"
     ]
    },
    {
     "data": {
      "text/html": [
       "<div>\n",
       "<style scoped>\n",
       "    .dataframe tbody tr th:only-of-type {\n",
       "        vertical-align: middle;\n",
       "    }\n",
       "\n",
       "    .dataframe tbody tr th {\n",
       "        vertical-align: top;\n",
       "    }\n",
       "\n",
       "    .dataframe thead th {\n",
       "        text-align: right;\n",
       "    }\n",
       "</style>\n",
       "<table border=\"1\" class=\"dataframe\">\n",
       "  <thead>\n",
       "    <tr style=\"text-align: right;\">\n",
       "      <th></th>\n",
       "      <th></th>\n",
       "      <th>L90</th>\n",
       "      <th>LSA</th>\n",
       "      <th>NA50</th>\n",
       "      <th>NG50</th>\n",
       "      <th>Ns</th>\n",
       "      <th>basepairs</th>\n",
       "      <th>breadth_of_coverage</th>\n",
       "      <th>contigs</th>\n",
       "      <th>identity</th>\n",
       "      <th>lowest_identity</th>\n",
       "      <th>misassembled contigs</th>\n",
       "      <th>misassembly events</th>\n",
       "      <th>multiplicity</th>\n",
       "      <th>parsimony</th>\n",
       "      <th>validity</th>\n",
       "    </tr>\n",
       "    <tr>\n",
       "      <th>Genome Type</th>\n",
       "      <th>Type</th>\n",
       "      <th></th>\n",
       "      <th></th>\n",
       "      <th></th>\n",
       "      <th></th>\n",
       "      <th></th>\n",
       "      <th></th>\n",
       "      <th></th>\n",
       "      <th></th>\n",
       "      <th></th>\n",
       "      <th></th>\n",
       "      <th></th>\n",
       "      <th></th>\n",
       "      <th></th>\n",
       "      <th></th>\n",
       "      <th></th>\n",
       "    </tr>\n",
       "  </thead>\n",
       "  <tbody>\n",
       "    <tr>\n",
       "      <th rowspan=\"2\" valign=\"top\">Genome</th>\n",
       "      <th>Best</th>\n",
       "      <td>0.972093</td>\n",
       "      <td>0.312936</td>\n",
       "      <td>1.000000</td>\n",
       "      <td>1.000000</td>\n",
       "      <td>0.0</td>\n",
       "      <td>-585.207150</td>\n",
       "      <td>0.991999</td>\n",
       "      <td>0.952514</td>\n",
       "      <td>1.000000</td>\n",
       "      <td>1.000000</td>\n",
       "      <td>1.0</td>\n",
       "      <td>1.0</td>\n",
       "      <td>1.000000</td>\n",
       "      <td>1.000000</td>\n",
       "      <td>1.000000</td>\n",
       "    </tr>\n",
       "    <tr>\n",
       "      <th>Worst</th>\n",
       "      <td>0.000000</td>\n",
       "      <td>0.013281</td>\n",
       "      <td>0.029714</td>\n",
       "      <td>0.028734</td>\n",
       "      <td>0.0</td>\n",
       "      <td>-2249.248246</td>\n",
       "      <td>0.922417</td>\n",
       "      <td>0.000000</td>\n",
       "      <td>0.978636</td>\n",
       "      <td>0.420899</td>\n",
       "      <td>0.0</td>\n",
       "      <td>0.0</td>\n",
       "      <td>0.963093</td>\n",
       "      <td>0.963089</td>\n",
       "      <td>0.986844</td>\n",
       "    </tr>\n",
       "    <tr>\n",
       "      <th rowspan=\"2\" valign=\"top\">Plasmid</th>\n",
       "      <th>Best</th>\n",
       "      <td>0.995349</td>\n",
       "      <td>1.000000</td>\n",
       "      <td>0.101823</td>\n",
       "      <td>0.101823</td>\n",
       "      <td>0.0</td>\n",
       "      <td>1.000000</td>\n",
       "      <td>1.000000</td>\n",
       "      <td>0.997207</td>\n",
       "      <td>1.000000</td>\n",
       "      <td>1.000000</td>\n",
       "      <td>1.0</td>\n",
       "      <td>1.0</td>\n",
       "      <td>1.000000</td>\n",
       "      <td>1.000000</td>\n",
       "      <td>1.000000</td>\n",
       "    </tr>\n",
       "    <tr>\n",
       "      <th>Worst</th>\n",
       "      <td>0.981395</td>\n",
       "      <td>0.000000</td>\n",
       "      <td>0.000000</td>\n",
       "      <td>0.000000</td>\n",
       "      <td>0.0</td>\n",
       "      <td>-34.590712</td>\n",
       "      <td>0.000000</td>\n",
       "      <td>0.980447</td>\n",
       "      <td>0.000000</td>\n",
       "      <td>0.000000</td>\n",
       "      <td>1.0</td>\n",
       "      <td>1.0</td>\n",
       "      <td>0.000000</td>\n",
       "      <td>0.000000</td>\n",
       "      <td>0.000000</td>\n",
       "    </tr>\n",
       "  </tbody>\n",
       "</table>\n",
       "</div>"
      ],
      "text/plain": [
       "                        L90       LSA      NA50      NG50   Ns    basepairs  \\\n",
       "Genome Type Type                                                              \n",
       "Genome      Best   0.972093  0.312936  1.000000  1.000000  0.0  -585.207150   \n",
       "            Worst  0.000000  0.013281  0.029714  0.028734  0.0 -2249.248246   \n",
       "Plasmid     Best   0.995349  1.000000  0.101823  0.101823  0.0     1.000000   \n",
       "            Worst  0.981395  0.000000  0.000000  0.000000  0.0   -34.590712   \n",
       "\n",
       "                   breadth_of_coverage   contigs  identity  lowest_identity  \\\n",
       "Genome Type Type                                                              \n",
       "Genome      Best              0.991999  0.952514  1.000000         1.000000   \n",
       "            Worst             0.922417  0.000000  0.978636         0.420899   \n",
       "Plasmid     Best              1.000000  0.997207  1.000000         1.000000   \n",
       "            Worst             0.000000  0.980447  0.000000         0.000000   \n",
       "\n",
       "                   misassembled contigs  misassembly events  multiplicity  \\\n",
       "Genome Type Type                                                            \n",
       "Genome      Best                    1.0                 1.0      1.000000   \n",
       "            Worst                   0.0                 0.0      0.963093   \n",
       "Plasmid     Best                    1.0                 1.0      1.000000   \n",
       "            Worst                   1.0                 1.0      0.000000   \n",
       "\n",
       "                   parsimony  validity  \n",
       "Genome Type Type                        \n",
       "Genome      Best    1.000000  1.000000  \n",
       "            Worst   0.963089  0.986844  \n",
       "Plasmid     Best    1.000000  1.000000  \n",
       "            Worst   0.000000  0.000000  "
      ]
     },
     "metadata": {},
     "output_type": "display_data"
    },
    {
     "name": "stderr",
     "output_type": "stream",
     "text": [
      "/tmp/ipykernel_47306/2818954819.py:34: RuntimeWarning:\n",
      "\n",
      "invalid value encountered in double_scalars\n",
      "\n"
     ]
    },
    {
     "data": {
      "text/html": [
       "<div>\n",
       "<style scoped>\n",
       "    .dataframe tbody tr th:only-of-type {\n",
       "        vertical-align: middle;\n",
       "    }\n",
       "\n",
       "    .dataframe tbody tr th {\n",
       "        vertical-align: top;\n",
       "    }\n",
       "\n",
       "    .dataframe thead th {\n",
       "        text-align: right;\n",
       "    }\n",
       "</style>\n",
       "<table border=\"1\" class=\"dataframe\">\n",
       "  <thead>\n",
       "    <tr style=\"text-align: right;\">\n",
       "      <th></th>\n",
       "      <th></th>\n",
       "      <th>L90</th>\n",
       "      <th>LSA</th>\n",
       "      <th>NA50</th>\n",
       "      <th>NG50</th>\n",
       "      <th>Ns</th>\n",
       "      <th>basepairs</th>\n",
       "      <th>breadth_of_coverage</th>\n",
       "      <th>contigs</th>\n",
       "      <th>identity</th>\n",
       "      <th>lowest_identity</th>\n",
       "      <th>misassembled contigs</th>\n",
       "      <th>misassembly events</th>\n",
       "      <th>multiplicity</th>\n",
       "      <th>parsimony</th>\n",
       "      <th>validity</th>\n",
       "    </tr>\n",
       "    <tr>\n",
       "      <th>Genome Type</th>\n",
       "      <th>Type</th>\n",
       "      <th></th>\n",
       "      <th></th>\n",
       "      <th></th>\n",
       "      <th></th>\n",
       "      <th></th>\n",
       "      <th></th>\n",
       "      <th></th>\n",
       "      <th></th>\n",
       "      <th></th>\n",
       "      <th></th>\n",
       "      <th></th>\n",
       "      <th></th>\n",
       "      <th></th>\n",
       "      <th></th>\n",
       "      <th></th>\n",
       "    </tr>\n",
       "  </thead>\n",
       "  <tbody>\n",
       "    <tr>\n",
       "      <th rowspan=\"2\" valign=\"top\">Genome</th>\n",
       "      <th>Best</th>\n",
       "      <td>0.988060</td>\n",
       "      <td>0.381399</td>\n",
       "      <td>1.000000</td>\n",
       "      <td>1.000000</td>\n",
       "      <td>0.0</td>\n",
       "      <td>-590.928166</td>\n",
       "      <td>0.991560</td>\n",
       "      <td>0.982851</td>\n",
       "      <td>1.000000</td>\n",
       "      <td>1.000000</td>\n",
       "      <td>1.0</td>\n",
       "      <td>1.0</td>\n",
       "      <td>1.000000</td>\n",
       "      <td>1.000000</td>\n",
       "      <td>1.000000</td>\n",
       "    </tr>\n",
       "    <tr>\n",
       "      <th>Worst</th>\n",
       "      <td>0.000000</td>\n",
       "      <td>0.006355</td>\n",
       "      <td>0.022584</td>\n",
       "      <td>0.022099</td>\n",
       "      <td>0.0</td>\n",
       "      <td>-2246.668560</td>\n",
       "      <td>0.931404</td>\n",
       "      <td>0.000000</td>\n",
       "      <td>0.992404</td>\n",
       "      <td>0.221785</td>\n",
       "      <td>0.0</td>\n",
       "      <td>0.0</td>\n",
       "      <td>0.991311</td>\n",
       "      <td>0.978105</td>\n",
       "      <td>0.987077</td>\n",
       "    </tr>\n",
       "    <tr>\n",
       "      <th rowspan=\"2\" valign=\"top\">Plasmid</th>\n",
       "      <th>Best</th>\n",
       "      <td>0.998507</td>\n",
       "      <td>1.000000</td>\n",
       "      <td>0.034662</td>\n",
       "      <td>0.028291</td>\n",
       "      <td>0.0</td>\n",
       "      <td>0.999666</td>\n",
       "      <td>1.000000</td>\n",
       "      <td>0.998928</td>\n",
       "      <td>1.000000</td>\n",
       "      <td>1.000000</td>\n",
       "      <td>1.0</td>\n",
       "      <td>1.0</td>\n",
       "      <td>1.000000</td>\n",
       "      <td>1.000000</td>\n",
       "      <td>1.000000</td>\n",
       "    </tr>\n",
       "    <tr>\n",
       "      <th>Worst</th>\n",
       "      <td>0.988060</td>\n",
       "      <td>0.000000</td>\n",
       "      <td>0.000000</td>\n",
       "      <td>0.000000</td>\n",
       "      <td>0.0</td>\n",
       "      <td>-33.995991</td>\n",
       "      <td>0.000000</td>\n",
       "      <td>0.974277</td>\n",
       "      <td>0.000000</td>\n",
       "      <td>0.000000</td>\n",
       "      <td>1.0</td>\n",
       "      <td>1.0</td>\n",
       "      <td>0.000000</td>\n",
       "      <td>0.000000</td>\n",
       "      <td>0.000000</td>\n",
       "    </tr>\n",
       "  </tbody>\n",
       "</table>\n",
       "</div>"
      ],
      "text/plain": [
       "                        L90       LSA      NA50      NG50   Ns    basepairs  \\\n",
       "Genome Type Type                                                              \n",
       "Genome      Best   0.988060  0.381399  1.000000  1.000000  0.0  -590.928166   \n",
       "            Worst  0.000000  0.006355  0.022584  0.022099  0.0 -2246.668560   \n",
       "Plasmid     Best   0.998507  1.000000  0.034662  0.028291  0.0     0.999666   \n",
       "            Worst  0.988060  0.000000  0.000000  0.000000  0.0   -33.995991   \n",
       "\n",
       "                   breadth_of_coverage   contigs  identity  lowest_identity  \\\n",
       "Genome Type Type                                                              \n",
       "Genome      Best              0.991560  0.982851  1.000000         1.000000   \n",
       "            Worst             0.931404  0.000000  0.992404         0.221785   \n",
       "Plasmid     Best              1.000000  0.998928  1.000000         1.000000   \n",
       "            Worst             0.000000  0.974277  0.000000         0.000000   \n",
       "\n",
       "                   misassembled contigs  misassembly events  multiplicity  \\\n",
       "Genome Type Type                                                            \n",
       "Genome      Best                    1.0                 1.0      1.000000   \n",
       "            Worst                   0.0                 0.0      0.991311   \n",
       "Plasmid     Best                    1.0                 1.0      1.000000   \n",
       "            Worst                   1.0                 1.0      0.000000   \n",
       "\n",
       "                   parsimony  validity  \n",
       "Genome Type Type                        \n",
       "Genome      Best    1.000000  1.000000  \n",
       "            Worst   0.978105  0.987077  \n",
       "Plasmid     Best    1.000000  1.000000  \n",
       "            Worst   0.000000  0.000000  "
      ]
     },
     "metadata": {},
     "output_type": "display_data"
    }
   ],
   "source": [
    "rank_dfs = []\n",
    "\n",
    "for sample, df  in best_stats_dfs:\n",
    "    \n",
    "    rank_df = pd.DataFrame(index=df.index)\n",
    "    \n",
    "    for column in df.columns:\n",
    "        rank_list = []\n",
    "        \n",
    "        if \"basepairs\" in column:\n",
    "            target = target_dict[reference]\n",
    "            for item in df[column]:\n",
    "                diff = 1 - abs(item-target) / target\n",
    "                rank_list.append(diff)\n",
    "            rank_df[column] = rank_list\n",
    "\n",
    "        elif column in target_compass:\n",
    "            target = 1\n",
    "            for item in df[column]:\n",
    "                diff = 1- abs(item-target) / target\n",
    "                rank_list.append(diff)\n",
    "            rank_df[column] = rank_list\n",
    "\n",
    "        elif column in best_min_exept_0:\n",
    "            for item in df[column]:\n",
    "                if item == 0:\n",
    "                    diff=0\n",
    "                else:\n",
    "                    diff = 1 - (item / df[column].max())\n",
    "                rank_list.append(diff)\n",
    "\n",
    "        elif column in best_min:\n",
    "            for item in df[column]:\n",
    "                diff = 1 - (item / df[column].max())\n",
    "                rank_list.append(diff)\n",
    "        else:\n",
    "            for item in df[column]:\n",
    "                diff = (item / df[column].max())\n",
    "                rank_list.append(diff)\n",
    "\n",
    "        rank_df[column] = rank_list\n",
    "\n",
    "    # in case assembly fails\n",
    "    for assembler, row in df.iterrows():\n",
    "        if row.sum() == 0:\n",
    "            rank_df.at[assembler, :]=0\n",
    "\n",
    "    rank_df = rank_df.fillna(0) #happens when all values are 0\n",
    "    display(rank_df) \n",
    "    rank_dfs.append([sample, rank_df])"
   ]
  },
  {
   "cell_type": "code",
   "execution_count": 70,
   "id": "25f8500c",
   "metadata": {},
   "outputs": [
    {
     "data": {
      "application/vnd.plotly.v1+json": {
       "config": {
        "plotlyServerURL": "https://plot.ly"
       },
       "data": [
        {
         "line": {
          "color": "#930001"
         },
         "marker": {
          "color": "#930001",
          "line": {
           "color": "black",
           "width": 2
          },
          "size": 12
         },
         "mode": "lines+markers",
         "name": "Genome - Best",
         "opacity": 0.6,
         "r": [
          0.9823321554770318,
          0.4797537241038037,
          1,
          1,
          0,
          -591.1931172736384,
          0.9922283196428122,
          0.9703872437357631,
          1,
          1,
          1,
          1,
          1,
          1,
          1
         ],
         "showlegend": false,
         "subplot": "polar",
         "theta": [
          "L90",
          "LSA",
          "NA50",
          "NG50",
          "Ns",
          "basepairs",
          "breadth of coverage",
          "contigs",
          "identity",
          "lowest identity",
          "misassembled contigs",
          "misassembly events",
          "multiplicity",
          "parsimony",
          "validity"
         ],
         "type": "scatterpolar"
        },
        {
         "line": {
          "color": "#C97F80"
         },
         "marker": {
          "color": "#C97F80",
          "line": {
           "color": "black",
           "width": 2
          },
          "size": 12
         },
         "mode": "lines+markers",
         "name": "Genome - Worst",
         "opacity": 0.6,
         "r": [
          0,
          0.018883688002541546,
          0.03998443776156127,
          0.038792033816323526,
          0,
          -2247.123287671233,
          0.9319668596485217,
          0,
          0.9841615356405258,
          0.25073449822174115,
          0,
          0,
          0.9937009754483213,
          0.9766407950228517,
          0.977173992412889
         ],
         "showlegend": false,
         "subplot": "polar",
         "theta": [
          "L90",
          "LSA",
          "NA50",
          "NG50",
          "Ns",
          "basepairs",
          "breadth of coverage",
          "contigs",
          "identity",
          "lowest identity",
          "misassembled contigs",
          "misassembly events",
          "multiplicity",
          "parsimony",
          "validity"
         ],
         "type": "scatterpolar"
        },
        {
         "line": {
          "color": "#009392"
         },
         "marker": {
          "color": "#009392",
          "line": {
           "color": "black",
           "width": 2
          },
          "size": 12
         },
         "mode": "lines+markers",
         "name": "Plasmid - Best",
         "opacity": 0.6,
         "r": [
          0.9964664310954063,
          1,
          0.05962650627747051,
          0.05962650627747051,
          0,
          0.9996658870698296,
          1,
          0.9977220956719818,
          1,
          1,
          1,
          1,
          1,
          1,
          1
         ],
         "showlegend": false,
         "subplot": "polar",
         "theta": [
          "L90",
          "LSA",
          "NA50",
          "NG50",
          "Ns",
          "basepairs",
          "breadth of coverage",
          "contigs",
          "identity",
          "lowest identity",
          "misassembled contigs",
          "misassembly events",
          "multiplicity",
          "parsimony",
          "validity"
         ],
         "type": "scatterpolar"
        },
        {
         "line": {
          "color": "#7FC9C8"
         },
         "marker": {
          "color": "#7FC9C8",
          "line": {
           "color": "black",
           "width": 2
          },
          "size": 12
         },
         "mode": "lines+markers",
         "name": "Plasmid - Worst",
         "opacity": 0.6,
         "r": [
          0.9752650176678446,
          0,
          0,
          0,
          0,
          -33.989976612094885,
          0,
          0.9407744874715261,
          0,
          0,
          1,
          1,
          0,
          0,
          0
         ],
         "showlegend": false,
         "subplot": "polar",
         "theta": [
          "L90",
          "LSA",
          "NA50",
          "NG50",
          "Ns",
          "basepairs",
          "breadth of coverage",
          "contigs",
          "identity",
          "lowest identity",
          "misassembled contigs",
          "misassembly events",
          "multiplicity",
          "parsimony",
          "validity"
         ],
         "type": "scatterpolar"
        },
        {
         "line": {
          "color": "#930001"
         },
         "marker": {
          "color": "#930001",
          "line": {
           "color": "black",
           "width": 2
          },
          "size": 12
         },
         "mode": "lines+markers",
         "name": "Genome - Best",
         "opacity": 0.6,
         "r": [
          0.9720930232558139,
          0.312935533526734,
          1,
          1,
          0,
          -585.2071500167057,
          0.9919992108746188,
          0.952513966480447,
          1,
          1,
          1,
          1,
          1,
          1,
          1
         ],
         "showlegend": true,
         "subplot": "polar2",
         "theta": [
          "L90",
          "LSA",
          "NA50",
          "NG50",
          "Ns",
          "basepairs",
          "breadth of coverage",
          "contigs",
          "identity",
          "lowest identity",
          "misassembled contigs",
          "misassembly events",
          "multiplicity",
          "parsimony",
          "validity"
         ],
         "type": "scatterpolar"
        },
        {
         "line": {
          "color": "#C97F80"
         },
         "marker": {
          "color": "#C97F80",
          "line": {
           "color": "black",
           "width": 2
          },
          "size": 12
         },
         "mode": "lines+markers",
         "name": "Genome - Worst",
         "opacity": 0.6,
         "r": [
          0,
          0.013281032394743519,
          0.029714186769625252,
          0.028734213589943856,
          0,
          -2249.2482459071166,
          0.9224167114095017,
          0,
          0.9786357671000795,
          0.42089903563236336,
          0,
          0,
          0.9630927043692936,
          0.9630894790842053,
          0.9868442836760658
         ],
         "showlegend": true,
         "subplot": "polar2",
         "theta": [
          "L90",
          "LSA",
          "NA50",
          "NG50",
          "Ns",
          "basepairs",
          "breadth of coverage",
          "contigs",
          "identity",
          "lowest identity",
          "misassembled contigs",
          "misassembly events",
          "multiplicity",
          "parsimony",
          "validity"
         ],
         "type": "scatterpolar"
        },
        {
         "line": {
          "color": "#009392"
         },
         "marker": {
          "color": "#009392",
          "line": {
           "color": "black",
           "width": 2
          },
          "size": 12
         },
         "mode": "lines+markers",
         "name": "Plasmid - Best",
         "opacity": 0.6,
         "r": [
          0.9953488372093023,
          1,
          0.10182326588956513,
          0.10182326588956513,
          0,
          1,
          1,
          0.9972067039106145,
          1,
          1,
          1,
          1,
          1,
          1,
          1
         ],
         "showlegend": true,
         "subplot": "polar2",
         "theta": [
          "L90",
          "LSA",
          "NA50",
          "NG50",
          "Ns",
          "basepairs",
          "breadth of coverage",
          "contigs",
          "identity",
          "lowest identity",
          "misassembled contigs",
          "misassembly events",
          "multiplicity",
          "parsimony",
          "validity"
         ],
         "type": "scatterpolar"
        },
        {
         "line": {
          "color": "#7FC9C8"
         },
         "marker": {
          "color": "#7FC9C8",
          "line": {
           "color": "black",
           "width": 2
          },
          "size": 12
         },
         "mode": "lines+markers",
         "name": "Plasmid - Worst",
         "opacity": 0.6,
         "r": [
          0.9813953488372094,
          0,
          0,
          0,
          0,
          -34.59071166054126,
          0,
          0.9804469273743017,
          0,
          0,
          1,
          1,
          0,
          0,
          0
         ],
         "showlegend": true,
         "subplot": "polar2",
         "theta": [
          "L90",
          "LSA",
          "NA50",
          "NG50",
          "Ns",
          "basepairs",
          "breadth of coverage",
          "contigs",
          "identity",
          "lowest identity",
          "misassembled contigs",
          "misassembly events",
          "multiplicity",
          "parsimony",
          "validity"
         ],
         "type": "scatterpolar"
        },
        {
         "line": {
          "color": "#930001"
         },
         "marker": {
          "color": "#930001",
          "line": {
           "color": "black",
           "width": 2
          },
          "size": 12
         },
         "mode": "lines+markers",
         "name": "Genome - Best",
         "opacity": 0.6,
         "r": [
          0.9880597014925373,
          0.3813993776620396,
          1,
          1,
          0,
          -590.9281657200133,
          0.9915596866793749,
          0.9828510182207931,
          1,
          1,
          1,
          1,
          1,
          1,
          1
         ],
         "showlegend": false,
         "subplot": "polar3",
         "theta": [
          "L90",
          "LSA",
          "NA50",
          "NG50",
          "Ns",
          "basepairs",
          "breadth of coverage",
          "contigs",
          "identity",
          "lowest identity",
          "misassembled contigs",
          "misassembly events",
          "multiplicity",
          "parsimony",
          "validity"
         ],
         "type": "scatterpolar"
        },
        {
         "line": {
          "color": "#C97F80"
         },
         "marker": {
          "color": "#C97F80",
          "line": {
           "color": "black",
           "width": 2
          },
          "size": 12
         },
         "mode": "lines+markers",
         "name": "Genome - Worst",
         "opacity": 0.6,
         "r": [
          0,
          0.006355403815774557,
          0.02258390812810797,
          0.022099361157196417,
          0,
          -2246.668559973271,
          0.9314035919180532,
          0,
          0.9924037812510231,
          0.2217846961586579,
          0,
          0,
          0.9913108939983317,
          0.9781053738080883,
          0.9870774149782412
         ],
         "showlegend": false,
         "subplot": "polar3",
         "theta": [
          "L90",
          "LSA",
          "NA50",
          "NG50",
          "Ns",
          "basepairs",
          "breadth of coverage",
          "contigs",
          "identity",
          "lowest identity",
          "misassembled contigs",
          "misassembly events",
          "multiplicity",
          "parsimony",
          "validity"
         ],
         "type": "scatterpolar"
        },
        {
         "line": {
          "color": "#009392"
         },
         "marker": {
          "color": "#009392",
          "line": {
           "color": "black",
           "width": 2
          },
          "size": 12
         },
         "mode": "lines+markers",
         "name": "Plasmid - Best",
         "opacity": 0.6,
         "r": [
          0.9985074626865672,
          1,
          0.03466185543529958,
          0.028291290882255085,
          0,
          0.9996658870698296,
          1,
          0.9989281886387996,
          1,
          1,
          1,
          1,
          1,
          1,
          1
         ],
         "showlegend": false,
         "subplot": "polar3",
         "theta": [
          "L90",
          "LSA",
          "NA50",
          "NG50",
          "Ns",
          "basepairs",
          "breadth of coverage",
          "contigs",
          "identity",
          "lowest identity",
          "misassembled contigs",
          "misassembly events",
          "multiplicity",
          "parsimony",
          "validity"
         ],
         "type": "scatterpolar"
        },
        {
         "line": {
          "color": "#7FC9C8"
         },
         "marker": {
          "color": "#7FC9C8",
          "line": {
           "color": "black",
           "width": 2
          },
          "size": 12
         },
         "mode": "lines+markers",
         "name": "Plasmid - Worst",
         "opacity": 0.6,
         "r": [
          0.9880597014925373,
          0,
          0,
          0,
          0,
          -33.99599064483795,
          0,
          0.9742765273311897,
          0,
          0,
          1,
          1,
          0,
          0,
          0
         ],
         "showlegend": false,
         "subplot": "polar3",
         "theta": [
          "L90",
          "LSA",
          "NA50",
          "NG50",
          "Ns",
          "basepairs",
          "breadth of coverage",
          "contigs",
          "identity",
          "lowest identity",
          "misassembled contigs",
          "misassembly events",
          "multiplicity",
          "parsimony",
          "validity"
         ],
         "type": "scatterpolar"
        }
       ],
       "layout": {
        "annotations": [
         {
          "font": {
           "color": "black",
           "size": 20
          },
          "showarrow": false,
          "text": "EMS",
          "x": 0.5,
          "xanchor": "center",
          "xref": "paper",
          "y": 1.05,
          "yanchor": "bottom",
          "yref": "paper"
         },
         {
          "font": {
           "color": "black",
           "size": 20
          },
          "showarrow": false,
          "text": "ERR2984773",
          "x": 0.5,
          "xanchor": "center",
          "xref": "paper",
          "y": 0.65,
          "yanchor": "bottom",
          "yref": "paper"
         },
         {
          "font": {
           "color": "black",
           "size": 20
          },
          "showarrow": false,
          "text": "ENN",
          "x": 0.5,
          "xanchor": "center",
          "xref": "paper",
          "y": 0.25,
          "yanchor": "bottom",
          "yref": "paper"
         }
        ],
        "legend": {
         "orientation": "h",
         "x": 0.2,
         "xanchor": "left",
         "y": -0.1,
         "yanchor": "bottom"
        },
        "polar": {
         "angularaxis": {
          "linecolor": "black"
         },
         "bgcolor": "rgb(255,255,255)",
         "domain": {
          "x": [
           0,
           1
          ],
          "y": [
           0.7777777777777778,
           1
          ]
         },
         "hole": 0.08333333333333333,
         "radialaxis": {
          "angle": -22.5,
          "gridcolor": "#DCDCDC",
          "linecolor": "black",
          "linewidth": 2,
          "range": [
           0,
           1
          ],
          "visible": true
         }
        },
        "polar2": {
         "angularaxis": {
          "linecolor": "black"
         },
         "bgcolor": "rgb(255,255,255)",
         "domain": {
          "x": [
           0,
           1
          ],
          "y": [
           0.3888888888888889,
           0.6111111111111112
          ]
         },
         "hole": 0.08333333333333333,
         "radialaxis": {
          "angle": -22.5,
          "gridcolor": "#DCDCDC",
          "linecolor": "black",
          "linewidth": 2,
          "range": [
           0,
           1
          ],
          "visible": true
         }
        },
        "polar3": {
         "angularaxis": {
          "linecolor": "black"
         },
         "bgcolor": "rgb(255,255,255)",
         "domain": {
          "x": [
           0,
           1
          ],
          "y": [
           0,
           0.22222222222222224
          ]
         },
         "hole": 0.08333333333333333,
         "radialaxis": {
          "angle": -22.5,
          "gridcolor": "#DCDCDC",
          "linecolor": "black",
          "linewidth": 2,
          "range": [
           0,
           1
          ],
          "visible": true
         }
        },
        "template": {
         "data": {
          "bar": [
           {
            "error_x": {
             "color": "#2a3f5f"
            },
            "error_y": {
             "color": "#2a3f5f"
            },
            "marker": {
             "line": {
              "color": "#E5ECF6",
              "width": 0.5
             },
             "pattern": {
              "fillmode": "overlay",
              "size": 10,
              "solidity": 0.2
             }
            },
            "type": "bar"
           }
          ],
          "barpolar": [
           {
            "marker": {
             "line": {
              "color": "#E5ECF6",
              "width": 0.5
             },
             "pattern": {
              "fillmode": "overlay",
              "size": 10,
              "solidity": 0.2
             }
            },
            "type": "barpolar"
           }
          ],
          "carpet": [
           {
            "aaxis": {
             "endlinecolor": "#2a3f5f",
             "gridcolor": "white",
             "linecolor": "white",
             "minorgridcolor": "white",
             "startlinecolor": "#2a3f5f"
            },
            "baxis": {
             "endlinecolor": "#2a3f5f",
             "gridcolor": "white",
             "linecolor": "white",
             "minorgridcolor": "white",
             "startlinecolor": "#2a3f5f"
            },
            "type": "carpet"
           }
          ],
          "choropleth": [
           {
            "colorbar": {
             "outlinewidth": 0,
             "ticks": ""
            },
            "type": "choropleth"
           }
          ],
          "contour": [
           {
            "colorbar": {
             "outlinewidth": 0,
             "ticks": ""
            },
            "colorscale": [
             [
              0,
              "#0d0887"
             ],
             [
              0.1111111111111111,
              "#46039f"
             ],
             [
              0.2222222222222222,
              "#7201a8"
             ],
             [
              0.3333333333333333,
              "#9c179e"
             ],
             [
              0.4444444444444444,
              "#bd3786"
             ],
             [
              0.5555555555555556,
              "#d8576b"
             ],
             [
              0.6666666666666666,
              "#ed7953"
             ],
             [
              0.7777777777777778,
              "#fb9f3a"
             ],
             [
              0.8888888888888888,
              "#fdca26"
             ],
             [
              1,
              "#f0f921"
             ]
            ],
            "type": "contour"
           }
          ],
          "contourcarpet": [
           {
            "colorbar": {
             "outlinewidth": 0,
             "ticks": ""
            },
            "type": "contourcarpet"
           }
          ],
          "heatmap": [
           {
            "colorbar": {
             "outlinewidth": 0,
             "ticks": ""
            },
            "colorscale": [
             [
              0,
              "#0d0887"
             ],
             [
              0.1111111111111111,
              "#46039f"
             ],
             [
              0.2222222222222222,
              "#7201a8"
             ],
             [
              0.3333333333333333,
              "#9c179e"
             ],
             [
              0.4444444444444444,
              "#bd3786"
             ],
             [
              0.5555555555555556,
              "#d8576b"
             ],
             [
              0.6666666666666666,
              "#ed7953"
             ],
             [
              0.7777777777777778,
              "#fb9f3a"
             ],
             [
              0.8888888888888888,
              "#fdca26"
             ],
             [
              1,
              "#f0f921"
             ]
            ],
            "type": "heatmap"
           }
          ],
          "heatmapgl": [
           {
            "colorbar": {
             "outlinewidth": 0,
             "ticks": ""
            },
            "colorscale": [
             [
              0,
              "#0d0887"
             ],
             [
              0.1111111111111111,
              "#46039f"
             ],
             [
              0.2222222222222222,
              "#7201a8"
             ],
             [
              0.3333333333333333,
              "#9c179e"
             ],
             [
              0.4444444444444444,
              "#bd3786"
             ],
             [
              0.5555555555555556,
              "#d8576b"
             ],
             [
              0.6666666666666666,
              "#ed7953"
             ],
             [
              0.7777777777777778,
              "#fb9f3a"
             ],
             [
              0.8888888888888888,
              "#fdca26"
             ],
             [
              1,
              "#f0f921"
             ]
            ],
            "type": "heatmapgl"
           }
          ],
          "histogram": [
           {
            "marker": {
             "pattern": {
              "fillmode": "overlay",
              "size": 10,
              "solidity": 0.2
             }
            },
            "type": "histogram"
           }
          ],
          "histogram2d": [
           {
            "colorbar": {
             "outlinewidth": 0,
             "ticks": ""
            },
            "colorscale": [
             [
              0,
              "#0d0887"
             ],
             [
              0.1111111111111111,
              "#46039f"
             ],
             [
              0.2222222222222222,
              "#7201a8"
             ],
             [
              0.3333333333333333,
              "#9c179e"
             ],
             [
              0.4444444444444444,
              "#bd3786"
             ],
             [
              0.5555555555555556,
              "#d8576b"
             ],
             [
              0.6666666666666666,
              "#ed7953"
             ],
             [
              0.7777777777777778,
              "#fb9f3a"
             ],
             [
              0.8888888888888888,
              "#fdca26"
             ],
             [
              1,
              "#f0f921"
             ]
            ],
            "type": "histogram2d"
           }
          ],
          "histogram2dcontour": [
           {
            "colorbar": {
             "outlinewidth": 0,
             "ticks": ""
            },
            "colorscale": [
             [
              0,
              "#0d0887"
             ],
             [
              0.1111111111111111,
              "#46039f"
             ],
             [
              0.2222222222222222,
              "#7201a8"
             ],
             [
              0.3333333333333333,
              "#9c179e"
             ],
             [
              0.4444444444444444,
              "#bd3786"
             ],
             [
              0.5555555555555556,
              "#d8576b"
             ],
             [
              0.6666666666666666,
              "#ed7953"
             ],
             [
              0.7777777777777778,
              "#fb9f3a"
             ],
             [
              0.8888888888888888,
              "#fdca26"
             ],
             [
              1,
              "#f0f921"
             ]
            ],
            "type": "histogram2dcontour"
           }
          ],
          "mesh3d": [
           {
            "colorbar": {
             "outlinewidth": 0,
             "ticks": ""
            },
            "type": "mesh3d"
           }
          ],
          "parcoords": [
           {
            "line": {
             "colorbar": {
              "outlinewidth": 0,
              "ticks": ""
             }
            },
            "type": "parcoords"
           }
          ],
          "pie": [
           {
            "automargin": true,
            "type": "pie"
           }
          ],
          "scatter": [
           {
            "marker": {
             "colorbar": {
              "outlinewidth": 0,
              "ticks": ""
             }
            },
            "type": "scatter"
           }
          ],
          "scatter3d": [
           {
            "line": {
             "colorbar": {
              "outlinewidth": 0,
              "ticks": ""
             }
            },
            "marker": {
             "colorbar": {
              "outlinewidth": 0,
              "ticks": ""
             }
            },
            "type": "scatter3d"
           }
          ],
          "scattercarpet": [
           {
            "marker": {
             "colorbar": {
              "outlinewidth": 0,
              "ticks": ""
             }
            },
            "type": "scattercarpet"
           }
          ],
          "scattergeo": [
           {
            "marker": {
             "colorbar": {
              "outlinewidth": 0,
              "ticks": ""
             }
            },
            "type": "scattergeo"
           }
          ],
          "scattergl": [
           {
            "marker": {
             "colorbar": {
              "outlinewidth": 0,
              "ticks": ""
             }
            },
            "type": "scattergl"
           }
          ],
          "scattermapbox": [
           {
            "marker": {
             "colorbar": {
              "outlinewidth": 0,
              "ticks": ""
             }
            },
            "type": "scattermapbox"
           }
          ],
          "scatterpolar": [
           {
            "marker": {
             "colorbar": {
              "outlinewidth": 0,
              "ticks": ""
             }
            },
            "type": "scatterpolar"
           }
          ],
          "scatterpolargl": [
           {
            "marker": {
             "colorbar": {
              "outlinewidth": 0,
              "ticks": ""
             }
            },
            "type": "scatterpolargl"
           }
          ],
          "scatterternary": [
           {
            "marker": {
             "colorbar": {
              "outlinewidth": 0,
              "ticks": ""
             }
            },
            "type": "scatterternary"
           }
          ],
          "surface": [
           {
            "colorbar": {
             "outlinewidth": 0,
             "ticks": ""
            },
            "colorscale": [
             [
              0,
              "#0d0887"
             ],
             [
              0.1111111111111111,
              "#46039f"
             ],
             [
              0.2222222222222222,
              "#7201a8"
             ],
             [
              0.3333333333333333,
              "#9c179e"
             ],
             [
              0.4444444444444444,
              "#bd3786"
             ],
             [
              0.5555555555555556,
              "#d8576b"
             ],
             [
              0.6666666666666666,
              "#ed7953"
             ],
             [
              0.7777777777777778,
              "#fb9f3a"
             ],
             [
              0.8888888888888888,
              "#fdca26"
             ],
             [
              1,
              "#f0f921"
             ]
            ],
            "type": "surface"
           }
          ],
          "table": [
           {
            "cells": {
             "fill": {
              "color": "#EBF0F8"
             },
             "line": {
              "color": "white"
             }
            },
            "header": {
             "fill": {
              "color": "#C8D4E3"
             },
             "line": {
              "color": "white"
             }
            },
            "type": "table"
           }
          ]
         },
         "layout": {
          "annotationdefaults": {
           "arrowcolor": "#2a3f5f",
           "arrowhead": 0,
           "arrowwidth": 1
          },
          "autotypenumbers": "strict",
          "coloraxis": {
           "colorbar": {
            "outlinewidth": 0,
            "ticks": ""
           }
          },
          "colorscale": {
           "diverging": [
            [
             0,
             "#8e0152"
            ],
            [
             0.1,
             "#c51b7d"
            ],
            [
             0.2,
             "#de77ae"
            ],
            [
             0.3,
             "#f1b6da"
            ],
            [
             0.4,
             "#fde0ef"
            ],
            [
             0.5,
             "#f7f7f7"
            ],
            [
             0.6,
             "#e6f5d0"
            ],
            [
             0.7,
             "#b8e186"
            ],
            [
             0.8,
             "#7fbc41"
            ],
            [
             0.9,
             "#4d9221"
            ],
            [
             1,
             "#276419"
            ]
           ],
           "sequential": [
            [
             0,
             "#0d0887"
            ],
            [
             0.1111111111111111,
             "#46039f"
            ],
            [
             0.2222222222222222,
             "#7201a8"
            ],
            [
             0.3333333333333333,
             "#9c179e"
            ],
            [
             0.4444444444444444,
             "#bd3786"
            ],
            [
             0.5555555555555556,
             "#d8576b"
            ],
            [
             0.6666666666666666,
             "#ed7953"
            ],
            [
             0.7777777777777778,
             "#fb9f3a"
            ],
            [
             0.8888888888888888,
             "#fdca26"
            ],
            [
             1,
             "#f0f921"
            ]
           ],
           "sequentialminus": [
            [
             0,
             "#0d0887"
            ],
            [
             0.1111111111111111,
             "#46039f"
            ],
            [
             0.2222222222222222,
             "#7201a8"
            ],
            [
             0.3333333333333333,
             "#9c179e"
            ],
            [
             0.4444444444444444,
             "#bd3786"
            ],
            [
             0.5555555555555556,
             "#d8576b"
            ],
            [
             0.6666666666666666,
             "#ed7953"
            ],
            [
             0.7777777777777778,
             "#fb9f3a"
            ],
            [
             0.8888888888888888,
             "#fdca26"
            ],
            [
             1,
             "#f0f921"
            ]
           ]
          },
          "colorway": [
           "#636efa",
           "#EF553B",
           "#00cc96",
           "#ab63fa",
           "#FFA15A",
           "#19d3f3",
           "#FF6692",
           "#B6E880",
           "#FF97FF",
           "#FECB52"
          ],
          "font": {
           "color": "#2a3f5f"
          },
          "geo": {
           "bgcolor": "white",
           "lakecolor": "white",
           "landcolor": "#E5ECF6",
           "showlakes": true,
           "showland": true,
           "subunitcolor": "white"
          },
          "hoverlabel": {
           "align": "left"
          },
          "hovermode": "closest",
          "mapbox": {
           "style": "light"
          },
          "paper_bgcolor": "white",
          "plot_bgcolor": "#E5ECF6",
          "polar": {
           "angularaxis": {
            "gridcolor": "white",
            "linecolor": "white",
            "ticks": ""
           },
           "bgcolor": "#E5ECF6",
           "radialaxis": {
            "gridcolor": "white",
            "linecolor": "white",
            "ticks": ""
           }
          },
          "scene": {
           "xaxis": {
            "backgroundcolor": "#E5ECF6",
            "gridcolor": "white",
            "gridwidth": 2,
            "linecolor": "white",
            "showbackground": true,
            "ticks": "",
            "zerolinecolor": "white"
           },
           "yaxis": {
            "backgroundcolor": "#E5ECF6",
            "gridcolor": "white",
            "gridwidth": 2,
            "linecolor": "white",
            "showbackground": true,
            "ticks": "",
            "zerolinecolor": "white"
           },
           "zaxis": {
            "backgroundcolor": "#E5ECF6",
            "gridcolor": "white",
            "gridwidth": 2,
            "linecolor": "white",
            "showbackground": true,
            "ticks": "",
            "zerolinecolor": "white"
           }
          },
          "shapedefaults": {
           "line": {
            "color": "#2a3f5f"
           }
          },
          "ternary": {
           "aaxis": {
            "gridcolor": "white",
            "linecolor": "white",
            "ticks": ""
           },
           "baxis": {
            "gridcolor": "white",
            "linecolor": "white",
            "ticks": ""
           },
           "bgcolor": "#E5ECF6",
           "caxis": {
            "gridcolor": "white",
            "linecolor": "white",
            "ticks": ""
           }
          },
          "title": {
           "x": 0.05
          },
          "xaxis": {
           "automargin": true,
           "gridcolor": "white",
           "linecolor": "white",
           "ticks": "",
           "title": {
            "standoff": 15
           },
           "zerolinecolor": "white",
           "zerolinewidth": 2
          },
          "yaxis": {
           "automargin": true,
           "gridcolor": "white",
           "linecolor": "white",
           "ticks": "",
           "title": {
            "standoff": 15
           },
           "zerolinecolor": "white",
           "zerolinewidth": 2
          }
         }
        }
       }
      },
      "text/html": [
       "<div>                            <div id=\"83ae72cb-0045-49bd-956c-36ff53f9ca93\" class=\"plotly-graph-div\" style=\"height:525px; width:100%;\"></div>            <script type=\"text/javascript\">                require([\"plotly\"], function(Plotly) {                    window.PLOTLYENV=window.PLOTLYENV || {};                                    if (document.getElementById(\"83ae72cb-0045-49bd-956c-36ff53f9ca93\")) {                    Plotly.newPlot(                        \"83ae72cb-0045-49bd-956c-36ff53f9ca93\",                        [{\"line\":{\"color\":\"#930001\"},\"marker\":{\"color\":\"#930001\",\"line\":{\"color\":\"black\",\"width\":2},\"size\":12},\"mode\":\"lines+markers\",\"name\":\"Genome - Best\",\"opacity\":0.6,\"r\":[0.9823321554770318,0.4797537241038037,1.0,1.0,0.0,-591.1931172736384,0.9922283196428122,0.9703872437357631,1.0,1.0,1.0,1.0,1.0,1.0,1.0],\"showlegend\":false,\"subplot\":\"polar\",\"theta\":[\"L90\",\"LSA\",\"NA50\",\"NG50\",\"Ns\",\"basepairs\",\"breadth of coverage\",\"contigs\",\"identity\",\"lowest identity\",\"misassembled contigs\",\"misassembly events\",\"multiplicity\",\"parsimony\",\"validity\"],\"type\":\"scatterpolar\"},{\"line\":{\"color\":\"#C97F80\"},\"marker\":{\"color\":\"#C97F80\",\"line\":{\"color\":\"black\",\"width\":2},\"size\":12},\"mode\":\"lines+markers\",\"name\":\"Genome - Worst\",\"opacity\":0.6,\"r\":[0.0,0.018883688002541546,0.03998443776156127,0.038792033816323526,0.0,-2247.123287671233,0.9319668596485217,0.0,0.9841615356405258,0.25073449822174115,0.0,0.0,0.9937009754483213,0.9766407950228517,0.977173992412889],\"showlegend\":false,\"subplot\":\"polar\",\"theta\":[\"L90\",\"LSA\",\"NA50\",\"NG50\",\"Ns\",\"basepairs\",\"breadth of coverage\",\"contigs\",\"identity\",\"lowest identity\",\"misassembled contigs\",\"misassembly events\",\"multiplicity\",\"parsimony\",\"validity\"],\"type\":\"scatterpolar\"},{\"line\":{\"color\":\"#009392\"},\"marker\":{\"color\":\"#009392\",\"line\":{\"color\":\"black\",\"width\":2},\"size\":12},\"mode\":\"lines+markers\",\"name\":\"Plasmid - Best\",\"opacity\":0.6,\"r\":[0.9964664310954063,1.0,0.05962650627747051,0.05962650627747051,0.0,0.9996658870698296,1.0,0.9977220956719818,1.0,1.0,1.0,1.0,1.0,1.0,1.0],\"showlegend\":false,\"subplot\":\"polar\",\"theta\":[\"L90\",\"LSA\",\"NA50\",\"NG50\",\"Ns\",\"basepairs\",\"breadth of coverage\",\"contigs\",\"identity\",\"lowest identity\",\"misassembled contigs\",\"misassembly events\",\"multiplicity\",\"parsimony\",\"validity\"],\"type\":\"scatterpolar\"},{\"line\":{\"color\":\"#7FC9C8\"},\"marker\":{\"color\":\"#7FC9C8\",\"line\":{\"color\":\"black\",\"width\":2},\"size\":12},\"mode\":\"lines+markers\",\"name\":\"Plasmid - Worst\",\"opacity\":0.6,\"r\":[0.9752650176678446,0.0,0.0,0.0,0.0,-33.989976612094885,0.0,0.9407744874715261,0.0,0.0,1.0,1.0,0.0,0.0,0.0],\"showlegend\":false,\"subplot\":\"polar\",\"theta\":[\"L90\",\"LSA\",\"NA50\",\"NG50\",\"Ns\",\"basepairs\",\"breadth of coverage\",\"contigs\",\"identity\",\"lowest identity\",\"misassembled contigs\",\"misassembly events\",\"multiplicity\",\"parsimony\",\"validity\"],\"type\":\"scatterpolar\"},{\"line\":{\"color\":\"#930001\"},\"marker\":{\"color\":\"#930001\",\"line\":{\"color\":\"black\",\"width\":2},\"size\":12},\"mode\":\"lines+markers\",\"name\":\"Genome - Best\",\"opacity\":0.6,\"r\":[0.9720930232558139,0.312935533526734,1.0,1.0,0.0,-585.2071500167057,0.9919992108746188,0.952513966480447,1.0,1.0,1.0,1.0,1.0,1.0,1.0],\"showlegend\":true,\"subplot\":\"polar2\",\"theta\":[\"L90\",\"LSA\",\"NA50\",\"NG50\",\"Ns\",\"basepairs\",\"breadth of coverage\",\"contigs\",\"identity\",\"lowest identity\",\"misassembled contigs\",\"misassembly events\",\"multiplicity\",\"parsimony\",\"validity\"],\"type\":\"scatterpolar\"},{\"line\":{\"color\":\"#C97F80\"},\"marker\":{\"color\":\"#C97F80\",\"line\":{\"color\":\"black\",\"width\":2},\"size\":12},\"mode\":\"lines+markers\",\"name\":\"Genome - Worst\",\"opacity\":0.6,\"r\":[0.0,0.013281032394743519,0.029714186769625252,0.028734213589943856,0.0,-2249.2482459071166,0.9224167114095017,0.0,0.9786357671000795,0.42089903563236336,0.0,0.0,0.9630927043692936,0.9630894790842053,0.9868442836760658],\"showlegend\":true,\"subplot\":\"polar2\",\"theta\":[\"L90\",\"LSA\",\"NA50\",\"NG50\",\"Ns\",\"basepairs\",\"breadth of coverage\",\"contigs\",\"identity\",\"lowest identity\",\"misassembled contigs\",\"misassembly events\",\"multiplicity\",\"parsimony\",\"validity\"],\"type\":\"scatterpolar\"},{\"line\":{\"color\":\"#009392\"},\"marker\":{\"color\":\"#009392\",\"line\":{\"color\":\"black\",\"width\":2},\"size\":12},\"mode\":\"lines+markers\",\"name\":\"Plasmid - Best\",\"opacity\":0.6,\"r\":[0.9953488372093023,1.0,0.10182326588956513,0.10182326588956513,0.0,1.0,1.0,0.9972067039106145,1.0,1.0,1.0,1.0,1.0,1.0,1.0],\"showlegend\":true,\"subplot\":\"polar2\",\"theta\":[\"L90\",\"LSA\",\"NA50\",\"NG50\",\"Ns\",\"basepairs\",\"breadth of coverage\",\"contigs\",\"identity\",\"lowest identity\",\"misassembled contigs\",\"misassembly events\",\"multiplicity\",\"parsimony\",\"validity\"],\"type\":\"scatterpolar\"},{\"line\":{\"color\":\"#7FC9C8\"},\"marker\":{\"color\":\"#7FC9C8\",\"line\":{\"color\":\"black\",\"width\":2},\"size\":12},\"mode\":\"lines+markers\",\"name\":\"Plasmid - Worst\",\"opacity\":0.6,\"r\":[0.9813953488372094,0.0,0.0,0.0,0.0,-34.59071166054126,0.0,0.9804469273743017,0.0,0.0,1.0,1.0,0.0,0.0,0.0],\"showlegend\":true,\"subplot\":\"polar2\",\"theta\":[\"L90\",\"LSA\",\"NA50\",\"NG50\",\"Ns\",\"basepairs\",\"breadth of coverage\",\"contigs\",\"identity\",\"lowest identity\",\"misassembled contigs\",\"misassembly events\",\"multiplicity\",\"parsimony\",\"validity\"],\"type\":\"scatterpolar\"},{\"line\":{\"color\":\"#930001\"},\"marker\":{\"color\":\"#930001\",\"line\":{\"color\":\"black\",\"width\":2},\"size\":12},\"mode\":\"lines+markers\",\"name\":\"Genome - Best\",\"opacity\":0.6,\"r\":[0.9880597014925373,0.3813993776620396,1.0,1.0,0.0,-590.9281657200133,0.9915596866793749,0.9828510182207931,1.0,1.0,1.0,1.0,1.0,1.0,1.0],\"showlegend\":false,\"subplot\":\"polar3\",\"theta\":[\"L90\",\"LSA\",\"NA50\",\"NG50\",\"Ns\",\"basepairs\",\"breadth of coverage\",\"contigs\",\"identity\",\"lowest identity\",\"misassembled contigs\",\"misassembly events\",\"multiplicity\",\"parsimony\",\"validity\"],\"type\":\"scatterpolar\"},{\"line\":{\"color\":\"#C97F80\"},\"marker\":{\"color\":\"#C97F80\",\"line\":{\"color\":\"black\",\"width\":2},\"size\":12},\"mode\":\"lines+markers\",\"name\":\"Genome - Worst\",\"opacity\":0.6,\"r\":[0.0,0.006355403815774557,0.02258390812810797,0.022099361157196417,0.0,-2246.668559973271,0.9314035919180532,0.0,0.9924037812510231,0.2217846961586579,0.0,0.0,0.9913108939983317,0.9781053738080883,0.9870774149782412],\"showlegend\":false,\"subplot\":\"polar3\",\"theta\":[\"L90\",\"LSA\",\"NA50\",\"NG50\",\"Ns\",\"basepairs\",\"breadth of coverage\",\"contigs\",\"identity\",\"lowest identity\",\"misassembled contigs\",\"misassembly events\",\"multiplicity\",\"parsimony\",\"validity\"],\"type\":\"scatterpolar\"},{\"line\":{\"color\":\"#009392\"},\"marker\":{\"color\":\"#009392\",\"line\":{\"color\":\"black\",\"width\":2},\"size\":12},\"mode\":\"lines+markers\",\"name\":\"Plasmid - Best\",\"opacity\":0.6,\"r\":[0.9985074626865672,1.0,0.03466185543529958,0.028291290882255085,0.0,0.9996658870698296,1.0,0.9989281886387996,1.0,1.0,1.0,1.0,1.0,1.0,1.0],\"showlegend\":false,\"subplot\":\"polar3\",\"theta\":[\"L90\",\"LSA\",\"NA50\",\"NG50\",\"Ns\",\"basepairs\",\"breadth of coverage\",\"contigs\",\"identity\",\"lowest identity\",\"misassembled contigs\",\"misassembly events\",\"multiplicity\",\"parsimony\",\"validity\"],\"type\":\"scatterpolar\"},{\"line\":{\"color\":\"#7FC9C8\"},\"marker\":{\"color\":\"#7FC9C8\",\"line\":{\"color\":\"black\",\"width\":2},\"size\":12},\"mode\":\"lines+markers\",\"name\":\"Plasmid - Worst\",\"opacity\":0.6,\"r\":[0.9880597014925373,0.0,0.0,0.0,0.0,-33.99599064483795,0.0,0.9742765273311897,0.0,0.0,1.0,1.0,0.0,0.0,0.0],\"showlegend\":false,\"subplot\":\"polar3\",\"theta\":[\"L90\",\"LSA\",\"NA50\",\"NG50\",\"Ns\",\"basepairs\",\"breadth of coverage\",\"contigs\",\"identity\",\"lowest identity\",\"misassembled contigs\",\"misassembly events\",\"multiplicity\",\"parsimony\",\"validity\"],\"type\":\"scatterpolar\"}],                        {\"annotations\":[{\"font\":{\"color\":\"black\",\"size\":20},\"showarrow\":false,\"text\":\"EMS\",\"x\":0.5,\"xanchor\":\"center\",\"xref\":\"paper\",\"y\":1.05,\"yanchor\":\"bottom\",\"yref\":\"paper\"},{\"font\":{\"color\":\"black\",\"size\":20},\"showarrow\":false,\"text\":\"ERR2984773\",\"x\":0.5,\"xanchor\":\"center\",\"xref\":\"paper\",\"y\":0.65,\"yanchor\":\"bottom\",\"yref\":\"paper\"},{\"font\":{\"color\":\"black\",\"size\":20},\"showarrow\":false,\"text\":\"ENN\",\"x\":0.5,\"xanchor\":\"center\",\"xref\":\"paper\",\"y\":0.25,\"yanchor\":\"bottom\",\"yref\":\"paper\"}],\"legend\":{\"orientation\":\"h\",\"x\":0.2,\"xanchor\":\"left\",\"y\":-0.1,\"yanchor\":\"bottom\"},\"polar\":{\"angularaxis\":{\"linecolor\":\"black\"},\"bgcolor\":\"rgb(255,255,255)\",\"domain\":{\"x\":[0.0,1.0],\"y\":[0.7777777777777778,1.0]},\"hole\":0.08333333333333333,\"radialaxis\":{\"angle\":-22.5,\"gridcolor\":\"#DCDCDC\",\"linecolor\":\"black\",\"linewidth\":2,\"range\":[0,1],\"visible\":true}},\"polar2\":{\"angularaxis\":{\"linecolor\":\"black\"},\"bgcolor\":\"rgb(255,255,255)\",\"domain\":{\"x\":[0.0,1.0],\"y\":[0.3888888888888889,0.6111111111111112]},\"hole\":0.08333333333333333,\"radialaxis\":{\"angle\":-22.5,\"gridcolor\":\"#DCDCDC\",\"linecolor\":\"black\",\"linewidth\":2,\"range\":[0,1],\"visible\":true}},\"polar3\":{\"angularaxis\":{\"linecolor\":\"black\"},\"bgcolor\":\"rgb(255,255,255)\",\"domain\":{\"x\":[0.0,1.0],\"y\":[0.0,0.22222222222222224]},\"hole\":0.08333333333333333,\"radialaxis\":{\"angle\":-22.5,\"gridcolor\":\"#DCDCDC\",\"linecolor\":\"black\",\"linewidth\":2,\"range\":[0,1],\"visible\":true}},\"template\":{\"data\":{\"bar\":[{\"error_x\":{\"color\":\"#2a3f5f\"},\"error_y\":{\"color\":\"#2a3f5f\"},\"marker\":{\"line\":{\"color\":\"#E5ECF6\",\"width\":0.5},\"pattern\":{\"fillmode\":\"overlay\",\"size\":10,\"solidity\":0.2}},\"type\":\"bar\"}],\"barpolar\":[{\"marker\":{\"line\":{\"color\":\"#E5ECF6\",\"width\":0.5},\"pattern\":{\"fillmode\":\"overlay\",\"size\":10,\"solidity\":0.2}},\"type\":\"barpolar\"}],\"carpet\":[{\"aaxis\":{\"endlinecolor\":\"#2a3f5f\",\"gridcolor\":\"white\",\"linecolor\":\"white\",\"minorgridcolor\":\"white\",\"startlinecolor\":\"#2a3f5f\"},\"baxis\":{\"endlinecolor\":\"#2a3f5f\",\"gridcolor\":\"white\",\"linecolor\":\"white\",\"minorgridcolor\":\"white\",\"startlinecolor\":\"#2a3f5f\"},\"type\":\"carpet\"}],\"choropleth\":[{\"colorbar\":{\"outlinewidth\":0,\"ticks\":\"\"},\"type\":\"choropleth\"}],\"contour\":[{\"colorbar\":{\"outlinewidth\":0,\"ticks\":\"\"},\"colorscale\":[[0.0,\"#0d0887\"],[0.1111111111111111,\"#46039f\"],[0.2222222222222222,\"#7201a8\"],[0.3333333333333333,\"#9c179e\"],[0.4444444444444444,\"#bd3786\"],[0.5555555555555556,\"#d8576b\"],[0.6666666666666666,\"#ed7953\"],[0.7777777777777778,\"#fb9f3a\"],[0.8888888888888888,\"#fdca26\"],[1.0,\"#f0f921\"]],\"type\":\"contour\"}],\"contourcarpet\":[{\"colorbar\":{\"outlinewidth\":0,\"ticks\":\"\"},\"type\":\"contourcarpet\"}],\"heatmap\":[{\"colorbar\":{\"outlinewidth\":0,\"ticks\":\"\"},\"colorscale\":[[0.0,\"#0d0887\"],[0.1111111111111111,\"#46039f\"],[0.2222222222222222,\"#7201a8\"],[0.3333333333333333,\"#9c179e\"],[0.4444444444444444,\"#bd3786\"],[0.5555555555555556,\"#d8576b\"],[0.6666666666666666,\"#ed7953\"],[0.7777777777777778,\"#fb9f3a\"],[0.8888888888888888,\"#fdca26\"],[1.0,\"#f0f921\"]],\"type\":\"heatmap\"}],\"heatmapgl\":[{\"colorbar\":{\"outlinewidth\":0,\"ticks\":\"\"},\"colorscale\":[[0.0,\"#0d0887\"],[0.1111111111111111,\"#46039f\"],[0.2222222222222222,\"#7201a8\"],[0.3333333333333333,\"#9c179e\"],[0.4444444444444444,\"#bd3786\"],[0.5555555555555556,\"#d8576b\"],[0.6666666666666666,\"#ed7953\"],[0.7777777777777778,\"#fb9f3a\"],[0.8888888888888888,\"#fdca26\"],[1.0,\"#f0f921\"]],\"type\":\"heatmapgl\"}],\"histogram\":[{\"marker\":{\"pattern\":{\"fillmode\":\"overlay\",\"size\":10,\"solidity\":0.2}},\"type\":\"histogram\"}],\"histogram2d\":[{\"colorbar\":{\"outlinewidth\":0,\"ticks\":\"\"},\"colorscale\":[[0.0,\"#0d0887\"],[0.1111111111111111,\"#46039f\"],[0.2222222222222222,\"#7201a8\"],[0.3333333333333333,\"#9c179e\"],[0.4444444444444444,\"#bd3786\"],[0.5555555555555556,\"#d8576b\"],[0.6666666666666666,\"#ed7953\"],[0.7777777777777778,\"#fb9f3a\"],[0.8888888888888888,\"#fdca26\"],[1.0,\"#f0f921\"]],\"type\":\"histogram2d\"}],\"histogram2dcontour\":[{\"colorbar\":{\"outlinewidth\":0,\"ticks\":\"\"},\"colorscale\":[[0.0,\"#0d0887\"],[0.1111111111111111,\"#46039f\"],[0.2222222222222222,\"#7201a8\"],[0.3333333333333333,\"#9c179e\"],[0.4444444444444444,\"#bd3786\"],[0.5555555555555556,\"#d8576b\"],[0.6666666666666666,\"#ed7953\"],[0.7777777777777778,\"#fb9f3a\"],[0.8888888888888888,\"#fdca26\"],[1.0,\"#f0f921\"]],\"type\":\"histogram2dcontour\"}],\"mesh3d\":[{\"colorbar\":{\"outlinewidth\":0,\"ticks\":\"\"},\"type\":\"mesh3d\"}],\"parcoords\":[{\"line\":{\"colorbar\":{\"outlinewidth\":0,\"ticks\":\"\"}},\"type\":\"parcoords\"}],\"pie\":[{\"automargin\":true,\"type\":\"pie\"}],\"scatter\":[{\"marker\":{\"colorbar\":{\"outlinewidth\":0,\"ticks\":\"\"}},\"type\":\"scatter\"}],\"scatter3d\":[{\"line\":{\"colorbar\":{\"outlinewidth\":0,\"ticks\":\"\"}},\"marker\":{\"colorbar\":{\"outlinewidth\":0,\"ticks\":\"\"}},\"type\":\"scatter3d\"}],\"scattercarpet\":[{\"marker\":{\"colorbar\":{\"outlinewidth\":0,\"ticks\":\"\"}},\"type\":\"scattercarpet\"}],\"scattergeo\":[{\"marker\":{\"colorbar\":{\"outlinewidth\":0,\"ticks\":\"\"}},\"type\":\"scattergeo\"}],\"scattergl\":[{\"marker\":{\"colorbar\":{\"outlinewidth\":0,\"ticks\":\"\"}},\"type\":\"scattergl\"}],\"scattermapbox\":[{\"marker\":{\"colorbar\":{\"outlinewidth\":0,\"ticks\":\"\"}},\"type\":\"scattermapbox\"}],\"scatterpolar\":[{\"marker\":{\"colorbar\":{\"outlinewidth\":0,\"ticks\":\"\"}},\"type\":\"scatterpolar\"}],\"scatterpolargl\":[{\"marker\":{\"colorbar\":{\"outlinewidth\":0,\"ticks\":\"\"}},\"type\":\"scatterpolargl\"}],\"scatterternary\":[{\"marker\":{\"colorbar\":{\"outlinewidth\":0,\"ticks\":\"\"}},\"type\":\"scatterternary\"}],\"surface\":[{\"colorbar\":{\"outlinewidth\":0,\"ticks\":\"\"},\"colorscale\":[[0.0,\"#0d0887\"],[0.1111111111111111,\"#46039f\"],[0.2222222222222222,\"#7201a8\"],[0.3333333333333333,\"#9c179e\"],[0.4444444444444444,\"#bd3786\"],[0.5555555555555556,\"#d8576b\"],[0.6666666666666666,\"#ed7953\"],[0.7777777777777778,\"#fb9f3a\"],[0.8888888888888888,\"#fdca26\"],[1.0,\"#f0f921\"]],\"type\":\"surface\"}],\"table\":[{\"cells\":{\"fill\":{\"color\":\"#EBF0F8\"},\"line\":{\"color\":\"white\"}},\"header\":{\"fill\":{\"color\":\"#C8D4E3\"},\"line\":{\"color\":\"white\"}},\"type\":\"table\"}]},\"layout\":{\"annotationdefaults\":{\"arrowcolor\":\"#2a3f5f\",\"arrowhead\":0,\"arrowwidth\":1},\"autotypenumbers\":\"strict\",\"coloraxis\":{\"colorbar\":{\"outlinewidth\":0,\"ticks\":\"\"}},\"colorscale\":{\"diverging\":[[0,\"#8e0152\"],[0.1,\"#c51b7d\"],[0.2,\"#de77ae\"],[0.3,\"#f1b6da\"],[0.4,\"#fde0ef\"],[0.5,\"#f7f7f7\"],[0.6,\"#e6f5d0\"],[0.7,\"#b8e186\"],[0.8,\"#7fbc41\"],[0.9,\"#4d9221\"],[1,\"#276419\"]],\"sequential\":[[0.0,\"#0d0887\"],[0.1111111111111111,\"#46039f\"],[0.2222222222222222,\"#7201a8\"],[0.3333333333333333,\"#9c179e\"],[0.4444444444444444,\"#bd3786\"],[0.5555555555555556,\"#d8576b\"],[0.6666666666666666,\"#ed7953\"],[0.7777777777777778,\"#fb9f3a\"],[0.8888888888888888,\"#fdca26\"],[1.0,\"#f0f921\"]],\"sequentialminus\":[[0.0,\"#0d0887\"],[0.1111111111111111,\"#46039f\"],[0.2222222222222222,\"#7201a8\"],[0.3333333333333333,\"#9c179e\"],[0.4444444444444444,\"#bd3786\"],[0.5555555555555556,\"#d8576b\"],[0.6666666666666666,\"#ed7953\"],[0.7777777777777778,\"#fb9f3a\"],[0.8888888888888888,\"#fdca26\"],[1.0,\"#f0f921\"]]},\"colorway\":[\"#636efa\",\"#EF553B\",\"#00cc96\",\"#ab63fa\",\"#FFA15A\",\"#19d3f3\",\"#FF6692\",\"#B6E880\",\"#FF97FF\",\"#FECB52\"],\"font\":{\"color\":\"#2a3f5f\"},\"geo\":{\"bgcolor\":\"white\",\"lakecolor\":\"white\",\"landcolor\":\"#E5ECF6\",\"showlakes\":true,\"showland\":true,\"subunitcolor\":\"white\"},\"hoverlabel\":{\"align\":\"left\"},\"hovermode\":\"closest\",\"mapbox\":{\"style\":\"light\"},\"paper_bgcolor\":\"white\",\"plot_bgcolor\":\"#E5ECF6\",\"polar\":{\"angularaxis\":{\"gridcolor\":\"white\",\"linecolor\":\"white\",\"ticks\":\"\"},\"bgcolor\":\"#E5ECF6\",\"radialaxis\":{\"gridcolor\":\"white\",\"linecolor\":\"white\",\"ticks\":\"\"}},\"scene\":{\"xaxis\":{\"backgroundcolor\":\"#E5ECF6\",\"gridcolor\":\"white\",\"gridwidth\":2,\"linecolor\":\"white\",\"showbackground\":true,\"ticks\":\"\",\"zerolinecolor\":\"white\"},\"yaxis\":{\"backgroundcolor\":\"#E5ECF6\",\"gridcolor\":\"white\",\"gridwidth\":2,\"linecolor\":\"white\",\"showbackground\":true,\"ticks\":\"\",\"zerolinecolor\":\"white\"},\"zaxis\":{\"backgroundcolor\":\"#E5ECF6\",\"gridcolor\":\"white\",\"gridwidth\":2,\"linecolor\":\"white\",\"showbackground\":true,\"ticks\":\"\",\"zerolinecolor\":\"white\"}},\"shapedefaults\":{\"line\":{\"color\":\"#2a3f5f\"}},\"ternary\":{\"aaxis\":{\"gridcolor\":\"white\",\"linecolor\":\"white\",\"ticks\":\"\"},\"baxis\":{\"gridcolor\":\"white\",\"linecolor\":\"white\",\"ticks\":\"\"},\"bgcolor\":\"#E5ECF6\",\"caxis\":{\"gridcolor\":\"white\",\"linecolor\":\"white\",\"ticks\":\"\"}},\"title\":{\"x\":0.05},\"xaxis\":{\"automargin\":true,\"gridcolor\":\"white\",\"linecolor\":\"white\",\"ticks\":\"\",\"title\":{\"standoff\":15},\"zerolinecolor\":\"white\",\"zerolinewidth\":2},\"yaxis\":{\"automargin\":true,\"gridcolor\":\"white\",\"linecolor\":\"white\",\"ticks\":\"\",\"title\":{\"standoff\":15},\"zerolinecolor\":\"white\",\"zerolinewidth\":2}}}},                        {\"responsive\": true}                    ).then(function(){\n",
       "                            \n",
       "var gd = document.getElementById('83ae72cb-0045-49bd-956c-36ff53f9ca93');\n",
       "var x = new MutationObserver(function (mutations, observer) {{\n",
       "        var display = window.getComputedStyle(gd).display;\n",
       "        if (!display || display === 'none') {{\n",
       "            console.log([gd, 'removed!']);\n",
       "            Plotly.purge(gd);\n",
       "            observer.disconnect();\n",
       "        }}\n",
       "}});\n",
       "\n",
       "// Listen for the removal of the full notebook cells\n",
       "var notebookContainer = gd.closest('#notebook-container');\n",
       "if (notebookContainer) {{\n",
       "    x.observe(notebookContainer, {childList: true});\n",
       "}}\n",
       "\n",
       "// Listen for the clearing of the current output cell\n",
       "var outputEl = gd.closest('.output');\n",
       "if (outputEl) {{\n",
       "    x.observe(outputEl, {childList: true});\n",
       "}}\n",
       "\n",
       "                        })                };                });            </script>        </div>"
      ]
     },
     "metadata": {},
     "output_type": "display_data"
    },
    {
     "data": {
      "text/plain": [
       "'Plots/Reference Metrics/Genomic Type - all.html'"
      ]
     },
     "execution_count": 70,
     "metadata": {},
     "output_type": "execute_result"
    }
   ],
   "source": [
    "COLOURS = ['#930001','#C97F80','#009392','#7FC9C8']\n",
    "\n",
    "fig = make_subplots(rows=3, cols=1, specs=[[{'type': 'polar'}],[{'type': 'polar'}], [{'type': 'polar'}]], subplot_titles=([x[0] for x in rank_dfs]))\n",
    "\n",
    "j=0\n",
    "\n",
    "for sample, df in rank_dfs:\n",
    "    showlegend=True if j==1 else False\n",
    "    i= 0\n",
    "    j+=1\n",
    "\n",
    "    for index, row in df.iterrows():\n",
    "        # BEST\n",
    "        genomt_type = index[0]\n",
    "        category = index[1]\n",
    "        \n",
    "        row_data = []\n",
    "\n",
    "        for col in df.columns:\n",
    "            row_data.append(row.loc[:].at[col])\n",
    "        \n",
    "        if category == 'Best':\n",
    "            fig.add_trace(go.Scatterpolar(r=row_data,\n",
    "                                      theta=list([z.replace('_',' ') for z in df.columns]), mode='lines+markers',\n",
    "                                      marker=dict(color=COLOURS[i], size=12), \n",
    "                                      marker_line_color=\"black\", \n",
    "                                      marker_line_width=2,\n",
    "                                      opacity=0.6,\n",
    "                                      name=\"{} - {}\".format(genomt_type, category), line=dict(color=COLOURS[i]), showlegend=showlegend),\n",
    "                         col=1, row=j)\n",
    "\n",
    "            \n",
    "        else:\n",
    "            fig.add_trace(go.Scatterpolar(r=row_data,\n",
    "                                      theta=list([z.replace('_',' ') for z in df.columns]), mode='lines+markers',\n",
    "                                      marker=dict(color=COLOURS[i], size=12), \n",
    "                                      marker_line_color=\"black\", \n",
    "                                      marker_line_width=2,\n",
    "                                      opacity=0.6,\n",
    "                                      name=\"{} - {}\".format(genomt_type, category), line=dict(color=COLOURS[i]), showlegend=showlegend),\n",
    "                         col=1, row=j)\n",
    "\n",
    "            \n",
    "        i+=1\n",
    "            \n",
    "fig.update_layout(polar=dict(radialaxis=dict(visible=True,\n",
    "                                             range=[0,1],\n",
    "                                             linewidth = 2,\n",
    "                                             linecolor=\"black\",\n",
    "                                             gridcolor = \"#DCDCDC\"), \n",
    "                             hole=1/12, bgcolor='rgb(255,255,255)',\n",
    "                            angularaxis=dict(linecolor=\"black\"),\n",
    "                            radialaxis_angle = -22.5),\n",
    "                 polar2=dict(radialaxis=dict(visible=True,\n",
    "                                             range=[0,1],\n",
    "                                             linewidth = 2,\n",
    "                                             linecolor=\"black\",\n",
    "                                             gridcolor = \"#DCDCDC\"), \n",
    "                             hole=1/12, bgcolor='rgb(255,255,255)',\n",
    "                            angularaxis=dict(linecolor=\"black\"),\n",
    "                            radialaxis_angle = -22.5),\n",
    "                 polar3=dict(radialaxis=dict(visible=True,\n",
    "                                             range=[0,1],\n",
    "                                             linewidth = 2,\n",
    "                                             linecolor=\"black\",\n",
    "                                             gridcolor = \"#DCDCDC\"), \n",
    "                             hole=1/12, bgcolor='rgb(255,255,255)',\n",
    "                            angularaxis=dict(linecolor=\"black\"),\n",
    "                            radialaxis_angle = -22.5))\n",
    "\n",
    "fig.layout.annotations[0].update(y=1.05, font=dict(size=20,color=\"black\"))\n",
    "fig.layout.annotations[1].update(y=0.65, font=dict(size=20,color=\"black\"))\n",
    "fig.layout.annotations[2].update(y=0.25, font=dict(size=20,color=\"black\"))\n",
    "\n",
    "\n",
    "fig.update_layout(legend=dict(\n",
    "    orientation=\"h\",\n",
    "    yanchor=\"bottom\",\n",
    "    y=-0.1,\n",
    "    xanchor=\"left\",\n",
    "    x=0.2\n",
    "))\n",
    "\n",
    "fig.show()\n",
    "plot(fig, filename='Plots/Reference Metrics/Genomic Type - all.html', auto_open=False)\n",
    "\n"
   ]
  }
 ],
 "metadata": {
  "kernelspec": {
   "display_name": "Python 3 (ipykernel)",
   "language": "python",
   "name": "python3"
  },
  "language_info": {
   "codemirror_mode": {
    "name": "ipython",
    "version": 3
   },
   "file_extension": ".py",
   "mimetype": "text/x-python",
   "name": "python",
   "nbconvert_exporter": "python",
   "pygments_lexer": "ipython3",
   "version": "3.8.12"
  }
 },
 "nbformat": 4,
 "nbformat_minor": 5
}
