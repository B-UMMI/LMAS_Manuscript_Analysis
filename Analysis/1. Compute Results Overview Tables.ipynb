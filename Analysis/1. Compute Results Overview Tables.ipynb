{
 "cells": [
  {
   "cell_type": "markdown",
   "metadata": {},
   "source": [
    "# 1. Compute Results Overview Tables"
   ]
  },
  {
   "cell_type": "markdown",
   "metadata": {},
   "source": [
    "The success of an assembly is evaluated by the computation of metrics in two defined ways: globally through statistics inherent to the complete set of sequences that were assembled, and relative to the replicons present in the sample. \n",
    "\n",
    "The computation of the global metrics is done through custom python code from the complete set of sequences assembled. \n",
    "\n",
    "The following metrics are computed for the complete and filtered set of assembled sequences, restricted to contigs of length above a specified minimum size: \n",
    "\n",
    "- **Contig sizes**\n",
    "    - **Contigs:** The total number of contigs in the assembly;\n",
    "    - **Basepairs:** The total number of bases in the assembly;\n",
    "    - **Maximum sequence length:** The length of the largest contig in the assembly.\n",
    "    - **Number of ‘N’s:** Number of uncalled bases (N's) \n",
    "- **Contiguity**\n",
    "    - **Nx (where 0  < x  ⩽ 100):** Length for which the collection of all assembled sequences of that length or longer in an assembly covers at least a given percentage of the total length of the assembly\n",
    "- **Misassembly**\n",
    "    - **Misassemblies** - Number of aligned contigs that contain a misassembly event\n",
    "\n",
    "After filtering, the sequences are mapped with the reference replicons and the metrics are computed through custom python code. The metrics are calculated, filtered for a minimum length, for each replicon in the file provided input references. \n",
    "\n",
    "- **Contig sizes**\n",
    "    - **Contigs:** The total number of contigs in the assembly;\n",
    "    - **Basepairs:** The total number of bases in the assembly;\n",
    "    - **Number of ‘N’s:** Number of uncalled bases (N's) \n",
    "- **COMPASS**\n",
    "    - **(Breadth of) Coverage:** Ratio of covered sequence on the reference by aligned contigs;\n",
    "    - **Multiplicity:** Ratio of the length of alignable assembled sequence to covered sequence on the reference;\n",
    "    - **Validity:** Ratio of the length of the alignable assembled sequence to total basepairs in the aligned contigs;\n",
    "    - **Parsimony:** Cost of the assembly (multiplicity over validity);\n",
    "- **Contiguity**\n",
    "    - **Contiguity:** longest single alignment between the assembly and the reference, relative to the reference length;\n",
    "    - **NAx (where 0  < x  ⩽ 100):** Length for which the collection of aligned assembled sequences of that length or longer in an assembly covers at least a given percentage of the total length of the reference replicon;\n",
    "    - **NGx (where 0  < x  ⩽ 100):** Length for which the collection of aligned contigs of that length or longer covers at least a given percentage of the sequence of the reference.\n",
    "    - **Lx (where 0  < x  ⩽ 100):** Minimal number of contigs that cover x % of the sequence of the reference;\n",
    "- **Identity**\n",
    "    - **Identity:** Ratio of identical basepairs in all aligned contigs to the reference;\n",
    "    - **Lowest identity:** Identity of the lowest scoring contig to the reference.\n",
    "    - **PLS**: Phred-like score per contig, per assembler.\n",
    "- **Misassembly**\n",
    "    - **Misassemblies** - Number of aligned contigs that contain a misassembly event\n"
   ]
  },
  {
   "cell_type": "markdown",
   "metadata": {},
   "source": [
    "## Imports"
   ]
  },
  {
   "cell_type": "code",
   "execution_count": 21,
   "metadata": {
    "scrolled": true
   },
   "outputs": [],
   "source": [
    "import sys\n",
    "from plotly.offline import plot\n",
    "import glob\n",
    "import fnmatch\n",
    "import plotly.graph_objects as go\n",
    "from plotly.subplots import make_subplots\n",
    "import json\n",
    "import pandas as pd\n",
    "from itertools import groupby\n",
    "import csv\n",
    "import numpy as np"
   ]
  },
  {
   "cell_type": "markdown",
   "metadata": {},
   "source": [
    "## Global variables"
   ]
  },
  {
   "cell_type": "code",
   "execution_count": 87,
   "metadata": {
    "scrolled": true
   },
   "outputs": [],
   "source": [
    "ASSEMBLER_PROCESS_LIST = [\"ABYSS\", \"BCALM2\", \"GATBMINIAPIPELINE\", \"METAHIPMER2\", \"MINIA\", \"MEGAHIT\", \"METASPADES\", \"UNICYCLER\", \"SPADES\",\n",
    "                          \"SKESA\", \"VELVETOPTIMIZER\", \"IDBA\"]\n",
    "PROCESS_TO_NAME = {\"ABYSS\": \"AbYSS\",\n",
    "                   \"BCALM2\": \"BCALM2\", \n",
    "                   \"GATBMINIAPIPELINE\": \"GATBMiniaPipeline\",\n",
    "                   \"METAHIPMER2\": \"MetaHipMer2\",\n",
    "                   \"MINIA\": \"MINIA\",\n",
    "                   \"MEGAHIT\": \"MEGAHIT\", \n",
    "                   \"METASPADES\": \"metaSPAdes\", \n",
    "                   \"UNICYCLER\": \"Unicycler\", \n",
    "                   \"SPADES\": \"SPAdes\",\n",
    "                    \"SKESA\": \"SKESA\",\n",
    "                   \"VELVETOPTIMIZER\": \"VelvetOptimizer\",\n",
    "                   \"IDBA\": \"IDBA-UD\"}\n",
    "\n",
    "log_distributed = ['LHS', 'LNN', 'ERR2935805']\n",
    "even_distribution = ['EMS', 'LNN', 'ERR2984773']\n",
    "\n",
    "genomic_assemblers = ['ABySS', 'BCALM2', 'MINIA', 'SKESA', 'SPAdes', 'Unicycler', 'VelvetOptimizer']\n",
    "metagenomic_assemblers = ['MetaHipMer2','GATBMiniaPipeline', 'IDBA-UD', 'MEGAHIT', 'metaSPAdes']\n",
    "single_kmer = ['BCALM2', 'MINIA', 'ABySS']\n",
    "multiple_kmer = ['SKESA', 'SPAdes', 'Unicycler', 'VelvetOptimizer', 'GATBMiniaPipeline', \n",
    "                 'IDBA-UD', 'MEGAHIT', 'metaSPAdes', 'MetaHipMer2']\n",
    "\n",
    "best_min = ['Ns', 'contigs', 'filtered_Ns', 'filtered_contigs','misassembled contigs','misassembly events']\n",
    "best_max = ['basepairs','filtered_basepairs','filtered_mapped_reads','filtered_n50','mapped_reads','max_contig','n50']\n",
    "\n",
    "COLOURS = ['#5876c8', '#58AEC8', '#009392', '#39B185', '#9CCB86', '#E9E29C', '#EEB479', '#E88471', '#CF597E', '#a54765', '#a42a2a', '#835221', 'darkgray']"
   ]
  },
  {
   "cell_type": "markdown",
   "metadata": {},
   "source": [
    "## Global metrics"
   ]
  },
  {
   "cell_type": "markdown",
   "metadata": {},
   "source": [
    "### Load data"
   ]
  },
  {
   "cell_type": "code",
   "execution_count": 23,
   "metadata": {
    "scrolled": true
   },
   "outputs": [
    {
     "name": "stdout",
     "output_type": "stream",
     "text": [
      "Processing pipeline_report_tables.json data from run3...\n",
      "Processing pipeline_report_tables.json data from run2...\n",
      "Processing pipeline_report_tables.json data from run1...\n",
      "Processing pipeline_report_tables.json data from run3...\n",
      "Processing pipeline_report_tables.json data from run2...\n"
     ]
    }
   ],
   "source": [
    "report_glob = glob.glob('../Results/*/*/report/pipeline_report_tables.json')\n",
    "global_pipeline_metrics_df = pd.DataFrame()\n",
    "\n",
    "for pipeline_report_file in report_glob:\n",
    "    report_file_name = pipeline_report_file.split('/')[-1]\n",
    "    stats_run = pipeline_report_file.split('/')[-3]\n",
    "    print('Processing {0} data from {1}...'.format(report_file_name, stats_run))\n",
    "    \n",
    "    with open(pipeline_report_file) as _fh:\n",
    "        json_report = json.load(_fh)\n",
    "        for sample in json_report.keys():\n",
    "            for line in json_report[sample]['GlobalTable']:\n",
    "                assembler = line['assembler']\n",
    "                global_pipeline_metrics_df = global_pipeline_metrics_df.append({'run': stats_run,\n",
    "                                                                                'sample': sample,\n",
    "                                                                                'assembler': line['assembler'],\n",
    "                                                                                'contigs': int(line['original']['contigs']),\n",
    "                                                                                'basepairs': int(line['original']['basepairs']),\n",
    "                                                                                'max_contig': int(line['original']['max_contig_size']),\n",
    "                                                                                'n50': int(line['original']['N50']),\n",
    "                                                                                'mapped_reads': line['original']['mapped_reads'],\n",
    "                                                                                'Ns': int(line['original']['Ns']),\n",
    "                                                                                'misassembled contigs': line['filtered']['misassembled_contigs'],\n",
    "                                                                                'misassembly events': line['filtered']['misassembly_events'],\n",
    "                                                                                'filtered_contigs': line['filtered']['contigs'],\n",
    "                                                                                'filtered_basepairs': line['filtered']['basepairs'],\n",
    "                                                                                'filtered_n50': line['filtered']['N50'],\n",
    "                                                                                'filtered_Ns': line['filtered']['Ns'],\n",
    "                                                                                'filtered_mapped_reads': line['filtered']['mapped_reads'],\n",
    "                                                                               },\n",
    "                                                                               ignore_index=True)\n",
    "global_pipeline_metrics_df['distribution'] = np.where(global_pipeline_metrics_df['sample'].isin(log_distributed), 'Log', 'Even')\n",
    "global_pipeline_metrics_df['type'] = np.where(global_pipeline_metrics_df['assembler'].isin(genomic_assemblers), 'Genomic', 'Metagenomic')\n",
    "global_pipeline_metrics_df['algorythm'] = np.where(global_pipeline_metrics_df['assembler'].isin(single_kmer), 'Single k-mer De Bruijn graph', 'Multiple k-mer De Bruijn graph')\n",
    "global_pipeline_metrics_df[['contigs','basepairs','max_contig', 'Ns','n50', 'filtered_n50','misassembled contigs', 'misassembly events']] = global_pipeline_metrics_df[['contigs','basepairs','max_contig', 'Ns','n50','filtered_n50','misassembled contigs', 'misassembly events']].apply(pd.to_numeric)"
   ]
  },
  {
   "cell_type": "markdown",
   "metadata": {},
   "source": [
    "### Preview data"
   ]
  },
  {
   "cell_type": "code",
   "execution_count": 24,
   "metadata": {
    "scrolled": true
   },
   "outputs": [
    {
     "data": {
      "text/plain": [
       "Ns                       float64\n",
       "assembler                 object\n",
       "basepairs                float64\n",
       "contigs                  float64\n",
       "filtered_Ns              float64\n",
       "filtered_basepairs       float64\n",
       "filtered_contigs         float64\n",
       "filtered_mapped_reads    float64\n",
       "filtered_n50             float64\n",
       "mapped_reads             float64\n",
       "max_contig               float64\n",
       "misassembled contigs     float64\n",
       "misassembly events       float64\n",
       "n50                      float64\n",
       "run                       object\n",
       "sample                    object\n",
       "distribution              object\n",
       "type                      object\n",
       "algorythm                 object\n",
       "dtype: object"
      ]
     },
     "execution_count": 24,
     "metadata": {},
     "output_type": "execute_result"
    }
   ],
   "source": [
    "global_pipeline_metrics_df.dtypes"
   ]
  },
  {
   "cell_type": "code",
   "execution_count": 25,
   "metadata": {
    "scrolled": true
   },
   "outputs": [
    {
     "data": {
      "text/html": [
       "<div>\n",
       "<style scoped>\n",
       "    .dataframe tbody tr th:only-of-type {\n",
       "        vertical-align: middle;\n",
       "    }\n",
       "\n",
       "    .dataframe tbody tr th {\n",
       "        vertical-align: top;\n",
       "    }\n",
       "\n",
       "    .dataframe thead th {\n",
       "        text-align: right;\n",
       "    }\n",
       "</style>\n",
       "<table border=\"1\" class=\"dataframe\">\n",
       "  <thead>\n",
       "    <tr style=\"text-align: right;\">\n",
       "      <th></th>\n",
       "      <th>Ns</th>\n",
       "      <th>assembler</th>\n",
       "      <th>basepairs</th>\n",
       "      <th>contigs</th>\n",
       "      <th>filtered_Ns</th>\n",
       "      <th>filtered_basepairs</th>\n",
       "      <th>filtered_contigs</th>\n",
       "      <th>filtered_mapped_reads</th>\n",
       "      <th>filtered_n50</th>\n",
       "      <th>mapped_reads</th>\n",
       "      <th>max_contig</th>\n",
       "      <th>misassembled contigs</th>\n",
       "      <th>misassembly events</th>\n",
       "      <th>n50</th>\n",
       "      <th>run</th>\n",
       "      <th>sample</th>\n",
       "      <th>distribution</th>\n",
       "      <th>type</th>\n",
       "      <th>algorythm</th>\n",
       "    </tr>\n",
       "  </thead>\n",
       "  <tbody>\n",
       "    <tr>\n",
       "      <th>0</th>\n",
       "      <td>1345.0</td>\n",
       "      <td>ABySS</td>\n",
       "      <td>20132244.0</td>\n",
       "      <td>44619.0</td>\n",
       "      <td>400.0</td>\n",
       "      <td>13573790.0</td>\n",
       "      <td>1211.0</td>\n",
       "      <td>98.901529</td>\n",
       "      <td>192306.0</td>\n",
       "      <td>99.851184</td>\n",
       "      <td>851314.0</td>\n",
       "      <td>0.0</td>\n",
       "      <td>0.0</td>\n",
       "      <td>9569.0</td>\n",
       "      <td>run3</td>\n",
       "      <td>LNN</td>\n",
       "      <td>Log</td>\n",
       "      <td>Genomic</td>\n",
       "      <td>Single k-mer De Bruijn graph</td>\n",
       "    </tr>\n",
       "    <tr>\n",
       "      <th>1</th>\n",
       "      <td>0.0</td>\n",
       "      <td>BCALM2</td>\n",
       "      <td>19635512.0</td>\n",
       "      <td>44825.0</td>\n",
       "      <td>0.0</td>\n",
       "      <td>13397815.0</td>\n",
       "      <td>784.0</td>\n",
       "      <td>97.222124</td>\n",
       "      <td>31436.0</td>\n",
       "      <td>98.306950</td>\n",
       "      <td>163543.0</td>\n",
       "      <td>0.0</td>\n",
       "      <td>0.0</td>\n",
       "      <td>18682.0</td>\n",
       "      <td>run3</td>\n",
       "      <td>LNN</td>\n",
       "      <td>Log</td>\n",
       "      <td>Genomic</td>\n",
       "      <td>Single k-mer De Bruijn graph</td>\n",
       "    </tr>\n",
       "    <tr>\n",
       "      <th>2</th>\n",
       "      <td>0.0</td>\n",
       "      <td>GATBMiniaPipeline</td>\n",
       "      <td>13911245.0</td>\n",
       "      <td>693.0</td>\n",
       "      <td>0.0</td>\n",
       "      <td>13658336.0</td>\n",
       "      <td>219.0</td>\n",
       "      <td>98.807198</td>\n",
       "      <td>140561.0</td>\n",
       "      <td>99.719684</td>\n",
       "      <td>632215.0</td>\n",
       "      <td>1.0</td>\n",
       "      <td>3.0</td>\n",
       "      <td>136741.0</td>\n",
       "      <td>run3</td>\n",
       "      <td>LNN</td>\n",
       "      <td>Log</td>\n",
       "      <td>Metagenomic</td>\n",
       "      <td>Multiple k-mer De Bruijn graph</td>\n",
       "    </tr>\n",
       "    <tr>\n",
       "      <th>3</th>\n",
       "      <td>0.0</td>\n",
       "      <td>IDBA-UD</td>\n",
       "      <td>14324920.0</td>\n",
       "      <td>1987.0</td>\n",
       "      <td>0.0</td>\n",
       "      <td>13642314.0</td>\n",
       "      <td>261.0</td>\n",
       "      <td>98.951939</td>\n",
       "      <td>108043.0</td>\n",
       "      <td>99.694880</td>\n",
       "      <td>585610.0</td>\n",
       "      <td>2.0</td>\n",
       "      <td>2.0</td>\n",
       "      <td>105808.0</td>\n",
       "      <td>run3</td>\n",
       "      <td>LNN</td>\n",
       "      <td>Log</td>\n",
       "      <td>Metagenomic</td>\n",
       "      <td>Multiple k-mer De Bruijn graph</td>\n",
       "    </tr>\n",
       "    <tr>\n",
       "      <th>4</th>\n",
       "      <td>0.0</td>\n",
       "      <td>MEGAHIT</td>\n",
       "      <td>14402555.0</td>\n",
       "      <td>1842.0</td>\n",
       "      <td>0.0</td>\n",
       "      <td>13704539.0</td>\n",
       "      <td>172.0</td>\n",
       "      <td>99.686862</td>\n",
       "      <td>210993.0</td>\n",
       "      <td>99.765145</td>\n",
       "      <td>1080013.0</td>\n",
       "      <td>1.0</td>\n",
       "      <td>2.0</td>\n",
       "      <td>203548.0</td>\n",
       "      <td>run3</td>\n",
       "      <td>LNN</td>\n",
       "      <td>Log</td>\n",
       "      <td>Metagenomic</td>\n",
       "      <td>Multiple k-mer De Bruijn graph</td>\n",
       "    </tr>\n",
       "    <tr>\n",
       "      <th>...</th>\n",
       "      <td>...</td>\n",
       "      <td>...</td>\n",
       "      <td>...</td>\n",
       "      <td>...</td>\n",
       "      <td>...</td>\n",
       "      <td>...</td>\n",
       "      <td>...</td>\n",
       "      <td>...</td>\n",
       "      <td>...</td>\n",
       "      <td>...</td>\n",
       "      <td>...</td>\n",
       "      <td>...</td>\n",
       "      <td>...</td>\n",
       "      <td>...</td>\n",
       "      <td>...</td>\n",
       "      <td>...</td>\n",
       "      <td>...</td>\n",
       "      <td>...</td>\n",
       "      <td>...</td>\n",
       "    </tr>\n",
       "    <tr>\n",
       "      <th>211</th>\n",
       "      <td>0.0</td>\n",
       "      <td>MINIA</td>\n",
       "      <td>30648944.0</td>\n",
       "      <td>16748.0</td>\n",
       "      <td>0.0</td>\n",
       "      <td>28218335.0</td>\n",
       "      <td>3574.0</td>\n",
       "      <td>92.157082</td>\n",
       "      <td>20782.0</td>\n",
       "      <td>95.935753</td>\n",
       "      <td>161812.0</td>\n",
       "      <td>0.0</td>\n",
       "      <td>0.0</td>\n",
       "      <td>17967.0</td>\n",
       "      <td>run2</td>\n",
       "      <td>EMS</td>\n",
       "      <td>Even</td>\n",
       "      <td>Genomic</td>\n",
       "      <td>Single k-mer De Bruijn graph</td>\n",
       "    </tr>\n",
       "    <tr>\n",
       "      <th>212</th>\n",
       "      <td>0.0</td>\n",
       "      <td>SKESA</td>\n",
       "      <td>30249132.0</td>\n",
       "      <td>1269.0</td>\n",
       "      <td>0.0</td>\n",
       "      <td>30064811.0</td>\n",
       "      <td>891.0</td>\n",
       "      <td>97.237351</td>\n",
       "      <td>74138.0</td>\n",
       "      <td>97.952533</td>\n",
       "      <td>632013.0</td>\n",
       "      <td>9.0</td>\n",
       "      <td>18.0</td>\n",
       "      <td>73839.0</td>\n",
       "      <td>run2</td>\n",
       "      <td>EMS</td>\n",
       "      <td>Even</td>\n",
       "      <td>Genomic</td>\n",
       "      <td>Multiple k-mer De Bruijn graph</td>\n",
       "    </tr>\n",
       "    <tr>\n",
       "      <th>213</th>\n",
       "      <td>0.0</td>\n",
       "      <td>SPAdes</td>\n",
       "      <td>30664883.0</td>\n",
       "      <td>2628.0</td>\n",
       "      <td>0.0</td>\n",
       "      <td>30354786.0</td>\n",
       "      <td>412.0</td>\n",
       "      <td>98.283354</td>\n",
       "      <td>208991.0</td>\n",
       "      <td>98.700052</td>\n",
       "      <td>850176.0</td>\n",
       "      <td>0.0</td>\n",
       "      <td>0.0</td>\n",
       "      <td>206515.0</td>\n",
       "      <td>run2</td>\n",
       "      <td>EMS</td>\n",
       "      <td>Even</td>\n",
       "      <td>Genomic</td>\n",
       "      <td>Multiple k-mer De Bruijn graph</td>\n",
       "    </tr>\n",
       "    <tr>\n",
       "      <th>214</th>\n",
       "      <td>0.0</td>\n",
       "      <td>Unicycler</td>\n",
       "      <td>30301867.0</td>\n",
       "      <td>656.0</td>\n",
       "      <td>0.0</td>\n",
       "      <td>30188943.0</td>\n",
       "      <td>334.0</td>\n",
       "      <td>97.609864</td>\n",
       "      <td>245050.0</td>\n",
       "      <td>98.457135</td>\n",
       "      <td>1303875.0</td>\n",
       "      <td>0.0</td>\n",
       "      <td>0.0</td>\n",
       "      <td>245050.0</td>\n",
       "      <td>run2</td>\n",
       "      <td>EMS</td>\n",
       "      <td>Even</td>\n",
       "      <td>Genomic</td>\n",
       "      <td>Multiple k-mer De Bruijn graph</td>\n",
       "    </tr>\n",
       "    <tr>\n",
       "      <th>215</th>\n",
       "      <td>4383.0</td>\n",
       "      <td>VelvetOptimiser</td>\n",
       "      <td>30526291.0</td>\n",
       "      <td>11069.0</td>\n",
       "      <td>4383.0</td>\n",
       "      <td>28467054.0</td>\n",
       "      <td>3035.0</td>\n",
       "      <td>92.222039</td>\n",
       "      <td>33291.0</td>\n",
       "      <td>95.850546</td>\n",
       "      <td>847777.0</td>\n",
       "      <td>6.0</td>\n",
       "      <td>11.0</td>\n",
       "      <td>29176.0</td>\n",
       "      <td>run2</td>\n",
       "      <td>EMS</td>\n",
       "      <td>Even</td>\n",
       "      <td>Metagenomic</td>\n",
       "      <td>Multiple k-mer De Bruijn graph</td>\n",
       "    </tr>\n",
       "  </tbody>\n",
       "</table>\n",
       "<p>216 rows × 19 columns</p>\n",
       "</div>"
      ],
      "text/plain": [
       "         Ns          assembler   basepairs  contigs  filtered_Ns  \\\n",
       "0    1345.0              ABySS  20132244.0  44619.0        400.0   \n",
       "1       0.0             BCALM2  19635512.0  44825.0          0.0   \n",
       "2       0.0  GATBMiniaPipeline  13911245.0    693.0          0.0   \n",
       "3       0.0            IDBA-UD  14324920.0   1987.0          0.0   \n",
       "4       0.0            MEGAHIT  14402555.0   1842.0          0.0   \n",
       "..      ...                ...         ...      ...          ...   \n",
       "211     0.0              MINIA  30648944.0  16748.0          0.0   \n",
       "212     0.0              SKESA  30249132.0   1269.0          0.0   \n",
       "213     0.0             SPAdes  30664883.0   2628.0          0.0   \n",
       "214     0.0          Unicycler  30301867.0    656.0          0.0   \n",
       "215  4383.0    VelvetOptimiser  30526291.0  11069.0       4383.0   \n",
       "\n",
       "     filtered_basepairs  filtered_contigs  filtered_mapped_reads  \\\n",
       "0            13573790.0            1211.0              98.901529   \n",
       "1            13397815.0             784.0              97.222124   \n",
       "2            13658336.0             219.0              98.807198   \n",
       "3            13642314.0             261.0              98.951939   \n",
       "4            13704539.0             172.0              99.686862   \n",
       "..                  ...               ...                    ...   \n",
       "211          28218335.0            3574.0              92.157082   \n",
       "212          30064811.0             891.0              97.237351   \n",
       "213          30354786.0             412.0              98.283354   \n",
       "214          30188943.0             334.0              97.609864   \n",
       "215          28467054.0            3035.0              92.222039   \n",
       "\n",
       "     filtered_n50  mapped_reads  max_contig  misassembled contigs  \\\n",
       "0        192306.0     99.851184    851314.0                   0.0   \n",
       "1         31436.0     98.306950    163543.0                   0.0   \n",
       "2        140561.0     99.719684    632215.0                   1.0   \n",
       "3        108043.0     99.694880    585610.0                   2.0   \n",
       "4        210993.0     99.765145   1080013.0                   1.0   \n",
       "..            ...           ...         ...                   ...   \n",
       "211       20782.0     95.935753    161812.0                   0.0   \n",
       "212       74138.0     97.952533    632013.0                   9.0   \n",
       "213      208991.0     98.700052    850176.0                   0.0   \n",
       "214      245050.0     98.457135   1303875.0                   0.0   \n",
       "215       33291.0     95.850546    847777.0                   6.0   \n",
       "\n",
       "     misassembly events       n50   run sample distribution         type  \\\n",
       "0                   0.0    9569.0  run3    LNN          Log      Genomic   \n",
       "1                   0.0   18682.0  run3    LNN          Log      Genomic   \n",
       "2                   3.0  136741.0  run3    LNN          Log  Metagenomic   \n",
       "3                   2.0  105808.0  run3    LNN          Log  Metagenomic   \n",
       "4                   2.0  203548.0  run3    LNN          Log  Metagenomic   \n",
       "..                  ...       ...   ...    ...          ...          ...   \n",
       "211                 0.0   17967.0  run2    EMS         Even      Genomic   \n",
       "212                18.0   73839.0  run2    EMS         Even      Genomic   \n",
       "213                 0.0  206515.0  run2    EMS         Even      Genomic   \n",
       "214                 0.0  245050.0  run2    EMS         Even      Genomic   \n",
       "215                11.0   29176.0  run2    EMS         Even  Metagenomic   \n",
       "\n",
       "                          algorythm  \n",
       "0      Single k-mer De Bruijn graph  \n",
       "1      Single k-mer De Bruijn graph  \n",
       "2    Multiple k-mer De Bruijn graph  \n",
       "3    Multiple k-mer De Bruijn graph  \n",
       "4    Multiple k-mer De Bruijn graph  \n",
       "..                              ...  \n",
       "211    Single k-mer De Bruijn graph  \n",
       "212  Multiple k-mer De Bruijn graph  \n",
       "213  Multiple k-mer De Bruijn graph  \n",
       "214  Multiple k-mer De Bruijn graph  \n",
       "215  Multiple k-mer De Bruijn graph  \n",
       "\n",
       "[216 rows x 19 columns]"
      ]
     },
     "execution_count": 25,
     "metadata": {},
     "output_type": "execute_result"
    }
   ],
   "source": [
    "global_pipeline_metrics_df"
   ]
  },
  {
   "cell_type": "markdown",
   "metadata": {},
   "source": [
    "### Save data"
   ]
  },
  {
   "cell_type": "code",
   "execution_count": 26,
   "metadata": {
    "scrolled": true
   },
   "outputs": [],
   "source": [
    "global_pipeline_metrics_df.to_csv(\"Tables/Results/Global metrics.csv\")"
   ]
  },
  {
   "cell_type": "markdown",
   "metadata": {},
   "source": [
    "### Global stats per assembler - per sample"
   ]
  },
  {
   "cell_type": "markdown",
   "metadata": {},
   "source": [
    "#### Values"
   ]
  },
  {
   "cell_type": "code",
   "execution_count": 27,
   "metadata": {
    "scrolled": false
   },
   "outputs": [
    {
     "name": "stdout",
     "output_type": "stream",
     "text": [
      "LNN\n"
     ]
    },
    {
     "data": {
      "text/html": [
       "<div>\n",
       "<style scoped>\n",
       "    .dataframe tbody tr th:only-of-type {\n",
       "        vertical-align: middle;\n",
       "    }\n",
       "\n",
       "    .dataframe tbody tr th {\n",
       "        vertical-align: top;\n",
       "    }\n",
       "\n",
       "    .dataframe thead th {\n",
       "        text-align: right;\n",
       "    }\n",
       "</style>\n",
       "<table border=\"1\" class=\"dataframe\">\n",
       "  <thead>\n",
       "    <tr style=\"text-align: right;\">\n",
       "      <th></th>\n",
       "      <th></th>\n",
       "      <th></th>\n",
       "      <th>Ns</th>\n",
       "      <th>basepairs</th>\n",
       "      <th>contigs</th>\n",
       "      <th>filtered_Ns</th>\n",
       "      <th>filtered_basepairs</th>\n",
       "      <th>filtered_contigs</th>\n",
       "      <th>filtered_mapped_reads</th>\n",
       "      <th>filtered_n50</th>\n",
       "      <th>mapped_reads</th>\n",
       "      <th>max_contig</th>\n",
       "      <th>misassembled contigs</th>\n",
       "      <th>misassembly events</th>\n",
       "      <th>n50</th>\n",
       "    </tr>\n",
       "    <tr>\n",
       "      <th>Assembler</th>\n",
       "      <th>Algorithm</th>\n",
       "      <th>Type</th>\n",
       "      <th></th>\n",
       "      <th></th>\n",
       "      <th></th>\n",
       "      <th></th>\n",
       "      <th></th>\n",
       "      <th></th>\n",
       "      <th></th>\n",
       "      <th></th>\n",
       "      <th></th>\n",
       "      <th></th>\n",
       "      <th></th>\n",
       "      <th></th>\n",
       "      <th></th>\n",
       "    </tr>\n",
       "  </thead>\n",
       "  <tbody>\n",
       "    <tr>\n",
       "      <th>ABySS</th>\n",
       "      <th>Single k-mer De Bruijn graph</th>\n",
       "      <th>Genomic</th>\n",
       "      <td>1345.67 [1345;1347]</td>\n",
       "      <td>20132373.0 [20132244;20132631]</td>\n",
       "      <td>44619.67 [44619;44621]</td>\n",
       "      <td>400.0 [400;400]</td>\n",
       "      <td>13573771.33 [13573734;13573790]</td>\n",
       "      <td>1211.33 [1211;1212]</td>\n",
       "      <td>98.9 [98;98]</td>\n",
       "      <td>192306.0 [192306;192306]</td>\n",
       "      <td>99.85 [99;99]</td>\n",
       "      <td>851314.0 [851314;851314]</td>\n",
       "      <td>0.0 [0;0]</td>\n",
       "      <td>0.0 [0;0]</td>\n",
       "      <td>9569.0 [9569;9569]</td>\n",
       "    </tr>\n",
       "    <tr>\n",
       "      <th>BCALM2</th>\n",
       "      <th>Single k-mer De Bruijn graph</th>\n",
       "      <th>Genomic</th>\n",
       "      <td>0.0 [0;0]</td>\n",
       "      <td>19635512.0 [19635512;19635512]</td>\n",
       "      <td>44825.0 [44825;44825]</td>\n",
       "      <td>0.0 [0;0]</td>\n",
       "      <td>13397815.0 [13397815;13397815]</td>\n",
       "      <td>784.0 [784;784]</td>\n",
       "      <td>97.22 [97;97]</td>\n",
       "      <td>31436.0 [31436;31436]</td>\n",
       "      <td>98.31 [98;98]</td>\n",
       "      <td>163543.0 [163543;163543]</td>\n",
       "      <td>0.0 [0;0]</td>\n",
       "      <td>0.0 [0;0]</td>\n",
       "      <td>18682.0 [18682;18682]</td>\n",
       "    </tr>\n",
       "    <tr>\n",
       "      <th>GATBMiniaPipeline</th>\n",
       "      <th>Multiple k-mer De Bruijn graph</th>\n",
       "      <th>Metagenomic</th>\n",
       "      <td>0.0 [0;0]</td>\n",
       "      <td>13911109.33 [13910838;13911245]</td>\n",
       "      <td>693.0 [693;693]</td>\n",
       "      <td>0.0 [0;0]</td>\n",
       "      <td>13658336.0 [13658336;13658336]</td>\n",
       "      <td>219.0 [219;219]</td>\n",
       "      <td>98.81 [98;98]</td>\n",
       "      <td>140561.0 [140561;140561]</td>\n",
       "      <td>99.72 [99;99]</td>\n",
       "      <td>632215.0 [632215;632215]</td>\n",
       "      <td>1.0 [1;1]</td>\n",
       "      <td>3.0 [3;3]</td>\n",
       "      <td>136741.0 [136741;136741]</td>\n",
       "    </tr>\n",
       "    <tr>\n",
       "      <th>IDBA-UD</th>\n",
       "      <th>Multiple k-mer De Bruijn graph</th>\n",
       "      <th>Metagenomic</th>\n",
       "      <td>0.0 [0;0]</td>\n",
       "      <td>14324862.33 [14324747;14324920]</td>\n",
       "      <td>1987.0 [1987;1987]</td>\n",
       "      <td>0.0 [0;0]</td>\n",
       "      <td>13642314.0 [13642314;13642314]</td>\n",
       "      <td>261.0 [261;261]</td>\n",
       "      <td>98.95 [98;98]</td>\n",
       "      <td>108043.0 [108043;108043]</td>\n",
       "      <td>99.69 [99;99]</td>\n",
       "      <td>585610.0 [585610;585610]</td>\n",
       "      <td>2.0 [2;2]</td>\n",
       "      <td>2.0 [2;2]</td>\n",
       "      <td>105808.0 [105808;105808]</td>\n",
       "    </tr>\n",
       "    <tr>\n",
       "      <th>MEGAHIT</th>\n",
       "      <th>Multiple k-mer De Bruijn graph</th>\n",
       "      <th>Metagenomic</th>\n",
       "      <td>0.0 [0;0]</td>\n",
       "      <td>14402555.0 [14402555;14402555]</td>\n",
       "      <td>1842.0 [1842;1842]</td>\n",
       "      <td>0.0 [0;0]</td>\n",
       "      <td>13704539.0 [13704539;13704539]</td>\n",
       "      <td>172.0 [172;172]</td>\n",
       "      <td>99.69 [99;99]</td>\n",
       "      <td>210993.0 [210993;210993]</td>\n",
       "      <td>99.77 [99;99]</td>\n",
       "      <td>1080013.0 [1080013;1080013]</td>\n",
       "      <td>1.0 [1;1]</td>\n",
       "      <td>2.0 [2;2]</td>\n",
       "      <td>203548.0 [203548;203548]</td>\n",
       "    </tr>\n",
       "    <tr>\n",
       "      <th>MetaHipMer2</th>\n",
       "      <th>Multiple k-mer De Bruijn graph</th>\n",
       "      <th>Metagenomic</th>\n",
       "      <td>0.0 [0;0]</td>\n",
       "      <td>0.0 [0;0]</td>\n",
       "      <td>0.0 [0;0]</td>\n",
       "      <td>0.0 [0;0]</td>\n",
       "      <td>0.0 [0;0]</td>\n",
       "      <td>0.0 [0;0]</td>\n",
       "      <td>0.0 [0;0]</td>\n",
       "      <td>0.0 [0;0]</td>\n",
       "      <td>0.0 [0;0]</td>\n",
       "      <td>0.0 [0;0]</td>\n",
       "      <td>0.0 [0;0]</td>\n",
       "      <td>0.0 [0;0]</td>\n",
       "      <td>0.0 [0;0]</td>\n",
       "    </tr>\n",
       "    <tr>\n",
       "      <th>metaSPAdes</th>\n",
       "      <th>Multiple k-mer De Bruijn graph</th>\n",
       "      <th>Metagenomic</th>\n",
       "      <td>0.0 [0;0]</td>\n",
       "      <td>15514698.0 [15514698;15514698]</td>\n",
       "      <td>6700.0 [6700;6700]</td>\n",
       "      <td>0.0 [0;0]</td>\n",
       "      <td>13692577.0 [13692577;13692577]</td>\n",
       "      <td>139.0 [139;139]</td>\n",
       "      <td>99.59 [99;99]</td>\n",
       "      <td>239185.0 [239185;239185]</td>\n",
       "      <td>99.8 [99;99]</td>\n",
       "      <td>850099.0 [850099;850099]</td>\n",
       "      <td>1.0 [1;1]</td>\n",
       "      <td>3.0 [3;3]</td>\n",
       "      <td>220609.0 [220609;220609]</td>\n",
       "    </tr>\n",
       "    <tr>\n",
       "      <th>MINIA</th>\n",
       "      <th>Single k-mer De Bruijn graph</th>\n",
       "      <th>Genomic</th>\n",
       "      <td>0.0 [0;0]</td>\n",
       "      <td>16401048.67 [16401028;16401090]</td>\n",
       "      <td>15000.33 [15000;15001]</td>\n",
       "      <td>0.0 [0;0]</td>\n",
       "      <td>13501499.33 [13501498;13501500]</td>\n",
       "      <td>762.0 [762;762]</td>\n",
       "      <td>97.53 [97;97]</td>\n",
       "      <td>33550.0 [33550;33550]</td>\n",
       "      <td>99.01 [99;99]</td>\n",
       "      <td>177038.0 [177038;177038]</td>\n",
       "      <td>2.0 [2;2]</td>\n",
       "      <td>4.0 [4;4]</td>\n",
       "      <td>26474.0 [26474;26474]</td>\n",
       "    </tr>\n",
       "    <tr>\n",
       "      <th>SKESA</th>\n",
       "      <th>Multiple k-mer De Bruijn graph</th>\n",
       "      <th>Genomic</th>\n",
       "      <td>0.0 [0;0]</td>\n",
       "      <td>8202941.0 [8202941;8202941]</td>\n",
       "      <td>9514.0 [9514;9514]</td>\n",
       "      <td>0.0 [0;0]</td>\n",
       "      <td>4470092.0 [4470092;4470092]</td>\n",
       "      <td>1433.0 [1433;1433]</td>\n",
       "      <td>91.77 [91;91]</td>\n",
       "      <td>7385.0 [7385;7385]</td>\n",
       "      <td>95.1 [95;95]</td>\n",
       "      <td>59272.0 [59272;59272]</td>\n",
       "      <td>12.0 [12;12]</td>\n",
       "      <td>23.0 [23;23]</td>\n",
       "      <td>1155.0 [1155;1155]</td>\n",
       "    </tr>\n",
       "    <tr>\n",
       "      <th>SPAdes</th>\n",
       "      <th>Multiple k-mer De Bruijn graph</th>\n",
       "      <th>Genomic</th>\n",
       "      <td>0.0 [0;0]</td>\n",
       "      <td>15606257.0 [15606257;15606257]</td>\n",
       "      <td>7331.0 [7331;7331]</td>\n",
       "      <td>0.0 [0;0]</td>\n",
       "      <td>13640340.0 [13640340;13640340]</td>\n",
       "      <td>227.0 [227;227]</td>\n",
       "      <td>99.59 [99;99]</td>\n",
       "      <td>136684.0 [136684;136684]</td>\n",
       "      <td>99.71 [99;99]</td>\n",
       "      <td>632639.0 [632639;632639]</td>\n",
       "      <td>0.0 [0;0]</td>\n",
       "      <td>0.0 [0;0]</td>\n",
       "      <td>122703.0 [122703;122703]</td>\n",
       "    </tr>\n",
       "    <tr>\n",
       "      <th>Unicycler</th>\n",
       "      <th>Multiple k-mer De Bruijn graph</th>\n",
       "      <th>Genomic</th>\n",
       "      <td>0.0 [0;0]</td>\n",
       "      <td>11719230.0 [11719230;11719230]</td>\n",
       "      <td>185.0 [185;185]</td>\n",
       "      <td>0.0 [0;0]</td>\n",
       "      <td>11691061.0 [11691061;11691061]</td>\n",
       "      <td>112.0 [112;112]</td>\n",
       "      <td>98.61 [98;98]</td>\n",
       "      <td>242687.0 [242687;242687]</td>\n",
       "      <td>99.23 [99;99]</td>\n",
       "      <td>847534.0 [847534;847534]</td>\n",
       "      <td>0.0 [0;0]</td>\n",
       "      <td>0.0 [0;0]</td>\n",
       "      <td>242687.0 [242687;242687]</td>\n",
       "    </tr>\n",
       "    <tr>\n",
       "      <th>VelvetOptimiser</th>\n",
       "      <th>Multiple k-mer De Bruijn graph</th>\n",
       "      <th>Metagenomic</th>\n",
       "      <td>133957.33 [4932;198470]</td>\n",
       "      <td>19556159.33 [19514935;19638608]</td>\n",
       "      <td>46900.0 [35804;69092]</td>\n",
       "      <td>18653.33 [0;27980]</td>\n",
       "      <td>11568509.67 [7334025;13685752]</td>\n",
       "      <td>1144.67 [209;3016]</td>\n",
       "      <td>91.69 [79;97]</td>\n",
       "      <td>141135.0 [2913;210246]</td>\n",
       "      <td>96.91 [93;98]</td>\n",
       "      <td>570315.67 [15999;847474]</td>\n",
       "      <td>8.0 [0;12]</td>\n",
       "      <td>16.67 [0;25]</td>\n",
       "      <td>79254.0 [520;118621]</td>\n",
       "    </tr>\n",
       "  </tbody>\n",
       "</table>\n",
       "</div>"
      ],
      "text/plain": [
       "                                                                                   Ns  \\\n",
       "Assembler         Algorithm                      Type                                   \n",
       "ABySS             Single k-mer De Bruijn graph   Genomic          1345.67 [1345;1347]   \n",
       "BCALM2            Single k-mer De Bruijn graph   Genomic                    0.0 [0;0]   \n",
       "GATBMiniaPipeline Multiple k-mer De Bruijn graph Metagenomic                0.0 [0;0]   \n",
       "IDBA-UD           Multiple k-mer De Bruijn graph Metagenomic                0.0 [0;0]   \n",
       "MEGAHIT           Multiple k-mer De Bruijn graph Metagenomic                0.0 [0;0]   \n",
       "MetaHipMer2       Multiple k-mer De Bruijn graph Metagenomic                0.0 [0;0]   \n",
       "metaSPAdes        Multiple k-mer De Bruijn graph Metagenomic                0.0 [0;0]   \n",
       "MINIA             Single k-mer De Bruijn graph   Genomic                    0.0 [0;0]   \n",
       "SKESA             Multiple k-mer De Bruijn graph Genomic                    0.0 [0;0]   \n",
       "SPAdes            Multiple k-mer De Bruijn graph Genomic                    0.0 [0;0]   \n",
       "Unicycler         Multiple k-mer De Bruijn graph Genomic                    0.0 [0;0]   \n",
       "VelvetOptimiser   Multiple k-mer De Bruijn graph Metagenomic  133957.33 [4932;198470]   \n",
       "\n",
       "                                                                                    basepairs  \\\n",
       "Assembler         Algorithm                      Type                                           \n",
       "ABySS             Single k-mer De Bruijn graph   Genomic       20132373.0 [20132244;20132631]   \n",
       "BCALM2            Single k-mer De Bruijn graph   Genomic       19635512.0 [19635512;19635512]   \n",
       "GATBMiniaPipeline Multiple k-mer De Bruijn graph Metagenomic  13911109.33 [13910838;13911245]   \n",
       "IDBA-UD           Multiple k-mer De Bruijn graph Metagenomic  14324862.33 [14324747;14324920]   \n",
       "MEGAHIT           Multiple k-mer De Bruijn graph Metagenomic   14402555.0 [14402555;14402555]   \n",
       "MetaHipMer2       Multiple k-mer De Bruijn graph Metagenomic                        0.0 [0;0]   \n",
       "metaSPAdes        Multiple k-mer De Bruijn graph Metagenomic   15514698.0 [15514698;15514698]   \n",
       "MINIA             Single k-mer De Bruijn graph   Genomic      16401048.67 [16401028;16401090]   \n",
       "SKESA             Multiple k-mer De Bruijn graph Genomic          8202941.0 [8202941;8202941]   \n",
       "SPAdes            Multiple k-mer De Bruijn graph Genomic       15606257.0 [15606257;15606257]   \n",
       "Unicycler         Multiple k-mer De Bruijn graph Genomic       11719230.0 [11719230;11719230]   \n",
       "VelvetOptimiser   Multiple k-mer De Bruijn graph Metagenomic  19556159.33 [19514935;19638608]   \n",
       "\n",
       "                                                                             contigs  \\\n",
       "Assembler         Algorithm                      Type                                  \n",
       "ABySS             Single k-mer De Bruijn graph   Genomic      44619.67 [44619;44621]   \n",
       "BCALM2            Single k-mer De Bruijn graph   Genomic       44825.0 [44825;44825]   \n",
       "GATBMiniaPipeline Multiple k-mer De Bruijn graph Metagenomic         693.0 [693;693]   \n",
       "IDBA-UD           Multiple k-mer De Bruijn graph Metagenomic      1987.0 [1987;1987]   \n",
       "MEGAHIT           Multiple k-mer De Bruijn graph Metagenomic      1842.0 [1842;1842]   \n",
       "MetaHipMer2       Multiple k-mer De Bruijn graph Metagenomic               0.0 [0;0]   \n",
       "metaSPAdes        Multiple k-mer De Bruijn graph Metagenomic      6700.0 [6700;6700]   \n",
       "MINIA             Single k-mer De Bruijn graph   Genomic      15000.33 [15000;15001]   \n",
       "SKESA             Multiple k-mer De Bruijn graph Genomic          9514.0 [9514;9514]   \n",
       "SPAdes            Multiple k-mer De Bruijn graph Genomic          7331.0 [7331;7331]   \n",
       "Unicycler         Multiple k-mer De Bruijn graph Genomic             185.0 [185;185]   \n",
       "VelvetOptimiser   Multiple k-mer De Bruijn graph Metagenomic   46900.0 [35804;69092]   \n",
       "\n",
       "                                                                     filtered_Ns  \\\n",
       "Assembler         Algorithm                      Type                              \n",
       "ABySS             Single k-mer De Bruijn graph   Genomic         400.0 [400;400]   \n",
       "BCALM2            Single k-mer De Bruijn graph   Genomic               0.0 [0;0]   \n",
       "GATBMiniaPipeline Multiple k-mer De Bruijn graph Metagenomic           0.0 [0;0]   \n",
       "IDBA-UD           Multiple k-mer De Bruijn graph Metagenomic           0.0 [0;0]   \n",
       "MEGAHIT           Multiple k-mer De Bruijn graph Metagenomic           0.0 [0;0]   \n",
       "MetaHipMer2       Multiple k-mer De Bruijn graph Metagenomic           0.0 [0;0]   \n",
       "metaSPAdes        Multiple k-mer De Bruijn graph Metagenomic           0.0 [0;0]   \n",
       "MINIA             Single k-mer De Bruijn graph   Genomic               0.0 [0;0]   \n",
       "SKESA             Multiple k-mer De Bruijn graph Genomic               0.0 [0;0]   \n",
       "SPAdes            Multiple k-mer De Bruijn graph Genomic               0.0 [0;0]   \n",
       "Unicycler         Multiple k-mer De Bruijn graph Genomic               0.0 [0;0]   \n",
       "VelvetOptimiser   Multiple k-mer De Bruijn graph Metagenomic  18653.33 [0;27980]   \n",
       "\n",
       "                                                                           filtered_basepairs  \\\n",
       "Assembler         Algorithm                      Type                                           \n",
       "ABySS             Single k-mer De Bruijn graph   Genomic      13573771.33 [13573734;13573790]   \n",
       "BCALM2            Single k-mer De Bruijn graph   Genomic       13397815.0 [13397815;13397815]   \n",
       "GATBMiniaPipeline Multiple k-mer De Bruijn graph Metagenomic   13658336.0 [13658336;13658336]   \n",
       "IDBA-UD           Multiple k-mer De Bruijn graph Metagenomic   13642314.0 [13642314;13642314]   \n",
       "MEGAHIT           Multiple k-mer De Bruijn graph Metagenomic   13704539.0 [13704539;13704539]   \n",
       "MetaHipMer2       Multiple k-mer De Bruijn graph Metagenomic                        0.0 [0;0]   \n",
       "metaSPAdes        Multiple k-mer De Bruijn graph Metagenomic   13692577.0 [13692577;13692577]   \n",
       "MINIA             Single k-mer De Bruijn graph   Genomic      13501499.33 [13501498;13501500]   \n",
       "SKESA             Multiple k-mer De Bruijn graph Genomic          4470092.0 [4470092;4470092]   \n",
       "SPAdes            Multiple k-mer De Bruijn graph Genomic       13640340.0 [13640340;13640340]   \n",
       "Unicycler         Multiple k-mer De Bruijn graph Genomic       11691061.0 [11691061;11691061]   \n",
       "VelvetOptimiser   Multiple k-mer De Bruijn graph Metagenomic   11568509.67 [7334025;13685752]   \n",
       "\n",
       "                                                                 filtered_contigs  \\\n",
       "Assembler         Algorithm                      Type                               \n",
       "ABySS             Single k-mer De Bruijn graph   Genomic      1211.33 [1211;1212]   \n",
       "BCALM2            Single k-mer De Bruijn graph   Genomic          784.0 [784;784]   \n",
       "GATBMiniaPipeline Multiple k-mer De Bruijn graph Metagenomic      219.0 [219;219]   \n",
       "IDBA-UD           Multiple k-mer De Bruijn graph Metagenomic      261.0 [261;261]   \n",
       "MEGAHIT           Multiple k-mer De Bruijn graph Metagenomic      172.0 [172;172]   \n",
       "MetaHipMer2       Multiple k-mer De Bruijn graph Metagenomic            0.0 [0;0]   \n",
       "metaSPAdes        Multiple k-mer De Bruijn graph Metagenomic      139.0 [139;139]   \n",
       "MINIA             Single k-mer De Bruijn graph   Genomic          762.0 [762;762]   \n",
       "SKESA             Multiple k-mer De Bruijn graph Genomic       1433.0 [1433;1433]   \n",
       "SPAdes            Multiple k-mer De Bruijn graph Genomic          227.0 [227;227]   \n",
       "Unicycler         Multiple k-mer De Bruijn graph Genomic          112.0 [112;112]   \n",
       "VelvetOptimiser   Multiple k-mer De Bruijn graph Metagenomic   1144.67 [209;3016]   \n",
       "\n",
       "                                                             filtered_mapped_reads  \\\n",
       "Assembler         Algorithm                      Type                                \n",
       "ABySS             Single k-mer De Bruijn graph   Genomic              98.9 [98;98]   \n",
       "BCALM2            Single k-mer De Bruijn graph   Genomic             97.22 [97;97]   \n",
       "GATBMiniaPipeline Multiple k-mer De Bruijn graph Metagenomic         98.81 [98;98]   \n",
       "IDBA-UD           Multiple k-mer De Bruijn graph Metagenomic         98.95 [98;98]   \n",
       "MEGAHIT           Multiple k-mer De Bruijn graph Metagenomic         99.69 [99;99]   \n",
       "MetaHipMer2       Multiple k-mer De Bruijn graph Metagenomic             0.0 [0;0]   \n",
       "metaSPAdes        Multiple k-mer De Bruijn graph Metagenomic         99.59 [99;99]   \n",
       "MINIA             Single k-mer De Bruijn graph   Genomic             97.53 [97;97]   \n",
       "SKESA             Multiple k-mer De Bruijn graph Genomic             91.77 [91;91]   \n",
       "SPAdes            Multiple k-mer De Bruijn graph Genomic             99.59 [99;99]   \n",
       "Unicycler         Multiple k-mer De Bruijn graph Genomic             98.61 [98;98]   \n",
       "VelvetOptimiser   Multiple k-mer De Bruijn graph Metagenomic         91.69 [79;97]   \n",
       "\n",
       "                                                                          filtered_n50  \\\n",
       "Assembler         Algorithm                      Type                                    \n",
       "ABySS             Single k-mer De Bruijn graph   Genomic      192306.0 [192306;192306]   \n",
       "BCALM2            Single k-mer De Bruijn graph   Genomic         31436.0 [31436;31436]   \n",
       "GATBMiniaPipeline Multiple k-mer De Bruijn graph Metagenomic  140561.0 [140561;140561]   \n",
       "IDBA-UD           Multiple k-mer De Bruijn graph Metagenomic  108043.0 [108043;108043]   \n",
       "MEGAHIT           Multiple k-mer De Bruijn graph Metagenomic  210993.0 [210993;210993]   \n",
       "MetaHipMer2       Multiple k-mer De Bruijn graph Metagenomic                 0.0 [0;0]   \n",
       "metaSPAdes        Multiple k-mer De Bruijn graph Metagenomic  239185.0 [239185;239185]   \n",
       "MINIA             Single k-mer De Bruijn graph   Genomic         33550.0 [33550;33550]   \n",
       "SKESA             Multiple k-mer De Bruijn graph Genomic            7385.0 [7385;7385]   \n",
       "SPAdes            Multiple k-mer De Bruijn graph Genomic      136684.0 [136684;136684]   \n",
       "Unicycler         Multiple k-mer De Bruijn graph Genomic      242687.0 [242687;242687]   \n",
       "VelvetOptimiser   Multiple k-mer De Bruijn graph Metagenomic    141135.0 [2913;210246]   \n",
       "\n",
       "                                                               mapped_reads  \\\n",
       "Assembler         Algorithm                      Type                         \n",
       "ABySS             Single k-mer De Bruijn graph   Genomic      99.85 [99;99]   \n",
       "BCALM2            Single k-mer De Bruijn graph   Genomic      98.31 [98;98]   \n",
       "GATBMiniaPipeline Multiple k-mer De Bruijn graph Metagenomic  99.72 [99;99]   \n",
       "IDBA-UD           Multiple k-mer De Bruijn graph Metagenomic  99.69 [99;99]   \n",
       "MEGAHIT           Multiple k-mer De Bruijn graph Metagenomic  99.77 [99;99]   \n",
       "MetaHipMer2       Multiple k-mer De Bruijn graph Metagenomic      0.0 [0;0]   \n",
       "metaSPAdes        Multiple k-mer De Bruijn graph Metagenomic   99.8 [99;99]   \n",
       "MINIA             Single k-mer De Bruijn graph   Genomic      99.01 [99;99]   \n",
       "SKESA             Multiple k-mer De Bruijn graph Genomic       95.1 [95;95]   \n",
       "SPAdes            Multiple k-mer De Bruijn graph Genomic      99.71 [99;99]   \n",
       "Unicycler         Multiple k-mer De Bruijn graph Genomic      99.23 [99;99]   \n",
       "VelvetOptimiser   Multiple k-mer De Bruijn graph Metagenomic  96.91 [93;98]   \n",
       "\n",
       "                                                                               max_contig  \\\n",
       "Assembler         Algorithm                      Type                                       \n",
       "ABySS             Single k-mer De Bruijn graph   Genomic         851314.0 [851314;851314]   \n",
       "BCALM2            Single k-mer De Bruijn graph   Genomic         163543.0 [163543;163543]   \n",
       "GATBMiniaPipeline Multiple k-mer De Bruijn graph Metagenomic     632215.0 [632215;632215]   \n",
       "IDBA-UD           Multiple k-mer De Bruijn graph Metagenomic     585610.0 [585610;585610]   \n",
       "MEGAHIT           Multiple k-mer De Bruijn graph Metagenomic  1080013.0 [1080013;1080013]   \n",
       "MetaHipMer2       Multiple k-mer De Bruijn graph Metagenomic                    0.0 [0;0]   \n",
       "metaSPAdes        Multiple k-mer De Bruijn graph Metagenomic     850099.0 [850099;850099]   \n",
       "MINIA             Single k-mer De Bruijn graph   Genomic         177038.0 [177038;177038]   \n",
       "SKESA             Multiple k-mer De Bruijn graph Genomic            59272.0 [59272;59272]   \n",
       "SPAdes            Multiple k-mer De Bruijn graph Genomic         632639.0 [632639;632639]   \n",
       "Unicycler         Multiple k-mer De Bruijn graph Genomic         847534.0 [847534;847534]   \n",
       "VelvetOptimiser   Multiple k-mer De Bruijn graph Metagenomic     570315.67 [15999;847474]   \n",
       "\n",
       "                                                             misassembled contigs  \\\n",
       "Assembler         Algorithm                      Type                               \n",
       "ABySS             Single k-mer De Bruijn graph   Genomic                0.0 [0;0]   \n",
       "BCALM2            Single k-mer De Bruijn graph   Genomic                0.0 [0;0]   \n",
       "GATBMiniaPipeline Multiple k-mer De Bruijn graph Metagenomic            1.0 [1;1]   \n",
       "IDBA-UD           Multiple k-mer De Bruijn graph Metagenomic            2.0 [2;2]   \n",
       "MEGAHIT           Multiple k-mer De Bruijn graph Metagenomic            1.0 [1;1]   \n",
       "MetaHipMer2       Multiple k-mer De Bruijn graph Metagenomic            0.0 [0;0]   \n",
       "metaSPAdes        Multiple k-mer De Bruijn graph Metagenomic            1.0 [1;1]   \n",
       "MINIA             Single k-mer De Bruijn graph   Genomic                2.0 [2;2]   \n",
       "SKESA             Multiple k-mer De Bruijn graph Genomic             12.0 [12;12]   \n",
       "SPAdes            Multiple k-mer De Bruijn graph Genomic                0.0 [0;0]   \n",
       "Unicycler         Multiple k-mer De Bruijn graph Genomic                0.0 [0;0]   \n",
       "VelvetOptimiser   Multiple k-mer De Bruijn graph Metagenomic           8.0 [0;12]   \n",
       "\n",
       "                                                             misassembly events  \\\n",
       "Assembler         Algorithm                      Type                             \n",
       "ABySS             Single k-mer De Bruijn graph   Genomic              0.0 [0;0]   \n",
       "BCALM2            Single k-mer De Bruijn graph   Genomic              0.0 [0;0]   \n",
       "GATBMiniaPipeline Multiple k-mer De Bruijn graph Metagenomic          3.0 [3;3]   \n",
       "IDBA-UD           Multiple k-mer De Bruijn graph Metagenomic          2.0 [2;2]   \n",
       "MEGAHIT           Multiple k-mer De Bruijn graph Metagenomic          2.0 [2;2]   \n",
       "MetaHipMer2       Multiple k-mer De Bruijn graph Metagenomic          0.0 [0;0]   \n",
       "metaSPAdes        Multiple k-mer De Bruijn graph Metagenomic          3.0 [3;3]   \n",
       "MINIA             Single k-mer De Bruijn graph   Genomic              4.0 [4;4]   \n",
       "SKESA             Multiple k-mer De Bruijn graph Genomic           23.0 [23;23]   \n",
       "SPAdes            Multiple k-mer De Bruijn graph Genomic              0.0 [0;0]   \n",
       "Unicycler         Multiple k-mer De Bruijn graph Genomic              0.0 [0;0]   \n",
       "VelvetOptimiser   Multiple k-mer De Bruijn graph Metagenomic       16.67 [0;25]   \n",
       "\n",
       "                                                                                   n50  \n",
       "Assembler         Algorithm                      Type                                   \n",
       "ABySS             Single k-mer De Bruijn graph   Genomic            9569.0 [9569;9569]  \n",
       "BCALM2            Single k-mer De Bruijn graph   Genomic         18682.0 [18682;18682]  \n",
       "GATBMiniaPipeline Multiple k-mer De Bruijn graph Metagenomic  136741.0 [136741;136741]  \n",
       "IDBA-UD           Multiple k-mer De Bruijn graph Metagenomic  105808.0 [105808;105808]  \n",
       "MEGAHIT           Multiple k-mer De Bruijn graph Metagenomic  203548.0 [203548;203548]  \n",
       "MetaHipMer2       Multiple k-mer De Bruijn graph Metagenomic                 0.0 [0;0]  \n",
       "metaSPAdes        Multiple k-mer De Bruijn graph Metagenomic  220609.0 [220609;220609]  \n",
       "MINIA             Single k-mer De Bruijn graph   Genomic         26474.0 [26474;26474]  \n",
       "SKESA             Multiple k-mer De Bruijn graph Genomic            1155.0 [1155;1155]  \n",
       "SPAdes            Multiple k-mer De Bruijn graph Genomic      122703.0 [122703;122703]  \n",
       "Unicycler         Multiple k-mer De Bruijn graph Genomic      242687.0 [242687;242687]  \n",
       "VelvetOptimiser   Multiple k-mer De Bruijn graph Metagenomic      79254.0 [520;118621]  "
      ]
     },
     "metadata": {},
     "output_type": "display_data"
    },
    {
     "data": {
      "text/html": [
       "<div>\n",
       "<style scoped>\n",
       "    .dataframe tbody tr th:only-of-type {\n",
       "        vertical-align: middle;\n",
       "    }\n",
       "\n",
       "    .dataframe tbody tr th {\n",
       "        vertical-align: top;\n",
       "    }\n",
       "\n",
       "    .dataframe thead th {\n",
       "        text-align: right;\n",
       "    }\n",
       "</style>\n",
       "<table border=\"1\" class=\"dataframe\">\n",
       "  <thead>\n",
       "    <tr style=\"text-align: right;\">\n",
       "      <th></th>\n",
       "      <th>Ns</th>\n",
       "      <th>basepairs</th>\n",
       "      <th>contigs</th>\n",
       "      <th>filtered_Ns</th>\n",
       "      <th>filtered_basepairs</th>\n",
       "      <th>filtered_contigs</th>\n",
       "      <th>filtered_mapped_reads</th>\n",
       "      <th>filtered_n50</th>\n",
       "      <th>mapped_reads</th>\n",
       "      <th>max_contig</th>\n",
       "      <th>misassembled contigs</th>\n",
       "      <th>misassembly events</th>\n",
       "      <th>n50</th>\n",
       "    </tr>\n",
       "    <tr>\n",
       "      <th>Assembler</th>\n",
       "      <th></th>\n",
       "      <th></th>\n",
       "      <th></th>\n",
       "      <th></th>\n",
       "      <th></th>\n",
       "      <th></th>\n",
       "      <th></th>\n",
       "      <th></th>\n",
       "      <th></th>\n",
       "      <th></th>\n",
       "      <th></th>\n",
       "      <th></th>\n",
       "      <th></th>\n",
       "    </tr>\n",
       "  </thead>\n",
       "  <tbody>\n",
       "    <tr>\n",
       "      <th>ABySS</th>\n",
       "      <td>1345.0</td>\n",
       "      <td>20132631.0</td>\n",
       "      <td>44619.0</td>\n",
       "      <td>400.0</td>\n",
       "      <td>13573790.0</td>\n",
       "      <td>1211.0</td>\n",
       "      <td>98.901625</td>\n",
       "      <td>192306.0</td>\n",
       "      <td>99.851429</td>\n",
       "      <td>851314.0</td>\n",
       "      <td>0.0</td>\n",
       "      <td>0.0</td>\n",
       "      <td>9569.0</td>\n",
       "    </tr>\n",
       "    <tr>\n",
       "      <th>BCALM2</th>\n",
       "      <td>0.0</td>\n",
       "      <td>19635512.0</td>\n",
       "      <td>44825.0</td>\n",
       "      <td>0.0</td>\n",
       "      <td>13397815.0</td>\n",
       "      <td>784.0</td>\n",
       "      <td>97.222124</td>\n",
       "      <td>31436.0</td>\n",
       "      <td>98.307446</td>\n",
       "      <td>163543.0</td>\n",
       "      <td>0.0</td>\n",
       "      <td>0.0</td>\n",
       "      <td>18682.0</td>\n",
       "    </tr>\n",
       "    <tr>\n",
       "      <th>GATBMiniaPipeline</th>\n",
       "      <td>0.0</td>\n",
       "      <td>13911245.0</td>\n",
       "      <td>693.0</td>\n",
       "      <td>0.0</td>\n",
       "      <td>13658336.0</td>\n",
       "      <td>219.0</td>\n",
       "      <td>98.807198</td>\n",
       "      <td>140561.0</td>\n",
       "      <td>99.719684</td>\n",
       "      <td>632215.0</td>\n",
       "      <td>1.0</td>\n",
       "      <td>3.0</td>\n",
       "      <td>136741.0</td>\n",
       "    </tr>\n",
       "    <tr>\n",
       "      <th>IDBA-UD</th>\n",
       "      <td>0.0</td>\n",
       "      <td>14324920.0</td>\n",
       "      <td>1987.0</td>\n",
       "      <td>0.0</td>\n",
       "      <td>13642314.0</td>\n",
       "      <td>261.0</td>\n",
       "      <td>98.951945</td>\n",
       "      <td>108043.0</td>\n",
       "      <td>99.694880</td>\n",
       "      <td>585610.0</td>\n",
       "      <td>2.0</td>\n",
       "      <td>2.0</td>\n",
       "      <td>105808.0</td>\n",
       "    </tr>\n",
       "    <tr>\n",
       "      <th>MEGAHIT</th>\n",
       "      <td>0.0</td>\n",
       "      <td>14402555.0</td>\n",
       "      <td>1842.0</td>\n",
       "      <td>0.0</td>\n",
       "      <td>13704539.0</td>\n",
       "      <td>172.0</td>\n",
       "      <td>99.686868</td>\n",
       "      <td>210993.0</td>\n",
       "      <td>99.765146</td>\n",
       "      <td>1080013.0</td>\n",
       "      <td>1.0</td>\n",
       "      <td>2.0</td>\n",
       "      <td>203548.0</td>\n",
       "    </tr>\n",
       "    <tr>\n",
       "      <th>MetaHipMer2</th>\n",
       "      <td>0.0</td>\n",
       "      <td>0.0</td>\n",
       "      <td>0.0</td>\n",
       "      <td>0.0</td>\n",
       "      <td>0.0</td>\n",
       "      <td>0.0</td>\n",
       "      <td>0.000000</td>\n",
       "      <td>0.0</td>\n",
       "      <td>0.000000</td>\n",
       "      <td>0.0</td>\n",
       "      <td>0.0</td>\n",
       "      <td>0.0</td>\n",
       "      <td>0.0</td>\n",
       "    </tr>\n",
       "    <tr>\n",
       "      <th>metaSPAdes</th>\n",
       "      <td>0.0</td>\n",
       "      <td>15514698.0</td>\n",
       "      <td>6700.0</td>\n",
       "      <td>0.0</td>\n",
       "      <td>13692577.0</td>\n",
       "      <td>139.0</td>\n",
       "      <td>99.591855</td>\n",
       "      <td>239185.0</td>\n",
       "      <td>99.798003</td>\n",
       "      <td>850099.0</td>\n",
       "      <td>1.0</td>\n",
       "      <td>3.0</td>\n",
       "      <td>220609.0</td>\n",
       "    </tr>\n",
       "    <tr>\n",
       "      <th>MINIA</th>\n",
       "      <td>0.0</td>\n",
       "      <td>16401090.0</td>\n",
       "      <td>15000.0</td>\n",
       "      <td>0.0</td>\n",
       "      <td>13501500.0</td>\n",
       "      <td>762.0</td>\n",
       "      <td>97.535204</td>\n",
       "      <td>33550.0</td>\n",
       "      <td>99.011021</td>\n",
       "      <td>177038.0</td>\n",
       "      <td>2.0</td>\n",
       "      <td>4.0</td>\n",
       "      <td>26474.0</td>\n",
       "    </tr>\n",
       "    <tr>\n",
       "      <th>SKESA</th>\n",
       "      <td>0.0</td>\n",
       "      <td>8202941.0</td>\n",
       "      <td>9514.0</td>\n",
       "      <td>0.0</td>\n",
       "      <td>4470092.0</td>\n",
       "      <td>1433.0</td>\n",
       "      <td>91.766425</td>\n",
       "      <td>7385.0</td>\n",
       "      <td>95.101330</td>\n",
       "      <td>59272.0</td>\n",
       "      <td>12.0</td>\n",
       "      <td>23.0</td>\n",
       "      <td>1155.0</td>\n",
       "    </tr>\n",
       "    <tr>\n",
       "      <th>SPAdes</th>\n",
       "      <td>0.0</td>\n",
       "      <td>15606257.0</td>\n",
       "      <td>7331.0</td>\n",
       "      <td>0.0</td>\n",
       "      <td>13640340.0</td>\n",
       "      <td>227.0</td>\n",
       "      <td>99.591855</td>\n",
       "      <td>136684.0</td>\n",
       "      <td>99.713909</td>\n",
       "      <td>632639.0</td>\n",
       "      <td>0.0</td>\n",
       "      <td>0.0</td>\n",
       "      <td>122703.0</td>\n",
       "    </tr>\n",
       "    <tr>\n",
       "      <th>Unicycler</th>\n",
       "      <td>0.0</td>\n",
       "      <td>11719230.0</td>\n",
       "      <td>185.0</td>\n",
       "      <td>0.0</td>\n",
       "      <td>11691061.0</td>\n",
       "      <td>112.0</td>\n",
       "      <td>98.605657</td>\n",
       "      <td>242687.0</td>\n",
       "      <td>99.226493</td>\n",
       "      <td>847534.0</td>\n",
       "      <td>0.0</td>\n",
       "      <td>0.0</td>\n",
       "      <td>242687.0</td>\n",
       "    </tr>\n",
       "    <tr>\n",
       "      <th>VelvetOptimiser</th>\n",
       "      <td>4932.0</td>\n",
       "      <td>19638608.0</td>\n",
       "      <td>35804.0</td>\n",
       "      <td>0.0</td>\n",
       "      <td>13685752.0</td>\n",
       "      <td>209.0</td>\n",
       "      <td>97.541062</td>\n",
       "      <td>210246.0</td>\n",
       "      <td>98.757132</td>\n",
       "      <td>847474.0</td>\n",
       "      <td>0.0</td>\n",
       "      <td>0.0</td>\n",
       "      <td>118621.0</td>\n",
       "    </tr>\n",
       "  </tbody>\n",
       "</table>\n",
       "</div>"
      ],
      "text/plain": [
       "                       Ns   basepairs  contigs  filtered_Ns  \\\n",
       "Assembler                                                     \n",
       "ABySS              1345.0  20132631.0  44619.0        400.0   \n",
       "BCALM2                0.0  19635512.0  44825.0          0.0   \n",
       "GATBMiniaPipeline     0.0  13911245.0    693.0          0.0   \n",
       "IDBA-UD               0.0  14324920.0   1987.0          0.0   \n",
       "MEGAHIT               0.0  14402555.0   1842.0          0.0   \n",
       "MetaHipMer2           0.0         0.0      0.0          0.0   \n",
       "metaSPAdes            0.0  15514698.0   6700.0          0.0   \n",
       "MINIA                 0.0  16401090.0  15000.0          0.0   \n",
       "SKESA                 0.0   8202941.0   9514.0          0.0   \n",
       "SPAdes                0.0  15606257.0   7331.0          0.0   \n",
       "Unicycler             0.0  11719230.0    185.0          0.0   \n",
       "VelvetOptimiser    4932.0  19638608.0  35804.0          0.0   \n",
       "\n",
       "                   filtered_basepairs  filtered_contigs  \\\n",
       "Assembler                                                 \n",
       "ABySS                      13573790.0            1211.0   \n",
       "BCALM2                     13397815.0             784.0   \n",
       "GATBMiniaPipeline          13658336.0             219.0   \n",
       "IDBA-UD                    13642314.0             261.0   \n",
       "MEGAHIT                    13704539.0             172.0   \n",
       "MetaHipMer2                       0.0               0.0   \n",
       "metaSPAdes                 13692577.0             139.0   \n",
       "MINIA                      13501500.0             762.0   \n",
       "SKESA                       4470092.0            1433.0   \n",
       "SPAdes                     13640340.0             227.0   \n",
       "Unicycler                  11691061.0             112.0   \n",
       "VelvetOptimiser            13685752.0             209.0   \n",
       "\n",
       "                   filtered_mapped_reads  filtered_n50  mapped_reads  \\\n",
       "Assembler                                                              \n",
       "ABySS                          98.901625      192306.0     99.851429   \n",
       "BCALM2                         97.222124       31436.0     98.307446   \n",
       "GATBMiniaPipeline              98.807198      140561.0     99.719684   \n",
       "IDBA-UD                        98.951945      108043.0     99.694880   \n",
       "MEGAHIT                        99.686868      210993.0     99.765146   \n",
       "MetaHipMer2                     0.000000           0.0      0.000000   \n",
       "metaSPAdes                     99.591855      239185.0     99.798003   \n",
       "MINIA                          97.535204       33550.0     99.011021   \n",
       "SKESA                          91.766425        7385.0     95.101330   \n",
       "SPAdes                         99.591855      136684.0     99.713909   \n",
       "Unicycler                      98.605657      242687.0     99.226493   \n",
       "VelvetOptimiser                97.541062      210246.0     98.757132   \n",
       "\n",
       "                   max_contig  misassembled contigs  misassembly events  \\\n",
       "Assembler                                                                 \n",
       "ABySS                851314.0                   0.0                 0.0   \n",
       "BCALM2               163543.0                   0.0                 0.0   \n",
       "GATBMiniaPipeline    632215.0                   1.0                 3.0   \n",
       "IDBA-UD              585610.0                   2.0                 2.0   \n",
       "MEGAHIT             1080013.0                   1.0                 2.0   \n",
       "MetaHipMer2               0.0                   0.0                 0.0   \n",
       "metaSPAdes           850099.0                   1.0                 3.0   \n",
       "MINIA                177038.0                   2.0                 4.0   \n",
       "SKESA                 59272.0                  12.0                23.0   \n",
       "SPAdes               632639.0                   0.0                 0.0   \n",
       "Unicycler            847534.0                   0.0                 0.0   \n",
       "VelvetOptimiser      847474.0                   0.0                 0.0   \n",
       "\n",
       "                        n50  \n",
       "Assembler                    \n",
       "ABySS                9569.0  \n",
       "BCALM2              18682.0  \n",
       "GATBMiniaPipeline  136741.0  \n",
       "IDBA-UD            105808.0  \n",
       "MEGAHIT            203548.0  \n",
       "MetaHipMer2             0.0  \n",
       "metaSPAdes         220609.0  \n",
       "MINIA               26474.0  \n",
       "SKESA                1155.0  \n",
       "SPAdes             122703.0  \n",
       "Unicycler          242687.0  \n",
       "VelvetOptimiser    118621.0  "
      ]
     },
     "metadata": {},
     "output_type": "display_data"
    },
    {
     "name": "stdout",
     "output_type": "stream",
     "text": [
      "ERR2935805\n"
     ]
    },
    {
     "data": {
      "text/html": [
       "<div>\n",
       "<style scoped>\n",
       "    .dataframe tbody tr th:only-of-type {\n",
       "        vertical-align: middle;\n",
       "    }\n",
       "\n",
       "    .dataframe tbody tr th {\n",
       "        vertical-align: top;\n",
       "    }\n",
       "\n",
       "    .dataframe thead th {\n",
       "        text-align: right;\n",
       "    }\n",
       "</style>\n",
       "<table border=\"1\" class=\"dataframe\">\n",
       "  <thead>\n",
       "    <tr style=\"text-align: right;\">\n",
       "      <th></th>\n",
       "      <th></th>\n",
       "      <th></th>\n",
       "      <th>Ns</th>\n",
       "      <th>basepairs</th>\n",
       "      <th>contigs</th>\n",
       "      <th>filtered_Ns</th>\n",
       "      <th>filtered_basepairs</th>\n",
       "      <th>filtered_contigs</th>\n",
       "      <th>filtered_mapped_reads</th>\n",
       "      <th>filtered_n50</th>\n",
       "      <th>mapped_reads</th>\n",
       "      <th>max_contig</th>\n",
       "      <th>misassembled contigs</th>\n",
       "      <th>misassembly events</th>\n",
       "      <th>n50</th>\n",
       "    </tr>\n",
       "    <tr>\n",
       "      <th>Assembler</th>\n",
       "      <th>Algorithm</th>\n",
       "      <th>Type</th>\n",
       "      <th></th>\n",
       "      <th></th>\n",
       "      <th></th>\n",
       "      <th></th>\n",
       "      <th></th>\n",
       "      <th></th>\n",
       "      <th></th>\n",
       "      <th></th>\n",
       "      <th></th>\n",
       "      <th></th>\n",
       "      <th></th>\n",
       "      <th></th>\n",
       "      <th></th>\n",
       "    </tr>\n",
       "  </thead>\n",
       "  <tbody>\n",
       "    <tr>\n",
       "      <th>ABySS</th>\n",
       "      <th>Single k-mer De Bruijn graph</th>\n",
       "      <th>Genomic</th>\n",
       "      <td>9.0 [9;9]</td>\n",
       "      <td>78727988.67 [78727717;78728532]</td>\n",
       "      <td>677855.33 [677853;677860]</td>\n",
       "      <td>0.0 [0;0]</td>\n",
       "      <td>3150980.0 [3150980;3150980]</td>\n",
       "      <td>356.0 [356;356]</td>\n",
       "      <td>79.03 [79;79]</td>\n",
       "      <td>18568.0 [18568;18568]</td>\n",
       "      <td>91.83 [91;91]</td>\n",
       "      <td>88665.0 [88665;88665]</td>\n",
       "      <td>0.0 [0;0]</td>\n",
       "      <td>0.0 [0;0]</td>\n",
       "      <td>101.0 [101;101]</td>\n",
       "    </tr>\n",
       "    <tr>\n",
       "      <th>BCALM2</th>\n",
       "      <th>Single k-mer De Bruijn graph</th>\n",
       "      <th>Genomic</th>\n",
       "      <td>0.0 [0;0]</td>\n",
       "      <td>315567452.0 [315567452;315567452]</td>\n",
       "      <td>8035706.0 [8035706;8035706]</td>\n",
       "      <td>0.0 [0;0]</td>\n",
       "      <td>657074.0 [657074;657074]</td>\n",
       "      <td>504.0 [504;504]</td>\n",
       "      <td>0.1 [0;0]</td>\n",
       "      <td>1262.0 [1262;1262]</td>\n",
       "      <td>1.43 [1;1]</td>\n",
       "      <td>3093.0 [3093;3093]</td>\n",
       "      <td>0.0 [0;0]</td>\n",
       "      <td>0.0 [0;0]</td>\n",
       "      <td>35.0 [35;35]</td>\n",
       "    </tr>\n",
       "    <tr>\n",
       "      <th>GATBMiniaPipeline</th>\n",
       "      <th>Multiple k-mer De Bruijn graph</th>\n",
       "      <th>Metagenomic</th>\n",
       "      <td>0.0 [0;0]</td>\n",
       "      <td>17140207.33 [17126362;17147130]</td>\n",
       "      <td>6776.33 [6776;6777]</td>\n",
       "      <td>0.0 [0;0]</td>\n",
       "      <td>13905380.67 [13891328;13912407]</td>\n",
       "      <td>603.0 [603;603]</td>\n",
       "      <td>88.9 [88;88]</td>\n",
       "      <td>90393.0 [90095;90989]</td>\n",
       "      <td>89.4 [89;89]</td>\n",
       "      <td>542997.0 [542997;542997]</td>\n",
       "      <td>0.67 [0;1]</td>\n",
       "      <td>1.33 [0;2]</td>\n",
       "      <td>55722.33 [55204;56759]</td>\n",
       "    </tr>\n",
       "    <tr>\n",
       "      <th>IDBA-UD</th>\n",
       "      <th>Multiple k-mer De Bruijn graph</th>\n",
       "      <th>Metagenomic</th>\n",
       "      <td>0.0 [0;0]</td>\n",
       "      <td>23587129.0 [23586883;23587252]</td>\n",
       "      <td>14155.67 [14155;14156]</td>\n",
       "      <td>0.0 [0;0]</td>\n",
       "      <td>17534580.0 [17534580;17534580]</td>\n",
       "      <td>2725.0 [2725;2725]</td>\n",
       "      <td>89.23 [89;89]</td>\n",
       "      <td>113853.0 [113853;113853]</td>\n",
       "      <td>89.8 [89;89]</td>\n",
       "      <td>632213.0 [632213;632213]</td>\n",
       "      <td>3.0 [3;3]</td>\n",
       "      <td>5.0 [5;5]</td>\n",
       "      <td>51161.0 [51161;51161]</td>\n",
       "    </tr>\n",
       "    <tr>\n",
       "      <th>MEGAHIT</th>\n",
       "      <th>Multiple k-mer De Bruijn graph</th>\n",
       "      <th>Metagenomic</th>\n",
       "      <td>0.0 [0;0]</td>\n",
       "      <td>24498566.0 [24498566;24498566]</td>\n",
       "      <td>14172.0 [14172;14172]</td>\n",
       "      <td>0.0 [0;0]</td>\n",
       "      <td>18552996.0 [18552996;18552996]</td>\n",
       "      <td>3044.0 [3044;3044]</td>\n",
       "      <td>89.5 [89;89]</td>\n",
       "      <td>210993.0 [210993;210993]</td>\n",
       "      <td>89.76 [89;89]</td>\n",
       "      <td>768410.0 [768410;768410]</td>\n",
       "      <td>1.0 [1;1]</td>\n",
       "      <td>2.0 [2;2]</td>\n",
       "      <td>82249.0 [82249;82249]</td>\n",
       "    </tr>\n",
       "    <tr>\n",
       "      <th>MetaHipMer2</th>\n",
       "      <th>Multiple k-mer De Bruijn graph</th>\n",
       "      <th>Metagenomic</th>\n",
       "      <td>0.0 [0;0]</td>\n",
       "      <td>15029445.33 [15029183;15029970]</td>\n",
       "      <td>11970.67 [11966;11973]</td>\n",
       "      <td>0.0 [0;0]</td>\n",
       "      <td>10257182.33 [10253731;10264085]</td>\n",
       "      <td>5033.33 [5031;5038]</td>\n",
       "      <td>73.91 [73;73]</td>\n",
       "      <td>2174.67 [2170;2177]</td>\n",
       "      <td>84.35 [84;84]</td>\n",
       "      <td>14760.0 [14760;14760]</td>\n",
       "      <td>0.0 [0;0]</td>\n",
       "      <td>0.0 [0;0]</td>\n",
       "      <td>1515.67 [1515;1516]</td>\n",
       "    </tr>\n",
       "    <tr>\n",
       "      <th>metaSPAdes</th>\n",
       "      <th>Multiple k-mer De Bruijn graph</th>\n",
       "      <th>Metagenomic</th>\n",
       "      <td>0.0 [0;0]</td>\n",
       "      <td>27822010.0 [27822010;27822010]</td>\n",
       "      <td>26282.0 [26282;26282]</td>\n",
       "      <td>0.0 [0;0]</td>\n",
       "      <td>18792639.0 [18792639;18792639]</td>\n",
       "      <td>3392.0 [3392;3392]</td>\n",
       "      <td>89.37 [89;89]</td>\n",
       "      <td>87983.0 [87983;87983]</td>\n",
       "      <td>89.93 [89;89]</td>\n",
       "      <td>622107.0 [622107;622107]</td>\n",
       "      <td>3.0 [3;3]</td>\n",
       "      <td>7.0 [7;7]</td>\n",
       "      <td>3674.0 [3674;3674]</td>\n",
       "    </tr>\n",
       "    <tr>\n",
       "      <th>MINIA</th>\n",
       "      <th>Single k-mer De Bruijn graph</th>\n",
       "      <th>Genomic</th>\n",
       "      <td>0.0 [0;0]</td>\n",
       "      <td>20758237.33 [20757924;20758864]</td>\n",
       "      <td>37287.33 [37281;37300]</td>\n",
       "      <td>0.0 [0;0]</td>\n",
       "      <td>13447286.0 [13446596;13448666]</td>\n",
       "      <td>1464.0 [1463;1466]</td>\n",
       "      <td>84.24 [84;84]</td>\n",
       "      <td>18204.67 [18038;18288]</td>\n",
       "      <td>87.68 [87;87]</td>\n",
       "      <td>163543.0 [163543;163543]</td>\n",
       "      <td>2.0 [2;2]</td>\n",
       "      <td>3.0 [3;3]</td>\n",
       "      <td>7485.0 [7485;7485]</td>\n",
       "    </tr>\n",
       "    <tr>\n",
       "      <th>SKESA</th>\n",
       "      <th>Multiple k-mer De Bruijn graph</th>\n",
       "      <th>Genomic</th>\n",
       "      <td>0.0 [0;0]</td>\n",
       "      <td>8818742.0 [8818742;8818742]</td>\n",
       "      <td>8822.0 [8822;8822]</td>\n",
       "      <td>0.0 [0;0]</td>\n",
       "      <td>5801439.0 [5801439;5801439]</td>\n",
       "      <td>2889.0 [2889;2889]</td>\n",
       "      <td>62.71 [62;62]</td>\n",
       "      <td>2148.0 [2148;2148]</td>\n",
       "      <td>78.66 [78;78]</td>\n",
       "      <td>29155.0 [29155;29155]</td>\n",
       "      <td>0.0 [0;0]</td>\n",
       "      <td>0.0 [0;0]</td>\n",
       "      <td>1431.0 [1431;1431]</td>\n",
       "    </tr>\n",
       "    <tr>\n",
       "      <th>SPAdes</th>\n",
       "      <th>Multiple k-mer De Bruijn graph</th>\n",
       "      <th>Genomic</th>\n",
       "      <td>0.0 [0;0]</td>\n",
       "      <td>29517365.0 [29517365;29517365]</td>\n",
       "      <td>36214.0 [36214;36214]</td>\n",
       "      <td>0.0 [0;0]</td>\n",
       "      <td>19595813.0 [19595813;19595813]</td>\n",
       "      <td>4999.0 [4999;4999]</td>\n",
       "      <td>57.93 [57;57]</td>\n",
       "      <td>55465.0 [55465;55465]</td>\n",
       "      <td>87.24 [87;87]</td>\n",
       "      <td>847683.0 [847683;847683]</td>\n",
       "      <td>572.0 [572;572]</td>\n",
       "      <td>1148.0 [1148;1148]</td>\n",
       "      <td>1972.0 [1972;1972]</td>\n",
       "    </tr>\n",
       "    <tr>\n",
       "      <th>Unicycler</th>\n",
       "      <th>Multiple k-mer De Bruijn graph</th>\n",
       "      <th>Genomic</th>\n",
       "      <td>0.0 [0;0]</td>\n",
       "      <td>9747587.0 [9747587;9747587]</td>\n",
       "      <td>205.0 [205;205]</td>\n",
       "      <td>0.0 [0;0]</td>\n",
       "      <td>9725301.0 [9725301;9725301]</td>\n",
       "      <td>144.0 [144;144]</td>\n",
       "      <td>87.48 [87;87]</td>\n",
       "      <td>256884.0 [256884;256884]</td>\n",
       "      <td>88.06 [88;88]</td>\n",
       "      <td>847580.0 [847580;847580]</td>\n",
       "      <td>0.0 [0;0]</td>\n",
       "      <td>0.0 [0;0]</td>\n",
       "      <td>256884.0 [256884;256884]</td>\n",
       "    </tr>\n",
       "    <tr>\n",
       "      <th>VelvetOptimiser</th>\n",
       "      <th>Multiple k-mer De Bruijn graph</th>\n",
       "      <th>Metagenomic</th>\n",
       "      <td>0.0 [0;0]</td>\n",
       "      <td>47958628.0 [47958628;47958628]</td>\n",
       "      <td>525998.0 [525998;525998]</td>\n",
       "      <td>0.0 [0;0]</td>\n",
       "      <td>409222.0 [409222;409222]</td>\n",
       "      <td>340.0 [340;340]</td>\n",
       "      <td>0.02 [0;0]</td>\n",
       "      <td>1180.0 [1180;1180]</td>\n",
       "      <td>1.39 [1;1]</td>\n",
       "      <td>2044.0 [2044;2044]</td>\n",
       "      <td>0.0 [0;0]</td>\n",
       "      <td>0.0 [0;0]</td>\n",
       "      <td>88.0 [88;88]</td>\n",
       "    </tr>\n",
       "  </tbody>\n",
       "</table>\n",
       "</div>"
      ],
      "text/plain": [
       "                                                                     Ns  \\\n",
       "Assembler         Algorithm                      Type                     \n",
       "ABySS             Single k-mer De Bruijn graph   Genomic      9.0 [9;9]   \n",
       "BCALM2            Single k-mer De Bruijn graph   Genomic      0.0 [0;0]   \n",
       "GATBMiniaPipeline Multiple k-mer De Bruijn graph Metagenomic  0.0 [0;0]   \n",
       "IDBA-UD           Multiple k-mer De Bruijn graph Metagenomic  0.0 [0;0]   \n",
       "MEGAHIT           Multiple k-mer De Bruijn graph Metagenomic  0.0 [0;0]   \n",
       "MetaHipMer2       Multiple k-mer De Bruijn graph Metagenomic  0.0 [0;0]   \n",
       "metaSPAdes        Multiple k-mer De Bruijn graph Metagenomic  0.0 [0;0]   \n",
       "MINIA             Single k-mer De Bruijn graph   Genomic      0.0 [0;0]   \n",
       "SKESA             Multiple k-mer De Bruijn graph Genomic      0.0 [0;0]   \n",
       "SPAdes            Multiple k-mer De Bruijn graph Genomic      0.0 [0;0]   \n",
       "Unicycler         Multiple k-mer De Bruijn graph Genomic      0.0 [0;0]   \n",
       "VelvetOptimiser   Multiple k-mer De Bruijn graph Metagenomic  0.0 [0;0]   \n",
       "\n",
       "                                                                                      basepairs  \\\n",
       "Assembler         Algorithm                      Type                                             \n",
       "ABySS             Single k-mer De Bruijn graph   Genomic        78727988.67 [78727717;78728532]   \n",
       "BCALM2            Single k-mer De Bruijn graph   Genomic      315567452.0 [315567452;315567452]   \n",
       "GATBMiniaPipeline Multiple k-mer De Bruijn graph Metagenomic    17140207.33 [17126362;17147130]   \n",
       "IDBA-UD           Multiple k-mer De Bruijn graph Metagenomic     23587129.0 [23586883;23587252]   \n",
       "MEGAHIT           Multiple k-mer De Bruijn graph Metagenomic     24498566.0 [24498566;24498566]   \n",
       "MetaHipMer2       Multiple k-mer De Bruijn graph Metagenomic    15029445.33 [15029183;15029970]   \n",
       "metaSPAdes        Multiple k-mer De Bruijn graph Metagenomic     27822010.0 [27822010;27822010]   \n",
       "MINIA             Single k-mer De Bruijn graph   Genomic        20758237.33 [20757924;20758864]   \n",
       "SKESA             Multiple k-mer De Bruijn graph Genomic            8818742.0 [8818742;8818742]   \n",
       "SPAdes            Multiple k-mer De Bruijn graph Genomic         29517365.0 [29517365;29517365]   \n",
       "Unicycler         Multiple k-mer De Bruijn graph Genomic            9747587.0 [9747587;9747587]   \n",
       "VelvetOptimiser   Multiple k-mer De Bruijn graph Metagenomic     47958628.0 [47958628;47958628]   \n",
       "\n",
       "                                                                                  contigs  \\\n",
       "Assembler         Algorithm                      Type                                       \n",
       "ABySS             Single k-mer De Bruijn graph   Genomic        677855.33 [677853;677860]   \n",
       "BCALM2            Single k-mer De Bruijn graph   Genomic      8035706.0 [8035706;8035706]   \n",
       "GATBMiniaPipeline Multiple k-mer De Bruijn graph Metagenomic          6776.33 [6776;6777]   \n",
       "IDBA-UD           Multiple k-mer De Bruijn graph Metagenomic       14155.67 [14155;14156]   \n",
       "MEGAHIT           Multiple k-mer De Bruijn graph Metagenomic        14172.0 [14172;14172]   \n",
       "MetaHipMer2       Multiple k-mer De Bruijn graph Metagenomic       11970.67 [11966;11973]   \n",
       "metaSPAdes        Multiple k-mer De Bruijn graph Metagenomic        26282.0 [26282;26282]   \n",
       "MINIA             Single k-mer De Bruijn graph   Genomic           37287.33 [37281;37300]   \n",
       "SKESA             Multiple k-mer De Bruijn graph Genomic               8822.0 [8822;8822]   \n",
       "SPAdes            Multiple k-mer De Bruijn graph Genomic            36214.0 [36214;36214]   \n",
       "Unicycler         Multiple k-mer De Bruijn graph Genomic                  205.0 [205;205]   \n",
       "VelvetOptimiser   Multiple k-mer De Bruijn graph Metagenomic     525998.0 [525998;525998]   \n",
       "\n",
       "                                                             filtered_Ns  \\\n",
       "Assembler         Algorithm                      Type                      \n",
       "ABySS             Single k-mer De Bruijn graph   Genomic       0.0 [0;0]   \n",
       "BCALM2            Single k-mer De Bruijn graph   Genomic       0.0 [0;0]   \n",
       "GATBMiniaPipeline Multiple k-mer De Bruijn graph Metagenomic   0.0 [0;0]   \n",
       "IDBA-UD           Multiple k-mer De Bruijn graph Metagenomic   0.0 [0;0]   \n",
       "MEGAHIT           Multiple k-mer De Bruijn graph Metagenomic   0.0 [0;0]   \n",
       "MetaHipMer2       Multiple k-mer De Bruijn graph Metagenomic   0.0 [0;0]   \n",
       "metaSPAdes        Multiple k-mer De Bruijn graph Metagenomic   0.0 [0;0]   \n",
       "MINIA             Single k-mer De Bruijn graph   Genomic       0.0 [0;0]   \n",
       "SKESA             Multiple k-mer De Bruijn graph Genomic       0.0 [0;0]   \n",
       "SPAdes            Multiple k-mer De Bruijn graph Genomic       0.0 [0;0]   \n",
       "Unicycler         Multiple k-mer De Bruijn graph Genomic       0.0 [0;0]   \n",
       "VelvetOptimiser   Multiple k-mer De Bruijn graph Metagenomic   0.0 [0;0]   \n",
       "\n",
       "                                                                           filtered_basepairs  \\\n",
       "Assembler         Algorithm                      Type                                           \n",
       "ABySS             Single k-mer De Bruijn graph   Genomic          3150980.0 [3150980;3150980]   \n",
       "BCALM2            Single k-mer De Bruijn graph   Genomic             657074.0 [657074;657074]   \n",
       "GATBMiniaPipeline Multiple k-mer De Bruijn graph Metagenomic  13905380.67 [13891328;13912407]   \n",
       "IDBA-UD           Multiple k-mer De Bruijn graph Metagenomic   17534580.0 [17534580;17534580]   \n",
       "MEGAHIT           Multiple k-mer De Bruijn graph Metagenomic   18552996.0 [18552996;18552996]   \n",
       "MetaHipMer2       Multiple k-mer De Bruijn graph Metagenomic  10257182.33 [10253731;10264085]   \n",
       "metaSPAdes        Multiple k-mer De Bruijn graph Metagenomic   18792639.0 [18792639;18792639]   \n",
       "MINIA             Single k-mer De Bruijn graph   Genomic       13447286.0 [13446596;13448666]   \n",
       "SKESA             Multiple k-mer De Bruijn graph Genomic          5801439.0 [5801439;5801439]   \n",
       "SPAdes            Multiple k-mer De Bruijn graph Genomic       19595813.0 [19595813;19595813]   \n",
       "Unicycler         Multiple k-mer De Bruijn graph Genomic          9725301.0 [9725301;9725301]   \n",
       "VelvetOptimiser   Multiple k-mer De Bruijn graph Metagenomic         409222.0 [409222;409222]   \n",
       "\n",
       "                                                                 filtered_contigs  \\\n",
       "Assembler         Algorithm                      Type                               \n",
       "ABySS             Single k-mer De Bruijn graph   Genomic          356.0 [356;356]   \n",
       "BCALM2            Single k-mer De Bruijn graph   Genomic          504.0 [504;504]   \n",
       "GATBMiniaPipeline Multiple k-mer De Bruijn graph Metagenomic      603.0 [603;603]   \n",
       "IDBA-UD           Multiple k-mer De Bruijn graph Metagenomic   2725.0 [2725;2725]   \n",
       "MEGAHIT           Multiple k-mer De Bruijn graph Metagenomic   3044.0 [3044;3044]   \n",
       "MetaHipMer2       Multiple k-mer De Bruijn graph Metagenomic  5033.33 [5031;5038]   \n",
       "metaSPAdes        Multiple k-mer De Bruijn graph Metagenomic   3392.0 [3392;3392]   \n",
       "MINIA             Single k-mer De Bruijn graph   Genomic       1464.0 [1463;1466]   \n",
       "SKESA             Multiple k-mer De Bruijn graph Genomic       2889.0 [2889;2889]   \n",
       "SPAdes            Multiple k-mer De Bruijn graph Genomic       4999.0 [4999;4999]   \n",
       "Unicycler         Multiple k-mer De Bruijn graph Genomic          144.0 [144;144]   \n",
       "VelvetOptimiser   Multiple k-mer De Bruijn graph Metagenomic      340.0 [340;340]   \n",
       "\n",
       "                                                             filtered_mapped_reads  \\\n",
       "Assembler         Algorithm                      Type                                \n",
       "ABySS             Single k-mer De Bruijn graph   Genomic             79.03 [79;79]   \n",
       "BCALM2            Single k-mer De Bruijn graph   Genomic                 0.1 [0;0]   \n",
       "GATBMiniaPipeline Multiple k-mer De Bruijn graph Metagenomic          88.9 [88;88]   \n",
       "IDBA-UD           Multiple k-mer De Bruijn graph Metagenomic         89.23 [89;89]   \n",
       "MEGAHIT           Multiple k-mer De Bruijn graph Metagenomic          89.5 [89;89]   \n",
       "MetaHipMer2       Multiple k-mer De Bruijn graph Metagenomic         73.91 [73;73]   \n",
       "metaSPAdes        Multiple k-mer De Bruijn graph Metagenomic         89.37 [89;89]   \n",
       "MINIA             Single k-mer De Bruijn graph   Genomic             84.24 [84;84]   \n",
       "SKESA             Multiple k-mer De Bruijn graph Genomic             62.71 [62;62]   \n",
       "SPAdes            Multiple k-mer De Bruijn graph Genomic             57.93 [57;57]   \n",
       "Unicycler         Multiple k-mer De Bruijn graph Genomic             87.48 [87;87]   \n",
       "VelvetOptimiser   Multiple k-mer De Bruijn graph Metagenomic            0.02 [0;0]   \n",
       "\n",
       "                                                                          filtered_n50  \\\n",
       "Assembler         Algorithm                      Type                                    \n",
       "ABySS             Single k-mer De Bruijn graph   Genomic         18568.0 [18568;18568]   \n",
       "BCALM2            Single k-mer De Bruijn graph   Genomic            1262.0 [1262;1262]   \n",
       "GATBMiniaPipeline Multiple k-mer De Bruijn graph Metagenomic     90393.0 [90095;90989]   \n",
       "IDBA-UD           Multiple k-mer De Bruijn graph Metagenomic  113853.0 [113853;113853]   \n",
       "MEGAHIT           Multiple k-mer De Bruijn graph Metagenomic  210993.0 [210993;210993]   \n",
       "MetaHipMer2       Multiple k-mer De Bruijn graph Metagenomic       2174.67 [2170;2177]   \n",
       "metaSPAdes        Multiple k-mer De Bruijn graph Metagenomic     87983.0 [87983;87983]   \n",
       "MINIA             Single k-mer De Bruijn graph   Genomic        18204.67 [18038;18288]   \n",
       "SKESA             Multiple k-mer De Bruijn graph Genomic            2148.0 [2148;2148]   \n",
       "SPAdes            Multiple k-mer De Bruijn graph Genomic         55465.0 [55465;55465]   \n",
       "Unicycler         Multiple k-mer De Bruijn graph Genomic      256884.0 [256884;256884]   \n",
       "VelvetOptimiser   Multiple k-mer De Bruijn graph Metagenomic        1180.0 [1180;1180]   \n",
       "\n",
       "                                                               mapped_reads  \\\n",
       "Assembler         Algorithm                      Type                         \n",
       "ABySS             Single k-mer De Bruijn graph   Genomic      91.83 [91;91]   \n",
       "BCALM2            Single k-mer De Bruijn graph   Genomic         1.43 [1;1]   \n",
       "GATBMiniaPipeline Multiple k-mer De Bruijn graph Metagenomic   89.4 [89;89]   \n",
       "IDBA-UD           Multiple k-mer De Bruijn graph Metagenomic   89.8 [89;89]   \n",
       "MEGAHIT           Multiple k-mer De Bruijn graph Metagenomic  89.76 [89;89]   \n",
       "MetaHipMer2       Multiple k-mer De Bruijn graph Metagenomic  84.35 [84;84]   \n",
       "metaSPAdes        Multiple k-mer De Bruijn graph Metagenomic  89.93 [89;89]   \n",
       "MINIA             Single k-mer De Bruijn graph   Genomic      87.68 [87;87]   \n",
       "SKESA             Multiple k-mer De Bruijn graph Genomic      78.66 [78;78]   \n",
       "SPAdes            Multiple k-mer De Bruijn graph Genomic      87.24 [87;87]   \n",
       "Unicycler         Multiple k-mer De Bruijn graph Genomic      88.06 [88;88]   \n",
       "VelvetOptimiser   Multiple k-mer De Bruijn graph Metagenomic     1.39 [1;1]   \n",
       "\n",
       "                                                                            max_contig  \\\n",
       "Assembler         Algorithm                      Type                                    \n",
       "ABySS             Single k-mer De Bruijn graph   Genomic         88665.0 [88665;88665]   \n",
       "BCALM2            Single k-mer De Bruijn graph   Genomic            3093.0 [3093;3093]   \n",
       "GATBMiniaPipeline Multiple k-mer De Bruijn graph Metagenomic  542997.0 [542997;542997]   \n",
       "IDBA-UD           Multiple k-mer De Bruijn graph Metagenomic  632213.0 [632213;632213]   \n",
       "MEGAHIT           Multiple k-mer De Bruijn graph Metagenomic  768410.0 [768410;768410]   \n",
       "MetaHipMer2       Multiple k-mer De Bruijn graph Metagenomic     14760.0 [14760;14760]   \n",
       "metaSPAdes        Multiple k-mer De Bruijn graph Metagenomic  622107.0 [622107;622107]   \n",
       "MINIA             Single k-mer De Bruijn graph   Genomic      163543.0 [163543;163543]   \n",
       "SKESA             Multiple k-mer De Bruijn graph Genomic         29155.0 [29155;29155]   \n",
       "SPAdes            Multiple k-mer De Bruijn graph Genomic      847683.0 [847683;847683]   \n",
       "Unicycler         Multiple k-mer De Bruijn graph Genomic      847580.0 [847580;847580]   \n",
       "VelvetOptimiser   Multiple k-mer De Bruijn graph Metagenomic        2044.0 [2044;2044]   \n",
       "\n",
       "                                                             misassembled contigs  \\\n",
       "Assembler         Algorithm                      Type                               \n",
       "ABySS             Single k-mer De Bruijn graph   Genomic                0.0 [0;0]   \n",
       "BCALM2            Single k-mer De Bruijn graph   Genomic                0.0 [0;0]   \n",
       "GATBMiniaPipeline Multiple k-mer De Bruijn graph Metagenomic           0.67 [0;1]   \n",
       "IDBA-UD           Multiple k-mer De Bruijn graph Metagenomic            3.0 [3;3]   \n",
       "MEGAHIT           Multiple k-mer De Bruijn graph Metagenomic            1.0 [1;1]   \n",
       "MetaHipMer2       Multiple k-mer De Bruijn graph Metagenomic            0.0 [0;0]   \n",
       "metaSPAdes        Multiple k-mer De Bruijn graph Metagenomic            3.0 [3;3]   \n",
       "MINIA             Single k-mer De Bruijn graph   Genomic                2.0 [2;2]   \n",
       "SKESA             Multiple k-mer De Bruijn graph Genomic                0.0 [0;0]   \n",
       "SPAdes            Multiple k-mer De Bruijn graph Genomic          572.0 [572;572]   \n",
       "Unicycler         Multiple k-mer De Bruijn graph Genomic                0.0 [0;0]   \n",
       "VelvetOptimiser   Multiple k-mer De Bruijn graph Metagenomic            0.0 [0;0]   \n",
       "\n",
       "                                                              misassembly events  \\\n",
       "Assembler         Algorithm                      Type                              \n",
       "ABySS             Single k-mer De Bruijn graph   Genomic               0.0 [0;0]   \n",
       "BCALM2            Single k-mer De Bruijn graph   Genomic               0.0 [0;0]   \n",
       "GATBMiniaPipeline Multiple k-mer De Bruijn graph Metagenomic          1.33 [0;2]   \n",
       "IDBA-UD           Multiple k-mer De Bruijn graph Metagenomic           5.0 [5;5]   \n",
       "MEGAHIT           Multiple k-mer De Bruijn graph Metagenomic           2.0 [2;2]   \n",
       "MetaHipMer2       Multiple k-mer De Bruijn graph Metagenomic           0.0 [0;0]   \n",
       "metaSPAdes        Multiple k-mer De Bruijn graph Metagenomic           7.0 [7;7]   \n",
       "MINIA             Single k-mer De Bruijn graph   Genomic               3.0 [3;3]   \n",
       "SKESA             Multiple k-mer De Bruijn graph Genomic               0.0 [0;0]   \n",
       "SPAdes            Multiple k-mer De Bruijn graph Genomic      1148.0 [1148;1148]   \n",
       "Unicycler         Multiple k-mer De Bruijn graph Genomic               0.0 [0;0]   \n",
       "VelvetOptimiser   Multiple k-mer De Bruijn graph Metagenomic           0.0 [0;0]   \n",
       "\n",
       "                                                                                   n50  \n",
       "Assembler         Algorithm                      Type                                   \n",
       "ABySS             Single k-mer De Bruijn graph   Genomic               101.0 [101;101]  \n",
       "BCALM2            Single k-mer De Bruijn graph   Genomic                  35.0 [35;35]  \n",
       "GATBMiniaPipeline Multiple k-mer De Bruijn graph Metagenomic    55722.33 [55204;56759]  \n",
       "IDBA-UD           Multiple k-mer De Bruijn graph Metagenomic     51161.0 [51161;51161]  \n",
       "MEGAHIT           Multiple k-mer De Bruijn graph Metagenomic     82249.0 [82249;82249]  \n",
       "MetaHipMer2       Multiple k-mer De Bruijn graph Metagenomic       1515.67 [1515;1516]  \n",
       "metaSPAdes        Multiple k-mer De Bruijn graph Metagenomic        3674.0 [3674;3674]  \n",
       "MINIA             Single k-mer De Bruijn graph   Genomic            7485.0 [7485;7485]  \n",
       "SKESA             Multiple k-mer De Bruijn graph Genomic            1431.0 [1431;1431]  \n",
       "SPAdes            Multiple k-mer De Bruijn graph Genomic            1972.0 [1972;1972]  \n",
       "Unicycler         Multiple k-mer De Bruijn graph Genomic      256884.0 [256884;256884]  \n",
       "VelvetOptimiser   Multiple k-mer De Bruijn graph Metagenomic              88.0 [88;88]  "
      ]
     },
     "metadata": {},
     "output_type": "display_data"
    },
    {
     "data": {
      "text/html": [
       "<div>\n",
       "<style scoped>\n",
       "    .dataframe tbody tr th:only-of-type {\n",
       "        vertical-align: middle;\n",
       "    }\n",
       "\n",
       "    .dataframe tbody tr th {\n",
       "        vertical-align: top;\n",
       "    }\n",
       "\n",
       "    .dataframe thead th {\n",
       "        text-align: right;\n",
       "    }\n",
       "</style>\n",
       "<table border=\"1\" class=\"dataframe\">\n",
       "  <thead>\n",
       "    <tr style=\"text-align: right;\">\n",
       "      <th></th>\n",
       "      <th>Ns</th>\n",
       "      <th>basepairs</th>\n",
       "      <th>contigs</th>\n",
       "      <th>filtered_Ns</th>\n",
       "      <th>filtered_basepairs</th>\n",
       "      <th>filtered_contigs</th>\n",
       "      <th>filtered_mapped_reads</th>\n",
       "      <th>filtered_n50</th>\n",
       "      <th>mapped_reads</th>\n",
       "      <th>max_contig</th>\n",
       "      <th>misassembled contigs</th>\n",
       "      <th>misassembly events</th>\n",
       "      <th>n50</th>\n",
       "    </tr>\n",
       "    <tr>\n",
       "      <th>Assembler</th>\n",
       "      <th></th>\n",
       "      <th></th>\n",
       "      <th></th>\n",
       "      <th></th>\n",
       "      <th></th>\n",
       "      <th></th>\n",
       "      <th></th>\n",
       "      <th></th>\n",
       "      <th></th>\n",
       "      <th></th>\n",
       "      <th></th>\n",
       "      <th></th>\n",
       "      <th></th>\n",
       "    </tr>\n",
       "  </thead>\n",
       "  <tbody>\n",
       "    <tr>\n",
       "      <th>ABySS</th>\n",
       "      <td>9.0</td>\n",
       "      <td>78728532.0</td>\n",
       "      <td>677853.0</td>\n",
       "      <td>0.0</td>\n",
       "      <td>3150980.0</td>\n",
       "      <td>356.0</td>\n",
       "      <td>79.029655</td>\n",
       "      <td>18568.0</td>\n",
       "      <td>91.834377</td>\n",
       "      <td>88665.0</td>\n",
       "      <td>0.0</td>\n",
       "      <td>0.0</td>\n",
       "      <td>101.0</td>\n",
       "    </tr>\n",
       "    <tr>\n",
       "      <th>BCALM2</th>\n",
       "      <td>0.0</td>\n",
       "      <td>315567452.0</td>\n",
       "      <td>8035706.0</td>\n",
       "      <td>0.0</td>\n",
       "      <td>657074.0</td>\n",
       "      <td>504.0</td>\n",
       "      <td>0.103994</td>\n",
       "      <td>1262.0</td>\n",
       "      <td>1.428389</td>\n",
       "      <td>3093.0</td>\n",
       "      <td>0.0</td>\n",
       "      <td>0.0</td>\n",
       "      <td>35.0</td>\n",
       "    </tr>\n",
       "    <tr>\n",
       "      <th>GATBMiniaPipeline</th>\n",
       "      <td>0.0</td>\n",
       "      <td>17147130.0</td>\n",
       "      <td>6776.0</td>\n",
       "      <td>0.0</td>\n",
       "      <td>13912407.0</td>\n",
       "      <td>603.0</td>\n",
       "      <td>88.896275</td>\n",
       "      <td>90989.0</td>\n",
       "      <td>89.404632</td>\n",
       "      <td>542997.0</td>\n",
       "      <td>0.0</td>\n",
       "      <td>0.0</td>\n",
       "      <td>56759.0</td>\n",
       "    </tr>\n",
       "    <tr>\n",
       "      <th>IDBA-UD</th>\n",
       "      <td>0.0</td>\n",
       "      <td>23587252.0</td>\n",
       "      <td>14155.0</td>\n",
       "      <td>0.0</td>\n",
       "      <td>17534580.0</td>\n",
       "      <td>2725.0</td>\n",
       "      <td>89.225493</td>\n",
       "      <td>113853.0</td>\n",
       "      <td>89.800832</td>\n",
       "      <td>632213.0</td>\n",
       "      <td>3.0</td>\n",
       "      <td>5.0</td>\n",
       "      <td>51161.0</td>\n",
       "    </tr>\n",
       "    <tr>\n",
       "      <th>MEGAHIT</th>\n",
       "      <td>0.0</td>\n",
       "      <td>24498566.0</td>\n",
       "      <td>14172.0</td>\n",
       "      <td>0.0</td>\n",
       "      <td>18552996.0</td>\n",
       "      <td>3044.0</td>\n",
       "      <td>89.502391</td>\n",
       "      <td>210993.0</td>\n",
       "      <td>89.764224</td>\n",
       "      <td>768410.0</td>\n",
       "      <td>1.0</td>\n",
       "      <td>2.0</td>\n",
       "      <td>82249.0</td>\n",
       "    </tr>\n",
       "    <tr>\n",
       "      <th>MetaHipMer2</th>\n",
       "      <td>0.0</td>\n",
       "      <td>15029970.0</td>\n",
       "      <td>11966.0</td>\n",
       "      <td>0.0</td>\n",
       "      <td>10264085.0</td>\n",
       "      <td>5031.0</td>\n",
       "      <td>73.959495</td>\n",
       "      <td>2177.0</td>\n",
       "      <td>84.356216</td>\n",
       "      <td>14760.0</td>\n",
       "      <td>0.0</td>\n",
       "      <td>0.0</td>\n",
       "      <td>1516.0</td>\n",
       "    </tr>\n",
       "    <tr>\n",
       "      <th>metaSPAdes</th>\n",
       "      <td>0.0</td>\n",
       "      <td>27822010.0</td>\n",
       "      <td>26282.0</td>\n",
       "      <td>0.0</td>\n",
       "      <td>18792639.0</td>\n",
       "      <td>3392.0</td>\n",
       "      <td>89.368112</td>\n",
       "      <td>87983.0</td>\n",
       "      <td>89.926254</td>\n",
       "      <td>622107.0</td>\n",
       "      <td>3.0</td>\n",
       "      <td>7.0</td>\n",
       "      <td>3674.0</td>\n",
       "    </tr>\n",
       "    <tr>\n",
       "      <th>MINIA</th>\n",
       "      <td>0.0</td>\n",
       "      <td>20758864.0</td>\n",
       "      <td>37281.0</td>\n",
       "      <td>0.0</td>\n",
       "      <td>13448666.0</td>\n",
       "      <td>1463.0</td>\n",
       "      <td>84.244476</td>\n",
       "      <td>18288.0</td>\n",
       "      <td>87.678584</td>\n",
       "      <td>163543.0</td>\n",
       "      <td>2.0</td>\n",
       "      <td>3.0</td>\n",
       "      <td>7485.0</td>\n",
       "    </tr>\n",
       "    <tr>\n",
       "      <th>SKESA</th>\n",
       "      <td>0.0</td>\n",
       "      <td>8818742.0</td>\n",
       "      <td>8822.0</td>\n",
       "      <td>0.0</td>\n",
       "      <td>5801439.0</td>\n",
       "      <td>2889.0</td>\n",
       "      <td>62.710033</td>\n",
       "      <td>2148.0</td>\n",
       "      <td>78.662557</td>\n",
       "      <td>29155.0</td>\n",
       "      <td>0.0</td>\n",
       "      <td>0.0</td>\n",
       "      <td>1431.0</td>\n",
       "    </tr>\n",
       "    <tr>\n",
       "      <th>SPAdes</th>\n",
       "      <td>0.0</td>\n",
       "      <td>29517365.0</td>\n",
       "      <td>36214.0</td>\n",
       "      <td>0.0</td>\n",
       "      <td>19595813.0</td>\n",
       "      <td>4999.0</td>\n",
       "      <td>57.929408</td>\n",
       "      <td>55465.0</td>\n",
       "      <td>87.244353</td>\n",
       "      <td>847683.0</td>\n",
       "      <td>572.0</td>\n",
       "      <td>1148.0</td>\n",
       "      <td>1972.0</td>\n",
       "    </tr>\n",
       "    <tr>\n",
       "      <th>Unicycler</th>\n",
       "      <td>0.0</td>\n",
       "      <td>9747587.0</td>\n",
       "      <td>205.0</td>\n",
       "      <td>0.0</td>\n",
       "      <td>9725301.0</td>\n",
       "      <td>144.0</td>\n",
       "      <td>87.475243</td>\n",
       "      <td>256884.0</td>\n",
       "      <td>88.056194</td>\n",
       "      <td>847580.0</td>\n",
       "      <td>0.0</td>\n",
       "      <td>0.0</td>\n",
       "      <td>256884.0</td>\n",
       "    </tr>\n",
       "    <tr>\n",
       "      <th>VelvetOptimiser</th>\n",
       "      <td>0.0</td>\n",
       "      <td>47958628.0</td>\n",
       "      <td>525998.0</td>\n",
       "      <td>0.0</td>\n",
       "      <td>409222.0</td>\n",
       "      <td>340.0</td>\n",
       "      <td>0.020348</td>\n",
       "      <td>1180.0</td>\n",
       "      <td>1.386356</td>\n",
       "      <td>2044.0</td>\n",
       "      <td>0.0</td>\n",
       "      <td>0.0</td>\n",
       "      <td>88.0</td>\n",
       "    </tr>\n",
       "  </tbody>\n",
       "</table>\n",
       "</div>"
      ],
      "text/plain": [
       "                    Ns    basepairs    contigs  filtered_Ns  \\\n",
       "Assembler                                                     \n",
       "ABySS              9.0   78728532.0   677853.0          0.0   \n",
       "BCALM2             0.0  315567452.0  8035706.0          0.0   \n",
       "GATBMiniaPipeline  0.0   17147130.0     6776.0          0.0   \n",
       "IDBA-UD            0.0   23587252.0    14155.0          0.0   \n",
       "MEGAHIT            0.0   24498566.0    14172.0          0.0   \n",
       "MetaHipMer2        0.0   15029970.0    11966.0          0.0   \n",
       "metaSPAdes         0.0   27822010.0    26282.0          0.0   \n",
       "MINIA              0.0   20758864.0    37281.0          0.0   \n",
       "SKESA              0.0    8818742.0     8822.0          0.0   \n",
       "SPAdes             0.0   29517365.0    36214.0          0.0   \n",
       "Unicycler          0.0    9747587.0      205.0          0.0   \n",
       "VelvetOptimiser    0.0   47958628.0   525998.0          0.0   \n",
       "\n",
       "                   filtered_basepairs  filtered_contigs  \\\n",
       "Assembler                                                 \n",
       "ABySS                       3150980.0             356.0   \n",
       "BCALM2                       657074.0             504.0   \n",
       "GATBMiniaPipeline          13912407.0             603.0   \n",
       "IDBA-UD                    17534580.0            2725.0   \n",
       "MEGAHIT                    18552996.0            3044.0   \n",
       "MetaHipMer2                10264085.0            5031.0   \n",
       "metaSPAdes                 18792639.0            3392.0   \n",
       "MINIA                      13448666.0            1463.0   \n",
       "SKESA                       5801439.0            2889.0   \n",
       "SPAdes                     19595813.0            4999.0   \n",
       "Unicycler                   9725301.0             144.0   \n",
       "VelvetOptimiser              409222.0             340.0   \n",
       "\n",
       "                   filtered_mapped_reads  filtered_n50  mapped_reads  \\\n",
       "Assembler                                                              \n",
       "ABySS                          79.029655       18568.0     91.834377   \n",
       "BCALM2                          0.103994        1262.0      1.428389   \n",
       "GATBMiniaPipeline              88.896275       90989.0     89.404632   \n",
       "IDBA-UD                        89.225493      113853.0     89.800832   \n",
       "MEGAHIT                        89.502391      210993.0     89.764224   \n",
       "MetaHipMer2                    73.959495        2177.0     84.356216   \n",
       "metaSPAdes                     89.368112       87983.0     89.926254   \n",
       "MINIA                          84.244476       18288.0     87.678584   \n",
       "SKESA                          62.710033        2148.0     78.662557   \n",
       "SPAdes                         57.929408       55465.0     87.244353   \n",
       "Unicycler                      87.475243      256884.0     88.056194   \n",
       "VelvetOptimiser                 0.020348        1180.0      1.386356   \n",
       "\n",
       "                   max_contig  misassembled contigs  misassembly events  \\\n",
       "Assembler                                                                 \n",
       "ABySS                 88665.0                   0.0                 0.0   \n",
       "BCALM2                 3093.0                   0.0                 0.0   \n",
       "GATBMiniaPipeline    542997.0                   0.0                 0.0   \n",
       "IDBA-UD              632213.0                   3.0                 5.0   \n",
       "MEGAHIT              768410.0                   1.0                 2.0   \n",
       "MetaHipMer2           14760.0                   0.0                 0.0   \n",
       "metaSPAdes           622107.0                   3.0                 7.0   \n",
       "MINIA                163543.0                   2.0                 3.0   \n",
       "SKESA                 29155.0                   0.0                 0.0   \n",
       "SPAdes               847683.0                 572.0              1148.0   \n",
       "Unicycler            847580.0                   0.0                 0.0   \n",
       "VelvetOptimiser        2044.0                   0.0                 0.0   \n",
       "\n",
       "                        n50  \n",
       "Assembler                    \n",
       "ABySS                 101.0  \n",
       "BCALM2                 35.0  \n",
       "GATBMiniaPipeline   56759.0  \n",
       "IDBA-UD             51161.0  \n",
       "MEGAHIT             82249.0  \n",
       "MetaHipMer2          1516.0  \n",
       "metaSPAdes           3674.0  \n",
       "MINIA                7485.0  \n",
       "SKESA                1431.0  \n",
       "SPAdes               1972.0  \n",
       "Unicycler          256884.0  \n",
       "VelvetOptimiser        88.0  "
      ]
     },
     "metadata": {},
     "output_type": "display_data"
    },
    {
     "name": "stdout",
     "output_type": "stream",
     "text": [
      "LHS\n"
     ]
    },
    {
     "data": {
      "text/html": [
       "<div>\n",
       "<style scoped>\n",
       "    .dataframe tbody tr th:only-of-type {\n",
       "        vertical-align: middle;\n",
       "    }\n",
       "\n",
       "    .dataframe tbody tr th {\n",
       "        vertical-align: top;\n",
       "    }\n",
       "\n",
       "    .dataframe thead th {\n",
       "        text-align: right;\n",
       "    }\n",
       "</style>\n",
       "<table border=\"1\" class=\"dataframe\">\n",
       "  <thead>\n",
       "    <tr style=\"text-align: right;\">\n",
       "      <th></th>\n",
       "      <th></th>\n",
       "      <th></th>\n",
       "      <th>Ns</th>\n",
       "      <th>basepairs</th>\n",
       "      <th>contigs</th>\n",
       "      <th>filtered_Ns</th>\n",
       "      <th>filtered_basepairs</th>\n",
       "      <th>filtered_contigs</th>\n",
       "      <th>filtered_mapped_reads</th>\n",
       "      <th>filtered_n50</th>\n",
       "      <th>mapped_reads</th>\n",
       "      <th>max_contig</th>\n",
       "      <th>misassembled contigs</th>\n",
       "      <th>misassembly events</th>\n",
       "      <th>n50</th>\n",
       "    </tr>\n",
       "    <tr>\n",
       "      <th>Assembler</th>\n",
       "      <th>Algorithm</th>\n",
       "      <th>Type</th>\n",
       "      <th></th>\n",
       "      <th></th>\n",
       "      <th></th>\n",
       "      <th></th>\n",
       "      <th></th>\n",
       "      <th></th>\n",
       "      <th></th>\n",
       "      <th></th>\n",
       "      <th></th>\n",
       "      <th></th>\n",
       "      <th></th>\n",
       "      <th></th>\n",
       "      <th></th>\n",
       "    </tr>\n",
       "  </thead>\n",
       "  <tbody>\n",
       "    <tr>\n",
       "      <th>ABySS</th>\n",
       "      <th>Single k-mer De Bruijn graph</th>\n",
       "      <th>Genomic</th>\n",
       "      <td>0.0 [0;0]</td>\n",
       "      <td>0.0 [0;0]</td>\n",
       "      <td>0.0 [0;0]</td>\n",
       "      <td>0.0 [0;0]</td>\n",
       "      <td>0.0 [0;0]</td>\n",
       "      <td>0.0 [0;0]</td>\n",
       "      <td>0.0 [0;0]</td>\n",
       "      <td>0.0 [0;0]</td>\n",
       "      <td>0.0 [0;0]</td>\n",
       "      <td>0.0 [0;0]</td>\n",
       "      <td>0.0 [0;0]</td>\n",
       "      <td>0.0 [0;0]</td>\n",
       "      <td>0.0 [0;0]</td>\n",
       "    </tr>\n",
       "    <tr>\n",
       "      <th>BCALM2</th>\n",
       "      <th>Single k-mer De Bruijn graph</th>\n",
       "      <th>Genomic</th>\n",
       "      <td>0.0 [0;0]</td>\n",
       "      <td>364761201.0 [364761201;364761201]</td>\n",
       "      <td>8175890.0 [8175890;8175890]</td>\n",
       "      <td>0.0 [0;0]</td>\n",
       "      <td>11967.0 [11967;11967]</td>\n",
       "      <td>11.0 [11;11]</td>\n",
       "      <td>0.0 [0;0]</td>\n",
       "      <td>1062.0 [1062;1062]</td>\n",
       "      <td>6.39 [6;6]</td>\n",
       "      <td>1212.0 [1212;1212]</td>\n",
       "      <td>0.0 [0;0]</td>\n",
       "      <td>0.0 [0;0]</td>\n",
       "      <td>49.0 [49;49]</td>\n",
       "    </tr>\n",
       "    <tr>\n",
       "      <th>GATBMiniaPipeline</th>\n",
       "      <th>Multiple k-mer De Bruijn graph</th>\n",
       "      <th>Metagenomic</th>\n",
       "      <td>0.0 [0;0]</td>\n",
       "      <td>13638465.67 [13638386;13638625]</td>\n",
       "      <td>988.33 [988;989]</td>\n",
       "      <td>0.0 [0;0]</td>\n",
       "      <td>13507754.67 [13507672;13507796]</td>\n",
       "      <td>762.0 [762;762]</td>\n",
       "      <td>96.81 [96;96]</td>\n",
       "      <td>91722.0 [91722;91722]</td>\n",
       "      <td>97.17 [97;97]</td>\n",
       "      <td>632215.0 [632215;632215]</td>\n",
       "      <td>2.0 [2;2]</td>\n",
       "      <td>6.0 [6;6]</td>\n",
       "      <td>90987.0 [90987;90987]</td>\n",
       "    </tr>\n",
       "    <tr>\n",
       "      <th>IDBA-UD</th>\n",
       "      <th>Multiple k-mer De Bruijn graph</th>\n",
       "      <th>Metagenomic</th>\n",
       "      <td>0.0 [0;0]</td>\n",
       "      <td>13791669.67 [13791669;13791670]</td>\n",
       "      <td>1025.0 [1025;1025]</td>\n",
       "      <td>0.0 [0;0]</td>\n",
       "      <td>13601108.67 [13601100;13601126]</td>\n",
       "      <td>568.0 [568;568]</td>\n",
       "      <td>96.96 [96;96]</td>\n",
       "      <td>107465.0 [106347;108024]</td>\n",
       "      <td>97.19 [97;97]</td>\n",
       "      <td>632213.0 [632213;632213]</td>\n",
       "      <td>2.0 [2;2]</td>\n",
       "      <td>5.0 [5;5]</td>\n",
       "      <td>104140.0 [99726;106347]</td>\n",
       "    </tr>\n",
       "    <tr>\n",
       "      <th>MEGAHIT</th>\n",
       "      <th>Multiple k-mer De Bruijn graph</th>\n",
       "      <th>Metagenomic</th>\n",
       "      <td>0.0 [0;0]</td>\n",
       "      <td>13843596.0 [13843596;13843596]</td>\n",
       "      <td>767.0 [767;767]</td>\n",
       "      <td>0.0 [0;0]</td>\n",
       "      <td>13671964.0 [13671964;13671964]</td>\n",
       "      <td>327.0 [327;327]</td>\n",
       "      <td>97.15 [97;97]</td>\n",
       "      <td>171540.0 [171540;171540]</td>\n",
       "      <td>97.29 [97;97]</td>\n",
       "      <td>632250.0 [632250;632250]</td>\n",
       "      <td>0.0 [0;0]</td>\n",
       "      <td>0.0 [0;0]</td>\n",
       "      <td>171359.0 [171359;171359]</td>\n",
       "    </tr>\n",
       "    <tr>\n",
       "      <th>MetaHipMer2</th>\n",
       "      <th>Multiple k-mer De Bruijn graph</th>\n",
       "      <th>Metagenomic</th>\n",
       "      <td>0.0 [0;0]</td>\n",
       "      <td>0.0 [0;0]</td>\n",
       "      <td>0.0 [0;0]</td>\n",
       "      <td>0.0 [0;0]</td>\n",
       "      <td>0.0 [0;0]</td>\n",
       "      <td>0.0 [0;0]</td>\n",
       "      <td>0.0 [0;0]</td>\n",
       "      <td>0.0 [0;0]</td>\n",
       "      <td>0.0 [0;0]</td>\n",
       "      <td>0.0 [0;0]</td>\n",
       "      <td>0.0 [0;0]</td>\n",
       "      <td>0.0 [0;0]</td>\n",
       "      <td>0.0 [0;0]</td>\n",
       "    </tr>\n",
       "    <tr>\n",
       "      <th>metaSPAdes</th>\n",
       "      <th>Multiple k-mer De Bruijn graph</th>\n",
       "      <th>Metagenomic</th>\n",
       "      <td>0.0 [0;0]</td>\n",
       "      <td>14157309.0 [14157309;14157309]</td>\n",
       "      <td>2099.0 [2099;2099]</td>\n",
       "      <td>0.0 [0;0]</td>\n",
       "      <td>13672885.0 [13672885;13672885]</td>\n",
       "      <td>184.0 [184;184]</td>\n",
       "      <td>97.18 [97;97]</td>\n",
       "      <td>196786.0 [196786;196786]</td>\n",
       "      <td>97.27 [97;97]</td>\n",
       "      <td>917728.0 [917728;917728]</td>\n",
       "      <td>1.0 [1;1]</td>\n",
       "      <td>3.0 [3;3]</td>\n",
       "      <td>193256.0 [193256;193256]</td>\n",
       "    </tr>\n",
       "    <tr>\n",
       "      <th>MINIA</th>\n",
       "      <th>Single k-mer De Bruijn graph</th>\n",
       "      <th>Genomic</th>\n",
       "      <td>0.0 [0;0]</td>\n",
       "      <td>15335005.0 [15334799;15335108]</td>\n",
       "      <td>24660.67 [24654;24664]</td>\n",
       "      <td>0.0 [0;0]</td>\n",
       "      <td>12921859.0 [12920975;12922301]</td>\n",
       "      <td>2171.67 [2171;2172]</td>\n",
       "      <td>81.99 [81;81]</td>\n",
       "      <td>10582.0 [10582;10582]</td>\n",
       "      <td>91.09 [91;91]</td>\n",
       "      <td>163543.0 [163543;163543]</td>\n",
       "      <td>0.0 [0;0]</td>\n",
       "      <td>0.0 [0;0]</td>\n",
       "      <td>7727.0 [7727;7727]</td>\n",
       "    </tr>\n",
       "    <tr>\n",
       "      <th>SKESA</th>\n",
       "      <th>Multiple k-mer De Bruijn graph</th>\n",
       "      <th>Genomic</th>\n",
       "      <td>0.0 [0;0]</td>\n",
       "      <td>2957060.0 [2957060;2957060]</td>\n",
       "      <td>36.0 [36;36]</td>\n",
       "      <td>0.0 [0;0]</td>\n",
       "      <td>2950393.0 [2950393;2950393]</td>\n",
       "      <td>21.0 [21;21]</td>\n",
       "      <td>92.0 [92;92]</td>\n",
       "      <td>351027.0 [351027;351027]</td>\n",
       "      <td>92.23 [92;92]</td>\n",
       "      <td>632013.0 [632013;632013]</td>\n",
       "      <td>0.0 [0;0]</td>\n",
       "      <td>0.0 [0;0]</td>\n",
       "      <td>351027.0 [351027;351027]</td>\n",
       "    </tr>\n",
       "    <tr>\n",
       "      <th>SPAdes</th>\n",
       "      <th>Multiple k-mer De Bruijn graph</th>\n",
       "      <th>Genomic</th>\n",
       "      <td>0.0 [0;0]</td>\n",
       "      <td>16214591.0 [16214591;16214591]</td>\n",
       "      <td>31040.0 [31040;31040]</td>\n",
       "      <td>0.0 [0;0]</td>\n",
       "      <td>13087777.0 [13087777;13087777]</td>\n",
       "      <td>1526.0 [1526;1526]</td>\n",
       "      <td>77.08 [77;77]</td>\n",
       "      <td>69361.0 [69361;69361]</td>\n",
       "      <td>95.5 [95;95]</td>\n",
       "      <td>263645.0 [263645;263645]</td>\n",
       "      <td>1.0 [1;1]</td>\n",
       "      <td>2.0 [2;2]</td>\n",
       "      <td>46478.0 [46478;46478]</td>\n",
       "    </tr>\n",
       "    <tr>\n",
       "      <th>Unicycler</th>\n",
       "      <th>Multiple k-mer De Bruijn graph</th>\n",
       "      <th>Genomic</th>\n",
       "      <td>0.0 [0;0]</td>\n",
       "      <td>13324149.0 [13324149;13324149]</td>\n",
       "      <td>264.0 [264;264]</td>\n",
       "      <td>0.0 [0;0]</td>\n",
       "      <td>13315624.0 [13315624;13315624]</td>\n",
       "      <td>243.0 [243;243]</td>\n",
       "      <td>96.41 [96;96]</td>\n",
       "      <td>192888.0 [192888;192888]</td>\n",
       "      <td>96.97 [96;96]</td>\n",
       "      <td>847572.0 [847572;847572]</td>\n",
       "      <td>5.0 [5;5]</td>\n",
       "      <td>10.0 [10;10]</td>\n",
       "      <td>192888.0 [192888;192888]</td>\n",
       "    </tr>\n",
       "    <tr>\n",
       "      <th>VelvetOptimiser</th>\n",
       "      <th>Multiple k-mer De Bruijn graph</th>\n",
       "      <th>Metagenomic</th>\n",
       "      <td>0.0 [0;0]</td>\n",
       "      <td>22199110.0 [22177532;22242266]</td>\n",
       "      <td>222218.67 [185614;240521]</td>\n",
       "      <td>0.0 [0;0]</td>\n",
       "      <td>2959214.67 [1087944;6701756]</td>\n",
       "      <td>1623.67 [817;3237]</td>\n",
       "      <td>1.02 [0;2]</td>\n",
       "      <td>1589.0 [1295;2177]</td>\n",
       "      <td>5.95 [4;9]</td>\n",
       "      <td>8619.33 [4146;17566]</td>\n",
       "      <td>0.0 [0;0]</td>\n",
       "      <td>0.0 [0;0]</td>\n",
       "      <td>141.0 [124;175]</td>\n",
       "    </tr>\n",
       "  </tbody>\n",
       "</table>\n",
       "</div>"
      ],
      "text/plain": [
       "                                                                     Ns  \\\n",
       "Assembler         Algorithm                      Type                     \n",
       "ABySS             Single k-mer De Bruijn graph   Genomic      0.0 [0;0]   \n",
       "BCALM2            Single k-mer De Bruijn graph   Genomic      0.0 [0;0]   \n",
       "GATBMiniaPipeline Multiple k-mer De Bruijn graph Metagenomic  0.0 [0;0]   \n",
       "IDBA-UD           Multiple k-mer De Bruijn graph Metagenomic  0.0 [0;0]   \n",
       "MEGAHIT           Multiple k-mer De Bruijn graph Metagenomic  0.0 [0;0]   \n",
       "MetaHipMer2       Multiple k-mer De Bruijn graph Metagenomic  0.0 [0;0]   \n",
       "metaSPAdes        Multiple k-mer De Bruijn graph Metagenomic  0.0 [0;0]   \n",
       "MINIA             Single k-mer De Bruijn graph   Genomic      0.0 [0;0]   \n",
       "SKESA             Multiple k-mer De Bruijn graph Genomic      0.0 [0;0]   \n",
       "SPAdes            Multiple k-mer De Bruijn graph Genomic      0.0 [0;0]   \n",
       "Unicycler         Multiple k-mer De Bruijn graph Genomic      0.0 [0;0]   \n",
       "VelvetOptimiser   Multiple k-mer De Bruijn graph Metagenomic  0.0 [0;0]   \n",
       "\n",
       "                                                                                      basepairs  \\\n",
       "Assembler         Algorithm                      Type                                             \n",
       "ABySS             Single k-mer De Bruijn graph   Genomic                              0.0 [0;0]   \n",
       "BCALM2            Single k-mer De Bruijn graph   Genomic      364761201.0 [364761201;364761201]   \n",
       "GATBMiniaPipeline Multiple k-mer De Bruijn graph Metagenomic    13638465.67 [13638386;13638625]   \n",
       "IDBA-UD           Multiple k-mer De Bruijn graph Metagenomic    13791669.67 [13791669;13791670]   \n",
       "MEGAHIT           Multiple k-mer De Bruijn graph Metagenomic     13843596.0 [13843596;13843596]   \n",
       "MetaHipMer2       Multiple k-mer De Bruijn graph Metagenomic                          0.0 [0;0]   \n",
       "metaSPAdes        Multiple k-mer De Bruijn graph Metagenomic     14157309.0 [14157309;14157309]   \n",
       "MINIA             Single k-mer De Bruijn graph   Genomic         15335005.0 [15334799;15335108]   \n",
       "SKESA             Multiple k-mer De Bruijn graph Genomic            2957060.0 [2957060;2957060]   \n",
       "SPAdes            Multiple k-mer De Bruijn graph Genomic         16214591.0 [16214591;16214591]   \n",
       "Unicycler         Multiple k-mer De Bruijn graph Genomic         13324149.0 [13324149;13324149]   \n",
       "VelvetOptimiser   Multiple k-mer De Bruijn graph Metagenomic     22199110.0 [22177532;22242266]   \n",
       "\n",
       "                                                                                  contigs  \\\n",
       "Assembler         Algorithm                      Type                                       \n",
       "ABySS             Single k-mer De Bruijn graph   Genomic                        0.0 [0;0]   \n",
       "BCALM2            Single k-mer De Bruijn graph   Genomic      8175890.0 [8175890;8175890]   \n",
       "GATBMiniaPipeline Multiple k-mer De Bruijn graph Metagenomic             988.33 [988;989]   \n",
       "IDBA-UD           Multiple k-mer De Bruijn graph Metagenomic           1025.0 [1025;1025]   \n",
       "MEGAHIT           Multiple k-mer De Bruijn graph Metagenomic              767.0 [767;767]   \n",
       "MetaHipMer2       Multiple k-mer De Bruijn graph Metagenomic                    0.0 [0;0]   \n",
       "metaSPAdes        Multiple k-mer De Bruijn graph Metagenomic           2099.0 [2099;2099]   \n",
       "MINIA             Single k-mer De Bruijn graph   Genomic           24660.67 [24654;24664]   \n",
       "SKESA             Multiple k-mer De Bruijn graph Genomic                     36.0 [36;36]   \n",
       "SPAdes            Multiple k-mer De Bruijn graph Genomic            31040.0 [31040;31040]   \n",
       "Unicycler         Multiple k-mer De Bruijn graph Genomic                  264.0 [264;264]   \n",
       "VelvetOptimiser   Multiple k-mer De Bruijn graph Metagenomic    222218.67 [185614;240521]   \n",
       "\n",
       "                                                             filtered_Ns  \\\n",
       "Assembler         Algorithm                      Type                      \n",
       "ABySS             Single k-mer De Bruijn graph   Genomic       0.0 [0;0]   \n",
       "BCALM2            Single k-mer De Bruijn graph   Genomic       0.0 [0;0]   \n",
       "GATBMiniaPipeline Multiple k-mer De Bruijn graph Metagenomic   0.0 [0;0]   \n",
       "IDBA-UD           Multiple k-mer De Bruijn graph Metagenomic   0.0 [0;0]   \n",
       "MEGAHIT           Multiple k-mer De Bruijn graph Metagenomic   0.0 [0;0]   \n",
       "MetaHipMer2       Multiple k-mer De Bruijn graph Metagenomic   0.0 [0;0]   \n",
       "metaSPAdes        Multiple k-mer De Bruijn graph Metagenomic   0.0 [0;0]   \n",
       "MINIA             Single k-mer De Bruijn graph   Genomic       0.0 [0;0]   \n",
       "SKESA             Multiple k-mer De Bruijn graph Genomic       0.0 [0;0]   \n",
       "SPAdes            Multiple k-mer De Bruijn graph Genomic       0.0 [0;0]   \n",
       "Unicycler         Multiple k-mer De Bruijn graph Genomic       0.0 [0;0]   \n",
       "VelvetOptimiser   Multiple k-mer De Bruijn graph Metagenomic   0.0 [0;0]   \n",
       "\n",
       "                                                                           filtered_basepairs  \\\n",
       "Assembler         Algorithm                      Type                                           \n",
       "ABySS             Single k-mer De Bruijn graph   Genomic                            0.0 [0;0]   \n",
       "BCALM2            Single k-mer De Bruijn graph   Genomic                11967.0 [11967;11967]   \n",
       "GATBMiniaPipeline Multiple k-mer De Bruijn graph Metagenomic  13507754.67 [13507672;13507796]   \n",
       "IDBA-UD           Multiple k-mer De Bruijn graph Metagenomic  13601108.67 [13601100;13601126]   \n",
       "MEGAHIT           Multiple k-mer De Bruijn graph Metagenomic   13671964.0 [13671964;13671964]   \n",
       "MetaHipMer2       Multiple k-mer De Bruijn graph Metagenomic                        0.0 [0;0]   \n",
       "metaSPAdes        Multiple k-mer De Bruijn graph Metagenomic   13672885.0 [13672885;13672885]   \n",
       "MINIA             Single k-mer De Bruijn graph   Genomic       12921859.0 [12920975;12922301]   \n",
       "SKESA             Multiple k-mer De Bruijn graph Genomic          2950393.0 [2950393;2950393]   \n",
       "SPAdes            Multiple k-mer De Bruijn graph Genomic       13087777.0 [13087777;13087777]   \n",
       "Unicycler         Multiple k-mer De Bruijn graph Genomic       13315624.0 [13315624;13315624]   \n",
       "VelvetOptimiser   Multiple k-mer De Bruijn graph Metagenomic     2959214.67 [1087944;6701756]   \n",
       "\n",
       "                                                                 filtered_contigs  \\\n",
       "Assembler         Algorithm                      Type                               \n",
       "ABySS             Single k-mer De Bruijn graph   Genomic                0.0 [0;0]   \n",
       "BCALM2            Single k-mer De Bruijn graph   Genomic             11.0 [11;11]   \n",
       "GATBMiniaPipeline Multiple k-mer De Bruijn graph Metagenomic      762.0 [762;762]   \n",
       "IDBA-UD           Multiple k-mer De Bruijn graph Metagenomic      568.0 [568;568]   \n",
       "MEGAHIT           Multiple k-mer De Bruijn graph Metagenomic      327.0 [327;327]   \n",
       "MetaHipMer2       Multiple k-mer De Bruijn graph Metagenomic            0.0 [0;0]   \n",
       "metaSPAdes        Multiple k-mer De Bruijn graph Metagenomic      184.0 [184;184]   \n",
       "MINIA             Single k-mer De Bruijn graph   Genomic      2171.67 [2171;2172]   \n",
       "SKESA             Multiple k-mer De Bruijn graph Genomic             21.0 [21;21]   \n",
       "SPAdes            Multiple k-mer De Bruijn graph Genomic       1526.0 [1526;1526]   \n",
       "Unicycler         Multiple k-mer De Bruijn graph Genomic          243.0 [243;243]   \n",
       "VelvetOptimiser   Multiple k-mer De Bruijn graph Metagenomic   1623.67 [817;3237]   \n",
       "\n",
       "                                                             filtered_mapped_reads  \\\n",
       "Assembler         Algorithm                      Type                                \n",
       "ABySS             Single k-mer De Bruijn graph   Genomic                 0.0 [0;0]   \n",
       "BCALM2            Single k-mer De Bruijn graph   Genomic                 0.0 [0;0]   \n",
       "GATBMiniaPipeline Multiple k-mer De Bruijn graph Metagenomic         96.81 [96;96]   \n",
       "IDBA-UD           Multiple k-mer De Bruijn graph Metagenomic         96.96 [96;96]   \n",
       "MEGAHIT           Multiple k-mer De Bruijn graph Metagenomic         97.15 [97;97]   \n",
       "MetaHipMer2       Multiple k-mer De Bruijn graph Metagenomic             0.0 [0;0]   \n",
       "metaSPAdes        Multiple k-mer De Bruijn graph Metagenomic         97.18 [97;97]   \n",
       "MINIA             Single k-mer De Bruijn graph   Genomic             81.99 [81;81]   \n",
       "SKESA             Multiple k-mer De Bruijn graph Genomic              92.0 [92;92]   \n",
       "SPAdes            Multiple k-mer De Bruijn graph Genomic             77.08 [77;77]   \n",
       "Unicycler         Multiple k-mer De Bruijn graph Genomic             96.41 [96;96]   \n",
       "VelvetOptimiser   Multiple k-mer De Bruijn graph Metagenomic            1.02 [0;2]   \n",
       "\n",
       "                                                                          filtered_n50  \\\n",
       "Assembler         Algorithm                      Type                                    \n",
       "ABySS             Single k-mer De Bruijn graph   Genomic                     0.0 [0;0]   \n",
       "BCALM2            Single k-mer De Bruijn graph   Genomic            1062.0 [1062;1062]   \n",
       "GATBMiniaPipeline Multiple k-mer De Bruijn graph Metagenomic     91722.0 [91722;91722]   \n",
       "IDBA-UD           Multiple k-mer De Bruijn graph Metagenomic  107465.0 [106347;108024]   \n",
       "MEGAHIT           Multiple k-mer De Bruijn graph Metagenomic  171540.0 [171540;171540]   \n",
       "MetaHipMer2       Multiple k-mer De Bruijn graph Metagenomic                 0.0 [0;0]   \n",
       "metaSPAdes        Multiple k-mer De Bruijn graph Metagenomic  196786.0 [196786;196786]   \n",
       "MINIA             Single k-mer De Bruijn graph   Genomic         10582.0 [10582;10582]   \n",
       "SKESA             Multiple k-mer De Bruijn graph Genomic      351027.0 [351027;351027]   \n",
       "SPAdes            Multiple k-mer De Bruijn graph Genomic         69361.0 [69361;69361]   \n",
       "Unicycler         Multiple k-mer De Bruijn graph Genomic      192888.0 [192888;192888]   \n",
       "VelvetOptimiser   Multiple k-mer De Bruijn graph Metagenomic        1589.0 [1295;2177]   \n",
       "\n",
       "                                                               mapped_reads  \\\n",
       "Assembler         Algorithm                      Type                         \n",
       "ABySS             Single k-mer De Bruijn graph   Genomic          0.0 [0;0]   \n",
       "BCALM2            Single k-mer De Bruijn graph   Genomic         6.39 [6;6]   \n",
       "GATBMiniaPipeline Multiple k-mer De Bruijn graph Metagenomic  97.17 [97;97]   \n",
       "IDBA-UD           Multiple k-mer De Bruijn graph Metagenomic  97.19 [97;97]   \n",
       "MEGAHIT           Multiple k-mer De Bruijn graph Metagenomic  97.29 [97;97]   \n",
       "MetaHipMer2       Multiple k-mer De Bruijn graph Metagenomic      0.0 [0;0]   \n",
       "metaSPAdes        Multiple k-mer De Bruijn graph Metagenomic  97.27 [97;97]   \n",
       "MINIA             Single k-mer De Bruijn graph   Genomic      91.09 [91;91]   \n",
       "SKESA             Multiple k-mer De Bruijn graph Genomic      92.23 [92;92]   \n",
       "SPAdes            Multiple k-mer De Bruijn graph Genomic       95.5 [95;95]   \n",
       "Unicycler         Multiple k-mer De Bruijn graph Genomic      96.97 [96;96]   \n",
       "VelvetOptimiser   Multiple k-mer De Bruijn graph Metagenomic     5.95 [4;9]   \n",
       "\n",
       "                                                                            max_contig  \\\n",
       "Assembler         Algorithm                      Type                                    \n",
       "ABySS             Single k-mer De Bruijn graph   Genomic                     0.0 [0;0]   \n",
       "BCALM2            Single k-mer De Bruijn graph   Genomic            1212.0 [1212;1212]   \n",
       "GATBMiniaPipeline Multiple k-mer De Bruijn graph Metagenomic  632215.0 [632215;632215]   \n",
       "IDBA-UD           Multiple k-mer De Bruijn graph Metagenomic  632213.0 [632213;632213]   \n",
       "MEGAHIT           Multiple k-mer De Bruijn graph Metagenomic  632250.0 [632250;632250]   \n",
       "MetaHipMer2       Multiple k-mer De Bruijn graph Metagenomic                 0.0 [0;0]   \n",
       "metaSPAdes        Multiple k-mer De Bruijn graph Metagenomic  917728.0 [917728;917728]   \n",
       "MINIA             Single k-mer De Bruijn graph   Genomic      163543.0 [163543;163543]   \n",
       "SKESA             Multiple k-mer De Bruijn graph Genomic      632013.0 [632013;632013]   \n",
       "SPAdes            Multiple k-mer De Bruijn graph Genomic      263645.0 [263645;263645]   \n",
       "Unicycler         Multiple k-mer De Bruijn graph Genomic      847572.0 [847572;847572]   \n",
       "VelvetOptimiser   Multiple k-mer De Bruijn graph Metagenomic      8619.33 [4146;17566]   \n",
       "\n",
       "                                                             misassembled contigs  \\\n",
       "Assembler         Algorithm                      Type                               \n",
       "ABySS             Single k-mer De Bruijn graph   Genomic                0.0 [0;0]   \n",
       "BCALM2            Single k-mer De Bruijn graph   Genomic                0.0 [0;0]   \n",
       "GATBMiniaPipeline Multiple k-mer De Bruijn graph Metagenomic            2.0 [2;2]   \n",
       "IDBA-UD           Multiple k-mer De Bruijn graph Metagenomic            2.0 [2;2]   \n",
       "MEGAHIT           Multiple k-mer De Bruijn graph Metagenomic            0.0 [0;0]   \n",
       "MetaHipMer2       Multiple k-mer De Bruijn graph Metagenomic            0.0 [0;0]   \n",
       "metaSPAdes        Multiple k-mer De Bruijn graph Metagenomic            1.0 [1;1]   \n",
       "MINIA             Single k-mer De Bruijn graph   Genomic                0.0 [0;0]   \n",
       "SKESA             Multiple k-mer De Bruijn graph Genomic                0.0 [0;0]   \n",
       "SPAdes            Multiple k-mer De Bruijn graph Genomic                1.0 [1;1]   \n",
       "Unicycler         Multiple k-mer De Bruijn graph Genomic                5.0 [5;5]   \n",
       "VelvetOptimiser   Multiple k-mer De Bruijn graph Metagenomic            0.0 [0;0]   \n",
       "\n",
       "                                                             misassembly events  \\\n",
       "Assembler         Algorithm                      Type                             \n",
       "ABySS             Single k-mer De Bruijn graph   Genomic              0.0 [0;0]   \n",
       "BCALM2            Single k-mer De Bruijn graph   Genomic              0.0 [0;0]   \n",
       "GATBMiniaPipeline Multiple k-mer De Bruijn graph Metagenomic          6.0 [6;6]   \n",
       "IDBA-UD           Multiple k-mer De Bruijn graph Metagenomic          5.0 [5;5]   \n",
       "MEGAHIT           Multiple k-mer De Bruijn graph Metagenomic          0.0 [0;0]   \n",
       "MetaHipMer2       Multiple k-mer De Bruijn graph Metagenomic          0.0 [0;0]   \n",
       "metaSPAdes        Multiple k-mer De Bruijn graph Metagenomic          3.0 [3;3]   \n",
       "MINIA             Single k-mer De Bruijn graph   Genomic              0.0 [0;0]   \n",
       "SKESA             Multiple k-mer De Bruijn graph Genomic              0.0 [0;0]   \n",
       "SPAdes            Multiple k-mer De Bruijn graph Genomic              2.0 [2;2]   \n",
       "Unicycler         Multiple k-mer De Bruijn graph Genomic           10.0 [10;10]   \n",
       "VelvetOptimiser   Multiple k-mer De Bruijn graph Metagenomic          0.0 [0;0]   \n",
       "\n",
       "                                                                                   n50  \n",
       "Assembler         Algorithm                      Type                                   \n",
       "ABySS             Single k-mer De Bruijn graph   Genomic                     0.0 [0;0]  \n",
       "BCALM2            Single k-mer De Bruijn graph   Genomic                  49.0 [49;49]  \n",
       "GATBMiniaPipeline Multiple k-mer De Bruijn graph Metagenomic     90987.0 [90987;90987]  \n",
       "IDBA-UD           Multiple k-mer De Bruijn graph Metagenomic   104140.0 [99726;106347]  \n",
       "MEGAHIT           Multiple k-mer De Bruijn graph Metagenomic  171359.0 [171359;171359]  \n",
       "MetaHipMer2       Multiple k-mer De Bruijn graph Metagenomic                 0.0 [0;0]  \n",
       "metaSPAdes        Multiple k-mer De Bruijn graph Metagenomic  193256.0 [193256;193256]  \n",
       "MINIA             Single k-mer De Bruijn graph   Genomic            7727.0 [7727;7727]  \n",
       "SKESA             Multiple k-mer De Bruijn graph Genomic      351027.0 [351027;351027]  \n",
       "SPAdes            Multiple k-mer De Bruijn graph Genomic         46478.0 [46478;46478]  \n",
       "Unicycler         Multiple k-mer De Bruijn graph Genomic      192888.0 [192888;192888]  \n",
       "VelvetOptimiser   Multiple k-mer De Bruijn graph Metagenomic           141.0 [124;175]  "
      ]
     },
     "metadata": {},
     "output_type": "display_data"
    },
    {
     "data": {
      "text/html": [
       "<div>\n",
       "<style scoped>\n",
       "    .dataframe tbody tr th:only-of-type {\n",
       "        vertical-align: middle;\n",
       "    }\n",
       "\n",
       "    .dataframe tbody tr th {\n",
       "        vertical-align: top;\n",
       "    }\n",
       "\n",
       "    .dataframe thead th {\n",
       "        text-align: right;\n",
       "    }\n",
       "</style>\n",
       "<table border=\"1\" class=\"dataframe\">\n",
       "  <thead>\n",
       "    <tr style=\"text-align: right;\">\n",
       "      <th></th>\n",
       "      <th>Ns</th>\n",
       "      <th>basepairs</th>\n",
       "      <th>contigs</th>\n",
       "      <th>filtered_Ns</th>\n",
       "      <th>filtered_basepairs</th>\n",
       "      <th>filtered_contigs</th>\n",
       "      <th>filtered_mapped_reads</th>\n",
       "      <th>filtered_n50</th>\n",
       "      <th>mapped_reads</th>\n",
       "      <th>max_contig</th>\n",
       "      <th>misassembled contigs</th>\n",
       "      <th>misassembly events</th>\n",
       "      <th>n50</th>\n",
       "    </tr>\n",
       "    <tr>\n",
       "      <th>Assembler</th>\n",
       "      <th></th>\n",
       "      <th></th>\n",
       "      <th></th>\n",
       "      <th></th>\n",
       "      <th></th>\n",
       "      <th></th>\n",
       "      <th></th>\n",
       "      <th></th>\n",
       "      <th></th>\n",
       "      <th></th>\n",
       "      <th></th>\n",
       "      <th></th>\n",
       "      <th></th>\n",
       "    </tr>\n",
       "  </thead>\n",
       "  <tbody>\n",
       "    <tr>\n",
       "      <th>ABySS</th>\n",
       "      <td>0.0</td>\n",
       "      <td>0.0</td>\n",
       "      <td>0.0</td>\n",
       "      <td>0.0</td>\n",
       "      <td>0.0</td>\n",
       "      <td>0.0</td>\n",
       "      <td>0.000000</td>\n",
       "      <td>0.0</td>\n",
       "      <td>0.000000</td>\n",
       "      <td>0.0</td>\n",
       "      <td>0.0</td>\n",
       "      <td>0.0</td>\n",
       "      <td>0.0</td>\n",
       "    </tr>\n",
       "    <tr>\n",
       "      <th>BCALM2</th>\n",
       "      <td>0.0</td>\n",
       "      <td>364761201.0</td>\n",
       "      <td>8175890.0</td>\n",
       "      <td>0.0</td>\n",
       "      <td>11967.0</td>\n",
       "      <td>11.0</td>\n",
       "      <td>0.001875</td>\n",
       "      <td>1062.0</td>\n",
       "      <td>6.388781</td>\n",
       "      <td>1212.0</td>\n",
       "      <td>0.0</td>\n",
       "      <td>0.0</td>\n",
       "      <td>49.0</td>\n",
       "    </tr>\n",
       "    <tr>\n",
       "      <th>GATBMiniaPipeline</th>\n",
       "      <td>0.0</td>\n",
       "      <td>13638625.0</td>\n",
       "      <td>988.0</td>\n",
       "      <td>0.0</td>\n",
       "      <td>13507796.0</td>\n",
       "      <td>762.0</td>\n",
       "      <td>96.813085</td>\n",
       "      <td>91722.0</td>\n",
       "      <td>97.172274</td>\n",
       "      <td>632215.0</td>\n",
       "      <td>2.0</td>\n",
       "      <td>6.0</td>\n",
       "      <td>90987.0</td>\n",
       "    </tr>\n",
       "    <tr>\n",
       "      <th>IDBA-UD</th>\n",
       "      <td>0.0</td>\n",
       "      <td>13791670.0</td>\n",
       "      <td>1025.0</td>\n",
       "      <td>0.0</td>\n",
       "      <td>13601126.0</td>\n",
       "      <td>568.0</td>\n",
       "      <td>96.957028</td>\n",
       "      <td>108024.0</td>\n",
       "      <td>97.185816</td>\n",
       "      <td>632213.0</td>\n",
       "      <td>2.0</td>\n",
       "      <td>5.0</td>\n",
       "      <td>106347.0</td>\n",
       "    </tr>\n",
       "    <tr>\n",
       "      <th>MEGAHIT</th>\n",
       "      <td>0.0</td>\n",
       "      <td>13843596.0</td>\n",
       "      <td>767.0</td>\n",
       "      <td>0.0</td>\n",
       "      <td>13671964.0</td>\n",
       "      <td>327.0</td>\n",
       "      <td>97.147345</td>\n",
       "      <td>171540.0</td>\n",
       "      <td>97.286491</td>\n",
       "      <td>632250.0</td>\n",
       "      <td>0.0</td>\n",
       "      <td>0.0</td>\n",
       "      <td>171359.0</td>\n",
       "    </tr>\n",
       "    <tr>\n",
       "      <th>MetaHipMer2</th>\n",
       "      <td>0.0</td>\n",
       "      <td>0.0</td>\n",
       "      <td>0.0</td>\n",
       "      <td>0.0</td>\n",
       "      <td>0.0</td>\n",
       "      <td>0.0</td>\n",
       "      <td>0.000000</td>\n",
       "      <td>0.0</td>\n",
       "      <td>0.000000</td>\n",
       "      <td>0.0</td>\n",
       "      <td>0.0</td>\n",
       "      <td>0.0</td>\n",
       "      <td>0.0</td>\n",
       "    </tr>\n",
       "    <tr>\n",
       "      <th>metaSPAdes</th>\n",
       "      <td>0.0</td>\n",
       "      <td>14157309.0</td>\n",
       "      <td>2099.0</td>\n",
       "      <td>0.0</td>\n",
       "      <td>13672885.0</td>\n",
       "      <td>184.0</td>\n",
       "      <td>97.182958</td>\n",
       "      <td>196786.0</td>\n",
       "      <td>97.267869</td>\n",
       "      <td>917728.0</td>\n",
       "      <td>1.0</td>\n",
       "      <td>3.0</td>\n",
       "      <td>193256.0</td>\n",
       "    </tr>\n",
       "    <tr>\n",
       "      <th>MINIA</th>\n",
       "      <td>0.0</td>\n",
       "      <td>15335108.0</td>\n",
       "      <td>24654.0</td>\n",
       "      <td>0.0</td>\n",
       "      <td>12922301.0</td>\n",
       "      <td>2171.0</td>\n",
       "      <td>81.989688</td>\n",
       "      <td>10582.0</td>\n",
       "      <td>91.095955</td>\n",
       "      <td>163543.0</td>\n",
       "      <td>0.0</td>\n",
       "      <td>0.0</td>\n",
       "      <td>7727.0</td>\n",
       "    </tr>\n",
       "    <tr>\n",
       "      <th>SKESA</th>\n",
       "      <td>0.0</td>\n",
       "      <td>2957060.0</td>\n",
       "      <td>36.0</td>\n",
       "      <td>0.0</td>\n",
       "      <td>2950393.0</td>\n",
       "      <td>21.0</td>\n",
       "      <td>92.000386</td>\n",
       "      <td>351027.0</td>\n",
       "      <td>92.228441</td>\n",
       "      <td>632013.0</td>\n",
       "      <td>0.0</td>\n",
       "      <td>0.0</td>\n",
       "      <td>351027.0</td>\n",
       "    </tr>\n",
       "    <tr>\n",
       "      <th>SPAdes</th>\n",
       "      <td>0.0</td>\n",
       "      <td>16214591.0</td>\n",
       "      <td>31040.0</td>\n",
       "      <td>0.0</td>\n",
       "      <td>13087777.0</td>\n",
       "      <td>1526.0</td>\n",
       "      <td>77.081486</td>\n",
       "      <td>69361.0</td>\n",
       "      <td>95.503474</td>\n",
       "      <td>263645.0</td>\n",
       "      <td>1.0</td>\n",
       "      <td>2.0</td>\n",
       "      <td>46478.0</td>\n",
       "    </tr>\n",
       "    <tr>\n",
       "      <th>Unicycler</th>\n",
       "      <td>0.0</td>\n",
       "      <td>13324149.0</td>\n",
       "      <td>264.0</td>\n",
       "      <td>0.0</td>\n",
       "      <td>13315624.0</td>\n",
       "      <td>243.0</td>\n",
       "      <td>96.406056</td>\n",
       "      <td>192888.0</td>\n",
       "      <td>96.974535</td>\n",
       "      <td>847572.0</td>\n",
       "      <td>5.0</td>\n",
       "      <td>10.0</td>\n",
       "      <td>192888.0</td>\n",
       "    </tr>\n",
       "    <tr>\n",
       "      <th>VelvetOptimiser</th>\n",
       "      <td>0.0</td>\n",
       "      <td>22242266.0</td>\n",
       "      <td>185614.0</td>\n",
       "      <td>0.0</td>\n",
       "      <td>6701756.0</td>\n",
       "      <td>817.0</td>\n",
       "      <td>2.558256</td>\n",
       "      <td>2177.0</td>\n",
       "      <td>9.675074</td>\n",
       "      <td>17566.0</td>\n",
       "      <td>0.0</td>\n",
       "      <td>0.0</td>\n",
       "      <td>175.0</td>\n",
       "    </tr>\n",
       "  </tbody>\n",
       "</table>\n",
       "</div>"
      ],
      "text/plain": [
       "                    Ns    basepairs    contigs  filtered_Ns  \\\n",
       "Assembler                                                     \n",
       "ABySS              0.0          0.0        0.0          0.0   \n",
       "BCALM2             0.0  364761201.0  8175890.0          0.0   \n",
       "GATBMiniaPipeline  0.0   13638625.0      988.0          0.0   \n",
       "IDBA-UD            0.0   13791670.0     1025.0          0.0   \n",
       "MEGAHIT            0.0   13843596.0      767.0          0.0   \n",
       "MetaHipMer2        0.0          0.0        0.0          0.0   \n",
       "metaSPAdes         0.0   14157309.0     2099.0          0.0   \n",
       "MINIA              0.0   15335108.0    24654.0          0.0   \n",
       "SKESA              0.0    2957060.0       36.0          0.0   \n",
       "SPAdes             0.0   16214591.0    31040.0          0.0   \n",
       "Unicycler          0.0   13324149.0      264.0          0.0   \n",
       "VelvetOptimiser    0.0   22242266.0   185614.0          0.0   \n",
       "\n",
       "                   filtered_basepairs  filtered_contigs  \\\n",
       "Assembler                                                 \n",
       "ABySS                             0.0               0.0   \n",
       "BCALM2                        11967.0              11.0   \n",
       "GATBMiniaPipeline          13507796.0             762.0   \n",
       "IDBA-UD                    13601126.0             568.0   \n",
       "MEGAHIT                    13671964.0             327.0   \n",
       "MetaHipMer2                       0.0               0.0   \n",
       "metaSPAdes                 13672885.0             184.0   \n",
       "MINIA                      12922301.0            2171.0   \n",
       "SKESA                       2950393.0              21.0   \n",
       "SPAdes                     13087777.0            1526.0   \n",
       "Unicycler                  13315624.0             243.0   \n",
       "VelvetOptimiser             6701756.0             817.0   \n",
       "\n",
       "                   filtered_mapped_reads  filtered_n50  mapped_reads  \\\n",
       "Assembler                                                              \n",
       "ABySS                           0.000000           0.0      0.000000   \n",
       "BCALM2                          0.001875        1062.0      6.388781   \n",
       "GATBMiniaPipeline              96.813085       91722.0     97.172274   \n",
       "IDBA-UD                        96.957028      108024.0     97.185816   \n",
       "MEGAHIT                        97.147345      171540.0     97.286491   \n",
       "MetaHipMer2                     0.000000           0.0      0.000000   \n",
       "metaSPAdes                     97.182958      196786.0     97.267869   \n",
       "MINIA                          81.989688       10582.0     91.095955   \n",
       "SKESA                          92.000386      351027.0     92.228441   \n",
       "SPAdes                         77.081486       69361.0     95.503474   \n",
       "Unicycler                      96.406056      192888.0     96.974535   \n",
       "VelvetOptimiser                 2.558256        2177.0      9.675074   \n",
       "\n",
       "                   max_contig  misassembled contigs  misassembly events  \\\n",
       "Assembler                                                                 \n",
       "ABySS                     0.0                   0.0                 0.0   \n",
       "BCALM2                 1212.0                   0.0                 0.0   \n",
       "GATBMiniaPipeline    632215.0                   2.0                 6.0   \n",
       "IDBA-UD              632213.0                   2.0                 5.0   \n",
       "MEGAHIT              632250.0                   0.0                 0.0   \n",
       "MetaHipMer2               0.0                   0.0                 0.0   \n",
       "metaSPAdes           917728.0                   1.0                 3.0   \n",
       "MINIA                163543.0                   0.0                 0.0   \n",
       "SKESA                632013.0                   0.0                 0.0   \n",
       "SPAdes               263645.0                   1.0                 2.0   \n",
       "Unicycler            847572.0                   5.0                10.0   \n",
       "VelvetOptimiser       17566.0                   0.0                 0.0   \n",
       "\n",
       "                        n50  \n",
       "Assembler                    \n",
       "ABySS                   0.0  \n",
       "BCALM2                 49.0  \n",
       "GATBMiniaPipeline   90987.0  \n",
       "IDBA-UD            106347.0  \n",
       "MEGAHIT            171359.0  \n",
       "MetaHipMer2             0.0  \n",
       "metaSPAdes         193256.0  \n",
       "MINIA                7727.0  \n",
       "SKESA              351027.0  \n",
       "SPAdes              46478.0  \n",
       "Unicycler          192888.0  \n",
       "VelvetOptimiser       175.0  "
      ]
     },
     "metadata": {},
     "output_type": "display_data"
    },
    {
     "name": "stdout",
     "output_type": "stream",
     "text": [
      "EMS\n"
     ]
    },
    {
     "data": {
      "text/html": [
       "<div>\n",
       "<style scoped>\n",
       "    .dataframe tbody tr th:only-of-type {\n",
       "        vertical-align: middle;\n",
       "    }\n",
       "\n",
       "    .dataframe tbody tr th {\n",
       "        vertical-align: top;\n",
       "    }\n",
       "\n",
       "    .dataframe thead th {\n",
       "        text-align: right;\n",
       "    }\n",
       "</style>\n",
       "<table border=\"1\" class=\"dataframe\">\n",
       "  <thead>\n",
       "    <tr style=\"text-align: right;\">\n",
       "      <th></th>\n",
       "      <th></th>\n",
       "      <th></th>\n",
       "      <th>Ns</th>\n",
       "      <th>basepairs</th>\n",
       "      <th>contigs</th>\n",
       "      <th>filtered_Ns</th>\n",
       "      <th>filtered_basepairs</th>\n",
       "      <th>filtered_contigs</th>\n",
       "      <th>filtered_mapped_reads</th>\n",
       "      <th>filtered_n50</th>\n",
       "      <th>mapped_reads</th>\n",
       "      <th>max_contig</th>\n",
       "      <th>misassembled contigs</th>\n",
       "      <th>misassembly events</th>\n",
       "      <th>n50</th>\n",
       "    </tr>\n",
       "    <tr>\n",
       "      <th>Assembler</th>\n",
       "      <th>Algorithm</th>\n",
       "      <th>Type</th>\n",
       "      <th></th>\n",
       "      <th></th>\n",
       "      <th></th>\n",
       "      <th></th>\n",
       "      <th></th>\n",
       "      <th></th>\n",
       "      <th></th>\n",
       "      <th></th>\n",
       "      <th></th>\n",
       "      <th></th>\n",
       "      <th></th>\n",
       "      <th></th>\n",
       "      <th></th>\n",
       "    </tr>\n",
       "  </thead>\n",
       "  <tbody>\n",
       "    <tr>\n",
       "      <th>ABySS</th>\n",
       "      <th>Single k-mer De Bruijn graph</th>\n",
       "      <th>Genomic</th>\n",
       "      <td>882.0 [881;883]</td>\n",
       "      <td>34563814.33 [34563647;34563949]</td>\n",
       "      <td>32429.67 [32428;32431]</td>\n",
       "      <td>611.33 [610;612]</td>\n",
       "      <td>30988179.33 [30988165;30988200]</td>\n",
       "      <td>498.0 [497;499]</td>\n",
       "      <td>98.12 [98;98]</td>\n",
       "      <td>138706.0 [138706;138706]</td>\n",
       "      <td>98.63 [98;98]</td>\n",
       "      <td>841100.0 [841100;841100]</td>\n",
       "      <td>2.0 [2;2]</td>\n",
       "      <td>3.0 [3;3]</td>\n",
       "      <td>124246.0 [124246;124246]</td>\n",
       "    </tr>\n",
       "    <tr>\n",
       "      <th>BCALM2</th>\n",
       "      <th>Single k-mer De Bruijn graph</th>\n",
       "      <th>Genomic</th>\n",
       "      <td>0.0 [0;0]</td>\n",
       "      <td>39571553.0 [39571553;39571553]</td>\n",
       "      <td>252182.0 [252182;252182]</td>\n",
       "      <td>0.0 [0;0]</td>\n",
       "      <td>16407295.0 [16407295;16407295]</td>\n",
       "      <td>6250.0 [6250;6250]</td>\n",
       "      <td>27.01 [27;27]</td>\n",
       "      <td>3056.0 [3056;3056]</td>\n",
       "      <td>65.26 [65;65]</td>\n",
       "      <td>38021.0 [38021;38021]</td>\n",
       "      <td>0.0 [0;0]</td>\n",
       "      <td>0.0 [0;0]</td>\n",
       "      <td>645.0 [645;645]</td>\n",
       "    </tr>\n",
       "    <tr>\n",
       "      <th>GATBMiniaPipeline</th>\n",
       "      <th>Multiple k-mer De Bruijn graph</th>\n",
       "      <th>Metagenomic</th>\n",
       "      <td>0.0 [0;0]</td>\n",
       "      <td>30509406.0 [30509406;30509406]</td>\n",
       "      <td>943.0 [943;943]</td>\n",
       "      <td>0.0 [0;0]</td>\n",
       "      <td>30343348.0 [30343348;30343348]</td>\n",
       "      <td>657.0 [657;657]</td>\n",
       "      <td>98.14 [98;98]</td>\n",
       "      <td>122545.0 [122545;122545]</td>\n",
       "      <td>98.94 [98;98]</td>\n",
       "      <td>768585.0 [768585;768585]</td>\n",
       "      <td>1.0 [1;1]</td>\n",
       "      <td>1.0 [1;1]</td>\n",
       "      <td>121957.0 [121957;121957]</td>\n",
       "    </tr>\n",
       "    <tr>\n",
       "      <th>IDBA-UD</th>\n",
       "      <th>Multiple k-mer De Bruijn graph</th>\n",
       "      <th>Metagenomic</th>\n",
       "      <td>0.0 [0;0]</td>\n",
       "      <td>30408932.0 [30408932;30408932]</td>\n",
       "      <td>1829.0 [1829;1829]</td>\n",
       "      <td>0.0 [0;0]</td>\n",
       "      <td>30145929.0 [30145929;30145929]</td>\n",
       "      <td>1254.0 [1254;1254]</td>\n",
       "      <td>97.3 [97;97]</td>\n",
       "      <td>63178.0 [63178;63178]</td>\n",
       "      <td>98.64 [98;98]</td>\n",
       "      <td>468323.0 [468323;468323]</td>\n",
       "      <td>13.0 [13;13]</td>\n",
       "      <td>22.0 [22;22]</td>\n",
       "      <td>61771.67 [61704;61907]</td>\n",
       "    </tr>\n",
       "    <tr>\n",
       "      <th>MEGAHIT</th>\n",
       "      <th>Multiple k-mer De Bruijn graph</th>\n",
       "      <th>Metagenomic</th>\n",
       "      <td>0.0 [0;0]</td>\n",
       "      <td>30599098.0 [30599036;30599129]</td>\n",
       "      <td>979.0 [979;979]</td>\n",
       "      <td>0.0 [0;0]</td>\n",
       "      <td>30418686.0 [30418624;30418717]</td>\n",
       "      <td>518.0 [518;518]</td>\n",
       "      <td>98.65 [98;98]</td>\n",
       "      <td>171540.0 [171540;171540]</td>\n",
       "      <td>99.05 [99;99]</td>\n",
       "      <td>768640.0 [768640;768640]</td>\n",
       "      <td>10.0 [10;10]</td>\n",
       "      <td>21.0 [21;21]</td>\n",
       "      <td>171540.0 [171540;171540]</td>\n",
       "    </tr>\n",
       "    <tr>\n",
       "      <th>MetaHipMer2</th>\n",
       "      <th>Multiple k-mer De Bruijn graph</th>\n",
       "      <th>Metagenomic</th>\n",
       "      <td>0.0 [0;0]</td>\n",
       "      <td>30381398.67 [30381152;30381792]</td>\n",
       "      <td>884.33 [884;885]</td>\n",
       "      <td>0.0 [0;0]</td>\n",
       "      <td>30262824.0 [30262824;30262824]</td>\n",
       "      <td>712.0 [712;712]</td>\n",
       "      <td>97.25 [97;97]</td>\n",
       "      <td>106637.0 [106637;106637]</td>\n",
       "      <td>98.03 [98;98]</td>\n",
       "      <td>468375.0 [468375;468375]</td>\n",
       "      <td>0.0 [0;0]</td>\n",
       "      <td>0.0 [0;0]</td>\n",
       "      <td>106383.0 [106383;106383]</td>\n",
       "    </tr>\n",
       "    <tr>\n",
       "      <th>metaSPAdes</th>\n",
       "      <th>Multiple k-mer De Bruijn graph</th>\n",
       "      <th>Metagenomic</th>\n",
       "      <td>0.0 [0;0]</td>\n",
       "      <td>30482042.0 [30482042;30482042]</td>\n",
       "      <td>761.0 [761;761]</td>\n",
       "      <td>0.0 [0;0]</td>\n",
       "      <td>30402517.0 [30402517;30402517]</td>\n",
       "      <td>365.0 [365;365]</td>\n",
       "      <td>98.28 [98;98]</td>\n",
       "      <td>208969.0 [208969;208969]</td>\n",
       "      <td>98.77 [98;98]</td>\n",
       "      <td>917726.0 [917726;917726]</td>\n",
       "      <td>1.0 [1;1]</td>\n",
       "      <td>3.0 [3;3]</td>\n",
       "      <td>208969.0 [208969;208969]</td>\n",
       "    </tr>\n",
       "    <tr>\n",
       "      <th>MINIA</th>\n",
       "      <th>Single k-mer De Bruijn graph</th>\n",
       "      <th>Genomic</th>\n",
       "      <td>0.0 [0;0]</td>\n",
       "      <td>30649478.33 [30648944;30649850]</td>\n",
       "      <td>16748.33 [16748;16749]</td>\n",
       "      <td>0.0 [0;0]</td>\n",
       "      <td>28218361.0 [28218335;28218378]</td>\n",
       "      <td>3574.0 [3574;3574]</td>\n",
       "      <td>92.16 [92;92]</td>\n",
       "      <td>20782.0 [20782;20782]</td>\n",
       "      <td>95.93 [95;95]</td>\n",
       "      <td>161812.0 [161812;161812]</td>\n",
       "      <td>0.0 [0;0]</td>\n",
       "      <td>0.0 [0;0]</td>\n",
       "      <td>17967.0 [17967;17967]</td>\n",
       "    </tr>\n",
       "    <tr>\n",
       "      <th>SKESA</th>\n",
       "      <th>Multiple k-mer De Bruijn graph</th>\n",
       "      <th>Genomic</th>\n",
       "      <td>0.0 [0;0]</td>\n",
       "      <td>30249132.0 [30249132;30249132]</td>\n",
       "      <td>1269.0 [1269;1269]</td>\n",
       "      <td>0.0 [0;0]</td>\n",
       "      <td>30064811.0 [30064811;30064811]</td>\n",
       "      <td>891.0 [891;891]</td>\n",
       "      <td>97.24 [97;97]</td>\n",
       "      <td>74138.0 [74138;74138]</td>\n",
       "      <td>97.95 [97;97]</td>\n",
       "      <td>632013.0 [632013;632013]</td>\n",
       "      <td>9.0 [9;9]</td>\n",
       "      <td>18.0 [18;18]</td>\n",
       "      <td>73839.0 [73839;73839]</td>\n",
       "    </tr>\n",
       "    <tr>\n",
       "      <th>SPAdes</th>\n",
       "      <th>Multiple k-mer De Bruijn graph</th>\n",
       "      <th>Genomic</th>\n",
       "      <td>0.0 [0;0]</td>\n",
       "      <td>30664883.0 [30664883;30664883]</td>\n",
       "      <td>2628.0 [2628;2628]</td>\n",
       "      <td>0.0 [0;0]</td>\n",
       "      <td>30354786.0 [30354786;30354786]</td>\n",
       "      <td>412.0 [412;412]</td>\n",
       "      <td>98.28 [98;98]</td>\n",
       "      <td>208991.0 [208991;208991]</td>\n",
       "      <td>98.7 [98;98]</td>\n",
       "      <td>850176.0 [850176;850176]</td>\n",
       "      <td>0.0 [0;0]</td>\n",
       "      <td>0.0 [0;0]</td>\n",
       "      <td>206515.0 [206515;206515]</td>\n",
       "    </tr>\n",
       "    <tr>\n",
       "      <th>Unicycler</th>\n",
       "      <th>Multiple k-mer De Bruijn graph</th>\n",
       "      <th>Genomic</th>\n",
       "      <td>0.0 [0;0]</td>\n",
       "      <td>30301867.0 [30301867;30301867]</td>\n",
       "      <td>656.0 [656;656]</td>\n",
       "      <td>0.0 [0;0]</td>\n",
       "      <td>30188943.0 [30188943;30188943]</td>\n",
       "      <td>334.0 [334;334]</td>\n",
       "      <td>97.61 [97;97]</td>\n",
       "      <td>245050.0 [245050;245050]</td>\n",
       "      <td>98.46 [98;98]</td>\n",
       "      <td>1303875.0 [1303875;1303875]</td>\n",
       "      <td>0.0 [0;0]</td>\n",
       "      <td>0.0 [0;0]</td>\n",
       "      <td>245050.0 [245050;245050]</td>\n",
       "    </tr>\n",
       "    <tr>\n",
       "      <th>VelvetOptimiser</th>\n",
       "      <th>Multiple k-mer De Bruijn graph</th>\n",
       "      <th>Metagenomic</th>\n",
       "      <td>4383.0 [4383;4383]</td>\n",
       "      <td>30526291.0 [30526291;30526291]</td>\n",
       "      <td>11069.0 [11069;11069]</td>\n",
       "      <td>4383.0 [4383;4383]</td>\n",
       "      <td>28467054.0 [28467054;28467054]</td>\n",
       "      <td>3035.0 [3035;3035]</td>\n",
       "      <td>92.22 [92;92]</td>\n",
       "      <td>33291.0 [33291;33291]</td>\n",
       "      <td>95.85 [95;95]</td>\n",
       "      <td>847777.0 [847777;847777]</td>\n",
       "      <td>6.0 [6;6]</td>\n",
       "      <td>11.0 [11;11]</td>\n",
       "      <td>29176.0 [29176;29176]</td>\n",
       "    </tr>\n",
       "  </tbody>\n",
       "</table>\n",
       "</div>"
      ],
      "text/plain": [
       "                                                                              Ns  \\\n",
       "Assembler         Algorithm                      Type                              \n",
       "ABySS             Single k-mer De Bruijn graph   Genomic         882.0 [881;883]   \n",
       "BCALM2            Single k-mer De Bruijn graph   Genomic               0.0 [0;0]   \n",
       "GATBMiniaPipeline Multiple k-mer De Bruijn graph Metagenomic           0.0 [0;0]   \n",
       "IDBA-UD           Multiple k-mer De Bruijn graph Metagenomic           0.0 [0;0]   \n",
       "MEGAHIT           Multiple k-mer De Bruijn graph Metagenomic           0.0 [0;0]   \n",
       "MetaHipMer2       Multiple k-mer De Bruijn graph Metagenomic           0.0 [0;0]   \n",
       "metaSPAdes        Multiple k-mer De Bruijn graph Metagenomic           0.0 [0;0]   \n",
       "MINIA             Single k-mer De Bruijn graph   Genomic               0.0 [0;0]   \n",
       "SKESA             Multiple k-mer De Bruijn graph Genomic               0.0 [0;0]   \n",
       "SPAdes            Multiple k-mer De Bruijn graph Genomic               0.0 [0;0]   \n",
       "Unicycler         Multiple k-mer De Bruijn graph Genomic               0.0 [0;0]   \n",
       "VelvetOptimiser   Multiple k-mer De Bruijn graph Metagenomic  4383.0 [4383;4383]   \n",
       "\n",
       "                                                                                    basepairs  \\\n",
       "Assembler         Algorithm                      Type                                           \n",
       "ABySS             Single k-mer De Bruijn graph   Genomic      34563814.33 [34563647;34563949]   \n",
       "BCALM2            Single k-mer De Bruijn graph   Genomic       39571553.0 [39571553;39571553]   \n",
       "GATBMiniaPipeline Multiple k-mer De Bruijn graph Metagenomic   30509406.0 [30509406;30509406]   \n",
       "IDBA-UD           Multiple k-mer De Bruijn graph Metagenomic   30408932.0 [30408932;30408932]   \n",
       "MEGAHIT           Multiple k-mer De Bruijn graph Metagenomic   30599098.0 [30599036;30599129]   \n",
       "MetaHipMer2       Multiple k-mer De Bruijn graph Metagenomic  30381398.67 [30381152;30381792]   \n",
       "metaSPAdes        Multiple k-mer De Bruijn graph Metagenomic   30482042.0 [30482042;30482042]   \n",
       "MINIA             Single k-mer De Bruijn graph   Genomic      30649478.33 [30648944;30649850]   \n",
       "SKESA             Multiple k-mer De Bruijn graph Genomic       30249132.0 [30249132;30249132]   \n",
       "SPAdes            Multiple k-mer De Bruijn graph Genomic       30664883.0 [30664883;30664883]   \n",
       "Unicycler         Multiple k-mer De Bruijn graph Genomic       30301867.0 [30301867;30301867]   \n",
       "VelvetOptimiser   Multiple k-mer De Bruijn graph Metagenomic   30526291.0 [30526291;30526291]   \n",
       "\n",
       "                                                                               contigs  \\\n",
       "Assembler         Algorithm                      Type                                    \n",
       "ABySS             Single k-mer De Bruijn graph   Genomic        32429.67 [32428;32431]   \n",
       "BCALM2            Single k-mer De Bruijn graph   Genomic      252182.0 [252182;252182]   \n",
       "GATBMiniaPipeline Multiple k-mer De Bruijn graph Metagenomic           943.0 [943;943]   \n",
       "IDBA-UD           Multiple k-mer De Bruijn graph Metagenomic        1829.0 [1829;1829]   \n",
       "MEGAHIT           Multiple k-mer De Bruijn graph Metagenomic           979.0 [979;979]   \n",
       "MetaHipMer2       Multiple k-mer De Bruijn graph Metagenomic          884.33 [884;885]   \n",
       "metaSPAdes        Multiple k-mer De Bruijn graph Metagenomic           761.0 [761;761]   \n",
       "MINIA             Single k-mer De Bruijn graph   Genomic        16748.33 [16748;16749]   \n",
       "SKESA             Multiple k-mer De Bruijn graph Genomic            1269.0 [1269;1269]   \n",
       "SPAdes            Multiple k-mer De Bruijn graph Genomic            2628.0 [2628;2628]   \n",
       "Unicycler         Multiple k-mer De Bruijn graph Genomic               656.0 [656;656]   \n",
       "VelvetOptimiser   Multiple k-mer De Bruijn graph Metagenomic     11069.0 [11069;11069]   \n",
       "\n",
       "                                                                     filtered_Ns  \\\n",
       "Assembler         Algorithm                      Type                              \n",
       "ABySS             Single k-mer De Bruijn graph   Genomic        611.33 [610;612]   \n",
       "BCALM2            Single k-mer De Bruijn graph   Genomic               0.0 [0;0]   \n",
       "GATBMiniaPipeline Multiple k-mer De Bruijn graph Metagenomic           0.0 [0;0]   \n",
       "IDBA-UD           Multiple k-mer De Bruijn graph Metagenomic           0.0 [0;0]   \n",
       "MEGAHIT           Multiple k-mer De Bruijn graph Metagenomic           0.0 [0;0]   \n",
       "MetaHipMer2       Multiple k-mer De Bruijn graph Metagenomic           0.0 [0;0]   \n",
       "metaSPAdes        Multiple k-mer De Bruijn graph Metagenomic           0.0 [0;0]   \n",
       "MINIA             Single k-mer De Bruijn graph   Genomic               0.0 [0;0]   \n",
       "SKESA             Multiple k-mer De Bruijn graph Genomic               0.0 [0;0]   \n",
       "SPAdes            Multiple k-mer De Bruijn graph Genomic               0.0 [0;0]   \n",
       "Unicycler         Multiple k-mer De Bruijn graph Genomic               0.0 [0;0]   \n",
       "VelvetOptimiser   Multiple k-mer De Bruijn graph Metagenomic  4383.0 [4383;4383]   \n",
       "\n",
       "                                                                           filtered_basepairs  \\\n",
       "Assembler         Algorithm                      Type                                           \n",
       "ABySS             Single k-mer De Bruijn graph   Genomic      30988179.33 [30988165;30988200]   \n",
       "BCALM2            Single k-mer De Bruijn graph   Genomic       16407295.0 [16407295;16407295]   \n",
       "GATBMiniaPipeline Multiple k-mer De Bruijn graph Metagenomic   30343348.0 [30343348;30343348]   \n",
       "IDBA-UD           Multiple k-mer De Bruijn graph Metagenomic   30145929.0 [30145929;30145929]   \n",
       "MEGAHIT           Multiple k-mer De Bruijn graph Metagenomic   30418686.0 [30418624;30418717]   \n",
       "MetaHipMer2       Multiple k-mer De Bruijn graph Metagenomic   30262824.0 [30262824;30262824]   \n",
       "metaSPAdes        Multiple k-mer De Bruijn graph Metagenomic   30402517.0 [30402517;30402517]   \n",
       "MINIA             Single k-mer De Bruijn graph   Genomic       28218361.0 [28218335;28218378]   \n",
       "SKESA             Multiple k-mer De Bruijn graph Genomic       30064811.0 [30064811;30064811]   \n",
       "SPAdes            Multiple k-mer De Bruijn graph Genomic       30354786.0 [30354786;30354786]   \n",
       "Unicycler         Multiple k-mer De Bruijn graph Genomic       30188943.0 [30188943;30188943]   \n",
       "VelvetOptimiser   Multiple k-mer De Bruijn graph Metagenomic   28467054.0 [28467054;28467054]   \n",
       "\n",
       "                                                                filtered_contigs  \\\n",
       "Assembler         Algorithm                      Type                              \n",
       "ABySS             Single k-mer De Bruijn graph   Genomic         498.0 [497;499]   \n",
       "BCALM2            Single k-mer De Bruijn graph   Genomic      6250.0 [6250;6250]   \n",
       "GATBMiniaPipeline Multiple k-mer De Bruijn graph Metagenomic     657.0 [657;657]   \n",
       "IDBA-UD           Multiple k-mer De Bruijn graph Metagenomic  1254.0 [1254;1254]   \n",
       "MEGAHIT           Multiple k-mer De Bruijn graph Metagenomic     518.0 [518;518]   \n",
       "MetaHipMer2       Multiple k-mer De Bruijn graph Metagenomic     712.0 [712;712]   \n",
       "metaSPAdes        Multiple k-mer De Bruijn graph Metagenomic     365.0 [365;365]   \n",
       "MINIA             Single k-mer De Bruijn graph   Genomic      3574.0 [3574;3574]   \n",
       "SKESA             Multiple k-mer De Bruijn graph Genomic         891.0 [891;891]   \n",
       "SPAdes            Multiple k-mer De Bruijn graph Genomic         412.0 [412;412]   \n",
       "Unicycler         Multiple k-mer De Bruijn graph Genomic         334.0 [334;334]   \n",
       "VelvetOptimiser   Multiple k-mer De Bruijn graph Metagenomic  3035.0 [3035;3035]   \n",
       "\n",
       "                                                             filtered_mapped_reads  \\\n",
       "Assembler         Algorithm                      Type                                \n",
       "ABySS             Single k-mer De Bruijn graph   Genomic             98.12 [98;98]   \n",
       "BCALM2            Single k-mer De Bruijn graph   Genomic             27.01 [27;27]   \n",
       "GATBMiniaPipeline Multiple k-mer De Bruijn graph Metagenomic         98.14 [98;98]   \n",
       "IDBA-UD           Multiple k-mer De Bruijn graph Metagenomic          97.3 [97;97]   \n",
       "MEGAHIT           Multiple k-mer De Bruijn graph Metagenomic         98.65 [98;98]   \n",
       "MetaHipMer2       Multiple k-mer De Bruijn graph Metagenomic         97.25 [97;97]   \n",
       "metaSPAdes        Multiple k-mer De Bruijn graph Metagenomic         98.28 [98;98]   \n",
       "MINIA             Single k-mer De Bruijn graph   Genomic             92.16 [92;92]   \n",
       "SKESA             Multiple k-mer De Bruijn graph Genomic             97.24 [97;97]   \n",
       "SPAdes            Multiple k-mer De Bruijn graph Genomic             98.28 [98;98]   \n",
       "Unicycler         Multiple k-mer De Bruijn graph Genomic             97.61 [97;97]   \n",
       "VelvetOptimiser   Multiple k-mer De Bruijn graph Metagenomic         92.22 [92;92]   \n",
       "\n",
       "                                                                          filtered_n50  \\\n",
       "Assembler         Algorithm                      Type                                    \n",
       "ABySS             Single k-mer De Bruijn graph   Genomic      138706.0 [138706;138706]   \n",
       "BCALM2            Single k-mer De Bruijn graph   Genomic            3056.0 [3056;3056]   \n",
       "GATBMiniaPipeline Multiple k-mer De Bruijn graph Metagenomic  122545.0 [122545;122545]   \n",
       "IDBA-UD           Multiple k-mer De Bruijn graph Metagenomic     63178.0 [63178;63178]   \n",
       "MEGAHIT           Multiple k-mer De Bruijn graph Metagenomic  171540.0 [171540;171540]   \n",
       "MetaHipMer2       Multiple k-mer De Bruijn graph Metagenomic  106637.0 [106637;106637]   \n",
       "metaSPAdes        Multiple k-mer De Bruijn graph Metagenomic  208969.0 [208969;208969]   \n",
       "MINIA             Single k-mer De Bruijn graph   Genomic         20782.0 [20782;20782]   \n",
       "SKESA             Multiple k-mer De Bruijn graph Genomic         74138.0 [74138;74138]   \n",
       "SPAdes            Multiple k-mer De Bruijn graph Genomic      208991.0 [208991;208991]   \n",
       "Unicycler         Multiple k-mer De Bruijn graph Genomic      245050.0 [245050;245050]   \n",
       "VelvetOptimiser   Multiple k-mer De Bruijn graph Metagenomic     33291.0 [33291;33291]   \n",
       "\n",
       "                                                               mapped_reads  \\\n",
       "Assembler         Algorithm                      Type                         \n",
       "ABySS             Single k-mer De Bruijn graph   Genomic      98.63 [98;98]   \n",
       "BCALM2            Single k-mer De Bruijn graph   Genomic      65.26 [65;65]   \n",
       "GATBMiniaPipeline Multiple k-mer De Bruijn graph Metagenomic  98.94 [98;98]   \n",
       "IDBA-UD           Multiple k-mer De Bruijn graph Metagenomic  98.64 [98;98]   \n",
       "MEGAHIT           Multiple k-mer De Bruijn graph Metagenomic  99.05 [99;99]   \n",
       "MetaHipMer2       Multiple k-mer De Bruijn graph Metagenomic  98.03 [98;98]   \n",
       "metaSPAdes        Multiple k-mer De Bruijn graph Metagenomic  98.77 [98;98]   \n",
       "MINIA             Single k-mer De Bruijn graph   Genomic      95.93 [95;95]   \n",
       "SKESA             Multiple k-mer De Bruijn graph Genomic      97.95 [97;97]   \n",
       "SPAdes            Multiple k-mer De Bruijn graph Genomic       98.7 [98;98]   \n",
       "Unicycler         Multiple k-mer De Bruijn graph Genomic      98.46 [98;98]   \n",
       "VelvetOptimiser   Multiple k-mer De Bruijn graph Metagenomic  95.85 [95;95]   \n",
       "\n",
       "                                                                               max_contig  \\\n",
       "Assembler         Algorithm                      Type                                       \n",
       "ABySS             Single k-mer De Bruijn graph   Genomic         841100.0 [841100;841100]   \n",
       "BCALM2            Single k-mer De Bruijn graph   Genomic            38021.0 [38021;38021]   \n",
       "GATBMiniaPipeline Multiple k-mer De Bruijn graph Metagenomic     768585.0 [768585;768585]   \n",
       "IDBA-UD           Multiple k-mer De Bruijn graph Metagenomic     468323.0 [468323;468323]   \n",
       "MEGAHIT           Multiple k-mer De Bruijn graph Metagenomic     768640.0 [768640;768640]   \n",
       "MetaHipMer2       Multiple k-mer De Bruijn graph Metagenomic     468375.0 [468375;468375]   \n",
       "metaSPAdes        Multiple k-mer De Bruijn graph Metagenomic     917726.0 [917726;917726]   \n",
       "MINIA             Single k-mer De Bruijn graph   Genomic         161812.0 [161812;161812]   \n",
       "SKESA             Multiple k-mer De Bruijn graph Genomic         632013.0 [632013;632013]   \n",
       "SPAdes            Multiple k-mer De Bruijn graph Genomic         850176.0 [850176;850176]   \n",
       "Unicycler         Multiple k-mer De Bruijn graph Genomic      1303875.0 [1303875;1303875]   \n",
       "VelvetOptimiser   Multiple k-mer De Bruijn graph Metagenomic     847777.0 [847777;847777]   \n",
       "\n",
       "                                                             misassembled contigs  \\\n",
       "Assembler         Algorithm                      Type                               \n",
       "ABySS             Single k-mer De Bruijn graph   Genomic                2.0 [2;2]   \n",
       "BCALM2            Single k-mer De Bruijn graph   Genomic                0.0 [0;0]   \n",
       "GATBMiniaPipeline Multiple k-mer De Bruijn graph Metagenomic            1.0 [1;1]   \n",
       "IDBA-UD           Multiple k-mer De Bruijn graph Metagenomic         13.0 [13;13]   \n",
       "MEGAHIT           Multiple k-mer De Bruijn graph Metagenomic         10.0 [10;10]   \n",
       "MetaHipMer2       Multiple k-mer De Bruijn graph Metagenomic            0.0 [0;0]   \n",
       "metaSPAdes        Multiple k-mer De Bruijn graph Metagenomic            1.0 [1;1]   \n",
       "MINIA             Single k-mer De Bruijn graph   Genomic                0.0 [0;0]   \n",
       "SKESA             Multiple k-mer De Bruijn graph Genomic                9.0 [9;9]   \n",
       "SPAdes            Multiple k-mer De Bruijn graph Genomic                0.0 [0;0]   \n",
       "Unicycler         Multiple k-mer De Bruijn graph Genomic                0.0 [0;0]   \n",
       "VelvetOptimiser   Multiple k-mer De Bruijn graph Metagenomic            6.0 [6;6]   \n",
       "\n",
       "                                                             misassembly events  \\\n",
       "Assembler         Algorithm                      Type                             \n",
       "ABySS             Single k-mer De Bruijn graph   Genomic              3.0 [3;3]   \n",
       "BCALM2            Single k-mer De Bruijn graph   Genomic              0.0 [0;0]   \n",
       "GATBMiniaPipeline Multiple k-mer De Bruijn graph Metagenomic          1.0 [1;1]   \n",
       "IDBA-UD           Multiple k-mer De Bruijn graph Metagenomic       22.0 [22;22]   \n",
       "MEGAHIT           Multiple k-mer De Bruijn graph Metagenomic       21.0 [21;21]   \n",
       "MetaHipMer2       Multiple k-mer De Bruijn graph Metagenomic          0.0 [0;0]   \n",
       "metaSPAdes        Multiple k-mer De Bruijn graph Metagenomic          3.0 [3;3]   \n",
       "MINIA             Single k-mer De Bruijn graph   Genomic              0.0 [0;0]   \n",
       "SKESA             Multiple k-mer De Bruijn graph Genomic           18.0 [18;18]   \n",
       "SPAdes            Multiple k-mer De Bruijn graph Genomic              0.0 [0;0]   \n",
       "Unicycler         Multiple k-mer De Bruijn graph Genomic              0.0 [0;0]   \n",
       "VelvetOptimiser   Multiple k-mer De Bruijn graph Metagenomic       11.0 [11;11]   \n",
       "\n",
       "                                                                                   n50  \n",
       "Assembler         Algorithm                      Type                                   \n",
       "ABySS             Single k-mer De Bruijn graph   Genomic      124246.0 [124246;124246]  \n",
       "BCALM2            Single k-mer De Bruijn graph   Genomic               645.0 [645;645]  \n",
       "GATBMiniaPipeline Multiple k-mer De Bruijn graph Metagenomic  121957.0 [121957;121957]  \n",
       "IDBA-UD           Multiple k-mer De Bruijn graph Metagenomic    61771.67 [61704;61907]  \n",
       "MEGAHIT           Multiple k-mer De Bruijn graph Metagenomic  171540.0 [171540;171540]  \n",
       "MetaHipMer2       Multiple k-mer De Bruijn graph Metagenomic  106383.0 [106383;106383]  \n",
       "metaSPAdes        Multiple k-mer De Bruijn graph Metagenomic  208969.0 [208969;208969]  \n",
       "MINIA             Single k-mer De Bruijn graph   Genomic         17967.0 [17967;17967]  \n",
       "SKESA             Multiple k-mer De Bruijn graph Genomic         73839.0 [73839;73839]  \n",
       "SPAdes            Multiple k-mer De Bruijn graph Genomic      206515.0 [206515;206515]  \n",
       "Unicycler         Multiple k-mer De Bruijn graph Genomic      245050.0 [245050;245050]  \n",
       "VelvetOptimiser   Multiple k-mer De Bruijn graph Metagenomic     29176.0 [29176;29176]  "
      ]
     },
     "metadata": {},
     "output_type": "display_data"
    },
    {
     "data": {
      "text/html": [
       "<div>\n",
       "<style scoped>\n",
       "    .dataframe tbody tr th:only-of-type {\n",
       "        vertical-align: middle;\n",
       "    }\n",
       "\n",
       "    .dataframe tbody tr th {\n",
       "        vertical-align: top;\n",
       "    }\n",
       "\n",
       "    .dataframe thead th {\n",
       "        text-align: right;\n",
       "    }\n",
       "</style>\n",
       "<table border=\"1\" class=\"dataframe\">\n",
       "  <thead>\n",
       "    <tr style=\"text-align: right;\">\n",
       "      <th></th>\n",
       "      <th>Ns</th>\n",
       "      <th>basepairs</th>\n",
       "      <th>contigs</th>\n",
       "      <th>filtered_Ns</th>\n",
       "      <th>filtered_basepairs</th>\n",
       "      <th>filtered_contigs</th>\n",
       "      <th>filtered_mapped_reads</th>\n",
       "      <th>filtered_n50</th>\n",
       "      <th>mapped_reads</th>\n",
       "      <th>max_contig</th>\n",
       "      <th>misassembled contigs</th>\n",
       "      <th>misassembly events</th>\n",
       "      <th>n50</th>\n",
       "    </tr>\n",
       "    <tr>\n",
       "      <th>Assembler</th>\n",
       "      <th></th>\n",
       "      <th></th>\n",
       "      <th></th>\n",
       "      <th></th>\n",
       "      <th></th>\n",
       "      <th></th>\n",
       "      <th></th>\n",
       "      <th></th>\n",
       "      <th></th>\n",
       "      <th></th>\n",
       "      <th></th>\n",
       "      <th></th>\n",
       "      <th></th>\n",
       "    </tr>\n",
       "  </thead>\n",
       "  <tbody>\n",
       "    <tr>\n",
       "      <th>ABySS</th>\n",
       "      <td>881.0</td>\n",
       "      <td>34563949.0</td>\n",
       "      <td>32428.0</td>\n",
       "      <td>610.0</td>\n",
       "      <td>30988200.0</td>\n",
       "      <td>497.0</td>\n",
       "      <td>98.120755</td>\n",
       "      <td>138706.0</td>\n",
       "      <td>98.634730</td>\n",
       "      <td>841100.0</td>\n",
       "      <td>2.0</td>\n",
       "      <td>3.0</td>\n",
       "      <td>124246.0</td>\n",
       "    </tr>\n",
       "    <tr>\n",
       "      <th>BCALM2</th>\n",
       "      <td>0.0</td>\n",
       "      <td>39571553.0</td>\n",
       "      <td>252182.0</td>\n",
       "      <td>0.0</td>\n",
       "      <td>16407295.0</td>\n",
       "      <td>6250.0</td>\n",
       "      <td>27.009095</td>\n",
       "      <td>3056.0</td>\n",
       "      <td>65.260675</td>\n",
       "      <td>38021.0</td>\n",
       "      <td>0.0</td>\n",
       "      <td>0.0</td>\n",
       "      <td>645.0</td>\n",
       "    </tr>\n",
       "    <tr>\n",
       "      <th>GATBMiniaPipeline</th>\n",
       "      <td>0.0</td>\n",
       "      <td>30509406.0</td>\n",
       "      <td>943.0</td>\n",
       "      <td>0.0</td>\n",
       "      <td>30343348.0</td>\n",
       "      <td>657.0</td>\n",
       "      <td>98.141277</td>\n",
       "      <td>122545.0</td>\n",
       "      <td>98.943315</td>\n",
       "      <td>768585.0</td>\n",
       "      <td>1.0</td>\n",
       "      <td>1.0</td>\n",
       "      <td>121957.0</td>\n",
       "    </tr>\n",
       "    <tr>\n",
       "      <th>IDBA-UD</th>\n",
       "      <td>0.0</td>\n",
       "      <td>30408932.0</td>\n",
       "      <td>1829.0</td>\n",
       "      <td>0.0</td>\n",
       "      <td>30145929.0</td>\n",
       "      <td>1254.0</td>\n",
       "      <td>97.299088</td>\n",
       "      <td>63178.0</td>\n",
       "      <td>98.642441</td>\n",
       "      <td>468323.0</td>\n",
       "      <td>13.0</td>\n",
       "      <td>22.0</td>\n",
       "      <td>61907.0</td>\n",
       "    </tr>\n",
       "    <tr>\n",
       "      <th>MEGAHIT</th>\n",
       "      <td>0.0</td>\n",
       "      <td>30599129.0</td>\n",
       "      <td>979.0</td>\n",
       "      <td>0.0</td>\n",
       "      <td>30418717.0</td>\n",
       "      <td>518.0</td>\n",
       "      <td>98.647341</td>\n",
       "      <td>171540.0</td>\n",
       "      <td>99.053249</td>\n",
       "      <td>768640.0</td>\n",
       "      <td>10.0</td>\n",
       "      <td>21.0</td>\n",
       "      <td>171540.0</td>\n",
       "    </tr>\n",
       "    <tr>\n",
       "      <th>MetaHipMer2</th>\n",
       "      <td>0.0</td>\n",
       "      <td>30381792.0</td>\n",
       "      <td>884.0</td>\n",
       "      <td>0.0</td>\n",
       "      <td>30262824.0</td>\n",
       "      <td>712.0</td>\n",
       "      <td>97.251875</td>\n",
       "      <td>106637.0</td>\n",
       "      <td>98.038280</td>\n",
       "      <td>468375.0</td>\n",
       "      <td>0.0</td>\n",
       "      <td>0.0</td>\n",
       "      <td>106383.0</td>\n",
       "    </tr>\n",
       "    <tr>\n",
       "      <th>metaSPAdes</th>\n",
       "      <td>0.0</td>\n",
       "      <td>30482042.0</td>\n",
       "      <td>761.0</td>\n",
       "      <td>0.0</td>\n",
       "      <td>30402517.0</td>\n",
       "      <td>365.0</td>\n",
       "      <td>98.283354</td>\n",
       "      <td>208969.0</td>\n",
       "      <td>98.773950</td>\n",
       "      <td>917726.0</td>\n",
       "      <td>1.0</td>\n",
       "      <td>3.0</td>\n",
       "      <td>208969.0</td>\n",
       "    </tr>\n",
       "    <tr>\n",
       "      <th>MINIA</th>\n",
       "      <td>0.0</td>\n",
       "      <td>30649850.0</td>\n",
       "      <td>16748.0</td>\n",
       "      <td>0.0</td>\n",
       "      <td>28218378.0</td>\n",
       "      <td>3574.0</td>\n",
       "      <td>92.157230</td>\n",
       "      <td>20782.0</td>\n",
       "      <td>95.935986</td>\n",
       "      <td>161812.0</td>\n",
       "      <td>0.0</td>\n",
       "      <td>0.0</td>\n",
       "      <td>17967.0</td>\n",
       "    </tr>\n",
       "    <tr>\n",
       "      <th>SKESA</th>\n",
       "      <td>0.0</td>\n",
       "      <td>30249132.0</td>\n",
       "      <td>1269.0</td>\n",
       "      <td>0.0</td>\n",
       "      <td>30064811.0</td>\n",
       "      <td>891.0</td>\n",
       "      <td>97.237351</td>\n",
       "      <td>74138.0</td>\n",
       "      <td>97.952533</td>\n",
       "      <td>632013.0</td>\n",
       "      <td>9.0</td>\n",
       "      <td>18.0</td>\n",
       "      <td>73839.0</td>\n",
       "    </tr>\n",
       "    <tr>\n",
       "      <th>SPAdes</th>\n",
       "      <td>0.0</td>\n",
       "      <td>30664883.0</td>\n",
       "      <td>2628.0</td>\n",
       "      <td>0.0</td>\n",
       "      <td>30354786.0</td>\n",
       "      <td>412.0</td>\n",
       "      <td>98.283354</td>\n",
       "      <td>208991.0</td>\n",
       "      <td>98.700052</td>\n",
       "      <td>850176.0</td>\n",
       "      <td>0.0</td>\n",
       "      <td>0.0</td>\n",
       "      <td>206515.0</td>\n",
       "    </tr>\n",
       "    <tr>\n",
       "      <th>Unicycler</th>\n",
       "      <td>0.0</td>\n",
       "      <td>30301867.0</td>\n",
       "      <td>656.0</td>\n",
       "      <td>0.0</td>\n",
       "      <td>30188943.0</td>\n",
       "      <td>334.0</td>\n",
       "      <td>97.609864</td>\n",
       "      <td>245050.0</td>\n",
       "      <td>98.457135</td>\n",
       "      <td>1303875.0</td>\n",
       "      <td>0.0</td>\n",
       "      <td>0.0</td>\n",
       "      <td>245050.0</td>\n",
       "    </tr>\n",
       "    <tr>\n",
       "      <th>VelvetOptimiser</th>\n",
       "      <td>4383.0</td>\n",
       "      <td>30526291.0</td>\n",
       "      <td>11069.0</td>\n",
       "      <td>4383.0</td>\n",
       "      <td>28467054.0</td>\n",
       "      <td>3035.0</td>\n",
       "      <td>92.222039</td>\n",
       "      <td>33291.0</td>\n",
       "      <td>95.850546</td>\n",
       "      <td>847777.0</td>\n",
       "      <td>6.0</td>\n",
       "      <td>11.0</td>\n",
       "      <td>29176.0</td>\n",
       "    </tr>\n",
       "  </tbody>\n",
       "</table>\n",
       "</div>"
      ],
      "text/plain": [
       "                       Ns   basepairs   contigs  filtered_Ns  \\\n",
       "Assembler                                                      \n",
       "ABySS               881.0  34563949.0   32428.0        610.0   \n",
       "BCALM2                0.0  39571553.0  252182.0          0.0   \n",
       "GATBMiniaPipeline     0.0  30509406.0     943.0          0.0   \n",
       "IDBA-UD               0.0  30408932.0    1829.0          0.0   \n",
       "MEGAHIT               0.0  30599129.0     979.0          0.0   \n",
       "MetaHipMer2           0.0  30381792.0     884.0          0.0   \n",
       "metaSPAdes            0.0  30482042.0     761.0          0.0   \n",
       "MINIA                 0.0  30649850.0   16748.0          0.0   \n",
       "SKESA                 0.0  30249132.0    1269.0          0.0   \n",
       "SPAdes                0.0  30664883.0    2628.0          0.0   \n",
       "Unicycler             0.0  30301867.0     656.0          0.0   \n",
       "VelvetOptimiser    4383.0  30526291.0   11069.0       4383.0   \n",
       "\n",
       "                   filtered_basepairs  filtered_contigs  \\\n",
       "Assembler                                                 \n",
       "ABySS                      30988200.0             497.0   \n",
       "BCALM2                     16407295.0            6250.0   \n",
       "GATBMiniaPipeline          30343348.0             657.0   \n",
       "IDBA-UD                    30145929.0            1254.0   \n",
       "MEGAHIT                    30418717.0             518.0   \n",
       "MetaHipMer2                30262824.0             712.0   \n",
       "metaSPAdes                 30402517.0             365.0   \n",
       "MINIA                      28218378.0            3574.0   \n",
       "SKESA                      30064811.0             891.0   \n",
       "SPAdes                     30354786.0             412.0   \n",
       "Unicycler                  30188943.0             334.0   \n",
       "VelvetOptimiser            28467054.0            3035.0   \n",
       "\n",
       "                   filtered_mapped_reads  filtered_n50  mapped_reads  \\\n",
       "Assembler                                                              \n",
       "ABySS                          98.120755      138706.0     98.634730   \n",
       "BCALM2                         27.009095        3056.0     65.260675   \n",
       "GATBMiniaPipeline              98.141277      122545.0     98.943315   \n",
       "IDBA-UD                        97.299088       63178.0     98.642441   \n",
       "MEGAHIT                        98.647341      171540.0     99.053249   \n",
       "MetaHipMer2                    97.251875      106637.0     98.038280   \n",
       "metaSPAdes                     98.283354      208969.0     98.773950   \n",
       "MINIA                          92.157230       20782.0     95.935986   \n",
       "SKESA                          97.237351       74138.0     97.952533   \n",
       "SPAdes                         98.283354      208991.0     98.700052   \n",
       "Unicycler                      97.609864      245050.0     98.457135   \n",
       "VelvetOptimiser                92.222039       33291.0     95.850546   \n",
       "\n",
       "                   max_contig  misassembled contigs  misassembly events  \\\n",
       "Assembler                                                                 \n",
       "ABySS                841100.0                   2.0                 3.0   \n",
       "BCALM2                38021.0                   0.0                 0.0   \n",
       "GATBMiniaPipeline    768585.0                   1.0                 1.0   \n",
       "IDBA-UD              468323.0                  13.0                22.0   \n",
       "MEGAHIT              768640.0                  10.0                21.0   \n",
       "MetaHipMer2          468375.0                   0.0                 0.0   \n",
       "metaSPAdes           917726.0                   1.0                 3.0   \n",
       "MINIA                161812.0                   0.0                 0.0   \n",
       "SKESA                632013.0                   9.0                18.0   \n",
       "SPAdes               850176.0                   0.0                 0.0   \n",
       "Unicycler           1303875.0                   0.0                 0.0   \n",
       "VelvetOptimiser      847777.0                   6.0                11.0   \n",
       "\n",
       "                        n50  \n",
       "Assembler                    \n",
       "ABySS              124246.0  \n",
       "BCALM2                645.0  \n",
       "GATBMiniaPipeline  121957.0  \n",
       "IDBA-UD             61907.0  \n",
       "MEGAHIT            171540.0  \n",
       "MetaHipMer2        106383.0  \n",
       "metaSPAdes         208969.0  \n",
       "MINIA               17967.0  \n",
       "SKESA               73839.0  \n",
       "SPAdes             206515.0  \n",
       "Unicycler          245050.0  \n",
       "VelvetOptimiser     29176.0  "
      ]
     },
     "metadata": {},
     "output_type": "display_data"
    },
    {
     "name": "stdout",
     "output_type": "stream",
     "text": [
      "ERR2984773\n"
     ]
    },
    {
     "data": {
      "text/html": [
       "<div>\n",
       "<style scoped>\n",
       "    .dataframe tbody tr th:only-of-type {\n",
       "        vertical-align: middle;\n",
       "    }\n",
       "\n",
       "    .dataframe tbody tr th {\n",
       "        vertical-align: top;\n",
       "    }\n",
       "\n",
       "    .dataframe thead th {\n",
       "        text-align: right;\n",
       "    }\n",
       "</style>\n",
       "<table border=\"1\" class=\"dataframe\">\n",
       "  <thead>\n",
       "    <tr style=\"text-align: right;\">\n",
       "      <th></th>\n",
       "      <th></th>\n",
       "      <th></th>\n",
       "      <th>Ns</th>\n",
       "      <th>basepairs</th>\n",
       "      <th>contigs</th>\n",
       "      <th>filtered_Ns</th>\n",
       "      <th>filtered_basepairs</th>\n",
       "      <th>filtered_contigs</th>\n",
       "      <th>filtered_mapped_reads</th>\n",
       "      <th>filtered_n50</th>\n",
       "      <th>mapped_reads</th>\n",
       "      <th>max_contig</th>\n",
       "      <th>misassembled contigs</th>\n",
       "      <th>misassembly events</th>\n",
       "      <th>n50</th>\n",
       "    </tr>\n",
       "    <tr>\n",
       "      <th>Assembler</th>\n",
       "      <th>Algorithm</th>\n",
       "      <th>Type</th>\n",
       "      <th></th>\n",
       "      <th></th>\n",
       "      <th></th>\n",
       "      <th></th>\n",
       "      <th></th>\n",
       "      <th></th>\n",
       "      <th></th>\n",
       "      <th></th>\n",
       "      <th></th>\n",
       "      <th></th>\n",
       "      <th></th>\n",
       "      <th></th>\n",
       "      <th></th>\n",
       "    </tr>\n",
       "  </thead>\n",
       "  <tbody>\n",
       "    <tr>\n",
       "      <th>ABySS</th>\n",
       "      <th>Single k-mer De Bruijn graph</th>\n",
       "      <th>Genomic</th>\n",
       "      <td>98.67 [0;149]</td>\n",
       "      <td>61139451.0 [0;91720949]</td>\n",
       "      <td>331860.0 [0;497797]</td>\n",
       "      <td>4.0 [0;7]</td>\n",
       "      <td>20429844.33 [0;30657287]</td>\n",
       "      <td>800.33 [0;1205]</td>\n",
       "      <td>53.74 [0;80]</td>\n",
       "      <td>35189.0 [0;52869]</td>\n",
       "      <td>56.42 [0;84]</td>\n",
       "      <td>198658.0 [0;298093]</td>\n",
       "      <td>1.33 [0;2]</td>\n",
       "      <td>3.33 [0;6]</td>\n",
       "      <td>92.67 [0;139]</td>\n",
       "    </tr>\n",
       "    <tr>\n",
       "      <th>BCALM2</th>\n",
       "      <th>Single k-mer De Bruijn graph</th>\n",
       "      <th>Genomic</th>\n",
       "      <td>0.0 [0;0]</td>\n",
       "      <td>170402348.0 [170402348;170402348]</td>\n",
       "      <td>3508016.0 [3508016;3508016]</td>\n",
       "      <td>0.0 [0;0]</td>\n",
       "      <td>0.0 [0;0]</td>\n",
       "      <td>0.0 [0;0]</td>\n",
       "      <td>0.0 [0;0]</td>\n",
       "      <td>0.0 [0;0]</td>\n",
       "      <td>8.15 [8;8]</td>\n",
       "      <td>994.0 [994;994]</td>\n",
       "      <td>0.0 [0;0]</td>\n",
       "      <td>0.0 [0;0]</td>\n",
       "      <td>49.0 [49;49]</td>\n",
       "    </tr>\n",
       "    <tr>\n",
       "      <th>GATBMiniaPipeline</th>\n",
       "      <th>Multiple k-mer De Bruijn graph</th>\n",
       "      <th>Metagenomic</th>\n",
       "      <td>0.0 [0;0]</td>\n",
       "      <td>32809889.0 [32809112;32810830]</td>\n",
       "      <td>5398.33 [5397;5400]</td>\n",
       "      <td>0.0 [0;0]</td>\n",
       "      <td>30564350.0 [30564302;30564396]</td>\n",
       "      <td>761.0 [761;761]</td>\n",
       "      <td>82.23 [82;82]</td>\n",
       "      <td>113162.0 [113162;113162]</td>\n",
       "      <td>83.14 [83;83]</td>\n",
       "      <td>768462.0 [768462;768462]</td>\n",
       "      <td>1.0 [1;1]</td>\n",
       "      <td>2.0 [2;2]</td>\n",
       "      <td>102115.0 [102115;102115]</td>\n",
       "    </tr>\n",
       "    <tr>\n",
       "      <th>IDBA-UD</th>\n",
       "      <th>Multiple k-mer De Bruijn graph</th>\n",
       "      <th>Metagenomic</th>\n",
       "      <td>0.0 [0;0]</td>\n",
       "      <td>39776993.0 [39773020;39779384]</td>\n",
       "      <td>20182.33 [20164;20194]</td>\n",
       "      <td>0.0 [0;0]</td>\n",
       "      <td>31562689.67 [31562689;31562690]</td>\n",
       "      <td>2654.0 [2654;2654]</td>\n",
       "      <td>81.31 [81;81]</td>\n",
       "      <td>29134.0 [29134;29134]</td>\n",
       "      <td>83.67 [83;83]</td>\n",
       "      <td>303329.0 [303329;303329]</td>\n",
       "      <td>4.0 [4;4]</td>\n",
       "      <td>7.0 [7;7]</td>\n",
       "      <td>20993.0 [20993;20993]</td>\n",
       "    </tr>\n",
       "    <tr>\n",
       "      <th>MEGAHIT</th>\n",
       "      <th>Multiple k-mer De Bruijn graph</th>\n",
       "      <th>Metagenomic</th>\n",
       "      <td>0.0 [0;0]</td>\n",
       "      <td>41166407.0 [41166407;41166407]</td>\n",
       "      <td>20614.0 [20614;20614]</td>\n",
       "      <td>0.0 [0;0]</td>\n",
       "      <td>32021766.0 [32021766;32021766]</td>\n",
       "      <td>1447.0 [1447;1447]</td>\n",
       "      <td>82.83 [82;82]</td>\n",
       "      <td>149841.0 [149841;149841]</td>\n",
       "      <td>84.22 [84;84]</td>\n",
       "      <td>1205839.0 [1205839;1205839]</td>\n",
       "      <td>15.0 [15;15]</td>\n",
       "      <td>31.67 [31;32]</td>\n",
       "      <td>88308.0 [88308;88308]</td>\n",
       "    </tr>\n",
       "    <tr>\n",
       "      <th>MetaHipMer2</th>\n",
       "      <th>Multiple k-mer De Bruijn graph</th>\n",
       "      <th>Metagenomic</th>\n",
       "      <td>0.0 [0;0]</td>\n",
       "      <td>13179761.33 [13174826;13184199]</td>\n",
       "      <td>19356.0 [19351;19361]</td>\n",
       "      <td>0.0 [0;0]</td>\n",
       "      <td>1600962.67 [1599587;1601911]</td>\n",
       "      <td>1309.0 [1308;1310]</td>\n",
       "      <td>3.96 [3;3]</td>\n",
       "      <td>1176.0 [1175;1178]</td>\n",
       "      <td>25.5 [25;25]</td>\n",
       "      <td>2964.0 [2964;2964]</td>\n",
       "      <td>0.0 [0;0]</td>\n",
       "      <td>0.0 [0;0]</td>\n",
       "      <td>658.67 [658;659]</td>\n",
       "    </tr>\n",
       "    <tr>\n",
       "      <th>metaSPAdes</th>\n",
       "      <th>Multiple k-mer De Bruijn graph</th>\n",
       "      <th>Metagenomic</th>\n",
       "      <td>0.0 [0;0]</td>\n",
       "      <td>48964620.0 [48964620;48964620]</td>\n",
       "      <td>61644.0 [61644;61644]</td>\n",
       "      <td>0.0 [0;0]</td>\n",
       "      <td>31967753.0 [31967753;31967753]</td>\n",
       "      <td>1689.0 [1689;1689]</td>\n",
       "      <td>82.04 [82;82]</td>\n",
       "      <td>95101.0 [95101;95101]</td>\n",
       "      <td>84.33 [84;84]</td>\n",
       "      <td>473277.0 [473277;473277]</td>\n",
       "      <td>2.0 [2;2]</td>\n",
       "      <td>3.0 [3;3]</td>\n",
       "      <td>42332.0 [42332;42332]</td>\n",
       "    </tr>\n",
       "    <tr>\n",
       "      <th>MINIA</th>\n",
       "      <th>Single k-mer De Bruijn graph</th>\n",
       "      <th>Genomic</th>\n",
       "      <td>0.0 [0;0]</td>\n",
       "      <td>41186649.33 [41185696;41187744]</td>\n",
       "      <td>67991.0 [67974;68012]</td>\n",
       "      <td>0.0 [0;0]</td>\n",
       "      <td>28277982.0 [28276538;28279162]</td>\n",
       "      <td>3980.33 [3978;3983]</td>\n",
       "      <td>74.36 [74;74]</td>\n",
       "      <td>15886.33 [15817;15930]</td>\n",
       "      <td>80.65 [80;80]</td>\n",
       "      <td>117945.0 [117945;117945]</td>\n",
       "      <td>0.0 [0;0]</td>\n",
       "      <td>0.0 [0;0]</td>\n",
       "      <td>7090.67 [7060;7106]</td>\n",
       "    </tr>\n",
       "    <tr>\n",
       "      <th>SKESA</th>\n",
       "      <th>Multiple k-mer De Bruijn graph</th>\n",
       "      <th>Genomic</th>\n",
       "      <td>0.0 [0;0]</td>\n",
       "      <td>30430077.0 [30430077;30430077]</td>\n",
       "      <td>1352.0 [1352;1352]</td>\n",
       "      <td>0.0 [0;0]</td>\n",
       "      <td>30211740.0 [30211740;30211740]</td>\n",
       "      <td>846.0 [846;846]</td>\n",
       "      <td>80.51 [80;80]</td>\n",
       "      <td>77870.0 [77870;77870]</td>\n",
       "      <td>81.25 [81;81]</td>\n",
       "      <td>446163.0 [446163;446163]</td>\n",
       "      <td>0.0 [0;0]</td>\n",
       "      <td>0.0 [0;0]</td>\n",
       "      <td>76924.0 [76924;76924]</td>\n",
       "    </tr>\n",
       "    <tr>\n",
       "      <th>SPAdes</th>\n",
       "      <th>Multiple k-mer De Bruijn graph</th>\n",
       "      <th>Genomic</th>\n",
       "      <td>0.0 [0;0]</td>\n",
       "      <td>46535940.0 [46535940;46535940]</td>\n",
       "      <td>39819.0 [39819;39819]</td>\n",
       "      <td>0.0 [0;0]</td>\n",
       "      <td>32500826.0 [32500826;32500826]</td>\n",
       "      <td>2049.0 [2049;2049]</td>\n",
       "      <td>81.17 [81;81]</td>\n",
       "      <td>99299.0 [99299;99299]</td>\n",
       "      <td>84.2 [84;84]</td>\n",
       "      <td>745370.0 [745370;745370]</td>\n",
       "      <td>9.0 [9;9]</td>\n",
       "      <td>18.0 [18;18]</td>\n",
       "      <td>53292.0 [53292;53292]</td>\n",
       "    </tr>\n",
       "    <tr>\n",
       "      <th>Unicycler</th>\n",
       "      <th>Multiple k-mer De Bruijn graph</th>\n",
       "      <th>Genomic</th>\n",
       "      <td>0.0 [0;0]</td>\n",
       "      <td>30592960.0 [30592960;30592960]</td>\n",
       "      <td>895.0 [895;895]</td>\n",
       "      <td>0.0 [0;0]</td>\n",
       "      <td>30432114.0 [30432114;30432114]</td>\n",
       "      <td>425.0 [425;425]</td>\n",
       "      <td>81.6 [81;81]</td>\n",
       "      <td>191424.0 [191424;191424]</td>\n",
       "      <td>82.31 [82;82]</td>\n",
       "      <td>882182.0 [882182;882182]</td>\n",
       "      <td>2.0 [2;2]</td>\n",
       "      <td>4.0 [4;4]</td>\n",
       "      <td>191424.0 [191424;191424]</td>\n",
       "    </tr>\n",
       "    <tr>\n",
       "      <th>VelvetOptimiser</th>\n",
       "      <th>Multiple k-mer De Bruijn graph</th>\n",
       "      <th>Metagenomic</th>\n",
       "      <td>361.33 [105;733]</td>\n",
       "      <td>53882375.33 [52039194;57130377]</td>\n",
       "      <td>585951.67 [539817;652127]</td>\n",
       "      <td>0.0 [0;0]</td>\n",
       "      <td>28831.0 [13883;55137]</td>\n",
       "      <td>25.67 [13;48]</td>\n",
       "      <td>0.0 [0;0]</td>\n",
       "      <td>1089.33 [1039;1116]</td>\n",
       "      <td>2.51 [1;3]</td>\n",
       "      <td>1384.0 [1157;1702]</td>\n",
       "      <td>0.0 [0;0]</td>\n",
       "      <td>0.0 [0;0]</td>\n",
       "      <td>88.67 [85;93]</td>\n",
       "    </tr>\n",
       "  </tbody>\n",
       "</table>\n",
       "</div>"
      ],
      "text/plain": [
       "                                                                            Ns  \\\n",
       "Assembler         Algorithm                      Type                            \n",
       "ABySS             Single k-mer De Bruijn graph   Genomic         98.67 [0;149]   \n",
       "BCALM2            Single k-mer De Bruijn graph   Genomic             0.0 [0;0]   \n",
       "GATBMiniaPipeline Multiple k-mer De Bruijn graph Metagenomic         0.0 [0;0]   \n",
       "IDBA-UD           Multiple k-mer De Bruijn graph Metagenomic         0.0 [0;0]   \n",
       "MEGAHIT           Multiple k-mer De Bruijn graph Metagenomic         0.0 [0;0]   \n",
       "MetaHipMer2       Multiple k-mer De Bruijn graph Metagenomic         0.0 [0;0]   \n",
       "metaSPAdes        Multiple k-mer De Bruijn graph Metagenomic         0.0 [0;0]   \n",
       "MINIA             Single k-mer De Bruijn graph   Genomic             0.0 [0;0]   \n",
       "SKESA             Multiple k-mer De Bruijn graph Genomic             0.0 [0;0]   \n",
       "SPAdes            Multiple k-mer De Bruijn graph Genomic             0.0 [0;0]   \n",
       "Unicycler         Multiple k-mer De Bruijn graph Genomic             0.0 [0;0]   \n",
       "VelvetOptimiser   Multiple k-mer De Bruijn graph Metagenomic  361.33 [105;733]   \n",
       "\n",
       "                                                                                      basepairs  \\\n",
       "Assembler         Algorithm                      Type                                             \n",
       "ABySS             Single k-mer De Bruijn graph   Genomic                61139451.0 [0;91720949]   \n",
       "BCALM2            Single k-mer De Bruijn graph   Genomic      170402348.0 [170402348;170402348]   \n",
       "GATBMiniaPipeline Multiple k-mer De Bruijn graph Metagenomic     32809889.0 [32809112;32810830]   \n",
       "IDBA-UD           Multiple k-mer De Bruijn graph Metagenomic     39776993.0 [39773020;39779384]   \n",
       "MEGAHIT           Multiple k-mer De Bruijn graph Metagenomic     41166407.0 [41166407;41166407]   \n",
       "MetaHipMer2       Multiple k-mer De Bruijn graph Metagenomic    13179761.33 [13174826;13184199]   \n",
       "metaSPAdes        Multiple k-mer De Bruijn graph Metagenomic     48964620.0 [48964620;48964620]   \n",
       "MINIA             Single k-mer De Bruijn graph   Genomic        41186649.33 [41185696;41187744]   \n",
       "SKESA             Multiple k-mer De Bruijn graph Genomic         30430077.0 [30430077;30430077]   \n",
       "SPAdes            Multiple k-mer De Bruijn graph Genomic         46535940.0 [46535940;46535940]   \n",
       "Unicycler         Multiple k-mer De Bruijn graph Genomic         30592960.0 [30592960;30592960]   \n",
       "VelvetOptimiser   Multiple k-mer De Bruijn graph Metagenomic    53882375.33 [52039194;57130377]   \n",
       "\n",
       "                                                                                  contigs  \\\n",
       "Assembler         Algorithm                      Type                                       \n",
       "ABySS             Single k-mer De Bruijn graph   Genomic              331860.0 [0;497797]   \n",
       "BCALM2            Single k-mer De Bruijn graph   Genomic      3508016.0 [3508016;3508016]   \n",
       "GATBMiniaPipeline Multiple k-mer De Bruijn graph Metagenomic          5398.33 [5397;5400]   \n",
       "IDBA-UD           Multiple k-mer De Bruijn graph Metagenomic       20182.33 [20164;20194]   \n",
       "MEGAHIT           Multiple k-mer De Bruijn graph Metagenomic        20614.0 [20614;20614]   \n",
       "MetaHipMer2       Multiple k-mer De Bruijn graph Metagenomic        19356.0 [19351;19361]   \n",
       "metaSPAdes        Multiple k-mer De Bruijn graph Metagenomic        61644.0 [61644;61644]   \n",
       "MINIA             Single k-mer De Bruijn graph   Genomic            67991.0 [67974;68012]   \n",
       "SKESA             Multiple k-mer De Bruijn graph Genomic               1352.0 [1352;1352]   \n",
       "SPAdes            Multiple k-mer De Bruijn graph Genomic            39819.0 [39819;39819]   \n",
       "Unicycler         Multiple k-mer De Bruijn graph Genomic                  895.0 [895;895]   \n",
       "VelvetOptimiser   Multiple k-mer De Bruijn graph Metagenomic    585951.67 [539817;652127]   \n",
       "\n",
       "                                                             filtered_Ns  \\\n",
       "Assembler         Algorithm                      Type                      \n",
       "ABySS             Single k-mer De Bruijn graph   Genomic       4.0 [0;7]   \n",
       "BCALM2            Single k-mer De Bruijn graph   Genomic       0.0 [0;0]   \n",
       "GATBMiniaPipeline Multiple k-mer De Bruijn graph Metagenomic   0.0 [0;0]   \n",
       "IDBA-UD           Multiple k-mer De Bruijn graph Metagenomic   0.0 [0;0]   \n",
       "MEGAHIT           Multiple k-mer De Bruijn graph Metagenomic   0.0 [0;0]   \n",
       "MetaHipMer2       Multiple k-mer De Bruijn graph Metagenomic   0.0 [0;0]   \n",
       "metaSPAdes        Multiple k-mer De Bruijn graph Metagenomic   0.0 [0;0]   \n",
       "MINIA             Single k-mer De Bruijn graph   Genomic       0.0 [0;0]   \n",
       "SKESA             Multiple k-mer De Bruijn graph Genomic       0.0 [0;0]   \n",
       "SPAdes            Multiple k-mer De Bruijn graph Genomic       0.0 [0;0]   \n",
       "Unicycler         Multiple k-mer De Bruijn graph Genomic       0.0 [0;0]   \n",
       "VelvetOptimiser   Multiple k-mer De Bruijn graph Metagenomic   0.0 [0;0]   \n",
       "\n",
       "                                                                           filtered_basepairs  \\\n",
       "Assembler         Algorithm                      Type                                           \n",
       "ABySS             Single k-mer De Bruijn graph   Genomic             20429844.33 [0;30657287]   \n",
       "BCALM2            Single k-mer De Bruijn graph   Genomic                            0.0 [0;0]   \n",
       "GATBMiniaPipeline Multiple k-mer De Bruijn graph Metagenomic   30564350.0 [30564302;30564396]   \n",
       "IDBA-UD           Multiple k-mer De Bruijn graph Metagenomic  31562689.67 [31562689;31562690]   \n",
       "MEGAHIT           Multiple k-mer De Bruijn graph Metagenomic   32021766.0 [32021766;32021766]   \n",
       "MetaHipMer2       Multiple k-mer De Bruijn graph Metagenomic     1600962.67 [1599587;1601911]   \n",
       "metaSPAdes        Multiple k-mer De Bruijn graph Metagenomic   31967753.0 [31967753;31967753]   \n",
       "MINIA             Single k-mer De Bruijn graph   Genomic       28277982.0 [28276538;28279162]   \n",
       "SKESA             Multiple k-mer De Bruijn graph Genomic       30211740.0 [30211740;30211740]   \n",
       "SPAdes            Multiple k-mer De Bruijn graph Genomic       32500826.0 [32500826;32500826]   \n",
       "Unicycler         Multiple k-mer De Bruijn graph Genomic       30432114.0 [30432114;30432114]   \n",
       "VelvetOptimiser   Multiple k-mer De Bruijn graph Metagenomic            28831.0 [13883;55137]   \n",
       "\n",
       "                                                                 filtered_contigs  \\\n",
       "Assembler         Algorithm                      Type                               \n",
       "ABySS             Single k-mer De Bruijn graph   Genomic          800.33 [0;1205]   \n",
       "BCALM2            Single k-mer De Bruijn graph   Genomic                0.0 [0;0]   \n",
       "GATBMiniaPipeline Multiple k-mer De Bruijn graph Metagenomic      761.0 [761;761]   \n",
       "IDBA-UD           Multiple k-mer De Bruijn graph Metagenomic   2654.0 [2654;2654]   \n",
       "MEGAHIT           Multiple k-mer De Bruijn graph Metagenomic   1447.0 [1447;1447]   \n",
       "MetaHipMer2       Multiple k-mer De Bruijn graph Metagenomic   1309.0 [1308;1310]   \n",
       "metaSPAdes        Multiple k-mer De Bruijn graph Metagenomic   1689.0 [1689;1689]   \n",
       "MINIA             Single k-mer De Bruijn graph   Genomic      3980.33 [3978;3983]   \n",
       "SKESA             Multiple k-mer De Bruijn graph Genomic          846.0 [846;846]   \n",
       "SPAdes            Multiple k-mer De Bruijn graph Genomic       2049.0 [2049;2049]   \n",
       "Unicycler         Multiple k-mer De Bruijn graph Genomic          425.0 [425;425]   \n",
       "VelvetOptimiser   Multiple k-mer De Bruijn graph Metagenomic        25.67 [13;48]   \n",
       "\n",
       "                                                             filtered_mapped_reads  \\\n",
       "Assembler         Algorithm                      Type                                \n",
       "ABySS             Single k-mer De Bruijn graph   Genomic              53.74 [0;80]   \n",
       "BCALM2            Single k-mer De Bruijn graph   Genomic                 0.0 [0;0]   \n",
       "GATBMiniaPipeline Multiple k-mer De Bruijn graph Metagenomic         82.23 [82;82]   \n",
       "IDBA-UD           Multiple k-mer De Bruijn graph Metagenomic         81.31 [81;81]   \n",
       "MEGAHIT           Multiple k-mer De Bruijn graph Metagenomic         82.83 [82;82]   \n",
       "MetaHipMer2       Multiple k-mer De Bruijn graph Metagenomic            3.96 [3;3]   \n",
       "metaSPAdes        Multiple k-mer De Bruijn graph Metagenomic         82.04 [82;82]   \n",
       "MINIA             Single k-mer De Bruijn graph   Genomic             74.36 [74;74]   \n",
       "SKESA             Multiple k-mer De Bruijn graph Genomic             80.51 [80;80]   \n",
       "SPAdes            Multiple k-mer De Bruijn graph Genomic             81.17 [81;81]   \n",
       "Unicycler         Multiple k-mer De Bruijn graph Genomic              81.6 [81;81]   \n",
       "VelvetOptimiser   Multiple k-mer De Bruijn graph Metagenomic             0.0 [0;0]   \n",
       "\n",
       "                                                                          filtered_n50  \\\n",
       "Assembler         Algorithm                      Type                                    \n",
       "ABySS             Single k-mer De Bruijn graph   Genomic             35189.0 [0;52869]   \n",
       "BCALM2            Single k-mer De Bruijn graph   Genomic                     0.0 [0;0]   \n",
       "GATBMiniaPipeline Multiple k-mer De Bruijn graph Metagenomic  113162.0 [113162;113162]   \n",
       "IDBA-UD           Multiple k-mer De Bruijn graph Metagenomic     29134.0 [29134;29134]   \n",
       "MEGAHIT           Multiple k-mer De Bruijn graph Metagenomic  149841.0 [149841;149841]   \n",
       "MetaHipMer2       Multiple k-mer De Bruijn graph Metagenomic        1176.0 [1175;1178]   \n",
       "metaSPAdes        Multiple k-mer De Bruijn graph Metagenomic     95101.0 [95101;95101]   \n",
       "MINIA             Single k-mer De Bruijn graph   Genomic        15886.33 [15817;15930]   \n",
       "SKESA             Multiple k-mer De Bruijn graph Genomic         77870.0 [77870;77870]   \n",
       "SPAdes            Multiple k-mer De Bruijn graph Genomic         99299.0 [99299;99299]   \n",
       "Unicycler         Multiple k-mer De Bruijn graph Genomic      191424.0 [191424;191424]   \n",
       "VelvetOptimiser   Multiple k-mer De Bruijn graph Metagenomic       1089.33 [1039;1116]   \n",
       "\n",
       "                                                               mapped_reads  \\\n",
       "Assembler         Algorithm                      Type                         \n",
       "ABySS             Single k-mer De Bruijn graph   Genomic       56.42 [0;84]   \n",
       "BCALM2            Single k-mer De Bruijn graph   Genomic         8.15 [8;8]   \n",
       "GATBMiniaPipeline Multiple k-mer De Bruijn graph Metagenomic  83.14 [83;83]   \n",
       "IDBA-UD           Multiple k-mer De Bruijn graph Metagenomic  83.67 [83;83]   \n",
       "MEGAHIT           Multiple k-mer De Bruijn graph Metagenomic  84.22 [84;84]   \n",
       "MetaHipMer2       Multiple k-mer De Bruijn graph Metagenomic   25.5 [25;25]   \n",
       "metaSPAdes        Multiple k-mer De Bruijn graph Metagenomic  84.33 [84;84]   \n",
       "MINIA             Single k-mer De Bruijn graph   Genomic      80.65 [80;80]   \n",
       "SKESA             Multiple k-mer De Bruijn graph Genomic      81.25 [81;81]   \n",
       "SPAdes            Multiple k-mer De Bruijn graph Genomic       84.2 [84;84]   \n",
       "Unicycler         Multiple k-mer De Bruijn graph Genomic      82.31 [82;82]   \n",
       "VelvetOptimiser   Multiple k-mer De Bruijn graph Metagenomic     2.51 [1;3]   \n",
       "\n",
       "                                                                               max_contig  \\\n",
       "Assembler         Algorithm                      Type                                       \n",
       "ABySS             Single k-mer De Bruijn graph   Genomic              198658.0 [0;298093]   \n",
       "BCALM2            Single k-mer De Bruijn graph   Genomic                  994.0 [994;994]   \n",
       "GATBMiniaPipeline Multiple k-mer De Bruijn graph Metagenomic     768462.0 [768462;768462]   \n",
       "IDBA-UD           Multiple k-mer De Bruijn graph Metagenomic     303329.0 [303329;303329]   \n",
       "MEGAHIT           Multiple k-mer De Bruijn graph Metagenomic  1205839.0 [1205839;1205839]   \n",
       "MetaHipMer2       Multiple k-mer De Bruijn graph Metagenomic           2964.0 [2964;2964]   \n",
       "metaSPAdes        Multiple k-mer De Bruijn graph Metagenomic     473277.0 [473277;473277]   \n",
       "MINIA             Single k-mer De Bruijn graph   Genomic         117945.0 [117945;117945]   \n",
       "SKESA             Multiple k-mer De Bruijn graph Genomic         446163.0 [446163;446163]   \n",
       "SPAdes            Multiple k-mer De Bruijn graph Genomic         745370.0 [745370;745370]   \n",
       "Unicycler         Multiple k-mer De Bruijn graph Genomic         882182.0 [882182;882182]   \n",
       "VelvetOptimiser   Multiple k-mer De Bruijn graph Metagenomic           1384.0 [1157;1702]   \n",
       "\n",
       "                                                             misassembled contigs  \\\n",
       "Assembler         Algorithm                      Type                               \n",
       "ABySS             Single k-mer De Bruijn graph   Genomic               1.33 [0;2]   \n",
       "BCALM2            Single k-mer De Bruijn graph   Genomic                0.0 [0;0]   \n",
       "GATBMiniaPipeline Multiple k-mer De Bruijn graph Metagenomic            1.0 [1;1]   \n",
       "IDBA-UD           Multiple k-mer De Bruijn graph Metagenomic            4.0 [4;4]   \n",
       "MEGAHIT           Multiple k-mer De Bruijn graph Metagenomic         15.0 [15;15]   \n",
       "MetaHipMer2       Multiple k-mer De Bruijn graph Metagenomic            0.0 [0;0]   \n",
       "metaSPAdes        Multiple k-mer De Bruijn graph Metagenomic            2.0 [2;2]   \n",
       "MINIA             Single k-mer De Bruijn graph   Genomic                0.0 [0;0]   \n",
       "SKESA             Multiple k-mer De Bruijn graph Genomic                0.0 [0;0]   \n",
       "SPAdes            Multiple k-mer De Bruijn graph Genomic                9.0 [9;9]   \n",
       "Unicycler         Multiple k-mer De Bruijn graph Genomic                2.0 [2;2]   \n",
       "VelvetOptimiser   Multiple k-mer De Bruijn graph Metagenomic            0.0 [0;0]   \n",
       "\n",
       "                                                             misassembly events  \\\n",
       "Assembler         Algorithm                      Type                             \n",
       "ABySS             Single k-mer De Bruijn graph   Genomic             3.33 [0;6]   \n",
       "BCALM2            Single k-mer De Bruijn graph   Genomic              0.0 [0;0]   \n",
       "GATBMiniaPipeline Multiple k-mer De Bruijn graph Metagenomic          2.0 [2;2]   \n",
       "IDBA-UD           Multiple k-mer De Bruijn graph Metagenomic          7.0 [7;7]   \n",
       "MEGAHIT           Multiple k-mer De Bruijn graph Metagenomic      31.67 [31;32]   \n",
       "MetaHipMer2       Multiple k-mer De Bruijn graph Metagenomic          0.0 [0;0]   \n",
       "metaSPAdes        Multiple k-mer De Bruijn graph Metagenomic          3.0 [3;3]   \n",
       "MINIA             Single k-mer De Bruijn graph   Genomic              0.0 [0;0]   \n",
       "SKESA             Multiple k-mer De Bruijn graph Genomic              0.0 [0;0]   \n",
       "SPAdes            Multiple k-mer De Bruijn graph Genomic           18.0 [18;18]   \n",
       "Unicycler         Multiple k-mer De Bruijn graph Genomic              4.0 [4;4]   \n",
       "VelvetOptimiser   Multiple k-mer De Bruijn graph Metagenomic          0.0 [0;0]   \n",
       "\n",
       "                                                                                   n50  \n",
       "Assembler         Algorithm                      Type                                   \n",
       "ABySS             Single k-mer De Bruijn graph   Genomic                 92.67 [0;139]  \n",
       "BCALM2            Single k-mer De Bruijn graph   Genomic                  49.0 [49;49]  \n",
       "GATBMiniaPipeline Multiple k-mer De Bruijn graph Metagenomic  102115.0 [102115;102115]  \n",
       "IDBA-UD           Multiple k-mer De Bruijn graph Metagenomic     20993.0 [20993;20993]  \n",
       "MEGAHIT           Multiple k-mer De Bruijn graph Metagenomic     88308.0 [88308;88308]  \n",
       "MetaHipMer2       Multiple k-mer De Bruijn graph Metagenomic          658.67 [658;659]  \n",
       "metaSPAdes        Multiple k-mer De Bruijn graph Metagenomic     42332.0 [42332;42332]  \n",
       "MINIA             Single k-mer De Bruijn graph   Genomic           7090.67 [7060;7106]  \n",
       "SKESA             Multiple k-mer De Bruijn graph Genomic         76924.0 [76924;76924]  \n",
       "SPAdes            Multiple k-mer De Bruijn graph Genomic         53292.0 [53292;53292]  \n",
       "Unicycler         Multiple k-mer De Bruijn graph Genomic      191424.0 [191424;191424]  \n",
       "VelvetOptimiser   Multiple k-mer De Bruijn graph Metagenomic             88.67 [85;93]  "
      ]
     },
     "metadata": {},
     "output_type": "display_data"
    },
    {
     "data": {
      "text/html": [
       "<div>\n",
       "<style scoped>\n",
       "    .dataframe tbody tr th:only-of-type {\n",
       "        vertical-align: middle;\n",
       "    }\n",
       "\n",
       "    .dataframe tbody tr th {\n",
       "        vertical-align: top;\n",
       "    }\n",
       "\n",
       "    .dataframe thead th {\n",
       "        text-align: right;\n",
       "    }\n",
       "</style>\n",
       "<table border=\"1\" class=\"dataframe\">\n",
       "  <thead>\n",
       "    <tr style=\"text-align: right;\">\n",
       "      <th></th>\n",
       "      <th>Ns</th>\n",
       "      <th>basepairs</th>\n",
       "      <th>contigs</th>\n",
       "      <th>filtered_Ns</th>\n",
       "      <th>filtered_basepairs</th>\n",
       "      <th>filtered_contigs</th>\n",
       "      <th>filtered_mapped_reads</th>\n",
       "      <th>filtered_n50</th>\n",
       "      <th>mapped_reads</th>\n",
       "      <th>max_contig</th>\n",
       "      <th>misassembled contigs</th>\n",
       "      <th>misassembly events</th>\n",
       "      <th>n50</th>\n",
       "    </tr>\n",
       "    <tr>\n",
       "      <th>Assembler</th>\n",
       "      <th></th>\n",
       "      <th></th>\n",
       "      <th></th>\n",
       "      <th></th>\n",
       "      <th></th>\n",
       "      <th></th>\n",
       "      <th></th>\n",
       "      <th></th>\n",
       "      <th></th>\n",
       "      <th></th>\n",
       "      <th></th>\n",
       "      <th></th>\n",
       "      <th></th>\n",
       "    </tr>\n",
       "  </thead>\n",
       "  <tbody>\n",
       "    <tr>\n",
       "      <th>ABySS</th>\n",
       "      <td>0.0</td>\n",
       "      <td>91720949.0</td>\n",
       "      <td>0.0</td>\n",
       "      <td>0.0</td>\n",
       "      <td>30657287.0</td>\n",
       "      <td>0.0</td>\n",
       "      <td>80.631071</td>\n",
       "      <td>52869.0</td>\n",
       "      <td>84.624746</td>\n",
       "      <td>298093.0</td>\n",
       "      <td>0.0</td>\n",
       "      <td>0.0</td>\n",
       "      <td>139.0</td>\n",
       "    </tr>\n",
       "    <tr>\n",
       "      <th>BCALM2</th>\n",
       "      <td>0.0</td>\n",
       "      <td>170402348.0</td>\n",
       "      <td>3508016.0</td>\n",
       "      <td>0.0</td>\n",
       "      <td>0.0</td>\n",
       "      <td>0.0</td>\n",
       "      <td>0.000000</td>\n",
       "      <td>0.0</td>\n",
       "      <td>8.149572</td>\n",
       "      <td>994.0</td>\n",
       "      <td>0.0</td>\n",
       "      <td>0.0</td>\n",
       "      <td>49.0</td>\n",
       "    </tr>\n",
       "    <tr>\n",
       "      <th>GATBMiniaPipeline</th>\n",
       "      <td>0.0</td>\n",
       "      <td>32810830.0</td>\n",
       "      <td>5397.0</td>\n",
       "      <td>0.0</td>\n",
       "      <td>30564396.0</td>\n",
       "      <td>761.0</td>\n",
       "      <td>82.225440</td>\n",
       "      <td>113162.0</td>\n",
       "      <td>83.144413</td>\n",
       "      <td>768462.0</td>\n",
       "      <td>1.0</td>\n",
       "      <td>2.0</td>\n",
       "      <td>102115.0</td>\n",
       "    </tr>\n",
       "    <tr>\n",
       "      <th>IDBA-UD</th>\n",
       "      <td>0.0</td>\n",
       "      <td>39779384.0</td>\n",
       "      <td>20164.0</td>\n",
       "      <td>0.0</td>\n",
       "      <td>31562690.0</td>\n",
       "      <td>2654.0</td>\n",
       "      <td>81.309318</td>\n",
       "      <td>29134.0</td>\n",
       "      <td>83.671484</td>\n",
       "      <td>303329.0</td>\n",
       "      <td>4.0</td>\n",
       "      <td>7.0</td>\n",
       "      <td>20993.0</td>\n",
       "    </tr>\n",
       "    <tr>\n",
       "      <th>MEGAHIT</th>\n",
       "      <td>0.0</td>\n",
       "      <td>41166407.0</td>\n",
       "      <td>20614.0</td>\n",
       "      <td>0.0</td>\n",
       "      <td>32021766.0</td>\n",
       "      <td>1447.0</td>\n",
       "      <td>82.834929</td>\n",
       "      <td>149841.0</td>\n",
       "      <td>84.223732</td>\n",
       "      <td>1205839.0</td>\n",
       "      <td>15.0</td>\n",
       "      <td>31.0</td>\n",
       "      <td>88308.0</td>\n",
       "    </tr>\n",
       "    <tr>\n",
       "      <th>MetaHipMer2</th>\n",
       "      <td>0.0</td>\n",
       "      <td>13184199.0</td>\n",
       "      <td>19351.0</td>\n",
       "      <td>0.0</td>\n",
       "      <td>1601911.0</td>\n",
       "      <td>1308.0</td>\n",
       "      <td>3.970853</td>\n",
       "      <td>1178.0</td>\n",
       "      <td>25.512982</td>\n",
       "      <td>2964.0</td>\n",
       "      <td>0.0</td>\n",
       "      <td>0.0</td>\n",
       "      <td>659.0</td>\n",
       "    </tr>\n",
       "    <tr>\n",
       "      <th>metaSPAdes</th>\n",
       "      <td>0.0</td>\n",
       "      <td>48964620.0</td>\n",
       "      <td>61644.0</td>\n",
       "      <td>0.0</td>\n",
       "      <td>31967753.0</td>\n",
       "      <td>1689.0</td>\n",
       "      <td>82.040817</td>\n",
       "      <td>95101.0</td>\n",
       "      <td>84.326108</td>\n",
       "      <td>473277.0</td>\n",
       "      <td>2.0</td>\n",
       "      <td>3.0</td>\n",
       "      <td>42332.0</td>\n",
       "    </tr>\n",
       "    <tr>\n",
       "      <th>MINIA</th>\n",
       "      <td>0.0</td>\n",
       "      <td>41187744.0</td>\n",
       "      <td>67974.0</td>\n",
       "      <td>0.0</td>\n",
       "      <td>28279162.0</td>\n",
       "      <td>3978.0</td>\n",
       "      <td>74.366709</td>\n",
       "      <td>15930.0</td>\n",
       "      <td>80.648560</td>\n",
       "      <td>117945.0</td>\n",
       "      <td>0.0</td>\n",
       "      <td>0.0</td>\n",
       "      <td>7106.0</td>\n",
       "    </tr>\n",
       "    <tr>\n",
       "      <th>SKESA</th>\n",
       "      <td>0.0</td>\n",
       "      <td>30430077.0</td>\n",
       "      <td>1352.0</td>\n",
       "      <td>0.0</td>\n",
       "      <td>30211740.0</td>\n",
       "      <td>846.0</td>\n",
       "      <td>80.508554</td>\n",
       "      <td>77870.0</td>\n",
       "      <td>81.254167</td>\n",
       "      <td>446163.0</td>\n",
       "      <td>0.0</td>\n",
       "      <td>0.0</td>\n",
       "      <td>76924.0</td>\n",
       "    </tr>\n",
       "    <tr>\n",
       "      <th>SPAdes</th>\n",
       "      <td>0.0</td>\n",
       "      <td>46535940.0</td>\n",
       "      <td>39819.0</td>\n",
       "      <td>0.0</td>\n",
       "      <td>32500826.0</td>\n",
       "      <td>2049.0</td>\n",
       "      <td>81.169518</td>\n",
       "      <td>99299.0</td>\n",
       "      <td>84.204433</td>\n",
       "      <td>745370.0</td>\n",
       "      <td>9.0</td>\n",
       "      <td>18.0</td>\n",
       "      <td>53292.0</td>\n",
       "    </tr>\n",
       "    <tr>\n",
       "      <th>Unicycler</th>\n",
       "      <td>0.0</td>\n",
       "      <td>30592960.0</td>\n",
       "      <td>895.0</td>\n",
       "      <td>0.0</td>\n",
       "      <td>30432114.0</td>\n",
       "      <td>425.0</td>\n",
       "      <td>81.598094</td>\n",
       "      <td>191424.0</td>\n",
       "      <td>82.313680</td>\n",
       "      <td>882182.0</td>\n",
       "      <td>2.0</td>\n",
       "      <td>4.0</td>\n",
       "      <td>191424.0</td>\n",
       "    </tr>\n",
       "    <tr>\n",
       "      <th>VelvetOptimiser</th>\n",
       "      <td>105.0</td>\n",
       "      <td>57130377.0</td>\n",
       "      <td>539817.0</td>\n",
       "      <td>0.0</td>\n",
       "      <td>55137.0</td>\n",
       "      <td>13.0</td>\n",
       "      <td>0.007438</td>\n",
       "      <td>1116.0</td>\n",
       "      <td>3.124390</td>\n",
       "      <td>1702.0</td>\n",
       "      <td>0.0</td>\n",
       "      <td>0.0</td>\n",
       "      <td>93.0</td>\n",
       "    </tr>\n",
       "  </tbody>\n",
       "</table>\n",
       "</div>"
      ],
      "text/plain": [
       "                      Ns    basepairs    contigs  filtered_Ns  \\\n",
       "Assembler                                                       \n",
       "ABySS                0.0   91720949.0        0.0          0.0   \n",
       "BCALM2               0.0  170402348.0  3508016.0          0.0   \n",
       "GATBMiniaPipeline    0.0   32810830.0     5397.0          0.0   \n",
       "IDBA-UD              0.0   39779384.0    20164.0          0.0   \n",
       "MEGAHIT              0.0   41166407.0    20614.0          0.0   \n",
       "MetaHipMer2          0.0   13184199.0    19351.0          0.0   \n",
       "metaSPAdes           0.0   48964620.0    61644.0          0.0   \n",
       "MINIA                0.0   41187744.0    67974.0          0.0   \n",
       "SKESA                0.0   30430077.0     1352.0          0.0   \n",
       "SPAdes               0.0   46535940.0    39819.0          0.0   \n",
       "Unicycler            0.0   30592960.0      895.0          0.0   \n",
       "VelvetOptimiser    105.0   57130377.0   539817.0          0.0   \n",
       "\n",
       "                   filtered_basepairs  filtered_contigs  \\\n",
       "Assembler                                                 \n",
       "ABySS                      30657287.0               0.0   \n",
       "BCALM2                            0.0               0.0   \n",
       "GATBMiniaPipeline          30564396.0             761.0   \n",
       "IDBA-UD                    31562690.0            2654.0   \n",
       "MEGAHIT                    32021766.0            1447.0   \n",
       "MetaHipMer2                 1601911.0            1308.0   \n",
       "metaSPAdes                 31967753.0            1689.0   \n",
       "MINIA                      28279162.0            3978.0   \n",
       "SKESA                      30211740.0             846.0   \n",
       "SPAdes                     32500826.0            2049.0   \n",
       "Unicycler                  30432114.0             425.0   \n",
       "VelvetOptimiser               55137.0              13.0   \n",
       "\n",
       "                   filtered_mapped_reads  filtered_n50  mapped_reads  \\\n",
       "Assembler                                                              \n",
       "ABySS                          80.631071       52869.0     84.624746   \n",
       "BCALM2                          0.000000           0.0      8.149572   \n",
       "GATBMiniaPipeline              82.225440      113162.0     83.144413   \n",
       "IDBA-UD                        81.309318       29134.0     83.671484   \n",
       "MEGAHIT                        82.834929      149841.0     84.223732   \n",
       "MetaHipMer2                     3.970853        1178.0     25.512982   \n",
       "metaSPAdes                     82.040817       95101.0     84.326108   \n",
       "MINIA                          74.366709       15930.0     80.648560   \n",
       "SKESA                          80.508554       77870.0     81.254167   \n",
       "SPAdes                         81.169518       99299.0     84.204433   \n",
       "Unicycler                      81.598094      191424.0     82.313680   \n",
       "VelvetOptimiser                 0.007438        1116.0      3.124390   \n",
       "\n",
       "                   max_contig  misassembled contigs  misassembly events  \\\n",
       "Assembler                                                                 \n",
       "ABySS                298093.0                   0.0                 0.0   \n",
       "BCALM2                  994.0                   0.0                 0.0   \n",
       "GATBMiniaPipeline    768462.0                   1.0                 2.0   \n",
       "IDBA-UD              303329.0                   4.0                 7.0   \n",
       "MEGAHIT             1205839.0                  15.0                31.0   \n",
       "MetaHipMer2            2964.0                   0.0                 0.0   \n",
       "metaSPAdes           473277.0                   2.0                 3.0   \n",
       "MINIA                117945.0                   0.0                 0.0   \n",
       "SKESA                446163.0                   0.0                 0.0   \n",
       "SPAdes               745370.0                   9.0                18.0   \n",
       "Unicycler            882182.0                   2.0                 4.0   \n",
       "VelvetOptimiser        1702.0                   0.0                 0.0   \n",
       "\n",
       "                        n50  \n",
       "Assembler                    \n",
       "ABySS                 139.0  \n",
       "BCALM2                 49.0  \n",
       "GATBMiniaPipeline  102115.0  \n",
       "IDBA-UD             20993.0  \n",
       "MEGAHIT             88308.0  \n",
       "MetaHipMer2           659.0  \n",
       "metaSPAdes          42332.0  \n",
       "MINIA                7106.0  \n",
       "SKESA               76924.0  \n",
       "SPAdes              53292.0  \n",
       "Unicycler          191424.0  \n",
       "VelvetOptimiser        93.0  "
      ]
     },
     "metadata": {},
     "output_type": "display_data"
    },
    {
     "name": "stdout",
     "output_type": "stream",
     "text": [
      "ENN\n"
     ]
    },
    {
     "data": {
      "text/html": [
       "<div>\n",
       "<style scoped>\n",
       "    .dataframe tbody tr th:only-of-type {\n",
       "        vertical-align: middle;\n",
       "    }\n",
       "\n",
       "    .dataframe tbody tr th {\n",
       "        vertical-align: top;\n",
       "    }\n",
       "\n",
       "    .dataframe thead th {\n",
       "        text-align: right;\n",
       "    }\n",
       "</style>\n",
       "<table border=\"1\" class=\"dataframe\">\n",
       "  <thead>\n",
       "    <tr style=\"text-align: right;\">\n",
       "      <th></th>\n",
       "      <th></th>\n",
       "      <th></th>\n",
       "      <th>Ns</th>\n",
       "      <th>basepairs</th>\n",
       "      <th>contigs</th>\n",
       "      <th>filtered_Ns</th>\n",
       "      <th>filtered_basepairs</th>\n",
       "      <th>filtered_contigs</th>\n",
       "      <th>filtered_mapped_reads</th>\n",
       "      <th>filtered_n50</th>\n",
       "      <th>mapped_reads</th>\n",
       "      <th>max_contig</th>\n",
       "      <th>misassembled contigs</th>\n",
       "      <th>misassembly events</th>\n",
       "      <th>n50</th>\n",
       "    </tr>\n",
       "    <tr>\n",
       "      <th>Assembler</th>\n",
       "      <th>Algorithm</th>\n",
       "      <th>Type</th>\n",
       "      <th></th>\n",
       "      <th></th>\n",
       "      <th></th>\n",
       "      <th></th>\n",
       "      <th></th>\n",
       "      <th></th>\n",
       "      <th></th>\n",
       "      <th></th>\n",
       "      <th></th>\n",
       "      <th></th>\n",
       "      <th></th>\n",
       "      <th></th>\n",
       "      <th></th>\n",
       "    </tr>\n",
       "  </thead>\n",
       "  <tbody>\n",
       "    <tr>\n",
       "      <th>ABySS</th>\n",
       "      <th>Single k-mer De Bruijn graph</th>\n",
       "      <th>Genomic</th>\n",
       "      <td>3881.0 [3879;3884]</td>\n",
       "      <td>31510320.33 [31503127;31513997]</td>\n",
       "      <td>4772.33 [4769;4778]</td>\n",
       "      <td>2328.0 [2328;2328]</td>\n",
       "      <td>30742562.33 [30734590;30746773]</td>\n",
       "      <td>1823.33 [1822;1825]</td>\n",
       "      <td>98.92 [98;98]</td>\n",
       "      <td>89282.0 [89282;89282]</td>\n",
       "      <td>99.79 [99;99]</td>\n",
       "      <td>952617.33 [952616;952618]</td>\n",
       "      <td>7.33 [7;8]</td>\n",
       "      <td>12.67 [12;14]</td>\n",
       "      <td>86573.0 [86573;86573]</td>\n",
       "    </tr>\n",
       "    <tr>\n",
       "      <th>BCALM2</th>\n",
       "      <th>Single k-mer De Bruijn graph</th>\n",
       "      <th>Genomic</th>\n",
       "      <td>0.0 [0;0]</td>\n",
       "      <td>31047581.0 [31047581;31047581]</td>\n",
       "      <td>25377.0 [25377;25377]</td>\n",
       "      <td>0.0 [0;0]</td>\n",
       "      <td>28174748.0 [28174748;28174748]</td>\n",
       "      <td>3575.0 [3575;3575]</td>\n",
       "      <td>92.59 [92;92]</td>\n",
       "      <td>20700.0 [20700;20700]</td>\n",
       "      <td>96.52 [96;96]</td>\n",
       "      <td>161812.0 [161812;161812]</td>\n",
       "      <td>0.0 [0;0]</td>\n",
       "      <td>0.0 [0;0]</td>\n",
       "      <td>17395.0 [17395;17395]</td>\n",
       "    </tr>\n",
       "    <tr>\n",
       "      <th>GATBMiniaPipeline</th>\n",
       "      <th>Multiple k-mer De Bruijn graph</th>\n",
       "      <th>Metagenomic</th>\n",
       "      <td>0.0 [0;0]</td>\n",
       "      <td>30440762.0 [30440762;30440762]</td>\n",
       "      <td>1100.0 [1100;1100]</td>\n",
       "      <td>0.0 [0;0]</td>\n",
       "      <td>30273320.0 [30273320;30273320]</td>\n",
       "      <td>814.0 [814;814]</td>\n",
       "      <td>98.46 [98;98]</td>\n",
       "      <td>90988.0 [90988;90988]</td>\n",
       "      <td>99.34 [99;99]</td>\n",
       "      <td>632215.0 [632215;632215]</td>\n",
       "      <td>3.0 [3;3]</td>\n",
       "      <td>6.0 [6;6]</td>\n",
       "      <td>90346.0 [90346;90346]</td>\n",
       "    </tr>\n",
       "    <tr>\n",
       "      <th>IDBA-UD</th>\n",
       "      <th>Multiple k-mer De Bruijn graph</th>\n",
       "      <th>Metagenomic</th>\n",
       "      <td>0.0 [0;0]</td>\n",
       "      <td>30390566.0 [30390566;30390566]</td>\n",
       "      <td>1822.0 [1822;1822]</td>\n",
       "      <td>0.0 [0;0]</td>\n",
       "      <td>30130413.0 [30130413;30130413]</td>\n",
       "      <td>1279.0 [1279;1279]</td>\n",
       "      <td>97.92 [97;97]</td>\n",
       "      <td>65108.0 [65108;65108]</td>\n",
       "      <td>99.34 [99;99]</td>\n",
       "      <td>585610.0 [585610;585610]</td>\n",
       "      <td>17.33 [17;18]</td>\n",
       "      <td>34.67 [34;36]</td>\n",
       "      <td>63725.0 [63725;63725]</td>\n",
       "    </tr>\n",
       "    <tr>\n",
       "      <th>MEGAHIT</th>\n",
       "      <th>Multiple k-mer De Bruijn graph</th>\n",
       "      <th>Metagenomic</th>\n",
       "      <td>0.0 [0;0]</td>\n",
       "      <td>30545419.0 [30545419;30545419]</td>\n",
       "      <td>814.0 [814;814]</td>\n",
       "      <td>0.0 [0;0]</td>\n",
       "      <td>30420265.0 [30420265;30420265]</td>\n",
       "      <td>525.0 [525;525]</td>\n",
       "      <td>99.39 [99;99]</td>\n",
       "      <td>179870.0 [179870;179870]</td>\n",
       "      <td>99.69 [99;99]</td>\n",
       "      <td>632274.0 [632274;632274]</td>\n",
       "      <td>9.0 [9;9]</td>\n",
       "      <td>18.0 [18;18]</td>\n",
       "      <td>178381.0 [178381;178381]</td>\n",
       "    </tr>\n",
       "    <tr>\n",
       "      <th>MetaHipMer2</th>\n",
       "      <th>Multiple k-mer De Bruijn graph</th>\n",
       "      <th>Metagenomic</th>\n",
       "      <td>0.0 [0;0]</td>\n",
       "      <td>30378682.33 [30378611;30378729]</td>\n",
       "      <td>882.67 [882;883]</td>\n",
       "      <td>0.0 [0;0]</td>\n",
       "      <td>30264906.33 [30264835;30264953]</td>\n",
       "      <td>718.67 [718;719]</td>\n",
       "      <td>97.95 [97;97]</td>\n",
       "      <td>102049.0 [102049;102049]</td>\n",
       "      <td>98.73 [98;98]</td>\n",
       "      <td>468359.0 [468359;468359]</td>\n",
       "      <td>0.0 [0;0]</td>\n",
       "      <td>0.0 [0;0]</td>\n",
       "      <td>99990.0 [99990;99990]</td>\n",
       "    </tr>\n",
       "    <tr>\n",
       "      <th>metaSPAdes</th>\n",
       "      <th>Multiple k-mer De Bruijn graph</th>\n",
       "      <th>Metagenomic</th>\n",
       "      <td>0.0 [0;0]</td>\n",
       "      <td>30453778.0 [30453778;30453778]</td>\n",
       "      <td>640.0 [640;640]</td>\n",
       "      <td>0.0 [0;0]</td>\n",
       "      <td>30383186.0 [30383186;30383186]</td>\n",
       "      <td>359.0 [359;359]</td>\n",
       "      <td>98.92 [98;98]</td>\n",
       "      <td>238611.0 [238611;238611]</td>\n",
       "      <td>99.53 [99;99]</td>\n",
       "      <td>1036942.0 [1036942;1036942]</td>\n",
       "      <td>2.0 [2;2]</td>\n",
       "      <td>6.0 [6;6]</td>\n",
       "      <td>238611.0 [238611;238611]</td>\n",
       "    </tr>\n",
       "    <tr>\n",
       "      <th>MINIA</th>\n",
       "      <th>Single k-mer De Bruijn graph</th>\n",
       "      <th>Genomic</th>\n",
       "      <td>0.0 [0;0]</td>\n",
       "      <td>30641342.33 [30641333;30641357]</td>\n",
       "      <td>16570.0 [16570;16570]</td>\n",
       "      <td>0.0 [0;0]</td>\n",
       "      <td>28205937.67 [28205937;28205939]</td>\n",
       "      <td>3589.0 [3589;3589]</td>\n",
       "      <td>92.93 [92;92]</td>\n",
       "      <td>20628.0 [20628;20628]</td>\n",
       "      <td>97.19 [97;97]</td>\n",
       "      <td>161812.0 [161812;161812]</td>\n",
       "      <td>0.0 [0;0]</td>\n",
       "      <td>0.0 [0;0]</td>\n",
       "      <td>17820.0 [17820;17820]</td>\n",
       "    </tr>\n",
       "    <tr>\n",
       "      <th>SKESA</th>\n",
       "      <th>Multiple k-mer De Bruijn graph</th>\n",
       "      <th>Genomic</th>\n",
       "      <td>0.0 [0;0]</td>\n",
       "      <td>30110758.0 [30110758;30110758]</td>\n",
       "      <td>2322.0 [2322;2322]</td>\n",
       "      <td>0.0 [0;0]</td>\n",
       "      <td>29835112.0 [29835112;29835112]</td>\n",
       "      <td>1726.0 [1726;1726]</td>\n",
       "      <td>97.42 [97;97]</td>\n",
       "      <td>43168.0 [43168;43168]</td>\n",
       "      <td>98.31 [98;98]</td>\n",
       "      <td>630384.0 [630384;630384]</td>\n",
       "      <td>10.0 [10;10]</td>\n",
       "      <td>19.0 [19;19]</td>\n",
       "      <td>42115.0 [42115;42115]</td>\n",
       "    </tr>\n",
       "    <tr>\n",
       "      <th>SPAdes</th>\n",
       "      <th>Multiple k-mer De Bruijn graph</th>\n",
       "      <th>Genomic</th>\n",
       "      <td>0.0 [0;0]</td>\n",
       "      <td>30442718.0 [30442718;30442718]</td>\n",
       "      <td>1140.0 [1140;1140]</td>\n",
       "      <td>0.0 [0;0]</td>\n",
       "      <td>30276227.0 [30276227;30276227]</td>\n",
       "      <td>444.0 [444;444]</td>\n",
       "      <td>98.56 [98;98]</td>\n",
       "      <td>204481.0 [204481;204481]</td>\n",
       "      <td>99.42 [99;99]</td>\n",
       "      <td>850138.0 [850138;850138]</td>\n",
       "      <td>3.0 [3;3]</td>\n",
       "      <td>6.0 [6;6]</td>\n",
       "      <td>204481.0 [204481;204481]</td>\n",
       "    </tr>\n",
       "    <tr>\n",
       "      <th>Unicycler</th>\n",
       "      <th>Multiple k-mer De Bruijn graph</th>\n",
       "      <th>Genomic</th>\n",
       "      <td>0.0 [0;0]</td>\n",
       "      <td>30263458.0 [30263458;30263458]</td>\n",
       "      <td>936.0 [936;936]</td>\n",
       "      <td>0.0 [0;0]</td>\n",
       "      <td>30093081.0 [30093081;30093081]</td>\n",
       "      <td>443.0 [443;443]</td>\n",
       "      <td>97.93 [97;97]</td>\n",
       "      <td>208953.0 [208953;208953]</td>\n",
       "      <td>99.09 [99;99]</td>\n",
       "      <td>847534.0 [847534;847534]</td>\n",
       "      <td>0.0 [0;0]</td>\n",
       "      <td>0.0 [0;0]</td>\n",
       "      <td>204463.0 [204463;204463]</td>\n",
       "    </tr>\n",
       "    <tr>\n",
       "      <th>VelvetOptimiser</th>\n",
       "      <th>Multiple k-mer De Bruijn graph</th>\n",
       "      <th>Metagenomic</th>\n",
       "      <td>8788.0 [8788;8788]</td>\n",
       "      <td>30526881.0 [30526881;30526881]</td>\n",
       "      <td>10924.0 [10924;10924]</td>\n",
       "      <td>8283.0 [8283;8283]</td>\n",
       "      <td>28485306.0 [28485306;28485306]</td>\n",
       "      <td>2994.0 [2994;2994]</td>\n",
       "      <td>93.1 [93;93]</td>\n",
       "      <td>34664.0 [34664;34664]</td>\n",
       "      <td>97.13 [97;97]</td>\n",
       "      <td>847809.0 [847809;847809]</td>\n",
       "      <td>8.0 [8;8]</td>\n",
       "      <td>11.0 [11;11]</td>\n",
       "      <td>30453.0 [30453;30453]</td>\n",
       "    </tr>\n",
       "  </tbody>\n",
       "</table>\n",
       "</div>"
      ],
      "text/plain": [
       "                                                                              Ns  \\\n",
       "Assembler         Algorithm                      Type                              \n",
       "ABySS             Single k-mer De Bruijn graph   Genomic      3881.0 [3879;3884]   \n",
       "BCALM2            Single k-mer De Bruijn graph   Genomic               0.0 [0;0]   \n",
       "GATBMiniaPipeline Multiple k-mer De Bruijn graph Metagenomic           0.0 [0;0]   \n",
       "IDBA-UD           Multiple k-mer De Bruijn graph Metagenomic           0.0 [0;0]   \n",
       "MEGAHIT           Multiple k-mer De Bruijn graph Metagenomic           0.0 [0;0]   \n",
       "MetaHipMer2       Multiple k-mer De Bruijn graph Metagenomic           0.0 [0;0]   \n",
       "metaSPAdes        Multiple k-mer De Bruijn graph Metagenomic           0.0 [0;0]   \n",
       "MINIA             Single k-mer De Bruijn graph   Genomic               0.0 [0;0]   \n",
       "SKESA             Multiple k-mer De Bruijn graph Genomic               0.0 [0;0]   \n",
       "SPAdes            Multiple k-mer De Bruijn graph Genomic               0.0 [0;0]   \n",
       "Unicycler         Multiple k-mer De Bruijn graph Genomic               0.0 [0;0]   \n",
       "VelvetOptimiser   Multiple k-mer De Bruijn graph Metagenomic  8788.0 [8788;8788]   \n",
       "\n",
       "                                                                                    basepairs  \\\n",
       "Assembler         Algorithm                      Type                                           \n",
       "ABySS             Single k-mer De Bruijn graph   Genomic      31510320.33 [31503127;31513997]   \n",
       "BCALM2            Single k-mer De Bruijn graph   Genomic       31047581.0 [31047581;31047581]   \n",
       "GATBMiniaPipeline Multiple k-mer De Bruijn graph Metagenomic   30440762.0 [30440762;30440762]   \n",
       "IDBA-UD           Multiple k-mer De Bruijn graph Metagenomic   30390566.0 [30390566;30390566]   \n",
       "MEGAHIT           Multiple k-mer De Bruijn graph Metagenomic   30545419.0 [30545419;30545419]   \n",
       "MetaHipMer2       Multiple k-mer De Bruijn graph Metagenomic  30378682.33 [30378611;30378729]   \n",
       "metaSPAdes        Multiple k-mer De Bruijn graph Metagenomic   30453778.0 [30453778;30453778]   \n",
       "MINIA             Single k-mer De Bruijn graph   Genomic      30641342.33 [30641333;30641357]   \n",
       "SKESA             Multiple k-mer De Bruijn graph Genomic       30110758.0 [30110758;30110758]   \n",
       "SPAdes            Multiple k-mer De Bruijn graph Genomic       30442718.0 [30442718;30442718]   \n",
       "Unicycler         Multiple k-mer De Bruijn graph Genomic       30263458.0 [30263458;30263458]   \n",
       "VelvetOptimiser   Multiple k-mer De Bruijn graph Metagenomic   30526881.0 [30526881;30526881]   \n",
       "\n",
       "                                                                            contigs  \\\n",
       "Assembler         Algorithm                      Type                                 \n",
       "ABySS             Single k-mer De Bruijn graph   Genomic        4772.33 [4769;4778]   \n",
       "BCALM2            Single k-mer De Bruijn graph   Genomic      25377.0 [25377;25377]   \n",
       "GATBMiniaPipeline Multiple k-mer De Bruijn graph Metagenomic     1100.0 [1100;1100]   \n",
       "IDBA-UD           Multiple k-mer De Bruijn graph Metagenomic     1822.0 [1822;1822]   \n",
       "MEGAHIT           Multiple k-mer De Bruijn graph Metagenomic        814.0 [814;814]   \n",
       "MetaHipMer2       Multiple k-mer De Bruijn graph Metagenomic       882.67 [882;883]   \n",
       "metaSPAdes        Multiple k-mer De Bruijn graph Metagenomic        640.0 [640;640]   \n",
       "MINIA             Single k-mer De Bruijn graph   Genomic      16570.0 [16570;16570]   \n",
       "SKESA             Multiple k-mer De Bruijn graph Genomic         2322.0 [2322;2322]   \n",
       "SPAdes            Multiple k-mer De Bruijn graph Genomic         1140.0 [1140;1140]   \n",
       "Unicycler         Multiple k-mer De Bruijn graph Genomic            936.0 [936;936]   \n",
       "VelvetOptimiser   Multiple k-mer De Bruijn graph Metagenomic  10924.0 [10924;10924]   \n",
       "\n",
       "                                                                     filtered_Ns  \\\n",
       "Assembler         Algorithm                      Type                              \n",
       "ABySS             Single k-mer De Bruijn graph   Genomic      2328.0 [2328;2328]   \n",
       "BCALM2            Single k-mer De Bruijn graph   Genomic               0.0 [0;0]   \n",
       "GATBMiniaPipeline Multiple k-mer De Bruijn graph Metagenomic           0.0 [0;0]   \n",
       "IDBA-UD           Multiple k-mer De Bruijn graph Metagenomic           0.0 [0;0]   \n",
       "MEGAHIT           Multiple k-mer De Bruijn graph Metagenomic           0.0 [0;0]   \n",
       "MetaHipMer2       Multiple k-mer De Bruijn graph Metagenomic           0.0 [0;0]   \n",
       "metaSPAdes        Multiple k-mer De Bruijn graph Metagenomic           0.0 [0;0]   \n",
       "MINIA             Single k-mer De Bruijn graph   Genomic               0.0 [0;0]   \n",
       "SKESA             Multiple k-mer De Bruijn graph Genomic               0.0 [0;0]   \n",
       "SPAdes            Multiple k-mer De Bruijn graph Genomic               0.0 [0;0]   \n",
       "Unicycler         Multiple k-mer De Bruijn graph Genomic               0.0 [0;0]   \n",
       "VelvetOptimiser   Multiple k-mer De Bruijn graph Metagenomic  8283.0 [8283;8283]   \n",
       "\n",
       "                                                                           filtered_basepairs  \\\n",
       "Assembler         Algorithm                      Type                                           \n",
       "ABySS             Single k-mer De Bruijn graph   Genomic      30742562.33 [30734590;30746773]   \n",
       "BCALM2            Single k-mer De Bruijn graph   Genomic       28174748.0 [28174748;28174748]   \n",
       "GATBMiniaPipeline Multiple k-mer De Bruijn graph Metagenomic   30273320.0 [30273320;30273320]   \n",
       "IDBA-UD           Multiple k-mer De Bruijn graph Metagenomic   30130413.0 [30130413;30130413]   \n",
       "MEGAHIT           Multiple k-mer De Bruijn graph Metagenomic   30420265.0 [30420265;30420265]   \n",
       "MetaHipMer2       Multiple k-mer De Bruijn graph Metagenomic  30264906.33 [30264835;30264953]   \n",
       "metaSPAdes        Multiple k-mer De Bruijn graph Metagenomic   30383186.0 [30383186;30383186]   \n",
       "MINIA             Single k-mer De Bruijn graph   Genomic      28205937.67 [28205937;28205939]   \n",
       "SKESA             Multiple k-mer De Bruijn graph Genomic       29835112.0 [29835112;29835112]   \n",
       "SPAdes            Multiple k-mer De Bruijn graph Genomic       30276227.0 [30276227;30276227]   \n",
       "Unicycler         Multiple k-mer De Bruijn graph Genomic       30093081.0 [30093081;30093081]   \n",
       "VelvetOptimiser   Multiple k-mer De Bruijn graph Metagenomic   28485306.0 [28485306;28485306]   \n",
       "\n",
       "                                                                 filtered_contigs  \\\n",
       "Assembler         Algorithm                      Type                               \n",
       "ABySS             Single k-mer De Bruijn graph   Genomic      1823.33 [1822;1825]   \n",
       "BCALM2            Single k-mer De Bruijn graph   Genomic       3575.0 [3575;3575]   \n",
       "GATBMiniaPipeline Multiple k-mer De Bruijn graph Metagenomic      814.0 [814;814]   \n",
       "IDBA-UD           Multiple k-mer De Bruijn graph Metagenomic   1279.0 [1279;1279]   \n",
       "MEGAHIT           Multiple k-mer De Bruijn graph Metagenomic      525.0 [525;525]   \n",
       "MetaHipMer2       Multiple k-mer De Bruijn graph Metagenomic     718.67 [718;719]   \n",
       "metaSPAdes        Multiple k-mer De Bruijn graph Metagenomic      359.0 [359;359]   \n",
       "MINIA             Single k-mer De Bruijn graph   Genomic       3589.0 [3589;3589]   \n",
       "SKESA             Multiple k-mer De Bruijn graph Genomic       1726.0 [1726;1726]   \n",
       "SPAdes            Multiple k-mer De Bruijn graph Genomic          444.0 [444;444]   \n",
       "Unicycler         Multiple k-mer De Bruijn graph Genomic          443.0 [443;443]   \n",
       "VelvetOptimiser   Multiple k-mer De Bruijn graph Metagenomic   2994.0 [2994;2994]   \n",
       "\n",
       "                                                             filtered_mapped_reads  \\\n",
       "Assembler         Algorithm                      Type                                \n",
       "ABySS             Single k-mer De Bruijn graph   Genomic             98.92 [98;98]   \n",
       "BCALM2            Single k-mer De Bruijn graph   Genomic             92.59 [92;92]   \n",
       "GATBMiniaPipeline Multiple k-mer De Bruijn graph Metagenomic         98.46 [98;98]   \n",
       "IDBA-UD           Multiple k-mer De Bruijn graph Metagenomic         97.92 [97;97]   \n",
       "MEGAHIT           Multiple k-mer De Bruijn graph Metagenomic         99.39 [99;99]   \n",
       "MetaHipMer2       Multiple k-mer De Bruijn graph Metagenomic         97.95 [97;97]   \n",
       "metaSPAdes        Multiple k-mer De Bruijn graph Metagenomic         98.92 [98;98]   \n",
       "MINIA             Single k-mer De Bruijn graph   Genomic             92.93 [92;92]   \n",
       "SKESA             Multiple k-mer De Bruijn graph Genomic             97.42 [97;97]   \n",
       "SPAdes            Multiple k-mer De Bruijn graph Genomic             98.56 [98;98]   \n",
       "Unicycler         Multiple k-mer De Bruijn graph Genomic             97.93 [97;97]   \n",
       "VelvetOptimiser   Multiple k-mer De Bruijn graph Metagenomic          93.1 [93;93]   \n",
       "\n",
       "                                                                          filtered_n50  \\\n",
       "Assembler         Algorithm                      Type                                    \n",
       "ABySS             Single k-mer De Bruijn graph   Genomic         89282.0 [89282;89282]   \n",
       "BCALM2            Single k-mer De Bruijn graph   Genomic         20700.0 [20700;20700]   \n",
       "GATBMiniaPipeline Multiple k-mer De Bruijn graph Metagenomic     90988.0 [90988;90988]   \n",
       "IDBA-UD           Multiple k-mer De Bruijn graph Metagenomic     65108.0 [65108;65108]   \n",
       "MEGAHIT           Multiple k-mer De Bruijn graph Metagenomic  179870.0 [179870;179870]   \n",
       "MetaHipMer2       Multiple k-mer De Bruijn graph Metagenomic  102049.0 [102049;102049]   \n",
       "metaSPAdes        Multiple k-mer De Bruijn graph Metagenomic  238611.0 [238611;238611]   \n",
       "MINIA             Single k-mer De Bruijn graph   Genomic         20628.0 [20628;20628]   \n",
       "SKESA             Multiple k-mer De Bruijn graph Genomic         43168.0 [43168;43168]   \n",
       "SPAdes            Multiple k-mer De Bruijn graph Genomic      204481.0 [204481;204481]   \n",
       "Unicycler         Multiple k-mer De Bruijn graph Genomic      208953.0 [208953;208953]   \n",
       "VelvetOptimiser   Multiple k-mer De Bruijn graph Metagenomic     34664.0 [34664;34664]   \n",
       "\n",
       "                                                               mapped_reads  \\\n",
       "Assembler         Algorithm                      Type                         \n",
       "ABySS             Single k-mer De Bruijn graph   Genomic      99.79 [99;99]   \n",
       "BCALM2            Single k-mer De Bruijn graph   Genomic      96.52 [96;96]   \n",
       "GATBMiniaPipeline Multiple k-mer De Bruijn graph Metagenomic  99.34 [99;99]   \n",
       "IDBA-UD           Multiple k-mer De Bruijn graph Metagenomic  99.34 [99;99]   \n",
       "MEGAHIT           Multiple k-mer De Bruijn graph Metagenomic  99.69 [99;99]   \n",
       "MetaHipMer2       Multiple k-mer De Bruijn graph Metagenomic  98.73 [98;98]   \n",
       "metaSPAdes        Multiple k-mer De Bruijn graph Metagenomic  99.53 [99;99]   \n",
       "MINIA             Single k-mer De Bruijn graph   Genomic      97.19 [97;97]   \n",
       "SKESA             Multiple k-mer De Bruijn graph Genomic      98.31 [98;98]   \n",
       "SPAdes            Multiple k-mer De Bruijn graph Genomic      99.42 [99;99]   \n",
       "Unicycler         Multiple k-mer De Bruijn graph Genomic      99.09 [99;99]   \n",
       "VelvetOptimiser   Multiple k-mer De Bruijn graph Metagenomic  97.13 [97;97]   \n",
       "\n",
       "                                                                               max_contig  \\\n",
       "Assembler         Algorithm                      Type                                       \n",
       "ABySS             Single k-mer De Bruijn graph   Genomic        952617.33 [952616;952618]   \n",
       "BCALM2            Single k-mer De Bruijn graph   Genomic         161812.0 [161812;161812]   \n",
       "GATBMiniaPipeline Multiple k-mer De Bruijn graph Metagenomic     632215.0 [632215;632215]   \n",
       "IDBA-UD           Multiple k-mer De Bruijn graph Metagenomic     585610.0 [585610;585610]   \n",
       "MEGAHIT           Multiple k-mer De Bruijn graph Metagenomic     632274.0 [632274;632274]   \n",
       "MetaHipMer2       Multiple k-mer De Bruijn graph Metagenomic     468359.0 [468359;468359]   \n",
       "metaSPAdes        Multiple k-mer De Bruijn graph Metagenomic  1036942.0 [1036942;1036942]   \n",
       "MINIA             Single k-mer De Bruijn graph   Genomic         161812.0 [161812;161812]   \n",
       "SKESA             Multiple k-mer De Bruijn graph Genomic         630384.0 [630384;630384]   \n",
       "SPAdes            Multiple k-mer De Bruijn graph Genomic         850138.0 [850138;850138]   \n",
       "Unicycler         Multiple k-mer De Bruijn graph Genomic         847534.0 [847534;847534]   \n",
       "VelvetOptimiser   Multiple k-mer De Bruijn graph Metagenomic     847809.0 [847809;847809]   \n",
       "\n",
       "                                                             misassembled contigs  \\\n",
       "Assembler         Algorithm                      Type                               \n",
       "ABySS             Single k-mer De Bruijn graph   Genomic               7.33 [7;8]   \n",
       "BCALM2            Single k-mer De Bruijn graph   Genomic                0.0 [0;0]   \n",
       "GATBMiniaPipeline Multiple k-mer De Bruijn graph Metagenomic            3.0 [3;3]   \n",
       "IDBA-UD           Multiple k-mer De Bruijn graph Metagenomic        17.33 [17;18]   \n",
       "MEGAHIT           Multiple k-mer De Bruijn graph Metagenomic            9.0 [9;9]   \n",
       "MetaHipMer2       Multiple k-mer De Bruijn graph Metagenomic            0.0 [0;0]   \n",
       "metaSPAdes        Multiple k-mer De Bruijn graph Metagenomic            2.0 [2;2]   \n",
       "MINIA             Single k-mer De Bruijn graph   Genomic                0.0 [0;0]   \n",
       "SKESA             Multiple k-mer De Bruijn graph Genomic             10.0 [10;10]   \n",
       "SPAdes            Multiple k-mer De Bruijn graph Genomic                3.0 [3;3]   \n",
       "Unicycler         Multiple k-mer De Bruijn graph Genomic                0.0 [0;0]   \n",
       "VelvetOptimiser   Multiple k-mer De Bruijn graph Metagenomic            8.0 [8;8]   \n",
       "\n",
       "                                                             misassembly events  \\\n",
       "Assembler         Algorithm                      Type                             \n",
       "ABySS             Single k-mer De Bruijn graph   Genomic          12.67 [12;14]   \n",
       "BCALM2            Single k-mer De Bruijn graph   Genomic              0.0 [0;0]   \n",
       "GATBMiniaPipeline Multiple k-mer De Bruijn graph Metagenomic          6.0 [6;6]   \n",
       "IDBA-UD           Multiple k-mer De Bruijn graph Metagenomic      34.67 [34;36]   \n",
       "MEGAHIT           Multiple k-mer De Bruijn graph Metagenomic       18.0 [18;18]   \n",
       "MetaHipMer2       Multiple k-mer De Bruijn graph Metagenomic          0.0 [0;0]   \n",
       "metaSPAdes        Multiple k-mer De Bruijn graph Metagenomic          6.0 [6;6]   \n",
       "MINIA             Single k-mer De Bruijn graph   Genomic              0.0 [0;0]   \n",
       "SKESA             Multiple k-mer De Bruijn graph Genomic           19.0 [19;19]   \n",
       "SPAdes            Multiple k-mer De Bruijn graph Genomic              6.0 [6;6]   \n",
       "Unicycler         Multiple k-mer De Bruijn graph Genomic              0.0 [0;0]   \n",
       "VelvetOptimiser   Multiple k-mer De Bruijn graph Metagenomic       11.0 [11;11]   \n",
       "\n",
       "                                                                                   n50  \n",
       "Assembler         Algorithm                      Type                                   \n",
       "ABySS             Single k-mer De Bruijn graph   Genomic         86573.0 [86573;86573]  \n",
       "BCALM2            Single k-mer De Bruijn graph   Genomic         17395.0 [17395;17395]  \n",
       "GATBMiniaPipeline Multiple k-mer De Bruijn graph Metagenomic     90346.0 [90346;90346]  \n",
       "IDBA-UD           Multiple k-mer De Bruijn graph Metagenomic     63725.0 [63725;63725]  \n",
       "MEGAHIT           Multiple k-mer De Bruijn graph Metagenomic  178381.0 [178381;178381]  \n",
       "MetaHipMer2       Multiple k-mer De Bruijn graph Metagenomic     99990.0 [99990;99990]  \n",
       "metaSPAdes        Multiple k-mer De Bruijn graph Metagenomic  238611.0 [238611;238611]  \n",
       "MINIA             Single k-mer De Bruijn graph   Genomic         17820.0 [17820;17820]  \n",
       "SKESA             Multiple k-mer De Bruijn graph Genomic         42115.0 [42115;42115]  \n",
       "SPAdes            Multiple k-mer De Bruijn graph Genomic      204481.0 [204481;204481]  \n",
       "Unicycler         Multiple k-mer De Bruijn graph Genomic      204463.0 [204463;204463]  \n",
       "VelvetOptimiser   Multiple k-mer De Bruijn graph Metagenomic     30453.0 [30453;30453]  "
      ]
     },
     "metadata": {},
     "output_type": "display_data"
    },
    {
     "data": {
      "text/html": [
       "<div>\n",
       "<style scoped>\n",
       "    .dataframe tbody tr th:only-of-type {\n",
       "        vertical-align: middle;\n",
       "    }\n",
       "\n",
       "    .dataframe tbody tr th {\n",
       "        vertical-align: top;\n",
       "    }\n",
       "\n",
       "    .dataframe thead th {\n",
       "        text-align: right;\n",
       "    }\n",
       "</style>\n",
       "<table border=\"1\" class=\"dataframe\">\n",
       "  <thead>\n",
       "    <tr style=\"text-align: right;\">\n",
       "      <th></th>\n",
       "      <th>Ns</th>\n",
       "      <th>basepairs</th>\n",
       "      <th>contigs</th>\n",
       "      <th>filtered_Ns</th>\n",
       "      <th>filtered_basepairs</th>\n",
       "      <th>filtered_contigs</th>\n",
       "      <th>filtered_mapped_reads</th>\n",
       "      <th>filtered_n50</th>\n",
       "      <th>mapped_reads</th>\n",
       "      <th>max_contig</th>\n",
       "      <th>misassembled contigs</th>\n",
       "      <th>misassembly events</th>\n",
       "      <th>n50</th>\n",
       "    </tr>\n",
       "    <tr>\n",
       "      <th>Assembler</th>\n",
       "      <th></th>\n",
       "      <th></th>\n",
       "      <th></th>\n",
       "      <th></th>\n",
       "      <th></th>\n",
       "      <th></th>\n",
       "      <th></th>\n",
       "      <th></th>\n",
       "      <th></th>\n",
       "      <th></th>\n",
       "      <th></th>\n",
       "      <th></th>\n",
       "      <th></th>\n",
       "    </tr>\n",
       "  </thead>\n",
       "  <tbody>\n",
       "    <tr>\n",
       "      <th>ABySS</th>\n",
       "      <td>3879.0</td>\n",
       "      <td>31513997.0</td>\n",
       "      <td>4769.0</td>\n",
       "      <td>2328.0</td>\n",
       "      <td>30746773.0</td>\n",
       "      <td>1822.0</td>\n",
       "      <td>98.923812</td>\n",
       "      <td>89282.0</td>\n",
       "      <td>99.787690</td>\n",
       "      <td>952618.0</td>\n",
       "      <td>7.0</td>\n",
       "      <td>12.0</td>\n",
       "      <td>86573.0</td>\n",
       "    </tr>\n",
       "    <tr>\n",
       "      <th>BCALM2</th>\n",
       "      <td>0.0</td>\n",
       "      <td>31047581.0</td>\n",
       "      <td>25377.0</td>\n",
       "      <td>0.0</td>\n",
       "      <td>28174748.0</td>\n",
       "      <td>3575.0</td>\n",
       "      <td>92.594028</td>\n",
       "      <td>20700.0</td>\n",
       "      <td>96.523967</td>\n",
       "      <td>161812.0</td>\n",
       "      <td>0.0</td>\n",
       "      <td>0.0</td>\n",
       "      <td>17395.0</td>\n",
       "    </tr>\n",
       "    <tr>\n",
       "      <th>GATBMiniaPipeline</th>\n",
       "      <td>0.0</td>\n",
       "      <td>30440762.0</td>\n",
       "      <td>1100.0</td>\n",
       "      <td>0.0</td>\n",
       "      <td>30273320.0</td>\n",
       "      <td>814.0</td>\n",
       "      <td>98.462815</td>\n",
       "      <td>90988.0</td>\n",
       "      <td>99.340345</td>\n",
       "      <td>632215.0</td>\n",
       "      <td>3.0</td>\n",
       "      <td>6.0</td>\n",
       "      <td>90346.0</td>\n",
       "    </tr>\n",
       "    <tr>\n",
       "      <th>IDBA-UD</th>\n",
       "      <td>0.0</td>\n",
       "      <td>30390566.0</td>\n",
       "      <td>1822.0</td>\n",
       "      <td>0.0</td>\n",
       "      <td>30130413.0</td>\n",
       "      <td>1279.0</td>\n",
       "      <td>97.922883</td>\n",
       "      <td>65108.0</td>\n",
       "      <td>99.343697</td>\n",
       "      <td>585610.0</td>\n",
       "      <td>17.0</td>\n",
       "      <td>34.0</td>\n",
       "      <td>63725.0</td>\n",
       "    </tr>\n",
       "    <tr>\n",
       "      <th>MEGAHIT</th>\n",
       "      <td>0.0</td>\n",
       "      <td>30545419.0</td>\n",
       "      <td>814.0</td>\n",
       "      <td>0.0</td>\n",
       "      <td>30420265.0</td>\n",
       "      <td>525.0</td>\n",
       "      <td>99.388110</td>\n",
       "      <td>179870.0</td>\n",
       "      <td>99.693845</td>\n",
       "      <td>632274.0</td>\n",
       "      <td>9.0</td>\n",
       "      <td>18.0</td>\n",
       "      <td>178381.0</td>\n",
       "    </tr>\n",
       "    <tr>\n",
       "      <th>MetaHipMer2</th>\n",
       "      <td>0.0</td>\n",
       "      <td>30378729.0</td>\n",
       "      <td>882.0</td>\n",
       "      <td>0.0</td>\n",
       "      <td>30264953.0</td>\n",
       "      <td>718.0</td>\n",
       "      <td>97.946876</td>\n",
       "      <td>102049.0</td>\n",
       "      <td>98.726583</td>\n",
       "      <td>468359.0</td>\n",
       "      <td>0.0</td>\n",
       "      <td>0.0</td>\n",
       "      <td>99990.0</td>\n",
       "    </tr>\n",
       "    <tr>\n",
       "      <th>metaSPAdes</th>\n",
       "      <td>0.0</td>\n",
       "      <td>30453778.0</td>\n",
       "      <td>640.0</td>\n",
       "      <td>0.0</td>\n",
       "      <td>30383186.0</td>\n",
       "      <td>359.0</td>\n",
       "      <td>98.917250</td>\n",
       "      <td>238611.0</td>\n",
       "      <td>99.530051</td>\n",
       "      <td>1036942.0</td>\n",
       "      <td>2.0</td>\n",
       "      <td>6.0</td>\n",
       "      <td>238611.0</td>\n",
       "    </tr>\n",
       "    <tr>\n",
       "      <th>MINIA</th>\n",
       "      <td>0.0</td>\n",
       "      <td>30641357.0</td>\n",
       "      <td>16570.0</td>\n",
       "      <td>0.0</td>\n",
       "      <td>28205939.0</td>\n",
       "      <td>3589.0</td>\n",
       "      <td>92.933709</td>\n",
       "      <td>20628.0</td>\n",
       "      <td>97.188180</td>\n",
       "      <td>161812.0</td>\n",
       "      <td>0.0</td>\n",
       "      <td>0.0</td>\n",
       "      <td>17820.0</td>\n",
       "    </tr>\n",
       "    <tr>\n",
       "      <th>SKESA</th>\n",
       "      <td>0.0</td>\n",
       "      <td>30110758.0</td>\n",
       "      <td>2322.0</td>\n",
       "      <td>0.0</td>\n",
       "      <td>29835112.0</td>\n",
       "      <td>1726.0</td>\n",
       "      <td>97.424467</td>\n",
       "      <td>43168.0</td>\n",
       "      <td>98.313391</td>\n",
       "      <td>630384.0</td>\n",
       "      <td>10.0</td>\n",
       "      <td>19.0</td>\n",
       "      <td>42115.0</td>\n",
       "    </tr>\n",
       "    <tr>\n",
       "      <th>SPAdes</th>\n",
       "      <td>0.0</td>\n",
       "      <td>30442718.0</td>\n",
       "      <td>1140.0</td>\n",
       "      <td>0.0</td>\n",
       "      <td>30276227.0</td>\n",
       "      <td>444.0</td>\n",
       "      <td>98.561253</td>\n",
       "      <td>204481.0</td>\n",
       "      <td>99.419440</td>\n",
       "      <td>850138.0</td>\n",
       "      <td>3.0</td>\n",
       "      <td>6.0</td>\n",
       "      <td>204481.0</td>\n",
       "    </tr>\n",
       "    <tr>\n",
       "      <th>Unicycler</th>\n",
       "      <td>0.0</td>\n",
       "      <td>30263458.0</td>\n",
       "      <td>936.0</td>\n",
       "      <td>0.0</td>\n",
       "      <td>30093081.0</td>\n",
       "      <td>443.0</td>\n",
       "      <td>97.932888</td>\n",
       "      <td>208953.0</td>\n",
       "      <td>99.088192</td>\n",
       "      <td>847534.0</td>\n",
       "      <td>0.0</td>\n",
       "      <td>0.0</td>\n",
       "      <td>204463.0</td>\n",
       "    </tr>\n",
       "    <tr>\n",
       "      <th>VelvetOptimiser</th>\n",
       "      <td>8788.0</td>\n",
       "      <td>30526881.0</td>\n",
       "      <td>10924.0</td>\n",
       "      <td>8283.0</td>\n",
       "      <td>28485306.0</td>\n",
       "      <td>2994.0</td>\n",
       "      <td>93.100975</td>\n",
       "      <td>34664.0</td>\n",
       "      <td>97.125317</td>\n",
       "      <td>847809.0</td>\n",
       "      <td>8.0</td>\n",
       "      <td>11.0</td>\n",
       "      <td>30453.0</td>\n",
       "    </tr>\n",
       "  </tbody>\n",
       "</table>\n",
       "</div>"
      ],
      "text/plain": [
       "                       Ns   basepairs  contigs  filtered_Ns  \\\n",
       "Assembler                                                     \n",
       "ABySS              3879.0  31513997.0   4769.0       2328.0   \n",
       "BCALM2                0.0  31047581.0  25377.0          0.0   \n",
       "GATBMiniaPipeline     0.0  30440762.0   1100.0          0.0   \n",
       "IDBA-UD               0.0  30390566.0   1822.0          0.0   \n",
       "MEGAHIT               0.0  30545419.0    814.0          0.0   \n",
       "MetaHipMer2           0.0  30378729.0    882.0          0.0   \n",
       "metaSPAdes            0.0  30453778.0    640.0          0.0   \n",
       "MINIA                 0.0  30641357.0  16570.0          0.0   \n",
       "SKESA                 0.0  30110758.0   2322.0          0.0   \n",
       "SPAdes                0.0  30442718.0   1140.0          0.0   \n",
       "Unicycler             0.0  30263458.0    936.0          0.0   \n",
       "VelvetOptimiser    8788.0  30526881.0  10924.0       8283.0   \n",
       "\n",
       "                   filtered_basepairs  filtered_contigs  \\\n",
       "Assembler                                                 \n",
       "ABySS                      30746773.0            1822.0   \n",
       "BCALM2                     28174748.0            3575.0   \n",
       "GATBMiniaPipeline          30273320.0             814.0   \n",
       "IDBA-UD                    30130413.0            1279.0   \n",
       "MEGAHIT                    30420265.0             525.0   \n",
       "MetaHipMer2                30264953.0             718.0   \n",
       "metaSPAdes                 30383186.0             359.0   \n",
       "MINIA                      28205939.0            3589.0   \n",
       "SKESA                      29835112.0            1726.0   \n",
       "SPAdes                     30276227.0             444.0   \n",
       "Unicycler                  30093081.0             443.0   \n",
       "VelvetOptimiser            28485306.0            2994.0   \n",
       "\n",
       "                   filtered_mapped_reads  filtered_n50  mapped_reads  \\\n",
       "Assembler                                                              \n",
       "ABySS                          98.923812       89282.0     99.787690   \n",
       "BCALM2                         92.594028       20700.0     96.523967   \n",
       "GATBMiniaPipeline              98.462815       90988.0     99.340345   \n",
       "IDBA-UD                        97.922883       65108.0     99.343697   \n",
       "MEGAHIT                        99.388110      179870.0     99.693845   \n",
       "MetaHipMer2                    97.946876      102049.0     98.726583   \n",
       "metaSPAdes                     98.917250      238611.0     99.530051   \n",
       "MINIA                          92.933709       20628.0     97.188180   \n",
       "SKESA                          97.424467       43168.0     98.313391   \n",
       "SPAdes                         98.561253      204481.0     99.419440   \n",
       "Unicycler                      97.932888      208953.0     99.088192   \n",
       "VelvetOptimiser                93.100975       34664.0     97.125317   \n",
       "\n",
       "                   max_contig  misassembled contigs  misassembly events  \\\n",
       "Assembler                                                                 \n",
       "ABySS                952618.0                   7.0                12.0   \n",
       "BCALM2               161812.0                   0.0                 0.0   \n",
       "GATBMiniaPipeline    632215.0                   3.0                 6.0   \n",
       "IDBA-UD              585610.0                  17.0                34.0   \n",
       "MEGAHIT              632274.0                   9.0                18.0   \n",
       "MetaHipMer2          468359.0                   0.0                 0.0   \n",
       "metaSPAdes          1036942.0                   2.0                 6.0   \n",
       "MINIA                161812.0                   0.0                 0.0   \n",
       "SKESA                630384.0                  10.0                19.0   \n",
       "SPAdes               850138.0                   3.0                 6.0   \n",
       "Unicycler            847534.0                   0.0                 0.0   \n",
       "VelvetOptimiser      847809.0                   8.0                11.0   \n",
       "\n",
       "                        n50  \n",
       "Assembler                    \n",
       "ABySS               86573.0  \n",
       "BCALM2              17395.0  \n",
       "GATBMiniaPipeline   90346.0  \n",
       "IDBA-UD             63725.0  \n",
       "MEGAHIT            178381.0  \n",
       "MetaHipMer2         99990.0  \n",
       "metaSPAdes         238611.0  \n",
       "MINIA               17820.0  \n",
       "SKESA               42115.0  \n",
       "SPAdes             204481.0  \n",
       "Unicycler          204463.0  \n",
       "VelvetOptimiser     30453.0  "
      ]
     },
     "metadata": {},
     "output_type": "display_data"
    }
   ],
   "source": [
    "best_stats_dfs = []\n",
    "\n",
    "for sample in global_pipeline_metrics_df['sample'].unique():\n",
    "    print(sample)\n",
    "    stats_per_assembler = pd.DataFrame()\n",
    "    best_stats_per_assembler = pd.DataFrame()\n",
    "    for assembler in global_pipeline_metrics_df['assembler'].unique():\n",
    "        \n",
    "        row = {'Assembler': assembler, \n",
    "             'Type':global_pipeline_metrics_df[global_pipeline_metrics_df.assembler == assembler].type.unique()[0],\n",
    "             'Algorithm': global_pipeline_metrics_df[global_pipeline_metrics_df.assembler == assembler].algorythm.unique()[0]}\n",
    "        \n",
    "        best_row = {'Assembler': assembler}\n",
    "        \n",
    "        describe_df = global_pipeline_metrics_df[(global_pipeline_metrics_df['assembler'] == assembler) & (global_pipeline_metrics_df['sample'] == sample)].describe()\n",
    "\n",
    "        for column in describe_df.columns:\n",
    "            mean = describe_df.loc['mean',column]\n",
    "            minimum = describe_df.loc['min',column]\n",
    "            maximum = describe_df.loc['max',column]\n",
    "            \n",
    "            row[column] = \"{} [{};{}]\".format(round(mean, 2), int(minimum), int(maximum))\n",
    "            \n",
    "            if column in best_min:\n",
    "                best_row[column] = minimum\n",
    "            else:\n",
    "                best_row[column] = maximum\n",
    "                \n",
    "        stats_per_assembler=stats_per_assembler.append(row, ignore_index=True)\n",
    "        best_stats_per_assembler=best_stats_per_assembler.append(best_row, ignore_index=True)\n",
    "    \n",
    "    stats_per_assembler = stats_per_assembler.set_index(['Assembler','Algorithm', 'Type'])\n",
    "    best_stats_per_assembler = best_stats_per_assembler.set_index('Assembler')\n",
    "    display(stats_per_assembler)\n",
    "    display(best_stats_per_assembler)\n",
    "    stats_per_assembler.to_csv(\"Tables/Results/Global metrics per assembler - {}.csv\".format(sample))\n",
    "    best_stats_per_assembler.to_csv(\"Tables/Results/Best Global metrics per assembler - {}.csv\".format(sample))\n",
    "    best_stats_dfs.append([sample, best_stats_per_assembler])"
   ]
  },
  {
   "cell_type": "markdown",
   "metadata": {},
   "source": [
    "#### rank"
   ]
  },
  {
   "cell_type": "code",
   "execution_count": 204,
   "metadata": {
    "scrolled": false
   },
   "outputs": [
    {
     "name": "stdout",
     "output_type": "stream",
     "text": [
      "LNN\n"
     ]
    },
    {
     "data": {
      "text/html": [
       "<div>\n",
       "<style scoped>\n",
       "    .dataframe tbody tr th:only-of-type {\n",
       "        vertical-align: middle;\n",
       "    }\n",
       "\n",
       "    .dataframe tbody tr th {\n",
       "        vertical-align: top;\n",
       "    }\n",
       "\n",
       "    .dataframe thead th {\n",
       "        text-align: right;\n",
       "    }\n",
       "</style>\n",
       "<table border=\"1\" class=\"dataframe\">\n",
       "  <thead>\n",
       "    <tr style=\"text-align: right;\">\n",
       "      <th></th>\n",
       "      <th>Ns</th>\n",
       "      <th>basepairs</th>\n",
       "      <th>contigs</th>\n",
       "      <th>filtered_Ns</th>\n",
       "      <th>filtered_basepairs</th>\n",
       "      <th>filtered_contigs</th>\n",
       "      <th>filtered_mapped_reads</th>\n",
       "      <th>filtered_n50</th>\n",
       "      <th>mapped_reads</th>\n",
       "      <th>max_contig</th>\n",
       "      <th>misassembled contigs</th>\n",
       "      <th>misassembly events</th>\n",
       "      <th>n50</th>\n",
       "    </tr>\n",
       "    <tr>\n",
       "      <th>Assembler</th>\n",
       "      <th></th>\n",
       "      <th></th>\n",
       "      <th></th>\n",
       "      <th></th>\n",
       "      <th></th>\n",
       "      <th></th>\n",
       "      <th></th>\n",
       "      <th></th>\n",
       "      <th></th>\n",
       "      <th></th>\n",
       "      <th></th>\n",
       "      <th></th>\n",
       "      <th></th>\n",
       "    </tr>\n",
       "  </thead>\n",
       "  <tbody>\n",
       "    <tr>\n",
       "      <th>ABySS</th>\n",
       "      <td>11</td>\n",
       "      <td>12</td>\n",
       "      <td>11</td>\n",
       "      <td>12</td>\n",
       "      <td>6</td>\n",
       "      <td>11</td>\n",
       "      <td>5</td>\n",
       "      <td>5</td>\n",
       "      <td>1</td>\n",
       "      <td>2</td>\n",
       "      <td>1</td>\n",
       "      <td>1</td>\n",
       "      <td>10</td>\n",
       "    </tr>\n",
       "    <tr>\n",
       "      <th>BCALM2</th>\n",
       "      <td>1</td>\n",
       "      <td>10</td>\n",
       "      <td>12</td>\n",
       "      <td>1</td>\n",
       "      <td>4</td>\n",
       "      <td>10</td>\n",
       "      <td>10</td>\n",
       "      <td>10</td>\n",
       "      <td>10</td>\n",
       "      <td>10</td>\n",
       "      <td>1</td>\n",
       "      <td>1</td>\n",
       "      <td>9</td>\n",
       "    </tr>\n",
       "    <tr>\n",
       "      <th>GATBMiniaPipeline</th>\n",
       "      <td>1</td>\n",
       "      <td>4</td>\n",
       "      <td>3</td>\n",
       "      <td>1</td>\n",
       "      <td>9</td>\n",
       "      <td>6</td>\n",
       "      <td>6</td>\n",
       "      <td>6</td>\n",
       "      <td>4</td>\n",
       "      <td>7</td>\n",
       "      <td>7</td>\n",
       "      <td>9</td>\n",
       "      <td>4</td>\n",
       "    </tr>\n",
       "    <tr>\n",
       "      <th>IDBA-UD</th>\n",
       "      <td>1</td>\n",
       "      <td>5</td>\n",
       "      <td>5</td>\n",
       "      <td>1</td>\n",
       "      <td>8</td>\n",
       "      <td>8</td>\n",
       "      <td>4</td>\n",
       "      <td>8</td>\n",
       "      <td>6</td>\n",
       "      <td>8</td>\n",
       "      <td>10</td>\n",
       "      <td>7</td>\n",
       "      <td>7</td>\n",
       "    </tr>\n",
       "    <tr>\n",
       "      <th>MEGAHIT</th>\n",
       "      <td>1</td>\n",
       "      <td>6</td>\n",
       "      <td>4</td>\n",
       "      <td>1</td>\n",
       "      <td>12</td>\n",
       "      <td>4</td>\n",
       "      <td>1</td>\n",
       "      <td>3</td>\n",
       "      <td>3</td>\n",
       "      <td>1</td>\n",
       "      <td>7</td>\n",
       "      <td>7</td>\n",
       "      <td>3</td>\n",
       "    </tr>\n",
       "    <tr>\n",
       "      <th>MetaHipMer2</th>\n",
       "      <td>1</td>\n",
       "      <td>1</td>\n",
       "      <td>1</td>\n",
       "      <td>1</td>\n",
       "      <td>1</td>\n",
       "      <td>1</td>\n",
       "      <td>12</td>\n",
       "      <td>12</td>\n",
       "      <td>12</td>\n",
       "      <td>12</td>\n",
       "      <td>1</td>\n",
       "      <td>1</td>\n",
       "      <td>12</td>\n",
       "    </tr>\n",
       "    <tr>\n",
       "      <th>metaSPAdes</th>\n",
       "      <td>1</td>\n",
       "      <td>7</td>\n",
       "      <td>6</td>\n",
       "      <td>1</td>\n",
       "      <td>11</td>\n",
       "      <td>3</td>\n",
       "      <td>2</td>\n",
       "      <td>2</td>\n",
       "      <td>2</td>\n",
       "      <td>3</td>\n",
       "      <td>7</td>\n",
       "      <td>9</td>\n",
       "      <td>2</td>\n",
       "    </tr>\n",
       "    <tr>\n",
       "      <th>MINIA</th>\n",
       "      <td>1</td>\n",
       "      <td>9</td>\n",
       "      <td>9</td>\n",
       "      <td>1</td>\n",
       "      <td>5</td>\n",
       "      <td>9</td>\n",
       "      <td>9</td>\n",
       "      <td>9</td>\n",
       "      <td>8</td>\n",
       "      <td>9</td>\n",
       "      <td>10</td>\n",
       "      <td>11</td>\n",
       "      <td>8</td>\n",
       "    </tr>\n",
       "    <tr>\n",
       "      <th>SKESA</th>\n",
       "      <td>1</td>\n",
       "      <td>2</td>\n",
       "      <td>8</td>\n",
       "      <td>1</td>\n",
       "      <td>2</td>\n",
       "      <td>12</td>\n",
       "      <td>11</td>\n",
       "      <td>11</td>\n",
       "      <td>11</td>\n",
       "      <td>11</td>\n",
       "      <td>12</td>\n",
       "      <td>12</td>\n",
       "      <td>11</td>\n",
       "    </tr>\n",
       "    <tr>\n",
       "      <th>SPAdes</th>\n",
       "      <td>1</td>\n",
       "      <td>8</td>\n",
       "      <td>7</td>\n",
       "      <td>1</td>\n",
       "      <td>7</td>\n",
       "      <td>7</td>\n",
       "      <td>2</td>\n",
       "      <td>7</td>\n",
       "      <td>5</td>\n",
       "      <td>6</td>\n",
       "      <td>1</td>\n",
       "      <td>1</td>\n",
       "      <td>5</td>\n",
       "    </tr>\n",
       "    <tr>\n",
       "      <th>Unicycler</th>\n",
       "      <td>1</td>\n",
       "      <td>3</td>\n",
       "      <td>2</td>\n",
       "      <td>1</td>\n",
       "      <td>3</td>\n",
       "      <td>2</td>\n",
       "      <td>7</td>\n",
       "      <td>1</td>\n",
       "      <td>7</td>\n",
       "      <td>4</td>\n",
       "      <td>1</td>\n",
       "      <td>1</td>\n",
       "      <td>1</td>\n",
       "    </tr>\n",
       "    <tr>\n",
       "      <th>VelvetOptimiser</th>\n",
       "      <td>12</td>\n",
       "      <td>11</td>\n",
       "      <td>10</td>\n",
       "      <td>1</td>\n",
       "      <td>10</td>\n",
       "      <td>5</td>\n",
       "      <td>8</td>\n",
       "      <td>4</td>\n",
       "      <td>9</td>\n",
       "      <td>5</td>\n",
       "      <td>1</td>\n",
       "      <td>1</td>\n",
       "      <td>6</td>\n",
       "    </tr>\n",
       "  </tbody>\n",
       "</table>\n",
       "</div>"
      ],
      "text/plain": [
       "                   Ns  basepairs  contigs  filtered_Ns  filtered_basepairs  \\\n",
       "Assembler                                                                    \n",
       "ABySS              11         12       11           12                   6   \n",
       "BCALM2              1         10       12            1                   4   \n",
       "GATBMiniaPipeline   1          4        3            1                   9   \n",
       "IDBA-UD             1          5        5            1                   8   \n",
       "MEGAHIT             1          6        4            1                  12   \n",
       "MetaHipMer2         1          1        1            1                   1   \n",
       "metaSPAdes          1          7        6            1                  11   \n",
       "MINIA               1          9        9            1                   5   \n",
       "SKESA               1          2        8            1                   2   \n",
       "SPAdes              1          8        7            1                   7   \n",
       "Unicycler           1          3        2            1                   3   \n",
       "VelvetOptimiser    12         11       10            1                  10   \n",
       "\n",
       "                   filtered_contigs  filtered_mapped_reads  filtered_n50  \\\n",
       "Assembler                                                                  \n",
       "ABySS                            11                      5             5   \n",
       "BCALM2                           10                     10            10   \n",
       "GATBMiniaPipeline                 6                      6             6   \n",
       "IDBA-UD                           8                      4             8   \n",
       "MEGAHIT                           4                      1             3   \n",
       "MetaHipMer2                       1                     12            12   \n",
       "metaSPAdes                        3                      2             2   \n",
       "MINIA                             9                      9             9   \n",
       "SKESA                            12                     11            11   \n",
       "SPAdes                            7                      2             7   \n",
       "Unicycler                         2                      7             1   \n",
       "VelvetOptimiser                   5                      8             4   \n",
       "\n",
       "                   mapped_reads  max_contig  misassembled contigs  \\\n",
       "Assembler                                                           \n",
       "ABySS                         1           2                     1   \n",
       "BCALM2                       10          10                     1   \n",
       "GATBMiniaPipeline             4           7                     7   \n",
       "IDBA-UD                       6           8                    10   \n",
       "MEGAHIT                       3           1                     7   \n",
       "MetaHipMer2                  12          12                     1   \n",
       "metaSPAdes                    2           3                     7   \n",
       "MINIA                         8           9                    10   \n",
       "SKESA                        11          11                    12   \n",
       "SPAdes                        5           6                     1   \n",
       "Unicycler                     7           4                     1   \n",
       "VelvetOptimiser               9           5                     1   \n",
       "\n",
       "                   misassembly events  n50  \n",
       "Assembler                                   \n",
       "ABySS                               1   10  \n",
       "BCALM2                              1    9  \n",
       "GATBMiniaPipeline                   9    4  \n",
       "IDBA-UD                             7    7  \n",
       "MEGAHIT                             7    3  \n",
       "MetaHipMer2                         1   12  \n",
       "metaSPAdes                          9    2  \n",
       "MINIA                              11    8  \n",
       "SKESA                              12   11  \n",
       "SPAdes                              1    5  \n",
       "Unicycler                           1    1  \n",
       "VelvetOptimiser                     1    6  "
      ]
     },
     "metadata": {},
     "output_type": "display_data"
    },
    {
     "name": "stdout",
     "output_type": "stream",
     "text": [
      "ERR2935805\n"
     ]
    },
    {
     "data": {
      "text/html": [
       "<div>\n",
       "<style scoped>\n",
       "    .dataframe tbody tr th:only-of-type {\n",
       "        vertical-align: middle;\n",
       "    }\n",
       "\n",
       "    .dataframe tbody tr th {\n",
       "        vertical-align: top;\n",
       "    }\n",
       "\n",
       "    .dataframe thead th {\n",
       "        text-align: right;\n",
       "    }\n",
       "</style>\n",
       "<table border=\"1\" class=\"dataframe\">\n",
       "  <thead>\n",
       "    <tr style=\"text-align: right;\">\n",
       "      <th></th>\n",
       "      <th>Ns</th>\n",
       "      <th>basepairs</th>\n",
       "      <th>contigs</th>\n",
       "      <th>filtered_Ns</th>\n",
       "      <th>filtered_basepairs</th>\n",
       "      <th>filtered_contigs</th>\n",
       "      <th>filtered_mapped_reads</th>\n",
       "      <th>filtered_n50</th>\n",
       "      <th>mapped_reads</th>\n",
       "      <th>max_contig</th>\n",
       "      <th>misassembled contigs</th>\n",
       "      <th>misassembly events</th>\n",
       "      <th>n50</th>\n",
       "    </tr>\n",
       "    <tr>\n",
       "      <th>Assembler</th>\n",
       "      <th></th>\n",
       "      <th></th>\n",
       "      <th></th>\n",
       "      <th></th>\n",
       "      <th></th>\n",
       "      <th></th>\n",
       "      <th></th>\n",
       "      <th></th>\n",
       "      <th></th>\n",
       "      <th></th>\n",
       "      <th></th>\n",
       "      <th></th>\n",
       "      <th></th>\n",
       "    </tr>\n",
       "  </thead>\n",
       "  <tbody>\n",
       "    <tr>\n",
       "      <th>ABySS</th>\n",
       "      <td>12</td>\n",
       "      <td>11</td>\n",
       "      <td>11</td>\n",
       "      <td>1</td>\n",
       "      <td>3</td>\n",
       "      <td>3</td>\n",
       "      <td>7</td>\n",
       "      <td>7</td>\n",
       "      <td>1</td>\n",
       "      <td>8</td>\n",
       "      <td>1</td>\n",
       "      <td>1</td>\n",
       "      <td>10</td>\n",
       "    </tr>\n",
       "    <tr>\n",
       "      <th>BCALM2</th>\n",
       "      <td>1</td>\n",
       "      <td>12</td>\n",
       "      <td>12</td>\n",
       "      <td>1</td>\n",
       "      <td>2</td>\n",
       "      <td>4</td>\n",
       "      <td>11</td>\n",
       "      <td>11</td>\n",
       "      <td>11</td>\n",
       "      <td>11</td>\n",
       "      <td>1</td>\n",
       "      <td>1</td>\n",
       "      <td>12</td>\n",
       "    </tr>\n",
       "    <tr>\n",
       "      <th>GATBMiniaPipeline</th>\n",
       "      <td>1</td>\n",
       "      <td>4</td>\n",
       "      <td>2</td>\n",
       "      <td>1</td>\n",
       "      <td>8</td>\n",
       "      <td>5</td>\n",
       "      <td>4</td>\n",
       "      <td>4</td>\n",
       "      <td>5</td>\n",
       "      <td>6</td>\n",
       "      <td>1</td>\n",
       "      <td>1</td>\n",
       "      <td>3</td>\n",
       "    </tr>\n",
       "    <tr>\n",
       "      <th>IDBA-UD</th>\n",
       "      <td>1</td>\n",
       "      <td>6</td>\n",
       "      <td>5</td>\n",
       "      <td>1</td>\n",
       "      <td>9</td>\n",
       "      <td>7</td>\n",
       "      <td>3</td>\n",
       "      <td>3</td>\n",
       "      <td>3</td>\n",
       "      <td>4</td>\n",
       "      <td>10</td>\n",
       "      <td>10</td>\n",
       "      <td>4</td>\n",
       "    </tr>\n",
       "    <tr>\n",
       "      <th>MEGAHIT</th>\n",
       "      <td>1</td>\n",
       "      <td>7</td>\n",
       "      <td>6</td>\n",
       "      <td>1</td>\n",
       "      <td>10</td>\n",
       "      <td>9</td>\n",
       "      <td>1</td>\n",
       "      <td>2</td>\n",
       "      <td>4</td>\n",
       "      <td>3</td>\n",
       "      <td>8</td>\n",
       "      <td>8</td>\n",
       "      <td>2</td>\n",
       "    </tr>\n",
       "    <tr>\n",
       "      <th>MetaHipMer2</th>\n",
       "      <td>1</td>\n",
       "      <td>3</td>\n",
       "      <td>4</td>\n",
       "      <td>1</td>\n",
       "      <td>6</td>\n",
       "      <td>12</td>\n",
       "      <td>8</td>\n",
       "      <td>9</td>\n",
       "      <td>9</td>\n",
       "      <td>10</td>\n",
       "      <td>1</td>\n",
       "      <td>1</td>\n",
       "      <td>8</td>\n",
       "    </tr>\n",
       "    <tr>\n",
       "      <th>metaSPAdes</th>\n",
       "      <td>1</td>\n",
       "      <td>8</td>\n",
       "      <td>7</td>\n",
       "      <td>1</td>\n",
       "      <td>11</td>\n",
       "      <td>10</td>\n",
       "      <td>2</td>\n",
       "      <td>5</td>\n",
       "      <td>2</td>\n",
       "      <td>5</td>\n",
       "      <td>10</td>\n",
       "      <td>11</td>\n",
       "      <td>6</td>\n",
       "    </tr>\n",
       "    <tr>\n",
       "      <th>MINIA</th>\n",
       "      <td>1</td>\n",
       "      <td>5</td>\n",
       "      <td>9</td>\n",
       "      <td>1</td>\n",
       "      <td>7</td>\n",
       "      <td>6</td>\n",
       "      <td>6</td>\n",
       "      <td>8</td>\n",
       "      <td>7</td>\n",
       "      <td>7</td>\n",
       "      <td>9</td>\n",
       "      <td>9</td>\n",
       "      <td>5</td>\n",
       "    </tr>\n",
       "    <tr>\n",
       "      <th>SKESA</th>\n",
       "      <td>1</td>\n",
       "      <td>1</td>\n",
       "      <td>3</td>\n",
       "      <td>1</td>\n",
       "      <td>4</td>\n",
       "      <td>8</td>\n",
       "      <td>9</td>\n",
       "      <td>10</td>\n",
       "      <td>10</td>\n",
       "      <td>9</td>\n",
       "      <td>1</td>\n",
       "      <td>1</td>\n",
       "      <td>9</td>\n",
       "    </tr>\n",
       "    <tr>\n",
       "      <th>SPAdes</th>\n",
       "      <td>1</td>\n",
       "      <td>9</td>\n",
       "      <td>8</td>\n",
       "      <td>1</td>\n",
       "      <td>12</td>\n",
       "      <td>11</td>\n",
       "      <td>10</td>\n",
       "      <td>6</td>\n",
       "      <td>8</td>\n",
       "      <td>1</td>\n",
       "      <td>12</td>\n",
       "      <td>12</td>\n",
       "      <td>7</td>\n",
       "    </tr>\n",
       "    <tr>\n",
       "      <th>Unicycler</th>\n",
       "      <td>1</td>\n",
       "      <td>2</td>\n",
       "      <td>1</td>\n",
       "      <td>1</td>\n",
       "      <td>5</td>\n",
       "      <td>1</td>\n",
       "      <td>5</td>\n",
       "      <td>1</td>\n",
       "      <td>6</td>\n",
       "      <td>2</td>\n",
       "      <td>1</td>\n",
       "      <td>1</td>\n",
       "      <td>1</td>\n",
       "    </tr>\n",
       "    <tr>\n",
       "      <th>VelvetOptimiser</th>\n",
       "      <td>1</td>\n",
       "      <td>10</td>\n",
       "      <td>10</td>\n",
       "      <td>1</td>\n",
       "      <td>1</td>\n",
       "      <td>2</td>\n",
       "      <td>12</td>\n",
       "      <td>12</td>\n",
       "      <td>12</td>\n",
       "      <td>12</td>\n",
       "      <td>1</td>\n",
       "      <td>1</td>\n",
       "      <td>11</td>\n",
       "    </tr>\n",
       "  </tbody>\n",
       "</table>\n",
       "</div>"
      ],
      "text/plain": [
       "                   Ns  basepairs  contigs  filtered_Ns  filtered_basepairs  \\\n",
       "Assembler                                                                    \n",
       "ABySS              12         11       11            1                   3   \n",
       "BCALM2              1         12       12            1                   2   \n",
       "GATBMiniaPipeline   1          4        2            1                   8   \n",
       "IDBA-UD             1          6        5            1                   9   \n",
       "MEGAHIT             1          7        6            1                  10   \n",
       "MetaHipMer2         1          3        4            1                   6   \n",
       "metaSPAdes          1          8        7            1                  11   \n",
       "MINIA               1          5        9            1                   7   \n",
       "SKESA               1          1        3            1                   4   \n",
       "SPAdes              1          9        8            1                  12   \n",
       "Unicycler           1          2        1            1                   5   \n",
       "VelvetOptimiser     1         10       10            1                   1   \n",
       "\n",
       "                   filtered_contigs  filtered_mapped_reads  filtered_n50  \\\n",
       "Assembler                                                                  \n",
       "ABySS                             3                      7             7   \n",
       "BCALM2                            4                     11            11   \n",
       "GATBMiniaPipeline                 5                      4             4   \n",
       "IDBA-UD                           7                      3             3   \n",
       "MEGAHIT                           9                      1             2   \n",
       "MetaHipMer2                      12                      8             9   \n",
       "metaSPAdes                       10                      2             5   \n",
       "MINIA                             6                      6             8   \n",
       "SKESA                             8                      9            10   \n",
       "SPAdes                           11                     10             6   \n",
       "Unicycler                         1                      5             1   \n",
       "VelvetOptimiser                   2                     12            12   \n",
       "\n",
       "                   mapped_reads  max_contig  misassembled contigs  \\\n",
       "Assembler                                                           \n",
       "ABySS                         1           8                     1   \n",
       "BCALM2                       11          11                     1   \n",
       "GATBMiniaPipeline             5           6                     1   \n",
       "IDBA-UD                       3           4                    10   \n",
       "MEGAHIT                       4           3                     8   \n",
       "MetaHipMer2                   9          10                     1   \n",
       "metaSPAdes                    2           5                    10   \n",
       "MINIA                         7           7                     9   \n",
       "SKESA                        10           9                     1   \n",
       "SPAdes                        8           1                    12   \n",
       "Unicycler                     6           2                     1   \n",
       "VelvetOptimiser              12          12                     1   \n",
       "\n",
       "                   misassembly events  n50  \n",
       "Assembler                                   \n",
       "ABySS                               1   10  \n",
       "BCALM2                              1   12  \n",
       "GATBMiniaPipeline                   1    3  \n",
       "IDBA-UD                            10    4  \n",
       "MEGAHIT                             8    2  \n",
       "MetaHipMer2                         1    8  \n",
       "metaSPAdes                         11    6  \n",
       "MINIA                               9    5  \n",
       "SKESA                               1    9  \n",
       "SPAdes                             12    7  \n",
       "Unicycler                           1    1  \n",
       "VelvetOptimiser                     1   11  "
      ]
     },
     "metadata": {},
     "output_type": "display_data"
    },
    {
     "name": "stdout",
     "output_type": "stream",
     "text": [
      "LHS\n"
     ]
    },
    {
     "data": {
      "text/html": [
       "<div>\n",
       "<style scoped>\n",
       "    .dataframe tbody tr th:only-of-type {\n",
       "        vertical-align: middle;\n",
       "    }\n",
       "\n",
       "    .dataframe tbody tr th {\n",
       "        vertical-align: top;\n",
       "    }\n",
       "\n",
       "    .dataframe thead th {\n",
       "        text-align: right;\n",
       "    }\n",
       "</style>\n",
       "<table border=\"1\" class=\"dataframe\">\n",
       "  <thead>\n",
       "    <tr style=\"text-align: right;\">\n",
       "      <th></th>\n",
       "      <th>Ns</th>\n",
       "      <th>basepairs</th>\n",
       "      <th>contigs</th>\n",
       "      <th>filtered_Ns</th>\n",
       "      <th>filtered_basepairs</th>\n",
       "      <th>filtered_contigs</th>\n",
       "      <th>filtered_mapped_reads</th>\n",
       "      <th>filtered_n50</th>\n",
       "      <th>mapped_reads</th>\n",
       "      <th>max_contig</th>\n",
       "      <th>misassembled contigs</th>\n",
       "      <th>misassembly events</th>\n",
       "      <th>n50</th>\n",
       "    </tr>\n",
       "    <tr>\n",
       "      <th>Assembler</th>\n",
       "      <th></th>\n",
       "      <th></th>\n",
       "      <th></th>\n",
       "      <th></th>\n",
       "      <th></th>\n",
       "      <th></th>\n",
       "      <th></th>\n",
       "      <th></th>\n",
       "      <th></th>\n",
       "      <th></th>\n",
       "      <th></th>\n",
       "      <th></th>\n",
       "      <th></th>\n",
       "    </tr>\n",
       "  </thead>\n",
       "  <tbody>\n",
       "    <tr>\n",
       "      <th>ABySS</th>\n",
       "      <td>1</td>\n",
       "      <td>1</td>\n",
       "      <td>1</td>\n",
       "      <td>1</td>\n",
       "      <td>1</td>\n",
       "      <td>1</td>\n",
       "      <td>11</td>\n",
       "      <td>11</td>\n",
       "      <td>11</td>\n",
       "      <td>11</td>\n",
       "      <td>1</td>\n",
       "      <td>1</td>\n",
       "      <td>11</td>\n",
       "    </tr>\n",
       "    <tr>\n",
       "      <th>BCALM2</th>\n",
       "      <td>1</td>\n",
       "      <td>12</td>\n",
       "      <td>12</td>\n",
       "      <td>1</td>\n",
       "      <td>3</td>\n",
       "      <td>3</td>\n",
       "      <td>10</td>\n",
       "      <td>10</td>\n",
       "      <td>10</td>\n",
       "      <td>10</td>\n",
       "      <td>1</td>\n",
       "      <td>1</td>\n",
       "      <td>10</td>\n",
       "    </tr>\n",
       "    <tr>\n",
       "      <th>GATBMiniaPipeline</th>\n",
       "      <td>1</td>\n",
       "      <td>5</td>\n",
       "      <td>6</td>\n",
       "      <td>1</td>\n",
       "      <td>9</td>\n",
       "      <td>9</td>\n",
       "      <td>4</td>\n",
       "      <td>6</td>\n",
       "      <td>4</td>\n",
       "      <td>4</td>\n",
       "      <td>10</td>\n",
       "      <td>11</td>\n",
       "      <td>6</td>\n",
       "    </tr>\n",
       "    <tr>\n",
       "      <th>IDBA-UD</th>\n",
       "      <td>1</td>\n",
       "      <td>6</td>\n",
       "      <td>7</td>\n",
       "      <td>1</td>\n",
       "      <td>10</td>\n",
       "      <td>8</td>\n",
       "      <td>3</td>\n",
       "      <td>5</td>\n",
       "      <td>3</td>\n",
       "      <td>5</td>\n",
       "      <td>10</td>\n",
       "      <td>10</td>\n",
       "      <td>5</td>\n",
       "    </tr>\n",
       "    <tr>\n",
       "      <th>MEGAHIT</th>\n",
       "      <td>1</td>\n",
       "      <td>7</td>\n",
       "      <td>5</td>\n",
       "      <td>1</td>\n",
       "      <td>11</td>\n",
       "      <td>7</td>\n",
       "      <td>2</td>\n",
       "      <td>4</td>\n",
       "      <td>1</td>\n",
       "      <td>3</td>\n",
       "      <td>1</td>\n",
       "      <td>1</td>\n",
       "      <td>4</td>\n",
       "    </tr>\n",
       "    <tr>\n",
       "      <th>MetaHipMer2</th>\n",
       "      <td>1</td>\n",
       "      <td>1</td>\n",
       "      <td>1</td>\n",
       "      <td>1</td>\n",
       "      <td>1</td>\n",
       "      <td>1</td>\n",
       "      <td>11</td>\n",
       "      <td>11</td>\n",
       "      <td>11</td>\n",
       "      <td>11</td>\n",
       "      <td>1</td>\n",
       "      <td>1</td>\n",
       "      <td>11</td>\n",
       "    </tr>\n",
       "    <tr>\n",
       "      <th>metaSPAdes</th>\n",
       "      <td>1</td>\n",
       "      <td>8</td>\n",
       "      <td>8</td>\n",
       "      <td>1</td>\n",
       "      <td>12</td>\n",
       "      <td>5</td>\n",
       "      <td>1</td>\n",
       "      <td>2</td>\n",
       "      <td>2</td>\n",
       "      <td>1</td>\n",
       "      <td>8</td>\n",
       "      <td>9</td>\n",
       "      <td>2</td>\n",
       "    </tr>\n",
       "    <tr>\n",
       "      <th>MINIA</th>\n",
       "      <td>1</td>\n",
       "      <td>9</td>\n",
       "      <td>9</td>\n",
       "      <td>1</td>\n",
       "      <td>6</td>\n",
       "      <td>12</td>\n",
       "      <td>7</td>\n",
       "      <td>8</td>\n",
       "      <td>8</td>\n",
       "      <td>8</td>\n",
       "      <td>1</td>\n",
       "      <td>1</td>\n",
       "      <td>8</td>\n",
       "    </tr>\n",
       "    <tr>\n",
       "      <th>SKESA</th>\n",
       "      <td>1</td>\n",
       "      <td>3</td>\n",
       "      <td>3</td>\n",
       "      <td>1</td>\n",
       "      <td>4</td>\n",
       "      <td>4</td>\n",
       "      <td>6</td>\n",
       "      <td>1</td>\n",
       "      <td>7</td>\n",
       "      <td>6</td>\n",
       "      <td>1</td>\n",
       "      <td>1</td>\n",
       "      <td>1</td>\n",
       "    </tr>\n",
       "    <tr>\n",
       "      <th>SPAdes</th>\n",
       "      <td>1</td>\n",
       "      <td>10</td>\n",
       "      <td>10</td>\n",
       "      <td>1</td>\n",
       "      <td>7</td>\n",
       "      <td>11</td>\n",
       "      <td>8</td>\n",
       "      <td>7</td>\n",
       "      <td>6</td>\n",
       "      <td>7</td>\n",
       "      <td>8</td>\n",
       "      <td>8</td>\n",
       "      <td>7</td>\n",
       "    </tr>\n",
       "    <tr>\n",
       "      <th>Unicycler</th>\n",
       "      <td>1</td>\n",
       "      <td>4</td>\n",
       "      <td>4</td>\n",
       "      <td>1</td>\n",
       "      <td>8</td>\n",
       "      <td>6</td>\n",
       "      <td>5</td>\n",
       "      <td>3</td>\n",
       "      <td>5</td>\n",
       "      <td>2</td>\n",
       "      <td>12</td>\n",
       "      <td>12</td>\n",
       "      <td>3</td>\n",
       "    </tr>\n",
       "    <tr>\n",
       "      <th>VelvetOptimiser</th>\n",
       "      <td>1</td>\n",
       "      <td>11</td>\n",
       "      <td>11</td>\n",
       "      <td>1</td>\n",
       "      <td>5</td>\n",
       "      <td>10</td>\n",
       "      <td>9</td>\n",
       "      <td>9</td>\n",
       "      <td>9</td>\n",
       "      <td>9</td>\n",
       "      <td>1</td>\n",
       "      <td>1</td>\n",
       "      <td>9</td>\n",
       "    </tr>\n",
       "  </tbody>\n",
       "</table>\n",
       "</div>"
      ],
      "text/plain": [
       "                   Ns  basepairs  contigs  filtered_Ns  filtered_basepairs  \\\n",
       "Assembler                                                                    \n",
       "ABySS               1          1        1            1                   1   \n",
       "BCALM2              1         12       12            1                   3   \n",
       "GATBMiniaPipeline   1          5        6            1                   9   \n",
       "IDBA-UD             1          6        7            1                  10   \n",
       "MEGAHIT             1          7        5            1                  11   \n",
       "MetaHipMer2         1          1        1            1                   1   \n",
       "metaSPAdes          1          8        8            1                  12   \n",
       "MINIA               1          9        9            1                   6   \n",
       "SKESA               1          3        3            1                   4   \n",
       "SPAdes              1         10       10            1                   7   \n",
       "Unicycler           1          4        4            1                   8   \n",
       "VelvetOptimiser     1         11       11            1                   5   \n",
       "\n",
       "                   filtered_contigs  filtered_mapped_reads  filtered_n50  \\\n",
       "Assembler                                                                  \n",
       "ABySS                             1                     11            11   \n",
       "BCALM2                            3                     10            10   \n",
       "GATBMiniaPipeline                 9                      4             6   \n",
       "IDBA-UD                           8                      3             5   \n",
       "MEGAHIT                           7                      2             4   \n",
       "MetaHipMer2                       1                     11            11   \n",
       "metaSPAdes                        5                      1             2   \n",
       "MINIA                            12                      7             8   \n",
       "SKESA                             4                      6             1   \n",
       "SPAdes                           11                      8             7   \n",
       "Unicycler                         6                      5             3   \n",
       "VelvetOptimiser                  10                      9             9   \n",
       "\n",
       "                   mapped_reads  max_contig  misassembled contigs  \\\n",
       "Assembler                                                           \n",
       "ABySS                        11          11                     1   \n",
       "BCALM2                       10          10                     1   \n",
       "GATBMiniaPipeline             4           4                    10   \n",
       "IDBA-UD                       3           5                    10   \n",
       "MEGAHIT                       1           3                     1   \n",
       "MetaHipMer2                  11          11                     1   \n",
       "metaSPAdes                    2           1                     8   \n",
       "MINIA                         8           8                     1   \n",
       "SKESA                         7           6                     1   \n",
       "SPAdes                        6           7                     8   \n",
       "Unicycler                     5           2                    12   \n",
       "VelvetOptimiser               9           9                     1   \n",
       "\n",
       "                   misassembly events  n50  \n",
       "Assembler                                   \n",
       "ABySS                               1   11  \n",
       "BCALM2                              1   10  \n",
       "GATBMiniaPipeline                  11    6  \n",
       "IDBA-UD                            10    5  \n",
       "MEGAHIT                             1    4  \n",
       "MetaHipMer2                         1   11  \n",
       "metaSPAdes                          9    2  \n",
       "MINIA                               1    8  \n",
       "SKESA                               1    1  \n",
       "SPAdes                              8    7  \n",
       "Unicycler                          12    3  \n",
       "VelvetOptimiser                     1    9  "
      ]
     },
     "metadata": {},
     "output_type": "display_data"
    },
    {
     "name": "stdout",
     "output_type": "stream",
     "text": [
      "EMS\n"
     ]
    },
    {
     "data": {
      "text/html": [
       "<div>\n",
       "<style scoped>\n",
       "    .dataframe tbody tr th:only-of-type {\n",
       "        vertical-align: middle;\n",
       "    }\n",
       "\n",
       "    .dataframe tbody tr th {\n",
       "        vertical-align: top;\n",
       "    }\n",
       "\n",
       "    .dataframe thead th {\n",
       "        text-align: right;\n",
       "    }\n",
       "</style>\n",
       "<table border=\"1\" class=\"dataframe\">\n",
       "  <thead>\n",
       "    <tr style=\"text-align: right;\">\n",
       "      <th></th>\n",
       "      <th>Ns</th>\n",
       "      <th>basepairs</th>\n",
       "      <th>contigs</th>\n",
       "      <th>filtered_Ns</th>\n",
       "      <th>filtered_basepairs</th>\n",
       "      <th>filtered_contigs</th>\n",
       "      <th>filtered_mapped_reads</th>\n",
       "      <th>filtered_n50</th>\n",
       "      <th>mapped_reads</th>\n",
       "      <th>max_contig</th>\n",
       "      <th>misassembled contigs</th>\n",
       "      <th>misassembly events</th>\n",
       "      <th>n50</th>\n",
       "    </tr>\n",
       "    <tr>\n",
       "      <th>Assembler</th>\n",
       "      <th></th>\n",
       "      <th></th>\n",
       "      <th></th>\n",
       "      <th></th>\n",
       "      <th></th>\n",
       "      <th></th>\n",
       "      <th></th>\n",
       "      <th></th>\n",
       "      <th></th>\n",
       "      <th></th>\n",
       "      <th></th>\n",
       "      <th></th>\n",
       "      <th></th>\n",
       "    </tr>\n",
       "  </thead>\n",
       "  <tbody>\n",
       "    <tr>\n",
       "      <th>ABySS</th>\n",
       "      <td>11</td>\n",
       "      <td>11</td>\n",
       "      <td>11</td>\n",
       "      <td>11</td>\n",
       "      <td>12</td>\n",
       "      <td>4</td>\n",
       "      <td>5</td>\n",
       "      <td>5</td>\n",
       "      <td>6</td>\n",
       "      <td>5</td>\n",
       "      <td>8</td>\n",
       "      <td>7</td>\n",
       "      <td>5</td>\n",
       "    </tr>\n",
       "    <tr>\n",
       "      <th>BCALM2</th>\n",
       "      <td>1</td>\n",
       "      <td>12</td>\n",
       "      <td>12</td>\n",
       "      <td>1</td>\n",
       "      <td>1</td>\n",
       "      <td>12</td>\n",
       "      <td>12</td>\n",
       "      <td>12</td>\n",
       "      <td>12</td>\n",
       "      <td>12</td>\n",
       "      <td>1</td>\n",
       "      <td>1</td>\n",
       "      <td>12</td>\n",
       "    </tr>\n",
       "    <tr>\n",
       "      <th>GATBMiniaPipeline</th>\n",
       "      <td>1</td>\n",
       "      <td>6</td>\n",
       "      <td>4</td>\n",
       "      <td>1</td>\n",
       "      <td>8</td>\n",
       "      <td>6</td>\n",
       "      <td>4</td>\n",
       "      <td>6</td>\n",
       "      <td>2</td>\n",
       "      <td>7</td>\n",
       "      <td>6</td>\n",
       "      <td>6</td>\n",
       "      <td>6</td>\n",
       "    </tr>\n",
       "    <tr>\n",
       "      <th>IDBA-UD</th>\n",
       "      <td>1</td>\n",
       "      <td>4</td>\n",
       "      <td>7</td>\n",
       "      <td>1</td>\n",
       "      <td>5</td>\n",
       "      <td>9</td>\n",
       "      <td>7</td>\n",
       "      <td>9</td>\n",
       "      <td>5</td>\n",
       "      <td>10</td>\n",
       "      <td>12</td>\n",
       "      <td>12</td>\n",
       "      <td>9</td>\n",
       "    </tr>\n",
       "    <tr>\n",
       "      <th>MEGAHIT</th>\n",
       "      <td>1</td>\n",
       "      <td>8</td>\n",
       "      <td>5</td>\n",
       "      <td>1</td>\n",
       "      <td>11</td>\n",
       "      <td>5</td>\n",
       "      <td>1</td>\n",
       "      <td>4</td>\n",
       "      <td>1</td>\n",
       "      <td>6</td>\n",
       "      <td>11</td>\n",
       "      <td>11</td>\n",
       "      <td>4</td>\n",
       "    </tr>\n",
       "    <tr>\n",
       "      <th>MetaHipMer2</th>\n",
       "      <td>1</td>\n",
       "      <td>3</td>\n",
       "      <td>3</td>\n",
       "      <td>1</td>\n",
       "      <td>7</td>\n",
       "      <td>7</td>\n",
       "      <td>8</td>\n",
       "      <td>7</td>\n",
       "      <td>8</td>\n",
       "      <td>9</td>\n",
       "      <td>1</td>\n",
       "      <td>1</td>\n",
       "      <td>7</td>\n",
       "    </tr>\n",
       "    <tr>\n",
       "      <th>metaSPAdes</th>\n",
       "      <td>1</td>\n",
       "      <td>5</td>\n",
       "      <td>2</td>\n",
       "      <td>1</td>\n",
       "      <td>10</td>\n",
       "      <td>2</td>\n",
       "      <td>2</td>\n",
       "      <td>3</td>\n",
       "      <td>3</td>\n",
       "      <td>2</td>\n",
       "      <td>6</td>\n",
       "      <td>7</td>\n",
       "      <td>2</td>\n",
       "    </tr>\n",
       "    <tr>\n",
       "      <th>MINIA</th>\n",
       "      <td>1</td>\n",
       "      <td>9</td>\n",
       "      <td>10</td>\n",
       "      <td>1</td>\n",
       "      <td>2</td>\n",
       "      <td>11</td>\n",
       "      <td>11</td>\n",
       "      <td>11</td>\n",
       "      <td>10</td>\n",
       "      <td>11</td>\n",
       "      <td>1</td>\n",
       "      <td>1</td>\n",
       "      <td>11</td>\n",
       "    </tr>\n",
       "    <tr>\n",
       "      <th>SKESA</th>\n",
       "      <td>1</td>\n",
       "      <td>1</td>\n",
       "      <td>6</td>\n",
       "      <td>1</td>\n",
       "      <td>4</td>\n",
       "      <td>8</td>\n",
       "      <td>9</td>\n",
       "      <td>8</td>\n",
       "      <td>9</td>\n",
       "      <td>8</td>\n",
       "      <td>10</td>\n",
       "      <td>10</td>\n",
       "      <td>8</td>\n",
       "    </tr>\n",
       "    <tr>\n",
       "      <th>SPAdes</th>\n",
       "      <td>1</td>\n",
       "      <td>10</td>\n",
       "      <td>8</td>\n",
       "      <td>1</td>\n",
       "      <td>9</td>\n",
       "      <td>3</td>\n",
       "      <td>2</td>\n",
       "      <td>2</td>\n",
       "      <td>4</td>\n",
       "      <td>3</td>\n",
       "      <td>1</td>\n",
       "      <td>1</td>\n",
       "      <td>3</td>\n",
       "    </tr>\n",
       "    <tr>\n",
       "      <th>Unicycler</th>\n",
       "      <td>1</td>\n",
       "      <td>2</td>\n",
       "      <td>1</td>\n",
       "      <td>1</td>\n",
       "      <td>6</td>\n",
       "      <td>1</td>\n",
       "      <td>6</td>\n",
       "      <td>1</td>\n",
       "      <td>7</td>\n",
       "      <td>1</td>\n",
       "      <td>1</td>\n",
       "      <td>1</td>\n",
       "      <td>1</td>\n",
       "    </tr>\n",
       "    <tr>\n",
       "      <th>VelvetOptimiser</th>\n",
       "      <td>12</td>\n",
       "      <td>7</td>\n",
       "      <td>9</td>\n",
       "      <td>12</td>\n",
       "      <td>3</td>\n",
       "      <td>10</td>\n",
       "      <td>10</td>\n",
       "      <td>10</td>\n",
       "      <td>11</td>\n",
       "      <td>4</td>\n",
       "      <td>9</td>\n",
       "      <td>9</td>\n",
       "      <td>10</td>\n",
       "    </tr>\n",
       "  </tbody>\n",
       "</table>\n",
       "</div>"
      ],
      "text/plain": [
       "                   Ns  basepairs  contigs  filtered_Ns  filtered_basepairs  \\\n",
       "Assembler                                                                    \n",
       "ABySS              11         11       11           11                  12   \n",
       "BCALM2              1         12       12            1                   1   \n",
       "GATBMiniaPipeline   1          6        4            1                   8   \n",
       "IDBA-UD             1          4        7            1                   5   \n",
       "MEGAHIT             1          8        5            1                  11   \n",
       "MetaHipMer2         1          3        3            1                   7   \n",
       "metaSPAdes          1          5        2            1                  10   \n",
       "MINIA               1          9       10            1                   2   \n",
       "SKESA               1          1        6            1                   4   \n",
       "SPAdes              1         10        8            1                   9   \n",
       "Unicycler           1          2        1            1                   6   \n",
       "VelvetOptimiser    12          7        9           12                   3   \n",
       "\n",
       "                   filtered_contigs  filtered_mapped_reads  filtered_n50  \\\n",
       "Assembler                                                                  \n",
       "ABySS                             4                      5             5   \n",
       "BCALM2                           12                     12            12   \n",
       "GATBMiniaPipeline                 6                      4             6   \n",
       "IDBA-UD                           9                      7             9   \n",
       "MEGAHIT                           5                      1             4   \n",
       "MetaHipMer2                       7                      8             7   \n",
       "metaSPAdes                        2                      2             3   \n",
       "MINIA                            11                     11            11   \n",
       "SKESA                             8                      9             8   \n",
       "SPAdes                            3                      2             2   \n",
       "Unicycler                         1                      6             1   \n",
       "VelvetOptimiser                  10                     10            10   \n",
       "\n",
       "                   mapped_reads  max_contig  misassembled contigs  \\\n",
       "Assembler                                                           \n",
       "ABySS                         6           5                     8   \n",
       "BCALM2                       12          12                     1   \n",
       "GATBMiniaPipeline             2           7                     6   \n",
       "IDBA-UD                       5          10                    12   \n",
       "MEGAHIT                       1           6                    11   \n",
       "MetaHipMer2                   8           9                     1   \n",
       "metaSPAdes                    3           2                     6   \n",
       "MINIA                        10          11                     1   \n",
       "SKESA                         9           8                    10   \n",
       "SPAdes                        4           3                     1   \n",
       "Unicycler                     7           1                     1   \n",
       "VelvetOptimiser              11           4                     9   \n",
       "\n",
       "                   misassembly events  n50  \n",
       "Assembler                                   \n",
       "ABySS                               7    5  \n",
       "BCALM2                              1   12  \n",
       "GATBMiniaPipeline                   6    6  \n",
       "IDBA-UD                            12    9  \n",
       "MEGAHIT                            11    4  \n",
       "MetaHipMer2                         1    7  \n",
       "metaSPAdes                          7    2  \n",
       "MINIA                               1   11  \n",
       "SKESA                              10    8  \n",
       "SPAdes                              1    3  \n",
       "Unicycler                           1    1  \n",
       "VelvetOptimiser                     9   10  "
      ]
     },
     "metadata": {},
     "output_type": "display_data"
    },
    {
     "name": "stdout",
     "output_type": "stream",
     "text": [
      "ERR2984773\n"
     ]
    },
    {
     "data": {
      "text/html": [
       "<div>\n",
       "<style scoped>\n",
       "    .dataframe tbody tr th:only-of-type {\n",
       "        vertical-align: middle;\n",
       "    }\n",
       "\n",
       "    .dataframe tbody tr th {\n",
       "        vertical-align: top;\n",
       "    }\n",
       "\n",
       "    .dataframe thead th {\n",
       "        text-align: right;\n",
       "    }\n",
       "</style>\n",
       "<table border=\"1\" class=\"dataframe\">\n",
       "  <thead>\n",
       "    <tr style=\"text-align: right;\">\n",
       "      <th></th>\n",
       "      <th>Ns</th>\n",
       "      <th>basepairs</th>\n",
       "      <th>contigs</th>\n",
       "      <th>filtered_Ns</th>\n",
       "      <th>filtered_basepairs</th>\n",
       "      <th>filtered_contigs</th>\n",
       "      <th>filtered_mapped_reads</th>\n",
       "      <th>filtered_n50</th>\n",
       "      <th>mapped_reads</th>\n",
       "      <th>max_contig</th>\n",
       "      <th>misassembled contigs</th>\n",
       "      <th>misassembly events</th>\n",
       "      <th>n50</th>\n",
       "    </tr>\n",
       "    <tr>\n",
       "      <th>Assembler</th>\n",
       "      <th></th>\n",
       "      <th></th>\n",
       "      <th></th>\n",
       "      <th></th>\n",
       "      <th></th>\n",
       "      <th></th>\n",
       "      <th></th>\n",
       "      <th></th>\n",
       "      <th></th>\n",
       "      <th></th>\n",
       "      <th></th>\n",
       "      <th></th>\n",
       "      <th></th>\n",
       "    </tr>\n",
       "  </thead>\n",
       "  <tbody>\n",
       "    <tr>\n",
       "      <th>ABySS</th>\n",
       "      <td>1</td>\n",
       "      <td>11</td>\n",
       "      <td>1</td>\n",
       "      <td>1</td>\n",
       "      <td>8</td>\n",
       "      <td>1</td>\n",
       "      <td>7</td>\n",
       "      <td>7</td>\n",
       "      <td>1</td>\n",
       "      <td>8</td>\n",
       "      <td>1</td>\n",
       "      <td>1</td>\n",
       "      <td>10</td>\n",
       "    </tr>\n",
       "    <tr>\n",
       "      <th>BCALM2</th>\n",
       "      <td>1</td>\n",
       "      <td>12</td>\n",
       "      <td>12</td>\n",
       "      <td>1</td>\n",
       "      <td>1</td>\n",
       "      <td>1</td>\n",
       "      <td>12</td>\n",
       "      <td>12</td>\n",
       "      <td>11</td>\n",
       "      <td>12</td>\n",
       "      <td>1</td>\n",
       "      <td>1</td>\n",
       "      <td>12</td>\n",
       "    </tr>\n",
       "    <tr>\n",
       "      <th>GATBMiniaPipeline</th>\n",
       "      <td>1</td>\n",
       "      <td>4</td>\n",
       "      <td>4</td>\n",
       "      <td>1</td>\n",
       "      <td>7</td>\n",
       "      <td>5</td>\n",
       "      <td>2</td>\n",
       "      <td>3</td>\n",
       "      <td>6</td>\n",
       "      <td>3</td>\n",
       "      <td>7</td>\n",
       "      <td>7</td>\n",
       "      <td>2</td>\n",
       "    </tr>\n",
       "    <tr>\n",
       "      <th>IDBA-UD</th>\n",
       "      <td>1</td>\n",
       "      <td>5</td>\n",
       "      <td>6</td>\n",
       "      <td>1</td>\n",
       "      <td>9</td>\n",
       "      <td>11</td>\n",
       "      <td>5</td>\n",
       "      <td>8</td>\n",
       "      <td>5</td>\n",
       "      <td>7</td>\n",
       "      <td>10</td>\n",
       "      <td>10</td>\n",
       "      <td>7</td>\n",
       "    </tr>\n",
       "    <tr>\n",
       "      <th>MEGAHIT</th>\n",
       "      <td>1</td>\n",
       "      <td>6</td>\n",
       "      <td>7</td>\n",
       "      <td>1</td>\n",
       "      <td>11</td>\n",
       "      <td>8</td>\n",
       "      <td>1</td>\n",
       "      <td>2</td>\n",
       "      <td>3</td>\n",
       "      <td>1</td>\n",
       "      <td>12</td>\n",
       "      <td>12</td>\n",
       "      <td>3</td>\n",
       "    </tr>\n",
       "    <tr>\n",
       "      <th>MetaHipMer2</th>\n",
       "      <td>1</td>\n",
       "      <td>1</td>\n",
       "      <td>5</td>\n",
       "      <td>1</td>\n",
       "      <td>3</td>\n",
       "      <td>7</td>\n",
       "      <td>10</td>\n",
       "      <td>10</td>\n",
       "      <td>10</td>\n",
       "      <td>10</td>\n",
       "      <td>1</td>\n",
       "      <td>1</td>\n",
       "      <td>9</td>\n",
       "    </tr>\n",
       "    <tr>\n",
       "      <th>metaSPAdes</th>\n",
       "      <td>1</td>\n",
       "      <td>9</td>\n",
       "      <td>9</td>\n",
       "      <td>1</td>\n",
       "      <td>10</td>\n",
       "      <td>9</td>\n",
       "      <td>3</td>\n",
       "      <td>5</td>\n",
       "      <td>2</td>\n",
       "      <td>5</td>\n",
       "      <td>8</td>\n",
       "      <td>8</td>\n",
       "      <td>6</td>\n",
       "    </tr>\n",
       "    <tr>\n",
       "      <th>MINIA</th>\n",
       "      <td>1</td>\n",
       "      <td>7</td>\n",
       "      <td>10</td>\n",
       "      <td>1</td>\n",
       "      <td>4</td>\n",
       "      <td>12</td>\n",
       "      <td>9</td>\n",
       "      <td>9</td>\n",
       "      <td>9</td>\n",
       "      <td>9</td>\n",
       "      <td>1</td>\n",
       "      <td>1</td>\n",
       "      <td>8</td>\n",
       "    </tr>\n",
       "    <tr>\n",
       "      <th>SKESA</th>\n",
       "      <td>1</td>\n",
       "      <td>2</td>\n",
       "      <td>3</td>\n",
       "      <td>1</td>\n",
       "      <td>5</td>\n",
       "      <td>6</td>\n",
       "      <td>8</td>\n",
       "      <td>6</td>\n",
       "      <td>8</td>\n",
       "      <td>6</td>\n",
       "      <td>1</td>\n",
       "      <td>1</td>\n",
       "      <td>4</td>\n",
       "    </tr>\n",
       "    <tr>\n",
       "      <th>SPAdes</th>\n",
       "      <td>1</td>\n",
       "      <td>8</td>\n",
       "      <td>8</td>\n",
       "      <td>1</td>\n",
       "      <td>12</td>\n",
       "      <td>10</td>\n",
       "      <td>6</td>\n",
       "      <td>4</td>\n",
       "      <td>4</td>\n",
       "      <td>4</td>\n",
       "      <td>11</td>\n",
       "      <td>11</td>\n",
       "      <td>5</td>\n",
       "    </tr>\n",
       "    <tr>\n",
       "      <th>Unicycler</th>\n",
       "      <td>1</td>\n",
       "      <td>3</td>\n",
       "      <td>2</td>\n",
       "      <td>1</td>\n",
       "      <td>6</td>\n",
       "      <td>4</td>\n",
       "      <td>4</td>\n",
       "      <td>1</td>\n",
       "      <td>7</td>\n",
       "      <td>2</td>\n",
       "      <td>8</td>\n",
       "      <td>9</td>\n",
       "      <td>1</td>\n",
       "    </tr>\n",
       "    <tr>\n",
       "      <th>VelvetOptimiser</th>\n",
       "      <td>12</td>\n",
       "      <td>10</td>\n",
       "      <td>11</td>\n",
       "      <td>1</td>\n",
       "      <td>2</td>\n",
       "      <td>3</td>\n",
       "      <td>11</td>\n",
       "      <td>11</td>\n",
       "      <td>12</td>\n",
       "      <td>11</td>\n",
       "      <td>1</td>\n",
       "      <td>1</td>\n",
       "      <td>11</td>\n",
       "    </tr>\n",
       "  </tbody>\n",
       "</table>\n",
       "</div>"
      ],
      "text/plain": [
       "                   Ns  basepairs  contigs  filtered_Ns  filtered_basepairs  \\\n",
       "Assembler                                                                    \n",
       "ABySS               1         11        1            1                   8   \n",
       "BCALM2              1         12       12            1                   1   \n",
       "GATBMiniaPipeline   1          4        4            1                   7   \n",
       "IDBA-UD             1          5        6            1                   9   \n",
       "MEGAHIT             1          6        7            1                  11   \n",
       "MetaHipMer2         1          1        5            1                   3   \n",
       "metaSPAdes          1          9        9            1                  10   \n",
       "MINIA               1          7       10            1                   4   \n",
       "SKESA               1          2        3            1                   5   \n",
       "SPAdes              1          8        8            1                  12   \n",
       "Unicycler           1          3        2            1                   6   \n",
       "VelvetOptimiser    12         10       11            1                   2   \n",
       "\n",
       "                   filtered_contigs  filtered_mapped_reads  filtered_n50  \\\n",
       "Assembler                                                                  \n",
       "ABySS                             1                      7             7   \n",
       "BCALM2                            1                     12            12   \n",
       "GATBMiniaPipeline                 5                      2             3   \n",
       "IDBA-UD                          11                      5             8   \n",
       "MEGAHIT                           8                      1             2   \n",
       "MetaHipMer2                       7                     10            10   \n",
       "metaSPAdes                        9                      3             5   \n",
       "MINIA                            12                      9             9   \n",
       "SKESA                             6                      8             6   \n",
       "SPAdes                           10                      6             4   \n",
       "Unicycler                         4                      4             1   \n",
       "VelvetOptimiser                   3                     11            11   \n",
       "\n",
       "                   mapped_reads  max_contig  misassembled contigs  \\\n",
       "Assembler                                                           \n",
       "ABySS                         1           8                     1   \n",
       "BCALM2                       11          12                     1   \n",
       "GATBMiniaPipeline             6           3                     7   \n",
       "IDBA-UD                       5           7                    10   \n",
       "MEGAHIT                       3           1                    12   \n",
       "MetaHipMer2                  10          10                     1   \n",
       "metaSPAdes                    2           5                     8   \n",
       "MINIA                         9           9                     1   \n",
       "SKESA                         8           6                     1   \n",
       "SPAdes                        4           4                    11   \n",
       "Unicycler                     7           2                     8   \n",
       "VelvetOptimiser              12          11                     1   \n",
       "\n",
       "                   misassembly events  n50  \n",
       "Assembler                                   \n",
       "ABySS                               1   10  \n",
       "BCALM2                              1   12  \n",
       "GATBMiniaPipeline                   7    2  \n",
       "IDBA-UD                            10    7  \n",
       "MEGAHIT                            12    3  \n",
       "MetaHipMer2                         1    9  \n",
       "metaSPAdes                          8    6  \n",
       "MINIA                               1    8  \n",
       "SKESA                               1    4  \n",
       "SPAdes                             11    5  \n",
       "Unicycler                           9    1  \n",
       "VelvetOptimiser                     1   11  "
      ]
     },
     "metadata": {},
     "output_type": "display_data"
    },
    {
     "name": "stdout",
     "output_type": "stream",
     "text": [
      "ENN\n"
     ]
    },
    {
     "data": {
      "text/html": [
       "<div>\n",
       "<style scoped>\n",
       "    .dataframe tbody tr th:only-of-type {\n",
       "        vertical-align: middle;\n",
       "    }\n",
       "\n",
       "    .dataframe tbody tr th {\n",
       "        vertical-align: top;\n",
       "    }\n",
       "\n",
       "    .dataframe thead th {\n",
       "        text-align: right;\n",
       "    }\n",
       "</style>\n",
       "<table border=\"1\" class=\"dataframe\">\n",
       "  <thead>\n",
       "    <tr style=\"text-align: right;\">\n",
       "      <th></th>\n",
       "      <th>Ns</th>\n",
       "      <th>basepairs</th>\n",
       "      <th>contigs</th>\n",
       "      <th>filtered_Ns</th>\n",
       "      <th>filtered_basepairs</th>\n",
       "      <th>filtered_contigs</th>\n",
       "      <th>filtered_mapped_reads</th>\n",
       "      <th>filtered_n50</th>\n",
       "      <th>mapped_reads</th>\n",
       "      <th>max_contig</th>\n",
       "      <th>misassembled contigs</th>\n",
       "      <th>misassembly events</th>\n",
       "      <th>n50</th>\n",
       "    </tr>\n",
       "    <tr>\n",
       "      <th>Assembler</th>\n",
       "      <th></th>\n",
       "      <th></th>\n",
       "      <th></th>\n",
       "      <th></th>\n",
       "      <th></th>\n",
       "      <th></th>\n",
       "      <th></th>\n",
       "      <th></th>\n",
       "      <th></th>\n",
       "      <th></th>\n",
       "      <th></th>\n",
       "      <th></th>\n",
       "      <th></th>\n",
       "    </tr>\n",
       "  </thead>\n",
       "  <tbody>\n",
       "    <tr>\n",
       "      <th>ABySS</th>\n",
       "      <td>11</td>\n",
       "      <td>12</td>\n",
       "      <td>9</td>\n",
       "      <td>11</td>\n",
       "      <td>12</td>\n",
       "      <td>9</td>\n",
       "      <td>2</td>\n",
       "      <td>7</td>\n",
       "      <td>1</td>\n",
       "      <td>2</td>\n",
       "      <td>8</td>\n",
       "      <td>9</td>\n",
       "      <td>7</td>\n",
       "    </tr>\n",
       "    <tr>\n",
       "      <th>BCALM2</th>\n",
       "      <td>1</td>\n",
       "      <td>11</td>\n",
       "      <td>12</td>\n",
       "      <td>1</td>\n",
       "      <td>1</td>\n",
       "      <td>11</td>\n",
       "      <td>12</td>\n",
       "      <td>11</td>\n",
       "      <td>12</td>\n",
       "      <td>11</td>\n",
       "      <td>1</td>\n",
       "      <td>1</td>\n",
       "      <td>12</td>\n",
       "    </tr>\n",
       "    <tr>\n",
       "      <th>GATBMiniaPipeline</th>\n",
       "      <td>1</td>\n",
       "      <td>5</td>\n",
       "      <td>5</td>\n",
       "      <td>1</td>\n",
       "      <td>8</td>\n",
       "      <td>6</td>\n",
       "      <td>5</td>\n",
       "      <td>6</td>\n",
       "      <td>6</td>\n",
       "      <td>7</td>\n",
       "      <td>6</td>\n",
       "      <td>5</td>\n",
       "      <td>6</td>\n",
       "    </tr>\n",
       "    <tr>\n",
       "      <th>IDBA-UD</th>\n",
       "      <td>1</td>\n",
       "      <td>4</td>\n",
       "      <td>7</td>\n",
       "      <td>1</td>\n",
       "      <td>6</td>\n",
       "      <td>7</td>\n",
       "      <td>8</td>\n",
       "      <td>8</td>\n",
       "      <td>5</td>\n",
       "      <td>9</td>\n",
       "      <td>12</td>\n",
       "      <td>12</td>\n",
       "      <td>8</td>\n",
       "    </tr>\n",
       "    <tr>\n",
       "      <th>MEGAHIT</th>\n",
       "      <td>1</td>\n",
       "      <td>9</td>\n",
       "      <td>2</td>\n",
       "      <td>1</td>\n",
       "      <td>11</td>\n",
       "      <td>4</td>\n",
       "      <td>1</td>\n",
       "      <td>4</td>\n",
       "      <td>2</td>\n",
       "      <td>6</td>\n",
       "      <td>10</td>\n",
       "      <td>10</td>\n",
       "      <td>4</td>\n",
       "    </tr>\n",
       "    <tr>\n",
       "      <th>MetaHipMer2</th>\n",
       "      <td>1</td>\n",
       "      <td>3</td>\n",
       "      <td>3</td>\n",
       "      <td>1</td>\n",
       "      <td>7</td>\n",
       "      <td>5</td>\n",
       "      <td>6</td>\n",
       "      <td>5</td>\n",
       "      <td>8</td>\n",
       "      <td>10</td>\n",
       "      <td>1</td>\n",
       "      <td>1</td>\n",
       "      <td>5</td>\n",
       "    </tr>\n",
       "    <tr>\n",
       "      <th>metaSPAdes</th>\n",
       "      <td>1</td>\n",
       "      <td>7</td>\n",
       "      <td>1</td>\n",
       "      <td>1</td>\n",
       "      <td>10</td>\n",
       "      <td>1</td>\n",
       "      <td>3</td>\n",
       "      <td>1</td>\n",
       "      <td>3</td>\n",
       "      <td>1</td>\n",
       "      <td>5</td>\n",
       "      <td>5</td>\n",
       "      <td>1</td>\n",
       "    </tr>\n",
       "    <tr>\n",
       "      <th>MINIA</th>\n",
       "      <td>1</td>\n",
       "      <td>10</td>\n",
       "      <td>11</td>\n",
       "      <td>1</td>\n",
       "      <td>2</td>\n",
       "      <td>12</td>\n",
       "      <td>11</td>\n",
       "      <td>12</td>\n",
       "      <td>10</td>\n",
       "      <td>11</td>\n",
       "      <td>1</td>\n",
       "      <td>1</td>\n",
       "      <td>11</td>\n",
       "    </tr>\n",
       "    <tr>\n",
       "      <th>SKESA</th>\n",
       "      <td>1</td>\n",
       "      <td>1</td>\n",
       "      <td>8</td>\n",
       "      <td>1</td>\n",
       "      <td>4</td>\n",
       "      <td>8</td>\n",
       "      <td>9</td>\n",
       "      <td>9</td>\n",
       "      <td>9</td>\n",
       "      <td>8</td>\n",
       "      <td>11</td>\n",
       "      <td>11</td>\n",
       "      <td>9</td>\n",
       "    </tr>\n",
       "    <tr>\n",
       "      <th>SPAdes</th>\n",
       "      <td>1</td>\n",
       "      <td>6</td>\n",
       "      <td>6</td>\n",
       "      <td>1</td>\n",
       "      <td>9</td>\n",
       "      <td>3</td>\n",
       "      <td>4</td>\n",
       "      <td>3</td>\n",
       "      <td>4</td>\n",
       "      <td>3</td>\n",
       "      <td>6</td>\n",
       "      <td>5</td>\n",
       "      <td>2</td>\n",
       "    </tr>\n",
       "    <tr>\n",
       "      <th>Unicycler</th>\n",
       "      <td>1</td>\n",
       "      <td>2</td>\n",
       "      <td>4</td>\n",
       "      <td>1</td>\n",
       "      <td>5</td>\n",
       "      <td>2</td>\n",
       "      <td>7</td>\n",
       "      <td>2</td>\n",
       "      <td>7</td>\n",
       "      <td>5</td>\n",
       "      <td>1</td>\n",
       "      <td>1</td>\n",
       "      <td>3</td>\n",
       "    </tr>\n",
       "    <tr>\n",
       "      <th>VelvetOptimiser</th>\n",
       "      <td>12</td>\n",
       "      <td>8</td>\n",
       "      <td>10</td>\n",
       "      <td>12</td>\n",
       "      <td>3</td>\n",
       "      <td>10</td>\n",
       "      <td>10</td>\n",
       "      <td>10</td>\n",
       "      <td>11</td>\n",
       "      <td>4</td>\n",
       "      <td>9</td>\n",
       "      <td>8</td>\n",
       "      <td>10</td>\n",
       "    </tr>\n",
       "  </tbody>\n",
       "</table>\n",
       "</div>"
      ],
      "text/plain": [
       "                   Ns  basepairs  contigs  filtered_Ns  filtered_basepairs  \\\n",
       "Assembler                                                                    \n",
       "ABySS              11         12        9           11                  12   \n",
       "BCALM2              1         11       12            1                   1   \n",
       "GATBMiniaPipeline   1          5        5            1                   8   \n",
       "IDBA-UD             1          4        7            1                   6   \n",
       "MEGAHIT             1          9        2            1                  11   \n",
       "MetaHipMer2         1          3        3            1                   7   \n",
       "metaSPAdes          1          7        1            1                  10   \n",
       "MINIA               1         10       11            1                   2   \n",
       "SKESA               1          1        8            1                   4   \n",
       "SPAdes              1          6        6            1                   9   \n",
       "Unicycler           1          2        4            1                   5   \n",
       "VelvetOptimiser    12          8       10           12                   3   \n",
       "\n",
       "                   filtered_contigs  filtered_mapped_reads  filtered_n50  \\\n",
       "Assembler                                                                  \n",
       "ABySS                             9                      2             7   \n",
       "BCALM2                           11                     12            11   \n",
       "GATBMiniaPipeline                 6                      5             6   \n",
       "IDBA-UD                           7                      8             8   \n",
       "MEGAHIT                           4                      1             4   \n",
       "MetaHipMer2                       5                      6             5   \n",
       "metaSPAdes                        1                      3             1   \n",
       "MINIA                            12                     11            12   \n",
       "SKESA                             8                      9             9   \n",
       "SPAdes                            3                      4             3   \n",
       "Unicycler                         2                      7             2   \n",
       "VelvetOptimiser                  10                     10            10   \n",
       "\n",
       "                   mapped_reads  max_contig  misassembled contigs  \\\n",
       "Assembler                                                           \n",
       "ABySS                         1           2                     8   \n",
       "BCALM2                       12          11                     1   \n",
       "GATBMiniaPipeline             6           7                     6   \n",
       "IDBA-UD                       5           9                    12   \n",
       "MEGAHIT                       2           6                    10   \n",
       "MetaHipMer2                   8          10                     1   \n",
       "metaSPAdes                    3           1                     5   \n",
       "MINIA                        10          11                     1   \n",
       "SKESA                         9           8                    11   \n",
       "SPAdes                        4           3                     6   \n",
       "Unicycler                     7           5                     1   \n",
       "VelvetOptimiser              11           4                     9   \n",
       "\n",
       "                   misassembly events  n50  \n",
       "Assembler                                   \n",
       "ABySS                               9    7  \n",
       "BCALM2                              1   12  \n",
       "GATBMiniaPipeline                   5    6  \n",
       "IDBA-UD                            12    8  \n",
       "MEGAHIT                            10    4  \n",
       "MetaHipMer2                         1    5  \n",
       "metaSPAdes                          5    1  \n",
       "MINIA                               1   11  \n",
       "SKESA                              11    9  \n",
       "SPAdes                              5    2  \n",
       "Unicycler                           1    3  \n",
       "VelvetOptimiser                     8   10  "
      ]
     },
     "metadata": {},
     "output_type": "display_data"
    }
   ],
   "source": [
    "rank_dfs = []\n",
    "for sample,df in best_stats_dfs:\n",
    "    print(sample)\n",
    "    #display(df)\n",
    "    \n",
    "    rank_df = pd.DataFrame(index=df.index)\n",
    "    \n",
    "    for column in df.columns:\n",
    "        \n",
    "        if \"basepairs\" in column:\n",
    "            target = 30946587\n",
    "            diffs = []\n",
    "            for item in df[column]:\n",
    "                diff = abs(item - target)\n",
    "                diffs.append(item)\n",
    "            sorted_column = sorted(diffs)\n",
    "            \n",
    "            rank_list = []\n",
    "            for item in diffs:\n",
    "                rank_list.append(sorted_column.index(item) + 1)\n",
    "            \n",
    "        else:\n",
    "            sorted_order = True if column in best_min else False\n",
    "            sorted_column = list(df[column].sort_values(ascending=sorted_order))\n",
    "\n",
    "            rank_list = []\n",
    "            for item in df[column]:\n",
    "                rank_list.append(sorted_column.index(item) + 1)\n",
    "        \n",
    "        rank_df[column] = rank_list \n",
    "    display(rank_df)\n",
    "    rank_df.to_csv(\"Tables/Results/Rank Global metrics per assembler - {}.csv\".format(sample))\n",
    "    rank_dfs.append([sample, rank_df])\n",
    "            "
   ]
  },
  {
   "cell_type": "markdown",
   "metadata": {},
   "source": [
    "#### radar plots"
   ]
  },
  {
   "cell_type": "code",
   "execution_count": 205,
   "metadata": {
    "scrolled": false
   },
   "outputs": [
    {
     "data": {
      "application/vnd.plotly.v1+json": {
       "config": {
        "plotlyServerURL": "https://plot.ly"
       },
       "data": [
        {
         "line": {
          "color": "#5876c8"
         },
         "name": "ABySS",
         "r": [
          11,
          12,
          2,
          10,
          1,
          11
         ],
         "showlegend": true,
         "subplot": "polar",
         "theta": [
          "Contigs",
          "Basepairs",
          "Largest contig",
          "N50",
          "% Mapped reads",
          "Uncalled bases"
         ],
         "type": "scatterpolar"
        },
        {
         "line": {
          "color": "#5876c8"
         },
         "name": "ABySS",
         "r": [
          11,
          6,
          5,
          5,
          12,
          1,
          1
         ],
         "showlegend": false,
         "subplot": "polar2",
         "theta": [
          "Contigs",
          "Basepairs",
          "N50",
          "% Mapped reads",
          "Uncalled bases",
          "Misassembled contigs",
          "Misassembly events"
         ],
         "type": "scatterpolar"
        },
        {
         "line": {
          "color": "#58AEC8"
         },
         "name": "BCALM2",
         "r": [
          12,
          10,
          10,
          9,
          10,
          1
         ],
         "showlegend": true,
         "subplot": "polar",
         "theta": [
          "Contigs",
          "Basepairs",
          "Largest contig",
          "N50",
          "% Mapped reads",
          "Uncalled bases"
         ],
         "type": "scatterpolar"
        },
        {
         "line": {
          "color": "#58AEC8"
         },
         "name": "BCALM2",
         "r": [
          10,
          4,
          10,
          10,
          1,
          1,
          1
         ],
         "showlegend": false,
         "subplot": "polar2",
         "theta": [
          "Contigs",
          "Basepairs",
          "N50",
          "% Mapped reads",
          "Uncalled bases",
          "Misassembled contigs",
          "Misassembly events"
         ],
         "type": "scatterpolar"
        },
        {
         "line": {
          "color": "#009392"
         },
         "name": "GATBMiniaPipeline",
         "r": [
          3,
          4,
          7,
          4,
          4,
          1
         ],
         "showlegend": true,
         "subplot": "polar",
         "theta": [
          "Contigs",
          "Basepairs",
          "Largest contig",
          "N50",
          "% Mapped reads",
          "Uncalled bases"
         ],
         "type": "scatterpolar"
        },
        {
         "line": {
          "color": "#009392"
         },
         "name": "GATBMiniaPipeline",
         "r": [
          6,
          9,
          6,
          6,
          1,
          7,
          9
         ],
         "showlegend": false,
         "subplot": "polar2",
         "theta": [
          "Contigs",
          "Basepairs",
          "N50",
          "% Mapped reads",
          "Uncalled bases",
          "Misassembled contigs",
          "Misassembly events"
         ],
         "type": "scatterpolar"
        },
        {
         "line": {
          "color": "#39B185"
         },
         "name": "IDBA-UD",
         "r": [
          5,
          5,
          8,
          7,
          6,
          1
         ],
         "showlegend": true,
         "subplot": "polar",
         "theta": [
          "Contigs",
          "Basepairs",
          "Largest contig",
          "N50",
          "% Mapped reads",
          "Uncalled bases"
         ],
         "type": "scatterpolar"
        },
        {
         "line": {
          "color": "#39B185"
         },
         "name": "IDBA-UD",
         "r": [
          8,
          8,
          8,
          4,
          1,
          10,
          7
         ],
         "showlegend": false,
         "subplot": "polar2",
         "theta": [
          "Contigs",
          "Basepairs",
          "N50",
          "% Mapped reads",
          "Uncalled bases",
          "Misassembled contigs",
          "Misassembly events"
         ],
         "type": "scatterpolar"
        },
        {
         "line": {
          "color": "#9CCB86"
         },
         "name": "MEGAHIT",
         "r": [
          4,
          6,
          1,
          3,
          3,
          1
         ],
         "showlegend": true,
         "subplot": "polar",
         "theta": [
          "Contigs",
          "Basepairs",
          "Largest contig",
          "N50",
          "% Mapped reads",
          "Uncalled bases"
         ],
         "type": "scatterpolar"
        },
        {
         "line": {
          "color": "#9CCB86"
         },
         "name": "MEGAHIT",
         "r": [
          4,
          12,
          3,
          1,
          1,
          7,
          7
         ],
         "showlegend": false,
         "subplot": "polar2",
         "theta": [
          "Contigs",
          "Basepairs",
          "N50",
          "% Mapped reads",
          "Uncalled bases",
          "Misassembled contigs",
          "Misassembly events"
         ],
         "type": "scatterpolar"
        },
        {
         "line": {
          "color": "#E9E29C"
         },
         "name": "MetaHipMer2",
         "r": [
          1,
          1,
          12,
          12,
          12,
          1
         ],
         "showlegend": true,
         "subplot": "polar",
         "theta": [
          "Contigs",
          "Basepairs",
          "Largest contig",
          "N50",
          "% Mapped reads",
          "Uncalled bases"
         ],
         "type": "scatterpolar"
        },
        {
         "line": {
          "color": "#E9E29C"
         },
         "name": "MetaHipMer2",
         "r": [
          1,
          1,
          12,
          12,
          1,
          1,
          1
         ],
         "showlegend": false,
         "subplot": "polar2",
         "theta": [
          "Contigs",
          "Basepairs",
          "N50",
          "% Mapped reads",
          "Uncalled bases",
          "Misassembled contigs",
          "Misassembly events"
         ],
         "type": "scatterpolar"
        },
        {
         "line": {
          "color": "#EEB479"
         },
         "name": "metaSPAdes",
         "r": [
          6,
          7,
          3,
          2,
          2,
          1
         ],
         "showlegend": true,
         "subplot": "polar",
         "theta": [
          "Contigs",
          "Basepairs",
          "Largest contig",
          "N50",
          "% Mapped reads",
          "Uncalled bases"
         ],
         "type": "scatterpolar"
        },
        {
         "line": {
          "color": "#EEB479"
         },
         "name": "metaSPAdes",
         "r": [
          3,
          11,
          2,
          2,
          1,
          7,
          9
         ],
         "showlegend": false,
         "subplot": "polar2",
         "theta": [
          "Contigs",
          "Basepairs",
          "N50",
          "% Mapped reads",
          "Uncalled bases",
          "Misassembled contigs",
          "Misassembly events"
         ],
         "type": "scatterpolar"
        },
        {
         "line": {
          "color": "#E88471"
         },
         "name": "MINIA",
         "r": [
          9,
          9,
          9,
          8,
          8,
          1
         ],
         "showlegend": true,
         "subplot": "polar",
         "theta": [
          "Contigs",
          "Basepairs",
          "Largest contig",
          "N50",
          "% Mapped reads",
          "Uncalled bases"
         ],
         "type": "scatterpolar"
        },
        {
         "line": {
          "color": "#E88471"
         },
         "name": "MINIA",
         "r": [
          9,
          5,
          9,
          9,
          1,
          10,
          11
         ],
         "showlegend": false,
         "subplot": "polar2",
         "theta": [
          "Contigs",
          "Basepairs",
          "N50",
          "% Mapped reads",
          "Uncalled bases",
          "Misassembled contigs",
          "Misassembly events"
         ],
         "type": "scatterpolar"
        },
        {
         "line": {
          "color": "#CF597E"
         },
         "name": "SKESA",
         "r": [
          8,
          2,
          11,
          11,
          11,
          1
         ],
         "showlegend": true,
         "subplot": "polar",
         "theta": [
          "Contigs",
          "Basepairs",
          "Largest contig",
          "N50",
          "% Mapped reads",
          "Uncalled bases"
         ],
         "type": "scatterpolar"
        },
        {
         "line": {
          "color": "#CF597E"
         },
         "name": "SKESA",
         "r": [
          12,
          2,
          11,
          11,
          1,
          12,
          12
         ],
         "showlegend": false,
         "subplot": "polar2",
         "theta": [
          "Contigs",
          "Basepairs",
          "N50",
          "% Mapped reads",
          "Uncalled bases",
          "Misassembled contigs",
          "Misassembly events"
         ],
         "type": "scatterpolar"
        },
        {
         "line": {
          "color": "#a54765"
         },
         "name": "SPAdes",
         "r": [
          7,
          8,
          6,
          5,
          5,
          1
         ],
         "showlegend": true,
         "subplot": "polar",
         "theta": [
          "Contigs",
          "Basepairs",
          "Largest contig",
          "N50",
          "% Mapped reads",
          "Uncalled bases"
         ],
         "type": "scatterpolar"
        },
        {
         "line": {
          "color": "#a54765"
         },
         "name": "SPAdes",
         "r": [
          7,
          7,
          7,
          2,
          1,
          1,
          1
         ],
         "showlegend": false,
         "subplot": "polar2",
         "theta": [
          "Contigs",
          "Basepairs",
          "N50",
          "% Mapped reads",
          "Uncalled bases",
          "Misassembled contigs",
          "Misassembly events"
         ],
         "type": "scatterpolar"
        },
        {
         "line": {
          "color": "#a42a2a"
         },
         "name": "Unicycler",
         "r": [
          2,
          3,
          4,
          1,
          7,
          1
         ],
         "showlegend": true,
         "subplot": "polar",
         "theta": [
          "Contigs",
          "Basepairs",
          "Largest contig",
          "N50",
          "% Mapped reads",
          "Uncalled bases"
         ],
         "type": "scatterpolar"
        },
        {
         "line": {
          "color": "#a42a2a"
         },
         "name": "Unicycler",
         "r": [
          2,
          3,
          1,
          7,
          1,
          1,
          1
         ],
         "showlegend": false,
         "subplot": "polar2",
         "theta": [
          "Contigs",
          "Basepairs",
          "N50",
          "% Mapped reads",
          "Uncalled bases",
          "Misassembled contigs",
          "Misassembly events"
         ],
         "type": "scatterpolar"
        },
        {
         "line": {
          "color": "#835221"
         },
         "name": "VelvetOptimiser",
         "r": [
          10,
          11,
          5,
          6,
          9,
          12
         ],
         "showlegend": true,
         "subplot": "polar",
         "theta": [
          "Contigs",
          "Basepairs",
          "Largest contig",
          "N50",
          "% Mapped reads",
          "Uncalled bases"
         ],
         "type": "scatterpolar"
        },
        {
         "line": {
          "color": "#835221"
         },
         "name": "VelvetOptimiser",
         "r": [
          5,
          10,
          4,
          8,
          1,
          1,
          1
         ],
         "showlegend": false,
         "subplot": "polar2",
         "theta": [
          "Contigs",
          "Basepairs",
          "N50",
          "% Mapped reads",
          "Uncalled bases",
          "Misassembled contigs",
          "Misassembly events"
         ],
         "type": "scatterpolar"
        }
       ],
       "layout": {
        "annotations": [
         {
          "font": {
           "size": 16
          },
          "showarrow": false,
          "text": "Original",
          "x": 0.225,
          "xanchor": "center",
          "xref": "paper",
          "y": 1,
          "yanchor": "bottom",
          "yref": "paper"
         },
         {
          "font": {
           "size": 16
          },
          "showarrow": false,
          "text": "Filtered",
          "x": 0.775,
          "xanchor": "center",
          "xref": "paper",
          "y": 1,
          "yanchor": "bottom",
          "yref": "paper"
         }
        ],
        "polar": {
         "angularaxis": {
          "categoryarray": [
           "Contigs",
           "Basepairs",
           "Largest contig",
           "N50",
           "% Mapped reads",
           "Uncalled bases"
          ],
          "linecolor": "black"
         },
         "bgcolor": "rgb(255,255,255)",
         "domain": {
          "x": [
           0,
           0.45
          ],
          "y": [
           0,
           1
          ]
         },
         "hole": 0.08333333333333333,
         "radialaxis": {
          "angle": -22.5,
          "autorange": "reversed",
          "gridcolor": "#DCDCDC",
          "linecolor": "black",
          "linewidth": 2,
          "range": [
           1,
           12
          ],
          "visible": true
         }
        },
        "polar2": {
         "angularaxis": {
          "categoryarray": [
           "Contigs",
           "Basepairs",
           "N50",
           "% Mapped reads",
           "Uncalled bases",
           "Misassembled contigs",
           "Misassembly events"
          ],
          "linecolor": "black"
         },
         "bgcolor": "rgb(255,255,255)",
         "domain": {
          "x": [
           0.55,
           1
          ],
          "y": [
           0,
           1
          ]
         },
         "hole": 0.08333333333333333,
         "radialaxis": {
          "angle": -22.5,
          "autorange": "reversed",
          "gridcolor": "#DCDCDC",
          "linecolor": "black",
          "linewidth": 2,
          "range": [
           1,
           12
          ],
          "visible": true
         }
        },
        "template": {
         "data": {
          "bar": [
           {
            "error_x": {
             "color": "#2a3f5f"
            },
            "error_y": {
             "color": "#2a3f5f"
            },
            "marker": {
             "line": {
              "color": "#E5ECF6",
              "width": 0.5
             },
             "pattern": {
              "fillmode": "overlay",
              "size": 10,
              "solidity": 0.2
             }
            },
            "type": "bar"
           }
          ],
          "barpolar": [
           {
            "marker": {
             "line": {
              "color": "#E5ECF6",
              "width": 0.5
             },
             "pattern": {
              "fillmode": "overlay",
              "size": 10,
              "solidity": 0.2
             }
            },
            "type": "barpolar"
           }
          ],
          "carpet": [
           {
            "aaxis": {
             "endlinecolor": "#2a3f5f",
             "gridcolor": "white",
             "linecolor": "white",
             "minorgridcolor": "white",
             "startlinecolor": "#2a3f5f"
            },
            "baxis": {
             "endlinecolor": "#2a3f5f",
             "gridcolor": "white",
             "linecolor": "white",
             "minorgridcolor": "white",
             "startlinecolor": "#2a3f5f"
            },
            "type": "carpet"
           }
          ],
          "choropleth": [
           {
            "colorbar": {
             "outlinewidth": 0,
             "ticks": ""
            },
            "type": "choropleth"
           }
          ],
          "contour": [
           {
            "colorbar": {
             "outlinewidth": 0,
             "ticks": ""
            },
            "colorscale": [
             [
              0,
              "#0d0887"
             ],
             [
              0.1111111111111111,
              "#46039f"
             ],
             [
              0.2222222222222222,
              "#7201a8"
             ],
             [
              0.3333333333333333,
              "#9c179e"
             ],
             [
              0.4444444444444444,
              "#bd3786"
             ],
             [
              0.5555555555555556,
              "#d8576b"
             ],
             [
              0.6666666666666666,
              "#ed7953"
             ],
             [
              0.7777777777777778,
              "#fb9f3a"
             ],
             [
              0.8888888888888888,
              "#fdca26"
             ],
             [
              1,
              "#f0f921"
             ]
            ],
            "type": "contour"
           }
          ],
          "contourcarpet": [
           {
            "colorbar": {
             "outlinewidth": 0,
             "ticks": ""
            },
            "type": "contourcarpet"
           }
          ],
          "heatmap": [
           {
            "colorbar": {
             "outlinewidth": 0,
             "ticks": ""
            },
            "colorscale": [
             [
              0,
              "#0d0887"
             ],
             [
              0.1111111111111111,
              "#46039f"
             ],
             [
              0.2222222222222222,
              "#7201a8"
             ],
             [
              0.3333333333333333,
              "#9c179e"
             ],
             [
              0.4444444444444444,
              "#bd3786"
             ],
             [
              0.5555555555555556,
              "#d8576b"
             ],
             [
              0.6666666666666666,
              "#ed7953"
             ],
             [
              0.7777777777777778,
              "#fb9f3a"
             ],
             [
              0.8888888888888888,
              "#fdca26"
             ],
             [
              1,
              "#f0f921"
             ]
            ],
            "type": "heatmap"
           }
          ],
          "heatmapgl": [
           {
            "colorbar": {
             "outlinewidth": 0,
             "ticks": ""
            },
            "colorscale": [
             [
              0,
              "#0d0887"
             ],
             [
              0.1111111111111111,
              "#46039f"
             ],
             [
              0.2222222222222222,
              "#7201a8"
             ],
             [
              0.3333333333333333,
              "#9c179e"
             ],
             [
              0.4444444444444444,
              "#bd3786"
             ],
             [
              0.5555555555555556,
              "#d8576b"
             ],
             [
              0.6666666666666666,
              "#ed7953"
             ],
             [
              0.7777777777777778,
              "#fb9f3a"
             ],
             [
              0.8888888888888888,
              "#fdca26"
             ],
             [
              1,
              "#f0f921"
             ]
            ],
            "type": "heatmapgl"
           }
          ],
          "histogram": [
           {
            "marker": {
             "pattern": {
              "fillmode": "overlay",
              "size": 10,
              "solidity": 0.2
             }
            },
            "type": "histogram"
           }
          ],
          "histogram2d": [
           {
            "colorbar": {
             "outlinewidth": 0,
             "ticks": ""
            },
            "colorscale": [
             [
              0,
              "#0d0887"
             ],
             [
              0.1111111111111111,
              "#46039f"
             ],
             [
              0.2222222222222222,
              "#7201a8"
             ],
             [
              0.3333333333333333,
              "#9c179e"
             ],
             [
              0.4444444444444444,
              "#bd3786"
             ],
             [
              0.5555555555555556,
              "#d8576b"
             ],
             [
              0.6666666666666666,
              "#ed7953"
             ],
             [
              0.7777777777777778,
              "#fb9f3a"
             ],
             [
              0.8888888888888888,
              "#fdca26"
             ],
             [
              1,
              "#f0f921"
             ]
            ],
            "type": "histogram2d"
           }
          ],
          "histogram2dcontour": [
           {
            "colorbar": {
             "outlinewidth": 0,
             "ticks": ""
            },
            "colorscale": [
             [
              0,
              "#0d0887"
             ],
             [
              0.1111111111111111,
              "#46039f"
             ],
             [
              0.2222222222222222,
              "#7201a8"
             ],
             [
              0.3333333333333333,
              "#9c179e"
             ],
             [
              0.4444444444444444,
              "#bd3786"
             ],
             [
              0.5555555555555556,
              "#d8576b"
             ],
             [
              0.6666666666666666,
              "#ed7953"
             ],
             [
              0.7777777777777778,
              "#fb9f3a"
             ],
             [
              0.8888888888888888,
              "#fdca26"
             ],
             [
              1,
              "#f0f921"
             ]
            ],
            "type": "histogram2dcontour"
           }
          ],
          "mesh3d": [
           {
            "colorbar": {
             "outlinewidth": 0,
             "ticks": ""
            },
            "type": "mesh3d"
           }
          ],
          "parcoords": [
           {
            "line": {
             "colorbar": {
              "outlinewidth": 0,
              "ticks": ""
             }
            },
            "type": "parcoords"
           }
          ],
          "pie": [
           {
            "automargin": true,
            "type": "pie"
           }
          ],
          "scatter": [
           {
            "marker": {
             "colorbar": {
              "outlinewidth": 0,
              "ticks": ""
             }
            },
            "type": "scatter"
           }
          ],
          "scatter3d": [
           {
            "line": {
             "colorbar": {
              "outlinewidth": 0,
              "ticks": ""
             }
            },
            "marker": {
             "colorbar": {
              "outlinewidth": 0,
              "ticks": ""
             }
            },
            "type": "scatter3d"
           }
          ],
          "scattercarpet": [
           {
            "marker": {
             "colorbar": {
              "outlinewidth": 0,
              "ticks": ""
             }
            },
            "type": "scattercarpet"
           }
          ],
          "scattergeo": [
           {
            "marker": {
             "colorbar": {
              "outlinewidth": 0,
              "ticks": ""
             }
            },
            "type": "scattergeo"
           }
          ],
          "scattergl": [
           {
            "marker": {
             "colorbar": {
              "outlinewidth": 0,
              "ticks": ""
             }
            },
            "type": "scattergl"
           }
          ],
          "scattermapbox": [
           {
            "marker": {
             "colorbar": {
              "outlinewidth": 0,
              "ticks": ""
             }
            },
            "type": "scattermapbox"
           }
          ],
          "scatterpolar": [
           {
            "marker": {
             "colorbar": {
              "outlinewidth": 0,
              "ticks": ""
             }
            },
            "type": "scatterpolar"
           }
          ],
          "scatterpolargl": [
           {
            "marker": {
             "colorbar": {
              "outlinewidth": 0,
              "ticks": ""
             }
            },
            "type": "scatterpolargl"
           }
          ],
          "scatterternary": [
           {
            "marker": {
             "colorbar": {
              "outlinewidth": 0,
              "ticks": ""
             }
            },
            "type": "scatterternary"
           }
          ],
          "surface": [
           {
            "colorbar": {
             "outlinewidth": 0,
             "ticks": ""
            },
            "colorscale": [
             [
              0,
              "#0d0887"
             ],
             [
              0.1111111111111111,
              "#46039f"
             ],
             [
              0.2222222222222222,
              "#7201a8"
             ],
             [
              0.3333333333333333,
              "#9c179e"
             ],
             [
              0.4444444444444444,
              "#bd3786"
             ],
             [
              0.5555555555555556,
              "#d8576b"
             ],
             [
              0.6666666666666666,
              "#ed7953"
             ],
             [
              0.7777777777777778,
              "#fb9f3a"
             ],
             [
              0.8888888888888888,
              "#fdca26"
             ],
             [
              1,
              "#f0f921"
             ]
            ],
            "type": "surface"
           }
          ],
          "table": [
           {
            "cells": {
             "fill": {
              "color": "#EBF0F8"
             },
             "line": {
              "color": "white"
             }
            },
            "header": {
             "fill": {
              "color": "#C8D4E3"
             },
             "line": {
              "color": "white"
             }
            },
            "type": "table"
           }
          ]
         },
         "layout": {
          "annotationdefaults": {
           "arrowcolor": "#2a3f5f",
           "arrowhead": 0,
           "arrowwidth": 1
          },
          "autotypenumbers": "strict",
          "coloraxis": {
           "colorbar": {
            "outlinewidth": 0,
            "ticks": ""
           }
          },
          "colorscale": {
           "diverging": [
            [
             0,
             "#8e0152"
            ],
            [
             0.1,
             "#c51b7d"
            ],
            [
             0.2,
             "#de77ae"
            ],
            [
             0.3,
             "#f1b6da"
            ],
            [
             0.4,
             "#fde0ef"
            ],
            [
             0.5,
             "#f7f7f7"
            ],
            [
             0.6,
             "#e6f5d0"
            ],
            [
             0.7,
             "#b8e186"
            ],
            [
             0.8,
             "#7fbc41"
            ],
            [
             0.9,
             "#4d9221"
            ],
            [
             1,
             "#276419"
            ]
           ],
           "sequential": [
            [
             0,
             "#0d0887"
            ],
            [
             0.1111111111111111,
             "#46039f"
            ],
            [
             0.2222222222222222,
             "#7201a8"
            ],
            [
             0.3333333333333333,
             "#9c179e"
            ],
            [
             0.4444444444444444,
             "#bd3786"
            ],
            [
             0.5555555555555556,
             "#d8576b"
            ],
            [
             0.6666666666666666,
             "#ed7953"
            ],
            [
             0.7777777777777778,
             "#fb9f3a"
            ],
            [
             0.8888888888888888,
             "#fdca26"
            ],
            [
             1,
             "#f0f921"
            ]
           ],
           "sequentialminus": [
            [
             0,
             "#0d0887"
            ],
            [
             0.1111111111111111,
             "#46039f"
            ],
            [
             0.2222222222222222,
             "#7201a8"
            ],
            [
             0.3333333333333333,
             "#9c179e"
            ],
            [
             0.4444444444444444,
             "#bd3786"
            ],
            [
             0.5555555555555556,
             "#d8576b"
            ],
            [
             0.6666666666666666,
             "#ed7953"
            ],
            [
             0.7777777777777778,
             "#fb9f3a"
            ],
            [
             0.8888888888888888,
             "#fdca26"
            ],
            [
             1,
             "#f0f921"
            ]
           ]
          },
          "colorway": [
           "#636efa",
           "#EF553B",
           "#00cc96",
           "#ab63fa",
           "#FFA15A",
           "#19d3f3",
           "#FF6692",
           "#B6E880",
           "#FF97FF",
           "#FECB52"
          ],
          "font": {
           "color": "#2a3f5f"
          },
          "geo": {
           "bgcolor": "white",
           "lakecolor": "white",
           "landcolor": "#E5ECF6",
           "showlakes": true,
           "showland": true,
           "subunitcolor": "white"
          },
          "hoverlabel": {
           "align": "left"
          },
          "hovermode": "closest",
          "mapbox": {
           "style": "light"
          },
          "paper_bgcolor": "white",
          "plot_bgcolor": "#E5ECF6",
          "polar": {
           "angularaxis": {
            "gridcolor": "white",
            "linecolor": "white",
            "ticks": ""
           },
           "bgcolor": "#E5ECF6",
           "radialaxis": {
            "gridcolor": "white",
            "linecolor": "white",
            "ticks": ""
           }
          },
          "scene": {
           "xaxis": {
            "backgroundcolor": "#E5ECF6",
            "gridcolor": "white",
            "gridwidth": 2,
            "linecolor": "white",
            "showbackground": true,
            "ticks": "",
            "zerolinecolor": "white"
           },
           "yaxis": {
            "backgroundcolor": "#E5ECF6",
            "gridcolor": "white",
            "gridwidth": 2,
            "linecolor": "white",
            "showbackground": true,
            "ticks": "",
            "zerolinecolor": "white"
           },
           "zaxis": {
            "backgroundcolor": "#E5ECF6",
            "gridcolor": "white",
            "gridwidth": 2,
            "linecolor": "white",
            "showbackground": true,
            "ticks": "",
            "zerolinecolor": "white"
           }
          },
          "shapedefaults": {
           "line": {
            "color": "#2a3f5f"
           }
          },
          "ternary": {
           "aaxis": {
            "gridcolor": "white",
            "linecolor": "white",
            "ticks": ""
           },
           "baxis": {
            "gridcolor": "white",
            "linecolor": "white",
            "ticks": ""
           },
           "bgcolor": "#E5ECF6",
           "caxis": {
            "gridcolor": "white",
            "linecolor": "white",
            "ticks": ""
           }
          },
          "title": {
           "x": 0.05
          },
          "xaxis": {
           "automargin": true,
           "gridcolor": "white",
           "linecolor": "white",
           "ticks": "",
           "title": {
            "standoff": 15
           },
           "zerolinecolor": "white",
           "zerolinewidth": 2
          },
          "yaxis": {
           "automargin": true,
           "gridcolor": "white",
           "linecolor": "white",
           "ticks": "",
           "title": {
            "standoff": 15
           },
           "zerolinecolor": "white",
           "zerolinewidth": 2
          }
         }
        },
        "title": {
         "text": "LNN"
        }
       }
      },
      "text/html": [
       "<div>                            <div id=\"bd03e21a-a092-486a-b584-12c463223c2f\" class=\"plotly-graph-div\" style=\"height:525px; width:100%;\"></div>            <script type=\"text/javascript\">                require([\"plotly\"], function(Plotly) {                    window.PLOTLYENV=window.PLOTLYENV || {};                                    if (document.getElementById(\"bd03e21a-a092-486a-b584-12c463223c2f\")) {                    Plotly.newPlot(                        \"bd03e21a-a092-486a-b584-12c463223c2f\",                        [{\"line\":{\"color\":\"#5876c8\"},\"name\":\"ABySS\",\"r\":[11,12,2,10,1,11],\"showlegend\":true,\"subplot\":\"polar\",\"theta\":[\"Contigs\",\"Basepairs\",\"Largest contig\",\"N50\",\"% Mapped reads\",\"Uncalled bases\"],\"type\":\"scatterpolar\"},{\"line\":{\"color\":\"#5876c8\"},\"name\":\"ABySS\",\"r\":[11,6,5,5,12,1,1],\"showlegend\":false,\"subplot\":\"polar2\",\"theta\":[\"Contigs\",\"Basepairs\",\"N50\",\"% Mapped reads\",\"Uncalled bases\",\"Misassembled contigs\",\"Misassembly events\"],\"type\":\"scatterpolar\"},{\"line\":{\"color\":\"#58AEC8\"},\"name\":\"BCALM2\",\"r\":[12,10,10,9,10,1],\"showlegend\":true,\"subplot\":\"polar\",\"theta\":[\"Contigs\",\"Basepairs\",\"Largest contig\",\"N50\",\"% Mapped reads\",\"Uncalled bases\"],\"type\":\"scatterpolar\"},{\"line\":{\"color\":\"#58AEC8\"},\"name\":\"BCALM2\",\"r\":[10,4,10,10,1,1,1],\"showlegend\":false,\"subplot\":\"polar2\",\"theta\":[\"Contigs\",\"Basepairs\",\"N50\",\"% Mapped reads\",\"Uncalled bases\",\"Misassembled contigs\",\"Misassembly events\"],\"type\":\"scatterpolar\"},{\"line\":{\"color\":\"#009392\"},\"name\":\"GATBMiniaPipeline\",\"r\":[3,4,7,4,4,1],\"showlegend\":true,\"subplot\":\"polar\",\"theta\":[\"Contigs\",\"Basepairs\",\"Largest contig\",\"N50\",\"% Mapped reads\",\"Uncalled bases\"],\"type\":\"scatterpolar\"},{\"line\":{\"color\":\"#009392\"},\"name\":\"GATBMiniaPipeline\",\"r\":[6,9,6,6,1,7,9],\"showlegend\":false,\"subplot\":\"polar2\",\"theta\":[\"Contigs\",\"Basepairs\",\"N50\",\"% Mapped reads\",\"Uncalled bases\",\"Misassembled contigs\",\"Misassembly events\"],\"type\":\"scatterpolar\"},{\"line\":{\"color\":\"#39B185\"},\"name\":\"IDBA-UD\",\"r\":[5,5,8,7,6,1],\"showlegend\":true,\"subplot\":\"polar\",\"theta\":[\"Contigs\",\"Basepairs\",\"Largest contig\",\"N50\",\"% Mapped reads\",\"Uncalled bases\"],\"type\":\"scatterpolar\"},{\"line\":{\"color\":\"#39B185\"},\"name\":\"IDBA-UD\",\"r\":[8,8,8,4,1,10,7],\"showlegend\":false,\"subplot\":\"polar2\",\"theta\":[\"Contigs\",\"Basepairs\",\"N50\",\"% Mapped reads\",\"Uncalled bases\",\"Misassembled contigs\",\"Misassembly events\"],\"type\":\"scatterpolar\"},{\"line\":{\"color\":\"#9CCB86\"},\"name\":\"MEGAHIT\",\"r\":[4,6,1,3,3,1],\"showlegend\":true,\"subplot\":\"polar\",\"theta\":[\"Contigs\",\"Basepairs\",\"Largest contig\",\"N50\",\"% Mapped reads\",\"Uncalled bases\"],\"type\":\"scatterpolar\"},{\"line\":{\"color\":\"#9CCB86\"},\"name\":\"MEGAHIT\",\"r\":[4,12,3,1,1,7,7],\"showlegend\":false,\"subplot\":\"polar2\",\"theta\":[\"Contigs\",\"Basepairs\",\"N50\",\"% Mapped reads\",\"Uncalled bases\",\"Misassembled contigs\",\"Misassembly events\"],\"type\":\"scatterpolar\"},{\"line\":{\"color\":\"#E9E29C\"},\"name\":\"MetaHipMer2\",\"r\":[1,1,12,12,12,1],\"showlegend\":true,\"subplot\":\"polar\",\"theta\":[\"Contigs\",\"Basepairs\",\"Largest contig\",\"N50\",\"% Mapped reads\",\"Uncalled bases\"],\"type\":\"scatterpolar\"},{\"line\":{\"color\":\"#E9E29C\"},\"name\":\"MetaHipMer2\",\"r\":[1,1,12,12,1,1,1],\"showlegend\":false,\"subplot\":\"polar2\",\"theta\":[\"Contigs\",\"Basepairs\",\"N50\",\"% Mapped reads\",\"Uncalled bases\",\"Misassembled contigs\",\"Misassembly events\"],\"type\":\"scatterpolar\"},{\"line\":{\"color\":\"#EEB479\"},\"name\":\"metaSPAdes\",\"r\":[6,7,3,2,2,1],\"showlegend\":true,\"subplot\":\"polar\",\"theta\":[\"Contigs\",\"Basepairs\",\"Largest contig\",\"N50\",\"% Mapped reads\",\"Uncalled bases\"],\"type\":\"scatterpolar\"},{\"line\":{\"color\":\"#EEB479\"},\"name\":\"metaSPAdes\",\"r\":[3,11,2,2,1,7,9],\"showlegend\":false,\"subplot\":\"polar2\",\"theta\":[\"Contigs\",\"Basepairs\",\"N50\",\"% Mapped reads\",\"Uncalled bases\",\"Misassembled contigs\",\"Misassembly events\"],\"type\":\"scatterpolar\"},{\"line\":{\"color\":\"#E88471\"},\"name\":\"MINIA\",\"r\":[9,9,9,8,8,1],\"showlegend\":true,\"subplot\":\"polar\",\"theta\":[\"Contigs\",\"Basepairs\",\"Largest contig\",\"N50\",\"% Mapped reads\",\"Uncalled bases\"],\"type\":\"scatterpolar\"},{\"line\":{\"color\":\"#E88471\"},\"name\":\"MINIA\",\"r\":[9,5,9,9,1,10,11],\"showlegend\":false,\"subplot\":\"polar2\",\"theta\":[\"Contigs\",\"Basepairs\",\"N50\",\"% Mapped reads\",\"Uncalled bases\",\"Misassembled contigs\",\"Misassembly events\"],\"type\":\"scatterpolar\"},{\"line\":{\"color\":\"#CF597E\"},\"name\":\"SKESA\",\"r\":[8,2,11,11,11,1],\"showlegend\":true,\"subplot\":\"polar\",\"theta\":[\"Contigs\",\"Basepairs\",\"Largest contig\",\"N50\",\"% Mapped reads\",\"Uncalled bases\"],\"type\":\"scatterpolar\"},{\"line\":{\"color\":\"#CF597E\"},\"name\":\"SKESA\",\"r\":[12,2,11,11,1,12,12],\"showlegend\":false,\"subplot\":\"polar2\",\"theta\":[\"Contigs\",\"Basepairs\",\"N50\",\"% Mapped reads\",\"Uncalled bases\",\"Misassembled contigs\",\"Misassembly events\"],\"type\":\"scatterpolar\"},{\"line\":{\"color\":\"#a54765\"},\"name\":\"SPAdes\",\"r\":[7,8,6,5,5,1],\"showlegend\":true,\"subplot\":\"polar\",\"theta\":[\"Contigs\",\"Basepairs\",\"Largest contig\",\"N50\",\"% Mapped reads\",\"Uncalled bases\"],\"type\":\"scatterpolar\"},{\"line\":{\"color\":\"#a54765\"},\"name\":\"SPAdes\",\"r\":[7,7,7,2,1,1,1],\"showlegend\":false,\"subplot\":\"polar2\",\"theta\":[\"Contigs\",\"Basepairs\",\"N50\",\"% Mapped reads\",\"Uncalled bases\",\"Misassembled contigs\",\"Misassembly events\"],\"type\":\"scatterpolar\"},{\"line\":{\"color\":\"#a42a2a\"},\"name\":\"Unicycler\",\"r\":[2,3,4,1,7,1],\"showlegend\":true,\"subplot\":\"polar\",\"theta\":[\"Contigs\",\"Basepairs\",\"Largest contig\",\"N50\",\"% Mapped reads\",\"Uncalled bases\"],\"type\":\"scatterpolar\"},{\"line\":{\"color\":\"#a42a2a\"},\"name\":\"Unicycler\",\"r\":[2,3,1,7,1,1,1],\"showlegend\":false,\"subplot\":\"polar2\",\"theta\":[\"Contigs\",\"Basepairs\",\"N50\",\"% Mapped reads\",\"Uncalled bases\",\"Misassembled contigs\",\"Misassembly events\"],\"type\":\"scatterpolar\"},{\"line\":{\"color\":\"#835221\"},\"name\":\"VelvetOptimiser\",\"r\":[10,11,5,6,9,12],\"showlegend\":true,\"subplot\":\"polar\",\"theta\":[\"Contigs\",\"Basepairs\",\"Largest contig\",\"N50\",\"% Mapped reads\",\"Uncalled bases\"],\"type\":\"scatterpolar\"},{\"line\":{\"color\":\"#835221\"},\"name\":\"VelvetOptimiser\",\"r\":[5,10,4,8,1,1,1],\"showlegend\":false,\"subplot\":\"polar2\",\"theta\":[\"Contigs\",\"Basepairs\",\"N50\",\"% Mapped reads\",\"Uncalled bases\",\"Misassembled contigs\",\"Misassembly events\"],\"type\":\"scatterpolar\"}],                        {\"annotations\":[{\"font\":{\"size\":16},\"showarrow\":false,\"text\":\"Original\",\"x\":0.225,\"xanchor\":\"center\",\"xref\":\"paper\",\"y\":1.0,\"yanchor\":\"bottom\",\"yref\":\"paper\"},{\"font\":{\"size\":16},\"showarrow\":false,\"text\":\"Filtered\",\"x\":0.775,\"xanchor\":\"center\",\"xref\":\"paper\",\"y\":1.0,\"yanchor\":\"bottom\",\"yref\":\"paper\"}],\"polar\":{\"angularaxis\":{\"categoryarray\":[\"Contigs\",\"Basepairs\",\"Largest contig\",\"N50\",\"% Mapped reads\",\"Uncalled bases\"],\"linecolor\":\"black\"},\"bgcolor\":\"rgb(255,255,255)\",\"domain\":{\"x\":[0.0,0.45],\"y\":[0.0,1.0]},\"hole\":0.08333333333333333,\"radialaxis\":{\"angle\":-22.5,\"autorange\":\"reversed\",\"gridcolor\":\"#DCDCDC\",\"linecolor\":\"black\",\"linewidth\":2,\"range\":[1,12],\"visible\":true}},\"polar2\":{\"angularaxis\":{\"categoryarray\":[\"Contigs\",\"Basepairs\",\"N50\",\"% Mapped reads\",\"Uncalled bases\",\"Misassembled contigs\",\"Misassembly events\"],\"linecolor\":\"black\"},\"bgcolor\":\"rgb(255,255,255)\",\"domain\":{\"x\":[0.55,1.0],\"y\":[0.0,1.0]},\"hole\":0.08333333333333333,\"radialaxis\":{\"angle\":-22.5,\"autorange\":\"reversed\",\"gridcolor\":\"#DCDCDC\",\"linecolor\":\"black\",\"linewidth\":2,\"range\":[1,12],\"visible\":true}},\"template\":{\"data\":{\"bar\":[{\"error_x\":{\"color\":\"#2a3f5f\"},\"error_y\":{\"color\":\"#2a3f5f\"},\"marker\":{\"line\":{\"color\":\"#E5ECF6\",\"width\":0.5},\"pattern\":{\"fillmode\":\"overlay\",\"size\":10,\"solidity\":0.2}},\"type\":\"bar\"}],\"barpolar\":[{\"marker\":{\"line\":{\"color\":\"#E5ECF6\",\"width\":0.5},\"pattern\":{\"fillmode\":\"overlay\",\"size\":10,\"solidity\":0.2}},\"type\":\"barpolar\"}],\"carpet\":[{\"aaxis\":{\"endlinecolor\":\"#2a3f5f\",\"gridcolor\":\"white\",\"linecolor\":\"white\",\"minorgridcolor\":\"white\",\"startlinecolor\":\"#2a3f5f\"},\"baxis\":{\"endlinecolor\":\"#2a3f5f\",\"gridcolor\":\"white\",\"linecolor\":\"white\",\"minorgridcolor\":\"white\",\"startlinecolor\":\"#2a3f5f\"},\"type\":\"carpet\"}],\"choropleth\":[{\"colorbar\":{\"outlinewidth\":0,\"ticks\":\"\"},\"type\":\"choropleth\"}],\"contour\":[{\"colorbar\":{\"outlinewidth\":0,\"ticks\":\"\"},\"colorscale\":[[0.0,\"#0d0887\"],[0.1111111111111111,\"#46039f\"],[0.2222222222222222,\"#7201a8\"],[0.3333333333333333,\"#9c179e\"],[0.4444444444444444,\"#bd3786\"],[0.5555555555555556,\"#d8576b\"],[0.6666666666666666,\"#ed7953\"],[0.7777777777777778,\"#fb9f3a\"],[0.8888888888888888,\"#fdca26\"],[1.0,\"#f0f921\"]],\"type\":\"contour\"}],\"contourcarpet\":[{\"colorbar\":{\"outlinewidth\":0,\"ticks\":\"\"},\"type\":\"contourcarpet\"}],\"heatmap\":[{\"colorbar\":{\"outlinewidth\":0,\"ticks\":\"\"},\"colorscale\":[[0.0,\"#0d0887\"],[0.1111111111111111,\"#46039f\"],[0.2222222222222222,\"#7201a8\"],[0.3333333333333333,\"#9c179e\"],[0.4444444444444444,\"#bd3786\"],[0.5555555555555556,\"#d8576b\"],[0.6666666666666666,\"#ed7953\"],[0.7777777777777778,\"#fb9f3a\"],[0.8888888888888888,\"#fdca26\"],[1.0,\"#f0f921\"]],\"type\":\"heatmap\"}],\"heatmapgl\":[{\"colorbar\":{\"outlinewidth\":0,\"ticks\":\"\"},\"colorscale\":[[0.0,\"#0d0887\"],[0.1111111111111111,\"#46039f\"],[0.2222222222222222,\"#7201a8\"],[0.3333333333333333,\"#9c179e\"],[0.4444444444444444,\"#bd3786\"],[0.5555555555555556,\"#d8576b\"],[0.6666666666666666,\"#ed7953\"],[0.7777777777777778,\"#fb9f3a\"],[0.8888888888888888,\"#fdca26\"],[1.0,\"#f0f921\"]],\"type\":\"heatmapgl\"}],\"histogram\":[{\"marker\":{\"pattern\":{\"fillmode\":\"overlay\",\"size\":10,\"solidity\":0.2}},\"type\":\"histogram\"}],\"histogram2d\":[{\"colorbar\":{\"outlinewidth\":0,\"ticks\":\"\"},\"colorscale\":[[0.0,\"#0d0887\"],[0.1111111111111111,\"#46039f\"],[0.2222222222222222,\"#7201a8\"],[0.3333333333333333,\"#9c179e\"],[0.4444444444444444,\"#bd3786\"],[0.5555555555555556,\"#d8576b\"],[0.6666666666666666,\"#ed7953\"],[0.7777777777777778,\"#fb9f3a\"],[0.8888888888888888,\"#fdca26\"],[1.0,\"#f0f921\"]],\"type\":\"histogram2d\"}],\"histogram2dcontour\":[{\"colorbar\":{\"outlinewidth\":0,\"ticks\":\"\"},\"colorscale\":[[0.0,\"#0d0887\"],[0.1111111111111111,\"#46039f\"],[0.2222222222222222,\"#7201a8\"],[0.3333333333333333,\"#9c179e\"],[0.4444444444444444,\"#bd3786\"],[0.5555555555555556,\"#d8576b\"],[0.6666666666666666,\"#ed7953\"],[0.7777777777777778,\"#fb9f3a\"],[0.8888888888888888,\"#fdca26\"],[1.0,\"#f0f921\"]],\"type\":\"histogram2dcontour\"}],\"mesh3d\":[{\"colorbar\":{\"outlinewidth\":0,\"ticks\":\"\"},\"type\":\"mesh3d\"}],\"parcoords\":[{\"line\":{\"colorbar\":{\"outlinewidth\":0,\"ticks\":\"\"}},\"type\":\"parcoords\"}],\"pie\":[{\"automargin\":true,\"type\":\"pie\"}],\"scatter\":[{\"marker\":{\"colorbar\":{\"outlinewidth\":0,\"ticks\":\"\"}},\"type\":\"scatter\"}],\"scatter3d\":[{\"line\":{\"colorbar\":{\"outlinewidth\":0,\"ticks\":\"\"}},\"marker\":{\"colorbar\":{\"outlinewidth\":0,\"ticks\":\"\"}},\"type\":\"scatter3d\"}],\"scattercarpet\":[{\"marker\":{\"colorbar\":{\"outlinewidth\":0,\"ticks\":\"\"}},\"type\":\"scattercarpet\"}],\"scattergeo\":[{\"marker\":{\"colorbar\":{\"outlinewidth\":0,\"ticks\":\"\"}},\"type\":\"scattergeo\"}],\"scattergl\":[{\"marker\":{\"colorbar\":{\"outlinewidth\":0,\"ticks\":\"\"}},\"type\":\"scattergl\"}],\"scattermapbox\":[{\"marker\":{\"colorbar\":{\"outlinewidth\":0,\"ticks\":\"\"}},\"type\":\"scattermapbox\"}],\"scatterpolar\":[{\"marker\":{\"colorbar\":{\"outlinewidth\":0,\"ticks\":\"\"}},\"type\":\"scatterpolar\"}],\"scatterpolargl\":[{\"marker\":{\"colorbar\":{\"outlinewidth\":0,\"ticks\":\"\"}},\"type\":\"scatterpolargl\"}],\"scatterternary\":[{\"marker\":{\"colorbar\":{\"outlinewidth\":0,\"ticks\":\"\"}},\"type\":\"scatterternary\"}],\"surface\":[{\"colorbar\":{\"outlinewidth\":0,\"ticks\":\"\"},\"colorscale\":[[0.0,\"#0d0887\"],[0.1111111111111111,\"#46039f\"],[0.2222222222222222,\"#7201a8\"],[0.3333333333333333,\"#9c179e\"],[0.4444444444444444,\"#bd3786\"],[0.5555555555555556,\"#d8576b\"],[0.6666666666666666,\"#ed7953\"],[0.7777777777777778,\"#fb9f3a\"],[0.8888888888888888,\"#fdca26\"],[1.0,\"#f0f921\"]],\"type\":\"surface\"}],\"table\":[{\"cells\":{\"fill\":{\"color\":\"#EBF0F8\"},\"line\":{\"color\":\"white\"}},\"header\":{\"fill\":{\"color\":\"#C8D4E3\"},\"line\":{\"color\":\"white\"}},\"type\":\"table\"}]},\"layout\":{\"annotationdefaults\":{\"arrowcolor\":\"#2a3f5f\",\"arrowhead\":0,\"arrowwidth\":1},\"autotypenumbers\":\"strict\",\"coloraxis\":{\"colorbar\":{\"outlinewidth\":0,\"ticks\":\"\"}},\"colorscale\":{\"diverging\":[[0,\"#8e0152\"],[0.1,\"#c51b7d\"],[0.2,\"#de77ae\"],[0.3,\"#f1b6da\"],[0.4,\"#fde0ef\"],[0.5,\"#f7f7f7\"],[0.6,\"#e6f5d0\"],[0.7,\"#b8e186\"],[0.8,\"#7fbc41\"],[0.9,\"#4d9221\"],[1,\"#276419\"]],\"sequential\":[[0.0,\"#0d0887\"],[0.1111111111111111,\"#46039f\"],[0.2222222222222222,\"#7201a8\"],[0.3333333333333333,\"#9c179e\"],[0.4444444444444444,\"#bd3786\"],[0.5555555555555556,\"#d8576b\"],[0.6666666666666666,\"#ed7953\"],[0.7777777777777778,\"#fb9f3a\"],[0.8888888888888888,\"#fdca26\"],[1.0,\"#f0f921\"]],\"sequentialminus\":[[0.0,\"#0d0887\"],[0.1111111111111111,\"#46039f\"],[0.2222222222222222,\"#7201a8\"],[0.3333333333333333,\"#9c179e\"],[0.4444444444444444,\"#bd3786\"],[0.5555555555555556,\"#d8576b\"],[0.6666666666666666,\"#ed7953\"],[0.7777777777777778,\"#fb9f3a\"],[0.8888888888888888,\"#fdca26\"],[1.0,\"#f0f921\"]]},\"colorway\":[\"#636efa\",\"#EF553B\",\"#00cc96\",\"#ab63fa\",\"#FFA15A\",\"#19d3f3\",\"#FF6692\",\"#B6E880\",\"#FF97FF\",\"#FECB52\"],\"font\":{\"color\":\"#2a3f5f\"},\"geo\":{\"bgcolor\":\"white\",\"lakecolor\":\"white\",\"landcolor\":\"#E5ECF6\",\"showlakes\":true,\"showland\":true,\"subunitcolor\":\"white\"},\"hoverlabel\":{\"align\":\"left\"},\"hovermode\":\"closest\",\"mapbox\":{\"style\":\"light\"},\"paper_bgcolor\":\"white\",\"plot_bgcolor\":\"#E5ECF6\",\"polar\":{\"angularaxis\":{\"gridcolor\":\"white\",\"linecolor\":\"white\",\"ticks\":\"\"},\"bgcolor\":\"#E5ECF6\",\"radialaxis\":{\"gridcolor\":\"white\",\"linecolor\":\"white\",\"ticks\":\"\"}},\"scene\":{\"xaxis\":{\"backgroundcolor\":\"#E5ECF6\",\"gridcolor\":\"white\",\"gridwidth\":2,\"linecolor\":\"white\",\"showbackground\":true,\"ticks\":\"\",\"zerolinecolor\":\"white\"},\"yaxis\":{\"backgroundcolor\":\"#E5ECF6\",\"gridcolor\":\"white\",\"gridwidth\":2,\"linecolor\":\"white\",\"showbackground\":true,\"ticks\":\"\",\"zerolinecolor\":\"white\"},\"zaxis\":{\"backgroundcolor\":\"#E5ECF6\",\"gridcolor\":\"white\",\"gridwidth\":2,\"linecolor\":\"white\",\"showbackground\":true,\"ticks\":\"\",\"zerolinecolor\":\"white\"}},\"shapedefaults\":{\"line\":{\"color\":\"#2a3f5f\"}},\"ternary\":{\"aaxis\":{\"gridcolor\":\"white\",\"linecolor\":\"white\",\"ticks\":\"\"},\"baxis\":{\"gridcolor\":\"white\",\"linecolor\":\"white\",\"ticks\":\"\"},\"bgcolor\":\"#E5ECF6\",\"caxis\":{\"gridcolor\":\"white\",\"linecolor\":\"white\",\"ticks\":\"\"}},\"title\":{\"x\":0.05},\"xaxis\":{\"automargin\":true,\"gridcolor\":\"white\",\"linecolor\":\"white\",\"ticks\":\"\",\"title\":{\"standoff\":15},\"zerolinecolor\":\"white\",\"zerolinewidth\":2},\"yaxis\":{\"automargin\":true,\"gridcolor\":\"white\",\"linecolor\":\"white\",\"ticks\":\"\",\"title\":{\"standoff\":15},\"zerolinecolor\":\"white\",\"zerolinewidth\":2}}},\"title\":{\"text\":\"LNN\"}},                        {\"responsive\": true}                    ).then(function(){\n",
       "                            \n",
       "var gd = document.getElementById('bd03e21a-a092-486a-b584-12c463223c2f');\n",
       "var x = new MutationObserver(function (mutations, observer) {{\n",
       "        var display = window.getComputedStyle(gd).display;\n",
       "        if (!display || display === 'none') {{\n",
       "            console.log([gd, 'removed!']);\n",
       "            Plotly.purge(gd);\n",
       "            observer.disconnect();\n",
       "        }}\n",
       "}});\n",
       "\n",
       "// Listen for the removal of the full notebook cells\n",
       "var notebookContainer = gd.closest('#notebook-container');\n",
       "if (notebookContainer) {{\n",
       "    x.observe(notebookContainer, {childList: true});\n",
       "}}\n",
       "\n",
       "// Listen for the clearing of the current output cell\n",
       "var outputEl = gd.closest('.output');\n",
       "if (outputEl) {{\n",
       "    x.observe(outputEl, {childList: true});\n",
       "}}\n",
       "\n",
       "                        })                };                });            </script>        </div>"
      ]
     },
     "metadata": {},
     "output_type": "display_data"
    },
    {
     "data": {
      "application/vnd.plotly.v1+json": {
       "config": {
        "plotlyServerURL": "https://plot.ly"
       },
       "data": [
        {
         "line": {
          "color": "#5876c8"
         },
         "name": "ABySS",
         "r": [
          11,
          11,
          8,
          10,
          1,
          12
         ],
         "showlegend": true,
         "subplot": "polar",
         "theta": [
          "Contigs",
          "Basepairs",
          "Largest contig",
          "N50",
          "% Mapped reads",
          "Uncalled bases"
         ],
         "type": "scatterpolar"
        },
        {
         "line": {
          "color": "#5876c8"
         },
         "name": "ABySS",
         "r": [
          3,
          3,
          7,
          7,
          1,
          1,
          1
         ],
         "showlegend": false,
         "subplot": "polar2",
         "theta": [
          "Contigs",
          "Basepairs",
          "N50",
          "% Mapped reads",
          "Uncalled bases",
          "Misassembled contigs",
          "Misassembly events"
         ],
         "type": "scatterpolar"
        },
        {
         "line": {
          "color": "#58AEC8"
         },
         "name": "BCALM2",
         "r": [
          12,
          12,
          11,
          12,
          11,
          1
         ],
         "showlegend": true,
         "subplot": "polar",
         "theta": [
          "Contigs",
          "Basepairs",
          "Largest contig",
          "N50",
          "% Mapped reads",
          "Uncalled bases"
         ],
         "type": "scatterpolar"
        },
        {
         "line": {
          "color": "#58AEC8"
         },
         "name": "BCALM2",
         "r": [
          4,
          2,
          11,
          11,
          1,
          1,
          1
         ],
         "showlegend": false,
         "subplot": "polar2",
         "theta": [
          "Contigs",
          "Basepairs",
          "N50",
          "% Mapped reads",
          "Uncalled bases",
          "Misassembled contigs",
          "Misassembly events"
         ],
         "type": "scatterpolar"
        },
        {
         "line": {
          "color": "#009392"
         },
         "name": "GATBMiniaPipeline",
         "r": [
          2,
          4,
          6,
          3,
          5,
          1
         ],
         "showlegend": true,
         "subplot": "polar",
         "theta": [
          "Contigs",
          "Basepairs",
          "Largest contig",
          "N50",
          "% Mapped reads",
          "Uncalled bases"
         ],
         "type": "scatterpolar"
        },
        {
         "line": {
          "color": "#009392"
         },
         "name": "GATBMiniaPipeline",
         "r": [
          5,
          8,
          4,
          4,
          1,
          1,
          1
         ],
         "showlegend": false,
         "subplot": "polar2",
         "theta": [
          "Contigs",
          "Basepairs",
          "N50",
          "% Mapped reads",
          "Uncalled bases",
          "Misassembled contigs",
          "Misassembly events"
         ],
         "type": "scatterpolar"
        },
        {
         "line": {
          "color": "#39B185"
         },
         "name": "IDBA-UD",
         "r": [
          5,
          6,
          4,
          4,
          3,
          1
         ],
         "showlegend": true,
         "subplot": "polar",
         "theta": [
          "Contigs",
          "Basepairs",
          "Largest contig",
          "N50",
          "% Mapped reads",
          "Uncalled bases"
         ],
         "type": "scatterpolar"
        },
        {
         "line": {
          "color": "#39B185"
         },
         "name": "IDBA-UD",
         "r": [
          7,
          9,
          3,
          3,
          1,
          10,
          10
         ],
         "showlegend": false,
         "subplot": "polar2",
         "theta": [
          "Contigs",
          "Basepairs",
          "N50",
          "% Mapped reads",
          "Uncalled bases",
          "Misassembled contigs",
          "Misassembly events"
         ],
         "type": "scatterpolar"
        },
        {
         "line": {
          "color": "#9CCB86"
         },
         "name": "MEGAHIT",
         "r": [
          6,
          7,
          3,
          2,
          4,
          1
         ],
         "showlegend": true,
         "subplot": "polar",
         "theta": [
          "Contigs",
          "Basepairs",
          "Largest contig",
          "N50",
          "% Mapped reads",
          "Uncalled bases"
         ],
         "type": "scatterpolar"
        },
        {
         "line": {
          "color": "#9CCB86"
         },
         "name": "MEGAHIT",
         "r": [
          9,
          10,
          2,
          1,
          1,
          8,
          8
         ],
         "showlegend": false,
         "subplot": "polar2",
         "theta": [
          "Contigs",
          "Basepairs",
          "N50",
          "% Mapped reads",
          "Uncalled bases",
          "Misassembled contigs",
          "Misassembly events"
         ],
         "type": "scatterpolar"
        },
        {
         "line": {
          "color": "#E9E29C"
         },
         "name": "MetaHipMer2",
         "r": [
          4,
          3,
          10,
          8,
          9,
          1
         ],
         "showlegend": true,
         "subplot": "polar",
         "theta": [
          "Contigs",
          "Basepairs",
          "Largest contig",
          "N50",
          "% Mapped reads",
          "Uncalled bases"
         ],
         "type": "scatterpolar"
        },
        {
         "line": {
          "color": "#E9E29C"
         },
         "name": "MetaHipMer2",
         "r": [
          12,
          6,
          9,
          8,
          1,
          1,
          1
         ],
         "showlegend": false,
         "subplot": "polar2",
         "theta": [
          "Contigs",
          "Basepairs",
          "N50",
          "% Mapped reads",
          "Uncalled bases",
          "Misassembled contigs",
          "Misassembly events"
         ],
         "type": "scatterpolar"
        },
        {
         "line": {
          "color": "#EEB479"
         },
         "name": "metaSPAdes",
         "r": [
          7,
          8,
          5,
          6,
          2,
          1
         ],
         "showlegend": true,
         "subplot": "polar",
         "theta": [
          "Contigs",
          "Basepairs",
          "Largest contig",
          "N50",
          "% Mapped reads",
          "Uncalled bases"
         ],
         "type": "scatterpolar"
        },
        {
         "line": {
          "color": "#EEB479"
         },
         "name": "metaSPAdes",
         "r": [
          10,
          11,
          5,
          2,
          1,
          10,
          11
         ],
         "showlegend": false,
         "subplot": "polar2",
         "theta": [
          "Contigs",
          "Basepairs",
          "N50",
          "% Mapped reads",
          "Uncalled bases",
          "Misassembled contigs",
          "Misassembly events"
         ],
         "type": "scatterpolar"
        },
        {
         "line": {
          "color": "#E88471"
         },
         "name": "MINIA",
         "r": [
          9,
          5,
          7,
          5,
          7,
          1
         ],
         "showlegend": true,
         "subplot": "polar",
         "theta": [
          "Contigs",
          "Basepairs",
          "Largest contig",
          "N50",
          "% Mapped reads",
          "Uncalled bases"
         ],
         "type": "scatterpolar"
        },
        {
         "line": {
          "color": "#E88471"
         },
         "name": "MINIA",
         "r": [
          6,
          7,
          8,
          6,
          1,
          9,
          9
         ],
         "showlegend": false,
         "subplot": "polar2",
         "theta": [
          "Contigs",
          "Basepairs",
          "N50",
          "% Mapped reads",
          "Uncalled bases",
          "Misassembled contigs",
          "Misassembly events"
         ],
         "type": "scatterpolar"
        },
        {
         "line": {
          "color": "#CF597E"
         },
         "name": "SKESA",
         "r": [
          3,
          1,
          9,
          9,
          10,
          1
         ],
         "showlegend": true,
         "subplot": "polar",
         "theta": [
          "Contigs",
          "Basepairs",
          "Largest contig",
          "N50",
          "% Mapped reads",
          "Uncalled bases"
         ],
         "type": "scatterpolar"
        },
        {
         "line": {
          "color": "#CF597E"
         },
         "name": "SKESA",
         "r": [
          8,
          4,
          10,
          9,
          1,
          1,
          1
         ],
         "showlegend": false,
         "subplot": "polar2",
         "theta": [
          "Contigs",
          "Basepairs",
          "N50",
          "% Mapped reads",
          "Uncalled bases",
          "Misassembled contigs",
          "Misassembly events"
         ],
         "type": "scatterpolar"
        },
        {
         "line": {
          "color": "#a54765"
         },
         "name": "SPAdes",
         "r": [
          8,
          9,
          1,
          7,
          8,
          1
         ],
         "showlegend": true,
         "subplot": "polar",
         "theta": [
          "Contigs",
          "Basepairs",
          "Largest contig",
          "N50",
          "% Mapped reads",
          "Uncalled bases"
         ],
         "type": "scatterpolar"
        },
        {
         "line": {
          "color": "#a54765"
         },
         "name": "SPAdes",
         "r": [
          11,
          12,
          6,
          10,
          1,
          12,
          12
         ],
         "showlegend": false,
         "subplot": "polar2",
         "theta": [
          "Contigs",
          "Basepairs",
          "N50",
          "% Mapped reads",
          "Uncalled bases",
          "Misassembled contigs",
          "Misassembly events"
         ],
         "type": "scatterpolar"
        },
        {
         "line": {
          "color": "#a42a2a"
         },
         "name": "Unicycler",
         "r": [
          1,
          2,
          2,
          1,
          6,
          1
         ],
         "showlegend": true,
         "subplot": "polar",
         "theta": [
          "Contigs",
          "Basepairs",
          "Largest contig",
          "N50",
          "% Mapped reads",
          "Uncalled bases"
         ],
         "type": "scatterpolar"
        },
        {
         "line": {
          "color": "#a42a2a"
         },
         "name": "Unicycler",
         "r": [
          1,
          5,
          1,
          5,
          1,
          1,
          1
         ],
         "showlegend": false,
         "subplot": "polar2",
         "theta": [
          "Contigs",
          "Basepairs",
          "N50",
          "% Mapped reads",
          "Uncalled bases",
          "Misassembled contigs",
          "Misassembly events"
         ],
         "type": "scatterpolar"
        },
        {
         "line": {
          "color": "#835221"
         },
         "name": "VelvetOptimiser",
         "r": [
          10,
          10,
          12,
          11,
          12,
          1
         ],
         "showlegend": true,
         "subplot": "polar",
         "theta": [
          "Contigs",
          "Basepairs",
          "Largest contig",
          "N50",
          "% Mapped reads",
          "Uncalled bases"
         ],
         "type": "scatterpolar"
        },
        {
         "line": {
          "color": "#835221"
         },
         "name": "VelvetOptimiser",
         "r": [
          2,
          1,
          12,
          12,
          1,
          1,
          1
         ],
         "showlegend": false,
         "subplot": "polar2",
         "theta": [
          "Contigs",
          "Basepairs",
          "N50",
          "% Mapped reads",
          "Uncalled bases",
          "Misassembled contigs",
          "Misassembly events"
         ],
         "type": "scatterpolar"
        }
       ],
       "layout": {
        "annotations": [
         {
          "font": {
           "size": 16
          },
          "showarrow": false,
          "text": "Original",
          "x": 0.225,
          "xanchor": "center",
          "xref": "paper",
          "y": 1,
          "yanchor": "bottom",
          "yref": "paper"
         },
         {
          "font": {
           "size": 16
          },
          "showarrow": false,
          "text": "Filtered",
          "x": 0.775,
          "xanchor": "center",
          "xref": "paper",
          "y": 1,
          "yanchor": "bottom",
          "yref": "paper"
         }
        ],
        "polar": {
         "angularaxis": {
          "categoryarray": [
           "Contigs",
           "Basepairs",
           "Largest contig",
           "N50",
           "% Mapped reads",
           "Uncalled bases"
          ],
          "linecolor": "black"
         },
         "bgcolor": "rgb(255,255,255)",
         "domain": {
          "x": [
           0,
           0.45
          ],
          "y": [
           0,
           1
          ]
         },
         "hole": 0.08333333333333333,
         "radialaxis": {
          "angle": -22.5,
          "autorange": "reversed",
          "gridcolor": "#DCDCDC",
          "linecolor": "black",
          "linewidth": 2,
          "range": [
           1,
           12
          ],
          "visible": true
         }
        },
        "polar2": {
         "angularaxis": {
          "categoryarray": [
           "Contigs",
           "Basepairs",
           "N50",
           "% Mapped reads",
           "Uncalled bases",
           "Misassembled contigs",
           "Misassembly events"
          ],
          "linecolor": "black"
         },
         "bgcolor": "rgb(255,255,255)",
         "domain": {
          "x": [
           0.55,
           1
          ],
          "y": [
           0,
           1
          ]
         },
         "hole": 0.08333333333333333,
         "radialaxis": {
          "angle": -22.5,
          "autorange": "reversed",
          "gridcolor": "#DCDCDC",
          "linecolor": "black",
          "linewidth": 2,
          "range": [
           1,
           12
          ],
          "visible": true
         }
        },
        "template": {
         "data": {
          "bar": [
           {
            "error_x": {
             "color": "#2a3f5f"
            },
            "error_y": {
             "color": "#2a3f5f"
            },
            "marker": {
             "line": {
              "color": "#E5ECF6",
              "width": 0.5
             },
             "pattern": {
              "fillmode": "overlay",
              "size": 10,
              "solidity": 0.2
             }
            },
            "type": "bar"
           }
          ],
          "barpolar": [
           {
            "marker": {
             "line": {
              "color": "#E5ECF6",
              "width": 0.5
             },
             "pattern": {
              "fillmode": "overlay",
              "size": 10,
              "solidity": 0.2
             }
            },
            "type": "barpolar"
           }
          ],
          "carpet": [
           {
            "aaxis": {
             "endlinecolor": "#2a3f5f",
             "gridcolor": "white",
             "linecolor": "white",
             "minorgridcolor": "white",
             "startlinecolor": "#2a3f5f"
            },
            "baxis": {
             "endlinecolor": "#2a3f5f",
             "gridcolor": "white",
             "linecolor": "white",
             "minorgridcolor": "white",
             "startlinecolor": "#2a3f5f"
            },
            "type": "carpet"
           }
          ],
          "choropleth": [
           {
            "colorbar": {
             "outlinewidth": 0,
             "ticks": ""
            },
            "type": "choropleth"
           }
          ],
          "contour": [
           {
            "colorbar": {
             "outlinewidth": 0,
             "ticks": ""
            },
            "colorscale": [
             [
              0,
              "#0d0887"
             ],
             [
              0.1111111111111111,
              "#46039f"
             ],
             [
              0.2222222222222222,
              "#7201a8"
             ],
             [
              0.3333333333333333,
              "#9c179e"
             ],
             [
              0.4444444444444444,
              "#bd3786"
             ],
             [
              0.5555555555555556,
              "#d8576b"
             ],
             [
              0.6666666666666666,
              "#ed7953"
             ],
             [
              0.7777777777777778,
              "#fb9f3a"
             ],
             [
              0.8888888888888888,
              "#fdca26"
             ],
             [
              1,
              "#f0f921"
             ]
            ],
            "type": "contour"
           }
          ],
          "contourcarpet": [
           {
            "colorbar": {
             "outlinewidth": 0,
             "ticks": ""
            },
            "type": "contourcarpet"
           }
          ],
          "heatmap": [
           {
            "colorbar": {
             "outlinewidth": 0,
             "ticks": ""
            },
            "colorscale": [
             [
              0,
              "#0d0887"
             ],
             [
              0.1111111111111111,
              "#46039f"
             ],
             [
              0.2222222222222222,
              "#7201a8"
             ],
             [
              0.3333333333333333,
              "#9c179e"
             ],
             [
              0.4444444444444444,
              "#bd3786"
             ],
             [
              0.5555555555555556,
              "#d8576b"
             ],
             [
              0.6666666666666666,
              "#ed7953"
             ],
             [
              0.7777777777777778,
              "#fb9f3a"
             ],
             [
              0.8888888888888888,
              "#fdca26"
             ],
             [
              1,
              "#f0f921"
             ]
            ],
            "type": "heatmap"
           }
          ],
          "heatmapgl": [
           {
            "colorbar": {
             "outlinewidth": 0,
             "ticks": ""
            },
            "colorscale": [
             [
              0,
              "#0d0887"
             ],
             [
              0.1111111111111111,
              "#46039f"
             ],
             [
              0.2222222222222222,
              "#7201a8"
             ],
             [
              0.3333333333333333,
              "#9c179e"
             ],
             [
              0.4444444444444444,
              "#bd3786"
             ],
             [
              0.5555555555555556,
              "#d8576b"
             ],
             [
              0.6666666666666666,
              "#ed7953"
             ],
             [
              0.7777777777777778,
              "#fb9f3a"
             ],
             [
              0.8888888888888888,
              "#fdca26"
             ],
             [
              1,
              "#f0f921"
             ]
            ],
            "type": "heatmapgl"
           }
          ],
          "histogram": [
           {
            "marker": {
             "pattern": {
              "fillmode": "overlay",
              "size": 10,
              "solidity": 0.2
             }
            },
            "type": "histogram"
           }
          ],
          "histogram2d": [
           {
            "colorbar": {
             "outlinewidth": 0,
             "ticks": ""
            },
            "colorscale": [
             [
              0,
              "#0d0887"
             ],
             [
              0.1111111111111111,
              "#46039f"
             ],
             [
              0.2222222222222222,
              "#7201a8"
             ],
             [
              0.3333333333333333,
              "#9c179e"
             ],
             [
              0.4444444444444444,
              "#bd3786"
             ],
             [
              0.5555555555555556,
              "#d8576b"
             ],
             [
              0.6666666666666666,
              "#ed7953"
             ],
             [
              0.7777777777777778,
              "#fb9f3a"
             ],
             [
              0.8888888888888888,
              "#fdca26"
             ],
             [
              1,
              "#f0f921"
             ]
            ],
            "type": "histogram2d"
           }
          ],
          "histogram2dcontour": [
           {
            "colorbar": {
             "outlinewidth": 0,
             "ticks": ""
            },
            "colorscale": [
             [
              0,
              "#0d0887"
             ],
             [
              0.1111111111111111,
              "#46039f"
             ],
             [
              0.2222222222222222,
              "#7201a8"
             ],
             [
              0.3333333333333333,
              "#9c179e"
             ],
             [
              0.4444444444444444,
              "#bd3786"
             ],
             [
              0.5555555555555556,
              "#d8576b"
             ],
             [
              0.6666666666666666,
              "#ed7953"
             ],
             [
              0.7777777777777778,
              "#fb9f3a"
             ],
             [
              0.8888888888888888,
              "#fdca26"
             ],
             [
              1,
              "#f0f921"
             ]
            ],
            "type": "histogram2dcontour"
           }
          ],
          "mesh3d": [
           {
            "colorbar": {
             "outlinewidth": 0,
             "ticks": ""
            },
            "type": "mesh3d"
           }
          ],
          "parcoords": [
           {
            "line": {
             "colorbar": {
              "outlinewidth": 0,
              "ticks": ""
             }
            },
            "type": "parcoords"
           }
          ],
          "pie": [
           {
            "automargin": true,
            "type": "pie"
           }
          ],
          "scatter": [
           {
            "marker": {
             "colorbar": {
              "outlinewidth": 0,
              "ticks": ""
             }
            },
            "type": "scatter"
           }
          ],
          "scatter3d": [
           {
            "line": {
             "colorbar": {
              "outlinewidth": 0,
              "ticks": ""
             }
            },
            "marker": {
             "colorbar": {
              "outlinewidth": 0,
              "ticks": ""
             }
            },
            "type": "scatter3d"
           }
          ],
          "scattercarpet": [
           {
            "marker": {
             "colorbar": {
              "outlinewidth": 0,
              "ticks": ""
             }
            },
            "type": "scattercarpet"
           }
          ],
          "scattergeo": [
           {
            "marker": {
             "colorbar": {
              "outlinewidth": 0,
              "ticks": ""
             }
            },
            "type": "scattergeo"
           }
          ],
          "scattergl": [
           {
            "marker": {
             "colorbar": {
              "outlinewidth": 0,
              "ticks": ""
             }
            },
            "type": "scattergl"
           }
          ],
          "scattermapbox": [
           {
            "marker": {
             "colorbar": {
              "outlinewidth": 0,
              "ticks": ""
             }
            },
            "type": "scattermapbox"
           }
          ],
          "scatterpolar": [
           {
            "marker": {
             "colorbar": {
              "outlinewidth": 0,
              "ticks": ""
             }
            },
            "type": "scatterpolar"
           }
          ],
          "scatterpolargl": [
           {
            "marker": {
             "colorbar": {
              "outlinewidth": 0,
              "ticks": ""
             }
            },
            "type": "scatterpolargl"
           }
          ],
          "scatterternary": [
           {
            "marker": {
             "colorbar": {
              "outlinewidth": 0,
              "ticks": ""
             }
            },
            "type": "scatterternary"
           }
          ],
          "surface": [
           {
            "colorbar": {
             "outlinewidth": 0,
             "ticks": ""
            },
            "colorscale": [
             [
              0,
              "#0d0887"
             ],
             [
              0.1111111111111111,
              "#46039f"
             ],
             [
              0.2222222222222222,
              "#7201a8"
             ],
             [
              0.3333333333333333,
              "#9c179e"
             ],
             [
              0.4444444444444444,
              "#bd3786"
             ],
             [
              0.5555555555555556,
              "#d8576b"
             ],
             [
              0.6666666666666666,
              "#ed7953"
             ],
             [
              0.7777777777777778,
              "#fb9f3a"
             ],
             [
              0.8888888888888888,
              "#fdca26"
             ],
             [
              1,
              "#f0f921"
             ]
            ],
            "type": "surface"
           }
          ],
          "table": [
           {
            "cells": {
             "fill": {
              "color": "#EBF0F8"
             },
             "line": {
              "color": "white"
             }
            },
            "header": {
             "fill": {
              "color": "#C8D4E3"
             },
             "line": {
              "color": "white"
             }
            },
            "type": "table"
           }
          ]
         },
         "layout": {
          "annotationdefaults": {
           "arrowcolor": "#2a3f5f",
           "arrowhead": 0,
           "arrowwidth": 1
          },
          "autotypenumbers": "strict",
          "coloraxis": {
           "colorbar": {
            "outlinewidth": 0,
            "ticks": ""
           }
          },
          "colorscale": {
           "diverging": [
            [
             0,
             "#8e0152"
            ],
            [
             0.1,
             "#c51b7d"
            ],
            [
             0.2,
             "#de77ae"
            ],
            [
             0.3,
             "#f1b6da"
            ],
            [
             0.4,
             "#fde0ef"
            ],
            [
             0.5,
             "#f7f7f7"
            ],
            [
             0.6,
             "#e6f5d0"
            ],
            [
             0.7,
             "#b8e186"
            ],
            [
             0.8,
             "#7fbc41"
            ],
            [
             0.9,
             "#4d9221"
            ],
            [
             1,
             "#276419"
            ]
           ],
           "sequential": [
            [
             0,
             "#0d0887"
            ],
            [
             0.1111111111111111,
             "#46039f"
            ],
            [
             0.2222222222222222,
             "#7201a8"
            ],
            [
             0.3333333333333333,
             "#9c179e"
            ],
            [
             0.4444444444444444,
             "#bd3786"
            ],
            [
             0.5555555555555556,
             "#d8576b"
            ],
            [
             0.6666666666666666,
             "#ed7953"
            ],
            [
             0.7777777777777778,
             "#fb9f3a"
            ],
            [
             0.8888888888888888,
             "#fdca26"
            ],
            [
             1,
             "#f0f921"
            ]
           ],
           "sequentialminus": [
            [
             0,
             "#0d0887"
            ],
            [
             0.1111111111111111,
             "#46039f"
            ],
            [
             0.2222222222222222,
             "#7201a8"
            ],
            [
             0.3333333333333333,
             "#9c179e"
            ],
            [
             0.4444444444444444,
             "#bd3786"
            ],
            [
             0.5555555555555556,
             "#d8576b"
            ],
            [
             0.6666666666666666,
             "#ed7953"
            ],
            [
             0.7777777777777778,
             "#fb9f3a"
            ],
            [
             0.8888888888888888,
             "#fdca26"
            ],
            [
             1,
             "#f0f921"
            ]
           ]
          },
          "colorway": [
           "#636efa",
           "#EF553B",
           "#00cc96",
           "#ab63fa",
           "#FFA15A",
           "#19d3f3",
           "#FF6692",
           "#B6E880",
           "#FF97FF",
           "#FECB52"
          ],
          "font": {
           "color": "#2a3f5f"
          },
          "geo": {
           "bgcolor": "white",
           "lakecolor": "white",
           "landcolor": "#E5ECF6",
           "showlakes": true,
           "showland": true,
           "subunitcolor": "white"
          },
          "hoverlabel": {
           "align": "left"
          },
          "hovermode": "closest",
          "mapbox": {
           "style": "light"
          },
          "paper_bgcolor": "white",
          "plot_bgcolor": "#E5ECF6",
          "polar": {
           "angularaxis": {
            "gridcolor": "white",
            "linecolor": "white",
            "ticks": ""
           },
           "bgcolor": "#E5ECF6",
           "radialaxis": {
            "gridcolor": "white",
            "linecolor": "white",
            "ticks": ""
           }
          },
          "scene": {
           "xaxis": {
            "backgroundcolor": "#E5ECF6",
            "gridcolor": "white",
            "gridwidth": 2,
            "linecolor": "white",
            "showbackground": true,
            "ticks": "",
            "zerolinecolor": "white"
           },
           "yaxis": {
            "backgroundcolor": "#E5ECF6",
            "gridcolor": "white",
            "gridwidth": 2,
            "linecolor": "white",
            "showbackground": true,
            "ticks": "",
            "zerolinecolor": "white"
           },
           "zaxis": {
            "backgroundcolor": "#E5ECF6",
            "gridcolor": "white",
            "gridwidth": 2,
            "linecolor": "white",
            "showbackground": true,
            "ticks": "",
            "zerolinecolor": "white"
           }
          },
          "shapedefaults": {
           "line": {
            "color": "#2a3f5f"
           }
          },
          "ternary": {
           "aaxis": {
            "gridcolor": "white",
            "linecolor": "white",
            "ticks": ""
           },
           "baxis": {
            "gridcolor": "white",
            "linecolor": "white",
            "ticks": ""
           },
           "bgcolor": "#E5ECF6",
           "caxis": {
            "gridcolor": "white",
            "linecolor": "white",
            "ticks": ""
           }
          },
          "title": {
           "x": 0.05
          },
          "xaxis": {
           "automargin": true,
           "gridcolor": "white",
           "linecolor": "white",
           "ticks": "",
           "title": {
            "standoff": 15
           },
           "zerolinecolor": "white",
           "zerolinewidth": 2
          },
          "yaxis": {
           "automargin": true,
           "gridcolor": "white",
           "linecolor": "white",
           "ticks": "",
           "title": {
            "standoff": 15
           },
           "zerolinecolor": "white",
           "zerolinewidth": 2
          }
         }
        },
        "title": {
         "text": "ERR2935805"
        }
       }
      },
      "text/html": [
       "<div>                            <div id=\"ef0e692f-1433-4c45-ab4e-3e3cbfc3fe11\" class=\"plotly-graph-div\" style=\"height:525px; width:100%;\"></div>            <script type=\"text/javascript\">                require([\"plotly\"], function(Plotly) {                    window.PLOTLYENV=window.PLOTLYENV || {};                                    if (document.getElementById(\"ef0e692f-1433-4c45-ab4e-3e3cbfc3fe11\")) {                    Plotly.newPlot(                        \"ef0e692f-1433-4c45-ab4e-3e3cbfc3fe11\",                        [{\"line\":{\"color\":\"#5876c8\"},\"name\":\"ABySS\",\"r\":[11,11,8,10,1,12],\"showlegend\":true,\"subplot\":\"polar\",\"theta\":[\"Contigs\",\"Basepairs\",\"Largest contig\",\"N50\",\"% Mapped reads\",\"Uncalled bases\"],\"type\":\"scatterpolar\"},{\"line\":{\"color\":\"#5876c8\"},\"name\":\"ABySS\",\"r\":[3,3,7,7,1,1,1],\"showlegend\":false,\"subplot\":\"polar2\",\"theta\":[\"Contigs\",\"Basepairs\",\"N50\",\"% Mapped reads\",\"Uncalled bases\",\"Misassembled contigs\",\"Misassembly events\"],\"type\":\"scatterpolar\"},{\"line\":{\"color\":\"#58AEC8\"},\"name\":\"BCALM2\",\"r\":[12,12,11,12,11,1],\"showlegend\":true,\"subplot\":\"polar\",\"theta\":[\"Contigs\",\"Basepairs\",\"Largest contig\",\"N50\",\"% Mapped reads\",\"Uncalled bases\"],\"type\":\"scatterpolar\"},{\"line\":{\"color\":\"#58AEC8\"},\"name\":\"BCALM2\",\"r\":[4,2,11,11,1,1,1],\"showlegend\":false,\"subplot\":\"polar2\",\"theta\":[\"Contigs\",\"Basepairs\",\"N50\",\"% Mapped reads\",\"Uncalled bases\",\"Misassembled contigs\",\"Misassembly events\"],\"type\":\"scatterpolar\"},{\"line\":{\"color\":\"#009392\"},\"name\":\"GATBMiniaPipeline\",\"r\":[2,4,6,3,5,1],\"showlegend\":true,\"subplot\":\"polar\",\"theta\":[\"Contigs\",\"Basepairs\",\"Largest contig\",\"N50\",\"% Mapped reads\",\"Uncalled bases\"],\"type\":\"scatterpolar\"},{\"line\":{\"color\":\"#009392\"},\"name\":\"GATBMiniaPipeline\",\"r\":[5,8,4,4,1,1,1],\"showlegend\":false,\"subplot\":\"polar2\",\"theta\":[\"Contigs\",\"Basepairs\",\"N50\",\"% Mapped reads\",\"Uncalled bases\",\"Misassembled contigs\",\"Misassembly events\"],\"type\":\"scatterpolar\"},{\"line\":{\"color\":\"#39B185\"},\"name\":\"IDBA-UD\",\"r\":[5,6,4,4,3,1],\"showlegend\":true,\"subplot\":\"polar\",\"theta\":[\"Contigs\",\"Basepairs\",\"Largest contig\",\"N50\",\"% Mapped reads\",\"Uncalled bases\"],\"type\":\"scatterpolar\"},{\"line\":{\"color\":\"#39B185\"},\"name\":\"IDBA-UD\",\"r\":[7,9,3,3,1,10,10],\"showlegend\":false,\"subplot\":\"polar2\",\"theta\":[\"Contigs\",\"Basepairs\",\"N50\",\"% Mapped reads\",\"Uncalled bases\",\"Misassembled contigs\",\"Misassembly events\"],\"type\":\"scatterpolar\"},{\"line\":{\"color\":\"#9CCB86\"},\"name\":\"MEGAHIT\",\"r\":[6,7,3,2,4,1],\"showlegend\":true,\"subplot\":\"polar\",\"theta\":[\"Contigs\",\"Basepairs\",\"Largest contig\",\"N50\",\"% Mapped reads\",\"Uncalled bases\"],\"type\":\"scatterpolar\"},{\"line\":{\"color\":\"#9CCB86\"},\"name\":\"MEGAHIT\",\"r\":[9,10,2,1,1,8,8],\"showlegend\":false,\"subplot\":\"polar2\",\"theta\":[\"Contigs\",\"Basepairs\",\"N50\",\"% Mapped reads\",\"Uncalled bases\",\"Misassembled contigs\",\"Misassembly events\"],\"type\":\"scatterpolar\"},{\"line\":{\"color\":\"#E9E29C\"},\"name\":\"MetaHipMer2\",\"r\":[4,3,10,8,9,1],\"showlegend\":true,\"subplot\":\"polar\",\"theta\":[\"Contigs\",\"Basepairs\",\"Largest contig\",\"N50\",\"% Mapped reads\",\"Uncalled bases\"],\"type\":\"scatterpolar\"},{\"line\":{\"color\":\"#E9E29C\"},\"name\":\"MetaHipMer2\",\"r\":[12,6,9,8,1,1,1],\"showlegend\":false,\"subplot\":\"polar2\",\"theta\":[\"Contigs\",\"Basepairs\",\"N50\",\"% Mapped reads\",\"Uncalled bases\",\"Misassembled contigs\",\"Misassembly events\"],\"type\":\"scatterpolar\"},{\"line\":{\"color\":\"#EEB479\"},\"name\":\"metaSPAdes\",\"r\":[7,8,5,6,2,1],\"showlegend\":true,\"subplot\":\"polar\",\"theta\":[\"Contigs\",\"Basepairs\",\"Largest contig\",\"N50\",\"% Mapped reads\",\"Uncalled bases\"],\"type\":\"scatterpolar\"},{\"line\":{\"color\":\"#EEB479\"},\"name\":\"metaSPAdes\",\"r\":[10,11,5,2,1,10,11],\"showlegend\":false,\"subplot\":\"polar2\",\"theta\":[\"Contigs\",\"Basepairs\",\"N50\",\"% Mapped reads\",\"Uncalled bases\",\"Misassembled contigs\",\"Misassembly events\"],\"type\":\"scatterpolar\"},{\"line\":{\"color\":\"#E88471\"},\"name\":\"MINIA\",\"r\":[9,5,7,5,7,1],\"showlegend\":true,\"subplot\":\"polar\",\"theta\":[\"Contigs\",\"Basepairs\",\"Largest contig\",\"N50\",\"% Mapped reads\",\"Uncalled bases\"],\"type\":\"scatterpolar\"},{\"line\":{\"color\":\"#E88471\"},\"name\":\"MINIA\",\"r\":[6,7,8,6,1,9,9],\"showlegend\":false,\"subplot\":\"polar2\",\"theta\":[\"Contigs\",\"Basepairs\",\"N50\",\"% Mapped reads\",\"Uncalled bases\",\"Misassembled contigs\",\"Misassembly events\"],\"type\":\"scatterpolar\"},{\"line\":{\"color\":\"#CF597E\"},\"name\":\"SKESA\",\"r\":[3,1,9,9,10,1],\"showlegend\":true,\"subplot\":\"polar\",\"theta\":[\"Contigs\",\"Basepairs\",\"Largest contig\",\"N50\",\"% Mapped reads\",\"Uncalled bases\"],\"type\":\"scatterpolar\"},{\"line\":{\"color\":\"#CF597E\"},\"name\":\"SKESA\",\"r\":[8,4,10,9,1,1,1],\"showlegend\":false,\"subplot\":\"polar2\",\"theta\":[\"Contigs\",\"Basepairs\",\"N50\",\"% Mapped reads\",\"Uncalled bases\",\"Misassembled contigs\",\"Misassembly events\"],\"type\":\"scatterpolar\"},{\"line\":{\"color\":\"#a54765\"},\"name\":\"SPAdes\",\"r\":[8,9,1,7,8,1],\"showlegend\":true,\"subplot\":\"polar\",\"theta\":[\"Contigs\",\"Basepairs\",\"Largest contig\",\"N50\",\"% Mapped reads\",\"Uncalled bases\"],\"type\":\"scatterpolar\"},{\"line\":{\"color\":\"#a54765\"},\"name\":\"SPAdes\",\"r\":[11,12,6,10,1,12,12],\"showlegend\":false,\"subplot\":\"polar2\",\"theta\":[\"Contigs\",\"Basepairs\",\"N50\",\"% Mapped reads\",\"Uncalled bases\",\"Misassembled contigs\",\"Misassembly events\"],\"type\":\"scatterpolar\"},{\"line\":{\"color\":\"#a42a2a\"},\"name\":\"Unicycler\",\"r\":[1,2,2,1,6,1],\"showlegend\":true,\"subplot\":\"polar\",\"theta\":[\"Contigs\",\"Basepairs\",\"Largest contig\",\"N50\",\"% Mapped reads\",\"Uncalled bases\"],\"type\":\"scatterpolar\"},{\"line\":{\"color\":\"#a42a2a\"},\"name\":\"Unicycler\",\"r\":[1,5,1,5,1,1,1],\"showlegend\":false,\"subplot\":\"polar2\",\"theta\":[\"Contigs\",\"Basepairs\",\"N50\",\"% Mapped reads\",\"Uncalled bases\",\"Misassembled contigs\",\"Misassembly events\"],\"type\":\"scatterpolar\"},{\"line\":{\"color\":\"#835221\"},\"name\":\"VelvetOptimiser\",\"r\":[10,10,12,11,12,1],\"showlegend\":true,\"subplot\":\"polar\",\"theta\":[\"Contigs\",\"Basepairs\",\"Largest contig\",\"N50\",\"% Mapped reads\",\"Uncalled bases\"],\"type\":\"scatterpolar\"},{\"line\":{\"color\":\"#835221\"},\"name\":\"VelvetOptimiser\",\"r\":[2,1,12,12,1,1,1],\"showlegend\":false,\"subplot\":\"polar2\",\"theta\":[\"Contigs\",\"Basepairs\",\"N50\",\"% Mapped reads\",\"Uncalled bases\",\"Misassembled contigs\",\"Misassembly events\"],\"type\":\"scatterpolar\"}],                        {\"annotations\":[{\"font\":{\"size\":16},\"showarrow\":false,\"text\":\"Original\",\"x\":0.225,\"xanchor\":\"center\",\"xref\":\"paper\",\"y\":1.0,\"yanchor\":\"bottom\",\"yref\":\"paper\"},{\"font\":{\"size\":16},\"showarrow\":false,\"text\":\"Filtered\",\"x\":0.775,\"xanchor\":\"center\",\"xref\":\"paper\",\"y\":1.0,\"yanchor\":\"bottom\",\"yref\":\"paper\"}],\"polar\":{\"angularaxis\":{\"categoryarray\":[\"Contigs\",\"Basepairs\",\"Largest contig\",\"N50\",\"% Mapped reads\",\"Uncalled bases\"],\"linecolor\":\"black\"},\"bgcolor\":\"rgb(255,255,255)\",\"domain\":{\"x\":[0.0,0.45],\"y\":[0.0,1.0]},\"hole\":0.08333333333333333,\"radialaxis\":{\"angle\":-22.5,\"autorange\":\"reversed\",\"gridcolor\":\"#DCDCDC\",\"linecolor\":\"black\",\"linewidth\":2,\"range\":[1,12],\"visible\":true}},\"polar2\":{\"angularaxis\":{\"categoryarray\":[\"Contigs\",\"Basepairs\",\"N50\",\"% Mapped reads\",\"Uncalled bases\",\"Misassembled contigs\",\"Misassembly events\"],\"linecolor\":\"black\"},\"bgcolor\":\"rgb(255,255,255)\",\"domain\":{\"x\":[0.55,1.0],\"y\":[0.0,1.0]},\"hole\":0.08333333333333333,\"radialaxis\":{\"angle\":-22.5,\"autorange\":\"reversed\",\"gridcolor\":\"#DCDCDC\",\"linecolor\":\"black\",\"linewidth\":2,\"range\":[1,12],\"visible\":true}},\"template\":{\"data\":{\"bar\":[{\"error_x\":{\"color\":\"#2a3f5f\"},\"error_y\":{\"color\":\"#2a3f5f\"},\"marker\":{\"line\":{\"color\":\"#E5ECF6\",\"width\":0.5},\"pattern\":{\"fillmode\":\"overlay\",\"size\":10,\"solidity\":0.2}},\"type\":\"bar\"}],\"barpolar\":[{\"marker\":{\"line\":{\"color\":\"#E5ECF6\",\"width\":0.5},\"pattern\":{\"fillmode\":\"overlay\",\"size\":10,\"solidity\":0.2}},\"type\":\"barpolar\"}],\"carpet\":[{\"aaxis\":{\"endlinecolor\":\"#2a3f5f\",\"gridcolor\":\"white\",\"linecolor\":\"white\",\"minorgridcolor\":\"white\",\"startlinecolor\":\"#2a3f5f\"},\"baxis\":{\"endlinecolor\":\"#2a3f5f\",\"gridcolor\":\"white\",\"linecolor\":\"white\",\"minorgridcolor\":\"white\",\"startlinecolor\":\"#2a3f5f\"},\"type\":\"carpet\"}],\"choropleth\":[{\"colorbar\":{\"outlinewidth\":0,\"ticks\":\"\"},\"type\":\"choropleth\"}],\"contour\":[{\"colorbar\":{\"outlinewidth\":0,\"ticks\":\"\"},\"colorscale\":[[0.0,\"#0d0887\"],[0.1111111111111111,\"#46039f\"],[0.2222222222222222,\"#7201a8\"],[0.3333333333333333,\"#9c179e\"],[0.4444444444444444,\"#bd3786\"],[0.5555555555555556,\"#d8576b\"],[0.6666666666666666,\"#ed7953\"],[0.7777777777777778,\"#fb9f3a\"],[0.8888888888888888,\"#fdca26\"],[1.0,\"#f0f921\"]],\"type\":\"contour\"}],\"contourcarpet\":[{\"colorbar\":{\"outlinewidth\":0,\"ticks\":\"\"},\"type\":\"contourcarpet\"}],\"heatmap\":[{\"colorbar\":{\"outlinewidth\":0,\"ticks\":\"\"},\"colorscale\":[[0.0,\"#0d0887\"],[0.1111111111111111,\"#46039f\"],[0.2222222222222222,\"#7201a8\"],[0.3333333333333333,\"#9c179e\"],[0.4444444444444444,\"#bd3786\"],[0.5555555555555556,\"#d8576b\"],[0.6666666666666666,\"#ed7953\"],[0.7777777777777778,\"#fb9f3a\"],[0.8888888888888888,\"#fdca26\"],[1.0,\"#f0f921\"]],\"type\":\"heatmap\"}],\"heatmapgl\":[{\"colorbar\":{\"outlinewidth\":0,\"ticks\":\"\"},\"colorscale\":[[0.0,\"#0d0887\"],[0.1111111111111111,\"#46039f\"],[0.2222222222222222,\"#7201a8\"],[0.3333333333333333,\"#9c179e\"],[0.4444444444444444,\"#bd3786\"],[0.5555555555555556,\"#d8576b\"],[0.6666666666666666,\"#ed7953\"],[0.7777777777777778,\"#fb9f3a\"],[0.8888888888888888,\"#fdca26\"],[1.0,\"#f0f921\"]],\"type\":\"heatmapgl\"}],\"histogram\":[{\"marker\":{\"pattern\":{\"fillmode\":\"overlay\",\"size\":10,\"solidity\":0.2}},\"type\":\"histogram\"}],\"histogram2d\":[{\"colorbar\":{\"outlinewidth\":0,\"ticks\":\"\"},\"colorscale\":[[0.0,\"#0d0887\"],[0.1111111111111111,\"#46039f\"],[0.2222222222222222,\"#7201a8\"],[0.3333333333333333,\"#9c179e\"],[0.4444444444444444,\"#bd3786\"],[0.5555555555555556,\"#d8576b\"],[0.6666666666666666,\"#ed7953\"],[0.7777777777777778,\"#fb9f3a\"],[0.8888888888888888,\"#fdca26\"],[1.0,\"#f0f921\"]],\"type\":\"histogram2d\"}],\"histogram2dcontour\":[{\"colorbar\":{\"outlinewidth\":0,\"ticks\":\"\"},\"colorscale\":[[0.0,\"#0d0887\"],[0.1111111111111111,\"#46039f\"],[0.2222222222222222,\"#7201a8\"],[0.3333333333333333,\"#9c179e\"],[0.4444444444444444,\"#bd3786\"],[0.5555555555555556,\"#d8576b\"],[0.6666666666666666,\"#ed7953\"],[0.7777777777777778,\"#fb9f3a\"],[0.8888888888888888,\"#fdca26\"],[1.0,\"#f0f921\"]],\"type\":\"histogram2dcontour\"}],\"mesh3d\":[{\"colorbar\":{\"outlinewidth\":0,\"ticks\":\"\"},\"type\":\"mesh3d\"}],\"parcoords\":[{\"line\":{\"colorbar\":{\"outlinewidth\":0,\"ticks\":\"\"}},\"type\":\"parcoords\"}],\"pie\":[{\"automargin\":true,\"type\":\"pie\"}],\"scatter\":[{\"marker\":{\"colorbar\":{\"outlinewidth\":0,\"ticks\":\"\"}},\"type\":\"scatter\"}],\"scatter3d\":[{\"line\":{\"colorbar\":{\"outlinewidth\":0,\"ticks\":\"\"}},\"marker\":{\"colorbar\":{\"outlinewidth\":0,\"ticks\":\"\"}},\"type\":\"scatter3d\"}],\"scattercarpet\":[{\"marker\":{\"colorbar\":{\"outlinewidth\":0,\"ticks\":\"\"}},\"type\":\"scattercarpet\"}],\"scattergeo\":[{\"marker\":{\"colorbar\":{\"outlinewidth\":0,\"ticks\":\"\"}},\"type\":\"scattergeo\"}],\"scattergl\":[{\"marker\":{\"colorbar\":{\"outlinewidth\":0,\"ticks\":\"\"}},\"type\":\"scattergl\"}],\"scattermapbox\":[{\"marker\":{\"colorbar\":{\"outlinewidth\":0,\"ticks\":\"\"}},\"type\":\"scattermapbox\"}],\"scatterpolar\":[{\"marker\":{\"colorbar\":{\"outlinewidth\":0,\"ticks\":\"\"}},\"type\":\"scatterpolar\"}],\"scatterpolargl\":[{\"marker\":{\"colorbar\":{\"outlinewidth\":0,\"ticks\":\"\"}},\"type\":\"scatterpolargl\"}],\"scatterternary\":[{\"marker\":{\"colorbar\":{\"outlinewidth\":0,\"ticks\":\"\"}},\"type\":\"scatterternary\"}],\"surface\":[{\"colorbar\":{\"outlinewidth\":0,\"ticks\":\"\"},\"colorscale\":[[0.0,\"#0d0887\"],[0.1111111111111111,\"#46039f\"],[0.2222222222222222,\"#7201a8\"],[0.3333333333333333,\"#9c179e\"],[0.4444444444444444,\"#bd3786\"],[0.5555555555555556,\"#d8576b\"],[0.6666666666666666,\"#ed7953\"],[0.7777777777777778,\"#fb9f3a\"],[0.8888888888888888,\"#fdca26\"],[1.0,\"#f0f921\"]],\"type\":\"surface\"}],\"table\":[{\"cells\":{\"fill\":{\"color\":\"#EBF0F8\"},\"line\":{\"color\":\"white\"}},\"header\":{\"fill\":{\"color\":\"#C8D4E3\"},\"line\":{\"color\":\"white\"}},\"type\":\"table\"}]},\"layout\":{\"annotationdefaults\":{\"arrowcolor\":\"#2a3f5f\",\"arrowhead\":0,\"arrowwidth\":1},\"autotypenumbers\":\"strict\",\"coloraxis\":{\"colorbar\":{\"outlinewidth\":0,\"ticks\":\"\"}},\"colorscale\":{\"diverging\":[[0,\"#8e0152\"],[0.1,\"#c51b7d\"],[0.2,\"#de77ae\"],[0.3,\"#f1b6da\"],[0.4,\"#fde0ef\"],[0.5,\"#f7f7f7\"],[0.6,\"#e6f5d0\"],[0.7,\"#b8e186\"],[0.8,\"#7fbc41\"],[0.9,\"#4d9221\"],[1,\"#276419\"]],\"sequential\":[[0.0,\"#0d0887\"],[0.1111111111111111,\"#46039f\"],[0.2222222222222222,\"#7201a8\"],[0.3333333333333333,\"#9c179e\"],[0.4444444444444444,\"#bd3786\"],[0.5555555555555556,\"#d8576b\"],[0.6666666666666666,\"#ed7953\"],[0.7777777777777778,\"#fb9f3a\"],[0.8888888888888888,\"#fdca26\"],[1.0,\"#f0f921\"]],\"sequentialminus\":[[0.0,\"#0d0887\"],[0.1111111111111111,\"#46039f\"],[0.2222222222222222,\"#7201a8\"],[0.3333333333333333,\"#9c179e\"],[0.4444444444444444,\"#bd3786\"],[0.5555555555555556,\"#d8576b\"],[0.6666666666666666,\"#ed7953\"],[0.7777777777777778,\"#fb9f3a\"],[0.8888888888888888,\"#fdca26\"],[1.0,\"#f0f921\"]]},\"colorway\":[\"#636efa\",\"#EF553B\",\"#00cc96\",\"#ab63fa\",\"#FFA15A\",\"#19d3f3\",\"#FF6692\",\"#B6E880\",\"#FF97FF\",\"#FECB52\"],\"font\":{\"color\":\"#2a3f5f\"},\"geo\":{\"bgcolor\":\"white\",\"lakecolor\":\"white\",\"landcolor\":\"#E5ECF6\",\"showlakes\":true,\"showland\":true,\"subunitcolor\":\"white\"},\"hoverlabel\":{\"align\":\"left\"},\"hovermode\":\"closest\",\"mapbox\":{\"style\":\"light\"},\"paper_bgcolor\":\"white\",\"plot_bgcolor\":\"#E5ECF6\",\"polar\":{\"angularaxis\":{\"gridcolor\":\"white\",\"linecolor\":\"white\",\"ticks\":\"\"},\"bgcolor\":\"#E5ECF6\",\"radialaxis\":{\"gridcolor\":\"white\",\"linecolor\":\"white\",\"ticks\":\"\"}},\"scene\":{\"xaxis\":{\"backgroundcolor\":\"#E5ECF6\",\"gridcolor\":\"white\",\"gridwidth\":2,\"linecolor\":\"white\",\"showbackground\":true,\"ticks\":\"\",\"zerolinecolor\":\"white\"},\"yaxis\":{\"backgroundcolor\":\"#E5ECF6\",\"gridcolor\":\"white\",\"gridwidth\":2,\"linecolor\":\"white\",\"showbackground\":true,\"ticks\":\"\",\"zerolinecolor\":\"white\"},\"zaxis\":{\"backgroundcolor\":\"#E5ECF6\",\"gridcolor\":\"white\",\"gridwidth\":2,\"linecolor\":\"white\",\"showbackground\":true,\"ticks\":\"\",\"zerolinecolor\":\"white\"}},\"shapedefaults\":{\"line\":{\"color\":\"#2a3f5f\"}},\"ternary\":{\"aaxis\":{\"gridcolor\":\"white\",\"linecolor\":\"white\",\"ticks\":\"\"},\"baxis\":{\"gridcolor\":\"white\",\"linecolor\":\"white\",\"ticks\":\"\"},\"bgcolor\":\"#E5ECF6\",\"caxis\":{\"gridcolor\":\"white\",\"linecolor\":\"white\",\"ticks\":\"\"}},\"title\":{\"x\":0.05},\"xaxis\":{\"automargin\":true,\"gridcolor\":\"white\",\"linecolor\":\"white\",\"ticks\":\"\",\"title\":{\"standoff\":15},\"zerolinecolor\":\"white\",\"zerolinewidth\":2},\"yaxis\":{\"automargin\":true,\"gridcolor\":\"white\",\"linecolor\":\"white\",\"ticks\":\"\",\"title\":{\"standoff\":15},\"zerolinecolor\":\"white\",\"zerolinewidth\":2}}},\"title\":{\"text\":\"ERR2935805\"}},                        {\"responsive\": true}                    ).then(function(){\n",
       "                            \n",
       "var gd = document.getElementById('ef0e692f-1433-4c45-ab4e-3e3cbfc3fe11');\n",
       "var x = new MutationObserver(function (mutations, observer) {{\n",
       "        var display = window.getComputedStyle(gd).display;\n",
       "        if (!display || display === 'none') {{\n",
       "            console.log([gd, 'removed!']);\n",
       "            Plotly.purge(gd);\n",
       "            observer.disconnect();\n",
       "        }}\n",
       "}});\n",
       "\n",
       "// Listen for the removal of the full notebook cells\n",
       "var notebookContainer = gd.closest('#notebook-container');\n",
       "if (notebookContainer) {{\n",
       "    x.observe(notebookContainer, {childList: true});\n",
       "}}\n",
       "\n",
       "// Listen for the clearing of the current output cell\n",
       "var outputEl = gd.closest('.output');\n",
       "if (outputEl) {{\n",
       "    x.observe(outputEl, {childList: true});\n",
       "}}\n",
       "\n",
       "                        })                };                });            </script>        </div>"
      ]
     },
     "metadata": {},
     "output_type": "display_data"
    },
    {
     "data": {
      "application/vnd.plotly.v1+json": {
       "config": {
        "plotlyServerURL": "https://plot.ly"
       },
       "data": [
        {
         "line": {
          "color": "#5876c8"
         },
         "name": "ABySS",
         "r": [
          1,
          1,
          11,
          11,
          11,
          1
         ],
         "showlegend": true,
         "subplot": "polar",
         "theta": [
          "Contigs",
          "Basepairs",
          "Largest contig",
          "N50",
          "% Mapped reads",
          "Uncalled bases"
         ],
         "type": "scatterpolar"
        },
        {
         "line": {
          "color": "#5876c8"
         },
         "name": "ABySS",
         "r": [
          1,
          1,
          11,
          11,
          1,
          1,
          1
         ],
         "showlegend": false,
         "subplot": "polar2",
         "theta": [
          "Contigs",
          "Basepairs",
          "N50",
          "% Mapped reads",
          "Uncalled bases",
          "Misassembled contigs",
          "Misassembly events"
         ],
         "type": "scatterpolar"
        },
        {
         "line": {
          "color": "#58AEC8"
         },
         "name": "BCALM2",
         "r": [
          12,
          12,
          10,
          10,
          10,
          1
         ],
         "showlegend": true,
         "subplot": "polar",
         "theta": [
          "Contigs",
          "Basepairs",
          "Largest contig",
          "N50",
          "% Mapped reads",
          "Uncalled bases"
         ],
         "type": "scatterpolar"
        },
        {
         "line": {
          "color": "#58AEC8"
         },
         "name": "BCALM2",
         "r": [
          3,
          3,
          10,
          10,
          1,
          1,
          1
         ],
         "showlegend": false,
         "subplot": "polar2",
         "theta": [
          "Contigs",
          "Basepairs",
          "N50",
          "% Mapped reads",
          "Uncalled bases",
          "Misassembled contigs",
          "Misassembly events"
         ],
         "type": "scatterpolar"
        },
        {
         "line": {
          "color": "#009392"
         },
         "name": "GATBMiniaPipeline",
         "r": [
          6,
          5,
          4,
          6,
          4,
          1
         ],
         "showlegend": true,
         "subplot": "polar",
         "theta": [
          "Contigs",
          "Basepairs",
          "Largest contig",
          "N50",
          "% Mapped reads",
          "Uncalled bases"
         ],
         "type": "scatterpolar"
        },
        {
         "line": {
          "color": "#009392"
         },
         "name": "GATBMiniaPipeline",
         "r": [
          9,
          9,
          6,
          4,
          1,
          10,
          11
         ],
         "showlegend": false,
         "subplot": "polar2",
         "theta": [
          "Contigs",
          "Basepairs",
          "N50",
          "% Mapped reads",
          "Uncalled bases",
          "Misassembled contigs",
          "Misassembly events"
         ],
         "type": "scatterpolar"
        },
        {
         "line": {
          "color": "#39B185"
         },
         "name": "IDBA-UD",
         "r": [
          7,
          6,
          5,
          5,
          3,
          1
         ],
         "showlegend": true,
         "subplot": "polar",
         "theta": [
          "Contigs",
          "Basepairs",
          "Largest contig",
          "N50",
          "% Mapped reads",
          "Uncalled bases"
         ],
         "type": "scatterpolar"
        },
        {
         "line": {
          "color": "#39B185"
         },
         "name": "IDBA-UD",
         "r": [
          8,
          10,
          5,
          3,
          1,
          10,
          10
         ],
         "showlegend": false,
         "subplot": "polar2",
         "theta": [
          "Contigs",
          "Basepairs",
          "N50",
          "% Mapped reads",
          "Uncalled bases",
          "Misassembled contigs",
          "Misassembly events"
         ],
         "type": "scatterpolar"
        },
        {
         "line": {
          "color": "#9CCB86"
         },
         "name": "MEGAHIT",
         "r": [
          5,
          7,
          3,
          4,
          1,
          1
         ],
         "showlegend": true,
         "subplot": "polar",
         "theta": [
          "Contigs",
          "Basepairs",
          "Largest contig",
          "N50",
          "% Mapped reads",
          "Uncalled bases"
         ],
         "type": "scatterpolar"
        },
        {
         "line": {
          "color": "#9CCB86"
         },
         "name": "MEGAHIT",
         "r": [
          7,
          11,
          4,
          2,
          1,
          1,
          1
         ],
         "showlegend": false,
         "subplot": "polar2",
         "theta": [
          "Contigs",
          "Basepairs",
          "N50",
          "% Mapped reads",
          "Uncalled bases",
          "Misassembled contigs",
          "Misassembly events"
         ],
         "type": "scatterpolar"
        },
        {
         "line": {
          "color": "#E9E29C"
         },
         "name": "MetaHipMer2",
         "r": [
          1,
          1,
          11,
          11,
          11,
          1
         ],
         "showlegend": true,
         "subplot": "polar",
         "theta": [
          "Contigs",
          "Basepairs",
          "Largest contig",
          "N50",
          "% Mapped reads",
          "Uncalled bases"
         ],
         "type": "scatterpolar"
        },
        {
         "line": {
          "color": "#E9E29C"
         },
         "name": "MetaHipMer2",
         "r": [
          1,
          1,
          11,
          11,
          1,
          1,
          1
         ],
         "showlegend": false,
         "subplot": "polar2",
         "theta": [
          "Contigs",
          "Basepairs",
          "N50",
          "% Mapped reads",
          "Uncalled bases",
          "Misassembled contigs",
          "Misassembly events"
         ],
         "type": "scatterpolar"
        },
        {
         "line": {
          "color": "#EEB479"
         },
         "name": "metaSPAdes",
         "r": [
          8,
          8,
          1,
          2,
          2,
          1
         ],
         "showlegend": true,
         "subplot": "polar",
         "theta": [
          "Contigs",
          "Basepairs",
          "Largest contig",
          "N50",
          "% Mapped reads",
          "Uncalled bases"
         ],
         "type": "scatterpolar"
        },
        {
         "line": {
          "color": "#EEB479"
         },
         "name": "metaSPAdes",
         "r": [
          5,
          12,
          2,
          1,
          1,
          8,
          9
         ],
         "showlegend": false,
         "subplot": "polar2",
         "theta": [
          "Contigs",
          "Basepairs",
          "N50",
          "% Mapped reads",
          "Uncalled bases",
          "Misassembled contigs",
          "Misassembly events"
         ],
         "type": "scatterpolar"
        },
        {
         "line": {
          "color": "#E88471"
         },
         "name": "MINIA",
         "r": [
          9,
          9,
          8,
          8,
          8,
          1
         ],
         "showlegend": true,
         "subplot": "polar",
         "theta": [
          "Contigs",
          "Basepairs",
          "Largest contig",
          "N50",
          "% Mapped reads",
          "Uncalled bases"
         ],
         "type": "scatterpolar"
        },
        {
         "line": {
          "color": "#E88471"
         },
         "name": "MINIA",
         "r": [
          12,
          6,
          8,
          7,
          1,
          1,
          1
         ],
         "showlegend": false,
         "subplot": "polar2",
         "theta": [
          "Contigs",
          "Basepairs",
          "N50",
          "% Mapped reads",
          "Uncalled bases",
          "Misassembled contigs",
          "Misassembly events"
         ],
         "type": "scatterpolar"
        },
        {
         "line": {
          "color": "#CF597E"
         },
         "name": "SKESA",
         "r": [
          3,
          3,
          6,
          1,
          7,
          1
         ],
         "showlegend": true,
         "subplot": "polar",
         "theta": [
          "Contigs",
          "Basepairs",
          "Largest contig",
          "N50",
          "% Mapped reads",
          "Uncalled bases"
         ],
         "type": "scatterpolar"
        },
        {
         "line": {
          "color": "#CF597E"
         },
         "name": "SKESA",
         "r": [
          4,
          4,
          1,
          6,
          1,
          1,
          1
         ],
         "showlegend": false,
         "subplot": "polar2",
         "theta": [
          "Contigs",
          "Basepairs",
          "N50",
          "% Mapped reads",
          "Uncalled bases",
          "Misassembled contigs",
          "Misassembly events"
         ],
         "type": "scatterpolar"
        },
        {
         "line": {
          "color": "#a54765"
         },
         "name": "SPAdes",
         "r": [
          10,
          10,
          7,
          7,
          6,
          1
         ],
         "showlegend": true,
         "subplot": "polar",
         "theta": [
          "Contigs",
          "Basepairs",
          "Largest contig",
          "N50",
          "% Mapped reads",
          "Uncalled bases"
         ],
         "type": "scatterpolar"
        },
        {
         "line": {
          "color": "#a54765"
         },
         "name": "SPAdes",
         "r": [
          11,
          7,
          7,
          8,
          1,
          8,
          8
         ],
         "showlegend": false,
         "subplot": "polar2",
         "theta": [
          "Contigs",
          "Basepairs",
          "N50",
          "% Mapped reads",
          "Uncalled bases",
          "Misassembled contigs",
          "Misassembly events"
         ],
         "type": "scatterpolar"
        },
        {
         "line": {
          "color": "#a42a2a"
         },
         "name": "Unicycler",
         "r": [
          4,
          4,
          2,
          3,
          5,
          1
         ],
         "showlegend": true,
         "subplot": "polar",
         "theta": [
          "Contigs",
          "Basepairs",
          "Largest contig",
          "N50",
          "% Mapped reads",
          "Uncalled bases"
         ],
         "type": "scatterpolar"
        },
        {
         "line": {
          "color": "#a42a2a"
         },
         "name": "Unicycler",
         "r": [
          6,
          8,
          3,
          5,
          1,
          12,
          12
         ],
         "showlegend": false,
         "subplot": "polar2",
         "theta": [
          "Contigs",
          "Basepairs",
          "N50",
          "% Mapped reads",
          "Uncalled bases",
          "Misassembled contigs",
          "Misassembly events"
         ],
         "type": "scatterpolar"
        },
        {
         "line": {
          "color": "#835221"
         },
         "name": "VelvetOptimiser",
         "r": [
          11,
          11,
          9,
          9,
          9,
          1
         ],
         "showlegend": true,
         "subplot": "polar",
         "theta": [
          "Contigs",
          "Basepairs",
          "Largest contig",
          "N50",
          "% Mapped reads",
          "Uncalled bases"
         ],
         "type": "scatterpolar"
        },
        {
         "line": {
          "color": "#835221"
         },
         "name": "VelvetOptimiser",
         "r": [
          10,
          5,
          9,
          9,
          1,
          1,
          1
         ],
         "showlegend": false,
         "subplot": "polar2",
         "theta": [
          "Contigs",
          "Basepairs",
          "N50",
          "% Mapped reads",
          "Uncalled bases",
          "Misassembled contigs",
          "Misassembly events"
         ],
         "type": "scatterpolar"
        }
       ],
       "layout": {
        "annotations": [
         {
          "font": {
           "size": 16
          },
          "showarrow": false,
          "text": "Original",
          "x": 0.225,
          "xanchor": "center",
          "xref": "paper",
          "y": 1,
          "yanchor": "bottom",
          "yref": "paper"
         },
         {
          "font": {
           "size": 16
          },
          "showarrow": false,
          "text": "Filtered",
          "x": 0.775,
          "xanchor": "center",
          "xref": "paper",
          "y": 1,
          "yanchor": "bottom",
          "yref": "paper"
         }
        ],
        "polar": {
         "angularaxis": {
          "categoryarray": [
           "Contigs",
           "Basepairs",
           "Largest contig",
           "N50",
           "% Mapped reads",
           "Uncalled bases"
          ],
          "linecolor": "black"
         },
         "bgcolor": "rgb(255,255,255)",
         "domain": {
          "x": [
           0,
           0.45
          ],
          "y": [
           0,
           1
          ]
         },
         "hole": 0.08333333333333333,
         "radialaxis": {
          "angle": -22.5,
          "autorange": "reversed",
          "gridcolor": "#DCDCDC",
          "linecolor": "black",
          "linewidth": 2,
          "range": [
           1,
           12
          ],
          "visible": true
         }
        },
        "polar2": {
         "angularaxis": {
          "categoryarray": [
           "Contigs",
           "Basepairs",
           "N50",
           "% Mapped reads",
           "Uncalled bases",
           "Misassembled contigs",
           "Misassembly events"
          ],
          "linecolor": "black"
         },
         "bgcolor": "rgb(255,255,255)",
         "domain": {
          "x": [
           0.55,
           1
          ],
          "y": [
           0,
           1
          ]
         },
         "hole": 0.08333333333333333,
         "radialaxis": {
          "angle": -22.5,
          "autorange": "reversed",
          "gridcolor": "#DCDCDC",
          "linecolor": "black",
          "linewidth": 2,
          "range": [
           1,
           12
          ],
          "visible": true
         }
        },
        "template": {
         "data": {
          "bar": [
           {
            "error_x": {
             "color": "#2a3f5f"
            },
            "error_y": {
             "color": "#2a3f5f"
            },
            "marker": {
             "line": {
              "color": "#E5ECF6",
              "width": 0.5
             },
             "pattern": {
              "fillmode": "overlay",
              "size": 10,
              "solidity": 0.2
             }
            },
            "type": "bar"
           }
          ],
          "barpolar": [
           {
            "marker": {
             "line": {
              "color": "#E5ECF6",
              "width": 0.5
             },
             "pattern": {
              "fillmode": "overlay",
              "size": 10,
              "solidity": 0.2
             }
            },
            "type": "barpolar"
           }
          ],
          "carpet": [
           {
            "aaxis": {
             "endlinecolor": "#2a3f5f",
             "gridcolor": "white",
             "linecolor": "white",
             "minorgridcolor": "white",
             "startlinecolor": "#2a3f5f"
            },
            "baxis": {
             "endlinecolor": "#2a3f5f",
             "gridcolor": "white",
             "linecolor": "white",
             "minorgridcolor": "white",
             "startlinecolor": "#2a3f5f"
            },
            "type": "carpet"
           }
          ],
          "choropleth": [
           {
            "colorbar": {
             "outlinewidth": 0,
             "ticks": ""
            },
            "type": "choropleth"
           }
          ],
          "contour": [
           {
            "colorbar": {
             "outlinewidth": 0,
             "ticks": ""
            },
            "colorscale": [
             [
              0,
              "#0d0887"
             ],
             [
              0.1111111111111111,
              "#46039f"
             ],
             [
              0.2222222222222222,
              "#7201a8"
             ],
             [
              0.3333333333333333,
              "#9c179e"
             ],
             [
              0.4444444444444444,
              "#bd3786"
             ],
             [
              0.5555555555555556,
              "#d8576b"
             ],
             [
              0.6666666666666666,
              "#ed7953"
             ],
             [
              0.7777777777777778,
              "#fb9f3a"
             ],
             [
              0.8888888888888888,
              "#fdca26"
             ],
             [
              1,
              "#f0f921"
             ]
            ],
            "type": "contour"
           }
          ],
          "contourcarpet": [
           {
            "colorbar": {
             "outlinewidth": 0,
             "ticks": ""
            },
            "type": "contourcarpet"
           }
          ],
          "heatmap": [
           {
            "colorbar": {
             "outlinewidth": 0,
             "ticks": ""
            },
            "colorscale": [
             [
              0,
              "#0d0887"
             ],
             [
              0.1111111111111111,
              "#46039f"
             ],
             [
              0.2222222222222222,
              "#7201a8"
             ],
             [
              0.3333333333333333,
              "#9c179e"
             ],
             [
              0.4444444444444444,
              "#bd3786"
             ],
             [
              0.5555555555555556,
              "#d8576b"
             ],
             [
              0.6666666666666666,
              "#ed7953"
             ],
             [
              0.7777777777777778,
              "#fb9f3a"
             ],
             [
              0.8888888888888888,
              "#fdca26"
             ],
             [
              1,
              "#f0f921"
             ]
            ],
            "type": "heatmap"
           }
          ],
          "heatmapgl": [
           {
            "colorbar": {
             "outlinewidth": 0,
             "ticks": ""
            },
            "colorscale": [
             [
              0,
              "#0d0887"
             ],
             [
              0.1111111111111111,
              "#46039f"
             ],
             [
              0.2222222222222222,
              "#7201a8"
             ],
             [
              0.3333333333333333,
              "#9c179e"
             ],
             [
              0.4444444444444444,
              "#bd3786"
             ],
             [
              0.5555555555555556,
              "#d8576b"
             ],
             [
              0.6666666666666666,
              "#ed7953"
             ],
             [
              0.7777777777777778,
              "#fb9f3a"
             ],
             [
              0.8888888888888888,
              "#fdca26"
             ],
             [
              1,
              "#f0f921"
             ]
            ],
            "type": "heatmapgl"
           }
          ],
          "histogram": [
           {
            "marker": {
             "pattern": {
              "fillmode": "overlay",
              "size": 10,
              "solidity": 0.2
             }
            },
            "type": "histogram"
           }
          ],
          "histogram2d": [
           {
            "colorbar": {
             "outlinewidth": 0,
             "ticks": ""
            },
            "colorscale": [
             [
              0,
              "#0d0887"
             ],
             [
              0.1111111111111111,
              "#46039f"
             ],
             [
              0.2222222222222222,
              "#7201a8"
             ],
             [
              0.3333333333333333,
              "#9c179e"
             ],
             [
              0.4444444444444444,
              "#bd3786"
             ],
             [
              0.5555555555555556,
              "#d8576b"
             ],
             [
              0.6666666666666666,
              "#ed7953"
             ],
             [
              0.7777777777777778,
              "#fb9f3a"
             ],
             [
              0.8888888888888888,
              "#fdca26"
             ],
             [
              1,
              "#f0f921"
             ]
            ],
            "type": "histogram2d"
           }
          ],
          "histogram2dcontour": [
           {
            "colorbar": {
             "outlinewidth": 0,
             "ticks": ""
            },
            "colorscale": [
             [
              0,
              "#0d0887"
             ],
             [
              0.1111111111111111,
              "#46039f"
             ],
             [
              0.2222222222222222,
              "#7201a8"
             ],
             [
              0.3333333333333333,
              "#9c179e"
             ],
             [
              0.4444444444444444,
              "#bd3786"
             ],
             [
              0.5555555555555556,
              "#d8576b"
             ],
             [
              0.6666666666666666,
              "#ed7953"
             ],
             [
              0.7777777777777778,
              "#fb9f3a"
             ],
             [
              0.8888888888888888,
              "#fdca26"
             ],
             [
              1,
              "#f0f921"
             ]
            ],
            "type": "histogram2dcontour"
           }
          ],
          "mesh3d": [
           {
            "colorbar": {
             "outlinewidth": 0,
             "ticks": ""
            },
            "type": "mesh3d"
           }
          ],
          "parcoords": [
           {
            "line": {
             "colorbar": {
              "outlinewidth": 0,
              "ticks": ""
             }
            },
            "type": "parcoords"
           }
          ],
          "pie": [
           {
            "automargin": true,
            "type": "pie"
           }
          ],
          "scatter": [
           {
            "marker": {
             "colorbar": {
              "outlinewidth": 0,
              "ticks": ""
             }
            },
            "type": "scatter"
           }
          ],
          "scatter3d": [
           {
            "line": {
             "colorbar": {
              "outlinewidth": 0,
              "ticks": ""
             }
            },
            "marker": {
             "colorbar": {
              "outlinewidth": 0,
              "ticks": ""
             }
            },
            "type": "scatter3d"
           }
          ],
          "scattercarpet": [
           {
            "marker": {
             "colorbar": {
              "outlinewidth": 0,
              "ticks": ""
             }
            },
            "type": "scattercarpet"
           }
          ],
          "scattergeo": [
           {
            "marker": {
             "colorbar": {
              "outlinewidth": 0,
              "ticks": ""
             }
            },
            "type": "scattergeo"
           }
          ],
          "scattergl": [
           {
            "marker": {
             "colorbar": {
              "outlinewidth": 0,
              "ticks": ""
             }
            },
            "type": "scattergl"
           }
          ],
          "scattermapbox": [
           {
            "marker": {
             "colorbar": {
              "outlinewidth": 0,
              "ticks": ""
             }
            },
            "type": "scattermapbox"
           }
          ],
          "scatterpolar": [
           {
            "marker": {
             "colorbar": {
              "outlinewidth": 0,
              "ticks": ""
             }
            },
            "type": "scatterpolar"
           }
          ],
          "scatterpolargl": [
           {
            "marker": {
             "colorbar": {
              "outlinewidth": 0,
              "ticks": ""
             }
            },
            "type": "scatterpolargl"
           }
          ],
          "scatterternary": [
           {
            "marker": {
             "colorbar": {
              "outlinewidth": 0,
              "ticks": ""
             }
            },
            "type": "scatterternary"
           }
          ],
          "surface": [
           {
            "colorbar": {
             "outlinewidth": 0,
             "ticks": ""
            },
            "colorscale": [
             [
              0,
              "#0d0887"
             ],
             [
              0.1111111111111111,
              "#46039f"
             ],
             [
              0.2222222222222222,
              "#7201a8"
             ],
             [
              0.3333333333333333,
              "#9c179e"
             ],
             [
              0.4444444444444444,
              "#bd3786"
             ],
             [
              0.5555555555555556,
              "#d8576b"
             ],
             [
              0.6666666666666666,
              "#ed7953"
             ],
             [
              0.7777777777777778,
              "#fb9f3a"
             ],
             [
              0.8888888888888888,
              "#fdca26"
             ],
             [
              1,
              "#f0f921"
             ]
            ],
            "type": "surface"
           }
          ],
          "table": [
           {
            "cells": {
             "fill": {
              "color": "#EBF0F8"
             },
             "line": {
              "color": "white"
             }
            },
            "header": {
             "fill": {
              "color": "#C8D4E3"
             },
             "line": {
              "color": "white"
             }
            },
            "type": "table"
           }
          ]
         },
         "layout": {
          "annotationdefaults": {
           "arrowcolor": "#2a3f5f",
           "arrowhead": 0,
           "arrowwidth": 1
          },
          "autotypenumbers": "strict",
          "coloraxis": {
           "colorbar": {
            "outlinewidth": 0,
            "ticks": ""
           }
          },
          "colorscale": {
           "diverging": [
            [
             0,
             "#8e0152"
            ],
            [
             0.1,
             "#c51b7d"
            ],
            [
             0.2,
             "#de77ae"
            ],
            [
             0.3,
             "#f1b6da"
            ],
            [
             0.4,
             "#fde0ef"
            ],
            [
             0.5,
             "#f7f7f7"
            ],
            [
             0.6,
             "#e6f5d0"
            ],
            [
             0.7,
             "#b8e186"
            ],
            [
             0.8,
             "#7fbc41"
            ],
            [
             0.9,
             "#4d9221"
            ],
            [
             1,
             "#276419"
            ]
           ],
           "sequential": [
            [
             0,
             "#0d0887"
            ],
            [
             0.1111111111111111,
             "#46039f"
            ],
            [
             0.2222222222222222,
             "#7201a8"
            ],
            [
             0.3333333333333333,
             "#9c179e"
            ],
            [
             0.4444444444444444,
             "#bd3786"
            ],
            [
             0.5555555555555556,
             "#d8576b"
            ],
            [
             0.6666666666666666,
             "#ed7953"
            ],
            [
             0.7777777777777778,
             "#fb9f3a"
            ],
            [
             0.8888888888888888,
             "#fdca26"
            ],
            [
             1,
             "#f0f921"
            ]
           ],
           "sequentialminus": [
            [
             0,
             "#0d0887"
            ],
            [
             0.1111111111111111,
             "#46039f"
            ],
            [
             0.2222222222222222,
             "#7201a8"
            ],
            [
             0.3333333333333333,
             "#9c179e"
            ],
            [
             0.4444444444444444,
             "#bd3786"
            ],
            [
             0.5555555555555556,
             "#d8576b"
            ],
            [
             0.6666666666666666,
             "#ed7953"
            ],
            [
             0.7777777777777778,
             "#fb9f3a"
            ],
            [
             0.8888888888888888,
             "#fdca26"
            ],
            [
             1,
             "#f0f921"
            ]
           ]
          },
          "colorway": [
           "#636efa",
           "#EF553B",
           "#00cc96",
           "#ab63fa",
           "#FFA15A",
           "#19d3f3",
           "#FF6692",
           "#B6E880",
           "#FF97FF",
           "#FECB52"
          ],
          "font": {
           "color": "#2a3f5f"
          },
          "geo": {
           "bgcolor": "white",
           "lakecolor": "white",
           "landcolor": "#E5ECF6",
           "showlakes": true,
           "showland": true,
           "subunitcolor": "white"
          },
          "hoverlabel": {
           "align": "left"
          },
          "hovermode": "closest",
          "mapbox": {
           "style": "light"
          },
          "paper_bgcolor": "white",
          "plot_bgcolor": "#E5ECF6",
          "polar": {
           "angularaxis": {
            "gridcolor": "white",
            "linecolor": "white",
            "ticks": ""
           },
           "bgcolor": "#E5ECF6",
           "radialaxis": {
            "gridcolor": "white",
            "linecolor": "white",
            "ticks": ""
           }
          },
          "scene": {
           "xaxis": {
            "backgroundcolor": "#E5ECF6",
            "gridcolor": "white",
            "gridwidth": 2,
            "linecolor": "white",
            "showbackground": true,
            "ticks": "",
            "zerolinecolor": "white"
           },
           "yaxis": {
            "backgroundcolor": "#E5ECF6",
            "gridcolor": "white",
            "gridwidth": 2,
            "linecolor": "white",
            "showbackground": true,
            "ticks": "",
            "zerolinecolor": "white"
           },
           "zaxis": {
            "backgroundcolor": "#E5ECF6",
            "gridcolor": "white",
            "gridwidth": 2,
            "linecolor": "white",
            "showbackground": true,
            "ticks": "",
            "zerolinecolor": "white"
           }
          },
          "shapedefaults": {
           "line": {
            "color": "#2a3f5f"
           }
          },
          "ternary": {
           "aaxis": {
            "gridcolor": "white",
            "linecolor": "white",
            "ticks": ""
           },
           "baxis": {
            "gridcolor": "white",
            "linecolor": "white",
            "ticks": ""
           },
           "bgcolor": "#E5ECF6",
           "caxis": {
            "gridcolor": "white",
            "linecolor": "white",
            "ticks": ""
           }
          },
          "title": {
           "x": 0.05
          },
          "xaxis": {
           "automargin": true,
           "gridcolor": "white",
           "linecolor": "white",
           "ticks": "",
           "title": {
            "standoff": 15
           },
           "zerolinecolor": "white",
           "zerolinewidth": 2
          },
          "yaxis": {
           "automargin": true,
           "gridcolor": "white",
           "linecolor": "white",
           "ticks": "",
           "title": {
            "standoff": 15
           },
           "zerolinecolor": "white",
           "zerolinewidth": 2
          }
         }
        },
        "title": {
         "text": "LHS"
        }
       }
      },
      "text/html": [
       "<div>                            <div id=\"c7ef543c-6b2e-4367-81bc-3b6c96daa8fa\" class=\"plotly-graph-div\" style=\"height:525px; width:100%;\"></div>            <script type=\"text/javascript\">                require([\"plotly\"], function(Plotly) {                    window.PLOTLYENV=window.PLOTLYENV || {};                                    if (document.getElementById(\"c7ef543c-6b2e-4367-81bc-3b6c96daa8fa\")) {                    Plotly.newPlot(                        \"c7ef543c-6b2e-4367-81bc-3b6c96daa8fa\",                        [{\"line\":{\"color\":\"#5876c8\"},\"name\":\"ABySS\",\"r\":[1,1,11,11,11,1],\"showlegend\":true,\"subplot\":\"polar\",\"theta\":[\"Contigs\",\"Basepairs\",\"Largest contig\",\"N50\",\"% Mapped reads\",\"Uncalled bases\"],\"type\":\"scatterpolar\"},{\"line\":{\"color\":\"#5876c8\"},\"name\":\"ABySS\",\"r\":[1,1,11,11,1,1,1],\"showlegend\":false,\"subplot\":\"polar2\",\"theta\":[\"Contigs\",\"Basepairs\",\"N50\",\"% Mapped reads\",\"Uncalled bases\",\"Misassembled contigs\",\"Misassembly events\"],\"type\":\"scatterpolar\"},{\"line\":{\"color\":\"#58AEC8\"},\"name\":\"BCALM2\",\"r\":[12,12,10,10,10,1],\"showlegend\":true,\"subplot\":\"polar\",\"theta\":[\"Contigs\",\"Basepairs\",\"Largest contig\",\"N50\",\"% Mapped reads\",\"Uncalled bases\"],\"type\":\"scatterpolar\"},{\"line\":{\"color\":\"#58AEC8\"},\"name\":\"BCALM2\",\"r\":[3,3,10,10,1,1,1],\"showlegend\":false,\"subplot\":\"polar2\",\"theta\":[\"Contigs\",\"Basepairs\",\"N50\",\"% Mapped reads\",\"Uncalled bases\",\"Misassembled contigs\",\"Misassembly events\"],\"type\":\"scatterpolar\"},{\"line\":{\"color\":\"#009392\"},\"name\":\"GATBMiniaPipeline\",\"r\":[6,5,4,6,4,1],\"showlegend\":true,\"subplot\":\"polar\",\"theta\":[\"Contigs\",\"Basepairs\",\"Largest contig\",\"N50\",\"% Mapped reads\",\"Uncalled bases\"],\"type\":\"scatterpolar\"},{\"line\":{\"color\":\"#009392\"},\"name\":\"GATBMiniaPipeline\",\"r\":[9,9,6,4,1,10,11],\"showlegend\":false,\"subplot\":\"polar2\",\"theta\":[\"Contigs\",\"Basepairs\",\"N50\",\"% Mapped reads\",\"Uncalled bases\",\"Misassembled contigs\",\"Misassembly events\"],\"type\":\"scatterpolar\"},{\"line\":{\"color\":\"#39B185\"},\"name\":\"IDBA-UD\",\"r\":[7,6,5,5,3,1],\"showlegend\":true,\"subplot\":\"polar\",\"theta\":[\"Contigs\",\"Basepairs\",\"Largest contig\",\"N50\",\"% Mapped reads\",\"Uncalled bases\"],\"type\":\"scatterpolar\"},{\"line\":{\"color\":\"#39B185\"},\"name\":\"IDBA-UD\",\"r\":[8,10,5,3,1,10,10],\"showlegend\":false,\"subplot\":\"polar2\",\"theta\":[\"Contigs\",\"Basepairs\",\"N50\",\"% Mapped reads\",\"Uncalled bases\",\"Misassembled contigs\",\"Misassembly events\"],\"type\":\"scatterpolar\"},{\"line\":{\"color\":\"#9CCB86\"},\"name\":\"MEGAHIT\",\"r\":[5,7,3,4,1,1],\"showlegend\":true,\"subplot\":\"polar\",\"theta\":[\"Contigs\",\"Basepairs\",\"Largest contig\",\"N50\",\"% Mapped reads\",\"Uncalled bases\"],\"type\":\"scatterpolar\"},{\"line\":{\"color\":\"#9CCB86\"},\"name\":\"MEGAHIT\",\"r\":[7,11,4,2,1,1,1],\"showlegend\":false,\"subplot\":\"polar2\",\"theta\":[\"Contigs\",\"Basepairs\",\"N50\",\"% Mapped reads\",\"Uncalled bases\",\"Misassembled contigs\",\"Misassembly events\"],\"type\":\"scatterpolar\"},{\"line\":{\"color\":\"#E9E29C\"},\"name\":\"MetaHipMer2\",\"r\":[1,1,11,11,11,1],\"showlegend\":true,\"subplot\":\"polar\",\"theta\":[\"Contigs\",\"Basepairs\",\"Largest contig\",\"N50\",\"% Mapped reads\",\"Uncalled bases\"],\"type\":\"scatterpolar\"},{\"line\":{\"color\":\"#E9E29C\"},\"name\":\"MetaHipMer2\",\"r\":[1,1,11,11,1,1,1],\"showlegend\":false,\"subplot\":\"polar2\",\"theta\":[\"Contigs\",\"Basepairs\",\"N50\",\"% Mapped reads\",\"Uncalled bases\",\"Misassembled contigs\",\"Misassembly events\"],\"type\":\"scatterpolar\"},{\"line\":{\"color\":\"#EEB479\"},\"name\":\"metaSPAdes\",\"r\":[8,8,1,2,2,1],\"showlegend\":true,\"subplot\":\"polar\",\"theta\":[\"Contigs\",\"Basepairs\",\"Largest contig\",\"N50\",\"% Mapped reads\",\"Uncalled bases\"],\"type\":\"scatterpolar\"},{\"line\":{\"color\":\"#EEB479\"},\"name\":\"metaSPAdes\",\"r\":[5,12,2,1,1,8,9],\"showlegend\":false,\"subplot\":\"polar2\",\"theta\":[\"Contigs\",\"Basepairs\",\"N50\",\"% Mapped reads\",\"Uncalled bases\",\"Misassembled contigs\",\"Misassembly events\"],\"type\":\"scatterpolar\"},{\"line\":{\"color\":\"#E88471\"},\"name\":\"MINIA\",\"r\":[9,9,8,8,8,1],\"showlegend\":true,\"subplot\":\"polar\",\"theta\":[\"Contigs\",\"Basepairs\",\"Largest contig\",\"N50\",\"% Mapped reads\",\"Uncalled bases\"],\"type\":\"scatterpolar\"},{\"line\":{\"color\":\"#E88471\"},\"name\":\"MINIA\",\"r\":[12,6,8,7,1,1,1],\"showlegend\":false,\"subplot\":\"polar2\",\"theta\":[\"Contigs\",\"Basepairs\",\"N50\",\"% Mapped reads\",\"Uncalled bases\",\"Misassembled contigs\",\"Misassembly events\"],\"type\":\"scatterpolar\"},{\"line\":{\"color\":\"#CF597E\"},\"name\":\"SKESA\",\"r\":[3,3,6,1,7,1],\"showlegend\":true,\"subplot\":\"polar\",\"theta\":[\"Contigs\",\"Basepairs\",\"Largest contig\",\"N50\",\"% Mapped reads\",\"Uncalled bases\"],\"type\":\"scatterpolar\"},{\"line\":{\"color\":\"#CF597E\"},\"name\":\"SKESA\",\"r\":[4,4,1,6,1,1,1],\"showlegend\":false,\"subplot\":\"polar2\",\"theta\":[\"Contigs\",\"Basepairs\",\"N50\",\"% Mapped reads\",\"Uncalled bases\",\"Misassembled contigs\",\"Misassembly events\"],\"type\":\"scatterpolar\"},{\"line\":{\"color\":\"#a54765\"},\"name\":\"SPAdes\",\"r\":[10,10,7,7,6,1],\"showlegend\":true,\"subplot\":\"polar\",\"theta\":[\"Contigs\",\"Basepairs\",\"Largest contig\",\"N50\",\"% Mapped reads\",\"Uncalled bases\"],\"type\":\"scatterpolar\"},{\"line\":{\"color\":\"#a54765\"},\"name\":\"SPAdes\",\"r\":[11,7,7,8,1,8,8],\"showlegend\":false,\"subplot\":\"polar2\",\"theta\":[\"Contigs\",\"Basepairs\",\"N50\",\"% Mapped reads\",\"Uncalled bases\",\"Misassembled contigs\",\"Misassembly events\"],\"type\":\"scatterpolar\"},{\"line\":{\"color\":\"#a42a2a\"},\"name\":\"Unicycler\",\"r\":[4,4,2,3,5,1],\"showlegend\":true,\"subplot\":\"polar\",\"theta\":[\"Contigs\",\"Basepairs\",\"Largest contig\",\"N50\",\"% Mapped reads\",\"Uncalled bases\"],\"type\":\"scatterpolar\"},{\"line\":{\"color\":\"#a42a2a\"},\"name\":\"Unicycler\",\"r\":[6,8,3,5,1,12,12],\"showlegend\":false,\"subplot\":\"polar2\",\"theta\":[\"Contigs\",\"Basepairs\",\"N50\",\"% Mapped reads\",\"Uncalled bases\",\"Misassembled contigs\",\"Misassembly events\"],\"type\":\"scatterpolar\"},{\"line\":{\"color\":\"#835221\"},\"name\":\"VelvetOptimiser\",\"r\":[11,11,9,9,9,1],\"showlegend\":true,\"subplot\":\"polar\",\"theta\":[\"Contigs\",\"Basepairs\",\"Largest contig\",\"N50\",\"% Mapped reads\",\"Uncalled bases\"],\"type\":\"scatterpolar\"},{\"line\":{\"color\":\"#835221\"},\"name\":\"VelvetOptimiser\",\"r\":[10,5,9,9,1,1,1],\"showlegend\":false,\"subplot\":\"polar2\",\"theta\":[\"Contigs\",\"Basepairs\",\"N50\",\"% Mapped reads\",\"Uncalled bases\",\"Misassembled contigs\",\"Misassembly events\"],\"type\":\"scatterpolar\"}],                        {\"annotations\":[{\"font\":{\"size\":16},\"showarrow\":false,\"text\":\"Original\",\"x\":0.225,\"xanchor\":\"center\",\"xref\":\"paper\",\"y\":1.0,\"yanchor\":\"bottom\",\"yref\":\"paper\"},{\"font\":{\"size\":16},\"showarrow\":false,\"text\":\"Filtered\",\"x\":0.775,\"xanchor\":\"center\",\"xref\":\"paper\",\"y\":1.0,\"yanchor\":\"bottom\",\"yref\":\"paper\"}],\"polar\":{\"angularaxis\":{\"categoryarray\":[\"Contigs\",\"Basepairs\",\"Largest contig\",\"N50\",\"% Mapped reads\",\"Uncalled bases\"],\"linecolor\":\"black\"},\"bgcolor\":\"rgb(255,255,255)\",\"domain\":{\"x\":[0.0,0.45],\"y\":[0.0,1.0]},\"hole\":0.08333333333333333,\"radialaxis\":{\"angle\":-22.5,\"autorange\":\"reversed\",\"gridcolor\":\"#DCDCDC\",\"linecolor\":\"black\",\"linewidth\":2,\"range\":[1,12],\"visible\":true}},\"polar2\":{\"angularaxis\":{\"categoryarray\":[\"Contigs\",\"Basepairs\",\"N50\",\"% Mapped reads\",\"Uncalled bases\",\"Misassembled contigs\",\"Misassembly events\"],\"linecolor\":\"black\"},\"bgcolor\":\"rgb(255,255,255)\",\"domain\":{\"x\":[0.55,1.0],\"y\":[0.0,1.0]},\"hole\":0.08333333333333333,\"radialaxis\":{\"angle\":-22.5,\"autorange\":\"reversed\",\"gridcolor\":\"#DCDCDC\",\"linecolor\":\"black\",\"linewidth\":2,\"range\":[1,12],\"visible\":true}},\"template\":{\"data\":{\"bar\":[{\"error_x\":{\"color\":\"#2a3f5f\"},\"error_y\":{\"color\":\"#2a3f5f\"},\"marker\":{\"line\":{\"color\":\"#E5ECF6\",\"width\":0.5},\"pattern\":{\"fillmode\":\"overlay\",\"size\":10,\"solidity\":0.2}},\"type\":\"bar\"}],\"barpolar\":[{\"marker\":{\"line\":{\"color\":\"#E5ECF6\",\"width\":0.5},\"pattern\":{\"fillmode\":\"overlay\",\"size\":10,\"solidity\":0.2}},\"type\":\"barpolar\"}],\"carpet\":[{\"aaxis\":{\"endlinecolor\":\"#2a3f5f\",\"gridcolor\":\"white\",\"linecolor\":\"white\",\"minorgridcolor\":\"white\",\"startlinecolor\":\"#2a3f5f\"},\"baxis\":{\"endlinecolor\":\"#2a3f5f\",\"gridcolor\":\"white\",\"linecolor\":\"white\",\"minorgridcolor\":\"white\",\"startlinecolor\":\"#2a3f5f\"},\"type\":\"carpet\"}],\"choropleth\":[{\"colorbar\":{\"outlinewidth\":0,\"ticks\":\"\"},\"type\":\"choropleth\"}],\"contour\":[{\"colorbar\":{\"outlinewidth\":0,\"ticks\":\"\"},\"colorscale\":[[0.0,\"#0d0887\"],[0.1111111111111111,\"#46039f\"],[0.2222222222222222,\"#7201a8\"],[0.3333333333333333,\"#9c179e\"],[0.4444444444444444,\"#bd3786\"],[0.5555555555555556,\"#d8576b\"],[0.6666666666666666,\"#ed7953\"],[0.7777777777777778,\"#fb9f3a\"],[0.8888888888888888,\"#fdca26\"],[1.0,\"#f0f921\"]],\"type\":\"contour\"}],\"contourcarpet\":[{\"colorbar\":{\"outlinewidth\":0,\"ticks\":\"\"},\"type\":\"contourcarpet\"}],\"heatmap\":[{\"colorbar\":{\"outlinewidth\":0,\"ticks\":\"\"},\"colorscale\":[[0.0,\"#0d0887\"],[0.1111111111111111,\"#46039f\"],[0.2222222222222222,\"#7201a8\"],[0.3333333333333333,\"#9c179e\"],[0.4444444444444444,\"#bd3786\"],[0.5555555555555556,\"#d8576b\"],[0.6666666666666666,\"#ed7953\"],[0.7777777777777778,\"#fb9f3a\"],[0.8888888888888888,\"#fdca26\"],[1.0,\"#f0f921\"]],\"type\":\"heatmap\"}],\"heatmapgl\":[{\"colorbar\":{\"outlinewidth\":0,\"ticks\":\"\"},\"colorscale\":[[0.0,\"#0d0887\"],[0.1111111111111111,\"#46039f\"],[0.2222222222222222,\"#7201a8\"],[0.3333333333333333,\"#9c179e\"],[0.4444444444444444,\"#bd3786\"],[0.5555555555555556,\"#d8576b\"],[0.6666666666666666,\"#ed7953\"],[0.7777777777777778,\"#fb9f3a\"],[0.8888888888888888,\"#fdca26\"],[1.0,\"#f0f921\"]],\"type\":\"heatmapgl\"}],\"histogram\":[{\"marker\":{\"pattern\":{\"fillmode\":\"overlay\",\"size\":10,\"solidity\":0.2}},\"type\":\"histogram\"}],\"histogram2d\":[{\"colorbar\":{\"outlinewidth\":0,\"ticks\":\"\"},\"colorscale\":[[0.0,\"#0d0887\"],[0.1111111111111111,\"#46039f\"],[0.2222222222222222,\"#7201a8\"],[0.3333333333333333,\"#9c179e\"],[0.4444444444444444,\"#bd3786\"],[0.5555555555555556,\"#d8576b\"],[0.6666666666666666,\"#ed7953\"],[0.7777777777777778,\"#fb9f3a\"],[0.8888888888888888,\"#fdca26\"],[1.0,\"#f0f921\"]],\"type\":\"histogram2d\"}],\"histogram2dcontour\":[{\"colorbar\":{\"outlinewidth\":0,\"ticks\":\"\"},\"colorscale\":[[0.0,\"#0d0887\"],[0.1111111111111111,\"#46039f\"],[0.2222222222222222,\"#7201a8\"],[0.3333333333333333,\"#9c179e\"],[0.4444444444444444,\"#bd3786\"],[0.5555555555555556,\"#d8576b\"],[0.6666666666666666,\"#ed7953\"],[0.7777777777777778,\"#fb9f3a\"],[0.8888888888888888,\"#fdca26\"],[1.0,\"#f0f921\"]],\"type\":\"histogram2dcontour\"}],\"mesh3d\":[{\"colorbar\":{\"outlinewidth\":0,\"ticks\":\"\"},\"type\":\"mesh3d\"}],\"parcoords\":[{\"line\":{\"colorbar\":{\"outlinewidth\":0,\"ticks\":\"\"}},\"type\":\"parcoords\"}],\"pie\":[{\"automargin\":true,\"type\":\"pie\"}],\"scatter\":[{\"marker\":{\"colorbar\":{\"outlinewidth\":0,\"ticks\":\"\"}},\"type\":\"scatter\"}],\"scatter3d\":[{\"line\":{\"colorbar\":{\"outlinewidth\":0,\"ticks\":\"\"}},\"marker\":{\"colorbar\":{\"outlinewidth\":0,\"ticks\":\"\"}},\"type\":\"scatter3d\"}],\"scattercarpet\":[{\"marker\":{\"colorbar\":{\"outlinewidth\":0,\"ticks\":\"\"}},\"type\":\"scattercarpet\"}],\"scattergeo\":[{\"marker\":{\"colorbar\":{\"outlinewidth\":0,\"ticks\":\"\"}},\"type\":\"scattergeo\"}],\"scattergl\":[{\"marker\":{\"colorbar\":{\"outlinewidth\":0,\"ticks\":\"\"}},\"type\":\"scattergl\"}],\"scattermapbox\":[{\"marker\":{\"colorbar\":{\"outlinewidth\":0,\"ticks\":\"\"}},\"type\":\"scattermapbox\"}],\"scatterpolar\":[{\"marker\":{\"colorbar\":{\"outlinewidth\":0,\"ticks\":\"\"}},\"type\":\"scatterpolar\"}],\"scatterpolargl\":[{\"marker\":{\"colorbar\":{\"outlinewidth\":0,\"ticks\":\"\"}},\"type\":\"scatterpolargl\"}],\"scatterternary\":[{\"marker\":{\"colorbar\":{\"outlinewidth\":0,\"ticks\":\"\"}},\"type\":\"scatterternary\"}],\"surface\":[{\"colorbar\":{\"outlinewidth\":0,\"ticks\":\"\"},\"colorscale\":[[0.0,\"#0d0887\"],[0.1111111111111111,\"#46039f\"],[0.2222222222222222,\"#7201a8\"],[0.3333333333333333,\"#9c179e\"],[0.4444444444444444,\"#bd3786\"],[0.5555555555555556,\"#d8576b\"],[0.6666666666666666,\"#ed7953\"],[0.7777777777777778,\"#fb9f3a\"],[0.8888888888888888,\"#fdca26\"],[1.0,\"#f0f921\"]],\"type\":\"surface\"}],\"table\":[{\"cells\":{\"fill\":{\"color\":\"#EBF0F8\"},\"line\":{\"color\":\"white\"}},\"header\":{\"fill\":{\"color\":\"#C8D4E3\"},\"line\":{\"color\":\"white\"}},\"type\":\"table\"}]},\"layout\":{\"annotationdefaults\":{\"arrowcolor\":\"#2a3f5f\",\"arrowhead\":0,\"arrowwidth\":1},\"autotypenumbers\":\"strict\",\"coloraxis\":{\"colorbar\":{\"outlinewidth\":0,\"ticks\":\"\"}},\"colorscale\":{\"diverging\":[[0,\"#8e0152\"],[0.1,\"#c51b7d\"],[0.2,\"#de77ae\"],[0.3,\"#f1b6da\"],[0.4,\"#fde0ef\"],[0.5,\"#f7f7f7\"],[0.6,\"#e6f5d0\"],[0.7,\"#b8e186\"],[0.8,\"#7fbc41\"],[0.9,\"#4d9221\"],[1,\"#276419\"]],\"sequential\":[[0.0,\"#0d0887\"],[0.1111111111111111,\"#46039f\"],[0.2222222222222222,\"#7201a8\"],[0.3333333333333333,\"#9c179e\"],[0.4444444444444444,\"#bd3786\"],[0.5555555555555556,\"#d8576b\"],[0.6666666666666666,\"#ed7953\"],[0.7777777777777778,\"#fb9f3a\"],[0.8888888888888888,\"#fdca26\"],[1.0,\"#f0f921\"]],\"sequentialminus\":[[0.0,\"#0d0887\"],[0.1111111111111111,\"#46039f\"],[0.2222222222222222,\"#7201a8\"],[0.3333333333333333,\"#9c179e\"],[0.4444444444444444,\"#bd3786\"],[0.5555555555555556,\"#d8576b\"],[0.6666666666666666,\"#ed7953\"],[0.7777777777777778,\"#fb9f3a\"],[0.8888888888888888,\"#fdca26\"],[1.0,\"#f0f921\"]]},\"colorway\":[\"#636efa\",\"#EF553B\",\"#00cc96\",\"#ab63fa\",\"#FFA15A\",\"#19d3f3\",\"#FF6692\",\"#B6E880\",\"#FF97FF\",\"#FECB52\"],\"font\":{\"color\":\"#2a3f5f\"},\"geo\":{\"bgcolor\":\"white\",\"lakecolor\":\"white\",\"landcolor\":\"#E5ECF6\",\"showlakes\":true,\"showland\":true,\"subunitcolor\":\"white\"},\"hoverlabel\":{\"align\":\"left\"},\"hovermode\":\"closest\",\"mapbox\":{\"style\":\"light\"},\"paper_bgcolor\":\"white\",\"plot_bgcolor\":\"#E5ECF6\",\"polar\":{\"angularaxis\":{\"gridcolor\":\"white\",\"linecolor\":\"white\",\"ticks\":\"\"},\"bgcolor\":\"#E5ECF6\",\"radialaxis\":{\"gridcolor\":\"white\",\"linecolor\":\"white\",\"ticks\":\"\"}},\"scene\":{\"xaxis\":{\"backgroundcolor\":\"#E5ECF6\",\"gridcolor\":\"white\",\"gridwidth\":2,\"linecolor\":\"white\",\"showbackground\":true,\"ticks\":\"\",\"zerolinecolor\":\"white\"},\"yaxis\":{\"backgroundcolor\":\"#E5ECF6\",\"gridcolor\":\"white\",\"gridwidth\":2,\"linecolor\":\"white\",\"showbackground\":true,\"ticks\":\"\",\"zerolinecolor\":\"white\"},\"zaxis\":{\"backgroundcolor\":\"#E5ECF6\",\"gridcolor\":\"white\",\"gridwidth\":2,\"linecolor\":\"white\",\"showbackground\":true,\"ticks\":\"\",\"zerolinecolor\":\"white\"}},\"shapedefaults\":{\"line\":{\"color\":\"#2a3f5f\"}},\"ternary\":{\"aaxis\":{\"gridcolor\":\"white\",\"linecolor\":\"white\",\"ticks\":\"\"},\"baxis\":{\"gridcolor\":\"white\",\"linecolor\":\"white\",\"ticks\":\"\"},\"bgcolor\":\"#E5ECF6\",\"caxis\":{\"gridcolor\":\"white\",\"linecolor\":\"white\",\"ticks\":\"\"}},\"title\":{\"x\":0.05},\"xaxis\":{\"automargin\":true,\"gridcolor\":\"white\",\"linecolor\":\"white\",\"ticks\":\"\",\"title\":{\"standoff\":15},\"zerolinecolor\":\"white\",\"zerolinewidth\":2},\"yaxis\":{\"automargin\":true,\"gridcolor\":\"white\",\"linecolor\":\"white\",\"ticks\":\"\",\"title\":{\"standoff\":15},\"zerolinecolor\":\"white\",\"zerolinewidth\":2}}},\"title\":{\"text\":\"LHS\"}},                        {\"responsive\": true}                    ).then(function(){\n",
       "                            \n",
       "var gd = document.getElementById('c7ef543c-6b2e-4367-81bc-3b6c96daa8fa');\n",
       "var x = new MutationObserver(function (mutations, observer) {{\n",
       "        var display = window.getComputedStyle(gd).display;\n",
       "        if (!display || display === 'none') {{\n",
       "            console.log([gd, 'removed!']);\n",
       "            Plotly.purge(gd);\n",
       "            observer.disconnect();\n",
       "        }}\n",
       "}});\n",
       "\n",
       "// Listen for the removal of the full notebook cells\n",
       "var notebookContainer = gd.closest('#notebook-container');\n",
       "if (notebookContainer) {{\n",
       "    x.observe(notebookContainer, {childList: true});\n",
       "}}\n",
       "\n",
       "// Listen for the clearing of the current output cell\n",
       "var outputEl = gd.closest('.output');\n",
       "if (outputEl) {{\n",
       "    x.observe(outputEl, {childList: true});\n",
       "}}\n",
       "\n",
       "                        })                };                });            </script>        </div>"
      ]
     },
     "metadata": {},
     "output_type": "display_data"
    },
    {
     "data": {
      "application/vnd.plotly.v1+json": {
       "config": {
        "plotlyServerURL": "https://plot.ly"
       },
       "data": [
        {
         "line": {
          "color": "#5876c8"
         },
         "name": "ABySS",
         "r": [
          11,
          11,
          5,
          5,
          6,
          11
         ],
         "showlegend": true,
         "subplot": "polar",
         "theta": [
          "Contigs",
          "Basepairs",
          "Largest contig",
          "N50",
          "% Mapped reads",
          "Uncalled bases"
         ],
         "type": "scatterpolar"
        },
        {
         "line": {
          "color": "#5876c8"
         },
         "name": "ABySS",
         "r": [
          4,
          12,
          5,
          5,
          11,
          8,
          7
         ],
         "showlegend": false,
         "subplot": "polar2",
         "theta": [
          "Contigs",
          "Basepairs",
          "N50",
          "% Mapped reads",
          "Uncalled bases",
          "Misassembled contigs",
          "Misassembly events"
         ],
         "type": "scatterpolar"
        },
        {
         "line": {
          "color": "#58AEC8"
         },
         "name": "BCALM2",
         "r": [
          12,
          12,
          12,
          12,
          12,
          1
         ],
         "showlegend": true,
         "subplot": "polar",
         "theta": [
          "Contigs",
          "Basepairs",
          "Largest contig",
          "N50",
          "% Mapped reads",
          "Uncalled bases"
         ],
         "type": "scatterpolar"
        },
        {
         "line": {
          "color": "#58AEC8"
         },
         "name": "BCALM2",
         "r": [
          12,
          1,
          12,
          12,
          1,
          1,
          1
         ],
         "showlegend": false,
         "subplot": "polar2",
         "theta": [
          "Contigs",
          "Basepairs",
          "N50",
          "% Mapped reads",
          "Uncalled bases",
          "Misassembled contigs",
          "Misassembly events"
         ],
         "type": "scatterpolar"
        },
        {
         "line": {
          "color": "#009392"
         },
         "name": "GATBMiniaPipeline",
         "r": [
          4,
          6,
          7,
          6,
          2,
          1
         ],
         "showlegend": true,
         "subplot": "polar",
         "theta": [
          "Contigs",
          "Basepairs",
          "Largest contig",
          "N50",
          "% Mapped reads",
          "Uncalled bases"
         ],
         "type": "scatterpolar"
        },
        {
         "line": {
          "color": "#009392"
         },
         "name": "GATBMiniaPipeline",
         "r": [
          6,
          8,
          6,
          4,
          1,
          6,
          6
         ],
         "showlegend": false,
         "subplot": "polar2",
         "theta": [
          "Contigs",
          "Basepairs",
          "N50",
          "% Mapped reads",
          "Uncalled bases",
          "Misassembled contigs",
          "Misassembly events"
         ],
         "type": "scatterpolar"
        },
        {
         "line": {
          "color": "#39B185"
         },
         "name": "IDBA-UD",
         "r": [
          7,
          4,
          10,
          9,
          5,
          1
         ],
         "showlegend": true,
         "subplot": "polar",
         "theta": [
          "Contigs",
          "Basepairs",
          "Largest contig",
          "N50",
          "% Mapped reads",
          "Uncalled bases"
         ],
         "type": "scatterpolar"
        },
        {
         "line": {
          "color": "#39B185"
         },
         "name": "IDBA-UD",
         "r": [
          9,
          5,
          9,
          7,
          1,
          12,
          12
         ],
         "showlegend": false,
         "subplot": "polar2",
         "theta": [
          "Contigs",
          "Basepairs",
          "N50",
          "% Mapped reads",
          "Uncalled bases",
          "Misassembled contigs",
          "Misassembly events"
         ],
         "type": "scatterpolar"
        },
        {
         "line": {
          "color": "#9CCB86"
         },
         "name": "MEGAHIT",
         "r": [
          5,
          8,
          6,
          4,
          1,
          1
         ],
         "showlegend": true,
         "subplot": "polar",
         "theta": [
          "Contigs",
          "Basepairs",
          "Largest contig",
          "N50",
          "% Mapped reads",
          "Uncalled bases"
         ],
         "type": "scatterpolar"
        },
        {
         "line": {
          "color": "#9CCB86"
         },
         "name": "MEGAHIT",
         "r": [
          5,
          11,
          4,
          1,
          1,
          11,
          11
         ],
         "showlegend": false,
         "subplot": "polar2",
         "theta": [
          "Contigs",
          "Basepairs",
          "N50",
          "% Mapped reads",
          "Uncalled bases",
          "Misassembled contigs",
          "Misassembly events"
         ],
         "type": "scatterpolar"
        },
        {
         "line": {
          "color": "#E9E29C"
         },
         "name": "MetaHipMer2",
         "r": [
          3,
          3,
          9,
          7,
          8,
          1
         ],
         "showlegend": true,
         "subplot": "polar",
         "theta": [
          "Contigs",
          "Basepairs",
          "Largest contig",
          "N50",
          "% Mapped reads",
          "Uncalled bases"
         ],
         "type": "scatterpolar"
        },
        {
         "line": {
          "color": "#E9E29C"
         },
         "name": "MetaHipMer2",
         "r": [
          7,
          7,
          7,
          8,
          1,
          1,
          1
         ],
         "showlegend": false,
         "subplot": "polar2",
         "theta": [
          "Contigs",
          "Basepairs",
          "N50",
          "% Mapped reads",
          "Uncalled bases",
          "Misassembled contigs",
          "Misassembly events"
         ],
         "type": "scatterpolar"
        },
        {
         "line": {
          "color": "#EEB479"
         },
         "name": "metaSPAdes",
         "r": [
          2,
          5,
          2,
          2,
          3,
          1
         ],
         "showlegend": true,
         "subplot": "polar",
         "theta": [
          "Contigs",
          "Basepairs",
          "Largest contig",
          "N50",
          "% Mapped reads",
          "Uncalled bases"
         ],
         "type": "scatterpolar"
        },
        {
         "line": {
          "color": "#EEB479"
         },
         "name": "metaSPAdes",
         "r": [
          2,
          10,
          3,
          2,
          1,
          6,
          7
         ],
         "showlegend": false,
         "subplot": "polar2",
         "theta": [
          "Contigs",
          "Basepairs",
          "N50",
          "% Mapped reads",
          "Uncalled bases",
          "Misassembled contigs",
          "Misassembly events"
         ],
         "type": "scatterpolar"
        },
        {
         "line": {
          "color": "#E88471"
         },
         "name": "MINIA",
         "r": [
          10,
          9,
          11,
          11,
          10,
          1
         ],
         "showlegend": true,
         "subplot": "polar",
         "theta": [
          "Contigs",
          "Basepairs",
          "Largest contig",
          "N50",
          "% Mapped reads",
          "Uncalled bases"
         ],
         "type": "scatterpolar"
        },
        {
         "line": {
          "color": "#E88471"
         },
         "name": "MINIA",
         "r": [
          11,
          2,
          11,
          11,
          1,
          1,
          1
         ],
         "showlegend": false,
         "subplot": "polar2",
         "theta": [
          "Contigs",
          "Basepairs",
          "N50",
          "% Mapped reads",
          "Uncalled bases",
          "Misassembled contigs",
          "Misassembly events"
         ],
         "type": "scatterpolar"
        },
        {
         "line": {
          "color": "#CF597E"
         },
         "name": "SKESA",
         "r": [
          6,
          1,
          8,
          8,
          9,
          1
         ],
         "showlegend": true,
         "subplot": "polar",
         "theta": [
          "Contigs",
          "Basepairs",
          "Largest contig",
          "N50",
          "% Mapped reads",
          "Uncalled bases"
         ],
         "type": "scatterpolar"
        },
        {
         "line": {
          "color": "#CF597E"
         },
         "name": "SKESA",
         "r": [
          8,
          4,
          8,
          9,
          1,
          10,
          10
         ],
         "showlegend": false,
         "subplot": "polar2",
         "theta": [
          "Contigs",
          "Basepairs",
          "N50",
          "% Mapped reads",
          "Uncalled bases",
          "Misassembled contigs",
          "Misassembly events"
         ],
         "type": "scatterpolar"
        },
        {
         "line": {
          "color": "#a54765"
         },
         "name": "SPAdes",
         "r": [
          8,
          10,
          3,
          3,
          4,
          1
         ],
         "showlegend": true,
         "subplot": "polar",
         "theta": [
          "Contigs",
          "Basepairs",
          "Largest contig",
          "N50",
          "% Mapped reads",
          "Uncalled bases"
         ],
         "type": "scatterpolar"
        },
        {
         "line": {
          "color": "#a54765"
         },
         "name": "SPAdes",
         "r": [
          3,
          9,
          2,
          2,
          1,
          1,
          1
         ],
         "showlegend": false,
         "subplot": "polar2",
         "theta": [
          "Contigs",
          "Basepairs",
          "N50",
          "% Mapped reads",
          "Uncalled bases",
          "Misassembled contigs",
          "Misassembly events"
         ],
         "type": "scatterpolar"
        },
        {
         "line": {
          "color": "#a42a2a"
         },
         "name": "Unicycler",
         "r": [
          1,
          2,
          1,
          1,
          7,
          1
         ],
         "showlegend": true,
         "subplot": "polar",
         "theta": [
          "Contigs",
          "Basepairs",
          "Largest contig",
          "N50",
          "% Mapped reads",
          "Uncalled bases"
         ],
         "type": "scatterpolar"
        },
        {
         "line": {
          "color": "#a42a2a"
         },
         "name": "Unicycler",
         "r": [
          1,
          6,
          1,
          6,
          1,
          1,
          1
         ],
         "showlegend": false,
         "subplot": "polar2",
         "theta": [
          "Contigs",
          "Basepairs",
          "N50",
          "% Mapped reads",
          "Uncalled bases",
          "Misassembled contigs",
          "Misassembly events"
         ],
         "type": "scatterpolar"
        },
        {
         "line": {
          "color": "#835221"
         },
         "name": "VelvetOptimiser",
         "r": [
          9,
          7,
          4,
          10,
          11,
          12
         ],
         "showlegend": true,
         "subplot": "polar",
         "theta": [
          "Contigs",
          "Basepairs",
          "Largest contig",
          "N50",
          "% Mapped reads",
          "Uncalled bases"
         ],
         "type": "scatterpolar"
        },
        {
         "line": {
          "color": "#835221"
         },
         "name": "VelvetOptimiser",
         "r": [
          10,
          3,
          10,
          10,
          12,
          9,
          9
         ],
         "showlegend": false,
         "subplot": "polar2",
         "theta": [
          "Contigs",
          "Basepairs",
          "N50",
          "% Mapped reads",
          "Uncalled bases",
          "Misassembled contigs",
          "Misassembly events"
         ],
         "type": "scatterpolar"
        }
       ],
       "layout": {
        "annotations": [
         {
          "font": {
           "size": 16
          },
          "showarrow": false,
          "text": "Original",
          "x": 0.225,
          "xanchor": "center",
          "xref": "paper",
          "y": 1,
          "yanchor": "bottom",
          "yref": "paper"
         },
         {
          "font": {
           "size": 16
          },
          "showarrow": false,
          "text": "Filtered",
          "x": 0.775,
          "xanchor": "center",
          "xref": "paper",
          "y": 1,
          "yanchor": "bottom",
          "yref": "paper"
         }
        ],
        "polar": {
         "angularaxis": {
          "categoryarray": [
           "Contigs",
           "Basepairs",
           "Largest contig",
           "N50",
           "% Mapped reads",
           "Uncalled bases"
          ],
          "linecolor": "black"
         },
         "bgcolor": "rgb(255,255,255)",
         "domain": {
          "x": [
           0,
           0.45
          ],
          "y": [
           0,
           1
          ]
         },
         "hole": 0.08333333333333333,
         "radialaxis": {
          "angle": -22.5,
          "autorange": "reversed",
          "gridcolor": "#DCDCDC",
          "linecolor": "black",
          "linewidth": 2,
          "range": [
           1,
           12
          ],
          "visible": true
         }
        },
        "polar2": {
         "angularaxis": {
          "categoryarray": [
           "Contigs",
           "Basepairs",
           "N50",
           "% Mapped reads",
           "Uncalled bases",
           "Misassembled contigs",
           "Misassembly events"
          ],
          "linecolor": "black"
         },
         "bgcolor": "rgb(255,255,255)",
         "domain": {
          "x": [
           0.55,
           1
          ],
          "y": [
           0,
           1
          ]
         },
         "hole": 0.08333333333333333,
         "radialaxis": {
          "angle": -22.5,
          "autorange": "reversed",
          "gridcolor": "#DCDCDC",
          "linecolor": "black",
          "linewidth": 2,
          "range": [
           1,
           12
          ],
          "visible": true
         }
        },
        "template": {
         "data": {
          "bar": [
           {
            "error_x": {
             "color": "#2a3f5f"
            },
            "error_y": {
             "color": "#2a3f5f"
            },
            "marker": {
             "line": {
              "color": "#E5ECF6",
              "width": 0.5
             },
             "pattern": {
              "fillmode": "overlay",
              "size": 10,
              "solidity": 0.2
             }
            },
            "type": "bar"
           }
          ],
          "barpolar": [
           {
            "marker": {
             "line": {
              "color": "#E5ECF6",
              "width": 0.5
             },
             "pattern": {
              "fillmode": "overlay",
              "size": 10,
              "solidity": 0.2
             }
            },
            "type": "barpolar"
           }
          ],
          "carpet": [
           {
            "aaxis": {
             "endlinecolor": "#2a3f5f",
             "gridcolor": "white",
             "linecolor": "white",
             "minorgridcolor": "white",
             "startlinecolor": "#2a3f5f"
            },
            "baxis": {
             "endlinecolor": "#2a3f5f",
             "gridcolor": "white",
             "linecolor": "white",
             "minorgridcolor": "white",
             "startlinecolor": "#2a3f5f"
            },
            "type": "carpet"
           }
          ],
          "choropleth": [
           {
            "colorbar": {
             "outlinewidth": 0,
             "ticks": ""
            },
            "type": "choropleth"
           }
          ],
          "contour": [
           {
            "colorbar": {
             "outlinewidth": 0,
             "ticks": ""
            },
            "colorscale": [
             [
              0,
              "#0d0887"
             ],
             [
              0.1111111111111111,
              "#46039f"
             ],
             [
              0.2222222222222222,
              "#7201a8"
             ],
             [
              0.3333333333333333,
              "#9c179e"
             ],
             [
              0.4444444444444444,
              "#bd3786"
             ],
             [
              0.5555555555555556,
              "#d8576b"
             ],
             [
              0.6666666666666666,
              "#ed7953"
             ],
             [
              0.7777777777777778,
              "#fb9f3a"
             ],
             [
              0.8888888888888888,
              "#fdca26"
             ],
             [
              1,
              "#f0f921"
             ]
            ],
            "type": "contour"
           }
          ],
          "contourcarpet": [
           {
            "colorbar": {
             "outlinewidth": 0,
             "ticks": ""
            },
            "type": "contourcarpet"
           }
          ],
          "heatmap": [
           {
            "colorbar": {
             "outlinewidth": 0,
             "ticks": ""
            },
            "colorscale": [
             [
              0,
              "#0d0887"
             ],
             [
              0.1111111111111111,
              "#46039f"
             ],
             [
              0.2222222222222222,
              "#7201a8"
             ],
             [
              0.3333333333333333,
              "#9c179e"
             ],
             [
              0.4444444444444444,
              "#bd3786"
             ],
             [
              0.5555555555555556,
              "#d8576b"
             ],
             [
              0.6666666666666666,
              "#ed7953"
             ],
             [
              0.7777777777777778,
              "#fb9f3a"
             ],
             [
              0.8888888888888888,
              "#fdca26"
             ],
             [
              1,
              "#f0f921"
             ]
            ],
            "type": "heatmap"
           }
          ],
          "heatmapgl": [
           {
            "colorbar": {
             "outlinewidth": 0,
             "ticks": ""
            },
            "colorscale": [
             [
              0,
              "#0d0887"
             ],
             [
              0.1111111111111111,
              "#46039f"
             ],
             [
              0.2222222222222222,
              "#7201a8"
             ],
             [
              0.3333333333333333,
              "#9c179e"
             ],
             [
              0.4444444444444444,
              "#bd3786"
             ],
             [
              0.5555555555555556,
              "#d8576b"
             ],
             [
              0.6666666666666666,
              "#ed7953"
             ],
             [
              0.7777777777777778,
              "#fb9f3a"
             ],
             [
              0.8888888888888888,
              "#fdca26"
             ],
             [
              1,
              "#f0f921"
             ]
            ],
            "type": "heatmapgl"
           }
          ],
          "histogram": [
           {
            "marker": {
             "pattern": {
              "fillmode": "overlay",
              "size": 10,
              "solidity": 0.2
             }
            },
            "type": "histogram"
           }
          ],
          "histogram2d": [
           {
            "colorbar": {
             "outlinewidth": 0,
             "ticks": ""
            },
            "colorscale": [
             [
              0,
              "#0d0887"
             ],
             [
              0.1111111111111111,
              "#46039f"
             ],
             [
              0.2222222222222222,
              "#7201a8"
             ],
             [
              0.3333333333333333,
              "#9c179e"
             ],
             [
              0.4444444444444444,
              "#bd3786"
             ],
             [
              0.5555555555555556,
              "#d8576b"
             ],
             [
              0.6666666666666666,
              "#ed7953"
             ],
             [
              0.7777777777777778,
              "#fb9f3a"
             ],
             [
              0.8888888888888888,
              "#fdca26"
             ],
             [
              1,
              "#f0f921"
             ]
            ],
            "type": "histogram2d"
           }
          ],
          "histogram2dcontour": [
           {
            "colorbar": {
             "outlinewidth": 0,
             "ticks": ""
            },
            "colorscale": [
             [
              0,
              "#0d0887"
             ],
             [
              0.1111111111111111,
              "#46039f"
             ],
             [
              0.2222222222222222,
              "#7201a8"
             ],
             [
              0.3333333333333333,
              "#9c179e"
             ],
             [
              0.4444444444444444,
              "#bd3786"
             ],
             [
              0.5555555555555556,
              "#d8576b"
             ],
             [
              0.6666666666666666,
              "#ed7953"
             ],
             [
              0.7777777777777778,
              "#fb9f3a"
             ],
             [
              0.8888888888888888,
              "#fdca26"
             ],
             [
              1,
              "#f0f921"
             ]
            ],
            "type": "histogram2dcontour"
           }
          ],
          "mesh3d": [
           {
            "colorbar": {
             "outlinewidth": 0,
             "ticks": ""
            },
            "type": "mesh3d"
           }
          ],
          "parcoords": [
           {
            "line": {
             "colorbar": {
              "outlinewidth": 0,
              "ticks": ""
             }
            },
            "type": "parcoords"
           }
          ],
          "pie": [
           {
            "automargin": true,
            "type": "pie"
           }
          ],
          "scatter": [
           {
            "marker": {
             "colorbar": {
              "outlinewidth": 0,
              "ticks": ""
             }
            },
            "type": "scatter"
           }
          ],
          "scatter3d": [
           {
            "line": {
             "colorbar": {
              "outlinewidth": 0,
              "ticks": ""
             }
            },
            "marker": {
             "colorbar": {
              "outlinewidth": 0,
              "ticks": ""
             }
            },
            "type": "scatter3d"
           }
          ],
          "scattercarpet": [
           {
            "marker": {
             "colorbar": {
              "outlinewidth": 0,
              "ticks": ""
             }
            },
            "type": "scattercarpet"
           }
          ],
          "scattergeo": [
           {
            "marker": {
             "colorbar": {
              "outlinewidth": 0,
              "ticks": ""
             }
            },
            "type": "scattergeo"
           }
          ],
          "scattergl": [
           {
            "marker": {
             "colorbar": {
              "outlinewidth": 0,
              "ticks": ""
             }
            },
            "type": "scattergl"
           }
          ],
          "scattermapbox": [
           {
            "marker": {
             "colorbar": {
              "outlinewidth": 0,
              "ticks": ""
             }
            },
            "type": "scattermapbox"
           }
          ],
          "scatterpolar": [
           {
            "marker": {
             "colorbar": {
              "outlinewidth": 0,
              "ticks": ""
             }
            },
            "type": "scatterpolar"
           }
          ],
          "scatterpolargl": [
           {
            "marker": {
             "colorbar": {
              "outlinewidth": 0,
              "ticks": ""
             }
            },
            "type": "scatterpolargl"
           }
          ],
          "scatterternary": [
           {
            "marker": {
             "colorbar": {
              "outlinewidth": 0,
              "ticks": ""
             }
            },
            "type": "scatterternary"
           }
          ],
          "surface": [
           {
            "colorbar": {
             "outlinewidth": 0,
             "ticks": ""
            },
            "colorscale": [
             [
              0,
              "#0d0887"
             ],
             [
              0.1111111111111111,
              "#46039f"
             ],
             [
              0.2222222222222222,
              "#7201a8"
             ],
             [
              0.3333333333333333,
              "#9c179e"
             ],
             [
              0.4444444444444444,
              "#bd3786"
             ],
             [
              0.5555555555555556,
              "#d8576b"
             ],
             [
              0.6666666666666666,
              "#ed7953"
             ],
             [
              0.7777777777777778,
              "#fb9f3a"
             ],
             [
              0.8888888888888888,
              "#fdca26"
             ],
             [
              1,
              "#f0f921"
             ]
            ],
            "type": "surface"
           }
          ],
          "table": [
           {
            "cells": {
             "fill": {
              "color": "#EBF0F8"
             },
             "line": {
              "color": "white"
             }
            },
            "header": {
             "fill": {
              "color": "#C8D4E3"
             },
             "line": {
              "color": "white"
             }
            },
            "type": "table"
           }
          ]
         },
         "layout": {
          "annotationdefaults": {
           "arrowcolor": "#2a3f5f",
           "arrowhead": 0,
           "arrowwidth": 1
          },
          "autotypenumbers": "strict",
          "coloraxis": {
           "colorbar": {
            "outlinewidth": 0,
            "ticks": ""
           }
          },
          "colorscale": {
           "diverging": [
            [
             0,
             "#8e0152"
            ],
            [
             0.1,
             "#c51b7d"
            ],
            [
             0.2,
             "#de77ae"
            ],
            [
             0.3,
             "#f1b6da"
            ],
            [
             0.4,
             "#fde0ef"
            ],
            [
             0.5,
             "#f7f7f7"
            ],
            [
             0.6,
             "#e6f5d0"
            ],
            [
             0.7,
             "#b8e186"
            ],
            [
             0.8,
             "#7fbc41"
            ],
            [
             0.9,
             "#4d9221"
            ],
            [
             1,
             "#276419"
            ]
           ],
           "sequential": [
            [
             0,
             "#0d0887"
            ],
            [
             0.1111111111111111,
             "#46039f"
            ],
            [
             0.2222222222222222,
             "#7201a8"
            ],
            [
             0.3333333333333333,
             "#9c179e"
            ],
            [
             0.4444444444444444,
             "#bd3786"
            ],
            [
             0.5555555555555556,
             "#d8576b"
            ],
            [
             0.6666666666666666,
             "#ed7953"
            ],
            [
             0.7777777777777778,
             "#fb9f3a"
            ],
            [
             0.8888888888888888,
             "#fdca26"
            ],
            [
             1,
             "#f0f921"
            ]
           ],
           "sequentialminus": [
            [
             0,
             "#0d0887"
            ],
            [
             0.1111111111111111,
             "#46039f"
            ],
            [
             0.2222222222222222,
             "#7201a8"
            ],
            [
             0.3333333333333333,
             "#9c179e"
            ],
            [
             0.4444444444444444,
             "#bd3786"
            ],
            [
             0.5555555555555556,
             "#d8576b"
            ],
            [
             0.6666666666666666,
             "#ed7953"
            ],
            [
             0.7777777777777778,
             "#fb9f3a"
            ],
            [
             0.8888888888888888,
             "#fdca26"
            ],
            [
             1,
             "#f0f921"
            ]
           ]
          },
          "colorway": [
           "#636efa",
           "#EF553B",
           "#00cc96",
           "#ab63fa",
           "#FFA15A",
           "#19d3f3",
           "#FF6692",
           "#B6E880",
           "#FF97FF",
           "#FECB52"
          ],
          "font": {
           "color": "#2a3f5f"
          },
          "geo": {
           "bgcolor": "white",
           "lakecolor": "white",
           "landcolor": "#E5ECF6",
           "showlakes": true,
           "showland": true,
           "subunitcolor": "white"
          },
          "hoverlabel": {
           "align": "left"
          },
          "hovermode": "closest",
          "mapbox": {
           "style": "light"
          },
          "paper_bgcolor": "white",
          "plot_bgcolor": "#E5ECF6",
          "polar": {
           "angularaxis": {
            "gridcolor": "white",
            "linecolor": "white",
            "ticks": ""
           },
           "bgcolor": "#E5ECF6",
           "radialaxis": {
            "gridcolor": "white",
            "linecolor": "white",
            "ticks": ""
           }
          },
          "scene": {
           "xaxis": {
            "backgroundcolor": "#E5ECF6",
            "gridcolor": "white",
            "gridwidth": 2,
            "linecolor": "white",
            "showbackground": true,
            "ticks": "",
            "zerolinecolor": "white"
           },
           "yaxis": {
            "backgroundcolor": "#E5ECF6",
            "gridcolor": "white",
            "gridwidth": 2,
            "linecolor": "white",
            "showbackground": true,
            "ticks": "",
            "zerolinecolor": "white"
           },
           "zaxis": {
            "backgroundcolor": "#E5ECF6",
            "gridcolor": "white",
            "gridwidth": 2,
            "linecolor": "white",
            "showbackground": true,
            "ticks": "",
            "zerolinecolor": "white"
           }
          },
          "shapedefaults": {
           "line": {
            "color": "#2a3f5f"
           }
          },
          "ternary": {
           "aaxis": {
            "gridcolor": "white",
            "linecolor": "white",
            "ticks": ""
           },
           "baxis": {
            "gridcolor": "white",
            "linecolor": "white",
            "ticks": ""
           },
           "bgcolor": "#E5ECF6",
           "caxis": {
            "gridcolor": "white",
            "linecolor": "white",
            "ticks": ""
           }
          },
          "title": {
           "x": 0.05
          },
          "xaxis": {
           "automargin": true,
           "gridcolor": "white",
           "linecolor": "white",
           "ticks": "",
           "title": {
            "standoff": 15
           },
           "zerolinecolor": "white",
           "zerolinewidth": 2
          },
          "yaxis": {
           "automargin": true,
           "gridcolor": "white",
           "linecolor": "white",
           "ticks": "",
           "title": {
            "standoff": 15
           },
           "zerolinecolor": "white",
           "zerolinewidth": 2
          }
         }
        },
        "title": {
         "text": "EMS"
        }
       }
      },
      "text/html": [
       "<div>                            <div id=\"96e114c7-1a5e-4d74-824c-e1deec8e2926\" class=\"plotly-graph-div\" style=\"height:525px; width:100%;\"></div>            <script type=\"text/javascript\">                require([\"plotly\"], function(Plotly) {                    window.PLOTLYENV=window.PLOTLYENV || {};                                    if (document.getElementById(\"96e114c7-1a5e-4d74-824c-e1deec8e2926\")) {                    Plotly.newPlot(                        \"96e114c7-1a5e-4d74-824c-e1deec8e2926\",                        [{\"line\":{\"color\":\"#5876c8\"},\"name\":\"ABySS\",\"r\":[11,11,5,5,6,11],\"showlegend\":true,\"subplot\":\"polar\",\"theta\":[\"Contigs\",\"Basepairs\",\"Largest contig\",\"N50\",\"% Mapped reads\",\"Uncalled bases\"],\"type\":\"scatterpolar\"},{\"line\":{\"color\":\"#5876c8\"},\"name\":\"ABySS\",\"r\":[4,12,5,5,11,8,7],\"showlegend\":false,\"subplot\":\"polar2\",\"theta\":[\"Contigs\",\"Basepairs\",\"N50\",\"% Mapped reads\",\"Uncalled bases\",\"Misassembled contigs\",\"Misassembly events\"],\"type\":\"scatterpolar\"},{\"line\":{\"color\":\"#58AEC8\"},\"name\":\"BCALM2\",\"r\":[12,12,12,12,12,1],\"showlegend\":true,\"subplot\":\"polar\",\"theta\":[\"Contigs\",\"Basepairs\",\"Largest contig\",\"N50\",\"% Mapped reads\",\"Uncalled bases\"],\"type\":\"scatterpolar\"},{\"line\":{\"color\":\"#58AEC8\"},\"name\":\"BCALM2\",\"r\":[12,1,12,12,1,1,1],\"showlegend\":false,\"subplot\":\"polar2\",\"theta\":[\"Contigs\",\"Basepairs\",\"N50\",\"% Mapped reads\",\"Uncalled bases\",\"Misassembled contigs\",\"Misassembly events\"],\"type\":\"scatterpolar\"},{\"line\":{\"color\":\"#009392\"},\"name\":\"GATBMiniaPipeline\",\"r\":[4,6,7,6,2,1],\"showlegend\":true,\"subplot\":\"polar\",\"theta\":[\"Contigs\",\"Basepairs\",\"Largest contig\",\"N50\",\"% Mapped reads\",\"Uncalled bases\"],\"type\":\"scatterpolar\"},{\"line\":{\"color\":\"#009392\"},\"name\":\"GATBMiniaPipeline\",\"r\":[6,8,6,4,1,6,6],\"showlegend\":false,\"subplot\":\"polar2\",\"theta\":[\"Contigs\",\"Basepairs\",\"N50\",\"% Mapped reads\",\"Uncalled bases\",\"Misassembled contigs\",\"Misassembly events\"],\"type\":\"scatterpolar\"},{\"line\":{\"color\":\"#39B185\"},\"name\":\"IDBA-UD\",\"r\":[7,4,10,9,5,1],\"showlegend\":true,\"subplot\":\"polar\",\"theta\":[\"Contigs\",\"Basepairs\",\"Largest contig\",\"N50\",\"% Mapped reads\",\"Uncalled bases\"],\"type\":\"scatterpolar\"},{\"line\":{\"color\":\"#39B185\"},\"name\":\"IDBA-UD\",\"r\":[9,5,9,7,1,12,12],\"showlegend\":false,\"subplot\":\"polar2\",\"theta\":[\"Contigs\",\"Basepairs\",\"N50\",\"% Mapped reads\",\"Uncalled bases\",\"Misassembled contigs\",\"Misassembly events\"],\"type\":\"scatterpolar\"},{\"line\":{\"color\":\"#9CCB86\"},\"name\":\"MEGAHIT\",\"r\":[5,8,6,4,1,1],\"showlegend\":true,\"subplot\":\"polar\",\"theta\":[\"Contigs\",\"Basepairs\",\"Largest contig\",\"N50\",\"% Mapped reads\",\"Uncalled bases\"],\"type\":\"scatterpolar\"},{\"line\":{\"color\":\"#9CCB86\"},\"name\":\"MEGAHIT\",\"r\":[5,11,4,1,1,11,11],\"showlegend\":false,\"subplot\":\"polar2\",\"theta\":[\"Contigs\",\"Basepairs\",\"N50\",\"% Mapped reads\",\"Uncalled bases\",\"Misassembled contigs\",\"Misassembly events\"],\"type\":\"scatterpolar\"},{\"line\":{\"color\":\"#E9E29C\"},\"name\":\"MetaHipMer2\",\"r\":[3,3,9,7,8,1],\"showlegend\":true,\"subplot\":\"polar\",\"theta\":[\"Contigs\",\"Basepairs\",\"Largest contig\",\"N50\",\"% Mapped reads\",\"Uncalled bases\"],\"type\":\"scatterpolar\"},{\"line\":{\"color\":\"#E9E29C\"},\"name\":\"MetaHipMer2\",\"r\":[7,7,7,8,1,1,1],\"showlegend\":false,\"subplot\":\"polar2\",\"theta\":[\"Contigs\",\"Basepairs\",\"N50\",\"% Mapped reads\",\"Uncalled bases\",\"Misassembled contigs\",\"Misassembly events\"],\"type\":\"scatterpolar\"},{\"line\":{\"color\":\"#EEB479\"},\"name\":\"metaSPAdes\",\"r\":[2,5,2,2,3,1],\"showlegend\":true,\"subplot\":\"polar\",\"theta\":[\"Contigs\",\"Basepairs\",\"Largest contig\",\"N50\",\"% Mapped reads\",\"Uncalled bases\"],\"type\":\"scatterpolar\"},{\"line\":{\"color\":\"#EEB479\"},\"name\":\"metaSPAdes\",\"r\":[2,10,3,2,1,6,7],\"showlegend\":false,\"subplot\":\"polar2\",\"theta\":[\"Contigs\",\"Basepairs\",\"N50\",\"% Mapped reads\",\"Uncalled bases\",\"Misassembled contigs\",\"Misassembly events\"],\"type\":\"scatterpolar\"},{\"line\":{\"color\":\"#E88471\"},\"name\":\"MINIA\",\"r\":[10,9,11,11,10,1],\"showlegend\":true,\"subplot\":\"polar\",\"theta\":[\"Contigs\",\"Basepairs\",\"Largest contig\",\"N50\",\"% Mapped reads\",\"Uncalled bases\"],\"type\":\"scatterpolar\"},{\"line\":{\"color\":\"#E88471\"},\"name\":\"MINIA\",\"r\":[11,2,11,11,1,1,1],\"showlegend\":false,\"subplot\":\"polar2\",\"theta\":[\"Contigs\",\"Basepairs\",\"N50\",\"% Mapped reads\",\"Uncalled bases\",\"Misassembled contigs\",\"Misassembly events\"],\"type\":\"scatterpolar\"},{\"line\":{\"color\":\"#CF597E\"},\"name\":\"SKESA\",\"r\":[6,1,8,8,9,1],\"showlegend\":true,\"subplot\":\"polar\",\"theta\":[\"Contigs\",\"Basepairs\",\"Largest contig\",\"N50\",\"% Mapped reads\",\"Uncalled bases\"],\"type\":\"scatterpolar\"},{\"line\":{\"color\":\"#CF597E\"},\"name\":\"SKESA\",\"r\":[8,4,8,9,1,10,10],\"showlegend\":false,\"subplot\":\"polar2\",\"theta\":[\"Contigs\",\"Basepairs\",\"N50\",\"% Mapped reads\",\"Uncalled bases\",\"Misassembled contigs\",\"Misassembly events\"],\"type\":\"scatterpolar\"},{\"line\":{\"color\":\"#a54765\"},\"name\":\"SPAdes\",\"r\":[8,10,3,3,4,1],\"showlegend\":true,\"subplot\":\"polar\",\"theta\":[\"Contigs\",\"Basepairs\",\"Largest contig\",\"N50\",\"% Mapped reads\",\"Uncalled bases\"],\"type\":\"scatterpolar\"},{\"line\":{\"color\":\"#a54765\"},\"name\":\"SPAdes\",\"r\":[3,9,2,2,1,1,1],\"showlegend\":false,\"subplot\":\"polar2\",\"theta\":[\"Contigs\",\"Basepairs\",\"N50\",\"% Mapped reads\",\"Uncalled bases\",\"Misassembled contigs\",\"Misassembly events\"],\"type\":\"scatterpolar\"},{\"line\":{\"color\":\"#a42a2a\"},\"name\":\"Unicycler\",\"r\":[1,2,1,1,7,1],\"showlegend\":true,\"subplot\":\"polar\",\"theta\":[\"Contigs\",\"Basepairs\",\"Largest contig\",\"N50\",\"% Mapped reads\",\"Uncalled bases\"],\"type\":\"scatterpolar\"},{\"line\":{\"color\":\"#a42a2a\"},\"name\":\"Unicycler\",\"r\":[1,6,1,6,1,1,1],\"showlegend\":false,\"subplot\":\"polar2\",\"theta\":[\"Contigs\",\"Basepairs\",\"N50\",\"% Mapped reads\",\"Uncalled bases\",\"Misassembled contigs\",\"Misassembly events\"],\"type\":\"scatterpolar\"},{\"line\":{\"color\":\"#835221\"},\"name\":\"VelvetOptimiser\",\"r\":[9,7,4,10,11,12],\"showlegend\":true,\"subplot\":\"polar\",\"theta\":[\"Contigs\",\"Basepairs\",\"Largest contig\",\"N50\",\"% Mapped reads\",\"Uncalled bases\"],\"type\":\"scatterpolar\"},{\"line\":{\"color\":\"#835221\"},\"name\":\"VelvetOptimiser\",\"r\":[10,3,10,10,12,9,9],\"showlegend\":false,\"subplot\":\"polar2\",\"theta\":[\"Contigs\",\"Basepairs\",\"N50\",\"% Mapped reads\",\"Uncalled bases\",\"Misassembled contigs\",\"Misassembly events\"],\"type\":\"scatterpolar\"}],                        {\"annotations\":[{\"font\":{\"size\":16},\"showarrow\":false,\"text\":\"Original\",\"x\":0.225,\"xanchor\":\"center\",\"xref\":\"paper\",\"y\":1.0,\"yanchor\":\"bottom\",\"yref\":\"paper\"},{\"font\":{\"size\":16},\"showarrow\":false,\"text\":\"Filtered\",\"x\":0.775,\"xanchor\":\"center\",\"xref\":\"paper\",\"y\":1.0,\"yanchor\":\"bottom\",\"yref\":\"paper\"}],\"polar\":{\"angularaxis\":{\"categoryarray\":[\"Contigs\",\"Basepairs\",\"Largest contig\",\"N50\",\"% Mapped reads\",\"Uncalled bases\"],\"linecolor\":\"black\"},\"bgcolor\":\"rgb(255,255,255)\",\"domain\":{\"x\":[0.0,0.45],\"y\":[0.0,1.0]},\"hole\":0.08333333333333333,\"radialaxis\":{\"angle\":-22.5,\"autorange\":\"reversed\",\"gridcolor\":\"#DCDCDC\",\"linecolor\":\"black\",\"linewidth\":2,\"range\":[1,12],\"visible\":true}},\"polar2\":{\"angularaxis\":{\"categoryarray\":[\"Contigs\",\"Basepairs\",\"N50\",\"% Mapped reads\",\"Uncalled bases\",\"Misassembled contigs\",\"Misassembly events\"],\"linecolor\":\"black\"},\"bgcolor\":\"rgb(255,255,255)\",\"domain\":{\"x\":[0.55,1.0],\"y\":[0.0,1.0]},\"hole\":0.08333333333333333,\"radialaxis\":{\"angle\":-22.5,\"autorange\":\"reversed\",\"gridcolor\":\"#DCDCDC\",\"linecolor\":\"black\",\"linewidth\":2,\"range\":[1,12],\"visible\":true}},\"template\":{\"data\":{\"bar\":[{\"error_x\":{\"color\":\"#2a3f5f\"},\"error_y\":{\"color\":\"#2a3f5f\"},\"marker\":{\"line\":{\"color\":\"#E5ECF6\",\"width\":0.5},\"pattern\":{\"fillmode\":\"overlay\",\"size\":10,\"solidity\":0.2}},\"type\":\"bar\"}],\"barpolar\":[{\"marker\":{\"line\":{\"color\":\"#E5ECF6\",\"width\":0.5},\"pattern\":{\"fillmode\":\"overlay\",\"size\":10,\"solidity\":0.2}},\"type\":\"barpolar\"}],\"carpet\":[{\"aaxis\":{\"endlinecolor\":\"#2a3f5f\",\"gridcolor\":\"white\",\"linecolor\":\"white\",\"minorgridcolor\":\"white\",\"startlinecolor\":\"#2a3f5f\"},\"baxis\":{\"endlinecolor\":\"#2a3f5f\",\"gridcolor\":\"white\",\"linecolor\":\"white\",\"minorgridcolor\":\"white\",\"startlinecolor\":\"#2a3f5f\"},\"type\":\"carpet\"}],\"choropleth\":[{\"colorbar\":{\"outlinewidth\":0,\"ticks\":\"\"},\"type\":\"choropleth\"}],\"contour\":[{\"colorbar\":{\"outlinewidth\":0,\"ticks\":\"\"},\"colorscale\":[[0.0,\"#0d0887\"],[0.1111111111111111,\"#46039f\"],[0.2222222222222222,\"#7201a8\"],[0.3333333333333333,\"#9c179e\"],[0.4444444444444444,\"#bd3786\"],[0.5555555555555556,\"#d8576b\"],[0.6666666666666666,\"#ed7953\"],[0.7777777777777778,\"#fb9f3a\"],[0.8888888888888888,\"#fdca26\"],[1.0,\"#f0f921\"]],\"type\":\"contour\"}],\"contourcarpet\":[{\"colorbar\":{\"outlinewidth\":0,\"ticks\":\"\"},\"type\":\"contourcarpet\"}],\"heatmap\":[{\"colorbar\":{\"outlinewidth\":0,\"ticks\":\"\"},\"colorscale\":[[0.0,\"#0d0887\"],[0.1111111111111111,\"#46039f\"],[0.2222222222222222,\"#7201a8\"],[0.3333333333333333,\"#9c179e\"],[0.4444444444444444,\"#bd3786\"],[0.5555555555555556,\"#d8576b\"],[0.6666666666666666,\"#ed7953\"],[0.7777777777777778,\"#fb9f3a\"],[0.8888888888888888,\"#fdca26\"],[1.0,\"#f0f921\"]],\"type\":\"heatmap\"}],\"heatmapgl\":[{\"colorbar\":{\"outlinewidth\":0,\"ticks\":\"\"},\"colorscale\":[[0.0,\"#0d0887\"],[0.1111111111111111,\"#46039f\"],[0.2222222222222222,\"#7201a8\"],[0.3333333333333333,\"#9c179e\"],[0.4444444444444444,\"#bd3786\"],[0.5555555555555556,\"#d8576b\"],[0.6666666666666666,\"#ed7953\"],[0.7777777777777778,\"#fb9f3a\"],[0.8888888888888888,\"#fdca26\"],[1.0,\"#f0f921\"]],\"type\":\"heatmapgl\"}],\"histogram\":[{\"marker\":{\"pattern\":{\"fillmode\":\"overlay\",\"size\":10,\"solidity\":0.2}},\"type\":\"histogram\"}],\"histogram2d\":[{\"colorbar\":{\"outlinewidth\":0,\"ticks\":\"\"},\"colorscale\":[[0.0,\"#0d0887\"],[0.1111111111111111,\"#46039f\"],[0.2222222222222222,\"#7201a8\"],[0.3333333333333333,\"#9c179e\"],[0.4444444444444444,\"#bd3786\"],[0.5555555555555556,\"#d8576b\"],[0.6666666666666666,\"#ed7953\"],[0.7777777777777778,\"#fb9f3a\"],[0.8888888888888888,\"#fdca26\"],[1.0,\"#f0f921\"]],\"type\":\"histogram2d\"}],\"histogram2dcontour\":[{\"colorbar\":{\"outlinewidth\":0,\"ticks\":\"\"},\"colorscale\":[[0.0,\"#0d0887\"],[0.1111111111111111,\"#46039f\"],[0.2222222222222222,\"#7201a8\"],[0.3333333333333333,\"#9c179e\"],[0.4444444444444444,\"#bd3786\"],[0.5555555555555556,\"#d8576b\"],[0.6666666666666666,\"#ed7953\"],[0.7777777777777778,\"#fb9f3a\"],[0.8888888888888888,\"#fdca26\"],[1.0,\"#f0f921\"]],\"type\":\"histogram2dcontour\"}],\"mesh3d\":[{\"colorbar\":{\"outlinewidth\":0,\"ticks\":\"\"},\"type\":\"mesh3d\"}],\"parcoords\":[{\"line\":{\"colorbar\":{\"outlinewidth\":0,\"ticks\":\"\"}},\"type\":\"parcoords\"}],\"pie\":[{\"automargin\":true,\"type\":\"pie\"}],\"scatter\":[{\"marker\":{\"colorbar\":{\"outlinewidth\":0,\"ticks\":\"\"}},\"type\":\"scatter\"}],\"scatter3d\":[{\"line\":{\"colorbar\":{\"outlinewidth\":0,\"ticks\":\"\"}},\"marker\":{\"colorbar\":{\"outlinewidth\":0,\"ticks\":\"\"}},\"type\":\"scatter3d\"}],\"scattercarpet\":[{\"marker\":{\"colorbar\":{\"outlinewidth\":0,\"ticks\":\"\"}},\"type\":\"scattercarpet\"}],\"scattergeo\":[{\"marker\":{\"colorbar\":{\"outlinewidth\":0,\"ticks\":\"\"}},\"type\":\"scattergeo\"}],\"scattergl\":[{\"marker\":{\"colorbar\":{\"outlinewidth\":0,\"ticks\":\"\"}},\"type\":\"scattergl\"}],\"scattermapbox\":[{\"marker\":{\"colorbar\":{\"outlinewidth\":0,\"ticks\":\"\"}},\"type\":\"scattermapbox\"}],\"scatterpolar\":[{\"marker\":{\"colorbar\":{\"outlinewidth\":0,\"ticks\":\"\"}},\"type\":\"scatterpolar\"}],\"scatterpolargl\":[{\"marker\":{\"colorbar\":{\"outlinewidth\":0,\"ticks\":\"\"}},\"type\":\"scatterpolargl\"}],\"scatterternary\":[{\"marker\":{\"colorbar\":{\"outlinewidth\":0,\"ticks\":\"\"}},\"type\":\"scatterternary\"}],\"surface\":[{\"colorbar\":{\"outlinewidth\":0,\"ticks\":\"\"},\"colorscale\":[[0.0,\"#0d0887\"],[0.1111111111111111,\"#46039f\"],[0.2222222222222222,\"#7201a8\"],[0.3333333333333333,\"#9c179e\"],[0.4444444444444444,\"#bd3786\"],[0.5555555555555556,\"#d8576b\"],[0.6666666666666666,\"#ed7953\"],[0.7777777777777778,\"#fb9f3a\"],[0.8888888888888888,\"#fdca26\"],[1.0,\"#f0f921\"]],\"type\":\"surface\"}],\"table\":[{\"cells\":{\"fill\":{\"color\":\"#EBF0F8\"},\"line\":{\"color\":\"white\"}},\"header\":{\"fill\":{\"color\":\"#C8D4E3\"},\"line\":{\"color\":\"white\"}},\"type\":\"table\"}]},\"layout\":{\"annotationdefaults\":{\"arrowcolor\":\"#2a3f5f\",\"arrowhead\":0,\"arrowwidth\":1},\"autotypenumbers\":\"strict\",\"coloraxis\":{\"colorbar\":{\"outlinewidth\":0,\"ticks\":\"\"}},\"colorscale\":{\"diverging\":[[0,\"#8e0152\"],[0.1,\"#c51b7d\"],[0.2,\"#de77ae\"],[0.3,\"#f1b6da\"],[0.4,\"#fde0ef\"],[0.5,\"#f7f7f7\"],[0.6,\"#e6f5d0\"],[0.7,\"#b8e186\"],[0.8,\"#7fbc41\"],[0.9,\"#4d9221\"],[1,\"#276419\"]],\"sequential\":[[0.0,\"#0d0887\"],[0.1111111111111111,\"#46039f\"],[0.2222222222222222,\"#7201a8\"],[0.3333333333333333,\"#9c179e\"],[0.4444444444444444,\"#bd3786\"],[0.5555555555555556,\"#d8576b\"],[0.6666666666666666,\"#ed7953\"],[0.7777777777777778,\"#fb9f3a\"],[0.8888888888888888,\"#fdca26\"],[1.0,\"#f0f921\"]],\"sequentialminus\":[[0.0,\"#0d0887\"],[0.1111111111111111,\"#46039f\"],[0.2222222222222222,\"#7201a8\"],[0.3333333333333333,\"#9c179e\"],[0.4444444444444444,\"#bd3786\"],[0.5555555555555556,\"#d8576b\"],[0.6666666666666666,\"#ed7953\"],[0.7777777777777778,\"#fb9f3a\"],[0.8888888888888888,\"#fdca26\"],[1.0,\"#f0f921\"]]},\"colorway\":[\"#636efa\",\"#EF553B\",\"#00cc96\",\"#ab63fa\",\"#FFA15A\",\"#19d3f3\",\"#FF6692\",\"#B6E880\",\"#FF97FF\",\"#FECB52\"],\"font\":{\"color\":\"#2a3f5f\"},\"geo\":{\"bgcolor\":\"white\",\"lakecolor\":\"white\",\"landcolor\":\"#E5ECF6\",\"showlakes\":true,\"showland\":true,\"subunitcolor\":\"white\"},\"hoverlabel\":{\"align\":\"left\"},\"hovermode\":\"closest\",\"mapbox\":{\"style\":\"light\"},\"paper_bgcolor\":\"white\",\"plot_bgcolor\":\"#E5ECF6\",\"polar\":{\"angularaxis\":{\"gridcolor\":\"white\",\"linecolor\":\"white\",\"ticks\":\"\"},\"bgcolor\":\"#E5ECF6\",\"radialaxis\":{\"gridcolor\":\"white\",\"linecolor\":\"white\",\"ticks\":\"\"}},\"scene\":{\"xaxis\":{\"backgroundcolor\":\"#E5ECF6\",\"gridcolor\":\"white\",\"gridwidth\":2,\"linecolor\":\"white\",\"showbackground\":true,\"ticks\":\"\",\"zerolinecolor\":\"white\"},\"yaxis\":{\"backgroundcolor\":\"#E5ECF6\",\"gridcolor\":\"white\",\"gridwidth\":2,\"linecolor\":\"white\",\"showbackground\":true,\"ticks\":\"\",\"zerolinecolor\":\"white\"},\"zaxis\":{\"backgroundcolor\":\"#E5ECF6\",\"gridcolor\":\"white\",\"gridwidth\":2,\"linecolor\":\"white\",\"showbackground\":true,\"ticks\":\"\",\"zerolinecolor\":\"white\"}},\"shapedefaults\":{\"line\":{\"color\":\"#2a3f5f\"}},\"ternary\":{\"aaxis\":{\"gridcolor\":\"white\",\"linecolor\":\"white\",\"ticks\":\"\"},\"baxis\":{\"gridcolor\":\"white\",\"linecolor\":\"white\",\"ticks\":\"\"},\"bgcolor\":\"#E5ECF6\",\"caxis\":{\"gridcolor\":\"white\",\"linecolor\":\"white\",\"ticks\":\"\"}},\"title\":{\"x\":0.05},\"xaxis\":{\"automargin\":true,\"gridcolor\":\"white\",\"linecolor\":\"white\",\"ticks\":\"\",\"title\":{\"standoff\":15},\"zerolinecolor\":\"white\",\"zerolinewidth\":2},\"yaxis\":{\"automargin\":true,\"gridcolor\":\"white\",\"linecolor\":\"white\",\"ticks\":\"\",\"title\":{\"standoff\":15},\"zerolinecolor\":\"white\",\"zerolinewidth\":2}}},\"title\":{\"text\":\"EMS\"}},                        {\"responsive\": true}                    ).then(function(){\n",
       "                            \n",
       "var gd = document.getElementById('96e114c7-1a5e-4d74-824c-e1deec8e2926');\n",
       "var x = new MutationObserver(function (mutations, observer) {{\n",
       "        var display = window.getComputedStyle(gd).display;\n",
       "        if (!display || display === 'none') {{\n",
       "            console.log([gd, 'removed!']);\n",
       "            Plotly.purge(gd);\n",
       "            observer.disconnect();\n",
       "        }}\n",
       "}});\n",
       "\n",
       "// Listen for the removal of the full notebook cells\n",
       "var notebookContainer = gd.closest('#notebook-container');\n",
       "if (notebookContainer) {{\n",
       "    x.observe(notebookContainer, {childList: true});\n",
       "}}\n",
       "\n",
       "// Listen for the clearing of the current output cell\n",
       "var outputEl = gd.closest('.output');\n",
       "if (outputEl) {{\n",
       "    x.observe(outputEl, {childList: true});\n",
       "}}\n",
       "\n",
       "                        })                };                });            </script>        </div>"
      ]
     },
     "metadata": {},
     "output_type": "display_data"
    },
    {
     "data": {
      "application/vnd.plotly.v1+json": {
       "config": {
        "plotlyServerURL": "https://plot.ly"
       },
       "data": [
        {
         "line": {
          "color": "#5876c8"
         },
         "name": "ABySS",
         "r": [
          1,
          11,
          8,
          10,
          1,
          1
         ],
         "showlegend": true,
         "subplot": "polar",
         "theta": [
          "Contigs",
          "Basepairs",
          "Largest contig",
          "N50",
          "% Mapped reads",
          "Uncalled bases"
         ],
         "type": "scatterpolar"
        },
        {
         "line": {
          "color": "#5876c8"
         },
         "name": "ABySS",
         "r": [
          1,
          8,
          7,
          7,
          1,
          1,
          1
         ],
         "showlegend": false,
         "subplot": "polar2",
         "theta": [
          "Contigs",
          "Basepairs",
          "N50",
          "% Mapped reads",
          "Uncalled bases",
          "Misassembled contigs",
          "Misassembly events"
         ],
         "type": "scatterpolar"
        },
        {
         "line": {
          "color": "#58AEC8"
         },
         "name": "BCALM2",
         "r": [
          12,
          12,
          12,
          12,
          11,
          1
         ],
         "showlegend": true,
         "subplot": "polar",
         "theta": [
          "Contigs",
          "Basepairs",
          "Largest contig",
          "N50",
          "% Mapped reads",
          "Uncalled bases"
         ],
         "type": "scatterpolar"
        },
        {
         "line": {
          "color": "#58AEC8"
         },
         "name": "BCALM2",
         "r": [
          1,
          1,
          12,
          12,
          1,
          1,
          1
         ],
         "showlegend": false,
         "subplot": "polar2",
         "theta": [
          "Contigs",
          "Basepairs",
          "N50",
          "% Mapped reads",
          "Uncalled bases",
          "Misassembled contigs",
          "Misassembly events"
         ],
         "type": "scatterpolar"
        },
        {
         "line": {
          "color": "#009392"
         },
         "name": "GATBMiniaPipeline",
         "r": [
          4,
          4,
          3,
          2,
          6,
          1
         ],
         "showlegend": true,
         "subplot": "polar",
         "theta": [
          "Contigs",
          "Basepairs",
          "Largest contig",
          "N50",
          "% Mapped reads",
          "Uncalled bases"
         ],
         "type": "scatterpolar"
        },
        {
         "line": {
          "color": "#009392"
         },
         "name": "GATBMiniaPipeline",
         "r": [
          5,
          7,
          3,
          2,
          1,
          7,
          7
         ],
         "showlegend": false,
         "subplot": "polar2",
         "theta": [
          "Contigs",
          "Basepairs",
          "N50",
          "% Mapped reads",
          "Uncalled bases",
          "Misassembled contigs",
          "Misassembly events"
         ],
         "type": "scatterpolar"
        },
        {
         "line": {
          "color": "#39B185"
         },
         "name": "IDBA-UD",
         "r": [
          6,
          5,
          7,
          7,
          5,
          1
         ],
         "showlegend": true,
         "subplot": "polar",
         "theta": [
          "Contigs",
          "Basepairs",
          "Largest contig",
          "N50",
          "% Mapped reads",
          "Uncalled bases"
         ],
         "type": "scatterpolar"
        },
        {
         "line": {
          "color": "#39B185"
         },
         "name": "IDBA-UD",
         "r": [
          11,
          9,
          8,
          5,
          1,
          10,
          10
         ],
         "showlegend": false,
         "subplot": "polar2",
         "theta": [
          "Contigs",
          "Basepairs",
          "N50",
          "% Mapped reads",
          "Uncalled bases",
          "Misassembled contigs",
          "Misassembly events"
         ],
         "type": "scatterpolar"
        },
        {
         "line": {
          "color": "#9CCB86"
         },
         "name": "MEGAHIT",
         "r": [
          7,
          6,
          1,
          3,
          3,
          1
         ],
         "showlegend": true,
         "subplot": "polar",
         "theta": [
          "Contigs",
          "Basepairs",
          "Largest contig",
          "N50",
          "% Mapped reads",
          "Uncalled bases"
         ],
         "type": "scatterpolar"
        },
        {
         "line": {
          "color": "#9CCB86"
         },
         "name": "MEGAHIT",
         "r": [
          8,
          11,
          2,
          1,
          1,
          12,
          12
         ],
         "showlegend": false,
         "subplot": "polar2",
         "theta": [
          "Contigs",
          "Basepairs",
          "N50",
          "% Mapped reads",
          "Uncalled bases",
          "Misassembled contigs",
          "Misassembly events"
         ],
         "type": "scatterpolar"
        },
        {
         "line": {
          "color": "#E9E29C"
         },
         "name": "MetaHipMer2",
         "r": [
          5,
          1,
          10,
          9,
          10,
          1
         ],
         "showlegend": true,
         "subplot": "polar",
         "theta": [
          "Contigs",
          "Basepairs",
          "Largest contig",
          "N50",
          "% Mapped reads",
          "Uncalled bases"
         ],
         "type": "scatterpolar"
        },
        {
         "line": {
          "color": "#E9E29C"
         },
         "name": "MetaHipMer2",
         "r": [
          7,
          3,
          10,
          10,
          1,
          1,
          1
         ],
         "showlegend": false,
         "subplot": "polar2",
         "theta": [
          "Contigs",
          "Basepairs",
          "N50",
          "% Mapped reads",
          "Uncalled bases",
          "Misassembled contigs",
          "Misassembly events"
         ],
         "type": "scatterpolar"
        },
        {
         "line": {
          "color": "#EEB479"
         },
         "name": "metaSPAdes",
         "r": [
          9,
          9,
          5,
          6,
          2,
          1
         ],
         "showlegend": true,
         "subplot": "polar",
         "theta": [
          "Contigs",
          "Basepairs",
          "Largest contig",
          "N50",
          "% Mapped reads",
          "Uncalled bases"
         ],
         "type": "scatterpolar"
        },
        {
         "line": {
          "color": "#EEB479"
         },
         "name": "metaSPAdes",
         "r": [
          9,
          10,
          5,
          3,
          1,
          8,
          8
         ],
         "showlegend": false,
         "subplot": "polar2",
         "theta": [
          "Contigs",
          "Basepairs",
          "N50",
          "% Mapped reads",
          "Uncalled bases",
          "Misassembled contigs",
          "Misassembly events"
         ],
         "type": "scatterpolar"
        },
        {
         "line": {
          "color": "#E88471"
         },
         "name": "MINIA",
         "r": [
          10,
          7,
          9,
          8,
          9,
          1
         ],
         "showlegend": true,
         "subplot": "polar",
         "theta": [
          "Contigs",
          "Basepairs",
          "Largest contig",
          "N50",
          "% Mapped reads",
          "Uncalled bases"
         ],
         "type": "scatterpolar"
        },
        {
         "line": {
          "color": "#E88471"
         },
         "name": "MINIA",
         "r": [
          12,
          4,
          9,
          9,
          1,
          1,
          1
         ],
         "showlegend": false,
         "subplot": "polar2",
         "theta": [
          "Contigs",
          "Basepairs",
          "N50",
          "% Mapped reads",
          "Uncalled bases",
          "Misassembled contigs",
          "Misassembly events"
         ],
         "type": "scatterpolar"
        },
        {
         "line": {
          "color": "#CF597E"
         },
         "name": "SKESA",
         "r": [
          3,
          2,
          6,
          4,
          8,
          1
         ],
         "showlegend": true,
         "subplot": "polar",
         "theta": [
          "Contigs",
          "Basepairs",
          "Largest contig",
          "N50",
          "% Mapped reads",
          "Uncalled bases"
         ],
         "type": "scatterpolar"
        },
        {
         "line": {
          "color": "#CF597E"
         },
         "name": "SKESA",
         "r": [
          6,
          5,
          6,
          8,
          1,
          1,
          1
         ],
         "showlegend": false,
         "subplot": "polar2",
         "theta": [
          "Contigs",
          "Basepairs",
          "N50",
          "% Mapped reads",
          "Uncalled bases",
          "Misassembled contigs",
          "Misassembly events"
         ],
         "type": "scatterpolar"
        },
        {
         "line": {
          "color": "#a54765"
         },
         "name": "SPAdes",
         "r": [
          8,
          8,
          4,
          5,
          4,
          1
         ],
         "showlegend": true,
         "subplot": "polar",
         "theta": [
          "Contigs",
          "Basepairs",
          "Largest contig",
          "N50",
          "% Mapped reads",
          "Uncalled bases"
         ],
         "type": "scatterpolar"
        },
        {
         "line": {
          "color": "#a54765"
         },
         "name": "SPAdes",
         "r": [
          10,
          12,
          4,
          6,
          1,
          11,
          11
         ],
         "showlegend": false,
         "subplot": "polar2",
         "theta": [
          "Contigs",
          "Basepairs",
          "N50",
          "% Mapped reads",
          "Uncalled bases",
          "Misassembled contigs",
          "Misassembly events"
         ],
         "type": "scatterpolar"
        },
        {
         "line": {
          "color": "#a42a2a"
         },
         "name": "Unicycler",
         "r": [
          2,
          3,
          2,
          1,
          7,
          1
         ],
         "showlegend": true,
         "subplot": "polar",
         "theta": [
          "Contigs",
          "Basepairs",
          "Largest contig",
          "N50",
          "% Mapped reads",
          "Uncalled bases"
         ],
         "type": "scatterpolar"
        },
        {
         "line": {
          "color": "#a42a2a"
         },
         "name": "Unicycler",
         "r": [
          4,
          6,
          1,
          4,
          1,
          8,
          9
         ],
         "showlegend": false,
         "subplot": "polar2",
         "theta": [
          "Contigs",
          "Basepairs",
          "N50",
          "% Mapped reads",
          "Uncalled bases",
          "Misassembled contigs",
          "Misassembly events"
         ],
         "type": "scatterpolar"
        },
        {
         "line": {
          "color": "#835221"
         },
         "name": "VelvetOptimiser",
         "r": [
          11,
          10,
          11,
          11,
          12,
          12
         ],
         "showlegend": true,
         "subplot": "polar",
         "theta": [
          "Contigs",
          "Basepairs",
          "Largest contig",
          "N50",
          "% Mapped reads",
          "Uncalled bases"
         ],
         "type": "scatterpolar"
        },
        {
         "line": {
          "color": "#835221"
         },
         "name": "VelvetOptimiser",
         "r": [
          3,
          2,
          11,
          11,
          1,
          1,
          1
         ],
         "showlegend": false,
         "subplot": "polar2",
         "theta": [
          "Contigs",
          "Basepairs",
          "N50",
          "% Mapped reads",
          "Uncalled bases",
          "Misassembled contigs",
          "Misassembly events"
         ],
         "type": "scatterpolar"
        }
       ],
       "layout": {
        "annotations": [
         {
          "font": {
           "size": 16
          },
          "showarrow": false,
          "text": "Original",
          "x": 0.225,
          "xanchor": "center",
          "xref": "paper",
          "y": 1,
          "yanchor": "bottom",
          "yref": "paper"
         },
         {
          "font": {
           "size": 16
          },
          "showarrow": false,
          "text": "Filtered",
          "x": 0.775,
          "xanchor": "center",
          "xref": "paper",
          "y": 1,
          "yanchor": "bottom",
          "yref": "paper"
         }
        ],
        "polar": {
         "angularaxis": {
          "categoryarray": [
           "Contigs",
           "Basepairs",
           "Largest contig",
           "N50",
           "% Mapped reads",
           "Uncalled bases"
          ],
          "linecolor": "black"
         },
         "bgcolor": "rgb(255,255,255)",
         "domain": {
          "x": [
           0,
           0.45
          ],
          "y": [
           0,
           1
          ]
         },
         "hole": 0.08333333333333333,
         "radialaxis": {
          "angle": -22.5,
          "autorange": "reversed",
          "gridcolor": "#DCDCDC",
          "linecolor": "black",
          "linewidth": 2,
          "range": [
           1,
           12
          ],
          "visible": true
         }
        },
        "polar2": {
         "angularaxis": {
          "categoryarray": [
           "Contigs",
           "Basepairs",
           "N50",
           "% Mapped reads",
           "Uncalled bases",
           "Misassembled contigs",
           "Misassembly events"
          ],
          "linecolor": "black"
         },
         "bgcolor": "rgb(255,255,255)",
         "domain": {
          "x": [
           0.55,
           1
          ],
          "y": [
           0,
           1
          ]
         },
         "hole": 0.08333333333333333,
         "radialaxis": {
          "angle": -22.5,
          "autorange": "reversed",
          "gridcolor": "#DCDCDC",
          "linecolor": "black",
          "linewidth": 2,
          "range": [
           1,
           12
          ],
          "visible": true
         }
        },
        "template": {
         "data": {
          "bar": [
           {
            "error_x": {
             "color": "#2a3f5f"
            },
            "error_y": {
             "color": "#2a3f5f"
            },
            "marker": {
             "line": {
              "color": "#E5ECF6",
              "width": 0.5
             },
             "pattern": {
              "fillmode": "overlay",
              "size": 10,
              "solidity": 0.2
             }
            },
            "type": "bar"
           }
          ],
          "barpolar": [
           {
            "marker": {
             "line": {
              "color": "#E5ECF6",
              "width": 0.5
             },
             "pattern": {
              "fillmode": "overlay",
              "size": 10,
              "solidity": 0.2
             }
            },
            "type": "barpolar"
           }
          ],
          "carpet": [
           {
            "aaxis": {
             "endlinecolor": "#2a3f5f",
             "gridcolor": "white",
             "linecolor": "white",
             "minorgridcolor": "white",
             "startlinecolor": "#2a3f5f"
            },
            "baxis": {
             "endlinecolor": "#2a3f5f",
             "gridcolor": "white",
             "linecolor": "white",
             "minorgridcolor": "white",
             "startlinecolor": "#2a3f5f"
            },
            "type": "carpet"
           }
          ],
          "choropleth": [
           {
            "colorbar": {
             "outlinewidth": 0,
             "ticks": ""
            },
            "type": "choropleth"
           }
          ],
          "contour": [
           {
            "colorbar": {
             "outlinewidth": 0,
             "ticks": ""
            },
            "colorscale": [
             [
              0,
              "#0d0887"
             ],
             [
              0.1111111111111111,
              "#46039f"
             ],
             [
              0.2222222222222222,
              "#7201a8"
             ],
             [
              0.3333333333333333,
              "#9c179e"
             ],
             [
              0.4444444444444444,
              "#bd3786"
             ],
             [
              0.5555555555555556,
              "#d8576b"
             ],
             [
              0.6666666666666666,
              "#ed7953"
             ],
             [
              0.7777777777777778,
              "#fb9f3a"
             ],
             [
              0.8888888888888888,
              "#fdca26"
             ],
             [
              1,
              "#f0f921"
             ]
            ],
            "type": "contour"
           }
          ],
          "contourcarpet": [
           {
            "colorbar": {
             "outlinewidth": 0,
             "ticks": ""
            },
            "type": "contourcarpet"
           }
          ],
          "heatmap": [
           {
            "colorbar": {
             "outlinewidth": 0,
             "ticks": ""
            },
            "colorscale": [
             [
              0,
              "#0d0887"
             ],
             [
              0.1111111111111111,
              "#46039f"
             ],
             [
              0.2222222222222222,
              "#7201a8"
             ],
             [
              0.3333333333333333,
              "#9c179e"
             ],
             [
              0.4444444444444444,
              "#bd3786"
             ],
             [
              0.5555555555555556,
              "#d8576b"
             ],
             [
              0.6666666666666666,
              "#ed7953"
             ],
             [
              0.7777777777777778,
              "#fb9f3a"
             ],
             [
              0.8888888888888888,
              "#fdca26"
             ],
             [
              1,
              "#f0f921"
             ]
            ],
            "type": "heatmap"
           }
          ],
          "heatmapgl": [
           {
            "colorbar": {
             "outlinewidth": 0,
             "ticks": ""
            },
            "colorscale": [
             [
              0,
              "#0d0887"
             ],
             [
              0.1111111111111111,
              "#46039f"
             ],
             [
              0.2222222222222222,
              "#7201a8"
             ],
             [
              0.3333333333333333,
              "#9c179e"
             ],
             [
              0.4444444444444444,
              "#bd3786"
             ],
             [
              0.5555555555555556,
              "#d8576b"
             ],
             [
              0.6666666666666666,
              "#ed7953"
             ],
             [
              0.7777777777777778,
              "#fb9f3a"
             ],
             [
              0.8888888888888888,
              "#fdca26"
             ],
             [
              1,
              "#f0f921"
             ]
            ],
            "type": "heatmapgl"
           }
          ],
          "histogram": [
           {
            "marker": {
             "pattern": {
              "fillmode": "overlay",
              "size": 10,
              "solidity": 0.2
             }
            },
            "type": "histogram"
           }
          ],
          "histogram2d": [
           {
            "colorbar": {
             "outlinewidth": 0,
             "ticks": ""
            },
            "colorscale": [
             [
              0,
              "#0d0887"
             ],
             [
              0.1111111111111111,
              "#46039f"
             ],
             [
              0.2222222222222222,
              "#7201a8"
             ],
             [
              0.3333333333333333,
              "#9c179e"
             ],
             [
              0.4444444444444444,
              "#bd3786"
             ],
             [
              0.5555555555555556,
              "#d8576b"
             ],
             [
              0.6666666666666666,
              "#ed7953"
             ],
             [
              0.7777777777777778,
              "#fb9f3a"
             ],
             [
              0.8888888888888888,
              "#fdca26"
             ],
             [
              1,
              "#f0f921"
             ]
            ],
            "type": "histogram2d"
           }
          ],
          "histogram2dcontour": [
           {
            "colorbar": {
             "outlinewidth": 0,
             "ticks": ""
            },
            "colorscale": [
             [
              0,
              "#0d0887"
             ],
             [
              0.1111111111111111,
              "#46039f"
             ],
             [
              0.2222222222222222,
              "#7201a8"
             ],
             [
              0.3333333333333333,
              "#9c179e"
             ],
             [
              0.4444444444444444,
              "#bd3786"
             ],
             [
              0.5555555555555556,
              "#d8576b"
             ],
             [
              0.6666666666666666,
              "#ed7953"
             ],
             [
              0.7777777777777778,
              "#fb9f3a"
             ],
             [
              0.8888888888888888,
              "#fdca26"
             ],
             [
              1,
              "#f0f921"
             ]
            ],
            "type": "histogram2dcontour"
           }
          ],
          "mesh3d": [
           {
            "colorbar": {
             "outlinewidth": 0,
             "ticks": ""
            },
            "type": "mesh3d"
           }
          ],
          "parcoords": [
           {
            "line": {
             "colorbar": {
              "outlinewidth": 0,
              "ticks": ""
             }
            },
            "type": "parcoords"
           }
          ],
          "pie": [
           {
            "automargin": true,
            "type": "pie"
           }
          ],
          "scatter": [
           {
            "marker": {
             "colorbar": {
              "outlinewidth": 0,
              "ticks": ""
             }
            },
            "type": "scatter"
           }
          ],
          "scatter3d": [
           {
            "line": {
             "colorbar": {
              "outlinewidth": 0,
              "ticks": ""
             }
            },
            "marker": {
             "colorbar": {
              "outlinewidth": 0,
              "ticks": ""
             }
            },
            "type": "scatter3d"
           }
          ],
          "scattercarpet": [
           {
            "marker": {
             "colorbar": {
              "outlinewidth": 0,
              "ticks": ""
             }
            },
            "type": "scattercarpet"
           }
          ],
          "scattergeo": [
           {
            "marker": {
             "colorbar": {
              "outlinewidth": 0,
              "ticks": ""
             }
            },
            "type": "scattergeo"
           }
          ],
          "scattergl": [
           {
            "marker": {
             "colorbar": {
              "outlinewidth": 0,
              "ticks": ""
             }
            },
            "type": "scattergl"
           }
          ],
          "scattermapbox": [
           {
            "marker": {
             "colorbar": {
              "outlinewidth": 0,
              "ticks": ""
             }
            },
            "type": "scattermapbox"
           }
          ],
          "scatterpolar": [
           {
            "marker": {
             "colorbar": {
              "outlinewidth": 0,
              "ticks": ""
             }
            },
            "type": "scatterpolar"
           }
          ],
          "scatterpolargl": [
           {
            "marker": {
             "colorbar": {
              "outlinewidth": 0,
              "ticks": ""
             }
            },
            "type": "scatterpolargl"
           }
          ],
          "scatterternary": [
           {
            "marker": {
             "colorbar": {
              "outlinewidth": 0,
              "ticks": ""
             }
            },
            "type": "scatterternary"
           }
          ],
          "surface": [
           {
            "colorbar": {
             "outlinewidth": 0,
             "ticks": ""
            },
            "colorscale": [
             [
              0,
              "#0d0887"
             ],
             [
              0.1111111111111111,
              "#46039f"
             ],
             [
              0.2222222222222222,
              "#7201a8"
             ],
             [
              0.3333333333333333,
              "#9c179e"
             ],
             [
              0.4444444444444444,
              "#bd3786"
             ],
             [
              0.5555555555555556,
              "#d8576b"
             ],
             [
              0.6666666666666666,
              "#ed7953"
             ],
             [
              0.7777777777777778,
              "#fb9f3a"
             ],
             [
              0.8888888888888888,
              "#fdca26"
             ],
             [
              1,
              "#f0f921"
             ]
            ],
            "type": "surface"
           }
          ],
          "table": [
           {
            "cells": {
             "fill": {
              "color": "#EBF0F8"
             },
             "line": {
              "color": "white"
             }
            },
            "header": {
             "fill": {
              "color": "#C8D4E3"
             },
             "line": {
              "color": "white"
             }
            },
            "type": "table"
           }
          ]
         },
         "layout": {
          "annotationdefaults": {
           "arrowcolor": "#2a3f5f",
           "arrowhead": 0,
           "arrowwidth": 1
          },
          "autotypenumbers": "strict",
          "coloraxis": {
           "colorbar": {
            "outlinewidth": 0,
            "ticks": ""
           }
          },
          "colorscale": {
           "diverging": [
            [
             0,
             "#8e0152"
            ],
            [
             0.1,
             "#c51b7d"
            ],
            [
             0.2,
             "#de77ae"
            ],
            [
             0.3,
             "#f1b6da"
            ],
            [
             0.4,
             "#fde0ef"
            ],
            [
             0.5,
             "#f7f7f7"
            ],
            [
             0.6,
             "#e6f5d0"
            ],
            [
             0.7,
             "#b8e186"
            ],
            [
             0.8,
             "#7fbc41"
            ],
            [
             0.9,
             "#4d9221"
            ],
            [
             1,
             "#276419"
            ]
           ],
           "sequential": [
            [
             0,
             "#0d0887"
            ],
            [
             0.1111111111111111,
             "#46039f"
            ],
            [
             0.2222222222222222,
             "#7201a8"
            ],
            [
             0.3333333333333333,
             "#9c179e"
            ],
            [
             0.4444444444444444,
             "#bd3786"
            ],
            [
             0.5555555555555556,
             "#d8576b"
            ],
            [
             0.6666666666666666,
             "#ed7953"
            ],
            [
             0.7777777777777778,
             "#fb9f3a"
            ],
            [
             0.8888888888888888,
             "#fdca26"
            ],
            [
             1,
             "#f0f921"
            ]
           ],
           "sequentialminus": [
            [
             0,
             "#0d0887"
            ],
            [
             0.1111111111111111,
             "#46039f"
            ],
            [
             0.2222222222222222,
             "#7201a8"
            ],
            [
             0.3333333333333333,
             "#9c179e"
            ],
            [
             0.4444444444444444,
             "#bd3786"
            ],
            [
             0.5555555555555556,
             "#d8576b"
            ],
            [
             0.6666666666666666,
             "#ed7953"
            ],
            [
             0.7777777777777778,
             "#fb9f3a"
            ],
            [
             0.8888888888888888,
             "#fdca26"
            ],
            [
             1,
             "#f0f921"
            ]
           ]
          },
          "colorway": [
           "#636efa",
           "#EF553B",
           "#00cc96",
           "#ab63fa",
           "#FFA15A",
           "#19d3f3",
           "#FF6692",
           "#B6E880",
           "#FF97FF",
           "#FECB52"
          ],
          "font": {
           "color": "#2a3f5f"
          },
          "geo": {
           "bgcolor": "white",
           "lakecolor": "white",
           "landcolor": "#E5ECF6",
           "showlakes": true,
           "showland": true,
           "subunitcolor": "white"
          },
          "hoverlabel": {
           "align": "left"
          },
          "hovermode": "closest",
          "mapbox": {
           "style": "light"
          },
          "paper_bgcolor": "white",
          "plot_bgcolor": "#E5ECF6",
          "polar": {
           "angularaxis": {
            "gridcolor": "white",
            "linecolor": "white",
            "ticks": ""
           },
           "bgcolor": "#E5ECF6",
           "radialaxis": {
            "gridcolor": "white",
            "linecolor": "white",
            "ticks": ""
           }
          },
          "scene": {
           "xaxis": {
            "backgroundcolor": "#E5ECF6",
            "gridcolor": "white",
            "gridwidth": 2,
            "linecolor": "white",
            "showbackground": true,
            "ticks": "",
            "zerolinecolor": "white"
           },
           "yaxis": {
            "backgroundcolor": "#E5ECF6",
            "gridcolor": "white",
            "gridwidth": 2,
            "linecolor": "white",
            "showbackground": true,
            "ticks": "",
            "zerolinecolor": "white"
           },
           "zaxis": {
            "backgroundcolor": "#E5ECF6",
            "gridcolor": "white",
            "gridwidth": 2,
            "linecolor": "white",
            "showbackground": true,
            "ticks": "",
            "zerolinecolor": "white"
           }
          },
          "shapedefaults": {
           "line": {
            "color": "#2a3f5f"
           }
          },
          "ternary": {
           "aaxis": {
            "gridcolor": "white",
            "linecolor": "white",
            "ticks": ""
           },
           "baxis": {
            "gridcolor": "white",
            "linecolor": "white",
            "ticks": ""
           },
           "bgcolor": "#E5ECF6",
           "caxis": {
            "gridcolor": "white",
            "linecolor": "white",
            "ticks": ""
           }
          },
          "title": {
           "x": 0.05
          },
          "xaxis": {
           "automargin": true,
           "gridcolor": "white",
           "linecolor": "white",
           "ticks": "",
           "title": {
            "standoff": 15
           },
           "zerolinecolor": "white",
           "zerolinewidth": 2
          },
          "yaxis": {
           "automargin": true,
           "gridcolor": "white",
           "linecolor": "white",
           "ticks": "",
           "title": {
            "standoff": 15
           },
           "zerolinecolor": "white",
           "zerolinewidth": 2
          }
         }
        },
        "title": {
         "text": "ERR2984773"
        }
       }
      },
      "text/html": [
       "<div>                            <div id=\"b85b26a7-2a8c-4fff-9a31-2c025553d482\" class=\"plotly-graph-div\" style=\"height:525px; width:100%;\"></div>            <script type=\"text/javascript\">                require([\"plotly\"], function(Plotly) {                    window.PLOTLYENV=window.PLOTLYENV || {};                                    if (document.getElementById(\"b85b26a7-2a8c-4fff-9a31-2c025553d482\")) {                    Plotly.newPlot(                        \"b85b26a7-2a8c-4fff-9a31-2c025553d482\",                        [{\"line\":{\"color\":\"#5876c8\"},\"name\":\"ABySS\",\"r\":[1,11,8,10,1,1],\"showlegend\":true,\"subplot\":\"polar\",\"theta\":[\"Contigs\",\"Basepairs\",\"Largest contig\",\"N50\",\"% Mapped reads\",\"Uncalled bases\"],\"type\":\"scatterpolar\"},{\"line\":{\"color\":\"#5876c8\"},\"name\":\"ABySS\",\"r\":[1,8,7,7,1,1,1],\"showlegend\":false,\"subplot\":\"polar2\",\"theta\":[\"Contigs\",\"Basepairs\",\"N50\",\"% Mapped reads\",\"Uncalled bases\",\"Misassembled contigs\",\"Misassembly events\"],\"type\":\"scatterpolar\"},{\"line\":{\"color\":\"#58AEC8\"},\"name\":\"BCALM2\",\"r\":[12,12,12,12,11,1],\"showlegend\":true,\"subplot\":\"polar\",\"theta\":[\"Contigs\",\"Basepairs\",\"Largest contig\",\"N50\",\"% Mapped reads\",\"Uncalled bases\"],\"type\":\"scatterpolar\"},{\"line\":{\"color\":\"#58AEC8\"},\"name\":\"BCALM2\",\"r\":[1,1,12,12,1,1,1],\"showlegend\":false,\"subplot\":\"polar2\",\"theta\":[\"Contigs\",\"Basepairs\",\"N50\",\"% Mapped reads\",\"Uncalled bases\",\"Misassembled contigs\",\"Misassembly events\"],\"type\":\"scatterpolar\"},{\"line\":{\"color\":\"#009392\"},\"name\":\"GATBMiniaPipeline\",\"r\":[4,4,3,2,6,1],\"showlegend\":true,\"subplot\":\"polar\",\"theta\":[\"Contigs\",\"Basepairs\",\"Largest contig\",\"N50\",\"% Mapped reads\",\"Uncalled bases\"],\"type\":\"scatterpolar\"},{\"line\":{\"color\":\"#009392\"},\"name\":\"GATBMiniaPipeline\",\"r\":[5,7,3,2,1,7,7],\"showlegend\":false,\"subplot\":\"polar2\",\"theta\":[\"Contigs\",\"Basepairs\",\"N50\",\"% Mapped reads\",\"Uncalled bases\",\"Misassembled contigs\",\"Misassembly events\"],\"type\":\"scatterpolar\"},{\"line\":{\"color\":\"#39B185\"},\"name\":\"IDBA-UD\",\"r\":[6,5,7,7,5,1],\"showlegend\":true,\"subplot\":\"polar\",\"theta\":[\"Contigs\",\"Basepairs\",\"Largest contig\",\"N50\",\"% Mapped reads\",\"Uncalled bases\"],\"type\":\"scatterpolar\"},{\"line\":{\"color\":\"#39B185\"},\"name\":\"IDBA-UD\",\"r\":[11,9,8,5,1,10,10],\"showlegend\":false,\"subplot\":\"polar2\",\"theta\":[\"Contigs\",\"Basepairs\",\"N50\",\"% Mapped reads\",\"Uncalled bases\",\"Misassembled contigs\",\"Misassembly events\"],\"type\":\"scatterpolar\"},{\"line\":{\"color\":\"#9CCB86\"},\"name\":\"MEGAHIT\",\"r\":[7,6,1,3,3,1],\"showlegend\":true,\"subplot\":\"polar\",\"theta\":[\"Contigs\",\"Basepairs\",\"Largest contig\",\"N50\",\"% Mapped reads\",\"Uncalled bases\"],\"type\":\"scatterpolar\"},{\"line\":{\"color\":\"#9CCB86\"},\"name\":\"MEGAHIT\",\"r\":[8,11,2,1,1,12,12],\"showlegend\":false,\"subplot\":\"polar2\",\"theta\":[\"Contigs\",\"Basepairs\",\"N50\",\"% Mapped reads\",\"Uncalled bases\",\"Misassembled contigs\",\"Misassembly events\"],\"type\":\"scatterpolar\"},{\"line\":{\"color\":\"#E9E29C\"},\"name\":\"MetaHipMer2\",\"r\":[5,1,10,9,10,1],\"showlegend\":true,\"subplot\":\"polar\",\"theta\":[\"Contigs\",\"Basepairs\",\"Largest contig\",\"N50\",\"% Mapped reads\",\"Uncalled bases\"],\"type\":\"scatterpolar\"},{\"line\":{\"color\":\"#E9E29C\"},\"name\":\"MetaHipMer2\",\"r\":[7,3,10,10,1,1,1],\"showlegend\":false,\"subplot\":\"polar2\",\"theta\":[\"Contigs\",\"Basepairs\",\"N50\",\"% Mapped reads\",\"Uncalled bases\",\"Misassembled contigs\",\"Misassembly events\"],\"type\":\"scatterpolar\"},{\"line\":{\"color\":\"#EEB479\"},\"name\":\"metaSPAdes\",\"r\":[9,9,5,6,2,1],\"showlegend\":true,\"subplot\":\"polar\",\"theta\":[\"Contigs\",\"Basepairs\",\"Largest contig\",\"N50\",\"% Mapped reads\",\"Uncalled bases\"],\"type\":\"scatterpolar\"},{\"line\":{\"color\":\"#EEB479\"},\"name\":\"metaSPAdes\",\"r\":[9,10,5,3,1,8,8],\"showlegend\":false,\"subplot\":\"polar2\",\"theta\":[\"Contigs\",\"Basepairs\",\"N50\",\"% Mapped reads\",\"Uncalled bases\",\"Misassembled contigs\",\"Misassembly events\"],\"type\":\"scatterpolar\"},{\"line\":{\"color\":\"#E88471\"},\"name\":\"MINIA\",\"r\":[10,7,9,8,9,1],\"showlegend\":true,\"subplot\":\"polar\",\"theta\":[\"Contigs\",\"Basepairs\",\"Largest contig\",\"N50\",\"% Mapped reads\",\"Uncalled bases\"],\"type\":\"scatterpolar\"},{\"line\":{\"color\":\"#E88471\"},\"name\":\"MINIA\",\"r\":[12,4,9,9,1,1,1],\"showlegend\":false,\"subplot\":\"polar2\",\"theta\":[\"Contigs\",\"Basepairs\",\"N50\",\"% Mapped reads\",\"Uncalled bases\",\"Misassembled contigs\",\"Misassembly events\"],\"type\":\"scatterpolar\"},{\"line\":{\"color\":\"#CF597E\"},\"name\":\"SKESA\",\"r\":[3,2,6,4,8,1],\"showlegend\":true,\"subplot\":\"polar\",\"theta\":[\"Contigs\",\"Basepairs\",\"Largest contig\",\"N50\",\"% Mapped reads\",\"Uncalled bases\"],\"type\":\"scatterpolar\"},{\"line\":{\"color\":\"#CF597E\"},\"name\":\"SKESA\",\"r\":[6,5,6,8,1,1,1],\"showlegend\":false,\"subplot\":\"polar2\",\"theta\":[\"Contigs\",\"Basepairs\",\"N50\",\"% Mapped reads\",\"Uncalled bases\",\"Misassembled contigs\",\"Misassembly events\"],\"type\":\"scatterpolar\"},{\"line\":{\"color\":\"#a54765\"},\"name\":\"SPAdes\",\"r\":[8,8,4,5,4,1],\"showlegend\":true,\"subplot\":\"polar\",\"theta\":[\"Contigs\",\"Basepairs\",\"Largest contig\",\"N50\",\"% Mapped reads\",\"Uncalled bases\"],\"type\":\"scatterpolar\"},{\"line\":{\"color\":\"#a54765\"},\"name\":\"SPAdes\",\"r\":[10,12,4,6,1,11,11],\"showlegend\":false,\"subplot\":\"polar2\",\"theta\":[\"Contigs\",\"Basepairs\",\"N50\",\"% Mapped reads\",\"Uncalled bases\",\"Misassembled contigs\",\"Misassembly events\"],\"type\":\"scatterpolar\"},{\"line\":{\"color\":\"#a42a2a\"},\"name\":\"Unicycler\",\"r\":[2,3,2,1,7,1],\"showlegend\":true,\"subplot\":\"polar\",\"theta\":[\"Contigs\",\"Basepairs\",\"Largest contig\",\"N50\",\"% Mapped reads\",\"Uncalled bases\"],\"type\":\"scatterpolar\"},{\"line\":{\"color\":\"#a42a2a\"},\"name\":\"Unicycler\",\"r\":[4,6,1,4,1,8,9],\"showlegend\":false,\"subplot\":\"polar2\",\"theta\":[\"Contigs\",\"Basepairs\",\"N50\",\"% Mapped reads\",\"Uncalled bases\",\"Misassembled contigs\",\"Misassembly events\"],\"type\":\"scatterpolar\"},{\"line\":{\"color\":\"#835221\"},\"name\":\"VelvetOptimiser\",\"r\":[11,10,11,11,12,12],\"showlegend\":true,\"subplot\":\"polar\",\"theta\":[\"Contigs\",\"Basepairs\",\"Largest contig\",\"N50\",\"% Mapped reads\",\"Uncalled bases\"],\"type\":\"scatterpolar\"},{\"line\":{\"color\":\"#835221\"},\"name\":\"VelvetOptimiser\",\"r\":[3,2,11,11,1,1,1],\"showlegend\":false,\"subplot\":\"polar2\",\"theta\":[\"Contigs\",\"Basepairs\",\"N50\",\"% Mapped reads\",\"Uncalled bases\",\"Misassembled contigs\",\"Misassembly events\"],\"type\":\"scatterpolar\"}],                        {\"annotations\":[{\"font\":{\"size\":16},\"showarrow\":false,\"text\":\"Original\",\"x\":0.225,\"xanchor\":\"center\",\"xref\":\"paper\",\"y\":1.0,\"yanchor\":\"bottom\",\"yref\":\"paper\"},{\"font\":{\"size\":16},\"showarrow\":false,\"text\":\"Filtered\",\"x\":0.775,\"xanchor\":\"center\",\"xref\":\"paper\",\"y\":1.0,\"yanchor\":\"bottom\",\"yref\":\"paper\"}],\"polar\":{\"angularaxis\":{\"categoryarray\":[\"Contigs\",\"Basepairs\",\"Largest contig\",\"N50\",\"% Mapped reads\",\"Uncalled bases\"],\"linecolor\":\"black\"},\"bgcolor\":\"rgb(255,255,255)\",\"domain\":{\"x\":[0.0,0.45],\"y\":[0.0,1.0]},\"hole\":0.08333333333333333,\"radialaxis\":{\"angle\":-22.5,\"autorange\":\"reversed\",\"gridcolor\":\"#DCDCDC\",\"linecolor\":\"black\",\"linewidth\":2,\"range\":[1,12],\"visible\":true}},\"polar2\":{\"angularaxis\":{\"categoryarray\":[\"Contigs\",\"Basepairs\",\"N50\",\"% Mapped reads\",\"Uncalled bases\",\"Misassembled contigs\",\"Misassembly events\"],\"linecolor\":\"black\"},\"bgcolor\":\"rgb(255,255,255)\",\"domain\":{\"x\":[0.55,1.0],\"y\":[0.0,1.0]},\"hole\":0.08333333333333333,\"radialaxis\":{\"angle\":-22.5,\"autorange\":\"reversed\",\"gridcolor\":\"#DCDCDC\",\"linecolor\":\"black\",\"linewidth\":2,\"range\":[1,12],\"visible\":true}},\"template\":{\"data\":{\"bar\":[{\"error_x\":{\"color\":\"#2a3f5f\"},\"error_y\":{\"color\":\"#2a3f5f\"},\"marker\":{\"line\":{\"color\":\"#E5ECF6\",\"width\":0.5},\"pattern\":{\"fillmode\":\"overlay\",\"size\":10,\"solidity\":0.2}},\"type\":\"bar\"}],\"barpolar\":[{\"marker\":{\"line\":{\"color\":\"#E5ECF6\",\"width\":0.5},\"pattern\":{\"fillmode\":\"overlay\",\"size\":10,\"solidity\":0.2}},\"type\":\"barpolar\"}],\"carpet\":[{\"aaxis\":{\"endlinecolor\":\"#2a3f5f\",\"gridcolor\":\"white\",\"linecolor\":\"white\",\"minorgridcolor\":\"white\",\"startlinecolor\":\"#2a3f5f\"},\"baxis\":{\"endlinecolor\":\"#2a3f5f\",\"gridcolor\":\"white\",\"linecolor\":\"white\",\"minorgridcolor\":\"white\",\"startlinecolor\":\"#2a3f5f\"},\"type\":\"carpet\"}],\"choropleth\":[{\"colorbar\":{\"outlinewidth\":0,\"ticks\":\"\"},\"type\":\"choropleth\"}],\"contour\":[{\"colorbar\":{\"outlinewidth\":0,\"ticks\":\"\"},\"colorscale\":[[0.0,\"#0d0887\"],[0.1111111111111111,\"#46039f\"],[0.2222222222222222,\"#7201a8\"],[0.3333333333333333,\"#9c179e\"],[0.4444444444444444,\"#bd3786\"],[0.5555555555555556,\"#d8576b\"],[0.6666666666666666,\"#ed7953\"],[0.7777777777777778,\"#fb9f3a\"],[0.8888888888888888,\"#fdca26\"],[1.0,\"#f0f921\"]],\"type\":\"contour\"}],\"contourcarpet\":[{\"colorbar\":{\"outlinewidth\":0,\"ticks\":\"\"},\"type\":\"contourcarpet\"}],\"heatmap\":[{\"colorbar\":{\"outlinewidth\":0,\"ticks\":\"\"},\"colorscale\":[[0.0,\"#0d0887\"],[0.1111111111111111,\"#46039f\"],[0.2222222222222222,\"#7201a8\"],[0.3333333333333333,\"#9c179e\"],[0.4444444444444444,\"#bd3786\"],[0.5555555555555556,\"#d8576b\"],[0.6666666666666666,\"#ed7953\"],[0.7777777777777778,\"#fb9f3a\"],[0.8888888888888888,\"#fdca26\"],[1.0,\"#f0f921\"]],\"type\":\"heatmap\"}],\"heatmapgl\":[{\"colorbar\":{\"outlinewidth\":0,\"ticks\":\"\"},\"colorscale\":[[0.0,\"#0d0887\"],[0.1111111111111111,\"#46039f\"],[0.2222222222222222,\"#7201a8\"],[0.3333333333333333,\"#9c179e\"],[0.4444444444444444,\"#bd3786\"],[0.5555555555555556,\"#d8576b\"],[0.6666666666666666,\"#ed7953\"],[0.7777777777777778,\"#fb9f3a\"],[0.8888888888888888,\"#fdca26\"],[1.0,\"#f0f921\"]],\"type\":\"heatmapgl\"}],\"histogram\":[{\"marker\":{\"pattern\":{\"fillmode\":\"overlay\",\"size\":10,\"solidity\":0.2}},\"type\":\"histogram\"}],\"histogram2d\":[{\"colorbar\":{\"outlinewidth\":0,\"ticks\":\"\"},\"colorscale\":[[0.0,\"#0d0887\"],[0.1111111111111111,\"#46039f\"],[0.2222222222222222,\"#7201a8\"],[0.3333333333333333,\"#9c179e\"],[0.4444444444444444,\"#bd3786\"],[0.5555555555555556,\"#d8576b\"],[0.6666666666666666,\"#ed7953\"],[0.7777777777777778,\"#fb9f3a\"],[0.8888888888888888,\"#fdca26\"],[1.0,\"#f0f921\"]],\"type\":\"histogram2d\"}],\"histogram2dcontour\":[{\"colorbar\":{\"outlinewidth\":0,\"ticks\":\"\"},\"colorscale\":[[0.0,\"#0d0887\"],[0.1111111111111111,\"#46039f\"],[0.2222222222222222,\"#7201a8\"],[0.3333333333333333,\"#9c179e\"],[0.4444444444444444,\"#bd3786\"],[0.5555555555555556,\"#d8576b\"],[0.6666666666666666,\"#ed7953\"],[0.7777777777777778,\"#fb9f3a\"],[0.8888888888888888,\"#fdca26\"],[1.0,\"#f0f921\"]],\"type\":\"histogram2dcontour\"}],\"mesh3d\":[{\"colorbar\":{\"outlinewidth\":0,\"ticks\":\"\"},\"type\":\"mesh3d\"}],\"parcoords\":[{\"line\":{\"colorbar\":{\"outlinewidth\":0,\"ticks\":\"\"}},\"type\":\"parcoords\"}],\"pie\":[{\"automargin\":true,\"type\":\"pie\"}],\"scatter\":[{\"marker\":{\"colorbar\":{\"outlinewidth\":0,\"ticks\":\"\"}},\"type\":\"scatter\"}],\"scatter3d\":[{\"line\":{\"colorbar\":{\"outlinewidth\":0,\"ticks\":\"\"}},\"marker\":{\"colorbar\":{\"outlinewidth\":0,\"ticks\":\"\"}},\"type\":\"scatter3d\"}],\"scattercarpet\":[{\"marker\":{\"colorbar\":{\"outlinewidth\":0,\"ticks\":\"\"}},\"type\":\"scattercarpet\"}],\"scattergeo\":[{\"marker\":{\"colorbar\":{\"outlinewidth\":0,\"ticks\":\"\"}},\"type\":\"scattergeo\"}],\"scattergl\":[{\"marker\":{\"colorbar\":{\"outlinewidth\":0,\"ticks\":\"\"}},\"type\":\"scattergl\"}],\"scattermapbox\":[{\"marker\":{\"colorbar\":{\"outlinewidth\":0,\"ticks\":\"\"}},\"type\":\"scattermapbox\"}],\"scatterpolar\":[{\"marker\":{\"colorbar\":{\"outlinewidth\":0,\"ticks\":\"\"}},\"type\":\"scatterpolar\"}],\"scatterpolargl\":[{\"marker\":{\"colorbar\":{\"outlinewidth\":0,\"ticks\":\"\"}},\"type\":\"scatterpolargl\"}],\"scatterternary\":[{\"marker\":{\"colorbar\":{\"outlinewidth\":0,\"ticks\":\"\"}},\"type\":\"scatterternary\"}],\"surface\":[{\"colorbar\":{\"outlinewidth\":0,\"ticks\":\"\"},\"colorscale\":[[0.0,\"#0d0887\"],[0.1111111111111111,\"#46039f\"],[0.2222222222222222,\"#7201a8\"],[0.3333333333333333,\"#9c179e\"],[0.4444444444444444,\"#bd3786\"],[0.5555555555555556,\"#d8576b\"],[0.6666666666666666,\"#ed7953\"],[0.7777777777777778,\"#fb9f3a\"],[0.8888888888888888,\"#fdca26\"],[1.0,\"#f0f921\"]],\"type\":\"surface\"}],\"table\":[{\"cells\":{\"fill\":{\"color\":\"#EBF0F8\"},\"line\":{\"color\":\"white\"}},\"header\":{\"fill\":{\"color\":\"#C8D4E3\"},\"line\":{\"color\":\"white\"}},\"type\":\"table\"}]},\"layout\":{\"annotationdefaults\":{\"arrowcolor\":\"#2a3f5f\",\"arrowhead\":0,\"arrowwidth\":1},\"autotypenumbers\":\"strict\",\"coloraxis\":{\"colorbar\":{\"outlinewidth\":0,\"ticks\":\"\"}},\"colorscale\":{\"diverging\":[[0,\"#8e0152\"],[0.1,\"#c51b7d\"],[0.2,\"#de77ae\"],[0.3,\"#f1b6da\"],[0.4,\"#fde0ef\"],[0.5,\"#f7f7f7\"],[0.6,\"#e6f5d0\"],[0.7,\"#b8e186\"],[0.8,\"#7fbc41\"],[0.9,\"#4d9221\"],[1,\"#276419\"]],\"sequential\":[[0.0,\"#0d0887\"],[0.1111111111111111,\"#46039f\"],[0.2222222222222222,\"#7201a8\"],[0.3333333333333333,\"#9c179e\"],[0.4444444444444444,\"#bd3786\"],[0.5555555555555556,\"#d8576b\"],[0.6666666666666666,\"#ed7953\"],[0.7777777777777778,\"#fb9f3a\"],[0.8888888888888888,\"#fdca26\"],[1.0,\"#f0f921\"]],\"sequentialminus\":[[0.0,\"#0d0887\"],[0.1111111111111111,\"#46039f\"],[0.2222222222222222,\"#7201a8\"],[0.3333333333333333,\"#9c179e\"],[0.4444444444444444,\"#bd3786\"],[0.5555555555555556,\"#d8576b\"],[0.6666666666666666,\"#ed7953\"],[0.7777777777777778,\"#fb9f3a\"],[0.8888888888888888,\"#fdca26\"],[1.0,\"#f0f921\"]]},\"colorway\":[\"#636efa\",\"#EF553B\",\"#00cc96\",\"#ab63fa\",\"#FFA15A\",\"#19d3f3\",\"#FF6692\",\"#B6E880\",\"#FF97FF\",\"#FECB52\"],\"font\":{\"color\":\"#2a3f5f\"},\"geo\":{\"bgcolor\":\"white\",\"lakecolor\":\"white\",\"landcolor\":\"#E5ECF6\",\"showlakes\":true,\"showland\":true,\"subunitcolor\":\"white\"},\"hoverlabel\":{\"align\":\"left\"},\"hovermode\":\"closest\",\"mapbox\":{\"style\":\"light\"},\"paper_bgcolor\":\"white\",\"plot_bgcolor\":\"#E5ECF6\",\"polar\":{\"angularaxis\":{\"gridcolor\":\"white\",\"linecolor\":\"white\",\"ticks\":\"\"},\"bgcolor\":\"#E5ECF6\",\"radialaxis\":{\"gridcolor\":\"white\",\"linecolor\":\"white\",\"ticks\":\"\"}},\"scene\":{\"xaxis\":{\"backgroundcolor\":\"#E5ECF6\",\"gridcolor\":\"white\",\"gridwidth\":2,\"linecolor\":\"white\",\"showbackground\":true,\"ticks\":\"\",\"zerolinecolor\":\"white\"},\"yaxis\":{\"backgroundcolor\":\"#E5ECF6\",\"gridcolor\":\"white\",\"gridwidth\":2,\"linecolor\":\"white\",\"showbackground\":true,\"ticks\":\"\",\"zerolinecolor\":\"white\"},\"zaxis\":{\"backgroundcolor\":\"#E5ECF6\",\"gridcolor\":\"white\",\"gridwidth\":2,\"linecolor\":\"white\",\"showbackground\":true,\"ticks\":\"\",\"zerolinecolor\":\"white\"}},\"shapedefaults\":{\"line\":{\"color\":\"#2a3f5f\"}},\"ternary\":{\"aaxis\":{\"gridcolor\":\"white\",\"linecolor\":\"white\",\"ticks\":\"\"},\"baxis\":{\"gridcolor\":\"white\",\"linecolor\":\"white\",\"ticks\":\"\"},\"bgcolor\":\"#E5ECF6\",\"caxis\":{\"gridcolor\":\"white\",\"linecolor\":\"white\",\"ticks\":\"\"}},\"title\":{\"x\":0.05},\"xaxis\":{\"automargin\":true,\"gridcolor\":\"white\",\"linecolor\":\"white\",\"ticks\":\"\",\"title\":{\"standoff\":15},\"zerolinecolor\":\"white\",\"zerolinewidth\":2},\"yaxis\":{\"automargin\":true,\"gridcolor\":\"white\",\"linecolor\":\"white\",\"ticks\":\"\",\"title\":{\"standoff\":15},\"zerolinecolor\":\"white\",\"zerolinewidth\":2}}},\"title\":{\"text\":\"ERR2984773\"}},                        {\"responsive\": true}                    ).then(function(){\n",
       "                            \n",
       "var gd = document.getElementById('b85b26a7-2a8c-4fff-9a31-2c025553d482');\n",
       "var x = new MutationObserver(function (mutations, observer) {{\n",
       "        var display = window.getComputedStyle(gd).display;\n",
       "        if (!display || display === 'none') {{\n",
       "            console.log([gd, 'removed!']);\n",
       "            Plotly.purge(gd);\n",
       "            observer.disconnect();\n",
       "        }}\n",
       "}});\n",
       "\n",
       "// Listen for the removal of the full notebook cells\n",
       "var notebookContainer = gd.closest('#notebook-container');\n",
       "if (notebookContainer) {{\n",
       "    x.observe(notebookContainer, {childList: true});\n",
       "}}\n",
       "\n",
       "// Listen for the clearing of the current output cell\n",
       "var outputEl = gd.closest('.output');\n",
       "if (outputEl) {{\n",
       "    x.observe(outputEl, {childList: true});\n",
       "}}\n",
       "\n",
       "                        })                };                });            </script>        </div>"
      ]
     },
     "metadata": {},
     "output_type": "display_data"
    },
    {
     "data": {
      "application/vnd.plotly.v1+json": {
       "config": {
        "plotlyServerURL": "https://plot.ly"
       },
       "data": [
        {
         "line": {
          "color": "#5876c8"
         },
         "name": "ABySS",
         "r": [
          9,
          12,
          2,
          7,
          1,
          11
         ],
         "showlegend": true,
         "subplot": "polar",
         "theta": [
          "Contigs",
          "Basepairs",
          "Largest contig",
          "N50",
          "% Mapped reads",
          "Uncalled bases"
         ],
         "type": "scatterpolar"
        },
        {
         "line": {
          "color": "#5876c8"
         },
         "name": "ABySS",
         "r": [
          9,
          12,
          7,
          2,
          11,
          8,
          9
         ],
         "showlegend": false,
         "subplot": "polar2",
         "theta": [
          "Contigs",
          "Basepairs",
          "N50",
          "% Mapped reads",
          "Uncalled bases",
          "Misassembled contigs",
          "Misassembly events"
         ],
         "type": "scatterpolar"
        },
        {
         "line": {
          "color": "#58AEC8"
         },
         "name": "BCALM2",
         "r": [
          12,
          11,
          11,
          12,
          12,
          1
         ],
         "showlegend": true,
         "subplot": "polar",
         "theta": [
          "Contigs",
          "Basepairs",
          "Largest contig",
          "N50",
          "% Mapped reads",
          "Uncalled bases"
         ],
         "type": "scatterpolar"
        },
        {
         "line": {
          "color": "#58AEC8"
         },
         "name": "BCALM2",
         "r": [
          11,
          1,
          11,
          12,
          1,
          1,
          1
         ],
         "showlegend": false,
         "subplot": "polar2",
         "theta": [
          "Contigs",
          "Basepairs",
          "N50",
          "% Mapped reads",
          "Uncalled bases",
          "Misassembled contigs",
          "Misassembly events"
         ],
         "type": "scatterpolar"
        },
        {
         "line": {
          "color": "#009392"
         },
         "name": "GATBMiniaPipeline",
         "r": [
          5,
          5,
          7,
          6,
          6,
          1
         ],
         "showlegend": true,
         "subplot": "polar",
         "theta": [
          "Contigs",
          "Basepairs",
          "Largest contig",
          "N50",
          "% Mapped reads",
          "Uncalled bases"
         ],
         "type": "scatterpolar"
        },
        {
         "line": {
          "color": "#009392"
         },
         "name": "GATBMiniaPipeline",
         "r": [
          6,
          8,
          6,
          5,
          1,
          6,
          5
         ],
         "showlegend": false,
         "subplot": "polar2",
         "theta": [
          "Contigs",
          "Basepairs",
          "N50",
          "% Mapped reads",
          "Uncalled bases",
          "Misassembled contigs",
          "Misassembly events"
         ],
         "type": "scatterpolar"
        },
        {
         "line": {
          "color": "#39B185"
         },
         "name": "IDBA-UD",
         "r": [
          7,
          4,
          9,
          8,
          5,
          1
         ],
         "showlegend": true,
         "subplot": "polar",
         "theta": [
          "Contigs",
          "Basepairs",
          "Largest contig",
          "N50",
          "% Mapped reads",
          "Uncalled bases"
         ],
         "type": "scatterpolar"
        },
        {
         "line": {
          "color": "#39B185"
         },
         "name": "IDBA-UD",
         "r": [
          7,
          6,
          8,
          8,
          1,
          12,
          12
         ],
         "showlegend": false,
         "subplot": "polar2",
         "theta": [
          "Contigs",
          "Basepairs",
          "N50",
          "% Mapped reads",
          "Uncalled bases",
          "Misassembled contigs",
          "Misassembly events"
         ],
         "type": "scatterpolar"
        },
        {
         "line": {
          "color": "#9CCB86"
         },
         "name": "MEGAHIT",
         "r": [
          2,
          9,
          6,
          4,
          2,
          1
         ],
         "showlegend": true,
         "subplot": "polar",
         "theta": [
          "Contigs",
          "Basepairs",
          "Largest contig",
          "N50",
          "% Mapped reads",
          "Uncalled bases"
         ],
         "type": "scatterpolar"
        },
        {
         "line": {
          "color": "#9CCB86"
         },
         "name": "MEGAHIT",
         "r": [
          4,
          11,
          4,
          1,
          1,
          10,
          10
         ],
         "showlegend": false,
         "subplot": "polar2",
         "theta": [
          "Contigs",
          "Basepairs",
          "N50",
          "% Mapped reads",
          "Uncalled bases",
          "Misassembled contigs",
          "Misassembly events"
         ],
         "type": "scatterpolar"
        },
        {
         "line": {
          "color": "#E9E29C"
         },
         "name": "MetaHipMer2",
         "r": [
          3,
          3,
          10,
          5,
          8,
          1
         ],
         "showlegend": true,
         "subplot": "polar",
         "theta": [
          "Contigs",
          "Basepairs",
          "Largest contig",
          "N50",
          "% Mapped reads",
          "Uncalled bases"
         ],
         "type": "scatterpolar"
        },
        {
         "line": {
          "color": "#E9E29C"
         },
         "name": "MetaHipMer2",
         "r": [
          5,
          7,
          5,
          6,
          1,
          1,
          1
         ],
         "showlegend": false,
         "subplot": "polar2",
         "theta": [
          "Contigs",
          "Basepairs",
          "N50",
          "% Mapped reads",
          "Uncalled bases",
          "Misassembled contigs",
          "Misassembly events"
         ],
         "type": "scatterpolar"
        },
        {
         "line": {
          "color": "#EEB479"
         },
         "name": "metaSPAdes",
         "r": [
          1,
          7,
          1,
          1,
          3,
          1
         ],
         "showlegend": true,
         "subplot": "polar",
         "theta": [
          "Contigs",
          "Basepairs",
          "Largest contig",
          "N50",
          "% Mapped reads",
          "Uncalled bases"
         ],
         "type": "scatterpolar"
        },
        {
         "line": {
          "color": "#EEB479"
         },
         "name": "metaSPAdes",
         "r": [
          1,
          10,
          1,
          3,
          1,
          5,
          5
         ],
         "showlegend": false,
         "subplot": "polar2",
         "theta": [
          "Contigs",
          "Basepairs",
          "N50",
          "% Mapped reads",
          "Uncalled bases",
          "Misassembled contigs",
          "Misassembly events"
         ],
         "type": "scatterpolar"
        },
        {
         "line": {
          "color": "#E88471"
         },
         "name": "MINIA",
         "r": [
          11,
          10,
          11,
          11,
          10,
          1
         ],
         "showlegend": true,
         "subplot": "polar",
         "theta": [
          "Contigs",
          "Basepairs",
          "Largest contig",
          "N50",
          "% Mapped reads",
          "Uncalled bases"
         ],
         "type": "scatterpolar"
        },
        {
         "line": {
          "color": "#E88471"
         },
         "name": "MINIA",
         "r": [
          12,
          2,
          12,
          11,
          1,
          1,
          1
         ],
         "showlegend": false,
         "subplot": "polar2",
         "theta": [
          "Contigs",
          "Basepairs",
          "N50",
          "% Mapped reads",
          "Uncalled bases",
          "Misassembled contigs",
          "Misassembly events"
         ],
         "type": "scatterpolar"
        },
        {
         "line": {
          "color": "#CF597E"
         },
         "name": "SKESA",
         "r": [
          8,
          1,
          8,
          9,
          9,
          1
         ],
         "showlegend": true,
         "subplot": "polar",
         "theta": [
          "Contigs",
          "Basepairs",
          "Largest contig",
          "N50",
          "% Mapped reads",
          "Uncalled bases"
         ],
         "type": "scatterpolar"
        },
        {
         "line": {
          "color": "#CF597E"
         },
         "name": "SKESA",
         "r": [
          8,
          4,
          9,
          9,
          1,
          11,
          11
         ],
         "showlegend": false,
         "subplot": "polar2",
         "theta": [
          "Contigs",
          "Basepairs",
          "N50",
          "% Mapped reads",
          "Uncalled bases",
          "Misassembled contigs",
          "Misassembly events"
         ],
         "type": "scatterpolar"
        },
        {
         "line": {
          "color": "#a54765"
         },
         "name": "SPAdes",
         "r": [
          6,
          6,
          3,
          2,
          4,
          1
         ],
         "showlegend": true,
         "subplot": "polar",
         "theta": [
          "Contigs",
          "Basepairs",
          "Largest contig",
          "N50",
          "% Mapped reads",
          "Uncalled bases"
         ],
         "type": "scatterpolar"
        },
        {
         "line": {
          "color": "#a54765"
         },
         "name": "SPAdes",
         "r": [
          3,
          9,
          3,
          4,
          1,
          6,
          5
         ],
         "showlegend": false,
         "subplot": "polar2",
         "theta": [
          "Contigs",
          "Basepairs",
          "N50",
          "% Mapped reads",
          "Uncalled bases",
          "Misassembled contigs",
          "Misassembly events"
         ],
         "type": "scatterpolar"
        },
        {
         "line": {
          "color": "#a42a2a"
         },
         "name": "Unicycler",
         "r": [
          4,
          2,
          5,
          3,
          7,
          1
         ],
         "showlegend": true,
         "subplot": "polar",
         "theta": [
          "Contigs",
          "Basepairs",
          "Largest contig",
          "N50",
          "% Mapped reads",
          "Uncalled bases"
         ],
         "type": "scatterpolar"
        },
        {
         "line": {
          "color": "#a42a2a"
         },
         "name": "Unicycler",
         "r": [
          2,
          5,
          2,
          7,
          1,
          1,
          1
         ],
         "showlegend": false,
         "subplot": "polar2",
         "theta": [
          "Contigs",
          "Basepairs",
          "N50",
          "% Mapped reads",
          "Uncalled bases",
          "Misassembled contigs",
          "Misassembly events"
         ],
         "type": "scatterpolar"
        },
        {
         "line": {
          "color": "#835221"
         },
         "name": "VelvetOptimiser",
         "r": [
          10,
          8,
          4,
          10,
          11,
          12
         ],
         "showlegend": true,
         "subplot": "polar",
         "theta": [
          "Contigs",
          "Basepairs",
          "Largest contig",
          "N50",
          "% Mapped reads",
          "Uncalled bases"
         ],
         "type": "scatterpolar"
        },
        {
         "line": {
          "color": "#835221"
         },
         "name": "VelvetOptimiser",
         "r": [
          10,
          3,
          10,
          10,
          12,
          9,
          8
         ],
         "showlegend": false,
         "subplot": "polar2",
         "theta": [
          "Contigs",
          "Basepairs",
          "N50",
          "% Mapped reads",
          "Uncalled bases",
          "Misassembled contigs",
          "Misassembly events"
         ],
         "type": "scatterpolar"
        }
       ],
       "layout": {
        "annotations": [
         {
          "font": {
           "size": 16
          },
          "showarrow": false,
          "text": "Original",
          "x": 0.225,
          "xanchor": "center",
          "xref": "paper",
          "y": 1,
          "yanchor": "bottom",
          "yref": "paper"
         },
         {
          "font": {
           "size": 16
          },
          "showarrow": false,
          "text": "Filtered",
          "x": 0.775,
          "xanchor": "center",
          "xref": "paper",
          "y": 1,
          "yanchor": "bottom",
          "yref": "paper"
         }
        ],
        "polar": {
         "angularaxis": {
          "categoryarray": [
           "Contigs",
           "Basepairs",
           "Largest contig",
           "N50",
           "% Mapped reads",
           "Uncalled bases"
          ],
          "linecolor": "black"
         },
         "bgcolor": "rgb(255,255,255)",
         "domain": {
          "x": [
           0,
           0.45
          ],
          "y": [
           0,
           1
          ]
         },
         "hole": 0.08333333333333333,
         "radialaxis": {
          "angle": -22.5,
          "autorange": "reversed",
          "gridcolor": "#DCDCDC",
          "linecolor": "black",
          "linewidth": 2,
          "range": [
           1,
           12
          ],
          "visible": true
         }
        },
        "polar2": {
         "angularaxis": {
          "categoryarray": [
           "Contigs",
           "Basepairs",
           "N50",
           "% Mapped reads",
           "Uncalled bases",
           "Misassembled contigs",
           "Misassembly events"
          ],
          "linecolor": "black"
         },
         "bgcolor": "rgb(255,255,255)",
         "domain": {
          "x": [
           0.55,
           1
          ],
          "y": [
           0,
           1
          ]
         },
         "hole": 0.08333333333333333,
         "radialaxis": {
          "angle": -22.5,
          "autorange": "reversed",
          "gridcolor": "#DCDCDC",
          "linecolor": "black",
          "linewidth": 2,
          "range": [
           1,
           12
          ],
          "visible": true
         }
        },
        "template": {
         "data": {
          "bar": [
           {
            "error_x": {
             "color": "#2a3f5f"
            },
            "error_y": {
             "color": "#2a3f5f"
            },
            "marker": {
             "line": {
              "color": "#E5ECF6",
              "width": 0.5
             },
             "pattern": {
              "fillmode": "overlay",
              "size": 10,
              "solidity": 0.2
             }
            },
            "type": "bar"
           }
          ],
          "barpolar": [
           {
            "marker": {
             "line": {
              "color": "#E5ECF6",
              "width": 0.5
             },
             "pattern": {
              "fillmode": "overlay",
              "size": 10,
              "solidity": 0.2
             }
            },
            "type": "barpolar"
           }
          ],
          "carpet": [
           {
            "aaxis": {
             "endlinecolor": "#2a3f5f",
             "gridcolor": "white",
             "linecolor": "white",
             "minorgridcolor": "white",
             "startlinecolor": "#2a3f5f"
            },
            "baxis": {
             "endlinecolor": "#2a3f5f",
             "gridcolor": "white",
             "linecolor": "white",
             "minorgridcolor": "white",
             "startlinecolor": "#2a3f5f"
            },
            "type": "carpet"
           }
          ],
          "choropleth": [
           {
            "colorbar": {
             "outlinewidth": 0,
             "ticks": ""
            },
            "type": "choropleth"
           }
          ],
          "contour": [
           {
            "colorbar": {
             "outlinewidth": 0,
             "ticks": ""
            },
            "colorscale": [
             [
              0,
              "#0d0887"
             ],
             [
              0.1111111111111111,
              "#46039f"
             ],
             [
              0.2222222222222222,
              "#7201a8"
             ],
             [
              0.3333333333333333,
              "#9c179e"
             ],
             [
              0.4444444444444444,
              "#bd3786"
             ],
             [
              0.5555555555555556,
              "#d8576b"
             ],
             [
              0.6666666666666666,
              "#ed7953"
             ],
             [
              0.7777777777777778,
              "#fb9f3a"
             ],
             [
              0.8888888888888888,
              "#fdca26"
             ],
             [
              1,
              "#f0f921"
             ]
            ],
            "type": "contour"
           }
          ],
          "contourcarpet": [
           {
            "colorbar": {
             "outlinewidth": 0,
             "ticks": ""
            },
            "type": "contourcarpet"
           }
          ],
          "heatmap": [
           {
            "colorbar": {
             "outlinewidth": 0,
             "ticks": ""
            },
            "colorscale": [
             [
              0,
              "#0d0887"
             ],
             [
              0.1111111111111111,
              "#46039f"
             ],
             [
              0.2222222222222222,
              "#7201a8"
             ],
             [
              0.3333333333333333,
              "#9c179e"
             ],
             [
              0.4444444444444444,
              "#bd3786"
             ],
             [
              0.5555555555555556,
              "#d8576b"
             ],
             [
              0.6666666666666666,
              "#ed7953"
             ],
             [
              0.7777777777777778,
              "#fb9f3a"
             ],
             [
              0.8888888888888888,
              "#fdca26"
             ],
             [
              1,
              "#f0f921"
             ]
            ],
            "type": "heatmap"
           }
          ],
          "heatmapgl": [
           {
            "colorbar": {
             "outlinewidth": 0,
             "ticks": ""
            },
            "colorscale": [
             [
              0,
              "#0d0887"
             ],
             [
              0.1111111111111111,
              "#46039f"
             ],
             [
              0.2222222222222222,
              "#7201a8"
             ],
             [
              0.3333333333333333,
              "#9c179e"
             ],
             [
              0.4444444444444444,
              "#bd3786"
             ],
             [
              0.5555555555555556,
              "#d8576b"
             ],
             [
              0.6666666666666666,
              "#ed7953"
             ],
             [
              0.7777777777777778,
              "#fb9f3a"
             ],
             [
              0.8888888888888888,
              "#fdca26"
             ],
             [
              1,
              "#f0f921"
             ]
            ],
            "type": "heatmapgl"
           }
          ],
          "histogram": [
           {
            "marker": {
             "pattern": {
              "fillmode": "overlay",
              "size": 10,
              "solidity": 0.2
             }
            },
            "type": "histogram"
           }
          ],
          "histogram2d": [
           {
            "colorbar": {
             "outlinewidth": 0,
             "ticks": ""
            },
            "colorscale": [
             [
              0,
              "#0d0887"
             ],
             [
              0.1111111111111111,
              "#46039f"
             ],
             [
              0.2222222222222222,
              "#7201a8"
             ],
             [
              0.3333333333333333,
              "#9c179e"
             ],
             [
              0.4444444444444444,
              "#bd3786"
             ],
             [
              0.5555555555555556,
              "#d8576b"
             ],
             [
              0.6666666666666666,
              "#ed7953"
             ],
             [
              0.7777777777777778,
              "#fb9f3a"
             ],
             [
              0.8888888888888888,
              "#fdca26"
             ],
             [
              1,
              "#f0f921"
             ]
            ],
            "type": "histogram2d"
           }
          ],
          "histogram2dcontour": [
           {
            "colorbar": {
             "outlinewidth": 0,
             "ticks": ""
            },
            "colorscale": [
             [
              0,
              "#0d0887"
             ],
             [
              0.1111111111111111,
              "#46039f"
             ],
             [
              0.2222222222222222,
              "#7201a8"
             ],
             [
              0.3333333333333333,
              "#9c179e"
             ],
             [
              0.4444444444444444,
              "#bd3786"
             ],
             [
              0.5555555555555556,
              "#d8576b"
             ],
             [
              0.6666666666666666,
              "#ed7953"
             ],
             [
              0.7777777777777778,
              "#fb9f3a"
             ],
             [
              0.8888888888888888,
              "#fdca26"
             ],
             [
              1,
              "#f0f921"
             ]
            ],
            "type": "histogram2dcontour"
           }
          ],
          "mesh3d": [
           {
            "colorbar": {
             "outlinewidth": 0,
             "ticks": ""
            },
            "type": "mesh3d"
           }
          ],
          "parcoords": [
           {
            "line": {
             "colorbar": {
              "outlinewidth": 0,
              "ticks": ""
             }
            },
            "type": "parcoords"
           }
          ],
          "pie": [
           {
            "automargin": true,
            "type": "pie"
           }
          ],
          "scatter": [
           {
            "marker": {
             "colorbar": {
              "outlinewidth": 0,
              "ticks": ""
             }
            },
            "type": "scatter"
           }
          ],
          "scatter3d": [
           {
            "line": {
             "colorbar": {
              "outlinewidth": 0,
              "ticks": ""
             }
            },
            "marker": {
             "colorbar": {
              "outlinewidth": 0,
              "ticks": ""
             }
            },
            "type": "scatter3d"
           }
          ],
          "scattercarpet": [
           {
            "marker": {
             "colorbar": {
              "outlinewidth": 0,
              "ticks": ""
             }
            },
            "type": "scattercarpet"
           }
          ],
          "scattergeo": [
           {
            "marker": {
             "colorbar": {
              "outlinewidth": 0,
              "ticks": ""
             }
            },
            "type": "scattergeo"
           }
          ],
          "scattergl": [
           {
            "marker": {
             "colorbar": {
              "outlinewidth": 0,
              "ticks": ""
             }
            },
            "type": "scattergl"
           }
          ],
          "scattermapbox": [
           {
            "marker": {
             "colorbar": {
              "outlinewidth": 0,
              "ticks": ""
             }
            },
            "type": "scattermapbox"
           }
          ],
          "scatterpolar": [
           {
            "marker": {
             "colorbar": {
              "outlinewidth": 0,
              "ticks": ""
             }
            },
            "type": "scatterpolar"
           }
          ],
          "scatterpolargl": [
           {
            "marker": {
             "colorbar": {
              "outlinewidth": 0,
              "ticks": ""
             }
            },
            "type": "scatterpolargl"
           }
          ],
          "scatterternary": [
           {
            "marker": {
             "colorbar": {
              "outlinewidth": 0,
              "ticks": ""
             }
            },
            "type": "scatterternary"
           }
          ],
          "surface": [
           {
            "colorbar": {
             "outlinewidth": 0,
             "ticks": ""
            },
            "colorscale": [
             [
              0,
              "#0d0887"
             ],
             [
              0.1111111111111111,
              "#46039f"
             ],
             [
              0.2222222222222222,
              "#7201a8"
             ],
             [
              0.3333333333333333,
              "#9c179e"
             ],
             [
              0.4444444444444444,
              "#bd3786"
             ],
             [
              0.5555555555555556,
              "#d8576b"
             ],
             [
              0.6666666666666666,
              "#ed7953"
             ],
             [
              0.7777777777777778,
              "#fb9f3a"
             ],
             [
              0.8888888888888888,
              "#fdca26"
             ],
             [
              1,
              "#f0f921"
             ]
            ],
            "type": "surface"
           }
          ],
          "table": [
           {
            "cells": {
             "fill": {
              "color": "#EBF0F8"
             },
             "line": {
              "color": "white"
             }
            },
            "header": {
             "fill": {
              "color": "#C8D4E3"
             },
             "line": {
              "color": "white"
             }
            },
            "type": "table"
           }
          ]
         },
         "layout": {
          "annotationdefaults": {
           "arrowcolor": "#2a3f5f",
           "arrowhead": 0,
           "arrowwidth": 1
          },
          "autotypenumbers": "strict",
          "coloraxis": {
           "colorbar": {
            "outlinewidth": 0,
            "ticks": ""
           }
          },
          "colorscale": {
           "diverging": [
            [
             0,
             "#8e0152"
            ],
            [
             0.1,
             "#c51b7d"
            ],
            [
             0.2,
             "#de77ae"
            ],
            [
             0.3,
             "#f1b6da"
            ],
            [
             0.4,
             "#fde0ef"
            ],
            [
             0.5,
             "#f7f7f7"
            ],
            [
             0.6,
             "#e6f5d0"
            ],
            [
             0.7,
             "#b8e186"
            ],
            [
             0.8,
             "#7fbc41"
            ],
            [
             0.9,
             "#4d9221"
            ],
            [
             1,
             "#276419"
            ]
           ],
           "sequential": [
            [
             0,
             "#0d0887"
            ],
            [
             0.1111111111111111,
             "#46039f"
            ],
            [
             0.2222222222222222,
             "#7201a8"
            ],
            [
             0.3333333333333333,
             "#9c179e"
            ],
            [
             0.4444444444444444,
             "#bd3786"
            ],
            [
             0.5555555555555556,
             "#d8576b"
            ],
            [
             0.6666666666666666,
             "#ed7953"
            ],
            [
             0.7777777777777778,
             "#fb9f3a"
            ],
            [
             0.8888888888888888,
             "#fdca26"
            ],
            [
             1,
             "#f0f921"
            ]
           ],
           "sequentialminus": [
            [
             0,
             "#0d0887"
            ],
            [
             0.1111111111111111,
             "#46039f"
            ],
            [
             0.2222222222222222,
             "#7201a8"
            ],
            [
             0.3333333333333333,
             "#9c179e"
            ],
            [
             0.4444444444444444,
             "#bd3786"
            ],
            [
             0.5555555555555556,
             "#d8576b"
            ],
            [
             0.6666666666666666,
             "#ed7953"
            ],
            [
             0.7777777777777778,
             "#fb9f3a"
            ],
            [
             0.8888888888888888,
             "#fdca26"
            ],
            [
             1,
             "#f0f921"
            ]
           ]
          },
          "colorway": [
           "#636efa",
           "#EF553B",
           "#00cc96",
           "#ab63fa",
           "#FFA15A",
           "#19d3f3",
           "#FF6692",
           "#B6E880",
           "#FF97FF",
           "#FECB52"
          ],
          "font": {
           "color": "#2a3f5f"
          },
          "geo": {
           "bgcolor": "white",
           "lakecolor": "white",
           "landcolor": "#E5ECF6",
           "showlakes": true,
           "showland": true,
           "subunitcolor": "white"
          },
          "hoverlabel": {
           "align": "left"
          },
          "hovermode": "closest",
          "mapbox": {
           "style": "light"
          },
          "paper_bgcolor": "white",
          "plot_bgcolor": "#E5ECF6",
          "polar": {
           "angularaxis": {
            "gridcolor": "white",
            "linecolor": "white",
            "ticks": ""
           },
           "bgcolor": "#E5ECF6",
           "radialaxis": {
            "gridcolor": "white",
            "linecolor": "white",
            "ticks": ""
           }
          },
          "scene": {
           "xaxis": {
            "backgroundcolor": "#E5ECF6",
            "gridcolor": "white",
            "gridwidth": 2,
            "linecolor": "white",
            "showbackground": true,
            "ticks": "",
            "zerolinecolor": "white"
           },
           "yaxis": {
            "backgroundcolor": "#E5ECF6",
            "gridcolor": "white",
            "gridwidth": 2,
            "linecolor": "white",
            "showbackground": true,
            "ticks": "",
            "zerolinecolor": "white"
           },
           "zaxis": {
            "backgroundcolor": "#E5ECF6",
            "gridcolor": "white",
            "gridwidth": 2,
            "linecolor": "white",
            "showbackground": true,
            "ticks": "",
            "zerolinecolor": "white"
           }
          },
          "shapedefaults": {
           "line": {
            "color": "#2a3f5f"
           }
          },
          "ternary": {
           "aaxis": {
            "gridcolor": "white",
            "linecolor": "white",
            "ticks": ""
           },
           "baxis": {
            "gridcolor": "white",
            "linecolor": "white",
            "ticks": ""
           },
           "bgcolor": "#E5ECF6",
           "caxis": {
            "gridcolor": "white",
            "linecolor": "white",
            "ticks": ""
           }
          },
          "title": {
           "x": 0.05
          },
          "xaxis": {
           "automargin": true,
           "gridcolor": "white",
           "linecolor": "white",
           "ticks": "",
           "title": {
            "standoff": 15
           },
           "zerolinecolor": "white",
           "zerolinewidth": 2
          },
          "yaxis": {
           "automargin": true,
           "gridcolor": "white",
           "linecolor": "white",
           "ticks": "",
           "title": {
            "standoff": 15
           },
           "zerolinecolor": "white",
           "zerolinewidth": 2
          }
         }
        },
        "title": {
         "text": "ENN"
        }
       }
      },
      "text/html": [
       "<div>                            <div id=\"af5e93c8-4260-4129-b42d-2ba7c43d6074\" class=\"plotly-graph-div\" style=\"height:525px; width:100%;\"></div>            <script type=\"text/javascript\">                require([\"plotly\"], function(Plotly) {                    window.PLOTLYENV=window.PLOTLYENV || {};                                    if (document.getElementById(\"af5e93c8-4260-4129-b42d-2ba7c43d6074\")) {                    Plotly.newPlot(                        \"af5e93c8-4260-4129-b42d-2ba7c43d6074\",                        [{\"line\":{\"color\":\"#5876c8\"},\"name\":\"ABySS\",\"r\":[9,12,2,7,1,11],\"showlegend\":true,\"subplot\":\"polar\",\"theta\":[\"Contigs\",\"Basepairs\",\"Largest contig\",\"N50\",\"% Mapped reads\",\"Uncalled bases\"],\"type\":\"scatterpolar\"},{\"line\":{\"color\":\"#5876c8\"},\"name\":\"ABySS\",\"r\":[9,12,7,2,11,8,9],\"showlegend\":false,\"subplot\":\"polar2\",\"theta\":[\"Contigs\",\"Basepairs\",\"N50\",\"% Mapped reads\",\"Uncalled bases\",\"Misassembled contigs\",\"Misassembly events\"],\"type\":\"scatterpolar\"},{\"line\":{\"color\":\"#58AEC8\"},\"name\":\"BCALM2\",\"r\":[12,11,11,12,12,1],\"showlegend\":true,\"subplot\":\"polar\",\"theta\":[\"Contigs\",\"Basepairs\",\"Largest contig\",\"N50\",\"% Mapped reads\",\"Uncalled bases\"],\"type\":\"scatterpolar\"},{\"line\":{\"color\":\"#58AEC8\"},\"name\":\"BCALM2\",\"r\":[11,1,11,12,1,1,1],\"showlegend\":false,\"subplot\":\"polar2\",\"theta\":[\"Contigs\",\"Basepairs\",\"N50\",\"% Mapped reads\",\"Uncalled bases\",\"Misassembled contigs\",\"Misassembly events\"],\"type\":\"scatterpolar\"},{\"line\":{\"color\":\"#009392\"},\"name\":\"GATBMiniaPipeline\",\"r\":[5,5,7,6,6,1],\"showlegend\":true,\"subplot\":\"polar\",\"theta\":[\"Contigs\",\"Basepairs\",\"Largest contig\",\"N50\",\"% Mapped reads\",\"Uncalled bases\"],\"type\":\"scatterpolar\"},{\"line\":{\"color\":\"#009392\"},\"name\":\"GATBMiniaPipeline\",\"r\":[6,8,6,5,1,6,5],\"showlegend\":false,\"subplot\":\"polar2\",\"theta\":[\"Contigs\",\"Basepairs\",\"N50\",\"% Mapped reads\",\"Uncalled bases\",\"Misassembled contigs\",\"Misassembly events\"],\"type\":\"scatterpolar\"},{\"line\":{\"color\":\"#39B185\"},\"name\":\"IDBA-UD\",\"r\":[7,4,9,8,5,1],\"showlegend\":true,\"subplot\":\"polar\",\"theta\":[\"Contigs\",\"Basepairs\",\"Largest contig\",\"N50\",\"% Mapped reads\",\"Uncalled bases\"],\"type\":\"scatterpolar\"},{\"line\":{\"color\":\"#39B185\"},\"name\":\"IDBA-UD\",\"r\":[7,6,8,8,1,12,12],\"showlegend\":false,\"subplot\":\"polar2\",\"theta\":[\"Contigs\",\"Basepairs\",\"N50\",\"% Mapped reads\",\"Uncalled bases\",\"Misassembled contigs\",\"Misassembly events\"],\"type\":\"scatterpolar\"},{\"line\":{\"color\":\"#9CCB86\"},\"name\":\"MEGAHIT\",\"r\":[2,9,6,4,2,1],\"showlegend\":true,\"subplot\":\"polar\",\"theta\":[\"Contigs\",\"Basepairs\",\"Largest contig\",\"N50\",\"% Mapped reads\",\"Uncalled bases\"],\"type\":\"scatterpolar\"},{\"line\":{\"color\":\"#9CCB86\"},\"name\":\"MEGAHIT\",\"r\":[4,11,4,1,1,10,10],\"showlegend\":false,\"subplot\":\"polar2\",\"theta\":[\"Contigs\",\"Basepairs\",\"N50\",\"% Mapped reads\",\"Uncalled bases\",\"Misassembled contigs\",\"Misassembly events\"],\"type\":\"scatterpolar\"},{\"line\":{\"color\":\"#E9E29C\"},\"name\":\"MetaHipMer2\",\"r\":[3,3,10,5,8,1],\"showlegend\":true,\"subplot\":\"polar\",\"theta\":[\"Contigs\",\"Basepairs\",\"Largest contig\",\"N50\",\"% Mapped reads\",\"Uncalled bases\"],\"type\":\"scatterpolar\"},{\"line\":{\"color\":\"#E9E29C\"},\"name\":\"MetaHipMer2\",\"r\":[5,7,5,6,1,1,1],\"showlegend\":false,\"subplot\":\"polar2\",\"theta\":[\"Contigs\",\"Basepairs\",\"N50\",\"% Mapped reads\",\"Uncalled bases\",\"Misassembled contigs\",\"Misassembly events\"],\"type\":\"scatterpolar\"},{\"line\":{\"color\":\"#EEB479\"},\"name\":\"metaSPAdes\",\"r\":[1,7,1,1,3,1],\"showlegend\":true,\"subplot\":\"polar\",\"theta\":[\"Contigs\",\"Basepairs\",\"Largest contig\",\"N50\",\"% Mapped reads\",\"Uncalled bases\"],\"type\":\"scatterpolar\"},{\"line\":{\"color\":\"#EEB479\"},\"name\":\"metaSPAdes\",\"r\":[1,10,1,3,1,5,5],\"showlegend\":false,\"subplot\":\"polar2\",\"theta\":[\"Contigs\",\"Basepairs\",\"N50\",\"% Mapped reads\",\"Uncalled bases\",\"Misassembled contigs\",\"Misassembly events\"],\"type\":\"scatterpolar\"},{\"line\":{\"color\":\"#E88471\"},\"name\":\"MINIA\",\"r\":[11,10,11,11,10,1],\"showlegend\":true,\"subplot\":\"polar\",\"theta\":[\"Contigs\",\"Basepairs\",\"Largest contig\",\"N50\",\"% Mapped reads\",\"Uncalled bases\"],\"type\":\"scatterpolar\"},{\"line\":{\"color\":\"#E88471\"},\"name\":\"MINIA\",\"r\":[12,2,12,11,1,1,1],\"showlegend\":false,\"subplot\":\"polar2\",\"theta\":[\"Contigs\",\"Basepairs\",\"N50\",\"% Mapped reads\",\"Uncalled bases\",\"Misassembled contigs\",\"Misassembly events\"],\"type\":\"scatterpolar\"},{\"line\":{\"color\":\"#CF597E\"},\"name\":\"SKESA\",\"r\":[8,1,8,9,9,1],\"showlegend\":true,\"subplot\":\"polar\",\"theta\":[\"Contigs\",\"Basepairs\",\"Largest contig\",\"N50\",\"% Mapped reads\",\"Uncalled bases\"],\"type\":\"scatterpolar\"},{\"line\":{\"color\":\"#CF597E\"},\"name\":\"SKESA\",\"r\":[8,4,9,9,1,11,11],\"showlegend\":false,\"subplot\":\"polar2\",\"theta\":[\"Contigs\",\"Basepairs\",\"N50\",\"% Mapped reads\",\"Uncalled bases\",\"Misassembled contigs\",\"Misassembly events\"],\"type\":\"scatterpolar\"},{\"line\":{\"color\":\"#a54765\"},\"name\":\"SPAdes\",\"r\":[6,6,3,2,4,1],\"showlegend\":true,\"subplot\":\"polar\",\"theta\":[\"Contigs\",\"Basepairs\",\"Largest contig\",\"N50\",\"% Mapped reads\",\"Uncalled bases\"],\"type\":\"scatterpolar\"},{\"line\":{\"color\":\"#a54765\"},\"name\":\"SPAdes\",\"r\":[3,9,3,4,1,6,5],\"showlegend\":false,\"subplot\":\"polar2\",\"theta\":[\"Contigs\",\"Basepairs\",\"N50\",\"% Mapped reads\",\"Uncalled bases\",\"Misassembled contigs\",\"Misassembly events\"],\"type\":\"scatterpolar\"},{\"line\":{\"color\":\"#a42a2a\"},\"name\":\"Unicycler\",\"r\":[4,2,5,3,7,1],\"showlegend\":true,\"subplot\":\"polar\",\"theta\":[\"Contigs\",\"Basepairs\",\"Largest contig\",\"N50\",\"% Mapped reads\",\"Uncalled bases\"],\"type\":\"scatterpolar\"},{\"line\":{\"color\":\"#a42a2a\"},\"name\":\"Unicycler\",\"r\":[2,5,2,7,1,1,1],\"showlegend\":false,\"subplot\":\"polar2\",\"theta\":[\"Contigs\",\"Basepairs\",\"N50\",\"% Mapped reads\",\"Uncalled bases\",\"Misassembled contigs\",\"Misassembly events\"],\"type\":\"scatterpolar\"},{\"line\":{\"color\":\"#835221\"},\"name\":\"VelvetOptimiser\",\"r\":[10,8,4,10,11,12],\"showlegend\":true,\"subplot\":\"polar\",\"theta\":[\"Contigs\",\"Basepairs\",\"Largest contig\",\"N50\",\"% Mapped reads\",\"Uncalled bases\"],\"type\":\"scatterpolar\"},{\"line\":{\"color\":\"#835221\"},\"name\":\"VelvetOptimiser\",\"r\":[10,3,10,10,12,9,8],\"showlegend\":false,\"subplot\":\"polar2\",\"theta\":[\"Contigs\",\"Basepairs\",\"N50\",\"% Mapped reads\",\"Uncalled bases\",\"Misassembled contigs\",\"Misassembly events\"],\"type\":\"scatterpolar\"}],                        {\"annotations\":[{\"font\":{\"size\":16},\"showarrow\":false,\"text\":\"Original\",\"x\":0.225,\"xanchor\":\"center\",\"xref\":\"paper\",\"y\":1.0,\"yanchor\":\"bottom\",\"yref\":\"paper\"},{\"font\":{\"size\":16},\"showarrow\":false,\"text\":\"Filtered\",\"x\":0.775,\"xanchor\":\"center\",\"xref\":\"paper\",\"y\":1.0,\"yanchor\":\"bottom\",\"yref\":\"paper\"}],\"polar\":{\"angularaxis\":{\"categoryarray\":[\"Contigs\",\"Basepairs\",\"Largest contig\",\"N50\",\"% Mapped reads\",\"Uncalled bases\"],\"linecolor\":\"black\"},\"bgcolor\":\"rgb(255,255,255)\",\"domain\":{\"x\":[0.0,0.45],\"y\":[0.0,1.0]},\"hole\":0.08333333333333333,\"radialaxis\":{\"angle\":-22.5,\"autorange\":\"reversed\",\"gridcolor\":\"#DCDCDC\",\"linecolor\":\"black\",\"linewidth\":2,\"range\":[1,12],\"visible\":true}},\"polar2\":{\"angularaxis\":{\"categoryarray\":[\"Contigs\",\"Basepairs\",\"N50\",\"% Mapped reads\",\"Uncalled bases\",\"Misassembled contigs\",\"Misassembly events\"],\"linecolor\":\"black\"},\"bgcolor\":\"rgb(255,255,255)\",\"domain\":{\"x\":[0.55,1.0],\"y\":[0.0,1.0]},\"hole\":0.08333333333333333,\"radialaxis\":{\"angle\":-22.5,\"autorange\":\"reversed\",\"gridcolor\":\"#DCDCDC\",\"linecolor\":\"black\",\"linewidth\":2,\"range\":[1,12],\"visible\":true}},\"template\":{\"data\":{\"bar\":[{\"error_x\":{\"color\":\"#2a3f5f\"},\"error_y\":{\"color\":\"#2a3f5f\"},\"marker\":{\"line\":{\"color\":\"#E5ECF6\",\"width\":0.5},\"pattern\":{\"fillmode\":\"overlay\",\"size\":10,\"solidity\":0.2}},\"type\":\"bar\"}],\"barpolar\":[{\"marker\":{\"line\":{\"color\":\"#E5ECF6\",\"width\":0.5},\"pattern\":{\"fillmode\":\"overlay\",\"size\":10,\"solidity\":0.2}},\"type\":\"barpolar\"}],\"carpet\":[{\"aaxis\":{\"endlinecolor\":\"#2a3f5f\",\"gridcolor\":\"white\",\"linecolor\":\"white\",\"minorgridcolor\":\"white\",\"startlinecolor\":\"#2a3f5f\"},\"baxis\":{\"endlinecolor\":\"#2a3f5f\",\"gridcolor\":\"white\",\"linecolor\":\"white\",\"minorgridcolor\":\"white\",\"startlinecolor\":\"#2a3f5f\"},\"type\":\"carpet\"}],\"choropleth\":[{\"colorbar\":{\"outlinewidth\":0,\"ticks\":\"\"},\"type\":\"choropleth\"}],\"contour\":[{\"colorbar\":{\"outlinewidth\":0,\"ticks\":\"\"},\"colorscale\":[[0.0,\"#0d0887\"],[0.1111111111111111,\"#46039f\"],[0.2222222222222222,\"#7201a8\"],[0.3333333333333333,\"#9c179e\"],[0.4444444444444444,\"#bd3786\"],[0.5555555555555556,\"#d8576b\"],[0.6666666666666666,\"#ed7953\"],[0.7777777777777778,\"#fb9f3a\"],[0.8888888888888888,\"#fdca26\"],[1.0,\"#f0f921\"]],\"type\":\"contour\"}],\"contourcarpet\":[{\"colorbar\":{\"outlinewidth\":0,\"ticks\":\"\"},\"type\":\"contourcarpet\"}],\"heatmap\":[{\"colorbar\":{\"outlinewidth\":0,\"ticks\":\"\"},\"colorscale\":[[0.0,\"#0d0887\"],[0.1111111111111111,\"#46039f\"],[0.2222222222222222,\"#7201a8\"],[0.3333333333333333,\"#9c179e\"],[0.4444444444444444,\"#bd3786\"],[0.5555555555555556,\"#d8576b\"],[0.6666666666666666,\"#ed7953\"],[0.7777777777777778,\"#fb9f3a\"],[0.8888888888888888,\"#fdca26\"],[1.0,\"#f0f921\"]],\"type\":\"heatmap\"}],\"heatmapgl\":[{\"colorbar\":{\"outlinewidth\":0,\"ticks\":\"\"},\"colorscale\":[[0.0,\"#0d0887\"],[0.1111111111111111,\"#46039f\"],[0.2222222222222222,\"#7201a8\"],[0.3333333333333333,\"#9c179e\"],[0.4444444444444444,\"#bd3786\"],[0.5555555555555556,\"#d8576b\"],[0.6666666666666666,\"#ed7953\"],[0.7777777777777778,\"#fb9f3a\"],[0.8888888888888888,\"#fdca26\"],[1.0,\"#f0f921\"]],\"type\":\"heatmapgl\"}],\"histogram\":[{\"marker\":{\"pattern\":{\"fillmode\":\"overlay\",\"size\":10,\"solidity\":0.2}},\"type\":\"histogram\"}],\"histogram2d\":[{\"colorbar\":{\"outlinewidth\":0,\"ticks\":\"\"},\"colorscale\":[[0.0,\"#0d0887\"],[0.1111111111111111,\"#46039f\"],[0.2222222222222222,\"#7201a8\"],[0.3333333333333333,\"#9c179e\"],[0.4444444444444444,\"#bd3786\"],[0.5555555555555556,\"#d8576b\"],[0.6666666666666666,\"#ed7953\"],[0.7777777777777778,\"#fb9f3a\"],[0.8888888888888888,\"#fdca26\"],[1.0,\"#f0f921\"]],\"type\":\"histogram2d\"}],\"histogram2dcontour\":[{\"colorbar\":{\"outlinewidth\":0,\"ticks\":\"\"},\"colorscale\":[[0.0,\"#0d0887\"],[0.1111111111111111,\"#46039f\"],[0.2222222222222222,\"#7201a8\"],[0.3333333333333333,\"#9c179e\"],[0.4444444444444444,\"#bd3786\"],[0.5555555555555556,\"#d8576b\"],[0.6666666666666666,\"#ed7953\"],[0.7777777777777778,\"#fb9f3a\"],[0.8888888888888888,\"#fdca26\"],[1.0,\"#f0f921\"]],\"type\":\"histogram2dcontour\"}],\"mesh3d\":[{\"colorbar\":{\"outlinewidth\":0,\"ticks\":\"\"},\"type\":\"mesh3d\"}],\"parcoords\":[{\"line\":{\"colorbar\":{\"outlinewidth\":0,\"ticks\":\"\"}},\"type\":\"parcoords\"}],\"pie\":[{\"automargin\":true,\"type\":\"pie\"}],\"scatter\":[{\"marker\":{\"colorbar\":{\"outlinewidth\":0,\"ticks\":\"\"}},\"type\":\"scatter\"}],\"scatter3d\":[{\"line\":{\"colorbar\":{\"outlinewidth\":0,\"ticks\":\"\"}},\"marker\":{\"colorbar\":{\"outlinewidth\":0,\"ticks\":\"\"}},\"type\":\"scatter3d\"}],\"scattercarpet\":[{\"marker\":{\"colorbar\":{\"outlinewidth\":0,\"ticks\":\"\"}},\"type\":\"scattercarpet\"}],\"scattergeo\":[{\"marker\":{\"colorbar\":{\"outlinewidth\":0,\"ticks\":\"\"}},\"type\":\"scattergeo\"}],\"scattergl\":[{\"marker\":{\"colorbar\":{\"outlinewidth\":0,\"ticks\":\"\"}},\"type\":\"scattergl\"}],\"scattermapbox\":[{\"marker\":{\"colorbar\":{\"outlinewidth\":0,\"ticks\":\"\"}},\"type\":\"scattermapbox\"}],\"scatterpolar\":[{\"marker\":{\"colorbar\":{\"outlinewidth\":0,\"ticks\":\"\"}},\"type\":\"scatterpolar\"}],\"scatterpolargl\":[{\"marker\":{\"colorbar\":{\"outlinewidth\":0,\"ticks\":\"\"}},\"type\":\"scatterpolargl\"}],\"scatterternary\":[{\"marker\":{\"colorbar\":{\"outlinewidth\":0,\"ticks\":\"\"}},\"type\":\"scatterternary\"}],\"surface\":[{\"colorbar\":{\"outlinewidth\":0,\"ticks\":\"\"},\"colorscale\":[[0.0,\"#0d0887\"],[0.1111111111111111,\"#46039f\"],[0.2222222222222222,\"#7201a8\"],[0.3333333333333333,\"#9c179e\"],[0.4444444444444444,\"#bd3786\"],[0.5555555555555556,\"#d8576b\"],[0.6666666666666666,\"#ed7953\"],[0.7777777777777778,\"#fb9f3a\"],[0.8888888888888888,\"#fdca26\"],[1.0,\"#f0f921\"]],\"type\":\"surface\"}],\"table\":[{\"cells\":{\"fill\":{\"color\":\"#EBF0F8\"},\"line\":{\"color\":\"white\"}},\"header\":{\"fill\":{\"color\":\"#C8D4E3\"},\"line\":{\"color\":\"white\"}},\"type\":\"table\"}]},\"layout\":{\"annotationdefaults\":{\"arrowcolor\":\"#2a3f5f\",\"arrowhead\":0,\"arrowwidth\":1},\"autotypenumbers\":\"strict\",\"coloraxis\":{\"colorbar\":{\"outlinewidth\":0,\"ticks\":\"\"}},\"colorscale\":{\"diverging\":[[0,\"#8e0152\"],[0.1,\"#c51b7d\"],[0.2,\"#de77ae\"],[0.3,\"#f1b6da\"],[0.4,\"#fde0ef\"],[0.5,\"#f7f7f7\"],[0.6,\"#e6f5d0\"],[0.7,\"#b8e186\"],[0.8,\"#7fbc41\"],[0.9,\"#4d9221\"],[1,\"#276419\"]],\"sequential\":[[0.0,\"#0d0887\"],[0.1111111111111111,\"#46039f\"],[0.2222222222222222,\"#7201a8\"],[0.3333333333333333,\"#9c179e\"],[0.4444444444444444,\"#bd3786\"],[0.5555555555555556,\"#d8576b\"],[0.6666666666666666,\"#ed7953\"],[0.7777777777777778,\"#fb9f3a\"],[0.8888888888888888,\"#fdca26\"],[1.0,\"#f0f921\"]],\"sequentialminus\":[[0.0,\"#0d0887\"],[0.1111111111111111,\"#46039f\"],[0.2222222222222222,\"#7201a8\"],[0.3333333333333333,\"#9c179e\"],[0.4444444444444444,\"#bd3786\"],[0.5555555555555556,\"#d8576b\"],[0.6666666666666666,\"#ed7953\"],[0.7777777777777778,\"#fb9f3a\"],[0.8888888888888888,\"#fdca26\"],[1.0,\"#f0f921\"]]},\"colorway\":[\"#636efa\",\"#EF553B\",\"#00cc96\",\"#ab63fa\",\"#FFA15A\",\"#19d3f3\",\"#FF6692\",\"#B6E880\",\"#FF97FF\",\"#FECB52\"],\"font\":{\"color\":\"#2a3f5f\"},\"geo\":{\"bgcolor\":\"white\",\"lakecolor\":\"white\",\"landcolor\":\"#E5ECF6\",\"showlakes\":true,\"showland\":true,\"subunitcolor\":\"white\"},\"hoverlabel\":{\"align\":\"left\"},\"hovermode\":\"closest\",\"mapbox\":{\"style\":\"light\"},\"paper_bgcolor\":\"white\",\"plot_bgcolor\":\"#E5ECF6\",\"polar\":{\"angularaxis\":{\"gridcolor\":\"white\",\"linecolor\":\"white\",\"ticks\":\"\"},\"bgcolor\":\"#E5ECF6\",\"radialaxis\":{\"gridcolor\":\"white\",\"linecolor\":\"white\",\"ticks\":\"\"}},\"scene\":{\"xaxis\":{\"backgroundcolor\":\"#E5ECF6\",\"gridcolor\":\"white\",\"gridwidth\":2,\"linecolor\":\"white\",\"showbackground\":true,\"ticks\":\"\",\"zerolinecolor\":\"white\"},\"yaxis\":{\"backgroundcolor\":\"#E5ECF6\",\"gridcolor\":\"white\",\"gridwidth\":2,\"linecolor\":\"white\",\"showbackground\":true,\"ticks\":\"\",\"zerolinecolor\":\"white\"},\"zaxis\":{\"backgroundcolor\":\"#E5ECF6\",\"gridcolor\":\"white\",\"gridwidth\":2,\"linecolor\":\"white\",\"showbackground\":true,\"ticks\":\"\",\"zerolinecolor\":\"white\"}},\"shapedefaults\":{\"line\":{\"color\":\"#2a3f5f\"}},\"ternary\":{\"aaxis\":{\"gridcolor\":\"white\",\"linecolor\":\"white\",\"ticks\":\"\"},\"baxis\":{\"gridcolor\":\"white\",\"linecolor\":\"white\",\"ticks\":\"\"},\"bgcolor\":\"#E5ECF6\",\"caxis\":{\"gridcolor\":\"white\",\"linecolor\":\"white\",\"ticks\":\"\"}},\"title\":{\"x\":0.05},\"xaxis\":{\"automargin\":true,\"gridcolor\":\"white\",\"linecolor\":\"white\",\"ticks\":\"\",\"title\":{\"standoff\":15},\"zerolinecolor\":\"white\",\"zerolinewidth\":2},\"yaxis\":{\"automargin\":true,\"gridcolor\":\"white\",\"linecolor\":\"white\",\"ticks\":\"\",\"title\":{\"standoff\":15},\"zerolinecolor\":\"white\",\"zerolinewidth\":2}}},\"title\":{\"text\":\"ENN\"}},                        {\"responsive\": true}                    ).then(function(){\n",
       "                            \n",
       "var gd = document.getElementById('af5e93c8-4260-4129-b42d-2ba7c43d6074');\n",
       "var x = new MutationObserver(function (mutations, observer) {{\n",
       "        var display = window.getComputedStyle(gd).display;\n",
       "        if (!display || display === 'none') {{\n",
       "            console.log([gd, 'removed!']);\n",
       "            Plotly.purge(gd);\n",
       "            observer.disconnect();\n",
       "        }}\n",
       "}});\n",
       "\n",
       "// Listen for the removal of the full notebook cells\n",
       "var notebookContainer = gd.closest('#notebook-container');\n",
       "if (notebookContainer) {{\n",
       "    x.observe(notebookContainer, {childList: true});\n",
       "}}\n",
       "\n",
       "// Listen for the clearing of the current output cell\n",
       "var outputEl = gd.closest('.output');\n",
       "if (outputEl) {{\n",
       "    x.observe(outputEl, {childList: true});\n",
       "}}\n",
       "\n",
       "                        })                };                });            </script>        </div>"
      ]
     },
     "metadata": {},
     "output_type": "display_data"
    }
   ],
   "source": [
    "import plotly.graph_objects as go\n",
    "\n",
    "for sample, df in rank_dfs:\n",
    "\n",
    "    categories = ['contigs','filtered_contigs','basepairs','filtered_basepairs', 'max_contig', 'n50','filtered_n50', 'mapped_reads','filtered_mapped_reads', 'Ns','filtered_Ns','misassembled contigs', 'misassembly events']\n",
    "    categories_original =  ['contigs','basepairs', 'max_contig', 'n50', 'mapped_reads', 'Ns'] \n",
    "    categories_original_renamed =  ['Contigs','Basepairs', 'Largest contig', 'N50', '% Mapped reads', 'Uncalled bases'] \n",
    "    categories_filtered = ['filtered_contigs', 'filtered_basepairs', 'filtered_n50', 'filtered_mapped_reads','filtered_Ns', 'misassembled contigs', 'misassembly events']\n",
    "    categories_filtered_renamed = ['Contigs', 'Basepairs', 'N50', '% Mapped reads','Uncalled bases', 'Misassembled contigs', 'Misassembly events']\n",
    "\n",
    "    fig = make_subplots(rows=1, cols=2, specs=[[{'type': 'polar'}]*2], subplot_titles=('Original', 'Filtered'))\n",
    "    \n",
    "    i= 0\n",
    "    \n",
    "    for assembler, row in df.iterrows():\n",
    "        \n",
    "        row_filtered = []\n",
    "        row_original = []\n",
    "        \n",
    "        for col in categories_original:\n",
    "            row_original.append(row.loc[:].at[col])\n",
    "            \n",
    "        for col in categories_filtered:\n",
    "            row_filtered.append(row.loc[:].at[col])\n",
    "\n",
    "        fig.add_trace(go.Scatterpolar(\n",
    "          r=row_original,\n",
    "          theta=categories_original_renamed,\n",
    "          name=assembler, line=dict(color=COLOURS[i]), showlegend=True), col=1, row=1)\n",
    "        \n",
    "        fig.add_trace(go.Scatterpolar(\n",
    "          r=row_filtered,\n",
    "          theta=categories_filtered_renamed,\n",
    "          name=assembler, line=dict(color=COLOURS[i]), showlegend=False), col=2, row=1)\n",
    "        \n",
    "        i+=1\n",
    "            \n",
    "    fig.update_layout(polar=dict(radialaxis=dict(visible=True,\n",
    "                                                 range=[1, 12],\n",
    "                                                 autorange=\"reversed\",\n",
    "                                                 linewidth = 2,\n",
    "                                                 linecolor=\"black\",\n",
    "                                                 gridcolor = \"#DCDCDC\"), \n",
    "                                 hole=1/12, bgcolor='rgb(255,255,255)',\n",
    "                                angularaxis=dict(linecolor=\"black\"),\n",
    "                                angularaxis_categoryarray = categories_original_renamed,\n",
    "                                radialaxis_angle = -22.5),\n",
    "                     polar2=dict(radialaxis=dict(visible=True,\n",
    "                                                 range=[1, 12],\n",
    "                                                 autorange=\"reversed\",\n",
    "                                                 linewidth = 2,\n",
    "                                                 linecolor=\"black\",\n",
    "                                                 gridcolor = \"#DCDCDC\"), \n",
    "                                 hole=1/12, bgcolor='rgb(255,255,255)',\n",
    "                                angularaxis=dict(linecolor=\"black\"),\n",
    "                                angularaxis_categoryarray = categories_filtered_renamed,\n",
    "                                radialaxis_angle = -22.5))\n",
    "    fig.update_layout(title=sample)\n",
    "\n",
    "    fig.show()\n",
    "\n"
   ]
  },
  {
   "cell_type": "code",
   "execution_count": 207,
   "metadata": {
    "scrolled": false
   },
   "outputs": [
    {
     "data": {
      "application/vnd.plotly.v1+json": {
       "config": {
        "plotlyServerURL": "https://plot.ly"
       },
       "data": [
        {
         "marker": {
          "color": "#5876c8",
          "line": {
           "color": "black",
           "width": 2
          },
          "size": 12
         },
         "mode": "markers",
         "name": "Contigs",
         "opacity": 0.4,
         "r": [
          11,
          12,
          3,
          5,
          4,
          1,
          6,
          9,
          8,
          7,
          2,
          10
         ],
         "showlegend": true,
         "subplot": "polar",
         "theta": [
          "ABySS",
          "BCALM2",
          "GATBMiniaPipeline",
          "IDBA-UD",
          "MEGAHIT",
          "MetaHipMer2",
          "metaSPAdes",
          "MINIA",
          "SKESA",
          "SPAdes",
          "Unicycler",
          "VelvetOptimiser"
         ],
         "type": "scatterpolar"
        },
        {
         "marker": {
          "color": "#5876c8",
          "line": {
           "color": "black",
           "width": 2
          },
          "size": 12
         },
         "mode": "markers",
         "name": "Contigs",
         "opacity": 0.4,
         "r": [
          11,
          10,
          6,
          8,
          4,
          1,
          3,
          9,
          12,
          7,
          2,
          5
         ],
         "showlegend": false,
         "subplot": "polar2",
         "theta": [
          "ABySS",
          "BCALM2",
          "GATBMiniaPipeline",
          "IDBA-UD",
          "MEGAHIT",
          "MetaHipMer2",
          "metaSPAdes",
          "MINIA",
          "SKESA",
          "SPAdes",
          "Unicycler",
          "VelvetOptimiser"
         ],
         "type": "scatterpolar"
        },
        {
         "marker": {
          "color": "#009392",
          "line": {
           "color": "black",
           "width": 2
          },
          "size": 12
         },
         "mode": "markers",
         "name": "Basepairs",
         "opacity": 0.4,
         "r": [
          12,
          10,
          4,
          5,
          6,
          1,
          7,
          9,
          2,
          8,
          3,
          11
         ],
         "showlegend": true,
         "subplot": "polar",
         "theta": [
          "ABySS",
          "BCALM2",
          "GATBMiniaPipeline",
          "IDBA-UD",
          "MEGAHIT",
          "MetaHipMer2",
          "metaSPAdes",
          "MINIA",
          "SKESA",
          "SPAdes",
          "Unicycler",
          "VelvetOptimiser"
         ],
         "type": "scatterpolar"
        },
        {
         "marker": {
          "color": "#009392",
          "line": {
           "color": "black",
           "width": 2
          },
          "size": 12
         },
         "mode": "markers",
         "name": "Basepairs",
         "opacity": 0.4,
         "r": [
          6,
          4,
          9,
          8,
          12,
          1,
          11,
          5,
          2,
          7,
          3,
          10
         ],
         "showlegend": false,
         "subplot": "polar2",
         "theta": [
          "ABySS",
          "BCALM2",
          "GATBMiniaPipeline",
          "IDBA-UD",
          "MEGAHIT",
          "MetaHipMer2",
          "metaSPAdes",
          "MINIA",
          "SKESA",
          "SPAdes",
          "Unicycler",
          "VelvetOptimiser"
         ],
         "type": "scatterpolar"
        },
        {
         "marker": {
          "color": "#9CCB86",
          "line": {
           "color": "black",
           "width": 2
          },
          "size": 12
         },
         "mode": "markers",
         "name": "Largest contig",
         "opacity": 0.4,
         "r": [
          2,
          10,
          7,
          8,
          1,
          12,
          3,
          9,
          11,
          6,
          4,
          5
         ],
         "showlegend": true,
         "subplot": "polar",
         "theta": [
          "ABySS",
          "BCALM2",
          "GATBMiniaPipeline",
          "IDBA-UD",
          "MEGAHIT",
          "MetaHipMer2",
          "metaSPAdes",
          "MINIA",
          "SKESA",
          "SPAdes",
          "Unicycler",
          "VelvetOptimiser"
         ],
         "type": "scatterpolar"
        },
        {
         "marker": {
          "color": "#EEB479",
          "line": {
           "color": "black",
           "width": 2
          },
          "size": 12
         },
         "mode": "markers",
         "name": "N50",
         "opacity": 0.4,
         "r": [
          10,
          9,
          4,
          7,
          3,
          12,
          2,
          8,
          11,
          5,
          1,
          6
         ],
         "showlegend": true,
         "subplot": "polar",
         "theta": [
          "ABySS",
          "BCALM2",
          "GATBMiniaPipeline",
          "IDBA-UD",
          "MEGAHIT",
          "MetaHipMer2",
          "metaSPAdes",
          "MINIA",
          "SKESA",
          "SPAdes",
          "Unicycler",
          "VelvetOptimiser"
         ],
         "type": "scatterpolar"
        },
        {
         "marker": {
          "color": "#EEB479",
          "line": {
           "color": "black",
           "width": 2
          },
          "size": 12
         },
         "mode": "markers",
         "name": "N50",
         "opacity": 0.4,
         "r": [
          5,
          10,
          6,
          8,
          3,
          12,
          2,
          9,
          11,
          7,
          1,
          4
         ],
         "showlegend": false,
         "subplot": "polar2",
         "theta": [
          "ABySS",
          "BCALM2",
          "GATBMiniaPipeline",
          "IDBA-UD",
          "MEGAHIT",
          "MetaHipMer2",
          "metaSPAdes",
          "MINIA",
          "SKESA",
          "SPAdes",
          "Unicycler",
          "VelvetOptimiser"
         ],
         "type": "scatterpolar"
        },
        {
         "marker": {
          "color": "#E88471",
          "line": {
           "color": "black",
           "width": 2
          },
          "size": 12
         },
         "mode": "markers",
         "name": "% Mapped reads",
         "opacity": 0.4,
         "r": [
          1,
          10,
          4,
          6,
          3,
          12,
          2,
          8,
          11,
          5,
          7,
          9
         ],
         "showlegend": true,
         "subplot": "polar",
         "theta": [
          "ABySS",
          "BCALM2",
          "GATBMiniaPipeline",
          "IDBA-UD",
          "MEGAHIT",
          "MetaHipMer2",
          "metaSPAdes",
          "MINIA",
          "SKESA",
          "SPAdes",
          "Unicycler",
          "VelvetOptimiser"
         ],
         "type": "scatterpolar"
        },
        {
         "marker": {
          "color": "#E88471",
          "line": {
           "color": "black",
           "width": 2
          },
          "size": 12
         },
         "mode": "markers",
         "name": "% Mapped reads",
         "opacity": 0.4,
         "r": [
          5,
          10,
          6,
          4,
          1,
          12,
          2,
          9,
          11,
          2,
          7,
          8
         ],
         "showlegend": false,
         "subplot": "polar2",
         "theta": [
          "ABySS",
          "BCALM2",
          "GATBMiniaPipeline",
          "IDBA-UD",
          "MEGAHIT",
          "MetaHipMer2",
          "metaSPAdes",
          "MINIA",
          "SKESA",
          "SPAdes",
          "Unicycler",
          "VelvetOptimiser"
         ],
         "type": "scatterpolar"
        },
        {
         "marker": {
          "color": "#CF597E",
          "line": {
           "color": "black",
           "width": 2
          },
          "size": 12
         },
         "mode": "markers",
         "name": "Uncalled bases",
         "opacity": 0.4,
         "r": [
          11,
          1,
          1,
          1,
          1,
          1,
          1,
          1,
          1,
          1,
          1,
          12
         ],
         "showlegend": true,
         "subplot": "polar",
         "theta": [
          "ABySS",
          "BCALM2",
          "GATBMiniaPipeline",
          "IDBA-UD",
          "MEGAHIT",
          "MetaHipMer2",
          "metaSPAdes",
          "MINIA",
          "SKESA",
          "SPAdes",
          "Unicycler",
          "VelvetOptimiser"
         ],
         "type": "scatterpolar"
        },
        {
         "marker": {
          "color": "#CF597E",
          "line": {
           "color": "black",
           "width": 2
          },
          "size": 12
         },
         "mode": "markers",
         "name": "Uncalled bases",
         "opacity": 0.4,
         "r": [
          12,
          1,
          1,
          1,
          1,
          1,
          1,
          1,
          1,
          1,
          1,
          1
         ],
         "showlegend": false,
         "subplot": "polar2",
         "theta": [
          "ABySS",
          "BCALM2",
          "GATBMiniaPipeline",
          "IDBA-UD",
          "MEGAHIT",
          "MetaHipMer2",
          "metaSPAdes",
          "MINIA",
          "SKESA",
          "SPAdes",
          "Unicycler",
          "VelvetOptimiser"
         ],
         "type": "scatterpolar"
        },
        {
         "marker": {
          "color": "#a54765",
          "line": {
           "color": "black",
           "width": 2
          },
          "size": 12
         },
         "mode": "markers",
         "name": "Misassembled contigs",
         "opacity": 0.4,
         "r": [
          1,
          1,
          7,
          10,
          7,
          1,
          7,
          10,
          12,
          1,
          1,
          1
         ],
         "showlegend": true,
         "subplot": "polar2",
         "theta": [
          "ABySS",
          "BCALM2",
          "GATBMiniaPipeline",
          "IDBA-UD",
          "MEGAHIT",
          "MetaHipMer2",
          "metaSPAdes",
          "MINIA",
          "SKESA",
          "SPAdes",
          "Unicycler",
          "VelvetOptimiser"
         ],
         "type": "scatterpolar"
        },
        {
         "marker": {
          "color": "#835221",
          "line": {
           "color": "black",
           "width": 2
          },
          "size": 12
         },
         "mode": "markers",
         "name": "Misassembly events",
         "opacity": 0.4,
         "r": [
          1,
          1,
          9,
          7,
          7,
          1,
          9,
          11,
          12,
          1,
          1,
          1
         ],
         "showlegend": true,
         "subplot": "polar2",
         "theta": [
          "ABySS",
          "BCALM2",
          "GATBMiniaPipeline",
          "IDBA-UD",
          "MEGAHIT",
          "MetaHipMer2",
          "metaSPAdes",
          "MINIA",
          "SKESA",
          "SPAdes",
          "Unicycler",
          "VelvetOptimiser"
         ],
         "type": "scatterpolar"
        }
       ],
       "layout": {
        "annotations": [
         {
          "font": {
           "size": 16
          },
          "showarrow": false,
          "text": "Original",
          "x": 0.225,
          "xanchor": "center",
          "xref": "paper",
          "y": 1,
          "yanchor": "bottom",
          "yref": "paper"
         },
         {
          "font": {
           "size": 16
          },
          "showarrow": false,
          "text": "Filtered",
          "x": 0.775,
          "xanchor": "center",
          "xref": "paper",
          "y": 1,
          "yanchor": "bottom",
          "yref": "paper"
         }
        ],
        "polar": {
         "angularaxis": {
          "categoryarray": [
           "ABySS",
           "BCALM2",
           "GATBMiniaPipeline",
           "IDBA-UD",
           "MEGAHIT",
           "MetaHipMer2",
           "metaSPAdes",
           "MINIA",
           "SKESA",
           "SPAdes",
           "Unicycler",
           "VelvetOptimiser",
           " "
          ],
          "linecolor": "black"
         },
         "bgcolor": "rgb(255,255,255)",
         "domain": {
          "x": [
           0,
           0.45
          ],
          "y": [
           0,
           1
          ]
         },
         "hole": 0.08333333333333333,
         "radialaxis": {
          "angle": -22.5,
          "autorange": "reversed",
          "gridcolor": "#DCDCDC",
          "linecolor": "black",
          "linewidth": 2,
          "range": [
           1,
           12
          ],
          "visible": true
         }
        },
        "polar2": {
         "angularaxis": {
          "categoryarray": [
           "ABySS",
           "BCALM2",
           "GATBMiniaPipeline",
           "IDBA-UD",
           "MEGAHIT",
           "MetaHipMer2",
           "metaSPAdes",
           "MINIA",
           "SKESA",
           "SPAdes",
           "Unicycler",
           "VelvetOptimiser",
           " "
          ],
          "linecolor": "black"
         },
         "bgcolor": "rgb(255,255,255)",
         "domain": {
          "x": [
           0.55,
           1
          ],
          "y": [
           0,
           1
          ]
         },
         "hole": 0.08333333333333333,
         "radialaxis": {
          "angle": -22.5,
          "autorange": "reversed",
          "gridcolor": "#DCDCDC",
          "linecolor": "black",
          "linewidth": 2,
          "range": [
           1,
           12
          ],
          "visible": true
         }
        },
        "template": {
         "data": {
          "bar": [
           {
            "error_x": {
             "color": "#2a3f5f"
            },
            "error_y": {
             "color": "#2a3f5f"
            },
            "marker": {
             "line": {
              "color": "#E5ECF6",
              "width": 0.5
             },
             "pattern": {
              "fillmode": "overlay",
              "size": 10,
              "solidity": 0.2
             }
            },
            "type": "bar"
           }
          ],
          "barpolar": [
           {
            "marker": {
             "line": {
              "color": "#E5ECF6",
              "width": 0.5
             },
             "pattern": {
              "fillmode": "overlay",
              "size": 10,
              "solidity": 0.2
             }
            },
            "type": "barpolar"
           }
          ],
          "carpet": [
           {
            "aaxis": {
             "endlinecolor": "#2a3f5f",
             "gridcolor": "white",
             "linecolor": "white",
             "minorgridcolor": "white",
             "startlinecolor": "#2a3f5f"
            },
            "baxis": {
             "endlinecolor": "#2a3f5f",
             "gridcolor": "white",
             "linecolor": "white",
             "minorgridcolor": "white",
             "startlinecolor": "#2a3f5f"
            },
            "type": "carpet"
           }
          ],
          "choropleth": [
           {
            "colorbar": {
             "outlinewidth": 0,
             "ticks": ""
            },
            "type": "choropleth"
           }
          ],
          "contour": [
           {
            "colorbar": {
             "outlinewidth": 0,
             "ticks": ""
            },
            "colorscale": [
             [
              0,
              "#0d0887"
             ],
             [
              0.1111111111111111,
              "#46039f"
             ],
             [
              0.2222222222222222,
              "#7201a8"
             ],
             [
              0.3333333333333333,
              "#9c179e"
             ],
             [
              0.4444444444444444,
              "#bd3786"
             ],
             [
              0.5555555555555556,
              "#d8576b"
             ],
             [
              0.6666666666666666,
              "#ed7953"
             ],
             [
              0.7777777777777778,
              "#fb9f3a"
             ],
             [
              0.8888888888888888,
              "#fdca26"
             ],
             [
              1,
              "#f0f921"
             ]
            ],
            "type": "contour"
           }
          ],
          "contourcarpet": [
           {
            "colorbar": {
             "outlinewidth": 0,
             "ticks": ""
            },
            "type": "contourcarpet"
           }
          ],
          "heatmap": [
           {
            "colorbar": {
             "outlinewidth": 0,
             "ticks": ""
            },
            "colorscale": [
             [
              0,
              "#0d0887"
             ],
             [
              0.1111111111111111,
              "#46039f"
             ],
             [
              0.2222222222222222,
              "#7201a8"
             ],
             [
              0.3333333333333333,
              "#9c179e"
             ],
             [
              0.4444444444444444,
              "#bd3786"
             ],
             [
              0.5555555555555556,
              "#d8576b"
             ],
             [
              0.6666666666666666,
              "#ed7953"
             ],
             [
              0.7777777777777778,
              "#fb9f3a"
             ],
             [
              0.8888888888888888,
              "#fdca26"
             ],
             [
              1,
              "#f0f921"
             ]
            ],
            "type": "heatmap"
           }
          ],
          "heatmapgl": [
           {
            "colorbar": {
             "outlinewidth": 0,
             "ticks": ""
            },
            "colorscale": [
             [
              0,
              "#0d0887"
             ],
             [
              0.1111111111111111,
              "#46039f"
             ],
             [
              0.2222222222222222,
              "#7201a8"
             ],
             [
              0.3333333333333333,
              "#9c179e"
             ],
             [
              0.4444444444444444,
              "#bd3786"
             ],
             [
              0.5555555555555556,
              "#d8576b"
             ],
             [
              0.6666666666666666,
              "#ed7953"
             ],
             [
              0.7777777777777778,
              "#fb9f3a"
             ],
             [
              0.8888888888888888,
              "#fdca26"
             ],
             [
              1,
              "#f0f921"
             ]
            ],
            "type": "heatmapgl"
           }
          ],
          "histogram": [
           {
            "marker": {
             "pattern": {
              "fillmode": "overlay",
              "size": 10,
              "solidity": 0.2
             }
            },
            "type": "histogram"
           }
          ],
          "histogram2d": [
           {
            "colorbar": {
             "outlinewidth": 0,
             "ticks": ""
            },
            "colorscale": [
             [
              0,
              "#0d0887"
             ],
             [
              0.1111111111111111,
              "#46039f"
             ],
             [
              0.2222222222222222,
              "#7201a8"
             ],
             [
              0.3333333333333333,
              "#9c179e"
             ],
             [
              0.4444444444444444,
              "#bd3786"
             ],
             [
              0.5555555555555556,
              "#d8576b"
             ],
             [
              0.6666666666666666,
              "#ed7953"
             ],
             [
              0.7777777777777778,
              "#fb9f3a"
             ],
             [
              0.8888888888888888,
              "#fdca26"
             ],
             [
              1,
              "#f0f921"
             ]
            ],
            "type": "histogram2d"
           }
          ],
          "histogram2dcontour": [
           {
            "colorbar": {
             "outlinewidth": 0,
             "ticks": ""
            },
            "colorscale": [
             [
              0,
              "#0d0887"
             ],
             [
              0.1111111111111111,
              "#46039f"
             ],
             [
              0.2222222222222222,
              "#7201a8"
             ],
             [
              0.3333333333333333,
              "#9c179e"
             ],
             [
              0.4444444444444444,
              "#bd3786"
             ],
             [
              0.5555555555555556,
              "#d8576b"
             ],
             [
              0.6666666666666666,
              "#ed7953"
             ],
             [
              0.7777777777777778,
              "#fb9f3a"
             ],
             [
              0.8888888888888888,
              "#fdca26"
             ],
             [
              1,
              "#f0f921"
             ]
            ],
            "type": "histogram2dcontour"
           }
          ],
          "mesh3d": [
           {
            "colorbar": {
             "outlinewidth": 0,
             "ticks": ""
            },
            "type": "mesh3d"
           }
          ],
          "parcoords": [
           {
            "line": {
             "colorbar": {
              "outlinewidth": 0,
              "ticks": ""
             }
            },
            "type": "parcoords"
           }
          ],
          "pie": [
           {
            "automargin": true,
            "type": "pie"
           }
          ],
          "scatter": [
           {
            "marker": {
             "colorbar": {
              "outlinewidth": 0,
              "ticks": ""
             }
            },
            "type": "scatter"
           }
          ],
          "scatter3d": [
           {
            "line": {
             "colorbar": {
              "outlinewidth": 0,
              "ticks": ""
             }
            },
            "marker": {
             "colorbar": {
              "outlinewidth": 0,
              "ticks": ""
             }
            },
            "type": "scatter3d"
           }
          ],
          "scattercarpet": [
           {
            "marker": {
             "colorbar": {
              "outlinewidth": 0,
              "ticks": ""
             }
            },
            "type": "scattercarpet"
           }
          ],
          "scattergeo": [
           {
            "marker": {
             "colorbar": {
              "outlinewidth": 0,
              "ticks": ""
             }
            },
            "type": "scattergeo"
           }
          ],
          "scattergl": [
           {
            "marker": {
             "colorbar": {
              "outlinewidth": 0,
              "ticks": ""
             }
            },
            "type": "scattergl"
           }
          ],
          "scattermapbox": [
           {
            "marker": {
             "colorbar": {
              "outlinewidth": 0,
              "ticks": ""
             }
            },
            "type": "scattermapbox"
           }
          ],
          "scatterpolar": [
           {
            "marker": {
             "colorbar": {
              "outlinewidth": 0,
              "ticks": ""
             }
            },
            "type": "scatterpolar"
           }
          ],
          "scatterpolargl": [
           {
            "marker": {
             "colorbar": {
              "outlinewidth": 0,
              "ticks": ""
             }
            },
            "type": "scatterpolargl"
           }
          ],
          "scatterternary": [
           {
            "marker": {
             "colorbar": {
              "outlinewidth": 0,
              "ticks": ""
             }
            },
            "type": "scatterternary"
           }
          ],
          "surface": [
           {
            "colorbar": {
             "outlinewidth": 0,
             "ticks": ""
            },
            "colorscale": [
             [
              0,
              "#0d0887"
             ],
             [
              0.1111111111111111,
              "#46039f"
             ],
             [
              0.2222222222222222,
              "#7201a8"
             ],
             [
              0.3333333333333333,
              "#9c179e"
             ],
             [
              0.4444444444444444,
              "#bd3786"
             ],
             [
              0.5555555555555556,
              "#d8576b"
             ],
             [
              0.6666666666666666,
              "#ed7953"
             ],
             [
              0.7777777777777778,
              "#fb9f3a"
             ],
             [
              0.8888888888888888,
              "#fdca26"
             ],
             [
              1,
              "#f0f921"
             ]
            ],
            "type": "surface"
           }
          ],
          "table": [
           {
            "cells": {
             "fill": {
              "color": "#EBF0F8"
             },
             "line": {
              "color": "white"
             }
            },
            "header": {
             "fill": {
              "color": "#C8D4E3"
             },
             "line": {
              "color": "white"
             }
            },
            "type": "table"
           }
          ]
         },
         "layout": {
          "annotationdefaults": {
           "arrowcolor": "#2a3f5f",
           "arrowhead": 0,
           "arrowwidth": 1
          },
          "autotypenumbers": "strict",
          "coloraxis": {
           "colorbar": {
            "outlinewidth": 0,
            "ticks": ""
           }
          },
          "colorscale": {
           "diverging": [
            [
             0,
             "#8e0152"
            ],
            [
             0.1,
             "#c51b7d"
            ],
            [
             0.2,
             "#de77ae"
            ],
            [
             0.3,
             "#f1b6da"
            ],
            [
             0.4,
             "#fde0ef"
            ],
            [
             0.5,
             "#f7f7f7"
            ],
            [
             0.6,
             "#e6f5d0"
            ],
            [
             0.7,
             "#b8e186"
            ],
            [
             0.8,
             "#7fbc41"
            ],
            [
             0.9,
             "#4d9221"
            ],
            [
             1,
             "#276419"
            ]
           ],
           "sequential": [
            [
             0,
             "#0d0887"
            ],
            [
             0.1111111111111111,
             "#46039f"
            ],
            [
             0.2222222222222222,
             "#7201a8"
            ],
            [
             0.3333333333333333,
             "#9c179e"
            ],
            [
             0.4444444444444444,
             "#bd3786"
            ],
            [
             0.5555555555555556,
             "#d8576b"
            ],
            [
             0.6666666666666666,
             "#ed7953"
            ],
            [
             0.7777777777777778,
             "#fb9f3a"
            ],
            [
             0.8888888888888888,
             "#fdca26"
            ],
            [
             1,
             "#f0f921"
            ]
           ],
           "sequentialminus": [
            [
             0,
             "#0d0887"
            ],
            [
             0.1111111111111111,
             "#46039f"
            ],
            [
             0.2222222222222222,
             "#7201a8"
            ],
            [
             0.3333333333333333,
             "#9c179e"
            ],
            [
             0.4444444444444444,
             "#bd3786"
            ],
            [
             0.5555555555555556,
             "#d8576b"
            ],
            [
             0.6666666666666666,
             "#ed7953"
            ],
            [
             0.7777777777777778,
             "#fb9f3a"
            ],
            [
             0.8888888888888888,
             "#fdca26"
            ],
            [
             1,
             "#f0f921"
            ]
           ]
          },
          "colorway": [
           "#636efa",
           "#EF553B",
           "#00cc96",
           "#ab63fa",
           "#FFA15A",
           "#19d3f3",
           "#FF6692",
           "#B6E880",
           "#FF97FF",
           "#FECB52"
          ],
          "font": {
           "color": "#2a3f5f"
          },
          "geo": {
           "bgcolor": "white",
           "lakecolor": "white",
           "landcolor": "#E5ECF6",
           "showlakes": true,
           "showland": true,
           "subunitcolor": "white"
          },
          "hoverlabel": {
           "align": "left"
          },
          "hovermode": "closest",
          "mapbox": {
           "style": "light"
          },
          "paper_bgcolor": "white",
          "plot_bgcolor": "#E5ECF6",
          "polar": {
           "angularaxis": {
            "gridcolor": "white",
            "linecolor": "white",
            "ticks": ""
           },
           "bgcolor": "#E5ECF6",
           "radialaxis": {
            "gridcolor": "white",
            "linecolor": "white",
            "ticks": ""
           }
          },
          "scene": {
           "xaxis": {
            "backgroundcolor": "#E5ECF6",
            "gridcolor": "white",
            "gridwidth": 2,
            "linecolor": "white",
            "showbackground": true,
            "ticks": "",
            "zerolinecolor": "white"
           },
           "yaxis": {
            "backgroundcolor": "#E5ECF6",
            "gridcolor": "white",
            "gridwidth": 2,
            "linecolor": "white",
            "showbackground": true,
            "ticks": "",
            "zerolinecolor": "white"
           },
           "zaxis": {
            "backgroundcolor": "#E5ECF6",
            "gridcolor": "white",
            "gridwidth": 2,
            "linecolor": "white",
            "showbackground": true,
            "ticks": "",
            "zerolinecolor": "white"
           }
          },
          "shapedefaults": {
           "line": {
            "color": "#2a3f5f"
           }
          },
          "ternary": {
           "aaxis": {
            "gridcolor": "white",
            "linecolor": "white",
            "ticks": ""
           },
           "baxis": {
            "gridcolor": "white",
            "linecolor": "white",
            "ticks": ""
           },
           "bgcolor": "#E5ECF6",
           "caxis": {
            "gridcolor": "white",
            "linecolor": "white",
            "ticks": ""
           }
          },
          "title": {
           "x": 0.05
          },
          "xaxis": {
           "automargin": true,
           "gridcolor": "white",
           "linecolor": "white",
           "ticks": "",
           "title": {
            "standoff": 15
           },
           "zerolinecolor": "white",
           "zerolinewidth": 2
          },
          "yaxis": {
           "automargin": true,
           "gridcolor": "white",
           "linecolor": "white",
           "ticks": "",
           "title": {
            "standoff": 15
           },
           "zerolinecolor": "white",
           "zerolinewidth": 2
          }
         }
        },
        "title": {
         "text": "LNN"
        }
       }
      },
      "text/html": [
       "<div>                            <div id=\"1d7a6d1e-6936-4a0e-b365-8310d34a8613\" class=\"plotly-graph-div\" style=\"height:525px; width:100%;\"></div>            <script type=\"text/javascript\">                require([\"plotly\"], function(Plotly) {                    window.PLOTLYENV=window.PLOTLYENV || {};                                    if (document.getElementById(\"1d7a6d1e-6936-4a0e-b365-8310d34a8613\")) {                    Plotly.newPlot(                        \"1d7a6d1e-6936-4a0e-b365-8310d34a8613\",                        [{\"marker\":{\"color\":\"#5876c8\",\"line\":{\"color\":\"black\",\"width\":2},\"size\":12},\"mode\":\"markers\",\"name\":\"Contigs\",\"opacity\":0.4,\"r\":[11,12,3,5,4,1,6,9,8,7,2,10],\"showlegend\":true,\"subplot\":\"polar\",\"theta\":[\"ABySS\",\"BCALM2\",\"GATBMiniaPipeline\",\"IDBA-UD\",\"MEGAHIT\",\"MetaHipMer2\",\"metaSPAdes\",\"MINIA\",\"SKESA\",\"SPAdes\",\"Unicycler\",\"VelvetOptimiser\"],\"type\":\"scatterpolar\"},{\"marker\":{\"color\":\"#5876c8\",\"line\":{\"color\":\"black\",\"width\":2},\"size\":12},\"mode\":\"markers\",\"name\":\"Contigs\",\"opacity\":0.4,\"r\":[11,10,6,8,4,1,3,9,12,7,2,5],\"showlegend\":false,\"subplot\":\"polar2\",\"theta\":[\"ABySS\",\"BCALM2\",\"GATBMiniaPipeline\",\"IDBA-UD\",\"MEGAHIT\",\"MetaHipMer2\",\"metaSPAdes\",\"MINIA\",\"SKESA\",\"SPAdes\",\"Unicycler\",\"VelvetOptimiser\"],\"type\":\"scatterpolar\"},{\"marker\":{\"color\":\"#009392\",\"line\":{\"color\":\"black\",\"width\":2},\"size\":12},\"mode\":\"markers\",\"name\":\"Basepairs\",\"opacity\":0.4,\"r\":[12,10,4,5,6,1,7,9,2,8,3,11],\"showlegend\":true,\"subplot\":\"polar\",\"theta\":[\"ABySS\",\"BCALM2\",\"GATBMiniaPipeline\",\"IDBA-UD\",\"MEGAHIT\",\"MetaHipMer2\",\"metaSPAdes\",\"MINIA\",\"SKESA\",\"SPAdes\",\"Unicycler\",\"VelvetOptimiser\"],\"type\":\"scatterpolar\"},{\"marker\":{\"color\":\"#009392\",\"line\":{\"color\":\"black\",\"width\":2},\"size\":12},\"mode\":\"markers\",\"name\":\"Basepairs\",\"opacity\":0.4,\"r\":[6,4,9,8,12,1,11,5,2,7,3,10],\"showlegend\":false,\"subplot\":\"polar2\",\"theta\":[\"ABySS\",\"BCALM2\",\"GATBMiniaPipeline\",\"IDBA-UD\",\"MEGAHIT\",\"MetaHipMer2\",\"metaSPAdes\",\"MINIA\",\"SKESA\",\"SPAdes\",\"Unicycler\",\"VelvetOptimiser\"],\"type\":\"scatterpolar\"},{\"marker\":{\"color\":\"#9CCB86\",\"line\":{\"color\":\"black\",\"width\":2},\"size\":12},\"mode\":\"markers\",\"name\":\"Largest contig\",\"opacity\":0.4,\"r\":[2,10,7,8,1,12,3,9,11,6,4,5],\"showlegend\":true,\"subplot\":\"polar\",\"theta\":[\"ABySS\",\"BCALM2\",\"GATBMiniaPipeline\",\"IDBA-UD\",\"MEGAHIT\",\"MetaHipMer2\",\"metaSPAdes\",\"MINIA\",\"SKESA\",\"SPAdes\",\"Unicycler\",\"VelvetOptimiser\"],\"type\":\"scatterpolar\"},{\"marker\":{\"color\":\"#EEB479\",\"line\":{\"color\":\"black\",\"width\":2},\"size\":12},\"mode\":\"markers\",\"name\":\"N50\",\"opacity\":0.4,\"r\":[10,9,4,7,3,12,2,8,11,5,1,6],\"showlegend\":true,\"subplot\":\"polar\",\"theta\":[\"ABySS\",\"BCALM2\",\"GATBMiniaPipeline\",\"IDBA-UD\",\"MEGAHIT\",\"MetaHipMer2\",\"metaSPAdes\",\"MINIA\",\"SKESA\",\"SPAdes\",\"Unicycler\",\"VelvetOptimiser\"],\"type\":\"scatterpolar\"},{\"marker\":{\"color\":\"#EEB479\",\"line\":{\"color\":\"black\",\"width\":2},\"size\":12},\"mode\":\"markers\",\"name\":\"N50\",\"opacity\":0.4,\"r\":[5,10,6,8,3,12,2,9,11,7,1,4],\"showlegend\":false,\"subplot\":\"polar2\",\"theta\":[\"ABySS\",\"BCALM2\",\"GATBMiniaPipeline\",\"IDBA-UD\",\"MEGAHIT\",\"MetaHipMer2\",\"metaSPAdes\",\"MINIA\",\"SKESA\",\"SPAdes\",\"Unicycler\",\"VelvetOptimiser\"],\"type\":\"scatterpolar\"},{\"marker\":{\"color\":\"#E88471\",\"line\":{\"color\":\"black\",\"width\":2},\"size\":12},\"mode\":\"markers\",\"name\":\"% Mapped reads\",\"opacity\":0.4,\"r\":[1,10,4,6,3,12,2,8,11,5,7,9],\"showlegend\":true,\"subplot\":\"polar\",\"theta\":[\"ABySS\",\"BCALM2\",\"GATBMiniaPipeline\",\"IDBA-UD\",\"MEGAHIT\",\"MetaHipMer2\",\"metaSPAdes\",\"MINIA\",\"SKESA\",\"SPAdes\",\"Unicycler\",\"VelvetOptimiser\"],\"type\":\"scatterpolar\"},{\"marker\":{\"color\":\"#E88471\",\"line\":{\"color\":\"black\",\"width\":2},\"size\":12},\"mode\":\"markers\",\"name\":\"% Mapped reads\",\"opacity\":0.4,\"r\":[5,10,6,4,1,12,2,9,11,2,7,8],\"showlegend\":false,\"subplot\":\"polar2\",\"theta\":[\"ABySS\",\"BCALM2\",\"GATBMiniaPipeline\",\"IDBA-UD\",\"MEGAHIT\",\"MetaHipMer2\",\"metaSPAdes\",\"MINIA\",\"SKESA\",\"SPAdes\",\"Unicycler\",\"VelvetOptimiser\"],\"type\":\"scatterpolar\"},{\"marker\":{\"color\":\"#CF597E\",\"line\":{\"color\":\"black\",\"width\":2},\"size\":12},\"mode\":\"markers\",\"name\":\"Uncalled bases\",\"opacity\":0.4,\"r\":[11,1,1,1,1,1,1,1,1,1,1,12],\"showlegend\":true,\"subplot\":\"polar\",\"theta\":[\"ABySS\",\"BCALM2\",\"GATBMiniaPipeline\",\"IDBA-UD\",\"MEGAHIT\",\"MetaHipMer2\",\"metaSPAdes\",\"MINIA\",\"SKESA\",\"SPAdes\",\"Unicycler\",\"VelvetOptimiser\"],\"type\":\"scatterpolar\"},{\"marker\":{\"color\":\"#CF597E\",\"line\":{\"color\":\"black\",\"width\":2},\"size\":12},\"mode\":\"markers\",\"name\":\"Uncalled bases\",\"opacity\":0.4,\"r\":[12,1,1,1,1,1,1,1,1,1,1,1],\"showlegend\":false,\"subplot\":\"polar2\",\"theta\":[\"ABySS\",\"BCALM2\",\"GATBMiniaPipeline\",\"IDBA-UD\",\"MEGAHIT\",\"MetaHipMer2\",\"metaSPAdes\",\"MINIA\",\"SKESA\",\"SPAdes\",\"Unicycler\",\"VelvetOptimiser\"],\"type\":\"scatterpolar\"},{\"marker\":{\"color\":\"#a54765\",\"line\":{\"color\":\"black\",\"width\":2},\"size\":12},\"mode\":\"markers\",\"name\":\"Misassembled contigs\",\"opacity\":0.4,\"r\":[1,1,7,10,7,1,7,10,12,1,1,1],\"showlegend\":true,\"subplot\":\"polar2\",\"theta\":[\"ABySS\",\"BCALM2\",\"GATBMiniaPipeline\",\"IDBA-UD\",\"MEGAHIT\",\"MetaHipMer2\",\"metaSPAdes\",\"MINIA\",\"SKESA\",\"SPAdes\",\"Unicycler\",\"VelvetOptimiser\"],\"type\":\"scatterpolar\"},{\"marker\":{\"color\":\"#835221\",\"line\":{\"color\":\"black\",\"width\":2},\"size\":12},\"mode\":\"markers\",\"name\":\"Misassembly events\",\"opacity\":0.4,\"r\":[1,1,9,7,7,1,9,11,12,1,1,1],\"showlegend\":true,\"subplot\":\"polar2\",\"theta\":[\"ABySS\",\"BCALM2\",\"GATBMiniaPipeline\",\"IDBA-UD\",\"MEGAHIT\",\"MetaHipMer2\",\"metaSPAdes\",\"MINIA\",\"SKESA\",\"SPAdes\",\"Unicycler\",\"VelvetOptimiser\"],\"type\":\"scatterpolar\"}],                        {\"annotations\":[{\"font\":{\"size\":16},\"showarrow\":false,\"text\":\"Original\",\"x\":0.225,\"xanchor\":\"center\",\"xref\":\"paper\",\"y\":1.0,\"yanchor\":\"bottom\",\"yref\":\"paper\"},{\"font\":{\"size\":16},\"showarrow\":false,\"text\":\"Filtered\",\"x\":0.775,\"xanchor\":\"center\",\"xref\":\"paper\",\"y\":1.0,\"yanchor\":\"bottom\",\"yref\":\"paper\"}],\"polar\":{\"angularaxis\":{\"categoryarray\":[\"ABySS\",\"BCALM2\",\"GATBMiniaPipeline\",\"IDBA-UD\",\"MEGAHIT\",\"MetaHipMer2\",\"metaSPAdes\",\"MINIA\",\"SKESA\",\"SPAdes\",\"Unicycler\",\"VelvetOptimiser\",\" \"],\"linecolor\":\"black\"},\"bgcolor\":\"rgb(255,255,255)\",\"domain\":{\"x\":[0.0,0.45],\"y\":[0.0,1.0]},\"hole\":0.08333333333333333,\"radialaxis\":{\"angle\":-22.5,\"autorange\":\"reversed\",\"gridcolor\":\"#DCDCDC\",\"linecolor\":\"black\",\"linewidth\":2,\"range\":[1,12],\"visible\":true}},\"polar2\":{\"angularaxis\":{\"categoryarray\":[\"ABySS\",\"BCALM2\",\"GATBMiniaPipeline\",\"IDBA-UD\",\"MEGAHIT\",\"MetaHipMer2\",\"metaSPAdes\",\"MINIA\",\"SKESA\",\"SPAdes\",\"Unicycler\",\"VelvetOptimiser\",\" \"],\"linecolor\":\"black\"},\"bgcolor\":\"rgb(255,255,255)\",\"domain\":{\"x\":[0.55,1.0],\"y\":[0.0,1.0]},\"hole\":0.08333333333333333,\"radialaxis\":{\"angle\":-22.5,\"autorange\":\"reversed\",\"gridcolor\":\"#DCDCDC\",\"linecolor\":\"black\",\"linewidth\":2,\"range\":[1,12],\"visible\":true}},\"template\":{\"data\":{\"bar\":[{\"error_x\":{\"color\":\"#2a3f5f\"},\"error_y\":{\"color\":\"#2a3f5f\"},\"marker\":{\"line\":{\"color\":\"#E5ECF6\",\"width\":0.5},\"pattern\":{\"fillmode\":\"overlay\",\"size\":10,\"solidity\":0.2}},\"type\":\"bar\"}],\"barpolar\":[{\"marker\":{\"line\":{\"color\":\"#E5ECF6\",\"width\":0.5},\"pattern\":{\"fillmode\":\"overlay\",\"size\":10,\"solidity\":0.2}},\"type\":\"barpolar\"}],\"carpet\":[{\"aaxis\":{\"endlinecolor\":\"#2a3f5f\",\"gridcolor\":\"white\",\"linecolor\":\"white\",\"minorgridcolor\":\"white\",\"startlinecolor\":\"#2a3f5f\"},\"baxis\":{\"endlinecolor\":\"#2a3f5f\",\"gridcolor\":\"white\",\"linecolor\":\"white\",\"minorgridcolor\":\"white\",\"startlinecolor\":\"#2a3f5f\"},\"type\":\"carpet\"}],\"choropleth\":[{\"colorbar\":{\"outlinewidth\":0,\"ticks\":\"\"},\"type\":\"choropleth\"}],\"contour\":[{\"colorbar\":{\"outlinewidth\":0,\"ticks\":\"\"},\"colorscale\":[[0.0,\"#0d0887\"],[0.1111111111111111,\"#46039f\"],[0.2222222222222222,\"#7201a8\"],[0.3333333333333333,\"#9c179e\"],[0.4444444444444444,\"#bd3786\"],[0.5555555555555556,\"#d8576b\"],[0.6666666666666666,\"#ed7953\"],[0.7777777777777778,\"#fb9f3a\"],[0.8888888888888888,\"#fdca26\"],[1.0,\"#f0f921\"]],\"type\":\"contour\"}],\"contourcarpet\":[{\"colorbar\":{\"outlinewidth\":0,\"ticks\":\"\"},\"type\":\"contourcarpet\"}],\"heatmap\":[{\"colorbar\":{\"outlinewidth\":0,\"ticks\":\"\"},\"colorscale\":[[0.0,\"#0d0887\"],[0.1111111111111111,\"#46039f\"],[0.2222222222222222,\"#7201a8\"],[0.3333333333333333,\"#9c179e\"],[0.4444444444444444,\"#bd3786\"],[0.5555555555555556,\"#d8576b\"],[0.6666666666666666,\"#ed7953\"],[0.7777777777777778,\"#fb9f3a\"],[0.8888888888888888,\"#fdca26\"],[1.0,\"#f0f921\"]],\"type\":\"heatmap\"}],\"heatmapgl\":[{\"colorbar\":{\"outlinewidth\":0,\"ticks\":\"\"},\"colorscale\":[[0.0,\"#0d0887\"],[0.1111111111111111,\"#46039f\"],[0.2222222222222222,\"#7201a8\"],[0.3333333333333333,\"#9c179e\"],[0.4444444444444444,\"#bd3786\"],[0.5555555555555556,\"#d8576b\"],[0.6666666666666666,\"#ed7953\"],[0.7777777777777778,\"#fb9f3a\"],[0.8888888888888888,\"#fdca26\"],[1.0,\"#f0f921\"]],\"type\":\"heatmapgl\"}],\"histogram\":[{\"marker\":{\"pattern\":{\"fillmode\":\"overlay\",\"size\":10,\"solidity\":0.2}},\"type\":\"histogram\"}],\"histogram2d\":[{\"colorbar\":{\"outlinewidth\":0,\"ticks\":\"\"},\"colorscale\":[[0.0,\"#0d0887\"],[0.1111111111111111,\"#46039f\"],[0.2222222222222222,\"#7201a8\"],[0.3333333333333333,\"#9c179e\"],[0.4444444444444444,\"#bd3786\"],[0.5555555555555556,\"#d8576b\"],[0.6666666666666666,\"#ed7953\"],[0.7777777777777778,\"#fb9f3a\"],[0.8888888888888888,\"#fdca26\"],[1.0,\"#f0f921\"]],\"type\":\"histogram2d\"}],\"histogram2dcontour\":[{\"colorbar\":{\"outlinewidth\":0,\"ticks\":\"\"},\"colorscale\":[[0.0,\"#0d0887\"],[0.1111111111111111,\"#46039f\"],[0.2222222222222222,\"#7201a8\"],[0.3333333333333333,\"#9c179e\"],[0.4444444444444444,\"#bd3786\"],[0.5555555555555556,\"#d8576b\"],[0.6666666666666666,\"#ed7953\"],[0.7777777777777778,\"#fb9f3a\"],[0.8888888888888888,\"#fdca26\"],[1.0,\"#f0f921\"]],\"type\":\"histogram2dcontour\"}],\"mesh3d\":[{\"colorbar\":{\"outlinewidth\":0,\"ticks\":\"\"},\"type\":\"mesh3d\"}],\"parcoords\":[{\"line\":{\"colorbar\":{\"outlinewidth\":0,\"ticks\":\"\"}},\"type\":\"parcoords\"}],\"pie\":[{\"automargin\":true,\"type\":\"pie\"}],\"scatter\":[{\"marker\":{\"colorbar\":{\"outlinewidth\":0,\"ticks\":\"\"}},\"type\":\"scatter\"}],\"scatter3d\":[{\"line\":{\"colorbar\":{\"outlinewidth\":0,\"ticks\":\"\"}},\"marker\":{\"colorbar\":{\"outlinewidth\":0,\"ticks\":\"\"}},\"type\":\"scatter3d\"}],\"scattercarpet\":[{\"marker\":{\"colorbar\":{\"outlinewidth\":0,\"ticks\":\"\"}},\"type\":\"scattercarpet\"}],\"scattergeo\":[{\"marker\":{\"colorbar\":{\"outlinewidth\":0,\"ticks\":\"\"}},\"type\":\"scattergeo\"}],\"scattergl\":[{\"marker\":{\"colorbar\":{\"outlinewidth\":0,\"ticks\":\"\"}},\"type\":\"scattergl\"}],\"scattermapbox\":[{\"marker\":{\"colorbar\":{\"outlinewidth\":0,\"ticks\":\"\"}},\"type\":\"scattermapbox\"}],\"scatterpolar\":[{\"marker\":{\"colorbar\":{\"outlinewidth\":0,\"ticks\":\"\"}},\"type\":\"scatterpolar\"}],\"scatterpolargl\":[{\"marker\":{\"colorbar\":{\"outlinewidth\":0,\"ticks\":\"\"}},\"type\":\"scatterpolargl\"}],\"scatterternary\":[{\"marker\":{\"colorbar\":{\"outlinewidth\":0,\"ticks\":\"\"}},\"type\":\"scatterternary\"}],\"surface\":[{\"colorbar\":{\"outlinewidth\":0,\"ticks\":\"\"},\"colorscale\":[[0.0,\"#0d0887\"],[0.1111111111111111,\"#46039f\"],[0.2222222222222222,\"#7201a8\"],[0.3333333333333333,\"#9c179e\"],[0.4444444444444444,\"#bd3786\"],[0.5555555555555556,\"#d8576b\"],[0.6666666666666666,\"#ed7953\"],[0.7777777777777778,\"#fb9f3a\"],[0.8888888888888888,\"#fdca26\"],[1.0,\"#f0f921\"]],\"type\":\"surface\"}],\"table\":[{\"cells\":{\"fill\":{\"color\":\"#EBF0F8\"},\"line\":{\"color\":\"white\"}},\"header\":{\"fill\":{\"color\":\"#C8D4E3\"},\"line\":{\"color\":\"white\"}},\"type\":\"table\"}]},\"layout\":{\"annotationdefaults\":{\"arrowcolor\":\"#2a3f5f\",\"arrowhead\":0,\"arrowwidth\":1},\"autotypenumbers\":\"strict\",\"coloraxis\":{\"colorbar\":{\"outlinewidth\":0,\"ticks\":\"\"}},\"colorscale\":{\"diverging\":[[0,\"#8e0152\"],[0.1,\"#c51b7d\"],[0.2,\"#de77ae\"],[0.3,\"#f1b6da\"],[0.4,\"#fde0ef\"],[0.5,\"#f7f7f7\"],[0.6,\"#e6f5d0\"],[0.7,\"#b8e186\"],[0.8,\"#7fbc41\"],[0.9,\"#4d9221\"],[1,\"#276419\"]],\"sequential\":[[0.0,\"#0d0887\"],[0.1111111111111111,\"#46039f\"],[0.2222222222222222,\"#7201a8\"],[0.3333333333333333,\"#9c179e\"],[0.4444444444444444,\"#bd3786\"],[0.5555555555555556,\"#d8576b\"],[0.6666666666666666,\"#ed7953\"],[0.7777777777777778,\"#fb9f3a\"],[0.8888888888888888,\"#fdca26\"],[1.0,\"#f0f921\"]],\"sequentialminus\":[[0.0,\"#0d0887\"],[0.1111111111111111,\"#46039f\"],[0.2222222222222222,\"#7201a8\"],[0.3333333333333333,\"#9c179e\"],[0.4444444444444444,\"#bd3786\"],[0.5555555555555556,\"#d8576b\"],[0.6666666666666666,\"#ed7953\"],[0.7777777777777778,\"#fb9f3a\"],[0.8888888888888888,\"#fdca26\"],[1.0,\"#f0f921\"]]},\"colorway\":[\"#636efa\",\"#EF553B\",\"#00cc96\",\"#ab63fa\",\"#FFA15A\",\"#19d3f3\",\"#FF6692\",\"#B6E880\",\"#FF97FF\",\"#FECB52\"],\"font\":{\"color\":\"#2a3f5f\"},\"geo\":{\"bgcolor\":\"white\",\"lakecolor\":\"white\",\"landcolor\":\"#E5ECF6\",\"showlakes\":true,\"showland\":true,\"subunitcolor\":\"white\"},\"hoverlabel\":{\"align\":\"left\"},\"hovermode\":\"closest\",\"mapbox\":{\"style\":\"light\"},\"paper_bgcolor\":\"white\",\"plot_bgcolor\":\"#E5ECF6\",\"polar\":{\"angularaxis\":{\"gridcolor\":\"white\",\"linecolor\":\"white\",\"ticks\":\"\"},\"bgcolor\":\"#E5ECF6\",\"radialaxis\":{\"gridcolor\":\"white\",\"linecolor\":\"white\",\"ticks\":\"\"}},\"scene\":{\"xaxis\":{\"backgroundcolor\":\"#E5ECF6\",\"gridcolor\":\"white\",\"gridwidth\":2,\"linecolor\":\"white\",\"showbackground\":true,\"ticks\":\"\",\"zerolinecolor\":\"white\"},\"yaxis\":{\"backgroundcolor\":\"#E5ECF6\",\"gridcolor\":\"white\",\"gridwidth\":2,\"linecolor\":\"white\",\"showbackground\":true,\"ticks\":\"\",\"zerolinecolor\":\"white\"},\"zaxis\":{\"backgroundcolor\":\"#E5ECF6\",\"gridcolor\":\"white\",\"gridwidth\":2,\"linecolor\":\"white\",\"showbackground\":true,\"ticks\":\"\",\"zerolinecolor\":\"white\"}},\"shapedefaults\":{\"line\":{\"color\":\"#2a3f5f\"}},\"ternary\":{\"aaxis\":{\"gridcolor\":\"white\",\"linecolor\":\"white\",\"ticks\":\"\"},\"baxis\":{\"gridcolor\":\"white\",\"linecolor\":\"white\",\"ticks\":\"\"},\"bgcolor\":\"#E5ECF6\",\"caxis\":{\"gridcolor\":\"white\",\"linecolor\":\"white\",\"ticks\":\"\"}},\"title\":{\"x\":0.05},\"xaxis\":{\"automargin\":true,\"gridcolor\":\"white\",\"linecolor\":\"white\",\"ticks\":\"\",\"title\":{\"standoff\":15},\"zerolinecolor\":\"white\",\"zerolinewidth\":2},\"yaxis\":{\"automargin\":true,\"gridcolor\":\"white\",\"linecolor\":\"white\",\"ticks\":\"\",\"title\":{\"standoff\":15},\"zerolinecolor\":\"white\",\"zerolinewidth\":2}}},\"title\":{\"text\":\"LNN\"}},                        {\"responsive\": true}                    ).then(function(){\n",
       "                            \n",
       "var gd = document.getElementById('1d7a6d1e-6936-4a0e-b365-8310d34a8613');\n",
       "var x = new MutationObserver(function (mutations, observer) {{\n",
       "        var display = window.getComputedStyle(gd).display;\n",
       "        if (!display || display === 'none') {{\n",
       "            console.log([gd, 'removed!']);\n",
       "            Plotly.purge(gd);\n",
       "            observer.disconnect();\n",
       "        }}\n",
       "}});\n",
       "\n",
       "// Listen for the removal of the full notebook cells\n",
       "var notebookContainer = gd.closest('#notebook-container');\n",
       "if (notebookContainer) {{\n",
       "    x.observe(notebookContainer, {childList: true});\n",
       "}}\n",
       "\n",
       "// Listen for the clearing of the current output cell\n",
       "var outputEl = gd.closest('.output');\n",
       "if (outputEl) {{\n",
       "    x.observe(outputEl, {childList: true});\n",
       "}}\n",
       "\n",
       "                        })                };                });            </script>        </div>"
      ]
     },
     "metadata": {},
     "output_type": "display_data"
    },
    {
     "data": {
      "application/vnd.plotly.v1+json": {
       "config": {
        "plotlyServerURL": "https://plot.ly"
       },
       "data": [
        {
         "marker": {
          "color": "#5876c8",
          "line": {
           "color": "black",
           "width": 2
          },
          "size": 12
         },
         "mode": "markers",
         "name": "Contigs",
         "opacity": 0.4,
         "r": [
          11,
          12,
          2,
          5,
          6,
          4,
          7,
          9,
          3,
          8,
          1,
          10
         ],
         "showlegend": true,
         "subplot": "polar",
         "theta": [
          "ABySS",
          "BCALM2",
          "GATBMiniaPipeline",
          "IDBA-UD",
          "MEGAHIT",
          "MetaHipMer2",
          "metaSPAdes",
          "MINIA",
          "SKESA",
          "SPAdes",
          "Unicycler",
          "VelvetOptimiser"
         ],
         "type": "scatterpolar"
        },
        {
         "marker": {
          "color": "#5876c8",
          "line": {
           "color": "black",
           "width": 2
          },
          "size": 12
         },
         "mode": "markers",
         "name": "Contigs",
         "opacity": 0.4,
         "r": [
          3,
          4,
          5,
          7,
          9,
          12,
          10,
          6,
          8,
          11,
          1,
          2
         ],
         "showlegend": false,
         "subplot": "polar2",
         "theta": [
          "ABySS",
          "BCALM2",
          "GATBMiniaPipeline",
          "IDBA-UD",
          "MEGAHIT",
          "MetaHipMer2",
          "metaSPAdes",
          "MINIA",
          "SKESA",
          "SPAdes",
          "Unicycler",
          "VelvetOptimiser"
         ],
         "type": "scatterpolar"
        },
        {
         "marker": {
          "color": "#009392",
          "line": {
           "color": "black",
           "width": 2
          },
          "size": 12
         },
         "mode": "markers",
         "name": "Basepairs",
         "opacity": 0.4,
         "r": [
          11,
          12,
          4,
          6,
          7,
          3,
          8,
          5,
          1,
          9,
          2,
          10
         ],
         "showlegend": true,
         "subplot": "polar",
         "theta": [
          "ABySS",
          "BCALM2",
          "GATBMiniaPipeline",
          "IDBA-UD",
          "MEGAHIT",
          "MetaHipMer2",
          "metaSPAdes",
          "MINIA",
          "SKESA",
          "SPAdes",
          "Unicycler",
          "VelvetOptimiser"
         ],
         "type": "scatterpolar"
        },
        {
         "marker": {
          "color": "#009392",
          "line": {
           "color": "black",
           "width": 2
          },
          "size": 12
         },
         "mode": "markers",
         "name": "Basepairs",
         "opacity": 0.4,
         "r": [
          3,
          2,
          8,
          9,
          10,
          6,
          11,
          7,
          4,
          12,
          5,
          1
         ],
         "showlegend": false,
         "subplot": "polar2",
         "theta": [
          "ABySS",
          "BCALM2",
          "GATBMiniaPipeline",
          "IDBA-UD",
          "MEGAHIT",
          "MetaHipMer2",
          "metaSPAdes",
          "MINIA",
          "SKESA",
          "SPAdes",
          "Unicycler",
          "VelvetOptimiser"
         ],
         "type": "scatterpolar"
        },
        {
         "marker": {
          "color": "#9CCB86",
          "line": {
           "color": "black",
           "width": 2
          },
          "size": 12
         },
         "mode": "markers",
         "name": "Largest contig",
         "opacity": 0.4,
         "r": [
          8,
          11,
          6,
          4,
          3,
          10,
          5,
          7,
          9,
          1,
          2,
          12
         ],
         "showlegend": true,
         "subplot": "polar",
         "theta": [
          "ABySS",
          "BCALM2",
          "GATBMiniaPipeline",
          "IDBA-UD",
          "MEGAHIT",
          "MetaHipMer2",
          "metaSPAdes",
          "MINIA",
          "SKESA",
          "SPAdes",
          "Unicycler",
          "VelvetOptimiser"
         ],
         "type": "scatterpolar"
        },
        {
         "marker": {
          "color": "#EEB479",
          "line": {
           "color": "black",
           "width": 2
          },
          "size": 12
         },
         "mode": "markers",
         "name": "N50",
         "opacity": 0.4,
         "r": [
          10,
          12,
          3,
          4,
          2,
          8,
          6,
          5,
          9,
          7,
          1,
          11
         ],
         "showlegend": true,
         "subplot": "polar",
         "theta": [
          "ABySS",
          "BCALM2",
          "GATBMiniaPipeline",
          "IDBA-UD",
          "MEGAHIT",
          "MetaHipMer2",
          "metaSPAdes",
          "MINIA",
          "SKESA",
          "SPAdes",
          "Unicycler",
          "VelvetOptimiser"
         ],
         "type": "scatterpolar"
        },
        {
         "marker": {
          "color": "#EEB479",
          "line": {
           "color": "black",
           "width": 2
          },
          "size": 12
         },
         "mode": "markers",
         "name": "N50",
         "opacity": 0.4,
         "r": [
          7,
          11,
          4,
          3,
          2,
          9,
          5,
          8,
          10,
          6,
          1,
          12
         ],
         "showlegend": false,
         "subplot": "polar2",
         "theta": [
          "ABySS",
          "BCALM2",
          "GATBMiniaPipeline",
          "IDBA-UD",
          "MEGAHIT",
          "MetaHipMer2",
          "metaSPAdes",
          "MINIA",
          "SKESA",
          "SPAdes",
          "Unicycler",
          "VelvetOptimiser"
         ],
         "type": "scatterpolar"
        },
        {
         "marker": {
          "color": "#E88471",
          "line": {
           "color": "black",
           "width": 2
          },
          "size": 12
         },
         "mode": "markers",
         "name": "% Mapped reads",
         "opacity": 0.4,
         "r": [
          1,
          11,
          5,
          3,
          4,
          9,
          2,
          7,
          10,
          8,
          6,
          12
         ],
         "showlegend": true,
         "subplot": "polar",
         "theta": [
          "ABySS",
          "BCALM2",
          "GATBMiniaPipeline",
          "IDBA-UD",
          "MEGAHIT",
          "MetaHipMer2",
          "metaSPAdes",
          "MINIA",
          "SKESA",
          "SPAdes",
          "Unicycler",
          "VelvetOptimiser"
         ],
         "type": "scatterpolar"
        },
        {
         "marker": {
          "color": "#E88471",
          "line": {
           "color": "black",
           "width": 2
          },
          "size": 12
         },
         "mode": "markers",
         "name": "% Mapped reads",
         "opacity": 0.4,
         "r": [
          7,
          11,
          4,
          3,
          1,
          8,
          2,
          6,
          9,
          10,
          5,
          12
         ],
         "showlegend": false,
         "subplot": "polar2",
         "theta": [
          "ABySS",
          "BCALM2",
          "GATBMiniaPipeline",
          "IDBA-UD",
          "MEGAHIT",
          "MetaHipMer2",
          "metaSPAdes",
          "MINIA",
          "SKESA",
          "SPAdes",
          "Unicycler",
          "VelvetOptimiser"
         ],
         "type": "scatterpolar"
        },
        {
         "marker": {
          "color": "#CF597E",
          "line": {
           "color": "black",
           "width": 2
          },
          "size": 12
         },
         "mode": "markers",
         "name": "Uncalled bases",
         "opacity": 0.4,
         "r": [
          12,
          1,
          1,
          1,
          1,
          1,
          1,
          1,
          1,
          1,
          1,
          1
         ],
         "showlegend": true,
         "subplot": "polar",
         "theta": [
          "ABySS",
          "BCALM2",
          "GATBMiniaPipeline",
          "IDBA-UD",
          "MEGAHIT",
          "MetaHipMer2",
          "metaSPAdes",
          "MINIA",
          "SKESA",
          "SPAdes",
          "Unicycler",
          "VelvetOptimiser"
         ],
         "type": "scatterpolar"
        },
        {
         "marker": {
          "color": "#CF597E",
          "line": {
           "color": "black",
           "width": 2
          },
          "size": 12
         },
         "mode": "markers",
         "name": "Uncalled bases",
         "opacity": 0.4,
         "r": [
          1,
          1,
          1,
          1,
          1,
          1,
          1,
          1,
          1,
          1,
          1,
          1
         ],
         "showlegend": false,
         "subplot": "polar2",
         "theta": [
          "ABySS",
          "BCALM2",
          "GATBMiniaPipeline",
          "IDBA-UD",
          "MEGAHIT",
          "MetaHipMer2",
          "metaSPAdes",
          "MINIA",
          "SKESA",
          "SPAdes",
          "Unicycler",
          "VelvetOptimiser"
         ],
         "type": "scatterpolar"
        },
        {
         "marker": {
          "color": "#a54765",
          "line": {
           "color": "black",
           "width": 2
          },
          "size": 12
         },
         "mode": "markers",
         "name": "Misassembled contigs",
         "opacity": 0.4,
         "r": [
          1,
          1,
          1,
          10,
          8,
          1,
          10,
          9,
          1,
          12,
          1,
          1
         ],
         "showlegend": true,
         "subplot": "polar2",
         "theta": [
          "ABySS",
          "BCALM2",
          "GATBMiniaPipeline",
          "IDBA-UD",
          "MEGAHIT",
          "MetaHipMer2",
          "metaSPAdes",
          "MINIA",
          "SKESA",
          "SPAdes",
          "Unicycler",
          "VelvetOptimiser"
         ],
         "type": "scatterpolar"
        },
        {
         "marker": {
          "color": "#835221",
          "line": {
           "color": "black",
           "width": 2
          },
          "size": 12
         },
         "mode": "markers",
         "name": "Misassembly events",
         "opacity": 0.4,
         "r": [
          1,
          1,
          1,
          10,
          8,
          1,
          11,
          9,
          1,
          12,
          1,
          1
         ],
         "showlegend": true,
         "subplot": "polar2",
         "theta": [
          "ABySS",
          "BCALM2",
          "GATBMiniaPipeline",
          "IDBA-UD",
          "MEGAHIT",
          "MetaHipMer2",
          "metaSPAdes",
          "MINIA",
          "SKESA",
          "SPAdes",
          "Unicycler",
          "VelvetOptimiser"
         ],
         "type": "scatterpolar"
        }
       ],
       "layout": {
        "annotations": [
         {
          "font": {
           "size": 16
          },
          "showarrow": false,
          "text": "Original",
          "x": 0.225,
          "xanchor": "center",
          "xref": "paper",
          "y": 1,
          "yanchor": "bottom",
          "yref": "paper"
         },
         {
          "font": {
           "size": 16
          },
          "showarrow": false,
          "text": "Filtered",
          "x": 0.775,
          "xanchor": "center",
          "xref": "paper",
          "y": 1,
          "yanchor": "bottom",
          "yref": "paper"
         }
        ],
        "polar": {
         "angularaxis": {
          "categoryarray": [
           "ABySS",
           "BCALM2",
           "GATBMiniaPipeline",
           "IDBA-UD",
           "MEGAHIT",
           "MetaHipMer2",
           "metaSPAdes",
           "MINIA",
           "SKESA",
           "SPAdes",
           "Unicycler",
           "VelvetOptimiser",
           " "
          ],
          "linecolor": "black"
         },
         "bgcolor": "rgb(255,255,255)",
         "domain": {
          "x": [
           0,
           0.45
          ],
          "y": [
           0,
           1
          ]
         },
         "hole": 0.08333333333333333,
         "radialaxis": {
          "angle": -22.5,
          "autorange": "reversed",
          "gridcolor": "#DCDCDC",
          "linecolor": "black",
          "linewidth": 2,
          "range": [
           1,
           12
          ],
          "visible": true
         }
        },
        "polar2": {
         "angularaxis": {
          "categoryarray": [
           "ABySS",
           "BCALM2",
           "GATBMiniaPipeline",
           "IDBA-UD",
           "MEGAHIT",
           "MetaHipMer2",
           "metaSPAdes",
           "MINIA",
           "SKESA",
           "SPAdes",
           "Unicycler",
           "VelvetOptimiser",
           " "
          ],
          "linecolor": "black"
         },
         "bgcolor": "rgb(255,255,255)",
         "domain": {
          "x": [
           0.55,
           1
          ],
          "y": [
           0,
           1
          ]
         },
         "hole": 0.08333333333333333,
         "radialaxis": {
          "angle": -22.5,
          "autorange": "reversed",
          "gridcolor": "#DCDCDC",
          "linecolor": "black",
          "linewidth": 2,
          "range": [
           1,
           12
          ],
          "visible": true
         }
        },
        "template": {
         "data": {
          "bar": [
           {
            "error_x": {
             "color": "#2a3f5f"
            },
            "error_y": {
             "color": "#2a3f5f"
            },
            "marker": {
             "line": {
              "color": "#E5ECF6",
              "width": 0.5
             },
             "pattern": {
              "fillmode": "overlay",
              "size": 10,
              "solidity": 0.2
             }
            },
            "type": "bar"
           }
          ],
          "barpolar": [
           {
            "marker": {
             "line": {
              "color": "#E5ECF6",
              "width": 0.5
             },
             "pattern": {
              "fillmode": "overlay",
              "size": 10,
              "solidity": 0.2
             }
            },
            "type": "barpolar"
           }
          ],
          "carpet": [
           {
            "aaxis": {
             "endlinecolor": "#2a3f5f",
             "gridcolor": "white",
             "linecolor": "white",
             "minorgridcolor": "white",
             "startlinecolor": "#2a3f5f"
            },
            "baxis": {
             "endlinecolor": "#2a3f5f",
             "gridcolor": "white",
             "linecolor": "white",
             "minorgridcolor": "white",
             "startlinecolor": "#2a3f5f"
            },
            "type": "carpet"
           }
          ],
          "choropleth": [
           {
            "colorbar": {
             "outlinewidth": 0,
             "ticks": ""
            },
            "type": "choropleth"
           }
          ],
          "contour": [
           {
            "colorbar": {
             "outlinewidth": 0,
             "ticks": ""
            },
            "colorscale": [
             [
              0,
              "#0d0887"
             ],
             [
              0.1111111111111111,
              "#46039f"
             ],
             [
              0.2222222222222222,
              "#7201a8"
             ],
             [
              0.3333333333333333,
              "#9c179e"
             ],
             [
              0.4444444444444444,
              "#bd3786"
             ],
             [
              0.5555555555555556,
              "#d8576b"
             ],
             [
              0.6666666666666666,
              "#ed7953"
             ],
             [
              0.7777777777777778,
              "#fb9f3a"
             ],
             [
              0.8888888888888888,
              "#fdca26"
             ],
             [
              1,
              "#f0f921"
             ]
            ],
            "type": "contour"
           }
          ],
          "contourcarpet": [
           {
            "colorbar": {
             "outlinewidth": 0,
             "ticks": ""
            },
            "type": "contourcarpet"
           }
          ],
          "heatmap": [
           {
            "colorbar": {
             "outlinewidth": 0,
             "ticks": ""
            },
            "colorscale": [
             [
              0,
              "#0d0887"
             ],
             [
              0.1111111111111111,
              "#46039f"
             ],
             [
              0.2222222222222222,
              "#7201a8"
             ],
             [
              0.3333333333333333,
              "#9c179e"
             ],
             [
              0.4444444444444444,
              "#bd3786"
             ],
             [
              0.5555555555555556,
              "#d8576b"
             ],
             [
              0.6666666666666666,
              "#ed7953"
             ],
             [
              0.7777777777777778,
              "#fb9f3a"
             ],
             [
              0.8888888888888888,
              "#fdca26"
             ],
             [
              1,
              "#f0f921"
             ]
            ],
            "type": "heatmap"
           }
          ],
          "heatmapgl": [
           {
            "colorbar": {
             "outlinewidth": 0,
             "ticks": ""
            },
            "colorscale": [
             [
              0,
              "#0d0887"
             ],
             [
              0.1111111111111111,
              "#46039f"
             ],
             [
              0.2222222222222222,
              "#7201a8"
             ],
             [
              0.3333333333333333,
              "#9c179e"
             ],
             [
              0.4444444444444444,
              "#bd3786"
             ],
             [
              0.5555555555555556,
              "#d8576b"
             ],
             [
              0.6666666666666666,
              "#ed7953"
             ],
             [
              0.7777777777777778,
              "#fb9f3a"
             ],
             [
              0.8888888888888888,
              "#fdca26"
             ],
             [
              1,
              "#f0f921"
             ]
            ],
            "type": "heatmapgl"
           }
          ],
          "histogram": [
           {
            "marker": {
             "pattern": {
              "fillmode": "overlay",
              "size": 10,
              "solidity": 0.2
             }
            },
            "type": "histogram"
           }
          ],
          "histogram2d": [
           {
            "colorbar": {
             "outlinewidth": 0,
             "ticks": ""
            },
            "colorscale": [
             [
              0,
              "#0d0887"
             ],
             [
              0.1111111111111111,
              "#46039f"
             ],
             [
              0.2222222222222222,
              "#7201a8"
             ],
             [
              0.3333333333333333,
              "#9c179e"
             ],
             [
              0.4444444444444444,
              "#bd3786"
             ],
             [
              0.5555555555555556,
              "#d8576b"
             ],
             [
              0.6666666666666666,
              "#ed7953"
             ],
             [
              0.7777777777777778,
              "#fb9f3a"
             ],
             [
              0.8888888888888888,
              "#fdca26"
             ],
             [
              1,
              "#f0f921"
             ]
            ],
            "type": "histogram2d"
           }
          ],
          "histogram2dcontour": [
           {
            "colorbar": {
             "outlinewidth": 0,
             "ticks": ""
            },
            "colorscale": [
             [
              0,
              "#0d0887"
             ],
             [
              0.1111111111111111,
              "#46039f"
             ],
             [
              0.2222222222222222,
              "#7201a8"
             ],
             [
              0.3333333333333333,
              "#9c179e"
             ],
             [
              0.4444444444444444,
              "#bd3786"
             ],
             [
              0.5555555555555556,
              "#d8576b"
             ],
             [
              0.6666666666666666,
              "#ed7953"
             ],
             [
              0.7777777777777778,
              "#fb9f3a"
             ],
             [
              0.8888888888888888,
              "#fdca26"
             ],
             [
              1,
              "#f0f921"
             ]
            ],
            "type": "histogram2dcontour"
           }
          ],
          "mesh3d": [
           {
            "colorbar": {
             "outlinewidth": 0,
             "ticks": ""
            },
            "type": "mesh3d"
           }
          ],
          "parcoords": [
           {
            "line": {
             "colorbar": {
              "outlinewidth": 0,
              "ticks": ""
             }
            },
            "type": "parcoords"
           }
          ],
          "pie": [
           {
            "automargin": true,
            "type": "pie"
           }
          ],
          "scatter": [
           {
            "marker": {
             "colorbar": {
              "outlinewidth": 0,
              "ticks": ""
             }
            },
            "type": "scatter"
           }
          ],
          "scatter3d": [
           {
            "line": {
             "colorbar": {
              "outlinewidth": 0,
              "ticks": ""
             }
            },
            "marker": {
             "colorbar": {
              "outlinewidth": 0,
              "ticks": ""
             }
            },
            "type": "scatter3d"
           }
          ],
          "scattercarpet": [
           {
            "marker": {
             "colorbar": {
              "outlinewidth": 0,
              "ticks": ""
             }
            },
            "type": "scattercarpet"
           }
          ],
          "scattergeo": [
           {
            "marker": {
             "colorbar": {
              "outlinewidth": 0,
              "ticks": ""
             }
            },
            "type": "scattergeo"
           }
          ],
          "scattergl": [
           {
            "marker": {
             "colorbar": {
              "outlinewidth": 0,
              "ticks": ""
             }
            },
            "type": "scattergl"
           }
          ],
          "scattermapbox": [
           {
            "marker": {
             "colorbar": {
              "outlinewidth": 0,
              "ticks": ""
             }
            },
            "type": "scattermapbox"
           }
          ],
          "scatterpolar": [
           {
            "marker": {
             "colorbar": {
              "outlinewidth": 0,
              "ticks": ""
             }
            },
            "type": "scatterpolar"
           }
          ],
          "scatterpolargl": [
           {
            "marker": {
             "colorbar": {
              "outlinewidth": 0,
              "ticks": ""
             }
            },
            "type": "scatterpolargl"
           }
          ],
          "scatterternary": [
           {
            "marker": {
             "colorbar": {
              "outlinewidth": 0,
              "ticks": ""
             }
            },
            "type": "scatterternary"
           }
          ],
          "surface": [
           {
            "colorbar": {
             "outlinewidth": 0,
             "ticks": ""
            },
            "colorscale": [
             [
              0,
              "#0d0887"
             ],
             [
              0.1111111111111111,
              "#46039f"
             ],
             [
              0.2222222222222222,
              "#7201a8"
             ],
             [
              0.3333333333333333,
              "#9c179e"
             ],
             [
              0.4444444444444444,
              "#bd3786"
             ],
             [
              0.5555555555555556,
              "#d8576b"
             ],
             [
              0.6666666666666666,
              "#ed7953"
             ],
             [
              0.7777777777777778,
              "#fb9f3a"
             ],
             [
              0.8888888888888888,
              "#fdca26"
             ],
             [
              1,
              "#f0f921"
             ]
            ],
            "type": "surface"
           }
          ],
          "table": [
           {
            "cells": {
             "fill": {
              "color": "#EBF0F8"
             },
             "line": {
              "color": "white"
             }
            },
            "header": {
             "fill": {
              "color": "#C8D4E3"
             },
             "line": {
              "color": "white"
             }
            },
            "type": "table"
           }
          ]
         },
         "layout": {
          "annotationdefaults": {
           "arrowcolor": "#2a3f5f",
           "arrowhead": 0,
           "arrowwidth": 1
          },
          "autotypenumbers": "strict",
          "coloraxis": {
           "colorbar": {
            "outlinewidth": 0,
            "ticks": ""
           }
          },
          "colorscale": {
           "diverging": [
            [
             0,
             "#8e0152"
            ],
            [
             0.1,
             "#c51b7d"
            ],
            [
             0.2,
             "#de77ae"
            ],
            [
             0.3,
             "#f1b6da"
            ],
            [
             0.4,
             "#fde0ef"
            ],
            [
             0.5,
             "#f7f7f7"
            ],
            [
             0.6,
             "#e6f5d0"
            ],
            [
             0.7,
             "#b8e186"
            ],
            [
             0.8,
             "#7fbc41"
            ],
            [
             0.9,
             "#4d9221"
            ],
            [
             1,
             "#276419"
            ]
           ],
           "sequential": [
            [
             0,
             "#0d0887"
            ],
            [
             0.1111111111111111,
             "#46039f"
            ],
            [
             0.2222222222222222,
             "#7201a8"
            ],
            [
             0.3333333333333333,
             "#9c179e"
            ],
            [
             0.4444444444444444,
             "#bd3786"
            ],
            [
             0.5555555555555556,
             "#d8576b"
            ],
            [
             0.6666666666666666,
             "#ed7953"
            ],
            [
             0.7777777777777778,
             "#fb9f3a"
            ],
            [
             0.8888888888888888,
             "#fdca26"
            ],
            [
             1,
             "#f0f921"
            ]
           ],
           "sequentialminus": [
            [
             0,
             "#0d0887"
            ],
            [
             0.1111111111111111,
             "#46039f"
            ],
            [
             0.2222222222222222,
             "#7201a8"
            ],
            [
             0.3333333333333333,
             "#9c179e"
            ],
            [
             0.4444444444444444,
             "#bd3786"
            ],
            [
             0.5555555555555556,
             "#d8576b"
            ],
            [
             0.6666666666666666,
             "#ed7953"
            ],
            [
             0.7777777777777778,
             "#fb9f3a"
            ],
            [
             0.8888888888888888,
             "#fdca26"
            ],
            [
             1,
             "#f0f921"
            ]
           ]
          },
          "colorway": [
           "#636efa",
           "#EF553B",
           "#00cc96",
           "#ab63fa",
           "#FFA15A",
           "#19d3f3",
           "#FF6692",
           "#B6E880",
           "#FF97FF",
           "#FECB52"
          ],
          "font": {
           "color": "#2a3f5f"
          },
          "geo": {
           "bgcolor": "white",
           "lakecolor": "white",
           "landcolor": "#E5ECF6",
           "showlakes": true,
           "showland": true,
           "subunitcolor": "white"
          },
          "hoverlabel": {
           "align": "left"
          },
          "hovermode": "closest",
          "mapbox": {
           "style": "light"
          },
          "paper_bgcolor": "white",
          "plot_bgcolor": "#E5ECF6",
          "polar": {
           "angularaxis": {
            "gridcolor": "white",
            "linecolor": "white",
            "ticks": ""
           },
           "bgcolor": "#E5ECF6",
           "radialaxis": {
            "gridcolor": "white",
            "linecolor": "white",
            "ticks": ""
           }
          },
          "scene": {
           "xaxis": {
            "backgroundcolor": "#E5ECF6",
            "gridcolor": "white",
            "gridwidth": 2,
            "linecolor": "white",
            "showbackground": true,
            "ticks": "",
            "zerolinecolor": "white"
           },
           "yaxis": {
            "backgroundcolor": "#E5ECF6",
            "gridcolor": "white",
            "gridwidth": 2,
            "linecolor": "white",
            "showbackground": true,
            "ticks": "",
            "zerolinecolor": "white"
           },
           "zaxis": {
            "backgroundcolor": "#E5ECF6",
            "gridcolor": "white",
            "gridwidth": 2,
            "linecolor": "white",
            "showbackground": true,
            "ticks": "",
            "zerolinecolor": "white"
           }
          },
          "shapedefaults": {
           "line": {
            "color": "#2a3f5f"
           }
          },
          "ternary": {
           "aaxis": {
            "gridcolor": "white",
            "linecolor": "white",
            "ticks": ""
           },
           "baxis": {
            "gridcolor": "white",
            "linecolor": "white",
            "ticks": ""
           },
           "bgcolor": "#E5ECF6",
           "caxis": {
            "gridcolor": "white",
            "linecolor": "white",
            "ticks": ""
           }
          },
          "title": {
           "x": 0.05
          },
          "xaxis": {
           "automargin": true,
           "gridcolor": "white",
           "linecolor": "white",
           "ticks": "",
           "title": {
            "standoff": 15
           },
           "zerolinecolor": "white",
           "zerolinewidth": 2
          },
          "yaxis": {
           "automargin": true,
           "gridcolor": "white",
           "linecolor": "white",
           "ticks": "",
           "title": {
            "standoff": 15
           },
           "zerolinecolor": "white",
           "zerolinewidth": 2
          }
         }
        },
        "title": {
         "text": "ERR2935805"
        }
       }
      },
      "text/html": [
       "<div>                            <div id=\"4c7aff07-802b-40fb-b281-3834860c2f0d\" class=\"plotly-graph-div\" style=\"height:525px; width:100%;\"></div>            <script type=\"text/javascript\">                require([\"plotly\"], function(Plotly) {                    window.PLOTLYENV=window.PLOTLYENV || {};                                    if (document.getElementById(\"4c7aff07-802b-40fb-b281-3834860c2f0d\")) {                    Plotly.newPlot(                        \"4c7aff07-802b-40fb-b281-3834860c2f0d\",                        [{\"marker\":{\"color\":\"#5876c8\",\"line\":{\"color\":\"black\",\"width\":2},\"size\":12},\"mode\":\"markers\",\"name\":\"Contigs\",\"opacity\":0.4,\"r\":[11,12,2,5,6,4,7,9,3,8,1,10],\"showlegend\":true,\"subplot\":\"polar\",\"theta\":[\"ABySS\",\"BCALM2\",\"GATBMiniaPipeline\",\"IDBA-UD\",\"MEGAHIT\",\"MetaHipMer2\",\"metaSPAdes\",\"MINIA\",\"SKESA\",\"SPAdes\",\"Unicycler\",\"VelvetOptimiser\"],\"type\":\"scatterpolar\"},{\"marker\":{\"color\":\"#5876c8\",\"line\":{\"color\":\"black\",\"width\":2},\"size\":12},\"mode\":\"markers\",\"name\":\"Contigs\",\"opacity\":0.4,\"r\":[3,4,5,7,9,12,10,6,8,11,1,2],\"showlegend\":false,\"subplot\":\"polar2\",\"theta\":[\"ABySS\",\"BCALM2\",\"GATBMiniaPipeline\",\"IDBA-UD\",\"MEGAHIT\",\"MetaHipMer2\",\"metaSPAdes\",\"MINIA\",\"SKESA\",\"SPAdes\",\"Unicycler\",\"VelvetOptimiser\"],\"type\":\"scatterpolar\"},{\"marker\":{\"color\":\"#009392\",\"line\":{\"color\":\"black\",\"width\":2},\"size\":12},\"mode\":\"markers\",\"name\":\"Basepairs\",\"opacity\":0.4,\"r\":[11,12,4,6,7,3,8,5,1,9,2,10],\"showlegend\":true,\"subplot\":\"polar\",\"theta\":[\"ABySS\",\"BCALM2\",\"GATBMiniaPipeline\",\"IDBA-UD\",\"MEGAHIT\",\"MetaHipMer2\",\"metaSPAdes\",\"MINIA\",\"SKESA\",\"SPAdes\",\"Unicycler\",\"VelvetOptimiser\"],\"type\":\"scatterpolar\"},{\"marker\":{\"color\":\"#009392\",\"line\":{\"color\":\"black\",\"width\":2},\"size\":12},\"mode\":\"markers\",\"name\":\"Basepairs\",\"opacity\":0.4,\"r\":[3,2,8,9,10,6,11,7,4,12,5,1],\"showlegend\":false,\"subplot\":\"polar2\",\"theta\":[\"ABySS\",\"BCALM2\",\"GATBMiniaPipeline\",\"IDBA-UD\",\"MEGAHIT\",\"MetaHipMer2\",\"metaSPAdes\",\"MINIA\",\"SKESA\",\"SPAdes\",\"Unicycler\",\"VelvetOptimiser\"],\"type\":\"scatterpolar\"},{\"marker\":{\"color\":\"#9CCB86\",\"line\":{\"color\":\"black\",\"width\":2},\"size\":12},\"mode\":\"markers\",\"name\":\"Largest contig\",\"opacity\":0.4,\"r\":[8,11,6,4,3,10,5,7,9,1,2,12],\"showlegend\":true,\"subplot\":\"polar\",\"theta\":[\"ABySS\",\"BCALM2\",\"GATBMiniaPipeline\",\"IDBA-UD\",\"MEGAHIT\",\"MetaHipMer2\",\"metaSPAdes\",\"MINIA\",\"SKESA\",\"SPAdes\",\"Unicycler\",\"VelvetOptimiser\"],\"type\":\"scatterpolar\"},{\"marker\":{\"color\":\"#EEB479\",\"line\":{\"color\":\"black\",\"width\":2},\"size\":12},\"mode\":\"markers\",\"name\":\"N50\",\"opacity\":0.4,\"r\":[10,12,3,4,2,8,6,5,9,7,1,11],\"showlegend\":true,\"subplot\":\"polar\",\"theta\":[\"ABySS\",\"BCALM2\",\"GATBMiniaPipeline\",\"IDBA-UD\",\"MEGAHIT\",\"MetaHipMer2\",\"metaSPAdes\",\"MINIA\",\"SKESA\",\"SPAdes\",\"Unicycler\",\"VelvetOptimiser\"],\"type\":\"scatterpolar\"},{\"marker\":{\"color\":\"#EEB479\",\"line\":{\"color\":\"black\",\"width\":2},\"size\":12},\"mode\":\"markers\",\"name\":\"N50\",\"opacity\":0.4,\"r\":[7,11,4,3,2,9,5,8,10,6,1,12],\"showlegend\":false,\"subplot\":\"polar2\",\"theta\":[\"ABySS\",\"BCALM2\",\"GATBMiniaPipeline\",\"IDBA-UD\",\"MEGAHIT\",\"MetaHipMer2\",\"metaSPAdes\",\"MINIA\",\"SKESA\",\"SPAdes\",\"Unicycler\",\"VelvetOptimiser\"],\"type\":\"scatterpolar\"},{\"marker\":{\"color\":\"#E88471\",\"line\":{\"color\":\"black\",\"width\":2},\"size\":12},\"mode\":\"markers\",\"name\":\"% Mapped reads\",\"opacity\":0.4,\"r\":[1,11,5,3,4,9,2,7,10,8,6,12],\"showlegend\":true,\"subplot\":\"polar\",\"theta\":[\"ABySS\",\"BCALM2\",\"GATBMiniaPipeline\",\"IDBA-UD\",\"MEGAHIT\",\"MetaHipMer2\",\"metaSPAdes\",\"MINIA\",\"SKESA\",\"SPAdes\",\"Unicycler\",\"VelvetOptimiser\"],\"type\":\"scatterpolar\"},{\"marker\":{\"color\":\"#E88471\",\"line\":{\"color\":\"black\",\"width\":2},\"size\":12},\"mode\":\"markers\",\"name\":\"% Mapped reads\",\"opacity\":0.4,\"r\":[7,11,4,3,1,8,2,6,9,10,5,12],\"showlegend\":false,\"subplot\":\"polar2\",\"theta\":[\"ABySS\",\"BCALM2\",\"GATBMiniaPipeline\",\"IDBA-UD\",\"MEGAHIT\",\"MetaHipMer2\",\"metaSPAdes\",\"MINIA\",\"SKESA\",\"SPAdes\",\"Unicycler\",\"VelvetOptimiser\"],\"type\":\"scatterpolar\"},{\"marker\":{\"color\":\"#CF597E\",\"line\":{\"color\":\"black\",\"width\":2},\"size\":12},\"mode\":\"markers\",\"name\":\"Uncalled bases\",\"opacity\":0.4,\"r\":[12,1,1,1,1,1,1,1,1,1,1,1],\"showlegend\":true,\"subplot\":\"polar\",\"theta\":[\"ABySS\",\"BCALM2\",\"GATBMiniaPipeline\",\"IDBA-UD\",\"MEGAHIT\",\"MetaHipMer2\",\"metaSPAdes\",\"MINIA\",\"SKESA\",\"SPAdes\",\"Unicycler\",\"VelvetOptimiser\"],\"type\":\"scatterpolar\"},{\"marker\":{\"color\":\"#CF597E\",\"line\":{\"color\":\"black\",\"width\":2},\"size\":12},\"mode\":\"markers\",\"name\":\"Uncalled bases\",\"opacity\":0.4,\"r\":[1,1,1,1,1,1,1,1,1,1,1,1],\"showlegend\":false,\"subplot\":\"polar2\",\"theta\":[\"ABySS\",\"BCALM2\",\"GATBMiniaPipeline\",\"IDBA-UD\",\"MEGAHIT\",\"MetaHipMer2\",\"metaSPAdes\",\"MINIA\",\"SKESA\",\"SPAdes\",\"Unicycler\",\"VelvetOptimiser\"],\"type\":\"scatterpolar\"},{\"marker\":{\"color\":\"#a54765\",\"line\":{\"color\":\"black\",\"width\":2},\"size\":12},\"mode\":\"markers\",\"name\":\"Misassembled contigs\",\"opacity\":0.4,\"r\":[1,1,1,10,8,1,10,9,1,12,1,1],\"showlegend\":true,\"subplot\":\"polar2\",\"theta\":[\"ABySS\",\"BCALM2\",\"GATBMiniaPipeline\",\"IDBA-UD\",\"MEGAHIT\",\"MetaHipMer2\",\"metaSPAdes\",\"MINIA\",\"SKESA\",\"SPAdes\",\"Unicycler\",\"VelvetOptimiser\"],\"type\":\"scatterpolar\"},{\"marker\":{\"color\":\"#835221\",\"line\":{\"color\":\"black\",\"width\":2},\"size\":12},\"mode\":\"markers\",\"name\":\"Misassembly events\",\"opacity\":0.4,\"r\":[1,1,1,10,8,1,11,9,1,12,1,1],\"showlegend\":true,\"subplot\":\"polar2\",\"theta\":[\"ABySS\",\"BCALM2\",\"GATBMiniaPipeline\",\"IDBA-UD\",\"MEGAHIT\",\"MetaHipMer2\",\"metaSPAdes\",\"MINIA\",\"SKESA\",\"SPAdes\",\"Unicycler\",\"VelvetOptimiser\"],\"type\":\"scatterpolar\"}],                        {\"annotations\":[{\"font\":{\"size\":16},\"showarrow\":false,\"text\":\"Original\",\"x\":0.225,\"xanchor\":\"center\",\"xref\":\"paper\",\"y\":1.0,\"yanchor\":\"bottom\",\"yref\":\"paper\"},{\"font\":{\"size\":16},\"showarrow\":false,\"text\":\"Filtered\",\"x\":0.775,\"xanchor\":\"center\",\"xref\":\"paper\",\"y\":1.0,\"yanchor\":\"bottom\",\"yref\":\"paper\"}],\"polar\":{\"angularaxis\":{\"categoryarray\":[\"ABySS\",\"BCALM2\",\"GATBMiniaPipeline\",\"IDBA-UD\",\"MEGAHIT\",\"MetaHipMer2\",\"metaSPAdes\",\"MINIA\",\"SKESA\",\"SPAdes\",\"Unicycler\",\"VelvetOptimiser\",\" \"],\"linecolor\":\"black\"},\"bgcolor\":\"rgb(255,255,255)\",\"domain\":{\"x\":[0.0,0.45],\"y\":[0.0,1.0]},\"hole\":0.08333333333333333,\"radialaxis\":{\"angle\":-22.5,\"autorange\":\"reversed\",\"gridcolor\":\"#DCDCDC\",\"linecolor\":\"black\",\"linewidth\":2,\"range\":[1,12],\"visible\":true}},\"polar2\":{\"angularaxis\":{\"categoryarray\":[\"ABySS\",\"BCALM2\",\"GATBMiniaPipeline\",\"IDBA-UD\",\"MEGAHIT\",\"MetaHipMer2\",\"metaSPAdes\",\"MINIA\",\"SKESA\",\"SPAdes\",\"Unicycler\",\"VelvetOptimiser\",\" \"],\"linecolor\":\"black\"},\"bgcolor\":\"rgb(255,255,255)\",\"domain\":{\"x\":[0.55,1.0],\"y\":[0.0,1.0]},\"hole\":0.08333333333333333,\"radialaxis\":{\"angle\":-22.5,\"autorange\":\"reversed\",\"gridcolor\":\"#DCDCDC\",\"linecolor\":\"black\",\"linewidth\":2,\"range\":[1,12],\"visible\":true}},\"template\":{\"data\":{\"bar\":[{\"error_x\":{\"color\":\"#2a3f5f\"},\"error_y\":{\"color\":\"#2a3f5f\"},\"marker\":{\"line\":{\"color\":\"#E5ECF6\",\"width\":0.5},\"pattern\":{\"fillmode\":\"overlay\",\"size\":10,\"solidity\":0.2}},\"type\":\"bar\"}],\"barpolar\":[{\"marker\":{\"line\":{\"color\":\"#E5ECF6\",\"width\":0.5},\"pattern\":{\"fillmode\":\"overlay\",\"size\":10,\"solidity\":0.2}},\"type\":\"barpolar\"}],\"carpet\":[{\"aaxis\":{\"endlinecolor\":\"#2a3f5f\",\"gridcolor\":\"white\",\"linecolor\":\"white\",\"minorgridcolor\":\"white\",\"startlinecolor\":\"#2a3f5f\"},\"baxis\":{\"endlinecolor\":\"#2a3f5f\",\"gridcolor\":\"white\",\"linecolor\":\"white\",\"minorgridcolor\":\"white\",\"startlinecolor\":\"#2a3f5f\"},\"type\":\"carpet\"}],\"choropleth\":[{\"colorbar\":{\"outlinewidth\":0,\"ticks\":\"\"},\"type\":\"choropleth\"}],\"contour\":[{\"colorbar\":{\"outlinewidth\":0,\"ticks\":\"\"},\"colorscale\":[[0.0,\"#0d0887\"],[0.1111111111111111,\"#46039f\"],[0.2222222222222222,\"#7201a8\"],[0.3333333333333333,\"#9c179e\"],[0.4444444444444444,\"#bd3786\"],[0.5555555555555556,\"#d8576b\"],[0.6666666666666666,\"#ed7953\"],[0.7777777777777778,\"#fb9f3a\"],[0.8888888888888888,\"#fdca26\"],[1.0,\"#f0f921\"]],\"type\":\"contour\"}],\"contourcarpet\":[{\"colorbar\":{\"outlinewidth\":0,\"ticks\":\"\"},\"type\":\"contourcarpet\"}],\"heatmap\":[{\"colorbar\":{\"outlinewidth\":0,\"ticks\":\"\"},\"colorscale\":[[0.0,\"#0d0887\"],[0.1111111111111111,\"#46039f\"],[0.2222222222222222,\"#7201a8\"],[0.3333333333333333,\"#9c179e\"],[0.4444444444444444,\"#bd3786\"],[0.5555555555555556,\"#d8576b\"],[0.6666666666666666,\"#ed7953\"],[0.7777777777777778,\"#fb9f3a\"],[0.8888888888888888,\"#fdca26\"],[1.0,\"#f0f921\"]],\"type\":\"heatmap\"}],\"heatmapgl\":[{\"colorbar\":{\"outlinewidth\":0,\"ticks\":\"\"},\"colorscale\":[[0.0,\"#0d0887\"],[0.1111111111111111,\"#46039f\"],[0.2222222222222222,\"#7201a8\"],[0.3333333333333333,\"#9c179e\"],[0.4444444444444444,\"#bd3786\"],[0.5555555555555556,\"#d8576b\"],[0.6666666666666666,\"#ed7953\"],[0.7777777777777778,\"#fb9f3a\"],[0.8888888888888888,\"#fdca26\"],[1.0,\"#f0f921\"]],\"type\":\"heatmapgl\"}],\"histogram\":[{\"marker\":{\"pattern\":{\"fillmode\":\"overlay\",\"size\":10,\"solidity\":0.2}},\"type\":\"histogram\"}],\"histogram2d\":[{\"colorbar\":{\"outlinewidth\":0,\"ticks\":\"\"},\"colorscale\":[[0.0,\"#0d0887\"],[0.1111111111111111,\"#46039f\"],[0.2222222222222222,\"#7201a8\"],[0.3333333333333333,\"#9c179e\"],[0.4444444444444444,\"#bd3786\"],[0.5555555555555556,\"#d8576b\"],[0.6666666666666666,\"#ed7953\"],[0.7777777777777778,\"#fb9f3a\"],[0.8888888888888888,\"#fdca26\"],[1.0,\"#f0f921\"]],\"type\":\"histogram2d\"}],\"histogram2dcontour\":[{\"colorbar\":{\"outlinewidth\":0,\"ticks\":\"\"},\"colorscale\":[[0.0,\"#0d0887\"],[0.1111111111111111,\"#46039f\"],[0.2222222222222222,\"#7201a8\"],[0.3333333333333333,\"#9c179e\"],[0.4444444444444444,\"#bd3786\"],[0.5555555555555556,\"#d8576b\"],[0.6666666666666666,\"#ed7953\"],[0.7777777777777778,\"#fb9f3a\"],[0.8888888888888888,\"#fdca26\"],[1.0,\"#f0f921\"]],\"type\":\"histogram2dcontour\"}],\"mesh3d\":[{\"colorbar\":{\"outlinewidth\":0,\"ticks\":\"\"},\"type\":\"mesh3d\"}],\"parcoords\":[{\"line\":{\"colorbar\":{\"outlinewidth\":0,\"ticks\":\"\"}},\"type\":\"parcoords\"}],\"pie\":[{\"automargin\":true,\"type\":\"pie\"}],\"scatter\":[{\"marker\":{\"colorbar\":{\"outlinewidth\":0,\"ticks\":\"\"}},\"type\":\"scatter\"}],\"scatter3d\":[{\"line\":{\"colorbar\":{\"outlinewidth\":0,\"ticks\":\"\"}},\"marker\":{\"colorbar\":{\"outlinewidth\":0,\"ticks\":\"\"}},\"type\":\"scatter3d\"}],\"scattercarpet\":[{\"marker\":{\"colorbar\":{\"outlinewidth\":0,\"ticks\":\"\"}},\"type\":\"scattercarpet\"}],\"scattergeo\":[{\"marker\":{\"colorbar\":{\"outlinewidth\":0,\"ticks\":\"\"}},\"type\":\"scattergeo\"}],\"scattergl\":[{\"marker\":{\"colorbar\":{\"outlinewidth\":0,\"ticks\":\"\"}},\"type\":\"scattergl\"}],\"scattermapbox\":[{\"marker\":{\"colorbar\":{\"outlinewidth\":0,\"ticks\":\"\"}},\"type\":\"scattermapbox\"}],\"scatterpolar\":[{\"marker\":{\"colorbar\":{\"outlinewidth\":0,\"ticks\":\"\"}},\"type\":\"scatterpolar\"}],\"scatterpolargl\":[{\"marker\":{\"colorbar\":{\"outlinewidth\":0,\"ticks\":\"\"}},\"type\":\"scatterpolargl\"}],\"scatterternary\":[{\"marker\":{\"colorbar\":{\"outlinewidth\":0,\"ticks\":\"\"}},\"type\":\"scatterternary\"}],\"surface\":[{\"colorbar\":{\"outlinewidth\":0,\"ticks\":\"\"},\"colorscale\":[[0.0,\"#0d0887\"],[0.1111111111111111,\"#46039f\"],[0.2222222222222222,\"#7201a8\"],[0.3333333333333333,\"#9c179e\"],[0.4444444444444444,\"#bd3786\"],[0.5555555555555556,\"#d8576b\"],[0.6666666666666666,\"#ed7953\"],[0.7777777777777778,\"#fb9f3a\"],[0.8888888888888888,\"#fdca26\"],[1.0,\"#f0f921\"]],\"type\":\"surface\"}],\"table\":[{\"cells\":{\"fill\":{\"color\":\"#EBF0F8\"},\"line\":{\"color\":\"white\"}},\"header\":{\"fill\":{\"color\":\"#C8D4E3\"},\"line\":{\"color\":\"white\"}},\"type\":\"table\"}]},\"layout\":{\"annotationdefaults\":{\"arrowcolor\":\"#2a3f5f\",\"arrowhead\":0,\"arrowwidth\":1},\"autotypenumbers\":\"strict\",\"coloraxis\":{\"colorbar\":{\"outlinewidth\":0,\"ticks\":\"\"}},\"colorscale\":{\"diverging\":[[0,\"#8e0152\"],[0.1,\"#c51b7d\"],[0.2,\"#de77ae\"],[0.3,\"#f1b6da\"],[0.4,\"#fde0ef\"],[0.5,\"#f7f7f7\"],[0.6,\"#e6f5d0\"],[0.7,\"#b8e186\"],[0.8,\"#7fbc41\"],[0.9,\"#4d9221\"],[1,\"#276419\"]],\"sequential\":[[0.0,\"#0d0887\"],[0.1111111111111111,\"#46039f\"],[0.2222222222222222,\"#7201a8\"],[0.3333333333333333,\"#9c179e\"],[0.4444444444444444,\"#bd3786\"],[0.5555555555555556,\"#d8576b\"],[0.6666666666666666,\"#ed7953\"],[0.7777777777777778,\"#fb9f3a\"],[0.8888888888888888,\"#fdca26\"],[1.0,\"#f0f921\"]],\"sequentialminus\":[[0.0,\"#0d0887\"],[0.1111111111111111,\"#46039f\"],[0.2222222222222222,\"#7201a8\"],[0.3333333333333333,\"#9c179e\"],[0.4444444444444444,\"#bd3786\"],[0.5555555555555556,\"#d8576b\"],[0.6666666666666666,\"#ed7953\"],[0.7777777777777778,\"#fb9f3a\"],[0.8888888888888888,\"#fdca26\"],[1.0,\"#f0f921\"]]},\"colorway\":[\"#636efa\",\"#EF553B\",\"#00cc96\",\"#ab63fa\",\"#FFA15A\",\"#19d3f3\",\"#FF6692\",\"#B6E880\",\"#FF97FF\",\"#FECB52\"],\"font\":{\"color\":\"#2a3f5f\"},\"geo\":{\"bgcolor\":\"white\",\"lakecolor\":\"white\",\"landcolor\":\"#E5ECF6\",\"showlakes\":true,\"showland\":true,\"subunitcolor\":\"white\"},\"hoverlabel\":{\"align\":\"left\"},\"hovermode\":\"closest\",\"mapbox\":{\"style\":\"light\"},\"paper_bgcolor\":\"white\",\"plot_bgcolor\":\"#E5ECF6\",\"polar\":{\"angularaxis\":{\"gridcolor\":\"white\",\"linecolor\":\"white\",\"ticks\":\"\"},\"bgcolor\":\"#E5ECF6\",\"radialaxis\":{\"gridcolor\":\"white\",\"linecolor\":\"white\",\"ticks\":\"\"}},\"scene\":{\"xaxis\":{\"backgroundcolor\":\"#E5ECF6\",\"gridcolor\":\"white\",\"gridwidth\":2,\"linecolor\":\"white\",\"showbackground\":true,\"ticks\":\"\",\"zerolinecolor\":\"white\"},\"yaxis\":{\"backgroundcolor\":\"#E5ECF6\",\"gridcolor\":\"white\",\"gridwidth\":2,\"linecolor\":\"white\",\"showbackground\":true,\"ticks\":\"\",\"zerolinecolor\":\"white\"},\"zaxis\":{\"backgroundcolor\":\"#E5ECF6\",\"gridcolor\":\"white\",\"gridwidth\":2,\"linecolor\":\"white\",\"showbackground\":true,\"ticks\":\"\",\"zerolinecolor\":\"white\"}},\"shapedefaults\":{\"line\":{\"color\":\"#2a3f5f\"}},\"ternary\":{\"aaxis\":{\"gridcolor\":\"white\",\"linecolor\":\"white\",\"ticks\":\"\"},\"baxis\":{\"gridcolor\":\"white\",\"linecolor\":\"white\",\"ticks\":\"\"},\"bgcolor\":\"#E5ECF6\",\"caxis\":{\"gridcolor\":\"white\",\"linecolor\":\"white\",\"ticks\":\"\"}},\"title\":{\"x\":0.05},\"xaxis\":{\"automargin\":true,\"gridcolor\":\"white\",\"linecolor\":\"white\",\"ticks\":\"\",\"title\":{\"standoff\":15},\"zerolinecolor\":\"white\",\"zerolinewidth\":2},\"yaxis\":{\"automargin\":true,\"gridcolor\":\"white\",\"linecolor\":\"white\",\"ticks\":\"\",\"title\":{\"standoff\":15},\"zerolinecolor\":\"white\",\"zerolinewidth\":2}}},\"title\":{\"text\":\"ERR2935805\"}},                        {\"responsive\": true}                    ).then(function(){\n",
       "                            \n",
       "var gd = document.getElementById('4c7aff07-802b-40fb-b281-3834860c2f0d');\n",
       "var x = new MutationObserver(function (mutations, observer) {{\n",
       "        var display = window.getComputedStyle(gd).display;\n",
       "        if (!display || display === 'none') {{\n",
       "            console.log([gd, 'removed!']);\n",
       "            Plotly.purge(gd);\n",
       "            observer.disconnect();\n",
       "        }}\n",
       "}});\n",
       "\n",
       "// Listen for the removal of the full notebook cells\n",
       "var notebookContainer = gd.closest('#notebook-container');\n",
       "if (notebookContainer) {{\n",
       "    x.observe(notebookContainer, {childList: true});\n",
       "}}\n",
       "\n",
       "// Listen for the clearing of the current output cell\n",
       "var outputEl = gd.closest('.output');\n",
       "if (outputEl) {{\n",
       "    x.observe(outputEl, {childList: true});\n",
       "}}\n",
       "\n",
       "                        })                };                });            </script>        </div>"
      ]
     },
     "metadata": {},
     "output_type": "display_data"
    },
    {
     "data": {
      "application/vnd.plotly.v1+json": {
       "config": {
        "plotlyServerURL": "https://plot.ly"
       },
       "data": [
        {
         "marker": {
          "color": "#5876c8",
          "line": {
           "color": "black",
           "width": 2
          },
          "size": 12
         },
         "mode": "markers",
         "name": "Contigs",
         "opacity": 0.4,
         "r": [
          1,
          12,
          6,
          7,
          5,
          1,
          8,
          9,
          3,
          10,
          4,
          11
         ],
         "showlegend": true,
         "subplot": "polar",
         "theta": [
          "ABySS",
          "BCALM2",
          "GATBMiniaPipeline",
          "IDBA-UD",
          "MEGAHIT",
          "MetaHipMer2",
          "metaSPAdes",
          "MINIA",
          "SKESA",
          "SPAdes",
          "Unicycler",
          "VelvetOptimiser"
         ],
         "type": "scatterpolar"
        },
        {
         "marker": {
          "color": "#5876c8",
          "line": {
           "color": "black",
           "width": 2
          },
          "size": 12
         },
         "mode": "markers",
         "name": "Contigs",
         "opacity": 0.4,
         "r": [
          1,
          3,
          9,
          8,
          7,
          1,
          5,
          12,
          4,
          11,
          6,
          10
         ],
         "showlegend": false,
         "subplot": "polar2",
         "theta": [
          "ABySS",
          "BCALM2",
          "GATBMiniaPipeline",
          "IDBA-UD",
          "MEGAHIT",
          "MetaHipMer2",
          "metaSPAdes",
          "MINIA",
          "SKESA",
          "SPAdes",
          "Unicycler",
          "VelvetOptimiser"
         ],
         "type": "scatterpolar"
        },
        {
         "marker": {
          "color": "#009392",
          "line": {
           "color": "black",
           "width": 2
          },
          "size": 12
         },
         "mode": "markers",
         "name": "Basepairs",
         "opacity": 0.4,
         "r": [
          1,
          12,
          5,
          6,
          7,
          1,
          8,
          9,
          3,
          10,
          4,
          11
         ],
         "showlegend": true,
         "subplot": "polar",
         "theta": [
          "ABySS",
          "BCALM2",
          "GATBMiniaPipeline",
          "IDBA-UD",
          "MEGAHIT",
          "MetaHipMer2",
          "metaSPAdes",
          "MINIA",
          "SKESA",
          "SPAdes",
          "Unicycler",
          "VelvetOptimiser"
         ],
         "type": "scatterpolar"
        },
        {
         "marker": {
          "color": "#009392",
          "line": {
           "color": "black",
           "width": 2
          },
          "size": 12
         },
         "mode": "markers",
         "name": "Basepairs",
         "opacity": 0.4,
         "r": [
          1,
          3,
          9,
          10,
          11,
          1,
          12,
          6,
          4,
          7,
          8,
          5
         ],
         "showlegend": false,
         "subplot": "polar2",
         "theta": [
          "ABySS",
          "BCALM2",
          "GATBMiniaPipeline",
          "IDBA-UD",
          "MEGAHIT",
          "MetaHipMer2",
          "metaSPAdes",
          "MINIA",
          "SKESA",
          "SPAdes",
          "Unicycler",
          "VelvetOptimiser"
         ],
         "type": "scatterpolar"
        },
        {
         "marker": {
          "color": "#9CCB86",
          "line": {
           "color": "black",
           "width": 2
          },
          "size": 12
         },
         "mode": "markers",
         "name": "Largest contig",
         "opacity": 0.4,
         "r": [
          11,
          10,
          4,
          5,
          3,
          11,
          1,
          8,
          6,
          7,
          2,
          9
         ],
         "showlegend": true,
         "subplot": "polar",
         "theta": [
          "ABySS",
          "BCALM2",
          "GATBMiniaPipeline",
          "IDBA-UD",
          "MEGAHIT",
          "MetaHipMer2",
          "metaSPAdes",
          "MINIA",
          "SKESA",
          "SPAdes",
          "Unicycler",
          "VelvetOptimiser"
         ],
         "type": "scatterpolar"
        },
        {
         "marker": {
          "color": "#EEB479",
          "line": {
           "color": "black",
           "width": 2
          },
          "size": 12
         },
         "mode": "markers",
         "name": "N50",
         "opacity": 0.4,
         "r": [
          11,
          10,
          6,
          5,
          4,
          11,
          2,
          8,
          1,
          7,
          3,
          9
         ],
         "showlegend": true,
         "subplot": "polar",
         "theta": [
          "ABySS",
          "BCALM2",
          "GATBMiniaPipeline",
          "IDBA-UD",
          "MEGAHIT",
          "MetaHipMer2",
          "metaSPAdes",
          "MINIA",
          "SKESA",
          "SPAdes",
          "Unicycler",
          "VelvetOptimiser"
         ],
         "type": "scatterpolar"
        },
        {
         "marker": {
          "color": "#EEB479",
          "line": {
           "color": "black",
           "width": 2
          },
          "size": 12
         },
         "mode": "markers",
         "name": "N50",
         "opacity": 0.4,
         "r": [
          11,
          10,
          6,
          5,
          4,
          11,
          2,
          8,
          1,
          7,
          3,
          9
         ],
         "showlegend": false,
         "subplot": "polar2",
         "theta": [
          "ABySS",
          "BCALM2",
          "GATBMiniaPipeline",
          "IDBA-UD",
          "MEGAHIT",
          "MetaHipMer2",
          "metaSPAdes",
          "MINIA",
          "SKESA",
          "SPAdes",
          "Unicycler",
          "VelvetOptimiser"
         ],
         "type": "scatterpolar"
        },
        {
         "marker": {
          "color": "#E88471",
          "line": {
           "color": "black",
           "width": 2
          },
          "size": 12
         },
         "mode": "markers",
         "name": "% Mapped reads",
         "opacity": 0.4,
         "r": [
          11,
          10,
          4,
          3,
          1,
          11,
          2,
          8,
          7,
          6,
          5,
          9
         ],
         "showlegend": true,
         "subplot": "polar",
         "theta": [
          "ABySS",
          "BCALM2",
          "GATBMiniaPipeline",
          "IDBA-UD",
          "MEGAHIT",
          "MetaHipMer2",
          "metaSPAdes",
          "MINIA",
          "SKESA",
          "SPAdes",
          "Unicycler",
          "VelvetOptimiser"
         ],
         "type": "scatterpolar"
        },
        {
         "marker": {
          "color": "#E88471",
          "line": {
           "color": "black",
           "width": 2
          },
          "size": 12
         },
         "mode": "markers",
         "name": "% Mapped reads",
         "opacity": 0.4,
         "r": [
          11,
          10,
          4,
          3,
          2,
          11,
          1,
          7,
          6,
          8,
          5,
          9
         ],
         "showlegend": false,
         "subplot": "polar2",
         "theta": [
          "ABySS",
          "BCALM2",
          "GATBMiniaPipeline",
          "IDBA-UD",
          "MEGAHIT",
          "MetaHipMer2",
          "metaSPAdes",
          "MINIA",
          "SKESA",
          "SPAdes",
          "Unicycler",
          "VelvetOptimiser"
         ],
         "type": "scatterpolar"
        },
        {
         "marker": {
          "color": "#CF597E",
          "line": {
           "color": "black",
           "width": 2
          },
          "size": 12
         },
         "mode": "markers",
         "name": "Uncalled bases",
         "opacity": 0.4,
         "r": [
          1,
          1,
          1,
          1,
          1,
          1,
          1,
          1,
          1,
          1,
          1,
          1
         ],
         "showlegend": true,
         "subplot": "polar",
         "theta": [
          "ABySS",
          "BCALM2",
          "GATBMiniaPipeline",
          "IDBA-UD",
          "MEGAHIT",
          "MetaHipMer2",
          "metaSPAdes",
          "MINIA",
          "SKESA",
          "SPAdes",
          "Unicycler",
          "VelvetOptimiser"
         ],
         "type": "scatterpolar"
        },
        {
         "marker": {
          "color": "#CF597E",
          "line": {
           "color": "black",
           "width": 2
          },
          "size": 12
         },
         "mode": "markers",
         "name": "Uncalled bases",
         "opacity": 0.4,
         "r": [
          1,
          1,
          1,
          1,
          1,
          1,
          1,
          1,
          1,
          1,
          1,
          1
         ],
         "showlegend": false,
         "subplot": "polar2",
         "theta": [
          "ABySS",
          "BCALM2",
          "GATBMiniaPipeline",
          "IDBA-UD",
          "MEGAHIT",
          "MetaHipMer2",
          "metaSPAdes",
          "MINIA",
          "SKESA",
          "SPAdes",
          "Unicycler",
          "VelvetOptimiser"
         ],
         "type": "scatterpolar"
        },
        {
         "marker": {
          "color": "#a54765",
          "line": {
           "color": "black",
           "width": 2
          },
          "size": 12
         },
         "mode": "markers",
         "name": "Misassembled contigs",
         "opacity": 0.4,
         "r": [
          1,
          1,
          10,
          10,
          1,
          1,
          8,
          1,
          1,
          8,
          12,
          1
         ],
         "showlegend": true,
         "subplot": "polar2",
         "theta": [
          "ABySS",
          "BCALM2",
          "GATBMiniaPipeline",
          "IDBA-UD",
          "MEGAHIT",
          "MetaHipMer2",
          "metaSPAdes",
          "MINIA",
          "SKESA",
          "SPAdes",
          "Unicycler",
          "VelvetOptimiser"
         ],
         "type": "scatterpolar"
        },
        {
         "marker": {
          "color": "#835221",
          "line": {
           "color": "black",
           "width": 2
          },
          "size": 12
         },
         "mode": "markers",
         "name": "Misassembly events",
         "opacity": 0.4,
         "r": [
          1,
          1,
          11,
          10,
          1,
          1,
          9,
          1,
          1,
          8,
          12,
          1
         ],
         "showlegend": true,
         "subplot": "polar2",
         "theta": [
          "ABySS",
          "BCALM2",
          "GATBMiniaPipeline",
          "IDBA-UD",
          "MEGAHIT",
          "MetaHipMer2",
          "metaSPAdes",
          "MINIA",
          "SKESA",
          "SPAdes",
          "Unicycler",
          "VelvetOptimiser"
         ],
         "type": "scatterpolar"
        }
       ],
       "layout": {
        "annotations": [
         {
          "font": {
           "size": 16
          },
          "showarrow": false,
          "text": "Original",
          "x": 0.225,
          "xanchor": "center",
          "xref": "paper",
          "y": 1,
          "yanchor": "bottom",
          "yref": "paper"
         },
         {
          "font": {
           "size": 16
          },
          "showarrow": false,
          "text": "Filtered",
          "x": 0.775,
          "xanchor": "center",
          "xref": "paper",
          "y": 1,
          "yanchor": "bottom",
          "yref": "paper"
         }
        ],
        "polar": {
         "angularaxis": {
          "categoryarray": [
           "ABySS",
           "BCALM2",
           "GATBMiniaPipeline",
           "IDBA-UD",
           "MEGAHIT",
           "MetaHipMer2",
           "metaSPAdes",
           "MINIA",
           "SKESA",
           "SPAdes",
           "Unicycler",
           "VelvetOptimiser",
           " "
          ],
          "linecolor": "black"
         },
         "bgcolor": "rgb(255,255,255)",
         "domain": {
          "x": [
           0,
           0.45
          ],
          "y": [
           0,
           1
          ]
         },
         "hole": 0.08333333333333333,
         "radialaxis": {
          "angle": -22.5,
          "autorange": "reversed",
          "gridcolor": "#DCDCDC",
          "linecolor": "black",
          "linewidth": 2,
          "range": [
           1,
           12
          ],
          "visible": true
         }
        },
        "polar2": {
         "angularaxis": {
          "categoryarray": [
           "ABySS",
           "BCALM2",
           "GATBMiniaPipeline",
           "IDBA-UD",
           "MEGAHIT",
           "MetaHipMer2",
           "metaSPAdes",
           "MINIA",
           "SKESA",
           "SPAdes",
           "Unicycler",
           "VelvetOptimiser",
           " "
          ],
          "linecolor": "black"
         },
         "bgcolor": "rgb(255,255,255)",
         "domain": {
          "x": [
           0.55,
           1
          ],
          "y": [
           0,
           1
          ]
         },
         "hole": 0.08333333333333333,
         "radialaxis": {
          "angle": -22.5,
          "autorange": "reversed",
          "gridcolor": "#DCDCDC",
          "linecolor": "black",
          "linewidth": 2,
          "range": [
           1,
           12
          ],
          "visible": true
         }
        },
        "template": {
         "data": {
          "bar": [
           {
            "error_x": {
             "color": "#2a3f5f"
            },
            "error_y": {
             "color": "#2a3f5f"
            },
            "marker": {
             "line": {
              "color": "#E5ECF6",
              "width": 0.5
             },
             "pattern": {
              "fillmode": "overlay",
              "size": 10,
              "solidity": 0.2
             }
            },
            "type": "bar"
           }
          ],
          "barpolar": [
           {
            "marker": {
             "line": {
              "color": "#E5ECF6",
              "width": 0.5
             },
             "pattern": {
              "fillmode": "overlay",
              "size": 10,
              "solidity": 0.2
             }
            },
            "type": "barpolar"
           }
          ],
          "carpet": [
           {
            "aaxis": {
             "endlinecolor": "#2a3f5f",
             "gridcolor": "white",
             "linecolor": "white",
             "minorgridcolor": "white",
             "startlinecolor": "#2a3f5f"
            },
            "baxis": {
             "endlinecolor": "#2a3f5f",
             "gridcolor": "white",
             "linecolor": "white",
             "minorgridcolor": "white",
             "startlinecolor": "#2a3f5f"
            },
            "type": "carpet"
           }
          ],
          "choropleth": [
           {
            "colorbar": {
             "outlinewidth": 0,
             "ticks": ""
            },
            "type": "choropleth"
           }
          ],
          "contour": [
           {
            "colorbar": {
             "outlinewidth": 0,
             "ticks": ""
            },
            "colorscale": [
             [
              0,
              "#0d0887"
             ],
             [
              0.1111111111111111,
              "#46039f"
             ],
             [
              0.2222222222222222,
              "#7201a8"
             ],
             [
              0.3333333333333333,
              "#9c179e"
             ],
             [
              0.4444444444444444,
              "#bd3786"
             ],
             [
              0.5555555555555556,
              "#d8576b"
             ],
             [
              0.6666666666666666,
              "#ed7953"
             ],
             [
              0.7777777777777778,
              "#fb9f3a"
             ],
             [
              0.8888888888888888,
              "#fdca26"
             ],
             [
              1,
              "#f0f921"
             ]
            ],
            "type": "contour"
           }
          ],
          "contourcarpet": [
           {
            "colorbar": {
             "outlinewidth": 0,
             "ticks": ""
            },
            "type": "contourcarpet"
           }
          ],
          "heatmap": [
           {
            "colorbar": {
             "outlinewidth": 0,
             "ticks": ""
            },
            "colorscale": [
             [
              0,
              "#0d0887"
             ],
             [
              0.1111111111111111,
              "#46039f"
             ],
             [
              0.2222222222222222,
              "#7201a8"
             ],
             [
              0.3333333333333333,
              "#9c179e"
             ],
             [
              0.4444444444444444,
              "#bd3786"
             ],
             [
              0.5555555555555556,
              "#d8576b"
             ],
             [
              0.6666666666666666,
              "#ed7953"
             ],
             [
              0.7777777777777778,
              "#fb9f3a"
             ],
             [
              0.8888888888888888,
              "#fdca26"
             ],
             [
              1,
              "#f0f921"
             ]
            ],
            "type": "heatmap"
           }
          ],
          "heatmapgl": [
           {
            "colorbar": {
             "outlinewidth": 0,
             "ticks": ""
            },
            "colorscale": [
             [
              0,
              "#0d0887"
             ],
             [
              0.1111111111111111,
              "#46039f"
             ],
             [
              0.2222222222222222,
              "#7201a8"
             ],
             [
              0.3333333333333333,
              "#9c179e"
             ],
             [
              0.4444444444444444,
              "#bd3786"
             ],
             [
              0.5555555555555556,
              "#d8576b"
             ],
             [
              0.6666666666666666,
              "#ed7953"
             ],
             [
              0.7777777777777778,
              "#fb9f3a"
             ],
             [
              0.8888888888888888,
              "#fdca26"
             ],
             [
              1,
              "#f0f921"
             ]
            ],
            "type": "heatmapgl"
           }
          ],
          "histogram": [
           {
            "marker": {
             "pattern": {
              "fillmode": "overlay",
              "size": 10,
              "solidity": 0.2
             }
            },
            "type": "histogram"
           }
          ],
          "histogram2d": [
           {
            "colorbar": {
             "outlinewidth": 0,
             "ticks": ""
            },
            "colorscale": [
             [
              0,
              "#0d0887"
             ],
             [
              0.1111111111111111,
              "#46039f"
             ],
             [
              0.2222222222222222,
              "#7201a8"
             ],
             [
              0.3333333333333333,
              "#9c179e"
             ],
             [
              0.4444444444444444,
              "#bd3786"
             ],
             [
              0.5555555555555556,
              "#d8576b"
             ],
             [
              0.6666666666666666,
              "#ed7953"
             ],
             [
              0.7777777777777778,
              "#fb9f3a"
             ],
             [
              0.8888888888888888,
              "#fdca26"
             ],
             [
              1,
              "#f0f921"
             ]
            ],
            "type": "histogram2d"
           }
          ],
          "histogram2dcontour": [
           {
            "colorbar": {
             "outlinewidth": 0,
             "ticks": ""
            },
            "colorscale": [
             [
              0,
              "#0d0887"
             ],
             [
              0.1111111111111111,
              "#46039f"
             ],
             [
              0.2222222222222222,
              "#7201a8"
             ],
             [
              0.3333333333333333,
              "#9c179e"
             ],
             [
              0.4444444444444444,
              "#bd3786"
             ],
             [
              0.5555555555555556,
              "#d8576b"
             ],
             [
              0.6666666666666666,
              "#ed7953"
             ],
             [
              0.7777777777777778,
              "#fb9f3a"
             ],
             [
              0.8888888888888888,
              "#fdca26"
             ],
             [
              1,
              "#f0f921"
             ]
            ],
            "type": "histogram2dcontour"
           }
          ],
          "mesh3d": [
           {
            "colorbar": {
             "outlinewidth": 0,
             "ticks": ""
            },
            "type": "mesh3d"
           }
          ],
          "parcoords": [
           {
            "line": {
             "colorbar": {
              "outlinewidth": 0,
              "ticks": ""
             }
            },
            "type": "parcoords"
           }
          ],
          "pie": [
           {
            "automargin": true,
            "type": "pie"
           }
          ],
          "scatter": [
           {
            "marker": {
             "colorbar": {
              "outlinewidth": 0,
              "ticks": ""
             }
            },
            "type": "scatter"
           }
          ],
          "scatter3d": [
           {
            "line": {
             "colorbar": {
              "outlinewidth": 0,
              "ticks": ""
             }
            },
            "marker": {
             "colorbar": {
              "outlinewidth": 0,
              "ticks": ""
             }
            },
            "type": "scatter3d"
           }
          ],
          "scattercarpet": [
           {
            "marker": {
             "colorbar": {
              "outlinewidth": 0,
              "ticks": ""
             }
            },
            "type": "scattercarpet"
           }
          ],
          "scattergeo": [
           {
            "marker": {
             "colorbar": {
              "outlinewidth": 0,
              "ticks": ""
             }
            },
            "type": "scattergeo"
           }
          ],
          "scattergl": [
           {
            "marker": {
             "colorbar": {
              "outlinewidth": 0,
              "ticks": ""
             }
            },
            "type": "scattergl"
           }
          ],
          "scattermapbox": [
           {
            "marker": {
             "colorbar": {
              "outlinewidth": 0,
              "ticks": ""
             }
            },
            "type": "scattermapbox"
           }
          ],
          "scatterpolar": [
           {
            "marker": {
             "colorbar": {
              "outlinewidth": 0,
              "ticks": ""
             }
            },
            "type": "scatterpolar"
           }
          ],
          "scatterpolargl": [
           {
            "marker": {
             "colorbar": {
              "outlinewidth": 0,
              "ticks": ""
             }
            },
            "type": "scatterpolargl"
           }
          ],
          "scatterternary": [
           {
            "marker": {
             "colorbar": {
              "outlinewidth": 0,
              "ticks": ""
             }
            },
            "type": "scatterternary"
           }
          ],
          "surface": [
           {
            "colorbar": {
             "outlinewidth": 0,
             "ticks": ""
            },
            "colorscale": [
             [
              0,
              "#0d0887"
             ],
             [
              0.1111111111111111,
              "#46039f"
             ],
             [
              0.2222222222222222,
              "#7201a8"
             ],
             [
              0.3333333333333333,
              "#9c179e"
             ],
             [
              0.4444444444444444,
              "#bd3786"
             ],
             [
              0.5555555555555556,
              "#d8576b"
             ],
             [
              0.6666666666666666,
              "#ed7953"
             ],
             [
              0.7777777777777778,
              "#fb9f3a"
             ],
             [
              0.8888888888888888,
              "#fdca26"
             ],
             [
              1,
              "#f0f921"
             ]
            ],
            "type": "surface"
           }
          ],
          "table": [
           {
            "cells": {
             "fill": {
              "color": "#EBF0F8"
             },
             "line": {
              "color": "white"
             }
            },
            "header": {
             "fill": {
              "color": "#C8D4E3"
             },
             "line": {
              "color": "white"
             }
            },
            "type": "table"
           }
          ]
         },
         "layout": {
          "annotationdefaults": {
           "arrowcolor": "#2a3f5f",
           "arrowhead": 0,
           "arrowwidth": 1
          },
          "autotypenumbers": "strict",
          "coloraxis": {
           "colorbar": {
            "outlinewidth": 0,
            "ticks": ""
           }
          },
          "colorscale": {
           "diverging": [
            [
             0,
             "#8e0152"
            ],
            [
             0.1,
             "#c51b7d"
            ],
            [
             0.2,
             "#de77ae"
            ],
            [
             0.3,
             "#f1b6da"
            ],
            [
             0.4,
             "#fde0ef"
            ],
            [
             0.5,
             "#f7f7f7"
            ],
            [
             0.6,
             "#e6f5d0"
            ],
            [
             0.7,
             "#b8e186"
            ],
            [
             0.8,
             "#7fbc41"
            ],
            [
             0.9,
             "#4d9221"
            ],
            [
             1,
             "#276419"
            ]
           ],
           "sequential": [
            [
             0,
             "#0d0887"
            ],
            [
             0.1111111111111111,
             "#46039f"
            ],
            [
             0.2222222222222222,
             "#7201a8"
            ],
            [
             0.3333333333333333,
             "#9c179e"
            ],
            [
             0.4444444444444444,
             "#bd3786"
            ],
            [
             0.5555555555555556,
             "#d8576b"
            ],
            [
             0.6666666666666666,
             "#ed7953"
            ],
            [
             0.7777777777777778,
             "#fb9f3a"
            ],
            [
             0.8888888888888888,
             "#fdca26"
            ],
            [
             1,
             "#f0f921"
            ]
           ],
           "sequentialminus": [
            [
             0,
             "#0d0887"
            ],
            [
             0.1111111111111111,
             "#46039f"
            ],
            [
             0.2222222222222222,
             "#7201a8"
            ],
            [
             0.3333333333333333,
             "#9c179e"
            ],
            [
             0.4444444444444444,
             "#bd3786"
            ],
            [
             0.5555555555555556,
             "#d8576b"
            ],
            [
             0.6666666666666666,
             "#ed7953"
            ],
            [
             0.7777777777777778,
             "#fb9f3a"
            ],
            [
             0.8888888888888888,
             "#fdca26"
            ],
            [
             1,
             "#f0f921"
            ]
           ]
          },
          "colorway": [
           "#636efa",
           "#EF553B",
           "#00cc96",
           "#ab63fa",
           "#FFA15A",
           "#19d3f3",
           "#FF6692",
           "#B6E880",
           "#FF97FF",
           "#FECB52"
          ],
          "font": {
           "color": "#2a3f5f"
          },
          "geo": {
           "bgcolor": "white",
           "lakecolor": "white",
           "landcolor": "#E5ECF6",
           "showlakes": true,
           "showland": true,
           "subunitcolor": "white"
          },
          "hoverlabel": {
           "align": "left"
          },
          "hovermode": "closest",
          "mapbox": {
           "style": "light"
          },
          "paper_bgcolor": "white",
          "plot_bgcolor": "#E5ECF6",
          "polar": {
           "angularaxis": {
            "gridcolor": "white",
            "linecolor": "white",
            "ticks": ""
           },
           "bgcolor": "#E5ECF6",
           "radialaxis": {
            "gridcolor": "white",
            "linecolor": "white",
            "ticks": ""
           }
          },
          "scene": {
           "xaxis": {
            "backgroundcolor": "#E5ECF6",
            "gridcolor": "white",
            "gridwidth": 2,
            "linecolor": "white",
            "showbackground": true,
            "ticks": "",
            "zerolinecolor": "white"
           },
           "yaxis": {
            "backgroundcolor": "#E5ECF6",
            "gridcolor": "white",
            "gridwidth": 2,
            "linecolor": "white",
            "showbackground": true,
            "ticks": "",
            "zerolinecolor": "white"
           },
           "zaxis": {
            "backgroundcolor": "#E5ECF6",
            "gridcolor": "white",
            "gridwidth": 2,
            "linecolor": "white",
            "showbackground": true,
            "ticks": "",
            "zerolinecolor": "white"
           }
          },
          "shapedefaults": {
           "line": {
            "color": "#2a3f5f"
           }
          },
          "ternary": {
           "aaxis": {
            "gridcolor": "white",
            "linecolor": "white",
            "ticks": ""
           },
           "baxis": {
            "gridcolor": "white",
            "linecolor": "white",
            "ticks": ""
           },
           "bgcolor": "#E5ECF6",
           "caxis": {
            "gridcolor": "white",
            "linecolor": "white",
            "ticks": ""
           }
          },
          "title": {
           "x": 0.05
          },
          "xaxis": {
           "automargin": true,
           "gridcolor": "white",
           "linecolor": "white",
           "ticks": "",
           "title": {
            "standoff": 15
           },
           "zerolinecolor": "white",
           "zerolinewidth": 2
          },
          "yaxis": {
           "automargin": true,
           "gridcolor": "white",
           "linecolor": "white",
           "ticks": "",
           "title": {
            "standoff": 15
           },
           "zerolinecolor": "white",
           "zerolinewidth": 2
          }
         }
        },
        "title": {
         "text": "LHS"
        }
       }
      },
      "text/html": [
       "<div>                            <div id=\"96f81204-9715-44d2-963a-4447c635b7c7\" class=\"plotly-graph-div\" style=\"height:525px; width:100%;\"></div>            <script type=\"text/javascript\">                require([\"plotly\"], function(Plotly) {                    window.PLOTLYENV=window.PLOTLYENV || {};                                    if (document.getElementById(\"96f81204-9715-44d2-963a-4447c635b7c7\")) {                    Plotly.newPlot(                        \"96f81204-9715-44d2-963a-4447c635b7c7\",                        [{\"marker\":{\"color\":\"#5876c8\",\"line\":{\"color\":\"black\",\"width\":2},\"size\":12},\"mode\":\"markers\",\"name\":\"Contigs\",\"opacity\":0.4,\"r\":[1,12,6,7,5,1,8,9,3,10,4,11],\"showlegend\":true,\"subplot\":\"polar\",\"theta\":[\"ABySS\",\"BCALM2\",\"GATBMiniaPipeline\",\"IDBA-UD\",\"MEGAHIT\",\"MetaHipMer2\",\"metaSPAdes\",\"MINIA\",\"SKESA\",\"SPAdes\",\"Unicycler\",\"VelvetOptimiser\"],\"type\":\"scatterpolar\"},{\"marker\":{\"color\":\"#5876c8\",\"line\":{\"color\":\"black\",\"width\":2},\"size\":12},\"mode\":\"markers\",\"name\":\"Contigs\",\"opacity\":0.4,\"r\":[1,3,9,8,7,1,5,12,4,11,6,10],\"showlegend\":false,\"subplot\":\"polar2\",\"theta\":[\"ABySS\",\"BCALM2\",\"GATBMiniaPipeline\",\"IDBA-UD\",\"MEGAHIT\",\"MetaHipMer2\",\"metaSPAdes\",\"MINIA\",\"SKESA\",\"SPAdes\",\"Unicycler\",\"VelvetOptimiser\"],\"type\":\"scatterpolar\"},{\"marker\":{\"color\":\"#009392\",\"line\":{\"color\":\"black\",\"width\":2},\"size\":12},\"mode\":\"markers\",\"name\":\"Basepairs\",\"opacity\":0.4,\"r\":[1,12,5,6,7,1,8,9,3,10,4,11],\"showlegend\":true,\"subplot\":\"polar\",\"theta\":[\"ABySS\",\"BCALM2\",\"GATBMiniaPipeline\",\"IDBA-UD\",\"MEGAHIT\",\"MetaHipMer2\",\"metaSPAdes\",\"MINIA\",\"SKESA\",\"SPAdes\",\"Unicycler\",\"VelvetOptimiser\"],\"type\":\"scatterpolar\"},{\"marker\":{\"color\":\"#009392\",\"line\":{\"color\":\"black\",\"width\":2},\"size\":12},\"mode\":\"markers\",\"name\":\"Basepairs\",\"opacity\":0.4,\"r\":[1,3,9,10,11,1,12,6,4,7,8,5],\"showlegend\":false,\"subplot\":\"polar2\",\"theta\":[\"ABySS\",\"BCALM2\",\"GATBMiniaPipeline\",\"IDBA-UD\",\"MEGAHIT\",\"MetaHipMer2\",\"metaSPAdes\",\"MINIA\",\"SKESA\",\"SPAdes\",\"Unicycler\",\"VelvetOptimiser\"],\"type\":\"scatterpolar\"},{\"marker\":{\"color\":\"#9CCB86\",\"line\":{\"color\":\"black\",\"width\":2},\"size\":12},\"mode\":\"markers\",\"name\":\"Largest contig\",\"opacity\":0.4,\"r\":[11,10,4,5,3,11,1,8,6,7,2,9],\"showlegend\":true,\"subplot\":\"polar\",\"theta\":[\"ABySS\",\"BCALM2\",\"GATBMiniaPipeline\",\"IDBA-UD\",\"MEGAHIT\",\"MetaHipMer2\",\"metaSPAdes\",\"MINIA\",\"SKESA\",\"SPAdes\",\"Unicycler\",\"VelvetOptimiser\"],\"type\":\"scatterpolar\"},{\"marker\":{\"color\":\"#EEB479\",\"line\":{\"color\":\"black\",\"width\":2},\"size\":12},\"mode\":\"markers\",\"name\":\"N50\",\"opacity\":0.4,\"r\":[11,10,6,5,4,11,2,8,1,7,3,9],\"showlegend\":true,\"subplot\":\"polar\",\"theta\":[\"ABySS\",\"BCALM2\",\"GATBMiniaPipeline\",\"IDBA-UD\",\"MEGAHIT\",\"MetaHipMer2\",\"metaSPAdes\",\"MINIA\",\"SKESA\",\"SPAdes\",\"Unicycler\",\"VelvetOptimiser\"],\"type\":\"scatterpolar\"},{\"marker\":{\"color\":\"#EEB479\",\"line\":{\"color\":\"black\",\"width\":2},\"size\":12},\"mode\":\"markers\",\"name\":\"N50\",\"opacity\":0.4,\"r\":[11,10,6,5,4,11,2,8,1,7,3,9],\"showlegend\":false,\"subplot\":\"polar2\",\"theta\":[\"ABySS\",\"BCALM2\",\"GATBMiniaPipeline\",\"IDBA-UD\",\"MEGAHIT\",\"MetaHipMer2\",\"metaSPAdes\",\"MINIA\",\"SKESA\",\"SPAdes\",\"Unicycler\",\"VelvetOptimiser\"],\"type\":\"scatterpolar\"},{\"marker\":{\"color\":\"#E88471\",\"line\":{\"color\":\"black\",\"width\":2},\"size\":12},\"mode\":\"markers\",\"name\":\"% Mapped reads\",\"opacity\":0.4,\"r\":[11,10,4,3,1,11,2,8,7,6,5,9],\"showlegend\":true,\"subplot\":\"polar\",\"theta\":[\"ABySS\",\"BCALM2\",\"GATBMiniaPipeline\",\"IDBA-UD\",\"MEGAHIT\",\"MetaHipMer2\",\"metaSPAdes\",\"MINIA\",\"SKESA\",\"SPAdes\",\"Unicycler\",\"VelvetOptimiser\"],\"type\":\"scatterpolar\"},{\"marker\":{\"color\":\"#E88471\",\"line\":{\"color\":\"black\",\"width\":2},\"size\":12},\"mode\":\"markers\",\"name\":\"% Mapped reads\",\"opacity\":0.4,\"r\":[11,10,4,3,2,11,1,7,6,8,5,9],\"showlegend\":false,\"subplot\":\"polar2\",\"theta\":[\"ABySS\",\"BCALM2\",\"GATBMiniaPipeline\",\"IDBA-UD\",\"MEGAHIT\",\"MetaHipMer2\",\"metaSPAdes\",\"MINIA\",\"SKESA\",\"SPAdes\",\"Unicycler\",\"VelvetOptimiser\"],\"type\":\"scatterpolar\"},{\"marker\":{\"color\":\"#CF597E\",\"line\":{\"color\":\"black\",\"width\":2},\"size\":12},\"mode\":\"markers\",\"name\":\"Uncalled bases\",\"opacity\":0.4,\"r\":[1,1,1,1,1,1,1,1,1,1,1,1],\"showlegend\":true,\"subplot\":\"polar\",\"theta\":[\"ABySS\",\"BCALM2\",\"GATBMiniaPipeline\",\"IDBA-UD\",\"MEGAHIT\",\"MetaHipMer2\",\"metaSPAdes\",\"MINIA\",\"SKESA\",\"SPAdes\",\"Unicycler\",\"VelvetOptimiser\"],\"type\":\"scatterpolar\"},{\"marker\":{\"color\":\"#CF597E\",\"line\":{\"color\":\"black\",\"width\":2},\"size\":12},\"mode\":\"markers\",\"name\":\"Uncalled bases\",\"opacity\":0.4,\"r\":[1,1,1,1,1,1,1,1,1,1,1,1],\"showlegend\":false,\"subplot\":\"polar2\",\"theta\":[\"ABySS\",\"BCALM2\",\"GATBMiniaPipeline\",\"IDBA-UD\",\"MEGAHIT\",\"MetaHipMer2\",\"metaSPAdes\",\"MINIA\",\"SKESA\",\"SPAdes\",\"Unicycler\",\"VelvetOptimiser\"],\"type\":\"scatterpolar\"},{\"marker\":{\"color\":\"#a54765\",\"line\":{\"color\":\"black\",\"width\":2},\"size\":12},\"mode\":\"markers\",\"name\":\"Misassembled contigs\",\"opacity\":0.4,\"r\":[1,1,10,10,1,1,8,1,1,8,12,1],\"showlegend\":true,\"subplot\":\"polar2\",\"theta\":[\"ABySS\",\"BCALM2\",\"GATBMiniaPipeline\",\"IDBA-UD\",\"MEGAHIT\",\"MetaHipMer2\",\"metaSPAdes\",\"MINIA\",\"SKESA\",\"SPAdes\",\"Unicycler\",\"VelvetOptimiser\"],\"type\":\"scatterpolar\"},{\"marker\":{\"color\":\"#835221\",\"line\":{\"color\":\"black\",\"width\":2},\"size\":12},\"mode\":\"markers\",\"name\":\"Misassembly events\",\"opacity\":0.4,\"r\":[1,1,11,10,1,1,9,1,1,8,12,1],\"showlegend\":true,\"subplot\":\"polar2\",\"theta\":[\"ABySS\",\"BCALM2\",\"GATBMiniaPipeline\",\"IDBA-UD\",\"MEGAHIT\",\"MetaHipMer2\",\"metaSPAdes\",\"MINIA\",\"SKESA\",\"SPAdes\",\"Unicycler\",\"VelvetOptimiser\"],\"type\":\"scatterpolar\"}],                        {\"annotations\":[{\"font\":{\"size\":16},\"showarrow\":false,\"text\":\"Original\",\"x\":0.225,\"xanchor\":\"center\",\"xref\":\"paper\",\"y\":1.0,\"yanchor\":\"bottom\",\"yref\":\"paper\"},{\"font\":{\"size\":16},\"showarrow\":false,\"text\":\"Filtered\",\"x\":0.775,\"xanchor\":\"center\",\"xref\":\"paper\",\"y\":1.0,\"yanchor\":\"bottom\",\"yref\":\"paper\"}],\"polar\":{\"angularaxis\":{\"categoryarray\":[\"ABySS\",\"BCALM2\",\"GATBMiniaPipeline\",\"IDBA-UD\",\"MEGAHIT\",\"MetaHipMer2\",\"metaSPAdes\",\"MINIA\",\"SKESA\",\"SPAdes\",\"Unicycler\",\"VelvetOptimiser\",\" \"],\"linecolor\":\"black\"},\"bgcolor\":\"rgb(255,255,255)\",\"domain\":{\"x\":[0.0,0.45],\"y\":[0.0,1.0]},\"hole\":0.08333333333333333,\"radialaxis\":{\"angle\":-22.5,\"autorange\":\"reversed\",\"gridcolor\":\"#DCDCDC\",\"linecolor\":\"black\",\"linewidth\":2,\"range\":[1,12],\"visible\":true}},\"polar2\":{\"angularaxis\":{\"categoryarray\":[\"ABySS\",\"BCALM2\",\"GATBMiniaPipeline\",\"IDBA-UD\",\"MEGAHIT\",\"MetaHipMer2\",\"metaSPAdes\",\"MINIA\",\"SKESA\",\"SPAdes\",\"Unicycler\",\"VelvetOptimiser\",\" \"],\"linecolor\":\"black\"},\"bgcolor\":\"rgb(255,255,255)\",\"domain\":{\"x\":[0.55,1.0],\"y\":[0.0,1.0]},\"hole\":0.08333333333333333,\"radialaxis\":{\"angle\":-22.5,\"autorange\":\"reversed\",\"gridcolor\":\"#DCDCDC\",\"linecolor\":\"black\",\"linewidth\":2,\"range\":[1,12],\"visible\":true}},\"template\":{\"data\":{\"bar\":[{\"error_x\":{\"color\":\"#2a3f5f\"},\"error_y\":{\"color\":\"#2a3f5f\"},\"marker\":{\"line\":{\"color\":\"#E5ECF6\",\"width\":0.5},\"pattern\":{\"fillmode\":\"overlay\",\"size\":10,\"solidity\":0.2}},\"type\":\"bar\"}],\"barpolar\":[{\"marker\":{\"line\":{\"color\":\"#E5ECF6\",\"width\":0.5},\"pattern\":{\"fillmode\":\"overlay\",\"size\":10,\"solidity\":0.2}},\"type\":\"barpolar\"}],\"carpet\":[{\"aaxis\":{\"endlinecolor\":\"#2a3f5f\",\"gridcolor\":\"white\",\"linecolor\":\"white\",\"minorgridcolor\":\"white\",\"startlinecolor\":\"#2a3f5f\"},\"baxis\":{\"endlinecolor\":\"#2a3f5f\",\"gridcolor\":\"white\",\"linecolor\":\"white\",\"minorgridcolor\":\"white\",\"startlinecolor\":\"#2a3f5f\"},\"type\":\"carpet\"}],\"choropleth\":[{\"colorbar\":{\"outlinewidth\":0,\"ticks\":\"\"},\"type\":\"choropleth\"}],\"contour\":[{\"colorbar\":{\"outlinewidth\":0,\"ticks\":\"\"},\"colorscale\":[[0.0,\"#0d0887\"],[0.1111111111111111,\"#46039f\"],[0.2222222222222222,\"#7201a8\"],[0.3333333333333333,\"#9c179e\"],[0.4444444444444444,\"#bd3786\"],[0.5555555555555556,\"#d8576b\"],[0.6666666666666666,\"#ed7953\"],[0.7777777777777778,\"#fb9f3a\"],[0.8888888888888888,\"#fdca26\"],[1.0,\"#f0f921\"]],\"type\":\"contour\"}],\"contourcarpet\":[{\"colorbar\":{\"outlinewidth\":0,\"ticks\":\"\"},\"type\":\"contourcarpet\"}],\"heatmap\":[{\"colorbar\":{\"outlinewidth\":0,\"ticks\":\"\"},\"colorscale\":[[0.0,\"#0d0887\"],[0.1111111111111111,\"#46039f\"],[0.2222222222222222,\"#7201a8\"],[0.3333333333333333,\"#9c179e\"],[0.4444444444444444,\"#bd3786\"],[0.5555555555555556,\"#d8576b\"],[0.6666666666666666,\"#ed7953\"],[0.7777777777777778,\"#fb9f3a\"],[0.8888888888888888,\"#fdca26\"],[1.0,\"#f0f921\"]],\"type\":\"heatmap\"}],\"heatmapgl\":[{\"colorbar\":{\"outlinewidth\":0,\"ticks\":\"\"},\"colorscale\":[[0.0,\"#0d0887\"],[0.1111111111111111,\"#46039f\"],[0.2222222222222222,\"#7201a8\"],[0.3333333333333333,\"#9c179e\"],[0.4444444444444444,\"#bd3786\"],[0.5555555555555556,\"#d8576b\"],[0.6666666666666666,\"#ed7953\"],[0.7777777777777778,\"#fb9f3a\"],[0.8888888888888888,\"#fdca26\"],[1.0,\"#f0f921\"]],\"type\":\"heatmapgl\"}],\"histogram\":[{\"marker\":{\"pattern\":{\"fillmode\":\"overlay\",\"size\":10,\"solidity\":0.2}},\"type\":\"histogram\"}],\"histogram2d\":[{\"colorbar\":{\"outlinewidth\":0,\"ticks\":\"\"},\"colorscale\":[[0.0,\"#0d0887\"],[0.1111111111111111,\"#46039f\"],[0.2222222222222222,\"#7201a8\"],[0.3333333333333333,\"#9c179e\"],[0.4444444444444444,\"#bd3786\"],[0.5555555555555556,\"#d8576b\"],[0.6666666666666666,\"#ed7953\"],[0.7777777777777778,\"#fb9f3a\"],[0.8888888888888888,\"#fdca26\"],[1.0,\"#f0f921\"]],\"type\":\"histogram2d\"}],\"histogram2dcontour\":[{\"colorbar\":{\"outlinewidth\":0,\"ticks\":\"\"},\"colorscale\":[[0.0,\"#0d0887\"],[0.1111111111111111,\"#46039f\"],[0.2222222222222222,\"#7201a8\"],[0.3333333333333333,\"#9c179e\"],[0.4444444444444444,\"#bd3786\"],[0.5555555555555556,\"#d8576b\"],[0.6666666666666666,\"#ed7953\"],[0.7777777777777778,\"#fb9f3a\"],[0.8888888888888888,\"#fdca26\"],[1.0,\"#f0f921\"]],\"type\":\"histogram2dcontour\"}],\"mesh3d\":[{\"colorbar\":{\"outlinewidth\":0,\"ticks\":\"\"},\"type\":\"mesh3d\"}],\"parcoords\":[{\"line\":{\"colorbar\":{\"outlinewidth\":0,\"ticks\":\"\"}},\"type\":\"parcoords\"}],\"pie\":[{\"automargin\":true,\"type\":\"pie\"}],\"scatter\":[{\"marker\":{\"colorbar\":{\"outlinewidth\":0,\"ticks\":\"\"}},\"type\":\"scatter\"}],\"scatter3d\":[{\"line\":{\"colorbar\":{\"outlinewidth\":0,\"ticks\":\"\"}},\"marker\":{\"colorbar\":{\"outlinewidth\":0,\"ticks\":\"\"}},\"type\":\"scatter3d\"}],\"scattercarpet\":[{\"marker\":{\"colorbar\":{\"outlinewidth\":0,\"ticks\":\"\"}},\"type\":\"scattercarpet\"}],\"scattergeo\":[{\"marker\":{\"colorbar\":{\"outlinewidth\":0,\"ticks\":\"\"}},\"type\":\"scattergeo\"}],\"scattergl\":[{\"marker\":{\"colorbar\":{\"outlinewidth\":0,\"ticks\":\"\"}},\"type\":\"scattergl\"}],\"scattermapbox\":[{\"marker\":{\"colorbar\":{\"outlinewidth\":0,\"ticks\":\"\"}},\"type\":\"scattermapbox\"}],\"scatterpolar\":[{\"marker\":{\"colorbar\":{\"outlinewidth\":0,\"ticks\":\"\"}},\"type\":\"scatterpolar\"}],\"scatterpolargl\":[{\"marker\":{\"colorbar\":{\"outlinewidth\":0,\"ticks\":\"\"}},\"type\":\"scatterpolargl\"}],\"scatterternary\":[{\"marker\":{\"colorbar\":{\"outlinewidth\":0,\"ticks\":\"\"}},\"type\":\"scatterternary\"}],\"surface\":[{\"colorbar\":{\"outlinewidth\":0,\"ticks\":\"\"},\"colorscale\":[[0.0,\"#0d0887\"],[0.1111111111111111,\"#46039f\"],[0.2222222222222222,\"#7201a8\"],[0.3333333333333333,\"#9c179e\"],[0.4444444444444444,\"#bd3786\"],[0.5555555555555556,\"#d8576b\"],[0.6666666666666666,\"#ed7953\"],[0.7777777777777778,\"#fb9f3a\"],[0.8888888888888888,\"#fdca26\"],[1.0,\"#f0f921\"]],\"type\":\"surface\"}],\"table\":[{\"cells\":{\"fill\":{\"color\":\"#EBF0F8\"},\"line\":{\"color\":\"white\"}},\"header\":{\"fill\":{\"color\":\"#C8D4E3\"},\"line\":{\"color\":\"white\"}},\"type\":\"table\"}]},\"layout\":{\"annotationdefaults\":{\"arrowcolor\":\"#2a3f5f\",\"arrowhead\":0,\"arrowwidth\":1},\"autotypenumbers\":\"strict\",\"coloraxis\":{\"colorbar\":{\"outlinewidth\":0,\"ticks\":\"\"}},\"colorscale\":{\"diverging\":[[0,\"#8e0152\"],[0.1,\"#c51b7d\"],[0.2,\"#de77ae\"],[0.3,\"#f1b6da\"],[0.4,\"#fde0ef\"],[0.5,\"#f7f7f7\"],[0.6,\"#e6f5d0\"],[0.7,\"#b8e186\"],[0.8,\"#7fbc41\"],[0.9,\"#4d9221\"],[1,\"#276419\"]],\"sequential\":[[0.0,\"#0d0887\"],[0.1111111111111111,\"#46039f\"],[0.2222222222222222,\"#7201a8\"],[0.3333333333333333,\"#9c179e\"],[0.4444444444444444,\"#bd3786\"],[0.5555555555555556,\"#d8576b\"],[0.6666666666666666,\"#ed7953\"],[0.7777777777777778,\"#fb9f3a\"],[0.8888888888888888,\"#fdca26\"],[1.0,\"#f0f921\"]],\"sequentialminus\":[[0.0,\"#0d0887\"],[0.1111111111111111,\"#46039f\"],[0.2222222222222222,\"#7201a8\"],[0.3333333333333333,\"#9c179e\"],[0.4444444444444444,\"#bd3786\"],[0.5555555555555556,\"#d8576b\"],[0.6666666666666666,\"#ed7953\"],[0.7777777777777778,\"#fb9f3a\"],[0.8888888888888888,\"#fdca26\"],[1.0,\"#f0f921\"]]},\"colorway\":[\"#636efa\",\"#EF553B\",\"#00cc96\",\"#ab63fa\",\"#FFA15A\",\"#19d3f3\",\"#FF6692\",\"#B6E880\",\"#FF97FF\",\"#FECB52\"],\"font\":{\"color\":\"#2a3f5f\"},\"geo\":{\"bgcolor\":\"white\",\"lakecolor\":\"white\",\"landcolor\":\"#E5ECF6\",\"showlakes\":true,\"showland\":true,\"subunitcolor\":\"white\"},\"hoverlabel\":{\"align\":\"left\"},\"hovermode\":\"closest\",\"mapbox\":{\"style\":\"light\"},\"paper_bgcolor\":\"white\",\"plot_bgcolor\":\"#E5ECF6\",\"polar\":{\"angularaxis\":{\"gridcolor\":\"white\",\"linecolor\":\"white\",\"ticks\":\"\"},\"bgcolor\":\"#E5ECF6\",\"radialaxis\":{\"gridcolor\":\"white\",\"linecolor\":\"white\",\"ticks\":\"\"}},\"scene\":{\"xaxis\":{\"backgroundcolor\":\"#E5ECF6\",\"gridcolor\":\"white\",\"gridwidth\":2,\"linecolor\":\"white\",\"showbackground\":true,\"ticks\":\"\",\"zerolinecolor\":\"white\"},\"yaxis\":{\"backgroundcolor\":\"#E5ECF6\",\"gridcolor\":\"white\",\"gridwidth\":2,\"linecolor\":\"white\",\"showbackground\":true,\"ticks\":\"\",\"zerolinecolor\":\"white\"},\"zaxis\":{\"backgroundcolor\":\"#E5ECF6\",\"gridcolor\":\"white\",\"gridwidth\":2,\"linecolor\":\"white\",\"showbackground\":true,\"ticks\":\"\",\"zerolinecolor\":\"white\"}},\"shapedefaults\":{\"line\":{\"color\":\"#2a3f5f\"}},\"ternary\":{\"aaxis\":{\"gridcolor\":\"white\",\"linecolor\":\"white\",\"ticks\":\"\"},\"baxis\":{\"gridcolor\":\"white\",\"linecolor\":\"white\",\"ticks\":\"\"},\"bgcolor\":\"#E5ECF6\",\"caxis\":{\"gridcolor\":\"white\",\"linecolor\":\"white\",\"ticks\":\"\"}},\"title\":{\"x\":0.05},\"xaxis\":{\"automargin\":true,\"gridcolor\":\"white\",\"linecolor\":\"white\",\"ticks\":\"\",\"title\":{\"standoff\":15},\"zerolinecolor\":\"white\",\"zerolinewidth\":2},\"yaxis\":{\"automargin\":true,\"gridcolor\":\"white\",\"linecolor\":\"white\",\"ticks\":\"\",\"title\":{\"standoff\":15},\"zerolinecolor\":\"white\",\"zerolinewidth\":2}}},\"title\":{\"text\":\"LHS\"}},                        {\"responsive\": true}                    ).then(function(){\n",
       "                            \n",
       "var gd = document.getElementById('96f81204-9715-44d2-963a-4447c635b7c7');\n",
       "var x = new MutationObserver(function (mutations, observer) {{\n",
       "        var display = window.getComputedStyle(gd).display;\n",
       "        if (!display || display === 'none') {{\n",
       "            console.log([gd, 'removed!']);\n",
       "            Plotly.purge(gd);\n",
       "            observer.disconnect();\n",
       "        }}\n",
       "}});\n",
       "\n",
       "// Listen for the removal of the full notebook cells\n",
       "var notebookContainer = gd.closest('#notebook-container');\n",
       "if (notebookContainer) {{\n",
       "    x.observe(notebookContainer, {childList: true});\n",
       "}}\n",
       "\n",
       "// Listen for the clearing of the current output cell\n",
       "var outputEl = gd.closest('.output');\n",
       "if (outputEl) {{\n",
       "    x.observe(outputEl, {childList: true});\n",
       "}}\n",
       "\n",
       "                        })                };                });            </script>        </div>"
      ]
     },
     "metadata": {},
     "output_type": "display_data"
    },
    {
     "data": {
      "application/vnd.plotly.v1+json": {
       "config": {
        "plotlyServerURL": "https://plot.ly"
       },
       "data": [
        {
         "marker": {
          "color": "#5876c8",
          "line": {
           "color": "black",
           "width": 2
          },
          "size": 12
         },
         "mode": "markers",
         "name": "Contigs",
         "opacity": 0.4,
         "r": [
          11,
          12,
          4,
          7,
          5,
          3,
          2,
          10,
          6,
          8,
          1,
          9
         ],
         "showlegend": true,
         "subplot": "polar",
         "theta": [
          "ABySS",
          "BCALM2",
          "GATBMiniaPipeline",
          "IDBA-UD",
          "MEGAHIT",
          "MetaHipMer2",
          "metaSPAdes",
          "MINIA",
          "SKESA",
          "SPAdes",
          "Unicycler",
          "VelvetOptimiser"
         ],
         "type": "scatterpolar"
        },
        {
         "marker": {
          "color": "#5876c8",
          "line": {
           "color": "black",
           "width": 2
          },
          "size": 12
         },
         "mode": "markers",
         "name": "Contigs",
         "opacity": 0.4,
         "r": [
          4,
          12,
          6,
          9,
          5,
          7,
          2,
          11,
          8,
          3,
          1,
          10
         ],
         "showlegend": false,
         "subplot": "polar2",
         "theta": [
          "ABySS",
          "BCALM2",
          "GATBMiniaPipeline",
          "IDBA-UD",
          "MEGAHIT",
          "MetaHipMer2",
          "metaSPAdes",
          "MINIA",
          "SKESA",
          "SPAdes",
          "Unicycler",
          "VelvetOptimiser"
         ],
         "type": "scatterpolar"
        },
        {
         "marker": {
          "color": "#009392",
          "line": {
           "color": "black",
           "width": 2
          },
          "size": 12
         },
         "mode": "markers",
         "name": "Basepairs",
         "opacity": 0.4,
         "r": [
          11,
          12,
          6,
          4,
          8,
          3,
          5,
          9,
          1,
          10,
          2,
          7
         ],
         "showlegend": true,
         "subplot": "polar",
         "theta": [
          "ABySS",
          "BCALM2",
          "GATBMiniaPipeline",
          "IDBA-UD",
          "MEGAHIT",
          "MetaHipMer2",
          "metaSPAdes",
          "MINIA",
          "SKESA",
          "SPAdes",
          "Unicycler",
          "VelvetOptimiser"
         ],
         "type": "scatterpolar"
        },
        {
         "marker": {
          "color": "#009392",
          "line": {
           "color": "black",
           "width": 2
          },
          "size": 12
         },
         "mode": "markers",
         "name": "Basepairs",
         "opacity": 0.4,
         "r": [
          12,
          1,
          8,
          5,
          11,
          7,
          10,
          2,
          4,
          9,
          6,
          3
         ],
         "showlegend": false,
         "subplot": "polar2",
         "theta": [
          "ABySS",
          "BCALM2",
          "GATBMiniaPipeline",
          "IDBA-UD",
          "MEGAHIT",
          "MetaHipMer2",
          "metaSPAdes",
          "MINIA",
          "SKESA",
          "SPAdes",
          "Unicycler",
          "VelvetOptimiser"
         ],
         "type": "scatterpolar"
        },
        {
         "marker": {
          "color": "#9CCB86",
          "line": {
           "color": "black",
           "width": 2
          },
          "size": 12
         },
         "mode": "markers",
         "name": "Largest contig",
         "opacity": 0.4,
         "r": [
          5,
          12,
          7,
          10,
          6,
          9,
          2,
          11,
          8,
          3,
          1,
          4
         ],
         "showlegend": true,
         "subplot": "polar",
         "theta": [
          "ABySS",
          "BCALM2",
          "GATBMiniaPipeline",
          "IDBA-UD",
          "MEGAHIT",
          "MetaHipMer2",
          "metaSPAdes",
          "MINIA",
          "SKESA",
          "SPAdes",
          "Unicycler",
          "VelvetOptimiser"
         ],
         "type": "scatterpolar"
        },
        {
         "marker": {
          "color": "#EEB479",
          "line": {
           "color": "black",
           "width": 2
          },
          "size": 12
         },
         "mode": "markers",
         "name": "N50",
         "opacity": 0.4,
         "r": [
          5,
          12,
          6,
          9,
          4,
          7,
          2,
          11,
          8,
          3,
          1,
          10
         ],
         "showlegend": true,
         "subplot": "polar",
         "theta": [
          "ABySS",
          "BCALM2",
          "GATBMiniaPipeline",
          "IDBA-UD",
          "MEGAHIT",
          "MetaHipMer2",
          "metaSPAdes",
          "MINIA",
          "SKESA",
          "SPAdes",
          "Unicycler",
          "VelvetOptimiser"
         ],
         "type": "scatterpolar"
        },
        {
         "marker": {
          "color": "#EEB479",
          "line": {
           "color": "black",
           "width": 2
          },
          "size": 12
         },
         "mode": "markers",
         "name": "N50",
         "opacity": 0.4,
         "r": [
          5,
          12,
          6,
          9,
          4,
          7,
          3,
          11,
          8,
          2,
          1,
          10
         ],
         "showlegend": false,
         "subplot": "polar2",
         "theta": [
          "ABySS",
          "BCALM2",
          "GATBMiniaPipeline",
          "IDBA-UD",
          "MEGAHIT",
          "MetaHipMer2",
          "metaSPAdes",
          "MINIA",
          "SKESA",
          "SPAdes",
          "Unicycler",
          "VelvetOptimiser"
         ],
         "type": "scatterpolar"
        },
        {
         "marker": {
          "color": "#E88471",
          "line": {
           "color": "black",
           "width": 2
          },
          "size": 12
         },
         "mode": "markers",
         "name": "% Mapped reads",
         "opacity": 0.4,
         "r": [
          6,
          12,
          2,
          5,
          1,
          8,
          3,
          10,
          9,
          4,
          7,
          11
         ],
         "showlegend": true,
         "subplot": "polar",
         "theta": [
          "ABySS",
          "BCALM2",
          "GATBMiniaPipeline",
          "IDBA-UD",
          "MEGAHIT",
          "MetaHipMer2",
          "metaSPAdes",
          "MINIA",
          "SKESA",
          "SPAdes",
          "Unicycler",
          "VelvetOptimiser"
         ],
         "type": "scatterpolar"
        },
        {
         "marker": {
          "color": "#E88471",
          "line": {
           "color": "black",
           "width": 2
          },
          "size": 12
         },
         "mode": "markers",
         "name": "% Mapped reads",
         "opacity": 0.4,
         "r": [
          5,
          12,
          4,
          7,
          1,
          8,
          2,
          11,
          9,
          2,
          6,
          10
         ],
         "showlegend": false,
         "subplot": "polar2",
         "theta": [
          "ABySS",
          "BCALM2",
          "GATBMiniaPipeline",
          "IDBA-UD",
          "MEGAHIT",
          "MetaHipMer2",
          "metaSPAdes",
          "MINIA",
          "SKESA",
          "SPAdes",
          "Unicycler",
          "VelvetOptimiser"
         ],
         "type": "scatterpolar"
        },
        {
         "marker": {
          "color": "#CF597E",
          "line": {
           "color": "black",
           "width": 2
          },
          "size": 12
         },
         "mode": "markers",
         "name": "Uncalled bases",
         "opacity": 0.4,
         "r": [
          11,
          1,
          1,
          1,
          1,
          1,
          1,
          1,
          1,
          1,
          1,
          12
         ],
         "showlegend": true,
         "subplot": "polar",
         "theta": [
          "ABySS",
          "BCALM2",
          "GATBMiniaPipeline",
          "IDBA-UD",
          "MEGAHIT",
          "MetaHipMer2",
          "metaSPAdes",
          "MINIA",
          "SKESA",
          "SPAdes",
          "Unicycler",
          "VelvetOptimiser"
         ],
         "type": "scatterpolar"
        },
        {
         "marker": {
          "color": "#CF597E",
          "line": {
           "color": "black",
           "width": 2
          },
          "size": 12
         },
         "mode": "markers",
         "name": "Uncalled bases",
         "opacity": 0.4,
         "r": [
          11,
          1,
          1,
          1,
          1,
          1,
          1,
          1,
          1,
          1,
          1,
          12
         ],
         "showlegend": false,
         "subplot": "polar2",
         "theta": [
          "ABySS",
          "BCALM2",
          "GATBMiniaPipeline",
          "IDBA-UD",
          "MEGAHIT",
          "MetaHipMer2",
          "metaSPAdes",
          "MINIA",
          "SKESA",
          "SPAdes",
          "Unicycler",
          "VelvetOptimiser"
         ],
         "type": "scatterpolar"
        },
        {
         "marker": {
          "color": "#a54765",
          "line": {
           "color": "black",
           "width": 2
          },
          "size": 12
         },
         "mode": "markers",
         "name": "Misassembled contigs",
         "opacity": 0.4,
         "r": [
          8,
          1,
          6,
          12,
          11,
          1,
          6,
          1,
          10,
          1,
          1,
          9
         ],
         "showlegend": true,
         "subplot": "polar2",
         "theta": [
          "ABySS",
          "BCALM2",
          "GATBMiniaPipeline",
          "IDBA-UD",
          "MEGAHIT",
          "MetaHipMer2",
          "metaSPAdes",
          "MINIA",
          "SKESA",
          "SPAdes",
          "Unicycler",
          "VelvetOptimiser"
         ],
         "type": "scatterpolar"
        },
        {
         "marker": {
          "color": "#835221",
          "line": {
           "color": "black",
           "width": 2
          },
          "size": 12
         },
         "mode": "markers",
         "name": "Misassembly events",
         "opacity": 0.4,
         "r": [
          7,
          1,
          6,
          12,
          11,
          1,
          7,
          1,
          10,
          1,
          1,
          9
         ],
         "showlegend": true,
         "subplot": "polar2",
         "theta": [
          "ABySS",
          "BCALM2",
          "GATBMiniaPipeline",
          "IDBA-UD",
          "MEGAHIT",
          "MetaHipMer2",
          "metaSPAdes",
          "MINIA",
          "SKESA",
          "SPAdes",
          "Unicycler",
          "VelvetOptimiser"
         ],
         "type": "scatterpolar"
        }
       ],
       "layout": {
        "annotations": [
         {
          "font": {
           "size": 16
          },
          "showarrow": false,
          "text": "Original",
          "x": 0.225,
          "xanchor": "center",
          "xref": "paper",
          "y": 1,
          "yanchor": "bottom",
          "yref": "paper"
         },
         {
          "font": {
           "size": 16
          },
          "showarrow": false,
          "text": "Filtered",
          "x": 0.775,
          "xanchor": "center",
          "xref": "paper",
          "y": 1,
          "yanchor": "bottom",
          "yref": "paper"
         }
        ],
        "polar": {
         "angularaxis": {
          "categoryarray": [
           "ABySS",
           "BCALM2",
           "GATBMiniaPipeline",
           "IDBA-UD",
           "MEGAHIT",
           "MetaHipMer2",
           "metaSPAdes",
           "MINIA",
           "SKESA",
           "SPAdes",
           "Unicycler",
           "VelvetOptimiser",
           " "
          ],
          "linecolor": "black"
         },
         "bgcolor": "rgb(255,255,255)",
         "domain": {
          "x": [
           0,
           0.45
          ],
          "y": [
           0,
           1
          ]
         },
         "hole": 0.08333333333333333,
         "radialaxis": {
          "angle": -22.5,
          "autorange": "reversed",
          "gridcolor": "#DCDCDC",
          "linecolor": "black",
          "linewidth": 2,
          "range": [
           1,
           12
          ],
          "visible": true
         }
        },
        "polar2": {
         "angularaxis": {
          "categoryarray": [
           "ABySS",
           "BCALM2",
           "GATBMiniaPipeline",
           "IDBA-UD",
           "MEGAHIT",
           "MetaHipMer2",
           "metaSPAdes",
           "MINIA",
           "SKESA",
           "SPAdes",
           "Unicycler",
           "VelvetOptimiser",
           " "
          ],
          "linecolor": "black"
         },
         "bgcolor": "rgb(255,255,255)",
         "domain": {
          "x": [
           0.55,
           1
          ],
          "y": [
           0,
           1
          ]
         },
         "hole": 0.08333333333333333,
         "radialaxis": {
          "angle": -22.5,
          "autorange": "reversed",
          "gridcolor": "#DCDCDC",
          "linecolor": "black",
          "linewidth": 2,
          "range": [
           1,
           12
          ],
          "visible": true
         }
        },
        "template": {
         "data": {
          "bar": [
           {
            "error_x": {
             "color": "#2a3f5f"
            },
            "error_y": {
             "color": "#2a3f5f"
            },
            "marker": {
             "line": {
              "color": "#E5ECF6",
              "width": 0.5
             },
             "pattern": {
              "fillmode": "overlay",
              "size": 10,
              "solidity": 0.2
             }
            },
            "type": "bar"
           }
          ],
          "barpolar": [
           {
            "marker": {
             "line": {
              "color": "#E5ECF6",
              "width": 0.5
             },
             "pattern": {
              "fillmode": "overlay",
              "size": 10,
              "solidity": 0.2
             }
            },
            "type": "barpolar"
           }
          ],
          "carpet": [
           {
            "aaxis": {
             "endlinecolor": "#2a3f5f",
             "gridcolor": "white",
             "linecolor": "white",
             "minorgridcolor": "white",
             "startlinecolor": "#2a3f5f"
            },
            "baxis": {
             "endlinecolor": "#2a3f5f",
             "gridcolor": "white",
             "linecolor": "white",
             "minorgridcolor": "white",
             "startlinecolor": "#2a3f5f"
            },
            "type": "carpet"
           }
          ],
          "choropleth": [
           {
            "colorbar": {
             "outlinewidth": 0,
             "ticks": ""
            },
            "type": "choropleth"
           }
          ],
          "contour": [
           {
            "colorbar": {
             "outlinewidth": 0,
             "ticks": ""
            },
            "colorscale": [
             [
              0,
              "#0d0887"
             ],
             [
              0.1111111111111111,
              "#46039f"
             ],
             [
              0.2222222222222222,
              "#7201a8"
             ],
             [
              0.3333333333333333,
              "#9c179e"
             ],
             [
              0.4444444444444444,
              "#bd3786"
             ],
             [
              0.5555555555555556,
              "#d8576b"
             ],
             [
              0.6666666666666666,
              "#ed7953"
             ],
             [
              0.7777777777777778,
              "#fb9f3a"
             ],
             [
              0.8888888888888888,
              "#fdca26"
             ],
             [
              1,
              "#f0f921"
             ]
            ],
            "type": "contour"
           }
          ],
          "contourcarpet": [
           {
            "colorbar": {
             "outlinewidth": 0,
             "ticks": ""
            },
            "type": "contourcarpet"
           }
          ],
          "heatmap": [
           {
            "colorbar": {
             "outlinewidth": 0,
             "ticks": ""
            },
            "colorscale": [
             [
              0,
              "#0d0887"
             ],
             [
              0.1111111111111111,
              "#46039f"
             ],
             [
              0.2222222222222222,
              "#7201a8"
             ],
             [
              0.3333333333333333,
              "#9c179e"
             ],
             [
              0.4444444444444444,
              "#bd3786"
             ],
             [
              0.5555555555555556,
              "#d8576b"
             ],
             [
              0.6666666666666666,
              "#ed7953"
             ],
             [
              0.7777777777777778,
              "#fb9f3a"
             ],
             [
              0.8888888888888888,
              "#fdca26"
             ],
             [
              1,
              "#f0f921"
             ]
            ],
            "type": "heatmap"
           }
          ],
          "heatmapgl": [
           {
            "colorbar": {
             "outlinewidth": 0,
             "ticks": ""
            },
            "colorscale": [
             [
              0,
              "#0d0887"
             ],
             [
              0.1111111111111111,
              "#46039f"
             ],
             [
              0.2222222222222222,
              "#7201a8"
             ],
             [
              0.3333333333333333,
              "#9c179e"
             ],
             [
              0.4444444444444444,
              "#bd3786"
             ],
             [
              0.5555555555555556,
              "#d8576b"
             ],
             [
              0.6666666666666666,
              "#ed7953"
             ],
             [
              0.7777777777777778,
              "#fb9f3a"
             ],
             [
              0.8888888888888888,
              "#fdca26"
             ],
             [
              1,
              "#f0f921"
             ]
            ],
            "type": "heatmapgl"
           }
          ],
          "histogram": [
           {
            "marker": {
             "pattern": {
              "fillmode": "overlay",
              "size": 10,
              "solidity": 0.2
             }
            },
            "type": "histogram"
           }
          ],
          "histogram2d": [
           {
            "colorbar": {
             "outlinewidth": 0,
             "ticks": ""
            },
            "colorscale": [
             [
              0,
              "#0d0887"
             ],
             [
              0.1111111111111111,
              "#46039f"
             ],
             [
              0.2222222222222222,
              "#7201a8"
             ],
             [
              0.3333333333333333,
              "#9c179e"
             ],
             [
              0.4444444444444444,
              "#bd3786"
             ],
             [
              0.5555555555555556,
              "#d8576b"
             ],
             [
              0.6666666666666666,
              "#ed7953"
             ],
             [
              0.7777777777777778,
              "#fb9f3a"
             ],
             [
              0.8888888888888888,
              "#fdca26"
             ],
             [
              1,
              "#f0f921"
             ]
            ],
            "type": "histogram2d"
           }
          ],
          "histogram2dcontour": [
           {
            "colorbar": {
             "outlinewidth": 0,
             "ticks": ""
            },
            "colorscale": [
             [
              0,
              "#0d0887"
             ],
             [
              0.1111111111111111,
              "#46039f"
             ],
             [
              0.2222222222222222,
              "#7201a8"
             ],
             [
              0.3333333333333333,
              "#9c179e"
             ],
             [
              0.4444444444444444,
              "#bd3786"
             ],
             [
              0.5555555555555556,
              "#d8576b"
             ],
             [
              0.6666666666666666,
              "#ed7953"
             ],
             [
              0.7777777777777778,
              "#fb9f3a"
             ],
             [
              0.8888888888888888,
              "#fdca26"
             ],
             [
              1,
              "#f0f921"
             ]
            ],
            "type": "histogram2dcontour"
           }
          ],
          "mesh3d": [
           {
            "colorbar": {
             "outlinewidth": 0,
             "ticks": ""
            },
            "type": "mesh3d"
           }
          ],
          "parcoords": [
           {
            "line": {
             "colorbar": {
              "outlinewidth": 0,
              "ticks": ""
             }
            },
            "type": "parcoords"
           }
          ],
          "pie": [
           {
            "automargin": true,
            "type": "pie"
           }
          ],
          "scatter": [
           {
            "marker": {
             "colorbar": {
              "outlinewidth": 0,
              "ticks": ""
             }
            },
            "type": "scatter"
           }
          ],
          "scatter3d": [
           {
            "line": {
             "colorbar": {
              "outlinewidth": 0,
              "ticks": ""
             }
            },
            "marker": {
             "colorbar": {
              "outlinewidth": 0,
              "ticks": ""
             }
            },
            "type": "scatter3d"
           }
          ],
          "scattercarpet": [
           {
            "marker": {
             "colorbar": {
              "outlinewidth": 0,
              "ticks": ""
             }
            },
            "type": "scattercarpet"
           }
          ],
          "scattergeo": [
           {
            "marker": {
             "colorbar": {
              "outlinewidth": 0,
              "ticks": ""
             }
            },
            "type": "scattergeo"
           }
          ],
          "scattergl": [
           {
            "marker": {
             "colorbar": {
              "outlinewidth": 0,
              "ticks": ""
             }
            },
            "type": "scattergl"
           }
          ],
          "scattermapbox": [
           {
            "marker": {
             "colorbar": {
              "outlinewidth": 0,
              "ticks": ""
             }
            },
            "type": "scattermapbox"
           }
          ],
          "scatterpolar": [
           {
            "marker": {
             "colorbar": {
              "outlinewidth": 0,
              "ticks": ""
             }
            },
            "type": "scatterpolar"
           }
          ],
          "scatterpolargl": [
           {
            "marker": {
             "colorbar": {
              "outlinewidth": 0,
              "ticks": ""
             }
            },
            "type": "scatterpolargl"
           }
          ],
          "scatterternary": [
           {
            "marker": {
             "colorbar": {
              "outlinewidth": 0,
              "ticks": ""
             }
            },
            "type": "scatterternary"
           }
          ],
          "surface": [
           {
            "colorbar": {
             "outlinewidth": 0,
             "ticks": ""
            },
            "colorscale": [
             [
              0,
              "#0d0887"
             ],
             [
              0.1111111111111111,
              "#46039f"
             ],
             [
              0.2222222222222222,
              "#7201a8"
             ],
             [
              0.3333333333333333,
              "#9c179e"
             ],
             [
              0.4444444444444444,
              "#bd3786"
             ],
             [
              0.5555555555555556,
              "#d8576b"
             ],
             [
              0.6666666666666666,
              "#ed7953"
             ],
             [
              0.7777777777777778,
              "#fb9f3a"
             ],
             [
              0.8888888888888888,
              "#fdca26"
             ],
             [
              1,
              "#f0f921"
             ]
            ],
            "type": "surface"
           }
          ],
          "table": [
           {
            "cells": {
             "fill": {
              "color": "#EBF0F8"
             },
             "line": {
              "color": "white"
             }
            },
            "header": {
             "fill": {
              "color": "#C8D4E3"
             },
             "line": {
              "color": "white"
             }
            },
            "type": "table"
           }
          ]
         },
         "layout": {
          "annotationdefaults": {
           "arrowcolor": "#2a3f5f",
           "arrowhead": 0,
           "arrowwidth": 1
          },
          "autotypenumbers": "strict",
          "coloraxis": {
           "colorbar": {
            "outlinewidth": 0,
            "ticks": ""
           }
          },
          "colorscale": {
           "diverging": [
            [
             0,
             "#8e0152"
            ],
            [
             0.1,
             "#c51b7d"
            ],
            [
             0.2,
             "#de77ae"
            ],
            [
             0.3,
             "#f1b6da"
            ],
            [
             0.4,
             "#fde0ef"
            ],
            [
             0.5,
             "#f7f7f7"
            ],
            [
             0.6,
             "#e6f5d0"
            ],
            [
             0.7,
             "#b8e186"
            ],
            [
             0.8,
             "#7fbc41"
            ],
            [
             0.9,
             "#4d9221"
            ],
            [
             1,
             "#276419"
            ]
           ],
           "sequential": [
            [
             0,
             "#0d0887"
            ],
            [
             0.1111111111111111,
             "#46039f"
            ],
            [
             0.2222222222222222,
             "#7201a8"
            ],
            [
             0.3333333333333333,
             "#9c179e"
            ],
            [
             0.4444444444444444,
             "#bd3786"
            ],
            [
             0.5555555555555556,
             "#d8576b"
            ],
            [
             0.6666666666666666,
             "#ed7953"
            ],
            [
             0.7777777777777778,
             "#fb9f3a"
            ],
            [
             0.8888888888888888,
             "#fdca26"
            ],
            [
             1,
             "#f0f921"
            ]
           ],
           "sequentialminus": [
            [
             0,
             "#0d0887"
            ],
            [
             0.1111111111111111,
             "#46039f"
            ],
            [
             0.2222222222222222,
             "#7201a8"
            ],
            [
             0.3333333333333333,
             "#9c179e"
            ],
            [
             0.4444444444444444,
             "#bd3786"
            ],
            [
             0.5555555555555556,
             "#d8576b"
            ],
            [
             0.6666666666666666,
             "#ed7953"
            ],
            [
             0.7777777777777778,
             "#fb9f3a"
            ],
            [
             0.8888888888888888,
             "#fdca26"
            ],
            [
             1,
             "#f0f921"
            ]
           ]
          },
          "colorway": [
           "#636efa",
           "#EF553B",
           "#00cc96",
           "#ab63fa",
           "#FFA15A",
           "#19d3f3",
           "#FF6692",
           "#B6E880",
           "#FF97FF",
           "#FECB52"
          ],
          "font": {
           "color": "#2a3f5f"
          },
          "geo": {
           "bgcolor": "white",
           "lakecolor": "white",
           "landcolor": "#E5ECF6",
           "showlakes": true,
           "showland": true,
           "subunitcolor": "white"
          },
          "hoverlabel": {
           "align": "left"
          },
          "hovermode": "closest",
          "mapbox": {
           "style": "light"
          },
          "paper_bgcolor": "white",
          "plot_bgcolor": "#E5ECF6",
          "polar": {
           "angularaxis": {
            "gridcolor": "white",
            "linecolor": "white",
            "ticks": ""
           },
           "bgcolor": "#E5ECF6",
           "radialaxis": {
            "gridcolor": "white",
            "linecolor": "white",
            "ticks": ""
           }
          },
          "scene": {
           "xaxis": {
            "backgroundcolor": "#E5ECF6",
            "gridcolor": "white",
            "gridwidth": 2,
            "linecolor": "white",
            "showbackground": true,
            "ticks": "",
            "zerolinecolor": "white"
           },
           "yaxis": {
            "backgroundcolor": "#E5ECF6",
            "gridcolor": "white",
            "gridwidth": 2,
            "linecolor": "white",
            "showbackground": true,
            "ticks": "",
            "zerolinecolor": "white"
           },
           "zaxis": {
            "backgroundcolor": "#E5ECF6",
            "gridcolor": "white",
            "gridwidth": 2,
            "linecolor": "white",
            "showbackground": true,
            "ticks": "",
            "zerolinecolor": "white"
           }
          },
          "shapedefaults": {
           "line": {
            "color": "#2a3f5f"
           }
          },
          "ternary": {
           "aaxis": {
            "gridcolor": "white",
            "linecolor": "white",
            "ticks": ""
           },
           "baxis": {
            "gridcolor": "white",
            "linecolor": "white",
            "ticks": ""
           },
           "bgcolor": "#E5ECF6",
           "caxis": {
            "gridcolor": "white",
            "linecolor": "white",
            "ticks": ""
           }
          },
          "title": {
           "x": 0.05
          },
          "xaxis": {
           "automargin": true,
           "gridcolor": "white",
           "linecolor": "white",
           "ticks": "",
           "title": {
            "standoff": 15
           },
           "zerolinecolor": "white",
           "zerolinewidth": 2
          },
          "yaxis": {
           "automargin": true,
           "gridcolor": "white",
           "linecolor": "white",
           "ticks": "",
           "title": {
            "standoff": 15
           },
           "zerolinecolor": "white",
           "zerolinewidth": 2
          }
         }
        },
        "title": {
         "text": "EMS"
        }
       }
      },
      "text/html": [
       "<div>                            <div id=\"ce4dfa37-d7af-49ce-bc4e-66a8c29b9995\" class=\"plotly-graph-div\" style=\"height:525px; width:100%;\"></div>            <script type=\"text/javascript\">                require([\"plotly\"], function(Plotly) {                    window.PLOTLYENV=window.PLOTLYENV || {};                                    if (document.getElementById(\"ce4dfa37-d7af-49ce-bc4e-66a8c29b9995\")) {                    Plotly.newPlot(                        \"ce4dfa37-d7af-49ce-bc4e-66a8c29b9995\",                        [{\"marker\":{\"color\":\"#5876c8\",\"line\":{\"color\":\"black\",\"width\":2},\"size\":12},\"mode\":\"markers\",\"name\":\"Contigs\",\"opacity\":0.4,\"r\":[11,12,4,7,5,3,2,10,6,8,1,9],\"showlegend\":true,\"subplot\":\"polar\",\"theta\":[\"ABySS\",\"BCALM2\",\"GATBMiniaPipeline\",\"IDBA-UD\",\"MEGAHIT\",\"MetaHipMer2\",\"metaSPAdes\",\"MINIA\",\"SKESA\",\"SPAdes\",\"Unicycler\",\"VelvetOptimiser\"],\"type\":\"scatterpolar\"},{\"marker\":{\"color\":\"#5876c8\",\"line\":{\"color\":\"black\",\"width\":2},\"size\":12},\"mode\":\"markers\",\"name\":\"Contigs\",\"opacity\":0.4,\"r\":[4,12,6,9,5,7,2,11,8,3,1,10],\"showlegend\":false,\"subplot\":\"polar2\",\"theta\":[\"ABySS\",\"BCALM2\",\"GATBMiniaPipeline\",\"IDBA-UD\",\"MEGAHIT\",\"MetaHipMer2\",\"metaSPAdes\",\"MINIA\",\"SKESA\",\"SPAdes\",\"Unicycler\",\"VelvetOptimiser\"],\"type\":\"scatterpolar\"},{\"marker\":{\"color\":\"#009392\",\"line\":{\"color\":\"black\",\"width\":2},\"size\":12},\"mode\":\"markers\",\"name\":\"Basepairs\",\"opacity\":0.4,\"r\":[11,12,6,4,8,3,5,9,1,10,2,7],\"showlegend\":true,\"subplot\":\"polar\",\"theta\":[\"ABySS\",\"BCALM2\",\"GATBMiniaPipeline\",\"IDBA-UD\",\"MEGAHIT\",\"MetaHipMer2\",\"metaSPAdes\",\"MINIA\",\"SKESA\",\"SPAdes\",\"Unicycler\",\"VelvetOptimiser\"],\"type\":\"scatterpolar\"},{\"marker\":{\"color\":\"#009392\",\"line\":{\"color\":\"black\",\"width\":2},\"size\":12},\"mode\":\"markers\",\"name\":\"Basepairs\",\"opacity\":0.4,\"r\":[12,1,8,5,11,7,10,2,4,9,6,3],\"showlegend\":false,\"subplot\":\"polar2\",\"theta\":[\"ABySS\",\"BCALM2\",\"GATBMiniaPipeline\",\"IDBA-UD\",\"MEGAHIT\",\"MetaHipMer2\",\"metaSPAdes\",\"MINIA\",\"SKESA\",\"SPAdes\",\"Unicycler\",\"VelvetOptimiser\"],\"type\":\"scatterpolar\"},{\"marker\":{\"color\":\"#9CCB86\",\"line\":{\"color\":\"black\",\"width\":2},\"size\":12},\"mode\":\"markers\",\"name\":\"Largest contig\",\"opacity\":0.4,\"r\":[5,12,7,10,6,9,2,11,8,3,1,4],\"showlegend\":true,\"subplot\":\"polar\",\"theta\":[\"ABySS\",\"BCALM2\",\"GATBMiniaPipeline\",\"IDBA-UD\",\"MEGAHIT\",\"MetaHipMer2\",\"metaSPAdes\",\"MINIA\",\"SKESA\",\"SPAdes\",\"Unicycler\",\"VelvetOptimiser\"],\"type\":\"scatterpolar\"},{\"marker\":{\"color\":\"#EEB479\",\"line\":{\"color\":\"black\",\"width\":2},\"size\":12},\"mode\":\"markers\",\"name\":\"N50\",\"opacity\":0.4,\"r\":[5,12,6,9,4,7,2,11,8,3,1,10],\"showlegend\":true,\"subplot\":\"polar\",\"theta\":[\"ABySS\",\"BCALM2\",\"GATBMiniaPipeline\",\"IDBA-UD\",\"MEGAHIT\",\"MetaHipMer2\",\"metaSPAdes\",\"MINIA\",\"SKESA\",\"SPAdes\",\"Unicycler\",\"VelvetOptimiser\"],\"type\":\"scatterpolar\"},{\"marker\":{\"color\":\"#EEB479\",\"line\":{\"color\":\"black\",\"width\":2},\"size\":12},\"mode\":\"markers\",\"name\":\"N50\",\"opacity\":0.4,\"r\":[5,12,6,9,4,7,3,11,8,2,1,10],\"showlegend\":false,\"subplot\":\"polar2\",\"theta\":[\"ABySS\",\"BCALM2\",\"GATBMiniaPipeline\",\"IDBA-UD\",\"MEGAHIT\",\"MetaHipMer2\",\"metaSPAdes\",\"MINIA\",\"SKESA\",\"SPAdes\",\"Unicycler\",\"VelvetOptimiser\"],\"type\":\"scatterpolar\"},{\"marker\":{\"color\":\"#E88471\",\"line\":{\"color\":\"black\",\"width\":2},\"size\":12},\"mode\":\"markers\",\"name\":\"% Mapped reads\",\"opacity\":0.4,\"r\":[6,12,2,5,1,8,3,10,9,4,7,11],\"showlegend\":true,\"subplot\":\"polar\",\"theta\":[\"ABySS\",\"BCALM2\",\"GATBMiniaPipeline\",\"IDBA-UD\",\"MEGAHIT\",\"MetaHipMer2\",\"metaSPAdes\",\"MINIA\",\"SKESA\",\"SPAdes\",\"Unicycler\",\"VelvetOptimiser\"],\"type\":\"scatterpolar\"},{\"marker\":{\"color\":\"#E88471\",\"line\":{\"color\":\"black\",\"width\":2},\"size\":12},\"mode\":\"markers\",\"name\":\"% Mapped reads\",\"opacity\":0.4,\"r\":[5,12,4,7,1,8,2,11,9,2,6,10],\"showlegend\":false,\"subplot\":\"polar2\",\"theta\":[\"ABySS\",\"BCALM2\",\"GATBMiniaPipeline\",\"IDBA-UD\",\"MEGAHIT\",\"MetaHipMer2\",\"metaSPAdes\",\"MINIA\",\"SKESA\",\"SPAdes\",\"Unicycler\",\"VelvetOptimiser\"],\"type\":\"scatterpolar\"},{\"marker\":{\"color\":\"#CF597E\",\"line\":{\"color\":\"black\",\"width\":2},\"size\":12},\"mode\":\"markers\",\"name\":\"Uncalled bases\",\"opacity\":0.4,\"r\":[11,1,1,1,1,1,1,1,1,1,1,12],\"showlegend\":true,\"subplot\":\"polar\",\"theta\":[\"ABySS\",\"BCALM2\",\"GATBMiniaPipeline\",\"IDBA-UD\",\"MEGAHIT\",\"MetaHipMer2\",\"metaSPAdes\",\"MINIA\",\"SKESA\",\"SPAdes\",\"Unicycler\",\"VelvetOptimiser\"],\"type\":\"scatterpolar\"},{\"marker\":{\"color\":\"#CF597E\",\"line\":{\"color\":\"black\",\"width\":2},\"size\":12},\"mode\":\"markers\",\"name\":\"Uncalled bases\",\"opacity\":0.4,\"r\":[11,1,1,1,1,1,1,1,1,1,1,12],\"showlegend\":false,\"subplot\":\"polar2\",\"theta\":[\"ABySS\",\"BCALM2\",\"GATBMiniaPipeline\",\"IDBA-UD\",\"MEGAHIT\",\"MetaHipMer2\",\"metaSPAdes\",\"MINIA\",\"SKESA\",\"SPAdes\",\"Unicycler\",\"VelvetOptimiser\"],\"type\":\"scatterpolar\"},{\"marker\":{\"color\":\"#a54765\",\"line\":{\"color\":\"black\",\"width\":2},\"size\":12},\"mode\":\"markers\",\"name\":\"Misassembled contigs\",\"opacity\":0.4,\"r\":[8,1,6,12,11,1,6,1,10,1,1,9],\"showlegend\":true,\"subplot\":\"polar2\",\"theta\":[\"ABySS\",\"BCALM2\",\"GATBMiniaPipeline\",\"IDBA-UD\",\"MEGAHIT\",\"MetaHipMer2\",\"metaSPAdes\",\"MINIA\",\"SKESA\",\"SPAdes\",\"Unicycler\",\"VelvetOptimiser\"],\"type\":\"scatterpolar\"},{\"marker\":{\"color\":\"#835221\",\"line\":{\"color\":\"black\",\"width\":2},\"size\":12},\"mode\":\"markers\",\"name\":\"Misassembly events\",\"opacity\":0.4,\"r\":[7,1,6,12,11,1,7,1,10,1,1,9],\"showlegend\":true,\"subplot\":\"polar2\",\"theta\":[\"ABySS\",\"BCALM2\",\"GATBMiniaPipeline\",\"IDBA-UD\",\"MEGAHIT\",\"MetaHipMer2\",\"metaSPAdes\",\"MINIA\",\"SKESA\",\"SPAdes\",\"Unicycler\",\"VelvetOptimiser\"],\"type\":\"scatterpolar\"}],                        {\"annotations\":[{\"font\":{\"size\":16},\"showarrow\":false,\"text\":\"Original\",\"x\":0.225,\"xanchor\":\"center\",\"xref\":\"paper\",\"y\":1.0,\"yanchor\":\"bottom\",\"yref\":\"paper\"},{\"font\":{\"size\":16},\"showarrow\":false,\"text\":\"Filtered\",\"x\":0.775,\"xanchor\":\"center\",\"xref\":\"paper\",\"y\":1.0,\"yanchor\":\"bottom\",\"yref\":\"paper\"}],\"polar\":{\"angularaxis\":{\"categoryarray\":[\"ABySS\",\"BCALM2\",\"GATBMiniaPipeline\",\"IDBA-UD\",\"MEGAHIT\",\"MetaHipMer2\",\"metaSPAdes\",\"MINIA\",\"SKESA\",\"SPAdes\",\"Unicycler\",\"VelvetOptimiser\",\" \"],\"linecolor\":\"black\"},\"bgcolor\":\"rgb(255,255,255)\",\"domain\":{\"x\":[0.0,0.45],\"y\":[0.0,1.0]},\"hole\":0.08333333333333333,\"radialaxis\":{\"angle\":-22.5,\"autorange\":\"reversed\",\"gridcolor\":\"#DCDCDC\",\"linecolor\":\"black\",\"linewidth\":2,\"range\":[1,12],\"visible\":true}},\"polar2\":{\"angularaxis\":{\"categoryarray\":[\"ABySS\",\"BCALM2\",\"GATBMiniaPipeline\",\"IDBA-UD\",\"MEGAHIT\",\"MetaHipMer2\",\"metaSPAdes\",\"MINIA\",\"SKESA\",\"SPAdes\",\"Unicycler\",\"VelvetOptimiser\",\" \"],\"linecolor\":\"black\"},\"bgcolor\":\"rgb(255,255,255)\",\"domain\":{\"x\":[0.55,1.0],\"y\":[0.0,1.0]},\"hole\":0.08333333333333333,\"radialaxis\":{\"angle\":-22.5,\"autorange\":\"reversed\",\"gridcolor\":\"#DCDCDC\",\"linecolor\":\"black\",\"linewidth\":2,\"range\":[1,12],\"visible\":true}},\"template\":{\"data\":{\"bar\":[{\"error_x\":{\"color\":\"#2a3f5f\"},\"error_y\":{\"color\":\"#2a3f5f\"},\"marker\":{\"line\":{\"color\":\"#E5ECF6\",\"width\":0.5},\"pattern\":{\"fillmode\":\"overlay\",\"size\":10,\"solidity\":0.2}},\"type\":\"bar\"}],\"barpolar\":[{\"marker\":{\"line\":{\"color\":\"#E5ECF6\",\"width\":0.5},\"pattern\":{\"fillmode\":\"overlay\",\"size\":10,\"solidity\":0.2}},\"type\":\"barpolar\"}],\"carpet\":[{\"aaxis\":{\"endlinecolor\":\"#2a3f5f\",\"gridcolor\":\"white\",\"linecolor\":\"white\",\"minorgridcolor\":\"white\",\"startlinecolor\":\"#2a3f5f\"},\"baxis\":{\"endlinecolor\":\"#2a3f5f\",\"gridcolor\":\"white\",\"linecolor\":\"white\",\"minorgridcolor\":\"white\",\"startlinecolor\":\"#2a3f5f\"},\"type\":\"carpet\"}],\"choropleth\":[{\"colorbar\":{\"outlinewidth\":0,\"ticks\":\"\"},\"type\":\"choropleth\"}],\"contour\":[{\"colorbar\":{\"outlinewidth\":0,\"ticks\":\"\"},\"colorscale\":[[0.0,\"#0d0887\"],[0.1111111111111111,\"#46039f\"],[0.2222222222222222,\"#7201a8\"],[0.3333333333333333,\"#9c179e\"],[0.4444444444444444,\"#bd3786\"],[0.5555555555555556,\"#d8576b\"],[0.6666666666666666,\"#ed7953\"],[0.7777777777777778,\"#fb9f3a\"],[0.8888888888888888,\"#fdca26\"],[1.0,\"#f0f921\"]],\"type\":\"contour\"}],\"contourcarpet\":[{\"colorbar\":{\"outlinewidth\":0,\"ticks\":\"\"},\"type\":\"contourcarpet\"}],\"heatmap\":[{\"colorbar\":{\"outlinewidth\":0,\"ticks\":\"\"},\"colorscale\":[[0.0,\"#0d0887\"],[0.1111111111111111,\"#46039f\"],[0.2222222222222222,\"#7201a8\"],[0.3333333333333333,\"#9c179e\"],[0.4444444444444444,\"#bd3786\"],[0.5555555555555556,\"#d8576b\"],[0.6666666666666666,\"#ed7953\"],[0.7777777777777778,\"#fb9f3a\"],[0.8888888888888888,\"#fdca26\"],[1.0,\"#f0f921\"]],\"type\":\"heatmap\"}],\"heatmapgl\":[{\"colorbar\":{\"outlinewidth\":0,\"ticks\":\"\"},\"colorscale\":[[0.0,\"#0d0887\"],[0.1111111111111111,\"#46039f\"],[0.2222222222222222,\"#7201a8\"],[0.3333333333333333,\"#9c179e\"],[0.4444444444444444,\"#bd3786\"],[0.5555555555555556,\"#d8576b\"],[0.6666666666666666,\"#ed7953\"],[0.7777777777777778,\"#fb9f3a\"],[0.8888888888888888,\"#fdca26\"],[1.0,\"#f0f921\"]],\"type\":\"heatmapgl\"}],\"histogram\":[{\"marker\":{\"pattern\":{\"fillmode\":\"overlay\",\"size\":10,\"solidity\":0.2}},\"type\":\"histogram\"}],\"histogram2d\":[{\"colorbar\":{\"outlinewidth\":0,\"ticks\":\"\"},\"colorscale\":[[0.0,\"#0d0887\"],[0.1111111111111111,\"#46039f\"],[0.2222222222222222,\"#7201a8\"],[0.3333333333333333,\"#9c179e\"],[0.4444444444444444,\"#bd3786\"],[0.5555555555555556,\"#d8576b\"],[0.6666666666666666,\"#ed7953\"],[0.7777777777777778,\"#fb9f3a\"],[0.8888888888888888,\"#fdca26\"],[1.0,\"#f0f921\"]],\"type\":\"histogram2d\"}],\"histogram2dcontour\":[{\"colorbar\":{\"outlinewidth\":0,\"ticks\":\"\"},\"colorscale\":[[0.0,\"#0d0887\"],[0.1111111111111111,\"#46039f\"],[0.2222222222222222,\"#7201a8\"],[0.3333333333333333,\"#9c179e\"],[0.4444444444444444,\"#bd3786\"],[0.5555555555555556,\"#d8576b\"],[0.6666666666666666,\"#ed7953\"],[0.7777777777777778,\"#fb9f3a\"],[0.8888888888888888,\"#fdca26\"],[1.0,\"#f0f921\"]],\"type\":\"histogram2dcontour\"}],\"mesh3d\":[{\"colorbar\":{\"outlinewidth\":0,\"ticks\":\"\"},\"type\":\"mesh3d\"}],\"parcoords\":[{\"line\":{\"colorbar\":{\"outlinewidth\":0,\"ticks\":\"\"}},\"type\":\"parcoords\"}],\"pie\":[{\"automargin\":true,\"type\":\"pie\"}],\"scatter\":[{\"marker\":{\"colorbar\":{\"outlinewidth\":0,\"ticks\":\"\"}},\"type\":\"scatter\"}],\"scatter3d\":[{\"line\":{\"colorbar\":{\"outlinewidth\":0,\"ticks\":\"\"}},\"marker\":{\"colorbar\":{\"outlinewidth\":0,\"ticks\":\"\"}},\"type\":\"scatter3d\"}],\"scattercarpet\":[{\"marker\":{\"colorbar\":{\"outlinewidth\":0,\"ticks\":\"\"}},\"type\":\"scattercarpet\"}],\"scattergeo\":[{\"marker\":{\"colorbar\":{\"outlinewidth\":0,\"ticks\":\"\"}},\"type\":\"scattergeo\"}],\"scattergl\":[{\"marker\":{\"colorbar\":{\"outlinewidth\":0,\"ticks\":\"\"}},\"type\":\"scattergl\"}],\"scattermapbox\":[{\"marker\":{\"colorbar\":{\"outlinewidth\":0,\"ticks\":\"\"}},\"type\":\"scattermapbox\"}],\"scatterpolar\":[{\"marker\":{\"colorbar\":{\"outlinewidth\":0,\"ticks\":\"\"}},\"type\":\"scatterpolar\"}],\"scatterpolargl\":[{\"marker\":{\"colorbar\":{\"outlinewidth\":0,\"ticks\":\"\"}},\"type\":\"scatterpolargl\"}],\"scatterternary\":[{\"marker\":{\"colorbar\":{\"outlinewidth\":0,\"ticks\":\"\"}},\"type\":\"scatterternary\"}],\"surface\":[{\"colorbar\":{\"outlinewidth\":0,\"ticks\":\"\"},\"colorscale\":[[0.0,\"#0d0887\"],[0.1111111111111111,\"#46039f\"],[0.2222222222222222,\"#7201a8\"],[0.3333333333333333,\"#9c179e\"],[0.4444444444444444,\"#bd3786\"],[0.5555555555555556,\"#d8576b\"],[0.6666666666666666,\"#ed7953\"],[0.7777777777777778,\"#fb9f3a\"],[0.8888888888888888,\"#fdca26\"],[1.0,\"#f0f921\"]],\"type\":\"surface\"}],\"table\":[{\"cells\":{\"fill\":{\"color\":\"#EBF0F8\"},\"line\":{\"color\":\"white\"}},\"header\":{\"fill\":{\"color\":\"#C8D4E3\"},\"line\":{\"color\":\"white\"}},\"type\":\"table\"}]},\"layout\":{\"annotationdefaults\":{\"arrowcolor\":\"#2a3f5f\",\"arrowhead\":0,\"arrowwidth\":1},\"autotypenumbers\":\"strict\",\"coloraxis\":{\"colorbar\":{\"outlinewidth\":0,\"ticks\":\"\"}},\"colorscale\":{\"diverging\":[[0,\"#8e0152\"],[0.1,\"#c51b7d\"],[0.2,\"#de77ae\"],[0.3,\"#f1b6da\"],[0.4,\"#fde0ef\"],[0.5,\"#f7f7f7\"],[0.6,\"#e6f5d0\"],[0.7,\"#b8e186\"],[0.8,\"#7fbc41\"],[0.9,\"#4d9221\"],[1,\"#276419\"]],\"sequential\":[[0.0,\"#0d0887\"],[0.1111111111111111,\"#46039f\"],[0.2222222222222222,\"#7201a8\"],[0.3333333333333333,\"#9c179e\"],[0.4444444444444444,\"#bd3786\"],[0.5555555555555556,\"#d8576b\"],[0.6666666666666666,\"#ed7953\"],[0.7777777777777778,\"#fb9f3a\"],[0.8888888888888888,\"#fdca26\"],[1.0,\"#f0f921\"]],\"sequentialminus\":[[0.0,\"#0d0887\"],[0.1111111111111111,\"#46039f\"],[0.2222222222222222,\"#7201a8\"],[0.3333333333333333,\"#9c179e\"],[0.4444444444444444,\"#bd3786\"],[0.5555555555555556,\"#d8576b\"],[0.6666666666666666,\"#ed7953\"],[0.7777777777777778,\"#fb9f3a\"],[0.8888888888888888,\"#fdca26\"],[1.0,\"#f0f921\"]]},\"colorway\":[\"#636efa\",\"#EF553B\",\"#00cc96\",\"#ab63fa\",\"#FFA15A\",\"#19d3f3\",\"#FF6692\",\"#B6E880\",\"#FF97FF\",\"#FECB52\"],\"font\":{\"color\":\"#2a3f5f\"},\"geo\":{\"bgcolor\":\"white\",\"lakecolor\":\"white\",\"landcolor\":\"#E5ECF6\",\"showlakes\":true,\"showland\":true,\"subunitcolor\":\"white\"},\"hoverlabel\":{\"align\":\"left\"},\"hovermode\":\"closest\",\"mapbox\":{\"style\":\"light\"},\"paper_bgcolor\":\"white\",\"plot_bgcolor\":\"#E5ECF6\",\"polar\":{\"angularaxis\":{\"gridcolor\":\"white\",\"linecolor\":\"white\",\"ticks\":\"\"},\"bgcolor\":\"#E5ECF6\",\"radialaxis\":{\"gridcolor\":\"white\",\"linecolor\":\"white\",\"ticks\":\"\"}},\"scene\":{\"xaxis\":{\"backgroundcolor\":\"#E5ECF6\",\"gridcolor\":\"white\",\"gridwidth\":2,\"linecolor\":\"white\",\"showbackground\":true,\"ticks\":\"\",\"zerolinecolor\":\"white\"},\"yaxis\":{\"backgroundcolor\":\"#E5ECF6\",\"gridcolor\":\"white\",\"gridwidth\":2,\"linecolor\":\"white\",\"showbackground\":true,\"ticks\":\"\",\"zerolinecolor\":\"white\"},\"zaxis\":{\"backgroundcolor\":\"#E5ECF6\",\"gridcolor\":\"white\",\"gridwidth\":2,\"linecolor\":\"white\",\"showbackground\":true,\"ticks\":\"\",\"zerolinecolor\":\"white\"}},\"shapedefaults\":{\"line\":{\"color\":\"#2a3f5f\"}},\"ternary\":{\"aaxis\":{\"gridcolor\":\"white\",\"linecolor\":\"white\",\"ticks\":\"\"},\"baxis\":{\"gridcolor\":\"white\",\"linecolor\":\"white\",\"ticks\":\"\"},\"bgcolor\":\"#E5ECF6\",\"caxis\":{\"gridcolor\":\"white\",\"linecolor\":\"white\",\"ticks\":\"\"}},\"title\":{\"x\":0.05},\"xaxis\":{\"automargin\":true,\"gridcolor\":\"white\",\"linecolor\":\"white\",\"ticks\":\"\",\"title\":{\"standoff\":15},\"zerolinecolor\":\"white\",\"zerolinewidth\":2},\"yaxis\":{\"automargin\":true,\"gridcolor\":\"white\",\"linecolor\":\"white\",\"ticks\":\"\",\"title\":{\"standoff\":15},\"zerolinecolor\":\"white\",\"zerolinewidth\":2}}},\"title\":{\"text\":\"EMS\"}},                        {\"responsive\": true}                    ).then(function(){\n",
       "                            \n",
       "var gd = document.getElementById('ce4dfa37-d7af-49ce-bc4e-66a8c29b9995');\n",
       "var x = new MutationObserver(function (mutations, observer) {{\n",
       "        var display = window.getComputedStyle(gd).display;\n",
       "        if (!display || display === 'none') {{\n",
       "            console.log([gd, 'removed!']);\n",
       "            Plotly.purge(gd);\n",
       "            observer.disconnect();\n",
       "        }}\n",
       "}});\n",
       "\n",
       "// Listen for the removal of the full notebook cells\n",
       "var notebookContainer = gd.closest('#notebook-container');\n",
       "if (notebookContainer) {{\n",
       "    x.observe(notebookContainer, {childList: true});\n",
       "}}\n",
       "\n",
       "// Listen for the clearing of the current output cell\n",
       "var outputEl = gd.closest('.output');\n",
       "if (outputEl) {{\n",
       "    x.observe(outputEl, {childList: true});\n",
       "}}\n",
       "\n",
       "                        })                };                });            </script>        </div>"
      ]
     },
     "metadata": {},
     "output_type": "display_data"
    },
    {
     "data": {
      "application/vnd.plotly.v1+json": {
       "config": {
        "plotlyServerURL": "https://plot.ly"
       },
       "data": [
        {
         "marker": {
          "color": "#5876c8",
          "line": {
           "color": "black",
           "width": 2
          },
          "size": 12
         },
         "mode": "markers",
         "name": "Contigs",
         "opacity": 0.4,
         "r": [
          1,
          12,
          4,
          6,
          7,
          5,
          9,
          10,
          3,
          8,
          2,
          11
         ],
         "showlegend": true,
         "subplot": "polar",
         "theta": [
          "ABySS",
          "BCALM2",
          "GATBMiniaPipeline",
          "IDBA-UD",
          "MEGAHIT",
          "MetaHipMer2",
          "metaSPAdes",
          "MINIA",
          "SKESA",
          "SPAdes",
          "Unicycler",
          "VelvetOptimiser"
         ],
         "type": "scatterpolar"
        },
        {
         "marker": {
          "color": "#5876c8",
          "line": {
           "color": "black",
           "width": 2
          },
          "size": 12
         },
         "mode": "markers",
         "name": "Contigs",
         "opacity": 0.4,
         "r": [
          1,
          1,
          5,
          11,
          8,
          7,
          9,
          12,
          6,
          10,
          4,
          3
         ],
         "showlegend": false,
         "subplot": "polar2",
         "theta": [
          "ABySS",
          "BCALM2",
          "GATBMiniaPipeline",
          "IDBA-UD",
          "MEGAHIT",
          "MetaHipMer2",
          "metaSPAdes",
          "MINIA",
          "SKESA",
          "SPAdes",
          "Unicycler",
          "VelvetOptimiser"
         ],
         "type": "scatterpolar"
        },
        {
         "marker": {
          "color": "#009392",
          "line": {
           "color": "black",
           "width": 2
          },
          "size": 12
         },
         "mode": "markers",
         "name": "Basepairs",
         "opacity": 0.4,
         "r": [
          11,
          12,
          4,
          5,
          6,
          1,
          9,
          7,
          2,
          8,
          3,
          10
         ],
         "showlegend": true,
         "subplot": "polar",
         "theta": [
          "ABySS",
          "BCALM2",
          "GATBMiniaPipeline",
          "IDBA-UD",
          "MEGAHIT",
          "MetaHipMer2",
          "metaSPAdes",
          "MINIA",
          "SKESA",
          "SPAdes",
          "Unicycler",
          "VelvetOptimiser"
         ],
         "type": "scatterpolar"
        },
        {
         "marker": {
          "color": "#009392",
          "line": {
           "color": "black",
           "width": 2
          },
          "size": 12
         },
         "mode": "markers",
         "name": "Basepairs",
         "opacity": 0.4,
         "r": [
          8,
          1,
          7,
          9,
          11,
          3,
          10,
          4,
          5,
          12,
          6,
          2
         ],
         "showlegend": false,
         "subplot": "polar2",
         "theta": [
          "ABySS",
          "BCALM2",
          "GATBMiniaPipeline",
          "IDBA-UD",
          "MEGAHIT",
          "MetaHipMer2",
          "metaSPAdes",
          "MINIA",
          "SKESA",
          "SPAdes",
          "Unicycler",
          "VelvetOptimiser"
         ],
         "type": "scatterpolar"
        },
        {
         "marker": {
          "color": "#9CCB86",
          "line": {
           "color": "black",
           "width": 2
          },
          "size": 12
         },
         "mode": "markers",
         "name": "Largest contig",
         "opacity": 0.4,
         "r": [
          8,
          12,
          3,
          7,
          1,
          10,
          5,
          9,
          6,
          4,
          2,
          11
         ],
         "showlegend": true,
         "subplot": "polar",
         "theta": [
          "ABySS",
          "BCALM2",
          "GATBMiniaPipeline",
          "IDBA-UD",
          "MEGAHIT",
          "MetaHipMer2",
          "metaSPAdes",
          "MINIA",
          "SKESA",
          "SPAdes",
          "Unicycler",
          "VelvetOptimiser"
         ],
         "type": "scatterpolar"
        },
        {
         "marker": {
          "color": "#EEB479",
          "line": {
           "color": "black",
           "width": 2
          },
          "size": 12
         },
         "mode": "markers",
         "name": "N50",
         "opacity": 0.4,
         "r": [
          10,
          12,
          2,
          7,
          3,
          9,
          6,
          8,
          4,
          5,
          1,
          11
         ],
         "showlegend": true,
         "subplot": "polar",
         "theta": [
          "ABySS",
          "BCALM2",
          "GATBMiniaPipeline",
          "IDBA-UD",
          "MEGAHIT",
          "MetaHipMer2",
          "metaSPAdes",
          "MINIA",
          "SKESA",
          "SPAdes",
          "Unicycler",
          "VelvetOptimiser"
         ],
         "type": "scatterpolar"
        },
        {
         "marker": {
          "color": "#EEB479",
          "line": {
           "color": "black",
           "width": 2
          },
          "size": 12
         },
         "mode": "markers",
         "name": "N50",
         "opacity": 0.4,
         "r": [
          7,
          12,
          3,
          8,
          2,
          10,
          5,
          9,
          6,
          4,
          1,
          11
         ],
         "showlegend": false,
         "subplot": "polar2",
         "theta": [
          "ABySS",
          "BCALM2",
          "GATBMiniaPipeline",
          "IDBA-UD",
          "MEGAHIT",
          "MetaHipMer2",
          "metaSPAdes",
          "MINIA",
          "SKESA",
          "SPAdes",
          "Unicycler",
          "VelvetOptimiser"
         ],
         "type": "scatterpolar"
        },
        {
         "marker": {
          "color": "#E88471",
          "line": {
           "color": "black",
           "width": 2
          },
          "size": 12
         },
         "mode": "markers",
         "name": "% Mapped reads",
         "opacity": 0.4,
         "r": [
          1,
          11,
          6,
          5,
          3,
          10,
          2,
          9,
          8,
          4,
          7,
          12
         ],
         "showlegend": true,
         "subplot": "polar",
         "theta": [
          "ABySS",
          "BCALM2",
          "GATBMiniaPipeline",
          "IDBA-UD",
          "MEGAHIT",
          "MetaHipMer2",
          "metaSPAdes",
          "MINIA",
          "SKESA",
          "SPAdes",
          "Unicycler",
          "VelvetOptimiser"
         ],
         "type": "scatterpolar"
        },
        {
         "marker": {
          "color": "#E88471",
          "line": {
           "color": "black",
           "width": 2
          },
          "size": 12
         },
         "mode": "markers",
         "name": "% Mapped reads",
         "opacity": 0.4,
         "r": [
          7,
          12,
          2,
          5,
          1,
          10,
          3,
          9,
          8,
          6,
          4,
          11
         ],
         "showlegend": false,
         "subplot": "polar2",
         "theta": [
          "ABySS",
          "BCALM2",
          "GATBMiniaPipeline",
          "IDBA-UD",
          "MEGAHIT",
          "MetaHipMer2",
          "metaSPAdes",
          "MINIA",
          "SKESA",
          "SPAdes",
          "Unicycler",
          "VelvetOptimiser"
         ],
         "type": "scatterpolar"
        },
        {
         "marker": {
          "color": "#CF597E",
          "line": {
           "color": "black",
           "width": 2
          },
          "size": 12
         },
         "mode": "markers",
         "name": "Uncalled bases",
         "opacity": 0.4,
         "r": [
          1,
          1,
          1,
          1,
          1,
          1,
          1,
          1,
          1,
          1,
          1,
          12
         ],
         "showlegend": true,
         "subplot": "polar",
         "theta": [
          "ABySS",
          "BCALM2",
          "GATBMiniaPipeline",
          "IDBA-UD",
          "MEGAHIT",
          "MetaHipMer2",
          "metaSPAdes",
          "MINIA",
          "SKESA",
          "SPAdes",
          "Unicycler",
          "VelvetOptimiser"
         ],
         "type": "scatterpolar"
        },
        {
         "marker": {
          "color": "#CF597E",
          "line": {
           "color": "black",
           "width": 2
          },
          "size": 12
         },
         "mode": "markers",
         "name": "Uncalled bases",
         "opacity": 0.4,
         "r": [
          1,
          1,
          1,
          1,
          1,
          1,
          1,
          1,
          1,
          1,
          1,
          1
         ],
         "showlegend": false,
         "subplot": "polar2",
         "theta": [
          "ABySS",
          "BCALM2",
          "GATBMiniaPipeline",
          "IDBA-UD",
          "MEGAHIT",
          "MetaHipMer2",
          "metaSPAdes",
          "MINIA",
          "SKESA",
          "SPAdes",
          "Unicycler",
          "VelvetOptimiser"
         ],
         "type": "scatterpolar"
        },
        {
         "marker": {
          "color": "#a54765",
          "line": {
           "color": "black",
           "width": 2
          },
          "size": 12
         },
         "mode": "markers",
         "name": "Misassembled contigs",
         "opacity": 0.4,
         "r": [
          1,
          1,
          7,
          10,
          12,
          1,
          8,
          1,
          1,
          11,
          8,
          1
         ],
         "showlegend": true,
         "subplot": "polar2",
         "theta": [
          "ABySS",
          "BCALM2",
          "GATBMiniaPipeline",
          "IDBA-UD",
          "MEGAHIT",
          "MetaHipMer2",
          "metaSPAdes",
          "MINIA",
          "SKESA",
          "SPAdes",
          "Unicycler",
          "VelvetOptimiser"
         ],
         "type": "scatterpolar"
        },
        {
         "marker": {
          "color": "#835221",
          "line": {
           "color": "black",
           "width": 2
          },
          "size": 12
         },
         "mode": "markers",
         "name": "Misassembly events",
         "opacity": 0.4,
         "r": [
          1,
          1,
          7,
          10,
          12,
          1,
          8,
          1,
          1,
          11,
          9,
          1
         ],
         "showlegend": true,
         "subplot": "polar2",
         "theta": [
          "ABySS",
          "BCALM2",
          "GATBMiniaPipeline",
          "IDBA-UD",
          "MEGAHIT",
          "MetaHipMer2",
          "metaSPAdes",
          "MINIA",
          "SKESA",
          "SPAdes",
          "Unicycler",
          "VelvetOptimiser"
         ],
         "type": "scatterpolar"
        }
       ],
       "layout": {
        "annotations": [
         {
          "font": {
           "size": 16
          },
          "showarrow": false,
          "text": "Original",
          "x": 0.225,
          "xanchor": "center",
          "xref": "paper",
          "y": 1,
          "yanchor": "bottom",
          "yref": "paper"
         },
         {
          "font": {
           "size": 16
          },
          "showarrow": false,
          "text": "Filtered",
          "x": 0.775,
          "xanchor": "center",
          "xref": "paper",
          "y": 1,
          "yanchor": "bottom",
          "yref": "paper"
         }
        ],
        "polar": {
         "angularaxis": {
          "categoryarray": [
           "ABySS",
           "BCALM2",
           "GATBMiniaPipeline",
           "IDBA-UD",
           "MEGAHIT",
           "MetaHipMer2",
           "metaSPAdes",
           "MINIA",
           "SKESA",
           "SPAdes",
           "Unicycler",
           "VelvetOptimiser",
           " "
          ],
          "linecolor": "black"
         },
         "bgcolor": "rgb(255,255,255)",
         "domain": {
          "x": [
           0,
           0.45
          ],
          "y": [
           0,
           1
          ]
         },
         "hole": 0.08333333333333333,
         "radialaxis": {
          "angle": -22.5,
          "autorange": "reversed",
          "gridcolor": "#DCDCDC",
          "linecolor": "black",
          "linewidth": 2,
          "range": [
           1,
           12
          ],
          "visible": true
         }
        },
        "polar2": {
         "angularaxis": {
          "categoryarray": [
           "ABySS",
           "BCALM2",
           "GATBMiniaPipeline",
           "IDBA-UD",
           "MEGAHIT",
           "MetaHipMer2",
           "metaSPAdes",
           "MINIA",
           "SKESA",
           "SPAdes",
           "Unicycler",
           "VelvetOptimiser",
           " "
          ],
          "linecolor": "black"
         },
         "bgcolor": "rgb(255,255,255)",
         "domain": {
          "x": [
           0.55,
           1
          ],
          "y": [
           0,
           1
          ]
         },
         "hole": 0.08333333333333333,
         "radialaxis": {
          "angle": -22.5,
          "autorange": "reversed",
          "gridcolor": "#DCDCDC",
          "linecolor": "black",
          "linewidth": 2,
          "range": [
           1,
           12
          ],
          "visible": true
         }
        },
        "template": {
         "data": {
          "bar": [
           {
            "error_x": {
             "color": "#2a3f5f"
            },
            "error_y": {
             "color": "#2a3f5f"
            },
            "marker": {
             "line": {
              "color": "#E5ECF6",
              "width": 0.5
             },
             "pattern": {
              "fillmode": "overlay",
              "size": 10,
              "solidity": 0.2
             }
            },
            "type": "bar"
           }
          ],
          "barpolar": [
           {
            "marker": {
             "line": {
              "color": "#E5ECF6",
              "width": 0.5
             },
             "pattern": {
              "fillmode": "overlay",
              "size": 10,
              "solidity": 0.2
             }
            },
            "type": "barpolar"
           }
          ],
          "carpet": [
           {
            "aaxis": {
             "endlinecolor": "#2a3f5f",
             "gridcolor": "white",
             "linecolor": "white",
             "minorgridcolor": "white",
             "startlinecolor": "#2a3f5f"
            },
            "baxis": {
             "endlinecolor": "#2a3f5f",
             "gridcolor": "white",
             "linecolor": "white",
             "minorgridcolor": "white",
             "startlinecolor": "#2a3f5f"
            },
            "type": "carpet"
           }
          ],
          "choropleth": [
           {
            "colorbar": {
             "outlinewidth": 0,
             "ticks": ""
            },
            "type": "choropleth"
           }
          ],
          "contour": [
           {
            "colorbar": {
             "outlinewidth": 0,
             "ticks": ""
            },
            "colorscale": [
             [
              0,
              "#0d0887"
             ],
             [
              0.1111111111111111,
              "#46039f"
             ],
             [
              0.2222222222222222,
              "#7201a8"
             ],
             [
              0.3333333333333333,
              "#9c179e"
             ],
             [
              0.4444444444444444,
              "#bd3786"
             ],
             [
              0.5555555555555556,
              "#d8576b"
             ],
             [
              0.6666666666666666,
              "#ed7953"
             ],
             [
              0.7777777777777778,
              "#fb9f3a"
             ],
             [
              0.8888888888888888,
              "#fdca26"
             ],
             [
              1,
              "#f0f921"
             ]
            ],
            "type": "contour"
           }
          ],
          "contourcarpet": [
           {
            "colorbar": {
             "outlinewidth": 0,
             "ticks": ""
            },
            "type": "contourcarpet"
           }
          ],
          "heatmap": [
           {
            "colorbar": {
             "outlinewidth": 0,
             "ticks": ""
            },
            "colorscale": [
             [
              0,
              "#0d0887"
             ],
             [
              0.1111111111111111,
              "#46039f"
             ],
             [
              0.2222222222222222,
              "#7201a8"
             ],
             [
              0.3333333333333333,
              "#9c179e"
             ],
             [
              0.4444444444444444,
              "#bd3786"
             ],
             [
              0.5555555555555556,
              "#d8576b"
             ],
             [
              0.6666666666666666,
              "#ed7953"
             ],
             [
              0.7777777777777778,
              "#fb9f3a"
             ],
             [
              0.8888888888888888,
              "#fdca26"
             ],
             [
              1,
              "#f0f921"
             ]
            ],
            "type": "heatmap"
           }
          ],
          "heatmapgl": [
           {
            "colorbar": {
             "outlinewidth": 0,
             "ticks": ""
            },
            "colorscale": [
             [
              0,
              "#0d0887"
             ],
             [
              0.1111111111111111,
              "#46039f"
             ],
             [
              0.2222222222222222,
              "#7201a8"
             ],
             [
              0.3333333333333333,
              "#9c179e"
             ],
             [
              0.4444444444444444,
              "#bd3786"
             ],
             [
              0.5555555555555556,
              "#d8576b"
             ],
             [
              0.6666666666666666,
              "#ed7953"
             ],
             [
              0.7777777777777778,
              "#fb9f3a"
             ],
             [
              0.8888888888888888,
              "#fdca26"
             ],
             [
              1,
              "#f0f921"
             ]
            ],
            "type": "heatmapgl"
           }
          ],
          "histogram": [
           {
            "marker": {
             "pattern": {
              "fillmode": "overlay",
              "size": 10,
              "solidity": 0.2
             }
            },
            "type": "histogram"
           }
          ],
          "histogram2d": [
           {
            "colorbar": {
             "outlinewidth": 0,
             "ticks": ""
            },
            "colorscale": [
             [
              0,
              "#0d0887"
             ],
             [
              0.1111111111111111,
              "#46039f"
             ],
             [
              0.2222222222222222,
              "#7201a8"
             ],
             [
              0.3333333333333333,
              "#9c179e"
             ],
             [
              0.4444444444444444,
              "#bd3786"
             ],
             [
              0.5555555555555556,
              "#d8576b"
             ],
             [
              0.6666666666666666,
              "#ed7953"
             ],
             [
              0.7777777777777778,
              "#fb9f3a"
             ],
             [
              0.8888888888888888,
              "#fdca26"
             ],
             [
              1,
              "#f0f921"
             ]
            ],
            "type": "histogram2d"
           }
          ],
          "histogram2dcontour": [
           {
            "colorbar": {
             "outlinewidth": 0,
             "ticks": ""
            },
            "colorscale": [
             [
              0,
              "#0d0887"
             ],
             [
              0.1111111111111111,
              "#46039f"
             ],
             [
              0.2222222222222222,
              "#7201a8"
             ],
             [
              0.3333333333333333,
              "#9c179e"
             ],
             [
              0.4444444444444444,
              "#bd3786"
             ],
             [
              0.5555555555555556,
              "#d8576b"
             ],
             [
              0.6666666666666666,
              "#ed7953"
             ],
             [
              0.7777777777777778,
              "#fb9f3a"
             ],
             [
              0.8888888888888888,
              "#fdca26"
             ],
             [
              1,
              "#f0f921"
             ]
            ],
            "type": "histogram2dcontour"
           }
          ],
          "mesh3d": [
           {
            "colorbar": {
             "outlinewidth": 0,
             "ticks": ""
            },
            "type": "mesh3d"
           }
          ],
          "parcoords": [
           {
            "line": {
             "colorbar": {
              "outlinewidth": 0,
              "ticks": ""
             }
            },
            "type": "parcoords"
           }
          ],
          "pie": [
           {
            "automargin": true,
            "type": "pie"
           }
          ],
          "scatter": [
           {
            "marker": {
             "colorbar": {
              "outlinewidth": 0,
              "ticks": ""
             }
            },
            "type": "scatter"
           }
          ],
          "scatter3d": [
           {
            "line": {
             "colorbar": {
              "outlinewidth": 0,
              "ticks": ""
             }
            },
            "marker": {
             "colorbar": {
              "outlinewidth": 0,
              "ticks": ""
             }
            },
            "type": "scatter3d"
           }
          ],
          "scattercarpet": [
           {
            "marker": {
             "colorbar": {
              "outlinewidth": 0,
              "ticks": ""
             }
            },
            "type": "scattercarpet"
           }
          ],
          "scattergeo": [
           {
            "marker": {
             "colorbar": {
              "outlinewidth": 0,
              "ticks": ""
             }
            },
            "type": "scattergeo"
           }
          ],
          "scattergl": [
           {
            "marker": {
             "colorbar": {
              "outlinewidth": 0,
              "ticks": ""
             }
            },
            "type": "scattergl"
           }
          ],
          "scattermapbox": [
           {
            "marker": {
             "colorbar": {
              "outlinewidth": 0,
              "ticks": ""
             }
            },
            "type": "scattermapbox"
           }
          ],
          "scatterpolar": [
           {
            "marker": {
             "colorbar": {
              "outlinewidth": 0,
              "ticks": ""
             }
            },
            "type": "scatterpolar"
           }
          ],
          "scatterpolargl": [
           {
            "marker": {
             "colorbar": {
              "outlinewidth": 0,
              "ticks": ""
             }
            },
            "type": "scatterpolargl"
           }
          ],
          "scatterternary": [
           {
            "marker": {
             "colorbar": {
              "outlinewidth": 0,
              "ticks": ""
             }
            },
            "type": "scatterternary"
           }
          ],
          "surface": [
           {
            "colorbar": {
             "outlinewidth": 0,
             "ticks": ""
            },
            "colorscale": [
             [
              0,
              "#0d0887"
             ],
             [
              0.1111111111111111,
              "#46039f"
             ],
             [
              0.2222222222222222,
              "#7201a8"
             ],
             [
              0.3333333333333333,
              "#9c179e"
             ],
             [
              0.4444444444444444,
              "#bd3786"
             ],
             [
              0.5555555555555556,
              "#d8576b"
             ],
             [
              0.6666666666666666,
              "#ed7953"
             ],
             [
              0.7777777777777778,
              "#fb9f3a"
             ],
             [
              0.8888888888888888,
              "#fdca26"
             ],
             [
              1,
              "#f0f921"
             ]
            ],
            "type": "surface"
           }
          ],
          "table": [
           {
            "cells": {
             "fill": {
              "color": "#EBF0F8"
             },
             "line": {
              "color": "white"
             }
            },
            "header": {
             "fill": {
              "color": "#C8D4E3"
             },
             "line": {
              "color": "white"
             }
            },
            "type": "table"
           }
          ]
         },
         "layout": {
          "annotationdefaults": {
           "arrowcolor": "#2a3f5f",
           "arrowhead": 0,
           "arrowwidth": 1
          },
          "autotypenumbers": "strict",
          "coloraxis": {
           "colorbar": {
            "outlinewidth": 0,
            "ticks": ""
           }
          },
          "colorscale": {
           "diverging": [
            [
             0,
             "#8e0152"
            ],
            [
             0.1,
             "#c51b7d"
            ],
            [
             0.2,
             "#de77ae"
            ],
            [
             0.3,
             "#f1b6da"
            ],
            [
             0.4,
             "#fde0ef"
            ],
            [
             0.5,
             "#f7f7f7"
            ],
            [
             0.6,
             "#e6f5d0"
            ],
            [
             0.7,
             "#b8e186"
            ],
            [
             0.8,
             "#7fbc41"
            ],
            [
             0.9,
             "#4d9221"
            ],
            [
             1,
             "#276419"
            ]
           ],
           "sequential": [
            [
             0,
             "#0d0887"
            ],
            [
             0.1111111111111111,
             "#46039f"
            ],
            [
             0.2222222222222222,
             "#7201a8"
            ],
            [
             0.3333333333333333,
             "#9c179e"
            ],
            [
             0.4444444444444444,
             "#bd3786"
            ],
            [
             0.5555555555555556,
             "#d8576b"
            ],
            [
             0.6666666666666666,
             "#ed7953"
            ],
            [
             0.7777777777777778,
             "#fb9f3a"
            ],
            [
             0.8888888888888888,
             "#fdca26"
            ],
            [
             1,
             "#f0f921"
            ]
           ],
           "sequentialminus": [
            [
             0,
             "#0d0887"
            ],
            [
             0.1111111111111111,
             "#46039f"
            ],
            [
             0.2222222222222222,
             "#7201a8"
            ],
            [
             0.3333333333333333,
             "#9c179e"
            ],
            [
             0.4444444444444444,
             "#bd3786"
            ],
            [
             0.5555555555555556,
             "#d8576b"
            ],
            [
             0.6666666666666666,
             "#ed7953"
            ],
            [
             0.7777777777777778,
             "#fb9f3a"
            ],
            [
             0.8888888888888888,
             "#fdca26"
            ],
            [
             1,
             "#f0f921"
            ]
           ]
          },
          "colorway": [
           "#636efa",
           "#EF553B",
           "#00cc96",
           "#ab63fa",
           "#FFA15A",
           "#19d3f3",
           "#FF6692",
           "#B6E880",
           "#FF97FF",
           "#FECB52"
          ],
          "font": {
           "color": "#2a3f5f"
          },
          "geo": {
           "bgcolor": "white",
           "lakecolor": "white",
           "landcolor": "#E5ECF6",
           "showlakes": true,
           "showland": true,
           "subunitcolor": "white"
          },
          "hoverlabel": {
           "align": "left"
          },
          "hovermode": "closest",
          "mapbox": {
           "style": "light"
          },
          "paper_bgcolor": "white",
          "plot_bgcolor": "#E5ECF6",
          "polar": {
           "angularaxis": {
            "gridcolor": "white",
            "linecolor": "white",
            "ticks": ""
           },
           "bgcolor": "#E5ECF6",
           "radialaxis": {
            "gridcolor": "white",
            "linecolor": "white",
            "ticks": ""
           }
          },
          "scene": {
           "xaxis": {
            "backgroundcolor": "#E5ECF6",
            "gridcolor": "white",
            "gridwidth": 2,
            "linecolor": "white",
            "showbackground": true,
            "ticks": "",
            "zerolinecolor": "white"
           },
           "yaxis": {
            "backgroundcolor": "#E5ECF6",
            "gridcolor": "white",
            "gridwidth": 2,
            "linecolor": "white",
            "showbackground": true,
            "ticks": "",
            "zerolinecolor": "white"
           },
           "zaxis": {
            "backgroundcolor": "#E5ECF6",
            "gridcolor": "white",
            "gridwidth": 2,
            "linecolor": "white",
            "showbackground": true,
            "ticks": "",
            "zerolinecolor": "white"
           }
          },
          "shapedefaults": {
           "line": {
            "color": "#2a3f5f"
           }
          },
          "ternary": {
           "aaxis": {
            "gridcolor": "white",
            "linecolor": "white",
            "ticks": ""
           },
           "baxis": {
            "gridcolor": "white",
            "linecolor": "white",
            "ticks": ""
           },
           "bgcolor": "#E5ECF6",
           "caxis": {
            "gridcolor": "white",
            "linecolor": "white",
            "ticks": ""
           }
          },
          "title": {
           "x": 0.05
          },
          "xaxis": {
           "automargin": true,
           "gridcolor": "white",
           "linecolor": "white",
           "ticks": "",
           "title": {
            "standoff": 15
           },
           "zerolinecolor": "white",
           "zerolinewidth": 2
          },
          "yaxis": {
           "automargin": true,
           "gridcolor": "white",
           "linecolor": "white",
           "ticks": "",
           "title": {
            "standoff": 15
           },
           "zerolinecolor": "white",
           "zerolinewidth": 2
          }
         }
        },
        "title": {
         "text": "ERR2984773"
        }
       }
      },
      "text/html": [
       "<div>                            <div id=\"3f1224c0-a30c-4df5-929c-f71406fc57a2\" class=\"plotly-graph-div\" style=\"height:525px; width:100%;\"></div>            <script type=\"text/javascript\">                require([\"plotly\"], function(Plotly) {                    window.PLOTLYENV=window.PLOTLYENV || {};                                    if (document.getElementById(\"3f1224c0-a30c-4df5-929c-f71406fc57a2\")) {                    Plotly.newPlot(                        \"3f1224c0-a30c-4df5-929c-f71406fc57a2\",                        [{\"marker\":{\"color\":\"#5876c8\",\"line\":{\"color\":\"black\",\"width\":2},\"size\":12},\"mode\":\"markers\",\"name\":\"Contigs\",\"opacity\":0.4,\"r\":[1,12,4,6,7,5,9,10,3,8,2,11],\"showlegend\":true,\"subplot\":\"polar\",\"theta\":[\"ABySS\",\"BCALM2\",\"GATBMiniaPipeline\",\"IDBA-UD\",\"MEGAHIT\",\"MetaHipMer2\",\"metaSPAdes\",\"MINIA\",\"SKESA\",\"SPAdes\",\"Unicycler\",\"VelvetOptimiser\"],\"type\":\"scatterpolar\"},{\"marker\":{\"color\":\"#5876c8\",\"line\":{\"color\":\"black\",\"width\":2},\"size\":12},\"mode\":\"markers\",\"name\":\"Contigs\",\"opacity\":0.4,\"r\":[1,1,5,11,8,7,9,12,6,10,4,3],\"showlegend\":false,\"subplot\":\"polar2\",\"theta\":[\"ABySS\",\"BCALM2\",\"GATBMiniaPipeline\",\"IDBA-UD\",\"MEGAHIT\",\"MetaHipMer2\",\"metaSPAdes\",\"MINIA\",\"SKESA\",\"SPAdes\",\"Unicycler\",\"VelvetOptimiser\"],\"type\":\"scatterpolar\"},{\"marker\":{\"color\":\"#009392\",\"line\":{\"color\":\"black\",\"width\":2},\"size\":12},\"mode\":\"markers\",\"name\":\"Basepairs\",\"opacity\":0.4,\"r\":[11,12,4,5,6,1,9,7,2,8,3,10],\"showlegend\":true,\"subplot\":\"polar\",\"theta\":[\"ABySS\",\"BCALM2\",\"GATBMiniaPipeline\",\"IDBA-UD\",\"MEGAHIT\",\"MetaHipMer2\",\"metaSPAdes\",\"MINIA\",\"SKESA\",\"SPAdes\",\"Unicycler\",\"VelvetOptimiser\"],\"type\":\"scatterpolar\"},{\"marker\":{\"color\":\"#009392\",\"line\":{\"color\":\"black\",\"width\":2},\"size\":12},\"mode\":\"markers\",\"name\":\"Basepairs\",\"opacity\":0.4,\"r\":[8,1,7,9,11,3,10,4,5,12,6,2],\"showlegend\":false,\"subplot\":\"polar2\",\"theta\":[\"ABySS\",\"BCALM2\",\"GATBMiniaPipeline\",\"IDBA-UD\",\"MEGAHIT\",\"MetaHipMer2\",\"metaSPAdes\",\"MINIA\",\"SKESA\",\"SPAdes\",\"Unicycler\",\"VelvetOptimiser\"],\"type\":\"scatterpolar\"},{\"marker\":{\"color\":\"#9CCB86\",\"line\":{\"color\":\"black\",\"width\":2},\"size\":12},\"mode\":\"markers\",\"name\":\"Largest contig\",\"opacity\":0.4,\"r\":[8,12,3,7,1,10,5,9,6,4,2,11],\"showlegend\":true,\"subplot\":\"polar\",\"theta\":[\"ABySS\",\"BCALM2\",\"GATBMiniaPipeline\",\"IDBA-UD\",\"MEGAHIT\",\"MetaHipMer2\",\"metaSPAdes\",\"MINIA\",\"SKESA\",\"SPAdes\",\"Unicycler\",\"VelvetOptimiser\"],\"type\":\"scatterpolar\"},{\"marker\":{\"color\":\"#EEB479\",\"line\":{\"color\":\"black\",\"width\":2},\"size\":12},\"mode\":\"markers\",\"name\":\"N50\",\"opacity\":0.4,\"r\":[10,12,2,7,3,9,6,8,4,5,1,11],\"showlegend\":true,\"subplot\":\"polar\",\"theta\":[\"ABySS\",\"BCALM2\",\"GATBMiniaPipeline\",\"IDBA-UD\",\"MEGAHIT\",\"MetaHipMer2\",\"metaSPAdes\",\"MINIA\",\"SKESA\",\"SPAdes\",\"Unicycler\",\"VelvetOptimiser\"],\"type\":\"scatterpolar\"},{\"marker\":{\"color\":\"#EEB479\",\"line\":{\"color\":\"black\",\"width\":2},\"size\":12},\"mode\":\"markers\",\"name\":\"N50\",\"opacity\":0.4,\"r\":[7,12,3,8,2,10,5,9,6,4,1,11],\"showlegend\":false,\"subplot\":\"polar2\",\"theta\":[\"ABySS\",\"BCALM2\",\"GATBMiniaPipeline\",\"IDBA-UD\",\"MEGAHIT\",\"MetaHipMer2\",\"metaSPAdes\",\"MINIA\",\"SKESA\",\"SPAdes\",\"Unicycler\",\"VelvetOptimiser\"],\"type\":\"scatterpolar\"},{\"marker\":{\"color\":\"#E88471\",\"line\":{\"color\":\"black\",\"width\":2},\"size\":12},\"mode\":\"markers\",\"name\":\"% Mapped reads\",\"opacity\":0.4,\"r\":[1,11,6,5,3,10,2,9,8,4,7,12],\"showlegend\":true,\"subplot\":\"polar\",\"theta\":[\"ABySS\",\"BCALM2\",\"GATBMiniaPipeline\",\"IDBA-UD\",\"MEGAHIT\",\"MetaHipMer2\",\"metaSPAdes\",\"MINIA\",\"SKESA\",\"SPAdes\",\"Unicycler\",\"VelvetOptimiser\"],\"type\":\"scatterpolar\"},{\"marker\":{\"color\":\"#E88471\",\"line\":{\"color\":\"black\",\"width\":2},\"size\":12},\"mode\":\"markers\",\"name\":\"% Mapped reads\",\"opacity\":0.4,\"r\":[7,12,2,5,1,10,3,9,8,6,4,11],\"showlegend\":false,\"subplot\":\"polar2\",\"theta\":[\"ABySS\",\"BCALM2\",\"GATBMiniaPipeline\",\"IDBA-UD\",\"MEGAHIT\",\"MetaHipMer2\",\"metaSPAdes\",\"MINIA\",\"SKESA\",\"SPAdes\",\"Unicycler\",\"VelvetOptimiser\"],\"type\":\"scatterpolar\"},{\"marker\":{\"color\":\"#CF597E\",\"line\":{\"color\":\"black\",\"width\":2},\"size\":12},\"mode\":\"markers\",\"name\":\"Uncalled bases\",\"opacity\":0.4,\"r\":[1,1,1,1,1,1,1,1,1,1,1,12],\"showlegend\":true,\"subplot\":\"polar\",\"theta\":[\"ABySS\",\"BCALM2\",\"GATBMiniaPipeline\",\"IDBA-UD\",\"MEGAHIT\",\"MetaHipMer2\",\"metaSPAdes\",\"MINIA\",\"SKESA\",\"SPAdes\",\"Unicycler\",\"VelvetOptimiser\"],\"type\":\"scatterpolar\"},{\"marker\":{\"color\":\"#CF597E\",\"line\":{\"color\":\"black\",\"width\":2},\"size\":12},\"mode\":\"markers\",\"name\":\"Uncalled bases\",\"opacity\":0.4,\"r\":[1,1,1,1,1,1,1,1,1,1,1,1],\"showlegend\":false,\"subplot\":\"polar2\",\"theta\":[\"ABySS\",\"BCALM2\",\"GATBMiniaPipeline\",\"IDBA-UD\",\"MEGAHIT\",\"MetaHipMer2\",\"metaSPAdes\",\"MINIA\",\"SKESA\",\"SPAdes\",\"Unicycler\",\"VelvetOptimiser\"],\"type\":\"scatterpolar\"},{\"marker\":{\"color\":\"#a54765\",\"line\":{\"color\":\"black\",\"width\":2},\"size\":12},\"mode\":\"markers\",\"name\":\"Misassembled contigs\",\"opacity\":0.4,\"r\":[1,1,7,10,12,1,8,1,1,11,8,1],\"showlegend\":true,\"subplot\":\"polar2\",\"theta\":[\"ABySS\",\"BCALM2\",\"GATBMiniaPipeline\",\"IDBA-UD\",\"MEGAHIT\",\"MetaHipMer2\",\"metaSPAdes\",\"MINIA\",\"SKESA\",\"SPAdes\",\"Unicycler\",\"VelvetOptimiser\"],\"type\":\"scatterpolar\"},{\"marker\":{\"color\":\"#835221\",\"line\":{\"color\":\"black\",\"width\":2},\"size\":12},\"mode\":\"markers\",\"name\":\"Misassembly events\",\"opacity\":0.4,\"r\":[1,1,7,10,12,1,8,1,1,11,9,1],\"showlegend\":true,\"subplot\":\"polar2\",\"theta\":[\"ABySS\",\"BCALM2\",\"GATBMiniaPipeline\",\"IDBA-UD\",\"MEGAHIT\",\"MetaHipMer2\",\"metaSPAdes\",\"MINIA\",\"SKESA\",\"SPAdes\",\"Unicycler\",\"VelvetOptimiser\"],\"type\":\"scatterpolar\"}],                        {\"annotations\":[{\"font\":{\"size\":16},\"showarrow\":false,\"text\":\"Original\",\"x\":0.225,\"xanchor\":\"center\",\"xref\":\"paper\",\"y\":1.0,\"yanchor\":\"bottom\",\"yref\":\"paper\"},{\"font\":{\"size\":16},\"showarrow\":false,\"text\":\"Filtered\",\"x\":0.775,\"xanchor\":\"center\",\"xref\":\"paper\",\"y\":1.0,\"yanchor\":\"bottom\",\"yref\":\"paper\"}],\"polar\":{\"angularaxis\":{\"categoryarray\":[\"ABySS\",\"BCALM2\",\"GATBMiniaPipeline\",\"IDBA-UD\",\"MEGAHIT\",\"MetaHipMer2\",\"metaSPAdes\",\"MINIA\",\"SKESA\",\"SPAdes\",\"Unicycler\",\"VelvetOptimiser\",\" \"],\"linecolor\":\"black\"},\"bgcolor\":\"rgb(255,255,255)\",\"domain\":{\"x\":[0.0,0.45],\"y\":[0.0,1.0]},\"hole\":0.08333333333333333,\"radialaxis\":{\"angle\":-22.5,\"autorange\":\"reversed\",\"gridcolor\":\"#DCDCDC\",\"linecolor\":\"black\",\"linewidth\":2,\"range\":[1,12],\"visible\":true}},\"polar2\":{\"angularaxis\":{\"categoryarray\":[\"ABySS\",\"BCALM2\",\"GATBMiniaPipeline\",\"IDBA-UD\",\"MEGAHIT\",\"MetaHipMer2\",\"metaSPAdes\",\"MINIA\",\"SKESA\",\"SPAdes\",\"Unicycler\",\"VelvetOptimiser\",\" \"],\"linecolor\":\"black\"},\"bgcolor\":\"rgb(255,255,255)\",\"domain\":{\"x\":[0.55,1.0],\"y\":[0.0,1.0]},\"hole\":0.08333333333333333,\"radialaxis\":{\"angle\":-22.5,\"autorange\":\"reversed\",\"gridcolor\":\"#DCDCDC\",\"linecolor\":\"black\",\"linewidth\":2,\"range\":[1,12],\"visible\":true}},\"template\":{\"data\":{\"bar\":[{\"error_x\":{\"color\":\"#2a3f5f\"},\"error_y\":{\"color\":\"#2a3f5f\"},\"marker\":{\"line\":{\"color\":\"#E5ECF6\",\"width\":0.5},\"pattern\":{\"fillmode\":\"overlay\",\"size\":10,\"solidity\":0.2}},\"type\":\"bar\"}],\"barpolar\":[{\"marker\":{\"line\":{\"color\":\"#E5ECF6\",\"width\":0.5},\"pattern\":{\"fillmode\":\"overlay\",\"size\":10,\"solidity\":0.2}},\"type\":\"barpolar\"}],\"carpet\":[{\"aaxis\":{\"endlinecolor\":\"#2a3f5f\",\"gridcolor\":\"white\",\"linecolor\":\"white\",\"minorgridcolor\":\"white\",\"startlinecolor\":\"#2a3f5f\"},\"baxis\":{\"endlinecolor\":\"#2a3f5f\",\"gridcolor\":\"white\",\"linecolor\":\"white\",\"minorgridcolor\":\"white\",\"startlinecolor\":\"#2a3f5f\"},\"type\":\"carpet\"}],\"choropleth\":[{\"colorbar\":{\"outlinewidth\":0,\"ticks\":\"\"},\"type\":\"choropleth\"}],\"contour\":[{\"colorbar\":{\"outlinewidth\":0,\"ticks\":\"\"},\"colorscale\":[[0.0,\"#0d0887\"],[0.1111111111111111,\"#46039f\"],[0.2222222222222222,\"#7201a8\"],[0.3333333333333333,\"#9c179e\"],[0.4444444444444444,\"#bd3786\"],[0.5555555555555556,\"#d8576b\"],[0.6666666666666666,\"#ed7953\"],[0.7777777777777778,\"#fb9f3a\"],[0.8888888888888888,\"#fdca26\"],[1.0,\"#f0f921\"]],\"type\":\"contour\"}],\"contourcarpet\":[{\"colorbar\":{\"outlinewidth\":0,\"ticks\":\"\"},\"type\":\"contourcarpet\"}],\"heatmap\":[{\"colorbar\":{\"outlinewidth\":0,\"ticks\":\"\"},\"colorscale\":[[0.0,\"#0d0887\"],[0.1111111111111111,\"#46039f\"],[0.2222222222222222,\"#7201a8\"],[0.3333333333333333,\"#9c179e\"],[0.4444444444444444,\"#bd3786\"],[0.5555555555555556,\"#d8576b\"],[0.6666666666666666,\"#ed7953\"],[0.7777777777777778,\"#fb9f3a\"],[0.8888888888888888,\"#fdca26\"],[1.0,\"#f0f921\"]],\"type\":\"heatmap\"}],\"heatmapgl\":[{\"colorbar\":{\"outlinewidth\":0,\"ticks\":\"\"},\"colorscale\":[[0.0,\"#0d0887\"],[0.1111111111111111,\"#46039f\"],[0.2222222222222222,\"#7201a8\"],[0.3333333333333333,\"#9c179e\"],[0.4444444444444444,\"#bd3786\"],[0.5555555555555556,\"#d8576b\"],[0.6666666666666666,\"#ed7953\"],[0.7777777777777778,\"#fb9f3a\"],[0.8888888888888888,\"#fdca26\"],[1.0,\"#f0f921\"]],\"type\":\"heatmapgl\"}],\"histogram\":[{\"marker\":{\"pattern\":{\"fillmode\":\"overlay\",\"size\":10,\"solidity\":0.2}},\"type\":\"histogram\"}],\"histogram2d\":[{\"colorbar\":{\"outlinewidth\":0,\"ticks\":\"\"},\"colorscale\":[[0.0,\"#0d0887\"],[0.1111111111111111,\"#46039f\"],[0.2222222222222222,\"#7201a8\"],[0.3333333333333333,\"#9c179e\"],[0.4444444444444444,\"#bd3786\"],[0.5555555555555556,\"#d8576b\"],[0.6666666666666666,\"#ed7953\"],[0.7777777777777778,\"#fb9f3a\"],[0.8888888888888888,\"#fdca26\"],[1.0,\"#f0f921\"]],\"type\":\"histogram2d\"}],\"histogram2dcontour\":[{\"colorbar\":{\"outlinewidth\":0,\"ticks\":\"\"},\"colorscale\":[[0.0,\"#0d0887\"],[0.1111111111111111,\"#46039f\"],[0.2222222222222222,\"#7201a8\"],[0.3333333333333333,\"#9c179e\"],[0.4444444444444444,\"#bd3786\"],[0.5555555555555556,\"#d8576b\"],[0.6666666666666666,\"#ed7953\"],[0.7777777777777778,\"#fb9f3a\"],[0.8888888888888888,\"#fdca26\"],[1.0,\"#f0f921\"]],\"type\":\"histogram2dcontour\"}],\"mesh3d\":[{\"colorbar\":{\"outlinewidth\":0,\"ticks\":\"\"},\"type\":\"mesh3d\"}],\"parcoords\":[{\"line\":{\"colorbar\":{\"outlinewidth\":0,\"ticks\":\"\"}},\"type\":\"parcoords\"}],\"pie\":[{\"automargin\":true,\"type\":\"pie\"}],\"scatter\":[{\"marker\":{\"colorbar\":{\"outlinewidth\":0,\"ticks\":\"\"}},\"type\":\"scatter\"}],\"scatter3d\":[{\"line\":{\"colorbar\":{\"outlinewidth\":0,\"ticks\":\"\"}},\"marker\":{\"colorbar\":{\"outlinewidth\":0,\"ticks\":\"\"}},\"type\":\"scatter3d\"}],\"scattercarpet\":[{\"marker\":{\"colorbar\":{\"outlinewidth\":0,\"ticks\":\"\"}},\"type\":\"scattercarpet\"}],\"scattergeo\":[{\"marker\":{\"colorbar\":{\"outlinewidth\":0,\"ticks\":\"\"}},\"type\":\"scattergeo\"}],\"scattergl\":[{\"marker\":{\"colorbar\":{\"outlinewidth\":0,\"ticks\":\"\"}},\"type\":\"scattergl\"}],\"scattermapbox\":[{\"marker\":{\"colorbar\":{\"outlinewidth\":0,\"ticks\":\"\"}},\"type\":\"scattermapbox\"}],\"scatterpolar\":[{\"marker\":{\"colorbar\":{\"outlinewidth\":0,\"ticks\":\"\"}},\"type\":\"scatterpolar\"}],\"scatterpolargl\":[{\"marker\":{\"colorbar\":{\"outlinewidth\":0,\"ticks\":\"\"}},\"type\":\"scatterpolargl\"}],\"scatterternary\":[{\"marker\":{\"colorbar\":{\"outlinewidth\":0,\"ticks\":\"\"}},\"type\":\"scatterternary\"}],\"surface\":[{\"colorbar\":{\"outlinewidth\":0,\"ticks\":\"\"},\"colorscale\":[[0.0,\"#0d0887\"],[0.1111111111111111,\"#46039f\"],[0.2222222222222222,\"#7201a8\"],[0.3333333333333333,\"#9c179e\"],[0.4444444444444444,\"#bd3786\"],[0.5555555555555556,\"#d8576b\"],[0.6666666666666666,\"#ed7953\"],[0.7777777777777778,\"#fb9f3a\"],[0.8888888888888888,\"#fdca26\"],[1.0,\"#f0f921\"]],\"type\":\"surface\"}],\"table\":[{\"cells\":{\"fill\":{\"color\":\"#EBF0F8\"},\"line\":{\"color\":\"white\"}},\"header\":{\"fill\":{\"color\":\"#C8D4E3\"},\"line\":{\"color\":\"white\"}},\"type\":\"table\"}]},\"layout\":{\"annotationdefaults\":{\"arrowcolor\":\"#2a3f5f\",\"arrowhead\":0,\"arrowwidth\":1},\"autotypenumbers\":\"strict\",\"coloraxis\":{\"colorbar\":{\"outlinewidth\":0,\"ticks\":\"\"}},\"colorscale\":{\"diverging\":[[0,\"#8e0152\"],[0.1,\"#c51b7d\"],[0.2,\"#de77ae\"],[0.3,\"#f1b6da\"],[0.4,\"#fde0ef\"],[0.5,\"#f7f7f7\"],[0.6,\"#e6f5d0\"],[0.7,\"#b8e186\"],[0.8,\"#7fbc41\"],[0.9,\"#4d9221\"],[1,\"#276419\"]],\"sequential\":[[0.0,\"#0d0887\"],[0.1111111111111111,\"#46039f\"],[0.2222222222222222,\"#7201a8\"],[0.3333333333333333,\"#9c179e\"],[0.4444444444444444,\"#bd3786\"],[0.5555555555555556,\"#d8576b\"],[0.6666666666666666,\"#ed7953\"],[0.7777777777777778,\"#fb9f3a\"],[0.8888888888888888,\"#fdca26\"],[1.0,\"#f0f921\"]],\"sequentialminus\":[[0.0,\"#0d0887\"],[0.1111111111111111,\"#46039f\"],[0.2222222222222222,\"#7201a8\"],[0.3333333333333333,\"#9c179e\"],[0.4444444444444444,\"#bd3786\"],[0.5555555555555556,\"#d8576b\"],[0.6666666666666666,\"#ed7953\"],[0.7777777777777778,\"#fb9f3a\"],[0.8888888888888888,\"#fdca26\"],[1.0,\"#f0f921\"]]},\"colorway\":[\"#636efa\",\"#EF553B\",\"#00cc96\",\"#ab63fa\",\"#FFA15A\",\"#19d3f3\",\"#FF6692\",\"#B6E880\",\"#FF97FF\",\"#FECB52\"],\"font\":{\"color\":\"#2a3f5f\"},\"geo\":{\"bgcolor\":\"white\",\"lakecolor\":\"white\",\"landcolor\":\"#E5ECF6\",\"showlakes\":true,\"showland\":true,\"subunitcolor\":\"white\"},\"hoverlabel\":{\"align\":\"left\"},\"hovermode\":\"closest\",\"mapbox\":{\"style\":\"light\"},\"paper_bgcolor\":\"white\",\"plot_bgcolor\":\"#E5ECF6\",\"polar\":{\"angularaxis\":{\"gridcolor\":\"white\",\"linecolor\":\"white\",\"ticks\":\"\"},\"bgcolor\":\"#E5ECF6\",\"radialaxis\":{\"gridcolor\":\"white\",\"linecolor\":\"white\",\"ticks\":\"\"}},\"scene\":{\"xaxis\":{\"backgroundcolor\":\"#E5ECF6\",\"gridcolor\":\"white\",\"gridwidth\":2,\"linecolor\":\"white\",\"showbackground\":true,\"ticks\":\"\",\"zerolinecolor\":\"white\"},\"yaxis\":{\"backgroundcolor\":\"#E5ECF6\",\"gridcolor\":\"white\",\"gridwidth\":2,\"linecolor\":\"white\",\"showbackground\":true,\"ticks\":\"\",\"zerolinecolor\":\"white\"},\"zaxis\":{\"backgroundcolor\":\"#E5ECF6\",\"gridcolor\":\"white\",\"gridwidth\":2,\"linecolor\":\"white\",\"showbackground\":true,\"ticks\":\"\",\"zerolinecolor\":\"white\"}},\"shapedefaults\":{\"line\":{\"color\":\"#2a3f5f\"}},\"ternary\":{\"aaxis\":{\"gridcolor\":\"white\",\"linecolor\":\"white\",\"ticks\":\"\"},\"baxis\":{\"gridcolor\":\"white\",\"linecolor\":\"white\",\"ticks\":\"\"},\"bgcolor\":\"#E5ECF6\",\"caxis\":{\"gridcolor\":\"white\",\"linecolor\":\"white\",\"ticks\":\"\"}},\"title\":{\"x\":0.05},\"xaxis\":{\"automargin\":true,\"gridcolor\":\"white\",\"linecolor\":\"white\",\"ticks\":\"\",\"title\":{\"standoff\":15},\"zerolinecolor\":\"white\",\"zerolinewidth\":2},\"yaxis\":{\"automargin\":true,\"gridcolor\":\"white\",\"linecolor\":\"white\",\"ticks\":\"\",\"title\":{\"standoff\":15},\"zerolinecolor\":\"white\",\"zerolinewidth\":2}}},\"title\":{\"text\":\"ERR2984773\"}},                        {\"responsive\": true}                    ).then(function(){\n",
       "                            \n",
       "var gd = document.getElementById('3f1224c0-a30c-4df5-929c-f71406fc57a2');\n",
       "var x = new MutationObserver(function (mutations, observer) {{\n",
       "        var display = window.getComputedStyle(gd).display;\n",
       "        if (!display || display === 'none') {{\n",
       "            console.log([gd, 'removed!']);\n",
       "            Plotly.purge(gd);\n",
       "            observer.disconnect();\n",
       "        }}\n",
       "}});\n",
       "\n",
       "// Listen for the removal of the full notebook cells\n",
       "var notebookContainer = gd.closest('#notebook-container');\n",
       "if (notebookContainer) {{\n",
       "    x.observe(notebookContainer, {childList: true});\n",
       "}}\n",
       "\n",
       "// Listen for the clearing of the current output cell\n",
       "var outputEl = gd.closest('.output');\n",
       "if (outputEl) {{\n",
       "    x.observe(outputEl, {childList: true});\n",
       "}}\n",
       "\n",
       "                        })                };                });            </script>        </div>"
      ]
     },
     "metadata": {},
     "output_type": "display_data"
    },
    {
     "data": {
      "application/vnd.plotly.v1+json": {
       "config": {
        "plotlyServerURL": "https://plot.ly"
       },
       "data": [
        {
         "marker": {
          "color": "#5876c8",
          "line": {
           "color": "black",
           "width": 2
          },
          "size": 12
         },
         "mode": "markers",
         "name": "Contigs",
         "opacity": 0.4,
         "r": [
          9,
          12,
          5,
          7,
          2,
          3,
          1,
          11,
          8,
          6,
          4,
          10
         ],
         "showlegend": true,
         "subplot": "polar",
         "theta": [
          "ABySS",
          "BCALM2",
          "GATBMiniaPipeline",
          "IDBA-UD",
          "MEGAHIT",
          "MetaHipMer2",
          "metaSPAdes",
          "MINIA",
          "SKESA",
          "SPAdes",
          "Unicycler",
          "VelvetOptimiser"
         ],
         "type": "scatterpolar"
        },
        {
         "marker": {
          "color": "#5876c8",
          "line": {
           "color": "black",
           "width": 2
          },
          "size": 12
         },
         "mode": "markers",
         "name": "Contigs",
         "opacity": 0.4,
         "r": [
          9,
          11,
          6,
          7,
          4,
          5,
          1,
          12,
          8,
          3,
          2,
          10
         ],
         "showlegend": false,
         "subplot": "polar2",
         "theta": [
          "ABySS",
          "BCALM2",
          "GATBMiniaPipeline",
          "IDBA-UD",
          "MEGAHIT",
          "MetaHipMer2",
          "metaSPAdes",
          "MINIA",
          "SKESA",
          "SPAdes",
          "Unicycler",
          "VelvetOptimiser"
         ],
         "type": "scatterpolar"
        },
        {
         "marker": {
          "color": "#009392",
          "line": {
           "color": "black",
           "width": 2
          },
          "size": 12
         },
         "mode": "markers",
         "name": "Basepairs",
         "opacity": 0.4,
         "r": [
          12,
          11,
          5,
          4,
          9,
          3,
          7,
          10,
          1,
          6,
          2,
          8
         ],
         "showlegend": true,
         "subplot": "polar",
         "theta": [
          "ABySS",
          "BCALM2",
          "GATBMiniaPipeline",
          "IDBA-UD",
          "MEGAHIT",
          "MetaHipMer2",
          "metaSPAdes",
          "MINIA",
          "SKESA",
          "SPAdes",
          "Unicycler",
          "VelvetOptimiser"
         ],
         "type": "scatterpolar"
        },
        {
         "marker": {
          "color": "#009392",
          "line": {
           "color": "black",
           "width": 2
          },
          "size": 12
         },
         "mode": "markers",
         "name": "Basepairs",
         "opacity": 0.4,
         "r": [
          12,
          1,
          8,
          6,
          11,
          7,
          10,
          2,
          4,
          9,
          5,
          3
         ],
         "showlegend": false,
         "subplot": "polar2",
         "theta": [
          "ABySS",
          "BCALM2",
          "GATBMiniaPipeline",
          "IDBA-UD",
          "MEGAHIT",
          "MetaHipMer2",
          "metaSPAdes",
          "MINIA",
          "SKESA",
          "SPAdes",
          "Unicycler",
          "VelvetOptimiser"
         ],
         "type": "scatterpolar"
        },
        {
         "marker": {
          "color": "#9CCB86",
          "line": {
           "color": "black",
           "width": 2
          },
          "size": 12
         },
         "mode": "markers",
         "name": "Largest contig",
         "opacity": 0.4,
         "r": [
          2,
          11,
          7,
          9,
          6,
          10,
          1,
          11,
          8,
          3,
          5,
          4
         ],
         "showlegend": true,
         "subplot": "polar",
         "theta": [
          "ABySS",
          "BCALM2",
          "GATBMiniaPipeline",
          "IDBA-UD",
          "MEGAHIT",
          "MetaHipMer2",
          "metaSPAdes",
          "MINIA",
          "SKESA",
          "SPAdes",
          "Unicycler",
          "VelvetOptimiser"
         ],
         "type": "scatterpolar"
        },
        {
         "marker": {
          "color": "#EEB479",
          "line": {
           "color": "black",
           "width": 2
          },
          "size": 12
         },
         "mode": "markers",
         "name": "N50",
         "opacity": 0.4,
         "r": [
          7,
          12,
          6,
          8,
          4,
          5,
          1,
          11,
          9,
          2,
          3,
          10
         ],
         "showlegend": true,
         "subplot": "polar",
         "theta": [
          "ABySS",
          "BCALM2",
          "GATBMiniaPipeline",
          "IDBA-UD",
          "MEGAHIT",
          "MetaHipMer2",
          "metaSPAdes",
          "MINIA",
          "SKESA",
          "SPAdes",
          "Unicycler",
          "VelvetOptimiser"
         ],
         "type": "scatterpolar"
        },
        {
         "marker": {
          "color": "#EEB479",
          "line": {
           "color": "black",
           "width": 2
          },
          "size": 12
         },
         "mode": "markers",
         "name": "N50",
         "opacity": 0.4,
         "r": [
          7,
          11,
          6,
          8,
          4,
          5,
          1,
          12,
          9,
          3,
          2,
          10
         ],
         "showlegend": false,
         "subplot": "polar2",
         "theta": [
          "ABySS",
          "BCALM2",
          "GATBMiniaPipeline",
          "IDBA-UD",
          "MEGAHIT",
          "MetaHipMer2",
          "metaSPAdes",
          "MINIA",
          "SKESA",
          "SPAdes",
          "Unicycler",
          "VelvetOptimiser"
         ],
         "type": "scatterpolar"
        },
        {
         "marker": {
          "color": "#E88471",
          "line": {
           "color": "black",
           "width": 2
          },
          "size": 12
         },
         "mode": "markers",
         "name": "% Mapped reads",
         "opacity": 0.4,
         "r": [
          1,
          12,
          6,
          5,
          2,
          8,
          3,
          10,
          9,
          4,
          7,
          11
         ],
         "showlegend": true,
         "subplot": "polar",
         "theta": [
          "ABySS",
          "BCALM2",
          "GATBMiniaPipeline",
          "IDBA-UD",
          "MEGAHIT",
          "MetaHipMer2",
          "metaSPAdes",
          "MINIA",
          "SKESA",
          "SPAdes",
          "Unicycler",
          "VelvetOptimiser"
         ],
         "type": "scatterpolar"
        },
        {
         "marker": {
          "color": "#E88471",
          "line": {
           "color": "black",
           "width": 2
          },
          "size": 12
         },
         "mode": "markers",
         "name": "% Mapped reads",
         "opacity": 0.4,
         "r": [
          2,
          12,
          5,
          8,
          1,
          6,
          3,
          11,
          9,
          4,
          7,
          10
         ],
         "showlegend": false,
         "subplot": "polar2",
         "theta": [
          "ABySS",
          "BCALM2",
          "GATBMiniaPipeline",
          "IDBA-UD",
          "MEGAHIT",
          "MetaHipMer2",
          "metaSPAdes",
          "MINIA",
          "SKESA",
          "SPAdes",
          "Unicycler",
          "VelvetOptimiser"
         ],
         "type": "scatterpolar"
        },
        {
         "marker": {
          "color": "#CF597E",
          "line": {
           "color": "black",
           "width": 2
          },
          "size": 12
         },
         "mode": "markers",
         "name": "Uncalled bases",
         "opacity": 0.4,
         "r": [
          11,
          1,
          1,
          1,
          1,
          1,
          1,
          1,
          1,
          1,
          1,
          12
         ],
         "showlegend": true,
         "subplot": "polar",
         "theta": [
          "ABySS",
          "BCALM2",
          "GATBMiniaPipeline",
          "IDBA-UD",
          "MEGAHIT",
          "MetaHipMer2",
          "metaSPAdes",
          "MINIA",
          "SKESA",
          "SPAdes",
          "Unicycler",
          "VelvetOptimiser"
         ],
         "type": "scatterpolar"
        },
        {
         "marker": {
          "color": "#CF597E",
          "line": {
           "color": "black",
           "width": 2
          },
          "size": 12
         },
         "mode": "markers",
         "name": "Uncalled bases",
         "opacity": 0.4,
         "r": [
          11,
          1,
          1,
          1,
          1,
          1,
          1,
          1,
          1,
          1,
          1,
          12
         ],
         "showlegend": false,
         "subplot": "polar2",
         "theta": [
          "ABySS",
          "BCALM2",
          "GATBMiniaPipeline",
          "IDBA-UD",
          "MEGAHIT",
          "MetaHipMer2",
          "metaSPAdes",
          "MINIA",
          "SKESA",
          "SPAdes",
          "Unicycler",
          "VelvetOptimiser"
         ],
         "type": "scatterpolar"
        },
        {
         "marker": {
          "color": "#a54765",
          "line": {
           "color": "black",
           "width": 2
          },
          "size": 12
         },
         "mode": "markers",
         "name": "Misassembled contigs",
         "opacity": 0.4,
         "r": [
          8,
          1,
          6,
          12,
          10,
          1,
          5,
          1,
          11,
          6,
          1,
          9
         ],
         "showlegend": true,
         "subplot": "polar2",
         "theta": [
          "ABySS",
          "BCALM2",
          "GATBMiniaPipeline",
          "IDBA-UD",
          "MEGAHIT",
          "MetaHipMer2",
          "metaSPAdes",
          "MINIA",
          "SKESA",
          "SPAdes",
          "Unicycler",
          "VelvetOptimiser"
         ],
         "type": "scatterpolar"
        },
        {
         "marker": {
          "color": "#835221",
          "line": {
           "color": "black",
           "width": 2
          },
          "size": 12
         },
         "mode": "markers",
         "name": "Misassembly events",
         "opacity": 0.4,
         "r": [
          9,
          1,
          5,
          12,
          10,
          1,
          5,
          1,
          11,
          5,
          1,
          8
         ],
         "showlegend": true,
         "subplot": "polar2",
         "theta": [
          "ABySS",
          "BCALM2",
          "GATBMiniaPipeline",
          "IDBA-UD",
          "MEGAHIT",
          "MetaHipMer2",
          "metaSPAdes",
          "MINIA",
          "SKESA",
          "SPAdes",
          "Unicycler",
          "VelvetOptimiser"
         ],
         "type": "scatterpolar"
        }
       ],
       "layout": {
        "annotations": [
         {
          "font": {
           "size": 16
          },
          "showarrow": false,
          "text": "Original",
          "x": 0.225,
          "xanchor": "center",
          "xref": "paper",
          "y": 1,
          "yanchor": "bottom",
          "yref": "paper"
         },
         {
          "font": {
           "size": 16
          },
          "showarrow": false,
          "text": "Filtered",
          "x": 0.775,
          "xanchor": "center",
          "xref": "paper",
          "y": 1,
          "yanchor": "bottom",
          "yref": "paper"
         }
        ],
        "polar": {
         "angularaxis": {
          "categoryarray": [
           "ABySS",
           "BCALM2",
           "GATBMiniaPipeline",
           "IDBA-UD",
           "MEGAHIT",
           "MetaHipMer2",
           "metaSPAdes",
           "MINIA",
           "SKESA",
           "SPAdes",
           "Unicycler",
           "VelvetOptimiser",
           " "
          ],
          "linecolor": "black"
         },
         "bgcolor": "rgb(255,255,255)",
         "domain": {
          "x": [
           0,
           0.45
          ],
          "y": [
           0,
           1
          ]
         },
         "hole": 0.08333333333333333,
         "radialaxis": {
          "angle": -22.5,
          "autorange": "reversed",
          "gridcolor": "#DCDCDC",
          "linecolor": "black",
          "linewidth": 2,
          "range": [
           1,
           12
          ],
          "visible": true
         }
        },
        "polar2": {
         "angularaxis": {
          "categoryarray": [
           "ABySS",
           "BCALM2",
           "GATBMiniaPipeline",
           "IDBA-UD",
           "MEGAHIT",
           "MetaHipMer2",
           "metaSPAdes",
           "MINIA",
           "SKESA",
           "SPAdes",
           "Unicycler",
           "VelvetOptimiser",
           " "
          ],
          "linecolor": "black"
         },
         "bgcolor": "rgb(255,255,255)",
         "domain": {
          "x": [
           0.55,
           1
          ],
          "y": [
           0,
           1
          ]
         },
         "hole": 0.08333333333333333,
         "radialaxis": {
          "angle": -22.5,
          "autorange": "reversed",
          "gridcolor": "#DCDCDC",
          "linecolor": "black",
          "linewidth": 2,
          "range": [
           1,
           12
          ],
          "visible": true
         }
        },
        "template": {
         "data": {
          "bar": [
           {
            "error_x": {
             "color": "#2a3f5f"
            },
            "error_y": {
             "color": "#2a3f5f"
            },
            "marker": {
             "line": {
              "color": "#E5ECF6",
              "width": 0.5
             },
             "pattern": {
              "fillmode": "overlay",
              "size": 10,
              "solidity": 0.2
             }
            },
            "type": "bar"
           }
          ],
          "barpolar": [
           {
            "marker": {
             "line": {
              "color": "#E5ECF6",
              "width": 0.5
             },
             "pattern": {
              "fillmode": "overlay",
              "size": 10,
              "solidity": 0.2
             }
            },
            "type": "barpolar"
           }
          ],
          "carpet": [
           {
            "aaxis": {
             "endlinecolor": "#2a3f5f",
             "gridcolor": "white",
             "linecolor": "white",
             "minorgridcolor": "white",
             "startlinecolor": "#2a3f5f"
            },
            "baxis": {
             "endlinecolor": "#2a3f5f",
             "gridcolor": "white",
             "linecolor": "white",
             "minorgridcolor": "white",
             "startlinecolor": "#2a3f5f"
            },
            "type": "carpet"
           }
          ],
          "choropleth": [
           {
            "colorbar": {
             "outlinewidth": 0,
             "ticks": ""
            },
            "type": "choropleth"
           }
          ],
          "contour": [
           {
            "colorbar": {
             "outlinewidth": 0,
             "ticks": ""
            },
            "colorscale": [
             [
              0,
              "#0d0887"
             ],
             [
              0.1111111111111111,
              "#46039f"
             ],
             [
              0.2222222222222222,
              "#7201a8"
             ],
             [
              0.3333333333333333,
              "#9c179e"
             ],
             [
              0.4444444444444444,
              "#bd3786"
             ],
             [
              0.5555555555555556,
              "#d8576b"
             ],
             [
              0.6666666666666666,
              "#ed7953"
             ],
             [
              0.7777777777777778,
              "#fb9f3a"
             ],
             [
              0.8888888888888888,
              "#fdca26"
             ],
             [
              1,
              "#f0f921"
             ]
            ],
            "type": "contour"
           }
          ],
          "contourcarpet": [
           {
            "colorbar": {
             "outlinewidth": 0,
             "ticks": ""
            },
            "type": "contourcarpet"
           }
          ],
          "heatmap": [
           {
            "colorbar": {
             "outlinewidth": 0,
             "ticks": ""
            },
            "colorscale": [
             [
              0,
              "#0d0887"
             ],
             [
              0.1111111111111111,
              "#46039f"
             ],
             [
              0.2222222222222222,
              "#7201a8"
             ],
             [
              0.3333333333333333,
              "#9c179e"
             ],
             [
              0.4444444444444444,
              "#bd3786"
             ],
             [
              0.5555555555555556,
              "#d8576b"
             ],
             [
              0.6666666666666666,
              "#ed7953"
             ],
             [
              0.7777777777777778,
              "#fb9f3a"
             ],
             [
              0.8888888888888888,
              "#fdca26"
             ],
             [
              1,
              "#f0f921"
             ]
            ],
            "type": "heatmap"
           }
          ],
          "heatmapgl": [
           {
            "colorbar": {
             "outlinewidth": 0,
             "ticks": ""
            },
            "colorscale": [
             [
              0,
              "#0d0887"
             ],
             [
              0.1111111111111111,
              "#46039f"
             ],
             [
              0.2222222222222222,
              "#7201a8"
             ],
             [
              0.3333333333333333,
              "#9c179e"
             ],
             [
              0.4444444444444444,
              "#bd3786"
             ],
             [
              0.5555555555555556,
              "#d8576b"
             ],
             [
              0.6666666666666666,
              "#ed7953"
             ],
             [
              0.7777777777777778,
              "#fb9f3a"
             ],
             [
              0.8888888888888888,
              "#fdca26"
             ],
             [
              1,
              "#f0f921"
             ]
            ],
            "type": "heatmapgl"
           }
          ],
          "histogram": [
           {
            "marker": {
             "pattern": {
              "fillmode": "overlay",
              "size": 10,
              "solidity": 0.2
             }
            },
            "type": "histogram"
           }
          ],
          "histogram2d": [
           {
            "colorbar": {
             "outlinewidth": 0,
             "ticks": ""
            },
            "colorscale": [
             [
              0,
              "#0d0887"
             ],
             [
              0.1111111111111111,
              "#46039f"
             ],
             [
              0.2222222222222222,
              "#7201a8"
             ],
             [
              0.3333333333333333,
              "#9c179e"
             ],
             [
              0.4444444444444444,
              "#bd3786"
             ],
             [
              0.5555555555555556,
              "#d8576b"
             ],
             [
              0.6666666666666666,
              "#ed7953"
             ],
             [
              0.7777777777777778,
              "#fb9f3a"
             ],
             [
              0.8888888888888888,
              "#fdca26"
             ],
             [
              1,
              "#f0f921"
             ]
            ],
            "type": "histogram2d"
           }
          ],
          "histogram2dcontour": [
           {
            "colorbar": {
             "outlinewidth": 0,
             "ticks": ""
            },
            "colorscale": [
             [
              0,
              "#0d0887"
             ],
             [
              0.1111111111111111,
              "#46039f"
             ],
             [
              0.2222222222222222,
              "#7201a8"
             ],
             [
              0.3333333333333333,
              "#9c179e"
             ],
             [
              0.4444444444444444,
              "#bd3786"
             ],
             [
              0.5555555555555556,
              "#d8576b"
             ],
             [
              0.6666666666666666,
              "#ed7953"
             ],
             [
              0.7777777777777778,
              "#fb9f3a"
             ],
             [
              0.8888888888888888,
              "#fdca26"
             ],
             [
              1,
              "#f0f921"
             ]
            ],
            "type": "histogram2dcontour"
           }
          ],
          "mesh3d": [
           {
            "colorbar": {
             "outlinewidth": 0,
             "ticks": ""
            },
            "type": "mesh3d"
           }
          ],
          "parcoords": [
           {
            "line": {
             "colorbar": {
              "outlinewidth": 0,
              "ticks": ""
             }
            },
            "type": "parcoords"
           }
          ],
          "pie": [
           {
            "automargin": true,
            "type": "pie"
           }
          ],
          "scatter": [
           {
            "marker": {
             "colorbar": {
              "outlinewidth": 0,
              "ticks": ""
             }
            },
            "type": "scatter"
           }
          ],
          "scatter3d": [
           {
            "line": {
             "colorbar": {
              "outlinewidth": 0,
              "ticks": ""
             }
            },
            "marker": {
             "colorbar": {
              "outlinewidth": 0,
              "ticks": ""
             }
            },
            "type": "scatter3d"
           }
          ],
          "scattercarpet": [
           {
            "marker": {
             "colorbar": {
              "outlinewidth": 0,
              "ticks": ""
             }
            },
            "type": "scattercarpet"
           }
          ],
          "scattergeo": [
           {
            "marker": {
             "colorbar": {
              "outlinewidth": 0,
              "ticks": ""
             }
            },
            "type": "scattergeo"
           }
          ],
          "scattergl": [
           {
            "marker": {
             "colorbar": {
              "outlinewidth": 0,
              "ticks": ""
             }
            },
            "type": "scattergl"
           }
          ],
          "scattermapbox": [
           {
            "marker": {
             "colorbar": {
              "outlinewidth": 0,
              "ticks": ""
             }
            },
            "type": "scattermapbox"
           }
          ],
          "scatterpolar": [
           {
            "marker": {
             "colorbar": {
              "outlinewidth": 0,
              "ticks": ""
             }
            },
            "type": "scatterpolar"
           }
          ],
          "scatterpolargl": [
           {
            "marker": {
             "colorbar": {
              "outlinewidth": 0,
              "ticks": ""
             }
            },
            "type": "scatterpolargl"
           }
          ],
          "scatterternary": [
           {
            "marker": {
             "colorbar": {
              "outlinewidth": 0,
              "ticks": ""
             }
            },
            "type": "scatterternary"
           }
          ],
          "surface": [
           {
            "colorbar": {
             "outlinewidth": 0,
             "ticks": ""
            },
            "colorscale": [
             [
              0,
              "#0d0887"
             ],
             [
              0.1111111111111111,
              "#46039f"
             ],
             [
              0.2222222222222222,
              "#7201a8"
             ],
             [
              0.3333333333333333,
              "#9c179e"
             ],
             [
              0.4444444444444444,
              "#bd3786"
             ],
             [
              0.5555555555555556,
              "#d8576b"
             ],
             [
              0.6666666666666666,
              "#ed7953"
             ],
             [
              0.7777777777777778,
              "#fb9f3a"
             ],
             [
              0.8888888888888888,
              "#fdca26"
             ],
             [
              1,
              "#f0f921"
             ]
            ],
            "type": "surface"
           }
          ],
          "table": [
           {
            "cells": {
             "fill": {
              "color": "#EBF0F8"
             },
             "line": {
              "color": "white"
             }
            },
            "header": {
             "fill": {
              "color": "#C8D4E3"
             },
             "line": {
              "color": "white"
             }
            },
            "type": "table"
           }
          ]
         },
         "layout": {
          "annotationdefaults": {
           "arrowcolor": "#2a3f5f",
           "arrowhead": 0,
           "arrowwidth": 1
          },
          "autotypenumbers": "strict",
          "coloraxis": {
           "colorbar": {
            "outlinewidth": 0,
            "ticks": ""
           }
          },
          "colorscale": {
           "diverging": [
            [
             0,
             "#8e0152"
            ],
            [
             0.1,
             "#c51b7d"
            ],
            [
             0.2,
             "#de77ae"
            ],
            [
             0.3,
             "#f1b6da"
            ],
            [
             0.4,
             "#fde0ef"
            ],
            [
             0.5,
             "#f7f7f7"
            ],
            [
             0.6,
             "#e6f5d0"
            ],
            [
             0.7,
             "#b8e186"
            ],
            [
             0.8,
             "#7fbc41"
            ],
            [
             0.9,
             "#4d9221"
            ],
            [
             1,
             "#276419"
            ]
           ],
           "sequential": [
            [
             0,
             "#0d0887"
            ],
            [
             0.1111111111111111,
             "#46039f"
            ],
            [
             0.2222222222222222,
             "#7201a8"
            ],
            [
             0.3333333333333333,
             "#9c179e"
            ],
            [
             0.4444444444444444,
             "#bd3786"
            ],
            [
             0.5555555555555556,
             "#d8576b"
            ],
            [
             0.6666666666666666,
             "#ed7953"
            ],
            [
             0.7777777777777778,
             "#fb9f3a"
            ],
            [
             0.8888888888888888,
             "#fdca26"
            ],
            [
             1,
             "#f0f921"
            ]
           ],
           "sequentialminus": [
            [
             0,
             "#0d0887"
            ],
            [
             0.1111111111111111,
             "#46039f"
            ],
            [
             0.2222222222222222,
             "#7201a8"
            ],
            [
             0.3333333333333333,
             "#9c179e"
            ],
            [
             0.4444444444444444,
             "#bd3786"
            ],
            [
             0.5555555555555556,
             "#d8576b"
            ],
            [
             0.6666666666666666,
             "#ed7953"
            ],
            [
             0.7777777777777778,
             "#fb9f3a"
            ],
            [
             0.8888888888888888,
             "#fdca26"
            ],
            [
             1,
             "#f0f921"
            ]
           ]
          },
          "colorway": [
           "#636efa",
           "#EF553B",
           "#00cc96",
           "#ab63fa",
           "#FFA15A",
           "#19d3f3",
           "#FF6692",
           "#B6E880",
           "#FF97FF",
           "#FECB52"
          ],
          "font": {
           "color": "#2a3f5f"
          },
          "geo": {
           "bgcolor": "white",
           "lakecolor": "white",
           "landcolor": "#E5ECF6",
           "showlakes": true,
           "showland": true,
           "subunitcolor": "white"
          },
          "hoverlabel": {
           "align": "left"
          },
          "hovermode": "closest",
          "mapbox": {
           "style": "light"
          },
          "paper_bgcolor": "white",
          "plot_bgcolor": "#E5ECF6",
          "polar": {
           "angularaxis": {
            "gridcolor": "white",
            "linecolor": "white",
            "ticks": ""
           },
           "bgcolor": "#E5ECF6",
           "radialaxis": {
            "gridcolor": "white",
            "linecolor": "white",
            "ticks": ""
           }
          },
          "scene": {
           "xaxis": {
            "backgroundcolor": "#E5ECF6",
            "gridcolor": "white",
            "gridwidth": 2,
            "linecolor": "white",
            "showbackground": true,
            "ticks": "",
            "zerolinecolor": "white"
           },
           "yaxis": {
            "backgroundcolor": "#E5ECF6",
            "gridcolor": "white",
            "gridwidth": 2,
            "linecolor": "white",
            "showbackground": true,
            "ticks": "",
            "zerolinecolor": "white"
           },
           "zaxis": {
            "backgroundcolor": "#E5ECF6",
            "gridcolor": "white",
            "gridwidth": 2,
            "linecolor": "white",
            "showbackground": true,
            "ticks": "",
            "zerolinecolor": "white"
           }
          },
          "shapedefaults": {
           "line": {
            "color": "#2a3f5f"
           }
          },
          "ternary": {
           "aaxis": {
            "gridcolor": "white",
            "linecolor": "white",
            "ticks": ""
           },
           "baxis": {
            "gridcolor": "white",
            "linecolor": "white",
            "ticks": ""
           },
           "bgcolor": "#E5ECF6",
           "caxis": {
            "gridcolor": "white",
            "linecolor": "white",
            "ticks": ""
           }
          },
          "title": {
           "x": 0.05
          },
          "xaxis": {
           "automargin": true,
           "gridcolor": "white",
           "linecolor": "white",
           "ticks": "",
           "title": {
            "standoff": 15
           },
           "zerolinecolor": "white",
           "zerolinewidth": 2
          },
          "yaxis": {
           "automargin": true,
           "gridcolor": "white",
           "linecolor": "white",
           "ticks": "",
           "title": {
            "standoff": 15
           },
           "zerolinecolor": "white",
           "zerolinewidth": 2
          }
         }
        },
        "title": {
         "text": "ENN"
        }
       }
      },
      "text/html": [
       "<div>                            <div id=\"c3ec725b-ada2-40a9-a457-8c1c0544d667\" class=\"plotly-graph-div\" style=\"height:525px; width:100%;\"></div>            <script type=\"text/javascript\">                require([\"plotly\"], function(Plotly) {                    window.PLOTLYENV=window.PLOTLYENV || {};                                    if (document.getElementById(\"c3ec725b-ada2-40a9-a457-8c1c0544d667\")) {                    Plotly.newPlot(                        \"c3ec725b-ada2-40a9-a457-8c1c0544d667\",                        [{\"marker\":{\"color\":\"#5876c8\",\"line\":{\"color\":\"black\",\"width\":2},\"size\":12},\"mode\":\"markers\",\"name\":\"Contigs\",\"opacity\":0.4,\"r\":[9,12,5,7,2,3,1,11,8,6,4,10],\"showlegend\":true,\"subplot\":\"polar\",\"theta\":[\"ABySS\",\"BCALM2\",\"GATBMiniaPipeline\",\"IDBA-UD\",\"MEGAHIT\",\"MetaHipMer2\",\"metaSPAdes\",\"MINIA\",\"SKESA\",\"SPAdes\",\"Unicycler\",\"VelvetOptimiser\"],\"type\":\"scatterpolar\"},{\"marker\":{\"color\":\"#5876c8\",\"line\":{\"color\":\"black\",\"width\":2},\"size\":12},\"mode\":\"markers\",\"name\":\"Contigs\",\"opacity\":0.4,\"r\":[9,11,6,7,4,5,1,12,8,3,2,10],\"showlegend\":false,\"subplot\":\"polar2\",\"theta\":[\"ABySS\",\"BCALM2\",\"GATBMiniaPipeline\",\"IDBA-UD\",\"MEGAHIT\",\"MetaHipMer2\",\"metaSPAdes\",\"MINIA\",\"SKESA\",\"SPAdes\",\"Unicycler\",\"VelvetOptimiser\"],\"type\":\"scatterpolar\"},{\"marker\":{\"color\":\"#009392\",\"line\":{\"color\":\"black\",\"width\":2},\"size\":12},\"mode\":\"markers\",\"name\":\"Basepairs\",\"opacity\":0.4,\"r\":[12,11,5,4,9,3,7,10,1,6,2,8],\"showlegend\":true,\"subplot\":\"polar\",\"theta\":[\"ABySS\",\"BCALM2\",\"GATBMiniaPipeline\",\"IDBA-UD\",\"MEGAHIT\",\"MetaHipMer2\",\"metaSPAdes\",\"MINIA\",\"SKESA\",\"SPAdes\",\"Unicycler\",\"VelvetOptimiser\"],\"type\":\"scatterpolar\"},{\"marker\":{\"color\":\"#009392\",\"line\":{\"color\":\"black\",\"width\":2},\"size\":12},\"mode\":\"markers\",\"name\":\"Basepairs\",\"opacity\":0.4,\"r\":[12,1,8,6,11,7,10,2,4,9,5,3],\"showlegend\":false,\"subplot\":\"polar2\",\"theta\":[\"ABySS\",\"BCALM2\",\"GATBMiniaPipeline\",\"IDBA-UD\",\"MEGAHIT\",\"MetaHipMer2\",\"metaSPAdes\",\"MINIA\",\"SKESA\",\"SPAdes\",\"Unicycler\",\"VelvetOptimiser\"],\"type\":\"scatterpolar\"},{\"marker\":{\"color\":\"#9CCB86\",\"line\":{\"color\":\"black\",\"width\":2},\"size\":12},\"mode\":\"markers\",\"name\":\"Largest contig\",\"opacity\":0.4,\"r\":[2,11,7,9,6,10,1,11,8,3,5,4],\"showlegend\":true,\"subplot\":\"polar\",\"theta\":[\"ABySS\",\"BCALM2\",\"GATBMiniaPipeline\",\"IDBA-UD\",\"MEGAHIT\",\"MetaHipMer2\",\"metaSPAdes\",\"MINIA\",\"SKESA\",\"SPAdes\",\"Unicycler\",\"VelvetOptimiser\"],\"type\":\"scatterpolar\"},{\"marker\":{\"color\":\"#EEB479\",\"line\":{\"color\":\"black\",\"width\":2},\"size\":12},\"mode\":\"markers\",\"name\":\"N50\",\"opacity\":0.4,\"r\":[7,12,6,8,4,5,1,11,9,2,3,10],\"showlegend\":true,\"subplot\":\"polar\",\"theta\":[\"ABySS\",\"BCALM2\",\"GATBMiniaPipeline\",\"IDBA-UD\",\"MEGAHIT\",\"MetaHipMer2\",\"metaSPAdes\",\"MINIA\",\"SKESA\",\"SPAdes\",\"Unicycler\",\"VelvetOptimiser\"],\"type\":\"scatterpolar\"},{\"marker\":{\"color\":\"#EEB479\",\"line\":{\"color\":\"black\",\"width\":2},\"size\":12},\"mode\":\"markers\",\"name\":\"N50\",\"opacity\":0.4,\"r\":[7,11,6,8,4,5,1,12,9,3,2,10],\"showlegend\":false,\"subplot\":\"polar2\",\"theta\":[\"ABySS\",\"BCALM2\",\"GATBMiniaPipeline\",\"IDBA-UD\",\"MEGAHIT\",\"MetaHipMer2\",\"metaSPAdes\",\"MINIA\",\"SKESA\",\"SPAdes\",\"Unicycler\",\"VelvetOptimiser\"],\"type\":\"scatterpolar\"},{\"marker\":{\"color\":\"#E88471\",\"line\":{\"color\":\"black\",\"width\":2},\"size\":12},\"mode\":\"markers\",\"name\":\"% Mapped reads\",\"opacity\":0.4,\"r\":[1,12,6,5,2,8,3,10,9,4,7,11],\"showlegend\":true,\"subplot\":\"polar\",\"theta\":[\"ABySS\",\"BCALM2\",\"GATBMiniaPipeline\",\"IDBA-UD\",\"MEGAHIT\",\"MetaHipMer2\",\"metaSPAdes\",\"MINIA\",\"SKESA\",\"SPAdes\",\"Unicycler\",\"VelvetOptimiser\"],\"type\":\"scatterpolar\"},{\"marker\":{\"color\":\"#E88471\",\"line\":{\"color\":\"black\",\"width\":2},\"size\":12},\"mode\":\"markers\",\"name\":\"% Mapped reads\",\"opacity\":0.4,\"r\":[2,12,5,8,1,6,3,11,9,4,7,10],\"showlegend\":false,\"subplot\":\"polar2\",\"theta\":[\"ABySS\",\"BCALM2\",\"GATBMiniaPipeline\",\"IDBA-UD\",\"MEGAHIT\",\"MetaHipMer2\",\"metaSPAdes\",\"MINIA\",\"SKESA\",\"SPAdes\",\"Unicycler\",\"VelvetOptimiser\"],\"type\":\"scatterpolar\"},{\"marker\":{\"color\":\"#CF597E\",\"line\":{\"color\":\"black\",\"width\":2},\"size\":12},\"mode\":\"markers\",\"name\":\"Uncalled bases\",\"opacity\":0.4,\"r\":[11,1,1,1,1,1,1,1,1,1,1,12],\"showlegend\":true,\"subplot\":\"polar\",\"theta\":[\"ABySS\",\"BCALM2\",\"GATBMiniaPipeline\",\"IDBA-UD\",\"MEGAHIT\",\"MetaHipMer2\",\"metaSPAdes\",\"MINIA\",\"SKESA\",\"SPAdes\",\"Unicycler\",\"VelvetOptimiser\"],\"type\":\"scatterpolar\"},{\"marker\":{\"color\":\"#CF597E\",\"line\":{\"color\":\"black\",\"width\":2},\"size\":12},\"mode\":\"markers\",\"name\":\"Uncalled bases\",\"opacity\":0.4,\"r\":[11,1,1,1,1,1,1,1,1,1,1,12],\"showlegend\":false,\"subplot\":\"polar2\",\"theta\":[\"ABySS\",\"BCALM2\",\"GATBMiniaPipeline\",\"IDBA-UD\",\"MEGAHIT\",\"MetaHipMer2\",\"metaSPAdes\",\"MINIA\",\"SKESA\",\"SPAdes\",\"Unicycler\",\"VelvetOptimiser\"],\"type\":\"scatterpolar\"},{\"marker\":{\"color\":\"#a54765\",\"line\":{\"color\":\"black\",\"width\":2},\"size\":12},\"mode\":\"markers\",\"name\":\"Misassembled contigs\",\"opacity\":0.4,\"r\":[8,1,6,12,10,1,5,1,11,6,1,9],\"showlegend\":true,\"subplot\":\"polar2\",\"theta\":[\"ABySS\",\"BCALM2\",\"GATBMiniaPipeline\",\"IDBA-UD\",\"MEGAHIT\",\"MetaHipMer2\",\"metaSPAdes\",\"MINIA\",\"SKESA\",\"SPAdes\",\"Unicycler\",\"VelvetOptimiser\"],\"type\":\"scatterpolar\"},{\"marker\":{\"color\":\"#835221\",\"line\":{\"color\":\"black\",\"width\":2},\"size\":12},\"mode\":\"markers\",\"name\":\"Misassembly events\",\"opacity\":0.4,\"r\":[9,1,5,12,10,1,5,1,11,5,1,8],\"showlegend\":true,\"subplot\":\"polar2\",\"theta\":[\"ABySS\",\"BCALM2\",\"GATBMiniaPipeline\",\"IDBA-UD\",\"MEGAHIT\",\"MetaHipMer2\",\"metaSPAdes\",\"MINIA\",\"SKESA\",\"SPAdes\",\"Unicycler\",\"VelvetOptimiser\"],\"type\":\"scatterpolar\"}],                        {\"annotations\":[{\"font\":{\"size\":16},\"showarrow\":false,\"text\":\"Original\",\"x\":0.225,\"xanchor\":\"center\",\"xref\":\"paper\",\"y\":1.0,\"yanchor\":\"bottom\",\"yref\":\"paper\"},{\"font\":{\"size\":16},\"showarrow\":false,\"text\":\"Filtered\",\"x\":0.775,\"xanchor\":\"center\",\"xref\":\"paper\",\"y\":1.0,\"yanchor\":\"bottom\",\"yref\":\"paper\"}],\"polar\":{\"angularaxis\":{\"categoryarray\":[\"ABySS\",\"BCALM2\",\"GATBMiniaPipeline\",\"IDBA-UD\",\"MEGAHIT\",\"MetaHipMer2\",\"metaSPAdes\",\"MINIA\",\"SKESA\",\"SPAdes\",\"Unicycler\",\"VelvetOptimiser\",\" \"],\"linecolor\":\"black\"},\"bgcolor\":\"rgb(255,255,255)\",\"domain\":{\"x\":[0.0,0.45],\"y\":[0.0,1.0]},\"hole\":0.08333333333333333,\"radialaxis\":{\"angle\":-22.5,\"autorange\":\"reversed\",\"gridcolor\":\"#DCDCDC\",\"linecolor\":\"black\",\"linewidth\":2,\"range\":[1,12],\"visible\":true}},\"polar2\":{\"angularaxis\":{\"categoryarray\":[\"ABySS\",\"BCALM2\",\"GATBMiniaPipeline\",\"IDBA-UD\",\"MEGAHIT\",\"MetaHipMer2\",\"metaSPAdes\",\"MINIA\",\"SKESA\",\"SPAdes\",\"Unicycler\",\"VelvetOptimiser\",\" \"],\"linecolor\":\"black\"},\"bgcolor\":\"rgb(255,255,255)\",\"domain\":{\"x\":[0.55,1.0],\"y\":[0.0,1.0]},\"hole\":0.08333333333333333,\"radialaxis\":{\"angle\":-22.5,\"autorange\":\"reversed\",\"gridcolor\":\"#DCDCDC\",\"linecolor\":\"black\",\"linewidth\":2,\"range\":[1,12],\"visible\":true}},\"template\":{\"data\":{\"bar\":[{\"error_x\":{\"color\":\"#2a3f5f\"},\"error_y\":{\"color\":\"#2a3f5f\"},\"marker\":{\"line\":{\"color\":\"#E5ECF6\",\"width\":0.5},\"pattern\":{\"fillmode\":\"overlay\",\"size\":10,\"solidity\":0.2}},\"type\":\"bar\"}],\"barpolar\":[{\"marker\":{\"line\":{\"color\":\"#E5ECF6\",\"width\":0.5},\"pattern\":{\"fillmode\":\"overlay\",\"size\":10,\"solidity\":0.2}},\"type\":\"barpolar\"}],\"carpet\":[{\"aaxis\":{\"endlinecolor\":\"#2a3f5f\",\"gridcolor\":\"white\",\"linecolor\":\"white\",\"minorgridcolor\":\"white\",\"startlinecolor\":\"#2a3f5f\"},\"baxis\":{\"endlinecolor\":\"#2a3f5f\",\"gridcolor\":\"white\",\"linecolor\":\"white\",\"minorgridcolor\":\"white\",\"startlinecolor\":\"#2a3f5f\"},\"type\":\"carpet\"}],\"choropleth\":[{\"colorbar\":{\"outlinewidth\":0,\"ticks\":\"\"},\"type\":\"choropleth\"}],\"contour\":[{\"colorbar\":{\"outlinewidth\":0,\"ticks\":\"\"},\"colorscale\":[[0.0,\"#0d0887\"],[0.1111111111111111,\"#46039f\"],[0.2222222222222222,\"#7201a8\"],[0.3333333333333333,\"#9c179e\"],[0.4444444444444444,\"#bd3786\"],[0.5555555555555556,\"#d8576b\"],[0.6666666666666666,\"#ed7953\"],[0.7777777777777778,\"#fb9f3a\"],[0.8888888888888888,\"#fdca26\"],[1.0,\"#f0f921\"]],\"type\":\"contour\"}],\"contourcarpet\":[{\"colorbar\":{\"outlinewidth\":0,\"ticks\":\"\"},\"type\":\"contourcarpet\"}],\"heatmap\":[{\"colorbar\":{\"outlinewidth\":0,\"ticks\":\"\"},\"colorscale\":[[0.0,\"#0d0887\"],[0.1111111111111111,\"#46039f\"],[0.2222222222222222,\"#7201a8\"],[0.3333333333333333,\"#9c179e\"],[0.4444444444444444,\"#bd3786\"],[0.5555555555555556,\"#d8576b\"],[0.6666666666666666,\"#ed7953\"],[0.7777777777777778,\"#fb9f3a\"],[0.8888888888888888,\"#fdca26\"],[1.0,\"#f0f921\"]],\"type\":\"heatmap\"}],\"heatmapgl\":[{\"colorbar\":{\"outlinewidth\":0,\"ticks\":\"\"},\"colorscale\":[[0.0,\"#0d0887\"],[0.1111111111111111,\"#46039f\"],[0.2222222222222222,\"#7201a8\"],[0.3333333333333333,\"#9c179e\"],[0.4444444444444444,\"#bd3786\"],[0.5555555555555556,\"#d8576b\"],[0.6666666666666666,\"#ed7953\"],[0.7777777777777778,\"#fb9f3a\"],[0.8888888888888888,\"#fdca26\"],[1.0,\"#f0f921\"]],\"type\":\"heatmapgl\"}],\"histogram\":[{\"marker\":{\"pattern\":{\"fillmode\":\"overlay\",\"size\":10,\"solidity\":0.2}},\"type\":\"histogram\"}],\"histogram2d\":[{\"colorbar\":{\"outlinewidth\":0,\"ticks\":\"\"},\"colorscale\":[[0.0,\"#0d0887\"],[0.1111111111111111,\"#46039f\"],[0.2222222222222222,\"#7201a8\"],[0.3333333333333333,\"#9c179e\"],[0.4444444444444444,\"#bd3786\"],[0.5555555555555556,\"#d8576b\"],[0.6666666666666666,\"#ed7953\"],[0.7777777777777778,\"#fb9f3a\"],[0.8888888888888888,\"#fdca26\"],[1.0,\"#f0f921\"]],\"type\":\"histogram2d\"}],\"histogram2dcontour\":[{\"colorbar\":{\"outlinewidth\":0,\"ticks\":\"\"},\"colorscale\":[[0.0,\"#0d0887\"],[0.1111111111111111,\"#46039f\"],[0.2222222222222222,\"#7201a8\"],[0.3333333333333333,\"#9c179e\"],[0.4444444444444444,\"#bd3786\"],[0.5555555555555556,\"#d8576b\"],[0.6666666666666666,\"#ed7953\"],[0.7777777777777778,\"#fb9f3a\"],[0.8888888888888888,\"#fdca26\"],[1.0,\"#f0f921\"]],\"type\":\"histogram2dcontour\"}],\"mesh3d\":[{\"colorbar\":{\"outlinewidth\":0,\"ticks\":\"\"},\"type\":\"mesh3d\"}],\"parcoords\":[{\"line\":{\"colorbar\":{\"outlinewidth\":0,\"ticks\":\"\"}},\"type\":\"parcoords\"}],\"pie\":[{\"automargin\":true,\"type\":\"pie\"}],\"scatter\":[{\"marker\":{\"colorbar\":{\"outlinewidth\":0,\"ticks\":\"\"}},\"type\":\"scatter\"}],\"scatter3d\":[{\"line\":{\"colorbar\":{\"outlinewidth\":0,\"ticks\":\"\"}},\"marker\":{\"colorbar\":{\"outlinewidth\":0,\"ticks\":\"\"}},\"type\":\"scatter3d\"}],\"scattercarpet\":[{\"marker\":{\"colorbar\":{\"outlinewidth\":0,\"ticks\":\"\"}},\"type\":\"scattercarpet\"}],\"scattergeo\":[{\"marker\":{\"colorbar\":{\"outlinewidth\":0,\"ticks\":\"\"}},\"type\":\"scattergeo\"}],\"scattergl\":[{\"marker\":{\"colorbar\":{\"outlinewidth\":0,\"ticks\":\"\"}},\"type\":\"scattergl\"}],\"scattermapbox\":[{\"marker\":{\"colorbar\":{\"outlinewidth\":0,\"ticks\":\"\"}},\"type\":\"scattermapbox\"}],\"scatterpolar\":[{\"marker\":{\"colorbar\":{\"outlinewidth\":0,\"ticks\":\"\"}},\"type\":\"scatterpolar\"}],\"scatterpolargl\":[{\"marker\":{\"colorbar\":{\"outlinewidth\":0,\"ticks\":\"\"}},\"type\":\"scatterpolargl\"}],\"scatterternary\":[{\"marker\":{\"colorbar\":{\"outlinewidth\":0,\"ticks\":\"\"}},\"type\":\"scatterternary\"}],\"surface\":[{\"colorbar\":{\"outlinewidth\":0,\"ticks\":\"\"},\"colorscale\":[[0.0,\"#0d0887\"],[0.1111111111111111,\"#46039f\"],[0.2222222222222222,\"#7201a8\"],[0.3333333333333333,\"#9c179e\"],[0.4444444444444444,\"#bd3786\"],[0.5555555555555556,\"#d8576b\"],[0.6666666666666666,\"#ed7953\"],[0.7777777777777778,\"#fb9f3a\"],[0.8888888888888888,\"#fdca26\"],[1.0,\"#f0f921\"]],\"type\":\"surface\"}],\"table\":[{\"cells\":{\"fill\":{\"color\":\"#EBF0F8\"},\"line\":{\"color\":\"white\"}},\"header\":{\"fill\":{\"color\":\"#C8D4E3\"},\"line\":{\"color\":\"white\"}},\"type\":\"table\"}]},\"layout\":{\"annotationdefaults\":{\"arrowcolor\":\"#2a3f5f\",\"arrowhead\":0,\"arrowwidth\":1},\"autotypenumbers\":\"strict\",\"coloraxis\":{\"colorbar\":{\"outlinewidth\":0,\"ticks\":\"\"}},\"colorscale\":{\"diverging\":[[0,\"#8e0152\"],[0.1,\"#c51b7d\"],[0.2,\"#de77ae\"],[0.3,\"#f1b6da\"],[0.4,\"#fde0ef\"],[0.5,\"#f7f7f7\"],[0.6,\"#e6f5d0\"],[0.7,\"#b8e186\"],[0.8,\"#7fbc41\"],[0.9,\"#4d9221\"],[1,\"#276419\"]],\"sequential\":[[0.0,\"#0d0887\"],[0.1111111111111111,\"#46039f\"],[0.2222222222222222,\"#7201a8\"],[0.3333333333333333,\"#9c179e\"],[0.4444444444444444,\"#bd3786\"],[0.5555555555555556,\"#d8576b\"],[0.6666666666666666,\"#ed7953\"],[0.7777777777777778,\"#fb9f3a\"],[0.8888888888888888,\"#fdca26\"],[1.0,\"#f0f921\"]],\"sequentialminus\":[[0.0,\"#0d0887\"],[0.1111111111111111,\"#46039f\"],[0.2222222222222222,\"#7201a8\"],[0.3333333333333333,\"#9c179e\"],[0.4444444444444444,\"#bd3786\"],[0.5555555555555556,\"#d8576b\"],[0.6666666666666666,\"#ed7953\"],[0.7777777777777778,\"#fb9f3a\"],[0.8888888888888888,\"#fdca26\"],[1.0,\"#f0f921\"]]},\"colorway\":[\"#636efa\",\"#EF553B\",\"#00cc96\",\"#ab63fa\",\"#FFA15A\",\"#19d3f3\",\"#FF6692\",\"#B6E880\",\"#FF97FF\",\"#FECB52\"],\"font\":{\"color\":\"#2a3f5f\"},\"geo\":{\"bgcolor\":\"white\",\"lakecolor\":\"white\",\"landcolor\":\"#E5ECF6\",\"showlakes\":true,\"showland\":true,\"subunitcolor\":\"white\"},\"hoverlabel\":{\"align\":\"left\"},\"hovermode\":\"closest\",\"mapbox\":{\"style\":\"light\"},\"paper_bgcolor\":\"white\",\"plot_bgcolor\":\"#E5ECF6\",\"polar\":{\"angularaxis\":{\"gridcolor\":\"white\",\"linecolor\":\"white\",\"ticks\":\"\"},\"bgcolor\":\"#E5ECF6\",\"radialaxis\":{\"gridcolor\":\"white\",\"linecolor\":\"white\",\"ticks\":\"\"}},\"scene\":{\"xaxis\":{\"backgroundcolor\":\"#E5ECF6\",\"gridcolor\":\"white\",\"gridwidth\":2,\"linecolor\":\"white\",\"showbackground\":true,\"ticks\":\"\",\"zerolinecolor\":\"white\"},\"yaxis\":{\"backgroundcolor\":\"#E5ECF6\",\"gridcolor\":\"white\",\"gridwidth\":2,\"linecolor\":\"white\",\"showbackground\":true,\"ticks\":\"\",\"zerolinecolor\":\"white\"},\"zaxis\":{\"backgroundcolor\":\"#E5ECF6\",\"gridcolor\":\"white\",\"gridwidth\":2,\"linecolor\":\"white\",\"showbackground\":true,\"ticks\":\"\",\"zerolinecolor\":\"white\"}},\"shapedefaults\":{\"line\":{\"color\":\"#2a3f5f\"}},\"ternary\":{\"aaxis\":{\"gridcolor\":\"white\",\"linecolor\":\"white\",\"ticks\":\"\"},\"baxis\":{\"gridcolor\":\"white\",\"linecolor\":\"white\",\"ticks\":\"\"},\"bgcolor\":\"#E5ECF6\",\"caxis\":{\"gridcolor\":\"white\",\"linecolor\":\"white\",\"ticks\":\"\"}},\"title\":{\"x\":0.05},\"xaxis\":{\"automargin\":true,\"gridcolor\":\"white\",\"linecolor\":\"white\",\"ticks\":\"\",\"title\":{\"standoff\":15},\"zerolinecolor\":\"white\",\"zerolinewidth\":2},\"yaxis\":{\"automargin\":true,\"gridcolor\":\"white\",\"linecolor\":\"white\",\"ticks\":\"\",\"title\":{\"standoff\":15},\"zerolinecolor\":\"white\",\"zerolinewidth\":2}}},\"title\":{\"text\":\"ENN\"}},                        {\"responsive\": true}                    ).then(function(){\n",
       "                            \n",
       "var gd = document.getElementById('c3ec725b-ada2-40a9-a457-8c1c0544d667');\n",
       "var x = new MutationObserver(function (mutations, observer) {{\n",
       "        var display = window.getComputedStyle(gd).display;\n",
       "        if (!display || display === 'none') {{\n",
       "            console.log([gd, 'removed!']);\n",
       "            Plotly.purge(gd);\n",
       "            observer.disconnect();\n",
       "        }}\n",
       "}});\n",
       "\n",
       "// Listen for the removal of the full notebook cells\n",
       "var notebookContainer = gd.closest('#notebook-container');\n",
       "if (notebookContainer) {{\n",
       "    x.observe(notebookContainer, {childList: true});\n",
       "}}\n",
       "\n",
       "// Listen for the clearing of the current output cell\n",
       "var outputEl = gd.closest('.output');\n",
       "if (outputEl) {{\n",
       "    x.observe(outputEl, {childList: true});\n",
       "}}\n",
       "\n",
       "                        })                };                });            </script>        </div>"
      ]
     },
     "metadata": {},
     "output_type": "display_data"
    }
   ],
   "source": [
    "import plotly.graph_objects as go\n",
    "\n",
    "for sample, df in rank_dfs:\n",
    "\n",
    "    categories = ['contigs','filtered_contigs','basepairs','filtered_basepairs', 'max_contig', 'n50','filtered_n50', 'mapped_reads','filtered_mapped_reads', 'Ns','filtered_Ns','misassembled contigs', 'misassembly events']\n",
    "    categories_original =  ['contigs','basepairs', 'max_contig', 'n50', 'mapped_reads', 'Ns'] \n",
    "    categories_original_renamed =  ['Contigs','Basepairs', 'Largest contig', 'N50', '% Mapped reads', 'Uncalled bases'] \n",
    "    categories_filtered = ['filtered_contigs', 'filtered_basepairs', 'filtered_n50', 'filtered_mapped_reads','filtered_Ns', 'misassembled contigs', 'misassembly events']\n",
    "    categories_filtered_renamed = ['Contigs', 'Basepairs', 'N50', '% Mapped reads','Uncalled bases', 'Misassembled contigs', 'Misassembly events']\n",
    "\n",
    "    fig = make_subplots(rows=1, cols=2, specs=[[{'type': 'polar'}]*2], subplot_titles=('Original', 'Filtered'))\n",
    "    \n",
    "    COLOURS_ORIGINAL = ['#5876c8', '#009392', '#9CCB86', '#EEB479', '#E88471', '#CF597E']\n",
    "    COLOURS_FILTERED = ['#5876c8', '#009392', '#EEB479', '#E88471', '#CF597E', '#a54765', '#835221']\n",
    "\n",
    "    i = 0\n",
    "    j = 0\n",
    "    assembler_list = list(df.index)\n",
    "    \n",
    "    for column in categories:\n",
    "                \n",
    "        row_all = list(df[column])\n",
    "        \n",
    "\n",
    "        if column in categories_original:\n",
    "            name = categories_original_renamed[categories_original.index(column)]\n",
    "            fig.add_trace(go.Scatterpolar(r=row_all,\n",
    "                                          theta=assembler_list,\n",
    "                                          name=name, \n",
    "                                          mode='markers', \n",
    "                                          marker=dict(color=COLOURS_ORIGINAL[i], size=12), \n",
    "                                          marker_line_color=\"black\", \n",
    "                                          marker_line_width=2,\n",
    "                                          opacity=0.4,showlegend=True),\n",
    "                          row=1, col=1) \n",
    "            i+=1\n",
    "            \n",
    "        elif column in categories_filtered:\n",
    "            name = categories_filtered_renamed[categories_filtered.index(column)]\n",
    "            showlegend = True if column in ['misassembled contigs', 'misassembly events'] else False\n",
    "            fig.add_trace(go.Scatterpolar(r=row_all,\n",
    "                                          theta=assembler_list,\n",
    "                                          name=name, \n",
    "                                          mode='markers', \n",
    "                                          marker=dict(color=COLOURS_FILTERED[j], size=12),\n",
    "                                          marker_line_color=\"black\", \n",
    "                                          marker_line_width=2, \n",
    "                                          opacity=0.4,showlegend=showlegend),\n",
    "                         row=1, col=2)\n",
    "            j+=1\n",
    "        \n",
    "    \n",
    "    fig.update_layout(polar=dict(radialaxis=dict(visible=True,\n",
    "                                                 range=[1, 12],\n",
    "                                                 autorange=\"reversed\",\n",
    "                                                 linewidth = 2,\n",
    "                                                 linecolor=\"black\",\n",
    "                                                 gridcolor = \"#DCDCDC\"), \n",
    "                                 hole=1/12, bgcolor='rgb(255,255,255)',\n",
    "                                angularaxis=dict(linecolor=\"black\"),\n",
    "                                angularaxis_categoryarray = assembler_list + [' '],\n",
    "                                radialaxis_angle = -22.5),\n",
    "                     polar2=dict(radialaxis=dict(visible=True,\n",
    "                                                 range=[1, 12],\n",
    "                                                 autorange=\"reversed\",\n",
    "                                                 linewidth = 2,\n",
    "                                                 linecolor=\"black\",\n",
    "                                                 gridcolor = \"#DCDCDC\"), \n",
    "                                 hole=1/12, bgcolor='rgb(255,255,255)',\n",
    "                                angularaxis=dict(linecolor=\"black\"),\n",
    "                                angularaxis_categoryarray = assembler_list + [' '],\n",
    "                                radialaxis_angle = -22.5))\n",
    "    fig.update_layout(title=sample)\n",
    "\n",
    "    fig.show()\n",
    "\n"
   ]
  },
  {
   "cell_type": "markdown",
   "metadata": {},
   "source": [
    "### Global statistics per assembler type"
   ]
  },
  {
   "cell_type": "code",
   "execution_count": null,
   "metadata": {
    "scrolled": true
   },
   "outputs": [],
   "source": [
    "stats_per_assembler_type = pd.DataFrame()\n",
    "for assembly_type in global_pipeline_metrics_df.type.unique():\n",
    "    row={'Assembler Type': assembly_type}\n",
    "    lala=global_pipeline_metrics_df[(global_pipeline_metrics_df.type == assembly_type) & (global_pipeline_metrics_df.algorythm == \"Multiple k-mer De Bruijn graph\")].describe()\n",
    "    for column in lala.columns:\n",
    "        mean = lala.loc['mean',column]\n",
    "        minimum = lala.loc['min',column]\n",
    "        maximum = lala.loc['max',column]\n",
    "        row[column] = \"{} [{};{}]\".format(round(mean, 2), int(minimum), int(maximum))\n",
    "    stats_per_assembler_type=stats_per_assembler_type.append(row, ignore_index=True)\n",
    "stats_per_assembler_type = stats_per_assembler_type.set_index('Assembler Type')\n",
    "stats_per_assembler_type.to_csv(\"Tables/Results/Global metrics per assembler type multiple kmer.csv\")"
   ]
  },
  {
   "cell_type": "code",
   "execution_count": null,
   "metadata": {
    "scrolled": true
   },
   "outputs": [],
   "source": [
    "stats_per_assembler_type"
   ]
  },
  {
   "cell_type": "markdown",
   "metadata": {},
   "source": [
    "### Global stats per assembly algorithm"
   ]
  },
  {
   "cell_type": "code",
   "execution_count": null,
   "metadata": {
    "scrolled": true
   },
   "outputs": [],
   "source": [
    "stats_per_assembler_algo = pd.DataFrame()\n",
    "for assembly_algo in global_pipeline_metrics_df.algorythm.unique():\n",
    "    row={'Assembler Algorithm': assembly_algo}\n",
    "    lala=global_pipeline_metrics_df[global_pipeline_metrics_df.algorythm == assembly_algo].describe()\n",
    "    for column in lala.columns:\n",
    "        mean = lala.loc['mean',column]\n",
    "        minimum = lala.loc['min',column]\n",
    "        maximum = lala.loc['max',column]\n",
    "        row[column] = \"{} [{};{}]\".format(round(mean, 2), int(minimum), int(maximum))\n",
    "    stats_per_assembler_algo=stats_per_assembler_algo.append(row, ignore_index=True)\n",
    "stats_per_assembler_algo = stats_per_assembler_algo.set_index('Assembler Algorithm')\n",
    "stats_per_assembler_algo.to_csv(\"Tables/Results/Global metrics per assembler algorithm.csv\")"
   ]
  },
  {
   "cell_type": "code",
   "execution_count": null,
   "metadata": {
    "scrolled": true
   },
   "outputs": [],
   "source": [
    "stats_per_assembler_algo"
   ]
  },
  {
   "cell_type": "markdown",
   "metadata": {},
   "source": [
    "### Global stats per distribution"
   ]
  },
  {
   "cell_type": "code",
   "execution_count": null,
   "metadata": {
    "scrolled": true
   },
   "outputs": [],
   "source": [
    "for distribution in global_pipeline_metrics_df.distribution.unique():\n",
    "    stats_per_distribution = pd.DataFrame()\n",
    "    for assembler in global_pipeline_metrics_df.assembler.unique():\n",
    "        row={'Assembler': assembler, \n",
    "             'Type':global_pipeline_metrics_df[(global_pipeline_metrics_df.assembler == assembler) & (global_pipeline_metrics_df.distribution == distribution)].type.unique()[0],\n",
    "             'Algorithm': global_pipeline_metrics_df[global_pipeline_metrics_df.assembler == assembler].algorythm.unique()[0]}\n",
    "        lala=global_pipeline_metrics_df[(global_pipeline_metrics_df.assembler == assembler) & (global_pipeline_metrics_df.distribution == distribution)].describe()\n",
    "        for column in lala.columns:\n",
    "            mean = lala.loc['mean',column]\n",
    "            minimum = lala.loc['min',column]\n",
    "            maximum = lala.loc['max',column]\n",
    "            row[column] = \"{} [{};{}]\".format(round(mean, 2),int(minimum), int(maximum))\n",
    "        stats_per_distribution=stats_per_distribution.append(row, ignore_index=True)\n",
    "    stats_per_distribution = stats_per_distribution.set_index('Assembler')\n",
    "    stats_per_distribution.to_csv(\"Tables/Results/{} - Global metrics per assembler.csv\".format(distribution))\n",
    "    print(distribution)\n",
    "    display(stats_per_distribution)"
   ]
  },
  {
   "cell_type": "markdown",
   "metadata": {},
   "source": [
    "## Reference-based metrics"
   ]
  },
  {
   "cell_type": "markdown",
   "metadata": {},
   "source": [
    "### Load data"
   ]
  },
  {
   "cell_type": "code",
   "execution_count": null,
   "metadata": {
    "scrolled": true
   },
   "outputs": [],
   "source": [
    "report_glob = glob.glob('../Results/*/*/report/pipeline_report_tables.json')\n",
    "reference_pipeline_metrics_df = pd.DataFrame()\n",
    "\n",
    "for pipeline_report_file in report_glob:\n",
    "    report_file_name = pipeline_report_file.split('/')[-1]\n",
    "    stats_run = pipeline_report_file.split('/')[-3]\n",
    "    print('Processing {0} data from {1}...'.format(report_file_name, stats_run))\n",
    "    \n",
    "    with open(pipeline_report_file) as _fh:\n",
    "        json_report = json.load(_fh)\n",
    "        for sample in json_report.keys():\n",
    "            for reference, data in json_report[sample]['ReferenceTables'].items():\n",
    "                for row in data:\n",
    "                    for item in row:\n",
    "                        reference_pipeline_metrics_df = reference_pipeline_metrics_df.append({'run': stats_run,\n",
    "                                                                                        'sample': sample,\n",
    "                                                                                        'assembler': item['assembler'],\n",
    "                                                                                        'reference': reference,\n",
    "                                                                                        'LSA': item['contiguity'],\n",
    "                                                                                        'breadth_of_coverage': item['breadth_of_coverage'],\n",
    "                                                                                        'multiplicity': item['multiplicity'],\n",
    "                                                                                        'validity': item['validity'],\n",
    "                                                                                        'parsimony': item['parsimony'],\n",
    "                                                                                        'identity': item['identity'],\n",
    "                                                                                        'lowest_identity': item['lowest_identity'],\n",
    "                                                                                        'L90': item['L90'],\n",
    "                                                                                        'contigs': item['aligned_contigs'],\n",
    "                                                                                        'NA50': item['NA50'],\n",
    "                                                                                        'NG50': item['NG50'],\n",
    "                                                                                        'basepairs': item['aligned_basepairs'],\n",
    "                                                                                        'Ns': item['Ns'],\n",
    "                                                                                        'misassembled contigs': item['misassembled_contigs'],\n",
    "                                                                                        'misassembly events': item['misassembly_events']},\n",
    "                                                                                       ignore_index=True)\n",
    "\n",
    "reference_pipeline_metrics_df['distribution'] = np.where(reference_pipeline_metrics_df['sample'].isin(log_distributed), 'Log', 'Even')\n",
    "reference_pipeline_metrics_df['type'] = np.where(reference_pipeline_metrics_df['assembler'].isin(genomic_assemblers), 'Genomic', 'Metagenomic')\n",
    "reference_pipeline_metrics_df['algorythm'] = np.where(reference_pipeline_metrics_df['assembler'].isin(single_kmer), 'Single k-mer De Bruijn graph', 'Multiple k-mer De Bruijn graph')\n",
    "reference_pipeline_metrics_df[['contigs','basepairs','L90','Ns','NA50','NG50','misassembled contigs', 'misassembly events', 'multiplicity','validity','parsimony','identity','lowest_identity']] = reference_pipeline_metrics_df[['contigs','basepairs','L90','Ns','NA50','NG50','misassembled contigs', 'misassembly events','multiplicity','validity','parsimony','identity','lowest_identity']].apply(pd.to_numeric)\n",
    "display(reference_pipeline_metrics_df)"
   ]
  },
  {
   "cell_type": "code",
   "execution_count": null,
   "metadata": {
    "scrolled": true
   },
   "outputs": [],
   "source": [
    "reference_pipeline_metrics_df.dtypes"
   ]
  },
  {
   "cell_type": "markdown",
   "metadata": {},
   "source": [
    "### Save data"
   ]
  },
  {
   "cell_type": "code",
   "execution_count": null,
   "metadata": {
    "scrolled": true
   },
   "outputs": [],
   "source": [
    "reference_pipeline_metrics_df.to_csv(\"Tables/Results/Reference metrics.csv\")"
   ]
  },
  {
   "cell_type": "markdown",
   "metadata": {},
   "source": [
    "### Reference statistics per assembler type"
   ]
  },
  {
   "cell_type": "code",
   "execution_count": null,
   "metadata": {
    "scrolled": true
   },
   "outputs": [],
   "source": [
    "ref_stats_per_assembler_type = pd.DataFrame()\n",
    "for assembly_type in reference_pipeline_metrics_df.type.unique():\n",
    "    row={'Assembler Type': assembly_type}\n",
    "    lala=reference_pipeline_metrics_df[reference_pipeline_metrics_df.type == assembly_type].describe()\n",
    "    for column in lala.columns:\n",
    "        mean = lala.loc['mean',column]\n",
    "        minimum = lala.loc['min',column]\n",
    "        maximum = lala.loc['max',column]\n",
    "        row[column] = \"{} [{};{}]\".format(round(mean, 2),int(minimum), int(maximum))\n",
    "    ref_stats_per_assembler_type=ref_stats_per_assembler_type.append(row, ignore_index=True)\n",
    "ref_stats_per_assembler_type = ref_stats_per_assembler_type.set_index('Assembler Type')\n",
    "ref_stats_per_assembler_type.to_csv(\"Tables/Results/Reference metrics per assembler type.csv\")"
   ]
  },
  {
   "cell_type": "code",
   "execution_count": null,
   "metadata": {
    "scrolled": true
   },
   "outputs": [],
   "source": [
    "ref_stats_per_assembler_type"
   ]
  },
  {
   "cell_type": "markdown",
   "metadata": {},
   "source": [
    "### Reference stats per assembly algorithm"
   ]
  },
  {
   "cell_type": "code",
   "execution_count": null,
   "metadata": {
    "scrolled": true
   },
   "outputs": [],
   "source": [
    "ref_stats_per_assembler_algo = pd.DataFrame()\n",
    "for assembly_algo in reference_pipeline_metrics_df.algorythm.unique():\n",
    "    row={'Assembler Algorithm': assembly_algo}\n",
    "    lala=reference_pipeline_metrics_df[reference_pipeline_metrics_df.algorythm == assembly_algo].describe()\n",
    "    for column in lala.columns:\n",
    "        mean = lala.loc['mean',column]\n",
    "        minimum = lala.loc['min',column]\n",
    "        maximum = lala.loc['max',column]\n",
    "        row[column] = \"{} [{};{}]\".format(round(mean, 2),int(minimum), int(maximum))\n",
    "    ref_stats_per_assembler_algo=ref_stats_per_assembler_algo.append(row, ignore_index=True)\n",
    "ref_stats_per_assembler_algo = ref_stats_per_assembler_algo.set_index('Assembler Algorithm')\n",
    "ref_stats_per_assembler_algo.to_csv(\"Tables/Results/Reference metrics per assembler algorithm.csv\")"
   ]
  },
  {
   "cell_type": "code",
   "execution_count": null,
   "metadata": {
    "scrolled": true
   },
   "outputs": [],
   "source": [
    "ref_stats_per_assembler_algo"
   ]
  },
  {
   "cell_type": "markdown",
   "metadata": {},
   "source": [
    "### Reference stats per assembler"
   ]
  },
  {
   "cell_type": "code",
   "execution_count": null,
   "metadata": {
    "scrolled": true
   },
   "outputs": [],
   "source": [
    "ref_stats_per_assembler = pd.DataFrame()\n",
    "for assembler in reference_pipeline_metrics_df.assembler.unique():\n",
    "    row={'Assembler': assembler, \n",
    "         'Type':reference_pipeline_metrics_df[reference_pipeline_metrics_df.assembler == assembler].type.unique()[0],\n",
    "         'Algorithm': reference_pipeline_metrics_df[reference_pipeline_metrics_df.assembler == assembler].algorythm.unique()[0]}\n",
    "    lala=reference_pipeline_metrics_df[reference_pipeline_metrics_df.assembler == assembler].describe()\n",
    "    for column in lala.columns:\n",
    "        mean = lala.loc['mean',column]\n",
    "        minimum = lala.loc['min',column]\n",
    "        maximum = lala.loc['max',column]\n",
    "        row[column] = \"{} [{};{}]\".format(round(mean, 2),int(minimum), int(maximum))\n",
    "    ref_stats_per_assembler=ref_stats_per_assembler.append(row, ignore_index=True)\n",
    "ref_stats_per_assembler = ref_stats_per_assembler.set_index('Assembler')\n",
    "ref_stats_per_assembler.to_csv(\"Tables/Results/Reference metrics per assembler.csv\")"
   ]
  },
  {
   "cell_type": "code",
   "execution_count": null,
   "metadata": {
    "scrolled": true
   },
   "outputs": [],
   "source": [
    "ref_stats_per_assembler"
   ]
  },
  {
   "cell_type": "markdown",
   "metadata": {},
   "source": [
    "### Reference stats per reference replicon"
   ]
  },
  {
   "cell_type": "markdown",
   "metadata": {},
   "source": [
    "#### Per assembler for each reference replicon"
   ]
  },
  {
   "cell_type": "code",
   "execution_count": null,
   "metadata": {
    "scrolled": true
   },
   "outputs": [],
   "source": [
    "reference_pipeline_metrics_df.reference.unique()"
   ]
  },
  {
   "cell_type": "code",
   "execution_count": null,
   "metadata": {
    "scrolled": true
   },
   "outputs": [],
   "source": [
    "for reference in reference_pipeline_metrics_df.reference.unique():\n",
    "    ref_stats_per_reference_per_assembler = pd.DataFrame()\n",
    "    for assembler in reference_pipeline_metrics_df.assembler.unique():\n",
    "        row={'Assembler': assembler, \n",
    "             'Type':reference_pipeline_metrics_df[reference_pipeline_metrics_df.assembler == assembler].type.unique()[0],\n",
    "             'Algorithm': reference_pipeline_metrics_df[reference_pipeline_metrics_df.assembler == assembler].algorythm.unique()[0]}\n",
    "        lala=reference_pipeline_metrics_df[(reference_pipeline_metrics_df.assembler == assembler) & (reference_pipeline_metrics_df.reference == reference)].describe()\n",
    "        for column in lala.columns:\n",
    "            mean = lala.loc['mean',column]\n",
    "            minimum = lala.loc['min',column]\n",
    "            maximum = lala.loc['max',column]\n",
    "            row[column] = \"{} [{};{}]\".format(round(mean, 2),int(minimum), int(maximum))\n",
    "        ref_stats_per_reference_per_assembler=ref_stats_per_reference_per_assembler.append(row, ignore_index=True)\n",
    "    ref_stats_per_reference_per_assembler = ref_stats_per_reference_per_assembler.set_index('Assembler')\n",
    "    ref_stats_per_reference_per_assembler.to_csv(\"Tables/Results/{} - Reference metrics per assembler.csv\".format(reference))\n",
    "    print(reference)\n",
    "    display(ref_stats_per_reference_per_assembler)"
   ]
  },
  {
   "cell_type": "markdown",
   "metadata": {},
   "source": [
    "#### Per reference replicon for all assemblers - Even only!"
   ]
  },
  {
   "cell_type": "code",
   "execution_count": null,
   "metadata": {
    "scrolled": true
   },
   "outputs": [],
   "source": [
    "ref_stats_per_reference_all_assemblers = pd.DataFrame()\n",
    "for reference in reference_pipeline_metrics_df.reference.unique():\n",
    "    row={'Reference': reference}\n",
    "    lala=reference_pipeline_metrics_df[(reference_pipeline_metrics_df.reference == reference) & (reference_pipeline_metrics_df.distribution == 'Even')].describe()\n",
    "    for column in lala.columns:\n",
    "        mean = lala.loc['mean',column]\n",
    "        minimum = lala.loc['min',column]\n",
    "        maximum = lala.loc['max',column]\n",
    "        row[column] = \"{} [{};{}]\".format(round(mean, 2),int(minimum), int(maximum))\n",
    "    ref_stats_per_reference_all_assemblers=ref_stats_per_reference_all_assemblers.append(row, ignore_index=True)\n",
    "ref_stats_per_reference_all_assemblers = ref_stats_per_reference_all_assemblers.set_index('Reference')\n",
    "ref_stats_per_reference_all_assemblers.to_csv(\"Tables/Results/Reference metrics per replicon.csv\")\n",
    "display(ref_stats_per_reference_all_assemblers)"
   ]
  },
  {
   "cell_type": "markdown",
   "metadata": {},
   "source": [
    "### Reference stats per distribution"
   ]
  },
  {
   "cell_type": "code",
   "execution_count": null,
   "metadata": {
    "scrolled": true
   },
   "outputs": [],
   "source": [
    "for distribution in reference_pipeline_metrics_df.distribution.unique():\n",
    "    ref_stats_per_reference_per_assembler = pd.DataFrame()\n",
    "    for assembler in reference_pipeline_metrics_df.assembler.unique():\n",
    "        row={'Assembler': assembler, \n",
    "             'Type':reference_pipeline_metrics_df[reference_pipeline_metrics_df.assembler == assembler].type.unique()[0],\n",
    "             'Algorithm': reference_pipeline_metrics_df[reference_pipeline_metrics_df.assembler == assembler].algorythm.unique()[0]}\n",
    "        lala=reference_pipeline_metrics_df[(reference_pipeline_metrics_df.assembler == assembler) & (reference_pipeline_metrics_df.distribution == distribution)].describe()\n",
    "        for column in lala.columns:\n",
    "            mean = lala.loc['mean',column]\n",
    "            minimum = lala.loc['min',column]\n",
    "            maximum = lala.loc['max',column]\n",
    "            row[column] = \"{} [{};{}]\".format(round(mean, 2),int(minimum), int(maximum))\n",
    "        ref_stats_per_reference_per_assembler=ref_stats_per_reference_per_assembler.append(row, ignore_index=True)\n",
    "    ref_stats_per_reference_per_assembler = ref_stats_per_reference_per_assembler.set_index('Assembler')\n",
    "    ref_stats_per_reference_per_assembler.to_csv(\"Tables/Results/{} - Reference metrics per assembler.csv\".format(distribution))\n",
    "    print(distribution)\n",
    "    display(ref_stats_per_reference_per_assembler)"
   ]
  },
  {
   "cell_type": "markdown",
   "metadata": {},
   "source": [
    "### Genomes vs Plasmids"
   ]
  },
  {
   "cell_type": "code",
   "execution_count": null,
   "metadata": {
    "scrolled": true
   },
   "outputs": [],
   "source": [
    "ref_stats_per_replicon_type = pd.DataFrame()\n",
    "# Genome\n",
    "row={'Replicon': \"Genome\"}\n",
    "lala=reference_pipeline_metrics_df[~reference_pipeline_metrics_df['reference'].str.contains(\"plasmid\")].describe()\n",
    "for column in lala.columns:\n",
    "    mean = lala.loc['mean',column]\n",
    "    std = lala.loc['std',column]\n",
    "    row[column] = \"{}(± {})\".format(round(mean, 2), round(std, 2))\n",
    "ref_stats_per_replicon_type =ref_stats_per_replicon_type .append(row, ignore_index=True)\n",
    "\n",
    "# Plasmid\n",
    "row={'Replicon': \"Plasmid\"}\n",
    "lala=reference_pipeline_metrics_df[reference_pipeline_metrics_df['reference'].str.contains(\"plasmid\")].describe()\n",
    "for column in lala.columns:\n",
    "    mean = lala.loc['mean',column]\n",
    "    minimum = lala.loc['min',column]\n",
    "    maximum = lala.loc['max',column]\n",
    "    row[column] = \"{} [{};{}]\".format(round(mean, 2),int(minimum), int(maximum))\n",
    "    \n",
    "ref_stats_per_replicon_type =ref_stats_per_replicon_type .append(row, ignore_index=True)\n",
    "ref_stats_per_replicon_type  = ref_stats_per_replicon_type .set_index('Replicon')\n",
    "ref_stats_per_replicon_type.to_csv(\"Tables/Results/Reference metrics per replicon type.csv\")\n",
    "display(ref_stats_per_replicon_type)"
   ]
  }
 ],
 "metadata": {
  "kernelspec": {
   "display_name": "Python 3 (ipykernel)",
   "language": "python",
   "name": "python3"
  },
  "language_info": {
   "codemirror_mode": {
    "name": "ipython",
    "version": 3
   },
   "file_extension": ".py",
   "mimetype": "text/x-python",
   "name": "python",
   "nbconvert_exporter": "python",
   "pygments_lexer": "ipython3",
   "version": "3.8.12"
  }
 },
 "nbformat": 4,
 "nbformat_minor": 4
}
