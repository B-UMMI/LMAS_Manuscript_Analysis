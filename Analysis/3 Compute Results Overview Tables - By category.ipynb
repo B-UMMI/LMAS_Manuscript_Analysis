{
 "cells": [
  {
   "cell_type": "markdown",
   "id": "5c9ff9d2",
   "metadata": {},
   "source": [
    "### 3 Compute Results Overview Tables - By category"
   ]
  },
  {
   "cell_type": "markdown",
   "id": "6dcfa956",
   "metadata": {},
   "source": [
    "The success of an assembly is evaluated by the computation of metrics in two defined ways: globally through statistics inherent to the complete set of sequences that were assembled, and relative to the replicons present in the sample. \n",
    "\n",
    "The following metrics are computed for the complete and filtered set of assembled sequences, restricted to contigs of length above a specified minimum size: \n",
    "\n",
    "- **Contig sizes**\n",
    "    - **Contigs:** The total number of contigs in the assembly;\n",
    "    - **Basepairs:** The total number of bases in the assembly;\n",
    "    - **Maximum sequence length:** The length of the largest contig in the assembly.\n",
    "    - **Number of ‘N’s:** Number of uncalled bases (N's) \n",
    "- **Contiguity**\n",
    "    - **Nx (where 0  < x  ⩽ 100):** Length for which the collection of all assembled sequences of that length or longer in an assembly covers at least a given percentage of the total length of the assembly\n",
    "- **Misassembly**\n",
    "    - **Misassemblies** - Number of aligned contigs that contain a misassembly event\n"
   ]
  },
  {
   "cell_type": "markdown",
   "id": "620eb6f2",
   "metadata": {},
   "source": [
    "## Imports"
   ]
  },
  {
   "cell_type": "code",
   "execution_count": 20,
   "id": "1fc3dfb7",
   "metadata": {
    "scrolled": false
   },
   "outputs": [],
   "source": [
    "import sys\n",
    "from plotly.offline import plot\n",
    "import glob\n",
    "import fnmatch\n",
    "import plotly.graph_objects as go\n",
    "from plotly.subplots import make_subplots\n",
    "import json\n",
    "import pandas as pd\n",
    "from itertools import groupby\n",
    "import csv\n",
    "import numpy as np"
   ]
  },
  {
   "cell_type": "markdown",
   "id": "ed3f4477",
   "metadata": {},
   "source": [
    "## Global variables"
   ]
  },
  {
   "cell_type": "code",
   "execution_count": 21,
   "id": "366b47af",
   "metadata": {
    "scrolled": false
   },
   "outputs": [],
   "source": [
    "ASSEMBLER_PROCESS_LIST = [\"ABYSS\", \"BCALM2\", \"GATBMINIAPIPELINE\", \"METAHIPMER2\", \"MINIA\", \"MEGAHIT\", \"METASPADES\", \"UNICYCLER\", \"SPADES\",\n",
    "                          \"SKESA\", \"VELVETOPTIMISER\", \"IDBA\"]\n",
    "\n",
    "PROCESS_TO_NAME = {\"ABYSS\": \"AbYSS\",\n",
    "                   \"BCALM2\": \"BCALM2\", \n",
    "                   \"GATBMINIAPIPELINE\": \"GATBMiniaPipeline\",\n",
    "                   \"METAHIPMER2\": \"MetaHipMer2\",\n",
    "                   \"MINIA\": \"MINIA\",\n",
    "                   \"MEGAHIT\": \"MEGAHIT\", \n",
    "                   \"METASPADES\": \"metaSPAdes\", \n",
    "                   \"UNICYCLER\": \"Unicycler\", \n",
    "                   \"SPADES\": \"SPAdes\",\n",
    "                    \"SKESA\": \"SKESA\",\n",
    "                   \"VELVETOPTIMISER\": \"VelvetOptimiser\",\n",
    "                   \"IDBA\": \"IDBA-UD\"}\n",
    "\n",
    "log_distributed = ['LHS', 'LNN', 'ERR2935805']\n",
    "even_distribution = ['EMS', 'LNN', 'ERR2984773']\n",
    "\n",
    "skipped_assemblers = ['ABySS', 'BCALM2', 'MINIA', 'VelvetOptimiser', 'MetaHipMer2']\n",
    "\n",
    "genomic_assemblers = ['ABySS', 'BCALM2', 'MINIA', 'SKESA', 'SPAdes', 'Unicycler', 'VelvetOptimiser']\n",
    "metagenomic_assemblers = ['MetaHipMer2','GATBMiniaPipeline', 'IDBA-UD', 'MEGAHIT', 'metaSPAdes']\n",
    "single_kmer = ['BCALM2', 'MINIA', 'ABySS']\n",
    "multiple_kmer = ['SKESA', 'SPAdes', 'Unicycler', 'VelvetOptimizer', 'GATBMiniaPipeline', \n",
    "                 'IDBA-UD', 'MEGAHIT', 'metaSPAdes', 'MetaHipMer2']\n",
    "\n",
    "best_min = ['Ns', 'contigs', 'filtered_Ns', 'filtered_contigs','misassembled contigs','misassembly events']\n",
    "best_max = ['basepairs','filtered_basepairs','filtered_mapped_reads','filtered_n50','mapped_reads','max_contig','n50']\n",
    "\n",
    "COLOURS = ['#5876c8', '#58AEC8', '#009392', '#39B185', '#9CCB86', '#E9E29C', '#EEB479', '#E88471', '#CF597E', '#a54765', '#a42a2a', '#835221', 'darkgray']"
   ]
  },
  {
   "cell_type": "markdown",
   "id": "7f3d4068",
   "metadata": {},
   "source": [
    "## Global metrics"
   ]
  },
  {
   "cell_type": "markdown",
   "id": "aaed3b6e",
   "metadata": {},
   "source": [
    "### Load Data"
   ]
  },
  {
   "cell_type": "code",
   "execution_count": 22,
   "id": "0b25eeb9",
   "metadata": {
    "scrolled": false
   },
   "outputs": [
    {
     "name": "stdout",
     "output_type": "stream",
     "text": [
      "Processing pipeline_report_tables.json data from run3...\n",
      "Processing pipeline_report_tables.json data from run2...\n",
      "Processing pipeline_report_tables.json data from run1...\n",
      "Processing pipeline_report_tables.json data from run3...\n",
      "Processing pipeline_report_tables.json data from run2...\n"
     ]
    }
   ],
   "source": [
    "report_glob = glob.glob('../Results/*/*/report/pipeline_report_tables.json')\n",
    "global_pipeline_metrics_df = pd.DataFrame()\n",
    "\n",
    "for pipeline_report_file in report_glob:\n",
    "    report_file_name = pipeline_report_file.split('/')[-1]\n",
    "    stats_run = pipeline_report_file.split('/')[-3]\n",
    "    print('Processing {0} data from {1}...'.format(report_file_name, stats_run))\n",
    "    \n",
    "    with open(pipeline_report_file) as _fh:\n",
    "        json_report = json.load(_fh)\n",
    "        for sample in json_report.keys():\n",
    "            for line in json_report[sample]['GlobalTable']:\n",
    "                assembler = line['assembler']\n",
    "                if assembler not in skipped_assemblers:\n",
    "                    global_pipeline_metrics_df = global_pipeline_metrics_df.append({'run': stats_run,\n",
    "                                                                                    'sample': sample,\n",
    "                                                                                    'assembler': line['assembler'],\n",
    "                                                                                    'contigs': int(line['original']['contigs']),\n",
    "                                                                                    'basepairs': int(line['original']['basepairs']),\n",
    "                                                                                    'max_contig': int(line['original']['max_contig_size']),\n",
    "                                                                                    'n50': int(line['original']['N50']),\n",
    "                                                                                    'mapped_reads': line['original']['mapped_reads'],\n",
    "                                                                                    'Ns': int(line['original']['Ns']),\n",
    "                                                                                    'misassembled contigs': line['filtered']['misassembled_contigs'],\n",
    "                                                                                    'misassembly events': line['filtered']['misassembly_events'],\n",
    "                                                                                    'filtered_contigs': line['filtered']['contigs'],\n",
    "                                                                                    'filtered_basepairs': line['filtered']['basepairs'],\n",
    "                                                                                    'filtered_n50': line['filtered']['N50'],\n",
    "                                                                                    'filtered_Ns': line['filtered']['Ns'],\n",
    "                                                                                    'filtered_mapped_reads': line['filtered']['mapped_reads'],\n",
    "                                                                                   },\n",
    "                                                                                   ignore_index=True)\n",
    "global_pipeline_metrics_df['distribution'] = np.where(global_pipeline_metrics_df['sample'].isin(log_distributed), 'Log', 'Even')\n",
    "global_pipeline_metrics_df['type'] = np.where(global_pipeline_metrics_df['assembler'].isin(genomic_assemblers), 'Genomic', 'Metagenomic')\n",
    "global_pipeline_metrics_df['algorythm'] = np.where(global_pipeline_metrics_df['assembler'].isin(single_kmer), 'Single k-mer De Bruijn graph', 'Multiple k-mer De Bruijn graph')\n",
    "global_pipeline_metrics_df[['contigs','basepairs','max_contig', 'Ns','n50', 'filtered_n50','misassembled contigs', 'misassembly events']] = global_pipeline_metrics_df[['contigs','basepairs','max_contig', 'Ns','n50','filtered_n50','misassembled contigs', 'misassembly events']].apply(pd.to_numeric)"
   ]
  },
  {
   "cell_type": "markdown",
   "id": "a94d9002",
   "metadata": {},
   "source": [
    "### Global statistics per assembler type"
   ]
  },
  {
   "cell_type": "code",
   "execution_count": 23,
   "id": "90ffda42",
   "metadata": {
    "scrolled": false
   },
   "outputs": [
    {
     "name": "stdout",
     "output_type": "stream",
     "text": [
      "['GATBMiniaPipeline' 'IDBA-UD' 'MEGAHIT' 'metaSPAdes']\n",
      "['SKESA' 'SPAdes' 'Unicycler']\n"
     ]
    }
   ],
   "source": [
    "print(global_pipeline_metrics_df['assembler'][global_pipeline_metrics_df['type'] == \"Metagenomic\"].unique())\n",
    "print(global_pipeline_metrics_df['assembler'][global_pipeline_metrics_df['type'] == \"Genomic\"].unique())"
   ]
  },
  {
   "cell_type": "markdown",
   "id": "97f0f99c",
   "metadata": {},
   "source": [
    "#### Descriptive statistics"
   ]
  },
  {
   "cell_type": "code",
   "execution_count": 24,
   "id": "33666759",
   "metadata": {
    "scrolled": false
   },
   "outputs": [
    {
     "name": "stdout",
     "output_type": "stream",
     "text": [
      "LNN\n"
     ]
    },
    {
     "data": {
      "text/html": [
       "<div>\n",
       "<style scoped>\n",
       "    .dataframe tbody tr th:only-of-type {\n",
       "        vertical-align: middle;\n",
       "    }\n",
       "\n",
       "    .dataframe tbody tr th {\n",
       "        vertical-align: top;\n",
       "    }\n",
       "\n",
       "    .dataframe thead th {\n",
       "        text-align: right;\n",
       "    }\n",
       "</style>\n",
       "<table border=\"1\" class=\"dataframe\">\n",
       "  <thead>\n",
       "    <tr style=\"text-align: right;\">\n",
       "      <th></th>\n",
       "      <th>Ns</th>\n",
       "      <th>basepairs</th>\n",
       "      <th>contigs</th>\n",
       "      <th>filtered_Ns</th>\n",
       "      <th>filtered_basepairs</th>\n",
       "      <th>filtered_contigs</th>\n",
       "      <th>filtered_mapped_reads</th>\n",
       "      <th>filtered_n50</th>\n",
       "      <th>mapped_reads</th>\n",
       "      <th>max_contig</th>\n",
       "      <th>misassembled contigs</th>\n",
       "      <th>misassembly events</th>\n",
       "      <th>n50</th>\n",
       "    </tr>\n",
       "    <tr>\n",
       "      <th>Assembler Type</th>\n",
       "      <th></th>\n",
       "      <th></th>\n",
       "      <th></th>\n",
       "      <th></th>\n",
       "      <th></th>\n",
       "      <th></th>\n",
       "      <th></th>\n",
       "      <th></th>\n",
       "      <th></th>\n",
       "      <th></th>\n",
       "      <th></th>\n",
       "      <th></th>\n",
       "      <th></th>\n",
       "    </tr>\n",
       "  </thead>\n",
       "  <tbody>\n",
       "    <tr>\n",
       "      <th>Metagenomic</th>\n",
       "      <td>0.0 [0;0]</td>\n",
       "      <td>14538306.17 [13910838;15514698]</td>\n",
       "      <td>2805.5 [693;6700]</td>\n",
       "      <td>0.0 [0;0]</td>\n",
       "      <td>13674441.5 [13642314;13704539]</td>\n",
       "      <td>197.75 [139;261]</td>\n",
       "      <td>99.26 [98;99]</td>\n",
       "      <td>174695.5 [108043;239185]</td>\n",
       "      <td>99.74 [99;99]</td>\n",
       "      <td>786984.25 [585610;1080013]</td>\n",
       "      <td>1.25 [1;2]</td>\n",
       "      <td>2.5 [2;3]</td>\n",
       "      <td>166676.5 [105808;220609]</td>\n",
       "    </tr>\n",
       "    <tr>\n",
       "      <th>Genomic</th>\n",
       "      <td>0.0 [0;0]</td>\n",
       "      <td>11842809.33 [8202941;15606257]</td>\n",
       "      <td>5676.67 [185;9514]</td>\n",
       "      <td>0.0 [0;0]</td>\n",
       "      <td>9933831.0 [4470092;13640340]</td>\n",
       "      <td>590.67 [112;1433]</td>\n",
       "      <td>96.65 [91;99]</td>\n",
       "      <td>128918.67 [7385;242687]</td>\n",
       "      <td>98.01 [95;99]</td>\n",
       "      <td>513148.33 [59272;847534]</td>\n",
       "      <td>4.0 [0;12]</td>\n",
       "      <td>7.67 [0;23]</td>\n",
       "      <td>122181.67 [1155;242687]</td>\n",
       "    </tr>\n",
       "  </tbody>\n",
       "</table>\n",
       "</div>"
      ],
      "text/plain": [
       "                       Ns                        basepairs  \\\n",
       "Assembler Type                                               \n",
       "Metagenomic     0.0 [0;0]  14538306.17 [13910838;15514698]   \n",
       "Genomic         0.0 [0;0]   11842809.33 [8202941;15606257]   \n",
       "\n",
       "                           contigs filtered_Ns  \\\n",
       "Assembler Type                                   \n",
       "Metagenomic      2805.5 [693;6700]   0.0 [0;0]   \n",
       "Genomic         5676.67 [185;9514]   0.0 [0;0]   \n",
       "\n",
       "                            filtered_basepairs   filtered_contigs  \\\n",
       "Assembler Type                                                      \n",
       "Metagenomic     13674441.5 [13642314;13704539]   197.75 [139;261]   \n",
       "Genomic           9933831.0 [4470092;13640340]  590.67 [112;1433]   \n",
       "\n",
       "               filtered_mapped_reads              filtered_n50   mapped_reads  \\\n",
       "Assembler Type                                                                  \n",
       "Metagenomic            99.26 [98;99]  174695.5 [108043;239185]  99.74 [99;99]   \n",
       "Genomic                96.65 [91;99]   128918.67 [7385;242687]  98.01 [95;99]   \n",
       "\n",
       "                                max_contig misassembled contigs  \\\n",
       "Assembler Type                                                    \n",
       "Metagenomic     786984.25 [585610;1080013]           1.25 [1;2]   \n",
       "Genomic           513148.33 [59272;847534]           4.0 [0;12]   \n",
       "\n",
       "               misassembly events                       n50  \n",
       "Assembler Type                                               \n",
       "Metagenomic             2.5 [2;3]  166676.5 [105808;220609]  \n",
       "Genomic               7.67 [0;23]   122181.67 [1155;242687]  "
      ]
     },
     "metadata": {},
     "output_type": "display_data"
    },
    {
     "name": "stdout",
     "output_type": "stream",
     "text": [
      "ERR2935805\n"
     ]
    },
    {
     "data": {
      "text/html": [
       "<div>\n",
       "<style scoped>\n",
       "    .dataframe tbody tr th:only-of-type {\n",
       "        vertical-align: middle;\n",
       "    }\n",
       "\n",
       "    .dataframe tbody tr th {\n",
       "        vertical-align: top;\n",
       "    }\n",
       "\n",
       "    .dataframe thead th {\n",
       "        text-align: right;\n",
       "    }\n",
       "</style>\n",
       "<table border=\"1\" class=\"dataframe\">\n",
       "  <thead>\n",
       "    <tr style=\"text-align: right;\">\n",
       "      <th></th>\n",
       "      <th>Ns</th>\n",
       "      <th>basepairs</th>\n",
       "      <th>contigs</th>\n",
       "      <th>filtered_Ns</th>\n",
       "      <th>filtered_basepairs</th>\n",
       "      <th>filtered_contigs</th>\n",
       "      <th>filtered_mapped_reads</th>\n",
       "      <th>filtered_n50</th>\n",
       "      <th>mapped_reads</th>\n",
       "      <th>max_contig</th>\n",
       "      <th>misassembled contigs</th>\n",
       "      <th>misassembly events</th>\n",
       "      <th>n50</th>\n",
       "    </tr>\n",
       "    <tr>\n",
       "      <th>Assembler Type</th>\n",
       "      <th></th>\n",
       "      <th></th>\n",
       "      <th></th>\n",
       "      <th></th>\n",
       "      <th></th>\n",
       "      <th></th>\n",
       "      <th></th>\n",
       "      <th></th>\n",
       "      <th></th>\n",
       "      <th></th>\n",
       "      <th></th>\n",
       "      <th></th>\n",
       "      <th></th>\n",
       "    </tr>\n",
       "  </thead>\n",
       "  <tbody>\n",
       "    <tr>\n",
       "      <th>Metagenomic</th>\n",
       "      <td>0.0 [0;0]</td>\n",
       "      <td>23261978.08 [17126362;27822010]</td>\n",
       "      <td>15346.5 [6776;26282]</td>\n",
       "      <td>0.0 [0;0]</td>\n",
       "      <td>17196398.92 [13891328;18792639]</td>\n",
       "      <td>2441.0 [603;3392]</td>\n",
       "      <td>89.25 [88;89]</td>\n",
       "      <td>125805.5 [87983;210993]</td>\n",
       "      <td>89.72 [89;89]</td>\n",
       "      <td>641431.75 [542997;768410]</td>\n",
       "      <td>1.92 [0;3]</td>\n",
       "      <td>3.83 [0;7]</td>\n",
       "      <td>48201.58 [3674;82249]</td>\n",
       "    </tr>\n",
       "    <tr>\n",
       "      <th>Genomic</th>\n",
       "      <td>0.0 [0;0]</td>\n",
       "      <td>16027898.0 [8818742;29517365]</td>\n",
       "      <td>15080.33 [205;36214]</td>\n",
       "      <td>0.0 [0;0]</td>\n",
       "      <td>11707517.67 [5801439;19595813]</td>\n",
       "      <td>2677.33 [144;4999]</td>\n",
       "      <td>69.37 [57;87]</td>\n",
       "      <td>104832.33 [2148;256884]</td>\n",
       "      <td>84.65 [78;88]</td>\n",
       "      <td>574806.0 [29155;847683]</td>\n",
       "      <td>190.67 [0;572]</td>\n",
       "      <td>382.67 [0;1148]</td>\n",
       "      <td>86762.33 [1431;256884]</td>\n",
       "    </tr>\n",
       "  </tbody>\n",
       "</table>\n",
       "</div>"
      ],
      "text/plain": [
       "                       Ns                        basepairs  \\\n",
       "Assembler Type                                               \n",
       "Metagenomic     0.0 [0;0]  23261978.08 [17126362;27822010]   \n",
       "Genomic         0.0 [0;0]    16027898.0 [8818742;29517365]   \n",
       "\n",
       "                             contigs filtered_Ns  \\\n",
       "Assembler Type                                     \n",
       "Metagenomic     15346.5 [6776;26282]   0.0 [0;0]   \n",
       "Genomic         15080.33 [205;36214]   0.0 [0;0]   \n",
       "\n",
       "                             filtered_basepairs    filtered_contigs  \\\n",
       "Assembler Type                                                        \n",
       "Metagenomic     17196398.92 [13891328;18792639]   2441.0 [603;3392]   \n",
       "Genomic          11707517.67 [5801439;19595813]  2677.33 [144;4999]   \n",
       "\n",
       "               filtered_mapped_reads             filtered_n50   mapped_reads  \\\n",
       "Assembler Type                                                                 \n",
       "Metagenomic            89.25 [88;89]  125805.5 [87983;210993]  89.72 [89;89]   \n",
       "Genomic                69.37 [57;87]  104832.33 [2148;256884]  84.65 [78;88]   \n",
       "\n",
       "                               max_contig misassembled contigs  \\\n",
       "Assembler Type                                                   \n",
       "Metagenomic     641431.75 [542997;768410]           1.92 [0;3]   \n",
       "Genomic           574806.0 [29155;847683]       190.67 [0;572]   \n",
       "\n",
       "               misassembly events                     n50  \n",
       "Assembler Type                                             \n",
       "Metagenomic            3.83 [0;7]   48201.58 [3674;82249]  \n",
       "Genomic           382.67 [0;1148]  86762.33 [1431;256884]  "
      ]
     },
     "metadata": {},
     "output_type": "display_data"
    },
    {
     "name": "stdout",
     "output_type": "stream",
     "text": [
      "LHS\n"
     ]
    },
    {
     "data": {
      "text/html": [
       "<div>\n",
       "<style scoped>\n",
       "    .dataframe tbody tr th:only-of-type {\n",
       "        vertical-align: middle;\n",
       "    }\n",
       "\n",
       "    .dataframe tbody tr th {\n",
       "        vertical-align: top;\n",
       "    }\n",
       "\n",
       "    .dataframe thead th {\n",
       "        text-align: right;\n",
       "    }\n",
       "</style>\n",
       "<table border=\"1\" class=\"dataframe\">\n",
       "  <thead>\n",
       "    <tr style=\"text-align: right;\">\n",
       "      <th></th>\n",
       "      <th>Ns</th>\n",
       "      <th>basepairs</th>\n",
       "      <th>contigs</th>\n",
       "      <th>filtered_Ns</th>\n",
       "      <th>filtered_basepairs</th>\n",
       "      <th>filtered_contigs</th>\n",
       "      <th>filtered_mapped_reads</th>\n",
       "      <th>filtered_n50</th>\n",
       "      <th>mapped_reads</th>\n",
       "      <th>max_contig</th>\n",
       "      <th>misassembled contigs</th>\n",
       "      <th>misassembly events</th>\n",
       "      <th>n50</th>\n",
       "    </tr>\n",
       "    <tr>\n",
       "      <th>Assembler Type</th>\n",
       "      <th></th>\n",
       "      <th></th>\n",
       "      <th></th>\n",
       "      <th></th>\n",
       "      <th></th>\n",
       "      <th></th>\n",
       "      <th></th>\n",
       "      <th></th>\n",
       "      <th></th>\n",
       "      <th></th>\n",
       "      <th></th>\n",
       "      <th></th>\n",
       "      <th></th>\n",
       "    </tr>\n",
       "  </thead>\n",
       "  <tbody>\n",
       "    <tr>\n",
       "      <th>Metagenomic</th>\n",
       "      <td>0.0 [0;0]</td>\n",
       "      <td>13857760.08 [13638386;14157309]</td>\n",
       "      <td>1219.83 [767;2099]</td>\n",
       "      <td>0.0 [0;0]</td>\n",
       "      <td>13613428.08 [13507672;13672885]</td>\n",
       "      <td>460.25 [184;762]</td>\n",
       "      <td>97.02 [96;97]</td>\n",
       "      <td>141878.25 [91722;196786]</td>\n",
       "      <td>97.23 [97;97]</td>\n",
       "      <td>703601.5 [632213;917728]</td>\n",
       "      <td>1.25 [0;2]</td>\n",
       "      <td>3.5 [0;6]</td>\n",
       "      <td>139935.5 [90987;193256]</td>\n",
       "    </tr>\n",
       "    <tr>\n",
       "      <th>Genomic</th>\n",
       "      <td>0.0 [0;0]</td>\n",
       "      <td>10831933.33 [2957060;16214591]</td>\n",
       "      <td>10446.67 [36;31040]</td>\n",
       "      <td>0.0 [0;0]</td>\n",
       "      <td>9784598.0 [2950393;13315624]</td>\n",
       "      <td>596.67 [21;1526]</td>\n",
       "      <td>88.5 [77;96]</td>\n",
       "      <td>204425.33 [69361;351027]</td>\n",
       "      <td>94.9 [92;96]</td>\n",
       "      <td>581076.67 [263645;847572]</td>\n",
       "      <td>2.0 [0;5]</td>\n",
       "      <td>4.0 [0;10]</td>\n",
       "      <td>196797.67 [46478;351027]</td>\n",
       "    </tr>\n",
       "  </tbody>\n",
       "</table>\n",
       "</div>"
      ],
      "text/plain": [
       "                       Ns                        basepairs  \\\n",
       "Assembler Type                                               \n",
       "Metagenomic     0.0 [0;0]  13857760.08 [13638386;14157309]   \n",
       "Genomic         0.0 [0;0]   10831933.33 [2957060;16214591]   \n",
       "\n",
       "                            contigs filtered_Ns  \\\n",
       "Assembler Type                                    \n",
       "Metagenomic      1219.83 [767;2099]   0.0 [0;0]   \n",
       "Genomic         10446.67 [36;31040]   0.0 [0;0]   \n",
       "\n",
       "                             filtered_basepairs  filtered_contigs  \\\n",
       "Assembler Type                                                      \n",
       "Metagenomic     13613428.08 [13507672;13672885]  460.25 [184;762]   \n",
       "Genomic            9784598.0 [2950393;13315624]  596.67 [21;1526]   \n",
       "\n",
       "               filtered_mapped_reads              filtered_n50   mapped_reads  \\\n",
       "Assembler Type                                                                  \n",
       "Metagenomic            97.02 [96;97]  141878.25 [91722;196786]  97.23 [97;97]   \n",
       "Genomic                 88.5 [77;96]  204425.33 [69361;351027]   94.9 [92;96]   \n",
       "\n",
       "                               max_contig misassembled contigs  \\\n",
       "Assembler Type                                                   \n",
       "Metagenomic      703601.5 [632213;917728]           1.25 [0;2]   \n",
       "Genomic         581076.67 [263645;847572]            2.0 [0;5]   \n",
       "\n",
       "               misassembly events                       n50  \n",
       "Assembler Type                                               \n",
       "Metagenomic             3.5 [0;6]   139935.5 [90987;193256]  \n",
       "Genomic                4.0 [0;10]  196797.67 [46478;351027]  "
      ]
     },
     "metadata": {},
     "output_type": "display_data"
    },
    {
     "name": "stdout",
     "output_type": "stream",
     "text": [
      "EMS\n"
     ]
    },
    {
     "data": {
      "text/html": [
       "<div>\n",
       "<style scoped>\n",
       "    .dataframe tbody tr th:only-of-type {\n",
       "        vertical-align: middle;\n",
       "    }\n",
       "\n",
       "    .dataframe tbody tr th {\n",
       "        vertical-align: top;\n",
       "    }\n",
       "\n",
       "    .dataframe thead th {\n",
       "        text-align: right;\n",
       "    }\n",
       "</style>\n",
       "<table border=\"1\" class=\"dataframe\">\n",
       "  <thead>\n",
       "    <tr style=\"text-align: right;\">\n",
       "      <th></th>\n",
       "      <th>Ns</th>\n",
       "      <th>basepairs</th>\n",
       "      <th>contigs</th>\n",
       "      <th>filtered_Ns</th>\n",
       "      <th>filtered_basepairs</th>\n",
       "      <th>filtered_contigs</th>\n",
       "      <th>filtered_mapped_reads</th>\n",
       "      <th>filtered_n50</th>\n",
       "      <th>mapped_reads</th>\n",
       "      <th>max_contig</th>\n",
       "      <th>misassembled contigs</th>\n",
       "      <th>misassembly events</th>\n",
       "      <th>n50</th>\n",
       "    </tr>\n",
       "    <tr>\n",
       "      <th>Assembler Type</th>\n",
       "      <th></th>\n",
       "      <th></th>\n",
       "      <th></th>\n",
       "      <th></th>\n",
       "      <th></th>\n",
       "      <th></th>\n",
       "      <th></th>\n",
       "      <th></th>\n",
       "      <th></th>\n",
       "      <th></th>\n",
       "      <th></th>\n",
       "      <th></th>\n",
       "      <th></th>\n",
       "    </tr>\n",
       "  </thead>\n",
       "  <tbody>\n",
       "    <tr>\n",
       "      <th>Metagenomic</th>\n",
       "      <td>0.0 [0;0]</td>\n",
       "      <td>30499869.5 [30408932;30599129]</td>\n",
       "      <td>1128.0 [761;1829]</td>\n",
       "      <td>0.0 [0;0]</td>\n",
       "      <td>30327620.0 [30145929;30418717]</td>\n",
       "      <td>698.5 [365;1254]</td>\n",
       "      <td>98.09 [97;98]</td>\n",
       "      <td>141558.0 [63178;208969]</td>\n",
       "      <td>98.85 [98;99]</td>\n",
       "      <td>730818.5 [468323;917726]</td>\n",
       "      <td>6.25 [1;13]</td>\n",
       "      <td>11.75 [1;22]</td>\n",
       "      <td>141059.42 [61704;208969]</td>\n",
       "    </tr>\n",
       "    <tr>\n",
       "      <th>Genomic</th>\n",
       "      <td>0.0 [0;0]</td>\n",
       "      <td>30405294.0 [30249132;30664883]</td>\n",
       "      <td>1517.67 [656;2628]</td>\n",
       "      <td>0.0 [0;0]</td>\n",
       "      <td>30202846.67 [30064811;30354786]</td>\n",
       "      <td>545.67 [334;891]</td>\n",
       "      <td>97.71 [97;98]</td>\n",
       "      <td>176059.67 [74138;245050]</td>\n",
       "      <td>98.37 [97;98]</td>\n",
       "      <td>928688.0 [632013;1303875]</td>\n",
       "      <td>3.0 [0;9]</td>\n",
       "      <td>6.0 [0;18]</td>\n",
       "      <td>175134.67 [73839;245050]</td>\n",
       "    </tr>\n",
       "  </tbody>\n",
       "</table>\n",
       "</div>"
      ],
      "text/plain": [
       "                       Ns                       basepairs             contigs  \\\n",
       "Assembler Type                                                                  \n",
       "Metagenomic     0.0 [0;0]  30499869.5 [30408932;30599129]   1128.0 [761;1829]   \n",
       "Genomic         0.0 [0;0]  30405294.0 [30249132;30664883]  1517.67 [656;2628]   \n",
       "\n",
       "               filtered_Ns               filtered_basepairs  filtered_contigs  \\\n",
       "Assembler Type                                                                  \n",
       "Metagenomic      0.0 [0;0]   30327620.0 [30145929;30418717]  698.5 [365;1254]   \n",
       "Genomic          0.0 [0;0]  30202846.67 [30064811;30354786]  545.67 [334;891]   \n",
       "\n",
       "               filtered_mapped_reads              filtered_n50   mapped_reads  \\\n",
       "Assembler Type                                                                  \n",
       "Metagenomic            98.09 [97;98]   141558.0 [63178;208969]  98.85 [98;99]   \n",
       "Genomic                97.71 [97;98]  176059.67 [74138;245050]  98.37 [97;98]   \n",
       "\n",
       "                               max_contig misassembled contigs  \\\n",
       "Assembler Type                                                   \n",
       "Metagenomic      730818.5 [468323;917726]          6.25 [1;13]   \n",
       "Genomic         928688.0 [632013;1303875]            3.0 [0;9]   \n",
       "\n",
       "               misassembly events                       n50  \n",
       "Assembler Type                                               \n",
       "Metagenomic          11.75 [1;22]  141059.42 [61704;208969]  \n",
       "Genomic                6.0 [0;18]  175134.67 [73839;245050]  "
      ]
     },
     "metadata": {},
     "output_type": "display_data"
    },
    {
     "name": "stdout",
     "output_type": "stream",
     "text": [
      "ERR2984773\n"
     ]
    },
    {
     "data": {
      "text/html": [
       "<div>\n",
       "<style scoped>\n",
       "    .dataframe tbody tr th:only-of-type {\n",
       "        vertical-align: middle;\n",
       "    }\n",
       "\n",
       "    .dataframe tbody tr th {\n",
       "        vertical-align: top;\n",
       "    }\n",
       "\n",
       "    .dataframe thead th {\n",
       "        text-align: right;\n",
       "    }\n",
       "</style>\n",
       "<table border=\"1\" class=\"dataframe\">\n",
       "  <thead>\n",
       "    <tr style=\"text-align: right;\">\n",
       "      <th></th>\n",
       "      <th>Ns</th>\n",
       "      <th>basepairs</th>\n",
       "      <th>contigs</th>\n",
       "      <th>filtered_Ns</th>\n",
       "      <th>filtered_basepairs</th>\n",
       "      <th>filtered_contigs</th>\n",
       "      <th>filtered_mapped_reads</th>\n",
       "      <th>filtered_n50</th>\n",
       "      <th>mapped_reads</th>\n",
       "      <th>max_contig</th>\n",
       "      <th>misassembled contigs</th>\n",
       "      <th>misassembly events</th>\n",
       "      <th>n50</th>\n",
       "    </tr>\n",
       "    <tr>\n",
       "      <th>Assembler Type</th>\n",
       "      <th></th>\n",
       "      <th></th>\n",
       "      <th></th>\n",
       "      <th></th>\n",
       "      <th></th>\n",
       "      <th></th>\n",
       "      <th></th>\n",
       "      <th></th>\n",
       "      <th></th>\n",
       "      <th></th>\n",
       "      <th></th>\n",
       "      <th></th>\n",
       "      <th></th>\n",
       "    </tr>\n",
       "  </thead>\n",
       "  <tbody>\n",
       "    <tr>\n",
       "      <th>Metagenomic</th>\n",
       "      <td>0.0 [0;0]</td>\n",
       "      <td>40679477.25 [32809112;48964620]</td>\n",
       "      <td>26959.67 [5397;61644]</td>\n",
       "      <td>0.0 [0;0]</td>\n",
       "      <td>31529139.67 [30564302;32021766]</td>\n",
       "      <td>1637.75 [761;2654]</td>\n",
       "      <td>82.1 [81;82]</td>\n",
       "      <td>96809.5 [29134;149841]</td>\n",
       "      <td>83.84 [83;84]</td>\n",
       "      <td>687726.75 [303329;1205839]</td>\n",
       "      <td>5.5 [1;15]</td>\n",
       "      <td>10.92 [2;32]</td>\n",
       "      <td>63437.0 [20993;102115]</td>\n",
       "    </tr>\n",
       "    <tr>\n",
       "      <th>Genomic</th>\n",
       "      <td>0.0 [0;0]</td>\n",
       "      <td>35852992.33 [30430077;46535940]</td>\n",
       "      <td>14022.0 [895;39819]</td>\n",
       "      <td>0.0 [0;0]</td>\n",
       "      <td>31048226.67 [30211740;32500826]</td>\n",
       "      <td>1106.67 [425;2049]</td>\n",
       "      <td>81.09 [80;81]</td>\n",
       "      <td>122864.33 [77870;191424]</td>\n",
       "      <td>82.59 [81;84]</td>\n",
       "      <td>691238.33 [446163;882182]</td>\n",
       "      <td>3.67 [0;9]</td>\n",
       "      <td>7.33 [0;18]</td>\n",
       "      <td>107213.33 [53292;191424]</td>\n",
       "    </tr>\n",
       "  </tbody>\n",
       "</table>\n",
       "</div>"
      ],
      "text/plain": [
       "                       Ns                        basepairs  \\\n",
       "Assembler Type                                               \n",
       "Metagenomic     0.0 [0;0]  40679477.25 [32809112;48964620]   \n",
       "Genomic         0.0 [0;0]  35852992.33 [30430077;46535940]   \n",
       "\n",
       "                              contigs filtered_Ns  \\\n",
       "Assembler Type                                      \n",
       "Metagenomic     26959.67 [5397;61644]   0.0 [0;0]   \n",
       "Genomic           14022.0 [895;39819]   0.0 [0;0]   \n",
       "\n",
       "                             filtered_basepairs    filtered_contigs  \\\n",
       "Assembler Type                                                        \n",
       "Metagenomic     31529139.67 [30564302;32021766]  1637.75 [761;2654]   \n",
       "Genomic         31048226.67 [30211740;32500826]  1106.67 [425;2049]   \n",
       "\n",
       "               filtered_mapped_reads              filtered_n50   mapped_reads  \\\n",
       "Assembler Type                                                                  \n",
       "Metagenomic             82.1 [81;82]    96809.5 [29134;149841]  83.84 [83;84]   \n",
       "Genomic                81.09 [80;81]  122864.33 [77870;191424]  82.59 [81;84]   \n",
       "\n",
       "                                max_contig misassembled contigs  \\\n",
       "Assembler Type                                                    \n",
       "Metagenomic     687726.75 [303329;1205839]           5.5 [1;15]   \n",
       "Genomic          691238.33 [446163;882182]           3.67 [0;9]   \n",
       "\n",
       "               misassembly events                       n50  \n",
       "Assembler Type                                               \n",
       "Metagenomic          10.92 [2;32]    63437.0 [20993;102115]  \n",
       "Genomic               7.33 [0;18]  107213.33 [53292;191424]  "
      ]
     },
     "metadata": {},
     "output_type": "display_data"
    },
    {
     "name": "stdout",
     "output_type": "stream",
     "text": [
      "ENN\n"
     ]
    },
    {
     "data": {
      "text/html": [
       "<div>\n",
       "<style scoped>\n",
       "    .dataframe tbody tr th:only-of-type {\n",
       "        vertical-align: middle;\n",
       "    }\n",
       "\n",
       "    .dataframe tbody tr th {\n",
       "        vertical-align: top;\n",
       "    }\n",
       "\n",
       "    .dataframe thead th {\n",
       "        text-align: right;\n",
       "    }\n",
       "</style>\n",
       "<table border=\"1\" class=\"dataframe\">\n",
       "  <thead>\n",
       "    <tr style=\"text-align: right;\">\n",
       "      <th></th>\n",
       "      <th>Ns</th>\n",
       "      <th>basepairs</th>\n",
       "      <th>contigs</th>\n",
       "      <th>filtered_Ns</th>\n",
       "      <th>filtered_basepairs</th>\n",
       "      <th>filtered_contigs</th>\n",
       "      <th>filtered_mapped_reads</th>\n",
       "      <th>filtered_n50</th>\n",
       "      <th>mapped_reads</th>\n",
       "      <th>max_contig</th>\n",
       "      <th>misassembled contigs</th>\n",
       "      <th>misassembly events</th>\n",
       "      <th>n50</th>\n",
       "    </tr>\n",
       "    <tr>\n",
       "      <th>Assembler Type</th>\n",
       "      <th></th>\n",
       "      <th></th>\n",
       "      <th></th>\n",
       "      <th></th>\n",
       "      <th></th>\n",
       "      <th></th>\n",
       "      <th></th>\n",
       "      <th></th>\n",
       "      <th></th>\n",
       "      <th></th>\n",
       "      <th></th>\n",
       "      <th></th>\n",
       "      <th></th>\n",
       "    </tr>\n",
       "  </thead>\n",
       "  <tbody>\n",
       "    <tr>\n",
       "      <th>Metagenomic</th>\n",
       "      <td>0.0 [0;0]</td>\n",
       "      <td>30457631.25 [30390566;30545419]</td>\n",
       "      <td>1094.0 [640;1822]</td>\n",
       "      <td>0.0 [0;0]</td>\n",
       "      <td>30301796.0 [30130413;30420265]</td>\n",
       "      <td>744.25 [359;1279]</td>\n",
       "      <td>98.67 [97;99]</td>\n",
       "      <td>143644.25 [65108;238611]</td>\n",
       "      <td>99.48 [99;99]</td>\n",
       "      <td>721760.25 [585610;1036942]</td>\n",
       "      <td>7.83 [2;18]</td>\n",
       "      <td>16.17 [6;36]</td>\n",
       "      <td>142765.75 [63725;238611]</td>\n",
       "    </tr>\n",
       "    <tr>\n",
       "      <th>Genomic</th>\n",
       "      <td>0.0 [0;0]</td>\n",
       "      <td>30272311.33 [30110758;30442718]</td>\n",
       "      <td>1466.0 [936;2322]</td>\n",
       "      <td>0.0 [0;0]</td>\n",
       "      <td>30068140.0 [29835112;30276227]</td>\n",
       "      <td>871.0 [443;1726]</td>\n",
       "      <td>97.97 [97;98]</td>\n",
       "      <td>152200.67 [43168;208953]</td>\n",
       "      <td>98.94 [98;99]</td>\n",
       "      <td>776018.67 [630384;850138]</td>\n",
       "      <td>4.33 [0;10]</td>\n",
       "      <td>8.33 [0;19]</td>\n",
       "      <td>150353.0 [42115;204481]</td>\n",
       "    </tr>\n",
       "  </tbody>\n",
       "</table>\n",
       "</div>"
      ],
      "text/plain": [
       "                       Ns                        basepairs            contigs  \\\n",
       "Assembler Type                                                                  \n",
       "Metagenomic     0.0 [0;0]  30457631.25 [30390566;30545419]  1094.0 [640;1822]   \n",
       "Genomic         0.0 [0;0]  30272311.33 [30110758;30442718]  1466.0 [936;2322]   \n",
       "\n",
       "               filtered_Ns              filtered_basepairs   filtered_contigs  \\\n",
       "Assembler Type                                                                  \n",
       "Metagenomic      0.0 [0;0]  30301796.0 [30130413;30420265]  744.25 [359;1279]   \n",
       "Genomic          0.0 [0;0]  30068140.0 [29835112;30276227]   871.0 [443;1726]   \n",
       "\n",
       "               filtered_mapped_reads              filtered_n50   mapped_reads  \\\n",
       "Assembler Type                                                                  \n",
       "Metagenomic            98.67 [97;99]  143644.25 [65108;238611]  99.48 [99;99]   \n",
       "Genomic                97.97 [97;98]  152200.67 [43168;208953]  98.94 [98;99]   \n",
       "\n",
       "                                max_contig misassembled contigs  \\\n",
       "Assembler Type                                                    \n",
       "Metagenomic     721760.25 [585610;1036942]          7.83 [2;18]   \n",
       "Genomic          776018.67 [630384;850138]          4.33 [0;10]   \n",
       "\n",
       "               misassembly events                       n50  \n",
       "Assembler Type                                               \n",
       "Metagenomic          16.17 [6;36]  142765.75 [63725;238611]  \n",
       "Genomic               8.33 [0;19]   150353.0 [42115;204481]  "
      ]
     },
     "metadata": {},
     "output_type": "display_data"
    }
   ],
   "source": [
    "for sample in global_pipeline_metrics_df['sample'].unique():\n",
    "    print(sample)\n",
    "    stats_per_assembler_type = pd.DataFrame()\n",
    "    for assembly_type in global_pipeline_metrics_df.type.unique():\n",
    "        row={'Assembler Type': assembly_type}\n",
    "        lala=global_pipeline_metrics_df[(global_pipeline_metrics_df['sample'] == sample) & (global_pipeline_metrics_df.type == assembly_type) & (global_pipeline_metrics_df.algorythm == \"Multiple k-mer De Bruijn graph\")].describe()\n",
    "        for column in lala.columns:\n",
    "            mean = lala.loc['mean',column]\n",
    "            minimum = lala.loc['min',column]\n",
    "            maximum = lala.loc['max',column]\n",
    "            row[column] = \"{} [{};{}]\".format(round(mean, 2), int(minimum), int(maximum))\n",
    "        stats_per_assembler_type=stats_per_assembler_type.append(row, ignore_index=True)\n",
    "    stats_per_assembler_type = stats_per_assembler_type.set_index('Assembler Type')\n",
    "    display(stats_per_assembler_type)\n",
    "    stats_per_assembler_type.to_csv(\"Tables/Results/Global metrics per assembler type multiple kmer - {}.csv\".format(sample))"
   ]
  },
  {
   "cell_type": "markdown",
   "id": "55c93193",
   "metadata": {},
   "source": [
    "#### rank"
   ]
  },
  {
   "cell_type": "code",
   "execution_count": 25,
   "id": "54852415",
   "metadata": {
    "scrolled": true
   },
   "outputs": [
    {
     "name": "stdout",
     "output_type": "stream",
     "text": [
      "LNN\n"
     ]
    },
    {
     "data": {
      "text/html": [
       "<div>\n",
       "<style scoped>\n",
       "    .dataframe tbody tr th:only-of-type {\n",
       "        vertical-align: middle;\n",
       "    }\n",
       "\n",
       "    .dataframe tbody tr th {\n",
       "        vertical-align: top;\n",
       "    }\n",
       "\n",
       "    .dataframe thead th {\n",
       "        text-align: right;\n",
       "    }\n",
       "</style>\n",
       "<table border=\"1\" class=\"dataframe\">\n",
       "  <thead>\n",
       "    <tr style=\"text-align: right;\">\n",
       "      <th></th>\n",
       "      <th></th>\n",
       "      <th>Ns</th>\n",
       "      <th>basepairs</th>\n",
       "      <th>contigs</th>\n",
       "      <th>filtered_Ns</th>\n",
       "      <th>filtered_basepairs</th>\n",
       "      <th>filtered_contigs</th>\n",
       "      <th>filtered_mapped_reads</th>\n",
       "      <th>filtered_n50</th>\n",
       "      <th>mapped_reads</th>\n",
       "      <th>max_contig</th>\n",
       "      <th>misassembled contigs</th>\n",
       "      <th>misassembly events</th>\n",
       "      <th>n50</th>\n",
       "    </tr>\n",
       "    <tr>\n",
       "      <th>Assembler Type</th>\n",
       "      <th>Type</th>\n",
       "      <th></th>\n",
       "      <th></th>\n",
       "      <th></th>\n",
       "      <th></th>\n",
       "      <th></th>\n",
       "      <th></th>\n",
       "      <th></th>\n",
       "      <th></th>\n",
       "      <th></th>\n",
       "      <th></th>\n",
       "      <th></th>\n",
       "      <th></th>\n",
       "      <th></th>\n",
       "    </tr>\n",
       "  </thead>\n",
       "  <tbody>\n",
       "    <tr>\n",
       "      <th rowspan=\"2\" valign=\"top\">Metagenomic</th>\n",
       "      <th>Best</th>\n",
       "      <td>0.0</td>\n",
       "      <td>15514698.0</td>\n",
       "      <td>693.0</td>\n",
       "      <td>0.0</td>\n",
       "      <td>13704539.0</td>\n",
       "      <td>139.0</td>\n",
       "      <td>99.686868</td>\n",
       "      <td>239185.0</td>\n",
       "      <td>99.798003</td>\n",
       "      <td>1080013.0</td>\n",
       "      <td>1.0</td>\n",
       "      <td>2.0</td>\n",
       "      <td>220609.0</td>\n",
       "    </tr>\n",
       "    <tr>\n",
       "      <th>Worst</th>\n",
       "      <td>0.0</td>\n",
       "      <td>13910838.0</td>\n",
       "      <td>6700.0</td>\n",
       "      <td>0.0</td>\n",
       "      <td>13642314.0</td>\n",
       "      <td>261.0</td>\n",
       "      <td>98.807171</td>\n",
       "      <td>108043.0</td>\n",
       "      <td>99.694877</td>\n",
       "      <td>585610.0</td>\n",
       "      <td>2.0</td>\n",
       "      <td>3.0</td>\n",
       "      <td>105808.0</td>\n",
       "    </tr>\n",
       "    <tr>\n",
       "      <th rowspan=\"2\" valign=\"top\">Genomic</th>\n",
       "      <th>Best</th>\n",
       "      <td>0.0</td>\n",
       "      <td>15606257.0</td>\n",
       "      <td>185.0</td>\n",
       "      <td>0.0</td>\n",
       "      <td>13640340.0</td>\n",
       "      <td>112.0</td>\n",
       "      <td>99.591855</td>\n",
       "      <td>242687.0</td>\n",
       "      <td>99.713909</td>\n",
       "      <td>847534.0</td>\n",
       "      <td>0.0</td>\n",
       "      <td>0.0</td>\n",
       "      <td>242687.0</td>\n",
       "    </tr>\n",
       "    <tr>\n",
       "      <th>Worst</th>\n",
       "      <td>0.0</td>\n",
       "      <td>8202941.0</td>\n",
       "      <td>9514.0</td>\n",
       "      <td>0.0</td>\n",
       "      <td>4470092.0</td>\n",
       "      <td>1433.0</td>\n",
       "      <td>91.766425</td>\n",
       "      <td>7385.0</td>\n",
       "      <td>95.101330</td>\n",
       "      <td>59272.0</td>\n",
       "      <td>12.0</td>\n",
       "      <td>23.0</td>\n",
       "      <td>1155.0</td>\n",
       "    </tr>\n",
       "  </tbody>\n",
       "</table>\n",
       "</div>"
      ],
      "text/plain": [
       "                       Ns   basepairs  contigs  filtered_Ns  \\\n",
       "Assembler Type Type                                           \n",
       "Metagenomic    Best   0.0  15514698.0    693.0          0.0   \n",
       "               Worst  0.0  13910838.0   6700.0          0.0   \n",
       "Genomic        Best   0.0  15606257.0    185.0          0.0   \n",
       "               Worst  0.0   8202941.0   9514.0          0.0   \n",
       "\n",
       "                      filtered_basepairs  filtered_contigs  \\\n",
       "Assembler Type Type                                          \n",
       "Metagenomic    Best           13704539.0             139.0   \n",
       "               Worst          13642314.0             261.0   \n",
       "Genomic        Best           13640340.0             112.0   \n",
       "               Worst           4470092.0            1433.0   \n",
       "\n",
       "                      filtered_mapped_reads  filtered_n50  mapped_reads  \\\n",
       "Assembler Type Type                                                       \n",
       "Metagenomic    Best               99.686868      239185.0     99.798003   \n",
       "               Worst              98.807171      108043.0     99.694877   \n",
       "Genomic        Best               99.591855      242687.0     99.713909   \n",
       "               Worst              91.766425        7385.0     95.101330   \n",
       "\n",
       "                      max_contig  misassembled contigs  misassembly events  \\\n",
       "Assembler Type Type                                                          \n",
       "Metagenomic    Best    1080013.0                   1.0                 2.0   \n",
       "               Worst    585610.0                   2.0                 3.0   \n",
       "Genomic        Best     847534.0                   0.0                 0.0   \n",
       "               Worst     59272.0                  12.0                23.0   \n",
       "\n",
       "                           n50  \n",
       "Assembler Type Type             \n",
       "Metagenomic    Best   220609.0  \n",
       "               Worst  105808.0  \n",
       "Genomic        Best   242687.0  \n",
       "               Worst    1155.0  "
      ]
     },
     "metadata": {},
     "output_type": "display_data"
    },
    {
     "name": "stdout",
     "output_type": "stream",
     "text": [
      "ERR2935805\n"
     ]
    },
    {
     "data": {
      "text/html": [
       "<div>\n",
       "<style scoped>\n",
       "    .dataframe tbody tr th:only-of-type {\n",
       "        vertical-align: middle;\n",
       "    }\n",
       "\n",
       "    .dataframe tbody tr th {\n",
       "        vertical-align: top;\n",
       "    }\n",
       "\n",
       "    .dataframe thead th {\n",
       "        text-align: right;\n",
       "    }\n",
       "</style>\n",
       "<table border=\"1\" class=\"dataframe\">\n",
       "  <thead>\n",
       "    <tr style=\"text-align: right;\">\n",
       "      <th></th>\n",
       "      <th></th>\n",
       "      <th>Ns</th>\n",
       "      <th>basepairs</th>\n",
       "      <th>contigs</th>\n",
       "      <th>filtered_Ns</th>\n",
       "      <th>filtered_basepairs</th>\n",
       "      <th>filtered_contigs</th>\n",
       "      <th>filtered_mapped_reads</th>\n",
       "      <th>filtered_n50</th>\n",
       "      <th>mapped_reads</th>\n",
       "      <th>max_contig</th>\n",
       "      <th>misassembled contigs</th>\n",
       "      <th>misassembly events</th>\n",
       "      <th>n50</th>\n",
       "    </tr>\n",
       "    <tr>\n",
       "      <th>Assembler Type</th>\n",
       "      <th>Type</th>\n",
       "      <th></th>\n",
       "      <th></th>\n",
       "      <th></th>\n",
       "      <th></th>\n",
       "      <th></th>\n",
       "      <th></th>\n",
       "      <th></th>\n",
       "      <th></th>\n",
       "      <th></th>\n",
       "      <th></th>\n",
       "      <th></th>\n",
       "      <th></th>\n",
       "      <th></th>\n",
       "    </tr>\n",
       "  </thead>\n",
       "  <tbody>\n",
       "    <tr>\n",
       "      <th rowspan=\"2\" valign=\"top\">Metagenomic</th>\n",
       "      <th>Best</th>\n",
       "      <td>0.0</td>\n",
       "      <td>27822010.0</td>\n",
       "      <td>6776.0</td>\n",
       "      <td>0.0</td>\n",
       "      <td>18792639.0</td>\n",
       "      <td>603.0</td>\n",
       "      <td>89.502391</td>\n",
       "      <td>210993.0</td>\n",
       "      <td>89.926254</td>\n",
       "      <td>768410.0</td>\n",
       "      <td>0.0</td>\n",
       "      <td>0.0</td>\n",
       "      <td>82249.0</td>\n",
       "    </tr>\n",
       "    <tr>\n",
       "      <th>Worst</th>\n",
       "      <td>0.0</td>\n",
       "      <td>17126362.0</td>\n",
       "      <td>26282.0</td>\n",
       "      <td>0.0</td>\n",
       "      <td>13891328.0</td>\n",
       "      <td>3392.0</td>\n",
       "      <td>88.896022</td>\n",
       "      <td>87983.0</td>\n",
       "      <td>89.404535</td>\n",
       "      <td>542997.0</td>\n",
       "      <td>3.0</td>\n",
       "      <td>7.0</td>\n",
       "      <td>3674.0</td>\n",
       "    </tr>\n",
       "    <tr>\n",
       "      <th rowspan=\"2\" valign=\"top\">Genomic</th>\n",
       "      <th>Best</th>\n",
       "      <td>0.0</td>\n",
       "      <td>29517365.0</td>\n",
       "      <td>205.0</td>\n",
       "      <td>0.0</td>\n",
       "      <td>19595813.0</td>\n",
       "      <td>144.0</td>\n",
       "      <td>87.475243</td>\n",
       "      <td>256884.0</td>\n",
       "      <td>88.056194</td>\n",
       "      <td>847683.0</td>\n",
       "      <td>0.0</td>\n",
       "      <td>0.0</td>\n",
       "      <td>256884.0</td>\n",
       "    </tr>\n",
       "    <tr>\n",
       "      <th>Worst</th>\n",
       "      <td>0.0</td>\n",
       "      <td>8818742.0</td>\n",
       "      <td>36214.0</td>\n",
       "      <td>0.0</td>\n",
       "      <td>5801439.0</td>\n",
       "      <td>4999.0</td>\n",
       "      <td>57.929408</td>\n",
       "      <td>2148.0</td>\n",
       "      <td>78.662557</td>\n",
       "      <td>29155.0</td>\n",
       "      <td>572.0</td>\n",
       "      <td>1148.0</td>\n",
       "      <td>1431.0</td>\n",
       "    </tr>\n",
       "  </tbody>\n",
       "</table>\n",
       "</div>"
      ],
      "text/plain": [
       "                       Ns   basepairs  contigs  filtered_Ns  \\\n",
       "Assembler Type Type                                           \n",
       "Metagenomic    Best   0.0  27822010.0   6776.0          0.0   \n",
       "               Worst  0.0  17126362.0  26282.0          0.0   \n",
       "Genomic        Best   0.0  29517365.0    205.0          0.0   \n",
       "               Worst  0.0   8818742.0  36214.0          0.0   \n",
       "\n",
       "                      filtered_basepairs  filtered_contigs  \\\n",
       "Assembler Type Type                                          \n",
       "Metagenomic    Best           18792639.0             603.0   \n",
       "               Worst          13891328.0            3392.0   \n",
       "Genomic        Best           19595813.0             144.0   \n",
       "               Worst           5801439.0            4999.0   \n",
       "\n",
       "                      filtered_mapped_reads  filtered_n50  mapped_reads  \\\n",
       "Assembler Type Type                                                       \n",
       "Metagenomic    Best               89.502391      210993.0     89.926254   \n",
       "               Worst              88.896022       87983.0     89.404535   \n",
       "Genomic        Best               87.475243      256884.0     88.056194   \n",
       "               Worst              57.929408        2148.0     78.662557   \n",
       "\n",
       "                      max_contig  misassembled contigs  misassembly events  \\\n",
       "Assembler Type Type                                                          \n",
       "Metagenomic    Best     768410.0                   0.0                 0.0   \n",
       "               Worst    542997.0                   3.0                 7.0   \n",
       "Genomic        Best     847683.0                   0.0                 0.0   \n",
       "               Worst     29155.0                 572.0              1148.0   \n",
       "\n",
       "                           n50  \n",
       "Assembler Type Type             \n",
       "Metagenomic    Best    82249.0  \n",
       "               Worst    3674.0  \n",
       "Genomic        Best   256884.0  \n",
       "               Worst    1431.0  "
      ]
     },
     "metadata": {},
     "output_type": "display_data"
    },
    {
     "name": "stdout",
     "output_type": "stream",
     "text": [
      "LHS\n"
     ]
    },
    {
     "data": {
      "text/html": [
       "<div>\n",
       "<style scoped>\n",
       "    .dataframe tbody tr th:only-of-type {\n",
       "        vertical-align: middle;\n",
       "    }\n",
       "\n",
       "    .dataframe tbody tr th {\n",
       "        vertical-align: top;\n",
       "    }\n",
       "\n",
       "    .dataframe thead th {\n",
       "        text-align: right;\n",
       "    }\n",
       "</style>\n",
       "<table border=\"1\" class=\"dataframe\">\n",
       "  <thead>\n",
       "    <tr style=\"text-align: right;\">\n",
       "      <th></th>\n",
       "      <th></th>\n",
       "      <th>Ns</th>\n",
       "      <th>basepairs</th>\n",
       "      <th>contigs</th>\n",
       "      <th>filtered_Ns</th>\n",
       "      <th>filtered_basepairs</th>\n",
       "      <th>filtered_contigs</th>\n",
       "      <th>filtered_mapped_reads</th>\n",
       "      <th>filtered_n50</th>\n",
       "      <th>mapped_reads</th>\n",
       "      <th>max_contig</th>\n",
       "      <th>misassembled contigs</th>\n",
       "      <th>misassembly events</th>\n",
       "      <th>n50</th>\n",
       "    </tr>\n",
       "    <tr>\n",
       "      <th>Assembler Type</th>\n",
       "      <th>Type</th>\n",
       "      <th></th>\n",
       "      <th></th>\n",
       "      <th></th>\n",
       "      <th></th>\n",
       "      <th></th>\n",
       "      <th></th>\n",
       "      <th></th>\n",
       "      <th></th>\n",
       "      <th></th>\n",
       "      <th></th>\n",
       "      <th></th>\n",
       "      <th></th>\n",
       "      <th></th>\n",
       "    </tr>\n",
       "  </thead>\n",
       "  <tbody>\n",
       "    <tr>\n",
       "      <th rowspan=\"2\" valign=\"top\">Metagenomic</th>\n",
       "      <th>Best</th>\n",
       "      <td>0.0</td>\n",
       "      <td>14157309.0</td>\n",
       "      <td>767.0</td>\n",
       "      <td>0.0</td>\n",
       "      <td>13672885.0</td>\n",
       "      <td>184.0</td>\n",
       "      <td>97.182958</td>\n",
       "      <td>196786.0</td>\n",
       "      <td>97.286491</td>\n",
       "      <td>917728.0</td>\n",
       "      <td>0.0</td>\n",
       "      <td>0.0</td>\n",
       "      <td>193256.0</td>\n",
       "    </tr>\n",
       "    <tr>\n",
       "      <th>Worst</th>\n",
       "      <td>0.0</td>\n",
       "      <td>13638386.0</td>\n",
       "      <td>2099.0</td>\n",
       "      <td>0.0</td>\n",
       "      <td>13507672.0</td>\n",
       "      <td>762.0</td>\n",
       "      <td>96.805106</td>\n",
       "      <td>91722.0</td>\n",
       "      <td>97.170882</td>\n",
       "      <td>632213.0</td>\n",
       "      <td>2.0</td>\n",
       "      <td>6.0</td>\n",
       "      <td>90987.0</td>\n",
       "    </tr>\n",
       "    <tr>\n",
       "      <th rowspan=\"2\" valign=\"top\">Genomic</th>\n",
       "      <th>Best</th>\n",
       "      <td>0.0</td>\n",
       "      <td>16214591.0</td>\n",
       "      <td>36.0</td>\n",
       "      <td>0.0</td>\n",
       "      <td>13315624.0</td>\n",
       "      <td>21.0</td>\n",
       "      <td>96.406056</td>\n",
       "      <td>351027.0</td>\n",
       "      <td>96.974535</td>\n",
       "      <td>847572.0</td>\n",
       "      <td>0.0</td>\n",
       "      <td>0.0</td>\n",
       "      <td>351027.0</td>\n",
       "    </tr>\n",
       "    <tr>\n",
       "      <th>Worst</th>\n",
       "      <td>0.0</td>\n",
       "      <td>2957060.0</td>\n",
       "      <td>31040.0</td>\n",
       "      <td>0.0</td>\n",
       "      <td>2950393.0</td>\n",
       "      <td>1526.0</td>\n",
       "      <td>77.081486</td>\n",
       "      <td>69361.0</td>\n",
       "      <td>92.228441</td>\n",
       "      <td>263645.0</td>\n",
       "      <td>5.0</td>\n",
       "      <td>10.0</td>\n",
       "      <td>46478.0</td>\n",
       "    </tr>\n",
       "  </tbody>\n",
       "</table>\n",
       "</div>"
      ],
      "text/plain": [
       "                       Ns   basepairs  contigs  filtered_Ns  \\\n",
       "Assembler Type Type                                           \n",
       "Metagenomic    Best   0.0  14157309.0    767.0          0.0   \n",
       "               Worst  0.0  13638386.0   2099.0          0.0   \n",
       "Genomic        Best   0.0  16214591.0     36.0          0.0   \n",
       "               Worst  0.0   2957060.0  31040.0          0.0   \n",
       "\n",
       "                      filtered_basepairs  filtered_contigs  \\\n",
       "Assembler Type Type                                          \n",
       "Metagenomic    Best           13672885.0             184.0   \n",
       "               Worst          13507672.0             762.0   \n",
       "Genomic        Best           13315624.0              21.0   \n",
       "               Worst           2950393.0            1526.0   \n",
       "\n",
       "                      filtered_mapped_reads  filtered_n50  mapped_reads  \\\n",
       "Assembler Type Type                                                       \n",
       "Metagenomic    Best               97.182958      196786.0     97.286491   \n",
       "               Worst              96.805106       91722.0     97.170882   \n",
       "Genomic        Best               96.406056      351027.0     96.974535   \n",
       "               Worst              77.081486       69361.0     92.228441   \n",
       "\n",
       "                      max_contig  misassembled contigs  misassembly events  \\\n",
       "Assembler Type Type                                                          \n",
       "Metagenomic    Best     917728.0                   0.0                 0.0   \n",
       "               Worst    632213.0                   2.0                 6.0   \n",
       "Genomic        Best     847572.0                   0.0                 0.0   \n",
       "               Worst    263645.0                   5.0                10.0   \n",
       "\n",
       "                           n50  \n",
       "Assembler Type Type             \n",
       "Metagenomic    Best   193256.0  \n",
       "               Worst   90987.0  \n",
       "Genomic        Best   351027.0  \n",
       "               Worst   46478.0  "
      ]
     },
     "metadata": {},
     "output_type": "display_data"
    },
    {
     "name": "stdout",
     "output_type": "stream",
     "text": [
      "EMS\n"
     ]
    },
    {
     "data": {
      "text/html": [
       "<div>\n",
       "<style scoped>\n",
       "    .dataframe tbody tr th:only-of-type {\n",
       "        vertical-align: middle;\n",
       "    }\n",
       "\n",
       "    .dataframe tbody tr th {\n",
       "        vertical-align: top;\n",
       "    }\n",
       "\n",
       "    .dataframe thead th {\n",
       "        text-align: right;\n",
       "    }\n",
       "</style>\n",
       "<table border=\"1\" class=\"dataframe\">\n",
       "  <thead>\n",
       "    <tr style=\"text-align: right;\">\n",
       "      <th></th>\n",
       "      <th></th>\n",
       "      <th>Ns</th>\n",
       "      <th>basepairs</th>\n",
       "      <th>contigs</th>\n",
       "      <th>filtered_Ns</th>\n",
       "      <th>filtered_basepairs</th>\n",
       "      <th>filtered_contigs</th>\n",
       "      <th>filtered_mapped_reads</th>\n",
       "      <th>filtered_n50</th>\n",
       "      <th>mapped_reads</th>\n",
       "      <th>max_contig</th>\n",
       "      <th>misassembled contigs</th>\n",
       "      <th>misassembly events</th>\n",
       "      <th>n50</th>\n",
       "    </tr>\n",
       "    <tr>\n",
       "      <th>Assembler Type</th>\n",
       "      <th>Type</th>\n",
       "      <th></th>\n",
       "      <th></th>\n",
       "      <th></th>\n",
       "      <th></th>\n",
       "      <th></th>\n",
       "      <th></th>\n",
       "      <th></th>\n",
       "      <th></th>\n",
       "      <th></th>\n",
       "      <th></th>\n",
       "      <th></th>\n",
       "      <th></th>\n",
       "      <th></th>\n",
       "    </tr>\n",
       "  </thead>\n",
       "  <tbody>\n",
       "    <tr>\n",
       "      <th rowspan=\"2\" valign=\"top\">Metagenomic</th>\n",
       "      <th>Best</th>\n",
       "      <td>0.0</td>\n",
       "      <td>30599129.0</td>\n",
       "      <td>761.0</td>\n",
       "      <td>0.0</td>\n",
       "      <td>30418717.0</td>\n",
       "      <td>365.0</td>\n",
       "      <td>98.647341</td>\n",
       "      <td>208969.0</td>\n",
       "      <td>99.053249</td>\n",
       "      <td>917726.0</td>\n",
       "      <td>1.0</td>\n",
       "      <td>1.0</td>\n",
       "      <td>208969.0</td>\n",
       "    </tr>\n",
       "    <tr>\n",
       "      <th>Worst</th>\n",
       "      <td>0.0</td>\n",
       "      <td>30408932.0</td>\n",
       "      <td>1829.0</td>\n",
       "      <td>0.0</td>\n",
       "      <td>30145929.0</td>\n",
       "      <td>1254.0</td>\n",
       "      <td>97.298997</td>\n",
       "      <td>63178.0</td>\n",
       "      <td>98.642214</td>\n",
       "      <td>468323.0</td>\n",
       "      <td>13.0</td>\n",
       "      <td>22.0</td>\n",
       "      <td>61704.0</td>\n",
       "    </tr>\n",
       "    <tr>\n",
       "      <th rowspan=\"2\" valign=\"top\">Genomic</th>\n",
       "      <th>Best</th>\n",
       "      <td>0.0</td>\n",
       "      <td>30664883.0</td>\n",
       "      <td>656.0</td>\n",
       "      <td>0.0</td>\n",
       "      <td>30354786.0</td>\n",
       "      <td>334.0</td>\n",
       "      <td>98.283354</td>\n",
       "      <td>245050.0</td>\n",
       "      <td>98.700052</td>\n",
       "      <td>1303875.0</td>\n",
       "      <td>0.0</td>\n",
       "      <td>0.0</td>\n",
       "      <td>245050.0</td>\n",
       "    </tr>\n",
       "    <tr>\n",
       "      <th>Worst</th>\n",
       "      <td>0.0</td>\n",
       "      <td>30249132.0</td>\n",
       "      <td>2628.0</td>\n",
       "      <td>0.0</td>\n",
       "      <td>30064811.0</td>\n",
       "      <td>891.0</td>\n",
       "      <td>97.237351</td>\n",
       "      <td>74138.0</td>\n",
       "      <td>97.952533</td>\n",
       "      <td>632013.0</td>\n",
       "      <td>9.0</td>\n",
       "      <td>18.0</td>\n",
       "      <td>73839.0</td>\n",
       "    </tr>\n",
       "  </tbody>\n",
       "</table>\n",
       "</div>"
      ],
      "text/plain": [
       "                       Ns   basepairs  contigs  filtered_Ns  \\\n",
       "Assembler Type Type                                           \n",
       "Metagenomic    Best   0.0  30599129.0    761.0          0.0   \n",
       "               Worst  0.0  30408932.0   1829.0          0.0   \n",
       "Genomic        Best   0.0  30664883.0    656.0          0.0   \n",
       "               Worst  0.0  30249132.0   2628.0          0.0   \n",
       "\n",
       "                      filtered_basepairs  filtered_contigs  \\\n",
       "Assembler Type Type                                          \n",
       "Metagenomic    Best           30418717.0             365.0   \n",
       "               Worst          30145929.0            1254.0   \n",
       "Genomic        Best           30354786.0             334.0   \n",
       "               Worst          30064811.0             891.0   \n",
       "\n",
       "                      filtered_mapped_reads  filtered_n50  mapped_reads  \\\n",
       "Assembler Type Type                                                       \n",
       "Metagenomic    Best               98.647341      208969.0     99.053249   \n",
       "               Worst              97.298997       63178.0     98.642214   \n",
       "Genomic        Best               98.283354      245050.0     98.700052   \n",
       "               Worst              97.237351       74138.0     97.952533   \n",
       "\n",
       "                      max_contig  misassembled contigs  misassembly events  \\\n",
       "Assembler Type Type                                                          \n",
       "Metagenomic    Best     917726.0                   1.0                 1.0   \n",
       "               Worst    468323.0                  13.0                22.0   \n",
       "Genomic        Best    1303875.0                   0.0                 0.0   \n",
       "               Worst    632013.0                   9.0                18.0   \n",
       "\n",
       "                           n50  \n",
       "Assembler Type Type             \n",
       "Metagenomic    Best   208969.0  \n",
       "               Worst   61704.0  \n",
       "Genomic        Best   245050.0  \n",
       "               Worst   73839.0  "
      ]
     },
     "metadata": {},
     "output_type": "display_data"
    },
    {
     "name": "stdout",
     "output_type": "stream",
     "text": [
      "ERR2984773\n"
     ]
    },
    {
     "data": {
      "text/html": [
       "<div>\n",
       "<style scoped>\n",
       "    .dataframe tbody tr th:only-of-type {\n",
       "        vertical-align: middle;\n",
       "    }\n",
       "\n",
       "    .dataframe tbody tr th {\n",
       "        vertical-align: top;\n",
       "    }\n",
       "\n",
       "    .dataframe thead th {\n",
       "        text-align: right;\n",
       "    }\n",
       "</style>\n",
       "<table border=\"1\" class=\"dataframe\">\n",
       "  <thead>\n",
       "    <tr style=\"text-align: right;\">\n",
       "      <th></th>\n",
       "      <th></th>\n",
       "      <th>Ns</th>\n",
       "      <th>basepairs</th>\n",
       "      <th>contigs</th>\n",
       "      <th>filtered_Ns</th>\n",
       "      <th>filtered_basepairs</th>\n",
       "      <th>filtered_contigs</th>\n",
       "      <th>filtered_mapped_reads</th>\n",
       "      <th>filtered_n50</th>\n",
       "      <th>mapped_reads</th>\n",
       "      <th>max_contig</th>\n",
       "      <th>misassembled contigs</th>\n",
       "      <th>misassembly events</th>\n",
       "      <th>n50</th>\n",
       "    </tr>\n",
       "    <tr>\n",
       "      <th>Assembler Type</th>\n",
       "      <th>Type</th>\n",
       "      <th></th>\n",
       "      <th></th>\n",
       "      <th></th>\n",
       "      <th></th>\n",
       "      <th></th>\n",
       "      <th></th>\n",
       "      <th></th>\n",
       "      <th></th>\n",
       "      <th></th>\n",
       "      <th></th>\n",
       "      <th></th>\n",
       "      <th></th>\n",
       "      <th></th>\n",
       "    </tr>\n",
       "  </thead>\n",
       "  <tbody>\n",
       "    <tr>\n",
       "      <th rowspan=\"2\" valign=\"top\">Metagenomic</th>\n",
       "      <th>Best</th>\n",
       "      <td>0.0</td>\n",
       "      <td>32809112.0</td>\n",
       "      <td>5397.0</td>\n",
       "      <td>0.0</td>\n",
       "      <td>30564396.0</td>\n",
       "      <td>761.0</td>\n",
       "      <td>82.834929</td>\n",
       "      <td>149841.0</td>\n",
       "      <td>84.326108</td>\n",
       "      <td>1205839.0</td>\n",
       "      <td>1.0</td>\n",
       "      <td>2.0</td>\n",
       "      <td>102115.0</td>\n",
       "    </tr>\n",
       "    <tr>\n",
       "      <th>Worst</th>\n",
       "      <td>0.0</td>\n",
       "      <td>48964620.0</td>\n",
       "      <td>61644.0</td>\n",
       "      <td>0.0</td>\n",
       "      <td>32021766.0</td>\n",
       "      <td>2654.0</td>\n",
       "      <td>81.309188</td>\n",
       "      <td>29134.0</td>\n",
       "      <td>83.144345</td>\n",
       "      <td>303329.0</td>\n",
       "      <td>15.0</td>\n",
       "      <td>32.0</td>\n",
       "      <td>20993.0</td>\n",
       "    </tr>\n",
       "    <tr>\n",
       "      <th rowspan=\"2\" valign=\"top\">Genomic</th>\n",
       "      <th>Best</th>\n",
       "      <td>0.0</td>\n",
       "      <td>30592960.0</td>\n",
       "      <td>895.0</td>\n",
       "      <td>0.0</td>\n",
       "      <td>30432114.0</td>\n",
       "      <td>425.0</td>\n",
       "      <td>81.598094</td>\n",
       "      <td>191424.0</td>\n",
       "      <td>84.204433</td>\n",
       "      <td>882182.0</td>\n",
       "      <td>0.0</td>\n",
       "      <td>0.0</td>\n",
       "      <td>191424.0</td>\n",
       "    </tr>\n",
       "    <tr>\n",
       "      <th>Worst</th>\n",
       "      <td>0.0</td>\n",
       "      <td>46535940.0</td>\n",
       "      <td>39819.0</td>\n",
       "      <td>0.0</td>\n",
       "      <td>32500826.0</td>\n",
       "      <td>2049.0</td>\n",
       "      <td>80.508554</td>\n",
       "      <td>77870.0</td>\n",
       "      <td>81.254167</td>\n",
       "      <td>446163.0</td>\n",
       "      <td>9.0</td>\n",
       "      <td>18.0</td>\n",
       "      <td>53292.0</td>\n",
       "    </tr>\n",
       "  </tbody>\n",
       "</table>\n",
       "</div>"
      ],
      "text/plain": [
       "                       Ns   basepairs  contigs  filtered_Ns  \\\n",
       "Assembler Type Type                                           \n",
       "Metagenomic    Best   0.0  32809112.0   5397.0          0.0   \n",
       "               Worst  0.0  48964620.0  61644.0          0.0   \n",
       "Genomic        Best   0.0  30592960.0    895.0          0.0   \n",
       "               Worst  0.0  46535940.0  39819.0          0.0   \n",
       "\n",
       "                      filtered_basepairs  filtered_contigs  \\\n",
       "Assembler Type Type                                          \n",
       "Metagenomic    Best           30564396.0             761.0   \n",
       "               Worst          32021766.0            2654.0   \n",
       "Genomic        Best           30432114.0             425.0   \n",
       "               Worst          32500826.0            2049.0   \n",
       "\n",
       "                      filtered_mapped_reads  filtered_n50  mapped_reads  \\\n",
       "Assembler Type Type                                                       \n",
       "Metagenomic    Best               82.834929      149841.0     84.326108   \n",
       "               Worst              81.309188       29134.0     83.144345   \n",
       "Genomic        Best               81.598094      191424.0     84.204433   \n",
       "               Worst              80.508554       77870.0     81.254167   \n",
       "\n",
       "                      max_contig  misassembled contigs  misassembly events  \\\n",
       "Assembler Type Type                                                          \n",
       "Metagenomic    Best    1205839.0                   1.0                 2.0   \n",
       "               Worst    303329.0                  15.0                32.0   \n",
       "Genomic        Best     882182.0                   0.0                 0.0   \n",
       "               Worst    446163.0                   9.0                18.0   \n",
       "\n",
       "                           n50  \n",
       "Assembler Type Type             \n",
       "Metagenomic    Best   102115.0  \n",
       "               Worst   20993.0  \n",
       "Genomic        Best   191424.0  \n",
       "               Worst   53292.0  "
      ]
     },
     "metadata": {},
     "output_type": "display_data"
    },
    {
     "name": "stdout",
     "output_type": "stream",
     "text": [
      "ENN\n"
     ]
    },
    {
     "data": {
      "text/html": [
       "<div>\n",
       "<style scoped>\n",
       "    .dataframe tbody tr th:only-of-type {\n",
       "        vertical-align: middle;\n",
       "    }\n",
       "\n",
       "    .dataframe tbody tr th {\n",
       "        vertical-align: top;\n",
       "    }\n",
       "\n",
       "    .dataframe thead th {\n",
       "        text-align: right;\n",
       "    }\n",
       "</style>\n",
       "<table border=\"1\" class=\"dataframe\">\n",
       "  <thead>\n",
       "    <tr style=\"text-align: right;\">\n",
       "      <th></th>\n",
       "      <th></th>\n",
       "      <th>Ns</th>\n",
       "      <th>basepairs</th>\n",
       "      <th>contigs</th>\n",
       "      <th>filtered_Ns</th>\n",
       "      <th>filtered_basepairs</th>\n",
       "      <th>filtered_contigs</th>\n",
       "      <th>filtered_mapped_reads</th>\n",
       "      <th>filtered_n50</th>\n",
       "      <th>mapped_reads</th>\n",
       "      <th>max_contig</th>\n",
       "      <th>misassembled contigs</th>\n",
       "      <th>misassembly events</th>\n",
       "      <th>n50</th>\n",
       "    </tr>\n",
       "    <tr>\n",
       "      <th>Assembler Type</th>\n",
       "      <th>Type</th>\n",
       "      <th></th>\n",
       "      <th></th>\n",
       "      <th></th>\n",
       "      <th></th>\n",
       "      <th></th>\n",
       "      <th></th>\n",
       "      <th></th>\n",
       "      <th></th>\n",
       "      <th></th>\n",
       "      <th></th>\n",
       "      <th></th>\n",
       "      <th></th>\n",
       "      <th></th>\n",
       "    </tr>\n",
       "  </thead>\n",
       "  <tbody>\n",
       "    <tr>\n",
       "      <th rowspan=\"2\" valign=\"top\">Metagenomic</th>\n",
       "      <th>Best</th>\n",
       "      <td>0.0</td>\n",
       "      <td>30545419.0</td>\n",
       "      <td>640.0</td>\n",
       "      <td>0.0</td>\n",
       "      <td>30420265.0</td>\n",
       "      <td>359.0</td>\n",
       "      <td>99.388110</td>\n",
       "      <td>238611.0</td>\n",
       "      <td>99.693845</td>\n",
       "      <td>1036942.0</td>\n",
       "      <td>2.0</td>\n",
       "      <td>6.0</td>\n",
       "      <td>238611.0</td>\n",
       "    </tr>\n",
       "    <tr>\n",
       "      <th>Worst</th>\n",
       "      <td>0.0</td>\n",
       "      <td>30390566.0</td>\n",
       "      <td>1822.0</td>\n",
       "      <td>0.0</td>\n",
       "      <td>30130413.0</td>\n",
       "      <td>1279.0</td>\n",
       "      <td>97.922866</td>\n",
       "      <td>65108.0</td>\n",
       "      <td>99.340277</td>\n",
       "      <td>585610.0</td>\n",
       "      <td>18.0</td>\n",
       "      <td>36.0</td>\n",
       "      <td>63725.0</td>\n",
       "    </tr>\n",
       "    <tr>\n",
       "      <th rowspan=\"2\" valign=\"top\">Genomic</th>\n",
       "      <th>Best</th>\n",
       "      <td>0.0</td>\n",
       "      <td>30442718.0</td>\n",
       "      <td>936.0</td>\n",
       "      <td>0.0</td>\n",
       "      <td>30276227.0</td>\n",
       "      <td>443.0</td>\n",
       "      <td>98.561253</td>\n",
       "      <td>208953.0</td>\n",
       "      <td>99.419440</td>\n",
       "      <td>850138.0</td>\n",
       "      <td>0.0</td>\n",
       "      <td>0.0</td>\n",
       "      <td>204481.0</td>\n",
       "    </tr>\n",
       "    <tr>\n",
       "      <th>Worst</th>\n",
       "      <td>0.0</td>\n",
       "      <td>30110758.0</td>\n",
       "      <td>2322.0</td>\n",
       "      <td>0.0</td>\n",
       "      <td>29835112.0</td>\n",
       "      <td>1726.0</td>\n",
       "      <td>97.424467</td>\n",
       "      <td>43168.0</td>\n",
       "      <td>98.313391</td>\n",
       "      <td>630384.0</td>\n",
       "      <td>10.0</td>\n",
       "      <td>19.0</td>\n",
       "      <td>42115.0</td>\n",
       "    </tr>\n",
       "  </tbody>\n",
       "</table>\n",
       "</div>"
      ],
      "text/plain": [
       "                       Ns   basepairs  contigs  filtered_Ns  \\\n",
       "Assembler Type Type                                           \n",
       "Metagenomic    Best   0.0  30545419.0    640.0          0.0   \n",
       "               Worst  0.0  30390566.0   1822.0          0.0   \n",
       "Genomic        Best   0.0  30442718.0    936.0          0.0   \n",
       "               Worst  0.0  30110758.0   2322.0          0.0   \n",
       "\n",
       "                      filtered_basepairs  filtered_contigs  \\\n",
       "Assembler Type Type                                          \n",
       "Metagenomic    Best           30420265.0             359.0   \n",
       "               Worst          30130413.0            1279.0   \n",
       "Genomic        Best           30276227.0             443.0   \n",
       "               Worst          29835112.0            1726.0   \n",
       "\n",
       "                      filtered_mapped_reads  filtered_n50  mapped_reads  \\\n",
       "Assembler Type Type                                                       \n",
       "Metagenomic    Best               99.388110      238611.0     99.693845   \n",
       "               Worst              97.922866       65108.0     99.340277   \n",
       "Genomic        Best               98.561253      208953.0     99.419440   \n",
       "               Worst              97.424467       43168.0     98.313391   \n",
       "\n",
       "                      max_contig  misassembled contigs  misassembly events  \\\n",
       "Assembler Type Type                                                          \n",
       "Metagenomic    Best    1036942.0                   2.0                 6.0   \n",
       "               Worst    585610.0                  18.0                36.0   \n",
       "Genomic        Best     850138.0                   0.0                 0.0   \n",
       "               Worst    630384.0                  10.0                19.0   \n",
       "\n",
       "                           n50  \n",
       "Assembler Type Type             \n",
       "Metagenomic    Best   238611.0  \n",
       "               Worst   63725.0  \n",
       "Genomic        Best   204481.0  \n",
       "               Worst   42115.0  "
      ]
     },
     "metadata": {},
     "output_type": "display_data"
    },
    {
     "data": {
      "text/html": [
       "<div>\n",
       "<style scoped>\n",
       "    .dataframe tbody tr th:only-of-type {\n",
       "        vertical-align: middle;\n",
       "    }\n",
       "\n",
       "    .dataframe tbody tr th {\n",
       "        vertical-align: top;\n",
       "    }\n",
       "\n",
       "    .dataframe thead th {\n",
       "        text-align: right;\n",
       "    }\n",
       "</style>\n",
       "<table border=\"1\" class=\"dataframe\">\n",
       "  <thead>\n",
       "    <tr style=\"text-align: right;\">\n",
       "      <th></th>\n",
       "      <th></th>\n",
       "      <th></th>\n",
       "      <th>Ns</th>\n",
       "      <th>basepairs</th>\n",
       "      <th>contigs</th>\n",
       "      <th>filtered_Ns</th>\n",
       "      <th>filtered_basepairs</th>\n",
       "      <th>filtered_contigs</th>\n",
       "      <th>filtered_mapped_reads</th>\n",
       "      <th>filtered_n50</th>\n",
       "      <th>mapped_reads</th>\n",
       "      <th>max_contig</th>\n",
       "      <th>misassembled contigs</th>\n",
       "      <th>misassembly events</th>\n",
       "      <th>n50</th>\n",
       "    </tr>\n",
       "    <tr>\n",
       "      <th>Sample</th>\n",
       "      <th>Assembler Type</th>\n",
       "      <th>Type</th>\n",
       "      <th></th>\n",
       "      <th></th>\n",
       "      <th></th>\n",
       "      <th></th>\n",
       "      <th></th>\n",
       "      <th></th>\n",
       "      <th></th>\n",
       "      <th></th>\n",
       "      <th></th>\n",
       "      <th></th>\n",
       "      <th></th>\n",
       "      <th></th>\n",
       "      <th></th>\n",
       "    </tr>\n",
       "  </thead>\n",
       "  <tbody>\n",
       "    <tr>\n",
       "      <th rowspan=\"4\" valign=\"top\">LNN</th>\n",
       "      <th rowspan=\"2\" valign=\"top\">Metagenomic</th>\n",
       "      <th>Best</th>\n",
       "      <td>0.0</td>\n",
       "      <td>15514698.0</td>\n",
       "      <td>693.0</td>\n",
       "      <td>0.0</td>\n",
       "      <td>13704539.0</td>\n",
       "      <td>139.0</td>\n",
       "      <td>99.686868</td>\n",
       "      <td>239185.0</td>\n",
       "      <td>99.798003</td>\n",
       "      <td>1080013.0</td>\n",
       "      <td>1.0</td>\n",
       "      <td>2.0</td>\n",
       "      <td>220609.0</td>\n",
       "    </tr>\n",
       "    <tr>\n",
       "      <th>Worst</th>\n",
       "      <td>0.0</td>\n",
       "      <td>13910838.0</td>\n",
       "      <td>6700.0</td>\n",
       "      <td>0.0</td>\n",
       "      <td>13642314.0</td>\n",
       "      <td>261.0</td>\n",
       "      <td>98.807171</td>\n",
       "      <td>108043.0</td>\n",
       "      <td>99.694877</td>\n",
       "      <td>585610.0</td>\n",
       "      <td>2.0</td>\n",
       "      <td>3.0</td>\n",
       "      <td>105808.0</td>\n",
       "    </tr>\n",
       "    <tr>\n",
       "      <th rowspan=\"2\" valign=\"top\">Genomic</th>\n",
       "      <th>Best</th>\n",
       "      <td>0.0</td>\n",
       "      <td>15606257.0</td>\n",
       "      <td>185.0</td>\n",
       "      <td>0.0</td>\n",
       "      <td>13640340.0</td>\n",
       "      <td>112.0</td>\n",
       "      <td>99.591855</td>\n",
       "      <td>242687.0</td>\n",
       "      <td>99.713909</td>\n",
       "      <td>847534.0</td>\n",
       "      <td>0.0</td>\n",
       "      <td>0.0</td>\n",
       "      <td>242687.0</td>\n",
       "    </tr>\n",
       "    <tr>\n",
       "      <th>Worst</th>\n",
       "      <td>0.0</td>\n",
       "      <td>8202941.0</td>\n",
       "      <td>9514.0</td>\n",
       "      <td>0.0</td>\n",
       "      <td>4470092.0</td>\n",
       "      <td>1433.0</td>\n",
       "      <td>91.766425</td>\n",
       "      <td>7385.0</td>\n",
       "      <td>95.101330</td>\n",
       "      <td>59272.0</td>\n",
       "      <td>12.0</td>\n",
       "      <td>23.0</td>\n",
       "      <td>1155.0</td>\n",
       "    </tr>\n",
       "    <tr>\n",
       "      <th rowspan=\"4\" valign=\"top\">ERR2935805</th>\n",
       "      <th rowspan=\"2\" valign=\"top\">Metagenomic</th>\n",
       "      <th>Best</th>\n",
       "      <td>0.0</td>\n",
       "      <td>27822010.0</td>\n",
       "      <td>6776.0</td>\n",
       "      <td>0.0</td>\n",
       "      <td>18792639.0</td>\n",
       "      <td>603.0</td>\n",
       "      <td>89.502391</td>\n",
       "      <td>210993.0</td>\n",
       "      <td>89.926254</td>\n",
       "      <td>768410.0</td>\n",
       "      <td>0.0</td>\n",
       "      <td>0.0</td>\n",
       "      <td>82249.0</td>\n",
       "    </tr>\n",
       "    <tr>\n",
       "      <th>Worst</th>\n",
       "      <td>0.0</td>\n",
       "      <td>17126362.0</td>\n",
       "      <td>26282.0</td>\n",
       "      <td>0.0</td>\n",
       "      <td>13891328.0</td>\n",
       "      <td>3392.0</td>\n",
       "      <td>88.896022</td>\n",
       "      <td>87983.0</td>\n",
       "      <td>89.404535</td>\n",
       "      <td>542997.0</td>\n",
       "      <td>3.0</td>\n",
       "      <td>7.0</td>\n",
       "      <td>3674.0</td>\n",
       "    </tr>\n",
       "    <tr>\n",
       "      <th rowspan=\"2\" valign=\"top\">Genomic</th>\n",
       "      <th>Best</th>\n",
       "      <td>0.0</td>\n",
       "      <td>29517365.0</td>\n",
       "      <td>205.0</td>\n",
       "      <td>0.0</td>\n",
       "      <td>19595813.0</td>\n",
       "      <td>144.0</td>\n",
       "      <td>87.475243</td>\n",
       "      <td>256884.0</td>\n",
       "      <td>88.056194</td>\n",
       "      <td>847683.0</td>\n",
       "      <td>0.0</td>\n",
       "      <td>0.0</td>\n",
       "      <td>256884.0</td>\n",
       "    </tr>\n",
       "    <tr>\n",
       "      <th>Worst</th>\n",
       "      <td>0.0</td>\n",
       "      <td>8818742.0</td>\n",
       "      <td>36214.0</td>\n",
       "      <td>0.0</td>\n",
       "      <td>5801439.0</td>\n",
       "      <td>4999.0</td>\n",
       "      <td>57.929408</td>\n",
       "      <td>2148.0</td>\n",
       "      <td>78.662557</td>\n",
       "      <td>29155.0</td>\n",
       "      <td>572.0</td>\n",
       "      <td>1148.0</td>\n",
       "      <td>1431.0</td>\n",
       "    </tr>\n",
       "    <tr>\n",
       "      <th rowspan=\"4\" valign=\"top\">LHS</th>\n",
       "      <th rowspan=\"2\" valign=\"top\">Metagenomic</th>\n",
       "      <th>Best</th>\n",
       "      <td>0.0</td>\n",
       "      <td>14157309.0</td>\n",
       "      <td>767.0</td>\n",
       "      <td>0.0</td>\n",
       "      <td>13672885.0</td>\n",
       "      <td>184.0</td>\n",
       "      <td>97.182958</td>\n",
       "      <td>196786.0</td>\n",
       "      <td>97.286491</td>\n",
       "      <td>917728.0</td>\n",
       "      <td>0.0</td>\n",
       "      <td>0.0</td>\n",
       "      <td>193256.0</td>\n",
       "    </tr>\n",
       "    <tr>\n",
       "      <th>Worst</th>\n",
       "      <td>0.0</td>\n",
       "      <td>13638386.0</td>\n",
       "      <td>2099.0</td>\n",
       "      <td>0.0</td>\n",
       "      <td>13507672.0</td>\n",
       "      <td>762.0</td>\n",
       "      <td>96.805106</td>\n",
       "      <td>91722.0</td>\n",
       "      <td>97.170882</td>\n",
       "      <td>632213.0</td>\n",
       "      <td>2.0</td>\n",
       "      <td>6.0</td>\n",
       "      <td>90987.0</td>\n",
       "    </tr>\n",
       "    <tr>\n",
       "      <th rowspan=\"2\" valign=\"top\">Genomic</th>\n",
       "      <th>Best</th>\n",
       "      <td>0.0</td>\n",
       "      <td>16214591.0</td>\n",
       "      <td>36.0</td>\n",
       "      <td>0.0</td>\n",
       "      <td>13315624.0</td>\n",
       "      <td>21.0</td>\n",
       "      <td>96.406056</td>\n",
       "      <td>351027.0</td>\n",
       "      <td>96.974535</td>\n",
       "      <td>847572.0</td>\n",
       "      <td>0.0</td>\n",
       "      <td>0.0</td>\n",
       "      <td>351027.0</td>\n",
       "    </tr>\n",
       "    <tr>\n",
       "      <th>Worst</th>\n",
       "      <td>0.0</td>\n",
       "      <td>2957060.0</td>\n",
       "      <td>31040.0</td>\n",
       "      <td>0.0</td>\n",
       "      <td>2950393.0</td>\n",
       "      <td>1526.0</td>\n",
       "      <td>77.081486</td>\n",
       "      <td>69361.0</td>\n",
       "      <td>92.228441</td>\n",
       "      <td>263645.0</td>\n",
       "      <td>5.0</td>\n",
       "      <td>10.0</td>\n",
       "      <td>46478.0</td>\n",
       "    </tr>\n",
       "    <tr>\n",
       "      <th rowspan=\"4\" valign=\"top\">EMS</th>\n",
       "      <th rowspan=\"2\" valign=\"top\">Metagenomic</th>\n",
       "      <th>Best</th>\n",
       "      <td>0.0</td>\n",
       "      <td>30599129.0</td>\n",
       "      <td>761.0</td>\n",
       "      <td>0.0</td>\n",
       "      <td>30418717.0</td>\n",
       "      <td>365.0</td>\n",
       "      <td>98.647341</td>\n",
       "      <td>208969.0</td>\n",
       "      <td>99.053249</td>\n",
       "      <td>917726.0</td>\n",
       "      <td>1.0</td>\n",
       "      <td>1.0</td>\n",
       "      <td>208969.0</td>\n",
       "    </tr>\n",
       "    <tr>\n",
       "      <th>Worst</th>\n",
       "      <td>0.0</td>\n",
       "      <td>30408932.0</td>\n",
       "      <td>1829.0</td>\n",
       "      <td>0.0</td>\n",
       "      <td>30145929.0</td>\n",
       "      <td>1254.0</td>\n",
       "      <td>97.298997</td>\n",
       "      <td>63178.0</td>\n",
       "      <td>98.642214</td>\n",
       "      <td>468323.0</td>\n",
       "      <td>13.0</td>\n",
       "      <td>22.0</td>\n",
       "      <td>61704.0</td>\n",
       "    </tr>\n",
       "    <tr>\n",
       "      <th rowspan=\"2\" valign=\"top\">Genomic</th>\n",
       "      <th>Best</th>\n",
       "      <td>0.0</td>\n",
       "      <td>30664883.0</td>\n",
       "      <td>656.0</td>\n",
       "      <td>0.0</td>\n",
       "      <td>30354786.0</td>\n",
       "      <td>334.0</td>\n",
       "      <td>98.283354</td>\n",
       "      <td>245050.0</td>\n",
       "      <td>98.700052</td>\n",
       "      <td>1303875.0</td>\n",
       "      <td>0.0</td>\n",
       "      <td>0.0</td>\n",
       "      <td>245050.0</td>\n",
       "    </tr>\n",
       "    <tr>\n",
       "      <th>Worst</th>\n",
       "      <td>0.0</td>\n",
       "      <td>30249132.0</td>\n",
       "      <td>2628.0</td>\n",
       "      <td>0.0</td>\n",
       "      <td>30064811.0</td>\n",
       "      <td>891.0</td>\n",
       "      <td>97.237351</td>\n",
       "      <td>74138.0</td>\n",
       "      <td>97.952533</td>\n",
       "      <td>632013.0</td>\n",
       "      <td>9.0</td>\n",
       "      <td>18.0</td>\n",
       "      <td>73839.0</td>\n",
       "    </tr>\n",
       "    <tr>\n",
       "      <th rowspan=\"4\" valign=\"top\">ERR2984773</th>\n",
       "      <th rowspan=\"2\" valign=\"top\">Metagenomic</th>\n",
       "      <th>Best</th>\n",
       "      <td>0.0</td>\n",
       "      <td>32809112.0</td>\n",
       "      <td>5397.0</td>\n",
       "      <td>0.0</td>\n",
       "      <td>30564396.0</td>\n",
       "      <td>761.0</td>\n",
       "      <td>82.834929</td>\n",
       "      <td>149841.0</td>\n",
       "      <td>84.326108</td>\n",
       "      <td>1205839.0</td>\n",
       "      <td>1.0</td>\n",
       "      <td>2.0</td>\n",
       "      <td>102115.0</td>\n",
       "    </tr>\n",
       "    <tr>\n",
       "      <th>Worst</th>\n",
       "      <td>0.0</td>\n",
       "      <td>48964620.0</td>\n",
       "      <td>61644.0</td>\n",
       "      <td>0.0</td>\n",
       "      <td>32021766.0</td>\n",
       "      <td>2654.0</td>\n",
       "      <td>81.309188</td>\n",
       "      <td>29134.0</td>\n",
       "      <td>83.144345</td>\n",
       "      <td>303329.0</td>\n",
       "      <td>15.0</td>\n",
       "      <td>32.0</td>\n",
       "      <td>20993.0</td>\n",
       "    </tr>\n",
       "    <tr>\n",
       "      <th rowspan=\"2\" valign=\"top\">Genomic</th>\n",
       "      <th>Best</th>\n",
       "      <td>0.0</td>\n",
       "      <td>30592960.0</td>\n",
       "      <td>895.0</td>\n",
       "      <td>0.0</td>\n",
       "      <td>30432114.0</td>\n",
       "      <td>425.0</td>\n",
       "      <td>81.598094</td>\n",
       "      <td>191424.0</td>\n",
       "      <td>84.204433</td>\n",
       "      <td>882182.0</td>\n",
       "      <td>0.0</td>\n",
       "      <td>0.0</td>\n",
       "      <td>191424.0</td>\n",
       "    </tr>\n",
       "    <tr>\n",
       "      <th>Worst</th>\n",
       "      <td>0.0</td>\n",
       "      <td>46535940.0</td>\n",
       "      <td>39819.0</td>\n",
       "      <td>0.0</td>\n",
       "      <td>32500826.0</td>\n",
       "      <td>2049.0</td>\n",
       "      <td>80.508554</td>\n",
       "      <td>77870.0</td>\n",
       "      <td>81.254167</td>\n",
       "      <td>446163.0</td>\n",
       "      <td>9.0</td>\n",
       "      <td>18.0</td>\n",
       "      <td>53292.0</td>\n",
       "    </tr>\n",
       "    <tr>\n",
       "      <th rowspan=\"4\" valign=\"top\">ENN</th>\n",
       "      <th rowspan=\"2\" valign=\"top\">Metagenomic</th>\n",
       "      <th>Best</th>\n",
       "      <td>0.0</td>\n",
       "      <td>30545419.0</td>\n",
       "      <td>640.0</td>\n",
       "      <td>0.0</td>\n",
       "      <td>30420265.0</td>\n",
       "      <td>359.0</td>\n",
       "      <td>99.388110</td>\n",
       "      <td>238611.0</td>\n",
       "      <td>99.693845</td>\n",
       "      <td>1036942.0</td>\n",
       "      <td>2.0</td>\n",
       "      <td>6.0</td>\n",
       "      <td>238611.0</td>\n",
       "    </tr>\n",
       "    <tr>\n",
       "      <th>Worst</th>\n",
       "      <td>0.0</td>\n",
       "      <td>30390566.0</td>\n",
       "      <td>1822.0</td>\n",
       "      <td>0.0</td>\n",
       "      <td>30130413.0</td>\n",
       "      <td>1279.0</td>\n",
       "      <td>97.922866</td>\n",
       "      <td>65108.0</td>\n",
       "      <td>99.340277</td>\n",
       "      <td>585610.0</td>\n",
       "      <td>18.0</td>\n",
       "      <td>36.0</td>\n",
       "      <td>63725.0</td>\n",
       "    </tr>\n",
       "    <tr>\n",
       "      <th rowspan=\"2\" valign=\"top\">Genomic</th>\n",
       "      <th>Best</th>\n",
       "      <td>0.0</td>\n",
       "      <td>30442718.0</td>\n",
       "      <td>936.0</td>\n",
       "      <td>0.0</td>\n",
       "      <td>30276227.0</td>\n",
       "      <td>443.0</td>\n",
       "      <td>98.561253</td>\n",
       "      <td>208953.0</td>\n",
       "      <td>99.419440</td>\n",
       "      <td>850138.0</td>\n",
       "      <td>0.0</td>\n",
       "      <td>0.0</td>\n",
       "      <td>204481.0</td>\n",
       "    </tr>\n",
       "    <tr>\n",
       "      <th>Worst</th>\n",
       "      <td>0.0</td>\n",
       "      <td>30110758.0</td>\n",
       "      <td>2322.0</td>\n",
       "      <td>0.0</td>\n",
       "      <td>29835112.0</td>\n",
       "      <td>1726.0</td>\n",
       "      <td>97.424467</td>\n",
       "      <td>43168.0</td>\n",
       "      <td>98.313391</td>\n",
       "      <td>630384.0</td>\n",
       "      <td>10.0</td>\n",
       "      <td>19.0</td>\n",
       "      <td>42115.0</td>\n",
       "    </tr>\n",
       "  </tbody>\n",
       "</table>\n",
       "</div>"
      ],
      "text/plain": [
       "                                  Ns   basepairs  contigs  filtered_Ns  \\\n",
       "Sample     Assembler Type Type                                           \n",
       "LNN        Metagenomic    Best   0.0  15514698.0    693.0          0.0   \n",
       "                          Worst  0.0  13910838.0   6700.0          0.0   \n",
       "           Genomic        Best   0.0  15606257.0    185.0          0.0   \n",
       "                          Worst  0.0   8202941.0   9514.0          0.0   \n",
       "ERR2935805 Metagenomic    Best   0.0  27822010.0   6776.0          0.0   \n",
       "                          Worst  0.0  17126362.0  26282.0          0.0   \n",
       "           Genomic        Best   0.0  29517365.0    205.0          0.0   \n",
       "                          Worst  0.0   8818742.0  36214.0          0.0   \n",
       "LHS        Metagenomic    Best   0.0  14157309.0    767.0          0.0   \n",
       "                          Worst  0.0  13638386.0   2099.0          0.0   \n",
       "           Genomic        Best   0.0  16214591.0     36.0          0.0   \n",
       "                          Worst  0.0   2957060.0  31040.0          0.0   \n",
       "EMS        Metagenomic    Best   0.0  30599129.0    761.0          0.0   \n",
       "                          Worst  0.0  30408932.0   1829.0          0.0   \n",
       "           Genomic        Best   0.0  30664883.0    656.0          0.0   \n",
       "                          Worst  0.0  30249132.0   2628.0          0.0   \n",
       "ERR2984773 Metagenomic    Best   0.0  32809112.0   5397.0          0.0   \n",
       "                          Worst  0.0  48964620.0  61644.0          0.0   \n",
       "           Genomic        Best   0.0  30592960.0    895.0          0.0   \n",
       "                          Worst  0.0  46535940.0  39819.0          0.0   \n",
       "ENN        Metagenomic    Best   0.0  30545419.0    640.0          0.0   \n",
       "                          Worst  0.0  30390566.0   1822.0          0.0   \n",
       "           Genomic        Best   0.0  30442718.0    936.0          0.0   \n",
       "                          Worst  0.0  30110758.0   2322.0          0.0   \n",
       "\n",
       "                                 filtered_basepairs  filtered_contigs  \\\n",
       "Sample     Assembler Type Type                                          \n",
       "LNN        Metagenomic    Best           13704539.0             139.0   \n",
       "                          Worst          13642314.0             261.0   \n",
       "           Genomic        Best           13640340.0             112.0   \n",
       "                          Worst           4470092.0            1433.0   \n",
       "ERR2935805 Metagenomic    Best           18792639.0             603.0   \n",
       "                          Worst          13891328.0            3392.0   \n",
       "           Genomic        Best           19595813.0             144.0   \n",
       "                          Worst           5801439.0            4999.0   \n",
       "LHS        Metagenomic    Best           13672885.0             184.0   \n",
       "                          Worst          13507672.0             762.0   \n",
       "           Genomic        Best           13315624.0              21.0   \n",
       "                          Worst           2950393.0            1526.0   \n",
       "EMS        Metagenomic    Best           30418717.0             365.0   \n",
       "                          Worst          30145929.0            1254.0   \n",
       "           Genomic        Best           30354786.0             334.0   \n",
       "                          Worst          30064811.0             891.0   \n",
       "ERR2984773 Metagenomic    Best           30564396.0             761.0   \n",
       "                          Worst          32021766.0            2654.0   \n",
       "           Genomic        Best           30432114.0             425.0   \n",
       "                          Worst          32500826.0            2049.0   \n",
       "ENN        Metagenomic    Best           30420265.0             359.0   \n",
       "                          Worst          30130413.0            1279.0   \n",
       "           Genomic        Best           30276227.0             443.0   \n",
       "                          Worst          29835112.0            1726.0   \n",
       "\n",
       "                                 filtered_mapped_reads  filtered_n50  \\\n",
       "Sample     Assembler Type Type                                         \n",
       "LNN        Metagenomic    Best               99.686868      239185.0   \n",
       "                          Worst              98.807171      108043.0   \n",
       "           Genomic        Best               99.591855      242687.0   \n",
       "                          Worst              91.766425        7385.0   \n",
       "ERR2935805 Metagenomic    Best               89.502391      210993.0   \n",
       "                          Worst              88.896022       87983.0   \n",
       "           Genomic        Best               87.475243      256884.0   \n",
       "                          Worst              57.929408        2148.0   \n",
       "LHS        Metagenomic    Best               97.182958      196786.0   \n",
       "                          Worst              96.805106       91722.0   \n",
       "           Genomic        Best               96.406056      351027.0   \n",
       "                          Worst              77.081486       69361.0   \n",
       "EMS        Metagenomic    Best               98.647341      208969.0   \n",
       "                          Worst              97.298997       63178.0   \n",
       "           Genomic        Best               98.283354      245050.0   \n",
       "                          Worst              97.237351       74138.0   \n",
       "ERR2984773 Metagenomic    Best               82.834929      149841.0   \n",
       "                          Worst              81.309188       29134.0   \n",
       "           Genomic        Best               81.598094      191424.0   \n",
       "                          Worst              80.508554       77870.0   \n",
       "ENN        Metagenomic    Best               99.388110      238611.0   \n",
       "                          Worst              97.922866       65108.0   \n",
       "           Genomic        Best               98.561253      208953.0   \n",
       "                          Worst              97.424467       43168.0   \n",
       "\n",
       "                                 mapped_reads  max_contig  \\\n",
       "Sample     Assembler Type Type                              \n",
       "LNN        Metagenomic    Best      99.798003   1080013.0   \n",
       "                          Worst     99.694877    585610.0   \n",
       "           Genomic        Best      99.713909    847534.0   \n",
       "                          Worst     95.101330     59272.0   \n",
       "ERR2935805 Metagenomic    Best      89.926254    768410.0   \n",
       "                          Worst     89.404535    542997.0   \n",
       "           Genomic        Best      88.056194    847683.0   \n",
       "                          Worst     78.662557     29155.0   \n",
       "LHS        Metagenomic    Best      97.286491    917728.0   \n",
       "                          Worst     97.170882    632213.0   \n",
       "           Genomic        Best      96.974535    847572.0   \n",
       "                          Worst     92.228441    263645.0   \n",
       "EMS        Metagenomic    Best      99.053249    917726.0   \n",
       "                          Worst     98.642214    468323.0   \n",
       "           Genomic        Best      98.700052   1303875.0   \n",
       "                          Worst     97.952533    632013.0   \n",
       "ERR2984773 Metagenomic    Best      84.326108   1205839.0   \n",
       "                          Worst     83.144345    303329.0   \n",
       "           Genomic        Best      84.204433    882182.0   \n",
       "                          Worst     81.254167    446163.0   \n",
       "ENN        Metagenomic    Best      99.693845   1036942.0   \n",
       "                          Worst     99.340277    585610.0   \n",
       "           Genomic        Best      99.419440    850138.0   \n",
       "                          Worst     98.313391    630384.0   \n",
       "\n",
       "                                 misassembled contigs  misassembly events  \\\n",
       "Sample     Assembler Type Type                                              \n",
       "LNN        Metagenomic    Best                    1.0                 2.0   \n",
       "                          Worst                   2.0                 3.0   \n",
       "           Genomic        Best                    0.0                 0.0   \n",
       "                          Worst                  12.0                23.0   \n",
       "ERR2935805 Metagenomic    Best                    0.0                 0.0   \n",
       "                          Worst                   3.0                 7.0   \n",
       "           Genomic        Best                    0.0                 0.0   \n",
       "                          Worst                 572.0              1148.0   \n",
       "LHS        Metagenomic    Best                    0.0                 0.0   \n",
       "                          Worst                   2.0                 6.0   \n",
       "           Genomic        Best                    0.0                 0.0   \n",
       "                          Worst                   5.0                10.0   \n",
       "EMS        Metagenomic    Best                    1.0                 1.0   \n",
       "                          Worst                  13.0                22.0   \n",
       "           Genomic        Best                    0.0                 0.0   \n",
       "                          Worst                   9.0                18.0   \n",
       "ERR2984773 Metagenomic    Best                    1.0                 2.0   \n",
       "                          Worst                  15.0                32.0   \n",
       "           Genomic        Best                    0.0                 0.0   \n",
       "                          Worst                   9.0                18.0   \n",
       "ENN        Metagenomic    Best                    2.0                 6.0   \n",
       "                          Worst                  18.0                36.0   \n",
       "           Genomic        Best                    0.0                 0.0   \n",
       "                          Worst                  10.0                19.0   \n",
       "\n",
       "                                      n50  \n",
       "Sample     Assembler Type Type             \n",
       "LNN        Metagenomic    Best   220609.0  \n",
       "                          Worst  105808.0  \n",
       "           Genomic        Best   242687.0  \n",
       "                          Worst    1155.0  \n",
       "ERR2935805 Metagenomic    Best    82249.0  \n",
       "                          Worst    3674.0  \n",
       "           Genomic        Best   256884.0  \n",
       "                          Worst    1431.0  \n",
       "LHS        Metagenomic    Best   193256.0  \n",
       "                          Worst   90987.0  \n",
       "           Genomic        Best   351027.0  \n",
       "                          Worst   46478.0  \n",
       "EMS        Metagenomic    Best   208969.0  \n",
       "                          Worst   61704.0  \n",
       "           Genomic        Best   245050.0  \n",
       "                          Worst   73839.0  \n",
       "ERR2984773 Metagenomic    Best   102115.0  \n",
       "                          Worst   20993.0  \n",
       "           Genomic        Best   191424.0  \n",
       "                          Worst   53292.0  \n",
       "ENN        Metagenomic    Best   238611.0  \n",
       "                          Worst   63725.0  \n",
       "           Genomic        Best   204481.0  \n",
       "                          Worst   42115.0  "
      ]
     },
     "metadata": {},
     "output_type": "display_data"
    }
   ],
   "source": [
    "best_stats_dfs = []\n",
    "\n",
    "all_data = pd.DataFrame()\n",
    "\n",
    "for sample in global_pipeline_metrics_df['sample'].unique():\n",
    "    print(sample)\n",
    "    best_stats_per_assembler = pd.DataFrame()\n",
    "\n",
    "    for assembly_type in global_pipeline_metrics_df['type'].unique():\n",
    "        \n",
    "        best_row = {'Assembler Type': assembly_type, \"Type\": \"Best\"}\n",
    "        worst_row = {'Assembler Type': assembly_type, \"Type\": \"Worst\"}\n",
    "        \n",
    "        describe_df = global_pipeline_metrics_df[(global_pipeline_metrics_df['type'] == assembly_type) & (global_pipeline_metrics_df['sample'] == sample)].describe()\n",
    "\n",
    "        for column in describe_df.columns:\n",
    "            mean = describe_df.loc['mean',column]\n",
    "            minimum = describe_df.loc['min',column]\n",
    "            maximum = describe_df.loc['max',column]\n",
    "                        \n",
    "            if \"basepairs\" in column:\n",
    "                target = 30946587\n",
    "                best_row[column] = min(list(global_pipeline_metrics_df[column][(global_pipeline_metrics_df['type'] == assembly_type) & (global_pipeline_metrics_df['sample'] == sample)]), key=lambda x:abs(x-target))\n",
    "                worst_row[column] = max(list(global_pipeline_metrics_df[column][(global_pipeline_metrics_df['type'] == assembly_type) & (global_pipeline_metrics_df['sample'] == sample)]), key=lambda x:abs(x-target))\n",
    "\n",
    "            elif column in best_min:\n",
    "                best_row[column] = minimum\n",
    "                worst_row[column] = maximum\n",
    "            else:\n",
    "                best_row[column] = maximum\n",
    "                worst_row[column] = minimum\n",
    "                \n",
    "        best_stats_per_assembler=best_stats_per_assembler.append(best_row, ignore_index=True)\n",
    "        best_stats_per_assembler=best_stats_per_assembler.append(worst_row, ignore_index=True)\n",
    "\n",
    "        best_row['Sample'] = sample\n",
    "        worst_row['Sample'] = sample\n",
    "        all_data = all_data.append(best_row, ignore_index=True)\n",
    "        all_data = all_data.append(worst_row, ignore_index=True)\n",
    "    \n",
    "    best_stats_per_assembler = best_stats_per_assembler.set_index(['Assembler Type', 'Type'])\n",
    "    display(best_stats_per_assembler)\n",
    "    best_stats_per_assembler.to_csv(\"Tables/Results/Best Global metrics per assembler type multiple kmer - {}.csv\".format(sample))\n",
    "    best_stats_dfs.append([sample, best_stats_per_assembler])\n",
    "\n",
    "all_data = all_data.set_index(['Sample', 'Assembler Type', 'Type'])\n",
    "display(all_data)\n",
    "all_data.to_csv(\"Tables/Best Global metrics per assembler type multiple kmer\")"
   ]
  },
  {
   "cell_type": "code",
   "execution_count": 34,
   "id": "4cb6e698",
   "metadata": {
    "scrolled": false
   },
   "outputs": [
    {
     "name": "stdout",
     "output_type": "stream",
     "text": [
      "LNN\n"
     ]
    },
    {
     "name": "stderr",
     "output_type": "stream",
     "text": [
      "/tmp/ipykernel_3232/2235000612.py:20: RuntimeWarning:\n",
      "\n",
      "invalid value encountered in double_scalars\n",
      "\n"
     ]
    },
    {
     "data": {
      "text/html": [
       "<div>\n",
       "<style scoped>\n",
       "    .dataframe tbody tr th:only-of-type {\n",
       "        vertical-align: middle;\n",
       "    }\n",
       "\n",
       "    .dataframe tbody tr th {\n",
       "        vertical-align: top;\n",
       "    }\n",
       "\n",
       "    .dataframe thead th {\n",
       "        text-align: right;\n",
       "    }\n",
       "</style>\n",
       "<table border=\"1\" class=\"dataframe\">\n",
       "  <thead>\n",
       "    <tr style=\"text-align: right;\">\n",
       "      <th></th>\n",
       "      <th></th>\n",
       "      <th>Ns</th>\n",
       "      <th>basepairs</th>\n",
       "      <th>contigs</th>\n",
       "      <th>filtered_Ns</th>\n",
       "      <th>filtered_basepairs</th>\n",
       "      <th>filtered_contigs</th>\n",
       "      <th>filtered_mapped_reads</th>\n",
       "      <th>filtered_n50</th>\n",
       "      <th>mapped_reads</th>\n",
       "      <th>max_contig</th>\n",
       "      <th>misassembled contigs</th>\n",
       "      <th>misassembly events</th>\n",
       "      <th>n50</th>\n",
       "    </tr>\n",
       "    <tr>\n",
       "      <th>Assembler Type</th>\n",
       "      <th>Type</th>\n",
       "      <th></th>\n",
       "      <th></th>\n",
       "      <th></th>\n",
       "      <th></th>\n",
       "      <th></th>\n",
       "      <th></th>\n",
       "      <th></th>\n",
       "      <th></th>\n",
       "      <th></th>\n",
       "      <th></th>\n",
       "      <th></th>\n",
       "      <th></th>\n",
       "      <th></th>\n",
       "    </tr>\n",
       "  </thead>\n",
       "  <tbody>\n",
       "    <tr>\n",
       "      <th rowspan=\"2\" valign=\"top\">Metagenomic</th>\n",
       "      <th>Best</th>\n",
       "      <td>1.0</td>\n",
       "      <td>0.501338</td>\n",
       "      <td>0.927160</td>\n",
       "      <td>1.0</td>\n",
       "      <td>0.442845</td>\n",
       "      <td>0.903001</td>\n",
       "      <td>1.000000</td>\n",
       "      <td>0.985570</td>\n",
       "      <td>1.000000</td>\n",
       "      <td>1.000000</td>\n",
       "      <td>0.916667</td>\n",
       "      <td>0.913043</td>\n",
       "      <td>0.909027</td>\n",
       "    </tr>\n",
       "    <tr>\n",
       "      <th>Worst</th>\n",
       "      <td>1.0</td>\n",
       "      <td>0.449511</td>\n",
       "      <td>0.295775</td>\n",
       "      <td>1.0</td>\n",
       "      <td>0.440834</td>\n",
       "      <td>0.817865</td>\n",
       "      <td>0.991175</td>\n",
       "      <td>0.445195</td>\n",
       "      <td>0.998967</td>\n",
       "      <td>0.542225</td>\n",
       "      <td>0.833333</td>\n",
       "      <td>0.869565</td>\n",
       "      <td>0.435985</td>\n",
       "    </tr>\n",
       "    <tr>\n",
       "      <th rowspan=\"2\" valign=\"top\">Genomic</th>\n",
       "      <th>Best</th>\n",
       "      <td>1.0</td>\n",
       "      <td>0.504297</td>\n",
       "      <td>0.980555</td>\n",
       "      <td>1.0</td>\n",
       "      <td>0.440770</td>\n",
       "      <td>0.921842</td>\n",
       "      <td>0.999047</td>\n",
       "      <td>1.000000</td>\n",
       "      <td>0.999157</td>\n",
       "      <td>0.784744</td>\n",
       "      <td>1.000000</td>\n",
       "      <td>1.000000</td>\n",
       "      <td>1.000000</td>\n",
       "    </tr>\n",
       "    <tr>\n",
       "      <th>Worst</th>\n",
       "      <td>1.0</td>\n",
       "      <td>0.265068</td>\n",
       "      <td>0.000000</td>\n",
       "      <td>1.0</td>\n",
       "      <td>0.144445</td>\n",
       "      <td>0.000000</td>\n",
       "      <td>0.920547</td>\n",
       "      <td>0.030430</td>\n",
       "      <td>0.952938</td>\n",
       "      <td>0.054881</td>\n",
       "      <td>0.000000</td>\n",
       "      <td>0.000000</td>\n",
       "      <td>0.004759</td>\n",
       "    </tr>\n",
       "  </tbody>\n",
       "</table>\n",
       "</div>"
      ],
      "text/plain": [
       "                       Ns  basepairs   contigs  filtered_Ns  \\\n",
       "Assembler Type Type                                           \n",
       "Metagenomic    Best   1.0   0.501338  0.927160          1.0   \n",
       "               Worst  1.0   0.449511  0.295775          1.0   \n",
       "Genomic        Best   1.0   0.504297  0.980555          1.0   \n",
       "               Worst  1.0   0.265068  0.000000          1.0   \n",
       "\n",
       "                      filtered_basepairs  filtered_contigs  \\\n",
       "Assembler Type Type                                          \n",
       "Metagenomic    Best             0.442845          0.903001   \n",
       "               Worst            0.440834          0.817865   \n",
       "Genomic        Best             0.440770          0.921842   \n",
       "               Worst            0.144445          0.000000   \n",
       "\n",
       "                      filtered_mapped_reads  filtered_n50  mapped_reads  \\\n",
       "Assembler Type Type                                                       \n",
       "Metagenomic    Best                1.000000      0.985570      1.000000   \n",
       "               Worst               0.991175      0.445195      0.998967   \n",
       "Genomic        Best                0.999047      1.000000      0.999157   \n",
       "               Worst               0.920547      0.030430      0.952938   \n",
       "\n",
       "                      max_contig  misassembled contigs  misassembly events  \\\n",
       "Assembler Type Type                                                          \n",
       "Metagenomic    Best     1.000000              0.916667            0.913043   \n",
       "               Worst    0.542225              0.833333            0.869565   \n",
       "Genomic        Best     0.784744              1.000000            1.000000   \n",
       "               Worst    0.054881              0.000000            0.000000   \n",
       "\n",
       "                           n50  \n",
       "Assembler Type Type             \n",
       "Metagenomic    Best   0.909027  \n",
       "               Worst  0.435985  \n",
       "Genomic        Best   1.000000  \n",
       "               Worst  0.004759  "
      ]
     },
     "metadata": {},
     "output_type": "display_data"
    },
    {
     "name": "stdout",
     "output_type": "stream",
     "text": [
      "ERR2935805\n"
     ]
    },
    {
     "name": "stderr",
     "output_type": "stream",
     "text": [
      "/tmp/ipykernel_3232/2235000612.py:20: RuntimeWarning:\n",
      "\n",
      "invalid value encountered in double_scalars\n",
      "\n"
     ]
    },
    {
     "data": {
      "text/html": [
       "<div>\n",
       "<style scoped>\n",
       "    .dataframe tbody tr th:only-of-type {\n",
       "        vertical-align: middle;\n",
       "    }\n",
       "\n",
       "    .dataframe tbody tr th {\n",
       "        vertical-align: top;\n",
       "    }\n",
       "\n",
       "    .dataframe thead th {\n",
       "        text-align: right;\n",
       "    }\n",
       "</style>\n",
       "<table border=\"1\" class=\"dataframe\">\n",
       "  <thead>\n",
       "    <tr style=\"text-align: right;\">\n",
       "      <th></th>\n",
       "      <th></th>\n",
       "      <th>Ns</th>\n",
       "      <th>basepairs</th>\n",
       "      <th>contigs</th>\n",
       "      <th>filtered_Ns</th>\n",
       "      <th>filtered_basepairs</th>\n",
       "      <th>filtered_contigs</th>\n",
       "      <th>filtered_mapped_reads</th>\n",
       "      <th>filtered_n50</th>\n",
       "      <th>mapped_reads</th>\n",
       "      <th>max_contig</th>\n",
       "      <th>misassembled contigs</th>\n",
       "      <th>misassembly events</th>\n",
       "      <th>n50</th>\n",
       "    </tr>\n",
       "    <tr>\n",
       "      <th>Assembler Type</th>\n",
       "      <th>Type</th>\n",
       "      <th></th>\n",
       "      <th></th>\n",
       "      <th></th>\n",
       "      <th></th>\n",
       "      <th></th>\n",
       "      <th></th>\n",
       "      <th></th>\n",
       "      <th></th>\n",
       "      <th></th>\n",
       "      <th></th>\n",
       "      <th></th>\n",
       "      <th></th>\n",
       "      <th></th>\n",
       "    </tr>\n",
       "  </thead>\n",
       "  <tbody>\n",
       "    <tr>\n",
       "      <th rowspan=\"2\" valign=\"top\">Metagenomic</th>\n",
       "      <th>Best</th>\n",
       "      <td>1.0</td>\n",
       "      <td>0.899033</td>\n",
       "      <td>0.812890</td>\n",
       "      <td>1.0</td>\n",
       "      <td>0.607260</td>\n",
       "      <td>0.879376</td>\n",
       "      <td>1.000000</td>\n",
       "      <td>0.821355</td>\n",
       "      <td>1.000000</td>\n",
       "      <td>0.906483</td>\n",
       "      <td>1.000000</td>\n",
       "      <td>1.000000</td>\n",
       "      <td>0.320180</td>\n",
       "    </tr>\n",
       "    <tr>\n",
       "      <th>Worst</th>\n",
       "      <td>1.0</td>\n",
       "      <td>0.553417</td>\n",
       "      <td>0.274259</td>\n",
       "      <td>1.0</td>\n",
       "      <td>0.448881</td>\n",
       "      <td>0.321464</td>\n",
       "      <td>0.993225</td>\n",
       "      <td>0.342501</td>\n",
       "      <td>0.994198</td>\n",
       "      <td>0.640566</td>\n",
       "      <td>0.994755</td>\n",
       "      <td>0.993902</td>\n",
       "      <td>0.014302</td>\n",
       "    </tr>\n",
       "    <tr>\n",
       "      <th rowspan=\"2\" valign=\"top\">Genomic</th>\n",
       "      <th>Best</th>\n",
       "      <td>1.0</td>\n",
       "      <td>0.953816</td>\n",
       "      <td>0.994339</td>\n",
       "      <td>1.0</td>\n",
       "      <td>0.633214</td>\n",
       "      <td>0.971194</td>\n",
       "      <td>0.977351</td>\n",
       "      <td>1.000000</td>\n",
       "      <td>0.979205</td>\n",
       "      <td>1.000000</td>\n",
       "      <td>1.000000</td>\n",
       "      <td>1.000000</td>\n",
       "      <td>1.000000</td>\n",
       "    </tr>\n",
       "    <tr>\n",
       "      <th>Worst</th>\n",
       "      <td>1.0</td>\n",
       "      <td>0.284967</td>\n",
       "      <td>0.000000</td>\n",
       "      <td>1.0</td>\n",
       "      <td>0.187466</td>\n",
       "      <td>0.000000</td>\n",
       "      <td>0.647239</td>\n",
       "      <td>0.008362</td>\n",
       "      <td>0.874745</td>\n",
       "      <td>0.034394</td>\n",
       "      <td>0.000000</td>\n",
       "      <td>0.000000</td>\n",
       "      <td>0.005571</td>\n",
       "    </tr>\n",
       "  </tbody>\n",
       "</table>\n",
       "</div>"
      ],
      "text/plain": [
       "                       Ns  basepairs   contigs  filtered_Ns  \\\n",
       "Assembler Type Type                                           \n",
       "Metagenomic    Best   1.0   0.899033  0.812890          1.0   \n",
       "               Worst  1.0   0.553417  0.274259          1.0   \n",
       "Genomic        Best   1.0   0.953816  0.994339          1.0   \n",
       "               Worst  1.0   0.284967  0.000000          1.0   \n",
       "\n",
       "                      filtered_basepairs  filtered_contigs  \\\n",
       "Assembler Type Type                                          \n",
       "Metagenomic    Best             0.607260          0.879376   \n",
       "               Worst            0.448881          0.321464   \n",
       "Genomic        Best             0.633214          0.971194   \n",
       "               Worst            0.187466          0.000000   \n",
       "\n",
       "                      filtered_mapped_reads  filtered_n50  mapped_reads  \\\n",
       "Assembler Type Type                                                       \n",
       "Metagenomic    Best                1.000000      0.821355      1.000000   \n",
       "               Worst               0.993225      0.342501      0.994198   \n",
       "Genomic        Best                0.977351      1.000000      0.979205   \n",
       "               Worst               0.647239      0.008362      0.874745   \n",
       "\n",
       "                      max_contig  misassembled contigs  misassembly events  \\\n",
       "Assembler Type Type                                                          \n",
       "Metagenomic    Best     0.906483              1.000000            1.000000   \n",
       "               Worst    0.640566              0.994755            0.993902   \n",
       "Genomic        Best     1.000000              1.000000            1.000000   \n",
       "               Worst    0.034394              0.000000            0.000000   \n",
       "\n",
       "                           n50  \n",
       "Assembler Type Type             \n",
       "Metagenomic    Best   0.320180  \n",
       "               Worst  0.014302  \n",
       "Genomic        Best   1.000000  \n",
       "               Worst  0.005571  "
      ]
     },
     "metadata": {},
     "output_type": "display_data"
    },
    {
     "name": "stdout",
     "output_type": "stream",
     "text": [
      "LHS\n"
     ]
    },
    {
     "name": "stderr",
     "output_type": "stream",
     "text": [
      "/tmp/ipykernel_3232/2235000612.py:20: RuntimeWarning:\n",
      "\n",
      "invalid value encountered in double_scalars\n",
      "\n"
     ]
    },
    {
     "data": {
      "text/html": [
       "<div>\n",
       "<style scoped>\n",
       "    .dataframe tbody tr th:only-of-type {\n",
       "        vertical-align: middle;\n",
       "    }\n",
       "\n",
       "    .dataframe tbody tr th {\n",
       "        vertical-align: top;\n",
       "    }\n",
       "\n",
       "    .dataframe thead th {\n",
       "        text-align: right;\n",
       "    }\n",
       "</style>\n",
       "<table border=\"1\" class=\"dataframe\">\n",
       "  <thead>\n",
       "    <tr style=\"text-align: right;\">\n",
       "      <th></th>\n",
       "      <th></th>\n",
       "      <th>Ns</th>\n",
       "      <th>basepairs</th>\n",
       "      <th>contigs</th>\n",
       "      <th>filtered_Ns</th>\n",
       "      <th>filtered_basepairs</th>\n",
       "      <th>filtered_contigs</th>\n",
       "      <th>filtered_mapped_reads</th>\n",
       "      <th>filtered_n50</th>\n",
       "      <th>mapped_reads</th>\n",
       "      <th>max_contig</th>\n",
       "      <th>misassembled contigs</th>\n",
       "      <th>misassembly events</th>\n",
       "      <th>n50</th>\n",
       "    </tr>\n",
       "    <tr>\n",
       "      <th>Assembler Type</th>\n",
       "      <th>Type</th>\n",
       "      <th></th>\n",
       "      <th></th>\n",
       "      <th></th>\n",
       "      <th></th>\n",
       "      <th></th>\n",
       "      <th></th>\n",
       "      <th></th>\n",
       "      <th></th>\n",
       "      <th></th>\n",
       "      <th></th>\n",
       "      <th></th>\n",
       "      <th></th>\n",
       "      <th></th>\n",
       "    </tr>\n",
       "  </thead>\n",
       "  <tbody>\n",
       "    <tr>\n",
       "      <th rowspan=\"2\" valign=\"top\">Metagenomic</th>\n",
       "      <th>Best</th>\n",
       "      <td>1.0</td>\n",
       "      <td>0.457476</td>\n",
       "      <td>0.975290</td>\n",
       "      <td>1.0</td>\n",
       "      <td>0.441822</td>\n",
       "      <td>0.879423</td>\n",
       "      <td>1.000000</td>\n",
       "      <td>0.560601</td>\n",
       "      <td>1.000000</td>\n",
       "      <td>1.000000</td>\n",
       "      <td>1.0</td>\n",
       "      <td>1.0</td>\n",
       "      <td>0.550545</td>\n",
       "    </tr>\n",
       "    <tr>\n",
       "      <th>Worst</th>\n",
       "      <td>1.0</td>\n",
       "      <td>0.440707</td>\n",
       "      <td>0.932378</td>\n",
       "      <td>1.0</td>\n",
       "      <td>0.436483</td>\n",
       "      <td>0.500655</td>\n",
       "      <td>0.996112</td>\n",
       "      <td>0.261296</td>\n",
       "      <td>0.998812</td>\n",
       "      <td>0.688889</td>\n",
       "      <td>0.6</td>\n",
       "      <td>0.4</td>\n",
       "      <td>0.259202</td>\n",
       "    </tr>\n",
       "    <tr>\n",
       "      <th rowspan=\"2\" valign=\"top\">Genomic</th>\n",
       "      <th>Best</th>\n",
       "      <td>1.0</td>\n",
       "      <td>0.523954</td>\n",
       "      <td>0.998840</td>\n",
       "      <td>1.0</td>\n",
       "      <td>0.430278</td>\n",
       "      <td>0.986239</td>\n",
       "      <td>0.992006</td>\n",
       "      <td>1.000000</td>\n",
       "      <td>0.996793</td>\n",
       "      <td>0.923555</td>\n",
       "      <td>1.0</td>\n",
       "      <td>1.0</td>\n",
       "      <td>1.000000</td>\n",
       "    </tr>\n",
       "    <tr>\n",
       "      <th>Worst</th>\n",
       "      <td>1.0</td>\n",
       "      <td>0.095554</td>\n",
       "      <td>0.000000</td>\n",
       "      <td>1.0</td>\n",
       "      <td>0.095338</td>\n",
       "      <td>0.000000</td>\n",
       "      <td>0.793158</td>\n",
       "      <td>0.197594</td>\n",
       "      <td>0.948009</td>\n",
       "      <td>0.287280</td>\n",
       "      <td>0.0</td>\n",
       "      <td>0.0</td>\n",
       "      <td>0.132406</td>\n",
       "    </tr>\n",
       "  </tbody>\n",
       "</table>\n",
       "</div>"
      ],
      "text/plain": [
       "                       Ns  basepairs   contigs  filtered_Ns  \\\n",
       "Assembler Type Type                                           \n",
       "Metagenomic    Best   1.0   0.457476  0.975290          1.0   \n",
       "               Worst  1.0   0.440707  0.932378          1.0   \n",
       "Genomic        Best   1.0   0.523954  0.998840          1.0   \n",
       "               Worst  1.0   0.095554  0.000000          1.0   \n",
       "\n",
       "                      filtered_basepairs  filtered_contigs  \\\n",
       "Assembler Type Type                                          \n",
       "Metagenomic    Best             0.441822          0.879423   \n",
       "               Worst            0.436483          0.500655   \n",
       "Genomic        Best             0.430278          0.986239   \n",
       "               Worst            0.095338          0.000000   \n",
       "\n",
       "                      filtered_mapped_reads  filtered_n50  mapped_reads  \\\n",
       "Assembler Type Type                                                       \n",
       "Metagenomic    Best                1.000000      0.560601      1.000000   \n",
       "               Worst               0.996112      0.261296      0.998812   \n",
       "Genomic        Best                0.992006      1.000000      0.996793   \n",
       "               Worst               0.793158      0.197594      0.948009   \n",
       "\n",
       "                      max_contig  misassembled contigs  misassembly events  \\\n",
       "Assembler Type Type                                                          \n",
       "Metagenomic    Best     1.000000                   1.0                 1.0   \n",
       "               Worst    0.688889                   0.6                 0.4   \n",
       "Genomic        Best     0.923555                   1.0                 1.0   \n",
       "               Worst    0.287280                   0.0                 0.0   \n",
       "\n",
       "                           n50  \n",
       "Assembler Type Type             \n",
       "Metagenomic    Best   0.550545  \n",
       "               Worst  0.259202  \n",
       "Genomic        Best   1.000000  \n",
       "               Worst  0.132406  "
      ]
     },
     "metadata": {},
     "output_type": "display_data"
    },
    {
     "name": "stdout",
     "output_type": "stream",
     "text": [
      "EMS\n"
     ]
    },
    {
     "name": "stderr",
     "output_type": "stream",
     "text": [
      "/tmp/ipykernel_3232/2235000612.py:20: RuntimeWarning:\n",
      "\n",
      "invalid value encountered in double_scalars\n",
      "\n"
     ]
    },
    {
     "data": {
      "text/html": [
       "<div>\n",
       "<style scoped>\n",
       "    .dataframe tbody tr th:only-of-type {\n",
       "        vertical-align: middle;\n",
       "    }\n",
       "\n",
       "    .dataframe tbody tr th {\n",
       "        vertical-align: top;\n",
       "    }\n",
       "\n",
       "    .dataframe thead th {\n",
       "        text-align: right;\n",
       "    }\n",
       "</style>\n",
       "<table border=\"1\" class=\"dataframe\">\n",
       "  <thead>\n",
       "    <tr style=\"text-align: right;\">\n",
       "      <th></th>\n",
       "      <th></th>\n",
       "      <th>Ns</th>\n",
       "      <th>basepairs</th>\n",
       "      <th>contigs</th>\n",
       "      <th>filtered_Ns</th>\n",
       "      <th>filtered_basepairs</th>\n",
       "      <th>filtered_contigs</th>\n",
       "      <th>filtered_mapped_reads</th>\n",
       "      <th>filtered_n50</th>\n",
       "      <th>mapped_reads</th>\n",
       "      <th>max_contig</th>\n",
       "      <th>misassembled contigs</th>\n",
       "      <th>misassembly events</th>\n",
       "      <th>n50</th>\n",
       "    </tr>\n",
       "    <tr>\n",
       "      <th>Assembler Type</th>\n",
       "      <th>Type</th>\n",
       "      <th></th>\n",
       "      <th></th>\n",
       "      <th></th>\n",
       "      <th></th>\n",
       "      <th></th>\n",
       "      <th></th>\n",
       "      <th></th>\n",
       "      <th></th>\n",
       "      <th></th>\n",
       "      <th></th>\n",
       "      <th></th>\n",
       "      <th></th>\n",
       "      <th></th>\n",
       "    </tr>\n",
       "  </thead>\n",
       "  <tbody>\n",
       "    <tr>\n",
       "      <th rowspan=\"2\" valign=\"top\">Metagenomic</th>\n",
       "      <th>Best</th>\n",
       "      <td>1.0</td>\n",
       "      <td>0.988772</td>\n",
       "      <td>0.710426</td>\n",
       "      <td>1.0</td>\n",
       "      <td>0.982943</td>\n",
       "      <td>0.708931</td>\n",
       "      <td>1.000000</td>\n",
       "      <td>0.852761</td>\n",
       "      <td>1.000000</td>\n",
       "      <td>0.703845</td>\n",
       "      <td>0.923077</td>\n",
       "      <td>0.954545</td>\n",
       "      <td>0.852761</td>\n",
       "    </tr>\n",
       "    <tr>\n",
       "      <th>Worst</th>\n",
       "      <td>1.0</td>\n",
       "      <td>0.982626</td>\n",
       "      <td>0.304033</td>\n",
       "      <td>1.0</td>\n",
       "      <td>0.974128</td>\n",
       "      <td>0.000000</td>\n",
       "      <td>0.986332</td>\n",
       "      <td>0.257817</td>\n",
       "      <td>0.995850</td>\n",
       "      <td>0.359178</td>\n",
       "      <td>0.000000</td>\n",
       "      <td>0.000000</td>\n",
       "      <td>0.251802</td>\n",
       "    </tr>\n",
       "    <tr>\n",
       "      <th rowspan=\"2\" valign=\"top\">Genomic</th>\n",
       "      <th>Best</th>\n",
       "      <td>1.0</td>\n",
       "      <td>0.990897</td>\n",
       "      <td>0.750381</td>\n",
       "      <td>1.0</td>\n",
       "      <td>0.980877</td>\n",
       "      <td>0.733652</td>\n",
       "      <td>0.996310</td>\n",
       "      <td>1.000000</td>\n",
       "      <td>0.996434</td>\n",
       "      <td>1.000000</td>\n",
       "      <td>1.000000</td>\n",
       "      <td>1.000000</td>\n",
       "      <td>1.000000</td>\n",
       "    </tr>\n",
       "    <tr>\n",
       "      <th>Worst</th>\n",
       "      <td>1.0</td>\n",
       "      <td>0.977463</td>\n",
       "      <td>0.000000</td>\n",
       "      <td>1.0</td>\n",
       "      <td>0.971507</td>\n",
       "      <td>0.289474</td>\n",
       "      <td>0.985707</td>\n",
       "      <td>0.302542</td>\n",
       "      <td>0.988888</td>\n",
       "      <td>0.484719</td>\n",
       "      <td>0.307692</td>\n",
       "      <td>0.181818</td>\n",
       "      <td>0.301322</td>\n",
       "    </tr>\n",
       "  </tbody>\n",
       "</table>\n",
       "</div>"
      ],
      "text/plain": [
       "                       Ns  basepairs   contigs  filtered_Ns  \\\n",
       "Assembler Type Type                                           \n",
       "Metagenomic    Best   1.0   0.988772  0.710426          1.0   \n",
       "               Worst  1.0   0.982626  0.304033          1.0   \n",
       "Genomic        Best   1.0   0.990897  0.750381          1.0   \n",
       "               Worst  1.0   0.977463  0.000000          1.0   \n",
       "\n",
       "                      filtered_basepairs  filtered_contigs  \\\n",
       "Assembler Type Type                                          \n",
       "Metagenomic    Best             0.982943          0.708931   \n",
       "               Worst            0.974128          0.000000   \n",
       "Genomic        Best             0.980877          0.733652   \n",
       "               Worst            0.971507          0.289474   \n",
       "\n",
       "                      filtered_mapped_reads  filtered_n50  mapped_reads  \\\n",
       "Assembler Type Type                                                       \n",
       "Metagenomic    Best                1.000000      0.852761      1.000000   \n",
       "               Worst               0.986332      0.257817      0.995850   \n",
       "Genomic        Best                0.996310      1.000000      0.996434   \n",
       "               Worst               0.985707      0.302542      0.988888   \n",
       "\n",
       "                      max_contig  misassembled contigs  misassembly events  \\\n",
       "Assembler Type Type                                                          \n",
       "Metagenomic    Best     0.703845              0.923077            0.954545   \n",
       "               Worst    0.359178              0.000000            0.000000   \n",
       "Genomic        Best     1.000000              1.000000            1.000000   \n",
       "               Worst    0.484719              0.307692            0.181818   \n",
       "\n",
       "                           n50  \n",
       "Assembler Type Type             \n",
       "Metagenomic    Best   0.852761  \n",
       "               Worst  0.251802  \n",
       "Genomic        Best   1.000000  \n",
       "               Worst  0.301322  "
      ]
     },
     "metadata": {},
     "output_type": "display_data"
    },
    {
     "name": "stdout",
     "output_type": "stream",
     "text": [
      "ERR2984773\n"
     ]
    },
    {
     "name": "stderr",
     "output_type": "stream",
     "text": [
      "/tmp/ipykernel_3232/2235000612.py:20: RuntimeWarning:\n",
      "\n",
      "invalid value encountered in double_scalars\n",
      "\n"
     ]
    },
    {
     "data": {
      "text/html": [
       "<div>\n",
       "<style scoped>\n",
       "    .dataframe tbody tr th:only-of-type {\n",
       "        vertical-align: middle;\n",
       "    }\n",
       "\n",
       "    .dataframe tbody tr th {\n",
       "        vertical-align: top;\n",
       "    }\n",
       "\n",
       "    .dataframe thead th {\n",
       "        text-align: right;\n",
       "    }\n",
       "</style>\n",
       "<table border=\"1\" class=\"dataframe\">\n",
       "  <thead>\n",
       "    <tr style=\"text-align: right;\">\n",
       "      <th></th>\n",
       "      <th></th>\n",
       "      <th>Ns</th>\n",
       "      <th>basepairs</th>\n",
       "      <th>contigs</th>\n",
       "      <th>filtered_Ns</th>\n",
       "      <th>filtered_basepairs</th>\n",
       "      <th>filtered_contigs</th>\n",
       "      <th>filtered_mapped_reads</th>\n",
       "      <th>filtered_n50</th>\n",
       "      <th>mapped_reads</th>\n",
       "      <th>max_contig</th>\n",
       "      <th>misassembled contigs</th>\n",
       "      <th>misassembly events</th>\n",
       "      <th>n50</th>\n",
       "    </tr>\n",
       "    <tr>\n",
       "      <th>Assembler Type</th>\n",
       "      <th>Type</th>\n",
       "      <th></th>\n",
       "      <th></th>\n",
       "      <th></th>\n",
       "      <th></th>\n",
       "      <th></th>\n",
       "      <th></th>\n",
       "      <th></th>\n",
       "      <th></th>\n",
       "      <th></th>\n",
       "      <th></th>\n",
       "      <th></th>\n",
       "      <th></th>\n",
       "      <th></th>\n",
       "    </tr>\n",
       "  </thead>\n",
       "  <tbody>\n",
       "    <tr>\n",
       "      <th rowspan=\"2\" valign=\"top\">Metagenomic</th>\n",
       "      <th>Best</th>\n",
       "      <td>1.0</td>\n",
       "      <td>0.939815</td>\n",
       "      <td>0.912449</td>\n",
       "      <td>1.0</td>\n",
       "      <td>0.987650</td>\n",
       "      <td>0.713263</td>\n",
       "      <td>1.000000</td>\n",
       "      <td>0.782770</td>\n",
       "      <td>1.000000</td>\n",
       "      <td>1.000000</td>\n",
       "      <td>0.933333</td>\n",
       "      <td>0.9375</td>\n",
       "      <td>0.533449</td>\n",
       "    </tr>\n",
       "    <tr>\n",
       "      <th>Worst</th>\n",
       "      <td>1.0</td>\n",
       "      <td>0.417770</td>\n",
       "      <td>0.000000</td>\n",
       "      <td>1.0</td>\n",
       "      <td>0.965257</td>\n",
       "      <td>0.000000</td>\n",
       "      <td>0.981581</td>\n",
       "      <td>0.152196</td>\n",
       "      <td>0.985986</td>\n",
       "      <td>0.251550</td>\n",
       "      <td>0.000000</td>\n",
       "      <td>0.0000</td>\n",
       "      <td>0.109668</td>\n",
       "    </tr>\n",
       "    <tr>\n",
       "      <th rowspan=\"2\" valign=\"top\">Genomic</th>\n",
       "      <th>Best</th>\n",
       "      <td>1.0</td>\n",
       "      <td>0.988573</td>\n",
       "      <td>0.985481</td>\n",
       "      <td>1.0</td>\n",
       "      <td>0.983375</td>\n",
       "      <td>0.839864</td>\n",
       "      <td>0.985069</td>\n",
       "      <td>1.000000</td>\n",
       "      <td>0.998557</td>\n",
       "      <td>0.731592</td>\n",
       "      <td>1.000000</td>\n",
       "      <td>1.0000</td>\n",
       "      <td>1.000000</td>\n",
       "    </tr>\n",
       "    <tr>\n",
       "      <th>Worst</th>\n",
       "      <td>1.0</td>\n",
       "      <td>0.496250</td>\n",
       "      <td>0.354049</td>\n",
       "      <td>1.0</td>\n",
       "      <td>0.949777</td>\n",
       "      <td>0.227958</td>\n",
       "      <td>0.971916</td>\n",
       "      <td>0.406793</td>\n",
       "      <td>0.963571</td>\n",
       "      <td>0.370002</td>\n",
       "      <td>0.400000</td>\n",
       "      <td>0.4375</td>\n",
       "      <td>0.278398</td>\n",
       "    </tr>\n",
       "  </tbody>\n",
       "</table>\n",
       "</div>"
      ],
      "text/plain": [
       "                       Ns  basepairs   contigs  filtered_Ns  \\\n",
       "Assembler Type Type                                           \n",
       "Metagenomic    Best   1.0   0.939815  0.912449          1.0   \n",
       "               Worst  1.0   0.417770  0.000000          1.0   \n",
       "Genomic        Best   1.0   0.988573  0.985481          1.0   \n",
       "               Worst  1.0   0.496250  0.354049          1.0   \n",
       "\n",
       "                      filtered_basepairs  filtered_contigs  \\\n",
       "Assembler Type Type                                          \n",
       "Metagenomic    Best             0.987650          0.713263   \n",
       "               Worst            0.965257          0.000000   \n",
       "Genomic        Best             0.983375          0.839864   \n",
       "               Worst            0.949777          0.227958   \n",
       "\n",
       "                      filtered_mapped_reads  filtered_n50  mapped_reads  \\\n",
       "Assembler Type Type                                                       \n",
       "Metagenomic    Best                1.000000      0.782770      1.000000   \n",
       "               Worst               0.981581      0.152196      0.985986   \n",
       "Genomic        Best                0.985069      1.000000      0.998557   \n",
       "               Worst               0.971916      0.406793      0.963571   \n",
       "\n",
       "                      max_contig  misassembled contigs  misassembly events  \\\n",
       "Assembler Type Type                                                          \n",
       "Metagenomic    Best     1.000000              0.933333              0.9375   \n",
       "               Worst    0.251550              0.000000              0.0000   \n",
       "Genomic        Best     0.731592              1.000000              1.0000   \n",
       "               Worst    0.370002              0.400000              0.4375   \n",
       "\n",
       "                           n50  \n",
       "Assembler Type Type             \n",
       "Metagenomic    Best   0.533449  \n",
       "               Worst  0.109668  \n",
       "Genomic        Best   1.000000  \n",
       "               Worst  0.278398  "
      ]
     },
     "metadata": {},
     "output_type": "display_data"
    },
    {
     "name": "stdout",
     "output_type": "stream",
     "text": [
      "ENN\n"
     ]
    },
    {
     "name": "stderr",
     "output_type": "stream",
     "text": [
      "/tmp/ipykernel_3232/2235000612.py:20: RuntimeWarning:\n",
      "\n",
      "invalid value encountered in double_scalars\n",
      "\n"
     ]
    },
    {
     "data": {
      "text/html": [
       "<div>\n",
       "<style scoped>\n",
       "    .dataframe tbody tr th:only-of-type {\n",
       "        vertical-align: middle;\n",
       "    }\n",
       "\n",
       "    .dataframe tbody tr th {\n",
       "        vertical-align: top;\n",
       "    }\n",
       "\n",
       "    .dataframe thead th {\n",
       "        text-align: right;\n",
       "    }\n",
       "</style>\n",
       "<table border=\"1\" class=\"dataframe\">\n",
       "  <thead>\n",
       "    <tr style=\"text-align: right;\">\n",
       "      <th></th>\n",
       "      <th></th>\n",
       "      <th>Ns</th>\n",
       "      <th>basepairs</th>\n",
       "      <th>contigs</th>\n",
       "      <th>filtered_Ns</th>\n",
       "      <th>filtered_basepairs</th>\n",
       "      <th>filtered_contigs</th>\n",
       "      <th>filtered_mapped_reads</th>\n",
       "      <th>filtered_n50</th>\n",
       "      <th>mapped_reads</th>\n",
       "      <th>max_contig</th>\n",
       "      <th>misassembled contigs</th>\n",
       "      <th>misassembly events</th>\n",
       "      <th>n50</th>\n",
       "    </tr>\n",
       "    <tr>\n",
       "      <th>Assembler Type</th>\n",
       "      <th>Type</th>\n",
       "      <th></th>\n",
       "      <th></th>\n",
       "      <th></th>\n",
       "      <th></th>\n",
       "      <th></th>\n",
       "      <th></th>\n",
       "      <th></th>\n",
       "      <th></th>\n",
       "      <th></th>\n",
       "      <th></th>\n",
       "      <th></th>\n",
       "      <th></th>\n",
       "      <th></th>\n",
       "    </tr>\n",
       "  </thead>\n",
       "  <tbody>\n",
       "    <tr>\n",
       "      <th rowspan=\"2\" valign=\"top\">Metagenomic</th>\n",
       "      <th>Best</th>\n",
       "      <td>1.0</td>\n",
       "      <td>0.987037</td>\n",
       "      <td>0.724376</td>\n",
       "      <td>1.0</td>\n",
       "      <td>0.982993</td>\n",
       "      <td>0.792005</td>\n",
       "      <td>1.000000</td>\n",
       "      <td>1.000000</td>\n",
       "      <td>1.000000</td>\n",
       "      <td>1.000000</td>\n",
       "      <td>0.888889</td>\n",
       "      <td>0.833333</td>\n",
       "      <td>1.000000</td>\n",
       "    </tr>\n",
       "    <tr>\n",
       "      <th>Worst</th>\n",
       "      <td>1.0</td>\n",
       "      <td>0.982033</td>\n",
       "      <td>0.215332</td>\n",
       "      <td>1.0</td>\n",
       "      <td>0.973626</td>\n",
       "      <td>0.258980</td>\n",
       "      <td>0.985257</td>\n",
       "      <td>0.272863</td>\n",
       "      <td>0.996453</td>\n",
       "      <td>0.564747</td>\n",
       "      <td>0.000000</td>\n",
       "      <td>0.000000</td>\n",
       "      <td>0.267066</td>\n",
       "    </tr>\n",
       "    <tr>\n",
       "      <th rowspan=\"2\" valign=\"top\">Genomic</th>\n",
       "      <th>Best</th>\n",
       "      <td>1.0</td>\n",
       "      <td>0.983718</td>\n",
       "      <td>0.596899</td>\n",
       "      <td>1.0</td>\n",
       "      <td>0.978338</td>\n",
       "      <td>0.743337</td>\n",
       "      <td>0.991681</td>\n",
       "      <td>0.875706</td>\n",
       "      <td>0.997248</td>\n",
       "      <td>0.819851</td>\n",
       "      <td>1.000000</td>\n",
       "      <td>1.000000</td>\n",
       "      <td>0.856964</td>\n",
       "    </tr>\n",
       "    <tr>\n",
       "      <th>Worst</th>\n",
       "      <td>1.0</td>\n",
       "      <td>0.972991</td>\n",
       "      <td>0.000000</td>\n",
       "      <td>1.0</td>\n",
       "      <td>0.964084</td>\n",
       "      <td>0.000000</td>\n",
       "      <td>0.980243</td>\n",
       "      <td>0.180914</td>\n",
       "      <td>0.986153</td>\n",
       "      <td>0.607926</td>\n",
       "      <td>0.444444</td>\n",
       "      <td>0.472222</td>\n",
       "      <td>0.176501</td>\n",
       "    </tr>\n",
       "  </tbody>\n",
       "</table>\n",
       "</div>"
      ],
      "text/plain": [
       "                       Ns  basepairs   contigs  filtered_Ns  \\\n",
       "Assembler Type Type                                           \n",
       "Metagenomic    Best   1.0   0.987037  0.724376          1.0   \n",
       "               Worst  1.0   0.982033  0.215332          1.0   \n",
       "Genomic        Best   1.0   0.983718  0.596899          1.0   \n",
       "               Worst  1.0   0.972991  0.000000          1.0   \n",
       "\n",
       "                      filtered_basepairs  filtered_contigs  \\\n",
       "Assembler Type Type                                          \n",
       "Metagenomic    Best             0.982993          0.792005   \n",
       "               Worst            0.973626          0.258980   \n",
       "Genomic        Best             0.978338          0.743337   \n",
       "               Worst            0.964084          0.000000   \n",
       "\n",
       "                      filtered_mapped_reads  filtered_n50  mapped_reads  \\\n",
       "Assembler Type Type                                                       \n",
       "Metagenomic    Best                1.000000      1.000000      1.000000   \n",
       "               Worst               0.985257      0.272863      0.996453   \n",
       "Genomic        Best                0.991681      0.875706      0.997248   \n",
       "               Worst               0.980243      0.180914      0.986153   \n",
       "\n",
       "                      max_contig  misassembled contigs  misassembly events  \\\n",
       "Assembler Type Type                                                          \n",
       "Metagenomic    Best     1.000000              0.888889            0.833333   \n",
       "               Worst    0.564747              0.000000            0.000000   \n",
       "Genomic        Best     0.819851              1.000000            1.000000   \n",
       "               Worst    0.607926              0.444444            0.472222   \n",
       "\n",
       "                           n50  \n",
       "Assembler Type Type             \n",
       "Metagenomic    Best   1.000000  \n",
       "               Worst  0.267066  \n",
       "Genomic        Best   0.856964  \n",
       "               Worst  0.176501  "
      ]
     },
     "metadata": {},
     "output_type": "display_data"
    }
   ],
   "source": [
    "rank_dfs = []\n",
    "\n",
    "for sample,df in best_stats_dfs:\n",
    "    print(sample)\n",
    "    \n",
    "    rank_df = pd.DataFrame(index=df.index)\n",
    "    \n",
    "    for column in df.columns:\n",
    "        rank_list = []\n",
    "        \n",
    "        if \"basepairs\" in column:\n",
    "            target = 30946587\n",
    "            for item in df[column]:\n",
    "                diff = max(0, 1 - (abs(item - target)/target))\n",
    "                rank_list.append(diff)\n",
    "            rank_df[column] = rank_list\n",
    "        else:    \n",
    "            if column in best_min:\n",
    "                for item in df[column]:\n",
    "                    diff = 1 - (item / df[column].max())\n",
    "                    rank_list.append(diff)\n",
    "            else:\n",
    "                for item in df[column]:\n",
    "                    diff = (item / df[column].max())\n",
    "                    rank_list.append(diff)\n",
    "\n",
    "            rank_df[column] = rank_list\n",
    "    \n",
    "    # in case assembly fails\n",
    "    for assembler, row in df.iterrows():\n",
    "        if row.sum() == 0:\n",
    "            rank_df.at[assembler, :]=0\n",
    "\n",
    "    rank_df = rank_df.fillna(1) #happens when all values are 0\n",
    "    display(rank_df) \n",
    "    rank_df.to_csv(\"Tables/Results/Rank Global metrics per assembler - {}.csv\".format(sample))\n",
    "    rank_dfs.append([sample, rank_df])\n",
    "            "
   ]
  },
  {
   "cell_type": "code",
   "execution_count": 35,
   "id": "d1223e8c",
   "metadata": {
    "scrolled": false
   },
   "outputs": [
    {
     "data": {
      "application/vnd.plotly.v1+json": {
       "config": {
        "plotlyServerURL": "https://plot.ly"
       },
       "data": [
        {
         "line": {
          "color": "#930001"
         },
         "marker": {
          "color": "#930001",
          "line": {
           "color": "black",
           "width": 2
          },
          "size": 12
         },
         "mode": "lines+markers",
         "name": "Metagenomic - Best",
         "opacity": 0.6,
         "r": [
          0.9271599747740172,
          0.501337934293045,
          1,
          0.9090268535191419,
          1,
          1
         ],
         "showlegend": true,
         "subplot": "polar",
         "theta": [
          "Contigs",
          "Basepairs",
          "Largest contig",
          "N50",
          "% Mapped reads",
          "Uncalled bases"
         ],
         "type": "scatterpolar"
        },
        {
         "line": {
          "color": "#930001"
         },
         "marker": {
          "color": "#930001",
          "line": {
           "color": "black",
           "width": 2
          },
          "size": 12
         },
         "mode": "lines+markers",
         "name": "Metagenomic - Best",
         "opacity": 0.6,
         "r": [
          0.9030006978367062,
          0.44284492503163597,
          0.9855698904350048,
          1,
          1,
          0.9166666666666666,
          0.9130434782608696
         ],
         "showlegend": false,
         "subplot": "polar2",
         "theta": [
          "Contigs",
          "Basepairs",
          "N50",
          "% Mapped reads",
          "Uncalled bases",
          "Misassembled contigs",
          "Misassembly events"
         ],
         "type": "scatterpolar"
        },
        {
         "line": {
          "color": "#C97F80"
         },
         "marker": {
          "color": "#C97F80",
          "line": {
           "color": "black",
           "width": 2
          },
          "size": 12
         },
         "mode": "lines+markers",
         "name": "Metagenomic - Worst",
         "opacity": 0.6,
         "r": [
          0.295774647887324,
          0.44951121750518075,
          0.5422249546996194,
          0.4359854462744193,
          0.9989666588992823,
          1
         ],
         "showlegend": true,
         "subplot": "polar",
         "theta": [
          "Contigs",
          "Basepairs",
          "Largest contig",
          "N50",
          "% Mapped reads",
          "Uncalled bases"
         ],
         "type": "scatterpolar"
        },
        {
         "line": {
          "color": "#C97F80"
         },
         "marker": {
          "color": "#C97F80",
          "line": {
           "color": "black",
           "width": 2
          },
          "size": 12
         },
         "mode": "lines+markers",
         "name": "Metagenomic - Worst",
         "opacity": 0.6,
         "r": [
          0.8178646196789952,
          0.4408342024921843,
          0.44519483944339827,
          0.9911753978737771,
          1,
          0.8333333333333334,
          0.8695652173913043
         ],
         "showlegend": false,
         "subplot": "polar2",
         "theta": [
          "Contigs",
          "Basepairs",
          "N50",
          "% Mapped reads",
          "Uncalled bases",
          "Misassembled contigs",
          "Misassembly events"
         ],
         "type": "scatterpolar"
        },
        {
         "line": {
          "color": "#009392"
         },
         "marker": {
          "color": "#009392",
          "line": {
           "color": "black",
           "width": 2
          },
          "size": 12
         },
         "mode": "lines+markers",
         "name": "Genomic - Best",
         "opacity": 0.6,
         "r": [
          0.9805549716207694,
          0.5042965481136903,
          0.784744257708009,
          1,
          0.999157364301145,
          1
         ],
         "showlegend": true,
         "subplot": "polar",
         "theta": [
          "Contigs",
          "Basepairs",
          "Largest contig",
          "N50",
          "% Mapped reads",
          "Uncalled bases"
         ],
         "type": "scatterpolar"
        },
        {
         "line": {
          "color": "#009392"
         },
         "marker": {
          "color": "#009392",
          "line": {
           "color": "black",
           "width": 2
          },
          "size": 12
         },
         "mode": "lines+markers",
         "name": "Genomic - Best",
         "opacity": 0.6,
         "r": [
          0.9218422889043963,
          0.44077041516726867,
          1,
          0.9990468884852816,
          1,
          1,
          1
         ],
         "showlegend": false,
         "subplot": "polar2",
         "theta": [
          "Contigs",
          "Basepairs",
          "N50",
          "% Mapped reads",
          "Uncalled bases",
          "Misassembled contigs",
          "Misassembly events"
         ],
         "type": "scatterpolar"
        },
        {
         "line": {
          "color": "#7FC9C8"
         },
         "marker": {
          "color": "#7FC9C8",
          "line": {
           "color": "black",
           "width": 2
          },
          "size": 12
         },
         "mode": "lines+markers",
         "name": "Genomic - Worst",
         "opacity": 0.6,
         "r": [
          0,
          0.26506771166720255,
          0.05488082087900794,
          0.004759216604103228,
          0.9529382075638348,
          1
         ],
         "showlegend": true,
         "subplot": "polar",
         "theta": [
          "Contigs",
          "Basepairs",
          "Largest contig",
          "N50",
          "% Mapped reads",
          "Uncalled bases"
         ],
         "type": "scatterpolar"
        },
        {
         "line": {
          "color": "#7FC9C8"
         },
         "marker": {
          "color": "#7FC9C8",
          "line": {
           "color": "black",
           "width": 2
          },
          "size": 12
         },
         "mode": "lines+markers",
         "name": "Genomic - Worst",
         "opacity": 0.6,
         "r": [
          0,
          0.14444539554555724,
          0.030430142529266093,
          0.9205467769250751,
          1,
          0,
          0
         ],
         "showlegend": false,
         "subplot": "polar2",
         "theta": [
          "Contigs",
          "Basepairs",
          "N50",
          "% Mapped reads",
          "Uncalled bases",
          "Misassembled contigs",
          "Misassembly events"
         ],
         "type": "scatterpolar"
        }
       ],
       "layout": {
        "annotations": [
         {
          "font": {
           "size": 16
          },
          "showarrow": false,
          "text": "Original",
          "x": 0.225,
          "xanchor": "center",
          "xref": "paper",
          "y": 1,
          "yanchor": "bottom",
          "yref": "paper"
         },
         {
          "font": {
           "size": 16
          },
          "showarrow": false,
          "text": "Filtered",
          "x": 0.775,
          "xanchor": "center",
          "xref": "paper",
          "y": 1,
          "yanchor": "bottom",
          "yref": "paper"
         }
        ],
        "legend": {
         "orientation": "h",
         "x": 0,
         "xanchor": "left",
         "y": -0.5,
         "yanchor": "bottom"
        },
        "polar": {
         "angularaxis": {
          "categoryarray": [
           "Contigs",
           "Basepairs",
           "Largest contig",
           "N50",
           "% Mapped reads",
           "Uncalled bases"
          ],
          "linecolor": "black"
         },
         "bgcolor": "rgb(255,255,255)",
         "domain": {
          "x": [
           0,
           0.45
          ],
          "y": [
           0,
           1
          ]
         },
         "hole": 0.08333333333333333,
         "radialaxis": {
          "angle": -22.5,
          "gridcolor": "#DCDCDC",
          "linecolor": "black",
          "linewidth": 2,
          "range": [
           0,
           1
          ],
          "visible": true
         }
        },
        "polar2": {
         "angularaxis": {
          "categoryarray": [
           "Contigs",
           "Basepairs",
           "N50",
           "% Mapped reads",
           "Uncalled bases",
           "Misassembled contigs",
           "Misassembly events"
          ],
          "linecolor": "black"
         },
         "bgcolor": "rgb(255,255,255)",
         "domain": {
          "x": [
           0.55,
           1
          ],
          "y": [
           0,
           1
          ]
         },
         "hole": 0.08333333333333333,
         "radialaxis": {
          "angle": -22.5,
          "gridcolor": "#DCDCDC",
          "linecolor": "black",
          "linewidth": 2,
          "range": [
           0,
           1
          ],
          "visible": true
         }
        },
        "template": {
         "data": {
          "bar": [
           {
            "error_x": {
             "color": "#2a3f5f"
            },
            "error_y": {
             "color": "#2a3f5f"
            },
            "marker": {
             "line": {
              "color": "#E5ECF6",
              "width": 0.5
             },
             "pattern": {
              "fillmode": "overlay",
              "size": 10,
              "solidity": 0.2
             }
            },
            "type": "bar"
           }
          ],
          "barpolar": [
           {
            "marker": {
             "line": {
              "color": "#E5ECF6",
              "width": 0.5
             },
             "pattern": {
              "fillmode": "overlay",
              "size": 10,
              "solidity": 0.2
             }
            },
            "type": "barpolar"
           }
          ],
          "carpet": [
           {
            "aaxis": {
             "endlinecolor": "#2a3f5f",
             "gridcolor": "white",
             "linecolor": "white",
             "minorgridcolor": "white",
             "startlinecolor": "#2a3f5f"
            },
            "baxis": {
             "endlinecolor": "#2a3f5f",
             "gridcolor": "white",
             "linecolor": "white",
             "minorgridcolor": "white",
             "startlinecolor": "#2a3f5f"
            },
            "type": "carpet"
           }
          ],
          "choropleth": [
           {
            "colorbar": {
             "outlinewidth": 0,
             "ticks": ""
            },
            "type": "choropleth"
           }
          ],
          "contour": [
           {
            "colorbar": {
             "outlinewidth": 0,
             "ticks": ""
            },
            "colorscale": [
             [
              0,
              "#0d0887"
             ],
             [
              0.1111111111111111,
              "#46039f"
             ],
             [
              0.2222222222222222,
              "#7201a8"
             ],
             [
              0.3333333333333333,
              "#9c179e"
             ],
             [
              0.4444444444444444,
              "#bd3786"
             ],
             [
              0.5555555555555556,
              "#d8576b"
             ],
             [
              0.6666666666666666,
              "#ed7953"
             ],
             [
              0.7777777777777778,
              "#fb9f3a"
             ],
             [
              0.8888888888888888,
              "#fdca26"
             ],
             [
              1,
              "#f0f921"
             ]
            ],
            "type": "contour"
           }
          ],
          "contourcarpet": [
           {
            "colorbar": {
             "outlinewidth": 0,
             "ticks": ""
            },
            "type": "contourcarpet"
           }
          ],
          "heatmap": [
           {
            "colorbar": {
             "outlinewidth": 0,
             "ticks": ""
            },
            "colorscale": [
             [
              0,
              "#0d0887"
             ],
             [
              0.1111111111111111,
              "#46039f"
             ],
             [
              0.2222222222222222,
              "#7201a8"
             ],
             [
              0.3333333333333333,
              "#9c179e"
             ],
             [
              0.4444444444444444,
              "#bd3786"
             ],
             [
              0.5555555555555556,
              "#d8576b"
             ],
             [
              0.6666666666666666,
              "#ed7953"
             ],
             [
              0.7777777777777778,
              "#fb9f3a"
             ],
             [
              0.8888888888888888,
              "#fdca26"
             ],
             [
              1,
              "#f0f921"
             ]
            ],
            "type": "heatmap"
           }
          ],
          "heatmapgl": [
           {
            "colorbar": {
             "outlinewidth": 0,
             "ticks": ""
            },
            "colorscale": [
             [
              0,
              "#0d0887"
             ],
             [
              0.1111111111111111,
              "#46039f"
             ],
             [
              0.2222222222222222,
              "#7201a8"
             ],
             [
              0.3333333333333333,
              "#9c179e"
             ],
             [
              0.4444444444444444,
              "#bd3786"
             ],
             [
              0.5555555555555556,
              "#d8576b"
             ],
             [
              0.6666666666666666,
              "#ed7953"
             ],
             [
              0.7777777777777778,
              "#fb9f3a"
             ],
             [
              0.8888888888888888,
              "#fdca26"
             ],
             [
              1,
              "#f0f921"
             ]
            ],
            "type": "heatmapgl"
           }
          ],
          "histogram": [
           {
            "marker": {
             "pattern": {
              "fillmode": "overlay",
              "size": 10,
              "solidity": 0.2
             }
            },
            "type": "histogram"
           }
          ],
          "histogram2d": [
           {
            "colorbar": {
             "outlinewidth": 0,
             "ticks": ""
            },
            "colorscale": [
             [
              0,
              "#0d0887"
             ],
             [
              0.1111111111111111,
              "#46039f"
             ],
             [
              0.2222222222222222,
              "#7201a8"
             ],
             [
              0.3333333333333333,
              "#9c179e"
             ],
             [
              0.4444444444444444,
              "#bd3786"
             ],
             [
              0.5555555555555556,
              "#d8576b"
             ],
             [
              0.6666666666666666,
              "#ed7953"
             ],
             [
              0.7777777777777778,
              "#fb9f3a"
             ],
             [
              0.8888888888888888,
              "#fdca26"
             ],
             [
              1,
              "#f0f921"
             ]
            ],
            "type": "histogram2d"
           }
          ],
          "histogram2dcontour": [
           {
            "colorbar": {
             "outlinewidth": 0,
             "ticks": ""
            },
            "colorscale": [
             [
              0,
              "#0d0887"
             ],
             [
              0.1111111111111111,
              "#46039f"
             ],
             [
              0.2222222222222222,
              "#7201a8"
             ],
             [
              0.3333333333333333,
              "#9c179e"
             ],
             [
              0.4444444444444444,
              "#bd3786"
             ],
             [
              0.5555555555555556,
              "#d8576b"
             ],
             [
              0.6666666666666666,
              "#ed7953"
             ],
             [
              0.7777777777777778,
              "#fb9f3a"
             ],
             [
              0.8888888888888888,
              "#fdca26"
             ],
             [
              1,
              "#f0f921"
             ]
            ],
            "type": "histogram2dcontour"
           }
          ],
          "mesh3d": [
           {
            "colorbar": {
             "outlinewidth": 0,
             "ticks": ""
            },
            "type": "mesh3d"
           }
          ],
          "parcoords": [
           {
            "line": {
             "colorbar": {
              "outlinewidth": 0,
              "ticks": ""
             }
            },
            "type": "parcoords"
           }
          ],
          "pie": [
           {
            "automargin": true,
            "type": "pie"
           }
          ],
          "scatter": [
           {
            "marker": {
             "colorbar": {
              "outlinewidth": 0,
              "ticks": ""
             }
            },
            "type": "scatter"
           }
          ],
          "scatter3d": [
           {
            "line": {
             "colorbar": {
              "outlinewidth": 0,
              "ticks": ""
             }
            },
            "marker": {
             "colorbar": {
              "outlinewidth": 0,
              "ticks": ""
             }
            },
            "type": "scatter3d"
           }
          ],
          "scattercarpet": [
           {
            "marker": {
             "colorbar": {
              "outlinewidth": 0,
              "ticks": ""
             }
            },
            "type": "scattercarpet"
           }
          ],
          "scattergeo": [
           {
            "marker": {
             "colorbar": {
              "outlinewidth": 0,
              "ticks": ""
             }
            },
            "type": "scattergeo"
           }
          ],
          "scattergl": [
           {
            "marker": {
             "colorbar": {
              "outlinewidth": 0,
              "ticks": ""
             }
            },
            "type": "scattergl"
           }
          ],
          "scattermapbox": [
           {
            "marker": {
             "colorbar": {
              "outlinewidth": 0,
              "ticks": ""
             }
            },
            "type": "scattermapbox"
           }
          ],
          "scatterpolar": [
           {
            "marker": {
             "colorbar": {
              "outlinewidth": 0,
              "ticks": ""
             }
            },
            "type": "scatterpolar"
           }
          ],
          "scatterpolargl": [
           {
            "marker": {
             "colorbar": {
              "outlinewidth": 0,
              "ticks": ""
             }
            },
            "type": "scatterpolargl"
           }
          ],
          "scatterternary": [
           {
            "marker": {
             "colorbar": {
              "outlinewidth": 0,
              "ticks": ""
             }
            },
            "type": "scatterternary"
           }
          ],
          "surface": [
           {
            "colorbar": {
             "outlinewidth": 0,
             "ticks": ""
            },
            "colorscale": [
             [
              0,
              "#0d0887"
             ],
             [
              0.1111111111111111,
              "#46039f"
             ],
             [
              0.2222222222222222,
              "#7201a8"
             ],
             [
              0.3333333333333333,
              "#9c179e"
             ],
             [
              0.4444444444444444,
              "#bd3786"
             ],
             [
              0.5555555555555556,
              "#d8576b"
             ],
             [
              0.6666666666666666,
              "#ed7953"
             ],
             [
              0.7777777777777778,
              "#fb9f3a"
             ],
             [
              0.8888888888888888,
              "#fdca26"
             ],
             [
              1,
              "#f0f921"
             ]
            ],
            "type": "surface"
           }
          ],
          "table": [
           {
            "cells": {
             "fill": {
              "color": "#EBF0F8"
             },
             "line": {
              "color": "white"
             }
            },
            "header": {
             "fill": {
              "color": "#C8D4E3"
             },
             "line": {
              "color": "white"
             }
            },
            "type": "table"
           }
          ]
         },
         "layout": {
          "annotationdefaults": {
           "arrowcolor": "#2a3f5f",
           "arrowhead": 0,
           "arrowwidth": 1
          },
          "autotypenumbers": "strict",
          "coloraxis": {
           "colorbar": {
            "outlinewidth": 0,
            "ticks": ""
           }
          },
          "colorscale": {
           "diverging": [
            [
             0,
             "#8e0152"
            ],
            [
             0.1,
             "#c51b7d"
            ],
            [
             0.2,
             "#de77ae"
            ],
            [
             0.3,
             "#f1b6da"
            ],
            [
             0.4,
             "#fde0ef"
            ],
            [
             0.5,
             "#f7f7f7"
            ],
            [
             0.6,
             "#e6f5d0"
            ],
            [
             0.7,
             "#b8e186"
            ],
            [
             0.8,
             "#7fbc41"
            ],
            [
             0.9,
             "#4d9221"
            ],
            [
             1,
             "#276419"
            ]
           ],
           "sequential": [
            [
             0,
             "#0d0887"
            ],
            [
             0.1111111111111111,
             "#46039f"
            ],
            [
             0.2222222222222222,
             "#7201a8"
            ],
            [
             0.3333333333333333,
             "#9c179e"
            ],
            [
             0.4444444444444444,
             "#bd3786"
            ],
            [
             0.5555555555555556,
             "#d8576b"
            ],
            [
             0.6666666666666666,
             "#ed7953"
            ],
            [
             0.7777777777777778,
             "#fb9f3a"
            ],
            [
             0.8888888888888888,
             "#fdca26"
            ],
            [
             1,
             "#f0f921"
            ]
           ],
           "sequentialminus": [
            [
             0,
             "#0d0887"
            ],
            [
             0.1111111111111111,
             "#46039f"
            ],
            [
             0.2222222222222222,
             "#7201a8"
            ],
            [
             0.3333333333333333,
             "#9c179e"
            ],
            [
             0.4444444444444444,
             "#bd3786"
            ],
            [
             0.5555555555555556,
             "#d8576b"
            ],
            [
             0.6666666666666666,
             "#ed7953"
            ],
            [
             0.7777777777777778,
             "#fb9f3a"
            ],
            [
             0.8888888888888888,
             "#fdca26"
            ],
            [
             1,
             "#f0f921"
            ]
           ]
          },
          "colorway": [
           "#636efa",
           "#EF553B",
           "#00cc96",
           "#ab63fa",
           "#FFA15A",
           "#19d3f3",
           "#FF6692",
           "#B6E880",
           "#FF97FF",
           "#FECB52"
          ],
          "font": {
           "color": "#2a3f5f"
          },
          "geo": {
           "bgcolor": "white",
           "lakecolor": "white",
           "landcolor": "#E5ECF6",
           "showlakes": true,
           "showland": true,
           "subunitcolor": "white"
          },
          "hoverlabel": {
           "align": "left"
          },
          "hovermode": "closest",
          "mapbox": {
           "style": "light"
          },
          "paper_bgcolor": "white",
          "plot_bgcolor": "#E5ECF6",
          "polar": {
           "angularaxis": {
            "gridcolor": "white",
            "linecolor": "white",
            "ticks": ""
           },
           "bgcolor": "#E5ECF6",
           "radialaxis": {
            "gridcolor": "white",
            "linecolor": "white",
            "ticks": ""
           }
          },
          "scene": {
           "xaxis": {
            "backgroundcolor": "#E5ECF6",
            "gridcolor": "white",
            "gridwidth": 2,
            "linecolor": "white",
            "showbackground": true,
            "ticks": "",
            "zerolinecolor": "white"
           },
           "yaxis": {
            "backgroundcolor": "#E5ECF6",
            "gridcolor": "white",
            "gridwidth": 2,
            "linecolor": "white",
            "showbackground": true,
            "ticks": "",
            "zerolinecolor": "white"
           },
           "zaxis": {
            "backgroundcolor": "#E5ECF6",
            "gridcolor": "white",
            "gridwidth": 2,
            "linecolor": "white",
            "showbackground": true,
            "ticks": "",
            "zerolinecolor": "white"
           }
          },
          "shapedefaults": {
           "line": {
            "color": "#2a3f5f"
           }
          },
          "ternary": {
           "aaxis": {
            "gridcolor": "white",
            "linecolor": "white",
            "ticks": ""
           },
           "baxis": {
            "gridcolor": "white",
            "linecolor": "white",
            "ticks": ""
           },
           "bgcolor": "#E5ECF6",
           "caxis": {
            "gridcolor": "white",
            "linecolor": "white",
            "ticks": ""
           }
          },
          "title": {
           "x": 0.05
          },
          "xaxis": {
           "automargin": true,
           "gridcolor": "white",
           "linecolor": "white",
           "ticks": "",
           "title": {
            "standoff": 15
           },
           "zerolinecolor": "white",
           "zerolinewidth": 2
          },
          "yaxis": {
           "automargin": true,
           "gridcolor": "white",
           "linecolor": "white",
           "ticks": "",
           "title": {
            "standoff": 15
           },
           "zerolinecolor": "white",
           "zerolinewidth": 2
          }
         }
        },
        "title": {
         "text": "LNN"
        }
       }
      },
      "text/html": [
       "<div>                            <div id=\"c3fdc2ae-5910-443a-b0eb-c9f72b3493a5\" class=\"plotly-graph-div\" style=\"height:525px; width:100%;\"></div>            <script type=\"text/javascript\">                require([\"plotly\"], function(Plotly) {                    window.PLOTLYENV=window.PLOTLYENV || {};                                    if (document.getElementById(\"c3fdc2ae-5910-443a-b0eb-c9f72b3493a5\")) {                    Plotly.newPlot(                        \"c3fdc2ae-5910-443a-b0eb-c9f72b3493a5\",                        [{\"line\":{\"color\":\"#930001\"},\"marker\":{\"color\":\"#930001\",\"line\":{\"color\":\"black\",\"width\":2},\"size\":12},\"mode\":\"lines+markers\",\"name\":\"Metagenomic - Best\",\"opacity\":0.6,\"r\":[0.9271599747740172,0.501337934293045,1.0,0.9090268535191419,1.0,1.0],\"showlegend\":true,\"subplot\":\"polar\",\"theta\":[\"Contigs\",\"Basepairs\",\"Largest contig\",\"N50\",\"% Mapped reads\",\"Uncalled bases\"],\"type\":\"scatterpolar\"},{\"line\":{\"color\":\"#930001\"},\"marker\":{\"color\":\"#930001\",\"line\":{\"color\":\"black\",\"width\":2},\"size\":12},\"mode\":\"lines+markers\",\"name\":\"Metagenomic - Best\",\"opacity\":0.6,\"r\":[0.9030006978367062,0.44284492503163597,0.9855698904350048,1.0,1.0,0.9166666666666666,0.9130434782608696],\"showlegend\":false,\"subplot\":\"polar2\",\"theta\":[\"Contigs\",\"Basepairs\",\"N50\",\"% Mapped reads\",\"Uncalled bases\",\"Misassembled contigs\",\"Misassembly events\"],\"type\":\"scatterpolar\"},{\"line\":{\"color\":\"#C97F80\"},\"marker\":{\"color\":\"#C97F80\",\"line\":{\"color\":\"black\",\"width\":2},\"size\":12},\"mode\":\"lines+markers\",\"name\":\"Metagenomic - Worst\",\"opacity\":0.6,\"r\":[0.295774647887324,0.44951121750518075,0.5422249546996194,0.4359854462744193,0.9989666588992823,1.0],\"showlegend\":true,\"subplot\":\"polar\",\"theta\":[\"Contigs\",\"Basepairs\",\"Largest contig\",\"N50\",\"% Mapped reads\",\"Uncalled bases\"],\"type\":\"scatterpolar\"},{\"line\":{\"color\":\"#C97F80\"},\"marker\":{\"color\":\"#C97F80\",\"line\":{\"color\":\"black\",\"width\":2},\"size\":12},\"mode\":\"lines+markers\",\"name\":\"Metagenomic - Worst\",\"opacity\":0.6,\"r\":[0.8178646196789952,0.4408342024921843,0.44519483944339827,0.9911753978737771,1.0,0.8333333333333334,0.8695652173913043],\"showlegend\":false,\"subplot\":\"polar2\",\"theta\":[\"Contigs\",\"Basepairs\",\"N50\",\"% Mapped reads\",\"Uncalled bases\",\"Misassembled contigs\",\"Misassembly events\"],\"type\":\"scatterpolar\"},{\"line\":{\"color\":\"#009392\"},\"marker\":{\"color\":\"#009392\",\"line\":{\"color\":\"black\",\"width\":2},\"size\":12},\"mode\":\"lines+markers\",\"name\":\"Genomic - Best\",\"opacity\":0.6,\"r\":[0.9805549716207694,0.5042965481136903,0.784744257708009,1.0,0.999157364301145,1.0],\"showlegend\":true,\"subplot\":\"polar\",\"theta\":[\"Contigs\",\"Basepairs\",\"Largest contig\",\"N50\",\"% Mapped reads\",\"Uncalled bases\"],\"type\":\"scatterpolar\"},{\"line\":{\"color\":\"#009392\"},\"marker\":{\"color\":\"#009392\",\"line\":{\"color\":\"black\",\"width\":2},\"size\":12},\"mode\":\"lines+markers\",\"name\":\"Genomic - Best\",\"opacity\":0.6,\"r\":[0.9218422889043963,0.44077041516726867,1.0,0.9990468884852816,1.0,1.0,1.0],\"showlegend\":false,\"subplot\":\"polar2\",\"theta\":[\"Contigs\",\"Basepairs\",\"N50\",\"% Mapped reads\",\"Uncalled bases\",\"Misassembled contigs\",\"Misassembly events\"],\"type\":\"scatterpolar\"},{\"line\":{\"color\":\"#7FC9C8\"},\"marker\":{\"color\":\"#7FC9C8\",\"line\":{\"color\":\"black\",\"width\":2},\"size\":12},\"mode\":\"lines+markers\",\"name\":\"Genomic - Worst\",\"opacity\":0.6,\"r\":[0.0,0.26506771166720255,0.05488082087900794,0.004759216604103228,0.9529382075638348,1.0],\"showlegend\":true,\"subplot\":\"polar\",\"theta\":[\"Contigs\",\"Basepairs\",\"Largest contig\",\"N50\",\"% Mapped reads\",\"Uncalled bases\"],\"type\":\"scatterpolar\"},{\"line\":{\"color\":\"#7FC9C8\"},\"marker\":{\"color\":\"#7FC9C8\",\"line\":{\"color\":\"black\",\"width\":2},\"size\":12},\"mode\":\"lines+markers\",\"name\":\"Genomic - Worst\",\"opacity\":0.6,\"r\":[0.0,0.14444539554555724,0.030430142529266093,0.9205467769250751,1.0,0.0,0.0],\"showlegend\":false,\"subplot\":\"polar2\",\"theta\":[\"Contigs\",\"Basepairs\",\"N50\",\"% Mapped reads\",\"Uncalled bases\",\"Misassembled contigs\",\"Misassembly events\"],\"type\":\"scatterpolar\"}],                        {\"annotations\":[{\"font\":{\"size\":16},\"showarrow\":false,\"text\":\"Original\",\"x\":0.225,\"xanchor\":\"center\",\"xref\":\"paper\",\"y\":1.0,\"yanchor\":\"bottom\",\"yref\":\"paper\"},{\"font\":{\"size\":16},\"showarrow\":false,\"text\":\"Filtered\",\"x\":0.775,\"xanchor\":\"center\",\"xref\":\"paper\",\"y\":1.0,\"yanchor\":\"bottom\",\"yref\":\"paper\"}],\"legend\":{\"orientation\":\"h\",\"x\":0,\"xanchor\":\"left\",\"y\":-0.5,\"yanchor\":\"bottom\"},\"polar\":{\"angularaxis\":{\"categoryarray\":[\"Contigs\",\"Basepairs\",\"Largest contig\",\"N50\",\"% Mapped reads\",\"Uncalled bases\"],\"linecolor\":\"black\"},\"bgcolor\":\"rgb(255,255,255)\",\"domain\":{\"x\":[0.0,0.45],\"y\":[0.0,1.0]},\"hole\":0.08333333333333333,\"radialaxis\":{\"angle\":-22.5,\"gridcolor\":\"#DCDCDC\",\"linecolor\":\"black\",\"linewidth\":2,\"range\":[0,1],\"visible\":true}},\"polar2\":{\"angularaxis\":{\"categoryarray\":[\"Contigs\",\"Basepairs\",\"N50\",\"% Mapped reads\",\"Uncalled bases\",\"Misassembled contigs\",\"Misassembly events\"],\"linecolor\":\"black\"},\"bgcolor\":\"rgb(255,255,255)\",\"domain\":{\"x\":[0.55,1.0],\"y\":[0.0,1.0]},\"hole\":0.08333333333333333,\"radialaxis\":{\"angle\":-22.5,\"gridcolor\":\"#DCDCDC\",\"linecolor\":\"black\",\"linewidth\":2,\"range\":[0,1],\"visible\":true}},\"template\":{\"data\":{\"bar\":[{\"error_x\":{\"color\":\"#2a3f5f\"},\"error_y\":{\"color\":\"#2a3f5f\"},\"marker\":{\"line\":{\"color\":\"#E5ECF6\",\"width\":0.5},\"pattern\":{\"fillmode\":\"overlay\",\"size\":10,\"solidity\":0.2}},\"type\":\"bar\"}],\"barpolar\":[{\"marker\":{\"line\":{\"color\":\"#E5ECF6\",\"width\":0.5},\"pattern\":{\"fillmode\":\"overlay\",\"size\":10,\"solidity\":0.2}},\"type\":\"barpolar\"}],\"carpet\":[{\"aaxis\":{\"endlinecolor\":\"#2a3f5f\",\"gridcolor\":\"white\",\"linecolor\":\"white\",\"minorgridcolor\":\"white\",\"startlinecolor\":\"#2a3f5f\"},\"baxis\":{\"endlinecolor\":\"#2a3f5f\",\"gridcolor\":\"white\",\"linecolor\":\"white\",\"minorgridcolor\":\"white\",\"startlinecolor\":\"#2a3f5f\"},\"type\":\"carpet\"}],\"choropleth\":[{\"colorbar\":{\"outlinewidth\":0,\"ticks\":\"\"},\"type\":\"choropleth\"}],\"contour\":[{\"colorbar\":{\"outlinewidth\":0,\"ticks\":\"\"},\"colorscale\":[[0.0,\"#0d0887\"],[0.1111111111111111,\"#46039f\"],[0.2222222222222222,\"#7201a8\"],[0.3333333333333333,\"#9c179e\"],[0.4444444444444444,\"#bd3786\"],[0.5555555555555556,\"#d8576b\"],[0.6666666666666666,\"#ed7953\"],[0.7777777777777778,\"#fb9f3a\"],[0.8888888888888888,\"#fdca26\"],[1.0,\"#f0f921\"]],\"type\":\"contour\"}],\"contourcarpet\":[{\"colorbar\":{\"outlinewidth\":0,\"ticks\":\"\"},\"type\":\"contourcarpet\"}],\"heatmap\":[{\"colorbar\":{\"outlinewidth\":0,\"ticks\":\"\"},\"colorscale\":[[0.0,\"#0d0887\"],[0.1111111111111111,\"#46039f\"],[0.2222222222222222,\"#7201a8\"],[0.3333333333333333,\"#9c179e\"],[0.4444444444444444,\"#bd3786\"],[0.5555555555555556,\"#d8576b\"],[0.6666666666666666,\"#ed7953\"],[0.7777777777777778,\"#fb9f3a\"],[0.8888888888888888,\"#fdca26\"],[1.0,\"#f0f921\"]],\"type\":\"heatmap\"}],\"heatmapgl\":[{\"colorbar\":{\"outlinewidth\":0,\"ticks\":\"\"},\"colorscale\":[[0.0,\"#0d0887\"],[0.1111111111111111,\"#46039f\"],[0.2222222222222222,\"#7201a8\"],[0.3333333333333333,\"#9c179e\"],[0.4444444444444444,\"#bd3786\"],[0.5555555555555556,\"#d8576b\"],[0.6666666666666666,\"#ed7953\"],[0.7777777777777778,\"#fb9f3a\"],[0.8888888888888888,\"#fdca26\"],[1.0,\"#f0f921\"]],\"type\":\"heatmapgl\"}],\"histogram\":[{\"marker\":{\"pattern\":{\"fillmode\":\"overlay\",\"size\":10,\"solidity\":0.2}},\"type\":\"histogram\"}],\"histogram2d\":[{\"colorbar\":{\"outlinewidth\":0,\"ticks\":\"\"},\"colorscale\":[[0.0,\"#0d0887\"],[0.1111111111111111,\"#46039f\"],[0.2222222222222222,\"#7201a8\"],[0.3333333333333333,\"#9c179e\"],[0.4444444444444444,\"#bd3786\"],[0.5555555555555556,\"#d8576b\"],[0.6666666666666666,\"#ed7953\"],[0.7777777777777778,\"#fb9f3a\"],[0.8888888888888888,\"#fdca26\"],[1.0,\"#f0f921\"]],\"type\":\"histogram2d\"}],\"histogram2dcontour\":[{\"colorbar\":{\"outlinewidth\":0,\"ticks\":\"\"},\"colorscale\":[[0.0,\"#0d0887\"],[0.1111111111111111,\"#46039f\"],[0.2222222222222222,\"#7201a8\"],[0.3333333333333333,\"#9c179e\"],[0.4444444444444444,\"#bd3786\"],[0.5555555555555556,\"#d8576b\"],[0.6666666666666666,\"#ed7953\"],[0.7777777777777778,\"#fb9f3a\"],[0.8888888888888888,\"#fdca26\"],[1.0,\"#f0f921\"]],\"type\":\"histogram2dcontour\"}],\"mesh3d\":[{\"colorbar\":{\"outlinewidth\":0,\"ticks\":\"\"},\"type\":\"mesh3d\"}],\"parcoords\":[{\"line\":{\"colorbar\":{\"outlinewidth\":0,\"ticks\":\"\"}},\"type\":\"parcoords\"}],\"pie\":[{\"automargin\":true,\"type\":\"pie\"}],\"scatter\":[{\"marker\":{\"colorbar\":{\"outlinewidth\":0,\"ticks\":\"\"}},\"type\":\"scatter\"}],\"scatter3d\":[{\"line\":{\"colorbar\":{\"outlinewidth\":0,\"ticks\":\"\"}},\"marker\":{\"colorbar\":{\"outlinewidth\":0,\"ticks\":\"\"}},\"type\":\"scatter3d\"}],\"scattercarpet\":[{\"marker\":{\"colorbar\":{\"outlinewidth\":0,\"ticks\":\"\"}},\"type\":\"scattercarpet\"}],\"scattergeo\":[{\"marker\":{\"colorbar\":{\"outlinewidth\":0,\"ticks\":\"\"}},\"type\":\"scattergeo\"}],\"scattergl\":[{\"marker\":{\"colorbar\":{\"outlinewidth\":0,\"ticks\":\"\"}},\"type\":\"scattergl\"}],\"scattermapbox\":[{\"marker\":{\"colorbar\":{\"outlinewidth\":0,\"ticks\":\"\"}},\"type\":\"scattermapbox\"}],\"scatterpolar\":[{\"marker\":{\"colorbar\":{\"outlinewidth\":0,\"ticks\":\"\"}},\"type\":\"scatterpolar\"}],\"scatterpolargl\":[{\"marker\":{\"colorbar\":{\"outlinewidth\":0,\"ticks\":\"\"}},\"type\":\"scatterpolargl\"}],\"scatterternary\":[{\"marker\":{\"colorbar\":{\"outlinewidth\":0,\"ticks\":\"\"}},\"type\":\"scatterternary\"}],\"surface\":[{\"colorbar\":{\"outlinewidth\":0,\"ticks\":\"\"},\"colorscale\":[[0.0,\"#0d0887\"],[0.1111111111111111,\"#46039f\"],[0.2222222222222222,\"#7201a8\"],[0.3333333333333333,\"#9c179e\"],[0.4444444444444444,\"#bd3786\"],[0.5555555555555556,\"#d8576b\"],[0.6666666666666666,\"#ed7953\"],[0.7777777777777778,\"#fb9f3a\"],[0.8888888888888888,\"#fdca26\"],[1.0,\"#f0f921\"]],\"type\":\"surface\"}],\"table\":[{\"cells\":{\"fill\":{\"color\":\"#EBF0F8\"},\"line\":{\"color\":\"white\"}},\"header\":{\"fill\":{\"color\":\"#C8D4E3\"},\"line\":{\"color\":\"white\"}},\"type\":\"table\"}]},\"layout\":{\"annotationdefaults\":{\"arrowcolor\":\"#2a3f5f\",\"arrowhead\":0,\"arrowwidth\":1},\"autotypenumbers\":\"strict\",\"coloraxis\":{\"colorbar\":{\"outlinewidth\":0,\"ticks\":\"\"}},\"colorscale\":{\"diverging\":[[0,\"#8e0152\"],[0.1,\"#c51b7d\"],[0.2,\"#de77ae\"],[0.3,\"#f1b6da\"],[0.4,\"#fde0ef\"],[0.5,\"#f7f7f7\"],[0.6,\"#e6f5d0\"],[0.7,\"#b8e186\"],[0.8,\"#7fbc41\"],[0.9,\"#4d9221\"],[1,\"#276419\"]],\"sequential\":[[0.0,\"#0d0887\"],[0.1111111111111111,\"#46039f\"],[0.2222222222222222,\"#7201a8\"],[0.3333333333333333,\"#9c179e\"],[0.4444444444444444,\"#bd3786\"],[0.5555555555555556,\"#d8576b\"],[0.6666666666666666,\"#ed7953\"],[0.7777777777777778,\"#fb9f3a\"],[0.8888888888888888,\"#fdca26\"],[1.0,\"#f0f921\"]],\"sequentialminus\":[[0.0,\"#0d0887\"],[0.1111111111111111,\"#46039f\"],[0.2222222222222222,\"#7201a8\"],[0.3333333333333333,\"#9c179e\"],[0.4444444444444444,\"#bd3786\"],[0.5555555555555556,\"#d8576b\"],[0.6666666666666666,\"#ed7953\"],[0.7777777777777778,\"#fb9f3a\"],[0.8888888888888888,\"#fdca26\"],[1.0,\"#f0f921\"]]},\"colorway\":[\"#636efa\",\"#EF553B\",\"#00cc96\",\"#ab63fa\",\"#FFA15A\",\"#19d3f3\",\"#FF6692\",\"#B6E880\",\"#FF97FF\",\"#FECB52\"],\"font\":{\"color\":\"#2a3f5f\"},\"geo\":{\"bgcolor\":\"white\",\"lakecolor\":\"white\",\"landcolor\":\"#E5ECF6\",\"showlakes\":true,\"showland\":true,\"subunitcolor\":\"white\"},\"hoverlabel\":{\"align\":\"left\"},\"hovermode\":\"closest\",\"mapbox\":{\"style\":\"light\"},\"paper_bgcolor\":\"white\",\"plot_bgcolor\":\"#E5ECF6\",\"polar\":{\"angularaxis\":{\"gridcolor\":\"white\",\"linecolor\":\"white\",\"ticks\":\"\"},\"bgcolor\":\"#E5ECF6\",\"radialaxis\":{\"gridcolor\":\"white\",\"linecolor\":\"white\",\"ticks\":\"\"}},\"scene\":{\"xaxis\":{\"backgroundcolor\":\"#E5ECF6\",\"gridcolor\":\"white\",\"gridwidth\":2,\"linecolor\":\"white\",\"showbackground\":true,\"ticks\":\"\",\"zerolinecolor\":\"white\"},\"yaxis\":{\"backgroundcolor\":\"#E5ECF6\",\"gridcolor\":\"white\",\"gridwidth\":2,\"linecolor\":\"white\",\"showbackground\":true,\"ticks\":\"\",\"zerolinecolor\":\"white\"},\"zaxis\":{\"backgroundcolor\":\"#E5ECF6\",\"gridcolor\":\"white\",\"gridwidth\":2,\"linecolor\":\"white\",\"showbackground\":true,\"ticks\":\"\",\"zerolinecolor\":\"white\"}},\"shapedefaults\":{\"line\":{\"color\":\"#2a3f5f\"}},\"ternary\":{\"aaxis\":{\"gridcolor\":\"white\",\"linecolor\":\"white\",\"ticks\":\"\"},\"baxis\":{\"gridcolor\":\"white\",\"linecolor\":\"white\",\"ticks\":\"\"},\"bgcolor\":\"#E5ECF6\",\"caxis\":{\"gridcolor\":\"white\",\"linecolor\":\"white\",\"ticks\":\"\"}},\"title\":{\"x\":0.05},\"xaxis\":{\"automargin\":true,\"gridcolor\":\"white\",\"linecolor\":\"white\",\"ticks\":\"\",\"title\":{\"standoff\":15},\"zerolinecolor\":\"white\",\"zerolinewidth\":2},\"yaxis\":{\"automargin\":true,\"gridcolor\":\"white\",\"linecolor\":\"white\",\"ticks\":\"\",\"title\":{\"standoff\":15},\"zerolinecolor\":\"white\",\"zerolinewidth\":2}}},\"title\":{\"text\":\"LNN\"}},                        {\"responsive\": true}                    ).then(function(){\n",
       "                            \n",
       "var gd = document.getElementById('c3fdc2ae-5910-443a-b0eb-c9f72b3493a5');\n",
       "var x = new MutationObserver(function (mutations, observer) {{\n",
       "        var display = window.getComputedStyle(gd).display;\n",
       "        if (!display || display === 'none') {{\n",
       "            console.log([gd, 'removed!']);\n",
       "            Plotly.purge(gd);\n",
       "            observer.disconnect();\n",
       "        }}\n",
       "}});\n",
       "\n",
       "// Listen for the removal of the full notebook cells\n",
       "var notebookContainer = gd.closest('#notebook-container');\n",
       "if (notebookContainer) {{\n",
       "    x.observe(notebookContainer, {childList: true});\n",
       "}}\n",
       "\n",
       "// Listen for the clearing of the current output cell\n",
       "var outputEl = gd.closest('.output');\n",
       "if (outputEl) {{\n",
       "    x.observe(outputEl, {childList: true});\n",
       "}}\n",
       "\n",
       "                        })                };                });            </script>        </div>"
      ]
     },
     "metadata": {},
     "output_type": "display_data"
    },
    {
     "data": {
      "application/vnd.plotly.v1+json": {
       "config": {
        "plotlyServerURL": "https://plot.ly"
       },
       "data": [
        {
         "line": {
          "color": "#930001"
         },
         "marker": {
          "color": "#930001",
          "line": {
           "color": "black",
           "width": 2
          },
          "size": 12
         },
         "mode": "lines+markers",
         "name": "Metagenomic - Best",
         "opacity": 0.6,
         "r": [
          0.8128900425249903,
          0.8990332277998863,
          0.9064827299827883,
          0.3201795362887529,
          1,
          1
         ],
         "showlegend": true,
         "subplot": "polar",
         "theta": [
          "Contigs",
          "Basepairs",
          "Largest contig",
          "N50",
          "% Mapped reads",
          "Uncalled bases"
         ],
         "type": "scatterpolar"
        },
        {
         "line": {
          "color": "#930001"
         },
         "marker": {
          "color": "#930001",
          "line": {
           "color": "black",
           "width": 2
          },
          "size": 12
         },
         "mode": "lines+markers",
         "name": "Metagenomic - Best",
         "opacity": 0.6,
         "r": [
          0.879375875175035,
          0.6072604710819969,
          0.8213551641986266,
          1,
          1,
          1,
          1
         ],
         "showlegend": false,
         "subplot": "polar2",
         "theta": [
          "Contigs",
          "Basepairs",
          "N50",
          "% Mapped reads",
          "Uncalled bases",
          "Misassembled contigs",
          "Misassembly events"
         ],
         "type": "scatterpolar"
        },
        {
         "line": {
          "color": "#C97F80"
         },
         "marker": {
          "color": "#C97F80",
          "line": {
           "color": "black",
           "width": 2
          },
          "size": 12
         },
         "mode": "lines+markers",
         "name": "Metagenomic - Worst",
         "opacity": 0.6,
         "r": [
          0.27425857403214227,
          0.5534168275163913,
          0.6405661078492786,
          0.014302175300914032,
          0.9941983687505817,
          1
         ],
         "showlegend": true,
         "subplot": "polar",
         "theta": [
          "Contigs",
          "Basepairs",
          "Largest contig",
          "N50",
          "% Mapped reads",
          "Uncalled bases"
         ],
         "type": "scatterpolar"
        },
        {
         "line": {
          "color": "#C97F80"
         },
         "marker": {
          "color": "#C97F80",
          "line": {
           "color": "black",
           "width": 2
          },
          "size": 12
         },
         "mode": "lines+markers",
         "name": "Metagenomic - Worst",
         "opacity": 0.6,
         "r": [
          0.3214642928585717,
          0.4488807764164753,
          0.34250089534575917,
          0.9932251147323244,
          1,
          0.9947552447552448,
          0.9939024390243902
         ],
         "showlegend": false,
         "subplot": "polar2",
         "theta": [
          "Contigs",
          "Basepairs",
          "N50",
          "% Mapped reads",
          "Uncalled bases",
          "Misassembled contigs",
          "Misassembly events"
         ],
         "type": "scatterpolar"
        },
        {
         "line": {
          "color": "#009392"
         },
         "marker": {
          "color": "#009392",
          "line": {
           "color": "black",
           "width": 2
          },
          "size": 12
         },
         "mode": "lines+markers",
         "name": "Genomic - Best",
         "opacity": 0.6,
         "r": [
          0.9943392058319986,
          0.9538164903289659,
          1,
          1,
          0.9792045143045561,
          1
         ],
         "showlegend": true,
         "subplot": "polar",
         "theta": [
          "Contigs",
          "Basepairs",
          "Largest contig",
          "N50",
          "% Mapped reads",
          "Uncalled bases"
         ],
         "type": "scatterpolar"
        },
        {
         "line": {
          "color": "#009392"
         },
         "marker": {
          "color": "#009392",
          "line": {
           "color": "black",
           "width": 2
          },
          "size": 12
         },
         "mode": "lines+markers",
         "name": "Genomic - Best",
         "opacity": 0.6,
         "r": [
          0.9711942388477696,
          0.6332140277698475,
          1,
          0.9773509099944305,
          1,
          1,
          1
         ],
         "showlegend": false,
         "subplot": "polar2",
         "theta": [
          "Contigs",
          "Basepairs",
          "N50",
          "% Mapped reads",
          "Uncalled bases",
          "Misassembled contigs",
          "Misassembly events"
         ],
         "type": "scatterpolar"
        },
        {
         "line": {
          "color": "#7FC9C8"
         },
         "marker": {
          "color": "#7FC9C8",
          "line": {
           "color": "black",
           "width": 2
          },
          "size": 12
         },
         "mode": "lines+markers",
         "name": "Genomic - Worst",
         "opacity": 0.6,
         "r": [
          0,
          0.28496654574541613,
          0.03439375332524069,
          0.005570607745130097,
          0.8747451848435568,
          1
         ],
         "showlegend": true,
         "subplot": "polar",
         "theta": [
          "Contigs",
          "Basepairs",
          "Largest contig",
          "N50",
          "% Mapped reads",
          "Uncalled bases"
         ],
         "type": "scatterpolar"
        },
        {
         "line": {
          "color": "#7FC9C8"
         },
         "marker": {
          "color": "#7FC9C8",
          "line": {
           "color": "black",
           "width": 2
          },
          "size": 12
         },
         "mode": "lines+markers",
         "name": "Genomic - Worst",
         "opacity": 0.6,
         "r": [
          0,
          0.18746619780720897,
          0.008361750829168029,
          0.6472386709964758,
          1,
          0,
          0
         ],
         "showlegend": false,
         "subplot": "polar2",
         "theta": [
          "Contigs",
          "Basepairs",
          "N50",
          "% Mapped reads",
          "Uncalled bases",
          "Misassembled contigs",
          "Misassembly events"
         ],
         "type": "scatterpolar"
        }
       ],
       "layout": {
        "annotations": [
         {
          "font": {
           "size": 16
          },
          "showarrow": false,
          "text": "Original",
          "x": 0.225,
          "xanchor": "center",
          "xref": "paper",
          "y": 1,
          "yanchor": "bottom",
          "yref": "paper"
         },
         {
          "font": {
           "size": 16
          },
          "showarrow": false,
          "text": "Filtered",
          "x": 0.775,
          "xanchor": "center",
          "xref": "paper",
          "y": 1,
          "yanchor": "bottom",
          "yref": "paper"
         }
        ],
        "legend": {
         "orientation": "h",
         "x": 0,
         "xanchor": "left",
         "y": -0.5,
         "yanchor": "bottom"
        },
        "polar": {
         "angularaxis": {
          "categoryarray": [
           "Contigs",
           "Basepairs",
           "Largest contig",
           "N50",
           "% Mapped reads",
           "Uncalled bases"
          ],
          "linecolor": "black"
         },
         "bgcolor": "rgb(255,255,255)",
         "domain": {
          "x": [
           0,
           0.45
          ],
          "y": [
           0,
           1
          ]
         },
         "hole": 0.08333333333333333,
         "radialaxis": {
          "angle": -22.5,
          "gridcolor": "#DCDCDC",
          "linecolor": "black",
          "linewidth": 2,
          "range": [
           0,
           1
          ],
          "visible": true
         }
        },
        "polar2": {
         "angularaxis": {
          "categoryarray": [
           "Contigs",
           "Basepairs",
           "N50",
           "% Mapped reads",
           "Uncalled bases",
           "Misassembled contigs",
           "Misassembly events"
          ],
          "linecolor": "black"
         },
         "bgcolor": "rgb(255,255,255)",
         "domain": {
          "x": [
           0.55,
           1
          ],
          "y": [
           0,
           1
          ]
         },
         "hole": 0.08333333333333333,
         "radialaxis": {
          "angle": -22.5,
          "gridcolor": "#DCDCDC",
          "linecolor": "black",
          "linewidth": 2,
          "range": [
           0,
           1
          ],
          "visible": true
         }
        },
        "template": {
         "data": {
          "bar": [
           {
            "error_x": {
             "color": "#2a3f5f"
            },
            "error_y": {
             "color": "#2a3f5f"
            },
            "marker": {
             "line": {
              "color": "#E5ECF6",
              "width": 0.5
             },
             "pattern": {
              "fillmode": "overlay",
              "size": 10,
              "solidity": 0.2
             }
            },
            "type": "bar"
           }
          ],
          "barpolar": [
           {
            "marker": {
             "line": {
              "color": "#E5ECF6",
              "width": 0.5
             },
             "pattern": {
              "fillmode": "overlay",
              "size": 10,
              "solidity": 0.2
             }
            },
            "type": "barpolar"
           }
          ],
          "carpet": [
           {
            "aaxis": {
             "endlinecolor": "#2a3f5f",
             "gridcolor": "white",
             "linecolor": "white",
             "minorgridcolor": "white",
             "startlinecolor": "#2a3f5f"
            },
            "baxis": {
             "endlinecolor": "#2a3f5f",
             "gridcolor": "white",
             "linecolor": "white",
             "minorgridcolor": "white",
             "startlinecolor": "#2a3f5f"
            },
            "type": "carpet"
           }
          ],
          "choropleth": [
           {
            "colorbar": {
             "outlinewidth": 0,
             "ticks": ""
            },
            "type": "choropleth"
           }
          ],
          "contour": [
           {
            "colorbar": {
             "outlinewidth": 0,
             "ticks": ""
            },
            "colorscale": [
             [
              0,
              "#0d0887"
             ],
             [
              0.1111111111111111,
              "#46039f"
             ],
             [
              0.2222222222222222,
              "#7201a8"
             ],
             [
              0.3333333333333333,
              "#9c179e"
             ],
             [
              0.4444444444444444,
              "#bd3786"
             ],
             [
              0.5555555555555556,
              "#d8576b"
             ],
             [
              0.6666666666666666,
              "#ed7953"
             ],
             [
              0.7777777777777778,
              "#fb9f3a"
             ],
             [
              0.8888888888888888,
              "#fdca26"
             ],
             [
              1,
              "#f0f921"
             ]
            ],
            "type": "contour"
           }
          ],
          "contourcarpet": [
           {
            "colorbar": {
             "outlinewidth": 0,
             "ticks": ""
            },
            "type": "contourcarpet"
           }
          ],
          "heatmap": [
           {
            "colorbar": {
             "outlinewidth": 0,
             "ticks": ""
            },
            "colorscale": [
             [
              0,
              "#0d0887"
             ],
             [
              0.1111111111111111,
              "#46039f"
             ],
             [
              0.2222222222222222,
              "#7201a8"
             ],
             [
              0.3333333333333333,
              "#9c179e"
             ],
             [
              0.4444444444444444,
              "#bd3786"
             ],
             [
              0.5555555555555556,
              "#d8576b"
             ],
             [
              0.6666666666666666,
              "#ed7953"
             ],
             [
              0.7777777777777778,
              "#fb9f3a"
             ],
             [
              0.8888888888888888,
              "#fdca26"
             ],
             [
              1,
              "#f0f921"
             ]
            ],
            "type": "heatmap"
           }
          ],
          "heatmapgl": [
           {
            "colorbar": {
             "outlinewidth": 0,
             "ticks": ""
            },
            "colorscale": [
             [
              0,
              "#0d0887"
             ],
             [
              0.1111111111111111,
              "#46039f"
             ],
             [
              0.2222222222222222,
              "#7201a8"
             ],
             [
              0.3333333333333333,
              "#9c179e"
             ],
             [
              0.4444444444444444,
              "#bd3786"
             ],
             [
              0.5555555555555556,
              "#d8576b"
             ],
             [
              0.6666666666666666,
              "#ed7953"
             ],
             [
              0.7777777777777778,
              "#fb9f3a"
             ],
             [
              0.8888888888888888,
              "#fdca26"
             ],
             [
              1,
              "#f0f921"
             ]
            ],
            "type": "heatmapgl"
           }
          ],
          "histogram": [
           {
            "marker": {
             "pattern": {
              "fillmode": "overlay",
              "size": 10,
              "solidity": 0.2
             }
            },
            "type": "histogram"
           }
          ],
          "histogram2d": [
           {
            "colorbar": {
             "outlinewidth": 0,
             "ticks": ""
            },
            "colorscale": [
             [
              0,
              "#0d0887"
             ],
             [
              0.1111111111111111,
              "#46039f"
             ],
             [
              0.2222222222222222,
              "#7201a8"
             ],
             [
              0.3333333333333333,
              "#9c179e"
             ],
             [
              0.4444444444444444,
              "#bd3786"
             ],
             [
              0.5555555555555556,
              "#d8576b"
             ],
             [
              0.6666666666666666,
              "#ed7953"
             ],
             [
              0.7777777777777778,
              "#fb9f3a"
             ],
             [
              0.8888888888888888,
              "#fdca26"
             ],
             [
              1,
              "#f0f921"
             ]
            ],
            "type": "histogram2d"
           }
          ],
          "histogram2dcontour": [
           {
            "colorbar": {
             "outlinewidth": 0,
             "ticks": ""
            },
            "colorscale": [
             [
              0,
              "#0d0887"
             ],
             [
              0.1111111111111111,
              "#46039f"
             ],
             [
              0.2222222222222222,
              "#7201a8"
             ],
             [
              0.3333333333333333,
              "#9c179e"
             ],
             [
              0.4444444444444444,
              "#bd3786"
             ],
             [
              0.5555555555555556,
              "#d8576b"
             ],
             [
              0.6666666666666666,
              "#ed7953"
             ],
             [
              0.7777777777777778,
              "#fb9f3a"
             ],
             [
              0.8888888888888888,
              "#fdca26"
             ],
             [
              1,
              "#f0f921"
             ]
            ],
            "type": "histogram2dcontour"
           }
          ],
          "mesh3d": [
           {
            "colorbar": {
             "outlinewidth": 0,
             "ticks": ""
            },
            "type": "mesh3d"
           }
          ],
          "parcoords": [
           {
            "line": {
             "colorbar": {
              "outlinewidth": 0,
              "ticks": ""
             }
            },
            "type": "parcoords"
           }
          ],
          "pie": [
           {
            "automargin": true,
            "type": "pie"
           }
          ],
          "scatter": [
           {
            "marker": {
             "colorbar": {
              "outlinewidth": 0,
              "ticks": ""
             }
            },
            "type": "scatter"
           }
          ],
          "scatter3d": [
           {
            "line": {
             "colorbar": {
              "outlinewidth": 0,
              "ticks": ""
             }
            },
            "marker": {
             "colorbar": {
              "outlinewidth": 0,
              "ticks": ""
             }
            },
            "type": "scatter3d"
           }
          ],
          "scattercarpet": [
           {
            "marker": {
             "colorbar": {
              "outlinewidth": 0,
              "ticks": ""
             }
            },
            "type": "scattercarpet"
           }
          ],
          "scattergeo": [
           {
            "marker": {
             "colorbar": {
              "outlinewidth": 0,
              "ticks": ""
             }
            },
            "type": "scattergeo"
           }
          ],
          "scattergl": [
           {
            "marker": {
             "colorbar": {
              "outlinewidth": 0,
              "ticks": ""
             }
            },
            "type": "scattergl"
           }
          ],
          "scattermapbox": [
           {
            "marker": {
             "colorbar": {
              "outlinewidth": 0,
              "ticks": ""
             }
            },
            "type": "scattermapbox"
           }
          ],
          "scatterpolar": [
           {
            "marker": {
             "colorbar": {
              "outlinewidth": 0,
              "ticks": ""
             }
            },
            "type": "scatterpolar"
           }
          ],
          "scatterpolargl": [
           {
            "marker": {
             "colorbar": {
              "outlinewidth": 0,
              "ticks": ""
             }
            },
            "type": "scatterpolargl"
           }
          ],
          "scatterternary": [
           {
            "marker": {
             "colorbar": {
              "outlinewidth": 0,
              "ticks": ""
             }
            },
            "type": "scatterternary"
           }
          ],
          "surface": [
           {
            "colorbar": {
             "outlinewidth": 0,
             "ticks": ""
            },
            "colorscale": [
             [
              0,
              "#0d0887"
             ],
             [
              0.1111111111111111,
              "#46039f"
             ],
             [
              0.2222222222222222,
              "#7201a8"
             ],
             [
              0.3333333333333333,
              "#9c179e"
             ],
             [
              0.4444444444444444,
              "#bd3786"
             ],
             [
              0.5555555555555556,
              "#d8576b"
             ],
             [
              0.6666666666666666,
              "#ed7953"
             ],
             [
              0.7777777777777778,
              "#fb9f3a"
             ],
             [
              0.8888888888888888,
              "#fdca26"
             ],
             [
              1,
              "#f0f921"
             ]
            ],
            "type": "surface"
           }
          ],
          "table": [
           {
            "cells": {
             "fill": {
              "color": "#EBF0F8"
             },
             "line": {
              "color": "white"
             }
            },
            "header": {
             "fill": {
              "color": "#C8D4E3"
             },
             "line": {
              "color": "white"
             }
            },
            "type": "table"
           }
          ]
         },
         "layout": {
          "annotationdefaults": {
           "arrowcolor": "#2a3f5f",
           "arrowhead": 0,
           "arrowwidth": 1
          },
          "autotypenumbers": "strict",
          "coloraxis": {
           "colorbar": {
            "outlinewidth": 0,
            "ticks": ""
           }
          },
          "colorscale": {
           "diverging": [
            [
             0,
             "#8e0152"
            ],
            [
             0.1,
             "#c51b7d"
            ],
            [
             0.2,
             "#de77ae"
            ],
            [
             0.3,
             "#f1b6da"
            ],
            [
             0.4,
             "#fde0ef"
            ],
            [
             0.5,
             "#f7f7f7"
            ],
            [
             0.6,
             "#e6f5d0"
            ],
            [
             0.7,
             "#b8e186"
            ],
            [
             0.8,
             "#7fbc41"
            ],
            [
             0.9,
             "#4d9221"
            ],
            [
             1,
             "#276419"
            ]
           ],
           "sequential": [
            [
             0,
             "#0d0887"
            ],
            [
             0.1111111111111111,
             "#46039f"
            ],
            [
             0.2222222222222222,
             "#7201a8"
            ],
            [
             0.3333333333333333,
             "#9c179e"
            ],
            [
             0.4444444444444444,
             "#bd3786"
            ],
            [
             0.5555555555555556,
             "#d8576b"
            ],
            [
             0.6666666666666666,
             "#ed7953"
            ],
            [
             0.7777777777777778,
             "#fb9f3a"
            ],
            [
             0.8888888888888888,
             "#fdca26"
            ],
            [
             1,
             "#f0f921"
            ]
           ],
           "sequentialminus": [
            [
             0,
             "#0d0887"
            ],
            [
             0.1111111111111111,
             "#46039f"
            ],
            [
             0.2222222222222222,
             "#7201a8"
            ],
            [
             0.3333333333333333,
             "#9c179e"
            ],
            [
             0.4444444444444444,
             "#bd3786"
            ],
            [
             0.5555555555555556,
             "#d8576b"
            ],
            [
             0.6666666666666666,
             "#ed7953"
            ],
            [
             0.7777777777777778,
             "#fb9f3a"
            ],
            [
             0.8888888888888888,
             "#fdca26"
            ],
            [
             1,
             "#f0f921"
            ]
           ]
          },
          "colorway": [
           "#636efa",
           "#EF553B",
           "#00cc96",
           "#ab63fa",
           "#FFA15A",
           "#19d3f3",
           "#FF6692",
           "#B6E880",
           "#FF97FF",
           "#FECB52"
          ],
          "font": {
           "color": "#2a3f5f"
          },
          "geo": {
           "bgcolor": "white",
           "lakecolor": "white",
           "landcolor": "#E5ECF6",
           "showlakes": true,
           "showland": true,
           "subunitcolor": "white"
          },
          "hoverlabel": {
           "align": "left"
          },
          "hovermode": "closest",
          "mapbox": {
           "style": "light"
          },
          "paper_bgcolor": "white",
          "plot_bgcolor": "#E5ECF6",
          "polar": {
           "angularaxis": {
            "gridcolor": "white",
            "linecolor": "white",
            "ticks": ""
           },
           "bgcolor": "#E5ECF6",
           "radialaxis": {
            "gridcolor": "white",
            "linecolor": "white",
            "ticks": ""
           }
          },
          "scene": {
           "xaxis": {
            "backgroundcolor": "#E5ECF6",
            "gridcolor": "white",
            "gridwidth": 2,
            "linecolor": "white",
            "showbackground": true,
            "ticks": "",
            "zerolinecolor": "white"
           },
           "yaxis": {
            "backgroundcolor": "#E5ECF6",
            "gridcolor": "white",
            "gridwidth": 2,
            "linecolor": "white",
            "showbackground": true,
            "ticks": "",
            "zerolinecolor": "white"
           },
           "zaxis": {
            "backgroundcolor": "#E5ECF6",
            "gridcolor": "white",
            "gridwidth": 2,
            "linecolor": "white",
            "showbackground": true,
            "ticks": "",
            "zerolinecolor": "white"
           }
          },
          "shapedefaults": {
           "line": {
            "color": "#2a3f5f"
           }
          },
          "ternary": {
           "aaxis": {
            "gridcolor": "white",
            "linecolor": "white",
            "ticks": ""
           },
           "baxis": {
            "gridcolor": "white",
            "linecolor": "white",
            "ticks": ""
           },
           "bgcolor": "#E5ECF6",
           "caxis": {
            "gridcolor": "white",
            "linecolor": "white",
            "ticks": ""
           }
          },
          "title": {
           "x": 0.05
          },
          "xaxis": {
           "automargin": true,
           "gridcolor": "white",
           "linecolor": "white",
           "ticks": "",
           "title": {
            "standoff": 15
           },
           "zerolinecolor": "white",
           "zerolinewidth": 2
          },
          "yaxis": {
           "automargin": true,
           "gridcolor": "white",
           "linecolor": "white",
           "ticks": "",
           "title": {
            "standoff": 15
           },
           "zerolinecolor": "white",
           "zerolinewidth": 2
          }
         }
        },
        "title": {
         "text": "ERR2935805"
        }
       }
      },
      "text/html": [
       "<div>                            <div id=\"d77e7e72-68de-4232-9c07-c75ba9f95785\" class=\"plotly-graph-div\" style=\"height:525px; width:100%;\"></div>            <script type=\"text/javascript\">                require([\"plotly\"], function(Plotly) {                    window.PLOTLYENV=window.PLOTLYENV || {};                                    if (document.getElementById(\"d77e7e72-68de-4232-9c07-c75ba9f95785\")) {                    Plotly.newPlot(                        \"d77e7e72-68de-4232-9c07-c75ba9f95785\",                        [{\"line\":{\"color\":\"#930001\"},\"marker\":{\"color\":\"#930001\",\"line\":{\"color\":\"black\",\"width\":2},\"size\":12},\"mode\":\"lines+markers\",\"name\":\"Metagenomic - Best\",\"opacity\":0.6,\"r\":[0.8128900425249903,0.8990332277998863,0.9064827299827883,0.3201795362887529,1.0,1.0],\"showlegend\":true,\"subplot\":\"polar\",\"theta\":[\"Contigs\",\"Basepairs\",\"Largest contig\",\"N50\",\"% Mapped reads\",\"Uncalled bases\"],\"type\":\"scatterpolar\"},{\"line\":{\"color\":\"#930001\"},\"marker\":{\"color\":\"#930001\",\"line\":{\"color\":\"black\",\"width\":2},\"size\":12},\"mode\":\"lines+markers\",\"name\":\"Metagenomic - Best\",\"opacity\":0.6,\"r\":[0.879375875175035,0.6072604710819969,0.8213551641986266,1.0,1.0,1.0,1.0],\"showlegend\":false,\"subplot\":\"polar2\",\"theta\":[\"Contigs\",\"Basepairs\",\"N50\",\"% Mapped reads\",\"Uncalled bases\",\"Misassembled contigs\",\"Misassembly events\"],\"type\":\"scatterpolar\"},{\"line\":{\"color\":\"#C97F80\"},\"marker\":{\"color\":\"#C97F80\",\"line\":{\"color\":\"black\",\"width\":2},\"size\":12},\"mode\":\"lines+markers\",\"name\":\"Metagenomic - Worst\",\"opacity\":0.6,\"r\":[0.27425857403214227,0.5534168275163913,0.6405661078492786,0.014302175300914032,0.9941983687505817,1.0],\"showlegend\":true,\"subplot\":\"polar\",\"theta\":[\"Contigs\",\"Basepairs\",\"Largest contig\",\"N50\",\"% Mapped reads\",\"Uncalled bases\"],\"type\":\"scatterpolar\"},{\"line\":{\"color\":\"#C97F80\"},\"marker\":{\"color\":\"#C97F80\",\"line\":{\"color\":\"black\",\"width\":2},\"size\":12},\"mode\":\"lines+markers\",\"name\":\"Metagenomic - Worst\",\"opacity\":0.6,\"r\":[0.3214642928585717,0.4488807764164753,0.34250089534575917,0.9932251147323244,1.0,0.9947552447552448,0.9939024390243902],\"showlegend\":false,\"subplot\":\"polar2\",\"theta\":[\"Contigs\",\"Basepairs\",\"N50\",\"% Mapped reads\",\"Uncalled bases\",\"Misassembled contigs\",\"Misassembly events\"],\"type\":\"scatterpolar\"},{\"line\":{\"color\":\"#009392\"},\"marker\":{\"color\":\"#009392\",\"line\":{\"color\":\"black\",\"width\":2},\"size\":12},\"mode\":\"lines+markers\",\"name\":\"Genomic - Best\",\"opacity\":0.6,\"r\":[0.9943392058319986,0.9538164903289659,1.0,1.0,0.9792045143045561,1.0],\"showlegend\":true,\"subplot\":\"polar\",\"theta\":[\"Contigs\",\"Basepairs\",\"Largest contig\",\"N50\",\"% Mapped reads\",\"Uncalled bases\"],\"type\":\"scatterpolar\"},{\"line\":{\"color\":\"#009392\"},\"marker\":{\"color\":\"#009392\",\"line\":{\"color\":\"black\",\"width\":2},\"size\":12},\"mode\":\"lines+markers\",\"name\":\"Genomic - Best\",\"opacity\":0.6,\"r\":[0.9711942388477696,0.6332140277698475,1.0,0.9773509099944305,1.0,1.0,1.0],\"showlegend\":false,\"subplot\":\"polar2\",\"theta\":[\"Contigs\",\"Basepairs\",\"N50\",\"% Mapped reads\",\"Uncalled bases\",\"Misassembled contigs\",\"Misassembly events\"],\"type\":\"scatterpolar\"},{\"line\":{\"color\":\"#7FC9C8\"},\"marker\":{\"color\":\"#7FC9C8\",\"line\":{\"color\":\"black\",\"width\":2},\"size\":12},\"mode\":\"lines+markers\",\"name\":\"Genomic - Worst\",\"opacity\":0.6,\"r\":[0.0,0.28496654574541613,0.03439375332524069,0.005570607745130097,0.8747451848435568,1.0],\"showlegend\":true,\"subplot\":\"polar\",\"theta\":[\"Contigs\",\"Basepairs\",\"Largest contig\",\"N50\",\"% Mapped reads\",\"Uncalled bases\"],\"type\":\"scatterpolar\"},{\"line\":{\"color\":\"#7FC9C8\"},\"marker\":{\"color\":\"#7FC9C8\",\"line\":{\"color\":\"black\",\"width\":2},\"size\":12},\"mode\":\"lines+markers\",\"name\":\"Genomic - Worst\",\"opacity\":0.6,\"r\":[0.0,0.18746619780720897,0.008361750829168029,0.6472386709964758,1.0,0.0,0.0],\"showlegend\":false,\"subplot\":\"polar2\",\"theta\":[\"Contigs\",\"Basepairs\",\"N50\",\"% Mapped reads\",\"Uncalled bases\",\"Misassembled contigs\",\"Misassembly events\"],\"type\":\"scatterpolar\"}],                        {\"annotations\":[{\"font\":{\"size\":16},\"showarrow\":false,\"text\":\"Original\",\"x\":0.225,\"xanchor\":\"center\",\"xref\":\"paper\",\"y\":1.0,\"yanchor\":\"bottom\",\"yref\":\"paper\"},{\"font\":{\"size\":16},\"showarrow\":false,\"text\":\"Filtered\",\"x\":0.775,\"xanchor\":\"center\",\"xref\":\"paper\",\"y\":1.0,\"yanchor\":\"bottom\",\"yref\":\"paper\"}],\"legend\":{\"orientation\":\"h\",\"x\":0,\"xanchor\":\"left\",\"y\":-0.5,\"yanchor\":\"bottom\"},\"polar\":{\"angularaxis\":{\"categoryarray\":[\"Contigs\",\"Basepairs\",\"Largest contig\",\"N50\",\"% Mapped reads\",\"Uncalled bases\"],\"linecolor\":\"black\"},\"bgcolor\":\"rgb(255,255,255)\",\"domain\":{\"x\":[0.0,0.45],\"y\":[0.0,1.0]},\"hole\":0.08333333333333333,\"radialaxis\":{\"angle\":-22.5,\"gridcolor\":\"#DCDCDC\",\"linecolor\":\"black\",\"linewidth\":2,\"range\":[0,1],\"visible\":true}},\"polar2\":{\"angularaxis\":{\"categoryarray\":[\"Contigs\",\"Basepairs\",\"N50\",\"% Mapped reads\",\"Uncalled bases\",\"Misassembled contigs\",\"Misassembly events\"],\"linecolor\":\"black\"},\"bgcolor\":\"rgb(255,255,255)\",\"domain\":{\"x\":[0.55,1.0],\"y\":[0.0,1.0]},\"hole\":0.08333333333333333,\"radialaxis\":{\"angle\":-22.5,\"gridcolor\":\"#DCDCDC\",\"linecolor\":\"black\",\"linewidth\":2,\"range\":[0,1],\"visible\":true}},\"template\":{\"data\":{\"bar\":[{\"error_x\":{\"color\":\"#2a3f5f\"},\"error_y\":{\"color\":\"#2a3f5f\"},\"marker\":{\"line\":{\"color\":\"#E5ECF6\",\"width\":0.5},\"pattern\":{\"fillmode\":\"overlay\",\"size\":10,\"solidity\":0.2}},\"type\":\"bar\"}],\"barpolar\":[{\"marker\":{\"line\":{\"color\":\"#E5ECF6\",\"width\":0.5},\"pattern\":{\"fillmode\":\"overlay\",\"size\":10,\"solidity\":0.2}},\"type\":\"barpolar\"}],\"carpet\":[{\"aaxis\":{\"endlinecolor\":\"#2a3f5f\",\"gridcolor\":\"white\",\"linecolor\":\"white\",\"minorgridcolor\":\"white\",\"startlinecolor\":\"#2a3f5f\"},\"baxis\":{\"endlinecolor\":\"#2a3f5f\",\"gridcolor\":\"white\",\"linecolor\":\"white\",\"minorgridcolor\":\"white\",\"startlinecolor\":\"#2a3f5f\"},\"type\":\"carpet\"}],\"choropleth\":[{\"colorbar\":{\"outlinewidth\":0,\"ticks\":\"\"},\"type\":\"choropleth\"}],\"contour\":[{\"colorbar\":{\"outlinewidth\":0,\"ticks\":\"\"},\"colorscale\":[[0.0,\"#0d0887\"],[0.1111111111111111,\"#46039f\"],[0.2222222222222222,\"#7201a8\"],[0.3333333333333333,\"#9c179e\"],[0.4444444444444444,\"#bd3786\"],[0.5555555555555556,\"#d8576b\"],[0.6666666666666666,\"#ed7953\"],[0.7777777777777778,\"#fb9f3a\"],[0.8888888888888888,\"#fdca26\"],[1.0,\"#f0f921\"]],\"type\":\"contour\"}],\"contourcarpet\":[{\"colorbar\":{\"outlinewidth\":0,\"ticks\":\"\"},\"type\":\"contourcarpet\"}],\"heatmap\":[{\"colorbar\":{\"outlinewidth\":0,\"ticks\":\"\"},\"colorscale\":[[0.0,\"#0d0887\"],[0.1111111111111111,\"#46039f\"],[0.2222222222222222,\"#7201a8\"],[0.3333333333333333,\"#9c179e\"],[0.4444444444444444,\"#bd3786\"],[0.5555555555555556,\"#d8576b\"],[0.6666666666666666,\"#ed7953\"],[0.7777777777777778,\"#fb9f3a\"],[0.8888888888888888,\"#fdca26\"],[1.0,\"#f0f921\"]],\"type\":\"heatmap\"}],\"heatmapgl\":[{\"colorbar\":{\"outlinewidth\":0,\"ticks\":\"\"},\"colorscale\":[[0.0,\"#0d0887\"],[0.1111111111111111,\"#46039f\"],[0.2222222222222222,\"#7201a8\"],[0.3333333333333333,\"#9c179e\"],[0.4444444444444444,\"#bd3786\"],[0.5555555555555556,\"#d8576b\"],[0.6666666666666666,\"#ed7953\"],[0.7777777777777778,\"#fb9f3a\"],[0.8888888888888888,\"#fdca26\"],[1.0,\"#f0f921\"]],\"type\":\"heatmapgl\"}],\"histogram\":[{\"marker\":{\"pattern\":{\"fillmode\":\"overlay\",\"size\":10,\"solidity\":0.2}},\"type\":\"histogram\"}],\"histogram2d\":[{\"colorbar\":{\"outlinewidth\":0,\"ticks\":\"\"},\"colorscale\":[[0.0,\"#0d0887\"],[0.1111111111111111,\"#46039f\"],[0.2222222222222222,\"#7201a8\"],[0.3333333333333333,\"#9c179e\"],[0.4444444444444444,\"#bd3786\"],[0.5555555555555556,\"#d8576b\"],[0.6666666666666666,\"#ed7953\"],[0.7777777777777778,\"#fb9f3a\"],[0.8888888888888888,\"#fdca26\"],[1.0,\"#f0f921\"]],\"type\":\"histogram2d\"}],\"histogram2dcontour\":[{\"colorbar\":{\"outlinewidth\":0,\"ticks\":\"\"},\"colorscale\":[[0.0,\"#0d0887\"],[0.1111111111111111,\"#46039f\"],[0.2222222222222222,\"#7201a8\"],[0.3333333333333333,\"#9c179e\"],[0.4444444444444444,\"#bd3786\"],[0.5555555555555556,\"#d8576b\"],[0.6666666666666666,\"#ed7953\"],[0.7777777777777778,\"#fb9f3a\"],[0.8888888888888888,\"#fdca26\"],[1.0,\"#f0f921\"]],\"type\":\"histogram2dcontour\"}],\"mesh3d\":[{\"colorbar\":{\"outlinewidth\":0,\"ticks\":\"\"},\"type\":\"mesh3d\"}],\"parcoords\":[{\"line\":{\"colorbar\":{\"outlinewidth\":0,\"ticks\":\"\"}},\"type\":\"parcoords\"}],\"pie\":[{\"automargin\":true,\"type\":\"pie\"}],\"scatter\":[{\"marker\":{\"colorbar\":{\"outlinewidth\":0,\"ticks\":\"\"}},\"type\":\"scatter\"}],\"scatter3d\":[{\"line\":{\"colorbar\":{\"outlinewidth\":0,\"ticks\":\"\"}},\"marker\":{\"colorbar\":{\"outlinewidth\":0,\"ticks\":\"\"}},\"type\":\"scatter3d\"}],\"scattercarpet\":[{\"marker\":{\"colorbar\":{\"outlinewidth\":0,\"ticks\":\"\"}},\"type\":\"scattercarpet\"}],\"scattergeo\":[{\"marker\":{\"colorbar\":{\"outlinewidth\":0,\"ticks\":\"\"}},\"type\":\"scattergeo\"}],\"scattergl\":[{\"marker\":{\"colorbar\":{\"outlinewidth\":0,\"ticks\":\"\"}},\"type\":\"scattergl\"}],\"scattermapbox\":[{\"marker\":{\"colorbar\":{\"outlinewidth\":0,\"ticks\":\"\"}},\"type\":\"scattermapbox\"}],\"scatterpolar\":[{\"marker\":{\"colorbar\":{\"outlinewidth\":0,\"ticks\":\"\"}},\"type\":\"scatterpolar\"}],\"scatterpolargl\":[{\"marker\":{\"colorbar\":{\"outlinewidth\":0,\"ticks\":\"\"}},\"type\":\"scatterpolargl\"}],\"scatterternary\":[{\"marker\":{\"colorbar\":{\"outlinewidth\":0,\"ticks\":\"\"}},\"type\":\"scatterternary\"}],\"surface\":[{\"colorbar\":{\"outlinewidth\":0,\"ticks\":\"\"},\"colorscale\":[[0.0,\"#0d0887\"],[0.1111111111111111,\"#46039f\"],[0.2222222222222222,\"#7201a8\"],[0.3333333333333333,\"#9c179e\"],[0.4444444444444444,\"#bd3786\"],[0.5555555555555556,\"#d8576b\"],[0.6666666666666666,\"#ed7953\"],[0.7777777777777778,\"#fb9f3a\"],[0.8888888888888888,\"#fdca26\"],[1.0,\"#f0f921\"]],\"type\":\"surface\"}],\"table\":[{\"cells\":{\"fill\":{\"color\":\"#EBF0F8\"},\"line\":{\"color\":\"white\"}},\"header\":{\"fill\":{\"color\":\"#C8D4E3\"},\"line\":{\"color\":\"white\"}},\"type\":\"table\"}]},\"layout\":{\"annotationdefaults\":{\"arrowcolor\":\"#2a3f5f\",\"arrowhead\":0,\"arrowwidth\":1},\"autotypenumbers\":\"strict\",\"coloraxis\":{\"colorbar\":{\"outlinewidth\":0,\"ticks\":\"\"}},\"colorscale\":{\"diverging\":[[0,\"#8e0152\"],[0.1,\"#c51b7d\"],[0.2,\"#de77ae\"],[0.3,\"#f1b6da\"],[0.4,\"#fde0ef\"],[0.5,\"#f7f7f7\"],[0.6,\"#e6f5d0\"],[0.7,\"#b8e186\"],[0.8,\"#7fbc41\"],[0.9,\"#4d9221\"],[1,\"#276419\"]],\"sequential\":[[0.0,\"#0d0887\"],[0.1111111111111111,\"#46039f\"],[0.2222222222222222,\"#7201a8\"],[0.3333333333333333,\"#9c179e\"],[0.4444444444444444,\"#bd3786\"],[0.5555555555555556,\"#d8576b\"],[0.6666666666666666,\"#ed7953\"],[0.7777777777777778,\"#fb9f3a\"],[0.8888888888888888,\"#fdca26\"],[1.0,\"#f0f921\"]],\"sequentialminus\":[[0.0,\"#0d0887\"],[0.1111111111111111,\"#46039f\"],[0.2222222222222222,\"#7201a8\"],[0.3333333333333333,\"#9c179e\"],[0.4444444444444444,\"#bd3786\"],[0.5555555555555556,\"#d8576b\"],[0.6666666666666666,\"#ed7953\"],[0.7777777777777778,\"#fb9f3a\"],[0.8888888888888888,\"#fdca26\"],[1.0,\"#f0f921\"]]},\"colorway\":[\"#636efa\",\"#EF553B\",\"#00cc96\",\"#ab63fa\",\"#FFA15A\",\"#19d3f3\",\"#FF6692\",\"#B6E880\",\"#FF97FF\",\"#FECB52\"],\"font\":{\"color\":\"#2a3f5f\"},\"geo\":{\"bgcolor\":\"white\",\"lakecolor\":\"white\",\"landcolor\":\"#E5ECF6\",\"showlakes\":true,\"showland\":true,\"subunitcolor\":\"white\"},\"hoverlabel\":{\"align\":\"left\"},\"hovermode\":\"closest\",\"mapbox\":{\"style\":\"light\"},\"paper_bgcolor\":\"white\",\"plot_bgcolor\":\"#E5ECF6\",\"polar\":{\"angularaxis\":{\"gridcolor\":\"white\",\"linecolor\":\"white\",\"ticks\":\"\"},\"bgcolor\":\"#E5ECF6\",\"radialaxis\":{\"gridcolor\":\"white\",\"linecolor\":\"white\",\"ticks\":\"\"}},\"scene\":{\"xaxis\":{\"backgroundcolor\":\"#E5ECF6\",\"gridcolor\":\"white\",\"gridwidth\":2,\"linecolor\":\"white\",\"showbackground\":true,\"ticks\":\"\",\"zerolinecolor\":\"white\"},\"yaxis\":{\"backgroundcolor\":\"#E5ECF6\",\"gridcolor\":\"white\",\"gridwidth\":2,\"linecolor\":\"white\",\"showbackground\":true,\"ticks\":\"\",\"zerolinecolor\":\"white\"},\"zaxis\":{\"backgroundcolor\":\"#E5ECF6\",\"gridcolor\":\"white\",\"gridwidth\":2,\"linecolor\":\"white\",\"showbackground\":true,\"ticks\":\"\",\"zerolinecolor\":\"white\"}},\"shapedefaults\":{\"line\":{\"color\":\"#2a3f5f\"}},\"ternary\":{\"aaxis\":{\"gridcolor\":\"white\",\"linecolor\":\"white\",\"ticks\":\"\"},\"baxis\":{\"gridcolor\":\"white\",\"linecolor\":\"white\",\"ticks\":\"\"},\"bgcolor\":\"#E5ECF6\",\"caxis\":{\"gridcolor\":\"white\",\"linecolor\":\"white\",\"ticks\":\"\"}},\"title\":{\"x\":0.05},\"xaxis\":{\"automargin\":true,\"gridcolor\":\"white\",\"linecolor\":\"white\",\"ticks\":\"\",\"title\":{\"standoff\":15},\"zerolinecolor\":\"white\",\"zerolinewidth\":2},\"yaxis\":{\"automargin\":true,\"gridcolor\":\"white\",\"linecolor\":\"white\",\"ticks\":\"\",\"title\":{\"standoff\":15},\"zerolinecolor\":\"white\",\"zerolinewidth\":2}}},\"title\":{\"text\":\"ERR2935805\"}},                        {\"responsive\": true}                    ).then(function(){\n",
       "                            \n",
       "var gd = document.getElementById('d77e7e72-68de-4232-9c07-c75ba9f95785');\n",
       "var x = new MutationObserver(function (mutations, observer) {{\n",
       "        var display = window.getComputedStyle(gd).display;\n",
       "        if (!display || display === 'none') {{\n",
       "            console.log([gd, 'removed!']);\n",
       "            Plotly.purge(gd);\n",
       "            observer.disconnect();\n",
       "        }}\n",
       "}});\n",
       "\n",
       "// Listen for the removal of the full notebook cells\n",
       "var notebookContainer = gd.closest('#notebook-container');\n",
       "if (notebookContainer) {{\n",
       "    x.observe(notebookContainer, {childList: true});\n",
       "}}\n",
       "\n",
       "// Listen for the clearing of the current output cell\n",
       "var outputEl = gd.closest('.output');\n",
       "if (outputEl) {{\n",
       "    x.observe(outputEl, {childList: true});\n",
       "}}\n",
       "\n",
       "                        })                };                });            </script>        </div>"
      ]
     },
     "metadata": {},
     "output_type": "display_data"
    },
    {
     "data": {
      "application/vnd.plotly.v1+json": {
       "config": {
        "plotlyServerURL": "https://plot.ly"
       },
       "data": [
        {
         "line": {
          "color": "#930001"
         },
         "marker": {
          "color": "#930001",
          "line": {
           "color": "black",
           "width": 2
          },
          "size": 12
         },
         "mode": "lines+markers",
         "name": "Metagenomic - Best",
         "opacity": 0.6,
         "r": [
          0.9752899484536083,
          0.4574756175858746,
          1,
          0.5505445450065095,
          1,
          1
         ],
         "showlegend": true,
         "subplot": "polar",
         "theta": [
          "Contigs",
          "Basepairs",
          "Largest contig",
          "N50",
          "% Mapped reads",
          "Uncalled bases"
         ],
         "type": "scatterpolar"
        },
        {
         "line": {
          "color": "#930001"
         },
         "marker": {
          "color": "#930001",
          "line": {
           "color": "black",
           "width": 2
          },
          "size": 12
         },
         "mode": "lines+markers",
         "name": "Metagenomic - Best",
         "opacity": 0.6,
         "r": [
          0.8794233289646134,
          0.44182206587110884,
          0.5606007515091431,
          1,
          1,
          1,
          1
         ],
         "showlegend": false,
         "subplot": "polar2",
         "theta": [
          "Contigs",
          "Basepairs",
          "N50",
          "% Mapped reads",
          "Uncalled bases",
          "Misassembled contigs",
          "Misassembly events"
         ],
         "type": "scatterpolar"
        },
        {
         "line": {
          "color": "#C97F80"
         },
         "marker": {
          "color": "#C97F80",
          "line": {
           "color": "black",
           "width": 2
          },
          "size": 12
         },
         "mode": "lines+markers",
         "name": "Metagenomic - Worst",
         "opacity": 0.6,
         "r": [
          0.9323775773195876,
          0.4407072741171748,
          0.6888893005334914,
          0.2592022835850234,
          0.9988116587155778,
          1
         ],
         "showlegend": true,
         "subplot": "polar",
         "theta": [
          "Contigs",
          "Basepairs",
          "Largest contig",
          "N50",
          "% Mapped reads",
          "Uncalled bases"
         ],
         "type": "scatterpolar"
        },
        {
         "line": {
          "color": "#C97F80"
         },
         "marker": {
          "color": "#C97F80",
          "line": {
           "color": "black",
           "width": 2
          },
          "size": 12
         },
         "mode": "lines+markers",
         "name": "Metagenomic - Worst",
         "opacity": 0.6,
         "r": [
          0.5006553079947575,
          0.4364834157640711,
          0.26129613961319215,
          0.996111946779321,
          1,
          0.6,
          0.4
         ],
         "showlegend": false,
         "subplot": "polar2",
         "theta": [
          "Contigs",
          "Basepairs",
          "N50",
          "% Mapped reads",
          "Uncalled bases",
          "Misassembled contigs",
          "Misassembly events"
         ],
         "type": "scatterpolar"
        },
        {
         "line": {
          "color": "#009392"
         },
         "marker": {
          "color": "#009392",
          "line": {
           "color": "black",
           "width": 2
          },
          "size": 12
         },
         "mode": "lines+markers",
         "name": "Genomic - Best",
         "opacity": 0.6,
         "r": [
          0.998840206185567,
          0.5239540954871695,
          0.9235546915861781,
          1,
          0.9967934297678621,
          1
         ],
         "showlegend": true,
         "subplot": "polar",
         "theta": [
          "Contigs",
          "Basepairs",
          "Largest contig",
          "N50",
          "% Mapped reads",
          "Uncalled bases"
         ],
         "type": "scatterpolar"
        },
        {
         "line": {
          "color": "#009392"
         },
         "marker": {
          "color": "#009392",
          "line": {
           "color": "black",
           "width": 2
          },
          "size": 12
         },
         "mode": "lines+markers",
         "name": "Genomic - Best",
         "opacity": 0.6,
         "r": [
          0.9862385321100917,
          0.4302776264148289,
          1,
          0.992005780606336,
          1,
          1,
          1
         ],
         "showlegend": false,
         "subplot": "polar2",
         "theta": [
          "Contigs",
          "Basepairs",
          "N50",
          "% Mapped reads",
          "Uncalled bases",
          "Misassembled contigs",
          "Misassembly events"
         ],
         "type": "scatterpolar"
        },
        {
         "line": {
          "color": "#7FC9C8"
         },
         "marker": {
          "color": "#7FC9C8",
          "line": {
           "color": "black",
           "width": 2
          },
          "size": 12
         },
         "mode": "lines+markers",
         "name": "Genomic - Worst",
         "opacity": 0.6,
         "r": [
          0,
          0.09555367123360003,
          0.2872801091390913,
          0.13240576935677312,
          0.9480087096031734,
          1
         ],
         "showlegend": true,
         "subplot": "polar",
         "theta": [
          "Contigs",
          "Basepairs",
          "Largest contig",
          "N50",
          "% Mapped reads",
          "Uncalled bases"
         ],
         "type": "scatterpolar"
        },
        {
         "line": {
          "color": "#7FC9C8"
         },
         "marker": {
          "color": "#7FC9C8",
          "line": {
           "color": "black",
           "width": 2
          },
          "size": 12
         },
         "mode": "lines+markers",
         "name": "Genomic - Worst",
         "opacity": 0.6,
         "r": [
          0,
          0.09533823552173948,
          0.19759448703376092,
          0.7931584685144951,
          1,
          0,
          0
         ],
         "showlegend": false,
         "subplot": "polar2",
         "theta": [
          "Contigs",
          "Basepairs",
          "N50",
          "% Mapped reads",
          "Uncalled bases",
          "Misassembled contigs",
          "Misassembly events"
         ],
         "type": "scatterpolar"
        }
       ],
       "layout": {
        "annotations": [
         {
          "font": {
           "size": 16
          },
          "showarrow": false,
          "text": "Original",
          "x": 0.225,
          "xanchor": "center",
          "xref": "paper",
          "y": 1,
          "yanchor": "bottom",
          "yref": "paper"
         },
         {
          "font": {
           "size": 16
          },
          "showarrow": false,
          "text": "Filtered",
          "x": 0.775,
          "xanchor": "center",
          "xref": "paper",
          "y": 1,
          "yanchor": "bottom",
          "yref": "paper"
         }
        ],
        "legend": {
         "orientation": "h",
         "x": 0,
         "xanchor": "left",
         "y": -0.5,
         "yanchor": "bottom"
        },
        "polar": {
         "angularaxis": {
          "categoryarray": [
           "Contigs",
           "Basepairs",
           "Largest contig",
           "N50",
           "% Mapped reads",
           "Uncalled bases"
          ],
          "linecolor": "black"
         },
         "bgcolor": "rgb(255,255,255)",
         "domain": {
          "x": [
           0,
           0.45
          ],
          "y": [
           0,
           1
          ]
         },
         "hole": 0.08333333333333333,
         "radialaxis": {
          "angle": -22.5,
          "gridcolor": "#DCDCDC",
          "linecolor": "black",
          "linewidth": 2,
          "range": [
           0,
           1
          ],
          "visible": true
         }
        },
        "polar2": {
         "angularaxis": {
          "categoryarray": [
           "Contigs",
           "Basepairs",
           "N50",
           "% Mapped reads",
           "Uncalled bases",
           "Misassembled contigs",
           "Misassembly events"
          ],
          "linecolor": "black"
         },
         "bgcolor": "rgb(255,255,255)",
         "domain": {
          "x": [
           0.55,
           1
          ],
          "y": [
           0,
           1
          ]
         },
         "hole": 0.08333333333333333,
         "radialaxis": {
          "angle": -22.5,
          "gridcolor": "#DCDCDC",
          "linecolor": "black",
          "linewidth": 2,
          "range": [
           0,
           1
          ],
          "visible": true
         }
        },
        "template": {
         "data": {
          "bar": [
           {
            "error_x": {
             "color": "#2a3f5f"
            },
            "error_y": {
             "color": "#2a3f5f"
            },
            "marker": {
             "line": {
              "color": "#E5ECF6",
              "width": 0.5
             },
             "pattern": {
              "fillmode": "overlay",
              "size": 10,
              "solidity": 0.2
             }
            },
            "type": "bar"
           }
          ],
          "barpolar": [
           {
            "marker": {
             "line": {
              "color": "#E5ECF6",
              "width": 0.5
             },
             "pattern": {
              "fillmode": "overlay",
              "size": 10,
              "solidity": 0.2
             }
            },
            "type": "barpolar"
           }
          ],
          "carpet": [
           {
            "aaxis": {
             "endlinecolor": "#2a3f5f",
             "gridcolor": "white",
             "linecolor": "white",
             "minorgridcolor": "white",
             "startlinecolor": "#2a3f5f"
            },
            "baxis": {
             "endlinecolor": "#2a3f5f",
             "gridcolor": "white",
             "linecolor": "white",
             "minorgridcolor": "white",
             "startlinecolor": "#2a3f5f"
            },
            "type": "carpet"
           }
          ],
          "choropleth": [
           {
            "colorbar": {
             "outlinewidth": 0,
             "ticks": ""
            },
            "type": "choropleth"
           }
          ],
          "contour": [
           {
            "colorbar": {
             "outlinewidth": 0,
             "ticks": ""
            },
            "colorscale": [
             [
              0,
              "#0d0887"
             ],
             [
              0.1111111111111111,
              "#46039f"
             ],
             [
              0.2222222222222222,
              "#7201a8"
             ],
             [
              0.3333333333333333,
              "#9c179e"
             ],
             [
              0.4444444444444444,
              "#bd3786"
             ],
             [
              0.5555555555555556,
              "#d8576b"
             ],
             [
              0.6666666666666666,
              "#ed7953"
             ],
             [
              0.7777777777777778,
              "#fb9f3a"
             ],
             [
              0.8888888888888888,
              "#fdca26"
             ],
             [
              1,
              "#f0f921"
             ]
            ],
            "type": "contour"
           }
          ],
          "contourcarpet": [
           {
            "colorbar": {
             "outlinewidth": 0,
             "ticks": ""
            },
            "type": "contourcarpet"
           }
          ],
          "heatmap": [
           {
            "colorbar": {
             "outlinewidth": 0,
             "ticks": ""
            },
            "colorscale": [
             [
              0,
              "#0d0887"
             ],
             [
              0.1111111111111111,
              "#46039f"
             ],
             [
              0.2222222222222222,
              "#7201a8"
             ],
             [
              0.3333333333333333,
              "#9c179e"
             ],
             [
              0.4444444444444444,
              "#bd3786"
             ],
             [
              0.5555555555555556,
              "#d8576b"
             ],
             [
              0.6666666666666666,
              "#ed7953"
             ],
             [
              0.7777777777777778,
              "#fb9f3a"
             ],
             [
              0.8888888888888888,
              "#fdca26"
             ],
             [
              1,
              "#f0f921"
             ]
            ],
            "type": "heatmap"
           }
          ],
          "heatmapgl": [
           {
            "colorbar": {
             "outlinewidth": 0,
             "ticks": ""
            },
            "colorscale": [
             [
              0,
              "#0d0887"
             ],
             [
              0.1111111111111111,
              "#46039f"
             ],
             [
              0.2222222222222222,
              "#7201a8"
             ],
             [
              0.3333333333333333,
              "#9c179e"
             ],
             [
              0.4444444444444444,
              "#bd3786"
             ],
             [
              0.5555555555555556,
              "#d8576b"
             ],
             [
              0.6666666666666666,
              "#ed7953"
             ],
             [
              0.7777777777777778,
              "#fb9f3a"
             ],
             [
              0.8888888888888888,
              "#fdca26"
             ],
             [
              1,
              "#f0f921"
             ]
            ],
            "type": "heatmapgl"
           }
          ],
          "histogram": [
           {
            "marker": {
             "pattern": {
              "fillmode": "overlay",
              "size": 10,
              "solidity": 0.2
             }
            },
            "type": "histogram"
           }
          ],
          "histogram2d": [
           {
            "colorbar": {
             "outlinewidth": 0,
             "ticks": ""
            },
            "colorscale": [
             [
              0,
              "#0d0887"
             ],
             [
              0.1111111111111111,
              "#46039f"
             ],
             [
              0.2222222222222222,
              "#7201a8"
             ],
             [
              0.3333333333333333,
              "#9c179e"
             ],
             [
              0.4444444444444444,
              "#bd3786"
             ],
             [
              0.5555555555555556,
              "#d8576b"
             ],
             [
              0.6666666666666666,
              "#ed7953"
             ],
             [
              0.7777777777777778,
              "#fb9f3a"
             ],
             [
              0.8888888888888888,
              "#fdca26"
             ],
             [
              1,
              "#f0f921"
             ]
            ],
            "type": "histogram2d"
           }
          ],
          "histogram2dcontour": [
           {
            "colorbar": {
             "outlinewidth": 0,
             "ticks": ""
            },
            "colorscale": [
             [
              0,
              "#0d0887"
             ],
             [
              0.1111111111111111,
              "#46039f"
             ],
             [
              0.2222222222222222,
              "#7201a8"
             ],
             [
              0.3333333333333333,
              "#9c179e"
             ],
             [
              0.4444444444444444,
              "#bd3786"
             ],
             [
              0.5555555555555556,
              "#d8576b"
             ],
             [
              0.6666666666666666,
              "#ed7953"
             ],
             [
              0.7777777777777778,
              "#fb9f3a"
             ],
             [
              0.8888888888888888,
              "#fdca26"
             ],
             [
              1,
              "#f0f921"
             ]
            ],
            "type": "histogram2dcontour"
           }
          ],
          "mesh3d": [
           {
            "colorbar": {
             "outlinewidth": 0,
             "ticks": ""
            },
            "type": "mesh3d"
           }
          ],
          "parcoords": [
           {
            "line": {
             "colorbar": {
              "outlinewidth": 0,
              "ticks": ""
             }
            },
            "type": "parcoords"
           }
          ],
          "pie": [
           {
            "automargin": true,
            "type": "pie"
           }
          ],
          "scatter": [
           {
            "marker": {
             "colorbar": {
              "outlinewidth": 0,
              "ticks": ""
             }
            },
            "type": "scatter"
           }
          ],
          "scatter3d": [
           {
            "line": {
             "colorbar": {
              "outlinewidth": 0,
              "ticks": ""
             }
            },
            "marker": {
             "colorbar": {
              "outlinewidth": 0,
              "ticks": ""
             }
            },
            "type": "scatter3d"
           }
          ],
          "scattercarpet": [
           {
            "marker": {
             "colorbar": {
              "outlinewidth": 0,
              "ticks": ""
             }
            },
            "type": "scattercarpet"
           }
          ],
          "scattergeo": [
           {
            "marker": {
             "colorbar": {
              "outlinewidth": 0,
              "ticks": ""
             }
            },
            "type": "scattergeo"
           }
          ],
          "scattergl": [
           {
            "marker": {
             "colorbar": {
              "outlinewidth": 0,
              "ticks": ""
             }
            },
            "type": "scattergl"
           }
          ],
          "scattermapbox": [
           {
            "marker": {
             "colorbar": {
              "outlinewidth": 0,
              "ticks": ""
             }
            },
            "type": "scattermapbox"
           }
          ],
          "scatterpolar": [
           {
            "marker": {
             "colorbar": {
              "outlinewidth": 0,
              "ticks": ""
             }
            },
            "type": "scatterpolar"
           }
          ],
          "scatterpolargl": [
           {
            "marker": {
             "colorbar": {
              "outlinewidth": 0,
              "ticks": ""
             }
            },
            "type": "scatterpolargl"
           }
          ],
          "scatterternary": [
           {
            "marker": {
             "colorbar": {
              "outlinewidth": 0,
              "ticks": ""
             }
            },
            "type": "scatterternary"
           }
          ],
          "surface": [
           {
            "colorbar": {
             "outlinewidth": 0,
             "ticks": ""
            },
            "colorscale": [
             [
              0,
              "#0d0887"
             ],
             [
              0.1111111111111111,
              "#46039f"
             ],
             [
              0.2222222222222222,
              "#7201a8"
             ],
             [
              0.3333333333333333,
              "#9c179e"
             ],
             [
              0.4444444444444444,
              "#bd3786"
             ],
             [
              0.5555555555555556,
              "#d8576b"
             ],
             [
              0.6666666666666666,
              "#ed7953"
             ],
             [
              0.7777777777777778,
              "#fb9f3a"
             ],
             [
              0.8888888888888888,
              "#fdca26"
             ],
             [
              1,
              "#f0f921"
             ]
            ],
            "type": "surface"
           }
          ],
          "table": [
           {
            "cells": {
             "fill": {
              "color": "#EBF0F8"
             },
             "line": {
              "color": "white"
             }
            },
            "header": {
             "fill": {
              "color": "#C8D4E3"
             },
             "line": {
              "color": "white"
             }
            },
            "type": "table"
           }
          ]
         },
         "layout": {
          "annotationdefaults": {
           "arrowcolor": "#2a3f5f",
           "arrowhead": 0,
           "arrowwidth": 1
          },
          "autotypenumbers": "strict",
          "coloraxis": {
           "colorbar": {
            "outlinewidth": 0,
            "ticks": ""
           }
          },
          "colorscale": {
           "diverging": [
            [
             0,
             "#8e0152"
            ],
            [
             0.1,
             "#c51b7d"
            ],
            [
             0.2,
             "#de77ae"
            ],
            [
             0.3,
             "#f1b6da"
            ],
            [
             0.4,
             "#fde0ef"
            ],
            [
             0.5,
             "#f7f7f7"
            ],
            [
             0.6,
             "#e6f5d0"
            ],
            [
             0.7,
             "#b8e186"
            ],
            [
             0.8,
             "#7fbc41"
            ],
            [
             0.9,
             "#4d9221"
            ],
            [
             1,
             "#276419"
            ]
           ],
           "sequential": [
            [
             0,
             "#0d0887"
            ],
            [
             0.1111111111111111,
             "#46039f"
            ],
            [
             0.2222222222222222,
             "#7201a8"
            ],
            [
             0.3333333333333333,
             "#9c179e"
            ],
            [
             0.4444444444444444,
             "#bd3786"
            ],
            [
             0.5555555555555556,
             "#d8576b"
            ],
            [
             0.6666666666666666,
             "#ed7953"
            ],
            [
             0.7777777777777778,
             "#fb9f3a"
            ],
            [
             0.8888888888888888,
             "#fdca26"
            ],
            [
             1,
             "#f0f921"
            ]
           ],
           "sequentialminus": [
            [
             0,
             "#0d0887"
            ],
            [
             0.1111111111111111,
             "#46039f"
            ],
            [
             0.2222222222222222,
             "#7201a8"
            ],
            [
             0.3333333333333333,
             "#9c179e"
            ],
            [
             0.4444444444444444,
             "#bd3786"
            ],
            [
             0.5555555555555556,
             "#d8576b"
            ],
            [
             0.6666666666666666,
             "#ed7953"
            ],
            [
             0.7777777777777778,
             "#fb9f3a"
            ],
            [
             0.8888888888888888,
             "#fdca26"
            ],
            [
             1,
             "#f0f921"
            ]
           ]
          },
          "colorway": [
           "#636efa",
           "#EF553B",
           "#00cc96",
           "#ab63fa",
           "#FFA15A",
           "#19d3f3",
           "#FF6692",
           "#B6E880",
           "#FF97FF",
           "#FECB52"
          ],
          "font": {
           "color": "#2a3f5f"
          },
          "geo": {
           "bgcolor": "white",
           "lakecolor": "white",
           "landcolor": "#E5ECF6",
           "showlakes": true,
           "showland": true,
           "subunitcolor": "white"
          },
          "hoverlabel": {
           "align": "left"
          },
          "hovermode": "closest",
          "mapbox": {
           "style": "light"
          },
          "paper_bgcolor": "white",
          "plot_bgcolor": "#E5ECF6",
          "polar": {
           "angularaxis": {
            "gridcolor": "white",
            "linecolor": "white",
            "ticks": ""
           },
           "bgcolor": "#E5ECF6",
           "radialaxis": {
            "gridcolor": "white",
            "linecolor": "white",
            "ticks": ""
           }
          },
          "scene": {
           "xaxis": {
            "backgroundcolor": "#E5ECF6",
            "gridcolor": "white",
            "gridwidth": 2,
            "linecolor": "white",
            "showbackground": true,
            "ticks": "",
            "zerolinecolor": "white"
           },
           "yaxis": {
            "backgroundcolor": "#E5ECF6",
            "gridcolor": "white",
            "gridwidth": 2,
            "linecolor": "white",
            "showbackground": true,
            "ticks": "",
            "zerolinecolor": "white"
           },
           "zaxis": {
            "backgroundcolor": "#E5ECF6",
            "gridcolor": "white",
            "gridwidth": 2,
            "linecolor": "white",
            "showbackground": true,
            "ticks": "",
            "zerolinecolor": "white"
           }
          },
          "shapedefaults": {
           "line": {
            "color": "#2a3f5f"
           }
          },
          "ternary": {
           "aaxis": {
            "gridcolor": "white",
            "linecolor": "white",
            "ticks": ""
           },
           "baxis": {
            "gridcolor": "white",
            "linecolor": "white",
            "ticks": ""
           },
           "bgcolor": "#E5ECF6",
           "caxis": {
            "gridcolor": "white",
            "linecolor": "white",
            "ticks": ""
           }
          },
          "title": {
           "x": 0.05
          },
          "xaxis": {
           "automargin": true,
           "gridcolor": "white",
           "linecolor": "white",
           "ticks": "",
           "title": {
            "standoff": 15
           },
           "zerolinecolor": "white",
           "zerolinewidth": 2
          },
          "yaxis": {
           "automargin": true,
           "gridcolor": "white",
           "linecolor": "white",
           "ticks": "",
           "title": {
            "standoff": 15
           },
           "zerolinecolor": "white",
           "zerolinewidth": 2
          }
         }
        },
        "title": {
         "text": "LHS"
        }
       }
      },
      "text/html": [
       "<div>                            <div id=\"32317391-5b85-418c-88c1-ca983b4169ab\" class=\"plotly-graph-div\" style=\"height:525px; width:100%;\"></div>            <script type=\"text/javascript\">                require([\"plotly\"], function(Plotly) {                    window.PLOTLYENV=window.PLOTLYENV || {};                                    if (document.getElementById(\"32317391-5b85-418c-88c1-ca983b4169ab\")) {                    Plotly.newPlot(                        \"32317391-5b85-418c-88c1-ca983b4169ab\",                        [{\"line\":{\"color\":\"#930001\"},\"marker\":{\"color\":\"#930001\",\"line\":{\"color\":\"black\",\"width\":2},\"size\":12},\"mode\":\"lines+markers\",\"name\":\"Metagenomic - Best\",\"opacity\":0.6,\"r\":[0.9752899484536083,0.4574756175858746,1.0,0.5505445450065095,1.0,1.0],\"showlegend\":true,\"subplot\":\"polar\",\"theta\":[\"Contigs\",\"Basepairs\",\"Largest contig\",\"N50\",\"% Mapped reads\",\"Uncalled bases\"],\"type\":\"scatterpolar\"},{\"line\":{\"color\":\"#930001\"},\"marker\":{\"color\":\"#930001\",\"line\":{\"color\":\"black\",\"width\":2},\"size\":12},\"mode\":\"lines+markers\",\"name\":\"Metagenomic - Best\",\"opacity\":0.6,\"r\":[0.8794233289646134,0.44182206587110884,0.5606007515091431,1.0,1.0,1.0,1.0],\"showlegend\":false,\"subplot\":\"polar2\",\"theta\":[\"Contigs\",\"Basepairs\",\"N50\",\"% Mapped reads\",\"Uncalled bases\",\"Misassembled contigs\",\"Misassembly events\"],\"type\":\"scatterpolar\"},{\"line\":{\"color\":\"#C97F80\"},\"marker\":{\"color\":\"#C97F80\",\"line\":{\"color\":\"black\",\"width\":2},\"size\":12},\"mode\":\"lines+markers\",\"name\":\"Metagenomic - Worst\",\"opacity\":0.6,\"r\":[0.9323775773195876,0.4407072741171748,0.6888893005334914,0.2592022835850234,0.9988116587155778,1.0],\"showlegend\":true,\"subplot\":\"polar\",\"theta\":[\"Contigs\",\"Basepairs\",\"Largest contig\",\"N50\",\"% Mapped reads\",\"Uncalled bases\"],\"type\":\"scatterpolar\"},{\"line\":{\"color\":\"#C97F80\"},\"marker\":{\"color\":\"#C97F80\",\"line\":{\"color\":\"black\",\"width\":2},\"size\":12},\"mode\":\"lines+markers\",\"name\":\"Metagenomic - Worst\",\"opacity\":0.6,\"r\":[0.5006553079947575,0.4364834157640711,0.26129613961319215,0.996111946779321,1.0,0.6,0.4],\"showlegend\":false,\"subplot\":\"polar2\",\"theta\":[\"Contigs\",\"Basepairs\",\"N50\",\"% Mapped reads\",\"Uncalled bases\",\"Misassembled contigs\",\"Misassembly events\"],\"type\":\"scatterpolar\"},{\"line\":{\"color\":\"#009392\"},\"marker\":{\"color\":\"#009392\",\"line\":{\"color\":\"black\",\"width\":2},\"size\":12},\"mode\":\"lines+markers\",\"name\":\"Genomic - Best\",\"opacity\":0.6,\"r\":[0.998840206185567,0.5239540954871695,0.9235546915861781,1.0,0.9967934297678621,1.0],\"showlegend\":true,\"subplot\":\"polar\",\"theta\":[\"Contigs\",\"Basepairs\",\"Largest contig\",\"N50\",\"% Mapped reads\",\"Uncalled bases\"],\"type\":\"scatterpolar\"},{\"line\":{\"color\":\"#009392\"},\"marker\":{\"color\":\"#009392\",\"line\":{\"color\":\"black\",\"width\":2},\"size\":12},\"mode\":\"lines+markers\",\"name\":\"Genomic - Best\",\"opacity\":0.6,\"r\":[0.9862385321100917,0.4302776264148289,1.0,0.992005780606336,1.0,1.0,1.0],\"showlegend\":false,\"subplot\":\"polar2\",\"theta\":[\"Contigs\",\"Basepairs\",\"N50\",\"% Mapped reads\",\"Uncalled bases\",\"Misassembled contigs\",\"Misassembly events\"],\"type\":\"scatterpolar\"},{\"line\":{\"color\":\"#7FC9C8\"},\"marker\":{\"color\":\"#7FC9C8\",\"line\":{\"color\":\"black\",\"width\":2},\"size\":12},\"mode\":\"lines+markers\",\"name\":\"Genomic - Worst\",\"opacity\":0.6,\"r\":[0.0,0.09555367123360003,0.2872801091390913,0.13240576935677312,0.9480087096031734,1.0],\"showlegend\":true,\"subplot\":\"polar\",\"theta\":[\"Contigs\",\"Basepairs\",\"Largest contig\",\"N50\",\"% Mapped reads\",\"Uncalled bases\"],\"type\":\"scatterpolar\"},{\"line\":{\"color\":\"#7FC9C8\"},\"marker\":{\"color\":\"#7FC9C8\",\"line\":{\"color\":\"black\",\"width\":2},\"size\":12},\"mode\":\"lines+markers\",\"name\":\"Genomic - Worst\",\"opacity\":0.6,\"r\":[0.0,0.09533823552173948,0.19759448703376092,0.7931584685144951,1.0,0.0,0.0],\"showlegend\":false,\"subplot\":\"polar2\",\"theta\":[\"Contigs\",\"Basepairs\",\"N50\",\"% Mapped reads\",\"Uncalled bases\",\"Misassembled contigs\",\"Misassembly events\"],\"type\":\"scatterpolar\"}],                        {\"annotations\":[{\"font\":{\"size\":16},\"showarrow\":false,\"text\":\"Original\",\"x\":0.225,\"xanchor\":\"center\",\"xref\":\"paper\",\"y\":1.0,\"yanchor\":\"bottom\",\"yref\":\"paper\"},{\"font\":{\"size\":16},\"showarrow\":false,\"text\":\"Filtered\",\"x\":0.775,\"xanchor\":\"center\",\"xref\":\"paper\",\"y\":1.0,\"yanchor\":\"bottom\",\"yref\":\"paper\"}],\"legend\":{\"orientation\":\"h\",\"x\":0,\"xanchor\":\"left\",\"y\":-0.5,\"yanchor\":\"bottom\"},\"polar\":{\"angularaxis\":{\"categoryarray\":[\"Contigs\",\"Basepairs\",\"Largest contig\",\"N50\",\"% Mapped reads\",\"Uncalled bases\"],\"linecolor\":\"black\"},\"bgcolor\":\"rgb(255,255,255)\",\"domain\":{\"x\":[0.0,0.45],\"y\":[0.0,1.0]},\"hole\":0.08333333333333333,\"radialaxis\":{\"angle\":-22.5,\"gridcolor\":\"#DCDCDC\",\"linecolor\":\"black\",\"linewidth\":2,\"range\":[0,1],\"visible\":true}},\"polar2\":{\"angularaxis\":{\"categoryarray\":[\"Contigs\",\"Basepairs\",\"N50\",\"% Mapped reads\",\"Uncalled bases\",\"Misassembled contigs\",\"Misassembly events\"],\"linecolor\":\"black\"},\"bgcolor\":\"rgb(255,255,255)\",\"domain\":{\"x\":[0.55,1.0],\"y\":[0.0,1.0]},\"hole\":0.08333333333333333,\"radialaxis\":{\"angle\":-22.5,\"gridcolor\":\"#DCDCDC\",\"linecolor\":\"black\",\"linewidth\":2,\"range\":[0,1],\"visible\":true}},\"template\":{\"data\":{\"bar\":[{\"error_x\":{\"color\":\"#2a3f5f\"},\"error_y\":{\"color\":\"#2a3f5f\"},\"marker\":{\"line\":{\"color\":\"#E5ECF6\",\"width\":0.5},\"pattern\":{\"fillmode\":\"overlay\",\"size\":10,\"solidity\":0.2}},\"type\":\"bar\"}],\"barpolar\":[{\"marker\":{\"line\":{\"color\":\"#E5ECF6\",\"width\":0.5},\"pattern\":{\"fillmode\":\"overlay\",\"size\":10,\"solidity\":0.2}},\"type\":\"barpolar\"}],\"carpet\":[{\"aaxis\":{\"endlinecolor\":\"#2a3f5f\",\"gridcolor\":\"white\",\"linecolor\":\"white\",\"minorgridcolor\":\"white\",\"startlinecolor\":\"#2a3f5f\"},\"baxis\":{\"endlinecolor\":\"#2a3f5f\",\"gridcolor\":\"white\",\"linecolor\":\"white\",\"minorgridcolor\":\"white\",\"startlinecolor\":\"#2a3f5f\"},\"type\":\"carpet\"}],\"choropleth\":[{\"colorbar\":{\"outlinewidth\":0,\"ticks\":\"\"},\"type\":\"choropleth\"}],\"contour\":[{\"colorbar\":{\"outlinewidth\":0,\"ticks\":\"\"},\"colorscale\":[[0.0,\"#0d0887\"],[0.1111111111111111,\"#46039f\"],[0.2222222222222222,\"#7201a8\"],[0.3333333333333333,\"#9c179e\"],[0.4444444444444444,\"#bd3786\"],[0.5555555555555556,\"#d8576b\"],[0.6666666666666666,\"#ed7953\"],[0.7777777777777778,\"#fb9f3a\"],[0.8888888888888888,\"#fdca26\"],[1.0,\"#f0f921\"]],\"type\":\"contour\"}],\"contourcarpet\":[{\"colorbar\":{\"outlinewidth\":0,\"ticks\":\"\"},\"type\":\"contourcarpet\"}],\"heatmap\":[{\"colorbar\":{\"outlinewidth\":0,\"ticks\":\"\"},\"colorscale\":[[0.0,\"#0d0887\"],[0.1111111111111111,\"#46039f\"],[0.2222222222222222,\"#7201a8\"],[0.3333333333333333,\"#9c179e\"],[0.4444444444444444,\"#bd3786\"],[0.5555555555555556,\"#d8576b\"],[0.6666666666666666,\"#ed7953\"],[0.7777777777777778,\"#fb9f3a\"],[0.8888888888888888,\"#fdca26\"],[1.0,\"#f0f921\"]],\"type\":\"heatmap\"}],\"heatmapgl\":[{\"colorbar\":{\"outlinewidth\":0,\"ticks\":\"\"},\"colorscale\":[[0.0,\"#0d0887\"],[0.1111111111111111,\"#46039f\"],[0.2222222222222222,\"#7201a8\"],[0.3333333333333333,\"#9c179e\"],[0.4444444444444444,\"#bd3786\"],[0.5555555555555556,\"#d8576b\"],[0.6666666666666666,\"#ed7953\"],[0.7777777777777778,\"#fb9f3a\"],[0.8888888888888888,\"#fdca26\"],[1.0,\"#f0f921\"]],\"type\":\"heatmapgl\"}],\"histogram\":[{\"marker\":{\"pattern\":{\"fillmode\":\"overlay\",\"size\":10,\"solidity\":0.2}},\"type\":\"histogram\"}],\"histogram2d\":[{\"colorbar\":{\"outlinewidth\":0,\"ticks\":\"\"},\"colorscale\":[[0.0,\"#0d0887\"],[0.1111111111111111,\"#46039f\"],[0.2222222222222222,\"#7201a8\"],[0.3333333333333333,\"#9c179e\"],[0.4444444444444444,\"#bd3786\"],[0.5555555555555556,\"#d8576b\"],[0.6666666666666666,\"#ed7953\"],[0.7777777777777778,\"#fb9f3a\"],[0.8888888888888888,\"#fdca26\"],[1.0,\"#f0f921\"]],\"type\":\"histogram2d\"}],\"histogram2dcontour\":[{\"colorbar\":{\"outlinewidth\":0,\"ticks\":\"\"},\"colorscale\":[[0.0,\"#0d0887\"],[0.1111111111111111,\"#46039f\"],[0.2222222222222222,\"#7201a8\"],[0.3333333333333333,\"#9c179e\"],[0.4444444444444444,\"#bd3786\"],[0.5555555555555556,\"#d8576b\"],[0.6666666666666666,\"#ed7953\"],[0.7777777777777778,\"#fb9f3a\"],[0.8888888888888888,\"#fdca26\"],[1.0,\"#f0f921\"]],\"type\":\"histogram2dcontour\"}],\"mesh3d\":[{\"colorbar\":{\"outlinewidth\":0,\"ticks\":\"\"},\"type\":\"mesh3d\"}],\"parcoords\":[{\"line\":{\"colorbar\":{\"outlinewidth\":0,\"ticks\":\"\"}},\"type\":\"parcoords\"}],\"pie\":[{\"automargin\":true,\"type\":\"pie\"}],\"scatter\":[{\"marker\":{\"colorbar\":{\"outlinewidth\":0,\"ticks\":\"\"}},\"type\":\"scatter\"}],\"scatter3d\":[{\"line\":{\"colorbar\":{\"outlinewidth\":0,\"ticks\":\"\"}},\"marker\":{\"colorbar\":{\"outlinewidth\":0,\"ticks\":\"\"}},\"type\":\"scatter3d\"}],\"scattercarpet\":[{\"marker\":{\"colorbar\":{\"outlinewidth\":0,\"ticks\":\"\"}},\"type\":\"scattercarpet\"}],\"scattergeo\":[{\"marker\":{\"colorbar\":{\"outlinewidth\":0,\"ticks\":\"\"}},\"type\":\"scattergeo\"}],\"scattergl\":[{\"marker\":{\"colorbar\":{\"outlinewidth\":0,\"ticks\":\"\"}},\"type\":\"scattergl\"}],\"scattermapbox\":[{\"marker\":{\"colorbar\":{\"outlinewidth\":0,\"ticks\":\"\"}},\"type\":\"scattermapbox\"}],\"scatterpolar\":[{\"marker\":{\"colorbar\":{\"outlinewidth\":0,\"ticks\":\"\"}},\"type\":\"scatterpolar\"}],\"scatterpolargl\":[{\"marker\":{\"colorbar\":{\"outlinewidth\":0,\"ticks\":\"\"}},\"type\":\"scatterpolargl\"}],\"scatterternary\":[{\"marker\":{\"colorbar\":{\"outlinewidth\":0,\"ticks\":\"\"}},\"type\":\"scatterternary\"}],\"surface\":[{\"colorbar\":{\"outlinewidth\":0,\"ticks\":\"\"},\"colorscale\":[[0.0,\"#0d0887\"],[0.1111111111111111,\"#46039f\"],[0.2222222222222222,\"#7201a8\"],[0.3333333333333333,\"#9c179e\"],[0.4444444444444444,\"#bd3786\"],[0.5555555555555556,\"#d8576b\"],[0.6666666666666666,\"#ed7953\"],[0.7777777777777778,\"#fb9f3a\"],[0.8888888888888888,\"#fdca26\"],[1.0,\"#f0f921\"]],\"type\":\"surface\"}],\"table\":[{\"cells\":{\"fill\":{\"color\":\"#EBF0F8\"},\"line\":{\"color\":\"white\"}},\"header\":{\"fill\":{\"color\":\"#C8D4E3\"},\"line\":{\"color\":\"white\"}},\"type\":\"table\"}]},\"layout\":{\"annotationdefaults\":{\"arrowcolor\":\"#2a3f5f\",\"arrowhead\":0,\"arrowwidth\":1},\"autotypenumbers\":\"strict\",\"coloraxis\":{\"colorbar\":{\"outlinewidth\":0,\"ticks\":\"\"}},\"colorscale\":{\"diverging\":[[0,\"#8e0152\"],[0.1,\"#c51b7d\"],[0.2,\"#de77ae\"],[0.3,\"#f1b6da\"],[0.4,\"#fde0ef\"],[0.5,\"#f7f7f7\"],[0.6,\"#e6f5d0\"],[0.7,\"#b8e186\"],[0.8,\"#7fbc41\"],[0.9,\"#4d9221\"],[1,\"#276419\"]],\"sequential\":[[0.0,\"#0d0887\"],[0.1111111111111111,\"#46039f\"],[0.2222222222222222,\"#7201a8\"],[0.3333333333333333,\"#9c179e\"],[0.4444444444444444,\"#bd3786\"],[0.5555555555555556,\"#d8576b\"],[0.6666666666666666,\"#ed7953\"],[0.7777777777777778,\"#fb9f3a\"],[0.8888888888888888,\"#fdca26\"],[1.0,\"#f0f921\"]],\"sequentialminus\":[[0.0,\"#0d0887\"],[0.1111111111111111,\"#46039f\"],[0.2222222222222222,\"#7201a8\"],[0.3333333333333333,\"#9c179e\"],[0.4444444444444444,\"#bd3786\"],[0.5555555555555556,\"#d8576b\"],[0.6666666666666666,\"#ed7953\"],[0.7777777777777778,\"#fb9f3a\"],[0.8888888888888888,\"#fdca26\"],[1.0,\"#f0f921\"]]},\"colorway\":[\"#636efa\",\"#EF553B\",\"#00cc96\",\"#ab63fa\",\"#FFA15A\",\"#19d3f3\",\"#FF6692\",\"#B6E880\",\"#FF97FF\",\"#FECB52\"],\"font\":{\"color\":\"#2a3f5f\"},\"geo\":{\"bgcolor\":\"white\",\"lakecolor\":\"white\",\"landcolor\":\"#E5ECF6\",\"showlakes\":true,\"showland\":true,\"subunitcolor\":\"white\"},\"hoverlabel\":{\"align\":\"left\"},\"hovermode\":\"closest\",\"mapbox\":{\"style\":\"light\"},\"paper_bgcolor\":\"white\",\"plot_bgcolor\":\"#E5ECF6\",\"polar\":{\"angularaxis\":{\"gridcolor\":\"white\",\"linecolor\":\"white\",\"ticks\":\"\"},\"bgcolor\":\"#E5ECF6\",\"radialaxis\":{\"gridcolor\":\"white\",\"linecolor\":\"white\",\"ticks\":\"\"}},\"scene\":{\"xaxis\":{\"backgroundcolor\":\"#E5ECF6\",\"gridcolor\":\"white\",\"gridwidth\":2,\"linecolor\":\"white\",\"showbackground\":true,\"ticks\":\"\",\"zerolinecolor\":\"white\"},\"yaxis\":{\"backgroundcolor\":\"#E5ECF6\",\"gridcolor\":\"white\",\"gridwidth\":2,\"linecolor\":\"white\",\"showbackground\":true,\"ticks\":\"\",\"zerolinecolor\":\"white\"},\"zaxis\":{\"backgroundcolor\":\"#E5ECF6\",\"gridcolor\":\"white\",\"gridwidth\":2,\"linecolor\":\"white\",\"showbackground\":true,\"ticks\":\"\",\"zerolinecolor\":\"white\"}},\"shapedefaults\":{\"line\":{\"color\":\"#2a3f5f\"}},\"ternary\":{\"aaxis\":{\"gridcolor\":\"white\",\"linecolor\":\"white\",\"ticks\":\"\"},\"baxis\":{\"gridcolor\":\"white\",\"linecolor\":\"white\",\"ticks\":\"\"},\"bgcolor\":\"#E5ECF6\",\"caxis\":{\"gridcolor\":\"white\",\"linecolor\":\"white\",\"ticks\":\"\"}},\"title\":{\"x\":0.05},\"xaxis\":{\"automargin\":true,\"gridcolor\":\"white\",\"linecolor\":\"white\",\"ticks\":\"\",\"title\":{\"standoff\":15},\"zerolinecolor\":\"white\",\"zerolinewidth\":2},\"yaxis\":{\"automargin\":true,\"gridcolor\":\"white\",\"linecolor\":\"white\",\"ticks\":\"\",\"title\":{\"standoff\":15},\"zerolinecolor\":\"white\",\"zerolinewidth\":2}}},\"title\":{\"text\":\"LHS\"}},                        {\"responsive\": true}                    ).then(function(){\n",
       "                            \n",
       "var gd = document.getElementById('32317391-5b85-418c-88c1-ca983b4169ab');\n",
       "var x = new MutationObserver(function (mutations, observer) {{\n",
       "        var display = window.getComputedStyle(gd).display;\n",
       "        if (!display || display === 'none') {{\n",
       "            console.log([gd, 'removed!']);\n",
       "            Plotly.purge(gd);\n",
       "            observer.disconnect();\n",
       "        }}\n",
       "}});\n",
       "\n",
       "// Listen for the removal of the full notebook cells\n",
       "var notebookContainer = gd.closest('#notebook-container');\n",
       "if (notebookContainer) {{\n",
       "    x.observe(notebookContainer, {childList: true});\n",
       "}}\n",
       "\n",
       "// Listen for the clearing of the current output cell\n",
       "var outputEl = gd.closest('.output');\n",
       "if (outputEl) {{\n",
       "    x.observe(outputEl, {childList: true});\n",
       "}}\n",
       "\n",
       "                        })                };                });            </script>        </div>"
      ]
     },
     "metadata": {},
     "output_type": "display_data"
    },
    {
     "data": {
      "application/vnd.plotly.v1+json": {
       "config": {
        "plotlyServerURL": "https://plot.ly"
       },
       "data": [
        {
         "line": {
          "color": "#930001"
         },
         "marker": {
          "color": "#930001",
          "line": {
           "color": "black",
           "width": 2
          },
          "size": 12
         },
         "mode": "lines+markers",
         "name": "Metagenomic - Best",
         "opacity": 0.6,
         "r": [
          0.7104261796042618,
          0.9887723321476453,
          0.7038450771738088,
          0.8527606610895736,
          1,
          1
         ],
         "showlegend": true,
         "subplot": "polar",
         "theta": [
          "Contigs",
          "Basepairs",
          "Largest contig",
          "N50",
          "% Mapped reads",
          "Uncalled bases"
         ],
         "type": "scatterpolar"
        },
        {
         "line": {
          "color": "#930001"
         },
         "marker": {
          "color": "#930001",
          "line": {
           "color": "black",
           "width": 2
          },
          "size": 12
         },
         "mode": "lines+markers",
         "name": "Metagenomic - Best",
         "opacity": 0.6,
         "r": [
          0.7089314194577352,
          0.9829425454897498,
          0.8527606610895736,
          1,
          1,
          0.9230769230769231,
          0.9545454545454546
         ],
         "showlegend": false,
         "subplot": "polar2",
         "theta": [
          "Contigs",
          "Basepairs",
          "N50",
          "% Mapped reads",
          "Uncalled bases",
          "Misassembled contigs",
          "Misassembly events"
         ],
         "type": "scatterpolar"
        },
        {
         "line": {
          "color": "#C97F80"
         },
         "marker": {
          "color": "#C97F80",
          "line": {
           "color": "black",
           "width": 2
          },
          "size": 12
         },
         "mode": "lines+markers",
         "name": "Metagenomic - Worst",
         "opacity": 0.6,
         "r": [
          0.3040334855403348,
          0.9826263555331642,
          0.35917783529862907,
          0.25180167312793306,
          0.9958503570675098,
          1
         ],
         "showlegend": true,
         "subplot": "polar",
         "theta": [
          "Contigs",
          "Basepairs",
          "Largest contig",
          "N50",
          "% Mapped reads",
          "Uncalled bases"
         ],
         "type": "scatterpolar"
        },
        {
         "line": {
          "color": "#C97F80"
         },
         "marker": {
          "color": "#C97F80",
          "line": {
           "color": "black",
           "width": 2
          },
          "size": 12
         },
         "mode": "lines+markers",
         "name": "Metagenomic - Worst",
         "opacity": 0.6,
         "r": [
          0,
          0.974127744684737,
          0.2578167720873291,
          0.9863316662232169,
          1,
          0,
          0
         ],
         "showlegend": false,
         "subplot": "polar2",
         "theta": [
          "Contigs",
          "Basepairs",
          "N50",
          "% Mapped reads",
          "Uncalled bases",
          "Misassembled contigs",
          "Misassembly events"
         ],
         "type": "scatterpolar"
        },
        {
         "line": {
          "color": "#009392"
         },
         "marker": {
          "color": "#009392",
          "line": {
           "color": "black",
           "width": 2
          },
          "size": 12
         },
         "mode": "lines+markers",
         "name": "Genomic - Best",
         "opacity": 0.6,
         "r": [
          0.7503805175038052,
          0.9908970898794106,
          1,
          1,
          0.9964342659788687,
          1
         ],
         "showlegend": true,
         "subplot": "polar",
         "theta": [
          "Contigs",
          "Basepairs",
          "Largest contig",
          "N50",
          "% Mapped reads",
          "Uncalled bases"
         ],
         "type": "scatterpolar"
        },
        {
         "line": {
          "color": "#009392"
         },
         "marker": {
          "color": "#009392",
          "line": {
           "color": "black",
           "width": 2
          },
          "size": 12
         },
         "mode": "lines+markers",
         "name": "Genomic - Best",
         "opacity": 0.6,
         "r": [
          0.733652312599681,
          0.9808766957079952,
          1,
          0.9963102121705886,
          1,
          1,
          1
         ],
         "showlegend": false,
         "subplot": "polar2",
         "theta": [
          "Contigs",
          "Basepairs",
          "N50",
          "% Mapped reads",
          "Uncalled bases",
          "Misassembled contigs",
          "Misassembly events"
         ],
         "type": "scatterpolar"
        },
        {
         "line": {
          "color": "#7FC9C8"
         },
         "marker": {
          "color": "#7FC9C8",
          "line": {
           "color": "black",
           "width": 2
          },
          "size": 12
         },
         "mode": "lines+markers",
         "name": "Genomic - Worst",
         "opacity": 0.6,
         "r": [
          0,
          0.9774626197066578,
          0.4847190106413575,
          0.30132217914711285,
          0.9888876325530108,
          1
         ],
         "showlegend": true,
         "subplot": "polar",
         "theta": [
          "Contigs",
          "Basepairs",
          "Largest contig",
          "N50",
          "% Mapped reads",
          "Uncalled bases"
         ],
         "type": "scatterpolar"
        },
        {
         "line": {
          "color": "#7FC9C8"
         },
         "marker": {
          "color": "#7FC9C8",
          "line": {
           "color": "black",
           "width": 2
          },
          "size": 12
         },
         "mode": "lines+markers",
         "name": "Genomic - Worst",
         "opacity": 0.6,
         "r": [
          0.2894736842105263,
          0.9715065186348336,
          0.30254233829830646,
          0.9857067595380767,
          1,
          0.3076923076923077,
          0.18181818181818177
         ],
         "showlegend": false,
         "subplot": "polar2",
         "theta": [
          "Contigs",
          "Basepairs",
          "N50",
          "% Mapped reads",
          "Uncalled bases",
          "Misassembled contigs",
          "Misassembly events"
         ],
         "type": "scatterpolar"
        }
       ],
       "layout": {
        "annotations": [
         {
          "font": {
           "size": 16
          },
          "showarrow": false,
          "text": "Original",
          "x": 0.225,
          "xanchor": "center",
          "xref": "paper",
          "y": 1,
          "yanchor": "bottom",
          "yref": "paper"
         },
         {
          "font": {
           "size": 16
          },
          "showarrow": false,
          "text": "Filtered",
          "x": 0.775,
          "xanchor": "center",
          "xref": "paper",
          "y": 1,
          "yanchor": "bottom",
          "yref": "paper"
         }
        ],
        "legend": {
         "orientation": "h",
         "x": 0,
         "xanchor": "left",
         "y": -0.5,
         "yanchor": "bottom"
        },
        "polar": {
         "angularaxis": {
          "categoryarray": [
           "Contigs",
           "Basepairs",
           "Largest contig",
           "N50",
           "% Mapped reads",
           "Uncalled bases"
          ],
          "linecolor": "black"
         },
         "bgcolor": "rgb(255,255,255)",
         "domain": {
          "x": [
           0,
           0.45
          ],
          "y": [
           0,
           1
          ]
         },
         "hole": 0.08333333333333333,
         "radialaxis": {
          "angle": -22.5,
          "gridcolor": "#DCDCDC",
          "linecolor": "black",
          "linewidth": 2,
          "range": [
           0,
           1
          ],
          "visible": true
         }
        },
        "polar2": {
         "angularaxis": {
          "categoryarray": [
           "Contigs",
           "Basepairs",
           "N50",
           "% Mapped reads",
           "Uncalled bases",
           "Misassembled contigs",
           "Misassembly events"
          ],
          "linecolor": "black"
         },
         "bgcolor": "rgb(255,255,255)",
         "domain": {
          "x": [
           0.55,
           1
          ],
          "y": [
           0,
           1
          ]
         },
         "hole": 0.08333333333333333,
         "radialaxis": {
          "angle": -22.5,
          "gridcolor": "#DCDCDC",
          "linecolor": "black",
          "linewidth": 2,
          "range": [
           0,
           1
          ],
          "visible": true
         }
        },
        "template": {
         "data": {
          "bar": [
           {
            "error_x": {
             "color": "#2a3f5f"
            },
            "error_y": {
             "color": "#2a3f5f"
            },
            "marker": {
             "line": {
              "color": "#E5ECF6",
              "width": 0.5
             },
             "pattern": {
              "fillmode": "overlay",
              "size": 10,
              "solidity": 0.2
             }
            },
            "type": "bar"
           }
          ],
          "barpolar": [
           {
            "marker": {
             "line": {
              "color": "#E5ECF6",
              "width": 0.5
             },
             "pattern": {
              "fillmode": "overlay",
              "size": 10,
              "solidity": 0.2
             }
            },
            "type": "barpolar"
           }
          ],
          "carpet": [
           {
            "aaxis": {
             "endlinecolor": "#2a3f5f",
             "gridcolor": "white",
             "linecolor": "white",
             "minorgridcolor": "white",
             "startlinecolor": "#2a3f5f"
            },
            "baxis": {
             "endlinecolor": "#2a3f5f",
             "gridcolor": "white",
             "linecolor": "white",
             "minorgridcolor": "white",
             "startlinecolor": "#2a3f5f"
            },
            "type": "carpet"
           }
          ],
          "choropleth": [
           {
            "colorbar": {
             "outlinewidth": 0,
             "ticks": ""
            },
            "type": "choropleth"
           }
          ],
          "contour": [
           {
            "colorbar": {
             "outlinewidth": 0,
             "ticks": ""
            },
            "colorscale": [
             [
              0,
              "#0d0887"
             ],
             [
              0.1111111111111111,
              "#46039f"
             ],
             [
              0.2222222222222222,
              "#7201a8"
             ],
             [
              0.3333333333333333,
              "#9c179e"
             ],
             [
              0.4444444444444444,
              "#bd3786"
             ],
             [
              0.5555555555555556,
              "#d8576b"
             ],
             [
              0.6666666666666666,
              "#ed7953"
             ],
             [
              0.7777777777777778,
              "#fb9f3a"
             ],
             [
              0.8888888888888888,
              "#fdca26"
             ],
             [
              1,
              "#f0f921"
             ]
            ],
            "type": "contour"
           }
          ],
          "contourcarpet": [
           {
            "colorbar": {
             "outlinewidth": 0,
             "ticks": ""
            },
            "type": "contourcarpet"
           }
          ],
          "heatmap": [
           {
            "colorbar": {
             "outlinewidth": 0,
             "ticks": ""
            },
            "colorscale": [
             [
              0,
              "#0d0887"
             ],
             [
              0.1111111111111111,
              "#46039f"
             ],
             [
              0.2222222222222222,
              "#7201a8"
             ],
             [
              0.3333333333333333,
              "#9c179e"
             ],
             [
              0.4444444444444444,
              "#bd3786"
             ],
             [
              0.5555555555555556,
              "#d8576b"
             ],
             [
              0.6666666666666666,
              "#ed7953"
             ],
             [
              0.7777777777777778,
              "#fb9f3a"
             ],
             [
              0.8888888888888888,
              "#fdca26"
             ],
             [
              1,
              "#f0f921"
             ]
            ],
            "type": "heatmap"
           }
          ],
          "heatmapgl": [
           {
            "colorbar": {
             "outlinewidth": 0,
             "ticks": ""
            },
            "colorscale": [
             [
              0,
              "#0d0887"
             ],
             [
              0.1111111111111111,
              "#46039f"
             ],
             [
              0.2222222222222222,
              "#7201a8"
             ],
             [
              0.3333333333333333,
              "#9c179e"
             ],
             [
              0.4444444444444444,
              "#bd3786"
             ],
             [
              0.5555555555555556,
              "#d8576b"
             ],
             [
              0.6666666666666666,
              "#ed7953"
             ],
             [
              0.7777777777777778,
              "#fb9f3a"
             ],
             [
              0.8888888888888888,
              "#fdca26"
             ],
             [
              1,
              "#f0f921"
             ]
            ],
            "type": "heatmapgl"
           }
          ],
          "histogram": [
           {
            "marker": {
             "pattern": {
              "fillmode": "overlay",
              "size": 10,
              "solidity": 0.2
             }
            },
            "type": "histogram"
           }
          ],
          "histogram2d": [
           {
            "colorbar": {
             "outlinewidth": 0,
             "ticks": ""
            },
            "colorscale": [
             [
              0,
              "#0d0887"
             ],
             [
              0.1111111111111111,
              "#46039f"
             ],
             [
              0.2222222222222222,
              "#7201a8"
             ],
             [
              0.3333333333333333,
              "#9c179e"
             ],
             [
              0.4444444444444444,
              "#bd3786"
             ],
             [
              0.5555555555555556,
              "#d8576b"
             ],
             [
              0.6666666666666666,
              "#ed7953"
             ],
             [
              0.7777777777777778,
              "#fb9f3a"
             ],
             [
              0.8888888888888888,
              "#fdca26"
             ],
             [
              1,
              "#f0f921"
             ]
            ],
            "type": "histogram2d"
           }
          ],
          "histogram2dcontour": [
           {
            "colorbar": {
             "outlinewidth": 0,
             "ticks": ""
            },
            "colorscale": [
             [
              0,
              "#0d0887"
             ],
             [
              0.1111111111111111,
              "#46039f"
             ],
             [
              0.2222222222222222,
              "#7201a8"
             ],
             [
              0.3333333333333333,
              "#9c179e"
             ],
             [
              0.4444444444444444,
              "#bd3786"
             ],
             [
              0.5555555555555556,
              "#d8576b"
             ],
             [
              0.6666666666666666,
              "#ed7953"
             ],
             [
              0.7777777777777778,
              "#fb9f3a"
             ],
             [
              0.8888888888888888,
              "#fdca26"
             ],
             [
              1,
              "#f0f921"
             ]
            ],
            "type": "histogram2dcontour"
           }
          ],
          "mesh3d": [
           {
            "colorbar": {
             "outlinewidth": 0,
             "ticks": ""
            },
            "type": "mesh3d"
           }
          ],
          "parcoords": [
           {
            "line": {
             "colorbar": {
              "outlinewidth": 0,
              "ticks": ""
             }
            },
            "type": "parcoords"
           }
          ],
          "pie": [
           {
            "automargin": true,
            "type": "pie"
           }
          ],
          "scatter": [
           {
            "marker": {
             "colorbar": {
              "outlinewidth": 0,
              "ticks": ""
             }
            },
            "type": "scatter"
           }
          ],
          "scatter3d": [
           {
            "line": {
             "colorbar": {
              "outlinewidth": 0,
              "ticks": ""
             }
            },
            "marker": {
             "colorbar": {
              "outlinewidth": 0,
              "ticks": ""
             }
            },
            "type": "scatter3d"
           }
          ],
          "scattercarpet": [
           {
            "marker": {
             "colorbar": {
              "outlinewidth": 0,
              "ticks": ""
             }
            },
            "type": "scattercarpet"
           }
          ],
          "scattergeo": [
           {
            "marker": {
             "colorbar": {
              "outlinewidth": 0,
              "ticks": ""
             }
            },
            "type": "scattergeo"
           }
          ],
          "scattergl": [
           {
            "marker": {
             "colorbar": {
              "outlinewidth": 0,
              "ticks": ""
             }
            },
            "type": "scattergl"
           }
          ],
          "scattermapbox": [
           {
            "marker": {
             "colorbar": {
              "outlinewidth": 0,
              "ticks": ""
             }
            },
            "type": "scattermapbox"
           }
          ],
          "scatterpolar": [
           {
            "marker": {
             "colorbar": {
              "outlinewidth": 0,
              "ticks": ""
             }
            },
            "type": "scatterpolar"
           }
          ],
          "scatterpolargl": [
           {
            "marker": {
             "colorbar": {
              "outlinewidth": 0,
              "ticks": ""
             }
            },
            "type": "scatterpolargl"
           }
          ],
          "scatterternary": [
           {
            "marker": {
             "colorbar": {
              "outlinewidth": 0,
              "ticks": ""
             }
            },
            "type": "scatterternary"
           }
          ],
          "surface": [
           {
            "colorbar": {
             "outlinewidth": 0,
             "ticks": ""
            },
            "colorscale": [
             [
              0,
              "#0d0887"
             ],
             [
              0.1111111111111111,
              "#46039f"
             ],
             [
              0.2222222222222222,
              "#7201a8"
             ],
             [
              0.3333333333333333,
              "#9c179e"
             ],
             [
              0.4444444444444444,
              "#bd3786"
             ],
             [
              0.5555555555555556,
              "#d8576b"
             ],
             [
              0.6666666666666666,
              "#ed7953"
             ],
             [
              0.7777777777777778,
              "#fb9f3a"
             ],
             [
              0.8888888888888888,
              "#fdca26"
             ],
             [
              1,
              "#f0f921"
             ]
            ],
            "type": "surface"
           }
          ],
          "table": [
           {
            "cells": {
             "fill": {
              "color": "#EBF0F8"
             },
             "line": {
              "color": "white"
             }
            },
            "header": {
             "fill": {
              "color": "#C8D4E3"
             },
             "line": {
              "color": "white"
             }
            },
            "type": "table"
           }
          ]
         },
         "layout": {
          "annotationdefaults": {
           "arrowcolor": "#2a3f5f",
           "arrowhead": 0,
           "arrowwidth": 1
          },
          "autotypenumbers": "strict",
          "coloraxis": {
           "colorbar": {
            "outlinewidth": 0,
            "ticks": ""
           }
          },
          "colorscale": {
           "diverging": [
            [
             0,
             "#8e0152"
            ],
            [
             0.1,
             "#c51b7d"
            ],
            [
             0.2,
             "#de77ae"
            ],
            [
             0.3,
             "#f1b6da"
            ],
            [
             0.4,
             "#fde0ef"
            ],
            [
             0.5,
             "#f7f7f7"
            ],
            [
             0.6,
             "#e6f5d0"
            ],
            [
             0.7,
             "#b8e186"
            ],
            [
             0.8,
             "#7fbc41"
            ],
            [
             0.9,
             "#4d9221"
            ],
            [
             1,
             "#276419"
            ]
           ],
           "sequential": [
            [
             0,
             "#0d0887"
            ],
            [
             0.1111111111111111,
             "#46039f"
            ],
            [
             0.2222222222222222,
             "#7201a8"
            ],
            [
             0.3333333333333333,
             "#9c179e"
            ],
            [
             0.4444444444444444,
             "#bd3786"
            ],
            [
             0.5555555555555556,
             "#d8576b"
            ],
            [
             0.6666666666666666,
             "#ed7953"
            ],
            [
             0.7777777777777778,
             "#fb9f3a"
            ],
            [
             0.8888888888888888,
             "#fdca26"
            ],
            [
             1,
             "#f0f921"
            ]
           ],
           "sequentialminus": [
            [
             0,
             "#0d0887"
            ],
            [
             0.1111111111111111,
             "#46039f"
            ],
            [
             0.2222222222222222,
             "#7201a8"
            ],
            [
             0.3333333333333333,
             "#9c179e"
            ],
            [
             0.4444444444444444,
             "#bd3786"
            ],
            [
             0.5555555555555556,
             "#d8576b"
            ],
            [
             0.6666666666666666,
             "#ed7953"
            ],
            [
             0.7777777777777778,
             "#fb9f3a"
            ],
            [
             0.8888888888888888,
             "#fdca26"
            ],
            [
             1,
             "#f0f921"
            ]
           ]
          },
          "colorway": [
           "#636efa",
           "#EF553B",
           "#00cc96",
           "#ab63fa",
           "#FFA15A",
           "#19d3f3",
           "#FF6692",
           "#B6E880",
           "#FF97FF",
           "#FECB52"
          ],
          "font": {
           "color": "#2a3f5f"
          },
          "geo": {
           "bgcolor": "white",
           "lakecolor": "white",
           "landcolor": "#E5ECF6",
           "showlakes": true,
           "showland": true,
           "subunitcolor": "white"
          },
          "hoverlabel": {
           "align": "left"
          },
          "hovermode": "closest",
          "mapbox": {
           "style": "light"
          },
          "paper_bgcolor": "white",
          "plot_bgcolor": "#E5ECF6",
          "polar": {
           "angularaxis": {
            "gridcolor": "white",
            "linecolor": "white",
            "ticks": ""
           },
           "bgcolor": "#E5ECF6",
           "radialaxis": {
            "gridcolor": "white",
            "linecolor": "white",
            "ticks": ""
           }
          },
          "scene": {
           "xaxis": {
            "backgroundcolor": "#E5ECF6",
            "gridcolor": "white",
            "gridwidth": 2,
            "linecolor": "white",
            "showbackground": true,
            "ticks": "",
            "zerolinecolor": "white"
           },
           "yaxis": {
            "backgroundcolor": "#E5ECF6",
            "gridcolor": "white",
            "gridwidth": 2,
            "linecolor": "white",
            "showbackground": true,
            "ticks": "",
            "zerolinecolor": "white"
           },
           "zaxis": {
            "backgroundcolor": "#E5ECF6",
            "gridcolor": "white",
            "gridwidth": 2,
            "linecolor": "white",
            "showbackground": true,
            "ticks": "",
            "zerolinecolor": "white"
           }
          },
          "shapedefaults": {
           "line": {
            "color": "#2a3f5f"
           }
          },
          "ternary": {
           "aaxis": {
            "gridcolor": "white",
            "linecolor": "white",
            "ticks": ""
           },
           "baxis": {
            "gridcolor": "white",
            "linecolor": "white",
            "ticks": ""
           },
           "bgcolor": "#E5ECF6",
           "caxis": {
            "gridcolor": "white",
            "linecolor": "white",
            "ticks": ""
           }
          },
          "title": {
           "x": 0.05
          },
          "xaxis": {
           "automargin": true,
           "gridcolor": "white",
           "linecolor": "white",
           "ticks": "",
           "title": {
            "standoff": 15
           },
           "zerolinecolor": "white",
           "zerolinewidth": 2
          },
          "yaxis": {
           "automargin": true,
           "gridcolor": "white",
           "linecolor": "white",
           "ticks": "",
           "title": {
            "standoff": 15
           },
           "zerolinecolor": "white",
           "zerolinewidth": 2
          }
         }
        },
        "title": {
         "text": "EMS"
        }
       }
      },
      "text/html": [
       "<div>                            <div id=\"cb501bb5-7642-40cf-a314-dfe7bfaca70d\" class=\"plotly-graph-div\" style=\"height:525px; width:100%;\"></div>            <script type=\"text/javascript\">                require([\"plotly\"], function(Plotly) {                    window.PLOTLYENV=window.PLOTLYENV || {};                                    if (document.getElementById(\"cb501bb5-7642-40cf-a314-dfe7bfaca70d\")) {                    Plotly.newPlot(                        \"cb501bb5-7642-40cf-a314-dfe7bfaca70d\",                        [{\"line\":{\"color\":\"#930001\"},\"marker\":{\"color\":\"#930001\",\"line\":{\"color\":\"black\",\"width\":2},\"size\":12},\"mode\":\"lines+markers\",\"name\":\"Metagenomic - Best\",\"opacity\":0.6,\"r\":[0.7104261796042618,0.9887723321476453,0.7038450771738088,0.8527606610895736,1.0,1.0],\"showlegend\":true,\"subplot\":\"polar\",\"theta\":[\"Contigs\",\"Basepairs\",\"Largest contig\",\"N50\",\"% Mapped reads\",\"Uncalled bases\"],\"type\":\"scatterpolar\"},{\"line\":{\"color\":\"#930001\"},\"marker\":{\"color\":\"#930001\",\"line\":{\"color\":\"black\",\"width\":2},\"size\":12},\"mode\":\"lines+markers\",\"name\":\"Metagenomic - Best\",\"opacity\":0.6,\"r\":[0.7089314194577352,0.9829425454897498,0.8527606610895736,1.0,1.0,0.9230769230769231,0.9545454545454546],\"showlegend\":false,\"subplot\":\"polar2\",\"theta\":[\"Contigs\",\"Basepairs\",\"N50\",\"% Mapped reads\",\"Uncalled bases\",\"Misassembled contigs\",\"Misassembly events\"],\"type\":\"scatterpolar\"},{\"line\":{\"color\":\"#C97F80\"},\"marker\":{\"color\":\"#C97F80\",\"line\":{\"color\":\"black\",\"width\":2},\"size\":12},\"mode\":\"lines+markers\",\"name\":\"Metagenomic - Worst\",\"opacity\":0.6,\"r\":[0.3040334855403348,0.9826263555331642,0.35917783529862907,0.25180167312793306,0.9958503570675098,1.0],\"showlegend\":true,\"subplot\":\"polar\",\"theta\":[\"Contigs\",\"Basepairs\",\"Largest contig\",\"N50\",\"% Mapped reads\",\"Uncalled bases\"],\"type\":\"scatterpolar\"},{\"line\":{\"color\":\"#C97F80\"},\"marker\":{\"color\":\"#C97F80\",\"line\":{\"color\":\"black\",\"width\":2},\"size\":12},\"mode\":\"lines+markers\",\"name\":\"Metagenomic - Worst\",\"opacity\":0.6,\"r\":[0.0,0.974127744684737,0.2578167720873291,0.9863316662232169,1.0,0.0,0.0],\"showlegend\":false,\"subplot\":\"polar2\",\"theta\":[\"Contigs\",\"Basepairs\",\"N50\",\"% Mapped reads\",\"Uncalled bases\",\"Misassembled contigs\",\"Misassembly events\"],\"type\":\"scatterpolar\"},{\"line\":{\"color\":\"#009392\"},\"marker\":{\"color\":\"#009392\",\"line\":{\"color\":\"black\",\"width\":2},\"size\":12},\"mode\":\"lines+markers\",\"name\":\"Genomic - Best\",\"opacity\":0.6,\"r\":[0.7503805175038052,0.9908970898794106,1.0,1.0,0.9964342659788687,1.0],\"showlegend\":true,\"subplot\":\"polar\",\"theta\":[\"Contigs\",\"Basepairs\",\"Largest contig\",\"N50\",\"% Mapped reads\",\"Uncalled bases\"],\"type\":\"scatterpolar\"},{\"line\":{\"color\":\"#009392\"},\"marker\":{\"color\":\"#009392\",\"line\":{\"color\":\"black\",\"width\":2},\"size\":12},\"mode\":\"lines+markers\",\"name\":\"Genomic - Best\",\"opacity\":0.6,\"r\":[0.733652312599681,0.9808766957079952,1.0,0.9963102121705886,1.0,1.0,1.0],\"showlegend\":false,\"subplot\":\"polar2\",\"theta\":[\"Contigs\",\"Basepairs\",\"N50\",\"% Mapped reads\",\"Uncalled bases\",\"Misassembled contigs\",\"Misassembly events\"],\"type\":\"scatterpolar\"},{\"line\":{\"color\":\"#7FC9C8\"},\"marker\":{\"color\":\"#7FC9C8\",\"line\":{\"color\":\"black\",\"width\":2},\"size\":12},\"mode\":\"lines+markers\",\"name\":\"Genomic - Worst\",\"opacity\":0.6,\"r\":[0.0,0.9774626197066578,0.4847190106413575,0.30132217914711285,0.9888876325530108,1.0],\"showlegend\":true,\"subplot\":\"polar\",\"theta\":[\"Contigs\",\"Basepairs\",\"Largest contig\",\"N50\",\"% Mapped reads\",\"Uncalled bases\"],\"type\":\"scatterpolar\"},{\"line\":{\"color\":\"#7FC9C8\"},\"marker\":{\"color\":\"#7FC9C8\",\"line\":{\"color\":\"black\",\"width\":2},\"size\":12},\"mode\":\"lines+markers\",\"name\":\"Genomic - Worst\",\"opacity\":0.6,\"r\":[0.2894736842105263,0.9715065186348336,0.30254233829830646,0.9857067595380767,1.0,0.3076923076923077,0.18181818181818177],\"showlegend\":false,\"subplot\":\"polar2\",\"theta\":[\"Contigs\",\"Basepairs\",\"N50\",\"% Mapped reads\",\"Uncalled bases\",\"Misassembled contigs\",\"Misassembly events\"],\"type\":\"scatterpolar\"}],                        {\"annotations\":[{\"font\":{\"size\":16},\"showarrow\":false,\"text\":\"Original\",\"x\":0.225,\"xanchor\":\"center\",\"xref\":\"paper\",\"y\":1.0,\"yanchor\":\"bottom\",\"yref\":\"paper\"},{\"font\":{\"size\":16},\"showarrow\":false,\"text\":\"Filtered\",\"x\":0.775,\"xanchor\":\"center\",\"xref\":\"paper\",\"y\":1.0,\"yanchor\":\"bottom\",\"yref\":\"paper\"}],\"legend\":{\"orientation\":\"h\",\"x\":0,\"xanchor\":\"left\",\"y\":-0.5,\"yanchor\":\"bottom\"},\"polar\":{\"angularaxis\":{\"categoryarray\":[\"Contigs\",\"Basepairs\",\"Largest contig\",\"N50\",\"% Mapped reads\",\"Uncalled bases\"],\"linecolor\":\"black\"},\"bgcolor\":\"rgb(255,255,255)\",\"domain\":{\"x\":[0.0,0.45],\"y\":[0.0,1.0]},\"hole\":0.08333333333333333,\"radialaxis\":{\"angle\":-22.5,\"gridcolor\":\"#DCDCDC\",\"linecolor\":\"black\",\"linewidth\":2,\"range\":[0,1],\"visible\":true}},\"polar2\":{\"angularaxis\":{\"categoryarray\":[\"Contigs\",\"Basepairs\",\"N50\",\"% Mapped reads\",\"Uncalled bases\",\"Misassembled contigs\",\"Misassembly events\"],\"linecolor\":\"black\"},\"bgcolor\":\"rgb(255,255,255)\",\"domain\":{\"x\":[0.55,1.0],\"y\":[0.0,1.0]},\"hole\":0.08333333333333333,\"radialaxis\":{\"angle\":-22.5,\"gridcolor\":\"#DCDCDC\",\"linecolor\":\"black\",\"linewidth\":2,\"range\":[0,1],\"visible\":true}},\"template\":{\"data\":{\"bar\":[{\"error_x\":{\"color\":\"#2a3f5f\"},\"error_y\":{\"color\":\"#2a3f5f\"},\"marker\":{\"line\":{\"color\":\"#E5ECF6\",\"width\":0.5},\"pattern\":{\"fillmode\":\"overlay\",\"size\":10,\"solidity\":0.2}},\"type\":\"bar\"}],\"barpolar\":[{\"marker\":{\"line\":{\"color\":\"#E5ECF6\",\"width\":0.5},\"pattern\":{\"fillmode\":\"overlay\",\"size\":10,\"solidity\":0.2}},\"type\":\"barpolar\"}],\"carpet\":[{\"aaxis\":{\"endlinecolor\":\"#2a3f5f\",\"gridcolor\":\"white\",\"linecolor\":\"white\",\"minorgridcolor\":\"white\",\"startlinecolor\":\"#2a3f5f\"},\"baxis\":{\"endlinecolor\":\"#2a3f5f\",\"gridcolor\":\"white\",\"linecolor\":\"white\",\"minorgridcolor\":\"white\",\"startlinecolor\":\"#2a3f5f\"},\"type\":\"carpet\"}],\"choropleth\":[{\"colorbar\":{\"outlinewidth\":0,\"ticks\":\"\"},\"type\":\"choropleth\"}],\"contour\":[{\"colorbar\":{\"outlinewidth\":0,\"ticks\":\"\"},\"colorscale\":[[0.0,\"#0d0887\"],[0.1111111111111111,\"#46039f\"],[0.2222222222222222,\"#7201a8\"],[0.3333333333333333,\"#9c179e\"],[0.4444444444444444,\"#bd3786\"],[0.5555555555555556,\"#d8576b\"],[0.6666666666666666,\"#ed7953\"],[0.7777777777777778,\"#fb9f3a\"],[0.8888888888888888,\"#fdca26\"],[1.0,\"#f0f921\"]],\"type\":\"contour\"}],\"contourcarpet\":[{\"colorbar\":{\"outlinewidth\":0,\"ticks\":\"\"},\"type\":\"contourcarpet\"}],\"heatmap\":[{\"colorbar\":{\"outlinewidth\":0,\"ticks\":\"\"},\"colorscale\":[[0.0,\"#0d0887\"],[0.1111111111111111,\"#46039f\"],[0.2222222222222222,\"#7201a8\"],[0.3333333333333333,\"#9c179e\"],[0.4444444444444444,\"#bd3786\"],[0.5555555555555556,\"#d8576b\"],[0.6666666666666666,\"#ed7953\"],[0.7777777777777778,\"#fb9f3a\"],[0.8888888888888888,\"#fdca26\"],[1.0,\"#f0f921\"]],\"type\":\"heatmap\"}],\"heatmapgl\":[{\"colorbar\":{\"outlinewidth\":0,\"ticks\":\"\"},\"colorscale\":[[0.0,\"#0d0887\"],[0.1111111111111111,\"#46039f\"],[0.2222222222222222,\"#7201a8\"],[0.3333333333333333,\"#9c179e\"],[0.4444444444444444,\"#bd3786\"],[0.5555555555555556,\"#d8576b\"],[0.6666666666666666,\"#ed7953\"],[0.7777777777777778,\"#fb9f3a\"],[0.8888888888888888,\"#fdca26\"],[1.0,\"#f0f921\"]],\"type\":\"heatmapgl\"}],\"histogram\":[{\"marker\":{\"pattern\":{\"fillmode\":\"overlay\",\"size\":10,\"solidity\":0.2}},\"type\":\"histogram\"}],\"histogram2d\":[{\"colorbar\":{\"outlinewidth\":0,\"ticks\":\"\"},\"colorscale\":[[0.0,\"#0d0887\"],[0.1111111111111111,\"#46039f\"],[0.2222222222222222,\"#7201a8\"],[0.3333333333333333,\"#9c179e\"],[0.4444444444444444,\"#bd3786\"],[0.5555555555555556,\"#d8576b\"],[0.6666666666666666,\"#ed7953\"],[0.7777777777777778,\"#fb9f3a\"],[0.8888888888888888,\"#fdca26\"],[1.0,\"#f0f921\"]],\"type\":\"histogram2d\"}],\"histogram2dcontour\":[{\"colorbar\":{\"outlinewidth\":0,\"ticks\":\"\"},\"colorscale\":[[0.0,\"#0d0887\"],[0.1111111111111111,\"#46039f\"],[0.2222222222222222,\"#7201a8\"],[0.3333333333333333,\"#9c179e\"],[0.4444444444444444,\"#bd3786\"],[0.5555555555555556,\"#d8576b\"],[0.6666666666666666,\"#ed7953\"],[0.7777777777777778,\"#fb9f3a\"],[0.8888888888888888,\"#fdca26\"],[1.0,\"#f0f921\"]],\"type\":\"histogram2dcontour\"}],\"mesh3d\":[{\"colorbar\":{\"outlinewidth\":0,\"ticks\":\"\"},\"type\":\"mesh3d\"}],\"parcoords\":[{\"line\":{\"colorbar\":{\"outlinewidth\":0,\"ticks\":\"\"}},\"type\":\"parcoords\"}],\"pie\":[{\"automargin\":true,\"type\":\"pie\"}],\"scatter\":[{\"marker\":{\"colorbar\":{\"outlinewidth\":0,\"ticks\":\"\"}},\"type\":\"scatter\"}],\"scatter3d\":[{\"line\":{\"colorbar\":{\"outlinewidth\":0,\"ticks\":\"\"}},\"marker\":{\"colorbar\":{\"outlinewidth\":0,\"ticks\":\"\"}},\"type\":\"scatter3d\"}],\"scattercarpet\":[{\"marker\":{\"colorbar\":{\"outlinewidth\":0,\"ticks\":\"\"}},\"type\":\"scattercarpet\"}],\"scattergeo\":[{\"marker\":{\"colorbar\":{\"outlinewidth\":0,\"ticks\":\"\"}},\"type\":\"scattergeo\"}],\"scattergl\":[{\"marker\":{\"colorbar\":{\"outlinewidth\":0,\"ticks\":\"\"}},\"type\":\"scattergl\"}],\"scattermapbox\":[{\"marker\":{\"colorbar\":{\"outlinewidth\":0,\"ticks\":\"\"}},\"type\":\"scattermapbox\"}],\"scatterpolar\":[{\"marker\":{\"colorbar\":{\"outlinewidth\":0,\"ticks\":\"\"}},\"type\":\"scatterpolar\"}],\"scatterpolargl\":[{\"marker\":{\"colorbar\":{\"outlinewidth\":0,\"ticks\":\"\"}},\"type\":\"scatterpolargl\"}],\"scatterternary\":[{\"marker\":{\"colorbar\":{\"outlinewidth\":0,\"ticks\":\"\"}},\"type\":\"scatterternary\"}],\"surface\":[{\"colorbar\":{\"outlinewidth\":0,\"ticks\":\"\"},\"colorscale\":[[0.0,\"#0d0887\"],[0.1111111111111111,\"#46039f\"],[0.2222222222222222,\"#7201a8\"],[0.3333333333333333,\"#9c179e\"],[0.4444444444444444,\"#bd3786\"],[0.5555555555555556,\"#d8576b\"],[0.6666666666666666,\"#ed7953\"],[0.7777777777777778,\"#fb9f3a\"],[0.8888888888888888,\"#fdca26\"],[1.0,\"#f0f921\"]],\"type\":\"surface\"}],\"table\":[{\"cells\":{\"fill\":{\"color\":\"#EBF0F8\"},\"line\":{\"color\":\"white\"}},\"header\":{\"fill\":{\"color\":\"#C8D4E3\"},\"line\":{\"color\":\"white\"}},\"type\":\"table\"}]},\"layout\":{\"annotationdefaults\":{\"arrowcolor\":\"#2a3f5f\",\"arrowhead\":0,\"arrowwidth\":1},\"autotypenumbers\":\"strict\",\"coloraxis\":{\"colorbar\":{\"outlinewidth\":0,\"ticks\":\"\"}},\"colorscale\":{\"diverging\":[[0,\"#8e0152\"],[0.1,\"#c51b7d\"],[0.2,\"#de77ae\"],[0.3,\"#f1b6da\"],[0.4,\"#fde0ef\"],[0.5,\"#f7f7f7\"],[0.6,\"#e6f5d0\"],[0.7,\"#b8e186\"],[0.8,\"#7fbc41\"],[0.9,\"#4d9221\"],[1,\"#276419\"]],\"sequential\":[[0.0,\"#0d0887\"],[0.1111111111111111,\"#46039f\"],[0.2222222222222222,\"#7201a8\"],[0.3333333333333333,\"#9c179e\"],[0.4444444444444444,\"#bd3786\"],[0.5555555555555556,\"#d8576b\"],[0.6666666666666666,\"#ed7953\"],[0.7777777777777778,\"#fb9f3a\"],[0.8888888888888888,\"#fdca26\"],[1.0,\"#f0f921\"]],\"sequentialminus\":[[0.0,\"#0d0887\"],[0.1111111111111111,\"#46039f\"],[0.2222222222222222,\"#7201a8\"],[0.3333333333333333,\"#9c179e\"],[0.4444444444444444,\"#bd3786\"],[0.5555555555555556,\"#d8576b\"],[0.6666666666666666,\"#ed7953\"],[0.7777777777777778,\"#fb9f3a\"],[0.8888888888888888,\"#fdca26\"],[1.0,\"#f0f921\"]]},\"colorway\":[\"#636efa\",\"#EF553B\",\"#00cc96\",\"#ab63fa\",\"#FFA15A\",\"#19d3f3\",\"#FF6692\",\"#B6E880\",\"#FF97FF\",\"#FECB52\"],\"font\":{\"color\":\"#2a3f5f\"},\"geo\":{\"bgcolor\":\"white\",\"lakecolor\":\"white\",\"landcolor\":\"#E5ECF6\",\"showlakes\":true,\"showland\":true,\"subunitcolor\":\"white\"},\"hoverlabel\":{\"align\":\"left\"},\"hovermode\":\"closest\",\"mapbox\":{\"style\":\"light\"},\"paper_bgcolor\":\"white\",\"plot_bgcolor\":\"#E5ECF6\",\"polar\":{\"angularaxis\":{\"gridcolor\":\"white\",\"linecolor\":\"white\",\"ticks\":\"\"},\"bgcolor\":\"#E5ECF6\",\"radialaxis\":{\"gridcolor\":\"white\",\"linecolor\":\"white\",\"ticks\":\"\"}},\"scene\":{\"xaxis\":{\"backgroundcolor\":\"#E5ECF6\",\"gridcolor\":\"white\",\"gridwidth\":2,\"linecolor\":\"white\",\"showbackground\":true,\"ticks\":\"\",\"zerolinecolor\":\"white\"},\"yaxis\":{\"backgroundcolor\":\"#E5ECF6\",\"gridcolor\":\"white\",\"gridwidth\":2,\"linecolor\":\"white\",\"showbackground\":true,\"ticks\":\"\",\"zerolinecolor\":\"white\"},\"zaxis\":{\"backgroundcolor\":\"#E5ECF6\",\"gridcolor\":\"white\",\"gridwidth\":2,\"linecolor\":\"white\",\"showbackground\":true,\"ticks\":\"\",\"zerolinecolor\":\"white\"}},\"shapedefaults\":{\"line\":{\"color\":\"#2a3f5f\"}},\"ternary\":{\"aaxis\":{\"gridcolor\":\"white\",\"linecolor\":\"white\",\"ticks\":\"\"},\"baxis\":{\"gridcolor\":\"white\",\"linecolor\":\"white\",\"ticks\":\"\"},\"bgcolor\":\"#E5ECF6\",\"caxis\":{\"gridcolor\":\"white\",\"linecolor\":\"white\",\"ticks\":\"\"}},\"title\":{\"x\":0.05},\"xaxis\":{\"automargin\":true,\"gridcolor\":\"white\",\"linecolor\":\"white\",\"ticks\":\"\",\"title\":{\"standoff\":15},\"zerolinecolor\":\"white\",\"zerolinewidth\":2},\"yaxis\":{\"automargin\":true,\"gridcolor\":\"white\",\"linecolor\":\"white\",\"ticks\":\"\",\"title\":{\"standoff\":15},\"zerolinecolor\":\"white\",\"zerolinewidth\":2}}},\"title\":{\"text\":\"EMS\"}},                        {\"responsive\": true}                    ).then(function(){\n",
       "                            \n",
       "var gd = document.getElementById('cb501bb5-7642-40cf-a314-dfe7bfaca70d');\n",
       "var x = new MutationObserver(function (mutations, observer) {{\n",
       "        var display = window.getComputedStyle(gd).display;\n",
       "        if (!display || display === 'none') {{\n",
       "            console.log([gd, 'removed!']);\n",
       "            Plotly.purge(gd);\n",
       "            observer.disconnect();\n",
       "        }}\n",
       "}});\n",
       "\n",
       "// Listen for the removal of the full notebook cells\n",
       "var notebookContainer = gd.closest('#notebook-container');\n",
       "if (notebookContainer) {{\n",
       "    x.observe(notebookContainer, {childList: true});\n",
       "}}\n",
       "\n",
       "// Listen for the clearing of the current output cell\n",
       "var outputEl = gd.closest('.output');\n",
       "if (outputEl) {{\n",
       "    x.observe(outputEl, {childList: true});\n",
       "}}\n",
       "\n",
       "                        })                };                });            </script>        </div>"
      ]
     },
     "metadata": {},
     "output_type": "display_data"
    },
    {
     "data": {
      "application/vnd.plotly.v1+json": {
       "config": {
        "plotlyServerURL": "https://plot.ly"
       },
       "data": [
        {
         "line": {
          "color": "#930001"
         },
         "marker": {
          "color": "#930001",
          "line": {
           "color": "black",
           "width": 2
          },
          "size": 12
         },
         "mode": "lines+markers",
         "name": "Metagenomic - Best",
         "opacity": 0.6,
         "r": [
          0.9124489001362663,
          0.9398148493725658,
          1,
          0.5334493062520896,
          1,
          1
         ],
         "showlegend": true,
         "subplot": "polar",
         "theta": [
          "Contigs",
          "Basepairs",
          "Largest contig",
          "N50",
          "% Mapped reads",
          "Uncalled bases"
         ],
         "type": "scatterpolar"
        },
        {
         "line": {
          "color": "#930001"
         },
         "marker": {
          "color": "#930001",
          "line": {
           "color": "black",
           "width": 2
          },
          "size": 12
         },
         "mode": "lines+markers",
         "name": "Metagenomic - Best",
         "opacity": 0.6,
         "r": [
          0.7132629992464206,
          0.9876499789782958,
          0.78277018555667,
          1,
          1,
          0.9333333333333333,
          0.9375
         ],
         "showlegend": false,
         "subplot": "polar2",
         "theta": [
          "Contigs",
          "Basepairs",
          "N50",
          "% Mapped reads",
          "Uncalled bases",
          "Misassembled contigs",
          "Misassembly events"
         ],
         "type": "scatterpolar"
        },
        {
         "line": {
          "color": "#C97F80"
         },
         "marker": {
          "color": "#C97F80",
          "line": {
           "color": "black",
           "width": 2
          },
          "size": 12
         },
         "mode": "lines+markers",
         "name": "Metagenomic - Worst",
         "opacity": 0.6,
         "r": [
          0,
          0.4177699466503366,
          0.25155016548643727,
          0.10966754429956536,
          0.9859858017605061,
          1
         ],
         "showlegend": true,
         "subplot": "polar",
         "theta": [
          "Contigs",
          "Basepairs",
          "Largest contig",
          "N50",
          "% Mapped reads",
          "Uncalled bases"
         ],
         "type": "scatterpolar"
        },
        {
         "line": {
          "color": "#C97F80"
         },
         "marker": {
          "color": "#C97F80",
          "line": {
           "color": "black",
           "width": 2
          },
          "size": 12
         },
         "mode": "lines+markers",
         "name": "Metagenomic - Worst",
         "opacity": 0.6,
         "r": [
          0,
          0.9652569441664116,
          0.15219617184887999,
          0.981580946277468,
          1,
          0,
          0
         ],
         "showlegend": false,
         "subplot": "polar2",
         "theta": [
          "Contigs",
          "Basepairs",
          "N50",
          "% Mapped reads",
          "Uncalled bases",
          "Misassembled contigs",
          "Misassembly events"
         ],
         "type": "scatterpolar"
        },
        {
         "line": {
          "color": "#009392"
         },
         "marker": {
          "color": "#009392",
          "line": {
           "color": "black",
           "width": 2
          },
          "size": 12
         },
         "mode": "lines+markers",
         "name": "Genomic - Best",
         "opacity": 0.6,
         "r": [
          0.9854811498280449,
          0.9885729886788485,
          0.7315918625952552,
          1,
          0.9985570949692015,
          1
         ],
         "showlegend": true,
         "subplot": "polar",
         "theta": [
          "Contigs",
          "Basepairs",
          "Largest contig",
          "N50",
          "% Mapped reads",
          "Uncalled bases"
         ],
         "type": "scatterpolar"
        },
        {
         "line": {
          "color": "#009392"
         },
         "marker": {
          "color": "#009392",
          "line": {
           "color": "black",
           "width": 2
          },
          "size": 12
         },
         "mode": "lines+markers",
         "name": "Genomic - Best",
         "opacity": 0.6,
         "r": [
          0.8398643556895252,
          0.9833754526791597,
          1,
          0.9850686773512454,
          1,
          1,
          1
         ],
         "showlegend": false,
         "subplot": "polar2",
         "theta": [
          "Contigs",
          "Basepairs",
          "N50",
          "% Mapped reads",
          "Uncalled bases",
          "Misassembled contigs",
          "Misassembly events"
         ],
         "type": "scatterpolar"
        },
        {
         "line": {
          "color": "#7FC9C8"
         },
         "marker": {
          "color": "#7FC9C8",
          "line": {
           "color": "black",
           "width": 2
          },
          "size": 12
         },
         "mode": "lines+markers",
         "name": "Genomic - Worst",
         "opacity": 0.6,
         "r": [
          0.35404905586918434,
          0.4962496833657295,
          0.3700021312961349,
          0.27839769307923773,
          0.9635706972848685,
          1
         ],
         "showlegend": true,
         "subplot": "polar",
         "theta": [
          "Contigs",
          "Basepairs",
          "Largest contig",
          "N50",
          "% Mapped reads",
          "Uncalled bases"
         ],
         "type": "scatterpolar"
        },
        {
         "line": {
          "color": "#7FC9C8"
         },
         "marker": {
          "color": "#7FC9C8",
          "line": {
           "color": "black",
           "width": 2
          },
          "size": 12
         },
         "mode": "lines+markers",
         "name": "Genomic - Worst",
         "opacity": 0.6,
         "r": [
          0.22795779954785234,
          0.9497767233588634,
          0.40679329655633567,
          0.9719155376169296,
          1,
          0.4,
          0.4375
         ],
         "showlegend": false,
         "subplot": "polar2",
         "theta": [
          "Contigs",
          "Basepairs",
          "N50",
          "% Mapped reads",
          "Uncalled bases",
          "Misassembled contigs",
          "Misassembly events"
         ],
         "type": "scatterpolar"
        }
       ],
       "layout": {
        "annotations": [
         {
          "font": {
           "size": 16
          },
          "showarrow": false,
          "text": "Original",
          "x": 0.225,
          "xanchor": "center",
          "xref": "paper",
          "y": 1,
          "yanchor": "bottom",
          "yref": "paper"
         },
         {
          "font": {
           "size": 16
          },
          "showarrow": false,
          "text": "Filtered",
          "x": 0.775,
          "xanchor": "center",
          "xref": "paper",
          "y": 1,
          "yanchor": "bottom",
          "yref": "paper"
         }
        ],
        "legend": {
         "orientation": "h",
         "x": 0,
         "xanchor": "left",
         "y": -0.5,
         "yanchor": "bottom"
        },
        "polar": {
         "angularaxis": {
          "categoryarray": [
           "Contigs",
           "Basepairs",
           "Largest contig",
           "N50",
           "% Mapped reads",
           "Uncalled bases"
          ],
          "linecolor": "black"
         },
         "bgcolor": "rgb(255,255,255)",
         "domain": {
          "x": [
           0,
           0.45
          ],
          "y": [
           0,
           1
          ]
         },
         "hole": 0.08333333333333333,
         "radialaxis": {
          "angle": -22.5,
          "gridcolor": "#DCDCDC",
          "linecolor": "black",
          "linewidth": 2,
          "range": [
           0,
           1
          ],
          "visible": true
         }
        },
        "polar2": {
         "angularaxis": {
          "categoryarray": [
           "Contigs",
           "Basepairs",
           "N50",
           "% Mapped reads",
           "Uncalled bases",
           "Misassembled contigs",
           "Misassembly events"
          ],
          "linecolor": "black"
         },
         "bgcolor": "rgb(255,255,255)",
         "domain": {
          "x": [
           0.55,
           1
          ],
          "y": [
           0,
           1
          ]
         },
         "hole": 0.08333333333333333,
         "radialaxis": {
          "angle": -22.5,
          "gridcolor": "#DCDCDC",
          "linecolor": "black",
          "linewidth": 2,
          "range": [
           0,
           1
          ],
          "visible": true
         }
        },
        "template": {
         "data": {
          "bar": [
           {
            "error_x": {
             "color": "#2a3f5f"
            },
            "error_y": {
             "color": "#2a3f5f"
            },
            "marker": {
             "line": {
              "color": "#E5ECF6",
              "width": 0.5
             },
             "pattern": {
              "fillmode": "overlay",
              "size": 10,
              "solidity": 0.2
             }
            },
            "type": "bar"
           }
          ],
          "barpolar": [
           {
            "marker": {
             "line": {
              "color": "#E5ECF6",
              "width": 0.5
             },
             "pattern": {
              "fillmode": "overlay",
              "size": 10,
              "solidity": 0.2
             }
            },
            "type": "barpolar"
           }
          ],
          "carpet": [
           {
            "aaxis": {
             "endlinecolor": "#2a3f5f",
             "gridcolor": "white",
             "linecolor": "white",
             "minorgridcolor": "white",
             "startlinecolor": "#2a3f5f"
            },
            "baxis": {
             "endlinecolor": "#2a3f5f",
             "gridcolor": "white",
             "linecolor": "white",
             "minorgridcolor": "white",
             "startlinecolor": "#2a3f5f"
            },
            "type": "carpet"
           }
          ],
          "choropleth": [
           {
            "colorbar": {
             "outlinewidth": 0,
             "ticks": ""
            },
            "type": "choropleth"
           }
          ],
          "contour": [
           {
            "colorbar": {
             "outlinewidth": 0,
             "ticks": ""
            },
            "colorscale": [
             [
              0,
              "#0d0887"
             ],
             [
              0.1111111111111111,
              "#46039f"
             ],
             [
              0.2222222222222222,
              "#7201a8"
             ],
             [
              0.3333333333333333,
              "#9c179e"
             ],
             [
              0.4444444444444444,
              "#bd3786"
             ],
             [
              0.5555555555555556,
              "#d8576b"
             ],
             [
              0.6666666666666666,
              "#ed7953"
             ],
             [
              0.7777777777777778,
              "#fb9f3a"
             ],
             [
              0.8888888888888888,
              "#fdca26"
             ],
             [
              1,
              "#f0f921"
             ]
            ],
            "type": "contour"
           }
          ],
          "contourcarpet": [
           {
            "colorbar": {
             "outlinewidth": 0,
             "ticks": ""
            },
            "type": "contourcarpet"
           }
          ],
          "heatmap": [
           {
            "colorbar": {
             "outlinewidth": 0,
             "ticks": ""
            },
            "colorscale": [
             [
              0,
              "#0d0887"
             ],
             [
              0.1111111111111111,
              "#46039f"
             ],
             [
              0.2222222222222222,
              "#7201a8"
             ],
             [
              0.3333333333333333,
              "#9c179e"
             ],
             [
              0.4444444444444444,
              "#bd3786"
             ],
             [
              0.5555555555555556,
              "#d8576b"
             ],
             [
              0.6666666666666666,
              "#ed7953"
             ],
             [
              0.7777777777777778,
              "#fb9f3a"
             ],
             [
              0.8888888888888888,
              "#fdca26"
             ],
             [
              1,
              "#f0f921"
             ]
            ],
            "type": "heatmap"
           }
          ],
          "heatmapgl": [
           {
            "colorbar": {
             "outlinewidth": 0,
             "ticks": ""
            },
            "colorscale": [
             [
              0,
              "#0d0887"
             ],
             [
              0.1111111111111111,
              "#46039f"
             ],
             [
              0.2222222222222222,
              "#7201a8"
             ],
             [
              0.3333333333333333,
              "#9c179e"
             ],
             [
              0.4444444444444444,
              "#bd3786"
             ],
             [
              0.5555555555555556,
              "#d8576b"
             ],
             [
              0.6666666666666666,
              "#ed7953"
             ],
             [
              0.7777777777777778,
              "#fb9f3a"
             ],
             [
              0.8888888888888888,
              "#fdca26"
             ],
             [
              1,
              "#f0f921"
             ]
            ],
            "type": "heatmapgl"
           }
          ],
          "histogram": [
           {
            "marker": {
             "pattern": {
              "fillmode": "overlay",
              "size": 10,
              "solidity": 0.2
             }
            },
            "type": "histogram"
           }
          ],
          "histogram2d": [
           {
            "colorbar": {
             "outlinewidth": 0,
             "ticks": ""
            },
            "colorscale": [
             [
              0,
              "#0d0887"
             ],
             [
              0.1111111111111111,
              "#46039f"
             ],
             [
              0.2222222222222222,
              "#7201a8"
             ],
             [
              0.3333333333333333,
              "#9c179e"
             ],
             [
              0.4444444444444444,
              "#bd3786"
             ],
             [
              0.5555555555555556,
              "#d8576b"
             ],
             [
              0.6666666666666666,
              "#ed7953"
             ],
             [
              0.7777777777777778,
              "#fb9f3a"
             ],
             [
              0.8888888888888888,
              "#fdca26"
             ],
             [
              1,
              "#f0f921"
             ]
            ],
            "type": "histogram2d"
           }
          ],
          "histogram2dcontour": [
           {
            "colorbar": {
             "outlinewidth": 0,
             "ticks": ""
            },
            "colorscale": [
             [
              0,
              "#0d0887"
             ],
             [
              0.1111111111111111,
              "#46039f"
             ],
             [
              0.2222222222222222,
              "#7201a8"
             ],
             [
              0.3333333333333333,
              "#9c179e"
             ],
             [
              0.4444444444444444,
              "#bd3786"
             ],
             [
              0.5555555555555556,
              "#d8576b"
             ],
             [
              0.6666666666666666,
              "#ed7953"
             ],
             [
              0.7777777777777778,
              "#fb9f3a"
             ],
             [
              0.8888888888888888,
              "#fdca26"
             ],
             [
              1,
              "#f0f921"
             ]
            ],
            "type": "histogram2dcontour"
           }
          ],
          "mesh3d": [
           {
            "colorbar": {
             "outlinewidth": 0,
             "ticks": ""
            },
            "type": "mesh3d"
           }
          ],
          "parcoords": [
           {
            "line": {
             "colorbar": {
              "outlinewidth": 0,
              "ticks": ""
             }
            },
            "type": "parcoords"
           }
          ],
          "pie": [
           {
            "automargin": true,
            "type": "pie"
           }
          ],
          "scatter": [
           {
            "marker": {
             "colorbar": {
              "outlinewidth": 0,
              "ticks": ""
             }
            },
            "type": "scatter"
           }
          ],
          "scatter3d": [
           {
            "line": {
             "colorbar": {
              "outlinewidth": 0,
              "ticks": ""
             }
            },
            "marker": {
             "colorbar": {
              "outlinewidth": 0,
              "ticks": ""
             }
            },
            "type": "scatter3d"
           }
          ],
          "scattercarpet": [
           {
            "marker": {
             "colorbar": {
              "outlinewidth": 0,
              "ticks": ""
             }
            },
            "type": "scattercarpet"
           }
          ],
          "scattergeo": [
           {
            "marker": {
             "colorbar": {
              "outlinewidth": 0,
              "ticks": ""
             }
            },
            "type": "scattergeo"
           }
          ],
          "scattergl": [
           {
            "marker": {
             "colorbar": {
              "outlinewidth": 0,
              "ticks": ""
             }
            },
            "type": "scattergl"
           }
          ],
          "scattermapbox": [
           {
            "marker": {
             "colorbar": {
              "outlinewidth": 0,
              "ticks": ""
             }
            },
            "type": "scattermapbox"
           }
          ],
          "scatterpolar": [
           {
            "marker": {
             "colorbar": {
              "outlinewidth": 0,
              "ticks": ""
             }
            },
            "type": "scatterpolar"
           }
          ],
          "scatterpolargl": [
           {
            "marker": {
             "colorbar": {
              "outlinewidth": 0,
              "ticks": ""
             }
            },
            "type": "scatterpolargl"
           }
          ],
          "scatterternary": [
           {
            "marker": {
             "colorbar": {
              "outlinewidth": 0,
              "ticks": ""
             }
            },
            "type": "scatterternary"
           }
          ],
          "surface": [
           {
            "colorbar": {
             "outlinewidth": 0,
             "ticks": ""
            },
            "colorscale": [
             [
              0,
              "#0d0887"
             ],
             [
              0.1111111111111111,
              "#46039f"
             ],
             [
              0.2222222222222222,
              "#7201a8"
             ],
             [
              0.3333333333333333,
              "#9c179e"
             ],
             [
              0.4444444444444444,
              "#bd3786"
             ],
             [
              0.5555555555555556,
              "#d8576b"
             ],
             [
              0.6666666666666666,
              "#ed7953"
             ],
             [
              0.7777777777777778,
              "#fb9f3a"
             ],
             [
              0.8888888888888888,
              "#fdca26"
             ],
             [
              1,
              "#f0f921"
             ]
            ],
            "type": "surface"
           }
          ],
          "table": [
           {
            "cells": {
             "fill": {
              "color": "#EBF0F8"
             },
             "line": {
              "color": "white"
             }
            },
            "header": {
             "fill": {
              "color": "#C8D4E3"
             },
             "line": {
              "color": "white"
             }
            },
            "type": "table"
           }
          ]
         },
         "layout": {
          "annotationdefaults": {
           "arrowcolor": "#2a3f5f",
           "arrowhead": 0,
           "arrowwidth": 1
          },
          "autotypenumbers": "strict",
          "coloraxis": {
           "colorbar": {
            "outlinewidth": 0,
            "ticks": ""
           }
          },
          "colorscale": {
           "diverging": [
            [
             0,
             "#8e0152"
            ],
            [
             0.1,
             "#c51b7d"
            ],
            [
             0.2,
             "#de77ae"
            ],
            [
             0.3,
             "#f1b6da"
            ],
            [
             0.4,
             "#fde0ef"
            ],
            [
             0.5,
             "#f7f7f7"
            ],
            [
             0.6,
             "#e6f5d0"
            ],
            [
             0.7,
             "#b8e186"
            ],
            [
             0.8,
             "#7fbc41"
            ],
            [
             0.9,
             "#4d9221"
            ],
            [
             1,
             "#276419"
            ]
           ],
           "sequential": [
            [
             0,
             "#0d0887"
            ],
            [
             0.1111111111111111,
             "#46039f"
            ],
            [
             0.2222222222222222,
             "#7201a8"
            ],
            [
             0.3333333333333333,
             "#9c179e"
            ],
            [
             0.4444444444444444,
             "#bd3786"
            ],
            [
             0.5555555555555556,
             "#d8576b"
            ],
            [
             0.6666666666666666,
             "#ed7953"
            ],
            [
             0.7777777777777778,
             "#fb9f3a"
            ],
            [
             0.8888888888888888,
             "#fdca26"
            ],
            [
             1,
             "#f0f921"
            ]
           ],
           "sequentialminus": [
            [
             0,
             "#0d0887"
            ],
            [
             0.1111111111111111,
             "#46039f"
            ],
            [
             0.2222222222222222,
             "#7201a8"
            ],
            [
             0.3333333333333333,
             "#9c179e"
            ],
            [
             0.4444444444444444,
             "#bd3786"
            ],
            [
             0.5555555555555556,
             "#d8576b"
            ],
            [
             0.6666666666666666,
             "#ed7953"
            ],
            [
             0.7777777777777778,
             "#fb9f3a"
            ],
            [
             0.8888888888888888,
             "#fdca26"
            ],
            [
             1,
             "#f0f921"
            ]
           ]
          },
          "colorway": [
           "#636efa",
           "#EF553B",
           "#00cc96",
           "#ab63fa",
           "#FFA15A",
           "#19d3f3",
           "#FF6692",
           "#B6E880",
           "#FF97FF",
           "#FECB52"
          ],
          "font": {
           "color": "#2a3f5f"
          },
          "geo": {
           "bgcolor": "white",
           "lakecolor": "white",
           "landcolor": "#E5ECF6",
           "showlakes": true,
           "showland": true,
           "subunitcolor": "white"
          },
          "hoverlabel": {
           "align": "left"
          },
          "hovermode": "closest",
          "mapbox": {
           "style": "light"
          },
          "paper_bgcolor": "white",
          "plot_bgcolor": "#E5ECF6",
          "polar": {
           "angularaxis": {
            "gridcolor": "white",
            "linecolor": "white",
            "ticks": ""
           },
           "bgcolor": "#E5ECF6",
           "radialaxis": {
            "gridcolor": "white",
            "linecolor": "white",
            "ticks": ""
           }
          },
          "scene": {
           "xaxis": {
            "backgroundcolor": "#E5ECF6",
            "gridcolor": "white",
            "gridwidth": 2,
            "linecolor": "white",
            "showbackground": true,
            "ticks": "",
            "zerolinecolor": "white"
           },
           "yaxis": {
            "backgroundcolor": "#E5ECF6",
            "gridcolor": "white",
            "gridwidth": 2,
            "linecolor": "white",
            "showbackground": true,
            "ticks": "",
            "zerolinecolor": "white"
           },
           "zaxis": {
            "backgroundcolor": "#E5ECF6",
            "gridcolor": "white",
            "gridwidth": 2,
            "linecolor": "white",
            "showbackground": true,
            "ticks": "",
            "zerolinecolor": "white"
           }
          },
          "shapedefaults": {
           "line": {
            "color": "#2a3f5f"
           }
          },
          "ternary": {
           "aaxis": {
            "gridcolor": "white",
            "linecolor": "white",
            "ticks": ""
           },
           "baxis": {
            "gridcolor": "white",
            "linecolor": "white",
            "ticks": ""
           },
           "bgcolor": "#E5ECF6",
           "caxis": {
            "gridcolor": "white",
            "linecolor": "white",
            "ticks": ""
           }
          },
          "title": {
           "x": 0.05
          },
          "xaxis": {
           "automargin": true,
           "gridcolor": "white",
           "linecolor": "white",
           "ticks": "",
           "title": {
            "standoff": 15
           },
           "zerolinecolor": "white",
           "zerolinewidth": 2
          },
          "yaxis": {
           "automargin": true,
           "gridcolor": "white",
           "linecolor": "white",
           "ticks": "",
           "title": {
            "standoff": 15
           },
           "zerolinecolor": "white",
           "zerolinewidth": 2
          }
         }
        },
        "title": {
         "text": "ERR2984773"
        }
       }
      },
      "text/html": [
       "<div>                            <div id=\"e68ad74b-1427-411c-a228-de729b3ee387\" class=\"plotly-graph-div\" style=\"height:525px; width:100%;\"></div>            <script type=\"text/javascript\">                require([\"plotly\"], function(Plotly) {                    window.PLOTLYENV=window.PLOTLYENV || {};                                    if (document.getElementById(\"e68ad74b-1427-411c-a228-de729b3ee387\")) {                    Plotly.newPlot(                        \"e68ad74b-1427-411c-a228-de729b3ee387\",                        [{\"line\":{\"color\":\"#930001\"},\"marker\":{\"color\":\"#930001\",\"line\":{\"color\":\"black\",\"width\":2},\"size\":12},\"mode\":\"lines+markers\",\"name\":\"Metagenomic - Best\",\"opacity\":0.6,\"r\":[0.9124489001362663,0.9398148493725658,1.0,0.5334493062520896,1.0,1.0],\"showlegend\":true,\"subplot\":\"polar\",\"theta\":[\"Contigs\",\"Basepairs\",\"Largest contig\",\"N50\",\"% Mapped reads\",\"Uncalled bases\"],\"type\":\"scatterpolar\"},{\"line\":{\"color\":\"#930001\"},\"marker\":{\"color\":\"#930001\",\"line\":{\"color\":\"black\",\"width\":2},\"size\":12},\"mode\":\"lines+markers\",\"name\":\"Metagenomic - Best\",\"opacity\":0.6,\"r\":[0.7132629992464206,0.9876499789782958,0.78277018555667,1.0,1.0,0.9333333333333333,0.9375],\"showlegend\":false,\"subplot\":\"polar2\",\"theta\":[\"Contigs\",\"Basepairs\",\"N50\",\"% Mapped reads\",\"Uncalled bases\",\"Misassembled contigs\",\"Misassembly events\"],\"type\":\"scatterpolar\"},{\"line\":{\"color\":\"#C97F80\"},\"marker\":{\"color\":\"#C97F80\",\"line\":{\"color\":\"black\",\"width\":2},\"size\":12},\"mode\":\"lines+markers\",\"name\":\"Metagenomic - Worst\",\"opacity\":0.6,\"r\":[0.0,0.4177699466503366,0.25155016548643727,0.10966754429956536,0.9859858017605061,1.0],\"showlegend\":true,\"subplot\":\"polar\",\"theta\":[\"Contigs\",\"Basepairs\",\"Largest contig\",\"N50\",\"% Mapped reads\",\"Uncalled bases\"],\"type\":\"scatterpolar\"},{\"line\":{\"color\":\"#C97F80\"},\"marker\":{\"color\":\"#C97F80\",\"line\":{\"color\":\"black\",\"width\":2},\"size\":12},\"mode\":\"lines+markers\",\"name\":\"Metagenomic - Worst\",\"opacity\":0.6,\"r\":[0.0,0.9652569441664116,0.15219617184887999,0.981580946277468,1.0,0.0,0.0],\"showlegend\":false,\"subplot\":\"polar2\",\"theta\":[\"Contigs\",\"Basepairs\",\"N50\",\"% Mapped reads\",\"Uncalled bases\",\"Misassembled contigs\",\"Misassembly events\"],\"type\":\"scatterpolar\"},{\"line\":{\"color\":\"#009392\"},\"marker\":{\"color\":\"#009392\",\"line\":{\"color\":\"black\",\"width\":2},\"size\":12},\"mode\":\"lines+markers\",\"name\":\"Genomic - Best\",\"opacity\":0.6,\"r\":[0.9854811498280449,0.9885729886788485,0.7315918625952552,1.0,0.9985570949692015,1.0],\"showlegend\":true,\"subplot\":\"polar\",\"theta\":[\"Contigs\",\"Basepairs\",\"Largest contig\",\"N50\",\"% Mapped reads\",\"Uncalled bases\"],\"type\":\"scatterpolar\"},{\"line\":{\"color\":\"#009392\"},\"marker\":{\"color\":\"#009392\",\"line\":{\"color\":\"black\",\"width\":2},\"size\":12},\"mode\":\"lines+markers\",\"name\":\"Genomic - Best\",\"opacity\":0.6,\"r\":[0.8398643556895252,0.9833754526791597,1.0,0.9850686773512454,1.0,1.0,1.0],\"showlegend\":false,\"subplot\":\"polar2\",\"theta\":[\"Contigs\",\"Basepairs\",\"N50\",\"% Mapped reads\",\"Uncalled bases\",\"Misassembled contigs\",\"Misassembly events\"],\"type\":\"scatterpolar\"},{\"line\":{\"color\":\"#7FC9C8\"},\"marker\":{\"color\":\"#7FC9C8\",\"line\":{\"color\":\"black\",\"width\":2},\"size\":12},\"mode\":\"lines+markers\",\"name\":\"Genomic - Worst\",\"opacity\":0.6,\"r\":[0.35404905586918434,0.4962496833657295,0.3700021312961349,0.27839769307923773,0.9635706972848685,1.0],\"showlegend\":true,\"subplot\":\"polar\",\"theta\":[\"Contigs\",\"Basepairs\",\"Largest contig\",\"N50\",\"% Mapped reads\",\"Uncalled bases\"],\"type\":\"scatterpolar\"},{\"line\":{\"color\":\"#7FC9C8\"},\"marker\":{\"color\":\"#7FC9C8\",\"line\":{\"color\":\"black\",\"width\":2},\"size\":12},\"mode\":\"lines+markers\",\"name\":\"Genomic - Worst\",\"opacity\":0.6,\"r\":[0.22795779954785234,0.9497767233588634,0.40679329655633567,0.9719155376169296,1.0,0.4,0.4375],\"showlegend\":false,\"subplot\":\"polar2\",\"theta\":[\"Contigs\",\"Basepairs\",\"N50\",\"% Mapped reads\",\"Uncalled bases\",\"Misassembled contigs\",\"Misassembly events\"],\"type\":\"scatterpolar\"}],                        {\"annotations\":[{\"font\":{\"size\":16},\"showarrow\":false,\"text\":\"Original\",\"x\":0.225,\"xanchor\":\"center\",\"xref\":\"paper\",\"y\":1.0,\"yanchor\":\"bottom\",\"yref\":\"paper\"},{\"font\":{\"size\":16},\"showarrow\":false,\"text\":\"Filtered\",\"x\":0.775,\"xanchor\":\"center\",\"xref\":\"paper\",\"y\":1.0,\"yanchor\":\"bottom\",\"yref\":\"paper\"}],\"legend\":{\"orientation\":\"h\",\"x\":0,\"xanchor\":\"left\",\"y\":-0.5,\"yanchor\":\"bottom\"},\"polar\":{\"angularaxis\":{\"categoryarray\":[\"Contigs\",\"Basepairs\",\"Largest contig\",\"N50\",\"% Mapped reads\",\"Uncalled bases\"],\"linecolor\":\"black\"},\"bgcolor\":\"rgb(255,255,255)\",\"domain\":{\"x\":[0.0,0.45],\"y\":[0.0,1.0]},\"hole\":0.08333333333333333,\"radialaxis\":{\"angle\":-22.5,\"gridcolor\":\"#DCDCDC\",\"linecolor\":\"black\",\"linewidth\":2,\"range\":[0,1],\"visible\":true}},\"polar2\":{\"angularaxis\":{\"categoryarray\":[\"Contigs\",\"Basepairs\",\"N50\",\"% Mapped reads\",\"Uncalled bases\",\"Misassembled contigs\",\"Misassembly events\"],\"linecolor\":\"black\"},\"bgcolor\":\"rgb(255,255,255)\",\"domain\":{\"x\":[0.55,1.0],\"y\":[0.0,1.0]},\"hole\":0.08333333333333333,\"radialaxis\":{\"angle\":-22.5,\"gridcolor\":\"#DCDCDC\",\"linecolor\":\"black\",\"linewidth\":2,\"range\":[0,1],\"visible\":true}},\"template\":{\"data\":{\"bar\":[{\"error_x\":{\"color\":\"#2a3f5f\"},\"error_y\":{\"color\":\"#2a3f5f\"},\"marker\":{\"line\":{\"color\":\"#E5ECF6\",\"width\":0.5},\"pattern\":{\"fillmode\":\"overlay\",\"size\":10,\"solidity\":0.2}},\"type\":\"bar\"}],\"barpolar\":[{\"marker\":{\"line\":{\"color\":\"#E5ECF6\",\"width\":0.5},\"pattern\":{\"fillmode\":\"overlay\",\"size\":10,\"solidity\":0.2}},\"type\":\"barpolar\"}],\"carpet\":[{\"aaxis\":{\"endlinecolor\":\"#2a3f5f\",\"gridcolor\":\"white\",\"linecolor\":\"white\",\"minorgridcolor\":\"white\",\"startlinecolor\":\"#2a3f5f\"},\"baxis\":{\"endlinecolor\":\"#2a3f5f\",\"gridcolor\":\"white\",\"linecolor\":\"white\",\"minorgridcolor\":\"white\",\"startlinecolor\":\"#2a3f5f\"},\"type\":\"carpet\"}],\"choropleth\":[{\"colorbar\":{\"outlinewidth\":0,\"ticks\":\"\"},\"type\":\"choropleth\"}],\"contour\":[{\"colorbar\":{\"outlinewidth\":0,\"ticks\":\"\"},\"colorscale\":[[0.0,\"#0d0887\"],[0.1111111111111111,\"#46039f\"],[0.2222222222222222,\"#7201a8\"],[0.3333333333333333,\"#9c179e\"],[0.4444444444444444,\"#bd3786\"],[0.5555555555555556,\"#d8576b\"],[0.6666666666666666,\"#ed7953\"],[0.7777777777777778,\"#fb9f3a\"],[0.8888888888888888,\"#fdca26\"],[1.0,\"#f0f921\"]],\"type\":\"contour\"}],\"contourcarpet\":[{\"colorbar\":{\"outlinewidth\":0,\"ticks\":\"\"},\"type\":\"contourcarpet\"}],\"heatmap\":[{\"colorbar\":{\"outlinewidth\":0,\"ticks\":\"\"},\"colorscale\":[[0.0,\"#0d0887\"],[0.1111111111111111,\"#46039f\"],[0.2222222222222222,\"#7201a8\"],[0.3333333333333333,\"#9c179e\"],[0.4444444444444444,\"#bd3786\"],[0.5555555555555556,\"#d8576b\"],[0.6666666666666666,\"#ed7953\"],[0.7777777777777778,\"#fb9f3a\"],[0.8888888888888888,\"#fdca26\"],[1.0,\"#f0f921\"]],\"type\":\"heatmap\"}],\"heatmapgl\":[{\"colorbar\":{\"outlinewidth\":0,\"ticks\":\"\"},\"colorscale\":[[0.0,\"#0d0887\"],[0.1111111111111111,\"#46039f\"],[0.2222222222222222,\"#7201a8\"],[0.3333333333333333,\"#9c179e\"],[0.4444444444444444,\"#bd3786\"],[0.5555555555555556,\"#d8576b\"],[0.6666666666666666,\"#ed7953\"],[0.7777777777777778,\"#fb9f3a\"],[0.8888888888888888,\"#fdca26\"],[1.0,\"#f0f921\"]],\"type\":\"heatmapgl\"}],\"histogram\":[{\"marker\":{\"pattern\":{\"fillmode\":\"overlay\",\"size\":10,\"solidity\":0.2}},\"type\":\"histogram\"}],\"histogram2d\":[{\"colorbar\":{\"outlinewidth\":0,\"ticks\":\"\"},\"colorscale\":[[0.0,\"#0d0887\"],[0.1111111111111111,\"#46039f\"],[0.2222222222222222,\"#7201a8\"],[0.3333333333333333,\"#9c179e\"],[0.4444444444444444,\"#bd3786\"],[0.5555555555555556,\"#d8576b\"],[0.6666666666666666,\"#ed7953\"],[0.7777777777777778,\"#fb9f3a\"],[0.8888888888888888,\"#fdca26\"],[1.0,\"#f0f921\"]],\"type\":\"histogram2d\"}],\"histogram2dcontour\":[{\"colorbar\":{\"outlinewidth\":0,\"ticks\":\"\"},\"colorscale\":[[0.0,\"#0d0887\"],[0.1111111111111111,\"#46039f\"],[0.2222222222222222,\"#7201a8\"],[0.3333333333333333,\"#9c179e\"],[0.4444444444444444,\"#bd3786\"],[0.5555555555555556,\"#d8576b\"],[0.6666666666666666,\"#ed7953\"],[0.7777777777777778,\"#fb9f3a\"],[0.8888888888888888,\"#fdca26\"],[1.0,\"#f0f921\"]],\"type\":\"histogram2dcontour\"}],\"mesh3d\":[{\"colorbar\":{\"outlinewidth\":0,\"ticks\":\"\"},\"type\":\"mesh3d\"}],\"parcoords\":[{\"line\":{\"colorbar\":{\"outlinewidth\":0,\"ticks\":\"\"}},\"type\":\"parcoords\"}],\"pie\":[{\"automargin\":true,\"type\":\"pie\"}],\"scatter\":[{\"marker\":{\"colorbar\":{\"outlinewidth\":0,\"ticks\":\"\"}},\"type\":\"scatter\"}],\"scatter3d\":[{\"line\":{\"colorbar\":{\"outlinewidth\":0,\"ticks\":\"\"}},\"marker\":{\"colorbar\":{\"outlinewidth\":0,\"ticks\":\"\"}},\"type\":\"scatter3d\"}],\"scattercarpet\":[{\"marker\":{\"colorbar\":{\"outlinewidth\":0,\"ticks\":\"\"}},\"type\":\"scattercarpet\"}],\"scattergeo\":[{\"marker\":{\"colorbar\":{\"outlinewidth\":0,\"ticks\":\"\"}},\"type\":\"scattergeo\"}],\"scattergl\":[{\"marker\":{\"colorbar\":{\"outlinewidth\":0,\"ticks\":\"\"}},\"type\":\"scattergl\"}],\"scattermapbox\":[{\"marker\":{\"colorbar\":{\"outlinewidth\":0,\"ticks\":\"\"}},\"type\":\"scattermapbox\"}],\"scatterpolar\":[{\"marker\":{\"colorbar\":{\"outlinewidth\":0,\"ticks\":\"\"}},\"type\":\"scatterpolar\"}],\"scatterpolargl\":[{\"marker\":{\"colorbar\":{\"outlinewidth\":0,\"ticks\":\"\"}},\"type\":\"scatterpolargl\"}],\"scatterternary\":[{\"marker\":{\"colorbar\":{\"outlinewidth\":0,\"ticks\":\"\"}},\"type\":\"scatterternary\"}],\"surface\":[{\"colorbar\":{\"outlinewidth\":0,\"ticks\":\"\"},\"colorscale\":[[0.0,\"#0d0887\"],[0.1111111111111111,\"#46039f\"],[0.2222222222222222,\"#7201a8\"],[0.3333333333333333,\"#9c179e\"],[0.4444444444444444,\"#bd3786\"],[0.5555555555555556,\"#d8576b\"],[0.6666666666666666,\"#ed7953\"],[0.7777777777777778,\"#fb9f3a\"],[0.8888888888888888,\"#fdca26\"],[1.0,\"#f0f921\"]],\"type\":\"surface\"}],\"table\":[{\"cells\":{\"fill\":{\"color\":\"#EBF0F8\"},\"line\":{\"color\":\"white\"}},\"header\":{\"fill\":{\"color\":\"#C8D4E3\"},\"line\":{\"color\":\"white\"}},\"type\":\"table\"}]},\"layout\":{\"annotationdefaults\":{\"arrowcolor\":\"#2a3f5f\",\"arrowhead\":0,\"arrowwidth\":1},\"autotypenumbers\":\"strict\",\"coloraxis\":{\"colorbar\":{\"outlinewidth\":0,\"ticks\":\"\"}},\"colorscale\":{\"diverging\":[[0,\"#8e0152\"],[0.1,\"#c51b7d\"],[0.2,\"#de77ae\"],[0.3,\"#f1b6da\"],[0.4,\"#fde0ef\"],[0.5,\"#f7f7f7\"],[0.6,\"#e6f5d0\"],[0.7,\"#b8e186\"],[0.8,\"#7fbc41\"],[0.9,\"#4d9221\"],[1,\"#276419\"]],\"sequential\":[[0.0,\"#0d0887\"],[0.1111111111111111,\"#46039f\"],[0.2222222222222222,\"#7201a8\"],[0.3333333333333333,\"#9c179e\"],[0.4444444444444444,\"#bd3786\"],[0.5555555555555556,\"#d8576b\"],[0.6666666666666666,\"#ed7953\"],[0.7777777777777778,\"#fb9f3a\"],[0.8888888888888888,\"#fdca26\"],[1.0,\"#f0f921\"]],\"sequentialminus\":[[0.0,\"#0d0887\"],[0.1111111111111111,\"#46039f\"],[0.2222222222222222,\"#7201a8\"],[0.3333333333333333,\"#9c179e\"],[0.4444444444444444,\"#bd3786\"],[0.5555555555555556,\"#d8576b\"],[0.6666666666666666,\"#ed7953\"],[0.7777777777777778,\"#fb9f3a\"],[0.8888888888888888,\"#fdca26\"],[1.0,\"#f0f921\"]]},\"colorway\":[\"#636efa\",\"#EF553B\",\"#00cc96\",\"#ab63fa\",\"#FFA15A\",\"#19d3f3\",\"#FF6692\",\"#B6E880\",\"#FF97FF\",\"#FECB52\"],\"font\":{\"color\":\"#2a3f5f\"},\"geo\":{\"bgcolor\":\"white\",\"lakecolor\":\"white\",\"landcolor\":\"#E5ECF6\",\"showlakes\":true,\"showland\":true,\"subunitcolor\":\"white\"},\"hoverlabel\":{\"align\":\"left\"},\"hovermode\":\"closest\",\"mapbox\":{\"style\":\"light\"},\"paper_bgcolor\":\"white\",\"plot_bgcolor\":\"#E5ECF6\",\"polar\":{\"angularaxis\":{\"gridcolor\":\"white\",\"linecolor\":\"white\",\"ticks\":\"\"},\"bgcolor\":\"#E5ECF6\",\"radialaxis\":{\"gridcolor\":\"white\",\"linecolor\":\"white\",\"ticks\":\"\"}},\"scene\":{\"xaxis\":{\"backgroundcolor\":\"#E5ECF6\",\"gridcolor\":\"white\",\"gridwidth\":2,\"linecolor\":\"white\",\"showbackground\":true,\"ticks\":\"\",\"zerolinecolor\":\"white\"},\"yaxis\":{\"backgroundcolor\":\"#E5ECF6\",\"gridcolor\":\"white\",\"gridwidth\":2,\"linecolor\":\"white\",\"showbackground\":true,\"ticks\":\"\",\"zerolinecolor\":\"white\"},\"zaxis\":{\"backgroundcolor\":\"#E5ECF6\",\"gridcolor\":\"white\",\"gridwidth\":2,\"linecolor\":\"white\",\"showbackground\":true,\"ticks\":\"\",\"zerolinecolor\":\"white\"}},\"shapedefaults\":{\"line\":{\"color\":\"#2a3f5f\"}},\"ternary\":{\"aaxis\":{\"gridcolor\":\"white\",\"linecolor\":\"white\",\"ticks\":\"\"},\"baxis\":{\"gridcolor\":\"white\",\"linecolor\":\"white\",\"ticks\":\"\"},\"bgcolor\":\"#E5ECF6\",\"caxis\":{\"gridcolor\":\"white\",\"linecolor\":\"white\",\"ticks\":\"\"}},\"title\":{\"x\":0.05},\"xaxis\":{\"automargin\":true,\"gridcolor\":\"white\",\"linecolor\":\"white\",\"ticks\":\"\",\"title\":{\"standoff\":15},\"zerolinecolor\":\"white\",\"zerolinewidth\":2},\"yaxis\":{\"automargin\":true,\"gridcolor\":\"white\",\"linecolor\":\"white\",\"ticks\":\"\",\"title\":{\"standoff\":15},\"zerolinecolor\":\"white\",\"zerolinewidth\":2}}},\"title\":{\"text\":\"ERR2984773\"}},                        {\"responsive\": true}                    ).then(function(){\n",
       "                            \n",
       "var gd = document.getElementById('e68ad74b-1427-411c-a228-de729b3ee387');\n",
       "var x = new MutationObserver(function (mutations, observer) {{\n",
       "        var display = window.getComputedStyle(gd).display;\n",
       "        if (!display || display === 'none') {{\n",
       "            console.log([gd, 'removed!']);\n",
       "            Plotly.purge(gd);\n",
       "            observer.disconnect();\n",
       "        }}\n",
       "}});\n",
       "\n",
       "// Listen for the removal of the full notebook cells\n",
       "var notebookContainer = gd.closest('#notebook-container');\n",
       "if (notebookContainer) {{\n",
       "    x.observe(notebookContainer, {childList: true});\n",
       "}}\n",
       "\n",
       "// Listen for the clearing of the current output cell\n",
       "var outputEl = gd.closest('.output');\n",
       "if (outputEl) {{\n",
       "    x.observe(outputEl, {childList: true});\n",
       "}}\n",
       "\n",
       "                        })                };                });            </script>        </div>"
      ]
     },
     "metadata": {},
     "output_type": "display_data"
    },
    {
     "data": {
      "application/vnd.plotly.v1+json": {
       "config": {
        "plotlyServerURL": "https://plot.ly"
       },
       "data": [
        {
         "line": {
          "color": "#930001"
         },
         "marker": {
          "color": "#930001",
          "line": {
           "color": "black",
           "width": 2
          },
          "size": 12
         },
         "mode": "lines+markers",
         "name": "Metagenomic - Best",
         "opacity": 0.6,
         "r": [
          0.7243755383290267,
          0.9870367611135923,
          1,
          1,
          1,
          1
         ],
         "showlegend": true,
         "subplot": "polar",
         "theta": [
          "Contigs",
          "Basepairs",
          "Largest contig",
          "N50",
          "% Mapped reads",
          "Uncalled bases"
         ],
         "type": "scatterpolar"
        },
        {
         "line": {
          "color": "#930001"
         },
         "marker": {
          "color": "#930001",
          "line": {
           "color": "black",
           "width": 2
          },
          "size": 12
         },
         "mode": "lines+markers",
         "name": "Metagenomic - Best",
         "opacity": 0.6,
         "r": [
          0.7920046349942063,
          0.9829925671609603,
          1,
          1,
          1,
          0.8888888888888888,
          0.8333333333333334
         ],
         "showlegend": false,
         "subplot": "polar2",
         "theta": [
          "Contigs",
          "Basepairs",
          "N50",
          "% Mapped reads",
          "Uncalled bases",
          "Misassembled contigs",
          "Misassembly events"
         ],
         "type": "scatterpolar"
        },
        {
         "line": {
          "color": "#C97F80"
         },
         "marker": {
          "color": "#C97F80",
          "line": {
           "color": "black",
           "width": 2
          },
          "size": 12
         },
         "mode": "lines+markers",
         "name": "Metagenomic - Worst",
         "opacity": 0.6,
         "r": [
          0.21533161068044793,
          0.982032881364268,
          0.5647471121817806,
          0.26706648058974647,
          0.996453467104533,
          1
         ],
         "showlegend": true,
         "subplot": "polar",
         "theta": [
          "Contigs",
          "Basepairs",
          "Largest contig",
          "N50",
          "% Mapped reads",
          "Uncalled bases"
         ],
         "type": "scatterpolar"
        },
        {
         "line": {
          "color": "#C97F80"
         },
         "marker": {
          "color": "#C97F80",
          "line": {
           "color": "black",
           "width": 2
          },
          "size": 12
         },
         "mode": "lines+markers",
         "name": "Metagenomic - Worst",
         "opacity": 0.6,
         "r": [
          0.25898030127462346,
          0.973626364677953,
          0.27286252519791626,
          0.9852573444152096,
          1,
          0,
          0
         ],
         "showlegend": false,
         "subplot": "polar2",
         "theta": [
          "Contigs",
          "Basepairs",
          "N50",
          "% Mapped reads",
          "Uncalled bases",
          "Misassembled contigs",
          "Misassembly events"
         ],
         "type": "scatterpolar"
        },
        {
         "line": {
          "color": "#009392"
         },
         "marker": {
          "color": "#009392",
          "line": {
           "color": "black",
           "width": 2
          },
          "size": 12
         },
         "mode": "lines+markers",
         "name": "Genomic - Best",
         "opacity": 0.6,
         "r": [
          0.5968992248062015,
          0.9837181075896997,
          0.8198510620651879,
          0.8569638449191361,
          0.997247522387678,
          1
         ],
         "showlegend": true,
         "subplot": "polar",
         "theta": [
          "Contigs",
          "Basepairs",
          "Largest contig",
          "N50",
          "% Mapped reads",
          "Uncalled bases"
         ],
         "type": "scatterpolar"
        },
        {
         "line": {
          "color": "#009392"
         },
         "marker": {
          "color": "#009392",
          "line": {
           "color": "black",
           "width": 2
          },
          "size": 12
         },
         "mode": "lines+markers",
         "name": "Genomic - Best",
         "opacity": 0.6,
         "r": [
          0.7433371958285052,
          0.9783381605215463,
          0.8757056464287062,
          0.9916805190120218,
          1,
          1,
          1
         ],
         "showlegend": false,
         "subplot": "polar2",
         "theta": [
          "Contigs",
          "Basepairs",
          "N50",
          "% Mapped reads",
          "Uncalled bases",
          "Misassembled contigs",
          "Misassembly events"
         ],
         "type": "scatterpolar"
        },
        {
         "line": {
          "color": "#7FC9C8"
         },
         "marker": {
          "color": "#7FC9C8",
          "line": {
           "color": "black",
           "width": 2
          },
          "size": 12
         },
         "mode": "lines+markers",
         "name": "Genomic - Worst",
         "opacity": 0.6,
         "r": [
          0,
          0.9729912380967891,
          0.6079259977896546,
          0.17650066426107766,
          0.9861530687410975,
          1
         ],
         "showlegend": true,
         "subplot": "polar",
         "theta": [
          "Contigs",
          "Basepairs",
          "Largest contig",
          "N50",
          "% Mapped reads",
          "Uncalled bases"
         ],
         "type": "scatterpolar"
        },
        {
         "line": {
          "color": "#7FC9C8"
         },
         "marker": {
          "color": "#7FC9C8",
          "line": {
           "color": "black",
           "width": 2
          },
          "size": 12
         },
         "mode": "lines+markers",
         "name": "Genomic - Worst",
         "opacity": 0.6,
         "r": [
          0,
          0.9640840846197353,
          0.1809137047328078,
          0.9802426713315143,
          1,
          0.4444444444444444,
          0.4722222222222222
         ],
         "showlegend": false,
         "subplot": "polar2",
         "theta": [
          "Contigs",
          "Basepairs",
          "N50",
          "% Mapped reads",
          "Uncalled bases",
          "Misassembled contigs",
          "Misassembly events"
         ],
         "type": "scatterpolar"
        }
       ],
       "layout": {
        "annotations": [
         {
          "font": {
           "size": 16
          },
          "showarrow": false,
          "text": "Original",
          "x": 0.225,
          "xanchor": "center",
          "xref": "paper",
          "y": 1,
          "yanchor": "bottom",
          "yref": "paper"
         },
         {
          "font": {
           "size": 16
          },
          "showarrow": false,
          "text": "Filtered",
          "x": 0.775,
          "xanchor": "center",
          "xref": "paper",
          "y": 1,
          "yanchor": "bottom",
          "yref": "paper"
         }
        ],
        "legend": {
         "orientation": "h",
         "x": 0,
         "xanchor": "left",
         "y": -0.5,
         "yanchor": "bottom"
        },
        "polar": {
         "angularaxis": {
          "categoryarray": [
           "Contigs",
           "Basepairs",
           "Largest contig",
           "N50",
           "% Mapped reads",
           "Uncalled bases"
          ],
          "linecolor": "black"
         },
         "bgcolor": "rgb(255,255,255)",
         "domain": {
          "x": [
           0,
           0.45
          ],
          "y": [
           0,
           1
          ]
         },
         "hole": 0.08333333333333333,
         "radialaxis": {
          "angle": -22.5,
          "gridcolor": "#DCDCDC",
          "linecolor": "black",
          "linewidth": 2,
          "range": [
           0,
           1
          ],
          "visible": true
         }
        },
        "polar2": {
         "angularaxis": {
          "categoryarray": [
           "Contigs",
           "Basepairs",
           "N50",
           "% Mapped reads",
           "Uncalled bases",
           "Misassembled contigs",
           "Misassembly events"
          ],
          "linecolor": "black"
         },
         "bgcolor": "rgb(255,255,255)",
         "domain": {
          "x": [
           0.55,
           1
          ],
          "y": [
           0,
           1
          ]
         },
         "hole": 0.08333333333333333,
         "radialaxis": {
          "angle": -22.5,
          "gridcolor": "#DCDCDC",
          "linecolor": "black",
          "linewidth": 2,
          "range": [
           0,
           1
          ],
          "visible": true
         }
        },
        "template": {
         "data": {
          "bar": [
           {
            "error_x": {
             "color": "#2a3f5f"
            },
            "error_y": {
             "color": "#2a3f5f"
            },
            "marker": {
             "line": {
              "color": "#E5ECF6",
              "width": 0.5
             },
             "pattern": {
              "fillmode": "overlay",
              "size": 10,
              "solidity": 0.2
             }
            },
            "type": "bar"
           }
          ],
          "barpolar": [
           {
            "marker": {
             "line": {
              "color": "#E5ECF6",
              "width": 0.5
             },
             "pattern": {
              "fillmode": "overlay",
              "size": 10,
              "solidity": 0.2
             }
            },
            "type": "barpolar"
           }
          ],
          "carpet": [
           {
            "aaxis": {
             "endlinecolor": "#2a3f5f",
             "gridcolor": "white",
             "linecolor": "white",
             "minorgridcolor": "white",
             "startlinecolor": "#2a3f5f"
            },
            "baxis": {
             "endlinecolor": "#2a3f5f",
             "gridcolor": "white",
             "linecolor": "white",
             "minorgridcolor": "white",
             "startlinecolor": "#2a3f5f"
            },
            "type": "carpet"
           }
          ],
          "choropleth": [
           {
            "colorbar": {
             "outlinewidth": 0,
             "ticks": ""
            },
            "type": "choropleth"
           }
          ],
          "contour": [
           {
            "colorbar": {
             "outlinewidth": 0,
             "ticks": ""
            },
            "colorscale": [
             [
              0,
              "#0d0887"
             ],
             [
              0.1111111111111111,
              "#46039f"
             ],
             [
              0.2222222222222222,
              "#7201a8"
             ],
             [
              0.3333333333333333,
              "#9c179e"
             ],
             [
              0.4444444444444444,
              "#bd3786"
             ],
             [
              0.5555555555555556,
              "#d8576b"
             ],
             [
              0.6666666666666666,
              "#ed7953"
             ],
             [
              0.7777777777777778,
              "#fb9f3a"
             ],
             [
              0.8888888888888888,
              "#fdca26"
             ],
             [
              1,
              "#f0f921"
             ]
            ],
            "type": "contour"
           }
          ],
          "contourcarpet": [
           {
            "colorbar": {
             "outlinewidth": 0,
             "ticks": ""
            },
            "type": "contourcarpet"
           }
          ],
          "heatmap": [
           {
            "colorbar": {
             "outlinewidth": 0,
             "ticks": ""
            },
            "colorscale": [
             [
              0,
              "#0d0887"
             ],
             [
              0.1111111111111111,
              "#46039f"
             ],
             [
              0.2222222222222222,
              "#7201a8"
             ],
             [
              0.3333333333333333,
              "#9c179e"
             ],
             [
              0.4444444444444444,
              "#bd3786"
             ],
             [
              0.5555555555555556,
              "#d8576b"
             ],
             [
              0.6666666666666666,
              "#ed7953"
             ],
             [
              0.7777777777777778,
              "#fb9f3a"
             ],
             [
              0.8888888888888888,
              "#fdca26"
             ],
             [
              1,
              "#f0f921"
             ]
            ],
            "type": "heatmap"
           }
          ],
          "heatmapgl": [
           {
            "colorbar": {
             "outlinewidth": 0,
             "ticks": ""
            },
            "colorscale": [
             [
              0,
              "#0d0887"
             ],
             [
              0.1111111111111111,
              "#46039f"
             ],
             [
              0.2222222222222222,
              "#7201a8"
             ],
             [
              0.3333333333333333,
              "#9c179e"
             ],
             [
              0.4444444444444444,
              "#bd3786"
             ],
             [
              0.5555555555555556,
              "#d8576b"
             ],
             [
              0.6666666666666666,
              "#ed7953"
             ],
             [
              0.7777777777777778,
              "#fb9f3a"
             ],
             [
              0.8888888888888888,
              "#fdca26"
             ],
             [
              1,
              "#f0f921"
             ]
            ],
            "type": "heatmapgl"
           }
          ],
          "histogram": [
           {
            "marker": {
             "pattern": {
              "fillmode": "overlay",
              "size": 10,
              "solidity": 0.2
             }
            },
            "type": "histogram"
           }
          ],
          "histogram2d": [
           {
            "colorbar": {
             "outlinewidth": 0,
             "ticks": ""
            },
            "colorscale": [
             [
              0,
              "#0d0887"
             ],
             [
              0.1111111111111111,
              "#46039f"
             ],
             [
              0.2222222222222222,
              "#7201a8"
             ],
             [
              0.3333333333333333,
              "#9c179e"
             ],
             [
              0.4444444444444444,
              "#bd3786"
             ],
             [
              0.5555555555555556,
              "#d8576b"
             ],
             [
              0.6666666666666666,
              "#ed7953"
             ],
             [
              0.7777777777777778,
              "#fb9f3a"
             ],
             [
              0.8888888888888888,
              "#fdca26"
             ],
             [
              1,
              "#f0f921"
             ]
            ],
            "type": "histogram2d"
           }
          ],
          "histogram2dcontour": [
           {
            "colorbar": {
             "outlinewidth": 0,
             "ticks": ""
            },
            "colorscale": [
             [
              0,
              "#0d0887"
             ],
             [
              0.1111111111111111,
              "#46039f"
             ],
             [
              0.2222222222222222,
              "#7201a8"
             ],
             [
              0.3333333333333333,
              "#9c179e"
             ],
             [
              0.4444444444444444,
              "#bd3786"
             ],
             [
              0.5555555555555556,
              "#d8576b"
             ],
             [
              0.6666666666666666,
              "#ed7953"
             ],
             [
              0.7777777777777778,
              "#fb9f3a"
             ],
             [
              0.8888888888888888,
              "#fdca26"
             ],
             [
              1,
              "#f0f921"
             ]
            ],
            "type": "histogram2dcontour"
           }
          ],
          "mesh3d": [
           {
            "colorbar": {
             "outlinewidth": 0,
             "ticks": ""
            },
            "type": "mesh3d"
           }
          ],
          "parcoords": [
           {
            "line": {
             "colorbar": {
              "outlinewidth": 0,
              "ticks": ""
             }
            },
            "type": "parcoords"
           }
          ],
          "pie": [
           {
            "automargin": true,
            "type": "pie"
           }
          ],
          "scatter": [
           {
            "marker": {
             "colorbar": {
              "outlinewidth": 0,
              "ticks": ""
             }
            },
            "type": "scatter"
           }
          ],
          "scatter3d": [
           {
            "line": {
             "colorbar": {
              "outlinewidth": 0,
              "ticks": ""
             }
            },
            "marker": {
             "colorbar": {
              "outlinewidth": 0,
              "ticks": ""
             }
            },
            "type": "scatter3d"
           }
          ],
          "scattercarpet": [
           {
            "marker": {
             "colorbar": {
              "outlinewidth": 0,
              "ticks": ""
             }
            },
            "type": "scattercarpet"
           }
          ],
          "scattergeo": [
           {
            "marker": {
             "colorbar": {
              "outlinewidth": 0,
              "ticks": ""
             }
            },
            "type": "scattergeo"
           }
          ],
          "scattergl": [
           {
            "marker": {
             "colorbar": {
              "outlinewidth": 0,
              "ticks": ""
             }
            },
            "type": "scattergl"
           }
          ],
          "scattermapbox": [
           {
            "marker": {
             "colorbar": {
              "outlinewidth": 0,
              "ticks": ""
             }
            },
            "type": "scattermapbox"
           }
          ],
          "scatterpolar": [
           {
            "marker": {
             "colorbar": {
              "outlinewidth": 0,
              "ticks": ""
             }
            },
            "type": "scatterpolar"
           }
          ],
          "scatterpolargl": [
           {
            "marker": {
             "colorbar": {
              "outlinewidth": 0,
              "ticks": ""
             }
            },
            "type": "scatterpolargl"
           }
          ],
          "scatterternary": [
           {
            "marker": {
             "colorbar": {
              "outlinewidth": 0,
              "ticks": ""
             }
            },
            "type": "scatterternary"
           }
          ],
          "surface": [
           {
            "colorbar": {
             "outlinewidth": 0,
             "ticks": ""
            },
            "colorscale": [
             [
              0,
              "#0d0887"
             ],
             [
              0.1111111111111111,
              "#46039f"
             ],
             [
              0.2222222222222222,
              "#7201a8"
             ],
             [
              0.3333333333333333,
              "#9c179e"
             ],
             [
              0.4444444444444444,
              "#bd3786"
             ],
             [
              0.5555555555555556,
              "#d8576b"
             ],
             [
              0.6666666666666666,
              "#ed7953"
             ],
             [
              0.7777777777777778,
              "#fb9f3a"
             ],
             [
              0.8888888888888888,
              "#fdca26"
             ],
             [
              1,
              "#f0f921"
             ]
            ],
            "type": "surface"
           }
          ],
          "table": [
           {
            "cells": {
             "fill": {
              "color": "#EBF0F8"
             },
             "line": {
              "color": "white"
             }
            },
            "header": {
             "fill": {
              "color": "#C8D4E3"
             },
             "line": {
              "color": "white"
             }
            },
            "type": "table"
           }
          ]
         },
         "layout": {
          "annotationdefaults": {
           "arrowcolor": "#2a3f5f",
           "arrowhead": 0,
           "arrowwidth": 1
          },
          "autotypenumbers": "strict",
          "coloraxis": {
           "colorbar": {
            "outlinewidth": 0,
            "ticks": ""
           }
          },
          "colorscale": {
           "diverging": [
            [
             0,
             "#8e0152"
            ],
            [
             0.1,
             "#c51b7d"
            ],
            [
             0.2,
             "#de77ae"
            ],
            [
             0.3,
             "#f1b6da"
            ],
            [
             0.4,
             "#fde0ef"
            ],
            [
             0.5,
             "#f7f7f7"
            ],
            [
             0.6,
             "#e6f5d0"
            ],
            [
             0.7,
             "#b8e186"
            ],
            [
             0.8,
             "#7fbc41"
            ],
            [
             0.9,
             "#4d9221"
            ],
            [
             1,
             "#276419"
            ]
           ],
           "sequential": [
            [
             0,
             "#0d0887"
            ],
            [
             0.1111111111111111,
             "#46039f"
            ],
            [
             0.2222222222222222,
             "#7201a8"
            ],
            [
             0.3333333333333333,
             "#9c179e"
            ],
            [
             0.4444444444444444,
             "#bd3786"
            ],
            [
             0.5555555555555556,
             "#d8576b"
            ],
            [
             0.6666666666666666,
             "#ed7953"
            ],
            [
             0.7777777777777778,
             "#fb9f3a"
            ],
            [
             0.8888888888888888,
             "#fdca26"
            ],
            [
             1,
             "#f0f921"
            ]
           ],
           "sequentialminus": [
            [
             0,
             "#0d0887"
            ],
            [
             0.1111111111111111,
             "#46039f"
            ],
            [
             0.2222222222222222,
             "#7201a8"
            ],
            [
             0.3333333333333333,
             "#9c179e"
            ],
            [
             0.4444444444444444,
             "#bd3786"
            ],
            [
             0.5555555555555556,
             "#d8576b"
            ],
            [
             0.6666666666666666,
             "#ed7953"
            ],
            [
             0.7777777777777778,
             "#fb9f3a"
            ],
            [
             0.8888888888888888,
             "#fdca26"
            ],
            [
             1,
             "#f0f921"
            ]
           ]
          },
          "colorway": [
           "#636efa",
           "#EF553B",
           "#00cc96",
           "#ab63fa",
           "#FFA15A",
           "#19d3f3",
           "#FF6692",
           "#B6E880",
           "#FF97FF",
           "#FECB52"
          ],
          "font": {
           "color": "#2a3f5f"
          },
          "geo": {
           "bgcolor": "white",
           "lakecolor": "white",
           "landcolor": "#E5ECF6",
           "showlakes": true,
           "showland": true,
           "subunitcolor": "white"
          },
          "hoverlabel": {
           "align": "left"
          },
          "hovermode": "closest",
          "mapbox": {
           "style": "light"
          },
          "paper_bgcolor": "white",
          "plot_bgcolor": "#E5ECF6",
          "polar": {
           "angularaxis": {
            "gridcolor": "white",
            "linecolor": "white",
            "ticks": ""
           },
           "bgcolor": "#E5ECF6",
           "radialaxis": {
            "gridcolor": "white",
            "linecolor": "white",
            "ticks": ""
           }
          },
          "scene": {
           "xaxis": {
            "backgroundcolor": "#E5ECF6",
            "gridcolor": "white",
            "gridwidth": 2,
            "linecolor": "white",
            "showbackground": true,
            "ticks": "",
            "zerolinecolor": "white"
           },
           "yaxis": {
            "backgroundcolor": "#E5ECF6",
            "gridcolor": "white",
            "gridwidth": 2,
            "linecolor": "white",
            "showbackground": true,
            "ticks": "",
            "zerolinecolor": "white"
           },
           "zaxis": {
            "backgroundcolor": "#E5ECF6",
            "gridcolor": "white",
            "gridwidth": 2,
            "linecolor": "white",
            "showbackground": true,
            "ticks": "",
            "zerolinecolor": "white"
           }
          },
          "shapedefaults": {
           "line": {
            "color": "#2a3f5f"
           }
          },
          "ternary": {
           "aaxis": {
            "gridcolor": "white",
            "linecolor": "white",
            "ticks": ""
           },
           "baxis": {
            "gridcolor": "white",
            "linecolor": "white",
            "ticks": ""
           },
           "bgcolor": "#E5ECF6",
           "caxis": {
            "gridcolor": "white",
            "linecolor": "white",
            "ticks": ""
           }
          },
          "title": {
           "x": 0.05
          },
          "xaxis": {
           "automargin": true,
           "gridcolor": "white",
           "linecolor": "white",
           "ticks": "",
           "title": {
            "standoff": 15
           },
           "zerolinecolor": "white",
           "zerolinewidth": 2
          },
          "yaxis": {
           "automargin": true,
           "gridcolor": "white",
           "linecolor": "white",
           "ticks": "",
           "title": {
            "standoff": 15
           },
           "zerolinecolor": "white",
           "zerolinewidth": 2
          }
         }
        },
        "title": {
         "text": "ENN"
        }
       }
      },
      "text/html": [
       "<div>                            <div id=\"8538c210-0423-4831-9db7-16f9abd6d6c1\" class=\"plotly-graph-div\" style=\"height:525px; width:100%;\"></div>            <script type=\"text/javascript\">                require([\"plotly\"], function(Plotly) {                    window.PLOTLYENV=window.PLOTLYENV || {};                                    if (document.getElementById(\"8538c210-0423-4831-9db7-16f9abd6d6c1\")) {                    Plotly.newPlot(                        \"8538c210-0423-4831-9db7-16f9abd6d6c1\",                        [{\"line\":{\"color\":\"#930001\"},\"marker\":{\"color\":\"#930001\",\"line\":{\"color\":\"black\",\"width\":2},\"size\":12},\"mode\":\"lines+markers\",\"name\":\"Metagenomic - Best\",\"opacity\":0.6,\"r\":[0.7243755383290267,0.9870367611135923,1.0,1.0,1.0,1.0],\"showlegend\":true,\"subplot\":\"polar\",\"theta\":[\"Contigs\",\"Basepairs\",\"Largest contig\",\"N50\",\"% Mapped reads\",\"Uncalled bases\"],\"type\":\"scatterpolar\"},{\"line\":{\"color\":\"#930001\"},\"marker\":{\"color\":\"#930001\",\"line\":{\"color\":\"black\",\"width\":2},\"size\":12},\"mode\":\"lines+markers\",\"name\":\"Metagenomic - Best\",\"opacity\":0.6,\"r\":[0.7920046349942063,0.9829925671609603,1.0,1.0,1.0,0.8888888888888888,0.8333333333333334],\"showlegend\":false,\"subplot\":\"polar2\",\"theta\":[\"Contigs\",\"Basepairs\",\"N50\",\"% Mapped reads\",\"Uncalled bases\",\"Misassembled contigs\",\"Misassembly events\"],\"type\":\"scatterpolar\"},{\"line\":{\"color\":\"#C97F80\"},\"marker\":{\"color\":\"#C97F80\",\"line\":{\"color\":\"black\",\"width\":2},\"size\":12},\"mode\":\"lines+markers\",\"name\":\"Metagenomic - Worst\",\"opacity\":0.6,\"r\":[0.21533161068044793,0.982032881364268,0.5647471121817806,0.26706648058974647,0.996453467104533,1.0],\"showlegend\":true,\"subplot\":\"polar\",\"theta\":[\"Contigs\",\"Basepairs\",\"Largest contig\",\"N50\",\"% Mapped reads\",\"Uncalled bases\"],\"type\":\"scatterpolar\"},{\"line\":{\"color\":\"#C97F80\"},\"marker\":{\"color\":\"#C97F80\",\"line\":{\"color\":\"black\",\"width\":2},\"size\":12},\"mode\":\"lines+markers\",\"name\":\"Metagenomic - Worst\",\"opacity\":0.6,\"r\":[0.25898030127462346,0.973626364677953,0.27286252519791626,0.9852573444152096,1.0,0.0,0.0],\"showlegend\":false,\"subplot\":\"polar2\",\"theta\":[\"Contigs\",\"Basepairs\",\"N50\",\"% Mapped reads\",\"Uncalled bases\",\"Misassembled contigs\",\"Misassembly events\"],\"type\":\"scatterpolar\"},{\"line\":{\"color\":\"#009392\"},\"marker\":{\"color\":\"#009392\",\"line\":{\"color\":\"black\",\"width\":2},\"size\":12},\"mode\":\"lines+markers\",\"name\":\"Genomic - Best\",\"opacity\":0.6,\"r\":[0.5968992248062015,0.9837181075896997,0.8198510620651879,0.8569638449191361,0.997247522387678,1.0],\"showlegend\":true,\"subplot\":\"polar\",\"theta\":[\"Contigs\",\"Basepairs\",\"Largest contig\",\"N50\",\"% Mapped reads\",\"Uncalled bases\"],\"type\":\"scatterpolar\"},{\"line\":{\"color\":\"#009392\"},\"marker\":{\"color\":\"#009392\",\"line\":{\"color\":\"black\",\"width\":2},\"size\":12},\"mode\":\"lines+markers\",\"name\":\"Genomic - Best\",\"opacity\":0.6,\"r\":[0.7433371958285052,0.9783381605215463,0.8757056464287062,0.9916805190120218,1.0,1.0,1.0],\"showlegend\":false,\"subplot\":\"polar2\",\"theta\":[\"Contigs\",\"Basepairs\",\"N50\",\"% Mapped reads\",\"Uncalled bases\",\"Misassembled contigs\",\"Misassembly events\"],\"type\":\"scatterpolar\"},{\"line\":{\"color\":\"#7FC9C8\"},\"marker\":{\"color\":\"#7FC9C8\",\"line\":{\"color\":\"black\",\"width\":2},\"size\":12},\"mode\":\"lines+markers\",\"name\":\"Genomic - Worst\",\"opacity\":0.6,\"r\":[0.0,0.9729912380967891,0.6079259977896546,0.17650066426107766,0.9861530687410975,1.0],\"showlegend\":true,\"subplot\":\"polar\",\"theta\":[\"Contigs\",\"Basepairs\",\"Largest contig\",\"N50\",\"% Mapped reads\",\"Uncalled bases\"],\"type\":\"scatterpolar\"},{\"line\":{\"color\":\"#7FC9C8\"},\"marker\":{\"color\":\"#7FC9C8\",\"line\":{\"color\":\"black\",\"width\":2},\"size\":12},\"mode\":\"lines+markers\",\"name\":\"Genomic - Worst\",\"opacity\":0.6,\"r\":[0.0,0.9640840846197353,0.1809137047328078,0.9802426713315143,1.0,0.4444444444444444,0.4722222222222222],\"showlegend\":false,\"subplot\":\"polar2\",\"theta\":[\"Contigs\",\"Basepairs\",\"N50\",\"% Mapped reads\",\"Uncalled bases\",\"Misassembled contigs\",\"Misassembly events\"],\"type\":\"scatterpolar\"}],                        {\"annotations\":[{\"font\":{\"size\":16},\"showarrow\":false,\"text\":\"Original\",\"x\":0.225,\"xanchor\":\"center\",\"xref\":\"paper\",\"y\":1.0,\"yanchor\":\"bottom\",\"yref\":\"paper\"},{\"font\":{\"size\":16},\"showarrow\":false,\"text\":\"Filtered\",\"x\":0.775,\"xanchor\":\"center\",\"xref\":\"paper\",\"y\":1.0,\"yanchor\":\"bottom\",\"yref\":\"paper\"}],\"legend\":{\"orientation\":\"h\",\"x\":0,\"xanchor\":\"left\",\"y\":-0.5,\"yanchor\":\"bottom\"},\"polar\":{\"angularaxis\":{\"categoryarray\":[\"Contigs\",\"Basepairs\",\"Largest contig\",\"N50\",\"% Mapped reads\",\"Uncalled bases\"],\"linecolor\":\"black\"},\"bgcolor\":\"rgb(255,255,255)\",\"domain\":{\"x\":[0.0,0.45],\"y\":[0.0,1.0]},\"hole\":0.08333333333333333,\"radialaxis\":{\"angle\":-22.5,\"gridcolor\":\"#DCDCDC\",\"linecolor\":\"black\",\"linewidth\":2,\"range\":[0,1],\"visible\":true}},\"polar2\":{\"angularaxis\":{\"categoryarray\":[\"Contigs\",\"Basepairs\",\"N50\",\"% Mapped reads\",\"Uncalled bases\",\"Misassembled contigs\",\"Misassembly events\"],\"linecolor\":\"black\"},\"bgcolor\":\"rgb(255,255,255)\",\"domain\":{\"x\":[0.55,1.0],\"y\":[0.0,1.0]},\"hole\":0.08333333333333333,\"radialaxis\":{\"angle\":-22.5,\"gridcolor\":\"#DCDCDC\",\"linecolor\":\"black\",\"linewidth\":2,\"range\":[0,1],\"visible\":true}},\"template\":{\"data\":{\"bar\":[{\"error_x\":{\"color\":\"#2a3f5f\"},\"error_y\":{\"color\":\"#2a3f5f\"},\"marker\":{\"line\":{\"color\":\"#E5ECF6\",\"width\":0.5},\"pattern\":{\"fillmode\":\"overlay\",\"size\":10,\"solidity\":0.2}},\"type\":\"bar\"}],\"barpolar\":[{\"marker\":{\"line\":{\"color\":\"#E5ECF6\",\"width\":0.5},\"pattern\":{\"fillmode\":\"overlay\",\"size\":10,\"solidity\":0.2}},\"type\":\"barpolar\"}],\"carpet\":[{\"aaxis\":{\"endlinecolor\":\"#2a3f5f\",\"gridcolor\":\"white\",\"linecolor\":\"white\",\"minorgridcolor\":\"white\",\"startlinecolor\":\"#2a3f5f\"},\"baxis\":{\"endlinecolor\":\"#2a3f5f\",\"gridcolor\":\"white\",\"linecolor\":\"white\",\"minorgridcolor\":\"white\",\"startlinecolor\":\"#2a3f5f\"},\"type\":\"carpet\"}],\"choropleth\":[{\"colorbar\":{\"outlinewidth\":0,\"ticks\":\"\"},\"type\":\"choropleth\"}],\"contour\":[{\"colorbar\":{\"outlinewidth\":0,\"ticks\":\"\"},\"colorscale\":[[0.0,\"#0d0887\"],[0.1111111111111111,\"#46039f\"],[0.2222222222222222,\"#7201a8\"],[0.3333333333333333,\"#9c179e\"],[0.4444444444444444,\"#bd3786\"],[0.5555555555555556,\"#d8576b\"],[0.6666666666666666,\"#ed7953\"],[0.7777777777777778,\"#fb9f3a\"],[0.8888888888888888,\"#fdca26\"],[1.0,\"#f0f921\"]],\"type\":\"contour\"}],\"contourcarpet\":[{\"colorbar\":{\"outlinewidth\":0,\"ticks\":\"\"},\"type\":\"contourcarpet\"}],\"heatmap\":[{\"colorbar\":{\"outlinewidth\":0,\"ticks\":\"\"},\"colorscale\":[[0.0,\"#0d0887\"],[0.1111111111111111,\"#46039f\"],[0.2222222222222222,\"#7201a8\"],[0.3333333333333333,\"#9c179e\"],[0.4444444444444444,\"#bd3786\"],[0.5555555555555556,\"#d8576b\"],[0.6666666666666666,\"#ed7953\"],[0.7777777777777778,\"#fb9f3a\"],[0.8888888888888888,\"#fdca26\"],[1.0,\"#f0f921\"]],\"type\":\"heatmap\"}],\"heatmapgl\":[{\"colorbar\":{\"outlinewidth\":0,\"ticks\":\"\"},\"colorscale\":[[0.0,\"#0d0887\"],[0.1111111111111111,\"#46039f\"],[0.2222222222222222,\"#7201a8\"],[0.3333333333333333,\"#9c179e\"],[0.4444444444444444,\"#bd3786\"],[0.5555555555555556,\"#d8576b\"],[0.6666666666666666,\"#ed7953\"],[0.7777777777777778,\"#fb9f3a\"],[0.8888888888888888,\"#fdca26\"],[1.0,\"#f0f921\"]],\"type\":\"heatmapgl\"}],\"histogram\":[{\"marker\":{\"pattern\":{\"fillmode\":\"overlay\",\"size\":10,\"solidity\":0.2}},\"type\":\"histogram\"}],\"histogram2d\":[{\"colorbar\":{\"outlinewidth\":0,\"ticks\":\"\"},\"colorscale\":[[0.0,\"#0d0887\"],[0.1111111111111111,\"#46039f\"],[0.2222222222222222,\"#7201a8\"],[0.3333333333333333,\"#9c179e\"],[0.4444444444444444,\"#bd3786\"],[0.5555555555555556,\"#d8576b\"],[0.6666666666666666,\"#ed7953\"],[0.7777777777777778,\"#fb9f3a\"],[0.8888888888888888,\"#fdca26\"],[1.0,\"#f0f921\"]],\"type\":\"histogram2d\"}],\"histogram2dcontour\":[{\"colorbar\":{\"outlinewidth\":0,\"ticks\":\"\"},\"colorscale\":[[0.0,\"#0d0887\"],[0.1111111111111111,\"#46039f\"],[0.2222222222222222,\"#7201a8\"],[0.3333333333333333,\"#9c179e\"],[0.4444444444444444,\"#bd3786\"],[0.5555555555555556,\"#d8576b\"],[0.6666666666666666,\"#ed7953\"],[0.7777777777777778,\"#fb9f3a\"],[0.8888888888888888,\"#fdca26\"],[1.0,\"#f0f921\"]],\"type\":\"histogram2dcontour\"}],\"mesh3d\":[{\"colorbar\":{\"outlinewidth\":0,\"ticks\":\"\"},\"type\":\"mesh3d\"}],\"parcoords\":[{\"line\":{\"colorbar\":{\"outlinewidth\":0,\"ticks\":\"\"}},\"type\":\"parcoords\"}],\"pie\":[{\"automargin\":true,\"type\":\"pie\"}],\"scatter\":[{\"marker\":{\"colorbar\":{\"outlinewidth\":0,\"ticks\":\"\"}},\"type\":\"scatter\"}],\"scatter3d\":[{\"line\":{\"colorbar\":{\"outlinewidth\":0,\"ticks\":\"\"}},\"marker\":{\"colorbar\":{\"outlinewidth\":0,\"ticks\":\"\"}},\"type\":\"scatter3d\"}],\"scattercarpet\":[{\"marker\":{\"colorbar\":{\"outlinewidth\":0,\"ticks\":\"\"}},\"type\":\"scattercarpet\"}],\"scattergeo\":[{\"marker\":{\"colorbar\":{\"outlinewidth\":0,\"ticks\":\"\"}},\"type\":\"scattergeo\"}],\"scattergl\":[{\"marker\":{\"colorbar\":{\"outlinewidth\":0,\"ticks\":\"\"}},\"type\":\"scattergl\"}],\"scattermapbox\":[{\"marker\":{\"colorbar\":{\"outlinewidth\":0,\"ticks\":\"\"}},\"type\":\"scattermapbox\"}],\"scatterpolar\":[{\"marker\":{\"colorbar\":{\"outlinewidth\":0,\"ticks\":\"\"}},\"type\":\"scatterpolar\"}],\"scatterpolargl\":[{\"marker\":{\"colorbar\":{\"outlinewidth\":0,\"ticks\":\"\"}},\"type\":\"scatterpolargl\"}],\"scatterternary\":[{\"marker\":{\"colorbar\":{\"outlinewidth\":0,\"ticks\":\"\"}},\"type\":\"scatterternary\"}],\"surface\":[{\"colorbar\":{\"outlinewidth\":0,\"ticks\":\"\"},\"colorscale\":[[0.0,\"#0d0887\"],[0.1111111111111111,\"#46039f\"],[0.2222222222222222,\"#7201a8\"],[0.3333333333333333,\"#9c179e\"],[0.4444444444444444,\"#bd3786\"],[0.5555555555555556,\"#d8576b\"],[0.6666666666666666,\"#ed7953\"],[0.7777777777777778,\"#fb9f3a\"],[0.8888888888888888,\"#fdca26\"],[1.0,\"#f0f921\"]],\"type\":\"surface\"}],\"table\":[{\"cells\":{\"fill\":{\"color\":\"#EBF0F8\"},\"line\":{\"color\":\"white\"}},\"header\":{\"fill\":{\"color\":\"#C8D4E3\"},\"line\":{\"color\":\"white\"}},\"type\":\"table\"}]},\"layout\":{\"annotationdefaults\":{\"arrowcolor\":\"#2a3f5f\",\"arrowhead\":0,\"arrowwidth\":1},\"autotypenumbers\":\"strict\",\"coloraxis\":{\"colorbar\":{\"outlinewidth\":0,\"ticks\":\"\"}},\"colorscale\":{\"diverging\":[[0,\"#8e0152\"],[0.1,\"#c51b7d\"],[0.2,\"#de77ae\"],[0.3,\"#f1b6da\"],[0.4,\"#fde0ef\"],[0.5,\"#f7f7f7\"],[0.6,\"#e6f5d0\"],[0.7,\"#b8e186\"],[0.8,\"#7fbc41\"],[0.9,\"#4d9221\"],[1,\"#276419\"]],\"sequential\":[[0.0,\"#0d0887\"],[0.1111111111111111,\"#46039f\"],[0.2222222222222222,\"#7201a8\"],[0.3333333333333333,\"#9c179e\"],[0.4444444444444444,\"#bd3786\"],[0.5555555555555556,\"#d8576b\"],[0.6666666666666666,\"#ed7953\"],[0.7777777777777778,\"#fb9f3a\"],[0.8888888888888888,\"#fdca26\"],[1.0,\"#f0f921\"]],\"sequentialminus\":[[0.0,\"#0d0887\"],[0.1111111111111111,\"#46039f\"],[0.2222222222222222,\"#7201a8\"],[0.3333333333333333,\"#9c179e\"],[0.4444444444444444,\"#bd3786\"],[0.5555555555555556,\"#d8576b\"],[0.6666666666666666,\"#ed7953\"],[0.7777777777777778,\"#fb9f3a\"],[0.8888888888888888,\"#fdca26\"],[1.0,\"#f0f921\"]]},\"colorway\":[\"#636efa\",\"#EF553B\",\"#00cc96\",\"#ab63fa\",\"#FFA15A\",\"#19d3f3\",\"#FF6692\",\"#B6E880\",\"#FF97FF\",\"#FECB52\"],\"font\":{\"color\":\"#2a3f5f\"},\"geo\":{\"bgcolor\":\"white\",\"lakecolor\":\"white\",\"landcolor\":\"#E5ECF6\",\"showlakes\":true,\"showland\":true,\"subunitcolor\":\"white\"},\"hoverlabel\":{\"align\":\"left\"},\"hovermode\":\"closest\",\"mapbox\":{\"style\":\"light\"},\"paper_bgcolor\":\"white\",\"plot_bgcolor\":\"#E5ECF6\",\"polar\":{\"angularaxis\":{\"gridcolor\":\"white\",\"linecolor\":\"white\",\"ticks\":\"\"},\"bgcolor\":\"#E5ECF6\",\"radialaxis\":{\"gridcolor\":\"white\",\"linecolor\":\"white\",\"ticks\":\"\"}},\"scene\":{\"xaxis\":{\"backgroundcolor\":\"#E5ECF6\",\"gridcolor\":\"white\",\"gridwidth\":2,\"linecolor\":\"white\",\"showbackground\":true,\"ticks\":\"\",\"zerolinecolor\":\"white\"},\"yaxis\":{\"backgroundcolor\":\"#E5ECF6\",\"gridcolor\":\"white\",\"gridwidth\":2,\"linecolor\":\"white\",\"showbackground\":true,\"ticks\":\"\",\"zerolinecolor\":\"white\"},\"zaxis\":{\"backgroundcolor\":\"#E5ECF6\",\"gridcolor\":\"white\",\"gridwidth\":2,\"linecolor\":\"white\",\"showbackground\":true,\"ticks\":\"\",\"zerolinecolor\":\"white\"}},\"shapedefaults\":{\"line\":{\"color\":\"#2a3f5f\"}},\"ternary\":{\"aaxis\":{\"gridcolor\":\"white\",\"linecolor\":\"white\",\"ticks\":\"\"},\"baxis\":{\"gridcolor\":\"white\",\"linecolor\":\"white\",\"ticks\":\"\"},\"bgcolor\":\"#E5ECF6\",\"caxis\":{\"gridcolor\":\"white\",\"linecolor\":\"white\",\"ticks\":\"\"}},\"title\":{\"x\":0.05},\"xaxis\":{\"automargin\":true,\"gridcolor\":\"white\",\"linecolor\":\"white\",\"ticks\":\"\",\"title\":{\"standoff\":15},\"zerolinecolor\":\"white\",\"zerolinewidth\":2},\"yaxis\":{\"automargin\":true,\"gridcolor\":\"white\",\"linecolor\":\"white\",\"ticks\":\"\",\"title\":{\"standoff\":15},\"zerolinecolor\":\"white\",\"zerolinewidth\":2}}},\"title\":{\"text\":\"ENN\"}},                        {\"responsive\": true}                    ).then(function(){\n",
       "                            \n",
       "var gd = document.getElementById('8538c210-0423-4831-9db7-16f9abd6d6c1');\n",
       "var x = new MutationObserver(function (mutations, observer) {{\n",
       "        var display = window.getComputedStyle(gd).display;\n",
       "        if (!display || display === 'none') {{\n",
       "            console.log([gd, 'removed!']);\n",
       "            Plotly.purge(gd);\n",
       "            observer.disconnect();\n",
       "        }}\n",
       "}});\n",
       "\n",
       "// Listen for the removal of the full notebook cells\n",
       "var notebookContainer = gd.closest('#notebook-container');\n",
       "if (notebookContainer) {{\n",
       "    x.observe(notebookContainer, {childList: true});\n",
       "}}\n",
       "\n",
       "// Listen for the clearing of the current output cell\n",
       "var outputEl = gd.closest('.output');\n",
       "if (outputEl) {{\n",
       "    x.observe(outputEl, {childList: true});\n",
       "}}\n",
       "\n",
       "                        })                };                });            </script>        </div>"
      ]
     },
     "metadata": {},
     "output_type": "display_data"
    }
   ],
   "source": [
    "COLOURS = ['#930001','#C97F80','#009392','#7FC9C8']\n",
    "for sample, df in rank_dfs:\n",
    "\n",
    "    categories = ['contigs','filtered_contigs','basepairs','filtered_basepairs', 'max_contig', 'n50','filtered_n50', 'mapped_reads','filtered_mapped_reads', 'Ns','filtered_Ns','misassembled contigs', 'misassembly events']\n",
    "    categories_original =  ['contigs','basepairs', 'max_contig', 'n50', 'mapped_reads', 'Ns'] \n",
    "    categories_original_renamed =  ['Contigs','Basepairs', 'Largest contig', 'N50', '% Mapped reads', 'Uncalled bases'] \n",
    "    categories_filtered = ['filtered_contigs', 'filtered_basepairs', 'filtered_n50', 'filtered_mapped_reads','filtered_Ns', 'misassembled contigs', 'misassembly events']\n",
    "    categories_filtered_renamed = ['Contigs', 'Basepairs', 'N50', '% Mapped reads','Uncalled bases', 'Misassembled contigs', 'Misassembly events']\n",
    "\n",
    "    fig = make_subplots(rows=1, cols=2, specs=[[{'type': 'polar'}, {'type': 'polar'}]], subplot_titles=('Original', 'Filtered'))\n",
    "    \n",
    "    i= 0\n",
    "    \n",
    "    for index, row in df.iterrows():\n",
    "        # BEST\n",
    "        assembler = index[0]\n",
    "        assembly_type = index[1]\n",
    "        \n",
    "        row_filtered = []\n",
    "        row_original = []\n",
    "        \n",
    "        for col in categories_original:\n",
    "            row_original.append(row.loc[:].at[col])\n",
    "            \n",
    "        for col in categories_filtered:\n",
    "            row_filtered.append(row.loc[:].at[col])\n",
    "        \n",
    "        if assembly_type == 'Best':\n",
    "            fig.add_trace(go.Scatterpolar(r=row_original,\n",
    "                                          theta=categories_original_renamed, mode='lines+markers',\n",
    "                                          marker=dict(color=COLOURS[i], size=12), \n",
    "                                          marker_line_color=\"black\", \n",
    "                                          marker_line_width=2,\n",
    "                                          opacity=0.6,\n",
    "                                          name=\"{} - {}\".format(assembler, assembly_type), line=dict(color=COLOURS[i]), showlegend=True), col=1, row=1)\n",
    "\n",
    "            fig.add_trace(go.Scatterpolar(r=row_filtered,\n",
    "                                          theta=categories_filtered_renamed, mode='lines+markers',\n",
    "                                          marker=dict(color=COLOURS[i], size=12), \n",
    "                                          marker_line_color=\"black\", \n",
    "                                          marker_line_width=2,\n",
    "                                          opacity=0.6,\n",
    "                                          name=\"{} - {}\".format(assembler, assembly_type), line=dict(color=COLOURS[i]), showlegend=False), col=2, row=1)\n",
    "        else:\n",
    "            fig.add_trace(go.Scatterpolar(r=row_original,\n",
    "                                          theta=categories_original_renamed, mode='lines+markers',\n",
    "                                          marker=dict(color=COLOURS[i], size=12), \n",
    "                                          marker_line_color=\"black\", \n",
    "                                          marker_line_width=2,\n",
    "                                          opacity=0.6,\n",
    "                                          name=\"{} - {}\".format(assembler, assembly_type), line=dict(color=COLOURS[i]), showlegend=True), col=1, row=1)\n",
    "\n",
    "            fig.add_trace(go.Scatterpolar(r=row_filtered,\n",
    "                                          theta=categories_filtered_renamed, mode='lines+markers',\n",
    "                                          marker=dict(color=COLOURS[i], size=12), \n",
    "                                          marker_line_color=\"black\", \n",
    "                                          marker_line_width=2,\n",
    "                                          opacity=0.6,\n",
    "                                          name=\"{} - {}\".format(assembler, assembly_type), line=dict(color=COLOURS[i]), showlegend=False), col=2, row=1)\n",
    "        i+=1\n",
    "            \n",
    "    fig.update_layout(polar=dict(radialaxis=dict(visible=True,\n",
    "                                                 range=[0,1],\n",
    "                                                 linewidth = 2,\n",
    "                                                 linecolor=\"black\",\n",
    "                                                 gridcolor = \"#DCDCDC\"), \n",
    "                                 hole=1/12, bgcolor='rgb(255,255,255)',\n",
    "                                angularaxis=dict(linecolor=\"black\"),\n",
    "                                angularaxis_categoryarray = categories_original_renamed,\n",
    "                                radialaxis_angle = -22.5),\n",
    "                     polar2=dict(radialaxis=dict(visible=True,\n",
    "                                                 range=[0,1],\n",
    "                                                 linewidth = 2,\n",
    "                                                 linecolor=\"black\",\n",
    "                                                 gridcolor = \"#DCDCDC\"), \n",
    "                                 hole=1/12, bgcolor='rgb(255,255,255)',\n",
    "                                angularaxis=dict(linecolor=\"black\"),\n",
    "                                angularaxis_categoryarray = categories_filtered_renamed,\n",
    "                                radialaxis_angle = -22.5))\n",
    "    fig.update_layout(title=sample)\n",
    "    fig.update_layout(legend=dict(\n",
    "        orientation=\"h\",\n",
    "        yanchor=\"bottom\",\n",
    "        y=-0.5,\n",
    "        xanchor=\"left\",\n",
    "        x=0\n",
    "    ))\n",
    "\n",
    "    fig.show()\n",
    "    plot(fig, filename='Plots/Global Metrics/Assembly Type - {}.html'.format(sample), auto_open=False)\n",
    "\n"
   ]
  },
  {
   "cell_type": "code",
   "execution_count": null,
   "id": "6b9436b2",
   "metadata": {
    "scrolled": false
   },
   "outputs": [],
   "source": []
  },
  {
   "cell_type": "code",
   "execution_count": null,
   "id": "a9fb0135",
   "metadata": {
    "scrolled": true
   },
   "outputs": [],
   "source": []
  }
 ],
 "metadata": {
  "kernelspec": {
   "display_name": "Python 3 (ipykernel)",
   "language": "python",
   "name": "python3"
  },
  "language_info": {
   "codemirror_mode": {
    "name": "ipython",
    "version": 3
   },
   "file_extension": ".py",
   "mimetype": "text/x-python",
   "name": "python",
   "nbconvert_exporter": "python",
   "pygments_lexer": "ipython3",
   "version": "3.8.12"
  }
 },
 "nbformat": 4,
 "nbformat_minor": 5
}
