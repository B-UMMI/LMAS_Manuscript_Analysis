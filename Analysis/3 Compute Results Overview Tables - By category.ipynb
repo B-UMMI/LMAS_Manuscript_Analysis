{
 "cells": [
  {
   "cell_type": "markdown",
   "id": "a023a53b",
   "metadata": {},
   "source": [
    "### 3 Compute Results Overview Tables - By category"
   ]
  },
  {
   "cell_type": "markdown",
   "id": "c425a9d3",
   "metadata": {},
   "source": [
    "The success of an assembly is evaluated by the computation of metrics in two defined ways: globally through statistics inherent to the complete set of sequences that were assembled, and relative to the replicons present in the sample. \n",
    "\n",
    "The following metrics are computed for the complete and filtered set of assembled sequences, restricted to contigs of length above a specified minimum size: \n",
    "\n",
    "- **Contig sizes**\n",
    "    - **Contigs:** The total number of contigs in the assembly;\n",
    "    - **Basepairs:** The total number of bases in the assembly;\n",
    "    - **Maximum sequence length:** The length of the largest contig in the assembly.\n",
    "    - **Number of ‘N’s:** Number of uncalled bases (N's) \n",
    "- **Contiguity**\n",
    "    - **Nx (where 0  < x  ⩽ 100):** Length for which the collection of all assembled sequences of that length or longer in an assembly covers at least a given percentage of the total length of the assembly\n",
    "- **Misassembly**\n",
    "    - **Misassemblies** - Number of aligned contigs that contain a misassembly event\n"
   ]
  },
  {
   "cell_type": "markdown",
   "id": "f177c334",
   "metadata": {},
   "source": [
    "## Imports"
   ]
  },
  {
   "cell_type": "code",
   "execution_count": 1,
   "id": "61c8fe53",
   "metadata": {},
   "outputs": [],
   "source": [
    "import sys\n",
    "from plotly.offline import plot\n",
    "import glob\n",
    "import fnmatch\n",
    "import plotly.graph_objects as go\n",
    "from plotly.subplots import make_subplots\n",
    "import json\n",
    "import pandas as pd\n",
    "from itertools import groupby\n",
    "import csv\n",
    "import numpy as np"
   ]
  },
  {
   "cell_type": "markdown",
   "id": "177246e3",
   "metadata": {},
   "source": [
    "## Global variables"
   ]
  },
  {
   "cell_type": "code",
   "execution_count": 2,
   "id": "a3fc504f",
   "metadata": {},
   "outputs": [],
   "source": [
    "ASSEMBLER_PROCESS_LIST = [\"ABYSS\", \"BCALM2\", \"GATBMINIAPIPELINE\", \"METAHIPMER2\", \"MINIA\", \"MEGAHIT\", \"METASPADES\", \"UNICYCLER\", \"SPADES\",\n",
    "                          \"SKESA\", \"VELVETOPTIMISER\", \"IDBA\"]\n",
    "\n",
    "PROCESS_TO_NAME = {\"ABYSS\": \"AbYSS\",\n",
    "                   \"BCALM2\": \"BCALM2\", \n",
    "                   \"GATBMINIAPIPELINE\": \"GATBMiniaPipeline\",\n",
    "                   \"METAHIPMER2\": \"MetaHipMer2\",\n",
    "                   \"MINIA\": \"MINIA\",\n",
    "                   \"MEGAHIT\": \"MEGAHIT\", \n",
    "                   \"METASPADES\": \"metaSPAdes\", \n",
    "                   \"UNICYCLER\": \"Unicycler\", \n",
    "                   \"SPADES\": \"SPAdes\",\n",
    "                    \"SKESA\": \"SKESA\",\n",
    "                   \"VELVETOPTIMISER\": \"VelvetOptimiser\",\n",
    "                   \"IDBA\": \"IDBA-UD\"}\n",
    "\n",
    "log_distributed = ['LHS', 'LNN', 'ERR2935805']\n",
    "even_distribution = ['EMS', 'LNN', 'ERR2984773']\n",
    "\n",
    "skipped_assemblers = ['ABySS', 'BCALM2', 'MINIA', 'VelvetOptimiser', 'MetaHipMer2']\n",
    "\n",
    "genomic_assemblers = ['ABySS', 'BCALM2', 'MINIA', 'SKESA', 'SPAdes', 'Unicycler', 'VelvetOptimiser']\n",
    "metagenomic_assemblers = ['MetaHipMer2','GATBMiniaPipeline', 'IDBA-UD', 'MEGAHIT', 'metaSPAdes']\n",
    "single_kmer = ['BCALM2', 'MINIA', 'ABySS']\n",
    "multiple_kmer = ['SKESA', 'SPAdes', 'Unicycler', 'VelvetOptimizer', 'GATBMiniaPipeline', \n",
    "                 'IDBA-UD', 'MEGAHIT', 'metaSPAdes', 'MetaHipMer2']\n",
    "\n",
    "best_min = ['Ns', 'contigs', 'filtered_Ns', 'filtered_contigs','misassembled contigs','misassembly events']\n",
    "best_max = ['basepairs','filtered_basepairs','filtered_mapped_reads','filtered_n50','mapped_reads','max_contig','n50']\n",
    "\n",
    "COLOURS = ['#5876c8', '#58AEC8', '#009392', '#39B185', '#9CCB86', '#E9E29C', '#EEB479', '#E88471', '#CF597E', '#a54765', '#a42a2a', '#835221', 'darkgray']"
   ]
  },
  {
   "cell_type": "markdown",
   "id": "54e522cb",
   "metadata": {},
   "source": [
    "## Global metrics"
   ]
  },
  {
   "cell_type": "markdown",
   "id": "c5fae4bc",
   "metadata": {},
   "source": [
    "### Load Data"
   ]
  },
  {
   "cell_type": "code",
   "execution_count": 3,
   "id": "1009b921",
   "metadata": {},
   "outputs": [
    {
     "name": "stdout",
     "output_type": "stream",
     "text": [
      "Processing pipeline_report_tables.json data from run3...\n",
      "Processing pipeline_report_tables.json data from run2...\n",
      "Processing pipeline_report_tables.json data from run1...\n",
      "Processing pipeline_report_tables.json data from run3...\n",
      "Processing pipeline_report_tables.json data from run2...\n"
     ]
    }
   ],
   "source": [
    "report_glob = glob.glob('../Results/*/*/report/pipeline_report_tables.json')\n",
    "global_pipeline_metrics_df = pd.DataFrame()\n",
    "\n",
    "for pipeline_report_file in report_glob:\n",
    "    report_file_name = pipeline_report_file.split('/')[-1]\n",
    "    stats_run = pipeline_report_file.split('/')[-3]\n",
    "    print('Processing {0} data from {1}...'.format(report_file_name, stats_run))\n",
    "    \n",
    "    with open(pipeline_report_file) as _fh:\n",
    "        json_report = json.load(_fh)\n",
    "        for sample in json_report.keys():\n",
    "            for line in json_report[sample]['GlobalTable']:\n",
    "                assembler = line['assembler']\n",
    "                if assembler not in skipped_assemblers:\n",
    "                    global_pipeline_metrics_df = global_pipeline_metrics_df.append({'run': stats_run,\n",
    "                                                                                    'sample': sample,\n",
    "                                                                                    'assembler': line['assembler'],\n",
    "                                                                                    'contigs': int(line['original']['contigs']),\n",
    "                                                                                    'basepairs': int(line['original']['basepairs']),\n",
    "                                                                                    'max_contig': int(line['original']['max_contig_size']),\n",
    "                                                                                    'n50': int(line['original']['N50']),\n",
    "                                                                                    'mapped_reads': line['original']['mapped_reads'],\n",
    "                                                                                    'Ns': int(line['original']['Ns']),\n",
    "                                                                                    'misassembled contigs': line['filtered']['misassembled_contigs'],\n",
    "                                                                                    'misassembly events': line['filtered']['misassembly_events'],\n",
    "                                                                                    'filtered_contigs': line['filtered']['contigs'],\n",
    "                                                                                    'filtered_basepairs': line['filtered']['basepairs'],\n",
    "                                                                                    'filtered_n50': line['filtered']['N50'],\n",
    "                                                                                    'filtered_Ns': line['filtered']['Ns'],\n",
    "                                                                                    'filtered_mapped_reads': line['filtered']['mapped_reads'],\n",
    "                                                                                   },\n",
    "                                                                                   ignore_index=True)\n",
    "global_pipeline_metrics_df['distribution'] = np.where(global_pipeline_metrics_df['sample'].isin(log_distributed), 'Log', 'Even')\n",
    "global_pipeline_metrics_df['type'] = np.where(global_pipeline_metrics_df['assembler'].isin(genomic_assemblers), 'Genomic', 'Metagenomic')\n",
    "global_pipeline_metrics_df['algorythm'] = np.where(global_pipeline_metrics_df['assembler'].isin(single_kmer), 'Single k-mer De Bruijn graph', 'Multiple k-mer De Bruijn graph')\n",
    "global_pipeline_metrics_df[['contigs','basepairs','max_contig', 'Ns','n50', 'filtered_n50','misassembled contigs', 'misassembly events']] = global_pipeline_metrics_df[['contigs','basepairs','max_contig', 'Ns','n50','filtered_n50','misassembled contigs', 'misassembly events']].apply(pd.to_numeric)"
   ]
  },
  {
   "cell_type": "markdown",
   "id": "dc11bd0a",
   "metadata": {},
   "source": [
    "### Global statistics per assembler type"
   ]
  },
  {
   "cell_type": "code",
   "execution_count": 6,
   "id": "53a0b68f",
   "metadata": {},
   "outputs": [
    {
     "name": "stdout",
     "output_type": "stream",
     "text": [
      "['GATBMiniaPipeline' 'IDBA-UD' 'MEGAHIT' 'metaSPAdes']\n",
      "['SKESA' 'SPAdes' 'Unicycler']\n"
     ]
    }
   ],
   "source": [
    "print(global_pipeline_metrics_df['assembler'][global_pipeline_metrics_df['type'] == \"Metagenomic\"].unique())\n",
    "print(global_pipeline_metrics_df['assembler'][global_pipeline_metrics_df['type'] == \"Genomic\"].unique())"
   ]
  },
  {
   "cell_type": "markdown",
   "id": "c689b82a",
   "metadata": {},
   "source": [
    "#### Descriptive statistics"
   ]
  },
  {
   "cell_type": "code",
   "execution_count": 4,
   "id": "84cd7578",
   "metadata": {},
   "outputs": [
    {
     "name": "stdout",
     "output_type": "stream",
     "text": [
      "LNN\n"
     ]
    },
    {
     "data": {
      "text/html": [
       "<div>\n",
       "<style scoped>\n",
       "    .dataframe tbody tr th:only-of-type {\n",
       "        vertical-align: middle;\n",
       "    }\n",
       "\n",
       "    .dataframe tbody tr th {\n",
       "        vertical-align: top;\n",
       "    }\n",
       "\n",
       "    .dataframe thead th {\n",
       "        text-align: right;\n",
       "    }\n",
       "</style>\n",
       "<table border=\"1\" class=\"dataframe\">\n",
       "  <thead>\n",
       "    <tr style=\"text-align: right;\">\n",
       "      <th></th>\n",
       "      <th>Ns</th>\n",
       "      <th>basepairs</th>\n",
       "      <th>contigs</th>\n",
       "      <th>filtered_Ns</th>\n",
       "      <th>filtered_basepairs</th>\n",
       "      <th>filtered_contigs</th>\n",
       "      <th>filtered_mapped_reads</th>\n",
       "      <th>filtered_n50</th>\n",
       "      <th>mapped_reads</th>\n",
       "      <th>max_contig</th>\n",
       "      <th>misassembled contigs</th>\n",
       "      <th>misassembly events</th>\n",
       "      <th>n50</th>\n",
       "    </tr>\n",
       "    <tr>\n",
       "      <th>Assembler Type</th>\n",
       "      <th></th>\n",
       "      <th></th>\n",
       "      <th></th>\n",
       "      <th></th>\n",
       "      <th></th>\n",
       "      <th></th>\n",
       "      <th></th>\n",
       "      <th></th>\n",
       "      <th></th>\n",
       "      <th></th>\n",
       "      <th></th>\n",
       "      <th></th>\n",
       "      <th></th>\n",
       "    </tr>\n",
       "  </thead>\n",
       "  <tbody>\n",
       "    <tr>\n",
       "      <th>Metagenomic</th>\n",
       "      <td>0.0 [0;0]</td>\n",
       "      <td>14538306.17 [13910838;15514698]</td>\n",
       "      <td>2805.5 [693;6700]</td>\n",
       "      <td>0.0 [0;0]</td>\n",
       "      <td>13674441.5 [13642314;13704539]</td>\n",
       "      <td>197.75 [139;261]</td>\n",
       "      <td>99.26 [98;99]</td>\n",
       "      <td>174695.5 [108043;239185]</td>\n",
       "      <td>99.74 [99;99]</td>\n",
       "      <td>786984.25 [585610;1080013]</td>\n",
       "      <td>1.25 [1;2]</td>\n",
       "      <td>2.5 [2;3]</td>\n",
       "      <td>166676.5 [105808;220609]</td>\n",
       "    </tr>\n",
       "    <tr>\n",
       "      <th>Genomic</th>\n",
       "      <td>0.0 [0;0]</td>\n",
       "      <td>11842809.33 [8202941;15606257]</td>\n",
       "      <td>5676.67 [185;9514]</td>\n",
       "      <td>0.0 [0;0]</td>\n",
       "      <td>9933831.0 [4470092;13640340]</td>\n",
       "      <td>590.67 [112;1433]</td>\n",
       "      <td>96.65 [91;99]</td>\n",
       "      <td>128918.67 [7385;242687]</td>\n",
       "      <td>98.01 [95;99]</td>\n",
       "      <td>513148.33 [59272;847534]</td>\n",
       "      <td>4.0 [0;12]</td>\n",
       "      <td>7.67 [0;23]</td>\n",
       "      <td>122181.67 [1155;242687]</td>\n",
       "    </tr>\n",
       "  </tbody>\n",
       "</table>\n",
       "</div>"
      ],
      "text/plain": [
       "                       Ns                        basepairs  \\\n",
       "Assembler Type                                               \n",
       "Metagenomic     0.0 [0;0]  14538306.17 [13910838;15514698]   \n",
       "Genomic         0.0 [0;0]   11842809.33 [8202941;15606257]   \n",
       "\n",
       "                           contigs filtered_Ns  \\\n",
       "Assembler Type                                   \n",
       "Metagenomic      2805.5 [693;6700]   0.0 [0;0]   \n",
       "Genomic         5676.67 [185;9514]   0.0 [0;0]   \n",
       "\n",
       "                            filtered_basepairs   filtered_contigs  \\\n",
       "Assembler Type                                                      \n",
       "Metagenomic     13674441.5 [13642314;13704539]   197.75 [139;261]   \n",
       "Genomic           9933831.0 [4470092;13640340]  590.67 [112;1433]   \n",
       "\n",
       "               filtered_mapped_reads              filtered_n50   mapped_reads  \\\n",
       "Assembler Type                                                                  \n",
       "Metagenomic            99.26 [98;99]  174695.5 [108043;239185]  99.74 [99;99]   \n",
       "Genomic                96.65 [91;99]   128918.67 [7385;242687]  98.01 [95;99]   \n",
       "\n",
       "                                max_contig misassembled contigs  \\\n",
       "Assembler Type                                                    \n",
       "Metagenomic     786984.25 [585610;1080013]           1.25 [1;2]   \n",
       "Genomic           513148.33 [59272;847534]           4.0 [0;12]   \n",
       "\n",
       "               misassembly events                       n50  \n",
       "Assembler Type                                               \n",
       "Metagenomic             2.5 [2;3]  166676.5 [105808;220609]  \n",
       "Genomic               7.67 [0;23]   122181.67 [1155;242687]  "
      ]
     },
     "metadata": {},
     "output_type": "display_data"
    },
    {
     "name": "stdout",
     "output_type": "stream",
     "text": [
      "ERR2935805\n"
     ]
    },
    {
     "data": {
      "text/html": [
       "<div>\n",
       "<style scoped>\n",
       "    .dataframe tbody tr th:only-of-type {\n",
       "        vertical-align: middle;\n",
       "    }\n",
       "\n",
       "    .dataframe tbody tr th {\n",
       "        vertical-align: top;\n",
       "    }\n",
       "\n",
       "    .dataframe thead th {\n",
       "        text-align: right;\n",
       "    }\n",
       "</style>\n",
       "<table border=\"1\" class=\"dataframe\">\n",
       "  <thead>\n",
       "    <tr style=\"text-align: right;\">\n",
       "      <th></th>\n",
       "      <th>Ns</th>\n",
       "      <th>basepairs</th>\n",
       "      <th>contigs</th>\n",
       "      <th>filtered_Ns</th>\n",
       "      <th>filtered_basepairs</th>\n",
       "      <th>filtered_contigs</th>\n",
       "      <th>filtered_mapped_reads</th>\n",
       "      <th>filtered_n50</th>\n",
       "      <th>mapped_reads</th>\n",
       "      <th>max_contig</th>\n",
       "      <th>misassembled contigs</th>\n",
       "      <th>misassembly events</th>\n",
       "      <th>n50</th>\n",
       "    </tr>\n",
       "    <tr>\n",
       "      <th>Assembler Type</th>\n",
       "      <th></th>\n",
       "      <th></th>\n",
       "      <th></th>\n",
       "      <th></th>\n",
       "      <th></th>\n",
       "      <th></th>\n",
       "      <th></th>\n",
       "      <th></th>\n",
       "      <th></th>\n",
       "      <th></th>\n",
       "      <th></th>\n",
       "      <th></th>\n",
       "      <th></th>\n",
       "    </tr>\n",
       "  </thead>\n",
       "  <tbody>\n",
       "    <tr>\n",
       "      <th>Metagenomic</th>\n",
       "      <td>0.0 [0;0]</td>\n",
       "      <td>23261978.08 [17126362;27822010]</td>\n",
       "      <td>15346.5 [6776;26282]</td>\n",
       "      <td>0.0 [0;0]</td>\n",
       "      <td>17196398.92 [13891328;18792639]</td>\n",
       "      <td>2441.0 [603;3392]</td>\n",
       "      <td>89.25 [88;89]</td>\n",
       "      <td>125805.5 [87983;210993]</td>\n",
       "      <td>89.72 [89;89]</td>\n",
       "      <td>641431.75 [542997;768410]</td>\n",
       "      <td>1.92 [0;3]</td>\n",
       "      <td>3.83 [0;7]</td>\n",
       "      <td>48201.58 [3674;82249]</td>\n",
       "    </tr>\n",
       "    <tr>\n",
       "      <th>Genomic</th>\n",
       "      <td>0.0 [0;0]</td>\n",
       "      <td>16027898.0 [8818742;29517365]</td>\n",
       "      <td>15080.33 [205;36214]</td>\n",
       "      <td>0.0 [0;0]</td>\n",
       "      <td>11707517.67 [5801439;19595813]</td>\n",
       "      <td>2677.33 [144;4999]</td>\n",
       "      <td>69.37 [57;87]</td>\n",
       "      <td>104832.33 [2148;256884]</td>\n",
       "      <td>84.65 [78;88]</td>\n",
       "      <td>574806.0 [29155;847683]</td>\n",
       "      <td>190.67 [0;572]</td>\n",
       "      <td>382.67 [0;1148]</td>\n",
       "      <td>86762.33 [1431;256884]</td>\n",
       "    </tr>\n",
       "  </tbody>\n",
       "</table>\n",
       "</div>"
      ],
      "text/plain": [
       "                       Ns                        basepairs  \\\n",
       "Assembler Type                                               \n",
       "Metagenomic     0.0 [0;0]  23261978.08 [17126362;27822010]   \n",
       "Genomic         0.0 [0;0]    16027898.0 [8818742;29517365]   \n",
       "\n",
       "                             contigs filtered_Ns  \\\n",
       "Assembler Type                                     \n",
       "Metagenomic     15346.5 [6776;26282]   0.0 [0;0]   \n",
       "Genomic         15080.33 [205;36214]   0.0 [0;0]   \n",
       "\n",
       "                             filtered_basepairs    filtered_contigs  \\\n",
       "Assembler Type                                                        \n",
       "Metagenomic     17196398.92 [13891328;18792639]   2441.0 [603;3392]   \n",
       "Genomic          11707517.67 [5801439;19595813]  2677.33 [144;4999]   \n",
       "\n",
       "               filtered_mapped_reads             filtered_n50   mapped_reads  \\\n",
       "Assembler Type                                                                 \n",
       "Metagenomic            89.25 [88;89]  125805.5 [87983;210993]  89.72 [89;89]   \n",
       "Genomic                69.37 [57;87]  104832.33 [2148;256884]  84.65 [78;88]   \n",
       "\n",
       "                               max_contig misassembled contigs  \\\n",
       "Assembler Type                                                   \n",
       "Metagenomic     641431.75 [542997;768410]           1.92 [0;3]   \n",
       "Genomic           574806.0 [29155;847683]       190.67 [0;572]   \n",
       "\n",
       "               misassembly events                     n50  \n",
       "Assembler Type                                             \n",
       "Metagenomic            3.83 [0;7]   48201.58 [3674;82249]  \n",
       "Genomic           382.67 [0;1148]  86762.33 [1431;256884]  "
      ]
     },
     "metadata": {},
     "output_type": "display_data"
    },
    {
     "name": "stdout",
     "output_type": "stream",
     "text": [
      "LHS\n"
     ]
    },
    {
     "data": {
      "text/html": [
       "<div>\n",
       "<style scoped>\n",
       "    .dataframe tbody tr th:only-of-type {\n",
       "        vertical-align: middle;\n",
       "    }\n",
       "\n",
       "    .dataframe tbody tr th {\n",
       "        vertical-align: top;\n",
       "    }\n",
       "\n",
       "    .dataframe thead th {\n",
       "        text-align: right;\n",
       "    }\n",
       "</style>\n",
       "<table border=\"1\" class=\"dataframe\">\n",
       "  <thead>\n",
       "    <tr style=\"text-align: right;\">\n",
       "      <th></th>\n",
       "      <th>Ns</th>\n",
       "      <th>basepairs</th>\n",
       "      <th>contigs</th>\n",
       "      <th>filtered_Ns</th>\n",
       "      <th>filtered_basepairs</th>\n",
       "      <th>filtered_contigs</th>\n",
       "      <th>filtered_mapped_reads</th>\n",
       "      <th>filtered_n50</th>\n",
       "      <th>mapped_reads</th>\n",
       "      <th>max_contig</th>\n",
       "      <th>misassembled contigs</th>\n",
       "      <th>misassembly events</th>\n",
       "      <th>n50</th>\n",
       "    </tr>\n",
       "    <tr>\n",
       "      <th>Assembler Type</th>\n",
       "      <th></th>\n",
       "      <th></th>\n",
       "      <th></th>\n",
       "      <th></th>\n",
       "      <th></th>\n",
       "      <th></th>\n",
       "      <th></th>\n",
       "      <th></th>\n",
       "      <th></th>\n",
       "      <th></th>\n",
       "      <th></th>\n",
       "      <th></th>\n",
       "      <th></th>\n",
       "    </tr>\n",
       "  </thead>\n",
       "  <tbody>\n",
       "    <tr>\n",
       "      <th>Metagenomic</th>\n",
       "      <td>0.0 [0;0]</td>\n",
       "      <td>13857760.08 [13638386;14157309]</td>\n",
       "      <td>1219.83 [767;2099]</td>\n",
       "      <td>0.0 [0;0]</td>\n",
       "      <td>13613428.08 [13507672;13672885]</td>\n",
       "      <td>460.25 [184;762]</td>\n",
       "      <td>97.02 [96;97]</td>\n",
       "      <td>141878.25 [91722;196786]</td>\n",
       "      <td>97.23 [97;97]</td>\n",
       "      <td>703601.5 [632213;917728]</td>\n",
       "      <td>1.25 [0;2]</td>\n",
       "      <td>3.5 [0;6]</td>\n",
       "      <td>139935.5 [90987;193256]</td>\n",
       "    </tr>\n",
       "    <tr>\n",
       "      <th>Genomic</th>\n",
       "      <td>0.0 [0;0]</td>\n",
       "      <td>10831933.33 [2957060;16214591]</td>\n",
       "      <td>10446.67 [36;31040]</td>\n",
       "      <td>0.0 [0;0]</td>\n",
       "      <td>9784598.0 [2950393;13315624]</td>\n",
       "      <td>596.67 [21;1526]</td>\n",
       "      <td>88.5 [77;96]</td>\n",
       "      <td>204425.33 [69361;351027]</td>\n",
       "      <td>94.9 [92;96]</td>\n",
       "      <td>581076.67 [263645;847572]</td>\n",
       "      <td>2.0 [0;5]</td>\n",
       "      <td>4.0 [0;10]</td>\n",
       "      <td>196797.67 [46478;351027]</td>\n",
       "    </tr>\n",
       "  </tbody>\n",
       "</table>\n",
       "</div>"
      ],
      "text/plain": [
       "                       Ns                        basepairs  \\\n",
       "Assembler Type                                               \n",
       "Metagenomic     0.0 [0;0]  13857760.08 [13638386;14157309]   \n",
       "Genomic         0.0 [0;0]   10831933.33 [2957060;16214591]   \n",
       "\n",
       "                            contigs filtered_Ns  \\\n",
       "Assembler Type                                    \n",
       "Metagenomic      1219.83 [767;2099]   0.0 [0;0]   \n",
       "Genomic         10446.67 [36;31040]   0.0 [0;0]   \n",
       "\n",
       "                             filtered_basepairs  filtered_contigs  \\\n",
       "Assembler Type                                                      \n",
       "Metagenomic     13613428.08 [13507672;13672885]  460.25 [184;762]   \n",
       "Genomic            9784598.0 [2950393;13315624]  596.67 [21;1526]   \n",
       "\n",
       "               filtered_mapped_reads              filtered_n50   mapped_reads  \\\n",
       "Assembler Type                                                                  \n",
       "Metagenomic            97.02 [96;97]  141878.25 [91722;196786]  97.23 [97;97]   \n",
       "Genomic                 88.5 [77;96]  204425.33 [69361;351027]   94.9 [92;96]   \n",
       "\n",
       "                               max_contig misassembled contigs  \\\n",
       "Assembler Type                                                   \n",
       "Metagenomic      703601.5 [632213;917728]           1.25 [0;2]   \n",
       "Genomic         581076.67 [263645;847572]            2.0 [0;5]   \n",
       "\n",
       "               misassembly events                       n50  \n",
       "Assembler Type                                               \n",
       "Metagenomic             3.5 [0;6]   139935.5 [90987;193256]  \n",
       "Genomic                4.0 [0;10]  196797.67 [46478;351027]  "
      ]
     },
     "metadata": {},
     "output_type": "display_data"
    },
    {
     "name": "stdout",
     "output_type": "stream",
     "text": [
      "EMS\n"
     ]
    },
    {
     "data": {
      "text/html": [
       "<div>\n",
       "<style scoped>\n",
       "    .dataframe tbody tr th:only-of-type {\n",
       "        vertical-align: middle;\n",
       "    }\n",
       "\n",
       "    .dataframe tbody tr th {\n",
       "        vertical-align: top;\n",
       "    }\n",
       "\n",
       "    .dataframe thead th {\n",
       "        text-align: right;\n",
       "    }\n",
       "</style>\n",
       "<table border=\"1\" class=\"dataframe\">\n",
       "  <thead>\n",
       "    <tr style=\"text-align: right;\">\n",
       "      <th></th>\n",
       "      <th>Ns</th>\n",
       "      <th>basepairs</th>\n",
       "      <th>contigs</th>\n",
       "      <th>filtered_Ns</th>\n",
       "      <th>filtered_basepairs</th>\n",
       "      <th>filtered_contigs</th>\n",
       "      <th>filtered_mapped_reads</th>\n",
       "      <th>filtered_n50</th>\n",
       "      <th>mapped_reads</th>\n",
       "      <th>max_contig</th>\n",
       "      <th>misassembled contigs</th>\n",
       "      <th>misassembly events</th>\n",
       "      <th>n50</th>\n",
       "    </tr>\n",
       "    <tr>\n",
       "      <th>Assembler Type</th>\n",
       "      <th></th>\n",
       "      <th></th>\n",
       "      <th></th>\n",
       "      <th></th>\n",
       "      <th></th>\n",
       "      <th></th>\n",
       "      <th></th>\n",
       "      <th></th>\n",
       "      <th></th>\n",
       "      <th></th>\n",
       "      <th></th>\n",
       "      <th></th>\n",
       "      <th></th>\n",
       "    </tr>\n",
       "  </thead>\n",
       "  <tbody>\n",
       "    <tr>\n",
       "      <th>Metagenomic</th>\n",
       "      <td>0.0 [0;0]</td>\n",
       "      <td>30499869.5 [30408932;30599129]</td>\n",
       "      <td>1128.0 [761;1829]</td>\n",
       "      <td>0.0 [0;0]</td>\n",
       "      <td>30327620.0 [30145929;30418717]</td>\n",
       "      <td>698.5 [365;1254]</td>\n",
       "      <td>98.09 [97;98]</td>\n",
       "      <td>141558.0 [63178;208969]</td>\n",
       "      <td>98.85 [98;99]</td>\n",
       "      <td>730818.5 [468323;917726]</td>\n",
       "      <td>6.25 [1;13]</td>\n",
       "      <td>11.75 [1;22]</td>\n",
       "      <td>141059.42 [61704;208969]</td>\n",
       "    </tr>\n",
       "    <tr>\n",
       "      <th>Genomic</th>\n",
       "      <td>0.0 [0;0]</td>\n",
       "      <td>30405294.0 [30249132;30664883]</td>\n",
       "      <td>1517.67 [656;2628]</td>\n",
       "      <td>0.0 [0;0]</td>\n",
       "      <td>30202846.67 [30064811;30354786]</td>\n",
       "      <td>545.67 [334;891]</td>\n",
       "      <td>97.71 [97;98]</td>\n",
       "      <td>176059.67 [74138;245050]</td>\n",
       "      <td>98.37 [97;98]</td>\n",
       "      <td>928688.0 [632013;1303875]</td>\n",
       "      <td>3.0 [0;9]</td>\n",
       "      <td>6.0 [0;18]</td>\n",
       "      <td>175134.67 [73839;245050]</td>\n",
       "    </tr>\n",
       "  </tbody>\n",
       "</table>\n",
       "</div>"
      ],
      "text/plain": [
       "                       Ns                       basepairs             contigs  \\\n",
       "Assembler Type                                                                  \n",
       "Metagenomic     0.0 [0;0]  30499869.5 [30408932;30599129]   1128.0 [761;1829]   \n",
       "Genomic         0.0 [0;0]  30405294.0 [30249132;30664883]  1517.67 [656;2628]   \n",
       "\n",
       "               filtered_Ns               filtered_basepairs  filtered_contigs  \\\n",
       "Assembler Type                                                                  \n",
       "Metagenomic      0.0 [0;0]   30327620.0 [30145929;30418717]  698.5 [365;1254]   \n",
       "Genomic          0.0 [0;0]  30202846.67 [30064811;30354786]  545.67 [334;891]   \n",
       "\n",
       "               filtered_mapped_reads              filtered_n50   mapped_reads  \\\n",
       "Assembler Type                                                                  \n",
       "Metagenomic            98.09 [97;98]   141558.0 [63178;208969]  98.85 [98;99]   \n",
       "Genomic                97.71 [97;98]  176059.67 [74138;245050]  98.37 [97;98]   \n",
       "\n",
       "                               max_contig misassembled contigs  \\\n",
       "Assembler Type                                                   \n",
       "Metagenomic      730818.5 [468323;917726]          6.25 [1;13]   \n",
       "Genomic         928688.0 [632013;1303875]            3.0 [0;9]   \n",
       "\n",
       "               misassembly events                       n50  \n",
       "Assembler Type                                               \n",
       "Metagenomic          11.75 [1;22]  141059.42 [61704;208969]  \n",
       "Genomic                6.0 [0;18]  175134.67 [73839;245050]  "
      ]
     },
     "metadata": {},
     "output_type": "display_data"
    },
    {
     "name": "stdout",
     "output_type": "stream",
     "text": [
      "ERR2984773\n"
     ]
    },
    {
     "data": {
      "text/html": [
       "<div>\n",
       "<style scoped>\n",
       "    .dataframe tbody tr th:only-of-type {\n",
       "        vertical-align: middle;\n",
       "    }\n",
       "\n",
       "    .dataframe tbody tr th {\n",
       "        vertical-align: top;\n",
       "    }\n",
       "\n",
       "    .dataframe thead th {\n",
       "        text-align: right;\n",
       "    }\n",
       "</style>\n",
       "<table border=\"1\" class=\"dataframe\">\n",
       "  <thead>\n",
       "    <tr style=\"text-align: right;\">\n",
       "      <th></th>\n",
       "      <th>Ns</th>\n",
       "      <th>basepairs</th>\n",
       "      <th>contigs</th>\n",
       "      <th>filtered_Ns</th>\n",
       "      <th>filtered_basepairs</th>\n",
       "      <th>filtered_contigs</th>\n",
       "      <th>filtered_mapped_reads</th>\n",
       "      <th>filtered_n50</th>\n",
       "      <th>mapped_reads</th>\n",
       "      <th>max_contig</th>\n",
       "      <th>misassembled contigs</th>\n",
       "      <th>misassembly events</th>\n",
       "      <th>n50</th>\n",
       "    </tr>\n",
       "    <tr>\n",
       "      <th>Assembler Type</th>\n",
       "      <th></th>\n",
       "      <th></th>\n",
       "      <th></th>\n",
       "      <th></th>\n",
       "      <th></th>\n",
       "      <th></th>\n",
       "      <th></th>\n",
       "      <th></th>\n",
       "      <th></th>\n",
       "      <th></th>\n",
       "      <th></th>\n",
       "      <th></th>\n",
       "      <th></th>\n",
       "    </tr>\n",
       "  </thead>\n",
       "  <tbody>\n",
       "    <tr>\n",
       "      <th>Metagenomic</th>\n",
       "      <td>0.0 [0;0]</td>\n",
       "      <td>40679477.25 [32809112;48964620]</td>\n",
       "      <td>26959.67 [5397;61644]</td>\n",
       "      <td>0.0 [0;0]</td>\n",
       "      <td>31529139.67 [30564302;32021766]</td>\n",
       "      <td>1637.75 [761;2654]</td>\n",
       "      <td>82.1 [81;82]</td>\n",
       "      <td>96809.5 [29134;149841]</td>\n",
       "      <td>83.84 [83;84]</td>\n",
       "      <td>687726.75 [303329;1205839]</td>\n",
       "      <td>5.5 [1;15]</td>\n",
       "      <td>10.92 [2;32]</td>\n",
       "      <td>63437.0 [20993;102115]</td>\n",
       "    </tr>\n",
       "    <tr>\n",
       "      <th>Genomic</th>\n",
       "      <td>0.0 [0;0]</td>\n",
       "      <td>35852992.33 [30430077;46535940]</td>\n",
       "      <td>14022.0 [895;39819]</td>\n",
       "      <td>0.0 [0;0]</td>\n",
       "      <td>31048226.67 [30211740;32500826]</td>\n",
       "      <td>1106.67 [425;2049]</td>\n",
       "      <td>81.09 [80;81]</td>\n",
       "      <td>122864.33 [77870;191424]</td>\n",
       "      <td>82.59 [81;84]</td>\n",
       "      <td>691238.33 [446163;882182]</td>\n",
       "      <td>3.67 [0;9]</td>\n",
       "      <td>7.33 [0;18]</td>\n",
       "      <td>107213.33 [53292;191424]</td>\n",
       "    </tr>\n",
       "  </tbody>\n",
       "</table>\n",
       "</div>"
      ],
      "text/plain": [
       "                       Ns                        basepairs  \\\n",
       "Assembler Type                                               \n",
       "Metagenomic     0.0 [0;0]  40679477.25 [32809112;48964620]   \n",
       "Genomic         0.0 [0;0]  35852992.33 [30430077;46535940]   \n",
       "\n",
       "                              contigs filtered_Ns  \\\n",
       "Assembler Type                                      \n",
       "Metagenomic     26959.67 [5397;61644]   0.0 [0;0]   \n",
       "Genomic           14022.0 [895;39819]   0.0 [0;0]   \n",
       "\n",
       "                             filtered_basepairs    filtered_contigs  \\\n",
       "Assembler Type                                                        \n",
       "Metagenomic     31529139.67 [30564302;32021766]  1637.75 [761;2654]   \n",
       "Genomic         31048226.67 [30211740;32500826]  1106.67 [425;2049]   \n",
       "\n",
       "               filtered_mapped_reads              filtered_n50   mapped_reads  \\\n",
       "Assembler Type                                                                  \n",
       "Metagenomic             82.1 [81;82]    96809.5 [29134;149841]  83.84 [83;84]   \n",
       "Genomic                81.09 [80;81]  122864.33 [77870;191424]  82.59 [81;84]   \n",
       "\n",
       "                                max_contig misassembled contigs  \\\n",
       "Assembler Type                                                    \n",
       "Metagenomic     687726.75 [303329;1205839]           5.5 [1;15]   \n",
       "Genomic          691238.33 [446163;882182]           3.67 [0;9]   \n",
       "\n",
       "               misassembly events                       n50  \n",
       "Assembler Type                                               \n",
       "Metagenomic          10.92 [2;32]    63437.0 [20993;102115]  \n",
       "Genomic               7.33 [0;18]  107213.33 [53292;191424]  "
      ]
     },
     "metadata": {},
     "output_type": "display_data"
    },
    {
     "name": "stdout",
     "output_type": "stream",
     "text": [
      "ENN\n"
     ]
    },
    {
     "data": {
      "text/html": [
       "<div>\n",
       "<style scoped>\n",
       "    .dataframe tbody tr th:only-of-type {\n",
       "        vertical-align: middle;\n",
       "    }\n",
       "\n",
       "    .dataframe tbody tr th {\n",
       "        vertical-align: top;\n",
       "    }\n",
       "\n",
       "    .dataframe thead th {\n",
       "        text-align: right;\n",
       "    }\n",
       "</style>\n",
       "<table border=\"1\" class=\"dataframe\">\n",
       "  <thead>\n",
       "    <tr style=\"text-align: right;\">\n",
       "      <th></th>\n",
       "      <th>Ns</th>\n",
       "      <th>basepairs</th>\n",
       "      <th>contigs</th>\n",
       "      <th>filtered_Ns</th>\n",
       "      <th>filtered_basepairs</th>\n",
       "      <th>filtered_contigs</th>\n",
       "      <th>filtered_mapped_reads</th>\n",
       "      <th>filtered_n50</th>\n",
       "      <th>mapped_reads</th>\n",
       "      <th>max_contig</th>\n",
       "      <th>misassembled contigs</th>\n",
       "      <th>misassembly events</th>\n",
       "      <th>n50</th>\n",
       "    </tr>\n",
       "    <tr>\n",
       "      <th>Assembler Type</th>\n",
       "      <th></th>\n",
       "      <th></th>\n",
       "      <th></th>\n",
       "      <th></th>\n",
       "      <th></th>\n",
       "      <th></th>\n",
       "      <th></th>\n",
       "      <th></th>\n",
       "      <th></th>\n",
       "      <th></th>\n",
       "      <th></th>\n",
       "      <th></th>\n",
       "      <th></th>\n",
       "    </tr>\n",
       "  </thead>\n",
       "  <tbody>\n",
       "    <tr>\n",
       "      <th>Metagenomic</th>\n",
       "      <td>0.0 [0;0]</td>\n",
       "      <td>30457631.25 [30390566;30545419]</td>\n",
       "      <td>1094.0 [640;1822]</td>\n",
       "      <td>0.0 [0;0]</td>\n",
       "      <td>30301796.0 [30130413;30420265]</td>\n",
       "      <td>744.25 [359;1279]</td>\n",
       "      <td>98.67 [97;99]</td>\n",
       "      <td>143644.25 [65108;238611]</td>\n",
       "      <td>99.48 [99;99]</td>\n",
       "      <td>721760.25 [585610;1036942]</td>\n",
       "      <td>7.83 [2;18]</td>\n",
       "      <td>16.17 [6;36]</td>\n",
       "      <td>142765.75 [63725;238611]</td>\n",
       "    </tr>\n",
       "    <tr>\n",
       "      <th>Genomic</th>\n",
       "      <td>0.0 [0;0]</td>\n",
       "      <td>30272311.33 [30110758;30442718]</td>\n",
       "      <td>1466.0 [936;2322]</td>\n",
       "      <td>0.0 [0;0]</td>\n",
       "      <td>30068140.0 [29835112;30276227]</td>\n",
       "      <td>871.0 [443;1726]</td>\n",
       "      <td>97.97 [97;98]</td>\n",
       "      <td>152200.67 [43168;208953]</td>\n",
       "      <td>98.94 [98;99]</td>\n",
       "      <td>776018.67 [630384;850138]</td>\n",
       "      <td>4.33 [0;10]</td>\n",
       "      <td>8.33 [0;19]</td>\n",
       "      <td>150353.0 [42115;204481]</td>\n",
       "    </tr>\n",
       "  </tbody>\n",
       "</table>\n",
       "</div>"
      ],
      "text/plain": [
       "                       Ns                        basepairs            contigs  \\\n",
       "Assembler Type                                                                  \n",
       "Metagenomic     0.0 [0;0]  30457631.25 [30390566;30545419]  1094.0 [640;1822]   \n",
       "Genomic         0.0 [0;0]  30272311.33 [30110758;30442718]  1466.0 [936;2322]   \n",
       "\n",
       "               filtered_Ns              filtered_basepairs   filtered_contigs  \\\n",
       "Assembler Type                                                                  \n",
       "Metagenomic      0.0 [0;0]  30301796.0 [30130413;30420265]  744.25 [359;1279]   \n",
       "Genomic          0.0 [0;0]  30068140.0 [29835112;30276227]   871.0 [443;1726]   \n",
       "\n",
       "               filtered_mapped_reads              filtered_n50   mapped_reads  \\\n",
       "Assembler Type                                                                  \n",
       "Metagenomic            98.67 [97;99]  143644.25 [65108;238611]  99.48 [99;99]   \n",
       "Genomic                97.97 [97;98]  152200.67 [43168;208953]  98.94 [98;99]   \n",
       "\n",
       "                                max_contig misassembled contigs  \\\n",
       "Assembler Type                                                    \n",
       "Metagenomic     721760.25 [585610;1036942]          7.83 [2;18]   \n",
       "Genomic          776018.67 [630384;850138]          4.33 [0;10]   \n",
       "\n",
       "               misassembly events                       n50  \n",
       "Assembler Type                                               \n",
       "Metagenomic          16.17 [6;36]  142765.75 [63725;238611]  \n",
       "Genomic               8.33 [0;19]   150353.0 [42115;204481]  "
      ]
     },
     "metadata": {},
     "output_type": "display_data"
    }
   ],
   "source": [
    "for sample in global_pipeline_metrics_df['sample'].unique():\n",
    "    print(sample)\n",
    "    stats_per_assembler_type = pd.DataFrame()\n",
    "    for assembly_type in global_pipeline_metrics_df.type.unique():\n",
    "        row={'Assembler Type': assembly_type}\n",
    "        lala=global_pipeline_metrics_df[(global_pipeline_metrics_df['sample'] == sample) & (global_pipeline_metrics_df.type == assembly_type) & (global_pipeline_metrics_df.algorythm == \"Multiple k-mer De Bruijn graph\")].describe()\n",
    "        for column in lala.columns:\n",
    "            mean = lala.loc['mean',column]\n",
    "            minimum = lala.loc['min',column]\n",
    "            maximum = lala.loc['max',column]\n",
    "            row[column] = \"{} [{};{}]\".format(round(mean, 2), int(minimum), int(maximum))\n",
    "        stats_per_assembler_type=stats_per_assembler_type.append(row, ignore_index=True)\n",
    "    stats_per_assembler_type = stats_per_assembler_type.set_index('Assembler Type')\n",
    "    display(stats_per_assembler_type)\n",
    "    stats_per_assembler_type.to_csv(\"Tables/Results/Global metrics per assembler type multiple kmer - {}.csv\".format(sample))"
   ]
  },
  {
   "cell_type": "markdown",
   "id": "8ce021b1",
   "metadata": {},
   "source": [
    "#### rank"
   ]
  },
  {
   "cell_type": "code",
   "execution_count": 18,
   "id": "cdc9125d",
   "metadata": {},
   "outputs": [
    {
     "name": "stdout",
     "output_type": "stream",
     "text": [
      "LNN\n"
     ]
    },
    {
     "data": {
      "text/html": [
       "<div>\n",
       "<style scoped>\n",
       "    .dataframe tbody tr th:only-of-type {\n",
       "        vertical-align: middle;\n",
       "    }\n",
       "\n",
       "    .dataframe tbody tr th {\n",
       "        vertical-align: top;\n",
       "    }\n",
       "\n",
       "    .dataframe thead th {\n",
       "        text-align: right;\n",
       "    }\n",
       "</style>\n",
       "<table border=\"1\" class=\"dataframe\">\n",
       "  <thead>\n",
       "    <tr style=\"text-align: right;\">\n",
       "      <th></th>\n",
       "      <th>Ns</th>\n",
       "      <th>basepairs</th>\n",
       "      <th>contigs</th>\n",
       "      <th>filtered_Ns</th>\n",
       "      <th>filtered_basepairs</th>\n",
       "      <th>filtered_contigs</th>\n",
       "      <th>filtered_mapped_reads</th>\n",
       "      <th>filtered_n50</th>\n",
       "      <th>mapped_reads</th>\n",
       "      <th>max_contig</th>\n",
       "      <th>misassembled contigs</th>\n",
       "      <th>misassembly events</th>\n",
       "      <th>n50</th>\n",
       "    </tr>\n",
       "    <tr>\n",
       "      <th>Assembler Type</th>\n",
       "      <th></th>\n",
       "      <th></th>\n",
       "      <th></th>\n",
       "      <th></th>\n",
       "      <th></th>\n",
       "      <th></th>\n",
       "      <th></th>\n",
       "      <th></th>\n",
       "      <th></th>\n",
       "      <th></th>\n",
       "      <th></th>\n",
       "      <th></th>\n",
       "      <th></th>\n",
       "    </tr>\n",
       "  </thead>\n",
       "  <tbody>\n",
       "    <tr>\n",
       "      <th>Metagenomic</th>\n",
       "      <td>0.0</td>\n",
       "      <td>15514698.0</td>\n",
       "      <td>693.0</td>\n",
       "      <td>0.0</td>\n",
       "      <td>13704539.0</td>\n",
       "      <td>139.0</td>\n",
       "      <td>99.686868</td>\n",
       "      <td>239185.0</td>\n",
       "      <td>99.798003</td>\n",
       "      <td>1080013.0</td>\n",
       "      <td>1.0</td>\n",
       "      <td>2.0</td>\n",
       "      <td>220609.0</td>\n",
       "    </tr>\n",
       "    <tr>\n",
       "      <th>Genomic</th>\n",
       "      <td>0.0</td>\n",
       "      <td>15606257.0</td>\n",
       "      <td>185.0</td>\n",
       "      <td>0.0</td>\n",
       "      <td>13640340.0</td>\n",
       "      <td>112.0</td>\n",
       "      <td>99.591855</td>\n",
       "      <td>242687.0</td>\n",
       "      <td>99.713909</td>\n",
       "      <td>847534.0</td>\n",
       "      <td>0.0</td>\n",
       "      <td>0.0</td>\n",
       "      <td>242687.0</td>\n",
       "    </tr>\n",
       "  </tbody>\n",
       "</table>\n",
       "</div>"
      ],
      "text/plain": [
       "                 Ns   basepairs  contigs  filtered_Ns  filtered_basepairs  \\\n",
       "Assembler Type                                                              \n",
       "Metagenomic     0.0  15514698.0    693.0          0.0          13704539.0   \n",
       "Genomic         0.0  15606257.0    185.0          0.0          13640340.0   \n",
       "\n",
       "                filtered_contigs  filtered_mapped_reads  filtered_n50  \\\n",
       "Assembler Type                                                          \n",
       "Metagenomic                139.0              99.686868      239185.0   \n",
       "Genomic                    112.0              99.591855      242687.0   \n",
       "\n",
       "                mapped_reads  max_contig  misassembled contigs  \\\n",
       "Assembler Type                                                   \n",
       "Metagenomic        99.798003   1080013.0                   1.0   \n",
       "Genomic            99.713909    847534.0                   0.0   \n",
       "\n",
       "                misassembly events       n50  \n",
       "Assembler Type                                \n",
       "Metagenomic                    2.0  220609.0  \n",
       "Genomic                        0.0  242687.0  "
      ]
     },
     "metadata": {},
     "output_type": "display_data"
    },
    {
     "name": "stdout",
     "output_type": "stream",
     "text": [
      "ERR2935805\n"
     ]
    },
    {
     "data": {
      "text/html": [
       "<div>\n",
       "<style scoped>\n",
       "    .dataframe tbody tr th:only-of-type {\n",
       "        vertical-align: middle;\n",
       "    }\n",
       "\n",
       "    .dataframe tbody tr th {\n",
       "        vertical-align: top;\n",
       "    }\n",
       "\n",
       "    .dataframe thead th {\n",
       "        text-align: right;\n",
       "    }\n",
       "</style>\n",
       "<table border=\"1\" class=\"dataframe\">\n",
       "  <thead>\n",
       "    <tr style=\"text-align: right;\">\n",
       "      <th></th>\n",
       "      <th>Ns</th>\n",
       "      <th>basepairs</th>\n",
       "      <th>contigs</th>\n",
       "      <th>filtered_Ns</th>\n",
       "      <th>filtered_basepairs</th>\n",
       "      <th>filtered_contigs</th>\n",
       "      <th>filtered_mapped_reads</th>\n",
       "      <th>filtered_n50</th>\n",
       "      <th>mapped_reads</th>\n",
       "      <th>max_contig</th>\n",
       "      <th>misassembled contigs</th>\n",
       "      <th>misassembly events</th>\n",
       "      <th>n50</th>\n",
       "    </tr>\n",
       "    <tr>\n",
       "      <th>Assembler Type</th>\n",
       "      <th></th>\n",
       "      <th></th>\n",
       "      <th></th>\n",
       "      <th></th>\n",
       "      <th></th>\n",
       "      <th></th>\n",
       "      <th></th>\n",
       "      <th></th>\n",
       "      <th></th>\n",
       "      <th></th>\n",
       "      <th></th>\n",
       "      <th></th>\n",
       "      <th></th>\n",
       "    </tr>\n",
       "  </thead>\n",
       "  <tbody>\n",
       "    <tr>\n",
       "      <th>Metagenomic</th>\n",
       "      <td>0.0</td>\n",
       "      <td>27822010.0</td>\n",
       "      <td>6776.0</td>\n",
       "      <td>0.0</td>\n",
       "      <td>18792639.0</td>\n",
       "      <td>603.0</td>\n",
       "      <td>89.502391</td>\n",
       "      <td>210993.0</td>\n",
       "      <td>89.926254</td>\n",
       "      <td>768410.0</td>\n",
       "      <td>0.0</td>\n",
       "      <td>0.0</td>\n",
       "      <td>82249.0</td>\n",
       "    </tr>\n",
       "    <tr>\n",
       "      <th>Genomic</th>\n",
       "      <td>0.0</td>\n",
       "      <td>29517365.0</td>\n",
       "      <td>205.0</td>\n",
       "      <td>0.0</td>\n",
       "      <td>19595813.0</td>\n",
       "      <td>144.0</td>\n",
       "      <td>87.475243</td>\n",
       "      <td>256884.0</td>\n",
       "      <td>88.056194</td>\n",
       "      <td>847683.0</td>\n",
       "      <td>0.0</td>\n",
       "      <td>0.0</td>\n",
       "      <td>256884.0</td>\n",
       "    </tr>\n",
       "  </tbody>\n",
       "</table>\n",
       "</div>"
      ],
      "text/plain": [
       "                 Ns   basepairs  contigs  filtered_Ns  filtered_basepairs  \\\n",
       "Assembler Type                                                              \n",
       "Metagenomic     0.0  27822010.0   6776.0          0.0          18792639.0   \n",
       "Genomic         0.0  29517365.0    205.0          0.0          19595813.0   \n",
       "\n",
       "                filtered_contigs  filtered_mapped_reads  filtered_n50  \\\n",
       "Assembler Type                                                          \n",
       "Metagenomic                603.0              89.502391      210993.0   \n",
       "Genomic                    144.0              87.475243      256884.0   \n",
       "\n",
       "                mapped_reads  max_contig  misassembled contigs  \\\n",
       "Assembler Type                                                   \n",
       "Metagenomic        89.926254    768410.0                   0.0   \n",
       "Genomic            88.056194    847683.0                   0.0   \n",
       "\n",
       "                misassembly events       n50  \n",
       "Assembler Type                                \n",
       "Metagenomic                    0.0   82249.0  \n",
       "Genomic                        0.0  256884.0  "
      ]
     },
     "metadata": {},
     "output_type": "display_data"
    },
    {
     "name": "stdout",
     "output_type": "stream",
     "text": [
      "LHS\n"
     ]
    },
    {
     "data": {
      "text/html": [
       "<div>\n",
       "<style scoped>\n",
       "    .dataframe tbody tr th:only-of-type {\n",
       "        vertical-align: middle;\n",
       "    }\n",
       "\n",
       "    .dataframe tbody tr th {\n",
       "        vertical-align: top;\n",
       "    }\n",
       "\n",
       "    .dataframe thead th {\n",
       "        text-align: right;\n",
       "    }\n",
       "</style>\n",
       "<table border=\"1\" class=\"dataframe\">\n",
       "  <thead>\n",
       "    <tr style=\"text-align: right;\">\n",
       "      <th></th>\n",
       "      <th>Ns</th>\n",
       "      <th>basepairs</th>\n",
       "      <th>contigs</th>\n",
       "      <th>filtered_Ns</th>\n",
       "      <th>filtered_basepairs</th>\n",
       "      <th>filtered_contigs</th>\n",
       "      <th>filtered_mapped_reads</th>\n",
       "      <th>filtered_n50</th>\n",
       "      <th>mapped_reads</th>\n",
       "      <th>max_contig</th>\n",
       "      <th>misassembled contigs</th>\n",
       "      <th>misassembly events</th>\n",
       "      <th>n50</th>\n",
       "    </tr>\n",
       "    <tr>\n",
       "      <th>Assembler Type</th>\n",
       "      <th></th>\n",
       "      <th></th>\n",
       "      <th></th>\n",
       "      <th></th>\n",
       "      <th></th>\n",
       "      <th></th>\n",
       "      <th></th>\n",
       "      <th></th>\n",
       "      <th></th>\n",
       "      <th></th>\n",
       "      <th></th>\n",
       "      <th></th>\n",
       "      <th></th>\n",
       "    </tr>\n",
       "  </thead>\n",
       "  <tbody>\n",
       "    <tr>\n",
       "      <th>Metagenomic</th>\n",
       "      <td>0.0</td>\n",
       "      <td>14157309.0</td>\n",
       "      <td>767.0</td>\n",
       "      <td>0.0</td>\n",
       "      <td>13672885.0</td>\n",
       "      <td>184.0</td>\n",
       "      <td>97.182958</td>\n",
       "      <td>196786.0</td>\n",
       "      <td>97.286491</td>\n",
       "      <td>917728.0</td>\n",
       "      <td>0.0</td>\n",
       "      <td>0.0</td>\n",
       "      <td>193256.0</td>\n",
       "    </tr>\n",
       "    <tr>\n",
       "      <th>Genomic</th>\n",
       "      <td>0.0</td>\n",
       "      <td>16214591.0</td>\n",
       "      <td>36.0</td>\n",
       "      <td>0.0</td>\n",
       "      <td>13315624.0</td>\n",
       "      <td>21.0</td>\n",
       "      <td>96.406056</td>\n",
       "      <td>351027.0</td>\n",
       "      <td>96.974535</td>\n",
       "      <td>847572.0</td>\n",
       "      <td>0.0</td>\n",
       "      <td>0.0</td>\n",
       "      <td>351027.0</td>\n",
       "    </tr>\n",
       "  </tbody>\n",
       "</table>\n",
       "</div>"
      ],
      "text/plain": [
       "                 Ns   basepairs  contigs  filtered_Ns  filtered_basepairs  \\\n",
       "Assembler Type                                                              \n",
       "Metagenomic     0.0  14157309.0    767.0          0.0          13672885.0   \n",
       "Genomic         0.0  16214591.0     36.0          0.0          13315624.0   \n",
       "\n",
       "                filtered_contigs  filtered_mapped_reads  filtered_n50  \\\n",
       "Assembler Type                                                          \n",
       "Metagenomic                184.0              97.182958      196786.0   \n",
       "Genomic                     21.0              96.406056      351027.0   \n",
       "\n",
       "                mapped_reads  max_contig  misassembled contigs  \\\n",
       "Assembler Type                                                   \n",
       "Metagenomic        97.286491    917728.0                   0.0   \n",
       "Genomic            96.974535    847572.0                   0.0   \n",
       "\n",
       "                misassembly events       n50  \n",
       "Assembler Type                                \n",
       "Metagenomic                    0.0  193256.0  \n",
       "Genomic                        0.0  351027.0  "
      ]
     },
     "metadata": {},
     "output_type": "display_data"
    },
    {
     "name": "stdout",
     "output_type": "stream",
     "text": [
      "EMS\n"
     ]
    },
    {
     "data": {
      "text/html": [
       "<div>\n",
       "<style scoped>\n",
       "    .dataframe tbody tr th:only-of-type {\n",
       "        vertical-align: middle;\n",
       "    }\n",
       "\n",
       "    .dataframe tbody tr th {\n",
       "        vertical-align: top;\n",
       "    }\n",
       "\n",
       "    .dataframe thead th {\n",
       "        text-align: right;\n",
       "    }\n",
       "</style>\n",
       "<table border=\"1\" class=\"dataframe\">\n",
       "  <thead>\n",
       "    <tr style=\"text-align: right;\">\n",
       "      <th></th>\n",
       "      <th>Ns</th>\n",
       "      <th>basepairs</th>\n",
       "      <th>contigs</th>\n",
       "      <th>filtered_Ns</th>\n",
       "      <th>filtered_basepairs</th>\n",
       "      <th>filtered_contigs</th>\n",
       "      <th>filtered_mapped_reads</th>\n",
       "      <th>filtered_n50</th>\n",
       "      <th>mapped_reads</th>\n",
       "      <th>max_contig</th>\n",
       "      <th>misassembled contigs</th>\n",
       "      <th>misassembly events</th>\n",
       "      <th>n50</th>\n",
       "    </tr>\n",
       "    <tr>\n",
       "      <th>Assembler Type</th>\n",
       "      <th></th>\n",
       "      <th></th>\n",
       "      <th></th>\n",
       "      <th></th>\n",
       "      <th></th>\n",
       "      <th></th>\n",
       "      <th></th>\n",
       "      <th></th>\n",
       "      <th></th>\n",
       "      <th></th>\n",
       "      <th></th>\n",
       "      <th></th>\n",
       "      <th></th>\n",
       "    </tr>\n",
       "  </thead>\n",
       "  <tbody>\n",
       "    <tr>\n",
       "      <th>Metagenomic</th>\n",
       "      <td>0.0</td>\n",
       "      <td>30599129.0</td>\n",
       "      <td>761.0</td>\n",
       "      <td>0.0</td>\n",
       "      <td>30418717.0</td>\n",
       "      <td>365.0</td>\n",
       "      <td>98.647341</td>\n",
       "      <td>208969.0</td>\n",
       "      <td>99.053249</td>\n",
       "      <td>917726.0</td>\n",
       "      <td>1.0</td>\n",
       "      <td>1.0</td>\n",
       "      <td>208969.0</td>\n",
       "    </tr>\n",
       "    <tr>\n",
       "      <th>Genomic</th>\n",
       "      <td>0.0</td>\n",
       "      <td>30664883.0</td>\n",
       "      <td>656.0</td>\n",
       "      <td>0.0</td>\n",
       "      <td>30354786.0</td>\n",
       "      <td>334.0</td>\n",
       "      <td>98.283354</td>\n",
       "      <td>245050.0</td>\n",
       "      <td>98.700052</td>\n",
       "      <td>1303875.0</td>\n",
       "      <td>0.0</td>\n",
       "      <td>0.0</td>\n",
       "      <td>245050.0</td>\n",
       "    </tr>\n",
       "  </tbody>\n",
       "</table>\n",
       "</div>"
      ],
      "text/plain": [
       "                 Ns   basepairs  contigs  filtered_Ns  filtered_basepairs  \\\n",
       "Assembler Type                                                              \n",
       "Metagenomic     0.0  30599129.0    761.0          0.0          30418717.0   \n",
       "Genomic         0.0  30664883.0    656.0          0.0          30354786.0   \n",
       "\n",
       "                filtered_contigs  filtered_mapped_reads  filtered_n50  \\\n",
       "Assembler Type                                                          \n",
       "Metagenomic                365.0              98.647341      208969.0   \n",
       "Genomic                    334.0              98.283354      245050.0   \n",
       "\n",
       "                mapped_reads  max_contig  misassembled contigs  \\\n",
       "Assembler Type                                                   \n",
       "Metagenomic        99.053249    917726.0                   1.0   \n",
       "Genomic            98.700052   1303875.0                   0.0   \n",
       "\n",
       "                misassembly events       n50  \n",
       "Assembler Type                                \n",
       "Metagenomic                    1.0  208969.0  \n",
       "Genomic                        0.0  245050.0  "
      ]
     },
     "metadata": {},
     "output_type": "display_data"
    },
    {
     "name": "stdout",
     "output_type": "stream",
     "text": [
      "ERR2984773\n"
     ]
    },
    {
     "data": {
      "text/html": [
       "<div>\n",
       "<style scoped>\n",
       "    .dataframe tbody tr th:only-of-type {\n",
       "        vertical-align: middle;\n",
       "    }\n",
       "\n",
       "    .dataframe tbody tr th {\n",
       "        vertical-align: top;\n",
       "    }\n",
       "\n",
       "    .dataframe thead th {\n",
       "        text-align: right;\n",
       "    }\n",
       "</style>\n",
       "<table border=\"1\" class=\"dataframe\">\n",
       "  <thead>\n",
       "    <tr style=\"text-align: right;\">\n",
       "      <th></th>\n",
       "      <th>Ns</th>\n",
       "      <th>basepairs</th>\n",
       "      <th>contigs</th>\n",
       "      <th>filtered_Ns</th>\n",
       "      <th>filtered_basepairs</th>\n",
       "      <th>filtered_contigs</th>\n",
       "      <th>filtered_mapped_reads</th>\n",
       "      <th>filtered_n50</th>\n",
       "      <th>mapped_reads</th>\n",
       "      <th>max_contig</th>\n",
       "      <th>misassembled contigs</th>\n",
       "      <th>misassembly events</th>\n",
       "      <th>n50</th>\n",
       "    </tr>\n",
       "    <tr>\n",
       "      <th>Assembler Type</th>\n",
       "      <th></th>\n",
       "      <th></th>\n",
       "      <th></th>\n",
       "      <th></th>\n",
       "      <th></th>\n",
       "      <th></th>\n",
       "      <th></th>\n",
       "      <th></th>\n",
       "      <th></th>\n",
       "      <th></th>\n",
       "      <th></th>\n",
       "      <th></th>\n",
       "      <th></th>\n",
       "    </tr>\n",
       "  </thead>\n",
       "  <tbody>\n",
       "    <tr>\n",
       "      <th>Metagenomic</th>\n",
       "      <td>0.0</td>\n",
       "      <td>32809112.0</td>\n",
       "      <td>5397.0</td>\n",
       "      <td>0.0</td>\n",
       "      <td>30564396.0</td>\n",
       "      <td>761.0</td>\n",
       "      <td>82.834929</td>\n",
       "      <td>149841.0</td>\n",
       "      <td>84.326108</td>\n",
       "      <td>1205839.0</td>\n",
       "      <td>1.0</td>\n",
       "      <td>2.0</td>\n",
       "      <td>102115.0</td>\n",
       "    </tr>\n",
       "    <tr>\n",
       "      <th>Genomic</th>\n",
       "      <td>0.0</td>\n",
       "      <td>30592960.0</td>\n",
       "      <td>895.0</td>\n",
       "      <td>0.0</td>\n",
       "      <td>30432114.0</td>\n",
       "      <td>425.0</td>\n",
       "      <td>81.598094</td>\n",
       "      <td>191424.0</td>\n",
       "      <td>84.204433</td>\n",
       "      <td>882182.0</td>\n",
       "      <td>0.0</td>\n",
       "      <td>0.0</td>\n",
       "      <td>191424.0</td>\n",
       "    </tr>\n",
       "  </tbody>\n",
       "</table>\n",
       "</div>"
      ],
      "text/plain": [
       "                 Ns   basepairs  contigs  filtered_Ns  filtered_basepairs  \\\n",
       "Assembler Type                                                              \n",
       "Metagenomic     0.0  32809112.0   5397.0          0.0          30564396.0   \n",
       "Genomic         0.0  30592960.0    895.0          0.0          30432114.0   \n",
       "\n",
       "                filtered_contigs  filtered_mapped_reads  filtered_n50  \\\n",
       "Assembler Type                                                          \n",
       "Metagenomic                761.0              82.834929      149841.0   \n",
       "Genomic                    425.0              81.598094      191424.0   \n",
       "\n",
       "                mapped_reads  max_contig  misassembled contigs  \\\n",
       "Assembler Type                                                   \n",
       "Metagenomic        84.326108   1205839.0                   1.0   \n",
       "Genomic            84.204433    882182.0                   0.0   \n",
       "\n",
       "                misassembly events       n50  \n",
       "Assembler Type                                \n",
       "Metagenomic                    2.0  102115.0  \n",
       "Genomic                        0.0  191424.0  "
      ]
     },
     "metadata": {},
     "output_type": "display_data"
    },
    {
     "name": "stdout",
     "output_type": "stream",
     "text": [
      "ENN\n"
     ]
    },
    {
     "data": {
      "text/html": [
       "<div>\n",
       "<style scoped>\n",
       "    .dataframe tbody tr th:only-of-type {\n",
       "        vertical-align: middle;\n",
       "    }\n",
       "\n",
       "    .dataframe tbody tr th {\n",
       "        vertical-align: top;\n",
       "    }\n",
       "\n",
       "    .dataframe thead th {\n",
       "        text-align: right;\n",
       "    }\n",
       "</style>\n",
       "<table border=\"1\" class=\"dataframe\">\n",
       "  <thead>\n",
       "    <tr style=\"text-align: right;\">\n",
       "      <th></th>\n",
       "      <th>Ns</th>\n",
       "      <th>basepairs</th>\n",
       "      <th>contigs</th>\n",
       "      <th>filtered_Ns</th>\n",
       "      <th>filtered_basepairs</th>\n",
       "      <th>filtered_contigs</th>\n",
       "      <th>filtered_mapped_reads</th>\n",
       "      <th>filtered_n50</th>\n",
       "      <th>mapped_reads</th>\n",
       "      <th>max_contig</th>\n",
       "      <th>misassembled contigs</th>\n",
       "      <th>misassembly events</th>\n",
       "      <th>n50</th>\n",
       "    </tr>\n",
       "    <tr>\n",
       "      <th>Assembler Type</th>\n",
       "      <th></th>\n",
       "      <th></th>\n",
       "      <th></th>\n",
       "      <th></th>\n",
       "      <th></th>\n",
       "      <th></th>\n",
       "      <th></th>\n",
       "      <th></th>\n",
       "      <th></th>\n",
       "      <th></th>\n",
       "      <th></th>\n",
       "      <th></th>\n",
       "      <th></th>\n",
       "    </tr>\n",
       "  </thead>\n",
       "  <tbody>\n",
       "    <tr>\n",
       "      <th>Metagenomic</th>\n",
       "      <td>0.0</td>\n",
       "      <td>30545419.0</td>\n",
       "      <td>640.0</td>\n",
       "      <td>0.0</td>\n",
       "      <td>30420265.0</td>\n",
       "      <td>359.0</td>\n",
       "      <td>99.388110</td>\n",
       "      <td>238611.0</td>\n",
       "      <td>99.693845</td>\n",
       "      <td>1036942.0</td>\n",
       "      <td>2.0</td>\n",
       "      <td>6.0</td>\n",
       "      <td>238611.0</td>\n",
       "    </tr>\n",
       "    <tr>\n",
       "      <th>Genomic</th>\n",
       "      <td>0.0</td>\n",
       "      <td>30442718.0</td>\n",
       "      <td>936.0</td>\n",
       "      <td>0.0</td>\n",
       "      <td>30276227.0</td>\n",
       "      <td>443.0</td>\n",
       "      <td>98.561253</td>\n",
       "      <td>208953.0</td>\n",
       "      <td>99.419440</td>\n",
       "      <td>850138.0</td>\n",
       "      <td>0.0</td>\n",
       "      <td>0.0</td>\n",
       "      <td>204481.0</td>\n",
       "    </tr>\n",
       "  </tbody>\n",
       "</table>\n",
       "</div>"
      ],
      "text/plain": [
       "                 Ns   basepairs  contigs  filtered_Ns  filtered_basepairs  \\\n",
       "Assembler Type                                                              \n",
       "Metagenomic     0.0  30545419.0    640.0          0.0          30420265.0   \n",
       "Genomic         0.0  30442718.0    936.0          0.0          30276227.0   \n",
       "\n",
       "                filtered_contigs  filtered_mapped_reads  filtered_n50  \\\n",
       "Assembler Type                                                          \n",
       "Metagenomic                359.0              99.388110      238611.0   \n",
       "Genomic                    443.0              98.561253      208953.0   \n",
       "\n",
       "                mapped_reads  max_contig  misassembled contigs  \\\n",
       "Assembler Type                                                   \n",
       "Metagenomic        99.693845   1036942.0                   2.0   \n",
       "Genomic            99.419440    850138.0                   0.0   \n",
       "\n",
       "                misassembly events       n50  \n",
       "Assembler Type                                \n",
       "Metagenomic                    6.0  238611.0  \n",
       "Genomic                        0.0  204481.0  "
      ]
     },
     "metadata": {},
     "output_type": "display_data"
    },
    {
     "data": {
      "text/html": [
       "<div>\n",
       "<style scoped>\n",
       "    .dataframe tbody tr th:only-of-type {\n",
       "        vertical-align: middle;\n",
       "    }\n",
       "\n",
       "    .dataframe tbody tr th {\n",
       "        vertical-align: top;\n",
       "    }\n",
       "\n",
       "    .dataframe thead th {\n",
       "        text-align: right;\n",
       "    }\n",
       "</style>\n",
       "<table border=\"1\" class=\"dataframe\">\n",
       "  <thead>\n",
       "    <tr style=\"text-align: right;\">\n",
       "      <th></th>\n",
       "      <th></th>\n",
       "      <th>Ns</th>\n",
       "      <th>basepairs</th>\n",
       "      <th>contigs</th>\n",
       "      <th>filtered_Ns</th>\n",
       "      <th>filtered_basepairs</th>\n",
       "      <th>filtered_contigs</th>\n",
       "      <th>filtered_mapped_reads</th>\n",
       "      <th>filtered_n50</th>\n",
       "      <th>mapped_reads</th>\n",
       "      <th>max_contig</th>\n",
       "      <th>misassembled contigs</th>\n",
       "      <th>misassembly events</th>\n",
       "      <th>n50</th>\n",
       "    </tr>\n",
       "    <tr>\n",
       "      <th>Sample</th>\n",
       "      <th>Assembler Type</th>\n",
       "      <th></th>\n",
       "      <th></th>\n",
       "      <th></th>\n",
       "      <th></th>\n",
       "      <th></th>\n",
       "      <th></th>\n",
       "      <th></th>\n",
       "      <th></th>\n",
       "      <th></th>\n",
       "      <th></th>\n",
       "      <th></th>\n",
       "      <th></th>\n",
       "      <th></th>\n",
       "    </tr>\n",
       "  </thead>\n",
       "  <tbody>\n",
       "    <tr>\n",
       "      <th rowspan=\"2\" valign=\"top\">LNN</th>\n",
       "      <th>Metagenomic</th>\n",
       "      <td>0.0</td>\n",
       "      <td>15514698.0</td>\n",
       "      <td>693.0</td>\n",
       "      <td>0.0</td>\n",
       "      <td>13704539.0</td>\n",
       "      <td>139.0</td>\n",
       "      <td>99.686868</td>\n",
       "      <td>239185.0</td>\n",
       "      <td>99.798003</td>\n",
       "      <td>1080013.0</td>\n",
       "      <td>1.0</td>\n",
       "      <td>2.0</td>\n",
       "      <td>220609.0</td>\n",
       "    </tr>\n",
       "    <tr>\n",
       "      <th>Genomic</th>\n",
       "      <td>0.0</td>\n",
       "      <td>15606257.0</td>\n",
       "      <td>185.0</td>\n",
       "      <td>0.0</td>\n",
       "      <td>13640340.0</td>\n",
       "      <td>112.0</td>\n",
       "      <td>99.591855</td>\n",
       "      <td>242687.0</td>\n",
       "      <td>99.713909</td>\n",
       "      <td>847534.0</td>\n",
       "      <td>0.0</td>\n",
       "      <td>0.0</td>\n",
       "      <td>242687.0</td>\n",
       "    </tr>\n",
       "    <tr>\n",
       "      <th rowspan=\"2\" valign=\"top\">ERR2935805</th>\n",
       "      <th>Metagenomic</th>\n",
       "      <td>0.0</td>\n",
       "      <td>27822010.0</td>\n",
       "      <td>6776.0</td>\n",
       "      <td>0.0</td>\n",
       "      <td>18792639.0</td>\n",
       "      <td>603.0</td>\n",
       "      <td>89.502391</td>\n",
       "      <td>210993.0</td>\n",
       "      <td>89.926254</td>\n",
       "      <td>768410.0</td>\n",
       "      <td>0.0</td>\n",
       "      <td>0.0</td>\n",
       "      <td>82249.0</td>\n",
       "    </tr>\n",
       "    <tr>\n",
       "      <th>Genomic</th>\n",
       "      <td>0.0</td>\n",
       "      <td>29517365.0</td>\n",
       "      <td>205.0</td>\n",
       "      <td>0.0</td>\n",
       "      <td>19595813.0</td>\n",
       "      <td>144.0</td>\n",
       "      <td>87.475243</td>\n",
       "      <td>256884.0</td>\n",
       "      <td>88.056194</td>\n",
       "      <td>847683.0</td>\n",
       "      <td>0.0</td>\n",
       "      <td>0.0</td>\n",
       "      <td>256884.0</td>\n",
       "    </tr>\n",
       "    <tr>\n",
       "      <th rowspan=\"2\" valign=\"top\">LHS</th>\n",
       "      <th>Metagenomic</th>\n",
       "      <td>0.0</td>\n",
       "      <td>14157309.0</td>\n",
       "      <td>767.0</td>\n",
       "      <td>0.0</td>\n",
       "      <td>13672885.0</td>\n",
       "      <td>184.0</td>\n",
       "      <td>97.182958</td>\n",
       "      <td>196786.0</td>\n",
       "      <td>97.286491</td>\n",
       "      <td>917728.0</td>\n",
       "      <td>0.0</td>\n",
       "      <td>0.0</td>\n",
       "      <td>193256.0</td>\n",
       "    </tr>\n",
       "    <tr>\n",
       "      <th>Genomic</th>\n",
       "      <td>0.0</td>\n",
       "      <td>16214591.0</td>\n",
       "      <td>36.0</td>\n",
       "      <td>0.0</td>\n",
       "      <td>13315624.0</td>\n",
       "      <td>21.0</td>\n",
       "      <td>96.406056</td>\n",
       "      <td>351027.0</td>\n",
       "      <td>96.974535</td>\n",
       "      <td>847572.0</td>\n",
       "      <td>0.0</td>\n",
       "      <td>0.0</td>\n",
       "      <td>351027.0</td>\n",
       "    </tr>\n",
       "    <tr>\n",
       "      <th rowspan=\"2\" valign=\"top\">EMS</th>\n",
       "      <th>Metagenomic</th>\n",
       "      <td>0.0</td>\n",
       "      <td>30599129.0</td>\n",
       "      <td>761.0</td>\n",
       "      <td>0.0</td>\n",
       "      <td>30418717.0</td>\n",
       "      <td>365.0</td>\n",
       "      <td>98.647341</td>\n",
       "      <td>208969.0</td>\n",
       "      <td>99.053249</td>\n",
       "      <td>917726.0</td>\n",
       "      <td>1.0</td>\n",
       "      <td>1.0</td>\n",
       "      <td>208969.0</td>\n",
       "    </tr>\n",
       "    <tr>\n",
       "      <th>Genomic</th>\n",
       "      <td>0.0</td>\n",
       "      <td>30664883.0</td>\n",
       "      <td>656.0</td>\n",
       "      <td>0.0</td>\n",
       "      <td>30354786.0</td>\n",
       "      <td>334.0</td>\n",
       "      <td>98.283354</td>\n",
       "      <td>245050.0</td>\n",
       "      <td>98.700052</td>\n",
       "      <td>1303875.0</td>\n",
       "      <td>0.0</td>\n",
       "      <td>0.0</td>\n",
       "      <td>245050.0</td>\n",
       "    </tr>\n",
       "    <tr>\n",
       "      <th rowspan=\"2\" valign=\"top\">ERR2984773</th>\n",
       "      <th>Metagenomic</th>\n",
       "      <td>0.0</td>\n",
       "      <td>32809112.0</td>\n",
       "      <td>5397.0</td>\n",
       "      <td>0.0</td>\n",
       "      <td>30564396.0</td>\n",
       "      <td>761.0</td>\n",
       "      <td>82.834929</td>\n",
       "      <td>149841.0</td>\n",
       "      <td>84.326108</td>\n",
       "      <td>1205839.0</td>\n",
       "      <td>1.0</td>\n",
       "      <td>2.0</td>\n",
       "      <td>102115.0</td>\n",
       "    </tr>\n",
       "    <tr>\n",
       "      <th>Genomic</th>\n",
       "      <td>0.0</td>\n",
       "      <td>30592960.0</td>\n",
       "      <td>895.0</td>\n",
       "      <td>0.0</td>\n",
       "      <td>30432114.0</td>\n",
       "      <td>425.0</td>\n",
       "      <td>81.598094</td>\n",
       "      <td>191424.0</td>\n",
       "      <td>84.204433</td>\n",
       "      <td>882182.0</td>\n",
       "      <td>0.0</td>\n",
       "      <td>0.0</td>\n",
       "      <td>191424.0</td>\n",
       "    </tr>\n",
       "    <tr>\n",
       "      <th rowspan=\"2\" valign=\"top\">ENN</th>\n",
       "      <th>Metagenomic</th>\n",
       "      <td>0.0</td>\n",
       "      <td>30545419.0</td>\n",
       "      <td>640.0</td>\n",
       "      <td>0.0</td>\n",
       "      <td>30420265.0</td>\n",
       "      <td>359.0</td>\n",
       "      <td>99.388110</td>\n",
       "      <td>238611.0</td>\n",
       "      <td>99.693845</td>\n",
       "      <td>1036942.0</td>\n",
       "      <td>2.0</td>\n",
       "      <td>6.0</td>\n",
       "      <td>238611.0</td>\n",
       "    </tr>\n",
       "    <tr>\n",
       "      <th>Genomic</th>\n",
       "      <td>0.0</td>\n",
       "      <td>30442718.0</td>\n",
       "      <td>936.0</td>\n",
       "      <td>0.0</td>\n",
       "      <td>30276227.0</td>\n",
       "      <td>443.0</td>\n",
       "      <td>98.561253</td>\n",
       "      <td>208953.0</td>\n",
       "      <td>99.419440</td>\n",
       "      <td>850138.0</td>\n",
       "      <td>0.0</td>\n",
       "      <td>0.0</td>\n",
       "      <td>204481.0</td>\n",
       "    </tr>\n",
       "  </tbody>\n",
       "</table>\n",
       "</div>"
      ],
      "text/plain": [
       "                            Ns   basepairs  contigs  filtered_Ns  \\\n",
       "Sample     Assembler Type                                          \n",
       "LNN        Metagenomic     0.0  15514698.0    693.0          0.0   \n",
       "           Genomic         0.0  15606257.0    185.0          0.0   \n",
       "ERR2935805 Metagenomic     0.0  27822010.0   6776.0          0.0   \n",
       "           Genomic         0.0  29517365.0    205.0          0.0   \n",
       "LHS        Metagenomic     0.0  14157309.0    767.0          0.0   \n",
       "           Genomic         0.0  16214591.0     36.0          0.0   \n",
       "EMS        Metagenomic     0.0  30599129.0    761.0          0.0   \n",
       "           Genomic         0.0  30664883.0    656.0          0.0   \n",
       "ERR2984773 Metagenomic     0.0  32809112.0   5397.0          0.0   \n",
       "           Genomic         0.0  30592960.0    895.0          0.0   \n",
       "ENN        Metagenomic     0.0  30545419.0    640.0          0.0   \n",
       "           Genomic         0.0  30442718.0    936.0          0.0   \n",
       "\n",
       "                           filtered_basepairs  filtered_contigs  \\\n",
       "Sample     Assembler Type                                         \n",
       "LNN        Metagenomic             13704539.0             139.0   \n",
       "           Genomic                 13640340.0             112.0   \n",
       "ERR2935805 Metagenomic             18792639.0             603.0   \n",
       "           Genomic                 19595813.0             144.0   \n",
       "LHS        Metagenomic             13672885.0             184.0   \n",
       "           Genomic                 13315624.0              21.0   \n",
       "EMS        Metagenomic             30418717.0             365.0   \n",
       "           Genomic                 30354786.0             334.0   \n",
       "ERR2984773 Metagenomic             30564396.0             761.0   \n",
       "           Genomic                 30432114.0             425.0   \n",
       "ENN        Metagenomic             30420265.0             359.0   \n",
       "           Genomic                 30276227.0             443.0   \n",
       "\n",
       "                           filtered_mapped_reads  filtered_n50  mapped_reads  \\\n",
       "Sample     Assembler Type                                                      \n",
       "LNN        Metagenomic                 99.686868      239185.0     99.798003   \n",
       "           Genomic                     99.591855      242687.0     99.713909   \n",
       "ERR2935805 Metagenomic                 89.502391      210993.0     89.926254   \n",
       "           Genomic                     87.475243      256884.0     88.056194   \n",
       "LHS        Metagenomic                 97.182958      196786.0     97.286491   \n",
       "           Genomic                     96.406056      351027.0     96.974535   \n",
       "EMS        Metagenomic                 98.647341      208969.0     99.053249   \n",
       "           Genomic                     98.283354      245050.0     98.700052   \n",
       "ERR2984773 Metagenomic                 82.834929      149841.0     84.326108   \n",
       "           Genomic                     81.598094      191424.0     84.204433   \n",
       "ENN        Metagenomic                 99.388110      238611.0     99.693845   \n",
       "           Genomic                     98.561253      208953.0     99.419440   \n",
       "\n",
       "                           max_contig  misassembled contigs  \\\n",
       "Sample     Assembler Type                                     \n",
       "LNN        Metagenomic      1080013.0                   1.0   \n",
       "           Genomic           847534.0                   0.0   \n",
       "ERR2935805 Metagenomic       768410.0                   0.0   \n",
       "           Genomic           847683.0                   0.0   \n",
       "LHS        Metagenomic       917728.0                   0.0   \n",
       "           Genomic           847572.0                   0.0   \n",
       "EMS        Metagenomic       917726.0                   1.0   \n",
       "           Genomic          1303875.0                   0.0   \n",
       "ERR2984773 Metagenomic      1205839.0                   1.0   \n",
       "           Genomic           882182.0                   0.0   \n",
       "ENN        Metagenomic      1036942.0                   2.0   \n",
       "           Genomic           850138.0                   0.0   \n",
       "\n",
       "                           misassembly events       n50  \n",
       "Sample     Assembler Type                                \n",
       "LNN        Metagenomic                    2.0  220609.0  \n",
       "           Genomic                        0.0  242687.0  \n",
       "ERR2935805 Metagenomic                    0.0   82249.0  \n",
       "           Genomic                        0.0  256884.0  \n",
       "LHS        Metagenomic                    0.0  193256.0  \n",
       "           Genomic                        0.0  351027.0  \n",
       "EMS        Metagenomic                    1.0  208969.0  \n",
       "           Genomic                        0.0  245050.0  \n",
       "ERR2984773 Metagenomic                    2.0  102115.0  \n",
       "           Genomic                        0.0  191424.0  \n",
       "ENN        Metagenomic                    6.0  238611.0  \n",
       "           Genomic                        0.0  204481.0  "
      ]
     },
     "metadata": {},
     "output_type": "display_data"
    }
   ],
   "source": [
    "best_stats_dfs = []\n",
    "\n",
    "all_data = pd.DataFrame()\n",
    "\n",
    "for sample in global_pipeline_metrics_df['sample'].unique():\n",
    "    print(sample)\n",
    "    best_stats_per_assembler = pd.DataFrame()\n",
    "\n",
    "    for assembly_type in global_pipeline_metrics_df['type'].unique():\n",
    "        \n",
    "        best_row = {'Assembler Type': assembly_type}\n",
    "        \n",
    "        \n",
    "        describe_df = global_pipeline_metrics_df[(global_pipeline_metrics_df['type'] == assembly_type) & (global_pipeline_metrics_df['sample'] == sample)].describe()\n",
    "\n",
    "        for column in describe_df.columns:\n",
    "            mean = describe_df.loc['mean',column]\n",
    "            minimum = describe_df.loc['min',column]\n",
    "            maximum = describe_df.loc['max',column]\n",
    "                        \n",
    "            if \"basepairs\" in column:\n",
    "                target = 30946587\n",
    "                best_row[column] = min(list(global_pipeline_metrics_df[column][(global_pipeline_metrics_df['type'] == assembly_type) & (global_pipeline_metrics_df['sample'] == sample)]), key=lambda x:abs(x-target))\n",
    "            elif column in best_min:\n",
    "                best_row[column] = minimum\n",
    "            else:\n",
    "                best_row[column] = maximum\n",
    "                \n",
    "        best_stats_per_assembler=best_stats_per_assembler.append(best_row, ignore_index=True)\n",
    "        best_row['Sample'] = sample\n",
    "        all_data = all_data.append(best_row, ignore_index=True)\n",
    "    \n",
    "    best_stats_per_assembler = best_stats_per_assembler.set_index('Assembler Type')\n",
    "    display(best_stats_per_assembler)\n",
    "    best_stats_per_assembler.to_csv(\"Tables/Results/Best Global metrics per assembler type multiple kmer - {}.csv\".format(sample))\n",
    "    best_stats_dfs.append([sample, best_stats_per_assembler])\n",
    "\n",
    "all_data = all_data.set_index(['Sample', 'Assembler Type'])\n",
    "display(all_data)\n",
    "all_data.to_csv(\"Tables/Best Global metrics per assembler type multiple kmer\")"
   ]
  },
  {
   "cell_type": "code",
   "execution_count": 10,
   "id": "7bd78aa8",
   "metadata": {},
   "outputs": [
    {
     "name": "stdout",
     "output_type": "stream",
     "text": [
      "LNN\n"
     ]
    },
    {
     "name": "stderr",
     "output_type": "stream",
     "text": [
      "/tmp/ipykernel_26047/3732949389.py:23: RuntimeWarning:\n",
      "\n",
      "invalid value encountered in double_scalars\n",
      "\n"
     ]
    },
    {
     "data": {
      "text/html": [
       "<div>\n",
       "<style scoped>\n",
       "    .dataframe tbody tr th:only-of-type {\n",
       "        vertical-align: middle;\n",
       "    }\n",
       "\n",
       "    .dataframe tbody tr th {\n",
       "        vertical-align: top;\n",
       "    }\n",
       "\n",
       "    .dataframe thead th {\n",
       "        text-align: right;\n",
       "    }\n",
       "</style>\n",
       "<table border=\"1\" class=\"dataframe\">\n",
       "  <thead>\n",
       "    <tr style=\"text-align: right;\">\n",
       "      <th></th>\n",
       "      <th>Ns</th>\n",
       "      <th>basepairs</th>\n",
       "      <th>contigs</th>\n",
       "      <th>filtered_Ns</th>\n",
       "      <th>filtered_basepairs</th>\n",
       "      <th>filtered_contigs</th>\n",
       "      <th>filtered_mapped_reads</th>\n",
       "      <th>filtered_n50</th>\n",
       "      <th>mapped_reads</th>\n",
       "      <th>max_contig</th>\n",
       "      <th>misassembled contigs</th>\n",
       "      <th>misassembly events</th>\n",
       "      <th>n50</th>\n",
       "    </tr>\n",
       "    <tr>\n",
       "      <th>Assembler Type</th>\n",
       "      <th></th>\n",
       "      <th></th>\n",
       "      <th></th>\n",
       "      <th></th>\n",
       "      <th></th>\n",
       "      <th></th>\n",
       "      <th></th>\n",
       "      <th></th>\n",
       "      <th></th>\n",
       "      <th></th>\n",
       "      <th></th>\n",
       "      <th></th>\n",
       "      <th></th>\n",
       "    </tr>\n",
       "  </thead>\n",
       "  <tbody>\n",
       "    <tr>\n",
       "      <th>Metagenomic</th>\n",
       "      <td>1.0</td>\n",
       "      <td>0.501338</td>\n",
       "      <td>0.000000</td>\n",
       "      <td>1.0</td>\n",
       "      <td>0.442845</td>\n",
       "      <td>0.000000</td>\n",
       "      <td>1.000000</td>\n",
       "      <td>0.98557</td>\n",
       "      <td>1.000000</td>\n",
       "      <td>1.000000</td>\n",
       "      <td>0.0</td>\n",
       "      <td>0.0</td>\n",
       "      <td>0.909027</td>\n",
       "    </tr>\n",
       "    <tr>\n",
       "      <th>Genomic</th>\n",
       "      <td>1.0</td>\n",
       "      <td>0.504297</td>\n",
       "      <td>0.733045</td>\n",
       "      <td>1.0</td>\n",
       "      <td>0.440770</td>\n",
       "      <td>0.194245</td>\n",
       "      <td>0.999047</td>\n",
       "      <td>1.00000</td>\n",
       "      <td>0.999157</td>\n",
       "      <td>0.784744</td>\n",
       "      <td>1.0</td>\n",
       "      <td>1.0</td>\n",
       "      <td>1.000000</td>\n",
       "    </tr>\n",
       "  </tbody>\n",
       "</table>\n",
       "</div>"
      ],
      "text/plain": [
       "                 Ns  basepairs   contigs  filtered_Ns  filtered_basepairs  \\\n",
       "Assembler Type                                                              \n",
       "Metagenomic     1.0   0.501338  0.000000          1.0            0.442845   \n",
       "Genomic         1.0   0.504297  0.733045          1.0            0.440770   \n",
       "\n",
       "                filtered_contigs  filtered_mapped_reads  filtered_n50  \\\n",
       "Assembler Type                                                          \n",
       "Metagenomic             0.000000               1.000000       0.98557   \n",
       "Genomic                 0.194245               0.999047       1.00000   \n",
       "\n",
       "                mapped_reads  max_contig  misassembled contigs  \\\n",
       "Assembler Type                                                   \n",
       "Metagenomic         1.000000    1.000000                   0.0   \n",
       "Genomic             0.999157    0.784744                   1.0   \n",
       "\n",
       "                misassembly events       n50  \n",
       "Assembler Type                                \n",
       "Metagenomic                    0.0  0.909027  \n",
       "Genomic                        1.0  1.000000  "
      ]
     },
     "metadata": {},
     "output_type": "display_data"
    },
    {
     "name": "stdout",
     "output_type": "stream",
     "text": [
      "ERR2935805\n"
     ]
    },
    {
     "name": "stderr",
     "output_type": "stream",
     "text": [
      "/tmp/ipykernel_26047/3732949389.py:23: RuntimeWarning:\n",
      "\n",
      "invalid value encountered in double_scalars\n",
      "\n"
     ]
    },
    {
     "data": {
      "text/html": [
       "<div>\n",
       "<style scoped>\n",
       "    .dataframe tbody tr th:only-of-type {\n",
       "        vertical-align: middle;\n",
       "    }\n",
       "\n",
       "    .dataframe tbody tr th {\n",
       "        vertical-align: top;\n",
       "    }\n",
       "\n",
       "    .dataframe thead th {\n",
       "        text-align: right;\n",
       "    }\n",
       "</style>\n",
       "<table border=\"1\" class=\"dataframe\">\n",
       "  <thead>\n",
       "    <tr style=\"text-align: right;\">\n",
       "      <th></th>\n",
       "      <th>Ns</th>\n",
       "      <th>basepairs</th>\n",
       "      <th>contigs</th>\n",
       "      <th>filtered_Ns</th>\n",
       "      <th>filtered_basepairs</th>\n",
       "      <th>filtered_contigs</th>\n",
       "      <th>filtered_mapped_reads</th>\n",
       "      <th>filtered_n50</th>\n",
       "      <th>mapped_reads</th>\n",
       "      <th>max_contig</th>\n",
       "      <th>misassembled contigs</th>\n",
       "      <th>misassembly events</th>\n",
       "      <th>n50</th>\n",
       "    </tr>\n",
       "    <tr>\n",
       "      <th>Assembler Type</th>\n",
       "      <th></th>\n",
       "      <th></th>\n",
       "      <th></th>\n",
       "      <th></th>\n",
       "      <th></th>\n",
       "      <th></th>\n",
       "      <th></th>\n",
       "      <th></th>\n",
       "      <th></th>\n",
       "      <th></th>\n",
       "      <th></th>\n",
       "      <th></th>\n",
       "      <th></th>\n",
       "    </tr>\n",
       "  </thead>\n",
       "  <tbody>\n",
       "    <tr>\n",
       "      <th>Metagenomic</th>\n",
       "      <td>1.0</td>\n",
       "      <td>0.899033</td>\n",
       "      <td>0.000000</td>\n",
       "      <td>1.0</td>\n",
       "      <td>0.607260</td>\n",
       "      <td>0.000000</td>\n",
       "      <td>1.000000</td>\n",
       "      <td>0.821355</td>\n",
       "      <td>1.000000</td>\n",
       "      <td>0.906483</td>\n",
       "      <td>1.0</td>\n",
       "      <td>1.0</td>\n",
       "      <td>0.32018</td>\n",
       "    </tr>\n",
       "    <tr>\n",
       "      <th>Genomic</th>\n",
       "      <td>1.0</td>\n",
       "      <td>0.953816</td>\n",
       "      <td>0.969746</td>\n",
       "      <td>1.0</td>\n",
       "      <td>0.633214</td>\n",
       "      <td>0.761194</td>\n",
       "      <td>0.977351</td>\n",
       "      <td>1.000000</td>\n",
       "      <td>0.979205</td>\n",
       "      <td>1.000000</td>\n",
       "      <td>1.0</td>\n",
       "      <td>1.0</td>\n",
       "      <td>1.00000</td>\n",
       "    </tr>\n",
       "  </tbody>\n",
       "</table>\n",
       "</div>"
      ],
      "text/plain": [
       "                 Ns  basepairs   contigs  filtered_Ns  filtered_basepairs  \\\n",
       "Assembler Type                                                              \n",
       "Metagenomic     1.0   0.899033  0.000000          1.0            0.607260   \n",
       "Genomic         1.0   0.953816  0.969746          1.0            0.633214   \n",
       "\n",
       "                filtered_contigs  filtered_mapped_reads  filtered_n50  \\\n",
       "Assembler Type                                                          \n",
       "Metagenomic             0.000000               1.000000      0.821355   \n",
       "Genomic                 0.761194               0.977351      1.000000   \n",
       "\n",
       "                mapped_reads  max_contig  misassembled contigs  \\\n",
       "Assembler Type                                                   \n",
       "Metagenomic         1.000000    0.906483                   1.0   \n",
       "Genomic             0.979205    1.000000                   1.0   \n",
       "\n",
       "                misassembly events      n50  \n",
       "Assembler Type                               \n",
       "Metagenomic                    1.0  0.32018  \n",
       "Genomic                        1.0  1.00000  "
      ]
     },
     "metadata": {},
     "output_type": "display_data"
    },
    {
     "name": "stdout",
     "output_type": "stream",
     "text": [
      "LHS\n"
     ]
    },
    {
     "name": "stderr",
     "output_type": "stream",
     "text": [
      "/tmp/ipykernel_26047/3732949389.py:23: RuntimeWarning:\n",
      "\n",
      "invalid value encountered in double_scalars\n",
      "\n"
     ]
    },
    {
     "data": {
      "text/html": [
       "<div>\n",
       "<style scoped>\n",
       "    .dataframe tbody tr th:only-of-type {\n",
       "        vertical-align: middle;\n",
       "    }\n",
       "\n",
       "    .dataframe tbody tr th {\n",
       "        vertical-align: top;\n",
       "    }\n",
       "\n",
       "    .dataframe thead th {\n",
       "        text-align: right;\n",
       "    }\n",
       "</style>\n",
       "<table border=\"1\" class=\"dataframe\">\n",
       "  <thead>\n",
       "    <tr style=\"text-align: right;\">\n",
       "      <th></th>\n",
       "      <th>Ns</th>\n",
       "      <th>basepairs</th>\n",
       "      <th>contigs</th>\n",
       "      <th>filtered_Ns</th>\n",
       "      <th>filtered_basepairs</th>\n",
       "      <th>filtered_contigs</th>\n",
       "      <th>filtered_mapped_reads</th>\n",
       "      <th>filtered_n50</th>\n",
       "      <th>mapped_reads</th>\n",
       "      <th>max_contig</th>\n",
       "      <th>misassembled contigs</th>\n",
       "      <th>misassembly events</th>\n",
       "      <th>n50</th>\n",
       "    </tr>\n",
       "    <tr>\n",
       "      <th>Assembler Type</th>\n",
       "      <th></th>\n",
       "      <th></th>\n",
       "      <th></th>\n",
       "      <th></th>\n",
       "      <th></th>\n",
       "      <th></th>\n",
       "      <th></th>\n",
       "      <th></th>\n",
       "      <th></th>\n",
       "      <th></th>\n",
       "      <th></th>\n",
       "      <th></th>\n",
       "      <th></th>\n",
       "    </tr>\n",
       "  </thead>\n",
       "  <tbody>\n",
       "    <tr>\n",
       "      <th>Metagenomic</th>\n",
       "      <td>1.0</td>\n",
       "      <td>0.457476</td>\n",
       "      <td>0.000000</td>\n",
       "      <td>1.0</td>\n",
       "      <td>0.441822</td>\n",
       "      <td>0.00000</td>\n",
       "      <td>1.000000</td>\n",
       "      <td>0.560601</td>\n",
       "      <td>1.000000</td>\n",
       "      <td>1.000000</td>\n",
       "      <td>1.0</td>\n",
       "      <td>1.0</td>\n",
       "      <td>0.550545</td>\n",
       "    </tr>\n",
       "    <tr>\n",
       "      <th>Genomic</th>\n",
       "      <td>1.0</td>\n",
       "      <td>0.523954</td>\n",
       "      <td>0.953064</td>\n",
       "      <td>1.0</td>\n",
       "      <td>0.430278</td>\n",
       "      <td>0.88587</td>\n",
       "      <td>0.992006</td>\n",
       "      <td>1.000000</td>\n",
       "      <td>0.996793</td>\n",
       "      <td>0.923555</td>\n",
       "      <td>1.0</td>\n",
       "      <td>1.0</td>\n",
       "      <td>1.000000</td>\n",
       "    </tr>\n",
       "  </tbody>\n",
       "</table>\n",
       "</div>"
      ],
      "text/plain": [
       "                 Ns  basepairs   contigs  filtered_Ns  filtered_basepairs  \\\n",
       "Assembler Type                                                              \n",
       "Metagenomic     1.0   0.457476  0.000000          1.0            0.441822   \n",
       "Genomic         1.0   0.523954  0.953064          1.0            0.430278   \n",
       "\n",
       "                filtered_contigs  filtered_mapped_reads  filtered_n50  \\\n",
       "Assembler Type                                                          \n",
       "Metagenomic              0.00000               1.000000      0.560601   \n",
       "Genomic                  0.88587               0.992006      1.000000   \n",
       "\n",
       "                mapped_reads  max_contig  misassembled contigs  \\\n",
       "Assembler Type                                                   \n",
       "Metagenomic         1.000000    1.000000                   1.0   \n",
       "Genomic             0.996793    0.923555                   1.0   \n",
       "\n",
       "                misassembly events       n50  \n",
       "Assembler Type                                \n",
       "Metagenomic                    1.0  0.550545  \n",
       "Genomic                        1.0  1.000000  "
      ]
     },
     "metadata": {},
     "output_type": "display_data"
    },
    {
     "name": "stdout",
     "output_type": "stream",
     "text": [
      "EMS\n"
     ]
    },
    {
     "name": "stderr",
     "output_type": "stream",
     "text": [
      "/tmp/ipykernel_26047/3732949389.py:23: RuntimeWarning:\n",
      "\n",
      "invalid value encountered in double_scalars\n",
      "\n"
     ]
    },
    {
     "data": {
      "text/html": [
       "<div>\n",
       "<style scoped>\n",
       "    .dataframe tbody tr th:only-of-type {\n",
       "        vertical-align: middle;\n",
       "    }\n",
       "\n",
       "    .dataframe tbody tr th {\n",
       "        vertical-align: top;\n",
       "    }\n",
       "\n",
       "    .dataframe thead th {\n",
       "        text-align: right;\n",
       "    }\n",
       "</style>\n",
       "<table border=\"1\" class=\"dataframe\">\n",
       "  <thead>\n",
       "    <tr style=\"text-align: right;\">\n",
       "      <th></th>\n",
       "      <th>Ns</th>\n",
       "      <th>basepairs</th>\n",
       "      <th>contigs</th>\n",
       "      <th>filtered_Ns</th>\n",
       "      <th>filtered_basepairs</th>\n",
       "      <th>filtered_contigs</th>\n",
       "      <th>filtered_mapped_reads</th>\n",
       "      <th>filtered_n50</th>\n",
       "      <th>mapped_reads</th>\n",
       "      <th>max_contig</th>\n",
       "      <th>misassembled contigs</th>\n",
       "      <th>misassembly events</th>\n",
       "      <th>n50</th>\n",
       "    </tr>\n",
       "    <tr>\n",
       "      <th>Assembler Type</th>\n",
       "      <th></th>\n",
       "      <th></th>\n",
       "      <th></th>\n",
       "      <th></th>\n",
       "      <th></th>\n",
       "      <th></th>\n",
       "      <th></th>\n",
       "      <th></th>\n",
       "      <th></th>\n",
       "      <th></th>\n",
       "      <th></th>\n",
       "      <th></th>\n",
       "      <th></th>\n",
       "    </tr>\n",
       "  </thead>\n",
       "  <tbody>\n",
       "    <tr>\n",
       "      <th>Metagenomic</th>\n",
       "      <td>1.0</td>\n",
       "      <td>0.988772</td>\n",
       "      <td>0.000000</td>\n",
       "      <td>1.0</td>\n",
       "      <td>0.982943</td>\n",
       "      <td>0.000000</td>\n",
       "      <td>1.00000</td>\n",
       "      <td>0.852761</td>\n",
       "      <td>1.000000</td>\n",
       "      <td>0.703845</td>\n",
       "      <td>0.0</td>\n",
       "      <td>0.0</td>\n",
       "      <td>0.852761</td>\n",
       "    </tr>\n",
       "    <tr>\n",
       "      <th>Genomic</th>\n",
       "      <td>1.0</td>\n",
       "      <td>0.990897</td>\n",
       "      <td>0.137976</td>\n",
       "      <td>1.0</td>\n",
       "      <td>0.980877</td>\n",
       "      <td>0.084932</td>\n",
       "      <td>0.99631</td>\n",
       "      <td>1.000000</td>\n",
       "      <td>0.996434</td>\n",
       "      <td>1.000000</td>\n",
       "      <td>1.0</td>\n",
       "      <td>1.0</td>\n",
       "      <td>1.000000</td>\n",
       "    </tr>\n",
       "  </tbody>\n",
       "</table>\n",
       "</div>"
      ],
      "text/plain": [
       "                 Ns  basepairs   contigs  filtered_Ns  filtered_basepairs  \\\n",
       "Assembler Type                                                              \n",
       "Metagenomic     1.0   0.988772  0.000000          1.0            0.982943   \n",
       "Genomic         1.0   0.990897  0.137976          1.0            0.980877   \n",
       "\n",
       "                filtered_contigs  filtered_mapped_reads  filtered_n50  \\\n",
       "Assembler Type                                                          \n",
       "Metagenomic             0.000000                1.00000      0.852761   \n",
       "Genomic                 0.084932                0.99631      1.000000   \n",
       "\n",
       "                mapped_reads  max_contig  misassembled contigs  \\\n",
       "Assembler Type                                                   \n",
       "Metagenomic         1.000000    0.703845                   0.0   \n",
       "Genomic             0.996434    1.000000                   1.0   \n",
       "\n",
       "                misassembly events       n50  \n",
       "Assembler Type                                \n",
       "Metagenomic                    0.0  0.852761  \n",
       "Genomic                        1.0  1.000000  "
      ]
     },
     "metadata": {},
     "output_type": "display_data"
    },
    {
     "name": "stdout",
     "output_type": "stream",
     "text": [
      "ERR2984773\n"
     ]
    },
    {
     "name": "stderr",
     "output_type": "stream",
     "text": [
      "/tmp/ipykernel_26047/3732949389.py:23: RuntimeWarning:\n",
      "\n",
      "invalid value encountered in double_scalars\n",
      "\n"
     ]
    },
    {
     "data": {
      "text/html": [
       "<div>\n",
       "<style scoped>\n",
       "    .dataframe tbody tr th:only-of-type {\n",
       "        vertical-align: middle;\n",
       "    }\n",
       "\n",
       "    .dataframe tbody tr th {\n",
       "        vertical-align: top;\n",
       "    }\n",
       "\n",
       "    .dataframe thead th {\n",
       "        text-align: right;\n",
       "    }\n",
       "</style>\n",
       "<table border=\"1\" class=\"dataframe\">\n",
       "  <thead>\n",
       "    <tr style=\"text-align: right;\">\n",
       "      <th></th>\n",
       "      <th>Ns</th>\n",
       "      <th>basepairs</th>\n",
       "      <th>contigs</th>\n",
       "      <th>filtered_Ns</th>\n",
       "      <th>filtered_basepairs</th>\n",
       "      <th>filtered_contigs</th>\n",
       "      <th>filtered_mapped_reads</th>\n",
       "      <th>filtered_n50</th>\n",
       "      <th>mapped_reads</th>\n",
       "      <th>max_contig</th>\n",
       "      <th>misassembled contigs</th>\n",
       "      <th>misassembly events</th>\n",
       "      <th>n50</th>\n",
       "    </tr>\n",
       "    <tr>\n",
       "      <th>Assembler Type</th>\n",
       "      <th></th>\n",
       "      <th></th>\n",
       "      <th></th>\n",
       "      <th></th>\n",
       "      <th></th>\n",
       "      <th></th>\n",
       "      <th></th>\n",
       "      <th></th>\n",
       "      <th></th>\n",
       "      <th></th>\n",
       "      <th></th>\n",
       "      <th></th>\n",
       "      <th></th>\n",
       "    </tr>\n",
       "  </thead>\n",
       "  <tbody>\n",
       "    <tr>\n",
       "      <th>Metagenomic</th>\n",
       "      <td>1.0</td>\n",
       "      <td>0.060185</td>\n",
       "      <td>0.000000</td>\n",
       "      <td>1.0</td>\n",
       "      <td>0.987650</td>\n",
       "      <td>0.000000</td>\n",
       "      <td>1.000000</td>\n",
       "      <td>0.78277</td>\n",
       "      <td>1.000000</td>\n",
       "      <td>1.000000</td>\n",
       "      <td>0.0</td>\n",
       "      <td>0.0</td>\n",
       "      <td>0.533449</td>\n",
       "    </tr>\n",
       "    <tr>\n",
       "      <th>Genomic</th>\n",
       "      <td>1.0</td>\n",
       "      <td>0.988573</td>\n",
       "      <td>0.834167</td>\n",
       "      <td>1.0</td>\n",
       "      <td>0.983375</td>\n",
       "      <td>0.441524</td>\n",
       "      <td>0.985069</td>\n",
       "      <td>1.00000</td>\n",
       "      <td>0.998557</td>\n",
       "      <td>0.731592</td>\n",
       "      <td>1.0</td>\n",
       "      <td>1.0</td>\n",
       "      <td>1.000000</td>\n",
       "    </tr>\n",
       "  </tbody>\n",
       "</table>\n",
       "</div>"
      ],
      "text/plain": [
       "                 Ns  basepairs   contigs  filtered_Ns  filtered_basepairs  \\\n",
       "Assembler Type                                                              \n",
       "Metagenomic     1.0   0.060185  0.000000          1.0            0.987650   \n",
       "Genomic         1.0   0.988573  0.834167          1.0            0.983375   \n",
       "\n",
       "                filtered_contigs  filtered_mapped_reads  filtered_n50  \\\n",
       "Assembler Type                                                          \n",
       "Metagenomic             0.000000               1.000000       0.78277   \n",
       "Genomic                 0.441524               0.985069       1.00000   \n",
       "\n",
       "                mapped_reads  max_contig  misassembled contigs  \\\n",
       "Assembler Type                                                   \n",
       "Metagenomic         1.000000    1.000000                   0.0   \n",
       "Genomic             0.998557    0.731592                   1.0   \n",
       "\n",
       "                misassembly events       n50  \n",
       "Assembler Type                                \n",
       "Metagenomic                    0.0  0.533449  \n",
       "Genomic                        1.0  1.000000  "
      ]
     },
     "metadata": {},
     "output_type": "display_data"
    },
    {
     "name": "stdout",
     "output_type": "stream",
     "text": [
      "ENN\n"
     ]
    },
    {
     "name": "stderr",
     "output_type": "stream",
     "text": [
      "/tmp/ipykernel_26047/3732949389.py:23: RuntimeWarning:\n",
      "\n",
      "invalid value encountered in double_scalars\n",
      "\n"
     ]
    },
    {
     "data": {
      "text/html": [
       "<div>\n",
       "<style scoped>\n",
       "    .dataframe tbody tr th:only-of-type {\n",
       "        vertical-align: middle;\n",
       "    }\n",
       "\n",
       "    .dataframe tbody tr th {\n",
       "        vertical-align: top;\n",
       "    }\n",
       "\n",
       "    .dataframe thead th {\n",
       "        text-align: right;\n",
       "    }\n",
       "</style>\n",
       "<table border=\"1\" class=\"dataframe\">\n",
       "  <thead>\n",
       "    <tr style=\"text-align: right;\">\n",
       "      <th></th>\n",
       "      <th>Ns</th>\n",
       "      <th>basepairs</th>\n",
       "      <th>contigs</th>\n",
       "      <th>filtered_Ns</th>\n",
       "      <th>filtered_basepairs</th>\n",
       "      <th>filtered_contigs</th>\n",
       "      <th>filtered_mapped_reads</th>\n",
       "      <th>filtered_n50</th>\n",
       "      <th>mapped_reads</th>\n",
       "      <th>max_contig</th>\n",
       "      <th>misassembled contigs</th>\n",
       "      <th>misassembly events</th>\n",
       "      <th>n50</th>\n",
       "    </tr>\n",
       "    <tr>\n",
       "      <th>Assembler Type</th>\n",
       "      <th></th>\n",
       "      <th></th>\n",
       "      <th></th>\n",
       "      <th></th>\n",
       "      <th></th>\n",
       "      <th></th>\n",
       "      <th></th>\n",
       "      <th></th>\n",
       "      <th></th>\n",
       "      <th></th>\n",
       "      <th></th>\n",
       "      <th></th>\n",
       "      <th></th>\n",
       "    </tr>\n",
       "  </thead>\n",
       "  <tbody>\n",
       "    <tr>\n",
       "      <th>Metagenomic</th>\n",
       "      <td>1.0</td>\n",
       "      <td>0.987037</td>\n",
       "      <td>0.316239</td>\n",
       "      <td>1.0</td>\n",
       "      <td>0.982993</td>\n",
       "      <td>0.189616</td>\n",
       "      <td>1.000000</td>\n",
       "      <td>1.000000</td>\n",
       "      <td>1.000000</td>\n",
       "      <td>1.000000</td>\n",
       "      <td>0.0</td>\n",
       "      <td>0.0</td>\n",
       "      <td>1.000000</td>\n",
       "    </tr>\n",
       "    <tr>\n",
       "      <th>Genomic</th>\n",
       "      <td>1.0</td>\n",
       "      <td>0.983718</td>\n",
       "      <td>0.000000</td>\n",
       "      <td>1.0</td>\n",
       "      <td>0.978338</td>\n",
       "      <td>0.000000</td>\n",
       "      <td>0.991681</td>\n",
       "      <td>0.875706</td>\n",
       "      <td>0.997248</td>\n",
       "      <td>0.819851</td>\n",
       "      <td>1.0</td>\n",
       "      <td>1.0</td>\n",
       "      <td>0.856964</td>\n",
       "    </tr>\n",
       "  </tbody>\n",
       "</table>\n",
       "</div>"
      ],
      "text/plain": [
       "                 Ns  basepairs   contigs  filtered_Ns  filtered_basepairs  \\\n",
       "Assembler Type                                                              \n",
       "Metagenomic     1.0   0.987037  0.316239          1.0            0.982993   \n",
       "Genomic         1.0   0.983718  0.000000          1.0            0.978338   \n",
       "\n",
       "                filtered_contigs  filtered_mapped_reads  filtered_n50  \\\n",
       "Assembler Type                                                          \n",
       "Metagenomic             0.189616               1.000000      1.000000   \n",
       "Genomic                 0.000000               0.991681      0.875706   \n",
       "\n",
       "                mapped_reads  max_contig  misassembled contigs  \\\n",
       "Assembler Type                                                   \n",
       "Metagenomic         1.000000    1.000000                   0.0   \n",
       "Genomic             0.997248    0.819851                   1.0   \n",
       "\n",
       "                misassembly events       n50  \n",
       "Assembler Type                                \n",
       "Metagenomic                    0.0  1.000000  \n",
       "Genomic                        1.0  0.856964  "
      ]
     },
     "metadata": {},
     "output_type": "display_data"
    }
   ],
   "source": [
    "rank_dfs = []\n",
    "\n",
    "for sample,df in best_stats_dfs:\n",
    "    print(sample)\n",
    "    \n",
    "    rank_df = pd.DataFrame(index=df.index)\n",
    "    \n",
    "    for column in df.columns:\n",
    "        rank_list = []\n",
    "        \n",
    "        if \"basepairs\" in column:\n",
    "            target = 30946587\n",
    "            for item in df[column]:\n",
    "                diff = item / target\n",
    "                if 1 < diff < 1.99999:\n",
    "                    diff = diff - 1\n",
    "                elif diff > 1.99999:\n",
    "                    diff = 0\n",
    "                rank_list.append(diff)\n",
    "            rank_df[column] = rank_list\n",
    "        else:    \n",
    "            if column in best_min:\n",
    "                for item in df[column]:\n",
    "                    diff = 1 - (item / df[column].max())\n",
    "                    rank_list.append(diff)\n",
    "            else:\n",
    "                for item in df[column]:\n",
    "                    diff = (item / df[column].max())\n",
    "                    rank_list.append(diff)\n",
    "\n",
    "            rank_df[column] = rank_list\n",
    "    \n",
    "    # in case assembly fails\n",
    "    for assembler, row in df.iterrows():\n",
    "        if row.sum() == 0:\n",
    "            rank_df.at[assembler, :]=0\n",
    "\n",
    "    rank_df = rank_df.fillna(1) #happens when all values are 0\n",
    "    display(rank_df) \n",
    "    rank_df.to_csv(\"Tables/Results/Rank Global metrics per assembler - {}.csv\".format(sample))\n",
    "    rank_dfs.append([sample, rank_df])\n",
    "            "
   ]
  },
  {
   "cell_type": "code",
   "execution_count": 20,
   "id": "98fad771",
   "metadata": {},
   "outputs": [
    {
     "data": {
      "application/vnd.plotly.v1+json": {
       "config": {
        "plotlyServerURL": "https://plot.ly"
       },
       "data": [
        {
         "fill": "toself",
         "line": {
          "color": "#930001"
         },
         "marker": {
          "color": "#930001",
          "line": {
           "color": "black",
           "width": 2
          },
          "size": 12
         },
         "mode": "lines+markers",
         "name": "Metagenomic",
         "opacity": 0.6,
         "r": [
          0,
          0.501337934293045,
          1,
          0.9090268535191419,
          1,
          1
         ],
         "showlegend": true,
         "subplot": "polar",
         "theta": [
          "Contigs",
          "Basepairs",
          "Largest contig",
          "N50",
          "% Mapped reads",
          "Uncalled bases"
         ],
         "type": "scatterpolar"
        },
        {
         "fill": "toself",
         "line": {
          "color": "#930001"
         },
         "marker": {
          "color": "#930001",
          "line": {
           "color": "black",
           "width": 2
          },
          "size": 12
         },
         "mode": "lines+markers",
         "name": "Metagenomic",
         "opacity": 0.6,
         "r": [
          0,
          0.44284492503163597,
          0.9855698904350048,
          1,
          1,
          0,
          0
         ],
         "showlegend": false,
         "subplot": "polar2",
         "theta": [
          "Contigs",
          "Basepairs",
          "N50",
          "% Mapped reads",
          "Uncalled bases",
          "Misassembled contigs",
          "Misassembly events"
         ],
         "type": "scatterpolar"
        },
        {
         "fill": "toself",
         "line": {
          "color": "#009392"
         },
         "marker": {
          "color": "#009392",
          "line": {
           "color": "black",
           "width": 2
          },
          "size": 12
         },
         "mode": "lines+markers",
         "name": "Genomic",
         "opacity": 0.6,
         "r": [
          0.733044733044733,
          0.5042965481136902,
          0.784744257708009,
          1,
          0.999157364301145,
          1
         ],
         "showlegend": true,
         "subplot": "polar",
         "theta": [
          "Contigs",
          "Basepairs",
          "Largest contig",
          "N50",
          "% Mapped reads",
          "Uncalled bases"
         ],
         "type": "scatterpolar"
        },
        {
         "fill": "toself",
         "line": {
          "color": "#009392"
         },
         "marker": {
          "color": "#009392",
          "line": {
           "color": "black",
           "width": 2
          },
          "size": 12
         },
         "mode": "lines+markers",
         "name": "Genomic",
         "opacity": 0.6,
         "r": [
          0.19424460431654678,
          0.44077041516726867,
          1,
          0.9990468884852816,
          1,
          1,
          1
         ],
         "showlegend": false,
         "subplot": "polar2",
         "theta": [
          "Contigs",
          "Basepairs",
          "N50",
          "% Mapped reads",
          "Uncalled bases",
          "Misassembled contigs",
          "Misassembly events"
         ],
         "type": "scatterpolar"
        }
       ],
       "layout": {
        "annotations": [
         {
          "font": {
           "size": 16
          },
          "showarrow": false,
          "text": "Original",
          "x": 0.225,
          "xanchor": "center",
          "xref": "paper",
          "y": 1,
          "yanchor": "bottom",
          "yref": "paper"
         },
         {
          "font": {
           "size": 16
          },
          "showarrow": false,
          "text": "Filtered",
          "x": 0.775,
          "xanchor": "center",
          "xref": "paper",
          "y": 1,
          "yanchor": "bottom",
          "yref": "paper"
         }
        ],
        "legend": {
         "orientation": "h",
         "x": 0,
         "xanchor": "left",
         "y": -0.5,
         "yanchor": "bottom"
        },
        "polar": {
         "angularaxis": {
          "categoryarray": [
           "Contigs",
           "Basepairs",
           "Largest contig",
           "N50",
           "% Mapped reads",
           "Uncalled bases"
          ],
          "linecolor": "black"
         },
         "bgcolor": "rgb(255,255,255)",
         "domain": {
          "x": [
           0,
           0.45
          ],
          "y": [
           0,
           1
          ]
         },
         "hole": 0.08333333333333333,
         "radialaxis": {
          "angle": -22.5,
          "gridcolor": "#DCDCDC",
          "linecolor": "black",
          "linewidth": 2,
          "range": [
           0,
           1
          ],
          "visible": true
         }
        },
        "polar2": {
         "angularaxis": {
          "categoryarray": [
           "Contigs",
           "Basepairs",
           "N50",
           "% Mapped reads",
           "Uncalled bases",
           "Misassembled contigs",
           "Misassembly events"
          ],
          "linecolor": "black"
         },
         "bgcolor": "rgb(255,255,255)",
         "domain": {
          "x": [
           0.55,
           1
          ],
          "y": [
           0,
           1
          ]
         },
         "hole": 0.08333333333333333,
         "radialaxis": {
          "angle": -22.5,
          "gridcolor": "#DCDCDC",
          "linecolor": "black",
          "linewidth": 2,
          "range": [
           0,
           1
          ],
          "visible": true
         }
        },
        "template": {
         "data": {
          "bar": [
           {
            "error_x": {
             "color": "#2a3f5f"
            },
            "error_y": {
             "color": "#2a3f5f"
            },
            "marker": {
             "line": {
              "color": "#E5ECF6",
              "width": 0.5
             },
             "pattern": {
              "fillmode": "overlay",
              "size": 10,
              "solidity": 0.2
             }
            },
            "type": "bar"
           }
          ],
          "barpolar": [
           {
            "marker": {
             "line": {
              "color": "#E5ECF6",
              "width": 0.5
             },
             "pattern": {
              "fillmode": "overlay",
              "size": 10,
              "solidity": 0.2
             }
            },
            "type": "barpolar"
           }
          ],
          "carpet": [
           {
            "aaxis": {
             "endlinecolor": "#2a3f5f",
             "gridcolor": "white",
             "linecolor": "white",
             "minorgridcolor": "white",
             "startlinecolor": "#2a3f5f"
            },
            "baxis": {
             "endlinecolor": "#2a3f5f",
             "gridcolor": "white",
             "linecolor": "white",
             "minorgridcolor": "white",
             "startlinecolor": "#2a3f5f"
            },
            "type": "carpet"
           }
          ],
          "choropleth": [
           {
            "colorbar": {
             "outlinewidth": 0,
             "ticks": ""
            },
            "type": "choropleth"
           }
          ],
          "contour": [
           {
            "colorbar": {
             "outlinewidth": 0,
             "ticks": ""
            },
            "colorscale": [
             [
              0,
              "#0d0887"
             ],
             [
              0.1111111111111111,
              "#46039f"
             ],
             [
              0.2222222222222222,
              "#7201a8"
             ],
             [
              0.3333333333333333,
              "#9c179e"
             ],
             [
              0.4444444444444444,
              "#bd3786"
             ],
             [
              0.5555555555555556,
              "#d8576b"
             ],
             [
              0.6666666666666666,
              "#ed7953"
             ],
             [
              0.7777777777777778,
              "#fb9f3a"
             ],
             [
              0.8888888888888888,
              "#fdca26"
             ],
             [
              1,
              "#f0f921"
             ]
            ],
            "type": "contour"
           }
          ],
          "contourcarpet": [
           {
            "colorbar": {
             "outlinewidth": 0,
             "ticks": ""
            },
            "type": "contourcarpet"
           }
          ],
          "heatmap": [
           {
            "colorbar": {
             "outlinewidth": 0,
             "ticks": ""
            },
            "colorscale": [
             [
              0,
              "#0d0887"
             ],
             [
              0.1111111111111111,
              "#46039f"
             ],
             [
              0.2222222222222222,
              "#7201a8"
             ],
             [
              0.3333333333333333,
              "#9c179e"
             ],
             [
              0.4444444444444444,
              "#bd3786"
             ],
             [
              0.5555555555555556,
              "#d8576b"
             ],
             [
              0.6666666666666666,
              "#ed7953"
             ],
             [
              0.7777777777777778,
              "#fb9f3a"
             ],
             [
              0.8888888888888888,
              "#fdca26"
             ],
             [
              1,
              "#f0f921"
             ]
            ],
            "type": "heatmap"
           }
          ],
          "heatmapgl": [
           {
            "colorbar": {
             "outlinewidth": 0,
             "ticks": ""
            },
            "colorscale": [
             [
              0,
              "#0d0887"
             ],
             [
              0.1111111111111111,
              "#46039f"
             ],
             [
              0.2222222222222222,
              "#7201a8"
             ],
             [
              0.3333333333333333,
              "#9c179e"
             ],
             [
              0.4444444444444444,
              "#bd3786"
             ],
             [
              0.5555555555555556,
              "#d8576b"
             ],
             [
              0.6666666666666666,
              "#ed7953"
             ],
             [
              0.7777777777777778,
              "#fb9f3a"
             ],
             [
              0.8888888888888888,
              "#fdca26"
             ],
             [
              1,
              "#f0f921"
             ]
            ],
            "type": "heatmapgl"
           }
          ],
          "histogram": [
           {
            "marker": {
             "pattern": {
              "fillmode": "overlay",
              "size": 10,
              "solidity": 0.2
             }
            },
            "type": "histogram"
           }
          ],
          "histogram2d": [
           {
            "colorbar": {
             "outlinewidth": 0,
             "ticks": ""
            },
            "colorscale": [
             [
              0,
              "#0d0887"
             ],
             [
              0.1111111111111111,
              "#46039f"
             ],
             [
              0.2222222222222222,
              "#7201a8"
             ],
             [
              0.3333333333333333,
              "#9c179e"
             ],
             [
              0.4444444444444444,
              "#bd3786"
             ],
             [
              0.5555555555555556,
              "#d8576b"
             ],
             [
              0.6666666666666666,
              "#ed7953"
             ],
             [
              0.7777777777777778,
              "#fb9f3a"
             ],
             [
              0.8888888888888888,
              "#fdca26"
             ],
             [
              1,
              "#f0f921"
             ]
            ],
            "type": "histogram2d"
           }
          ],
          "histogram2dcontour": [
           {
            "colorbar": {
             "outlinewidth": 0,
             "ticks": ""
            },
            "colorscale": [
             [
              0,
              "#0d0887"
             ],
             [
              0.1111111111111111,
              "#46039f"
             ],
             [
              0.2222222222222222,
              "#7201a8"
             ],
             [
              0.3333333333333333,
              "#9c179e"
             ],
             [
              0.4444444444444444,
              "#bd3786"
             ],
             [
              0.5555555555555556,
              "#d8576b"
             ],
             [
              0.6666666666666666,
              "#ed7953"
             ],
             [
              0.7777777777777778,
              "#fb9f3a"
             ],
             [
              0.8888888888888888,
              "#fdca26"
             ],
             [
              1,
              "#f0f921"
             ]
            ],
            "type": "histogram2dcontour"
           }
          ],
          "mesh3d": [
           {
            "colorbar": {
             "outlinewidth": 0,
             "ticks": ""
            },
            "type": "mesh3d"
           }
          ],
          "parcoords": [
           {
            "line": {
             "colorbar": {
              "outlinewidth": 0,
              "ticks": ""
             }
            },
            "type": "parcoords"
           }
          ],
          "pie": [
           {
            "automargin": true,
            "type": "pie"
           }
          ],
          "scatter": [
           {
            "marker": {
             "colorbar": {
              "outlinewidth": 0,
              "ticks": ""
             }
            },
            "type": "scatter"
           }
          ],
          "scatter3d": [
           {
            "line": {
             "colorbar": {
              "outlinewidth": 0,
              "ticks": ""
             }
            },
            "marker": {
             "colorbar": {
              "outlinewidth": 0,
              "ticks": ""
             }
            },
            "type": "scatter3d"
           }
          ],
          "scattercarpet": [
           {
            "marker": {
             "colorbar": {
              "outlinewidth": 0,
              "ticks": ""
             }
            },
            "type": "scattercarpet"
           }
          ],
          "scattergeo": [
           {
            "marker": {
             "colorbar": {
              "outlinewidth": 0,
              "ticks": ""
             }
            },
            "type": "scattergeo"
           }
          ],
          "scattergl": [
           {
            "marker": {
             "colorbar": {
              "outlinewidth": 0,
              "ticks": ""
             }
            },
            "type": "scattergl"
           }
          ],
          "scattermapbox": [
           {
            "marker": {
             "colorbar": {
              "outlinewidth": 0,
              "ticks": ""
             }
            },
            "type": "scattermapbox"
           }
          ],
          "scatterpolar": [
           {
            "marker": {
             "colorbar": {
              "outlinewidth": 0,
              "ticks": ""
             }
            },
            "type": "scatterpolar"
           }
          ],
          "scatterpolargl": [
           {
            "marker": {
             "colorbar": {
              "outlinewidth": 0,
              "ticks": ""
             }
            },
            "type": "scatterpolargl"
           }
          ],
          "scatterternary": [
           {
            "marker": {
             "colorbar": {
              "outlinewidth": 0,
              "ticks": ""
             }
            },
            "type": "scatterternary"
           }
          ],
          "surface": [
           {
            "colorbar": {
             "outlinewidth": 0,
             "ticks": ""
            },
            "colorscale": [
             [
              0,
              "#0d0887"
             ],
             [
              0.1111111111111111,
              "#46039f"
             ],
             [
              0.2222222222222222,
              "#7201a8"
             ],
             [
              0.3333333333333333,
              "#9c179e"
             ],
             [
              0.4444444444444444,
              "#bd3786"
             ],
             [
              0.5555555555555556,
              "#d8576b"
             ],
             [
              0.6666666666666666,
              "#ed7953"
             ],
             [
              0.7777777777777778,
              "#fb9f3a"
             ],
             [
              0.8888888888888888,
              "#fdca26"
             ],
             [
              1,
              "#f0f921"
             ]
            ],
            "type": "surface"
           }
          ],
          "table": [
           {
            "cells": {
             "fill": {
              "color": "#EBF0F8"
             },
             "line": {
              "color": "white"
             }
            },
            "header": {
             "fill": {
              "color": "#C8D4E3"
             },
             "line": {
              "color": "white"
             }
            },
            "type": "table"
           }
          ]
         },
         "layout": {
          "annotationdefaults": {
           "arrowcolor": "#2a3f5f",
           "arrowhead": 0,
           "arrowwidth": 1
          },
          "autotypenumbers": "strict",
          "coloraxis": {
           "colorbar": {
            "outlinewidth": 0,
            "ticks": ""
           }
          },
          "colorscale": {
           "diverging": [
            [
             0,
             "#8e0152"
            ],
            [
             0.1,
             "#c51b7d"
            ],
            [
             0.2,
             "#de77ae"
            ],
            [
             0.3,
             "#f1b6da"
            ],
            [
             0.4,
             "#fde0ef"
            ],
            [
             0.5,
             "#f7f7f7"
            ],
            [
             0.6,
             "#e6f5d0"
            ],
            [
             0.7,
             "#b8e186"
            ],
            [
             0.8,
             "#7fbc41"
            ],
            [
             0.9,
             "#4d9221"
            ],
            [
             1,
             "#276419"
            ]
           ],
           "sequential": [
            [
             0,
             "#0d0887"
            ],
            [
             0.1111111111111111,
             "#46039f"
            ],
            [
             0.2222222222222222,
             "#7201a8"
            ],
            [
             0.3333333333333333,
             "#9c179e"
            ],
            [
             0.4444444444444444,
             "#bd3786"
            ],
            [
             0.5555555555555556,
             "#d8576b"
            ],
            [
             0.6666666666666666,
             "#ed7953"
            ],
            [
             0.7777777777777778,
             "#fb9f3a"
            ],
            [
             0.8888888888888888,
             "#fdca26"
            ],
            [
             1,
             "#f0f921"
            ]
           ],
           "sequentialminus": [
            [
             0,
             "#0d0887"
            ],
            [
             0.1111111111111111,
             "#46039f"
            ],
            [
             0.2222222222222222,
             "#7201a8"
            ],
            [
             0.3333333333333333,
             "#9c179e"
            ],
            [
             0.4444444444444444,
             "#bd3786"
            ],
            [
             0.5555555555555556,
             "#d8576b"
            ],
            [
             0.6666666666666666,
             "#ed7953"
            ],
            [
             0.7777777777777778,
             "#fb9f3a"
            ],
            [
             0.8888888888888888,
             "#fdca26"
            ],
            [
             1,
             "#f0f921"
            ]
           ]
          },
          "colorway": [
           "#636efa",
           "#EF553B",
           "#00cc96",
           "#ab63fa",
           "#FFA15A",
           "#19d3f3",
           "#FF6692",
           "#B6E880",
           "#FF97FF",
           "#FECB52"
          ],
          "font": {
           "color": "#2a3f5f"
          },
          "geo": {
           "bgcolor": "white",
           "lakecolor": "white",
           "landcolor": "#E5ECF6",
           "showlakes": true,
           "showland": true,
           "subunitcolor": "white"
          },
          "hoverlabel": {
           "align": "left"
          },
          "hovermode": "closest",
          "mapbox": {
           "style": "light"
          },
          "paper_bgcolor": "white",
          "plot_bgcolor": "#E5ECF6",
          "polar": {
           "angularaxis": {
            "gridcolor": "white",
            "linecolor": "white",
            "ticks": ""
           },
           "bgcolor": "#E5ECF6",
           "radialaxis": {
            "gridcolor": "white",
            "linecolor": "white",
            "ticks": ""
           }
          },
          "scene": {
           "xaxis": {
            "backgroundcolor": "#E5ECF6",
            "gridcolor": "white",
            "gridwidth": 2,
            "linecolor": "white",
            "showbackground": true,
            "ticks": "",
            "zerolinecolor": "white"
           },
           "yaxis": {
            "backgroundcolor": "#E5ECF6",
            "gridcolor": "white",
            "gridwidth": 2,
            "linecolor": "white",
            "showbackground": true,
            "ticks": "",
            "zerolinecolor": "white"
           },
           "zaxis": {
            "backgroundcolor": "#E5ECF6",
            "gridcolor": "white",
            "gridwidth": 2,
            "linecolor": "white",
            "showbackground": true,
            "ticks": "",
            "zerolinecolor": "white"
           }
          },
          "shapedefaults": {
           "line": {
            "color": "#2a3f5f"
           }
          },
          "ternary": {
           "aaxis": {
            "gridcolor": "white",
            "linecolor": "white",
            "ticks": ""
           },
           "baxis": {
            "gridcolor": "white",
            "linecolor": "white",
            "ticks": ""
           },
           "bgcolor": "#E5ECF6",
           "caxis": {
            "gridcolor": "white",
            "linecolor": "white",
            "ticks": ""
           }
          },
          "title": {
           "x": 0.05
          },
          "xaxis": {
           "automargin": true,
           "gridcolor": "white",
           "linecolor": "white",
           "ticks": "",
           "title": {
            "standoff": 15
           },
           "zerolinecolor": "white",
           "zerolinewidth": 2
          },
          "yaxis": {
           "automargin": true,
           "gridcolor": "white",
           "linecolor": "white",
           "ticks": "",
           "title": {
            "standoff": 15
           },
           "zerolinecolor": "white",
           "zerolinewidth": 2
          }
         }
        },
        "title": {
         "text": "LNN"
        }
       }
      },
      "text/html": [
       "<div>                            <div id=\"fa49f419-4339-4a4e-92ae-7fe1f11e9b01\" class=\"plotly-graph-div\" style=\"height:525px; width:100%;\"></div>            <script type=\"text/javascript\">                require([\"plotly\"], function(Plotly) {                    window.PLOTLYENV=window.PLOTLYENV || {};                                    if (document.getElementById(\"fa49f419-4339-4a4e-92ae-7fe1f11e9b01\")) {                    Plotly.newPlot(                        \"fa49f419-4339-4a4e-92ae-7fe1f11e9b01\",                        [{\"fill\":\"toself\",\"line\":{\"color\":\"#930001\"},\"marker\":{\"color\":\"#930001\",\"line\":{\"color\":\"black\",\"width\":2},\"size\":12},\"mode\":\"lines+markers\",\"name\":\"Metagenomic\",\"opacity\":0.6,\"r\":[0.0,0.501337934293045,1.0,0.9090268535191419,1.0,1.0],\"showlegend\":true,\"subplot\":\"polar\",\"theta\":[\"Contigs\",\"Basepairs\",\"Largest contig\",\"N50\",\"% Mapped reads\",\"Uncalled bases\"],\"type\":\"scatterpolar\"},{\"fill\":\"toself\",\"line\":{\"color\":\"#930001\"},\"marker\":{\"color\":\"#930001\",\"line\":{\"color\":\"black\",\"width\":2},\"size\":12},\"mode\":\"lines+markers\",\"name\":\"Metagenomic\",\"opacity\":0.6,\"r\":[0.0,0.44284492503163597,0.9855698904350048,1.0,1.0,0.0,0.0],\"showlegend\":false,\"subplot\":\"polar2\",\"theta\":[\"Contigs\",\"Basepairs\",\"N50\",\"% Mapped reads\",\"Uncalled bases\",\"Misassembled contigs\",\"Misassembly events\"],\"type\":\"scatterpolar\"},{\"fill\":\"toself\",\"line\":{\"color\":\"#009392\"},\"marker\":{\"color\":\"#009392\",\"line\":{\"color\":\"black\",\"width\":2},\"size\":12},\"mode\":\"lines+markers\",\"name\":\"Genomic\",\"opacity\":0.6,\"r\":[0.733044733044733,0.5042965481136902,0.784744257708009,1.0,0.999157364301145,1.0],\"showlegend\":true,\"subplot\":\"polar\",\"theta\":[\"Contigs\",\"Basepairs\",\"Largest contig\",\"N50\",\"% Mapped reads\",\"Uncalled bases\"],\"type\":\"scatterpolar\"},{\"fill\":\"toself\",\"line\":{\"color\":\"#009392\"},\"marker\":{\"color\":\"#009392\",\"line\":{\"color\":\"black\",\"width\":2},\"size\":12},\"mode\":\"lines+markers\",\"name\":\"Genomic\",\"opacity\":0.6,\"r\":[0.19424460431654678,0.44077041516726867,1.0,0.9990468884852816,1.0,1.0,1.0],\"showlegend\":false,\"subplot\":\"polar2\",\"theta\":[\"Contigs\",\"Basepairs\",\"N50\",\"% Mapped reads\",\"Uncalled bases\",\"Misassembled contigs\",\"Misassembly events\"],\"type\":\"scatterpolar\"}],                        {\"annotations\":[{\"font\":{\"size\":16},\"showarrow\":false,\"text\":\"Original\",\"x\":0.225,\"xanchor\":\"center\",\"xref\":\"paper\",\"y\":1.0,\"yanchor\":\"bottom\",\"yref\":\"paper\"},{\"font\":{\"size\":16},\"showarrow\":false,\"text\":\"Filtered\",\"x\":0.775,\"xanchor\":\"center\",\"xref\":\"paper\",\"y\":1.0,\"yanchor\":\"bottom\",\"yref\":\"paper\"}],\"legend\":{\"orientation\":\"h\",\"x\":0,\"xanchor\":\"left\",\"y\":-0.5,\"yanchor\":\"bottom\"},\"polar\":{\"angularaxis\":{\"categoryarray\":[\"Contigs\",\"Basepairs\",\"Largest contig\",\"N50\",\"% Mapped reads\",\"Uncalled bases\"],\"linecolor\":\"black\"},\"bgcolor\":\"rgb(255,255,255)\",\"domain\":{\"x\":[0.0,0.45],\"y\":[0.0,1.0]},\"hole\":0.08333333333333333,\"radialaxis\":{\"angle\":-22.5,\"gridcolor\":\"#DCDCDC\",\"linecolor\":\"black\",\"linewidth\":2,\"range\":[0,1],\"visible\":true}},\"polar2\":{\"angularaxis\":{\"categoryarray\":[\"Contigs\",\"Basepairs\",\"N50\",\"% Mapped reads\",\"Uncalled bases\",\"Misassembled contigs\",\"Misassembly events\"],\"linecolor\":\"black\"},\"bgcolor\":\"rgb(255,255,255)\",\"domain\":{\"x\":[0.55,1.0],\"y\":[0.0,1.0]},\"hole\":0.08333333333333333,\"radialaxis\":{\"angle\":-22.5,\"gridcolor\":\"#DCDCDC\",\"linecolor\":\"black\",\"linewidth\":2,\"range\":[0,1],\"visible\":true}},\"template\":{\"data\":{\"bar\":[{\"error_x\":{\"color\":\"#2a3f5f\"},\"error_y\":{\"color\":\"#2a3f5f\"},\"marker\":{\"line\":{\"color\":\"#E5ECF6\",\"width\":0.5},\"pattern\":{\"fillmode\":\"overlay\",\"size\":10,\"solidity\":0.2}},\"type\":\"bar\"}],\"barpolar\":[{\"marker\":{\"line\":{\"color\":\"#E5ECF6\",\"width\":0.5},\"pattern\":{\"fillmode\":\"overlay\",\"size\":10,\"solidity\":0.2}},\"type\":\"barpolar\"}],\"carpet\":[{\"aaxis\":{\"endlinecolor\":\"#2a3f5f\",\"gridcolor\":\"white\",\"linecolor\":\"white\",\"minorgridcolor\":\"white\",\"startlinecolor\":\"#2a3f5f\"},\"baxis\":{\"endlinecolor\":\"#2a3f5f\",\"gridcolor\":\"white\",\"linecolor\":\"white\",\"minorgridcolor\":\"white\",\"startlinecolor\":\"#2a3f5f\"},\"type\":\"carpet\"}],\"choropleth\":[{\"colorbar\":{\"outlinewidth\":0,\"ticks\":\"\"},\"type\":\"choropleth\"}],\"contour\":[{\"colorbar\":{\"outlinewidth\":0,\"ticks\":\"\"},\"colorscale\":[[0.0,\"#0d0887\"],[0.1111111111111111,\"#46039f\"],[0.2222222222222222,\"#7201a8\"],[0.3333333333333333,\"#9c179e\"],[0.4444444444444444,\"#bd3786\"],[0.5555555555555556,\"#d8576b\"],[0.6666666666666666,\"#ed7953\"],[0.7777777777777778,\"#fb9f3a\"],[0.8888888888888888,\"#fdca26\"],[1.0,\"#f0f921\"]],\"type\":\"contour\"}],\"contourcarpet\":[{\"colorbar\":{\"outlinewidth\":0,\"ticks\":\"\"},\"type\":\"contourcarpet\"}],\"heatmap\":[{\"colorbar\":{\"outlinewidth\":0,\"ticks\":\"\"},\"colorscale\":[[0.0,\"#0d0887\"],[0.1111111111111111,\"#46039f\"],[0.2222222222222222,\"#7201a8\"],[0.3333333333333333,\"#9c179e\"],[0.4444444444444444,\"#bd3786\"],[0.5555555555555556,\"#d8576b\"],[0.6666666666666666,\"#ed7953\"],[0.7777777777777778,\"#fb9f3a\"],[0.8888888888888888,\"#fdca26\"],[1.0,\"#f0f921\"]],\"type\":\"heatmap\"}],\"heatmapgl\":[{\"colorbar\":{\"outlinewidth\":0,\"ticks\":\"\"},\"colorscale\":[[0.0,\"#0d0887\"],[0.1111111111111111,\"#46039f\"],[0.2222222222222222,\"#7201a8\"],[0.3333333333333333,\"#9c179e\"],[0.4444444444444444,\"#bd3786\"],[0.5555555555555556,\"#d8576b\"],[0.6666666666666666,\"#ed7953\"],[0.7777777777777778,\"#fb9f3a\"],[0.8888888888888888,\"#fdca26\"],[1.0,\"#f0f921\"]],\"type\":\"heatmapgl\"}],\"histogram\":[{\"marker\":{\"pattern\":{\"fillmode\":\"overlay\",\"size\":10,\"solidity\":0.2}},\"type\":\"histogram\"}],\"histogram2d\":[{\"colorbar\":{\"outlinewidth\":0,\"ticks\":\"\"},\"colorscale\":[[0.0,\"#0d0887\"],[0.1111111111111111,\"#46039f\"],[0.2222222222222222,\"#7201a8\"],[0.3333333333333333,\"#9c179e\"],[0.4444444444444444,\"#bd3786\"],[0.5555555555555556,\"#d8576b\"],[0.6666666666666666,\"#ed7953\"],[0.7777777777777778,\"#fb9f3a\"],[0.8888888888888888,\"#fdca26\"],[1.0,\"#f0f921\"]],\"type\":\"histogram2d\"}],\"histogram2dcontour\":[{\"colorbar\":{\"outlinewidth\":0,\"ticks\":\"\"},\"colorscale\":[[0.0,\"#0d0887\"],[0.1111111111111111,\"#46039f\"],[0.2222222222222222,\"#7201a8\"],[0.3333333333333333,\"#9c179e\"],[0.4444444444444444,\"#bd3786\"],[0.5555555555555556,\"#d8576b\"],[0.6666666666666666,\"#ed7953\"],[0.7777777777777778,\"#fb9f3a\"],[0.8888888888888888,\"#fdca26\"],[1.0,\"#f0f921\"]],\"type\":\"histogram2dcontour\"}],\"mesh3d\":[{\"colorbar\":{\"outlinewidth\":0,\"ticks\":\"\"},\"type\":\"mesh3d\"}],\"parcoords\":[{\"line\":{\"colorbar\":{\"outlinewidth\":0,\"ticks\":\"\"}},\"type\":\"parcoords\"}],\"pie\":[{\"automargin\":true,\"type\":\"pie\"}],\"scatter\":[{\"marker\":{\"colorbar\":{\"outlinewidth\":0,\"ticks\":\"\"}},\"type\":\"scatter\"}],\"scatter3d\":[{\"line\":{\"colorbar\":{\"outlinewidth\":0,\"ticks\":\"\"}},\"marker\":{\"colorbar\":{\"outlinewidth\":0,\"ticks\":\"\"}},\"type\":\"scatter3d\"}],\"scattercarpet\":[{\"marker\":{\"colorbar\":{\"outlinewidth\":0,\"ticks\":\"\"}},\"type\":\"scattercarpet\"}],\"scattergeo\":[{\"marker\":{\"colorbar\":{\"outlinewidth\":0,\"ticks\":\"\"}},\"type\":\"scattergeo\"}],\"scattergl\":[{\"marker\":{\"colorbar\":{\"outlinewidth\":0,\"ticks\":\"\"}},\"type\":\"scattergl\"}],\"scattermapbox\":[{\"marker\":{\"colorbar\":{\"outlinewidth\":0,\"ticks\":\"\"}},\"type\":\"scattermapbox\"}],\"scatterpolar\":[{\"marker\":{\"colorbar\":{\"outlinewidth\":0,\"ticks\":\"\"}},\"type\":\"scatterpolar\"}],\"scatterpolargl\":[{\"marker\":{\"colorbar\":{\"outlinewidth\":0,\"ticks\":\"\"}},\"type\":\"scatterpolargl\"}],\"scatterternary\":[{\"marker\":{\"colorbar\":{\"outlinewidth\":0,\"ticks\":\"\"}},\"type\":\"scatterternary\"}],\"surface\":[{\"colorbar\":{\"outlinewidth\":0,\"ticks\":\"\"},\"colorscale\":[[0.0,\"#0d0887\"],[0.1111111111111111,\"#46039f\"],[0.2222222222222222,\"#7201a8\"],[0.3333333333333333,\"#9c179e\"],[0.4444444444444444,\"#bd3786\"],[0.5555555555555556,\"#d8576b\"],[0.6666666666666666,\"#ed7953\"],[0.7777777777777778,\"#fb9f3a\"],[0.8888888888888888,\"#fdca26\"],[1.0,\"#f0f921\"]],\"type\":\"surface\"}],\"table\":[{\"cells\":{\"fill\":{\"color\":\"#EBF0F8\"},\"line\":{\"color\":\"white\"}},\"header\":{\"fill\":{\"color\":\"#C8D4E3\"},\"line\":{\"color\":\"white\"}},\"type\":\"table\"}]},\"layout\":{\"annotationdefaults\":{\"arrowcolor\":\"#2a3f5f\",\"arrowhead\":0,\"arrowwidth\":1},\"autotypenumbers\":\"strict\",\"coloraxis\":{\"colorbar\":{\"outlinewidth\":0,\"ticks\":\"\"}},\"colorscale\":{\"diverging\":[[0,\"#8e0152\"],[0.1,\"#c51b7d\"],[0.2,\"#de77ae\"],[0.3,\"#f1b6da\"],[0.4,\"#fde0ef\"],[0.5,\"#f7f7f7\"],[0.6,\"#e6f5d0\"],[0.7,\"#b8e186\"],[0.8,\"#7fbc41\"],[0.9,\"#4d9221\"],[1,\"#276419\"]],\"sequential\":[[0.0,\"#0d0887\"],[0.1111111111111111,\"#46039f\"],[0.2222222222222222,\"#7201a8\"],[0.3333333333333333,\"#9c179e\"],[0.4444444444444444,\"#bd3786\"],[0.5555555555555556,\"#d8576b\"],[0.6666666666666666,\"#ed7953\"],[0.7777777777777778,\"#fb9f3a\"],[0.8888888888888888,\"#fdca26\"],[1.0,\"#f0f921\"]],\"sequentialminus\":[[0.0,\"#0d0887\"],[0.1111111111111111,\"#46039f\"],[0.2222222222222222,\"#7201a8\"],[0.3333333333333333,\"#9c179e\"],[0.4444444444444444,\"#bd3786\"],[0.5555555555555556,\"#d8576b\"],[0.6666666666666666,\"#ed7953\"],[0.7777777777777778,\"#fb9f3a\"],[0.8888888888888888,\"#fdca26\"],[1.0,\"#f0f921\"]]},\"colorway\":[\"#636efa\",\"#EF553B\",\"#00cc96\",\"#ab63fa\",\"#FFA15A\",\"#19d3f3\",\"#FF6692\",\"#B6E880\",\"#FF97FF\",\"#FECB52\"],\"font\":{\"color\":\"#2a3f5f\"},\"geo\":{\"bgcolor\":\"white\",\"lakecolor\":\"white\",\"landcolor\":\"#E5ECF6\",\"showlakes\":true,\"showland\":true,\"subunitcolor\":\"white\"},\"hoverlabel\":{\"align\":\"left\"},\"hovermode\":\"closest\",\"mapbox\":{\"style\":\"light\"},\"paper_bgcolor\":\"white\",\"plot_bgcolor\":\"#E5ECF6\",\"polar\":{\"angularaxis\":{\"gridcolor\":\"white\",\"linecolor\":\"white\",\"ticks\":\"\"},\"bgcolor\":\"#E5ECF6\",\"radialaxis\":{\"gridcolor\":\"white\",\"linecolor\":\"white\",\"ticks\":\"\"}},\"scene\":{\"xaxis\":{\"backgroundcolor\":\"#E5ECF6\",\"gridcolor\":\"white\",\"gridwidth\":2,\"linecolor\":\"white\",\"showbackground\":true,\"ticks\":\"\",\"zerolinecolor\":\"white\"},\"yaxis\":{\"backgroundcolor\":\"#E5ECF6\",\"gridcolor\":\"white\",\"gridwidth\":2,\"linecolor\":\"white\",\"showbackground\":true,\"ticks\":\"\",\"zerolinecolor\":\"white\"},\"zaxis\":{\"backgroundcolor\":\"#E5ECF6\",\"gridcolor\":\"white\",\"gridwidth\":2,\"linecolor\":\"white\",\"showbackground\":true,\"ticks\":\"\",\"zerolinecolor\":\"white\"}},\"shapedefaults\":{\"line\":{\"color\":\"#2a3f5f\"}},\"ternary\":{\"aaxis\":{\"gridcolor\":\"white\",\"linecolor\":\"white\",\"ticks\":\"\"},\"baxis\":{\"gridcolor\":\"white\",\"linecolor\":\"white\",\"ticks\":\"\"},\"bgcolor\":\"#E5ECF6\",\"caxis\":{\"gridcolor\":\"white\",\"linecolor\":\"white\",\"ticks\":\"\"}},\"title\":{\"x\":0.05},\"xaxis\":{\"automargin\":true,\"gridcolor\":\"white\",\"linecolor\":\"white\",\"ticks\":\"\",\"title\":{\"standoff\":15},\"zerolinecolor\":\"white\",\"zerolinewidth\":2},\"yaxis\":{\"automargin\":true,\"gridcolor\":\"white\",\"linecolor\":\"white\",\"ticks\":\"\",\"title\":{\"standoff\":15},\"zerolinecolor\":\"white\",\"zerolinewidth\":2}}},\"title\":{\"text\":\"LNN\"}},                        {\"responsive\": true}                    ).then(function(){\n",
       "                            \n",
       "var gd = document.getElementById('fa49f419-4339-4a4e-92ae-7fe1f11e9b01');\n",
       "var x = new MutationObserver(function (mutations, observer) {{\n",
       "        var display = window.getComputedStyle(gd).display;\n",
       "        if (!display || display === 'none') {{\n",
       "            console.log([gd, 'removed!']);\n",
       "            Plotly.purge(gd);\n",
       "            observer.disconnect();\n",
       "        }}\n",
       "}});\n",
       "\n",
       "// Listen for the removal of the full notebook cells\n",
       "var notebookContainer = gd.closest('#notebook-container');\n",
       "if (notebookContainer) {{\n",
       "    x.observe(notebookContainer, {childList: true});\n",
       "}}\n",
       "\n",
       "// Listen for the clearing of the current output cell\n",
       "var outputEl = gd.closest('.output');\n",
       "if (outputEl) {{\n",
       "    x.observe(outputEl, {childList: true});\n",
       "}}\n",
       "\n",
       "                        })                };                });            </script>        </div>"
      ]
     },
     "metadata": {},
     "output_type": "display_data"
    },
    {
     "data": {
      "application/vnd.plotly.v1+json": {
       "config": {
        "plotlyServerURL": "https://plot.ly"
       },
       "data": [
        {
         "fill": "toself",
         "line": {
          "color": "#930001"
         },
         "marker": {
          "color": "#930001",
          "line": {
           "color": "black",
           "width": 2
          },
          "size": 12
         },
         "mode": "lines+markers",
         "name": "Metagenomic",
         "opacity": 0.6,
         "r": [
          0,
          0.8990332277998863,
          0.9064827299827883,
          0.3201795362887529,
          1,
          1
         ],
         "showlegend": true,
         "subplot": "polar",
         "theta": [
          "Contigs",
          "Basepairs",
          "Largest contig",
          "N50",
          "% Mapped reads",
          "Uncalled bases"
         ],
         "type": "scatterpolar"
        },
        {
         "fill": "toself",
         "line": {
          "color": "#930001"
         },
         "marker": {
          "color": "#930001",
          "line": {
           "color": "black",
           "width": 2
          },
          "size": 12
         },
         "mode": "lines+markers",
         "name": "Metagenomic",
         "opacity": 0.6,
         "r": [
          0,
          0.6072604710819969,
          0.8213551641986266,
          1,
          1,
          1,
          1
         ],
         "showlegend": false,
         "subplot": "polar2",
         "theta": [
          "Contigs",
          "Basepairs",
          "N50",
          "% Mapped reads",
          "Uncalled bases",
          "Misassembled contigs",
          "Misassembly events"
         ],
         "type": "scatterpolar"
        },
        {
         "fill": "toself",
         "line": {
          "color": "#009392"
         },
         "marker": {
          "color": "#009392",
          "line": {
           "color": "black",
           "width": 2
          },
          "size": 12
         },
         "mode": "lines+markers",
         "name": "Genomic",
         "opacity": 0.6,
         "r": [
          0.9697461629279811,
          0.9538164903289659,
          1,
          1,
          0.9792045143045561,
          1
         ],
         "showlegend": true,
         "subplot": "polar",
         "theta": [
          "Contigs",
          "Basepairs",
          "Largest contig",
          "N50",
          "% Mapped reads",
          "Uncalled bases"
         ],
         "type": "scatterpolar"
        },
        {
         "fill": "toself",
         "line": {
          "color": "#009392"
         },
         "marker": {
          "color": "#009392",
          "line": {
           "color": "black",
           "width": 2
          },
          "size": 12
         },
         "mode": "lines+markers",
         "name": "Genomic",
         "opacity": 0.6,
         "r": [
          0.7611940298507462,
          0.6332140277698475,
          1,
          0.9773509099944305,
          1,
          1,
          1
         ],
         "showlegend": false,
         "subplot": "polar2",
         "theta": [
          "Contigs",
          "Basepairs",
          "N50",
          "% Mapped reads",
          "Uncalled bases",
          "Misassembled contigs",
          "Misassembly events"
         ],
         "type": "scatterpolar"
        }
       ],
       "layout": {
        "annotations": [
         {
          "font": {
           "size": 16
          },
          "showarrow": false,
          "text": "Original",
          "x": 0.225,
          "xanchor": "center",
          "xref": "paper",
          "y": 1,
          "yanchor": "bottom",
          "yref": "paper"
         },
         {
          "font": {
           "size": 16
          },
          "showarrow": false,
          "text": "Filtered",
          "x": 0.775,
          "xanchor": "center",
          "xref": "paper",
          "y": 1,
          "yanchor": "bottom",
          "yref": "paper"
         }
        ],
        "legend": {
         "orientation": "h",
         "x": 0,
         "xanchor": "left",
         "y": -0.5,
         "yanchor": "bottom"
        },
        "polar": {
         "angularaxis": {
          "categoryarray": [
           "Contigs",
           "Basepairs",
           "Largest contig",
           "N50",
           "% Mapped reads",
           "Uncalled bases"
          ],
          "linecolor": "black"
         },
         "bgcolor": "rgb(255,255,255)",
         "domain": {
          "x": [
           0,
           0.45
          ],
          "y": [
           0,
           1
          ]
         },
         "hole": 0.08333333333333333,
         "radialaxis": {
          "angle": -22.5,
          "gridcolor": "#DCDCDC",
          "linecolor": "black",
          "linewidth": 2,
          "range": [
           0,
           1
          ],
          "visible": true
         }
        },
        "polar2": {
         "angularaxis": {
          "categoryarray": [
           "Contigs",
           "Basepairs",
           "N50",
           "% Mapped reads",
           "Uncalled bases",
           "Misassembled contigs",
           "Misassembly events"
          ],
          "linecolor": "black"
         },
         "bgcolor": "rgb(255,255,255)",
         "domain": {
          "x": [
           0.55,
           1
          ],
          "y": [
           0,
           1
          ]
         },
         "hole": 0.08333333333333333,
         "radialaxis": {
          "angle": -22.5,
          "gridcolor": "#DCDCDC",
          "linecolor": "black",
          "linewidth": 2,
          "range": [
           0,
           1
          ],
          "visible": true
         }
        },
        "template": {
         "data": {
          "bar": [
           {
            "error_x": {
             "color": "#2a3f5f"
            },
            "error_y": {
             "color": "#2a3f5f"
            },
            "marker": {
             "line": {
              "color": "#E5ECF6",
              "width": 0.5
             },
             "pattern": {
              "fillmode": "overlay",
              "size": 10,
              "solidity": 0.2
             }
            },
            "type": "bar"
           }
          ],
          "barpolar": [
           {
            "marker": {
             "line": {
              "color": "#E5ECF6",
              "width": 0.5
             },
             "pattern": {
              "fillmode": "overlay",
              "size": 10,
              "solidity": 0.2
             }
            },
            "type": "barpolar"
           }
          ],
          "carpet": [
           {
            "aaxis": {
             "endlinecolor": "#2a3f5f",
             "gridcolor": "white",
             "linecolor": "white",
             "minorgridcolor": "white",
             "startlinecolor": "#2a3f5f"
            },
            "baxis": {
             "endlinecolor": "#2a3f5f",
             "gridcolor": "white",
             "linecolor": "white",
             "minorgridcolor": "white",
             "startlinecolor": "#2a3f5f"
            },
            "type": "carpet"
           }
          ],
          "choropleth": [
           {
            "colorbar": {
             "outlinewidth": 0,
             "ticks": ""
            },
            "type": "choropleth"
           }
          ],
          "contour": [
           {
            "colorbar": {
             "outlinewidth": 0,
             "ticks": ""
            },
            "colorscale": [
             [
              0,
              "#0d0887"
             ],
             [
              0.1111111111111111,
              "#46039f"
             ],
             [
              0.2222222222222222,
              "#7201a8"
             ],
             [
              0.3333333333333333,
              "#9c179e"
             ],
             [
              0.4444444444444444,
              "#bd3786"
             ],
             [
              0.5555555555555556,
              "#d8576b"
             ],
             [
              0.6666666666666666,
              "#ed7953"
             ],
             [
              0.7777777777777778,
              "#fb9f3a"
             ],
             [
              0.8888888888888888,
              "#fdca26"
             ],
             [
              1,
              "#f0f921"
             ]
            ],
            "type": "contour"
           }
          ],
          "contourcarpet": [
           {
            "colorbar": {
             "outlinewidth": 0,
             "ticks": ""
            },
            "type": "contourcarpet"
           }
          ],
          "heatmap": [
           {
            "colorbar": {
             "outlinewidth": 0,
             "ticks": ""
            },
            "colorscale": [
             [
              0,
              "#0d0887"
             ],
             [
              0.1111111111111111,
              "#46039f"
             ],
             [
              0.2222222222222222,
              "#7201a8"
             ],
             [
              0.3333333333333333,
              "#9c179e"
             ],
             [
              0.4444444444444444,
              "#bd3786"
             ],
             [
              0.5555555555555556,
              "#d8576b"
             ],
             [
              0.6666666666666666,
              "#ed7953"
             ],
             [
              0.7777777777777778,
              "#fb9f3a"
             ],
             [
              0.8888888888888888,
              "#fdca26"
             ],
             [
              1,
              "#f0f921"
             ]
            ],
            "type": "heatmap"
           }
          ],
          "heatmapgl": [
           {
            "colorbar": {
             "outlinewidth": 0,
             "ticks": ""
            },
            "colorscale": [
             [
              0,
              "#0d0887"
             ],
             [
              0.1111111111111111,
              "#46039f"
             ],
             [
              0.2222222222222222,
              "#7201a8"
             ],
             [
              0.3333333333333333,
              "#9c179e"
             ],
             [
              0.4444444444444444,
              "#bd3786"
             ],
             [
              0.5555555555555556,
              "#d8576b"
             ],
             [
              0.6666666666666666,
              "#ed7953"
             ],
             [
              0.7777777777777778,
              "#fb9f3a"
             ],
             [
              0.8888888888888888,
              "#fdca26"
             ],
             [
              1,
              "#f0f921"
             ]
            ],
            "type": "heatmapgl"
           }
          ],
          "histogram": [
           {
            "marker": {
             "pattern": {
              "fillmode": "overlay",
              "size": 10,
              "solidity": 0.2
             }
            },
            "type": "histogram"
           }
          ],
          "histogram2d": [
           {
            "colorbar": {
             "outlinewidth": 0,
             "ticks": ""
            },
            "colorscale": [
             [
              0,
              "#0d0887"
             ],
             [
              0.1111111111111111,
              "#46039f"
             ],
             [
              0.2222222222222222,
              "#7201a8"
             ],
             [
              0.3333333333333333,
              "#9c179e"
             ],
             [
              0.4444444444444444,
              "#bd3786"
             ],
             [
              0.5555555555555556,
              "#d8576b"
             ],
             [
              0.6666666666666666,
              "#ed7953"
             ],
             [
              0.7777777777777778,
              "#fb9f3a"
             ],
             [
              0.8888888888888888,
              "#fdca26"
             ],
             [
              1,
              "#f0f921"
             ]
            ],
            "type": "histogram2d"
           }
          ],
          "histogram2dcontour": [
           {
            "colorbar": {
             "outlinewidth": 0,
             "ticks": ""
            },
            "colorscale": [
             [
              0,
              "#0d0887"
             ],
             [
              0.1111111111111111,
              "#46039f"
             ],
             [
              0.2222222222222222,
              "#7201a8"
             ],
             [
              0.3333333333333333,
              "#9c179e"
             ],
             [
              0.4444444444444444,
              "#bd3786"
             ],
             [
              0.5555555555555556,
              "#d8576b"
             ],
             [
              0.6666666666666666,
              "#ed7953"
             ],
             [
              0.7777777777777778,
              "#fb9f3a"
             ],
             [
              0.8888888888888888,
              "#fdca26"
             ],
             [
              1,
              "#f0f921"
             ]
            ],
            "type": "histogram2dcontour"
           }
          ],
          "mesh3d": [
           {
            "colorbar": {
             "outlinewidth": 0,
             "ticks": ""
            },
            "type": "mesh3d"
           }
          ],
          "parcoords": [
           {
            "line": {
             "colorbar": {
              "outlinewidth": 0,
              "ticks": ""
             }
            },
            "type": "parcoords"
           }
          ],
          "pie": [
           {
            "automargin": true,
            "type": "pie"
           }
          ],
          "scatter": [
           {
            "marker": {
             "colorbar": {
              "outlinewidth": 0,
              "ticks": ""
             }
            },
            "type": "scatter"
           }
          ],
          "scatter3d": [
           {
            "line": {
             "colorbar": {
              "outlinewidth": 0,
              "ticks": ""
             }
            },
            "marker": {
             "colorbar": {
              "outlinewidth": 0,
              "ticks": ""
             }
            },
            "type": "scatter3d"
           }
          ],
          "scattercarpet": [
           {
            "marker": {
             "colorbar": {
              "outlinewidth": 0,
              "ticks": ""
             }
            },
            "type": "scattercarpet"
           }
          ],
          "scattergeo": [
           {
            "marker": {
             "colorbar": {
              "outlinewidth": 0,
              "ticks": ""
             }
            },
            "type": "scattergeo"
           }
          ],
          "scattergl": [
           {
            "marker": {
             "colorbar": {
              "outlinewidth": 0,
              "ticks": ""
             }
            },
            "type": "scattergl"
           }
          ],
          "scattermapbox": [
           {
            "marker": {
             "colorbar": {
              "outlinewidth": 0,
              "ticks": ""
             }
            },
            "type": "scattermapbox"
           }
          ],
          "scatterpolar": [
           {
            "marker": {
             "colorbar": {
              "outlinewidth": 0,
              "ticks": ""
             }
            },
            "type": "scatterpolar"
           }
          ],
          "scatterpolargl": [
           {
            "marker": {
             "colorbar": {
              "outlinewidth": 0,
              "ticks": ""
             }
            },
            "type": "scatterpolargl"
           }
          ],
          "scatterternary": [
           {
            "marker": {
             "colorbar": {
              "outlinewidth": 0,
              "ticks": ""
             }
            },
            "type": "scatterternary"
           }
          ],
          "surface": [
           {
            "colorbar": {
             "outlinewidth": 0,
             "ticks": ""
            },
            "colorscale": [
             [
              0,
              "#0d0887"
             ],
             [
              0.1111111111111111,
              "#46039f"
             ],
             [
              0.2222222222222222,
              "#7201a8"
             ],
             [
              0.3333333333333333,
              "#9c179e"
             ],
             [
              0.4444444444444444,
              "#bd3786"
             ],
             [
              0.5555555555555556,
              "#d8576b"
             ],
             [
              0.6666666666666666,
              "#ed7953"
             ],
             [
              0.7777777777777778,
              "#fb9f3a"
             ],
             [
              0.8888888888888888,
              "#fdca26"
             ],
             [
              1,
              "#f0f921"
             ]
            ],
            "type": "surface"
           }
          ],
          "table": [
           {
            "cells": {
             "fill": {
              "color": "#EBF0F8"
             },
             "line": {
              "color": "white"
             }
            },
            "header": {
             "fill": {
              "color": "#C8D4E3"
             },
             "line": {
              "color": "white"
             }
            },
            "type": "table"
           }
          ]
         },
         "layout": {
          "annotationdefaults": {
           "arrowcolor": "#2a3f5f",
           "arrowhead": 0,
           "arrowwidth": 1
          },
          "autotypenumbers": "strict",
          "coloraxis": {
           "colorbar": {
            "outlinewidth": 0,
            "ticks": ""
           }
          },
          "colorscale": {
           "diverging": [
            [
             0,
             "#8e0152"
            ],
            [
             0.1,
             "#c51b7d"
            ],
            [
             0.2,
             "#de77ae"
            ],
            [
             0.3,
             "#f1b6da"
            ],
            [
             0.4,
             "#fde0ef"
            ],
            [
             0.5,
             "#f7f7f7"
            ],
            [
             0.6,
             "#e6f5d0"
            ],
            [
             0.7,
             "#b8e186"
            ],
            [
             0.8,
             "#7fbc41"
            ],
            [
             0.9,
             "#4d9221"
            ],
            [
             1,
             "#276419"
            ]
           ],
           "sequential": [
            [
             0,
             "#0d0887"
            ],
            [
             0.1111111111111111,
             "#46039f"
            ],
            [
             0.2222222222222222,
             "#7201a8"
            ],
            [
             0.3333333333333333,
             "#9c179e"
            ],
            [
             0.4444444444444444,
             "#bd3786"
            ],
            [
             0.5555555555555556,
             "#d8576b"
            ],
            [
             0.6666666666666666,
             "#ed7953"
            ],
            [
             0.7777777777777778,
             "#fb9f3a"
            ],
            [
             0.8888888888888888,
             "#fdca26"
            ],
            [
             1,
             "#f0f921"
            ]
           ],
           "sequentialminus": [
            [
             0,
             "#0d0887"
            ],
            [
             0.1111111111111111,
             "#46039f"
            ],
            [
             0.2222222222222222,
             "#7201a8"
            ],
            [
             0.3333333333333333,
             "#9c179e"
            ],
            [
             0.4444444444444444,
             "#bd3786"
            ],
            [
             0.5555555555555556,
             "#d8576b"
            ],
            [
             0.6666666666666666,
             "#ed7953"
            ],
            [
             0.7777777777777778,
             "#fb9f3a"
            ],
            [
             0.8888888888888888,
             "#fdca26"
            ],
            [
             1,
             "#f0f921"
            ]
           ]
          },
          "colorway": [
           "#636efa",
           "#EF553B",
           "#00cc96",
           "#ab63fa",
           "#FFA15A",
           "#19d3f3",
           "#FF6692",
           "#B6E880",
           "#FF97FF",
           "#FECB52"
          ],
          "font": {
           "color": "#2a3f5f"
          },
          "geo": {
           "bgcolor": "white",
           "lakecolor": "white",
           "landcolor": "#E5ECF6",
           "showlakes": true,
           "showland": true,
           "subunitcolor": "white"
          },
          "hoverlabel": {
           "align": "left"
          },
          "hovermode": "closest",
          "mapbox": {
           "style": "light"
          },
          "paper_bgcolor": "white",
          "plot_bgcolor": "#E5ECF6",
          "polar": {
           "angularaxis": {
            "gridcolor": "white",
            "linecolor": "white",
            "ticks": ""
           },
           "bgcolor": "#E5ECF6",
           "radialaxis": {
            "gridcolor": "white",
            "linecolor": "white",
            "ticks": ""
           }
          },
          "scene": {
           "xaxis": {
            "backgroundcolor": "#E5ECF6",
            "gridcolor": "white",
            "gridwidth": 2,
            "linecolor": "white",
            "showbackground": true,
            "ticks": "",
            "zerolinecolor": "white"
           },
           "yaxis": {
            "backgroundcolor": "#E5ECF6",
            "gridcolor": "white",
            "gridwidth": 2,
            "linecolor": "white",
            "showbackground": true,
            "ticks": "",
            "zerolinecolor": "white"
           },
           "zaxis": {
            "backgroundcolor": "#E5ECF6",
            "gridcolor": "white",
            "gridwidth": 2,
            "linecolor": "white",
            "showbackground": true,
            "ticks": "",
            "zerolinecolor": "white"
           }
          },
          "shapedefaults": {
           "line": {
            "color": "#2a3f5f"
           }
          },
          "ternary": {
           "aaxis": {
            "gridcolor": "white",
            "linecolor": "white",
            "ticks": ""
           },
           "baxis": {
            "gridcolor": "white",
            "linecolor": "white",
            "ticks": ""
           },
           "bgcolor": "#E5ECF6",
           "caxis": {
            "gridcolor": "white",
            "linecolor": "white",
            "ticks": ""
           }
          },
          "title": {
           "x": 0.05
          },
          "xaxis": {
           "automargin": true,
           "gridcolor": "white",
           "linecolor": "white",
           "ticks": "",
           "title": {
            "standoff": 15
           },
           "zerolinecolor": "white",
           "zerolinewidth": 2
          },
          "yaxis": {
           "automargin": true,
           "gridcolor": "white",
           "linecolor": "white",
           "ticks": "",
           "title": {
            "standoff": 15
           },
           "zerolinecolor": "white",
           "zerolinewidth": 2
          }
         }
        },
        "title": {
         "text": "ERR2935805"
        }
       }
      },
      "text/html": [
       "<div>                            <div id=\"a1ac427e-4dc7-4a00-965a-beee803f1fbd\" class=\"plotly-graph-div\" style=\"height:525px; width:100%;\"></div>            <script type=\"text/javascript\">                require([\"plotly\"], function(Plotly) {                    window.PLOTLYENV=window.PLOTLYENV || {};                                    if (document.getElementById(\"a1ac427e-4dc7-4a00-965a-beee803f1fbd\")) {                    Plotly.newPlot(                        \"a1ac427e-4dc7-4a00-965a-beee803f1fbd\",                        [{\"fill\":\"toself\",\"line\":{\"color\":\"#930001\"},\"marker\":{\"color\":\"#930001\",\"line\":{\"color\":\"black\",\"width\":2},\"size\":12},\"mode\":\"lines+markers\",\"name\":\"Metagenomic\",\"opacity\":0.6,\"r\":[0.0,0.8990332277998863,0.9064827299827883,0.3201795362887529,1.0,1.0],\"showlegend\":true,\"subplot\":\"polar\",\"theta\":[\"Contigs\",\"Basepairs\",\"Largest contig\",\"N50\",\"% Mapped reads\",\"Uncalled bases\"],\"type\":\"scatterpolar\"},{\"fill\":\"toself\",\"line\":{\"color\":\"#930001\"},\"marker\":{\"color\":\"#930001\",\"line\":{\"color\":\"black\",\"width\":2},\"size\":12},\"mode\":\"lines+markers\",\"name\":\"Metagenomic\",\"opacity\":0.6,\"r\":[0.0,0.6072604710819969,0.8213551641986266,1.0,1.0,1.0,1.0],\"showlegend\":false,\"subplot\":\"polar2\",\"theta\":[\"Contigs\",\"Basepairs\",\"N50\",\"% Mapped reads\",\"Uncalled bases\",\"Misassembled contigs\",\"Misassembly events\"],\"type\":\"scatterpolar\"},{\"fill\":\"toself\",\"line\":{\"color\":\"#009392\"},\"marker\":{\"color\":\"#009392\",\"line\":{\"color\":\"black\",\"width\":2},\"size\":12},\"mode\":\"lines+markers\",\"name\":\"Genomic\",\"opacity\":0.6,\"r\":[0.9697461629279811,0.9538164903289659,1.0,1.0,0.9792045143045561,1.0],\"showlegend\":true,\"subplot\":\"polar\",\"theta\":[\"Contigs\",\"Basepairs\",\"Largest contig\",\"N50\",\"% Mapped reads\",\"Uncalled bases\"],\"type\":\"scatterpolar\"},{\"fill\":\"toself\",\"line\":{\"color\":\"#009392\"},\"marker\":{\"color\":\"#009392\",\"line\":{\"color\":\"black\",\"width\":2},\"size\":12},\"mode\":\"lines+markers\",\"name\":\"Genomic\",\"opacity\":0.6,\"r\":[0.7611940298507462,0.6332140277698475,1.0,0.9773509099944305,1.0,1.0,1.0],\"showlegend\":false,\"subplot\":\"polar2\",\"theta\":[\"Contigs\",\"Basepairs\",\"N50\",\"% Mapped reads\",\"Uncalled bases\",\"Misassembled contigs\",\"Misassembly events\"],\"type\":\"scatterpolar\"}],                        {\"annotations\":[{\"font\":{\"size\":16},\"showarrow\":false,\"text\":\"Original\",\"x\":0.225,\"xanchor\":\"center\",\"xref\":\"paper\",\"y\":1.0,\"yanchor\":\"bottom\",\"yref\":\"paper\"},{\"font\":{\"size\":16},\"showarrow\":false,\"text\":\"Filtered\",\"x\":0.775,\"xanchor\":\"center\",\"xref\":\"paper\",\"y\":1.0,\"yanchor\":\"bottom\",\"yref\":\"paper\"}],\"legend\":{\"orientation\":\"h\",\"x\":0,\"xanchor\":\"left\",\"y\":-0.5,\"yanchor\":\"bottom\"},\"polar\":{\"angularaxis\":{\"categoryarray\":[\"Contigs\",\"Basepairs\",\"Largest contig\",\"N50\",\"% Mapped reads\",\"Uncalled bases\"],\"linecolor\":\"black\"},\"bgcolor\":\"rgb(255,255,255)\",\"domain\":{\"x\":[0.0,0.45],\"y\":[0.0,1.0]},\"hole\":0.08333333333333333,\"radialaxis\":{\"angle\":-22.5,\"gridcolor\":\"#DCDCDC\",\"linecolor\":\"black\",\"linewidth\":2,\"range\":[0,1],\"visible\":true}},\"polar2\":{\"angularaxis\":{\"categoryarray\":[\"Contigs\",\"Basepairs\",\"N50\",\"% Mapped reads\",\"Uncalled bases\",\"Misassembled contigs\",\"Misassembly events\"],\"linecolor\":\"black\"},\"bgcolor\":\"rgb(255,255,255)\",\"domain\":{\"x\":[0.55,1.0],\"y\":[0.0,1.0]},\"hole\":0.08333333333333333,\"radialaxis\":{\"angle\":-22.5,\"gridcolor\":\"#DCDCDC\",\"linecolor\":\"black\",\"linewidth\":2,\"range\":[0,1],\"visible\":true}},\"template\":{\"data\":{\"bar\":[{\"error_x\":{\"color\":\"#2a3f5f\"},\"error_y\":{\"color\":\"#2a3f5f\"},\"marker\":{\"line\":{\"color\":\"#E5ECF6\",\"width\":0.5},\"pattern\":{\"fillmode\":\"overlay\",\"size\":10,\"solidity\":0.2}},\"type\":\"bar\"}],\"barpolar\":[{\"marker\":{\"line\":{\"color\":\"#E5ECF6\",\"width\":0.5},\"pattern\":{\"fillmode\":\"overlay\",\"size\":10,\"solidity\":0.2}},\"type\":\"barpolar\"}],\"carpet\":[{\"aaxis\":{\"endlinecolor\":\"#2a3f5f\",\"gridcolor\":\"white\",\"linecolor\":\"white\",\"minorgridcolor\":\"white\",\"startlinecolor\":\"#2a3f5f\"},\"baxis\":{\"endlinecolor\":\"#2a3f5f\",\"gridcolor\":\"white\",\"linecolor\":\"white\",\"minorgridcolor\":\"white\",\"startlinecolor\":\"#2a3f5f\"},\"type\":\"carpet\"}],\"choropleth\":[{\"colorbar\":{\"outlinewidth\":0,\"ticks\":\"\"},\"type\":\"choropleth\"}],\"contour\":[{\"colorbar\":{\"outlinewidth\":0,\"ticks\":\"\"},\"colorscale\":[[0.0,\"#0d0887\"],[0.1111111111111111,\"#46039f\"],[0.2222222222222222,\"#7201a8\"],[0.3333333333333333,\"#9c179e\"],[0.4444444444444444,\"#bd3786\"],[0.5555555555555556,\"#d8576b\"],[0.6666666666666666,\"#ed7953\"],[0.7777777777777778,\"#fb9f3a\"],[0.8888888888888888,\"#fdca26\"],[1.0,\"#f0f921\"]],\"type\":\"contour\"}],\"contourcarpet\":[{\"colorbar\":{\"outlinewidth\":0,\"ticks\":\"\"},\"type\":\"contourcarpet\"}],\"heatmap\":[{\"colorbar\":{\"outlinewidth\":0,\"ticks\":\"\"},\"colorscale\":[[0.0,\"#0d0887\"],[0.1111111111111111,\"#46039f\"],[0.2222222222222222,\"#7201a8\"],[0.3333333333333333,\"#9c179e\"],[0.4444444444444444,\"#bd3786\"],[0.5555555555555556,\"#d8576b\"],[0.6666666666666666,\"#ed7953\"],[0.7777777777777778,\"#fb9f3a\"],[0.8888888888888888,\"#fdca26\"],[1.0,\"#f0f921\"]],\"type\":\"heatmap\"}],\"heatmapgl\":[{\"colorbar\":{\"outlinewidth\":0,\"ticks\":\"\"},\"colorscale\":[[0.0,\"#0d0887\"],[0.1111111111111111,\"#46039f\"],[0.2222222222222222,\"#7201a8\"],[0.3333333333333333,\"#9c179e\"],[0.4444444444444444,\"#bd3786\"],[0.5555555555555556,\"#d8576b\"],[0.6666666666666666,\"#ed7953\"],[0.7777777777777778,\"#fb9f3a\"],[0.8888888888888888,\"#fdca26\"],[1.0,\"#f0f921\"]],\"type\":\"heatmapgl\"}],\"histogram\":[{\"marker\":{\"pattern\":{\"fillmode\":\"overlay\",\"size\":10,\"solidity\":0.2}},\"type\":\"histogram\"}],\"histogram2d\":[{\"colorbar\":{\"outlinewidth\":0,\"ticks\":\"\"},\"colorscale\":[[0.0,\"#0d0887\"],[0.1111111111111111,\"#46039f\"],[0.2222222222222222,\"#7201a8\"],[0.3333333333333333,\"#9c179e\"],[0.4444444444444444,\"#bd3786\"],[0.5555555555555556,\"#d8576b\"],[0.6666666666666666,\"#ed7953\"],[0.7777777777777778,\"#fb9f3a\"],[0.8888888888888888,\"#fdca26\"],[1.0,\"#f0f921\"]],\"type\":\"histogram2d\"}],\"histogram2dcontour\":[{\"colorbar\":{\"outlinewidth\":0,\"ticks\":\"\"},\"colorscale\":[[0.0,\"#0d0887\"],[0.1111111111111111,\"#46039f\"],[0.2222222222222222,\"#7201a8\"],[0.3333333333333333,\"#9c179e\"],[0.4444444444444444,\"#bd3786\"],[0.5555555555555556,\"#d8576b\"],[0.6666666666666666,\"#ed7953\"],[0.7777777777777778,\"#fb9f3a\"],[0.8888888888888888,\"#fdca26\"],[1.0,\"#f0f921\"]],\"type\":\"histogram2dcontour\"}],\"mesh3d\":[{\"colorbar\":{\"outlinewidth\":0,\"ticks\":\"\"},\"type\":\"mesh3d\"}],\"parcoords\":[{\"line\":{\"colorbar\":{\"outlinewidth\":0,\"ticks\":\"\"}},\"type\":\"parcoords\"}],\"pie\":[{\"automargin\":true,\"type\":\"pie\"}],\"scatter\":[{\"marker\":{\"colorbar\":{\"outlinewidth\":0,\"ticks\":\"\"}},\"type\":\"scatter\"}],\"scatter3d\":[{\"line\":{\"colorbar\":{\"outlinewidth\":0,\"ticks\":\"\"}},\"marker\":{\"colorbar\":{\"outlinewidth\":0,\"ticks\":\"\"}},\"type\":\"scatter3d\"}],\"scattercarpet\":[{\"marker\":{\"colorbar\":{\"outlinewidth\":0,\"ticks\":\"\"}},\"type\":\"scattercarpet\"}],\"scattergeo\":[{\"marker\":{\"colorbar\":{\"outlinewidth\":0,\"ticks\":\"\"}},\"type\":\"scattergeo\"}],\"scattergl\":[{\"marker\":{\"colorbar\":{\"outlinewidth\":0,\"ticks\":\"\"}},\"type\":\"scattergl\"}],\"scattermapbox\":[{\"marker\":{\"colorbar\":{\"outlinewidth\":0,\"ticks\":\"\"}},\"type\":\"scattermapbox\"}],\"scatterpolar\":[{\"marker\":{\"colorbar\":{\"outlinewidth\":0,\"ticks\":\"\"}},\"type\":\"scatterpolar\"}],\"scatterpolargl\":[{\"marker\":{\"colorbar\":{\"outlinewidth\":0,\"ticks\":\"\"}},\"type\":\"scatterpolargl\"}],\"scatterternary\":[{\"marker\":{\"colorbar\":{\"outlinewidth\":0,\"ticks\":\"\"}},\"type\":\"scatterternary\"}],\"surface\":[{\"colorbar\":{\"outlinewidth\":0,\"ticks\":\"\"},\"colorscale\":[[0.0,\"#0d0887\"],[0.1111111111111111,\"#46039f\"],[0.2222222222222222,\"#7201a8\"],[0.3333333333333333,\"#9c179e\"],[0.4444444444444444,\"#bd3786\"],[0.5555555555555556,\"#d8576b\"],[0.6666666666666666,\"#ed7953\"],[0.7777777777777778,\"#fb9f3a\"],[0.8888888888888888,\"#fdca26\"],[1.0,\"#f0f921\"]],\"type\":\"surface\"}],\"table\":[{\"cells\":{\"fill\":{\"color\":\"#EBF0F8\"},\"line\":{\"color\":\"white\"}},\"header\":{\"fill\":{\"color\":\"#C8D4E3\"},\"line\":{\"color\":\"white\"}},\"type\":\"table\"}]},\"layout\":{\"annotationdefaults\":{\"arrowcolor\":\"#2a3f5f\",\"arrowhead\":0,\"arrowwidth\":1},\"autotypenumbers\":\"strict\",\"coloraxis\":{\"colorbar\":{\"outlinewidth\":0,\"ticks\":\"\"}},\"colorscale\":{\"diverging\":[[0,\"#8e0152\"],[0.1,\"#c51b7d\"],[0.2,\"#de77ae\"],[0.3,\"#f1b6da\"],[0.4,\"#fde0ef\"],[0.5,\"#f7f7f7\"],[0.6,\"#e6f5d0\"],[0.7,\"#b8e186\"],[0.8,\"#7fbc41\"],[0.9,\"#4d9221\"],[1,\"#276419\"]],\"sequential\":[[0.0,\"#0d0887\"],[0.1111111111111111,\"#46039f\"],[0.2222222222222222,\"#7201a8\"],[0.3333333333333333,\"#9c179e\"],[0.4444444444444444,\"#bd3786\"],[0.5555555555555556,\"#d8576b\"],[0.6666666666666666,\"#ed7953\"],[0.7777777777777778,\"#fb9f3a\"],[0.8888888888888888,\"#fdca26\"],[1.0,\"#f0f921\"]],\"sequentialminus\":[[0.0,\"#0d0887\"],[0.1111111111111111,\"#46039f\"],[0.2222222222222222,\"#7201a8\"],[0.3333333333333333,\"#9c179e\"],[0.4444444444444444,\"#bd3786\"],[0.5555555555555556,\"#d8576b\"],[0.6666666666666666,\"#ed7953\"],[0.7777777777777778,\"#fb9f3a\"],[0.8888888888888888,\"#fdca26\"],[1.0,\"#f0f921\"]]},\"colorway\":[\"#636efa\",\"#EF553B\",\"#00cc96\",\"#ab63fa\",\"#FFA15A\",\"#19d3f3\",\"#FF6692\",\"#B6E880\",\"#FF97FF\",\"#FECB52\"],\"font\":{\"color\":\"#2a3f5f\"},\"geo\":{\"bgcolor\":\"white\",\"lakecolor\":\"white\",\"landcolor\":\"#E5ECF6\",\"showlakes\":true,\"showland\":true,\"subunitcolor\":\"white\"},\"hoverlabel\":{\"align\":\"left\"},\"hovermode\":\"closest\",\"mapbox\":{\"style\":\"light\"},\"paper_bgcolor\":\"white\",\"plot_bgcolor\":\"#E5ECF6\",\"polar\":{\"angularaxis\":{\"gridcolor\":\"white\",\"linecolor\":\"white\",\"ticks\":\"\"},\"bgcolor\":\"#E5ECF6\",\"radialaxis\":{\"gridcolor\":\"white\",\"linecolor\":\"white\",\"ticks\":\"\"}},\"scene\":{\"xaxis\":{\"backgroundcolor\":\"#E5ECF6\",\"gridcolor\":\"white\",\"gridwidth\":2,\"linecolor\":\"white\",\"showbackground\":true,\"ticks\":\"\",\"zerolinecolor\":\"white\"},\"yaxis\":{\"backgroundcolor\":\"#E5ECF6\",\"gridcolor\":\"white\",\"gridwidth\":2,\"linecolor\":\"white\",\"showbackground\":true,\"ticks\":\"\",\"zerolinecolor\":\"white\"},\"zaxis\":{\"backgroundcolor\":\"#E5ECF6\",\"gridcolor\":\"white\",\"gridwidth\":2,\"linecolor\":\"white\",\"showbackground\":true,\"ticks\":\"\",\"zerolinecolor\":\"white\"}},\"shapedefaults\":{\"line\":{\"color\":\"#2a3f5f\"}},\"ternary\":{\"aaxis\":{\"gridcolor\":\"white\",\"linecolor\":\"white\",\"ticks\":\"\"},\"baxis\":{\"gridcolor\":\"white\",\"linecolor\":\"white\",\"ticks\":\"\"},\"bgcolor\":\"#E5ECF6\",\"caxis\":{\"gridcolor\":\"white\",\"linecolor\":\"white\",\"ticks\":\"\"}},\"title\":{\"x\":0.05},\"xaxis\":{\"automargin\":true,\"gridcolor\":\"white\",\"linecolor\":\"white\",\"ticks\":\"\",\"title\":{\"standoff\":15},\"zerolinecolor\":\"white\",\"zerolinewidth\":2},\"yaxis\":{\"automargin\":true,\"gridcolor\":\"white\",\"linecolor\":\"white\",\"ticks\":\"\",\"title\":{\"standoff\":15},\"zerolinecolor\":\"white\",\"zerolinewidth\":2}}},\"title\":{\"text\":\"ERR2935805\"}},                        {\"responsive\": true}                    ).then(function(){\n",
       "                            \n",
       "var gd = document.getElementById('a1ac427e-4dc7-4a00-965a-beee803f1fbd');\n",
       "var x = new MutationObserver(function (mutations, observer) {{\n",
       "        var display = window.getComputedStyle(gd).display;\n",
       "        if (!display || display === 'none') {{\n",
       "            console.log([gd, 'removed!']);\n",
       "            Plotly.purge(gd);\n",
       "            observer.disconnect();\n",
       "        }}\n",
       "}});\n",
       "\n",
       "// Listen for the removal of the full notebook cells\n",
       "var notebookContainer = gd.closest('#notebook-container');\n",
       "if (notebookContainer) {{\n",
       "    x.observe(notebookContainer, {childList: true});\n",
       "}}\n",
       "\n",
       "// Listen for the clearing of the current output cell\n",
       "var outputEl = gd.closest('.output');\n",
       "if (outputEl) {{\n",
       "    x.observe(outputEl, {childList: true});\n",
       "}}\n",
       "\n",
       "                        })                };                });            </script>        </div>"
      ]
     },
     "metadata": {},
     "output_type": "display_data"
    },
    {
     "data": {
      "application/vnd.plotly.v1+json": {
       "config": {
        "plotlyServerURL": "https://plot.ly"
       },
       "data": [
        {
         "fill": "toself",
         "line": {
          "color": "#930001"
         },
         "marker": {
          "color": "#930001",
          "line": {
           "color": "black",
           "width": 2
          },
          "size": 12
         },
         "mode": "lines+markers",
         "name": "Metagenomic",
         "opacity": 0.6,
         "r": [
          0,
          0.4574756175858747,
          1,
          0.5505445450065095,
          1,
          1
         ],
         "showlegend": true,
         "subplot": "polar",
         "theta": [
          "Contigs",
          "Basepairs",
          "Largest contig",
          "N50",
          "% Mapped reads",
          "Uncalled bases"
         ],
         "type": "scatterpolar"
        },
        {
         "fill": "toself",
         "line": {
          "color": "#930001"
         },
         "marker": {
          "color": "#930001",
          "line": {
           "color": "black",
           "width": 2
          },
          "size": 12
         },
         "mode": "lines+markers",
         "name": "Metagenomic",
         "opacity": 0.6,
         "r": [
          0,
          0.44182206587110884,
          0.5606007515091431,
          1,
          1,
          1,
          1
         ],
         "showlegend": false,
         "subplot": "polar2",
         "theta": [
          "Contigs",
          "Basepairs",
          "N50",
          "% Mapped reads",
          "Uncalled bases",
          "Misassembled contigs",
          "Misassembly events"
         ],
         "type": "scatterpolar"
        },
        {
         "fill": "toself",
         "line": {
          "color": "#009392"
         },
         "marker": {
          "color": "#009392",
          "line": {
           "color": "black",
           "width": 2
          },
          "size": 12
         },
         "mode": "lines+markers",
         "name": "Genomic",
         "opacity": 0.6,
         "r": [
          0.9530638852672751,
          0.5239540954871695,
          0.9235546915861781,
          1,
          0.9967934297678621,
          1
         ],
         "showlegend": true,
         "subplot": "polar",
         "theta": [
          "Contigs",
          "Basepairs",
          "Largest contig",
          "N50",
          "% Mapped reads",
          "Uncalled bases"
         ],
         "type": "scatterpolar"
        },
        {
         "fill": "toself",
         "line": {
          "color": "#009392"
         },
         "marker": {
          "color": "#009392",
          "line": {
           "color": "black",
           "width": 2
          },
          "size": 12
         },
         "mode": "lines+markers",
         "name": "Genomic",
         "opacity": 0.6,
         "r": [
          0.8858695652173914,
          0.43027762641482886,
          1,
          0.992005780606336,
          1,
          1,
          1
         ],
         "showlegend": false,
         "subplot": "polar2",
         "theta": [
          "Contigs",
          "Basepairs",
          "N50",
          "% Mapped reads",
          "Uncalled bases",
          "Misassembled contigs",
          "Misassembly events"
         ],
         "type": "scatterpolar"
        }
       ],
       "layout": {
        "annotations": [
         {
          "font": {
           "size": 16
          },
          "showarrow": false,
          "text": "Original",
          "x": 0.225,
          "xanchor": "center",
          "xref": "paper",
          "y": 1,
          "yanchor": "bottom",
          "yref": "paper"
         },
         {
          "font": {
           "size": 16
          },
          "showarrow": false,
          "text": "Filtered",
          "x": 0.775,
          "xanchor": "center",
          "xref": "paper",
          "y": 1,
          "yanchor": "bottom",
          "yref": "paper"
         }
        ],
        "legend": {
         "orientation": "h",
         "x": 0,
         "xanchor": "left",
         "y": -0.5,
         "yanchor": "bottom"
        },
        "polar": {
         "angularaxis": {
          "categoryarray": [
           "Contigs",
           "Basepairs",
           "Largest contig",
           "N50",
           "% Mapped reads",
           "Uncalled bases"
          ],
          "linecolor": "black"
         },
         "bgcolor": "rgb(255,255,255)",
         "domain": {
          "x": [
           0,
           0.45
          ],
          "y": [
           0,
           1
          ]
         },
         "hole": 0.08333333333333333,
         "radialaxis": {
          "angle": -22.5,
          "gridcolor": "#DCDCDC",
          "linecolor": "black",
          "linewidth": 2,
          "range": [
           0,
           1
          ],
          "visible": true
         }
        },
        "polar2": {
         "angularaxis": {
          "categoryarray": [
           "Contigs",
           "Basepairs",
           "N50",
           "% Mapped reads",
           "Uncalled bases",
           "Misassembled contigs",
           "Misassembly events"
          ],
          "linecolor": "black"
         },
         "bgcolor": "rgb(255,255,255)",
         "domain": {
          "x": [
           0.55,
           1
          ],
          "y": [
           0,
           1
          ]
         },
         "hole": 0.08333333333333333,
         "radialaxis": {
          "angle": -22.5,
          "gridcolor": "#DCDCDC",
          "linecolor": "black",
          "linewidth": 2,
          "range": [
           0,
           1
          ],
          "visible": true
         }
        },
        "template": {
         "data": {
          "bar": [
           {
            "error_x": {
             "color": "#2a3f5f"
            },
            "error_y": {
             "color": "#2a3f5f"
            },
            "marker": {
             "line": {
              "color": "#E5ECF6",
              "width": 0.5
             },
             "pattern": {
              "fillmode": "overlay",
              "size": 10,
              "solidity": 0.2
             }
            },
            "type": "bar"
           }
          ],
          "barpolar": [
           {
            "marker": {
             "line": {
              "color": "#E5ECF6",
              "width": 0.5
             },
             "pattern": {
              "fillmode": "overlay",
              "size": 10,
              "solidity": 0.2
             }
            },
            "type": "barpolar"
           }
          ],
          "carpet": [
           {
            "aaxis": {
             "endlinecolor": "#2a3f5f",
             "gridcolor": "white",
             "linecolor": "white",
             "minorgridcolor": "white",
             "startlinecolor": "#2a3f5f"
            },
            "baxis": {
             "endlinecolor": "#2a3f5f",
             "gridcolor": "white",
             "linecolor": "white",
             "minorgridcolor": "white",
             "startlinecolor": "#2a3f5f"
            },
            "type": "carpet"
           }
          ],
          "choropleth": [
           {
            "colorbar": {
             "outlinewidth": 0,
             "ticks": ""
            },
            "type": "choropleth"
           }
          ],
          "contour": [
           {
            "colorbar": {
             "outlinewidth": 0,
             "ticks": ""
            },
            "colorscale": [
             [
              0,
              "#0d0887"
             ],
             [
              0.1111111111111111,
              "#46039f"
             ],
             [
              0.2222222222222222,
              "#7201a8"
             ],
             [
              0.3333333333333333,
              "#9c179e"
             ],
             [
              0.4444444444444444,
              "#bd3786"
             ],
             [
              0.5555555555555556,
              "#d8576b"
             ],
             [
              0.6666666666666666,
              "#ed7953"
             ],
             [
              0.7777777777777778,
              "#fb9f3a"
             ],
             [
              0.8888888888888888,
              "#fdca26"
             ],
             [
              1,
              "#f0f921"
             ]
            ],
            "type": "contour"
           }
          ],
          "contourcarpet": [
           {
            "colorbar": {
             "outlinewidth": 0,
             "ticks": ""
            },
            "type": "contourcarpet"
           }
          ],
          "heatmap": [
           {
            "colorbar": {
             "outlinewidth": 0,
             "ticks": ""
            },
            "colorscale": [
             [
              0,
              "#0d0887"
             ],
             [
              0.1111111111111111,
              "#46039f"
             ],
             [
              0.2222222222222222,
              "#7201a8"
             ],
             [
              0.3333333333333333,
              "#9c179e"
             ],
             [
              0.4444444444444444,
              "#bd3786"
             ],
             [
              0.5555555555555556,
              "#d8576b"
             ],
             [
              0.6666666666666666,
              "#ed7953"
             ],
             [
              0.7777777777777778,
              "#fb9f3a"
             ],
             [
              0.8888888888888888,
              "#fdca26"
             ],
             [
              1,
              "#f0f921"
             ]
            ],
            "type": "heatmap"
           }
          ],
          "heatmapgl": [
           {
            "colorbar": {
             "outlinewidth": 0,
             "ticks": ""
            },
            "colorscale": [
             [
              0,
              "#0d0887"
             ],
             [
              0.1111111111111111,
              "#46039f"
             ],
             [
              0.2222222222222222,
              "#7201a8"
             ],
             [
              0.3333333333333333,
              "#9c179e"
             ],
             [
              0.4444444444444444,
              "#bd3786"
             ],
             [
              0.5555555555555556,
              "#d8576b"
             ],
             [
              0.6666666666666666,
              "#ed7953"
             ],
             [
              0.7777777777777778,
              "#fb9f3a"
             ],
             [
              0.8888888888888888,
              "#fdca26"
             ],
             [
              1,
              "#f0f921"
             ]
            ],
            "type": "heatmapgl"
           }
          ],
          "histogram": [
           {
            "marker": {
             "pattern": {
              "fillmode": "overlay",
              "size": 10,
              "solidity": 0.2
             }
            },
            "type": "histogram"
           }
          ],
          "histogram2d": [
           {
            "colorbar": {
             "outlinewidth": 0,
             "ticks": ""
            },
            "colorscale": [
             [
              0,
              "#0d0887"
             ],
             [
              0.1111111111111111,
              "#46039f"
             ],
             [
              0.2222222222222222,
              "#7201a8"
             ],
             [
              0.3333333333333333,
              "#9c179e"
             ],
             [
              0.4444444444444444,
              "#bd3786"
             ],
             [
              0.5555555555555556,
              "#d8576b"
             ],
             [
              0.6666666666666666,
              "#ed7953"
             ],
             [
              0.7777777777777778,
              "#fb9f3a"
             ],
             [
              0.8888888888888888,
              "#fdca26"
             ],
             [
              1,
              "#f0f921"
             ]
            ],
            "type": "histogram2d"
           }
          ],
          "histogram2dcontour": [
           {
            "colorbar": {
             "outlinewidth": 0,
             "ticks": ""
            },
            "colorscale": [
             [
              0,
              "#0d0887"
             ],
             [
              0.1111111111111111,
              "#46039f"
             ],
             [
              0.2222222222222222,
              "#7201a8"
             ],
             [
              0.3333333333333333,
              "#9c179e"
             ],
             [
              0.4444444444444444,
              "#bd3786"
             ],
             [
              0.5555555555555556,
              "#d8576b"
             ],
             [
              0.6666666666666666,
              "#ed7953"
             ],
             [
              0.7777777777777778,
              "#fb9f3a"
             ],
             [
              0.8888888888888888,
              "#fdca26"
             ],
             [
              1,
              "#f0f921"
             ]
            ],
            "type": "histogram2dcontour"
           }
          ],
          "mesh3d": [
           {
            "colorbar": {
             "outlinewidth": 0,
             "ticks": ""
            },
            "type": "mesh3d"
           }
          ],
          "parcoords": [
           {
            "line": {
             "colorbar": {
              "outlinewidth": 0,
              "ticks": ""
             }
            },
            "type": "parcoords"
           }
          ],
          "pie": [
           {
            "automargin": true,
            "type": "pie"
           }
          ],
          "scatter": [
           {
            "marker": {
             "colorbar": {
              "outlinewidth": 0,
              "ticks": ""
             }
            },
            "type": "scatter"
           }
          ],
          "scatter3d": [
           {
            "line": {
             "colorbar": {
              "outlinewidth": 0,
              "ticks": ""
             }
            },
            "marker": {
             "colorbar": {
              "outlinewidth": 0,
              "ticks": ""
             }
            },
            "type": "scatter3d"
           }
          ],
          "scattercarpet": [
           {
            "marker": {
             "colorbar": {
              "outlinewidth": 0,
              "ticks": ""
             }
            },
            "type": "scattercarpet"
           }
          ],
          "scattergeo": [
           {
            "marker": {
             "colorbar": {
              "outlinewidth": 0,
              "ticks": ""
             }
            },
            "type": "scattergeo"
           }
          ],
          "scattergl": [
           {
            "marker": {
             "colorbar": {
              "outlinewidth": 0,
              "ticks": ""
             }
            },
            "type": "scattergl"
           }
          ],
          "scattermapbox": [
           {
            "marker": {
             "colorbar": {
              "outlinewidth": 0,
              "ticks": ""
             }
            },
            "type": "scattermapbox"
           }
          ],
          "scatterpolar": [
           {
            "marker": {
             "colorbar": {
              "outlinewidth": 0,
              "ticks": ""
             }
            },
            "type": "scatterpolar"
           }
          ],
          "scatterpolargl": [
           {
            "marker": {
             "colorbar": {
              "outlinewidth": 0,
              "ticks": ""
             }
            },
            "type": "scatterpolargl"
           }
          ],
          "scatterternary": [
           {
            "marker": {
             "colorbar": {
              "outlinewidth": 0,
              "ticks": ""
             }
            },
            "type": "scatterternary"
           }
          ],
          "surface": [
           {
            "colorbar": {
             "outlinewidth": 0,
             "ticks": ""
            },
            "colorscale": [
             [
              0,
              "#0d0887"
             ],
             [
              0.1111111111111111,
              "#46039f"
             ],
             [
              0.2222222222222222,
              "#7201a8"
             ],
             [
              0.3333333333333333,
              "#9c179e"
             ],
             [
              0.4444444444444444,
              "#bd3786"
             ],
             [
              0.5555555555555556,
              "#d8576b"
             ],
             [
              0.6666666666666666,
              "#ed7953"
             ],
             [
              0.7777777777777778,
              "#fb9f3a"
             ],
             [
              0.8888888888888888,
              "#fdca26"
             ],
             [
              1,
              "#f0f921"
             ]
            ],
            "type": "surface"
           }
          ],
          "table": [
           {
            "cells": {
             "fill": {
              "color": "#EBF0F8"
             },
             "line": {
              "color": "white"
             }
            },
            "header": {
             "fill": {
              "color": "#C8D4E3"
             },
             "line": {
              "color": "white"
             }
            },
            "type": "table"
           }
          ]
         },
         "layout": {
          "annotationdefaults": {
           "arrowcolor": "#2a3f5f",
           "arrowhead": 0,
           "arrowwidth": 1
          },
          "autotypenumbers": "strict",
          "coloraxis": {
           "colorbar": {
            "outlinewidth": 0,
            "ticks": ""
           }
          },
          "colorscale": {
           "diverging": [
            [
             0,
             "#8e0152"
            ],
            [
             0.1,
             "#c51b7d"
            ],
            [
             0.2,
             "#de77ae"
            ],
            [
             0.3,
             "#f1b6da"
            ],
            [
             0.4,
             "#fde0ef"
            ],
            [
             0.5,
             "#f7f7f7"
            ],
            [
             0.6,
             "#e6f5d0"
            ],
            [
             0.7,
             "#b8e186"
            ],
            [
             0.8,
             "#7fbc41"
            ],
            [
             0.9,
             "#4d9221"
            ],
            [
             1,
             "#276419"
            ]
           ],
           "sequential": [
            [
             0,
             "#0d0887"
            ],
            [
             0.1111111111111111,
             "#46039f"
            ],
            [
             0.2222222222222222,
             "#7201a8"
            ],
            [
             0.3333333333333333,
             "#9c179e"
            ],
            [
             0.4444444444444444,
             "#bd3786"
            ],
            [
             0.5555555555555556,
             "#d8576b"
            ],
            [
             0.6666666666666666,
             "#ed7953"
            ],
            [
             0.7777777777777778,
             "#fb9f3a"
            ],
            [
             0.8888888888888888,
             "#fdca26"
            ],
            [
             1,
             "#f0f921"
            ]
           ],
           "sequentialminus": [
            [
             0,
             "#0d0887"
            ],
            [
             0.1111111111111111,
             "#46039f"
            ],
            [
             0.2222222222222222,
             "#7201a8"
            ],
            [
             0.3333333333333333,
             "#9c179e"
            ],
            [
             0.4444444444444444,
             "#bd3786"
            ],
            [
             0.5555555555555556,
             "#d8576b"
            ],
            [
             0.6666666666666666,
             "#ed7953"
            ],
            [
             0.7777777777777778,
             "#fb9f3a"
            ],
            [
             0.8888888888888888,
             "#fdca26"
            ],
            [
             1,
             "#f0f921"
            ]
           ]
          },
          "colorway": [
           "#636efa",
           "#EF553B",
           "#00cc96",
           "#ab63fa",
           "#FFA15A",
           "#19d3f3",
           "#FF6692",
           "#B6E880",
           "#FF97FF",
           "#FECB52"
          ],
          "font": {
           "color": "#2a3f5f"
          },
          "geo": {
           "bgcolor": "white",
           "lakecolor": "white",
           "landcolor": "#E5ECF6",
           "showlakes": true,
           "showland": true,
           "subunitcolor": "white"
          },
          "hoverlabel": {
           "align": "left"
          },
          "hovermode": "closest",
          "mapbox": {
           "style": "light"
          },
          "paper_bgcolor": "white",
          "plot_bgcolor": "#E5ECF6",
          "polar": {
           "angularaxis": {
            "gridcolor": "white",
            "linecolor": "white",
            "ticks": ""
           },
           "bgcolor": "#E5ECF6",
           "radialaxis": {
            "gridcolor": "white",
            "linecolor": "white",
            "ticks": ""
           }
          },
          "scene": {
           "xaxis": {
            "backgroundcolor": "#E5ECF6",
            "gridcolor": "white",
            "gridwidth": 2,
            "linecolor": "white",
            "showbackground": true,
            "ticks": "",
            "zerolinecolor": "white"
           },
           "yaxis": {
            "backgroundcolor": "#E5ECF6",
            "gridcolor": "white",
            "gridwidth": 2,
            "linecolor": "white",
            "showbackground": true,
            "ticks": "",
            "zerolinecolor": "white"
           },
           "zaxis": {
            "backgroundcolor": "#E5ECF6",
            "gridcolor": "white",
            "gridwidth": 2,
            "linecolor": "white",
            "showbackground": true,
            "ticks": "",
            "zerolinecolor": "white"
           }
          },
          "shapedefaults": {
           "line": {
            "color": "#2a3f5f"
           }
          },
          "ternary": {
           "aaxis": {
            "gridcolor": "white",
            "linecolor": "white",
            "ticks": ""
           },
           "baxis": {
            "gridcolor": "white",
            "linecolor": "white",
            "ticks": ""
           },
           "bgcolor": "#E5ECF6",
           "caxis": {
            "gridcolor": "white",
            "linecolor": "white",
            "ticks": ""
           }
          },
          "title": {
           "x": 0.05
          },
          "xaxis": {
           "automargin": true,
           "gridcolor": "white",
           "linecolor": "white",
           "ticks": "",
           "title": {
            "standoff": 15
           },
           "zerolinecolor": "white",
           "zerolinewidth": 2
          },
          "yaxis": {
           "automargin": true,
           "gridcolor": "white",
           "linecolor": "white",
           "ticks": "",
           "title": {
            "standoff": 15
           },
           "zerolinecolor": "white",
           "zerolinewidth": 2
          }
         }
        },
        "title": {
         "text": "LHS"
        }
       }
      },
      "text/html": [
       "<div>                            <div id=\"28ff4fee-17ec-4f5b-9bd7-e9e56266d52d\" class=\"plotly-graph-div\" style=\"height:525px; width:100%;\"></div>            <script type=\"text/javascript\">                require([\"plotly\"], function(Plotly) {                    window.PLOTLYENV=window.PLOTLYENV || {};                                    if (document.getElementById(\"28ff4fee-17ec-4f5b-9bd7-e9e56266d52d\")) {                    Plotly.newPlot(                        \"28ff4fee-17ec-4f5b-9bd7-e9e56266d52d\",                        [{\"fill\":\"toself\",\"line\":{\"color\":\"#930001\"},\"marker\":{\"color\":\"#930001\",\"line\":{\"color\":\"black\",\"width\":2},\"size\":12},\"mode\":\"lines+markers\",\"name\":\"Metagenomic\",\"opacity\":0.6,\"r\":[0.0,0.4574756175858747,1.0,0.5505445450065095,1.0,1.0],\"showlegend\":true,\"subplot\":\"polar\",\"theta\":[\"Contigs\",\"Basepairs\",\"Largest contig\",\"N50\",\"% Mapped reads\",\"Uncalled bases\"],\"type\":\"scatterpolar\"},{\"fill\":\"toself\",\"line\":{\"color\":\"#930001\"},\"marker\":{\"color\":\"#930001\",\"line\":{\"color\":\"black\",\"width\":2},\"size\":12},\"mode\":\"lines+markers\",\"name\":\"Metagenomic\",\"opacity\":0.6,\"r\":[0.0,0.44182206587110884,0.5606007515091431,1.0,1.0,1.0,1.0],\"showlegend\":false,\"subplot\":\"polar2\",\"theta\":[\"Contigs\",\"Basepairs\",\"N50\",\"% Mapped reads\",\"Uncalled bases\",\"Misassembled contigs\",\"Misassembly events\"],\"type\":\"scatterpolar\"},{\"fill\":\"toself\",\"line\":{\"color\":\"#009392\"},\"marker\":{\"color\":\"#009392\",\"line\":{\"color\":\"black\",\"width\":2},\"size\":12},\"mode\":\"lines+markers\",\"name\":\"Genomic\",\"opacity\":0.6,\"r\":[0.9530638852672751,0.5239540954871695,0.9235546915861781,1.0,0.9967934297678621,1.0],\"showlegend\":true,\"subplot\":\"polar\",\"theta\":[\"Contigs\",\"Basepairs\",\"Largest contig\",\"N50\",\"% Mapped reads\",\"Uncalled bases\"],\"type\":\"scatterpolar\"},{\"fill\":\"toself\",\"line\":{\"color\":\"#009392\"},\"marker\":{\"color\":\"#009392\",\"line\":{\"color\":\"black\",\"width\":2},\"size\":12},\"mode\":\"lines+markers\",\"name\":\"Genomic\",\"opacity\":0.6,\"r\":[0.8858695652173914,0.43027762641482886,1.0,0.992005780606336,1.0,1.0,1.0],\"showlegend\":false,\"subplot\":\"polar2\",\"theta\":[\"Contigs\",\"Basepairs\",\"N50\",\"% Mapped reads\",\"Uncalled bases\",\"Misassembled contigs\",\"Misassembly events\"],\"type\":\"scatterpolar\"}],                        {\"annotations\":[{\"font\":{\"size\":16},\"showarrow\":false,\"text\":\"Original\",\"x\":0.225,\"xanchor\":\"center\",\"xref\":\"paper\",\"y\":1.0,\"yanchor\":\"bottom\",\"yref\":\"paper\"},{\"font\":{\"size\":16},\"showarrow\":false,\"text\":\"Filtered\",\"x\":0.775,\"xanchor\":\"center\",\"xref\":\"paper\",\"y\":1.0,\"yanchor\":\"bottom\",\"yref\":\"paper\"}],\"legend\":{\"orientation\":\"h\",\"x\":0,\"xanchor\":\"left\",\"y\":-0.5,\"yanchor\":\"bottom\"},\"polar\":{\"angularaxis\":{\"categoryarray\":[\"Contigs\",\"Basepairs\",\"Largest contig\",\"N50\",\"% Mapped reads\",\"Uncalled bases\"],\"linecolor\":\"black\"},\"bgcolor\":\"rgb(255,255,255)\",\"domain\":{\"x\":[0.0,0.45],\"y\":[0.0,1.0]},\"hole\":0.08333333333333333,\"radialaxis\":{\"angle\":-22.5,\"gridcolor\":\"#DCDCDC\",\"linecolor\":\"black\",\"linewidth\":2,\"range\":[0,1],\"visible\":true}},\"polar2\":{\"angularaxis\":{\"categoryarray\":[\"Contigs\",\"Basepairs\",\"N50\",\"% Mapped reads\",\"Uncalled bases\",\"Misassembled contigs\",\"Misassembly events\"],\"linecolor\":\"black\"},\"bgcolor\":\"rgb(255,255,255)\",\"domain\":{\"x\":[0.55,1.0],\"y\":[0.0,1.0]},\"hole\":0.08333333333333333,\"radialaxis\":{\"angle\":-22.5,\"gridcolor\":\"#DCDCDC\",\"linecolor\":\"black\",\"linewidth\":2,\"range\":[0,1],\"visible\":true}},\"template\":{\"data\":{\"bar\":[{\"error_x\":{\"color\":\"#2a3f5f\"},\"error_y\":{\"color\":\"#2a3f5f\"},\"marker\":{\"line\":{\"color\":\"#E5ECF6\",\"width\":0.5},\"pattern\":{\"fillmode\":\"overlay\",\"size\":10,\"solidity\":0.2}},\"type\":\"bar\"}],\"barpolar\":[{\"marker\":{\"line\":{\"color\":\"#E5ECF6\",\"width\":0.5},\"pattern\":{\"fillmode\":\"overlay\",\"size\":10,\"solidity\":0.2}},\"type\":\"barpolar\"}],\"carpet\":[{\"aaxis\":{\"endlinecolor\":\"#2a3f5f\",\"gridcolor\":\"white\",\"linecolor\":\"white\",\"minorgridcolor\":\"white\",\"startlinecolor\":\"#2a3f5f\"},\"baxis\":{\"endlinecolor\":\"#2a3f5f\",\"gridcolor\":\"white\",\"linecolor\":\"white\",\"minorgridcolor\":\"white\",\"startlinecolor\":\"#2a3f5f\"},\"type\":\"carpet\"}],\"choropleth\":[{\"colorbar\":{\"outlinewidth\":0,\"ticks\":\"\"},\"type\":\"choropleth\"}],\"contour\":[{\"colorbar\":{\"outlinewidth\":0,\"ticks\":\"\"},\"colorscale\":[[0.0,\"#0d0887\"],[0.1111111111111111,\"#46039f\"],[0.2222222222222222,\"#7201a8\"],[0.3333333333333333,\"#9c179e\"],[0.4444444444444444,\"#bd3786\"],[0.5555555555555556,\"#d8576b\"],[0.6666666666666666,\"#ed7953\"],[0.7777777777777778,\"#fb9f3a\"],[0.8888888888888888,\"#fdca26\"],[1.0,\"#f0f921\"]],\"type\":\"contour\"}],\"contourcarpet\":[{\"colorbar\":{\"outlinewidth\":0,\"ticks\":\"\"},\"type\":\"contourcarpet\"}],\"heatmap\":[{\"colorbar\":{\"outlinewidth\":0,\"ticks\":\"\"},\"colorscale\":[[0.0,\"#0d0887\"],[0.1111111111111111,\"#46039f\"],[0.2222222222222222,\"#7201a8\"],[0.3333333333333333,\"#9c179e\"],[0.4444444444444444,\"#bd3786\"],[0.5555555555555556,\"#d8576b\"],[0.6666666666666666,\"#ed7953\"],[0.7777777777777778,\"#fb9f3a\"],[0.8888888888888888,\"#fdca26\"],[1.0,\"#f0f921\"]],\"type\":\"heatmap\"}],\"heatmapgl\":[{\"colorbar\":{\"outlinewidth\":0,\"ticks\":\"\"},\"colorscale\":[[0.0,\"#0d0887\"],[0.1111111111111111,\"#46039f\"],[0.2222222222222222,\"#7201a8\"],[0.3333333333333333,\"#9c179e\"],[0.4444444444444444,\"#bd3786\"],[0.5555555555555556,\"#d8576b\"],[0.6666666666666666,\"#ed7953\"],[0.7777777777777778,\"#fb9f3a\"],[0.8888888888888888,\"#fdca26\"],[1.0,\"#f0f921\"]],\"type\":\"heatmapgl\"}],\"histogram\":[{\"marker\":{\"pattern\":{\"fillmode\":\"overlay\",\"size\":10,\"solidity\":0.2}},\"type\":\"histogram\"}],\"histogram2d\":[{\"colorbar\":{\"outlinewidth\":0,\"ticks\":\"\"},\"colorscale\":[[0.0,\"#0d0887\"],[0.1111111111111111,\"#46039f\"],[0.2222222222222222,\"#7201a8\"],[0.3333333333333333,\"#9c179e\"],[0.4444444444444444,\"#bd3786\"],[0.5555555555555556,\"#d8576b\"],[0.6666666666666666,\"#ed7953\"],[0.7777777777777778,\"#fb9f3a\"],[0.8888888888888888,\"#fdca26\"],[1.0,\"#f0f921\"]],\"type\":\"histogram2d\"}],\"histogram2dcontour\":[{\"colorbar\":{\"outlinewidth\":0,\"ticks\":\"\"},\"colorscale\":[[0.0,\"#0d0887\"],[0.1111111111111111,\"#46039f\"],[0.2222222222222222,\"#7201a8\"],[0.3333333333333333,\"#9c179e\"],[0.4444444444444444,\"#bd3786\"],[0.5555555555555556,\"#d8576b\"],[0.6666666666666666,\"#ed7953\"],[0.7777777777777778,\"#fb9f3a\"],[0.8888888888888888,\"#fdca26\"],[1.0,\"#f0f921\"]],\"type\":\"histogram2dcontour\"}],\"mesh3d\":[{\"colorbar\":{\"outlinewidth\":0,\"ticks\":\"\"},\"type\":\"mesh3d\"}],\"parcoords\":[{\"line\":{\"colorbar\":{\"outlinewidth\":0,\"ticks\":\"\"}},\"type\":\"parcoords\"}],\"pie\":[{\"automargin\":true,\"type\":\"pie\"}],\"scatter\":[{\"marker\":{\"colorbar\":{\"outlinewidth\":0,\"ticks\":\"\"}},\"type\":\"scatter\"}],\"scatter3d\":[{\"line\":{\"colorbar\":{\"outlinewidth\":0,\"ticks\":\"\"}},\"marker\":{\"colorbar\":{\"outlinewidth\":0,\"ticks\":\"\"}},\"type\":\"scatter3d\"}],\"scattercarpet\":[{\"marker\":{\"colorbar\":{\"outlinewidth\":0,\"ticks\":\"\"}},\"type\":\"scattercarpet\"}],\"scattergeo\":[{\"marker\":{\"colorbar\":{\"outlinewidth\":0,\"ticks\":\"\"}},\"type\":\"scattergeo\"}],\"scattergl\":[{\"marker\":{\"colorbar\":{\"outlinewidth\":0,\"ticks\":\"\"}},\"type\":\"scattergl\"}],\"scattermapbox\":[{\"marker\":{\"colorbar\":{\"outlinewidth\":0,\"ticks\":\"\"}},\"type\":\"scattermapbox\"}],\"scatterpolar\":[{\"marker\":{\"colorbar\":{\"outlinewidth\":0,\"ticks\":\"\"}},\"type\":\"scatterpolar\"}],\"scatterpolargl\":[{\"marker\":{\"colorbar\":{\"outlinewidth\":0,\"ticks\":\"\"}},\"type\":\"scatterpolargl\"}],\"scatterternary\":[{\"marker\":{\"colorbar\":{\"outlinewidth\":0,\"ticks\":\"\"}},\"type\":\"scatterternary\"}],\"surface\":[{\"colorbar\":{\"outlinewidth\":0,\"ticks\":\"\"},\"colorscale\":[[0.0,\"#0d0887\"],[0.1111111111111111,\"#46039f\"],[0.2222222222222222,\"#7201a8\"],[0.3333333333333333,\"#9c179e\"],[0.4444444444444444,\"#bd3786\"],[0.5555555555555556,\"#d8576b\"],[0.6666666666666666,\"#ed7953\"],[0.7777777777777778,\"#fb9f3a\"],[0.8888888888888888,\"#fdca26\"],[1.0,\"#f0f921\"]],\"type\":\"surface\"}],\"table\":[{\"cells\":{\"fill\":{\"color\":\"#EBF0F8\"},\"line\":{\"color\":\"white\"}},\"header\":{\"fill\":{\"color\":\"#C8D4E3\"},\"line\":{\"color\":\"white\"}},\"type\":\"table\"}]},\"layout\":{\"annotationdefaults\":{\"arrowcolor\":\"#2a3f5f\",\"arrowhead\":0,\"arrowwidth\":1},\"autotypenumbers\":\"strict\",\"coloraxis\":{\"colorbar\":{\"outlinewidth\":0,\"ticks\":\"\"}},\"colorscale\":{\"diverging\":[[0,\"#8e0152\"],[0.1,\"#c51b7d\"],[0.2,\"#de77ae\"],[0.3,\"#f1b6da\"],[0.4,\"#fde0ef\"],[0.5,\"#f7f7f7\"],[0.6,\"#e6f5d0\"],[0.7,\"#b8e186\"],[0.8,\"#7fbc41\"],[0.9,\"#4d9221\"],[1,\"#276419\"]],\"sequential\":[[0.0,\"#0d0887\"],[0.1111111111111111,\"#46039f\"],[0.2222222222222222,\"#7201a8\"],[0.3333333333333333,\"#9c179e\"],[0.4444444444444444,\"#bd3786\"],[0.5555555555555556,\"#d8576b\"],[0.6666666666666666,\"#ed7953\"],[0.7777777777777778,\"#fb9f3a\"],[0.8888888888888888,\"#fdca26\"],[1.0,\"#f0f921\"]],\"sequentialminus\":[[0.0,\"#0d0887\"],[0.1111111111111111,\"#46039f\"],[0.2222222222222222,\"#7201a8\"],[0.3333333333333333,\"#9c179e\"],[0.4444444444444444,\"#bd3786\"],[0.5555555555555556,\"#d8576b\"],[0.6666666666666666,\"#ed7953\"],[0.7777777777777778,\"#fb9f3a\"],[0.8888888888888888,\"#fdca26\"],[1.0,\"#f0f921\"]]},\"colorway\":[\"#636efa\",\"#EF553B\",\"#00cc96\",\"#ab63fa\",\"#FFA15A\",\"#19d3f3\",\"#FF6692\",\"#B6E880\",\"#FF97FF\",\"#FECB52\"],\"font\":{\"color\":\"#2a3f5f\"},\"geo\":{\"bgcolor\":\"white\",\"lakecolor\":\"white\",\"landcolor\":\"#E5ECF6\",\"showlakes\":true,\"showland\":true,\"subunitcolor\":\"white\"},\"hoverlabel\":{\"align\":\"left\"},\"hovermode\":\"closest\",\"mapbox\":{\"style\":\"light\"},\"paper_bgcolor\":\"white\",\"plot_bgcolor\":\"#E5ECF6\",\"polar\":{\"angularaxis\":{\"gridcolor\":\"white\",\"linecolor\":\"white\",\"ticks\":\"\"},\"bgcolor\":\"#E5ECF6\",\"radialaxis\":{\"gridcolor\":\"white\",\"linecolor\":\"white\",\"ticks\":\"\"}},\"scene\":{\"xaxis\":{\"backgroundcolor\":\"#E5ECF6\",\"gridcolor\":\"white\",\"gridwidth\":2,\"linecolor\":\"white\",\"showbackground\":true,\"ticks\":\"\",\"zerolinecolor\":\"white\"},\"yaxis\":{\"backgroundcolor\":\"#E5ECF6\",\"gridcolor\":\"white\",\"gridwidth\":2,\"linecolor\":\"white\",\"showbackground\":true,\"ticks\":\"\",\"zerolinecolor\":\"white\"},\"zaxis\":{\"backgroundcolor\":\"#E5ECF6\",\"gridcolor\":\"white\",\"gridwidth\":2,\"linecolor\":\"white\",\"showbackground\":true,\"ticks\":\"\",\"zerolinecolor\":\"white\"}},\"shapedefaults\":{\"line\":{\"color\":\"#2a3f5f\"}},\"ternary\":{\"aaxis\":{\"gridcolor\":\"white\",\"linecolor\":\"white\",\"ticks\":\"\"},\"baxis\":{\"gridcolor\":\"white\",\"linecolor\":\"white\",\"ticks\":\"\"},\"bgcolor\":\"#E5ECF6\",\"caxis\":{\"gridcolor\":\"white\",\"linecolor\":\"white\",\"ticks\":\"\"}},\"title\":{\"x\":0.05},\"xaxis\":{\"automargin\":true,\"gridcolor\":\"white\",\"linecolor\":\"white\",\"ticks\":\"\",\"title\":{\"standoff\":15},\"zerolinecolor\":\"white\",\"zerolinewidth\":2},\"yaxis\":{\"automargin\":true,\"gridcolor\":\"white\",\"linecolor\":\"white\",\"ticks\":\"\",\"title\":{\"standoff\":15},\"zerolinecolor\":\"white\",\"zerolinewidth\":2}}},\"title\":{\"text\":\"LHS\"}},                        {\"responsive\": true}                    ).then(function(){\n",
       "                            \n",
       "var gd = document.getElementById('28ff4fee-17ec-4f5b-9bd7-e9e56266d52d');\n",
       "var x = new MutationObserver(function (mutations, observer) {{\n",
       "        var display = window.getComputedStyle(gd).display;\n",
       "        if (!display || display === 'none') {{\n",
       "            console.log([gd, 'removed!']);\n",
       "            Plotly.purge(gd);\n",
       "            observer.disconnect();\n",
       "        }}\n",
       "}});\n",
       "\n",
       "// Listen for the removal of the full notebook cells\n",
       "var notebookContainer = gd.closest('#notebook-container');\n",
       "if (notebookContainer) {{\n",
       "    x.observe(notebookContainer, {childList: true});\n",
       "}}\n",
       "\n",
       "// Listen for the clearing of the current output cell\n",
       "var outputEl = gd.closest('.output');\n",
       "if (outputEl) {{\n",
       "    x.observe(outputEl, {childList: true});\n",
       "}}\n",
       "\n",
       "                        })                };                });            </script>        </div>"
      ]
     },
     "metadata": {},
     "output_type": "display_data"
    },
    {
     "data": {
      "application/vnd.plotly.v1+json": {
       "config": {
        "plotlyServerURL": "https://plot.ly"
       },
       "data": [
        {
         "fill": "toself",
         "line": {
          "color": "#930001"
         },
         "marker": {
          "color": "#930001",
          "line": {
           "color": "black",
           "width": 2
          },
          "size": 12
         },
         "mode": "lines+markers",
         "name": "Metagenomic",
         "opacity": 0.6,
         "r": [
          0,
          0.9887723321476453,
          0.7038450771738088,
          0.8527606610895736,
          1,
          1
         ],
         "showlegend": true,
         "subplot": "polar",
         "theta": [
          "Contigs",
          "Basepairs",
          "Largest contig",
          "N50",
          "% Mapped reads",
          "Uncalled bases"
         ],
         "type": "scatterpolar"
        },
        {
         "fill": "toself",
         "line": {
          "color": "#930001"
         },
         "marker": {
          "color": "#930001",
          "line": {
           "color": "black",
           "width": 2
          },
          "size": 12
         },
         "mode": "lines+markers",
         "name": "Metagenomic",
         "opacity": 0.6,
         "r": [
          0,
          0.9829425454897498,
          0.8527606610895736,
          1,
          1,
          0,
          0
         ],
         "showlegend": false,
         "subplot": "polar2",
         "theta": [
          "Contigs",
          "Basepairs",
          "N50",
          "% Mapped reads",
          "Uncalled bases",
          "Misassembled contigs",
          "Misassembly events"
         ],
         "type": "scatterpolar"
        },
        {
         "fill": "toself",
         "line": {
          "color": "#009392"
         },
         "marker": {
          "color": "#009392",
          "line": {
           "color": "black",
           "width": 2
          },
          "size": 12
         },
         "mode": "lines+markers",
         "name": "Genomic",
         "opacity": 0.6,
         "r": [
          0.13797634691195793,
          0.9908970898794106,
          1,
          1,
          0.9964342659788687,
          1
         ],
         "showlegend": true,
         "subplot": "polar",
         "theta": [
          "Contigs",
          "Basepairs",
          "Largest contig",
          "N50",
          "% Mapped reads",
          "Uncalled bases"
         ],
         "type": "scatterpolar"
        },
        {
         "fill": "toself",
         "line": {
          "color": "#009392"
         },
         "marker": {
          "color": "#009392",
          "line": {
           "color": "black",
           "width": 2
          },
          "size": 12
         },
         "mode": "lines+markers",
         "name": "Genomic",
         "opacity": 0.6,
         "r": [
          0.08493150684931505,
          0.9808766957079952,
          1,
          0.9963102121705886,
          1,
          1,
          1
         ],
         "showlegend": false,
         "subplot": "polar2",
         "theta": [
          "Contigs",
          "Basepairs",
          "N50",
          "% Mapped reads",
          "Uncalled bases",
          "Misassembled contigs",
          "Misassembly events"
         ],
         "type": "scatterpolar"
        }
       ],
       "layout": {
        "annotations": [
         {
          "font": {
           "size": 16
          },
          "showarrow": false,
          "text": "Original",
          "x": 0.225,
          "xanchor": "center",
          "xref": "paper",
          "y": 1,
          "yanchor": "bottom",
          "yref": "paper"
         },
         {
          "font": {
           "size": 16
          },
          "showarrow": false,
          "text": "Filtered",
          "x": 0.775,
          "xanchor": "center",
          "xref": "paper",
          "y": 1,
          "yanchor": "bottom",
          "yref": "paper"
         }
        ],
        "legend": {
         "orientation": "h",
         "x": 0,
         "xanchor": "left",
         "y": -0.5,
         "yanchor": "bottom"
        },
        "polar": {
         "angularaxis": {
          "categoryarray": [
           "Contigs",
           "Basepairs",
           "Largest contig",
           "N50",
           "% Mapped reads",
           "Uncalled bases"
          ],
          "linecolor": "black"
         },
         "bgcolor": "rgb(255,255,255)",
         "domain": {
          "x": [
           0,
           0.45
          ],
          "y": [
           0,
           1
          ]
         },
         "hole": 0.08333333333333333,
         "radialaxis": {
          "angle": -22.5,
          "gridcolor": "#DCDCDC",
          "linecolor": "black",
          "linewidth": 2,
          "range": [
           0,
           1
          ],
          "visible": true
         }
        },
        "polar2": {
         "angularaxis": {
          "categoryarray": [
           "Contigs",
           "Basepairs",
           "N50",
           "% Mapped reads",
           "Uncalled bases",
           "Misassembled contigs",
           "Misassembly events"
          ],
          "linecolor": "black"
         },
         "bgcolor": "rgb(255,255,255)",
         "domain": {
          "x": [
           0.55,
           1
          ],
          "y": [
           0,
           1
          ]
         },
         "hole": 0.08333333333333333,
         "radialaxis": {
          "angle": -22.5,
          "gridcolor": "#DCDCDC",
          "linecolor": "black",
          "linewidth": 2,
          "range": [
           0,
           1
          ],
          "visible": true
         }
        },
        "template": {
         "data": {
          "bar": [
           {
            "error_x": {
             "color": "#2a3f5f"
            },
            "error_y": {
             "color": "#2a3f5f"
            },
            "marker": {
             "line": {
              "color": "#E5ECF6",
              "width": 0.5
             },
             "pattern": {
              "fillmode": "overlay",
              "size": 10,
              "solidity": 0.2
             }
            },
            "type": "bar"
           }
          ],
          "barpolar": [
           {
            "marker": {
             "line": {
              "color": "#E5ECF6",
              "width": 0.5
             },
             "pattern": {
              "fillmode": "overlay",
              "size": 10,
              "solidity": 0.2
             }
            },
            "type": "barpolar"
           }
          ],
          "carpet": [
           {
            "aaxis": {
             "endlinecolor": "#2a3f5f",
             "gridcolor": "white",
             "linecolor": "white",
             "minorgridcolor": "white",
             "startlinecolor": "#2a3f5f"
            },
            "baxis": {
             "endlinecolor": "#2a3f5f",
             "gridcolor": "white",
             "linecolor": "white",
             "minorgridcolor": "white",
             "startlinecolor": "#2a3f5f"
            },
            "type": "carpet"
           }
          ],
          "choropleth": [
           {
            "colorbar": {
             "outlinewidth": 0,
             "ticks": ""
            },
            "type": "choropleth"
           }
          ],
          "contour": [
           {
            "colorbar": {
             "outlinewidth": 0,
             "ticks": ""
            },
            "colorscale": [
             [
              0,
              "#0d0887"
             ],
             [
              0.1111111111111111,
              "#46039f"
             ],
             [
              0.2222222222222222,
              "#7201a8"
             ],
             [
              0.3333333333333333,
              "#9c179e"
             ],
             [
              0.4444444444444444,
              "#bd3786"
             ],
             [
              0.5555555555555556,
              "#d8576b"
             ],
             [
              0.6666666666666666,
              "#ed7953"
             ],
             [
              0.7777777777777778,
              "#fb9f3a"
             ],
             [
              0.8888888888888888,
              "#fdca26"
             ],
             [
              1,
              "#f0f921"
             ]
            ],
            "type": "contour"
           }
          ],
          "contourcarpet": [
           {
            "colorbar": {
             "outlinewidth": 0,
             "ticks": ""
            },
            "type": "contourcarpet"
           }
          ],
          "heatmap": [
           {
            "colorbar": {
             "outlinewidth": 0,
             "ticks": ""
            },
            "colorscale": [
             [
              0,
              "#0d0887"
             ],
             [
              0.1111111111111111,
              "#46039f"
             ],
             [
              0.2222222222222222,
              "#7201a8"
             ],
             [
              0.3333333333333333,
              "#9c179e"
             ],
             [
              0.4444444444444444,
              "#bd3786"
             ],
             [
              0.5555555555555556,
              "#d8576b"
             ],
             [
              0.6666666666666666,
              "#ed7953"
             ],
             [
              0.7777777777777778,
              "#fb9f3a"
             ],
             [
              0.8888888888888888,
              "#fdca26"
             ],
             [
              1,
              "#f0f921"
             ]
            ],
            "type": "heatmap"
           }
          ],
          "heatmapgl": [
           {
            "colorbar": {
             "outlinewidth": 0,
             "ticks": ""
            },
            "colorscale": [
             [
              0,
              "#0d0887"
             ],
             [
              0.1111111111111111,
              "#46039f"
             ],
             [
              0.2222222222222222,
              "#7201a8"
             ],
             [
              0.3333333333333333,
              "#9c179e"
             ],
             [
              0.4444444444444444,
              "#bd3786"
             ],
             [
              0.5555555555555556,
              "#d8576b"
             ],
             [
              0.6666666666666666,
              "#ed7953"
             ],
             [
              0.7777777777777778,
              "#fb9f3a"
             ],
             [
              0.8888888888888888,
              "#fdca26"
             ],
             [
              1,
              "#f0f921"
             ]
            ],
            "type": "heatmapgl"
           }
          ],
          "histogram": [
           {
            "marker": {
             "pattern": {
              "fillmode": "overlay",
              "size": 10,
              "solidity": 0.2
             }
            },
            "type": "histogram"
           }
          ],
          "histogram2d": [
           {
            "colorbar": {
             "outlinewidth": 0,
             "ticks": ""
            },
            "colorscale": [
             [
              0,
              "#0d0887"
             ],
             [
              0.1111111111111111,
              "#46039f"
             ],
             [
              0.2222222222222222,
              "#7201a8"
             ],
             [
              0.3333333333333333,
              "#9c179e"
             ],
             [
              0.4444444444444444,
              "#bd3786"
             ],
             [
              0.5555555555555556,
              "#d8576b"
             ],
             [
              0.6666666666666666,
              "#ed7953"
             ],
             [
              0.7777777777777778,
              "#fb9f3a"
             ],
             [
              0.8888888888888888,
              "#fdca26"
             ],
             [
              1,
              "#f0f921"
             ]
            ],
            "type": "histogram2d"
           }
          ],
          "histogram2dcontour": [
           {
            "colorbar": {
             "outlinewidth": 0,
             "ticks": ""
            },
            "colorscale": [
             [
              0,
              "#0d0887"
             ],
             [
              0.1111111111111111,
              "#46039f"
             ],
             [
              0.2222222222222222,
              "#7201a8"
             ],
             [
              0.3333333333333333,
              "#9c179e"
             ],
             [
              0.4444444444444444,
              "#bd3786"
             ],
             [
              0.5555555555555556,
              "#d8576b"
             ],
             [
              0.6666666666666666,
              "#ed7953"
             ],
             [
              0.7777777777777778,
              "#fb9f3a"
             ],
             [
              0.8888888888888888,
              "#fdca26"
             ],
             [
              1,
              "#f0f921"
             ]
            ],
            "type": "histogram2dcontour"
           }
          ],
          "mesh3d": [
           {
            "colorbar": {
             "outlinewidth": 0,
             "ticks": ""
            },
            "type": "mesh3d"
           }
          ],
          "parcoords": [
           {
            "line": {
             "colorbar": {
              "outlinewidth": 0,
              "ticks": ""
             }
            },
            "type": "parcoords"
           }
          ],
          "pie": [
           {
            "automargin": true,
            "type": "pie"
           }
          ],
          "scatter": [
           {
            "marker": {
             "colorbar": {
              "outlinewidth": 0,
              "ticks": ""
             }
            },
            "type": "scatter"
           }
          ],
          "scatter3d": [
           {
            "line": {
             "colorbar": {
              "outlinewidth": 0,
              "ticks": ""
             }
            },
            "marker": {
             "colorbar": {
              "outlinewidth": 0,
              "ticks": ""
             }
            },
            "type": "scatter3d"
           }
          ],
          "scattercarpet": [
           {
            "marker": {
             "colorbar": {
              "outlinewidth": 0,
              "ticks": ""
             }
            },
            "type": "scattercarpet"
           }
          ],
          "scattergeo": [
           {
            "marker": {
             "colorbar": {
              "outlinewidth": 0,
              "ticks": ""
             }
            },
            "type": "scattergeo"
           }
          ],
          "scattergl": [
           {
            "marker": {
             "colorbar": {
              "outlinewidth": 0,
              "ticks": ""
             }
            },
            "type": "scattergl"
           }
          ],
          "scattermapbox": [
           {
            "marker": {
             "colorbar": {
              "outlinewidth": 0,
              "ticks": ""
             }
            },
            "type": "scattermapbox"
           }
          ],
          "scatterpolar": [
           {
            "marker": {
             "colorbar": {
              "outlinewidth": 0,
              "ticks": ""
             }
            },
            "type": "scatterpolar"
           }
          ],
          "scatterpolargl": [
           {
            "marker": {
             "colorbar": {
              "outlinewidth": 0,
              "ticks": ""
             }
            },
            "type": "scatterpolargl"
           }
          ],
          "scatterternary": [
           {
            "marker": {
             "colorbar": {
              "outlinewidth": 0,
              "ticks": ""
             }
            },
            "type": "scatterternary"
           }
          ],
          "surface": [
           {
            "colorbar": {
             "outlinewidth": 0,
             "ticks": ""
            },
            "colorscale": [
             [
              0,
              "#0d0887"
             ],
             [
              0.1111111111111111,
              "#46039f"
             ],
             [
              0.2222222222222222,
              "#7201a8"
             ],
             [
              0.3333333333333333,
              "#9c179e"
             ],
             [
              0.4444444444444444,
              "#bd3786"
             ],
             [
              0.5555555555555556,
              "#d8576b"
             ],
             [
              0.6666666666666666,
              "#ed7953"
             ],
             [
              0.7777777777777778,
              "#fb9f3a"
             ],
             [
              0.8888888888888888,
              "#fdca26"
             ],
             [
              1,
              "#f0f921"
             ]
            ],
            "type": "surface"
           }
          ],
          "table": [
           {
            "cells": {
             "fill": {
              "color": "#EBF0F8"
             },
             "line": {
              "color": "white"
             }
            },
            "header": {
             "fill": {
              "color": "#C8D4E3"
             },
             "line": {
              "color": "white"
             }
            },
            "type": "table"
           }
          ]
         },
         "layout": {
          "annotationdefaults": {
           "arrowcolor": "#2a3f5f",
           "arrowhead": 0,
           "arrowwidth": 1
          },
          "autotypenumbers": "strict",
          "coloraxis": {
           "colorbar": {
            "outlinewidth": 0,
            "ticks": ""
           }
          },
          "colorscale": {
           "diverging": [
            [
             0,
             "#8e0152"
            ],
            [
             0.1,
             "#c51b7d"
            ],
            [
             0.2,
             "#de77ae"
            ],
            [
             0.3,
             "#f1b6da"
            ],
            [
             0.4,
             "#fde0ef"
            ],
            [
             0.5,
             "#f7f7f7"
            ],
            [
             0.6,
             "#e6f5d0"
            ],
            [
             0.7,
             "#b8e186"
            ],
            [
             0.8,
             "#7fbc41"
            ],
            [
             0.9,
             "#4d9221"
            ],
            [
             1,
             "#276419"
            ]
           ],
           "sequential": [
            [
             0,
             "#0d0887"
            ],
            [
             0.1111111111111111,
             "#46039f"
            ],
            [
             0.2222222222222222,
             "#7201a8"
            ],
            [
             0.3333333333333333,
             "#9c179e"
            ],
            [
             0.4444444444444444,
             "#bd3786"
            ],
            [
             0.5555555555555556,
             "#d8576b"
            ],
            [
             0.6666666666666666,
             "#ed7953"
            ],
            [
             0.7777777777777778,
             "#fb9f3a"
            ],
            [
             0.8888888888888888,
             "#fdca26"
            ],
            [
             1,
             "#f0f921"
            ]
           ],
           "sequentialminus": [
            [
             0,
             "#0d0887"
            ],
            [
             0.1111111111111111,
             "#46039f"
            ],
            [
             0.2222222222222222,
             "#7201a8"
            ],
            [
             0.3333333333333333,
             "#9c179e"
            ],
            [
             0.4444444444444444,
             "#bd3786"
            ],
            [
             0.5555555555555556,
             "#d8576b"
            ],
            [
             0.6666666666666666,
             "#ed7953"
            ],
            [
             0.7777777777777778,
             "#fb9f3a"
            ],
            [
             0.8888888888888888,
             "#fdca26"
            ],
            [
             1,
             "#f0f921"
            ]
           ]
          },
          "colorway": [
           "#636efa",
           "#EF553B",
           "#00cc96",
           "#ab63fa",
           "#FFA15A",
           "#19d3f3",
           "#FF6692",
           "#B6E880",
           "#FF97FF",
           "#FECB52"
          ],
          "font": {
           "color": "#2a3f5f"
          },
          "geo": {
           "bgcolor": "white",
           "lakecolor": "white",
           "landcolor": "#E5ECF6",
           "showlakes": true,
           "showland": true,
           "subunitcolor": "white"
          },
          "hoverlabel": {
           "align": "left"
          },
          "hovermode": "closest",
          "mapbox": {
           "style": "light"
          },
          "paper_bgcolor": "white",
          "plot_bgcolor": "#E5ECF6",
          "polar": {
           "angularaxis": {
            "gridcolor": "white",
            "linecolor": "white",
            "ticks": ""
           },
           "bgcolor": "#E5ECF6",
           "radialaxis": {
            "gridcolor": "white",
            "linecolor": "white",
            "ticks": ""
           }
          },
          "scene": {
           "xaxis": {
            "backgroundcolor": "#E5ECF6",
            "gridcolor": "white",
            "gridwidth": 2,
            "linecolor": "white",
            "showbackground": true,
            "ticks": "",
            "zerolinecolor": "white"
           },
           "yaxis": {
            "backgroundcolor": "#E5ECF6",
            "gridcolor": "white",
            "gridwidth": 2,
            "linecolor": "white",
            "showbackground": true,
            "ticks": "",
            "zerolinecolor": "white"
           },
           "zaxis": {
            "backgroundcolor": "#E5ECF6",
            "gridcolor": "white",
            "gridwidth": 2,
            "linecolor": "white",
            "showbackground": true,
            "ticks": "",
            "zerolinecolor": "white"
           }
          },
          "shapedefaults": {
           "line": {
            "color": "#2a3f5f"
           }
          },
          "ternary": {
           "aaxis": {
            "gridcolor": "white",
            "linecolor": "white",
            "ticks": ""
           },
           "baxis": {
            "gridcolor": "white",
            "linecolor": "white",
            "ticks": ""
           },
           "bgcolor": "#E5ECF6",
           "caxis": {
            "gridcolor": "white",
            "linecolor": "white",
            "ticks": ""
           }
          },
          "title": {
           "x": 0.05
          },
          "xaxis": {
           "automargin": true,
           "gridcolor": "white",
           "linecolor": "white",
           "ticks": "",
           "title": {
            "standoff": 15
           },
           "zerolinecolor": "white",
           "zerolinewidth": 2
          },
          "yaxis": {
           "automargin": true,
           "gridcolor": "white",
           "linecolor": "white",
           "ticks": "",
           "title": {
            "standoff": 15
           },
           "zerolinecolor": "white",
           "zerolinewidth": 2
          }
         }
        },
        "title": {
         "text": "EMS"
        }
       }
      },
      "text/html": [
       "<div>                            <div id=\"741a8088-1999-476a-a4d3-06d8fc62f13b\" class=\"plotly-graph-div\" style=\"height:525px; width:100%;\"></div>            <script type=\"text/javascript\">                require([\"plotly\"], function(Plotly) {                    window.PLOTLYENV=window.PLOTLYENV || {};                                    if (document.getElementById(\"741a8088-1999-476a-a4d3-06d8fc62f13b\")) {                    Plotly.newPlot(                        \"741a8088-1999-476a-a4d3-06d8fc62f13b\",                        [{\"fill\":\"toself\",\"line\":{\"color\":\"#930001\"},\"marker\":{\"color\":\"#930001\",\"line\":{\"color\":\"black\",\"width\":2},\"size\":12},\"mode\":\"lines+markers\",\"name\":\"Metagenomic\",\"opacity\":0.6,\"r\":[0.0,0.9887723321476453,0.7038450771738088,0.8527606610895736,1.0,1.0],\"showlegend\":true,\"subplot\":\"polar\",\"theta\":[\"Contigs\",\"Basepairs\",\"Largest contig\",\"N50\",\"% Mapped reads\",\"Uncalled bases\"],\"type\":\"scatterpolar\"},{\"fill\":\"toself\",\"line\":{\"color\":\"#930001\"},\"marker\":{\"color\":\"#930001\",\"line\":{\"color\":\"black\",\"width\":2},\"size\":12},\"mode\":\"lines+markers\",\"name\":\"Metagenomic\",\"opacity\":0.6,\"r\":[0.0,0.9829425454897498,0.8527606610895736,1.0,1.0,0.0,0.0],\"showlegend\":false,\"subplot\":\"polar2\",\"theta\":[\"Contigs\",\"Basepairs\",\"N50\",\"% Mapped reads\",\"Uncalled bases\",\"Misassembled contigs\",\"Misassembly events\"],\"type\":\"scatterpolar\"},{\"fill\":\"toself\",\"line\":{\"color\":\"#009392\"},\"marker\":{\"color\":\"#009392\",\"line\":{\"color\":\"black\",\"width\":2},\"size\":12},\"mode\":\"lines+markers\",\"name\":\"Genomic\",\"opacity\":0.6,\"r\":[0.13797634691195793,0.9908970898794106,1.0,1.0,0.9964342659788687,1.0],\"showlegend\":true,\"subplot\":\"polar\",\"theta\":[\"Contigs\",\"Basepairs\",\"Largest contig\",\"N50\",\"% Mapped reads\",\"Uncalled bases\"],\"type\":\"scatterpolar\"},{\"fill\":\"toself\",\"line\":{\"color\":\"#009392\"},\"marker\":{\"color\":\"#009392\",\"line\":{\"color\":\"black\",\"width\":2},\"size\":12},\"mode\":\"lines+markers\",\"name\":\"Genomic\",\"opacity\":0.6,\"r\":[0.08493150684931505,0.9808766957079952,1.0,0.9963102121705886,1.0,1.0,1.0],\"showlegend\":false,\"subplot\":\"polar2\",\"theta\":[\"Contigs\",\"Basepairs\",\"N50\",\"% Mapped reads\",\"Uncalled bases\",\"Misassembled contigs\",\"Misassembly events\"],\"type\":\"scatterpolar\"}],                        {\"annotations\":[{\"font\":{\"size\":16},\"showarrow\":false,\"text\":\"Original\",\"x\":0.225,\"xanchor\":\"center\",\"xref\":\"paper\",\"y\":1.0,\"yanchor\":\"bottom\",\"yref\":\"paper\"},{\"font\":{\"size\":16},\"showarrow\":false,\"text\":\"Filtered\",\"x\":0.775,\"xanchor\":\"center\",\"xref\":\"paper\",\"y\":1.0,\"yanchor\":\"bottom\",\"yref\":\"paper\"}],\"legend\":{\"orientation\":\"h\",\"x\":0,\"xanchor\":\"left\",\"y\":-0.5,\"yanchor\":\"bottom\"},\"polar\":{\"angularaxis\":{\"categoryarray\":[\"Contigs\",\"Basepairs\",\"Largest contig\",\"N50\",\"% Mapped reads\",\"Uncalled bases\"],\"linecolor\":\"black\"},\"bgcolor\":\"rgb(255,255,255)\",\"domain\":{\"x\":[0.0,0.45],\"y\":[0.0,1.0]},\"hole\":0.08333333333333333,\"radialaxis\":{\"angle\":-22.5,\"gridcolor\":\"#DCDCDC\",\"linecolor\":\"black\",\"linewidth\":2,\"range\":[0,1],\"visible\":true}},\"polar2\":{\"angularaxis\":{\"categoryarray\":[\"Contigs\",\"Basepairs\",\"N50\",\"% Mapped reads\",\"Uncalled bases\",\"Misassembled contigs\",\"Misassembly events\"],\"linecolor\":\"black\"},\"bgcolor\":\"rgb(255,255,255)\",\"domain\":{\"x\":[0.55,1.0],\"y\":[0.0,1.0]},\"hole\":0.08333333333333333,\"radialaxis\":{\"angle\":-22.5,\"gridcolor\":\"#DCDCDC\",\"linecolor\":\"black\",\"linewidth\":2,\"range\":[0,1],\"visible\":true}},\"template\":{\"data\":{\"bar\":[{\"error_x\":{\"color\":\"#2a3f5f\"},\"error_y\":{\"color\":\"#2a3f5f\"},\"marker\":{\"line\":{\"color\":\"#E5ECF6\",\"width\":0.5},\"pattern\":{\"fillmode\":\"overlay\",\"size\":10,\"solidity\":0.2}},\"type\":\"bar\"}],\"barpolar\":[{\"marker\":{\"line\":{\"color\":\"#E5ECF6\",\"width\":0.5},\"pattern\":{\"fillmode\":\"overlay\",\"size\":10,\"solidity\":0.2}},\"type\":\"barpolar\"}],\"carpet\":[{\"aaxis\":{\"endlinecolor\":\"#2a3f5f\",\"gridcolor\":\"white\",\"linecolor\":\"white\",\"minorgridcolor\":\"white\",\"startlinecolor\":\"#2a3f5f\"},\"baxis\":{\"endlinecolor\":\"#2a3f5f\",\"gridcolor\":\"white\",\"linecolor\":\"white\",\"minorgridcolor\":\"white\",\"startlinecolor\":\"#2a3f5f\"},\"type\":\"carpet\"}],\"choropleth\":[{\"colorbar\":{\"outlinewidth\":0,\"ticks\":\"\"},\"type\":\"choropleth\"}],\"contour\":[{\"colorbar\":{\"outlinewidth\":0,\"ticks\":\"\"},\"colorscale\":[[0.0,\"#0d0887\"],[0.1111111111111111,\"#46039f\"],[0.2222222222222222,\"#7201a8\"],[0.3333333333333333,\"#9c179e\"],[0.4444444444444444,\"#bd3786\"],[0.5555555555555556,\"#d8576b\"],[0.6666666666666666,\"#ed7953\"],[0.7777777777777778,\"#fb9f3a\"],[0.8888888888888888,\"#fdca26\"],[1.0,\"#f0f921\"]],\"type\":\"contour\"}],\"contourcarpet\":[{\"colorbar\":{\"outlinewidth\":0,\"ticks\":\"\"},\"type\":\"contourcarpet\"}],\"heatmap\":[{\"colorbar\":{\"outlinewidth\":0,\"ticks\":\"\"},\"colorscale\":[[0.0,\"#0d0887\"],[0.1111111111111111,\"#46039f\"],[0.2222222222222222,\"#7201a8\"],[0.3333333333333333,\"#9c179e\"],[0.4444444444444444,\"#bd3786\"],[0.5555555555555556,\"#d8576b\"],[0.6666666666666666,\"#ed7953\"],[0.7777777777777778,\"#fb9f3a\"],[0.8888888888888888,\"#fdca26\"],[1.0,\"#f0f921\"]],\"type\":\"heatmap\"}],\"heatmapgl\":[{\"colorbar\":{\"outlinewidth\":0,\"ticks\":\"\"},\"colorscale\":[[0.0,\"#0d0887\"],[0.1111111111111111,\"#46039f\"],[0.2222222222222222,\"#7201a8\"],[0.3333333333333333,\"#9c179e\"],[0.4444444444444444,\"#bd3786\"],[0.5555555555555556,\"#d8576b\"],[0.6666666666666666,\"#ed7953\"],[0.7777777777777778,\"#fb9f3a\"],[0.8888888888888888,\"#fdca26\"],[1.0,\"#f0f921\"]],\"type\":\"heatmapgl\"}],\"histogram\":[{\"marker\":{\"pattern\":{\"fillmode\":\"overlay\",\"size\":10,\"solidity\":0.2}},\"type\":\"histogram\"}],\"histogram2d\":[{\"colorbar\":{\"outlinewidth\":0,\"ticks\":\"\"},\"colorscale\":[[0.0,\"#0d0887\"],[0.1111111111111111,\"#46039f\"],[0.2222222222222222,\"#7201a8\"],[0.3333333333333333,\"#9c179e\"],[0.4444444444444444,\"#bd3786\"],[0.5555555555555556,\"#d8576b\"],[0.6666666666666666,\"#ed7953\"],[0.7777777777777778,\"#fb9f3a\"],[0.8888888888888888,\"#fdca26\"],[1.0,\"#f0f921\"]],\"type\":\"histogram2d\"}],\"histogram2dcontour\":[{\"colorbar\":{\"outlinewidth\":0,\"ticks\":\"\"},\"colorscale\":[[0.0,\"#0d0887\"],[0.1111111111111111,\"#46039f\"],[0.2222222222222222,\"#7201a8\"],[0.3333333333333333,\"#9c179e\"],[0.4444444444444444,\"#bd3786\"],[0.5555555555555556,\"#d8576b\"],[0.6666666666666666,\"#ed7953\"],[0.7777777777777778,\"#fb9f3a\"],[0.8888888888888888,\"#fdca26\"],[1.0,\"#f0f921\"]],\"type\":\"histogram2dcontour\"}],\"mesh3d\":[{\"colorbar\":{\"outlinewidth\":0,\"ticks\":\"\"},\"type\":\"mesh3d\"}],\"parcoords\":[{\"line\":{\"colorbar\":{\"outlinewidth\":0,\"ticks\":\"\"}},\"type\":\"parcoords\"}],\"pie\":[{\"automargin\":true,\"type\":\"pie\"}],\"scatter\":[{\"marker\":{\"colorbar\":{\"outlinewidth\":0,\"ticks\":\"\"}},\"type\":\"scatter\"}],\"scatter3d\":[{\"line\":{\"colorbar\":{\"outlinewidth\":0,\"ticks\":\"\"}},\"marker\":{\"colorbar\":{\"outlinewidth\":0,\"ticks\":\"\"}},\"type\":\"scatter3d\"}],\"scattercarpet\":[{\"marker\":{\"colorbar\":{\"outlinewidth\":0,\"ticks\":\"\"}},\"type\":\"scattercarpet\"}],\"scattergeo\":[{\"marker\":{\"colorbar\":{\"outlinewidth\":0,\"ticks\":\"\"}},\"type\":\"scattergeo\"}],\"scattergl\":[{\"marker\":{\"colorbar\":{\"outlinewidth\":0,\"ticks\":\"\"}},\"type\":\"scattergl\"}],\"scattermapbox\":[{\"marker\":{\"colorbar\":{\"outlinewidth\":0,\"ticks\":\"\"}},\"type\":\"scattermapbox\"}],\"scatterpolar\":[{\"marker\":{\"colorbar\":{\"outlinewidth\":0,\"ticks\":\"\"}},\"type\":\"scatterpolar\"}],\"scatterpolargl\":[{\"marker\":{\"colorbar\":{\"outlinewidth\":0,\"ticks\":\"\"}},\"type\":\"scatterpolargl\"}],\"scatterternary\":[{\"marker\":{\"colorbar\":{\"outlinewidth\":0,\"ticks\":\"\"}},\"type\":\"scatterternary\"}],\"surface\":[{\"colorbar\":{\"outlinewidth\":0,\"ticks\":\"\"},\"colorscale\":[[0.0,\"#0d0887\"],[0.1111111111111111,\"#46039f\"],[0.2222222222222222,\"#7201a8\"],[0.3333333333333333,\"#9c179e\"],[0.4444444444444444,\"#bd3786\"],[0.5555555555555556,\"#d8576b\"],[0.6666666666666666,\"#ed7953\"],[0.7777777777777778,\"#fb9f3a\"],[0.8888888888888888,\"#fdca26\"],[1.0,\"#f0f921\"]],\"type\":\"surface\"}],\"table\":[{\"cells\":{\"fill\":{\"color\":\"#EBF0F8\"},\"line\":{\"color\":\"white\"}},\"header\":{\"fill\":{\"color\":\"#C8D4E3\"},\"line\":{\"color\":\"white\"}},\"type\":\"table\"}]},\"layout\":{\"annotationdefaults\":{\"arrowcolor\":\"#2a3f5f\",\"arrowhead\":0,\"arrowwidth\":1},\"autotypenumbers\":\"strict\",\"coloraxis\":{\"colorbar\":{\"outlinewidth\":0,\"ticks\":\"\"}},\"colorscale\":{\"diverging\":[[0,\"#8e0152\"],[0.1,\"#c51b7d\"],[0.2,\"#de77ae\"],[0.3,\"#f1b6da\"],[0.4,\"#fde0ef\"],[0.5,\"#f7f7f7\"],[0.6,\"#e6f5d0\"],[0.7,\"#b8e186\"],[0.8,\"#7fbc41\"],[0.9,\"#4d9221\"],[1,\"#276419\"]],\"sequential\":[[0.0,\"#0d0887\"],[0.1111111111111111,\"#46039f\"],[0.2222222222222222,\"#7201a8\"],[0.3333333333333333,\"#9c179e\"],[0.4444444444444444,\"#bd3786\"],[0.5555555555555556,\"#d8576b\"],[0.6666666666666666,\"#ed7953\"],[0.7777777777777778,\"#fb9f3a\"],[0.8888888888888888,\"#fdca26\"],[1.0,\"#f0f921\"]],\"sequentialminus\":[[0.0,\"#0d0887\"],[0.1111111111111111,\"#46039f\"],[0.2222222222222222,\"#7201a8\"],[0.3333333333333333,\"#9c179e\"],[0.4444444444444444,\"#bd3786\"],[0.5555555555555556,\"#d8576b\"],[0.6666666666666666,\"#ed7953\"],[0.7777777777777778,\"#fb9f3a\"],[0.8888888888888888,\"#fdca26\"],[1.0,\"#f0f921\"]]},\"colorway\":[\"#636efa\",\"#EF553B\",\"#00cc96\",\"#ab63fa\",\"#FFA15A\",\"#19d3f3\",\"#FF6692\",\"#B6E880\",\"#FF97FF\",\"#FECB52\"],\"font\":{\"color\":\"#2a3f5f\"},\"geo\":{\"bgcolor\":\"white\",\"lakecolor\":\"white\",\"landcolor\":\"#E5ECF6\",\"showlakes\":true,\"showland\":true,\"subunitcolor\":\"white\"},\"hoverlabel\":{\"align\":\"left\"},\"hovermode\":\"closest\",\"mapbox\":{\"style\":\"light\"},\"paper_bgcolor\":\"white\",\"plot_bgcolor\":\"#E5ECF6\",\"polar\":{\"angularaxis\":{\"gridcolor\":\"white\",\"linecolor\":\"white\",\"ticks\":\"\"},\"bgcolor\":\"#E5ECF6\",\"radialaxis\":{\"gridcolor\":\"white\",\"linecolor\":\"white\",\"ticks\":\"\"}},\"scene\":{\"xaxis\":{\"backgroundcolor\":\"#E5ECF6\",\"gridcolor\":\"white\",\"gridwidth\":2,\"linecolor\":\"white\",\"showbackground\":true,\"ticks\":\"\",\"zerolinecolor\":\"white\"},\"yaxis\":{\"backgroundcolor\":\"#E5ECF6\",\"gridcolor\":\"white\",\"gridwidth\":2,\"linecolor\":\"white\",\"showbackground\":true,\"ticks\":\"\",\"zerolinecolor\":\"white\"},\"zaxis\":{\"backgroundcolor\":\"#E5ECF6\",\"gridcolor\":\"white\",\"gridwidth\":2,\"linecolor\":\"white\",\"showbackground\":true,\"ticks\":\"\",\"zerolinecolor\":\"white\"}},\"shapedefaults\":{\"line\":{\"color\":\"#2a3f5f\"}},\"ternary\":{\"aaxis\":{\"gridcolor\":\"white\",\"linecolor\":\"white\",\"ticks\":\"\"},\"baxis\":{\"gridcolor\":\"white\",\"linecolor\":\"white\",\"ticks\":\"\"},\"bgcolor\":\"#E5ECF6\",\"caxis\":{\"gridcolor\":\"white\",\"linecolor\":\"white\",\"ticks\":\"\"}},\"title\":{\"x\":0.05},\"xaxis\":{\"automargin\":true,\"gridcolor\":\"white\",\"linecolor\":\"white\",\"ticks\":\"\",\"title\":{\"standoff\":15},\"zerolinecolor\":\"white\",\"zerolinewidth\":2},\"yaxis\":{\"automargin\":true,\"gridcolor\":\"white\",\"linecolor\":\"white\",\"ticks\":\"\",\"title\":{\"standoff\":15},\"zerolinecolor\":\"white\",\"zerolinewidth\":2}}},\"title\":{\"text\":\"EMS\"}},                        {\"responsive\": true}                    ).then(function(){\n",
       "                            \n",
       "var gd = document.getElementById('741a8088-1999-476a-a4d3-06d8fc62f13b');\n",
       "var x = new MutationObserver(function (mutations, observer) {{\n",
       "        var display = window.getComputedStyle(gd).display;\n",
       "        if (!display || display === 'none') {{\n",
       "            console.log([gd, 'removed!']);\n",
       "            Plotly.purge(gd);\n",
       "            observer.disconnect();\n",
       "        }}\n",
       "}});\n",
       "\n",
       "// Listen for the removal of the full notebook cells\n",
       "var notebookContainer = gd.closest('#notebook-container');\n",
       "if (notebookContainer) {{\n",
       "    x.observe(notebookContainer, {childList: true});\n",
       "}}\n",
       "\n",
       "// Listen for the clearing of the current output cell\n",
       "var outputEl = gd.closest('.output');\n",
       "if (outputEl) {{\n",
       "    x.observe(outputEl, {childList: true});\n",
       "}}\n",
       "\n",
       "                        })                };                });            </script>        </div>"
      ]
     },
     "metadata": {},
     "output_type": "display_data"
    },
    {
     "data": {
      "application/vnd.plotly.v1+json": {
       "config": {
        "plotlyServerURL": "https://plot.ly"
       },
       "data": [
        {
         "fill": "toself",
         "line": {
          "color": "#930001"
         },
         "marker": {
          "color": "#930001",
          "line": {
           "color": "black",
           "width": 2
          },
          "size": 12
         },
         "mode": "lines+markers",
         "name": "Metagenomic",
         "opacity": 0.6,
         "r": [
          0,
          0.060185150627434236,
          1,
          0.5334493062520896,
          1,
          1
         ],
         "showlegend": true,
         "subplot": "polar",
         "theta": [
          "Contigs",
          "Basepairs",
          "Largest contig",
          "N50",
          "% Mapped reads",
          "Uncalled bases"
         ],
         "type": "scatterpolar"
        },
        {
         "fill": "toself",
         "line": {
          "color": "#930001"
         },
         "marker": {
          "color": "#930001",
          "line": {
           "color": "black",
           "width": 2
          },
          "size": 12
         },
         "mode": "lines+markers",
         "name": "Metagenomic",
         "opacity": 0.6,
         "r": [
          0,
          0.9876499789782958,
          0.78277018555667,
          1,
          1,
          0,
          0
         ],
         "showlegend": false,
         "subplot": "polar2",
         "theta": [
          "Contigs",
          "Basepairs",
          "N50",
          "% Mapped reads",
          "Uncalled bases",
          "Misassembled contigs",
          "Misassembly events"
         ],
         "type": "scatterpolar"
        },
        {
         "fill": "toself",
         "line": {
          "color": "#009392"
         },
         "marker": {
          "color": "#009392",
          "line": {
           "color": "black",
           "width": 2
          },
          "size": 12
         },
         "mode": "lines+markers",
         "name": "Genomic",
         "opacity": 0.6,
         "r": [
          0.8341671298869743,
          0.9885729886788485,
          0.7315918625952552,
          1,
          0.9985570949692015,
          1
         ],
         "showlegend": true,
         "subplot": "polar",
         "theta": [
          "Contigs",
          "Basepairs",
          "Largest contig",
          "N50",
          "% Mapped reads",
          "Uncalled bases"
         ],
         "type": "scatterpolar"
        },
        {
         "fill": "toself",
         "line": {
          "color": "#009392"
         },
         "marker": {
          "color": "#009392",
          "line": {
           "color": "black",
           "width": 2
          },
          "size": 12
         },
         "mode": "lines+markers",
         "name": "Genomic",
         "opacity": 0.6,
         "r": [
          0.44152431011826543,
          0.9833754526791597,
          1,
          0.9850686773512454,
          1,
          1,
          1
         ],
         "showlegend": false,
         "subplot": "polar2",
         "theta": [
          "Contigs",
          "Basepairs",
          "N50",
          "% Mapped reads",
          "Uncalled bases",
          "Misassembled contigs",
          "Misassembly events"
         ],
         "type": "scatterpolar"
        }
       ],
       "layout": {
        "annotations": [
         {
          "font": {
           "size": 16
          },
          "showarrow": false,
          "text": "Original",
          "x": 0.225,
          "xanchor": "center",
          "xref": "paper",
          "y": 1,
          "yanchor": "bottom",
          "yref": "paper"
         },
         {
          "font": {
           "size": 16
          },
          "showarrow": false,
          "text": "Filtered",
          "x": 0.775,
          "xanchor": "center",
          "xref": "paper",
          "y": 1,
          "yanchor": "bottom",
          "yref": "paper"
         }
        ],
        "legend": {
         "orientation": "h",
         "x": 0,
         "xanchor": "left",
         "y": -0.5,
         "yanchor": "bottom"
        },
        "polar": {
         "angularaxis": {
          "categoryarray": [
           "Contigs",
           "Basepairs",
           "Largest contig",
           "N50",
           "% Mapped reads",
           "Uncalled bases"
          ],
          "linecolor": "black"
         },
         "bgcolor": "rgb(255,255,255)",
         "domain": {
          "x": [
           0,
           0.45
          ],
          "y": [
           0,
           1
          ]
         },
         "hole": 0.08333333333333333,
         "radialaxis": {
          "angle": -22.5,
          "gridcolor": "#DCDCDC",
          "linecolor": "black",
          "linewidth": 2,
          "range": [
           0,
           1
          ],
          "visible": true
         }
        },
        "polar2": {
         "angularaxis": {
          "categoryarray": [
           "Contigs",
           "Basepairs",
           "N50",
           "% Mapped reads",
           "Uncalled bases",
           "Misassembled contigs",
           "Misassembly events"
          ],
          "linecolor": "black"
         },
         "bgcolor": "rgb(255,255,255)",
         "domain": {
          "x": [
           0.55,
           1
          ],
          "y": [
           0,
           1
          ]
         },
         "hole": 0.08333333333333333,
         "radialaxis": {
          "angle": -22.5,
          "gridcolor": "#DCDCDC",
          "linecolor": "black",
          "linewidth": 2,
          "range": [
           0,
           1
          ],
          "visible": true
         }
        },
        "template": {
         "data": {
          "bar": [
           {
            "error_x": {
             "color": "#2a3f5f"
            },
            "error_y": {
             "color": "#2a3f5f"
            },
            "marker": {
             "line": {
              "color": "#E5ECF6",
              "width": 0.5
             },
             "pattern": {
              "fillmode": "overlay",
              "size": 10,
              "solidity": 0.2
             }
            },
            "type": "bar"
           }
          ],
          "barpolar": [
           {
            "marker": {
             "line": {
              "color": "#E5ECF6",
              "width": 0.5
             },
             "pattern": {
              "fillmode": "overlay",
              "size": 10,
              "solidity": 0.2
             }
            },
            "type": "barpolar"
           }
          ],
          "carpet": [
           {
            "aaxis": {
             "endlinecolor": "#2a3f5f",
             "gridcolor": "white",
             "linecolor": "white",
             "minorgridcolor": "white",
             "startlinecolor": "#2a3f5f"
            },
            "baxis": {
             "endlinecolor": "#2a3f5f",
             "gridcolor": "white",
             "linecolor": "white",
             "minorgridcolor": "white",
             "startlinecolor": "#2a3f5f"
            },
            "type": "carpet"
           }
          ],
          "choropleth": [
           {
            "colorbar": {
             "outlinewidth": 0,
             "ticks": ""
            },
            "type": "choropleth"
           }
          ],
          "contour": [
           {
            "colorbar": {
             "outlinewidth": 0,
             "ticks": ""
            },
            "colorscale": [
             [
              0,
              "#0d0887"
             ],
             [
              0.1111111111111111,
              "#46039f"
             ],
             [
              0.2222222222222222,
              "#7201a8"
             ],
             [
              0.3333333333333333,
              "#9c179e"
             ],
             [
              0.4444444444444444,
              "#bd3786"
             ],
             [
              0.5555555555555556,
              "#d8576b"
             ],
             [
              0.6666666666666666,
              "#ed7953"
             ],
             [
              0.7777777777777778,
              "#fb9f3a"
             ],
             [
              0.8888888888888888,
              "#fdca26"
             ],
             [
              1,
              "#f0f921"
             ]
            ],
            "type": "contour"
           }
          ],
          "contourcarpet": [
           {
            "colorbar": {
             "outlinewidth": 0,
             "ticks": ""
            },
            "type": "contourcarpet"
           }
          ],
          "heatmap": [
           {
            "colorbar": {
             "outlinewidth": 0,
             "ticks": ""
            },
            "colorscale": [
             [
              0,
              "#0d0887"
             ],
             [
              0.1111111111111111,
              "#46039f"
             ],
             [
              0.2222222222222222,
              "#7201a8"
             ],
             [
              0.3333333333333333,
              "#9c179e"
             ],
             [
              0.4444444444444444,
              "#bd3786"
             ],
             [
              0.5555555555555556,
              "#d8576b"
             ],
             [
              0.6666666666666666,
              "#ed7953"
             ],
             [
              0.7777777777777778,
              "#fb9f3a"
             ],
             [
              0.8888888888888888,
              "#fdca26"
             ],
             [
              1,
              "#f0f921"
             ]
            ],
            "type": "heatmap"
           }
          ],
          "heatmapgl": [
           {
            "colorbar": {
             "outlinewidth": 0,
             "ticks": ""
            },
            "colorscale": [
             [
              0,
              "#0d0887"
             ],
             [
              0.1111111111111111,
              "#46039f"
             ],
             [
              0.2222222222222222,
              "#7201a8"
             ],
             [
              0.3333333333333333,
              "#9c179e"
             ],
             [
              0.4444444444444444,
              "#bd3786"
             ],
             [
              0.5555555555555556,
              "#d8576b"
             ],
             [
              0.6666666666666666,
              "#ed7953"
             ],
             [
              0.7777777777777778,
              "#fb9f3a"
             ],
             [
              0.8888888888888888,
              "#fdca26"
             ],
             [
              1,
              "#f0f921"
             ]
            ],
            "type": "heatmapgl"
           }
          ],
          "histogram": [
           {
            "marker": {
             "pattern": {
              "fillmode": "overlay",
              "size": 10,
              "solidity": 0.2
             }
            },
            "type": "histogram"
           }
          ],
          "histogram2d": [
           {
            "colorbar": {
             "outlinewidth": 0,
             "ticks": ""
            },
            "colorscale": [
             [
              0,
              "#0d0887"
             ],
             [
              0.1111111111111111,
              "#46039f"
             ],
             [
              0.2222222222222222,
              "#7201a8"
             ],
             [
              0.3333333333333333,
              "#9c179e"
             ],
             [
              0.4444444444444444,
              "#bd3786"
             ],
             [
              0.5555555555555556,
              "#d8576b"
             ],
             [
              0.6666666666666666,
              "#ed7953"
             ],
             [
              0.7777777777777778,
              "#fb9f3a"
             ],
             [
              0.8888888888888888,
              "#fdca26"
             ],
             [
              1,
              "#f0f921"
             ]
            ],
            "type": "histogram2d"
           }
          ],
          "histogram2dcontour": [
           {
            "colorbar": {
             "outlinewidth": 0,
             "ticks": ""
            },
            "colorscale": [
             [
              0,
              "#0d0887"
             ],
             [
              0.1111111111111111,
              "#46039f"
             ],
             [
              0.2222222222222222,
              "#7201a8"
             ],
             [
              0.3333333333333333,
              "#9c179e"
             ],
             [
              0.4444444444444444,
              "#bd3786"
             ],
             [
              0.5555555555555556,
              "#d8576b"
             ],
             [
              0.6666666666666666,
              "#ed7953"
             ],
             [
              0.7777777777777778,
              "#fb9f3a"
             ],
             [
              0.8888888888888888,
              "#fdca26"
             ],
             [
              1,
              "#f0f921"
             ]
            ],
            "type": "histogram2dcontour"
           }
          ],
          "mesh3d": [
           {
            "colorbar": {
             "outlinewidth": 0,
             "ticks": ""
            },
            "type": "mesh3d"
           }
          ],
          "parcoords": [
           {
            "line": {
             "colorbar": {
              "outlinewidth": 0,
              "ticks": ""
             }
            },
            "type": "parcoords"
           }
          ],
          "pie": [
           {
            "automargin": true,
            "type": "pie"
           }
          ],
          "scatter": [
           {
            "marker": {
             "colorbar": {
              "outlinewidth": 0,
              "ticks": ""
             }
            },
            "type": "scatter"
           }
          ],
          "scatter3d": [
           {
            "line": {
             "colorbar": {
              "outlinewidth": 0,
              "ticks": ""
             }
            },
            "marker": {
             "colorbar": {
              "outlinewidth": 0,
              "ticks": ""
             }
            },
            "type": "scatter3d"
           }
          ],
          "scattercarpet": [
           {
            "marker": {
             "colorbar": {
              "outlinewidth": 0,
              "ticks": ""
             }
            },
            "type": "scattercarpet"
           }
          ],
          "scattergeo": [
           {
            "marker": {
             "colorbar": {
              "outlinewidth": 0,
              "ticks": ""
             }
            },
            "type": "scattergeo"
           }
          ],
          "scattergl": [
           {
            "marker": {
             "colorbar": {
              "outlinewidth": 0,
              "ticks": ""
             }
            },
            "type": "scattergl"
           }
          ],
          "scattermapbox": [
           {
            "marker": {
             "colorbar": {
              "outlinewidth": 0,
              "ticks": ""
             }
            },
            "type": "scattermapbox"
           }
          ],
          "scatterpolar": [
           {
            "marker": {
             "colorbar": {
              "outlinewidth": 0,
              "ticks": ""
             }
            },
            "type": "scatterpolar"
           }
          ],
          "scatterpolargl": [
           {
            "marker": {
             "colorbar": {
              "outlinewidth": 0,
              "ticks": ""
             }
            },
            "type": "scatterpolargl"
           }
          ],
          "scatterternary": [
           {
            "marker": {
             "colorbar": {
              "outlinewidth": 0,
              "ticks": ""
             }
            },
            "type": "scatterternary"
           }
          ],
          "surface": [
           {
            "colorbar": {
             "outlinewidth": 0,
             "ticks": ""
            },
            "colorscale": [
             [
              0,
              "#0d0887"
             ],
             [
              0.1111111111111111,
              "#46039f"
             ],
             [
              0.2222222222222222,
              "#7201a8"
             ],
             [
              0.3333333333333333,
              "#9c179e"
             ],
             [
              0.4444444444444444,
              "#bd3786"
             ],
             [
              0.5555555555555556,
              "#d8576b"
             ],
             [
              0.6666666666666666,
              "#ed7953"
             ],
             [
              0.7777777777777778,
              "#fb9f3a"
             ],
             [
              0.8888888888888888,
              "#fdca26"
             ],
             [
              1,
              "#f0f921"
             ]
            ],
            "type": "surface"
           }
          ],
          "table": [
           {
            "cells": {
             "fill": {
              "color": "#EBF0F8"
             },
             "line": {
              "color": "white"
             }
            },
            "header": {
             "fill": {
              "color": "#C8D4E3"
             },
             "line": {
              "color": "white"
             }
            },
            "type": "table"
           }
          ]
         },
         "layout": {
          "annotationdefaults": {
           "arrowcolor": "#2a3f5f",
           "arrowhead": 0,
           "arrowwidth": 1
          },
          "autotypenumbers": "strict",
          "coloraxis": {
           "colorbar": {
            "outlinewidth": 0,
            "ticks": ""
           }
          },
          "colorscale": {
           "diverging": [
            [
             0,
             "#8e0152"
            ],
            [
             0.1,
             "#c51b7d"
            ],
            [
             0.2,
             "#de77ae"
            ],
            [
             0.3,
             "#f1b6da"
            ],
            [
             0.4,
             "#fde0ef"
            ],
            [
             0.5,
             "#f7f7f7"
            ],
            [
             0.6,
             "#e6f5d0"
            ],
            [
             0.7,
             "#b8e186"
            ],
            [
             0.8,
             "#7fbc41"
            ],
            [
             0.9,
             "#4d9221"
            ],
            [
             1,
             "#276419"
            ]
           ],
           "sequential": [
            [
             0,
             "#0d0887"
            ],
            [
             0.1111111111111111,
             "#46039f"
            ],
            [
             0.2222222222222222,
             "#7201a8"
            ],
            [
             0.3333333333333333,
             "#9c179e"
            ],
            [
             0.4444444444444444,
             "#bd3786"
            ],
            [
             0.5555555555555556,
             "#d8576b"
            ],
            [
             0.6666666666666666,
             "#ed7953"
            ],
            [
             0.7777777777777778,
             "#fb9f3a"
            ],
            [
             0.8888888888888888,
             "#fdca26"
            ],
            [
             1,
             "#f0f921"
            ]
           ],
           "sequentialminus": [
            [
             0,
             "#0d0887"
            ],
            [
             0.1111111111111111,
             "#46039f"
            ],
            [
             0.2222222222222222,
             "#7201a8"
            ],
            [
             0.3333333333333333,
             "#9c179e"
            ],
            [
             0.4444444444444444,
             "#bd3786"
            ],
            [
             0.5555555555555556,
             "#d8576b"
            ],
            [
             0.6666666666666666,
             "#ed7953"
            ],
            [
             0.7777777777777778,
             "#fb9f3a"
            ],
            [
             0.8888888888888888,
             "#fdca26"
            ],
            [
             1,
             "#f0f921"
            ]
           ]
          },
          "colorway": [
           "#636efa",
           "#EF553B",
           "#00cc96",
           "#ab63fa",
           "#FFA15A",
           "#19d3f3",
           "#FF6692",
           "#B6E880",
           "#FF97FF",
           "#FECB52"
          ],
          "font": {
           "color": "#2a3f5f"
          },
          "geo": {
           "bgcolor": "white",
           "lakecolor": "white",
           "landcolor": "#E5ECF6",
           "showlakes": true,
           "showland": true,
           "subunitcolor": "white"
          },
          "hoverlabel": {
           "align": "left"
          },
          "hovermode": "closest",
          "mapbox": {
           "style": "light"
          },
          "paper_bgcolor": "white",
          "plot_bgcolor": "#E5ECF6",
          "polar": {
           "angularaxis": {
            "gridcolor": "white",
            "linecolor": "white",
            "ticks": ""
           },
           "bgcolor": "#E5ECF6",
           "radialaxis": {
            "gridcolor": "white",
            "linecolor": "white",
            "ticks": ""
           }
          },
          "scene": {
           "xaxis": {
            "backgroundcolor": "#E5ECF6",
            "gridcolor": "white",
            "gridwidth": 2,
            "linecolor": "white",
            "showbackground": true,
            "ticks": "",
            "zerolinecolor": "white"
           },
           "yaxis": {
            "backgroundcolor": "#E5ECF6",
            "gridcolor": "white",
            "gridwidth": 2,
            "linecolor": "white",
            "showbackground": true,
            "ticks": "",
            "zerolinecolor": "white"
           },
           "zaxis": {
            "backgroundcolor": "#E5ECF6",
            "gridcolor": "white",
            "gridwidth": 2,
            "linecolor": "white",
            "showbackground": true,
            "ticks": "",
            "zerolinecolor": "white"
           }
          },
          "shapedefaults": {
           "line": {
            "color": "#2a3f5f"
           }
          },
          "ternary": {
           "aaxis": {
            "gridcolor": "white",
            "linecolor": "white",
            "ticks": ""
           },
           "baxis": {
            "gridcolor": "white",
            "linecolor": "white",
            "ticks": ""
           },
           "bgcolor": "#E5ECF6",
           "caxis": {
            "gridcolor": "white",
            "linecolor": "white",
            "ticks": ""
           }
          },
          "title": {
           "x": 0.05
          },
          "xaxis": {
           "automargin": true,
           "gridcolor": "white",
           "linecolor": "white",
           "ticks": "",
           "title": {
            "standoff": 15
           },
           "zerolinecolor": "white",
           "zerolinewidth": 2
          },
          "yaxis": {
           "automargin": true,
           "gridcolor": "white",
           "linecolor": "white",
           "ticks": "",
           "title": {
            "standoff": 15
           },
           "zerolinecolor": "white",
           "zerolinewidth": 2
          }
         }
        },
        "title": {
         "text": "ERR2984773"
        }
       }
      },
      "text/html": [
       "<div>                            <div id=\"31b0acd0-e47c-4ff4-845e-b556e9e02087\" class=\"plotly-graph-div\" style=\"height:525px; width:100%;\"></div>            <script type=\"text/javascript\">                require([\"plotly\"], function(Plotly) {                    window.PLOTLYENV=window.PLOTLYENV || {};                                    if (document.getElementById(\"31b0acd0-e47c-4ff4-845e-b556e9e02087\")) {                    Plotly.newPlot(                        \"31b0acd0-e47c-4ff4-845e-b556e9e02087\",                        [{\"fill\":\"toself\",\"line\":{\"color\":\"#930001\"},\"marker\":{\"color\":\"#930001\",\"line\":{\"color\":\"black\",\"width\":2},\"size\":12},\"mode\":\"lines+markers\",\"name\":\"Metagenomic\",\"opacity\":0.6,\"r\":[0.0,0.060185150627434236,1.0,0.5334493062520896,1.0,1.0],\"showlegend\":true,\"subplot\":\"polar\",\"theta\":[\"Contigs\",\"Basepairs\",\"Largest contig\",\"N50\",\"% Mapped reads\",\"Uncalled bases\"],\"type\":\"scatterpolar\"},{\"fill\":\"toself\",\"line\":{\"color\":\"#930001\"},\"marker\":{\"color\":\"#930001\",\"line\":{\"color\":\"black\",\"width\":2},\"size\":12},\"mode\":\"lines+markers\",\"name\":\"Metagenomic\",\"opacity\":0.6,\"r\":[0.0,0.9876499789782958,0.78277018555667,1.0,1.0,0.0,0.0],\"showlegend\":false,\"subplot\":\"polar2\",\"theta\":[\"Contigs\",\"Basepairs\",\"N50\",\"% Mapped reads\",\"Uncalled bases\",\"Misassembled contigs\",\"Misassembly events\"],\"type\":\"scatterpolar\"},{\"fill\":\"toself\",\"line\":{\"color\":\"#009392\"},\"marker\":{\"color\":\"#009392\",\"line\":{\"color\":\"black\",\"width\":2},\"size\":12},\"mode\":\"lines+markers\",\"name\":\"Genomic\",\"opacity\":0.6,\"r\":[0.8341671298869743,0.9885729886788485,0.7315918625952552,1.0,0.9985570949692015,1.0],\"showlegend\":true,\"subplot\":\"polar\",\"theta\":[\"Contigs\",\"Basepairs\",\"Largest contig\",\"N50\",\"% Mapped reads\",\"Uncalled bases\"],\"type\":\"scatterpolar\"},{\"fill\":\"toself\",\"line\":{\"color\":\"#009392\"},\"marker\":{\"color\":\"#009392\",\"line\":{\"color\":\"black\",\"width\":2},\"size\":12},\"mode\":\"lines+markers\",\"name\":\"Genomic\",\"opacity\":0.6,\"r\":[0.44152431011826543,0.9833754526791597,1.0,0.9850686773512454,1.0,1.0,1.0],\"showlegend\":false,\"subplot\":\"polar2\",\"theta\":[\"Contigs\",\"Basepairs\",\"N50\",\"% Mapped reads\",\"Uncalled bases\",\"Misassembled contigs\",\"Misassembly events\"],\"type\":\"scatterpolar\"}],                        {\"annotations\":[{\"font\":{\"size\":16},\"showarrow\":false,\"text\":\"Original\",\"x\":0.225,\"xanchor\":\"center\",\"xref\":\"paper\",\"y\":1.0,\"yanchor\":\"bottom\",\"yref\":\"paper\"},{\"font\":{\"size\":16},\"showarrow\":false,\"text\":\"Filtered\",\"x\":0.775,\"xanchor\":\"center\",\"xref\":\"paper\",\"y\":1.0,\"yanchor\":\"bottom\",\"yref\":\"paper\"}],\"legend\":{\"orientation\":\"h\",\"x\":0,\"xanchor\":\"left\",\"y\":-0.5,\"yanchor\":\"bottom\"},\"polar\":{\"angularaxis\":{\"categoryarray\":[\"Contigs\",\"Basepairs\",\"Largest contig\",\"N50\",\"% Mapped reads\",\"Uncalled bases\"],\"linecolor\":\"black\"},\"bgcolor\":\"rgb(255,255,255)\",\"domain\":{\"x\":[0.0,0.45],\"y\":[0.0,1.0]},\"hole\":0.08333333333333333,\"radialaxis\":{\"angle\":-22.5,\"gridcolor\":\"#DCDCDC\",\"linecolor\":\"black\",\"linewidth\":2,\"range\":[0,1],\"visible\":true}},\"polar2\":{\"angularaxis\":{\"categoryarray\":[\"Contigs\",\"Basepairs\",\"N50\",\"% Mapped reads\",\"Uncalled bases\",\"Misassembled contigs\",\"Misassembly events\"],\"linecolor\":\"black\"},\"bgcolor\":\"rgb(255,255,255)\",\"domain\":{\"x\":[0.55,1.0],\"y\":[0.0,1.0]},\"hole\":0.08333333333333333,\"radialaxis\":{\"angle\":-22.5,\"gridcolor\":\"#DCDCDC\",\"linecolor\":\"black\",\"linewidth\":2,\"range\":[0,1],\"visible\":true}},\"template\":{\"data\":{\"bar\":[{\"error_x\":{\"color\":\"#2a3f5f\"},\"error_y\":{\"color\":\"#2a3f5f\"},\"marker\":{\"line\":{\"color\":\"#E5ECF6\",\"width\":0.5},\"pattern\":{\"fillmode\":\"overlay\",\"size\":10,\"solidity\":0.2}},\"type\":\"bar\"}],\"barpolar\":[{\"marker\":{\"line\":{\"color\":\"#E5ECF6\",\"width\":0.5},\"pattern\":{\"fillmode\":\"overlay\",\"size\":10,\"solidity\":0.2}},\"type\":\"barpolar\"}],\"carpet\":[{\"aaxis\":{\"endlinecolor\":\"#2a3f5f\",\"gridcolor\":\"white\",\"linecolor\":\"white\",\"minorgridcolor\":\"white\",\"startlinecolor\":\"#2a3f5f\"},\"baxis\":{\"endlinecolor\":\"#2a3f5f\",\"gridcolor\":\"white\",\"linecolor\":\"white\",\"minorgridcolor\":\"white\",\"startlinecolor\":\"#2a3f5f\"},\"type\":\"carpet\"}],\"choropleth\":[{\"colorbar\":{\"outlinewidth\":0,\"ticks\":\"\"},\"type\":\"choropleth\"}],\"contour\":[{\"colorbar\":{\"outlinewidth\":0,\"ticks\":\"\"},\"colorscale\":[[0.0,\"#0d0887\"],[0.1111111111111111,\"#46039f\"],[0.2222222222222222,\"#7201a8\"],[0.3333333333333333,\"#9c179e\"],[0.4444444444444444,\"#bd3786\"],[0.5555555555555556,\"#d8576b\"],[0.6666666666666666,\"#ed7953\"],[0.7777777777777778,\"#fb9f3a\"],[0.8888888888888888,\"#fdca26\"],[1.0,\"#f0f921\"]],\"type\":\"contour\"}],\"contourcarpet\":[{\"colorbar\":{\"outlinewidth\":0,\"ticks\":\"\"},\"type\":\"contourcarpet\"}],\"heatmap\":[{\"colorbar\":{\"outlinewidth\":0,\"ticks\":\"\"},\"colorscale\":[[0.0,\"#0d0887\"],[0.1111111111111111,\"#46039f\"],[0.2222222222222222,\"#7201a8\"],[0.3333333333333333,\"#9c179e\"],[0.4444444444444444,\"#bd3786\"],[0.5555555555555556,\"#d8576b\"],[0.6666666666666666,\"#ed7953\"],[0.7777777777777778,\"#fb9f3a\"],[0.8888888888888888,\"#fdca26\"],[1.0,\"#f0f921\"]],\"type\":\"heatmap\"}],\"heatmapgl\":[{\"colorbar\":{\"outlinewidth\":0,\"ticks\":\"\"},\"colorscale\":[[0.0,\"#0d0887\"],[0.1111111111111111,\"#46039f\"],[0.2222222222222222,\"#7201a8\"],[0.3333333333333333,\"#9c179e\"],[0.4444444444444444,\"#bd3786\"],[0.5555555555555556,\"#d8576b\"],[0.6666666666666666,\"#ed7953\"],[0.7777777777777778,\"#fb9f3a\"],[0.8888888888888888,\"#fdca26\"],[1.0,\"#f0f921\"]],\"type\":\"heatmapgl\"}],\"histogram\":[{\"marker\":{\"pattern\":{\"fillmode\":\"overlay\",\"size\":10,\"solidity\":0.2}},\"type\":\"histogram\"}],\"histogram2d\":[{\"colorbar\":{\"outlinewidth\":0,\"ticks\":\"\"},\"colorscale\":[[0.0,\"#0d0887\"],[0.1111111111111111,\"#46039f\"],[0.2222222222222222,\"#7201a8\"],[0.3333333333333333,\"#9c179e\"],[0.4444444444444444,\"#bd3786\"],[0.5555555555555556,\"#d8576b\"],[0.6666666666666666,\"#ed7953\"],[0.7777777777777778,\"#fb9f3a\"],[0.8888888888888888,\"#fdca26\"],[1.0,\"#f0f921\"]],\"type\":\"histogram2d\"}],\"histogram2dcontour\":[{\"colorbar\":{\"outlinewidth\":0,\"ticks\":\"\"},\"colorscale\":[[0.0,\"#0d0887\"],[0.1111111111111111,\"#46039f\"],[0.2222222222222222,\"#7201a8\"],[0.3333333333333333,\"#9c179e\"],[0.4444444444444444,\"#bd3786\"],[0.5555555555555556,\"#d8576b\"],[0.6666666666666666,\"#ed7953\"],[0.7777777777777778,\"#fb9f3a\"],[0.8888888888888888,\"#fdca26\"],[1.0,\"#f0f921\"]],\"type\":\"histogram2dcontour\"}],\"mesh3d\":[{\"colorbar\":{\"outlinewidth\":0,\"ticks\":\"\"},\"type\":\"mesh3d\"}],\"parcoords\":[{\"line\":{\"colorbar\":{\"outlinewidth\":0,\"ticks\":\"\"}},\"type\":\"parcoords\"}],\"pie\":[{\"automargin\":true,\"type\":\"pie\"}],\"scatter\":[{\"marker\":{\"colorbar\":{\"outlinewidth\":0,\"ticks\":\"\"}},\"type\":\"scatter\"}],\"scatter3d\":[{\"line\":{\"colorbar\":{\"outlinewidth\":0,\"ticks\":\"\"}},\"marker\":{\"colorbar\":{\"outlinewidth\":0,\"ticks\":\"\"}},\"type\":\"scatter3d\"}],\"scattercarpet\":[{\"marker\":{\"colorbar\":{\"outlinewidth\":0,\"ticks\":\"\"}},\"type\":\"scattercarpet\"}],\"scattergeo\":[{\"marker\":{\"colorbar\":{\"outlinewidth\":0,\"ticks\":\"\"}},\"type\":\"scattergeo\"}],\"scattergl\":[{\"marker\":{\"colorbar\":{\"outlinewidth\":0,\"ticks\":\"\"}},\"type\":\"scattergl\"}],\"scattermapbox\":[{\"marker\":{\"colorbar\":{\"outlinewidth\":0,\"ticks\":\"\"}},\"type\":\"scattermapbox\"}],\"scatterpolar\":[{\"marker\":{\"colorbar\":{\"outlinewidth\":0,\"ticks\":\"\"}},\"type\":\"scatterpolar\"}],\"scatterpolargl\":[{\"marker\":{\"colorbar\":{\"outlinewidth\":0,\"ticks\":\"\"}},\"type\":\"scatterpolargl\"}],\"scatterternary\":[{\"marker\":{\"colorbar\":{\"outlinewidth\":0,\"ticks\":\"\"}},\"type\":\"scatterternary\"}],\"surface\":[{\"colorbar\":{\"outlinewidth\":0,\"ticks\":\"\"},\"colorscale\":[[0.0,\"#0d0887\"],[0.1111111111111111,\"#46039f\"],[0.2222222222222222,\"#7201a8\"],[0.3333333333333333,\"#9c179e\"],[0.4444444444444444,\"#bd3786\"],[0.5555555555555556,\"#d8576b\"],[0.6666666666666666,\"#ed7953\"],[0.7777777777777778,\"#fb9f3a\"],[0.8888888888888888,\"#fdca26\"],[1.0,\"#f0f921\"]],\"type\":\"surface\"}],\"table\":[{\"cells\":{\"fill\":{\"color\":\"#EBF0F8\"},\"line\":{\"color\":\"white\"}},\"header\":{\"fill\":{\"color\":\"#C8D4E3\"},\"line\":{\"color\":\"white\"}},\"type\":\"table\"}]},\"layout\":{\"annotationdefaults\":{\"arrowcolor\":\"#2a3f5f\",\"arrowhead\":0,\"arrowwidth\":1},\"autotypenumbers\":\"strict\",\"coloraxis\":{\"colorbar\":{\"outlinewidth\":0,\"ticks\":\"\"}},\"colorscale\":{\"diverging\":[[0,\"#8e0152\"],[0.1,\"#c51b7d\"],[0.2,\"#de77ae\"],[0.3,\"#f1b6da\"],[0.4,\"#fde0ef\"],[0.5,\"#f7f7f7\"],[0.6,\"#e6f5d0\"],[0.7,\"#b8e186\"],[0.8,\"#7fbc41\"],[0.9,\"#4d9221\"],[1,\"#276419\"]],\"sequential\":[[0.0,\"#0d0887\"],[0.1111111111111111,\"#46039f\"],[0.2222222222222222,\"#7201a8\"],[0.3333333333333333,\"#9c179e\"],[0.4444444444444444,\"#bd3786\"],[0.5555555555555556,\"#d8576b\"],[0.6666666666666666,\"#ed7953\"],[0.7777777777777778,\"#fb9f3a\"],[0.8888888888888888,\"#fdca26\"],[1.0,\"#f0f921\"]],\"sequentialminus\":[[0.0,\"#0d0887\"],[0.1111111111111111,\"#46039f\"],[0.2222222222222222,\"#7201a8\"],[0.3333333333333333,\"#9c179e\"],[0.4444444444444444,\"#bd3786\"],[0.5555555555555556,\"#d8576b\"],[0.6666666666666666,\"#ed7953\"],[0.7777777777777778,\"#fb9f3a\"],[0.8888888888888888,\"#fdca26\"],[1.0,\"#f0f921\"]]},\"colorway\":[\"#636efa\",\"#EF553B\",\"#00cc96\",\"#ab63fa\",\"#FFA15A\",\"#19d3f3\",\"#FF6692\",\"#B6E880\",\"#FF97FF\",\"#FECB52\"],\"font\":{\"color\":\"#2a3f5f\"},\"geo\":{\"bgcolor\":\"white\",\"lakecolor\":\"white\",\"landcolor\":\"#E5ECF6\",\"showlakes\":true,\"showland\":true,\"subunitcolor\":\"white\"},\"hoverlabel\":{\"align\":\"left\"},\"hovermode\":\"closest\",\"mapbox\":{\"style\":\"light\"},\"paper_bgcolor\":\"white\",\"plot_bgcolor\":\"#E5ECF6\",\"polar\":{\"angularaxis\":{\"gridcolor\":\"white\",\"linecolor\":\"white\",\"ticks\":\"\"},\"bgcolor\":\"#E5ECF6\",\"radialaxis\":{\"gridcolor\":\"white\",\"linecolor\":\"white\",\"ticks\":\"\"}},\"scene\":{\"xaxis\":{\"backgroundcolor\":\"#E5ECF6\",\"gridcolor\":\"white\",\"gridwidth\":2,\"linecolor\":\"white\",\"showbackground\":true,\"ticks\":\"\",\"zerolinecolor\":\"white\"},\"yaxis\":{\"backgroundcolor\":\"#E5ECF6\",\"gridcolor\":\"white\",\"gridwidth\":2,\"linecolor\":\"white\",\"showbackground\":true,\"ticks\":\"\",\"zerolinecolor\":\"white\"},\"zaxis\":{\"backgroundcolor\":\"#E5ECF6\",\"gridcolor\":\"white\",\"gridwidth\":2,\"linecolor\":\"white\",\"showbackground\":true,\"ticks\":\"\",\"zerolinecolor\":\"white\"}},\"shapedefaults\":{\"line\":{\"color\":\"#2a3f5f\"}},\"ternary\":{\"aaxis\":{\"gridcolor\":\"white\",\"linecolor\":\"white\",\"ticks\":\"\"},\"baxis\":{\"gridcolor\":\"white\",\"linecolor\":\"white\",\"ticks\":\"\"},\"bgcolor\":\"#E5ECF6\",\"caxis\":{\"gridcolor\":\"white\",\"linecolor\":\"white\",\"ticks\":\"\"}},\"title\":{\"x\":0.05},\"xaxis\":{\"automargin\":true,\"gridcolor\":\"white\",\"linecolor\":\"white\",\"ticks\":\"\",\"title\":{\"standoff\":15},\"zerolinecolor\":\"white\",\"zerolinewidth\":2},\"yaxis\":{\"automargin\":true,\"gridcolor\":\"white\",\"linecolor\":\"white\",\"ticks\":\"\",\"title\":{\"standoff\":15},\"zerolinecolor\":\"white\",\"zerolinewidth\":2}}},\"title\":{\"text\":\"ERR2984773\"}},                        {\"responsive\": true}                    ).then(function(){\n",
       "                            \n",
       "var gd = document.getElementById('31b0acd0-e47c-4ff4-845e-b556e9e02087');\n",
       "var x = new MutationObserver(function (mutations, observer) {{\n",
       "        var display = window.getComputedStyle(gd).display;\n",
       "        if (!display || display === 'none') {{\n",
       "            console.log([gd, 'removed!']);\n",
       "            Plotly.purge(gd);\n",
       "            observer.disconnect();\n",
       "        }}\n",
       "}});\n",
       "\n",
       "// Listen for the removal of the full notebook cells\n",
       "var notebookContainer = gd.closest('#notebook-container');\n",
       "if (notebookContainer) {{\n",
       "    x.observe(notebookContainer, {childList: true});\n",
       "}}\n",
       "\n",
       "// Listen for the clearing of the current output cell\n",
       "var outputEl = gd.closest('.output');\n",
       "if (outputEl) {{\n",
       "    x.observe(outputEl, {childList: true});\n",
       "}}\n",
       "\n",
       "                        })                };                });            </script>        </div>"
      ]
     },
     "metadata": {},
     "output_type": "display_data"
    },
    {
     "data": {
      "application/vnd.plotly.v1+json": {
       "config": {
        "plotlyServerURL": "https://plot.ly"
       },
       "data": [
        {
         "fill": "toself",
         "line": {
          "color": "#930001"
         },
         "marker": {
          "color": "#930001",
          "line": {
           "color": "black",
           "width": 2
          },
          "size": 12
         },
         "mode": "lines+markers",
         "name": "Metagenomic",
         "opacity": 0.6,
         "r": [
          0.3162393162393162,
          0.9870367611135923,
          1,
          1,
          1,
          1
         ],
         "showlegend": true,
         "subplot": "polar",
         "theta": [
          "Contigs",
          "Basepairs",
          "Largest contig",
          "N50",
          "% Mapped reads",
          "Uncalled bases"
         ],
         "type": "scatterpolar"
        },
        {
         "fill": "toself",
         "line": {
          "color": "#930001"
         },
         "marker": {
          "color": "#930001",
          "line": {
           "color": "black",
           "width": 2
          },
          "size": 12
         },
         "mode": "lines+markers",
         "name": "Metagenomic",
         "opacity": 0.6,
         "r": [
          0.18961625282167038,
          0.9829925671609603,
          1,
          1,
          1,
          0,
          0
         ],
         "showlegend": false,
         "subplot": "polar2",
         "theta": [
          "Contigs",
          "Basepairs",
          "N50",
          "% Mapped reads",
          "Uncalled bases",
          "Misassembled contigs",
          "Misassembly events"
         ],
         "type": "scatterpolar"
        },
        {
         "fill": "toself",
         "line": {
          "color": "#009392"
         },
         "marker": {
          "color": "#009392",
          "line": {
           "color": "black",
           "width": 2
          },
          "size": 12
         },
         "mode": "lines+markers",
         "name": "Genomic",
         "opacity": 0.6,
         "r": [
          0,
          0.9837181075896997,
          0.8198510620651879,
          0.8569638449191361,
          0.997247522387678,
          1
         ],
         "showlegend": true,
         "subplot": "polar",
         "theta": [
          "Contigs",
          "Basepairs",
          "Largest contig",
          "N50",
          "% Mapped reads",
          "Uncalled bases"
         ],
         "type": "scatterpolar"
        },
        {
         "fill": "toself",
         "line": {
          "color": "#009392"
         },
         "marker": {
          "color": "#009392",
          "line": {
           "color": "black",
           "width": 2
          },
          "size": 12
         },
         "mode": "lines+markers",
         "name": "Genomic",
         "opacity": 0.6,
         "r": [
          0,
          0.9783381605215463,
          0.8757056464287062,
          0.9916805190120218,
          1,
          1,
          1
         ],
         "showlegend": false,
         "subplot": "polar2",
         "theta": [
          "Contigs",
          "Basepairs",
          "N50",
          "% Mapped reads",
          "Uncalled bases",
          "Misassembled contigs",
          "Misassembly events"
         ],
         "type": "scatterpolar"
        }
       ],
       "layout": {
        "annotations": [
         {
          "font": {
           "size": 16
          },
          "showarrow": false,
          "text": "Original",
          "x": 0.225,
          "xanchor": "center",
          "xref": "paper",
          "y": 1,
          "yanchor": "bottom",
          "yref": "paper"
         },
         {
          "font": {
           "size": 16
          },
          "showarrow": false,
          "text": "Filtered",
          "x": 0.775,
          "xanchor": "center",
          "xref": "paper",
          "y": 1,
          "yanchor": "bottom",
          "yref": "paper"
         }
        ],
        "legend": {
         "orientation": "h",
         "x": 0,
         "xanchor": "left",
         "y": -0.5,
         "yanchor": "bottom"
        },
        "polar": {
         "angularaxis": {
          "categoryarray": [
           "Contigs",
           "Basepairs",
           "Largest contig",
           "N50",
           "% Mapped reads",
           "Uncalled bases"
          ],
          "linecolor": "black"
         },
         "bgcolor": "rgb(255,255,255)",
         "domain": {
          "x": [
           0,
           0.45
          ],
          "y": [
           0,
           1
          ]
         },
         "hole": 0.08333333333333333,
         "radialaxis": {
          "angle": -22.5,
          "gridcolor": "#DCDCDC",
          "linecolor": "black",
          "linewidth": 2,
          "range": [
           0,
           1
          ],
          "visible": true
         }
        },
        "polar2": {
         "angularaxis": {
          "categoryarray": [
           "Contigs",
           "Basepairs",
           "N50",
           "% Mapped reads",
           "Uncalled bases",
           "Misassembled contigs",
           "Misassembly events"
          ],
          "linecolor": "black"
         },
         "bgcolor": "rgb(255,255,255)",
         "domain": {
          "x": [
           0.55,
           1
          ],
          "y": [
           0,
           1
          ]
         },
         "hole": 0.08333333333333333,
         "radialaxis": {
          "angle": -22.5,
          "gridcolor": "#DCDCDC",
          "linecolor": "black",
          "linewidth": 2,
          "range": [
           0,
           1
          ],
          "visible": true
         }
        },
        "template": {
         "data": {
          "bar": [
           {
            "error_x": {
             "color": "#2a3f5f"
            },
            "error_y": {
             "color": "#2a3f5f"
            },
            "marker": {
             "line": {
              "color": "#E5ECF6",
              "width": 0.5
             },
             "pattern": {
              "fillmode": "overlay",
              "size": 10,
              "solidity": 0.2
             }
            },
            "type": "bar"
           }
          ],
          "barpolar": [
           {
            "marker": {
             "line": {
              "color": "#E5ECF6",
              "width": 0.5
             },
             "pattern": {
              "fillmode": "overlay",
              "size": 10,
              "solidity": 0.2
             }
            },
            "type": "barpolar"
           }
          ],
          "carpet": [
           {
            "aaxis": {
             "endlinecolor": "#2a3f5f",
             "gridcolor": "white",
             "linecolor": "white",
             "minorgridcolor": "white",
             "startlinecolor": "#2a3f5f"
            },
            "baxis": {
             "endlinecolor": "#2a3f5f",
             "gridcolor": "white",
             "linecolor": "white",
             "minorgridcolor": "white",
             "startlinecolor": "#2a3f5f"
            },
            "type": "carpet"
           }
          ],
          "choropleth": [
           {
            "colorbar": {
             "outlinewidth": 0,
             "ticks": ""
            },
            "type": "choropleth"
           }
          ],
          "contour": [
           {
            "colorbar": {
             "outlinewidth": 0,
             "ticks": ""
            },
            "colorscale": [
             [
              0,
              "#0d0887"
             ],
             [
              0.1111111111111111,
              "#46039f"
             ],
             [
              0.2222222222222222,
              "#7201a8"
             ],
             [
              0.3333333333333333,
              "#9c179e"
             ],
             [
              0.4444444444444444,
              "#bd3786"
             ],
             [
              0.5555555555555556,
              "#d8576b"
             ],
             [
              0.6666666666666666,
              "#ed7953"
             ],
             [
              0.7777777777777778,
              "#fb9f3a"
             ],
             [
              0.8888888888888888,
              "#fdca26"
             ],
             [
              1,
              "#f0f921"
             ]
            ],
            "type": "contour"
           }
          ],
          "contourcarpet": [
           {
            "colorbar": {
             "outlinewidth": 0,
             "ticks": ""
            },
            "type": "contourcarpet"
           }
          ],
          "heatmap": [
           {
            "colorbar": {
             "outlinewidth": 0,
             "ticks": ""
            },
            "colorscale": [
             [
              0,
              "#0d0887"
             ],
             [
              0.1111111111111111,
              "#46039f"
             ],
             [
              0.2222222222222222,
              "#7201a8"
             ],
             [
              0.3333333333333333,
              "#9c179e"
             ],
             [
              0.4444444444444444,
              "#bd3786"
             ],
             [
              0.5555555555555556,
              "#d8576b"
             ],
             [
              0.6666666666666666,
              "#ed7953"
             ],
             [
              0.7777777777777778,
              "#fb9f3a"
             ],
             [
              0.8888888888888888,
              "#fdca26"
             ],
             [
              1,
              "#f0f921"
             ]
            ],
            "type": "heatmap"
           }
          ],
          "heatmapgl": [
           {
            "colorbar": {
             "outlinewidth": 0,
             "ticks": ""
            },
            "colorscale": [
             [
              0,
              "#0d0887"
             ],
             [
              0.1111111111111111,
              "#46039f"
             ],
             [
              0.2222222222222222,
              "#7201a8"
             ],
             [
              0.3333333333333333,
              "#9c179e"
             ],
             [
              0.4444444444444444,
              "#bd3786"
             ],
             [
              0.5555555555555556,
              "#d8576b"
             ],
             [
              0.6666666666666666,
              "#ed7953"
             ],
             [
              0.7777777777777778,
              "#fb9f3a"
             ],
             [
              0.8888888888888888,
              "#fdca26"
             ],
             [
              1,
              "#f0f921"
             ]
            ],
            "type": "heatmapgl"
           }
          ],
          "histogram": [
           {
            "marker": {
             "pattern": {
              "fillmode": "overlay",
              "size": 10,
              "solidity": 0.2
             }
            },
            "type": "histogram"
           }
          ],
          "histogram2d": [
           {
            "colorbar": {
             "outlinewidth": 0,
             "ticks": ""
            },
            "colorscale": [
             [
              0,
              "#0d0887"
             ],
             [
              0.1111111111111111,
              "#46039f"
             ],
             [
              0.2222222222222222,
              "#7201a8"
             ],
             [
              0.3333333333333333,
              "#9c179e"
             ],
             [
              0.4444444444444444,
              "#bd3786"
             ],
             [
              0.5555555555555556,
              "#d8576b"
             ],
             [
              0.6666666666666666,
              "#ed7953"
             ],
             [
              0.7777777777777778,
              "#fb9f3a"
             ],
             [
              0.8888888888888888,
              "#fdca26"
             ],
             [
              1,
              "#f0f921"
             ]
            ],
            "type": "histogram2d"
           }
          ],
          "histogram2dcontour": [
           {
            "colorbar": {
             "outlinewidth": 0,
             "ticks": ""
            },
            "colorscale": [
             [
              0,
              "#0d0887"
             ],
             [
              0.1111111111111111,
              "#46039f"
             ],
             [
              0.2222222222222222,
              "#7201a8"
             ],
             [
              0.3333333333333333,
              "#9c179e"
             ],
             [
              0.4444444444444444,
              "#bd3786"
             ],
             [
              0.5555555555555556,
              "#d8576b"
             ],
             [
              0.6666666666666666,
              "#ed7953"
             ],
             [
              0.7777777777777778,
              "#fb9f3a"
             ],
             [
              0.8888888888888888,
              "#fdca26"
             ],
             [
              1,
              "#f0f921"
             ]
            ],
            "type": "histogram2dcontour"
           }
          ],
          "mesh3d": [
           {
            "colorbar": {
             "outlinewidth": 0,
             "ticks": ""
            },
            "type": "mesh3d"
           }
          ],
          "parcoords": [
           {
            "line": {
             "colorbar": {
              "outlinewidth": 0,
              "ticks": ""
             }
            },
            "type": "parcoords"
           }
          ],
          "pie": [
           {
            "automargin": true,
            "type": "pie"
           }
          ],
          "scatter": [
           {
            "marker": {
             "colorbar": {
              "outlinewidth": 0,
              "ticks": ""
             }
            },
            "type": "scatter"
           }
          ],
          "scatter3d": [
           {
            "line": {
             "colorbar": {
              "outlinewidth": 0,
              "ticks": ""
             }
            },
            "marker": {
             "colorbar": {
              "outlinewidth": 0,
              "ticks": ""
             }
            },
            "type": "scatter3d"
           }
          ],
          "scattercarpet": [
           {
            "marker": {
             "colorbar": {
              "outlinewidth": 0,
              "ticks": ""
             }
            },
            "type": "scattercarpet"
           }
          ],
          "scattergeo": [
           {
            "marker": {
             "colorbar": {
              "outlinewidth": 0,
              "ticks": ""
             }
            },
            "type": "scattergeo"
           }
          ],
          "scattergl": [
           {
            "marker": {
             "colorbar": {
              "outlinewidth": 0,
              "ticks": ""
             }
            },
            "type": "scattergl"
           }
          ],
          "scattermapbox": [
           {
            "marker": {
             "colorbar": {
              "outlinewidth": 0,
              "ticks": ""
             }
            },
            "type": "scattermapbox"
           }
          ],
          "scatterpolar": [
           {
            "marker": {
             "colorbar": {
              "outlinewidth": 0,
              "ticks": ""
             }
            },
            "type": "scatterpolar"
           }
          ],
          "scatterpolargl": [
           {
            "marker": {
             "colorbar": {
              "outlinewidth": 0,
              "ticks": ""
             }
            },
            "type": "scatterpolargl"
           }
          ],
          "scatterternary": [
           {
            "marker": {
             "colorbar": {
              "outlinewidth": 0,
              "ticks": ""
             }
            },
            "type": "scatterternary"
           }
          ],
          "surface": [
           {
            "colorbar": {
             "outlinewidth": 0,
             "ticks": ""
            },
            "colorscale": [
             [
              0,
              "#0d0887"
             ],
             [
              0.1111111111111111,
              "#46039f"
             ],
             [
              0.2222222222222222,
              "#7201a8"
             ],
             [
              0.3333333333333333,
              "#9c179e"
             ],
             [
              0.4444444444444444,
              "#bd3786"
             ],
             [
              0.5555555555555556,
              "#d8576b"
             ],
             [
              0.6666666666666666,
              "#ed7953"
             ],
             [
              0.7777777777777778,
              "#fb9f3a"
             ],
             [
              0.8888888888888888,
              "#fdca26"
             ],
             [
              1,
              "#f0f921"
             ]
            ],
            "type": "surface"
           }
          ],
          "table": [
           {
            "cells": {
             "fill": {
              "color": "#EBF0F8"
             },
             "line": {
              "color": "white"
             }
            },
            "header": {
             "fill": {
              "color": "#C8D4E3"
             },
             "line": {
              "color": "white"
             }
            },
            "type": "table"
           }
          ]
         },
         "layout": {
          "annotationdefaults": {
           "arrowcolor": "#2a3f5f",
           "arrowhead": 0,
           "arrowwidth": 1
          },
          "autotypenumbers": "strict",
          "coloraxis": {
           "colorbar": {
            "outlinewidth": 0,
            "ticks": ""
           }
          },
          "colorscale": {
           "diverging": [
            [
             0,
             "#8e0152"
            ],
            [
             0.1,
             "#c51b7d"
            ],
            [
             0.2,
             "#de77ae"
            ],
            [
             0.3,
             "#f1b6da"
            ],
            [
             0.4,
             "#fde0ef"
            ],
            [
             0.5,
             "#f7f7f7"
            ],
            [
             0.6,
             "#e6f5d0"
            ],
            [
             0.7,
             "#b8e186"
            ],
            [
             0.8,
             "#7fbc41"
            ],
            [
             0.9,
             "#4d9221"
            ],
            [
             1,
             "#276419"
            ]
           ],
           "sequential": [
            [
             0,
             "#0d0887"
            ],
            [
             0.1111111111111111,
             "#46039f"
            ],
            [
             0.2222222222222222,
             "#7201a8"
            ],
            [
             0.3333333333333333,
             "#9c179e"
            ],
            [
             0.4444444444444444,
             "#bd3786"
            ],
            [
             0.5555555555555556,
             "#d8576b"
            ],
            [
             0.6666666666666666,
             "#ed7953"
            ],
            [
             0.7777777777777778,
             "#fb9f3a"
            ],
            [
             0.8888888888888888,
             "#fdca26"
            ],
            [
             1,
             "#f0f921"
            ]
           ],
           "sequentialminus": [
            [
             0,
             "#0d0887"
            ],
            [
             0.1111111111111111,
             "#46039f"
            ],
            [
             0.2222222222222222,
             "#7201a8"
            ],
            [
             0.3333333333333333,
             "#9c179e"
            ],
            [
             0.4444444444444444,
             "#bd3786"
            ],
            [
             0.5555555555555556,
             "#d8576b"
            ],
            [
             0.6666666666666666,
             "#ed7953"
            ],
            [
             0.7777777777777778,
             "#fb9f3a"
            ],
            [
             0.8888888888888888,
             "#fdca26"
            ],
            [
             1,
             "#f0f921"
            ]
           ]
          },
          "colorway": [
           "#636efa",
           "#EF553B",
           "#00cc96",
           "#ab63fa",
           "#FFA15A",
           "#19d3f3",
           "#FF6692",
           "#B6E880",
           "#FF97FF",
           "#FECB52"
          ],
          "font": {
           "color": "#2a3f5f"
          },
          "geo": {
           "bgcolor": "white",
           "lakecolor": "white",
           "landcolor": "#E5ECF6",
           "showlakes": true,
           "showland": true,
           "subunitcolor": "white"
          },
          "hoverlabel": {
           "align": "left"
          },
          "hovermode": "closest",
          "mapbox": {
           "style": "light"
          },
          "paper_bgcolor": "white",
          "plot_bgcolor": "#E5ECF6",
          "polar": {
           "angularaxis": {
            "gridcolor": "white",
            "linecolor": "white",
            "ticks": ""
           },
           "bgcolor": "#E5ECF6",
           "radialaxis": {
            "gridcolor": "white",
            "linecolor": "white",
            "ticks": ""
           }
          },
          "scene": {
           "xaxis": {
            "backgroundcolor": "#E5ECF6",
            "gridcolor": "white",
            "gridwidth": 2,
            "linecolor": "white",
            "showbackground": true,
            "ticks": "",
            "zerolinecolor": "white"
           },
           "yaxis": {
            "backgroundcolor": "#E5ECF6",
            "gridcolor": "white",
            "gridwidth": 2,
            "linecolor": "white",
            "showbackground": true,
            "ticks": "",
            "zerolinecolor": "white"
           },
           "zaxis": {
            "backgroundcolor": "#E5ECF6",
            "gridcolor": "white",
            "gridwidth": 2,
            "linecolor": "white",
            "showbackground": true,
            "ticks": "",
            "zerolinecolor": "white"
           }
          },
          "shapedefaults": {
           "line": {
            "color": "#2a3f5f"
           }
          },
          "ternary": {
           "aaxis": {
            "gridcolor": "white",
            "linecolor": "white",
            "ticks": ""
           },
           "baxis": {
            "gridcolor": "white",
            "linecolor": "white",
            "ticks": ""
           },
           "bgcolor": "#E5ECF6",
           "caxis": {
            "gridcolor": "white",
            "linecolor": "white",
            "ticks": ""
           }
          },
          "title": {
           "x": 0.05
          },
          "xaxis": {
           "automargin": true,
           "gridcolor": "white",
           "linecolor": "white",
           "ticks": "",
           "title": {
            "standoff": 15
           },
           "zerolinecolor": "white",
           "zerolinewidth": 2
          },
          "yaxis": {
           "automargin": true,
           "gridcolor": "white",
           "linecolor": "white",
           "ticks": "",
           "title": {
            "standoff": 15
           },
           "zerolinecolor": "white",
           "zerolinewidth": 2
          }
         }
        },
        "title": {
         "text": "ENN"
        }
       }
      },
      "text/html": [
       "<div>                            <div id=\"b121fb62-a63f-46b0-ae21-49dadd7174a2\" class=\"plotly-graph-div\" style=\"height:525px; width:100%;\"></div>            <script type=\"text/javascript\">                require([\"plotly\"], function(Plotly) {                    window.PLOTLYENV=window.PLOTLYENV || {};                                    if (document.getElementById(\"b121fb62-a63f-46b0-ae21-49dadd7174a2\")) {                    Plotly.newPlot(                        \"b121fb62-a63f-46b0-ae21-49dadd7174a2\",                        [{\"fill\":\"toself\",\"line\":{\"color\":\"#930001\"},\"marker\":{\"color\":\"#930001\",\"line\":{\"color\":\"black\",\"width\":2},\"size\":12},\"mode\":\"lines+markers\",\"name\":\"Metagenomic\",\"opacity\":0.6,\"r\":[0.3162393162393162,0.9870367611135923,1.0,1.0,1.0,1.0],\"showlegend\":true,\"subplot\":\"polar\",\"theta\":[\"Contigs\",\"Basepairs\",\"Largest contig\",\"N50\",\"% Mapped reads\",\"Uncalled bases\"],\"type\":\"scatterpolar\"},{\"fill\":\"toself\",\"line\":{\"color\":\"#930001\"},\"marker\":{\"color\":\"#930001\",\"line\":{\"color\":\"black\",\"width\":2},\"size\":12},\"mode\":\"lines+markers\",\"name\":\"Metagenomic\",\"opacity\":0.6,\"r\":[0.18961625282167038,0.9829925671609603,1.0,1.0,1.0,0.0,0.0],\"showlegend\":false,\"subplot\":\"polar2\",\"theta\":[\"Contigs\",\"Basepairs\",\"N50\",\"% Mapped reads\",\"Uncalled bases\",\"Misassembled contigs\",\"Misassembly events\"],\"type\":\"scatterpolar\"},{\"fill\":\"toself\",\"line\":{\"color\":\"#009392\"},\"marker\":{\"color\":\"#009392\",\"line\":{\"color\":\"black\",\"width\":2},\"size\":12},\"mode\":\"lines+markers\",\"name\":\"Genomic\",\"opacity\":0.6,\"r\":[0.0,0.9837181075896997,0.8198510620651879,0.8569638449191361,0.997247522387678,1.0],\"showlegend\":true,\"subplot\":\"polar\",\"theta\":[\"Contigs\",\"Basepairs\",\"Largest contig\",\"N50\",\"% Mapped reads\",\"Uncalled bases\"],\"type\":\"scatterpolar\"},{\"fill\":\"toself\",\"line\":{\"color\":\"#009392\"},\"marker\":{\"color\":\"#009392\",\"line\":{\"color\":\"black\",\"width\":2},\"size\":12},\"mode\":\"lines+markers\",\"name\":\"Genomic\",\"opacity\":0.6,\"r\":[0.0,0.9783381605215463,0.8757056464287062,0.9916805190120218,1.0,1.0,1.0],\"showlegend\":false,\"subplot\":\"polar2\",\"theta\":[\"Contigs\",\"Basepairs\",\"N50\",\"% Mapped reads\",\"Uncalled bases\",\"Misassembled contigs\",\"Misassembly events\"],\"type\":\"scatterpolar\"}],                        {\"annotations\":[{\"font\":{\"size\":16},\"showarrow\":false,\"text\":\"Original\",\"x\":0.225,\"xanchor\":\"center\",\"xref\":\"paper\",\"y\":1.0,\"yanchor\":\"bottom\",\"yref\":\"paper\"},{\"font\":{\"size\":16},\"showarrow\":false,\"text\":\"Filtered\",\"x\":0.775,\"xanchor\":\"center\",\"xref\":\"paper\",\"y\":1.0,\"yanchor\":\"bottom\",\"yref\":\"paper\"}],\"legend\":{\"orientation\":\"h\",\"x\":0,\"xanchor\":\"left\",\"y\":-0.5,\"yanchor\":\"bottom\"},\"polar\":{\"angularaxis\":{\"categoryarray\":[\"Contigs\",\"Basepairs\",\"Largest contig\",\"N50\",\"% Mapped reads\",\"Uncalled bases\"],\"linecolor\":\"black\"},\"bgcolor\":\"rgb(255,255,255)\",\"domain\":{\"x\":[0.0,0.45],\"y\":[0.0,1.0]},\"hole\":0.08333333333333333,\"radialaxis\":{\"angle\":-22.5,\"gridcolor\":\"#DCDCDC\",\"linecolor\":\"black\",\"linewidth\":2,\"range\":[0,1],\"visible\":true}},\"polar2\":{\"angularaxis\":{\"categoryarray\":[\"Contigs\",\"Basepairs\",\"N50\",\"% Mapped reads\",\"Uncalled bases\",\"Misassembled contigs\",\"Misassembly events\"],\"linecolor\":\"black\"},\"bgcolor\":\"rgb(255,255,255)\",\"domain\":{\"x\":[0.55,1.0],\"y\":[0.0,1.0]},\"hole\":0.08333333333333333,\"radialaxis\":{\"angle\":-22.5,\"gridcolor\":\"#DCDCDC\",\"linecolor\":\"black\",\"linewidth\":2,\"range\":[0,1],\"visible\":true}},\"template\":{\"data\":{\"bar\":[{\"error_x\":{\"color\":\"#2a3f5f\"},\"error_y\":{\"color\":\"#2a3f5f\"},\"marker\":{\"line\":{\"color\":\"#E5ECF6\",\"width\":0.5},\"pattern\":{\"fillmode\":\"overlay\",\"size\":10,\"solidity\":0.2}},\"type\":\"bar\"}],\"barpolar\":[{\"marker\":{\"line\":{\"color\":\"#E5ECF6\",\"width\":0.5},\"pattern\":{\"fillmode\":\"overlay\",\"size\":10,\"solidity\":0.2}},\"type\":\"barpolar\"}],\"carpet\":[{\"aaxis\":{\"endlinecolor\":\"#2a3f5f\",\"gridcolor\":\"white\",\"linecolor\":\"white\",\"minorgridcolor\":\"white\",\"startlinecolor\":\"#2a3f5f\"},\"baxis\":{\"endlinecolor\":\"#2a3f5f\",\"gridcolor\":\"white\",\"linecolor\":\"white\",\"minorgridcolor\":\"white\",\"startlinecolor\":\"#2a3f5f\"},\"type\":\"carpet\"}],\"choropleth\":[{\"colorbar\":{\"outlinewidth\":0,\"ticks\":\"\"},\"type\":\"choropleth\"}],\"contour\":[{\"colorbar\":{\"outlinewidth\":0,\"ticks\":\"\"},\"colorscale\":[[0.0,\"#0d0887\"],[0.1111111111111111,\"#46039f\"],[0.2222222222222222,\"#7201a8\"],[0.3333333333333333,\"#9c179e\"],[0.4444444444444444,\"#bd3786\"],[0.5555555555555556,\"#d8576b\"],[0.6666666666666666,\"#ed7953\"],[0.7777777777777778,\"#fb9f3a\"],[0.8888888888888888,\"#fdca26\"],[1.0,\"#f0f921\"]],\"type\":\"contour\"}],\"contourcarpet\":[{\"colorbar\":{\"outlinewidth\":0,\"ticks\":\"\"},\"type\":\"contourcarpet\"}],\"heatmap\":[{\"colorbar\":{\"outlinewidth\":0,\"ticks\":\"\"},\"colorscale\":[[0.0,\"#0d0887\"],[0.1111111111111111,\"#46039f\"],[0.2222222222222222,\"#7201a8\"],[0.3333333333333333,\"#9c179e\"],[0.4444444444444444,\"#bd3786\"],[0.5555555555555556,\"#d8576b\"],[0.6666666666666666,\"#ed7953\"],[0.7777777777777778,\"#fb9f3a\"],[0.8888888888888888,\"#fdca26\"],[1.0,\"#f0f921\"]],\"type\":\"heatmap\"}],\"heatmapgl\":[{\"colorbar\":{\"outlinewidth\":0,\"ticks\":\"\"},\"colorscale\":[[0.0,\"#0d0887\"],[0.1111111111111111,\"#46039f\"],[0.2222222222222222,\"#7201a8\"],[0.3333333333333333,\"#9c179e\"],[0.4444444444444444,\"#bd3786\"],[0.5555555555555556,\"#d8576b\"],[0.6666666666666666,\"#ed7953\"],[0.7777777777777778,\"#fb9f3a\"],[0.8888888888888888,\"#fdca26\"],[1.0,\"#f0f921\"]],\"type\":\"heatmapgl\"}],\"histogram\":[{\"marker\":{\"pattern\":{\"fillmode\":\"overlay\",\"size\":10,\"solidity\":0.2}},\"type\":\"histogram\"}],\"histogram2d\":[{\"colorbar\":{\"outlinewidth\":0,\"ticks\":\"\"},\"colorscale\":[[0.0,\"#0d0887\"],[0.1111111111111111,\"#46039f\"],[0.2222222222222222,\"#7201a8\"],[0.3333333333333333,\"#9c179e\"],[0.4444444444444444,\"#bd3786\"],[0.5555555555555556,\"#d8576b\"],[0.6666666666666666,\"#ed7953\"],[0.7777777777777778,\"#fb9f3a\"],[0.8888888888888888,\"#fdca26\"],[1.0,\"#f0f921\"]],\"type\":\"histogram2d\"}],\"histogram2dcontour\":[{\"colorbar\":{\"outlinewidth\":0,\"ticks\":\"\"},\"colorscale\":[[0.0,\"#0d0887\"],[0.1111111111111111,\"#46039f\"],[0.2222222222222222,\"#7201a8\"],[0.3333333333333333,\"#9c179e\"],[0.4444444444444444,\"#bd3786\"],[0.5555555555555556,\"#d8576b\"],[0.6666666666666666,\"#ed7953\"],[0.7777777777777778,\"#fb9f3a\"],[0.8888888888888888,\"#fdca26\"],[1.0,\"#f0f921\"]],\"type\":\"histogram2dcontour\"}],\"mesh3d\":[{\"colorbar\":{\"outlinewidth\":0,\"ticks\":\"\"},\"type\":\"mesh3d\"}],\"parcoords\":[{\"line\":{\"colorbar\":{\"outlinewidth\":0,\"ticks\":\"\"}},\"type\":\"parcoords\"}],\"pie\":[{\"automargin\":true,\"type\":\"pie\"}],\"scatter\":[{\"marker\":{\"colorbar\":{\"outlinewidth\":0,\"ticks\":\"\"}},\"type\":\"scatter\"}],\"scatter3d\":[{\"line\":{\"colorbar\":{\"outlinewidth\":0,\"ticks\":\"\"}},\"marker\":{\"colorbar\":{\"outlinewidth\":0,\"ticks\":\"\"}},\"type\":\"scatter3d\"}],\"scattercarpet\":[{\"marker\":{\"colorbar\":{\"outlinewidth\":0,\"ticks\":\"\"}},\"type\":\"scattercarpet\"}],\"scattergeo\":[{\"marker\":{\"colorbar\":{\"outlinewidth\":0,\"ticks\":\"\"}},\"type\":\"scattergeo\"}],\"scattergl\":[{\"marker\":{\"colorbar\":{\"outlinewidth\":0,\"ticks\":\"\"}},\"type\":\"scattergl\"}],\"scattermapbox\":[{\"marker\":{\"colorbar\":{\"outlinewidth\":0,\"ticks\":\"\"}},\"type\":\"scattermapbox\"}],\"scatterpolar\":[{\"marker\":{\"colorbar\":{\"outlinewidth\":0,\"ticks\":\"\"}},\"type\":\"scatterpolar\"}],\"scatterpolargl\":[{\"marker\":{\"colorbar\":{\"outlinewidth\":0,\"ticks\":\"\"}},\"type\":\"scatterpolargl\"}],\"scatterternary\":[{\"marker\":{\"colorbar\":{\"outlinewidth\":0,\"ticks\":\"\"}},\"type\":\"scatterternary\"}],\"surface\":[{\"colorbar\":{\"outlinewidth\":0,\"ticks\":\"\"},\"colorscale\":[[0.0,\"#0d0887\"],[0.1111111111111111,\"#46039f\"],[0.2222222222222222,\"#7201a8\"],[0.3333333333333333,\"#9c179e\"],[0.4444444444444444,\"#bd3786\"],[0.5555555555555556,\"#d8576b\"],[0.6666666666666666,\"#ed7953\"],[0.7777777777777778,\"#fb9f3a\"],[0.8888888888888888,\"#fdca26\"],[1.0,\"#f0f921\"]],\"type\":\"surface\"}],\"table\":[{\"cells\":{\"fill\":{\"color\":\"#EBF0F8\"},\"line\":{\"color\":\"white\"}},\"header\":{\"fill\":{\"color\":\"#C8D4E3\"},\"line\":{\"color\":\"white\"}},\"type\":\"table\"}]},\"layout\":{\"annotationdefaults\":{\"arrowcolor\":\"#2a3f5f\",\"arrowhead\":0,\"arrowwidth\":1},\"autotypenumbers\":\"strict\",\"coloraxis\":{\"colorbar\":{\"outlinewidth\":0,\"ticks\":\"\"}},\"colorscale\":{\"diverging\":[[0,\"#8e0152\"],[0.1,\"#c51b7d\"],[0.2,\"#de77ae\"],[0.3,\"#f1b6da\"],[0.4,\"#fde0ef\"],[0.5,\"#f7f7f7\"],[0.6,\"#e6f5d0\"],[0.7,\"#b8e186\"],[0.8,\"#7fbc41\"],[0.9,\"#4d9221\"],[1,\"#276419\"]],\"sequential\":[[0.0,\"#0d0887\"],[0.1111111111111111,\"#46039f\"],[0.2222222222222222,\"#7201a8\"],[0.3333333333333333,\"#9c179e\"],[0.4444444444444444,\"#bd3786\"],[0.5555555555555556,\"#d8576b\"],[0.6666666666666666,\"#ed7953\"],[0.7777777777777778,\"#fb9f3a\"],[0.8888888888888888,\"#fdca26\"],[1.0,\"#f0f921\"]],\"sequentialminus\":[[0.0,\"#0d0887\"],[0.1111111111111111,\"#46039f\"],[0.2222222222222222,\"#7201a8\"],[0.3333333333333333,\"#9c179e\"],[0.4444444444444444,\"#bd3786\"],[0.5555555555555556,\"#d8576b\"],[0.6666666666666666,\"#ed7953\"],[0.7777777777777778,\"#fb9f3a\"],[0.8888888888888888,\"#fdca26\"],[1.0,\"#f0f921\"]]},\"colorway\":[\"#636efa\",\"#EF553B\",\"#00cc96\",\"#ab63fa\",\"#FFA15A\",\"#19d3f3\",\"#FF6692\",\"#B6E880\",\"#FF97FF\",\"#FECB52\"],\"font\":{\"color\":\"#2a3f5f\"},\"geo\":{\"bgcolor\":\"white\",\"lakecolor\":\"white\",\"landcolor\":\"#E5ECF6\",\"showlakes\":true,\"showland\":true,\"subunitcolor\":\"white\"},\"hoverlabel\":{\"align\":\"left\"},\"hovermode\":\"closest\",\"mapbox\":{\"style\":\"light\"},\"paper_bgcolor\":\"white\",\"plot_bgcolor\":\"#E5ECF6\",\"polar\":{\"angularaxis\":{\"gridcolor\":\"white\",\"linecolor\":\"white\",\"ticks\":\"\"},\"bgcolor\":\"#E5ECF6\",\"radialaxis\":{\"gridcolor\":\"white\",\"linecolor\":\"white\",\"ticks\":\"\"}},\"scene\":{\"xaxis\":{\"backgroundcolor\":\"#E5ECF6\",\"gridcolor\":\"white\",\"gridwidth\":2,\"linecolor\":\"white\",\"showbackground\":true,\"ticks\":\"\",\"zerolinecolor\":\"white\"},\"yaxis\":{\"backgroundcolor\":\"#E5ECF6\",\"gridcolor\":\"white\",\"gridwidth\":2,\"linecolor\":\"white\",\"showbackground\":true,\"ticks\":\"\",\"zerolinecolor\":\"white\"},\"zaxis\":{\"backgroundcolor\":\"#E5ECF6\",\"gridcolor\":\"white\",\"gridwidth\":2,\"linecolor\":\"white\",\"showbackground\":true,\"ticks\":\"\",\"zerolinecolor\":\"white\"}},\"shapedefaults\":{\"line\":{\"color\":\"#2a3f5f\"}},\"ternary\":{\"aaxis\":{\"gridcolor\":\"white\",\"linecolor\":\"white\",\"ticks\":\"\"},\"baxis\":{\"gridcolor\":\"white\",\"linecolor\":\"white\",\"ticks\":\"\"},\"bgcolor\":\"#E5ECF6\",\"caxis\":{\"gridcolor\":\"white\",\"linecolor\":\"white\",\"ticks\":\"\"}},\"title\":{\"x\":0.05},\"xaxis\":{\"automargin\":true,\"gridcolor\":\"white\",\"linecolor\":\"white\",\"ticks\":\"\",\"title\":{\"standoff\":15},\"zerolinecolor\":\"white\",\"zerolinewidth\":2},\"yaxis\":{\"automargin\":true,\"gridcolor\":\"white\",\"linecolor\":\"white\",\"ticks\":\"\",\"title\":{\"standoff\":15},\"zerolinecolor\":\"white\",\"zerolinewidth\":2}}},\"title\":{\"text\":\"ENN\"}},                        {\"responsive\": true}                    ).then(function(){\n",
       "                            \n",
       "var gd = document.getElementById('b121fb62-a63f-46b0-ae21-49dadd7174a2');\n",
       "var x = new MutationObserver(function (mutations, observer) {{\n",
       "        var display = window.getComputedStyle(gd).display;\n",
       "        if (!display || display === 'none') {{\n",
       "            console.log([gd, 'removed!']);\n",
       "            Plotly.purge(gd);\n",
       "            observer.disconnect();\n",
       "        }}\n",
       "}});\n",
       "\n",
       "// Listen for the removal of the full notebook cells\n",
       "var notebookContainer = gd.closest('#notebook-container');\n",
       "if (notebookContainer) {{\n",
       "    x.observe(notebookContainer, {childList: true});\n",
       "}}\n",
       "\n",
       "// Listen for the clearing of the current output cell\n",
       "var outputEl = gd.closest('.output');\n",
       "if (outputEl) {{\n",
       "    x.observe(outputEl, {childList: true});\n",
       "}}\n",
       "\n",
       "                        })                };                });            </script>        </div>"
      ]
     },
     "metadata": {},
     "output_type": "display_data"
    }
   ],
   "source": [
    "COLOURS = ['#930001','#009392']\n",
    "for sample, df in rank_dfs:\n",
    "\n",
    "    categories = ['contigs','filtered_contigs','basepairs','filtered_basepairs', 'max_contig', 'n50','filtered_n50', 'mapped_reads','filtered_mapped_reads', 'Ns','filtered_Ns','misassembled contigs', 'misassembly events']\n",
    "    categories_original =  ['contigs','basepairs', 'max_contig', 'n50', 'mapped_reads', 'Ns'] \n",
    "    categories_original_renamed =  ['Contigs','Basepairs', 'Largest contig', 'N50', '% Mapped reads', 'Uncalled bases'] \n",
    "    categories_filtered = ['filtered_contigs', 'filtered_basepairs', 'filtered_n50', 'filtered_mapped_reads','filtered_Ns', 'misassembled contigs', 'misassembly events']\n",
    "    categories_filtered_renamed = ['Contigs', 'Basepairs', 'N50', '% Mapped reads','Uncalled bases', 'Misassembled contigs', 'Misassembly events']\n",
    "\n",
    "    fig = make_subplots(rows=1, cols=2, specs=[[{'type': 'polar'}, {'type': 'polar'}]], subplot_titles=('Original', 'Filtered'))\n",
    "    \n",
    "    i= 0\n",
    "    \n",
    "    for assembler, row in df.iterrows():\n",
    "        \n",
    "        row_filtered = []\n",
    "        row_original = []\n",
    "        \n",
    "        for col in categories_original:\n",
    "            row_original.append(row.loc[:].at[col])\n",
    "            \n",
    "        for col in categories_filtered:\n",
    "            row_filtered.append(row.loc[:].at[col])\n",
    "\n",
    "        fig.add_trace(go.Scatterpolar(r=row_original,\n",
    "                                      theta=categories_original_renamed, mode='lines+markers',fill='toself',\n",
    "                                      marker=dict(color=COLOURS[i], size=12), \n",
    "                                      marker_line_color=\"black\", \n",
    "                                      marker_line_width=2,\n",
    "                                      opacity=0.6,\n",
    "                                      name=assembler, line=dict(color=COLOURS[i]), showlegend=True), col=1, row=1)\n",
    "        \n",
    "        fig.add_trace(go.Scatterpolar(r=row_filtered,\n",
    "                                      theta=categories_filtered_renamed, mode='lines+markers',fill='toself',\n",
    "                                      marker=dict(color=COLOURS[i], size=12), \n",
    "                                      marker_line_color=\"black\", \n",
    "                                      marker_line_width=2,\n",
    "                                      opacity=0.6,\n",
    "                                      name=assembler, line=dict(color=COLOURS[i]), showlegend=False), col=2, row=1)\n",
    "        i+=1\n",
    "            \n",
    "    fig.update_layout(polar=dict(radialaxis=dict(visible=True,\n",
    "                                                 range=[0,1],\n",
    "                                                 linewidth = 2,\n",
    "                                                 linecolor=\"black\",\n",
    "                                                 gridcolor = \"#DCDCDC\"), \n",
    "                                 hole=1/12, bgcolor='rgb(255,255,255)',\n",
    "                                angularaxis=dict(linecolor=\"black\"),\n",
    "                                angularaxis_categoryarray = categories_original_renamed,\n",
    "                                radialaxis_angle = -22.5),\n",
    "                     polar2=dict(radialaxis=dict(visible=True,\n",
    "                                                 range=[0,1],\n",
    "                                                 linewidth = 2,\n",
    "                                                 linecolor=\"black\",\n",
    "                                                 gridcolor = \"#DCDCDC\"), \n",
    "                                 hole=1/12, bgcolor='rgb(255,255,255)',\n",
    "                                angularaxis=dict(linecolor=\"black\"),\n",
    "                                angularaxis_categoryarray = categories_filtered_renamed,\n",
    "                                radialaxis_angle = -22.5))\n",
    "    fig.update_layout(title=sample)\n",
    "    fig.update_layout(legend=dict(\n",
    "        orientation=\"h\",\n",
    "        yanchor=\"bottom\",\n",
    "        y=-0.5,\n",
    "        xanchor=\"left\",\n",
    "        x=0\n",
    "    ))\n",
    "\n",
    "    fig.show()\n",
    "    plot(fig, filename='Plots/Global Metrics/Assembly Type - {}.html'.format(sample), auto_open=False)\n",
    "\n"
   ]
  },
  {
   "cell_type": "code",
   "execution_count": null,
   "id": "52eb365d",
   "metadata": {},
   "outputs": [],
   "source": []
  }
 ],
 "metadata": {
  "kernelspec": {
   "display_name": "Python 3 (ipykernel)",
   "language": "python",
   "name": "python3"
  },
  "language_info": {
   "codemirror_mode": {
    "name": "ipython",
    "version": 3
   },
   "file_extension": ".py",
   "mimetype": "text/x-python",
   "name": "python",
   "nbconvert_exporter": "python",
   "pygments_lexer": "ipython3",
   "version": "3.8.12"
  }
 },
 "nbformat": 4,
 "nbformat_minor": 5
}
