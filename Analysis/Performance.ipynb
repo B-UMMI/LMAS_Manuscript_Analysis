{
 "cells": [
  {
   "cell_type": "markdown",
   "metadata": {},
   "source": [
    "# LMAS Assembler Computational Performance Metrics Analysis"
   ]
  },
  {
   "cell_type": "markdown",
   "metadata": {},
   "source": [
    "Different software, implementing distinct *de novo* assembly algorithms, have distinct computational requirements. As such, computational statistics were registered for each assembler.\n",
    "\n",
    "The following metrics are analysed for all samples for each assembler:\n",
    "- **Avg Time:** Average run-time formatted as “hour:minute:second”\n",
    "- **CPU/Hour:** Average amount of time, in hours, of CPU usage by an assembler. Obtained CPU load from the number of CPUs and their usage percentage. \n",
    "- **Max Memory (GB):** Maximum peak memory usage by the assembler.\n",
    "- **Average Read (GB):** Average data size read from disk by the assembler.\n",
    "- **Average Write (GB):** Average data size written to disk by the assembler.\n"
   ]
  },
  {
   "cell_type": "markdown",
   "metadata": {},
   "source": [
    "## Imports"
   ]
  },
  {
   "cell_type": "code",
   "execution_count": 1,
   "metadata": {},
   "outputs": [],
   "source": [
    "import sys\n",
    "from plotly.offline import plot\n",
    "import glob\n",
    "import fnmatch\n",
    "import plotly.graph_objects as go\n",
    "from plotly.subplots import make_subplots\n",
    "from plotly.offline import plot\n",
    "import json\n",
    "import pandas as pd\n",
    "from itertools import groupby\n",
    "import csv\n",
    "import numpy as np\n",
    "import re"
   ]
  },
  {
   "cell_type": "markdown",
   "metadata": {},
   "source": [
    "## Global variables"
   ]
  },
  {
   "cell_type": "code",
   "execution_count": 8,
   "metadata": {},
   "outputs": [],
   "source": [
    "METRICS_COLUMNS_GLOBAL = ['run','assembler', 'avgTime', 'cpus', 'max_rss', 'avgRead', 'avgWrite']\n",
    "METRICS_COLUMNS_PER_SAMPLE = ['sample', 'assembler', 'run', 'cpus', 'realtime', 'rss', 'rchar', 'wchar']\n",
    "ASSEMBLER_PROCESS_LIST = [\"ABYSS\", \"BCALM2\", \"GATBMINIAPIPELINE\", \"METAHIPMER2\", \"MINIA\", \"MEGAHIT\", \"METASPADES\", \"UNICYCLER\", \"SPADES\",\n",
    "                          \"SKESA\", \"VELVETOPTIMISER\", \"IDBA\"]\n",
    "PROCESS_TO_NAME = {\"ABYSS\": \"AbYSS\",\n",
    "                   \"BCALM2\": \"BCALM2\", \n",
    "                   \"GATBMINIAPIPELINE\": \"GATBMiniaPipeline\",\n",
    "                   \"MINIA\": \"MINIA\",\n",
    "                   \"MEGAHIT\": \"MEGAHIT\",\n",
    "                   \"METAHIPMER2\": \"MetaHipMer2\",\n",
    "                   \"METASPADES\": \"metaSPAdes\", \n",
    "                   \"UNICYCLER\": \"Unicycler\", \n",
    "                   \"SPADES\": \"SPAdes\",\n",
    "                    \"SKESA\": \"SKESA\",\n",
    "                   \"VELVETOPTIMISER\": \"VelvetOptimiser\",\n",
    "                   \"IDBA\": \"IDBA-UD\"}\n",
    "COLOURS = ['#004B93', \"#009392\", \"#39B185\", \"#9CCB86\", \"#E9E29C\", \"#EEB479\", \"#E88471\",\"#CF597E\", 'darkgray']"
   ]
  },
  {
   "cell_type": "markdown",
   "metadata": {},
   "source": [
    "## Util functions"
   ]
  },
  {
   "cell_type": "code",
   "execution_count": 5,
   "metadata": {},
   "outputs": [],
   "source": [
    "def convert_resource_to_gb(value):\n",
    "    if 'GB' in value:\n",
    "        return float(value.replace('GB',''))\n",
    "    elif 'MB' in value:\n",
    "        return float(value.replace('MB', ''))/1000\n",
    "    \n",
    "def _cpu_load_parser(cpus, cpu_per, t):\n",
    "    \"\"\"Parses the cpu load from the number of cpus and its usage\n",
    "    percentage and returns the cpu/hour measure\n",
    "    Parameters\n",
    "    ----------\n",
    "    cpus : str\n",
    "        Number of cpus allocated.\n",
    "    cpu_per : str\n",
    "        Percentage of cpu load measured (e.g.: 200,5%).\n",
    "    t : str\n",
    "        The time string can be something like '20s', '1m30s' or '300ms'.\n",
    "    \"\"\"\n",
    "    try:\n",
    "        _cpus = float(cpus)\n",
    "        _cpu_per = float(cpu_per.replace(\",\", \".\").replace(\"%\", \"\"))\n",
    "        hours = _hms(t) / 60 / 24\n",
    "\n",
    "        return ((_cpu_per / (100 * _cpus)) * _cpus) * hours\n",
    "\n",
    "    except ValueError as e:\n",
    "        return 0\n",
    "\n",
    "def _hms(s):\n",
    "    \"\"\"Converts a hms string into seconds.\n",
    "    Parameters\n",
    "    ----------\n",
    "    s : str\n",
    "        The hms string can be something like '20s', '1m30s' or '300ms'.\n",
    "    Returns\n",
    "    -------\n",
    "    float\n",
    "        Time in seconds.\n",
    "    \"\"\"\n",
    "\n",
    "    if s == \"-\":\n",
    "        return 0\n",
    "\n",
    "    if s.endswith(\"ms\"):\n",
    "        return float(s.rstrip(\"ms\")) / 1000\n",
    "\n",
    "    fields = list(map(float, re.split(\"[dhms]\", s)[:-1]))\n",
    "    if len(fields) == 4:\n",
    "        return fields[0] * 24 * 3600 + fields[1] * 3600 + fields[2] * 60 + \\\n",
    "            fields[3]\n",
    "    if len(fields) == 3:\n",
    "        return fields[0] * 3600 + fields[1] * 60 + fields[2]\n",
    "    elif len(fields) == 2:\n",
    "        return fields[0] * 60 + fields[1]\n",
    "    else:\n",
    "        return fields[0]\n",
    "\n",
    "def _size_coverter(s):\n",
    "    \"\"\"Converts size string into megabytes\n",
    "    Parameters\n",
    "    ----------\n",
    "    s : str\n",
    "        The size string can be '30KB', '20MB' or '1GB'\n",
    "    Returns\n",
    "    -------\n",
    "    float\n",
    "        With the size in bytes\n",
    "    \"\"\"\n",
    "\n",
    "    if s.upper().endswith(\"KB\"):\n",
    "        return float(s.rstrip(\"KB\")) / 1024\n",
    "\n",
    "    elif s.upper().endswith(\" B\"):\n",
    "        return float(s.rstrip(\"B\")) / 1024 / 1024\n",
    "\n",
    "    elif s.upper().endswith(\"MB\"):\n",
    "        return float(s.rstrip(\"MB\"))\n",
    "\n",
    "    elif s.upper().endswith(\"GB\"):\n",
    "        return float(s.rstrip(\"GB\")) * 1024\n",
    "\n",
    "    elif s.upper().endswith(\"TB\"):\n",
    "        return float(s.rstrip(\"TB\")) * 1024 * 1024\n",
    "\n",
    "    else:\n",
    "        return float(0)\n",
    "\n",
    "def _size_compress(s):\n",
    "    \"\"\"Shortens a megabytes string.\n",
    "    \"\"\"\n",
    "\n",
    "    if s / 1024 > 1:\n",
    "        return \"{}GB\".format(round(s / 1024, 1))\n",
    "    else:\n",
    "        return \"{}MB\".format(s)"
   ]
  },
  {
   "cell_type": "markdown",
   "metadata": {},
   "source": [
    "## Average pipeline performance statistics"
   ]
  },
  {
   "cell_type": "markdown",
   "metadata": {},
   "source": [
    "### Load Data"
   ]
  },
  {
   "cell_type": "code",
   "execution_count": 9,
   "metadata": {},
   "outputs": [
    {
     "name": "stdout",
     "output_type": "stream",
     "text": [
      "Processing performance_metadata.json data from run1...\n",
      "Processing performance_metadata.json data from run2...\n",
      "Processing performance_metadata.json data from run3...\n"
     ]
    }
   ],
   "source": [
    "report_glob = glob.glob('../Results/*/*/report/performance_metadata.json')\n",
    "global_pipeline_stats_df = pd.DataFrame(columns=METRICS_COLUMNS_GLOBAL)\n",
    "\n",
    "for pipeline_report_file in report_glob:\n",
    "    report_file_name = pipeline_report_file.split('/')[-1]\n",
    "    stats_run = pipeline_report_file.split('/')[-3]\n",
    "    print('Processing {0} data from {1}...'.format(report_file_name, stats_run))\n",
    "    \n",
    "    with open(pipeline_report_file) as _fh:\n",
    "            _json = json.load(_fh)\n",
    "            for _stats in _json:\n",
    "                global_pipeline_stats_df = global_pipeline_stats_df.append({'run': stats_run,\n",
    "                                                                           'assembler': PROCESS_TO_NAME[_stats['assembler']],\n",
    "                                                                           'avgTime': _stats['avgTime'],\n",
    "                                                                           'cpus': _stats['cpus'],\n",
    "                                                                           'max_rss': convert_resource_to_gb(_stats['max_rss']),\n",
    "                                                                           'avgRead': convert_resource_to_gb(_stats['avgRead']),\n",
    "                                                                           'avgWrite': convert_resource_to_gb(_stats['avgWrite'])}, \n",
    "                                                                           ignore_index=True)"
   ]
  },
  {
   "cell_type": "markdown",
   "metadata": {},
   "source": [
    "###  Plot Data"
   ]
  },
  {
   "cell_type": "code",
   "execution_count": 12,
   "metadata": {},
   "outputs": [
    {
     "name": "stdout",
     "output_type": "stream",
     "text": [
      "run1\n",
      "run2\n",
      "run3\n"
     ]
    },
    {
     "name": "stderr",
     "output_type": "stream",
     "text": [
      "/tmp/ipykernel_196911/3285698092.py:21: DeprecationWarning:\n",
      "\n",
      "The default dtype for empty Series will be 'object' instead of 'float64' in a future version. Specify a dtype explicitly to silence this warning.\n",
      "\n"
     ]
    },
    {
     "data": {
      "application/vnd.plotly.v1+json": {
       "config": {
        "plotlyServerURL": "https://plot.ly"
       },
       "data": [
        {
         "box": {
          "visible": true
         },
         "fillcolor": "lightseagreen",
         "line": {
          "color": "black"
         },
         "meanline": {
          "visible": true
         },
         "opacity": 0.6,
         "type": "violin",
         "x": [
          "BCALM2",
          "MINIA",
          "MetaHipMer2",
          "SKESA",
          "MEGAHIT",
          "SPAdes",
          "metaSPAdes",
          "IDBA-UD",
          "AbYSS",
          "GATBMiniaPipeline",
          "VelvetOptimiser",
          "Unicycler",
          "BCALM2",
          "MINIA",
          "MetaHipMer2",
          "SKESA",
          "MEGAHIT",
          "SPAdes",
          "metaSPAdes",
          "IDBA-UD",
          "GATBMiniaPipeline",
          "AbYSS",
          "VelvetOptimiser",
          "Unicycler",
          "BCALM2",
          "MINIA",
          "MEGAHIT",
          "SKESA",
          "metaSPAdes",
          "SPAdes",
          "MetaHipMer2",
          "GATBMiniaPipeline",
          "AbYSS",
          "IDBA-UD",
          "VelvetOptimiser",
          "Unicycler"
         ],
         "xaxis": "x",
         "y": [
          2.31,
          3.01,
          43.77,
          8.35,
          13.46,
          28.85,
          27.62,
          25.32,
          264.07,
          73.21,
          49.08,
          113.16,
          1.58,
          2.76,
          31.13,
          8.01,
          14.42,
          28.31,
          29.31,
          24.78,
          71.85,
          188.61,
          30.88,
          109.05,
          2.29,
          2.96,
          14.74,
          4.56,
          28.62,
          28.46,
          30.5,
          71.44,
          152.88,
          23.54,
          49.24,
          110.83
         ],
         "yaxis": "y"
        },
        {
         "line": {
          "color": "crimson"
         },
         "mode": "lines",
         "opacity": 0.6,
         "type": "scatter",
         "x": [
          "BCALM2",
          "MINIA",
          "MetaHipMer2",
          "SKESA",
          "MEGAHIT",
          "SPAdes",
          "metaSPAdes",
          "IDBA-UD",
          "AbYSS",
          "GATBMiniaPipeline",
          "VelvetOptimiser",
          "Unicycler",
          "BCALM2",
          "MINIA",
          "MetaHipMer2",
          "SKESA",
          "MEGAHIT",
          "SPAdes",
          "metaSPAdes",
          "IDBA-UD",
          "GATBMiniaPipeline",
          "AbYSS",
          "VelvetOptimiser",
          "Unicycler",
          "BCALM2",
          "MINIA",
          "MEGAHIT",
          "SKESA",
          "metaSPAdes",
          "SPAdes",
          "MetaHipMer2",
          "GATBMiniaPipeline",
          "AbYSS",
          "IDBA-UD",
          "VelvetOptimiser",
          "Unicycler"
         ],
         "xaxis": "x",
         "y": [
          47.58222222222223,
          47.58222222222223,
          47.58222222222223,
          47.58222222222223,
          47.58222222222223,
          47.58222222222223,
          47.58222222222223,
          47.58222222222223,
          47.58222222222223,
          47.58222222222223,
          47.58222222222223,
          47.58222222222223,
          47.58222222222223,
          47.58222222222223,
          47.58222222222223,
          47.58222222222223,
          47.58222222222223,
          47.58222222222223,
          47.58222222222223,
          47.58222222222223,
          47.58222222222223,
          47.58222222222223,
          47.58222222222223,
          47.58222222222223,
          47.58222222222223,
          47.58222222222223,
          47.58222222222223,
          47.58222222222223,
          47.58222222222223,
          47.58222222222223,
          47.58222222222223,
          47.58222222222223,
          47.58222222222223,
          47.58222222222223,
          47.58222222222223,
          47.58222222222223
         ],
         "yaxis": "y"
        },
        {
         "box": {
          "visible": true
         },
         "fillcolor": "lightseagreen",
         "line": {
          "color": "black"
         },
         "meanline": {
          "visible": true
         },
         "opacity": 0.6,
         "type": "violin",
         "x": [
          "BCALM2",
          "MINIA",
          "MetaHipMer2",
          "SKESA",
          "MEGAHIT",
          "SPAdes",
          "metaSPAdes",
          "IDBA-UD",
          "AbYSS",
          "GATBMiniaPipeline",
          "VelvetOptimiser",
          "Unicycler",
          "BCALM2",
          "MINIA",
          "MetaHipMer2",
          "SKESA",
          "MEGAHIT",
          "SPAdes",
          "metaSPAdes",
          "IDBA-UD",
          "GATBMiniaPipeline",
          "AbYSS",
          "VelvetOptimiser",
          "Unicycler",
          "BCALM2",
          "MINIA",
          "MEGAHIT",
          "SKESA",
          "metaSPAdes",
          "SPAdes",
          "MetaHipMer2",
          "GATBMiniaPipeline",
          "AbYSS",
          "IDBA-UD",
          "VelvetOptimiser",
          "Unicycler"
         ],
         "xaxis": "x2",
         "y": [
          6.7,
          6.6,
          60.4,
          17.8,
          2.1,
          6.5,
          6.2,
          10.4,
          3.6,
          6.8,
          31.9,
          13.8,
          6.7,
          6.6,
          60.1,
          17.8,
          2.1,
          6.8,
          6.9,
          10.4,
          6.9,
          3.2,
          31.9,
          13.9,
          6.6,
          6.6,
          2.1,
          17.8,
          6.5,
          5.7,
          60.4,
          6.8,
          3.2,
          10.4,
          31.9,
          14.1
         ],
         "yaxis": "y2"
        },
        {
         "line": {
          "color": "crimson"
         },
         "mode": "lines",
         "opacity": 0.6,
         "type": "scatter",
         "x": [
          "BCALM2",
          "MINIA",
          "MetaHipMer2",
          "SKESA",
          "MEGAHIT",
          "SPAdes",
          "metaSPAdes",
          "IDBA-UD",
          "AbYSS",
          "GATBMiniaPipeline",
          "VelvetOptimiser",
          "Unicycler",
          "BCALM2",
          "MINIA",
          "MetaHipMer2",
          "SKESA",
          "MEGAHIT",
          "SPAdes",
          "metaSPAdes",
          "IDBA-UD",
          "GATBMiniaPipeline",
          "AbYSS",
          "VelvetOptimiser",
          "Unicycler",
          "BCALM2",
          "MINIA",
          "MEGAHIT",
          "SKESA",
          "metaSPAdes",
          "SPAdes",
          "MetaHipMer2",
          "GATBMiniaPipeline",
          "AbYSS",
          "IDBA-UD",
          "VelvetOptimiser",
          "Unicycler"
         ],
         "xaxis": "x2",
         "y": [
          14.394444444444442,
          14.394444444444442,
          14.394444444444442,
          14.394444444444442,
          14.394444444444442,
          14.394444444444442,
          14.394444444444442,
          14.394444444444442,
          14.394444444444442,
          14.394444444444442,
          14.394444444444442,
          14.394444444444442,
          14.394444444444442,
          14.394444444444442,
          14.394444444444442,
          14.394444444444442,
          14.394444444444442,
          14.394444444444442,
          14.394444444444442,
          14.394444444444442,
          14.394444444444442,
          14.394444444444442,
          14.394444444444442,
          14.394444444444442,
          14.394444444444442,
          14.394444444444442,
          14.394444444444442,
          14.394444444444442,
          14.394444444444442,
          14.394444444444442,
          14.394444444444442,
          14.394444444444442,
          14.394444444444442,
          14.394444444444442,
          14.394444444444442,
          14.394444444444442
         ],
         "yaxis": "y2"
        },
        {
         "box": {
          "visible": true
         },
         "fillcolor": "lightseagreen",
         "line": {
          "color": "black"
         },
         "meanline": {
          "visible": true
         },
         "opacity": 0.6,
         "type": "violin",
         "x": [
          "BCALM2",
          "MINIA",
          "MetaHipMer2",
          "SKESA",
          "MEGAHIT",
          "SPAdes",
          "metaSPAdes",
          "IDBA-UD",
          "AbYSS",
          "GATBMiniaPipeline",
          "VelvetOptimiser",
          "Unicycler",
          "BCALM2",
          "MINIA",
          "MetaHipMer2",
          "SKESA",
          "MEGAHIT",
          "SPAdes",
          "metaSPAdes",
          "IDBA-UD",
          "GATBMiniaPipeline",
          "AbYSS",
          "VelvetOptimiser",
          "Unicycler",
          "BCALM2",
          "MINIA",
          "MEGAHIT",
          "SKESA",
          "metaSPAdes",
          "SPAdes",
          "MetaHipMer2",
          "GATBMiniaPipeline",
          "AbYSS",
          "IDBA-UD",
          "VelvetOptimiser",
          "Unicycler"
         ],
         "xaxis": "x3",
         "y": [
          10.2,
          11,
          5.7,
          0.722,
          19.8,
          13.7,
          14.9,
          6.6,
          19,
          63.9,
          246.2,
          43.7,
          10.2,
          11,
          5.7,
          0.722,
          19.8,
          13.7,
          14.9,
          6.6,
          69.4,
          11.7,
          245.6,
          43.7,
          10.2,
          11,
          19.8,
          0.722,
          14.9,
          13.7,
          5.7,
          61.9,
          11.7,
          6.6,
          247.3,
          43.7
         ],
         "yaxis": "y3"
        },
        {
         "line": {
          "color": "crimson"
         },
         "mode": "lines",
         "opacity": 0.6,
         "type": "scatter",
         "x": [
          "BCALM2",
          "MINIA",
          "MetaHipMer2",
          "SKESA",
          "MEGAHIT",
          "SPAdes",
          "metaSPAdes",
          "IDBA-UD",
          "AbYSS",
          "GATBMiniaPipeline",
          "VelvetOptimiser",
          "Unicycler",
          "BCALM2",
          "MINIA",
          "MetaHipMer2",
          "SKESA",
          "MEGAHIT",
          "SPAdes",
          "metaSPAdes",
          "IDBA-UD",
          "GATBMiniaPipeline",
          "AbYSS",
          "VelvetOptimiser",
          "Unicycler",
          "BCALM2",
          "MINIA",
          "MEGAHIT",
          "SKESA",
          "metaSPAdes",
          "SPAdes",
          "MetaHipMer2",
          "GATBMiniaPipeline",
          "AbYSS",
          "IDBA-UD",
          "VelvetOptimiser",
          "Unicycler"
         ],
         "xaxis": "x3",
         "y": [
          37.65738888888889,
          37.65738888888889,
          37.65738888888889,
          37.65738888888889,
          37.65738888888889,
          37.65738888888889,
          37.65738888888889,
          37.65738888888889,
          37.65738888888889,
          37.65738888888889,
          37.65738888888889,
          37.65738888888889,
          37.65738888888889,
          37.65738888888889,
          37.65738888888889,
          37.65738888888889,
          37.65738888888889,
          37.65738888888889,
          37.65738888888889,
          37.65738888888889,
          37.65738888888889,
          37.65738888888889,
          37.65738888888889,
          37.65738888888889,
          37.65738888888889,
          37.65738888888889,
          37.65738888888889,
          37.65738888888889,
          37.65738888888889,
          37.65738888888889,
          37.65738888888889,
          37.65738888888889,
          37.65738888888889,
          37.65738888888889,
          37.65738888888889,
          37.65738888888889
         ],
         "yaxis": "y3"
        },
        {
         "box": {
          "visible": true
         },
         "fillcolor": "lightseagreen",
         "line": {
          "color": "black"
         },
         "meanline": {
          "visible": true
         },
         "opacity": 0.6,
         "type": "violin",
         "x": [
          "BCALM2",
          "MINIA",
          "MetaHipMer2",
          "SKESA",
          "MEGAHIT",
          "SPAdes",
          "metaSPAdes",
          "IDBA-UD",
          "AbYSS",
          "GATBMiniaPipeline",
          "VelvetOptimiser",
          "Unicycler",
          "BCALM2",
          "MINIA",
          "MetaHipMer2",
          "SKESA",
          "MEGAHIT",
          "SPAdes",
          "metaSPAdes",
          "IDBA-UD",
          "GATBMiniaPipeline",
          "AbYSS",
          "VelvetOptimiser",
          "Unicycler",
          "BCALM2",
          "MINIA",
          "MEGAHIT",
          "SKESA",
          "metaSPAdes",
          "SPAdes",
          "MetaHipMer2",
          "GATBMiniaPipeline",
          "AbYSS",
          "IDBA-UD",
          "VelvetOptimiser",
          "Unicycler"
         ],
         "xaxis": "x4",
         "y": [
          4.8,
          4.9,
          5,
          0.029,
          8.1,
          53.6,
          33.6,
          3.4,
          15.1,
          21.2,
          36.1,
          310.4,
          4.8,
          4.9,
          5,
          0.029,
          8.1,
          53.6,
          33.6,
          3.4,
          21.3,
          9.5,
          35.8,
          310.4,
          4.8,
          4.9,
          8.1,
          0.029,
          33.6,
          53.6,
          5,
          21.2,
          9.5,
          3.4,
          36.7,
          310.4
         ],
         "yaxis": "y4"
        },
        {
         "line": {
          "color": "crimson"
         },
         "mode": "lines",
         "opacity": 0.6,
         "type": "scatter",
         "x": [
          "BCALM2",
          "MINIA",
          "MetaHipMer2",
          "SKESA",
          "MEGAHIT",
          "SPAdes",
          "metaSPAdes",
          "IDBA-UD",
          "AbYSS",
          "GATBMiniaPipeline",
          "VelvetOptimiser",
          "Unicycler",
          "BCALM2",
          "MINIA",
          "MetaHipMer2",
          "SKESA",
          "MEGAHIT",
          "SPAdes",
          "metaSPAdes",
          "IDBA-UD",
          "GATBMiniaPipeline",
          "AbYSS",
          "VelvetOptimiser",
          "Unicycler",
          "BCALM2",
          "MINIA",
          "MEGAHIT",
          "SKESA",
          "metaSPAdes",
          "SPAdes",
          "MetaHipMer2",
          "GATBMiniaPipeline",
          "AbYSS",
          "IDBA-UD",
          "VelvetOptimiser",
          "Unicycler"
         ],
         "xaxis": "x4",
         "y": [
          41.05241666666667,
          41.05241666666667,
          41.05241666666667,
          41.05241666666667,
          41.05241666666667,
          41.05241666666667,
          41.05241666666667,
          41.05241666666667,
          41.05241666666667,
          41.05241666666667,
          41.05241666666667,
          41.05241666666667,
          41.05241666666667,
          41.05241666666667,
          41.05241666666667,
          41.05241666666667,
          41.05241666666667,
          41.05241666666667,
          41.05241666666667,
          41.05241666666667,
          41.05241666666667,
          41.05241666666667,
          41.05241666666667,
          41.05241666666667,
          41.05241666666667,
          41.05241666666667,
          41.05241666666667,
          41.05241666666667,
          41.05241666666667,
          41.05241666666667,
          41.05241666666667,
          41.05241666666667,
          41.05241666666667,
          41.05241666666667,
          41.05241666666667,
          41.05241666666667
         ],
         "yaxis": "y4"
        },
        {
         "marker": {
          "color": "darkgray"
         },
         "name": "run1",
         "showlegend": false,
         "text": [
          0.06,
          0.07,
          0.22,
          0.22,
          0.3,
          0.95,
          0.78,
          0.53,
          8.19,
          1.06,
          2.03,
          11.45
         ],
         "textposition": "outside",
         "type": "bar",
         "x": [
          "BCALM2",
          "MINIA",
          "MetaHipMer2",
          "SKESA",
          "MEGAHIT",
          "SPAdes",
          "metaSPAdes",
          "IDBA-UD",
          "AbYSS",
          "GATBMiniaPipeline",
          "VelvetOptimiser",
          "Unicycler",
          "BCALM2",
          "MINIA",
          "MetaHipMer2",
          "SKESA",
          "MEGAHIT",
          "SPAdes",
          "metaSPAdes",
          "IDBA-UD",
          "GATBMiniaPipeline",
          "AbYSS",
          "VelvetOptimiser",
          "Unicycler",
          "BCALM2",
          "MINIA",
          "MEGAHIT",
          "SKESA",
          "metaSPAdes",
          "SPAdes",
          "MetaHipMer2",
          "GATBMiniaPipeline",
          "AbYSS",
          "IDBA-UD",
          "VelvetOptimiser",
          "Unicycler"
         ],
         "xaxis": "x5",
         "y": [
          0.06,
          0.07,
          0.22,
          0.22,
          0.3,
          0.95,
          0.78,
          0.53,
          8.19,
          1.06,
          2.03,
          11.45
         ],
         "yaxis": "y5"
        },
        {
         "marker": {
          "color": "darkgray"
         },
         "name": "run2",
         "showlegend": false,
         "text": [
          0.04,
          0.07,
          0.14,
          0.21,
          0.34,
          0.9,
          0.85,
          0.54,
          1.03,
          2.55,
          1.27,
          10.83
         ],
         "textposition": "outside",
         "type": "bar",
         "x": [
          "BCALM2",
          "MINIA",
          "MetaHipMer2",
          "SKESA",
          "MEGAHIT",
          "SPAdes",
          "metaSPAdes",
          "IDBA-UD",
          "AbYSS",
          "GATBMiniaPipeline",
          "VelvetOptimiser",
          "Unicycler",
          "BCALM2",
          "MINIA",
          "MetaHipMer2",
          "SKESA",
          "MEGAHIT",
          "SPAdes",
          "metaSPAdes",
          "IDBA-UD",
          "GATBMiniaPipeline",
          "AbYSS",
          "VelvetOptimiser",
          "Unicycler",
          "BCALM2",
          "MINIA",
          "MEGAHIT",
          "SKESA",
          "metaSPAdes",
          "SPAdes",
          "MetaHipMer2",
          "GATBMiniaPipeline",
          "AbYSS",
          "IDBA-UD",
          "VelvetOptimiser",
          "Unicycler"
         ],
         "xaxis": "x5",
         "y": [
          0.04,
          0.07,
          0.14,
          0.21,
          0.34,
          0.9,
          0.85,
          0.54,
          1.03,
          2.55,
          1.27,
          10.83
         ],
         "yaxis": "y5"
        },
        {
         "marker": {
          "color": "darkgray"
         },
         "name": "run3",
         "showlegend": false,
         "text": [
          0.06,
          0.07,
          0.3,
          0.12,
          0.83,
          0.91,
          0.14,
          0.92,
          2.2,
          0.48,
          2.2,
          11.06
         ],
         "textposition": "outside",
         "type": "bar",
         "x": [
          "BCALM2",
          "MINIA",
          "MetaHipMer2",
          "SKESA",
          "MEGAHIT",
          "SPAdes",
          "metaSPAdes",
          "IDBA-UD",
          "AbYSS",
          "GATBMiniaPipeline",
          "VelvetOptimiser",
          "Unicycler",
          "BCALM2",
          "MINIA",
          "MetaHipMer2",
          "SKESA",
          "MEGAHIT",
          "SPAdes",
          "metaSPAdes",
          "IDBA-UD",
          "GATBMiniaPipeline",
          "AbYSS",
          "VelvetOptimiser",
          "Unicycler",
          "BCALM2",
          "MINIA",
          "MEGAHIT",
          "SKESA",
          "metaSPAdes",
          "SPAdes",
          "MetaHipMer2",
          "GATBMiniaPipeline",
          "AbYSS",
          "IDBA-UD",
          "VelvetOptimiser",
          "Unicycler"
         ],
         "xaxis": "x5",
         "y": [
          0.06,
          0.07,
          0.3,
          0.12,
          0.83,
          0.91,
          0.14,
          0.92,
          2.2,
          0.48,
          2.2,
          11.06
         ],
         "yaxis": "y5"
        },
        {
         "line": {
          "color": "crimson"
         },
         "mode": "lines",
         "name": "Mean",
         "opacity": 0.6,
         "type": "scatter",
         "x": [
          "BCALM2",
          "MINIA",
          "MetaHipMer2",
          "SKESA",
          "MEGAHIT",
          "SPAdes",
          "metaSPAdes",
          "IDBA-UD",
          "AbYSS",
          "GATBMiniaPipeline",
          "VelvetOptimiser",
          "Unicycler",
          "BCALM2",
          "MINIA",
          "MetaHipMer2",
          "SKESA",
          "MEGAHIT",
          "SPAdes",
          "metaSPAdes",
          "IDBA-UD",
          "GATBMiniaPipeline",
          "AbYSS",
          "VelvetOptimiser",
          "Unicycler",
          "BCALM2",
          "MINIA",
          "MEGAHIT",
          "SKESA",
          "metaSPAdes",
          "SPAdes",
          "MetaHipMer2",
          "GATBMiniaPipeline",
          "AbYSS",
          "IDBA-UD",
          "VelvetOptimiser",
          "Unicycler"
         ],
         "xaxis": "x5",
         "y": [
          1.7755555555555558,
          1.7755555555555558,
          1.7755555555555558,
          1.7755555555555558,
          1.7755555555555558,
          1.7755555555555558,
          1.7755555555555558,
          1.7755555555555558,
          1.7755555555555558,
          1.7755555555555558,
          1.7755555555555558,
          1.7755555555555558,
          1.7755555555555558,
          1.7755555555555558,
          1.7755555555555558,
          1.7755555555555558,
          1.7755555555555558,
          1.7755555555555558,
          1.7755555555555558,
          1.7755555555555558,
          1.7755555555555558,
          1.7755555555555558,
          1.7755555555555558,
          1.7755555555555558,
          1.7755555555555558,
          1.7755555555555558,
          1.7755555555555558,
          1.7755555555555558,
          1.7755555555555558,
          1.7755555555555558,
          1.7755555555555558,
          1.7755555555555558,
          1.7755555555555558,
          1.7755555555555558,
          1.7755555555555558,
          1.7755555555555558
         ],
         "yaxis": "y5"
        }
       ],
       "layout": {
        "annotations": [
         {
          "font": {
           "size": 16
          },
          "showarrow": false,
          "text": "CPU Usage",
          "x": 0.225,
          "xanchor": "center",
          "xref": "paper",
          "y": 1,
          "yanchor": "bottom",
          "yref": "paper"
         },
         {
          "font": {
           "size": 16
          },
          "showarrow": false,
          "text": "Max Memory",
          "x": 0.775,
          "xanchor": "center",
          "xref": "paper",
          "y": 1,
          "yanchor": "bottom",
          "yref": "paper"
         },
         {
          "font": {
           "size": 16
          },
          "showarrow": false,
          "text": "Average Read",
          "x": 0.225,
          "xanchor": "center",
          "xref": "paper",
          "y": 0.6111111111111112,
          "yanchor": "bottom",
          "yref": "paper"
         },
         {
          "font": {
           "size": 16
          },
          "showarrow": false,
          "text": "Average Write",
          "x": 0.775,
          "xanchor": "center",
          "xref": "paper",
          "y": 0.6111111111111112,
          "yanchor": "bottom",
          "yref": "paper"
         },
         {
          "font": {
           "size": 16
          },
          "showarrow": false,
          "text": "Average Run Time",
          "x": 0.5,
          "xanchor": "center",
          "xref": "paper",
          "y": 0.22222222222222224,
          "yanchor": "bottom",
          "yref": "paper"
         },
         {
          "font": {
           "size": 16
          },
          "showarrow": false,
          "text": "Assembler",
          "x": 0.5,
          "xanchor": "center",
          "xref": "paper",
          "y": 0,
          "yanchor": "top",
          "yref": "paper",
          "yshift": -30
         }
        ],
        "barmode": "group",
        "plot_bgcolor": "rgb(255,255,255)",
        "showlegend": false,
        "template": {
         "data": {
          "bar": [
           {
            "error_x": {
             "color": "#2a3f5f"
            },
            "error_y": {
             "color": "#2a3f5f"
            },
            "marker": {
             "line": {
              "color": "#E5ECF6",
              "width": 0.5
             },
             "pattern": {
              "fillmode": "overlay",
              "size": 10,
              "solidity": 0.2
             }
            },
            "type": "bar"
           }
          ],
          "barpolar": [
           {
            "marker": {
             "line": {
              "color": "#E5ECF6",
              "width": 0.5
             },
             "pattern": {
              "fillmode": "overlay",
              "size": 10,
              "solidity": 0.2
             }
            },
            "type": "barpolar"
           }
          ],
          "carpet": [
           {
            "aaxis": {
             "endlinecolor": "#2a3f5f",
             "gridcolor": "white",
             "linecolor": "white",
             "minorgridcolor": "white",
             "startlinecolor": "#2a3f5f"
            },
            "baxis": {
             "endlinecolor": "#2a3f5f",
             "gridcolor": "white",
             "linecolor": "white",
             "minorgridcolor": "white",
             "startlinecolor": "#2a3f5f"
            },
            "type": "carpet"
           }
          ],
          "choropleth": [
           {
            "colorbar": {
             "outlinewidth": 0,
             "ticks": ""
            },
            "type": "choropleth"
           }
          ],
          "contour": [
           {
            "colorbar": {
             "outlinewidth": 0,
             "ticks": ""
            },
            "colorscale": [
             [
              0,
              "#0d0887"
             ],
             [
              0.1111111111111111,
              "#46039f"
             ],
             [
              0.2222222222222222,
              "#7201a8"
             ],
             [
              0.3333333333333333,
              "#9c179e"
             ],
             [
              0.4444444444444444,
              "#bd3786"
             ],
             [
              0.5555555555555556,
              "#d8576b"
             ],
             [
              0.6666666666666666,
              "#ed7953"
             ],
             [
              0.7777777777777778,
              "#fb9f3a"
             ],
             [
              0.8888888888888888,
              "#fdca26"
             ],
             [
              1,
              "#f0f921"
             ]
            ],
            "type": "contour"
           }
          ],
          "contourcarpet": [
           {
            "colorbar": {
             "outlinewidth": 0,
             "ticks": ""
            },
            "type": "contourcarpet"
           }
          ],
          "heatmap": [
           {
            "colorbar": {
             "outlinewidth": 0,
             "ticks": ""
            },
            "colorscale": [
             [
              0,
              "#0d0887"
             ],
             [
              0.1111111111111111,
              "#46039f"
             ],
             [
              0.2222222222222222,
              "#7201a8"
             ],
             [
              0.3333333333333333,
              "#9c179e"
             ],
             [
              0.4444444444444444,
              "#bd3786"
             ],
             [
              0.5555555555555556,
              "#d8576b"
             ],
             [
              0.6666666666666666,
              "#ed7953"
             ],
             [
              0.7777777777777778,
              "#fb9f3a"
             ],
             [
              0.8888888888888888,
              "#fdca26"
             ],
             [
              1,
              "#f0f921"
             ]
            ],
            "type": "heatmap"
           }
          ],
          "heatmapgl": [
           {
            "colorbar": {
             "outlinewidth": 0,
             "ticks": ""
            },
            "colorscale": [
             [
              0,
              "#0d0887"
             ],
             [
              0.1111111111111111,
              "#46039f"
             ],
             [
              0.2222222222222222,
              "#7201a8"
             ],
             [
              0.3333333333333333,
              "#9c179e"
             ],
             [
              0.4444444444444444,
              "#bd3786"
             ],
             [
              0.5555555555555556,
              "#d8576b"
             ],
             [
              0.6666666666666666,
              "#ed7953"
             ],
             [
              0.7777777777777778,
              "#fb9f3a"
             ],
             [
              0.8888888888888888,
              "#fdca26"
             ],
             [
              1,
              "#f0f921"
             ]
            ],
            "type": "heatmapgl"
           }
          ],
          "histogram": [
           {
            "marker": {
             "pattern": {
              "fillmode": "overlay",
              "size": 10,
              "solidity": 0.2
             }
            },
            "type": "histogram"
           }
          ],
          "histogram2d": [
           {
            "colorbar": {
             "outlinewidth": 0,
             "ticks": ""
            },
            "colorscale": [
             [
              0,
              "#0d0887"
             ],
             [
              0.1111111111111111,
              "#46039f"
             ],
             [
              0.2222222222222222,
              "#7201a8"
             ],
             [
              0.3333333333333333,
              "#9c179e"
             ],
             [
              0.4444444444444444,
              "#bd3786"
             ],
             [
              0.5555555555555556,
              "#d8576b"
             ],
             [
              0.6666666666666666,
              "#ed7953"
             ],
             [
              0.7777777777777778,
              "#fb9f3a"
             ],
             [
              0.8888888888888888,
              "#fdca26"
             ],
             [
              1,
              "#f0f921"
             ]
            ],
            "type": "histogram2d"
           }
          ],
          "histogram2dcontour": [
           {
            "colorbar": {
             "outlinewidth": 0,
             "ticks": ""
            },
            "colorscale": [
             [
              0,
              "#0d0887"
             ],
             [
              0.1111111111111111,
              "#46039f"
             ],
             [
              0.2222222222222222,
              "#7201a8"
             ],
             [
              0.3333333333333333,
              "#9c179e"
             ],
             [
              0.4444444444444444,
              "#bd3786"
             ],
             [
              0.5555555555555556,
              "#d8576b"
             ],
             [
              0.6666666666666666,
              "#ed7953"
             ],
             [
              0.7777777777777778,
              "#fb9f3a"
             ],
             [
              0.8888888888888888,
              "#fdca26"
             ],
             [
              1,
              "#f0f921"
             ]
            ],
            "type": "histogram2dcontour"
           }
          ],
          "mesh3d": [
           {
            "colorbar": {
             "outlinewidth": 0,
             "ticks": ""
            },
            "type": "mesh3d"
           }
          ],
          "parcoords": [
           {
            "line": {
             "colorbar": {
              "outlinewidth": 0,
              "ticks": ""
             }
            },
            "type": "parcoords"
           }
          ],
          "pie": [
           {
            "automargin": true,
            "type": "pie"
           }
          ],
          "scatter": [
           {
            "marker": {
             "colorbar": {
              "outlinewidth": 0,
              "ticks": ""
             }
            },
            "type": "scatter"
           }
          ],
          "scatter3d": [
           {
            "line": {
             "colorbar": {
              "outlinewidth": 0,
              "ticks": ""
             }
            },
            "marker": {
             "colorbar": {
              "outlinewidth": 0,
              "ticks": ""
             }
            },
            "type": "scatter3d"
           }
          ],
          "scattercarpet": [
           {
            "marker": {
             "colorbar": {
              "outlinewidth": 0,
              "ticks": ""
             }
            },
            "type": "scattercarpet"
           }
          ],
          "scattergeo": [
           {
            "marker": {
             "colorbar": {
              "outlinewidth": 0,
              "ticks": ""
             }
            },
            "type": "scattergeo"
           }
          ],
          "scattergl": [
           {
            "marker": {
             "colorbar": {
              "outlinewidth": 0,
              "ticks": ""
             }
            },
            "type": "scattergl"
           }
          ],
          "scattermapbox": [
           {
            "marker": {
             "colorbar": {
              "outlinewidth": 0,
              "ticks": ""
             }
            },
            "type": "scattermapbox"
           }
          ],
          "scatterpolar": [
           {
            "marker": {
             "colorbar": {
              "outlinewidth": 0,
              "ticks": ""
             }
            },
            "type": "scatterpolar"
           }
          ],
          "scatterpolargl": [
           {
            "marker": {
             "colorbar": {
              "outlinewidth": 0,
              "ticks": ""
             }
            },
            "type": "scatterpolargl"
           }
          ],
          "scatterternary": [
           {
            "marker": {
             "colorbar": {
              "outlinewidth": 0,
              "ticks": ""
             }
            },
            "type": "scatterternary"
           }
          ],
          "surface": [
           {
            "colorbar": {
             "outlinewidth": 0,
             "ticks": ""
            },
            "colorscale": [
             [
              0,
              "#0d0887"
             ],
             [
              0.1111111111111111,
              "#46039f"
             ],
             [
              0.2222222222222222,
              "#7201a8"
             ],
             [
              0.3333333333333333,
              "#9c179e"
             ],
             [
              0.4444444444444444,
              "#bd3786"
             ],
             [
              0.5555555555555556,
              "#d8576b"
             ],
             [
              0.6666666666666666,
              "#ed7953"
             ],
             [
              0.7777777777777778,
              "#fb9f3a"
             ],
             [
              0.8888888888888888,
              "#fdca26"
             ],
             [
              1,
              "#f0f921"
             ]
            ],
            "type": "surface"
           }
          ],
          "table": [
           {
            "cells": {
             "fill": {
              "color": "#EBF0F8"
             },
             "line": {
              "color": "white"
             }
            },
            "header": {
             "fill": {
              "color": "#C8D4E3"
             },
             "line": {
              "color": "white"
             }
            },
            "type": "table"
           }
          ]
         },
         "layout": {
          "annotationdefaults": {
           "arrowcolor": "#2a3f5f",
           "arrowhead": 0,
           "arrowwidth": 1
          },
          "autotypenumbers": "strict",
          "coloraxis": {
           "colorbar": {
            "outlinewidth": 0,
            "ticks": ""
           }
          },
          "colorscale": {
           "diverging": [
            [
             0,
             "#8e0152"
            ],
            [
             0.1,
             "#c51b7d"
            ],
            [
             0.2,
             "#de77ae"
            ],
            [
             0.3,
             "#f1b6da"
            ],
            [
             0.4,
             "#fde0ef"
            ],
            [
             0.5,
             "#f7f7f7"
            ],
            [
             0.6,
             "#e6f5d0"
            ],
            [
             0.7,
             "#b8e186"
            ],
            [
             0.8,
             "#7fbc41"
            ],
            [
             0.9,
             "#4d9221"
            ],
            [
             1,
             "#276419"
            ]
           ],
           "sequential": [
            [
             0,
             "#0d0887"
            ],
            [
             0.1111111111111111,
             "#46039f"
            ],
            [
             0.2222222222222222,
             "#7201a8"
            ],
            [
             0.3333333333333333,
             "#9c179e"
            ],
            [
             0.4444444444444444,
             "#bd3786"
            ],
            [
             0.5555555555555556,
             "#d8576b"
            ],
            [
             0.6666666666666666,
             "#ed7953"
            ],
            [
             0.7777777777777778,
             "#fb9f3a"
            ],
            [
             0.8888888888888888,
             "#fdca26"
            ],
            [
             1,
             "#f0f921"
            ]
           ],
           "sequentialminus": [
            [
             0,
             "#0d0887"
            ],
            [
             0.1111111111111111,
             "#46039f"
            ],
            [
             0.2222222222222222,
             "#7201a8"
            ],
            [
             0.3333333333333333,
             "#9c179e"
            ],
            [
             0.4444444444444444,
             "#bd3786"
            ],
            [
             0.5555555555555556,
             "#d8576b"
            ],
            [
             0.6666666666666666,
             "#ed7953"
            ],
            [
             0.7777777777777778,
             "#fb9f3a"
            ],
            [
             0.8888888888888888,
             "#fdca26"
            ],
            [
             1,
             "#f0f921"
            ]
           ]
          },
          "colorway": [
           "#636efa",
           "#EF553B",
           "#00cc96",
           "#ab63fa",
           "#FFA15A",
           "#19d3f3",
           "#FF6692",
           "#B6E880",
           "#FF97FF",
           "#FECB52"
          ],
          "font": {
           "color": "#2a3f5f"
          },
          "geo": {
           "bgcolor": "white",
           "lakecolor": "white",
           "landcolor": "#E5ECF6",
           "showlakes": true,
           "showland": true,
           "subunitcolor": "white"
          },
          "hoverlabel": {
           "align": "left"
          },
          "hovermode": "closest",
          "mapbox": {
           "style": "light"
          },
          "paper_bgcolor": "white",
          "plot_bgcolor": "#E5ECF6",
          "polar": {
           "angularaxis": {
            "gridcolor": "white",
            "linecolor": "white",
            "ticks": ""
           },
           "bgcolor": "#E5ECF6",
           "radialaxis": {
            "gridcolor": "white",
            "linecolor": "white",
            "ticks": ""
           }
          },
          "scene": {
           "xaxis": {
            "backgroundcolor": "#E5ECF6",
            "gridcolor": "white",
            "gridwidth": 2,
            "linecolor": "white",
            "showbackground": true,
            "ticks": "",
            "zerolinecolor": "white"
           },
           "yaxis": {
            "backgroundcolor": "#E5ECF6",
            "gridcolor": "white",
            "gridwidth": 2,
            "linecolor": "white",
            "showbackground": true,
            "ticks": "",
            "zerolinecolor": "white"
           },
           "zaxis": {
            "backgroundcolor": "#E5ECF6",
            "gridcolor": "white",
            "gridwidth": 2,
            "linecolor": "white",
            "showbackground": true,
            "ticks": "",
            "zerolinecolor": "white"
           }
          },
          "shapedefaults": {
           "line": {
            "color": "#2a3f5f"
           }
          },
          "ternary": {
           "aaxis": {
            "gridcolor": "white",
            "linecolor": "white",
            "ticks": ""
           },
           "baxis": {
            "gridcolor": "white",
            "linecolor": "white",
            "ticks": ""
           },
           "bgcolor": "#E5ECF6",
           "caxis": {
            "gridcolor": "white",
            "linecolor": "white",
            "ticks": ""
           }
          },
          "title": {
           "x": 0.05
          },
          "xaxis": {
           "automargin": true,
           "gridcolor": "white",
           "linecolor": "white",
           "ticks": "",
           "title": {
            "standoff": 15
           },
           "zerolinecolor": "white",
           "zerolinewidth": 2
          },
          "yaxis": {
           "automargin": true,
           "gridcolor": "white",
           "linecolor": "white",
           "ticks": "",
           "title": {
            "standoff": 15
           },
           "zerolinecolor": "white",
           "zerolinewidth": 2
          }
         }
        },
        "title": {
         "text": "Average Computational Performance Metrics per Assembler"
        },
        "xaxis": {
         "anchor": "y",
         "categoryorder": "category ascending",
         "domain": [
          0,
          0.45
         ],
         "gridcolor": "#DCDCDC",
         "matches": "x3",
         "showticklabels": false
        },
        "xaxis2": {
         "anchor": "y2",
         "categoryorder": "category ascending",
         "domain": [
          0.55,
          1
         ],
         "gridcolor": "#DCDCDC",
         "matches": "x4",
         "showticklabels": false
        },
        "xaxis3": {
         "anchor": "y3",
         "categoryorder": "category ascending",
         "domain": [
          0,
          0.45
         ],
         "gridcolor": "#DCDCDC"
        },
        "xaxis4": {
         "anchor": "y4",
         "categoryorder": "category ascending",
         "domain": [
          0.55,
          1
         ],
         "gridcolor": "#DCDCDC"
        },
        "xaxis5": {
         "anchor": "y5",
         "categoryorder": "category ascending",
         "domain": [
          0,
          1
         ],
         "gridcolor": "#DCDCDC"
        },
        "yaxis": {
         "anchor": "x",
         "domain": [
          0.7777777777777778,
          1
         ],
         "title": {
          "text": "CPU/hour"
         }
        },
        "yaxis2": {
         "anchor": "x2",
         "domain": [
          0.7777777777777778,
          1
         ],
         "title": {
          "text": "GB"
         }
        },
        "yaxis3": {
         "anchor": "x3",
         "domain": [
          0.3888888888888889,
          0.6111111111111112
         ],
         "title": {
          "text": "GB"
         }
        },
        "yaxis4": {
         "anchor": "x4",
         "domain": [
          0.3888888888888889,
          0.6111111111111112
         ],
         "title": {
          "text": "GB"
         }
        },
        "yaxis5": {
         "anchor": "x5",
         "domain": [
          0,
          0.22222222222222224
         ],
         "title": {
          "text": "Hours"
         }
        }
       }
      },
      "text/html": [
       "<div>                            <div id=\"656e6958-76ea-41bb-909b-b8f4766f2421\" class=\"plotly-graph-div\" style=\"height:525px; width:100%;\"></div>            <script type=\"text/javascript\">                require([\"plotly\"], function(Plotly) {                    window.PLOTLYENV=window.PLOTLYENV || {};                                    if (document.getElementById(\"656e6958-76ea-41bb-909b-b8f4766f2421\")) {                    Plotly.newPlot(                        \"656e6958-76ea-41bb-909b-b8f4766f2421\",                        [{\"box\":{\"visible\":true},\"fillcolor\":\"lightseagreen\",\"line\":{\"color\":\"black\"},\"meanline\":{\"visible\":true},\"opacity\":0.6,\"type\":\"violin\",\"x\":[\"BCALM2\",\"MINIA\",\"MetaHipMer2\",\"SKESA\",\"MEGAHIT\",\"SPAdes\",\"metaSPAdes\",\"IDBA-UD\",\"AbYSS\",\"GATBMiniaPipeline\",\"VelvetOptimiser\",\"Unicycler\",\"BCALM2\",\"MINIA\",\"MetaHipMer2\",\"SKESA\",\"MEGAHIT\",\"SPAdes\",\"metaSPAdes\",\"IDBA-UD\",\"GATBMiniaPipeline\",\"AbYSS\",\"VelvetOptimiser\",\"Unicycler\",\"BCALM2\",\"MINIA\",\"MEGAHIT\",\"SKESA\",\"metaSPAdes\",\"SPAdes\",\"MetaHipMer2\",\"GATBMiniaPipeline\",\"AbYSS\",\"IDBA-UD\",\"VelvetOptimiser\",\"Unicycler\"],\"xaxis\":\"x\",\"y\":[2.31,3.01,43.77,8.35,13.46,28.85,27.62,25.32,264.07,73.21,49.08,113.16,1.58,2.76,31.13,8.01,14.42,28.31,29.31,24.78,71.85,188.61,30.88,109.05,2.29,2.96,14.74,4.56,28.62,28.46,30.5,71.44,152.88,23.54,49.24,110.83],\"yaxis\":\"y\"},{\"line\":{\"color\":\"crimson\"},\"mode\":\"lines\",\"opacity\":0.6,\"type\":\"scatter\",\"x\":[\"BCALM2\",\"MINIA\",\"MetaHipMer2\",\"SKESA\",\"MEGAHIT\",\"SPAdes\",\"metaSPAdes\",\"IDBA-UD\",\"AbYSS\",\"GATBMiniaPipeline\",\"VelvetOptimiser\",\"Unicycler\",\"BCALM2\",\"MINIA\",\"MetaHipMer2\",\"SKESA\",\"MEGAHIT\",\"SPAdes\",\"metaSPAdes\",\"IDBA-UD\",\"GATBMiniaPipeline\",\"AbYSS\",\"VelvetOptimiser\",\"Unicycler\",\"BCALM2\",\"MINIA\",\"MEGAHIT\",\"SKESA\",\"metaSPAdes\",\"SPAdes\",\"MetaHipMer2\",\"GATBMiniaPipeline\",\"AbYSS\",\"IDBA-UD\",\"VelvetOptimiser\",\"Unicycler\"],\"xaxis\":\"x\",\"y\":[47.58222222222223,47.58222222222223,47.58222222222223,47.58222222222223,47.58222222222223,47.58222222222223,47.58222222222223,47.58222222222223,47.58222222222223,47.58222222222223,47.58222222222223,47.58222222222223,47.58222222222223,47.58222222222223,47.58222222222223,47.58222222222223,47.58222222222223,47.58222222222223,47.58222222222223,47.58222222222223,47.58222222222223,47.58222222222223,47.58222222222223,47.58222222222223,47.58222222222223,47.58222222222223,47.58222222222223,47.58222222222223,47.58222222222223,47.58222222222223,47.58222222222223,47.58222222222223,47.58222222222223,47.58222222222223,47.58222222222223,47.58222222222223],\"yaxis\":\"y\"},{\"box\":{\"visible\":true},\"fillcolor\":\"lightseagreen\",\"line\":{\"color\":\"black\"},\"meanline\":{\"visible\":true},\"opacity\":0.6,\"type\":\"violin\",\"x\":[\"BCALM2\",\"MINIA\",\"MetaHipMer2\",\"SKESA\",\"MEGAHIT\",\"SPAdes\",\"metaSPAdes\",\"IDBA-UD\",\"AbYSS\",\"GATBMiniaPipeline\",\"VelvetOptimiser\",\"Unicycler\",\"BCALM2\",\"MINIA\",\"MetaHipMer2\",\"SKESA\",\"MEGAHIT\",\"SPAdes\",\"metaSPAdes\",\"IDBA-UD\",\"GATBMiniaPipeline\",\"AbYSS\",\"VelvetOptimiser\",\"Unicycler\",\"BCALM2\",\"MINIA\",\"MEGAHIT\",\"SKESA\",\"metaSPAdes\",\"SPAdes\",\"MetaHipMer2\",\"GATBMiniaPipeline\",\"AbYSS\",\"IDBA-UD\",\"VelvetOptimiser\",\"Unicycler\"],\"xaxis\":\"x2\",\"y\":[6.7,6.6,60.4,17.8,2.1,6.5,6.2,10.4,3.6,6.8,31.9,13.8,6.7,6.6,60.1,17.8,2.1,6.8,6.9,10.4,6.9,3.2,31.9,13.9,6.6,6.6,2.1,17.8,6.5,5.7,60.4,6.8,3.2,10.4,31.9,14.1],\"yaxis\":\"y2\"},{\"line\":{\"color\":\"crimson\"},\"mode\":\"lines\",\"opacity\":0.6,\"type\":\"scatter\",\"x\":[\"BCALM2\",\"MINIA\",\"MetaHipMer2\",\"SKESA\",\"MEGAHIT\",\"SPAdes\",\"metaSPAdes\",\"IDBA-UD\",\"AbYSS\",\"GATBMiniaPipeline\",\"VelvetOptimiser\",\"Unicycler\",\"BCALM2\",\"MINIA\",\"MetaHipMer2\",\"SKESA\",\"MEGAHIT\",\"SPAdes\",\"metaSPAdes\",\"IDBA-UD\",\"GATBMiniaPipeline\",\"AbYSS\",\"VelvetOptimiser\",\"Unicycler\",\"BCALM2\",\"MINIA\",\"MEGAHIT\",\"SKESA\",\"metaSPAdes\",\"SPAdes\",\"MetaHipMer2\",\"GATBMiniaPipeline\",\"AbYSS\",\"IDBA-UD\",\"VelvetOptimiser\",\"Unicycler\"],\"xaxis\":\"x2\",\"y\":[14.394444444444442,14.394444444444442,14.394444444444442,14.394444444444442,14.394444444444442,14.394444444444442,14.394444444444442,14.394444444444442,14.394444444444442,14.394444444444442,14.394444444444442,14.394444444444442,14.394444444444442,14.394444444444442,14.394444444444442,14.394444444444442,14.394444444444442,14.394444444444442,14.394444444444442,14.394444444444442,14.394444444444442,14.394444444444442,14.394444444444442,14.394444444444442,14.394444444444442,14.394444444444442,14.394444444444442,14.394444444444442,14.394444444444442,14.394444444444442,14.394444444444442,14.394444444444442,14.394444444444442,14.394444444444442,14.394444444444442,14.394444444444442],\"yaxis\":\"y2\"},{\"box\":{\"visible\":true},\"fillcolor\":\"lightseagreen\",\"line\":{\"color\":\"black\"},\"meanline\":{\"visible\":true},\"opacity\":0.6,\"type\":\"violin\",\"x\":[\"BCALM2\",\"MINIA\",\"MetaHipMer2\",\"SKESA\",\"MEGAHIT\",\"SPAdes\",\"metaSPAdes\",\"IDBA-UD\",\"AbYSS\",\"GATBMiniaPipeline\",\"VelvetOptimiser\",\"Unicycler\",\"BCALM2\",\"MINIA\",\"MetaHipMer2\",\"SKESA\",\"MEGAHIT\",\"SPAdes\",\"metaSPAdes\",\"IDBA-UD\",\"GATBMiniaPipeline\",\"AbYSS\",\"VelvetOptimiser\",\"Unicycler\",\"BCALM2\",\"MINIA\",\"MEGAHIT\",\"SKESA\",\"metaSPAdes\",\"SPAdes\",\"MetaHipMer2\",\"GATBMiniaPipeline\",\"AbYSS\",\"IDBA-UD\",\"VelvetOptimiser\",\"Unicycler\"],\"xaxis\":\"x3\",\"y\":[10.2,11.0,5.7,0.722,19.8,13.7,14.9,6.6,19.0,63.9,246.2,43.7,10.2,11.0,5.7,0.722,19.8,13.7,14.9,6.6,69.4,11.7,245.6,43.7,10.2,11.0,19.8,0.722,14.9,13.7,5.7,61.9,11.7,6.6,247.3,43.7],\"yaxis\":\"y3\"},{\"line\":{\"color\":\"crimson\"},\"mode\":\"lines\",\"opacity\":0.6,\"type\":\"scatter\",\"x\":[\"BCALM2\",\"MINIA\",\"MetaHipMer2\",\"SKESA\",\"MEGAHIT\",\"SPAdes\",\"metaSPAdes\",\"IDBA-UD\",\"AbYSS\",\"GATBMiniaPipeline\",\"VelvetOptimiser\",\"Unicycler\",\"BCALM2\",\"MINIA\",\"MetaHipMer2\",\"SKESA\",\"MEGAHIT\",\"SPAdes\",\"metaSPAdes\",\"IDBA-UD\",\"GATBMiniaPipeline\",\"AbYSS\",\"VelvetOptimiser\",\"Unicycler\",\"BCALM2\",\"MINIA\",\"MEGAHIT\",\"SKESA\",\"metaSPAdes\",\"SPAdes\",\"MetaHipMer2\",\"GATBMiniaPipeline\",\"AbYSS\",\"IDBA-UD\",\"VelvetOptimiser\",\"Unicycler\"],\"xaxis\":\"x3\",\"y\":[37.65738888888889,37.65738888888889,37.65738888888889,37.65738888888889,37.65738888888889,37.65738888888889,37.65738888888889,37.65738888888889,37.65738888888889,37.65738888888889,37.65738888888889,37.65738888888889,37.65738888888889,37.65738888888889,37.65738888888889,37.65738888888889,37.65738888888889,37.65738888888889,37.65738888888889,37.65738888888889,37.65738888888889,37.65738888888889,37.65738888888889,37.65738888888889,37.65738888888889,37.65738888888889,37.65738888888889,37.65738888888889,37.65738888888889,37.65738888888889,37.65738888888889,37.65738888888889,37.65738888888889,37.65738888888889,37.65738888888889,37.65738888888889],\"yaxis\":\"y3\"},{\"box\":{\"visible\":true},\"fillcolor\":\"lightseagreen\",\"line\":{\"color\":\"black\"},\"meanline\":{\"visible\":true},\"opacity\":0.6,\"type\":\"violin\",\"x\":[\"BCALM2\",\"MINIA\",\"MetaHipMer2\",\"SKESA\",\"MEGAHIT\",\"SPAdes\",\"metaSPAdes\",\"IDBA-UD\",\"AbYSS\",\"GATBMiniaPipeline\",\"VelvetOptimiser\",\"Unicycler\",\"BCALM2\",\"MINIA\",\"MetaHipMer2\",\"SKESA\",\"MEGAHIT\",\"SPAdes\",\"metaSPAdes\",\"IDBA-UD\",\"GATBMiniaPipeline\",\"AbYSS\",\"VelvetOptimiser\",\"Unicycler\",\"BCALM2\",\"MINIA\",\"MEGAHIT\",\"SKESA\",\"metaSPAdes\",\"SPAdes\",\"MetaHipMer2\",\"GATBMiniaPipeline\",\"AbYSS\",\"IDBA-UD\",\"VelvetOptimiser\",\"Unicycler\"],\"xaxis\":\"x4\",\"y\":[4.8,4.9,5.0,0.029,8.1,53.6,33.6,3.4,15.1,21.2,36.1,310.4,4.8,4.9,5.0,0.029,8.1,53.6,33.6,3.4,21.3,9.5,35.8,310.4,4.8,4.9,8.1,0.029,33.6,53.6,5.0,21.2,9.5,3.4,36.7,310.4],\"yaxis\":\"y4\"},{\"line\":{\"color\":\"crimson\"},\"mode\":\"lines\",\"opacity\":0.6,\"type\":\"scatter\",\"x\":[\"BCALM2\",\"MINIA\",\"MetaHipMer2\",\"SKESA\",\"MEGAHIT\",\"SPAdes\",\"metaSPAdes\",\"IDBA-UD\",\"AbYSS\",\"GATBMiniaPipeline\",\"VelvetOptimiser\",\"Unicycler\",\"BCALM2\",\"MINIA\",\"MetaHipMer2\",\"SKESA\",\"MEGAHIT\",\"SPAdes\",\"metaSPAdes\",\"IDBA-UD\",\"GATBMiniaPipeline\",\"AbYSS\",\"VelvetOptimiser\",\"Unicycler\",\"BCALM2\",\"MINIA\",\"MEGAHIT\",\"SKESA\",\"metaSPAdes\",\"SPAdes\",\"MetaHipMer2\",\"GATBMiniaPipeline\",\"AbYSS\",\"IDBA-UD\",\"VelvetOptimiser\",\"Unicycler\"],\"xaxis\":\"x4\",\"y\":[41.05241666666667,41.05241666666667,41.05241666666667,41.05241666666667,41.05241666666667,41.05241666666667,41.05241666666667,41.05241666666667,41.05241666666667,41.05241666666667,41.05241666666667,41.05241666666667,41.05241666666667,41.05241666666667,41.05241666666667,41.05241666666667,41.05241666666667,41.05241666666667,41.05241666666667,41.05241666666667,41.05241666666667,41.05241666666667,41.05241666666667,41.05241666666667,41.05241666666667,41.05241666666667,41.05241666666667,41.05241666666667,41.05241666666667,41.05241666666667,41.05241666666667,41.05241666666667,41.05241666666667,41.05241666666667,41.05241666666667,41.05241666666667],\"yaxis\":\"y4\"},{\"marker\":{\"color\":\"darkgray\"},\"name\":\"run1\",\"showlegend\":false,\"text\":[0.06,0.07,0.22,0.22,0.3,0.95,0.78,0.53,8.19,1.06,2.03,11.45],\"textposition\":\"outside\",\"type\":\"bar\",\"x\":[\"BCALM2\",\"MINIA\",\"MetaHipMer2\",\"SKESA\",\"MEGAHIT\",\"SPAdes\",\"metaSPAdes\",\"IDBA-UD\",\"AbYSS\",\"GATBMiniaPipeline\",\"VelvetOptimiser\",\"Unicycler\",\"BCALM2\",\"MINIA\",\"MetaHipMer2\",\"SKESA\",\"MEGAHIT\",\"SPAdes\",\"metaSPAdes\",\"IDBA-UD\",\"GATBMiniaPipeline\",\"AbYSS\",\"VelvetOptimiser\",\"Unicycler\",\"BCALM2\",\"MINIA\",\"MEGAHIT\",\"SKESA\",\"metaSPAdes\",\"SPAdes\",\"MetaHipMer2\",\"GATBMiniaPipeline\",\"AbYSS\",\"IDBA-UD\",\"VelvetOptimiser\",\"Unicycler\"],\"xaxis\":\"x5\",\"y\":[0.06,0.07,0.22,0.22,0.3,0.95,0.78,0.53,8.19,1.06,2.03,11.45],\"yaxis\":\"y5\"},{\"marker\":{\"color\":\"darkgray\"},\"name\":\"run2\",\"showlegend\":false,\"text\":[0.04,0.07,0.14,0.21,0.34,0.9,0.85,0.54,1.03,2.55,1.27,10.83],\"textposition\":\"outside\",\"type\":\"bar\",\"x\":[\"BCALM2\",\"MINIA\",\"MetaHipMer2\",\"SKESA\",\"MEGAHIT\",\"SPAdes\",\"metaSPAdes\",\"IDBA-UD\",\"AbYSS\",\"GATBMiniaPipeline\",\"VelvetOptimiser\",\"Unicycler\",\"BCALM2\",\"MINIA\",\"MetaHipMer2\",\"SKESA\",\"MEGAHIT\",\"SPAdes\",\"metaSPAdes\",\"IDBA-UD\",\"GATBMiniaPipeline\",\"AbYSS\",\"VelvetOptimiser\",\"Unicycler\",\"BCALM2\",\"MINIA\",\"MEGAHIT\",\"SKESA\",\"metaSPAdes\",\"SPAdes\",\"MetaHipMer2\",\"GATBMiniaPipeline\",\"AbYSS\",\"IDBA-UD\",\"VelvetOptimiser\",\"Unicycler\"],\"xaxis\":\"x5\",\"y\":[0.04,0.07,0.14,0.21,0.34,0.9,0.85,0.54,1.03,2.55,1.27,10.83],\"yaxis\":\"y5\"},{\"marker\":{\"color\":\"darkgray\"},\"name\":\"run3\",\"showlegend\":false,\"text\":[0.06,0.07,0.3,0.12,0.83,0.91,0.14,0.92,2.2,0.48,2.2,11.06],\"textposition\":\"outside\",\"type\":\"bar\",\"x\":[\"BCALM2\",\"MINIA\",\"MetaHipMer2\",\"SKESA\",\"MEGAHIT\",\"SPAdes\",\"metaSPAdes\",\"IDBA-UD\",\"AbYSS\",\"GATBMiniaPipeline\",\"VelvetOptimiser\",\"Unicycler\",\"BCALM2\",\"MINIA\",\"MetaHipMer2\",\"SKESA\",\"MEGAHIT\",\"SPAdes\",\"metaSPAdes\",\"IDBA-UD\",\"GATBMiniaPipeline\",\"AbYSS\",\"VelvetOptimiser\",\"Unicycler\",\"BCALM2\",\"MINIA\",\"MEGAHIT\",\"SKESA\",\"metaSPAdes\",\"SPAdes\",\"MetaHipMer2\",\"GATBMiniaPipeline\",\"AbYSS\",\"IDBA-UD\",\"VelvetOptimiser\",\"Unicycler\"],\"xaxis\":\"x5\",\"y\":[0.06,0.07,0.3,0.12,0.83,0.91,0.14,0.92,2.2,0.48,2.2,11.06],\"yaxis\":\"y5\"},{\"line\":{\"color\":\"crimson\"},\"mode\":\"lines\",\"name\":\"Mean\",\"opacity\":0.6,\"type\":\"scatter\",\"x\":[\"BCALM2\",\"MINIA\",\"MetaHipMer2\",\"SKESA\",\"MEGAHIT\",\"SPAdes\",\"metaSPAdes\",\"IDBA-UD\",\"AbYSS\",\"GATBMiniaPipeline\",\"VelvetOptimiser\",\"Unicycler\",\"BCALM2\",\"MINIA\",\"MetaHipMer2\",\"SKESA\",\"MEGAHIT\",\"SPAdes\",\"metaSPAdes\",\"IDBA-UD\",\"GATBMiniaPipeline\",\"AbYSS\",\"VelvetOptimiser\",\"Unicycler\",\"BCALM2\",\"MINIA\",\"MEGAHIT\",\"SKESA\",\"metaSPAdes\",\"SPAdes\",\"MetaHipMer2\",\"GATBMiniaPipeline\",\"AbYSS\",\"IDBA-UD\",\"VelvetOptimiser\",\"Unicycler\"],\"xaxis\":\"x5\",\"y\":[1.7755555555555558,1.7755555555555558,1.7755555555555558,1.7755555555555558,1.7755555555555558,1.7755555555555558,1.7755555555555558,1.7755555555555558,1.7755555555555558,1.7755555555555558,1.7755555555555558,1.7755555555555558,1.7755555555555558,1.7755555555555558,1.7755555555555558,1.7755555555555558,1.7755555555555558,1.7755555555555558,1.7755555555555558,1.7755555555555558,1.7755555555555558,1.7755555555555558,1.7755555555555558,1.7755555555555558,1.7755555555555558,1.7755555555555558,1.7755555555555558,1.7755555555555558,1.7755555555555558,1.7755555555555558,1.7755555555555558,1.7755555555555558,1.7755555555555558,1.7755555555555558,1.7755555555555558,1.7755555555555558],\"yaxis\":\"y5\"}],                        {\"annotations\":[{\"font\":{\"size\":16},\"showarrow\":false,\"text\":\"CPU Usage\",\"x\":0.225,\"xanchor\":\"center\",\"xref\":\"paper\",\"y\":1.0,\"yanchor\":\"bottom\",\"yref\":\"paper\"},{\"font\":{\"size\":16},\"showarrow\":false,\"text\":\"Max Memory\",\"x\":0.775,\"xanchor\":\"center\",\"xref\":\"paper\",\"y\":1.0,\"yanchor\":\"bottom\",\"yref\":\"paper\"},{\"font\":{\"size\":16},\"showarrow\":false,\"text\":\"Average Read\",\"x\":0.225,\"xanchor\":\"center\",\"xref\":\"paper\",\"y\":0.6111111111111112,\"yanchor\":\"bottom\",\"yref\":\"paper\"},{\"font\":{\"size\":16},\"showarrow\":false,\"text\":\"Average Write\",\"x\":0.775,\"xanchor\":\"center\",\"xref\":\"paper\",\"y\":0.6111111111111112,\"yanchor\":\"bottom\",\"yref\":\"paper\"},{\"font\":{\"size\":16},\"showarrow\":false,\"text\":\"Average Run Time\",\"x\":0.5,\"xanchor\":\"center\",\"xref\":\"paper\",\"y\":0.22222222222222224,\"yanchor\":\"bottom\",\"yref\":\"paper\"},{\"font\":{\"size\":16},\"showarrow\":false,\"text\":\"Assembler\",\"x\":0.5,\"xanchor\":\"center\",\"xref\":\"paper\",\"y\":0,\"yanchor\":\"top\",\"yref\":\"paper\",\"yshift\":-30}],\"barmode\":\"group\",\"plot_bgcolor\":\"rgb(255,255,255)\",\"showlegend\":false,\"template\":{\"data\":{\"bar\":[{\"error_x\":{\"color\":\"#2a3f5f\"},\"error_y\":{\"color\":\"#2a3f5f\"},\"marker\":{\"line\":{\"color\":\"#E5ECF6\",\"width\":0.5},\"pattern\":{\"fillmode\":\"overlay\",\"size\":10,\"solidity\":0.2}},\"type\":\"bar\"}],\"barpolar\":[{\"marker\":{\"line\":{\"color\":\"#E5ECF6\",\"width\":0.5},\"pattern\":{\"fillmode\":\"overlay\",\"size\":10,\"solidity\":0.2}},\"type\":\"barpolar\"}],\"carpet\":[{\"aaxis\":{\"endlinecolor\":\"#2a3f5f\",\"gridcolor\":\"white\",\"linecolor\":\"white\",\"minorgridcolor\":\"white\",\"startlinecolor\":\"#2a3f5f\"},\"baxis\":{\"endlinecolor\":\"#2a3f5f\",\"gridcolor\":\"white\",\"linecolor\":\"white\",\"minorgridcolor\":\"white\",\"startlinecolor\":\"#2a3f5f\"},\"type\":\"carpet\"}],\"choropleth\":[{\"colorbar\":{\"outlinewidth\":0,\"ticks\":\"\"},\"type\":\"choropleth\"}],\"contour\":[{\"colorbar\":{\"outlinewidth\":0,\"ticks\":\"\"},\"colorscale\":[[0.0,\"#0d0887\"],[0.1111111111111111,\"#46039f\"],[0.2222222222222222,\"#7201a8\"],[0.3333333333333333,\"#9c179e\"],[0.4444444444444444,\"#bd3786\"],[0.5555555555555556,\"#d8576b\"],[0.6666666666666666,\"#ed7953\"],[0.7777777777777778,\"#fb9f3a\"],[0.8888888888888888,\"#fdca26\"],[1.0,\"#f0f921\"]],\"type\":\"contour\"}],\"contourcarpet\":[{\"colorbar\":{\"outlinewidth\":0,\"ticks\":\"\"},\"type\":\"contourcarpet\"}],\"heatmap\":[{\"colorbar\":{\"outlinewidth\":0,\"ticks\":\"\"},\"colorscale\":[[0.0,\"#0d0887\"],[0.1111111111111111,\"#46039f\"],[0.2222222222222222,\"#7201a8\"],[0.3333333333333333,\"#9c179e\"],[0.4444444444444444,\"#bd3786\"],[0.5555555555555556,\"#d8576b\"],[0.6666666666666666,\"#ed7953\"],[0.7777777777777778,\"#fb9f3a\"],[0.8888888888888888,\"#fdca26\"],[1.0,\"#f0f921\"]],\"type\":\"heatmap\"}],\"heatmapgl\":[{\"colorbar\":{\"outlinewidth\":0,\"ticks\":\"\"},\"colorscale\":[[0.0,\"#0d0887\"],[0.1111111111111111,\"#46039f\"],[0.2222222222222222,\"#7201a8\"],[0.3333333333333333,\"#9c179e\"],[0.4444444444444444,\"#bd3786\"],[0.5555555555555556,\"#d8576b\"],[0.6666666666666666,\"#ed7953\"],[0.7777777777777778,\"#fb9f3a\"],[0.8888888888888888,\"#fdca26\"],[1.0,\"#f0f921\"]],\"type\":\"heatmapgl\"}],\"histogram\":[{\"marker\":{\"pattern\":{\"fillmode\":\"overlay\",\"size\":10,\"solidity\":0.2}},\"type\":\"histogram\"}],\"histogram2d\":[{\"colorbar\":{\"outlinewidth\":0,\"ticks\":\"\"},\"colorscale\":[[0.0,\"#0d0887\"],[0.1111111111111111,\"#46039f\"],[0.2222222222222222,\"#7201a8\"],[0.3333333333333333,\"#9c179e\"],[0.4444444444444444,\"#bd3786\"],[0.5555555555555556,\"#d8576b\"],[0.6666666666666666,\"#ed7953\"],[0.7777777777777778,\"#fb9f3a\"],[0.8888888888888888,\"#fdca26\"],[1.0,\"#f0f921\"]],\"type\":\"histogram2d\"}],\"histogram2dcontour\":[{\"colorbar\":{\"outlinewidth\":0,\"ticks\":\"\"},\"colorscale\":[[0.0,\"#0d0887\"],[0.1111111111111111,\"#46039f\"],[0.2222222222222222,\"#7201a8\"],[0.3333333333333333,\"#9c179e\"],[0.4444444444444444,\"#bd3786\"],[0.5555555555555556,\"#d8576b\"],[0.6666666666666666,\"#ed7953\"],[0.7777777777777778,\"#fb9f3a\"],[0.8888888888888888,\"#fdca26\"],[1.0,\"#f0f921\"]],\"type\":\"histogram2dcontour\"}],\"mesh3d\":[{\"colorbar\":{\"outlinewidth\":0,\"ticks\":\"\"},\"type\":\"mesh3d\"}],\"parcoords\":[{\"line\":{\"colorbar\":{\"outlinewidth\":0,\"ticks\":\"\"}},\"type\":\"parcoords\"}],\"pie\":[{\"automargin\":true,\"type\":\"pie\"}],\"scatter\":[{\"marker\":{\"colorbar\":{\"outlinewidth\":0,\"ticks\":\"\"}},\"type\":\"scatter\"}],\"scatter3d\":[{\"line\":{\"colorbar\":{\"outlinewidth\":0,\"ticks\":\"\"}},\"marker\":{\"colorbar\":{\"outlinewidth\":0,\"ticks\":\"\"}},\"type\":\"scatter3d\"}],\"scattercarpet\":[{\"marker\":{\"colorbar\":{\"outlinewidth\":0,\"ticks\":\"\"}},\"type\":\"scattercarpet\"}],\"scattergeo\":[{\"marker\":{\"colorbar\":{\"outlinewidth\":0,\"ticks\":\"\"}},\"type\":\"scattergeo\"}],\"scattergl\":[{\"marker\":{\"colorbar\":{\"outlinewidth\":0,\"ticks\":\"\"}},\"type\":\"scattergl\"}],\"scattermapbox\":[{\"marker\":{\"colorbar\":{\"outlinewidth\":0,\"ticks\":\"\"}},\"type\":\"scattermapbox\"}],\"scatterpolar\":[{\"marker\":{\"colorbar\":{\"outlinewidth\":0,\"ticks\":\"\"}},\"type\":\"scatterpolar\"}],\"scatterpolargl\":[{\"marker\":{\"colorbar\":{\"outlinewidth\":0,\"ticks\":\"\"}},\"type\":\"scatterpolargl\"}],\"scatterternary\":[{\"marker\":{\"colorbar\":{\"outlinewidth\":0,\"ticks\":\"\"}},\"type\":\"scatterternary\"}],\"surface\":[{\"colorbar\":{\"outlinewidth\":0,\"ticks\":\"\"},\"colorscale\":[[0.0,\"#0d0887\"],[0.1111111111111111,\"#46039f\"],[0.2222222222222222,\"#7201a8\"],[0.3333333333333333,\"#9c179e\"],[0.4444444444444444,\"#bd3786\"],[0.5555555555555556,\"#d8576b\"],[0.6666666666666666,\"#ed7953\"],[0.7777777777777778,\"#fb9f3a\"],[0.8888888888888888,\"#fdca26\"],[1.0,\"#f0f921\"]],\"type\":\"surface\"}],\"table\":[{\"cells\":{\"fill\":{\"color\":\"#EBF0F8\"},\"line\":{\"color\":\"white\"}},\"header\":{\"fill\":{\"color\":\"#C8D4E3\"},\"line\":{\"color\":\"white\"}},\"type\":\"table\"}]},\"layout\":{\"annotationdefaults\":{\"arrowcolor\":\"#2a3f5f\",\"arrowhead\":0,\"arrowwidth\":1},\"autotypenumbers\":\"strict\",\"coloraxis\":{\"colorbar\":{\"outlinewidth\":0,\"ticks\":\"\"}},\"colorscale\":{\"diverging\":[[0,\"#8e0152\"],[0.1,\"#c51b7d\"],[0.2,\"#de77ae\"],[0.3,\"#f1b6da\"],[0.4,\"#fde0ef\"],[0.5,\"#f7f7f7\"],[0.6,\"#e6f5d0\"],[0.7,\"#b8e186\"],[0.8,\"#7fbc41\"],[0.9,\"#4d9221\"],[1,\"#276419\"]],\"sequential\":[[0.0,\"#0d0887\"],[0.1111111111111111,\"#46039f\"],[0.2222222222222222,\"#7201a8\"],[0.3333333333333333,\"#9c179e\"],[0.4444444444444444,\"#bd3786\"],[0.5555555555555556,\"#d8576b\"],[0.6666666666666666,\"#ed7953\"],[0.7777777777777778,\"#fb9f3a\"],[0.8888888888888888,\"#fdca26\"],[1.0,\"#f0f921\"]],\"sequentialminus\":[[0.0,\"#0d0887\"],[0.1111111111111111,\"#46039f\"],[0.2222222222222222,\"#7201a8\"],[0.3333333333333333,\"#9c179e\"],[0.4444444444444444,\"#bd3786\"],[0.5555555555555556,\"#d8576b\"],[0.6666666666666666,\"#ed7953\"],[0.7777777777777778,\"#fb9f3a\"],[0.8888888888888888,\"#fdca26\"],[1.0,\"#f0f921\"]]},\"colorway\":[\"#636efa\",\"#EF553B\",\"#00cc96\",\"#ab63fa\",\"#FFA15A\",\"#19d3f3\",\"#FF6692\",\"#B6E880\",\"#FF97FF\",\"#FECB52\"],\"font\":{\"color\":\"#2a3f5f\"},\"geo\":{\"bgcolor\":\"white\",\"lakecolor\":\"white\",\"landcolor\":\"#E5ECF6\",\"showlakes\":true,\"showland\":true,\"subunitcolor\":\"white\"},\"hoverlabel\":{\"align\":\"left\"},\"hovermode\":\"closest\",\"mapbox\":{\"style\":\"light\"},\"paper_bgcolor\":\"white\",\"plot_bgcolor\":\"#E5ECF6\",\"polar\":{\"angularaxis\":{\"gridcolor\":\"white\",\"linecolor\":\"white\",\"ticks\":\"\"},\"bgcolor\":\"#E5ECF6\",\"radialaxis\":{\"gridcolor\":\"white\",\"linecolor\":\"white\",\"ticks\":\"\"}},\"scene\":{\"xaxis\":{\"backgroundcolor\":\"#E5ECF6\",\"gridcolor\":\"white\",\"gridwidth\":2,\"linecolor\":\"white\",\"showbackground\":true,\"ticks\":\"\",\"zerolinecolor\":\"white\"},\"yaxis\":{\"backgroundcolor\":\"#E5ECF6\",\"gridcolor\":\"white\",\"gridwidth\":2,\"linecolor\":\"white\",\"showbackground\":true,\"ticks\":\"\",\"zerolinecolor\":\"white\"},\"zaxis\":{\"backgroundcolor\":\"#E5ECF6\",\"gridcolor\":\"white\",\"gridwidth\":2,\"linecolor\":\"white\",\"showbackground\":true,\"ticks\":\"\",\"zerolinecolor\":\"white\"}},\"shapedefaults\":{\"line\":{\"color\":\"#2a3f5f\"}},\"ternary\":{\"aaxis\":{\"gridcolor\":\"white\",\"linecolor\":\"white\",\"ticks\":\"\"},\"baxis\":{\"gridcolor\":\"white\",\"linecolor\":\"white\",\"ticks\":\"\"},\"bgcolor\":\"#E5ECF6\",\"caxis\":{\"gridcolor\":\"white\",\"linecolor\":\"white\",\"ticks\":\"\"}},\"title\":{\"x\":0.05},\"xaxis\":{\"automargin\":true,\"gridcolor\":\"white\",\"linecolor\":\"white\",\"ticks\":\"\",\"title\":{\"standoff\":15},\"zerolinecolor\":\"white\",\"zerolinewidth\":2},\"yaxis\":{\"automargin\":true,\"gridcolor\":\"white\",\"linecolor\":\"white\",\"ticks\":\"\",\"title\":{\"standoff\":15},\"zerolinecolor\":\"white\",\"zerolinewidth\":2}}},\"title\":{\"text\":\"Average Computational Performance Metrics per Assembler\"},\"xaxis\":{\"anchor\":\"y\",\"categoryorder\":\"category ascending\",\"domain\":[0.0,0.45],\"gridcolor\":\"#DCDCDC\",\"matches\":\"x3\",\"showticklabels\":false},\"xaxis2\":{\"anchor\":\"y2\",\"categoryorder\":\"category ascending\",\"domain\":[0.55,1.0],\"gridcolor\":\"#DCDCDC\",\"matches\":\"x4\",\"showticklabels\":false},\"xaxis3\":{\"anchor\":\"y3\",\"categoryorder\":\"category ascending\",\"domain\":[0.0,0.45],\"gridcolor\":\"#DCDCDC\"},\"xaxis4\":{\"anchor\":\"y4\",\"categoryorder\":\"category ascending\",\"domain\":[0.55,1.0],\"gridcolor\":\"#DCDCDC\"},\"xaxis5\":{\"anchor\":\"y5\",\"categoryorder\":\"category ascending\",\"domain\":[0.0,1.0],\"gridcolor\":\"#DCDCDC\"},\"yaxis\":{\"anchor\":\"x\",\"domain\":[0.7777777777777778,1.0],\"title\":{\"text\":\"CPU/hour\"}},\"yaxis2\":{\"anchor\":\"x2\",\"domain\":[0.7777777777777778,1.0],\"title\":{\"text\":\"GB\"}},\"yaxis3\":{\"anchor\":\"x3\",\"domain\":[0.3888888888888889,0.6111111111111112],\"title\":{\"text\":\"GB\"}},\"yaxis4\":{\"anchor\":\"x4\",\"domain\":[0.3888888888888889,0.6111111111111112],\"title\":{\"text\":\"GB\"}},\"yaxis5\":{\"anchor\":\"x5\",\"domain\":[0.0,0.22222222222222224],\"title\":{\"text\":\"Hours\"}}},                        {\"responsive\": true}                    ).then(function(){\n",
       "                            \n",
       "var gd = document.getElementById('656e6958-76ea-41bb-909b-b8f4766f2421');\n",
       "var x = new MutationObserver(function (mutations, observer) {{\n",
       "        var display = window.getComputedStyle(gd).display;\n",
       "        if (!display || display === 'none') {{\n",
       "            console.log([gd, 'removed!']);\n",
       "            Plotly.purge(gd);\n",
       "            observer.disconnect();\n",
       "        }}\n",
       "}});\n",
       "\n",
       "// Listen for the removal of the full notebook cells\n",
       "var notebookContainer = gd.closest('#notebook-container');\n",
       "if (notebookContainer) {{\n",
       "    x.observe(notebookContainer, {childList: true});\n",
       "}}\n",
       "\n",
       "// Listen for the clearing of the current output cell\n",
       "var outputEl = gd.closest('.output');\n",
       "if (outputEl) {{\n",
       "    x.observe(outputEl, {childList: true});\n",
       "}}\n",
       "\n",
       "                        })                };                });            </script>        </div>"
      ]
     },
     "metadata": {},
     "output_type": "display_data"
    }
   ],
   "source": [
    "\n",
    "fig_global = make_subplots(rows=3, cols=2, shared_xaxes=True, x_title=\"Assembler\", \n",
    "                           subplot_titles=('CPU Usage', 'Max Memory', 'Average Read', 'Average Write', 'Average Run Time'),\n",
    "                           specs=[[{}, {}],[{}, {}],[{\"colspan\": 2}, None]])\n",
    "row_coord = 1\n",
    "col_coord = 1\n",
    "\n",
    "for column in ['cpus', 'max_rss', 'avgRead', 'avgWrite']:\n",
    "    fig_global.add_trace(go.Violin(y=global_pipeline_stats_df[column], box_visible=True, line_color='black',\n",
    "                           meanline_visible=True, fillcolor='lightseagreen', opacity=0.6,\n",
    "                           x=global_pipeline_stats_df['assembler']),\n",
    "                  row=row_coord, col=col_coord)\n",
    "    fig_global.add_trace(go.Scatter(y=[global_pipeline_stats_df[column].mean()]*len(global_pipeline_stats_df['assembler']), \n",
    "                                    x=global_pipeline_stats_df['assembler'], mode='lines',\n",
    "                                    line=dict(color=\"crimson\"), opacity=0.6),row=row_coord, col=col_coord)\n",
    "    if col_coord == 2:\n",
    "        col_coord = 1\n",
    "        row_coord += 1\n",
    "    else:\n",
    "        col_coord +=1\n",
    "\n",
    "TimeDFmean = pd.Series()\n",
    "for run in global_pipeline_stats_df['run'].unique():\n",
    "    print(run)\n",
    "    timeDF=round(pd.to_timedelta(global_pipeline_stats_df['avgTime'][global_pipeline_stats_df['run'] == run].str.strip())/ np.timedelta64(1, 'h'), 2)\n",
    "\n",
    "    fig_global.add_trace(go.Bar(y=timeDF, x=global_pipeline_stats_df['assembler'], text=timeDF,textposition='outside', \n",
    "                              showlegend=False, marker_color='darkgray', name=run),  row=3, col=1)\n",
    "    TimeDFmean = pd.concat([TimeDFmean, timeDF], ignore_index=True)\n",
    "    \n",
    "fig_global.add_trace(go.Scatter(y=[TimeDFmean.mean()]*len(global_pipeline_stats_df['assembler']), \n",
    "                              x=global_pipeline_stats_df['assembler'], mode='lines',\n",
    "                              line=dict(color=\"crimson\"), opacity=0.6, name='Mean'), row=3, col=1)\n",
    "\n",
    "fig_global.update_layout(showlegend=False,plot_bgcolor='rgb(255,255,255)', title_text=\"Average Computational Performance Metrics per Assembler\",\n",
    "                        barmode='group')\n",
    "# grid\n",
    "fig_global['layout']['xaxis']['gridcolor']='#DCDCDC'\n",
    "fig_global['layout']['xaxis2']['gridcolor']='#DCDCDC'\n",
    "fig_global['layout']['xaxis3']['gridcolor']='#DCDCDC'\n",
    "fig_global['layout']['xaxis4']['gridcolor']='#DCDCDC'\n",
    "fig_global['layout']['xaxis5']['gridcolor']='#DCDCDC'\n",
    "# y-axis legends\n",
    "fig_global['layout']['yaxis']['title']='CPU/hour'\n",
    "fig_global['layout']['yaxis2']['title']='GB'\n",
    "fig_global['layout']['yaxis3']['title']='GB'\n",
    "fig_global['layout']['yaxis4']['title']='GB'\n",
    "fig_global['layout']['yaxis5']['title']='Hours'\n",
    "fig_global.update_xaxes(categoryorder='category ascending')\n",
    "\n",
    "fig_global.show()"
   ]
  },
  {
   "cell_type": "code",
   "execution_count": 13,
   "metadata": {},
   "outputs": [
    {
     "data": {
      "text/plain": [
       "'Plots/Performance/Average Computational Performance Metrics per Assembler.html'"
      ]
     },
     "execution_count": 13,
     "metadata": {},
     "output_type": "execute_result"
    }
   ],
   "source": [
    "plot(fig_global, filename='Plots/Performance/Average Computational Performance Metrics per Assembler.html', auto_open=False)"
   ]
  },
  {
   "cell_type": "markdown",
   "metadata": {},
   "source": [
    "## Pipeline performance statistics per Sample"
   ]
  },
  {
   "cell_type": "markdown",
   "metadata": {},
   "source": [
    "### Load Data"
   ]
  },
  {
   "cell_type": "code",
   "execution_count": 14,
   "metadata": {},
   "outputs": [
    {
     "name": "stdout",
     "output_type": "stream",
     "text": [
      "../Results/Even/run1/pipeline_stats.txt\n",
      "Processing pipeline_stats.txt data from run1...\n",
      "../Results/Even/run2/pipeline_stats.txt\n",
      "Processing pipeline_stats.txt data from run2...\n",
      "../Results/Even/run3/pipeline_stats.txt\n",
      "Processing pipeline_stats.txt data from run3...\n"
     ]
    },
    {
     "data": {
      "text/html": [
       "<div>\n",
       "<style scoped>\n",
       "    .dataframe tbody tr th:only-of-type {\n",
       "        vertical-align: middle;\n",
       "    }\n",
       "\n",
       "    .dataframe tbody tr th {\n",
       "        vertical-align: top;\n",
       "    }\n",
       "\n",
       "    .dataframe thead th {\n",
       "        text-align: right;\n",
       "    }\n",
       "</style>\n",
       "<table border=\"1\" class=\"dataframe\">\n",
       "  <thead>\n",
       "    <tr style=\"text-align: right;\">\n",
       "      <th></th>\n",
       "      <th>sample</th>\n",
       "      <th>assembler</th>\n",
       "      <th>run</th>\n",
       "      <th>cpus</th>\n",
       "      <th>realtime</th>\n",
       "      <th>rss</th>\n",
       "      <th>rchar</th>\n",
       "      <th>wchar</th>\n",
       "      <th>distribution</th>\n",
       "      <th>time_hours</th>\n",
       "    </tr>\n",
       "  </thead>\n",
       "  <tbody>\n",
       "    <tr>\n",
       "      <th>0</th>\n",
       "      <td>ENN</td>\n",
       "      <td>BCALM2</td>\n",
       "      <td>run1</td>\n",
       "      <td>0.560800</td>\n",
       "      <td>144.0</td>\n",
       "      <td>5.1</td>\n",
       "      <td>5.9</td>\n",
       "      <td>3.4</td>\n",
       "      <td>Even</td>\n",
       "      <td>0.04</td>\n",
       "    </tr>\n",
       "    <tr>\n",
       "      <th>1</th>\n",
       "      <td>ENN</td>\n",
       "      <td>MINIA</td>\n",
       "      <td>run1</td>\n",
       "      <td>0.616594</td>\n",
       "      <td>164.0</td>\n",
       "      <td>5.1</td>\n",
       "      <td>6.5</td>\n",
       "      <td>3.5</td>\n",
       "      <td>Even</td>\n",
       "      <td>0.05</td>\n",
       "    </tr>\n",
       "    <tr>\n",
       "      <th>2</th>\n",
       "      <td>EMS</td>\n",
       "      <td>BCALM2</td>\n",
       "      <td>run1</td>\n",
       "      <td>0.734722</td>\n",
       "      <td>230.0</td>\n",
       "      <td>6.7</td>\n",
       "      <td>8.5</td>\n",
       "      <td>4.3</td>\n",
       "      <td>Even</td>\n",
       "      <td>0.06</td>\n",
       "    </tr>\n",
       "    <tr>\n",
       "      <th>3</th>\n",
       "      <td>EMS</td>\n",
       "      <td>MINIA</td>\n",
       "      <td>run1</td>\n",
       "      <td>0.789094</td>\n",
       "      <td>206.0</td>\n",
       "      <td>6.6</td>\n",
       "      <td>9.1</td>\n",
       "      <td>4.4</td>\n",
       "      <td>Even</td>\n",
       "      <td>0.06</td>\n",
       "    </tr>\n",
       "    <tr>\n",
       "      <th>4</th>\n",
       "      <td>ERR2984773</td>\n",
       "      <td>BCALM2</td>\n",
       "      <td>run1</td>\n",
       "      <td>1.016652</td>\n",
       "      <td>327.0</td>\n",
       "      <td>4.7</td>\n",
       "      <td>16.2</td>\n",
       "      <td>6.8</td>\n",
       "      <td>Even</td>\n",
       "      <td>0.09</td>\n",
       "    </tr>\n",
       "    <tr>\n",
       "      <th>...</th>\n",
       "      <td>...</td>\n",
       "      <td>...</td>\n",
       "      <td>...</td>\n",
       "      <td>...</td>\n",
       "      <td>...</td>\n",
       "      <td>...</td>\n",
       "      <td>...</td>\n",
       "      <td>...</td>\n",
       "      <td>...</td>\n",
       "      <td>...</td>\n",
       "    </tr>\n",
       "    <tr>\n",
       "      <th>118</th>\n",
       "      <td>EMS</td>\n",
       "      <td>Unicycler</td>\n",
       "      <td>run3</td>\n",
       "      <td>35.119713</td>\n",
       "      <td>37797.0</td>\n",
       "      <td>6.3</td>\n",
       "      <td>46.8</td>\n",
       "      <td>281.9</td>\n",
       "      <td>Even</td>\n",
       "      <td>10.50</td>\n",
       "    </tr>\n",
       "    <tr>\n",
       "      <th>119</th>\n",
       "      <td>ERR2984773</td>\n",
       "      <td>Unicycler</td>\n",
       "      <td>run3</td>\n",
       "      <td>60.384424</td>\n",
       "      <td>68738.0</td>\n",
       "      <td>14.1</td>\n",
       "      <td>48.0</td>\n",
       "      <td>555.6</td>\n",
       "      <td>Even</td>\n",
       "      <td>19.09</td>\n",
       "    </tr>\n",
       "    <tr>\n",
       "      <th>120</th>\n",
       "      <td>ERR2984773</td>\n",
       "      <td>AbYSS</td>\n",
       "      <td>run3</td>\n",
       "      <td>0.000000</td>\n",
       "      <td>3955.0</td>\n",
       "      <td>0.0</td>\n",
       "      <td>0.0</td>\n",
       "      <td>0.0</td>\n",
       "      <td>Even</td>\n",
       "      <td>1.10</td>\n",
       "    </tr>\n",
       "    <tr>\n",
       "      <th>121</th>\n",
       "      <td>ERR2984773</td>\n",
       "      <td>AbYSS</td>\n",
       "      <td>run3</td>\n",
       "      <td>0.000000</td>\n",
       "      <td>3933.0</td>\n",
       "      <td>0.0</td>\n",
       "      <td>0.0</td>\n",
       "      <td>0.0</td>\n",
       "      <td>Even</td>\n",
       "      <td>1.09</td>\n",
       "    </tr>\n",
       "    <tr>\n",
       "      <th>122</th>\n",
       "      <td>ERR2984773</td>\n",
       "      <td>AbYSS</td>\n",
       "      <td>run3</td>\n",
       "      <td>0.000000</td>\n",
       "      <td>3989.0</td>\n",
       "      <td>0.0</td>\n",
       "      <td>0.0</td>\n",
       "      <td>0.0</td>\n",
       "      <td>Even</td>\n",
       "      <td>1.11</td>\n",
       "    </tr>\n",
       "  </tbody>\n",
       "</table>\n",
       "<p>123 rows × 10 columns</p>\n",
       "</div>"
      ],
      "text/plain": [
       "         sample  assembler   run       cpus  realtime   rss  rchar  wchar  \\\n",
       "0           ENN     BCALM2  run1   0.560800     144.0   5.1    5.9    3.4   \n",
       "1           ENN      MINIA  run1   0.616594     164.0   5.1    6.5    3.5   \n",
       "2           EMS     BCALM2  run1   0.734722     230.0   6.7    8.5    4.3   \n",
       "3           EMS      MINIA  run1   0.789094     206.0   6.6    9.1    4.4   \n",
       "4    ERR2984773     BCALM2  run1   1.016652     327.0   4.7   16.2    6.8   \n",
       "..          ...        ...   ...        ...       ...   ...    ...    ...   \n",
       "118         EMS  Unicycler  run3  35.119713   37797.0   6.3   46.8  281.9   \n",
       "119  ERR2984773  Unicycler  run3  60.384424   68738.0  14.1   48.0  555.6   \n",
       "120  ERR2984773      AbYSS  run3   0.000000    3955.0   0.0    0.0    0.0   \n",
       "121  ERR2984773      AbYSS  run3   0.000000    3933.0   0.0    0.0    0.0   \n",
       "122  ERR2984773      AbYSS  run3   0.000000    3989.0   0.0    0.0    0.0   \n",
       "\n",
       "    distribution  time_hours  \n",
       "0           Even        0.04  \n",
       "1           Even        0.05  \n",
       "2           Even        0.06  \n",
       "3           Even        0.06  \n",
       "4           Even        0.09  \n",
       "..           ...         ...  \n",
       "118         Even       10.50  \n",
       "119         Even       19.09  \n",
       "120         Even        1.10  \n",
       "121         Even        1.09  \n",
       "122         Even        1.11  \n",
       "\n",
       "[123 rows x 10 columns]"
      ]
     },
     "metadata": {},
     "output_type": "display_data"
    }
   ],
   "source": [
    "pipeline_stats_glob = glob.glob('../Results/*/*/pipeline_stats.txt')\n",
    "pipeline_stats_df = pd.DataFrame(columns=METRICS_COLUMNS_PER_SAMPLE)\n",
    "METRICS_COLUMNS_PER_SAMPLE = ['sample', 'assembler', 'run', 'cpus', 'realtime', 'rss', 'rchar', 'wchar']\n",
    "\n",
    "\n",
    "for statsfile in pipeline_stats_glob:\n",
    "    print(statsfile)\n",
    "    stats_file_name = statsfile.split('/')[-1]\n",
    "    stats_run = statsfile.split('/')[-2]\n",
    "    print('Processing {0} data from {1}...'.format(stats_file_name, stats_run))\n",
    "    with open(statsfile) as tsvfile:\n",
    "        tsvreader = csv.reader(tsvfile, delimiter=\"\\t\")\n",
    "        for row in tsvreader:\n",
    "            if row[2] in ASSEMBLER_PROCESS_LIST:\n",
    "                pipeline_stats_df = pipeline_stats_df.append({'sample': row[3],\n",
    "                                                              'assembler': PROCESS_TO_NAME[row[2]],\n",
    "                                                              'run': stats_run,\n",
    "                                                              \"cpus\": _cpu_load_parser(row[8], row[15], row[13]),\n",
    "                                                              \"realtime\": _hms(row[13]),\n",
    "                                                              \"rss\": convert_resource_to_gb(_size_compress(_size_coverter(row[17]))),\n",
    "                                                              \"rchar\": convert_resource_to_gb(_size_compress(_size_coverter(row[19]))),\n",
    "                                                              \"wchar\": convert_resource_to_gb(_size_compress(_size_coverter(row[20])))},\n",
    "                                                             ignore_index=True)\n",
    "\n",
    "log_distributed = ['LHS', 'LNN', 'ERR2935805']\n",
    "even_distribution = ['EMS', 'LNN', 'ERR2984773']\n",
    "pipeline_stats_df['distribution'] = np.where(pipeline_stats_df['sample'].isin(log_distributed), 'Log', 'Even')\n",
    "pipeline_stats_df['time_hours']=round(pd.to_timedelta(pipeline_stats_df['realtime'], unit='S')/ np.timedelta64(1, 'h'), 2)\n",
    "display(pipeline_stats_df)               \n"
   ]
  },
  {
   "cell_type": "code",
   "execution_count": 15,
   "metadata": {},
   "outputs": [],
   "source": [
    "pipeline_stats_df.to_csv(\"Tables/Resources per sample per run\")"
   ]
  },
  {
   "cell_type": "markdown",
   "metadata": {},
   "source": [
    "###  Plot Data"
   ]
  },
  {
   "cell_type": "code",
   "execution_count": 16,
   "metadata": {},
   "outputs": [
    {
     "data": {
      "application/vnd.plotly.v1+json": {
       "config": {
        "plotlyServerURL": "https://plot.ly"
       },
       "data": [
        {
         "box": {
          "visible": true
         },
         "fillcolor": "lightseagreen",
         "legendgroup": "Log",
         "line": {
          "color": "black"
         },
         "meanline": {
          "visible": true
         },
         "name": "Log",
         "opacity": 0.6,
         "scalegroup": "Log",
         "showlegend": true,
         "side": "negative",
         "spanmode": "hard",
         "type": "violin",
         "x": [],
         "xaxis": "x",
         "y": [],
         "yaxis": "y"
        },
        {
         "box": {
          "visible": true
         },
         "fillcolor": "orange",
         "legendgroup": "Even",
         "line": {
          "color": "black"
         },
         "meanline": {
          "visible": true
         },
         "name": "Even",
         "opacity": 0.6,
         "scalegroup": "Even",
         "showlegend": true,
         "side": "positive",
         "spanmode": "hard",
         "type": "violin",
         "x": [
          "BCALM2",
          "MINIA",
          "BCALM2",
          "MINIA",
          "BCALM2",
          "MetaHipMer2",
          "MINIA",
          "MetaHipMer2",
          "MetaHipMer2",
          "SKESA",
          "MEGAHIT",
          "SKESA",
          "SKESA",
          "MEGAHIT",
          "SPAdes",
          "MEGAHIT",
          "metaSPAdes",
          "IDBA-UD",
          "IDBA-UD",
          "MetaHipMer2",
          "AbYSS",
          "GATBMiniaPipeline",
          "IDBA-UD",
          "metaSPAdes",
          "MetaHipMer2",
          "GATBMiniaPipeline",
          "MetaHipMer2",
          "SPAdes",
          "metaSPAdes",
          "VelvetOptimiser",
          "GATBMiniaPipeline",
          "SPAdes",
          "VelvetOptimiser",
          "VelvetOptimiser",
          "Unicycler",
          "AbYSS",
          "Unicycler",
          "Unicycler",
          "AbYSS",
          "AbYSS",
          "AbYSS",
          "BCALM2",
          "MINIA",
          "MetaHipMer2",
          "MetaHipMer2",
          "BCALM2",
          "MINIA",
          "MetaHipMer2",
          "BCALM2",
          "MINIA",
          "SKESA",
          "SKESA",
          "MEGAHIT",
          "MetaHipMer2",
          "SPAdes",
          "SKESA",
          "MetaHipMer2",
          "metaSPAdes",
          "MEGAHIT",
          "MetaHipMer2",
          "IDBA-UD",
          "MEGAHIT",
          "IDBA-UD",
          "IDBA-UD",
          "GATBMiniaPipeline",
          "metaSPAdes",
          "GATBMiniaPipeline",
          "AbYSS",
          "SPAdes",
          "VelvetOptimiser",
          "GATBMiniaPipeline",
          "metaSPAdes",
          "SPAdes",
          "VelvetOptimiser",
          "VelvetOptimiser",
          "Unicycler",
          "AbYSS",
          "Unicycler",
          "Unicycler",
          "AbYSS",
          "AbYSS",
          "AbYSS",
          "BCALM2",
          "BCALM2",
          "BCALM2",
          "MINIA",
          "MINIA",
          "MINIA",
          "MEGAHIT",
          "SKESA",
          "SKESA",
          "MEGAHIT",
          "SKESA",
          "MEGAHIT",
          "metaSPAdes",
          "SPAdes",
          "MetaHipMer2",
          "MetaHipMer2",
          "MetaHipMer2",
          "GATBMiniaPipeline",
          "AbYSS",
          "GATBMiniaPipeline",
          "IDBA-UD",
          "IDBA-UD",
          "metaSPAdes",
          "IDBA-UD",
          "SPAdes",
          "MetaHipMer2",
          "GATBMiniaPipeline",
          "metaSPAdes",
          "MetaHipMer2",
          "MetaHipMer2",
          "VelvetOptimiser",
          "SPAdes",
          "VelvetOptimiser",
          "VelvetOptimiser",
          "Unicycler",
          "AbYSS",
          "Unicycler",
          "Unicycler",
          "AbYSS",
          "AbYSS",
          "AbYSS"
         ],
         "xaxis": "x",
         "y": [
          0.5608,
          0.6165944444444444,
          0.7347222222222223,
          0.7890944444444444,
          1.0166520833333335,
          0.19830555555555554,
          1.6075972222222221,
          0.26435138888888887,
          0.23838958333333338,
          2.172229166666667,
          3.0711277777777775,
          2.485777777777778,
          3.6945111111111113,
          5.11601111111111,
          3.8445333333333336,
          5.27690625,
          4.280209027777778,
          6.520140277777778,
          7.335643750000001,
          8.01640138888889,
          12.006674999999998,
          19.312708333333333,
          11.466349305555555,
          10.089422222222222,
          14.61972847222222,
          22.438472222222224,
          20.43403541666667,
          11.643477083333334,
          13.252804166666666,
          12.740359027777778,
          31.45874722222222,
          13.36508611111111,
          17.441155555555554,
          18.893603472222225,
          17.487256944444447,
          156.49232500000002,
          34.43564930555555,
          61.24059027777778,
          0,
          0,
          95.57243124999998,
          0.5234340277777778,
          0.54325625,
          0.191475,
          0.18903333333333333,
          0.011547916666666665,
          0.7028458333333334,
          0.18412499999999998,
          1.0406666666666669,
          1.5186666666666666,
          2.1177916666666667,
          2.3858333333333337,
          3.4327631944444437,
          6.791805555555555,
          3.7515388888888888,
          3.510933333333333,
          8.613183333333334,
          4.433430555555555,
          5.929525,
          15.1636,
          7.361604166666666,
          5.0626875,
          5.8942097222222225,
          11.524358333333334,
          19.661493055555557,
          10.063622222222222,
          22.212916666666665,
          0.28170416666666664,
          11.496527777777777,
          12.614135416666667,
          29.972993055555552,
          14.81476736111111,
          13.06422361111111,
          0.3115451388888889,
          17.954918055555556,
          16.548690277777776,
          188.32357638888888,
          38.1801375,
          54.32359236111112,
          0,
          0,
          0,
          0.6993055555555555,
          0.5712777777777778,
          1.0226805555555556,
          0.8155736111111112,
          0.5691291666666667,
          1.571609722222222,
          3.4935,
          2.285675,
          2.2159479166666665,
          4.692683333333334,
          0.05812222222222222,
          6.555270833333333,
          4.714954166666667,
          3.8669583333333333,
          0.1644951388888889,
          0.19703125,
          0.18475625,
          19.95622291666667,
          15.50093888888889,
          21.613555555555553,
          6.8152638888888895,
          5.5436645833333325,
          10.332272222222223,
          11.177580555555556,
          10.405909722222223,
          5.991933333333333,
          29.868119444444442,
          13.571983333333334,
          8.163397222222223,
          15.803305555555555,
          13.437566666666667,
          14.186432638888888,
          17.9225,
          17.877291666666668,
          15.324381944444445,
          137.37860833333335,
          35.119712500000006,
          60.38442361111111,
          0,
          0,
          0
         ],
         "yaxis": "y"
        },
        {
         "line": {
          "color": "crimson"
         },
         "mode": "lines",
         "name": "mean",
         "opacity": 0.6,
         "showlegend": true,
         "type": "scatter",
         "x": [
          "BCALM2",
          "MINIA",
          "BCALM2",
          "MINIA",
          "BCALM2",
          "MetaHipMer2",
          "MINIA",
          "MetaHipMer2",
          "MetaHipMer2",
          "SKESA",
          "MEGAHIT",
          "SKESA",
          "SKESA",
          "MEGAHIT",
          "SPAdes",
          "MEGAHIT",
          "metaSPAdes",
          "IDBA-UD",
          "IDBA-UD",
          "MetaHipMer2",
          "AbYSS",
          "GATBMiniaPipeline",
          "IDBA-UD",
          "metaSPAdes",
          "MetaHipMer2",
          "GATBMiniaPipeline",
          "MetaHipMer2",
          "SPAdes",
          "metaSPAdes",
          "VelvetOptimiser",
          "GATBMiniaPipeline",
          "SPAdes",
          "VelvetOptimiser",
          "VelvetOptimiser",
          "Unicycler",
          "AbYSS",
          "Unicycler",
          "Unicycler",
          "AbYSS",
          "AbYSS",
          "AbYSS",
          "BCALM2",
          "MINIA",
          "MetaHipMer2",
          "MetaHipMer2",
          "BCALM2",
          "MINIA",
          "MetaHipMer2",
          "BCALM2",
          "MINIA",
          "SKESA",
          "SKESA",
          "MEGAHIT",
          "MetaHipMer2",
          "SPAdes",
          "SKESA",
          "MetaHipMer2",
          "metaSPAdes",
          "MEGAHIT",
          "MetaHipMer2",
          "IDBA-UD",
          "MEGAHIT",
          "IDBA-UD",
          "IDBA-UD",
          "GATBMiniaPipeline",
          "metaSPAdes",
          "GATBMiniaPipeline",
          "AbYSS",
          "SPAdes",
          "VelvetOptimiser",
          "GATBMiniaPipeline",
          "metaSPAdes",
          "SPAdes",
          "VelvetOptimiser",
          "VelvetOptimiser",
          "Unicycler",
          "AbYSS",
          "Unicycler",
          "Unicycler",
          "AbYSS",
          "AbYSS",
          "AbYSS",
          "BCALM2",
          "BCALM2",
          "BCALM2",
          "MINIA",
          "MINIA",
          "MINIA",
          "MEGAHIT",
          "SKESA",
          "SKESA",
          "MEGAHIT",
          "SKESA",
          "MEGAHIT",
          "metaSPAdes",
          "SPAdes",
          "MetaHipMer2",
          "MetaHipMer2",
          "MetaHipMer2",
          "GATBMiniaPipeline",
          "AbYSS",
          "GATBMiniaPipeline",
          "IDBA-UD",
          "IDBA-UD",
          "metaSPAdes",
          "IDBA-UD",
          "SPAdes",
          "MetaHipMer2",
          "GATBMiniaPipeline",
          "metaSPAdes",
          "MetaHipMer2",
          "MetaHipMer2",
          "VelvetOptimiser",
          "SPAdes",
          "VelvetOptimiser",
          "VelvetOptimiser",
          "Unicycler",
          "AbYSS",
          "Unicycler",
          "Unicycler",
          "AbYSS",
          "AbYSS",
          "AbYSS"
         ],
         "xaxis": "x",
         "y": [
          13.926732260614274,
          13.926732260614274,
          13.926732260614274,
          13.926732260614274,
          13.926732260614274,
          13.926732260614274,
          13.926732260614274,
          13.926732260614274,
          13.926732260614274,
          13.926732260614274,
          13.926732260614274,
          13.926732260614274,
          13.926732260614274,
          13.926732260614274,
          13.926732260614274,
          13.926732260614274,
          13.926732260614274,
          13.926732260614274,
          13.926732260614274,
          13.926732260614274,
          13.926732260614274,
          13.926732260614274,
          13.926732260614274,
          13.926732260614274,
          13.926732260614274,
          13.926732260614274,
          13.926732260614274,
          13.926732260614274,
          13.926732260614274,
          13.926732260614274,
          13.926732260614274,
          13.926732260614274,
          13.926732260614274,
          13.926732260614274,
          13.926732260614274,
          13.926732260614274,
          13.926732260614274,
          13.926732260614274,
          13.926732260614274,
          13.926732260614274,
          13.926732260614274,
          13.926732260614274,
          13.926732260614274,
          13.926732260614274,
          13.926732260614274,
          13.926732260614274,
          13.926732260614274,
          13.926732260614274,
          13.926732260614274,
          13.926732260614274,
          13.926732260614274,
          13.926732260614274,
          13.926732260614274,
          13.926732260614274,
          13.926732260614274,
          13.926732260614274,
          13.926732260614274,
          13.926732260614274,
          13.926732260614274,
          13.926732260614274,
          13.926732260614274,
          13.926732260614274,
          13.926732260614274,
          13.926732260614274,
          13.926732260614274,
          13.926732260614274,
          13.926732260614274,
          13.926732260614274,
          13.926732260614274,
          13.926732260614274,
          13.926732260614274,
          13.926732260614274,
          13.926732260614274,
          13.926732260614274,
          13.926732260614274,
          13.926732260614274,
          13.926732260614274,
          13.926732260614274,
          13.926732260614274,
          13.926732260614274,
          13.926732260614274,
          13.926732260614274,
          13.926732260614274,
          13.926732260614274,
          13.926732260614274,
          13.926732260614274,
          13.926732260614274,
          13.926732260614274,
          13.926732260614274,
          13.926732260614274,
          13.926732260614274,
          13.926732260614274,
          13.926732260614274,
          13.926732260614274,
          13.926732260614274,
          13.926732260614274,
          13.926732260614274,
          13.926732260614274,
          13.926732260614274,
          13.926732260614274,
          13.926732260614274,
          13.926732260614274,
          13.926732260614274,
          13.926732260614274,
          13.926732260614274,
          13.926732260614274,
          13.926732260614274,
          13.926732260614274,
          13.926732260614274,
          13.926732260614274,
          13.926732260614274,
          13.926732260614274,
          13.926732260614274,
          13.926732260614274,
          13.926732260614274,
          13.926732260614274,
          13.926732260614274,
          13.926732260614274,
          13.926732260614274,
          13.926732260614274,
          13.926732260614274,
          13.926732260614274,
          13.926732260614274
         ],
         "yaxis": "y"
        },
        {
         "box": {
          "visible": true
         },
         "fillcolor": "lightseagreen",
         "legendgroup": "Log",
         "line": {
          "color": "black"
         },
         "meanline": {
          "visible": true
         },
         "name": "Log",
         "opacity": 0.6,
         "scalegroup": "Log",
         "showlegend": false,
         "side": "negative",
         "spanmode": "hard",
         "type": "violin",
         "x": [],
         "xaxis": "x2",
         "y": [],
         "yaxis": "y2"
        },
        {
         "box": {
          "visible": true
         },
         "fillcolor": "orange",
         "legendgroup": "Even",
         "line": {
          "color": "black"
         },
         "meanline": {
          "visible": true
         },
         "name": "Even",
         "opacity": 0.6,
         "scalegroup": "Even",
         "showlegend": false,
         "side": "positive",
         "spanmode": "hard",
         "type": "violin",
         "x": [
          "BCALM2",
          "MINIA",
          "BCALM2",
          "MINIA",
          "BCALM2",
          "MetaHipMer2",
          "MINIA",
          "MetaHipMer2",
          "MetaHipMer2",
          "SKESA",
          "MEGAHIT",
          "SKESA",
          "SKESA",
          "MEGAHIT",
          "SPAdes",
          "MEGAHIT",
          "metaSPAdes",
          "IDBA-UD",
          "IDBA-UD",
          "MetaHipMer2",
          "AbYSS",
          "GATBMiniaPipeline",
          "IDBA-UD",
          "metaSPAdes",
          "MetaHipMer2",
          "GATBMiniaPipeline",
          "MetaHipMer2",
          "SPAdes",
          "metaSPAdes",
          "VelvetOptimiser",
          "GATBMiniaPipeline",
          "SPAdes",
          "VelvetOptimiser",
          "VelvetOptimiser",
          "Unicycler",
          "AbYSS",
          "Unicycler",
          "Unicycler",
          "AbYSS",
          "AbYSS",
          "AbYSS",
          "BCALM2",
          "MINIA",
          "MetaHipMer2",
          "MetaHipMer2",
          "BCALM2",
          "MINIA",
          "MetaHipMer2",
          "BCALM2",
          "MINIA",
          "SKESA",
          "SKESA",
          "MEGAHIT",
          "MetaHipMer2",
          "SPAdes",
          "SKESA",
          "MetaHipMer2",
          "metaSPAdes",
          "MEGAHIT",
          "MetaHipMer2",
          "IDBA-UD",
          "MEGAHIT",
          "IDBA-UD",
          "IDBA-UD",
          "GATBMiniaPipeline",
          "metaSPAdes",
          "GATBMiniaPipeline",
          "AbYSS",
          "SPAdes",
          "VelvetOptimiser",
          "GATBMiniaPipeline",
          "metaSPAdes",
          "SPAdes",
          "VelvetOptimiser",
          "VelvetOptimiser",
          "Unicycler",
          "AbYSS",
          "Unicycler",
          "Unicycler",
          "AbYSS",
          "AbYSS",
          "AbYSS",
          "BCALM2",
          "BCALM2",
          "BCALM2",
          "MINIA",
          "MINIA",
          "MINIA",
          "MEGAHIT",
          "SKESA",
          "SKESA",
          "MEGAHIT",
          "SKESA",
          "MEGAHIT",
          "metaSPAdes",
          "SPAdes",
          "MetaHipMer2",
          "MetaHipMer2",
          "MetaHipMer2",
          "GATBMiniaPipeline",
          "AbYSS",
          "GATBMiniaPipeline",
          "IDBA-UD",
          "IDBA-UD",
          "metaSPAdes",
          "IDBA-UD",
          "SPAdes",
          "MetaHipMer2",
          "GATBMiniaPipeline",
          "metaSPAdes",
          "MetaHipMer2",
          "MetaHipMer2",
          "VelvetOptimiser",
          "SPAdes",
          "VelvetOptimiser",
          "VelvetOptimiser",
          "Unicycler",
          "AbYSS",
          "Unicycler",
          "Unicycler",
          "AbYSS",
          "AbYSS",
          "AbYSS"
         ],
         "xaxis": "x2",
         "y": [
          5.1,
          5.1,
          6.7,
          6.6,
          4.7,
          32,
          4.8,
          31.9,
          32.1,
          16.1,
          1.7,
          17.8,
          17.8,
          2.1,
          4.6,
          2.1,
          4.6,
          5.7,
          6,
          56.9,
          2.9,
          6.8,
          10.4,
          4.9,
          57.3,
          6.8,
          60.4,
          4.6,
          6.2,
          27.3,
          5.7,
          6.5,
          31.9,
          31.9,
          4.6,
          3.3,
          6.5,
          13.8,
          0,
          0,
          3.6,
          5.1,
          5.1,
          32,
          32,
          6.7,
          6.6,
          32.9,
          4.6,
          4.8,
          16.1,
          17.8,
          1.7,
          56.8,
          4.6,
          17.8,
          57.3,
          4.6,
          2.1,
          60.1,
          6,
          2.1,
          5.6,
          10.4,
          6.9,
          4.6,
          6.8,
          3,
          4.6,
          26.6,
          5.6,
          6.9,
          6.8,
          31.9,
          31.9,
          4.7,
          3.2,
          6.3,
          13.9,
          0,
          0,
          0,
          6.6,
          5.1,
          4.8,
          6.6,
          5.1,
          4.8,
          1.7,
          17.8,
          16.1,
          2.1,
          17.8,
          2.1,
          4.6,
          4.6,
          32,
          31.8,
          32,
          6.8,
          3,
          6.7,
          6,
          5.6,
          5.6,
          10.4,
          4.6,
          57,
          5.6,
          6.5,
          57.2,
          60.4,
          27.1,
          5.7,
          31.9,
          31.9,
          4.6,
          3.2,
          6.3,
          14.1,
          0,
          0,
          0
         ],
         "yaxis": "y2"
        },
        {
         "line": {
          "color": "crimson"
         },
         "mode": "lines",
         "name": "mean",
         "opacity": 0.6,
         "showlegend": false,
         "type": "scatter",
         "x": [
          "BCALM2",
          "MINIA",
          "BCALM2",
          "MINIA",
          "BCALM2",
          "MetaHipMer2",
          "MINIA",
          "MetaHipMer2",
          "MetaHipMer2",
          "SKESA",
          "MEGAHIT",
          "SKESA",
          "SKESA",
          "MEGAHIT",
          "SPAdes",
          "MEGAHIT",
          "metaSPAdes",
          "IDBA-UD",
          "IDBA-UD",
          "MetaHipMer2",
          "AbYSS",
          "GATBMiniaPipeline",
          "IDBA-UD",
          "metaSPAdes",
          "MetaHipMer2",
          "GATBMiniaPipeline",
          "MetaHipMer2",
          "SPAdes",
          "metaSPAdes",
          "VelvetOptimiser",
          "GATBMiniaPipeline",
          "SPAdes",
          "VelvetOptimiser",
          "VelvetOptimiser",
          "Unicycler",
          "AbYSS",
          "Unicycler",
          "Unicycler",
          "AbYSS",
          "AbYSS",
          "AbYSS",
          "BCALM2",
          "MINIA",
          "MetaHipMer2",
          "MetaHipMer2",
          "BCALM2",
          "MINIA",
          "MetaHipMer2",
          "BCALM2",
          "MINIA",
          "SKESA",
          "SKESA",
          "MEGAHIT",
          "MetaHipMer2",
          "SPAdes",
          "SKESA",
          "MetaHipMer2",
          "metaSPAdes",
          "MEGAHIT",
          "MetaHipMer2",
          "IDBA-UD",
          "MEGAHIT",
          "IDBA-UD",
          "IDBA-UD",
          "GATBMiniaPipeline",
          "metaSPAdes",
          "GATBMiniaPipeline",
          "AbYSS",
          "SPAdes",
          "VelvetOptimiser",
          "GATBMiniaPipeline",
          "metaSPAdes",
          "SPAdes",
          "VelvetOptimiser",
          "VelvetOptimiser",
          "Unicycler",
          "AbYSS",
          "Unicycler",
          "Unicycler",
          "AbYSS",
          "AbYSS",
          "AbYSS",
          "BCALM2",
          "BCALM2",
          "BCALM2",
          "MINIA",
          "MINIA",
          "MINIA",
          "MEGAHIT",
          "SKESA",
          "SKESA",
          "MEGAHIT",
          "SKESA",
          "MEGAHIT",
          "metaSPAdes",
          "SPAdes",
          "MetaHipMer2",
          "MetaHipMer2",
          "MetaHipMer2",
          "GATBMiniaPipeline",
          "AbYSS",
          "GATBMiniaPipeline",
          "IDBA-UD",
          "IDBA-UD",
          "metaSPAdes",
          "IDBA-UD",
          "SPAdes",
          "MetaHipMer2",
          "GATBMiniaPipeline",
          "metaSPAdes",
          "MetaHipMer2",
          "MetaHipMer2",
          "VelvetOptimiser",
          "SPAdes",
          "VelvetOptimiser",
          "VelvetOptimiser",
          "Unicycler",
          "AbYSS",
          "Unicycler",
          "Unicycler",
          "AbYSS",
          "AbYSS",
          "AbYSS"
         ],
         "xaxis": "x2",
         "y": [
          13.59430894308943,
          13.59430894308943,
          13.59430894308943,
          13.59430894308943,
          13.59430894308943,
          13.59430894308943,
          13.59430894308943,
          13.59430894308943,
          13.59430894308943,
          13.59430894308943,
          13.59430894308943,
          13.59430894308943,
          13.59430894308943,
          13.59430894308943,
          13.59430894308943,
          13.59430894308943,
          13.59430894308943,
          13.59430894308943,
          13.59430894308943,
          13.59430894308943,
          13.59430894308943,
          13.59430894308943,
          13.59430894308943,
          13.59430894308943,
          13.59430894308943,
          13.59430894308943,
          13.59430894308943,
          13.59430894308943,
          13.59430894308943,
          13.59430894308943,
          13.59430894308943,
          13.59430894308943,
          13.59430894308943,
          13.59430894308943,
          13.59430894308943,
          13.59430894308943,
          13.59430894308943,
          13.59430894308943,
          13.59430894308943,
          13.59430894308943,
          13.59430894308943,
          13.59430894308943,
          13.59430894308943,
          13.59430894308943,
          13.59430894308943,
          13.59430894308943,
          13.59430894308943,
          13.59430894308943,
          13.59430894308943,
          13.59430894308943,
          13.59430894308943,
          13.59430894308943,
          13.59430894308943,
          13.59430894308943,
          13.59430894308943,
          13.59430894308943,
          13.59430894308943,
          13.59430894308943,
          13.59430894308943,
          13.59430894308943,
          13.59430894308943,
          13.59430894308943,
          13.59430894308943,
          13.59430894308943,
          13.59430894308943,
          13.59430894308943,
          13.59430894308943,
          13.59430894308943,
          13.59430894308943,
          13.59430894308943,
          13.59430894308943,
          13.59430894308943,
          13.59430894308943,
          13.59430894308943,
          13.59430894308943,
          13.59430894308943,
          13.59430894308943,
          13.59430894308943,
          13.59430894308943,
          13.59430894308943,
          13.59430894308943,
          13.59430894308943,
          13.59430894308943,
          13.59430894308943,
          13.59430894308943,
          13.59430894308943,
          13.59430894308943,
          13.59430894308943,
          13.59430894308943,
          13.59430894308943,
          13.59430894308943,
          13.59430894308943,
          13.59430894308943,
          13.59430894308943,
          13.59430894308943,
          13.59430894308943,
          13.59430894308943,
          13.59430894308943,
          13.59430894308943,
          13.59430894308943,
          13.59430894308943,
          13.59430894308943,
          13.59430894308943,
          13.59430894308943,
          13.59430894308943,
          13.59430894308943,
          13.59430894308943,
          13.59430894308943,
          13.59430894308943,
          13.59430894308943,
          13.59430894308943,
          13.59430894308943,
          13.59430894308943,
          13.59430894308943,
          13.59430894308943,
          13.59430894308943,
          13.59430894308943,
          13.59430894308943,
          13.59430894308943,
          13.59430894308943,
          13.59430894308943,
          13.59430894308943,
          13.59430894308943
         ],
         "yaxis": "y2"
        },
        {
         "box": {
          "visible": true
         },
         "fillcolor": "lightseagreen",
         "legendgroup": "Log",
         "line": {
          "color": "black"
         },
         "meanline": {
          "visible": true
         },
         "name": "Log",
         "opacity": 0.6,
         "scalegroup": "Log",
         "showlegend": false,
         "side": "negative",
         "spanmode": "hard",
         "type": "violin",
         "x": [],
         "xaxis": "x3",
         "y": [],
         "yaxis": "y3"
        },
        {
         "box": {
          "visible": true
         },
         "fillcolor": "orange",
         "legendgroup": "Even",
         "line": {
          "color": "black"
         },
         "meanline": {
          "visible": true
         },
         "name": "Even",
         "opacity": 0.6,
         "scalegroup": "Even",
         "showlegend": false,
         "side": "positive",
         "spanmode": "hard",
         "type": "violin",
         "x": [
          "BCALM2",
          "MINIA",
          "BCALM2",
          "MINIA",
          "BCALM2",
          "MetaHipMer2",
          "MINIA",
          "MetaHipMer2",
          "MetaHipMer2",
          "SKESA",
          "MEGAHIT",
          "SKESA",
          "SKESA",
          "MEGAHIT",
          "SPAdes",
          "MEGAHIT",
          "metaSPAdes",
          "IDBA-UD",
          "IDBA-UD",
          "MetaHipMer2",
          "AbYSS",
          "GATBMiniaPipeline",
          "IDBA-UD",
          "metaSPAdes",
          "MetaHipMer2",
          "GATBMiniaPipeline",
          "MetaHipMer2",
          "SPAdes",
          "metaSPAdes",
          "VelvetOptimiser",
          "GATBMiniaPipeline",
          "SPAdes",
          "VelvetOptimiser",
          "VelvetOptimiser",
          "Unicycler",
          "AbYSS",
          "Unicycler",
          "Unicycler",
          "AbYSS",
          "AbYSS",
          "AbYSS",
          "BCALM2",
          "MINIA",
          "MetaHipMer2",
          "MetaHipMer2",
          "BCALM2",
          "MINIA",
          "MetaHipMer2",
          "BCALM2",
          "MINIA",
          "SKESA",
          "SKESA",
          "MEGAHIT",
          "MetaHipMer2",
          "SPAdes",
          "SKESA",
          "MetaHipMer2",
          "metaSPAdes",
          "MEGAHIT",
          "MetaHipMer2",
          "IDBA-UD",
          "MEGAHIT",
          "IDBA-UD",
          "IDBA-UD",
          "GATBMiniaPipeline",
          "metaSPAdes",
          "GATBMiniaPipeline",
          "AbYSS",
          "SPAdes",
          "VelvetOptimiser",
          "GATBMiniaPipeline",
          "metaSPAdes",
          "SPAdes",
          "VelvetOptimiser",
          "VelvetOptimiser",
          "Unicycler",
          "AbYSS",
          "Unicycler",
          "Unicycler",
          "AbYSS",
          "AbYSS",
          "AbYSS",
          "BCALM2",
          "BCALM2",
          "BCALM2",
          "MINIA",
          "MINIA",
          "MINIA",
          "MEGAHIT",
          "SKESA",
          "SKESA",
          "MEGAHIT",
          "SKESA",
          "MEGAHIT",
          "metaSPAdes",
          "SPAdes",
          "MetaHipMer2",
          "MetaHipMer2",
          "MetaHipMer2",
          "GATBMiniaPipeline",
          "AbYSS",
          "GATBMiniaPipeline",
          "IDBA-UD",
          "IDBA-UD",
          "metaSPAdes",
          "IDBA-UD",
          "SPAdes",
          "MetaHipMer2",
          "GATBMiniaPipeline",
          "metaSPAdes",
          "MetaHipMer2",
          "MetaHipMer2",
          "VelvetOptimiser",
          "SPAdes",
          "VelvetOptimiser",
          "VelvetOptimiser",
          "Unicycler",
          "AbYSS",
          "Unicycler",
          "Unicycler",
          "AbYSS",
          "AbYSS",
          "AbYSS"
         ],
         "xaxis": "x3",
         "y": [
          5.9,
          6.5,
          8.5,
          9.1,
          16.2,
          4.9,
          17.3,
          6.3,
          5.8,
          0.3685,
          16.5,
          0.9135,
          0.8847999999999999,
          20.6,
          9.6,
          22.3,
          12.6,
          5.3,
          5.8,
          5,
          25.1,
          40.5,
          8.8,
          15.8,
          5.9,
          61.4,
          6.4,
          15.7,
          16.2,
          236.1,
          89.7,
          15.9,
          283.9,
          218.7,
          36.2,
          33.3,
          46.8,
          48,
          0,
          0,
          36.8,
          5.9,
          6.5,
          6.3,
          5.8,
          8.5,
          9.1,
          4.9,
          16.2,
          17.3,
          0.3685,
          0.9135,
          16.5,
          5,
          9.6,
          0.8847999999999999,
          5.9,
          12.6,
          22.3,
          6.4,
          5.8,
          20.6,
          5.3,
          8.8,
          47.6,
          15.8,
          63.9,
          25,
          15.7,
          236.1,
          96.8,
          16.2,
          15.9,
          283.9,
          216.7,
          36.2,
          33.3,
          46.8,
          48,
          0,
          0,
          0,
          8.5,
          5.9,
          16.2,
          9.1,
          6.5,
          17.3,
          16.5,
          0.9135,
          0.3685,
          20.6,
          0.8847999999999999,
          22.3,
          12.6,
          9.6,
          4.9,
          6.3,
          5.8,
          50.9,
          25.1,
          46,
          5.8,
          5.3,
          15.8,
          8.8,
          15.7,
          5,
          88.7,
          16.2,
          5.9,
          6.4,
          236.1,
          15.9,
          283.9,
          221.9,
          36.2,
          33.3,
          46.8,
          48,
          0,
          0,
          0
         ],
         "yaxis": "y3"
        },
        {
         "line": {
          "color": "crimson"
         },
         "mode": "lines",
         "name": "mean",
         "opacity": 0.6,
         "showlegend": false,
         "type": "scatter",
         "x": [
          "BCALM2",
          "MINIA",
          "BCALM2",
          "MINIA",
          "BCALM2",
          "MetaHipMer2",
          "MINIA",
          "MetaHipMer2",
          "MetaHipMer2",
          "SKESA",
          "MEGAHIT",
          "SKESA",
          "SKESA",
          "MEGAHIT",
          "SPAdes",
          "MEGAHIT",
          "metaSPAdes",
          "IDBA-UD",
          "IDBA-UD",
          "MetaHipMer2",
          "AbYSS",
          "GATBMiniaPipeline",
          "IDBA-UD",
          "metaSPAdes",
          "MetaHipMer2",
          "GATBMiniaPipeline",
          "MetaHipMer2",
          "SPAdes",
          "metaSPAdes",
          "VelvetOptimiser",
          "GATBMiniaPipeline",
          "SPAdes",
          "VelvetOptimiser",
          "VelvetOptimiser",
          "Unicycler",
          "AbYSS",
          "Unicycler",
          "Unicycler",
          "AbYSS",
          "AbYSS",
          "AbYSS",
          "BCALM2",
          "MINIA",
          "MetaHipMer2",
          "MetaHipMer2",
          "BCALM2",
          "MINIA",
          "MetaHipMer2",
          "BCALM2",
          "MINIA",
          "SKESA",
          "SKESA",
          "MEGAHIT",
          "MetaHipMer2",
          "SPAdes",
          "SKESA",
          "MetaHipMer2",
          "metaSPAdes",
          "MEGAHIT",
          "MetaHipMer2",
          "IDBA-UD",
          "MEGAHIT",
          "IDBA-UD",
          "IDBA-UD",
          "GATBMiniaPipeline",
          "metaSPAdes",
          "GATBMiniaPipeline",
          "AbYSS",
          "SPAdes",
          "VelvetOptimiser",
          "GATBMiniaPipeline",
          "metaSPAdes",
          "SPAdes",
          "VelvetOptimiser",
          "VelvetOptimiser",
          "Unicycler",
          "AbYSS",
          "Unicycler",
          "Unicycler",
          "AbYSS",
          "AbYSS",
          "AbYSS",
          "BCALM2",
          "BCALM2",
          "BCALM2",
          "MINIA",
          "MINIA",
          "MINIA",
          "MEGAHIT",
          "SKESA",
          "SKESA",
          "MEGAHIT",
          "SKESA",
          "MEGAHIT",
          "metaSPAdes",
          "SPAdes",
          "MetaHipMer2",
          "MetaHipMer2",
          "MetaHipMer2",
          "GATBMiniaPipeline",
          "AbYSS",
          "GATBMiniaPipeline",
          "IDBA-UD",
          "IDBA-UD",
          "metaSPAdes",
          "IDBA-UD",
          "SPAdes",
          "MetaHipMer2",
          "GATBMiniaPipeline",
          "metaSPAdes",
          "MetaHipMer2",
          "MetaHipMer2",
          "VelvetOptimiser",
          "SPAdes",
          "VelvetOptimiser",
          "VelvetOptimiser",
          "Unicycler",
          "AbYSS",
          "Unicycler",
          "Unicycler",
          "AbYSS",
          "AbYSS",
          "AbYSS"
         ],
         "xaxis": "x3",
         "y": [
          34.16992195121951,
          34.16992195121951,
          34.16992195121951,
          34.16992195121951,
          34.16992195121951,
          34.16992195121951,
          34.16992195121951,
          34.16992195121951,
          34.16992195121951,
          34.16992195121951,
          34.16992195121951,
          34.16992195121951,
          34.16992195121951,
          34.16992195121951,
          34.16992195121951,
          34.16992195121951,
          34.16992195121951,
          34.16992195121951,
          34.16992195121951,
          34.16992195121951,
          34.16992195121951,
          34.16992195121951,
          34.16992195121951,
          34.16992195121951,
          34.16992195121951,
          34.16992195121951,
          34.16992195121951,
          34.16992195121951,
          34.16992195121951,
          34.16992195121951,
          34.16992195121951,
          34.16992195121951,
          34.16992195121951,
          34.16992195121951,
          34.16992195121951,
          34.16992195121951,
          34.16992195121951,
          34.16992195121951,
          34.16992195121951,
          34.16992195121951,
          34.16992195121951,
          34.16992195121951,
          34.16992195121951,
          34.16992195121951,
          34.16992195121951,
          34.16992195121951,
          34.16992195121951,
          34.16992195121951,
          34.16992195121951,
          34.16992195121951,
          34.16992195121951,
          34.16992195121951,
          34.16992195121951,
          34.16992195121951,
          34.16992195121951,
          34.16992195121951,
          34.16992195121951,
          34.16992195121951,
          34.16992195121951,
          34.16992195121951,
          34.16992195121951,
          34.16992195121951,
          34.16992195121951,
          34.16992195121951,
          34.16992195121951,
          34.16992195121951,
          34.16992195121951,
          34.16992195121951,
          34.16992195121951,
          34.16992195121951,
          34.16992195121951,
          34.16992195121951,
          34.16992195121951,
          34.16992195121951,
          34.16992195121951,
          34.16992195121951,
          34.16992195121951,
          34.16992195121951,
          34.16992195121951,
          34.16992195121951,
          34.16992195121951,
          34.16992195121951,
          34.16992195121951,
          34.16992195121951,
          34.16992195121951,
          34.16992195121951,
          34.16992195121951,
          34.16992195121951,
          34.16992195121951,
          34.16992195121951,
          34.16992195121951,
          34.16992195121951,
          34.16992195121951,
          34.16992195121951,
          34.16992195121951,
          34.16992195121951,
          34.16992195121951,
          34.16992195121951,
          34.16992195121951,
          34.16992195121951,
          34.16992195121951,
          34.16992195121951,
          34.16992195121951,
          34.16992195121951,
          34.16992195121951,
          34.16992195121951,
          34.16992195121951,
          34.16992195121951,
          34.16992195121951,
          34.16992195121951,
          34.16992195121951,
          34.16992195121951,
          34.16992195121951,
          34.16992195121951,
          34.16992195121951,
          34.16992195121951,
          34.16992195121951,
          34.16992195121951,
          34.16992195121951,
          34.16992195121951,
          34.16992195121951,
          34.16992195121951,
          34.16992195121951
         ],
         "yaxis": "y3"
        },
        {
         "box": {
          "visible": true
         },
         "fillcolor": "lightseagreen",
         "legendgroup": "Log",
         "line": {
          "color": "black"
         },
         "meanline": {
          "visible": true
         },
         "name": "Log",
         "opacity": 0.6,
         "scalegroup": "Log",
         "showlegend": false,
         "side": "negative",
         "spanmode": "hard",
         "type": "violin",
         "x": [],
         "xaxis": "x4",
         "y": [],
         "yaxis": "y4"
        },
        {
         "box": {
          "visible": true
         },
         "fillcolor": "orange",
         "legendgroup": "Even",
         "line": {
          "color": "black"
         },
         "meanline": {
          "visible": true
         },
         "name": "Even",
         "opacity": 0.6,
         "scalegroup": "Even",
         "showlegend": false,
         "side": "positive",
         "spanmode": "hard",
         "type": "violin",
         "x": [
          "BCALM2",
          "MINIA",
          "BCALM2",
          "MINIA",
          "BCALM2",
          "MetaHipMer2",
          "MINIA",
          "MetaHipMer2",
          "MetaHipMer2",
          "SKESA",
          "MEGAHIT",
          "SKESA",
          "SKESA",
          "MEGAHIT",
          "SPAdes",
          "MEGAHIT",
          "metaSPAdes",
          "IDBA-UD",
          "IDBA-UD",
          "MetaHipMer2",
          "AbYSS",
          "GATBMiniaPipeline",
          "IDBA-UD",
          "metaSPAdes",
          "MetaHipMer2",
          "GATBMiniaPipeline",
          "MetaHipMer2",
          "SPAdes",
          "metaSPAdes",
          "VelvetOptimiser",
          "GATBMiniaPipeline",
          "SPAdes",
          "VelvetOptimiser",
          "VelvetOptimiser",
          "Unicycler",
          "AbYSS",
          "Unicycler",
          "Unicycler",
          "AbYSS",
          "AbYSS",
          "AbYSS",
          "BCALM2",
          "MINIA",
          "MetaHipMer2",
          "MetaHipMer2",
          "BCALM2",
          "MINIA",
          "MetaHipMer2",
          "BCALM2",
          "MINIA",
          "SKESA",
          "SKESA",
          "MEGAHIT",
          "MetaHipMer2",
          "SPAdes",
          "SKESA",
          "MetaHipMer2",
          "metaSPAdes",
          "MEGAHIT",
          "MetaHipMer2",
          "IDBA-UD",
          "MEGAHIT",
          "IDBA-UD",
          "IDBA-UD",
          "GATBMiniaPipeline",
          "metaSPAdes",
          "GATBMiniaPipeline",
          "AbYSS",
          "SPAdes",
          "VelvetOptimiser",
          "GATBMiniaPipeline",
          "metaSPAdes",
          "SPAdes",
          "VelvetOptimiser",
          "VelvetOptimiser",
          "Unicycler",
          "AbYSS",
          "Unicycler",
          "Unicycler",
          "AbYSS",
          "AbYSS",
          "AbYSS",
          "BCALM2",
          "BCALM2",
          "BCALM2",
          "MINIA",
          "MINIA",
          "MINIA",
          "MEGAHIT",
          "SKESA",
          "SKESA",
          "MEGAHIT",
          "SKESA",
          "MEGAHIT",
          "metaSPAdes",
          "SPAdes",
          "MetaHipMer2",
          "MetaHipMer2",
          "MetaHipMer2",
          "GATBMiniaPipeline",
          "AbYSS",
          "GATBMiniaPipeline",
          "IDBA-UD",
          "IDBA-UD",
          "metaSPAdes",
          "IDBA-UD",
          "SPAdes",
          "MetaHipMer2",
          "GATBMiniaPipeline",
          "metaSPAdes",
          "MetaHipMer2",
          "MetaHipMer2",
          "VelvetOptimiser",
          "SPAdes",
          "VelvetOptimiser",
          "VelvetOptimiser",
          "Unicycler",
          "AbYSS",
          "Unicycler",
          "Unicycler",
          "AbYSS",
          "AbYSS",
          "AbYSS"
         ],
         "xaxis": "x4",
         "y": [
          3.4,
          3.5,
          4.3,
          4.4,
          6.8,
          4.4,
          6.8,
          4.1,
          5.2,
          0.0288,
          6.9,
          0.0289,
          0.0291,
          8,
          11.2,
          9.5,
          11.3,
          2.5,
          2.6,
          4.7,
          21.9,
          16,
          5,
          31.8,
          5.7,
          19.5,
          5.8,
          53.2,
          57.7,
          29.3,
          28.2,
          96.3,
          34.8,
          44.3,
          93.8,
          25.4,
          281.9,
          555.6,
          0,
          0,
          28,
          3.4,
          3.5,
          4.1,
          5.2,
          4.3,
          4.4,
          4.4,
          6.8,
          6.8,
          0.0288,
          0.0289,
          6.9,
          4.7,
          11.2,
          0.0291,
          5.7,
          11.3,
          9.5,
          5.8,
          2.6,
          8,
          2.5,
          5,
          16.1,
          31.8,
          19.5,
          21.9,
          53.2,
          29.3,
          28.2,
          57.7,
          96.3,
          34.8,
          43.2,
          93.8,
          25.4,
          281.9,
          555.6,
          0,
          0,
          0,
          4.3,
          3.4,
          6.8,
          4.4,
          3.5,
          6.8,
          6.9,
          0.0289,
          0.0288,
          8,
          0.0291,
          9.5,
          11.3,
          11.2,
          4.4,
          4.1,
          5.2,
          16.1,
          21.9,
          19.4,
          2.6,
          2.5,
          31.8,
          5,
          53.2,
          4.7,
          28.2,
          57.7,
          5.7,
          5.8,
          29.3,
          96.3,
          34.8,
          46.1,
          93.8,
          25.4,
          281.9,
          555.6,
          0,
          0,
          0
         ],
         "yaxis": "y4"
        },
        {
         "line": {
          "color": "crimson"
         },
         "mode": "lines",
         "name": "mean",
         "opacity": 0.6,
         "showlegend": false,
         "type": "scatter",
         "x": [
          "BCALM2",
          "MINIA",
          "BCALM2",
          "MINIA",
          "BCALM2",
          "MetaHipMer2",
          "MINIA",
          "MetaHipMer2",
          "MetaHipMer2",
          "SKESA",
          "MEGAHIT",
          "SKESA",
          "SKESA",
          "MEGAHIT",
          "SPAdes",
          "MEGAHIT",
          "metaSPAdes",
          "IDBA-UD",
          "IDBA-UD",
          "MetaHipMer2",
          "AbYSS",
          "GATBMiniaPipeline",
          "IDBA-UD",
          "metaSPAdes",
          "MetaHipMer2",
          "GATBMiniaPipeline",
          "MetaHipMer2",
          "SPAdes",
          "metaSPAdes",
          "VelvetOptimiser",
          "GATBMiniaPipeline",
          "SPAdes",
          "VelvetOptimiser",
          "VelvetOptimiser",
          "Unicycler",
          "AbYSS",
          "Unicycler",
          "Unicycler",
          "AbYSS",
          "AbYSS",
          "AbYSS",
          "BCALM2",
          "MINIA",
          "MetaHipMer2",
          "MetaHipMer2",
          "BCALM2",
          "MINIA",
          "MetaHipMer2",
          "BCALM2",
          "MINIA",
          "SKESA",
          "SKESA",
          "MEGAHIT",
          "MetaHipMer2",
          "SPAdes",
          "SKESA",
          "MetaHipMer2",
          "metaSPAdes",
          "MEGAHIT",
          "MetaHipMer2",
          "IDBA-UD",
          "MEGAHIT",
          "IDBA-UD",
          "IDBA-UD",
          "GATBMiniaPipeline",
          "metaSPAdes",
          "GATBMiniaPipeline",
          "AbYSS",
          "SPAdes",
          "VelvetOptimiser",
          "GATBMiniaPipeline",
          "metaSPAdes",
          "SPAdes",
          "VelvetOptimiser",
          "VelvetOptimiser",
          "Unicycler",
          "AbYSS",
          "Unicycler",
          "Unicycler",
          "AbYSS",
          "AbYSS",
          "AbYSS",
          "BCALM2",
          "BCALM2",
          "BCALM2",
          "MINIA",
          "MINIA",
          "MINIA",
          "MEGAHIT",
          "SKESA",
          "SKESA",
          "MEGAHIT",
          "SKESA",
          "MEGAHIT",
          "metaSPAdes",
          "SPAdes",
          "MetaHipMer2",
          "MetaHipMer2",
          "MetaHipMer2",
          "GATBMiniaPipeline",
          "AbYSS",
          "GATBMiniaPipeline",
          "IDBA-UD",
          "IDBA-UD",
          "metaSPAdes",
          "IDBA-UD",
          "SPAdes",
          "MetaHipMer2",
          "GATBMiniaPipeline",
          "metaSPAdes",
          "MetaHipMer2",
          "MetaHipMer2",
          "VelvetOptimiser",
          "SPAdes",
          "VelvetOptimiser",
          "VelvetOptimiser",
          "Unicycler",
          "AbYSS",
          "Unicycler",
          "Unicycler",
          "AbYSS",
          "AbYSS",
          "AbYSS"
         ],
         "xaxis": "x4",
         "y": [
          36.96309268292683,
          36.96309268292683,
          36.96309268292683,
          36.96309268292683,
          36.96309268292683,
          36.96309268292683,
          36.96309268292683,
          36.96309268292683,
          36.96309268292683,
          36.96309268292683,
          36.96309268292683,
          36.96309268292683,
          36.96309268292683,
          36.96309268292683,
          36.96309268292683,
          36.96309268292683,
          36.96309268292683,
          36.96309268292683,
          36.96309268292683,
          36.96309268292683,
          36.96309268292683,
          36.96309268292683,
          36.96309268292683,
          36.96309268292683,
          36.96309268292683,
          36.96309268292683,
          36.96309268292683,
          36.96309268292683,
          36.96309268292683,
          36.96309268292683,
          36.96309268292683,
          36.96309268292683,
          36.96309268292683,
          36.96309268292683,
          36.96309268292683,
          36.96309268292683,
          36.96309268292683,
          36.96309268292683,
          36.96309268292683,
          36.96309268292683,
          36.96309268292683,
          36.96309268292683,
          36.96309268292683,
          36.96309268292683,
          36.96309268292683,
          36.96309268292683,
          36.96309268292683,
          36.96309268292683,
          36.96309268292683,
          36.96309268292683,
          36.96309268292683,
          36.96309268292683,
          36.96309268292683,
          36.96309268292683,
          36.96309268292683,
          36.96309268292683,
          36.96309268292683,
          36.96309268292683,
          36.96309268292683,
          36.96309268292683,
          36.96309268292683,
          36.96309268292683,
          36.96309268292683,
          36.96309268292683,
          36.96309268292683,
          36.96309268292683,
          36.96309268292683,
          36.96309268292683,
          36.96309268292683,
          36.96309268292683,
          36.96309268292683,
          36.96309268292683,
          36.96309268292683,
          36.96309268292683,
          36.96309268292683,
          36.96309268292683,
          36.96309268292683,
          36.96309268292683,
          36.96309268292683,
          36.96309268292683,
          36.96309268292683,
          36.96309268292683,
          36.96309268292683,
          36.96309268292683,
          36.96309268292683,
          36.96309268292683,
          36.96309268292683,
          36.96309268292683,
          36.96309268292683,
          36.96309268292683,
          36.96309268292683,
          36.96309268292683,
          36.96309268292683,
          36.96309268292683,
          36.96309268292683,
          36.96309268292683,
          36.96309268292683,
          36.96309268292683,
          36.96309268292683,
          36.96309268292683,
          36.96309268292683,
          36.96309268292683,
          36.96309268292683,
          36.96309268292683,
          36.96309268292683,
          36.96309268292683,
          36.96309268292683,
          36.96309268292683,
          36.96309268292683,
          36.96309268292683,
          36.96309268292683,
          36.96309268292683,
          36.96309268292683,
          36.96309268292683,
          36.96309268292683,
          36.96309268292683,
          36.96309268292683,
          36.96309268292683,
          36.96309268292683,
          36.96309268292683,
          36.96309268292683,
          36.96309268292683,
          36.96309268292683
         ],
         "yaxis": "y4"
        },
        {
         "box": {
          "visible": true
         },
         "fillcolor": "lightseagreen",
         "legendgroup": "Log",
         "line": {
          "color": "black"
         },
         "meanline": {
          "visible": true
         },
         "name": "Log",
         "opacity": 0.6,
         "scalegroup": "Log",
         "showlegend": false,
         "side": "negative",
         "spanmode": "hard",
         "type": "violin",
         "x": [],
         "xaxis": "x5",
         "y": [],
         "yaxis": "y5"
        },
        {
         "box": {
          "visible": true
         },
         "fillcolor": "orange",
         "legendgroup": "Even",
         "line": {
          "color": "black"
         },
         "meanline": {
          "visible": true
         },
         "name": "Even",
         "opacity": 0.6,
         "scalegroup": "Even",
         "showlegend": false,
         "side": "positive",
         "spanmode": "hard",
         "type": "violin",
         "x": [
          "BCALM2",
          "MINIA",
          "BCALM2",
          "MINIA",
          "BCALM2",
          "MetaHipMer2",
          "MINIA",
          "MetaHipMer2",
          "MetaHipMer2",
          "SKESA",
          "MEGAHIT",
          "SKESA",
          "SKESA",
          "MEGAHIT",
          "SPAdes",
          "MEGAHIT",
          "metaSPAdes",
          "IDBA-UD",
          "IDBA-UD",
          "MetaHipMer2",
          "AbYSS",
          "GATBMiniaPipeline",
          "IDBA-UD",
          "metaSPAdes",
          "MetaHipMer2",
          "GATBMiniaPipeline",
          "MetaHipMer2",
          "SPAdes",
          "metaSPAdes",
          "VelvetOptimiser",
          "GATBMiniaPipeline",
          "SPAdes",
          "VelvetOptimiser",
          "VelvetOptimiser",
          "Unicycler",
          "AbYSS",
          "Unicycler",
          "Unicycler",
          "AbYSS",
          "AbYSS",
          "AbYSS",
          "BCALM2",
          "MINIA",
          "MetaHipMer2",
          "MetaHipMer2",
          "BCALM2",
          "MINIA",
          "MetaHipMer2",
          "BCALM2",
          "MINIA",
          "SKESA",
          "SKESA",
          "MEGAHIT",
          "MetaHipMer2",
          "SPAdes",
          "SKESA",
          "MetaHipMer2",
          "metaSPAdes",
          "MEGAHIT",
          "MetaHipMer2",
          "IDBA-UD",
          "MEGAHIT",
          "IDBA-UD",
          "IDBA-UD",
          "GATBMiniaPipeline",
          "metaSPAdes",
          "GATBMiniaPipeline",
          "AbYSS",
          "SPAdes",
          "VelvetOptimiser",
          "GATBMiniaPipeline",
          "metaSPAdes",
          "SPAdes",
          "VelvetOptimiser",
          "VelvetOptimiser",
          "Unicycler",
          "AbYSS",
          "Unicycler",
          "Unicycler",
          "AbYSS",
          "AbYSS",
          "AbYSS",
          "BCALM2",
          "BCALM2",
          "BCALM2",
          "MINIA",
          "MINIA",
          "MINIA",
          "MEGAHIT",
          "SKESA",
          "SKESA",
          "MEGAHIT",
          "SKESA",
          "MEGAHIT",
          "metaSPAdes",
          "SPAdes",
          "MetaHipMer2",
          "MetaHipMer2",
          "MetaHipMer2",
          "GATBMiniaPipeline",
          "AbYSS",
          "GATBMiniaPipeline",
          "IDBA-UD",
          "IDBA-UD",
          "metaSPAdes",
          "IDBA-UD",
          "SPAdes",
          "MetaHipMer2",
          "GATBMiniaPipeline",
          "metaSPAdes",
          "MetaHipMer2",
          "MetaHipMer2",
          "VelvetOptimiser",
          "SPAdes",
          "VelvetOptimiser",
          "VelvetOptimiser",
          "Unicycler",
          "AbYSS",
          "Unicycler",
          "Unicycler",
          "AbYSS",
          "AbYSS",
          "AbYSS"
         ],
         "xaxis": "x5",
         "y": [
          0.04,
          0.05,
          0.06,
          0.06,
          0.09,
          0.03,
          0.11,
          0.04,
          0.04,
          0.18,
          0.22,
          0.21,
          0.28,
          0.31,
          0.35,
          0.36,
          0.36,
          0.42,
          0.45,
          0.2,
          0.61,
          0.8,
          0.73,
          0.83,
          0.39,
          1.06,
          0.6,
          1.11,
          1.15,
          1.26,
          1.33,
          1.41,
          1.94,
          2.87,
          3.43,
          7.84,
          10.47,
          20.43,
          1.08,
          29.83,
          1.61,
          0.04,
          0.04,
          0.03,
          0.03,
          0,
          0.05,
          0.04,
          0.08,
          0.11,
          0.19,
          0.19,
          0.21,
          0.17,
          0.24,
          0.25,
          0.2,
          0.3,
          0.36,
          0.37,
          0.43,
          0.46,
          0.49,
          0.69,
          0.8,
          0.87,
          1,
          0.02,
          1.07,
          1.19,
          1.31,
          1.38,
          1.39,
          0.03,
          2.6,
          3.49,
          9.47,
          10.42,
          18.59,
          1.09,
          1.1,
          1.09,
          0.05,
          0.04,
          0.09,
          0.06,
          0.04,
          0.11,
          0.23,
          0.2,
          0.17,
          0.3,
          0,
          0.39,
          0.42,
          0.33,
          0.03,
          0.03,
          0.03,
          0.72,
          0.8,
          0.84,
          0.4,
          0.34,
          0.86,
          0.71,
          0.94,
          0.15,
          1.19,
          1.21,
          0.19,
          0.39,
          1.33,
          1.46,
          1.99,
          3.29,
          3.59,
          6.88,
          10.5,
          19.09,
          1.1,
          1.09,
          1.11
         ],
         "yaxis": "y5"
        },
        {
         "line": {
          "color": "crimson"
         },
         "mode": "lines",
         "name": "Mean",
         "opacity": 0.6,
         "showlegend": false,
         "type": "scatter",
         "x": [
          "BCALM2",
          "MINIA",
          "MetaHipMer2",
          "SKESA",
          "MEGAHIT",
          "SPAdes",
          "metaSPAdes",
          "IDBA-UD",
          "AbYSS",
          "GATBMiniaPipeline",
          "VelvetOptimiser",
          "Unicycler",
          "BCALM2",
          "MINIA",
          "MetaHipMer2",
          "SKESA",
          "MEGAHIT",
          "SPAdes",
          "metaSPAdes",
          "IDBA-UD",
          "GATBMiniaPipeline",
          "AbYSS",
          "VelvetOptimiser",
          "Unicycler",
          "BCALM2",
          "MINIA",
          "MEGAHIT",
          "SKESA",
          "metaSPAdes",
          "SPAdes",
          "MetaHipMer2",
          "GATBMiniaPipeline",
          "AbYSS",
          "IDBA-UD",
          "VelvetOptimiser",
          "Unicycler"
         ],
         "xaxis": "x5",
         "y": [
          1.7821951219512195,
          1.7821951219512195,
          1.7821951219512195,
          1.7821951219512195,
          1.7821951219512195,
          1.7821951219512195,
          1.7821951219512195,
          1.7821951219512195,
          1.7821951219512195,
          1.7821951219512195,
          1.7821951219512195,
          1.7821951219512195,
          1.7821951219512195,
          1.7821951219512195,
          1.7821951219512195,
          1.7821951219512195,
          1.7821951219512195,
          1.7821951219512195,
          1.7821951219512195,
          1.7821951219512195,
          1.7821951219512195,
          1.7821951219512195,
          1.7821951219512195,
          1.7821951219512195,
          1.7821951219512195,
          1.7821951219512195,
          1.7821951219512195,
          1.7821951219512195,
          1.7821951219512195,
          1.7821951219512195,
          1.7821951219512195,
          1.7821951219512195,
          1.7821951219512195,
          1.7821951219512195,
          1.7821951219512195,
          1.7821951219512195
         ],
         "yaxis": "y5"
        }
       ],
       "layout": {
        "annotations": [
         {
          "font": {
           "size": 16
          },
          "showarrow": false,
          "text": "CPU",
          "x": 0.225,
          "xanchor": "center",
          "xref": "paper",
          "y": 1,
          "yanchor": "bottom",
          "yref": "paper"
         },
         {
          "font": {
           "size": 16
          },
          "showarrow": false,
          "text": "Memory",
          "x": 0.775,
          "xanchor": "center",
          "xref": "paper",
          "y": 1,
          "yanchor": "bottom",
          "yref": "paper"
         },
         {
          "font": {
           "size": 16
          },
          "showarrow": false,
          "text": "Read",
          "x": 0.225,
          "xanchor": "center",
          "xref": "paper",
          "y": 0.6111111111111112,
          "yanchor": "bottom",
          "yref": "paper"
         },
         {
          "font": {
           "size": 16
          },
          "showarrow": false,
          "text": "Write",
          "x": 0.775,
          "xanchor": "center",
          "xref": "paper",
          "y": 0.6111111111111112,
          "yanchor": "bottom",
          "yref": "paper"
         },
         {
          "font": {
           "size": 16
          },
          "showarrow": false,
          "text": "Run Time",
          "x": 0.5,
          "xanchor": "center",
          "xref": "paper",
          "y": 0.22222222222222224,
          "yanchor": "bottom",
          "yref": "paper"
         }
        ],
        "plot_bgcolor": "rgb(255,255,255)",
        "template": {
         "data": {
          "bar": [
           {
            "error_x": {
             "color": "#2a3f5f"
            },
            "error_y": {
             "color": "#2a3f5f"
            },
            "marker": {
             "line": {
              "color": "#E5ECF6",
              "width": 0.5
             },
             "pattern": {
              "fillmode": "overlay",
              "size": 10,
              "solidity": 0.2
             }
            },
            "type": "bar"
           }
          ],
          "barpolar": [
           {
            "marker": {
             "line": {
              "color": "#E5ECF6",
              "width": 0.5
             },
             "pattern": {
              "fillmode": "overlay",
              "size": 10,
              "solidity": 0.2
             }
            },
            "type": "barpolar"
           }
          ],
          "carpet": [
           {
            "aaxis": {
             "endlinecolor": "#2a3f5f",
             "gridcolor": "white",
             "linecolor": "white",
             "minorgridcolor": "white",
             "startlinecolor": "#2a3f5f"
            },
            "baxis": {
             "endlinecolor": "#2a3f5f",
             "gridcolor": "white",
             "linecolor": "white",
             "minorgridcolor": "white",
             "startlinecolor": "#2a3f5f"
            },
            "type": "carpet"
           }
          ],
          "choropleth": [
           {
            "colorbar": {
             "outlinewidth": 0,
             "ticks": ""
            },
            "type": "choropleth"
           }
          ],
          "contour": [
           {
            "colorbar": {
             "outlinewidth": 0,
             "ticks": ""
            },
            "colorscale": [
             [
              0,
              "#0d0887"
             ],
             [
              0.1111111111111111,
              "#46039f"
             ],
             [
              0.2222222222222222,
              "#7201a8"
             ],
             [
              0.3333333333333333,
              "#9c179e"
             ],
             [
              0.4444444444444444,
              "#bd3786"
             ],
             [
              0.5555555555555556,
              "#d8576b"
             ],
             [
              0.6666666666666666,
              "#ed7953"
             ],
             [
              0.7777777777777778,
              "#fb9f3a"
             ],
             [
              0.8888888888888888,
              "#fdca26"
             ],
             [
              1,
              "#f0f921"
             ]
            ],
            "type": "contour"
           }
          ],
          "contourcarpet": [
           {
            "colorbar": {
             "outlinewidth": 0,
             "ticks": ""
            },
            "type": "contourcarpet"
           }
          ],
          "heatmap": [
           {
            "colorbar": {
             "outlinewidth": 0,
             "ticks": ""
            },
            "colorscale": [
             [
              0,
              "#0d0887"
             ],
             [
              0.1111111111111111,
              "#46039f"
             ],
             [
              0.2222222222222222,
              "#7201a8"
             ],
             [
              0.3333333333333333,
              "#9c179e"
             ],
             [
              0.4444444444444444,
              "#bd3786"
             ],
             [
              0.5555555555555556,
              "#d8576b"
             ],
             [
              0.6666666666666666,
              "#ed7953"
             ],
             [
              0.7777777777777778,
              "#fb9f3a"
             ],
             [
              0.8888888888888888,
              "#fdca26"
             ],
             [
              1,
              "#f0f921"
             ]
            ],
            "type": "heatmap"
           }
          ],
          "heatmapgl": [
           {
            "colorbar": {
             "outlinewidth": 0,
             "ticks": ""
            },
            "colorscale": [
             [
              0,
              "#0d0887"
             ],
             [
              0.1111111111111111,
              "#46039f"
             ],
             [
              0.2222222222222222,
              "#7201a8"
             ],
             [
              0.3333333333333333,
              "#9c179e"
             ],
             [
              0.4444444444444444,
              "#bd3786"
             ],
             [
              0.5555555555555556,
              "#d8576b"
             ],
             [
              0.6666666666666666,
              "#ed7953"
             ],
             [
              0.7777777777777778,
              "#fb9f3a"
             ],
             [
              0.8888888888888888,
              "#fdca26"
             ],
             [
              1,
              "#f0f921"
             ]
            ],
            "type": "heatmapgl"
           }
          ],
          "histogram": [
           {
            "marker": {
             "pattern": {
              "fillmode": "overlay",
              "size": 10,
              "solidity": 0.2
             }
            },
            "type": "histogram"
           }
          ],
          "histogram2d": [
           {
            "colorbar": {
             "outlinewidth": 0,
             "ticks": ""
            },
            "colorscale": [
             [
              0,
              "#0d0887"
             ],
             [
              0.1111111111111111,
              "#46039f"
             ],
             [
              0.2222222222222222,
              "#7201a8"
             ],
             [
              0.3333333333333333,
              "#9c179e"
             ],
             [
              0.4444444444444444,
              "#bd3786"
             ],
             [
              0.5555555555555556,
              "#d8576b"
             ],
             [
              0.6666666666666666,
              "#ed7953"
             ],
             [
              0.7777777777777778,
              "#fb9f3a"
             ],
             [
              0.8888888888888888,
              "#fdca26"
             ],
             [
              1,
              "#f0f921"
             ]
            ],
            "type": "histogram2d"
           }
          ],
          "histogram2dcontour": [
           {
            "colorbar": {
             "outlinewidth": 0,
             "ticks": ""
            },
            "colorscale": [
             [
              0,
              "#0d0887"
             ],
             [
              0.1111111111111111,
              "#46039f"
             ],
             [
              0.2222222222222222,
              "#7201a8"
             ],
             [
              0.3333333333333333,
              "#9c179e"
             ],
             [
              0.4444444444444444,
              "#bd3786"
             ],
             [
              0.5555555555555556,
              "#d8576b"
             ],
             [
              0.6666666666666666,
              "#ed7953"
             ],
             [
              0.7777777777777778,
              "#fb9f3a"
             ],
             [
              0.8888888888888888,
              "#fdca26"
             ],
             [
              1,
              "#f0f921"
             ]
            ],
            "type": "histogram2dcontour"
           }
          ],
          "mesh3d": [
           {
            "colorbar": {
             "outlinewidth": 0,
             "ticks": ""
            },
            "type": "mesh3d"
           }
          ],
          "parcoords": [
           {
            "line": {
             "colorbar": {
              "outlinewidth": 0,
              "ticks": ""
             }
            },
            "type": "parcoords"
           }
          ],
          "pie": [
           {
            "automargin": true,
            "type": "pie"
           }
          ],
          "scatter": [
           {
            "marker": {
             "colorbar": {
              "outlinewidth": 0,
              "ticks": ""
             }
            },
            "type": "scatter"
           }
          ],
          "scatter3d": [
           {
            "line": {
             "colorbar": {
              "outlinewidth": 0,
              "ticks": ""
             }
            },
            "marker": {
             "colorbar": {
              "outlinewidth": 0,
              "ticks": ""
             }
            },
            "type": "scatter3d"
           }
          ],
          "scattercarpet": [
           {
            "marker": {
             "colorbar": {
              "outlinewidth": 0,
              "ticks": ""
             }
            },
            "type": "scattercarpet"
           }
          ],
          "scattergeo": [
           {
            "marker": {
             "colorbar": {
              "outlinewidth": 0,
              "ticks": ""
             }
            },
            "type": "scattergeo"
           }
          ],
          "scattergl": [
           {
            "marker": {
             "colorbar": {
              "outlinewidth": 0,
              "ticks": ""
             }
            },
            "type": "scattergl"
           }
          ],
          "scattermapbox": [
           {
            "marker": {
             "colorbar": {
              "outlinewidth": 0,
              "ticks": ""
             }
            },
            "type": "scattermapbox"
           }
          ],
          "scatterpolar": [
           {
            "marker": {
             "colorbar": {
              "outlinewidth": 0,
              "ticks": ""
             }
            },
            "type": "scatterpolar"
           }
          ],
          "scatterpolargl": [
           {
            "marker": {
             "colorbar": {
              "outlinewidth": 0,
              "ticks": ""
             }
            },
            "type": "scatterpolargl"
           }
          ],
          "scatterternary": [
           {
            "marker": {
             "colorbar": {
              "outlinewidth": 0,
              "ticks": ""
             }
            },
            "type": "scatterternary"
           }
          ],
          "surface": [
           {
            "colorbar": {
             "outlinewidth": 0,
             "ticks": ""
            },
            "colorscale": [
             [
              0,
              "#0d0887"
             ],
             [
              0.1111111111111111,
              "#46039f"
             ],
             [
              0.2222222222222222,
              "#7201a8"
             ],
             [
              0.3333333333333333,
              "#9c179e"
             ],
             [
              0.4444444444444444,
              "#bd3786"
             ],
             [
              0.5555555555555556,
              "#d8576b"
             ],
             [
              0.6666666666666666,
              "#ed7953"
             ],
             [
              0.7777777777777778,
              "#fb9f3a"
             ],
             [
              0.8888888888888888,
              "#fdca26"
             ],
             [
              1,
              "#f0f921"
             ]
            ],
            "type": "surface"
           }
          ],
          "table": [
           {
            "cells": {
             "fill": {
              "color": "#EBF0F8"
             },
             "line": {
              "color": "white"
             }
            },
            "header": {
             "fill": {
              "color": "#C8D4E3"
             },
             "line": {
              "color": "white"
             }
            },
            "type": "table"
           }
          ]
         },
         "layout": {
          "annotationdefaults": {
           "arrowcolor": "#2a3f5f",
           "arrowhead": 0,
           "arrowwidth": 1
          },
          "autotypenumbers": "strict",
          "coloraxis": {
           "colorbar": {
            "outlinewidth": 0,
            "ticks": ""
           }
          },
          "colorscale": {
           "diverging": [
            [
             0,
             "#8e0152"
            ],
            [
             0.1,
             "#c51b7d"
            ],
            [
             0.2,
             "#de77ae"
            ],
            [
             0.3,
             "#f1b6da"
            ],
            [
             0.4,
             "#fde0ef"
            ],
            [
             0.5,
             "#f7f7f7"
            ],
            [
             0.6,
             "#e6f5d0"
            ],
            [
             0.7,
             "#b8e186"
            ],
            [
             0.8,
             "#7fbc41"
            ],
            [
             0.9,
             "#4d9221"
            ],
            [
             1,
             "#276419"
            ]
           ],
           "sequential": [
            [
             0,
             "#0d0887"
            ],
            [
             0.1111111111111111,
             "#46039f"
            ],
            [
             0.2222222222222222,
             "#7201a8"
            ],
            [
             0.3333333333333333,
             "#9c179e"
            ],
            [
             0.4444444444444444,
             "#bd3786"
            ],
            [
             0.5555555555555556,
             "#d8576b"
            ],
            [
             0.6666666666666666,
             "#ed7953"
            ],
            [
             0.7777777777777778,
             "#fb9f3a"
            ],
            [
             0.8888888888888888,
             "#fdca26"
            ],
            [
             1,
             "#f0f921"
            ]
           ],
           "sequentialminus": [
            [
             0,
             "#0d0887"
            ],
            [
             0.1111111111111111,
             "#46039f"
            ],
            [
             0.2222222222222222,
             "#7201a8"
            ],
            [
             0.3333333333333333,
             "#9c179e"
            ],
            [
             0.4444444444444444,
             "#bd3786"
            ],
            [
             0.5555555555555556,
             "#d8576b"
            ],
            [
             0.6666666666666666,
             "#ed7953"
            ],
            [
             0.7777777777777778,
             "#fb9f3a"
            ],
            [
             0.8888888888888888,
             "#fdca26"
            ],
            [
             1,
             "#f0f921"
            ]
           ]
          },
          "colorway": [
           "#636efa",
           "#EF553B",
           "#00cc96",
           "#ab63fa",
           "#FFA15A",
           "#19d3f3",
           "#FF6692",
           "#B6E880",
           "#FF97FF",
           "#FECB52"
          ],
          "font": {
           "color": "#2a3f5f"
          },
          "geo": {
           "bgcolor": "white",
           "lakecolor": "white",
           "landcolor": "#E5ECF6",
           "showlakes": true,
           "showland": true,
           "subunitcolor": "white"
          },
          "hoverlabel": {
           "align": "left"
          },
          "hovermode": "closest",
          "mapbox": {
           "style": "light"
          },
          "paper_bgcolor": "white",
          "plot_bgcolor": "#E5ECF6",
          "polar": {
           "angularaxis": {
            "gridcolor": "white",
            "linecolor": "white",
            "ticks": ""
           },
           "bgcolor": "#E5ECF6",
           "radialaxis": {
            "gridcolor": "white",
            "linecolor": "white",
            "ticks": ""
           }
          },
          "scene": {
           "xaxis": {
            "backgroundcolor": "#E5ECF6",
            "gridcolor": "white",
            "gridwidth": 2,
            "linecolor": "white",
            "showbackground": true,
            "ticks": "",
            "zerolinecolor": "white"
           },
           "yaxis": {
            "backgroundcolor": "#E5ECF6",
            "gridcolor": "white",
            "gridwidth": 2,
            "linecolor": "white",
            "showbackground": true,
            "ticks": "",
            "zerolinecolor": "white"
           },
           "zaxis": {
            "backgroundcolor": "#E5ECF6",
            "gridcolor": "white",
            "gridwidth": 2,
            "linecolor": "white",
            "showbackground": true,
            "ticks": "",
            "zerolinecolor": "white"
           }
          },
          "shapedefaults": {
           "line": {
            "color": "#2a3f5f"
           }
          },
          "ternary": {
           "aaxis": {
            "gridcolor": "white",
            "linecolor": "white",
            "ticks": ""
           },
           "baxis": {
            "gridcolor": "white",
            "linecolor": "white",
            "ticks": ""
           },
           "bgcolor": "#E5ECF6",
           "caxis": {
            "gridcolor": "white",
            "linecolor": "white",
            "ticks": ""
           }
          },
          "title": {
           "x": 0.05
          },
          "xaxis": {
           "automargin": true,
           "gridcolor": "white",
           "linecolor": "white",
           "ticks": "",
           "title": {
            "standoff": 15
           },
           "zerolinecolor": "white",
           "zerolinewidth": 2
          },
          "yaxis": {
           "automargin": true,
           "gridcolor": "white",
           "linecolor": "white",
           "ticks": "",
           "title": {
            "standoff": 15
           },
           "zerolinecolor": "white",
           "zerolinewidth": 2
          }
         }
        },
        "title": {
         "text": "Computational Performance Metrics Distribution"
        },
        "violingap": 0,
        "violinmode": "overlay",
        "xaxis": {
         "anchor": "y",
         "categoryorder": "category ascending",
         "domain": [
          0,
          0.45
         ],
         "gridcolor": "#DCDCDC",
         "matches": "x3",
         "showticklabels": false
        },
        "xaxis2": {
         "anchor": "y2",
         "categoryorder": "category ascending",
         "domain": [
          0.55,
          1
         ],
         "gridcolor": "#DCDCDC",
         "matches": "x4",
         "showticklabels": false
        },
        "xaxis3": {
         "anchor": "y3",
         "categoryorder": "category ascending",
         "domain": [
          0,
          0.45
         ],
         "gridcolor": "#DCDCDC"
        },
        "xaxis4": {
         "anchor": "y4",
         "categoryorder": "category ascending",
         "domain": [
          0.55,
          1
         ],
         "gridcolor": "#DCDCDC"
        },
        "xaxis5": {
         "anchor": "y5",
         "categoryorder": "category ascending",
         "domain": [
          0,
          1
         ],
         "gridcolor": "#DCDCDC"
        },
        "yaxis": {
         "anchor": "x",
         "domain": [
          0.7777777777777778,
          1
         ],
         "title": {
          "text": "CPU/hour"
         }
        },
        "yaxis2": {
         "anchor": "x2",
         "domain": [
          0.7777777777777778,
          1
         ],
         "title": {
          "text": "GB"
         }
        },
        "yaxis3": {
         "anchor": "x3",
         "domain": [
          0.3888888888888889,
          0.6111111111111112
         ],
         "title": {
          "text": "GB"
         }
        },
        "yaxis4": {
         "anchor": "x4",
         "domain": [
          0.3888888888888889,
          0.6111111111111112
         ],
         "title": {
          "text": "GB"
         }
        },
        "yaxis5": {
         "anchor": "x5",
         "domain": [
          0,
          0.22222222222222224
         ],
         "title": {
          "text": "Hours"
         }
        }
       }
      },
      "text/html": [
       "<div>                            <div id=\"4a85b870-e0d4-4c47-9215-f504b9891bf3\" class=\"plotly-graph-div\" style=\"height:525px; width:100%;\"></div>            <script type=\"text/javascript\">                require([\"plotly\"], function(Plotly) {                    window.PLOTLYENV=window.PLOTLYENV || {};                                    if (document.getElementById(\"4a85b870-e0d4-4c47-9215-f504b9891bf3\")) {                    Plotly.newPlot(                        \"4a85b870-e0d4-4c47-9215-f504b9891bf3\",                        [{\"box\":{\"visible\":true},\"fillcolor\":\"lightseagreen\",\"legendgroup\":\"Log\",\"line\":{\"color\":\"black\"},\"meanline\":{\"visible\":true},\"name\":\"Log\",\"opacity\":0.6,\"scalegroup\":\"Log\",\"showlegend\":true,\"side\":\"negative\",\"spanmode\":\"hard\",\"type\":\"violin\",\"x\":[],\"xaxis\":\"x\",\"y\":[],\"yaxis\":\"y\"},{\"box\":{\"visible\":true},\"fillcolor\":\"orange\",\"legendgroup\":\"Even\",\"line\":{\"color\":\"black\"},\"meanline\":{\"visible\":true},\"name\":\"Even\",\"opacity\":0.6,\"scalegroup\":\"Even\",\"showlegend\":true,\"side\":\"positive\",\"spanmode\":\"hard\",\"type\":\"violin\",\"x\":[\"BCALM2\",\"MINIA\",\"BCALM2\",\"MINIA\",\"BCALM2\",\"MetaHipMer2\",\"MINIA\",\"MetaHipMer2\",\"MetaHipMer2\",\"SKESA\",\"MEGAHIT\",\"SKESA\",\"SKESA\",\"MEGAHIT\",\"SPAdes\",\"MEGAHIT\",\"metaSPAdes\",\"IDBA-UD\",\"IDBA-UD\",\"MetaHipMer2\",\"AbYSS\",\"GATBMiniaPipeline\",\"IDBA-UD\",\"metaSPAdes\",\"MetaHipMer2\",\"GATBMiniaPipeline\",\"MetaHipMer2\",\"SPAdes\",\"metaSPAdes\",\"VelvetOptimiser\",\"GATBMiniaPipeline\",\"SPAdes\",\"VelvetOptimiser\",\"VelvetOptimiser\",\"Unicycler\",\"AbYSS\",\"Unicycler\",\"Unicycler\",\"AbYSS\",\"AbYSS\",\"AbYSS\",\"BCALM2\",\"MINIA\",\"MetaHipMer2\",\"MetaHipMer2\",\"BCALM2\",\"MINIA\",\"MetaHipMer2\",\"BCALM2\",\"MINIA\",\"SKESA\",\"SKESA\",\"MEGAHIT\",\"MetaHipMer2\",\"SPAdes\",\"SKESA\",\"MetaHipMer2\",\"metaSPAdes\",\"MEGAHIT\",\"MetaHipMer2\",\"IDBA-UD\",\"MEGAHIT\",\"IDBA-UD\",\"IDBA-UD\",\"GATBMiniaPipeline\",\"metaSPAdes\",\"GATBMiniaPipeline\",\"AbYSS\",\"SPAdes\",\"VelvetOptimiser\",\"GATBMiniaPipeline\",\"metaSPAdes\",\"SPAdes\",\"VelvetOptimiser\",\"VelvetOptimiser\",\"Unicycler\",\"AbYSS\",\"Unicycler\",\"Unicycler\",\"AbYSS\",\"AbYSS\",\"AbYSS\",\"BCALM2\",\"BCALM2\",\"BCALM2\",\"MINIA\",\"MINIA\",\"MINIA\",\"MEGAHIT\",\"SKESA\",\"SKESA\",\"MEGAHIT\",\"SKESA\",\"MEGAHIT\",\"metaSPAdes\",\"SPAdes\",\"MetaHipMer2\",\"MetaHipMer2\",\"MetaHipMer2\",\"GATBMiniaPipeline\",\"AbYSS\",\"GATBMiniaPipeline\",\"IDBA-UD\",\"IDBA-UD\",\"metaSPAdes\",\"IDBA-UD\",\"SPAdes\",\"MetaHipMer2\",\"GATBMiniaPipeline\",\"metaSPAdes\",\"MetaHipMer2\",\"MetaHipMer2\",\"VelvetOptimiser\",\"SPAdes\",\"VelvetOptimiser\",\"VelvetOptimiser\",\"Unicycler\",\"AbYSS\",\"Unicycler\",\"Unicycler\",\"AbYSS\",\"AbYSS\",\"AbYSS\"],\"xaxis\":\"x\",\"y\":[0.5608,0.6165944444444444,0.7347222222222223,0.7890944444444444,1.0166520833333335,0.19830555555555554,1.6075972222222221,0.26435138888888887,0.23838958333333338,2.172229166666667,3.0711277777777775,2.485777777777778,3.6945111111111113,5.11601111111111,3.8445333333333336,5.27690625,4.280209027777778,6.520140277777778,7.335643750000001,8.01640138888889,12.006674999999998,19.312708333333333,11.466349305555555,10.089422222222222,14.61972847222222,22.438472222222224,20.43403541666667,11.643477083333334,13.252804166666666,12.740359027777778,31.45874722222222,13.36508611111111,17.441155555555554,18.893603472222225,17.487256944444447,156.49232500000002,34.43564930555555,61.24059027777778,0.0,0.0,95.57243124999998,0.5234340277777778,0.54325625,0.191475,0.18903333333333333,0.011547916666666665,0.7028458333333334,0.18412499999999998,1.0406666666666669,1.5186666666666666,2.1177916666666667,2.3858333333333337,3.4327631944444437,6.791805555555555,3.7515388888888888,3.510933333333333,8.613183333333334,4.433430555555555,5.929525,15.1636,7.361604166666666,5.0626875,5.8942097222222225,11.524358333333334,19.661493055555557,10.063622222222222,22.212916666666665,0.28170416666666664,11.496527777777777,12.614135416666667,29.972993055555552,14.81476736111111,13.06422361111111,0.3115451388888889,17.954918055555556,16.548690277777776,188.32357638888888,38.1801375,54.32359236111112,0.0,0.0,0.0,0.6993055555555555,0.5712777777777778,1.0226805555555556,0.8155736111111112,0.5691291666666667,1.571609722222222,3.4935,2.285675,2.2159479166666665,4.692683333333334,0.05812222222222222,6.555270833333333,4.714954166666667,3.8669583333333333,0.1644951388888889,0.19703125,0.18475625,19.95622291666667,15.50093888888889,21.613555555555553,6.8152638888888895,5.5436645833333325,10.332272222222223,11.177580555555556,10.405909722222223,5.991933333333333,29.868119444444442,13.571983333333334,8.163397222222223,15.803305555555555,13.437566666666667,14.186432638888888,17.9225,17.877291666666668,15.324381944444445,137.37860833333335,35.119712500000006,60.38442361111111,0.0,0.0,0.0],\"yaxis\":\"y\"},{\"line\":{\"color\":\"crimson\"},\"mode\":\"lines\",\"name\":\"mean\",\"opacity\":0.6,\"showlegend\":true,\"type\":\"scatter\",\"x\":[\"BCALM2\",\"MINIA\",\"BCALM2\",\"MINIA\",\"BCALM2\",\"MetaHipMer2\",\"MINIA\",\"MetaHipMer2\",\"MetaHipMer2\",\"SKESA\",\"MEGAHIT\",\"SKESA\",\"SKESA\",\"MEGAHIT\",\"SPAdes\",\"MEGAHIT\",\"metaSPAdes\",\"IDBA-UD\",\"IDBA-UD\",\"MetaHipMer2\",\"AbYSS\",\"GATBMiniaPipeline\",\"IDBA-UD\",\"metaSPAdes\",\"MetaHipMer2\",\"GATBMiniaPipeline\",\"MetaHipMer2\",\"SPAdes\",\"metaSPAdes\",\"VelvetOptimiser\",\"GATBMiniaPipeline\",\"SPAdes\",\"VelvetOptimiser\",\"VelvetOptimiser\",\"Unicycler\",\"AbYSS\",\"Unicycler\",\"Unicycler\",\"AbYSS\",\"AbYSS\",\"AbYSS\",\"BCALM2\",\"MINIA\",\"MetaHipMer2\",\"MetaHipMer2\",\"BCALM2\",\"MINIA\",\"MetaHipMer2\",\"BCALM2\",\"MINIA\",\"SKESA\",\"SKESA\",\"MEGAHIT\",\"MetaHipMer2\",\"SPAdes\",\"SKESA\",\"MetaHipMer2\",\"metaSPAdes\",\"MEGAHIT\",\"MetaHipMer2\",\"IDBA-UD\",\"MEGAHIT\",\"IDBA-UD\",\"IDBA-UD\",\"GATBMiniaPipeline\",\"metaSPAdes\",\"GATBMiniaPipeline\",\"AbYSS\",\"SPAdes\",\"VelvetOptimiser\",\"GATBMiniaPipeline\",\"metaSPAdes\",\"SPAdes\",\"VelvetOptimiser\",\"VelvetOptimiser\",\"Unicycler\",\"AbYSS\",\"Unicycler\",\"Unicycler\",\"AbYSS\",\"AbYSS\",\"AbYSS\",\"BCALM2\",\"BCALM2\",\"BCALM2\",\"MINIA\",\"MINIA\",\"MINIA\",\"MEGAHIT\",\"SKESA\",\"SKESA\",\"MEGAHIT\",\"SKESA\",\"MEGAHIT\",\"metaSPAdes\",\"SPAdes\",\"MetaHipMer2\",\"MetaHipMer2\",\"MetaHipMer2\",\"GATBMiniaPipeline\",\"AbYSS\",\"GATBMiniaPipeline\",\"IDBA-UD\",\"IDBA-UD\",\"metaSPAdes\",\"IDBA-UD\",\"SPAdes\",\"MetaHipMer2\",\"GATBMiniaPipeline\",\"metaSPAdes\",\"MetaHipMer2\",\"MetaHipMer2\",\"VelvetOptimiser\",\"SPAdes\",\"VelvetOptimiser\",\"VelvetOptimiser\",\"Unicycler\",\"AbYSS\",\"Unicycler\",\"Unicycler\",\"AbYSS\",\"AbYSS\",\"AbYSS\"],\"xaxis\":\"x\",\"y\":[13.926732260614274,13.926732260614274,13.926732260614274,13.926732260614274,13.926732260614274,13.926732260614274,13.926732260614274,13.926732260614274,13.926732260614274,13.926732260614274,13.926732260614274,13.926732260614274,13.926732260614274,13.926732260614274,13.926732260614274,13.926732260614274,13.926732260614274,13.926732260614274,13.926732260614274,13.926732260614274,13.926732260614274,13.926732260614274,13.926732260614274,13.926732260614274,13.926732260614274,13.926732260614274,13.926732260614274,13.926732260614274,13.926732260614274,13.926732260614274,13.926732260614274,13.926732260614274,13.926732260614274,13.926732260614274,13.926732260614274,13.926732260614274,13.926732260614274,13.926732260614274,13.926732260614274,13.926732260614274,13.926732260614274,13.926732260614274,13.926732260614274,13.926732260614274,13.926732260614274,13.926732260614274,13.926732260614274,13.926732260614274,13.926732260614274,13.926732260614274,13.926732260614274,13.926732260614274,13.926732260614274,13.926732260614274,13.926732260614274,13.926732260614274,13.926732260614274,13.926732260614274,13.926732260614274,13.926732260614274,13.926732260614274,13.926732260614274,13.926732260614274,13.926732260614274,13.926732260614274,13.926732260614274,13.926732260614274,13.926732260614274,13.926732260614274,13.926732260614274,13.926732260614274,13.926732260614274,13.926732260614274,13.926732260614274,13.926732260614274,13.926732260614274,13.926732260614274,13.926732260614274,13.926732260614274,13.926732260614274,13.926732260614274,13.926732260614274,13.926732260614274,13.926732260614274,13.926732260614274,13.926732260614274,13.926732260614274,13.926732260614274,13.926732260614274,13.926732260614274,13.926732260614274,13.926732260614274,13.926732260614274,13.926732260614274,13.926732260614274,13.926732260614274,13.926732260614274,13.926732260614274,13.926732260614274,13.926732260614274,13.926732260614274,13.926732260614274,13.926732260614274,13.926732260614274,13.926732260614274,13.926732260614274,13.926732260614274,13.926732260614274,13.926732260614274,13.926732260614274,13.926732260614274,13.926732260614274,13.926732260614274,13.926732260614274,13.926732260614274,13.926732260614274,13.926732260614274,13.926732260614274,13.926732260614274,13.926732260614274,13.926732260614274,13.926732260614274,13.926732260614274],\"yaxis\":\"y\"},{\"box\":{\"visible\":true},\"fillcolor\":\"lightseagreen\",\"legendgroup\":\"Log\",\"line\":{\"color\":\"black\"},\"meanline\":{\"visible\":true},\"name\":\"Log\",\"opacity\":0.6,\"scalegroup\":\"Log\",\"showlegend\":false,\"side\":\"negative\",\"spanmode\":\"hard\",\"type\":\"violin\",\"x\":[],\"xaxis\":\"x2\",\"y\":[],\"yaxis\":\"y2\"},{\"box\":{\"visible\":true},\"fillcolor\":\"orange\",\"legendgroup\":\"Even\",\"line\":{\"color\":\"black\"},\"meanline\":{\"visible\":true},\"name\":\"Even\",\"opacity\":0.6,\"scalegroup\":\"Even\",\"showlegend\":false,\"side\":\"positive\",\"spanmode\":\"hard\",\"type\":\"violin\",\"x\":[\"BCALM2\",\"MINIA\",\"BCALM2\",\"MINIA\",\"BCALM2\",\"MetaHipMer2\",\"MINIA\",\"MetaHipMer2\",\"MetaHipMer2\",\"SKESA\",\"MEGAHIT\",\"SKESA\",\"SKESA\",\"MEGAHIT\",\"SPAdes\",\"MEGAHIT\",\"metaSPAdes\",\"IDBA-UD\",\"IDBA-UD\",\"MetaHipMer2\",\"AbYSS\",\"GATBMiniaPipeline\",\"IDBA-UD\",\"metaSPAdes\",\"MetaHipMer2\",\"GATBMiniaPipeline\",\"MetaHipMer2\",\"SPAdes\",\"metaSPAdes\",\"VelvetOptimiser\",\"GATBMiniaPipeline\",\"SPAdes\",\"VelvetOptimiser\",\"VelvetOptimiser\",\"Unicycler\",\"AbYSS\",\"Unicycler\",\"Unicycler\",\"AbYSS\",\"AbYSS\",\"AbYSS\",\"BCALM2\",\"MINIA\",\"MetaHipMer2\",\"MetaHipMer2\",\"BCALM2\",\"MINIA\",\"MetaHipMer2\",\"BCALM2\",\"MINIA\",\"SKESA\",\"SKESA\",\"MEGAHIT\",\"MetaHipMer2\",\"SPAdes\",\"SKESA\",\"MetaHipMer2\",\"metaSPAdes\",\"MEGAHIT\",\"MetaHipMer2\",\"IDBA-UD\",\"MEGAHIT\",\"IDBA-UD\",\"IDBA-UD\",\"GATBMiniaPipeline\",\"metaSPAdes\",\"GATBMiniaPipeline\",\"AbYSS\",\"SPAdes\",\"VelvetOptimiser\",\"GATBMiniaPipeline\",\"metaSPAdes\",\"SPAdes\",\"VelvetOptimiser\",\"VelvetOptimiser\",\"Unicycler\",\"AbYSS\",\"Unicycler\",\"Unicycler\",\"AbYSS\",\"AbYSS\",\"AbYSS\",\"BCALM2\",\"BCALM2\",\"BCALM2\",\"MINIA\",\"MINIA\",\"MINIA\",\"MEGAHIT\",\"SKESA\",\"SKESA\",\"MEGAHIT\",\"SKESA\",\"MEGAHIT\",\"metaSPAdes\",\"SPAdes\",\"MetaHipMer2\",\"MetaHipMer2\",\"MetaHipMer2\",\"GATBMiniaPipeline\",\"AbYSS\",\"GATBMiniaPipeline\",\"IDBA-UD\",\"IDBA-UD\",\"metaSPAdes\",\"IDBA-UD\",\"SPAdes\",\"MetaHipMer2\",\"GATBMiniaPipeline\",\"metaSPAdes\",\"MetaHipMer2\",\"MetaHipMer2\",\"VelvetOptimiser\",\"SPAdes\",\"VelvetOptimiser\",\"VelvetOptimiser\",\"Unicycler\",\"AbYSS\",\"Unicycler\",\"Unicycler\",\"AbYSS\",\"AbYSS\",\"AbYSS\"],\"xaxis\":\"x2\",\"y\":[5.1,5.1,6.7,6.6,4.7,32.0,4.8,31.9,32.1,16.1,1.7,17.8,17.8,2.1,4.6,2.1,4.6,5.7,6.0,56.9,2.9,6.8,10.4,4.9,57.3,6.8,60.4,4.6,6.2,27.3,5.7,6.5,31.9,31.9,4.6,3.3,6.5,13.8,0.0,0.0,3.6,5.1,5.1,32.0,32.0,6.7,6.6,32.9,4.6,4.8,16.1,17.8,1.7,56.8,4.6,17.8,57.3,4.6,2.1,60.1,6.0,2.1,5.6,10.4,6.9,4.6,6.8,3.0,4.6,26.6,5.6,6.9,6.8,31.9,31.9,4.7,3.2,6.3,13.9,0.0,0.0,0.0,6.6,5.1,4.8,6.6,5.1,4.8,1.7,17.8,16.1,2.1,17.8,2.1,4.6,4.6,32.0,31.8,32.0,6.8,3.0,6.7,6.0,5.6,5.6,10.4,4.6,57.0,5.6,6.5,57.2,60.4,27.1,5.7,31.9,31.9,4.6,3.2,6.3,14.1,0.0,0.0,0.0],\"yaxis\":\"y2\"},{\"line\":{\"color\":\"crimson\"},\"mode\":\"lines\",\"name\":\"mean\",\"opacity\":0.6,\"showlegend\":false,\"type\":\"scatter\",\"x\":[\"BCALM2\",\"MINIA\",\"BCALM2\",\"MINIA\",\"BCALM2\",\"MetaHipMer2\",\"MINIA\",\"MetaHipMer2\",\"MetaHipMer2\",\"SKESA\",\"MEGAHIT\",\"SKESA\",\"SKESA\",\"MEGAHIT\",\"SPAdes\",\"MEGAHIT\",\"metaSPAdes\",\"IDBA-UD\",\"IDBA-UD\",\"MetaHipMer2\",\"AbYSS\",\"GATBMiniaPipeline\",\"IDBA-UD\",\"metaSPAdes\",\"MetaHipMer2\",\"GATBMiniaPipeline\",\"MetaHipMer2\",\"SPAdes\",\"metaSPAdes\",\"VelvetOptimiser\",\"GATBMiniaPipeline\",\"SPAdes\",\"VelvetOptimiser\",\"VelvetOptimiser\",\"Unicycler\",\"AbYSS\",\"Unicycler\",\"Unicycler\",\"AbYSS\",\"AbYSS\",\"AbYSS\",\"BCALM2\",\"MINIA\",\"MetaHipMer2\",\"MetaHipMer2\",\"BCALM2\",\"MINIA\",\"MetaHipMer2\",\"BCALM2\",\"MINIA\",\"SKESA\",\"SKESA\",\"MEGAHIT\",\"MetaHipMer2\",\"SPAdes\",\"SKESA\",\"MetaHipMer2\",\"metaSPAdes\",\"MEGAHIT\",\"MetaHipMer2\",\"IDBA-UD\",\"MEGAHIT\",\"IDBA-UD\",\"IDBA-UD\",\"GATBMiniaPipeline\",\"metaSPAdes\",\"GATBMiniaPipeline\",\"AbYSS\",\"SPAdes\",\"VelvetOptimiser\",\"GATBMiniaPipeline\",\"metaSPAdes\",\"SPAdes\",\"VelvetOptimiser\",\"VelvetOptimiser\",\"Unicycler\",\"AbYSS\",\"Unicycler\",\"Unicycler\",\"AbYSS\",\"AbYSS\",\"AbYSS\",\"BCALM2\",\"BCALM2\",\"BCALM2\",\"MINIA\",\"MINIA\",\"MINIA\",\"MEGAHIT\",\"SKESA\",\"SKESA\",\"MEGAHIT\",\"SKESA\",\"MEGAHIT\",\"metaSPAdes\",\"SPAdes\",\"MetaHipMer2\",\"MetaHipMer2\",\"MetaHipMer2\",\"GATBMiniaPipeline\",\"AbYSS\",\"GATBMiniaPipeline\",\"IDBA-UD\",\"IDBA-UD\",\"metaSPAdes\",\"IDBA-UD\",\"SPAdes\",\"MetaHipMer2\",\"GATBMiniaPipeline\",\"metaSPAdes\",\"MetaHipMer2\",\"MetaHipMer2\",\"VelvetOptimiser\",\"SPAdes\",\"VelvetOptimiser\",\"VelvetOptimiser\",\"Unicycler\",\"AbYSS\",\"Unicycler\",\"Unicycler\",\"AbYSS\",\"AbYSS\",\"AbYSS\"],\"xaxis\":\"x2\",\"y\":[13.59430894308943,13.59430894308943,13.59430894308943,13.59430894308943,13.59430894308943,13.59430894308943,13.59430894308943,13.59430894308943,13.59430894308943,13.59430894308943,13.59430894308943,13.59430894308943,13.59430894308943,13.59430894308943,13.59430894308943,13.59430894308943,13.59430894308943,13.59430894308943,13.59430894308943,13.59430894308943,13.59430894308943,13.59430894308943,13.59430894308943,13.59430894308943,13.59430894308943,13.59430894308943,13.59430894308943,13.59430894308943,13.59430894308943,13.59430894308943,13.59430894308943,13.59430894308943,13.59430894308943,13.59430894308943,13.59430894308943,13.59430894308943,13.59430894308943,13.59430894308943,13.59430894308943,13.59430894308943,13.59430894308943,13.59430894308943,13.59430894308943,13.59430894308943,13.59430894308943,13.59430894308943,13.59430894308943,13.59430894308943,13.59430894308943,13.59430894308943,13.59430894308943,13.59430894308943,13.59430894308943,13.59430894308943,13.59430894308943,13.59430894308943,13.59430894308943,13.59430894308943,13.59430894308943,13.59430894308943,13.59430894308943,13.59430894308943,13.59430894308943,13.59430894308943,13.59430894308943,13.59430894308943,13.59430894308943,13.59430894308943,13.59430894308943,13.59430894308943,13.59430894308943,13.59430894308943,13.59430894308943,13.59430894308943,13.59430894308943,13.59430894308943,13.59430894308943,13.59430894308943,13.59430894308943,13.59430894308943,13.59430894308943,13.59430894308943,13.59430894308943,13.59430894308943,13.59430894308943,13.59430894308943,13.59430894308943,13.59430894308943,13.59430894308943,13.59430894308943,13.59430894308943,13.59430894308943,13.59430894308943,13.59430894308943,13.59430894308943,13.59430894308943,13.59430894308943,13.59430894308943,13.59430894308943,13.59430894308943,13.59430894308943,13.59430894308943,13.59430894308943,13.59430894308943,13.59430894308943,13.59430894308943,13.59430894308943,13.59430894308943,13.59430894308943,13.59430894308943,13.59430894308943,13.59430894308943,13.59430894308943,13.59430894308943,13.59430894308943,13.59430894308943,13.59430894308943,13.59430894308943,13.59430894308943,13.59430894308943,13.59430894308943,13.59430894308943,13.59430894308943],\"yaxis\":\"y2\"},{\"box\":{\"visible\":true},\"fillcolor\":\"lightseagreen\",\"legendgroup\":\"Log\",\"line\":{\"color\":\"black\"},\"meanline\":{\"visible\":true},\"name\":\"Log\",\"opacity\":0.6,\"scalegroup\":\"Log\",\"showlegend\":false,\"side\":\"negative\",\"spanmode\":\"hard\",\"type\":\"violin\",\"x\":[],\"xaxis\":\"x3\",\"y\":[],\"yaxis\":\"y3\"},{\"box\":{\"visible\":true},\"fillcolor\":\"orange\",\"legendgroup\":\"Even\",\"line\":{\"color\":\"black\"},\"meanline\":{\"visible\":true},\"name\":\"Even\",\"opacity\":0.6,\"scalegroup\":\"Even\",\"showlegend\":false,\"side\":\"positive\",\"spanmode\":\"hard\",\"type\":\"violin\",\"x\":[\"BCALM2\",\"MINIA\",\"BCALM2\",\"MINIA\",\"BCALM2\",\"MetaHipMer2\",\"MINIA\",\"MetaHipMer2\",\"MetaHipMer2\",\"SKESA\",\"MEGAHIT\",\"SKESA\",\"SKESA\",\"MEGAHIT\",\"SPAdes\",\"MEGAHIT\",\"metaSPAdes\",\"IDBA-UD\",\"IDBA-UD\",\"MetaHipMer2\",\"AbYSS\",\"GATBMiniaPipeline\",\"IDBA-UD\",\"metaSPAdes\",\"MetaHipMer2\",\"GATBMiniaPipeline\",\"MetaHipMer2\",\"SPAdes\",\"metaSPAdes\",\"VelvetOptimiser\",\"GATBMiniaPipeline\",\"SPAdes\",\"VelvetOptimiser\",\"VelvetOptimiser\",\"Unicycler\",\"AbYSS\",\"Unicycler\",\"Unicycler\",\"AbYSS\",\"AbYSS\",\"AbYSS\",\"BCALM2\",\"MINIA\",\"MetaHipMer2\",\"MetaHipMer2\",\"BCALM2\",\"MINIA\",\"MetaHipMer2\",\"BCALM2\",\"MINIA\",\"SKESA\",\"SKESA\",\"MEGAHIT\",\"MetaHipMer2\",\"SPAdes\",\"SKESA\",\"MetaHipMer2\",\"metaSPAdes\",\"MEGAHIT\",\"MetaHipMer2\",\"IDBA-UD\",\"MEGAHIT\",\"IDBA-UD\",\"IDBA-UD\",\"GATBMiniaPipeline\",\"metaSPAdes\",\"GATBMiniaPipeline\",\"AbYSS\",\"SPAdes\",\"VelvetOptimiser\",\"GATBMiniaPipeline\",\"metaSPAdes\",\"SPAdes\",\"VelvetOptimiser\",\"VelvetOptimiser\",\"Unicycler\",\"AbYSS\",\"Unicycler\",\"Unicycler\",\"AbYSS\",\"AbYSS\",\"AbYSS\",\"BCALM2\",\"BCALM2\",\"BCALM2\",\"MINIA\",\"MINIA\",\"MINIA\",\"MEGAHIT\",\"SKESA\",\"SKESA\",\"MEGAHIT\",\"SKESA\",\"MEGAHIT\",\"metaSPAdes\",\"SPAdes\",\"MetaHipMer2\",\"MetaHipMer2\",\"MetaHipMer2\",\"GATBMiniaPipeline\",\"AbYSS\",\"GATBMiniaPipeline\",\"IDBA-UD\",\"IDBA-UD\",\"metaSPAdes\",\"IDBA-UD\",\"SPAdes\",\"MetaHipMer2\",\"GATBMiniaPipeline\",\"metaSPAdes\",\"MetaHipMer2\",\"MetaHipMer2\",\"VelvetOptimiser\",\"SPAdes\",\"VelvetOptimiser\",\"VelvetOptimiser\",\"Unicycler\",\"AbYSS\",\"Unicycler\",\"Unicycler\",\"AbYSS\",\"AbYSS\",\"AbYSS\"],\"xaxis\":\"x3\",\"y\":[5.9,6.5,8.5,9.1,16.2,4.9,17.3,6.3,5.8,0.3685,16.5,0.9135,0.8847999999999999,20.6,9.6,22.3,12.6,5.3,5.8,5.0,25.1,40.5,8.8,15.8,5.9,61.4,6.4,15.7,16.2,236.1,89.7,15.9,283.9,218.7,36.2,33.3,46.8,48.0,0.0,0.0,36.8,5.9,6.5,6.3,5.8,8.5,9.1,4.9,16.2,17.3,0.3685,0.9135,16.5,5.0,9.6,0.8847999999999999,5.9,12.6,22.3,6.4,5.8,20.6,5.3,8.8,47.6,15.8,63.9,25.0,15.7,236.1,96.8,16.2,15.9,283.9,216.7,36.2,33.3,46.8,48.0,0.0,0.0,0.0,8.5,5.9,16.2,9.1,6.5,17.3,16.5,0.9135,0.3685,20.6,0.8847999999999999,22.3,12.6,9.6,4.9,6.3,5.8,50.9,25.1,46.0,5.8,5.3,15.8,8.8,15.7,5.0,88.7,16.2,5.9,6.4,236.1,15.9,283.9,221.9,36.2,33.3,46.8,48.0,0.0,0.0,0.0],\"yaxis\":\"y3\"},{\"line\":{\"color\":\"crimson\"},\"mode\":\"lines\",\"name\":\"mean\",\"opacity\":0.6,\"showlegend\":false,\"type\":\"scatter\",\"x\":[\"BCALM2\",\"MINIA\",\"BCALM2\",\"MINIA\",\"BCALM2\",\"MetaHipMer2\",\"MINIA\",\"MetaHipMer2\",\"MetaHipMer2\",\"SKESA\",\"MEGAHIT\",\"SKESA\",\"SKESA\",\"MEGAHIT\",\"SPAdes\",\"MEGAHIT\",\"metaSPAdes\",\"IDBA-UD\",\"IDBA-UD\",\"MetaHipMer2\",\"AbYSS\",\"GATBMiniaPipeline\",\"IDBA-UD\",\"metaSPAdes\",\"MetaHipMer2\",\"GATBMiniaPipeline\",\"MetaHipMer2\",\"SPAdes\",\"metaSPAdes\",\"VelvetOptimiser\",\"GATBMiniaPipeline\",\"SPAdes\",\"VelvetOptimiser\",\"VelvetOptimiser\",\"Unicycler\",\"AbYSS\",\"Unicycler\",\"Unicycler\",\"AbYSS\",\"AbYSS\",\"AbYSS\",\"BCALM2\",\"MINIA\",\"MetaHipMer2\",\"MetaHipMer2\",\"BCALM2\",\"MINIA\",\"MetaHipMer2\",\"BCALM2\",\"MINIA\",\"SKESA\",\"SKESA\",\"MEGAHIT\",\"MetaHipMer2\",\"SPAdes\",\"SKESA\",\"MetaHipMer2\",\"metaSPAdes\",\"MEGAHIT\",\"MetaHipMer2\",\"IDBA-UD\",\"MEGAHIT\",\"IDBA-UD\",\"IDBA-UD\",\"GATBMiniaPipeline\",\"metaSPAdes\",\"GATBMiniaPipeline\",\"AbYSS\",\"SPAdes\",\"VelvetOptimiser\",\"GATBMiniaPipeline\",\"metaSPAdes\",\"SPAdes\",\"VelvetOptimiser\",\"VelvetOptimiser\",\"Unicycler\",\"AbYSS\",\"Unicycler\",\"Unicycler\",\"AbYSS\",\"AbYSS\",\"AbYSS\",\"BCALM2\",\"BCALM2\",\"BCALM2\",\"MINIA\",\"MINIA\",\"MINIA\",\"MEGAHIT\",\"SKESA\",\"SKESA\",\"MEGAHIT\",\"SKESA\",\"MEGAHIT\",\"metaSPAdes\",\"SPAdes\",\"MetaHipMer2\",\"MetaHipMer2\",\"MetaHipMer2\",\"GATBMiniaPipeline\",\"AbYSS\",\"GATBMiniaPipeline\",\"IDBA-UD\",\"IDBA-UD\",\"metaSPAdes\",\"IDBA-UD\",\"SPAdes\",\"MetaHipMer2\",\"GATBMiniaPipeline\",\"metaSPAdes\",\"MetaHipMer2\",\"MetaHipMer2\",\"VelvetOptimiser\",\"SPAdes\",\"VelvetOptimiser\",\"VelvetOptimiser\",\"Unicycler\",\"AbYSS\",\"Unicycler\",\"Unicycler\",\"AbYSS\",\"AbYSS\",\"AbYSS\"],\"xaxis\":\"x3\",\"y\":[34.16992195121951,34.16992195121951,34.16992195121951,34.16992195121951,34.16992195121951,34.16992195121951,34.16992195121951,34.16992195121951,34.16992195121951,34.16992195121951,34.16992195121951,34.16992195121951,34.16992195121951,34.16992195121951,34.16992195121951,34.16992195121951,34.16992195121951,34.16992195121951,34.16992195121951,34.16992195121951,34.16992195121951,34.16992195121951,34.16992195121951,34.16992195121951,34.16992195121951,34.16992195121951,34.16992195121951,34.16992195121951,34.16992195121951,34.16992195121951,34.16992195121951,34.16992195121951,34.16992195121951,34.16992195121951,34.16992195121951,34.16992195121951,34.16992195121951,34.16992195121951,34.16992195121951,34.16992195121951,34.16992195121951,34.16992195121951,34.16992195121951,34.16992195121951,34.16992195121951,34.16992195121951,34.16992195121951,34.16992195121951,34.16992195121951,34.16992195121951,34.16992195121951,34.16992195121951,34.16992195121951,34.16992195121951,34.16992195121951,34.16992195121951,34.16992195121951,34.16992195121951,34.16992195121951,34.16992195121951,34.16992195121951,34.16992195121951,34.16992195121951,34.16992195121951,34.16992195121951,34.16992195121951,34.16992195121951,34.16992195121951,34.16992195121951,34.16992195121951,34.16992195121951,34.16992195121951,34.16992195121951,34.16992195121951,34.16992195121951,34.16992195121951,34.16992195121951,34.16992195121951,34.16992195121951,34.16992195121951,34.16992195121951,34.16992195121951,34.16992195121951,34.16992195121951,34.16992195121951,34.16992195121951,34.16992195121951,34.16992195121951,34.16992195121951,34.16992195121951,34.16992195121951,34.16992195121951,34.16992195121951,34.16992195121951,34.16992195121951,34.16992195121951,34.16992195121951,34.16992195121951,34.16992195121951,34.16992195121951,34.16992195121951,34.16992195121951,34.16992195121951,34.16992195121951,34.16992195121951,34.16992195121951,34.16992195121951,34.16992195121951,34.16992195121951,34.16992195121951,34.16992195121951,34.16992195121951,34.16992195121951,34.16992195121951,34.16992195121951,34.16992195121951,34.16992195121951,34.16992195121951,34.16992195121951,34.16992195121951,34.16992195121951,34.16992195121951,34.16992195121951],\"yaxis\":\"y3\"},{\"box\":{\"visible\":true},\"fillcolor\":\"lightseagreen\",\"legendgroup\":\"Log\",\"line\":{\"color\":\"black\"},\"meanline\":{\"visible\":true},\"name\":\"Log\",\"opacity\":0.6,\"scalegroup\":\"Log\",\"showlegend\":false,\"side\":\"negative\",\"spanmode\":\"hard\",\"type\":\"violin\",\"x\":[],\"xaxis\":\"x4\",\"y\":[],\"yaxis\":\"y4\"},{\"box\":{\"visible\":true},\"fillcolor\":\"orange\",\"legendgroup\":\"Even\",\"line\":{\"color\":\"black\"},\"meanline\":{\"visible\":true},\"name\":\"Even\",\"opacity\":0.6,\"scalegroup\":\"Even\",\"showlegend\":false,\"side\":\"positive\",\"spanmode\":\"hard\",\"type\":\"violin\",\"x\":[\"BCALM2\",\"MINIA\",\"BCALM2\",\"MINIA\",\"BCALM2\",\"MetaHipMer2\",\"MINIA\",\"MetaHipMer2\",\"MetaHipMer2\",\"SKESA\",\"MEGAHIT\",\"SKESA\",\"SKESA\",\"MEGAHIT\",\"SPAdes\",\"MEGAHIT\",\"metaSPAdes\",\"IDBA-UD\",\"IDBA-UD\",\"MetaHipMer2\",\"AbYSS\",\"GATBMiniaPipeline\",\"IDBA-UD\",\"metaSPAdes\",\"MetaHipMer2\",\"GATBMiniaPipeline\",\"MetaHipMer2\",\"SPAdes\",\"metaSPAdes\",\"VelvetOptimiser\",\"GATBMiniaPipeline\",\"SPAdes\",\"VelvetOptimiser\",\"VelvetOptimiser\",\"Unicycler\",\"AbYSS\",\"Unicycler\",\"Unicycler\",\"AbYSS\",\"AbYSS\",\"AbYSS\",\"BCALM2\",\"MINIA\",\"MetaHipMer2\",\"MetaHipMer2\",\"BCALM2\",\"MINIA\",\"MetaHipMer2\",\"BCALM2\",\"MINIA\",\"SKESA\",\"SKESA\",\"MEGAHIT\",\"MetaHipMer2\",\"SPAdes\",\"SKESA\",\"MetaHipMer2\",\"metaSPAdes\",\"MEGAHIT\",\"MetaHipMer2\",\"IDBA-UD\",\"MEGAHIT\",\"IDBA-UD\",\"IDBA-UD\",\"GATBMiniaPipeline\",\"metaSPAdes\",\"GATBMiniaPipeline\",\"AbYSS\",\"SPAdes\",\"VelvetOptimiser\",\"GATBMiniaPipeline\",\"metaSPAdes\",\"SPAdes\",\"VelvetOptimiser\",\"VelvetOptimiser\",\"Unicycler\",\"AbYSS\",\"Unicycler\",\"Unicycler\",\"AbYSS\",\"AbYSS\",\"AbYSS\",\"BCALM2\",\"BCALM2\",\"BCALM2\",\"MINIA\",\"MINIA\",\"MINIA\",\"MEGAHIT\",\"SKESA\",\"SKESA\",\"MEGAHIT\",\"SKESA\",\"MEGAHIT\",\"metaSPAdes\",\"SPAdes\",\"MetaHipMer2\",\"MetaHipMer2\",\"MetaHipMer2\",\"GATBMiniaPipeline\",\"AbYSS\",\"GATBMiniaPipeline\",\"IDBA-UD\",\"IDBA-UD\",\"metaSPAdes\",\"IDBA-UD\",\"SPAdes\",\"MetaHipMer2\",\"GATBMiniaPipeline\",\"metaSPAdes\",\"MetaHipMer2\",\"MetaHipMer2\",\"VelvetOptimiser\",\"SPAdes\",\"VelvetOptimiser\",\"VelvetOptimiser\",\"Unicycler\",\"AbYSS\",\"Unicycler\",\"Unicycler\",\"AbYSS\",\"AbYSS\",\"AbYSS\"],\"xaxis\":\"x4\",\"y\":[3.4,3.5,4.3,4.4,6.8,4.4,6.8,4.1,5.2,0.0288,6.9,0.0289,0.0291,8.0,11.2,9.5,11.3,2.5,2.6,4.7,21.9,16.0,5.0,31.8,5.7,19.5,5.8,53.2,57.7,29.3,28.2,96.3,34.8,44.3,93.8,25.4,281.9,555.6,0.0,0.0,28.0,3.4,3.5,4.1,5.2,4.3,4.4,4.4,6.8,6.8,0.0288,0.0289,6.9,4.7,11.2,0.0291,5.7,11.3,9.5,5.8,2.6,8.0,2.5,5.0,16.1,31.8,19.5,21.9,53.2,29.3,28.2,57.7,96.3,34.8,43.2,93.8,25.4,281.9,555.6,0.0,0.0,0.0,4.3,3.4,6.8,4.4,3.5,6.8,6.9,0.0289,0.0288,8.0,0.0291,9.5,11.3,11.2,4.4,4.1,5.2,16.1,21.9,19.4,2.6,2.5,31.8,5.0,53.2,4.7,28.2,57.7,5.7,5.8,29.3,96.3,34.8,46.1,93.8,25.4,281.9,555.6,0.0,0.0,0.0],\"yaxis\":\"y4\"},{\"line\":{\"color\":\"crimson\"},\"mode\":\"lines\",\"name\":\"mean\",\"opacity\":0.6,\"showlegend\":false,\"type\":\"scatter\",\"x\":[\"BCALM2\",\"MINIA\",\"BCALM2\",\"MINIA\",\"BCALM2\",\"MetaHipMer2\",\"MINIA\",\"MetaHipMer2\",\"MetaHipMer2\",\"SKESA\",\"MEGAHIT\",\"SKESA\",\"SKESA\",\"MEGAHIT\",\"SPAdes\",\"MEGAHIT\",\"metaSPAdes\",\"IDBA-UD\",\"IDBA-UD\",\"MetaHipMer2\",\"AbYSS\",\"GATBMiniaPipeline\",\"IDBA-UD\",\"metaSPAdes\",\"MetaHipMer2\",\"GATBMiniaPipeline\",\"MetaHipMer2\",\"SPAdes\",\"metaSPAdes\",\"VelvetOptimiser\",\"GATBMiniaPipeline\",\"SPAdes\",\"VelvetOptimiser\",\"VelvetOptimiser\",\"Unicycler\",\"AbYSS\",\"Unicycler\",\"Unicycler\",\"AbYSS\",\"AbYSS\",\"AbYSS\",\"BCALM2\",\"MINIA\",\"MetaHipMer2\",\"MetaHipMer2\",\"BCALM2\",\"MINIA\",\"MetaHipMer2\",\"BCALM2\",\"MINIA\",\"SKESA\",\"SKESA\",\"MEGAHIT\",\"MetaHipMer2\",\"SPAdes\",\"SKESA\",\"MetaHipMer2\",\"metaSPAdes\",\"MEGAHIT\",\"MetaHipMer2\",\"IDBA-UD\",\"MEGAHIT\",\"IDBA-UD\",\"IDBA-UD\",\"GATBMiniaPipeline\",\"metaSPAdes\",\"GATBMiniaPipeline\",\"AbYSS\",\"SPAdes\",\"VelvetOptimiser\",\"GATBMiniaPipeline\",\"metaSPAdes\",\"SPAdes\",\"VelvetOptimiser\",\"VelvetOptimiser\",\"Unicycler\",\"AbYSS\",\"Unicycler\",\"Unicycler\",\"AbYSS\",\"AbYSS\",\"AbYSS\",\"BCALM2\",\"BCALM2\",\"BCALM2\",\"MINIA\",\"MINIA\",\"MINIA\",\"MEGAHIT\",\"SKESA\",\"SKESA\",\"MEGAHIT\",\"SKESA\",\"MEGAHIT\",\"metaSPAdes\",\"SPAdes\",\"MetaHipMer2\",\"MetaHipMer2\",\"MetaHipMer2\",\"GATBMiniaPipeline\",\"AbYSS\",\"GATBMiniaPipeline\",\"IDBA-UD\",\"IDBA-UD\",\"metaSPAdes\",\"IDBA-UD\",\"SPAdes\",\"MetaHipMer2\",\"GATBMiniaPipeline\",\"metaSPAdes\",\"MetaHipMer2\",\"MetaHipMer2\",\"VelvetOptimiser\",\"SPAdes\",\"VelvetOptimiser\",\"VelvetOptimiser\",\"Unicycler\",\"AbYSS\",\"Unicycler\",\"Unicycler\",\"AbYSS\",\"AbYSS\",\"AbYSS\"],\"xaxis\":\"x4\",\"y\":[36.96309268292683,36.96309268292683,36.96309268292683,36.96309268292683,36.96309268292683,36.96309268292683,36.96309268292683,36.96309268292683,36.96309268292683,36.96309268292683,36.96309268292683,36.96309268292683,36.96309268292683,36.96309268292683,36.96309268292683,36.96309268292683,36.96309268292683,36.96309268292683,36.96309268292683,36.96309268292683,36.96309268292683,36.96309268292683,36.96309268292683,36.96309268292683,36.96309268292683,36.96309268292683,36.96309268292683,36.96309268292683,36.96309268292683,36.96309268292683,36.96309268292683,36.96309268292683,36.96309268292683,36.96309268292683,36.96309268292683,36.96309268292683,36.96309268292683,36.96309268292683,36.96309268292683,36.96309268292683,36.96309268292683,36.96309268292683,36.96309268292683,36.96309268292683,36.96309268292683,36.96309268292683,36.96309268292683,36.96309268292683,36.96309268292683,36.96309268292683,36.96309268292683,36.96309268292683,36.96309268292683,36.96309268292683,36.96309268292683,36.96309268292683,36.96309268292683,36.96309268292683,36.96309268292683,36.96309268292683,36.96309268292683,36.96309268292683,36.96309268292683,36.96309268292683,36.96309268292683,36.96309268292683,36.96309268292683,36.96309268292683,36.96309268292683,36.96309268292683,36.96309268292683,36.96309268292683,36.96309268292683,36.96309268292683,36.96309268292683,36.96309268292683,36.96309268292683,36.96309268292683,36.96309268292683,36.96309268292683,36.96309268292683,36.96309268292683,36.96309268292683,36.96309268292683,36.96309268292683,36.96309268292683,36.96309268292683,36.96309268292683,36.96309268292683,36.96309268292683,36.96309268292683,36.96309268292683,36.96309268292683,36.96309268292683,36.96309268292683,36.96309268292683,36.96309268292683,36.96309268292683,36.96309268292683,36.96309268292683,36.96309268292683,36.96309268292683,36.96309268292683,36.96309268292683,36.96309268292683,36.96309268292683,36.96309268292683,36.96309268292683,36.96309268292683,36.96309268292683,36.96309268292683,36.96309268292683,36.96309268292683,36.96309268292683,36.96309268292683,36.96309268292683,36.96309268292683,36.96309268292683,36.96309268292683,36.96309268292683,36.96309268292683,36.96309268292683,36.96309268292683],\"yaxis\":\"y4\"},{\"box\":{\"visible\":true},\"fillcolor\":\"lightseagreen\",\"legendgroup\":\"Log\",\"line\":{\"color\":\"black\"},\"meanline\":{\"visible\":true},\"name\":\"Log\",\"opacity\":0.6,\"scalegroup\":\"Log\",\"showlegend\":false,\"side\":\"negative\",\"spanmode\":\"hard\",\"type\":\"violin\",\"x\":[],\"xaxis\":\"x5\",\"y\":[],\"yaxis\":\"y5\"},{\"box\":{\"visible\":true},\"fillcolor\":\"orange\",\"legendgroup\":\"Even\",\"line\":{\"color\":\"black\"},\"meanline\":{\"visible\":true},\"name\":\"Even\",\"opacity\":0.6,\"scalegroup\":\"Even\",\"showlegend\":false,\"side\":\"positive\",\"spanmode\":\"hard\",\"type\":\"violin\",\"x\":[\"BCALM2\",\"MINIA\",\"BCALM2\",\"MINIA\",\"BCALM2\",\"MetaHipMer2\",\"MINIA\",\"MetaHipMer2\",\"MetaHipMer2\",\"SKESA\",\"MEGAHIT\",\"SKESA\",\"SKESA\",\"MEGAHIT\",\"SPAdes\",\"MEGAHIT\",\"metaSPAdes\",\"IDBA-UD\",\"IDBA-UD\",\"MetaHipMer2\",\"AbYSS\",\"GATBMiniaPipeline\",\"IDBA-UD\",\"metaSPAdes\",\"MetaHipMer2\",\"GATBMiniaPipeline\",\"MetaHipMer2\",\"SPAdes\",\"metaSPAdes\",\"VelvetOptimiser\",\"GATBMiniaPipeline\",\"SPAdes\",\"VelvetOptimiser\",\"VelvetOptimiser\",\"Unicycler\",\"AbYSS\",\"Unicycler\",\"Unicycler\",\"AbYSS\",\"AbYSS\",\"AbYSS\",\"BCALM2\",\"MINIA\",\"MetaHipMer2\",\"MetaHipMer2\",\"BCALM2\",\"MINIA\",\"MetaHipMer2\",\"BCALM2\",\"MINIA\",\"SKESA\",\"SKESA\",\"MEGAHIT\",\"MetaHipMer2\",\"SPAdes\",\"SKESA\",\"MetaHipMer2\",\"metaSPAdes\",\"MEGAHIT\",\"MetaHipMer2\",\"IDBA-UD\",\"MEGAHIT\",\"IDBA-UD\",\"IDBA-UD\",\"GATBMiniaPipeline\",\"metaSPAdes\",\"GATBMiniaPipeline\",\"AbYSS\",\"SPAdes\",\"VelvetOptimiser\",\"GATBMiniaPipeline\",\"metaSPAdes\",\"SPAdes\",\"VelvetOptimiser\",\"VelvetOptimiser\",\"Unicycler\",\"AbYSS\",\"Unicycler\",\"Unicycler\",\"AbYSS\",\"AbYSS\",\"AbYSS\",\"BCALM2\",\"BCALM2\",\"BCALM2\",\"MINIA\",\"MINIA\",\"MINIA\",\"MEGAHIT\",\"SKESA\",\"SKESA\",\"MEGAHIT\",\"SKESA\",\"MEGAHIT\",\"metaSPAdes\",\"SPAdes\",\"MetaHipMer2\",\"MetaHipMer2\",\"MetaHipMer2\",\"GATBMiniaPipeline\",\"AbYSS\",\"GATBMiniaPipeline\",\"IDBA-UD\",\"IDBA-UD\",\"metaSPAdes\",\"IDBA-UD\",\"SPAdes\",\"MetaHipMer2\",\"GATBMiniaPipeline\",\"metaSPAdes\",\"MetaHipMer2\",\"MetaHipMer2\",\"VelvetOptimiser\",\"SPAdes\",\"VelvetOptimiser\",\"VelvetOptimiser\",\"Unicycler\",\"AbYSS\",\"Unicycler\",\"Unicycler\",\"AbYSS\",\"AbYSS\",\"AbYSS\"],\"xaxis\":\"x5\",\"y\":[0.04,0.05,0.06,0.06,0.09,0.03,0.11,0.04,0.04,0.18,0.22,0.21,0.28,0.31,0.35,0.36,0.36,0.42,0.45,0.2,0.61,0.8,0.73,0.83,0.39,1.06,0.6,1.11,1.15,1.26,1.33,1.41,1.94,2.87,3.43,7.84,10.47,20.43,1.08,29.83,1.61,0.04,0.04,0.03,0.03,0.0,0.05,0.04,0.08,0.11,0.19,0.19,0.21,0.17,0.24,0.25,0.2,0.3,0.36,0.37,0.43,0.46,0.49,0.69,0.8,0.87,1.0,0.02,1.07,1.19,1.31,1.38,1.39,0.03,2.6,3.49,9.47,10.42,18.59,1.09,1.1,1.09,0.05,0.04,0.09,0.06,0.04,0.11,0.23,0.2,0.17,0.3,0.0,0.39,0.42,0.33,0.03,0.03,0.03,0.72,0.8,0.84,0.4,0.34,0.86,0.71,0.94,0.15,1.19,1.21,0.19,0.39,1.33,1.46,1.99,3.29,3.59,6.88,10.5,19.09,1.1,1.09,1.11],\"yaxis\":\"y5\"},{\"line\":{\"color\":\"crimson\"},\"mode\":\"lines\",\"name\":\"Mean\",\"opacity\":0.6,\"showlegend\":false,\"type\":\"scatter\",\"x\":[\"BCALM2\",\"MINIA\",\"MetaHipMer2\",\"SKESA\",\"MEGAHIT\",\"SPAdes\",\"metaSPAdes\",\"IDBA-UD\",\"AbYSS\",\"GATBMiniaPipeline\",\"VelvetOptimiser\",\"Unicycler\",\"BCALM2\",\"MINIA\",\"MetaHipMer2\",\"SKESA\",\"MEGAHIT\",\"SPAdes\",\"metaSPAdes\",\"IDBA-UD\",\"GATBMiniaPipeline\",\"AbYSS\",\"VelvetOptimiser\",\"Unicycler\",\"BCALM2\",\"MINIA\",\"MEGAHIT\",\"SKESA\",\"metaSPAdes\",\"SPAdes\",\"MetaHipMer2\",\"GATBMiniaPipeline\",\"AbYSS\",\"IDBA-UD\",\"VelvetOptimiser\",\"Unicycler\"],\"xaxis\":\"x5\",\"y\":[1.7821951219512195,1.7821951219512195,1.7821951219512195,1.7821951219512195,1.7821951219512195,1.7821951219512195,1.7821951219512195,1.7821951219512195,1.7821951219512195,1.7821951219512195,1.7821951219512195,1.7821951219512195,1.7821951219512195,1.7821951219512195,1.7821951219512195,1.7821951219512195,1.7821951219512195,1.7821951219512195,1.7821951219512195,1.7821951219512195,1.7821951219512195,1.7821951219512195,1.7821951219512195,1.7821951219512195,1.7821951219512195,1.7821951219512195,1.7821951219512195,1.7821951219512195,1.7821951219512195,1.7821951219512195,1.7821951219512195,1.7821951219512195,1.7821951219512195,1.7821951219512195,1.7821951219512195,1.7821951219512195],\"yaxis\":\"y5\"}],                        {\"annotations\":[{\"font\":{\"size\":16},\"showarrow\":false,\"text\":\"CPU\",\"x\":0.225,\"xanchor\":\"center\",\"xref\":\"paper\",\"y\":1.0,\"yanchor\":\"bottom\",\"yref\":\"paper\"},{\"font\":{\"size\":16},\"showarrow\":false,\"text\":\"Memory\",\"x\":0.775,\"xanchor\":\"center\",\"xref\":\"paper\",\"y\":1.0,\"yanchor\":\"bottom\",\"yref\":\"paper\"},{\"font\":{\"size\":16},\"showarrow\":false,\"text\":\"Read\",\"x\":0.225,\"xanchor\":\"center\",\"xref\":\"paper\",\"y\":0.6111111111111112,\"yanchor\":\"bottom\",\"yref\":\"paper\"},{\"font\":{\"size\":16},\"showarrow\":false,\"text\":\"Write\",\"x\":0.775,\"xanchor\":\"center\",\"xref\":\"paper\",\"y\":0.6111111111111112,\"yanchor\":\"bottom\",\"yref\":\"paper\"},{\"font\":{\"size\":16},\"showarrow\":false,\"text\":\"Run Time\",\"x\":0.5,\"xanchor\":\"center\",\"xref\":\"paper\",\"y\":0.22222222222222224,\"yanchor\":\"bottom\",\"yref\":\"paper\"}],\"plot_bgcolor\":\"rgb(255,255,255)\",\"template\":{\"data\":{\"bar\":[{\"error_x\":{\"color\":\"#2a3f5f\"},\"error_y\":{\"color\":\"#2a3f5f\"},\"marker\":{\"line\":{\"color\":\"#E5ECF6\",\"width\":0.5},\"pattern\":{\"fillmode\":\"overlay\",\"size\":10,\"solidity\":0.2}},\"type\":\"bar\"}],\"barpolar\":[{\"marker\":{\"line\":{\"color\":\"#E5ECF6\",\"width\":0.5},\"pattern\":{\"fillmode\":\"overlay\",\"size\":10,\"solidity\":0.2}},\"type\":\"barpolar\"}],\"carpet\":[{\"aaxis\":{\"endlinecolor\":\"#2a3f5f\",\"gridcolor\":\"white\",\"linecolor\":\"white\",\"minorgridcolor\":\"white\",\"startlinecolor\":\"#2a3f5f\"},\"baxis\":{\"endlinecolor\":\"#2a3f5f\",\"gridcolor\":\"white\",\"linecolor\":\"white\",\"minorgridcolor\":\"white\",\"startlinecolor\":\"#2a3f5f\"},\"type\":\"carpet\"}],\"choropleth\":[{\"colorbar\":{\"outlinewidth\":0,\"ticks\":\"\"},\"type\":\"choropleth\"}],\"contour\":[{\"colorbar\":{\"outlinewidth\":0,\"ticks\":\"\"},\"colorscale\":[[0.0,\"#0d0887\"],[0.1111111111111111,\"#46039f\"],[0.2222222222222222,\"#7201a8\"],[0.3333333333333333,\"#9c179e\"],[0.4444444444444444,\"#bd3786\"],[0.5555555555555556,\"#d8576b\"],[0.6666666666666666,\"#ed7953\"],[0.7777777777777778,\"#fb9f3a\"],[0.8888888888888888,\"#fdca26\"],[1.0,\"#f0f921\"]],\"type\":\"contour\"}],\"contourcarpet\":[{\"colorbar\":{\"outlinewidth\":0,\"ticks\":\"\"},\"type\":\"contourcarpet\"}],\"heatmap\":[{\"colorbar\":{\"outlinewidth\":0,\"ticks\":\"\"},\"colorscale\":[[0.0,\"#0d0887\"],[0.1111111111111111,\"#46039f\"],[0.2222222222222222,\"#7201a8\"],[0.3333333333333333,\"#9c179e\"],[0.4444444444444444,\"#bd3786\"],[0.5555555555555556,\"#d8576b\"],[0.6666666666666666,\"#ed7953\"],[0.7777777777777778,\"#fb9f3a\"],[0.8888888888888888,\"#fdca26\"],[1.0,\"#f0f921\"]],\"type\":\"heatmap\"}],\"heatmapgl\":[{\"colorbar\":{\"outlinewidth\":0,\"ticks\":\"\"},\"colorscale\":[[0.0,\"#0d0887\"],[0.1111111111111111,\"#46039f\"],[0.2222222222222222,\"#7201a8\"],[0.3333333333333333,\"#9c179e\"],[0.4444444444444444,\"#bd3786\"],[0.5555555555555556,\"#d8576b\"],[0.6666666666666666,\"#ed7953\"],[0.7777777777777778,\"#fb9f3a\"],[0.8888888888888888,\"#fdca26\"],[1.0,\"#f0f921\"]],\"type\":\"heatmapgl\"}],\"histogram\":[{\"marker\":{\"pattern\":{\"fillmode\":\"overlay\",\"size\":10,\"solidity\":0.2}},\"type\":\"histogram\"}],\"histogram2d\":[{\"colorbar\":{\"outlinewidth\":0,\"ticks\":\"\"},\"colorscale\":[[0.0,\"#0d0887\"],[0.1111111111111111,\"#46039f\"],[0.2222222222222222,\"#7201a8\"],[0.3333333333333333,\"#9c179e\"],[0.4444444444444444,\"#bd3786\"],[0.5555555555555556,\"#d8576b\"],[0.6666666666666666,\"#ed7953\"],[0.7777777777777778,\"#fb9f3a\"],[0.8888888888888888,\"#fdca26\"],[1.0,\"#f0f921\"]],\"type\":\"histogram2d\"}],\"histogram2dcontour\":[{\"colorbar\":{\"outlinewidth\":0,\"ticks\":\"\"},\"colorscale\":[[0.0,\"#0d0887\"],[0.1111111111111111,\"#46039f\"],[0.2222222222222222,\"#7201a8\"],[0.3333333333333333,\"#9c179e\"],[0.4444444444444444,\"#bd3786\"],[0.5555555555555556,\"#d8576b\"],[0.6666666666666666,\"#ed7953\"],[0.7777777777777778,\"#fb9f3a\"],[0.8888888888888888,\"#fdca26\"],[1.0,\"#f0f921\"]],\"type\":\"histogram2dcontour\"}],\"mesh3d\":[{\"colorbar\":{\"outlinewidth\":0,\"ticks\":\"\"},\"type\":\"mesh3d\"}],\"parcoords\":[{\"line\":{\"colorbar\":{\"outlinewidth\":0,\"ticks\":\"\"}},\"type\":\"parcoords\"}],\"pie\":[{\"automargin\":true,\"type\":\"pie\"}],\"scatter\":[{\"marker\":{\"colorbar\":{\"outlinewidth\":0,\"ticks\":\"\"}},\"type\":\"scatter\"}],\"scatter3d\":[{\"line\":{\"colorbar\":{\"outlinewidth\":0,\"ticks\":\"\"}},\"marker\":{\"colorbar\":{\"outlinewidth\":0,\"ticks\":\"\"}},\"type\":\"scatter3d\"}],\"scattercarpet\":[{\"marker\":{\"colorbar\":{\"outlinewidth\":0,\"ticks\":\"\"}},\"type\":\"scattercarpet\"}],\"scattergeo\":[{\"marker\":{\"colorbar\":{\"outlinewidth\":0,\"ticks\":\"\"}},\"type\":\"scattergeo\"}],\"scattergl\":[{\"marker\":{\"colorbar\":{\"outlinewidth\":0,\"ticks\":\"\"}},\"type\":\"scattergl\"}],\"scattermapbox\":[{\"marker\":{\"colorbar\":{\"outlinewidth\":0,\"ticks\":\"\"}},\"type\":\"scattermapbox\"}],\"scatterpolar\":[{\"marker\":{\"colorbar\":{\"outlinewidth\":0,\"ticks\":\"\"}},\"type\":\"scatterpolar\"}],\"scatterpolargl\":[{\"marker\":{\"colorbar\":{\"outlinewidth\":0,\"ticks\":\"\"}},\"type\":\"scatterpolargl\"}],\"scatterternary\":[{\"marker\":{\"colorbar\":{\"outlinewidth\":0,\"ticks\":\"\"}},\"type\":\"scatterternary\"}],\"surface\":[{\"colorbar\":{\"outlinewidth\":0,\"ticks\":\"\"},\"colorscale\":[[0.0,\"#0d0887\"],[0.1111111111111111,\"#46039f\"],[0.2222222222222222,\"#7201a8\"],[0.3333333333333333,\"#9c179e\"],[0.4444444444444444,\"#bd3786\"],[0.5555555555555556,\"#d8576b\"],[0.6666666666666666,\"#ed7953\"],[0.7777777777777778,\"#fb9f3a\"],[0.8888888888888888,\"#fdca26\"],[1.0,\"#f0f921\"]],\"type\":\"surface\"}],\"table\":[{\"cells\":{\"fill\":{\"color\":\"#EBF0F8\"},\"line\":{\"color\":\"white\"}},\"header\":{\"fill\":{\"color\":\"#C8D4E3\"},\"line\":{\"color\":\"white\"}},\"type\":\"table\"}]},\"layout\":{\"annotationdefaults\":{\"arrowcolor\":\"#2a3f5f\",\"arrowhead\":0,\"arrowwidth\":1},\"autotypenumbers\":\"strict\",\"coloraxis\":{\"colorbar\":{\"outlinewidth\":0,\"ticks\":\"\"}},\"colorscale\":{\"diverging\":[[0,\"#8e0152\"],[0.1,\"#c51b7d\"],[0.2,\"#de77ae\"],[0.3,\"#f1b6da\"],[0.4,\"#fde0ef\"],[0.5,\"#f7f7f7\"],[0.6,\"#e6f5d0\"],[0.7,\"#b8e186\"],[0.8,\"#7fbc41\"],[0.9,\"#4d9221\"],[1,\"#276419\"]],\"sequential\":[[0.0,\"#0d0887\"],[0.1111111111111111,\"#46039f\"],[0.2222222222222222,\"#7201a8\"],[0.3333333333333333,\"#9c179e\"],[0.4444444444444444,\"#bd3786\"],[0.5555555555555556,\"#d8576b\"],[0.6666666666666666,\"#ed7953\"],[0.7777777777777778,\"#fb9f3a\"],[0.8888888888888888,\"#fdca26\"],[1.0,\"#f0f921\"]],\"sequentialminus\":[[0.0,\"#0d0887\"],[0.1111111111111111,\"#46039f\"],[0.2222222222222222,\"#7201a8\"],[0.3333333333333333,\"#9c179e\"],[0.4444444444444444,\"#bd3786\"],[0.5555555555555556,\"#d8576b\"],[0.6666666666666666,\"#ed7953\"],[0.7777777777777778,\"#fb9f3a\"],[0.8888888888888888,\"#fdca26\"],[1.0,\"#f0f921\"]]},\"colorway\":[\"#636efa\",\"#EF553B\",\"#00cc96\",\"#ab63fa\",\"#FFA15A\",\"#19d3f3\",\"#FF6692\",\"#B6E880\",\"#FF97FF\",\"#FECB52\"],\"font\":{\"color\":\"#2a3f5f\"},\"geo\":{\"bgcolor\":\"white\",\"lakecolor\":\"white\",\"landcolor\":\"#E5ECF6\",\"showlakes\":true,\"showland\":true,\"subunitcolor\":\"white\"},\"hoverlabel\":{\"align\":\"left\"},\"hovermode\":\"closest\",\"mapbox\":{\"style\":\"light\"},\"paper_bgcolor\":\"white\",\"plot_bgcolor\":\"#E5ECF6\",\"polar\":{\"angularaxis\":{\"gridcolor\":\"white\",\"linecolor\":\"white\",\"ticks\":\"\"},\"bgcolor\":\"#E5ECF6\",\"radialaxis\":{\"gridcolor\":\"white\",\"linecolor\":\"white\",\"ticks\":\"\"}},\"scene\":{\"xaxis\":{\"backgroundcolor\":\"#E5ECF6\",\"gridcolor\":\"white\",\"gridwidth\":2,\"linecolor\":\"white\",\"showbackground\":true,\"ticks\":\"\",\"zerolinecolor\":\"white\"},\"yaxis\":{\"backgroundcolor\":\"#E5ECF6\",\"gridcolor\":\"white\",\"gridwidth\":2,\"linecolor\":\"white\",\"showbackground\":true,\"ticks\":\"\",\"zerolinecolor\":\"white\"},\"zaxis\":{\"backgroundcolor\":\"#E5ECF6\",\"gridcolor\":\"white\",\"gridwidth\":2,\"linecolor\":\"white\",\"showbackground\":true,\"ticks\":\"\",\"zerolinecolor\":\"white\"}},\"shapedefaults\":{\"line\":{\"color\":\"#2a3f5f\"}},\"ternary\":{\"aaxis\":{\"gridcolor\":\"white\",\"linecolor\":\"white\",\"ticks\":\"\"},\"baxis\":{\"gridcolor\":\"white\",\"linecolor\":\"white\",\"ticks\":\"\"},\"bgcolor\":\"#E5ECF6\",\"caxis\":{\"gridcolor\":\"white\",\"linecolor\":\"white\",\"ticks\":\"\"}},\"title\":{\"x\":0.05},\"xaxis\":{\"automargin\":true,\"gridcolor\":\"white\",\"linecolor\":\"white\",\"ticks\":\"\",\"title\":{\"standoff\":15},\"zerolinecolor\":\"white\",\"zerolinewidth\":2},\"yaxis\":{\"automargin\":true,\"gridcolor\":\"white\",\"linecolor\":\"white\",\"ticks\":\"\",\"title\":{\"standoff\":15},\"zerolinecolor\":\"white\",\"zerolinewidth\":2}}},\"title\":{\"text\":\"Computational Performance Metrics Distribution\"},\"violingap\":0,\"violinmode\":\"overlay\",\"xaxis\":{\"anchor\":\"y\",\"categoryorder\":\"category ascending\",\"domain\":[0.0,0.45],\"gridcolor\":\"#DCDCDC\",\"matches\":\"x3\",\"showticklabels\":false},\"xaxis2\":{\"anchor\":\"y2\",\"categoryorder\":\"category ascending\",\"domain\":[0.55,1.0],\"gridcolor\":\"#DCDCDC\",\"matches\":\"x4\",\"showticklabels\":false},\"xaxis3\":{\"anchor\":\"y3\",\"categoryorder\":\"category ascending\",\"domain\":[0.0,0.45],\"gridcolor\":\"#DCDCDC\"},\"xaxis4\":{\"anchor\":\"y4\",\"categoryorder\":\"category ascending\",\"domain\":[0.55,1.0],\"gridcolor\":\"#DCDCDC\"},\"xaxis5\":{\"anchor\":\"y5\",\"categoryorder\":\"category ascending\",\"domain\":[0.0,1.0],\"gridcolor\":\"#DCDCDC\"},\"yaxis\":{\"anchor\":\"x\",\"domain\":[0.7777777777777778,1.0],\"title\":{\"text\":\"CPU/hour\"}},\"yaxis2\":{\"anchor\":\"x2\",\"domain\":[0.7777777777777778,1.0],\"title\":{\"text\":\"GB\"}},\"yaxis3\":{\"anchor\":\"x3\",\"domain\":[0.3888888888888889,0.6111111111111112],\"title\":{\"text\":\"GB\"}},\"yaxis4\":{\"anchor\":\"x4\",\"domain\":[0.3888888888888889,0.6111111111111112],\"title\":{\"text\":\"GB\"}},\"yaxis5\":{\"anchor\":\"x5\",\"domain\":[0.0,0.22222222222222224],\"title\":{\"text\":\"Hours\"}}},                        {\"responsive\": true}                    ).then(function(){\n",
       "                            \n",
       "var gd = document.getElementById('4a85b870-e0d4-4c47-9215-f504b9891bf3');\n",
       "var x = new MutationObserver(function (mutations, observer) {{\n",
       "        var display = window.getComputedStyle(gd).display;\n",
       "        if (!display || display === 'none') {{\n",
       "            console.log([gd, 'removed!']);\n",
       "            Plotly.purge(gd);\n",
       "            observer.disconnect();\n",
       "        }}\n",
       "}});\n",
       "\n",
       "// Listen for the removal of the full notebook cells\n",
       "var notebookContainer = gd.closest('#notebook-container');\n",
       "if (notebookContainer) {{\n",
       "    x.observe(notebookContainer, {childList: true});\n",
       "}}\n",
       "\n",
       "// Listen for the clearing of the current output cell\n",
       "var outputEl = gd.closest('.output');\n",
       "if (outputEl) {{\n",
       "    x.observe(outputEl, {childList: true});\n",
       "}}\n",
       "\n",
       "                        })                };                });            </script>        </div>"
      ]
     },
     "metadata": {},
     "output_type": "display_data"
    }
   ],
   "source": [
    "fig_per_sample = make_subplots(rows=3, cols=2, shared_xaxes=True, \n",
    "                               subplot_titles=('CPU', 'Memory', 'Read', 'Write', 'Run Time'),\n",
    "                               specs=[[{}, {}],[{}, {}],[{\"colspan\": 2}, None]])\n",
    "row_coord = 1\n",
    "col_coord = 1\n",
    "\n",
    "for column in ['cpus', 'rss', 'rchar', 'wchar']:\n",
    "    showlegend = True if (row_coord == 1 and col_coord == 1) else False\n",
    "\n",
    "    #log\n",
    "    fig_per_sample.add_trace(go.Violin(y=pipeline_stats_df[column][pipeline_stats_df['distribution'] == 'Log'],\n",
    "                                    x=pipeline_stats_df['assembler'][pipeline_stats_df['distribution'] == 'Log'],\n",
    "                                    legendgroup='Log', scalegroup='Log', name='Log', box_visible=True, line_color='black',\n",
    "                                    meanline_visible=True, fillcolor='lightseagreen', opacity=0.6, side='negative',\n",
    "                                    showlegend=showlegend, spanmode='hard'),\n",
    "                          row=row_coord, col=col_coord)\n",
    "    \n",
    "    #even\n",
    "    fig_per_sample.add_trace(go.Violin(y=pipeline_stats_df[column][pipeline_stats_df['distribution'] == 'Even'],\n",
    "                                    x=pipeline_stats_df['assembler'][pipeline_stats_df['distribution'] == 'Even'],\n",
    "                                    legendgroup='Even', scalegroup='Even', name='Even', box_visible=True, line_color='black',\n",
    "                                    meanline_visible=True, fillcolor='orange', opacity=0.6, side='positive',\n",
    "                                    showlegend=showlegend, spanmode='hard'), \n",
    "                          row=row_coord, col=col_coord)\n",
    "\n",
    "    \n",
    "    fig_per_sample.add_trace(go.Scatter(y=[pipeline_stats_df[column].mean()]*len(pipeline_stats_df['assembler']), \n",
    "                                    x=pipeline_stats_df['assembler'], mode='lines', name='mean',\n",
    "                                    line=dict(color=\"crimson\"), opacity=0.6, showlegend=showlegend),\n",
    "                          row=row_coord, col=col_coord)\n",
    "    if col_coord == 2:\n",
    "        col_coord = 1\n",
    "        row_coord += 1\n",
    "    else:\n",
    "        col_coord +=1\n",
    "\n",
    "fig_per_sample.add_trace(go.Violin(y=pipeline_stats_df['time_hours'][pipeline_stats_df['distribution'] == 'Log'],\n",
    "                             x=pipeline_stats_df['assembler'][pipeline_stats_df['distribution'] == 'Log'],\n",
    "                                legendgroup='Log', scalegroup='Log', name='Log', box_visible=True, line_color='black',\n",
    "                                meanline_visible=True, fillcolor='lightseagreen', opacity=0.6, side='negative',\n",
    "                                showlegend=False, spanmode='hard'),  row=3, col=1)\n",
    "fig_per_sample.add_trace(go.Violin(y=pipeline_stats_df['time_hours'][pipeline_stats_df['distribution'] == 'Even'],\n",
    "                                x=pipeline_stats_df['assembler'][pipeline_stats_df['distribution'] == 'Even'],\n",
    "                                legendgroup='Even', scalegroup='Even', name='Even', box_visible=True, line_color='black',\n",
    "                                meanline_visible=True, fillcolor='orange', opacity=0.6, side='positive',\n",
    "                                showlegend=False, spanmode='hard'),  row=3, col=1)\n",
    "fig_per_sample.add_trace(go.Scatter(y=[pipeline_stats_df['time_hours'].mean()]*len(global_pipeline_stats_df['assembler']), \n",
    "                              x=global_pipeline_stats_df['assembler'], mode='lines',\n",
    "                              line=dict(color=\"crimson\"), opacity=0.6, name='Mean', showlegend=False),  row=3, col=1)\n",
    "\n",
    "fig_per_sample.update_layout(plot_bgcolor='rgb(255,255,255)', title_text=\"Computational Performance Metrics Distribution\")\n",
    "# grid\n",
    "fig_per_sample['layout']['xaxis']['gridcolor']='#DCDCDC'\n",
    "fig_per_sample['layout']['xaxis2']['gridcolor']='#DCDCDC'\n",
    "fig_per_sample['layout']['xaxis3']['gridcolor']='#DCDCDC'\n",
    "fig_per_sample['layout']['xaxis4']['gridcolor']='#DCDCDC'\n",
    "fig_per_sample['layout']['xaxis5']['gridcolor']='#DCDCDC'\n",
    "# y-axis legends\n",
    "fig_per_sample['layout']['yaxis']['title']='CPU/hour'\n",
    "fig_per_sample['layout']['yaxis2']['title']='GB'\n",
    "fig_per_sample['layout']['yaxis3']['title']='GB'\n",
    "fig_per_sample['layout']['yaxis4']['title']='GB'\n",
    "fig_per_sample['layout']['yaxis5']['title']='Hours'\n",
    "\n",
    "fig_per_sample.update_layout(violingap=0, violinmode='overlay')\n",
    "fig_per_sample.update_xaxes(categoryorder='category ascending')\n",
    "\n",
    "\n",
    "fig_per_sample.show()"
   ]
  },
  {
   "cell_type": "code",
   "execution_count": 17,
   "metadata": {},
   "outputs": [
    {
     "data": {
      "text/plain": [
       "'Plots/Performance/Computational Performance Metrics Distribution.html'"
      ]
     },
     "execution_count": 17,
     "metadata": {},
     "output_type": "execute_result"
    }
   ],
   "source": [
    "plot(fig_per_sample, filename='Plots/Performance/Computational Performance Metrics Distribution.html', auto_open=False)"
   ]
  },
  {
   "cell_type": "code",
   "execution_count": 18,
   "metadata": {},
   "outputs": [
    {
     "data": {
      "application/vnd.plotly.v1+json": {
       "config": {
        "plotlyServerURL": "https://plot.ly"
       },
       "data": [
        {
         "box": {
          "visible": true
         },
         "fillcolor": "#004B93",
         "legendgroup": "Log",
         "line": {
          "color": "black"
         },
         "meanline": {
          "visible": true
         },
         "name": "ENN",
         "opacity": 0.5,
         "scalegroup": "Log",
         "showlegend": true,
         "spanmode": "hard",
         "type": "violin",
         "x": [
          "BCALM2",
          "MINIA",
          "MetaHipMer2",
          "SKESA",
          "MEGAHIT",
          "SPAdes",
          "metaSPAdes",
          "IDBA-UD",
          "MetaHipMer2",
          "AbYSS",
          "GATBMiniaPipeline",
          "VelvetOptimiser",
          "Unicycler",
          "BCALM2",
          "MINIA",
          "MetaHipMer2",
          "SKESA",
          "MEGAHIT",
          "MetaHipMer2",
          "SPAdes",
          "metaSPAdes",
          "IDBA-UD",
          "GATBMiniaPipeline",
          "AbYSS",
          "VelvetOptimiser",
          "Unicycler",
          "BCALM2",
          "MINIA",
          "MEGAHIT",
          "SKESA",
          "metaSPAdes",
          "SPAdes",
          "MetaHipMer2",
          "GATBMiniaPipeline",
          "AbYSS",
          "IDBA-UD",
          "MetaHipMer2",
          "VelvetOptimiser",
          "Unicycler"
         ],
         "xaxis": "x",
         "y": [
          0.5608,
          0.6165944444444444,
          0.19830555555555554,
          2.172229166666667,
          3.0711277777777775,
          3.8445333333333336,
          4.280209027777778,
          6.520140277777778,
          8.01640138888889,
          12.006674999999998,
          19.312708333333333,
          12.740359027777778,
          17.487256944444447,
          0.5234340277777778,
          0.54325625,
          0.18412499999999998,
          2.1177916666666667,
          3.4327631944444437,
          6.791805555555555,
          3.7515388888888888,
          4.433430555555555,
          5.8942097222222225,
          19.661493055555557,
          0.28170416666666664,
          12.614135416666667,
          16.548690277777776,
          0.5712777777777778,
          0.5691291666666667,
          3.4935,
          2.2159479166666665,
          4.714954166666667,
          3.8669583333333333,
          0.1644951388888889,
          19.95622291666667,
          15.50093888888889,
          5.5436645833333325,
          5.991933333333333,
          13.437566666666667,
          15.324381944444445
         ],
         "yaxis": "y"
        },
        {
         "box": {
          "visible": true
         },
         "fillcolor": "#009392",
         "legendgroup": "Log",
         "line": {
          "color": "black"
         },
         "meanline": {
          "visible": true
         },
         "name": "EMS",
         "opacity": 0.5,
         "scalegroup": "Log",
         "showlegend": true,
         "spanmode": "hard",
         "type": "violin",
         "x": [
          "BCALM2",
          "MINIA",
          "MetaHipMer2",
          "SKESA",
          "MEGAHIT",
          "IDBA-UD",
          "metaSPAdes",
          "MetaHipMer2",
          "GATBMiniaPipeline",
          "SPAdes",
          "VelvetOptimiser",
          "AbYSS",
          "Unicycler",
          "MetaHipMer2",
          "BCALM2",
          "MINIA",
          "SKESA",
          "MetaHipMer2",
          "IDBA-UD",
          "MEGAHIT",
          "metaSPAdes",
          "GATBMiniaPipeline",
          "SPAdes",
          "VelvetOptimiser",
          "AbYSS",
          "Unicycler",
          "BCALM2",
          "MINIA",
          "SKESA",
          "MEGAHIT",
          "MetaHipMer2",
          "GATBMiniaPipeline",
          "IDBA-UD",
          "metaSPAdes",
          "SPAdes",
          "MetaHipMer2",
          "VelvetOptimiser",
          "AbYSS",
          "Unicycler"
         ],
         "xaxis": "x",
         "y": [
          0.7347222222222223,
          0.7890944444444444,
          0.23838958333333338,
          2.485777777777778,
          5.11601111111111,
          7.335643750000001,
          10.089422222222222,
          14.61972847222222,
          22.438472222222224,
          11.643477083333334,
          17.441155555555554,
          156.49232500000002,
          34.43564930555555,
          0.18903333333333333,
          0.011547916666666665,
          0.7028458333333334,
          2.3858333333333337,
          8.613183333333334,
          7.361604166666666,
          5.0626875,
          10.063622222222222,
          22.212916666666665,
          11.496527777777777,
          0.3115451388888889,
          188.32357638888888,
          38.1801375,
          0.6993055555555555,
          0.8155736111111112,
          2.285675,
          4.692683333333334,
          0.18475625,
          21.613555555555553,
          6.8152638888888895,
          10.332272222222223,
          10.405909722222223,
          8.163397222222223,
          17.9225,
          137.37860833333335,
          35.119712500000006
         ],
         "yaxis": "y"
        },
        {
         "box": {
          "visible": true
         },
         "fillcolor": "#39B185",
         "legendgroup": "Log",
         "line": {
          "color": "black"
         },
         "meanline": {
          "visible": true
         },
         "name": "ERR2984773",
         "opacity": 0.5,
         "scalegroup": "Log",
         "showlegend": true,
         "spanmode": "hard",
         "type": "violin",
         "x": [
          "BCALM2",
          "MINIA",
          "MetaHipMer2",
          "SKESA",
          "MEGAHIT",
          "IDBA-UD",
          "MetaHipMer2",
          "metaSPAdes",
          "GATBMiniaPipeline",
          "SPAdes",
          "VelvetOptimiser",
          "Unicycler",
          "AbYSS",
          "AbYSS",
          "AbYSS",
          "MetaHipMer2",
          "BCALM2",
          "MINIA",
          "SKESA",
          "MEGAHIT",
          "MetaHipMer2",
          "IDBA-UD",
          "GATBMiniaPipeline",
          "metaSPAdes",
          "SPAdes",
          "VelvetOptimiser",
          "Unicycler",
          "AbYSS",
          "AbYSS",
          "AbYSS",
          "BCALM2",
          "MINIA",
          "SKESA",
          "MEGAHIT",
          "MetaHipMer2",
          "IDBA-UD",
          "GATBMiniaPipeline",
          "metaSPAdes",
          "MetaHipMer2",
          "SPAdes",
          "VelvetOptimiser",
          "Unicycler",
          "AbYSS",
          "AbYSS",
          "AbYSS"
         ],
         "xaxis": "x",
         "y": [
          1.0166520833333335,
          1.6075972222222221,
          0.26435138888888887,
          3.6945111111111113,
          5.27690625,
          11.466349305555555,
          20.43403541666667,
          13.252804166666666,
          31.45874722222222,
          13.36508611111111,
          18.893603472222225,
          61.24059027777778,
          0,
          0,
          95.57243124999998,
          0.191475,
          1.0406666666666669,
          1.5186666666666666,
          3.510933333333333,
          5.929525,
          15.1636,
          11.524358333333334,
          29.972993055555552,
          14.81476736111111,
          13.06422361111111,
          17.954918055555556,
          54.32359236111112,
          0,
          0,
          0,
          1.0226805555555556,
          1.571609722222222,
          0.05812222222222222,
          6.555270833333333,
          0.19703125,
          11.177580555555556,
          29.868119444444442,
          13.571983333333334,
          15.803305555555555,
          14.186432638888888,
          17.877291666666668,
          60.38442361111111,
          0,
          0,
          0
         ],
         "yaxis": "y"
        },
        {
         "line": {
          "color": "crimson"
         },
         "mode": "lines",
         "name": "mean",
         "opacity": 0.8,
         "showlegend": true,
         "type": "scatter",
         "x": [
          "BCALM2",
          "MINIA",
          "BCALM2",
          "MINIA",
          "BCALM2",
          "MetaHipMer2",
          "MINIA",
          "MetaHipMer2",
          "MetaHipMer2",
          "SKESA",
          "MEGAHIT",
          "SKESA",
          "SKESA",
          "MEGAHIT",
          "SPAdes",
          "MEGAHIT",
          "metaSPAdes",
          "IDBA-UD",
          "IDBA-UD",
          "MetaHipMer2",
          "AbYSS",
          "GATBMiniaPipeline",
          "IDBA-UD",
          "metaSPAdes",
          "MetaHipMer2",
          "GATBMiniaPipeline",
          "MetaHipMer2",
          "SPAdes",
          "metaSPAdes",
          "VelvetOptimiser",
          "GATBMiniaPipeline",
          "SPAdes",
          "VelvetOptimiser",
          "VelvetOptimiser",
          "Unicycler",
          "AbYSS",
          "Unicycler",
          "Unicycler",
          "AbYSS",
          "AbYSS",
          "AbYSS",
          "BCALM2",
          "MINIA",
          "MetaHipMer2",
          "MetaHipMer2",
          "BCALM2",
          "MINIA",
          "MetaHipMer2",
          "BCALM2",
          "MINIA",
          "SKESA",
          "SKESA",
          "MEGAHIT",
          "MetaHipMer2",
          "SPAdes",
          "SKESA",
          "MetaHipMer2",
          "metaSPAdes",
          "MEGAHIT",
          "MetaHipMer2",
          "IDBA-UD",
          "MEGAHIT",
          "IDBA-UD",
          "IDBA-UD",
          "GATBMiniaPipeline",
          "metaSPAdes",
          "GATBMiniaPipeline",
          "AbYSS",
          "SPAdes",
          "VelvetOptimiser",
          "GATBMiniaPipeline",
          "metaSPAdes",
          "SPAdes",
          "VelvetOptimiser",
          "VelvetOptimiser",
          "Unicycler",
          "AbYSS",
          "Unicycler",
          "Unicycler",
          "AbYSS",
          "AbYSS",
          "AbYSS",
          "BCALM2",
          "BCALM2",
          "BCALM2",
          "MINIA",
          "MINIA",
          "MINIA",
          "MEGAHIT",
          "SKESA",
          "SKESA",
          "MEGAHIT",
          "SKESA",
          "MEGAHIT",
          "metaSPAdes",
          "SPAdes",
          "MetaHipMer2",
          "MetaHipMer2",
          "MetaHipMer2",
          "GATBMiniaPipeline",
          "AbYSS",
          "GATBMiniaPipeline",
          "IDBA-UD",
          "IDBA-UD",
          "metaSPAdes",
          "IDBA-UD",
          "SPAdes",
          "MetaHipMer2",
          "GATBMiniaPipeline",
          "metaSPAdes",
          "MetaHipMer2",
          "MetaHipMer2",
          "VelvetOptimiser",
          "SPAdes",
          "VelvetOptimiser",
          "VelvetOptimiser",
          "Unicycler",
          "AbYSS",
          "Unicycler",
          "Unicycler",
          "AbYSS",
          "AbYSS",
          "AbYSS"
         ],
         "xaxis": "x",
         "y": [
          13.926732260614274,
          13.926732260614274,
          13.926732260614274,
          13.926732260614274,
          13.926732260614274,
          13.926732260614274,
          13.926732260614274,
          13.926732260614274,
          13.926732260614274,
          13.926732260614274,
          13.926732260614274,
          13.926732260614274,
          13.926732260614274,
          13.926732260614274,
          13.926732260614274,
          13.926732260614274,
          13.926732260614274,
          13.926732260614274,
          13.926732260614274,
          13.926732260614274,
          13.926732260614274,
          13.926732260614274,
          13.926732260614274,
          13.926732260614274,
          13.926732260614274,
          13.926732260614274,
          13.926732260614274,
          13.926732260614274,
          13.926732260614274,
          13.926732260614274,
          13.926732260614274,
          13.926732260614274,
          13.926732260614274,
          13.926732260614274,
          13.926732260614274,
          13.926732260614274,
          13.926732260614274,
          13.926732260614274,
          13.926732260614274,
          13.926732260614274,
          13.926732260614274,
          13.926732260614274,
          13.926732260614274,
          13.926732260614274,
          13.926732260614274,
          13.926732260614274,
          13.926732260614274,
          13.926732260614274,
          13.926732260614274,
          13.926732260614274,
          13.926732260614274,
          13.926732260614274,
          13.926732260614274,
          13.926732260614274,
          13.926732260614274,
          13.926732260614274,
          13.926732260614274,
          13.926732260614274,
          13.926732260614274,
          13.926732260614274,
          13.926732260614274,
          13.926732260614274,
          13.926732260614274,
          13.926732260614274,
          13.926732260614274,
          13.926732260614274,
          13.926732260614274,
          13.926732260614274,
          13.926732260614274,
          13.926732260614274,
          13.926732260614274,
          13.926732260614274,
          13.926732260614274,
          13.926732260614274,
          13.926732260614274,
          13.926732260614274,
          13.926732260614274,
          13.926732260614274,
          13.926732260614274,
          13.926732260614274,
          13.926732260614274,
          13.926732260614274,
          13.926732260614274,
          13.926732260614274,
          13.926732260614274,
          13.926732260614274,
          13.926732260614274,
          13.926732260614274,
          13.926732260614274,
          13.926732260614274,
          13.926732260614274,
          13.926732260614274,
          13.926732260614274,
          13.926732260614274,
          13.926732260614274,
          13.926732260614274,
          13.926732260614274,
          13.926732260614274,
          13.926732260614274,
          13.926732260614274,
          13.926732260614274,
          13.926732260614274,
          13.926732260614274,
          13.926732260614274,
          13.926732260614274,
          13.926732260614274,
          13.926732260614274,
          13.926732260614274,
          13.926732260614274,
          13.926732260614274,
          13.926732260614274,
          13.926732260614274,
          13.926732260614274,
          13.926732260614274,
          13.926732260614274,
          13.926732260614274,
          13.926732260614274,
          13.926732260614274,
          13.926732260614274,
          13.926732260614274,
          13.926732260614274,
          13.926732260614274,
          13.926732260614274
         ],
         "yaxis": "y"
        },
        {
         "box": {
          "visible": true
         },
         "fillcolor": "#004B93",
         "legendgroup": "Log",
         "line": {
          "color": "black"
         },
         "meanline": {
          "visible": true
         },
         "name": "ENN",
         "opacity": 0.5,
         "scalegroup": "Log",
         "showlegend": false,
         "spanmode": "hard",
         "type": "violin",
         "x": [
          "BCALM2",
          "MINIA",
          "MetaHipMer2",
          "SKESA",
          "MEGAHIT",
          "SPAdes",
          "metaSPAdes",
          "IDBA-UD",
          "MetaHipMer2",
          "AbYSS",
          "GATBMiniaPipeline",
          "VelvetOptimiser",
          "Unicycler",
          "BCALM2",
          "MINIA",
          "MetaHipMer2",
          "SKESA",
          "MEGAHIT",
          "MetaHipMer2",
          "SPAdes",
          "metaSPAdes",
          "IDBA-UD",
          "GATBMiniaPipeline",
          "AbYSS",
          "VelvetOptimiser",
          "Unicycler",
          "BCALM2",
          "MINIA",
          "MEGAHIT",
          "SKESA",
          "metaSPAdes",
          "SPAdes",
          "MetaHipMer2",
          "GATBMiniaPipeline",
          "AbYSS",
          "IDBA-UD",
          "MetaHipMer2",
          "VelvetOptimiser",
          "Unicycler"
         ],
         "xaxis": "x2",
         "y": [
          5.1,
          5.1,
          32,
          16.1,
          1.7,
          4.6,
          4.6,
          5.7,
          56.9,
          2.9,
          6.8,
          27.3,
          4.6,
          5.1,
          5.1,
          32.9,
          16.1,
          1.7,
          56.8,
          4.6,
          4.6,
          5.6,
          6.9,
          3,
          26.6,
          4.7,
          5.1,
          5.1,
          1.7,
          16.1,
          4.6,
          4.6,
          32,
          6.8,
          3,
          5.6,
          57,
          27.1,
          4.6
         ],
         "yaxis": "y2"
        },
        {
         "box": {
          "visible": true
         },
         "fillcolor": "#009392",
         "legendgroup": "Log",
         "line": {
          "color": "black"
         },
         "meanline": {
          "visible": true
         },
         "name": "EMS",
         "opacity": 0.5,
         "scalegroup": "Log",
         "showlegend": false,
         "spanmode": "hard",
         "type": "violin",
         "x": [
          "BCALM2",
          "MINIA",
          "MetaHipMer2",
          "SKESA",
          "MEGAHIT",
          "IDBA-UD",
          "metaSPAdes",
          "MetaHipMer2",
          "GATBMiniaPipeline",
          "SPAdes",
          "VelvetOptimiser",
          "AbYSS",
          "Unicycler",
          "MetaHipMer2",
          "BCALM2",
          "MINIA",
          "SKESA",
          "MetaHipMer2",
          "IDBA-UD",
          "MEGAHIT",
          "metaSPAdes",
          "GATBMiniaPipeline",
          "SPAdes",
          "VelvetOptimiser",
          "AbYSS",
          "Unicycler",
          "BCALM2",
          "MINIA",
          "SKESA",
          "MEGAHIT",
          "MetaHipMer2",
          "GATBMiniaPipeline",
          "IDBA-UD",
          "metaSPAdes",
          "SPAdes",
          "MetaHipMer2",
          "VelvetOptimiser",
          "AbYSS",
          "Unicycler"
         ],
         "xaxis": "x2",
         "y": [
          6.7,
          6.6,
          32.1,
          17.8,
          2.1,
          6,
          4.9,
          57.3,
          6.8,
          4.6,
          31.9,
          3.3,
          6.5,
          32,
          6.7,
          6.6,
          17.8,
          57.3,
          6,
          2.1,
          4.6,
          6.8,
          4.6,
          31.9,
          3.2,
          6.3,
          6.6,
          6.6,
          17.8,
          2.1,
          32,
          6.7,
          6,
          5.6,
          4.6,
          57.2,
          31.9,
          3.2,
          6.3
         ],
         "yaxis": "y2"
        },
        {
         "box": {
          "visible": true
         },
         "fillcolor": "#39B185",
         "legendgroup": "Log",
         "line": {
          "color": "black"
         },
         "meanline": {
          "visible": true
         },
         "name": "ERR2984773",
         "opacity": 0.5,
         "scalegroup": "Log",
         "showlegend": false,
         "spanmode": "hard",
         "type": "violin",
         "x": [
          "BCALM2",
          "MINIA",
          "MetaHipMer2",
          "SKESA",
          "MEGAHIT",
          "IDBA-UD",
          "MetaHipMer2",
          "metaSPAdes",
          "GATBMiniaPipeline",
          "SPAdes",
          "VelvetOptimiser",
          "Unicycler",
          "AbYSS",
          "AbYSS",
          "AbYSS",
          "MetaHipMer2",
          "BCALM2",
          "MINIA",
          "SKESA",
          "MEGAHIT",
          "MetaHipMer2",
          "IDBA-UD",
          "GATBMiniaPipeline",
          "metaSPAdes",
          "SPAdes",
          "VelvetOptimiser",
          "Unicycler",
          "AbYSS",
          "AbYSS",
          "AbYSS",
          "BCALM2",
          "MINIA",
          "SKESA",
          "MEGAHIT",
          "MetaHipMer2",
          "IDBA-UD",
          "GATBMiniaPipeline",
          "metaSPAdes",
          "MetaHipMer2",
          "SPAdes",
          "VelvetOptimiser",
          "Unicycler",
          "AbYSS",
          "AbYSS",
          "AbYSS"
         ],
         "xaxis": "x2",
         "y": [
          4.7,
          4.8,
          31.9,
          17.8,
          2.1,
          10.4,
          60.4,
          6.2,
          5.7,
          6.5,
          31.9,
          13.8,
          0,
          0,
          3.6,
          32,
          4.6,
          4.8,
          17.8,
          2.1,
          60.1,
          10.4,
          5.6,
          6.9,
          6.8,
          31.9,
          13.9,
          0,
          0,
          0,
          4.8,
          4.8,
          17.8,
          2.1,
          31.8,
          10.4,
          5.6,
          6.5,
          60.4,
          5.7,
          31.9,
          14.1,
          0,
          0,
          0
         ],
         "yaxis": "y2"
        },
        {
         "line": {
          "color": "crimson"
         },
         "mode": "lines",
         "name": "mean",
         "opacity": 0.8,
         "showlegend": false,
         "type": "scatter",
         "x": [
          "BCALM2",
          "MINIA",
          "BCALM2",
          "MINIA",
          "BCALM2",
          "MetaHipMer2",
          "MINIA",
          "MetaHipMer2",
          "MetaHipMer2",
          "SKESA",
          "MEGAHIT",
          "SKESA",
          "SKESA",
          "MEGAHIT",
          "SPAdes",
          "MEGAHIT",
          "metaSPAdes",
          "IDBA-UD",
          "IDBA-UD",
          "MetaHipMer2",
          "AbYSS",
          "GATBMiniaPipeline",
          "IDBA-UD",
          "metaSPAdes",
          "MetaHipMer2",
          "GATBMiniaPipeline",
          "MetaHipMer2",
          "SPAdes",
          "metaSPAdes",
          "VelvetOptimiser",
          "GATBMiniaPipeline",
          "SPAdes",
          "VelvetOptimiser",
          "VelvetOptimiser",
          "Unicycler",
          "AbYSS",
          "Unicycler",
          "Unicycler",
          "AbYSS",
          "AbYSS",
          "AbYSS",
          "BCALM2",
          "MINIA",
          "MetaHipMer2",
          "MetaHipMer2",
          "BCALM2",
          "MINIA",
          "MetaHipMer2",
          "BCALM2",
          "MINIA",
          "SKESA",
          "SKESA",
          "MEGAHIT",
          "MetaHipMer2",
          "SPAdes",
          "SKESA",
          "MetaHipMer2",
          "metaSPAdes",
          "MEGAHIT",
          "MetaHipMer2",
          "IDBA-UD",
          "MEGAHIT",
          "IDBA-UD",
          "IDBA-UD",
          "GATBMiniaPipeline",
          "metaSPAdes",
          "GATBMiniaPipeline",
          "AbYSS",
          "SPAdes",
          "VelvetOptimiser",
          "GATBMiniaPipeline",
          "metaSPAdes",
          "SPAdes",
          "VelvetOptimiser",
          "VelvetOptimiser",
          "Unicycler",
          "AbYSS",
          "Unicycler",
          "Unicycler",
          "AbYSS",
          "AbYSS",
          "AbYSS",
          "BCALM2",
          "BCALM2",
          "BCALM2",
          "MINIA",
          "MINIA",
          "MINIA",
          "MEGAHIT",
          "SKESA",
          "SKESA",
          "MEGAHIT",
          "SKESA",
          "MEGAHIT",
          "metaSPAdes",
          "SPAdes",
          "MetaHipMer2",
          "MetaHipMer2",
          "MetaHipMer2",
          "GATBMiniaPipeline",
          "AbYSS",
          "GATBMiniaPipeline",
          "IDBA-UD",
          "IDBA-UD",
          "metaSPAdes",
          "IDBA-UD",
          "SPAdes",
          "MetaHipMer2",
          "GATBMiniaPipeline",
          "metaSPAdes",
          "MetaHipMer2",
          "MetaHipMer2",
          "VelvetOptimiser",
          "SPAdes",
          "VelvetOptimiser",
          "VelvetOptimiser",
          "Unicycler",
          "AbYSS",
          "Unicycler",
          "Unicycler",
          "AbYSS",
          "AbYSS",
          "AbYSS"
         ],
         "xaxis": "x2",
         "y": [
          13.59430894308943,
          13.59430894308943,
          13.59430894308943,
          13.59430894308943,
          13.59430894308943,
          13.59430894308943,
          13.59430894308943,
          13.59430894308943,
          13.59430894308943,
          13.59430894308943,
          13.59430894308943,
          13.59430894308943,
          13.59430894308943,
          13.59430894308943,
          13.59430894308943,
          13.59430894308943,
          13.59430894308943,
          13.59430894308943,
          13.59430894308943,
          13.59430894308943,
          13.59430894308943,
          13.59430894308943,
          13.59430894308943,
          13.59430894308943,
          13.59430894308943,
          13.59430894308943,
          13.59430894308943,
          13.59430894308943,
          13.59430894308943,
          13.59430894308943,
          13.59430894308943,
          13.59430894308943,
          13.59430894308943,
          13.59430894308943,
          13.59430894308943,
          13.59430894308943,
          13.59430894308943,
          13.59430894308943,
          13.59430894308943,
          13.59430894308943,
          13.59430894308943,
          13.59430894308943,
          13.59430894308943,
          13.59430894308943,
          13.59430894308943,
          13.59430894308943,
          13.59430894308943,
          13.59430894308943,
          13.59430894308943,
          13.59430894308943,
          13.59430894308943,
          13.59430894308943,
          13.59430894308943,
          13.59430894308943,
          13.59430894308943,
          13.59430894308943,
          13.59430894308943,
          13.59430894308943,
          13.59430894308943,
          13.59430894308943,
          13.59430894308943,
          13.59430894308943,
          13.59430894308943,
          13.59430894308943,
          13.59430894308943,
          13.59430894308943,
          13.59430894308943,
          13.59430894308943,
          13.59430894308943,
          13.59430894308943,
          13.59430894308943,
          13.59430894308943,
          13.59430894308943,
          13.59430894308943,
          13.59430894308943,
          13.59430894308943,
          13.59430894308943,
          13.59430894308943,
          13.59430894308943,
          13.59430894308943,
          13.59430894308943,
          13.59430894308943,
          13.59430894308943,
          13.59430894308943,
          13.59430894308943,
          13.59430894308943,
          13.59430894308943,
          13.59430894308943,
          13.59430894308943,
          13.59430894308943,
          13.59430894308943,
          13.59430894308943,
          13.59430894308943,
          13.59430894308943,
          13.59430894308943,
          13.59430894308943,
          13.59430894308943,
          13.59430894308943,
          13.59430894308943,
          13.59430894308943,
          13.59430894308943,
          13.59430894308943,
          13.59430894308943,
          13.59430894308943,
          13.59430894308943,
          13.59430894308943,
          13.59430894308943,
          13.59430894308943,
          13.59430894308943,
          13.59430894308943,
          13.59430894308943,
          13.59430894308943,
          13.59430894308943,
          13.59430894308943,
          13.59430894308943,
          13.59430894308943,
          13.59430894308943,
          13.59430894308943,
          13.59430894308943,
          13.59430894308943,
          13.59430894308943,
          13.59430894308943,
          13.59430894308943
         ],
         "yaxis": "y2"
        },
        {
         "box": {
          "visible": true
         },
         "fillcolor": "#004B93",
         "legendgroup": "Log",
         "line": {
          "color": "black"
         },
         "meanline": {
          "visible": true
         },
         "name": "ENN",
         "opacity": 0.5,
         "scalegroup": "Log",
         "showlegend": false,
         "spanmode": "hard",
         "type": "violin",
         "x": [
          "BCALM2",
          "MINIA",
          "MetaHipMer2",
          "SKESA",
          "MEGAHIT",
          "SPAdes",
          "metaSPAdes",
          "IDBA-UD",
          "MetaHipMer2",
          "AbYSS",
          "GATBMiniaPipeline",
          "VelvetOptimiser",
          "Unicycler",
          "BCALM2",
          "MINIA",
          "MetaHipMer2",
          "SKESA",
          "MEGAHIT",
          "MetaHipMer2",
          "SPAdes",
          "metaSPAdes",
          "IDBA-UD",
          "GATBMiniaPipeline",
          "AbYSS",
          "VelvetOptimiser",
          "Unicycler",
          "BCALM2",
          "MINIA",
          "MEGAHIT",
          "SKESA",
          "metaSPAdes",
          "SPAdes",
          "MetaHipMer2",
          "GATBMiniaPipeline",
          "AbYSS",
          "IDBA-UD",
          "MetaHipMer2",
          "VelvetOptimiser",
          "Unicycler"
         ],
         "xaxis": "x3",
         "y": [
          5.9,
          6.5,
          4.9,
          0.3685,
          16.5,
          9.6,
          12.6,
          5.3,
          5,
          25.1,
          40.5,
          236.1,
          36.2,
          5.9,
          6.5,
          4.9,
          0.3685,
          16.5,
          5,
          9.6,
          12.6,
          5.3,
          47.6,
          25,
          236.1,
          36.2,
          5.9,
          6.5,
          16.5,
          0.3685,
          12.6,
          9.6,
          4.9,
          50.9,
          25.1,
          5.3,
          5,
          236.1,
          36.2
         ],
         "yaxis": "y3"
        },
        {
         "box": {
          "visible": true
         },
         "fillcolor": "#009392",
         "legendgroup": "Log",
         "line": {
          "color": "black"
         },
         "meanline": {
          "visible": true
         },
         "name": "EMS",
         "opacity": 0.5,
         "scalegroup": "Log",
         "showlegend": false,
         "spanmode": "hard",
         "type": "violin",
         "x": [
          "BCALM2",
          "MINIA",
          "MetaHipMer2",
          "SKESA",
          "MEGAHIT",
          "IDBA-UD",
          "metaSPAdes",
          "MetaHipMer2",
          "GATBMiniaPipeline",
          "SPAdes",
          "VelvetOptimiser",
          "AbYSS",
          "Unicycler",
          "MetaHipMer2",
          "BCALM2",
          "MINIA",
          "SKESA",
          "MetaHipMer2",
          "IDBA-UD",
          "MEGAHIT",
          "metaSPAdes",
          "GATBMiniaPipeline",
          "SPAdes",
          "VelvetOptimiser",
          "AbYSS",
          "Unicycler",
          "BCALM2",
          "MINIA",
          "SKESA",
          "MEGAHIT",
          "MetaHipMer2",
          "GATBMiniaPipeline",
          "IDBA-UD",
          "metaSPAdes",
          "SPAdes",
          "MetaHipMer2",
          "VelvetOptimiser",
          "AbYSS",
          "Unicycler"
         ],
         "xaxis": "x3",
         "y": [
          8.5,
          9.1,
          5.8,
          0.9135,
          20.6,
          5.8,
          15.8,
          5.9,
          61.4,
          15.7,
          283.9,
          33.3,
          46.8,
          5.8,
          8.5,
          9.1,
          0.9135,
          5.9,
          5.8,
          20.6,
          15.8,
          63.9,
          15.7,
          283.9,
          33.3,
          46.8,
          8.5,
          9.1,
          0.9135,
          20.6,
          5.8,
          46,
          5.8,
          15.8,
          15.7,
          5.9,
          283.9,
          33.3,
          46.8
         ],
         "yaxis": "y3"
        },
        {
         "box": {
          "visible": true
         },
         "fillcolor": "#39B185",
         "legendgroup": "Log",
         "line": {
          "color": "black"
         },
         "meanline": {
          "visible": true
         },
         "name": "ERR2984773",
         "opacity": 0.5,
         "scalegroup": "Log",
         "showlegend": false,
         "spanmode": "hard",
         "type": "violin",
         "x": [
          "BCALM2",
          "MINIA",
          "MetaHipMer2",
          "SKESA",
          "MEGAHIT",
          "IDBA-UD",
          "MetaHipMer2",
          "metaSPAdes",
          "GATBMiniaPipeline",
          "SPAdes",
          "VelvetOptimiser",
          "Unicycler",
          "AbYSS",
          "AbYSS",
          "AbYSS",
          "MetaHipMer2",
          "BCALM2",
          "MINIA",
          "SKESA",
          "MEGAHIT",
          "MetaHipMer2",
          "IDBA-UD",
          "GATBMiniaPipeline",
          "metaSPAdes",
          "SPAdes",
          "VelvetOptimiser",
          "Unicycler",
          "AbYSS",
          "AbYSS",
          "AbYSS",
          "BCALM2",
          "MINIA",
          "SKESA",
          "MEGAHIT",
          "MetaHipMer2",
          "IDBA-UD",
          "GATBMiniaPipeline",
          "metaSPAdes",
          "MetaHipMer2",
          "SPAdes",
          "VelvetOptimiser",
          "Unicycler",
          "AbYSS",
          "AbYSS",
          "AbYSS"
         ],
         "xaxis": "x3",
         "y": [
          16.2,
          17.3,
          6.3,
          0.8847999999999999,
          22.3,
          8.8,
          6.4,
          16.2,
          89.7,
          15.9,
          218.7,
          48,
          0,
          0,
          36.8,
          6.3,
          16.2,
          17.3,
          0.8847999999999999,
          22.3,
          6.4,
          8.8,
          96.8,
          16.2,
          15.9,
          216.7,
          48,
          0,
          0,
          0,
          16.2,
          17.3,
          0.8847999999999999,
          22.3,
          6.3,
          8.8,
          88.7,
          16.2,
          6.4,
          15.9,
          221.9,
          48,
          0,
          0,
          0
         ],
         "yaxis": "y3"
        },
        {
         "line": {
          "color": "crimson"
         },
         "mode": "lines",
         "name": "mean",
         "opacity": 0.8,
         "showlegend": false,
         "type": "scatter",
         "x": [
          "BCALM2",
          "MINIA",
          "BCALM2",
          "MINIA",
          "BCALM2",
          "MetaHipMer2",
          "MINIA",
          "MetaHipMer2",
          "MetaHipMer2",
          "SKESA",
          "MEGAHIT",
          "SKESA",
          "SKESA",
          "MEGAHIT",
          "SPAdes",
          "MEGAHIT",
          "metaSPAdes",
          "IDBA-UD",
          "IDBA-UD",
          "MetaHipMer2",
          "AbYSS",
          "GATBMiniaPipeline",
          "IDBA-UD",
          "metaSPAdes",
          "MetaHipMer2",
          "GATBMiniaPipeline",
          "MetaHipMer2",
          "SPAdes",
          "metaSPAdes",
          "VelvetOptimiser",
          "GATBMiniaPipeline",
          "SPAdes",
          "VelvetOptimiser",
          "VelvetOptimiser",
          "Unicycler",
          "AbYSS",
          "Unicycler",
          "Unicycler",
          "AbYSS",
          "AbYSS",
          "AbYSS",
          "BCALM2",
          "MINIA",
          "MetaHipMer2",
          "MetaHipMer2",
          "BCALM2",
          "MINIA",
          "MetaHipMer2",
          "BCALM2",
          "MINIA",
          "SKESA",
          "SKESA",
          "MEGAHIT",
          "MetaHipMer2",
          "SPAdes",
          "SKESA",
          "MetaHipMer2",
          "metaSPAdes",
          "MEGAHIT",
          "MetaHipMer2",
          "IDBA-UD",
          "MEGAHIT",
          "IDBA-UD",
          "IDBA-UD",
          "GATBMiniaPipeline",
          "metaSPAdes",
          "GATBMiniaPipeline",
          "AbYSS",
          "SPAdes",
          "VelvetOptimiser",
          "GATBMiniaPipeline",
          "metaSPAdes",
          "SPAdes",
          "VelvetOptimiser",
          "VelvetOptimiser",
          "Unicycler",
          "AbYSS",
          "Unicycler",
          "Unicycler",
          "AbYSS",
          "AbYSS",
          "AbYSS",
          "BCALM2",
          "BCALM2",
          "BCALM2",
          "MINIA",
          "MINIA",
          "MINIA",
          "MEGAHIT",
          "SKESA",
          "SKESA",
          "MEGAHIT",
          "SKESA",
          "MEGAHIT",
          "metaSPAdes",
          "SPAdes",
          "MetaHipMer2",
          "MetaHipMer2",
          "MetaHipMer2",
          "GATBMiniaPipeline",
          "AbYSS",
          "GATBMiniaPipeline",
          "IDBA-UD",
          "IDBA-UD",
          "metaSPAdes",
          "IDBA-UD",
          "SPAdes",
          "MetaHipMer2",
          "GATBMiniaPipeline",
          "metaSPAdes",
          "MetaHipMer2",
          "MetaHipMer2",
          "VelvetOptimiser",
          "SPAdes",
          "VelvetOptimiser",
          "VelvetOptimiser",
          "Unicycler",
          "AbYSS",
          "Unicycler",
          "Unicycler",
          "AbYSS",
          "AbYSS",
          "AbYSS"
         ],
         "xaxis": "x3",
         "y": [
          34.16992195121951,
          34.16992195121951,
          34.16992195121951,
          34.16992195121951,
          34.16992195121951,
          34.16992195121951,
          34.16992195121951,
          34.16992195121951,
          34.16992195121951,
          34.16992195121951,
          34.16992195121951,
          34.16992195121951,
          34.16992195121951,
          34.16992195121951,
          34.16992195121951,
          34.16992195121951,
          34.16992195121951,
          34.16992195121951,
          34.16992195121951,
          34.16992195121951,
          34.16992195121951,
          34.16992195121951,
          34.16992195121951,
          34.16992195121951,
          34.16992195121951,
          34.16992195121951,
          34.16992195121951,
          34.16992195121951,
          34.16992195121951,
          34.16992195121951,
          34.16992195121951,
          34.16992195121951,
          34.16992195121951,
          34.16992195121951,
          34.16992195121951,
          34.16992195121951,
          34.16992195121951,
          34.16992195121951,
          34.16992195121951,
          34.16992195121951,
          34.16992195121951,
          34.16992195121951,
          34.16992195121951,
          34.16992195121951,
          34.16992195121951,
          34.16992195121951,
          34.16992195121951,
          34.16992195121951,
          34.16992195121951,
          34.16992195121951,
          34.16992195121951,
          34.16992195121951,
          34.16992195121951,
          34.16992195121951,
          34.16992195121951,
          34.16992195121951,
          34.16992195121951,
          34.16992195121951,
          34.16992195121951,
          34.16992195121951,
          34.16992195121951,
          34.16992195121951,
          34.16992195121951,
          34.16992195121951,
          34.16992195121951,
          34.16992195121951,
          34.16992195121951,
          34.16992195121951,
          34.16992195121951,
          34.16992195121951,
          34.16992195121951,
          34.16992195121951,
          34.16992195121951,
          34.16992195121951,
          34.16992195121951,
          34.16992195121951,
          34.16992195121951,
          34.16992195121951,
          34.16992195121951,
          34.16992195121951,
          34.16992195121951,
          34.16992195121951,
          34.16992195121951,
          34.16992195121951,
          34.16992195121951,
          34.16992195121951,
          34.16992195121951,
          34.16992195121951,
          34.16992195121951,
          34.16992195121951,
          34.16992195121951,
          34.16992195121951,
          34.16992195121951,
          34.16992195121951,
          34.16992195121951,
          34.16992195121951,
          34.16992195121951,
          34.16992195121951,
          34.16992195121951,
          34.16992195121951,
          34.16992195121951,
          34.16992195121951,
          34.16992195121951,
          34.16992195121951,
          34.16992195121951,
          34.16992195121951,
          34.16992195121951,
          34.16992195121951,
          34.16992195121951,
          34.16992195121951,
          34.16992195121951,
          34.16992195121951,
          34.16992195121951,
          34.16992195121951,
          34.16992195121951,
          34.16992195121951,
          34.16992195121951,
          34.16992195121951,
          34.16992195121951,
          34.16992195121951,
          34.16992195121951,
          34.16992195121951,
          34.16992195121951
         ],
         "yaxis": "y3"
        },
        {
         "box": {
          "visible": true
         },
         "fillcolor": "#004B93",
         "legendgroup": "Log",
         "line": {
          "color": "black"
         },
         "meanline": {
          "visible": true
         },
         "name": "ENN",
         "opacity": 0.5,
         "scalegroup": "Log",
         "showlegend": false,
         "spanmode": "hard",
         "type": "violin",
         "x": [
          "BCALM2",
          "MINIA",
          "MetaHipMer2",
          "SKESA",
          "MEGAHIT",
          "SPAdes",
          "metaSPAdes",
          "IDBA-UD",
          "MetaHipMer2",
          "AbYSS",
          "GATBMiniaPipeline",
          "VelvetOptimiser",
          "Unicycler",
          "BCALM2",
          "MINIA",
          "MetaHipMer2",
          "SKESA",
          "MEGAHIT",
          "MetaHipMer2",
          "SPAdes",
          "metaSPAdes",
          "IDBA-UD",
          "GATBMiniaPipeline",
          "AbYSS",
          "VelvetOptimiser",
          "Unicycler",
          "BCALM2",
          "MINIA",
          "MEGAHIT",
          "SKESA",
          "metaSPAdes",
          "SPAdes",
          "MetaHipMer2",
          "GATBMiniaPipeline",
          "AbYSS",
          "IDBA-UD",
          "MetaHipMer2",
          "VelvetOptimiser",
          "Unicycler"
         ],
         "xaxis": "x4",
         "y": [
          3.4,
          3.5,
          4.4,
          0.0288,
          6.9,
          11.2,
          11.3,
          2.5,
          4.7,
          21.9,
          16,
          29.3,
          93.8,
          3.4,
          3.5,
          4.4,
          0.0288,
          6.9,
          4.7,
          11.2,
          11.3,
          2.5,
          16.1,
          21.9,
          29.3,
          93.8,
          3.4,
          3.5,
          6.9,
          0.0288,
          11.3,
          11.2,
          4.4,
          16.1,
          21.9,
          2.5,
          4.7,
          29.3,
          93.8
         ],
         "yaxis": "y4"
        },
        {
         "box": {
          "visible": true
         },
         "fillcolor": "#009392",
         "legendgroup": "Log",
         "line": {
          "color": "black"
         },
         "meanline": {
          "visible": true
         },
         "name": "EMS",
         "opacity": 0.5,
         "scalegroup": "Log",
         "showlegend": false,
         "spanmode": "hard",
         "type": "violin",
         "x": [
          "BCALM2",
          "MINIA",
          "MetaHipMer2",
          "SKESA",
          "MEGAHIT",
          "IDBA-UD",
          "metaSPAdes",
          "MetaHipMer2",
          "GATBMiniaPipeline",
          "SPAdes",
          "VelvetOptimiser",
          "AbYSS",
          "Unicycler",
          "MetaHipMer2",
          "BCALM2",
          "MINIA",
          "SKESA",
          "MetaHipMer2",
          "IDBA-UD",
          "MEGAHIT",
          "metaSPAdes",
          "GATBMiniaPipeline",
          "SPAdes",
          "VelvetOptimiser",
          "AbYSS",
          "Unicycler",
          "BCALM2",
          "MINIA",
          "SKESA",
          "MEGAHIT",
          "MetaHipMer2",
          "GATBMiniaPipeline",
          "IDBA-UD",
          "metaSPAdes",
          "SPAdes",
          "MetaHipMer2",
          "VelvetOptimiser",
          "AbYSS",
          "Unicycler"
         ],
         "xaxis": "x4",
         "y": [
          4.3,
          4.4,
          5.2,
          0.0289,
          8,
          2.6,
          31.8,
          5.7,
          19.5,
          53.2,
          34.8,
          25.4,
          281.9,
          5.2,
          4.3,
          4.4,
          0.0289,
          5.7,
          2.6,
          8,
          31.8,
          19.5,
          53.2,
          34.8,
          25.4,
          281.9,
          4.3,
          4.4,
          0.0289,
          8,
          5.2,
          19.4,
          2.6,
          31.8,
          53.2,
          5.7,
          34.8,
          25.4,
          281.9
         ],
         "yaxis": "y4"
        },
        {
         "box": {
          "visible": true
         },
         "fillcolor": "#39B185",
         "legendgroup": "Log",
         "line": {
          "color": "black"
         },
         "meanline": {
          "visible": true
         },
         "name": "ERR2984773",
         "opacity": 0.5,
         "scalegroup": "Log",
         "showlegend": false,
         "spanmode": "hard",
         "type": "violin",
         "x": [
          "BCALM2",
          "MINIA",
          "MetaHipMer2",
          "SKESA",
          "MEGAHIT",
          "IDBA-UD",
          "MetaHipMer2",
          "metaSPAdes",
          "GATBMiniaPipeline",
          "SPAdes",
          "VelvetOptimiser",
          "Unicycler",
          "AbYSS",
          "AbYSS",
          "AbYSS",
          "MetaHipMer2",
          "BCALM2",
          "MINIA",
          "SKESA",
          "MEGAHIT",
          "MetaHipMer2",
          "IDBA-UD",
          "GATBMiniaPipeline",
          "metaSPAdes",
          "SPAdes",
          "VelvetOptimiser",
          "Unicycler",
          "AbYSS",
          "AbYSS",
          "AbYSS",
          "BCALM2",
          "MINIA",
          "SKESA",
          "MEGAHIT",
          "MetaHipMer2",
          "IDBA-UD",
          "GATBMiniaPipeline",
          "metaSPAdes",
          "MetaHipMer2",
          "SPAdes",
          "VelvetOptimiser",
          "Unicycler",
          "AbYSS",
          "AbYSS",
          "AbYSS"
         ],
         "xaxis": "x4",
         "y": [
          6.8,
          6.8,
          4.1,
          0.0291,
          9.5,
          5,
          5.8,
          57.7,
          28.2,
          96.3,
          44.3,
          555.6,
          0,
          0,
          28,
          4.1,
          6.8,
          6.8,
          0.0291,
          9.5,
          5.8,
          5,
          28.2,
          57.7,
          96.3,
          43.2,
          555.6,
          0,
          0,
          0,
          6.8,
          6.8,
          0.0291,
          9.5,
          4.1,
          5,
          28.2,
          57.7,
          5.8,
          96.3,
          46.1,
          555.6,
          0,
          0,
          0
         ],
         "yaxis": "y4"
        },
        {
         "line": {
          "color": "crimson"
         },
         "mode": "lines",
         "name": "mean",
         "opacity": 0.8,
         "showlegend": false,
         "type": "scatter",
         "x": [
          "BCALM2",
          "MINIA",
          "BCALM2",
          "MINIA",
          "BCALM2",
          "MetaHipMer2",
          "MINIA",
          "MetaHipMer2",
          "MetaHipMer2",
          "SKESA",
          "MEGAHIT",
          "SKESA",
          "SKESA",
          "MEGAHIT",
          "SPAdes",
          "MEGAHIT",
          "metaSPAdes",
          "IDBA-UD",
          "IDBA-UD",
          "MetaHipMer2",
          "AbYSS",
          "GATBMiniaPipeline",
          "IDBA-UD",
          "metaSPAdes",
          "MetaHipMer2",
          "GATBMiniaPipeline",
          "MetaHipMer2",
          "SPAdes",
          "metaSPAdes",
          "VelvetOptimiser",
          "GATBMiniaPipeline",
          "SPAdes",
          "VelvetOptimiser",
          "VelvetOptimiser",
          "Unicycler",
          "AbYSS",
          "Unicycler",
          "Unicycler",
          "AbYSS",
          "AbYSS",
          "AbYSS",
          "BCALM2",
          "MINIA",
          "MetaHipMer2",
          "MetaHipMer2",
          "BCALM2",
          "MINIA",
          "MetaHipMer2",
          "BCALM2",
          "MINIA",
          "SKESA",
          "SKESA",
          "MEGAHIT",
          "MetaHipMer2",
          "SPAdes",
          "SKESA",
          "MetaHipMer2",
          "metaSPAdes",
          "MEGAHIT",
          "MetaHipMer2",
          "IDBA-UD",
          "MEGAHIT",
          "IDBA-UD",
          "IDBA-UD",
          "GATBMiniaPipeline",
          "metaSPAdes",
          "GATBMiniaPipeline",
          "AbYSS",
          "SPAdes",
          "VelvetOptimiser",
          "GATBMiniaPipeline",
          "metaSPAdes",
          "SPAdes",
          "VelvetOptimiser",
          "VelvetOptimiser",
          "Unicycler",
          "AbYSS",
          "Unicycler",
          "Unicycler",
          "AbYSS",
          "AbYSS",
          "AbYSS",
          "BCALM2",
          "BCALM2",
          "BCALM2",
          "MINIA",
          "MINIA",
          "MINIA",
          "MEGAHIT",
          "SKESA",
          "SKESA",
          "MEGAHIT",
          "SKESA",
          "MEGAHIT",
          "metaSPAdes",
          "SPAdes",
          "MetaHipMer2",
          "MetaHipMer2",
          "MetaHipMer2",
          "GATBMiniaPipeline",
          "AbYSS",
          "GATBMiniaPipeline",
          "IDBA-UD",
          "IDBA-UD",
          "metaSPAdes",
          "IDBA-UD",
          "SPAdes",
          "MetaHipMer2",
          "GATBMiniaPipeline",
          "metaSPAdes",
          "MetaHipMer2",
          "MetaHipMer2",
          "VelvetOptimiser",
          "SPAdes",
          "VelvetOptimiser",
          "VelvetOptimiser",
          "Unicycler",
          "AbYSS",
          "Unicycler",
          "Unicycler",
          "AbYSS",
          "AbYSS",
          "AbYSS"
         ],
         "xaxis": "x4",
         "y": [
          36.96309268292683,
          36.96309268292683,
          36.96309268292683,
          36.96309268292683,
          36.96309268292683,
          36.96309268292683,
          36.96309268292683,
          36.96309268292683,
          36.96309268292683,
          36.96309268292683,
          36.96309268292683,
          36.96309268292683,
          36.96309268292683,
          36.96309268292683,
          36.96309268292683,
          36.96309268292683,
          36.96309268292683,
          36.96309268292683,
          36.96309268292683,
          36.96309268292683,
          36.96309268292683,
          36.96309268292683,
          36.96309268292683,
          36.96309268292683,
          36.96309268292683,
          36.96309268292683,
          36.96309268292683,
          36.96309268292683,
          36.96309268292683,
          36.96309268292683,
          36.96309268292683,
          36.96309268292683,
          36.96309268292683,
          36.96309268292683,
          36.96309268292683,
          36.96309268292683,
          36.96309268292683,
          36.96309268292683,
          36.96309268292683,
          36.96309268292683,
          36.96309268292683,
          36.96309268292683,
          36.96309268292683,
          36.96309268292683,
          36.96309268292683,
          36.96309268292683,
          36.96309268292683,
          36.96309268292683,
          36.96309268292683,
          36.96309268292683,
          36.96309268292683,
          36.96309268292683,
          36.96309268292683,
          36.96309268292683,
          36.96309268292683,
          36.96309268292683,
          36.96309268292683,
          36.96309268292683,
          36.96309268292683,
          36.96309268292683,
          36.96309268292683,
          36.96309268292683,
          36.96309268292683,
          36.96309268292683,
          36.96309268292683,
          36.96309268292683,
          36.96309268292683,
          36.96309268292683,
          36.96309268292683,
          36.96309268292683,
          36.96309268292683,
          36.96309268292683,
          36.96309268292683,
          36.96309268292683,
          36.96309268292683,
          36.96309268292683,
          36.96309268292683,
          36.96309268292683,
          36.96309268292683,
          36.96309268292683,
          36.96309268292683,
          36.96309268292683,
          36.96309268292683,
          36.96309268292683,
          36.96309268292683,
          36.96309268292683,
          36.96309268292683,
          36.96309268292683,
          36.96309268292683,
          36.96309268292683,
          36.96309268292683,
          36.96309268292683,
          36.96309268292683,
          36.96309268292683,
          36.96309268292683,
          36.96309268292683,
          36.96309268292683,
          36.96309268292683,
          36.96309268292683,
          36.96309268292683,
          36.96309268292683,
          36.96309268292683,
          36.96309268292683,
          36.96309268292683,
          36.96309268292683,
          36.96309268292683,
          36.96309268292683,
          36.96309268292683,
          36.96309268292683,
          36.96309268292683,
          36.96309268292683,
          36.96309268292683,
          36.96309268292683,
          36.96309268292683,
          36.96309268292683,
          36.96309268292683,
          36.96309268292683,
          36.96309268292683,
          36.96309268292683,
          36.96309268292683,
          36.96309268292683,
          36.96309268292683,
          36.96309268292683
         ],
         "yaxis": "y4"
        },
        {
         "box": {
          "visible": true
         },
         "fillcolor": "#004B93",
         "line": {
          "color": "black"
         },
         "meanline": {
          "visible": true
         },
         "opacity": 0.5,
         "showlegend": false,
         "spanmode": "hard",
         "type": "violin",
         "x": [
          "BCALM2",
          "MINIA",
          "MetaHipMer2",
          "SKESA",
          "MEGAHIT",
          "SPAdes",
          "metaSPAdes",
          "IDBA-UD",
          "MetaHipMer2",
          "AbYSS",
          "GATBMiniaPipeline",
          "VelvetOptimiser",
          "Unicycler",
          "BCALM2",
          "MINIA",
          "MetaHipMer2",
          "SKESA",
          "MEGAHIT",
          "MetaHipMer2",
          "SPAdes",
          "metaSPAdes",
          "IDBA-UD",
          "GATBMiniaPipeline",
          "AbYSS",
          "VelvetOptimiser",
          "Unicycler",
          "BCALM2",
          "MINIA",
          "MEGAHIT",
          "SKESA",
          "metaSPAdes",
          "SPAdes",
          "MetaHipMer2",
          "GATBMiniaPipeline",
          "AbYSS",
          "IDBA-UD",
          "MetaHipMer2",
          "VelvetOptimiser",
          "Unicycler"
         ],
         "xaxis": "x5",
         "y": [
          0.04,
          0.05,
          0.03,
          0.18,
          0.22,
          0.35,
          0.36,
          0.42,
          0.2,
          0.61,
          0.8,
          1.26,
          3.43,
          0.04,
          0.04,
          0.04,
          0.19,
          0.21,
          0.17,
          0.24,
          0.3,
          0.49,
          0.8,
          0.02,
          1.19,
          3.49,
          0.04,
          0.04,
          0.23,
          0.17,
          0.42,
          0.33,
          0.03,
          0.72,
          0.8,
          0.34,
          0.15,
          1.33,
          3.59
         ],
         "yaxis": "y5"
        },
        {
         "box": {
          "visible": true
         },
         "fillcolor": "#009392",
         "line": {
          "color": "black"
         },
         "meanline": {
          "visible": true
         },
         "opacity": 0.5,
         "showlegend": false,
         "spanmode": "hard",
         "type": "violin",
         "x": [
          "BCALM2",
          "MINIA",
          "MetaHipMer2",
          "SKESA",
          "MEGAHIT",
          "IDBA-UD",
          "metaSPAdes",
          "MetaHipMer2",
          "GATBMiniaPipeline",
          "SPAdes",
          "VelvetOptimiser",
          "AbYSS",
          "Unicycler",
          "MetaHipMer2",
          "BCALM2",
          "MINIA",
          "SKESA",
          "MetaHipMer2",
          "IDBA-UD",
          "MEGAHIT",
          "metaSPAdes",
          "GATBMiniaPipeline",
          "SPAdes",
          "VelvetOptimiser",
          "AbYSS",
          "Unicycler",
          "BCALM2",
          "MINIA",
          "SKESA",
          "MEGAHIT",
          "MetaHipMer2",
          "GATBMiniaPipeline",
          "IDBA-UD",
          "metaSPAdes",
          "SPAdes",
          "MetaHipMer2",
          "VelvetOptimiser",
          "AbYSS",
          "Unicycler"
         ],
         "xaxis": "x5",
         "y": [
          0.06,
          0.06,
          0.04,
          0.21,
          0.31,
          0.45,
          0.83,
          0.39,
          1.06,
          1.11,
          1.94,
          7.84,
          10.47,
          0.03,
          0,
          0.05,
          0.19,
          0.2,
          0.43,
          0.46,
          0.87,
          1,
          1.07,
          0.03,
          9.47,
          10.42,
          0.05,
          0.06,
          0.2,
          0.3,
          0.03,
          0.84,
          0.4,
          0.86,
          0.94,
          0.19,
          1.99,
          6.88,
          10.5
         ],
         "yaxis": "y5"
        },
        {
         "box": {
          "visible": true
         },
         "fillcolor": "#39B185",
         "line": {
          "color": "black"
         },
         "meanline": {
          "visible": true
         },
         "opacity": 0.5,
         "showlegend": false,
         "spanmode": "hard",
         "type": "violin",
         "x": [
          "BCALM2",
          "MINIA",
          "MetaHipMer2",
          "SKESA",
          "MEGAHIT",
          "IDBA-UD",
          "MetaHipMer2",
          "metaSPAdes",
          "GATBMiniaPipeline",
          "SPAdes",
          "VelvetOptimiser",
          "Unicycler",
          "AbYSS",
          "AbYSS",
          "AbYSS",
          "MetaHipMer2",
          "BCALM2",
          "MINIA",
          "SKESA",
          "MEGAHIT",
          "MetaHipMer2",
          "IDBA-UD",
          "GATBMiniaPipeline",
          "metaSPAdes",
          "SPAdes",
          "VelvetOptimiser",
          "Unicycler",
          "AbYSS",
          "AbYSS",
          "AbYSS",
          "BCALM2",
          "MINIA",
          "SKESA",
          "MEGAHIT",
          "MetaHipMer2",
          "IDBA-UD",
          "GATBMiniaPipeline",
          "metaSPAdes",
          "MetaHipMer2",
          "SPAdes",
          "VelvetOptimiser",
          "Unicycler",
          "AbYSS",
          "AbYSS",
          "AbYSS"
         ],
         "xaxis": "x5",
         "y": [
          0.09,
          0.11,
          0.04,
          0.28,
          0.36,
          0.73,
          0.6,
          1.15,
          1.33,
          1.41,
          2.87,
          20.43,
          1.08,
          29.83,
          1.61,
          0.03,
          0.08,
          0.11,
          0.25,
          0.36,
          0.37,
          0.69,
          1.31,
          1.38,
          1.39,
          2.6,
          18.59,
          1.09,
          1.1,
          1.09,
          0.09,
          0.11,
          0,
          0.39,
          0.03,
          0.71,
          1.19,
          1.21,
          0.39,
          1.46,
          3.29,
          19.09,
          1.1,
          1.09,
          1.11
         ],
         "yaxis": "y5"
        },
        {
         "line": {
          "color": "crimson"
         },
         "mode": "lines",
         "name": "Mean",
         "opacity": 0.8,
         "showlegend": false,
         "type": "scatter",
         "x": [
          "BCALM2",
          "MINIA",
          "MetaHipMer2",
          "SKESA",
          "MEGAHIT",
          "SPAdes",
          "metaSPAdes",
          "IDBA-UD",
          "AbYSS",
          "GATBMiniaPipeline",
          "VelvetOptimiser",
          "Unicycler",
          "BCALM2",
          "MINIA",
          "MetaHipMer2",
          "SKESA",
          "MEGAHIT",
          "SPAdes",
          "metaSPAdes",
          "IDBA-UD",
          "GATBMiniaPipeline",
          "AbYSS",
          "VelvetOptimiser",
          "Unicycler",
          "BCALM2",
          "MINIA",
          "MEGAHIT",
          "SKESA",
          "metaSPAdes",
          "SPAdes",
          "MetaHipMer2",
          "GATBMiniaPipeline",
          "AbYSS",
          "IDBA-UD",
          "VelvetOptimiser",
          "Unicycler"
         ],
         "xaxis": "x5",
         "y": [
          1.7821951219512195,
          1.7821951219512195,
          1.7821951219512195,
          1.7821951219512195,
          1.7821951219512195,
          1.7821951219512195,
          1.7821951219512195,
          1.7821951219512195,
          1.7821951219512195,
          1.7821951219512195,
          1.7821951219512195,
          1.7821951219512195,
          1.7821951219512195,
          1.7821951219512195,
          1.7821951219512195,
          1.7821951219512195,
          1.7821951219512195,
          1.7821951219512195,
          1.7821951219512195,
          1.7821951219512195,
          1.7821951219512195,
          1.7821951219512195,
          1.7821951219512195,
          1.7821951219512195,
          1.7821951219512195,
          1.7821951219512195,
          1.7821951219512195,
          1.7821951219512195,
          1.7821951219512195,
          1.7821951219512195,
          1.7821951219512195,
          1.7821951219512195,
          1.7821951219512195,
          1.7821951219512195,
          1.7821951219512195,
          1.7821951219512195
         ],
         "yaxis": "y5"
        }
       ],
       "layout": {
        "annotations": [
         {
          "font": {
           "size": 16
          },
          "showarrow": false,
          "text": "CPU",
          "x": 0.225,
          "xanchor": "center",
          "xref": "paper",
          "y": 1,
          "yanchor": "bottom",
          "yref": "paper"
         },
         {
          "font": {
           "size": 16
          },
          "showarrow": false,
          "text": "Memory",
          "x": 0.775,
          "xanchor": "center",
          "xref": "paper",
          "y": 1,
          "yanchor": "bottom",
          "yref": "paper"
         },
         {
          "font": {
           "size": 16
          },
          "showarrow": false,
          "text": "Read",
          "x": 0.225,
          "xanchor": "center",
          "xref": "paper",
          "y": 0.6111111111111112,
          "yanchor": "bottom",
          "yref": "paper"
         },
         {
          "font": {
           "size": 16
          },
          "showarrow": false,
          "text": "Write",
          "x": 0.775,
          "xanchor": "center",
          "xref": "paper",
          "y": 0.6111111111111112,
          "yanchor": "bottom",
          "yref": "paper"
         },
         {
          "font": {
           "size": 16
          },
          "showarrow": false,
          "text": "Run Time",
          "x": 0.5,
          "xanchor": "center",
          "xref": "paper",
          "y": 0.22222222222222224,
          "yanchor": "bottom",
          "yref": "paper"
         }
        ],
        "plot_bgcolor": "rgb(255,255,255)",
        "template": {
         "data": {
          "bar": [
           {
            "error_x": {
             "color": "#2a3f5f"
            },
            "error_y": {
             "color": "#2a3f5f"
            },
            "marker": {
             "line": {
              "color": "#E5ECF6",
              "width": 0.5
             },
             "pattern": {
              "fillmode": "overlay",
              "size": 10,
              "solidity": 0.2
             }
            },
            "type": "bar"
           }
          ],
          "barpolar": [
           {
            "marker": {
             "line": {
              "color": "#E5ECF6",
              "width": 0.5
             },
             "pattern": {
              "fillmode": "overlay",
              "size": 10,
              "solidity": 0.2
             }
            },
            "type": "barpolar"
           }
          ],
          "carpet": [
           {
            "aaxis": {
             "endlinecolor": "#2a3f5f",
             "gridcolor": "white",
             "linecolor": "white",
             "minorgridcolor": "white",
             "startlinecolor": "#2a3f5f"
            },
            "baxis": {
             "endlinecolor": "#2a3f5f",
             "gridcolor": "white",
             "linecolor": "white",
             "minorgridcolor": "white",
             "startlinecolor": "#2a3f5f"
            },
            "type": "carpet"
           }
          ],
          "choropleth": [
           {
            "colorbar": {
             "outlinewidth": 0,
             "ticks": ""
            },
            "type": "choropleth"
           }
          ],
          "contour": [
           {
            "colorbar": {
             "outlinewidth": 0,
             "ticks": ""
            },
            "colorscale": [
             [
              0,
              "#0d0887"
             ],
             [
              0.1111111111111111,
              "#46039f"
             ],
             [
              0.2222222222222222,
              "#7201a8"
             ],
             [
              0.3333333333333333,
              "#9c179e"
             ],
             [
              0.4444444444444444,
              "#bd3786"
             ],
             [
              0.5555555555555556,
              "#d8576b"
             ],
             [
              0.6666666666666666,
              "#ed7953"
             ],
             [
              0.7777777777777778,
              "#fb9f3a"
             ],
             [
              0.8888888888888888,
              "#fdca26"
             ],
             [
              1,
              "#f0f921"
             ]
            ],
            "type": "contour"
           }
          ],
          "contourcarpet": [
           {
            "colorbar": {
             "outlinewidth": 0,
             "ticks": ""
            },
            "type": "contourcarpet"
           }
          ],
          "heatmap": [
           {
            "colorbar": {
             "outlinewidth": 0,
             "ticks": ""
            },
            "colorscale": [
             [
              0,
              "#0d0887"
             ],
             [
              0.1111111111111111,
              "#46039f"
             ],
             [
              0.2222222222222222,
              "#7201a8"
             ],
             [
              0.3333333333333333,
              "#9c179e"
             ],
             [
              0.4444444444444444,
              "#bd3786"
             ],
             [
              0.5555555555555556,
              "#d8576b"
             ],
             [
              0.6666666666666666,
              "#ed7953"
             ],
             [
              0.7777777777777778,
              "#fb9f3a"
             ],
             [
              0.8888888888888888,
              "#fdca26"
             ],
             [
              1,
              "#f0f921"
             ]
            ],
            "type": "heatmap"
           }
          ],
          "heatmapgl": [
           {
            "colorbar": {
             "outlinewidth": 0,
             "ticks": ""
            },
            "colorscale": [
             [
              0,
              "#0d0887"
             ],
             [
              0.1111111111111111,
              "#46039f"
             ],
             [
              0.2222222222222222,
              "#7201a8"
             ],
             [
              0.3333333333333333,
              "#9c179e"
             ],
             [
              0.4444444444444444,
              "#bd3786"
             ],
             [
              0.5555555555555556,
              "#d8576b"
             ],
             [
              0.6666666666666666,
              "#ed7953"
             ],
             [
              0.7777777777777778,
              "#fb9f3a"
             ],
             [
              0.8888888888888888,
              "#fdca26"
             ],
             [
              1,
              "#f0f921"
             ]
            ],
            "type": "heatmapgl"
           }
          ],
          "histogram": [
           {
            "marker": {
             "pattern": {
              "fillmode": "overlay",
              "size": 10,
              "solidity": 0.2
             }
            },
            "type": "histogram"
           }
          ],
          "histogram2d": [
           {
            "colorbar": {
             "outlinewidth": 0,
             "ticks": ""
            },
            "colorscale": [
             [
              0,
              "#0d0887"
             ],
             [
              0.1111111111111111,
              "#46039f"
             ],
             [
              0.2222222222222222,
              "#7201a8"
             ],
             [
              0.3333333333333333,
              "#9c179e"
             ],
             [
              0.4444444444444444,
              "#bd3786"
             ],
             [
              0.5555555555555556,
              "#d8576b"
             ],
             [
              0.6666666666666666,
              "#ed7953"
             ],
             [
              0.7777777777777778,
              "#fb9f3a"
             ],
             [
              0.8888888888888888,
              "#fdca26"
             ],
             [
              1,
              "#f0f921"
             ]
            ],
            "type": "histogram2d"
           }
          ],
          "histogram2dcontour": [
           {
            "colorbar": {
             "outlinewidth": 0,
             "ticks": ""
            },
            "colorscale": [
             [
              0,
              "#0d0887"
             ],
             [
              0.1111111111111111,
              "#46039f"
             ],
             [
              0.2222222222222222,
              "#7201a8"
             ],
             [
              0.3333333333333333,
              "#9c179e"
             ],
             [
              0.4444444444444444,
              "#bd3786"
             ],
             [
              0.5555555555555556,
              "#d8576b"
             ],
             [
              0.6666666666666666,
              "#ed7953"
             ],
             [
              0.7777777777777778,
              "#fb9f3a"
             ],
             [
              0.8888888888888888,
              "#fdca26"
             ],
             [
              1,
              "#f0f921"
             ]
            ],
            "type": "histogram2dcontour"
           }
          ],
          "mesh3d": [
           {
            "colorbar": {
             "outlinewidth": 0,
             "ticks": ""
            },
            "type": "mesh3d"
           }
          ],
          "parcoords": [
           {
            "line": {
             "colorbar": {
              "outlinewidth": 0,
              "ticks": ""
             }
            },
            "type": "parcoords"
           }
          ],
          "pie": [
           {
            "automargin": true,
            "type": "pie"
           }
          ],
          "scatter": [
           {
            "marker": {
             "colorbar": {
              "outlinewidth": 0,
              "ticks": ""
             }
            },
            "type": "scatter"
           }
          ],
          "scatter3d": [
           {
            "line": {
             "colorbar": {
              "outlinewidth": 0,
              "ticks": ""
             }
            },
            "marker": {
             "colorbar": {
              "outlinewidth": 0,
              "ticks": ""
             }
            },
            "type": "scatter3d"
           }
          ],
          "scattercarpet": [
           {
            "marker": {
             "colorbar": {
              "outlinewidth": 0,
              "ticks": ""
             }
            },
            "type": "scattercarpet"
           }
          ],
          "scattergeo": [
           {
            "marker": {
             "colorbar": {
              "outlinewidth": 0,
              "ticks": ""
             }
            },
            "type": "scattergeo"
           }
          ],
          "scattergl": [
           {
            "marker": {
             "colorbar": {
              "outlinewidth": 0,
              "ticks": ""
             }
            },
            "type": "scattergl"
           }
          ],
          "scattermapbox": [
           {
            "marker": {
             "colorbar": {
              "outlinewidth": 0,
              "ticks": ""
             }
            },
            "type": "scattermapbox"
           }
          ],
          "scatterpolar": [
           {
            "marker": {
             "colorbar": {
              "outlinewidth": 0,
              "ticks": ""
             }
            },
            "type": "scatterpolar"
           }
          ],
          "scatterpolargl": [
           {
            "marker": {
             "colorbar": {
              "outlinewidth": 0,
              "ticks": ""
             }
            },
            "type": "scatterpolargl"
           }
          ],
          "scatterternary": [
           {
            "marker": {
             "colorbar": {
              "outlinewidth": 0,
              "ticks": ""
             }
            },
            "type": "scatterternary"
           }
          ],
          "surface": [
           {
            "colorbar": {
             "outlinewidth": 0,
             "ticks": ""
            },
            "colorscale": [
             [
              0,
              "#0d0887"
             ],
             [
              0.1111111111111111,
              "#46039f"
             ],
             [
              0.2222222222222222,
              "#7201a8"
             ],
             [
              0.3333333333333333,
              "#9c179e"
             ],
             [
              0.4444444444444444,
              "#bd3786"
             ],
             [
              0.5555555555555556,
              "#d8576b"
             ],
             [
              0.6666666666666666,
              "#ed7953"
             ],
             [
              0.7777777777777778,
              "#fb9f3a"
             ],
             [
              0.8888888888888888,
              "#fdca26"
             ],
             [
              1,
              "#f0f921"
             ]
            ],
            "type": "surface"
           }
          ],
          "table": [
           {
            "cells": {
             "fill": {
              "color": "#EBF0F8"
             },
             "line": {
              "color": "white"
             }
            },
            "header": {
             "fill": {
              "color": "#C8D4E3"
             },
             "line": {
              "color": "white"
             }
            },
            "type": "table"
           }
          ]
         },
         "layout": {
          "annotationdefaults": {
           "arrowcolor": "#2a3f5f",
           "arrowhead": 0,
           "arrowwidth": 1
          },
          "autotypenumbers": "strict",
          "coloraxis": {
           "colorbar": {
            "outlinewidth": 0,
            "ticks": ""
           }
          },
          "colorscale": {
           "diverging": [
            [
             0,
             "#8e0152"
            ],
            [
             0.1,
             "#c51b7d"
            ],
            [
             0.2,
             "#de77ae"
            ],
            [
             0.3,
             "#f1b6da"
            ],
            [
             0.4,
             "#fde0ef"
            ],
            [
             0.5,
             "#f7f7f7"
            ],
            [
             0.6,
             "#e6f5d0"
            ],
            [
             0.7,
             "#b8e186"
            ],
            [
             0.8,
             "#7fbc41"
            ],
            [
             0.9,
             "#4d9221"
            ],
            [
             1,
             "#276419"
            ]
           ],
           "sequential": [
            [
             0,
             "#0d0887"
            ],
            [
             0.1111111111111111,
             "#46039f"
            ],
            [
             0.2222222222222222,
             "#7201a8"
            ],
            [
             0.3333333333333333,
             "#9c179e"
            ],
            [
             0.4444444444444444,
             "#bd3786"
            ],
            [
             0.5555555555555556,
             "#d8576b"
            ],
            [
             0.6666666666666666,
             "#ed7953"
            ],
            [
             0.7777777777777778,
             "#fb9f3a"
            ],
            [
             0.8888888888888888,
             "#fdca26"
            ],
            [
             1,
             "#f0f921"
            ]
           ],
           "sequentialminus": [
            [
             0,
             "#0d0887"
            ],
            [
             0.1111111111111111,
             "#46039f"
            ],
            [
             0.2222222222222222,
             "#7201a8"
            ],
            [
             0.3333333333333333,
             "#9c179e"
            ],
            [
             0.4444444444444444,
             "#bd3786"
            ],
            [
             0.5555555555555556,
             "#d8576b"
            ],
            [
             0.6666666666666666,
             "#ed7953"
            ],
            [
             0.7777777777777778,
             "#fb9f3a"
            ],
            [
             0.8888888888888888,
             "#fdca26"
            ],
            [
             1,
             "#f0f921"
            ]
           ]
          },
          "colorway": [
           "#636efa",
           "#EF553B",
           "#00cc96",
           "#ab63fa",
           "#FFA15A",
           "#19d3f3",
           "#FF6692",
           "#B6E880",
           "#FF97FF",
           "#FECB52"
          ],
          "font": {
           "color": "#2a3f5f"
          },
          "geo": {
           "bgcolor": "white",
           "lakecolor": "white",
           "landcolor": "#E5ECF6",
           "showlakes": true,
           "showland": true,
           "subunitcolor": "white"
          },
          "hoverlabel": {
           "align": "left"
          },
          "hovermode": "closest",
          "mapbox": {
           "style": "light"
          },
          "paper_bgcolor": "white",
          "plot_bgcolor": "#E5ECF6",
          "polar": {
           "angularaxis": {
            "gridcolor": "white",
            "linecolor": "white",
            "ticks": ""
           },
           "bgcolor": "#E5ECF6",
           "radialaxis": {
            "gridcolor": "white",
            "linecolor": "white",
            "ticks": ""
           }
          },
          "scene": {
           "xaxis": {
            "backgroundcolor": "#E5ECF6",
            "gridcolor": "white",
            "gridwidth": 2,
            "linecolor": "white",
            "showbackground": true,
            "ticks": "",
            "zerolinecolor": "white"
           },
           "yaxis": {
            "backgroundcolor": "#E5ECF6",
            "gridcolor": "white",
            "gridwidth": 2,
            "linecolor": "white",
            "showbackground": true,
            "ticks": "",
            "zerolinecolor": "white"
           },
           "zaxis": {
            "backgroundcolor": "#E5ECF6",
            "gridcolor": "white",
            "gridwidth": 2,
            "linecolor": "white",
            "showbackground": true,
            "ticks": "",
            "zerolinecolor": "white"
           }
          },
          "shapedefaults": {
           "line": {
            "color": "#2a3f5f"
           }
          },
          "ternary": {
           "aaxis": {
            "gridcolor": "white",
            "linecolor": "white",
            "ticks": ""
           },
           "baxis": {
            "gridcolor": "white",
            "linecolor": "white",
            "ticks": ""
           },
           "bgcolor": "#E5ECF6",
           "caxis": {
            "gridcolor": "white",
            "linecolor": "white",
            "ticks": ""
           }
          },
          "title": {
           "x": 0.05
          },
          "xaxis": {
           "automargin": true,
           "gridcolor": "white",
           "linecolor": "white",
           "ticks": "",
           "title": {
            "standoff": 15
           },
           "zerolinecolor": "white",
           "zerolinewidth": 2
          },
          "yaxis": {
           "automargin": true,
           "gridcolor": "white",
           "linecolor": "white",
           "ticks": "",
           "title": {
            "standoff": 15
           },
           "zerolinecolor": "white",
           "zerolinewidth": 2
          }
         }
        },
        "title": {
         "text": "Computational Performance Metrics Distribution"
        },
        "violingap": 0,
        "violinmode": "overlay",
        "xaxis": {
         "anchor": "y",
         "categoryorder": "category ascending",
         "domain": [
          0,
          0.45
         ],
         "gridcolor": "#DCDCDC",
         "matches": "x3",
         "showticklabels": false
        },
        "xaxis2": {
         "anchor": "y2",
         "categoryorder": "category ascending",
         "domain": [
          0.55,
          1
         ],
         "gridcolor": "#DCDCDC",
         "matches": "x4",
         "showticklabels": false
        },
        "xaxis3": {
         "anchor": "y3",
         "categoryorder": "category ascending",
         "domain": [
          0,
          0.45
         ],
         "gridcolor": "#DCDCDC"
        },
        "xaxis4": {
         "anchor": "y4",
         "categoryorder": "category ascending",
         "domain": [
          0.55,
          1
         ],
         "gridcolor": "#DCDCDC"
        },
        "xaxis5": {
         "anchor": "y5",
         "categoryorder": "category ascending",
         "domain": [
          0,
          1
         ],
         "gridcolor": "#DCDCDC"
        },
        "yaxis": {
         "anchor": "x",
         "domain": [
          0.7777777777777778,
          1
         ],
         "title": {
          "text": "CPU/hour"
         }
        },
        "yaxis2": {
         "anchor": "x2",
         "domain": [
          0.7777777777777778,
          1
         ],
         "title": {
          "text": "GB"
         }
        },
        "yaxis3": {
         "anchor": "x3",
         "domain": [
          0.3888888888888889,
          0.6111111111111112
         ],
         "title": {
          "text": "GB"
         }
        },
        "yaxis4": {
         "anchor": "x4",
         "domain": [
          0.3888888888888889,
          0.6111111111111112
         ],
         "title": {
          "text": "GB"
         }
        },
        "yaxis5": {
         "anchor": "x5",
         "domain": [
          0,
          0.22222222222222224
         ],
         "title": {
          "text": "Hours"
         }
        }
       }
      },
      "text/html": [
       "<div>                            <div id=\"97734845-b5f6-44b5-9c91-416b136a7680\" class=\"plotly-graph-div\" style=\"height:525px; width:100%;\"></div>            <script type=\"text/javascript\">                require([\"plotly\"], function(Plotly) {                    window.PLOTLYENV=window.PLOTLYENV || {};                                    if (document.getElementById(\"97734845-b5f6-44b5-9c91-416b136a7680\")) {                    Plotly.newPlot(                        \"97734845-b5f6-44b5-9c91-416b136a7680\",                        [{\"box\":{\"visible\":true},\"fillcolor\":\"#004B93\",\"legendgroup\":\"Log\",\"line\":{\"color\":\"black\"},\"meanline\":{\"visible\":true},\"name\":\"ENN\",\"opacity\":0.5,\"scalegroup\":\"Log\",\"showlegend\":true,\"spanmode\":\"hard\",\"type\":\"violin\",\"x\":[\"BCALM2\",\"MINIA\",\"MetaHipMer2\",\"SKESA\",\"MEGAHIT\",\"SPAdes\",\"metaSPAdes\",\"IDBA-UD\",\"MetaHipMer2\",\"AbYSS\",\"GATBMiniaPipeline\",\"VelvetOptimiser\",\"Unicycler\",\"BCALM2\",\"MINIA\",\"MetaHipMer2\",\"SKESA\",\"MEGAHIT\",\"MetaHipMer2\",\"SPAdes\",\"metaSPAdes\",\"IDBA-UD\",\"GATBMiniaPipeline\",\"AbYSS\",\"VelvetOptimiser\",\"Unicycler\",\"BCALM2\",\"MINIA\",\"MEGAHIT\",\"SKESA\",\"metaSPAdes\",\"SPAdes\",\"MetaHipMer2\",\"GATBMiniaPipeline\",\"AbYSS\",\"IDBA-UD\",\"MetaHipMer2\",\"VelvetOptimiser\",\"Unicycler\"],\"xaxis\":\"x\",\"y\":[0.5608,0.6165944444444444,0.19830555555555554,2.172229166666667,3.0711277777777775,3.8445333333333336,4.280209027777778,6.520140277777778,8.01640138888889,12.006674999999998,19.312708333333333,12.740359027777778,17.487256944444447,0.5234340277777778,0.54325625,0.18412499999999998,2.1177916666666667,3.4327631944444437,6.791805555555555,3.7515388888888888,4.433430555555555,5.8942097222222225,19.661493055555557,0.28170416666666664,12.614135416666667,16.548690277777776,0.5712777777777778,0.5691291666666667,3.4935,2.2159479166666665,4.714954166666667,3.8669583333333333,0.1644951388888889,19.95622291666667,15.50093888888889,5.5436645833333325,5.991933333333333,13.437566666666667,15.324381944444445],\"yaxis\":\"y\"},{\"box\":{\"visible\":true},\"fillcolor\":\"#009392\",\"legendgroup\":\"Log\",\"line\":{\"color\":\"black\"},\"meanline\":{\"visible\":true},\"name\":\"EMS\",\"opacity\":0.5,\"scalegroup\":\"Log\",\"showlegend\":true,\"spanmode\":\"hard\",\"type\":\"violin\",\"x\":[\"BCALM2\",\"MINIA\",\"MetaHipMer2\",\"SKESA\",\"MEGAHIT\",\"IDBA-UD\",\"metaSPAdes\",\"MetaHipMer2\",\"GATBMiniaPipeline\",\"SPAdes\",\"VelvetOptimiser\",\"AbYSS\",\"Unicycler\",\"MetaHipMer2\",\"BCALM2\",\"MINIA\",\"SKESA\",\"MetaHipMer2\",\"IDBA-UD\",\"MEGAHIT\",\"metaSPAdes\",\"GATBMiniaPipeline\",\"SPAdes\",\"VelvetOptimiser\",\"AbYSS\",\"Unicycler\",\"BCALM2\",\"MINIA\",\"SKESA\",\"MEGAHIT\",\"MetaHipMer2\",\"GATBMiniaPipeline\",\"IDBA-UD\",\"metaSPAdes\",\"SPAdes\",\"MetaHipMer2\",\"VelvetOptimiser\",\"AbYSS\",\"Unicycler\"],\"xaxis\":\"x\",\"y\":[0.7347222222222223,0.7890944444444444,0.23838958333333338,2.485777777777778,5.11601111111111,7.335643750000001,10.089422222222222,14.61972847222222,22.438472222222224,11.643477083333334,17.441155555555554,156.49232500000002,34.43564930555555,0.18903333333333333,0.011547916666666665,0.7028458333333334,2.3858333333333337,8.613183333333334,7.361604166666666,5.0626875,10.063622222222222,22.212916666666665,11.496527777777777,0.3115451388888889,188.32357638888888,38.1801375,0.6993055555555555,0.8155736111111112,2.285675,4.692683333333334,0.18475625,21.613555555555553,6.8152638888888895,10.332272222222223,10.405909722222223,8.163397222222223,17.9225,137.37860833333335,35.119712500000006],\"yaxis\":\"y\"},{\"box\":{\"visible\":true},\"fillcolor\":\"#39B185\",\"legendgroup\":\"Log\",\"line\":{\"color\":\"black\"},\"meanline\":{\"visible\":true},\"name\":\"ERR2984773\",\"opacity\":0.5,\"scalegroup\":\"Log\",\"showlegend\":true,\"spanmode\":\"hard\",\"type\":\"violin\",\"x\":[\"BCALM2\",\"MINIA\",\"MetaHipMer2\",\"SKESA\",\"MEGAHIT\",\"IDBA-UD\",\"MetaHipMer2\",\"metaSPAdes\",\"GATBMiniaPipeline\",\"SPAdes\",\"VelvetOptimiser\",\"Unicycler\",\"AbYSS\",\"AbYSS\",\"AbYSS\",\"MetaHipMer2\",\"BCALM2\",\"MINIA\",\"SKESA\",\"MEGAHIT\",\"MetaHipMer2\",\"IDBA-UD\",\"GATBMiniaPipeline\",\"metaSPAdes\",\"SPAdes\",\"VelvetOptimiser\",\"Unicycler\",\"AbYSS\",\"AbYSS\",\"AbYSS\",\"BCALM2\",\"MINIA\",\"SKESA\",\"MEGAHIT\",\"MetaHipMer2\",\"IDBA-UD\",\"GATBMiniaPipeline\",\"metaSPAdes\",\"MetaHipMer2\",\"SPAdes\",\"VelvetOptimiser\",\"Unicycler\",\"AbYSS\",\"AbYSS\",\"AbYSS\"],\"xaxis\":\"x\",\"y\":[1.0166520833333335,1.6075972222222221,0.26435138888888887,3.6945111111111113,5.27690625,11.466349305555555,20.43403541666667,13.252804166666666,31.45874722222222,13.36508611111111,18.893603472222225,61.24059027777778,0.0,0.0,95.57243124999998,0.191475,1.0406666666666669,1.5186666666666666,3.510933333333333,5.929525,15.1636,11.524358333333334,29.972993055555552,14.81476736111111,13.06422361111111,17.954918055555556,54.32359236111112,0.0,0.0,0.0,1.0226805555555556,1.571609722222222,0.05812222222222222,6.555270833333333,0.19703125,11.177580555555556,29.868119444444442,13.571983333333334,15.803305555555555,14.186432638888888,17.877291666666668,60.38442361111111,0.0,0.0,0.0],\"yaxis\":\"y\"},{\"line\":{\"color\":\"crimson\"},\"mode\":\"lines\",\"name\":\"mean\",\"opacity\":0.8,\"showlegend\":true,\"type\":\"scatter\",\"x\":[\"BCALM2\",\"MINIA\",\"BCALM2\",\"MINIA\",\"BCALM2\",\"MetaHipMer2\",\"MINIA\",\"MetaHipMer2\",\"MetaHipMer2\",\"SKESA\",\"MEGAHIT\",\"SKESA\",\"SKESA\",\"MEGAHIT\",\"SPAdes\",\"MEGAHIT\",\"metaSPAdes\",\"IDBA-UD\",\"IDBA-UD\",\"MetaHipMer2\",\"AbYSS\",\"GATBMiniaPipeline\",\"IDBA-UD\",\"metaSPAdes\",\"MetaHipMer2\",\"GATBMiniaPipeline\",\"MetaHipMer2\",\"SPAdes\",\"metaSPAdes\",\"VelvetOptimiser\",\"GATBMiniaPipeline\",\"SPAdes\",\"VelvetOptimiser\",\"VelvetOptimiser\",\"Unicycler\",\"AbYSS\",\"Unicycler\",\"Unicycler\",\"AbYSS\",\"AbYSS\",\"AbYSS\",\"BCALM2\",\"MINIA\",\"MetaHipMer2\",\"MetaHipMer2\",\"BCALM2\",\"MINIA\",\"MetaHipMer2\",\"BCALM2\",\"MINIA\",\"SKESA\",\"SKESA\",\"MEGAHIT\",\"MetaHipMer2\",\"SPAdes\",\"SKESA\",\"MetaHipMer2\",\"metaSPAdes\",\"MEGAHIT\",\"MetaHipMer2\",\"IDBA-UD\",\"MEGAHIT\",\"IDBA-UD\",\"IDBA-UD\",\"GATBMiniaPipeline\",\"metaSPAdes\",\"GATBMiniaPipeline\",\"AbYSS\",\"SPAdes\",\"VelvetOptimiser\",\"GATBMiniaPipeline\",\"metaSPAdes\",\"SPAdes\",\"VelvetOptimiser\",\"VelvetOptimiser\",\"Unicycler\",\"AbYSS\",\"Unicycler\",\"Unicycler\",\"AbYSS\",\"AbYSS\",\"AbYSS\",\"BCALM2\",\"BCALM2\",\"BCALM2\",\"MINIA\",\"MINIA\",\"MINIA\",\"MEGAHIT\",\"SKESA\",\"SKESA\",\"MEGAHIT\",\"SKESA\",\"MEGAHIT\",\"metaSPAdes\",\"SPAdes\",\"MetaHipMer2\",\"MetaHipMer2\",\"MetaHipMer2\",\"GATBMiniaPipeline\",\"AbYSS\",\"GATBMiniaPipeline\",\"IDBA-UD\",\"IDBA-UD\",\"metaSPAdes\",\"IDBA-UD\",\"SPAdes\",\"MetaHipMer2\",\"GATBMiniaPipeline\",\"metaSPAdes\",\"MetaHipMer2\",\"MetaHipMer2\",\"VelvetOptimiser\",\"SPAdes\",\"VelvetOptimiser\",\"VelvetOptimiser\",\"Unicycler\",\"AbYSS\",\"Unicycler\",\"Unicycler\",\"AbYSS\",\"AbYSS\",\"AbYSS\"],\"xaxis\":\"x\",\"y\":[13.926732260614274,13.926732260614274,13.926732260614274,13.926732260614274,13.926732260614274,13.926732260614274,13.926732260614274,13.926732260614274,13.926732260614274,13.926732260614274,13.926732260614274,13.926732260614274,13.926732260614274,13.926732260614274,13.926732260614274,13.926732260614274,13.926732260614274,13.926732260614274,13.926732260614274,13.926732260614274,13.926732260614274,13.926732260614274,13.926732260614274,13.926732260614274,13.926732260614274,13.926732260614274,13.926732260614274,13.926732260614274,13.926732260614274,13.926732260614274,13.926732260614274,13.926732260614274,13.926732260614274,13.926732260614274,13.926732260614274,13.926732260614274,13.926732260614274,13.926732260614274,13.926732260614274,13.926732260614274,13.926732260614274,13.926732260614274,13.926732260614274,13.926732260614274,13.926732260614274,13.926732260614274,13.926732260614274,13.926732260614274,13.926732260614274,13.926732260614274,13.926732260614274,13.926732260614274,13.926732260614274,13.926732260614274,13.926732260614274,13.926732260614274,13.926732260614274,13.926732260614274,13.926732260614274,13.926732260614274,13.926732260614274,13.926732260614274,13.926732260614274,13.926732260614274,13.926732260614274,13.926732260614274,13.926732260614274,13.926732260614274,13.926732260614274,13.926732260614274,13.926732260614274,13.926732260614274,13.926732260614274,13.926732260614274,13.926732260614274,13.926732260614274,13.926732260614274,13.926732260614274,13.926732260614274,13.926732260614274,13.926732260614274,13.926732260614274,13.926732260614274,13.926732260614274,13.926732260614274,13.926732260614274,13.926732260614274,13.926732260614274,13.926732260614274,13.926732260614274,13.926732260614274,13.926732260614274,13.926732260614274,13.926732260614274,13.926732260614274,13.926732260614274,13.926732260614274,13.926732260614274,13.926732260614274,13.926732260614274,13.926732260614274,13.926732260614274,13.926732260614274,13.926732260614274,13.926732260614274,13.926732260614274,13.926732260614274,13.926732260614274,13.926732260614274,13.926732260614274,13.926732260614274,13.926732260614274,13.926732260614274,13.926732260614274,13.926732260614274,13.926732260614274,13.926732260614274,13.926732260614274,13.926732260614274,13.926732260614274,13.926732260614274,13.926732260614274,13.926732260614274],\"yaxis\":\"y\"},{\"box\":{\"visible\":true},\"fillcolor\":\"#004B93\",\"legendgroup\":\"Log\",\"line\":{\"color\":\"black\"},\"meanline\":{\"visible\":true},\"name\":\"ENN\",\"opacity\":0.5,\"scalegroup\":\"Log\",\"showlegend\":false,\"spanmode\":\"hard\",\"type\":\"violin\",\"x\":[\"BCALM2\",\"MINIA\",\"MetaHipMer2\",\"SKESA\",\"MEGAHIT\",\"SPAdes\",\"metaSPAdes\",\"IDBA-UD\",\"MetaHipMer2\",\"AbYSS\",\"GATBMiniaPipeline\",\"VelvetOptimiser\",\"Unicycler\",\"BCALM2\",\"MINIA\",\"MetaHipMer2\",\"SKESA\",\"MEGAHIT\",\"MetaHipMer2\",\"SPAdes\",\"metaSPAdes\",\"IDBA-UD\",\"GATBMiniaPipeline\",\"AbYSS\",\"VelvetOptimiser\",\"Unicycler\",\"BCALM2\",\"MINIA\",\"MEGAHIT\",\"SKESA\",\"metaSPAdes\",\"SPAdes\",\"MetaHipMer2\",\"GATBMiniaPipeline\",\"AbYSS\",\"IDBA-UD\",\"MetaHipMer2\",\"VelvetOptimiser\",\"Unicycler\"],\"xaxis\":\"x2\",\"y\":[5.1,5.1,32.0,16.1,1.7,4.6,4.6,5.7,56.9,2.9,6.8,27.3,4.6,5.1,5.1,32.9,16.1,1.7,56.8,4.6,4.6,5.6,6.9,3.0,26.6,4.7,5.1,5.1,1.7,16.1,4.6,4.6,32.0,6.8,3.0,5.6,57.0,27.1,4.6],\"yaxis\":\"y2\"},{\"box\":{\"visible\":true},\"fillcolor\":\"#009392\",\"legendgroup\":\"Log\",\"line\":{\"color\":\"black\"},\"meanline\":{\"visible\":true},\"name\":\"EMS\",\"opacity\":0.5,\"scalegroup\":\"Log\",\"showlegend\":false,\"spanmode\":\"hard\",\"type\":\"violin\",\"x\":[\"BCALM2\",\"MINIA\",\"MetaHipMer2\",\"SKESA\",\"MEGAHIT\",\"IDBA-UD\",\"metaSPAdes\",\"MetaHipMer2\",\"GATBMiniaPipeline\",\"SPAdes\",\"VelvetOptimiser\",\"AbYSS\",\"Unicycler\",\"MetaHipMer2\",\"BCALM2\",\"MINIA\",\"SKESA\",\"MetaHipMer2\",\"IDBA-UD\",\"MEGAHIT\",\"metaSPAdes\",\"GATBMiniaPipeline\",\"SPAdes\",\"VelvetOptimiser\",\"AbYSS\",\"Unicycler\",\"BCALM2\",\"MINIA\",\"SKESA\",\"MEGAHIT\",\"MetaHipMer2\",\"GATBMiniaPipeline\",\"IDBA-UD\",\"metaSPAdes\",\"SPAdes\",\"MetaHipMer2\",\"VelvetOptimiser\",\"AbYSS\",\"Unicycler\"],\"xaxis\":\"x2\",\"y\":[6.7,6.6,32.1,17.8,2.1,6.0,4.9,57.3,6.8,4.6,31.9,3.3,6.5,32.0,6.7,6.6,17.8,57.3,6.0,2.1,4.6,6.8,4.6,31.9,3.2,6.3,6.6,6.6,17.8,2.1,32.0,6.7,6.0,5.6,4.6,57.2,31.9,3.2,6.3],\"yaxis\":\"y2\"},{\"box\":{\"visible\":true},\"fillcolor\":\"#39B185\",\"legendgroup\":\"Log\",\"line\":{\"color\":\"black\"},\"meanline\":{\"visible\":true},\"name\":\"ERR2984773\",\"opacity\":0.5,\"scalegroup\":\"Log\",\"showlegend\":false,\"spanmode\":\"hard\",\"type\":\"violin\",\"x\":[\"BCALM2\",\"MINIA\",\"MetaHipMer2\",\"SKESA\",\"MEGAHIT\",\"IDBA-UD\",\"MetaHipMer2\",\"metaSPAdes\",\"GATBMiniaPipeline\",\"SPAdes\",\"VelvetOptimiser\",\"Unicycler\",\"AbYSS\",\"AbYSS\",\"AbYSS\",\"MetaHipMer2\",\"BCALM2\",\"MINIA\",\"SKESA\",\"MEGAHIT\",\"MetaHipMer2\",\"IDBA-UD\",\"GATBMiniaPipeline\",\"metaSPAdes\",\"SPAdes\",\"VelvetOptimiser\",\"Unicycler\",\"AbYSS\",\"AbYSS\",\"AbYSS\",\"BCALM2\",\"MINIA\",\"SKESA\",\"MEGAHIT\",\"MetaHipMer2\",\"IDBA-UD\",\"GATBMiniaPipeline\",\"metaSPAdes\",\"MetaHipMer2\",\"SPAdes\",\"VelvetOptimiser\",\"Unicycler\",\"AbYSS\",\"AbYSS\",\"AbYSS\"],\"xaxis\":\"x2\",\"y\":[4.7,4.8,31.9,17.8,2.1,10.4,60.4,6.2,5.7,6.5,31.9,13.8,0.0,0.0,3.6,32.0,4.6,4.8,17.8,2.1,60.1,10.4,5.6,6.9,6.8,31.9,13.9,0.0,0.0,0.0,4.8,4.8,17.8,2.1,31.8,10.4,5.6,6.5,60.4,5.7,31.9,14.1,0.0,0.0,0.0],\"yaxis\":\"y2\"},{\"line\":{\"color\":\"crimson\"},\"mode\":\"lines\",\"name\":\"mean\",\"opacity\":0.8,\"showlegend\":false,\"type\":\"scatter\",\"x\":[\"BCALM2\",\"MINIA\",\"BCALM2\",\"MINIA\",\"BCALM2\",\"MetaHipMer2\",\"MINIA\",\"MetaHipMer2\",\"MetaHipMer2\",\"SKESA\",\"MEGAHIT\",\"SKESA\",\"SKESA\",\"MEGAHIT\",\"SPAdes\",\"MEGAHIT\",\"metaSPAdes\",\"IDBA-UD\",\"IDBA-UD\",\"MetaHipMer2\",\"AbYSS\",\"GATBMiniaPipeline\",\"IDBA-UD\",\"metaSPAdes\",\"MetaHipMer2\",\"GATBMiniaPipeline\",\"MetaHipMer2\",\"SPAdes\",\"metaSPAdes\",\"VelvetOptimiser\",\"GATBMiniaPipeline\",\"SPAdes\",\"VelvetOptimiser\",\"VelvetOptimiser\",\"Unicycler\",\"AbYSS\",\"Unicycler\",\"Unicycler\",\"AbYSS\",\"AbYSS\",\"AbYSS\",\"BCALM2\",\"MINIA\",\"MetaHipMer2\",\"MetaHipMer2\",\"BCALM2\",\"MINIA\",\"MetaHipMer2\",\"BCALM2\",\"MINIA\",\"SKESA\",\"SKESA\",\"MEGAHIT\",\"MetaHipMer2\",\"SPAdes\",\"SKESA\",\"MetaHipMer2\",\"metaSPAdes\",\"MEGAHIT\",\"MetaHipMer2\",\"IDBA-UD\",\"MEGAHIT\",\"IDBA-UD\",\"IDBA-UD\",\"GATBMiniaPipeline\",\"metaSPAdes\",\"GATBMiniaPipeline\",\"AbYSS\",\"SPAdes\",\"VelvetOptimiser\",\"GATBMiniaPipeline\",\"metaSPAdes\",\"SPAdes\",\"VelvetOptimiser\",\"VelvetOptimiser\",\"Unicycler\",\"AbYSS\",\"Unicycler\",\"Unicycler\",\"AbYSS\",\"AbYSS\",\"AbYSS\",\"BCALM2\",\"BCALM2\",\"BCALM2\",\"MINIA\",\"MINIA\",\"MINIA\",\"MEGAHIT\",\"SKESA\",\"SKESA\",\"MEGAHIT\",\"SKESA\",\"MEGAHIT\",\"metaSPAdes\",\"SPAdes\",\"MetaHipMer2\",\"MetaHipMer2\",\"MetaHipMer2\",\"GATBMiniaPipeline\",\"AbYSS\",\"GATBMiniaPipeline\",\"IDBA-UD\",\"IDBA-UD\",\"metaSPAdes\",\"IDBA-UD\",\"SPAdes\",\"MetaHipMer2\",\"GATBMiniaPipeline\",\"metaSPAdes\",\"MetaHipMer2\",\"MetaHipMer2\",\"VelvetOptimiser\",\"SPAdes\",\"VelvetOptimiser\",\"VelvetOptimiser\",\"Unicycler\",\"AbYSS\",\"Unicycler\",\"Unicycler\",\"AbYSS\",\"AbYSS\",\"AbYSS\"],\"xaxis\":\"x2\",\"y\":[13.59430894308943,13.59430894308943,13.59430894308943,13.59430894308943,13.59430894308943,13.59430894308943,13.59430894308943,13.59430894308943,13.59430894308943,13.59430894308943,13.59430894308943,13.59430894308943,13.59430894308943,13.59430894308943,13.59430894308943,13.59430894308943,13.59430894308943,13.59430894308943,13.59430894308943,13.59430894308943,13.59430894308943,13.59430894308943,13.59430894308943,13.59430894308943,13.59430894308943,13.59430894308943,13.59430894308943,13.59430894308943,13.59430894308943,13.59430894308943,13.59430894308943,13.59430894308943,13.59430894308943,13.59430894308943,13.59430894308943,13.59430894308943,13.59430894308943,13.59430894308943,13.59430894308943,13.59430894308943,13.59430894308943,13.59430894308943,13.59430894308943,13.59430894308943,13.59430894308943,13.59430894308943,13.59430894308943,13.59430894308943,13.59430894308943,13.59430894308943,13.59430894308943,13.59430894308943,13.59430894308943,13.59430894308943,13.59430894308943,13.59430894308943,13.59430894308943,13.59430894308943,13.59430894308943,13.59430894308943,13.59430894308943,13.59430894308943,13.59430894308943,13.59430894308943,13.59430894308943,13.59430894308943,13.59430894308943,13.59430894308943,13.59430894308943,13.59430894308943,13.59430894308943,13.59430894308943,13.59430894308943,13.59430894308943,13.59430894308943,13.59430894308943,13.59430894308943,13.59430894308943,13.59430894308943,13.59430894308943,13.59430894308943,13.59430894308943,13.59430894308943,13.59430894308943,13.59430894308943,13.59430894308943,13.59430894308943,13.59430894308943,13.59430894308943,13.59430894308943,13.59430894308943,13.59430894308943,13.59430894308943,13.59430894308943,13.59430894308943,13.59430894308943,13.59430894308943,13.59430894308943,13.59430894308943,13.59430894308943,13.59430894308943,13.59430894308943,13.59430894308943,13.59430894308943,13.59430894308943,13.59430894308943,13.59430894308943,13.59430894308943,13.59430894308943,13.59430894308943,13.59430894308943,13.59430894308943,13.59430894308943,13.59430894308943,13.59430894308943,13.59430894308943,13.59430894308943,13.59430894308943,13.59430894308943,13.59430894308943,13.59430894308943,13.59430894308943,13.59430894308943],\"yaxis\":\"y2\"},{\"box\":{\"visible\":true},\"fillcolor\":\"#004B93\",\"legendgroup\":\"Log\",\"line\":{\"color\":\"black\"},\"meanline\":{\"visible\":true},\"name\":\"ENN\",\"opacity\":0.5,\"scalegroup\":\"Log\",\"showlegend\":false,\"spanmode\":\"hard\",\"type\":\"violin\",\"x\":[\"BCALM2\",\"MINIA\",\"MetaHipMer2\",\"SKESA\",\"MEGAHIT\",\"SPAdes\",\"metaSPAdes\",\"IDBA-UD\",\"MetaHipMer2\",\"AbYSS\",\"GATBMiniaPipeline\",\"VelvetOptimiser\",\"Unicycler\",\"BCALM2\",\"MINIA\",\"MetaHipMer2\",\"SKESA\",\"MEGAHIT\",\"MetaHipMer2\",\"SPAdes\",\"metaSPAdes\",\"IDBA-UD\",\"GATBMiniaPipeline\",\"AbYSS\",\"VelvetOptimiser\",\"Unicycler\",\"BCALM2\",\"MINIA\",\"MEGAHIT\",\"SKESA\",\"metaSPAdes\",\"SPAdes\",\"MetaHipMer2\",\"GATBMiniaPipeline\",\"AbYSS\",\"IDBA-UD\",\"MetaHipMer2\",\"VelvetOptimiser\",\"Unicycler\"],\"xaxis\":\"x3\",\"y\":[5.9,6.5,4.9,0.3685,16.5,9.6,12.6,5.3,5.0,25.1,40.5,236.1,36.2,5.9,6.5,4.9,0.3685,16.5,5.0,9.6,12.6,5.3,47.6,25.0,236.1,36.2,5.9,6.5,16.5,0.3685,12.6,9.6,4.9,50.9,25.1,5.3,5.0,236.1,36.2],\"yaxis\":\"y3\"},{\"box\":{\"visible\":true},\"fillcolor\":\"#009392\",\"legendgroup\":\"Log\",\"line\":{\"color\":\"black\"},\"meanline\":{\"visible\":true},\"name\":\"EMS\",\"opacity\":0.5,\"scalegroup\":\"Log\",\"showlegend\":false,\"spanmode\":\"hard\",\"type\":\"violin\",\"x\":[\"BCALM2\",\"MINIA\",\"MetaHipMer2\",\"SKESA\",\"MEGAHIT\",\"IDBA-UD\",\"metaSPAdes\",\"MetaHipMer2\",\"GATBMiniaPipeline\",\"SPAdes\",\"VelvetOptimiser\",\"AbYSS\",\"Unicycler\",\"MetaHipMer2\",\"BCALM2\",\"MINIA\",\"SKESA\",\"MetaHipMer2\",\"IDBA-UD\",\"MEGAHIT\",\"metaSPAdes\",\"GATBMiniaPipeline\",\"SPAdes\",\"VelvetOptimiser\",\"AbYSS\",\"Unicycler\",\"BCALM2\",\"MINIA\",\"SKESA\",\"MEGAHIT\",\"MetaHipMer2\",\"GATBMiniaPipeline\",\"IDBA-UD\",\"metaSPAdes\",\"SPAdes\",\"MetaHipMer2\",\"VelvetOptimiser\",\"AbYSS\",\"Unicycler\"],\"xaxis\":\"x3\",\"y\":[8.5,9.1,5.8,0.9135,20.6,5.8,15.8,5.9,61.4,15.7,283.9,33.3,46.8,5.8,8.5,9.1,0.9135,5.9,5.8,20.6,15.8,63.9,15.7,283.9,33.3,46.8,8.5,9.1,0.9135,20.6,5.8,46.0,5.8,15.8,15.7,5.9,283.9,33.3,46.8],\"yaxis\":\"y3\"},{\"box\":{\"visible\":true},\"fillcolor\":\"#39B185\",\"legendgroup\":\"Log\",\"line\":{\"color\":\"black\"},\"meanline\":{\"visible\":true},\"name\":\"ERR2984773\",\"opacity\":0.5,\"scalegroup\":\"Log\",\"showlegend\":false,\"spanmode\":\"hard\",\"type\":\"violin\",\"x\":[\"BCALM2\",\"MINIA\",\"MetaHipMer2\",\"SKESA\",\"MEGAHIT\",\"IDBA-UD\",\"MetaHipMer2\",\"metaSPAdes\",\"GATBMiniaPipeline\",\"SPAdes\",\"VelvetOptimiser\",\"Unicycler\",\"AbYSS\",\"AbYSS\",\"AbYSS\",\"MetaHipMer2\",\"BCALM2\",\"MINIA\",\"SKESA\",\"MEGAHIT\",\"MetaHipMer2\",\"IDBA-UD\",\"GATBMiniaPipeline\",\"metaSPAdes\",\"SPAdes\",\"VelvetOptimiser\",\"Unicycler\",\"AbYSS\",\"AbYSS\",\"AbYSS\",\"BCALM2\",\"MINIA\",\"SKESA\",\"MEGAHIT\",\"MetaHipMer2\",\"IDBA-UD\",\"GATBMiniaPipeline\",\"metaSPAdes\",\"MetaHipMer2\",\"SPAdes\",\"VelvetOptimiser\",\"Unicycler\",\"AbYSS\",\"AbYSS\",\"AbYSS\"],\"xaxis\":\"x3\",\"y\":[16.2,17.3,6.3,0.8847999999999999,22.3,8.8,6.4,16.2,89.7,15.9,218.7,48.0,0.0,0.0,36.8,6.3,16.2,17.3,0.8847999999999999,22.3,6.4,8.8,96.8,16.2,15.9,216.7,48.0,0.0,0.0,0.0,16.2,17.3,0.8847999999999999,22.3,6.3,8.8,88.7,16.2,6.4,15.9,221.9,48.0,0.0,0.0,0.0],\"yaxis\":\"y3\"},{\"line\":{\"color\":\"crimson\"},\"mode\":\"lines\",\"name\":\"mean\",\"opacity\":0.8,\"showlegend\":false,\"type\":\"scatter\",\"x\":[\"BCALM2\",\"MINIA\",\"BCALM2\",\"MINIA\",\"BCALM2\",\"MetaHipMer2\",\"MINIA\",\"MetaHipMer2\",\"MetaHipMer2\",\"SKESA\",\"MEGAHIT\",\"SKESA\",\"SKESA\",\"MEGAHIT\",\"SPAdes\",\"MEGAHIT\",\"metaSPAdes\",\"IDBA-UD\",\"IDBA-UD\",\"MetaHipMer2\",\"AbYSS\",\"GATBMiniaPipeline\",\"IDBA-UD\",\"metaSPAdes\",\"MetaHipMer2\",\"GATBMiniaPipeline\",\"MetaHipMer2\",\"SPAdes\",\"metaSPAdes\",\"VelvetOptimiser\",\"GATBMiniaPipeline\",\"SPAdes\",\"VelvetOptimiser\",\"VelvetOptimiser\",\"Unicycler\",\"AbYSS\",\"Unicycler\",\"Unicycler\",\"AbYSS\",\"AbYSS\",\"AbYSS\",\"BCALM2\",\"MINIA\",\"MetaHipMer2\",\"MetaHipMer2\",\"BCALM2\",\"MINIA\",\"MetaHipMer2\",\"BCALM2\",\"MINIA\",\"SKESA\",\"SKESA\",\"MEGAHIT\",\"MetaHipMer2\",\"SPAdes\",\"SKESA\",\"MetaHipMer2\",\"metaSPAdes\",\"MEGAHIT\",\"MetaHipMer2\",\"IDBA-UD\",\"MEGAHIT\",\"IDBA-UD\",\"IDBA-UD\",\"GATBMiniaPipeline\",\"metaSPAdes\",\"GATBMiniaPipeline\",\"AbYSS\",\"SPAdes\",\"VelvetOptimiser\",\"GATBMiniaPipeline\",\"metaSPAdes\",\"SPAdes\",\"VelvetOptimiser\",\"VelvetOptimiser\",\"Unicycler\",\"AbYSS\",\"Unicycler\",\"Unicycler\",\"AbYSS\",\"AbYSS\",\"AbYSS\",\"BCALM2\",\"BCALM2\",\"BCALM2\",\"MINIA\",\"MINIA\",\"MINIA\",\"MEGAHIT\",\"SKESA\",\"SKESA\",\"MEGAHIT\",\"SKESA\",\"MEGAHIT\",\"metaSPAdes\",\"SPAdes\",\"MetaHipMer2\",\"MetaHipMer2\",\"MetaHipMer2\",\"GATBMiniaPipeline\",\"AbYSS\",\"GATBMiniaPipeline\",\"IDBA-UD\",\"IDBA-UD\",\"metaSPAdes\",\"IDBA-UD\",\"SPAdes\",\"MetaHipMer2\",\"GATBMiniaPipeline\",\"metaSPAdes\",\"MetaHipMer2\",\"MetaHipMer2\",\"VelvetOptimiser\",\"SPAdes\",\"VelvetOptimiser\",\"VelvetOptimiser\",\"Unicycler\",\"AbYSS\",\"Unicycler\",\"Unicycler\",\"AbYSS\",\"AbYSS\",\"AbYSS\"],\"xaxis\":\"x3\",\"y\":[34.16992195121951,34.16992195121951,34.16992195121951,34.16992195121951,34.16992195121951,34.16992195121951,34.16992195121951,34.16992195121951,34.16992195121951,34.16992195121951,34.16992195121951,34.16992195121951,34.16992195121951,34.16992195121951,34.16992195121951,34.16992195121951,34.16992195121951,34.16992195121951,34.16992195121951,34.16992195121951,34.16992195121951,34.16992195121951,34.16992195121951,34.16992195121951,34.16992195121951,34.16992195121951,34.16992195121951,34.16992195121951,34.16992195121951,34.16992195121951,34.16992195121951,34.16992195121951,34.16992195121951,34.16992195121951,34.16992195121951,34.16992195121951,34.16992195121951,34.16992195121951,34.16992195121951,34.16992195121951,34.16992195121951,34.16992195121951,34.16992195121951,34.16992195121951,34.16992195121951,34.16992195121951,34.16992195121951,34.16992195121951,34.16992195121951,34.16992195121951,34.16992195121951,34.16992195121951,34.16992195121951,34.16992195121951,34.16992195121951,34.16992195121951,34.16992195121951,34.16992195121951,34.16992195121951,34.16992195121951,34.16992195121951,34.16992195121951,34.16992195121951,34.16992195121951,34.16992195121951,34.16992195121951,34.16992195121951,34.16992195121951,34.16992195121951,34.16992195121951,34.16992195121951,34.16992195121951,34.16992195121951,34.16992195121951,34.16992195121951,34.16992195121951,34.16992195121951,34.16992195121951,34.16992195121951,34.16992195121951,34.16992195121951,34.16992195121951,34.16992195121951,34.16992195121951,34.16992195121951,34.16992195121951,34.16992195121951,34.16992195121951,34.16992195121951,34.16992195121951,34.16992195121951,34.16992195121951,34.16992195121951,34.16992195121951,34.16992195121951,34.16992195121951,34.16992195121951,34.16992195121951,34.16992195121951,34.16992195121951,34.16992195121951,34.16992195121951,34.16992195121951,34.16992195121951,34.16992195121951,34.16992195121951,34.16992195121951,34.16992195121951,34.16992195121951,34.16992195121951,34.16992195121951,34.16992195121951,34.16992195121951,34.16992195121951,34.16992195121951,34.16992195121951,34.16992195121951,34.16992195121951,34.16992195121951,34.16992195121951,34.16992195121951,34.16992195121951,34.16992195121951],\"yaxis\":\"y3\"},{\"box\":{\"visible\":true},\"fillcolor\":\"#004B93\",\"legendgroup\":\"Log\",\"line\":{\"color\":\"black\"},\"meanline\":{\"visible\":true},\"name\":\"ENN\",\"opacity\":0.5,\"scalegroup\":\"Log\",\"showlegend\":false,\"spanmode\":\"hard\",\"type\":\"violin\",\"x\":[\"BCALM2\",\"MINIA\",\"MetaHipMer2\",\"SKESA\",\"MEGAHIT\",\"SPAdes\",\"metaSPAdes\",\"IDBA-UD\",\"MetaHipMer2\",\"AbYSS\",\"GATBMiniaPipeline\",\"VelvetOptimiser\",\"Unicycler\",\"BCALM2\",\"MINIA\",\"MetaHipMer2\",\"SKESA\",\"MEGAHIT\",\"MetaHipMer2\",\"SPAdes\",\"metaSPAdes\",\"IDBA-UD\",\"GATBMiniaPipeline\",\"AbYSS\",\"VelvetOptimiser\",\"Unicycler\",\"BCALM2\",\"MINIA\",\"MEGAHIT\",\"SKESA\",\"metaSPAdes\",\"SPAdes\",\"MetaHipMer2\",\"GATBMiniaPipeline\",\"AbYSS\",\"IDBA-UD\",\"MetaHipMer2\",\"VelvetOptimiser\",\"Unicycler\"],\"xaxis\":\"x4\",\"y\":[3.4,3.5,4.4,0.0288,6.9,11.2,11.3,2.5,4.7,21.9,16.0,29.3,93.8,3.4,3.5,4.4,0.0288,6.9,4.7,11.2,11.3,2.5,16.1,21.9,29.3,93.8,3.4,3.5,6.9,0.0288,11.3,11.2,4.4,16.1,21.9,2.5,4.7,29.3,93.8],\"yaxis\":\"y4\"},{\"box\":{\"visible\":true},\"fillcolor\":\"#009392\",\"legendgroup\":\"Log\",\"line\":{\"color\":\"black\"},\"meanline\":{\"visible\":true},\"name\":\"EMS\",\"opacity\":0.5,\"scalegroup\":\"Log\",\"showlegend\":false,\"spanmode\":\"hard\",\"type\":\"violin\",\"x\":[\"BCALM2\",\"MINIA\",\"MetaHipMer2\",\"SKESA\",\"MEGAHIT\",\"IDBA-UD\",\"metaSPAdes\",\"MetaHipMer2\",\"GATBMiniaPipeline\",\"SPAdes\",\"VelvetOptimiser\",\"AbYSS\",\"Unicycler\",\"MetaHipMer2\",\"BCALM2\",\"MINIA\",\"SKESA\",\"MetaHipMer2\",\"IDBA-UD\",\"MEGAHIT\",\"metaSPAdes\",\"GATBMiniaPipeline\",\"SPAdes\",\"VelvetOptimiser\",\"AbYSS\",\"Unicycler\",\"BCALM2\",\"MINIA\",\"SKESA\",\"MEGAHIT\",\"MetaHipMer2\",\"GATBMiniaPipeline\",\"IDBA-UD\",\"metaSPAdes\",\"SPAdes\",\"MetaHipMer2\",\"VelvetOptimiser\",\"AbYSS\",\"Unicycler\"],\"xaxis\":\"x4\",\"y\":[4.3,4.4,5.2,0.0289,8.0,2.6,31.8,5.7,19.5,53.2,34.8,25.4,281.9,5.2,4.3,4.4,0.0289,5.7,2.6,8.0,31.8,19.5,53.2,34.8,25.4,281.9,4.3,4.4,0.0289,8.0,5.2,19.4,2.6,31.8,53.2,5.7,34.8,25.4,281.9],\"yaxis\":\"y4\"},{\"box\":{\"visible\":true},\"fillcolor\":\"#39B185\",\"legendgroup\":\"Log\",\"line\":{\"color\":\"black\"},\"meanline\":{\"visible\":true},\"name\":\"ERR2984773\",\"opacity\":0.5,\"scalegroup\":\"Log\",\"showlegend\":false,\"spanmode\":\"hard\",\"type\":\"violin\",\"x\":[\"BCALM2\",\"MINIA\",\"MetaHipMer2\",\"SKESA\",\"MEGAHIT\",\"IDBA-UD\",\"MetaHipMer2\",\"metaSPAdes\",\"GATBMiniaPipeline\",\"SPAdes\",\"VelvetOptimiser\",\"Unicycler\",\"AbYSS\",\"AbYSS\",\"AbYSS\",\"MetaHipMer2\",\"BCALM2\",\"MINIA\",\"SKESA\",\"MEGAHIT\",\"MetaHipMer2\",\"IDBA-UD\",\"GATBMiniaPipeline\",\"metaSPAdes\",\"SPAdes\",\"VelvetOptimiser\",\"Unicycler\",\"AbYSS\",\"AbYSS\",\"AbYSS\",\"BCALM2\",\"MINIA\",\"SKESA\",\"MEGAHIT\",\"MetaHipMer2\",\"IDBA-UD\",\"GATBMiniaPipeline\",\"metaSPAdes\",\"MetaHipMer2\",\"SPAdes\",\"VelvetOptimiser\",\"Unicycler\",\"AbYSS\",\"AbYSS\",\"AbYSS\"],\"xaxis\":\"x4\",\"y\":[6.8,6.8,4.1,0.0291,9.5,5.0,5.8,57.7,28.2,96.3,44.3,555.6,0.0,0.0,28.0,4.1,6.8,6.8,0.0291,9.5,5.8,5.0,28.2,57.7,96.3,43.2,555.6,0.0,0.0,0.0,6.8,6.8,0.0291,9.5,4.1,5.0,28.2,57.7,5.8,96.3,46.1,555.6,0.0,0.0,0.0],\"yaxis\":\"y4\"},{\"line\":{\"color\":\"crimson\"},\"mode\":\"lines\",\"name\":\"mean\",\"opacity\":0.8,\"showlegend\":false,\"type\":\"scatter\",\"x\":[\"BCALM2\",\"MINIA\",\"BCALM2\",\"MINIA\",\"BCALM2\",\"MetaHipMer2\",\"MINIA\",\"MetaHipMer2\",\"MetaHipMer2\",\"SKESA\",\"MEGAHIT\",\"SKESA\",\"SKESA\",\"MEGAHIT\",\"SPAdes\",\"MEGAHIT\",\"metaSPAdes\",\"IDBA-UD\",\"IDBA-UD\",\"MetaHipMer2\",\"AbYSS\",\"GATBMiniaPipeline\",\"IDBA-UD\",\"metaSPAdes\",\"MetaHipMer2\",\"GATBMiniaPipeline\",\"MetaHipMer2\",\"SPAdes\",\"metaSPAdes\",\"VelvetOptimiser\",\"GATBMiniaPipeline\",\"SPAdes\",\"VelvetOptimiser\",\"VelvetOptimiser\",\"Unicycler\",\"AbYSS\",\"Unicycler\",\"Unicycler\",\"AbYSS\",\"AbYSS\",\"AbYSS\",\"BCALM2\",\"MINIA\",\"MetaHipMer2\",\"MetaHipMer2\",\"BCALM2\",\"MINIA\",\"MetaHipMer2\",\"BCALM2\",\"MINIA\",\"SKESA\",\"SKESA\",\"MEGAHIT\",\"MetaHipMer2\",\"SPAdes\",\"SKESA\",\"MetaHipMer2\",\"metaSPAdes\",\"MEGAHIT\",\"MetaHipMer2\",\"IDBA-UD\",\"MEGAHIT\",\"IDBA-UD\",\"IDBA-UD\",\"GATBMiniaPipeline\",\"metaSPAdes\",\"GATBMiniaPipeline\",\"AbYSS\",\"SPAdes\",\"VelvetOptimiser\",\"GATBMiniaPipeline\",\"metaSPAdes\",\"SPAdes\",\"VelvetOptimiser\",\"VelvetOptimiser\",\"Unicycler\",\"AbYSS\",\"Unicycler\",\"Unicycler\",\"AbYSS\",\"AbYSS\",\"AbYSS\",\"BCALM2\",\"BCALM2\",\"BCALM2\",\"MINIA\",\"MINIA\",\"MINIA\",\"MEGAHIT\",\"SKESA\",\"SKESA\",\"MEGAHIT\",\"SKESA\",\"MEGAHIT\",\"metaSPAdes\",\"SPAdes\",\"MetaHipMer2\",\"MetaHipMer2\",\"MetaHipMer2\",\"GATBMiniaPipeline\",\"AbYSS\",\"GATBMiniaPipeline\",\"IDBA-UD\",\"IDBA-UD\",\"metaSPAdes\",\"IDBA-UD\",\"SPAdes\",\"MetaHipMer2\",\"GATBMiniaPipeline\",\"metaSPAdes\",\"MetaHipMer2\",\"MetaHipMer2\",\"VelvetOptimiser\",\"SPAdes\",\"VelvetOptimiser\",\"VelvetOptimiser\",\"Unicycler\",\"AbYSS\",\"Unicycler\",\"Unicycler\",\"AbYSS\",\"AbYSS\",\"AbYSS\"],\"xaxis\":\"x4\",\"y\":[36.96309268292683,36.96309268292683,36.96309268292683,36.96309268292683,36.96309268292683,36.96309268292683,36.96309268292683,36.96309268292683,36.96309268292683,36.96309268292683,36.96309268292683,36.96309268292683,36.96309268292683,36.96309268292683,36.96309268292683,36.96309268292683,36.96309268292683,36.96309268292683,36.96309268292683,36.96309268292683,36.96309268292683,36.96309268292683,36.96309268292683,36.96309268292683,36.96309268292683,36.96309268292683,36.96309268292683,36.96309268292683,36.96309268292683,36.96309268292683,36.96309268292683,36.96309268292683,36.96309268292683,36.96309268292683,36.96309268292683,36.96309268292683,36.96309268292683,36.96309268292683,36.96309268292683,36.96309268292683,36.96309268292683,36.96309268292683,36.96309268292683,36.96309268292683,36.96309268292683,36.96309268292683,36.96309268292683,36.96309268292683,36.96309268292683,36.96309268292683,36.96309268292683,36.96309268292683,36.96309268292683,36.96309268292683,36.96309268292683,36.96309268292683,36.96309268292683,36.96309268292683,36.96309268292683,36.96309268292683,36.96309268292683,36.96309268292683,36.96309268292683,36.96309268292683,36.96309268292683,36.96309268292683,36.96309268292683,36.96309268292683,36.96309268292683,36.96309268292683,36.96309268292683,36.96309268292683,36.96309268292683,36.96309268292683,36.96309268292683,36.96309268292683,36.96309268292683,36.96309268292683,36.96309268292683,36.96309268292683,36.96309268292683,36.96309268292683,36.96309268292683,36.96309268292683,36.96309268292683,36.96309268292683,36.96309268292683,36.96309268292683,36.96309268292683,36.96309268292683,36.96309268292683,36.96309268292683,36.96309268292683,36.96309268292683,36.96309268292683,36.96309268292683,36.96309268292683,36.96309268292683,36.96309268292683,36.96309268292683,36.96309268292683,36.96309268292683,36.96309268292683,36.96309268292683,36.96309268292683,36.96309268292683,36.96309268292683,36.96309268292683,36.96309268292683,36.96309268292683,36.96309268292683,36.96309268292683,36.96309268292683,36.96309268292683,36.96309268292683,36.96309268292683,36.96309268292683,36.96309268292683,36.96309268292683,36.96309268292683,36.96309268292683,36.96309268292683,36.96309268292683],\"yaxis\":\"y4\"},{\"box\":{\"visible\":true},\"fillcolor\":\"#004B93\",\"line\":{\"color\":\"black\"},\"meanline\":{\"visible\":true},\"opacity\":0.5,\"showlegend\":false,\"spanmode\":\"hard\",\"type\":\"violin\",\"x\":[\"BCALM2\",\"MINIA\",\"MetaHipMer2\",\"SKESA\",\"MEGAHIT\",\"SPAdes\",\"metaSPAdes\",\"IDBA-UD\",\"MetaHipMer2\",\"AbYSS\",\"GATBMiniaPipeline\",\"VelvetOptimiser\",\"Unicycler\",\"BCALM2\",\"MINIA\",\"MetaHipMer2\",\"SKESA\",\"MEGAHIT\",\"MetaHipMer2\",\"SPAdes\",\"metaSPAdes\",\"IDBA-UD\",\"GATBMiniaPipeline\",\"AbYSS\",\"VelvetOptimiser\",\"Unicycler\",\"BCALM2\",\"MINIA\",\"MEGAHIT\",\"SKESA\",\"metaSPAdes\",\"SPAdes\",\"MetaHipMer2\",\"GATBMiniaPipeline\",\"AbYSS\",\"IDBA-UD\",\"MetaHipMer2\",\"VelvetOptimiser\",\"Unicycler\"],\"xaxis\":\"x5\",\"y\":[0.04,0.05,0.03,0.18,0.22,0.35,0.36,0.42,0.2,0.61,0.8,1.26,3.43,0.04,0.04,0.04,0.19,0.21,0.17,0.24,0.3,0.49,0.8,0.02,1.19,3.49,0.04,0.04,0.23,0.17,0.42,0.33,0.03,0.72,0.8,0.34,0.15,1.33,3.59],\"yaxis\":\"y5\"},{\"box\":{\"visible\":true},\"fillcolor\":\"#009392\",\"line\":{\"color\":\"black\"},\"meanline\":{\"visible\":true},\"opacity\":0.5,\"showlegend\":false,\"spanmode\":\"hard\",\"type\":\"violin\",\"x\":[\"BCALM2\",\"MINIA\",\"MetaHipMer2\",\"SKESA\",\"MEGAHIT\",\"IDBA-UD\",\"metaSPAdes\",\"MetaHipMer2\",\"GATBMiniaPipeline\",\"SPAdes\",\"VelvetOptimiser\",\"AbYSS\",\"Unicycler\",\"MetaHipMer2\",\"BCALM2\",\"MINIA\",\"SKESA\",\"MetaHipMer2\",\"IDBA-UD\",\"MEGAHIT\",\"metaSPAdes\",\"GATBMiniaPipeline\",\"SPAdes\",\"VelvetOptimiser\",\"AbYSS\",\"Unicycler\",\"BCALM2\",\"MINIA\",\"SKESA\",\"MEGAHIT\",\"MetaHipMer2\",\"GATBMiniaPipeline\",\"IDBA-UD\",\"metaSPAdes\",\"SPAdes\",\"MetaHipMer2\",\"VelvetOptimiser\",\"AbYSS\",\"Unicycler\"],\"xaxis\":\"x5\",\"y\":[0.06,0.06,0.04,0.21,0.31,0.45,0.83,0.39,1.06,1.11,1.94,7.84,10.47,0.03,0.0,0.05,0.19,0.2,0.43,0.46,0.87,1.0,1.07,0.03,9.47,10.42,0.05,0.06,0.2,0.3,0.03,0.84,0.4,0.86,0.94,0.19,1.99,6.88,10.5],\"yaxis\":\"y5\"},{\"box\":{\"visible\":true},\"fillcolor\":\"#39B185\",\"line\":{\"color\":\"black\"},\"meanline\":{\"visible\":true},\"opacity\":0.5,\"showlegend\":false,\"spanmode\":\"hard\",\"type\":\"violin\",\"x\":[\"BCALM2\",\"MINIA\",\"MetaHipMer2\",\"SKESA\",\"MEGAHIT\",\"IDBA-UD\",\"MetaHipMer2\",\"metaSPAdes\",\"GATBMiniaPipeline\",\"SPAdes\",\"VelvetOptimiser\",\"Unicycler\",\"AbYSS\",\"AbYSS\",\"AbYSS\",\"MetaHipMer2\",\"BCALM2\",\"MINIA\",\"SKESA\",\"MEGAHIT\",\"MetaHipMer2\",\"IDBA-UD\",\"GATBMiniaPipeline\",\"metaSPAdes\",\"SPAdes\",\"VelvetOptimiser\",\"Unicycler\",\"AbYSS\",\"AbYSS\",\"AbYSS\",\"BCALM2\",\"MINIA\",\"SKESA\",\"MEGAHIT\",\"MetaHipMer2\",\"IDBA-UD\",\"GATBMiniaPipeline\",\"metaSPAdes\",\"MetaHipMer2\",\"SPAdes\",\"VelvetOptimiser\",\"Unicycler\",\"AbYSS\",\"AbYSS\",\"AbYSS\"],\"xaxis\":\"x5\",\"y\":[0.09,0.11,0.04,0.28,0.36,0.73,0.6,1.15,1.33,1.41,2.87,20.43,1.08,29.83,1.61,0.03,0.08,0.11,0.25,0.36,0.37,0.69,1.31,1.38,1.39,2.6,18.59,1.09,1.1,1.09,0.09,0.11,0.0,0.39,0.03,0.71,1.19,1.21,0.39,1.46,3.29,19.09,1.1,1.09,1.11],\"yaxis\":\"y5\"},{\"line\":{\"color\":\"crimson\"},\"mode\":\"lines\",\"name\":\"Mean\",\"opacity\":0.8,\"showlegend\":false,\"type\":\"scatter\",\"x\":[\"BCALM2\",\"MINIA\",\"MetaHipMer2\",\"SKESA\",\"MEGAHIT\",\"SPAdes\",\"metaSPAdes\",\"IDBA-UD\",\"AbYSS\",\"GATBMiniaPipeline\",\"VelvetOptimiser\",\"Unicycler\",\"BCALM2\",\"MINIA\",\"MetaHipMer2\",\"SKESA\",\"MEGAHIT\",\"SPAdes\",\"metaSPAdes\",\"IDBA-UD\",\"GATBMiniaPipeline\",\"AbYSS\",\"VelvetOptimiser\",\"Unicycler\",\"BCALM2\",\"MINIA\",\"MEGAHIT\",\"SKESA\",\"metaSPAdes\",\"SPAdes\",\"MetaHipMer2\",\"GATBMiniaPipeline\",\"AbYSS\",\"IDBA-UD\",\"VelvetOptimiser\",\"Unicycler\"],\"xaxis\":\"x5\",\"y\":[1.7821951219512195,1.7821951219512195,1.7821951219512195,1.7821951219512195,1.7821951219512195,1.7821951219512195,1.7821951219512195,1.7821951219512195,1.7821951219512195,1.7821951219512195,1.7821951219512195,1.7821951219512195,1.7821951219512195,1.7821951219512195,1.7821951219512195,1.7821951219512195,1.7821951219512195,1.7821951219512195,1.7821951219512195,1.7821951219512195,1.7821951219512195,1.7821951219512195,1.7821951219512195,1.7821951219512195,1.7821951219512195,1.7821951219512195,1.7821951219512195,1.7821951219512195,1.7821951219512195,1.7821951219512195,1.7821951219512195,1.7821951219512195,1.7821951219512195,1.7821951219512195,1.7821951219512195,1.7821951219512195],\"yaxis\":\"y5\"}],                        {\"annotations\":[{\"font\":{\"size\":16},\"showarrow\":false,\"text\":\"CPU\",\"x\":0.225,\"xanchor\":\"center\",\"xref\":\"paper\",\"y\":1.0,\"yanchor\":\"bottom\",\"yref\":\"paper\"},{\"font\":{\"size\":16},\"showarrow\":false,\"text\":\"Memory\",\"x\":0.775,\"xanchor\":\"center\",\"xref\":\"paper\",\"y\":1.0,\"yanchor\":\"bottom\",\"yref\":\"paper\"},{\"font\":{\"size\":16},\"showarrow\":false,\"text\":\"Read\",\"x\":0.225,\"xanchor\":\"center\",\"xref\":\"paper\",\"y\":0.6111111111111112,\"yanchor\":\"bottom\",\"yref\":\"paper\"},{\"font\":{\"size\":16},\"showarrow\":false,\"text\":\"Write\",\"x\":0.775,\"xanchor\":\"center\",\"xref\":\"paper\",\"y\":0.6111111111111112,\"yanchor\":\"bottom\",\"yref\":\"paper\"},{\"font\":{\"size\":16},\"showarrow\":false,\"text\":\"Run Time\",\"x\":0.5,\"xanchor\":\"center\",\"xref\":\"paper\",\"y\":0.22222222222222224,\"yanchor\":\"bottom\",\"yref\":\"paper\"}],\"plot_bgcolor\":\"rgb(255,255,255)\",\"template\":{\"data\":{\"bar\":[{\"error_x\":{\"color\":\"#2a3f5f\"},\"error_y\":{\"color\":\"#2a3f5f\"},\"marker\":{\"line\":{\"color\":\"#E5ECF6\",\"width\":0.5},\"pattern\":{\"fillmode\":\"overlay\",\"size\":10,\"solidity\":0.2}},\"type\":\"bar\"}],\"barpolar\":[{\"marker\":{\"line\":{\"color\":\"#E5ECF6\",\"width\":0.5},\"pattern\":{\"fillmode\":\"overlay\",\"size\":10,\"solidity\":0.2}},\"type\":\"barpolar\"}],\"carpet\":[{\"aaxis\":{\"endlinecolor\":\"#2a3f5f\",\"gridcolor\":\"white\",\"linecolor\":\"white\",\"minorgridcolor\":\"white\",\"startlinecolor\":\"#2a3f5f\"},\"baxis\":{\"endlinecolor\":\"#2a3f5f\",\"gridcolor\":\"white\",\"linecolor\":\"white\",\"minorgridcolor\":\"white\",\"startlinecolor\":\"#2a3f5f\"},\"type\":\"carpet\"}],\"choropleth\":[{\"colorbar\":{\"outlinewidth\":0,\"ticks\":\"\"},\"type\":\"choropleth\"}],\"contour\":[{\"colorbar\":{\"outlinewidth\":0,\"ticks\":\"\"},\"colorscale\":[[0.0,\"#0d0887\"],[0.1111111111111111,\"#46039f\"],[0.2222222222222222,\"#7201a8\"],[0.3333333333333333,\"#9c179e\"],[0.4444444444444444,\"#bd3786\"],[0.5555555555555556,\"#d8576b\"],[0.6666666666666666,\"#ed7953\"],[0.7777777777777778,\"#fb9f3a\"],[0.8888888888888888,\"#fdca26\"],[1.0,\"#f0f921\"]],\"type\":\"contour\"}],\"contourcarpet\":[{\"colorbar\":{\"outlinewidth\":0,\"ticks\":\"\"},\"type\":\"contourcarpet\"}],\"heatmap\":[{\"colorbar\":{\"outlinewidth\":0,\"ticks\":\"\"},\"colorscale\":[[0.0,\"#0d0887\"],[0.1111111111111111,\"#46039f\"],[0.2222222222222222,\"#7201a8\"],[0.3333333333333333,\"#9c179e\"],[0.4444444444444444,\"#bd3786\"],[0.5555555555555556,\"#d8576b\"],[0.6666666666666666,\"#ed7953\"],[0.7777777777777778,\"#fb9f3a\"],[0.8888888888888888,\"#fdca26\"],[1.0,\"#f0f921\"]],\"type\":\"heatmap\"}],\"heatmapgl\":[{\"colorbar\":{\"outlinewidth\":0,\"ticks\":\"\"},\"colorscale\":[[0.0,\"#0d0887\"],[0.1111111111111111,\"#46039f\"],[0.2222222222222222,\"#7201a8\"],[0.3333333333333333,\"#9c179e\"],[0.4444444444444444,\"#bd3786\"],[0.5555555555555556,\"#d8576b\"],[0.6666666666666666,\"#ed7953\"],[0.7777777777777778,\"#fb9f3a\"],[0.8888888888888888,\"#fdca26\"],[1.0,\"#f0f921\"]],\"type\":\"heatmapgl\"}],\"histogram\":[{\"marker\":{\"pattern\":{\"fillmode\":\"overlay\",\"size\":10,\"solidity\":0.2}},\"type\":\"histogram\"}],\"histogram2d\":[{\"colorbar\":{\"outlinewidth\":0,\"ticks\":\"\"},\"colorscale\":[[0.0,\"#0d0887\"],[0.1111111111111111,\"#46039f\"],[0.2222222222222222,\"#7201a8\"],[0.3333333333333333,\"#9c179e\"],[0.4444444444444444,\"#bd3786\"],[0.5555555555555556,\"#d8576b\"],[0.6666666666666666,\"#ed7953\"],[0.7777777777777778,\"#fb9f3a\"],[0.8888888888888888,\"#fdca26\"],[1.0,\"#f0f921\"]],\"type\":\"histogram2d\"}],\"histogram2dcontour\":[{\"colorbar\":{\"outlinewidth\":0,\"ticks\":\"\"},\"colorscale\":[[0.0,\"#0d0887\"],[0.1111111111111111,\"#46039f\"],[0.2222222222222222,\"#7201a8\"],[0.3333333333333333,\"#9c179e\"],[0.4444444444444444,\"#bd3786\"],[0.5555555555555556,\"#d8576b\"],[0.6666666666666666,\"#ed7953\"],[0.7777777777777778,\"#fb9f3a\"],[0.8888888888888888,\"#fdca26\"],[1.0,\"#f0f921\"]],\"type\":\"histogram2dcontour\"}],\"mesh3d\":[{\"colorbar\":{\"outlinewidth\":0,\"ticks\":\"\"},\"type\":\"mesh3d\"}],\"parcoords\":[{\"line\":{\"colorbar\":{\"outlinewidth\":0,\"ticks\":\"\"}},\"type\":\"parcoords\"}],\"pie\":[{\"automargin\":true,\"type\":\"pie\"}],\"scatter\":[{\"marker\":{\"colorbar\":{\"outlinewidth\":0,\"ticks\":\"\"}},\"type\":\"scatter\"}],\"scatter3d\":[{\"line\":{\"colorbar\":{\"outlinewidth\":0,\"ticks\":\"\"}},\"marker\":{\"colorbar\":{\"outlinewidth\":0,\"ticks\":\"\"}},\"type\":\"scatter3d\"}],\"scattercarpet\":[{\"marker\":{\"colorbar\":{\"outlinewidth\":0,\"ticks\":\"\"}},\"type\":\"scattercarpet\"}],\"scattergeo\":[{\"marker\":{\"colorbar\":{\"outlinewidth\":0,\"ticks\":\"\"}},\"type\":\"scattergeo\"}],\"scattergl\":[{\"marker\":{\"colorbar\":{\"outlinewidth\":0,\"ticks\":\"\"}},\"type\":\"scattergl\"}],\"scattermapbox\":[{\"marker\":{\"colorbar\":{\"outlinewidth\":0,\"ticks\":\"\"}},\"type\":\"scattermapbox\"}],\"scatterpolar\":[{\"marker\":{\"colorbar\":{\"outlinewidth\":0,\"ticks\":\"\"}},\"type\":\"scatterpolar\"}],\"scatterpolargl\":[{\"marker\":{\"colorbar\":{\"outlinewidth\":0,\"ticks\":\"\"}},\"type\":\"scatterpolargl\"}],\"scatterternary\":[{\"marker\":{\"colorbar\":{\"outlinewidth\":0,\"ticks\":\"\"}},\"type\":\"scatterternary\"}],\"surface\":[{\"colorbar\":{\"outlinewidth\":0,\"ticks\":\"\"},\"colorscale\":[[0.0,\"#0d0887\"],[0.1111111111111111,\"#46039f\"],[0.2222222222222222,\"#7201a8\"],[0.3333333333333333,\"#9c179e\"],[0.4444444444444444,\"#bd3786\"],[0.5555555555555556,\"#d8576b\"],[0.6666666666666666,\"#ed7953\"],[0.7777777777777778,\"#fb9f3a\"],[0.8888888888888888,\"#fdca26\"],[1.0,\"#f0f921\"]],\"type\":\"surface\"}],\"table\":[{\"cells\":{\"fill\":{\"color\":\"#EBF0F8\"},\"line\":{\"color\":\"white\"}},\"header\":{\"fill\":{\"color\":\"#C8D4E3\"},\"line\":{\"color\":\"white\"}},\"type\":\"table\"}]},\"layout\":{\"annotationdefaults\":{\"arrowcolor\":\"#2a3f5f\",\"arrowhead\":0,\"arrowwidth\":1},\"autotypenumbers\":\"strict\",\"coloraxis\":{\"colorbar\":{\"outlinewidth\":0,\"ticks\":\"\"}},\"colorscale\":{\"diverging\":[[0,\"#8e0152\"],[0.1,\"#c51b7d\"],[0.2,\"#de77ae\"],[0.3,\"#f1b6da\"],[0.4,\"#fde0ef\"],[0.5,\"#f7f7f7\"],[0.6,\"#e6f5d0\"],[0.7,\"#b8e186\"],[0.8,\"#7fbc41\"],[0.9,\"#4d9221\"],[1,\"#276419\"]],\"sequential\":[[0.0,\"#0d0887\"],[0.1111111111111111,\"#46039f\"],[0.2222222222222222,\"#7201a8\"],[0.3333333333333333,\"#9c179e\"],[0.4444444444444444,\"#bd3786\"],[0.5555555555555556,\"#d8576b\"],[0.6666666666666666,\"#ed7953\"],[0.7777777777777778,\"#fb9f3a\"],[0.8888888888888888,\"#fdca26\"],[1.0,\"#f0f921\"]],\"sequentialminus\":[[0.0,\"#0d0887\"],[0.1111111111111111,\"#46039f\"],[0.2222222222222222,\"#7201a8\"],[0.3333333333333333,\"#9c179e\"],[0.4444444444444444,\"#bd3786\"],[0.5555555555555556,\"#d8576b\"],[0.6666666666666666,\"#ed7953\"],[0.7777777777777778,\"#fb9f3a\"],[0.8888888888888888,\"#fdca26\"],[1.0,\"#f0f921\"]]},\"colorway\":[\"#636efa\",\"#EF553B\",\"#00cc96\",\"#ab63fa\",\"#FFA15A\",\"#19d3f3\",\"#FF6692\",\"#B6E880\",\"#FF97FF\",\"#FECB52\"],\"font\":{\"color\":\"#2a3f5f\"},\"geo\":{\"bgcolor\":\"white\",\"lakecolor\":\"white\",\"landcolor\":\"#E5ECF6\",\"showlakes\":true,\"showland\":true,\"subunitcolor\":\"white\"},\"hoverlabel\":{\"align\":\"left\"},\"hovermode\":\"closest\",\"mapbox\":{\"style\":\"light\"},\"paper_bgcolor\":\"white\",\"plot_bgcolor\":\"#E5ECF6\",\"polar\":{\"angularaxis\":{\"gridcolor\":\"white\",\"linecolor\":\"white\",\"ticks\":\"\"},\"bgcolor\":\"#E5ECF6\",\"radialaxis\":{\"gridcolor\":\"white\",\"linecolor\":\"white\",\"ticks\":\"\"}},\"scene\":{\"xaxis\":{\"backgroundcolor\":\"#E5ECF6\",\"gridcolor\":\"white\",\"gridwidth\":2,\"linecolor\":\"white\",\"showbackground\":true,\"ticks\":\"\",\"zerolinecolor\":\"white\"},\"yaxis\":{\"backgroundcolor\":\"#E5ECF6\",\"gridcolor\":\"white\",\"gridwidth\":2,\"linecolor\":\"white\",\"showbackground\":true,\"ticks\":\"\",\"zerolinecolor\":\"white\"},\"zaxis\":{\"backgroundcolor\":\"#E5ECF6\",\"gridcolor\":\"white\",\"gridwidth\":2,\"linecolor\":\"white\",\"showbackground\":true,\"ticks\":\"\",\"zerolinecolor\":\"white\"}},\"shapedefaults\":{\"line\":{\"color\":\"#2a3f5f\"}},\"ternary\":{\"aaxis\":{\"gridcolor\":\"white\",\"linecolor\":\"white\",\"ticks\":\"\"},\"baxis\":{\"gridcolor\":\"white\",\"linecolor\":\"white\",\"ticks\":\"\"},\"bgcolor\":\"#E5ECF6\",\"caxis\":{\"gridcolor\":\"white\",\"linecolor\":\"white\",\"ticks\":\"\"}},\"title\":{\"x\":0.05},\"xaxis\":{\"automargin\":true,\"gridcolor\":\"white\",\"linecolor\":\"white\",\"ticks\":\"\",\"title\":{\"standoff\":15},\"zerolinecolor\":\"white\",\"zerolinewidth\":2},\"yaxis\":{\"automargin\":true,\"gridcolor\":\"white\",\"linecolor\":\"white\",\"ticks\":\"\",\"title\":{\"standoff\":15},\"zerolinecolor\":\"white\",\"zerolinewidth\":2}}},\"title\":{\"text\":\"Computational Performance Metrics Distribution\"},\"violingap\":0,\"violinmode\":\"overlay\",\"xaxis\":{\"anchor\":\"y\",\"categoryorder\":\"category ascending\",\"domain\":[0.0,0.45],\"gridcolor\":\"#DCDCDC\",\"matches\":\"x3\",\"showticklabels\":false},\"xaxis2\":{\"anchor\":\"y2\",\"categoryorder\":\"category ascending\",\"domain\":[0.55,1.0],\"gridcolor\":\"#DCDCDC\",\"matches\":\"x4\",\"showticklabels\":false},\"xaxis3\":{\"anchor\":\"y3\",\"categoryorder\":\"category ascending\",\"domain\":[0.0,0.45],\"gridcolor\":\"#DCDCDC\"},\"xaxis4\":{\"anchor\":\"y4\",\"categoryorder\":\"category ascending\",\"domain\":[0.55,1.0],\"gridcolor\":\"#DCDCDC\"},\"xaxis5\":{\"anchor\":\"y5\",\"categoryorder\":\"category ascending\",\"domain\":[0.0,1.0],\"gridcolor\":\"#DCDCDC\"},\"yaxis\":{\"anchor\":\"x\",\"domain\":[0.7777777777777778,1.0],\"title\":{\"text\":\"CPU/hour\"}},\"yaxis2\":{\"anchor\":\"x2\",\"domain\":[0.7777777777777778,1.0],\"title\":{\"text\":\"GB\"}},\"yaxis3\":{\"anchor\":\"x3\",\"domain\":[0.3888888888888889,0.6111111111111112],\"title\":{\"text\":\"GB\"}},\"yaxis4\":{\"anchor\":\"x4\",\"domain\":[0.3888888888888889,0.6111111111111112],\"title\":{\"text\":\"GB\"}},\"yaxis5\":{\"anchor\":\"x5\",\"domain\":[0.0,0.22222222222222224],\"title\":{\"text\":\"Hours\"}}},                        {\"responsive\": true}                    ).then(function(){\n",
       "                            \n",
       "var gd = document.getElementById('97734845-b5f6-44b5-9c91-416b136a7680');\n",
       "var x = new MutationObserver(function (mutations, observer) {{\n",
       "        var display = window.getComputedStyle(gd).display;\n",
       "        if (!display || display === 'none') {{\n",
       "            console.log([gd, 'removed!']);\n",
       "            Plotly.purge(gd);\n",
       "            observer.disconnect();\n",
       "        }}\n",
       "}});\n",
       "\n",
       "// Listen for the removal of the full notebook cells\n",
       "var notebookContainer = gd.closest('#notebook-container');\n",
       "if (notebookContainer) {{\n",
       "    x.observe(notebookContainer, {childList: true});\n",
       "}}\n",
       "\n",
       "// Listen for the clearing of the current output cell\n",
       "var outputEl = gd.closest('.output');\n",
       "if (outputEl) {{\n",
       "    x.observe(outputEl, {childList: true});\n",
       "}}\n",
       "\n",
       "                        })                };                });            </script>        </div>"
      ]
     },
     "metadata": {},
     "output_type": "display_data"
    },
    {
     "data": {
      "text/plain": [
       "'Plots/Performance/Per Sample Computational Performance Metrics Distribution.html'"
      ]
     },
     "execution_count": 18,
     "metadata": {},
     "output_type": "execute_result"
    }
   ],
   "source": [
    "fig_per_sample = make_subplots(rows=3, cols=2, shared_xaxes=True, \n",
    "                               subplot_titles=('CPU', 'Memory', 'Read', 'Write', 'Run Time'),\n",
    "                               specs=[[{}, {}],[{}, {}],[{\"colspan\": 2}, None]])\n",
    "row_coord = 1\n",
    "col_coord = 1\n",
    "\n",
    "for column in ['cpus', 'rss', 'rchar', 'wchar']:\n",
    "    showlegend = True if (row_coord == 1 and col_coord == 1) else False\n",
    "    i=0\n",
    "    for sample in pipeline_stats_df['sample'].unique():\n",
    "\n",
    "        fig_per_sample.add_trace(go.Violin(y=pipeline_stats_df[column][pipeline_stats_df['sample'] == sample],\n",
    "                                        x=pipeline_stats_df['assembler'][pipeline_stats_df['sample'] == sample],\n",
    "                                        legendgroup='Log', scalegroup='Log', name=sample, box_visible=True, line_color='black',\n",
    "                                        meanline_visible=True, fillcolor=COLOURS[i], opacity=0.5,\n",
    "                                        showlegend=showlegend, spanmode='hard'),\n",
    "                              row=row_coord, col=col_coord)\n",
    "        i+=1\n",
    "    \n",
    "    fig_per_sample.add_trace(go.Scatter(y=[pipeline_stats_df[column].mean()]*len(pipeline_stats_df['assembler']), \n",
    "                                    x=pipeline_stats_df['assembler'], mode='lines', name='mean',\n",
    "                                    line=dict(color=\"crimson\"), opacity=0.8, showlegend=showlegend),\n",
    "                          row=row_coord, col=col_coord)\n",
    "    if col_coord == 2:\n",
    "        col_coord = 1\n",
    "        row_coord += 1\n",
    "    else:\n",
    "        col_coord +=1\n",
    "\n",
    "i=0\n",
    "for sample in pipeline_stats_df['sample'].unique():\n",
    "    fig_per_sample.add_trace(go.Violin(y=pipeline_stats_df['time_hours'][pipeline_stats_df['sample'] == sample],\n",
    "                 x=pipeline_stats_df['assembler'][pipeline_stats_df['sample'] == sample],\n",
    "                    box_visible=True, line_color='black',\n",
    "                    meanline_visible=True, fillcolor=COLOURS[i], opacity=0.5,\n",
    "                    showlegend=False, spanmode='hard'),  row=3, col=1)\n",
    "    i+=1\n",
    "\n",
    "fig_per_sample.add_trace(go.Scatter(y=[pipeline_stats_df['time_hours'].mean()]*len(global_pipeline_stats_df['assembler']), \n",
    "                              x=global_pipeline_stats_df['assembler'], mode='lines',\n",
    "                              line=dict(color=\"crimson\"), opacity=0.8, name='Mean', showlegend=False),  row=3, col=1)\n",
    "\n",
    "fig_per_sample.update_layout(plot_bgcolor='rgb(255,255,255)', title_text=\"Computational Performance Metrics Distribution\")\n",
    "# grid\n",
    "fig_per_sample['layout']['xaxis']['gridcolor']='#DCDCDC'\n",
    "fig_per_sample['layout']['xaxis2']['gridcolor']='#DCDCDC'\n",
    "fig_per_sample['layout']['xaxis3']['gridcolor']='#DCDCDC'\n",
    "fig_per_sample['layout']['xaxis4']['gridcolor']='#DCDCDC'\n",
    "fig_per_sample['layout']['xaxis5']['gridcolor']='#DCDCDC'\n",
    "# y-axis legends\n",
    "fig_per_sample['layout']['yaxis']['title']='CPU/hour'\n",
    "fig_per_sample['layout']['yaxis2']['title']='GB'\n",
    "fig_per_sample['layout']['yaxis3']['title']='GB'\n",
    "fig_per_sample['layout']['yaxis4']['title']='GB'\n",
    "fig_per_sample['layout']['yaxis5']['title']='Hours'\n",
    "\n",
    "fig_per_sample.update_layout(violingap=0, violinmode='overlay')\n",
    "fig_per_sample.update_xaxes(categoryorder='category ascending')\n",
    "\n",
    "fig_per_sample.show()\n",
    "plot(fig_per_sample, filename='Plots/Performance/Per Sample Computational Performance Metrics Distribution.html', auto_open=False)"
   ]
  },
  {
   "cell_type": "code",
   "execution_count": null,
   "metadata": {},
   "outputs": [],
   "source": []
  },
  {
   "cell_type": "code",
   "execution_count": null,
   "metadata": {},
   "outputs": [],
   "source": []
  }
 ],
 "metadata": {
  "kernelspec": {
   "display_name": "Python 3 (ipykernel)",
   "language": "python",
   "name": "python3"
  },
  "language_info": {
   "codemirror_mode": {
    "name": "ipython",
    "version": 3
   },
   "file_extension": ".py",
   "mimetype": "text/x-python",
   "name": "python",
   "nbconvert_exporter": "python",
   "pygments_lexer": "ipython3",
   "version": "3.8.11"
  }
 },
 "nbformat": 4,
 "nbformat_minor": 4
}
