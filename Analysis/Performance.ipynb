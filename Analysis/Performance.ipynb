{
 "cells": [
  {
   "cell_type": "markdown",
   "metadata": {},
   "source": [
    "# LMAS Assembler Computational Performance Metrics Analysis"
   ]
  },
  {
   "cell_type": "markdown",
   "metadata": {},
   "source": [
    "Different software, implementing distinct *de novo* assembly algorithms, have distinct computational requirements. As such, computational statistics were registered for each assembler.\n",
    "\n",
    "The following metrics are analysed for all samples for each assembler:\n",
    "- **Avg Time:** Average run-time formatted as “hour:minute:second”\n",
    "- **CPU/Hour:** Average amount of time, in hours, of CPU usage by an assembler. Obtained CPU load from the number of CPUs and their usage percentage. \n",
    "- **Max Memory (GB):** Maximum peak memory usage by the assembler.\n",
    "- **Average Read (GB):** Average data size read from disk by the assembler.\n",
    "- **Average Write (GB):** Average data size written to disk by the assembler.\n"
   ]
  },
  {
   "cell_type": "markdown",
   "metadata": {},
   "source": [
    "## Imports"
   ]
  },
  {
   "cell_type": "code",
   "execution_count": 59,
   "metadata": {},
   "outputs": [],
   "source": [
    "import sys\n",
    "from plotly.offline import plot\n",
    "import glob\n",
    "import fnmatch\n",
    "import plotly.graph_objects as go\n",
    "from plotly.subplots import make_subplots\n",
    "import json\n",
    "import pandas as pd\n",
    "from itertools import groupby\n",
    "import csv\n",
    "import numpy as np\n",
    "import re"
   ]
  },
  {
   "cell_type": "markdown",
   "metadata": {},
   "source": [
    "## Global variables"
   ]
  },
  {
   "cell_type": "code",
   "execution_count": 9,
   "metadata": {},
   "outputs": [],
   "source": [
    "METRICS_COLUMNS_GLOBAL = ['run','assembler', 'avgTime', 'cpus', 'max_rss', 'avgRead', 'avgWrite']\n",
    "METRICS_COLUMNS_PER_SAMPLE = ['sample', 'assembler', 'run', 'cpus', 'realtime', 'rss', 'rchar', 'wchar']\n",
    "ASSEMBLER_PROCESS_LIST = [\"BCALM2\", \"GATBMINIAPIPELINE\", \"MINIA\", \"MEGAHIT\", \"METASPADES\", \"UNICYCLER\", \"SPADES\",\n",
    "                          \"SKESA\", \"VELVETOPTIMIZER\", \"IDBA\"]\n",
    "PROCESS_TO_NAME = {\"BCALM2\": \"BCALM2\", \n",
    "                   \"GATBMINIAPIPELINE\": \"GATBMiniaPipeline\",\n",
    "                   \"MINIA\": \"MINIA\",\n",
    "                   \"MEGAHIT\": \"MEGAHIT\", \n",
    "                   \"METASPADES\": \"metaSPAdes\", \n",
    "                   \"UNICYCLER\": \"Unicycler\", \n",
    "                   \"SPADES\": \"SPAdes\",\n",
    "                    \"SKESA\": \"SKESA\",\n",
    "                   \"VELVETOPTIMIZER\": \"VelvetOptimizer\",\n",
    "                   \"IDBA\": \"IDBA-UD\"}"
   ]
  },
  {
   "cell_type": "markdown",
   "metadata": {},
   "source": [
    "## Util functions"
   ]
  },
  {
   "cell_type": "code",
   "execution_count": 70,
   "metadata": {},
   "outputs": [],
   "source": [
    "def convert_resource_to_gb(value):\n",
    "    if 'GB' in value:\n",
    "        return float(value.replace('GB',''))\n",
    "    elif 'MB' in value:\n",
    "        return float(value.replace('MB', ''))/1000\n",
    "    \n",
    "def _cpu_load_parser(cpus, cpu_per, t):\n",
    "    \"\"\"Parses the cpu load from the number of cpus and its usage\n",
    "    percentage and returns the cpu/hour measure\n",
    "    Parameters\n",
    "    ----------\n",
    "    cpus : str\n",
    "        Number of cpus allocated.\n",
    "    cpu_per : str\n",
    "        Percentage of cpu load measured (e.g.: 200,5%).\n",
    "    t : str\n",
    "        The time string can be something like '20s', '1m30s' or '300ms'.\n",
    "    \"\"\"\n",
    "    try:\n",
    "        _cpus = float(cpus)\n",
    "        _cpu_per = float(cpu_per.replace(\",\", \".\").replace(\"%\", \"\"))\n",
    "        hours = _hms(t) / 60 / 24\n",
    "\n",
    "        return ((_cpu_per / (100 * _cpus)) * _cpus) * hours\n",
    "\n",
    "    except ValueError as e:\n",
    "        return 0\n",
    "\n",
    "def _hms(s):\n",
    "    \"\"\"Converts a hms string into seconds.\n",
    "    Parameters\n",
    "    ----------\n",
    "    s : str\n",
    "        The hms string can be something like '20s', '1m30s' or '300ms'.\n",
    "    Returns\n",
    "    -------\n",
    "    float\n",
    "        Time in seconds.\n",
    "    \"\"\"\n",
    "\n",
    "    if s == \"-\":\n",
    "        return 0\n",
    "\n",
    "    if s.endswith(\"ms\"):\n",
    "        return float(s.rstrip(\"ms\")) / 1000\n",
    "\n",
    "    fields = list(map(float, re.split(\"[dhms]\", s)[:-1]))\n",
    "    if len(fields) == 4:\n",
    "        return fields[0] * 24 * 3600 + fields[1] * 3600 + fields[2] * 60 + \\\n",
    "            fields[3]\n",
    "    if len(fields) == 3:\n",
    "        return fields[0] * 3600 + fields[1] * 60 + fields[2]\n",
    "    elif len(fields) == 2:\n",
    "        return fields[0] * 60 + fields[1]\n",
    "    else:\n",
    "        return fields[0]\n",
    "\n",
    "def _size_coverter(s):\n",
    "    \"\"\"Converts size string into megabytes\n",
    "    Parameters\n",
    "    ----------\n",
    "    s : str\n",
    "        The size string can be '30KB', '20MB' or '1GB'\n",
    "    Returns\n",
    "    -------\n",
    "    float\n",
    "        With the size in bytes\n",
    "    \"\"\"\n",
    "\n",
    "    if s.upper().endswith(\"KB\"):\n",
    "        return float(s.rstrip(\"KB\")) / 1024\n",
    "\n",
    "    elif s.upper().endswith(\" B\"):\n",
    "        return float(s.rstrip(\"B\")) / 1024 / 1024\n",
    "\n",
    "    elif s.upper().endswith(\"MB\"):\n",
    "        return float(s.rstrip(\"MB\"))\n",
    "\n",
    "    elif s.upper().endswith(\"GB\"):\n",
    "        return float(s.rstrip(\"GB\")) * 1024\n",
    "\n",
    "    elif s.upper().endswith(\"TB\"):\n",
    "        return float(s.rstrip(\"TB\")) * 1024 * 1024\n",
    "\n",
    "    else:\n",
    "        return float(0)\n",
    "\n",
    "def _size_compress(s):\n",
    "    \"\"\"Shortens a megabytes string.\n",
    "    \"\"\"\n",
    "\n",
    "    if s / 1024 > 1:\n",
    "        return \"{}GB\".format(round(s / 1024, 1))\n",
    "    else:\n",
    "        return \"{}MB\".format(s)"
   ]
  },
  {
   "cell_type": "markdown",
   "metadata": {},
   "source": [
    "## Global pipeline performance statistics"
   ]
  },
  {
   "cell_type": "markdown",
   "metadata": {},
   "source": [
    "### Load Data"
   ]
  },
  {
   "cell_type": "code",
   "execution_count": 11,
   "metadata": {},
   "outputs": [
    {
     "name": "stdout",
     "output_type": "stream",
     "text": [
      "Processing performance_metadata.json data from run1...\n"
     ]
    }
   ],
   "source": [
    "report_glob = glob.glob('../Results/*/report/performance_metadata.json')\n",
    "global_pipeline_stats_df = pd.DataFrame(columns=METRICS_COLUMNS_GLOBAL)\n",
    "\n",
    "for pipeline_report_file in report_glob:\n",
    "    report_file_name = pipeline_report_file.split('/')[-1]\n",
    "    stats_run = pipeline_report_file.split('/')[-3]\n",
    "    print('Processing {0} data from {1}...'.format(report_file_name, stats_run))\n",
    "    \n",
    "    with open(pipeline_report_file) as _fh:\n",
    "            _json = json.load(_fh)\n",
    "            for _stats in _json:\n",
    "                global_pipeline_stats_df = global_pipeline_stats_df.append({'run': stats_run,\n",
    "                                                                           'assembler': PROCESS_TO_NAME[_stats['assembler']],\n",
    "                                                                           'avgTime': _stats['avgTime'],\n",
    "                                                                           'cpus': _stats['cpus'],\n",
    "                                                                           'max_rss': convert_resource_to_gb(_stats['max_rss']),\n",
    "                                                                           'avgRead': convert_resource_to_gb(_stats['avgRead']),\n",
    "                                                                           'avgWrite': convert_resource_to_gb(_stats['avgWrite'])}, \n",
    "                                                                           ignore_index=True)"
   ]
  },
  {
   "cell_type": "markdown",
   "metadata": {},
   "source": [
    "### Plot  Mean Statistics"
   ]
  },
  {
   "cell_type": "code",
   "execution_count": 12,
   "metadata": {},
   "outputs": [
    {
     "data": {
      "application/vnd.plotly.v1+json": {
       "config": {
        "plotlyServerURL": "https://plot.ly"
       },
       "data": [
        {
         "box": {
          "visible": true
         },
         "fillcolor": "lightseagreen",
         "line": {
          "color": "black"
         },
         "meanline": {
          "visible": true
         },
         "opacity": 0.6,
         "type": "violin",
         "x": [
          "GATBMiniaPipeline",
          "MEGAHIT",
          "MINIA",
          "VelvetOptimizer",
          "SKESA",
          "BCALM2",
          "SPAdes",
          "Unicycler",
          "metaSPAdes",
          "IDBA-UD"
         ],
         "xaxis": "x",
         "y": [
          298.17,
          47.48,
          13.1,
          82.88,
          47.53,
          8.6,
          93.32,
          213.09,
          143.87,
          98.03
         ],
         "yaxis": "y"
        },
        {
         "line": {
          "color": "crimson"
         },
         "mode": "lines",
         "opacity": 0.6,
         "type": "scatter",
         "x": [
          "GATBMiniaPipeline",
          "MEGAHIT",
          "MINIA",
          "VelvetOptimizer",
          "SKESA",
          "BCALM2",
          "SPAdes",
          "Unicycler",
          "metaSPAdes",
          "IDBA-UD"
         ],
         "xaxis": "x",
         "y": [
          104.607,
          104.607,
          104.607,
          104.607,
          104.607,
          104.607,
          104.607,
          104.607,
          104.607,
          104.607
         ],
         "yaxis": "y"
        },
        {
         "box": {
          "visible": true
         },
         "fillcolor": "lightseagreen",
         "line": {
          "color": "black"
         },
         "meanline": {
          "visible": true
         },
         "opacity": 0.6,
         "type": "violin",
         "x": [
          "GATBMiniaPipeline",
          "MEGAHIT",
          "MINIA",
          "VelvetOptimizer",
          "SKESA",
          "BCALM2",
          "SPAdes",
          "Unicycler",
          "metaSPAdes",
          "IDBA-UD"
         ],
         "xaxis": "x2",
         "y": [
          7.8,
          9.4,
          7.9,
          48,
          11.1,
          7.9,
          9.8,
          17.7,
          25.1,
          24.5
         ],
         "yaxis": "y2"
        },
        {
         "line": {
          "color": "crimson"
         },
         "mode": "lines",
         "opacity": 0.6,
         "type": "scatter",
         "x": [
          "GATBMiniaPipeline",
          "MEGAHIT",
          "MINIA",
          "VelvetOptimizer",
          "SKESA",
          "BCALM2",
          "SPAdes",
          "Unicycler",
          "metaSPAdes",
          "IDBA-UD"
         ],
         "xaxis": "x2",
         "y": [
          16.919999999999998,
          16.919999999999998,
          16.919999999999998,
          16.919999999999998,
          16.919999999999998,
          16.919999999999998,
          16.919999999999998,
          16.919999999999998,
          16.919999999999998,
          16.919999999999998
         ],
         "yaxis": "y2"
        },
        {
         "box": {
          "visible": true
         },
         "fillcolor": "lightseagreen",
         "line": {
          "color": "black"
         },
         "meanline": {
          "visible": true
         },
         "opacity": 0.6,
         "type": "violin",
         "x": [
          "GATBMiniaPipeline",
          "MEGAHIT",
          "MINIA",
          "VelvetOptimizer",
          "SKESA",
          "BCALM2",
          "SPAdes",
          "Unicycler",
          "metaSPAdes",
          "IDBA-UD"
         ],
         "xaxis": "x3",
         "y": [
          115.7,
          49.2,
          19.1,
          177.1,
          1.5,
          18.3,
          31.2,
          113.8,
          39.3,
          13.1
         ],
         "yaxis": "y3"
        },
        {
         "line": {
          "color": "crimson"
         },
         "mode": "lines",
         "opacity": 0.6,
         "type": "scatter",
         "x": [
          "GATBMiniaPipeline",
          "MEGAHIT",
          "MINIA",
          "VelvetOptimizer",
          "SKESA",
          "BCALM2",
          "SPAdes",
          "Unicycler",
          "metaSPAdes",
          "IDBA-UD"
         ],
         "xaxis": "x3",
         "y": [
          57.830000000000005,
          57.830000000000005,
          57.830000000000005,
          57.830000000000005,
          57.830000000000005,
          57.830000000000005,
          57.830000000000005,
          57.830000000000005,
          57.830000000000005,
          57.830000000000005
         ],
         "yaxis": "y3"
        },
        {
         "box": {
          "visible": true
         },
         "fillcolor": "lightseagreen",
         "line": {
          "color": "black"
         },
         "meanline": {
          "visible": true
         },
         "opacity": 0.6,
         "type": "violin",
         "x": [
          "GATBMiniaPipeline",
          "MEGAHIT",
          "MINIA",
          "VelvetOptimizer",
          "SKESA",
          "BCALM2",
          "SPAdes",
          "Unicycler",
          "metaSPAdes",
          "IDBA-UD"
         ],
         "xaxis": "x4",
         "y": [
          56.4,
          19.5,
          9.9,
          61,
          0.023,
          9.8,
          63.4,
          498.5,
          56.6,
          3.8
         ],
         "yaxis": "y4"
        },
        {
         "line": {
          "color": "crimson"
         },
         "mode": "lines",
         "opacity": 0.6,
         "type": "scatter",
         "x": [
          "GATBMiniaPipeline",
          "MEGAHIT",
          "MINIA",
          "VelvetOptimizer",
          "SKESA",
          "BCALM2",
          "SPAdes",
          "Unicycler",
          "metaSPAdes",
          "IDBA-UD"
         ],
         "xaxis": "x4",
         "y": [
          77.89229999999999,
          77.89229999999999,
          77.89229999999999,
          77.89229999999999,
          77.89229999999999,
          77.89229999999999,
          77.89229999999999,
          77.89229999999999,
          77.89229999999999,
          77.89229999999999
         ],
         "yaxis": "y4"
        }
       ],
       "layout": {
        "annotations": [
         {
          "font": {
           "size": 16
          },
          "showarrow": false,
          "text": "CPU Usage",
          "x": 0.225,
          "xanchor": "center",
          "xref": "paper",
          "y": 1,
          "yanchor": "bottom",
          "yref": "paper"
         },
         {
          "font": {
           "size": 16
          },
          "showarrow": false,
          "text": "Max Memory",
          "x": 0.775,
          "xanchor": "center",
          "xref": "paper",
          "y": 1,
          "yanchor": "bottom",
          "yref": "paper"
         },
         {
          "font": {
           "size": 16
          },
          "showarrow": false,
          "text": "Average Read",
          "x": 0.225,
          "xanchor": "center",
          "xref": "paper",
          "y": 0.375,
          "yanchor": "bottom",
          "yref": "paper"
         },
         {
          "font": {
           "size": 16
          },
          "showarrow": false,
          "text": "Average Write",
          "x": 0.775,
          "xanchor": "center",
          "xref": "paper",
          "y": 0.375,
          "yanchor": "bottom",
          "yref": "paper"
         },
         {
          "font": {
           "size": 16
          },
          "showarrow": false,
          "text": "Assembler",
          "x": 0.5,
          "xanchor": "center",
          "xref": "paper",
          "y": 0,
          "yanchor": "top",
          "yref": "paper",
          "yshift": -30
         }
        ],
        "plot_bgcolor": "rgb(255,255,255)",
        "showlegend": false,
        "template": {
         "data": {
          "bar": [
           {
            "error_x": {
             "color": "#2a3f5f"
            },
            "error_y": {
             "color": "#2a3f5f"
            },
            "marker": {
             "line": {
              "color": "#E5ECF6",
              "width": 0.5
             }
            },
            "type": "bar"
           }
          ],
          "barpolar": [
           {
            "marker": {
             "line": {
              "color": "#E5ECF6",
              "width": 0.5
             }
            },
            "type": "barpolar"
           }
          ],
          "carpet": [
           {
            "aaxis": {
             "endlinecolor": "#2a3f5f",
             "gridcolor": "white",
             "linecolor": "white",
             "minorgridcolor": "white",
             "startlinecolor": "#2a3f5f"
            },
            "baxis": {
             "endlinecolor": "#2a3f5f",
             "gridcolor": "white",
             "linecolor": "white",
             "minorgridcolor": "white",
             "startlinecolor": "#2a3f5f"
            },
            "type": "carpet"
           }
          ],
          "choropleth": [
           {
            "colorbar": {
             "outlinewidth": 0,
             "ticks": ""
            },
            "type": "choropleth"
           }
          ],
          "contour": [
           {
            "colorbar": {
             "outlinewidth": 0,
             "ticks": ""
            },
            "colorscale": [
             [
              0,
              "#0d0887"
             ],
             [
              0.1111111111111111,
              "#46039f"
             ],
             [
              0.2222222222222222,
              "#7201a8"
             ],
             [
              0.3333333333333333,
              "#9c179e"
             ],
             [
              0.4444444444444444,
              "#bd3786"
             ],
             [
              0.5555555555555556,
              "#d8576b"
             ],
             [
              0.6666666666666666,
              "#ed7953"
             ],
             [
              0.7777777777777778,
              "#fb9f3a"
             ],
             [
              0.8888888888888888,
              "#fdca26"
             ],
             [
              1,
              "#f0f921"
             ]
            ],
            "type": "contour"
           }
          ],
          "contourcarpet": [
           {
            "colorbar": {
             "outlinewidth": 0,
             "ticks": ""
            },
            "type": "contourcarpet"
           }
          ],
          "heatmap": [
           {
            "colorbar": {
             "outlinewidth": 0,
             "ticks": ""
            },
            "colorscale": [
             [
              0,
              "#0d0887"
             ],
             [
              0.1111111111111111,
              "#46039f"
             ],
             [
              0.2222222222222222,
              "#7201a8"
             ],
             [
              0.3333333333333333,
              "#9c179e"
             ],
             [
              0.4444444444444444,
              "#bd3786"
             ],
             [
              0.5555555555555556,
              "#d8576b"
             ],
             [
              0.6666666666666666,
              "#ed7953"
             ],
             [
              0.7777777777777778,
              "#fb9f3a"
             ],
             [
              0.8888888888888888,
              "#fdca26"
             ],
             [
              1,
              "#f0f921"
             ]
            ],
            "type": "heatmap"
           }
          ],
          "heatmapgl": [
           {
            "colorbar": {
             "outlinewidth": 0,
             "ticks": ""
            },
            "colorscale": [
             [
              0,
              "#0d0887"
             ],
             [
              0.1111111111111111,
              "#46039f"
             ],
             [
              0.2222222222222222,
              "#7201a8"
             ],
             [
              0.3333333333333333,
              "#9c179e"
             ],
             [
              0.4444444444444444,
              "#bd3786"
             ],
             [
              0.5555555555555556,
              "#d8576b"
             ],
             [
              0.6666666666666666,
              "#ed7953"
             ],
             [
              0.7777777777777778,
              "#fb9f3a"
             ],
             [
              0.8888888888888888,
              "#fdca26"
             ],
             [
              1,
              "#f0f921"
             ]
            ],
            "type": "heatmapgl"
           }
          ],
          "histogram": [
           {
            "marker": {
             "colorbar": {
              "outlinewidth": 0,
              "ticks": ""
             }
            },
            "type": "histogram"
           }
          ],
          "histogram2d": [
           {
            "colorbar": {
             "outlinewidth": 0,
             "ticks": ""
            },
            "colorscale": [
             [
              0,
              "#0d0887"
             ],
             [
              0.1111111111111111,
              "#46039f"
             ],
             [
              0.2222222222222222,
              "#7201a8"
             ],
             [
              0.3333333333333333,
              "#9c179e"
             ],
             [
              0.4444444444444444,
              "#bd3786"
             ],
             [
              0.5555555555555556,
              "#d8576b"
             ],
             [
              0.6666666666666666,
              "#ed7953"
             ],
             [
              0.7777777777777778,
              "#fb9f3a"
             ],
             [
              0.8888888888888888,
              "#fdca26"
             ],
             [
              1,
              "#f0f921"
             ]
            ],
            "type": "histogram2d"
           }
          ],
          "histogram2dcontour": [
           {
            "colorbar": {
             "outlinewidth": 0,
             "ticks": ""
            },
            "colorscale": [
             [
              0,
              "#0d0887"
             ],
             [
              0.1111111111111111,
              "#46039f"
             ],
             [
              0.2222222222222222,
              "#7201a8"
             ],
             [
              0.3333333333333333,
              "#9c179e"
             ],
             [
              0.4444444444444444,
              "#bd3786"
             ],
             [
              0.5555555555555556,
              "#d8576b"
             ],
             [
              0.6666666666666666,
              "#ed7953"
             ],
             [
              0.7777777777777778,
              "#fb9f3a"
             ],
             [
              0.8888888888888888,
              "#fdca26"
             ],
             [
              1,
              "#f0f921"
             ]
            ],
            "type": "histogram2dcontour"
           }
          ],
          "mesh3d": [
           {
            "colorbar": {
             "outlinewidth": 0,
             "ticks": ""
            },
            "type": "mesh3d"
           }
          ],
          "parcoords": [
           {
            "line": {
             "colorbar": {
              "outlinewidth": 0,
              "ticks": ""
             }
            },
            "type": "parcoords"
           }
          ],
          "pie": [
           {
            "automargin": true,
            "type": "pie"
           }
          ],
          "scatter": [
           {
            "marker": {
             "colorbar": {
              "outlinewidth": 0,
              "ticks": ""
             }
            },
            "type": "scatter"
           }
          ],
          "scatter3d": [
           {
            "line": {
             "colorbar": {
              "outlinewidth": 0,
              "ticks": ""
             }
            },
            "marker": {
             "colorbar": {
              "outlinewidth": 0,
              "ticks": ""
             }
            },
            "type": "scatter3d"
           }
          ],
          "scattercarpet": [
           {
            "marker": {
             "colorbar": {
              "outlinewidth": 0,
              "ticks": ""
             }
            },
            "type": "scattercarpet"
           }
          ],
          "scattergeo": [
           {
            "marker": {
             "colorbar": {
              "outlinewidth": 0,
              "ticks": ""
             }
            },
            "type": "scattergeo"
           }
          ],
          "scattergl": [
           {
            "marker": {
             "colorbar": {
              "outlinewidth": 0,
              "ticks": ""
             }
            },
            "type": "scattergl"
           }
          ],
          "scattermapbox": [
           {
            "marker": {
             "colorbar": {
              "outlinewidth": 0,
              "ticks": ""
             }
            },
            "type": "scattermapbox"
           }
          ],
          "scatterpolar": [
           {
            "marker": {
             "colorbar": {
              "outlinewidth": 0,
              "ticks": ""
             }
            },
            "type": "scatterpolar"
           }
          ],
          "scatterpolargl": [
           {
            "marker": {
             "colorbar": {
              "outlinewidth": 0,
              "ticks": ""
             }
            },
            "type": "scatterpolargl"
           }
          ],
          "scatterternary": [
           {
            "marker": {
             "colorbar": {
              "outlinewidth": 0,
              "ticks": ""
             }
            },
            "type": "scatterternary"
           }
          ],
          "surface": [
           {
            "colorbar": {
             "outlinewidth": 0,
             "ticks": ""
            },
            "colorscale": [
             [
              0,
              "#0d0887"
             ],
             [
              0.1111111111111111,
              "#46039f"
             ],
             [
              0.2222222222222222,
              "#7201a8"
             ],
             [
              0.3333333333333333,
              "#9c179e"
             ],
             [
              0.4444444444444444,
              "#bd3786"
             ],
             [
              0.5555555555555556,
              "#d8576b"
             ],
             [
              0.6666666666666666,
              "#ed7953"
             ],
             [
              0.7777777777777778,
              "#fb9f3a"
             ],
             [
              0.8888888888888888,
              "#fdca26"
             ],
             [
              1,
              "#f0f921"
             ]
            ],
            "type": "surface"
           }
          ],
          "table": [
           {
            "cells": {
             "fill": {
              "color": "#EBF0F8"
             },
             "line": {
              "color": "white"
             }
            },
            "header": {
             "fill": {
              "color": "#C8D4E3"
             },
             "line": {
              "color": "white"
             }
            },
            "type": "table"
           }
          ]
         },
         "layout": {
          "annotationdefaults": {
           "arrowcolor": "#2a3f5f",
           "arrowhead": 0,
           "arrowwidth": 1
          },
          "coloraxis": {
           "colorbar": {
            "outlinewidth": 0,
            "ticks": ""
           }
          },
          "colorscale": {
           "diverging": [
            [
             0,
             "#8e0152"
            ],
            [
             0.1,
             "#c51b7d"
            ],
            [
             0.2,
             "#de77ae"
            ],
            [
             0.3,
             "#f1b6da"
            ],
            [
             0.4,
             "#fde0ef"
            ],
            [
             0.5,
             "#f7f7f7"
            ],
            [
             0.6,
             "#e6f5d0"
            ],
            [
             0.7,
             "#b8e186"
            ],
            [
             0.8,
             "#7fbc41"
            ],
            [
             0.9,
             "#4d9221"
            ],
            [
             1,
             "#276419"
            ]
           ],
           "sequential": [
            [
             0,
             "#0d0887"
            ],
            [
             0.1111111111111111,
             "#46039f"
            ],
            [
             0.2222222222222222,
             "#7201a8"
            ],
            [
             0.3333333333333333,
             "#9c179e"
            ],
            [
             0.4444444444444444,
             "#bd3786"
            ],
            [
             0.5555555555555556,
             "#d8576b"
            ],
            [
             0.6666666666666666,
             "#ed7953"
            ],
            [
             0.7777777777777778,
             "#fb9f3a"
            ],
            [
             0.8888888888888888,
             "#fdca26"
            ],
            [
             1,
             "#f0f921"
            ]
           ],
           "sequentialminus": [
            [
             0,
             "#0d0887"
            ],
            [
             0.1111111111111111,
             "#46039f"
            ],
            [
             0.2222222222222222,
             "#7201a8"
            ],
            [
             0.3333333333333333,
             "#9c179e"
            ],
            [
             0.4444444444444444,
             "#bd3786"
            ],
            [
             0.5555555555555556,
             "#d8576b"
            ],
            [
             0.6666666666666666,
             "#ed7953"
            ],
            [
             0.7777777777777778,
             "#fb9f3a"
            ],
            [
             0.8888888888888888,
             "#fdca26"
            ],
            [
             1,
             "#f0f921"
            ]
           ]
          },
          "colorway": [
           "#636efa",
           "#EF553B",
           "#00cc96",
           "#ab63fa",
           "#FFA15A",
           "#19d3f3",
           "#FF6692",
           "#B6E880",
           "#FF97FF",
           "#FECB52"
          ],
          "font": {
           "color": "#2a3f5f"
          },
          "geo": {
           "bgcolor": "white",
           "lakecolor": "white",
           "landcolor": "#E5ECF6",
           "showlakes": true,
           "showland": true,
           "subunitcolor": "white"
          },
          "hoverlabel": {
           "align": "left"
          },
          "hovermode": "closest",
          "mapbox": {
           "style": "light"
          },
          "paper_bgcolor": "white",
          "plot_bgcolor": "#E5ECF6",
          "polar": {
           "angularaxis": {
            "gridcolor": "white",
            "linecolor": "white",
            "ticks": ""
           },
           "bgcolor": "#E5ECF6",
           "radialaxis": {
            "gridcolor": "white",
            "linecolor": "white",
            "ticks": ""
           }
          },
          "scene": {
           "xaxis": {
            "backgroundcolor": "#E5ECF6",
            "gridcolor": "white",
            "gridwidth": 2,
            "linecolor": "white",
            "showbackground": true,
            "ticks": "",
            "zerolinecolor": "white"
           },
           "yaxis": {
            "backgroundcolor": "#E5ECF6",
            "gridcolor": "white",
            "gridwidth": 2,
            "linecolor": "white",
            "showbackground": true,
            "ticks": "",
            "zerolinecolor": "white"
           },
           "zaxis": {
            "backgroundcolor": "#E5ECF6",
            "gridcolor": "white",
            "gridwidth": 2,
            "linecolor": "white",
            "showbackground": true,
            "ticks": "",
            "zerolinecolor": "white"
           }
          },
          "shapedefaults": {
           "line": {
            "color": "#2a3f5f"
           }
          },
          "ternary": {
           "aaxis": {
            "gridcolor": "white",
            "linecolor": "white",
            "ticks": ""
           },
           "baxis": {
            "gridcolor": "white",
            "linecolor": "white",
            "ticks": ""
           },
           "bgcolor": "#E5ECF6",
           "caxis": {
            "gridcolor": "white",
            "linecolor": "white",
            "ticks": ""
           }
          },
          "title": {
           "x": 0.05
          },
          "xaxis": {
           "automargin": true,
           "gridcolor": "white",
           "linecolor": "white",
           "ticks": "",
           "title": {
            "standoff": 15
           },
           "zerolinecolor": "white",
           "zerolinewidth": 2
          },
          "yaxis": {
           "automargin": true,
           "gridcolor": "white",
           "linecolor": "white",
           "ticks": "",
           "title": {
            "standoff": 15
           },
           "zerolinecolor": "white",
           "zerolinewidth": 2
          }
         }
        },
        "title": {
         "text": "Global Computational Performance Metrics"
        },
        "xaxis": {
         "anchor": "y",
         "domain": [
          0,
          0.45
         ],
         "gridcolor": "#DCDCDC",
         "matches": "x3",
         "showticklabels": false
        },
        "xaxis2": {
         "anchor": "y2",
         "domain": [
          0.55,
          1
         ],
         "gridcolor": "#DCDCDC",
         "matches": "x4",
         "showticklabels": false
        },
        "xaxis3": {
         "anchor": "y3",
         "domain": [
          0,
          0.45
         ],
         "gridcolor": "#DCDCDC"
        },
        "xaxis4": {
         "anchor": "y4",
         "domain": [
          0.55,
          1
         ],
         "gridcolor": "#DCDCDC"
        },
        "yaxis": {
         "anchor": "x",
         "domain": [
          0.625,
          1
         ],
         "title": {
          "text": "CPU/hour"
         }
        },
        "yaxis2": {
         "anchor": "x2",
         "domain": [
          0.625,
          1
         ],
         "title": {
          "text": "GB"
         }
        },
        "yaxis3": {
         "anchor": "x3",
         "domain": [
          0,
          0.375
         ],
         "title": {
          "text": "GB"
         }
        },
        "yaxis4": {
         "anchor": "x4",
         "domain": [
          0,
          0.375
         ],
         "title": {
          "text": "GB"
         }
        }
       }
      },
      "text/html": [
       "<div>\n",
       "        \n",
       "        \n",
       "            <div id=\"0f177392-3969-41fd-bce1-9202808124dc\" class=\"plotly-graph-div\" style=\"height:525px; width:100%;\"></div>\n",
       "            <script type=\"text/javascript\">\n",
       "                require([\"plotly\"], function(Plotly) {\n",
       "                    window.PLOTLYENV=window.PLOTLYENV || {};\n",
       "                    \n",
       "                if (document.getElementById(\"0f177392-3969-41fd-bce1-9202808124dc\")) {\n",
       "                    Plotly.newPlot(\n",
       "                        '0f177392-3969-41fd-bce1-9202808124dc',\n",
       "                        [{\"box\": {\"visible\": true}, \"fillcolor\": \"lightseagreen\", \"line\": {\"color\": \"black\"}, \"meanline\": {\"visible\": true}, \"opacity\": 0.6, \"type\": \"violin\", \"x\": [\"GATBMiniaPipeline\", \"MEGAHIT\", \"MINIA\", \"VelvetOptimizer\", \"SKESA\", \"BCALM2\", \"SPAdes\", \"Unicycler\", \"metaSPAdes\", \"IDBA-UD\"], \"xaxis\": \"x\", \"y\": [298.17, 47.48, 13.1, 82.88, 47.53, 8.6, 93.32, 213.09, 143.87, 98.03], \"yaxis\": \"y\"}, {\"line\": {\"color\": \"crimson\"}, \"mode\": \"lines\", \"opacity\": 0.6, \"type\": \"scatter\", \"x\": [\"GATBMiniaPipeline\", \"MEGAHIT\", \"MINIA\", \"VelvetOptimizer\", \"SKESA\", \"BCALM2\", \"SPAdes\", \"Unicycler\", \"metaSPAdes\", \"IDBA-UD\"], \"xaxis\": \"x\", \"y\": [104.607, 104.607, 104.607, 104.607, 104.607, 104.607, 104.607, 104.607, 104.607, 104.607], \"yaxis\": \"y\"}, {\"box\": {\"visible\": true}, \"fillcolor\": \"lightseagreen\", \"line\": {\"color\": \"black\"}, \"meanline\": {\"visible\": true}, \"opacity\": 0.6, \"type\": \"violin\", \"x\": [\"GATBMiniaPipeline\", \"MEGAHIT\", \"MINIA\", \"VelvetOptimizer\", \"SKESA\", \"BCALM2\", \"SPAdes\", \"Unicycler\", \"metaSPAdes\", \"IDBA-UD\"], \"xaxis\": \"x2\", \"y\": [7.8, 9.4, 7.9, 48.0, 11.1, 7.9, 9.8, 17.7, 25.1, 24.5], \"yaxis\": \"y2\"}, {\"line\": {\"color\": \"crimson\"}, \"mode\": \"lines\", \"opacity\": 0.6, \"type\": \"scatter\", \"x\": [\"GATBMiniaPipeline\", \"MEGAHIT\", \"MINIA\", \"VelvetOptimizer\", \"SKESA\", \"BCALM2\", \"SPAdes\", \"Unicycler\", \"metaSPAdes\", \"IDBA-UD\"], \"xaxis\": \"x2\", \"y\": [16.919999999999998, 16.919999999999998, 16.919999999999998, 16.919999999999998, 16.919999999999998, 16.919999999999998, 16.919999999999998, 16.919999999999998, 16.919999999999998, 16.919999999999998], \"yaxis\": \"y2\"}, {\"box\": {\"visible\": true}, \"fillcolor\": \"lightseagreen\", \"line\": {\"color\": \"black\"}, \"meanline\": {\"visible\": true}, \"opacity\": 0.6, \"type\": \"violin\", \"x\": [\"GATBMiniaPipeline\", \"MEGAHIT\", \"MINIA\", \"VelvetOptimizer\", \"SKESA\", \"BCALM2\", \"SPAdes\", \"Unicycler\", \"metaSPAdes\", \"IDBA-UD\"], \"xaxis\": \"x3\", \"y\": [115.7, 49.2, 19.1, 177.1, 1.5, 18.3, 31.2, 113.8, 39.3, 13.1], \"yaxis\": \"y3\"}, {\"line\": {\"color\": \"crimson\"}, \"mode\": \"lines\", \"opacity\": 0.6, \"type\": \"scatter\", \"x\": [\"GATBMiniaPipeline\", \"MEGAHIT\", \"MINIA\", \"VelvetOptimizer\", \"SKESA\", \"BCALM2\", \"SPAdes\", \"Unicycler\", \"metaSPAdes\", \"IDBA-UD\"], \"xaxis\": \"x3\", \"y\": [57.830000000000005, 57.830000000000005, 57.830000000000005, 57.830000000000005, 57.830000000000005, 57.830000000000005, 57.830000000000005, 57.830000000000005, 57.830000000000005, 57.830000000000005], \"yaxis\": \"y3\"}, {\"box\": {\"visible\": true}, \"fillcolor\": \"lightseagreen\", \"line\": {\"color\": \"black\"}, \"meanline\": {\"visible\": true}, \"opacity\": 0.6, \"type\": \"violin\", \"x\": [\"GATBMiniaPipeline\", \"MEGAHIT\", \"MINIA\", \"VelvetOptimizer\", \"SKESA\", \"BCALM2\", \"SPAdes\", \"Unicycler\", \"metaSPAdes\", \"IDBA-UD\"], \"xaxis\": \"x4\", \"y\": [56.4, 19.5, 9.9, 61.0, 0.023, 9.8, 63.4, 498.5, 56.6, 3.8], \"yaxis\": \"y4\"}, {\"line\": {\"color\": \"crimson\"}, \"mode\": \"lines\", \"opacity\": 0.6, \"type\": \"scatter\", \"x\": [\"GATBMiniaPipeline\", \"MEGAHIT\", \"MINIA\", \"VelvetOptimizer\", \"SKESA\", \"BCALM2\", \"SPAdes\", \"Unicycler\", \"metaSPAdes\", \"IDBA-UD\"], \"xaxis\": \"x4\", \"y\": [77.89229999999999, 77.89229999999999, 77.89229999999999, 77.89229999999999, 77.89229999999999, 77.89229999999999, 77.89229999999999, 77.89229999999999, 77.89229999999999, 77.89229999999999], \"yaxis\": \"y4\"}],\n",
       "                        {\"annotations\": [{\"font\": {\"size\": 16}, \"showarrow\": false, \"text\": \"CPU Usage\", \"x\": 0.225, \"xanchor\": \"center\", \"xref\": \"paper\", \"y\": 1.0, \"yanchor\": \"bottom\", \"yref\": \"paper\"}, {\"font\": {\"size\": 16}, \"showarrow\": false, \"text\": \"Max Memory\", \"x\": 0.775, \"xanchor\": \"center\", \"xref\": \"paper\", \"y\": 1.0, \"yanchor\": \"bottom\", \"yref\": \"paper\"}, {\"font\": {\"size\": 16}, \"showarrow\": false, \"text\": \"Average Read\", \"x\": 0.225, \"xanchor\": \"center\", \"xref\": \"paper\", \"y\": 0.375, \"yanchor\": \"bottom\", \"yref\": \"paper\"}, {\"font\": {\"size\": 16}, \"showarrow\": false, \"text\": \"Average Write\", \"x\": 0.775, \"xanchor\": \"center\", \"xref\": \"paper\", \"y\": 0.375, \"yanchor\": \"bottom\", \"yref\": \"paper\"}, {\"font\": {\"size\": 16}, \"showarrow\": false, \"text\": \"Assembler\", \"x\": 0.5, \"xanchor\": \"center\", \"xref\": \"paper\", \"y\": 0, \"yanchor\": \"top\", \"yref\": \"paper\", \"yshift\": -30}], \"plot_bgcolor\": \"rgb(255,255,255)\", \"showlegend\": false, \"template\": {\"data\": {\"bar\": [{\"error_x\": {\"color\": \"#2a3f5f\"}, \"error_y\": {\"color\": \"#2a3f5f\"}, \"marker\": {\"line\": {\"color\": \"#E5ECF6\", \"width\": 0.5}}, \"type\": \"bar\"}], \"barpolar\": [{\"marker\": {\"line\": {\"color\": \"#E5ECF6\", \"width\": 0.5}}, \"type\": \"barpolar\"}], \"carpet\": [{\"aaxis\": {\"endlinecolor\": \"#2a3f5f\", \"gridcolor\": \"white\", \"linecolor\": \"white\", \"minorgridcolor\": \"white\", \"startlinecolor\": \"#2a3f5f\"}, \"baxis\": {\"endlinecolor\": \"#2a3f5f\", \"gridcolor\": \"white\", \"linecolor\": \"white\", \"minorgridcolor\": \"white\", \"startlinecolor\": \"#2a3f5f\"}, \"type\": \"carpet\"}], \"choropleth\": [{\"colorbar\": {\"outlinewidth\": 0, \"ticks\": \"\"}, \"type\": \"choropleth\"}], \"contour\": [{\"colorbar\": {\"outlinewidth\": 0, \"ticks\": \"\"}, \"colorscale\": [[0.0, \"#0d0887\"], [0.1111111111111111, \"#46039f\"], [0.2222222222222222, \"#7201a8\"], [0.3333333333333333, \"#9c179e\"], [0.4444444444444444, \"#bd3786\"], [0.5555555555555556, \"#d8576b\"], [0.6666666666666666, \"#ed7953\"], [0.7777777777777778, \"#fb9f3a\"], [0.8888888888888888, \"#fdca26\"], [1.0, \"#f0f921\"]], \"type\": \"contour\"}], \"contourcarpet\": [{\"colorbar\": {\"outlinewidth\": 0, \"ticks\": \"\"}, \"type\": \"contourcarpet\"}], \"heatmap\": [{\"colorbar\": {\"outlinewidth\": 0, \"ticks\": \"\"}, \"colorscale\": [[0.0, \"#0d0887\"], [0.1111111111111111, \"#46039f\"], [0.2222222222222222, \"#7201a8\"], [0.3333333333333333, \"#9c179e\"], [0.4444444444444444, \"#bd3786\"], [0.5555555555555556, \"#d8576b\"], [0.6666666666666666, \"#ed7953\"], [0.7777777777777778, \"#fb9f3a\"], [0.8888888888888888, \"#fdca26\"], [1.0, \"#f0f921\"]], \"type\": \"heatmap\"}], \"heatmapgl\": [{\"colorbar\": {\"outlinewidth\": 0, \"ticks\": \"\"}, \"colorscale\": [[0.0, \"#0d0887\"], [0.1111111111111111, \"#46039f\"], [0.2222222222222222, \"#7201a8\"], [0.3333333333333333, \"#9c179e\"], [0.4444444444444444, \"#bd3786\"], [0.5555555555555556, \"#d8576b\"], [0.6666666666666666, \"#ed7953\"], [0.7777777777777778, \"#fb9f3a\"], [0.8888888888888888, \"#fdca26\"], [1.0, \"#f0f921\"]], \"type\": \"heatmapgl\"}], \"histogram\": [{\"marker\": {\"colorbar\": {\"outlinewidth\": 0, \"ticks\": \"\"}}, \"type\": \"histogram\"}], \"histogram2d\": [{\"colorbar\": {\"outlinewidth\": 0, \"ticks\": \"\"}, \"colorscale\": [[0.0, \"#0d0887\"], [0.1111111111111111, \"#46039f\"], [0.2222222222222222, \"#7201a8\"], [0.3333333333333333, \"#9c179e\"], [0.4444444444444444, \"#bd3786\"], [0.5555555555555556, \"#d8576b\"], [0.6666666666666666, \"#ed7953\"], [0.7777777777777778, \"#fb9f3a\"], [0.8888888888888888, \"#fdca26\"], [1.0, \"#f0f921\"]], \"type\": \"histogram2d\"}], \"histogram2dcontour\": [{\"colorbar\": {\"outlinewidth\": 0, \"ticks\": \"\"}, \"colorscale\": [[0.0, \"#0d0887\"], [0.1111111111111111, \"#46039f\"], [0.2222222222222222, \"#7201a8\"], [0.3333333333333333, \"#9c179e\"], [0.4444444444444444, \"#bd3786\"], [0.5555555555555556, \"#d8576b\"], [0.6666666666666666, \"#ed7953\"], [0.7777777777777778, \"#fb9f3a\"], [0.8888888888888888, \"#fdca26\"], [1.0, \"#f0f921\"]], \"type\": \"histogram2dcontour\"}], \"mesh3d\": [{\"colorbar\": {\"outlinewidth\": 0, \"ticks\": \"\"}, \"type\": \"mesh3d\"}], \"parcoords\": [{\"line\": {\"colorbar\": {\"outlinewidth\": 0, \"ticks\": \"\"}}, \"type\": \"parcoords\"}], \"pie\": [{\"automargin\": true, \"type\": \"pie\"}], \"scatter\": [{\"marker\": {\"colorbar\": {\"outlinewidth\": 0, \"ticks\": \"\"}}, \"type\": \"scatter\"}], \"scatter3d\": [{\"line\": {\"colorbar\": {\"outlinewidth\": 0, \"ticks\": \"\"}}, \"marker\": {\"colorbar\": {\"outlinewidth\": 0, \"ticks\": \"\"}}, \"type\": \"scatter3d\"}], \"scattercarpet\": [{\"marker\": {\"colorbar\": {\"outlinewidth\": 0, \"ticks\": \"\"}}, \"type\": \"scattercarpet\"}], \"scattergeo\": [{\"marker\": {\"colorbar\": {\"outlinewidth\": 0, \"ticks\": \"\"}}, \"type\": \"scattergeo\"}], \"scattergl\": [{\"marker\": {\"colorbar\": {\"outlinewidth\": 0, \"ticks\": \"\"}}, \"type\": \"scattergl\"}], \"scattermapbox\": [{\"marker\": {\"colorbar\": {\"outlinewidth\": 0, \"ticks\": \"\"}}, \"type\": \"scattermapbox\"}], \"scatterpolar\": [{\"marker\": {\"colorbar\": {\"outlinewidth\": 0, \"ticks\": \"\"}}, \"type\": \"scatterpolar\"}], \"scatterpolargl\": [{\"marker\": {\"colorbar\": {\"outlinewidth\": 0, \"ticks\": \"\"}}, \"type\": \"scatterpolargl\"}], \"scatterternary\": [{\"marker\": {\"colorbar\": {\"outlinewidth\": 0, \"ticks\": \"\"}}, \"type\": \"scatterternary\"}], \"surface\": [{\"colorbar\": {\"outlinewidth\": 0, \"ticks\": \"\"}, \"colorscale\": [[0.0, \"#0d0887\"], [0.1111111111111111, \"#46039f\"], [0.2222222222222222, \"#7201a8\"], [0.3333333333333333, \"#9c179e\"], [0.4444444444444444, \"#bd3786\"], [0.5555555555555556, \"#d8576b\"], [0.6666666666666666, \"#ed7953\"], [0.7777777777777778, \"#fb9f3a\"], [0.8888888888888888, \"#fdca26\"], [1.0, \"#f0f921\"]], \"type\": \"surface\"}], \"table\": [{\"cells\": {\"fill\": {\"color\": \"#EBF0F8\"}, \"line\": {\"color\": \"white\"}}, \"header\": {\"fill\": {\"color\": \"#C8D4E3\"}, \"line\": {\"color\": \"white\"}}, \"type\": \"table\"}]}, \"layout\": {\"annotationdefaults\": {\"arrowcolor\": \"#2a3f5f\", \"arrowhead\": 0, \"arrowwidth\": 1}, \"coloraxis\": {\"colorbar\": {\"outlinewidth\": 0, \"ticks\": \"\"}}, \"colorscale\": {\"diverging\": [[0, \"#8e0152\"], [0.1, \"#c51b7d\"], [0.2, \"#de77ae\"], [0.3, \"#f1b6da\"], [0.4, \"#fde0ef\"], [0.5, \"#f7f7f7\"], [0.6, \"#e6f5d0\"], [0.7, \"#b8e186\"], [0.8, \"#7fbc41\"], [0.9, \"#4d9221\"], [1, \"#276419\"]], \"sequential\": [[0.0, \"#0d0887\"], [0.1111111111111111, \"#46039f\"], [0.2222222222222222, \"#7201a8\"], [0.3333333333333333, \"#9c179e\"], [0.4444444444444444, \"#bd3786\"], [0.5555555555555556, \"#d8576b\"], [0.6666666666666666, \"#ed7953\"], [0.7777777777777778, \"#fb9f3a\"], [0.8888888888888888, \"#fdca26\"], [1.0, \"#f0f921\"]], \"sequentialminus\": [[0.0, \"#0d0887\"], [0.1111111111111111, \"#46039f\"], [0.2222222222222222, \"#7201a8\"], [0.3333333333333333, \"#9c179e\"], [0.4444444444444444, \"#bd3786\"], [0.5555555555555556, \"#d8576b\"], [0.6666666666666666, \"#ed7953\"], [0.7777777777777778, \"#fb9f3a\"], [0.8888888888888888, \"#fdca26\"], [1.0, \"#f0f921\"]]}, \"colorway\": [\"#636efa\", \"#EF553B\", \"#00cc96\", \"#ab63fa\", \"#FFA15A\", \"#19d3f3\", \"#FF6692\", \"#B6E880\", \"#FF97FF\", \"#FECB52\"], \"font\": {\"color\": \"#2a3f5f\"}, \"geo\": {\"bgcolor\": \"white\", \"lakecolor\": \"white\", \"landcolor\": \"#E5ECF6\", \"showlakes\": true, \"showland\": true, \"subunitcolor\": \"white\"}, \"hoverlabel\": {\"align\": \"left\"}, \"hovermode\": \"closest\", \"mapbox\": {\"style\": \"light\"}, \"paper_bgcolor\": \"white\", \"plot_bgcolor\": \"#E5ECF6\", \"polar\": {\"angularaxis\": {\"gridcolor\": \"white\", \"linecolor\": \"white\", \"ticks\": \"\"}, \"bgcolor\": \"#E5ECF6\", \"radialaxis\": {\"gridcolor\": \"white\", \"linecolor\": \"white\", \"ticks\": \"\"}}, \"scene\": {\"xaxis\": {\"backgroundcolor\": \"#E5ECF6\", \"gridcolor\": \"white\", \"gridwidth\": 2, \"linecolor\": \"white\", \"showbackground\": true, \"ticks\": \"\", \"zerolinecolor\": \"white\"}, \"yaxis\": {\"backgroundcolor\": \"#E5ECF6\", \"gridcolor\": \"white\", \"gridwidth\": 2, \"linecolor\": \"white\", \"showbackground\": true, \"ticks\": \"\", \"zerolinecolor\": \"white\"}, \"zaxis\": {\"backgroundcolor\": \"#E5ECF6\", \"gridcolor\": \"white\", \"gridwidth\": 2, \"linecolor\": \"white\", \"showbackground\": true, \"ticks\": \"\", \"zerolinecolor\": \"white\"}}, \"shapedefaults\": {\"line\": {\"color\": \"#2a3f5f\"}}, \"ternary\": {\"aaxis\": {\"gridcolor\": \"white\", \"linecolor\": \"white\", \"ticks\": \"\"}, \"baxis\": {\"gridcolor\": \"white\", \"linecolor\": \"white\", \"ticks\": \"\"}, \"bgcolor\": \"#E5ECF6\", \"caxis\": {\"gridcolor\": \"white\", \"linecolor\": \"white\", \"ticks\": \"\"}}, \"title\": {\"x\": 0.05}, \"xaxis\": {\"automargin\": true, \"gridcolor\": \"white\", \"linecolor\": \"white\", \"ticks\": \"\", \"title\": {\"standoff\": 15}, \"zerolinecolor\": \"white\", \"zerolinewidth\": 2}, \"yaxis\": {\"automargin\": true, \"gridcolor\": \"white\", \"linecolor\": \"white\", \"ticks\": \"\", \"title\": {\"standoff\": 15}, \"zerolinecolor\": \"white\", \"zerolinewidth\": 2}}}, \"title\": {\"text\": \"Global Computational Performance Metrics\"}, \"xaxis\": {\"anchor\": \"y\", \"domain\": [0.0, 0.45], \"gridcolor\": \"#DCDCDC\", \"matches\": \"x3\", \"showticklabels\": false}, \"xaxis2\": {\"anchor\": \"y2\", \"domain\": [0.55, 1.0], \"gridcolor\": \"#DCDCDC\", \"matches\": \"x4\", \"showticklabels\": false}, \"xaxis3\": {\"anchor\": \"y3\", \"domain\": [0.0, 0.45], \"gridcolor\": \"#DCDCDC\"}, \"xaxis4\": {\"anchor\": \"y4\", \"domain\": [0.55, 1.0], \"gridcolor\": \"#DCDCDC\"}, \"yaxis\": {\"anchor\": \"x\", \"domain\": [0.625, 1.0], \"title\": {\"text\": \"CPU/hour\"}}, \"yaxis2\": {\"anchor\": \"x2\", \"domain\": [0.625, 1.0], \"title\": {\"text\": \"GB\"}}, \"yaxis3\": {\"anchor\": \"x3\", \"domain\": [0.0, 0.375], \"title\": {\"text\": \"GB\"}}, \"yaxis4\": {\"anchor\": \"x4\", \"domain\": [0.0, 0.375], \"title\": {\"text\": \"GB\"}}},\n",
       "                        {\"responsive\": true}\n",
       "                    ).then(function(){\n",
       "                            \n",
       "var gd = document.getElementById('0f177392-3969-41fd-bce1-9202808124dc');\n",
       "var x = new MutationObserver(function (mutations, observer) {{\n",
       "        var display = window.getComputedStyle(gd).display;\n",
       "        if (!display || display === 'none') {{\n",
       "            console.log([gd, 'removed!']);\n",
       "            Plotly.purge(gd);\n",
       "            observer.disconnect();\n",
       "        }}\n",
       "}});\n",
       "\n",
       "// Listen for the removal of the full notebook cells\n",
       "var notebookContainer = gd.closest('#notebook-container');\n",
       "if (notebookContainer) {{\n",
       "    x.observe(notebookContainer, {childList: true});\n",
       "}}\n",
       "\n",
       "// Listen for the clearing of the current output cell\n",
       "var outputEl = gd.closest('.output');\n",
       "if (outputEl) {{\n",
       "    x.observe(outputEl, {childList: true});\n",
       "}}\n",
       "\n",
       "                        })\n",
       "                };\n",
       "                });\n",
       "            </script>\n",
       "        </div>"
      ]
     },
     "metadata": {},
     "output_type": "display_data"
    }
   ],
   "source": [
    "fig_global = make_subplots(rows=2, cols=2, shared_xaxes=True, x_title=\"Assembler\", \n",
    "                           subplot_titles=('CPU Usage', 'Max Memory', 'Average Read', 'Average Write'))\n",
    "row_coord = 1\n",
    "col_coord = 1\n",
    "\n",
    "for column in global_pipeline_stats_df.columns:\n",
    "    if column not in ['run', 'assembler', 'avgTime']:\n",
    "        fig_global.add_trace(go.Violin(y=global_pipeline_stats_df[column], box_visible=True, line_color='black',\n",
    "                               meanline_visible=True, fillcolor='lightseagreen', opacity=0.6,\n",
    "                               x=global_pipeline_stats_df['assembler']),\n",
    "                      row=row_coord, col=col_coord)\n",
    "        fig_global.add_trace(go.Scatter(y=[global_pipeline_stats_df[column].mean()]*len(global_pipeline_stats_df['assembler']), \n",
    "                                        x=global_pipeline_stats_df['assembler'], mode='lines',\n",
    "                                        line=dict(color=\"crimson\"), opacity=0.6),row=row_coord, col=col_coord)\n",
    "        if col_coord == 2:\n",
    "            col_coord = 1\n",
    "            row_coord += 1\n",
    "        else:\n",
    "            col_coord +=1\n",
    "\n",
    "fig_global.update_layout(showlegend=False,plot_bgcolor='rgb(255,255,255)', title_text=\"Global Computational Performance Metrics\")\n",
    "# grid\n",
    "fig_global['layout']['xaxis']['gridcolor']='#DCDCDC'\n",
    "fig_global['layout']['xaxis2']['gridcolor']='#DCDCDC'\n",
    "fig_global['layout']['xaxis3']['gridcolor']='#DCDCDC'\n",
    "fig_global['layout']['xaxis4']['gridcolor']='#DCDCDC'\n",
    "# y-axis legends\n",
    "fig_global['layout']['yaxis']['title']='CPU/hour'\n",
    "fig_global['layout']['yaxis2']['title']='GB'\n",
    "fig_global['layout']['yaxis3']['title']='GB'\n",
    "fig_global['layout']['yaxis4']['title']='GB'\n",
    "\n",
    "fig_global.show()"
   ]
  },
  {
   "cell_type": "code",
   "execution_count": 47,
   "metadata": {},
   "outputs": [
    {
     "data": {
      "application/vnd.plotly.v1+json": {
       "config": {
        "plotlyServerURL": "https://plot.ly"
       },
       "data": [
        {
         "marker": {
          "color": "darkgray"
         },
         "showlegend": false,
         "text": [
          2.46,
          0.94,
          0.2,
          1.25,
          1.12,
          0.16,
          2.2,
          5.09,
          3.64,
          1.99
         ],
         "textposition": "outside",
         "type": "bar",
         "x": [
          "GATBMiniaPipeline",
          "MEGAHIT",
          "MINIA",
          "VelvetOptimizer",
          "SKESA",
          "BCALM2",
          "SPAdes",
          "Unicycler",
          "metaSPAdes",
          "IDBA-UD"
         ],
         "y": [
          2.46,
          0.94,
          0.2,
          1.25,
          1.12,
          0.16,
          2.2,
          5.09,
          3.64,
          1.99
         ]
        },
        {
         "line": {
          "color": "crimson"
         },
         "mode": "lines",
         "name": "Mean",
         "opacity": 0.6,
         "type": "scatter",
         "x": [
          "GATBMiniaPipeline",
          "MEGAHIT",
          "MINIA",
          "VelvetOptimizer",
          "SKESA",
          "BCALM2",
          "SPAdes",
          "Unicycler",
          "metaSPAdes",
          "IDBA-UD"
         ],
         "y": [
          1.9049999999999998,
          1.9049999999999998,
          1.9049999999999998,
          1.9049999999999998,
          1.9049999999999998,
          1.9049999999999998,
          1.9049999999999998,
          1.9049999999999998,
          1.9049999999999998,
          1.9049999999999998
         ]
        }
       ],
       "layout": {
        "plot_bgcolor": "rgb(255,255,255)",
        "showlegend": true,
        "template": {
         "data": {
          "bar": [
           {
            "error_x": {
             "color": "#2a3f5f"
            },
            "error_y": {
             "color": "#2a3f5f"
            },
            "marker": {
             "line": {
              "color": "#E5ECF6",
              "width": 0.5
             }
            },
            "type": "bar"
           }
          ],
          "barpolar": [
           {
            "marker": {
             "line": {
              "color": "#E5ECF6",
              "width": 0.5
             }
            },
            "type": "barpolar"
           }
          ],
          "carpet": [
           {
            "aaxis": {
             "endlinecolor": "#2a3f5f",
             "gridcolor": "white",
             "linecolor": "white",
             "minorgridcolor": "white",
             "startlinecolor": "#2a3f5f"
            },
            "baxis": {
             "endlinecolor": "#2a3f5f",
             "gridcolor": "white",
             "linecolor": "white",
             "minorgridcolor": "white",
             "startlinecolor": "#2a3f5f"
            },
            "type": "carpet"
           }
          ],
          "choropleth": [
           {
            "colorbar": {
             "outlinewidth": 0,
             "ticks": ""
            },
            "type": "choropleth"
           }
          ],
          "contour": [
           {
            "colorbar": {
             "outlinewidth": 0,
             "ticks": ""
            },
            "colorscale": [
             [
              0,
              "#0d0887"
             ],
             [
              0.1111111111111111,
              "#46039f"
             ],
             [
              0.2222222222222222,
              "#7201a8"
             ],
             [
              0.3333333333333333,
              "#9c179e"
             ],
             [
              0.4444444444444444,
              "#bd3786"
             ],
             [
              0.5555555555555556,
              "#d8576b"
             ],
             [
              0.6666666666666666,
              "#ed7953"
             ],
             [
              0.7777777777777778,
              "#fb9f3a"
             ],
             [
              0.8888888888888888,
              "#fdca26"
             ],
             [
              1,
              "#f0f921"
             ]
            ],
            "type": "contour"
           }
          ],
          "contourcarpet": [
           {
            "colorbar": {
             "outlinewidth": 0,
             "ticks": ""
            },
            "type": "contourcarpet"
           }
          ],
          "heatmap": [
           {
            "colorbar": {
             "outlinewidth": 0,
             "ticks": ""
            },
            "colorscale": [
             [
              0,
              "#0d0887"
             ],
             [
              0.1111111111111111,
              "#46039f"
             ],
             [
              0.2222222222222222,
              "#7201a8"
             ],
             [
              0.3333333333333333,
              "#9c179e"
             ],
             [
              0.4444444444444444,
              "#bd3786"
             ],
             [
              0.5555555555555556,
              "#d8576b"
             ],
             [
              0.6666666666666666,
              "#ed7953"
             ],
             [
              0.7777777777777778,
              "#fb9f3a"
             ],
             [
              0.8888888888888888,
              "#fdca26"
             ],
             [
              1,
              "#f0f921"
             ]
            ],
            "type": "heatmap"
           }
          ],
          "heatmapgl": [
           {
            "colorbar": {
             "outlinewidth": 0,
             "ticks": ""
            },
            "colorscale": [
             [
              0,
              "#0d0887"
             ],
             [
              0.1111111111111111,
              "#46039f"
             ],
             [
              0.2222222222222222,
              "#7201a8"
             ],
             [
              0.3333333333333333,
              "#9c179e"
             ],
             [
              0.4444444444444444,
              "#bd3786"
             ],
             [
              0.5555555555555556,
              "#d8576b"
             ],
             [
              0.6666666666666666,
              "#ed7953"
             ],
             [
              0.7777777777777778,
              "#fb9f3a"
             ],
             [
              0.8888888888888888,
              "#fdca26"
             ],
             [
              1,
              "#f0f921"
             ]
            ],
            "type": "heatmapgl"
           }
          ],
          "histogram": [
           {
            "marker": {
             "colorbar": {
              "outlinewidth": 0,
              "ticks": ""
             }
            },
            "type": "histogram"
           }
          ],
          "histogram2d": [
           {
            "colorbar": {
             "outlinewidth": 0,
             "ticks": ""
            },
            "colorscale": [
             [
              0,
              "#0d0887"
             ],
             [
              0.1111111111111111,
              "#46039f"
             ],
             [
              0.2222222222222222,
              "#7201a8"
             ],
             [
              0.3333333333333333,
              "#9c179e"
             ],
             [
              0.4444444444444444,
              "#bd3786"
             ],
             [
              0.5555555555555556,
              "#d8576b"
             ],
             [
              0.6666666666666666,
              "#ed7953"
             ],
             [
              0.7777777777777778,
              "#fb9f3a"
             ],
             [
              0.8888888888888888,
              "#fdca26"
             ],
             [
              1,
              "#f0f921"
             ]
            ],
            "type": "histogram2d"
           }
          ],
          "histogram2dcontour": [
           {
            "colorbar": {
             "outlinewidth": 0,
             "ticks": ""
            },
            "colorscale": [
             [
              0,
              "#0d0887"
             ],
             [
              0.1111111111111111,
              "#46039f"
             ],
             [
              0.2222222222222222,
              "#7201a8"
             ],
             [
              0.3333333333333333,
              "#9c179e"
             ],
             [
              0.4444444444444444,
              "#bd3786"
             ],
             [
              0.5555555555555556,
              "#d8576b"
             ],
             [
              0.6666666666666666,
              "#ed7953"
             ],
             [
              0.7777777777777778,
              "#fb9f3a"
             ],
             [
              0.8888888888888888,
              "#fdca26"
             ],
             [
              1,
              "#f0f921"
             ]
            ],
            "type": "histogram2dcontour"
           }
          ],
          "mesh3d": [
           {
            "colorbar": {
             "outlinewidth": 0,
             "ticks": ""
            },
            "type": "mesh3d"
           }
          ],
          "parcoords": [
           {
            "line": {
             "colorbar": {
              "outlinewidth": 0,
              "ticks": ""
             }
            },
            "type": "parcoords"
           }
          ],
          "pie": [
           {
            "automargin": true,
            "type": "pie"
           }
          ],
          "scatter": [
           {
            "marker": {
             "colorbar": {
              "outlinewidth": 0,
              "ticks": ""
             }
            },
            "type": "scatter"
           }
          ],
          "scatter3d": [
           {
            "line": {
             "colorbar": {
              "outlinewidth": 0,
              "ticks": ""
             }
            },
            "marker": {
             "colorbar": {
              "outlinewidth": 0,
              "ticks": ""
             }
            },
            "type": "scatter3d"
           }
          ],
          "scattercarpet": [
           {
            "marker": {
             "colorbar": {
              "outlinewidth": 0,
              "ticks": ""
             }
            },
            "type": "scattercarpet"
           }
          ],
          "scattergeo": [
           {
            "marker": {
             "colorbar": {
              "outlinewidth": 0,
              "ticks": ""
             }
            },
            "type": "scattergeo"
           }
          ],
          "scattergl": [
           {
            "marker": {
             "colorbar": {
              "outlinewidth": 0,
              "ticks": ""
             }
            },
            "type": "scattergl"
           }
          ],
          "scattermapbox": [
           {
            "marker": {
             "colorbar": {
              "outlinewidth": 0,
              "ticks": ""
             }
            },
            "type": "scattermapbox"
           }
          ],
          "scatterpolar": [
           {
            "marker": {
             "colorbar": {
              "outlinewidth": 0,
              "ticks": ""
             }
            },
            "type": "scatterpolar"
           }
          ],
          "scatterpolargl": [
           {
            "marker": {
             "colorbar": {
              "outlinewidth": 0,
              "ticks": ""
             }
            },
            "type": "scatterpolargl"
           }
          ],
          "scatterternary": [
           {
            "marker": {
             "colorbar": {
              "outlinewidth": 0,
              "ticks": ""
             }
            },
            "type": "scatterternary"
           }
          ],
          "surface": [
           {
            "colorbar": {
             "outlinewidth": 0,
             "ticks": ""
            },
            "colorscale": [
             [
              0,
              "#0d0887"
             ],
             [
              0.1111111111111111,
              "#46039f"
             ],
             [
              0.2222222222222222,
              "#7201a8"
             ],
             [
              0.3333333333333333,
              "#9c179e"
             ],
             [
              0.4444444444444444,
              "#bd3786"
             ],
             [
              0.5555555555555556,
              "#d8576b"
             ],
             [
              0.6666666666666666,
              "#ed7953"
             ],
             [
              0.7777777777777778,
              "#fb9f3a"
             ],
             [
              0.8888888888888888,
              "#fdca26"
             ],
             [
              1,
              "#f0f921"
             ]
            ],
            "type": "surface"
           }
          ],
          "table": [
           {
            "cells": {
             "fill": {
              "color": "#EBF0F8"
             },
             "line": {
              "color": "white"
             }
            },
            "header": {
             "fill": {
              "color": "#C8D4E3"
             },
             "line": {
              "color": "white"
             }
            },
            "type": "table"
           }
          ]
         },
         "layout": {
          "annotationdefaults": {
           "arrowcolor": "#2a3f5f",
           "arrowhead": 0,
           "arrowwidth": 1
          },
          "coloraxis": {
           "colorbar": {
            "outlinewidth": 0,
            "ticks": ""
           }
          },
          "colorscale": {
           "diverging": [
            [
             0,
             "#8e0152"
            ],
            [
             0.1,
             "#c51b7d"
            ],
            [
             0.2,
             "#de77ae"
            ],
            [
             0.3,
             "#f1b6da"
            ],
            [
             0.4,
             "#fde0ef"
            ],
            [
             0.5,
             "#f7f7f7"
            ],
            [
             0.6,
             "#e6f5d0"
            ],
            [
             0.7,
             "#b8e186"
            ],
            [
             0.8,
             "#7fbc41"
            ],
            [
             0.9,
             "#4d9221"
            ],
            [
             1,
             "#276419"
            ]
           ],
           "sequential": [
            [
             0,
             "#0d0887"
            ],
            [
             0.1111111111111111,
             "#46039f"
            ],
            [
             0.2222222222222222,
             "#7201a8"
            ],
            [
             0.3333333333333333,
             "#9c179e"
            ],
            [
             0.4444444444444444,
             "#bd3786"
            ],
            [
             0.5555555555555556,
             "#d8576b"
            ],
            [
             0.6666666666666666,
             "#ed7953"
            ],
            [
             0.7777777777777778,
             "#fb9f3a"
            ],
            [
             0.8888888888888888,
             "#fdca26"
            ],
            [
             1,
             "#f0f921"
            ]
           ],
           "sequentialminus": [
            [
             0,
             "#0d0887"
            ],
            [
             0.1111111111111111,
             "#46039f"
            ],
            [
             0.2222222222222222,
             "#7201a8"
            ],
            [
             0.3333333333333333,
             "#9c179e"
            ],
            [
             0.4444444444444444,
             "#bd3786"
            ],
            [
             0.5555555555555556,
             "#d8576b"
            ],
            [
             0.6666666666666666,
             "#ed7953"
            ],
            [
             0.7777777777777778,
             "#fb9f3a"
            ],
            [
             0.8888888888888888,
             "#fdca26"
            ],
            [
             1,
             "#f0f921"
            ]
           ]
          },
          "colorway": [
           "#636efa",
           "#EF553B",
           "#00cc96",
           "#ab63fa",
           "#FFA15A",
           "#19d3f3",
           "#FF6692",
           "#B6E880",
           "#FF97FF",
           "#FECB52"
          ],
          "font": {
           "color": "#2a3f5f"
          },
          "geo": {
           "bgcolor": "white",
           "lakecolor": "white",
           "landcolor": "#E5ECF6",
           "showlakes": true,
           "showland": true,
           "subunitcolor": "white"
          },
          "hoverlabel": {
           "align": "left"
          },
          "hovermode": "closest",
          "mapbox": {
           "style": "light"
          },
          "paper_bgcolor": "white",
          "plot_bgcolor": "#E5ECF6",
          "polar": {
           "angularaxis": {
            "gridcolor": "white",
            "linecolor": "white",
            "ticks": ""
           },
           "bgcolor": "#E5ECF6",
           "radialaxis": {
            "gridcolor": "white",
            "linecolor": "white",
            "ticks": ""
           }
          },
          "scene": {
           "xaxis": {
            "backgroundcolor": "#E5ECF6",
            "gridcolor": "white",
            "gridwidth": 2,
            "linecolor": "white",
            "showbackground": true,
            "ticks": "",
            "zerolinecolor": "white"
           },
           "yaxis": {
            "backgroundcolor": "#E5ECF6",
            "gridcolor": "white",
            "gridwidth": 2,
            "linecolor": "white",
            "showbackground": true,
            "ticks": "",
            "zerolinecolor": "white"
           },
           "zaxis": {
            "backgroundcolor": "#E5ECF6",
            "gridcolor": "white",
            "gridwidth": 2,
            "linecolor": "white",
            "showbackground": true,
            "ticks": "",
            "zerolinecolor": "white"
           }
          },
          "shapedefaults": {
           "line": {
            "color": "#2a3f5f"
           }
          },
          "ternary": {
           "aaxis": {
            "gridcolor": "white",
            "linecolor": "white",
            "ticks": ""
           },
           "baxis": {
            "gridcolor": "white",
            "linecolor": "white",
            "ticks": ""
           },
           "bgcolor": "#E5ECF6",
           "caxis": {
            "gridcolor": "white",
            "linecolor": "white",
            "ticks": ""
           }
          },
          "title": {
           "x": 0.05
          },
          "xaxis": {
           "automargin": true,
           "gridcolor": "white",
           "linecolor": "white",
           "ticks": "",
           "title": {
            "standoff": 15
           },
           "zerolinecolor": "white",
           "zerolinewidth": 2
          },
          "yaxis": {
           "automargin": true,
           "gridcolor": "white",
           "linecolor": "white",
           "ticks": "",
           "title": {
            "standoff": 15
           },
           "zerolinecolor": "white",
           "zerolinewidth": 2
          }
         }
        },
        "title": {
         "text": "Average Run Time"
        },
        "xaxis": {
         "gridcolor": "#DCDCDC"
        },
        "yaxis": {
         "title": {
          "text": "Hours"
         }
        }
       }
      },
      "text/html": [
       "<div>\n",
       "        \n",
       "        \n",
       "            <div id=\"a2c50acc-354e-49e5-b2d7-04a6655eba8c\" class=\"plotly-graph-div\" style=\"height:525px; width:100%;\"></div>\n",
       "            <script type=\"text/javascript\">\n",
       "                require([\"plotly\"], function(Plotly) {\n",
       "                    window.PLOTLYENV=window.PLOTLYENV || {};\n",
       "                    \n",
       "                if (document.getElementById(\"a2c50acc-354e-49e5-b2d7-04a6655eba8c\")) {\n",
       "                    Plotly.newPlot(\n",
       "                        'a2c50acc-354e-49e5-b2d7-04a6655eba8c',\n",
       "                        [{\"marker\": {\"color\": \"darkgray\"}, \"showlegend\": false, \"text\": [2.46, 0.94, 0.2, 1.25, 1.12, 0.16, 2.2, 5.09, 3.64, 1.99], \"textposition\": \"outside\", \"type\": \"bar\", \"x\": [\"GATBMiniaPipeline\", \"MEGAHIT\", \"MINIA\", \"VelvetOptimizer\", \"SKESA\", \"BCALM2\", \"SPAdes\", \"Unicycler\", \"metaSPAdes\", \"IDBA-UD\"], \"y\": [2.46, 0.94, 0.2, 1.25, 1.12, 0.16, 2.2, 5.09, 3.64, 1.99]}, {\"line\": {\"color\": \"crimson\"}, \"mode\": \"lines\", \"name\": \"Mean\", \"opacity\": 0.6, \"type\": \"scatter\", \"x\": [\"GATBMiniaPipeline\", \"MEGAHIT\", \"MINIA\", \"VelvetOptimizer\", \"SKESA\", \"BCALM2\", \"SPAdes\", \"Unicycler\", \"metaSPAdes\", \"IDBA-UD\"], \"y\": [1.9049999999999998, 1.9049999999999998, 1.9049999999999998, 1.9049999999999998, 1.9049999999999998, 1.9049999999999998, 1.9049999999999998, 1.9049999999999998, 1.9049999999999998, 1.9049999999999998]}],\n",
       "                        {\"plot_bgcolor\": \"rgb(255,255,255)\", \"showlegend\": true, \"template\": {\"data\": {\"bar\": [{\"error_x\": {\"color\": \"#2a3f5f\"}, \"error_y\": {\"color\": \"#2a3f5f\"}, \"marker\": {\"line\": {\"color\": \"#E5ECF6\", \"width\": 0.5}}, \"type\": \"bar\"}], \"barpolar\": [{\"marker\": {\"line\": {\"color\": \"#E5ECF6\", \"width\": 0.5}}, \"type\": \"barpolar\"}], \"carpet\": [{\"aaxis\": {\"endlinecolor\": \"#2a3f5f\", \"gridcolor\": \"white\", \"linecolor\": \"white\", \"minorgridcolor\": \"white\", \"startlinecolor\": \"#2a3f5f\"}, \"baxis\": {\"endlinecolor\": \"#2a3f5f\", \"gridcolor\": \"white\", \"linecolor\": \"white\", \"minorgridcolor\": \"white\", \"startlinecolor\": \"#2a3f5f\"}, \"type\": \"carpet\"}], \"choropleth\": [{\"colorbar\": {\"outlinewidth\": 0, \"ticks\": \"\"}, \"type\": \"choropleth\"}], \"contour\": [{\"colorbar\": {\"outlinewidth\": 0, \"ticks\": \"\"}, \"colorscale\": [[0.0, \"#0d0887\"], [0.1111111111111111, \"#46039f\"], [0.2222222222222222, \"#7201a8\"], [0.3333333333333333, \"#9c179e\"], [0.4444444444444444, \"#bd3786\"], [0.5555555555555556, \"#d8576b\"], [0.6666666666666666, \"#ed7953\"], [0.7777777777777778, \"#fb9f3a\"], [0.8888888888888888, \"#fdca26\"], [1.0, \"#f0f921\"]], \"type\": \"contour\"}], \"contourcarpet\": [{\"colorbar\": {\"outlinewidth\": 0, \"ticks\": \"\"}, \"type\": \"contourcarpet\"}], \"heatmap\": [{\"colorbar\": {\"outlinewidth\": 0, \"ticks\": \"\"}, \"colorscale\": [[0.0, \"#0d0887\"], [0.1111111111111111, \"#46039f\"], [0.2222222222222222, \"#7201a8\"], [0.3333333333333333, \"#9c179e\"], [0.4444444444444444, \"#bd3786\"], [0.5555555555555556, \"#d8576b\"], [0.6666666666666666, \"#ed7953\"], [0.7777777777777778, \"#fb9f3a\"], [0.8888888888888888, \"#fdca26\"], [1.0, \"#f0f921\"]], \"type\": \"heatmap\"}], \"heatmapgl\": [{\"colorbar\": {\"outlinewidth\": 0, \"ticks\": \"\"}, \"colorscale\": [[0.0, \"#0d0887\"], [0.1111111111111111, \"#46039f\"], [0.2222222222222222, \"#7201a8\"], [0.3333333333333333, \"#9c179e\"], [0.4444444444444444, \"#bd3786\"], [0.5555555555555556, \"#d8576b\"], [0.6666666666666666, \"#ed7953\"], [0.7777777777777778, \"#fb9f3a\"], [0.8888888888888888, \"#fdca26\"], [1.0, \"#f0f921\"]], \"type\": \"heatmapgl\"}], \"histogram\": [{\"marker\": {\"colorbar\": {\"outlinewidth\": 0, \"ticks\": \"\"}}, \"type\": \"histogram\"}], \"histogram2d\": [{\"colorbar\": {\"outlinewidth\": 0, \"ticks\": \"\"}, \"colorscale\": [[0.0, \"#0d0887\"], [0.1111111111111111, \"#46039f\"], [0.2222222222222222, \"#7201a8\"], [0.3333333333333333, \"#9c179e\"], [0.4444444444444444, \"#bd3786\"], [0.5555555555555556, \"#d8576b\"], [0.6666666666666666, \"#ed7953\"], [0.7777777777777778, \"#fb9f3a\"], [0.8888888888888888, \"#fdca26\"], [1.0, \"#f0f921\"]], \"type\": \"histogram2d\"}], \"histogram2dcontour\": [{\"colorbar\": {\"outlinewidth\": 0, \"ticks\": \"\"}, \"colorscale\": [[0.0, \"#0d0887\"], [0.1111111111111111, \"#46039f\"], [0.2222222222222222, \"#7201a8\"], [0.3333333333333333, \"#9c179e\"], [0.4444444444444444, \"#bd3786\"], [0.5555555555555556, \"#d8576b\"], [0.6666666666666666, \"#ed7953\"], [0.7777777777777778, \"#fb9f3a\"], [0.8888888888888888, \"#fdca26\"], [1.0, \"#f0f921\"]], \"type\": \"histogram2dcontour\"}], \"mesh3d\": [{\"colorbar\": {\"outlinewidth\": 0, \"ticks\": \"\"}, \"type\": \"mesh3d\"}], \"parcoords\": [{\"line\": {\"colorbar\": {\"outlinewidth\": 0, \"ticks\": \"\"}}, \"type\": \"parcoords\"}], \"pie\": [{\"automargin\": true, \"type\": \"pie\"}], \"scatter\": [{\"marker\": {\"colorbar\": {\"outlinewidth\": 0, \"ticks\": \"\"}}, \"type\": \"scatter\"}], \"scatter3d\": [{\"line\": {\"colorbar\": {\"outlinewidth\": 0, \"ticks\": \"\"}}, \"marker\": {\"colorbar\": {\"outlinewidth\": 0, \"ticks\": \"\"}}, \"type\": \"scatter3d\"}], \"scattercarpet\": [{\"marker\": {\"colorbar\": {\"outlinewidth\": 0, \"ticks\": \"\"}}, \"type\": \"scattercarpet\"}], \"scattergeo\": [{\"marker\": {\"colorbar\": {\"outlinewidth\": 0, \"ticks\": \"\"}}, \"type\": \"scattergeo\"}], \"scattergl\": [{\"marker\": {\"colorbar\": {\"outlinewidth\": 0, \"ticks\": \"\"}}, \"type\": \"scattergl\"}], \"scattermapbox\": [{\"marker\": {\"colorbar\": {\"outlinewidth\": 0, \"ticks\": \"\"}}, \"type\": \"scattermapbox\"}], \"scatterpolar\": [{\"marker\": {\"colorbar\": {\"outlinewidth\": 0, \"ticks\": \"\"}}, \"type\": \"scatterpolar\"}], \"scatterpolargl\": [{\"marker\": {\"colorbar\": {\"outlinewidth\": 0, \"ticks\": \"\"}}, \"type\": \"scatterpolargl\"}], \"scatterternary\": [{\"marker\": {\"colorbar\": {\"outlinewidth\": 0, \"ticks\": \"\"}}, \"type\": \"scatterternary\"}], \"surface\": [{\"colorbar\": {\"outlinewidth\": 0, \"ticks\": \"\"}, \"colorscale\": [[0.0, \"#0d0887\"], [0.1111111111111111, \"#46039f\"], [0.2222222222222222, \"#7201a8\"], [0.3333333333333333, \"#9c179e\"], [0.4444444444444444, \"#bd3786\"], [0.5555555555555556, \"#d8576b\"], [0.6666666666666666, \"#ed7953\"], [0.7777777777777778, \"#fb9f3a\"], [0.8888888888888888, \"#fdca26\"], [1.0, \"#f0f921\"]], \"type\": \"surface\"}], \"table\": [{\"cells\": {\"fill\": {\"color\": \"#EBF0F8\"}, \"line\": {\"color\": \"white\"}}, \"header\": {\"fill\": {\"color\": \"#C8D4E3\"}, \"line\": {\"color\": \"white\"}}, \"type\": \"table\"}]}, \"layout\": {\"annotationdefaults\": {\"arrowcolor\": \"#2a3f5f\", \"arrowhead\": 0, \"arrowwidth\": 1}, \"coloraxis\": {\"colorbar\": {\"outlinewidth\": 0, \"ticks\": \"\"}}, \"colorscale\": {\"diverging\": [[0, \"#8e0152\"], [0.1, \"#c51b7d\"], [0.2, \"#de77ae\"], [0.3, \"#f1b6da\"], [0.4, \"#fde0ef\"], [0.5, \"#f7f7f7\"], [0.6, \"#e6f5d0\"], [0.7, \"#b8e186\"], [0.8, \"#7fbc41\"], [0.9, \"#4d9221\"], [1, \"#276419\"]], \"sequential\": [[0.0, \"#0d0887\"], [0.1111111111111111, \"#46039f\"], [0.2222222222222222, \"#7201a8\"], [0.3333333333333333, \"#9c179e\"], [0.4444444444444444, \"#bd3786\"], [0.5555555555555556, \"#d8576b\"], [0.6666666666666666, \"#ed7953\"], [0.7777777777777778, \"#fb9f3a\"], [0.8888888888888888, \"#fdca26\"], [1.0, \"#f0f921\"]], \"sequentialminus\": [[0.0, \"#0d0887\"], [0.1111111111111111, \"#46039f\"], [0.2222222222222222, \"#7201a8\"], [0.3333333333333333, \"#9c179e\"], [0.4444444444444444, \"#bd3786\"], [0.5555555555555556, \"#d8576b\"], [0.6666666666666666, \"#ed7953\"], [0.7777777777777778, \"#fb9f3a\"], [0.8888888888888888, \"#fdca26\"], [1.0, \"#f0f921\"]]}, \"colorway\": [\"#636efa\", \"#EF553B\", \"#00cc96\", \"#ab63fa\", \"#FFA15A\", \"#19d3f3\", \"#FF6692\", \"#B6E880\", \"#FF97FF\", \"#FECB52\"], \"font\": {\"color\": \"#2a3f5f\"}, \"geo\": {\"bgcolor\": \"white\", \"lakecolor\": \"white\", \"landcolor\": \"#E5ECF6\", \"showlakes\": true, \"showland\": true, \"subunitcolor\": \"white\"}, \"hoverlabel\": {\"align\": \"left\"}, \"hovermode\": \"closest\", \"mapbox\": {\"style\": \"light\"}, \"paper_bgcolor\": \"white\", \"plot_bgcolor\": \"#E5ECF6\", \"polar\": {\"angularaxis\": {\"gridcolor\": \"white\", \"linecolor\": \"white\", \"ticks\": \"\"}, \"bgcolor\": \"#E5ECF6\", \"radialaxis\": {\"gridcolor\": \"white\", \"linecolor\": \"white\", \"ticks\": \"\"}}, \"scene\": {\"xaxis\": {\"backgroundcolor\": \"#E5ECF6\", \"gridcolor\": \"white\", \"gridwidth\": 2, \"linecolor\": \"white\", \"showbackground\": true, \"ticks\": \"\", \"zerolinecolor\": \"white\"}, \"yaxis\": {\"backgroundcolor\": \"#E5ECF6\", \"gridcolor\": \"white\", \"gridwidth\": 2, \"linecolor\": \"white\", \"showbackground\": true, \"ticks\": \"\", \"zerolinecolor\": \"white\"}, \"zaxis\": {\"backgroundcolor\": \"#E5ECF6\", \"gridcolor\": \"white\", \"gridwidth\": 2, \"linecolor\": \"white\", \"showbackground\": true, \"ticks\": \"\", \"zerolinecolor\": \"white\"}}, \"shapedefaults\": {\"line\": {\"color\": \"#2a3f5f\"}}, \"ternary\": {\"aaxis\": {\"gridcolor\": \"white\", \"linecolor\": \"white\", \"ticks\": \"\"}, \"baxis\": {\"gridcolor\": \"white\", \"linecolor\": \"white\", \"ticks\": \"\"}, \"bgcolor\": \"#E5ECF6\", \"caxis\": {\"gridcolor\": \"white\", \"linecolor\": \"white\", \"ticks\": \"\"}}, \"title\": {\"x\": 0.05}, \"xaxis\": {\"automargin\": true, \"gridcolor\": \"white\", \"linecolor\": \"white\", \"ticks\": \"\", \"title\": {\"standoff\": 15}, \"zerolinecolor\": \"white\", \"zerolinewidth\": 2}, \"yaxis\": {\"automargin\": true, \"gridcolor\": \"white\", \"linecolor\": \"white\", \"ticks\": \"\", \"title\": {\"standoff\": 15}, \"zerolinecolor\": \"white\", \"zerolinewidth\": 2}}}, \"title\": {\"text\": \"Average Run Time\"}, \"xaxis\": {\"gridcolor\": \"#DCDCDC\"}, \"yaxis\": {\"title\": {\"text\": \"Hours\"}}},\n",
       "                        {\"responsive\": true}\n",
       "                    ).then(function(){\n",
       "                            \n",
       "var gd = document.getElementById('a2c50acc-354e-49e5-b2d7-04a6655eba8c');\n",
       "var x = new MutationObserver(function (mutations, observer) {{\n",
       "        var display = window.getComputedStyle(gd).display;\n",
       "        if (!display || display === 'none') {{\n",
       "            console.log([gd, 'removed!']);\n",
       "            Plotly.purge(gd);\n",
       "            observer.disconnect();\n",
       "        }}\n",
       "}});\n",
       "\n",
       "// Listen for the removal of the full notebook cells\n",
       "var notebookContainer = gd.closest('#notebook-container');\n",
       "if (notebookContainer) {{\n",
       "    x.observe(notebookContainer, {childList: true});\n",
       "}}\n",
       "\n",
       "// Listen for the clearing of the current output cell\n",
       "var outputEl = gd.closest('.output');\n",
       "if (outputEl) {{\n",
       "    x.observe(outputEl, {childList: true});\n",
       "}}\n",
       "\n",
       "                        })\n",
       "                };\n",
       "                });\n",
       "            </script>\n",
       "        </div>"
      ]
     },
     "metadata": {},
     "output_type": "display_data"
    }
   ],
   "source": [
    "timeDF=round(pd.to_timedelta(global_pipeline_stats_df['avgTime'].str.strip())/ np.timedelta64(1, 'h'), 2)\n",
    "\n",
    "fig_time = go.Figure()\n",
    "fig_time.add_trace(go.Bar(y=timeDF, x=global_pipeline_stats_df['assembler'], text=timeDF,textposition='outside', \n",
    "                          showlegend=False, marker_color='darkgray'))\n",
    "fig_time.add_trace(go.Scatter(y=[timeDF.mean()]*len(global_pipeline_stats_df['assembler']), \n",
    "                              x=global_pipeline_stats_df['assembler'], mode='lines',\n",
    "                              line=dict(color=\"crimson\"), opacity=0.6, name='Mean'))\n",
    "\n",
    "fig_time.update_layout(showlegend=True, plot_bgcolor='rgb(255,255,255)', title_text=\"Average Run Time\")\n",
    "fig_time['layout']['xaxis']['gridcolor']='#DCDCDC'\n",
    "fig_time['layout']['yaxis']['title']='Hours'\n",
    "\n",
    "fig_time.show()"
   ]
  },
  {
   "cell_type": "code",
   "execution_count": 83,
   "metadata": {},
   "outputs": [
    {
     "name": "stdout",
     "output_type": "stream",
     "text": [
      "../Results/run1/pipeline_stats.txt\n",
      "Processing pipeline_stats.txt data from run1...\n"
     ]
    },
    {
     "data": {
      "text/html": [
       "<div>\n",
       "<style scoped>\n",
       "    .dataframe tbody tr th:only-of-type {\n",
       "        vertical-align: middle;\n",
       "    }\n",
       "\n",
       "    .dataframe tbody tr th {\n",
       "        vertical-align: top;\n",
       "    }\n",
       "\n",
       "    .dataframe thead th {\n",
       "        text-align: right;\n",
       "    }\n",
       "</style>\n",
       "<table border=\"1\" class=\"dataframe\">\n",
       "  <thead>\n",
       "    <tr style=\"text-align: right;\">\n",
       "      <th></th>\n",
       "      <th>sample</th>\n",
       "      <th>assembler</th>\n",
       "      <th>run</th>\n",
       "      <th>cpus</th>\n",
       "      <th>realtime</th>\n",
       "      <th>rss</th>\n",
       "      <th>rchar</th>\n",
       "      <th>wchar</th>\n",
       "      <th>distribution</th>\n",
       "    </tr>\n",
       "  </thead>\n",
       "  <tbody>\n",
       "    <tr>\n",
       "      <th>0</th>\n",
       "      <td>LHS</td>\n",
       "      <td>GATBMiniaPipeline</td>\n",
       "      <td>run1</td>\n",
       "      <td>53.933894</td>\n",
       "      <td>16083.0</td>\n",
       "      <td>7.8</td>\n",
       "      <td>207.6</td>\n",
       "      <td>98.7</td>\n",
       "      <td>Log</td>\n",
       "    </tr>\n",
       "    <tr>\n",
       "      <th>1</th>\n",
       "      <td>ENN</td>\n",
       "      <td>MEGAHIT</td>\n",
       "      <td>run1</td>\n",
       "      <td>3.291422</td>\n",
       "      <td>1438.0</td>\n",
       "      <td>1.7</td>\n",
       "      <td>16.5</td>\n",
       "      <td>7.0</td>\n",
       "      <td>Even</td>\n",
       "    </tr>\n",
       "    <tr>\n",
       "      <th>2</th>\n",
       "      <td>EHS</td>\n",
       "      <td>MINIA</td>\n",
       "      <td>run1</td>\n",
       "      <td>0.749972</td>\n",
       "      <td>245.0</td>\n",
       "      <td>5.0</td>\n",
       "      <td>7.7</td>\n",
       "      <td>3.8</td>\n",
       "      <td>Even</td>\n",
       "    </tr>\n",
       "    <tr>\n",
       "      <th>3</th>\n",
       "      <td>EHS</td>\n",
       "      <td>VelvetOptimizer</td>\n",
       "      <td>run1</td>\n",
       "      <td>13.090128</td>\n",
       "      <td>9032.0</td>\n",
       "      <td>16.0</td>\n",
       "      <td>304.5</td>\n",
       "      <td>39.9</td>\n",
       "      <td>Even</td>\n",
       "    </tr>\n",
       "    <tr>\n",
       "      <th>4</th>\n",
       "      <td>EHS</td>\n",
       "      <td>GATBMiniaPipeline</td>\n",
       "      <td>run1</td>\n",
       "      <td>23.609687</td>\n",
       "      <td>6450.0</td>\n",
       "      <td>6.9</td>\n",
       "      <td>65.6</td>\n",
       "      <td>26.5</td>\n",
       "      <td>Even</td>\n",
       "    </tr>\n",
       "    <tr>\n",
       "      <th>...</th>\n",
       "      <td>...</td>\n",
       "      <td>...</td>\n",
       "      <td>...</td>\n",
       "      <td>...</td>\n",
       "      <td>...</td>\n",
       "      <td>...</td>\n",
       "      <td>...</td>\n",
       "      <td>...</td>\n",
       "      <td>...</td>\n",
       "    </tr>\n",
       "    <tr>\n",
       "      <th>65</th>\n",
       "      <td>LNN</td>\n",
       "      <td>GATBMiniaPipeline</td>\n",
       "      <td>run1</td>\n",
       "      <td>33.229962</td>\n",
       "      <td>9211.0</td>\n",
       "      <td>7.6</td>\n",
       "      <td>137.5</td>\n",
       "      <td>81.8</td>\n",
       "      <td>Log</td>\n",
       "    </tr>\n",
       "    <tr>\n",
       "      <th>66</th>\n",
       "      <td>ERR2935805</td>\n",
       "      <td>VelvetOptimizer</td>\n",
       "      <td>run1</td>\n",
       "      <td>6.025556</td>\n",
       "      <td>2992.0</td>\n",
       "      <td>48.0</td>\n",
       "      <td>156.3</td>\n",
       "      <td>65.3</td>\n",
       "      <td>Log</td>\n",
       "    </tr>\n",
       "    <tr>\n",
       "      <th>67</th>\n",
       "      <td>ENN</td>\n",
       "      <td>GATBMiniaPipeline</td>\n",
       "      <td>run1</td>\n",
       "      <td>19.923322</td>\n",
       "      <td>4466.0</td>\n",
       "      <td>6.9</td>\n",
       "      <td>53.0</td>\n",
       "      <td>23.7</td>\n",
       "      <td>Even</td>\n",
       "    </tr>\n",
       "    <tr>\n",
       "      <th>68</th>\n",
       "      <td>LNN</td>\n",
       "      <td>GATBMiniaPipeline</td>\n",
       "      <td>run1</td>\n",
       "      <td>33.476038</td>\n",
       "      <td>9189.0</td>\n",
       "      <td>7.6</td>\n",
       "      <td>139.8</td>\n",
       "      <td>81.7</td>\n",
       "      <td>Log</td>\n",
       "    </tr>\n",
       "    <tr>\n",
       "      <th>69</th>\n",
       "      <td>LNN</td>\n",
       "      <td>GATBMiniaPipeline</td>\n",
       "      <td>run1</td>\n",
       "      <td>31.323304</td>\n",
       "      <td>8711.0</td>\n",
       "      <td>7.7</td>\n",
       "      <td>139.4</td>\n",
       "      <td>81.7</td>\n",
       "      <td>Log</td>\n",
       "    </tr>\n",
       "  </tbody>\n",
       "</table>\n",
       "<p>70 rows × 9 columns</p>\n",
       "</div>"
      ],
      "text/plain": [
       "        sample          assembler   run       cpus  realtime   rss  rchar  \\\n",
       "0          LHS  GATBMiniaPipeline  run1  53.933894   16083.0   7.8  207.6   \n",
       "1          ENN            MEGAHIT  run1   3.291422    1438.0   1.7   16.5   \n",
       "2          EHS              MINIA  run1   0.749972     245.0   5.0    7.7   \n",
       "3          EHS    VelvetOptimizer  run1  13.090128    9032.0  16.0  304.5   \n",
       "4          EHS  GATBMiniaPipeline  run1  23.609687    6450.0   6.9   65.6   \n",
       "..         ...                ...   ...        ...       ...   ...    ...   \n",
       "65         LNN  GATBMiniaPipeline  run1  33.229962    9211.0   7.6  137.5   \n",
       "66  ERR2935805    VelvetOptimizer  run1   6.025556    2992.0  48.0  156.3   \n",
       "67         ENN  GATBMiniaPipeline  run1  19.923322    4466.0   6.9   53.0   \n",
       "68         LNN  GATBMiniaPipeline  run1  33.476038    9189.0   7.6  139.8   \n",
       "69         LNN  GATBMiniaPipeline  run1  31.323304    8711.0   7.7  139.4   \n",
       "\n",
       "    wchar distribution  \n",
       "0    98.7          Log  \n",
       "1     7.0         Even  \n",
       "2     3.8         Even  \n",
       "3    39.9         Even  \n",
       "4    26.5         Even  \n",
       "..    ...          ...  \n",
       "65   81.8          Log  \n",
       "66   65.3          Log  \n",
       "67   23.7         Even  \n",
       "68   81.7          Log  \n",
       "69   81.7          Log  \n",
       "\n",
       "[70 rows x 9 columns]"
      ]
     },
     "metadata": {},
     "output_type": "display_data"
    }
   ],
   "source": [
    "pipeline_stats_glob = glob.glob('../Results/*/pipeline_stats.txt')\n",
    "pipeline_stats_df = pd.DataFrame(columns=METRICS_COLUMNS_PER_SAMPLE)\n",
    "METRICS_COLUMNS_PER_SAMPLE = ['sample', 'assembler', 'run', 'cpus', 'realtime', 'rss', 'rchar', 'wchar']\n",
    "\n",
    "\n",
    "for statsfile in pipeline_stats_glob:\n",
    "    print(statsfile)\n",
    "    stats_file_name = statsfile.split('/')[-1]\n",
    "    stats_run = statsfile.split('/')[-2]\n",
    "    print('Processing {0} data from {1}...'.format(stats_file_name, stats_run))\n",
    "    with open(statsfile) as tsvfile:\n",
    "        tsvreader = csv.reader(tsvfile, delimiter=\"\\t\")\n",
    "        for row in tsvreader:\n",
    "            if row[2] in ASSEMBLER_PROCESS_LIST:\n",
    "                pipeline_stats_df = pipeline_stats_df.append({'sample': row[3],\n",
    "                                                              'assembler': PROCESS_TO_NAME[row[2]],\n",
    "                                                              'run': stats_run,\n",
    "                                                              \"cpus\": _cpu_load_parser(row[8], row[15], row[13]),\n",
    "                                                              \"realtime\": _hms(row[13]),\n",
    "                                                              \"rss\": convert_resource_to_gb(_size_compress(_size_coverter(row[17]))),\n",
    "                                                              \"rchar\": convert_resource_to_gb(_size_compress(_size_coverter(row[19]))),\n",
    "                                                              \"wchar\": convert_resource_to_gb(_size_compress(_size_coverter(row[20])))},\n",
    "                                                             ignore_index=True)\n",
    "\n",
    "log_distributed = ['LHS', 'LNN', 'ERR2935805']\n",
    "even_distribution = ['EHS', 'LNN', 'ERR2984773']\n",
    "pipeline_stats_df['distribution'] = np.where(pipeline_stats_df['sample'].isin(log_distributed), 'Log', 'Even')\n",
    "display(pipeline_stats_df)               \n"
   ]
  },
  {
   "cell_type": "code",
   "execution_count": 90,
   "metadata": {},
   "outputs": [
    {
     "data": {
      "application/vnd.plotly.v1+json": {
       "config": {
        "plotlyServerURL": "https://plot.ly"
       },
       "data": [
        {
         "box": {
          "visible": true
         },
         "fillcolor": "lightseagreen",
         "legendgroup": "Log",
         "line": {
          "color": "black"
         },
         "meanline": {
          "visible": true
         },
         "name": "Log",
         "opacity": 0.6,
         "scalegroup": "Log",
         "showlegend": true,
         "side": "negative",
         "spanmode": "hard",
         "type": "violin",
         "x": [
          "GATBMiniaPipeline",
          "SKESA",
          "BCALM2",
          "MINIA",
          "Unicycler",
          "MINIA",
          "SPAdes",
          "MEGAHIT",
          "SPAdes",
          "GATBMiniaPipeline",
          "SPAdes",
          "metaSPAdes",
          "SKESA",
          "Unicycler",
          "BCALM2",
          "BCALM2",
          "MINIA",
          "MEGAHIT",
          "MEGAHIT",
          "metaSPAdes",
          "SKESA",
          "metaSPAdes",
          "Unicycler",
          "IDBA-UD",
          "IDBA-UD",
          "IDBA-UD",
          "VelvetOptimizer",
          "VelvetOptimizer",
          "VelvetOptimizer",
          "VelvetOptimizer",
          "VelvetOptimizer",
          "VelvetOptimizer",
          "VelvetOptimizer",
          "VelvetOptimizer",
          "GATBMiniaPipeline",
          "VelvetOptimizer",
          "GATBMiniaPipeline",
          "GATBMiniaPipeline"
         ],
         "xaxis": "x",
         "y": [
          53.93389375,
          8.667725694444446,
          2.4936979166666666,
          2.9500333333333333,
          27.75825694444445,
          1.9568368055555554,
          36.93421527777778,
          12.507134722222222,
          12.3006,
          33.30387222222222,
          21.207899305555554,
          11.685590277777779,
          6.123674305555556,
          83.20484375,
          2.2821555555555553,
          1.76198125,
          5.552913888888889,
          9.721638888888888,
          12.638250000000001,
          28.248513888888887,
          22.812018749999996,
          75.38933055555556,
          49.941552083333335,
          17.776822916666667,
          23.964235416666668,
          33.01134375,
          1.5052666666666668,
          1.884977777777778,
          3.1296541666666666,
          2.829850694444444,
          3.2766375,
          4.791984722222223,
          3.818813194444445,
          4.72651875,
          33.22996180555556,
          6.025555555555556,
          33.476037500000004,
          31.323304166666667
         ],
         "yaxis": "y"
        },
        {
         "box": {
          "visible": true
         },
         "fillcolor": "orange",
         "legendgroup": "Even",
         "line": {
          "color": "black"
         },
         "meanline": {
          "visible": true
         },
         "name": "Even",
         "opacity": 0.6,
         "scalegroup": "Even",
         "showlegend": true,
         "side": "positive",
         "spanmode": "hard",
         "type": "violin",
         "x": [
          "MEGAHIT",
          "MINIA",
          "VelvetOptimizer",
          "GATBMiniaPipeline",
          "MEGAHIT",
          "VelvetOptimizer",
          "SPAdes",
          "MEGAHIT",
          "SKESA",
          "SPAdes",
          "metaSPAdes",
          "BCALM2",
          "metaSPAdes",
          "SKESA",
          "SKESA",
          "Unicycler",
          "Unicycler",
          "BCALM2",
          "BCALM2",
          "metaSPAdes",
          "GATBMiniaPipeline",
          "MINIA",
          "Unicycler",
          "MINIA",
          "SPAdes",
          "VelvetOptimizer",
          "IDBA-UD",
          "IDBA-UD",
          "IDBA-UD",
          "GATBMiniaPipeline",
          "GATBMiniaPipeline",
          "GATBMiniaPipeline"
         ],
         "xaxis": "x",
         "y": [
          3.2914222222222222,
          0.7499722222222222,
          13.090127777777775,
          23.6096875,
          6.371694444444444,
          10.897644444444444,
          12.913725,
          2.947552083333333,
          3.5427027777777784,
          2.9146493055555553,
          12.911479166666664,
          0.5078625,
          12.149849999999999,
          3.27765625,
          3.110708333333333,
          16.190455555555552,
          27.050861111111107,
          1.0229625,
          0.5273854166666666,
          3.487638194444444,
          30.44795138888889,
          1.322023611111111,
          8.944172222222223,
          0.5697500000000001,
          7.050602777777778,
          26.89838333333333,
          10.850006944444443,
          6.717624999999999,
          5.710153472222222,
          20.101116666666663,
          18.816875,
          19.92332222222222
         ],
         "yaxis": "y"
        },
        {
         "line": {
          "color": "crimson"
         },
         "mode": "lines",
         "name": "mean",
         "opacity": 0.6,
         "showlegend": true,
         "type": "scatter",
         "x": [
          "GATBMiniaPipeline",
          "MEGAHIT",
          "MINIA",
          "VelvetOptimizer",
          "GATBMiniaPipeline",
          "MEGAHIT",
          "VelvetOptimizer",
          "SKESA",
          "BCALM2",
          "SPAdes",
          "MINIA",
          "Unicycler",
          "MEGAHIT",
          "MINIA",
          "SPAdes",
          "SKESA",
          "SPAdes",
          "MEGAHIT",
          "SPAdes",
          "metaSPAdes",
          "GATBMiniaPipeline",
          "BCALM2",
          "SPAdes",
          "metaSPAdes",
          "SKESA",
          "metaSPAdes",
          "SKESA",
          "Unicycler",
          "BCALM2",
          "SKESA",
          "BCALM2",
          "Unicycler",
          "Unicycler",
          "MINIA",
          "BCALM2",
          "BCALM2",
          "metaSPAdes",
          "MEGAHIT",
          "GATBMiniaPipeline",
          "MINIA",
          "MEGAHIT",
          "metaSPAdes",
          "Unicycler",
          "MINIA",
          "SKESA",
          "SPAdes",
          "metaSPAdes",
          "Unicycler",
          "VelvetOptimizer",
          "IDBA-UD",
          "IDBA-UD",
          "IDBA-UD",
          "IDBA-UD",
          "IDBA-UD",
          "IDBA-UD",
          "VelvetOptimizer",
          "VelvetOptimizer",
          "VelvetOptimizer",
          "VelvetOptimizer",
          "VelvetOptimizer",
          "GATBMiniaPipeline",
          "VelvetOptimizer",
          "VelvetOptimizer",
          "VelvetOptimizer",
          "GATBMiniaPipeline",
          "GATBMiniaPipeline",
          "VelvetOptimizer",
          "GATBMiniaPipeline",
          "GATBMiniaPipeline",
          "GATBMiniaPipeline"
         ],
         "xaxis": "x",
         "y": [
          14.94379447420635,
          14.94379447420635,
          14.94379447420635,
          14.94379447420635,
          14.94379447420635,
          14.94379447420635,
          14.94379447420635,
          14.94379447420635,
          14.94379447420635,
          14.94379447420635,
          14.94379447420635,
          14.94379447420635,
          14.94379447420635,
          14.94379447420635,
          14.94379447420635,
          14.94379447420635,
          14.94379447420635,
          14.94379447420635,
          14.94379447420635,
          14.94379447420635,
          14.94379447420635,
          14.94379447420635,
          14.94379447420635,
          14.94379447420635,
          14.94379447420635,
          14.94379447420635,
          14.94379447420635,
          14.94379447420635,
          14.94379447420635,
          14.94379447420635,
          14.94379447420635,
          14.94379447420635,
          14.94379447420635,
          14.94379447420635,
          14.94379447420635,
          14.94379447420635,
          14.94379447420635,
          14.94379447420635,
          14.94379447420635,
          14.94379447420635,
          14.94379447420635,
          14.94379447420635,
          14.94379447420635,
          14.94379447420635,
          14.94379447420635,
          14.94379447420635,
          14.94379447420635,
          14.94379447420635,
          14.94379447420635,
          14.94379447420635,
          14.94379447420635,
          14.94379447420635,
          14.94379447420635,
          14.94379447420635,
          14.94379447420635,
          14.94379447420635,
          14.94379447420635,
          14.94379447420635,
          14.94379447420635,
          14.94379447420635,
          14.94379447420635,
          14.94379447420635,
          14.94379447420635,
          14.94379447420635,
          14.94379447420635,
          14.94379447420635,
          14.94379447420635,
          14.94379447420635,
          14.94379447420635,
          14.94379447420635
         ],
         "yaxis": "y"
        },
        {
         "box": {
          "visible": true
         },
         "fillcolor": "lightseagreen",
         "legendgroup": "Log",
         "line": {
          "color": "black"
         },
         "meanline": {
          "visible": true
         },
         "name": "Log",
         "opacity": 0.6,
         "scalegroup": "Log",
         "showlegend": false,
         "side": "negative",
         "spanmode": "hard",
         "type": "violin",
         "x": [
          "GATBMiniaPipeline",
          "SKESA",
          "BCALM2",
          "MINIA",
          "Unicycler",
          "MINIA",
          "SPAdes",
          "MEGAHIT",
          "SPAdes",
          "GATBMiniaPipeline",
          "SPAdes",
          "metaSPAdes",
          "SKESA",
          "Unicycler",
          "BCALM2",
          "BCALM2",
          "MINIA",
          "MEGAHIT",
          "MEGAHIT",
          "metaSPAdes",
          "SKESA",
          "metaSPAdes",
          "Unicycler",
          "IDBA-UD",
          "IDBA-UD",
          "IDBA-UD",
          "VelvetOptimizer",
          "VelvetOptimizer",
          "VelvetOptimizer",
          "VelvetOptimizer",
          "VelvetOptimizer",
          "VelvetOptimizer",
          "VelvetOptimizer",
          "VelvetOptimizer",
          "GATBMiniaPipeline",
          "VelvetOptimizer",
          "GATBMiniaPipeline",
          "GATBMiniaPipeline"
         ],
         "xaxis": "x2",
         "y": [
          7.8,
          10.2,
          7.9,
          6.3,
          2.5,
          7.1,
          9.8,
          9.4,
          2.4,
          7.3,
          8.3,
          2.3,
          9.9,
          16,
          6.3,
          7.1,
          7.9,
          7.6,
          9.4,
          8.5,
          11.1,
          25.1,
          17.7,
          18.5,
          23.7,
          24.5,
          16,
          16,
          16,
          32,
          32,
          32,
          48,
          48,
          7.6,
          48,
          7.6,
          7.7
         ],
         "yaxis": "y2"
        },
        {
         "box": {
          "visible": true
         },
         "fillcolor": "orange",
         "legendgroup": "Even",
         "line": {
          "color": "black"
         },
         "meanline": {
          "visible": true
         },
         "name": "Even",
         "opacity": 0.6,
         "scalegroup": "Even",
         "showlegend": false,
         "side": "positive",
         "spanmode": "hard",
         "type": "violin",
         "x": [
          "MEGAHIT",
          "MINIA",
          "VelvetOptimizer",
          "GATBMiniaPipeline",
          "MEGAHIT",
          "VelvetOptimizer",
          "SPAdes",
          "MEGAHIT",
          "SKESA",
          "SPAdes",
          "metaSPAdes",
          "BCALM2",
          "metaSPAdes",
          "SKESA",
          "SKESA",
          "Unicycler",
          "Unicycler",
          "BCALM2",
          "BCALM2",
          "metaSPAdes",
          "GATBMiniaPipeline",
          "MINIA",
          "Unicycler",
          "MINIA",
          "SPAdes",
          "VelvetOptimizer",
          "IDBA-UD",
          "IDBA-UD",
          "IDBA-UD",
          "GATBMiniaPipeline",
          "GATBMiniaPipeline",
          "GATBMiniaPipeline"
         ],
         "xaxis": "x2",
         "y": [
          1.7,
          5,
          16,
          6.9,
          2.1,
          15.9,
          4.7,
          1.7,
          9.2,
          2.3,
          6.3,
          5.1,
          4.6,
          8.4,
          8.7,
          5.3,
          11,
          4.8,
          5,
          2.3,
          5.7,
          4.8,
          2.6,
          5.1,
          2.5,
          32,
          10.3,
          6.3,
          5.6,
          6.9,
          6.9,
          6.9
         ],
         "yaxis": "y2"
        },
        {
         "line": {
          "color": "crimson"
         },
         "mode": "lines",
         "name": "mean",
         "opacity": 0.6,
         "showlegend": false,
         "type": "scatter",
         "x": [
          "GATBMiniaPipeline",
          "MEGAHIT",
          "MINIA",
          "VelvetOptimizer",
          "GATBMiniaPipeline",
          "MEGAHIT",
          "VelvetOptimizer",
          "SKESA",
          "BCALM2",
          "SPAdes",
          "MINIA",
          "Unicycler",
          "MEGAHIT",
          "MINIA",
          "SPAdes",
          "SKESA",
          "SPAdes",
          "MEGAHIT",
          "SPAdes",
          "metaSPAdes",
          "GATBMiniaPipeline",
          "BCALM2",
          "SPAdes",
          "metaSPAdes",
          "SKESA",
          "metaSPAdes",
          "SKESA",
          "Unicycler",
          "BCALM2",
          "SKESA",
          "BCALM2",
          "Unicycler",
          "Unicycler",
          "MINIA",
          "BCALM2",
          "BCALM2",
          "metaSPAdes",
          "MEGAHIT",
          "GATBMiniaPipeline",
          "MINIA",
          "MEGAHIT",
          "metaSPAdes",
          "Unicycler",
          "MINIA",
          "SKESA",
          "SPAdes",
          "metaSPAdes",
          "Unicycler",
          "VelvetOptimizer",
          "IDBA-UD",
          "IDBA-UD",
          "IDBA-UD",
          "IDBA-UD",
          "IDBA-UD",
          "IDBA-UD",
          "VelvetOptimizer",
          "VelvetOptimizer",
          "VelvetOptimizer",
          "VelvetOptimizer",
          "VelvetOptimizer",
          "GATBMiniaPipeline",
          "VelvetOptimizer",
          "VelvetOptimizer",
          "VelvetOptimizer",
          "GATBMiniaPipeline",
          "GATBMiniaPipeline",
          "VelvetOptimizer",
          "GATBMiniaPipeline",
          "GATBMiniaPipeline",
          "GATBMiniaPipeline"
         ],
         "xaxis": "x2",
         "y": [
          11.544285714285715,
          11.544285714285715,
          11.544285714285715,
          11.544285714285715,
          11.544285714285715,
          11.544285714285715,
          11.544285714285715,
          11.544285714285715,
          11.544285714285715,
          11.544285714285715,
          11.544285714285715,
          11.544285714285715,
          11.544285714285715,
          11.544285714285715,
          11.544285714285715,
          11.544285714285715,
          11.544285714285715,
          11.544285714285715,
          11.544285714285715,
          11.544285714285715,
          11.544285714285715,
          11.544285714285715,
          11.544285714285715,
          11.544285714285715,
          11.544285714285715,
          11.544285714285715,
          11.544285714285715,
          11.544285714285715,
          11.544285714285715,
          11.544285714285715,
          11.544285714285715,
          11.544285714285715,
          11.544285714285715,
          11.544285714285715,
          11.544285714285715,
          11.544285714285715,
          11.544285714285715,
          11.544285714285715,
          11.544285714285715,
          11.544285714285715,
          11.544285714285715,
          11.544285714285715,
          11.544285714285715,
          11.544285714285715,
          11.544285714285715,
          11.544285714285715,
          11.544285714285715,
          11.544285714285715,
          11.544285714285715,
          11.544285714285715,
          11.544285714285715,
          11.544285714285715,
          11.544285714285715,
          11.544285714285715,
          11.544285714285715,
          11.544285714285715,
          11.544285714285715,
          11.544285714285715,
          11.544285714285715,
          11.544285714285715,
          11.544285714285715,
          11.544285714285715,
          11.544285714285715,
          11.544285714285715,
          11.544285714285715,
          11.544285714285715,
          11.544285714285715,
          11.544285714285715,
          11.544285714285715,
          11.544285714285715
         ],
         "yaxis": "y2"
        },
        {
         "box": {
          "visible": true
         },
         "fillcolor": "lightseagreen",
         "legendgroup": "Log",
         "line": {
          "color": "black"
         },
         "meanline": {
          "visible": true
         },
         "name": "Log",
         "opacity": 0.6,
         "scalegroup": "Log",
         "showlegend": false,
         "side": "negative",
         "spanmode": "hard",
         "type": "violin",
         "x": [
          "GATBMiniaPipeline",
          "SKESA",
          "BCALM2",
          "MINIA",
          "Unicycler",
          "MINIA",
          "SPAdes",
          "MEGAHIT",
          "SPAdes",
          "GATBMiniaPipeline",
          "SPAdes",
          "metaSPAdes",
          "SKESA",
          "Unicycler",
          "BCALM2",
          "BCALM2",
          "MINIA",
          "MEGAHIT",
          "MEGAHIT",
          "metaSPAdes",
          "SKESA",
          "metaSPAdes",
          "Unicycler",
          "IDBA-UD",
          "IDBA-UD",
          "IDBA-UD",
          "VelvetOptimizer",
          "VelvetOptimizer",
          "VelvetOptimizer",
          "VelvetOptimizer",
          "VelvetOptimizer",
          "VelvetOptimizer",
          "VelvetOptimizer",
          "VelvetOptimizer",
          "GATBMiniaPipeline",
          "VelvetOptimizer",
          "GATBMiniaPipeline",
          "GATBMiniaPipeline"
         ],
         "xaxis": "x3",
         "y": [
          207.6,
          2.7,
          28.2,
          34.6,
          168.2,
          19.7,
          52.8,
          83,
          46.4,
          196.4,
          53.4,
          58.3,
          3,
          212.7,
          33.4,
          19.2,
          29.1,
          76.2,
          80.3,
          69.3,
          1.5,
          68.5,
          169.5,
          17.9,
          20.9,
          20,
          115.1,
          141,
          115.2,
          163.2,
          157.4,
          138.9,
          171.9,
          181.1,
          137.5,
          156.3,
          139.8,
          139.4
         ],
         "yaxis": "y3"
        },
        {
         "box": {
          "visible": true
         },
         "fillcolor": "orange",
         "legendgroup": "Even",
         "line": {
          "color": "black"
         },
         "meanline": {
          "visible": true
         },
         "name": "Even",
         "opacity": 0.6,
         "scalegroup": "Even",
         "showlegend": false,
         "side": "positive",
         "spanmode": "hard",
         "type": "violin",
         "x": [
          "MEGAHIT",
          "MINIA",
          "VelvetOptimizer",
          "GATBMiniaPipeline",
          "MEGAHIT",
          "VelvetOptimizer",
          "SPAdes",
          "MEGAHIT",
          "SKESA",
          "SPAdes",
          "metaSPAdes",
          "BCALM2",
          "metaSPAdes",
          "SKESA",
          "SKESA",
          "Unicycler",
          "Unicycler",
          "BCALM2",
          "BCALM2",
          "metaSPAdes",
          "GATBMiniaPipeline",
          "MINIA",
          "Unicycler",
          "MINIA",
          "SPAdes",
          "VelvetOptimizer",
          "IDBA-UD",
          "IDBA-UD",
          "IDBA-UD",
          "GATBMiniaPipeline",
          "GATBMiniaPipeline",
          "GATBMiniaPipeline"
         ],
         "xaxis": "x3",
         "y": [
          16.5,
          7.7,
          304.5,
          65.6,
          22.3,
          242.5,
          15.9,
          17,
          0.8847999999999999,
          8.8,
          16.2,
          5.8,
          12.8,
          0.3025,
          0.49260000000000004,
          41,
          52,
          16.2,
          7.1,
          11,
          113.3,
          17.3,
          39.5,
          6.3,
          9.9,
          238.5,
          8.8,
          5.7,
          5.4,
          51.9,
          52.8,
          53
         ],
         "yaxis": "y3"
        },
        {
         "line": {
          "color": "crimson"
         },
         "mode": "lines",
         "name": "mean",
         "opacity": 0.6,
         "showlegend": false,
         "type": "scatter",
         "x": [
          "GATBMiniaPipeline",
          "MEGAHIT",
          "MINIA",
          "VelvetOptimizer",
          "GATBMiniaPipeline",
          "MEGAHIT",
          "VelvetOptimizer",
          "SKESA",
          "BCALM2",
          "SPAdes",
          "MINIA",
          "Unicycler",
          "MEGAHIT",
          "MINIA",
          "SPAdes",
          "SKESA",
          "SPAdes",
          "MEGAHIT",
          "SPAdes",
          "metaSPAdes",
          "GATBMiniaPipeline",
          "BCALM2",
          "SPAdes",
          "metaSPAdes",
          "SKESA",
          "metaSPAdes",
          "SKESA",
          "Unicycler",
          "BCALM2",
          "SKESA",
          "BCALM2",
          "Unicycler",
          "Unicycler",
          "MINIA",
          "BCALM2",
          "BCALM2",
          "metaSPAdes",
          "MEGAHIT",
          "GATBMiniaPipeline",
          "MINIA",
          "MEGAHIT",
          "metaSPAdes",
          "Unicycler",
          "MINIA",
          "SKESA",
          "SPAdes",
          "metaSPAdes",
          "Unicycler",
          "VelvetOptimizer",
          "IDBA-UD",
          "IDBA-UD",
          "IDBA-UD",
          "IDBA-UD",
          "IDBA-UD",
          "IDBA-UD",
          "VelvetOptimizer",
          "VelvetOptimizer",
          "VelvetOptimizer",
          "VelvetOptimizer",
          "VelvetOptimizer",
          "GATBMiniaPipeline",
          "VelvetOptimizer",
          "VelvetOptimizer",
          "VelvetOptimizer",
          "GATBMiniaPipeline",
          "GATBMiniaPipeline",
          "VelvetOptimizer",
          "GATBMiniaPipeline",
          "GATBMiniaPipeline",
          "GATBMiniaPipeline"
         ],
         "xaxis": "x3",
         "y": [
          71.37971285714286,
          71.37971285714286,
          71.37971285714286,
          71.37971285714286,
          71.37971285714286,
          71.37971285714286,
          71.37971285714286,
          71.37971285714286,
          71.37971285714286,
          71.37971285714286,
          71.37971285714286,
          71.37971285714286,
          71.37971285714286,
          71.37971285714286,
          71.37971285714286,
          71.37971285714286,
          71.37971285714286,
          71.37971285714286,
          71.37971285714286,
          71.37971285714286,
          71.37971285714286,
          71.37971285714286,
          71.37971285714286,
          71.37971285714286,
          71.37971285714286,
          71.37971285714286,
          71.37971285714286,
          71.37971285714286,
          71.37971285714286,
          71.37971285714286,
          71.37971285714286,
          71.37971285714286,
          71.37971285714286,
          71.37971285714286,
          71.37971285714286,
          71.37971285714286,
          71.37971285714286,
          71.37971285714286,
          71.37971285714286,
          71.37971285714286,
          71.37971285714286,
          71.37971285714286,
          71.37971285714286,
          71.37971285714286,
          71.37971285714286,
          71.37971285714286,
          71.37971285714286,
          71.37971285714286,
          71.37971285714286,
          71.37971285714286,
          71.37971285714286,
          71.37971285714286,
          71.37971285714286,
          71.37971285714286,
          71.37971285714286,
          71.37971285714286,
          71.37971285714286,
          71.37971285714286,
          71.37971285714286,
          71.37971285714286,
          71.37971285714286,
          71.37971285714286,
          71.37971285714286,
          71.37971285714286,
          71.37971285714286,
          71.37971285714286,
          71.37971285714286,
          71.37971285714286,
          71.37971285714286,
          71.37971285714286
         ],
         "yaxis": "y3"
        },
        {
         "box": {
          "visible": true
         },
         "fillcolor": "lightseagreen",
         "legendgroup": "Log",
         "line": {
          "color": "black"
         },
         "meanline": {
          "visible": true
         },
         "name": "Log",
         "opacity": 0.6,
         "scalegroup": "Log",
         "showlegend": false,
         "side": "negative",
         "spanmode": "hard",
         "type": "violin",
         "x": [
          "GATBMiniaPipeline",
          "SKESA",
          "BCALM2",
          "MINIA",
          "Unicycler",
          "MINIA",
          "SPAdes",
          "MEGAHIT",
          "SPAdes",
          "GATBMiniaPipeline",
          "SPAdes",
          "metaSPAdes",
          "SKESA",
          "Unicycler",
          "BCALM2",
          "BCALM2",
          "MINIA",
          "MEGAHIT",
          "MEGAHIT",
          "metaSPAdes",
          "SKESA",
          "metaSPAdes",
          "Unicycler",
          "IDBA-UD",
          "IDBA-UD",
          "IDBA-UD",
          "VelvetOptimizer",
          "VelvetOptimizer",
          "VelvetOptimizer",
          "VelvetOptimizer",
          "VelvetOptimizer",
          "VelvetOptimizer",
          "VelvetOptimizer",
          "VelvetOptimizer",
          "GATBMiniaPipeline",
          "VelvetOptimizer",
          "GATBMiniaPipeline",
          "GATBMiniaPipeline"
         ],
         "xaxis": "x4",
         "y": [
          98.7,
          0.0256,
          16.2,
          14.6,
          129.5,
          14.2,
          103.3,
          32,
          29.3,
          81.3,
          101.3,
          29.5,
          0.0086,
          1024,
          14.6,
          14.1,
          16.3,
          29.4,
          31.7,
          101.5,
          0.0189,
          103.5,
          630.7,
          2.5,
          5.7,
          4.6,
          65.6,
          65.6,
          53.7,
          71.8,
          73,
          59.6,
          78.4,
          80.7,
          81.8,
          65.3,
          81.7,
          81.7
         ],
         "yaxis": "y4"
        },
        {
         "box": {
          "visible": true
         },
         "fillcolor": "orange",
         "legendgroup": "Even",
         "line": {
          "color": "black"
         },
         "meanline": {
          "visible": true
         },
         "name": "Even",
         "opacity": 0.6,
         "scalegroup": "Even",
         "showlegend": false,
         "side": "positive",
         "spanmode": "hard",
         "type": "violin",
         "x": [
          "MEGAHIT",
          "MINIA",
          "VelvetOptimizer",
          "GATBMiniaPipeline",
          "MEGAHIT",
          "VelvetOptimizer",
          "SPAdes",
          "MEGAHIT",
          "SKESA",
          "SPAdes",
          "metaSPAdes",
          "BCALM2",
          "metaSPAdes",
          "SKESA",
          "SKESA",
          "Unicycler",
          "Unicycler",
          "BCALM2",
          "BCALM2",
          "metaSPAdes",
          "GATBMiniaPipeline",
          "MINIA",
          "Unicycler",
          "MINIA",
          "SPAdes",
          "VelvetOptimizer",
          "IDBA-UD",
          "IDBA-UD",
          "IDBA-UD",
          "GATBMiniaPipeline",
          "GATBMiniaPipeline",
          "GATBMiniaPipeline"
         ],
         "xaxis": "x4",
         "y": [
          7,
          3.8,
          39.9,
          26.5,
          9.5,
          30,
          106.4,
          7.1,
          0.0291,
          10.8,
          64.4,
          3.4,
          29.5,
          0.0288,
          0.0287,
          320.1,
          761.4,
          6.8,
          3.7,
          11,
          40.9,
          6.8,
          125.3,
          3.5,
          29.3,
          48.8,
          5,
          2.7,
          2.5,
          23.7,
          23.7,
          23.7
         ],
         "yaxis": "y4"
        },
        {
         "line": {
          "color": "crimson"
         },
         "mode": "lines",
         "name": "mean",
         "opacity": 0.6,
         "showlegend": false,
         "type": "scatter",
         "x": [
          "GATBMiniaPipeline",
          "MEGAHIT",
          "MINIA",
          "VelvetOptimizer",
          "GATBMiniaPipeline",
          "MEGAHIT",
          "VelvetOptimizer",
          "SKESA",
          "BCALM2",
          "SPAdes",
          "MINIA",
          "Unicycler",
          "MEGAHIT",
          "MINIA",
          "SPAdes",
          "SKESA",
          "SPAdes",
          "MEGAHIT",
          "SPAdes",
          "metaSPAdes",
          "GATBMiniaPipeline",
          "BCALM2",
          "SPAdes",
          "metaSPAdes",
          "SKESA",
          "metaSPAdes",
          "SKESA",
          "Unicycler",
          "BCALM2",
          "SKESA",
          "BCALM2",
          "Unicycler",
          "Unicycler",
          "MINIA",
          "BCALM2",
          "BCALM2",
          "metaSPAdes",
          "MEGAHIT",
          "GATBMiniaPipeline",
          "MINIA",
          "MEGAHIT",
          "metaSPAdes",
          "Unicycler",
          "MINIA",
          "SKESA",
          "SPAdes",
          "metaSPAdes",
          "Unicycler",
          "VelvetOptimizer",
          "IDBA-UD",
          "IDBA-UD",
          "IDBA-UD",
          "IDBA-UD",
          "IDBA-UD",
          "IDBA-UD",
          "VelvetOptimizer",
          "VelvetOptimizer",
          "VelvetOptimizer",
          "VelvetOptimizer",
          "VelvetOptimizer",
          "GATBMiniaPipeline",
          "VelvetOptimizer",
          "VelvetOptimizer",
          "VelvetOptimizer",
          "GATBMiniaPipeline",
          "GATBMiniaPipeline",
          "VelvetOptimizer",
          "GATBMiniaPipeline",
          "GATBMiniaPipeline",
          "GATBMiniaPipeline"
         ],
         "xaxis": "x4",
         "y": [
          75.21056714285714,
          75.21056714285714,
          75.21056714285714,
          75.21056714285714,
          75.21056714285714,
          75.21056714285714,
          75.21056714285714,
          75.21056714285714,
          75.21056714285714,
          75.21056714285714,
          75.21056714285714,
          75.21056714285714,
          75.21056714285714,
          75.21056714285714,
          75.21056714285714,
          75.21056714285714,
          75.21056714285714,
          75.21056714285714,
          75.21056714285714,
          75.21056714285714,
          75.21056714285714,
          75.21056714285714,
          75.21056714285714,
          75.21056714285714,
          75.21056714285714,
          75.21056714285714,
          75.21056714285714,
          75.21056714285714,
          75.21056714285714,
          75.21056714285714,
          75.21056714285714,
          75.21056714285714,
          75.21056714285714,
          75.21056714285714,
          75.21056714285714,
          75.21056714285714,
          75.21056714285714,
          75.21056714285714,
          75.21056714285714,
          75.21056714285714,
          75.21056714285714,
          75.21056714285714,
          75.21056714285714,
          75.21056714285714,
          75.21056714285714,
          75.21056714285714,
          75.21056714285714,
          75.21056714285714,
          75.21056714285714,
          75.21056714285714,
          75.21056714285714,
          75.21056714285714,
          75.21056714285714,
          75.21056714285714,
          75.21056714285714,
          75.21056714285714,
          75.21056714285714,
          75.21056714285714,
          75.21056714285714,
          75.21056714285714,
          75.21056714285714,
          75.21056714285714,
          75.21056714285714,
          75.21056714285714,
          75.21056714285714,
          75.21056714285714,
          75.21056714285714,
          75.21056714285714,
          75.21056714285714,
          75.21056714285714
         ],
         "yaxis": "y4"
        }
       ],
       "layout": {
        "annotations": [
         {
          "font": {
           "size": 16
          },
          "showarrow": false,
          "text": "CPU",
          "x": 0.225,
          "xanchor": "center",
          "xref": "paper",
          "y": 1,
          "yanchor": "bottom",
          "yref": "paper"
         },
         {
          "font": {
           "size": 16
          },
          "showarrow": false,
          "text": "Memory",
          "x": 0.775,
          "xanchor": "center",
          "xref": "paper",
          "y": 1,
          "yanchor": "bottom",
          "yref": "paper"
         },
         {
          "font": {
           "size": 16
          },
          "showarrow": false,
          "text": "Read",
          "x": 0.225,
          "xanchor": "center",
          "xref": "paper",
          "y": 0.375,
          "yanchor": "bottom",
          "yref": "paper"
         },
         {
          "font": {
           "size": 16
          },
          "showarrow": false,
          "text": "Write",
          "x": 0.775,
          "xanchor": "center",
          "xref": "paper",
          "y": 0.375,
          "yanchor": "bottom",
          "yref": "paper"
         },
         {
          "font": {
           "size": 16
          },
          "showarrow": false,
          "text": "Assembler",
          "x": 0.5,
          "xanchor": "center",
          "xref": "paper",
          "y": 0,
          "yanchor": "top",
          "yref": "paper",
          "yshift": -30
         }
        ],
        "plot_bgcolor": "rgb(255,255,255)",
        "template": {
         "data": {
          "bar": [
           {
            "error_x": {
             "color": "#2a3f5f"
            },
            "error_y": {
             "color": "#2a3f5f"
            },
            "marker": {
             "line": {
              "color": "#E5ECF6",
              "width": 0.5
             }
            },
            "type": "bar"
           }
          ],
          "barpolar": [
           {
            "marker": {
             "line": {
              "color": "#E5ECF6",
              "width": 0.5
             }
            },
            "type": "barpolar"
           }
          ],
          "carpet": [
           {
            "aaxis": {
             "endlinecolor": "#2a3f5f",
             "gridcolor": "white",
             "linecolor": "white",
             "minorgridcolor": "white",
             "startlinecolor": "#2a3f5f"
            },
            "baxis": {
             "endlinecolor": "#2a3f5f",
             "gridcolor": "white",
             "linecolor": "white",
             "minorgridcolor": "white",
             "startlinecolor": "#2a3f5f"
            },
            "type": "carpet"
           }
          ],
          "choropleth": [
           {
            "colorbar": {
             "outlinewidth": 0,
             "ticks": ""
            },
            "type": "choropleth"
           }
          ],
          "contour": [
           {
            "colorbar": {
             "outlinewidth": 0,
             "ticks": ""
            },
            "colorscale": [
             [
              0,
              "#0d0887"
             ],
             [
              0.1111111111111111,
              "#46039f"
             ],
             [
              0.2222222222222222,
              "#7201a8"
             ],
             [
              0.3333333333333333,
              "#9c179e"
             ],
             [
              0.4444444444444444,
              "#bd3786"
             ],
             [
              0.5555555555555556,
              "#d8576b"
             ],
             [
              0.6666666666666666,
              "#ed7953"
             ],
             [
              0.7777777777777778,
              "#fb9f3a"
             ],
             [
              0.8888888888888888,
              "#fdca26"
             ],
             [
              1,
              "#f0f921"
             ]
            ],
            "type": "contour"
           }
          ],
          "contourcarpet": [
           {
            "colorbar": {
             "outlinewidth": 0,
             "ticks": ""
            },
            "type": "contourcarpet"
           }
          ],
          "heatmap": [
           {
            "colorbar": {
             "outlinewidth": 0,
             "ticks": ""
            },
            "colorscale": [
             [
              0,
              "#0d0887"
             ],
             [
              0.1111111111111111,
              "#46039f"
             ],
             [
              0.2222222222222222,
              "#7201a8"
             ],
             [
              0.3333333333333333,
              "#9c179e"
             ],
             [
              0.4444444444444444,
              "#bd3786"
             ],
             [
              0.5555555555555556,
              "#d8576b"
             ],
             [
              0.6666666666666666,
              "#ed7953"
             ],
             [
              0.7777777777777778,
              "#fb9f3a"
             ],
             [
              0.8888888888888888,
              "#fdca26"
             ],
             [
              1,
              "#f0f921"
             ]
            ],
            "type": "heatmap"
           }
          ],
          "heatmapgl": [
           {
            "colorbar": {
             "outlinewidth": 0,
             "ticks": ""
            },
            "colorscale": [
             [
              0,
              "#0d0887"
             ],
             [
              0.1111111111111111,
              "#46039f"
             ],
             [
              0.2222222222222222,
              "#7201a8"
             ],
             [
              0.3333333333333333,
              "#9c179e"
             ],
             [
              0.4444444444444444,
              "#bd3786"
             ],
             [
              0.5555555555555556,
              "#d8576b"
             ],
             [
              0.6666666666666666,
              "#ed7953"
             ],
             [
              0.7777777777777778,
              "#fb9f3a"
             ],
             [
              0.8888888888888888,
              "#fdca26"
             ],
             [
              1,
              "#f0f921"
             ]
            ],
            "type": "heatmapgl"
           }
          ],
          "histogram": [
           {
            "marker": {
             "colorbar": {
              "outlinewidth": 0,
              "ticks": ""
             }
            },
            "type": "histogram"
           }
          ],
          "histogram2d": [
           {
            "colorbar": {
             "outlinewidth": 0,
             "ticks": ""
            },
            "colorscale": [
             [
              0,
              "#0d0887"
             ],
             [
              0.1111111111111111,
              "#46039f"
             ],
             [
              0.2222222222222222,
              "#7201a8"
             ],
             [
              0.3333333333333333,
              "#9c179e"
             ],
             [
              0.4444444444444444,
              "#bd3786"
             ],
             [
              0.5555555555555556,
              "#d8576b"
             ],
             [
              0.6666666666666666,
              "#ed7953"
             ],
             [
              0.7777777777777778,
              "#fb9f3a"
             ],
             [
              0.8888888888888888,
              "#fdca26"
             ],
             [
              1,
              "#f0f921"
             ]
            ],
            "type": "histogram2d"
           }
          ],
          "histogram2dcontour": [
           {
            "colorbar": {
             "outlinewidth": 0,
             "ticks": ""
            },
            "colorscale": [
             [
              0,
              "#0d0887"
             ],
             [
              0.1111111111111111,
              "#46039f"
             ],
             [
              0.2222222222222222,
              "#7201a8"
             ],
             [
              0.3333333333333333,
              "#9c179e"
             ],
             [
              0.4444444444444444,
              "#bd3786"
             ],
             [
              0.5555555555555556,
              "#d8576b"
             ],
             [
              0.6666666666666666,
              "#ed7953"
             ],
             [
              0.7777777777777778,
              "#fb9f3a"
             ],
             [
              0.8888888888888888,
              "#fdca26"
             ],
             [
              1,
              "#f0f921"
             ]
            ],
            "type": "histogram2dcontour"
           }
          ],
          "mesh3d": [
           {
            "colorbar": {
             "outlinewidth": 0,
             "ticks": ""
            },
            "type": "mesh3d"
           }
          ],
          "parcoords": [
           {
            "line": {
             "colorbar": {
              "outlinewidth": 0,
              "ticks": ""
             }
            },
            "type": "parcoords"
           }
          ],
          "pie": [
           {
            "automargin": true,
            "type": "pie"
           }
          ],
          "scatter": [
           {
            "marker": {
             "colorbar": {
              "outlinewidth": 0,
              "ticks": ""
             }
            },
            "type": "scatter"
           }
          ],
          "scatter3d": [
           {
            "line": {
             "colorbar": {
              "outlinewidth": 0,
              "ticks": ""
             }
            },
            "marker": {
             "colorbar": {
              "outlinewidth": 0,
              "ticks": ""
             }
            },
            "type": "scatter3d"
           }
          ],
          "scattercarpet": [
           {
            "marker": {
             "colorbar": {
              "outlinewidth": 0,
              "ticks": ""
             }
            },
            "type": "scattercarpet"
           }
          ],
          "scattergeo": [
           {
            "marker": {
             "colorbar": {
              "outlinewidth": 0,
              "ticks": ""
             }
            },
            "type": "scattergeo"
           }
          ],
          "scattergl": [
           {
            "marker": {
             "colorbar": {
              "outlinewidth": 0,
              "ticks": ""
             }
            },
            "type": "scattergl"
           }
          ],
          "scattermapbox": [
           {
            "marker": {
             "colorbar": {
              "outlinewidth": 0,
              "ticks": ""
             }
            },
            "type": "scattermapbox"
           }
          ],
          "scatterpolar": [
           {
            "marker": {
             "colorbar": {
              "outlinewidth": 0,
              "ticks": ""
             }
            },
            "type": "scatterpolar"
           }
          ],
          "scatterpolargl": [
           {
            "marker": {
             "colorbar": {
              "outlinewidth": 0,
              "ticks": ""
             }
            },
            "type": "scatterpolargl"
           }
          ],
          "scatterternary": [
           {
            "marker": {
             "colorbar": {
              "outlinewidth": 0,
              "ticks": ""
             }
            },
            "type": "scatterternary"
           }
          ],
          "surface": [
           {
            "colorbar": {
             "outlinewidth": 0,
             "ticks": ""
            },
            "colorscale": [
             [
              0,
              "#0d0887"
             ],
             [
              0.1111111111111111,
              "#46039f"
             ],
             [
              0.2222222222222222,
              "#7201a8"
             ],
             [
              0.3333333333333333,
              "#9c179e"
             ],
             [
              0.4444444444444444,
              "#bd3786"
             ],
             [
              0.5555555555555556,
              "#d8576b"
             ],
             [
              0.6666666666666666,
              "#ed7953"
             ],
             [
              0.7777777777777778,
              "#fb9f3a"
             ],
             [
              0.8888888888888888,
              "#fdca26"
             ],
             [
              1,
              "#f0f921"
             ]
            ],
            "type": "surface"
           }
          ],
          "table": [
           {
            "cells": {
             "fill": {
              "color": "#EBF0F8"
             },
             "line": {
              "color": "white"
             }
            },
            "header": {
             "fill": {
              "color": "#C8D4E3"
             },
             "line": {
              "color": "white"
             }
            },
            "type": "table"
           }
          ]
         },
         "layout": {
          "annotationdefaults": {
           "arrowcolor": "#2a3f5f",
           "arrowhead": 0,
           "arrowwidth": 1
          },
          "coloraxis": {
           "colorbar": {
            "outlinewidth": 0,
            "ticks": ""
           }
          },
          "colorscale": {
           "diverging": [
            [
             0,
             "#8e0152"
            ],
            [
             0.1,
             "#c51b7d"
            ],
            [
             0.2,
             "#de77ae"
            ],
            [
             0.3,
             "#f1b6da"
            ],
            [
             0.4,
             "#fde0ef"
            ],
            [
             0.5,
             "#f7f7f7"
            ],
            [
             0.6,
             "#e6f5d0"
            ],
            [
             0.7,
             "#b8e186"
            ],
            [
             0.8,
             "#7fbc41"
            ],
            [
             0.9,
             "#4d9221"
            ],
            [
             1,
             "#276419"
            ]
           ],
           "sequential": [
            [
             0,
             "#0d0887"
            ],
            [
             0.1111111111111111,
             "#46039f"
            ],
            [
             0.2222222222222222,
             "#7201a8"
            ],
            [
             0.3333333333333333,
             "#9c179e"
            ],
            [
             0.4444444444444444,
             "#bd3786"
            ],
            [
             0.5555555555555556,
             "#d8576b"
            ],
            [
             0.6666666666666666,
             "#ed7953"
            ],
            [
             0.7777777777777778,
             "#fb9f3a"
            ],
            [
             0.8888888888888888,
             "#fdca26"
            ],
            [
             1,
             "#f0f921"
            ]
           ],
           "sequentialminus": [
            [
             0,
             "#0d0887"
            ],
            [
             0.1111111111111111,
             "#46039f"
            ],
            [
             0.2222222222222222,
             "#7201a8"
            ],
            [
             0.3333333333333333,
             "#9c179e"
            ],
            [
             0.4444444444444444,
             "#bd3786"
            ],
            [
             0.5555555555555556,
             "#d8576b"
            ],
            [
             0.6666666666666666,
             "#ed7953"
            ],
            [
             0.7777777777777778,
             "#fb9f3a"
            ],
            [
             0.8888888888888888,
             "#fdca26"
            ],
            [
             1,
             "#f0f921"
            ]
           ]
          },
          "colorway": [
           "#636efa",
           "#EF553B",
           "#00cc96",
           "#ab63fa",
           "#FFA15A",
           "#19d3f3",
           "#FF6692",
           "#B6E880",
           "#FF97FF",
           "#FECB52"
          ],
          "font": {
           "color": "#2a3f5f"
          },
          "geo": {
           "bgcolor": "white",
           "lakecolor": "white",
           "landcolor": "#E5ECF6",
           "showlakes": true,
           "showland": true,
           "subunitcolor": "white"
          },
          "hoverlabel": {
           "align": "left"
          },
          "hovermode": "closest",
          "mapbox": {
           "style": "light"
          },
          "paper_bgcolor": "white",
          "plot_bgcolor": "#E5ECF6",
          "polar": {
           "angularaxis": {
            "gridcolor": "white",
            "linecolor": "white",
            "ticks": ""
           },
           "bgcolor": "#E5ECF6",
           "radialaxis": {
            "gridcolor": "white",
            "linecolor": "white",
            "ticks": ""
           }
          },
          "scene": {
           "xaxis": {
            "backgroundcolor": "#E5ECF6",
            "gridcolor": "white",
            "gridwidth": 2,
            "linecolor": "white",
            "showbackground": true,
            "ticks": "",
            "zerolinecolor": "white"
           },
           "yaxis": {
            "backgroundcolor": "#E5ECF6",
            "gridcolor": "white",
            "gridwidth": 2,
            "linecolor": "white",
            "showbackground": true,
            "ticks": "",
            "zerolinecolor": "white"
           },
           "zaxis": {
            "backgroundcolor": "#E5ECF6",
            "gridcolor": "white",
            "gridwidth": 2,
            "linecolor": "white",
            "showbackground": true,
            "ticks": "",
            "zerolinecolor": "white"
           }
          },
          "shapedefaults": {
           "line": {
            "color": "#2a3f5f"
           }
          },
          "ternary": {
           "aaxis": {
            "gridcolor": "white",
            "linecolor": "white",
            "ticks": ""
           },
           "baxis": {
            "gridcolor": "white",
            "linecolor": "white",
            "ticks": ""
           },
           "bgcolor": "#E5ECF6",
           "caxis": {
            "gridcolor": "white",
            "linecolor": "white",
            "ticks": ""
           }
          },
          "title": {
           "x": 0.05
          },
          "xaxis": {
           "automargin": true,
           "gridcolor": "white",
           "linecolor": "white",
           "ticks": "",
           "title": {
            "standoff": 15
           },
           "zerolinecolor": "white",
           "zerolinewidth": 2
          },
          "yaxis": {
           "automargin": true,
           "gridcolor": "white",
           "linecolor": "white",
           "ticks": "",
           "title": {
            "standoff": 15
           },
           "zerolinecolor": "white",
           "zerolinewidth": 2
          }
         }
        },
        "title": {
         "text": "Global Computational Performance Metrics"
        },
        "violingap": 0,
        "violinmode": "overlay",
        "xaxis": {
         "anchor": "y",
         "domain": [
          0,
          0.45
         ],
         "gridcolor": "#DCDCDC",
         "matches": "x3",
         "showticklabels": false
        },
        "xaxis2": {
         "anchor": "y2",
         "domain": [
          0.55,
          1
         ],
         "gridcolor": "#DCDCDC",
         "matches": "x4",
         "showticklabels": false
        },
        "xaxis3": {
         "anchor": "y3",
         "domain": [
          0,
          0.45
         ],
         "gridcolor": "#DCDCDC"
        },
        "xaxis4": {
         "anchor": "y4",
         "domain": [
          0.55,
          1
         ],
         "gridcolor": "#DCDCDC"
        },
        "yaxis": {
         "anchor": "x",
         "domain": [
          0.625,
          1
         ],
         "title": {
          "text": "CPU/hour"
         }
        },
        "yaxis2": {
         "anchor": "x2",
         "domain": [
          0.625,
          1
         ],
         "title": {
          "text": "GB"
         }
        },
        "yaxis3": {
         "anchor": "x3",
         "domain": [
          0,
          0.375
         ],
         "title": {
          "text": "GB"
         }
        },
        "yaxis4": {
         "anchor": "x4",
         "domain": [
          0,
          0.375
         ],
         "title": {
          "text": "GB"
         }
        }
       }
      },
      "text/html": [
       "<div>\n",
       "        \n",
       "        \n",
       "            <div id=\"551db8c0-11be-49cb-af71-1f3304457771\" class=\"plotly-graph-div\" style=\"height:525px; width:100%;\"></div>\n",
       "            <script type=\"text/javascript\">\n",
       "                require([\"plotly\"], function(Plotly) {\n",
       "                    window.PLOTLYENV=window.PLOTLYENV || {};\n",
       "                    \n",
       "                if (document.getElementById(\"551db8c0-11be-49cb-af71-1f3304457771\")) {\n",
       "                    Plotly.newPlot(\n",
       "                        '551db8c0-11be-49cb-af71-1f3304457771',\n",
       "                        [{\"box\": {\"visible\": true}, \"fillcolor\": \"lightseagreen\", \"legendgroup\": \"Log\", \"line\": {\"color\": \"black\"}, \"meanline\": {\"visible\": true}, \"name\": \"Log\", \"opacity\": 0.6, \"scalegroup\": \"Log\", \"showlegend\": true, \"side\": \"negative\", \"spanmode\": \"hard\", \"type\": \"violin\", \"x\": [\"GATBMiniaPipeline\", \"SKESA\", \"BCALM2\", \"MINIA\", \"Unicycler\", \"MINIA\", \"SPAdes\", \"MEGAHIT\", \"SPAdes\", \"GATBMiniaPipeline\", \"SPAdes\", \"metaSPAdes\", \"SKESA\", \"Unicycler\", \"BCALM2\", \"BCALM2\", \"MINIA\", \"MEGAHIT\", \"MEGAHIT\", \"metaSPAdes\", \"SKESA\", \"metaSPAdes\", \"Unicycler\", \"IDBA-UD\", \"IDBA-UD\", \"IDBA-UD\", \"VelvetOptimizer\", \"VelvetOptimizer\", \"VelvetOptimizer\", \"VelvetOptimizer\", \"VelvetOptimizer\", \"VelvetOptimizer\", \"VelvetOptimizer\", \"VelvetOptimizer\", \"GATBMiniaPipeline\", \"VelvetOptimizer\", \"GATBMiniaPipeline\", \"GATBMiniaPipeline\"], \"xaxis\": \"x\", \"y\": [53.93389375, 8.667725694444446, 2.4936979166666666, 2.9500333333333333, 27.75825694444445, 1.9568368055555554, 36.93421527777778, 12.507134722222222, 12.3006, 33.30387222222222, 21.207899305555554, 11.685590277777779, 6.123674305555556, 83.20484375, 2.2821555555555553, 1.76198125, 5.552913888888889, 9.721638888888888, 12.638250000000001, 28.248513888888887, 22.812018749999996, 75.38933055555556, 49.941552083333335, 17.776822916666667, 23.964235416666668, 33.01134375, 1.5052666666666668, 1.884977777777778, 3.1296541666666666, 2.829850694444444, 3.2766375, 4.791984722222223, 3.818813194444445, 4.72651875, 33.22996180555556, 6.025555555555556, 33.476037500000004, 31.323304166666667], \"yaxis\": \"y\"}, {\"box\": {\"visible\": true}, \"fillcolor\": \"orange\", \"legendgroup\": \"Even\", \"line\": {\"color\": \"black\"}, \"meanline\": {\"visible\": true}, \"name\": \"Even\", \"opacity\": 0.6, \"scalegroup\": \"Even\", \"showlegend\": true, \"side\": \"positive\", \"spanmode\": \"hard\", \"type\": \"violin\", \"x\": [\"MEGAHIT\", \"MINIA\", \"VelvetOptimizer\", \"GATBMiniaPipeline\", \"MEGAHIT\", \"VelvetOptimizer\", \"SPAdes\", \"MEGAHIT\", \"SKESA\", \"SPAdes\", \"metaSPAdes\", \"BCALM2\", \"metaSPAdes\", \"SKESA\", \"SKESA\", \"Unicycler\", \"Unicycler\", \"BCALM2\", \"BCALM2\", \"metaSPAdes\", \"GATBMiniaPipeline\", \"MINIA\", \"Unicycler\", \"MINIA\", \"SPAdes\", \"VelvetOptimizer\", \"IDBA-UD\", \"IDBA-UD\", \"IDBA-UD\", \"GATBMiniaPipeline\", \"GATBMiniaPipeline\", \"GATBMiniaPipeline\"], \"xaxis\": \"x\", \"y\": [3.2914222222222222, 0.7499722222222222, 13.090127777777775, 23.6096875, 6.371694444444444, 10.897644444444444, 12.913725, 2.947552083333333, 3.5427027777777784, 2.9146493055555553, 12.911479166666664, 0.5078625, 12.149849999999999, 3.27765625, 3.110708333333333, 16.190455555555552, 27.050861111111107, 1.0229625, 0.5273854166666666, 3.487638194444444, 30.44795138888889, 1.322023611111111, 8.944172222222223, 0.5697500000000001, 7.050602777777778, 26.89838333333333, 10.850006944444443, 6.717624999999999, 5.710153472222222, 20.101116666666663, 18.816875, 19.92332222222222], \"yaxis\": \"y\"}, {\"line\": {\"color\": \"crimson\"}, \"mode\": \"lines\", \"name\": \"mean\", \"opacity\": 0.6, \"showlegend\": true, \"type\": \"scatter\", \"x\": [\"GATBMiniaPipeline\", \"MEGAHIT\", \"MINIA\", \"VelvetOptimizer\", \"GATBMiniaPipeline\", \"MEGAHIT\", \"VelvetOptimizer\", \"SKESA\", \"BCALM2\", \"SPAdes\", \"MINIA\", \"Unicycler\", \"MEGAHIT\", \"MINIA\", \"SPAdes\", \"SKESA\", \"SPAdes\", \"MEGAHIT\", \"SPAdes\", \"metaSPAdes\", \"GATBMiniaPipeline\", \"BCALM2\", \"SPAdes\", \"metaSPAdes\", \"SKESA\", \"metaSPAdes\", \"SKESA\", \"Unicycler\", \"BCALM2\", \"SKESA\", \"BCALM2\", \"Unicycler\", \"Unicycler\", \"MINIA\", \"BCALM2\", \"BCALM2\", \"metaSPAdes\", \"MEGAHIT\", \"GATBMiniaPipeline\", \"MINIA\", \"MEGAHIT\", \"metaSPAdes\", \"Unicycler\", \"MINIA\", \"SKESA\", \"SPAdes\", \"metaSPAdes\", \"Unicycler\", \"VelvetOptimizer\", \"IDBA-UD\", \"IDBA-UD\", \"IDBA-UD\", \"IDBA-UD\", \"IDBA-UD\", \"IDBA-UD\", \"VelvetOptimizer\", \"VelvetOptimizer\", \"VelvetOptimizer\", \"VelvetOptimizer\", \"VelvetOptimizer\", \"GATBMiniaPipeline\", \"VelvetOptimizer\", \"VelvetOptimizer\", \"VelvetOptimizer\", \"GATBMiniaPipeline\", \"GATBMiniaPipeline\", \"VelvetOptimizer\", \"GATBMiniaPipeline\", \"GATBMiniaPipeline\", \"GATBMiniaPipeline\"], \"xaxis\": \"x\", \"y\": [14.94379447420635, 14.94379447420635, 14.94379447420635, 14.94379447420635, 14.94379447420635, 14.94379447420635, 14.94379447420635, 14.94379447420635, 14.94379447420635, 14.94379447420635, 14.94379447420635, 14.94379447420635, 14.94379447420635, 14.94379447420635, 14.94379447420635, 14.94379447420635, 14.94379447420635, 14.94379447420635, 14.94379447420635, 14.94379447420635, 14.94379447420635, 14.94379447420635, 14.94379447420635, 14.94379447420635, 14.94379447420635, 14.94379447420635, 14.94379447420635, 14.94379447420635, 14.94379447420635, 14.94379447420635, 14.94379447420635, 14.94379447420635, 14.94379447420635, 14.94379447420635, 14.94379447420635, 14.94379447420635, 14.94379447420635, 14.94379447420635, 14.94379447420635, 14.94379447420635, 14.94379447420635, 14.94379447420635, 14.94379447420635, 14.94379447420635, 14.94379447420635, 14.94379447420635, 14.94379447420635, 14.94379447420635, 14.94379447420635, 14.94379447420635, 14.94379447420635, 14.94379447420635, 14.94379447420635, 14.94379447420635, 14.94379447420635, 14.94379447420635, 14.94379447420635, 14.94379447420635, 14.94379447420635, 14.94379447420635, 14.94379447420635, 14.94379447420635, 14.94379447420635, 14.94379447420635, 14.94379447420635, 14.94379447420635, 14.94379447420635, 14.94379447420635, 14.94379447420635, 14.94379447420635], \"yaxis\": \"y\"}, {\"box\": {\"visible\": true}, \"fillcolor\": \"lightseagreen\", \"legendgroup\": \"Log\", \"line\": {\"color\": \"black\"}, \"meanline\": {\"visible\": true}, \"name\": \"Log\", \"opacity\": 0.6, \"scalegroup\": \"Log\", \"showlegend\": false, \"side\": \"negative\", \"spanmode\": \"hard\", \"type\": \"violin\", \"x\": [\"GATBMiniaPipeline\", \"SKESA\", \"BCALM2\", \"MINIA\", \"Unicycler\", \"MINIA\", \"SPAdes\", \"MEGAHIT\", \"SPAdes\", \"GATBMiniaPipeline\", \"SPAdes\", \"metaSPAdes\", \"SKESA\", \"Unicycler\", \"BCALM2\", \"BCALM2\", \"MINIA\", \"MEGAHIT\", \"MEGAHIT\", \"metaSPAdes\", \"SKESA\", \"metaSPAdes\", \"Unicycler\", \"IDBA-UD\", \"IDBA-UD\", \"IDBA-UD\", \"VelvetOptimizer\", \"VelvetOptimizer\", \"VelvetOptimizer\", \"VelvetOptimizer\", \"VelvetOptimizer\", \"VelvetOptimizer\", \"VelvetOptimizer\", \"VelvetOptimizer\", \"GATBMiniaPipeline\", \"VelvetOptimizer\", \"GATBMiniaPipeline\", \"GATBMiniaPipeline\"], \"xaxis\": \"x2\", \"y\": [7.8, 10.2, 7.9, 6.3, 2.5, 7.1, 9.8, 9.4, 2.4, 7.3, 8.3, 2.3, 9.9, 16.0, 6.3, 7.1, 7.9, 7.6, 9.4, 8.5, 11.1, 25.1, 17.7, 18.5, 23.7, 24.5, 16.0, 16.0, 16.0, 32.0, 32.0, 32.0, 48.0, 48.0, 7.6, 48.0, 7.6, 7.7], \"yaxis\": \"y2\"}, {\"box\": {\"visible\": true}, \"fillcolor\": \"orange\", \"legendgroup\": \"Even\", \"line\": {\"color\": \"black\"}, \"meanline\": {\"visible\": true}, \"name\": \"Even\", \"opacity\": 0.6, \"scalegroup\": \"Even\", \"showlegend\": false, \"side\": \"positive\", \"spanmode\": \"hard\", \"type\": \"violin\", \"x\": [\"MEGAHIT\", \"MINIA\", \"VelvetOptimizer\", \"GATBMiniaPipeline\", \"MEGAHIT\", \"VelvetOptimizer\", \"SPAdes\", \"MEGAHIT\", \"SKESA\", \"SPAdes\", \"metaSPAdes\", \"BCALM2\", \"metaSPAdes\", \"SKESA\", \"SKESA\", \"Unicycler\", \"Unicycler\", \"BCALM2\", \"BCALM2\", \"metaSPAdes\", \"GATBMiniaPipeline\", \"MINIA\", \"Unicycler\", \"MINIA\", \"SPAdes\", \"VelvetOptimizer\", \"IDBA-UD\", \"IDBA-UD\", \"IDBA-UD\", \"GATBMiniaPipeline\", \"GATBMiniaPipeline\", \"GATBMiniaPipeline\"], \"xaxis\": \"x2\", \"y\": [1.7, 5.0, 16.0, 6.9, 2.1, 15.9, 4.7, 1.7, 9.2, 2.3, 6.3, 5.1, 4.6, 8.4, 8.7, 5.3, 11.0, 4.8, 5.0, 2.3, 5.7, 4.8, 2.6, 5.1, 2.5, 32.0, 10.3, 6.3, 5.6, 6.9, 6.9, 6.9], \"yaxis\": \"y2\"}, {\"line\": {\"color\": \"crimson\"}, \"mode\": \"lines\", \"name\": \"mean\", \"opacity\": 0.6, \"showlegend\": false, \"type\": \"scatter\", \"x\": [\"GATBMiniaPipeline\", \"MEGAHIT\", \"MINIA\", \"VelvetOptimizer\", \"GATBMiniaPipeline\", \"MEGAHIT\", \"VelvetOptimizer\", \"SKESA\", \"BCALM2\", \"SPAdes\", \"MINIA\", \"Unicycler\", \"MEGAHIT\", \"MINIA\", \"SPAdes\", \"SKESA\", \"SPAdes\", \"MEGAHIT\", \"SPAdes\", \"metaSPAdes\", \"GATBMiniaPipeline\", \"BCALM2\", \"SPAdes\", \"metaSPAdes\", \"SKESA\", \"metaSPAdes\", \"SKESA\", \"Unicycler\", \"BCALM2\", \"SKESA\", \"BCALM2\", \"Unicycler\", \"Unicycler\", \"MINIA\", \"BCALM2\", \"BCALM2\", \"metaSPAdes\", \"MEGAHIT\", \"GATBMiniaPipeline\", \"MINIA\", \"MEGAHIT\", \"metaSPAdes\", \"Unicycler\", \"MINIA\", \"SKESA\", \"SPAdes\", \"metaSPAdes\", \"Unicycler\", \"VelvetOptimizer\", \"IDBA-UD\", \"IDBA-UD\", \"IDBA-UD\", \"IDBA-UD\", \"IDBA-UD\", \"IDBA-UD\", \"VelvetOptimizer\", \"VelvetOptimizer\", \"VelvetOptimizer\", \"VelvetOptimizer\", \"VelvetOptimizer\", \"GATBMiniaPipeline\", \"VelvetOptimizer\", \"VelvetOptimizer\", \"VelvetOptimizer\", \"GATBMiniaPipeline\", \"GATBMiniaPipeline\", \"VelvetOptimizer\", \"GATBMiniaPipeline\", \"GATBMiniaPipeline\", \"GATBMiniaPipeline\"], \"xaxis\": \"x2\", \"y\": [11.544285714285715, 11.544285714285715, 11.544285714285715, 11.544285714285715, 11.544285714285715, 11.544285714285715, 11.544285714285715, 11.544285714285715, 11.544285714285715, 11.544285714285715, 11.544285714285715, 11.544285714285715, 11.544285714285715, 11.544285714285715, 11.544285714285715, 11.544285714285715, 11.544285714285715, 11.544285714285715, 11.544285714285715, 11.544285714285715, 11.544285714285715, 11.544285714285715, 11.544285714285715, 11.544285714285715, 11.544285714285715, 11.544285714285715, 11.544285714285715, 11.544285714285715, 11.544285714285715, 11.544285714285715, 11.544285714285715, 11.544285714285715, 11.544285714285715, 11.544285714285715, 11.544285714285715, 11.544285714285715, 11.544285714285715, 11.544285714285715, 11.544285714285715, 11.544285714285715, 11.544285714285715, 11.544285714285715, 11.544285714285715, 11.544285714285715, 11.544285714285715, 11.544285714285715, 11.544285714285715, 11.544285714285715, 11.544285714285715, 11.544285714285715, 11.544285714285715, 11.544285714285715, 11.544285714285715, 11.544285714285715, 11.544285714285715, 11.544285714285715, 11.544285714285715, 11.544285714285715, 11.544285714285715, 11.544285714285715, 11.544285714285715, 11.544285714285715, 11.544285714285715, 11.544285714285715, 11.544285714285715, 11.544285714285715, 11.544285714285715, 11.544285714285715, 11.544285714285715, 11.544285714285715], \"yaxis\": \"y2\"}, {\"box\": {\"visible\": true}, \"fillcolor\": \"lightseagreen\", \"legendgroup\": \"Log\", \"line\": {\"color\": \"black\"}, \"meanline\": {\"visible\": true}, \"name\": \"Log\", \"opacity\": 0.6, \"scalegroup\": \"Log\", \"showlegend\": false, \"side\": \"negative\", \"spanmode\": \"hard\", \"type\": \"violin\", \"x\": [\"GATBMiniaPipeline\", \"SKESA\", \"BCALM2\", \"MINIA\", \"Unicycler\", \"MINIA\", \"SPAdes\", \"MEGAHIT\", \"SPAdes\", \"GATBMiniaPipeline\", \"SPAdes\", \"metaSPAdes\", \"SKESA\", \"Unicycler\", \"BCALM2\", \"BCALM2\", \"MINIA\", \"MEGAHIT\", \"MEGAHIT\", \"metaSPAdes\", \"SKESA\", \"metaSPAdes\", \"Unicycler\", \"IDBA-UD\", \"IDBA-UD\", \"IDBA-UD\", \"VelvetOptimizer\", \"VelvetOptimizer\", \"VelvetOptimizer\", \"VelvetOptimizer\", \"VelvetOptimizer\", \"VelvetOptimizer\", \"VelvetOptimizer\", \"VelvetOptimizer\", \"GATBMiniaPipeline\", \"VelvetOptimizer\", \"GATBMiniaPipeline\", \"GATBMiniaPipeline\"], \"xaxis\": \"x3\", \"y\": [207.6, 2.7, 28.2, 34.6, 168.2, 19.7, 52.8, 83.0, 46.4, 196.4, 53.4, 58.3, 3.0, 212.7, 33.4, 19.2, 29.1, 76.2, 80.3, 69.3, 1.5, 68.5, 169.5, 17.9, 20.9, 20.0, 115.1, 141.0, 115.2, 163.2, 157.4, 138.9, 171.9, 181.1, 137.5, 156.3, 139.8, 139.4], \"yaxis\": \"y3\"}, {\"box\": {\"visible\": true}, \"fillcolor\": \"orange\", \"legendgroup\": \"Even\", \"line\": {\"color\": \"black\"}, \"meanline\": {\"visible\": true}, \"name\": \"Even\", \"opacity\": 0.6, \"scalegroup\": \"Even\", \"showlegend\": false, \"side\": \"positive\", \"spanmode\": \"hard\", \"type\": \"violin\", \"x\": [\"MEGAHIT\", \"MINIA\", \"VelvetOptimizer\", \"GATBMiniaPipeline\", \"MEGAHIT\", \"VelvetOptimizer\", \"SPAdes\", \"MEGAHIT\", \"SKESA\", \"SPAdes\", \"metaSPAdes\", \"BCALM2\", \"metaSPAdes\", \"SKESA\", \"SKESA\", \"Unicycler\", \"Unicycler\", \"BCALM2\", \"BCALM2\", \"metaSPAdes\", \"GATBMiniaPipeline\", \"MINIA\", \"Unicycler\", \"MINIA\", \"SPAdes\", \"VelvetOptimizer\", \"IDBA-UD\", \"IDBA-UD\", \"IDBA-UD\", \"GATBMiniaPipeline\", \"GATBMiniaPipeline\", \"GATBMiniaPipeline\"], \"xaxis\": \"x3\", \"y\": [16.5, 7.7, 304.5, 65.6, 22.3, 242.5, 15.9, 17.0, 0.8847999999999999, 8.8, 16.2, 5.8, 12.8, 0.3025, 0.49260000000000004, 41.0, 52.0, 16.2, 7.1, 11.0, 113.3, 17.3, 39.5, 6.3, 9.9, 238.5, 8.8, 5.7, 5.4, 51.9, 52.8, 53.0], \"yaxis\": \"y3\"}, {\"line\": {\"color\": \"crimson\"}, \"mode\": \"lines\", \"name\": \"mean\", \"opacity\": 0.6, \"showlegend\": false, \"type\": \"scatter\", \"x\": [\"GATBMiniaPipeline\", \"MEGAHIT\", \"MINIA\", \"VelvetOptimizer\", \"GATBMiniaPipeline\", \"MEGAHIT\", \"VelvetOptimizer\", \"SKESA\", \"BCALM2\", \"SPAdes\", \"MINIA\", \"Unicycler\", \"MEGAHIT\", \"MINIA\", \"SPAdes\", \"SKESA\", \"SPAdes\", \"MEGAHIT\", \"SPAdes\", \"metaSPAdes\", \"GATBMiniaPipeline\", \"BCALM2\", \"SPAdes\", \"metaSPAdes\", \"SKESA\", \"metaSPAdes\", \"SKESA\", \"Unicycler\", \"BCALM2\", \"SKESA\", \"BCALM2\", \"Unicycler\", \"Unicycler\", \"MINIA\", \"BCALM2\", \"BCALM2\", \"metaSPAdes\", \"MEGAHIT\", \"GATBMiniaPipeline\", \"MINIA\", \"MEGAHIT\", \"metaSPAdes\", \"Unicycler\", \"MINIA\", \"SKESA\", \"SPAdes\", \"metaSPAdes\", \"Unicycler\", \"VelvetOptimizer\", \"IDBA-UD\", \"IDBA-UD\", \"IDBA-UD\", \"IDBA-UD\", \"IDBA-UD\", \"IDBA-UD\", \"VelvetOptimizer\", \"VelvetOptimizer\", \"VelvetOptimizer\", \"VelvetOptimizer\", \"VelvetOptimizer\", \"GATBMiniaPipeline\", \"VelvetOptimizer\", \"VelvetOptimizer\", \"VelvetOptimizer\", \"GATBMiniaPipeline\", \"GATBMiniaPipeline\", \"VelvetOptimizer\", \"GATBMiniaPipeline\", \"GATBMiniaPipeline\", \"GATBMiniaPipeline\"], \"xaxis\": \"x3\", \"y\": [71.37971285714286, 71.37971285714286, 71.37971285714286, 71.37971285714286, 71.37971285714286, 71.37971285714286, 71.37971285714286, 71.37971285714286, 71.37971285714286, 71.37971285714286, 71.37971285714286, 71.37971285714286, 71.37971285714286, 71.37971285714286, 71.37971285714286, 71.37971285714286, 71.37971285714286, 71.37971285714286, 71.37971285714286, 71.37971285714286, 71.37971285714286, 71.37971285714286, 71.37971285714286, 71.37971285714286, 71.37971285714286, 71.37971285714286, 71.37971285714286, 71.37971285714286, 71.37971285714286, 71.37971285714286, 71.37971285714286, 71.37971285714286, 71.37971285714286, 71.37971285714286, 71.37971285714286, 71.37971285714286, 71.37971285714286, 71.37971285714286, 71.37971285714286, 71.37971285714286, 71.37971285714286, 71.37971285714286, 71.37971285714286, 71.37971285714286, 71.37971285714286, 71.37971285714286, 71.37971285714286, 71.37971285714286, 71.37971285714286, 71.37971285714286, 71.37971285714286, 71.37971285714286, 71.37971285714286, 71.37971285714286, 71.37971285714286, 71.37971285714286, 71.37971285714286, 71.37971285714286, 71.37971285714286, 71.37971285714286, 71.37971285714286, 71.37971285714286, 71.37971285714286, 71.37971285714286, 71.37971285714286, 71.37971285714286, 71.37971285714286, 71.37971285714286, 71.37971285714286, 71.37971285714286], \"yaxis\": \"y3\"}, {\"box\": {\"visible\": true}, \"fillcolor\": \"lightseagreen\", \"legendgroup\": \"Log\", \"line\": {\"color\": \"black\"}, \"meanline\": {\"visible\": true}, \"name\": \"Log\", \"opacity\": 0.6, \"scalegroup\": \"Log\", \"showlegend\": false, \"side\": \"negative\", \"spanmode\": \"hard\", \"type\": \"violin\", \"x\": [\"GATBMiniaPipeline\", \"SKESA\", \"BCALM2\", \"MINIA\", \"Unicycler\", \"MINIA\", \"SPAdes\", \"MEGAHIT\", \"SPAdes\", \"GATBMiniaPipeline\", \"SPAdes\", \"metaSPAdes\", \"SKESA\", \"Unicycler\", \"BCALM2\", \"BCALM2\", \"MINIA\", \"MEGAHIT\", \"MEGAHIT\", \"metaSPAdes\", \"SKESA\", \"metaSPAdes\", \"Unicycler\", \"IDBA-UD\", \"IDBA-UD\", \"IDBA-UD\", \"VelvetOptimizer\", \"VelvetOptimizer\", \"VelvetOptimizer\", \"VelvetOptimizer\", \"VelvetOptimizer\", \"VelvetOptimizer\", \"VelvetOptimizer\", \"VelvetOptimizer\", \"GATBMiniaPipeline\", \"VelvetOptimizer\", \"GATBMiniaPipeline\", \"GATBMiniaPipeline\"], \"xaxis\": \"x4\", \"y\": [98.7, 0.0256, 16.2, 14.6, 129.5, 14.2, 103.3, 32.0, 29.3, 81.3, 101.3, 29.5, 0.0086, 1024.0, 14.6, 14.1, 16.3, 29.4, 31.7, 101.5, 0.0189, 103.5, 630.7, 2.5, 5.7, 4.6, 65.6, 65.6, 53.7, 71.8, 73.0, 59.6, 78.4, 80.7, 81.8, 65.3, 81.7, 81.7], \"yaxis\": \"y4\"}, {\"box\": {\"visible\": true}, \"fillcolor\": \"orange\", \"legendgroup\": \"Even\", \"line\": {\"color\": \"black\"}, \"meanline\": {\"visible\": true}, \"name\": \"Even\", \"opacity\": 0.6, \"scalegroup\": \"Even\", \"showlegend\": false, \"side\": \"positive\", \"spanmode\": \"hard\", \"type\": \"violin\", \"x\": [\"MEGAHIT\", \"MINIA\", \"VelvetOptimizer\", \"GATBMiniaPipeline\", \"MEGAHIT\", \"VelvetOptimizer\", \"SPAdes\", \"MEGAHIT\", \"SKESA\", \"SPAdes\", \"metaSPAdes\", \"BCALM2\", \"metaSPAdes\", \"SKESA\", \"SKESA\", \"Unicycler\", \"Unicycler\", \"BCALM2\", \"BCALM2\", \"metaSPAdes\", \"GATBMiniaPipeline\", \"MINIA\", \"Unicycler\", \"MINIA\", \"SPAdes\", \"VelvetOptimizer\", \"IDBA-UD\", \"IDBA-UD\", \"IDBA-UD\", \"GATBMiniaPipeline\", \"GATBMiniaPipeline\", \"GATBMiniaPipeline\"], \"xaxis\": \"x4\", \"y\": [7.0, 3.8, 39.9, 26.5, 9.5, 30.0, 106.4, 7.1, 0.0291, 10.8, 64.4, 3.4, 29.5, 0.0288, 0.0287, 320.1, 761.4, 6.8, 3.7, 11.0, 40.9, 6.8, 125.3, 3.5, 29.3, 48.8, 5.0, 2.7, 2.5, 23.7, 23.7, 23.7], \"yaxis\": \"y4\"}, {\"line\": {\"color\": \"crimson\"}, \"mode\": \"lines\", \"name\": \"mean\", \"opacity\": 0.6, \"showlegend\": false, \"type\": \"scatter\", \"x\": [\"GATBMiniaPipeline\", \"MEGAHIT\", \"MINIA\", \"VelvetOptimizer\", \"GATBMiniaPipeline\", \"MEGAHIT\", \"VelvetOptimizer\", \"SKESA\", \"BCALM2\", \"SPAdes\", \"MINIA\", \"Unicycler\", \"MEGAHIT\", \"MINIA\", \"SPAdes\", \"SKESA\", \"SPAdes\", \"MEGAHIT\", \"SPAdes\", \"metaSPAdes\", \"GATBMiniaPipeline\", \"BCALM2\", \"SPAdes\", \"metaSPAdes\", \"SKESA\", \"metaSPAdes\", \"SKESA\", \"Unicycler\", \"BCALM2\", \"SKESA\", \"BCALM2\", \"Unicycler\", \"Unicycler\", \"MINIA\", \"BCALM2\", \"BCALM2\", \"metaSPAdes\", \"MEGAHIT\", \"GATBMiniaPipeline\", \"MINIA\", \"MEGAHIT\", \"metaSPAdes\", \"Unicycler\", \"MINIA\", \"SKESA\", \"SPAdes\", \"metaSPAdes\", \"Unicycler\", \"VelvetOptimizer\", \"IDBA-UD\", \"IDBA-UD\", \"IDBA-UD\", \"IDBA-UD\", \"IDBA-UD\", \"IDBA-UD\", \"VelvetOptimizer\", \"VelvetOptimizer\", \"VelvetOptimizer\", \"VelvetOptimizer\", \"VelvetOptimizer\", \"GATBMiniaPipeline\", \"VelvetOptimizer\", \"VelvetOptimizer\", \"VelvetOptimizer\", \"GATBMiniaPipeline\", \"GATBMiniaPipeline\", \"VelvetOptimizer\", \"GATBMiniaPipeline\", \"GATBMiniaPipeline\", \"GATBMiniaPipeline\"], \"xaxis\": \"x4\", \"y\": [75.21056714285714, 75.21056714285714, 75.21056714285714, 75.21056714285714, 75.21056714285714, 75.21056714285714, 75.21056714285714, 75.21056714285714, 75.21056714285714, 75.21056714285714, 75.21056714285714, 75.21056714285714, 75.21056714285714, 75.21056714285714, 75.21056714285714, 75.21056714285714, 75.21056714285714, 75.21056714285714, 75.21056714285714, 75.21056714285714, 75.21056714285714, 75.21056714285714, 75.21056714285714, 75.21056714285714, 75.21056714285714, 75.21056714285714, 75.21056714285714, 75.21056714285714, 75.21056714285714, 75.21056714285714, 75.21056714285714, 75.21056714285714, 75.21056714285714, 75.21056714285714, 75.21056714285714, 75.21056714285714, 75.21056714285714, 75.21056714285714, 75.21056714285714, 75.21056714285714, 75.21056714285714, 75.21056714285714, 75.21056714285714, 75.21056714285714, 75.21056714285714, 75.21056714285714, 75.21056714285714, 75.21056714285714, 75.21056714285714, 75.21056714285714, 75.21056714285714, 75.21056714285714, 75.21056714285714, 75.21056714285714, 75.21056714285714, 75.21056714285714, 75.21056714285714, 75.21056714285714, 75.21056714285714, 75.21056714285714, 75.21056714285714, 75.21056714285714, 75.21056714285714, 75.21056714285714, 75.21056714285714, 75.21056714285714, 75.21056714285714, 75.21056714285714, 75.21056714285714, 75.21056714285714], \"yaxis\": \"y4\"}],\n",
       "                        {\"annotations\": [{\"font\": {\"size\": 16}, \"showarrow\": false, \"text\": \"CPU\", \"x\": 0.225, \"xanchor\": \"center\", \"xref\": \"paper\", \"y\": 1.0, \"yanchor\": \"bottom\", \"yref\": \"paper\"}, {\"font\": {\"size\": 16}, \"showarrow\": false, \"text\": \"Memory\", \"x\": 0.775, \"xanchor\": \"center\", \"xref\": \"paper\", \"y\": 1.0, \"yanchor\": \"bottom\", \"yref\": \"paper\"}, {\"font\": {\"size\": 16}, \"showarrow\": false, \"text\": \"Read\", \"x\": 0.225, \"xanchor\": \"center\", \"xref\": \"paper\", \"y\": 0.375, \"yanchor\": \"bottom\", \"yref\": \"paper\"}, {\"font\": {\"size\": 16}, \"showarrow\": false, \"text\": \"Write\", \"x\": 0.775, \"xanchor\": \"center\", \"xref\": \"paper\", \"y\": 0.375, \"yanchor\": \"bottom\", \"yref\": \"paper\"}, {\"font\": {\"size\": 16}, \"showarrow\": false, \"text\": \"Assembler\", \"x\": 0.5, \"xanchor\": \"center\", \"xref\": \"paper\", \"y\": 0, \"yanchor\": \"top\", \"yref\": \"paper\", \"yshift\": -30}], \"plot_bgcolor\": \"rgb(255,255,255)\", \"template\": {\"data\": {\"bar\": [{\"error_x\": {\"color\": \"#2a3f5f\"}, \"error_y\": {\"color\": \"#2a3f5f\"}, \"marker\": {\"line\": {\"color\": \"#E5ECF6\", \"width\": 0.5}}, \"type\": \"bar\"}], \"barpolar\": [{\"marker\": {\"line\": {\"color\": \"#E5ECF6\", \"width\": 0.5}}, \"type\": \"barpolar\"}], \"carpet\": [{\"aaxis\": {\"endlinecolor\": \"#2a3f5f\", \"gridcolor\": \"white\", \"linecolor\": \"white\", \"minorgridcolor\": \"white\", \"startlinecolor\": \"#2a3f5f\"}, \"baxis\": {\"endlinecolor\": \"#2a3f5f\", \"gridcolor\": \"white\", \"linecolor\": \"white\", \"minorgridcolor\": \"white\", \"startlinecolor\": \"#2a3f5f\"}, \"type\": \"carpet\"}], \"choropleth\": [{\"colorbar\": {\"outlinewidth\": 0, \"ticks\": \"\"}, \"type\": \"choropleth\"}], \"contour\": [{\"colorbar\": {\"outlinewidth\": 0, \"ticks\": \"\"}, \"colorscale\": [[0.0, \"#0d0887\"], [0.1111111111111111, \"#46039f\"], [0.2222222222222222, \"#7201a8\"], [0.3333333333333333, \"#9c179e\"], [0.4444444444444444, \"#bd3786\"], [0.5555555555555556, \"#d8576b\"], [0.6666666666666666, \"#ed7953\"], [0.7777777777777778, \"#fb9f3a\"], [0.8888888888888888, \"#fdca26\"], [1.0, \"#f0f921\"]], \"type\": \"contour\"}], \"contourcarpet\": [{\"colorbar\": {\"outlinewidth\": 0, \"ticks\": \"\"}, \"type\": \"contourcarpet\"}], \"heatmap\": [{\"colorbar\": {\"outlinewidth\": 0, \"ticks\": \"\"}, \"colorscale\": [[0.0, \"#0d0887\"], [0.1111111111111111, \"#46039f\"], [0.2222222222222222, \"#7201a8\"], [0.3333333333333333, \"#9c179e\"], [0.4444444444444444, \"#bd3786\"], [0.5555555555555556, \"#d8576b\"], [0.6666666666666666, \"#ed7953\"], [0.7777777777777778, \"#fb9f3a\"], [0.8888888888888888, \"#fdca26\"], [1.0, \"#f0f921\"]], \"type\": \"heatmap\"}], \"heatmapgl\": [{\"colorbar\": {\"outlinewidth\": 0, \"ticks\": \"\"}, \"colorscale\": [[0.0, \"#0d0887\"], [0.1111111111111111, \"#46039f\"], [0.2222222222222222, \"#7201a8\"], [0.3333333333333333, \"#9c179e\"], [0.4444444444444444, \"#bd3786\"], [0.5555555555555556, \"#d8576b\"], [0.6666666666666666, \"#ed7953\"], [0.7777777777777778, \"#fb9f3a\"], [0.8888888888888888, \"#fdca26\"], [1.0, \"#f0f921\"]], \"type\": \"heatmapgl\"}], \"histogram\": [{\"marker\": {\"colorbar\": {\"outlinewidth\": 0, \"ticks\": \"\"}}, \"type\": \"histogram\"}], \"histogram2d\": [{\"colorbar\": {\"outlinewidth\": 0, \"ticks\": \"\"}, \"colorscale\": [[0.0, \"#0d0887\"], [0.1111111111111111, \"#46039f\"], [0.2222222222222222, \"#7201a8\"], [0.3333333333333333, \"#9c179e\"], [0.4444444444444444, \"#bd3786\"], [0.5555555555555556, \"#d8576b\"], [0.6666666666666666, \"#ed7953\"], [0.7777777777777778, \"#fb9f3a\"], [0.8888888888888888, \"#fdca26\"], [1.0, \"#f0f921\"]], \"type\": \"histogram2d\"}], \"histogram2dcontour\": [{\"colorbar\": {\"outlinewidth\": 0, \"ticks\": \"\"}, \"colorscale\": [[0.0, \"#0d0887\"], [0.1111111111111111, \"#46039f\"], [0.2222222222222222, \"#7201a8\"], [0.3333333333333333, \"#9c179e\"], [0.4444444444444444, \"#bd3786\"], [0.5555555555555556, \"#d8576b\"], [0.6666666666666666, \"#ed7953\"], [0.7777777777777778, \"#fb9f3a\"], [0.8888888888888888, \"#fdca26\"], [1.0, \"#f0f921\"]], \"type\": \"histogram2dcontour\"}], \"mesh3d\": [{\"colorbar\": {\"outlinewidth\": 0, \"ticks\": \"\"}, \"type\": \"mesh3d\"}], \"parcoords\": [{\"line\": {\"colorbar\": {\"outlinewidth\": 0, \"ticks\": \"\"}}, \"type\": \"parcoords\"}], \"pie\": [{\"automargin\": true, \"type\": \"pie\"}], \"scatter\": [{\"marker\": {\"colorbar\": {\"outlinewidth\": 0, \"ticks\": \"\"}}, \"type\": \"scatter\"}], \"scatter3d\": [{\"line\": {\"colorbar\": {\"outlinewidth\": 0, \"ticks\": \"\"}}, \"marker\": {\"colorbar\": {\"outlinewidth\": 0, \"ticks\": \"\"}}, \"type\": \"scatter3d\"}], \"scattercarpet\": [{\"marker\": {\"colorbar\": {\"outlinewidth\": 0, \"ticks\": \"\"}}, \"type\": \"scattercarpet\"}], \"scattergeo\": [{\"marker\": {\"colorbar\": {\"outlinewidth\": 0, \"ticks\": \"\"}}, \"type\": \"scattergeo\"}], \"scattergl\": [{\"marker\": {\"colorbar\": {\"outlinewidth\": 0, \"ticks\": \"\"}}, \"type\": \"scattergl\"}], \"scattermapbox\": [{\"marker\": {\"colorbar\": {\"outlinewidth\": 0, \"ticks\": \"\"}}, \"type\": \"scattermapbox\"}], \"scatterpolar\": [{\"marker\": {\"colorbar\": {\"outlinewidth\": 0, \"ticks\": \"\"}}, \"type\": \"scatterpolar\"}], \"scatterpolargl\": [{\"marker\": {\"colorbar\": {\"outlinewidth\": 0, \"ticks\": \"\"}}, \"type\": \"scatterpolargl\"}], \"scatterternary\": [{\"marker\": {\"colorbar\": {\"outlinewidth\": 0, \"ticks\": \"\"}}, \"type\": \"scatterternary\"}], \"surface\": [{\"colorbar\": {\"outlinewidth\": 0, \"ticks\": \"\"}, \"colorscale\": [[0.0, \"#0d0887\"], [0.1111111111111111, \"#46039f\"], [0.2222222222222222, \"#7201a8\"], [0.3333333333333333, \"#9c179e\"], [0.4444444444444444, \"#bd3786\"], [0.5555555555555556, \"#d8576b\"], [0.6666666666666666, \"#ed7953\"], [0.7777777777777778, \"#fb9f3a\"], [0.8888888888888888, \"#fdca26\"], [1.0, \"#f0f921\"]], \"type\": \"surface\"}], \"table\": [{\"cells\": {\"fill\": {\"color\": \"#EBF0F8\"}, \"line\": {\"color\": \"white\"}}, \"header\": {\"fill\": {\"color\": \"#C8D4E3\"}, \"line\": {\"color\": \"white\"}}, \"type\": \"table\"}]}, \"layout\": {\"annotationdefaults\": {\"arrowcolor\": \"#2a3f5f\", \"arrowhead\": 0, \"arrowwidth\": 1}, \"coloraxis\": {\"colorbar\": {\"outlinewidth\": 0, \"ticks\": \"\"}}, \"colorscale\": {\"diverging\": [[0, \"#8e0152\"], [0.1, \"#c51b7d\"], [0.2, \"#de77ae\"], [0.3, \"#f1b6da\"], [0.4, \"#fde0ef\"], [0.5, \"#f7f7f7\"], [0.6, \"#e6f5d0\"], [0.7, \"#b8e186\"], [0.8, \"#7fbc41\"], [0.9, \"#4d9221\"], [1, \"#276419\"]], \"sequential\": [[0.0, \"#0d0887\"], [0.1111111111111111, \"#46039f\"], [0.2222222222222222, \"#7201a8\"], [0.3333333333333333, \"#9c179e\"], [0.4444444444444444, \"#bd3786\"], [0.5555555555555556, \"#d8576b\"], [0.6666666666666666, \"#ed7953\"], [0.7777777777777778, \"#fb9f3a\"], [0.8888888888888888, \"#fdca26\"], [1.0, \"#f0f921\"]], \"sequentialminus\": [[0.0, \"#0d0887\"], [0.1111111111111111, \"#46039f\"], [0.2222222222222222, \"#7201a8\"], [0.3333333333333333, \"#9c179e\"], [0.4444444444444444, \"#bd3786\"], [0.5555555555555556, \"#d8576b\"], [0.6666666666666666, \"#ed7953\"], [0.7777777777777778, \"#fb9f3a\"], [0.8888888888888888, \"#fdca26\"], [1.0, \"#f0f921\"]]}, \"colorway\": [\"#636efa\", \"#EF553B\", \"#00cc96\", \"#ab63fa\", \"#FFA15A\", \"#19d3f3\", \"#FF6692\", \"#B6E880\", \"#FF97FF\", \"#FECB52\"], \"font\": {\"color\": \"#2a3f5f\"}, \"geo\": {\"bgcolor\": \"white\", \"lakecolor\": \"white\", \"landcolor\": \"#E5ECF6\", \"showlakes\": true, \"showland\": true, \"subunitcolor\": \"white\"}, \"hoverlabel\": {\"align\": \"left\"}, \"hovermode\": \"closest\", \"mapbox\": {\"style\": \"light\"}, \"paper_bgcolor\": \"white\", \"plot_bgcolor\": \"#E5ECF6\", \"polar\": {\"angularaxis\": {\"gridcolor\": \"white\", \"linecolor\": \"white\", \"ticks\": \"\"}, \"bgcolor\": \"#E5ECF6\", \"radialaxis\": {\"gridcolor\": \"white\", \"linecolor\": \"white\", \"ticks\": \"\"}}, \"scene\": {\"xaxis\": {\"backgroundcolor\": \"#E5ECF6\", \"gridcolor\": \"white\", \"gridwidth\": 2, \"linecolor\": \"white\", \"showbackground\": true, \"ticks\": \"\", \"zerolinecolor\": \"white\"}, \"yaxis\": {\"backgroundcolor\": \"#E5ECF6\", \"gridcolor\": \"white\", \"gridwidth\": 2, \"linecolor\": \"white\", \"showbackground\": true, \"ticks\": \"\", \"zerolinecolor\": \"white\"}, \"zaxis\": {\"backgroundcolor\": \"#E5ECF6\", \"gridcolor\": \"white\", \"gridwidth\": 2, \"linecolor\": \"white\", \"showbackground\": true, \"ticks\": \"\", \"zerolinecolor\": \"white\"}}, \"shapedefaults\": {\"line\": {\"color\": \"#2a3f5f\"}}, \"ternary\": {\"aaxis\": {\"gridcolor\": \"white\", \"linecolor\": \"white\", \"ticks\": \"\"}, \"baxis\": {\"gridcolor\": \"white\", \"linecolor\": \"white\", \"ticks\": \"\"}, \"bgcolor\": \"#E5ECF6\", \"caxis\": {\"gridcolor\": \"white\", \"linecolor\": \"white\", \"ticks\": \"\"}}, \"title\": {\"x\": 0.05}, \"xaxis\": {\"automargin\": true, \"gridcolor\": \"white\", \"linecolor\": \"white\", \"ticks\": \"\", \"title\": {\"standoff\": 15}, \"zerolinecolor\": \"white\", \"zerolinewidth\": 2}, \"yaxis\": {\"automargin\": true, \"gridcolor\": \"white\", \"linecolor\": \"white\", \"ticks\": \"\", \"title\": {\"standoff\": 15}, \"zerolinecolor\": \"white\", \"zerolinewidth\": 2}}}, \"title\": {\"text\": \"Global Computational Performance Metrics\"}, \"violingap\": 0, \"violinmode\": \"overlay\", \"xaxis\": {\"anchor\": \"y\", \"domain\": [0.0, 0.45], \"gridcolor\": \"#DCDCDC\", \"matches\": \"x3\", \"showticklabels\": false}, \"xaxis2\": {\"anchor\": \"y2\", \"domain\": [0.55, 1.0], \"gridcolor\": \"#DCDCDC\", \"matches\": \"x4\", \"showticklabels\": false}, \"xaxis3\": {\"anchor\": \"y3\", \"domain\": [0.0, 0.45], \"gridcolor\": \"#DCDCDC\"}, \"xaxis4\": {\"anchor\": \"y4\", \"domain\": [0.55, 1.0], \"gridcolor\": \"#DCDCDC\"}, \"yaxis\": {\"anchor\": \"x\", \"domain\": [0.625, 1.0], \"title\": {\"text\": \"CPU/hour\"}}, \"yaxis2\": {\"anchor\": \"x2\", \"domain\": [0.625, 1.0], \"title\": {\"text\": \"GB\"}}, \"yaxis3\": {\"anchor\": \"x3\", \"domain\": [0.0, 0.375], \"title\": {\"text\": \"GB\"}}, \"yaxis4\": {\"anchor\": \"x4\", \"domain\": [0.0, 0.375], \"title\": {\"text\": \"GB\"}}},\n",
       "                        {\"responsive\": true}\n",
       "                    ).then(function(){\n",
       "                            \n",
       "var gd = document.getElementById('551db8c0-11be-49cb-af71-1f3304457771');\n",
       "var x = new MutationObserver(function (mutations, observer) {{\n",
       "        var display = window.getComputedStyle(gd).display;\n",
       "        if (!display || display === 'none') {{\n",
       "            console.log([gd, 'removed!']);\n",
       "            Plotly.purge(gd);\n",
       "            observer.disconnect();\n",
       "        }}\n",
       "}});\n",
       "\n",
       "// Listen for the removal of the full notebook cells\n",
       "var notebookContainer = gd.closest('#notebook-container');\n",
       "if (notebookContainer) {{\n",
       "    x.observe(notebookContainer, {childList: true});\n",
       "}}\n",
       "\n",
       "// Listen for the clearing of the current output cell\n",
       "var outputEl = gd.closest('.output');\n",
       "if (outputEl) {{\n",
       "    x.observe(outputEl, {childList: true});\n",
       "}}\n",
       "\n",
       "                        })\n",
       "                };\n",
       "                });\n",
       "            </script>\n",
       "        </div>"
      ]
     },
     "metadata": {},
     "output_type": "display_data"
    }
   ],
   "source": [
    "fig_per_sample = make_subplots(rows=2, cols=2, shared_xaxes=True, x_title=\"Assembler\", \n",
    "                           subplot_titles=('CPU', 'Memory', 'Read', 'Write'))\n",
    "row_coord = 1\n",
    "col_coord = 1\n",
    "\n",
    "for column in ['cpus', 'rss', 'rchar', 'wchar']:\n",
    "    showlegend = True if (row_coord == 1 and col_coord == 1) else False\n",
    "\n",
    "    #log\n",
    "    fig_per_sample.add_trace(go.Violin(y=pipeline_stats_df[column][pipeline_stats_df['distribution'] == 'Log'],\n",
    "                                    x=pipeline_stats_df['assembler'][pipeline_stats_df['distribution'] == 'Log'],\n",
    "                                    legendgroup='Log', scalegroup='Log', name='Log', box_visible=True, line_color='black',\n",
    "                                    meanline_visible=True, fillcolor='lightseagreen', opacity=0.6, side='negative',\n",
    "                                    showlegend=showlegend, spanmode='hard'),\n",
    "                          row=row_coord, col=col_coord)\n",
    "    \n",
    "    #even\n",
    "    fig_per_sample.add_trace(go.Violin(y=pipeline_stats_df[column][pipeline_stats_df['distribution'] == 'Even'],\n",
    "                                    x=pipeline_stats_df['assembler'][pipeline_stats_df['distribution'] == 'Even'],\n",
    "                                    legendgroup='Even', scalegroup='Even', name='Even', box_visible=True, line_color='black',\n",
    "                                    meanline_visible=True, fillcolor='orange', opacity=0.6, side='positive',\n",
    "                                    showlegend=showlegend, spanmode='hard'), \n",
    "                          row=row_coord, col=col_coord)\n",
    "\n",
    "    \n",
    "    fig_per_sample.add_trace(go.Scatter(y=[pipeline_stats_df[column].mean()]*len(pipeline_stats_df['assembler']), \n",
    "                                    x=pipeline_stats_df['assembler'], mode='lines', name='mean',\n",
    "                                    line=dict(color=\"crimson\"), opacity=0.6, showlegend=showlegend),\n",
    "                          row=row_coord, col=col_coord)\n",
    "    if col_coord == 2:\n",
    "        col_coord = 1\n",
    "        row_coord += 1\n",
    "    else:\n",
    "        col_coord +=1\n",
    "\n",
    "fig_per_sample.update_layout(plot_bgcolor='rgb(255,255,255)', title_text=\"Global Computational Performance Metrics\")\n",
    "# grid\n",
    "fig_per_sample['layout']['xaxis']['gridcolor']='#DCDCDC'\n",
    "fig_per_sample['layout']['xaxis2']['gridcolor']='#DCDCDC'\n",
    "fig_per_sample['layout']['xaxis3']['gridcolor']='#DCDCDC'\n",
    "fig_per_sample['layout']['xaxis4']['gridcolor']='#DCDCDC'\n",
    "# y-axis legends\n",
    "fig_per_sample['layout']['yaxis']['title']='CPU/hour'\n",
    "fig_per_sample['layout']['yaxis2']['title']='GB'\n",
    "fig_per_sample['layout']['yaxis3']['title']='GB'\n",
    "fig_per_sample['layout']['yaxis4']['title']='GB'\n",
    "\n",
    "fig_per_sample.update_layout(violingap=0, violinmode='overlay')\n",
    "\n",
    "\n",
    "fig_per_sample.show()"
   ]
  },
  {
   "cell_type": "code",
   "execution_count": 93,
   "metadata": {},
   "outputs": [
    {
     "data": {
      "text/plain": [
       "0     0.0\n",
       "1     0.0\n",
       "2     0.0\n",
       "3     0.0\n",
       "4     0.0\n",
       "     ... \n",
       "65    0.0\n",
       "66    0.0\n",
       "67    0.0\n",
       "68    0.0\n",
       "69    0.0\n",
       "Name: realtime, Length: 70, dtype: float64"
      ]
     },
     "execution_count": 93,
     "metadata": {},
     "output_type": "execute_result"
    }
   ],
   "source": [
    "round(pd.to_timedelta(pipeline_stats_df['realtime'])/ np.timedelta64(1, 'h'), 2)"
   ]
  },
  {
   "cell_type": "code",
   "execution_count": null,
   "metadata": {},
   "outputs": [],
   "source": [
    "timeDF=round(pd.to_timedelta(pipeline_stats_df['realtime'].str.strip())/ np.timedelta64(1, 'h'), 2)\n",
    "\n",
    "fig_time = go.Figure()\n",
    "fig_time.add_trace(go.Bar(y=timeDF, x=global_pipeline_stats_df['assembler'], text=timeDF,textposition='outside', \n",
    "                          showlegend=False, marker_color='darkgray'))\n",
    "fig_time.add_trace(go.Scatter(y=[timeDF.mean()]*len(global_pipeline_stats_df['assembler']), \n",
    "                              x=global_pipeline_stats_df['assembler'], mode='lines',\n",
    "                              line=dict(color=\"crimson\"), opacity=0.6, name='Mean'))\n",
    "\n",
    "fig_time.update_layout(showlegend=True, plot_bgcolor='rgb(255,255,255)', title_text=\"Average Run Time\")\n",
    "fig_time['layout']['xaxis']['gridcolor']='#DCDCDC'\n",
    "fig_time['layout']['yaxis']['title']='Hours'\n",
    "\n",
    "fig_time.show()\n",
    "\n",
    "\n",
    "fig_time_delta = go.Figure()\n",
    "\n",
    "fig_misassembly.add_trace(go.Violin(y=bacillus_subtillis_df['misassemblies'][bacillus_subtillis_df['distribution'] == 'Log'], \n",
    "                                    x=bacillus_subtillis_df['assembler'][bacillus_subtillis_df['distribution'] == 'Log'],\n",
    "                                    box_visible=True, line_color='black',legendgroup='Log', scalegroup='Log', name='Log',\n",
    "                                    meanline_visible=True, fillcolor='lightseagreen', opacity=0.6, side='negative',\n",
    "                                    showlegend=True, spanmode='hard'))\n",
    "fig_misassembly.add_trace(go.Violin(y=bacillus_subtillis_df['misassemblies'][bacillus_subtillis_df['distribution'] == 'Even'], \n",
    "                                    x=bacillus_subtillis_df['assembler'][bacillus_subtillis_df['distribution'] == 'Even'],\n",
    "                                    box_visible=True, line_color='black',legendgroup='Even', scalegroup='Even', name='Even',\n",
    "                                    meanline_visible=True, fillcolor='orange', opacity=0.6, side='positive',\n",
    "                                    showlegend=True, spanmode='hard'))\n",
    "fig_misassembly.add_trace(go.Scatter(y=[bacillus_subtillis_df['misassemblies'].mean()]*len(bacillus_subtillis_df['assembler']), \n",
    "                                     x=bacillus_subtillis_df['assembler'], mode='lines',name='mean',\n",
    "                                     line=dict(color=\"crimson\"), opacity=0.6))\n",
    "\n",
    "\n",
    "\n",
    "fig_misassembly.update_layout(showlegend=True,plot_bgcolor='rgb(255,255,255)', title_text=\"Misassemblies for Bacillus Subtillis\")\n",
    "# grid\n",
    "fig_misassembly['layout']['xaxis']['gridcolor']='#DCDCDC'\n",
    "\n",
    "fig_misassembly.update_layout(violingap=0, violinmode='overlay')\n",
    "\n",
    "fig_misassembly.show()"
   ]
  }
 ],
 "metadata": {
  "kernelspec": {
   "display_name": "Python 3",
   "language": "python",
   "name": "python3"
  },
  "language_info": {
   "codemirror_mode": {
    "name": "ipython",
    "version": 3
   },
   "file_extension": ".py",
   "mimetype": "text/x-python",
   "name": "python",
   "nbconvert_exporter": "python",
   "pygments_lexer": "ipython3",
   "version": "3.7.6"
  }
 },
 "nbformat": 4,
 "nbformat_minor": 4
}
