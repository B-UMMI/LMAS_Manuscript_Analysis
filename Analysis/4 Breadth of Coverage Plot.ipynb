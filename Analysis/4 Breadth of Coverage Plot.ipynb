{
 "cells": [
  {
   "cell_type": "markdown",
   "metadata": {},
   "source": [
    "# 4. Assembler rubustness - Breadth of Coverage"
   ]
  },
  {
   "cell_type": "markdown",
   "metadata": {},
   "source": [
    "## Imports"
   ]
  },
  {
   "cell_type": "code",
   "execution_count": 1,
   "metadata": {},
   "outputs": [],
   "source": [
    "import sys\n",
    "from plotly.offline import plot\n",
    "import glob\n",
    "import fnmatch\n",
    "import plotly.graph_objects as go\n",
    "from plotly.subplots import make_subplots\n",
    "import json\n",
    "import pandas as pd\n",
    "from itertools import groupby\n",
    "import csv\n",
    "import numpy as np\n",
    "from statistics import mean"
   ]
  },
  {
   "cell_type": "markdown",
   "metadata": {},
   "source": [
    "## Global variables"
   ]
  },
  {
   "cell_type": "code",
   "execution_count": 2,
   "metadata": {},
   "outputs": [],
   "source": [
    "ASSEMBLER_PROCESS_LIST = [\"ABYSS\", \"BCALM2\", \"GATBMINIAPIPELINE\", \"METAHIPMER2\", \"MINIA\", \"MEGAHIT\", \"METASPADES\", \"UNICYCLER\", \"SPADES\",\n",
    "                          \"SKESA\", \"VELVETOPTIMIZER\", \"IDBA\"]\n",
    "PROCESS_TO_NAME = {\"ABYSS\": \"ABySS\",\n",
    "                   \"BCALM2\": \"BCALM2\", \n",
    "                   \"GATBMINIAPIPELINE\": \"GATBMiniaPipeline\",\n",
    "                   \"METAHIPMER2\": \"MetaHipMer2\",\n",
    "                   \"MINIA\": \"MINIA\",\n",
    "                   \"MEGAHIT\": \"MEGAHIT\", \n",
    "                   \"METASPADES\": \"metaSPAdes\", \n",
    "                   \"UNICYCLER\": \"Unicycler\", \n",
    "                   \"SPADES\": \"SPAdes\",\n",
    "                    \"SKESA\": \"SKESA\",\n",
    "                   \"VELVETOPTIMIZER\": \"VelvetOptimizer\",\n",
    "                   \"IDBA\": \"IDBA-UD\"}\n",
    "\n",
    "REFERENCE_TO_NAME = {\"Bacillus_subtilis\":\"<i>Bacillus subtilis</i>\",\n",
    "                    \"Enterococcus_faecalis\":\"<i>Enterococcus faecalis</i>\",\n",
    "                    \"Escherichia_coli\":\"<i>Escherichia coli</i>\",\n",
    "                    \"Escherichia_coli_plasmid\": np.nan,\n",
    "                    \"Lactobacillus_fermentum\": \"<i>Lactobacillus fermentum</i>\",\n",
    "                    \"Listeria_monocytogenes\": \"<i>Listeria monocytogenes</i>\",\n",
    "                    \"Pseudomonas_aeruginosa\": \"<i>Pseudomonas aeruginosa</i>\",\n",
    "                    \"Salmonella_enterica\": \"<i>Salmonella enterica</i>\",\n",
    "                    \"Staphylococcus_aureus\": \"<i>Staphylococcus aureus</i>\",\n",
    "                    \"Staphylococcus_aureus_plasmid1\": np.nan,\n",
    "                    \"Staphylococcus_aureus_plasmid2\": np.nan,\n",
    "                    \"Staphylococcus_aureus_plasmid3\": np.nan}\n",
    "\n",
    "skipped_assemblers = ['ABySS', 'BCALM2', 'MINIA', 'VelvetOptimiser', 'MetaHipMer2']\n",
    "\n",
    "log_distributed = ['LHS', 'LNN', 'ERR2935805']\n",
    "even_distribution = ['EMS', 'LNN', 'ERR2984773']\n",
    "\n",
    "COLOURS = ['#5876c8', '#58AEC8', '#39B185', '#9CCB86', '#EEB479', '#E88471', '#a54765', '#a42a2a', '#835221']"
   ]
  },
  {
   "cell_type": "markdown",
   "metadata": {},
   "source": [
    "## Load data"
   ]
  },
  {
   "cell_type": "code",
   "execution_count": 3,
   "metadata": {},
   "outputs": [
    {
     "data": {
      "text/html": [
       "<div>\n",
       "<style scoped>\n",
       "    .dataframe tbody tr th:only-of-type {\n",
       "        vertical-align: middle;\n",
       "    }\n",
       "\n",
       "    .dataframe tbody tr th {\n",
       "        vertical-align: top;\n",
       "    }\n",
       "\n",
       "    .dataframe thead th {\n",
       "        text-align: right;\n",
       "    }\n",
       "</style>\n",
       "<table border=\"1\" class=\"dataframe\">\n",
       "  <thead>\n",
       "    <tr style=\"text-align: right;\">\n",
       "      <th></th>\n",
       "      <th>Unnamed: 0</th>\n",
       "      <th>Reference</th>\n",
       "      <th>Breadth of Coverage</th>\n",
       "      <th>Contigs</th>\n",
       "      <th>run</th>\n",
       "      <th>Sample</th>\n",
       "      <th>Assembler</th>\n",
       "      <th>distribution</th>\n",
       "    </tr>\n",
       "  </thead>\n",
       "  <tbody>\n",
       "    <tr>\n",
       "      <th>0</th>\n",
       "      <td>0</td>\n",
       "      <td>&lt;i&gt;Bacillus subtilis&lt;/i&gt;</td>\n",
       "      <td>0.980668</td>\n",
       "      <td>30</td>\n",
       "      <td>run1</td>\n",
       "      <td>ENN</td>\n",
       "      <td>SKESA</td>\n",
       "      <td>Even</td>\n",
       "    </tr>\n",
       "    <tr>\n",
       "      <th>1</th>\n",
       "      <td>1</td>\n",
       "      <td>&lt;i&gt;Enterococcus faecalis&lt;/i&gt;</td>\n",
       "      <td>0.983352</td>\n",
       "      <td>52</td>\n",
       "      <td>run1</td>\n",
       "      <td>ENN</td>\n",
       "      <td>SKESA</td>\n",
       "      <td>Even</td>\n",
       "    </tr>\n",
       "    <tr>\n",
       "      <th>3</th>\n",
       "      <td>3</td>\n",
       "      <td>&lt;i&gt;Escherichia coli&lt;/i&gt;</td>\n",
       "      <td>0.957014</td>\n",
       "      <td>270</td>\n",
       "      <td>run1</td>\n",
       "      <td>ENN</td>\n",
       "      <td>SKESA</td>\n",
       "      <td>Even</td>\n",
       "    </tr>\n",
       "    <tr>\n",
       "      <th>4</th>\n",
       "      <td>4</td>\n",
       "      <td>&lt;i&gt;Lactobacillus fermentum&lt;/i&gt;</td>\n",
       "      <td>0.931404</td>\n",
       "      <td>94</td>\n",
       "      <td>run1</td>\n",
       "      <td>ENN</td>\n",
       "      <td>SKESA</td>\n",
       "      <td>Even</td>\n",
       "    </tr>\n",
       "    <tr>\n",
       "      <th>5</th>\n",
       "      <td>5</td>\n",
       "      <td>&lt;i&gt;Listeria monocytogenes&lt;/i&gt;</td>\n",
       "      <td>0.972489</td>\n",
       "      <td>24</td>\n",
       "      <td>run1</td>\n",
       "      <td>ENN</td>\n",
       "      <td>SKESA</td>\n",
       "      <td>Even</td>\n",
       "    </tr>\n",
       "    <tr>\n",
       "      <th>...</th>\n",
       "      <td>...</td>\n",
       "      <td>...</td>\n",
       "      <td>...</td>\n",
       "      <td>...</td>\n",
       "      <td>...</td>\n",
       "      <td>...</td>\n",
       "      <td>...</td>\n",
       "      <td>...</td>\n",
       "    </tr>\n",
       "    <tr>\n",
       "      <th>4</th>\n",
       "      <td>4</td>\n",
       "      <td>&lt;i&gt;Lactobacillus fermentum&lt;/i&gt;</td>\n",
       "      <td>0.936384</td>\n",
       "      <td>95</td>\n",
       "      <td>run2</td>\n",
       "      <td>ERR2984773</td>\n",
       "      <td>metaSPAdes</td>\n",
       "      <td>Even</td>\n",
       "    </tr>\n",
       "    <tr>\n",
       "      <th>5</th>\n",
       "      <td>5</td>\n",
       "      <td>&lt;i&gt;Listeria monocytogenes&lt;/i&gt;</td>\n",
       "      <td>0.976109</td>\n",
       "      <td>25</td>\n",
       "      <td>run2</td>\n",
       "      <td>ERR2984773</td>\n",
       "      <td>metaSPAdes</td>\n",
       "      <td>Even</td>\n",
       "    </tr>\n",
       "    <tr>\n",
       "      <th>6</th>\n",
       "      <td>6</td>\n",
       "      <td>&lt;i&gt;Pseudomonas aeruginosa&lt;/i&gt;</td>\n",
       "      <td>0.989600</td>\n",
       "      <td>100</td>\n",
       "      <td>run2</td>\n",
       "      <td>ERR2984773</td>\n",
       "      <td>metaSPAdes</td>\n",
       "      <td>Even</td>\n",
       "    </tr>\n",
       "    <tr>\n",
       "      <th>7</th>\n",
       "      <td>7</td>\n",
       "      <td>&lt;i&gt;Salmonella enterica&lt;/i&gt;</td>\n",
       "      <td>0.977899</td>\n",
       "      <td>145</td>\n",
       "      <td>run2</td>\n",
       "      <td>ERR2984773</td>\n",
       "      <td>metaSPAdes</td>\n",
       "      <td>Even</td>\n",
       "    </tr>\n",
       "    <tr>\n",
       "      <th>8</th>\n",
       "      <td>8</td>\n",
       "      <td>&lt;i&gt;Staphylococcus aureus&lt;/i&gt;</td>\n",
       "      <td>0.983494</td>\n",
       "      <td>49</td>\n",
       "      <td>run2</td>\n",
       "      <td>ERR2984773</td>\n",
       "      <td>metaSPAdes</td>\n",
       "      <td>Even</td>\n",
       "    </tr>\n",
       "  </tbody>\n",
       "</table>\n",
       "<p>504 rows × 8 columns</p>\n",
       "</div>"
      ],
      "text/plain": [
       "    Unnamed: 0                       Reference  Breadth of Coverage  Contigs  \\\n",
       "0            0        <i>Bacillus subtilis</i>             0.980668       30   \n",
       "1            1    <i>Enterococcus faecalis</i>             0.983352       52   \n",
       "3            3         <i>Escherichia coli</i>             0.957014      270   \n",
       "4            4  <i>Lactobacillus fermentum</i>             0.931404       94   \n",
       "5            5   <i>Listeria monocytogenes</i>             0.972489       24   \n",
       "..         ...                             ...                  ...      ...   \n",
       "4            4  <i>Lactobacillus fermentum</i>             0.936384       95   \n",
       "5            5   <i>Listeria monocytogenes</i>             0.976109       25   \n",
       "6            6   <i>Pseudomonas aeruginosa</i>             0.989600      100   \n",
       "7            7      <i>Salmonella enterica</i>             0.977899      145   \n",
       "8            8    <i>Staphylococcus aureus</i>             0.983494       49   \n",
       "\n",
       "     run      Sample   Assembler distribution  \n",
       "0   run1         ENN       SKESA         Even  \n",
       "1   run1         ENN       SKESA         Even  \n",
       "3   run1         ENN       SKESA         Even  \n",
       "4   run1         ENN       SKESA         Even  \n",
       "5   run1         ENN       SKESA         Even  \n",
       "..   ...         ...         ...          ...  \n",
       "4   run2  ERR2984773  metaSPAdes         Even  \n",
       "5   run2  ERR2984773  metaSPAdes         Even  \n",
       "6   run2  ERR2984773  metaSPAdes         Even  \n",
       "7   run2  ERR2984773  metaSPAdes         Even  \n",
       "8   run2  ERR2984773  metaSPAdes         Even  \n",
       "\n",
       "[504 rows x 8 columns]"
      ]
     },
     "execution_count": 3,
     "metadata": {},
     "output_type": "execute_result"
    }
   ],
   "source": [
    "_files = glob.glob('../Results/*/*/results/*/stats/*_breadth_of_coverage_contigs.csv')\n",
    "\n",
    "df_list = []\n",
    "for f in _files:\n",
    "    run = f.split('/')[-5]\n",
    "    sample = f.split('/')[-3]\n",
    "    assembler = f.split('/')[-1].split('_')[1]\n",
    "    if assembler not in skipped_assemblers:\n",
    "        df = pd.read_csv(f)\n",
    "        df['run'] = run\n",
    "        df['Sample'] = sample\n",
    "        df['Assembler'] = assembler\n",
    "        df_list.append(df)\n",
    "\n",
    "df = pd.concat(df_list)\n",
    "df['distribution'] = np.where(df['Sample'].isin(log_distributed), 'Log', 'Even')\n",
    "df = df[df.distribution != 'Log']\n",
    "df['Reference'] = df['Reference'].map(REFERENCE_TO_NAME)\n",
    "df = df.dropna()\n",
    "df"
   ]
  },
  {
   "cell_type": "code",
   "execution_count": 4,
   "metadata": {},
   "outputs": [
    {
     "data": {
      "text/plain": [
       "8"
      ]
     },
     "execution_count": 4,
     "metadata": {},
     "output_type": "execute_result"
    }
   ],
   "source": [
    "len(df[\"Reference\"].unique())"
   ]
  },
  {
   "cell_type": "code",
   "execution_count": 5,
   "metadata": {},
   "outputs": [
    {
     "data": {
      "text/plain": [
       "0.9224167114095017"
      ]
     },
     "execution_count": 5,
     "metadata": {},
     "output_type": "execute_result"
    }
   ],
   "source": [
    "min(df[\"Breadth of Coverage\"])"
   ]
  },
  {
   "cell_type": "markdown",
   "metadata": {},
   "source": [
    "## Explore data"
   ]
  },
  {
   "cell_type": "code",
   "execution_count": 6,
   "metadata": {},
   "outputs": [
    {
     "name": "stdout",
     "output_type": "stream",
     "text": [
      "->SKESA\n",
      "  -<i>Bacillus subtilis</i>\n",
      "       Unnamed: 0  Breadth of Coverage    Contigs\n",
      "count         9.0             9.000000   9.000000\n",
      "mean          0.0             0.981254  30.000000\n",
      "std           0.0             0.000448   3.464102\n",
      "min           0.0             0.980668  26.000000\n",
      "25%           0.0             0.980668  26.000000\n",
      "50%           0.0             0.981446  30.000000\n",
      "75%           0.0             0.981648  34.000000\n",
      "max           0.0             0.981648  34.000000\n",
      "  -<i>Enterococcus faecalis</i>\n",
      "       Unnamed: 0  Breadth of Coverage    Contigs\n",
      "count         9.0             9.000000   9.000000\n",
      "mean          1.0             0.984697  54.666667\n",
      "std           0.0             0.002226  14.000000\n",
      "min           1.0             0.983078  40.000000\n",
      "25%           1.0             0.983078  40.000000\n",
      "50%           1.0             0.983352  52.000000\n",
      "75%           1.0             0.987661  72.000000\n",
      "max           1.0             0.987661  72.000000\n",
      "  -<i>Escherichia coli</i>\n",
      "       Unnamed: 0  Breadth of Coverage     Contigs\n",
      "count         9.0             9.000000    9.000000\n",
      "mean          3.0             0.959380  219.666667\n",
      "std           0.0             0.001829   39.783791\n",
      "min           3.0             0.957014  180.000000\n",
      "25%           3.0             0.957014  180.000000\n",
      "50%           3.0             0.960051  209.000000\n",
      "75%           3.0             0.961074  270.000000\n",
      "max           3.0             0.961074  270.000000\n",
      "  -<i>Lactobacillus fermentum</i>\n",
      "       Unnamed: 0  Breadth of Coverage    Contigs\n",
      "count         9.0             9.000000   9.000000\n",
      "mean          4.0             0.928679  88.666667\n",
      "std           0.0             0.004710   4.000000\n",
      "min           4.0             0.922417  86.000000\n",
      "25%           4.0             0.922417  86.000000\n",
      "50%           4.0             0.931404  86.000000\n",
      "75%           4.0             0.932218  94.000000\n",
      "max           4.0             0.932218  94.000000\n",
      "  -<i>Listeria monocytogenes</i>\n",
      "       Unnamed: 0  Breadth of Coverage    Contigs\n",
      "count         9.0             9.000000   9.000000\n",
      "mean          5.0             0.973148  24.666667\n",
      "std           0.0             0.000597   5.220153\n",
      "min           5.0             0.972489  19.000000\n",
      "25%           5.0             0.972489  19.000000\n",
      "50%           5.0             0.973091  24.000000\n",
      "75%           5.0             0.973865  31.000000\n",
      "max           5.0             0.973865  31.000000\n",
      "  -<i>Pseudomonas aeruginosa</i>\n",
      "       Unnamed: 0  Breadth of Coverage     Contigs\n",
      "count         9.0             9.000000    9.000000\n",
      "mean          6.0             0.976042  451.000000\n",
      "std           0.0             0.009291  370.363335\n",
      "min           6.0             0.963658  117.000000\n",
      "25%           6.0             0.963658  117.000000\n",
      "50%           6.0             0.981947  303.000000\n",
      "75%           6.0             0.982520  933.000000\n",
      "max           6.0             0.982520  933.000000\n",
      "  -<i>Salmonella enterica</i>\n",
      "       Unnamed: 0  Breadth of Coverage     Contigs\n",
      "count         9.0             9.000000    9.000000\n",
      "mean          7.0             0.963305  198.333333\n",
      "std           0.0             0.004353   38.314488\n",
      "min           7.0             0.959395  157.000000\n",
      "25%           7.0             0.959395  157.000000\n",
      "50%           7.0             0.961547  193.000000\n",
      "75%           7.0             0.968974  245.000000\n",
      "max           7.0             0.968974  245.000000\n",
      "  -<i>Staphylococcus aureus</i>\n",
      "       Unnamed: 0  Breadth of Coverage    Contigs\n",
      "count         9.0             9.000000   9.000000\n",
      "mean          8.0             0.977095  68.333333\n",
      "std           0.0             0.001606   4.358899\n",
      "min           8.0             0.975447  63.000000\n",
      "25%           8.0             0.975447  63.000000\n",
      "50%           8.0             0.976733  69.000000\n",
      "75%           8.0             0.979104  73.000000\n",
      "max           8.0             0.979104  73.000000\n",
      "->MEGAHIT\n",
      "  -<i>Bacillus subtilis</i>\n",
      "       Unnamed: 0  Breadth of Coverage    Contigs\n",
      "count         9.0             9.000000   9.000000\n",
      "mean          0.0             0.985842  28.333333\n",
      "std           0.0             0.000359   2.000000\n",
      "min           0.0             0.985366  27.000000\n",
      "25%           0.0             0.985366  27.000000\n",
      "50%           0.0             0.986046  27.000000\n",
      "75%           0.0             0.986119  31.000000\n",
      "max           0.0             0.986119  31.000000\n",
      "  -<i>Enterococcus faecalis</i>\n",
      "       Unnamed: 0  Breadth of Coverage    Contigs\n",
      "count         9.0             9.000000   9.000000\n",
      "mean          1.0             0.984777  32.444444\n",
      "std           0.0             0.006680   1.509231\n",
      "min           1.0             0.979073  31.000000\n",
      "25%           1.0             0.979088  31.000000\n",
      "50%           1.0             0.979317  32.000000\n",
      "75%           1.0             0.991560  34.000000\n",
      "max           1.0             0.992072  35.000000\n",
      "  -<i>Escherichia coli</i>\n",
      "       Unnamed: 0  Breadth of Coverage     Contigs\n",
      "count         9.0             9.000000    9.000000\n",
      "mean          3.0             0.979134  136.666667\n",
      "std           0.0             0.001106    3.905125\n",
      "min           3.0             0.978365  132.000000\n",
      "25%           3.0             0.978387  132.000000\n",
      "50%           3.0             0.978403  137.000000\n",
      "75%           3.0             0.980607  141.000000\n",
      "max           3.0             0.980607  141.000000\n",
      "  -<i>Lactobacillus fermentum</i>\n",
      "       Unnamed: 0  Breadth of Coverage    Contigs\n",
      "count         9.0             9.000000   9.000000\n",
      "mean          4.0             0.948784  83.666667\n",
      "std           0.0             0.000326   3.278719\n",
      "min           4.0             0.948294  81.000000\n",
      "25%           4.0             0.948559  81.000000\n",
      "50%           4.0             0.948744  82.000000\n",
      "75%           4.0             0.949117  88.000000\n",
      "max           4.0             0.949201  88.000000\n",
      "  -<i>Listeria monocytogenes</i>\n",
      "       Unnamed: 0  Breadth of Coverage    Contigs\n",
      "count         9.0             9.000000   9.000000\n",
      "mean          5.0             0.984124  19.222222\n",
      "std           0.0             0.006234   0.666667\n",
      "min           5.0             0.977293  18.000000\n",
      "25%           5.0             0.977625  19.000000\n",
      "50%           5.0             0.989152  19.000000\n",
      "75%           5.0             0.989440  20.000000\n",
      "max           5.0             0.989584  20.000000\n",
      "  -<i>Pseudomonas aeruginosa</i>\n",
      "       Unnamed: 0  Breadth of Coverage    Contigs\n",
      "count         9.0             9.000000   9.000000\n",
      "mean          6.0             0.991301  80.666667\n",
      "std           0.0             0.000526   2.000000\n",
      "min           6.0             0.990842  78.000000\n",
      "25%           6.0             0.990862  78.000000\n",
      "50%           6.0             0.991063  82.000000\n",
      "75%           6.0             0.991978  82.000000\n",
      "max           6.0             0.991999  82.000000\n",
      "  -<i>Salmonella enterica</i>\n",
      "       Unnamed: 0  Breadth of Coverage     Contigs\n",
      "count         9.0             9.000000    9.000000\n",
      "mean          7.0             0.981123  103.333333\n",
      "std           0.0             0.000278    1.322876\n",
      "min           7.0             0.980874  102.000000\n",
      "25%           7.0             0.980874  102.000000\n",
      "50%           7.0             0.981011  103.000000\n",
      "75%           7.0             0.981485  105.000000\n",
      "max           7.0             0.981485  105.000000\n",
      "  -<i>Staphylococcus aureus</i>\n",
      "       Unnamed: 0  Breadth of Coverage    Contigs\n",
      "count         9.0             9.000000   9.000000\n",
      "mean          8.0             0.986136  40.000000\n",
      "std           0.0             0.000073   2.598076\n",
      "min           8.0             0.986045  37.000000\n",
      "25%           8.0             0.986045  37.000000\n",
      "50%           8.0             0.986153  40.000000\n",
      "75%           8.0             0.986211  43.000000\n",
      "max           8.0             0.986211  43.000000\n",
      "->metaSPAdes\n",
      "  -<i>Bacillus subtilis</i>\n",
      "       Unnamed: 0  Breadth of Coverage    Contigs\n",
      "count         9.0             9.000000   9.000000\n",
      "mean          0.0             0.984153  30.666667\n",
      "std           0.0             0.001323  15.402922\n",
      "min           0.0             0.982677  18.000000\n",
      "25%           0.0             0.982677  18.000000\n",
      "50%           0.0             0.984056  23.000000\n",
      "75%           0.0             0.985727  51.000000\n",
      "max           0.0             0.985727  51.000000\n",
      "  -<i>Enterococcus faecalis</i>\n",
      "       Unnamed: 0  Breadth of Coverage    Contigs\n",
      "count         9.0             9.000000   9.000000\n",
      "mean          1.0             0.986253  31.666667\n",
      "std           0.0             0.005283  14.525839\n",
      "min           1.0             0.979282  21.000000\n",
      "25%           1.0             0.979282  21.000000\n",
      "50%           1.0             0.988865  23.000000\n",
      "75%           1.0             0.990611  51.000000\n",
      "max           1.0             0.990611  51.000000\n",
      "  -<i>Escherichia coli</i>\n",
      "       Unnamed: 0  Breadth of Coverage     Contigs\n",
      "count         9.0             9.000000    9.000000\n",
      "mean          3.0             0.976473  111.666667\n",
      "std           0.0             0.002864   41.536129\n",
      "min           3.0             0.972836   82.000000\n",
      "25%           3.0             0.972836   82.000000\n",
      "50%           3.0             0.977283   86.000000\n",
      "75%           3.0             0.979299  167.000000\n",
      "max           3.0             0.979299  167.000000\n",
      "  -<i>Lactobacillus fermentum</i>\n",
      "       Unnamed: 0  Breadth of Coverage    Contigs\n",
      "count         9.0             9.000000   9.000000\n",
      "mean          4.0             0.940568  84.333333\n",
      "std           0.0             0.003142   8.046738\n",
      "min           4.0             0.936384  78.000000\n",
      "25%           4.0             0.936384  78.000000\n",
      "50%           4.0             0.942476  80.000000\n",
      "75%           4.0             0.942843  95.000000\n",
      "max           4.0             0.942843  95.000000\n",
      "  -<i>Listeria monocytogenes</i>\n",
      "       Unnamed: 0  Breadth of Coverage    Contigs\n",
      "count         9.0             9.000000   9.000000\n",
      "mean          5.0             0.980869  18.000000\n",
      "std           0.0             0.006553   5.408327\n",
      "min           5.0             0.976109  13.000000\n",
      "25%           5.0             0.976109  13.000000\n",
      "50%           5.0             0.976904  16.000000\n",
      "75%           5.0             0.989595  25.000000\n",
      "max           5.0             0.989595  25.000000\n",
      "  -<i>Pseudomonas aeruginosa</i>\n",
      "       Unnamed: 0  Breadth of Coverage    Contigs\n",
      "count         9.0             9.000000    9.00000\n",
      "mean          6.0             0.990079   71.00000\n",
      "std           0.0             0.000361   21.75431\n",
      "min           6.0             0.989600   56.00000\n",
      "25%           6.0             0.989600   56.00000\n",
      "50%           6.0             0.990271   57.00000\n",
      "75%           6.0             0.990365  100.00000\n",
      "max           6.0             0.990365  100.00000\n",
      "  -<i>Salmonella enterica</i>\n",
      "       Unnamed: 0  Breadth of Coverage     Contigs\n",
      "count         9.0             9.000000    9.000000\n",
      "mean          7.0             0.981110   85.333333\n",
      "std           0.0             0.002472   44.752095\n",
      "min           7.0             0.977899   55.000000\n",
      "25%           7.0             0.977899   55.000000\n",
      "50%           7.0             0.982070   56.000000\n",
      "75%           7.0             0.983360  145.000000\n",
      "max           7.0             0.983360  145.000000\n",
      "  -<i>Staphylococcus aureus</i>\n",
      "       Unnamed: 0  Breadth of Coverage    Contigs\n",
      "count         9.0             9.000000   9.000000\n",
      "mean          8.0             0.985492  30.333333\n",
      "std           0.0             0.001511  14.106736\n",
      "min           8.0             0.983494  19.000000\n",
      "25%           8.0             0.983494  19.000000\n",
      "50%           8.0             0.986268  23.000000\n",
      "75%           8.0             0.986715  49.000000\n",
      "max           8.0             0.986715  49.000000\n",
      "->GATBMiniaPipeline\n",
      "  -<i>Bacillus subtilis</i>\n",
      "       Unnamed: 0  Breadth of Coverage    Contigs\n",
      "count         9.0             9.000000   9.000000\n",
      "mean          0.0             0.984235  28.333333\n",
      "std           0.0             0.000485   1.322876\n",
      "min           0.0             0.983662  27.000000\n",
      "25%           0.0             0.983662  27.000000\n",
      "50%           0.0             0.984263  28.000000\n",
      "75%           0.0             0.984780  30.000000\n",
      "max           0.0             0.984780  30.000000\n",
      "  -<i>Enterococcus faecalis</i>\n",
      "       Unnamed: 0  Breadth of Coverage    Contigs\n",
      "count         9.0             9.000000   9.000000\n",
      "mean          1.0             0.983569  37.444444\n",
      "std           0.0             0.006730   7.264832\n",
      "min           1.0             0.976931  28.000000\n",
      "25%           1.0             0.978435  29.000000\n",
      "50%           1.0             0.978681  38.000000\n",
      "75%           1.0             0.990907  45.000000\n"
     ]
    },
    {
     "name": "stdout",
     "output_type": "stream",
     "text": [
      "max           1.0             0.991199  46.000000\n",
      "  -<i>Escherichia coli</i>\n",
      "       Unnamed: 0  Breadth of Coverage     Contigs\n",
      "count         9.0             9.000000    9.000000\n",
      "mean          3.0             0.970434  187.666667\n",
      "std           0.0             0.001546    8.674676\n",
      "min           3.0             0.968535  180.000000\n",
      "25%           3.0             0.968539  180.000000\n",
      "50%           3.0             0.970683  184.000000\n",
      "75%           3.0             0.972081  199.000000\n",
      "max           3.0             0.972081  199.000000\n",
      "  -<i>Lactobacillus fermentum</i>\n",
      "       Unnamed: 0  Breadth of Coverage  Contigs\n",
      "count         9.0             9.000000      9.0\n",
      "mean          4.0             0.942588     87.0\n",
      "std           0.0             0.001488      3.0\n",
      "min           4.0             0.940607     83.0\n",
      "25%           4.0             0.940710     83.0\n",
      "50%           4.0             0.943223     89.0\n",
      "75%           4.0             0.943839     89.0\n",
      "max           4.0             0.943938     89.0\n",
      "  -<i>Listeria monocytogenes</i>\n",
      "       Unnamed: 0  Breadth of Coverage    Contigs\n",
      "count         9.0             9.000000   9.000000\n",
      "mean          5.0             0.982092  20.888889\n",
      "std           0.0             0.006307   2.147350\n",
      "min           5.0             0.974358  19.000000\n",
      "25%           5.0             0.975590  19.000000\n",
      "50%           5.0             0.986244  20.000000\n",
      "75%           5.0             0.987434  23.000000\n",
      "max           5.0             0.988414  24.000000\n",
      "  -<i>Pseudomonas aeruginosa</i>\n",
      "       Unnamed: 0  Breadth of Coverage     Contigs\n",
      "count         9.0             9.000000    9.000000\n",
      "mean          6.0             0.987654  122.000000\n",
      "std           0.0             0.000891   33.045423\n",
      "min           6.0             0.986994   98.000000\n",
      "25%           6.0             0.987016   98.000000\n",
      "50%           6.0             0.987159  102.000000\n",
      "75%           6.0             0.988838  166.000000\n",
      "max           6.0             0.988839  166.000000\n",
      "  -<i>Salmonella enterica</i>\n",
      "       Unnamed: 0  Breadth of Coverage     Contigs\n",
      "count         9.0             9.000000    9.000000\n",
      "mean          7.0             0.976247  167.333333\n",
      "std           0.0             0.000926    8.717798\n",
      "min           7.0             0.975611  158.000000\n",
      "25%           7.0             0.975626  158.000000\n",
      "50%           7.0             0.975650  166.000000\n",
      "75%           7.0             0.977482  178.000000\n",
      "max           7.0             0.977484  178.000000\n",
      "  -<i>Staphylococcus aureus</i>\n",
      "       Unnamed: 0  Breadth of Coverage    Contigs\n",
      "count         9.0             9.000000   9.000000\n",
      "mean          8.0             0.984038  53.000000\n",
      "std           0.0             0.001365  10.392305\n",
      "min           8.0             0.982306  41.000000\n",
      "25%           8.0             0.982306  41.000000\n",
      "50%           8.0             0.984417  53.000000\n",
      "75%           8.0             0.985389  65.000000\n",
      "max           8.0             0.985389  65.000000\n",
      "->Unicycler\n",
      "  -<i>Bacillus subtilis</i>\n",
      "       Unnamed: 0  Breadth of Coverage    Contigs\n",
      "count         9.0             9.000000   9.000000\n",
      "mean          0.0             0.982500  20.000000\n",
      "std           0.0             0.000233   1.732051\n",
      "min           0.0             0.982220  18.000000\n",
      "25%           0.0             0.982220  18.000000\n",
      "50%           0.0             0.982525  20.000000\n",
      "75%           0.0             0.982755  22.000000\n",
      "max           0.0             0.982755  22.000000\n",
      "  -<i>Enterococcus faecalis</i>\n",
      "       Unnamed: 0  Breadth of Coverage    Contigs\n",
      "count         9.0             9.000000   9.000000\n",
      "mean          1.0             0.985199  23.333333\n",
      "std           0.0             0.005261   5.000000\n",
      "min           1.0             0.978188  20.000000\n",
      "25%           1.0             0.978188  20.000000\n",
      "50%           1.0             0.988532  20.000000\n",
      "75%           1.0             0.988879  30.000000\n",
      "max           1.0             0.988879  30.000000\n",
      "  -<i>Escherichia coli</i>\n",
      "       Unnamed: 0  Breadth of Coverage     Contigs\n",
      "count         9.0             9.000000    9.000000\n",
      "mean          3.0             0.969177   93.666667\n",
      "std           0.0             0.003816   17.197384\n",
      "min           3.0             0.964104   72.000000\n",
      "25%           3.0             0.964104   72.000000\n",
      "50%           3.0             0.971370   98.000000\n",
      "75%           3.0             0.972058  111.000000\n",
      "max           3.0             0.972058  111.000000\n",
      "  -<i>Lactobacillus fermentum</i>\n",
      "       Unnamed: 0  Breadth of Coverage    Contigs\n",
      "count         9.0             9.000000   9.000000\n",
      "mean          4.0             0.931005  78.666667\n",
      "std           0.0             0.000988   1.322876\n",
      "min           4.0             0.929700  77.000000\n",
      "25%           4.0             0.929700  77.000000\n",
      "50%           4.0             0.931493  79.000000\n",
      "75%           4.0             0.931820  80.000000\n",
      "max           4.0             0.931820  80.000000\n",
      "  -<i>Listeria monocytogenes</i>\n",
      "       Unnamed: 0  Breadth of Coverage    Contigs\n",
      "count         9.0             9.000000   9.000000\n",
      "mean          5.0             0.978462  16.333333\n",
      "std           0.0             0.006440   0.500000\n",
      "min           5.0             0.974016  16.000000\n",
      "25%           5.0             0.974016  16.000000\n",
      "50%           5.0             0.974324  16.000000\n",
      "75%           5.0             0.987047  17.000000\n",
      "max           5.0             0.987047  17.000000\n",
      "  -<i>Pseudomonas aeruginosa</i>\n",
      "       Unnamed: 0  Breadth of Coverage    Contigs\n",
      "count         9.0             9.000000   9.000000\n",
      "mean          6.0             0.988459  67.333333\n",
      "std           0.0             0.001239   7.566373\n",
      "min           6.0             0.987023  60.000000\n",
      "25%           6.0             0.987023  60.000000\n",
      "50%           6.0             0.988468  65.000000\n",
      "75%           6.0             0.989885  77.000000\n",
      "max           6.0             0.989885  77.000000\n",
      "  -<i>Salmonella enterica</i>\n",
      "       Unnamed: 0  Breadth of Coverage    Contigs\n",
      "count         9.0             9.000000   9.000000\n",
      "mean          7.0             0.976663  69.666667\n",
      "std           0.0             0.002036  16.889346\n",
      "min           7.0             0.974371  50.000000\n",
      "25%           7.0             0.974371  50.000000\n",
      "50%           7.0             0.976550  70.000000\n",
      "75%           7.0             0.979068  89.000000\n",
      "max           7.0             0.979068  89.000000\n",
      "  -<i>Staphylococcus aureus</i>\n",
      "       Unnamed: 0  Breadth of Coverage    Contigs\n",
      "count         9.0             9.000000   9.000000\n",
      "mean          8.0             0.983379  21.666667\n",
      "std           0.0             0.001325   4.272002\n",
      "min           8.0             0.982140  16.000000\n",
      "25%           8.0             0.982140  16.000000\n",
      "50%           8.0             0.982907  24.000000\n",
      "75%           8.0             0.985089  25.000000\n",
      "max           8.0             0.985089  25.000000\n",
      "->IDBA-UD\n",
      "  -<i>Bacillus subtilis</i>\n",
      "       Unnamed: 0  Breadth of Coverage     Contigs\n",
      "count         9.0             9.000000    9.000000\n",
      "mean          0.0             0.983029   85.333333\n",
      "std           0.0             0.000167   74.020267\n",
      "min           0.0             0.982850   34.000000\n",
      "25%           0.0             0.982850   34.000000\n",
      "50%           0.0             0.983005   38.000000\n",
      "75%           0.0             0.983233  184.000000\n",
      "max           0.0             0.983233  184.000000\n",
      "  -<i>Enterococcus faecalis</i>\n",
      "       Unnamed: 0  Breadth of Coverage     Contigs\n",
      "count         9.0             9.000000    9.000000\n",
      "mean          1.0             0.983789  113.000000\n",
      "std           0.0             0.005805   88.504237\n",
      "min           1.0             0.976069   53.000000\n",
      "25%           1.0             0.976069   53.000000\n",
      "50%           1.0             0.987178   55.000000\n",
      "75%           1.0             0.988125  231.000000\n",
      "max           1.0             0.988125  231.000000\n",
      "  -<i>Escherichia coli</i>\n",
      "       Unnamed: 0  Breadth of Coverage     Contigs\n",
      "count         9.0             9.000000    9.000000\n",
      "mean          3.0             0.951806  415.333333\n",
      "std           0.0             0.008695   43.217473\n",
      "min           3.0             0.943842  358.000000\n",
      "25%           3.0             0.943843  358.000000\n",
      "50%           3.0             0.948510  439.000000\n",
      "75%           3.0             0.963084  449.000000\n",
      "max           3.0             0.963084  449.000000\n",
      "  -<i>Lactobacillus fermentum</i>\n",
      "       Unnamed: 0  Breadth of Coverage     Contigs\n",
      "count         9.0             9.000000    9.000000\n",
      "mean          4.0             0.937308  116.000000\n",
      "std           0.0             0.002512   41.252273\n",
      "min           4.0             0.933999   88.000000\n",
      "25%           4.0             0.933999   88.000000\n",
      "50%           4.0             0.938483   89.000000\n",
      "75%           4.0             0.939350  171.000000\n",
      "max           4.0             0.939478  171.000000\n",
      "  -<i>Listeria monocytogenes</i>\n",
      "       Unnamed: 0  Breadth of Coverage     Contigs\n",
      "count         9.0             9.000000    9.000000\n",
      "mean          5.0             0.978558   74.000000\n",
      "std           0.0             0.006062   72.751289\n",
      "min           5.0             0.974308   25.000000\n",
      "25%           5.0             0.974308   25.000000\n",
      "50%           5.0             0.974730   26.000000\n",
      "75%           5.0             0.986637  171.000000\n",
      "max           5.0             0.986637  171.000000\n",
      "  -<i>Pseudomonas aeruginosa</i>\n",
      "       Unnamed: 0  Breadth of Coverage     Contigs\n",
      "count         9.0             9.000000    9.000000\n",
      "mean          6.0             0.986528  170.000000\n",
      "std           0.0             0.000950   11.324752\n",
      "min           6.0             0.985660  161.000000\n",
      "25%           6.0             0.985660  161.000000\n",
      "50%           6.0             0.986165  164.000000\n",
      "75%           6.0             0.987700  185.000000\n",
      "max           6.0             0.987880  185.000000\n",
      "  -<i>Salmonella enterica</i>\n",
      "       Unnamed: 0  Breadth of Coverage     Contigs\n",
      "count         9.0             9.000000    9.000000\n",
      "mean          7.0             0.962990  362.444444\n",
      "std           0.0             0.006170   43.316022\n",
      "min           7.0             0.956090  305.000000\n",
      "25%           7.0             0.956285  305.000000\n",
      "50%           7.0             0.962419  386.000000\n",
      "75%           7.0             0.970335  396.000000\n",
      "max           7.0             0.970406  397.000000\n",
      "  -<i>Staphylococcus aureus</i>\n",
      "       Unnamed: 0  Breadth of Coverage     Contigs\n",
      "count         9.0             9.000000    9.000000\n",
      "mean          8.0             0.979846  106.666667\n",
      "std           0.0             0.000709   50.507425\n",
      "min           8.0             0.978933   72.000000\n",
      "25%           8.0             0.978933   72.000000\n",
      "50%           8.0             0.980086   74.000000\n",
      "75%           8.0             0.980518  174.000000\n",
      "max           8.0             0.980518  174.000000\n",
      "->SPAdes\n",
      "  -<i>Bacillus subtilis</i>\n",
      "       Unnamed: 0  Breadth of Coverage    Contigs\n",
      "count         9.0             9.000000   9.000000\n",
      "mean          0.0             0.983824  25.666667\n",
      "std           0.0             0.000670   5.500000\n",
      "min           0.0             0.982951  22.000000\n",
      "25%           0.0             0.982951  22.000000\n",
      "50%           0.0             0.984095  22.000000\n",
      "75%           0.0             0.984426  33.000000\n",
      "max           0.0             0.984426  33.000000\n",
      "  -<i>Enterococcus faecalis</i>\n",
      "       Unnamed: 0  Breadth of Coverage    Contigs\n",
      "count         9.0             9.000000   9.000000\n",
      "mean          1.0             0.982238  36.666667\n",
      "std           0.0             0.004848  19.868316\n",
      "min           1.0             0.977576  21.000000\n",
      "25%           1.0             0.977576  21.000000\n",
      "50%           1.0             0.980691  26.000000\n",
      "75%           1.0             0.988447  63.000000\n",
      "max           1.0             0.988447  63.000000\n",
      "  -<i>Escherichia coli</i>\n",
      "       Unnamed: 0  Breadth of Coverage     Contigs\n",
      "count         9.0             9.000000    9.000000\n",
      "mean          3.0             0.971623  115.666667\n",
      "std           0.0             0.002536   25.753641\n",
      "min           3.0             0.968633   84.000000\n",
      "25%           3.0             0.968633   84.000000\n",
      "50%           3.0             0.971750  120.000000\n",
      "75%           3.0             0.974486  143.000000\n",
      "max           3.0             0.974486  143.000000\n",
      "  -<i>Lactobacillus fermentum</i>\n",
      "       Unnamed: 0  Breadth of Coverage    Contigs\n",
      "count         9.0             9.000000    9.00000\n",
      "mean          4.0             0.939163   96.00000\n",
      "std           0.0             0.002640   13.93736\n",
      "min           4.0             0.935643   78.00000\n",
      "25%           4.0             0.935643   78.00000\n",
      "50%           4.0             0.940894  101.00000\n",
      "75%           4.0             0.940953  109.00000\n",
      "max           4.0             0.940953  109.00000\n",
      "  -<i>Listeria monocytogenes</i>\n",
      "       Unnamed: 0  Breadth of Coverage    Contigs\n",
      "count         9.0             9.000000   9.000000\n",
      "mean          5.0             0.982398  24.333333\n",
      "std           0.0             0.006040   9.656604\n",
      "min           5.0             0.974766  16.000000\n",
      "25%           5.0             0.974766  16.000000\n",
      "50%           5.0             0.983990  20.000000\n",
      "75%           5.0             0.988440  37.000000\n",
      "max           5.0             0.988440  37.000000\n",
      "  -<i>Pseudomonas aeruginosa</i>\n"
     ]
    },
    {
     "name": "stdout",
     "output_type": "stream",
     "text": [
      "       Unnamed: 0  Breadth of Coverage    Contigs\n",
      "count         9.0             9.000000   9.000000\n",
      "mean          6.0             0.989541  69.666667\n",
      "std           0.0             0.000845   7.211103\n",
      "min           6.0             0.988865  63.000000\n",
      "25%           6.0             0.988865  63.000000\n",
      "50%           6.0             0.989098  67.000000\n",
      "75%           6.0             0.990660  79.000000\n",
      "max           6.0             0.990660  79.000000\n",
      "  -<i>Salmonella enterica</i>\n",
      "       Unnamed: 0  Breadth of Coverage     Contigs\n",
      "count         9.0             9.000000    9.000000\n",
      "mean          7.0             0.975659   87.000000\n",
      "std           0.0             0.004888   21.857493\n",
      "min           7.0             0.969381   60.000000\n",
      "25%           7.0             0.969381   60.000000\n",
      "50%           7.0             0.977280   91.000000\n",
      "75%           7.0             0.980315  110.000000\n",
      "max           7.0             0.980315  110.000000\n",
      "  -<i>Staphylococcus aureus</i>\n",
      "       Unnamed: 0  Breadth of Coverage    Contigs\n",
      "count         9.0             9.000000   9.000000\n",
      "mean          8.0             0.983530  31.000000\n",
      "std           0.0             0.001325  12.816006\n",
      "min           8.0             0.982230  21.000000\n",
      "25%           8.0             0.982230  21.000000\n",
      "50%           8.0             0.983144  24.000000\n",
      "75%           8.0             0.985216  48.000000\n",
      "max           8.0             0.985216  48.000000\n"
     ]
    }
   ],
   "source": [
    "for assembler in df['Assembler'].unique():\n",
    "    print('->'+assembler)\n",
    "    for reference in df['Reference'].unique():\n",
    "        print('  -'+reference)\n",
    "        print(df[(df['Assembler']==assembler) & (df['Reference']==reference)].describe())"
   ]
  },
  {
   "cell_type": "markdown",
   "metadata": {},
   "source": [
    "## Plot data"
   ]
  },
  {
   "cell_type": "markdown",
   "metadata": {},
   "source": [
    "### All Samples"
   ]
  },
  {
   "cell_type": "code",
   "execution_count": 12,
   "metadata": {},
   "outputs": [
    {
     "name": "stdout",
     "output_type": "stream",
     "text": [
      "--<i>Bacillus subtilis</i>\n",
      "1 1\n",
      "---Unicycler\n",
      "22 0.982219786700718 ENN run1\n",
      "20 0.9827551729908244 EMS run1\n",
      "18 0.982525050813498 ERR2984773 run1\n",
      "22 0.982219786700718 ENN run3\n",
      "20 0.9827551729908244 EMS run3\n",
      "18 0.982525050813498 ERR2984773 run3\n",
      "22 0.982219786700718 ENN run2\n",
      "20 0.9827551729908244 EMS run2\n",
      "18 0.982525050813498 ERR2984773 run2\n",
      "---SPAdes\n",
      "22 0.984425597990151 ENN run1\n",
      "22 0.9840948746031876 EMS run1\n",
      "33 0.982951184684294 ERR2984773 run1\n",
      "22 0.984425597990151 ENN run3\n",
      "22 0.9840948746031876 EMS run3\n",
      "33 0.982951184684294 ERR2984773 run3\n",
      "22 0.984425597990151 ENN run2\n",
      "22 0.9840948746031876 EMS run2\n",
      "33 0.982951184684294 ERR2984773 run2\n",
      "---SKESA\n",
      "30 0.9806675125077954 ENN run1\n",
      "26 0.9816483125074 EMS run1\n",
      "34 0.98144587420103 ERR2984773 run1\n",
      "30 0.9806675125077954 ENN run3\n",
      "26 0.9816483125074 EMS run3\n",
      "34 0.98144587420103 ERR2984773 run3\n",
      "30 0.9806675125077954 ENN run2\n",
      "26 0.9816483125074 EMS run2\n",
      "34 0.98144587420103 ERR2984773 run2\n",
      "---metaSPAdes\n",
      "18 0.9857267399251102 ENN run1\n",
      "23 0.9840563149257836 EMS run1\n",
      "51 0.98267706492634 ERR2984773 run1\n",
      "18 0.9857267399251102 ENN run3\n",
      "23 0.9840563149257836 EMS run3\n",
      "51 0.98267706492634 ERR2984773 run3\n",
      "18 0.9857267399251102 ENN run2\n",
      "23 0.9840563149257836 EMS run2\n",
      "51 0.98267706492634 ERR2984773 run2\n",
      "---MEGAHIT\n",
      "27 0.9860238471830548 ENN run1\n",
      "27 0.9853656137155784 EMS run1\n",
      "31 0.9861187633120488 ERR2984773 run1\n",
      "27 0.9860458459733686 ENN run3\n",
      "27 0.9853656137155784 EMS run3\n",
      "31 0.9861187633120488 ERR2984773 run3\n",
      "27 0.98605869919917 ENN run2\n",
      "27 0.9853656137155784 EMS run2\n",
      "31 0.9861187633120488 ERR2984773 run2\n",
      "---IDBA-UD\n",
      "38 0.9828495947649799 ENN run1\n",
      "34 0.9832334612970832 EMS run1\n",
      "184 0.983004575006853 ERR2984773 run1\n",
      "38 0.9828495947649799 ENN run3\n",
      "34 0.9832334612970832 EMS run3\n",
      "184 0.983004575006853 ERR2984773 run3\n",
      "38 0.9828495947649799 ENN run2\n",
      "34 0.9832334612970832 EMS run2\n",
      "184 0.983004575006853 ERR2984773 run2\n",
      "---GATBMiniaPipeline\n",
      "28 0.9836615725872332 ENN run1\n",
      "27 0.984780297586782 EMS run1\n",
      "30 0.9842629552482812 ERR2984773 run1\n",
      "28 0.9836615725872332 ENN run3\n",
      "27 0.984780297586782 EMS run3\n",
      "30 0.9842629552482812 ERR2984773 run3\n",
      "28 0.9836615725872332 ENN run2\n",
      "27 0.984780297586782 EMS run2\n",
      "30 0.9842629552482812 ERR2984773 run2\n",
      "--<i>Enterococcus faecalis</i>\n",
      "2 1\n",
      "---Unicycler\n",
      "20 0.9885323357906396 ENN run1\n",
      "20 0.9781875397133328 EMS run1\n",
      "30 0.9888785095340116 ERR2984773 run1\n",
      "20 0.9885323357906396 ENN run3\n",
      "20 0.9781875397133328 EMS run3\n",
      "30 0.9888785095340116 ERR2984773 run3\n",
      "20 0.9885323357906396 ENN run2\n",
      "20 0.9781875397133328 EMS run2\n",
      "30 0.9888785095340116 ERR2984773 run2\n",
      "---SPAdes\n",
      "21 0.9884465831070024 ENN run1\n",
      "26 0.9775763761197052 EMS run1\n",
      "63 0.9806912369192012 ERR2984773 run1\n",
      "21 0.9884465831070024 ENN run3\n",
      "26 0.9775763761197052 EMS run3\n",
      "63 0.9806912369192012 ERR2984773 run3\n",
      "21 0.9884465831070024 ENN run2\n",
      "26 0.9775763761197052 EMS run2\n",
      "63 0.9806912369192012 ERR2984773 run2\n",
      "---SKESA\n",
      "52 0.9833523816753544 ENN run1\n",
      "40 0.9876614540281268 EMS run1\n",
      "72 0.9830775513532056 ERR2984773 run1\n",
      "52 0.9833523816753544 ENN run3\n",
      "40 0.9876614540281268 EMS run3\n",
      "72 0.9830775513532056 ERR2984773 run3\n",
      "52 0.9833523816753544 ENN run2\n",
      "40 0.9876614540281268 EMS run2\n",
      "72 0.9830775513532056 ERR2984773 run2\n",
      "---metaSPAdes\n",
      "21 0.9906111354779938 ENN run1\n",
      "23 0.9792815893205576 EMS run1\n",
      "51 0.9888651546078712 ERR2984773 run1\n",
      "21 0.9906111354779938 ENN run3\n",
      "23 0.9792815893205576 EMS run3\n",
      "51 0.9888651546078712 ERR2984773 run3\n",
      "21 0.9906111354779938 ENN run2\n",
      "23 0.9792815893205576 EMS run2\n",
      "51 0.9888651546078712 ERR2984773 run2\n",
      "---MEGAHIT\n",
      "31 0.9790879428915242 ENN run1\n",
      "32 0.9920717426632252 EMS run1\n",
      "35 0.9915586323431008 ERR2984773 run1\n",
      "31 0.9791673695575162 ENN run3\n",
      "31 0.979316733863032 EMS run3\n",
      "34 0.97908688855525 ERR2984773 run3\n",
      "32 0.9915596866793748 ENN run2\n",
      "32 0.9920717426632252 EMS run2\n",
      "34 0.9790731821836852 ERR2984773 run2\n",
      "---IDBA-UD\n",
      "55 0.9760690266929828 ENN run1\n",
      "53 0.9881246590979379 EMS run1\n",
      "231 0.987177513678256 ERR2984773 run1\n",
      "55 0.9760690266929828 ENN run3\n",
      "53 0.9881246590979379 EMS run3\n",
      "231 0.987163807306691 ERR2984773 run3\n",
      "55 0.9760690266929828 ENN run2\n",
      "53 0.9881246590979379 EMS run2\n",
      "231 0.987177513678256 ERR2984773 run2\n",
      "---GATBMiniaPipeline\n",
      "45 0.976931473765302 ENN run1\n",
      "28 0.978434957292352 EMS run1\n",
      "38 0.9786806176442472 ERR2984773 run1\n",
      "46 0.9894320360779816 ENN run3\n",
      "29 0.990907403971052 EMS run3\n",
      "39 0.9911994551190136 ERR2984773 run3\n",
      "45 0.9769455315822916 ENN run2\n",
      "29 0.990907403971052 EMS run2\n",
      "38 0.9786806176442472 ERR2984773 run2\n",
      "--<i>Escherichia coli</i>\n",
      "3 1\n",
      "---Unicycler\n",
      "111 0.964104423647458 ENN run1\n",
      "72 0.9713700787798132 EMS run1\n",
      "98 0.9720575292827474 ERR2984773 run1\n",
      "111 0.964104423647458 ENN run3\n",
      "72 0.9713700787798132 EMS run3\n",
      "98 0.9720575292827474 ERR2984773 run3\n",
      "111 0.964104423647458 ENN run2\n",
      "72 0.9713700787798132 EMS run2\n",
      "98 0.9720575292827474 ERR2984773 run2\n",
      "---SPAdes\n",
      "120 0.9686328674366279 ENN run1\n",
      "84 0.9744862692464108 EMS run1\n",
      "143 0.9717501071256051 ERR2984773 run1\n",
      "120 0.9686328674366279 ENN run3\n",
      "84 0.9744862692464108 EMS run3\n",
      "143 0.9717501071256051 ERR2984773 run3\n",
      "120 0.9686328674366279 ENN run2\n",
      "84 0.9744862692464108 EMS run2\n",
      "143 0.9717501071256051 ERR2984773 run2\n",
      "---SKESA\n",
      "270 0.9570144083414018 ENN run1\n",
      "180 0.9600514874405984 EMS run1\n",
      "209 0.9610738497270134 ERR2984773 run1\n",
      "270 0.9570144083414018 ENN run3\n",
      "180 0.9600514874405984 EMS run3\n",
      "209 0.9610738497270134 ERR2984773 run3\n",
      "270 0.9570144083414018 ENN run2\n",
      "180 0.9600514874405984 EMS run2\n",
      "209 0.9610738497270134 ERR2984773 run2\n",
      "---metaSPAdes\n",
      "82 0.9772832862652174 ENN run1\n",
      "86 0.97929947198933 EMS run1\n",
      "167 0.9728360522882072 ERR2984773 run1\n",
      "82 0.9772832862652174 ENN run3\n",
      "86 0.97929947198933 EMS run3\n",
      "167 0.9728360522882072 ERR2984773 run3\n",
      "82 0.9772832862652174 ENN run2\n",
      "86 0.97929947198933 EMS run2\n",
      "167 0.9728360522882072 ERR2984773 run2\n",
      "---MEGAHIT\n",
      "137 0.97838748789722 ENN run1\n",
      "141 0.9783652443827782 EMS run1\n",
      "132 0.9806072227629214 ERR2984773 run1\n",
      "137 0.9784025966994822 ENN run3\n",
      "141 0.9784735241323246 EMS run3\n",
      "132 0.9806072227629214 ERR2984773 run3\n",
      "137 0.97838748789722 ENN run2\n",
      "141 0.9783652443827782 EMS run2\n",
      "132 0.9806072227629214 ERR2984773 run2\n",
      "---IDBA-UD\n",
      "449 0.9438418410579184 ENN run1\n",
      "439 0.9485299764932218 EMS run1\n",
      "358 0.963083530272374 ERR2984773 run1\n",
      "449 0.9438426804358218 ENN run3\n",
      "439 0.9485100412680146 EMS run3\n",
      "358 0.963083530272374 ERR2984773 run3\n",
      "449 0.9438426804358218 ENN run2\n",
      "439 0.9484344972567031 EMS run2\n",
      "358 0.963083530272374 ERR2984773 run2\n",
      "---GATBMiniaPipeline\n",
      "199 0.9685388571114404 ENN run1\n",
      "184 0.9706834676547824 EMS run1\n",
      "180 0.9720812417085202 ERR2984773 run1\n",
      "199 0.9685354995998264 ENN run3\n",
      "184 0.97068409718821 EMS run3\n",
      "180 0.9720812417085202 ERR2984773 run3\n",
      "199 0.9685354995998264 ENN run2\n",
      "184 0.9706834676547824 EMS run2\n",
      "180 0.9720812417085202 ERR2984773 run2\n",
      "--<i>Lactobacillus fermentum</i>\n",
      "4 1\n",
      "---Unicycler\n",
      "80 0.9314933400093316 ENN run1\n",
      "77 0.9318197921308244 EMS run1\n",
      "79 0.9297004775543172 ERR2984773 run1\n",
      "80 0.9314933400093316 ENN run3\n",
      "77 0.9318197921308244 EMS run3\n",
      "79 0.9297004775543172 ERR2984773 run3\n",
      "80 0.9314933400093316 ENN run2\n",
      "77 0.9318197921308244 EMS run2\n",
      "79 0.9297004775543172 ERR2984773 run2\n",
      "---SPAdes\n",
      "78 0.9408943213600982 ENN run1\n",
      "109 0.9409525788930334 EMS run1\n",
      "101 0.9356432707563456 ERR2984773 run1\n",
      "78 0.9408943213600982 ENN run3\n",
      "109 0.9409525788930334 EMS run3\n",
      "101 0.9356432707563456 ERR2984773 run3\n",
      "78 0.9408943213600982 ENN run2\n",
      "109 0.9409525788930334 EMS run2\n",
      "101 0.9356432707563456 ERR2984773 run2\n",
      "---SKESA\n",
      "94 0.9314035919180532 ENN run1\n",
      "86 0.9322181476938676 EMS run1\n",
      "86 0.9224167114095017 ERR2984773 run1\n",
      "94 0.9314035919180532 ENN run3\n",
      "86 0.9322181476938676 EMS run3\n",
      "86 0.9224167114095017 ERR2984773 run3\n",
      "94 0.9314035919180532 ENN run2\n",
      "86 0.9322181476938676 EMS run2\n",
      "86 0.9224167114095017 ERR2984773 run2\n",
      "---metaSPAdes\n",
      "80 0.9424761970742124 ENN run1\n",
      "78 0.9428425372362732 EMS run1\n",
      "95 0.9363838237200532 ERR2984773 run1\n",
      "80 0.9424761970742124 ENN run3\n",
      "78 0.9428425372362732 EMS run3\n",
      "95 0.9363838237200532 ERR2984773 run3\n",
      "80 0.9424761970742124 ENN run2\n",
      "78 0.9428425372362732 EMS run2\n",
      "95 0.9363838237200532 ERR2984773 run2\n",
      "---MEGAHIT\n",
      "82 0.9491170309861846 ENN run1\n",
      "81 0.9485585984182292 EMS run1\n",
      "88 0.9487412436566206 ERR2984773 run1\n",
      "82 0.949177387889676 ENN run3\n",
      "81 0.9484405088244418 EMS run3\n",
      "88 0.9487842807530232 ERR2984773 run3\n",
      "82 0.9492010058084336 ENN run2\n",
      "81 0.9482940777281452 EMS run2\n",
      "88 0.9487443927124549 ERR2984773 run2\n",
      "---IDBA-UD\n",
      "89 0.938483194276276 ENN run1\n",
      "88 0.9394777710772868 EMS run1\n",
      "171 0.933998938768184 ERR2984773 run1\n",
      "89 0.938483194276276 ENN run3\n",
      "88 0.9393497094733572 EMS run3\n",
      "171 0.9339994636108228 ERR2984773 run3\n",
      "89 0.93858658827617 ENN run2\n",
      "88 0.9393916968844817 EMS run2\n",
      "171 0.933998938768184 ERR2984773 run2\n",
      "---GATBMiniaPipeline\n",
      "89 0.9406077572791738 ENN run1\n",
      "89 0.9439378838239824 EMS run1\n",
      "83 0.9431915575912452 ERR2984773 run1\n",
      "89 0.9407095767511506 ENN run3\n",
      "89 0.9438995703113314 EMS run3\n",
      "83 0.9432230481495886 ERR2984773 run3\n",
      "89 0.9406072324365348 ENN run2\n",
      "89 0.9438386885652008 EMS run2\n",
      "83 0.943273433042938 ERR2984773 run2\n",
      "--<i>Listeria monocytogenes</i>\n",
      "1 2\n",
      "---Unicycler\n",
      "16 0.9740156706686602 ENN run1\n",
      "16 0.9870466009567088 EMS run1\n",
      "17 0.9743237905292912 ERR2984773 run1\n",
      "16 0.9740156706686602 ENN run3\n",
      "16 0.9870466009567088 EMS run3\n",
      "17 0.9743237905292912 ERR2984773 run3\n",
      "16 0.9740156706686602 ENN run2\n",
      "16 0.9870466009567088 EMS run2\n",
      "17 0.9743237905292912 ERR2984773 run2\n",
      "---SPAdes\n",
      "16 0.9747655849498488 ENN run1\n",
      "20 0.9884398240575444 EMS run1\n",
      "37 0.9839897979575865 ERR2984773 run1\n",
      "16 0.9747655849498488 ENN run3\n",
      "20 0.9884398240575444 EMS run3\n",
      "37 0.9839897979575865 ERR2984773 run3\n",
      "16 0.9747655849498488 ENN run2\n",
      "20 0.9884398240575444 EMS run2\n",
      "37 0.9839897979575865 ERR2984773 run2\n",
      "---SKESA\n",
      "24 0.9724894413806978 ENN run1\n",
      "19 0.9730909769003676 EMS run1\n",
      "31 0.973864952602343 ERR2984773 run1\n",
      "24 0.9724894413806978 ENN run3\n",
      "19 0.9730909769003676 EMS run3\n",
      "31 0.973864952602343 ERR2984773 run3\n",
      "24 0.9724894413806978 ENN run2\n",
      "19 0.9730909769003676 EMS run2\n",
      "31 0.973864952602343 ERR2984773 run2\n",
      "---metaSPAdes\n",
      "16 0.9769037095358752 ENN run1\n",
      "13 0.9895947722553105 EMS run1\n",
      "25 0.9761086800907116 ERR2984773 run1\n",
      "16 0.9769037095358752 ENN run3\n",
      "13 0.9895947722553105 EMS run3\n",
      "25 0.9761086800907116 ERR2984773 run3\n",
      "16 0.9769037095358752 ENN run2\n",
      "13 0.9895947722553105 EMS run2\n",
      "25 0.9761086800907116 ERR2984773 run2\n",
      "---MEGAHIT\n",
      "20 0.9895837441041164 ENN run1\n",
      "19 0.9775811053683034 EMS run1\n",
      "18 0.9772930366916616 ERR2984773 run1\n",
      "20 0.9895640271065272 ENN run3\n"
     ]
    },
    {
     "name": "stdout",
     "output_type": "stream",
     "text": [
      "20 0.9894403781385952 EMS run3\n",
      "19 0.9891523094619532 ERR2984773 run3\n",
      "19 0.9777234687746252 ENN run2\n",
      "19 0.9776248837866794 EMS run2\n",
      "19 0.9891523094619532 ERR2984773 run2\n",
      "---IDBA-UD\n",
      "26 0.9866372226169337 ENN run1\n",
      "25 0.9747298270050684 EMS run1\n",
      "171 0.9743084179548996 ERR2984773 run1\n",
      "26 0.9866372226169337 ENN run3\n",
      "25 0.9747298270050684 EMS run3\n",
      "171 0.9743084179548996 ERR2984773 run3\n",
      "26 0.9866372226169337 ENN run2\n",
      "25 0.9747298270050684 EMS run2\n",
      "171 0.9743084179548996 ERR2984773 run2\n",
      "---GATBMiniaPipeline\n",
      "20 0.9862442194107492 ENN run1\n",
      "20 0.987434257180496 EMS run1\n",
      "24 0.988414425891158 ERR2984773 run1\n",
      "19 0.9743575433556726 ENN run3\n",
      "19 0.9755896886117964 EMS run3\n",
      "23 0.9765511428840687 ERR2984773 run3\n",
      "20 0.9862442194107492 ENN run2\n",
      "19 0.9755743160374049 EMS run2\n",
      "24 0.988414425891158 ERR2984773 run2\n",
      "--<i>Pseudomonas aeruginosa</i>\n",
      "2 2\n",
      "---Unicycler\n",
      "77 0.9870233042269736 ENN run1\n",
      "60 0.9898850615326404 EMS run1\n",
      "65 0.9884684636936072 ERR2984773 run1\n",
      "77 0.9870233042269736 ENN run3\n",
      "60 0.9898850615326404 EMS run3\n",
      "65 0.9884684636936072 ERR2984773 run3\n",
      "77 0.9870233042269736 ENN run2\n",
      "60 0.9898850615326404 EMS run2\n",
      "65 0.9884684636936072 ERR2984773 run2\n",
      "---SPAdes\n",
      "67 0.9888649403076706 ENN run1\n",
      "63 0.990659758875084 EMS run1\n",
      "79 0.9890982917496648 ERR2984773 run1\n",
      "67 0.9888649403076706 ENN run3\n",
      "63 0.990659758875084 EMS run3\n",
      "79 0.9890982917496648 ERR2984773 run3\n",
      "67 0.9888649403076706 ENN run2\n",
      "63 0.990659758875084 EMS run2\n",
      "79 0.9890982917496648 ERR2984773 run2\n",
      "---SKESA\n",
      "933 0.9636581261511146 ENN run1\n",
      "303 0.9825201366835828 EMS run1\n",
      "117 0.9819474318827266 ERR2984773 run1\n",
      "933 0.9636581261511146 ENN run3\n",
      "303 0.9825201366835828 EMS run3\n",
      "117 0.9819474318827266 ERR2984773 run3\n",
      "933 0.9636581261511146 ENN run2\n",
      "303 0.9825201366835828 EMS run2\n",
      "117 0.9819474318827266 ERR2984773 run2\n",
      "---metaSPAdes\n",
      "56 0.9902710851799016 ENN run1\n",
      "57 0.9903647202064682 EMS run1\n",
      "100 0.989599739706404 ERR2984773 run1\n",
      "56 0.9902710851799016 ENN run3\n",
      "57 0.9903647202064682 EMS run3\n",
      "100 0.989599739706404 ERR2984773 run3\n",
      "56 0.9902710851799016 ENN run2\n",
      "57 0.9903647202064682 EMS run2\n",
      "100 0.989599739706404 ERR2984773 run2\n",
      "---MEGAHIT\n",
      "82 0.9908624875410942 ENN run1\n",
      "82 0.9910421019002316 EMS run1\n",
      "78 0.9919784521658987 ERR2984773 run1\n",
      "82 0.9908624875410942 ENN run3\n",
      "82 0.9910628606089515 EMS run3\n",
      "78 0.9919992108746188 ERR2984773 run3\n",
      "82 0.9908417288323742 ENN run2\n",
      "82 0.9910628606089515 EMS run2\n",
      "78 0.9919992108746188 ERR2984773 run2\n",
      "---IDBA-UD\n",
      "161 0.9856602962459128 ENN run1\n",
      "164 0.9861648359252274 EMS run1\n",
      "185 0.9876996553465452 ERR2984773 run1\n",
      "161 0.9856602962459128 ENN run3\n",
      "164 0.9861648359252274 EMS run3\n",
      "185 0.9876996553465452 ERR2984773 run3\n",
      "161 0.9856602962459128 ENN run2\n",
      "164 0.9861648359252274 EMS run2\n",
      "185 0.9878797113803364 ERR2984773 run2\n",
      "---GATBMiniaPipeline\n",
      "166 0.9870156485329776 ENN run1\n",
      "98 0.9888391759528764 EMS run1\n",
      "102 0.9871686151880136 ERR2984773 run1\n",
      "166 0.9870156485329776 ENN run3\n",
      "98 0.9888385870533382 EMS run3\n",
      "102 0.9869935648002968 ERR2984773 run3\n",
      "166 0.9870156485329776 ENN run2\n",
      "98 0.9888381453786844 EMS run2\n",
      "102 0.9871588983456341 ERR2984773 run2\n",
      "--<i>Salmonella enterica</i>\n",
      "3 2\n",
      "---Unicycler\n",
      "89 0.9743706912091528 ENN run1\n",
      "50 0.9790682107826764 EMS run1\n",
      "70 0.9765497990859175 ERR2984773 run1\n",
      "89 0.9743706912091528 ENN run3\n",
      "50 0.9790682107826764 EMS run3\n",
      "70 0.9765497990859175 ERR2984773 run3\n",
      "89 0.9743706912091528 ENN run2\n",
      "50 0.9790682107826764 EMS run2\n",
      "70 0.9765497990859175 ERR2984773 run2\n",
      "---SPAdes\n",
      "91 0.9693809291504212 ENN run1\n",
      "60 0.9803149159640032 EMS run1\n",
      "110 0.9772796699655822 ERR2984773 run1\n",
      "91 0.9693809291504212 ENN run3\n",
      "60 0.9803149159640032 EMS run3\n",
      "110 0.9772796699655822 ERR2984773 run3\n",
      "91 0.9693809291504212 ENN run2\n",
      "60 0.9803149159640032 EMS run2\n",
      "110 0.9772796699655822 ERR2984773 run2\n",
      "---SKESA\n",
      "245 0.9593946819851312 ENN run1\n",
      "157 0.9615466875753454 EMS run1\n",
      "193 0.9689739746616732 ERR2984773 run1\n",
      "245 0.9593946819851312 ENN run3\n",
      "157 0.9615466875753454 EMS run3\n",
      "193 0.9689739746616732 ERR2984773 run3\n",
      "245 0.9593946819851312 ENN run2\n",
      "157 0.9615466875753454 EMS run2\n",
      "193 0.9689739746616732 ERR2984773 run2\n",
      "---metaSPAdes\n",
      "56 0.9820704718276984 ENN run1\n",
      "55 0.9833602465341638 EMS run1\n",
      "145 0.9778992408418432 ERR2984773 run1\n",
      "56 0.9820704718276984 ENN run3\n",
      "55 0.9833602465341638 EMS run3\n",
      "145 0.9778992408418432 ERR2984773 run3\n",
      "56 0.9820704718276984 ENN run2\n",
      "55 0.9833602465341638 EMS run2\n",
      "145 0.9778992408418432 ERR2984773 run2\n",
      "---MEGAHIT\n",
      "103 0.9810111716045352 ENN run1\n",
      "102 0.9814851464763036 EMS run1\n",
      "105 0.9808735592193364 ERR2984773 run1\n",
      "103 0.9810111716045352 ENN run3\n",
      "102 0.9814851464763036 EMS run3\n",
      "105 0.9808735592193364 ERR2984773 run3\n",
      "103 0.9810111716045352 ENN run2\n",
      "102 0.9814851464763036 EMS run2\n",
      "105 0.9808735592193364 ERR2984773 run2\n",
      "---IDBA-UD\n",
      "396 0.9560898837879164 ENN run1\n",
      "386 0.9624185828403448 EMS run1\n",
      "305 0.9703761503239878 ERR2984773 run1\n",
      "397 0.9562846420796404 ENN run3\n",
      "386 0.9624185828403448 EMS run3\n",
      "305 0.9704061939439624 ERR2984773 run3\n",
      "396 0.9560898837879164 ENN run2\n",
      "386 0.9624940070331484 EMS run2\n",
      "305 0.9703345514655614 ERR2984773 run2\n",
      "---GATBMiniaPipeline\n",
      "178 0.9756108834378976 ENN run1\n",
      "158 0.9774819916861108 EMS run1\n",
      "166 0.9756260102955072 ERR2984773 run1\n",
      "178 0.9756106733426532 ENN run3\n",
      "158 0.9774836724480676 EMS run3\n",
      "166 0.9756497510581448 ERR2984773 run3\n",
      "178 0.9756526923915688 ENN run2\n",
      "158 0.9774819916861108 EMS run2\n",
      "166 0.9756287415336868 ERR2984773 run2\n",
      "--<i>Staphylococcus aureus</i>\n",
      "4 2\n",
      "---Unicycler\n",
      "25 0.9821401510971832 ENN run1\n",
      "16 0.9850892679804912 EMS run1\n",
      "24 0.982907039186694 ERR2984773 run1\n",
      "25 0.9821401510971832 ENN run3\n",
      "16 0.9850892679804912 EMS run3\n",
      "24 0.982907039186694 ERR2984773 run3\n",
      "25 0.9821401510971832 ENN run2\n",
      "16 0.9850892679804912 EMS run2\n",
      "24 0.982907039186694 ERR2984773 run2\n",
      "---SPAdes\n",
      "24 0.9822295294212844 ENN run1\n",
      "21 0.9852157953199596 EMS run1\n",
      "48 0.9831435423241308 ERR2984773 run1\n",
      "24 0.9822295294212844 ENN run3\n",
      "21 0.9852157953199596 EMS run3\n",
      "48 0.9831435423241308 ERR2984773 run3\n",
      "24 0.9822295294212844 ENN run2\n",
      "21 0.9852157953199596 EMS run2\n",
      "48 0.9831435423241308 ERR2984773 run2\n",
      "---SKESA\n",
      "73 0.9754470755265228 ENN run1\n",
      "63 0.979103862761974 EMS run1\n",
      "69 0.9767333142071076 ERR2984773 run1\n",
      "73 0.9754470755265228 ENN run3\n",
      "63 0.979103862761974 EMS run3\n",
      "69 0.9767333142071076 ERR2984773 run3\n",
      "73 0.9754470755265228 ENN run2\n",
      "63 0.979103862761974 EMS run2\n",
      "69 0.9767333142071076 ERR2984773 run2\n",
      "---metaSPAdes\n",
      "19 0.9862677377353076 ENN run1\n",
      "23 0.9867153649798808 EMS run1\n",
      "49 0.9834940671919022 ERR2984773 run1\n",
      "19 0.9862677377353076 ENN run3\n",
      "23 0.9867153649798808 EMS run3\n",
      "49 0.9834940671919022 ERR2984773 run3\n",
      "19 0.9862677377353076 ENN run2\n",
      "23 0.9867153649798808 EMS run2\n",
      "49 0.9834940671919022 ERR2984773 run2\n",
      "---MEGAHIT\n",
      "40 0.9862110946821736 ENN run1\n",
      "37 0.9861526125688728 EMS run1\n",
      "43 0.9860448436431046 ERR2984773 run1\n",
      "40 0.9862110946821736 ENN run3\n",
      "37 0.9861526125688728 EMS run3\n",
      "43 0.9860448436431046 ERR2984773 run3\n",
      "40 0.9862110946821736 ENN run2\n",
      "37 0.9861526125688728 EMS run2\n",
      "43 0.9860448436431046 ERR2984773 run2\n",
      "---IDBA-UD\n",
      "74 0.9805177322181272 ENN run1\n",
      "72 0.9789331979785052 EMS run1\n",
      "174 0.980085920890988 ERR2984773 run1\n",
      "74 0.9805177322181272 ENN run3\n",
      "72 0.9789331979785052 EMS run3\n",
      "174 0.980085920890988 ERR2984773 run3\n",
      "74 0.9805177322181272 ENN run2\n",
      "72 0.9789331979785052 EMS run2\n",
      "174 0.980085920890988 ERR2984773 run2\n",
      "---GATBMiniaPipeline\n",
      "65 0.9823064021362524 ENN run1\n",
      "41 0.9853886669756288 EMS run1\n",
      "53 0.9844165397715152 ERR2984773 run1\n",
      "65 0.9823064021362524 ENN run3\n",
      "41 0.9853886669756288 EMS run3\n",
      "53 0.984420585703882 ERR2984773 run3\n",
      "65 0.9823064021362524 ENN run2\n",
      "41 0.9853886669756288 EMS run2\n",
      "53 0.9844165397715152 ERR2984773 run2\n"
     ]
    },
    {
     "data": {
      "application/vnd.plotly.v1+json": {
       "config": {
        "plotlyServerURL": "https://plot.ly"
       },
       "data": [
        {
         "marker": {
          "color": "#5876c8",
          "line": {
           "color": "black",
           "width": 1
          },
          "opacity": 0.5,
          "size": 12,
          "symbol": "circle"
         },
         "name": "Unicycler",
         "opacity": 0.6,
         "showlegend": false,
         "type": "scatter",
         "x": [
          22
         ],
         "xaxis": "x",
         "y": [
          0.982219786700718
         ],
         "yaxis": "y"
        },
        {
         "marker": {
          "color": "#5876c8",
          "line": {
           "color": "black",
           "width": 1
          },
          "opacity": 0.5,
          "size": 12,
          "symbol": "square"
         },
         "name": "Unicycler",
         "opacity": 0.6,
         "showlegend": false,
         "type": "scatter",
         "x": [
          20
         ],
         "xaxis": "x",
         "y": [
          0.9827551729908244
         ],
         "yaxis": "y"
        },
        {
         "marker": {
          "color": "#5876c8",
          "line": {
           "color": "black",
           "width": 1
          },
          "opacity": 0.5,
          "size": 12,
          "symbol": "diamond"
         },
         "name": "Unicycler",
         "opacity": 0.6,
         "showlegend": false,
         "type": "scatter",
         "x": [
          18
         ],
         "xaxis": "x",
         "y": [
          0.982525050813498
         ],
         "yaxis": "y"
        },
        {
         "marker": {
          "color": "#5876c8",
          "line": {
           "color": "black",
           "width": 1
          },
          "opacity": 0.5,
          "size": 12,
          "symbol": "circle"
         },
         "name": "Unicycler",
         "opacity": 0.6,
         "showlegend": false,
         "type": "scatter",
         "x": [
          22
         ],
         "xaxis": "x",
         "y": [
          0.982219786700718
         ],
         "yaxis": "y"
        },
        {
         "marker": {
          "color": "#5876c8",
          "line": {
           "color": "black",
           "width": 1
          },
          "opacity": 0.5,
          "size": 12,
          "symbol": "square"
         },
         "name": "Unicycler",
         "opacity": 0.6,
         "showlegend": false,
         "type": "scatter",
         "x": [
          20
         ],
         "xaxis": "x",
         "y": [
          0.9827551729908244
         ],
         "yaxis": "y"
        },
        {
         "marker": {
          "color": "#5876c8",
          "line": {
           "color": "black",
           "width": 1
          },
          "opacity": 0.5,
          "size": 12,
          "symbol": "diamond"
         },
         "name": "Unicycler",
         "opacity": 0.6,
         "showlegend": false,
         "type": "scatter",
         "x": [
          18
         ],
         "xaxis": "x",
         "y": [
          0.982525050813498
         ],
         "yaxis": "y"
        },
        {
         "marker": {
          "color": "#5876c8",
          "line": {
           "color": "black",
           "width": 1
          },
          "opacity": 0.5,
          "size": 12,
          "symbol": "circle"
         },
         "name": "Unicycler",
         "opacity": 0.6,
         "showlegend": false,
         "type": "scatter",
         "x": [
          22
         ],
         "xaxis": "x",
         "y": [
          0.982219786700718
         ],
         "yaxis": "y"
        },
        {
         "marker": {
          "color": "#5876c8",
          "line": {
           "color": "black",
           "width": 1
          },
          "opacity": 0.5,
          "size": 12,
          "symbol": "square"
         },
         "name": "Unicycler",
         "opacity": 0.6,
         "showlegend": false,
         "type": "scatter",
         "x": [
          20
         ],
         "xaxis": "x",
         "y": [
          0.9827551729908244
         ],
         "yaxis": "y"
        },
        {
         "marker": {
          "color": "#5876c8",
          "line": {
           "color": "black",
           "width": 1
          },
          "opacity": 0.5,
          "size": 12,
          "symbol": "diamond"
         },
         "name": "Unicycler",
         "opacity": 0.6,
         "showlegend": false,
         "type": "scatter",
         "x": [
          18
         ],
         "xaxis": "x",
         "y": [
          0.982525050813498
         ],
         "yaxis": "y"
        },
        {
         "marker": {
          "color": "#58AEC8",
          "line": {
           "color": "black",
           "width": 1
          },
          "opacity": 0.5,
          "size": 12,
          "symbol": "circle"
         },
         "name": "SPAdes",
         "opacity": 0.6,
         "showlegend": false,
         "type": "scatter",
         "x": [
          22
         ],
         "xaxis": "x",
         "y": [
          0.984425597990151
         ],
         "yaxis": "y"
        },
        {
         "marker": {
          "color": "#58AEC8",
          "line": {
           "color": "black",
           "width": 1
          },
          "opacity": 0.5,
          "size": 12,
          "symbol": "square"
         },
         "name": "SPAdes",
         "opacity": 0.6,
         "showlegend": false,
         "type": "scatter",
         "x": [
          22
         ],
         "xaxis": "x",
         "y": [
          0.9840948746031876
         ],
         "yaxis": "y"
        },
        {
         "marker": {
          "color": "#58AEC8",
          "line": {
           "color": "black",
           "width": 1
          },
          "opacity": 0.5,
          "size": 12,
          "symbol": "diamond"
         },
         "name": "SPAdes",
         "opacity": 0.6,
         "showlegend": false,
         "type": "scatter",
         "x": [
          33
         ],
         "xaxis": "x",
         "y": [
          0.982951184684294
         ],
         "yaxis": "y"
        },
        {
         "marker": {
          "color": "#58AEC8",
          "line": {
           "color": "black",
           "width": 1
          },
          "opacity": 0.5,
          "size": 12,
          "symbol": "circle"
         },
         "name": "SPAdes",
         "opacity": 0.6,
         "showlegend": false,
         "type": "scatter",
         "x": [
          22
         ],
         "xaxis": "x",
         "y": [
          0.984425597990151
         ],
         "yaxis": "y"
        },
        {
         "marker": {
          "color": "#58AEC8",
          "line": {
           "color": "black",
           "width": 1
          },
          "opacity": 0.5,
          "size": 12,
          "symbol": "square"
         },
         "name": "SPAdes",
         "opacity": 0.6,
         "showlegend": false,
         "type": "scatter",
         "x": [
          22
         ],
         "xaxis": "x",
         "y": [
          0.9840948746031876
         ],
         "yaxis": "y"
        },
        {
         "marker": {
          "color": "#58AEC8",
          "line": {
           "color": "black",
           "width": 1
          },
          "opacity": 0.5,
          "size": 12,
          "symbol": "diamond"
         },
         "name": "SPAdes",
         "opacity": 0.6,
         "showlegend": false,
         "type": "scatter",
         "x": [
          33
         ],
         "xaxis": "x",
         "y": [
          0.982951184684294
         ],
         "yaxis": "y"
        },
        {
         "marker": {
          "color": "#58AEC8",
          "line": {
           "color": "black",
           "width": 1
          },
          "opacity": 0.5,
          "size": 12,
          "symbol": "circle"
         },
         "name": "SPAdes",
         "opacity": 0.6,
         "showlegend": false,
         "type": "scatter",
         "x": [
          22
         ],
         "xaxis": "x",
         "y": [
          0.984425597990151
         ],
         "yaxis": "y"
        },
        {
         "marker": {
          "color": "#58AEC8",
          "line": {
           "color": "black",
           "width": 1
          },
          "opacity": 0.5,
          "size": 12,
          "symbol": "square"
         },
         "name": "SPAdes",
         "opacity": 0.6,
         "showlegend": false,
         "type": "scatter",
         "x": [
          22
         ],
         "xaxis": "x",
         "y": [
          0.9840948746031876
         ],
         "yaxis": "y"
        },
        {
         "marker": {
          "color": "#58AEC8",
          "line": {
           "color": "black",
           "width": 1
          },
          "opacity": 0.5,
          "size": 12,
          "symbol": "diamond"
         },
         "name": "SPAdes",
         "opacity": 0.6,
         "showlegend": false,
         "type": "scatter",
         "x": [
          33
         ],
         "xaxis": "x",
         "y": [
          0.982951184684294
         ],
         "yaxis": "y"
        },
        {
         "marker": {
          "color": "#39B185",
          "line": {
           "color": "black",
           "width": 1
          },
          "opacity": 0.5,
          "size": 12,
          "symbol": "circle"
         },
         "name": "SKESA",
         "opacity": 0.6,
         "showlegend": false,
         "type": "scatter",
         "x": [
          30
         ],
         "xaxis": "x",
         "y": [
          0.9806675125077954
         ],
         "yaxis": "y"
        },
        {
         "marker": {
          "color": "#39B185",
          "line": {
           "color": "black",
           "width": 1
          },
          "opacity": 0.5,
          "size": 12,
          "symbol": "square"
         },
         "name": "SKESA",
         "opacity": 0.6,
         "showlegend": false,
         "type": "scatter",
         "x": [
          26
         ],
         "xaxis": "x",
         "y": [
          0.9816483125074
         ],
         "yaxis": "y"
        },
        {
         "marker": {
          "color": "#39B185",
          "line": {
           "color": "black",
           "width": 1
          },
          "opacity": 0.5,
          "size": 12,
          "symbol": "diamond"
         },
         "name": "SKESA",
         "opacity": 0.6,
         "showlegend": false,
         "type": "scatter",
         "x": [
          34
         ],
         "xaxis": "x",
         "y": [
          0.98144587420103
         ],
         "yaxis": "y"
        },
        {
         "marker": {
          "color": "#39B185",
          "line": {
           "color": "black",
           "width": 1
          },
          "opacity": 0.5,
          "size": 12,
          "symbol": "circle"
         },
         "name": "SKESA",
         "opacity": 0.6,
         "showlegend": false,
         "type": "scatter",
         "x": [
          30
         ],
         "xaxis": "x",
         "y": [
          0.9806675125077954
         ],
         "yaxis": "y"
        },
        {
         "marker": {
          "color": "#39B185",
          "line": {
           "color": "black",
           "width": 1
          },
          "opacity": 0.5,
          "size": 12,
          "symbol": "square"
         },
         "name": "SKESA",
         "opacity": 0.6,
         "showlegend": false,
         "type": "scatter",
         "x": [
          26
         ],
         "xaxis": "x",
         "y": [
          0.9816483125074
         ],
         "yaxis": "y"
        },
        {
         "marker": {
          "color": "#39B185",
          "line": {
           "color": "black",
           "width": 1
          },
          "opacity": 0.5,
          "size": 12,
          "symbol": "diamond"
         },
         "name": "SKESA",
         "opacity": 0.6,
         "showlegend": false,
         "type": "scatter",
         "x": [
          34
         ],
         "xaxis": "x",
         "y": [
          0.98144587420103
         ],
         "yaxis": "y"
        },
        {
         "marker": {
          "color": "#39B185",
          "line": {
           "color": "black",
           "width": 1
          },
          "opacity": 0.5,
          "size": 12,
          "symbol": "circle"
         },
         "name": "SKESA",
         "opacity": 0.6,
         "showlegend": false,
         "type": "scatter",
         "x": [
          30
         ],
         "xaxis": "x",
         "y": [
          0.9806675125077954
         ],
         "yaxis": "y"
        },
        {
         "marker": {
          "color": "#39B185",
          "line": {
           "color": "black",
           "width": 1
          },
          "opacity": 0.5,
          "size": 12,
          "symbol": "square"
         },
         "name": "SKESA",
         "opacity": 0.6,
         "showlegend": false,
         "type": "scatter",
         "x": [
          26
         ],
         "xaxis": "x",
         "y": [
          0.9816483125074
         ],
         "yaxis": "y"
        },
        {
         "marker": {
          "color": "#39B185",
          "line": {
           "color": "black",
           "width": 1
          },
          "opacity": 0.5,
          "size": 12,
          "symbol": "diamond"
         },
         "name": "SKESA",
         "opacity": 0.6,
         "showlegend": false,
         "type": "scatter",
         "x": [
          34
         ],
         "xaxis": "x",
         "y": [
          0.98144587420103
         ],
         "yaxis": "y"
        },
        {
         "marker": {
          "color": "#9CCB86",
          "line": {
           "color": "black",
           "width": 1
          },
          "opacity": 0.5,
          "size": 12,
          "symbol": "circle"
         },
         "name": "metaSPAdes",
         "opacity": 0.6,
         "showlegend": false,
         "type": "scatter",
         "x": [
          18
         ],
         "xaxis": "x",
         "y": [
          0.9857267399251102
         ],
         "yaxis": "y"
        },
        {
         "marker": {
          "color": "#9CCB86",
          "line": {
           "color": "black",
           "width": 1
          },
          "opacity": 0.5,
          "size": 12,
          "symbol": "square"
         },
         "name": "metaSPAdes",
         "opacity": 0.6,
         "showlegend": false,
         "type": "scatter",
         "x": [
          23
         ],
         "xaxis": "x",
         "y": [
          0.9840563149257836
         ],
         "yaxis": "y"
        },
        {
         "marker": {
          "color": "#9CCB86",
          "line": {
           "color": "black",
           "width": 1
          },
          "opacity": 0.5,
          "size": 12,
          "symbol": "diamond"
         },
         "name": "metaSPAdes",
         "opacity": 0.6,
         "showlegend": false,
         "type": "scatter",
         "x": [
          51
         ],
         "xaxis": "x",
         "y": [
          0.98267706492634
         ],
         "yaxis": "y"
        },
        {
         "marker": {
          "color": "#9CCB86",
          "line": {
           "color": "black",
           "width": 1
          },
          "opacity": 0.5,
          "size": 12,
          "symbol": "circle"
         },
         "name": "metaSPAdes",
         "opacity": 0.6,
         "showlegend": false,
         "type": "scatter",
         "x": [
          18
         ],
         "xaxis": "x",
         "y": [
          0.9857267399251102
         ],
         "yaxis": "y"
        },
        {
         "marker": {
          "color": "#9CCB86",
          "line": {
           "color": "black",
           "width": 1
          },
          "opacity": 0.5,
          "size": 12,
          "symbol": "square"
         },
         "name": "metaSPAdes",
         "opacity": 0.6,
         "showlegend": false,
         "type": "scatter",
         "x": [
          23
         ],
         "xaxis": "x",
         "y": [
          0.9840563149257836
         ],
         "yaxis": "y"
        },
        {
         "marker": {
          "color": "#9CCB86",
          "line": {
           "color": "black",
           "width": 1
          },
          "opacity": 0.5,
          "size": 12,
          "symbol": "diamond"
         },
         "name": "metaSPAdes",
         "opacity": 0.6,
         "showlegend": false,
         "type": "scatter",
         "x": [
          51
         ],
         "xaxis": "x",
         "y": [
          0.98267706492634
         ],
         "yaxis": "y"
        },
        {
         "marker": {
          "color": "#9CCB86",
          "line": {
           "color": "black",
           "width": 1
          },
          "opacity": 0.5,
          "size": 12,
          "symbol": "circle"
         },
         "name": "metaSPAdes",
         "opacity": 0.6,
         "showlegend": false,
         "type": "scatter",
         "x": [
          18
         ],
         "xaxis": "x",
         "y": [
          0.9857267399251102
         ],
         "yaxis": "y"
        },
        {
         "marker": {
          "color": "#9CCB86",
          "line": {
           "color": "black",
           "width": 1
          },
          "opacity": 0.5,
          "size": 12,
          "symbol": "square"
         },
         "name": "metaSPAdes",
         "opacity": 0.6,
         "showlegend": false,
         "type": "scatter",
         "x": [
          23
         ],
         "xaxis": "x",
         "y": [
          0.9840563149257836
         ],
         "yaxis": "y"
        },
        {
         "marker": {
          "color": "#9CCB86",
          "line": {
           "color": "black",
           "width": 1
          },
          "opacity": 0.5,
          "size": 12,
          "symbol": "diamond"
         },
         "name": "metaSPAdes",
         "opacity": 0.6,
         "showlegend": false,
         "type": "scatter",
         "x": [
          51
         ],
         "xaxis": "x",
         "y": [
          0.98267706492634
         ],
         "yaxis": "y"
        },
        {
         "marker": {
          "color": "#EEB479",
          "line": {
           "color": "black",
           "width": 1
          },
          "opacity": 0.5,
          "size": 12,
          "symbol": "circle"
         },
         "name": "MEGAHIT",
         "opacity": 0.6,
         "showlegend": false,
         "type": "scatter",
         "x": [
          27
         ],
         "xaxis": "x",
         "y": [
          0.9860238471830548
         ],
         "yaxis": "y"
        },
        {
         "marker": {
          "color": "#EEB479",
          "line": {
           "color": "black",
           "width": 1
          },
          "opacity": 0.5,
          "size": 12,
          "symbol": "square"
         },
         "name": "MEGAHIT",
         "opacity": 0.6,
         "showlegend": false,
         "type": "scatter",
         "x": [
          27
         ],
         "xaxis": "x",
         "y": [
          0.9853656137155784
         ],
         "yaxis": "y"
        },
        {
         "marker": {
          "color": "#EEB479",
          "line": {
           "color": "black",
           "width": 1
          },
          "opacity": 0.5,
          "size": 12,
          "symbol": "diamond"
         },
         "name": "MEGAHIT",
         "opacity": 0.6,
         "showlegend": false,
         "type": "scatter",
         "x": [
          31
         ],
         "xaxis": "x",
         "y": [
          0.9861187633120488
         ],
         "yaxis": "y"
        },
        {
         "marker": {
          "color": "#EEB479",
          "line": {
           "color": "black",
           "width": 1
          },
          "opacity": 0.5,
          "size": 12,
          "symbol": "circle"
         },
         "name": "MEGAHIT",
         "opacity": 0.6,
         "showlegend": false,
         "type": "scatter",
         "x": [
          27
         ],
         "xaxis": "x",
         "y": [
          0.9860458459733686
         ],
         "yaxis": "y"
        },
        {
         "marker": {
          "color": "#EEB479",
          "line": {
           "color": "black",
           "width": 1
          },
          "opacity": 0.5,
          "size": 12,
          "symbol": "square"
         },
         "name": "MEGAHIT",
         "opacity": 0.6,
         "showlegend": false,
         "type": "scatter",
         "x": [
          27
         ],
         "xaxis": "x",
         "y": [
          0.9853656137155784
         ],
         "yaxis": "y"
        },
        {
         "marker": {
          "color": "#EEB479",
          "line": {
           "color": "black",
           "width": 1
          },
          "opacity": 0.5,
          "size": 12,
          "symbol": "diamond"
         },
         "name": "MEGAHIT",
         "opacity": 0.6,
         "showlegend": false,
         "type": "scatter",
         "x": [
          31
         ],
         "xaxis": "x",
         "y": [
          0.9861187633120488
         ],
         "yaxis": "y"
        },
        {
         "marker": {
          "color": "#EEB479",
          "line": {
           "color": "black",
           "width": 1
          },
          "opacity": 0.5,
          "size": 12,
          "symbol": "circle"
         },
         "name": "MEGAHIT",
         "opacity": 0.6,
         "showlegend": false,
         "type": "scatter",
         "x": [
          27
         ],
         "xaxis": "x",
         "y": [
          0.98605869919917
         ],
         "yaxis": "y"
        },
        {
         "marker": {
          "color": "#EEB479",
          "line": {
           "color": "black",
           "width": 1
          },
          "opacity": 0.5,
          "size": 12,
          "symbol": "square"
         },
         "name": "MEGAHIT",
         "opacity": 0.6,
         "showlegend": false,
         "type": "scatter",
         "x": [
          27
         ],
         "xaxis": "x",
         "y": [
          0.9853656137155784
         ],
         "yaxis": "y"
        },
        {
         "marker": {
          "color": "#EEB479",
          "line": {
           "color": "black",
           "width": 1
          },
          "opacity": 0.5,
          "size": 12,
          "symbol": "diamond"
         },
         "name": "MEGAHIT",
         "opacity": 0.6,
         "showlegend": false,
         "type": "scatter",
         "x": [
          31
         ],
         "xaxis": "x",
         "y": [
          0.9861187633120488
         ],
         "yaxis": "y"
        },
        {
         "marker": {
          "color": "#E88471",
          "line": {
           "color": "black",
           "width": 1
          },
          "opacity": 0.5,
          "size": 12,
          "symbol": "circle"
         },
         "name": "IDBA-UD",
         "opacity": 0.6,
         "showlegend": false,
         "type": "scatter",
         "x": [
          38
         ],
         "xaxis": "x",
         "y": [
          0.9828495947649799
         ],
         "yaxis": "y"
        },
        {
         "marker": {
          "color": "#E88471",
          "line": {
           "color": "black",
           "width": 1
          },
          "opacity": 0.5,
          "size": 12,
          "symbol": "square"
         },
         "name": "IDBA-UD",
         "opacity": 0.6,
         "showlegend": false,
         "type": "scatter",
         "x": [
          34
         ],
         "xaxis": "x",
         "y": [
          0.9832334612970832
         ],
         "yaxis": "y"
        },
        {
         "marker": {
          "color": "#E88471",
          "line": {
           "color": "black",
           "width": 1
          },
          "opacity": 0.5,
          "size": 12,
          "symbol": "diamond"
         },
         "name": "IDBA-UD",
         "opacity": 0.6,
         "showlegend": false,
         "type": "scatter",
         "x": [
          184
         ],
         "xaxis": "x",
         "y": [
          0.983004575006853
         ],
         "yaxis": "y"
        },
        {
         "marker": {
          "color": "#E88471",
          "line": {
           "color": "black",
           "width": 1
          },
          "opacity": 0.5,
          "size": 12,
          "symbol": "circle"
         },
         "name": "IDBA-UD",
         "opacity": 0.6,
         "showlegend": false,
         "type": "scatter",
         "x": [
          38
         ],
         "xaxis": "x",
         "y": [
          0.9828495947649799
         ],
         "yaxis": "y"
        },
        {
         "marker": {
          "color": "#E88471",
          "line": {
           "color": "black",
           "width": 1
          },
          "opacity": 0.5,
          "size": 12,
          "symbol": "square"
         },
         "name": "IDBA-UD",
         "opacity": 0.6,
         "showlegend": false,
         "type": "scatter",
         "x": [
          34
         ],
         "xaxis": "x",
         "y": [
          0.9832334612970832
         ],
         "yaxis": "y"
        },
        {
         "marker": {
          "color": "#E88471",
          "line": {
           "color": "black",
           "width": 1
          },
          "opacity": 0.5,
          "size": 12,
          "symbol": "diamond"
         },
         "name": "IDBA-UD",
         "opacity": 0.6,
         "showlegend": false,
         "type": "scatter",
         "x": [
          184
         ],
         "xaxis": "x",
         "y": [
          0.983004575006853
         ],
         "yaxis": "y"
        },
        {
         "marker": {
          "color": "#E88471",
          "line": {
           "color": "black",
           "width": 1
          },
          "opacity": 0.5,
          "size": 12,
          "symbol": "circle"
         },
         "name": "IDBA-UD",
         "opacity": 0.6,
         "showlegend": false,
         "type": "scatter",
         "x": [
          38
         ],
         "xaxis": "x",
         "y": [
          0.9828495947649799
         ],
         "yaxis": "y"
        },
        {
         "marker": {
          "color": "#E88471",
          "line": {
           "color": "black",
           "width": 1
          },
          "opacity": 0.5,
          "size": 12,
          "symbol": "square"
         },
         "name": "IDBA-UD",
         "opacity": 0.6,
         "showlegend": false,
         "type": "scatter",
         "x": [
          34
         ],
         "xaxis": "x",
         "y": [
          0.9832334612970832
         ],
         "yaxis": "y"
        },
        {
         "marker": {
          "color": "#E88471",
          "line": {
           "color": "black",
           "width": 1
          },
          "opacity": 0.5,
          "size": 12,
          "symbol": "diamond"
         },
         "name": "IDBA-UD",
         "opacity": 0.6,
         "showlegend": false,
         "type": "scatter",
         "x": [
          184
         ],
         "xaxis": "x",
         "y": [
          0.983004575006853
         ],
         "yaxis": "y"
        },
        {
         "marker": {
          "color": "#a54765",
          "line": {
           "color": "black",
           "width": 1
          },
          "opacity": 0.5,
          "size": 12,
          "symbol": "circle"
         },
         "name": "GATBMiniaPipeline",
         "opacity": 0.6,
         "showlegend": false,
         "type": "scatter",
         "x": [
          28
         ],
         "xaxis": "x",
         "y": [
          0.9836615725872332
         ],
         "yaxis": "y"
        },
        {
         "marker": {
          "color": "#a54765",
          "line": {
           "color": "black",
           "width": 1
          },
          "opacity": 0.5,
          "size": 12,
          "symbol": "square"
         },
         "name": "GATBMiniaPipeline",
         "opacity": 0.6,
         "showlegend": false,
         "type": "scatter",
         "x": [
          27
         ],
         "xaxis": "x",
         "y": [
          0.984780297586782
         ],
         "yaxis": "y"
        },
        {
         "marker": {
          "color": "#a54765",
          "line": {
           "color": "black",
           "width": 1
          },
          "opacity": 0.5,
          "size": 12,
          "symbol": "diamond"
         },
         "name": "GATBMiniaPipeline",
         "opacity": 0.6,
         "showlegend": false,
         "type": "scatter",
         "x": [
          30
         ],
         "xaxis": "x",
         "y": [
          0.9842629552482812
         ],
         "yaxis": "y"
        },
        {
         "marker": {
          "color": "#a54765",
          "line": {
           "color": "black",
           "width": 1
          },
          "opacity": 0.5,
          "size": 12,
          "symbol": "circle"
         },
         "name": "GATBMiniaPipeline",
         "opacity": 0.6,
         "showlegend": false,
         "type": "scatter",
         "x": [
          28
         ],
         "xaxis": "x",
         "y": [
          0.9836615725872332
         ],
         "yaxis": "y"
        },
        {
         "marker": {
          "color": "#a54765",
          "line": {
           "color": "black",
           "width": 1
          },
          "opacity": 0.5,
          "size": 12,
          "symbol": "square"
         },
         "name": "GATBMiniaPipeline",
         "opacity": 0.6,
         "showlegend": false,
         "type": "scatter",
         "x": [
          27
         ],
         "xaxis": "x",
         "y": [
          0.984780297586782
         ],
         "yaxis": "y"
        },
        {
         "marker": {
          "color": "#a54765",
          "line": {
           "color": "black",
           "width": 1
          },
          "opacity": 0.5,
          "size": 12,
          "symbol": "diamond"
         },
         "name": "GATBMiniaPipeline",
         "opacity": 0.6,
         "showlegend": false,
         "type": "scatter",
         "x": [
          30
         ],
         "xaxis": "x",
         "y": [
          0.9842629552482812
         ],
         "yaxis": "y"
        },
        {
         "marker": {
          "color": "#a54765",
          "line": {
           "color": "black",
           "width": 1
          },
          "opacity": 0.5,
          "size": 12,
          "symbol": "circle"
         },
         "name": "GATBMiniaPipeline",
         "opacity": 0.6,
         "showlegend": false,
         "type": "scatter",
         "x": [
          28
         ],
         "xaxis": "x",
         "y": [
          0.9836615725872332
         ],
         "yaxis": "y"
        },
        {
         "marker": {
          "color": "#a54765",
          "line": {
           "color": "black",
           "width": 1
          },
          "opacity": 0.5,
          "size": 12,
          "symbol": "square"
         },
         "name": "GATBMiniaPipeline",
         "opacity": 0.6,
         "showlegend": false,
         "type": "scatter",
         "x": [
          27
         ],
         "xaxis": "x",
         "y": [
          0.984780297586782
         ],
         "yaxis": "y"
        },
        {
         "marker": {
          "color": "#a54765",
          "line": {
           "color": "black",
           "width": 1
          },
          "opacity": 0.5,
          "size": 12,
          "symbol": "diamond"
         },
         "name": "GATBMiniaPipeline",
         "opacity": 0.6,
         "showlegend": false,
         "type": "scatter",
         "x": [
          30
         ],
         "xaxis": "x",
         "y": [
          0.9842629552482812
         ],
         "yaxis": "y"
        },
        {
         "marker": {
          "color": "#5876c8",
          "line": {
           "color": "black",
           "width": 1
          },
          "opacity": 0.5,
          "size": 12,
          "symbol": "circle"
         },
         "name": "Unicycler",
         "opacity": 0.6,
         "showlegend": false,
         "type": "scatter",
         "x": [
          20
         ],
         "xaxis": "x3",
         "y": [
          0.9885323357906396
         ],
         "yaxis": "y3"
        },
        {
         "marker": {
          "color": "#5876c8",
          "line": {
           "color": "black",
           "width": 1
          },
          "opacity": 0.5,
          "size": 12,
          "symbol": "square"
         },
         "name": "Unicycler",
         "opacity": 0.6,
         "showlegend": false,
         "type": "scatter",
         "x": [
          20
         ],
         "xaxis": "x3",
         "y": [
          0.9781875397133328
         ],
         "yaxis": "y3"
        },
        {
         "marker": {
          "color": "#5876c8",
          "line": {
           "color": "black",
           "width": 1
          },
          "opacity": 0.5,
          "size": 12,
          "symbol": "diamond"
         },
         "name": "Unicycler",
         "opacity": 0.6,
         "showlegend": false,
         "type": "scatter",
         "x": [
          30
         ],
         "xaxis": "x3",
         "y": [
          0.9888785095340116
         ],
         "yaxis": "y3"
        },
        {
         "marker": {
          "color": "#5876c8",
          "line": {
           "color": "black",
           "width": 1
          },
          "opacity": 0.5,
          "size": 12,
          "symbol": "circle"
         },
         "name": "Unicycler",
         "opacity": 0.6,
         "showlegend": false,
         "type": "scatter",
         "x": [
          20
         ],
         "xaxis": "x3",
         "y": [
          0.9885323357906396
         ],
         "yaxis": "y3"
        },
        {
         "marker": {
          "color": "#5876c8",
          "line": {
           "color": "black",
           "width": 1
          },
          "opacity": 0.5,
          "size": 12,
          "symbol": "square"
         },
         "name": "Unicycler",
         "opacity": 0.6,
         "showlegend": false,
         "type": "scatter",
         "x": [
          20
         ],
         "xaxis": "x3",
         "y": [
          0.9781875397133328
         ],
         "yaxis": "y3"
        },
        {
         "marker": {
          "color": "#5876c8",
          "line": {
           "color": "black",
           "width": 1
          },
          "opacity": 0.5,
          "size": 12,
          "symbol": "diamond"
         },
         "name": "Unicycler",
         "opacity": 0.6,
         "showlegend": false,
         "type": "scatter",
         "x": [
          30
         ],
         "xaxis": "x3",
         "y": [
          0.9888785095340116
         ],
         "yaxis": "y3"
        },
        {
         "marker": {
          "color": "#5876c8",
          "line": {
           "color": "black",
           "width": 1
          },
          "opacity": 0.5,
          "size": 12,
          "symbol": "circle"
         },
         "name": "Unicycler",
         "opacity": 0.6,
         "showlegend": false,
         "type": "scatter",
         "x": [
          20
         ],
         "xaxis": "x3",
         "y": [
          0.9885323357906396
         ],
         "yaxis": "y3"
        },
        {
         "marker": {
          "color": "#5876c8",
          "line": {
           "color": "black",
           "width": 1
          },
          "opacity": 0.5,
          "size": 12,
          "symbol": "square"
         },
         "name": "Unicycler",
         "opacity": 0.6,
         "showlegend": false,
         "type": "scatter",
         "x": [
          20
         ],
         "xaxis": "x3",
         "y": [
          0.9781875397133328
         ],
         "yaxis": "y3"
        },
        {
         "marker": {
          "color": "#5876c8",
          "line": {
           "color": "black",
           "width": 1
          },
          "opacity": 0.5,
          "size": 12,
          "symbol": "diamond"
         },
         "name": "Unicycler",
         "opacity": 0.6,
         "showlegend": false,
         "type": "scatter",
         "x": [
          30
         ],
         "xaxis": "x3",
         "y": [
          0.9888785095340116
         ],
         "yaxis": "y3"
        },
        {
         "marker": {
          "color": "#58AEC8",
          "line": {
           "color": "black",
           "width": 1
          },
          "opacity": 0.5,
          "size": 12,
          "symbol": "circle"
         },
         "name": "SPAdes",
         "opacity": 0.6,
         "showlegend": false,
         "type": "scatter",
         "x": [
          21
         ],
         "xaxis": "x3",
         "y": [
          0.9884465831070024
         ],
         "yaxis": "y3"
        },
        {
         "marker": {
          "color": "#58AEC8",
          "line": {
           "color": "black",
           "width": 1
          },
          "opacity": 0.5,
          "size": 12,
          "symbol": "square"
         },
         "name": "SPAdes",
         "opacity": 0.6,
         "showlegend": false,
         "type": "scatter",
         "x": [
          26
         ],
         "xaxis": "x3",
         "y": [
          0.9775763761197052
         ],
         "yaxis": "y3"
        },
        {
         "marker": {
          "color": "#58AEC8",
          "line": {
           "color": "black",
           "width": 1
          },
          "opacity": 0.5,
          "size": 12,
          "symbol": "diamond"
         },
         "name": "SPAdes",
         "opacity": 0.6,
         "showlegend": false,
         "type": "scatter",
         "x": [
          63
         ],
         "xaxis": "x3",
         "y": [
          0.9806912369192012
         ],
         "yaxis": "y3"
        },
        {
         "marker": {
          "color": "#58AEC8",
          "line": {
           "color": "black",
           "width": 1
          },
          "opacity": 0.5,
          "size": 12,
          "symbol": "circle"
         },
         "name": "SPAdes",
         "opacity": 0.6,
         "showlegend": false,
         "type": "scatter",
         "x": [
          21
         ],
         "xaxis": "x3",
         "y": [
          0.9884465831070024
         ],
         "yaxis": "y3"
        },
        {
         "marker": {
          "color": "#58AEC8",
          "line": {
           "color": "black",
           "width": 1
          },
          "opacity": 0.5,
          "size": 12,
          "symbol": "square"
         },
         "name": "SPAdes",
         "opacity": 0.6,
         "showlegend": false,
         "type": "scatter",
         "x": [
          26
         ],
         "xaxis": "x3",
         "y": [
          0.9775763761197052
         ],
         "yaxis": "y3"
        },
        {
         "marker": {
          "color": "#58AEC8",
          "line": {
           "color": "black",
           "width": 1
          },
          "opacity": 0.5,
          "size": 12,
          "symbol": "diamond"
         },
         "name": "SPAdes",
         "opacity": 0.6,
         "showlegend": false,
         "type": "scatter",
         "x": [
          63
         ],
         "xaxis": "x3",
         "y": [
          0.9806912369192012
         ],
         "yaxis": "y3"
        },
        {
         "marker": {
          "color": "#58AEC8",
          "line": {
           "color": "black",
           "width": 1
          },
          "opacity": 0.5,
          "size": 12,
          "symbol": "circle"
         },
         "name": "SPAdes",
         "opacity": 0.6,
         "showlegend": false,
         "type": "scatter",
         "x": [
          21
         ],
         "xaxis": "x3",
         "y": [
          0.9884465831070024
         ],
         "yaxis": "y3"
        },
        {
         "marker": {
          "color": "#58AEC8",
          "line": {
           "color": "black",
           "width": 1
          },
          "opacity": 0.5,
          "size": 12,
          "symbol": "square"
         },
         "name": "SPAdes",
         "opacity": 0.6,
         "showlegend": false,
         "type": "scatter",
         "x": [
          26
         ],
         "xaxis": "x3",
         "y": [
          0.9775763761197052
         ],
         "yaxis": "y3"
        },
        {
         "marker": {
          "color": "#58AEC8",
          "line": {
           "color": "black",
           "width": 1
          },
          "opacity": 0.5,
          "size": 12,
          "symbol": "diamond"
         },
         "name": "SPAdes",
         "opacity": 0.6,
         "showlegend": false,
         "type": "scatter",
         "x": [
          63
         ],
         "xaxis": "x3",
         "y": [
          0.9806912369192012
         ],
         "yaxis": "y3"
        },
        {
         "marker": {
          "color": "#39B185",
          "line": {
           "color": "black",
           "width": 1
          },
          "opacity": 0.5,
          "size": 12,
          "symbol": "circle"
         },
         "name": "SKESA",
         "opacity": 0.6,
         "showlegend": false,
         "type": "scatter",
         "x": [
          52
         ],
         "xaxis": "x3",
         "y": [
          0.9833523816753544
         ],
         "yaxis": "y3"
        },
        {
         "marker": {
          "color": "#39B185",
          "line": {
           "color": "black",
           "width": 1
          },
          "opacity": 0.5,
          "size": 12,
          "symbol": "square"
         },
         "name": "SKESA",
         "opacity": 0.6,
         "showlegend": false,
         "type": "scatter",
         "x": [
          40
         ],
         "xaxis": "x3",
         "y": [
          0.9876614540281268
         ],
         "yaxis": "y3"
        },
        {
         "marker": {
          "color": "#39B185",
          "line": {
           "color": "black",
           "width": 1
          },
          "opacity": 0.5,
          "size": 12,
          "symbol": "diamond"
         },
         "name": "SKESA",
         "opacity": 0.6,
         "showlegend": false,
         "type": "scatter",
         "x": [
          72
         ],
         "xaxis": "x3",
         "y": [
          0.9830775513532056
         ],
         "yaxis": "y3"
        },
        {
         "marker": {
          "color": "#39B185",
          "line": {
           "color": "black",
           "width": 1
          },
          "opacity": 0.5,
          "size": 12,
          "symbol": "circle"
         },
         "name": "SKESA",
         "opacity": 0.6,
         "showlegend": false,
         "type": "scatter",
         "x": [
          52
         ],
         "xaxis": "x3",
         "y": [
          0.9833523816753544
         ],
         "yaxis": "y3"
        },
        {
         "marker": {
          "color": "#39B185",
          "line": {
           "color": "black",
           "width": 1
          },
          "opacity": 0.5,
          "size": 12,
          "symbol": "square"
         },
         "name": "SKESA",
         "opacity": 0.6,
         "showlegend": false,
         "type": "scatter",
         "x": [
          40
         ],
         "xaxis": "x3",
         "y": [
          0.9876614540281268
         ],
         "yaxis": "y3"
        },
        {
         "marker": {
          "color": "#39B185",
          "line": {
           "color": "black",
           "width": 1
          },
          "opacity": 0.5,
          "size": 12,
          "symbol": "diamond"
         },
         "name": "SKESA",
         "opacity": 0.6,
         "showlegend": false,
         "type": "scatter",
         "x": [
          72
         ],
         "xaxis": "x3",
         "y": [
          0.9830775513532056
         ],
         "yaxis": "y3"
        },
        {
         "marker": {
          "color": "#39B185",
          "line": {
           "color": "black",
           "width": 1
          },
          "opacity": 0.5,
          "size": 12,
          "symbol": "circle"
         },
         "name": "SKESA",
         "opacity": 0.6,
         "showlegend": false,
         "type": "scatter",
         "x": [
          52
         ],
         "xaxis": "x3",
         "y": [
          0.9833523816753544
         ],
         "yaxis": "y3"
        },
        {
         "marker": {
          "color": "#39B185",
          "line": {
           "color": "black",
           "width": 1
          },
          "opacity": 0.5,
          "size": 12,
          "symbol": "square"
         },
         "name": "SKESA",
         "opacity": 0.6,
         "showlegend": false,
         "type": "scatter",
         "x": [
          40
         ],
         "xaxis": "x3",
         "y": [
          0.9876614540281268
         ],
         "yaxis": "y3"
        },
        {
         "marker": {
          "color": "#39B185",
          "line": {
           "color": "black",
           "width": 1
          },
          "opacity": 0.5,
          "size": 12,
          "symbol": "diamond"
         },
         "name": "SKESA",
         "opacity": 0.6,
         "showlegend": false,
         "type": "scatter",
         "x": [
          72
         ],
         "xaxis": "x3",
         "y": [
          0.9830775513532056
         ],
         "yaxis": "y3"
        },
        {
         "marker": {
          "color": "#9CCB86",
          "line": {
           "color": "black",
           "width": 1
          },
          "opacity": 0.5,
          "size": 12,
          "symbol": "circle"
         },
         "name": "metaSPAdes",
         "opacity": 0.6,
         "showlegend": false,
         "type": "scatter",
         "x": [
          21
         ],
         "xaxis": "x3",
         "y": [
          0.9906111354779938
         ],
         "yaxis": "y3"
        },
        {
         "marker": {
          "color": "#9CCB86",
          "line": {
           "color": "black",
           "width": 1
          },
          "opacity": 0.5,
          "size": 12,
          "symbol": "square"
         },
         "name": "metaSPAdes",
         "opacity": 0.6,
         "showlegend": false,
         "type": "scatter",
         "x": [
          23
         ],
         "xaxis": "x3",
         "y": [
          0.9792815893205576
         ],
         "yaxis": "y3"
        },
        {
         "marker": {
          "color": "#9CCB86",
          "line": {
           "color": "black",
           "width": 1
          },
          "opacity": 0.5,
          "size": 12,
          "symbol": "diamond"
         },
         "name": "metaSPAdes",
         "opacity": 0.6,
         "showlegend": false,
         "type": "scatter",
         "x": [
          51
         ],
         "xaxis": "x3",
         "y": [
          0.9888651546078712
         ],
         "yaxis": "y3"
        },
        {
         "marker": {
          "color": "#9CCB86",
          "line": {
           "color": "black",
           "width": 1
          },
          "opacity": 0.5,
          "size": 12,
          "symbol": "circle"
         },
         "name": "metaSPAdes",
         "opacity": 0.6,
         "showlegend": false,
         "type": "scatter",
         "x": [
          21
         ],
         "xaxis": "x3",
         "y": [
          0.9906111354779938
         ],
         "yaxis": "y3"
        },
        {
         "marker": {
          "color": "#9CCB86",
          "line": {
           "color": "black",
           "width": 1
          },
          "opacity": 0.5,
          "size": 12,
          "symbol": "square"
         },
         "name": "metaSPAdes",
         "opacity": 0.6,
         "showlegend": false,
         "type": "scatter",
         "x": [
          23
         ],
         "xaxis": "x3",
         "y": [
          0.9792815893205576
         ],
         "yaxis": "y3"
        },
        {
         "marker": {
          "color": "#9CCB86",
          "line": {
           "color": "black",
           "width": 1
          },
          "opacity": 0.5,
          "size": 12,
          "symbol": "diamond"
         },
         "name": "metaSPAdes",
         "opacity": 0.6,
         "showlegend": false,
         "type": "scatter",
         "x": [
          51
         ],
         "xaxis": "x3",
         "y": [
          0.9888651546078712
         ],
         "yaxis": "y3"
        },
        {
         "marker": {
          "color": "#9CCB86",
          "line": {
           "color": "black",
           "width": 1
          },
          "opacity": 0.5,
          "size": 12,
          "symbol": "circle"
         },
         "name": "metaSPAdes",
         "opacity": 0.6,
         "showlegend": false,
         "type": "scatter",
         "x": [
          21
         ],
         "xaxis": "x3",
         "y": [
          0.9906111354779938
         ],
         "yaxis": "y3"
        },
        {
         "marker": {
          "color": "#9CCB86",
          "line": {
           "color": "black",
           "width": 1
          },
          "opacity": 0.5,
          "size": 12,
          "symbol": "square"
         },
         "name": "metaSPAdes",
         "opacity": 0.6,
         "showlegend": false,
         "type": "scatter",
         "x": [
          23
         ],
         "xaxis": "x3",
         "y": [
          0.9792815893205576
         ],
         "yaxis": "y3"
        },
        {
         "marker": {
          "color": "#9CCB86",
          "line": {
           "color": "black",
           "width": 1
          },
          "opacity": 0.5,
          "size": 12,
          "symbol": "diamond"
         },
         "name": "metaSPAdes",
         "opacity": 0.6,
         "showlegend": false,
         "type": "scatter",
         "x": [
          51
         ],
         "xaxis": "x3",
         "y": [
          0.9888651546078712
         ],
         "yaxis": "y3"
        },
        {
         "marker": {
          "color": "#EEB479",
          "line": {
           "color": "black",
           "width": 1
          },
          "opacity": 0.5,
          "size": 12,
          "symbol": "circle"
         },
         "name": "MEGAHIT",
         "opacity": 0.6,
         "showlegend": false,
         "type": "scatter",
         "x": [
          31
         ],
         "xaxis": "x3",
         "y": [
          0.9790879428915242
         ],
         "yaxis": "y3"
        },
        {
         "marker": {
          "color": "#EEB479",
          "line": {
           "color": "black",
           "width": 1
          },
          "opacity": 0.5,
          "size": 12,
          "symbol": "square"
         },
         "name": "MEGAHIT",
         "opacity": 0.6,
         "showlegend": false,
         "type": "scatter",
         "x": [
          32
         ],
         "xaxis": "x3",
         "y": [
          0.9920717426632252
         ],
         "yaxis": "y3"
        },
        {
         "marker": {
          "color": "#EEB479",
          "line": {
           "color": "black",
           "width": 1
          },
          "opacity": 0.5,
          "size": 12,
          "symbol": "diamond"
         },
         "name": "MEGAHIT",
         "opacity": 0.6,
         "showlegend": false,
         "type": "scatter",
         "x": [
          35
         ],
         "xaxis": "x3",
         "y": [
          0.9915586323431008
         ],
         "yaxis": "y3"
        },
        {
         "marker": {
          "color": "#EEB479",
          "line": {
           "color": "black",
           "width": 1
          },
          "opacity": 0.5,
          "size": 12,
          "symbol": "circle"
         },
         "name": "MEGAHIT",
         "opacity": 0.6,
         "showlegend": false,
         "type": "scatter",
         "x": [
          31
         ],
         "xaxis": "x3",
         "y": [
          0.9791673695575162
         ],
         "yaxis": "y3"
        },
        {
         "marker": {
          "color": "#EEB479",
          "line": {
           "color": "black",
           "width": 1
          },
          "opacity": 0.5,
          "size": 12,
          "symbol": "square"
         },
         "name": "MEGAHIT",
         "opacity": 0.6,
         "showlegend": false,
         "type": "scatter",
         "x": [
          31
         ],
         "xaxis": "x3",
         "y": [
          0.979316733863032
         ],
         "yaxis": "y3"
        },
        {
         "marker": {
          "color": "#EEB479",
          "line": {
           "color": "black",
           "width": 1
          },
          "opacity": 0.5,
          "size": 12,
          "symbol": "diamond"
         },
         "name": "MEGAHIT",
         "opacity": 0.6,
         "showlegend": false,
         "type": "scatter",
         "x": [
          34
         ],
         "xaxis": "x3",
         "y": [
          0.97908688855525
         ],
         "yaxis": "y3"
        },
        {
         "marker": {
          "color": "#EEB479",
          "line": {
           "color": "black",
           "width": 1
          },
          "opacity": 0.5,
          "size": 12,
          "symbol": "circle"
         },
         "name": "MEGAHIT",
         "opacity": 0.6,
         "showlegend": false,
         "type": "scatter",
         "x": [
          32
         ],
         "xaxis": "x3",
         "y": [
          0.9915596866793748
         ],
         "yaxis": "y3"
        },
        {
         "marker": {
          "color": "#EEB479",
          "line": {
           "color": "black",
           "width": 1
          },
          "opacity": 0.5,
          "size": 12,
          "symbol": "square"
         },
         "name": "MEGAHIT",
         "opacity": 0.6,
         "showlegend": false,
         "type": "scatter",
         "x": [
          32
         ],
         "xaxis": "x3",
         "y": [
          0.9920717426632252
         ],
         "yaxis": "y3"
        },
        {
         "marker": {
          "color": "#EEB479",
          "line": {
           "color": "black",
           "width": 1
          },
          "opacity": 0.5,
          "size": 12,
          "symbol": "diamond"
         },
         "name": "MEGAHIT",
         "opacity": 0.6,
         "showlegend": false,
         "type": "scatter",
         "x": [
          34
         ],
         "xaxis": "x3",
         "y": [
          0.9790731821836852
         ],
         "yaxis": "y3"
        },
        {
         "marker": {
          "color": "#E88471",
          "line": {
           "color": "black",
           "width": 1
          },
          "opacity": 0.5,
          "size": 12,
          "symbol": "circle"
         },
         "name": "IDBA-UD",
         "opacity": 0.6,
         "showlegend": false,
         "type": "scatter",
         "x": [
          55
         ],
         "xaxis": "x3",
         "y": [
          0.9760690266929828
         ],
         "yaxis": "y3"
        },
        {
         "marker": {
          "color": "#E88471",
          "line": {
           "color": "black",
           "width": 1
          },
          "opacity": 0.5,
          "size": 12,
          "symbol": "square"
         },
         "name": "IDBA-UD",
         "opacity": 0.6,
         "showlegend": false,
         "type": "scatter",
         "x": [
          53
         ],
         "xaxis": "x3",
         "y": [
          0.9881246590979379
         ],
         "yaxis": "y3"
        },
        {
         "marker": {
          "color": "#E88471",
          "line": {
           "color": "black",
           "width": 1
          },
          "opacity": 0.5,
          "size": 12,
          "symbol": "diamond"
         },
         "name": "IDBA-UD",
         "opacity": 0.6,
         "showlegend": false,
         "type": "scatter",
         "x": [
          231
         ],
         "xaxis": "x3",
         "y": [
          0.987177513678256
         ],
         "yaxis": "y3"
        },
        {
         "marker": {
          "color": "#E88471",
          "line": {
           "color": "black",
           "width": 1
          },
          "opacity": 0.5,
          "size": 12,
          "symbol": "circle"
         },
         "name": "IDBA-UD",
         "opacity": 0.6,
         "showlegend": false,
         "type": "scatter",
         "x": [
          55
         ],
         "xaxis": "x3",
         "y": [
          0.9760690266929828
         ],
         "yaxis": "y3"
        },
        {
         "marker": {
          "color": "#E88471",
          "line": {
           "color": "black",
           "width": 1
          },
          "opacity": 0.5,
          "size": 12,
          "symbol": "square"
         },
         "name": "IDBA-UD",
         "opacity": 0.6,
         "showlegend": false,
         "type": "scatter",
         "x": [
          53
         ],
         "xaxis": "x3",
         "y": [
          0.9881246590979379
         ],
         "yaxis": "y3"
        },
        {
         "marker": {
          "color": "#E88471",
          "line": {
           "color": "black",
           "width": 1
          },
          "opacity": 0.5,
          "size": 12,
          "symbol": "diamond"
         },
         "name": "IDBA-UD",
         "opacity": 0.6,
         "showlegend": false,
         "type": "scatter",
         "x": [
          231
         ],
         "xaxis": "x3",
         "y": [
          0.987163807306691
         ],
         "yaxis": "y3"
        },
        {
         "marker": {
          "color": "#E88471",
          "line": {
           "color": "black",
           "width": 1
          },
          "opacity": 0.5,
          "size": 12,
          "symbol": "circle"
         },
         "name": "IDBA-UD",
         "opacity": 0.6,
         "showlegend": false,
         "type": "scatter",
         "x": [
          55
         ],
         "xaxis": "x3",
         "y": [
          0.9760690266929828
         ],
         "yaxis": "y3"
        },
        {
         "marker": {
          "color": "#E88471",
          "line": {
           "color": "black",
           "width": 1
          },
          "opacity": 0.5,
          "size": 12,
          "symbol": "square"
         },
         "name": "IDBA-UD",
         "opacity": 0.6,
         "showlegend": false,
         "type": "scatter",
         "x": [
          53
         ],
         "xaxis": "x3",
         "y": [
          0.9881246590979379
         ],
         "yaxis": "y3"
        },
        {
         "marker": {
          "color": "#E88471",
          "line": {
           "color": "black",
           "width": 1
          },
          "opacity": 0.5,
          "size": 12,
          "symbol": "diamond"
         },
         "name": "IDBA-UD",
         "opacity": 0.6,
         "showlegend": false,
         "type": "scatter",
         "x": [
          231
         ],
         "xaxis": "x3",
         "y": [
          0.987177513678256
         ],
         "yaxis": "y3"
        },
        {
         "marker": {
          "color": "#a54765",
          "line": {
           "color": "black",
           "width": 1
          },
          "opacity": 0.5,
          "size": 12,
          "symbol": "circle"
         },
         "name": "GATBMiniaPipeline",
         "opacity": 0.6,
         "showlegend": false,
         "type": "scatter",
         "x": [
          45
         ],
         "xaxis": "x3",
         "y": [
          0.976931473765302
         ],
         "yaxis": "y3"
        },
        {
         "marker": {
          "color": "#a54765",
          "line": {
           "color": "black",
           "width": 1
          },
          "opacity": 0.5,
          "size": 12,
          "symbol": "square"
         },
         "name": "GATBMiniaPipeline",
         "opacity": 0.6,
         "showlegend": false,
         "type": "scatter",
         "x": [
          28
         ],
         "xaxis": "x3",
         "y": [
          0.978434957292352
         ],
         "yaxis": "y3"
        },
        {
         "marker": {
          "color": "#a54765",
          "line": {
           "color": "black",
           "width": 1
          },
          "opacity": 0.5,
          "size": 12,
          "symbol": "diamond"
         },
         "name": "GATBMiniaPipeline",
         "opacity": 0.6,
         "showlegend": false,
         "type": "scatter",
         "x": [
          38
         ],
         "xaxis": "x3",
         "y": [
          0.9786806176442472
         ],
         "yaxis": "y3"
        },
        {
         "marker": {
          "color": "#a54765",
          "line": {
           "color": "black",
           "width": 1
          },
          "opacity": 0.5,
          "size": 12,
          "symbol": "circle"
         },
         "name": "GATBMiniaPipeline",
         "opacity": 0.6,
         "showlegend": false,
         "type": "scatter",
         "x": [
          46
         ],
         "xaxis": "x3",
         "y": [
          0.9894320360779816
         ],
         "yaxis": "y3"
        },
        {
         "marker": {
          "color": "#a54765",
          "line": {
           "color": "black",
           "width": 1
          },
          "opacity": 0.5,
          "size": 12,
          "symbol": "square"
         },
         "name": "GATBMiniaPipeline",
         "opacity": 0.6,
         "showlegend": false,
         "type": "scatter",
         "x": [
          29
         ],
         "xaxis": "x3",
         "y": [
          0.990907403971052
         ],
         "yaxis": "y3"
        },
        {
         "marker": {
          "color": "#a54765",
          "line": {
           "color": "black",
           "width": 1
          },
          "opacity": 0.5,
          "size": 12,
          "symbol": "diamond"
         },
         "name": "GATBMiniaPipeline",
         "opacity": 0.6,
         "showlegend": false,
         "type": "scatter",
         "x": [
          39
         ],
         "xaxis": "x3",
         "y": [
          0.9911994551190136
         ],
         "yaxis": "y3"
        },
        {
         "marker": {
          "color": "#a54765",
          "line": {
           "color": "black",
           "width": 1
          },
          "opacity": 0.5,
          "size": 12,
          "symbol": "circle"
         },
         "name": "GATBMiniaPipeline",
         "opacity": 0.6,
         "showlegend": false,
         "type": "scatter",
         "x": [
          45
         ],
         "xaxis": "x3",
         "y": [
          0.9769455315822916
         ],
         "yaxis": "y3"
        },
        {
         "marker": {
          "color": "#a54765",
          "line": {
           "color": "black",
           "width": 1
          },
          "opacity": 0.5,
          "size": 12,
          "symbol": "square"
         },
         "name": "GATBMiniaPipeline",
         "opacity": 0.6,
         "showlegend": false,
         "type": "scatter",
         "x": [
          29
         ],
         "xaxis": "x3",
         "y": [
          0.990907403971052
         ],
         "yaxis": "y3"
        },
        {
         "marker": {
          "color": "#a54765",
          "line": {
           "color": "black",
           "width": 1
          },
          "opacity": 0.5,
          "size": 12,
          "symbol": "diamond"
         },
         "name": "GATBMiniaPipeline",
         "opacity": 0.6,
         "showlegend": false,
         "type": "scatter",
         "x": [
          38
         ],
         "xaxis": "x3",
         "y": [
          0.9786806176442472
         ],
         "yaxis": "y3"
        },
        {
         "marker": {
          "color": "#5876c8",
          "line": {
           "color": "black",
           "width": 1
          },
          "opacity": 0.5,
          "size": 12,
          "symbol": "circle"
         },
         "name": "Unicycler",
         "opacity": 0.6,
         "showlegend": false,
         "type": "scatter",
         "x": [
          111
         ],
         "xaxis": "x5",
         "y": [
          0.964104423647458
         ],
         "yaxis": "y5"
        },
        {
         "marker": {
          "color": "#5876c8",
          "line": {
           "color": "black",
           "width": 1
          },
          "opacity": 0.5,
          "size": 12,
          "symbol": "square"
         },
         "name": "Unicycler",
         "opacity": 0.6,
         "showlegend": false,
         "type": "scatter",
         "x": [
          72
         ],
         "xaxis": "x5",
         "y": [
          0.9713700787798132
         ],
         "yaxis": "y5"
        },
        {
         "marker": {
          "color": "#5876c8",
          "line": {
           "color": "black",
           "width": 1
          },
          "opacity": 0.5,
          "size": 12,
          "symbol": "diamond"
         },
         "name": "Unicycler",
         "opacity": 0.6,
         "showlegend": false,
         "type": "scatter",
         "x": [
          98
         ],
         "xaxis": "x5",
         "y": [
          0.9720575292827474
         ],
         "yaxis": "y5"
        },
        {
         "marker": {
          "color": "#5876c8",
          "line": {
           "color": "black",
           "width": 1
          },
          "opacity": 0.5,
          "size": 12,
          "symbol": "circle"
         },
         "name": "Unicycler",
         "opacity": 0.6,
         "showlegend": false,
         "type": "scatter",
         "x": [
          111
         ],
         "xaxis": "x5",
         "y": [
          0.964104423647458
         ],
         "yaxis": "y5"
        },
        {
         "marker": {
          "color": "#5876c8",
          "line": {
           "color": "black",
           "width": 1
          },
          "opacity": 0.5,
          "size": 12,
          "symbol": "square"
         },
         "name": "Unicycler",
         "opacity": 0.6,
         "showlegend": false,
         "type": "scatter",
         "x": [
          72
         ],
         "xaxis": "x5",
         "y": [
          0.9713700787798132
         ],
         "yaxis": "y5"
        },
        {
         "marker": {
          "color": "#5876c8",
          "line": {
           "color": "black",
           "width": 1
          },
          "opacity": 0.5,
          "size": 12,
          "symbol": "diamond"
         },
         "name": "Unicycler",
         "opacity": 0.6,
         "showlegend": false,
         "type": "scatter",
         "x": [
          98
         ],
         "xaxis": "x5",
         "y": [
          0.9720575292827474
         ],
         "yaxis": "y5"
        },
        {
         "marker": {
          "color": "#5876c8",
          "line": {
           "color": "black",
           "width": 1
          },
          "opacity": 0.5,
          "size": 12,
          "symbol": "circle"
         },
         "name": "Unicycler",
         "opacity": 0.6,
         "showlegend": false,
         "type": "scatter",
         "x": [
          111
         ],
         "xaxis": "x5",
         "y": [
          0.964104423647458
         ],
         "yaxis": "y5"
        },
        {
         "marker": {
          "color": "#5876c8",
          "line": {
           "color": "black",
           "width": 1
          },
          "opacity": 0.5,
          "size": 12,
          "symbol": "square"
         },
         "name": "Unicycler",
         "opacity": 0.6,
         "showlegend": false,
         "type": "scatter",
         "x": [
          72
         ],
         "xaxis": "x5",
         "y": [
          0.9713700787798132
         ],
         "yaxis": "y5"
        },
        {
         "marker": {
          "color": "#5876c8",
          "line": {
           "color": "black",
           "width": 1
          },
          "opacity": 0.5,
          "size": 12,
          "symbol": "diamond"
         },
         "name": "Unicycler",
         "opacity": 0.6,
         "showlegend": false,
         "type": "scatter",
         "x": [
          98
         ],
         "xaxis": "x5",
         "y": [
          0.9720575292827474
         ],
         "yaxis": "y5"
        },
        {
         "marker": {
          "color": "#58AEC8",
          "line": {
           "color": "black",
           "width": 1
          },
          "opacity": 0.5,
          "size": 12,
          "symbol": "circle"
         },
         "name": "SPAdes",
         "opacity": 0.6,
         "showlegend": false,
         "type": "scatter",
         "x": [
          120
         ],
         "xaxis": "x5",
         "y": [
          0.9686328674366279
         ],
         "yaxis": "y5"
        },
        {
         "marker": {
          "color": "#58AEC8",
          "line": {
           "color": "black",
           "width": 1
          },
          "opacity": 0.5,
          "size": 12,
          "symbol": "square"
         },
         "name": "SPAdes",
         "opacity": 0.6,
         "showlegend": false,
         "type": "scatter",
         "x": [
          84
         ],
         "xaxis": "x5",
         "y": [
          0.9744862692464108
         ],
         "yaxis": "y5"
        },
        {
         "marker": {
          "color": "#58AEC8",
          "line": {
           "color": "black",
           "width": 1
          },
          "opacity": 0.5,
          "size": 12,
          "symbol": "diamond"
         },
         "name": "SPAdes",
         "opacity": 0.6,
         "showlegend": false,
         "type": "scatter",
         "x": [
          143
         ],
         "xaxis": "x5",
         "y": [
          0.9717501071256051
         ],
         "yaxis": "y5"
        },
        {
         "marker": {
          "color": "#58AEC8",
          "line": {
           "color": "black",
           "width": 1
          },
          "opacity": 0.5,
          "size": 12,
          "symbol": "circle"
         },
         "name": "SPAdes",
         "opacity": 0.6,
         "showlegend": false,
         "type": "scatter",
         "x": [
          120
         ],
         "xaxis": "x5",
         "y": [
          0.9686328674366279
         ],
         "yaxis": "y5"
        },
        {
         "marker": {
          "color": "#58AEC8",
          "line": {
           "color": "black",
           "width": 1
          },
          "opacity": 0.5,
          "size": 12,
          "symbol": "square"
         },
         "name": "SPAdes",
         "opacity": 0.6,
         "showlegend": false,
         "type": "scatter",
         "x": [
          84
         ],
         "xaxis": "x5",
         "y": [
          0.9744862692464108
         ],
         "yaxis": "y5"
        },
        {
         "marker": {
          "color": "#58AEC8",
          "line": {
           "color": "black",
           "width": 1
          },
          "opacity": 0.5,
          "size": 12,
          "symbol": "diamond"
         },
         "name": "SPAdes",
         "opacity": 0.6,
         "showlegend": false,
         "type": "scatter",
         "x": [
          143
         ],
         "xaxis": "x5",
         "y": [
          0.9717501071256051
         ],
         "yaxis": "y5"
        },
        {
         "marker": {
          "color": "#58AEC8",
          "line": {
           "color": "black",
           "width": 1
          },
          "opacity": 0.5,
          "size": 12,
          "symbol": "circle"
         },
         "name": "SPAdes",
         "opacity": 0.6,
         "showlegend": false,
         "type": "scatter",
         "x": [
          120
         ],
         "xaxis": "x5",
         "y": [
          0.9686328674366279
         ],
         "yaxis": "y5"
        },
        {
         "marker": {
          "color": "#58AEC8",
          "line": {
           "color": "black",
           "width": 1
          },
          "opacity": 0.5,
          "size": 12,
          "symbol": "square"
         },
         "name": "SPAdes",
         "opacity": 0.6,
         "showlegend": false,
         "type": "scatter",
         "x": [
          84
         ],
         "xaxis": "x5",
         "y": [
          0.9744862692464108
         ],
         "yaxis": "y5"
        },
        {
         "marker": {
          "color": "#58AEC8",
          "line": {
           "color": "black",
           "width": 1
          },
          "opacity": 0.5,
          "size": 12,
          "symbol": "diamond"
         },
         "name": "SPAdes",
         "opacity": 0.6,
         "showlegend": false,
         "type": "scatter",
         "x": [
          143
         ],
         "xaxis": "x5",
         "y": [
          0.9717501071256051
         ],
         "yaxis": "y5"
        },
        {
         "marker": {
          "color": "#39B185",
          "line": {
           "color": "black",
           "width": 1
          },
          "opacity": 0.5,
          "size": 12,
          "symbol": "circle"
         },
         "name": "SKESA",
         "opacity": 0.6,
         "showlegend": false,
         "type": "scatter",
         "x": [
          270
         ],
         "xaxis": "x5",
         "y": [
          0.9570144083414018
         ],
         "yaxis": "y5"
        },
        {
         "marker": {
          "color": "#39B185",
          "line": {
           "color": "black",
           "width": 1
          },
          "opacity": 0.5,
          "size": 12,
          "symbol": "square"
         },
         "name": "SKESA",
         "opacity": 0.6,
         "showlegend": false,
         "type": "scatter",
         "x": [
          180
         ],
         "xaxis": "x5",
         "y": [
          0.9600514874405984
         ],
         "yaxis": "y5"
        },
        {
         "marker": {
          "color": "#39B185",
          "line": {
           "color": "black",
           "width": 1
          },
          "opacity": 0.5,
          "size": 12,
          "symbol": "diamond"
         },
         "name": "SKESA",
         "opacity": 0.6,
         "showlegend": false,
         "type": "scatter",
         "x": [
          209
         ],
         "xaxis": "x5",
         "y": [
          0.9610738497270134
         ],
         "yaxis": "y5"
        },
        {
         "marker": {
          "color": "#39B185",
          "line": {
           "color": "black",
           "width": 1
          },
          "opacity": 0.5,
          "size": 12,
          "symbol": "circle"
         },
         "name": "SKESA",
         "opacity": 0.6,
         "showlegend": false,
         "type": "scatter",
         "x": [
          270
         ],
         "xaxis": "x5",
         "y": [
          0.9570144083414018
         ],
         "yaxis": "y5"
        },
        {
         "marker": {
          "color": "#39B185",
          "line": {
           "color": "black",
           "width": 1
          },
          "opacity": 0.5,
          "size": 12,
          "symbol": "square"
         },
         "name": "SKESA",
         "opacity": 0.6,
         "showlegend": false,
         "type": "scatter",
         "x": [
          180
         ],
         "xaxis": "x5",
         "y": [
          0.9600514874405984
         ],
         "yaxis": "y5"
        },
        {
         "marker": {
          "color": "#39B185",
          "line": {
           "color": "black",
           "width": 1
          },
          "opacity": 0.5,
          "size": 12,
          "symbol": "diamond"
         },
         "name": "SKESA",
         "opacity": 0.6,
         "showlegend": false,
         "type": "scatter",
         "x": [
          209
         ],
         "xaxis": "x5",
         "y": [
          0.9610738497270134
         ],
         "yaxis": "y5"
        },
        {
         "marker": {
          "color": "#39B185",
          "line": {
           "color": "black",
           "width": 1
          },
          "opacity": 0.5,
          "size": 12,
          "symbol": "circle"
         },
         "name": "SKESA",
         "opacity": 0.6,
         "showlegend": false,
         "type": "scatter",
         "x": [
          270
         ],
         "xaxis": "x5",
         "y": [
          0.9570144083414018
         ],
         "yaxis": "y5"
        },
        {
         "marker": {
          "color": "#39B185",
          "line": {
           "color": "black",
           "width": 1
          },
          "opacity": 0.5,
          "size": 12,
          "symbol": "square"
         },
         "name": "SKESA",
         "opacity": 0.6,
         "showlegend": false,
         "type": "scatter",
         "x": [
          180
         ],
         "xaxis": "x5",
         "y": [
          0.9600514874405984
         ],
         "yaxis": "y5"
        },
        {
         "marker": {
          "color": "#39B185",
          "line": {
           "color": "black",
           "width": 1
          },
          "opacity": 0.5,
          "size": 12,
          "symbol": "diamond"
         },
         "name": "SKESA",
         "opacity": 0.6,
         "showlegend": false,
         "type": "scatter",
         "x": [
          209
         ],
         "xaxis": "x5",
         "y": [
          0.9610738497270134
         ],
         "yaxis": "y5"
        },
        {
         "marker": {
          "color": "#9CCB86",
          "line": {
           "color": "black",
           "width": 1
          },
          "opacity": 0.5,
          "size": 12,
          "symbol": "circle"
         },
         "name": "metaSPAdes",
         "opacity": 0.6,
         "showlegend": false,
         "type": "scatter",
         "x": [
          82
         ],
         "xaxis": "x5",
         "y": [
          0.9772832862652174
         ],
         "yaxis": "y5"
        },
        {
         "marker": {
          "color": "#9CCB86",
          "line": {
           "color": "black",
           "width": 1
          },
          "opacity": 0.5,
          "size": 12,
          "symbol": "square"
         },
         "name": "metaSPAdes",
         "opacity": 0.6,
         "showlegend": false,
         "type": "scatter",
         "x": [
          86
         ],
         "xaxis": "x5",
         "y": [
          0.97929947198933
         ],
         "yaxis": "y5"
        },
        {
         "marker": {
          "color": "#9CCB86",
          "line": {
           "color": "black",
           "width": 1
          },
          "opacity": 0.5,
          "size": 12,
          "symbol": "diamond"
         },
         "name": "metaSPAdes",
         "opacity": 0.6,
         "showlegend": false,
         "type": "scatter",
         "x": [
          167
         ],
         "xaxis": "x5",
         "y": [
          0.9728360522882072
         ],
         "yaxis": "y5"
        },
        {
         "marker": {
          "color": "#9CCB86",
          "line": {
           "color": "black",
           "width": 1
          },
          "opacity": 0.5,
          "size": 12,
          "symbol": "circle"
         },
         "name": "metaSPAdes",
         "opacity": 0.6,
         "showlegend": false,
         "type": "scatter",
         "x": [
          82
         ],
         "xaxis": "x5",
         "y": [
          0.9772832862652174
         ],
         "yaxis": "y5"
        },
        {
         "marker": {
          "color": "#9CCB86",
          "line": {
           "color": "black",
           "width": 1
          },
          "opacity": 0.5,
          "size": 12,
          "symbol": "square"
         },
         "name": "metaSPAdes",
         "opacity": 0.6,
         "showlegend": false,
         "type": "scatter",
         "x": [
          86
         ],
         "xaxis": "x5",
         "y": [
          0.97929947198933
         ],
         "yaxis": "y5"
        },
        {
         "marker": {
          "color": "#9CCB86",
          "line": {
           "color": "black",
           "width": 1
          },
          "opacity": 0.5,
          "size": 12,
          "symbol": "diamond"
         },
         "name": "metaSPAdes",
         "opacity": 0.6,
         "showlegend": false,
         "type": "scatter",
         "x": [
          167
         ],
         "xaxis": "x5",
         "y": [
          0.9728360522882072
         ],
         "yaxis": "y5"
        },
        {
         "marker": {
          "color": "#9CCB86",
          "line": {
           "color": "black",
           "width": 1
          },
          "opacity": 0.5,
          "size": 12,
          "symbol": "circle"
         },
         "name": "metaSPAdes",
         "opacity": 0.6,
         "showlegend": false,
         "type": "scatter",
         "x": [
          82
         ],
         "xaxis": "x5",
         "y": [
          0.9772832862652174
         ],
         "yaxis": "y5"
        },
        {
         "marker": {
          "color": "#9CCB86",
          "line": {
           "color": "black",
           "width": 1
          },
          "opacity": 0.5,
          "size": 12,
          "symbol": "square"
         },
         "name": "metaSPAdes",
         "opacity": 0.6,
         "showlegend": false,
         "type": "scatter",
         "x": [
          86
         ],
         "xaxis": "x5",
         "y": [
          0.97929947198933
         ],
         "yaxis": "y5"
        },
        {
         "marker": {
          "color": "#9CCB86",
          "line": {
           "color": "black",
           "width": 1
          },
          "opacity": 0.5,
          "size": 12,
          "symbol": "diamond"
         },
         "name": "metaSPAdes",
         "opacity": 0.6,
         "showlegend": false,
         "type": "scatter",
         "x": [
          167
         ],
         "xaxis": "x5",
         "y": [
          0.9728360522882072
         ],
         "yaxis": "y5"
        },
        {
         "marker": {
          "color": "#EEB479",
          "line": {
           "color": "black",
           "width": 1
          },
          "opacity": 0.5,
          "size": 12,
          "symbol": "circle"
         },
         "name": "MEGAHIT",
         "opacity": 0.6,
         "showlegend": false,
         "type": "scatter",
         "x": [
          137
         ],
         "xaxis": "x5",
         "y": [
          0.97838748789722
         ],
         "yaxis": "y5"
        },
        {
         "marker": {
          "color": "#EEB479",
          "line": {
           "color": "black",
           "width": 1
          },
          "opacity": 0.5,
          "size": 12,
          "symbol": "square"
         },
         "name": "MEGAHIT",
         "opacity": 0.6,
         "showlegend": false,
         "type": "scatter",
         "x": [
          141
         ],
         "xaxis": "x5",
         "y": [
          0.9783652443827782
         ],
         "yaxis": "y5"
        },
        {
         "marker": {
          "color": "#EEB479",
          "line": {
           "color": "black",
           "width": 1
          },
          "opacity": 0.5,
          "size": 12,
          "symbol": "diamond"
         },
         "name": "MEGAHIT",
         "opacity": 0.6,
         "showlegend": false,
         "type": "scatter",
         "x": [
          132
         ],
         "xaxis": "x5",
         "y": [
          0.9806072227629214
         ],
         "yaxis": "y5"
        },
        {
         "marker": {
          "color": "#EEB479",
          "line": {
           "color": "black",
           "width": 1
          },
          "opacity": 0.5,
          "size": 12,
          "symbol": "circle"
         },
         "name": "MEGAHIT",
         "opacity": 0.6,
         "showlegend": false,
         "type": "scatter",
         "x": [
          137
         ],
         "xaxis": "x5",
         "y": [
          0.9784025966994822
         ],
         "yaxis": "y5"
        },
        {
         "marker": {
          "color": "#EEB479",
          "line": {
           "color": "black",
           "width": 1
          },
          "opacity": 0.5,
          "size": 12,
          "symbol": "square"
         },
         "name": "MEGAHIT",
         "opacity": 0.6,
         "showlegend": false,
         "type": "scatter",
         "x": [
          141
         ],
         "xaxis": "x5",
         "y": [
          0.9784735241323246
         ],
         "yaxis": "y5"
        },
        {
         "marker": {
          "color": "#EEB479",
          "line": {
           "color": "black",
           "width": 1
          },
          "opacity": 0.5,
          "size": 12,
          "symbol": "diamond"
         },
         "name": "MEGAHIT",
         "opacity": 0.6,
         "showlegend": false,
         "type": "scatter",
         "x": [
          132
         ],
         "xaxis": "x5",
         "y": [
          0.9806072227629214
         ],
         "yaxis": "y5"
        },
        {
         "marker": {
          "color": "#EEB479",
          "line": {
           "color": "black",
           "width": 1
          },
          "opacity": 0.5,
          "size": 12,
          "symbol": "circle"
         },
         "name": "MEGAHIT",
         "opacity": 0.6,
         "showlegend": false,
         "type": "scatter",
         "x": [
          137
         ],
         "xaxis": "x5",
         "y": [
          0.97838748789722
         ],
         "yaxis": "y5"
        },
        {
         "marker": {
          "color": "#EEB479",
          "line": {
           "color": "black",
           "width": 1
          },
          "opacity": 0.5,
          "size": 12,
          "symbol": "square"
         },
         "name": "MEGAHIT",
         "opacity": 0.6,
         "showlegend": false,
         "type": "scatter",
         "x": [
          141
         ],
         "xaxis": "x5",
         "y": [
          0.9783652443827782
         ],
         "yaxis": "y5"
        },
        {
         "marker": {
          "color": "#EEB479",
          "line": {
           "color": "black",
           "width": 1
          },
          "opacity": 0.5,
          "size": 12,
          "symbol": "diamond"
         },
         "name": "MEGAHIT",
         "opacity": 0.6,
         "showlegend": false,
         "type": "scatter",
         "x": [
          132
         ],
         "xaxis": "x5",
         "y": [
          0.9806072227629214
         ],
         "yaxis": "y5"
        },
        {
         "marker": {
          "color": "#E88471",
          "line": {
           "color": "black",
           "width": 1
          },
          "opacity": 0.5,
          "size": 12,
          "symbol": "circle"
         },
         "name": "IDBA-UD",
         "opacity": 0.6,
         "showlegend": false,
         "type": "scatter",
         "x": [
          449
         ],
         "xaxis": "x5",
         "y": [
          0.9438418410579184
         ],
         "yaxis": "y5"
        },
        {
         "marker": {
          "color": "#E88471",
          "line": {
           "color": "black",
           "width": 1
          },
          "opacity": 0.5,
          "size": 12,
          "symbol": "square"
         },
         "name": "IDBA-UD",
         "opacity": 0.6,
         "showlegend": false,
         "type": "scatter",
         "x": [
          439
         ],
         "xaxis": "x5",
         "y": [
          0.9485299764932218
         ],
         "yaxis": "y5"
        },
        {
         "marker": {
          "color": "#E88471",
          "line": {
           "color": "black",
           "width": 1
          },
          "opacity": 0.5,
          "size": 12,
          "symbol": "diamond"
         },
         "name": "IDBA-UD",
         "opacity": 0.6,
         "showlegend": false,
         "type": "scatter",
         "x": [
          358
         ],
         "xaxis": "x5",
         "y": [
          0.963083530272374
         ],
         "yaxis": "y5"
        },
        {
         "marker": {
          "color": "#E88471",
          "line": {
           "color": "black",
           "width": 1
          },
          "opacity": 0.5,
          "size": 12,
          "symbol": "circle"
         },
         "name": "IDBA-UD",
         "opacity": 0.6,
         "showlegend": false,
         "type": "scatter",
         "x": [
          449
         ],
         "xaxis": "x5",
         "y": [
          0.9438426804358218
         ],
         "yaxis": "y5"
        },
        {
         "marker": {
          "color": "#E88471",
          "line": {
           "color": "black",
           "width": 1
          },
          "opacity": 0.5,
          "size": 12,
          "symbol": "square"
         },
         "name": "IDBA-UD",
         "opacity": 0.6,
         "showlegend": false,
         "type": "scatter",
         "x": [
          439
         ],
         "xaxis": "x5",
         "y": [
          0.9485100412680146
         ],
         "yaxis": "y5"
        },
        {
         "marker": {
          "color": "#E88471",
          "line": {
           "color": "black",
           "width": 1
          },
          "opacity": 0.5,
          "size": 12,
          "symbol": "diamond"
         },
         "name": "IDBA-UD",
         "opacity": 0.6,
         "showlegend": false,
         "type": "scatter",
         "x": [
          358
         ],
         "xaxis": "x5",
         "y": [
          0.963083530272374
         ],
         "yaxis": "y5"
        },
        {
         "marker": {
          "color": "#E88471",
          "line": {
           "color": "black",
           "width": 1
          },
          "opacity": 0.5,
          "size": 12,
          "symbol": "circle"
         },
         "name": "IDBA-UD",
         "opacity": 0.6,
         "showlegend": false,
         "type": "scatter",
         "x": [
          449
         ],
         "xaxis": "x5",
         "y": [
          0.9438426804358218
         ],
         "yaxis": "y5"
        },
        {
         "marker": {
          "color": "#E88471",
          "line": {
           "color": "black",
           "width": 1
          },
          "opacity": 0.5,
          "size": 12,
          "symbol": "square"
         },
         "name": "IDBA-UD",
         "opacity": 0.6,
         "showlegend": false,
         "type": "scatter",
         "x": [
          439
         ],
         "xaxis": "x5",
         "y": [
          0.9484344972567031
         ],
         "yaxis": "y5"
        },
        {
         "marker": {
          "color": "#E88471",
          "line": {
           "color": "black",
           "width": 1
          },
          "opacity": 0.5,
          "size": 12,
          "symbol": "diamond"
         },
         "name": "IDBA-UD",
         "opacity": 0.6,
         "showlegend": false,
         "type": "scatter",
         "x": [
          358
         ],
         "xaxis": "x5",
         "y": [
          0.963083530272374
         ],
         "yaxis": "y5"
        },
        {
         "marker": {
          "color": "#a54765",
          "line": {
           "color": "black",
           "width": 1
          },
          "opacity": 0.5,
          "size": 12,
          "symbol": "circle"
         },
         "name": "GATBMiniaPipeline",
         "opacity": 0.6,
         "showlegend": false,
         "type": "scatter",
         "x": [
          199
         ],
         "xaxis": "x5",
         "y": [
          0.9685388571114404
         ],
         "yaxis": "y5"
        },
        {
         "marker": {
          "color": "#a54765",
          "line": {
           "color": "black",
           "width": 1
          },
          "opacity": 0.5,
          "size": 12,
          "symbol": "square"
         },
         "name": "GATBMiniaPipeline",
         "opacity": 0.6,
         "showlegend": false,
         "type": "scatter",
         "x": [
          184
         ],
         "xaxis": "x5",
         "y": [
          0.9706834676547824
         ],
         "yaxis": "y5"
        },
        {
         "marker": {
          "color": "#a54765",
          "line": {
           "color": "black",
           "width": 1
          },
          "opacity": 0.5,
          "size": 12,
          "symbol": "diamond"
         },
         "name": "GATBMiniaPipeline",
         "opacity": 0.6,
         "showlegend": false,
         "type": "scatter",
         "x": [
          180
         ],
         "xaxis": "x5",
         "y": [
          0.9720812417085202
         ],
         "yaxis": "y5"
        },
        {
         "marker": {
          "color": "#a54765",
          "line": {
           "color": "black",
           "width": 1
          },
          "opacity": 0.5,
          "size": 12,
          "symbol": "circle"
         },
         "name": "GATBMiniaPipeline",
         "opacity": 0.6,
         "showlegend": false,
         "type": "scatter",
         "x": [
          199
         ],
         "xaxis": "x5",
         "y": [
          0.9685354995998264
         ],
         "yaxis": "y5"
        },
        {
         "marker": {
          "color": "#a54765",
          "line": {
           "color": "black",
           "width": 1
          },
          "opacity": 0.5,
          "size": 12,
          "symbol": "square"
         },
         "name": "GATBMiniaPipeline",
         "opacity": 0.6,
         "showlegend": false,
         "type": "scatter",
         "x": [
          184
         ],
         "xaxis": "x5",
         "y": [
          0.97068409718821
         ],
         "yaxis": "y5"
        },
        {
         "marker": {
          "color": "#a54765",
          "line": {
           "color": "black",
           "width": 1
          },
          "opacity": 0.5,
          "size": 12,
          "symbol": "diamond"
         },
         "name": "GATBMiniaPipeline",
         "opacity": 0.6,
         "showlegend": false,
         "type": "scatter",
         "x": [
          180
         ],
         "xaxis": "x5",
         "y": [
          0.9720812417085202
         ],
         "yaxis": "y5"
        },
        {
         "marker": {
          "color": "#a54765",
          "line": {
           "color": "black",
           "width": 1
          },
          "opacity": 0.5,
          "size": 12,
          "symbol": "circle"
         },
         "name": "GATBMiniaPipeline",
         "opacity": 0.6,
         "showlegend": false,
         "type": "scatter",
         "x": [
          199
         ],
         "xaxis": "x5",
         "y": [
          0.9685354995998264
         ],
         "yaxis": "y5"
        },
        {
         "marker": {
          "color": "#a54765",
          "line": {
           "color": "black",
           "width": 1
          },
          "opacity": 0.5,
          "size": 12,
          "symbol": "square"
         },
         "name": "GATBMiniaPipeline",
         "opacity": 0.6,
         "showlegend": false,
         "type": "scatter",
         "x": [
          184
         ],
         "xaxis": "x5",
         "y": [
          0.9706834676547824
         ],
         "yaxis": "y5"
        },
        {
         "marker": {
          "color": "#a54765",
          "line": {
           "color": "black",
           "width": 1
          },
          "opacity": 0.5,
          "size": 12,
          "symbol": "diamond"
         },
         "name": "GATBMiniaPipeline",
         "opacity": 0.6,
         "showlegend": false,
         "type": "scatter",
         "x": [
          180
         ],
         "xaxis": "x5",
         "y": [
          0.9720812417085202
         ],
         "yaxis": "y5"
        },
        {
         "marker": {
          "color": "#5876c8",
          "line": {
           "color": "black",
           "width": 1
          },
          "opacity": 0.5,
          "size": 12,
          "symbol": "circle"
         },
         "name": "Unicycler",
         "opacity": 0.6,
         "showlegend": false,
         "type": "scatter",
         "x": [
          80
         ],
         "xaxis": "x7",
         "y": [
          0.9314933400093316
         ],
         "yaxis": "y7"
        },
        {
         "marker": {
          "color": "#5876c8",
          "line": {
           "color": "black",
           "width": 1
          },
          "opacity": 0.5,
          "size": 12,
          "symbol": "square"
         },
         "name": "Unicycler",
         "opacity": 0.6,
         "showlegend": false,
         "type": "scatter",
         "x": [
          77
         ],
         "xaxis": "x7",
         "y": [
          0.9318197921308244
         ],
         "yaxis": "y7"
        },
        {
         "marker": {
          "color": "#5876c8",
          "line": {
           "color": "black",
           "width": 1
          },
          "opacity": 0.5,
          "size": 12,
          "symbol": "diamond"
         },
         "name": "Unicycler",
         "opacity": 0.6,
         "showlegend": false,
         "type": "scatter",
         "x": [
          79
         ],
         "xaxis": "x7",
         "y": [
          0.9297004775543172
         ],
         "yaxis": "y7"
        },
        {
         "marker": {
          "color": "#5876c8",
          "line": {
           "color": "black",
           "width": 1
          },
          "opacity": 0.5,
          "size": 12,
          "symbol": "circle"
         },
         "name": "Unicycler",
         "opacity": 0.6,
         "showlegend": false,
         "type": "scatter",
         "x": [
          80
         ],
         "xaxis": "x7",
         "y": [
          0.9314933400093316
         ],
         "yaxis": "y7"
        },
        {
         "marker": {
          "color": "#5876c8",
          "line": {
           "color": "black",
           "width": 1
          },
          "opacity": 0.5,
          "size": 12,
          "symbol": "square"
         },
         "name": "Unicycler",
         "opacity": 0.6,
         "showlegend": false,
         "type": "scatter",
         "x": [
          77
         ],
         "xaxis": "x7",
         "y": [
          0.9318197921308244
         ],
         "yaxis": "y7"
        },
        {
         "marker": {
          "color": "#5876c8",
          "line": {
           "color": "black",
           "width": 1
          },
          "opacity": 0.5,
          "size": 12,
          "symbol": "diamond"
         },
         "name": "Unicycler",
         "opacity": 0.6,
         "showlegend": false,
         "type": "scatter",
         "x": [
          79
         ],
         "xaxis": "x7",
         "y": [
          0.9297004775543172
         ],
         "yaxis": "y7"
        },
        {
         "marker": {
          "color": "#5876c8",
          "line": {
           "color": "black",
           "width": 1
          },
          "opacity": 0.5,
          "size": 12,
          "symbol": "circle"
         },
         "name": "Unicycler",
         "opacity": 0.6,
         "showlegend": false,
         "type": "scatter",
         "x": [
          80
         ],
         "xaxis": "x7",
         "y": [
          0.9314933400093316
         ],
         "yaxis": "y7"
        },
        {
         "marker": {
          "color": "#5876c8",
          "line": {
           "color": "black",
           "width": 1
          },
          "opacity": 0.5,
          "size": 12,
          "symbol": "square"
         },
         "name": "Unicycler",
         "opacity": 0.6,
         "showlegend": false,
         "type": "scatter",
         "x": [
          77
         ],
         "xaxis": "x7",
         "y": [
          0.9318197921308244
         ],
         "yaxis": "y7"
        },
        {
         "marker": {
          "color": "#5876c8",
          "line": {
           "color": "black",
           "width": 1
          },
          "opacity": 0.5,
          "size": 12,
          "symbol": "diamond"
         },
         "name": "Unicycler",
         "opacity": 0.6,
         "showlegend": false,
         "type": "scatter",
         "x": [
          79
         ],
         "xaxis": "x7",
         "y": [
          0.9297004775543172
         ],
         "yaxis": "y7"
        },
        {
         "marker": {
          "color": "#58AEC8",
          "line": {
           "color": "black",
           "width": 1
          },
          "opacity": 0.5,
          "size": 12,
          "symbol": "circle"
         },
         "name": "SPAdes",
         "opacity": 0.6,
         "showlegend": false,
         "type": "scatter",
         "x": [
          78
         ],
         "xaxis": "x7",
         "y": [
          0.9408943213600982
         ],
         "yaxis": "y7"
        },
        {
         "marker": {
          "color": "#58AEC8",
          "line": {
           "color": "black",
           "width": 1
          },
          "opacity": 0.5,
          "size": 12,
          "symbol": "square"
         },
         "name": "SPAdes",
         "opacity": 0.6,
         "showlegend": false,
         "type": "scatter",
         "x": [
          109
         ],
         "xaxis": "x7",
         "y": [
          0.9409525788930334
         ],
         "yaxis": "y7"
        },
        {
         "marker": {
          "color": "#58AEC8",
          "line": {
           "color": "black",
           "width": 1
          },
          "opacity": 0.5,
          "size": 12,
          "symbol": "diamond"
         },
         "name": "SPAdes",
         "opacity": 0.6,
         "showlegend": false,
         "type": "scatter",
         "x": [
          101
         ],
         "xaxis": "x7",
         "y": [
          0.9356432707563456
         ],
         "yaxis": "y7"
        },
        {
         "marker": {
          "color": "#58AEC8",
          "line": {
           "color": "black",
           "width": 1
          },
          "opacity": 0.5,
          "size": 12,
          "symbol": "circle"
         },
         "name": "SPAdes",
         "opacity": 0.6,
         "showlegend": false,
         "type": "scatter",
         "x": [
          78
         ],
         "xaxis": "x7",
         "y": [
          0.9408943213600982
         ],
         "yaxis": "y7"
        },
        {
         "marker": {
          "color": "#58AEC8",
          "line": {
           "color": "black",
           "width": 1
          },
          "opacity": 0.5,
          "size": 12,
          "symbol": "square"
         },
         "name": "SPAdes",
         "opacity": 0.6,
         "showlegend": false,
         "type": "scatter",
         "x": [
          109
         ],
         "xaxis": "x7",
         "y": [
          0.9409525788930334
         ],
         "yaxis": "y7"
        },
        {
         "marker": {
          "color": "#58AEC8",
          "line": {
           "color": "black",
           "width": 1
          },
          "opacity": 0.5,
          "size": 12,
          "symbol": "diamond"
         },
         "name": "SPAdes",
         "opacity": 0.6,
         "showlegend": false,
         "type": "scatter",
         "x": [
          101
         ],
         "xaxis": "x7",
         "y": [
          0.9356432707563456
         ],
         "yaxis": "y7"
        },
        {
         "marker": {
          "color": "#58AEC8",
          "line": {
           "color": "black",
           "width": 1
          },
          "opacity": 0.5,
          "size": 12,
          "symbol": "circle"
         },
         "name": "SPAdes",
         "opacity": 0.6,
         "showlegend": false,
         "type": "scatter",
         "x": [
          78
         ],
         "xaxis": "x7",
         "y": [
          0.9408943213600982
         ],
         "yaxis": "y7"
        },
        {
         "marker": {
          "color": "#58AEC8",
          "line": {
           "color": "black",
           "width": 1
          },
          "opacity": 0.5,
          "size": 12,
          "symbol": "square"
         },
         "name": "SPAdes",
         "opacity": 0.6,
         "showlegend": false,
         "type": "scatter",
         "x": [
          109
         ],
         "xaxis": "x7",
         "y": [
          0.9409525788930334
         ],
         "yaxis": "y7"
        },
        {
         "marker": {
          "color": "#58AEC8",
          "line": {
           "color": "black",
           "width": 1
          },
          "opacity": 0.5,
          "size": 12,
          "symbol": "diamond"
         },
         "name": "SPAdes",
         "opacity": 0.6,
         "showlegend": false,
         "type": "scatter",
         "x": [
          101
         ],
         "xaxis": "x7",
         "y": [
          0.9356432707563456
         ],
         "yaxis": "y7"
        },
        {
         "marker": {
          "color": "#39B185",
          "line": {
           "color": "black",
           "width": 1
          },
          "opacity": 0.5,
          "size": 12,
          "symbol": "circle"
         },
         "name": "SKESA",
         "opacity": 0.6,
         "showlegend": false,
         "type": "scatter",
         "x": [
          94
         ],
         "xaxis": "x7",
         "y": [
          0.9314035919180532
         ],
         "yaxis": "y7"
        },
        {
         "marker": {
          "color": "#39B185",
          "line": {
           "color": "black",
           "width": 1
          },
          "opacity": 0.5,
          "size": 12,
          "symbol": "square"
         },
         "name": "SKESA",
         "opacity": 0.6,
         "showlegend": false,
         "type": "scatter",
         "x": [
          86
         ],
         "xaxis": "x7",
         "y": [
          0.9322181476938676
         ],
         "yaxis": "y7"
        },
        {
         "marker": {
          "color": "#39B185",
          "line": {
           "color": "black",
           "width": 1
          },
          "opacity": 0.5,
          "size": 12,
          "symbol": "diamond"
         },
         "name": "SKESA",
         "opacity": 0.6,
         "showlegend": false,
         "type": "scatter",
         "x": [
          86
         ],
         "xaxis": "x7",
         "y": [
          0.9224167114095017
         ],
         "yaxis": "y7"
        },
        {
         "marker": {
          "color": "#39B185",
          "line": {
           "color": "black",
           "width": 1
          },
          "opacity": 0.5,
          "size": 12,
          "symbol": "circle"
         },
         "name": "SKESA",
         "opacity": 0.6,
         "showlegend": false,
         "type": "scatter",
         "x": [
          94
         ],
         "xaxis": "x7",
         "y": [
          0.9314035919180532
         ],
         "yaxis": "y7"
        },
        {
         "marker": {
          "color": "#39B185",
          "line": {
           "color": "black",
           "width": 1
          },
          "opacity": 0.5,
          "size": 12,
          "symbol": "square"
         },
         "name": "SKESA",
         "opacity": 0.6,
         "showlegend": false,
         "type": "scatter",
         "x": [
          86
         ],
         "xaxis": "x7",
         "y": [
          0.9322181476938676
         ],
         "yaxis": "y7"
        },
        {
         "marker": {
          "color": "#39B185",
          "line": {
           "color": "black",
           "width": 1
          },
          "opacity": 0.5,
          "size": 12,
          "symbol": "diamond"
         },
         "name": "SKESA",
         "opacity": 0.6,
         "showlegend": false,
         "type": "scatter",
         "x": [
          86
         ],
         "xaxis": "x7",
         "y": [
          0.9224167114095017
         ],
         "yaxis": "y7"
        },
        {
         "marker": {
          "color": "#39B185",
          "line": {
           "color": "black",
           "width": 1
          },
          "opacity": 0.5,
          "size": 12,
          "symbol": "circle"
         },
         "name": "SKESA",
         "opacity": 0.6,
         "showlegend": false,
         "type": "scatter",
         "x": [
          94
         ],
         "xaxis": "x7",
         "y": [
          0.9314035919180532
         ],
         "yaxis": "y7"
        },
        {
         "marker": {
          "color": "#39B185",
          "line": {
           "color": "black",
           "width": 1
          },
          "opacity": 0.5,
          "size": 12,
          "symbol": "square"
         },
         "name": "SKESA",
         "opacity": 0.6,
         "showlegend": false,
         "type": "scatter",
         "x": [
          86
         ],
         "xaxis": "x7",
         "y": [
          0.9322181476938676
         ],
         "yaxis": "y7"
        },
        {
         "marker": {
          "color": "#39B185",
          "line": {
           "color": "black",
           "width": 1
          },
          "opacity": 0.5,
          "size": 12,
          "symbol": "diamond"
         },
         "name": "SKESA",
         "opacity": 0.6,
         "showlegend": false,
         "type": "scatter",
         "x": [
          86
         ],
         "xaxis": "x7",
         "y": [
          0.9224167114095017
         ],
         "yaxis": "y7"
        },
        {
         "marker": {
          "color": "#9CCB86",
          "line": {
           "color": "black",
           "width": 1
          },
          "opacity": 0.5,
          "size": 12,
          "symbol": "circle"
         },
         "name": "metaSPAdes",
         "opacity": 0.6,
         "showlegend": false,
         "type": "scatter",
         "x": [
          80
         ],
         "xaxis": "x7",
         "y": [
          0.9424761970742124
         ],
         "yaxis": "y7"
        },
        {
         "marker": {
          "color": "#9CCB86",
          "line": {
           "color": "black",
           "width": 1
          },
          "opacity": 0.5,
          "size": 12,
          "symbol": "square"
         },
         "name": "metaSPAdes",
         "opacity": 0.6,
         "showlegend": false,
         "type": "scatter",
         "x": [
          78
         ],
         "xaxis": "x7",
         "y": [
          0.9428425372362732
         ],
         "yaxis": "y7"
        },
        {
         "marker": {
          "color": "#9CCB86",
          "line": {
           "color": "black",
           "width": 1
          },
          "opacity": 0.5,
          "size": 12,
          "symbol": "diamond"
         },
         "name": "metaSPAdes",
         "opacity": 0.6,
         "showlegend": false,
         "type": "scatter",
         "x": [
          95
         ],
         "xaxis": "x7",
         "y": [
          0.9363838237200532
         ],
         "yaxis": "y7"
        },
        {
         "marker": {
          "color": "#9CCB86",
          "line": {
           "color": "black",
           "width": 1
          },
          "opacity": 0.5,
          "size": 12,
          "symbol": "circle"
         },
         "name": "metaSPAdes",
         "opacity": 0.6,
         "showlegend": false,
         "type": "scatter",
         "x": [
          80
         ],
         "xaxis": "x7",
         "y": [
          0.9424761970742124
         ],
         "yaxis": "y7"
        },
        {
         "marker": {
          "color": "#9CCB86",
          "line": {
           "color": "black",
           "width": 1
          },
          "opacity": 0.5,
          "size": 12,
          "symbol": "square"
         },
         "name": "metaSPAdes",
         "opacity": 0.6,
         "showlegend": false,
         "type": "scatter",
         "x": [
          78
         ],
         "xaxis": "x7",
         "y": [
          0.9428425372362732
         ],
         "yaxis": "y7"
        },
        {
         "marker": {
          "color": "#9CCB86",
          "line": {
           "color": "black",
           "width": 1
          },
          "opacity": 0.5,
          "size": 12,
          "symbol": "diamond"
         },
         "name": "metaSPAdes",
         "opacity": 0.6,
         "showlegend": false,
         "type": "scatter",
         "x": [
          95
         ],
         "xaxis": "x7",
         "y": [
          0.9363838237200532
         ],
         "yaxis": "y7"
        },
        {
         "marker": {
          "color": "#9CCB86",
          "line": {
           "color": "black",
           "width": 1
          },
          "opacity": 0.5,
          "size": 12,
          "symbol": "circle"
         },
         "name": "metaSPAdes",
         "opacity": 0.6,
         "showlegend": false,
         "type": "scatter",
         "x": [
          80
         ],
         "xaxis": "x7",
         "y": [
          0.9424761970742124
         ],
         "yaxis": "y7"
        },
        {
         "marker": {
          "color": "#9CCB86",
          "line": {
           "color": "black",
           "width": 1
          },
          "opacity": 0.5,
          "size": 12,
          "symbol": "square"
         },
         "name": "metaSPAdes",
         "opacity": 0.6,
         "showlegend": false,
         "type": "scatter",
         "x": [
          78
         ],
         "xaxis": "x7",
         "y": [
          0.9428425372362732
         ],
         "yaxis": "y7"
        },
        {
         "marker": {
          "color": "#9CCB86",
          "line": {
           "color": "black",
           "width": 1
          },
          "opacity": 0.5,
          "size": 12,
          "symbol": "diamond"
         },
         "name": "metaSPAdes",
         "opacity": 0.6,
         "showlegend": false,
         "type": "scatter",
         "x": [
          95
         ],
         "xaxis": "x7",
         "y": [
          0.9363838237200532
         ],
         "yaxis": "y7"
        },
        {
         "marker": {
          "color": "#EEB479",
          "line": {
           "color": "black",
           "width": 1
          },
          "opacity": 0.5,
          "size": 12,
          "symbol": "circle"
         },
         "name": "MEGAHIT",
         "opacity": 0.6,
         "showlegend": false,
         "type": "scatter",
         "x": [
          82
         ],
         "xaxis": "x7",
         "y": [
          0.9491170309861846
         ],
         "yaxis": "y7"
        },
        {
         "marker": {
          "color": "#EEB479",
          "line": {
           "color": "black",
           "width": 1
          },
          "opacity": 0.5,
          "size": 12,
          "symbol": "square"
         },
         "name": "MEGAHIT",
         "opacity": 0.6,
         "showlegend": false,
         "type": "scatter",
         "x": [
          81
         ],
         "xaxis": "x7",
         "y": [
          0.9485585984182292
         ],
         "yaxis": "y7"
        },
        {
         "marker": {
          "color": "#EEB479",
          "line": {
           "color": "black",
           "width": 1
          },
          "opacity": 0.5,
          "size": 12,
          "symbol": "diamond"
         },
         "name": "MEGAHIT",
         "opacity": 0.6,
         "showlegend": false,
         "type": "scatter",
         "x": [
          88
         ],
         "xaxis": "x7",
         "y": [
          0.9487412436566206
         ],
         "yaxis": "y7"
        },
        {
         "marker": {
          "color": "#EEB479",
          "line": {
           "color": "black",
           "width": 1
          },
          "opacity": 0.5,
          "size": 12,
          "symbol": "circle"
         },
         "name": "MEGAHIT",
         "opacity": 0.6,
         "showlegend": false,
         "type": "scatter",
         "x": [
          82
         ],
         "xaxis": "x7",
         "y": [
          0.949177387889676
         ],
         "yaxis": "y7"
        },
        {
         "marker": {
          "color": "#EEB479",
          "line": {
           "color": "black",
           "width": 1
          },
          "opacity": 0.5,
          "size": 12,
          "symbol": "square"
         },
         "name": "MEGAHIT",
         "opacity": 0.6,
         "showlegend": false,
         "type": "scatter",
         "x": [
          81
         ],
         "xaxis": "x7",
         "y": [
          0.9484405088244418
         ],
         "yaxis": "y7"
        },
        {
         "marker": {
          "color": "#EEB479",
          "line": {
           "color": "black",
           "width": 1
          },
          "opacity": 0.5,
          "size": 12,
          "symbol": "diamond"
         },
         "name": "MEGAHIT",
         "opacity": 0.6,
         "showlegend": false,
         "type": "scatter",
         "x": [
          88
         ],
         "xaxis": "x7",
         "y": [
          0.9487842807530232
         ],
         "yaxis": "y7"
        },
        {
         "marker": {
          "color": "#EEB479",
          "line": {
           "color": "black",
           "width": 1
          },
          "opacity": 0.5,
          "size": 12,
          "symbol": "circle"
         },
         "name": "MEGAHIT",
         "opacity": 0.6,
         "showlegend": false,
         "type": "scatter",
         "x": [
          82
         ],
         "xaxis": "x7",
         "y": [
          0.9492010058084336
         ],
         "yaxis": "y7"
        },
        {
         "marker": {
          "color": "#EEB479",
          "line": {
           "color": "black",
           "width": 1
          },
          "opacity": 0.5,
          "size": 12,
          "symbol": "square"
         },
         "name": "MEGAHIT",
         "opacity": 0.6,
         "showlegend": false,
         "type": "scatter",
         "x": [
          81
         ],
         "xaxis": "x7",
         "y": [
          0.9482940777281452
         ],
         "yaxis": "y7"
        },
        {
         "marker": {
          "color": "#EEB479",
          "line": {
           "color": "black",
           "width": 1
          },
          "opacity": 0.5,
          "size": 12,
          "symbol": "diamond"
         },
         "name": "MEGAHIT",
         "opacity": 0.6,
         "showlegend": false,
         "type": "scatter",
         "x": [
          88
         ],
         "xaxis": "x7",
         "y": [
          0.9487443927124549
         ],
         "yaxis": "y7"
        },
        {
         "marker": {
          "color": "#E88471",
          "line": {
           "color": "black",
           "width": 1
          },
          "opacity": 0.5,
          "size": 12,
          "symbol": "circle"
         },
         "name": "IDBA-UD",
         "opacity": 0.6,
         "showlegend": false,
         "type": "scatter",
         "x": [
          89
         ],
         "xaxis": "x7",
         "y": [
          0.938483194276276
         ],
         "yaxis": "y7"
        },
        {
         "marker": {
          "color": "#E88471",
          "line": {
           "color": "black",
           "width": 1
          },
          "opacity": 0.5,
          "size": 12,
          "symbol": "square"
         },
         "name": "IDBA-UD",
         "opacity": 0.6,
         "showlegend": false,
         "type": "scatter",
         "x": [
          88
         ],
         "xaxis": "x7",
         "y": [
          0.9394777710772868
         ],
         "yaxis": "y7"
        },
        {
         "marker": {
          "color": "#E88471",
          "line": {
           "color": "black",
           "width": 1
          },
          "opacity": 0.5,
          "size": 12,
          "symbol": "diamond"
         },
         "name": "IDBA-UD",
         "opacity": 0.6,
         "showlegend": false,
         "type": "scatter",
         "x": [
          171
         ],
         "xaxis": "x7",
         "y": [
          0.933998938768184
         ],
         "yaxis": "y7"
        },
        {
         "marker": {
          "color": "#E88471",
          "line": {
           "color": "black",
           "width": 1
          },
          "opacity": 0.5,
          "size": 12,
          "symbol": "circle"
         },
         "name": "IDBA-UD",
         "opacity": 0.6,
         "showlegend": false,
         "type": "scatter",
         "x": [
          89
         ],
         "xaxis": "x7",
         "y": [
          0.938483194276276
         ],
         "yaxis": "y7"
        },
        {
         "marker": {
          "color": "#E88471",
          "line": {
           "color": "black",
           "width": 1
          },
          "opacity": 0.5,
          "size": 12,
          "symbol": "square"
         },
         "name": "IDBA-UD",
         "opacity": 0.6,
         "showlegend": false,
         "type": "scatter",
         "x": [
          88
         ],
         "xaxis": "x7",
         "y": [
          0.9393497094733572
         ],
         "yaxis": "y7"
        },
        {
         "marker": {
          "color": "#E88471",
          "line": {
           "color": "black",
           "width": 1
          },
          "opacity": 0.5,
          "size": 12,
          "symbol": "diamond"
         },
         "name": "IDBA-UD",
         "opacity": 0.6,
         "showlegend": false,
         "type": "scatter",
         "x": [
          171
         ],
         "xaxis": "x7",
         "y": [
          0.9339994636108228
         ],
         "yaxis": "y7"
        },
        {
         "marker": {
          "color": "#E88471",
          "line": {
           "color": "black",
           "width": 1
          },
          "opacity": 0.5,
          "size": 12,
          "symbol": "circle"
         },
         "name": "IDBA-UD",
         "opacity": 0.6,
         "showlegend": false,
         "type": "scatter",
         "x": [
          89
         ],
         "xaxis": "x7",
         "y": [
          0.93858658827617
         ],
         "yaxis": "y7"
        },
        {
         "marker": {
          "color": "#E88471",
          "line": {
           "color": "black",
           "width": 1
          },
          "opacity": 0.5,
          "size": 12,
          "symbol": "square"
         },
         "name": "IDBA-UD",
         "opacity": 0.6,
         "showlegend": false,
         "type": "scatter",
         "x": [
          88
         ],
         "xaxis": "x7",
         "y": [
          0.9393916968844817
         ],
         "yaxis": "y7"
        },
        {
         "marker": {
          "color": "#E88471",
          "line": {
           "color": "black",
           "width": 1
          },
          "opacity": 0.5,
          "size": 12,
          "symbol": "diamond"
         },
         "name": "IDBA-UD",
         "opacity": 0.6,
         "showlegend": false,
         "type": "scatter",
         "x": [
          171
         ],
         "xaxis": "x7",
         "y": [
          0.933998938768184
         ],
         "yaxis": "y7"
        },
        {
         "marker": {
          "color": "#a54765",
          "line": {
           "color": "black",
           "width": 1
          },
          "opacity": 0.5,
          "size": 12,
          "symbol": "circle"
         },
         "name": "GATBMiniaPipeline",
         "opacity": 0.6,
         "showlegend": false,
         "type": "scatter",
         "x": [
          89
         ],
         "xaxis": "x7",
         "y": [
          0.9406077572791738
         ],
         "yaxis": "y7"
        },
        {
         "marker": {
          "color": "#a54765",
          "line": {
           "color": "black",
           "width": 1
          },
          "opacity": 0.5,
          "size": 12,
          "symbol": "square"
         },
         "name": "GATBMiniaPipeline",
         "opacity": 0.6,
         "showlegend": false,
         "type": "scatter",
         "x": [
          89
         ],
         "xaxis": "x7",
         "y": [
          0.9439378838239824
         ],
         "yaxis": "y7"
        },
        {
         "marker": {
          "color": "#a54765",
          "line": {
           "color": "black",
           "width": 1
          },
          "opacity": 0.5,
          "size": 12,
          "symbol": "diamond"
         },
         "name": "GATBMiniaPipeline",
         "opacity": 0.6,
         "showlegend": false,
         "type": "scatter",
         "x": [
          83
         ],
         "xaxis": "x7",
         "y": [
          0.9431915575912452
         ],
         "yaxis": "y7"
        },
        {
         "marker": {
          "color": "#a54765",
          "line": {
           "color": "black",
           "width": 1
          },
          "opacity": 0.5,
          "size": 12,
          "symbol": "circle"
         },
         "name": "GATBMiniaPipeline",
         "opacity": 0.6,
         "showlegend": false,
         "type": "scatter",
         "x": [
          89
         ],
         "xaxis": "x7",
         "y": [
          0.9407095767511506
         ],
         "yaxis": "y7"
        },
        {
         "marker": {
          "color": "#a54765",
          "line": {
           "color": "black",
           "width": 1
          },
          "opacity": 0.5,
          "size": 12,
          "symbol": "square"
         },
         "name": "GATBMiniaPipeline",
         "opacity": 0.6,
         "showlegend": false,
         "type": "scatter",
         "x": [
          89
         ],
         "xaxis": "x7",
         "y": [
          0.9438995703113314
         ],
         "yaxis": "y7"
        },
        {
         "marker": {
          "color": "#a54765",
          "line": {
           "color": "black",
           "width": 1
          },
          "opacity": 0.5,
          "size": 12,
          "symbol": "diamond"
         },
         "name": "GATBMiniaPipeline",
         "opacity": 0.6,
         "showlegend": false,
         "type": "scatter",
         "x": [
          83
         ],
         "xaxis": "x7",
         "y": [
          0.9432230481495886
         ],
         "yaxis": "y7"
        },
        {
         "marker": {
          "color": "#a54765",
          "line": {
           "color": "black",
           "width": 1
          },
          "opacity": 0.5,
          "size": 12,
          "symbol": "circle"
         },
         "name": "GATBMiniaPipeline",
         "opacity": 0.6,
         "showlegend": false,
         "type": "scatter",
         "x": [
          89
         ],
         "xaxis": "x7",
         "y": [
          0.9406072324365348
         ],
         "yaxis": "y7"
        },
        {
         "marker": {
          "color": "#a54765",
          "line": {
           "color": "black",
           "width": 1
          },
          "opacity": 0.5,
          "size": 12,
          "symbol": "square"
         },
         "name": "GATBMiniaPipeline",
         "opacity": 0.6,
         "showlegend": false,
         "type": "scatter",
         "x": [
          89
         ],
         "xaxis": "x7",
         "y": [
          0.9438386885652008
         ],
         "yaxis": "y7"
        },
        {
         "marker": {
          "color": "#a54765",
          "line": {
           "color": "black",
           "width": 1
          },
          "opacity": 0.5,
          "size": 12,
          "symbol": "diamond"
         },
         "name": "GATBMiniaPipeline",
         "opacity": 0.6,
         "showlegend": false,
         "type": "scatter",
         "x": [
          83
         ],
         "xaxis": "x7",
         "y": [
          0.943273433042938
         ],
         "yaxis": "y7"
        },
        {
         "marker": {
          "color": "#5876c8",
          "line": {
           "color": "black",
           "width": 1
          },
          "opacity": 0.5,
          "size": 12,
          "symbol": "circle"
         },
         "name": "Unicycler",
         "opacity": 0.6,
         "showlegend": false,
         "type": "scatter",
         "x": [
          16
         ],
         "xaxis": "x2",
         "y": [
          0.9740156706686602
         ],
         "yaxis": "y2"
        },
        {
         "marker": {
          "color": "#5876c8",
          "line": {
           "color": "black",
           "width": 1
          },
          "opacity": 0.5,
          "size": 12,
          "symbol": "square"
         },
         "name": "Unicycler",
         "opacity": 0.6,
         "showlegend": false,
         "type": "scatter",
         "x": [
          16
         ],
         "xaxis": "x2",
         "y": [
          0.9870466009567088
         ],
         "yaxis": "y2"
        },
        {
         "marker": {
          "color": "#5876c8",
          "line": {
           "color": "black",
           "width": 1
          },
          "opacity": 0.5,
          "size": 12,
          "symbol": "diamond"
         },
         "name": "Unicycler",
         "opacity": 0.6,
         "showlegend": false,
         "type": "scatter",
         "x": [
          17
         ],
         "xaxis": "x2",
         "y": [
          0.9743237905292912
         ],
         "yaxis": "y2"
        },
        {
         "marker": {
          "color": "#5876c8",
          "line": {
           "color": "black",
           "width": 1
          },
          "opacity": 0.5,
          "size": 12,
          "symbol": "circle"
         },
         "name": "Unicycler",
         "opacity": 0.6,
         "showlegend": false,
         "type": "scatter",
         "x": [
          16
         ],
         "xaxis": "x2",
         "y": [
          0.9740156706686602
         ],
         "yaxis": "y2"
        },
        {
         "marker": {
          "color": "#5876c8",
          "line": {
           "color": "black",
           "width": 1
          },
          "opacity": 0.5,
          "size": 12,
          "symbol": "square"
         },
         "name": "Unicycler",
         "opacity": 0.6,
         "showlegend": false,
         "type": "scatter",
         "x": [
          16
         ],
         "xaxis": "x2",
         "y": [
          0.9870466009567088
         ],
         "yaxis": "y2"
        },
        {
         "marker": {
          "color": "#5876c8",
          "line": {
           "color": "black",
           "width": 1
          },
          "opacity": 0.5,
          "size": 12,
          "symbol": "diamond"
         },
         "name": "Unicycler",
         "opacity": 0.6,
         "showlegend": false,
         "type": "scatter",
         "x": [
          17
         ],
         "xaxis": "x2",
         "y": [
          0.9743237905292912
         ],
         "yaxis": "y2"
        },
        {
         "marker": {
          "color": "#5876c8",
          "line": {
           "color": "black",
           "width": 1
          },
          "opacity": 0.5,
          "size": 12,
          "symbol": "circle"
         },
         "name": "Unicycler",
         "opacity": 0.6,
         "showlegend": false,
         "type": "scatter",
         "x": [
          16
         ],
         "xaxis": "x2",
         "y": [
          0.9740156706686602
         ],
         "yaxis": "y2"
        },
        {
         "marker": {
          "color": "#5876c8",
          "line": {
           "color": "black",
           "width": 1
          },
          "opacity": 0.5,
          "size": 12,
          "symbol": "square"
         },
         "name": "Unicycler",
         "opacity": 0.6,
         "showlegend": false,
         "type": "scatter",
         "x": [
          16
         ],
         "xaxis": "x2",
         "y": [
          0.9870466009567088
         ],
         "yaxis": "y2"
        },
        {
         "marker": {
          "color": "#5876c8",
          "line": {
           "color": "black",
           "width": 1
          },
          "opacity": 0.5,
          "size": 12,
          "symbol": "diamond"
         },
         "name": "Unicycler",
         "opacity": 0.6,
         "showlegend": false,
         "type": "scatter",
         "x": [
          17
         ],
         "xaxis": "x2",
         "y": [
          0.9743237905292912
         ],
         "yaxis": "y2"
        },
        {
         "marker": {
          "color": "#58AEC8",
          "line": {
           "color": "black",
           "width": 1
          },
          "opacity": 0.5,
          "size": 12,
          "symbol": "circle"
         },
         "name": "SPAdes",
         "opacity": 0.6,
         "showlegend": false,
         "type": "scatter",
         "x": [
          16
         ],
         "xaxis": "x2",
         "y": [
          0.9747655849498488
         ],
         "yaxis": "y2"
        },
        {
         "marker": {
          "color": "#58AEC8",
          "line": {
           "color": "black",
           "width": 1
          },
          "opacity": 0.5,
          "size": 12,
          "symbol": "square"
         },
         "name": "SPAdes",
         "opacity": 0.6,
         "showlegend": false,
         "type": "scatter",
         "x": [
          20
         ],
         "xaxis": "x2",
         "y": [
          0.9884398240575444
         ],
         "yaxis": "y2"
        },
        {
         "marker": {
          "color": "#58AEC8",
          "line": {
           "color": "black",
           "width": 1
          },
          "opacity": 0.5,
          "size": 12,
          "symbol": "diamond"
         },
         "name": "SPAdes",
         "opacity": 0.6,
         "showlegend": false,
         "type": "scatter",
         "x": [
          37
         ],
         "xaxis": "x2",
         "y": [
          0.9839897979575865
         ],
         "yaxis": "y2"
        },
        {
         "marker": {
          "color": "#58AEC8",
          "line": {
           "color": "black",
           "width": 1
          },
          "opacity": 0.5,
          "size": 12,
          "symbol": "circle"
         },
         "name": "SPAdes",
         "opacity": 0.6,
         "showlegend": false,
         "type": "scatter",
         "x": [
          16
         ],
         "xaxis": "x2",
         "y": [
          0.9747655849498488
         ],
         "yaxis": "y2"
        },
        {
         "marker": {
          "color": "#58AEC8",
          "line": {
           "color": "black",
           "width": 1
          },
          "opacity": 0.5,
          "size": 12,
          "symbol": "square"
         },
         "name": "SPAdes",
         "opacity": 0.6,
         "showlegend": false,
         "type": "scatter",
         "x": [
          20
         ],
         "xaxis": "x2",
         "y": [
          0.9884398240575444
         ],
         "yaxis": "y2"
        },
        {
         "marker": {
          "color": "#58AEC8",
          "line": {
           "color": "black",
           "width": 1
          },
          "opacity": 0.5,
          "size": 12,
          "symbol": "diamond"
         },
         "name": "SPAdes",
         "opacity": 0.6,
         "showlegend": false,
         "type": "scatter",
         "x": [
          37
         ],
         "xaxis": "x2",
         "y": [
          0.9839897979575865
         ],
         "yaxis": "y2"
        },
        {
         "marker": {
          "color": "#58AEC8",
          "line": {
           "color": "black",
           "width": 1
          },
          "opacity": 0.5,
          "size": 12,
          "symbol": "circle"
         },
         "name": "SPAdes",
         "opacity": 0.6,
         "showlegend": false,
         "type": "scatter",
         "x": [
          16
         ],
         "xaxis": "x2",
         "y": [
          0.9747655849498488
         ],
         "yaxis": "y2"
        },
        {
         "marker": {
          "color": "#58AEC8",
          "line": {
           "color": "black",
           "width": 1
          },
          "opacity": 0.5,
          "size": 12,
          "symbol": "square"
         },
         "name": "SPAdes",
         "opacity": 0.6,
         "showlegend": false,
         "type": "scatter",
         "x": [
          20
         ],
         "xaxis": "x2",
         "y": [
          0.9884398240575444
         ],
         "yaxis": "y2"
        },
        {
         "marker": {
          "color": "#58AEC8",
          "line": {
           "color": "black",
           "width": 1
          },
          "opacity": 0.5,
          "size": 12,
          "symbol": "diamond"
         },
         "name": "SPAdes",
         "opacity": 0.6,
         "showlegend": false,
         "type": "scatter",
         "x": [
          37
         ],
         "xaxis": "x2",
         "y": [
          0.9839897979575865
         ],
         "yaxis": "y2"
        },
        {
         "marker": {
          "color": "#39B185",
          "line": {
           "color": "black",
           "width": 1
          },
          "opacity": 0.5,
          "size": 12,
          "symbol": "circle"
         },
         "name": "SKESA",
         "opacity": 0.6,
         "showlegend": false,
         "type": "scatter",
         "x": [
          24
         ],
         "xaxis": "x2",
         "y": [
          0.9724894413806978
         ],
         "yaxis": "y2"
        },
        {
         "marker": {
          "color": "#39B185",
          "line": {
           "color": "black",
           "width": 1
          },
          "opacity": 0.5,
          "size": 12,
          "symbol": "square"
         },
         "name": "SKESA",
         "opacity": 0.6,
         "showlegend": false,
         "type": "scatter",
         "x": [
          19
         ],
         "xaxis": "x2",
         "y": [
          0.9730909769003676
         ],
         "yaxis": "y2"
        },
        {
         "marker": {
          "color": "#39B185",
          "line": {
           "color": "black",
           "width": 1
          },
          "opacity": 0.5,
          "size": 12,
          "symbol": "diamond"
         },
         "name": "SKESA",
         "opacity": 0.6,
         "showlegend": false,
         "type": "scatter",
         "x": [
          31
         ],
         "xaxis": "x2",
         "y": [
          0.973864952602343
         ],
         "yaxis": "y2"
        },
        {
         "marker": {
          "color": "#39B185",
          "line": {
           "color": "black",
           "width": 1
          },
          "opacity": 0.5,
          "size": 12,
          "symbol": "circle"
         },
         "name": "SKESA",
         "opacity": 0.6,
         "showlegend": false,
         "type": "scatter",
         "x": [
          24
         ],
         "xaxis": "x2",
         "y": [
          0.9724894413806978
         ],
         "yaxis": "y2"
        },
        {
         "marker": {
          "color": "#39B185",
          "line": {
           "color": "black",
           "width": 1
          },
          "opacity": 0.5,
          "size": 12,
          "symbol": "square"
         },
         "name": "SKESA",
         "opacity": 0.6,
         "showlegend": false,
         "type": "scatter",
         "x": [
          19
         ],
         "xaxis": "x2",
         "y": [
          0.9730909769003676
         ],
         "yaxis": "y2"
        },
        {
         "marker": {
          "color": "#39B185",
          "line": {
           "color": "black",
           "width": 1
          },
          "opacity": 0.5,
          "size": 12,
          "symbol": "diamond"
         },
         "name": "SKESA",
         "opacity": 0.6,
         "showlegend": false,
         "type": "scatter",
         "x": [
          31
         ],
         "xaxis": "x2",
         "y": [
          0.973864952602343
         ],
         "yaxis": "y2"
        },
        {
         "marker": {
          "color": "#39B185",
          "line": {
           "color": "black",
           "width": 1
          },
          "opacity": 0.5,
          "size": 12,
          "symbol": "circle"
         },
         "name": "SKESA",
         "opacity": 0.6,
         "showlegend": false,
         "type": "scatter",
         "x": [
          24
         ],
         "xaxis": "x2",
         "y": [
          0.9724894413806978
         ],
         "yaxis": "y2"
        },
        {
         "marker": {
          "color": "#39B185",
          "line": {
           "color": "black",
           "width": 1
          },
          "opacity": 0.5,
          "size": 12,
          "symbol": "square"
         },
         "name": "SKESA",
         "opacity": 0.6,
         "showlegend": false,
         "type": "scatter",
         "x": [
          19
         ],
         "xaxis": "x2",
         "y": [
          0.9730909769003676
         ],
         "yaxis": "y2"
        },
        {
         "marker": {
          "color": "#39B185",
          "line": {
           "color": "black",
           "width": 1
          },
          "opacity": 0.5,
          "size": 12,
          "symbol": "diamond"
         },
         "name": "SKESA",
         "opacity": 0.6,
         "showlegend": false,
         "type": "scatter",
         "x": [
          31
         ],
         "xaxis": "x2",
         "y": [
          0.973864952602343
         ],
         "yaxis": "y2"
        },
        {
         "marker": {
          "color": "#9CCB86",
          "line": {
           "color": "black",
           "width": 1
          },
          "opacity": 0.5,
          "size": 12,
          "symbol": "circle"
         },
         "name": "metaSPAdes",
         "opacity": 0.6,
         "showlegend": false,
         "type": "scatter",
         "x": [
          16
         ],
         "xaxis": "x2",
         "y": [
          0.9769037095358752
         ],
         "yaxis": "y2"
        },
        {
         "marker": {
          "color": "#9CCB86",
          "line": {
           "color": "black",
           "width": 1
          },
          "opacity": 0.5,
          "size": 12,
          "symbol": "square"
         },
         "name": "metaSPAdes",
         "opacity": 0.6,
         "showlegend": false,
         "type": "scatter",
         "x": [
          13
         ],
         "xaxis": "x2",
         "y": [
          0.9895947722553105
         ],
         "yaxis": "y2"
        },
        {
         "marker": {
          "color": "#9CCB86",
          "line": {
           "color": "black",
           "width": 1
          },
          "opacity": 0.5,
          "size": 12,
          "symbol": "diamond"
         },
         "name": "metaSPAdes",
         "opacity": 0.6,
         "showlegend": false,
         "type": "scatter",
         "x": [
          25
         ],
         "xaxis": "x2",
         "y": [
          0.9761086800907116
         ],
         "yaxis": "y2"
        },
        {
         "marker": {
          "color": "#9CCB86",
          "line": {
           "color": "black",
           "width": 1
          },
          "opacity": 0.5,
          "size": 12,
          "symbol": "circle"
         },
         "name": "metaSPAdes",
         "opacity": 0.6,
         "showlegend": false,
         "type": "scatter",
         "x": [
          16
         ],
         "xaxis": "x2",
         "y": [
          0.9769037095358752
         ],
         "yaxis": "y2"
        },
        {
         "marker": {
          "color": "#9CCB86",
          "line": {
           "color": "black",
           "width": 1
          },
          "opacity": 0.5,
          "size": 12,
          "symbol": "square"
         },
         "name": "metaSPAdes",
         "opacity": 0.6,
         "showlegend": false,
         "type": "scatter",
         "x": [
          13
         ],
         "xaxis": "x2",
         "y": [
          0.9895947722553105
         ],
         "yaxis": "y2"
        },
        {
         "marker": {
          "color": "#9CCB86",
          "line": {
           "color": "black",
           "width": 1
          },
          "opacity": 0.5,
          "size": 12,
          "symbol": "diamond"
         },
         "name": "metaSPAdes",
         "opacity": 0.6,
         "showlegend": false,
         "type": "scatter",
         "x": [
          25
         ],
         "xaxis": "x2",
         "y": [
          0.9761086800907116
         ],
         "yaxis": "y2"
        },
        {
         "marker": {
          "color": "#9CCB86",
          "line": {
           "color": "black",
           "width": 1
          },
          "opacity": 0.5,
          "size": 12,
          "symbol": "circle"
         },
         "name": "metaSPAdes",
         "opacity": 0.6,
         "showlegend": false,
         "type": "scatter",
         "x": [
          16
         ],
         "xaxis": "x2",
         "y": [
          0.9769037095358752
         ],
         "yaxis": "y2"
        },
        {
         "marker": {
          "color": "#9CCB86",
          "line": {
           "color": "black",
           "width": 1
          },
          "opacity": 0.5,
          "size": 12,
          "symbol": "square"
         },
         "name": "metaSPAdes",
         "opacity": 0.6,
         "showlegend": false,
         "type": "scatter",
         "x": [
          13
         ],
         "xaxis": "x2",
         "y": [
          0.9895947722553105
         ],
         "yaxis": "y2"
        },
        {
         "marker": {
          "color": "#9CCB86",
          "line": {
           "color": "black",
           "width": 1
          },
          "opacity": 0.5,
          "size": 12,
          "symbol": "diamond"
         },
         "name": "metaSPAdes",
         "opacity": 0.6,
         "showlegend": false,
         "type": "scatter",
         "x": [
          25
         ],
         "xaxis": "x2",
         "y": [
          0.9761086800907116
         ],
         "yaxis": "y2"
        },
        {
         "marker": {
          "color": "#EEB479",
          "line": {
           "color": "black",
           "width": 1
          },
          "opacity": 0.5,
          "size": 12,
          "symbol": "circle"
         },
         "name": "MEGAHIT",
         "opacity": 0.6,
         "showlegend": false,
         "type": "scatter",
         "x": [
          20
         ],
         "xaxis": "x2",
         "y": [
          0.9895837441041164
         ],
         "yaxis": "y2"
        },
        {
         "marker": {
          "color": "#EEB479",
          "line": {
           "color": "black",
           "width": 1
          },
          "opacity": 0.5,
          "size": 12,
          "symbol": "square"
         },
         "name": "MEGAHIT",
         "opacity": 0.6,
         "showlegend": false,
         "type": "scatter",
         "x": [
          19
         ],
         "xaxis": "x2",
         "y": [
          0.9775811053683034
         ],
         "yaxis": "y2"
        },
        {
         "marker": {
          "color": "#EEB479",
          "line": {
           "color": "black",
           "width": 1
          },
          "opacity": 0.5,
          "size": 12,
          "symbol": "diamond"
         },
         "name": "MEGAHIT",
         "opacity": 0.6,
         "showlegend": false,
         "type": "scatter",
         "x": [
          18
         ],
         "xaxis": "x2",
         "y": [
          0.9772930366916616
         ],
         "yaxis": "y2"
        },
        {
         "marker": {
          "color": "#EEB479",
          "line": {
           "color": "black",
           "width": 1
          },
          "opacity": 0.5,
          "size": 12,
          "symbol": "circle"
         },
         "name": "MEGAHIT",
         "opacity": 0.6,
         "showlegend": false,
         "type": "scatter",
         "x": [
          20
         ],
         "xaxis": "x2",
         "y": [
          0.9895640271065272
         ],
         "yaxis": "y2"
        },
        {
         "marker": {
          "color": "#EEB479",
          "line": {
           "color": "black",
           "width": 1
          },
          "opacity": 0.5,
          "size": 12,
          "symbol": "square"
         },
         "name": "MEGAHIT",
         "opacity": 0.6,
         "showlegend": false,
         "type": "scatter",
         "x": [
          20
         ],
         "xaxis": "x2",
         "y": [
          0.9894403781385952
         ],
         "yaxis": "y2"
        },
        {
         "marker": {
          "color": "#EEB479",
          "line": {
           "color": "black",
           "width": 1
          },
          "opacity": 0.5,
          "size": 12,
          "symbol": "diamond"
         },
         "name": "MEGAHIT",
         "opacity": 0.6,
         "showlegend": false,
         "type": "scatter",
         "x": [
          19
         ],
         "xaxis": "x2",
         "y": [
          0.9891523094619532
         ],
         "yaxis": "y2"
        },
        {
         "marker": {
          "color": "#EEB479",
          "line": {
           "color": "black",
           "width": 1
          },
          "opacity": 0.5,
          "size": 12,
          "symbol": "circle"
         },
         "name": "MEGAHIT",
         "opacity": 0.6,
         "showlegend": false,
         "type": "scatter",
         "x": [
          19
         ],
         "xaxis": "x2",
         "y": [
          0.9777234687746252
         ],
         "yaxis": "y2"
        },
        {
         "marker": {
          "color": "#EEB479",
          "line": {
           "color": "black",
           "width": 1
          },
          "opacity": 0.5,
          "size": 12,
          "symbol": "square"
         },
         "name": "MEGAHIT",
         "opacity": 0.6,
         "showlegend": false,
         "type": "scatter",
         "x": [
          19
         ],
         "xaxis": "x2",
         "y": [
          0.9776248837866794
         ],
         "yaxis": "y2"
        },
        {
         "marker": {
          "color": "#EEB479",
          "line": {
           "color": "black",
           "width": 1
          },
          "opacity": 0.5,
          "size": 12,
          "symbol": "diamond"
         },
         "name": "MEGAHIT",
         "opacity": 0.6,
         "showlegend": false,
         "type": "scatter",
         "x": [
          19
         ],
         "xaxis": "x2",
         "y": [
          0.9891523094619532
         ],
         "yaxis": "y2"
        },
        {
         "marker": {
          "color": "#E88471",
          "line": {
           "color": "black",
           "width": 1
          },
          "opacity": 0.5,
          "size": 12,
          "symbol": "circle"
         },
         "name": "IDBA-UD",
         "opacity": 0.6,
         "showlegend": false,
         "type": "scatter",
         "x": [
          26
         ],
         "xaxis": "x2",
         "y": [
          0.9866372226169337
         ],
         "yaxis": "y2"
        },
        {
         "marker": {
          "color": "#E88471",
          "line": {
           "color": "black",
           "width": 1
          },
          "opacity": 0.5,
          "size": 12,
          "symbol": "square"
         },
         "name": "IDBA-UD",
         "opacity": 0.6,
         "showlegend": false,
         "type": "scatter",
         "x": [
          25
         ],
         "xaxis": "x2",
         "y": [
          0.9747298270050684
         ],
         "yaxis": "y2"
        },
        {
         "marker": {
          "color": "#E88471",
          "line": {
           "color": "black",
           "width": 1
          },
          "opacity": 0.5,
          "size": 12,
          "symbol": "diamond"
         },
         "name": "IDBA-UD",
         "opacity": 0.6,
         "showlegend": false,
         "type": "scatter",
         "x": [
          171
         ],
         "xaxis": "x2",
         "y": [
          0.9743084179548996
         ],
         "yaxis": "y2"
        },
        {
         "marker": {
          "color": "#E88471",
          "line": {
           "color": "black",
           "width": 1
          },
          "opacity": 0.5,
          "size": 12,
          "symbol": "circle"
         },
         "name": "IDBA-UD",
         "opacity": 0.6,
         "showlegend": false,
         "type": "scatter",
         "x": [
          26
         ],
         "xaxis": "x2",
         "y": [
          0.9866372226169337
         ],
         "yaxis": "y2"
        },
        {
         "marker": {
          "color": "#E88471",
          "line": {
           "color": "black",
           "width": 1
          },
          "opacity": 0.5,
          "size": 12,
          "symbol": "square"
         },
         "name": "IDBA-UD",
         "opacity": 0.6,
         "showlegend": false,
         "type": "scatter",
         "x": [
          25
         ],
         "xaxis": "x2",
         "y": [
          0.9747298270050684
         ],
         "yaxis": "y2"
        },
        {
         "marker": {
          "color": "#E88471",
          "line": {
           "color": "black",
           "width": 1
          },
          "opacity": 0.5,
          "size": 12,
          "symbol": "diamond"
         },
         "name": "IDBA-UD",
         "opacity": 0.6,
         "showlegend": false,
         "type": "scatter",
         "x": [
          171
         ],
         "xaxis": "x2",
         "y": [
          0.9743084179548996
         ],
         "yaxis": "y2"
        },
        {
         "marker": {
          "color": "#E88471",
          "line": {
           "color": "black",
           "width": 1
          },
          "opacity": 0.5,
          "size": 12,
          "symbol": "circle"
         },
         "name": "IDBA-UD",
         "opacity": 0.6,
         "showlegend": false,
         "type": "scatter",
         "x": [
          26
         ],
         "xaxis": "x2",
         "y": [
          0.9866372226169337
         ],
         "yaxis": "y2"
        },
        {
         "marker": {
          "color": "#E88471",
          "line": {
           "color": "black",
           "width": 1
          },
          "opacity": 0.5,
          "size": 12,
          "symbol": "square"
         },
         "name": "IDBA-UD",
         "opacity": 0.6,
         "showlegend": false,
         "type": "scatter",
         "x": [
          25
         ],
         "xaxis": "x2",
         "y": [
          0.9747298270050684
         ],
         "yaxis": "y2"
        },
        {
         "marker": {
          "color": "#E88471",
          "line": {
           "color": "black",
           "width": 1
          },
          "opacity": 0.5,
          "size": 12,
          "symbol": "diamond"
         },
         "name": "IDBA-UD",
         "opacity": 0.6,
         "showlegend": false,
         "type": "scatter",
         "x": [
          171
         ],
         "xaxis": "x2",
         "y": [
          0.9743084179548996
         ],
         "yaxis": "y2"
        },
        {
         "marker": {
          "color": "#a54765",
          "line": {
           "color": "black",
           "width": 1
          },
          "opacity": 0.5,
          "size": 12,
          "symbol": "circle"
         },
         "name": "GATBMiniaPipeline",
         "opacity": 0.6,
         "showlegend": false,
         "type": "scatter",
         "x": [
          20
         ],
         "xaxis": "x2",
         "y": [
          0.9862442194107492
         ],
         "yaxis": "y2"
        },
        {
         "marker": {
          "color": "#a54765",
          "line": {
           "color": "black",
           "width": 1
          },
          "opacity": 0.5,
          "size": 12,
          "symbol": "square"
         },
         "name": "GATBMiniaPipeline",
         "opacity": 0.6,
         "showlegend": false,
         "type": "scatter",
         "x": [
          20
         ],
         "xaxis": "x2",
         "y": [
          0.987434257180496
         ],
         "yaxis": "y2"
        },
        {
         "marker": {
          "color": "#a54765",
          "line": {
           "color": "black",
           "width": 1
          },
          "opacity": 0.5,
          "size": 12,
          "symbol": "diamond"
         },
         "name": "GATBMiniaPipeline",
         "opacity": 0.6,
         "showlegend": false,
         "type": "scatter",
         "x": [
          24
         ],
         "xaxis": "x2",
         "y": [
          0.988414425891158
         ],
         "yaxis": "y2"
        },
        {
         "marker": {
          "color": "#a54765",
          "line": {
           "color": "black",
           "width": 1
          },
          "opacity": 0.5,
          "size": 12,
          "symbol": "circle"
         },
         "name": "GATBMiniaPipeline",
         "opacity": 0.6,
         "showlegend": false,
         "type": "scatter",
         "x": [
          19
         ],
         "xaxis": "x2",
         "y": [
          0.9743575433556726
         ],
         "yaxis": "y2"
        },
        {
         "marker": {
          "color": "#a54765",
          "line": {
           "color": "black",
           "width": 1
          },
          "opacity": 0.5,
          "size": 12,
          "symbol": "square"
         },
         "name": "GATBMiniaPipeline",
         "opacity": 0.6,
         "showlegend": false,
         "type": "scatter",
         "x": [
          19
         ],
         "xaxis": "x2",
         "y": [
          0.9755896886117964
         ],
         "yaxis": "y2"
        },
        {
         "marker": {
          "color": "#a54765",
          "line": {
           "color": "black",
           "width": 1
          },
          "opacity": 0.5,
          "size": 12,
          "symbol": "diamond"
         },
         "name": "GATBMiniaPipeline",
         "opacity": 0.6,
         "showlegend": false,
         "type": "scatter",
         "x": [
          23
         ],
         "xaxis": "x2",
         "y": [
          0.9765511428840687
         ],
         "yaxis": "y2"
        },
        {
         "marker": {
          "color": "#a54765",
          "line": {
           "color": "black",
           "width": 1
          },
          "opacity": 0.5,
          "size": 12,
          "symbol": "circle"
         },
         "name": "GATBMiniaPipeline",
         "opacity": 0.6,
         "showlegend": false,
         "type": "scatter",
         "x": [
          20
         ],
         "xaxis": "x2",
         "y": [
          0.9862442194107492
         ],
         "yaxis": "y2"
        },
        {
         "marker": {
          "color": "#a54765",
          "line": {
           "color": "black",
           "width": 1
          },
          "opacity": 0.5,
          "size": 12,
          "symbol": "square"
         },
         "name": "GATBMiniaPipeline",
         "opacity": 0.6,
         "showlegend": false,
         "type": "scatter",
         "x": [
          19
         ],
         "xaxis": "x2",
         "y": [
          0.9755743160374049
         ],
         "yaxis": "y2"
        },
        {
         "marker": {
          "color": "#a54765",
          "line": {
           "color": "black",
           "width": 1
          },
          "opacity": 0.5,
          "size": 12,
          "symbol": "diamond"
         },
         "name": "GATBMiniaPipeline",
         "opacity": 0.6,
         "showlegend": false,
         "type": "scatter",
         "x": [
          24
         ],
         "xaxis": "x2",
         "y": [
          0.988414425891158
         ],
         "yaxis": "y2"
        },
        {
         "marker": {
          "color": "#5876c8",
          "line": {
           "color": "black",
           "width": 1
          },
          "opacity": 0.5,
          "size": 12,
          "symbol": "circle"
         },
         "name": "Unicycler",
         "opacity": 0.6,
         "showlegend": false,
         "type": "scatter",
         "x": [
          77
         ],
         "xaxis": "x4",
         "y": [
          0.9870233042269736
         ],
         "yaxis": "y4"
        },
        {
         "marker": {
          "color": "#5876c8",
          "line": {
           "color": "black",
           "width": 1
          },
          "opacity": 0.5,
          "size": 12,
          "symbol": "square"
         },
         "name": "Unicycler",
         "opacity": 0.6,
         "showlegend": false,
         "type": "scatter",
         "x": [
          60
         ],
         "xaxis": "x4",
         "y": [
          0.9898850615326404
         ],
         "yaxis": "y4"
        },
        {
         "marker": {
          "color": "#5876c8",
          "line": {
           "color": "black",
           "width": 1
          },
          "opacity": 0.5,
          "size": 12,
          "symbol": "diamond"
         },
         "name": "Unicycler",
         "opacity": 0.6,
         "showlegend": false,
         "type": "scatter",
         "x": [
          65
         ],
         "xaxis": "x4",
         "y": [
          0.9884684636936072
         ],
         "yaxis": "y4"
        },
        {
         "marker": {
          "color": "#5876c8",
          "line": {
           "color": "black",
           "width": 1
          },
          "opacity": 0.5,
          "size": 12,
          "symbol": "circle"
         },
         "name": "Unicycler",
         "opacity": 0.6,
         "showlegend": false,
         "type": "scatter",
         "x": [
          77
         ],
         "xaxis": "x4",
         "y": [
          0.9870233042269736
         ],
         "yaxis": "y4"
        },
        {
         "marker": {
          "color": "#5876c8",
          "line": {
           "color": "black",
           "width": 1
          },
          "opacity": 0.5,
          "size": 12,
          "symbol": "square"
         },
         "name": "Unicycler",
         "opacity": 0.6,
         "showlegend": false,
         "type": "scatter",
         "x": [
          60
         ],
         "xaxis": "x4",
         "y": [
          0.9898850615326404
         ],
         "yaxis": "y4"
        },
        {
         "marker": {
          "color": "#5876c8",
          "line": {
           "color": "black",
           "width": 1
          },
          "opacity": 0.5,
          "size": 12,
          "symbol": "diamond"
         },
         "name": "Unicycler",
         "opacity": 0.6,
         "showlegend": false,
         "type": "scatter",
         "x": [
          65
         ],
         "xaxis": "x4",
         "y": [
          0.9884684636936072
         ],
         "yaxis": "y4"
        },
        {
         "marker": {
          "color": "#5876c8",
          "line": {
           "color": "black",
           "width": 1
          },
          "opacity": 0.5,
          "size": 12,
          "symbol": "circle"
         },
         "name": "Unicycler",
         "opacity": 0.6,
         "showlegend": false,
         "type": "scatter",
         "x": [
          77
         ],
         "xaxis": "x4",
         "y": [
          0.9870233042269736
         ],
         "yaxis": "y4"
        },
        {
         "marker": {
          "color": "#5876c8",
          "line": {
           "color": "black",
           "width": 1
          },
          "opacity": 0.5,
          "size": 12,
          "symbol": "square"
         },
         "name": "Unicycler",
         "opacity": 0.6,
         "showlegend": false,
         "type": "scatter",
         "x": [
          60
         ],
         "xaxis": "x4",
         "y": [
          0.9898850615326404
         ],
         "yaxis": "y4"
        },
        {
         "marker": {
          "color": "#5876c8",
          "line": {
           "color": "black",
           "width": 1
          },
          "opacity": 0.5,
          "size": 12,
          "symbol": "diamond"
         },
         "name": "Unicycler",
         "opacity": 0.6,
         "showlegend": false,
         "type": "scatter",
         "x": [
          65
         ],
         "xaxis": "x4",
         "y": [
          0.9884684636936072
         ],
         "yaxis": "y4"
        },
        {
         "marker": {
          "color": "#58AEC8",
          "line": {
           "color": "black",
           "width": 1
          },
          "opacity": 0.5,
          "size": 12,
          "symbol": "circle"
         },
         "name": "SPAdes",
         "opacity": 0.6,
         "showlegend": false,
         "type": "scatter",
         "x": [
          67
         ],
         "xaxis": "x4",
         "y": [
          0.9888649403076706
         ],
         "yaxis": "y4"
        },
        {
         "marker": {
          "color": "#58AEC8",
          "line": {
           "color": "black",
           "width": 1
          },
          "opacity": 0.5,
          "size": 12,
          "symbol": "square"
         },
         "name": "SPAdes",
         "opacity": 0.6,
         "showlegend": false,
         "type": "scatter",
         "x": [
          63
         ],
         "xaxis": "x4",
         "y": [
          0.990659758875084
         ],
         "yaxis": "y4"
        },
        {
         "marker": {
          "color": "#58AEC8",
          "line": {
           "color": "black",
           "width": 1
          },
          "opacity": 0.5,
          "size": 12,
          "symbol": "diamond"
         },
         "name": "SPAdes",
         "opacity": 0.6,
         "showlegend": false,
         "type": "scatter",
         "x": [
          79
         ],
         "xaxis": "x4",
         "y": [
          0.9890982917496648
         ],
         "yaxis": "y4"
        },
        {
         "marker": {
          "color": "#58AEC8",
          "line": {
           "color": "black",
           "width": 1
          },
          "opacity": 0.5,
          "size": 12,
          "symbol": "circle"
         },
         "name": "SPAdes",
         "opacity": 0.6,
         "showlegend": false,
         "type": "scatter",
         "x": [
          67
         ],
         "xaxis": "x4",
         "y": [
          0.9888649403076706
         ],
         "yaxis": "y4"
        },
        {
         "marker": {
          "color": "#58AEC8",
          "line": {
           "color": "black",
           "width": 1
          },
          "opacity": 0.5,
          "size": 12,
          "symbol": "square"
         },
         "name": "SPAdes",
         "opacity": 0.6,
         "showlegend": false,
         "type": "scatter",
         "x": [
          63
         ],
         "xaxis": "x4",
         "y": [
          0.990659758875084
         ],
         "yaxis": "y4"
        },
        {
         "marker": {
          "color": "#58AEC8",
          "line": {
           "color": "black",
           "width": 1
          },
          "opacity": 0.5,
          "size": 12,
          "symbol": "diamond"
         },
         "name": "SPAdes",
         "opacity": 0.6,
         "showlegend": false,
         "type": "scatter",
         "x": [
          79
         ],
         "xaxis": "x4",
         "y": [
          0.9890982917496648
         ],
         "yaxis": "y4"
        },
        {
         "marker": {
          "color": "#58AEC8",
          "line": {
           "color": "black",
           "width": 1
          },
          "opacity": 0.5,
          "size": 12,
          "symbol": "circle"
         },
         "name": "SPAdes",
         "opacity": 0.6,
         "showlegend": false,
         "type": "scatter",
         "x": [
          67
         ],
         "xaxis": "x4",
         "y": [
          0.9888649403076706
         ],
         "yaxis": "y4"
        },
        {
         "marker": {
          "color": "#58AEC8",
          "line": {
           "color": "black",
           "width": 1
          },
          "opacity": 0.5,
          "size": 12,
          "symbol": "square"
         },
         "name": "SPAdes",
         "opacity": 0.6,
         "showlegend": false,
         "type": "scatter",
         "x": [
          63
         ],
         "xaxis": "x4",
         "y": [
          0.990659758875084
         ],
         "yaxis": "y4"
        },
        {
         "marker": {
          "color": "#58AEC8",
          "line": {
           "color": "black",
           "width": 1
          },
          "opacity": 0.5,
          "size": 12,
          "symbol": "diamond"
         },
         "name": "SPAdes",
         "opacity": 0.6,
         "showlegend": false,
         "type": "scatter",
         "x": [
          79
         ],
         "xaxis": "x4",
         "y": [
          0.9890982917496648
         ],
         "yaxis": "y4"
        },
        {
         "marker": {
          "color": "#39B185",
          "line": {
           "color": "black",
           "width": 1
          },
          "opacity": 0.5,
          "size": 12,
          "symbol": "circle"
         },
         "name": "SKESA",
         "opacity": 0.6,
         "showlegend": false,
         "type": "scatter",
         "x": [
          933
         ],
         "xaxis": "x4",
         "y": [
          0.9636581261511146
         ],
         "yaxis": "y4"
        },
        {
         "marker": {
          "color": "#39B185",
          "line": {
           "color": "black",
           "width": 1
          },
          "opacity": 0.5,
          "size": 12,
          "symbol": "square"
         },
         "name": "SKESA",
         "opacity": 0.6,
         "showlegend": false,
         "type": "scatter",
         "x": [
          303
         ],
         "xaxis": "x4",
         "y": [
          0.9825201366835828
         ],
         "yaxis": "y4"
        },
        {
         "marker": {
          "color": "#39B185",
          "line": {
           "color": "black",
           "width": 1
          },
          "opacity": 0.5,
          "size": 12,
          "symbol": "diamond"
         },
         "name": "SKESA",
         "opacity": 0.6,
         "showlegend": false,
         "type": "scatter",
         "x": [
          117
         ],
         "xaxis": "x4",
         "y": [
          0.9819474318827266
         ],
         "yaxis": "y4"
        },
        {
         "marker": {
          "color": "#39B185",
          "line": {
           "color": "black",
           "width": 1
          },
          "opacity": 0.5,
          "size": 12,
          "symbol": "circle"
         },
         "name": "SKESA",
         "opacity": 0.6,
         "showlegend": false,
         "type": "scatter",
         "x": [
          933
         ],
         "xaxis": "x4",
         "y": [
          0.9636581261511146
         ],
         "yaxis": "y4"
        },
        {
         "marker": {
          "color": "#39B185",
          "line": {
           "color": "black",
           "width": 1
          },
          "opacity": 0.5,
          "size": 12,
          "symbol": "square"
         },
         "name": "SKESA",
         "opacity": 0.6,
         "showlegend": false,
         "type": "scatter",
         "x": [
          303
         ],
         "xaxis": "x4",
         "y": [
          0.9825201366835828
         ],
         "yaxis": "y4"
        },
        {
         "marker": {
          "color": "#39B185",
          "line": {
           "color": "black",
           "width": 1
          },
          "opacity": 0.5,
          "size": 12,
          "symbol": "diamond"
         },
         "name": "SKESA",
         "opacity": 0.6,
         "showlegend": false,
         "type": "scatter",
         "x": [
          117
         ],
         "xaxis": "x4",
         "y": [
          0.9819474318827266
         ],
         "yaxis": "y4"
        },
        {
         "marker": {
          "color": "#39B185",
          "line": {
           "color": "black",
           "width": 1
          },
          "opacity": 0.5,
          "size": 12,
          "symbol": "circle"
         },
         "name": "SKESA",
         "opacity": 0.6,
         "showlegend": false,
         "type": "scatter",
         "x": [
          933
         ],
         "xaxis": "x4",
         "y": [
          0.9636581261511146
         ],
         "yaxis": "y4"
        },
        {
         "marker": {
          "color": "#39B185",
          "line": {
           "color": "black",
           "width": 1
          },
          "opacity": 0.5,
          "size": 12,
          "symbol": "square"
         },
         "name": "SKESA",
         "opacity": 0.6,
         "showlegend": false,
         "type": "scatter",
         "x": [
          303
         ],
         "xaxis": "x4",
         "y": [
          0.9825201366835828
         ],
         "yaxis": "y4"
        },
        {
         "marker": {
          "color": "#39B185",
          "line": {
           "color": "black",
           "width": 1
          },
          "opacity": 0.5,
          "size": 12,
          "symbol": "diamond"
         },
         "name": "SKESA",
         "opacity": 0.6,
         "showlegend": false,
         "type": "scatter",
         "x": [
          117
         ],
         "xaxis": "x4",
         "y": [
          0.9819474318827266
         ],
         "yaxis": "y4"
        },
        {
         "marker": {
          "color": "#9CCB86",
          "line": {
           "color": "black",
           "width": 1
          },
          "opacity": 0.5,
          "size": 12,
          "symbol": "circle"
         },
         "name": "metaSPAdes",
         "opacity": 0.6,
         "showlegend": false,
         "type": "scatter",
         "x": [
          56
         ],
         "xaxis": "x4",
         "y": [
          0.9902710851799016
         ],
         "yaxis": "y4"
        },
        {
         "marker": {
          "color": "#9CCB86",
          "line": {
           "color": "black",
           "width": 1
          },
          "opacity": 0.5,
          "size": 12,
          "symbol": "square"
         },
         "name": "metaSPAdes",
         "opacity": 0.6,
         "showlegend": false,
         "type": "scatter",
         "x": [
          57
         ],
         "xaxis": "x4",
         "y": [
          0.9903647202064682
         ],
         "yaxis": "y4"
        },
        {
         "marker": {
          "color": "#9CCB86",
          "line": {
           "color": "black",
           "width": 1
          },
          "opacity": 0.5,
          "size": 12,
          "symbol": "diamond"
         },
         "name": "metaSPAdes",
         "opacity": 0.6,
         "showlegend": false,
         "type": "scatter",
         "x": [
          100
         ],
         "xaxis": "x4",
         "y": [
          0.989599739706404
         ],
         "yaxis": "y4"
        },
        {
         "marker": {
          "color": "#9CCB86",
          "line": {
           "color": "black",
           "width": 1
          },
          "opacity": 0.5,
          "size": 12,
          "symbol": "circle"
         },
         "name": "metaSPAdes",
         "opacity": 0.6,
         "showlegend": false,
         "type": "scatter",
         "x": [
          56
         ],
         "xaxis": "x4",
         "y": [
          0.9902710851799016
         ],
         "yaxis": "y4"
        },
        {
         "marker": {
          "color": "#9CCB86",
          "line": {
           "color": "black",
           "width": 1
          },
          "opacity": 0.5,
          "size": 12,
          "symbol": "square"
         },
         "name": "metaSPAdes",
         "opacity": 0.6,
         "showlegend": false,
         "type": "scatter",
         "x": [
          57
         ],
         "xaxis": "x4",
         "y": [
          0.9903647202064682
         ],
         "yaxis": "y4"
        },
        {
         "marker": {
          "color": "#9CCB86",
          "line": {
           "color": "black",
           "width": 1
          },
          "opacity": 0.5,
          "size": 12,
          "symbol": "diamond"
         },
         "name": "metaSPAdes",
         "opacity": 0.6,
         "showlegend": false,
         "type": "scatter",
         "x": [
          100
         ],
         "xaxis": "x4",
         "y": [
          0.989599739706404
         ],
         "yaxis": "y4"
        },
        {
         "marker": {
          "color": "#9CCB86",
          "line": {
           "color": "black",
           "width": 1
          },
          "opacity": 0.5,
          "size": 12,
          "symbol": "circle"
         },
         "name": "metaSPAdes",
         "opacity": 0.6,
         "showlegend": false,
         "type": "scatter",
         "x": [
          56
         ],
         "xaxis": "x4",
         "y": [
          0.9902710851799016
         ],
         "yaxis": "y4"
        },
        {
         "marker": {
          "color": "#9CCB86",
          "line": {
           "color": "black",
           "width": 1
          },
          "opacity": 0.5,
          "size": 12,
          "symbol": "square"
         },
         "name": "metaSPAdes",
         "opacity": 0.6,
         "showlegend": false,
         "type": "scatter",
         "x": [
          57
         ],
         "xaxis": "x4",
         "y": [
          0.9903647202064682
         ],
         "yaxis": "y4"
        },
        {
         "marker": {
          "color": "#9CCB86",
          "line": {
           "color": "black",
           "width": 1
          },
          "opacity": 0.5,
          "size": 12,
          "symbol": "diamond"
         },
         "name": "metaSPAdes",
         "opacity": 0.6,
         "showlegend": false,
         "type": "scatter",
         "x": [
          100
         ],
         "xaxis": "x4",
         "y": [
          0.989599739706404
         ],
         "yaxis": "y4"
        },
        {
         "marker": {
          "color": "#EEB479",
          "line": {
           "color": "black",
           "width": 1
          },
          "opacity": 0.5,
          "size": 12,
          "symbol": "circle"
         },
         "name": "MEGAHIT",
         "opacity": 0.6,
         "showlegend": false,
         "type": "scatter",
         "x": [
          82
         ],
         "xaxis": "x4",
         "y": [
          0.9908624875410942
         ],
         "yaxis": "y4"
        },
        {
         "marker": {
          "color": "#EEB479",
          "line": {
           "color": "black",
           "width": 1
          },
          "opacity": 0.5,
          "size": 12,
          "symbol": "square"
         },
         "name": "MEGAHIT",
         "opacity": 0.6,
         "showlegend": false,
         "type": "scatter",
         "x": [
          82
         ],
         "xaxis": "x4",
         "y": [
          0.9910421019002316
         ],
         "yaxis": "y4"
        },
        {
         "marker": {
          "color": "#EEB479",
          "line": {
           "color": "black",
           "width": 1
          },
          "opacity": 0.5,
          "size": 12,
          "symbol": "diamond"
         },
         "name": "MEGAHIT",
         "opacity": 0.6,
         "showlegend": false,
         "type": "scatter",
         "x": [
          78
         ],
         "xaxis": "x4",
         "y": [
          0.9919784521658987
         ],
         "yaxis": "y4"
        },
        {
         "marker": {
          "color": "#EEB479",
          "line": {
           "color": "black",
           "width": 1
          },
          "opacity": 0.5,
          "size": 12,
          "symbol": "circle"
         },
         "name": "MEGAHIT",
         "opacity": 0.6,
         "showlegend": false,
         "type": "scatter",
         "x": [
          82
         ],
         "xaxis": "x4",
         "y": [
          0.9908624875410942
         ],
         "yaxis": "y4"
        },
        {
         "marker": {
          "color": "#EEB479",
          "line": {
           "color": "black",
           "width": 1
          },
          "opacity": 0.5,
          "size": 12,
          "symbol": "square"
         },
         "name": "MEGAHIT",
         "opacity": 0.6,
         "showlegend": false,
         "type": "scatter",
         "x": [
          82
         ],
         "xaxis": "x4",
         "y": [
          0.9910628606089515
         ],
         "yaxis": "y4"
        },
        {
         "marker": {
          "color": "#EEB479",
          "line": {
           "color": "black",
           "width": 1
          },
          "opacity": 0.5,
          "size": 12,
          "symbol": "diamond"
         },
         "name": "MEGAHIT",
         "opacity": 0.6,
         "showlegend": false,
         "type": "scatter",
         "x": [
          78
         ],
         "xaxis": "x4",
         "y": [
          0.9919992108746188
         ],
         "yaxis": "y4"
        },
        {
         "marker": {
          "color": "#EEB479",
          "line": {
           "color": "black",
           "width": 1
          },
          "opacity": 0.5,
          "size": 12,
          "symbol": "circle"
         },
         "name": "MEGAHIT",
         "opacity": 0.6,
         "showlegend": false,
         "type": "scatter",
         "x": [
          82
         ],
         "xaxis": "x4",
         "y": [
          0.9908417288323742
         ],
         "yaxis": "y4"
        },
        {
         "marker": {
          "color": "#EEB479",
          "line": {
           "color": "black",
           "width": 1
          },
          "opacity": 0.5,
          "size": 12,
          "symbol": "square"
         },
         "name": "MEGAHIT",
         "opacity": 0.6,
         "showlegend": false,
         "type": "scatter",
         "x": [
          82
         ],
         "xaxis": "x4",
         "y": [
          0.9910628606089515
         ],
         "yaxis": "y4"
        },
        {
         "marker": {
          "color": "#EEB479",
          "line": {
           "color": "black",
           "width": 1
          },
          "opacity": 0.5,
          "size": 12,
          "symbol": "diamond"
         },
         "name": "MEGAHIT",
         "opacity": 0.6,
         "showlegend": false,
         "type": "scatter",
         "x": [
          78
         ],
         "xaxis": "x4",
         "y": [
          0.9919992108746188
         ],
         "yaxis": "y4"
        },
        {
         "marker": {
          "color": "#E88471",
          "line": {
           "color": "black",
           "width": 1
          },
          "opacity": 0.5,
          "size": 12,
          "symbol": "circle"
         },
         "name": "IDBA-UD",
         "opacity": 0.6,
         "showlegend": false,
         "type": "scatter",
         "x": [
          161
         ],
         "xaxis": "x4",
         "y": [
          0.9856602962459128
         ],
         "yaxis": "y4"
        },
        {
         "marker": {
          "color": "#E88471",
          "line": {
           "color": "black",
           "width": 1
          },
          "opacity": 0.5,
          "size": 12,
          "symbol": "square"
         },
         "name": "IDBA-UD",
         "opacity": 0.6,
         "showlegend": false,
         "type": "scatter",
         "x": [
          164
         ],
         "xaxis": "x4",
         "y": [
          0.9861648359252274
         ],
         "yaxis": "y4"
        },
        {
         "marker": {
          "color": "#E88471",
          "line": {
           "color": "black",
           "width": 1
          },
          "opacity": 0.5,
          "size": 12,
          "symbol": "diamond"
         },
         "name": "IDBA-UD",
         "opacity": 0.6,
         "showlegend": false,
         "type": "scatter",
         "x": [
          185
         ],
         "xaxis": "x4",
         "y": [
          0.9876996553465452
         ],
         "yaxis": "y4"
        },
        {
         "marker": {
          "color": "#E88471",
          "line": {
           "color": "black",
           "width": 1
          },
          "opacity": 0.5,
          "size": 12,
          "symbol": "circle"
         },
         "name": "IDBA-UD",
         "opacity": 0.6,
         "showlegend": false,
         "type": "scatter",
         "x": [
          161
         ],
         "xaxis": "x4",
         "y": [
          0.9856602962459128
         ],
         "yaxis": "y4"
        },
        {
         "marker": {
          "color": "#E88471",
          "line": {
           "color": "black",
           "width": 1
          },
          "opacity": 0.5,
          "size": 12,
          "symbol": "square"
         },
         "name": "IDBA-UD",
         "opacity": 0.6,
         "showlegend": false,
         "type": "scatter",
         "x": [
          164
         ],
         "xaxis": "x4",
         "y": [
          0.9861648359252274
         ],
         "yaxis": "y4"
        },
        {
         "marker": {
          "color": "#E88471",
          "line": {
           "color": "black",
           "width": 1
          },
          "opacity": 0.5,
          "size": 12,
          "symbol": "diamond"
         },
         "name": "IDBA-UD",
         "opacity": 0.6,
         "showlegend": false,
         "type": "scatter",
         "x": [
          185
         ],
         "xaxis": "x4",
         "y": [
          0.9876996553465452
         ],
         "yaxis": "y4"
        },
        {
         "marker": {
          "color": "#E88471",
          "line": {
           "color": "black",
           "width": 1
          },
          "opacity": 0.5,
          "size": 12,
          "symbol": "circle"
         },
         "name": "IDBA-UD",
         "opacity": 0.6,
         "showlegend": false,
         "type": "scatter",
         "x": [
          161
         ],
         "xaxis": "x4",
         "y": [
          0.9856602962459128
         ],
         "yaxis": "y4"
        },
        {
         "marker": {
          "color": "#E88471",
          "line": {
           "color": "black",
           "width": 1
          },
          "opacity": 0.5,
          "size": 12,
          "symbol": "square"
         },
         "name": "IDBA-UD",
         "opacity": 0.6,
         "showlegend": false,
         "type": "scatter",
         "x": [
          164
         ],
         "xaxis": "x4",
         "y": [
          0.9861648359252274
         ],
         "yaxis": "y4"
        },
        {
         "marker": {
          "color": "#E88471",
          "line": {
           "color": "black",
           "width": 1
          },
          "opacity": 0.5,
          "size": 12,
          "symbol": "diamond"
         },
         "name": "IDBA-UD",
         "opacity": 0.6,
         "showlegend": false,
         "type": "scatter",
         "x": [
          185
         ],
         "xaxis": "x4",
         "y": [
          0.9878797113803364
         ],
         "yaxis": "y4"
        },
        {
         "marker": {
          "color": "#a54765",
          "line": {
           "color": "black",
           "width": 1
          },
          "opacity": 0.5,
          "size": 12,
          "symbol": "circle"
         },
         "name": "GATBMiniaPipeline",
         "opacity": 0.6,
         "showlegend": false,
         "type": "scatter",
         "x": [
          166
         ],
         "xaxis": "x4",
         "y": [
          0.9870156485329776
         ],
         "yaxis": "y4"
        },
        {
         "marker": {
          "color": "#a54765",
          "line": {
           "color": "black",
           "width": 1
          },
          "opacity": 0.5,
          "size": 12,
          "symbol": "square"
         },
         "name": "GATBMiniaPipeline",
         "opacity": 0.6,
         "showlegend": false,
         "type": "scatter",
         "x": [
          98
         ],
         "xaxis": "x4",
         "y": [
          0.9888391759528764
         ],
         "yaxis": "y4"
        },
        {
         "marker": {
          "color": "#a54765",
          "line": {
           "color": "black",
           "width": 1
          },
          "opacity": 0.5,
          "size": 12,
          "symbol": "diamond"
         },
         "name": "GATBMiniaPipeline",
         "opacity": 0.6,
         "showlegend": false,
         "type": "scatter",
         "x": [
          102
         ],
         "xaxis": "x4",
         "y": [
          0.9871686151880136
         ],
         "yaxis": "y4"
        },
        {
         "marker": {
          "color": "#a54765",
          "line": {
           "color": "black",
           "width": 1
          },
          "opacity": 0.5,
          "size": 12,
          "symbol": "circle"
         },
         "name": "GATBMiniaPipeline",
         "opacity": 0.6,
         "showlegend": false,
         "type": "scatter",
         "x": [
          166
         ],
         "xaxis": "x4",
         "y": [
          0.9870156485329776
         ],
         "yaxis": "y4"
        },
        {
         "marker": {
          "color": "#a54765",
          "line": {
           "color": "black",
           "width": 1
          },
          "opacity": 0.5,
          "size": 12,
          "symbol": "square"
         },
         "name": "GATBMiniaPipeline",
         "opacity": 0.6,
         "showlegend": false,
         "type": "scatter",
         "x": [
          98
         ],
         "xaxis": "x4",
         "y": [
          0.9888385870533382
         ],
         "yaxis": "y4"
        },
        {
         "marker": {
          "color": "#a54765",
          "line": {
           "color": "black",
           "width": 1
          },
          "opacity": 0.5,
          "size": 12,
          "symbol": "diamond"
         },
         "name": "GATBMiniaPipeline",
         "opacity": 0.6,
         "showlegend": false,
         "type": "scatter",
         "x": [
          102
         ],
         "xaxis": "x4",
         "y": [
          0.9869935648002968
         ],
         "yaxis": "y4"
        },
        {
         "marker": {
          "color": "#a54765",
          "line": {
           "color": "black",
           "width": 1
          },
          "opacity": 0.5,
          "size": 12,
          "symbol": "circle"
         },
         "name": "GATBMiniaPipeline",
         "opacity": 0.6,
         "showlegend": false,
         "type": "scatter",
         "x": [
          166
         ],
         "xaxis": "x4",
         "y": [
          0.9870156485329776
         ],
         "yaxis": "y4"
        },
        {
         "marker": {
          "color": "#a54765",
          "line": {
           "color": "black",
           "width": 1
          },
          "opacity": 0.5,
          "size": 12,
          "symbol": "square"
         },
         "name": "GATBMiniaPipeline",
         "opacity": 0.6,
         "showlegend": false,
         "type": "scatter",
         "x": [
          98
         ],
         "xaxis": "x4",
         "y": [
          0.9888381453786844
         ],
         "yaxis": "y4"
        },
        {
         "marker": {
          "color": "#a54765",
          "line": {
           "color": "black",
           "width": 1
          },
          "opacity": 0.5,
          "size": 12,
          "symbol": "diamond"
         },
         "name": "GATBMiniaPipeline",
         "opacity": 0.6,
         "showlegend": false,
         "type": "scatter",
         "x": [
          102
         ],
         "xaxis": "x4",
         "y": [
          0.9871588983456341
         ],
         "yaxis": "y4"
        },
        {
         "marker": {
          "color": "#5876c8",
          "line": {
           "color": "black",
           "width": 1
          },
          "opacity": 0.5,
          "size": 12,
          "symbol": "circle"
         },
         "name": "Unicycler",
         "opacity": 0.6,
         "showlegend": false,
         "type": "scatter",
         "x": [
          89
         ],
         "xaxis": "x6",
         "y": [
          0.9743706912091528
         ],
         "yaxis": "y6"
        },
        {
         "marker": {
          "color": "#5876c8",
          "line": {
           "color": "black",
           "width": 1
          },
          "opacity": 0.5,
          "size": 12,
          "symbol": "square"
         },
         "name": "Unicycler",
         "opacity": 0.6,
         "showlegend": false,
         "type": "scatter",
         "x": [
          50
         ],
         "xaxis": "x6",
         "y": [
          0.9790682107826764
         ],
         "yaxis": "y6"
        },
        {
         "marker": {
          "color": "#5876c8",
          "line": {
           "color": "black",
           "width": 1
          },
          "opacity": 0.5,
          "size": 12,
          "symbol": "diamond"
         },
         "name": "Unicycler",
         "opacity": 0.6,
         "showlegend": false,
         "type": "scatter",
         "x": [
          70
         ],
         "xaxis": "x6",
         "y": [
          0.9765497990859175
         ],
         "yaxis": "y6"
        },
        {
         "marker": {
          "color": "#5876c8",
          "line": {
           "color": "black",
           "width": 1
          },
          "opacity": 0.5,
          "size": 12,
          "symbol": "circle"
         },
         "name": "Unicycler",
         "opacity": 0.6,
         "showlegend": false,
         "type": "scatter",
         "x": [
          89
         ],
         "xaxis": "x6",
         "y": [
          0.9743706912091528
         ],
         "yaxis": "y6"
        },
        {
         "marker": {
          "color": "#5876c8",
          "line": {
           "color": "black",
           "width": 1
          },
          "opacity": 0.5,
          "size": 12,
          "symbol": "square"
         },
         "name": "Unicycler",
         "opacity": 0.6,
         "showlegend": false,
         "type": "scatter",
         "x": [
          50
         ],
         "xaxis": "x6",
         "y": [
          0.9790682107826764
         ],
         "yaxis": "y6"
        },
        {
         "marker": {
          "color": "#5876c8",
          "line": {
           "color": "black",
           "width": 1
          },
          "opacity": 0.5,
          "size": 12,
          "symbol": "diamond"
         },
         "name": "Unicycler",
         "opacity": 0.6,
         "showlegend": false,
         "type": "scatter",
         "x": [
          70
         ],
         "xaxis": "x6",
         "y": [
          0.9765497990859175
         ],
         "yaxis": "y6"
        },
        {
         "marker": {
          "color": "#5876c8",
          "line": {
           "color": "black",
           "width": 1
          },
          "opacity": 0.5,
          "size": 12,
          "symbol": "circle"
         },
         "name": "Unicycler",
         "opacity": 0.6,
         "showlegend": false,
         "type": "scatter",
         "x": [
          89
         ],
         "xaxis": "x6",
         "y": [
          0.9743706912091528
         ],
         "yaxis": "y6"
        },
        {
         "marker": {
          "color": "#5876c8",
          "line": {
           "color": "black",
           "width": 1
          },
          "opacity": 0.5,
          "size": 12,
          "symbol": "square"
         },
         "name": "Unicycler",
         "opacity": 0.6,
         "showlegend": false,
         "type": "scatter",
         "x": [
          50
         ],
         "xaxis": "x6",
         "y": [
          0.9790682107826764
         ],
         "yaxis": "y6"
        },
        {
         "marker": {
          "color": "#5876c8",
          "line": {
           "color": "black",
           "width": 1
          },
          "opacity": 0.5,
          "size": 12,
          "symbol": "diamond"
         },
         "name": "Unicycler",
         "opacity": 0.6,
         "showlegend": false,
         "type": "scatter",
         "x": [
          70
         ],
         "xaxis": "x6",
         "y": [
          0.9765497990859175
         ],
         "yaxis": "y6"
        },
        {
         "marker": {
          "color": "#58AEC8",
          "line": {
           "color": "black",
           "width": 1
          },
          "opacity": 0.5,
          "size": 12,
          "symbol": "circle"
         },
         "name": "SPAdes",
         "opacity": 0.6,
         "showlegend": false,
         "type": "scatter",
         "x": [
          91
         ],
         "xaxis": "x6",
         "y": [
          0.9693809291504212
         ],
         "yaxis": "y6"
        },
        {
         "marker": {
          "color": "#58AEC8",
          "line": {
           "color": "black",
           "width": 1
          },
          "opacity": 0.5,
          "size": 12,
          "symbol": "square"
         },
         "name": "SPAdes",
         "opacity": 0.6,
         "showlegend": false,
         "type": "scatter",
         "x": [
          60
         ],
         "xaxis": "x6",
         "y": [
          0.9803149159640032
         ],
         "yaxis": "y6"
        },
        {
         "marker": {
          "color": "#58AEC8",
          "line": {
           "color": "black",
           "width": 1
          },
          "opacity": 0.5,
          "size": 12,
          "symbol": "diamond"
         },
         "name": "SPAdes",
         "opacity": 0.6,
         "showlegend": false,
         "type": "scatter",
         "x": [
          110
         ],
         "xaxis": "x6",
         "y": [
          0.9772796699655822
         ],
         "yaxis": "y6"
        },
        {
         "marker": {
          "color": "#58AEC8",
          "line": {
           "color": "black",
           "width": 1
          },
          "opacity": 0.5,
          "size": 12,
          "symbol": "circle"
         },
         "name": "SPAdes",
         "opacity": 0.6,
         "showlegend": false,
         "type": "scatter",
         "x": [
          91
         ],
         "xaxis": "x6",
         "y": [
          0.9693809291504212
         ],
         "yaxis": "y6"
        },
        {
         "marker": {
          "color": "#58AEC8",
          "line": {
           "color": "black",
           "width": 1
          },
          "opacity": 0.5,
          "size": 12,
          "symbol": "square"
         },
         "name": "SPAdes",
         "opacity": 0.6,
         "showlegend": false,
         "type": "scatter",
         "x": [
          60
         ],
         "xaxis": "x6",
         "y": [
          0.9803149159640032
         ],
         "yaxis": "y6"
        },
        {
         "marker": {
          "color": "#58AEC8",
          "line": {
           "color": "black",
           "width": 1
          },
          "opacity": 0.5,
          "size": 12,
          "symbol": "diamond"
         },
         "name": "SPAdes",
         "opacity": 0.6,
         "showlegend": false,
         "type": "scatter",
         "x": [
          110
         ],
         "xaxis": "x6",
         "y": [
          0.9772796699655822
         ],
         "yaxis": "y6"
        },
        {
         "marker": {
          "color": "#58AEC8",
          "line": {
           "color": "black",
           "width": 1
          },
          "opacity": 0.5,
          "size": 12,
          "symbol": "circle"
         },
         "name": "SPAdes",
         "opacity": 0.6,
         "showlegend": false,
         "type": "scatter",
         "x": [
          91
         ],
         "xaxis": "x6",
         "y": [
          0.9693809291504212
         ],
         "yaxis": "y6"
        },
        {
         "marker": {
          "color": "#58AEC8",
          "line": {
           "color": "black",
           "width": 1
          },
          "opacity": 0.5,
          "size": 12,
          "symbol": "square"
         },
         "name": "SPAdes",
         "opacity": 0.6,
         "showlegend": false,
         "type": "scatter",
         "x": [
          60
         ],
         "xaxis": "x6",
         "y": [
          0.9803149159640032
         ],
         "yaxis": "y6"
        },
        {
         "marker": {
          "color": "#58AEC8",
          "line": {
           "color": "black",
           "width": 1
          },
          "opacity": 0.5,
          "size": 12,
          "symbol": "diamond"
         },
         "name": "SPAdes",
         "opacity": 0.6,
         "showlegend": false,
         "type": "scatter",
         "x": [
          110
         ],
         "xaxis": "x6",
         "y": [
          0.9772796699655822
         ],
         "yaxis": "y6"
        },
        {
         "marker": {
          "color": "#39B185",
          "line": {
           "color": "black",
           "width": 1
          },
          "opacity": 0.5,
          "size": 12,
          "symbol": "circle"
         },
         "name": "SKESA",
         "opacity": 0.6,
         "showlegend": false,
         "type": "scatter",
         "x": [
          245
         ],
         "xaxis": "x6",
         "y": [
          0.9593946819851312
         ],
         "yaxis": "y6"
        },
        {
         "marker": {
          "color": "#39B185",
          "line": {
           "color": "black",
           "width": 1
          },
          "opacity": 0.5,
          "size": 12,
          "symbol": "square"
         },
         "name": "SKESA",
         "opacity": 0.6,
         "showlegend": false,
         "type": "scatter",
         "x": [
          157
         ],
         "xaxis": "x6",
         "y": [
          0.9615466875753454
         ],
         "yaxis": "y6"
        },
        {
         "marker": {
          "color": "#39B185",
          "line": {
           "color": "black",
           "width": 1
          },
          "opacity": 0.5,
          "size": 12,
          "symbol": "diamond"
         },
         "name": "SKESA",
         "opacity": 0.6,
         "showlegend": false,
         "type": "scatter",
         "x": [
          193
         ],
         "xaxis": "x6",
         "y": [
          0.9689739746616732
         ],
         "yaxis": "y6"
        },
        {
         "marker": {
          "color": "#39B185",
          "line": {
           "color": "black",
           "width": 1
          },
          "opacity": 0.5,
          "size": 12,
          "symbol": "circle"
         },
         "name": "SKESA",
         "opacity": 0.6,
         "showlegend": false,
         "type": "scatter",
         "x": [
          245
         ],
         "xaxis": "x6",
         "y": [
          0.9593946819851312
         ],
         "yaxis": "y6"
        },
        {
         "marker": {
          "color": "#39B185",
          "line": {
           "color": "black",
           "width": 1
          },
          "opacity": 0.5,
          "size": 12,
          "symbol": "square"
         },
         "name": "SKESA",
         "opacity": 0.6,
         "showlegend": false,
         "type": "scatter",
         "x": [
          157
         ],
         "xaxis": "x6",
         "y": [
          0.9615466875753454
         ],
         "yaxis": "y6"
        },
        {
         "marker": {
          "color": "#39B185",
          "line": {
           "color": "black",
           "width": 1
          },
          "opacity": 0.5,
          "size": 12,
          "symbol": "diamond"
         },
         "name": "SKESA",
         "opacity": 0.6,
         "showlegend": false,
         "type": "scatter",
         "x": [
          193
         ],
         "xaxis": "x6",
         "y": [
          0.9689739746616732
         ],
         "yaxis": "y6"
        },
        {
         "marker": {
          "color": "#39B185",
          "line": {
           "color": "black",
           "width": 1
          },
          "opacity": 0.5,
          "size": 12,
          "symbol": "circle"
         },
         "name": "SKESA",
         "opacity": 0.6,
         "showlegend": false,
         "type": "scatter",
         "x": [
          245
         ],
         "xaxis": "x6",
         "y": [
          0.9593946819851312
         ],
         "yaxis": "y6"
        },
        {
         "marker": {
          "color": "#39B185",
          "line": {
           "color": "black",
           "width": 1
          },
          "opacity": 0.5,
          "size": 12,
          "symbol": "square"
         },
         "name": "SKESA",
         "opacity": 0.6,
         "showlegend": false,
         "type": "scatter",
         "x": [
          157
         ],
         "xaxis": "x6",
         "y": [
          0.9615466875753454
         ],
         "yaxis": "y6"
        },
        {
         "marker": {
          "color": "#39B185",
          "line": {
           "color": "black",
           "width": 1
          },
          "opacity": 0.5,
          "size": 12,
          "symbol": "diamond"
         },
         "name": "SKESA",
         "opacity": 0.6,
         "showlegend": false,
         "type": "scatter",
         "x": [
          193
         ],
         "xaxis": "x6",
         "y": [
          0.9689739746616732
         ],
         "yaxis": "y6"
        },
        {
         "marker": {
          "color": "#9CCB86",
          "line": {
           "color": "black",
           "width": 1
          },
          "opacity": 0.5,
          "size": 12,
          "symbol": "circle"
         },
         "name": "metaSPAdes",
         "opacity": 0.6,
         "showlegend": false,
         "type": "scatter",
         "x": [
          56
         ],
         "xaxis": "x6",
         "y": [
          0.9820704718276984
         ],
         "yaxis": "y6"
        },
        {
         "marker": {
          "color": "#9CCB86",
          "line": {
           "color": "black",
           "width": 1
          },
          "opacity": 0.5,
          "size": 12,
          "symbol": "square"
         },
         "name": "metaSPAdes",
         "opacity": 0.6,
         "showlegend": false,
         "type": "scatter",
         "x": [
          55
         ],
         "xaxis": "x6",
         "y": [
          0.9833602465341638
         ],
         "yaxis": "y6"
        },
        {
         "marker": {
          "color": "#9CCB86",
          "line": {
           "color": "black",
           "width": 1
          },
          "opacity": 0.5,
          "size": 12,
          "symbol": "diamond"
         },
         "name": "metaSPAdes",
         "opacity": 0.6,
         "showlegend": false,
         "type": "scatter",
         "x": [
          145
         ],
         "xaxis": "x6",
         "y": [
          0.9778992408418432
         ],
         "yaxis": "y6"
        },
        {
         "marker": {
          "color": "#9CCB86",
          "line": {
           "color": "black",
           "width": 1
          },
          "opacity": 0.5,
          "size": 12,
          "symbol": "circle"
         },
         "name": "metaSPAdes",
         "opacity": 0.6,
         "showlegend": false,
         "type": "scatter",
         "x": [
          56
         ],
         "xaxis": "x6",
         "y": [
          0.9820704718276984
         ],
         "yaxis": "y6"
        },
        {
         "marker": {
          "color": "#9CCB86",
          "line": {
           "color": "black",
           "width": 1
          },
          "opacity": 0.5,
          "size": 12,
          "symbol": "square"
         },
         "name": "metaSPAdes",
         "opacity": 0.6,
         "showlegend": false,
         "type": "scatter",
         "x": [
          55
         ],
         "xaxis": "x6",
         "y": [
          0.9833602465341638
         ],
         "yaxis": "y6"
        },
        {
         "marker": {
          "color": "#9CCB86",
          "line": {
           "color": "black",
           "width": 1
          },
          "opacity": 0.5,
          "size": 12,
          "symbol": "diamond"
         },
         "name": "metaSPAdes",
         "opacity": 0.6,
         "showlegend": false,
         "type": "scatter",
         "x": [
          145
         ],
         "xaxis": "x6",
         "y": [
          0.9778992408418432
         ],
         "yaxis": "y6"
        },
        {
         "marker": {
          "color": "#9CCB86",
          "line": {
           "color": "black",
           "width": 1
          },
          "opacity": 0.5,
          "size": 12,
          "symbol": "circle"
         },
         "name": "metaSPAdes",
         "opacity": 0.6,
         "showlegend": false,
         "type": "scatter",
         "x": [
          56
         ],
         "xaxis": "x6",
         "y": [
          0.9820704718276984
         ],
         "yaxis": "y6"
        },
        {
         "marker": {
          "color": "#9CCB86",
          "line": {
           "color": "black",
           "width": 1
          },
          "opacity": 0.5,
          "size": 12,
          "symbol": "square"
         },
         "name": "metaSPAdes",
         "opacity": 0.6,
         "showlegend": false,
         "type": "scatter",
         "x": [
          55
         ],
         "xaxis": "x6",
         "y": [
          0.9833602465341638
         ],
         "yaxis": "y6"
        },
        {
         "marker": {
          "color": "#9CCB86",
          "line": {
           "color": "black",
           "width": 1
          },
          "opacity": 0.5,
          "size": 12,
          "symbol": "diamond"
         },
         "name": "metaSPAdes",
         "opacity": 0.6,
         "showlegend": false,
         "type": "scatter",
         "x": [
          145
         ],
         "xaxis": "x6",
         "y": [
          0.9778992408418432
         ],
         "yaxis": "y6"
        },
        {
         "marker": {
          "color": "#EEB479",
          "line": {
           "color": "black",
           "width": 1
          },
          "opacity": 0.5,
          "size": 12,
          "symbol": "circle"
         },
         "name": "MEGAHIT",
         "opacity": 0.6,
         "showlegend": false,
         "type": "scatter",
         "x": [
          103
         ],
         "xaxis": "x6",
         "y": [
          0.9810111716045352
         ],
         "yaxis": "y6"
        },
        {
         "marker": {
          "color": "#EEB479",
          "line": {
           "color": "black",
           "width": 1
          },
          "opacity": 0.5,
          "size": 12,
          "symbol": "square"
         },
         "name": "MEGAHIT",
         "opacity": 0.6,
         "showlegend": false,
         "type": "scatter",
         "x": [
          102
         ],
         "xaxis": "x6",
         "y": [
          0.9814851464763036
         ],
         "yaxis": "y6"
        },
        {
         "marker": {
          "color": "#EEB479",
          "line": {
           "color": "black",
           "width": 1
          },
          "opacity": 0.5,
          "size": 12,
          "symbol": "diamond"
         },
         "name": "MEGAHIT",
         "opacity": 0.6,
         "showlegend": false,
         "type": "scatter",
         "x": [
          105
         ],
         "xaxis": "x6",
         "y": [
          0.9808735592193364
         ],
         "yaxis": "y6"
        },
        {
         "marker": {
          "color": "#EEB479",
          "line": {
           "color": "black",
           "width": 1
          },
          "opacity": 0.5,
          "size": 12,
          "symbol": "circle"
         },
         "name": "MEGAHIT",
         "opacity": 0.6,
         "showlegend": false,
         "type": "scatter",
         "x": [
          103
         ],
         "xaxis": "x6",
         "y": [
          0.9810111716045352
         ],
         "yaxis": "y6"
        },
        {
         "marker": {
          "color": "#EEB479",
          "line": {
           "color": "black",
           "width": 1
          },
          "opacity": 0.5,
          "size": 12,
          "symbol": "square"
         },
         "name": "MEGAHIT",
         "opacity": 0.6,
         "showlegend": false,
         "type": "scatter",
         "x": [
          102
         ],
         "xaxis": "x6",
         "y": [
          0.9814851464763036
         ],
         "yaxis": "y6"
        },
        {
         "marker": {
          "color": "#EEB479",
          "line": {
           "color": "black",
           "width": 1
          },
          "opacity": 0.5,
          "size": 12,
          "symbol": "diamond"
         },
         "name": "MEGAHIT",
         "opacity": 0.6,
         "showlegend": false,
         "type": "scatter",
         "x": [
          105
         ],
         "xaxis": "x6",
         "y": [
          0.9808735592193364
         ],
         "yaxis": "y6"
        },
        {
         "marker": {
          "color": "#EEB479",
          "line": {
           "color": "black",
           "width": 1
          },
          "opacity": 0.5,
          "size": 12,
          "symbol": "circle"
         },
         "name": "MEGAHIT",
         "opacity": 0.6,
         "showlegend": false,
         "type": "scatter",
         "x": [
          103
         ],
         "xaxis": "x6",
         "y": [
          0.9810111716045352
         ],
         "yaxis": "y6"
        },
        {
         "marker": {
          "color": "#EEB479",
          "line": {
           "color": "black",
           "width": 1
          },
          "opacity": 0.5,
          "size": 12,
          "symbol": "square"
         },
         "name": "MEGAHIT",
         "opacity": 0.6,
         "showlegend": false,
         "type": "scatter",
         "x": [
          102
         ],
         "xaxis": "x6",
         "y": [
          0.9814851464763036
         ],
         "yaxis": "y6"
        },
        {
         "marker": {
          "color": "#EEB479",
          "line": {
           "color": "black",
           "width": 1
          },
          "opacity": 0.5,
          "size": 12,
          "symbol": "diamond"
         },
         "name": "MEGAHIT",
         "opacity": 0.6,
         "showlegend": false,
         "type": "scatter",
         "x": [
          105
         ],
         "xaxis": "x6",
         "y": [
          0.9808735592193364
         ],
         "yaxis": "y6"
        },
        {
         "marker": {
          "color": "#E88471",
          "line": {
           "color": "black",
           "width": 1
          },
          "opacity": 0.5,
          "size": 12,
          "symbol": "circle"
         },
         "name": "IDBA-UD",
         "opacity": 0.6,
         "showlegend": false,
         "type": "scatter",
         "x": [
          396
         ],
         "xaxis": "x6",
         "y": [
          0.9560898837879164
         ],
         "yaxis": "y6"
        },
        {
         "marker": {
          "color": "#E88471",
          "line": {
           "color": "black",
           "width": 1
          },
          "opacity": 0.5,
          "size": 12,
          "symbol": "square"
         },
         "name": "IDBA-UD",
         "opacity": 0.6,
         "showlegend": false,
         "type": "scatter",
         "x": [
          386
         ],
         "xaxis": "x6",
         "y": [
          0.9624185828403448
         ],
         "yaxis": "y6"
        },
        {
         "marker": {
          "color": "#E88471",
          "line": {
           "color": "black",
           "width": 1
          },
          "opacity": 0.5,
          "size": 12,
          "symbol": "diamond"
         },
         "name": "IDBA-UD",
         "opacity": 0.6,
         "showlegend": false,
         "type": "scatter",
         "x": [
          305
         ],
         "xaxis": "x6",
         "y": [
          0.9703761503239878
         ],
         "yaxis": "y6"
        },
        {
         "marker": {
          "color": "#E88471",
          "line": {
           "color": "black",
           "width": 1
          },
          "opacity": 0.5,
          "size": 12,
          "symbol": "circle"
         },
         "name": "IDBA-UD",
         "opacity": 0.6,
         "showlegend": false,
         "type": "scatter",
         "x": [
          397
         ],
         "xaxis": "x6",
         "y": [
          0.9562846420796404
         ],
         "yaxis": "y6"
        },
        {
         "marker": {
          "color": "#E88471",
          "line": {
           "color": "black",
           "width": 1
          },
          "opacity": 0.5,
          "size": 12,
          "symbol": "square"
         },
         "name": "IDBA-UD",
         "opacity": 0.6,
         "showlegend": false,
         "type": "scatter",
         "x": [
          386
         ],
         "xaxis": "x6",
         "y": [
          0.9624185828403448
         ],
         "yaxis": "y6"
        },
        {
         "marker": {
          "color": "#E88471",
          "line": {
           "color": "black",
           "width": 1
          },
          "opacity": 0.5,
          "size": 12,
          "symbol": "diamond"
         },
         "name": "IDBA-UD",
         "opacity": 0.6,
         "showlegend": false,
         "type": "scatter",
         "x": [
          305
         ],
         "xaxis": "x6",
         "y": [
          0.9704061939439624
         ],
         "yaxis": "y6"
        },
        {
         "marker": {
          "color": "#E88471",
          "line": {
           "color": "black",
           "width": 1
          },
          "opacity": 0.5,
          "size": 12,
          "symbol": "circle"
         },
         "name": "IDBA-UD",
         "opacity": 0.6,
         "showlegend": false,
         "type": "scatter",
         "x": [
          396
         ],
         "xaxis": "x6",
         "y": [
          0.9560898837879164
         ],
         "yaxis": "y6"
        },
        {
         "marker": {
          "color": "#E88471",
          "line": {
           "color": "black",
           "width": 1
          },
          "opacity": 0.5,
          "size": 12,
          "symbol": "square"
         },
         "name": "IDBA-UD",
         "opacity": 0.6,
         "showlegend": false,
         "type": "scatter",
         "x": [
          386
         ],
         "xaxis": "x6",
         "y": [
          0.9624940070331484
         ],
         "yaxis": "y6"
        },
        {
         "marker": {
          "color": "#E88471",
          "line": {
           "color": "black",
           "width": 1
          },
          "opacity": 0.5,
          "size": 12,
          "symbol": "diamond"
         },
         "name": "IDBA-UD",
         "opacity": 0.6,
         "showlegend": false,
         "type": "scatter",
         "x": [
          305
         ],
         "xaxis": "x6",
         "y": [
          0.9703345514655614
         ],
         "yaxis": "y6"
        },
        {
         "marker": {
          "color": "#a54765",
          "line": {
           "color": "black",
           "width": 1
          },
          "opacity": 0.5,
          "size": 12,
          "symbol": "circle"
         },
         "name": "GATBMiniaPipeline",
         "opacity": 0.6,
         "showlegend": false,
         "type": "scatter",
         "x": [
          178
         ],
         "xaxis": "x6",
         "y": [
          0.9756108834378976
         ],
         "yaxis": "y6"
        },
        {
         "marker": {
          "color": "#a54765",
          "line": {
           "color": "black",
           "width": 1
          },
          "opacity": 0.5,
          "size": 12,
          "symbol": "square"
         },
         "name": "GATBMiniaPipeline",
         "opacity": 0.6,
         "showlegend": false,
         "type": "scatter",
         "x": [
          158
         ],
         "xaxis": "x6",
         "y": [
          0.9774819916861108
         ],
         "yaxis": "y6"
        },
        {
         "marker": {
          "color": "#a54765",
          "line": {
           "color": "black",
           "width": 1
          },
          "opacity": 0.5,
          "size": 12,
          "symbol": "diamond"
         },
         "name": "GATBMiniaPipeline",
         "opacity": 0.6,
         "showlegend": false,
         "type": "scatter",
         "x": [
          166
         ],
         "xaxis": "x6",
         "y": [
          0.9756260102955072
         ],
         "yaxis": "y6"
        },
        {
         "marker": {
          "color": "#a54765",
          "line": {
           "color": "black",
           "width": 1
          },
          "opacity": 0.5,
          "size": 12,
          "symbol": "circle"
         },
         "name": "GATBMiniaPipeline",
         "opacity": 0.6,
         "showlegend": false,
         "type": "scatter",
         "x": [
          178
         ],
         "xaxis": "x6",
         "y": [
          0.9756106733426532
         ],
         "yaxis": "y6"
        },
        {
         "marker": {
          "color": "#a54765",
          "line": {
           "color": "black",
           "width": 1
          },
          "opacity": 0.5,
          "size": 12,
          "symbol": "square"
         },
         "name": "GATBMiniaPipeline",
         "opacity": 0.6,
         "showlegend": false,
         "type": "scatter",
         "x": [
          158
         ],
         "xaxis": "x6",
         "y": [
          0.9774836724480676
         ],
         "yaxis": "y6"
        },
        {
         "marker": {
          "color": "#a54765",
          "line": {
           "color": "black",
           "width": 1
          },
          "opacity": 0.5,
          "size": 12,
          "symbol": "diamond"
         },
         "name": "GATBMiniaPipeline",
         "opacity": 0.6,
         "showlegend": false,
         "type": "scatter",
         "x": [
          166
         ],
         "xaxis": "x6",
         "y": [
          0.9756497510581448
         ],
         "yaxis": "y6"
        },
        {
         "marker": {
          "color": "#a54765",
          "line": {
           "color": "black",
           "width": 1
          },
          "opacity": 0.5,
          "size": 12,
          "symbol": "circle"
         },
         "name": "GATBMiniaPipeline",
         "opacity": 0.6,
         "showlegend": false,
         "type": "scatter",
         "x": [
          178
         ],
         "xaxis": "x6",
         "y": [
          0.9756526923915688
         ],
         "yaxis": "y6"
        },
        {
         "marker": {
          "color": "#a54765",
          "line": {
           "color": "black",
           "width": 1
          },
          "opacity": 0.5,
          "size": 12,
          "symbol": "square"
         },
         "name": "GATBMiniaPipeline",
         "opacity": 0.6,
         "showlegend": false,
         "type": "scatter",
         "x": [
          158
         ],
         "xaxis": "x6",
         "y": [
          0.9774819916861108
         ],
         "yaxis": "y6"
        },
        {
         "marker": {
          "color": "#a54765",
          "line": {
           "color": "black",
           "width": 1
          },
          "opacity": 0.5,
          "size": 12,
          "symbol": "diamond"
         },
         "name": "GATBMiniaPipeline",
         "opacity": 0.6,
         "showlegend": false,
         "type": "scatter",
         "x": [
          166
         ],
         "xaxis": "x6",
         "y": [
          0.9756287415336868
         ],
         "yaxis": "y6"
        },
        {
         "marker": {
          "color": "#5876c8",
          "line": {
           "color": "black",
           "width": 1
          },
          "opacity": 0.5,
          "size": 12,
          "symbol": "circle"
         },
         "name": "Unicycler",
         "opacity": 0.6,
         "showlegend": false,
         "type": "scatter",
         "x": [
          25
         ],
         "xaxis": "x8",
         "y": [
          0.9821401510971832
         ],
         "yaxis": "y8"
        },
        {
         "marker": {
          "color": "#5876c8",
          "line": {
           "color": "black",
           "width": 1
          },
          "opacity": 0.5,
          "size": 12,
          "symbol": "square"
         },
         "name": "Unicycler",
         "opacity": 0.6,
         "showlegend": false,
         "type": "scatter",
         "x": [
          16
         ],
         "xaxis": "x8",
         "y": [
          0.9850892679804912
         ],
         "yaxis": "y8"
        },
        {
         "marker": {
          "color": "#5876c8",
          "line": {
           "color": "black",
           "width": 1
          },
          "opacity": 0.5,
          "size": 12,
          "symbol": "diamond"
         },
         "name": "Unicycler",
         "opacity": 0.6,
         "showlegend": false,
         "type": "scatter",
         "x": [
          24
         ],
         "xaxis": "x8",
         "y": [
          0.982907039186694
         ],
         "yaxis": "y8"
        },
        {
         "marker": {
          "color": "#5876c8",
          "line": {
           "color": "black",
           "width": 1
          },
          "opacity": 0.5,
          "size": 12,
          "symbol": "circle"
         },
         "name": "Unicycler",
         "opacity": 0.6,
         "showlegend": false,
         "type": "scatter",
         "x": [
          25
         ],
         "xaxis": "x8",
         "y": [
          0.9821401510971832
         ],
         "yaxis": "y8"
        },
        {
         "marker": {
          "color": "#5876c8",
          "line": {
           "color": "black",
           "width": 1
          },
          "opacity": 0.5,
          "size": 12,
          "symbol": "square"
         },
         "name": "Unicycler",
         "opacity": 0.6,
         "showlegend": false,
         "type": "scatter",
         "x": [
          16
         ],
         "xaxis": "x8",
         "y": [
          0.9850892679804912
         ],
         "yaxis": "y8"
        },
        {
         "marker": {
          "color": "#5876c8",
          "line": {
           "color": "black",
           "width": 1
          },
          "opacity": 0.5,
          "size": 12,
          "symbol": "diamond"
         },
         "name": "Unicycler",
         "opacity": 0.6,
         "showlegend": false,
         "type": "scatter",
         "x": [
          24
         ],
         "xaxis": "x8",
         "y": [
          0.982907039186694
         ],
         "yaxis": "y8"
        },
        {
         "marker": {
          "color": "#5876c8",
          "line": {
           "color": "black",
           "width": 1
          },
          "opacity": 0.5,
          "size": 12,
          "symbol": "circle"
         },
         "name": "Unicycler",
         "opacity": 0.6,
         "showlegend": false,
         "type": "scatter",
         "x": [
          25
         ],
         "xaxis": "x8",
         "y": [
          0.9821401510971832
         ],
         "yaxis": "y8"
        },
        {
         "marker": {
          "color": "#5876c8",
          "line": {
           "color": "black",
           "width": 1
          },
          "opacity": 0.5,
          "size": 12,
          "symbol": "square"
         },
         "name": "Unicycler",
         "opacity": 0.6,
         "showlegend": false,
         "type": "scatter",
         "x": [
          16
         ],
         "xaxis": "x8",
         "y": [
          0.9850892679804912
         ],
         "yaxis": "y8"
        },
        {
         "marker": {
          "color": "#5876c8",
          "line": {
           "color": "black",
           "width": 1
          },
          "opacity": 0.5,
          "size": 12,
          "symbol": "diamond"
         },
         "name": "Unicycler",
         "opacity": 0.6,
         "showlegend": false,
         "type": "scatter",
         "x": [
          24
         ],
         "xaxis": "x8",
         "y": [
          0.982907039186694
         ],
         "yaxis": "y8"
        },
        {
         "marker": {
          "color": "#58AEC8",
          "line": {
           "color": "black",
           "width": 1
          },
          "opacity": 0.5,
          "size": 12,
          "symbol": "circle"
         },
         "name": "SPAdes",
         "opacity": 0.6,
         "showlegend": false,
         "type": "scatter",
         "x": [
          24
         ],
         "xaxis": "x8",
         "y": [
          0.9822295294212844
         ],
         "yaxis": "y8"
        },
        {
         "marker": {
          "color": "#58AEC8",
          "line": {
           "color": "black",
           "width": 1
          },
          "opacity": 0.5,
          "size": 12,
          "symbol": "square"
         },
         "name": "SPAdes",
         "opacity": 0.6,
         "showlegend": false,
         "type": "scatter",
         "x": [
          21
         ],
         "xaxis": "x8",
         "y": [
          0.9852157953199596
         ],
         "yaxis": "y8"
        },
        {
         "marker": {
          "color": "#58AEC8",
          "line": {
           "color": "black",
           "width": 1
          },
          "opacity": 0.5,
          "size": 12,
          "symbol": "diamond"
         },
         "name": "SPAdes",
         "opacity": 0.6,
         "showlegend": false,
         "type": "scatter",
         "x": [
          48
         ],
         "xaxis": "x8",
         "y": [
          0.9831435423241308
         ],
         "yaxis": "y8"
        },
        {
         "marker": {
          "color": "#58AEC8",
          "line": {
           "color": "black",
           "width": 1
          },
          "opacity": 0.5,
          "size": 12,
          "symbol": "circle"
         },
         "name": "SPAdes",
         "opacity": 0.6,
         "showlegend": false,
         "type": "scatter",
         "x": [
          24
         ],
         "xaxis": "x8",
         "y": [
          0.9822295294212844
         ],
         "yaxis": "y8"
        },
        {
         "marker": {
          "color": "#58AEC8",
          "line": {
           "color": "black",
           "width": 1
          },
          "opacity": 0.5,
          "size": 12,
          "symbol": "square"
         },
         "name": "SPAdes",
         "opacity": 0.6,
         "showlegend": false,
         "type": "scatter",
         "x": [
          21
         ],
         "xaxis": "x8",
         "y": [
          0.9852157953199596
         ],
         "yaxis": "y8"
        },
        {
         "marker": {
          "color": "#58AEC8",
          "line": {
           "color": "black",
           "width": 1
          },
          "opacity": 0.5,
          "size": 12,
          "symbol": "diamond"
         },
         "name": "SPAdes",
         "opacity": 0.6,
         "showlegend": false,
         "type": "scatter",
         "x": [
          48
         ],
         "xaxis": "x8",
         "y": [
          0.9831435423241308
         ],
         "yaxis": "y8"
        },
        {
         "marker": {
          "color": "#58AEC8",
          "line": {
           "color": "black",
           "width": 1
          },
          "opacity": 0.5,
          "size": 12,
          "symbol": "circle"
         },
         "name": "SPAdes",
         "opacity": 0.6,
         "showlegend": false,
         "type": "scatter",
         "x": [
          24
         ],
         "xaxis": "x8",
         "y": [
          0.9822295294212844
         ],
         "yaxis": "y8"
        },
        {
         "marker": {
          "color": "#58AEC8",
          "line": {
           "color": "black",
           "width": 1
          },
          "opacity": 0.5,
          "size": 12,
          "symbol": "square"
         },
         "name": "SPAdes",
         "opacity": 0.6,
         "showlegend": false,
         "type": "scatter",
         "x": [
          21
         ],
         "xaxis": "x8",
         "y": [
          0.9852157953199596
         ],
         "yaxis": "y8"
        },
        {
         "marker": {
          "color": "#58AEC8",
          "line": {
           "color": "black",
           "width": 1
          },
          "opacity": 0.5,
          "size": 12,
          "symbol": "diamond"
         },
         "name": "SPAdes",
         "opacity": 0.6,
         "showlegend": false,
         "type": "scatter",
         "x": [
          48
         ],
         "xaxis": "x8",
         "y": [
          0.9831435423241308
         ],
         "yaxis": "y8"
        },
        {
         "marker": {
          "color": "#39B185",
          "line": {
           "color": "black",
           "width": 1
          },
          "opacity": 0.5,
          "size": 12,
          "symbol": "circle"
         },
         "name": "SKESA",
         "opacity": 0.6,
         "showlegend": false,
         "type": "scatter",
         "x": [
          73
         ],
         "xaxis": "x8",
         "y": [
          0.9754470755265228
         ],
         "yaxis": "y8"
        },
        {
         "marker": {
          "color": "#39B185",
          "line": {
           "color": "black",
           "width": 1
          },
          "opacity": 0.5,
          "size": 12,
          "symbol": "square"
         },
         "name": "SKESA",
         "opacity": 0.6,
         "showlegend": false,
         "type": "scatter",
         "x": [
          63
         ],
         "xaxis": "x8",
         "y": [
          0.979103862761974
         ],
         "yaxis": "y8"
        },
        {
         "marker": {
          "color": "#39B185",
          "line": {
           "color": "black",
           "width": 1
          },
          "opacity": 0.5,
          "size": 12,
          "symbol": "diamond"
         },
         "name": "SKESA",
         "opacity": 0.6,
         "showlegend": false,
         "type": "scatter",
         "x": [
          69
         ],
         "xaxis": "x8",
         "y": [
          0.9767333142071076
         ],
         "yaxis": "y8"
        },
        {
         "marker": {
          "color": "#39B185",
          "line": {
           "color": "black",
           "width": 1
          },
          "opacity": 0.5,
          "size": 12,
          "symbol": "circle"
         },
         "name": "SKESA",
         "opacity": 0.6,
         "showlegend": false,
         "type": "scatter",
         "x": [
          73
         ],
         "xaxis": "x8",
         "y": [
          0.9754470755265228
         ],
         "yaxis": "y8"
        },
        {
         "marker": {
          "color": "#39B185",
          "line": {
           "color": "black",
           "width": 1
          },
          "opacity": 0.5,
          "size": 12,
          "symbol": "square"
         },
         "name": "SKESA",
         "opacity": 0.6,
         "showlegend": false,
         "type": "scatter",
         "x": [
          63
         ],
         "xaxis": "x8",
         "y": [
          0.979103862761974
         ],
         "yaxis": "y8"
        },
        {
         "marker": {
          "color": "#39B185",
          "line": {
           "color": "black",
           "width": 1
          },
          "opacity": 0.5,
          "size": 12,
          "symbol": "diamond"
         },
         "name": "SKESA",
         "opacity": 0.6,
         "showlegend": false,
         "type": "scatter",
         "x": [
          69
         ],
         "xaxis": "x8",
         "y": [
          0.9767333142071076
         ],
         "yaxis": "y8"
        },
        {
         "marker": {
          "color": "#39B185",
          "line": {
           "color": "black",
           "width": 1
          },
          "opacity": 0.5,
          "size": 12,
          "symbol": "circle"
         },
         "name": "SKESA",
         "opacity": 0.6,
         "showlegend": false,
         "type": "scatter",
         "x": [
          73
         ],
         "xaxis": "x8",
         "y": [
          0.9754470755265228
         ],
         "yaxis": "y8"
        },
        {
         "marker": {
          "color": "#39B185",
          "line": {
           "color": "black",
           "width": 1
          },
          "opacity": 0.5,
          "size": 12,
          "symbol": "square"
         },
         "name": "SKESA",
         "opacity": 0.6,
         "showlegend": false,
         "type": "scatter",
         "x": [
          63
         ],
         "xaxis": "x8",
         "y": [
          0.979103862761974
         ],
         "yaxis": "y8"
        },
        {
         "marker": {
          "color": "#39B185",
          "line": {
           "color": "black",
           "width": 1
          },
          "opacity": 0.5,
          "size": 12,
          "symbol": "diamond"
         },
         "name": "SKESA",
         "opacity": 0.6,
         "showlegend": false,
         "type": "scatter",
         "x": [
          69
         ],
         "xaxis": "x8",
         "y": [
          0.9767333142071076
         ],
         "yaxis": "y8"
        },
        {
         "marker": {
          "color": "#9CCB86",
          "line": {
           "color": "black",
           "width": 1
          },
          "opacity": 0.5,
          "size": 12,
          "symbol": "circle"
         },
         "name": "metaSPAdes",
         "opacity": 0.6,
         "showlegend": false,
         "type": "scatter",
         "x": [
          19
         ],
         "xaxis": "x8",
         "y": [
          0.9862677377353076
         ],
         "yaxis": "y8"
        },
        {
         "marker": {
          "color": "#9CCB86",
          "line": {
           "color": "black",
           "width": 1
          },
          "opacity": 0.5,
          "size": 12,
          "symbol": "square"
         },
         "name": "metaSPAdes",
         "opacity": 0.6,
         "showlegend": false,
         "type": "scatter",
         "x": [
          23
         ],
         "xaxis": "x8",
         "y": [
          0.9867153649798808
         ],
         "yaxis": "y8"
        },
        {
         "marker": {
          "color": "#9CCB86",
          "line": {
           "color": "black",
           "width": 1
          },
          "opacity": 0.5,
          "size": 12,
          "symbol": "diamond"
         },
         "name": "metaSPAdes",
         "opacity": 0.6,
         "showlegend": false,
         "type": "scatter",
         "x": [
          49
         ],
         "xaxis": "x8",
         "y": [
          0.9834940671919022
         ],
         "yaxis": "y8"
        },
        {
         "marker": {
          "color": "#9CCB86",
          "line": {
           "color": "black",
           "width": 1
          },
          "opacity": 0.5,
          "size": 12,
          "symbol": "circle"
         },
         "name": "metaSPAdes",
         "opacity": 0.6,
         "showlegend": false,
         "type": "scatter",
         "x": [
          19
         ],
         "xaxis": "x8",
         "y": [
          0.9862677377353076
         ],
         "yaxis": "y8"
        },
        {
         "marker": {
          "color": "#9CCB86",
          "line": {
           "color": "black",
           "width": 1
          },
          "opacity": 0.5,
          "size": 12,
          "symbol": "square"
         },
         "name": "metaSPAdes",
         "opacity": 0.6,
         "showlegend": false,
         "type": "scatter",
         "x": [
          23
         ],
         "xaxis": "x8",
         "y": [
          0.9867153649798808
         ],
         "yaxis": "y8"
        },
        {
         "marker": {
          "color": "#9CCB86",
          "line": {
           "color": "black",
           "width": 1
          },
          "opacity": 0.5,
          "size": 12,
          "symbol": "diamond"
         },
         "name": "metaSPAdes",
         "opacity": 0.6,
         "showlegend": false,
         "type": "scatter",
         "x": [
          49
         ],
         "xaxis": "x8",
         "y": [
          0.9834940671919022
         ],
         "yaxis": "y8"
        },
        {
         "marker": {
          "color": "#9CCB86",
          "line": {
           "color": "black",
           "width": 1
          },
          "opacity": 0.5,
          "size": 12,
          "symbol": "circle"
         },
         "name": "metaSPAdes",
         "opacity": 0.6,
         "showlegend": false,
         "type": "scatter",
         "x": [
          19
         ],
         "xaxis": "x8",
         "y": [
          0.9862677377353076
         ],
         "yaxis": "y8"
        },
        {
         "marker": {
          "color": "#9CCB86",
          "line": {
           "color": "black",
           "width": 1
          },
          "opacity": 0.5,
          "size": 12,
          "symbol": "square"
         },
         "name": "metaSPAdes",
         "opacity": 0.6,
         "showlegend": false,
         "type": "scatter",
         "x": [
          23
         ],
         "xaxis": "x8",
         "y": [
          0.9867153649798808
         ],
         "yaxis": "y8"
        },
        {
         "marker": {
          "color": "#9CCB86",
          "line": {
           "color": "black",
           "width": 1
          },
          "opacity": 0.5,
          "size": 12,
          "symbol": "diamond"
         },
         "name": "metaSPAdes",
         "opacity": 0.6,
         "showlegend": false,
         "type": "scatter",
         "x": [
          49
         ],
         "xaxis": "x8",
         "y": [
          0.9834940671919022
         ],
         "yaxis": "y8"
        },
        {
         "marker": {
          "color": "#EEB479",
          "line": {
           "color": "black",
           "width": 1
          },
          "opacity": 0.5,
          "size": 12,
          "symbol": "circle"
         },
         "name": "MEGAHIT",
         "opacity": 0.6,
         "showlegend": false,
         "type": "scatter",
         "x": [
          40
         ],
         "xaxis": "x8",
         "y": [
          0.9862110946821736
         ],
         "yaxis": "y8"
        },
        {
         "marker": {
          "color": "#EEB479",
          "line": {
           "color": "black",
           "width": 1
          },
          "opacity": 0.5,
          "size": 12,
          "symbol": "square"
         },
         "name": "MEGAHIT",
         "opacity": 0.6,
         "showlegend": false,
         "type": "scatter",
         "x": [
          37
         ],
         "xaxis": "x8",
         "y": [
          0.9861526125688728
         ],
         "yaxis": "y8"
        },
        {
         "marker": {
          "color": "#EEB479",
          "line": {
           "color": "black",
           "width": 1
          },
          "opacity": 0.5,
          "size": 12,
          "symbol": "diamond"
         },
         "name": "MEGAHIT",
         "opacity": 0.6,
         "showlegend": false,
         "type": "scatter",
         "x": [
          43
         ],
         "xaxis": "x8",
         "y": [
          0.9860448436431046
         ],
         "yaxis": "y8"
        },
        {
         "marker": {
          "color": "#EEB479",
          "line": {
           "color": "black",
           "width": 1
          },
          "opacity": 0.5,
          "size": 12,
          "symbol": "circle"
         },
         "name": "MEGAHIT",
         "opacity": 0.6,
         "showlegend": false,
         "type": "scatter",
         "x": [
          40
         ],
         "xaxis": "x8",
         "y": [
          0.9862110946821736
         ],
         "yaxis": "y8"
        },
        {
         "marker": {
          "color": "#EEB479",
          "line": {
           "color": "black",
           "width": 1
          },
          "opacity": 0.5,
          "size": 12,
          "symbol": "square"
         },
         "name": "MEGAHIT",
         "opacity": 0.6,
         "showlegend": false,
         "type": "scatter",
         "x": [
          37
         ],
         "xaxis": "x8",
         "y": [
          0.9861526125688728
         ],
         "yaxis": "y8"
        },
        {
         "marker": {
          "color": "#EEB479",
          "line": {
           "color": "black",
           "width": 1
          },
          "opacity": 0.5,
          "size": 12,
          "symbol": "diamond"
         },
         "name": "MEGAHIT",
         "opacity": 0.6,
         "showlegend": false,
         "type": "scatter",
         "x": [
          43
         ],
         "xaxis": "x8",
         "y": [
          0.9860448436431046
         ],
         "yaxis": "y8"
        },
        {
         "marker": {
          "color": "#EEB479",
          "line": {
           "color": "black",
           "width": 1
          },
          "opacity": 0.5,
          "size": 12,
          "symbol": "circle"
         },
         "name": "MEGAHIT",
         "opacity": 0.6,
         "showlegend": false,
         "type": "scatter",
         "x": [
          40
         ],
         "xaxis": "x8",
         "y": [
          0.9862110946821736
         ],
         "yaxis": "y8"
        },
        {
         "marker": {
          "color": "#EEB479",
          "line": {
           "color": "black",
           "width": 1
          },
          "opacity": 0.5,
          "size": 12,
          "symbol": "square"
         },
         "name": "MEGAHIT",
         "opacity": 0.6,
         "showlegend": false,
         "type": "scatter",
         "x": [
          37
         ],
         "xaxis": "x8",
         "y": [
          0.9861526125688728
         ],
         "yaxis": "y8"
        },
        {
         "marker": {
          "color": "#EEB479",
          "line": {
           "color": "black",
           "width": 1
          },
          "opacity": 0.5,
          "size": 12,
          "symbol": "diamond"
         },
         "name": "MEGAHIT",
         "opacity": 0.6,
         "showlegend": false,
         "type": "scatter",
         "x": [
          43
         ],
         "xaxis": "x8",
         "y": [
          0.9860448436431046
         ],
         "yaxis": "y8"
        },
        {
         "marker": {
          "color": "#E88471",
          "line": {
           "color": "black",
           "width": 1
          },
          "opacity": 0.5,
          "size": 12,
          "symbol": "circle"
         },
         "name": "IDBA-UD",
         "opacity": 0.6,
         "showlegend": false,
         "type": "scatter",
         "x": [
          74
         ],
         "xaxis": "x8",
         "y": [
          0.9805177322181272
         ],
         "yaxis": "y8"
        },
        {
         "marker": {
          "color": "#E88471",
          "line": {
           "color": "black",
           "width": 1
          },
          "opacity": 0.5,
          "size": 12,
          "symbol": "square"
         },
         "name": "IDBA-UD",
         "opacity": 0.6,
         "showlegend": false,
         "type": "scatter",
         "x": [
          72
         ],
         "xaxis": "x8",
         "y": [
          0.9789331979785052
         ],
         "yaxis": "y8"
        },
        {
         "marker": {
          "color": "#E88471",
          "line": {
           "color": "black",
           "width": 1
          },
          "opacity": 0.5,
          "size": 12,
          "symbol": "diamond"
         },
         "name": "IDBA-UD",
         "opacity": 0.6,
         "showlegend": false,
         "type": "scatter",
         "x": [
          174
         ],
         "xaxis": "x8",
         "y": [
          0.980085920890988
         ],
         "yaxis": "y8"
        },
        {
         "marker": {
          "color": "#E88471",
          "line": {
           "color": "black",
           "width": 1
          },
          "opacity": 0.5,
          "size": 12,
          "symbol": "circle"
         },
         "name": "IDBA-UD",
         "opacity": 0.6,
         "showlegend": false,
         "type": "scatter",
         "x": [
          74
         ],
         "xaxis": "x8",
         "y": [
          0.9805177322181272
         ],
         "yaxis": "y8"
        },
        {
         "marker": {
          "color": "#E88471",
          "line": {
           "color": "black",
           "width": 1
          },
          "opacity": 0.5,
          "size": 12,
          "symbol": "square"
         },
         "name": "IDBA-UD",
         "opacity": 0.6,
         "showlegend": false,
         "type": "scatter",
         "x": [
          72
         ],
         "xaxis": "x8",
         "y": [
          0.9789331979785052
         ],
         "yaxis": "y8"
        },
        {
         "marker": {
          "color": "#E88471",
          "line": {
           "color": "black",
           "width": 1
          },
          "opacity": 0.5,
          "size": 12,
          "symbol": "diamond"
         },
         "name": "IDBA-UD",
         "opacity": 0.6,
         "showlegend": false,
         "type": "scatter",
         "x": [
          174
         ],
         "xaxis": "x8",
         "y": [
          0.980085920890988
         ],
         "yaxis": "y8"
        },
        {
         "marker": {
          "color": "#E88471",
          "line": {
           "color": "black",
           "width": 1
          },
          "opacity": 0.5,
          "size": 12,
          "symbol": "circle"
         },
         "name": "IDBA-UD",
         "opacity": 0.6,
         "showlegend": false,
         "type": "scatter",
         "x": [
          74
         ],
         "xaxis": "x8",
         "y": [
          0.9805177322181272
         ],
         "yaxis": "y8"
        },
        {
         "marker": {
          "color": "#E88471",
          "line": {
           "color": "black",
           "width": 1
          },
          "opacity": 0.5,
          "size": 12,
          "symbol": "square"
         },
         "name": "IDBA-UD",
         "opacity": 0.6,
         "showlegend": false,
         "type": "scatter",
         "x": [
          72
         ],
         "xaxis": "x8",
         "y": [
          0.9789331979785052
         ],
         "yaxis": "y8"
        },
        {
         "marker": {
          "color": "#E88471",
          "line": {
           "color": "black",
           "width": 1
          },
          "opacity": 0.5,
          "size": 12,
          "symbol": "diamond"
         },
         "name": "IDBA-UD",
         "opacity": 0.6,
         "showlegend": false,
         "type": "scatter",
         "x": [
          174
         ],
         "xaxis": "x8",
         "y": [
          0.980085920890988
         ],
         "yaxis": "y8"
        },
        {
         "marker": {
          "color": "#a54765",
          "line": {
           "color": "black",
           "width": 1
          },
          "opacity": 0.5,
          "size": 12,
          "symbol": "circle"
         },
         "name": "GATBMiniaPipeline",
         "opacity": 0.6,
         "showlegend": false,
         "type": "scatter",
         "x": [
          65
         ],
         "xaxis": "x8",
         "y": [
          0.9823064021362524
         ],
         "yaxis": "y8"
        },
        {
         "marker": {
          "color": "#a54765",
          "line": {
           "color": "black",
           "width": 1
          },
          "opacity": 0.5,
          "size": 12,
          "symbol": "square"
         },
         "name": "GATBMiniaPipeline",
         "opacity": 0.6,
         "showlegend": false,
         "type": "scatter",
         "x": [
          41
         ],
         "xaxis": "x8",
         "y": [
          0.9853886669756288
         ],
         "yaxis": "y8"
        },
        {
         "marker": {
          "color": "#a54765",
          "line": {
           "color": "black",
           "width": 1
          },
          "opacity": 0.5,
          "size": 12,
          "symbol": "diamond"
         },
         "name": "GATBMiniaPipeline",
         "opacity": 0.6,
         "showlegend": false,
         "type": "scatter",
         "x": [
          53
         ],
         "xaxis": "x8",
         "y": [
          0.9844165397715152
         ],
         "yaxis": "y8"
        },
        {
         "marker": {
          "color": "#a54765",
          "line": {
           "color": "black",
           "width": 1
          },
          "opacity": 0.5,
          "size": 12,
          "symbol": "circle"
         },
         "name": "GATBMiniaPipeline",
         "opacity": 0.6,
         "showlegend": false,
         "type": "scatter",
         "x": [
          65
         ],
         "xaxis": "x8",
         "y": [
          0.9823064021362524
         ],
         "yaxis": "y8"
        },
        {
         "marker": {
          "color": "#a54765",
          "line": {
           "color": "black",
           "width": 1
          },
          "opacity": 0.5,
          "size": 12,
          "symbol": "square"
         },
         "name": "GATBMiniaPipeline",
         "opacity": 0.6,
         "showlegend": false,
         "type": "scatter",
         "x": [
          41
         ],
         "xaxis": "x8",
         "y": [
          0.9853886669756288
         ],
         "yaxis": "y8"
        },
        {
         "marker": {
          "color": "#a54765",
          "line": {
           "color": "black",
           "width": 1
          },
          "opacity": 0.5,
          "size": 12,
          "symbol": "diamond"
         },
         "name": "GATBMiniaPipeline",
         "opacity": 0.6,
         "showlegend": false,
         "type": "scatter",
         "x": [
          53
         ],
         "xaxis": "x8",
         "y": [
          0.984420585703882
         ],
         "yaxis": "y8"
        },
        {
         "marker": {
          "color": "#a54765",
          "line": {
           "color": "black",
           "width": 1
          },
          "opacity": 0.5,
          "size": 12,
          "symbol": "circle"
         },
         "name": "GATBMiniaPipeline",
         "opacity": 0.6,
         "showlegend": false,
         "type": "scatter",
         "x": [
          65
         ],
         "xaxis": "x8",
         "y": [
          0.9823064021362524
         ],
         "yaxis": "y8"
        },
        {
         "marker": {
          "color": "#a54765",
          "line": {
           "color": "black",
           "width": 1
          },
          "opacity": 0.5,
          "size": 12,
          "symbol": "square"
         },
         "name": "GATBMiniaPipeline",
         "opacity": 0.6,
         "showlegend": false,
         "type": "scatter",
         "x": [
          41
         ],
         "xaxis": "x8",
         "y": [
          0.9853886669756288
         ],
         "yaxis": "y8"
        },
        {
         "marker": {
          "color": "#a54765",
          "line": {
           "color": "black",
           "width": 1
          },
          "opacity": 0.5,
          "size": 12,
          "symbol": "diamond"
         },
         "name": "GATBMiniaPipeline",
         "opacity": 0.6,
         "showlegend": false,
         "type": "scatter",
         "x": [
          53
         ],
         "xaxis": "x8",
         "y": [
          0.9844165397715152
         ],
         "yaxis": "y8"
        },
        {
         "legendgroup": "Assemblers",
         "legendgrouptitle": {
          "text": "Assembler"
         },
         "marker": {
          "color": "#5876c8"
         },
         "name": "Unicycler",
         "showlegend": true,
         "type": "bar",
         "x": [
          22
         ]
        },
        {
         "legendgroup": "Assemblers",
         "legendgrouptitle": {
          "text": "Assembler"
         },
         "marker": {
          "color": "#58AEC8"
         },
         "name": "SPAdes",
         "showlegend": true,
         "type": "bar",
         "x": [
          22
         ]
        },
        {
         "legendgroup": "Assemblers",
         "legendgrouptitle": {
          "text": "Assembler"
         },
         "marker": {
          "color": "#39B185"
         },
         "name": "SKESA",
         "showlegend": true,
         "type": "bar",
         "x": [
          22
         ]
        },
        {
         "legendgroup": "Assemblers",
         "legendgrouptitle": {
          "text": "Assembler"
         },
         "marker": {
          "color": "#9CCB86"
         },
         "name": "metaSPAdes",
         "showlegend": true,
         "type": "bar",
         "x": [
          22
         ]
        },
        {
         "legendgroup": "Assemblers",
         "legendgrouptitle": {
          "text": "Assembler"
         },
         "marker": {
          "color": "#EEB479"
         },
         "name": "MEGAHIT",
         "showlegend": true,
         "type": "bar",
         "x": [
          22
         ]
        },
        {
         "legendgroup": "Assemblers",
         "legendgrouptitle": {
          "text": "Assembler"
         },
         "marker": {
          "color": "#E88471"
         },
         "name": "IDBA-UD",
         "showlegend": true,
         "type": "bar",
         "x": [
          22
         ]
        },
        {
         "legendgroup": "Assemblers",
         "legendgrouptitle": {
          "text": "Assembler"
         },
         "marker": {
          "color": "#a54765"
         },
         "name": "GATBMiniaPipeline",
         "showlegend": true,
         "type": "bar",
         "x": [
          22
         ]
        },
        {
         "legendgroup": "Samples",
         "legendgrouptitle": {
          "text": "Sample"
         },
         "marker": {
          "color": "black",
          "size": 12,
          "symbol": "circle"
         },
         "mode": "markers",
         "name": "ENN",
         "showlegend": true,
         "type": "scatter",
         "x": [
          22
         ]
        },
        {
         "legendgroup": "Samples",
         "legendgrouptitle": {
          "text": "Sample"
         },
         "marker": {
          "color": "black",
          "size": 12,
          "symbol": "square"
         },
         "mode": "markers",
         "name": "EMS",
         "showlegend": true,
         "type": "scatter",
         "x": [
          22
         ]
        },
        {
         "legendgroup": "Samples",
         "legendgrouptitle": {
          "text": "Sample"
         },
         "marker": {
          "color": "black",
          "size": 12,
          "symbol": "diamond"
         },
         "mode": "markers",
         "name": "ERR2984773",
         "showlegend": true,
         "type": "scatter",
         "x": [
          22
         ]
        }
       ],
       "layout": {
        "annotations": [
         {
          "font": {
           "size": 18
          },
          "showarrow": false,
          "text": "<i>Bacillus subtilis</i>",
          "x": 0.225,
          "xanchor": "center",
          "xref": "paper",
          "y": 1,
          "yanchor": "bottom",
          "yref": "paper"
         },
         {
          "font": {
           "size": 18
          },
          "showarrow": false,
          "text": "<i>Enterococcus faecalis</i>",
          "x": 0.775,
          "xanchor": "center",
          "xref": "paper",
          "y": 1,
          "yanchor": "bottom",
          "yref": "paper"
         },
         {
          "font": {
           "size": 18
          },
          "showarrow": false,
          "text": "<i>Escherichia coli</i>",
          "x": 0.225,
          "xanchor": "center",
          "xref": "paper",
          "y": 0.71875,
          "yanchor": "bottom",
          "yref": "paper"
         },
         {
          "font": {
           "size": 18
          },
          "showarrow": false,
          "text": "<i>Lactobacillus fermentum</i>",
          "x": 0.775,
          "xanchor": "center",
          "xref": "paper",
          "y": 0.71875,
          "yanchor": "bottom",
          "yref": "paper"
         },
         {
          "font": {
           "size": 18
          },
          "showarrow": false,
          "text": "<i>Listeria monocytogenes</i>",
          "x": 0.225,
          "xanchor": "center",
          "xref": "paper",
          "y": 0.4375,
          "yanchor": "bottom",
          "yref": "paper"
         },
         {
          "font": {
           "size": 18
          },
          "showarrow": false,
          "text": "<i>Pseudomonas aeruginosa</i>",
          "x": 0.775,
          "xanchor": "center",
          "xref": "paper",
          "y": 0.4375,
          "yanchor": "bottom",
          "yref": "paper"
         },
         {
          "font": {
           "size": 18
          },
          "showarrow": false,
          "text": "<i>Salmonella enterica</i>",
          "x": 0.225,
          "xanchor": "center",
          "xref": "paper",
          "y": 0.15625,
          "yanchor": "bottom",
          "yref": "paper"
         },
         {
          "font": {
           "size": 18
          },
          "showarrow": false,
          "text": "<i>Staphylococcus aureus</i>",
          "x": 0.775,
          "xanchor": "center",
          "xref": "paper",
          "y": 0.15625,
          "yanchor": "bottom",
          "yref": "paper"
         },
         {
          "font": {
           "size": 18
          },
          "showarrow": false,
          "text": "<b>Contigs",
          "x": 0.5,
          "xanchor": "center",
          "xref": "paper",
          "y": 0,
          "yanchor": "top",
          "yref": "paper",
          "yshift": -30
         },
         {
          "font": {
           "size": 18
          },
          "showarrow": false,
          "text": "<b>Breadth of Coverage",
          "textangle": -90,
          "x": 0,
          "xanchor": "right",
          "xref": "paper",
          "xshift": -40,
          "y": 0.5,
          "yanchor": "middle",
          "yref": "paper"
         }
        ],
        "font": {
         "size": 18
        },
        "plot_bgcolor": "rgb(255,255,255)",
        "template": {
         "data": {
          "bar": [
           {
            "error_x": {
             "color": "#2a3f5f"
            },
            "error_y": {
             "color": "#2a3f5f"
            },
            "marker": {
             "line": {
              "color": "#E5ECF6",
              "width": 0.5
             },
             "pattern": {
              "fillmode": "overlay",
              "size": 10,
              "solidity": 0.2
             }
            },
            "type": "bar"
           }
          ],
          "barpolar": [
           {
            "marker": {
             "line": {
              "color": "#E5ECF6",
              "width": 0.5
             },
             "pattern": {
              "fillmode": "overlay",
              "size": 10,
              "solidity": 0.2
             }
            },
            "type": "barpolar"
           }
          ],
          "carpet": [
           {
            "aaxis": {
             "endlinecolor": "#2a3f5f",
             "gridcolor": "white",
             "linecolor": "white",
             "minorgridcolor": "white",
             "startlinecolor": "#2a3f5f"
            },
            "baxis": {
             "endlinecolor": "#2a3f5f",
             "gridcolor": "white",
             "linecolor": "white",
             "minorgridcolor": "white",
             "startlinecolor": "#2a3f5f"
            },
            "type": "carpet"
           }
          ],
          "choropleth": [
           {
            "colorbar": {
             "outlinewidth": 0,
             "ticks": ""
            },
            "type": "choropleth"
           }
          ],
          "contour": [
           {
            "colorbar": {
             "outlinewidth": 0,
             "ticks": ""
            },
            "colorscale": [
             [
              0,
              "#0d0887"
             ],
             [
              0.1111111111111111,
              "#46039f"
             ],
             [
              0.2222222222222222,
              "#7201a8"
             ],
             [
              0.3333333333333333,
              "#9c179e"
             ],
             [
              0.4444444444444444,
              "#bd3786"
             ],
             [
              0.5555555555555556,
              "#d8576b"
             ],
             [
              0.6666666666666666,
              "#ed7953"
             ],
             [
              0.7777777777777778,
              "#fb9f3a"
             ],
             [
              0.8888888888888888,
              "#fdca26"
             ],
             [
              1,
              "#f0f921"
             ]
            ],
            "type": "contour"
           }
          ],
          "contourcarpet": [
           {
            "colorbar": {
             "outlinewidth": 0,
             "ticks": ""
            },
            "type": "contourcarpet"
           }
          ],
          "heatmap": [
           {
            "colorbar": {
             "outlinewidth": 0,
             "ticks": ""
            },
            "colorscale": [
             [
              0,
              "#0d0887"
             ],
             [
              0.1111111111111111,
              "#46039f"
             ],
             [
              0.2222222222222222,
              "#7201a8"
             ],
             [
              0.3333333333333333,
              "#9c179e"
             ],
             [
              0.4444444444444444,
              "#bd3786"
             ],
             [
              0.5555555555555556,
              "#d8576b"
             ],
             [
              0.6666666666666666,
              "#ed7953"
             ],
             [
              0.7777777777777778,
              "#fb9f3a"
             ],
             [
              0.8888888888888888,
              "#fdca26"
             ],
             [
              1,
              "#f0f921"
             ]
            ],
            "type": "heatmap"
           }
          ],
          "heatmapgl": [
           {
            "colorbar": {
             "outlinewidth": 0,
             "ticks": ""
            },
            "colorscale": [
             [
              0,
              "#0d0887"
             ],
             [
              0.1111111111111111,
              "#46039f"
             ],
             [
              0.2222222222222222,
              "#7201a8"
             ],
             [
              0.3333333333333333,
              "#9c179e"
             ],
             [
              0.4444444444444444,
              "#bd3786"
             ],
             [
              0.5555555555555556,
              "#d8576b"
             ],
             [
              0.6666666666666666,
              "#ed7953"
             ],
             [
              0.7777777777777778,
              "#fb9f3a"
             ],
             [
              0.8888888888888888,
              "#fdca26"
             ],
             [
              1,
              "#f0f921"
             ]
            ],
            "type": "heatmapgl"
           }
          ],
          "histogram": [
           {
            "marker": {
             "pattern": {
              "fillmode": "overlay",
              "size": 10,
              "solidity": 0.2
             }
            },
            "type": "histogram"
           }
          ],
          "histogram2d": [
           {
            "colorbar": {
             "outlinewidth": 0,
             "ticks": ""
            },
            "colorscale": [
             [
              0,
              "#0d0887"
             ],
             [
              0.1111111111111111,
              "#46039f"
             ],
             [
              0.2222222222222222,
              "#7201a8"
             ],
             [
              0.3333333333333333,
              "#9c179e"
             ],
             [
              0.4444444444444444,
              "#bd3786"
             ],
             [
              0.5555555555555556,
              "#d8576b"
             ],
             [
              0.6666666666666666,
              "#ed7953"
             ],
             [
              0.7777777777777778,
              "#fb9f3a"
             ],
             [
              0.8888888888888888,
              "#fdca26"
             ],
             [
              1,
              "#f0f921"
             ]
            ],
            "type": "histogram2d"
           }
          ],
          "histogram2dcontour": [
           {
            "colorbar": {
             "outlinewidth": 0,
             "ticks": ""
            },
            "colorscale": [
             [
              0,
              "#0d0887"
             ],
             [
              0.1111111111111111,
              "#46039f"
             ],
             [
              0.2222222222222222,
              "#7201a8"
             ],
             [
              0.3333333333333333,
              "#9c179e"
             ],
             [
              0.4444444444444444,
              "#bd3786"
             ],
             [
              0.5555555555555556,
              "#d8576b"
             ],
             [
              0.6666666666666666,
              "#ed7953"
             ],
             [
              0.7777777777777778,
              "#fb9f3a"
             ],
             [
              0.8888888888888888,
              "#fdca26"
             ],
             [
              1,
              "#f0f921"
             ]
            ],
            "type": "histogram2dcontour"
           }
          ],
          "mesh3d": [
           {
            "colorbar": {
             "outlinewidth": 0,
             "ticks": ""
            },
            "type": "mesh3d"
           }
          ],
          "parcoords": [
           {
            "line": {
             "colorbar": {
              "outlinewidth": 0,
              "ticks": ""
             }
            },
            "type": "parcoords"
           }
          ],
          "pie": [
           {
            "automargin": true,
            "type": "pie"
           }
          ],
          "scatter": [
           {
            "marker": {
             "colorbar": {
              "outlinewidth": 0,
              "ticks": ""
             }
            },
            "type": "scatter"
           }
          ],
          "scatter3d": [
           {
            "line": {
             "colorbar": {
              "outlinewidth": 0,
              "ticks": ""
             }
            },
            "marker": {
             "colorbar": {
              "outlinewidth": 0,
              "ticks": ""
             }
            },
            "type": "scatter3d"
           }
          ],
          "scattercarpet": [
           {
            "marker": {
             "colorbar": {
              "outlinewidth": 0,
              "ticks": ""
             }
            },
            "type": "scattercarpet"
           }
          ],
          "scattergeo": [
           {
            "marker": {
             "colorbar": {
              "outlinewidth": 0,
              "ticks": ""
             }
            },
            "type": "scattergeo"
           }
          ],
          "scattergl": [
           {
            "marker": {
             "colorbar": {
              "outlinewidth": 0,
              "ticks": ""
             }
            },
            "type": "scattergl"
           }
          ],
          "scattermapbox": [
           {
            "marker": {
             "colorbar": {
              "outlinewidth": 0,
              "ticks": ""
             }
            },
            "type": "scattermapbox"
           }
          ],
          "scatterpolar": [
           {
            "marker": {
             "colorbar": {
              "outlinewidth": 0,
              "ticks": ""
             }
            },
            "type": "scatterpolar"
           }
          ],
          "scatterpolargl": [
           {
            "marker": {
             "colorbar": {
              "outlinewidth": 0,
              "ticks": ""
             }
            },
            "type": "scatterpolargl"
           }
          ],
          "scatterternary": [
           {
            "marker": {
             "colorbar": {
              "outlinewidth": 0,
              "ticks": ""
             }
            },
            "type": "scatterternary"
           }
          ],
          "surface": [
           {
            "colorbar": {
             "outlinewidth": 0,
             "ticks": ""
            },
            "colorscale": [
             [
              0,
              "#0d0887"
             ],
             [
              0.1111111111111111,
              "#46039f"
             ],
             [
              0.2222222222222222,
              "#7201a8"
             ],
             [
              0.3333333333333333,
              "#9c179e"
             ],
             [
              0.4444444444444444,
              "#bd3786"
             ],
             [
              0.5555555555555556,
              "#d8576b"
             ],
             [
              0.6666666666666666,
              "#ed7953"
             ],
             [
              0.7777777777777778,
              "#fb9f3a"
             ],
             [
              0.8888888888888888,
              "#fdca26"
             ],
             [
              1,
              "#f0f921"
             ]
            ],
            "type": "surface"
           }
          ],
          "table": [
           {
            "cells": {
             "fill": {
              "color": "#EBF0F8"
             },
             "line": {
              "color": "white"
             }
            },
            "header": {
             "fill": {
              "color": "#C8D4E3"
             },
             "line": {
              "color": "white"
             }
            },
            "type": "table"
           }
          ]
         },
         "layout": {
          "annotationdefaults": {
           "arrowcolor": "#2a3f5f",
           "arrowhead": 0,
           "arrowwidth": 1
          },
          "autotypenumbers": "strict",
          "coloraxis": {
           "colorbar": {
            "outlinewidth": 0,
            "ticks": ""
           }
          },
          "colorscale": {
           "diverging": [
            [
             0,
             "#8e0152"
            ],
            [
             0.1,
             "#c51b7d"
            ],
            [
             0.2,
             "#de77ae"
            ],
            [
             0.3,
             "#f1b6da"
            ],
            [
             0.4,
             "#fde0ef"
            ],
            [
             0.5,
             "#f7f7f7"
            ],
            [
             0.6,
             "#e6f5d0"
            ],
            [
             0.7,
             "#b8e186"
            ],
            [
             0.8,
             "#7fbc41"
            ],
            [
             0.9,
             "#4d9221"
            ],
            [
             1,
             "#276419"
            ]
           ],
           "sequential": [
            [
             0,
             "#0d0887"
            ],
            [
             0.1111111111111111,
             "#46039f"
            ],
            [
             0.2222222222222222,
             "#7201a8"
            ],
            [
             0.3333333333333333,
             "#9c179e"
            ],
            [
             0.4444444444444444,
             "#bd3786"
            ],
            [
             0.5555555555555556,
             "#d8576b"
            ],
            [
             0.6666666666666666,
             "#ed7953"
            ],
            [
             0.7777777777777778,
             "#fb9f3a"
            ],
            [
             0.8888888888888888,
             "#fdca26"
            ],
            [
             1,
             "#f0f921"
            ]
           ],
           "sequentialminus": [
            [
             0,
             "#0d0887"
            ],
            [
             0.1111111111111111,
             "#46039f"
            ],
            [
             0.2222222222222222,
             "#7201a8"
            ],
            [
             0.3333333333333333,
             "#9c179e"
            ],
            [
             0.4444444444444444,
             "#bd3786"
            ],
            [
             0.5555555555555556,
             "#d8576b"
            ],
            [
             0.6666666666666666,
             "#ed7953"
            ],
            [
             0.7777777777777778,
             "#fb9f3a"
            ],
            [
             0.8888888888888888,
             "#fdca26"
            ],
            [
             1,
             "#f0f921"
            ]
           ]
          },
          "colorway": [
           "#636efa",
           "#EF553B",
           "#00cc96",
           "#ab63fa",
           "#FFA15A",
           "#19d3f3",
           "#FF6692",
           "#B6E880",
           "#FF97FF",
           "#FECB52"
          ],
          "font": {
           "color": "#2a3f5f"
          },
          "geo": {
           "bgcolor": "white",
           "lakecolor": "white",
           "landcolor": "#E5ECF6",
           "showlakes": true,
           "showland": true,
           "subunitcolor": "white"
          },
          "hoverlabel": {
           "align": "left"
          },
          "hovermode": "closest",
          "mapbox": {
           "style": "light"
          },
          "paper_bgcolor": "white",
          "plot_bgcolor": "#E5ECF6",
          "polar": {
           "angularaxis": {
            "gridcolor": "white",
            "linecolor": "white",
            "ticks": ""
           },
           "bgcolor": "#E5ECF6",
           "radialaxis": {
            "gridcolor": "white",
            "linecolor": "white",
            "ticks": ""
           }
          },
          "scene": {
           "xaxis": {
            "backgroundcolor": "#E5ECF6",
            "gridcolor": "white",
            "gridwidth": 2,
            "linecolor": "white",
            "showbackground": true,
            "ticks": "",
            "zerolinecolor": "white"
           },
           "yaxis": {
            "backgroundcolor": "#E5ECF6",
            "gridcolor": "white",
            "gridwidth": 2,
            "linecolor": "white",
            "showbackground": true,
            "ticks": "",
            "zerolinecolor": "white"
           },
           "zaxis": {
            "backgroundcolor": "#E5ECF6",
            "gridcolor": "white",
            "gridwidth": 2,
            "linecolor": "white",
            "showbackground": true,
            "ticks": "",
            "zerolinecolor": "white"
           }
          },
          "shapedefaults": {
           "line": {
            "color": "#2a3f5f"
           }
          },
          "ternary": {
           "aaxis": {
            "gridcolor": "white",
            "linecolor": "white",
            "ticks": ""
           },
           "baxis": {
            "gridcolor": "white",
            "linecolor": "white",
            "ticks": ""
           },
           "bgcolor": "#E5ECF6",
           "caxis": {
            "gridcolor": "white",
            "linecolor": "white",
            "ticks": ""
           }
          },
          "title": {
           "x": 0.05
          },
          "xaxis": {
           "automargin": true,
           "gridcolor": "white",
           "linecolor": "white",
           "ticks": "",
           "title": {
            "standoff": 15
           },
           "zerolinecolor": "white",
           "zerolinewidth": 2
          },
          "yaxis": {
           "automargin": true,
           "gridcolor": "white",
           "linecolor": "white",
           "ticks": "",
           "title": {
            "standoff": 15
           },
           "zerolinecolor": "white",
           "zerolinewidth": 2
          }
         }
        },
        "title": {
         "text": "Genome fragmentation variation <br><sup>ZymoBIOMICS Microbial Community Standard bacterial reference replicons</sup><br>",
         "x": 0.5,
         "xanchor": "center",
         "y": 0.98,
         "yanchor": "top"
        },
        "xaxis": {
         "anchor": "y",
         "domain": [
          0,
          0.45
         ],
         "gridcolor": "#DCDCDC",
         "linecolor": "#DCDCDC",
         "linewidth": 1,
         "matches": "x7",
         "range": [
          0,
          3
         ],
         "rangemode": "tozero",
         "showline": true,
         "showticklabels": true,
         "type": "log"
        },
        "xaxis2": {
         "anchor": "y2",
         "domain": [
          0.55,
          1
         ],
         "gridcolor": "#DCDCDC",
         "linecolor": "#DCDCDC",
         "linewidth": 1,
         "matches": "x8",
         "range": [
          0,
          3
         ],
         "rangemode": "tozero",
         "showline": true,
         "showticklabels": true,
         "type": "log"
        },
        "xaxis3": {
         "anchor": "y3",
         "domain": [
          0,
          0.45
         ],
         "gridcolor": "#DCDCDC",
         "linecolor": "#DCDCDC",
         "linewidth": 1,
         "matches": "x7",
         "range": [
          0,
          3
         ],
         "rangemode": "tozero",
         "showline": true,
         "showticklabels": true,
         "type": "log"
        },
        "xaxis4": {
         "anchor": "y4",
         "domain": [
          0.55,
          1
         ],
         "gridcolor": "#DCDCDC",
         "linecolor": "#DCDCDC",
         "linewidth": 1,
         "matches": "x8",
         "range": [
          0,
          3
         ],
         "rangemode": "tozero",
         "showline": true,
         "showticklabels": true,
         "type": "log"
        },
        "xaxis5": {
         "anchor": "y5",
         "domain": [
          0,
          0.45
         ],
         "gridcolor": "#DCDCDC",
         "linecolor": "#DCDCDC",
         "linewidth": 1,
         "matches": "x7",
         "range": [
          0,
          3
         ],
         "rangemode": "tozero",
         "showline": true,
         "showticklabels": true,
         "type": "log"
        },
        "xaxis6": {
         "anchor": "y6",
         "domain": [
          0.55,
          1
         ],
         "gridcolor": "#DCDCDC",
         "linecolor": "#DCDCDC",
         "linewidth": 1,
         "matches": "x8",
         "range": [
          0,
          3
         ],
         "rangemode": "tozero",
         "showline": true,
         "showticklabels": true,
         "type": "log"
        },
        "xaxis7": {
         "anchor": "y7",
         "domain": [
          0,
          0.45
         ],
         "gridcolor": "#DCDCDC",
         "linecolor": "#DCDCDC",
         "linewidth": 1,
         "range": [
          0,
          3
         ],
         "rangemode": "tozero",
         "showline": true,
         "showticklabels": true,
         "type": "log"
        },
        "xaxis8": {
         "anchor": "y8",
         "domain": [
          0.55,
          1
         ],
         "gridcolor": "#DCDCDC",
         "linecolor": "#DCDCDC",
         "linewidth": 1,
         "range": [
          0,
          3
         ],
         "rangemode": "tozero",
         "showline": true,
         "showticklabels": true,
         "type": "log"
        },
        "yaxis": {
         "anchor": "x",
         "domain": [
          0.84375,
          1
         ],
         "gridcolor": "#DCDCDC",
         "linecolor": "#DCDCDC",
         "linewidth": 1,
         "range": [
          0.9,
          1
         ],
         "showline": true,
         "showticklabels": true
        },
        "yaxis2": {
         "anchor": "x2",
         "domain": [
          0.84375,
          1
         ],
         "gridcolor": "#DCDCDC",
         "linecolor": "#DCDCDC",
         "linewidth": 1,
         "matches": "y",
         "range": [
          0.9,
          1
         ],
         "showline": true,
         "showticklabels": true
        },
        "yaxis3": {
         "anchor": "x3",
         "domain": [
          0.5625,
          0.71875
         ],
         "gridcolor": "#DCDCDC",
         "linecolor": "#DCDCDC",
         "linewidth": 1,
         "range": [
          0.9,
          1
         ],
         "showline": true,
         "showticklabels": true
        },
        "yaxis4": {
         "anchor": "x4",
         "domain": [
          0.5625,
          0.71875
         ],
         "gridcolor": "#DCDCDC",
         "linecolor": "#DCDCDC",
         "linewidth": 1,
         "matches": "y3",
         "range": [
          0.9,
          1
         ],
         "showline": true,
         "showticklabels": true
        },
        "yaxis5": {
         "anchor": "x5",
         "domain": [
          0.28125,
          0.4375
         ],
         "gridcolor": "#DCDCDC",
         "linecolor": "#DCDCDC",
         "linewidth": 1,
         "range": [
          0.9,
          1
         ],
         "showline": true,
         "showticklabels": true
        },
        "yaxis6": {
         "anchor": "x6",
         "domain": [
          0.28125,
          0.4375
         ],
         "gridcolor": "#DCDCDC",
         "linecolor": "#DCDCDC",
         "linewidth": 1,
         "matches": "y5",
         "range": [
          0.9,
          1
         ],
         "showline": true,
         "showticklabels": true
        },
        "yaxis7": {
         "anchor": "x7",
         "domain": [
          0,
          0.15625
         ],
         "gridcolor": "#DCDCDC",
         "linecolor": "#DCDCDC",
         "linewidth": 1,
         "range": [
          0.9,
          1
         ],
         "showline": true,
         "showticklabels": true
        },
        "yaxis8": {
         "anchor": "x8",
         "domain": [
          0,
          0.15625
         ],
         "gridcolor": "#DCDCDC",
         "linecolor": "#DCDCDC",
         "linewidth": 1,
         "matches": "y7",
         "range": [
          0.9,
          1
         ],
         "showline": true,
         "showticklabels": true
        }
       }
      },
      "text/html": [
       "<div>                            <div id=\"f6a74650-be22-48ac-b9fd-6d2035b8a97c\" class=\"plotly-graph-div\" style=\"height:525px; width:100%;\"></div>            <script type=\"text/javascript\">                require([\"plotly\"], function(Plotly) {                    window.PLOTLYENV=window.PLOTLYENV || {};                                    if (document.getElementById(\"f6a74650-be22-48ac-b9fd-6d2035b8a97c\")) {                    Plotly.newPlot(                        \"f6a74650-be22-48ac-b9fd-6d2035b8a97c\",                        [{\"marker\":{\"color\":\"#5876c8\",\"line\":{\"color\":\"black\",\"width\":1},\"opacity\":0.5,\"size\":12,\"symbol\":\"circle\"},\"name\":\"Unicycler\",\"opacity\":0.6,\"showlegend\":false,\"type\":\"scatter\",\"x\":[22],\"xaxis\":\"x\",\"y\":[0.982219786700718],\"yaxis\":\"y\"},{\"marker\":{\"color\":\"#5876c8\",\"line\":{\"color\":\"black\",\"width\":1},\"opacity\":0.5,\"size\":12,\"symbol\":\"square\"},\"name\":\"Unicycler\",\"opacity\":0.6,\"showlegend\":false,\"type\":\"scatter\",\"x\":[20],\"xaxis\":\"x\",\"y\":[0.9827551729908244],\"yaxis\":\"y\"},{\"marker\":{\"color\":\"#5876c8\",\"line\":{\"color\":\"black\",\"width\":1},\"opacity\":0.5,\"size\":12,\"symbol\":\"diamond\"},\"name\":\"Unicycler\",\"opacity\":0.6,\"showlegend\":false,\"type\":\"scatter\",\"x\":[18],\"xaxis\":\"x\",\"y\":[0.982525050813498],\"yaxis\":\"y\"},{\"marker\":{\"color\":\"#5876c8\",\"line\":{\"color\":\"black\",\"width\":1},\"opacity\":0.5,\"size\":12,\"symbol\":\"circle\"},\"name\":\"Unicycler\",\"opacity\":0.6,\"showlegend\":false,\"type\":\"scatter\",\"x\":[22],\"xaxis\":\"x\",\"y\":[0.982219786700718],\"yaxis\":\"y\"},{\"marker\":{\"color\":\"#5876c8\",\"line\":{\"color\":\"black\",\"width\":1},\"opacity\":0.5,\"size\":12,\"symbol\":\"square\"},\"name\":\"Unicycler\",\"opacity\":0.6,\"showlegend\":false,\"type\":\"scatter\",\"x\":[20],\"xaxis\":\"x\",\"y\":[0.9827551729908244],\"yaxis\":\"y\"},{\"marker\":{\"color\":\"#5876c8\",\"line\":{\"color\":\"black\",\"width\":1},\"opacity\":0.5,\"size\":12,\"symbol\":\"diamond\"},\"name\":\"Unicycler\",\"opacity\":0.6,\"showlegend\":false,\"type\":\"scatter\",\"x\":[18],\"xaxis\":\"x\",\"y\":[0.982525050813498],\"yaxis\":\"y\"},{\"marker\":{\"color\":\"#5876c8\",\"line\":{\"color\":\"black\",\"width\":1},\"opacity\":0.5,\"size\":12,\"symbol\":\"circle\"},\"name\":\"Unicycler\",\"opacity\":0.6,\"showlegend\":false,\"type\":\"scatter\",\"x\":[22],\"xaxis\":\"x\",\"y\":[0.982219786700718],\"yaxis\":\"y\"},{\"marker\":{\"color\":\"#5876c8\",\"line\":{\"color\":\"black\",\"width\":1},\"opacity\":0.5,\"size\":12,\"symbol\":\"square\"},\"name\":\"Unicycler\",\"opacity\":0.6,\"showlegend\":false,\"type\":\"scatter\",\"x\":[20],\"xaxis\":\"x\",\"y\":[0.9827551729908244],\"yaxis\":\"y\"},{\"marker\":{\"color\":\"#5876c8\",\"line\":{\"color\":\"black\",\"width\":1},\"opacity\":0.5,\"size\":12,\"symbol\":\"diamond\"},\"name\":\"Unicycler\",\"opacity\":0.6,\"showlegend\":false,\"type\":\"scatter\",\"x\":[18],\"xaxis\":\"x\",\"y\":[0.982525050813498],\"yaxis\":\"y\"},{\"marker\":{\"color\":\"#58AEC8\",\"line\":{\"color\":\"black\",\"width\":1},\"opacity\":0.5,\"size\":12,\"symbol\":\"circle\"},\"name\":\"SPAdes\",\"opacity\":0.6,\"showlegend\":false,\"type\":\"scatter\",\"x\":[22],\"xaxis\":\"x\",\"y\":[0.984425597990151],\"yaxis\":\"y\"},{\"marker\":{\"color\":\"#58AEC8\",\"line\":{\"color\":\"black\",\"width\":1},\"opacity\":0.5,\"size\":12,\"symbol\":\"square\"},\"name\":\"SPAdes\",\"opacity\":0.6,\"showlegend\":false,\"type\":\"scatter\",\"x\":[22],\"xaxis\":\"x\",\"y\":[0.9840948746031876],\"yaxis\":\"y\"},{\"marker\":{\"color\":\"#58AEC8\",\"line\":{\"color\":\"black\",\"width\":1},\"opacity\":0.5,\"size\":12,\"symbol\":\"diamond\"},\"name\":\"SPAdes\",\"opacity\":0.6,\"showlegend\":false,\"type\":\"scatter\",\"x\":[33],\"xaxis\":\"x\",\"y\":[0.982951184684294],\"yaxis\":\"y\"},{\"marker\":{\"color\":\"#58AEC8\",\"line\":{\"color\":\"black\",\"width\":1},\"opacity\":0.5,\"size\":12,\"symbol\":\"circle\"},\"name\":\"SPAdes\",\"opacity\":0.6,\"showlegend\":false,\"type\":\"scatter\",\"x\":[22],\"xaxis\":\"x\",\"y\":[0.984425597990151],\"yaxis\":\"y\"},{\"marker\":{\"color\":\"#58AEC8\",\"line\":{\"color\":\"black\",\"width\":1},\"opacity\":0.5,\"size\":12,\"symbol\":\"square\"},\"name\":\"SPAdes\",\"opacity\":0.6,\"showlegend\":false,\"type\":\"scatter\",\"x\":[22],\"xaxis\":\"x\",\"y\":[0.9840948746031876],\"yaxis\":\"y\"},{\"marker\":{\"color\":\"#58AEC8\",\"line\":{\"color\":\"black\",\"width\":1},\"opacity\":0.5,\"size\":12,\"symbol\":\"diamond\"},\"name\":\"SPAdes\",\"opacity\":0.6,\"showlegend\":false,\"type\":\"scatter\",\"x\":[33],\"xaxis\":\"x\",\"y\":[0.982951184684294],\"yaxis\":\"y\"},{\"marker\":{\"color\":\"#58AEC8\",\"line\":{\"color\":\"black\",\"width\":1},\"opacity\":0.5,\"size\":12,\"symbol\":\"circle\"},\"name\":\"SPAdes\",\"opacity\":0.6,\"showlegend\":false,\"type\":\"scatter\",\"x\":[22],\"xaxis\":\"x\",\"y\":[0.984425597990151],\"yaxis\":\"y\"},{\"marker\":{\"color\":\"#58AEC8\",\"line\":{\"color\":\"black\",\"width\":1},\"opacity\":0.5,\"size\":12,\"symbol\":\"square\"},\"name\":\"SPAdes\",\"opacity\":0.6,\"showlegend\":false,\"type\":\"scatter\",\"x\":[22],\"xaxis\":\"x\",\"y\":[0.9840948746031876],\"yaxis\":\"y\"},{\"marker\":{\"color\":\"#58AEC8\",\"line\":{\"color\":\"black\",\"width\":1},\"opacity\":0.5,\"size\":12,\"symbol\":\"diamond\"},\"name\":\"SPAdes\",\"opacity\":0.6,\"showlegend\":false,\"type\":\"scatter\",\"x\":[33],\"xaxis\":\"x\",\"y\":[0.982951184684294],\"yaxis\":\"y\"},{\"marker\":{\"color\":\"#39B185\",\"line\":{\"color\":\"black\",\"width\":1},\"opacity\":0.5,\"size\":12,\"symbol\":\"circle\"},\"name\":\"SKESA\",\"opacity\":0.6,\"showlegend\":false,\"type\":\"scatter\",\"x\":[30],\"xaxis\":\"x\",\"y\":[0.9806675125077954],\"yaxis\":\"y\"},{\"marker\":{\"color\":\"#39B185\",\"line\":{\"color\":\"black\",\"width\":1},\"opacity\":0.5,\"size\":12,\"symbol\":\"square\"},\"name\":\"SKESA\",\"opacity\":0.6,\"showlegend\":false,\"type\":\"scatter\",\"x\":[26],\"xaxis\":\"x\",\"y\":[0.9816483125074],\"yaxis\":\"y\"},{\"marker\":{\"color\":\"#39B185\",\"line\":{\"color\":\"black\",\"width\":1},\"opacity\":0.5,\"size\":12,\"symbol\":\"diamond\"},\"name\":\"SKESA\",\"opacity\":0.6,\"showlegend\":false,\"type\":\"scatter\",\"x\":[34],\"xaxis\":\"x\",\"y\":[0.98144587420103],\"yaxis\":\"y\"},{\"marker\":{\"color\":\"#39B185\",\"line\":{\"color\":\"black\",\"width\":1},\"opacity\":0.5,\"size\":12,\"symbol\":\"circle\"},\"name\":\"SKESA\",\"opacity\":0.6,\"showlegend\":false,\"type\":\"scatter\",\"x\":[30],\"xaxis\":\"x\",\"y\":[0.9806675125077954],\"yaxis\":\"y\"},{\"marker\":{\"color\":\"#39B185\",\"line\":{\"color\":\"black\",\"width\":1},\"opacity\":0.5,\"size\":12,\"symbol\":\"square\"},\"name\":\"SKESA\",\"opacity\":0.6,\"showlegend\":false,\"type\":\"scatter\",\"x\":[26],\"xaxis\":\"x\",\"y\":[0.9816483125074],\"yaxis\":\"y\"},{\"marker\":{\"color\":\"#39B185\",\"line\":{\"color\":\"black\",\"width\":1},\"opacity\":0.5,\"size\":12,\"symbol\":\"diamond\"},\"name\":\"SKESA\",\"opacity\":0.6,\"showlegend\":false,\"type\":\"scatter\",\"x\":[34],\"xaxis\":\"x\",\"y\":[0.98144587420103],\"yaxis\":\"y\"},{\"marker\":{\"color\":\"#39B185\",\"line\":{\"color\":\"black\",\"width\":1},\"opacity\":0.5,\"size\":12,\"symbol\":\"circle\"},\"name\":\"SKESA\",\"opacity\":0.6,\"showlegend\":false,\"type\":\"scatter\",\"x\":[30],\"xaxis\":\"x\",\"y\":[0.9806675125077954],\"yaxis\":\"y\"},{\"marker\":{\"color\":\"#39B185\",\"line\":{\"color\":\"black\",\"width\":1},\"opacity\":0.5,\"size\":12,\"symbol\":\"square\"},\"name\":\"SKESA\",\"opacity\":0.6,\"showlegend\":false,\"type\":\"scatter\",\"x\":[26],\"xaxis\":\"x\",\"y\":[0.9816483125074],\"yaxis\":\"y\"},{\"marker\":{\"color\":\"#39B185\",\"line\":{\"color\":\"black\",\"width\":1},\"opacity\":0.5,\"size\":12,\"symbol\":\"diamond\"},\"name\":\"SKESA\",\"opacity\":0.6,\"showlegend\":false,\"type\":\"scatter\",\"x\":[34],\"xaxis\":\"x\",\"y\":[0.98144587420103],\"yaxis\":\"y\"},{\"marker\":{\"color\":\"#9CCB86\",\"line\":{\"color\":\"black\",\"width\":1},\"opacity\":0.5,\"size\":12,\"symbol\":\"circle\"},\"name\":\"metaSPAdes\",\"opacity\":0.6,\"showlegend\":false,\"type\":\"scatter\",\"x\":[18],\"xaxis\":\"x\",\"y\":[0.9857267399251102],\"yaxis\":\"y\"},{\"marker\":{\"color\":\"#9CCB86\",\"line\":{\"color\":\"black\",\"width\":1},\"opacity\":0.5,\"size\":12,\"symbol\":\"square\"},\"name\":\"metaSPAdes\",\"opacity\":0.6,\"showlegend\":false,\"type\":\"scatter\",\"x\":[23],\"xaxis\":\"x\",\"y\":[0.9840563149257836],\"yaxis\":\"y\"},{\"marker\":{\"color\":\"#9CCB86\",\"line\":{\"color\":\"black\",\"width\":1},\"opacity\":0.5,\"size\":12,\"symbol\":\"diamond\"},\"name\":\"metaSPAdes\",\"opacity\":0.6,\"showlegend\":false,\"type\":\"scatter\",\"x\":[51],\"xaxis\":\"x\",\"y\":[0.98267706492634],\"yaxis\":\"y\"},{\"marker\":{\"color\":\"#9CCB86\",\"line\":{\"color\":\"black\",\"width\":1},\"opacity\":0.5,\"size\":12,\"symbol\":\"circle\"},\"name\":\"metaSPAdes\",\"opacity\":0.6,\"showlegend\":false,\"type\":\"scatter\",\"x\":[18],\"xaxis\":\"x\",\"y\":[0.9857267399251102],\"yaxis\":\"y\"},{\"marker\":{\"color\":\"#9CCB86\",\"line\":{\"color\":\"black\",\"width\":1},\"opacity\":0.5,\"size\":12,\"symbol\":\"square\"},\"name\":\"metaSPAdes\",\"opacity\":0.6,\"showlegend\":false,\"type\":\"scatter\",\"x\":[23],\"xaxis\":\"x\",\"y\":[0.9840563149257836],\"yaxis\":\"y\"},{\"marker\":{\"color\":\"#9CCB86\",\"line\":{\"color\":\"black\",\"width\":1},\"opacity\":0.5,\"size\":12,\"symbol\":\"diamond\"},\"name\":\"metaSPAdes\",\"opacity\":0.6,\"showlegend\":false,\"type\":\"scatter\",\"x\":[51],\"xaxis\":\"x\",\"y\":[0.98267706492634],\"yaxis\":\"y\"},{\"marker\":{\"color\":\"#9CCB86\",\"line\":{\"color\":\"black\",\"width\":1},\"opacity\":0.5,\"size\":12,\"symbol\":\"circle\"},\"name\":\"metaSPAdes\",\"opacity\":0.6,\"showlegend\":false,\"type\":\"scatter\",\"x\":[18],\"xaxis\":\"x\",\"y\":[0.9857267399251102],\"yaxis\":\"y\"},{\"marker\":{\"color\":\"#9CCB86\",\"line\":{\"color\":\"black\",\"width\":1},\"opacity\":0.5,\"size\":12,\"symbol\":\"square\"},\"name\":\"metaSPAdes\",\"opacity\":0.6,\"showlegend\":false,\"type\":\"scatter\",\"x\":[23],\"xaxis\":\"x\",\"y\":[0.9840563149257836],\"yaxis\":\"y\"},{\"marker\":{\"color\":\"#9CCB86\",\"line\":{\"color\":\"black\",\"width\":1},\"opacity\":0.5,\"size\":12,\"symbol\":\"diamond\"},\"name\":\"metaSPAdes\",\"opacity\":0.6,\"showlegend\":false,\"type\":\"scatter\",\"x\":[51],\"xaxis\":\"x\",\"y\":[0.98267706492634],\"yaxis\":\"y\"},{\"marker\":{\"color\":\"#EEB479\",\"line\":{\"color\":\"black\",\"width\":1},\"opacity\":0.5,\"size\":12,\"symbol\":\"circle\"},\"name\":\"MEGAHIT\",\"opacity\":0.6,\"showlegend\":false,\"type\":\"scatter\",\"x\":[27],\"xaxis\":\"x\",\"y\":[0.9860238471830548],\"yaxis\":\"y\"},{\"marker\":{\"color\":\"#EEB479\",\"line\":{\"color\":\"black\",\"width\":1},\"opacity\":0.5,\"size\":12,\"symbol\":\"square\"},\"name\":\"MEGAHIT\",\"opacity\":0.6,\"showlegend\":false,\"type\":\"scatter\",\"x\":[27],\"xaxis\":\"x\",\"y\":[0.9853656137155784],\"yaxis\":\"y\"},{\"marker\":{\"color\":\"#EEB479\",\"line\":{\"color\":\"black\",\"width\":1},\"opacity\":0.5,\"size\":12,\"symbol\":\"diamond\"},\"name\":\"MEGAHIT\",\"opacity\":0.6,\"showlegend\":false,\"type\":\"scatter\",\"x\":[31],\"xaxis\":\"x\",\"y\":[0.9861187633120488],\"yaxis\":\"y\"},{\"marker\":{\"color\":\"#EEB479\",\"line\":{\"color\":\"black\",\"width\":1},\"opacity\":0.5,\"size\":12,\"symbol\":\"circle\"},\"name\":\"MEGAHIT\",\"opacity\":0.6,\"showlegend\":false,\"type\":\"scatter\",\"x\":[27],\"xaxis\":\"x\",\"y\":[0.9860458459733686],\"yaxis\":\"y\"},{\"marker\":{\"color\":\"#EEB479\",\"line\":{\"color\":\"black\",\"width\":1},\"opacity\":0.5,\"size\":12,\"symbol\":\"square\"},\"name\":\"MEGAHIT\",\"opacity\":0.6,\"showlegend\":false,\"type\":\"scatter\",\"x\":[27],\"xaxis\":\"x\",\"y\":[0.9853656137155784],\"yaxis\":\"y\"},{\"marker\":{\"color\":\"#EEB479\",\"line\":{\"color\":\"black\",\"width\":1},\"opacity\":0.5,\"size\":12,\"symbol\":\"diamond\"},\"name\":\"MEGAHIT\",\"opacity\":0.6,\"showlegend\":false,\"type\":\"scatter\",\"x\":[31],\"xaxis\":\"x\",\"y\":[0.9861187633120488],\"yaxis\":\"y\"},{\"marker\":{\"color\":\"#EEB479\",\"line\":{\"color\":\"black\",\"width\":1},\"opacity\":0.5,\"size\":12,\"symbol\":\"circle\"},\"name\":\"MEGAHIT\",\"opacity\":0.6,\"showlegend\":false,\"type\":\"scatter\",\"x\":[27],\"xaxis\":\"x\",\"y\":[0.98605869919917],\"yaxis\":\"y\"},{\"marker\":{\"color\":\"#EEB479\",\"line\":{\"color\":\"black\",\"width\":1},\"opacity\":0.5,\"size\":12,\"symbol\":\"square\"},\"name\":\"MEGAHIT\",\"opacity\":0.6,\"showlegend\":false,\"type\":\"scatter\",\"x\":[27],\"xaxis\":\"x\",\"y\":[0.9853656137155784],\"yaxis\":\"y\"},{\"marker\":{\"color\":\"#EEB479\",\"line\":{\"color\":\"black\",\"width\":1},\"opacity\":0.5,\"size\":12,\"symbol\":\"diamond\"},\"name\":\"MEGAHIT\",\"opacity\":0.6,\"showlegend\":false,\"type\":\"scatter\",\"x\":[31],\"xaxis\":\"x\",\"y\":[0.9861187633120488],\"yaxis\":\"y\"},{\"marker\":{\"color\":\"#E88471\",\"line\":{\"color\":\"black\",\"width\":1},\"opacity\":0.5,\"size\":12,\"symbol\":\"circle\"},\"name\":\"IDBA-UD\",\"opacity\":0.6,\"showlegend\":false,\"type\":\"scatter\",\"x\":[38],\"xaxis\":\"x\",\"y\":[0.9828495947649799],\"yaxis\":\"y\"},{\"marker\":{\"color\":\"#E88471\",\"line\":{\"color\":\"black\",\"width\":1},\"opacity\":0.5,\"size\":12,\"symbol\":\"square\"},\"name\":\"IDBA-UD\",\"opacity\":0.6,\"showlegend\":false,\"type\":\"scatter\",\"x\":[34],\"xaxis\":\"x\",\"y\":[0.9832334612970832],\"yaxis\":\"y\"},{\"marker\":{\"color\":\"#E88471\",\"line\":{\"color\":\"black\",\"width\":1},\"opacity\":0.5,\"size\":12,\"symbol\":\"diamond\"},\"name\":\"IDBA-UD\",\"opacity\":0.6,\"showlegend\":false,\"type\":\"scatter\",\"x\":[184],\"xaxis\":\"x\",\"y\":[0.983004575006853],\"yaxis\":\"y\"},{\"marker\":{\"color\":\"#E88471\",\"line\":{\"color\":\"black\",\"width\":1},\"opacity\":0.5,\"size\":12,\"symbol\":\"circle\"},\"name\":\"IDBA-UD\",\"opacity\":0.6,\"showlegend\":false,\"type\":\"scatter\",\"x\":[38],\"xaxis\":\"x\",\"y\":[0.9828495947649799],\"yaxis\":\"y\"},{\"marker\":{\"color\":\"#E88471\",\"line\":{\"color\":\"black\",\"width\":1},\"opacity\":0.5,\"size\":12,\"symbol\":\"square\"},\"name\":\"IDBA-UD\",\"opacity\":0.6,\"showlegend\":false,\"type\":\"scatter\",\"x\":[34],\"xaxis\":\"x\",\"y\":[0.9832334612970832],\"yaxis\":\"y\"},{\"marker\":{\"color\":\"#E88471\",\"line\":{\"color\":\"black\",\"width\":1},\"opacity\":0.5,\"size\":12,\"symbol\":\"diamond\"},\"name\":\"IDBA-UD\",\"opacity\":0.6,\"showlegend\":false,\"type\":\"scatter\",\"x\":[184],\"xaxis\":\"x\",\"y\":[0.983004575006853],\"yaxis\":\"y\"},{\"marker\":{\"color\":\"#E88471\",\"line\":{\"color\":\"black\",\"width\":1},\"opacity\":0.5,\"size\":12,\"symbol\":\"circle\"},\"name\":\"IDBA-UD\",\"opacity\":0.6,\"showlegend\":false,\"type\":\"scatter\",\"x\":[38],\"xaxis\":\"x\",\"y\":[0.9828495947649799],\"yaxis\":\"y\"},{\"marker\":{\"color\":\"#E88471\",\"line\":{\"color\":\"black\",\"width\":1},\"opacity\":0.5,\"size\":12,\"symbol\":\"square\"},\"name\":\"IDBA-UD\",\"opacity\":0.6,\"showlegend\":false,\"type\":\"scatter\",\"x\":[34],\"xaxis\":\"x\",\"y\":[0.9832334612970832],\"yaxis\":\"y\"},{\"marker\":{\"color\":\"#E88471\",\"line\":{\"color\":\"black\",\"width\":1},\"opacity\":0.5,\"size\":12,\"symbol\":\"diamond\"},\"name\":\"IDBA-UD\",\"opacity\":0.6,\"showlegend\":false,\"type\":\"scatter\",\"x\":[184],\"xaxis\":\"x\",\"y\":[0.983004575006853],\"yaxis\":\"y\"},{\"marker\":{\"color\":\"#a54765\",\"line\":{\"color\":\"black\",\"width\":1},\"opacity\":0.5,\"size\":12,\"symbol\":\"circle\"},\"name\":\"GATBMiniaPipeline\",\"opacity\":0.6,\"showlegend\":false,\"type\":\"scatter\",\"x\":[28],\"xaxis\":\"x\",\"y\":[0.9836615725872332],\"yaxis\":\"y\"},{\"marker\":{\"color\":\"#a54765\",\"line\":{\"color\":\"black\",\"width\":1},\"opacity\":0.5,\"size\":12,\"symbol\":\"square\"},\"name\":\"GATBMiniaPipeline\",\"opacity\":0.6,\"showlegend\":false,\"type\":\"scatter\",\"x\":[27],\"xaxis\":\"x\",\"y\":[0.984780297586782],\"yaxis\":\"y\"},{\"marker\":{\"color\":\"#a54765\",\"line\":{\"color\":\"black\",\"width\":1},\"opacity\":0.5,\"size\":12,\"symbol\":\"diamond\"},\"name\":\"GATBMiniaPipeline\",\"opacity\":0.6,\"showlegend\":false,\"type\":\"scatter\",\"x\":[30],\"xaxis\":\"x\",\"y\":[0.9842629552482812],\"yaxis\":\"y\"},{\"marker\":{\"color\":\"#a54765\",\"line\":{\"color\":\"black\",\"width\":1},\"opacity\":0.5,\"size\":12,\"symbol\":\"circle\"},\"name\":\"GATBMiniaPipeline\",\"opacity\":0.6,\"showlegend\":false,\"type\":\"scatter\",\"x\":[28],\"xaxis\":\"x\",\"y\":[0.9836615725872332],\"yaxis\":\"y\"},{\"marker\":{\"color\":\"#a54765\",\"line\":{\"color\":\"black\",\"width\":1},\"opacity\":0.5,\"size\":12,\"symbol\":\"square\"},\"name\":\"GATBMiniaPipeline\",\"opacity\":0.6,\"showlegend\":false,\"type\":\"scatter\",\"x\":[27],\"xaxis\":\"x\",\"y\":[0.984780297586782],\"yaxis\":\"y\"},{\"marker\":{\"color\":\"#a54765\",\"line\":{\"color\":\"black\",\"width\":1},\"opacity\":0.5,\"size\":12,\"symbol\":\"diamond\"},\"name\":\"GATBMiniaPipeline\",\"opacity\":0.6,\"showlegend\":false,\"type\":\"scatter\",\"x\":[30],\"xaxis\":\"x\",\"y\":[0.9842629552482812],\"yaxis\":\"y\"},{\"marker\":{\"color\":\"#a54765\",\"line\":{\"color\":\"black\",\"width\":1},\"opacity\":0.5,\"size\":12,\"symbol\":\"circle\"},\"name\":\"GATBMiniaPipeline\",\"opacity\":0.6,\"showlegend\":false,\"type\":\"scatter\",\"x\":[28],\"xaxis\":\"x\",\"y\":[0.9836615725872332],\"yaxis\":\"y\"},{\"marker\":{\"color\":\"#a54765\",\"line\":{\"color\":\"black\",\"width\":1},\"opacity\":0.5,\"size\":12,\"symbol\":\"square\"},\"name\":\"GATBMiniaPipeline\",\"opacity\":0.6,\"showlegend\":false,\"type\":\"scatter\",\"x\":[27],\"xaxis\":\"x\",\"y\":[0.984780297586782],\"yaxis\":\"y\"},{\"marker\":{\"color\":\"#a54765\",\"line\":{\"color\":\"black\",\"width\":1},\"opacity\":0.5,\"size\":12,\"symbol\":\"diamond\"},\"name\":\"GATBMiniaPipeline\",\"opacity\":0.6,\"showlegend\":false,\"type\":\"scatter\",\"x\":[30],\"xaxis\":\"x\",\"y\":[0.9842629552482812],\"yaxis\":\"y\"},{\"marker\":{\"color\":\"#5876c8\",\"line\":{\"color\":\"black\",\"width\":1},\"opacity\":0.5,\"size\":12,\"symbol\":\"circle\"},\"name\":\"Unicycler\",\"opacity\":0.6,\"showlegend\":false,\"type\":\"scatter\",\"x\":[20],\"xaxis\":\"x3\",\"y\":[0.9885323357906396],\"yaxis\":\"y3\"},{\"marker\":{\"color\":\"#5876c8\",\"line\":{\"color\":\"black\",\"width\":1},\"opacity\":0.5,\"size\":12,\"symbol\":\"square\"},\"name\":\"Unicycler\",\"opacity\":0.6,\"showlegend\":false,\"type\":\"scatter\",\"x\":[20],\"xaxis\":\"x3\",\"y\":[0.9781875397133328],\"yaxis\":\"y3\"},{\"marker\":{\"color\":\"#5876c8\",\"line\":{\"color\":\"black\",\"width\":1},\"opacity\":0.5,\"size\":12,\"symbol\":\"diamond\"},\"name\":\"Unicycler\",\"opacity\":0.6,\"showlegend\":false,\"type\":\"scatter\",\"x\":[30],\"xaxis\":\"x3\",\"y\":[0.9888785095340116],\"yaxis\":\"y3\"},{\"marker\":{\"color\":\"#5876c8\",\"line\":{\"color\":\"black\",\"width\":1},\"opacity\":0.5,\"size\":12,\"symbol\":\"circle\"},\"name\":\"Unicycler\",\"opacity\":0.6,\"showlegend\":false,\"type\":\"scatter\",\"x\":[20],\"xaxis\":\"x3\",\"y\":[0.9885323357906396],\"yaxis\":\"y3\"},{\"marker\":{\"color\":\"#5876c8\",\"line\":{\"color\":\"black\",\"width\":1},\"opacity\":0.5,\"size\":12,\"symbol\":\"square\"},\"name\":\"Unicycler\",\"opacity\":0.6,\"showlegend\":false,\"type\":\"scatter\",\"x\":[20],\"xaxis\":\"x3\",\"y\":[0.9781875397133328],\"yaxis\":\"y3\"},{\"marker\":{\"color\":\"#5876c8\",\"line\":{\"color\":\"black\",\"width\":1},\"opacity\":0.5,\"size\":12,\"symbol\":\"diamond\"},\"name\":\"Unicycler\",\"opacity\":0.6,\"showlegend\":false,\"type\":\"scatter\",\"x\":[30],\"xaxis\":\"x3\",\"y\":[0.9888785095340116],\"yaxis\":\"y3\"},{\"marker\":{\"color\":\"#5876c8\",\"line\":{\"color\":\"black\",\"width\":1},\"opacity\":0.5,\"size\":12,\"symbol\":\"circle\"},\"name\":\"Unicycler\",\"opacity\":0.6,\"showlegend\":false,\"type\":\"scatter\",\"x\":[20],\"xaxis\":\"x3\",\"y\":[0.9885323357906396],\"yaxis\":\"y3\"},{\"marker\":{\"color\":\"#5876c8\",\"line\":{\"color\":\"black\",\"width\":1},\"opacity\":0.5,\"size\":12,\"symbol\":\"square\"},\"name\":\"Unicycler\",\"opacity\":0.6,\"showlegend\":false,\"type\":\"scatter\",\"x\":[20],\"xaxis\":\"x3\",\"y\":[0.9781875397133328],\"yaxis\":\"y3\"},{\"marker\":{\"color\":\"#5876c8\",\"line\":{\"color\":\"black\",\"width\":1},\"opacity\":0.5,\"size\":12,\"symbol\":\"diamond\"},\"name\":\"Unicycler\",\"opacity\":0.6,\"showlegend\":false,\"type\":\"scatter\",\"x\":[30],\"xaxis\":\"x3\",\"y\":[0.9888785095340116],\"yaxis\":\"y3\"},{\"marker\":{\"color\":\"#58AEC8\",\"line\":{\"color\":\"black\",\"width\":1},\"opacity\":0.5,\"size\":12,\"symbol\":\"circle\"},\"name\":\"SPAdes\",\"opacity\":0.6,\"showlegend\":false,\"type\":\"scatter\",\"x\":[21],\"xaxis\":\"x3\",\"y\":[0.9884465831070024],\"yaxis\":\"y3\"},{\"marker\":{\"color\":\"#58AEC8\",\"line\":{\"color\":\"black\",\"width\":1},\"opacity\":0.5,\"size\":12,\"symbol\":\"square\"},\"name\":\"SPAdes\",\"opacity\":0.6,\"showlegend\":false,\"type\":\"scatter\",\"x\":[26],\"xaxis\":\"x3\",\"y\":[0.9775763761197052],\"yaxis\":\"y3\"},{\"marker\":{\"color\":\"#58AEC8\",\"line\":{\"color\":\"black\",\"width\":1},\"opacity\":0.5,\"size\":12,\"symbol\":\"diamond\"},\"name\":\"SPAdes\",\"opacity\":0.6,\"showlegend\":false,\"type\":\"scatter\",\"x\":[63],\"xaxis\":\"x3\",\"y\":[0.9806912369192012],\"yaxis\":\"y3\"},{\"marker\":{\"color\":\"#58AEC8\",\"line\":{\"color\":\"black\",\"width\":1},\"opacity\":0.5,\"size\":12,\"symbol\":\"circle\"},\"name\":\"SPAdes\",\"opacity\":0.6,\"showlegend\":false,\"type\":\"scatter\",\"x\":[21],\"xaxis\":\"x3\",\"y\":[0.9884465831070024],\"yaxis\":\"y3\"},{\"marker\":{\"color\":\"#58AEC8\",\"line\":{\"color\":\"black\",\"width\":1},\"opacity\":0.5,\"size\":12,\"symbol\":\"square\"},\"name\":\"SPAdes\",\"opacity\":0.6,\"showlegend\":false,\"type\":\"scatter\",\"x\":[26],\"xaxis\":\"x3\",\"y\":[0.9775763761197052],\"yaxis\":\"y3\"},{\"marker\":{\"color\":\"#58AEC8\",\"line\":{\"color\":\"black\",\"width\":1},\"opacity\":0.5,\"size\":12,\"symbol\":\"diamond\"},\"name\":\"SPAdes\",\"opacity\":0.6,\"showlegend\":false,\"type\":\"scatter\",\"x\":[63],\"xaxis\":\"x3\",\"y\":[0.9806912369192012],\"yaxis\":\"y3\"},{\"marker\":{\"color\":\"#58AEC8\",\"line\":{\"color\":\"black\",\"width\":1},\"opacity\":0.5,\"size\":12,\"symbol\":\"circle\"},\"name\":\"SPAdes\",\"opacity\":0.6,\"showlegend\":false,\"type\":\"scatter\",\"x\":[21],\"xaxis\":\"x3\",\"y\":[0.9884465831070024],\"yaxis\":\"y3\"},{\"marker\":{\"color\":\"#58AEC8\",\"line\":{\"color\":\"black\",\"width\":1},\"opacity\":0.5,\"size\":12,\"symbol\":\"square\"},\"name\":\"SPAdes\",\"opacity\":0.6,\"showlegend\":false,\"type\":\"scatter\",\"x\":[26],\"xaxis\":\"x3\",\"y\":[0.9775763761197052],\"yaxis\":\"y3\"},{\"marker\":{\"color\":\"#58AEC8\",\"line\":{\"color\":\"black\",\"width\":1},\"opacity\":0.5,\"size\":12,\"symbol\":\"diamond\"},\"name\":\"SPAdes\",\"opacity\":0.6,\"showlegend\":false,\"type\":\"scatter\",\"x\":[63],\"xaxis\":\"x3\",\"y\":[0.9806912369192012],\"yaxis\":\"y3\"},{\"marker\":{\"color\":\"#39B185\",\"line\":{\"color\":\"black\",\"width\":1},\"opacity\":0.5,\"size\":12,\"symbol\":\"circle\"},\"name\":\"SKESA\",\"opacity\":0.6,\"showlegend\":false,\"type\":\"scatter\",\"x\":[52],\"xaxis\":\"x3\",\"y\":[0.9833523816753544],\"yaxis\":\"y3\"},{\"marker\":{\"color\":\"#39B185\",\"line\":{\"color\":\"black\",\"width\":1},\"opacity\":0.5,\"size\":12,\"symbol\":\"square\"},\"name\":\"SKESA\",\"opacity\":0.6,\"showlegend\":false,\"type\":\"scatter\",\"x\":[40],\"xaxis\":\"x3\",\"y\":[0.9876614540281268],\"yaxis\":\"y3\"},{\"marker\":{\"color\":\"#39B185\",\"line\":{\"color\":\"black\",\"width\":1},\"opacity\":0.5,\"size\":12,\"symbol\":\"diamond\"},\"name\":\"SKESA\",\"opacity\":0.6,\"showlegend\":false,\"type\":\"scatter\",\"x\":[72],\"xaxis\":\"x3\",\"y\":[0.9830775513532056],\"yaxis\":\"y3\"},{\"marker\":{\"color\":\"#39B185\",\"line\":{\"color\":\"black\",\"width\":1},\"opacity\":0.5,\"size\":12,\"symbol\":\"circle\"},\"name\":\"SKESA\",\"opacity\":0.6,\"showlegend\":false,\"type\":\"scatter\",\"x\":[52],\"xaxis\":\"x3\",\"y\":[0.9833523816753544],\"yaxis\":\"y3\"},{\"marker\":{\"color\":\"#39B185\",\"line\":{\"color\":\"black\",\"width\":1},\"opacity\":0.5,\"size\":12,\"symbol\":\"square\"},\"name\":\"SKESA\",\"opacity\":0.6,\"showlegend\":false,\"type\":\"scatter\",\"x\":[40],\"xaxis\":\"x3\",\"y\":[0.9876614540281268],\"yaxis\":\"y3\"},{\"marker\":{\"color\":\"#39B185\",\"line\":{\"color\":\"black\",\"width\":1},\"opacity\":0.5,\"size\":12,\"symbol\":\"diamond\"},\"name\":\"SKESA\",\"opacity\":0.6,\"showlegend\":false,\"type\":\"scatter\",\"x\":[72],\"xaxis\":\"x3\",\"y\":[0.9830775513532056],\"yaxis\":\"y3\"},{\"marker\":{\"color\":\"#39B185\",\"line\":{\"color\":\"black\",\"width\":1},\"opacity\":0.5,\"size\":12,\"symbol\":\"circle\"},\"name\":\"SKESA\",\"opacity\":0.6,\"showlegend\":false,\"type\":\"scatter\",\"x\":[52],\"xaxis\":\"x3\",\"y\":[0.9833523816753544],\"yaxis\":\"y3\"},{\"marker\":{\"color\":\"#39B185\",\"line\":{\"color\":\"black\",\"width\":1},\"opacity\":0.5,\"size\":12,\"symbol\":\"square\"},\"name\":\"SKESA\",\"opacity\":0.6,\"showlegend\":false,\"type\":\"scatter\",\"x\":[40],\"xaxis\":\"x3\",\"y\":[0.9876614540281268],\"yaxis\":\"y3\"},{\"marker\":{\"color\":\"#39B185\",\"line\":{\"color\":\"black\",\"width\":1},\"opacity\":0.5,\"size\":12,\"symbol\":\"diamond\"},\"name\":\"SKESA\",\"opacity\":0.6,\"showlegend\":false,\"type\":\"scatter\",\"x\":[72],\"xaxis\":\"x3\",\"y\":[0.9830775513532056],\"yaxis\":\"y3\"},{\"marker\":{\"color\":\"#9CCB86\",\"line\":{\"color\":\"black\",\"width\":1},\"opacity\":0.5,\"size\":12,\"symbol\":\"circle\"},\"name\":\"metaSPAdes\",\"opacity\":0.6,\"showlegend\":false,\"type\":\"scatter\",\"x\":[21],\"xaxis\":\"x3\",\"y\":[0.9906111354779938],\"yaxis\":\"y3\"},{\"marker\":{\"color\":\"#9CCB86\",\"line\":{\"color\":\"black\",\"width\":1},\"opacity\":0.5,\"size\":12,\"symbol\":\"square\"},\"name\":\"metaSPAdes\",\"opacity\":0.6,\"showlegend\":false,\"type\":\"scatter\",\"x\":[23],\"xaxis\":\"x3\",\"y\":[0.9792815893205576],\"yaxis\":\"y3\"},{\"marker\":{\"color\":\"#9CCB86\",\"line\":{\"color\":\"black\",\"width\":1},\"opacity\":0.5,\"size\":12,\"symbol\":\"diamond\"},\"name\":\"metaSPAdes\",\"opacity\":0.6,\"showlegend\":false,\"type\":\"scatter\",\"x\":[51],\"xaxis\":\"x3\",\"y\":[0.9888651546078712],\"yaxis\":\"y3\"},{\"marker\":{\"color\":\"#9CCB86\",\"line\":{\"color\":\"black\",\"width\":1},\"opacity\":0.5,\"size\":12,\"symbol\":\"circle\"},\"name\":\"metaSPAdes\",\"opacity\":0.6,\"showlegend\":false,\"type\":\"scatter\",\"x\":[21],\"xaxis\":\"x3\",\"y\":[0.9906111354779938],\"yaxis\":\"y3\"},{\"marker\":{\"color\":\"#9CCB86\",\"line\":{\"color\":\"black\",\"width\":1},\"opacity\":0.5,\"size\":12,\"symbol\":\"square\"},\"name\":\"metaSPAdes\",\"opacity\":0.6,\"showlegend\":false,\"type\":\"scatter\",\"x\":[23],\"xaxis\":\"x3\",\"y\":[0.9792815893205576],\"yaxis\":\"y3\"},{\"marker\":{\"color\":\"#9CCB86\",\"line\":{\"color\":\"black\",\"width\":1},\"opacity\":0.5,\"size\":12,\"symbol\":\"diamond\"},\"name\":\"metaSPAdes\",\"opacity\":0.6,\"showlegend\":false,\"type\":\"scatter\",\"x\":[51],\"xaxis\":\"x3\",\"y\":[0.9888651546078712],\"yaxis\":\"y3\"},{\"marker\":{\"color\":\"#9CCB86\",\"line\":{\"color\":\"black\",\"width\":1},\"opacity\":0.5,\"size\":12,\"symbol\":\"circle\"},\"name\":\"metaSPAdes\",\"opacity\":0.6,\"showlegend\":false,\"type\":\"scatter\",\"x\":[21],\"xaxis\":\"x3\",\"y\":[0.9906111354779938],\"yaxis\":\"y3\"},{\"marker\":{\"color\":\"#9CCB86\",\"line\":{\"color\":\"black\",\"width\":1},\"opacity\":0.5,\"size\":12,\"symbol\":\"square\"},\"name\":\"metaSPAdes\",\"opacity\":0.6,\"showlegend\":false,\"type\":\"scatter\",\"x\":[23],\"xaxis\":\"x3\",\"y\":[0.9792815893205576],\"yaxis\":\"y3\"},{\"marker\":{\"color\":\"#9CCB86\",\"line\":{\"color\":\"black\",\"width\":1},\"opacity\":0.5,\"size\":12,\"symbol\":\"diamond\"},\"name\":\"metaSPAdes\",\"opacity\":0.6,\"showlegend\":false,\"type\":\"scatter\",\"x\":[51],\"xaxis\":\"x3\",\"y\":[0.9888651546078712],\"yaxis\":\"y3\"},{\"marker\":{\"color\":\"#EEB479\",\"line\":{\"color\":\"black\",\"width\":1},\"opacity\":0.5,\"size\":12,\"symbol\":\"circle\"},\"name\":\"MEGAHIT\",\"opacity\":0.6,\"showlegend\":false,\"type\":\"scatter\",\"x\":[31],\"xaxis\":\"x3\",\"y\":[0.9790879428915242],\"yaxis\":\"y3\"},{\"marker\":{\"color\":\"#EEB479\",\"line\":{\"color\":\"black\",\"width\":1},\"opacity\":0.5,\"size\":12,\"symbol\":\"square\"},\"name\":\"MEGAHIT\",\"opacity\":0.6,\"showlegend\":false,\"type\":\"scatter\",\"x\":[32],\"xaxis\":\"x3\",\"y\":[0.9920717426632252],\"yaxis\":\"y3\"},{\"marker\":{\"color\":\"#EEB479\",\"line\":{\"color\":\"black\",\"width\":1},\"opacity\":0.5,\"size\":12,\"symbol\":\"diamond\"},\"name\":\"MEGAHIT\",\"opacity\":0.6,\"showlegend\":false,\"type\":\"scatter\",\"x\":[35],\"xaxis\":\"x3\",\"y\":[0.9915586323431008],\"yaxis\":\"y3\"},{\"marker\":{\"color\":\"#EEB479\",\"line\":{\"color\":\"black\",\"width\":1},\"opacity\":0.5,\"size\":12,\"symbol\":\"circle\"},\"name\":\"MEGAHIT\",\"opacity\":0.6,\"showlegend\":false,\"type\":\"scatter\",\"x\":[31],\"xaxis\":\"x3\",\"y\":[0.9791673695575162],\"yaxis\":\"y3\"},{\"marker\":{\"color\":\"#EEB479\",\"line\":{\"color\":\"black\",\"width\":1},\"opacity\":0.5,\"size\":12,\"symbol\":\"square\"},\"name\":\"MEGAHIT\",\"opacity\":0.6,\"showlegend\":false,\"type\":\"scatter\",\"x\":[31],\"xaxis\":\"x3\",\"y\":[0.979316733863032],\"yaxis\":\"y3\"},{\"marker\":{\"color\":\"#EEB479\",\"line\":{\"color\":\"black\",\"width\":1},\"opacity\":0.5,\"size\":12,\"symbol\":\"diamond\"},\"name\":\"MEGAHIT\",\"opacity\":0.6,\"showlegend\":false,\"type\":\"scatter\",\"x\":[34],\"xaxis\":\"x3\",\"y\":[0.97908688855525],\"yaxis\":\"y3\"},{\"marker\":{\"color\":\"#EEB479\",\"line\":{\"color\":\"black\",\"width\":1},\"opacity\":0.5,\"size\":12,\"symbol\":\"circle\"},\"name\":\"MEGAHIT\",\"opacity\":0.6,\"showlegend\":false,\"type\":\"scatter\",\"x\":[32],\"xaxis\":\"x3\",\"y\":[0.9915596866793748],\"yaxis\":\"y3\"},{\"marker\":{\"color\":\"#EEB479\",\"line\":{\"color\":\"black\",\"width\":1},\"opacity\":0.5,\"size\":12,\"symbol\":\"square\"},\"name\":\"MEGAHIT\",\"opacity\":0.6,\"showlegend\":false,\"type\":\"scatter\",\"x\":[32],\"xaxis\":\"x3\",\"y\":[0.9920717426632252],\"yaxis\":\"y3\"},{\"marker\":{\"color\":\"#EEB479\",\"line\":{\"color\":\"black\",\"width\":1},\"opacity\":0.5,\"size\":12,\"symbol\":\"diamond\"},\"name\":\"MEGAHIT\",\"opacity\":0.6,\"showlegend\":false,\"type\":\"scatter\",\"x\":[34],\"xaxis\":\"x3\",\"y\":[0.9790731821836852],\"yaxis\":\"y3\"},{\"marker\":{\"color\":\"#E88471\",\"line\":{\"color\":\"black\",\"width\":1},\"opacity\":0.5,\"size\":12,\"symbol\":\"circle\"},\"name\":\"IDBA-UD\",\"opacity\":0.6,\"showlegend\":false,\"type\":\"scatter\",\"x\":[55],\"xaxis\":\"x3\",\"y\":[0.9760690266929828],\"yaxis\":\"y3\"},{\"marker\":{\"color\":\"#E88471\",\"line\":{\"color\":\"black\",\"width\":1},\"opacity\":0.5,\"size\":12,\"symbol\":\"square\"},\"name\":\"IDBA-UD\",\"opacity\":0.6,\"showlegend\":false,\"type\":\"scatter\",\"x\":[53],\"xaxis\":\"x3\",\"y\":[0.9881246590979379],\"yaxis\":\"y3\"},{\"marker\":{\"color\":\"#E88471\",\"line\":{\"color\":\"black\",\"width\":1},\"opacity\":0.5,\"size\":12,\"symbol\":\"diamond\"},\"name\":\"IDBA-UD\",\"opacity\":0.6,\"showlegend\":false,\"type\":\"scatter\",\"x\":[231],\"xaxis\":\"x3\",\"y\":[0.987177513678256],\"yaxis\":\"y3\"},{\"marker\":{\"color\":\"#E88471\",\"line\":{\"color\":\"black\",\"width\":1},\"opacity\":0.5,\"size\":12,\"symbol\":\"circle\"},\"name\":\"IDBA-UD\",\"opacity\":0.6,\"showlegend\":false,\"type\":\"scatter\",\"x\":[55],\"xaxis\":\"x3\",\"y\":[0.9760690266929828],\"yaxis\":\"y3\"},{\"marker\":{\"color\":\"#E88471\",\"line\":{\"color\":\"black\",\"width\":1},\"opacity\":0.5,\"size\":12,\"symbol\":\"square\"},\"name\":\"IDBA-UD\",\"opacity\":0.6,\"showlegend\":false,\"type\":\"scatter\",\"x\":[53],\"xaxis\":\"x3\",\"y\":[0.9881246590979379],\"yaxis\":\"y3\"},{\"marker\":{\"color\":\"#E88471\",\"line\":{\"color\":\"black\",\"width\":1},\"opacity\":0.5,\"size\":12,\"symbol\":\"diamond\"},\"name\":\"IDBA-UD\",\"opacity\":0.6,\"showlegend\":false,\"type\":\"scatter\",\"x\":[231],\"xaxis\":\"x3\",\"y\":[0.987163807306691],\"yaxis\":\"y3\"},{\"marker\":{\"color\":\"#E88471\",\"line\":{\"color\":\"black\",\"width\":1},\"opacity\":0.5,\"size\":12,\"symbol\":\"circle\"},\"name\":\"IDBA-UD\",\"opacity\":0.6,\"showlegend\":false,\"type\":\"scatter\",\"x\":[55],\"xaxis\":\"x3\",\"y\":[0.9760690266929828],\"yaxis\":\"y3\"},{\"marker\":{\"color\":\"#E88471\",\"line\":{\"color\":\"black\",\"width\":1},\"opacity\":0.5,\"size\":12,\"symbol\":\"square\"},\"name\":\"IDBA-UD\",\"opacity\":0.6,\"showlegend\":false,\"type\":\"scatter\",\"x\":[53],\"xaxis\":\"x3\",\"y\":[0.9881246590979379],\"yaxis\":\"y3\"},{\"marker\":{\"color\":\"#E88471\",\"line\":{\"color\":\"black\",\"width\":1},\"opacity\":0.5,\"size\":12,\"symbol\":\"diamond\"},\"name\":\"IDBA-UD\",\"opacity\":0.6,\"showlegend\":false,\"type\":\"scatter\",\"x\":[231],\"xaxis\":\"x3\",\"y\":[0.987177513678256],\"yaxis\":\"y3\"},{\"marker\":{\"color\":\"#a54765\",\"line\":{\"color\":\"black\",\"width\":1},\"opacity\":0.5,\"size\":12,\"symbol\":\"circle\"},\"name\":\"GATBMiniaPipeline\",\"opacity\":0.6,\"showlegend\":false,\"type\":\"scatter\",\"x\":[45],\"xaxis\":\"x3\",\"y\":[0.976931473765302],\"yaxis\":\"y3\"},{\"marker\":{\"color\":\"#a54765\",\"line\":{\"color\":\"black\",\"width\":1},\"opacity\":0.5,\"size\":12,\"symbol\":\"square\"},\"name\":\"GATBMiniaPipeline\",\"opacity\":0.6,\"showlegend\":false,\"type\":\"scatter\",\"x\":[28],\"xaxis\":\"x3\",\"y\":[0.978434957292352],\"yaxis\":\"y3\"},{\"marker\":{\"color\":\"#a54765\",\"line\":{\"color\":\"black\",\"width\":1},\"opacity\":0.5,\"size\":12,\"symbol\":\"diamond\"},\"name\":\"GATBMiniaPipeline\",\"opacity\":0.6,\"showlegend\":false,\"type\":\"scatter\",\"x\":[38],\"xaxis\":\"x3\",\"y\":[0.9786806176442472],\"yaxis\":\"y3\"},{\"marker\":{\"color\":\"#a54765\",\"line\":{\"color\":\"black\",\"width\":1},\"opacity\":0.5,\"size\":12,\"symbol\":\"circle\"},\"name\":\"GATBMiniaPipeline\",\"opacity\":0.6,\"showlegend\":false,\"type\":\"scatter\",\"x\":[46],\"xaxis\":\"x3\",\"y\":[0.9894320360779816],\"yaxis\":\"y3\"},{\"marker\":{\"color\":\"#a54765\",\"line\":{\"color\":\"black\",\"width\":1},\"opacity\":0.5,\"size\":12,\"symbol\":\"square\"},\"name\":\"GATBMiniaPipeline\",\"opacity\":0.6,\"showlegend\":false,\"type\":\"scatter\",\"x\":[29],\"xaxis\":\"x3\",\"y\":[0.990907403971052],\"yaxis\":\"y3\"},{\"marker\":{\"color\":\"#a54765\",\"line\":{\"color\":\"black\",\"width\":1},\"opacity\":0.5,\"size\":12,\"symbol\":\"diamond\"},\"name\":\"GATBMiniaPipeline\",\"opacity\":0.6,\"showlegend\":false,\"type\":\"scatter\",\"x\":[39],\"xaxis\":\"x3\",\"y\":[0.9911994551190136],\"yaxis\":\"y3\"},{\"marker\":{\"color\":\"#a54765\",\"line\":{\"color\":\"black\",\"width\":1},\"opacity\":0.5,\"size\":12,\"symbol\":\"circle\"},\"name\":\"GATBMiniaPipeline\",\"opacity\":0.6,\"showlegend\":false,\"type\":\"scatter\",\"x\":[45],\"xaxis\":\"x3\",\"y\":[0.9769455315822916],\"yaxis\":\"y3\"},{\"marker\":{\"color\":\"#a54765\",\"line\":{\"color\":\"black\",\"width\":1},\"opacity\":0.5,\"size\":12,\"symbol\":\"square\"},\"name\":\"GATBMiniaPipeline\",\"opacity\":0.6,\"showlegend\":false,\"type\":\"scatter\",\"x\":[29],\"xaxis\":\"x3\",\"y\":[0.990907403971052],\"yaxis\":\"y3\"},{\"marker\":{\"color\":\"#a54765\",\"line\":{\"color\":\"black\",\"width\":1},\"opacity\":0.5,\"size\":12,\"symbol\":\"diamond\"},\"name\":\"GATBMiniaPipeline\",\"opacity\":0.6,\"showlegend\":false,\"type\":\"scatter\",\"x\":[38],\"xaxis\":\"x3\",\"y\":[0.9786806176442472],\"yaxis\":\"y3\"},{\"marker\":{\"color\":\"#5876c8\",\"line\":{\"color\":\"black\",\"width\":1},\"opacity\":0.5,\"size\":12,\"symbol\":\"circle\"},\"name\":\"Unicycler\",\"opacity\":0.6,\"showlegend\":false,\"type\":\"scatter\",\"x\":[111],\"xaxis\":\"x5\",\"y\":[0.964104423647458],\"yaxis\":\"y5\"},{\"marker\":{\"color\":\"#5876c8\",\"line\":{\"color\":\"black\",\"width\":1},\"opacity\":0.5,\"size\":12,\"symbol\":\"square\"},\"name\":\"Unicycler\",\"opacity\":0.6,\"showlegend\":false,\"type\":\"scatter\",\"x\":[72],\"xaxis\":\"x5\",\"y\":[0.9713700787798132],\"yaxis\":\"y5\"},{\"marker\":{\"color\":\"#5876c8\",\"line\":{\"color\":\"black\",\"width\":1},\"opacity\":0.5,\"size\":12,\"symbol\":\"diamond\"},\"name\":\"Unicycler\",\"opacity\":0.6,\"showlegend\":false,\"type\":\"scatter\",\"x\":[98],\"xaxis\":\"x5\",\"y\":[0.9720575292827474],\"yaxis\":\"y5\"},{\"marker\":{\"color\":\"#5876c8\",\"line\":{\"color\":\"black\",\"width\":1},\"opacity\":0.5,\"size\":12,\"symbol\":\"circle\"},\"name\":\"Unicycler\",\"opacity\":0.6,\"showlegend\":false,\"type\":\"scatter\",\"x\":[111],\"xaxis\":\"x5\",\"y\":[0.964104423647458],\"yaxis\":\"y5\"},{\"marker\":{\"color\":\"#5876c8\",\"line\":{\"color\":\"black\",\"width\":1},\"opacity\":0.5,\"size\":12,\"symbol\":\"square\"},\"name\":\"Unicycler\",\"opacity\":0.6,\"showlegend\":false,\"type\":\"scatter\",\"x\":[72],\"xaxis\":\"x5\",\"y\":[0.9713700787798132],\"yaxis\":\"y5\"},{\"marker\":{\"color\":\"#5876c8\",\"line\":{\"color\":\"black\",\"width\":1},\"opacity\":0.5,\"size\":12,\"symbol\":\"diamond\"},\"name\":\"Unicycler\",\"opacity\":0.6,\"showlegend\":false,\"type\":\"scatter\",\"x\":[98],\"xaxis\":\"x5\",\"y\":[0.9720575292827474],\"yaxis\":\"y5\"},{\"marker\":{\"color\":\"#5876c8\",\"line\":{\"color\":\"black\",\"width\":1},\"opacity\":0.5,\"size\":12,\"symbol\":\"circle\"},\"name\":\"Unicycler\",\"opacity\":0.6,\"showlegend\":false,\"type\":\"scatter\",\"x\":[111],\"xaxis\":\"x5\",\"y\":[0.964104423647458],\"yaxis\":\"y5\"},{\"marker\":{\"color\":\"#5876c8\",\"line\":{\"color\":\"black\",\"width\":1},\"opacity\":0.5,\"size\":12,\"symbol\":\"square\"},\"name\":\"Unicycler\",\"opacity\":0.6,\"showlegend\":false,\"type\":\"scatter\",\"x\":[72],\"xaxis\":\"x5\",\"y\":[0.9713700787798132],\"yaxis\":\"y5\"},{\"marker\":{\"color\":\"#5876c8\",\"line\":{\"color\":\"black\",\"width\":1},\"opacity\":0.5,\"size\":12,\"symbol\":\"diamond\"},\"name\":\"Unicycler\",\"opacity\":0.6,\"showlegend\":false,\"type\":\"scatter\",\"x\":[98],\"xaxis\":\"x5\",\"y\":[0.9720575292827474],\"yaxis\":\"y5\"},{\"marker\":{\"color\":\"#58AEC8\",\"line\":{\"color\":\"black\",\"width\":1},\"opacity\":0.5,\"size\":12,\"symbol\":\"circle\"},\"name\":\"SPAdes\",\"opacity\":0.6,\"showlegend\":false,\"type\":\"scatter\",\"x\":[120],\"xaxis\":\"x5\",\"y\":[0.9686328674366279],\"yaxis\":\"y5\"},{\"marker\":{\"color\":\"#58AEC8\",\"line\":{\"color\":\"black\",\"width\":1},\"opacity\":0.5,\"size\":12,\"symbol\":\"square\"},\"name\":\"SPAdes\",\"opacity\":0.6,\"showlegend\":false,\"type\":\"scatter\",\"x\":[84],\"xaxis\":\"x5\",\"y\":[0.9744862692464108],\"yaxis\":\"y5\"},{\"marker\":{\"color\":\"#58AEC8\",\"line\":{\"color\":\"black\",\"width\":1},\"opacity\":0.5,\"size\":12,\"symbol\":\"diamond\"},\"name\":\"SPAdes\",\"opacity\":0.6,\"showlegend\":false,\"type\":\"scatter\",\"x\":[143],\"xaxis\":\"x5\",\"y\":[0.9717501071256051],\"yaxis\":\"y5\"},{\"marker\":{\"color\":\"#58AEC8\",\"line\":{\"color\":\"black\",\"width\":1},\"opacity\":0.5,\"size\":12,\"symbol\":\"circle\"},\"name\":\"SPAdes\",\"opacity\":0.6,\"showlegend\":false,\"type\":\"scatter\",\"x\":[120],\"xaxis\":\"x5\",\"y\":[0.9686328674366279],\"yaxis\":\"y5\"},{\"marker\":{\"color\":\"#58AEC8\",\"line\":{\"color\":\"black\",\"width\":1},\"opacity\":0.5,\"size\":12,\"symbol\":\"square\"},\"name\":\"SPAdes\",\"opacity\":0.6,\"showlegend\":false,\"type\":\"scatter\",\"x\":[84],\"xaxis\":\"x5\",\"y\":[0.9744862692464108],\"yaxis\":\"y5\"},{\"marker\":{\"color\":\"#58AEC8\",\"line\":{\"color\":\"black\",\"width\":1},\"opacity\":0.5,\"size\":12,\"symbol\":\"diamond\"},\"name\":\"SPAdes\",\"opacity\":0.6,\"showlegend\":false,\"type\":\"scatter\",\"x\":[143],\"xaxis\":\"x5\",\"y\":[0.9717501071256051],\"yaxis\":\"y5\"},{\"marker\":{\"color\":\"#58AEC8\",\"line\":{\"color\":\"black\",\"width\":1},\"opacity\":0.5,\"size\":12,\"symbol\":\"circle\"},\"name\":\"SPAdes\",\"opacity\":0.6,\"showlegend\":false,\"type\":\"scatter\",\"x\":[120],\"xaxis\":\"x5\",\"y\":[0.9686328674366279],\"yaxis\":\"y5\"},{\"marker\":{\"color\":\"#58AEC8\",\"line\":{\"color\":\"black\",\"width\":1},\"opacity\":0.5,\"size\":12,\"symbol\":\"square\"},\"name\":\"SPAdes\",\"opacity\":0.6,\"showlegend\":false,\"type\":\"scatter\",\"x\":[84],\"xaxis\":\"x5\",\"y\":[0.9744862692464108],\"yaxis\":\"y5\"},{\"marker\":{\"color\":\"#58AEC8\",\"line\":{\"color\":\"black\",\"width\":1},\"opacity\":0.5,\"size\":12,\"symbol\":\"diamond\"},\"name\":\"SPAdes\",\"opacity\":0.6,\"showlegend\":false,\"type\":\"scatter\",\"x\":[143],\"xaxis\":\"x5\",\"y\":[0.9717501071256051],\"yaxis\":\"y5\"},{\"marker\":{\"color\":\"#39B185\",\"line\":{\"color\":\"black\",\"width\":1},\"opacity\":0.5,\"size\":12,\"symbol\":\"circle\"},\"name\":\"SKESA\",\"opacity\":0.6,\"showlegend\":false,\"type\":\"scatter\",\"x\":[270],\"xaxis\":\"x5\",\"y\":[0.9570144083414018],\"yaxis\":\"y5\"},{\"marker\":{\"color\":\"#39B185\",\"line\":{\"color\":\"black\",\"width\":1},\"opacity\":0.5,\"size\":12,\"symbol\":\"square\"},\"name\":\"SKESA\",\"opacity\":0.6,\"showlegend\":false,\"type\":\"scatter\",\"x\":[180],\"xaxis\":\"x5\",\"y\":[0.9600514874405984],\"yaxis\":\"y5\"},{\"marker\":{\"color\":\"#39B185\",\"line\":{\"color\":\"black\",\"width\":1},\"opacity\":0.5,\"size\":12,\"symbol\":\"diamond\"},\"name\":\"SKESA\",\"opacity\":0.6,\"showlegend\":false,\"type\":\"scatter\",\"x\":[209],\"xaxis\":\"x5\",\"y\":[0.9610738497270134],\"yaxis\":\"y5\"},{\"marker\":{\"color\":\"#39B185\",\"line\":{\"color\":\"black\",\"width\":1},\"opacity\":0.5,\"size\":12,\"symbol\":\"circle\"},\"name\":\"SKESA\",\"opacity\":0.6,\"showlegend\":false,\"type\":\"scatter\",\"x\":[270],\"xaxis\":\"x5\",\"y\":[0.9570144083414018],\"yaxis\":\"y5\"},{\"marker\":{\"color\":\"#39B185\",\"line\":{\"color\":\"black\",\"width\":1},\"opacity\":0.5,\"size\":12,\"symbol\":\"square\"},\"name\":\"SKESA\",\"opacity\":0.6,\"showlegend\":false,\"type\":\"scatter\",\"x\":[180],\"xaxis\":\"x5\",\"y\":[0.9600514874405984],\"yaxis\":\"y5\"},{\"marker\":{\"color\":\"#39B185\",\"line\":{\"color\":\"black\",\"width\":1},\"opacity\":0.5,\"size\":12,\"symbol\":\"diamond\"},\"name\":\"SKESA\",\"opacity\":0.6,\"showlegend\":false,\"type\":\"scatter\",\"x\":[209],\"xaxis\":\"x5\",\"y\":[0.9610738497270134],\"yaxis\":\"y5\"},{\"marker\":{\"color\":\"#39B185\",\"line\":{\"color\":\"black\",\"width\":1},\"opacity\":0.5,\"size\":12,\"symbol\":\"circle\"},\"name\":\"SKESA\",\"opacity\":0.6,\"showlegend\":false,\"type\":\"scatter\",\"x\":[270],\"xaxis\":\"x5\",\"y\":[0.9570144083414018],\"yaxis\":\"y5\"},{\"marker\":{\"color\":\"#39B185\",\"line\":{\"color\":\"black\",\"width\":1},\"opacity\":0.5,\"size\":12,\"symbol\":\"square\"},\"name\":\"SKESA\",\"opacity\":0.6,\"showlegend\":false,\"type\":\"scatter\",\"x\":[180],\"xaxis\":\"x5\",\"y\":[0.9600514874405984],\"yaxis\":\"y5\"},{\"marker\":{\"color\":\"#39B185\",\"line\":{\"color\":\"black\",\"width\":1},\"opacity\":0.5,\"size\":12,\"symbol\":\"diamond\"},\"name\":\"SKESA\",\"opacity\":0.6,\"showlegend\":false,\"type\":\"scatter\",\"x\":[209],\"xaxis\":\"x5\",\"y\":[0.9610738497270134],\"yaxis\":\"y5\"},{\"marker\":{\"color\":\"#9CCB86\",\"line\":{\"color\":\"black\",\"width\":1},\"opacity\":0.5,\"size\":12,\"symbol\":\"circle\"},\"name\":\"metaSPAdes\",\"opacity\":0.6,\"showlegend\":false,\"type\":\"scatter\",\"x\":[82],\"xaxis\":\"x5\",\"y\":[0.9772832862652174],\"yaxis\":\"y5\"},{\"marker\":{\"color\":\"#9CCB86\",\"line\":{\"color\":\"black\",\"width\":1},\"opacity\":0.5,\"size\":12,\"symbol\":\"square\"},\"name\":\"metaSPAdes\",\"opacity\":0.6,\"showlegend\":false,\"type\":\"scatter\",\"x\":[86],\"xaxis\":\"x5\",\"y\":[0.97929947198933],\"yaxis\":\"y5\"},{\"marker\":{\"color\":\"#9CCB86\",\"line\":{\"color\":\"black\",\"width\":1},\"opacity\":0.5,\"size\":12,\"symbol\":\"diamond\"},\"name\":\"metaSPAdes\",\"opacity\":0.6,\"showlegend\":false,\"type\":\"scatter\",\"x\":[167],\"xaxis\":\"x5\",\"y\":[0.9728360522882072],\"yaxis\":\"y5\"},{\"marker\":{\"color\":\"#9CCB86\",\"line\":{\"color\":\"black\",\"width\":1},\"opacity\":0.5,\"size\":12,\"symbol\":\"circle\"},\"name\":\"metaSPAdes\",\"opacity\":0.6,\"showlegend\":false,\"type\":\"scatter\",\"x\":[82],\"xaxis\":\"x5\",\"y\":[0.9772832862652174],\"yaxis\":\"y5\"},{\"marker\":{\"color\":\"#9CCB86\",\"line\":{\"color\":\"black\",\"width\":1},\"opacity\":0.5,\"size\":12,\"symbol\":\"square\"},\"name\":\"metaSPAdes\",\"opacity\":0.6,\"showlegend\":false,\"type\":\"scatter\",\"x\":[86],\"xaxis\":\"x5\",\"y\":[0.97929947198933],\"yaxis\":\"y5\"},{\"marker\":{\"color\":\"#9CCB86\",\"line\":{\"color\":\"black\",\"width\":1},\"opacity\":0.5,\"size\":12,\"symbol\":\"diamond\"},\"name\":\"metaSPAdes\",\"opacity\":0.6,\"showlegend\":false,\"type\":\"scatter\",\"x\":[167],\"xaxis\":\"x5\",\"y\":[0.9728360522882072],\"yaxis\":\"y5\"},{\"marker\":{\"color\":\"#9CCB86\",\"line\":{\"color\":\"black\",\"width\":1},\"opacity\":0.5,\"size\":12,\"symbol\":\"circle\"},\"name\":\"metaSPAdes\",\"opacity\":0.6,\"showlegend\":false,\"type\":\"scatter\",\"x\":[82],\"xaxis\":\"x5\",\"y\":[0.9772832862652174],\"yaxis\":\"y5\"},{\"marker\":{\"color\":\"#9CCB86\",\"line\":{\"color\":\"black\",\"width\":1},\"opacity\":0.5,\"size\":12,\"symbol\":\"square\"},\"name\":\"metaSPAdes\",\"opacity\":0.6,\"showlegend\":false,\"type\":\"scatter\",\"x\":[86],\"xaxis\":\"x5\",\"y\":[0.97929947198933],\"yaxis\":\"y5\"},{\"marker\":{\"color\":\"#9CCB86\",\"line\":{\"color\":\"black\",\"width\":1},\"opacity\":0.5,\"size\":12,\"symbol\":\"diamond\"},\"name\":\"metaSPAdes\",\"opacity\":0.6,\"showlegend\":false,\"type\":\"scatter\",\"x\":[167],\"xaxis\":\"x5\",\"y\":[0.9728360522882072],\"yaxis\":\"y5\"},{\"marker\":{\"color\":\"#EEB479\",\"line\":{\"color\":\"black\",\"width\":1},\"opacity\":0.5,\"size\":12,\"symbol\":\"circle\"},\"name\":\"MEGAHIT\",\"opacity\":0.6,\"showlegend\":false,\"type\":\"scatter\",\"x\":[137],\"xaxis\":\"x5\",\"y\":[0.97838748789722],\"yaxis\":\"y5\"},{\"marker\":{\"color\":\"#EEB479\",\"line\":{\"color\":\"black\",\"width\":1},\"opacity\":0.5,\"size\":12,\"symbol\":\"square\"},\"name\":\"MEGAHIT\",\"opacity\":0.6,\"showlegend\":false,\"type\":\"scatter\",\"x\":[141],\"xaxis\":\"x5\",\"y\":[0.9783652443827782],\"yaxis\":\"y5\"},{\"marker\":{\"color\":\"#EEB479\",\"line\":{\"color\":\"black\",\"width\":1},\"opacity\":0.5,\"size\":12,\"symbol\":\"diamond\"},\"name\":\"MEGAHIT\",\"opacity\":0.6,\"showlegend\":false,\"type\":\"scatter\",\"x\":[132],\"xaxis\":\"x5\",\"y\":[0.9806072227629214],\"yaxis\":\"y5\"},{\"marker\":{\"color\":\"#EEB479\",\"line\":{\"color\":\"black\",\"width\":1},\"opacity\":0.5,\"size\":12,\"symbol\":\"circle\"},\"name\":\"MEGAHIT\",\"opacity\":0.6,\"showlegend\":false,\"type\":\"scatter\",\"x\":[137],\"xaxis\":\"x5\",\"y\":[0.9784025966994822],\"yaxis\":\"y5\"},{\"marker\":{\"color\":\"#EEB479\",\"line\":{\"color\":\"black\",\"width\":1},\"opacity\":0.5,\"size\":12,\"symbol\":\"square\"},\"name\":\"MEGAHIT\",\"opacity\":0.6,\"showlegend\":false,\"type\":\"scatter\",\"x\":[141],\"xaxis\":\"x5\",\"y\":[0.9784735241323246],\"yaxis\":\"y5\"},{\"marker\":{\"color\":\"#EEB479\",\"line\":{\"color\":\"black\",\"width\":1},\"opacity\":0.5,\"size\":12,\"symbol\":\"diamond\"},\"name\":\"MEGAHIT\",\"opacity\":0.6,\"showlegend\":false,\"type\":\"scatter\",\"x\":[132],\"xaxis\":\"x5\",\"y\":[0.9806072227629214],\"yaxis\":\"y5\"},{\"marker\":{\"color\":\"#EEB479\",\"line\":{\"color\":\"black\",\"width\":1},\"opacity\":0.5,\"size\":12,\"symbol\":\"circle\"},\"name\":\"MEGAHIT\",\"opacity\":0.6,\"showlegend\":false,\"type\":\"scatter\",\"x\":[137],\"xaxis\":\"x5\",\"y\":[0.97838748789722],\"yaxis\":\"y5\"},{\"marker\":{\"color\":\"#EEB479\",\"line\":{\"color\":\"black\",\"width\":1},\"opacity\":0.5,\"size\":12,\"symbol\":\"square\"},\"name\":\"MEGAHIT\",\"opacity\":0.6,\"showlegend\":false,\"type\":\"scatter\",\"x\":[141],\"xaxis\":\"x5\",\"y\":[0.9783652443827782],\"yaxis\":\"y5\"},{\"marker\":{\"color\":\"#EEB479\",\"line\":{\"color\":\"black\",\"width\":1},\"opacity\":0.5,\"size\":12,\"symbol\":\"diamond\"},\"name\":\"MEGAHIT\",\"opacity\":0.6,\"showlegend\":false,\"type\":\"scatter\",\"x\":[132],\"xaxis\":\"x5\",\"y\":[0.9806072227629214],\"yaxis\":\"y5\"},{\"marker\":{\"color\":\"#E88471\",\"line\":{\"color\":\"black\",\"width\":1},\"opacity\":0.5,\"size\":12,\"symbol\":\"circle\"},\"name\":\"IDBA-UD\",\"opacity\":0.6,\"showlegend\":false,\"type\":\"scatter\",\"x\":[449],\"xaxis\":\"x5\",\"y\":[0.9438418410579184],\"yaxis\":\"y5\"},{\"marker\":{\"color\":\"#E88471\",\"line\":{\"color\":\"black\",\"width\":1},\"opacity\":0.5,\"size\":12,\"symbol\":\"square\"},\"name\":\"IDBA-UD\",\"opacity\":0.6,\"showlegend\":false,\"type\":\"scatter\",\"x\":[439],\"xaxis\":\"x5\",\"y\":[0.9485299764932218],\"yaxis\":\"y5\"},{\"marker\":{\"color\":\"#E88471\",\"line\":{\"color\":\"black\",\"width\":1},\"opacity\":0.5,\"size\":12,\"symbol\":\"diamond\"},\"name\":\"IDBA-UD\",\"opacity\":0.6,\"showlegend\":false,\"type\":\"scatter\",\"x\":[358],\"xaxis\":\"x5\",\"y\":[0.963083530272374],\"yaxis\":\"y5\"},{\"marker\":{\"color\":\"#E88471\",\"line\":{\"color\":\"black\",\"width\":1},\"opacity\":0.5,\"size\":12,\"symbol\":\"circle\"},\"name\":\"IDBA-UD\",\"opacity\":0.6,\"showlegend\":false,\"type\":\"scatter\",\"x\":[449],\"xaxis\":\"x5\",\"y\":[0.9438426804358218],\"yaxis\":\"y5\"},{\"marker\":{\"color\":\"#E88471\",\"line\":{\"color\":\"black\",\"width\":1},\"opacity\":0.5,\"size\":12,\"symbol\":\"square\"},\"name\":\"IDBA-UD\",\"opacity\":0.6,\"showlegend\":false,\"type\":\"scatter\",\"x\":[439],\"xaxis\":\"x5\",\"y\":[0.9485100412680146],\"yaxis\":\"y5\"},{\"marker\":{\"color\":\"#E88471\",\"line\":{\"color\":\"black\",\"width\":1},\"opacity\":0.5,\"size\":12,\"symbol\":\"diamond\"},\"name\":\"IDBA-UD\",\"opacity\":0.6,\"showlegend\":false,\"type\":\"scatter\",\"x\":[358],\"xaxis\":\"x5\",\"y\":[0.963083530272374],\"yaxis\":\"y5\"},{\"marker\":{\"color\":\"#E88471\",\"line\":{\"color\":\"black\",\"width\":1},\"opacity\":0.5,\"size\":12,\"symbol\":\"circle\"},\"name\":\"IDBA-UD\",\"opacity\":0.6,\"showlegend\":false,\"type\":\"scatter\",\"x\":[449],\"xaxis\":\"x5\",\"y\":[0.9438426804358218],\"yaxis\":\"y5\"},{\"marker\":{\"color\":\"#E88471\",\"line\":{\"color\":\"black\",\"width\":1},\"opacity\":0.5,\"size\":12,\"symbol\":\"square\"},\"name\":\"IDBA-UD\",\"opacity\":0.6,\"showlegend\":false,\"type\":\"scatter\",\"x\":[439],\"xaxis\":\"x5\",\"y\":[0.9484344972567031],\"yaxis\":\"y5\"},{\"marker\":{\"color\":\"#E88471\",\"line\":{\"color\":\"black\",\"width\":1},\"opacity\":0.5,\"size\":12,\"symbol\":\"diamond\"},\"name\":\"IDBA-UD\",\"opacity\":0.6,\"showlegend\":false,\"type\":\"scatter\",\"x\":[358],\"xaxis\":\"x5\",\"y\":[0.963083530272374],\"yaxis\":\"y5\"},{\"marker\":{\"color\":\"#a54765\",\"line\":{\"color\":\"black\",\"width\":1},\"opacity\":0.5,\"size\":12,\"symbol\":\"circle\"},\"name\":\"GATBMiniaPipeline\",\"opacity\":0.6,\"showlegend\":false,\"type\":\"scatter\",\"x\":[199],\"xaxis\":\"x5\",\"y\":[0.9685388571114404],\"yaxis\":\"y5\"},{\"marker\":{\"color\":\"#a54765\",\"line\":{\"color\":\"black\",\"width\":1},\"opacity\":0.5,\"size\":12,\"symbol\":\"square\"},\"name\":\"GATBMiniaPipeline\",\"opacity\":0.6,\"showlegend\":false,\"type\":\"scatter\",\"x\":[184],\"xaxis\":\"x5\",\"y\":[0.9706834676547824],\"yaxis\":\"y5\"},{\"marker\":{\"color\":\"#a54765\",\"line\":{\"color\":\"black\",\"width\":1},\"opacity\":0.5,\"size\":12,\"symbol\":\"diamond\"},\"name\":\"GATBMiniaPipeline\",\"opacity\":0.6,\"showlegend\":false,\"type\":\"scatter\",\"x\":[180],\"xaxis\":\"x5\",\"y\":[0.9720812417085202],\"yaxis\":\"y5\"},{\"marker\":{\"color\":\"#a54765\",\"line\":{\"color\":\"black\",\"width\":1},\"opacity\":0.5,\"size\":12,\"symbol\":\"circle\"},\"name\":\"GATBMiniaPipeline\",\"opacity\":0.6,\"showlegend\":false,\"type\":\"scatter\",\"x\":[199],\"xaxis\":\"x5\",\"y\":[0.9685354995998264],\"yaxis\":\"y5\"},{\"marker\":{\"color\":\"#a54765\",\"line\":{\"color\":\"black\",\"width\":1},\"opacity\":0.5,\"size\":12,\"symbol\":\"square\"},\"name\":\"GATBMiniaPipeline\",\"opacity\":0.6,\"showlegend\":false,\"type\":\"scatter\",\"x\":[184],\"xaxis\":\"x5\",\"y\":[0.97068409718821],\"yaxis\":\"y5\"},{\"marker\":{\"color\":\"#a54765\",\"line\":{\"color\":\"black\",\"width\":1},\"opacity\":0.5,\"size\":12,\"symbol\":\"diamond\"},\"name\":\"GATBMiniaPipeline\",\"opacity\":0.6,\"showlegend\":false,\"type\":\"scatter\",\"x\":[180],\"xaxis\":\"x5\",\"y\":[0.9720812417085202],\"yaxis\":\"y5\"},{\"marker\":{\"color\":\"#a54765\",\"line\":{\"color\":\"black\",\"width\":1},\"opacity\":0.5,\"size\":12,\"symbol\":\"circle\"},\"name\":\"GATBMiniaPipeline\",\"opacity\":0.6,\"showlegend\":false,\"type\":\"scatter\",\"x\":[199],\"xaxis\":\"x5\",\"y\":[0.9685354995998264],\"yaxis\":\"y5\"},{\"marker\":{\"color\":\"#a54765\",\"line\":{\"color\":\"black\",\"width\":1},\"opacity\":0.5,\"size\":12,\"symbol\":\"square\"},\"name\":\"GATBMiniaPipeline\",\"opacity\":0.6,\"showlegend\":false,\"type\":\"scatter\",\"x\":[184],\"xaxis\":\"x5\",\"y\":[0.9706834676547824],\"yaxis\":\"y5\"},{\"marker\":{\"color\":\"#a54765\",\"line\":{\"color\":\"black\",\"width\":1},\"opacity\":0.5,\"size\":12,\"symbol\":\"diamond\"},\"name\":\"GATBMiniaPipeline\",\"opacity\":0.6,\"showlegend\":false,\"type\":\"scatter\",\"x\":[180],\"xaxis\":\"x5\",\"y\":[0.9720812417085202],\"yaxis\":\"y5\"},{\"marker\":{\"color\":\"#5876c8\",\"line\":{\"color\":\"black\",\"width\":1},\"opacity\":0.5,\"size\":12,\"symbol\":\"circle\"},\"name\":\"Unicycler\",\"opacity\":0.6,\"showlegend\":false,\"type\":\"scatter\",\"x\":[80],\"xaxis\":\"x7\",\"y\":[0.9314933400093316],\"yaxis\":\"y7\"},{\"marker\":{\"color\":\"#5876c8\",\"line\":{\"color\":\"black\",\"width\":1},\"opacity\":0.5,\"size\":12,\"symbol\":\"square\"},\"name\":\"Unicycler\",\"opacity\":0.6,\"showlegend\":false,\"type\":\"scatter\",\"x\":[77],\"xaxis\":\"x7\",\"y\":[0.9318197921308244],\"yaxis\":\"y7\"},{\"marker\":{\"color\":\"#5876c8\",\"line\":{\"color\":\"black\",\"width\":1},\"opacity\":0.5,\"size\":12,\"symbol\":\"diamond\"},\"name\":\"Unicycler\",\"opacity\":0.6,\"showlegend\":false,\"type\":\"scatter\",\"x\":[79],\"xaxis\":\"x7\",\"y\":[0.9297004775543172],\"yaxis\":\"y7\"},{\"marker\":{\"color\":\"#5876c8\",\"line\":{\"color\":\"black\",\"width\":1},\"opacity\":0.5,\"size\":12,\"symbol\":\"circle\"},\"name\":\"Unicycler\",\"opacity\":0.6,\"showlegend\":false,\"type\":\"scatter\",\"x\":[80],\"xaxis\":\"x7\",\"y\":[0.9314933400093316],\"yaxis\":\"y7\"},{\"marker\":{\"color\":\"#5876c8\",\"line\":{\"color\":\"black\",\"width\":1},\"opacity\":0.5,\"size\":12,\"symbol\":\"square\"},\"name\":\"Unicycler\",\"opacity\":0.6,\"showlegend\":false,\"type\":\"scatter\",\"x\":[77],\"xaxis\":\"x7\",\"y\":[0.9318197921308244],\"yaxis\":\"y7\"},{\"marker\":{\"color\":\"#5876c8\",\"line\":{\"color\":\"black\",\"width\":1},\"opacity\":0.5,\"size\":12,\"symbol\":\"diamond\"},\"name\":\"Unicycler\",\"opacity\":0.6,\"showlegend\":false,\"type\":\"scatter\",\"x\":[79],\"xaxis\":\"x7\",\"y\":[0.9297004775543172],\"yaxis\":\"y7\"},{\"marker\":{\"color\":\"#5876c8\",\"line\":{\"color\":\"black\",\"width\":1},\"opacity\":0.5,\"size\":12,\"symbol\":\"circle\"},\"name\":\"Unicycler\",\"opacity\":0.6,\"showlegend\":false,\"type\":\"scatter\",\"x\":[80],\"xaxis\":\"x7\",\"y\":[0.9314933400093316],\"yaxis\":\"y7\"},{\"marker\":{\"color\":\"#5876c8\",\"line\":{\"color\":\"black\",\"width\":1},\"opacity\":0.5,\"size\":12,\"symbol\":\"square\"},\"name\":\"Unicycler\",\"opacity\":0.6,\"showlegend\":false,\"type\":\"scatter\",\"x\":[77],\"xaxis\":\"x7\",\"y\":[0.9318197921308244],\"yaxis\":\"y7\"},{\"marker\":{\"color\":\"#5876c8\",\"line\":{\"color\":\"black\",\"width\":1},\"opacity\":0.5,\"size\":12,\"symbol\":\"diamond\"},\"name\":\"Unicycler\",\"opacity\":0.6,\"showlegend\":false,\"type\":\"scatter\",\"x\":[79],\"xaxis\":\"x7\",\"y\":[0.9297004775543172],\"yaxis\":\"y7\"},{\"marker\":{\"color\":\"#58AEC8\",\"line\":{\"color\":\"black\",\"width\":1},\"opacity\":0.5,\"size\":12,\"symbol\":\"circle\"},\"name\":\"SPAdes\",\"opacity\":0.6,\"showlegend\":false,\"type\":\"scatter\",\"x\":[78],\"xaxis\":\"x7\",\"y\":[0.9408943213600982],\"yaxis\":\"y7\"},{\"marker\":{\"color\":\"#58AEC8\",\"line\":{\"color\":\"black\",\"width\":1},\"opacity\":0.5,\"size\":12,\"symbol\":\"square\"},\"name\":\"SPAdes\",\"opacity\":0.6,\"showlegend\":false,\"type\":\"scatter\",\"x\":[109],\"xaxis\":\"x7\",\"y\":[0.9409525788930334],\"yaxis\":\"y7\"},{\"marker\":{\"color\":\"#58AEC8\",\"line\":{\"color\":\"black\",\"width\":1},\"opacity\":0.5,\"size\":12,\"symbol\":\"diamond\"},\"name\":\"SPAdes\",\"opacity\":0.6,\"showlegend\":false,\"type\":\"scatter\",\"x\":[101],\"xaxis\":\"x7\",\"y\":[0.9356432707563456],\"yaxis\":\"y7\"},{\"marker\":{\"color\":\"#58AEC8\",\"line\":{\"color\":\"black\",\"width\":1},\"opacity\":0.5,\"size\":12,\"symbol\":\"circle\"},\"name\":\"SPAdes\",\"opacity\":0.6,\"showlegend\":false,\"type\":\"scatter\",\"x\":[78],\"xaxis\":\"x7\",\"y\":[0.9408943213600982],\"yaxis\":\"y7\"},{\"marker\":{\"color\":\"#58AEC8\",\"line\":{\"color\":\"black\",\"width\":1},\"opacity\":0.5,\"size\":12,\"symbol\":\"square\"},\"name\":\"SPAdes\",\"opacity\":0.6,\"showlegend\":false,\"type\":\"scatter\",\"x\":[109],\"xaxis\":\"x7\",\"y\":[0.9409525788930334],\"yaxis\":\"y7\"},{\"marker\":{\"color\":\"#58AEC8\",\"line\":{\"color\":\"black\",\"width\":1},\"opacity\":0.5,\"size\":12,\"symbol\":\"diamond\"},\"name\":\"SPAdes\",\"opacity\":0.6,\"showlegend\":false,\"type\":\"scatter\",\"x\":[101],\"xaxis\":\"x7\",\"y\":[0.9356432707563456],\"yaxis\":\"y7\"},{\"marker\":{\"color\":\"#58AEC8\",\"line\":{\"color\":\"black\",\"width\":1},\"opacity\":0.5,\"size\":12,\"symbol\":\"circle\"},\"name\":\"SPAdes\",\"opacity\":0.6,\"showlegend\":false,\"type\":\"scatter\",\"x\":[78],\"xaxis\":\"x7\",\"y\":[0.9408943213600982],\"yaxis\":\"y7\"},{\"marker\":{\"color\":\"#58AEC8\",\"line\":{\"color\":\"black\",\"width\":1},\"opacity\":0.5,\"size\":12,\"symbol\":\"square\"},\"name\":\"SPAdes\",\"opacity\":0.6,\"showlegend\":false,\"type\":\"scatter\",\"x\":[109],\"xaxis\":\"x7\",\"y\":[0.9409525788930334],\"yaxis\":\"y7\"},{\"marker\":{\"color\":\"#58AEC8\",\"line\":{\"color\":\"black\",\"width\":1},\"opacity\":0.5,\"size\":12,\"symbol\":\"diamond\"},\"name\":\"SPAdes\",\"opacity\":0.6,\"showlegend\":false,\"type\":\"scatter\",\"x\":[101],\"xaxis\":\"x7\",\"y\":[0.9356432707563456],\"yaxis\":\"y7\"},{\"marker\":{\"color\":\"#39B185\",\"line\":{\"color\":\"black\",\"width\":1},\"opacity\":0.5,\"size\":12,\"symbol\":\"circle\"},\"name\":\"SKESA\",\"opacity\":0.6,\"showlegend\":false,\"type\":\"scatter\",\"x\":[94],\"xaxis\":\"x7\",\"y\":[0.9314035919180532],\"yaxis\":\"y7\"},{\"marker\":{\"color\":\"#39B185\",\"line\":{\"color\":\"black\",\"width\":1},\"opacity\":0.5,\"size\":12,\"symbol\":\"square\"},\"name\":\"SKESA\",\"opacity\":0.6,\"showlegend\":false,\"type\":\"scatter\",\"x\":[86],\"xaxis\":\"x7\",\"y\":[0.9322181476938676],\"yaxis\":\"y7\"},{\"marker\":{\"color\":\"#39B185\",\"line\":{\"color\":\"black\",\"width\":1},\"opacity\":0.5,\"size\":12,\"symbol\":\"diamond\"},\"name\":\"SKESA\",\"opacity\":0.6,\"showlegend\":false,\"type\":\"scatter\",\"x\":[86],\"xaxis\":\"x7\",\"y\":[0.9224167114095017],\"yaxis\":\"y7\"},{\"marker\":{\"color\":\"#39B185\",\"line\":{\"color\":\"black\",\"width\":1},\"opacity\":0.5,\"size\":12,\"symbol\":\"circle\"},\"name\":\"SKESA\",\"opacity\":0.6,\"showlegend\":false,\"type\":\"scatter\",\"x\":[94],\"xaxis\":\"x7\",\"y\":[0.9314035919180532],\"yaxis\":\"y7\"},{\"marker\":{\"color\":\"#39B185\",\"line\":{\"color\":\"black\",\"width\":1},\"opacity\":0.5,\"size\":12,\"symbol\":\"square\"},\"name\":\"SKESA\",\"opacity\":0.6,\"showlegend\":false,\"type\":\"scatter\",\"x\":[86],\"xaxis\":\"x7\",\"y\":[0.9322181476938676],\"yaxis\":\"y7\"},{\"marker\":{\"color\":\"#39B185\",\"line\":{\"color\":\"black\",\"width\":1},\"opacity\":0.5,\"size\":12,\"symbol\":\"diamond\"},\"name\":\"SKESA\",\"opacity\":0.6,\"showlegend\":false,\"type\":\"scatter\",\"x\":[86],\"xaxis\":\"x7\",\"y\":[0.9224167114095017],\"yaxis\":\"y7\"},{\"marker\":{\"color\":\"#39B185\",\"line\":{\"color\":\"black\",\"width\":1},\"opacity\":0.5,\"size\":12,\"symbol\":\"circle\"},\"name\":\"SKESA\",\"opacity\":0.6,\"showlegend\":false,\"type\":\"scatter\",\"x\":[94],\"xaxis\":\"x7\",\"y\":[0.9314035919180532],\"yaxis\":\"y7\"},{\"marker\":{\"color\":\"#39B185\",\"line\":{\"color\":\"black\",\"width\":1},\"opacity\":0.5,\"size\":12,\"symbol\":\"square\"},\"name\":\"SKESA\",\"opacity\":0.6,\"showlegend\":false,\"type\":\"scatter\",\"x\":[86],\"xaxis\":\"x7\",\"y\":[0.9322181476938676],\"yaxis\":\"y7\"},{\"marker\":{\"color\":\"#39B185\",\"line\":{\"color\":\"black\",\"width\":1},\"opacity\":0.5,\"size\":12,\"symbol\":\"diamond\"},\"name\":\"SKESA\",\"opacity\":0.6,\"showlegend\":false,\"type\":\"scatter\",\"x\":[86],\"xaxis\":\"x7\",\"y\":[0.9224167114095017],\"yaxis\":\"y7\"},{\"marker\":{\"color\":\"#9CCB86\",\"line\":{\"color\":\"black\",\"width\":1},\"opacity\":0.5,\"size\":12,\"symbol\":\"circle\"},\"name\":\"metaSPAdes\",\"opacity\":0.6,\"showlegend\":false,\"type\":\"scatter\",\"x\":[80],\"xaxis\":\"x7\",\"y\":[0.9424761970742124],\"yaxis\":\"y7\"},{\"marker\":{\"color\":\"#9CCB86\",\"line\":{\"color\":\"black\",\"width\":1},\"opacity\":0.5,\"size\":12,\"symbol\":\"square\"},\"name\":\"metaSPAdes\",\"opacity\":0.6,\"showlegend\":false,\"type\":\"scatter\",\"x\":[78],\"xaxis\":\"x7\",\"y\":[0.9428425372362732],\"yaxis\":\"y7\"},{\"marker\":{\"color\":\"#9CCB86\",\"line\":{\"color\":\"black\",\"width\":1},\"opacity\":0.5,\"size\":12,\"symbol\":\"diamond\"},\"name\":\"metaSPAdes\",\"opacity\":0.6,\"showlegend\":false,\"type\":\"scatter\",\"x\":[95],\"xaxis\":\"x7\",\"y\":[0.9363838237200532],\"yaxis\":\"y7\"},{\"marker\":{\"color\":\"#9CCB86\",\"line\":{\"color\":\"black\",\"width\":1},\"opacity\":0.5,\"size\":12,\"symbol\":\"circle\"},\"name\":\"metaSPAdes\",\"opacity\":0.6,\"showlegend\":false,\"type\":\"scatter\",\"x\":[80],\"xaxis\":\"x7\",\"y\":[0.9424761970742124],\"yaxis\":\"y7\"},{\"marker\":{\"color\":\"#9CCB86\",\"line\":{\"color\":\"black\",\"width\":1},\"opacity\":0.5,\"size\":12,\"symbol\":\"square\"},\"name\":\"metaSPAdes\",\"opacity\":0.6,\"showlegend\":false,\"type\":\"scatter\",\"x\":[78],\"xaxis\":\"x7\",\"y\":[0.9428425372362732],\"yaxis\":\"y7\"},{\"marker\":{\"color\":\"#9CCB86\",\"line\":{\"color\":\"black\",\"width\":1},\"opacity\":0.5,\"size\":12,\"symbol\":\"diamond\"},\"name\":\"metaSPAdes\",\"opacity\":0.6,\"showlegend\":false,\"type\":\"scatter\",\"x\":[95],\"xaxis\":\"x7\",\"y\":[0.9363838237200532],\"yaxis\":\"y7\"},{\"marker\":{\"color\":\"#9CCB86\",\"line\":{\"color\":\"black\",\"width\":1},\"opacity\":0.5,\"size\":12,\"symbol\":\"circle\"},\"name\":\"metaSPAdes\",\"opacity\":0.6,\"showlegend\":false,\"type\":\"scatter\",\"x\":[80],\"xaxis\":\"x7\",\"y\":[0.9424761970742124],\"yaxis\":\"y7\"},{\"marker\":{\"color\":\"#9CCB86\",\"line\":{\"color\":\"black\",\"width\":1},\"opacity\":0.5,\"size\":12,\"symbol\":\"square\"},\"name\":\"metaSPAdes\",\"opacity\":0.6,\"showlegend\":false,\"type\":\"scatter\",\"x\":[78],\"xaxis\":\"x7\",\"y\":[0.9428425372362732],\"yaxis\":\"y7\"},{\"marker\":{\"color\":\"#9CCB86\",\"line\":{\"color\":\"black\",\"width\":1},\"opacity\":0.5,\"size\":12,\"symbol\":\"diamond\"},\"name\":\"metaSPAdes\",\"opacity\":0.6,\"showlegend\":false,\"type\":\"scatter\",\"x\":[95],\"xaxis\":\"x7\",\"y\":[0.9363838237200532],\"yaxis\":\"y7\"},{\"marker\":{\"color\":\"#EEB479\",\"line\":{\"color\":\"black\",\"width\":1},\"opacity\":0.5,\"size\":12,\"symbol\":\"circle\"},\"name\":\"MEGAHIT\",\"opacity\":0.6,\"showlegend\":false,\"type\":\"scatter\",\"x\":[82],\"xaxis\":\"x7\",\"y\":[0.9491170309861846],\"yaxis\":\"y7\"},{\"marker\":{\"color\":\"#EEB479\",\"line\":{\"color\":\"black\",\"width\":1},\"opacity\":0.5,\"size\":12,\"symbol\":\"square\"},\"name\":\"MEGAHIT\",\"opacity\":0.6,\"showlegend\":false,\"type\":\"scatter\",\"x\":[81],\"xaxis\":\"x7\",\"y\":[0.9485585984182292],\"yaxis\":\"y7\"},{\"marker\":{\"color\":\"#EEB479\",\"line\":{\"color\":\"black\",\"width\":1},\"opacity\":0.5,\"size\":12,\"symbol\":\"diamond\"},\"name\":\"MEGAHIT\",\"opacity\":0.6,\"showlegend\":false,\"type\":\"scatter\",\"x\":[88],\"xaxis\":\"x7\",\"y\":[0.9487412436566206],\"yaxis\":\"y7\"},{\"marker\":{\"color\":\"#EEB479\",\"line\":{\"color\":\"black\",\"width\":1},\"opacity\":0.5,\"size\":12,\"symbol\":\"circle\"},\"name\":\"MEGAHIT\",\"opacity\":0.6,\"showlegend\":false,\"type\":\"scatter\",\"x\":[82],\"xaxis\":\"x7\",\"y\":[0.949177387889676],\"yaxis\":\"y7\"},{\"marker\":{\"color\":\"#EEB479\",\"line\":{\"color\":\"black\",\"width\":1},\"opacity\":0.5,\"size\":12,\"symbol\":\"square\"},\"name\":\"MEGAHIT\",\"opacity\":0.6,\"showlegend\":false,\"type\":\"scatter\",\"x\":[81],\"xaxis\":\"x7\",\"y\":[0.9484405088244418],\"yaxis\":\"y7\"},{\"marker\":{\"color\":\"#EEB479\",\"line\":{\"color\":\"black\",\"width\":1},\"opacity\":0.5,\"size\":12,\"symbol\":\"diamond\"},\"name\":\"MEGAHIT\",\"opacity\":0.6,\"showlegend\":false,\"type\":\"scatter\",\"x\":[88],\"xaxis\":\"x7\",\"y\":[0.9487842807530232],\"yaxis\":\"y7\"},{\"marker\":{\"color\":\"#EEB479\",\"line\":{\"color\":\"black\",\"width\":1},\"opacity\":0.5,\"size\":12,\"symbol\":\"circle\"},\"name\":\"MEGAHIT\",\"opacity\":0.6,\"showlegend\":false,\"type\":\"scatter\",\"x\":[82],\"xaxis\":\"x7\",\"y\":[0.9492010058084336],\"yaxis\":\"y7\"},{\"marker\":{\"color\":\"#EEB479\",\"line\":{\"color\":\"black\",\"width\":1},\"opacity\":0.5,\"size\":12,\"symbol\":\"square\"},\"name\":\"MEGAHIT\",\"opacity\":0.6,\"showlegend\":false,\"type\":\"scatter\",\"x\":[81],\"xaxis\":\"x7\",\"y\":[0.9482940777281452],\"yaxis\":\"y7\"},{\"marker\":{\"color\":\"#EEB479\",\"line\":{\"color\":\"black\",\"width\":1},\"opacity\":0.5,\"size\":12,\"symbol\":\"diamond\"},\"name\":\"MEGAHIT\",\"opacity\":0.6,\"showlegend\":false,\"type\":\"scatter\",\"x\":[88],\"xaxis\":\"x7\",\"y\":[0.9487443927124549],\"yaxis\":\"y7\"},{\"marker\":{\"color\":\"#E88471\",\"line\":{\"color\":\"black\",\"width\":1},\"opacity\":0.5,\"size\":12,\"symbol\":\"circle\"},\"name\":\"IDBA-UD\",\"opacity\":0.6,\"showlegend\":false,\"type\":\"scatter\",\"x\":[89],\"xaxis\":\"x7\",\"y\":[0.938483194276276],\"yaxis\":\"y7\"},{\"marker\":{\"color\":\"#E88471\",\"line\":{\"color\":\"black\",\"width\":1},\"opacity\":0.5,\"size\":12,\"symbol\":\"square\"},\"name\":\"IDBA-UD\",\"opacity\":0.6,\"showlegend\":false,\"type\":\"scatter\",\"x\":[88],\"xaxis\":\"x7\",\"y\":[0.9394777710772868],\"yaxis\":\"y7\"},{\"marker\":{\"color\":\"#E88471\",\"line\":{\"color\":\"black\",\"width\":1},\"opacity\":0.5,\"size\":12,\"symbol\":\"diamond\"},\"name\":\"IDBA-UD\",\"opacity\":0.6,\"showlegend\":false,\"type\":\"scatter\",\"x\":[171],\"xaxis\":\"x7\",\"y\":[0.933998938768184],\"yaxis\":\"y7\"},{\"marker\":{\"color\":\"#E88471\",\"line\":{\"color\":\"black\",\"width\":1},\"opacity\":0.5,\"size\":12,\"symbol\":\"circle\"},\"name\":\"IDBA-UD\",\"opacity\":0.6,\"showlegend\":false,\"type\":\"scatter\",\"x\":[89],\"xaxis\":\"x7\",\"y\":[0.938483194276276],\"yaxis\":\"y7\"},{\"marker\":{\"color\":\"#E88471\",\"line\":{\"color\":\"black\",\"width\":1},\"opacity\":0.5,\"size\":12,\"symbol\":\"square\"},\"name\":\"IDBA-UD\",\"opacity\":0.6,\"showlegend\":false,\"type\":\"scatter\",\"x\":[88],\"xaxis\":\"x7\",\"y\":[0.9393497094733572],\"yaxis\":\"y7\"},{\"marker\":{\"color\":\"#E88471\",\"line\":{\"color\":\"black\",\"width\":1},\"opacity\":0.5,\"size\":12,\"symbol\":\"diamond\"},\"name\":\"IDBA-UD\",\"opacity\":0.6,\"showlegend\":false,\"type\":\"scatter\",\"x\":[171],\"xaxis\":\"x7\",\"y\":[0.9339994636108228],\"yaxis\":\"y7\"},{\"marker\":{\"color\":\"#E88471\",\"line\":{\"color\":\"black\",\"width\":1},\"opacity\":0.5,\"size\":12,\"symbol\":\"circle\"},\"name\":\"IDBA-UD\",\"opacity\":0.6,\"showlegend\":false,\"type\":\"scatter\",\"x\":[89],\"xaxis\":\"x7\",\"y\":[0.93858658827617],\"yaxis\":\"y7\"},{\"marker\":{\"color\":\"#E88471\",\"line\":{\"color\":\"black\",\"width\":1},\"opacity\":0.5,\"size\":12,\"symbol\":\"square\"},\"name\":\"IDBA-UD\",\"opacity\":0.6,\"showlegend\":false,\"type\":\"scatter\",\"x\":[88],\"xaxis\":\"x7\",\"y\":[0.9393916968844817],\"yaxis\":\"y7\"},{\"marker\":{\"color\":\"#E88471\",\"line\":{\"color\":\"black\",\"width\":1},\"opacity\":0.5,\"size\":12,\"symbol\":\"diamond\"},\"name\":\"IDBA-UD\",\"opacity\":0.6,\"showlegend\":false,\"type\":\"scatter\",\"x\":[171],\"xaxis\":\"x7\",\"y\":[0.933998938768184],\"yaxis\":\"y7\"},{\"marker\":{\"color\":\"#a54765\",\"line\":{\"color\":\"black\",\"width\":1},\"opacity\":0.5,\"size\":12,\"symbol\":\"circle\"},\"name\":\"GATBMiniaPipeline\",\"opacity\":0.6,\"showlegend\":false,\"type\":\"scatter\",\"x\":[89],\"xaxis\":\"x7\",\"y\":[0.9406077572791738],\"yaxis\":\"y7\"},{\"marker\":{\"color\":\"#a54765\",\"line\":{\"color\":\"black\",\"width\":1},\"opacity\":0.5,\"size\":12,\"symbol\":\"square\"},\"name\":\"GATBMiniaPipeline\",\"opacity\":0.6,\"showlegend\":false,\"type\":\"scatter\",\"x\":[89],\"xaxis\":\"x7\",\"y\":[0.9439378838239824],\"yaxis\":\"y7\"},{\"marker\":{\"color\":\"#a54765\",\"line\":{\"color\":\"black\",\"width\":1},\"opacity\":0.5,\"size\":12,\"symbol\":\"diamond\"},\"name\":\"GATBMiniaPipeline\",\"opacity\":0.6,\"showlegend\":false,\"type\":\"scatter\",\"x\":[83],\"xaxis\":\"x7\",\"y\":[0.9431915575912452],\"yaxis\":\"y7\"},{\"marker\":{\"color\":\"#a54765\",\"line\":{\"color\":\"black\",\"width\":1},\"opacity\":0.5,\"size\":12,\"symbol\":\"circle\"},\"name\":\"GATBMiniaPipeline\",\"opacity\":0.6,\"showlegend\":false,\"type\":\"scatter\",\"x\":[89],\"xaxis\":\"x7\",\"y\":[0.9407095767511506],\"yaxis\":\"y7\"},{\"marker\":{\"color\":\"#a54765\",\"line\":{\"color\":\"black\",\"width\":1},\"opacity\":0.5,\"size\":12,\"symbol\":\"square\"},\"name\":\"GATBMiniaPipeline\",\"opacity\":0.6,\"showlegend\":false,\"type\":\"scatter\",\"x\":[89],\"xaxis\":\"x7\",\"y\":[0.9438995703113314],\"yaxis\":\"y7\"},{\"marker\":{\"color\":\"#a54765\",\"line\":{\"color\":\"black\",\"width\":1},\"opacity\":0.5,\"size\":12,\"symbol\":\"diamond\"},\"name\":\"GATBMiniaPipeline\",\"opacity\":0.6,\"showlegend\":false,\"type\":\"scatter\",\"x\":[83],\"xaxis\":\"x7\",\"y\":[0.9432230481495886],\"yaxis\":\"y7\"},{\"marker\":{\"color\":\"#a54765\",\"line\":{\"color\":\"black\",\"width\":1},\"opacity\":0.5,\"size\":12,\"symbol\":\"circle\"},\"name\":\"GATBMiniaPipeline\",\"opacity\":0.6,\"showlegend\":false,\"type\":\"scatter\",\"x\":[89],\"xaxis\":\"x7\",\"y\":[0.9406072324365348],\"yaxis\":\"y7\"},{\"marker\":{\"color\":\"#a54765\",\"line\":{\"color\":\"black\",\"width\":1},\"opacity\":0.5,\"size\":12,\"symbol\":\"square\"},\"name\":\"GATBMiniaPipeline\",\"opacity\":0.6,\"showlegend\":false,\"type\":\"scatter\",\"x\":[89],\"xaxis\":\"x7\",\"y\":[0.9438386885652008],\"yaxis\":\"y7\"},{\"marker\":{\"color\":\"#a54765\",\"line\":{\"color\":\"black\",\"width\":1},\"opacity\":0.5,\"size\":12,\"symbol\":\"diamond\"},\"name\":\"GATBMiniaPipeline\",\"opacity\":0.6,\"showlegend\":false,\"type\":\"scatter\",\"x\":[83],\"xaxis\":\"x7\",\"y\":[0.943273433042938],\"yaxis\":\"y7\"},{\"marker\":{\"color\":\"#5876c8\",\"line\":{\"color\":\"black\",\"width\":1},\"opacity\":0.5,\"size\":12,\"symbol\":\"circle\"},\"name\":\"Unicycler\",\"opacity\":0.6,\"showlegend\":false,\"type\":\"scatter\",\"x\":[16],\"xaxis\":\"x2\",\"y\":[0.9740156706686602],\"yaxis\":\"y2\"},{\"marker\":{\"color\":\"#5876c8\",\"line\":{\"color\":\"black\",\"width\":1},\"opacity\":0.5,\"size\":12,\"symbol\":\"square\"},\"name\":\"Unicycler\",\"opacity\":0.6,\"showlegend\":false,\"type\":\"scatter\",\"x\":[16],\"xaxis\":\"x2\",\"y\":[0.9870466009567088],\"yaxis\":\"y2\"},{\"marker\":{\"color\":\"#5876c8\",\"line\":{\"color\":\"black\",\"width\":1},\"opacity\":0.5,\"size\":12,\"symbol\":\"diamond\"},\"name\":\"Unicycler\",\"opacity\":0.6,\"showlegend\":false,\"type\":\"scatter\",\"x\":[17],\"xaxis\":\"x2\",\"y\":[0.9743237905292912],\"yaxis\":\"y2\"},{\"marker\":{\"color\":\"#5876c8\",\"line\":{\"color\":\"black\",\"width\":1},\"opacity\":0.5,\"size\":12,\"symbol\":\"circle\"},\"name\":\"Unicycler\",\"opacity\":0.6,\"showlegend\":false,\"type\":\"scatter\",\"x\":[16],\"xaxis\":\"x2\",\"y\":[0.9740156706686602],\"yaxis\":\"y2\"},{\"marker\":{\"color\":\"#5876c8\",\"line\":{\"color\":\"black\",\"width\":1},\"opacity\":0.5,\"size\":12,\"symbol\":\"square\"},\"name\":\"Unicycler\",\"opacity\":0.6,\"showlegend\":false,\"type\":\"scatter\",\"x\":[16],\"xaxis\":\"x2\",\"y\":[0.9870466009567088],\"yaxis\":\"y2\"},{\"marker\":{\"color\":\"#5876c8\",\"line\":{\"color\":\"black\",\"width\":1},\"opacity\":0.5,\"size\":12,\"symbol\":\"diamond\"},\"name\":\"Unicycler\",\"opacity\":0.6,\"showlegend\":false,\"type\":\"scatter\",\"x\":[17],\"xaxis\":\"x2\",\"y\":[0.9743237905292912],\"yaxis\":\"y2\"},{\"marker\":{\"color\":\"#5876c8\",\"line\":{\"color\":\"black\",\"width\":1},\"opacity\":0.5,\"size\":12,\"symbol\":\"circle\"},\"name\":\"Unicycler\",\"opacity\":0.6,\"showlegend\":false,\"type\":\"scatter\",\"x\":[16],\"xaxis\":\"x2\",\"y\":[0.9740156706686602],\"yaxis\":\"y2\"},{\"marker\":{\"color\":\"#5876c8\",\"line\":{\"color\":\"black\",\"width\":1},\"opacity\":0.5,\"size\":12,\"symbol\":\"square\"},\"name\":\"Unicycler\",\"opacity\":0.6,\"showlegend\":false,\"type\":\"scatter\",\"x\":[16],\"xaxis\":\"x2\",\"y\":[0.9870466009567088],\"yaxis\":\"y2\"},{\"marker\":{\"color\":\"#5876c8\",\"line\":{\"color\":\"black\",\"width\":1},\"opacity\":0.5,\"size\":12,\"symbol\":\"diamond\"},\"name\":\"Unicycler\",\"opacity\":0.6,\"showlegend\":false,\"type\":\"scatter\",\"x\":[17],\"xaxis\":\"x2\",\"y\":[0.9743237905292912],\"yaxis\":\"y2\"},{\"marker\":{\"color\":\"#58AEC8\",\"line\":{\"color\":\"black\",\"width\":1},\"opacity\":0.5,\"size\":12,\"symbol\":\"circle\"},\"name\":\"SPAdes\",\"opacity\":0.6,\"showlegend\":false,\"type\":\"scatter\",\"x\":[16],\"xaxis\":\"x2\",\"y\":[0.9747655849498488],\"yaxis\":\"y2\"},{\"marker\":{\"color\":\"#58AEC8\",\"line\":{\"color\":\"black\",\"width\":1},\"opacity\":0.5,\"size\":12,\"symbol\":\"square\"},\"name\":\"SPAdes\",\"opacity\":0.6,\"showlegend\":false,\"type\":\"scatter\",\"x\":[20],\"xaxis\":\"x2\",\"y\":[0.9884398240575444],\"yaxis\":\"y2\"},{\"marker\":{\"color\":\"#58AEC8\",\"line\":{\"color\":\"black\",\"width\":1},\"opacity\":0.5,\"size\":12,\"symbol\":\"diamond\"},\"name\":\"SPAdes\",\"opacity\":0.6,\"showlegend\":false,\"type\":\"scatter\",\"x\":[37],\"xaxis\":\"x2\",\"y\":[0.9839897979575865],\"yaxis\":\"y2\"},{\"marker\":{\"color\":\"#58AEC8\",\"line\":{\"color\":\"black\",\"width\":1},\"opacity\":0.5,\"size\":12,\"symbol\":\"circle\"},\"name\":\"SPAdes\",\"opacity\":0.6,\"showlegend\":false,\"type\":\"scatter\",\"x\":[16],\"xaxis\":\"x2\",\"y\":[0.9747655849498488],\"yaxis\":\"y2\"},{\"marker\":{\"color\":\"#58AEC8\",\"line\":{\"color\":\"black\",\"width\":1},\"opacity\":0.5,\"size\":12,\"symbol\":\"square\"},\"name\":\"SPAdes\",\"opacity\":0.6,\"showlegend\":false,\"type\":\"scatter\",\"x\":[20],\"xaxis\":\"x2\",\"y\":[0.9884398240575444],\"yaxis\":\"y2\"},{\"marker\":{\"color\":\"#58AEC8\",\"line\":{\"color\":\"black\",\"width\":1},\"opacity\":0.5,\"size\":12,\"symbol\":\"diamond\"},\"name\":\"SPAdes\",\"opacity\":0.6,\"showlegend\":false,\"type\":\"scatter\",\"x\":[37],\"xaxis\":\"x2\",\"y\":[0.9839897979575865],\"yaxis\":\"y2\"},{\"marker\":{\"color\":\"#58AEC8\",\"line\":{\"color\":\"black\",\"width\":1},\"opacity\":0.5,\"size\":12,\"symbol\":\"circle\"},\"name\":\"SPAdes\",\"opacity\":0.6,\"showlegend\":false,\"type\":\"scatter\",\"x\":[16],\"xaxis\":\"x2\",\"y\":[0.9747655849498488],\"yaxis\":\"y2\"},{\"marker\":{\"color\":\"#58AEC8\",\"line\":{\"color\":\"black\",\"width\":1},\"opacity\":0.5,\"size\":12,\"symbol\":\"square\"},\"name\":\"SPAdes\",\"opacity\":0.6,\"showlegend\":false,\"type\":\"scatter\",\"x\":[20],\"xaxis\":\"x2\",\"y\":[0.9884398240575444],\"yaxis\":\"y2\"},{\"marker\":{\"color\":\"#58AEC8\",\"line\":{\"color\":\"black\",\"width\":1},\"opacity\":0.5,\"size\":12,\"symbol\":\"diamond\"},\"name\":\"SPAdes\",\"opacity\":0.6,\"showlegend\":false,\"type\":\"scatter\",\"x\":[37],\"xaxis\":\"x2\",\"y\":[0.9839897979575865],\"yaxis\":\"y2\"},{\"marker\":{\"color\":\"#39B185\",\"line\":{\"color\":\"black\",\"width\":1},\"opacity\":0.5,\"size\":12,\"symbol\":\"circle\"},\"name\":\"SKESA\",\"opacity\":0.6,\"showlegend\":false,\"type\":\"scatter\",\"x\":[24],\"xaxis\":\"x2\",\"y\":[0.9724894413806978],\"yaxis\":\"y2\"},{\"marker\":{\"color\":\"#39B185\",\"line\":{\"color\":\"black\",\"width\":1},\"opacity\":0.5,\"size\":12,\"symbol\":\"square\"},\"name\":\"SKESA\",\"opacity\":0.6,\"showlegend\":false,\"type\":\"scatter\",\"x\":[19],\"xaxis\":\"x2\",\"y\":[0.9730909769003676],\"yaxis\":\"y2\"},{\"marker\":{\"color\":\"#39B185\",\"line\":{\"color\":\"black\",\"width\":1},\"opacity\":0.5,\"size\":12,\"symbol\":\"diamond\"},\"name\":\"SKESA\",\"opacity\":0.6,\"showlegend\":false,\"type\":\"scatter\",\"x\":[31],\"xaxis\":\"x2\",\"y\":[0.973864952602343],\"yaxis\":\"y2\"},{\"marker\":{\"color\":\"#39B185\",\"line\":{\"color\":\"black\",\"width\":1},\"opacity\":0.5,\"size\":12,\"symbol\":\"circle\"},\"name\":\"SKESA\",\"opacity\":0.6,\"showlegend\":false,\"type\":\"scatter\",\"x\":[24],\"xaxis\":\"x2\",\"y\":[0.9724894413806978],\"yaxis\":\"y2\"},{\"marker\":{\"color\":\"#39B185\",\"line\":{\"color\":\"black\",\"width\":1},\"opacity\":0.5,\"size\":12,\"symbol\":\"square\"},\"name\":\"SKESA\",\"opacity\":0.6,\"showlegend\":false,\"type\":\"scatter\",\"x\":[19],\"xaxis\":\"x2\",\"y\":[0.9730909769003676],\"yaxis\":\"y2\"},{\"marker\":{\"color\":\"#39B185\",\"line\":{\"color\":\"black\",\"width\":1},\"opacity\":0.5,\"size\":12,\"symbol\":\"diamond\"},\"name\":\"SKESA\",\"opacity\":0.6,\"showlegend\":false,\"type\":\"scatter\",\"x\":[31],\"xaxis\":\"x2\",\"y\":[0.973864952602343],\"yaxis\":\"y2\"},{\"marker\":{\"color\":\"#39B185\",\"line\":{\"color\":\"black\",\"width\":1},\"opacity\":0.5,\"size\":12,\"symbol\":\"circle\"},\"name\":\"SKESA\",\"opacity\":0.6,\"showlegend\":false,\"type\":\"scatter\",\"x\":[24],\"xaxis\":\"x2\",\"y\":[0.9724894413806978],\"yaxis\":\"y2\"},{\"marker\":{\"color\":\"#39B185\",\"line\":{\"color\":\"black\",\"width\":1},\"opacity\":0.5,\"size\":12,\"symbol\":\"square\"},\"name\":\"SKESA\",\"opacity\":0.6,\"showlegend\":false,\"type\":\"scatter\",\"x\":[19],\"xaxis\":\"x2\",\"y\":[0.9730909769003676],\"yaxis\":\"y2\"},{\"marker\":{\"color\":\"#39B185\",\"line\":{\"color\":\"black\",\"width\":1},\"opacity\":0.5,\"size\":12,\"symbol\":\"diamond\"},\"name\":\"SKESA\",\"opacity\":0.6,\"showlegend\":false,\"type\":\"scatter\",\"x\":[31],\"xaxis\":\"x2\",\"y\":[0.973864952602343],\"yaxis\":\"y2\"},{\"marker\":{\"color\":\"#9CCB86\",\"line\":{\"color\":\"black\",\"width\":1},\"opacity\":0.5,\"size\":12,\"symbol\":\"circle\"},\"name\":\"metaSPAdes\",\"opacity\":0.6,\"showlegend\":false,\"type\":\"scatter\",\"x\":[16],\"xaxis\":\"x2\",\"y\":[0.9769037095358752],\"yaxis\":\"y2\"},{\"marker\":{\"color\":\"#9CCB86\",\"line\":{\"color\":\"black\",\"width\":1},\"opacity\":0.5,\"size\":12,\"symbol\":\"square\"},\"name\":\"metaSPAdes\",\"opacity\":0.6,\"showlegend\":false,\"type\":\"scatter\",\"x\":[13],\"xaxis\":\"x2\",\"y\":[0.9895947722553105],\"yaxis\":\"y2\"},{\"marker\":{\"color\":\"#9CCB86\",\"line\":{\"color\":\"black\",\"width\":1},\"opacity\":0.5,\"size\":12,\"symbol\":\"diamond\"},\"name\":\"metaSPAdes\",\"opacity\":0.6,\"showlegend\":false,\"type\":\"scatter\",\"x\":[25],\"xaxis\":\"x2\",\"y\":[0.9761086800907116],\"yaxis\":\"y2\"},{\"marker\":{\"color\":\"#9CCB86\",\"line\":{\"color\":\"black\",\"width\":1},\"opacity\":0.5,\"size\":12,\"symbol\":\"circle\"},\"name\":\"metaSPAdes\",\"opacity\":0.6,\"showlegend\":false,\"type\":\"scatter\",\"x\":[16],\"xaxis\":\"x2\",\"y\":[0.9769037095358752],\"yaxis\":\"y2\"},{\"marker\":{\"color\":\"#9CCB86\",\"line\":{\"color\":\"black\",\"width\":1},\"opacity\":0.5,\"size\":12,\"symbol\":\"square\"},\"name\":\"metaSPAdes\",\"opacity\":0.6,\"showlegend\":false,\"type\":\"scatter\",\"x\":[13],\"xaxis\":\"x2\",\"y\":[0.9895947722553105],\"yaxis\":\"y2\"},{\"marker\":{\"color\":\"#9CCB86\",\"line\":{\"color\":\"black\",\"width\":1},\"opacity\":0.5,\"size\":12,\"symbol\":\"diamond\"},\"name\":\"metaSPAdes\",\"opacity\":0.6,\"showlegend\":false,\"type\":\"scatter\",\"x\":[25],\"xaxis\":\"x2\",\"y\":[0.9761086800907116],\"yaxis\":\"y2\"},{\"marker\":{\"color\":\"#9CCB86\",\"line\":{\"color\":\"black\",\"width\":1},\"opacity\":0.5,\"size\":12,\"symbol\":\"circle\"},\"name\":\"metaSPAdes\",\"opacity\":0.6,\"showlegend\":false,\"type\":\"scatter\",\"x\":[16],\"xaxis\":\"x2\",\"y\":[0.9769037095358752],\"yaxis\":\"y2\"},{\"marker\":{\"color\":\"#9CCB86\",\"line\":{\"color\":\"black\",\"width\":1},\"opacity\":0.5,\"size\":12,\"symbol\":\"square\"},\"name\":\"metaSPAdes\",\"opacity\":0.6,\"showlegend\":false,\"type\":\"scatter\",\"x\":[13],\"xaxis\":\"x2\",\"y\":[0.9895947722553105],\"yaxis\":\"y2\"},{\"marker\":{\"color\":\"#9CCB86\",\"line\":{\"color\":\"black\",\"width\":1},\"opacity\":0.5,\"size\":12,\"symbol\":\"diamond\"},\"name\":\"metaSPAdes\",\"opacity\":0.6,\"showlegend\":false,\"type\":\"scatter\",\"x\":[25],\"xaxis\":\"x2\",\"y\":[0.9761086800907116],\"yaxis\":\"y2\"},{\"marker\":{\"color\":\"#EEB479\",\"line\":{\"color\":\"black\",\"width\":1},\"opacity\":0.5,\"size\":12,\"symbol\":\"circle\"},\"name\":\"MEGAHIT\",\"opacity\":0.6,\"showlegend\":false,\"type\":\"scatter\",\"x\":[20],\"xaxis\":\"x2\",\"y\":[0.9895837441041164],\"yaxis\":\"y2\"},{\"marker\":{\"color\":\"#EEB479\",\"line\":{\"color\":\"black\",\"width\":1},\"opacity\":0.5,\"size\":12,\"symbol\":\"square\"},\"name\":\"MEGAHIT\",\"opacity\":0.6,\"showlegend\":false,\"type\":\"scatter\",\"x\":[19],\"xaxis\":\"x2\",\"y\":[0.9775811053683034],\"yaxis\":\"y2\"},{\"marker\":{\"color\":\"#EEB479\",\"line\":{\"color\":\"black\",\"width\":1},\"opacity\":0.5,\"size\":12,\"symbol\":\"diamond\"},\"name\":\"MEGAHIT\",\"opacity\":0.6,\"showlegend\":false,\"type\":\"scatter\",\"x\":[18],\"xaxis\":\"x2\",\"y\":[0.9772930366916616],\"yaxis\":\"y2\"},{\"marker\":{\"color\":\"#EEB479\",\"line\":{\"color\":\"black\",\"width\":1},\"opacity\":0.5,\"size\":12,\"symbol\":\"circle\"},\"name\":\"MEGAHIT\",\"opacity\":0.6,\"showlegend\":false,\"type\":\"scatter\",\"x\":[20],\"xaxis\":\"x2\",\"y\":[0.9895640271065272],\"yaxis\":\"y2\"},{\"marker\":{\"color\":\"#EEB479\",\"line\":{\"color\":\"black\",\"width\":1},\"opacity\":0.5,\"size\":12,\"symbol\":\"square\"},\"name\":\"MEGAHIT\",\"opacity\":0.6,\"showlegend\":false,\"type\":\"scatter\",\"x\":[20],\"xaxis\":\"x2\",\"y\":[0.9894403781385952],\"yaxis\":\"y2\"},{\"marker\":{\"color\":\"#EEB479\",\"line\":{\"color\":\"black\",\"width\":1},\"opacity\":0.5,\"size\":12,\"symbol\":\"diamond\"},\"name\":\"MEGAHIT\",\"opacity\":0.6,\"showlegend\":false,\"type\":\"scatter\",\"x\":[19],\"xaxis\":\"x2\",\"y\":[0.9891523094619532],\"yaxis\":\"y2\"},{\"marker\":{\"color\":\"#EEB479\",\"line\":{\"color\":\"black\",\"width\":1},\"opacity\":0.5,\"size\":12,\"symbol\":\"circle\"},\"name\":\"MEGAHIT\",\"opacity\":0.6,\"showlegend\":false,\"type\":\"scatter\",\"x\":[19],\"xaxis\":\"x2\",\"y\":[0.9777234687746252],\"yaxis\":\"y2\"},{\"marker\":{\"color\":\"#EEB479\",\"line\":{\"color\":\"black\",\"width\":1},\"opacity\":0.5,\"size\":12,\"symbol\":\"square\"},\"name\":\"MEGAHIT\",\"opacity\":0.6,\"showlegend\":false,\"type\":\"scatter\",\"x\":[19],\"xaxis\":\"x2\",\"y\":[0.9776248837866794],\"yaxis\":\"y2\"},{\"marker\":{\"color\":\"#EEB479\",\"line\":{\"color\":\"black\",\"width\":1},\"opacity\":0.5,\"size\":12,\"symbol\":\"diamond\"},\"name\":\"MEGAHIT\",\"opacity\":0.6,\"showlegend\":false,\"type\":\"scatter\",\"x\":[19],\"xaxis\":\"x2\",\"y\":[0.9891523094619532],\"yaxis\":\"y2\"},{\"marker\":{\"color\":\"#E88471\",\"line\":{\"color\":\"black\",\"width\":1},\"opacity\":0.5,\"size\":12,\"symbol\":\"circle\"},\"name\":\"IDBA-UD\",\"opacity\":0.6,\"showlegend\":false,\"type\":\"scatter\",\"x\":[26],\"xaxis\":\"x2\",\"y\":[0.9866372226169337],\"yaxis\":\"y2\"},{\"marker\":{\"color\":\"#E88471\",\"line\":{\"color\":\"black\",\"width\":1},\"opacity\":0.5,\"size\":12,\"symbol\":\"square\"},\"name\":\"IDBA-UD\",\"opacity\":0.6,\"showlegend\":false,\"type\":\"scatter\",\"x\":[25],\"xaxis\":\"x2\",\"y\":[0.9747298270050684],\"yaxis\":\"y2\"},{\"marker\":{\"color\":\"#E88471\",\"line\":{\"color\":\"black\",\"width\":1},\"opacity\":0.5,\"size\":12,\"symbol\":\"diamond\"},\"name\":\"IDBA-UD\",\"opacity\":0.6,\"showlegend\":false,\"type\":\"scatter\",\"x\":[171],\"xaxis\":\"x2\",\"y\":[0.9743084179548996],\"yaxis\":\"y2\"},{\"marker\":{\"color\":\"#E88471\",\"line\":{\"color\":\"black\",\"width\":1},\"opacity\":0.5,\"size\":12,\"symbol\":\"circle\"},\"name\":\"IDBA-UD\",\"opacity\":0.6,\"showlegend\":false,\"type\":\"scatter\",\"x\":[26],\"xaxis\":\"x2\",\"y\":[0.9866372226169337],\"yaxis\":\"y2\"},{\"marker\":{\"color\":\"#E88471\",\"line\":{\"color\":\"black\",\"width\":1},\"opacity\":0.5,\"size\":12,\"symbol\":\"square\"},\"name\":\"IDBA-UD\",\"opacity\":0.6,\"showlegend\":false,\"type\":\"scatter\",\"x\":[25],\"xaxis\":\"x2\",\"y\":[0.9747298270050684],\"yaxis\":\"y2\"},{\"marker\":{\"color\":\"#E88471\",\"line\":{\"color\":\"black\",\"width\":1},\"opacity\":0.5,\"size\":12,\"symbol\":\"diamond\"},\"name\":\"IDBA-UD\",\"opacity\":0.6,\"showlegend\":false,\"type\":\"scatter\",\"x\":[171],\"xaxis\":\"x2\",\"y\":[0.9743084179548996],\"yaxis\":\"y2\"},{\"marker\":{\"color\":\"#E88471\",\"line\":{\"color\":\"black\",\"width\":1},\"opacity\":0.5,\"size\":12,\"symbol\":\"circle\"},\"name\":\"IDBA-UD\",\"opacity\":0.6,\"showlegend\":false,\"type\":\"scatter\",\"x\":[26],\"xaxis\":\"x2\",\"y\":[0.9866372226169337],\"yaxis\":\"y2\"},{\"marker\":{\"color\":\"#E88471\",\"line\":{\"color\":\"black\",\"width\":1},\"opacity\":0.5,\"size\":12,\"symbol\":\"square\"},\"name\":\"IDBA-UD\",\"opacity\":0.6,\"showlegend\":false,\"type\":\"scatter\",\"x\":[25],\"xaxis\":\"x2\",\"y\":[0.9747298270050684],\"yaxis\":\"y2\"},{\"marker\":{\"color\":\"#E88471\",\"line\":{\"color\":\"black\",\"width\":1},\"opacity\":0.5,\"size\":12,\"symbol\":\"diamond\"},\"name\":\"IDBA-UD\",\"opacity\":0.6,\"showlegend\":false,\"type\":\"scatter\",\"x\":[171],\"xaxis\":\"x2\",\"y\":[0.9743084179548996],\"yaxis\":\"y2\"},{\"marker\":{\"color\":\"#a54765\",\"line\":{\"color\":\"black\",\"width\":1},\"opacity\":0.5,\"size\":12,\"symbol\":\"circle\"},\"name\":\"GATBMiniaPipeline\",\"opacity\":0.6,\"showlegend\":false,\"type\":\"scatter\",\"x\":[20],\"xaxis\":\"x2\",\"y\":[0.9862442194107492],\"yaxis\":\"y2\"},{\"marker\":{\"color\":\"#a54765\",\"line\":{\"color\":\"black\",\"width\":1},\"opacity\":0.5,\"size\":12,\"symbol\":\"square\"},\"name\":\"GATBMiniaPipeline\",\"opacity\":0.6,\"showlegend\":false,\"type\":\"scatter\",\"x\":[20],\"xaxis\":\"x2\",\"y\":[0.987434257180496],\"yaxis\":\"y2\"},{\"marker\":{\"color\":\"#a54765\",\"line\":{\"color\":\"black\",\"width\":1},\"opacity\":0.5,\"size\":12,\"symbol\":\"diamond\"},\"name\":\"GATBMiniaPipeline\",\"opacity\":0.6,\"showlegend\":false,\"type\":\"scatter\",\"x\":[24],\"xaxis\":\"x2\",\"y\":[0.988414425891158],\"yaxis\":\"y2\"},{\"marker\":{\"color\":\"#a54765\",\"line\":{\"color\":\"black\",\"width\":1},\"opacity\":0.5,\"size\":12,\"symbol\":\"circle\"},\"name\":\"GATBMiniaPipeline\",\"opacity\":0.6,\"showlegend\":false,\"type\":\"scatter\",\"x\":[19],\"xaxis\":\"x2\",\"y\":[0.9743575433556726],\"yaxis\":\"y2\"},{\"marker\":{\"color\":\"#a54765\",\"line\":{\"color\":\"black\",\"width\":1},\"opacity\":0.5,\"size\":12,\"symbol\":\"square\"},\"name\":\"GATBMiniaPipeline\",\"opacity\":0.6,\"showlegend\":false,\"type\":\"scatter\",\"x\":[19],\"xaxis\":\"x2\",\"y\":[0.9755896886117964],\"yaxis\":\"y2\"},{\"marker\":{\"color\":\"#a54765\",\"line\":{\"color\":\"black\",\"width\":1},\"opacity\":0.5,\"size\":12,\"symbol\":\"diamond\"},\"name\":\"GATBMiniaPipeline\",\"opacity\":0.6,\"showlegend\":false,\"type\":\"scatter\",\"x\":[23],\"xaxis\":\"x2\",\"y\":[0.9765511428840687],\"yaxis\":\"y2\"},{\"marker\":{\"color\":\"#a54765\",\"line\":{\"color\":\"black\",\"width\":1},\"opacity\":0.5,\"size\":12,\"symbol\":\"circle\"},\"name\":\"GATBMiniaPipeline\",\"opacity\":0.6,\"showlegend\":false,\"type\":\"scatter\",\"x\":[20],\"xaxis\":\"x2\",\"y\":[0.9862442194107492],\"yaxis\":\"y2\"},{\"marker\":{\"color\":\"#a54765\",\"line\":{\"color\":\"black\",\"width\":1},\"opacity\":0.5,\"size\":12,\"symbol\":\"square\"},\"name\":\"GATBMiniaPipeline\",\"opacity\":0.6,\"showlegend\":false,\"type\":\"scatter\",\"x\":[19],\"xaxis\":\"x2\",\"y\":[0.9755743160374049],\"yaxis\":\"y2\"},{\"marker\":{\"color\":\"#a54765\",\"line\":{\"color\":\"black\",\"width\":1},\"opacity\":0.5,\"size\":12,\"symbol\":\"diamond\"},\"name\":\"GATBMiniaPipeline\",\"opacity\":0.6,\"showlegend\":false,\"type\":\"scatter\",\"x\":[24],\"xaxis\":\"x2\",\"y\":[0.988414425891158],\"yaxis\":\"y2\"},{\"marker\":{\"color\":\"#5876c8\",\"line\":{\"color\":\"black\",\"width\":1},\"opacity\":0.5,\"size\":12,\"symbol\":\"circle\"},\"name\":\"Unicycler\",\"opacity\":0.6,\"showlegend\":false,\"type\":\"scatter\",\"x\":[77],\"xaxis\":\"x4\",\"y\":[0.9870233042269736],\"yaxis\":\"y4\"},{\"marker\":{\"color\":\"#5876c8\",\"line\":{\"color\":\"black\",\"width\":1},\"opacity\":0.5,\"size\":12,\"symbol\":\"square\"},\"name\":\"Unicycler\",\"opacity\":0.6,\"showlegend\":false,\"type\":\"scatter\",\"x\":[60],\"xaxis\":\"x4\",\"y\":[0.9898850615326404],\"yaxis\":\"y4\"},{\"marker\":{\"color\":\"#5876c8\",\"line\":{\"color\":\"black\",\"width\":1},\"opacity\":0.5,\"size\":12,\"symbol\":\"diamond\"},\"name\":\"Unicycler\",\"opacity\":0.6,\"showlegend\":false,\"type\":\"scatter\",\"x\":[65],\"xaxis\":\"x4\",\"y\":[0.9884684636936072],\"yaxis\":\"y4\"},{\"marker\":{\"color\":\"#5876c8\",\"line\":{\"color\":\"black\",\"width\":1},\"opacity\":0.5,\"size\":12,\"symbol\":\"circle\"},\"name\":\"Unicycler\",\"opacity\":0.6,\"showlegend\":false,\"type\":\"scatter\",\"x\":[77],\"xaxis\":\"x4\",\"y\":[0.9870233042269736],\"yaxis\":\"y4\"},{\"marker\":{\"color\":\"#5876c8\",\"line\":{\"color\":\"black\",\"width\":1},\"opacity\":0.5,\"size\":12,\"symbol\":\"square\"},\"name\":\"Unicycler\",\"opacity\":0.6,\"showlegend\":false,\"type\":\"scatter\",\"x\":[60],\"xaxis\":\"x4\",\"y\":[0.9898850615326404],\"yaxis\":\"y4\"},{\"marker\":{\"color\":\"#5876c8\",\"line\":{\"color\":\"black\",\"width\":1},\"opacity\":0.5,\"size\":12,\"symbol\":\"diamond\"},\"name\":\"Unicycler\",\"opacity\":0.6,\"showlegend\":false,\"type\":\"scatter\",\"x\":[65],\"xaxis\":\"x4\",\"y\":[0.9884684636936072],\"yaxis\":\"y4\"},{\"marker\":{\"color\":\"#5876c8\",\"line\":{\"color\":\"black\",\"width\":1},\"opacity\":0.5,\"size\":12,\"symbol\":\"circle\"},\"name\":\"Unicycler\",\"opacity\":0.6,\"showlegend\":false,\"type\":\"scatter\",\"x\":[77],\"xaxis\":\"x4\",\"y\":[0.9870233042269736],\"yaxis\":\"y4\"},{\"marker\":{\"color\":\"#5876c8\",\"line\":{\"color\":\"black\",\"width\":1},\"opacity\":0.5,\"size\":12,\"symbol\":\"square\"},\"name\":\"Unicycler\",\"opacity\":0.6,\"showlegend\":false,\"type\":\"scatter\",\"x\":[60],\"xaxis\":\"x4\",\"y\":[0.9898850615326404],\"yaxis\":\"y4\"},{\"marker\":{\"color\":\"#5876c8\",\"line\":{\"color\":\"black\",\"width\":1},\"opacity\":0.5,\"size\":12,\"symbol\":\"diamond\"},\"name\":\"Unicycler\",\"opacity\":0.6,\"showlegend\":false,\"type\":\"scatter\",\"x\":[65],\"xaxis\":\"x4\",\"y\":[0.9884684636936072],\"yaxis\":\"y4\"},{\"marker\":{\"color\":\"#58AEC8\",\"line\":{\"color\":\"black\",\"width\":1},\"opacity\":0.5,\"size\":12,\"symbol\":\"circle\"},\"name\":\"SPAdes\",\"opacity\":0.6,\"showlegend\":false,\"type\":\"scatter\",\"x\":[67],\"xaxis\":\"x4\",\"y\":[0.9888649403076706],\"yaxis\":\"y4\"},{\"marker\":{\"color\":\"#58AEC8\",\"line\":{\"color\":\"black\",\"width\":1},\"opacity\":0.5,\"size\":12,\"symbol\":\"square\"},\"name\":\"SPAdes\",\"opacity\":0.6,\"showlegend\":false,\"type\":\"scatter\",\"x\":[63],\"xaxis\":\"x4\",\"y\":[0.990659758875084],\"yaxis\":\"y4\"},{\"marker\":{\"color\":\"#58AEC8\",\"line\":{\"color\":\"black\",\"width\":1},\"opacity\":0.5,\"size\":12,\"symbol\":\"diamond\"},\"name\":\"SPAdes\",\"opacity\":0.6,\"showlegend\":false,\"type\":\"scatter\",\"x\":[79],\"xaxis\":\"x4\",\"y\":[0.9890982917496648],\"yaxis\":\"y4\"},{\"marker\":{\"color\":\"#58AEC8\",\"line\":{\"color\":\"black\",\"width\":1},\"opacity\":0.5,\"size\":12,\"symbol\":\"circle\"},\"name\":\"SPAdes\",\"opacity\":0.6,\"showlegend\":false,\"type\":\"scatter\",\"x\":[67],\"xaxis\":\"x4\",\"y\":[0.9888649403076706],\"yaxis\":\"y4\"},{\"marker\":{\"color\":\"#58AEC8\",\"line\":{\"color\":\"black\",\"width\":1},\"opacity\":0.5,\"size\":12,\"symbol\":\"square\"},\"name\":\"SPAdes\",\"opacity\":0.6,\"showlegend\":false,\"type\":\"scatter\",\"x\":[63],\"xaxis\":\"x4\",\"y\":[0.990659758875084],\"yaxis\":\"y4\"},{\"marker\":{\"color\":\"#58AEC8\",\"line\":{\"color\":\"black\",\"width\":1},\"opacity\":0.5,\"size\":12,\"symbol\":\"diamond\"},\"name\":\"SPAdes\",\"opacity\":0.6,\"showlegend\":false,\"type\":\"scatter\",\"x\":[79],\"xaxis\":\"x4\",\"y\":[0.9890982917496648],\"yaxis\":\"y4\"},{\"marker\":{\"color\":\"#58AEC8\",\"line\":{\"color\":\"black\",\"width\":1},\"opacity\":0.5,\"size\":12,\"symbol\":\"circle\"},\"name\":\"SPAdes\",\"opacity\":0.6,\"showlegend\":false,\"type\":\"scatter\",\"x\":[67],\"xaxis\":\"x4\",\"y\":[0.9888649403076706],\"yaxis\":\"y4\"},{\"marker\":{\"color\":\"#58AEC8\",\"line\":{\"color\":\"black\",\"width\":1},\"opacity\":0.5,\"size\":12,\"symbol\":\"square\"},\"name\":\"SPAdes\",\"opacity\":0.6,\"showlegend\":false,\"type\":\"scatter\",\"x\":[63],\"xaxis\":\"x4\",\"y\":[0.990659758875084],\"yaxis\":\"y4\"},{\"marker\":{\"color\":\"#58AEC8\",\"line\":{\"color\":\"black\",\"width\":1},\"opacity\":0.5,\"size\":12,\"symbol\":\"diamond\"},\"name\":\"SPAdes\",\"opacity\":0.6,\"showlegend\":false,\"type\":\"scatter\",\"x\":[79],\"xaxis\":\"x4\",\"y\":[0.9890982917496648],\"yaxis\":\"y4\"},{\"marker\":{\"color\":\"#39B185\",\"line\":{\"color\":\"black\",\"width\":1},\"opacity\":0.5,\"size\":12,\"symbol\":\"circle\"},\"name\":\"SKESA\",\"opacity\":0.6,\"showlegend\":false,\"type\":\"scatter\",\"x\":[933],\"xaxis\":\"x4\",\"y\":[0.9636581261511146],\"yaxis\":\"y4\"},{\"marker\":{\"color\":\"#39B185\",\"line\":{\"color\":\"black\",\"width\":1},\"opacity\":0.5,\"size\":12,\"symbol\":\"square\"},\"name\":\"SKESA\",\"opacity\":0.6,\"showlegend\":false,\"type\":\"scatter\",\"x\":[303],\"xaxis\":\"x4\",\"y\":[0.9825201366835828],\"yaxis\":\"y4\"},{\"marker\":{\"color\":\"#39B185\",\"line\":{\"color\":\"black\",\"width\":1},\"opacity\":0.5,\"size\":12,\"symbol\":\"diamond\"},\"name\":\"SKESA\",\"opacity\":0.6,\"showlegend\":false,\"type\":\"scatter\",\"x\":[117],\"xaxis\":\"x4\",\"y\":[0.9819474318827266],\"yaxis\":\"y4\"},{\"marker\":{\"color\":\"#39B185\",\"line\":{\"color\":\"black\",\"width\":1},\"opacity\":0.5,\"size\":12,\"symbol\":\"circle\"},\"name\":\"SKESA\",\"opacity\":0.6,\"showlegend\":false,\"type\":\"scatter\",\"x\":[933],\"xaxis\":\"x4\",\"y\":[0.9636581261511146],\"yaxis\":\"y4\"},{\"marker\":{\"color\":\"#39B185\",\"line\":{\"color\":\"black\",\"width\":1},\"opacity\":0.5,\"size\":12,\"symbol\":\"square\"},\"name\":\"SKESA\",\"opacity\":0.6,\"showlegend\":false,\"type\":\"scatter\",\"x\":[303],\"xaxis\":\"x4\",\"y\":[0.9825201366835828],\"yaxis\":\"y4\"},{\"marker\":{\"color\":\"#39B185\",\"line\":{\"color\":\"black\",\"width\":1},\"opacity\":0.5,\"size\":12,\"symbol\":\"diamond\"},\"name\":\"SKESA\",\"opacity\":0.6,\"showlegend\":false,\"type\":\"scatter\",\"x\":[117],\"xaxis\":\"x4\",\"y\":[0.9819474318827266],\"yaxis\":\"y4\"},{\"marker\":{\"color\":\"#39B185\",\"line\":{\"color\":\"black\",\"width\":1},\"opacity\":0.5,\"size\":12,\"symbol\":\"circle\"},\"name\":\"SKESA\",\"opacity\":0.6,\"showlegend\":false,\"type\":\"scatter\",\"x\":[933],\"xaxis\":\"x4\",\"y\":[0.9636581261511146],\"yaxis\":\"y4\"},{\"marker\":{\"color\":\"#39B185\",\"line\":{\"color\":\"black\",\"width\":1},\"opacity\":0.5,\"size\":12,\"symbol\":\"square\"},\"name\":\"SKESA\",\"opacity\":0.6,\"showlegend\":false,\"type\":\"scatter\",\"x\":[303],\"xaxis\":\"x4\",\"y\":[0.9825201366835828],\"yaxis\":\"y4\"},{\"marker\":{\"color\":\"#39B185\",\"line\":{\"color\":\"black\",\"width\":1},\"opacity\":0.5,\"size\":12,\"symbol\":\"diamond\"},\"name\":\"SKESA\",\"opacity\":0.6,\"showlegend\":false,\"type\":\"scatter\",\"x\":[117],\"xaxis\":\"x4\",\"y\":[0.9819474318827266],\"yaxis\":\"y4\"},{\"marker\":{\"color\":\"#9CCB86\",\"line\":{\"color\":\"black\",\"width\":1},\"opacity\":0.5,\"size\":12,\"symbol\":\"circle\"},\"name\":\"metaSPAdes\",\"opacity\":0.6,\"showlegend\":false,\"type\":\"scatter\",\"x\":[56],\"xaxis\":\"x4\",\"y\":[0.9902710851799016],\"yaxis\":\"y4\"},{\"marker\":{\"color\":\"#9CCB86\",\"line\":{\"color\":\"black\",\"width\":1},\"opacity\":0.5,\"size\":12,\"symbol\":\"square\"},\"name\":\"metaSPAdes\",\"opacity\":0.6,\"showlegend\":false,\"type\":\"scatter\",\"x\":[57],\"xaxis\":\"x4\",\"y\":[0.9903647202064682],\"yaxis\":\"y4\"},{\"marker\":{\"color\":\"#9CCB86\",\"line\":{\"color\":\"black\",\"width\":1},\"opacity\":0.5,\"size\":12,\"symbol\":\"diamond\"},\"name\":\"metaSPAdes\",\"opacity\":0.6,\"showlegend\":false,\"type\":\"scatter\",\"x\":[100],\"xaxis\":\"x4\",\"y\":[0.989599739706404],\"yaxis\":\"y4\"},{\"marker\":{\"color\":\"#9CCB86\",\"line\":{\"color\":\"black\",\"width\":1},\"opacity\":0.5,\"size\":12,\"symbol\":\"circle\"},\"name\":\"metaSPAdes\",\"opacity\":0.6,\"showlegend\":false,\"type\":\"scatter\",\"x\":[56],\"xaxis\":\"x4\",\"y\":[0.9902710851799016],\"yaxis\":\"y4\"},{\"marker\":{\"color\":\"#9CCB86\",\"line\":{\"color\":\"black\",\"width\":1},\"opacity\":0.5,\"size\":12,\"symbol\":\"square\"},\"name\":\"metaSPAdes\",\"opacity\":0.6,\"showlegend\":false,\"type\":\"scatter\",\"x\":[57],\"xaxis\":\"x4\",\"y\":[0.9903647202064682],\"yaxis\":\"y4\"},{\"marker\":{\"color\":\"#9CCB86\",\"line\":{\"color\":\"black\",\"width\":1},\"opacity\":0.5,\"size\":12,\"symbol\":\"diamond\"},\"name\":\"metaSPAdes\",\"opacity\":0.6,\"showlegend\":false,\"type\":\"scatter\",\"x\":[100],\"xaxis\":\"x4\",\"y\":[0.989599739706404],\"yaxis\":\"y4\"},{\"marker\":{\"color\":\"#9CCB86\",\"line\":{\"color\":\"black\",\"width\":1},\"opacity\":0.5,\"size\":12,\"symbol\":\"circle\"},\"name\":\"metaSPAdes\",\"opacity\":0.6,\"showlegend\":false,\"type\":\"scatter\",\"x\":[56],\"xaxis\":\"x4\",\"y\":[0.9902710851799016],\"yaxis\":\"y4\"},{\"marker\":{\"color\":\"#9CCB86\",\"line\":{\"color\":\"black\",\"width\":1},\"opacity\":0.5,\"size\":12,\"symbol\":\"square\"},\"name\":\"metaSPAdes\",\"opacity\":0.6,\"showlegend\":false,\"type\":\"scatter\",\"x\":[57],\"xaxis\":\"x4\",\"y\":[0.9903647202064682],\"yaxis\":\"y4\"},{\"marker\":{\"color\":\"#9CCB86\",\"line\":{\"color\":\"black\",\"width\":1},\"opacity\":0.5,\"size\":12,\"symbol\":\"diamond\"},\"name\":\"metaSPAdes\",\"opacity\":0.6,\"showlegend\":false,\"type\":\"scatter\",\"x\":[100],\"xaxis\":\"x4\",\"y\":[0.989599739706404],\"yaxis\":\"y4\"},{\"marker\":{\"color\":\"#EEB479\",\"line\":{\"color\":\"black\",\"width\":1},\"opacity\":0.5,\"size\":12,\"symbol\":\"circle\"},\"name\":\"MEGAHIT\",\"opacity\":0.6,\"showlegend\":false,\"type\":\"scatter\",\"x\":[82],\"xaxis\":\"x4\",\"y\":[0.9908624875410942],\"yaxis\":\"y4\"},{\"marker\":{\"color\":\"#EEB479\",\"line\":{\"color\":\"black\",\"width\":1},\"opacity\":0.5,\"size\":12,\"symbol\":\"square\"},\"name\":\"MEGAHIT\",\"opacity\":0.6,\"showlegend\":false,\"type\":\"scatter\",\"x\":[82],\"xaxis\":\"x4\",\"y\":[0.9910421019002316],\"yaxis\":\"y4\"},{\"marker\":{\"color\":\"#EEB479\",\"line\":{\"color\":\"black\",\"width\":1},\"opacity\":0.5,\"size\":12,\"symbol\":\"diamond\"},\"name\":\"MEGAHIT\",\"opacity\":0.6,\"showlegend\":false,\"type\":\"scatter\",\"x\":[78],\"xaxis\":\"x4\",\"y\":[0.9919784521658987],\"yaxis\":\"y4\"},{\"marker\":{\"color\":\"#EEB479\",\"line\":{\"color\":\"black\",\"width\":1},\"opacity\":0.5,\"size\":12,\"symbol\":\"circle\"},\"name\":\"MEGAHIT\",\"opacity\":0.6,\"showlegend\":false,\"type\":\"scatter\",\"x\":[82],\"xaxis\":\"x4\",\"y\":[0.9908624875410942],\"yaxis\":\"y4\"},{\"marker\":{\"color\":\"#EEB479\",\"line\":{\"color\":\"black\",\"width\":1},\"opacity\":0.5,\"size\":12,\"symbol\":\"square\"},\"name\":\"MEGAHIT\",\"opacity\":0.6,\"showlegend\":false,\"type\":\"scatter\",\"x\":[82],\"xaxis\":\"x4\",\"y\":[0.9910628606089515],\"yaxis\":\"y4\"},{\"marker\":{\"color\":\"#EEB479\",\"line\":{\"color\":\"black\",\"width\":1},\"opacity\":0.5,\"size\":12,\"symbol\":\"diamond\"},\"name\":\"MEGAHIT\",\"opacity\":0.6,\"showlegend\":false,\"type\":\"scatter\",\"x\":[78],\"xaxis\":\"x4\",\"y\":[0.9919992108746188],\"yaxis\":\"y4\"},{\"marker\":{\"color\":\"#EEB479\",\"line\":{\"color\":\"black\",\"width\":1},\"opacity\":0.5,\"size\":12,\"symbol\":\"circle\"},\"name\":\"MEGAHIT\",\"opacity\":0.6,\"showlegend\":false,\"type\":\"scatter\",\"x\":[82],\"xaxis\":\"x4\",\"y\":[0.9908417288323742],\"yaxis\":\"y4\"},{\"marker\":{\"color\":\"#EEB479\",\"line\":{\"color\":\"black\",\"width\":1},\"opacity\":0.5,\"size\":12,\"symbol\":\"square\"},\"name\":\"MEGAHIT\",\"opacity\":0.6,\"showlegend\":false,\"type\":\"scatter\",\"x\":[82],\"xaxis\":\"x4\",\"y\":[0.9910628606089515],\"yaxis\":\"y4\"},{\"marker\":{\"color\":\"#EEB479\",\"line\":{\"color\":\"black\",\"width\":1},\"opacity\":0.5,\"size\":12,\"symbol\":\"diamond\"},\"name\":\"MEGAHIT\",\"opacity\":0.6,\"showlegend\":false,\"type\":\"scatter\",\"x\":[78],\"xaxis\":\"x4\",\"y\":[0.9919992108746188],\"yaxis\":\"y4\"},{\"marker\":{\"color\":\"#E88471\",\"line\":{\"color\":\"black\",\"width\":1},\"opacity\":0.5,\"size\":12,\"symbol\":\"circle\"},\"name\":\"IDBA-UD\",\"opacity\":0.6,\"showlegend\":false,\"type\":\"scatter\",\"x\":[161],\"xaxis\":\"x4\",\"y\":[0.9856602962459128],\"yaxis\":\"y4\"},{\"marker\":{\"color\":\"#E88471\",\"line\":{\"color\":\"black\",\"width\":1},\"opacity\":0.5,\"size\":12,\"symbol\":\"square\"},\"name\":\"IDBA-UD\",\"opacity\":0.6,\"showlegend\":false,\"type\":\"scatter\",\"x\":[164],\"xaxis\":\"x4\",\"y\":[0.9861648359252274],\"yaxis\":\"y4\"},{\"marker\":{\"color\":\"#E88471\",\"line\":{\"color\":\"black\",\"width\":1},\"opacity\":0.5,\"size\":12,\"symbol\":\"diamond\"},\"name\":\"IDBA-UD\",\"opacity\":0.6,\"showlegend\":false,\"type\":\"scatter\",\"x\":[185],\"xaxis\":\"x4\",\"y\":[0.9876996553465452],\"yaxis\":\"y4\"},{\"marker\":{\"color\":\"#E88471\",\"line\":{\"color\":\"black\",\"width\":1},\"opacity\":0.5,\"size\":12,\"symbol\":\"circle\"},\"name\":\"IDBA-UD\",\"opacity\":0.6,\"showlegend\":false,\"type\":\"scatter\",\"x\":[161],\"xaxis\":\"x4\",\"y\":[0.9856602962459128],\"yaxis\":\"y4\"},{\"marker\":{\"color\":\"#E88471\",\"line\":{\"color\":\"black\",\"width\":1},\"opacity\":0.5,\"size\":12,\"symbol\":\"square\"},\"name\":\"IDBA-UD\",\"opacity\":0.6,\"showlegend\":false,\"type\":\"scatter\",\"x\":[164],\"xaxis\":\"x4\",\"y\":[0.9861648359252274],\"yaxis\":\"y4\"},{\"marker\":{\"color\":\"#E88471\",\"line\":{\"color\":\"black\",\"width\":1},\"opacity\":0.5,\"size\":12,\"symbol\":\"diamond\"},\"name\":\"IDBA-UD\",\"opacity\":0.6,\"showlegend\":false,\"type\":\"scatter\",\"x\":[185],\"xaxis\":\"x4\",\"y\":[0.9876996553465452],\"yaxis\":\"y4\"},{\"marker\":{\"color\":\"#E88471\",\"line\":{\"color\":\"black\",\"width\":1},\"opacity\":0.5,\"size\":12,\"symbol\":\"circle\"},\"name\":\"IDBA-UD\",\"opacity\":0.6,\"showlegend\":false,\"type\":\"scatter\",\"x\":[161],\"xaxis\":\"x4\",\"y\":[0.9856602962459128],\"yaxis\":\"y4\"},{\"marker\":{\"color\":\"#E88471\",\"line\":{\"color\":\"black\",\"width\":1},\"opacity\":0.5,\"size\":12,\"symbol\":\"square\"},\"name\":\"IDBA-UD\",\"opacity\":0.6,\"showlegend\":false,\"type\":\"scatter\",\"x\":[164],\"xaxis\":\"x4\",\"y\":[0.9861648359252274],\"yaxis\":\"y4\"},{\"marker\":{\"color\":\"#E88471\",\"line\":{\"color\":\"black\",\"width\":1},\"opacity\":0.5,\"size\":12,\"symbol\":\"diamond\"},\"name\":\"IDBA-UD\",\"opacity\":0.6,\"showlegend\":false,\"type\":\"scatter\",\"x\":[185],\"xaxis\":\"x4\",\"y\":[0.9878797113803364],\"yaxis\":\"y4\"},{\"marker\":{\"color\":\"#a54765\",\"line\":{\"color\":\"black\",\"width\":1},\"opacity\":0.5,\"size\":12,\"symbol\":\"circle\"},\"name\":\"GATBMiniaPipeline\",\"opacity\":0.6,\"showlegend\":false,\"type\":\"scatter\",\"x\":[166],\"xaxis\":\"x4\",\"y\":[0.9870156485329776],\"yaxis\":\"y4\"},{\"marker\":{\"color\":\"#a54765\",\"line\":{\"color\":\"black\",\"width\":1},\"opacity\":0.5,\"size\":12,\"symbol\":\"square\"},\"name\":\"GATBMiniaPipeline\",\"opacity\":0.6,\"showlegend\":false,\"type\":\"scatter\",\"x\":[98],\"xaxis\":\"x4\",\"y\":[0.9888391759528764],\"yaxis\":\"y4\"},{\"marker\":{\"color\":\"#a54765\",\"line\":{\"color\":\"black\",\"width\":1},\"opacity\":0.5,\"size\":12,\"symbol\":\"diamond\"},\"name\":\"GATBMiniaPipeline\",\"opacity\":0.6,\"showlegend\":false,\"type\":\"scatter\",\"x\":[102],\"xaxis\":\"x4\",\"y\":[0.9871686151880136],\"yaxis\":\"y4\"},{\"marker\":{\"color\":\"#a54765\",\"line\":{\"color\":\"black\",\"width\":1},\"opacity\":0.5,\"size\":12,\"symbol\":\"circle\"},\"name\":\"GATBMiniaPipeline\",\"opacity\":0.6,\"showlegend\":false,\"type\":\"scatter\",\"x\":[166],\"xaxis\":\"x4\",\"y\":[0.9870156485329776],\"yaxis\":\"y4\"},{\"marker\":{\"color\":\"#a54765\",\"line\":{\"color\":\"black\",\"width\":1},\"opacity\":0.5,\"size\":12,\"symbol\":\"square\"},\"name\":\"GATBMiniaPipeline\",\"opacity\":0.6,\"showlegend\":false,\"type\":\"scatter\",\"x\":[98],\"xaxis\":\"x4\",\"y\":[0.9888385870533382],\"yaxis\":\"y4\"},{\"marker\":{\"color\":\"#a54765\",\"line\":{\"color\":\"black\",\"width\":1},\"opacity\":0.5,\"size\":12,\"symbol\":\"diamond\"},\"name\":\"GATBMiniaPipeline\",\"opacity\":0.6,\"showlegend\":false,\"type\":\"scatter\",\"x\":[102],\"xaxis\":\"x4\",\"y\":[0.9869935648002968],\"yaxis\":\"y4\"},{\"marker\":{\"color\":\"#a54765\",\"line\":{\"color\":\"black\",\"width\":1},\"opacity\":0.5,\"size\":12,\"symbol\":\"circle\"},\"name\":\"GATBMiniaPipeline\",\"opacity\":0.6,\"showlegend\":false,\"type\":\"scatter\",\"x\":[166],\"xaxis\":\"x4\",\"y\":[0.9870156485329776],\"yaxis\":\"y4\"},{\"marker\":{\"color\":\"#a54765\",\"line\":{\"color\":\"black\",\"width\":1},\"opacity\":0.5,\"size\":12,\"symbol\":\"square\"},\"name\":\"GATBMiniaPipeline\",\"opacity\":0.6,\"showlegend\":false,\"type\":\"scatter\",\"x\":[98],\"xaxis\":\"x4\",\"y\":[0.9888381453786844],\"yaxis\":\"y4\"},{\"marker\":{\"color\":\"#a54765\",\"line\":{\"color\":\"black\",\"width\":1},\"opacity\":0.5,\"size\":12,\"symbol\":\"diamond\"},\"name\":\"GATBMiniaPipeline\",\"opacity\":0.6,\"showlegend\":false,\"type\":\"scatter\",\"x\":[102],\"xaxis\":\"x4\",\"y\":[0.9871588983456341],\"yaxis\":\"y4\"},{\"marker\":{\"color\":\"#5876c8\",\"line\":{\"color\":\"black\",\"width\":1},\"opacity\":0.5,\"size\":12,\"symbol\":\"circle\"},\"name\":\"Unicycler\",\"opacity\":0.6,\"showlegend\":false,\"type\":\"scatter\",\"x\":[89],\"xaxis\":\"x6\",\"y\":[0.9743706912091528],\"yaxis\":\"y6\"},{\"marker\":{\"color\":\"#5876c8\",\"line\":{\"color\":\"black\",\"width\":1},\"opacity\":0.5,\"size\":12,\"symbol\":\"square\"},\"name\":\"Unicycler\",\"opacity\":0.6,\"showlegend\":false,\"type\":\"scatter\",\"x\":[50],\"xaxis\":\"x6\",\"y\":[0.9790682107826764],\"yaxis\":\"y6\"},{\"marker\":{\"color\":\"#5876c8\",\"line\":{\"color\":\"black\",\"width\":1},\"opacity\":0.5,\"size\":12,\"symbol\":\"diamond\"},\"name\":\"Unicycler\",\"opacity\":0.6,\"showlegend\":false,\"type\":\"scatter\",\"x\":[70],\"xaxis\":\"x6\",\"y\":[0.9765497990859175],\"yaxis\":\"y6\"},{\"marker\":{\"color\":\"#5876c8\",\"line\":{\"color\":\"black\",\"width\":1},\"opacity\":0.5,\"size\":12,\"symbol\":\"circle\"},\"name\":\"Unicycler\",\"opacity\":0.6,\"showlegend\":false,\"type\":\"scatter\",\"x\":[89],\"xaxis\":\"x6\",\"y\":[0.9743706912091528],\"yaxis\":\"y6\"},{\"marker\":{\"color\":\"#5876c8\",\"line\":{\"color\":\"black\",\"width\":1},\"opacity\":0.5,\"size\":12,\"symbol\":\"square\"},\"name\":\"Unicycler\",\"opacity\":0.6,\"showlegend\":false,\"type\":\"scatter\",\"x\":[50],\"xaxis\":\"x6\",\"y\":[0.9790682107826764],\"yaxis\":\"y6\"},{\"marker\":{\"color\":\"#5876c8\",\"line\":{\"color\":\"black\",\"width\":1},\"opacity\":0.5,\"size\":12,\"symbol\":\"diamond\"},\"name\":\"Unicycler\",\"opacity\":0.6,\"showlegend\":false,\"type\":\"scatter\",\"x\":[70],\"xaxis\":\"x6\",\"y\":[0.9765497990859175],\"yaxis\":\"y6\"},{\"marker\":{\"color\":\"#5876c8\",\"line\":{\"color\":\"black\",\"width\":1},\"opacity\":0.5,\"size\":12,\"symbol\":\"circle\"},\"name\":\"Unicycler\",\"opacity\":0.6,\"showlegend\":false,\"type\":\"scatter\",\"x\":[89],\"xaxis\":\"x6\",\"y\":[0.9743706912091528],\"yaxis\":\"y6\"},{\"marker\":{\"color\":\"#5876c8\",\"line\":{\"color\":\"black\",\"width\":1},\"opacity\":0.5,\"size\":12,\"symbol\":\"square\"},\"name\":\"Unicycler\",\"opacity\":0.6,\"showlegend\":false,\"type\":\"scatter\",\"x\":[50],\"xaxis\":\"x6\",\"y\":[0.9790682107826764],\"yaxis\":\"y6\"},{\"marker\":{\"color\":\"#5876c8\",\"line\":{\"color\":\"black\",\"width\":1},\"opacity\":0.5,\"size\":12,\"symbol\":\"diamond\"},\"name\":\"Unicycler\",\"opacity\":0.6,\"showlegend\":false,\"type\":\"scatter\",\"x\":[70],\"xaxis\":\"x6\",\"y\":[0.9765497990859175],\"yaxis\":\"y6\"},{\"marker\":{\"color\":\"#58AEC8\",\"line\":{\"color\":\"black\",\"width\":1},\"opacity\":0.5,\"size\":12,\"symbol\":\"circle\"},\"name\":\"SPAdes\",\"opacity\":0.6,\"showlegend\":false,\"type\":\"scatter\",\"x\":[91],\"xaxis\":\"x6\",\"y\":[0.9693809291504212],\"yaxis\":\"y6\"},{\"marker\":{\"color\":\"#58AEC8\",\"line\":{\"color\":\"black\",\"width\":1},\"opacity\":0.5,\"size\":12,\"symbol\":\"square\"},\"name\":\"SPAdes\",\"opacity\":0.6,\"showlegend\":false,\"type\":\"scatter\",\"x\":[60],\"xaxis\":\"x6\",\"y\":[0.9803149159640032],\"yaxis\":\"y6\"},{\"marker\":{\"color\":\"#58AEC8\",\"line\":{\"color\":\"black\",\"width\":1},\"opacity\":0.5,\"size\":12,\"symbol\":\"diamond\"},\"name\":\"SPAdes\",\"opacity\":0.6,\"showlegend\":false,\"type\":\"scatter\",\"x\":[110],\"xaxis\":\"x6\",\"y\":[0.9772796699655822],\"yaxis\":\"y6\"},{\"marker\":{\"color\":\"#58AEC8\",\"line\":{\"color\":\"black\",\"width\":1},\"opacity\":0.5,\"size\":12,\"symbol\":\"circle\"},\"name\":\"SPAdes\",\"opacity\":0.6,\"showlegend\":false,\"type\":\"scatter\",\"x\":[91],\"xaxis\":\"x6\",\"y\":[0.9693809291504212],\"yaxis\":\"y6\"},{\"marker\":{\"color\":\"#58AEC8\",\"line\":{\"color\":\"black\",\"width\":1},\"opacity\":0.5,\"size\":12,\"symbol\":\"square\"},\"name\":\"SPAdes\",\"opacity\":0.6,\"showlegend\":false,\"type\":\"scatter\",\"x\":[60],\"xaxis\":\"x6\",\"y\":[0.9803149159640032],\"yaxis\":\"y6\"},{\"marker\":{\"color\":\"#58AEC8\",\"line\":{\"color\":\"black\",\"width\":1},\"opacity\":0.5,\"size\":12,\"symbol\":\"diamond\"},\"name\":\"SPAdes\",\"opacity\":0.6,\"showlegend\":false,\"type\":\"scatter\",\"x\":[110],\"xaxis\":\"x6\",\"y\":[0.9772796699655822],\"yaxis\":\"y6\"},{\"marker\":{\"color\":\"#58AEC8\",\"line\":{\"color\":\"black\",\"width\":1},\"opacity\":0.5,\"size\":12,\"symbol\":\"circle\"},\"name\":\"SPAdes\",\"opacity\":0.6,\"showlegend\":false,\"type\":\"scatter\",\"x\":[91],\"xaxis\":\"x6\",\"y\":[0.9693809291504212],\"yaxis\":\"y6\"},{\"marker\":{\"color\":\"#58AEC8\",\"line\":{\"color\":\"black\",\"width\":1},\"opacity\":0.5,\"size\":12,\"symbol\":\"square\"},\"name\":\"SPAdes\",\"opacity\":0.6,\"showlegend\":false,\"type\":\"scatter\",\"x\":[60],\"xaxis\":\"x6\",\"y\":[0.9803149159640032],\"yaxis\":\"y6\"},{\"marker\":{\"color\":\"#58AEC8\",\"line\":{\"color\":\"black\",\"width\":1},\"opacity\":0.5,\"size\":12,\"symbol\":\"diamond\"},\"name\":\"SPAdes\",\"opacity\":0.6,\"showlegend\":false,\"type\":\"scatter\",\"x\":[110],\"xaxis\":\"x6\",\"y\":[0.9772796699655822],\"yaxis\":\"y6\"},{\"marker\":{\"color\":\"#39B185\",\"line\":{\"color\":\"black\",\"width\":1},\"opacity\":0.5,\"size\":12,\"symbol\":\"circle\"},\"name\":\"SKESA\",\"opacity\":0.6,\"showlegend\":false,\"type\":\"scatter\",\"x\":[245],\"xaxis\":\"x6\",\"y\":[0.9593946819851312],\"yaxis\":\"y6\"},{\"marker\":{\"color\":\"#39B185\",\"line\":{\"color\":\"black\",\"width\":1},\"opacity\":0.5,\"size\":12,\"symbol\":\"square\"},\"name\":\"SKESA\",\"opacity\":0.6,\"showlegend\":false,\"type\":\"scatter\",\"x\":[157],\"xaxis\":\"x6\",\"y\":[0.9615466875753454],\"yaxis\":\"y6\"},{\"marker\":{\"color\":\"#39B185\",\"line\":{\"color\":\"black\",\"width\":1},\"opacity\":0.5,\"size\":12,\"symbol\":\"diamond\"},\"name\":\"SKESA\",\"opacity\":0.6,\"showlegend\":false,\"type\":\"scatter\",\"x\":[193],\"xaxis\":\"x6\",\"y\":[0.9689739746616732],\"yaxis\":\"y6\"},{\"marker\":{\"color\":\"#39B185\",\"line\":{\"color\":\"black\",\"width\":1},\"opacity\":0.5,\"size\":12,\"symbol\":\"circle\"},\"name\":\"SKESA\",\"opacity\":0.6,\"showlegend\":false,\"type\":\"scatter\",\"x\":[245],\"xaxis\":\"x6\",\"y\":[0.9593946819851312],\"yaxis\":\"y6\"},{\"marker\":{\"color\":\"#39B185\",\"line\":{\"color\":\"black\",\"width\":1},\"opacity\":0.5,\"size\":12,\"symbol\":\"square\"},\"name\":\"SKESA\",\"opacity\":0.6,\"showlegend\":false,\"type\":\"scatter\",\"x\":[157],\"xaxis\":\"x6\",\"y\":[0.9615466875753454],\"yaxis\":\"y6\"},{\"marker\":{\"color\":\"#39B185\",\"line\":{\"color\":\"black\",\"width\":1},\"opacity\":0.5,\"size\":12,\"symbol\":\"diamond\"},\"name\":\"SKESA\",\"opacity\":0.6,\"showlegend\":false,\"type\":\"scatter\",\"x\":[193],\"xaxis\":\"x6\",\"y\":[0.9689739746616732],\"yaxis\":\"y6\"},{\"marker\":{\"color\":\"#39B185\",\"line\":{\"color\":\"black\",\"width\":1},\"opacity\":0.5,\"size\":12,\"symbol\":\"circle\"},\"name\":\"SKESA\",\"opacity\":0.6,\"showlegend\":false,\"type\":\"scatter\",\"x\":[245],\"xaxis\":\"x6\",\"y\":[0.9593946819851312],\"yaxis\":\"y6\"},{\"marker\":{\"color\":\"#39B185\",\"line\":{\"color\":\"black\",\"width\":1},\"opacity\":0.5,\"size\":12,\"symbol\":\"square\"},\"name\":\"SKESA\",\"opacity\":0.6,\"showlegend\":false,\"type\":\"scatter\",\"x\":[157],\"xaxis\":\"x6\",\"y\":[0.9615466875753454],\"yaxis\":\"y6\"},{\"marker\":{\"color\":\"#39B185\",\"line\":{\"color\":\"black\",\"width\":1},\"opacity\":0.5,\"size\":12,\"symbol\":\"diamond\"},\"name\":\"SKESA\",\"opacity\":0.6,\"showlegend\":false,\"type\":\"scatter\",\"x\":[193],\"xaxis\":\"x6\",\"y\":[0.9689739746616732],\"yaxis\":\"y6\"},{\"marker\":{\"color\":\"#9CCB86\",\"line\":{\"color\":\"black\",\"width\":1},\"opacity\":0.5,\"size\":12,\"symbol\":\"circle\"},\"name\":\"metaSPAdes\",\"opacity\":0.6,\"showlegend\":false,\"type\":\"scatter\",\"x\":[56],\"xaxis\":\"x6\",\"y\":[0.9820704718276984],\"yaxis\":\"y6\"},{\"marker\":{\"color\":\"#9CCB86\",\"line\":{\"color\":\"black\",\"width\":1},\"opacity\":0.5,\"size\":12,\"symbol\":\"square\"},\"name\":\"metaSPAdes\",\"opacity\":0.6,\"showlegend\":false,\"type\":\"scatter\",\"x\":[55],\"xaxis\":\"x6\",\"y\":[0.9833602465341638],\"yaxis\":\"y6\"},{\"marker\":{\"color\":\"#9CCB86\",\"line\":{\"color\":\"black\",\"width\":1},\"opacity\":0.5,\"size\":12,\"symbol\":\"diamond\"},\"name\":\"metaSPAdes\",\"opacity\":0.6,\"showlegend\":false,\"type\":\"scatter\",\"x\":[145],\"xaxis\":\"x6\",\"y\":[0.9778992408418432],\"yaxis\":\"y6\"},{\"marker\":{\"color\":\"#9CCB86\",\"line\":{\"color\":\"black\",\"width\":1},\"opacity\":0.5,\"size\":12,\"symbol\":\"circle\"},\"name\":\"metaSPAdes\",\"opacity\":0.6,\"showlegend\":false,\"type\":\"scatter\",\"x\":[56],\"xaxis\":\"x6\",\"y\":[0.9820704718276984],\"yaxis\":\"y6\"},{\"marker\":{\"color\":\"#9CCB86\",\"line\":{\"color\":\"black\",\"width\":1},\"opacity\":0.5,\"size\":12,\"symbol\":\"square\"},\"name\":\"metaSPAdes\",\"opacity\":0.6,\"showlegend\":false,\"type\":\"scatter\",\"x\":[55],\"xaxis\":\"x6\",\"y\":[0.9833602465341638],\"yaxis\":\"y6\"},{\"marker\":{\"color\":\"#9CCB86\",\"line\":{\"color\":\"black\",\"width\":1},\"opacity\":0.5,\"size\":12,\"symbol\":\"diamond\"},\"name\":\"metaSPAdes\",\"opacity\":0.6,\"showlegend\":false,\"type\":\"scatter\",\"x\":[145],\"xaxis\":\"x6\",\"y\":[0.9778992408418432],\"yaxis\":\"y6\"},{\"marker\":{\"color\":\"#9CCB86\",\"line\":{\"color\":\"black\",\"width\":1},\"opacity\":0.5,\"size\":12,\"symbol\":\"circle\"},\"name\":\"metaSPAdes\",\"opacity\":0.6,\"showlegend\":false,\"type\":\"scatter\",\"x\":[56],\"xaxis\":\"x6\",\"y\":[0.9820704718276984],\"yaxis\":\"y6\"},{\"marker\":{\"color\":\"#9CCB86\",\"line\":{\"color\":\"black\",\"width\":1},\"opacity\":0.5,\"size\":12,\"symbol\":\"square\"},\"name\":\"metaSPAdes\",\"opacity\":0.6,\"showlegend\":false,\"type\":\"scatter\",\"x\":[55],\"xaxis\":\"x6\",\"y\":[0.9833602465341638],\"yaxis\":\"y6\"},{\"marker\":{\"color\":\"#9CCB86\",\"line\":{\"color\":\"black\",\"width\":1},\"opacity\":0.5,\"size\":12,\"symbol\":\"diamond\"},\"name\":\"metaSPAdes\",\"opacity\":0.6,\"showlegend\":false,\"type\":\"scatter\",\"x\":[145],\"xaxis\":\"x6\",\"y\":[0.9778992408418432],\"yaxis\":\"y6\"},{\"marker\":{\"color\":\"#EEB479\",\"line\":{\"color\":\"black\",\"width\":1},\"opacity\":0.5,\"size\":12,\"symbol\":\"circle\"},\"name\":\"MEGAHIT\",\"opacity\":0.6,\"showlegend\":false,\"type\":\"scatter\",\"x\":[103],\"xaxis\":\"x6\",\"y\":[0.9810111716045352],\"yaxis\":\"y6\"},{\"marker\":{\"color\":\"#EEB479\",\"line\":{\"color\":\"black\",\"width\":1},\"opacity\":0.5,\"size\":12,\"symbol\":\"square\"},\"name\":\"MEGAHIT\",\"opacity\":0.6,\"showlegend\":false,\"type\":\"scatter\",\"x\":[102],\"xaxis\":\"x6\",\"y\":[0.9814851464763036],\"yaxis\":\"y6\"},{\"marker\":{\"color\":\"#EEB479\",\"line\":{\"color\":\"black\",\"width\":1},\"opacity\":0.5,\"size\":12,\"symbol\":\"diamond\"},\"name\":\"MEGAHIT\",\"opacity\":0.6,\"showlegend\":false,\"type\":\"scatter\",\"x\":[105],\"xaxis\":\"x6\",\"y\":[0.9808735592193364],\"yaxis\":\"y6\"},{\"marker\":{\"color\":\"#EEB479\",\"line\":{\"color\":\"black\",\"width\":1},\"opacity\":0.5,\"size\":12,\"symbol\":\"circle\"},\"name\":\"MEGAHIT\",\"opacity\":0.6,\"showlegend\":false,\"type\":\"scatter\",\"x\":[103],\"xaxis\":\"x6\",\"y\":[0.9810111716045352],\"yaxis\":\"y6\"},{\"marker\":{\"color\":\"#EEB479\",\"line\":{\"color\":\"black\",\"width\":1},\"opacity\":0.5,\"size\":12,\"symbol\":\"square\"},\"name\":\"MEGAHIT\",\"opacity\":0.6,\"showlegend\":false,\"type\":\"scatter\",\"x\":[102],\"xaxis\":\"x6\",\"y\":[0.9814851464763036],\"yaxis\":\"y6\"},{\"marker\":{\"color\":\"#EEB479\",\"line\":{\"color\":\"black\",\"width\":1},\"opacity\":0.5,\"size\":12,\"symbol\":\"diamond\"},\"name\":\"MEGAHIT\",\"opacity\":0.6,\"showlegend\":false,\"type\":\"scatter\",\"x\":[105],\"xaxis\":\"x6\",\"y\":[0.9808735592193364],\"yaxis\":\"y6\"},{\"marker\":{\"color\":\"#EEB479\",\"line\":{\"color\":\"black\",\"width\":1},\"opacity\":0.5,\"size\":12,\"symbol\":\"circle\"},\"name\":\"MEGAHIT\",\"opacity\":0.6,\"showlegend\":false,\"type\":\"scatter\",\"x\":[103],\"xaxis\":\"x6\",\"y\":[0.9810111716045352],\"yaxis\":\"y6\"},{\"marker\":{\"color\":\"#EEB479\",\"line\":{\"color\":\"black\",\"width\":1},\"opacity\":0.5,\"size\":12,\"symbol\":\"square\"},\"name\":\"MEGAHIT\",\"opacity\":0.6,\"showlegend\":false,\"type\":\"scatter\",\"x\":[102],\"xaxis\":\"x6\",\"y\":[0.9814851464763036],\"yaxis\":\"y6\"},{\"marker\":{\"color\":\"#EEB479\",\"line\":{\"color\":\"black\",\"width\":1},\"opacity\":0.5,\"size\":12,\"symbol\":\"diamond\"},\"name\":\"MEGAHIT\",\"opacity\":0.6,\"showlegend\":false,\"type\":\"scatter\",\"x\":[105],\"xaxis\":\"x6\",\"y\":[0.9808735592193364],\"yaxis\":\"y6\"},{\"marker\":{\"color\":\"#E88471\",\"line\":{\"color\":\"black\",\"width\":1},\"opacity\":0.5,\"size\":12,\"symbol\":\"circle\"},\"name\":\"IDBA-UD\",\"opacity\":0.6,\"showlegend\":false,\"type\":\"scatter\",\"x\":[396],\"xaxis\":\"x6\",\"y\":[0.9560898837879164],\"yaxis\":\"y6\"},{\"marker\":{\"color\":\"#E88471\",\"line\":{\"color\":\"black\",\"width\":1},\"opacity\":0.5,\"size\":12,\"symbol\":\"square\"},\"name\":\"IDBA-UD\",\"opacity\":0.6,\"showlegend\":false,\"type\":\"scatter\",\"x\":[386],\"xaxis\":\"x6\",\"y\":[0.9624185828403448],\"yaxis\":\"y6\"},{\"marker\":{\"color\":\"#E88471\",\"line\":{\"color\":\"black\",\"width\":1},\"opacity\":0.5,\"size\":12,\"symbol\":\"diamond\"},\"name\":\"IDBA-UD\",\"opacity\":0.6,\"showlegend\":false,\"type\":\"scatter\",\"x\":[305],\"xaxis\":\"x6\",\"y\":[0.9703761503239878],\"yaxis\":\"y6\"},{\"marker\":{\"color\":\"#E88471\",\"line\":{\"color\":\"black\",\"width\":1},\"opacity\":0.5,\"size\":12,\"symbol\":\"circle\"},\"name\":\"IDBA-UD\",\"opacity\":0.6,\"showlegend\":false,\"type\":\"scatter\",\"x\":[397],\"xaxis\":\"x6\",\"y\":[0.9562846420796404],\"yaxis\":\"y6\"},{\"marker\":{\"color\":\"#E88471\",\"line\":{\"color\":\"black\",\"width\":1},\"opacity\":0.5,\"size\":12,\"symbol\":\"square\"},\"name\":\"IDBA-UD\",\"opacity\":0.6,\"showlegend\":false,\"type\":\"scatter\",\"x\":[386],\"xaxis\":\"x6\",\"y\":[0.9624185828403448],\"yaxis\":\"y6\"},{\"marker\":{\"color\":\"#E88471\",\"line\":{\"color\":\"black\",\"width\":1},\"opacity\":0.5,\"size\":12,\"symbol\":\"diamond\"},\"name\":\"IDBA-UD\",\"opacity\":0.6,\"showlegend\":false,\"type\":\"scatter\",\"x\":[305],\"xaxis\":\"x6\",\"y\":[0.9704061939439624],\"yaxis\":\"y6\"},{\"marker\":{\"color\":\"#E88471\",\"line\":{\"color\":\"black\",\"width\":1},\"opacity\":0.5,\"size\":12,\"symbol\":\"circle\"},\"name\":\"IDBA-UD\",\"opacity\":0.6,\"showlegend\":false,\"type\":\"scatter\",\"x\":[396],\"xaxis\":\"x6\",\"y\":[0.9560898837879164],\"yaxis\":\"y6\"},{\"marker\":{\"color\":\"#E88471\",\"line\":{\"color\":\"black\",\"width\":1},\"opacity\":0.5,\"size\":12,\"symbol\":\"square\"},\"name\":\"IDBA-UD\",\"opacity\":0.6,\"showlegend\":false,\"type\":\"scatter\",\"x\":[386],\"xaxis\":\"x6\",\"y\":[0.9624940070331484],\"yaxis\":\"y6\"},{\"marker\":{\"color\":\"#E88471\",\"line\":{\"color\":\"black\",\"width\":1},\"opacity\":0.5,\"size\":12,\"symbol\":\"diamond\"},\"name\":\"IDBA-UD\",\"opacity\":0.6,\"showlegend\":false,\"type\":\"scatter\",\"x\":[305],\"xaxis\":\"x6\",\"y\":[0.9703345514655614],\"yaxis\":\"y6\"},{\"marker\":{\"color\":\"#a54765\",\"line\":{\"color\":\"black\",\"width\":1},\"opacity\":0.5,\"size\":12,\"symbol\":\"circle\"},\"name\":\"GATBMiniaPipeline\",\"opacity\":0.6,\"showlegend\":false,\"type\":\"scatter\",\"x\":[178],\"xaxis\":\"x6\",\"y\":[0.9756108834378976],\"yaxis\":\"y6\"},{\"marker\":{\"color\":\"#a54765\",\"line\":{\"color\":\"black\",\"width\":1},\"opacity\":0.5,\"size\":12,\"symbol\":\"square\"},\"name\":\"GATBMiniaPipeline\",\"opacity\":0.6,\"showlegend\":false,\"type\":\"scatter\",\"x\":[158],\"xaxis\":\"x6\",\"y\":[0.9774819916861108],\"yaxis\":\"y6\"},{\"marker\":{\"color\":\"#a54765\",\"line\":{\"color\":\"black\",\"width\":1},\"opacity\":0.5,\"size\":12,\"symbol\":\"diamond\"},\"name\":\"GATBMiniaPipeline\",\"opacity\":0.6,\"showlegend\":false,\"type\":\"scatter\",\"x\":[166],\"xaxis\":\"x6\",\"y\":[0.9756260102955072],\"yaxis\":\"y6\"},{\"marker\":{\"color\":\"#a54765\",\"line\":{\"color\":\"black\",\"width\":1},\"opacity\":0.5,\"size\":12,\"symbol\":\"circle\"},\"name\":\"GATBMiniaPipeline\",\"opacity\":0.6,\"showlegend\":false,\"type\":\"scatter\",\"x\":[178],\"xaxis\":\"x6\",\"y\":[0.9756106733426532],\"yaxis\":\"y6\"},{\"marker\":{\"color\":\"#a54765\",\"line\":{\"color\":\"black\",\"width\":1},\"opacity\":0.5,\"size\":12,\"symbol\":\"square\"},\"name\":\"GATBMiniaPipeline\",\"opacity\":0.6,\"showlegend\":false,\"type\":\"scatter\",\"x\":[158],\"xaxis\":\"x6\",\"y\":[0.9774836724480676],\"yaxis\":\"y6\"},{\"marker\":{\"color\":\"#a54765\",\"line\":{\"color\":\"black\",\"width\":1},\"opacity\":0.5,\"size\":12,\"symbol\":\"diamond\"},\"name\":\"GATBMiniaPipeline\",\"opacity\":0.6,\"showlegend\":false,\"type\":\"scatter\",\"x\":[166],\"xaxis\":\"x6\",\"y\":[0.9756497510581448],\"yaxis\":\"y6\"},{\"marker\":{\"color\":\"#a54765\",\"line\":{\"color\":\"black\",\"width\":1},\"opacity\":0.5,\"size\":12,\"symbol\":\"circle\"},\"name\":\"GATBMiniaPipeline\",\"opacity\":0.6,\"showlegend\":false,\"type\":\"scatter\",\"x\":[178],\"xaxis\":\"x6\",\"y\":[0.9756526923915688],\"yaxis\":\"y6\"},{\"marker\":{\"color\":\"#a54765\",\"line\":{\"color\":\"black\",\"width\":1},\"opacity\":0.5,\"size\":12,\"symbol\":\"square\"},\"name\":\"GATBMiniaPipeline\",\"opacity\":0.6,\"showlegend\":false,\"type\":\"scatter\",\"x\":[158],\"xaxis\":\"x6\",\"y\":[0.9774819916861108],\"yaxis\":\"y6\"},{\"marker\":{\"color\":\"#a54765\",\"line\":{\"color\":\"black\",\"width\":1},\"opacity\":0.5,\"size\":12,\"symbol\":\"diamond\"},\"name\":\"GATBMiniaPipeline\",\"opacity\":0.6,\"showlegend\":false,\"type\":\"scatter\",\"x\":[166],\"xaxis\":\"x6\",\"y\":[0.9756287415336868],\"yaxis\":\"y6\"},{\"marker\":{\"color\":\"#5876c8\",\"line\":{\"color\":\"black\",\"width\":1},\"opacity\":0.5,\"size\":12,\"symbol\":\"circle\"},\"name\":\"Unicycler\",\"opacity\":0.6,\"showlegend\":false,\"type\":\"scatter\",\"x\":[25],\"xaxis\":\"x8\",\"y\":[0.9821401510971832],\"yaxis\":\"y8\"},{\"marker\":{\"color\":\"#5876c8\",\"line\":{\"color\":\"black\",\"width\":1},\"opacity\":0.5,\"size\":12,\"symbol\":\"square\"},\"name\":\"Unicycler\",\"opacity\":0.6,\"showlegend\":false,\"type\":\"scatter\",\"x\":[16],\"xaxis\":\"x8\",\"y\":[0.9850892679804912],\"yaxis\":\"y8\"},{\"marker\":{\"color\":\"#5876c8\",\"line\":{\"color\":\"black\",\"width\":1},\"opacity\":0.5,\"size\":12,\"symbol\":\"diamond\"},\"name\":\"Unicycler\",\"opacity\":0.6,\"showlegend\":false,\"type\":\"scatter\",\"x\":[24],\"xaxis\":\"x8\",\"y\":[0.982907039186694],\"yaxis\":\"y8\"},{\"marker\":{\"color\":\"#5876c8\",\"line\":{\"color\":\"black\",\"width\":1},\"opacity\":0.5,\"size\":12,\"symbol\":\"circle\"},\"name\":\"Unicycler\",\"opacity\":0.6,\"showlegend\":false,\"type\":\"scatter\",\"x\":[25],\"xaxis\":\"x8\",\"y\":[0.9821401510971832],\"yaxis\":\"y8\"},{\"marker\":{\"color\":\"#5876c8\",\"line\":{\"color\":\"black\",\"width\":1},\"opacity\":0.5,\"size\":12,\"symbol\":\"square\"},\"name\":\"Unicycler\",\"opacity\":0.6,\"showlegend\":false,\"type\":\"scatter\",\"x\":[16],\"xaxis\":\"x8\",\"y\":[0.9850892679804912],\"yaxis\":\"y8\"},{\"marker\":{\"color\":\"#5876c8\",\"line\":{\"color\":\"black\",\"width\":1},\"opacity\":0.5,\"size\":12,\"symbol\":\"diamond\"},\"name\":\"Unicycler\",\"opacity\":0.6,\"showlegend\":false,\"type\":\"scatter\",\"x\":[24],\"xaxis\":\"x8\",\"y\":[0.982907039186694],\"yaxis\":\"y8\"},{\"marker\":{\"color\":\"#5876c8\",\"line\":{\"color\":\"black\",\"width\":1},\"opacity\":0.5,\"size\":12,\"symbol\":\"circle\"},\"name\":\"Unicycler\",\"opacity\":0.6,\"showlegend\":false,\"type\":\"scatter\",\"x\":[25],\"xaxis\":\"x8\",\"y\":[0.9821401510971832],\"yaxis\":\"y8\"},{\"marker\":{\"color\":\"#5876c8\",\"line\":{\"color\":\"black\",\"width\":1},\"opacity\":0.5,\"size\":12,\"symbol\":\"square\"},\"name\":\"Unicycler\",\"opacity\":0.6,\"showlegend\":false,\"type\":\"scatter\",\"x\":[16],\"xaxis\":\"x8\",\"y\":[0.9850892679804912],\"yaxis\":\"y8\"},{\"marker\":{\"color\":\"#5876c8\",\"line\":{\"color\":\"black\",\"width\":1},\"opacity\":0.5,\"size\":12,\"symbol\":\"diamond\"},\"name\":\"Unicycler\",\"opacity\":0.6,\"showlegend\":false,\"type\":\"scatter\",\"x\":[24],\"xaxis\":\"x8\",\"y\":[0.982907039186694],\"yaxis\":\"y8\"},{\"marker\":{\"color\":\"#58AEC8\",\"line\":{\"color\":\"black\",\"width\":1},\"opacity\":0.5,\"size\":12,\"symbol\":\"circle\"},\"name\":\"SPAdes\",\"opacity\":0.6,\"showlegend\":false,\"type\":\"scatter\",\"x\":[24],\"xaxis\":\"x8\",\"y\":[0.9822295294212844],\"yaxis\":\"y8\"},{\"marker\":{\"color\":\"#58AEC8\",\"line\":{\"color\":\"black\",\"width\":1},\"opacity\":0.5,\"size\":12,\"symbol\":\"square\"},\"name\":\"SPAdes\",\"opacity\":0.6,\"showlegend\":false,\"type\":\"scatter\",\"x\":[21],\"xaxis\":\"x8\",\"y\":[0.9852157953199596],\"yaxis\":\"y8\"},{\"marker\":{\"color\":\"#58AEC8\",\"line\":{\"color\":\"black\",\"width\":1},\"opacity\":0.5,\"size\":12,\"symbol\":\"diamond\"},\"name\":\"SPAdes\",\"opacity\":0.6,\"showlegend\":false,\"type\":\"scatter\",\"x\":[48],\"xaxis\":\"x8\",\"y\":[0.9831435423241308],\"yaxis\":\"y8\"},{\"marker\":{\"color\":\"#58AEC8\",\"line\":{\"color\":\"black\",\"width\":1},\"opacity\":0.5,\"size\":12,\"symbol\":\"circle\"},\"name\":\"SPAdes\",\"opacity\":0.6,\"showlegend\":false,\"type\":\"scatter\",\"x\":[24],\"xaxis\":\"x8\",\"y\":[0.9822295294212844],\"yaxis\":\"y8\"},{\"marker\":{\"color\":\"#58AEC8\",\"line\":{\"color\":\"black\",\"width\":1},\"opacity\":0.5,\"size\":12,\"symbol\":\"square\"},\"name\":\"SPAdes\",\"opacity\":0.6,\"showlegend\":false,\"type\":\"scatter\",\"x\":[21],\"xaxis\":\"x8\",\"y\":[0.9852157953199596],\"yaxis\":\"y8\"},{\"marker\":{\"color\":\"#58AEC8\",\"line\":{\"color\":\"black\",\"width\":1},\"opacity\":0.5,\"size\":12,\"symbol\":\"diamond\"},\"name\":\"SPAdes\",\"opacity\":0.6,\"showlegend\":false,\"type\":\"scatter\",\"x\":[48],\"xaxis\":\"x8\",\"y\":[0.9831435423241308],\"yaxis\":\"y8\"},{\"marker\":{\"color\":\"#58AEC8\",\"line\":{\"color\":\"black\",\"width\":1},\"opacity\":0.5,\"size\":12,\"symbol\":\"circle\"},\"name\":\"SPAdes\",\"opacity\":0.6,\"showlegend\":false,\"type\":\"scatter\",\"x\":[24],\"xaxis\":\"x8\",\"y\":[0.9822295294212844],\"yaxis\":\"y8\"},{\"marker\":{\"color\":\"#58AEC8\",\"line\":{\"color\":\"black\",\"width\":1},\"opacity\":0.5,\"size\":12,\"symbol\":\"square\"},\"name\":\"SPAdes\",\"opacity\":0.6,\"showlegend\":false,\"type\":\"scatter\",\"x\":[21],\"xaxis\":\"x8\",\"y\":[0.9852157953199596],\"yaxis\":\"y8\"},{\"marker\":{\"color\":\"#58AEC8\",\"line\":{\"color\":\"black\",\"width\":1},\"opacity\":0.5,\"size\":12,\"symbol\":\"diamond\"},\"name\":\"SPAdes\",\"opacity\":0.6,\"showlegend\":false,\"type\":\"scatter\",\"x\":[48],\"xaxis\":\"x8\",\"y\":[0.9831435423241308],\"yaxis\":\"y8\"},{\"marker\":{\"color\":\"#39B185\",\"line\":{\"color\":\"black\",\"width\":1},\"opacity\":0.5,\"size\":12,\"symbol\":\"circle\"},\"name\":\"SKESA\",\"opacity\":0.6,\"showlegend\":false,\"type\":\"scatter\",\"x\":[73],\"xaxis\":\"x8\",\"y\":[0.9754470755265228],\"yaxis\":\"y8\"},{\"marker\":{\"color\":\"#39B185\",\"line\":{\"color\":\"black\",\"width\":1},\"opacity\":0.5,\"size\":12,\"symbol\":\"square\"},\"name\":\"SKESA\",\"opacity\":0.6,\"showlegend\":false,\"type\":\"scatter\",\"x\":[63],\"xaxis\":\"x8\",\"y\":[0.979103862761974],\"yaxis\":\"y8\"},{\"marker\":{\"color\":\"#39B185\",\"line\":{\"color\":\"black\",\"width\":1},\"opacity\":0.5,\"size\":12,\"symbol\":\"diamond\"},\"name\":\"SKESA\",\"opacity\":0.6,\"showlegend\":false,\"type\":\"scatter\",\"x\":[69],\"xaxis\":\"x8\",\"y\":[0.9767333142071076],\"yaxis\":\"y8\"},{\"marker\":{\"color\":\"#39B185\",\"line\":{\"color\":\"black\",\"width\":1},\"opacity\":0.5,\"size\":12,\"symbol\":\"circle\"},\"name\":\"SKESA\",\"opacity\":0.6,\"showlegend\":false,\"type\":\"scatter\",\"x\":[73],\"xaxis\":\"x8\",\"y\":[0.9754470755265228],\"yaxis\":\"y8\"},{\"marker\":{\"color\":\"#39B185\",\"line\":{\"color\":\"black\",\"width\":1},\"opacity\":0.5,\"size\":12,\"symbol\":\"square\"},\"name\":\"SKESA\",\"opacity\":0.6,\"showlegend\":false,\"type\":\"scatter\",\"x\":[63],\"xaxis\":\"x8\",\"y\":[0.979103862761974],\"yaxis\":\"y8\"},{\"marker\":{\"color\":\"#39B185\",\"line\":{\"color\":\"black\",\"width\":1},\"opacity\":0.5,\"size\":12,\"symbol\":\"diamond\"},\"name\":\"SKESA\",\"opacity\":0.6,\"showlegend\":false,\"type\":\"scatter\",\"x\":[69],\"xaxis\":\"x8\",\"y\":[0.9767333142071076],\"yaxis\":\"y8\"},{\"marker\":{\"color\":\"#39B185\",\"line\":{\"color\":\"black\",\"width\":1},\"opacity\":0.5,\"size\":12,\"symbol\":\"circle\"},\"name\":\"SKESA\",\"opacity\":0.6,\"showlegend\":false,\"type\":\"scatter\",\"x\":[73],\"xaxis\":\"x8\",\"y\":[0.9754470755265228],\"yaxis\":\"y8\"},{\"marker\":{\"color\":\"#39B185\",\"line\":{\"color\":\"black\",\"width\":1},\"opacity\":0.5,\"size\":12,\"symbol\":\"square\"},\"name\":\"SKESA\",\"opacity\":0.6,\"showlegend\":false,\"type\":\"scatter\",\"x\":[63],\"xaxis\":\"x8\",\"y\":[0.979103862761974],\"yaxis\":\"y8\"},{\"marker\":{\"color\":\"#39B185\",\"line\":{\"color\":\"black\",\"width\":1},\"opacity\":0.5,\"size\":12,\"symbol\":\"diamond\"},\"name\":\"SKESA\",\"opacity\":0.6,\"showlegend\":false,\"type\":\"scatter\",\"x\":[69],\"xaxis\":\"x8\",\"y\":[0.9767333142071076],\"yaxis\":\"y8\"},{\"marker\":{\"color\":\"#9CCB86\",\"line\":{\"color\":\"black\",\"width\":1},\"opacity\":0.5,\"size\":12,\"symbol\":\"circle\"},\"name\":\"metaSPAdes\",\"opacity\":0.6,\"showlegend\":false,\"type\":\"scatter\",\"x\":[19],\"xaxis\":\"x8\",\"y\":[0.9862677377353076],\"yaxis\":\"y8\"},{\"marker\":{\"color\":\"#9CCB86\",\"line\":{\"color\":\"black\",\"width\":1},\"opacity\":0.5,\"size\":12,\"symbol\":\"square\"},\"name\":\"metaSPAdes\",\"opacity\":0.6,\"showlegend\":false,\"type\":\"scatter\",\"x\":[23],\"xaxis\":\"x8\",\"y\":[0.9867153649798808],\"yaxis\":\"y8\"},{\"marker\":{\"color\":\"#9CCB86\",\"line\":{\"color\":\"black\",\"width\":1},\"opacity\":0.5,\"size\":12,\"symbol\":\"diamond\"},\"name\":\"metaSPAdes\",\"opacity\":0.6,\"showlegend\":false,\"type\":\"scatter\",\"x\":[49],\"xaxis\":\"x8\",\"y\":[0.9834940671919022],\"yaxis\":\"y8\"},{\"marker\":{\"color\":\"#9CCB86\",\"line\":{\"color\":\"black\",\"width\":1},\"opacity\":0.5,\"size\":12,\"symbol\":\"circle\"},\"name\":\"metaSPAdes\",\"opacity\":0.6,\"showlegend\":false,\"type\":\"scatter\",\"x\":[19],\"xaxis\":\"x8\",\"y\":[0.9862677377353076],\"yaxis\":\"y8\"},{\"marker\":{\"color\":\"#9CCB86\",\"line\":{\"color\":\"black\",\"width\":1},\"opacity\":0.5,\"size\":12,\"symbol\":\"square\"},\"name\":\"metaSPAdes\",\"opacity\":0.6,\"showlegend\":false,\"type\":\"scatter\",\"x\":[23],\"xaxis\":\"x8\",\"y\":[0.9867153649798808],\"yaxis\":\"y8\"},{\"marker\":{\"color\":\"#9CCB86\",\"line\":{\"color\":\"black\",\"width\":1},\"opacity\":0.5,\"size\":12,\"symbol\":\"diamond\"},\"name\":\"metaSPAdes\",\"opacity\":0.6,\"showlegend\":false,\"type\":\"scatter\",\"x\":[49],\"xaxis\":\"x8\",\"y\":[0.9834940671919022],\"yaxis\":\"y8\"},{\"marker\":{\"color\":\"#9CCB86\",\"line\":{\"color\":\"black\",\"width\":1},\"opacity\":0.5,\"size\":12,\"symbol\":\"circle\"},\"name\":\"metaSPAdes\",\"opacity\":0.6,\"showlegend\":false,\"type\":\"scatter\",\"x\":[19],\"xaxis\":\"x8\",\"y\":[0.9862677377353076],\"yaxis\":\"y8\"},{\"marker\":{\"color\":\"#9CCB86\",\"line\":{\"color\":\"black\",\"width\":1},\"opacity\":0.5,\"size\":12,\"symbol\":\"square\"},\"name\":\"metaSPAdes\",\"opacity\":0.6,\"showlegend\":false,\"type\":\"scatter\",\"x\":[23],\"xaxis\":\"x8\",\"y\":[0.9867153649798808],\"yaxis\":\"y8\"},{\"marker\":{\"color\":\"#9CCB86\",\"line\":{\"color\":\"black\",\"width\":1},\"opacity\":0.5,\"size\":12,\"symbol\":\"diamond\"},\"name\":\"metaSPAdes\",\"opacity\":0.6,\"showlegend\":false,\"type\":\"scatter\",\"x\":[49],\"xaxis\":\"x8\",\"y\":[0.9834940671919022],\"yaxis\":\"y8\"},{\"marker\":{\"color\":\"#EEB479\",\"line\":{\"color\":\"black\",\"width\":1},\"opacity\":0.5,\"size\":12,\"symbol\":\"circle\"},\"name\":\"MEGAHIT\",\"opacity\":0.6,\"showlegend\":false,\"type\":\"scatter\",\"x\":[40],\"xaxis\":\"x8\",\"y\":[0.9862110946821736],\"yaxis\":\"y8\"},{\"marker\":{\"color\":\"#EEB479\",\"line\":{\"color\":\"black\",\"width\":1},\"opacity\":0.5,\"size\":12,\"symbol\":\"square\"},\"name\":\"MEGAHIT\",\"opacity\":0.6,\"showlegend\":false,\"type\":\"scatter\",\"x\":[37],\"xaxis\":\"x8\",\"y\":[0.9861526125688728],\"yaxis\":\"y8\"},{\"marker\":{\"color\":\"#EEB479\",\"line\":{\"color\":\"black\",\"width\":1},\"opacity\":0.5,\"size\":12,\"symbol\":\"diamond\"},\"name\":\"MEGAHIT\",\"opacity\":0.6,\"showlegend\":false,\"type\":\"scatter\",\"x\":[43],\"xaxis\":\"x8\",\"y\":[0.9860448436431046],\"yaxis\":\"y8\"},{\"marker\":{\"color\":\"#EEB479\",\"line\":{\"color\":\"black\",\"width\":1},\"opacity\":0.5,\"size\":12,\"symbol\":\"circle\"},\"name\":\"MEGAHIT\",\"opacity\":0.6,\"showlegend\":false,\"type\":\"scatter\",\"x\":[40],\"xaxis\":\"x8\",\"y\":[0.9862110946821736],\"yaxis\":\"y8\"},{\"marker\":{\"color\":\"#EEB479\",\"line\":{\"color\":\"black\",\"width\":1},\"opacity\":0.5,\"size\":12,\"symbol\":\"square\"},\"name\":\"MEGAHIT\",\"opacity\":0.6,\"showlegend\":false,\"type\":\"scatter\",\"x\":[37],\"xaxis\":\"x8\",\"y\":[0.9861526125688728],\"yaxis\":\"y8\"},{\"marker\":{\"color\":\"#EEB479\",\"line\":{\"color\":\"black\",\"width\":1},\"opacity\":0.5,\"size\":12,\"symbol\":\"diamond\"},\"name\":\"MEGAHIT\",\"opacity\":0.6,\"showlegend\":false,\"type\":\"scatter\",\"x\":[43],\"xaxis\":\"x8\",\"y\":[0.9860448436431046],\"yaxis\":\"y8\"},{\"marker\":{\"color\":\"#EEB479\",\"line\":{\"color\":\"black\",\"width\":1},\"opacity\":0.5,\"size\":12,\"symbol\":\"circle\"},\"name\":\"MEGAHIT\",\"opacity\":0.6,\"showlegend\":false,\"type\":\"scatter\",\"x\":[40],\"xaxis\":\"x8\",\"y\":[0.9862110946821736],\"yaxis\":\"y8\"},{\"marker\":{\"color\":\"#EEB479\",\"line\":{\"color\":\"black\",\"width\":1},\"opacity\":0.5,\"size\":12,\"symbol\":\"square\"},\"name\":\"MEGAHIT\",\"opacity\":0.6,\"showlegend\":false,\"type\":\"scatter\",\"x\":[37],\"xaxis\":\"x8\",\"y\":[0.9861526125688728],\"yaxis\":\"y8\"},{\"marker\":{\"color\":\"#EEB479\",\"line\":{\"color\":\"black\",\"width\":1},\"opacity\":0.5,\"size\":12,\"symbol\":\"diamond\"},\"name\":\"MEGAHIT\",\"opacity\":0.6,\"showlegend\":false,\"type\":\"scatter\",\"x\":[43],\"xaxis\":\"x8\",\"y\":[0.9860448436431046],\"yaxis\":\"y8\"},{\"marker\":{\"color\":\"#E88471\",\"line\":{\"color\":\"black\",\"width\":1},\"opacity\":0.5,\"size\":12,\"symbol\":\"circle\"},\"name\":\"IDBA-UD\",\"opacity\":0.6,\"showlegend\":false,\"type\":\"scatter\",\"x\":[74],\"xaxis\":\"x8\",\"y\":[0.9805177322181272],\"yaxis\":\"y8\"},{\"marker\":{\"color\":\"#E88471\",\"line\":{\"color\":\"black\",\"width\":1},\"opacity\":0.5,\"size\":12,\"symbol\":\"square\"},\"name\":\"IDBA-UD\",\"opacity\":0.6,\"showlegend\":false,\"type\":\"scatter\",\"x\":[72],\"xaxis\":\"x8\",\"y\":[0.9789331979785052],\"yaxis\":\"y8\"},{\"marker\":{\"color\":\"#E88471\",\"line\":{\"color\":\"black\",\"width\":1},\"opacity\":0.5,\"size\":12,\"symbol\":\"diamond\"},\"name\":\"IDBA-UD\",\"opacity\":0.6,\"showlegend\":false,\"type\":\"scatter\",\"x\":[174],\"xaxis\":\"x8\",\"y\":[0.980085920890988],\"yaxis\":\"y8\"},{\"marker\":{\"color\":\"#E88471\",\"line\":{\"color\":\"black\",\"width\":1},\"opacity\":0.5,\"size\":12,\"symbol\":\"circle\"},\"name\":\"IDBA-UD\",\"opacity\":0.6,\"showlegend\":false,\"type\":\"scatter\",\"x\":[74],\"xaxis\":\"x8\",\"y\":[0.9805177322181272],\"yaxis\":\"y8\"},{\"marker\":{\"color\":\"#E88471\",\"line\":{\"color\":\"black\",\"width\":1},\"opacity\":0.5,\"size\":12,\"symbol\":\"square\"},\"name\":\"IDBA-UD\",\"opacity\":0.6,\"showlegend\":false,\"type\":\"scatter\",\"x\":[72],\"xaxis\":\"x8\",\"y\":[0.9789331979785052],\"yaxis\":\"y8\"},{\"marker\":{\"color\":\"#E88471\",\"line\":{\"color\":\"black\",\"width\":1},\"opacity\":0.5,\"size\":12,\"symbol\":\"diamond\"},\"name\":\"IDBA-UD\",\"opacity\":0.6,\"showlegend\":false,\"type\":\"scatter\",\"x\":[174],\"xaxis\":\"x8\",\"y\":[0.980085920890988],\"yaxis\":\"y8\"},{\"marker\":{\"color\":\"#E88471\",\"line\":{\"color\":\"black\",\"width\":1},\"opacity\":0.5,\"size\":12,\"symbol\":\"circle\"},\"name\":\"IDBA-UD\",\"opacity\":0.6,\"showlegend\":false,\"type\":\"scatter\",\"x\":[74],\"xaxis\":\"x8\",\"y\":[0.9805177322181272],\"yaxis\":\"y8\"},{\"marker\":{\"color\":\"#E88471\",\"line\":{\"color\":\"black\",\"width\":1},\"opacity\":0.5,\"size\":12,\"symbol\":\"square\"},\"name\":\"IDBA-UD\",\"opacity\":0.6,\"showlegend\":false,\"type\":\"scatter\",\"x\":[72],\"xaxis\":\"x8\",\"y\":[0.9789331979785052],\"yaxis\":\"y8\"},{\"marker\":{\"color\":\"#E88471\",\"line\":{\"color\":\"black\",\"width\":1},\"opacity\":0.5,\"size\":12,\"symbol\":\"diamond\"},\"name\":\"IDBA-UD\",\"opacity\":0.6,\"showlegend\":false,\"type\":\"scatter\",\"x\":[174],\"xaxis\":\"x8\",\"y\":[0.980085920890988],\"yaxis\":\"y8\"},{\"marker\":{\"color\":\"#a54765\",\"line\":{\"color\":\"black\",\"width\":1},\"opacity\":0.5,\"size\":12,\"symbol\":\"circle\"},\"name\":\"GATBMiniaPipeline\",\"opacity\":0.6,\"showlegend\":false,\"type\":\"scatter\",\"x\":[65],\"xaxis\":\"x8\",\"y\":[0.9823064021362524],\"yaxis\":\"y8\"},{\"marker\":{\"color\":\"#a54765\",\"line\":{\"color\":\"black\",\"width\":1},\"opacity\":0.5,\"size\":12,\"symbol\":\"square\"},\"name\":\"GATBMiniaPipeline\",\"opacity\":0.6,\"showlegend\":false,\"type\":\"scatter\",\"x\":[41],\"xaxis\":\"x8\",\"y\":[0.9853886669756288],\"yaxis\":\"y8\"},{\"marker\":{\"color\":\"#a54765\",\"line\":{\"color\":\"black\",\"width\":1},\"opacity\":0.5,\"size\":12,\"symbol\":\"diamond\"},\"name\":\"GATBMiniaPipeline\",\"opacity\":0.6,\"showlegend\":false,\"type\":\"scatter\",\"x\":[53],\"xaxis\":\"x8\",\"y\":[0.9844165397715152],\"yaxis\":\"y8\"},{\"marker\":{\"color\":\"#a54765\",\"line\":{\"color\":\"black\",\"width\":1},\"opacity\":0.5,\"size\":12,\"symbol\":\"circle\"},\"name\":\"GATBMiniaPipeline\",\"opacity\":0.6,\"showlegend\":false,\"type\":\"scatter\",\"x\":[65],\"xaxis\":\"x8\",\"y\":[0.9823064021362524],\"yaxis\":\"y8\"},{\"marker\":{\"color\":\"#a54765\",\"line\":{\"color\":\"black\",\"width\":1},\"opacity\":0.5,\"size\":12,\"symbol\":\"square\"},\"name\":\"GATBMiniaPipeline\",\"opacity\":0.6,\"showlegend\":false,\"type\":\"scatter\",\"x\":[41],\"xaxis\":\"x8\",\"y\":[0.9853886669756288],\"yaxis\":\"y8\"},{\"marker\":{\"color\":\"#a54765\",\"line\":{\"color\":\"black\",\"width\":1},\"opacity\":0.5,\"size\":12,\"symbol\":\"diamond\"},\"name\":\"GATBMiniaPipeline\",\"opacity\":0.6,\"showlegend\":false,\"type\":\"scatter\",\"x\":[53],\"xaxis\":\"x8\",\"y\":[0.984420585703882],\"yaxis\":\"y8\"},{\"marker\":{\"color\":\"#a54765\",\"line\":{\"color\":\"black\",\"width\":1},\"opacity\":0.5,\"size\":12,\"symbol\":\"circle\"},\"name\":\"GATBMiniaPipeline\",\"opacity\":0.6,\"showlegend\":false,\"type\":\"scatter\",\"x\":[65],\"xaxis\":\"x8\",\"y\":[0.9823064021362524],\"yaxis\":\"y8\"},{\"marker\":{\"color\":\"#a54765\",\"line\":{\"color\":\"black\",\"width\":1},\"opacity\":0.5,\"size\":12,\"symbol\":\"square\"},\"name\":\"GATBMiniaPipeline\",\"opacity\":0.6,\"showlegend\":false,\"type\":\"scatter\",\"x\":[41],\"xaxis\":\"x8\",\"y\":[0.9853886669756288],\"yaxis\":\"y8\"},{\"marker\":{\"color\":\"#a54765\",\"line\":{\"color\":\"black\",\"width\":1},\"opacity\":0.5,\"size\":12,\"symbol\":\"diamond\"},\"name\":\"GATBMiniaPipeline\",\"opacity\":0.6,\"showlegend\":false,\"type\":\"scatter\",\"x\":[53],\"xaxis\":\"x8\",\"y\":[0.9844165397715152],\"yaxis\":\"y8\"},{\"legendgroup\":\"Assemblers\",\"legendgrouptitle\":{\"text\":\"Assembler\"},\"marker\":{\"color\":\"#5876c8\"},\"name\":\"Unicycler\",\"showlegend\":true,\"type\":\"bar\",\"x\":[22]},{\"legendgroup\":\"Assemblers\",\"legendgrouptitle\":{\"text\":\"Assembler\"},\"marker\":{\"color\":\"#58AEC8\"},\"name\":\"SPAdes\",\"showlegend\":true,\"type\":\"bar\",\"x\":[22]},{\"legendgroup\":\"Assemblers\",\"legendgrouptitle\":{\"text\":\"Assembler\"},\"marker\":{\"color\":\"#39B185\"},\"name\":\"SKESA\",\"showlegend\":true,\"type\":\"bar\",\"x\":[22]},{\"legendgroup\":\"Assemblers\",\"legendgrouptitle\":{\"text\":\"Assembler\"},\"marker\":{\"color\":\"#9CCB86\"},\"name\":\"metaSPAdes\",\"showlegend\":true,\"type\":\"bar\",\"x\":[22]},{\"legendgroup\":\"Assemblers\",\"legendgrouptitle\":{\"text\":\"Assembler\"},\"marker\":{\"color\":\"#EEB479\"},\"name\":\"MEGAHIT\",\"showlegend\":true,\"type\":\"bar\",\"x\":[22]},{\"legendgroup\":\"Assemblers\",\"legendgrouptitle\":{\"text\":\"Assembler\"},\"marker\":{\"color\":\"#E88471\"},\"name\":\"IDBA-UD\",\"showlegend\":true,\"type\":\"bar\",\"x\":[22]},{\"legendgroup\":\"Assemblers\",\"legendgrouptitle\":{\"text\":\"Assembler\"},\"marker\":{\"color\":\"#a54765\"},\"name\":\"GATBMiniaPipeline\",\"showlegend\":true,\"type\":\"bar\",\"x\":[22]},{\"legendgroup\":\"Samples\",\"legendgrouptitle\":{\"text\":\"Sample\"},\"marker\":{\"color\":\"black\",\"size\":12,\"symbol\":\"circle\"},\"mode\":\"markers\",\"name\":\"ENN\",\"showlegend\":true,\"type\":\"scatter\",\"x\":[22]},{\"legendgroup\":\"Samples\",\"legendgrouptitle\":{\"text\":\"Sample\"},\"marker\":{\"color\":\"black\",\"size\":12,\"symbol\":\"square\"},\"mode\":\"markers\",\"name\":\"EMS\",\"showlegend\":true,\"type\":\"scatter\",\"x\":[22]},{\"legendgroup\":\"Samples\",\"legendgrouptitle\":{\"text\":\"Sample\"},\"marker\":{\"color\":\"black\",\"size\":12,\"symbol\":\"diamond\"},\"mode\":\"markers\",\"name\":\"ERR2984773\",\"showlegend\":true,\"type\":\"scatter\",\"x\":[22]}],                        {\"annotations\":[{\"font\":{\"size\":18},\"showarrow\":false,\"text\":\"<i>Bacillus subtilis</i>\",\"x\":0.225,\"xanchor\":\"center\",\"xref\":\"paper\",\"y\":1.0,\"yanchor\":\"bottom\",\"yref\":\"paper\"},{\"font\":{\"size\":18},\"showarrow\":false,\"text\":\"<i>Enterococcus faecalis</i>\",\"x\":0.775,\"xanchor\":\"center\",\"xref\":\"paper\",\"y\":1.0,\"yanchor\":\"bottom\",\"yref\":\"paper\"},{\"font\":{\"size\":18},\"showarrow\":false,\"text\":\"<i>Escherichia coli</i>\",\"x\":0.225,\"xanchor\":\"center\",\"xref\":\"paper\",\"y\":0.71875,\"yanchor\":\"bottom\",\"yref\":\"paper\"},{\"font\":{\"size\":18},\"showarrow\":false,\"text\":\"<i>Lactobacillus fermentum</i>\",\"x\":0.775,\"xanchor\":\"center\",\"xref\":\"paper\",\"y\":0.71875,\"yanchor\":\"bottom\",\"yref\":\"paper\"},{\"font\":{\"size\":18},\"showarrow\":false,\"text\":\"<i>Listeria monocytogenes</i>\",\"x\":0.225,\"xanchor\":\"center\",\"xref\":\"paper\",\"y\":0.4375,\"yanchor\":\"bottom\",\"yref\":\"paper\"},{\"font\":{\"size\":18},\"showarrow\":false,\"text\":\"<i>Pseudomonas aeruginosa</i>\",\"x\":0.775,\"xanchor\":\"center\",\"xref\":\"paper\",\"y\":0.4375,\"yanchor\":\"bottom\",\"yref\":\"paper\"},{\"font\":{\"size\":18},\"showarrow\":false,\"text\":\"<i>Salmonella enterica</i>\",\"x\":0.225,\"xanchor\":\"center\",\"xref\":\"paper\",\"y\":0.15625,\"yanchor\":\"bottom\",\"yref\":\"paper\"},{\"font\":{\"size\":18},\"showarrow\":false,\"text\":\"<i>Staphylococcus aureus</i>\",\"x\":0.775,\"xanchor\":\"center\",\"xref\":\"paper\",\"y\":0.15625,\"yanchor\":\"bottom\",\"yref\":\"paper\"},{\"font\":{\"size\":18},\"showarrow\":false,\"text\":\"<b>Contigs\",\"x\":0.5,\"xanchor\":\"center\",\"xref\":\"paper\",\"y\":0,\"yanchor\":\"top\",\"yref\":\"paper\",\"yshift\":-30},{\"font\":{\"size\":18},\"showarrow\":false,\"text\":\"<b>Breadth of Coverage\",\"textangle\":-90,\"x\":0,\"xanchor\":\"right\",\"xref\":\"paper\",\"xshift\":-40,\"y\":0.5,\"yanchor\":\"middle\",\"yref\":\"paper\"}],\"font\":{\"size\":18},\"plot_bgcolor\":\"rgb(255,255,255)\",\"template\":{\"data\":{\"bar\":[{\"error_x\":{\"color\":\"#2a3f5f\"},\"error_y\":{\"color\":\"#2a3f5f\"},\"marker\":{\"line\":{\"color\":\"#E5ECF6\",\"width\":0.5},\"pattern\":{\"fillmode\":\"overlay\",\"size\":10,\"solidity\":0.2}},\"type\":\"bar\"}],\"barpolar\":[{\"marker\":{\"line\":{\"color\":\"#E5ECF6\",\"width\":0.5},\"pattern\":{\"fillmode\":\"overlay\",\"size\":10,\"solidity\":0.2}},\"type\":\"barpolar\"}],\"carpet\":[{\"aaxis\":{\"endlinecolor\":\"#2a3f5f\",\"gridcolor\":\"white\",\"linecolor\":\"white\",\"minorgridcolor\":\"white\",\"startlinecolor\":\"#2a3f5f\"},\"baxis\":{\"endlinecolor\":\"#2a3f5f\",\"gridcolor\":\"white\",\"linecolor\":\"white\",\"minorgridcolor\":\"white\",\"startlinecolor\":\"#2a3f5f\"},\"type\":\"carpet\"}],\"choropleth\":[{\"colorbar\":{\"outlinewidth\":0,\"ticks\":\"\"},\"type\":\"choropleth\"}],\"contour\":[{\"colorbar\":{\"outlinewidth\":0,\"ticks\":\"\"},\"colorscale\":[[0.0,\"#0d0887\"],[0.1111111111111111,\"#46039f\"],[0.2222222222222222,\"#7201a8\"],[0.3333333333333333,\"#9c179e\"],[0.4444444444444444,\"#bd3786\"],[0.5555555555555556,\"#d8576b\"],[0.6666666666666666,\"#ed7953\"],[0.7777777777777778,\"#fb9f3a\"],[0.8888888888888888,\"#fdca26\"],[1.0,\"#f0f921\"]],\"type\":\"contour\"}],\"contourcarpet\":[{\"colorbar\":{\"outlinewidth\":0,\"ticks\":\"\"},\"type\":\"contourcarpet\"}],\"heatmap\":[{\"colorbar\":{\"outlinewidth\":0,\"ticks\":\"\"},\"colorscale\":[[0.0,\"#0d0887\"],[0.1111111111111111,\"#46039f\"],[0.2222222222222222,\"#7201a8\"],[0.3333333333333333,\"#9c179e\"],[0.4444444444444444,\"#bd3786\"],[0.5555555555555556,\"#d8576b\"],[0.6666666666666666,\"#ed7953\"],[0.7777777777777778,\"#fb9f3a\"],[0.8888888888888888,\"#fdca26\"],[1.0,\"#f0f921\"]],\"type\":\"heatmap\"}],\"heatmapgl\":[{\"colorbar\":{\"outlinewidth\":0,\"ticks\":\"\"},\"colorscale\":[[0.0,\"#0d0887\"],[0.1111111111111111,\"#46039f\"],[0.2222222222222222,\"#7201a8\"],[0.3333333333333333,\"#9c179e\"],[0.4444444444444444,\"#bd3786\"],[0.5555555555555556,\"#d8576b\"],[0.6666666666666666,\"#ed7953\"],[0.7777777777777778,\"#fb9f3a\"],[0.8888888888888888,\"#fdca26\"],[1.0,\"#f0f921\"]],\"type\":\"heatmapgl\"}],\"histogram\":[{\"marker\":{\"pattern\":{\"fillmode\":\"overlay\",\"size\":10,\"solidity\":0.2}},\"type\":\"histogram\"}],\"histogram2d\":[{\"colorbar\":{\"outlinewidth\":0,\"ticks\":\"\"},\"colorscale\":[[0.0,\"#0d0887\"],[0.1111111111111111,\"#46039f\"],[0.2222222222222222,\"#7201a8\"],[0.3333333333333333,\"#9c179e\"],[0.4444444444444444,\"#bd3786\"],[0.5555555555555556,\"#d8576b\"],[0.6666666666666666,\"#ed7953\"],[0.7777777777777778,\"#fb9f3a\"],[0.8888888888888888,\"#fdca26\"],[1.0,\"#f0f921\"]],\"type\":\"histogram2d\"}],\"histogram2dcontour\":[{\"colorbar\":{\"outlinewidth\":0,\"ticks\":\"\"},\"colorscale\":[[0.0,\"#0d0887\"],[0.1111111111111111,\"#46039f\"],[0.2222222222222222,\"#7201a8\"],[0.3333333333333333,\"#9c179e\"],[0.4444444444444444,\"#bd3786\"],[0.5555555555555556,\"#d8576b\"],[0.6666666666666666,\"#ed7953\"],[0.7777777777777778,\"#fb9f3a\"],[0.8888888888888888,\"#fdca26\"],[1.0,\"#f0f921\"]],\"type\":\"histogram2dcontour\"}],\"mesh3d\":[{\"colorbar\":{\"outlinewidth\":0,\"ticks\":\"\"},\"type\":\"mesh3d\"}],\"parcoords\":[{\"line\":{\"colorbar\":{\"outlinewidth\":0,\"ticks\":\"\"}},\"type\":\"parcoords\"}],\"pie\":[{\"automargin\":true,\"type\":\"pie\"}],\"scatter\":[{\"marker\":{\"colorbar\":{\"outlinewidth\":0,\"ticks\":\"\"}},\"type\":\"scatter\"}],\"scatter3d\":[{\"line\":{\"colorbar\":{\"outlinewidth\":0,\"ticks\":\"\"}},\"marker\":{\"colorbar\":{\"outlinewidth\":0,\"ticks\":\"\"}},\"type\":\"scatter3d\"}],\"scattercarpet\":[{\"marker\":{\"colorbar\":{\"outlinewidth\":0,\"ticks\":\"\"}},\"type\":\"scattercarpet\"}],\"scattergeo\":[{\"marker\":{\"colorbar\":{\"outlinewidth\":0,\"ticks\":\"\"}},\"type\":\"scattergeo\"}],\"scattergl\":[{\"marker\":{\"colorbar\":{\"outlinewidth\":0,\"ticks\":\"\"}},\"type\":\"scattergl\"}],\"scattermapbox\":[{\"marker\":{\"colorbar\":{\"outlinewidth\":0,\"ticks\":\"\"}},\"type\":\"scattermapbox\"}],\"scatterpolar\":[{\"marker\":{\"colorbar\":{\"outlinewidth\":0,\"ticks\":\"\"}},\"type\":\"scatterpolar\"}],\"scatterpolargl\":[{\"marker\":{\"colorbar\":{\"outlinewidth\":0,\"ticks\":\"\"}},\"type\":\"scatterpolargl\"}],\"scatterternary\":[{\"marker\":{\"colorbar\":{\"outlinewidth\":0,\"ticks\":\"\"}},\"type\":\"scatterternary\"}],\"surface\":[{\"colorbar\":{\"outlinewidth\":0,\"ticks\":\"\"},\"colorscale\":[[0.0,\"#0d0887\"],[0.1111111111111111,\"#46039f\"],[0.2222222222222222,\"#7201a8\"],[0.3333333333333333,\"#9c179e\"],[0.4444444444444444,\"#bd3786\"],[0.5555555555555556,\"#d8576b\"],[0.6666666666666666,\"#ed7953\"],[0.7777777777777778,\"#fb9f3a\"],[0.8888888888888888,\"#fdca26\"],[1.0,\"#f0f921\"]],\"type\":\"surface\"}],\"table\":[{\"cells\":{\"fill\":{\"color\":\"#EBF0F8\"},\"line\":{\"color\":\"white\"}},\"header\":{\"fill\":{\"color\":\"#C8D4E3\"},\"line\":{\"color\":\"white\"}},\"type\":\"table\"}]},\"layout\":{\"annotationdefaults\":{\"arrowcolor\":\"#2a3f5f\",\"arrowhead\":0,\"arrowwidth\":1},\"autotypenumbers\":\"strict\",\"coloraxis\":{\"colorbar\":{\"outlinewidth\":0,\"ticks\":\"\"}},\"colorscale\":{\"diverging\":[[0,\"#8e0152\"],[0.1,\"#c51b7d\"],[0.2,\"#de77ae\"],[0.3,\"#f1b6da\"],[0.4,\"#fde0ef\"],[0.5,\"#f7f7f7\"],[0.6,\"#e6f5d0\"],[0.7,\"#b8e186\"],[0.8,\"#7fbc41\"],[0.9,\"#4d9221\"],[1,\"#276419\"]],\"sequential\":[[0.0,\"#0d0887\"],[0.1111111111111111,\"#46039f\"],[0.2222222222222222,\"#7201a8\"],[0.3333333333333333,\"#9c179e\"],[0.4444444444444444,\"#bd3786\"],[0.5555555555555556,\"#d8576b\"],[0.6666666666666666,\"#ed7953\"],[0.7777777777777778,\"#fb9f3a\"],[0.8888888888888888,\"#fdca26\"],[1.0,\"#f0f921\"]],\"sequentialminus\":[[0.0,\"#0d0887\"],[0.1111111111111111,\"#46039f\"],[0.2222222222222222,\"#7201a8\"],[0.3333333333333333,\"#9c179e\"],[0.4444444444444444,\"#bd3786\"],[0.5555555555555556,\"#d8576b\"],[0.6666666666666666,\"#ed7953\"],[0.7777777777777778,\"#fb9f3a\"],[0.8888888888888888,\"#fdca26\"],[1.0,\"#f0f921\"]]},\"colorway\":[\"#636efa\",\"#EF553B\",\"#00cc96\",\"#ab63fa\",\"#FFA15A\",\"#19d3f3\",\"#FF6692\",\"#B6E880\",\"#FF97FF\",\"#FECB52\"],\"font\":{\"color\":\"#2a3f5f\"},\"geo\":{\"bgcolor\":\"white\",\"lakecolor\":\"white\",\"landcolor\":\"#E5ECF6\",\"showlakes\":true,\"showland\":true,\"subunitcolor\":\"white\"},\"hoverlabel\":{\"align\":\"left\"},\"hovermode\":\"closest\",\"mapbox\":{\"style\":\"light\"},\"paper_bgcolor\":\"white\",\"plot_bgcolor\":\"#E5ECF6\",\"polar\":{\"angularaxis\":{\"gridcolor\":\"white\",\"linecolor\":\"white\",\"ticks\":\"\"},\"bgcolor\":\"#E5ECF6\",\"radialaxis\":{\"gridcolor\":\"white\",\"linecolor\":\"white\",\"ticks\":\"\"}},\"scene\":{\"xaxis\":{\"backgroundcolor\":\"#E5ECF6\",\"gridcolor\":\"white\",\"gridwidth\":2,\"linecolor\":\"white\",\"showbackground\":true,\"ticks\":\"\",\"zerolinecolor\":\"white\"},\"yaxis\":{\"backgroundcolor\":\"#E5ECF6\",\"gridcolor\":\"white\",\"gridwidth\":2,\"linecolor\":\"white\",\"showbackground\":true,\"ticks\":\"\",\"zerolinecolor\":\"white\"},\"zaxis\":{\"backgroundcolor\":\"#E5ECF6\",\"gridcolor\":\"white\",\"gridwidth\":2,\"linecolor\":\"white\",\"showbackground\":true,\"ticks\":\"\",\"zerolinecolor\":\"white\"}},\"shapedefaults\":{\"line\":{\"color\":\"#2a3f5f\"}},\"ternary\":{\"aaxis\":{\"gridcolor\":\"white\",\"linecolor\":\"white\",\"ticks\":\"\"},\"baxis\":{\"gridcolor\":\"white\",\"linecolor\":\"white\",\"ticks\":\"\"},\"bgcolor\":\"#E5ECF6\",\"caxis\":{\"gridcolor\":\"white\",\"linecolor\":\"white\",\"ticks\":\"\"}},\"title\":{\"x\":0.05},\"xaxis\":{\"automargin\":true,\"gridcolor\":\"white\",\"linecolor\":\"white\",\"ticks\":\"\",\"title\":{\"standoff\":15},\"zerolinecolor\":\"white\",\"zerolinewidth\":2},\"yaxis\":{\"automargin\":true,\"gridcolor\":\"white\",\"linecolor\":\"white\",\"ticks\":\"\",\"title\":{\"standoff\":15},\"zerolinecolor\":\"white\",\"zerolinewidth\":2}}},\"title\":{\"text\":\"Genome fragmentation variation <br><sup>ZymoBIOMICS Microbial Community Standard bacterial reference replicons</sup><br>\",\"x\":0.5,\"xanchor\":\"center\",\"y\":0.98,\"yanchor\":\"top\"},\"xaxis\":{\"anchor\":\"y\",\"domain\":[0.0,0.45],\"gridcolor\":\"#DCDCDC\",\"linecolor\":\"#DCDCDC\",\"linewidth\":1,\"matches\":\"x7\",\"range\":[0,3],\"rangemode\":\"tozero\",\"showline\":true,\"showticklabels\":true,\"type\":\"log\"},\"xaxis2\":{\"anchor\":\"y2\",\"domain\":[0.55,1.0],\"gridcolor\":\"#DCDCDC\",\"linecolor\":\"#DCDCDC\",\"linewidth\":1,\"matches\":\"x8\",\"range\":[0,3],\"rangemode\":\"tozero\",\"showline\":true,\"showticklabels\":true,\"type\":\"log\"},\"xaxis3\":{\"anchor\":\"y3\",\"domain\":[0.0,0.45],\"gridcolor\":\"#DCDCDC\",\"linecolor\":\"#DCDCDC\",\"linewidth\":1,\"matches\":\"x7\",\"range\":[0,3],\"rangemode\":\"tozero\",\"showline\":true,\"showticklabels\":true,\"type\":\"log\"},\"xaxis4\":{\"anchor\":\"y4\",\"domain\":[0.55,1.0],\"gridcolor\":\"#DCDCDC\",\"linecolor\":\"#DCDCDC\",\"linewidth\":1,\"matches\":\"x8\",\"range\":[0,3],\"rangemode\":\"tozero\",\"showline\":true,\"showticklabels\":true,\"type\":\"log\"},\"xaxis5\":{\"anchor\":\"y5\",\"domain\":[0.0,0.45],\"gridcolor\":\"#DCDCDC\",\"linecolor\":\"#DCDCDC\",\"linewidth\":1,\"matches\":\"x7\",\"range\":[0,3],\"rangemode\":\"tozero\",\"showline\":true,\"showticklabels\":true,\"type\":\"log\"},\"xaxis6\":{\"anchor\":\"y6\",\"domain\":[0.55,1.0],\"gridcolor\":\"#DCDCDC\",\"linecolor\":\"#DCDCDC\",\"linewidth\":1,\"matches\":\"x8\",\"range\":[0,3],\"rangemode\":\"tozero\",\"showline\":true,\"showticklabels\":true,\"type\":\"log\"},\"xaxis7\":{\"anchor\":\"y7\",\"domain\":[0.0,0.45],\"gridcolor\":\"#DCDCDC\",\"linecolor\":\"#DCDCDC\",\"linewidth\":1,\"range\":[0,3],\"rangemode\":\"tozero\",\"showline\":true,\"showticklabels\":true,\"type\":\"log\"},\"xaxis8\":{\"anchor\":\"y8\",\"domain\":[0.55,1.0],\"gridcolor\":\"#DCDCDC\",\"linecolor\":\"#DCDCDC\",\"linewidth\":1,\"range\":[0,3],\"rangemode\":\"tozero\",\"showline\":true,\"showticklabels\":true,\"type\":\"log\"},\"yaxis\":{\"anchor\":\"x\",\"domain\":[0.84375,1.0],\"gridcolor\":\"#DCDCDC\",\"linecolor\":\"#DCDCDC\",\"linewidth\":1,\"range\":[0.9,1],\"showline\":true,\"showticklabels\":true},\"yaxis2\":{\"anchor\":\"x2\",\"domain\":[0.84375,1.0],\"gridcolor\":\"#DCDCDC\",\"linecolor\":\"#DCDCDC\",\"linewidth\":1,\"matches\":\"y\",\"range\":[0.9,1],\"showline\":true,\"showticklabels\":true},\"yaxis3\":{\"anchor\":\"x3\",\"domain\":[0.5625,0.71875],\"gridcolor\":\"#DCDCDC\",\"linecolor\":\"#DCDCDC\",\"linewidth\":1,\"range\":[0.9,1],\"showline\":true,\"showticklabels\":true},\"yaxis4\":{\"anchor\":\"x4\",\"domain\":[0.5625,0.71875],\"gridcolor\":\"#DCDCDC\",\"linecolor\":\"#DCDCDC\",\"linewidth\":1,\"matches\":\"y3\",\"range\":[0.9,1],\"showline\":true,\"showticklabels\":true},\"yaxis5\":{\"anchor\":\"x5\",\"domain\":[0.28125,0.4375],\"gridcolor\":\"#DCDCDC\",\"linecolor\":\"#DCDCDC\",\"linewidth\":1,\"range\":[0.9,1],\"showline\":true,\"showticklabels\":true},\"yaxis6\":{\"anchor\":\"x6\",\"domain\":[0.28125,0.4375],\"gridcolor\":\"#DCDCDC\",\"linecolor\":\"#DCDCDC\",\"linewidth\":1,\"matches\":\"y5\",\"range\":[0.9,1],\"showline\":true,\"showticklabels\":true},\"yaxis7\":{\"anchor\":\"x7\",\"domain\":[0.0,0.15625],\"gridcolor\":\"#DCDCDC\",\"linecolor\":\"#DCDCDC\",\"linewidth\":1,\"range\":[0.9,1],\"showline\":true,\"showticklabels\":true},\"yaxis8\":{\"anchor\":\"x8\",\"domain\":[0.0,0.15625],\"gridcolor\":\"#DCDCDC\",\"linecolor\":\"#DCDCDC\",\"linewidth\":1,\"matches\":\"y7\",\"range\":[0.9,1],\"showline\":true,\"showticklabels\":true}},                        {\"responsive\": true}                    ).then(function(){\n",
       "                            \n",
       "var gd = document.getElementById('f6a74650-be22-48ac-b9fd-6d2035b8a97c');\n",
       "var x = new MutationObserver(function (mutations, observer) {{\n",
       "        var display = window.getComputedStyle(gd).display;\n",
       "        if (!display || display === 'none') {{\n",
       "            console.log([gd, 'removed!']);\n",
       "            Plotly.purge(gd);\n",
       "            observer.disconnect();\n",
       "        }}\n",
       "}});\n",
       "\n",
       "// Listen for the removal of the full notebook cells\n",
       "var notebookContainer = gd.closest('#notebook-container');\n",
       "if (notebookContainer) {{\n",
       "    x.observe(notebookContainer, {childList: true});\n",
       "}}\n",
       "\n",
       "// Listen for the clearing of the current output cell\n",
       "var outputEl = gd.closest('.output');\n",
       "if (outputEl) {{\n",
       "    x.observe(outputEl, {childList: true});\n",
       "}}\n",
       "\n",
       "                        })                };                });            </script>        </div>"
      ]
     },
     "metadata": {},
     "output_type": "display_data"
    },
    {
     "data": {
      "text/plain": [
       "'Plots/Genome Fragmentation/Figure 6 - Genome fragmentation for even samples.html'"
      ]
     },
     "execution_count": 12,
     "metadata": {},
     "output_type": "execute_result"
    }
   ],
   "source": [
    "fig=make_subplots(rows=4, cols=2, subplot_titles=[x.replace('_', ' ') for x in sorted(df['Reference'].unique(), key=lambda v: v.upper(), reverse=False)],\n",
    "                 shared_yaxes=True, shared_xaxes=True, x_title=\"<b>Contigs\", y_title=\"<b>Breadth of Coverage\")\n",
    "row=1\n",
    "col=1\n",
    "\n",
    "shape_map = {\"ENN\": \"circle\",\n",
    "             \"EMS\": \"square\",\n",
    "             \"ERR2984773\": \"diamond\"}\n",
    "for reference in sorted(df['Reference'].unique()):\n",
    "    print('--' + reference)\n",
    "    i=0\n",
    "    print(row, col)\n",
    "    for assembler in sorted(df['Assembler'].unique(), key=lambda v: v.upper(), reverse=True):\n",
    "        print('---' + assembler)\n",
    "        showlegend=True if col==1 and row==1 else False\n",
    "        \n",
    "        contigs = list(df['Contigs'][(df['Assembler'] == assembler) & (df['Reference'] == reference) & (df['distribution'] == 'Even')])\n",
    "        boc = list(df['Breadth of Coverage'][(df['Assembler'] == assembler) & (df['Reference'] == reference) & (df['distribution'] == 'Even')])\n",
    "        sample = list(df['Sample'][(df['Assembler'] == assembler) & (df['Reference'] == reference) & (df['distribution'] == 'Even')])\n",
    "        run = list(df['run'][(df['Assembler'] == assembler) & (df['Reference'] == reference) & (df['distribution'] == 'Even')])\n",
    "        if contigs: #list not empty\n",
    "            for x, y, z, r in zip(contigs, boc, sample, run):\n",
    "                print(x, y, z, r)\n",
    "                fig.add_trace(go.Scatter(x=[x],\n",
    "                                         y=[y],\n",
    "                                         name=assembler, marker=dict(color=COLOURS[i], size=12, symbol=shape_map[z],opacity=0.5,\n",
    "                                                                     line=dict(color='black',width=1)), \n",
    "                                         showlegend=False, opacity=0.6),\n",
    "                              col=col, row=row)\n",
    "        i+=1\n",
    "    if row == 4:\n",
    "        row = 1\n",
    "        col += 1\n",
    "    else:\n",
    "        row += 1\n",
    "\n",
    "fig.update_layout(plot_bgcolor='rgb(255,255,255)')\n",
    "fig.update_layout(title=dict(text='Genome fragmentation variation <br><sup>ZymoBIOMICS Microbial Community Standard bacterial reference replicons</sup><br>',\n",
    "                             x=0.5,\n",
    "                             y=0.98,\n",
    "                             xanchor='center',\n",
    "                             yanchor='top'),\n",
    "                 font=dict(size=18))\n",
    "fig.update_xaxes(showline=True, linewidth=1, linecolor='#DCDCDC', gridcolor='#DCDCDC', rangemode='tozero', type='log', range=[0,3])\n",
    "fig.update_yaxes(showline=True, linewidth=1, linecolor='#DCDCDC', gridcolor='#DCDCDC', range=[0.9, 1])\n",
    "\n",
    "for i in fig['layout']['annotations']:\n",
    "    i['font']['size'] = 18\n",
    "\n",
    "fig.update_layout(xaxis_showticklabels=True, xaxis2_showticklabels=True, xaxis3_showticklabels=True, xaxis4_showticklabels=True, xaxis5_showticklabels=True,  xaxis6_showticklabels=True,  xaxis7_showticklabels=True,  xaxis8_showticklabels=True)\n",
    "fig.update_layout(yaxis_showticklabels=True, yaxis2_showticklabels=True, yaxis3_showticklabels=True, yaxis4_showticklabels=True, yaxis5_showticklabels=True,  yaxis6_showticklabels=True,  yaxis7_showticklabels=True,  yaxis8_showticklabels=True)\n",
    "\n",
    "\n",
    "# just for display purpose, create traces so that legend contains colors.  does not connect graph\n",
    "\n",
    "legend_trace = [go.Bar(name=assembler, x=[fig.data[0].x[0]], marker_color=c, showlegend=True,  legendgroup=\"Assemblers\", legendgrouptitle_text=\"Assembler\")\n",
    "        for assembler,c in zip(sorted(df['Assembler'].unique(), key=lambda v: v.upper(), reverse=True),COLOURS)]\n",
    "    \n",
    "legend_trace = legend_trace + [go.Scatter(name=sample, x=[fig.data[0].x[0]], mode=\"markers\", marker=dict(symbol=c, color=\"black\", size=12), showlegend=True, legendgroup=\"Samples\", legendgrouptitle_text=\"Sample\")\n",
    "                                for sample,c in shape_map.items()]\n",
    "    \n",
    "fig.update_traces(showlegend=False).add_traces(legend_trace)\n",
    "\n",
    "fig.show()\n",
    "plot(fig, filename='Plots/Genome Fragmentation/Figure 6 - Genome fragmentation for even samples.html', auto_open=False)"
   ]
  },
  {
   "cell_type": "code",
   "execution_count": null,
   "metadata": {},
   "outputs": [],
   "source": []
  }
 ],
 "metadata": {
  "kernelspec": {
   "display_name": "Python 3 (ipykernel)",
   "language": "python",
   "name": "python3"
  },
  "language_info": {
   "codemirror_mode": {
    "name": "ipython",
    "version": 3
   },
   "file_extension": ".py",
   "mimetype": "text/x-python",
   "name": "python",
   "nbconvert_exporter": "python",
   "pygments_lexer": "ipython3",
   "version": "3.8.12"
  }
 },
 "nbformat": 4,
 "nbformat_minor": 4
}
