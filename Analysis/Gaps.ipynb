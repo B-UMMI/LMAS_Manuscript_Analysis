{
 "cells": [
  {
   "cell_type": "markdown",
   "metadata": {},
   "source": [
    "# Assembler rubustness - gaps"
   ]
  },
  {
   "cell_type": "markdown",
   "metadata": {},
   "source": [
    "## Imports"
   ]
  },
  {
   "cell_type": "code",
   "execution_count": 1,
   "metadata": {},
   "outputs": [],
   "source": [
    "import sys\n",
    "from plotly.offline import plot\n",
    "import glob\n",
    "import fnmatch\n",
    "import plotly.graph_objects as go\n",
    "from plotly.subplots import make_subplots\n",
    "import json\n",
    "import pandas as pd\n",
    "from itertools import groupby\n",
    "import csv\n",
    "import numpy as np"
   ]
  },
  {
   "cell_type": "markdown",
   "metadata": {},
   "source": [
    "## Global variables"
   ]
  },
  {
   "cell_type": "code",
   "execution_count": 3,
   "metadata": {},
   "outputs": [],
   "source": [
    "METRICS_COLUMNS_GLOBAL = ['run','sample','assembler', 'contigs', 'basepairs', 'max_contig', 'Ns', 'n50', 'misassemblies', 'mapped_reads']\n",
    "ASSEMBLER_PROCESS_LIST = [\"BCALM2\", \"GATBMINIAPIPELINE\", \"MINIA\", \"MEGAHIT\", \"METASPADES\", \"UNICYCLER\", \"SPADES\",\n",
    "                          \"SKESA\", \"VELVETOPTIMIZER\", \"IDBA\"]\n",
    "PROCESS_TO_NAME = {\"BCALM2\": \"BCALM2\", \n",
    "                   \"GATBMINIAPIPELINE\": \"GATBMiniaPipeline\",\n",
    "                   \"MINIA\": \"MINIA\",\n",
    "                   \"MEGAHIT\": \"MEGAHIT\", \n",
    "                   \"METASPADES\": \"metaSPAdes\", \n",
    "                   \"UNICYCLER\": \"Unicycler\", \n",
    "                   \"SPADES\": \"SPAdes\",\n",
    "                    \"SKESA\": \"SKESA\",\n",
    "                   \"VELVETOPTIMIZER\": \"VelvetOptimizer\",\n",
    "                   \"IDBA\": \"IDBA-UD\"}\n",
    "log_distributed = ['LHS', 'LNN', 'ERR2935805']\n",
    "even_distribution = ['EHS', 'LNN', 'ERR2984773']"
   ]
  },
  {
   "cell_type": "markdown",
   "metadata": {},
   "source": [
    "## Load data"
   ]
  },
  {
   "cell_type": "code",
   "execution_count": null,
   "metadata": {},
   "outputs": [],
   "source": [
    "contig_size_files = glob.glob('../Results/*/results/*/stats/*_df.csv')\n",
    "\n",
    "df_list = []\n",
    "for f in contig_size_files:\n",
    "    run = f.split('/')[-5]\n",
    "    df = pd.read_csv(f)\n",
    "    df['run'] = run\n",
    "    df_list.append(df)\n",
    "\n",
    "contig_size_df = pd.concat(df_list)\n",
    "contig_size_df['distribution'] = np.where(contig_size_df['Sample'].isin(log_distributed), 'Log', 'Even')\n",
    "\n",
    "contig_size_df"
   ]
  }
 ],
 "metadata": {
  "kernelspec": {
   "display_name": "Python 3",
   "language": "python",
   "name": "python3"
  },
  "language_info": {
   "codemirror_mode": {
    "name": "ipython",
    "version": 3
   },
   "file_extension": ".py",
   "mimetype": "text/x-python",
   "name": "python",
   "nbconvert_exporter": "python",
   "pygments_lexer": "ipython3",
   "version": "3.8.6"
  }
 },
 "nbformat": 4,
 "nbformat_minor": 4
}
